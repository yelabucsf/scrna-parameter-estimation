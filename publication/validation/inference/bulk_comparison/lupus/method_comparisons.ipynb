{
 "cells": [
  {
   "cell_type": "markdown",
   "id": "fba17c8b-8a53-47d7-85b0-e64e9aa539c0",
   "metadata": {},
   "source": [
    "# Compare methods using lupus data"
   ]
  },
  {
   "cell_type": "code",
   "execution_count": 2,
   "id": "393a9dde-7e6f-4d49-9fbf-66e7684724cf",
   "metadata": {
    "tags": []
   },
   "outputs": [],
   "source": [
    "import pandas as pd\n",
    "import matplotlib.pyplot as plt\n",
    "import seaborn as sns\n",
    "import functools\n",
    "import numpy as np\n",
    "import scanpy as sc"
   ]
  },
  {
   "cell_type": "code",
   "execution_count": 3,
   "id": "767b6f6e-cc37-45c7-8868-08f6bf8afa7b",
   "metadata": {
    "tags": []
   },
   "outputs": [],
   "source": [
    "data_path = '/data_volume/bulkrna/lupus/'"
   ]
  },
  {
   "cell_type": "code",
   "execution_count": 4,
   "id": "811b4d06-0897-496b-b136-ad32032d469c",
   "metadata": {
    "tags": []
   },
   "outputs": [],
   "source": [
    "import matplotlib as mpl\n",
    "mpl.rcParams['pdf.fonttype'] = 42\n",
    "mpl.rcParams['ps.fonttype'] = 42\n",
    "plt.rcParams[\"axes.prop_cycle\"] = plt.cycler(\"color\", ['turquoise', 'slategrey', 'silver'])\n",
    "\n",
    "import matplotlib.pylab as pylab\n",
    "params = {'legend.fontsize': 'medium',\n",
    "         'axes.labelsize': 'medium',\n",
    "         'axes.titlesize':'medium',\n",
    "         'figure.titlesize':'medium',\n",
    "         'xtick.labelsize':'medium',\n",
    "         'ytick.labelsize':'medium'}\n",
    "pylab.rcParams.update(params)"
   ]
  },
  {
   "cell_type": "code",
   "execution_count": 5,
   "id": "0c03fc13-ff5d-49c7-842e-20dc95cebe00",
   "metadata": {
    "tags": []
   },
   "outputs": [],
   "source": [
    "pal = [(64/255,224/255,208/255)]+sns.color_palette(\"Greys\", 10)[4:]"
   ]
  },
  {
   "cell_type": "markdown",
   "id": "d6731eb1-461a-4269-96ec-e06ef9694d89",
   "metadata": {},
   "source": [
    "### Compute the concordance curve"
   ]
  },
  {
   "cell_type": "code",
   "execution_count": 6,
   "id": "5ac7d1ae-caa7-4e11-bc5f-72c85012fd3e",
   "metadata": {
    "tags": []
   },
   "outputs": [],
   "source": [
    "def concordance_curve(ref1, ref2, ref3, ref4, x, k=300):\n",
    "    overlap = []\n",
    "    for i in range(1, k+1):\n",
    "        \n",
    "        a = len(set(x[:i]) & set(ref1[:i]))\n",
    "        b = len(set(x[:i]) & set(ref2[:i]))\n",
    "        c = len(set(x[:i]) & set(ref3[:i]))\n",
    "        d = len(set(x[:i]) & set(ref4[:i]))\n",
    "        overlap.append((a+b+c+d)/4)\n",
    "        \n",
    "    return np.arange(1, k+1), np.array(overlap)"
   ]
  },
  {
   "cell_type": "code",
   "execution_count": 7,
   "id": "a099f667-3998-418a-9765-0c178099dc60",
   "metadata": {
    "tags": []
   },
   "outputs": [],
   "source": [
    "def concordance_curve(ref1, ref2, ref3, ref4, x, k=300):\n",
    "    overlap = []\n",
    "    for i in range(1, k+1):\n",
    "        \n",
    "        a = len(set(x[:i]) & set(ref1[:i]))\n",
    "        b = len(set(x[:i]) & set(ref2[:i]))\n",
    "        c = len(set(x[:i]) & set(ref3[:i]))\n",
    "        d = len(set(x[:i]) & set(ref4[:i]))\n",
    "        overlap.append((a+b+c+d)/4)\n",
    "        \n",
    "    return np.arange(1, k+1), np.array(overlap)\n",
    "\n",
    "def concordance_auc(ref1, ref2, ref3, ref4, x, k=100):\n",
    "    count = 0\n",
    "    for i in range(1, k+1):\n",
    "        \n",
    "        a = len(set(x[:i]) & set(ref1[:i]))\n",
    "        b = len(set(x[:i]) & set(ref2[:i]))\n",
    "        c = len(set(x[:i]) & set(ref3[:i]))\n",
    "        d = len(set(x[:i]) & set(ref4[:i]))\n",
    "        count += (a+b+c+d)/4\n",
    "        \n",
    "    return count / (k*(k+1)/2)"
   ]
  },
  {
   "cell_type": "markdown",
   "id": "8401fc7f-d6f3-4d75-b4a0-c8400021427c",
   "metadata": {},
   "source": [
    "### Read results with repeated trials"
   ]
  },
  {
   "cell_type": "code",
   "execution_count": null,
   "id": "a457a45d-646e-4dba-be03-bbc647ef0a8d",
   "metadata": {
    "tags": []
   },
   "outputs": [],
   "source": [
    "all_results = []\n",
    "num_cells = 100\n",
    "for trial in range(50):        \n",
    "    name_paths = [\n",
    "        ('bulk_edger_lrt','T4_vs_cM.bulk.edger_lrt.{}.{}.csv'.format(numcells, trial), ['logFC','PValue', 'FDR']), \n",
    "        ('bulk_edger_qlft','T4_vs_cM.bulk.edger_qlft.{}.{}.csv'.format(numcells, trial), ['logFC','PValue', 'FDR']),\n",
    "        ('bulk_deseq2_wald', 'T4_vs_cM.bulk.deseq2_wald.{}.{}.csv'.format(numcells, trial), ['log2FoldChange','pvalue', 'padj']),\n",
    "        ('bulk_deseq2_lrt', 'T4_vs_cM.bulk.deseq2_lrt.{}.{}.csv'.format(numcells, trial), ['log2FoldChange','pvalue', 'padj']),\n",
    "        ('edgeR','T4_vs_cM.pseudobulk.edger_lrt.{}.{}.csv'.format(numcells, trial), ['logFC','PValue', 'FDR']),\n",
    "        # ('edgeR_qlft','T4_vs_cM.pseudobulk.edger_qlft.{}.{}.csv'.format(numcells, trial), ['logFC','PValue', 'FDR']),\n",
    "\n",
    "        ('DESeq2','T4_vs_cM.pseudobulk.deseq2_wald.{}.{}.csv'.format(numcells, trial), ['log2FoldChange','pvalue', 'padj']),\n",
    "        ('t-test','{}_{}_t.csv'.format(numcells, trial), ['logFC','PValue', 'FDR']),\n",
    "        ('MWU','{}_{}_mwu.csv'.format(numcells, trial), ['logFC','PValue', 'FDR']),\n",
    "        # ('MAST','T4_vs_cM.sc.MAST.{}.{}.csv'.format(numcells, trial), ['coef','Pr(>Chisq)', 'fdr']),\n",
    "        ('quasiGLM', '{}_{}_quasiGLM.csv'.format(numcells, trial), ['coef','pval', 'fdr']),\n",
    "        ('quasiML', '{}_{}_quasiML.csv'.format(numcells, trial), ['coef', 'pval', 'fdr'])\n",
    "    ]\n",
    "    results = [pd.read_csv(data_path + path, index_col=0)[cols].rename(columns=dict(zip(cols,['logFC','PValue', 'FDR'])))  for name, path, cols in name_paths]\n",
    "    gene_lists = [set(res.index) for res in results]\n",
    "    genes = list(functools.reduce(lambda x,y: x & y, gene_lists))\n",
    "    results = [res.loc[genes].sort_values('FDR') for res in results]\n",
    "\n",
    "    scores = [\n",
    "        (name_paths[idx+4][0].replace('_', '\\n'), numcells, trial, concordance_auc(\n",
    "            results[0].index, \n",
    "            results[1].index, \n",
    "            results[2].index,\n",
    "            results[3].index,\n",
    "            res.index)) for idx, res in enumerate(results[4:])]\n",
    "    all_results+=scores\n",
    "\n",
    "    curves = [\n",
    "        concordance_curve(\n",
    "            results[0].index, \n",
    "            results[1].index, \n",
    "            results[2].index,\n",
    "            results[3].index,\n",
    "            res.index) for res in results[4:]]"
   ]
  },
  {
   "cell_type": "code",
   "execution_count": 20,
   "id": "3426ed67-cba5-4345-901d-7feaab7ba9c5",
   "metadata": {
    "tags": []
   },
   "outputs": [],
   "source": [
    "df = pd.DataFrame(all_results, columns=['name', 'numcells','trials', 'auc'])"
   ]
  },
  {
   "cell_type": "code",
   "execution_count": 21,
   "id": "b0fe2b10-e77b-4ae7-8c6f-d664ba1a2ed3",
   "metadata": {
    "tags": []
   },
   "outputs": [
    {
     "name": "stderr",
     "output_type": "stream",
     "text": [
      "/tmp/ipykernel_260543/2069574887.py:2: FutureWarning: \n",
      "\n",
      "Passing `palette` without assigning `hue` is deprecated and will be removed in v0.14.0. Assign the `y` variable to `hue` and set `legend=False` for the same effect.\n",
      "\n",
      "  sns.boxplot(\n",
      "/tmp/ipykernel_260543/2069574887.py:2: UserWarning: The palette list has more values (7) than needed (5), which may not be intended.\n",
      "  sns.boxplot(\n",
      "/tmp/ipykernel_260543/2069574887.py:15: FutureWarning: \n",
      "\n",
      "Passing `palette` without assigning `hue` is deprecated and will be removed in v0.14.0. Assign the `y` variable to `hue` and set `legend=False` for the same effect.\n",
      "\n",
      "  sns.stripplot(\n",
      "/tmp/ipykernel_260543/2069574887.py:15: UserWarning: The palette list has more values (7) than needed (5), which may not be intended.\n",
      "  sns.stripplot(\n"
     ]
    },
    {
     "data": {
      "text/plain": [
       "Text(0, 0.5, '')"
      ]
     },
     "execution_count": 21,
     "metadata": {},
     "output_type": "execute_result"
    },
    {
     "data": {
      "image/png": "[encoded data removed]",
      "text/plain": [
       "<Figure size 250x200 with 1 Axes>"
      ]
     },
     "metadata": {},
     "output_type": "display_data"
    }
   ],
   "source": [
    "plt.figure(figsize=(2.5,2))\n",
    "sns.boxplot(\n",
    "    y='name',\n",
    "    x='auc', \n",
    "    data=df, \n",
    "    order=[\n",
    "        'quasiML',\n",
    "        'edgeR',\n",
    "        'DESeq2',\n",
    "        # 'MAST',\n",
    "        'MWU',\n",
    "        't-test',],\n",
    "    fliersize=0,\n",
    "    palette=pal)\n",
    "sns.stripplot(\n",
    "    y='name',\n",
    "    x='auc', \n",
    "    data=df, \n",
    "    order=[\n",
    "        'quasiML',\n",
    "        'edgeR',\n",
    "        'DESeq2',\n",
    "        # 'MAST',\n",
    "        'MWU',\n",
    "        't-test',],\n",
    "    linewidth=1,\n",
    "    palette=pal)\n",
    "plt.xlabel('Concordance to \\nbulk RNA-seq')\n",
    "plt.ylabel('')\n",
    "# plt.savefig('lupus_bulk_comparison.pdf', bbox_inches='tight')"
   ]
  },
  {
   "cell_type": "code",
   "execution_count": null,
   "id": "b83596bf-412a-4d79-8bb1-a76d7ea3905e",
   "metadata": {},
   "outputs": [],
   "source": []
  }
 ],
 "metadata": {
  "kernelspec": {
   "display_name": "Latest scanpy",
   "language": "python",
   "name": "myenv"
  },
  "language_info": {
   "codemirror_mode": {
    "name": "ipython",
    "version": 3
   },
   "file_extension": ".py",
   "mimetype": "text/x-python",
   "name": "python",
   "nbconvert_exporter": "python",
   "pygments_lexer": "ipython3",
   "version": "3.12.8"
  }
 },
 "nbformat": 4,
 "nbformat_minor": 5
}
