{
 "cells": [
  {
   "cell_type": "markdown",
   "id": "premium-share",
   "metadata": {},
   "source": [
    "# Run BASICs on simulated data\n",
    "\n",
    "For 40 genes and 10 spikes\n",
    "- 500: 77.340, 235.535\n",
    "- 1000: 149.159 451.640\n",
    "- 5000: 1398.347\n",
    "- 10000: 2433.064\n",
    "- 20000: 4021.876\n",
    "- 50000: 8715.963\n",
    "- 100000: 16965.28, 30328.91\n",
    "\n",
    "For 200 genes and 10 spikes\n",
    "- 500: 294.071, 911.659\n",
    "\n",
    "\n",
    "==scHOT==\n",
    "\n",
    "For 3 genes\n",
    "- 500: 1780.265\n",
    "- 1000: 6474.038\n",
    "- 5000: 34651.179"
   ]
  },
  {
   "cell_type": "code",
   "execution_count": 1,
   "id": "surface-taxation",
   "metadata": {},
   "outputs": [],
   "source": [
    "data_path <- \"/data_volume/memento/simulation/runtime/\"\n",
    "setwd(data_path)"
   ]
  },
  {
   "cell_type": "code",
   "execution_count": null,
   "id": "organic-chance",
   "metadata": {},
   "outputs": [],
   "source": [
    "library('BASiCS')\n",
    "library(zellkonverter)"
   ]
  },
  {
   "cell_type": "markdown",
   "id": "growing-system",
   "metadata": {},
   "source": [
    "### Time BASICS"
   ]
  },
  {
   "cell_type": "code",
   "execution_count": 3,
   "id": "vital-teddy",
   "metadata": {
    "collapsed": true,
    "jupyter": {
     "outputs_hidden": true
    },
    "tags": []
   },
   "outputs": [
    {
     "name": "stdout",
     "output_type": "stream",
     "text": [
      "[1] 1000\n"
     ]
    },
    {
     "name": "stderr",
     "output_type": "stream",
     "text": [
      "Warning message:\n",
      "“'newBASiCS_Data' is deprecated.\n",
      "See help(\"Deprecated\")”\n",
      "\n",
      "NOTICE: BASiCS requires a pre-filtered dataset \n",
      "    - You must remove poor quality cells before hand \n",
      "    - We recommend to pre-filter lowly expressed transcripts. \n",
      "      Inclusion criteria may vary for each data. \n",
      "      For example, remove transcripts: \n",
      "          - with low total counts across of all of the cells \n",
      "          - that are only expressed in a few cells \n",
      "            (genes expressed in only 1 cell are not accepted) \n",
      "\n",
      " BASiCS_Filter can be used for this purpose. \n",
      "\n",
      "\n",
      "Running no spikes BASiCS sampler (regression case) ... \n",
      "\n",
      "\n"
     ]
    },
    {
     "name": "stdout",
     "output_type": "stream",
     "text": [
      "-----------------------------------------------------\n",
      "MCMC sampler has been started: 20000 iterations to go.\n",
      "-----------------------------------------------------\n",
      "-----------------------------------------------------\n",
      "End of Burn-in period.\n",
      "-----------------------------------------------------\n",
      " \n",
      "-----------------------------------------------------\n",
      "-----------------------------------------------------\n",
      "All 20000 MCMC iterations have been completed.\n",
      "-----------------------------------------------------\n",
      "-----------------------------------------------------\n",
      " \n",
      "-----------------------------------------------------\n",
      "Please see below a summary of the overall acceptance rates.\n",
      "-----------------------------------------------------\n",
      " \n",
      "Minimum acceptance rate among mu[i]'s: 0.4031\n",
      "Average acceptance rate among mu[i]'s: 0.437373\n",
      "Maximum acceptance rate among mu[i]'s: 0.4979\n",
      " \n",
      " \n",
      "Minimum acceptance rate among delta[i]'s: 0.3897\n",
      "Average acceptance rate among delta[i]'s: 0.4465\n",
      "Maximum acceptance rate among delta[i]'s: 0.5102\n",
      " \n",
      " \n",
      "Minimum acceptance rate among nu[jk]'s: 0.2804\n",
      "Average acceptance rate among nu[jk]'s: 0.400235\n",
      "Maximum acceptance rate among nu[jk]'s: 0.5621\n",
      " \n",
      " \n",
      "Minimum acceptance rate among theta[k]'s: 0.4667\n",
      "Average acceptance rate among theta[k]'s: 0.4726\n",
      "Maximum acceptance rate among theta[k]'s: 0.4785\n",
      " \n",
      " \n",
      "-----------------------------------------------------\n",
      " \n"
     ]
    },
    {
     "name": "stderr",
     "output_type": "stream",
     "text": [
      "-------------------------------------------------------------\n",
      "MCMC running time \n",
      "-------------------------------------------------------------\n",
      "user: 428.645\n",
      "system: 401.529\n",
      "elapsed: 138.221\n",
      "\n",
      "\n",
      "-------------------------------------------------------------\n",
      "Output \n",
      "-------------------------------------------------------------\n",
      "\n",
      "\n"
     ]
    },
    {
     "name": "stdout",
     "output_type": "stream",
     "text": [
      "   user  system elapsed \n",
      "451.640 424.155 150.871 \n",
      "[1] 5000\n"
     ]
    },
    {
     "name": "stderr",
     "output_type": "stream",
     "text": [
      "Warning message:\n",
      "“'newBASiCS_Data' is deprecated.\n",
      "See help(\"Deprecated\")”\n",
      "\n",
      "NOTICE: BASiCS requires a pre-filtered dataset \n",
      "    - You must remove poor quality cells before hand \n",
      "    - We recommend to pre-filter lowly expressed transcripts. \n",
      "      Inclusion criteria may vary for each data. \n",
      "      For example, remove transcripts: \n",
      "          - with low total counts across of all of the cells \n",
      "          - that are only expressed in a few cells \n",
      "            (genes expressed in only 1 cell are not accepted) \n",
      "\n",
      " BASiCS_Filter can be used for this purpose. \n",
      "\n",
      "\n",
      "Running no spikes BASiCS sampler (regression case) ... \n",
      "\n",
      "\n"
     ]
    },
    {
     "name": "stdout",
     "output_type": "stream",
     "text": [
      "-----------------------------------------------------\n",
      "MCMC sampler has been started: 20000 iterations to go.\n",
      "-----------------------------------------------------\n",
      "-----------------------------------------------------\n",
      "End of Burn-in period.\n",
      "-----------------------------------------------------\n",
      " \n",
      "-----------------------------------------------------\n",
      "-----------------------------------------------------\n",
      "All 20000 MCMC iterations have been completed.\n",
      "-----------------------------------------------------\n",
      "-----------------------------------------------------\n",
      " \n",
      "-----------------------------------------------------\n",
      "Please see below a summary of the overall acceptance rates.\n",
      "-----------------------------------------------------\n",
      " \n",
      "Minimum acceptance rate among mu[i]'s: 0.4261\n",
      "Average acceptance rate among mu[i]'s: 0.466535\n",
      "Maximum acceptance rate among mu[i]'s: 0.5295\n",
      " \n",
      " \n",
      "Minimum acceptance rate among delta[i]'s: 0.3862\n",
      "Average acceptance rate among delta[i]'s: 0.447208\n",
      "Maximum acceptance rate among delta[i]'s: 0.5114\n",
      " \n",
      " \n",
      "Minimum acceptance rate among nu[jk]'s: 0.3857\n",
      "Average acceptance rate among nu[jk]'s: 0.573432\n",
      "Maximum acceptance rate among nu[jk]'s: 0.7555\n",
      " \n",
      " \n",
      "Minimum acceptance rate among theta[k]'s: 0.4414\n",
      "Average acceptance rate among theta[k]'s: 0.44275\n",
      "Maximum acceptance rate among theta[k]'s: 0.4441\n",
      " \n",
      " \n",
      "-----------------------------------------------------\n",
      " \n"
     ]
    },
    {
     "name": "stderr",
     "output_type": "stream",
     "text": [
      "-------------------------------------------------------------\n",
      "MCMC running time \n",
      "-------------------------------------------------------------\n",
      "user: 7516.432\n",
      "system: 12952.64\n",
      "elapsed: 1283.636\n",
      "\n",
      "\n",
      "-------------------------------------------------------------\n",
      "Output \n",
      "-------------------------------------------------------------\n",
      "\n",
      "\n"
     ]
    },
    {
     "name": "stdout",
     "output_type": "stream",
     "text": [
      "     user    system   elapsed \n",
      " 7680.525 13063.931  1399.404 \n",
      "[1] 10000\n"
     ]
    },
    {
     "name": "stderr",
     "output_type": "stream",
     "text": [
      "Warning message:\n",
      "“'newBASiCS_Data' is deprecated.\n",
      "See help(\"Deprecated\")”\n",
      "\n",
      "NOTICE: BASiCS requires a pre-filtered dataset \n",
      "    - You must remove poor quality cells before hand \n",
      "    - We recommend to pre-filter lowly expressed transcripts. \n",
      "      Inclusion criteria may vary for each data. \n",
      "      For example, remove transcripts: \n",
      "          - with low total counts across of all of the cells \n",
      "          - that are only expressed in a few cells \n",
      "            (genes expressed in only 1 cell are not accepted) \n",
      "\n",
      " BASiCS_Filter can be used for this purpose. \n",
      "\n",
      "\n",
      "Running no spikes BASiCS sampler (regression case) ... \n",
      "\n",
      "\n"
     ]
    },
    {
     "name": "stdout",
     "output_type": "stream",
     "text": [
      "-----------------------------------------------------\n",
      "MCMC sampler has been started: 20000 iterations to go.\n",
      "-----------------------------------------------------\n",
      "-----------------------------------------------------\n",
      "End of Burn-in period.\n",
      "-----------------------------------------------------\n",
      " \n",
      "-----------------------------------------------------\n",
      "-----------------------------------------------------\n",
      "All 20000 MCMC iterations have been completed.\n",
      "-----------------------------------------------------\n",
      "-----------------------------------------------------\n",
      " \n",
      "-----------------------------------------------------\n",
      "Please see below a summary of the overall acceptance rates.\n",
      "-----------------------------------------------------\n",
      " \n",
      "Minimum acceptance rate among mu[i]'s: 0.4042\n",
      "Average acceptance rate among mu[i]'s: 0.462702\n",
      "Maximum acceptance rate among mu[i]'s: 0.5151\n",
      " \n",
      " \n",
      "Minimum acceptance rate among delta[i]'s: 0.3519\n",
      "Average acceptance rate among delta[i]'s: 0.44478\n",
      "Maximum acceptance rate among delta[i]'s: 0.4976\n",
      " \n",
      " \n",
      "Minimum acceptance rate among nu[jk]'s: 0.2779\n",
      "Average acceptance rate among nu[jk]'s: 0.434433\n",
      "Maximum acceptance rate among nu[jk]'s: 0.6004\n",
      " \n",
      " \n",
      "Minimum acceptance rate among theta[k]'s: 0.4546\n",
      "Average acceptance rate among theta[k]'s: 0.4762\n",
      "Maximum acceptance rate among theta[k]'s: 0.4978\n",
      " \n",
      " \n",
      "-----------------------------------------------------\n",
      " \n"
     ]
    },
    {
     "name": "stderr",
     "output_type": "stream",
     "text": [
      "-------------------------------------------------------------\n",
      "MCMC running time \n",
      "-------------------------------------------------------------\n",
      "user: 11244.806\n",
      "system: 18583.074\n",
      "elapsed: 2201.961\n",
      "\n",
      "\n",
      "-------------------------------------------------------------\n",
      "Output \n",
      "-------------------------------------------------------------\n",
      "\n",
      "\n"
     ]
    },
    {
     "name": "stdout",
     "output_type": "stream",
     "text": [
      "     user    system   elapsed \n",
      "11559.010 18770.174  2429.337 \n",
      "[1] 20000\n"
     ]
    },
    {
     "name": "stderr",
     "output_type": "stream",
     "text": [
      "Warning message:\n",
      "“'newBASiCS_Data' is deprecated.\n",
      "See help(\"Deprecated\")”\n",
      "\n",
      "NOTICE: BASiCS requires a pre-filtered dataset \n",
      "    - You must remove poor quality cells before hand \n",
      "    - We recommend to pre-filter lowly expressed transcripts. \n",
      "      Inclusion criteria may vary for each data. \n",
      "      For example, remove transcripts: \n",
      "          - with low total counts across of all of the cells \n",
      "          - that are only expressed in a few cells \n",
      "            (genes expressed in only 1 cell are not accepted) \n",
      "\n",
      " BASiCS_Filter can be used for this purpose. \n",
      "\n",
      "\n",
      "Running no spikes BASiCS sampler (regression case) ... \n",
      "\n",
      "\n"
     ]
    },
    {
     "name": "stdout",
     "output_type": "stream",
     "text": [
      "-----------------------------------------------------\n",
      "MCMC sampler has been started: 20000 iterations to go.\n",
      "-----------------------------------------------------\n",
      "-----------------------------------------------------\n",
      "End of Burn-in period.\n",
      "-----------------------------------------------------\n",
      " \n",
      "-----------------------------------------------------\n",
      "-----------------------------------------------------\n",
      "All 20000 MCMC iterations have been completed.\n",
      "-----------------------------------------------------\n",
      "-----------------------------------------------------\n",
      " \n",
      "-----------------------------------------------------\n",
      "Please see below a summary of the overall acceptance rates.\n",
      "-----------------------------------------------------\n",
      " \n",
      "Minimum acceptance rate among mu[i]'s: 0.4207\n",
      "Average acceptance rate among mu[i]'s: 0.465098\n",
      "Maximum acceptance rate among mu[i]'s: 0.516\n",
      " \n",
      " \n",
      "Minimum acceptance rate among delta[i]'s: 0.3979\n",
      "Average acceptance rate among delta[i]'s: 0.459835\n",
      "Maximum acceptance rate among delta[i]'s: 0.51\n",
      " \n",
      " \n",
      "Minimum acceptance rate among nu[jk]'s: 0.2705\n",
      "Average acceptance rate among nu[jk]'s: 0.382851\n",
      "Maximum acceptance rate among nu[jk]'s: 0.5076\n",
      " \n",
      " \n",
      "Minimum acceptance rate among theta[k]'s: 0.471\n",
      "Average acceptance rate among theta[k]'s: 0.4776\n",
      "Maximum acceptance rate among theta[k]'s: 0.4842\n",
      " \n",
      " \n",
      "-----------------------------------------------------\n",
      " \n"
     ]
    },
    {
     "name": "stderr",
     "output_type": "stream",
     "text": [
      "-------------------------------------------------------------\n",
      "MCMC running time \n",
      "-------------------------------------------------------------\n",
      "user: 12898.29\n",
      "system: 19062.574\n",
      "elapsed: 3489.644\n",
      "\n",
      "\n",
      "-------------------------------------------------------------\n",
      "Output \n",
      "-------------------------------------------------------------\n",
      "\n",
      "\n"
     ]
    },
    {
     "name": "stdout",
     "output_type": "stream",
     "text": [
      "     user    system   elapsed \n",
      "13616.250 19499.716  4012.293 \n",
      "[1] 50000\n"
     ]
    },
    {
     "name": "stderr",
     "output_type": "stream",
     "text": [
      "Warning message:\n",
      "“'newBASiCS_Data' is deprecated.\n",
      "See help(\"Deprecated\")”\n",
      "\n",
      "NOTICE: BASiCS requires a pre-filtered dataset \n",
      "    - You must remove poor quality cells before hand \n",
      "    - We recommend to pre-filter lowly expressed transcripts. \n",
      "      Inclusion criteria may vary for each data. \n",
      "      For example, remove transcripts: \n",
      "          - with low total counts across of all of the cells \n",
      "          - that are only expressed in a few cells \n",
      "            (genes expressed in only 1 cell are not accepted) \n",
      "\n",
      " BASiCS_Filter can be used for this purpose. \n",
      "\n",
      "\n",
      "Running no spikes BASiCS sampler (regression case) ... \n",
      "\n",
      "\n"
     ]
    },
    {
     "name": "stdout",
     "output_type": "stream",
     "text": [
      "-----------------------------------------------------\n",
      "MCMC sampler has been started: 20000 iterations to go.\n",
      "-----------------------------------------------------\n",
      "-----------------------------------------------------\n",
      "End of Burn-in period.\n",
      "-----------------------------------------------------\n",
      " \n",
      "-----------------------------------------------------\n",
      "-----------------------------------------------------\n",
      "All 20000 MCMC iterations have been completed.\n",
      "-----------------------------------------------------\n",
      "-----------------------------------------------------\n",
      " \n",
      "-----------------------------------------------------\n",
      "Please see below a summary of the overall acceptance rates.\n",
      "-----------------------------------------------------\n",
      " \n",
      "Minimum acceptance rate among mu[i]'s: 0.3963\n",
      "Average acceptance rate among mu[i]'s: 0.449582\n",
      "Maximum acceptance rate among mu[i]'s: 0.5259\n",
      " \n",
      " \n",
      "Minimum acceptance rate among delta[i]'s: 0.3972\n",
      "Average acceptance rate among delta[i]'s: 0.446395\n",
      "Maximum acceptance rate among delta[i]'s: 0.4967\n",
      " \n",
      " \n",
      "Minimum acceptance rate among nu[jk]'s: 0.2811\n",
      "Average acceptance rate among nu[jk]'s: 0.418977\n",
      "Maximum acceptance rate among nu[jk]'s: 0.5585\n",
      " \n",
      " \n",
      "Minimum acceptance rate among theta[k]'s: 0.4593\n",
      "Average acceptance rate among theta[k]'s: 0.45935\n",
      "Maximum acceptance rate among theta[k]'s: 0.4594\n",
      " \n",
      " \n",
      "-----------------------------------------------------\n",
      " \n"
     ]
    },
    {
     "name": "stderr",
     "output_type": "stream",
     "text": [
      "-------------------------------------------------------------\n",
      "MCMC running time \n",
      "-------------------------------------------------------------\n",
      "user: 18068.356\n",
      "system: 20326.53\n",
      "elapsed: 7369.777\n",
      "\n",
      "\n",
      "-------------------------------------------------------------\n",
      "Output \n",
      "-------------------------------------------------------------\n",
      "\n",
      "\n"
     ]
    },
    {
     "name": "stdout",
     "output_type": "stream",
     "text": [
      "     user    system   elapsed \n",
      "19768.555 21181.695  8705.992 \n"
     ]
    }
   ],
   "source": [
    "for (num_cell in c(1000, 5000, 10000, 20000, 50000)) {\n",
    "    print(num_cell)\n",
    "    set.seed(1)\n",
    "    Counts <- matrix(rpois(50*num_cell, 2), ncol = num_cell)\n",
    "    rownames(Counts) <- c(paste0(\"Gene\", 1:40), paste0(\"Spike\", 1:10))\n",
    "    Tech <- c(rep(FALSE,40),rep(TRUE,10))\n",
    "    set.seed(2)\n",
    "    SpikeInput <- rgamma(10,1,1)\n",
    "    SpikeInfo <- data.frame(\"SpikeID\" = paste0(\"Spike\", 1:10), \n",
    "                            \"SpikeInput\" = SpikeInput)\n",
    "\n",
    "\n",
    "    # With batch structure\n",
    "    DataExample <- newBASiCS_Data(Counts, Tech, SpikeInfo, \n",
    "                                  BatchInfo = rep(c(1,2), each = num_cell/2)) \n",
    "    ptm <- proc.time()\n",
    "    Chain <- BASiCS_MCMC(Data = DataExample, N = 20000, Thin = 20, Burn = 10000, PrintProgress = FALSE, Regression = TRUE , WithSpikes=FALSE, Threads=1)\n",
    "    print(proc.time() - ptm)\n",
    "}"
   ]
  },
  {
   "cell_type": "markdown",
   "id": "fifteen-genius",
   "metadata": {},
   "source": [
    "### Time scHOT"
   ]
  },
  {
   "cell_type": "code",
   "execution_count": 7,
   "id": "talented-printer",
   "metadata": {},
   "outputs": [
    {
     "name": "stderr",
     "output_type": "stream",
     "text": [
      "\n",
      "Attaching package: ‘Matrix’\n",
      "\n",
      "\n",
      "The following object is masked from ‘package:S4Vectors’:\n",
      "\n",
      "    expand\n",
      "\n",
      "\n"
     ]
    }
   ],
   "source": [
    "library(SingleCellExperiment)\n",
    "library(ggplot2)\n",
    "library(scHOT)\n",
    "library(scater)\n",
    "library(Matrix)\n",
    "library(matrixStats)"
   ]
  },
  {
   "cell_type": "code",
   "execution_count": 194,
   "id": "super-talent",
   "metadata": {},
   "outputs": [],
   "source": [
    "data(liver)\n",
    "\n",
    "liver_pseudotime_hep <- liver$liver_pseudotime_hep\n",
    "liver_branch_hep <- liver$liver_branch_hep\n",
    "first_branch_cells <- liver$first_branch_cells\n",
    "gene_to_test <- as.matrix(c(\"Birc5\", \"H2afz\", \"Tacc3\"))"
   ]
  },
  {
   "cell_type": "code",
   "execution_count": 195,
   "id": "atlantic-speed",
   "metadata": {},
   "outputs": [],
   "source": [
    "a <- sort(sample(c(0,1), length(first_branch_cells), replace=TRUE))\n",
    "names(a) <- first_branch_cells"
   ]
  },
  {
   "cell_type": "code",
   "execution_count": 204,
   "id": "neural-ancient",
   "metadata": {},
   "outputs": [
    {
     "data": {
      "text/html": [
       "<style>\n",
       ".list-inline {list-style: none; margin:0; padding: 0}\n",
       ".list-inline>li {display: inline-block}\n",
       ".list-inline>li:not(:last-child)::after {content: \"\\00b7\"; padding: 0 .5ex}\n",
       "</style>\n",
       "<ol class=list-inline><li>568</li><li>176</li></ol>\n"
      ],
      "text/latex": [
       "\\begin{enumerate*}\n",
       "\\item 568\n",
       "\\item 176\n",
       "\\end{enumerate*}\n"
      ],
      "text/markdown": [
       "1. 568\n",
       "2. 176\n",
       "\n",
       "\n"
      ],
      "text/plain": [
       "[1] 568 176"
      ]
     },
     "metadata": {},
     "output_type": "display_data"
    }
   ],
   "source": [
    "dim(liver_branch_hep[,first_branch_cells])"
   ]
  },
  {
   "cell_type": "code",
   "execution_count": 15,
   "id": "biological-hopkins",
   "metadata": {},
   "outputs": [
    {
     "name": "stdout",
     "output_type": "stream",
     "text": [
      "[1] 5e+05\n",
      "Adding testing scaffold \n",
      "Set weight matrix \n",
      "Calculate gobal higher order function \n"
     ]
    },
    {
     "name": "stderr",
     "output_type": "stream",
     "text": [
      "higherOrderFunctionType given will replace any stored param\n",
      "\n",
      "higherOrderFunction given will replace any stored param\n",
      "\n"
     ]
    },
    {
     "name": "stdout",
     "output_type": "stream",
     "text": [
      "Calculate Higher Order Test Statistics \n"
     ]
    },
    {
     "name": "stderr",
     "output_type": "stream",
     "text": [
      "numberScaffold set higher than the scaffold, setting permutation number for all tests\n",
      "\n",
      "higherOrderSummaryFunction will replace any stored param\n",
      "\n"
     ]
    },
    {
     "name": "stdout",
     "output_type": "stream",
     "text": [
      "Perform Permutation Test \n",
      "Permutation testing combination 1 of 3...\n",
      "Permutation testing combination 2 of 3...\n",
      "Permutation testing combination 3 of 3...\n",
      "Estimating p-values \n",
      "1 \n",
      "2 \n",
      "3 \n",
      "    user   system  elapsed \n",
      "1238.047    5.286 1243.354 \n",
      "[1] 500\n",
      "Adding testing scaffold \n",
      "Set weight matrix \n",
      "Calculate gobal higher order function \n"
     ]
    },
    {
     "name": "stderr",
     "output_type": "stream",
     "text": [
      "higherOrderFunctionType given will replace any stored param\n",
      "\n",
      "higherOrderFunction given will replace any stored param\n",
      "\n"
     ]
    },
    {
     "name": "stdout",
     "output_type": "stream",
     "text": [
      "Calculate Higher Order Test Statistics \n"
     ]
    },
    {
     "name": "stderr",
     "output_type": "stream",
     "text": [
      "numberScaffold set higher than the scaffold, setting permutation number for all tests\n",
      "\n",
      "higherOrderSummaryFunction will replace any stored param\n",
      "\n"
     ]
    },
    {
     "name": "stdout",
     "output_type": "stream",
     "text": [
      "Perform Permutation Test \n",
      "Permutation testing combination 1 of 3...\n",
      "Permutation testing combination 2 of 3...\n",
      "Permutation testing combination 3 of 3...\n",
      "Estimating p-values \n",
      "1 \n",
      "2 \n",
      "3 \n",
      "   user  system elapsed \n",
      "  5.616   0.000   5.615 \n",
      "[1] 1000\n",
      "Adding testing scaffold \n",
      "Set weight matrix \n",
      "Calculate gobal higher order function \n"
     ]
    },
    {
     "name": "stderr",
     "output_type": "stream",
     "text": [
      "higherOrderFunctionType given will replace any stored param\n",
      "\n",
      "higherOrderFunction given will replace any stored param\n",
      "\n"
     ]
    },
    {
     "name": "stdout",
     "output_type": "stream",
     "text": [
      "Calculate Higher Order Test Statistics \n"
     ]
    },
    {
     "name": "stderr",
     "output_type": "stream",
     "text": [
      "numberScaffold set higher than the scaffold, setting permutation number for all tests\n",
      "\n",
      "higherOrderSummaryFunction will replace any stored param\n",
      "\n"
     ]
    },
    {
     "name": "stdout",
     "output_type": "stream",
     "text": [
      "Perform Permutation Test \n",
      "Permutation testing combination 1 of 3...\n",
      "Permutation testing combination 2 of 3...\n",
      "Permutation testing combination 3 of 3...\n",
      "Estimating p-values \n",
      "1 \n",
      "2 \n",
      "3 \n",
      "   user  system elapsed \n",
      "  6.394   0.000   6.395 \n",
      "[1] 2000\n",
      "Adding testing scaffold \n",
      "Set weight matrix \n",
      "Calculate gobal higher order function \n"
     ]
    },
    {
     "name": "stderr",
     "output_type": "stream",
     "text": [
      "higherOrderFunctionType given will replace any stored param\n",
      "\n",
      "higherOrderFunction given will replace any stored param\n",
      "\n"
     ]
    },
    {
     "name": "stdout",
     "output_type": "stream",
     "text": [
      "Calculate Higher Order Test Statistics \n"
     ]
    },
    {
     "name": "stderr",
     "output_type": "stream",
     "text": [
      "numberScaffold set higher than the scaffold, setting permutation number for all tests\n",
      "\n",
      "higherOrderSummaryFunction will replace any stored param\n",
      "\n"
     ]
    },
    {
     "name": "stdout",
     "output_type": "stream",
     "text": [
      "Perform Permutation Test \n",
      "Permutation testing combination 1 of 3...\n",
      "Permutation testing combination 2 of 3...\n",
      "Permutation testing combination 3 of 3...\n",
      "Estimating p-values \n",
      "1 \n",
      "2 \n",
      "3 \n",
      "   user  system elapsed \n",
      "  8.221   0.045   8.265 \n",
      "[1] 10000\n",
      "Adding testing scaffold \n",
      "Set weight matrix \n",
      "Calculate gobal higher order function \n"
     ]
    },
    {
     "name": "stderr",
     "output_type": "stream",
     "text": [
      "higherOrderFunctionType given will replace any stored param\n",
      "\n",
      "higherOrderFunction given will replace any stored param\n",
      "\n"
     ]
    },
    {
     "name": "stdout",
     "output_type": "stream",
     "text": [
      "Calculate Higher Order Test Statistics \n"
     ]
    },
    {
     "name": "stderr",
     "output_type": "stream",
     "text": [
      "numberScaffold set higher than the scaffold, setting permutation number for all tests\n",
      "\n",
      "higherOrderSummaryFunction will replace any stored param\n",
      "\n"
     ]
    },
    {
     "name": "stdout",
     "output_type": "stream",
     "text": [
      "Perform Permutation Test \n",
      "Permutation testing combination 1 of 3...\n",
      "Permutation testing combination 2 of 3...\n",
      "Permutation testing combination 3 of 3...\n",
      "Estimating p-values \n",
      "1 \n",
      "2 \n",
      "3 \n",
      "   user  system elapsed \n",
      " 30.106   0.000  30.106 \n",
      "[1] 50000\n",
      "Adding testing scaffold \n",
      "Set weight matrix \n",
      "Calculate gobal higher order function \n"
     ]
    },
    {
     "name": "stderr",
     "output_type": "stream",
     "text": [
      "higherOrderFunctionType given will replace any stored param\n",
      "\n",
      "higherOrderFunction given will replace any stored param\n",
      "\n"
     ]
    },
    {
     "name": "stdout",
     "output_type": "stream",
     "text": [
      "Calculate Higher Order Test Statistics \n"
     ]
    },
    {
     "name": "stderr",
     "output_type": "stream",
     "text": [
      "numberScaffold set higher than the scaffold, setting permutation number for all tests\n",
      "\n",
      "higherOrderSummaryFunction will replace any stored param\n",
      "\n"
     ]
    },
    {
     "name": "stdout",
     "output_type": "stream",
     "text": [
      "Perform Permutation Test \n",
      "Permutation testing combination 1 of 3...\n",
      "Permutation testing combination 2 of 3...\n",
      "Permutation testing combination 3 of 3...\n",
      "Estimating p-values \n",
      "1 \n",
      "2 \n",
      "3 \n",
      "   user  system elapsed \n",
      "216.448   0.062 216.512 \n",
      "[1] 1e+05\n",
      "Adding testing scaffold \n",
      "Set weight matrix \n",
      "Calculate gobal higher order function \n"
     ]
    },
    {
     "name": "stderr",
     "output_type": "stream",
     "text": [
      "higherOrderFunctionType given will replace any stored param\n",
      "\n",
      "higherOrderFunction given will replace any stored param\n",
      "\n"
     ]
    },
    {
     "name": "stdout",
     "output_type": "stream",
     "text": [
      "Calculate Higher Order Test Statistics \n"
     ]
    },
    {
     "name": "stderr",
     "output_type": "stream",
     "text": [
      "numberScaffold set higher than the scaffold, setting permutation number for all tests\n",
      "\n",
      "higherOrderSummaryFunction will replace any stored param\n",
      "\n"
     ]
    },
    {
     "name": "stdout",
     "output_type": "stream",
     "text": [
      "Perform Permutation Test \n",
      "Permutation testing combination 1 of 3...\n",
      "Permutation testing combination 2 of 3...\n",
      "Permutation testing combination 3 of 3...\n",
      "Estimating p-values \n",
      "1 \n",
      "2 \n",
      "3 \n",
      "   user  system elapsed \n",
      "272.934   0.387 273.325 \n"
     ]
    }
   ],
   "source": [
    "# num_cell = 176\n",
    "for (num_cell in c(500000, 500, 1000, 2000, 10000, 50000, 100000)){\n",
    "    \n",
    "    print(num_cell)\n",
    "    \n",
    "    num_gene = 3\n",
    "\n",
    "    cell_names <- paste0(\"Cell\", 1:num_cell)\n",
    "\n",
    "    counts <- matrix(rpois(num_gene*num_cell, 2), ncol = num_cell)\n",
    "    rownames(counts) <- paste0(\"Gene\", 1:num_gene)\n",
    "    colnames(counts) <- cell_names\n",
    "\n",
    "    a <- sort(sample(c(0,1), num_cell, replace=TRUE))\n",
    "    names(a) <- cell_names\n",
    "\n",
    "    scHOT_traj <- scHOT_buildFromMatrix(\n",
    "      mat = counts,\n",
    "      cellData = list(pseudotime = a),\n",
    "      positionType = \"trajectory\",\n",
    "      positionColData = \"pseudotime\")\n",
    "\n",
    "    num_treatment = sum(a)\n",
    "    num_control = num_cell-num_treatment\n",
    "    weighted_matrix = matrix(0, nrow=2, ncol=num_cell)\n",
    "    weighted_matrix[1, seq(num_control)] = 1\n",
    "    weighted_matrix[2, seq(num_control, num_cell)] = 1\n",
    "    weighted_matrix = as(Matrix(weighted_matrix, sparse=TRUE), \"dgCMatrix\")\n",
    "\n",
    "    scHOT_traj@weightMatrix <- weighted_matrix\n",
    "\n",
    "\n",
    "    ptm <- proc.time()\n",
    "\n",
    "    scHOT_traj_wrap = scHOT(scHOT_traj,\n",
    "                            testingScaffold = as.matrix(c('Gene1', 'Gene2', 'Gene3')),\n",
    "                            higherOrderFunction = matrixStats::weightedVar,\n",
    "                            higherOrderFunctionType = \"weighted\",\n",
    "                            numberPermutations = 1000,\n",
    "                            weightMatrix =weighted_matrix)\n",
    "    \n",
    "    print(proc.time() - ptm)\n",
    "}\n"
   ]
  },
  {
   "cell_type": "code",
   "execution_count": null,
   "id": "potential-lunch",
   "metadata": {},
   "outputs": [],
   "source": []
  },
  {
   "cell_type": "code",
   "execution_count": null,
   "id": "loose-fifth",
   "metadata": {},
   "outputs": [],
   "source": []
  },
  {
   "cell_type": "markdown",
   "id": "critical-adjustment",
   "metadata": {},
   "source": [
    "### scHOT step by step"
   ]
  },
  {
   "cell_type": "code",
   "execution_count": 166,
   "id": "laughing-imagination",
   "metadata": {},
   "outputs": [],
   "source": [
    "# scHOT_traj@testingScaffold\n",
    "scHOT_traj <- scHOT_addTestingScaffold(scHOT_traj, gene_to_test)\n",
    "# scHOT_traj@testingScaffold\n"
   ]
  },
  {
   "cell_type": "code",
   "execution_count": 174,
   "id": "loose-newcastle",
   "metadata": {},
   "outputs": [
    {
     "name": "stderr",
     "output_type": "stream",
     "text": [
      "weightMatrix not provided, generating one using parameter settings...\n",
      "\n"
     ]
    },
    {
     "data": {
      "text/html": [
       "<style>\n",
       ".list-inline {list-style: none; margin:0; padding: 0}\n",
       ".list-inline>li {display: inline-block}\n",
       ".list-inline>li:not(:last-child)::after {content: \"\\00b7\"; padding: 0 .5ex}\n",
       "</style>\n",
       "<ol class=list-inline><li>59</li><li>176</li></ol>\n"
      ],
      "text/latex": [
       "\\begin{enumerate*}\n",
       "\\item 59\n",
       "\\item 176\n",
       "\\end{enumerate*}\n"
      ],
      "text/markdown": [
       "1. 59\n",
       "2. 176\n",
       "\n",
       "\n"
      ],
      "text/plain": [
       "[1]  59 176"
      ]
     },
     "metadata": {},
     "output_type": "display_data"
    },
    {
     "data": {
      "text/html": [
       "'dgCMatrix'"
      ],
      "text/latex": [
       "'dgCMatrix'"
      ],
      "text/markdown": [
       "'dgCMatrix'"
      ],
      "text/plain": [
       "[1] \"dgCMatrix\"\n",
       "attr(,\"package\")\n",
       "[1] \"Matrix\""
      ]
     },
     "metadata": {},
     "output_type": "display_data"
    },
    {
     "data": {
      "image/png": "[encoded data removed]",
      "text/plain": [
       "plot without title"
      ]
     },
     "metadata": {
      "image/png": {
       "height": 420,
       "width": 420
      }
     },
     "output_type": "display_data"
    }
   ],
   "source": [
    "# scHOT_traj@weightMatrix\n",
    "scHOT_traj <- scHOT_setWeightMatrix(scHOT_traj,\n",
    "                                    positionType = \"trajectory\",\n",
    "                                    positionColData = c(\"pseudotime\"),\n",
    "                                    type=\"block\",\n",
    "                                    nrow.out = 50,\n",
    "                                    averageAcrossTrajectoryTies=TRUE,\n",
    "                                    span = 0.1)\n",
    "\n",
    "# num_cells = 176\n",
    "# num_treatment = sum(liver_pseudotime_hep[first_branch_cells])\n",
    "# num_control = num_cells-num_treatment\n",
    "# weighted_matrix = matrix(0, nrow=num_cells, ncol=num_cells)\n",
    "# weighted_matrix[seq(num_control), seq(num_control)] = 1\n",
    "# weighted_matrix[seq(num_control, num_cells), seq(num_control, num_cells)] = 1\n",
    "\n",
    "# scHOT_traj@weightMatrix <- weighted_matrix\n",
    "\n",
    "dim(scHOT_traj@weightMatrix)\n",
    "#> [1] 176 176\n",
    "class(scHOT_traj@weightMatrix)\n",
    "#> [1] \"dgCMatrix\"\n",
    "#> attr(,\"package\")\n",
    "#> [1] \"Matrix\"\n",
    "plot(scHOT_traj@weightMatrix[50,])\n"
   ]
  },
  {
   "cell_type": "code",
   "execution_count": 172,
   "id": "civilian-think",
   "metadata": {},
   "outputs": [],
   "source": [
    "a = scHOT_traj@weightMatrix"
   ]
  },
  {
   "cell_type": "code",
   "execution_count": null,
   "id": "fifty-flour",
   "metadata": {},
   "outputs": [],
   "source": [
    "a"
   ]
  },
  {
   "cell_type": "code",
   "execution_count": 123,
   "id": "lovely-cache",
   "metadata": {},
   "outputs": [
    {
     "data": {
      "text/html": [
       "81"
      ],
      "text/latex": [
       "81"
      ],
      "text/markdown": [
       "81"
      ],
      "text/plain": [
       "[1] 81"
      ]
     },
     "metadata": {},
     "output_type": "display_data"
    }
   ],
   "source": [
    "seq(num_control, num_cells)"
   ]
  },
  {
   "cell_type": "code",
   "execution_count": 124,
   "id": "realistic-blair",
   "metadata": {},
   "outputs": [],
   "source": [
    "num_cells = 176\n",
    "num_treatment = sum(liver_pseudotime_hep[first_branch_cells])\n",
    "num_control = num_cells-num_treatment\n",
    "weighted_matrix = matrix(0, nrow=num_cells, ncol=num_cells)\n",
    "weighted_matrix[seq(num_control), seq(num_control)] = 1\n",
    "weighted_matrix[seq(num_control, num_cells), seq(num_control, num_cells)] = 1"
   ]
  },
  {
   "cell_type": "code",
   "execution_count": null,
   "id": "juvenile-vertex",
   "metadata": {},
   "outputs": [],
   "source": [
    "weight_matrix = Matrix()"
   ]
  },
  {
   "cell_type": "code",
   "execution_count": 41,
   "id": "atlantic-productivity",
   "metadata": {},
   "outputs": [],
   "source": [
    "scHOT_traj <- scHOT_buildFromMatrix(\n",
    "  mat = DataExample,\n",
    "  cellData = colData(DataExample),\n",
    "  positionType = \"trajectory\",\n",
    "  positionColData = \"pseudotime\")"
   ]
  },
  {
   "cell_type": "code",
   "execution_count": 43,
   "id": "cellular-booth",
   "metadata": {},
   "outputs": [
    {
     "data": {
      "text/plain": [
       "class: scHOT \n",
       "dim: 10 500 \n",
       "metadata(0):\n",
       "assays(1): expression\n",
       "rownames(10): Gene1 Gene2 ... Gene9 Gene10\n",
       "rowData names(0):\n",
       "colnames: NULL\n",
       "colData names(2): BatchInfo pseudotime\n",
       "reducedDimNames(0):\n",
       "altExpNames(0):\n",
       "testingScaffold dim: 0 0 \n",
       "weightMatrix dim: 0 0 \n",
       "scHOT_output colnames (0):\n",
       "param names (0):\n",
       "position type: trajectory "
      ]
     },
     "metadata": {},
     "output_type": "display_data"
    }
   ],
   "source": [
    "scHOT_traj"
   ]
  },
  {
   "cell_type": "code",
   "execution_count": 42,
   "id": "occasional-latest",
   "metadata": {},
   "outputs": [
    {
     "ename": "ERROR",
     "evalue": "Error in apply(testingScaffold, 1, paste, collapse = \"_\"): dim(X) must have a positive length\n",
     "output_type": "error",
     "traceback": [
      "Error in apply(testingScaffold, 1, paste, collapse = \"_\"): dim(X) must have a positive length\nTraceback:\n",
      "1. scHOT(scHOT_traj, testingScaffold = gene_to_test, higherOrderFunction = matrixStats::weightedVar, \n .     higherOrderFunctionType = \"weighted\", numberPermutations = 50)",
      "2. apply(testingScaffold, 1, paste, collapse = \"_\")",
      "3. stop(\"dim(X) must have a positive length\")"
     ]
    }
   ],
   "source": [
    "scHOT_traj_wrap = scHOT(scHOT_traj,\n",
    "    testingScaffold = gene_to_test,\n",
    "    higherOrderFunction = matrixStats::weightedVar,\n",
    "    higherOrderFunctionType = \"weighted\",\n",
    "    numberPermutations = 50)"
   ]
  },
  {
   "cell_type": "raw",
   "id": "italian-florida",
   "metadata": {},
   "source": [
    "example_h5ad <- system.file(\"extdata\",\"2500.h5ad\", package = \"zellkonverter\")\n",
    "# readH5AD(example_h5ad)"
   ]
  },
  {
   "cell_type": "raw",
   "id": "complex-tattoo",
   "metadata": {},
   "source": [
    "assays(Data)$counts <- assays(Data)$X"
   ]
  },
  {
   "cell_type": "raw",
   "id": "illegal-complement",
   "metadata": {},
   "source": [
    "Data <- readH5AD(\"250.h5ad\")\n",
    "assays(Data)$counts <- assays(Data)$X\n",
    "colData(Data)$BatchInfo <- rep(c(1,2), each = 250) "
   ]
  },
  {
   "cell_type": "code",
   "execution_count": null,
   "id": "incredible-ghost",
   "metadata": {},
   "outputs": [],
   "source": []
  },
  {
   "cell_type": "code",
   "execution_count": null,
   "id": "utility-commodity",
   "metadata": {},
   "outputs": [],
   "source": []
  },
  {
   "cell_type": "code",
   "execution_count": null,
   "id": "obvious-straight",
   "metadata": {},
   "outputs": [],
   "source": []
  },
  {
   "cell_type": "code",
   "execution_count": null,
   "id": "partial-reconstruction",
   "metadata": {},
   "outputs": [],
   "source": []
  },
  {
   "cell_type": "code",
   "execution_count": null,
   "id": "superior-possession",
   "metadata": {},
   "outputs": [],
   "source": []
  },
  {
   "cell_type": "code",
   "execution_count": 60,
   "id": "racial-boston",
   "metadata": {},
   "outputs": [
    {
     "name": "stderr",
     "output_type": "stream",
     "text": [
      "Warning message in .ChecksBASiCS_Data(Data, WithSpikes):\n",
      "“Some genes have zero counts across all cells. \n",
      "If comparing 2 groups, use `PriorDelta = 'log-normal' in BASiCS_MCMC.\n",
      "If not, please remove those genes.\n",
      "”\n",
      "Warning message in .ChecksBASiCS_Data(Data, WithSpikes):\n",
      "“If spike-in genes are not available, BASiCS recommends that the data contain at least 2 batches of cells (for the same population)\n",
      "”\n",
      "Running no spikes BASiCS sampler (regression case) ... \n",
      "\n",
      "\n"
     ]
    },
    {
     "name": "stdout",
     "output_type": "stream",
     "text": [
      "-----------------------------------------------------\n",
      "MCMC sampler has been started: 20000 iterations to go.\n",
      "-----------------------------------------------------\n",
      "-----------------------------------------------------\n",
      "End of Burn-in period.\n",
      "-----------------------------------------------------\n"
     ]
    },
    {
     "name": "stderr",
     "output_type": "stream",
     "text": [
      "Timing stopped at: 1851 2278 788.1\n",
      "\n"
     ]
    }
   ],
   "source": [
    "Chain <- BASiCS_MCMC(Data = Data, N = 20000, Thin = 10, Burn = 500, PrintProgress = FALSE, Regression = TRUE, WithSpikes=FALSE)"
   ]
  },
  {
   "cell_type": "code",
   "execution_count": 16,
   "id": "neural-listing",
   "metadata": {},
   "outputs": [
    {
     "ename": "ERROR",
     "evalue": "Error in library(\"scHOT\"): there is no package called ‘scHOT’\n",
     "output_type": "error",
     "traceback": [
      "Error in library(\"scHOT\"): there is no package called ‘scHOT’\nTraceback:\n",
      "1. library(\"scHOT\")"
     ]
    }
   ],
   "source": [
    "library('scHOT')"
   ]
  },
  {
   "cell_type": "code",
   "execution_count": 14,
   "id": "saving-provision",
   "metadata": {},
   "outputs": [
    {
     "name": "stderr",
     "output_type": "stream",
     "text": [
      "'getOption(\"repos\")' replaces Bioconductor standard repositories, see\n",
      "'?repositories' for details\n",
      "\n",
      "replacement repositories:\n",
      "    CRAN: https://cran.r-project.org\n",
      "\n",
      "\n",
      "Bioconductor version 3.12 (BiocManager 1.30.16), R 4.0.5 (2021-03-31)\n",
      "\n",
      "Installing package(s) 'scHOT'\n",
      "\n",
      "also installing the dependencies ‘tweenr’, ‘reshape’, ‘ggforce’\n",
      "\n",
      "\n",
      "Warning message in .inet_warning(msg):\n",
      "“installation of package ‘tweenr’ had non-zero exit status”\n",
      "Warning message in .inet_warning(msg):\n",
      "“installation of package ‘ggforce’ had non-zero exit status”\n",
      "Warning message in .inet_warning(msg):\n",
      "“installation of package ‘scHOT’ had non-zero exit status”\n",
      "Updating HTML index of packages in '.Library'\n",
      "\n",
      "Making 'packages.html' ...\n",
      " done\n",
      "\n",
      "Old packages: 'caret', 'deldir', 'plotly', 'spatstat.geom', 'stringi'\n",
      "\n"
     ]
    }
   ],
   "source": [
    "if (!requireNamespace(\"BiocManager\", quietly = TRUE))\n",
    "    install.packages(\"BiocManager\")\n",
    "\n",
    "BiocManager::install(\"scHOT\")"
   ]
  },
  {
   "cell_type": "code",
   "execution_count": 9,
   "id": "pacific-geneva",
   "metadata": {},
   "outputs": [
    {
     "data": {
      "text/html": [
       "<style>\n",
       ".list-inline {list-style: none; margin:0; padding: 0}\n",
       ".list-inline>li {display: inline-block}\n",
       ".list-inline>li:not(:last-child)::after {content: \"\\00b7\"; padding: 0 .5ex}\n",
       "</style>\n",
       "<ol class=list-inline><li>1</li><li>1</li><li>1</li><li>1</li><li>1</li><li>1</li><li>1</li><li>1</li><li>1</li><li>1</li><li>1</li><li>1</li><li>1</li><li>1</li><li>1</li><li>1</li><li>1</li><li>1</li><li>1</li><li>1</li><li>1</li><li>1</li><li>1</li><li>1</li><li>1</li><li>1</li><li>1</li><li>1</li><li>1</li><li>1</li></ol>\n"
      ],
      "text/latex": [
       "\\begin{enumerate*}\n",
       "\\item 1\n",
       "\\item 1\n",
       "\\item 1\n",
       "\\item 1\n",
       "\\item 1\n",
       "\\item 1\n",
       "\\item 1\n",
       "\\item 1\n",
       "\\item 1\n",
       "\\item 1\n",
       "\\item 1\n",
       "\\item 1\n",
       "\\item 1\n",
       "\\item 1\n",
       "\\item 1\n",
       "\\item 1\n",
       "\\item 1\n",
       "\\item 1\n",
       "\\item 1\n",
       "\\item 1\n",
       "\\item 1\n",
       "\\item 1\n",
       "\\item 1\n",
       "\\item 1\n",
       "\\item 1\n",
       "\\item 1\n",
       "\\item 1\n",
       "\\item 1\n",
       "\\item 1\n",
       "\\item 1\n",
       "\\end{enumerate*}\n"
      ],
      "text/markdown": [
       "1. 1\n",
       "2. 1\n",
       "3. 1\n",
       "4. 1\n",
       "5. 1\n",
       "6. 1\n",
       "7. 1\n",
       "8. 1\n",
       "9. 1\n",
       "10. 1\n",
       "11. 1\n",
       "12. 1\n",
       "13. 1\n",
       "14. 1\n",
       "15. 1\n",
       "16. 1\n",
       "17. 1\n",
       "18. 1\n",
       "19. 1\n",
       "20. 1\n",
       "21. 1\n",
       "22. 1\n",
       "23. 1\n",
       "24. 1\n",
       "25. 1\n",
       "26. 1\n",
       "27. 1\n",
       "28. 1\n",
       "29. 1\n",
       "30. 1\n",
       "\n",
       "\n"
      ],
      "text/plain": [
       " [1] 1 1 1 1 1 1 1 1 1 1 1 1 1 1 1 1 1 1 1 1 1 1 1 1 1 1 1 1 1 1"
      ]
     },
     "metadata": {},
     "output_type": "display_data"
    }
   ],
   "source": [
    "colData(Data)$BatchInfo"
   ]
  }
 ],
 "metadata": {
  "kernelspec": {
   "display_name": "R",
   "language": "R",
   "name": "ir"
  },
  "language_info": {
   "codemirror_mode": "r",
   "file_extension": ".r",
   "mimetype": "text/x-r-source",
   "name": "R",
   "pygments_lexer": "r",
   "version": "4.0.5"
  }
 },
 "nbformat": 4,
 "nbformat_minor": 5
}
