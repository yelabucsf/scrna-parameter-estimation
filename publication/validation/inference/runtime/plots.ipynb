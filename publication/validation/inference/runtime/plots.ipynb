{
 "cells": [
  {
   "cell_type": "markdown",
   "id": "damaged-occurrence",
   "metadata": {},
   "source": [
    "# Simulation plots\n",
    "\n",
    "==BASICS==\n",
    "\n",
    "For 40 genes and 10 spikes\n",
    "- 500: 77.340\n",
    "- 1000: 149.159\n",
    "- 5000: 1398.347\n",
    "- 10000: 2433.064\n",
    "- 20000: 4021.876\n",
    "- 50000: 8715.963\n",
    "- 100000: 16965.28\n",
    "\n",
    "For 200 genes and 10 spikes\n",
    "- 500: 294.071\n",
    "\n",
    "\n",
    "==scHOT==\n",
    "\n",
    "For 3 genes\n",
    "- 500: 5.545\n",
    "- 1000: 6.392\n",
    "- 2000: 8.199\n",
    "- 10000: 29.747\n",
    "- 50000: 216.559\n",
    "- 100000: 273.492"
   ]
  },
  {
   "cell_type": "code",
   "execution_count": 1,
   "id": "available-evolution",
   "metadata": {},
   "outputs": [],
   "source": [
    "import scanpy as sc\n",
    "import anndata\n",
    "import time\n",
    "import seaborn as sns\n",
    "import pandas as pd\n",
    "import matplotlib.pyplot as plt\n",
    "import numpy as np\n",
    "import scipy.stats as stats\n",
    "from pybedtools import BedTool\n",
    "import pickle as pkl\n",
    "import scipy as sp\n",
    "\n",
    "%matplotlib inline"
   ]
  },
  {
   "cell_type": "code",
   "execution_count": 33,
   "id": "radical-offering",
   "metadata": {},
   "outputs": [],
   "source": [
    "import matplotlib as mpl\n",
    "mpl.rcParams['pdf.fonttype'] = 42\n",
    "mpl.rcParams['ps.fonttype'] = 42\n",
    "\n",
    "import matplotlib.pylab as pylab\n",
    "params = {'legend.fontsize': 'small',\n",
    "         'axes.labelsize': 'medium',\n",
    "         'axes.titlesize':'medium',\n",
    "         'figure.titlesize':'medium',\n",
    "         'xtick.labelsize':'small',\n",
    "         'ytick.labelsize':'small'}\n",
    "pylab.rcParams.update(params)\n"
   ]
  },
  {
   "cell_type": "code",
   "execution_count": 2,
   "id": "allied-invention",
   "metadata": {},
   "outputs": [],
   "source": [
    "import sys\n",
    "sys.path.append('/home/ssm-user/Github/scrna-parameter-estimation/dist/memento-0.0.6-py3.8.egg')\n",
    "sys.path.append('/home/ssm-user/Github/misc-seq/miscseq/')\n",
    "import encode\n",
    "import memento\n",
    "from memento import simulate"
   ]
  },
  {
   "cell_type": "code",
   "execution_count": 3,
   "id": "filled-checkout",
   "metadata": {},
   "outputs": [],
   "source": [
    "data_path = '/data_volume/memento/simulation/'"
   ]
  },
  {
   "cell_type": "markdown",
   "id": "special-madonna",
   "metadata": {},
   "source": [
    "### Get runtimes for other methods"
   ]
  },
  {
   "cell_type": "code",
   "execution_count": 17,
   "id": "velvet-grounds",
   "metadata": {},
   "outputs": [],
   "source": [
    "basics_nc = np.array([500, 1000, 5000, 10000, 20000, 50000, 100000])\n",
    "basics_runtime = np.array([77, 150, 1400, 2430, 4020, 8715, 17000])/40\n",
    "\n",
    "schot_nc = np.array([500, 1000, 2000, 10000, 50000, 100000])\n",
    "schot_runtime = np.array([5.545, 6.392, 8.199, 29.747, 216.559, 273.492])/3\n",
    "\n",
    "memento_nc =  np.array([250, 500, 2500, 5000, 10000, 50000, 100000, 500000])*2\n",
    "memento_runtime = np.array([\n",
    "    0.014873566601481314, \n",
    "    0.01777667029552868,\n",
    "    0.021939572579455825,\n",
    "    0.022748108507940443,\n",
    "    0.027120769728360652,\n",
    "    0.03643204177761024,\n",
    "    0.04465434376358209,\n",
    "    0.11130434910770462])"
   ]
  },
  {
   "cell_type": "code",
   "execution_count": 54,
   "id": "increased-editor",
   "metadata": {},
   "outputs": [
    {
     "data": {
      "image/png": "[encoded data removed]",
      "text/plain": [
       "<Figure size 144x144 with 1 Axes>"
      ]
     },
     "metadata": {
      "needs_background": "light"
     },
     "output_type": "display_data"
    }
   ],
   "source": [
    "plt.figure(figsize=(2, 2))\n",
    "plt.plot(basics_nc, basics_runtime, 'o-', markersize=3)\n",
    "plt.plot(schot_nc, schot_runtime, 'o-', markersize=3)\n",
    "plt.plot(memento_nc[:-2], memento_runtime[:-2], 'o-', markersize=3);\n",
    "plt.ylabel('runtime (s)'); plt.xlabel('number of cells')\n",
    "plt.legend(['BASiCS', 'scHOT', 'memento'], frameon=False, bbox_to_anchor=(0.35,1.05), ncol=1, loc='upper center')\n",
    "plt.savefig('all_runtimes.pdf', bbox_inches='tight')"
   ]
  },
  {
   "cell_type": "code",
   "execution_count": 56,
   "id": "urban-error",
   "metadata": {},
   "outputs": [
    {
     "data": {
      "image/png": "[encoded data removed]",
      "text/plain": [
       "<Figure size 144x144 with 1 Axes>"
      ]
     },
     "metadata": {
      "needs_background": "light"
     },
     "output_type": "display_data"
    }
   ],
   "source": [
    "plt.figure(figsize=(2, 2))\n",
    "\n",
    "plt.plot(memento_nc[:-2], memento_runtime[:-2], 'o-', color='g');\n",
    "plt.xlabel('number of cells')\n",
    "plt.savefig('memento_runtimes.pdf', bbox_inches='tight')\n",
    "# plt.legend(['memento'], frameon=False, bbox_to_anchor=(0.35,1.05), ncol=1, loc='upper center')"
   ]
  },
  {
   "cell_type": "markdown",
   "id": "macro-parliament",
   "metadata": {},
   "source": [
    "### Get runtimes for memento"
   ]
  },
  {
   "cell_type": "code",
   "execution_count": 4,
   "id": "spatial-start",
   "metadata": {},
   "outputs": [],
   "source": [
    "nc_list = [250, 500, 2500, 5000, 10000, 50000, 100000, 500000]"
   ]
  },
  {
   "cell_type": "code",
   "execution_count": 7,
   "id": "instrumental-crowd",
   "metadata": {},
   "outputs": [
    {
     "name": "stderr",
     "output_type": "stream",
     "text": [
      "Observation names are not unique. To make them unique, call `.obs_names_make_unique`.\n"
     ]
    },
    {
     "name": "stdout",
     "output_type": "stream",
     "text": [
      "Version 0.0.6\n"
     ]
    },
    {
     "name": "stderr",
     "output_type": "stream",
     "text": [
      "/home/ssm-user/anaconda3/envs/single_cell/lib/python3.8/site-packages/pandas/core/arrays/categorical.py:2487: FutureWarning: The `inplace` parameter in pandas.Categorical.remove_unused_categories is deprecated and will be removed in a future version.\n",
      "  res = method(*args, **kwargs)\n",
      "Observation names are not unique. To make them unique, call `.obs_names_make_unique`.\n",
      "Observation names are not unique. To make them unique, call `.obs_names_make_unique`.\n",
      "[Parallel(n_jobs=1)]: Using backend SequentialBackend with 1 concurrent workers.\n"
     ]
    },
    {
     "name": "stdout",
     "output_type": "stream",
     "text": [
      "Nc 100000 --------------------\n",
      "walltime 0.04482535666360696\n",
      "num genes 3531 num cells 200000\n"
     ]
    },
    {
     "name": "stderr",
     "output_type": "stream",
     "text": [
      "[Parallel(n_jobs=1)]: Done 3531 out of 3531 | elapsed:  2.6min finished\n"
     ]
    }
   ],
   "source": [
    "for nc in [100000]:\n",
    "    \n",
    "    if nc > 5000:\n",
    "        \n",
    "        num_to_merge = int(nc/5000)\n",
    "        adata_list = []\n",
    "        for i in range(num_to_merge):\n",
    "            adata_list.append(sc.read(data_path + 'runtime/5000_{}.h5ad'.format(i)))\n",
    "        adata = anndata.concat(adata_list)\n",
    "    elif nc == 5000:\n",
    "        adata = sc.read(data_path + 'runtime/5000_0.h5ad'.format(nc))\n",
    "    else:\n",
    "        adata = sc.read(data_path + 'runtime/{}.h5ad'.format(nc))\n",
    "    adata.obs['q'] = 0.07\n",
    "    memento.setup_memento(adata, q_column='q', filter_mean_thresh=0.03)\n",
    "    memento.create_groups(adata, label_columns=['ct_real'])\n",
    "\n",
    "    memento.compute_1d_moments(adata, min_perc_group=.9)\n",
    "    \n",
    "    start = time.time()\n",
    "    memento.ht_1d_moments(\n",
    "        adata, \n",
    "        formula_like='1 + ct_real',\n",
    "        treatment_col='ct_real', \n",
    "        num_boot=1000, \n",
    "        verbose=1,\n",
    "        num_cpus=1,\n",
    "        resampling='permutation',\n",
    "        approx=True)\n",
    "    end = time.time()\n",
    "    \n",
    "    print('Nc', nc, '--------------------')\n",
    "    print('walltime', (end-start)/adata.shape[1])\n",
    "    print('num genes', adata.shape[1], 'num cells', adata.shape[0])"
   ]
  },
  {
   "cell_type": "raw",
   "id": "provincial-repeat",
   "metadata": {},
   "source": [
    "Version 0.0.6\n",
    "/home/ssm-user/anaconda3/envs/single_cell/lib/python3.8/site-packages/pandas/core/arrays/categorical.py:2487: FutureWarning: The `inplace` parameter in pandas.Categorical.remove_unused_categories is deprecated and will be removed in a future version.\n",
    "  res = method(*args, **kwargs)\n",
    "[Parallel(n_jobs=1)]: Using backend SequentialBackend with 1 concurrent workers.\n",
    "[Parallel(n_jobs=1)]: Done 2932 out of 2932 | elapsed:   43.1s finished\n",
    "/home/ssm-user/anaconda3/envs/single_cell/lib/python3.8/site-packages/pandas/core/arrays/categorical.py:2487: FutureWarning: The `inplace` parameter in pandas.Categorical.remove_unused_categories is deprecated and will be removed in a future version.\n",
    "  res = method(*args, **kwargs)\n",
    "Nc 250 --------------------\n",
    "walltime 0.014873566601481314\n",
    "num genes 2932 num cells 500\n",
    "Version 0.0.6\n",
    "[Parallel(n_jobs=1)]: Using backend SequentialBackend with 1 concurrent workers.\n",
    "[Parallel(n_jobs=1)]: Done 3270 out of 3270 | elapsed:   57.6s finished\n",
    "/home/ssm-user/anaconda3/envs/single_cell/lib/python3.8/site-packages/pandas/core/arrays/categorical.py:2487: FutureWarning: The `inplace` parameter in pandas.Categorical.remove_unused_categories is deprecated and will be removed in a future version.\n",
    "  res = method(*args, **kwargs)\n",
    "Nc 500 --------------------\n",
    "walltime 0.01777667029552868\n",
    "num genes 3270 num cells 1000\n",
    "Version 0.0.6\n",
    "[Parallel(n_jobs=1)]: Using backend SequentialBackend with 1 concurrent workers.\n",
    "[Parallel(n_jobs=1)]: Done 3392 out of 3392 | elapsed:  1.2min finished\n",
    "Nc 2500 --------------------\n",
    "walltime 0.021939572579455825\n",
    "num genes 3392 num cells 5000\n",
    "Version 0.0.6\n",
    "/home/ssm-user/anaconda3/envs/single_cell/lib/python3.8/site-packages/pandas/core/arrays/categorical.py:2487: FutureWarning: The `inplace` parameter in pandas.Categorical.remove_unused_categories is deprecated and will be removed in a future version.\n",
    "  res = method(*args, **kwargs)\n",
    "[Parallel(n_jobs=1)]: Using backend SequentialBackend with 1 concurrent workers.\n",
    "[Parallel(n_jobs=1)]: Done 3430 out of 3430 | elapsed:  1.3min finished\n",
    "Observation names are not unique. To make them unique, call `.obs_names_make_unique`.\n",
    "Nc 5000 --------------------\n",
    "walltime 0.022748108507940443\n",
    "num genes 3430 num cells 10000\n",
    "Version 0.0.6\n",
    "/home/ssm-user/anaconda3/envs/single_cell/lib/python3.8/site-packages/pandas/core/arrays/categorical.py:2487: FutureWarning: The `inplace` parameter in pandas.Categorical.remove_unused_categories is deprecated and will be removed in a future version.\n",
    "  res = method(*args, **kwargs)\n",
    "Observation names are not unique. To make them unique, call `.obs_names_make_unique`.\n",
    "Observation names are not unique. To make them unique, call `.obs_names_make_unique`.\n",
    "[Parallel(n_jobs=1)]: Using backend SequentialBackend with 1 concurrent workers.\n",
    "[Parallel(n_jobs=1)]: Done 3469 out of 3469 | elapsed:  1.6min finished\n",
    "Nc 10000 --------------------\n",
    "walltime 0.027120769728360652\n",
    "num genes 3469 num cells 20000\n",
    "Observation names are not unique. To make them unique, call `.obs_names_make_unique`.\n",
    "Version 0.0.6\n",
    "/home/ssm-user/anaconda3/envs/single_cell/lib/python3.8/site-packages/pandas/core/arrays/categorical.py:2487: FutureWarning: The `inplace` parameter in pandas.Categorical.remove_unused_categories is deprecated and will be removed in a future version.\n",
    "  res = method(*args, **kwargs)\n",
    "Observation names are not unique. To make them unique, call `.obs_names_make_unique`.\n",
    "Observation names are not unique. To make them unique, call `.obs_names_make_unique`.\n",
    "[Parallel(n_jobs=1)]: Using backend SequentialBackend with 1 concurrent workers.\n",
    "[Parallel(n_jobs=1)]: Done 3518 out of 3518 | elapsed:  2.1min finished\n",
    "Nc 50000 --------------------\n",
    "walltime 0.03643204177761024\n",
    "num genes 3518 num cells 100000\n",
    "Observation names are not unique. To make them unique, call `.obs_names_make_unique`.\n",
    "Version 0.0.6\n",
    "/home/ssm-user/anaconda3/envs/single_cell/lib/python3.8/site-packages/pandas/core/arrays/categorical.py:2487: FutureWarning: The `inplace` parameter in pandas.Categorical.remove_unused_categories is deprecated and will be removed in a future version.\n",
    "  res = method(*args, **kwargs)\n",
    "Observation names are not unique. To make them unique, call `.obs_names_make_unique`.\n",
    "Observation names are not unique. To make them unique, call `.obs_names_make_unique`.\n",
    "[Parallel(n_jobs=1)]: Using backend SequentialBackend with 1 concurrent workers.\n",
    "[Parallel(n_jobs=1)]: Done 3531 out of 3531 | elapsed:  2.6min finished\n",
    "Nc 100000 --------------------\n",
    "walltime 0.04465434376358209\n",
    "num genes 3531 num cells 200000\n",
    "Observation names are not unique. To make them unique, call `.obs_names_make_unique`.\n",
    "Version 0.0.6\n",
    "/home/ssm-user/anaconda3/envs/single_cell/lib/python3.8/site-packages/pandas/core/arrays/categorical.py:2487: FutureWarning: The `inplace` parameter in pandas.Categorical.remove_unused_categories is deprecated and will be removed in a future version.\n",
    "  res = method(*args, **kwargs)\n",
    "Observation names are not unique. To make them unique, call `.obs_names_make_unique`.\n",
    "Observation names are not unique. To make them unique, call `.obs_names_make_unique`.\n",
    "[Parallel(n_jobs=1)]: Using backend SequentialBackend with 1 concurrent workers.\n",
    "Nc 500000 --------------------\n",
    "walltime 0.11130434910770462\n",
    "num genes 3542 num cells 1000000\n",
    "[Parallel(n_jobs=1)]: Done 3542 out of 3542 | elapsed:  6.5min finished\n"
   ]
  },
  {
   "cell_type": "code",
   "execution_count": null,
   "id": "senior-richmond",
   "metadata": {},
   "outputs": [],
   "source": []
  }
 ],
 "metadata": {
  "kernelspec": {
   "display_name": "Python 3",
   "language": "python",
   "name": "python3"
  },
  "language_info": {
   "codemirror_mode": {
    "name": "ipython",
    "version": 3
   },
   "file_extension": ".py",
   "mimetype": "text/x-python",
   "name": "python",
   "nbconvert_exporter": "python",
   "pygments_lexer": "ipython3",
   "version": "3.8.8"
  }
 },
 "nbformat": 4,
 "nbformat_minor": 5
}
