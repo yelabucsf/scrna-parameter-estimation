{
 "cells": [
  {
   "cell_type": "markdown",
   "id": "83a8b066",
   "metadata": {},
   "source": [
    "# Generate simulation data for comparison"
   ]
  },
  {
   "cell_type": "code",
   "execution_count": 1,
   "id": "9a9e95d4",
   "metadata": {},
   "outputs": [],
   "source": [
    "import scanpy as sc\n",
    "import seaborn as sns\n",
    "import pandas as pd\n",
    "import matplotlib.pyplot as plt\n",
    "import numpy as np\n",
    "import scipy.io as io\n",
    "import scipy.stats as stats\n",
    "from pybedtools import BedTool\n",
    "import pickle as pkl\n",
    "import scipy as sp\n",
    "\n",
    "%matplotlib inline"
   ]
  },
  {
   "cell_type": "code",
   "execution_count": 2,
   "id": "b2668576",
   "metadata": {},
   "outputs": [],
   "source": [
    "import sys\n",
    "sys.path.append('/home/ssm-user/Github/scrna-parameter-estimation/dist/memento-0.0.9-py3.8.egg')\n",
    "sys.path.append('/home/ssm-user/Github/misc-seq/miscseq/')\n",
    "import encode\n",
    "import memento\n",
    "from memento import simulate"
   ]
  },
  {
   "cell_type": "code",
   "execution_count": 3,
   "id": "1a9a182b",
   "metadata": {},
   "outputs": [],
   "source": [
    "data_path = '/data_volume/memento/simulation/'"
   ]
  },
  {
   "cell_type": "code",
   "execution_count": 4,
   "id": "33229f7b",
   "metadata": {},
   "outputs": [],
   "source": [
    "ifn_adata = sc.read(data_path + '../demux/interferon_filtered.h5ad')"
   ]
  },
  {
   "cell_type": "markdown",
   "id": "93fcb512",
   "metadata": {},
   "source": [
    "### Create a downsampled dataset of CD14+ Monocytes for method comparisons"
   ]
  },
  {
   "cell_type": "code",
   "execution_count": 5,
   "id": "2c9c949d",
   "metadata": {},
   "outputs": [
    {
     "name": "stderr",
     "output_type": "stream",
     "text": [
      "/home/ssm-user/anaconda3/envs/single_cell/lib/python3.8/site-packages/anndata/_core/anndata.py:1095: FutureWarning: The `inplace` parameter in pandas.Categorical.remove_unused_categories is deprecated and will be removed in a future version.\n",
      "  df_sub[k].cat.remove_unused_categories(inplace=True)\n"
     ]
    },
    {
     "name": "stdout",
     "output_type": "stream",
     "text": [
      "AnnData object with n_obs × n_vars = 5000 × 127\n",
      "    obs: 'tsne1', 'tsne2', 'ind', 'stim', 'cluster', 'cell', 'multiplets', 'n_genes_by_counts', 'log1p_n_genes_by_counts', 'total_counts', 'log1p_total_counts', 'total_counts_mt', 'log1p_total_counts_mt', 'pct_counts_mt', 'total_counts_hb', 'log1p_total_counts_hb', 'pct_counts_hb', 'cell_type', 'batch'\n",
      "    var: 'gene_ids', 'mt', 'hb', 'n_cells_by_counts', 'mean_counts', 'log1p_mean_counts', 'pct_dropout_by_counts', 'total_counts', 'log1p_total_counts'\n",
      "    obsm: 'X_tsne'\n"
     ]
    },
    {
     "name": "stderr",
     "output_type": "stream",
     "text": [
      "/home/ssm-user/anaconda3/envs/single_cell/lib/python3.8/site-packages/anndata/_core/anndata.py:1095: FutureWarning: The `inplace` parameter in pandas.Categorical.remove_unused_categories is deprecated and will be removed in a future version.\n",
      "  df_sub[k].cat.remove_unused_categories(inplace=True)\n"
     ]
    }
   ],
   "source": [
    "ctrl_subset = sc.pp.subsample(ifn_adata[(ifn_adata.obs.cell == 'CD14+ Monocytes') & (ifn_adata.obs.stim=='ctrl')].copy(), n_obs=2500, copy=True)\n",
    "stim_subset = sc.pp.subsample(ifn_adata[(ifn_adata.obs.cell == 'CD14+ Monocytes') & (ifn_adata.obs.stim=='stim')].copy(), n_obs=2500, copy=True)\n",
    "subset = sc.AnnData.concatenate(ctrl_subset, stim_subset)\n",
    "subset = subset[:,(subset.X.mean(axis=0) > 2.5).A1].copy()\n",
    "subset.X = subset.X.toarray().astype(int)\n",
    "print(subset)"
   ]
  },
  {
   "cell_type": "code",
   "execution_count": 6,
   "id": "09c07984",
   "metadata": {},
   "outputs": [],
   "source": [
    "subset.obs['stim_indicator'] = (subset.obs.stim == 'stim').astype(int)\n",
    "subset.obs.to_csv(data_path + 'acc_fpr/metadata.csv')\n",
    "subset.var.to_csv(data_path + 'acc_fpr/gene_info.csv')\n",
    "\n",
    "original_data = subset.X.copy()"
   ]
  },
  {
   "cell_type": "code",
   "execution_count": 11,
   "id": "c4adbbd1",
   "metadata": {},
   "outputs": [
    {
     "name": "stdout",
     "output_type": "stream",
     "text": [
      "0.9\n",
      "0.7\n",
      "0.5\n",
      "0.3\n",
      "0.1\n"
     ]
    }
   ],
   "source": [
    "gen = np.random.Generator(np.random.PCG64(42343))\n",
    "for downsample_rate in [0.9, 0.7, 0.5, 0.3, 0.1]:\n",
    "    \n",
    "    print(downsample_rate)\n",
    "    \n",
    "    for replicate in range(10):\n",
    "    \n",
    "        \n",
    "        X_subsample = simulate.capture_sampling(original_data, q=downsample_rate, process='hyper', gen=gen)[1]\n",
    "\n",
    "        subset.X = X_subsample\n",
    "\n",
    "        subset.write(data_path + 'acc_fpr/downsampled/downsampled_{}_{}.h5ad'.format(downsample_rate, replicate))\n",
    "\n",
    "        subset_norm = subset.copy()\n",
    "\n",
    "        sc.pp.log1p(subset_norm)\n",
    "        sc.pp.scale(subset_norm)\n",
    "        subset_norm.write(data_path + 'acc_fpr/downsampled/downsampled_{}_{}_norm.h5ad'.format(downsample_rate, replicate))\n",
    "    #     io.mmwrite(data_path + 'acc_fpr/subsampled_{}.mtx'.format(subsample_rate), X_subsample)\n",
    "    "
   ]
  },
  {
   "cell_type": "markdown",
   "id": "27e5f2fa",
   "metadata": {},
   "source": [
    "### Create a subsampled dataset for method comparisons"
   ]
  },
  {
   "cell_type": "code",
   "execution_count": 12,
   "id": "7950a032",
   "metadata": {},
   "outputs": [],
   "source": [
    "adata = sc.read('/data_volume/memento/demux/interferon.h5ad')"
   ]
  },
  {
   "cell_type": "code",
   "execution_count": 13,
   "id": "39ea0e03",
   "metadata": {},
   "outputs": [],
   "source": [
    "adata = adata[(adata.obs.cell == 'CD14+ Monocytes')]"
   ]
  },
  {
   "cell_type": "code",
   "execution_count": 14,
   "id": "f330005a",
   "metadata": {},
   "outputs": [],
   "source": [
    "adata.var.index = adata.var.index.map(lambda x: '-'.join(x.split('.')))"
   ]
  },
  {
   "cell_type": "code",
   "execution_count": 17,
   "id": "0007cb6d",
   "metadata": {},
   "outputs": [
    {
     "name": "stderr",
     "output_type": "stream",
     "text": [
      "... storing 'ind' as categorical\n",
      "... storing 'stim' as categorical\n",
      "... storing 'cluster' as categorical\n",
      "... storing 'cell' as categorical\n",
      "... storing 'multiplets' as categorical\n",
      "... storing 'ind' as categorical\n",
      "... storing 'stim' as categorical\n",
      "... storing 'cluster' as categorical\n",
      "... storing 'cell' as categorical\n",
      "... storing 'multiplets' as categorical\n",
      "... storing 'ind' as categorical\n",
      "... storing 'stim' as categorical\n",
      "... storing 'cluster' as categorical\n",
      "... storing 'cell' as categorical\n",
      "... storing 'multiplets' as categorical\n",
      "... storing 'ind' as categorical\n",
      "... storing 'stim' as categorical\n",
      "... storing 'cluster' as categorical\n",
      "... storing 'cell' as categorical\n",
      "... storing 'multiplets' as categorical\n",
      "... storing 'ind' as categorical\n",
      "... storing 'stim' as categorical\n",
      "... storing 'cluster' as categorical\n",
      "... storing 'cell' as categorical\n",
      "... storing 'multiplets' as categorical\n",
      "... storing 'ind' as categorical\n",
      "... storing 'stim' as categorical\n",
      "... storing 'cluster' as categorical\n",
      "... storing 'cell' as categorical\n",
      "... storing 'multiplets' as categorical\n",
      "... storing 'ind' as categorical\n",
      "... storing 'stim' as categorical\n",
      "... storing 'cluster' as categorical\n",
      "... storing 'cell' as categorical\n",
      "... storing 'multiplets' as categorical\n",
      "... storing 'ind' as categorical\n",
      "... storing 'stim' as categorical\n",
      "... storing 'cluster' as categorical\n",
      "... storing 'cell' as categorical\n",
      "... storing 'multiplets' as categorical\n",
      "... storing 'ind' as categorical\n",
      "... storing 'stim' as categorical\n",
      "... storing 'cluster' as categorical\n",
      "... storing 'cell' as categorical\n",
      "... storing 'multiplets' as categorical\n",
      "... storing 'ind' as categorical\n",
      "... storing 'stim' as categorical\n",
      "... storing 'cluster' as categorical\n",
      "... storing 'cell' as categorical\n",
      "... storing 'multiplets' as categorical\n"
     ]
    }
   ],
   "source": [
    "n_cells = 250\n",
    "for replicate in range(10):\n",
    "    \n",
    "    adata_sample = sc.pp.subsample(adata, n_obs=n_cells, copy=True, random_state=None).copy().copy()\n",
    "    adata_sample.write(data_path + 'acc_fpr/subsampled/subampled_{}_{}_norm.h5ad'.format(n_cells,replicate))"
   ]
  }
 ],
 "metadata": {
  "kernelspec": {
   "display_name": "Python 3 (ipykernel)",
   "language": "python",
   "name": "python3"
  },
  "language_info": {
   "codemirror_mode": {
    "name": "ipython",
    "version": 3
   },
   "file_extension": ".py",
   "mimetype": "text/x-python",
   "name": "python",
   "nbconvert_exporter": "python",
   "pygments_lexer": "ipython3",
   "version": "3.8.8"
  }
 },
 "nbformat": 4,
 "nbformat_minor": 5
}
