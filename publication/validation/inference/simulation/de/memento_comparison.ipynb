{
 "cells": [
  {
   "cell_type": "markdown",
   "id": "dc17bb97-6054-4934-b008-a9cb209c7b9b",
   "metadata": {},
   "source": [
    "# Why does bootstrap still produce inflation\n",
    "\n",
    "Test old memento see what it does"
   ]
  },
  {
   "cell_type": "code",
   "execution_count": 1,
   "id": "bf4d0042-d51b-4a0e-ad14-4fba60cf2c11",
   "metadata": {
    "tags": []
   },
   "outputs": [],
   "source": [
    "import scanpy as sc\n",
    "import seaborn as sns\n",
    "import pandas as pd\n",
    "import matplotlib.pyplot as plt\n",
    "import numpy as np\n",
    "import scipy.stats as stats\n",
    "# from pybedtools import BedTool\n",
    "import pickle as pkl\n",
    "from statsmodels.stats.multitest import fdrcorrection\n",
    "\n",
    "%matplotlib inline"
   ]
  },
  {
   "cell_type": "code",
   "execution_count": 8,
   "id": "26939558-60fd-4f62-874d-5d12b5e9e5cb",
   "metadata": {
    "tags": []
   },
   "outputs": [
    {
     "ename": "ModuleNotFoundError",
     "evalue": "No module named 'memento.estimator.hypergeometric'",
     "output_type": "error",
     "traceback": [
      "\u001b[0;31m---------------------------------------------------------------------------\u001b[0m",
      "\u001b[0;31mModuleNotFoundError\u001b[0m                       Traceback (most recent call last)",
      "Cell \u001b[0;32mIn[8], line 5\u001b[0m\n\u001b[1;32m      2\u001b[0m sys\u001b[38;5;241m.\u001b[39mpath\u001b[38;5;241m.\u001b[39mappend(\u001b[38;5;124m'\u001b[39m\u001b[38;5;124m/home/ubuntu/Github/memento\u001b[39m\u001b[38;5;124m'\u001b[39m)\n\u001b[1;32m      3\u001b[0m \u001b[38;5;66;03m# sys.path.append('/home/ssm-user/Github/misc-seq/miscseq/')\u001b[39;00m\n\u001b[1;32m      4\u001b[0m \u001b[38;5;66;03m# import encode\u001b[39;00m\n\u001b[0;32m----> 5\u001b[0m \u001b[38;5;28;01mimport\u001b[39;00m \u001b[38;5;21;01mmemento\u001b[39;00m\u001b[38;5;21;01m.\u001b[39;00m\u001b[38;5;21;01mmodel\u001b[39;00m\u001b[38;5;21;01m.\u001b[39;00m\u001b[38;5;21;01mrna\u001b[39;00m \u001b[38;5;28;01mas\u001b[39;00m \u001b[38;5;21;01mrna\u001b[39;00m\n\u001b[1;32m      6\u001b[0m \u001b[38;5;28;01mimport\u001b[39;00m \u001b[38;5;21;01mmemento\u001b[39;00m\u001b[38;5;21;01m.\u001b[39;00m\u001b[38;5;21;01mestimator\u001b[39;00m\u001b[38;5;21;01m.\u001b[39;00m\u001b[38;5;21;01mhypergeometric\u001b[39;00m \u001b[38;5;28;01mas\u001b[39;00m \u001b[38;5;21;01mhg\u001b[39;00m\n\u001b[1;32m      7\u001b[0m \u001b[38;5;28;01mimport\u001b[39;00m \u001b[38;5;21;01mmemento\u001b[39;00m\u001b[38;5;21;01m.\u001b[39;00m\u001b[38;5;21;01mutil\u001b[39;00m \u001b[38;5;28;01mas\u001b[39;00m \u001b[38;5;21;01mutil\u001b[39;00m\n",
      "File \u001b[0;32m~/Github/memento/memento/model/rna.py:13\u001b[0m\n\u001b[1;32m     10\u001b[0m \u001b[38;5;28;01mfrom\u001b[39;00m \u001b[38;5;21;01mfunctools\u001b[39;00m \u001b[38;5;28;01mimport\u001b[39;00m partial\n\u001b[1;32m     11\u001b[0m \u001b[38;5;28;01mfrom\u001b[39;00m \u001b[38;5;21;01msklearn\u001b[39;00m\u001b[38;5;21;01m.\u001b[39;00m\u001b[38;5;21;01mlinear_model\u001b[39;00m \u001b[38;5;28;01mimport\u001b[39;00m LinearRegression\n\u001b[0;32m---> 13\u001b[0m \u001b[38;5;28;01mfrom\u001b[39;00m \u001b[38;5;21;01mmemento\u001b[39;00m\u001b[38;5;21;01m.\u001b[39;00m\u001b[38;5;21;01mestimator\u001b[39;00m\u001b[38;5;21;01m.\u001b[39;00m\u001b[38;5;21;01mhypergeometric\u001b[39;00m \u001b[38;5;28;01mimport\u001b[39;00m (\n\u001b[1;32m     14\u001b[0m     hg_mean, \n\u001b[1;32m     15\u001b[0m     hg_sem_for_gene,\n\u001b[1;32m     16\u001b[0m     hg_variance, \n\u001b[1;32m     17\u001b[0m     hg_sev_for_gene,\n\u001b[1;32m     18\u001b[0m     residual_variance, \n\u001b[1;32m     19\u001b[0m     fit_mv_regressor\n\u001b[1;32m     20\u001b[0m )\n\u001b[1;32m     21\u001b[0m \u001b[38;5;28;01mfrom\u001b[39;00m \u001b[38;5;21;01mmemento\u001b[39;00m\u001b[38;5;21;01m.\u001b[39;00m\u001b[38;5;21;01mestimator\u001b[39;00m\u001b[38;5;21;01m.\u001b[39;00m\u001b[38;5;21;01msample\u001b[39;00m \u001b[38;5;28;01mimport\u001b[39;00m sample_mean, sample_variance\n\u001b[1;32m     22\u001b[0m \u001b[38;5;28;01mfrom\u001b[39;00m \u001b[38;5;21;01mmemento\u001b[39;00m\u001b[38;5;21;01m.\u001b[39;00m\u001b[38;5;21;01mutil\u001b[39;00m \u001b[38;5;28;01mimport\u001b[39;00m (\n\u001b[1;32m     23\u001b[0m     bin_size_factor, \n\u001b[1;32m     24\u001b[0m     select_cells, \n\u001b[0;32m   (...)\u001b[0m\n\u001b[1;32m     29\u001b[0m     fit_quasi_nb,\n\u001b[1;32m     30\u001b[0m     quasi_nb_var)\n",
      "\u001b[0;31mModuleNotFoundError\u001b[0m: No module named 'memento.estimator.hypergeometric'"
     ]
    }
   ],
   "source": [
    "import sys\n",
    "sys.path.append('/home/ubuntu/Github/memento')\n",
    "# sys.path.append('/home/ssm-user/Github/misc-seq/miscseq/')\n",
    "# import encode\n",
    "import memento.model.rna as rna\n",
    "import memento.estimator.hypergeometric as hg\n",
    "import memento.util as util"
   ]
  },
  {
   "cell_type": "code",
   "execution_count": 9,
   "id": "53d3cfdb-90ca-413d-aeac-3be4a703172f",
   "metadata": {
    "tags": []
   },
   "outputs": [],
   "source": [
    "data_path = '/data_volume/memento/simulation/'"
   ]
  },
  {
   "cell_type": "markdown",
   "id": "75da5d95-2807-40aa-934e-3457ac7fb2b5",
   "metadata": {},
   "source": [
    "### Debug memento"
   ]
  },
  {
   "cell_type": "code",
   "execution_count": 10,
   "id": "57139517-8455-4c70-8af3-c418ba5ea1dd",
   "metadata": {
    "tags": []
   },
   "outputs": [
    {
     "name": "stderr",
     "output_type": "stream",
     "text": [
      "/home/ubuntu/anaconda3/envs/mementocxg/lib/python3.11/site-packages/anndata/__init__.py:51: FutureWarning: `anndata.read` is deprecated, use `anndata.read_h5ad` instead. `ad.read` will be removed in mid 2024.\n",
      "  warnings.warn(\n"
     ]
    },
    {
     "ename": "FileNotFoundError",
     "evalue": "[Errno 2] Unable to synchronously open file (unable to open file: name = '/data_volume/memento/simulation/de/anndata.h5ad', errno = 2, error message = 'No such file or directory', flags = 0, o_flags = 0)",
     "output_type": "error",
     "traceback": [
      "\u001b[0;31m---------------------------------------------------------------------------\u001b[0m",
      "\u001b[0;31mFileNotFoundError\u001b[0m                         Traceback (most recent call last)",
      "Cell \u001b[0;32mIn[10], line 1\u001b[0m\n\u001b[0;32m----> 1\u001b[0m adata \u001b[38;5;241m=\u001b[39m sc\u001b[38;5;241m.\u001b[39mread(data_path \u001b[38;5;241m+\u001b[39m \u001b[38;5;124m'\u001b[39m\u001b[38;5;124mde/anndata.h5ad\u001b[39m\u001b[38;5;124m'\u001b[39m)\n\u001b[1;32m      2\u001b[0m adata\u001b[38;5;241m.\u001b[39mobs[\u001b[38;5;124m'\u001b[39m\u001b[38;5;124mq\u001b[39m\u001b[38;5;124m'\u001b[39m] \u001b[38;5;241m=\u001b[39m \u001b[38;5;241m0.1\u001b[39m\n\u001b[1;32m      4\u001b[0m rna\u001b[38;5;241m.\u001b[39mMementoRNA\u001b[38;5;241m.\u001b[39msetup_anndata(\n\u001b[1;32m      5\u001b[0m         adata\u001b[38;5;241m=\u001b[39madata,\n\u001b[1;32m      6\u001b[0m         q_column\u001b[38;5;241m=\u001b[39m\u001b[38;5;124m'\u001b[39m\u001b[38;5;124mq\u001b[39m\u001b[38;5;124m'\u001b[39m,\n\u001b[0;32m   (...)\u001b[0m\n\u001b[1;32m      9\u001b[0m         trim_percent\u001b[38;5;241m=\u001b[39m\u001b[38;5;241m0.1\u001b[39m,\n\u001b[1;32m     10\u001b[0m         shrinkage\u001b[38;5;241m=\u001b[39m\u001b[38;5;241m0.5\u001b[39m)\n",
      "File \u001b[0;32m~/anaconda3/envs/mementocxg/lib/python3.11/site-packages/scanpy/readwrite.py:111\u001b[0m, in \u001b[0;36mread\u001b[0;34m(filename, backed, sheet, ext, delimiter, first_column_names, backup_url, cache, cache_compression, **kwargs)\u001b[0m\n\u001b[1;32m    109\u001b[0m filename \u001b[38;5;241m=\u001b[39m Path(filename)  \u001b[38;5;66;03m# allow passing strings\u001b[39;00m\n\u001b[1;32m    110\u001b[0m \u001b[38;5;28;01mif\u001b[39;00m is_valid_filename(filename):\n\u001b[0;32m--> 111\u001b[0m     \u001b[38;5;28;01mreturn\u001b[39;00m _read(\n\u001b[1;32m    112\u001b[0m         filename,\n\u001b[1;32m    113\u001b[0m         backed\u001b[38;5;241m=\u001b[39mbacked,\n\u001b[1;32m    114\u001b[0m         sheet\u001b[38;5;241m=\u001b[39msheet,\n\u001b[1;32m    115\u001b[0m         ext\u001b[38;5;241m=\u001b[39mext,\n\u001b[1;32m    116\u001b[0m         delimiter\u001b[38;5;241m=\u001b[39mdelimiter,\n\u001b[1;32m    117\u001b[0m         first_column_names\u001b[38;5;241m=\u001b[39mfirst_column_names,\n\u001b[1;32m    118\u001b[0m         backup_url\u001b[38;5;241m=\u001b[39mbackup_url,\n\u001b[1;32m    119\u001b[0m         cache\u001b[38;5;241m=\u001b[39mcache,\n\u001b[1;32m    120\u001b[0m         cache_compression\u001b[38;5;241m=\u001b[39mcache_compression,\n\u001b[1;32m    121\u001b[0m         \u001b[38;5;241m*\u001b[39m\u001b[38;5;241m*\u001b[39mkwargs,\n\u001b[1;32m    122\u001b[0m     )\n\u001b[1;32m    123\u001b[0m \u001b[38;5;66;03m# generate filename and read to dict\u001b[39;00m\n\u001b[1;32m    124\u001b[0m filekey \u001b[38;5;241m=\u001b[39m \u001b[38;5;28mstr\u001b[39m(filename)\n",
      "File \u001b[0;32m~/anaconda3/envs/mementocxg/lib/python3.11/site-packages/scanpy/readwrite.py:721\u001b[0m, in \u001b[0;36m_read\u001b[0;34m(filename, backed, sheet, ext, delimiter, first_column_names, backup_url, cache, cache_compression, suppress_cache_warning, **kwargs)\u001b[0m\n\u001b[1;32m    719\u001b[0m \u001b[38;5;28;01mif\u001b[39;00m ext \u001b[38;5;129;01min\u001b[39;00m {\u001b[38;5;124m'\u001b[39m\u001b[38;5;124mh5\u001b[39m\u001b[38;5;124m'\u001b[39m, \u001b[38;5;124m'\u001b[39m\u001b[38;5;124mh5ad\u001b[39m\u001b[38;5;124m'\u001b[39m}:\n\u001b[1;32m    720\u001b[0m     \u001b[38;5;28;01mif\u001b[39;00m sheet \u001b[38;5;129;01mis\u001b[39;00m \u001b[38;5;28;01mNone\u001b[39;00m:\n\u001b[0;32m--> 721\u001b[0m         \u001b[38;5;28;01mreturn\u001b[39;00m read_h5ad(filename, backed\u001b[38;5;241m=\u001b[39mbacked)\n\u001b[1;32m    722\u001b[0m     \u001b[38;5;28;01melse\u001b[39;00m:\n\u001b[1;32m    723\u001b[0m         logg\u001b[38;5;241m.\u001b[39mdebug(\u001b[38;5;124mf\u001b[39m\u001b[38;5;124m'\u001b[39m\u001b[38;5;124mreading sheet \u001b[39m\u001b[38;5;132;01m{\u001b[39;00msheet\u001b[38;5;132;01m}\u001b[39;00m\u001b[38;5;124m from file \u001b[39m\u001b[38;5;132;01m{\u001b[39;00mfilename\u001b[38;5;132;01m}\u001b[39;00m\u001b[38;5;124m'\u001b[39m)\n",
      "File \u001b[0;32m~/anaconda3/envs/mementocxg/lib/python3.11/site-packages/anndata/__init__.py:56\u001b[0m, in \u001b[0;36mread\u001b[0;34m(*args, **kwargs)\u001b[0m\n\u001b[1;32m     49\u001b[0m \u001b[38;5;28;01mimport\u001b[39;00m \u001b[38;5;21;01mwarnings\u001b[39;00m\n\u001b[1;32m     51\u001b[0m warnings\u001b[38;5;241m.\u001b[39mwarn(\n\u001b[1;32m     52\u001b[0m     \u001b[38;5;124m\"\u001b[39m\u001b[38;5;124m`anndata.read` is deprecated, use `anndata.read_h5ad` instead. \u001b[39m\u001b[38;5;124m\"\u001b[39m\n\u001b[1;32m     53\u001b[0m     \u001b[38;5;124m\"\u001b[39m\u001b[38;5;124m`ad.read` will be removed in mid 2024.\u001b[39m\u001b[38;5;124m\"\u001b[39m,\n\u001b[1;32m     54\u001b[0m     \u001b[38;5;167;01mFutureWarning\u001b[39;00m,\n\u001b[1;32m     55\u001b[0m )\n\u001b[0;32m---> 56\u001b[0m \u001b[38;5;28;01mreturn\u001b[39;00m read_h5ad(\u001b[38;5;241m*\u001b[39margs, \u001b[38;5;241m*\u001b[39m\u001b[38;5;241m*\u001b[39mkwargs)\n",
      "File \u001b[0;32m~/anaconda3/envs/mementocxg/lib/python3.11/site-packages/anndata/_io/h5ad.py:230\u001b[0m, in \u001b[0;36mread_h5ad\u001b[0;34m(filename, backed, as_sparse, as_sparse_fmt, chunk_size)\u001b[0m\n\u001b[1;32m    222\u001b[0m         \u001b[38;5;28;01mraise\u001b[39;00m \u001b[38;5;167;01mNotImplementedError\u001b[39;00m(\n\u001b[1;32m    223\u001b[0m             \u001b[38;5;124m\"\u001b[39m\u001b[38;5;124mCurrently only `X` and `raw/X` can be read as sparse.\u001b[39m\u001b[38;5;124m\"\u001b[39m\n\u001b[1;32m    224\u001b[0m         )\n\u001b[1;32m    226\u001b[0m rdasp \u001b[38;5;241m=\u001b[39m partial(\n\u001b[1;32m    227\u001b[0m     read_dense_as_sparse, sparse_format\u001b[38;5;241m=\u001b[39mas_sparse_fmt, axis_chunk\u001b[38;5;241m=\u001b[39mchunk_size\n\u001b[1;32m    228\u001b[0m )\n\u001b[0;32m--> 230\u001b[0m \u001b[38;5;28;01mwith\u001b[39;00m h5py\u001b[38;5;241m.\u001b[39mFile(filename, \u001b[38;5;124m\"\u001b[39m\u001b[38;5;124mr\u001b[39m\u001b[38;5;124m\"\u001b[39m) \u001b[38;5;28;01mas\u001b[39;00m f:\n\u001b[1;32m    232\u001b[0m     \u001b[38;5;28;01mdef\u001b[39;00m \u001b[38;5;21mcallback\u001b[39m(func, elem_name: \u001b[38;5;28mstr\u001b[39m, elem, iospec):\n\u001b[1;32m    233\u001b[0m         \u001b[38;5;28;01mif\u001b[39;00m iospec\u001b[38;5;241m.\u001b[39mencoding_type \u001b[38;5;241m==\u001b[39m \u001b[38;5;124m\"\u001b[39m\u001b[38;5;124manndata\u001b[39m\u001b[38;5;124m\"\u001b[39m \u001b[38;5;129;01mor\u001b[39;00m elem_name\u001b[38;5;241m.\u001b[39mendswith(\u001b[38;5;124m\"\u001b[39m\u001b[38;5;124m/\u001b[39m\u001b[38;5;124m\"\u001b[39m):\n",
      "File \u001b[0;32m~/anaconda3/envs/mementocxg/lib/python3.11/site-packages/h5py/_hl/files.py:562\u001b[0m, in \u001b[0;36mFile.__init__\u001b[0;34m(self, name, mode, driver, libver, userblock_size, swmr, rdcc_nslots, rdcc_nbytes, rdcc_w0, track_order, fs_strategy, fs_persist, fs_threshold, fs_page_size, page_buf_size, min_meta_keep, min_raw_keep, locking, alignment_threshold, alignment_interval, meta_block_size, **kwds)\u001b[0m\n\u001b[1;32m    553\u001b[0m     fapl \u001b[38;5;241m=\u001b[39m make_fapl(driver, libver, rdcc_nslots, rdcc_nbytes, rdcc_w0,\n\u001b[1;32m    554\u001b[0m                      locking, page_buf_size, min_meta_keep, min_raw_keep,\n\u001b[1;32m    555\u001b[0m                      alignment_threshold\u001b[38;5;241m=\u001b[39malignment_threshold,\n\u001b[1;32m    556\u001b[0m                      alignment_interval\u001b[38;5;241m=\u001b[39malignment_interval,\n\u001b[1;32m    557\u001b[0m                      meta_block_size\u001b[38;5;241m=\u001b[39mmeta_block_size,\n\u001b[1;32m    558\u001b[0m                      \u001b[38;5;241m*\u001b[39m\u001b[38;5;241m*\u001b[39mkwds)\n\u001b[1;32m    559\u001b[0m     fcpl \u001b[38;5;241m=\u001b[39m make_fcpl(track_order\u001b[38;5;241m=\u001b[39mtrack_order, fs_strategy\u001b[38;5;241m=\u001b[39mfs_strategy,\n\u001b[1;32m    560\u001b[0m                      fs_persist\u001b[38;5;241m=\u001b[39mfs_persist, fs_threshold\u001b[38;5;241m=\u001b[39mfs_threshold,\n\u001b[1;32m    561\u001b[0m                      fs_page_size\u001b[38;5;241m=\u001b[39mfs_page_size)\n\u001b[0;32m--> 562\u001b[0m     fid \u001b[38;5;241m=\u001b[39m make_fid(name, mode, userblock_size, fapl, fcpl, swmr\u001b[38;5;241m=\u001b[39mswmr)\n\u001b[1;32m    564\u001b[0m \u001b[38;5;28;01mif\u001b[39;00m \u001b[38;5;28misinstance\u001b[39m(libver, \u001b[38;5;28mtuple\u001b[39m):\n\u001b[1;32m    565\u001b[0m     \u001b[38;5;28mself\u001b[39m\u001b[38;5;241m.\u001b[39m_libver \u001b[38;5;241m=\u001b[39m libver\n",
      "File \u001b[0;32m~/anaconda3/envs/mementocxg/lib/python3.11/site-packages/h5py/_hl/files.py:235\u001b[0m, in \u001b[0;36mmake_fid\u001b[0;34m(name, mode, userblock_size, fapl, fcpl, swmr)\u001b[0m\n\u001b[1;32m    233\u001b[0m     \u001b[38;5;28;01mif\u001b[39;00m swmr \u001b[38;5;129;01mand\u001b[39;00m swmr_support:\n\u001b[1;32m    234\u001b[0m         flags \u001b[38;5;241m|\u001b[39m\u001b[38;5;241m=\u001b[39m h5f\u001b[38;5;241m.\u001b[39mACC_SWMR_READ\n\u001b[0;32m--> 235\u001b[0m     fid \u001b[38;5;241m=\u001b[39m h5f\u001b[38;5;241m.\u001b[39mopen(name, flags, fapl\u001b[38;5;241m=\u001b[39mfapl)\n\u001b[1;32m    236\u001b[0m \u001b[38;5;28;01melif\u001b[39;00m mode \u001b[38;5;241m==\u001b[39m \u001b[38;5;124m'\u001b[39m\u001b[38;5;124mr+\u001b[39m\u001b[38;5;124m'\u001b[39m:\n\u001b[1;32m    237\u001b[0m     fid \u001b[38;5;241m=\u001b[39m h5f\u001b[38;5;241m.\u001b[39mopen(name, h5f\u001b[38;5;241m.\u001b[39mACC_RDWR, fapl\u001b[38;5;241m=\u001b[39mfapl)\n",
      "File \u001b[0;32mh5py/_objects.pyx:54\u001b[0m, in \u001b[0;36mh5py._objects.with_phil.wrapper\u001b[0;34m()\u001b[0m\n",
      "File \u001b[0;32mh5py/_objects.pyx:55\u001b[0m, in \u001b[0;36mh5py._objects.with_phil.wrapper\u001b[0;34m()\u001b[0m\n",
      "File \u001b[0;32mh5py/h5f.pyx:102\u001b[0m, in \u001b[0;36mh5py.h5f.open\u001b[0;34m()\u001b[0m\n",
      "\u001b[0;31mFileNotFoundError\u001b[0m: [Errno 2] Unable to synchronously open file (unable to open file: name = '/data_volume/memento/simulation/de/anndata.h5ad', errno = 2, error message = 'No such file or directory', flags = 0, o_flags = 0)"
     ]
    }
   ],
   "source": [
    "adata = sc.read(data_path + 'de/anndata.h5ad')\n",
    "adata.obs['q'] = 0.1\n",
    "\n",
    "rna.MementoRNA.setup_anndata(\n",
    "        adata=adata,\n",
    "        q_column='q',\n",
    "        label_columns=['group', 'condition'],\n",
    "        num_bins=30,\n",
    "        trim_percent=0.1,\n",
    "        shrinkage=0.5)\n",
    "\n",
    "adata = adata[:, adata.X.mean(axis=0).A1 > 0.1]\n",
    "# model = rna.MementoRNA(adata=adata)\n",
    "\n",
    "# model.compute_estimate(\n",
    "#     estimand='mean',\n",
    "#     get_se=True,\n",
    "#     n_jobs=30,\n",
    "# )\n"
   ]
  },
  {
   "cell_type": "code",
   "execution_count": null,
   "id": "db1f3668-c967-48d5-8102-e40e00f9a4a5",
   "metadata": {
    "tags": []
   },
   "outputs": [],
   "source": [
    "genes = adata.var.index.tolist()"
   ]
  },
  {
   "cell_type": "code",
   "execution_count": null,
   "id": "5f3bab26-7100-4ed4-bdc2-a96827122aa4",
   "metadata": {
    "tags": []
   },
   "outputs": [],
   "source": [
    "ctrl_ind1_cells_all = adata[adata.uns['memento']['group_barcodes']['memento_group^A^ctrl']].X.toarray()\n",
    "stim_ind1_cells_all = adata[adata.uns['memento']['group_barcodes']['memento_group^A^stim']].X.toarray()\n",
    "ctrl_ind2_cells_all = adata[adata.uns['memento']['group_barcodes']['memento_group^B^ctrl']].X.toarray()\n",
    "stim_ind2_cells_all = adata[adata.uns['memento']['group_barcodes']['memento_group^B^stim']].X.toarray()\n",
    "\n",
    "n1 = ctrl_ind1_cells_all.shape[0]\n",
    "n2 = ctrl_ind2_cells_all.shape[0]\n",
    "\n",
    "n_list = np.array([n1, n1, n2, n2])\n",
    "\n",
    "ctrl_ind1_cells_all = ctrl_ind1_cells_all/adata.obs.loc[adata.uns['memento']['group_barcodes']['memento_group^A^ctrl'], 'memento_approx_size_factor'].values.reshape(-1,1)\n",
    "stim_ind1_cells_all = stim_ind1_cells_all/adata.obs.loc[adata.uns['memento']['group_barcodes']['memento_group^A^stim'], 'memento_approx_size_factor'].values.reshape(-1,1)\n",
    "ctrl_ind2_cells_all = ctrl_ind2_cells_all/adata.obs.loc[adata.uns['memento']['group_barcodes']['memento_group^B^ctrl'], 'memento_approx_size_factor'].values.reshape(-1,1)\n",
    "stim_ind2_cells_all = stim_ind2_cells_all/adata.obs.loc[adata.uns['memento']['group_barcodes']['memento_group^B^stim'], 'memento_approx_size_factor'].values.reshape(-1,1)\n",
    "\n",
    "pv_list = np.zeros(len(genes))\n",
    "coef_list = np.zeros(len(genes))\n",
    "for idx, gene in enumerate(genes):\n",
    "\n",
    "    ctrl_ind1_cells = ctrl_ind1_cells_all[:, idx]\n",
    "    stim_ind1_cells = stim_ind1_cells_all[:, idx]\n",
    "    ctrl_ind2_cells = ctrl_ind2_cells_all[:, idx]\n",
    "    stim_ind2_cells = stim_ind2_cells_all[:, idx]\n",
    "\n",
    "\n",
    "    m = np.array([\n",
    "        ctrl_ind1_cells.mean(),\n",
    "        stim_ind1_cells.mean(),\n",
    "        ctrl_ind2_cells.mean(),\n",
    "        stim_ind2_cells.mean()\n",
    "        \n",
    "    ])\n",
    "    lm = np.log(m)\n",
    "               \n",
    "    v = np.array([\n",
    "        ctrl_ind1_cells.var()/n1,\n",
    "        stim_ind1_cells.var()/n1,\n",
    "        ctrl_ind2_cells.var()/n2,\n",
    "        stim_ind2_cells.var()/n2\n",
    "    ])\n",
    "    se = np.sqrt(v)\n",
    "    \n",
    "    vlm = ( (np.log(m+se) - np.log(m-se))/2 )**2\n",
    "    \n",
    "    X = np.array([\n",
    "        [1, -0.5, 0, 0],\n",
    "        [1, -0.5, -0.5, 1],\n",
    "        [1, 0.5, 0, 0],\n",
    "        [1, 0.5, 0.5, 1]\n",
    "    ])\n",
    "\n",
    "    try:\n",
    "        from sklearn.linear_model import LinearRegression\n",
    "        # fit WLS using sample_weights\n",
    "        WLS = LinearRegression()\n",
    "        WLS.fit(X, lm, sample_weight=n_list)\n",
    "    except:\n",
    "        pv_list[idx] = np.nan\n",
    "        continue\n",
    "    \n",
    "    diff_mean = WLS.coef_[-1]\n",
    "    \n",
    "    W = np.diag(1/vlm)\n",
    "    beta_var_hat = np.diag(np.linalg.pinv(X.T@W@X))\n",
    "    se = np.sqrt( beta_var_hat[-1] )\n",
    "    \n",
    "    z = diff_mean/se\n",
    "    pv = stats.norm.sf(np.abs(z))*2\n",
    "\n",
    "    pv_list[idx] = pv\n",
    "    coef_list[idx] = diff_mean"
   ]
  },
  {
   "cell_type": "code",
   "execution_count": 3,
   "id": "75a73127-929a-4e75-a278-cce7347fb4e8",
   "metadata": {
    "tags": []
   },
   "outputs": [
    {
     "ename": "NameError",
     "evalue": "name 'coef_list' is not defined",
     "output_type": "error",
     "traceback": [
      "\u001b[0;31m---------------------------------------------------------------------------\u001b[0m",
      "\u001b[0;31mNameError\u001b[0m                                 Traceback (most recent call last)",
      "Cell \u001b[0;32mIn[3], line 2\u001b[0m\n\u001b[1;32m      1\u001b[0m result \u001b[38;5;241m=\u001b[39m pd\u001b[38;5;241m.\u001b[39mDataFrame(\n\u001b[0;32m----> 2\u001b[0m     \u001b[38;5;28mzip\u001b[39m(coef_list,pv_list),\n\u001b[1;32m      3\u001b[0m     index\u001b[38;5;241m=\u001b[39mgenes,\n\u001b[1;32m      4\u001b[0m     columns\u001b[38;5;241m=\u001b[39m[\u001b[38;5;124m'\u001b[39m\u001b[38;5;124mcoef\u001b[39m\u001b[38;5;124m'\u001b[39m,\u001b[38;5;124m'\u001b[39m\u001b[38;5;124mpval\u001b[39m\u001b[38;5;124m'\u001b[39m])\u001b[38;5;241m.\u001b[39mdropna()\n\u001b[1;32m      6\u001b[0m result\u001b[38;5;241m.\u001b[39mpval\u001b[38;5;241m.\u001b[39mhist()\n\u001b[1;32m      8\u001b[0m result \u001b[38;5;241m=\u001b[39m result\u001b[38;5;241m.\u001b[39mjoin(adata\u001b[38;5;241m.\u001b[39mvar[[\u001b[38;5;124m'\u001b[39m\u001b[38;5;124mis_de\u001b[39m\u001b[38;5;124m'\u001b[39m]],how\u001b[38;5;241m=\u001b[39m\u001b[38;5;124m'\u001b[39m\u001b[38;5;124minner\u001b[39m\u001b[38;5;124m'\u001b[39m)\n",
      "\u001b[0;31mNameError\u001b[0m: name 'coef_list' is not defined"
     ]
    }
   ],
   "source": [
    "result = pd.DataFrame(\n",
    "    zip(coef_list,pv_list),\n",
    "    index=genes,\n",
    "    columns=['coef','pval']).dropna()\n",
    "\n",
    "result.pval.hist()\n",
    "\n",
    "result = result.join(adata.var[['is_de']],how='inner')\n",
    "\n",
    "_, result['fdr'] = fdrcorrection(result['pval'])\n",
    "result.to_csv(data_path + 'de/memento_wls.csv')\n",
    "\n",
    "check_thresh = 0.05\n",
    "tpr = (result.query('is_de')['pval'] < check_thresh).mean()\n",
    "fpr = (result.query('~is_de')['pval'] < check_thresh).mean()\n",
    "\n",
    "print(f'memento successful, fpr = {fpr}, tpr = {tpr}')"
   ]
  },
  {
   "cell_type": "code",
   "execution_count": null,
   "id": "8bd57110-dbfa-4010-8bcd-cf9c03cde143",
   "metadata": {},
   "outputs": [],
   "source": []
  },
  {
   "cell_type": "code",
   "execution_count": null,
   "id": "6e013f41-550e-4bc3-a3b0-7b6a7ac4f4e9",
   "metadata": {},
   "outputs": [],
   "source": []
  },
  {
   "cell_type": "code",
   "execution_count": null,
   "id": "fe96f621-a043-47f2-9bbc-3b934a0632b0",
   "metadata": {},
   "outputs": [],
   "source": []
  },
  {
   "cell_type": "code",
   "execution_count": null,
   "id": "429cc375-105a-4a2e-9a67-9a823abff662",
   "metadata": {},
   "outputs": [],
   "source": []
  },
  {
   "cell_type": "code",
   "execution_count": null,
   "id": "9a1dad7c-7f85-44f0-b10b-8ec3f65b4c4d",
   "metadata": {},
   "outputs": [],
   "source": []
  },
  {
   "cell_type": "code",
   "execution_count": 4,
   "id": "c8d2a5e3-54ed-459a-a6f2-27caf8db9d62",
   "metadata": {
    "tags": []
   },
   "outputs": [
    {
     "ename": "NameError",
     "evalue": "name 'adata' is not defined",
     "output_type": "error",
     "traceback": [
      "\u001b[0;31m---------------------------------------------------------------------------\u001b[0m",
      "\u001b[0;31mNameError\u001b[0m                                 Traceback (most recent call last)",
      "Cell \u001b[0;32mIn[4], line 1\u001b[0m\n\u001b[0;32m----> 1\u001b[0m ctrl_ind1_cells \u001b[38;5;241m=\u001b[39m adata[adata\u001b[38;5;241m.\u001b[39muns[\u001b[38;5;124m'\u001b[39m\u001b[38;5;124mmemento\u001b[39m\u001b[38;5;124m'\u001b[39m][\u001b[38;5;124m'\u001b[39m\u001b[38;5;124mgroup_barcodes\u001b[39m\u001b[38;5;124m'\u001b[39m][\u001b[38;5;124m'\u001b[39m\u001b[38;5;124mmemento_group^zvgph^ctrl\u001b[39m\u001b[38;5;124m'\u001b[39m]]\u001b[38;5;241m.\u001b[39mX\u001b[38;5;241m.\u001b[39mtoarray()\n\u001b[1;32m      2\u001b[0m stim_ind1_cells \u001b[38;5;241m=\u001b[39m adata[adata\u001b[38;5;241m.\u001b[39muns[\u001b[38;5;124m'\u001b[39m\u001b[38;5;124mmemento\u001b[39m\u001b[38;5;124m'\u001b[39m][\u001b[38;5;124m'\u001b[39m\u001b[38;5;124mgroup_barcodes\u001b[39m\u001b[38;5;124m'\u001b[39m][\u001b[38;5;124m'\u001b[39m\u001b[38;5;124mmemento_group^zvgph^stim\u001b[39m\u001b[38;5;124m'\u001b[39m]]\u001b[38;5;241m.\u001b[39mX\u001b[38;5;241m.\u001b[39mtoarray()\n\u001b[1;32m      3\u001b[0m ctrl_ind2_cells \u001b[38;5;241m=\u001b[39m adata[adata\u001b[38;5;241m.\u001b[39muns[\u001b[38;5;124m'\u001b[39m\u001b[38;5;124mmemento\u001b[39m\u001b[38;5;124m'\u001b[39m][\u001b[38;5;124m'\u001b[39m\u001b[38;5;124mgroup_barcodes\u001b[39m\u001b[38;5;124m'\u001b[39m][\u001b[38;5;124m'\u001b[39m\u001b[38;5;124mmemento_group^vxkxt^ctrl\u001b[39m\u001b[38;5;124m'\u001b[39m]]\u001b[38;5;241m.\u001b[39mX\u001b[38;5;241m.\u001b[39mtoarray()\n",
      "\u001b[0;31mNameError\u001b[0m: name 'adata' is not defined"
     ]
    }
   ],
   "source": [
    "ctrl_ind1_cells = adata[adata.uns['memento']['group_barcodes']['memento_group^zvgph^ctrl']].X.toarray()\n",
    "stim_ind1_cells = adata[adata.uns['memento']['group_barcodes']['memento_group^zvgph^stim']].X.toarray()\n",
    "ctrl_ind2_cells = adata[adata.uns['memento']['group_barcodes']['memento_group^vxkxt^ctrl']].X.toarray()\n",
    "stim_ind2_cells = adata[adata.uns['memento']['group_barcodes']['memento_group^vxkxt^stim']].X.toarray()"
   ]
  },
  {
   "cell_type": "code",
   "execution_count": 90,
   "id": "7bfda7d1-ef4b-42e6-8cba-e26d169b3953",
   "metadata": {},
   "outputs": [],
   "source": [
    "ctrl_ind1_cells = ctrl_ind1_cells/ctrl_ind1_cells.sum(axis=1).reshape(-1,1)\n",
    "stim_ind1_cells = stim_ind1_cells/stim_ind1_cells.sum(axis=1).reshape(-1,1)\n",
    "ctrl_ind2_cells = ctrl_ind2_cells/ctrl_ind2_cells.sum(axis=1).reshape(-1,1)\n",
    "stim_ind2_cells = stim_ind2_cells/stim_ind2_cells.sum(axis=1).reshape(-1,1)"
   ]
  },
  {
   "cell_type": "code",
   "execution_count": null,
   "id": "007f98eb-dfd4-4dab-a7e9-791ffb434219",
   "metadata": {},
   "outputs": [],
   "source": [
    "m = np.array([\n",
    "    ctrl_ind1_cells.mean(),\n",
    "    stim_ind1_cells.mean(),\n",
    "    ctrl_ind2_cells.mean(),\n",
    "    stim_ind2_cells.mean()\n",
    "    \n",
    "])\n",
    "lm = np.log(m)\n",
    "           \n",
    "v = np.array([\n",
    "    ctrl_ind1_cells.var()/n1,\n",
    "    stim_ind1_cells.var()/n1,\n",
    "    ctrl_ind2_cells.var()/n2,\n",
    "    stim_ind2_cells.var()/n2\n",
    "])\n",
    "se = np.sqrt(v)\n",
    "\n",
    "vlm = ( (np.log(m+se) - np.log(m-se))/2 )**2\n",
    "\n",
    "X = np.array([\n",
    "    [1, -0.5, 0, 0],\n",
    "    [1, -0.5, -0.5, 1],\n",
    "    [1, 0.5, 0, 0],\n",
    "    [1, 0.5, 0.5, 1]\n",
    "])"
   ]
  },
  {
   "cell_type": "code",
   "execution_count": 64,
   "id": "0b027df9-8cb3-4eac-bfa6-f35614181dfc",
   "metadata": {},
   "outputs": [],
   "source": [
    "for idx, gene in enumerate(genes):\n",
    "\n",
    "    lm = model.estimates['log_mean'][gene].values\n",
    "    vlm = model.estimates['se_log_mean'][gene].values**2\n",
    "    X = np.array([\n",
    "        [1, -0.5, 0, 0],\n",
    "        [1, -0.5, -0.5, 1],\n",
    "        [1, 0.5, 0, 0],\n",
    "        [1, 0.5, 0.5, 1]\n",
    "    ])\n",
    "    try:\n",
    "        from sklearn.linear_model import LinearRegression\n",
    "        # fit WLS using sample_weights\n",
    "        WLS = LinearRegression()\n",
    "        WLS.fit(X, lm, sample_weight=n_list)\n",
    "    except:\n",
    "        pv_list[idx] = np.nan\n",
    "        continue\n",
    "    \n",
    "    diff_mean = WLS.coef_[-1]\n",
    "    \n",
    "    W = np.diag(1/vlm)\n",
    "    beta_var_hat = np.diag(np.linalg.pinv(X.T@W@X))\n",
    "    se = np.sqrt( beta_var_hat[-1] )\n",
    "    \n",
    "    z = diff_mean/se\n",
    "    pv = stats.norm.sf(np.abs(z))*2\n",
    "\n",
    "    pv_list[idx] = pv\n",
    "\n",
    "    break"
   ]
  },
  {
   "cell_type": "code",
   "execution_count": null,
   "id": "2dcf46a0-426a-40f3-a153-aabdf7ba3f07",
   "metadata": {},
   "outputs": [],
   "source": [
    "ctrl_ind1_cells = stats.nbinom.rvs(*convert_params_nb(ctrl_ind1, 0.1), size=n1)\n",
    "stim_ind1_cells = stats.nbinom.rvs(*convert_params_nb(stim_ind1, 0.1), size=n1)\n",
    "\n",
    "ctrl_ind2_cells = stats.nbinom.rvs(*convert_params_nb(ctrl_ind2, 0.1), size=n2)\n",
    "stim_ind2_cells = stats.nbinom.rvs(*convert_params_nb(stim_ind2, 0.1), size=n2)"
   ]
  },
  {
   "cell_type": "code",
   "execution_count": 71,
   "id": "ad77a211-bfa5-4633-b832-8ea6e68ccef8",
   "metadata": {},
   "outputs": [
    {
     "data": {
      "text/plain": [
       "View of AnnData object with n_obs × n_vars = 600 × 12481\n",
       "    obs: 'group', 'condition', 'q', 'memento_group', 'memento_size_factor', 'memento_approx_size_factor'\n",
       "    var: 'is_de', 'treatment_effect'\n",
       "    uns: 'memento'"
      ]
     },
     "execution_count": 71,
     "metadata": {},
     "output_type": "execute_result"
    }
   ],
   "source": [
    "adata[adata.obs['group']"
   ]
  },
  {
   "cell_type": "code",
   "execution_count": 37,
   "id": "a904280a-a51d-41d7-ae87-5065cce4a135",
   "metadata": {},
   "outputs": [],
   "source": [
    "results = pd.DataFrame(\n",
    "    pv_list,\n",
    "    index=genes,\n",
    "    columns=['pval']).dropna()\n"
   ]
  },
  {
   "cell_type": "code",
   "execution_count": 39,
   "id": "38b479b0-ee83-4860-97b5-7a073239e0ca",
   "metadata": {},
   "outputs": [
    {
     "data": {
      "text/plain": [
       "array([[<Axes: title={'center': 'pval'}>]], dtype=object)"
      ]
     },
     "execution_count": 39,
     "metadata": {},
     "output_type": "execute_result"
    },
    {
     "data": {
      "image/png": "[encoded data removed]",
      "text/plain": [
       "<Figure size 640x480 with 1 Axes>"
      ]
     },
     "metadata": {},
     "output_type": "display_data"
    }
   ],
   "source": [
    "results.hist()"
   ]
  },
  {
   "cell_type": "code",
   "execution_count": 26,
   "id": "8e9b2688-ab45-4b87-aae6-6878491b1962",
   "metadata": {},
   "outputs": [
    {
     "data": {
      "text/plain": [
       "0.0002948183512864257"
      ]
     },
     "execution_count": 26,
     "metadata": {},
     "output_type": "execute_result"
    }
   ],
   "source": [
    "pv"
   ]
  },
  {
   "cell_type": "code",
   "execution_count": null,
   "id": "7ee03dff-4c43-46c3-80b5-301c9dc78647",
   "metadata": {},
   "outputs": [],
   "source": []
  },
  {
   "cell_type": "code",
   "execution_count": null,
   "id": "629f8207-385c-402d-a620-12e07a8fcaff",
   "metadata": {},
   "outputs": [],
   "source": []
  },
  {
   "cell_type": "code",
   "execution_count": 7,
   "id": "f0699ec7-cc1b-40f9-a4ac-89b91ad7e149",
   "metadata": {},
   "outputs": [
    {
     "ename": "NameError",
     "evalue": "name 'n_list' is not defined",
     "output_type": "error",
     "traceback": [
      "\u001b[0;31m---------------------------------------------------------------------------\u001b[0m",
      "\u001b[0;31mNameError\u001b[0m                                 Traceback (most recent call last)",
      "Cell \u001b[0;32mIn[7], line 17\u001b[0m\n\u001b[1;32m     14\u001b[0m \u001b[38;5;28;01mfrom\u001b[39;00m \u001b[38;5;21;01msklearn\u001b[39;00m\u001b[38;5;21;01m.\u001b[39;00m\u001b[38;5;21;01mlinear_model\u001b[39;00m \u001b[38;5;28;01mimport\u001b[39;00m LinearRegression\n\u001b[1;32m     16\u001b[0m WLS \u001b[38;5;241m=\u001b[39m LinearRegression()\n\u001b[0;32m---> 17\u001b[0m WLS\u001b[38;5;241m.\u001b[39mfit(X, lm, sample_weight\u001b[38;5;241m=\u001b[39m\u001b[43mn_list\u001b[49m)\n\u001b[1;32m     19\u001b[0m diff_mean \u001b[38;5;241m=\u001b[39m WLS\u001b[38;5;241m.\u001b[39mcoef_[\u001b[38;5;241m-\u001b[39m\u001b[38;5;241m1\u001b[39m]\n\u001b[1;32m     21\u001b[0m W \u001b[38;5;241m=\u001b[39m np\u001b[38;5;241m.\u001b[39mdiag(\u001b[38;5;241m1\u001b[39m\u001b[38;5;241m/\u001b[39mvlm)\n",
      "\u001b[0;31mNameError\u001b[0m: name 'n_list' is not defined"
     ]
    }
   ],
   "source": [
    "gene_idx = 0\n",
    "\n",
    "lm = model.estimates['log_mean'].iloc[:, gene_idx]\n",
    "\n",
    "vlm = model.estimates['se_log_mean'].iloc[:, gene_idx]**2\n",
    "\n",
    "X = np.array([\n",
    "    [1, -0.5, 0, 0],\n",
    "    [1, -0.5, -0.5, 1],\n",
    "    [1, 0.5, 0, 0],\n",
    "    [1, 0.5, 0.5, 1]\n",
    "    ])\n",
    "\n",
    "from sklearn.linear_model import LinearRegression\n",
    "\n",
    "WLS = LinearRegression()\n",
    "WLS.fit(X, lm, sample_weight=n_list)\n",
    "\n",
    "diff_mean = WLS.coef_[-1]\n",
    "\n",
    "W = np.diag(1/vlm)\n",
    "beta_var_hat = np.diag(np.linalg.pinv(X.T@W@X))\n",
    "se = np.sqrt( beta_var_hat[-1] )\n",
    "\n",
    "z = diff_mean/se\n",
    "pv = stats.norm.sf(np.abs(z))*2"
   ]
  },
  {
   "cell_type": "code",
   "execution_count": null,
   "id": "5dc11cf2-7034-4ea9-a978-55631b739692",
   "metadata": {},
   "outputs": [],
   "source": []
  },
  {
   "cell_type": "code",
   "execution_count": null,
   "id": "d4a6b9ff-96b4-40d1-9855-9b64eeef5c07",
   "metadata": {},
   "outputs": [],
   "source": []
  },
  {
   "cell_type": "code",
   "execution_count": null,
   "id": "4ce7a3cd-dcbf-45d6-be13-17ff365e635e",
   "metadata": {},
   "outputs": [],
   "source": []
  },
  {
   "cell_type": "code",
   "execution_count": null,
   "id": "42a05e68-1e38-4960-bb85-cae38ab5dec6",
   "metadata": {},
   "outputs": [],
   "source": []
  },
  {
   "cell_type": "code",
   "execution_count": null,
   "id": "8bdb5853-5017-4407-89db-7846f6cb16d8",
   "metadata": {},
   "outputs": [],
   "source": []
  },
  {
   "cell_type": "code",
   "execution_count": 275,
   "id": "006d62ea-a76a-4bbb-9e14-3af1e5f329a5",
   "metadata": {},
   "outputs": [],
   "source": [
    "\n",
    "\n",
    "\n",
    "def run_memento(adata):\n",
    "    memento.setup_memento(adata, q_column='q', trim_percent=1, shrinkage=0)\n",
    "    stim_converter={'ctrl':0, 'stim':1}\n",
    "    adata.obs['stim_indicator'] = adata.obs['condition'].apply(lambda x: stim_converter[x])\n",
    "    \n",
    "    memento.create_groups(adata, label_columns=['group', 'condition'])\n",
    "    memento.compute_1d_moments(adata, min_perc_group=.5)\n",
    "    print(adata.shape)\n",
    "\n",
    "    df = pd.DataFrame(index=adata.uns['memento']['groups'])\n",
    "    df['group'] = df.index.str.split('^').str[1]\n",
    "    df['condition'] = df.index.str.split('^').str[2]\n",
    "\n",
    "    cov_df = pd.get_dummies(df[['group']], drop_first=True).astype(float)\n",
    "    cov_df -= cov_df.mean()\n",
    "    stim_df = (df[['condition']]=='stim').astype(float)\n",
    "    interaction_df = cov_df*stim_df[['condition']].values\n",
    "    interaction_df.columns=[f'interaction_{col}' for col in cov_df.columns]\n",
    "    cov_df = pd.concat([cov_df, interaction_df], axis=1)\n",
    "    # cov_df = sm.add_constant(cov_df)\n",
    "    # cov_df = cov_df.iloc[:, [0]]\n",
    "\n",
    "    # print(cov_df)\n",
    "    stim_df = (df[['condition']]=='stim').astype(float)\n",
    "\n",
    "    memento.ht_1d_moments(\n",
    "        adata, \n",
    "        treatment=stim_df,\n",
    "        covariate=cov_df, \n",
    "        num_boot=10000, \n",
    "        verbose=1,\n",
    "        num_cpus=30,\n",
    "        approx=True)\n",
    "    \n",
    "    return memento.get_1d_ht_result(adata).set_index('gene').join(adata.var)\n"
   ]
  },
  {
   "cell_type": "code",
   "execution_count": 276,
   "id": "9e5100e1-8425-4751-96f6-ac70c7a7dfcc",
   "metadata": {},
   "outputs": [
    {
     "name": "stdout",
     "output_type": "stream",
     "text": [
      "(550, 6068)\n"
     ]
    },
    {
     "name": "stderr",
     "output_type": "stream",
     "text": [
      "[Parallel(n_jobs=30)]: Using backend LokyBackend with 30 concurrent workers.\n",
      "[Parallel(n_jobs=30)]: Done 220 tasks      | elapsed:    1.1s\n",
      "/home/ssm-user/Github/scrna-parameter-estimation/dist/memento-0.1.0-py3.10.egg/memento/hypothesis_test.py:236: RuntimeWarning: invalid value encountered in divide\n",
      "/home/ssm-user/anaconda3/envs/single_cell/lib/python3.10/site-packages/scipy/stats/_continuous_distns.py:411: RuntimeWarning: Mean of empty slice.\n",
      "  loc = data.mean()\n",
      "/home/ssm-user/anaconda3/envs/single_cell/lib/python3.10/site-packages/numpy/core/_methods.py:190: RuntimeWarning: invalid value encountered in double_scalars\n",
      "  ret = ret.dtype.type(ret / rcount)\n",
      "/home/ssm-user/anaconda3/envs/single_cell/lib/python3.10/site-packages/scipy/stats/_continuous_distns.py:416: RuntimeWarning: Mean of empty slice.\n",
      "  scale = np.sqrt(((data - loc)**2).mean())\n",
      "/home/ssm-user/anaconda3/envs/single_cell/lib/python3.10/site-packages/numpy/lib/nanfunctions.py:1878: RuntimeWarning: Degrees of freedom <= 0 for slice.\n",
      "  var = nanvar(a, axis=axis, dtype=dtype, out=out, ddof=ddof,\n",
      "[Parallel(n_jobs=30)]: Done 720 tasks      | elapsed:    3.2s\n",
      "/home/ssm-user/Github/scrna-parameter-estimation/dist/memento-0.1.0-py3.10.egg/memento/hypothesis_test.py:236: RuntimeWarning: invalid value encountered in divide\n",
      "/home/ssm-user/anaconda3/envs/single_cell/lib/python3.10/site-packages/scipy/stats/_continuous_distns.py:411: RuntimeWarning: Mean of empty slice.\n",
      "  loc = data.mean()\n",
      "/home/ssm-user/anaconda3/envs/single_cell/lib/python3.10/site-packages/numpy/core/_methods.py:190: RuntimeWarning: invalid value encountered in double_scalars\n",
      "  ret = ret.dtype.type(ret / rcount)\n",
      "/home/ssm-user/anaconda3/envs/single_cell/lib/python3.10/site-packages/scipy/stats/_continuous_distns.py:416: RuntimeWarning: Mean of empty slice.\n",
      "  scale = np.sqrt(((data - loc)**2).mean())\n",
      "/home/ssm-user/anaconda3/envs/single_cell/lib/python3.10/site-packages/numpy/lib/nanfunctions.py:1878: RuntimeWarning: Degrees of freedom <= 0 for slice.\n",
      "  var = nanvar(a, axis=axis, dtype=dtype, out=out, ddof=ddof,\n",
      "/home/ssm-user/Github/scrna-parameter-estimation/dist/memento-0.1.0-py3.10.egg/memento/hypothesis_test.py:236: RuntimeWarning: invalid value encountered in divide\n",
      "/home/ssm-user/anaconda3/envs/single_cell/lib/python3.10/site-packages/scipy/stats/_continuous_distns.py:411: RuntimeWarning: Mean of empty slice.\n",
      "  loc = data.mean()\n",
      "/home/ssm-user/anaconda3/envs/single_cell/lib/python3.10/site-packages/numpy/core/_methods.py:190: RuntimeWarning: invalid value encountered in double_scalars\n",
      "  ret = ret.dtype.type(ret / rcount)\n",
      "/home/ssm-user/anaconda3/envs/single_cell/lib/python3.10/site-packages/scipy/stats/_continuous_distns.py:416: RuntimeWarning: Mean of empty slice.\n",
      "  scale = np.sqrt(((data - loc)**2).mean())\n",
      "/home/ssm-user/anaconda3/envs/single_cell/lib/python3.10/site-packages/numpy/lib/nanfunctions.py:1878: RuntimeWarning: Degrees of freedom <= 0 for slice.\n",
      "  var = nanvar(a, axis=axis, dtype=dtype, out=out, ddof=ddof,\n",
      "[Parallel(n_jobs=30)]: Done 1420 tasks      | elapsed:    6.1s\n",
      "/home/ssm-user/Github/scrna-parameter-estimation/dist/memento-0.1.0-py3.10.egg/memento/hypothesis_test.py:236: RuntimeWarning: invalid value encountered in divide\n",
      "/home/ssm-user/anaconda3/envs/single_cell/lib/python3.10/site-packages/scipy/stats/_continuous_distns.py:411: RuntimeWarning: Mean of empty slice.\n",
      "  loc = data.mean()\n",
      "/home/ssm-user/anaconda3/envs/single_cell/lib/python3.10/site-packages/numpy/core/_methods.py:190: RuntimeWarning: invalid value encountered in double_scalars\n",
      "  ret = ret.dtype.type(ret / rcount)\n",
      "/home/ssm-user/anaconda3/envs/single_cell/lib/python3.10/site-packages/scipy/stats/_continuous_distns.py:416: RuntimeWarning: Mean of empty slice.\n",
      "  scale = np.sqrt(((data - loc)**2).mean())\n",
      "/home/ssm-user/anaconda3/envs/single_cell/lib/python3.10/site-packages/numpy/lib/nanfunctions.py:1878: RuntimeWarning: Degrees of freedom <= 0 for slice.\n",
      "  var = nanvar(a, axis=axis, dtype=dtype, out=out, ddof=ddof,\n",
      "/home/ssm-user/Github/scrna-parameter-estimation/dist/memento-0.1.0-py3.10.egg/memento/hypothesis_test.py:236: RuntimeWarning: invalid value encountered in divide\n",
      "/home/ssm-user/anaconda3/envs/single_cell/lib/python3.10/site-packages/scipy/stats/_continuous_distns.py:411: RuntimeWarning: Mean of empty slice.\n",
      "  loc = data.mean()\n",
      "/home/ssm-user/anaconda3/envs/single_cell/lib/python3.10/site-packages/numpy/core/_methods.py:190: RuntimeWarning: invalid value encountered in double_scalars\n",
      "  ret = ret.dtype.type(ret / rcount)\n",
      "/home/ssm-user/anaconda3/envs/single_cell/lib/python3.10/site-packages/scipy/stats/_continuous_distns.py:416: RuntimeWarning: Mean of empty slice.\n",
      "  scale = np.sqrt(((data - loc)**2).mean())\n",
      "/home/ssm-user/anaconda3/envs/single_cell/lib/python3.10/site-packages/numpy/lib/nanfunctions.py:1878: RuntimeWarning: Degrees of freedom <= 0 for slice.\n",
      "  var = nanvar(a, axis=axis, dtype=dtype, out=out, ddof=ddof,\n",
      "/home/ssm-user/Github/scrna-parameter-estimation/dist/memento-0.1.0-py3.10.egg/memento/hypothesis_test.py:236: RuntimeWarning: invalid value encountered in divide\n",
      "/home/ssm-user/anaconda3/envs/single_cell/lib/python3.10/site-packages/scipy/stats/_continuous_distns.py:411: RuntimeWarning: Mean of empty slice.\n",
      "  loc = data.mean()\n",
      "/home/ssm-user/anaconda3/envs/single_cell/lib/python3.10/site-packages/numpy/core/_methods.py:190: RuntimeWarning: invalid value encountered in double_scalars\n",
      "  ret = ret.dtype.type(ret / rcount)\n",
      "/home/ssm-user/anaconda3/envs/single_cell/lib/python3.10/site-packages/scipy/stats/_continuous_distns.py:416: RuntimeWarning: Mean of empty slice.\n",
      "  scale = np.sqrt(((data - loc)**2).mean())\n",
      "/home/ssm-user/anaconda3/envs/single_cell/lib/python3.10/site-packages/numpy/lib/nanfunctions.py:1878: RuntimeWarning: Degrees of freedom <= 0 for slice.\n",
      "  var = nanvar(a, axis=axis, dtype=dtype, out=out, ddof=ddof,\n",
      "/home/ssm-user/Github/scrna-parameter-estimation/dist/memento-0.1.0-py3.10.egg/memento/hypothesis_test.py:236: RuntimeWarning: invalid value encountered in divide\n",
      "/home/ssm-user/anaconda3/envs/single_cell/lib/python3.10/site-packages/scipy/stats/_continuous_distns.py:411: RuntimeWarning: Mean of empty slice.\n",
      "  loc = data.mean()\n",
      "/home/ssm-user/anaconda3/envs/single_cell/lib/python3.10/site-packages/numpy/core/_methods.py:190: RuntimeWarning: invalid value encountered in double_scalars\n",
      "  ret = ret.dtype.type(ret / rcount)\n",
      "/home/ssm-user/anaconda3/envs/single_cell/lib/python3.10/site-packages/scipy/stats/_continuous_distns.py:416: RuntimeWarning: Mean of empty slice.\n",
      "  scale = np.sqrt(((data - loc)**2).mean())\n",
      "/home/ssm-user/anaconda3/envs/single_cell/lib/python3.10/site-packages/numpy/lib/nanfunctions.py:1878: RuntimeWarning: Degrees of freedom <= 0 for slice.\n",
      "  var = nanvar(a, axis=axis, dtype=dtype, out=out, ddof=ddof,\n",
      "/home/ssm-user/Github/scrna-parameter-estimation/dist/memento-0.1.0-py3.10.egg/memento/hypothesis_test.py:236: RuntimeWarning: invalid value encountered in divide\n",
      "/home/ssm-user/anaconda3/envs/single_cell/lib/python3.10/site-packages/scipy/stats/_continuous_distns.py:411: RuntimeWarning: Mean of empty slice.\n",
      "  loc = data.mean()\n",
      "/home/ssm-user/anaconda3/envs/single_cell/lib/python3.10/site-packages/numpy/core/_methods.py:190: RuntimeWarning: invalid value encountered in double_scalars\n",
      "  ret = ret.dtype.type(ret / rcount)\n",
      "/home/ssm-user/anaconda3/envs/single_cell/lib/python3.10/site-packages/scipy/stats/_continuous_distns.py:416: RuntimeWarning: Mean of empty slice.\n",
      "  scale = np.sqrt(((data - loc)**2).mean())\n",
      "/home/ssm-user/anaconda3/envs/single_cell/lib/python3.10/site-packages/numpy/lib/nanfunctions.py:1878: RuntimeWarning: Degrees of freedom <= 0 for slice.\n",
      "  var = nanvar(a, axis=axis, dtype=dtype, out=out, ddof=ddof,\n",
      "/home/ssm-user/Github/scrna-parameter-estimation/dist/memento-0.1.0-py3.10.egg/memento/hypothesis_test.py:236: RuntimeWarning: invalid value encountered in divide\n",
      "/home/ssm-user/anaconda3/envs/single_cell/lib/python3.10/site-packages/scipy/stats/_continuous_distns.py:411: RuntimeWarning: Mean of empty slice.\n",
      "  loc = data.mean()\n",
      "/home/ssm-user/anaconda3/envs/single_cell/lib/python3.10/site-packages/numpy/core/_methods.py:190: RuntimeWarning: invalid value encountered in double_scalars\n",
      "  ret = ret.dtype.type(ret / rcount)\n",
      "/home/ssm-user/anaconda3/envs/single_cell/lib/python3.10/site-packages/scipy/stats/_continuous_distns.py:416: RuntimeWarning: Mean of empty slice.\n",
      "  scale = np.sqrt(((data - loc)**2).mean())\n",
      "/home/ssm-user/anaconda3/envs/single_cell/lib/python3.10/site-packages/numpy/lib/nanfunctions.py:1878: RuntimeWarning: Degrees of freedom <= 0 for slice.\n",
      "  var = nanvar(a, axis=axis, dtype=dtype, out=out, ddof=ddof,\n",
      "[Parallel(n_jobs=30)]: Done 2320 tasks      | elapsed:    9.9s\n",
      "/home/ssm-user/Github/scrna-parameter-estimation/dist/memento-0.1.0-py3.10.egg/memento/hypothesis_test.py:236: RuntimeWarning: invalid value encountered in divide\n",
      "/home/ssm-user/anaconda3/envs/single_cell/lib/python3.10/site-packages/scipy/stats/_continuous_distns.py:411: RuntimeWarning: Mean of empty slice.\n",
      "  loc = data.mean()\n",
      "/home/ssm-user/anaconda3/envs/single_cell/lib/python3.10/site-packages/numpy/core/_methods.py:190: RuntimeWarning: invalid value encountered in double_scalars\n",
      "  ret = ret.dtype.type(ret / rcount)\n",
      "/home/ssm-user/anaconda3/envs/single_cell/lib/python3.10/site-packages/scipy/stats/_continuous_distns.py:416: RuntimeWarning: Mean of empty slice.\n",
      "  scale = np.sqrt(((data - loc)**2).mean())\n",
      "/home/ssm-user/anaconda3/envs/single_cell/lib/python3.10/site-packages/numpy/lib/nanfunctions.py:1878: RuntimeWarning: Degrees of freedom <= 0 for slice.\n",
      "  var = nanvar(a, axis=axis, dtype=dtype, out=out, ddof=ddof,\n",
      "/home/ssm-user/Github/scrna-parameter-estimation/dist/memento-0.1.0-py3.10.egg/memento/hypothesis_test.py:236: RuntimeWarning: invalid value encountered in divide\n",
      "/home/ssm-user/anaconda3/envs/single_cell/lib/python3.10/site-packages/scipy/stats/_continuous_distns.py:411: RuntimeWarning: Mean of empty slice.\n",
      "  loc = data.mean()\n",
      "/home/ssm-user/anaconda3/envs/single_cell/lib/python3.10/site-packages/numpy/core/_methods.py:190: RuntimeWarning: invalid value encountered in double_scalars\n",
      "  ret = ret.dtype.type(ret / rcount)\n",
      "/home/ssm-user/anaconda3/envs/single_cell/lib/python3.10/site-packages/scipy/stats/_continuous_distns.py:416: RuntimeWarning: Mean of empty slice.\n",
      "  scale = np.sqrt(((data - loc)**2).mean())\n",
      "/home/ssm-user/anaconda3/envs/single_cell/lib/python3.10/site-packages/numpy/lib/nanfunctions.py:1878: RuntimeWarning: Degrees of freedom <= 0 for slice.\n",
      "  var = nanvar(a, axis=axis, dtype=dtype, out=out, ddof=ddof,\n",
      "[Parallel(n_jobs=30)]: Done 3420 tasks      | elapsed:   14.6s\n",
      "/home/ssm-user/Github/scrna-parameter-estimation/dist/memento-0.1.0-py3.10.egg/memento/hypothesis_test.py:236: RuntimeWarning: invalid value encountered in divide\n",
      "/home/ssm-user/anaconda3/envs/single_cell/lib/python3.10/site-packages/scipy/stats/_continuous_distns.py:411: RuntimeWarning: Mean of empty slice.\n",
      "  loc = data.mean()\n",
      "/home/ssm-user/anaconda3/envs/single_cell/lib/python3.10/site-packages/numpy/core/_methods.py:190: RuntimeWarning: invalid value encountered in double_scalars\n",
      "  ret = ret.dtype.type(ret / rcount)\n",
      "/home/ssm-user/anaconda3/envs/single_cell/lib/python3.10/site-packages/scipy/stats/_continuous_distns.py:416: RuntimeWarning: Mean of empty slice.\n",
      "  scale = np.sqrt(((data - loc)**2).mean())\n",
      "/home/ssm-user/anaconda3/envs/single_cell/lib/python3.10/site-packages/numpy/lib/nanfunctions.py:1878: RuntimeWarning: Degrees of freedom <= 0 for slice.\n",
      "  var = nanvar(a, axis=axis, dtype=dtype, out=out, ddof=ddof,\n",
      "/home/ssm-user/Github/scrna-parameter-estimation/dist/memento-0.1.0-py3.10.egg/memento/hypothesis_test.py:236: RuntimeWarning: invalid value encountered in divide\n",
      "/home/ssm-user/anaconda3/envs/single_cell/lib/python3.10/site-packages/scipy/stats/_continuous_distns.py:411: RuntimeWarning: Mean of empty slice.\n",
      "  loc = data.mean()\n",
      "/home/ssm-user/anaconda3/envs/single_cell/lib/python3.10/site-packages/numpy/core/_methods.py:190: RuntimeWarning: invalid value encountered in double_scalars\n",
      "  ret = ret.dtype.type(ret / rcount)\n",
      "/home/ssm-user/anaconda3/envs/single_cell/lib/python3.10/site-packages/scipy/stats/_continuous_distns.py:416: RuntimeWarning: Mean of empty slice.\n",
      "  scale = np.sqrt(((data - loc)**2).mean())\n",
      "/home/ssm-user/anaconda3/envs/single_cell/lib/python3.10/site-packages/numpy/lib/nanfunctions.py:1878: RuntimeWarning: Degrees of freedom <= 0 for slice.\n",
      "  var = nanvar(a, axis=axis, dtype=dtype, out=out, ddof=ddof,\n",
      "/home/ssm-user/Github/scrna-parameter-estimation/dist/memento-0.1.0-py3.10.egg/memento/hypothesis_test.py:236: RuntimeWarning: invalid value encountered in divide\n",
      "/home/ssm-user/anaconda3/envs/single_cell/lib/python3.10/site-packages/scipy/stats/_continuous_distns.py:411: RuntimeWarning: Mean of empty slice.\n",
      "  loc = data.mean()\n",
      "/home/ssm-user/anaconda3/envs/single_cell/lib/python3.10/site-packages/numpy/core/_methods.py:190: RuntimeWarning: invalid value encountered in double_scalars\n",
      "  ret = ret.dtype.type(ret / rcount)\n",
      "/home/ssm-user/anaconda3/envs/single_cell/lib/python3.10/site-packages/scipy/stats/_continuous_distns.py:416: RuntimeWarning: Mean of empty slice.\n",
      "  scale = np.sqrt(((data - loc)**2).mean())\n",
      "/home/ssm-user/anaconda3/envs/single_cell/lib/python3.10/site-packages/numpy/lib/nanfunctions.py:1878: RuntimeWarning: Degrees of freedom <= 0 for slice.\n",
      "  var = nanvar(a, axis=axis, dtype=dtype, out=out, ddof=ddof,\n",
      "/home/ssm-user/Github/scrna-parameter-estimation/dist/memento-0.1.0-py3.10.egg/memento/hypothesis_test.py:236: RuntimeWarning: invalid value encountered in divide\n",
      "/home/ssm-user/anaconda3/envs/single_cell/lib/python3.10/site-packages/scipy/stats/_continuous_distns.py:411: RuntimeWarning: Mean of empty slice.\n",
      "  loc = data.mean()\n",
      "/home/ssm-user/anaconda3/envs/single_cell/lib/python3.10/site-packages/numpy/core/_methods.py:190: RuntimeWarning: invalid value encountered in double_scalars\n",
      "  ret = ret.dtype.type(ret / rcount)\n",
      "/home/ssm-user/anaconda3/envs/single_cell/lib/python3.10/site-packages/scipy/stats/_continuous_distns.py:416: RuntimeWarning: Mean of empty slice.\n",
      "  scale = np.sqrt(((data - loc)**2).mean())\n",
      "/home/ssm-user/anaconda3/envs/single_cell/lib/python3.10/site-packages/numpy/lib/nanfunctions.py:1878: RuntimeWarning: Degrees of freedom <= 0 for slice.\n",
      "  var = nanvar(a, axis=axis, dtype=dtype, out=out, ddof=ddof,\n",
      "[Parallel(n_jobs=30)]: Done 4720 tasks      | elapsed:   20.2s\n",
      "/home/ssm-user/Github/scrna-parameter-estimation/dist/memento-0.1.0-py3.10.egg/memento/hypothesis_test.py:236: RuntimeWarning: invalid value encountered in divide\n",
      "/home/ssm-user/anaconda3/envs/single_cell/lib/python3.10/site-packages/scipy/stats/_continuous_distns.py:411: RuntimeWarning: Mean of empty slice.\n",
      "  loc = data.mean()\n",
      "/home/ssm-user/anaconda3/envs/single_cell/lib/python3.10/site-packages/numpy/core/_methods.py:190: RuntimeWarning: invalid value encountered in double_scalars\n",
      "  ret = ret.dtype.type(ret / rcount)\n",
      "/home/ssm-user/anaconda3/envs/single_cell/lib/python3.10/site-packages/scipy/stats/_continuous_distns.py:416: RuntimeWarning: Mean of empty slice.\n",
      "  scale = np.sqrt(((data - loc)**2).mean())\n",
      "/home/ssm-user/anaconda3/envs/single_cell/lib/python3.10/site-packages/numpy/lib/nanfunctions.py:1878: RuntimeWarning: Degrees of freedom <= 0 for slice.\n",
      "  var = nanvar(a, axis=axis, dtype=dtype, out=out, ddof=ddof,\n",
      "/home/ssm-user/Github/scrna-parameter-estimation/dist/memento-0.1.0-py3.10.egg/memento/hypothesis_test.py:236: RuntimeWarning: invalid value encountered in divide\n",
      "/home/ssm-user/anaconda3/envs/single_cell/lib/python3.10/site-packages/scipy/stats/_continuous_distns.py:411: RuntimeWarning: Mean of empty slice.\n",
      "  loc = data.mean()\n",
      "/home/ssm-user/anaconda3/envs/single_cell/lib/python3.10/site-packages/numpy/core/_methods.py:190: RuntimeWarning: invalid value encountered in double_scalars\n",
      "  ret = ret.dtype.type(ret / rcount)\n",
      "/home/ssm-user/anaconda3/envs/single_cell/lib/python3.10/site-packages/scipy/stats/_continuous_distns.py:416: RuntimeWarning: Mean of empty slice.\n",
      "  scale = np.sqrt(((data - loc)**2).mean())\n",
      "/home/ssm-user/anaconda3/envs/single_cell/lib/python3.10/site-packages/numpy/lib/nanfunctions.py:1878: RuntimeWarning: Degrees of freedom <= 0 for slice.\n",
      "  var = nanvar(a, axis=axis, dtype=dtype, out=out, ddof=ddof,\n",
      "/home/ssm-user/Github/scrna-parameter-estimation/dist/memento-0.1.0-py3.10.egg/memento/hypothesis_test.py:236: RuntimeWarning: invalid value encountered in divide\n",
      "/home/ssm-user/anaconda3/envs/single_cell/lib/python3.10/site-packages/scipy/stats/_continuous_distns.py:411: RuntimeWarning: Mean of empty slice.\n",
      "  loc = data.mean()\n",
      "/home/ssm-user/anaconda3/envs/single_cell/lib/python3.10/site-packages/numpy/core/_methods.py:190: RuntimeWarning: invalid value encountered in double_scalars\n",
      "  ret = ret.dtype.type(ret / rcount)\n",
      "/home/ssm-user/anaconda3/envs/single_cell/lib/python3.10/site-packages/scipy/stats/_continuous_distns.py:416: RuntimeWarning: Mean of empty slice.\n",
      "  scale = np.sqrt(((data - loc)**2).mean())\n",
      "/home/ssm-user/anaconda3/envs/single_cell/lib/python3.10/site-packages/numpy/lib/nanfunctions.py:1878: RuntimeWarning: Degrees of freedom <= 0 for slice.\n",
      "  var = nanvar(a, axis=axis, dtype=dtype, out=out, ddof=ddof,\n",
      "/home/ssm-user/Github/scrna-parameter-estimation/dist/memento-0.1.0-py3.10.egg/memento/hypothesis_test.py:236: RuntimeWarning: invalid value encountered in divide\n",
      "/home/ssm-user/anaconda3/envs/single_cell/lib/python3.10/site-packages/scipy/stats/_continuous_distns.py:411: RuntimeWarning: Mean of empty slice.\n",
      "  loc = data.mean()\n",
      "/home/ssm-user/anaconda3/envs/single_cell/lib/python3.10/site-packages/numpy/core/_methods.py:190: RuntimeWarning: invalid value encountered in double_scalars\n",
      "  ret = ret.dtype.type(ret / rcount)\n",
      "/home/ssm-user/anaconda3/envs/single_cell/lib/python3.10/site-packages/scipy/stats/_continuous_distns.py:416: RuntimeWarning: Mean of empty slice.\n",
      "  scale = np.sqrt(((data - loc)**2).mean())\n",
      "/home/ssm-user/anaconda3/envs/single_cell/lib/python3.10/site-packages/numpy/lib/nanfunctions.py:1878: RuntimeWarning: Degrees of freedom <= 0 for slice.\n",
      "  var = nanvar(a, axis=axis, dtype=dtype, out=out, ddof=ddof,\n",
      "[Parallel(n_jobs=30)]: Done 6068 out of 6068 | elapsed:   26.5s finished\n"
     ]
    }
   ],
   "source": [
    "df = run_memento(adata)"
   ]
  },
  {
   "cell_type": "code",
   "execution_count": 277,
   "id": "345bb359-9239-4f41-8c29-38948906f9b7",
   "metadata": {},
   "outputs": [],
   "source": [
    "# groups = adata.obs['group'].unique()"
   ]
  },
  {
   "cell_type": "code",
   "execution_count": 278,
   "id": "02aedf17-d6e7-4f16-91ef-051d90c8c7f3",
   "metadata": {},
   "outputs": [],
   "source": [
    "# results = []\n",
    "# for group in groups:\n",
    "    \n",
    "#     subset = adata[adata.obs['group'] == group].copy()\n",
    "    \n",
    "#     results.append(run_memento(subset))\n",
    "\n",
    "# import functools\n",
    "\n",
    "# common_genes = functools.reduce(lambda x,y: list(set(x) & set(y)), [res.index for res in results])\n",
    "\n",
    "\n",
    "\n",
    "# effect_size = np.vstack([res.loc[common_genes, 'de_coef'].values for res in results])\n",
    "# var = np.vstack([res.loc[common_genes, 'de_se'].values**2 for res in results])\n",
    "\n",
    "# ATE = np.average(effect_size, axis=0, weights=1/var)\n",
    "# SE = np.sqrt(1/(1/var).sum(axis=0))\n",
    "# Z = ATE/SE\n",
    "# P = 2*stats.norm.sf(np.absolute(Z))\n",
    "\n",
    "# df = pd.DataFrame(\n",
    "#     zip(ATE, SE, Z, P),\n",
    "#     columns=['coef', 'se', 'z', 'de_pval'], \n",
    "#     index=common_genes).join(adata.var)"
   ]
  },
  {
   "cell_type": "code",
   "execution_count": 279,
   "id": "5f060dc9-3cd5-4c4e-8aec-d3ba4941cbd1",
   "metadata": {},
   "outputs": [],
   "source": [
    "df['fdr'] = memento.util._fdrcorrect(df['de_pval'])\n",
    "df['pval'] = df['de_pval']"
   ]
  },
  {
   "cell_type": "code",
   "execution_count": 280,
   "id": "5ea42174-2345-4fe8-b2d8-3839b5f86663",
   "metadata": {},
   "outputs": [],
   "source": [
    "df.to_csv(data_path + 'old_memento.csv')"
   ]
  },
  {
   "cell_type": "code",
   "execution_count": 281,
   "id": "c922f55d-97e7-47f9-b4d8-42f0454bb2c1",
   "metadata": {},
   "outputs": [],
   "source": [
    "# df= memento.get_1d_ht_result(adata).set_index('gene').join(adata.var)\n",
    "# df['fdr'] = memento.util._fdrcorrect(df['de_pval'])\n"
   ]
  },
  {
   "cell_type": "code",
   "execution_count": 282,
   "id": "60c185dc-8993-482d-8829-ced417a6cb04",
   "metadata": {},
   "outputs": [
    {
     "name": "stdout",
     "output_type": "stream",
     "text": [
      "(605, 12)\n",
      "(607, 12)\n"
     ]
    },
    {
     "data": {
      "text/plain": [
       "Text(0.5, 1.0, 'Highly expressed')"
      ]
     },
     "execution_count": 282,
     "metadata": {},
     "output_type": "execute_result"
    },
    {
     "data": {
      "image/png": "[encoded data removed]",
      "text/plain": [
       "<Figure size 400x200 with 2 Axes>"
      ]
     },
     "metadata": {},
     "output_type": "display_data"
    }
   ],
   "source": [
    "results = {'memento':df}\n",
    "n=10\n",
    "\n",
    "means = pd.DataFrame(adata.X.mean(axis=0).A1, index=adata.var.index)\n",
    "means.columns=['mean']\n",
    "plt.figure(figsize=(4,2))\n",
    "plt.subplots_adjust(wspace=0.3)\n",
    "\n",
    "# LOW EXPR genes\n",
    "plt.subplot(1, 2, 1);\n",
    "sig_thresholds = np.linspace(0, 0.1, n)\n",
    "\n",
    "for method, result in results.items():\n",
    "    result = result.join(means)\n",
    "    result = result.loc[result['mean'] < np.quantile(result['mean'], 0.1)]\n",
    "    print(result.shape)\n",
    "    \n",
    "    fdr = []\n",
    "    fpr = []\n",
    "    \n",
    "    sorted_result = result.sort_values('fdr')\n",
    "    for thresh in sig_thresholds:\n",
    "\n",
    "        fdr_hits = result.query(f'fdr < {thresh}')\n",
    "        fpr_hits = result.query(f'pval < {thresh}')\n",
    "        fdr.append(1-fdr_hits['is_de'].mean())\n",
    "        fpr.append((result.query('~is_de')['pval'] < thresh).mean())\n",
    "    plt.plot(sig_thresholds, fpr, '-o', label=method, markersize=5)\n",
    "plt.ylabel('False positive rate')\n",
    "plt.plot([0, 0.1], [0, 0.1], '--', color='k', lw=3)\n",
    "plt.xlabel('P-value cutoff')\n",
    "plt.title('Lowly expressed')\n",
    "\n",
    "# HIGH EXPR genes\n",
    "plt.subplot(1, 2, 2)\n",
    "for method, result in results.items():\n",
    "    result = result.join(means)\n",
    "    result = result.loc[result['mean'] > np.quantile(result['mean'], 0.9)]\n",
    "    print(result.shape)\n",
    "\n",
    "    fdr = []\n",
    "    fpr = []\n",
    "    \n",
    "    sorted_result = result.sort_values('fdr')\n",
    "    for thresh in sig_thresholds:\n",
    "\n",
    "        fdr_hits = result.query(f'fdr < {thresh}')\n",
    "        fpr_hits = result.query(f'pval < {thresh}')\n",
    "        fdr.append(1-fdr_hits['is_de'].mean())\n",
    "        fpr.append((result.query('~is_de')['pval'] < thresh).mean())\n",
    "    plt.plot(sig_thresholds, fpr, '-o', label=method, markersize=5)\n",
    "    plt.legend(frameon=False, loc='upper center', bbox_to_anchor=(0, 1.5), ncol=2)\n",
    "plt.plot([0, 0.1], [0, 0.1], '--', color='k', lw=3)\n",
    "plt.xlabel('P-value cutoff')\n",
    "plt.title('Highly expressed')\n"
   ]
  },
  {
   "cell_type": "code",
   "execution_count": null,
   "id": "c8f155d0-c33c-4d83-bbaf-6b9e6b8bcd2b",
   "metadata": {},
   "outputs": [],
   "source": []
  },
  {
   "cell_type": "code",
   "execution_count": null,
   "id": "5be48aa9-ad3e-4feb-94f9-ad5043886b99",
   "metadata": {},
   "outputs": [],
   "source": []
  },
  {
   "cell_type": "code",
   "execution_count": null,
   "id": "69415ffa-365d-4176-a7aa-2f66bd940947",
   "metadata": {},
   "outputs": [],
   "source": []
  },
  {
   "cell_type": "code",
   "execution_count": null,
   "id": "677cb86d-5bb7-4bbc-a234-fbc0833c58b3",
   "metadata": {},
   "outputs": [],
   "source": []
  },
  {
   "cell_type": "code",
   "execution_count": null,
   "id": "fffaa99b-c7cd-4b61-a2d0-b8105793975b",
   "metadata": {},
   "outputs": [],
   "source": []
  }
 ],
 "metadata": {
  "kernelspec": {
   "display_name": "mementocxg",
   "language": "python",
   "name": "myenv"
  },
  "language_info": {
   "codemirror_mode": {
    "name": "ipython",
    "version": 3
   },
   "file_extension": ".py",
   "mimetype": "text/x-python",
   "name": "python",
   "nbconvert_exporter": "python",
   "pygments_lexer": "ipython3",
   "version": "3.11.5"
  }
 },
 "nbformat": 4,
 "nbformat_minor": 5
}
