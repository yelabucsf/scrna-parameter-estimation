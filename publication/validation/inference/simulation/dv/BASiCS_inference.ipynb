{
 "cells": [
  {
   "cell_type": "markdown",
   "id": "7ff1d09d",
   "metadata": {},
   "source": [
    "# Run BASiCS for estimation method comparisons"
   ]
  },
  {
   "cell_type": "code",
   "execution_count": 1,
   "id": "67da0f53",
   "metadata": {
    "tags": []
   },
   "outputs": [
    {
     "name": "stderr",
     "output_type": "stream",
     "text": [
      "The legacy packages maptools, rgdal, and rgeos, underpinning the sp package,\n",
      "which was just loaded, will retire in October 2023.\n",
      "Please refer to R-spatial evolution reports for details, especially\n",
      "https://r-spatial.org/r/2023/05/15/evolution4.html.\n",
      "It may be desirable to make the sf package available;\n",
      "package maintainers should consider adding sf to Suggests:.\n",
      "The sp package is now running under evolution status 2\n",
      "     (status 2 uses the sf package in place of rgdal)\n",
      "\n",
      "Attaching SeuratObject\n",
      "\n",
      "\n",
      "Attaching package: ‘patchwork’\n",
      "\n",
      "\n",
      "The following object is masked from ‘package:cowplot’:\n",
      "\n",
      "    align_plots\n",
      "\n",
      "\n",
      "── \u001b[1mAttaching core tidyverse packages\u001b[22m ──────────────────────── tidyverse 2.0.0 ──\n",
      "\u001b[32m✔\u001b[39m \u001b[34mdplyr    \u001b[39m 1.1.2     \u001b[32m✔\u001b[39m \u001b[34mreadr    \u001b[39m 2.1.4\n",
      "\u001b[32m✔\u001b[39m \u001b[34mforcats  \u001b[39m 1.0.0     \u001b[32m✔\u001b[39m \u001b[34mstringr  \u001b[39m 1.5.0\n",
      "\u001b[32m✔\u001b[39m \u001b[34mggplot2  \u001b[39m 3.4.2     \u001b[32m✔\u001b[39m \u001b[34mtibble   \u001b[39m 3.2.1\n",
      "\u001b[32m✔\u001b[39m \u001b[34mlubridate\u001b[39m 1.9.2     \u001b[32m✔\u001b[39m \u001b[34mtidyr    \u001b[39m 1.3.0\n",
      "\u001b[32m✔\u001b[39m \u001b[34mpurrr    \u001b[39m 1.0.1     \n",
      "── \u001b[1mConflicts\u001b[22m ────────────────────────────────────────── tidyverse_conflicts() ──\n",
      "\u001b[31m✖\u001b[39m \u001b[34mdplyr\u001b[39m::\u001b[32mfilter()\u001b[39m    masks \u001b[34mstats\u001b[39m::filter()\n",
      "\u001b[31m✖\u001b[39m \u001b[34mdplyr\u001b[39m::\u001b[32mlag()\u001b[39m       masks \u001b[34mstats\u001b[39m::lag()\n",
      "\u001b[31m✖\u001b[39m \u001b[34mlubridate\u001b[39m::\u001b[32mstamp()\u001b[39m masks \u001b[34mcowplot\u001b[39m::stamp()\n",
      "\u001b[36mℹ\u001b[39m Use the conflicted package (\u001b[3m\u001b[34m<http://conflicted.r-lib.org/>\u001b[39m\u001b[23m) to force all conflicts to become errors\n",
      "\n",
      "Attaching package: ‘Matrix’\n",
      "\n",
      "\n",
      "The following objects are masked from ‘package:tidyr’:\n",
      "\n",
      "    expand, pack, unpack\n",
      "\n",
      "\n"
     ]
    }
   ],
   "source": [
    "library(Seurat)\n",
    "# library(SeuratData)\n",
    "library(cowplot)\n",
    "library(patchwork)\n",
    "# library(scHOT)\n",
    "library(tidyverse)\n",
    "library(dplyr)\n",
    "library(BiocParallel)\n",
    "library(readr)\n",
    "library(Matrix)"
   ]
  },
  {
   "cell_type": "code",
   "execution_count": 2,
   "id": "87a7b79c",
   "metadata": {},
   "outputs": [
    {
     "name": "stderr",
     "output_type": "stream",
     "text": [
      "Registered S3 method overwritten by 'SeuratDisk':\n",
      "  method            from  \n",
      "  as.sparse.H5Group Seurat\n",
      "\n"
     ]
    }
   ],
   "source": [
    "library(Seurat)\n",
    "# library(SeuratData)\n",
    "library(SeuratDisk)"
   ]
  },
  {
   "cell_type": "code",
   "execution_count": 3,
   "id": "0b823c36-74b6-4586-b0ac-e70049501d30",
   "metadata": {},
   "outputs": [],
   "source": [
    "suppressMessages(library(BASiCS))\n"
   ]
  },
  {
   "cell_type": "markdown",
   "id": "82de8e77",
   "metadata": {
    "tags": []
   },
   "source": [
    "### Convert h5ad to seurat objects for simulations"
   ]
  },
  {
   "cell_type": "code",
   "execution_count": 4,
   "id": "e29ebbdb-e9e9-4a48-875b-a1fbb6b04642",
   "metadata": {},
   "outputs": [],
   "source": [
    "# setwd('/data_volume/memento/simulation/inference/')\n",
    "\n",
    "\n",
    "\n",
    "# filenames <- c('de','dv')\n",
    "\n",
    "# for (f in filenames){\n",
    "#     filename = paste(\n",
    "#         f,\n",
    "#         '_filtered.h5ad',\n",
    "#         sep=''\n",
    "#     )\n",
    "#     Convert(filename, dest = \"h5seurat\", overwrite = TRUE, verbose = TRUE)\n",
    "        \n",
    "# }"
   ]
  },
  {
   "cell_type": "code",
   "execution_count": 5,
   "id": "6079afc5-1d61-4caa-ba4f-82ca9f11b669",
   "metadata": {},
   "outputs": [],
   "source": [
    "# setwd('/data_volume/memento/simulation/dv/')"
   ]
  },
  {
   "cell_type": "markdown",
   "id": "ce9a5749",
   "metadata": {},
   "source": [
    "### BASiCS for simulations"
   ]
  },
  {
   "cell_type": "code",
   "execution_count": 6,
   "id": "266045bc-aefa-4ae7-a243-ba6e085fb5a1",
   "metadata": {},
   "outputs": [],
   "source": [
    "setwd('/data_volume/memento/simulation/dv/')\n"
   ]
  },
  {
   "cell_type": "code",
   "execution_count": 7,
   "id": "2e00af6a-3585-4a77-bebb-ab27fa7816a3",
   "metadata": {},
   "outputs": [
    {
     "name": "stderr",
     "output_type": "stream",
     "text": [
      "Warning message:\n",
      "“Unknown file type: h5ad”\n",
      "Warning message:\n",
      "“'assay' not set, setting to 'RNA'”\n",
      "Creating h5Seurat file for version 3.1.5.9900\n",
      "\n",
      "Validating h5Seurat file\n",
      "\n"
     ]
    }
   ],
   "source": [
    "Convert('high_expr_anndata.h5ad', dest = \"h5seurat\", overwrite = TRUE, verbose = FALSE, misc=FALSE)\n",
    "seurat <- LoadH5Seurat('high_expr_anndata.h5seurat', meta.data=FALSE,misc=FALSE, verbose = FALSE)\n",
    "df <- read.table('obs.csv', sep=',', header=TRUE)\n",
    "\n",
    "seurat$condition <- df$condition\n",
    "seurat$batch<- df$group\n",
    "Idents(seurat) <- 'condition'"
   ]
  },
  {
   "cell_type": "code",
   "execution_count": 8,
   "id": "19daee60-9955-4a7b-b7da-04b8dad507b3",
   "metadata": {},
   "outputs": [
    {
     "name": "stderr",
     "output_type": "stream",
     "text": [
      "Running no spikes BASiCS sampler (regression case) ... \n",
      "\n",
      "\n"
     ]
    },
    {
     "name": "stdout",
     "output_type": "stream",
     "text": [
      "-----------------------------------------------------\n",
      "MCMC sampler has been started: 5000 iterations to go.\n",
      "-----------------------------------------------------\n",
      "-----------------------------------------------------\n",
      "End of Burn-in period.\n",
      "-----------------------------------------------------\n",
      " \n",
      "-----------------------------------------------------\n",
      "-----------------------------------------------------\n",
      "All 5000 MCMC iterations have been completed.\n",
      "-----------------------------------------------------\n",
      "-----------------------------------------------------\n",
      " \n",
      "-----------------------------------------------------\n",
      "Please see below a summary of the overall acceptance rates.\n",
      "-----------------------------------------------------\n",
      " \n",
      "Minimum acceptance rate among mu[i]'s: 0.159333\n",
      "Average acceptance rate among mu[i]'s: 0.443385\n",
      "Maximum acceptance rate among mu[i]'s: 0.671556\n",
      " \n",
      " \n",
      "Minimum acceptance rate among delta[i]'s: 0.361556\n",
      "Average acceptance rate among delta[i]'s: 0.480782\n",
      "Maximum acceptance rate among delta[i]'s: 0.589778\n",
      " \n",
      " \n",
      "Minimum acceptance rate among nu[jk]'s: 0.819778\n",
      "Average acceptance rate among nu[jk]'s: 0.832642\n",
      "Maximum acceptance rate among nu[jk]'s: 0.851333\n",
      " \n",
      " \n",
      "Minimum acceptance rate among theta[k]'s: 0.784667\n",
      "Average acceptance rate among theta[k]'s: 0.796178\n",
      "Maximum acceptance rate among theta[k]'s: 0.804889\n",
      " \n",
      " \n",
      "-----------------------------------------------------\n",
      " \n"
     ]
    },
    {
     "name": "stderr",
     "output_type": "stream",
     "text": [
      "-------------------------------------------------------------\n",
      "MCMC running time \n",
      "-------------------------------------------------------------\n",
      "user: 174.789\n",
      "system: 5.533\n",
      "elapsed: 18.54\n",
      "\n",
      "\n",
      "-------------------------------------------------------------\n",
      "Output \n",
      "-------------------------------------------------------------\n",
      "\n",
      "\n"
     ]
    }
   ],
   "source": [
    "cond <- 'ctrl'\n",
    "\n",
    "dat <- subset(x=seurat, idents=cond)\n",
    "dat.sce <- SingleCellExperiment(\n",
    "    assays=list(counts = GetAssayData(dat)+1),\n",
    "    colData = data.frame(BatchInfo = dat$batch))\n",
    "\n",
    "Chain <- BASiCS_MCMC(\n",
    "  dat.sce,\n",
    "  N = 5000, Thin = 100, Burn = 500, WithSpikes = FALSE, SubsetBy = 'cell',\n",
    "  PrintProgress = FALSE, Regression = TRUE,Threads = getOption(\"Ncpus\", 10),)\n"
   ]
  },
  {
   "cell_type": "code",
   "execution_count": 9,
   "id": "d51ac73e-1310-4e22-afb3-d76623f8d0dd",
   "metadata": {},
   "outputs": [
    {
     "name": "stderr",
     "output_type": "stream",
     "text": [
      "Running no spikes BASiCS sampler (regression case) ... \n",
      "\n",
      "\n"
     ]
    },
    {
     "name": "stdout",
     "output_type": "stream",
     "text": [
      "-----------------------------------------------------\n",
      "MCMC sampler has been started: 5000 iterations to go.\n",
      "-----------------------------------------------------\n",
      "-----------------------------------------------------\n",
      "End of Burn-in period.\n",
      "-----------------------------------------------------\n",
      " \n",
      "-----------------------------------------------------\n",
      "-----------------------------------------------------\n",
      "All 5000 MCMC iterations have been completed.\n",
      "-----------------------------------------------------\n",
      "-----------------------------------------------------\n",
      " \n",
      "-----------------------------------------------------\n",
      "Please see below a summary of the overall acceptance rates.\n",
      "-----------------------------------------------------\n",
      " \n",
      "Minimum acceptance rate among mu[i]'s: 0.315333\n",
      "Average acceptance rate among mu[i]'s: 0.493958\n",
      "Maximum acceptance rate among mu[i]'s: 0.745778\n",
      " \n",
      " \n",
      "Minimum acceptance rate among delta[i]'s: 0.346\n",
      "Average acceptance rate among delta[i]'s: 0.43772\n",
      "Maximum acceptance rate among delta[i]'s: 0.525333\n",
      " \n",
      " \n",
      "Minimum acceptance rate among nu[jk]'s: 0.866222\n",
      "Average acceptance rate among nu[jk]'s: 0.88232\n",
      "Maximum acceptance rate among nu[jk]'s: 0.899778\n",
      " \n",
      " \n",
      "Minimum acceptance rate among theta[k]'s: 0.790667\n",
      "Average acceptance rate among theta[k]'s: 0.795689\n",
      "Maximum acceptance rate among theta[k]'s: 0.803556\n",
      " \n",
      " \n",
      "-----------------------------------------------------\n",
      " \n"
     ]
    },
    {
     "name": "stderr",
     "output_type": "stream",
     "text": [
      "-------------------------------------------------------------\n",
      "MCMC running time \n",
      "-------------------------------------------------------------\n",
      "user: 180.134\n",
      "system: 5.805\n",
      "elapsed: 19.12\n",
      "\n",
      "\n",
      "-------------------------------------------------------------\n",
      "Output \n",
      "-------------------------------------------------------------\n",
      "\n",
      "\n"
     ]
    }
   ],
   "source": [
    "cond <- 'stim'\n",
    "\n",
    "dat <- subset(x=seurat, idents=cond)\n",
    "dat.sce <- SingleCellExperiment(\n",
    "    assays=list(counts = GetAssayData(dat)+1),\n",
    "    colData = data.frame(BatchInfo = dat$batch))\n",
    "\n",
    "Chain2 <- BASiCS_MCMC(\n",
    "  dat.sce,\n",
    "  N = 5000, Thin = 100, Burn = 500, WithSpikes = FALSE, SubsetBy = 'cell',\n",
    "  PrintProgress = FALSE, Regression = TRUE,Threads = getOption(\"Ncpus\", 10),)\n"
   ]
  },
  {
   "cell_type": "code",
   "execution_count": 10,
   "id": "46e7d97c-8420-4a0f-8469-07047b8addbb",
   "metadata": {},
   "outputs": [
    {
     "name": "stderr",
     "output_type": "stream",
     "text": [
      "-------------------------------------------------------------\n",
      "Log-fold change thresholds are now set in a log2 scale. \n",
      "Original BASiCS release used a natural logarithm scale.\n",
      "\n",
      "-------------------------------------------------------------\n",
      "Offset estimate: 0.4255\n",
      "(ratio ctrl vs stim).\n",
      "-------------------------------------------------------------\n",
      "\n",
      "\n",
      "EFDR = NULL for Differential mean task:\n",
      "Probability threshold automatically set equal to'ProbThresholdM'.\n",
      "\n",
      "EFDR = NULL for Differential dispersion task:\n",
      "Probability threshold automatically set equal to'ProbThresholdD'.\n",
      "\n",
      "EFDR = NULL for Differential residual dispersion task:\n",
      "Probability threshold automatically set equal to'ProbThresholdR'.\n",
      "\n"
     ]
    },
    {
     "name": "stdout",
     "output_type": "stream",
     "text": [
      "[1] 3 8\n"
     ]
    }
   ],
   "source": [
    "Test <- BASiCS_TestDE(\n",
    "  Chain1 = Chain, Chain2 = Chain2,\n",
    "  GroupLabel1 = \"ctrl\", GroupLabel2 = \"stim\",\n",
    "  EpsilonM = 0, EpsilonD =0,\n",
    "  EpsilonR = 0.0,\n",
    "  EFDR_M = NULL, EFDR_D = NULL,EFDR_R=NULL, k=1,ProbThresholdR=0., ProbThresholdM=0, ProbThresholdD=0,\n",
    "  Offset = TRUE, PlotOffset = TRUE, Plot = TRUE\n",
    ")\n",
    "dv <- as.data.frame(Test, Parameter = \"ResDisp\")\n",
    "print(dim(dv))"
   ]
  },
  {
   "cell_type": "code",
   "execution_count": 30,
   "id": "abf561aa-0b5f-495a-9c6d-1f38ac0d1813",
   "metadata": {},
   "outputs": [
    {
     "data": {
      "text/html": [
       "<table class=\"dataframe\">\n",
       "<caption>A data.frame: 986 × 8</caption>\n",
       "<thead>\n",
       "\t<tr><th></th><th scope=col>GeneName</th><th scope=col>ResDispOverall</th><th scope=col>ResDisp1</th><th scope=col>ResDisp2</th><th scope=col>ResDispDistance</th><th scope=col>ProbDiffResDisp</th><th scope=col>ResultDiffResDisp</th><th scope=col>MeanOverall</th></tr>\n",
       "\t<tr><th></th><th scope=col>&lt;chr&gt;</th><th scope=col>&lt;dbl&gt;</th><th scope=col>&lt;dbl&gt;</th><th scope=col>&lt;dbl&gt;</th><th scope=col>&lt;dbl&gt;</th><th scope=col>&lt;dbl&gt;</th><th scope=col>&lt;chr&gt;</th><th scope=col>&lt;dbl&gt;</th></tr>\n",
       "</thead>\n",
       "<tbody>\n",
       "\t<tr><th scope=row>gene10</th><td>gene10 </td><td> 0.404</td><td> 0.243</td><td> 0.564</td><td>-0.376</td><td>0.867</td><td>ExcludedLowESS</td><td> 7.542</td></tr>\n",
       "\t<tr><th scope=row>gene11</th><td>gene11 </td><td> 1.178</td><td> 1.301</td><td> 1.054</td><td> 0.238</td><td>0.778</td><td>ExcludedLowESS</td><td>24.708</td></tr>\n",
       "\t<tr><th scope=row>gene19</th><td>gene19 </td><td> 0.042</td><td> 0.005</td><td> 0.079</td><td>-0.149</td><td>0.333</td><td>ExcludedLowESS</td><td> 9.290</td></tr>\n",
       "\t<tr><th scope=row>gene34</th><td>gene34 </td><td>-0.084</td><td>-0.088</td><td>-0.080</td><td>-0.028</td><td>0.111</td><td>ExcludedLowESS</td><td>12.241</td></tr>\n",
       "\t<tr><th scope=row>gene37</th><td>gene37 </td><td>-0.206</td><td>-0.211</td><td>-0.200</td><td>-0.020</td><td>0.156</td><td>ExcludedLowESS</td><td> 9.274</td></tr>\n",
       "\t<tr><th scope=row>gene105</th><td>gene105</td><td>-0.211</td><td>-0.195</td><td>-0.228</td><td> 0.041</td><td>0.200</td><td>ExcludedLowESS</td><td>18.155</td></tr>\n",
       "\t<tr><th scope=row>gene128</th><td>gene128</td><td>-0.164</td><td>-0.186</td><td>-0.143</td><td>-0.075</td><td>0.289</td><td>ExcludedLowESS</td><td>14.058</td></tr>\n",
       "\t<tr><th scope=row>gene197</th><td>gene197</td><td> 0.061</td><td> 0.010</td><td> 0.113</td><td>-0.050</td><td>0.156</td><td>ExcludedLowESS</td><td> 8.340</td></tr>\n",
       "\t<tr><th scope=row>gene253</th><td>gene253</td><td>-0.056</td><td>-0.003</td><td>-0.108</td><td> 0.047</td><td>0.156</td><td>ExcludedLowESS</td><td>11.188</td></tr>\n",
       "\t<tr><th scope=row>gene260</th><td>gene260</td><td>-0.351</td><td>-0.516</td><td>-0.185</td><td>-0.356</td><td>0.644</td><td>ExcludedLowESS</td><td> 7.025</td></tr>\n",
       "\t<tr><th scope=row>gene280</th><td>gene280</td><td>-0.135</td><td>-0.012</td><td>-0.258</td><td> 0.271</td><td>0.689</td><td>ExcludedLowESS</td><td>16.110</td></tr>\n",
       "\t<tr><th scope=row>gene300</th><td>gene300</td><td>-0.183</td><td>-0.110</td><td>-0.255</td><td> 0.100</td><td>0.556</td><td>ExcludedLowESS</td><td>48.247</td></tr>\n",
       "\t<tr><th scope=row>gene319</th><td>gene319</td><td>-0.371</td><td>-0.389</td><td>-0.353</td><td> 0.015</td><td>0.022</td><td>ExcludedLowESS</td><td> 7.290</td></tr>\n",
       "\t<tr><th scope=row>gene328</th><td>gene328</td><td>-0.258</td><td>-0.252</td><td>-0.263</td><td>-0.044</td><td>0.067</td><td>ExcludedLowESS</td><td> 9.000</td></tr>\n",
       "\t<tr><th scope=row>gene349</th><td>gene349</td><td> 0.341</td><td> 0.320</td><td> 0.361</td><td>-0.075</td><td>0.289</td><td>ExcludedLowESS</td><td>10.593</td></tr>\n",
       "\t<tr><th scope=row>gene350</th><td>gene350</td><td>-0.137</td><td>-0.114</td><td>-0.160</td><td> 0.061</td><td>0.244</td><td>ExcludedLowESS</td><td> 8.219</td></tr>\n",
       "\t<tr><th scope=row>gene353</th><td>gene353</td><td> 0.095</td><td> 0.170</td><td> 0.021</td><td> 0.121</td><td>0.422</td><td>ExcludedLowESS</td><td>12.783</td></tr>\n",
       "\t<tr><th scope=row>gene359</th><td>gene359</td><td> 1.557</td><td> 1.966</td><td> 1.147</td><td> 0.782</td><td>1.000</td><td>ExcludedLowESS</td><td> 8.148</td></tr>\n",
       "\t<tr><th scope=row>gene362</th><td>gene362</td><td>-0.134</td><td>-0.268</td><td>-0.001</td><td>-0.247</td><td>0.733</td><td>ExcludedLowESS</td><td>24.081</td></tr>\n",
       "\t<tr><th scope=row>gene370</th><td>gene370</td><td>-0.095</td><td>-0.176</td><td>-0.013</td><td>-0.214</td><td>0.511</td><td>ExcludedLowESS</td><td> 7.946</td></tr>\n",
       "\t<tr><th scope=row>gene373</th><td>gene373</td><td> 0.239</td><td> 0.491</td><td>-0.013</td><td> 0.484</td><td>0.911</td><td>ExcludedLowESS</td><td>10.246</td></tr>\n",
       "\t<tr><th scope=row>gene378</th><td>gene378</td><td> 0.955</td><td> 1.125</td><td> 0.785</td><td> 0.363</td><td>0.911</td><td>ExcludedLowESS</td><td>22.006</td></tr>\n",
       "\t<tr><th scope=row>gene392</th><td>gene392</td><td> 0.037</td><td>-0.053</td><td> 0.128</td><td>-0.201</td><td>0.644</td><td>ExcludedLowESS</td><td>50.887</td></tr>\n",
       "\t<tr><th scope=row>gene479</th><td>gene479</td><td>-0.221</td><td>-0.047</td><td>-0.394</td><td> 0.360</td><td>0.511</td><td>ExcludedLowESS</td><td> 8.386</td></tr>\n",
       "\t<tr><th scope=row>gene494</th><td>gene494</td><td>-0.188</td><td>-0.202</td><td>-0.175</td><td>-0.035</td><td>0.111</td><td>ExcludedLowESS</td><td> 8.387</td></tr>\n",
       "\t<tr><th scope=row>gene505</th><td>gene505</td><td>-0.124</td><td> 0.095</td><td>-0.343</td><td> 0.456</td><td>0.778</td><td>ExcludedLowESS</td><td> 8.153</td></tr>\n",
       "\t<tr><th scope=row>gene510</th><td>gene510</td><td>-0.361</td><td>-0.337</td><td>-0.386</td><td>-0.065</td><td>0.067</td><td>ExcludedLowESS</td><td> 9.375</td></tr>\n",
       "\t<tr><th scope=row>gene512</th><td>gene512</td><td>-0.191</td><td>-0.305</td><td>-0.076</td><td>-0.227</td><td>0.778</td><td>ExcludedLowESS</td><td>20.428</td></tr>\n",
       "\t<tr><th scope=row>gene529</th><td>gene529</td><td>-0.060</td><td>-0.037</td><td>-0.082</td><td> 0.077</td><td>0.289</td><td>ExcludedLowESS</td><td>13.172</td></tr>\n",
       "\t<tr><th scope=row>gene533</th><td>gene533</td><td>-0.005</td><td>-0.076</td><td> 0.065</td><td>-0.139</td><td>0.467</td><td>ExcludedLowESS</td><td>11.650</td></tr>\n",
       "\t<tr><th scope=row>⋮</th><td>⋮</td><td>⋮</td><td>⋮</td><td>⋮</td><td>⋮</td><td>⋮</td><td>⋮</td><td>⋮</td></tr>\n",
       "\t<tr><th scope=row>gene19141</th><td>gene19141</td><td>-0.046</td><td>-0.113</td><td> 0.021</td><td>-0.173</td><td>0.378</td><td>ExcludedLowESS</td><td>  8.020</td></tr>\n",
       "\t<tr><th scope=row>gene19169</th><td>gene19169</td><td>-0.143</td><td>-0.262</td><td>-0.024</td><td>-0.234</td><td>0.867</td><td>ExcludedLowESS</td><td>118.320</td></tr>\n",
       "\t<tr><th scope=row>gene19228</th><td>gene19228</td><td>-0.331</td><td>-0.228</td><td>-0.435</td><td> 0.257</td><td>0.422</td><td>ExcludedLowESS</td><td>  8.738</td></tr>\n",
       "\t<tr><th scope=row>gene19242</th><td>gene19242</td><td>-0.143</td><td>-0.281</td><td>-0.006</td><td>-0.265</td><td>0.556</td><td>ExcludedLowESS</td><td>  7.010</td></tr>\n",
       "\t<tr><th scope=row>gene19374</th><td>gene19374</td><td> 0.215</td><td> 0.222</td><td> 0.207</td><td> 0.048</td><td>0.289</td><td>ExcludedLowESS</td><td> 44.953</td></tr>\n",
       "\t<tr><th scope=row>gene19394</th><td>gene19394</td><td> 0.090</td><td> 0.033</td><td> 0.147</td><td>-0.082</td><td>0.156</td><td>ExcludedLowESS</td><td>  7.237</td></tr>\n",
       "\t<tr><th scope=row>gene19396</th><td>gene19396</td><td> 0.011</td><td> 0.085</td><td>-0.063</td><td> 0.214</td><td>0.467</td><td>ExcludedLowESS</td><td> 16.849</td></tr>\n",
       "\t<tr><th scope=row>gene19417</th><td>gene19417</td><td>-0.078</td><td>-0.101</td><td>-0.056</td><td>-0.044</td><td>0.200</td><td>ExcludedLowESS</td><td>  9.081</td></tr>\n",
       "\t<tr><th scope=row>gene19428</th><td>gene19428</td><td> 0.081</td><td>-0.057</td><td> 0.218</td><td>-0.306</td><td>0.778</td><td>ExcludedLowESS</td><td> 12.168</td></tr>\n",
       "\t<tr><th scope=row>gene19462</th><td>gene19462</td><td>-0.304</td><td>-0.342</td><td>-0.266</td><td>-0.083</td><td>0.333</td><td>ExcludedLowESS</td><td> 10.812</td></tr>\n",
       "\t<tr><th scope=row>gene19515</th><td>gene19515</td><td>-0.085</td><td>-0.025</td><td>-0.146</td><td> 0.132</td><td>0.378</td><td>ExcludedLowESS</td><td>  7.896</td></tr>\n",
       "\t<tr><th scope=row>gene19521</th><td>gene19521</td><td> 0.049</td><td> 0.123</td><td>-0.024</td><td> 0.228</td><td>0.511</td><td>ExcludedLowESS</td><td> 47.371</td></tr>\n",
       "\t<tr><th scope=row>gene19525</th><td>gene19525</td><td>-0.167</td><td>-0.101</td><td>-0.233</td><td> 0.136</td><td>0.378</td><td>ExcludedLowESS</td><td>  9.489</td></tr>\n",
       "\t<tr><th scope=row>gene19526</th><td>gene19526</td><td> 0.228</td><td> 0.249</td><td> 0.208</td><td> 0.081</td><td>0.244</td><td>ExcludedLowESS</td><td> 16.129</td></tr>\n",
       "\t<tr><th scope=row>gene19616</th><td>gene19616</td><td>-0.049</td><td> 0.115</td><td>-0.214</td><td> 0.301</td><td>0.867</td><td>ExcludedLowESS</td><td> 32.692</td></tr>\n",
       "\t<tr><th scope=row>gene19630</th><td>gene19630</td><td> 0.035</td><td> 0.054</td><td> 0.017</td><td> 0.055</td><td>0.111</td><td>ExcludedLowESS</td><td> 13.705</td></tr>\n",
       "\t<tr><th scope=row>gene19642</th><td>gene19642</td><td> 0.087</td><td> 0.044</td><td> 0.131</td><td>-0.091</td><td>0.422</td><td>ExcludedLowESS</td><td> 55.948</td></tr>\n",
       "\t<tr><th scope=row>gene19646</th><td>gene19646</td><td> 0.295</td><td> 0.281</td><td> 0.309</td><td> 0.016</td><td>0.067</td><td>ExcludedLowESS</td><td> 10.801</td></tr>\n",
       "\t<tr><th scope=row>gene19673</th><td>gene19673</td><td> 0.573</td><td> 0.760</td><td> 0.386</td><td> 0.382</td><td>0.867</td><td>ExcludedLowESS</td><td>  9.969</td></tr>\n",
       "\t<tr><th scope=row>gene19696</th><td>gene19696</td><td> 0.098</td><td> 0.046</td><td> 0.151</td><td>-0.125</td><td>0.511</td><td>ExcludedLowESS</td><td>134.087</td></tr>\n",
       "\t<tr><th scope=row>gene19697</th><td>gene19697</td><td> 0.149</td><td> 0.326</td><td>-0.027</td><td> 0.302</td><td>0.911</td><td>ExcludedLowESS</td><td>160.413</td></tr>\n",
       "\t<tr><th scope=row>gene19698</th><td>gene19698</td><td>-0.002</td><td>-0.104</td><td> 0.099</td><td>-0.173</td><td>0.644</td><td>ExcludedLowESS</td><td>355.263</td></tr>\n",
       "\t<tr><th scope=row>gene19699</th><td>gene19699</td><td>-0.061</td><td>-0.091</td><td>-0.031</td><td>-0.037</td><td>0.156</td><td>ExcludedLowESS</td><td>649.127</td></tr>\n",
       "\t<tr><th scope=row>gene19701</th><td>gene19701</td><td> 0.078</td><td> 0.100</td><td> 0.056</td><td> 0.061</td><td>0.200</td><td>ExcludedLowESS</td><td>325.132</td></tr>\n",
       "\t<tr><th scope=row>gene19702</th><td>gene19702</td><td>-0.089</td><td>-0.042</td><td>-0.136</td><td> 0.111</td><td>0.333</td><td>ExcludedLowESS</td><td>294.162</td></tr>\n",
       "\t<tr><th scope=row>gene19703</th><td>gene19703</td><td> 0.016</td><td>-0.141</td><td> 0.174</td><td>-0.298</td><td>0.911</td><td>ExcludedLowESS</td><td>285.226</td></tr>\n",
       "\t<tr><th scope=row>gene19704</th><td>gene19704</td><td> 0.233</td><td> 0.182</td><td> 0.285</td><td>-0.131</td><td>0.333</td><td>ExcludedLowESS</td><td> 13.029</td></tr>\n",
       "\t<tr><th scope=row>gene19705</th><td>gene19705</td><td>-0.019</td><td>-0.041</td><td> 0.004</td><td>-0.116</td><td>0.600</td><td>ExcludedLowESS</td><td>185.252</td></tr>\n",
       "\t<tr><th scope=row>gene19706</th><td>gene19706</td><td> 0.003</td><td>-0.118</td><td> 0.125</td><td>-0.261</td><td>0.733</td><td>ExcludedLowESS</td><td> 82.367</td></tr>\n",
       "\t<tr><th scope=row>gene19708</th><td>gene19708</td><td>-0.137</td><td>-0.225</td><td>-0.049</td><td>-0.207</td><td>0.689</td><td>ExcludedLowESS</td><td>279.643</td></tr>\n",
       "</tbody>\n",
       "</table>\n"
      ],
      "text/latex": [
       "A data.frame: 986 × 8\n",
       "\\begin{tabular}{r|llllllll}\n",
       "  & GeneName & ResDispOverall & ResDisp1 & ResDisp2 & ResDispDistance & ProbDiffResDisp & ResultDiffResDisp & MeanOverall\\\\\n",
       "  & <chr> & <dbl> & <dbl> & <dbl> & <dbl> & <dbl> & <chr> & <dbl>\\\\\n",
       "\\hline\n",
       "\tgene10 & gene10  &  0.404 &  0.243 &  0.564 & -0.376 & 0.867 & ExcludedLowESS &  7.542\\\\\n",
       "\tgene11 & gene11  &  1.178 &  1.301 &  1.054 &  0.238 & 0.778 & ExcludedLowESS & 24.708\\\\\n",
       "\tgene19 & gene19  &  0.042 &  0.005 &  0.079 & -0.149 & 0.333 & ExcludedLowESS &  9.290\\\\\n",
       "\tgene34 & gene34  & -0.084 & -0.088 & -0.080 & -0.028 & 0.111 & ExcludedLowESS & 12.241\\\\\n",
       "\tgene37 & gene37  & -0.206 & -0.211 & -0.200 & -0.020 & 0.156 & ExcludedLowESS &  9.274\\\\\n",
       "\tgene105 & gene105 & -0.211 & -0.195 & -0.228 &  0.041 & 0.200 & ExcludedLowESS & 18.155\\\\\n",
       "\tgene128 & gene128 & -0.164 & -0.186 & -0.143 & -0.075 & 0.289 & ExcludedLowESS & 14.058\\\\\n",
       "\tgene197 & gene197 &  0.061 &  0.010 &  0.113 & -0.050 & 0.156 & ExcludedLowESS &  8.340\\\\\n",
       "\tgene253 & gene253 & -0.056 & -0.003 & -0.108 &  0.047 & 0.156 & ExcludedLowESS & 11.188\\\\\n",
       "\tgene260 & gene260 & -0.351 & -0.516 & -0.185 & -0.356 & 0.644 & ExcludedLowESS &  7.025\\\\\n",
       "\tgene280 & gene280 & -0.135 & -0.012 & -0.258 &  0.271 & 0.689 & ExcludedLowESS & 16.110\\\\\n",
       "\tgene300 & gene300 & -0.183 & -0.110 & -0.255 &  0.100 & 0.556 & ExcludedLowESS & 48.247\\\\\n",
       "\tgene319 & gene319 & -0.371 & -0.389 & -0.353 &  0.015 & 0.022 & ExcludedLowESS &  7.290\\\\\n",
       "\tgene328 & gene328 & -0.258 & -0.252 & -0.263 & -0.044 & 0.067 & ExcludedLowESS &  9.000\\\\\n",
       "\tgene349 & gene349 &  0.341 &  0.320 &  0.361 & -0.075 & 0.289 & ExcludedLowESS & 10.593\\\\\n",
       "\tgene350 & gene350 & -0.137 & -0.114 & -0.160 &  0.061 & 0.244 & ExcludedLowESS &  8.219\\\\\n",
       "\tgene353 & gene353 &  0.095 &  0.170 &  0.021 &  0.121 & 0.422 & ExcludedLowESS & 12.783\\\\\n",
       "\tgene359 & gene359 &  1.557 &  1.966 &  1.147 &  0.782 & 1.000 & ExcludedLowESS &  8.148\\\\\n",
       "\tgene362 & gene362 & -0.134 & -0.268 & -0.001 & -0.247 & 0.733 & ExcludedLowESS & 24.081\\\\\n",
       "\tgene370 & gene370 & -0.095 & -0.176 & -0.013 & -0.214 & 0.511 & ExcludedLowESS &  7.946\\\\\n",
       "\tgene373 & gene373 &  0.239 &  0.491 & -0.013 &  0.484 & 0.911 & ExcludedLowESS & 10.246\\\\\n",
       "\tgene378 & gene378 &  0.955 &  1.125 &  0.785 &  0.363 & 0.911 & ExcludedLowESS & 22.006\\\\\n",
       "\tgene392 & gene392 &  0.037 & -0.053 &  0.128 & -0.201 & 0.644 & ExcludedLowESS & 50.887\\\\\n",
       "\tgene479 & gene479 & -0.221 & -0.047 & -0.394 &  0.360 & 0.511 & ExcludedLowESS &  8.386\\\\\n",
       "\tgene494 & gene494 & -0.188 & -0.202 & -0.175 & -0.035 & 0.111 & ExcludedLowESS &  8.387\\\\\n",
       "\tgene505 & gene505 & -0.124 &  0.095 & -0.343 &  0.456 & 0.778 & ExcludedLowESS &  8.153\\\\\n",
       "\tgene510 & gene510 & -0.361 & -0.337 & -0.386 & -0.065 & 0.067 & ExcludedLowESS &  9.375\\\\\n",
       "\tgene512 & gene512 & -0.191 & -0.305 & -0.076 & -0.227 & 0.778 & ExcludedLowESS & 20.428\\\\\n",
       "\tgene529 & gene529 & -0.060 & -0.037 & -0.082 &  0.077 & 0.289 & ExcludedLowESS & 13.172\\\\\n",
       "\tgene533 & gene533 & -0.005 & -0.076 &  0.065 & -0.139 & 0.467 & ExcludedLowESS & 11.650\\\\\n",
       "\t⋮ & ⋮ & ⋮ & ⋮ & ⋮ & ⋮ & ⋮ & ⋮ & ⋮\\\\\n",
       "\tgene19141 & gene19141 & -0.046 & -0.113 &  0.021 & -0.173 & 0.378 & ExcludedLowESS &   8.020\\\\\n",
       "\tgene19169 & gene19169 & -0.143 & -0.262 & -0.024 & -0.234 & 0.867 & ExcludedLowESS & 118.320\\\\\n",
       "\tgene19228 & gene19228 & -0.331 & -0.228 & -0.435 &  0.257 & 0.422 & ExcludedLowESS &   8.738\\\\\n",
       "\tgene19242 & gene19242 & -0.143 & -0.281 & -0.006 & -0.265 & 0.556 & ExcludedLowESS &   7.010\\\\\n",
       "\tgene19374 & gene19374 &  0.215 &  0.222 &  0.207 &  0.048 & 0.289 & ExcludedLowESS &  44.953\\\\\n",
       "\tgene19394 & gene19394 &  0.090 &  0.033 &  0.147 & -0.082 & 0.156 & ExcludedLowESS &   7.237\\\\\n",
       "\tgene19396 & gene19396 &  0.011 &  0.085 & -0.063 &  0.214 & 0.467 & ExcludedLowESS &  16.849\\\\\n",
       "\tgene19417 & gene19417 & -0.078 & -0.101 & -0.056 & -0.044 & 0.200 & ExcludedLowESS &   9.081\\\\\n",
       "\tgene19428 & gene19428 &  0.081 & -0.057 &  0.218 & -0.306 & 0.778 & ExcludedLowESS &  12.168\\\\\n",
       "\tgene19462 & gene19462 & -0.304 & -0.342 & -0.266 & -0.083 & 0.333 & ExcludedLowESS &  10.812\\\\\n",
       "\tgene19515 & gene19515 & -0.085 & -0.025 & -0.146 &  0.132 & 0.378 & ExcludedLowESS &   7.896\\\\\n",
       "\tgene19521 & gene19521 &  0.049 &  0.123 & -0.024 &  0.228 & 0.511 & ExcludedLowESS &  47.371\\\\\n",
       "\tgene19525 & gene19525 & -0.167 & -0.101 & -0.233 &  0.136 & 0.378 & ExcludedLowESS &   9.489\\\\\n",
       "\tgene19526 & gene19526 &  0.228 &  0.249 &  0.208 &  0.081 & 0.244 & ExcludedLowESS &  16.129\\\\\n",
       "\tgene19616 & gene19616 & -0.049 &  0.115 & -0.214 &  0.301 & 0.867 & ExcludedLowESS &  32.692\\\\\n",
       "\tgene19630 & gene19630 &  0.035 &  0.054 &  0.017 &  0.055 & 0.111 & ExcludedLowESS &  13.705\\\\\n",
       "\tgene19642 & gene19642 &  0.087 &  0.044 &  0.131 & -0.091 & 0.422 & ExcludedLowESS &  55.948\\\\\n",
       "\tgene19646 & gene19646 &  0.295 &  0.281 &  0.309 &  0.016 & 0.067 & ExcludedLowESS &  10.801\\\\\n",
       "\tgene19673 & gene19673 &  0.573 &  0.760 &  0.386 &  0.382 & 0.867 & ExcludedLowESS &   9.969\\\\\n",
       "\tgene19696 & gene19696 &  0.098 &  0.046 &  0.151 & -0.125 & 0.511 & ExcludedLowESS & 134.087\\\\\n",
       "\tgene19697 & gene19697 &  0.149 &  0.326 & -0.027 &  0.302 & 0.911 & ExcludedLowESS & 160.413\\\\\n",
       "\tgene19698 & gene19698 & -0.002 & -0.104 &  0.099 & -0.173 & 0.644 & ExcludedLowESS & 355.263\\\\\n",
       "\tgene19699 & gene19699 & -0.061 & -0.091 & -0.031 & -0.037 & 0.156 & ExcludedLowESS & 649.127\\\\\n",
       "\tgene19701 & gene19701 &  0.078 &  0.100 &  0.056 &  0.061 & 0.200 & ExcludedLowESS & 325.132\\\\\n",
       "\tgene19702 & gene19702 & -0.089 & -0.042 & -0.136 &  0.111 & 0.333 & ExcludedLowESS & 294.162\\\\\n",
       "\tgene19703 & gene19703 &  0.016 & -0.141 &  0.174 & -0.298 & 0.911 & ExcludedLowESS & 285.226\\\\\n",
       "\tgene19704 & gene19704 &  0.233 &  0.182 &  0.285 & -0.131 & 0.333 & ExcludedLowESS &  13.029\\\\\n",
       "\tgene19705 & gene19705 & -0.019 & -0.041 &  0.004 & -0.116 & 0.600 & ExcludedLowESS & 185.252\\\\\n",
       "\tgene19706 & gene19706 &  0.003 & -0.118 &  0.125 & -0.261 & 0.733 & ExcludedLowESS &  82.367\\\\\n",
       "\tgene19708 & gene19708 & -0.137 & -0.225 & -0.049 & -0.207 & 0.689 & ExcludedLowESS & 279.643\\\\\n",
       "\\end{tabular}\n"
      ],
      "text/markdown": [
       "\n",
       "A data.frame: 986 × 8\n",
       "\n",
       "| <!--/--> | GeneName &lt;chr&gt; | ResDispOverall &lt;dbl&gt; | ResDisp1 &lt;dbl&gt; | ResDisp2 &lt;dbl&gt; | ResDispDistance &lt;dbl&gt; | ProbDiffResDisp &lt;dbl&gt; | ResultDiffResDisp &lt;chr&gt; | MeanOverall &lt;dbl&gt; |\n",
       "|---|---|---|---|---|---|---|---|---|\n",
       "| gene10 | gene10  |  0.404 |  0.243 |  0.564 | -0.376 | 0.867 | ExcludedLowESS |  7.542 |\n",
       "| gene11 | gene11  |  1.178 |  1.301 |  1.054 |  0.238 | 0.778 | ExcludedLowESS | 24.708 |\n",
       "| gene19 | gene19  |  0.042 |  0.005 |  0.079 | -0.149 | 0.333 | ExcludedLowESS |  9.290 |\n",
       "| gene34 | gene34  | -0.084 | -0.088 | -0.080 | -0.028 | 0.111 | ExcludedLowESS | 12.241 |\n",
       "| gene37 | gene37  | -0.206 | -0.211 | -0.200 | -0.020 | 0.156 | ExcludedLowESS |  9.274 |\n",
       "| gene105 | gene105 | -0.211 | -0.195 | -0.228 |  0.041 | 0.200 | ExcludedLowESS | 18.155 |\n",
       "| gene128 | gene128 | -0.164 | -0.186 | -0.143 | -0.075 | 0.289 | ExcludedLowESS | 14.058 |\n",
       "| gene197 | gene197 |  0.061 |  0.010 |  0.113 | -0.050 | 0.156 | ExcludedLowESS |  8.340 |\n",
       "| gene253 | gene253 | -0.056 | -0.003 | -0.108 |  0.047 | 0.156 | ExcludedLowESS | 11.188 |\n",
       "| gene260 | gene260 | -0.351 | -0.516 | -0.185 | -0.356 | 0.644 | ExcludedLowESS |  7.025 |\n",
       "| gene280 | gene280 | -0.135 | -0.012 | -0.258 |  0.271 | 0.689 | ExcludedLowESS | 16.110 |\n",
       "| gene300 | gene300 | -0.183 | -0.110 | -0.255 |  0.100 | 0.556 | ExcludedLowESS | 48.247 |\n",
       "| gene319 | gene319 | -0.371 | -0.389 | -0.353 |  0.015 | 0.022 | ExcludedLowESS |  7.290 |\n",
       "| gene328 | gene328 | -0.258 | -0.252 | -0.263 | -0.044 | 0.067 | ExcludedLowESS |  9.000 |\n",
       "| gene349 | gene349 |  0.341 |  0.320 |  0.361 | -0.075 | 0.289 | ExcludedLowESS | 10.593 |\n",
       "| gene350 | gene350 | -0.137 | -0.114 | -0.160 |  0.061 | 0.244 | ExcludedLowESS |  8.219 |\n",
       "| gene353 | gene353 |  0.095 |  0.170 |  0.021 |  0.121 | 0.422 | ExcludedLowESS | 12.783 |\n",
       "| gene359 | gene359 |  1.557 |  1.966 |  1.147 |  0.782 | 1.000 | ExcludedLowESS |  8.148 |\n",
       "| gene362 | gene362 | -0.134 | -0.268 | -0.001 | -0.247 | 0.733 | ExcludedLowESS | 24.081 |\n",
       "| gene370 | gene370 | -0.095 | -0.176 | -0.013 | -0.214 | 0.511 | ExcludedLowESS |  7.946 |\n",
       "| gene373 | gene373 |  0.239 |  0.491 | -0.013 |  0.484 | 0.911 | ExcludedLowESS | 10.246 |\n",
       "| gene378 | gene378 |  0.955 |  1.125 |  0.785 |  0.363 | 0.911 | ExcludedLowESS | 22.006 |\n",
       "| gene392 | gene392 |  0.037 | -0.053 |  0.128 | -0.201 | 0.644 | ExcludedLowESS | 50.887 |\n",
       "| gene479 | gene479 | -0.221 | -0.047 | -0.394 |  0.360 | 0.511 | ExcludedLowESS |  8.386 |\n",
       "| gene494 | gene494 | -0.188 | -0.202 | -0.175 | -0.035 | 0.111 | ExcludedLowESS |  8.387 |\n",
       "| gene505 | gene505 | -0.124 |  0.095 | -0.343 |  0.456 | 0.778 | ExcludedLowESS |  8.153 |\n",
       "| gene510 | gene510 | -0.361 | -0.337 | -0.386 | -0.065 | 0.067 | ExcludedLowESS |  9.375 |\n",
       "| gene512 | gene512 | -0.191 | -0.305 | -0.076 | -0.227 | 0.778 | ExcludedLowESS | 20.428 |\n",
       "| gene529 | gene529 | -0.060 | -0.037 | -0.082 |  0.077 | 0.289 | ExcludedLowESS | 13.172 |\n",
       "| gene533 | gene533 | -0.005 | -0.076 |  0.065 | -0.139 | 0.467 | ExcludedLowESS | 11.650 |\n",
       "| ⋮ | ⋮ | ⋮ | ⋮ | ⋮ | ⋮ | ⋮ | ⋮ | ⋮ |\n",
       "| gene19141 | gene19141 | -0.046 | -0.113 |  0.021 | -0.173 | 0.378 | ExcludedLowESS |   8.020 |\n",
       "| gene19169 | gene19169 | -0.143 | -0.262 | -0.024 | -0.234 | 0.867 | ExcludedLowESS | 118.320 |\n",
       "| gene19228 | gene19228 | -0.331 | -0.228 | -0.435 |  0.257 | 0.422 | ExcludedLowESS |   8.738 |\n",
       "| gene19242 | gene19242 | -0.143 | -0.281 | -0.006 | -0.265 | 0.556 | ExcludedLowESS |   7.010 |\n",
       "| gene19374 | gene19374 |  0.215 |  0.222 |  0.207 |  0.048 | 0.289 | ExcludedLowESS |  44.953 |\n",
       "| gene19394 | gene19394 |  0.090 |  0.033 |  0.147 | -0.082 | 0.156 | ExcludedLowESS |   7.237 |\n",
       "| gene19396 | gene19396 |  0.011 |  0.085 | -0.063 |  0.214 | 0.467 | ExcludedLowESS |  16.849 |\n",
       "| gene19417 | gene19417 | -0.078 | -0.101 | -0.056 | -0.044 | 0.200 | ExcludedLowESS |   9.081 |\n",
       "| gene19428 | gene19428 |  0.081 | -0.057 |  0.218 | -0.306 | 0.778 | ExcludedLowESS |  12.168 |\n",
       "| gene19462 | gene19462 | -0.304 | -0.342 | -0.266 | -0.083 | 0.333 | ExcludedLowESS |  10.812 |\n",
       "| gene19515 | gene19515 | -0.085 | -0.025 | -0.146 |  0.132 | 0.378 | ExcludedLowESS |   7.896 |\n",
       "| gene19521 | gene19521 |  0.049 |  0.123 | -0.024 |  0.228 | 0.511 | ExcludedLowESS |  47.371 |\n",
       "| gene19525 | gene19525 | -0.167 | -0.101 | -0.233 |  0.136 | 0.378 | ExcludedLowESS |   9.489 |\n",
       "| gene19526 | gene19526 |  0.228 |  0.249 |  0.208 |  0.081 | 0.244 | ExcludedLowESS |  16.129 |\n",
       "| gene19616 | gene19616 | -0.049 |  0.115 | -0.214 |  0.301 | 0.867 | ExcludedLowESS |  32.692 |\n",
       "| gene19630 | gene19630 |  0.035 |  0.054 |  0.017 |  0.055 | 0.111 | ExcludedLowESS |  13.705 |\n",
       "| gene19642 | gene19642 |  0.087 |  0.044 |  0.131 | -0.091 | 0.422 | ExcludedLowESS |  55.948 |\n",
       "| gene19646 | gene19646 |  0.295 |  0.281 |  0.309 |  0.016 | 0.067 | ExcludedLowESS |  10.801 |\n",
       "| gene19673 | gene19673 |  0.573 |  0.760 |  0.386 |  0.382 | 0.867 | ExcludedLowESS |   9.969 |\n",
       "| gene19696 | gene19696 |  0.098 |  0.046 |  0.151 | -0.125 | 0.511 | ExcludedLowESS | 134.087 |\n",
       "| gene19697 | gene19697 |  0.149 |  0.326 | -0.027 |  0.302 | 0.911 | ExcludedLowESS | 160.413 |\n",
       "| gene19698 | gene19698 | -0.002 | -0.104 |  0.099 | -0.173 | 0.644 | ExcludedLowESS | 355.263 |\n",
       "| gene19699 | gene19699 | -0.061 | -0.091 | -0.031 | -0.037 | 0.156 | ExcludedLowESS | 649.127 |\n",
       "| gene19701 | gene19701 |  0.078 |  0.100 |  0.056 |  0.061 | 0.200 | ExcludedLowESS | 325.132 |\n",
       "| gene19702 | gene19702 | -0.089 | -0.042 | -0.136 |  0.111 | 0.333 | ExcludedLowESS | 294.162 |\n",
       "| gene19703 | gene19703 |  0.016 | -0.141 |  0.174 | -0.298 | 0.911 | ExcludedLowESS | 285.226 |\n",
       "| gene19704 | gene19704 |  0.233 |  0.182 |  0.285 | -0.131 | 0.333 | ExcludedLowESS |  13.029 |\n",
       "| gene19705 | gene19705 | -0.019 | -0.041 |  0.004 | -0.116 | 0.600 | ExcludedLowESS | 185.252 |\n",
       "| gene19706 | gene19706 |  0.003 | -0.118 |  0.125 | -0.261 | 0.733 | ExcludedLowESS |  82.367 |\n",
       "| gene19708 | gene19708 | -0.137 | -0.225 | -0.049 | -0.207 | 0.689 | ExcludedLowESS | 279.643 |\n",
       "\n"
      ],
      "text/plain": [
       "          GeneName  ResDispOverall ResDisp1 ResDisp2 ResDispDistance\n",
       "gene10    gene10     0.404          0.243    0.564   -0.376         \n",
       "gene11    gene11     1.178          1.301    1.054    0.238         \n",
       "gene19    gene19     0.042          0.005    0.079   -0.149         \n",
       "gene34    gene34    -0.084         -0.088   -0.080   -0.028         \n",
       "gene37    gene37    -0.206         -0.211   -0.200   -0.020         \n",
       "gene105   gene105   -0.211         -0.195   -0.228    0.041         \n",
       "gene128   gene128   -0.164         -0.186   -0.143   -0.075         \n",
       "gene197   gene197    0.061          0.010    0.113   -0.050         \n",
       "gene253   gene253   -0.056         -0.003   -0.108    0.047         \n",
       "gene260   gene260   -0.351         -0.516   -0.185   -0.356         \n",
       "gene280   gene280   -0.135         -0.012   -0.258    0.271         \n",
       "gene300   gene300   -0.183         -0.110   -0.255    0.100         \n",
       "gene319   gene319   -0.371         -0.389   -0.353    0.015         \n",
       "gene328   gene328   -0.258         -0.252   -0.263   -0.044         \n",
       "gene349   gene349    0.341          0.320    0.361   -0.075         \n",
       "gene350   gene350   -0.137         -0.114   -0.160    0.061         \n",
       "gene353   gene353    0.095          0.170    0.021    0.121         \n",
       "gene359   gene359    1.557          1.966    1.147    0.782         \n",
       "gene362   gene362   -0.134         -0.268   -0.001   -0.247         \n",
       "gene370   gene370   -0.095         -0.176   -0.013   -0.214         \n",
       "gene373   gene373    0.239          0.491   -0.013    0.484         \n",
       "gene378   gene378    0.955          1.125    0.785    0.363         \n",
       "gene392   gene392    0.037         -0.053    0.128   -0.201         \n",
       "gene479   gene479   -0.221         -0.047   -0.394    0.360         \n",
       "gene494   gene494   -0.188         -0.202   -0.175   -0.035         \n",
       "gene505   gene505   -0.124          0.095   -0.343    0.456         \n",
       "gene510   gene510   -0.361         -0.337   -0.386   -0.065         \n",
       "gene512   gene512   -0.191         -0.305   -0.076   -0.227         \n",
       "gene529   gene529   -0.060         -0.037   -0.082    0.077         \n",
       "gene533   gene533   -0.005         -0.076    0.065   -0.139         \n",
       "⋮         ⋮         ⋮              ⋮        ⋮        ⋮              \n",
       "gene19141 gene19141 -0.046         -0.113    0.021   -0.173         \n",
       "gene19169 gene19169 -0.143         -0.262   -0.024   -0.234         \n",
       "gene19228 gene19228 -0.331         -0.228   -0.435    0.257         \n",
       "gene19242 gene19242 -0.143         -0.281   -0.006   -0.265         \n",
       "gene19374 gene19374  0.215          0.222    0.207    0.048         \n",
       "gene19394 gene19394  0.090          0.033    0.147   -0.082         \n",
       "gene19396 gene19396  0.011          0.085   -0.063    0.214         \n",
       "gene19417 gene19417 -0.078         -0.101   -0.056   -0.044         \n",
       "gene19428 gene19428  0.081         -0.057    0.218   -0.306         \n",
       "gene19462 gene19462 -0.304         -0.342   -0.266   -0.083         \n",
       "gene19515 gene19515 -0.085         -0.025   -0.146    0.132         \n",
       "gene19521 gene19521  0.049          0.123   -0.024    0.228         \n",
       "gene19525 gene19525 -0.167         -0.101   -0.233    0.136         \n",
       "gene19526 gene19526  0.228          0.249    0.208    0.081         \n",
       "gene19616 gene19616 -0.049          0.115   -0.214    0.301         \n",
       "gene19630 gene19630  0.035          0.054    0.017    0.055         \n",
       "gene19642 gene19642  0.087          0.044    0.131   -0.091         \n",
       "gene19646 gene19646  0.295          0.281    0.309    0.016         \n",
       "gene19673 gene19673  0.573          0.760    0.386    0.382         \n",
       "gene19696 gene19696  0.098          0.046    0.151   -0.125         \n",
       "gene19697 gene19697  0.149          0.326   -0.027    0.302         \n",
       "gene19698 gene19698 -0.002         -0.104    0.099   -0.173         \n",
       "gene19699 gene19699 -0.061         -0.091   -0.031   -0.037         \n",
       "gene19701 gene19701  0.078          0.100    0.056    0.061         \n",
       "gene19702 gene19702 -0.089         -0.042   -0.136    0.111         \n",
       "gene19703 gene19703  0.016         -0.141    0.174   -0.298         \n",
       "gene19704 gene19704  0.233          0.182    0.285   -0.131         \n",
       "gene19705 gene19705 -0.019         -0.041    0.004   -0.116         \n",
       "gene19706 gene19706  0.003         -0.118    0.125   -0.261         \n",
       "gene19708 gene19708 -0.137         -0.225   -0.049   -0.207         \n",
       "          ProbDiffResDisp ResultDiffResDisp MeanOverall\n",
       "gene10    0.867           ExcludedLowESS     7.542     \n",
       "gene11    0.778           ExcludedLowESS    24.708     \n",
       "gene19    0.333           ExcludedLowESS     9.290     \n",
       "gene34    0.111           ExcludedLowESS    12.241     \n",
       "gene37    0.156           ExcludedLowESS     9.274     \n",
       "gene105   0.200           ExcludedLowESS    18.155     \n",
       "gene128   0.289           ExcludedLowESS    14.058     \n",
       "gene197   0.156           ExcludedLowESS     8.340     \n",
       "gene253   0.156           ExcludedLowESS    11.188     \n",
       "gene260   0.644           ExcludedLowESS     7.025     \n",
       "gene280   0.689           ExcludedLowESS    16.110     \n",
       "gene300   0.556           ExcludedLowESS    48.247     \n",
       "gene319   0.022           ExcludedLowESS     7.290     \n",
       "gene328   0.067           ExcludedLowESS     9.000     \n",
       "gene349   0.289           ExcludedLowESS    10.593     \n",
       "gene350   0.244           ExcludedLowESS     8.219     \n",
       "gene353   0.422           ExcludedLowESS    12.783     \n",
       "gene359   1.000           ExcludedLowESS     8.148     \n",
       "gene362   0.733           ExcludedLowESS    24.081     \n",
       "gene370   0.511           ExcludedLowESS     7.946     \n",
       "gene373   0.911           ExcludedLowESS    10.246     \n",
       "gene378   0.911           ExcludedLowESS    22.006     \n",
       "gene392   0.644           ExcludedLowESS    50.887     \n",
       "gene479   0.511           ExcludedLowESS     8.386     \n",
       "gene494   0.111           ExcludedLowESS     8.387     \n",
       "gene505   0.778           ExcludedLowESS     8.153     \n",
       "gene510   0.067           ExcludedLowESS     9.375     \n",
       "gene512   0.778           ExcludedLowESS    20.428     \n",
       "gene529   0.289           ExcludedLowESS    13.172     \n",
       "gene533   0.467           ExcludedLowESS    11.650     \n",
       "⋮         ⋮               ⋮                 ⋮          \n",
       "gene19141 0.378           ExcludedLowESS      8.020    \n",
       "gene19169 0.867           ExcludedLowESS    118.320    \n",
       "gene19228 0.422           ExcludedLowESS      8.738    \n",
       "gene19242 0.556           ExcludedLowESS      7.010    \n",
       "gene19374 0.289           ExcludedLowESS     44.953    \n",
       "gene19394 0.156           ExcludedLowESS      7.237    \n",
       "gene19396 0.467           ExcludedLowESS     16.849    \n",
       "gene19417 0.200           ExcludedLowESS      9.081    \n",
       "gene19428 0.778           ExcludedLowESS     12.168    \n",
       "gene19462 0.333           ExcludedLowESS     10.812    \n",
       "gene19515 0.378           ExcludedLowESS      7.896    \n",
       "gene19521 0.511           ExcludedLowESS     47.371    \n",
       "gene19525 0.378           ExcludedLowESS      9.489    \n",
       "gene19526 0.244           ExcludedLowESS     16.129    \n",
       "gene19616 0.867           ExcludedLowESS     32.692    \n",
       "gene19630 0.111           ExcludedLowESS     13.705    \n",
       "gene19642 0.422           ExcludedLowESS     55.948    \n",
       "gene19646 0.067           ExcludedLowESS     10.801    \n",
       "gene19673 0.867           ExcludedLowESS      9.969    \n",
       "gene19696 0.511           ExcludedLowESS    134.087    \n",
       "gene19697 0.911           ExcludedLowESS    160.413    \n",
       "gene19698 0.644           ExcludedLowESS    355.263    \n",
       "gene19699 0.156           ExcludedLowESS    649.127    \n",
       "gene19701 0.200           ExcludedLowESS    325.132    \n",
       "gene19702 0.333           ExcludedLowESS    294.162    \n",
       "gene19703 0.911           ExcludedLowESS    285.226    \n",
       "gene19704 0.333           ExcludedLowESS     13.029    \n",
       "gene19705 0.600           ExcludedLowESS    185.252    \n",
       "gene19706 0.733           ExcludedLowESS     82.367    \n",
       "gene19708 0.689           ExcludedLowESS    279.643    "
      ]
     },
     "metadata": {},
     "output_type": "display_data"
    }
   ],
   "source": [
    "(Test@Results$ResDisp)@Table"
   ]
  },
  {
   "cell_type": "code",
   "execution_count": null,
   "id": "7005964e-194d-490a-ad07-8350494a73b3",
   "metadata": {},
   "outputs": [],
   "source": []
  },
  {
   "cell_type": "code",
   "execution_count": null,
   "id": "47caad63-ab25-425d-bca4-39d72695dc73",
   "metadata": {},
   "outputs": [],
   "source": [
    "-------------------------------------------------------------\n",
    "MCMC running time \n",
    "-------------------------------------------------------------\n",
    "user: 352.699\n",
    "system: 13.865\n",
    "elapsed: 37.482"
   ]
  },
  {
   "cell_type": "code",
   "execution_count": null,
   "id": "9aa5ffda-d951-4561-b458-019f50eed50a",
   "metadata": {},
   "outputs": [],
   "source": [
    "-------------------------------------------------------------\n",
    "MCMC running time \n",
    "-------------------------------------------------------------\n",
    "user: 3530.898\n",
    "system: 365.907\n",
    "elapsed: 194.038"
   ]
  },
  {
   "cell_type": "code",
   "execution_count": null,
   "id": "66a48b7a-e019-40f6-a300-94d51eb7ad29",
   "metadata": {},
   "outputs": [],
   "source": []
  },
  {
   "cell_type": "code",
   "execution_count": null,
   "id": "6b0c982a-2f45-419b-856d-00b719436aff",
   "metadata": {},
   "outputs": [],
   "source": []
  },
  {
   "cell_type": "code",
   "execution_count": 6,
   "id": "c0b8e7ea",
   "metadata": {},
   "outputs": [],
   "source": [
    "runBASiCS <- function(seurat, group){\n",
    "    Idents(seurat) <- 'ct_real'\n",
    "    dat <- subset(x = seurat, idents = group)\n",
    "    dat$batch <- sample(1:2, dim(dat)[2], replace=TRUE)\n",
    "    dat.sce <- SingleCellExperiment(\n",
    "        assays=list(counts = GetAssayData(dat)),\n",
    "        colData = data.frame(BatchInfo = dat$batch))\n",
    "    Chain <- BASiCS_MCMC(\n",
    "      dat.sce,\n",
    "      N = 20000, Thin = 20, Burn = 10000, WithSpikes = FALSE, SubsetBy = 'cell',\n",
    "      PrintProgress = TRUE, Regression = TRUE,Threads = getOption(\"Ncpus\", 42),)\n",
    "    return(Chain)\n",
    "}"
   ]
  },
  {
   "cell_type": "code",
   "execution_count": 25,
   "id": "93cfae3a-452e-4808-9d6d-82087907f732",
   "metadata": {},
   "outputs": [
    {
     "data": {
      "text/plain": [
       "An object of class BASiCS_Chain\n",
       " 90 MCMC samples.\n",
       " Dataset contains 986 biological genes and 100 cells (5 batches). \n",
       " Object stored using BASiCS version:  2.12.3 \n",
       " Parameters:  mu delta s nu theta beta sigma2 epsilon RefFreq RBFLocations "
      ]
     },
     "metadata": {},
     "output_type": "display_data"
    }
   ],
   "source": [
    "Chain"
   ]
  },
  {
   "cell_type": "code",
   "execution_count": 16,
   "id": "aab351f9-359a-4ea9-9c39-b0281bb0f57f",
   "metadata": {},
   "outputs": [
    {
     "name": "stderr",
     "output_type": "stream",
     "text": [
      "Registered S3 methods overwritten by 'zellkonverter':\n",
      "  method                                             from      \n",
      "  py_to_r.numpy.ndarray                              reticulate\n",
      "  py_to_r.pandas.core.arrays.categorical.Categorical reticulate\n",
      "\n"
     ]
    }
   ],
   "source": [
    "library(zellkonverter)"
   ]
  },
  {
   "cell_type": "code",
   "execution_count": 22,
   "id": "c6f4a94e-01d8-4e9b-a0f3-c1d472606ba0",
   "metadata": {},
   "outputs": [],
   "source": [
    "df <- read.table('obs.csv', sep=',', header=TRUE)"
   ]
  },
  {
   "cell_type": "code",
   "execution_count": 24,
   "id": "f99f95b1-7611-415a-b84d-070837c92a91",
   "metadata": {},
   "outputs": [
    {
     "data": {
      "text/plain": [
       "An object of class Seurat \n",
       "19719 features across 1000 samples within 1 assay \n",
       "Active assay: RNA (19719 features, 0 variable features)"
      ]
     },
     "metadata": {},
     "output_type": "display_data"
    }
   ],
   "source": [
    "seurat"
   ]
  },
  {
   "cell_type": "code",
   "execution_count": null,
   "id": "c0f191e9",
   "metadata": {},
   "outputs": [
    {
     "name": "stdout",
     "output_type": "stream",
     "text": [
      "[1] \"dv\"\n"
     ]
    },
    {
     "name": "stderr",
     "output_type": "stream",
     "text": [
      "Validating h5Seurat file\n",
      "\n"
     ]
    },
    {
     "name": "stdout",
     "output_type": "stream",
     "text": [
      "[1] 1625 2000\n"
     ]
    },
    {
     "name": "stderr",
     "output_type": "stream",
     "text": [
      "Running no spikes BASiCS sampler (regression case) ... \n",
      "\n",
      "\n"
     ]
    }
   ],
   "source": [
    "f <- 'dv'\n",
    "print(f)\n",
    "\n",
    "infilename = paste(\n",
    "    f,\n",
    "    '_filtered.h5seurat',\n",
    "    sep=''\n",
    ")\n",
    "\n",
    "data_obj <- LoadH5Seurat(infilename, misc=F, verbose = FALSE)\n",
    "print(dim(data_obj))\n",
    "\n",
    "A_chain <- runBASiCS(data_obj, 'A')\n",
    "saveRDS(A_chain, file = paste(f, \"_A_filtered_chain.rds\", sep=\"\"))\n",
    "B_chain <- runBASiCS(data_obj, 'B')\n",
    "saveRDS(B_chain, file = paste(f, \"_B_filtered_chain.rds\", sep=\"\"))\n"
   ]
  },
  {
   "cell_type": "code",
   "execution_count": 45,
   "id": "4e5e5e98",
   "metadata": {},
   "outputs": [
    {
     "name": "stderr",
     "output_type": "stream",
     "text": [
      "-------------------------------------------------------------\n",
      "Log-fold change thresholds are now set in a log2 scale. \n",
      "Original BASiCS release used a natural logarithm scale.\n",
      "\n",
      "-------------------------------------------------------------\n",
      "Offset estimate: 0.9902\n",
      "(ratio A vs B).\n",
      "-------------------------------------------------------------\n",
      "\n",
      "\n",
      "For Differential mean task:\n",
      "the posterior probability threshold chosen via EFDR calibrationis too low. Probability threshold automatically set equal to'ProbThresholdM'.\n",
      "\n",
      "For Differential dispersion task:\n",
      "the posterior probability threshold chosen via EFDR calibrationis too low. Probability threshold automatically set equal to'ProbThresholdD'.\n",
      "\n",
      "EFDR = NULL forDifferential residual dispersion task:\n",
      "Probability threshold automatically set equal to'ProbThresholdR'.\n",
      "\n"
     ]
    }
   ],
   "source": [
    "A_chain <- readRDS(paste('dv', \"_A_filtered_chain.rds\", sep=\"\"))\n",
    "B_chain <- readRDS(paste('dv', \"_B_filtered_chain.rds\", sep=\"\"))\n",
    "\n",
    "Test <- BASiCS_TestDE(\n",
    "  Chain1 = A_chain, Chain2 = B_chain,\n",
    "  GroupLabel1 = \"A\", GroupLabel2 = \"B\",\n",
    "  EpsilonM = 0, EpsilonD =0,\n",
    "  EpsilonR = 0,\n",
    "  EFDR_M = 1, EFDR_D = 1,EFDR_R=NULL, k=1,ProbThresholdR=0,\n",
    "  Offset = TRUE, PlotOffset = TRUE, Plot = TRUE\n",
    ")\n",
    "\n",
    "dv <- as.data.frame(Test, Parameter = \"ResDisp\")"
   ]
  },
  {
   "cell_type": "code",
   "execution_count": 47,
   "id": "2ff702b5",
   "metadata": {},
   "outputs": [],
   "source": [
    "write_csv(dv, file = 'dv_basics.csv')\n"
   ]
  },
  {
   "cell_type": "code",
   "execution_count": null,
   "id": "ef91a828",
   "metadata": {},
   "outputs": [],
   "source": []
  },
  {
   "cell_type": "code",
   "execution_count": null,
   "id": "39d4eb5a",
   "metadata": {},
   "outputs": [],
   "source": []
  },
  {
   "cell_type": "code",
   "execution_count": null,
   "id": "dd69f2ee",
   "metadata": {},
   "outputs": [],
   "source": []
  },
  {
   "cell_type": "code",
   "execution_count": null,
   "id": "a6d1b969",
   "metadata": {},
   "outputs": [],
   "source": []
  },
  {
   "cell_type": "code",
   "execution_count": null,
   "id": "a0111457",
   "metadata": {},
   "outputs": [],
   "source": []
  },
  {
   "cell_type": "code",
   "execution_count": null,
   "id": "f9ccd7d6",
   "metadata": {},
   "outputs": [],
   "source": []
  },
  {
   "cell_type": "markdown",
   "id": "29bfbbf7",
   "metadata": {},
   "source": [
    "### run BASiCS for smFISH comparison"
   ]
  },
  {
   "cell_type": "code",
   "execution_count": 3,
   "id": "ac7ca7f1",
   "metadata": {},
   "outputs": [],
   "source": [
    "setwd('/data_volume/memento/saver/')\n",
    "data_path <- '/data_volume/memento/saver/'"
   ]
  },
  {
   "cell_type": "code",
   "execution_count": 10,
   "id": "d824074c",
   "metadata": {},
   "outputs": [
    {
     "name": "stderr",
     "output_type": "stream",
     "text": [
      "Warning message:\n",
      "“Unknown file type: h5ad”\n",
      "Warning message:\n",
      "“'assay' not set, setting to 'RNA'”\n",
      "Creating h5Seurat file for version 3.1.5.9900\n",
      "\n"
     ]
    }
   ],
   "source": [
    "Convert('dropseq.h5ad', dest = \"h5seurat\", overwrite = TRUE, verbose = FALSE)"
   ]
  },
  {
   "cell_type": "code",
   "execution_count": 12,
   "id": "b734a7fa",
   "metadata": {},
   "outputs": [],
   "source": [
    "runBASiCS_dropseq <- function(seurat, stat){\n",
    "    Idents(seurat) <- 'group'\n",
    "    dat <- seurat\n",
    "    dat$batch <- 1\n",
    "    dat.sce <- SingleCellExperiment(\n",
    "    assays=list(counts = GetAssayData(dat)),\n",
    "    colData = data.frame(BatchInfo = dat$batch))\n",
    "    Chain <- BASiCS_MCMC(\n",
    "      dat.sce,\n",
    "      N = 1000, Thin = 10, Burn = 500, WithSpikes = FALSE, SubsetBy = 'cell',\n",
    "      PrintProgress = FALSE, Regression = TRUE,Threads = getOption(\"Ncpus\", 10),)\n",
    "    df = as.data.frame(displayChainBASiCS(Chain, Param = stat))\n",
    "    return(df)\n",
    "}"
   ]
  },
  {
   "cell_type": "code",
   "execution_count": 10,
   "id": "8e8a9b4a",
   "metadata": {},
   "outputs": [
    {
     "ename": "ERROR",
     "evalue": "Error: Cannot find file dropseq.h5seurat\n",
     "output_type": "error",
     "traceback": [
      "Error: Cannot find file dropseq.h5seurat\nTraceback:\n",
      "1. LoadH5Seurat(\"dropseq.h5seurat\", verbose = FALSE)",
      "2. LoadH5Seurat.character(\"dropseq.h5seurat\", verbose = FALSE)",
      "3. h5Seurat$new(filename = file, mode = \"r\")",
      "4. initialize(...)",
      "5. stop(\"Cannot find file \", filename, call. = FALSE)"
     ]
    }
   ],
   "source": [
    "data_obj <- LoadH5Seurat('dropseq.h5seurat', verbose = FALSE)\n",
    "\n",
    "mu <- runBASiCS_dropseq(data_obj, 'mu')\n",
    "write_csv(mu, file = 'dropseq_BASiCS_mu.csv')\n",
    "\n",
    "delta <- runBASiCS_dropseq(data_obj, 'delta')\n",
    "write_csv(delta, file = 'dropseq_BASiCS_delta.csv')"
   ]
  }
 ],
 "metadata": {
  "kernelspec": {
   "display_name": "R",
   "language": "R",
   "name": "ir"
  },
  "language_info": {
   "codemirror_mode": "r",
   "file_extension": ".r",
   "mimetype": "text/x-r-source",
   "name": "R",
   "pygments_lexer": "r",
   "version": "4.3.1"
  }
 },
 "nbformat": 4,
 "nbformat_minor": 5
}
