{
 "cells": [
  {
   "cell_type": "markdown",
   "id": "1badb948",
   "metadata": {},
   "source": [
    "# Preprocess the dropseq and smFISH data\n",
    "\n",
    "Data: https://drive.google.com/drive/folders/1uos3DDymyrh3ZyxveDhqQIcOyD1brxeL"
   ]
  },
  {
   "cell_type": "code",
   "execution_count": 2,
   "id": "d75b34b3",
   "metadata": {
    "tags": []
   },
   "outputs": [],
   "source": [
    "import pandas as pd\n",
    "import seaborn as sns\n",
    "import scanpy as sc\n",
    "import scipy.sparse as sparse\n",
    "import numpy as np\n",
    "import matplotlib.pyplot as plt\n",
    "import scipy.stats as stats\n",
    "import scipy.optimize as opt\n",
    "import itertools\n",
    "import scanpy as sc"
   ]
  },
  {
   "cell_type": "markdown",
   "id": "778b7587-154b-4076-baf1-edba2a344f18",
   "metadata": {},
   "source": [
    "### Process DropSeq data"
   ]
  },
  {
   "cell_type": "code",
   "execution_count": 3,
   "id": "98264394-6f3d-444b-be93-2c95349ff00f",
   "metadata": {
    "tags": []
   },
   "outputs": [],
   "source": [
    "data_path = '/data_volume/memento/saver/'\n",
    "\n",
    "partial = pd.read_csv('/data_volume/memento/saver/melanoma_dropseq.csv', index_col=0, sep=',').T\n",
    "dropseq = pd.read_csv('GSE99330_dropseqRPM.txt', sep=' ').T.loc[partial.index]/1e6\n",
    "\n",
    "# Reverse calculate cell sizes\n",
    "high_expr = partial.mean(axis=0).sort_values().tail(20).index.tolist()\n",
    "dropseq_sf = (partial[high_expr]/dropseq[high_expr]).mean(axis=1)\n",
    "dropseq = dropseq*dropseq_sf.values.reshape(-1,1)\n",
    "\n",
    "# Create sparse matrix and save\n",
    "X = sparse.csr_matrix(dropseq.values)\n",
    "dropseq_adata = sc.AnnData(X=X, obs=pd.DataFrame(index=dropseq.index), var=pd.DataFrame(index=dropseq.columns))\n",
    "\n",
    "dropseq_adata.write(data_path + 'full_dropseq.h5ad')"
   ]
  },
  {
   "cell_type": "code",
   "execution_count": 5,
   "id": "23e1c0bb-c81e-41f3-9e8f-d2c08b25b0ba",
   "metadata": {},
   "outputs": [],
   "source": []
  },
  {
   "cell_type": "markdown",
   "id": "b6c58023-0d8e-4189-884c-c7519273e46b",
   "metadata": {},
   "source": [
    "### Compute number of overlap genes"
   ]
  },
  {
   "cell_type": "code",
   "execution_count": 4,
   "id": "e69cdbab-a534-424c-8831-1b2d0c127172",
   "metadata": {},
   "outputs": [
    {
     "name": "stdout",
     "output_type": "stream",
     "text": [
      "26\n"
     ]
    }
   ],
   "source": [
    "smfish = pd.read_csv('/data_volume/memento/saver/fishSubset.txt', index_col=0, sep=' ')\n",
    "# smfish = smfish[smfish['GAPDH'] > 0]\n",
    "fish_gapdh_sf = (smfish['GAPDH']+1).values\n",
    "# smfish_normalized = smfish#/fish_gapdh_sf.reshape(-1, 1)\n",
    "# smfish = pd.read_csv('fishSubset (1).txt', sep=' ', index_col=0)\n",
    "\n",
    "overlap_genes = list(set(dropseq.columns) & set(smfish.columns))\n",
    "overlap_genes = dropseq.mean(axis=0)[overlap_genes][dropseq.mean(axis=0)[overlap_genes] > 0].index.tolist()\n",
    "\n",
    "print(len(overlap_genes))\n",
    "\n",
    "# smfish = smfish[overlap_genes].fillna(0.0)"
   ]
  },
  {
   "cell_type": "code",
   "execution_count": null,
   "id": "43c25a79-5dcb-4ef5-8206-ff43b8b30296",
   "metadata": {},
   "outputs": [],
   "source": []
  },
  {
   "cell_type": "code",
   "execution_count": null,
   "id": "f2f7b170-5d4c-473e-b181-4b4fb06760be",
   "metadata": {},
   "outputs": [],
   "source": []
  },
  {
   "cell_type": "code",
   "execution_count": null,
   "id": "bd9aa514-62ce-4d3d-9846-8143f04b9ef8",
   "metadata": {},
   "outputs": [],
   "source": []
  },
  {
   "cell_type": "code",
   "execution_count": null,
   "id": "485eccc5-9b65-4600-9f6d-09416b440cf6",
   "metadata": {},
   "outputs": [],
   "source": []
  },
  {
   "cell_type": "code",
   "execution_count": null,
   "id": "3063af75-6bc4-4246-b1f8-36d4e9ccd2ae",
   "metadata": {},
   "outputs": [],
   "source": []
  },
  {
   "cell_type": "code",
   "execution_count": 34,
   "id": "c2b71cc9-53a1-42f9-b008-5cb9cb7ee11c",
   "metadata": {
    "tags": []
   },
   "outputs": [
    {
     "name": "stderr",
     "output_type": "stream",
     "text": [
      "/home/ubuntu/anaconda3/envs/mementocxg/lib/python3.11/site-packages/numpy/lib/function_base.py:2854: RuntimeWarning: invalid value encountered in divide\n",
      "  c /= stddev[:, None]\n"
     ]
    }
   ],
   "source": [
    "import pandas as pd\n",
    "import scanpy as sc\n",
    "import seaborn as sns\n",
    "import scanpy as sc\n",
    "import scipy.sparse as sparse\n",
    "import numpy as np\n",
    "import matplotlib.pyplot as plt\n",
    "import scipy.stats as stats\n",
    "import scipy.optimize as opt\n",
    "import itertools\n",
    "\n",
    "DATA_PATH = '/home/ubuntu/Data/'\n",
    "MIN_MEAN_THRESH = 0.001\n",
    "\n",
    "if __name__ == '__main__':\n",
    "    \n",
    "#     LEGACY CODE, ONLY FOR REVERSE ENGINEERING N_COUNTS\n",
    "#     data_path = '/data_volume/memento/saver/'\n",
    "\n",
    "#     partial = pd.read_csv('/data_volume/memento/saver/melanoma_dropseq.csv', index_col=0, sep=',').T\n",
    "#     dropseq = pd.read_csv('GSE99330_dropseqRPM.txt', sep=' ').T.loc[partial.index]/1e6\n",
    "\n",
    "#     # Reverse calculate cell sizes\n",
    "#     high_expr = partial.mean(axis=0).sort_values().tail(20).index.tolist()\n",
    "#     dropseq_sf = (partial[high_expr]/dropseq[high_expr]).mean(axis=1)\n",
    "#     dropseq = dropseq*dropseq_sf.values.reshape(-1,1)\n",
    "\n",
    "#     # Create sparse matrix and save\n",
    "#     X = sparse.csr_matrix(dropseq.values)\n",
    "#     dropseq_adata = sc.AnnData(X=X, obs=pd.DataFrame(index=dropseq.index), var=pd.DataFrame(index=dropseq.columns))\n",
    "\n",
    "#     dropseq_adata.write(data_path + 'full_dropseq.h5ad')\n",
    "\n",
    "    # Calculate stuff for Dropseq data\n",
    "    dropseq_adata = sc.read_h5ad(DATA_PATH + 'smfish/full_dropseq.h5ad')\n",
    "    dropseq_adata = dropseq_adata[dropseq_adata.X.sum(axis=1).A1 > 0].copy()\n",
    "\n",
    "    dropseq_adata.obs['n_counts'] = dropseq_adata.X.sum(axis=1).A1\n",
    "    dropseq_adata.obs['n_genes'] = (dropseq_adata.X > 0).sum(axis=1).A1\n",
    "\n",
    "    z_means = dropseq_adata.X.mean(axis=0).A1    \n",
    "    dropseq_genes = dropseq_adata.var.index[z_means > MIN_MEAN_THRESH].tolist()\n",
    "    \n",
    "    dropseq_adata.obs.index = [f'cell{i}' for i in range(dropseq_adata.shape[0])]\n",
    "    dropseq_adata.var.index = [f'gene{i}' for i in range(dropseq_adata.shape[1])]\n",
    "    dropseq_adata.write(DATA_PATH + 'smfish/filtered_dropseq.h5ad')\n",
    "\n",
    "    # Calculate stuff for smFISH\n",
    "    smfish = pd.read_csv(DATA_PATH + 'smfish/fishSubset.txt', index_col=0, sep=' ')\n",
    "    filtered_fish = smfish.query('GAPDH > 0')\n",
    "    overlap_genes = list(set(dropseq_genes) & set(smfish.columns))\n",
    "\n",
    "    mean_genes = overlap_genes\n",
    "    var_genes = [i for i in overlap_genes if i != 'GAPDH']\n",
    "    corr_genes = [(a,b) for a,b in itertools.combinations(overlap_genes, 2) if 'GAPDH' not in [a,b]]\n",
    "\n",
    "    smfish_means = np.zeros(len(mean_genes))\n",
    "    smfish_variances = np.zeros(len(var_genes))\n",
    "    smfish_correlations = np.zeros(len(corr_genes))\n",
    "\n",
    "    for idx, gene in enumerate(mean_genes):\n",
    "        if gene == 'GAPDH':\n",
    "            smfish_means[idx] = 1.0\n",
    "        df = filtered_fish[['GAPDH', gene]].dropna()\n",
    "        norm = df[gene].values/df['GAPDH'].values\n",
    "        smfish_means[idx] = norm.mean()\n",
    "\n",
    "    for idx, gene in enumerate(var_genes):\n",
    "\n",
    "        df = filtered_fish[['GAPDH', gene]].dropna()\n",
    "        norm = df[gene].values/df['GAPDH'].values\n",
    "        smfish_variances[idx] = norm.var()\n",
    "\n",
    "    for idx, pair in enumerate(corr_genes):\n",
    "\n",
    "        gene1, gene2 = pair        \n",
    "        df = filtered_fish[[gene1, gene2, 'GAPDH']].dropna()\n",
    "\n",
    "        if df.shape[0] < 2:\n",
    "            smfish_correlations[idx] = np.nan\n",
    "            continue\n",
    "        norm1 = (df[gene1]/df['GAPDH']).values\n",
    "        norm2 = (df[gene2]/df['GAPDH']).values\n",
    "        smfish_correlations[idx] = stats.pearsonr(norm1, norm2)[0]\n",
    "\n",
    "\n",
    "    np.savez_compressed(\n",
    "        DATA_PATH + 'smfish/smfish_estimates',\n",
    "        mean_genes=np.array(mean_genes),\n",
    "        var_genes=np.array(var_genes),\n",
    "        corr_genes = np.array(corr_genes),\n",
    "        mean=smfish_means,\n",
    "        variance=smfish_variances,\n",
    "        correlation=smfish_correlations)"
   ]
  },
  {
   "cell_type": "code",
   "execution_count": 35,
   "id": "215c97ba-8015-4e77-95ea-7a45cc1390cd",
   "metadata": {
    "tags": []
   },
   "outputs": [
    {
     "data": {
      "text/plain": [
       "21"
      ]
     },
     "execution_count": 35,
     "metadata": {},
     "output_type": "execute_result"
    }
   ],
   "source": [
    "len(overlap_genes)"
   ]
  },
  {
   "cell_type": "code",
   "execution_count": 37,
   "id": "f98df482-c5ba-4840-bf1b-2f10f50c0e8d",
   "metadata": {
    "tags": []
   },
   "outputs": [],
   "source": []
  },
  {
   "cell_type": "code",
   "execution_count": 48,
   "id": "209e44a9-740e-4e64-aa58-fa4979e98a2f",
   "metadata": {
    "tags": []
   },
   "outputs": [],
   "source": []
  },
  {
   "cell_type": "code",
   "execution_count": 53,
   "id": "c2d85136-dd5b-4eed-8389-6234dab35bf9",
   "metadata": {
    "tags": []
   },
   "outputs": [
    {
     "data": {
      "text/html": [
       "<div>\n",
       "<style scoped>\n",
       "    .dataframe tbody tr th:only-of-type {\n",
       "        vertical-align: middle;\n",
       "    }\n",
       "\n",
       "    .dataframe tbody tr th {\n",
       "        vertical-align: top;\n",
       "    }\n",
       "\n",
       "    .dataframe thead th {\n",
       "        text-align: right;\n",
       "    }\n",
       "</style>\n",
       "<table border=\"1\" class=\"dataframe\">\n",
       "  <thead>\n",
       "    <tr style=\"text-align: right;\">\n",
       "      <th></th>\n",
       "      <th>0</th>\n",
       "      <th>1</th>\n",
       "    </tr>\n",
       "  </thead>\n",
       "  <tbody>\n",
       "    <tr>\n",
       "      <th>0</th>\n",
       "      <td>(EGFR, JUN)</td>\n",
       "      <td>0.130705</td>\n",
       "    </tr>\n",
       "    <tr>\n",
       "      <th>1</th>\n",
       "      <td>(EGFR, TXNRD1)</td>\n",
       "      <td>0.202708</td>\n",
       "    </tr>\n",
       "    <tr>\n",
       "      <th>2</th>\n",
       "      <td>(EGFR, FOSL1)</td>\n",
       "      <td>0.680911</td>\n",
       "    </tr>\n",
       "    <tr>\n",
       "      <th>4</th>\n",
       "      <td>(EGFR, NRG1)</td>\n",
       "      <td>0.124664</td>\n",
       "    </tr>\n",
       "    <tr>\n",
       "      <th>5</th>\n",
       "      <td>(EGFR, FGFR1)</td>\n",
       "      <td>0.238469</td>\n",
       "    </tr>\n",
       "    <tr>\n",
       "      <th>...</th>\n",
       "      <td>...</td>\n",
       "      <td>...</td>\n",
       "    </tr>\n",
       "    <tr>\n",
       "      <th>178</th>\n",
       "      <td>(MITF, PDGFC)</td>\n",
       "      <td>0.014529</td>\n",
       "    </tr>\n",
       "    <tr>\n",
       "      <th>183</th>\n",
       "      <td>(LMNA, BABAM1)</td>\n",
       "      <td>0.483998</td>\n",
       "    </tr>\n",
       "    <tr>\n",
       "      <th>184</th>\n",
       "      <td>(CCNA2, WNT5A)</td>\n",
       "      <td>0.228920</td>\n",
       "    </tr>\n",
       "    <tr>\n",
       "      <th>185</th>\n",
       "      <td>(CCNA2, PDGFC)</td>\n",
       "      <td>0.400606</td>\n",
       "    </tr>\n",
       "    <tr>\n",
       "      <th>187</th>\n",
       "      <td>(WNT5A, PDGFC)</td>\n",
       "      <td>0.232481</td>\n",
       "    </tr>\n",
       "  </tbody>\n",
       "</table>\n",
       "<p>88 rows × 2 columns</p>\n",
       "</div>"
      ],
      "text/plain": [
       "                  0         1\n",
       "0       (EGFR, JUN)  0.130705\n",
       "1    (EGFR, TXNRD1)  0.202708\n",
       "2     (EGFR, FOSL1)  0.680911\n",
       "4      (EGFR, NRG1)  0.124664\n",
       "5     (EGFR, FGFR1)  0.238469\n",
       "..              ...       ...\n",
       "178   (MITF, PDGFC)  0.014529\n",
       "183  (LMNA, BABAM1)  0.483998\n",
       "184  (CCNA2, WNT5A)  0.228920\n",
       "185  (CCNA2, PDGFC)  0.400606\n",
       "187  (WNT5A, PDGFC)  0.232481\n",
       "\n",
       "[88 rows x 2 columns]"
      ]
     },
     "execution_count": 53,
     "metadata": {},
     "output_type": "execute_result"
    }
   ],
   "source": [
    "pd.DataFrame(zip(corr_genes, smfish_correlations)).dropna()"
   ]
  },
  {
   "cell_type": "code",
   "execution_count": 45,
   "id": "c116996e-6d3e-4027-8c63-62cf895469f9",
   "metadata": {
    "tags": []
   },
   "outputs": [
    {
     "data": {
      "text/html": [
       "<div>\n",
       "<style scoped>\n",
       "    .dataframe tbody tr th:only-of-type {\n",
       "        vertical-align: middle;\n",
       "    }\n",
       "\n",
       "    .dataframe tbody tr th {\n",
       "        vertical-align: top;\n",
       "    }\n",
       "\n",
       "    .dataframe thead th {\n",
       "        text-align: right;\n",
       "    }\n",
       "</style>\n",
       "<table border=\"1\" class=\"dataframe\">\n",
       "  <thead>\n",
       "    <tr style=\"text-align: right;\">\n",
       "      <th></th>\n",
       "      <th>EGFR</th>\n",
       "      <th>KDM5A</th>\n",
       "      <th>GAPDH</th>\n",
       "    </tr>\n",
       "  </thead>\n",
       "  <tbody>\n",
       "  </tbody>\n",
       "</table>\n",
       "</div>"
      ],
      "text/plain": [
       "Empty DataFrame\n",
       "Columns: [EGFR, KDM5A, GAPDH]\n",
       "Index: []"
      ]
     },
     "execution_count": 45,
     "metadata": {},
     "output_type": "execute_result"
    }
   ],
   "source": [
    "df"
   ]
  },
  {
   "cell_type": "code",
   "execution_count": 43,
   "id": "4020b522-6050-45d7-bee5-6211436a80b7",
   "metadata": {
    "tags": []
   },
   "outputs": [
    {
     "data": {
      "text/plain": [
       "PearsonRResult(statistic=0.1307045161125206, pvalue=1.2813205922984012e-52)"
      ]
     },
     "execution_count": 43,
     "metadata": {},
     "output_type": "execute_result"
    }
   ],
   "source": [
    "stats.pearsonr(norm1, norm2)"
   ]
  },
  {
   "cell_type": "code",
   "execution_count": 31,
   "id": "0320f2e7-6ff6-42a3-ba77-680daf3e0f7e",
   "metadata": {
    "tags": []
   },
   "outputs": [
    {
     "data": {
      "text/plain": [
       "('GAPDH', 'EGFR')"
      ]
     },
     "execution_count": 31,
     "metadata": {},
     "output_type": "execute_result"
    }
   ],
   "source": [
    "pair"
   ]
  },
  {
   "cell_type": "code",
   "execution_count": 29,
   "id": "8411e3e5-1a5a-49a3-948d-e9405ad91528",
   "metadata": {
    "tags": []
   },
   "outputs": [
    {
     "data": {
      "text/plain": [
       "array([0.00000000e+00, 7.31290172e-03, 4.24617774e+00, 1.78020778e-02,\n",
       "       1.20172165e+00, 2.73404700e-03, 2.70068593e-02, 2.17340827e+00,\n",
       "       4.78917560e-02, 4.25429698e+00, 3.93790448e-01, 9.85493079e-05,\n",
       "       1.36325437e-04, 1.55479601e+00, 1.05530039e-01, 1.86032968e-04,\n",
       "       7.13128518e-04])"
      ]
     },
     "execution_count": 29,
     "metadata": {},
     "output_type": "execute_result"
    }
   ],
   "source": [
    "smfish_variances"
   ]
  },
  {
   "cell_type": "code",
   "execution_count": 28,
   "id": "963e3ca9-549a-4f8f-9dbf-3731d7508e5a",
   "metadata": {
    "tags": []
   },
   "outputs": [
    {
     "data": {
      "text/plain": [
       "array([1.00000000e+00, 8.34838178e-03, 3.59547728e-01, 1.92663877e-02,\n",
       "       1.38625197e-01, 3.60623468e-03, 1.89297276e-02, 3.67053443e-01,\n",
       "       4.08173383e-02, 4.91185397e-01, 1.38445272e-01, 1.44681763e-02,\n",
       "       7.03048087e-04, 1.91472430e-01, 4.37495963e-02, 1.32369135e-02,\n",
       "       9.62544798e-03])"
      ]
     },
     "execution_count": 28,
     "metadata": {},
     "output_type": "execute_result"
    }
   ],
   "source": [
    "smfish_means"
   ]
  },
  {
   "cell_type": "code",
   "execution_count": null,
   "id": "93813d73-c6d3-4197-8bf9-53401dcc9dc3",
   "metadata": {},
   "outputs": [],
   "source": []
  },
  {
   "cell_type": "code",
   "execution_count": null,
   "id": "0d0dcb40-2f08-4294-9acc-0d8f21046376",
   "metadata": {},
   "outputs": [],
   "source": []
  },
  {
   "cell_type": "code",
   "execution_count": null,
   "id": "9d968f76-6455-498b-8dd2-5ddb88baedbb",
   "metadata": {},
   "outputs": [],
   "source": []
  },
  {
   "cell_type": "code",
   "execution_count": null,
   "id": "2137fc9d-17f6-4a19-a899-fd8e6fbcaa61",
   "metadata": {},
   "outputs": [],
   "source": []
  },
  {
   "cell_type": "code",
   "execution_count": null,
   "id": "e237409f-8258-4622-a999-c177656d8594",
   "metadata": {},
   "outputs": [],
   "source": []
  },
  {
   "cell_type": "code",
   "execution_count": 22,
   "id": "d4deedb7-237e-4370-84bd-57aa346a85b7",
   "metadata": {
    "tags": []
   },
   "outputs": [
    {
     "data": {
      "text/plain": [
       "0.008348381779742642"
      ]
     },
     "execution_count": 22,
     "metadata": {},
     "output_type": "execute_result"
    }
   ],
   "source": [
    "m"
   ]
  },
  {
   "cell_type": "code",
   "execution_count": 23,
   "id": "35963fe1-1b19-46f1-b720-8675ed63d801",
   "metadata": {
    "tags": []
   },
   "outputs": [
    {
     "data": {
      "text/plain": [
       "0.007312901716916828"
      ]
     },
     "execution_count": 23,
     "metadata": {},
     "output_type": "execute_result"
    }
   ],
   "source": [
    "v"
   ]
  },
  {
   "cell_type": "code",
   "execution_count": 19,
   "id": "47126f29-9d67-46ec-b2c8-7f52203d88c3",
   "metadata": {
    "tags": []
   },
   "outputs": [
    {
     "data": {
      "text/plain": [
       "array([0.        , 0.00414938, 0.        , ..., 0.        , 0.        ,\n",
       "       0.        ])"
      ]
     },
     "execution_count": 19,
     "metadata": {},
     "output_type": "execute_result"
    }
   ],
   "source": [
    "norm"
   ]
  },
  {
   "cell_type": "code",
   "execution_count": 17,
   "id": "27adfc66-7de5-427f-87e2-9e21ad9cd352",
   "metadata": {
    "tags": []
   },
   "outputs": [
    {
     "data": {
      "text/plain": [
       "array([0.        , 0.00414938, 0.        , ..., 0.        , 0.        ,\n",
       "       0.        ])"
      ]
     },
     "execution_count": 17,
     "metadata": {},
     "output_type": "execute_result"
    }
   ],
   "source": [
    "df[gene].values/df['GAPDH'].values"
   ]
  },
  {
   "cell_type": "code",
   "execution_count": 7,
   "id": "91359d58-a11f-4fa0-a0f2-690e339e768c",
   "metadata": {
    "tags": []
   },
   "outputs": [
    {
     "data": {
      "text/plain": [
       "(87885,)"
      ]
     },
     "execution_count": 7,
     "metadata": {},
     "output_type": "execute_result"
    }
   ],
   "source": [
    "filtered_fish['GAPDH'].shape"
   ]
  },
  {
   "cell_type": "code",
   "execution_count": 8,
   "id": "c910ced7-378a-4d0e-8e3c-b6677ca421a8",
   "metadata": {
    "tags": []
   },
   "outputs": [
    {
     "data": {
      "text/plain": [
       "(87885,)"
      ]
     },
     "execution_count": 8,
     "metadata": {},
     "output_type": "execute_result"
    }
   ],
   "source": [
    "filtered_fish['GAPDH'].dropna().shape"
   ]
  },
  {
   "cell_type": "code",
   "execution_count": 9,
   "id": "dcf7776f-d99f-4abd-9ec9-923098e57ba3",
   "metadata": {
    "tags": []
   },
   "outputs": [
    {
     "data": {
      "text/plain": [
       "(88040,)"
      ]
     },
     "execution_count": 9,
     "metadata": {},
     "output_type": "execute_result"
    }
   ],
   "source": [
    "smfish['GAPDH'].shape"
   ]
  },
  {
   "cell_type": "code",
   "execution_count": 10,
   "id": "7cc46155-19c8-4e39-bea7-73c09b56d56a",
   "metadata": {
    "tags": []
   },
   "outputs": [
    {
     "data": {
      "text/plain": [
       "(88040,)"
      ]
     },
     "execution_count": 10,
     "metadata": {},
     "output_type": "execute_result"
    }
   ],
   "source": [
    "smfish['GAPDH'].dropna().shape"
   ]
  },
  {
   "cell_type": "code",
   "execution_count": null,
   "id": "02f63e1e-f6ed-473e-9468-c4894670bbc6",
   "metadata": {},
   "outputs": [],
   "source": []
  }
 ],
 "metadata": {
  "kernelspec": {
   "display_name": "mementocxg",
   "language": "python",
   "name": "myenv"
  },
  "language_info": {
   "codemirror_mode": {
    "name": "ipython",
    "version": 3
   },
   "file_extension": ".py",
   "mimetype": "text/x-python",
   "name": "python",
   "nbconvert_exporter": "python",
   "pygments_lexer": "ipython3",
   "version": "3.11.5"
  }
 },
 "nbformat": 4,
 "nbformat_minor": 5
}
