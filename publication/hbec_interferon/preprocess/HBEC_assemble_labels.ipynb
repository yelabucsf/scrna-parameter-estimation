{
 "cells": [
  {
   "cell_type": "markdown",
   "metadata": {},
   "source": [
    "# Labeling HBECs"
   ]
  },
  {
   "cell_type": "code",
   "execution_count": 1,
   "metadata": {
    "scrolled": true
   },
   "outputs": [],
   "source": [
    "## Initialization"
   ]
  },
  {
   "cell_type": "code",
   "execution_count": 2,
   "metadata": {
    "scrolled": true
   },
   "outputs": [
    {
     "name": "stderr",
     "output_type": "stream",
     "text": [
      "\n",
      "Bad key \"text.kerning_factor\" on line 4 in\n",
      "/data/home/anaconda3/envs/single_cell/lib/python3.7/site-packages/matplotlib/mpl-data/stylelib/_classic_test_patch.mplstyle.\n",
      "You probably need to get an updated matplotlibrc file from\n",
      "https://github.com/matplotlib/matplotlib/blob/v3.1.3/matplotlibrc.template\n",
      "or from the matplotlib source distribution\n"
     ]
    }
   ],
   "source": [
    "import numpy as np\n",
    "import pandas as pd\n",
    "import scanpy as sc\n",
    "from nero import Harmonia\n",
    "import matplotlib.pyplot as plt\n",
    "sc.settings.verbosity = 3             # verbosity: errors (0), warnings (1), info (2), hints (3)\n",
    "# sc.logging.print_versions()\n",
    "#results_file = './write/h1n1pbmc_final.h5ad'  # the file that will store the analysis results"
   ]
  },
  {
   "cell_type": "code",
   "execution_count": 3,
   "metadata": {},
   "outputs": [],
   "source": [
    "from scipy.sparse import csr_matrix"
   ]
  },
  {
   "cell_type": "code",
   "execution_count": 4,
   "metadata": {
    "scrolled": true
   },
   "outputs": [],
   "source": [
    "sc.settings.set_figure_params(dpi=80)"
   ]
  },
  {
   "cell_type": "code",
   "execution_count": 5,
   "metadata": {
    "scrolled": true
   },
   "outputs": [
    {
     "name": "stdout",
     "output_type": "stream",
     "text": [
      "reading /data_volume/ifn_hbec/preprocess/filtered_feature_bc_matrix.h5\n"
     ]
    },
    {
     "name": "stderr",
     "output_type": "stream",
     "text": [
      "Variable names are not unique. To make them unique, call `.var_names_make_unique`.\n"
     ]
    },
    {
     "name": "stdout",
     "output_type": "stream",
     "text": [
      " (0:00:17)\n"
     ]
    }
   ],
   "source": [
    "adata = sc.read_10x_h5(\n",
    "    '/data_volume/ifn_hbec/preprocess/filtered_feature_bc_matrix.h5', gex_only=False)                                # write a cache file for faster subsequent reading"
   ]
  },
  {
   "cell_type": "code",
   "execution_count": 6,
   "metadata": {
    "scrolled": true
   },
   "outputs": [],
   "source": [
    "adata.var_names_make_unique()  # this is unnecessary if using 'gene_ids'"
   ]
  },
  {
   "cell_type": "code",
   "execution_count": 7,
   "metadata": {},
   "outputs": [
    {
     "data": {
      "text/plain": [
       "(127203, 0)"
      ]
     },
     "execution_count": 7,
     "metadata": {},
     "output_type": "execute_result"
    }
   ],
   "source": [
    "adata.obs.shape"
   ]
  },
  {
   "cell_type": "code",
   "execution_count": 8,
   "metadata": {},
   "outputs": [],
   "source": [
    "#add genetic demux information"
   ]
  },
  {
   "cell_type": "code",
   "execution_count": 9,
   "metadata": {
    "scrolled": true
   },
   "outputs": [],
   "source": [
    "donors = dict()"
   ]
  },
  {
   "cell_type": "code",
   "execution_count": 13,
   "metadata": {},
   "outputs": [
    {
     "data": {
      "text/html": [
       "<div>\n",
       "<style scoped>\n",
       "    .dataframe tbody tr th:only-of-type {\n",
       "        vertical-align: middle;\n",
       "    }\n",
       "\n",
       "    .dataframe tbody tr th {\n",
       "        vertical-align: top;\n",
       "    }\n",
       "\n",
       "    .dataframe thead th {\n",
       "        text-align: right;\n",
       "    }\n",
       "</style>\n",
       "<table border=\"1\" class=\"dataframe\">\n",
       "  <thead>\n",
       "    <tr style=\"text-align: right;\">\n",
       "      <th></th>\n",
       "    </tr>\n",
       "  </thead>\n",
       "  <tbody>\n",
       "    <tr>\n",
       "      <th>AAACCCAAGACATAAC-1</th>\n",
       "    </tr>\n",
       "    <tr>\n",
       "      <th>AAACCCAAGGAAGTAG-1</th>\n",
       "    </tr>\n",
       "    <tr>\n",
       "      <th>AAACCCAAGGGACTGT-1</th>\n",
       "    </tr>\n",
       "    <tr>\n",
       "      <th>AAACCCACAAACTAAG-1</th>\n",
       "    </tr>\n",
       "    <tr>\n",
       "      <th>AAACCCACAATCTGCA-1</th>\n",
       "    </tr>\n",
       "    <tr>\n",
       "      <th>...</th>\n",
       "    </tr>\n",
       "    <tr>\n",
       "      <th>TTTGTTGTCAAGCTTG-4</th>\n",
       "    </tr>\n",
       "    <tr>\n",
       "      <th>TTTGTTGTCCAAGCTA-4</th>\n",
       "    </tr>\n",
       "    <tr>\n",
       "      <th>TTTGTTGTCCGGTAAT-4</th>\n",
       "    </tr>\n",
       "    <tr>\n",
       "      <th>TTTGTTGTCGGACCAC-4</th>\n",
       "    </tr>\n",
       "    <tr>\n",
       "      <th>TTTGTTGTCTCTCCGA-4</th>\n",
       "    </tr>\n",
       "  </tbody>\n",
       "</table>\n",
       "<p>127203 rows × 0 columns</p>\n",
       "</div>"
      ],
      "text/plain": [
       "Empty DataFrame\n",
       "Columns: []\n",
       "Index: [AAACCCAAGACATAAC-1, AAACCCAAGGAAGTAG-1, AAACCCAAGGGACTGT-1, AAACCCACAAACTAAG-1, AAACCCACAATCTGCA-1, AAACCCACACGTTCGG-1, AAACCCACAGAACTAA-1, AAACCCACAGACCTGC-1, AAACCCACAGATGCGA-1, AAACCCACAGATTCGT-1, AAACCCACAGCCATTA-1, AAACCCACAGTATTCG-1, AAACCCACATGAGGGT-1, AAACCCAGTAAGGCTG-1, AAACCCAGTACCATAC-1, AAACCCAGTCTTACTT-1, AAACCCAGTCTTCGAA-1, AAACCCAGTGGCTTAT-1, AAACCCAGTTCCTTGC-1, AAACCCAGTTGGGATG-1, AAACCCATCAGATTGC-1, AAACCCATCCAAGGGA-1, AAACCCATCCACGGAC-1, AAACCCATCCCAGGCA-1, AAACCCATCCGCGAGT-1, AAACCCATCTACAGGT-1, AAACCCATCTCCGTGT-1, AAACCCATCTGGACTA-1, AAACCCATCTGGCCTT-1, AAACGAAAGATGTAGT-1, AAACGAAAGCTCGCAC-1, AAACGAAAGGGATCGT-1, AAACGAAAGGGCTGAT-1, AAACGAAAGTCTACCA-1, AAACGAAAGTTGGAAT-1, AAACGAACAAAGCACG-1, AAACGAACAACGTATC-1, AAACGAACAATGTCTG-1, AAACGAACACACGCCA-1, AAACGAACACTATGTG-1, AAACGAACAGACCATT-1, AAACGAACAGCAGTTT-1, AAACGAACAGGCATGA-1, AAACGAACAGGGAGAG-1, AAACGAAGTACACGTT-1, AAACGAAGTATACCCA-1, AAACGAAGTATCGCAT-1, AAACGAAGTCCAGCCA-1, AAACGAAGTGTCCCTT-1, AAACGAAGTGTCTCCT-1, AAACGAAGTTCTCCAC-1, AAACGAAGTTGCTAGT-1, AAACGAATCAAATGAG-1, AAACGAATCACTCGAA-1, AAACGAATCAGCGTCG-1, AAACGAATCATGACAC-1, AAACGAATCATGGATC-1, AAACGAATCATTCGGA-1, AAACGAATCCGATAAC-1, AAACGAATCCGATGTA-1, AAACGAATCCGCTGTT-1, AAACGAATCGTTATCT-1, AAACGAATCTAACGCA-1, AAACGAATCTACCCAC-1, AAACGAATCTAGGCAT-1, AAACGAATCTCGAGTA-1, AAACGAATCTCGTGAA-1, AAACGAATCTGCTGAA-1, AAACGAATCTGGTTGA-1, AAACGCTAGAATCCCT-1, AAACGCTAGCACTTTG-1, AAACGCTAGCCAAGTG-1, AAACGCTAGCCGAACA-1, AAACGCTAGCCTGTGC-1, AAACGCTAGCGCTGAA-1, AAACGCTAGGATCACG-1, AAACGCTAGGTTGGTG-1, AAACGCTAGTCAGAGC-1, AAACGCTAGTGAATAC-1, AAACGCTAGTTCTACG-1, AAACGCTCAAAGTATG-1, AAACGCTCACAAGTTC-1, AAACGCTCACACCGCA-1, AAACGCTCACGCTATA-1, AAACGCTCAGGCTATT-1, AAACGCTCAGGCTTGC-1, AAACGCTCATCCGTTC-1, AAACGCTCATCTATCT-1, AAACGCTCATGCCGCA-1, AAACGCTCATTACGGT-1, AAACGCTCATTACTCT-1, AAACGCTGTAATGTGA-1, AAACGCTGTACCGTCG-1, AAACGCTGTCAACACT-1, AAACGCTGTCTAACGT-1, AAACGCTGTCTAATCG-1, AAACGCTGTCTCTCCA-1, AAACGCTGTGACTGAG-1, AAACGCTGTGAGACGT-1, AAACGCTGTGCCGTTG-1, ...]\n",
       "\n",
       "[127203 rows x 0 columns]"
      ]
     },
     "execution_count": 13,
     "metadata": {},
     "output_type": "execute_result"
    }
   ],
   "source": [
    "adata.obs"
   ]
  },
  {
   "cell_type": "code",
   "execution_count": 10,
   "metadata": {
    "scrolled": true
   },
   "outputs": [],
   "source": [
    "donors['1_1'] = Harmonia.MuxOut('/data_volume/ifn_hbec/preprocess/1_1_donor_ids.tsv')\n",
    "\n",
    "donors['1_2'] = Harmonia.MuxOut('/data_volume/ifn_hbec/preprocess/1_2_donor_ids.tsv')\n",
    "\n",
    "donors['2_1'] = Harmonia.MuxOut('/data_volume/ifn_hbec/preprocess/2_1_donor_ids.tsv')\n",
    "\n",
    "donors['2_2'] = Harmonia.MuxOut('/data_volume/ifn_hbec/preprocess/2_2_donor_ids.tsv')"
   ]
  },
  {
   "cell_type": "code",
   "execution_count": 11,
   "metadata": {
    "scrolled": true
   },
   "outputs": [],
   "source": [
    "adata = Harmonia.ann_merge(adata,donors['1_1']).concatenate(Harmonia.ann_merge(adata,donors['1_2']),\n",
    "                                                            Harmonia.ann_merge(adata,donors['2_1']),\n",
    "                                                            Harmonia.ann_merge(adata,donors['2_2']),index_unique=None).copy()"
   ]
  },
  {
   "cell_type": "code",
   "execution_count": 12,
   "metadata": {},
   "outputs": [
    {
     "data": {
      "text/plain": [
       "(127203, 36741)"
      ]
     },
     "execution_count": 12,
     "metadata": {},
     "output_type": "execute_result"
    }
   ],
   "source": [
    "adata.shape"
   ]
  },
  {
   "cell_type": "code",
   "execution_count": 13,
   "metadata": {},
   "outputs": [],
   "source": [
    "#add hashtag demux information"
   ]
  },
  {
   "cell_type": "code",
   "execution_count": 14,
   "metadata": {},
   "outputs": [],
   "source": [
    "HTO_classification = pd.read_csv('/data_volume/ifn_hbec/preprocess/HBEC_HTO_assignments.csv', sep=' ')['x']"
   ]
  },
  {
   "cell_type": "code",
   "execution_count": 15,
   "metadata": {},
   "outputs": [],
   "source": [
    "adata.obs['HTO_classification'] = HTO_classification"
   ]
  },
  {
   "cell_type": "code",
   "execution_count": 16,
   "metadata": {},
   "outputs": [
    {
     "data": {
      "text/plain": [
       "(127203, 36741)"
      ]
     },
     "execution_count": 16,
     "metadata": {},
     "output_type": "execute_result"
    }
   ],
   "source": [
    "adata.shape"
   ]
  },
  {
   "cell_type": "code",
   "execution_count": 17,
   "metadata": {},
   "outputs": [
    {
     "data": {
      "text/html": [
       "<div>\n",
       "<style scoped>\n",
       "    .dataframe tbody tr th:only-of-type {\n",
       "        vertical-align: middle;\n",
       "    }\n",
       "\n",
       "    .dataframe tbody tr th {\n",
       "        vertical-align: top;\n",
       "    }\n",
       "\n",
       "    .dataframe thead th {\n",
       "        text-align: right;\n",
       "    }\n",
       "</style>\n",
       "<table border=\"1\" class=\"dataframe\">\n",
       "  <thead>\n",
       "    <tr style=\"text-align: right;\">\n",
       "      <th></th>\n",
       "      <th>NUM.SNPS</th>\n",
       "      <th>BEST.GUESS</th>\n",
       "      <th>DROPLET.TYPE</th>\n",
       "      <th>batch</th>\n",
       "      <th>HTO_classification</th>\n",
       "    </tr>\n",
       "  </thead>\n",
       "  <tbody>\n",
       "    <tr>\n",
       "      <th>AAACCCAAGACATAAC-1</th>\n",
       "      <td>1550</td>\n",
       "      <td>donor0</td>\n",
       "      <td>SNG</td>\n",
       "      <td>0</td>\n",
       "      <td>Negative</td>\n",
       "    </tr>\n",
       "    <tr>\n",
       "      <th>AAACCCAAGGAAGTAG-1</th>\n",
       "      <td>1700</td>\n",
       "      <td>donor0</td>\n",
       "      <td>SNG</td>\n",
       "      <td>0</td>\n",
       "      <td>hash-10</td>\n",
       "    </tr>\n",
       "    <tr>\n",
       "      <th>AAACCCAAGGGACTGT-1</th>\n",
       "      <td>839</td>\n",
       "      <td>donor0</td>\n",
       "      <td>SNG</td>\n",
       "      <td>0</td>\n",
       "      <td>hash-3</td>\n",
       "    </tr>\n",
       "    <tr>\n",
       "      <th>AAACCCACAAACTAAG-1</th>\n",
       "      <td>1547</td>\n",
       "      <td>donor0</td>\n",
       "      <td>SNG</td>\n",
       "      <td>0</td>\n",
       "      <td>Negative</td>\n",
       "    </tr>\n",
       "    <tr>\n",
       "      <th>AAACCCACAATCTGCA-1</th>\n",
       "      <td>1130</td>\n",
       "      <td>donor1</td>\n",
       "      <td>SNG</td>\n",
       "      <td>0</td>\n",
       "      <td>hash-1</td>\n",
       "    </tr>\n",
       "  </tbody>\n",
       "</table>\n",
       "</div>"
      ],
      "text/plain": [
       "                    NUM.SNPS BEST.GUESS DROPLET.TYPE batch HTO_classification\n",
       "AAACCCAAGACATAAC-1      1550     donor0          SNG     0           Negative\n",
       "AAACCCAAGGAAGTAG-1      1700     donor0          SNG     0            hash-10\n",
       "AAACCCAAGGGACTGT-1       839     donor0          SNG     0             hash-3\n",
       "AAACCCACAAACTAAG-1      1547     donor0          SNG     0           Negative\n",
       "AAACCCACAATCTGCA-1      1130     donor1          SNG     0             hash-1"
      ]
     },
     "execution_count": 17,
     "metadata": {},
     "output_type": "execute_result"
    }
   ],
   "source": [
    "adata.obs.head(5)"
   ]
  },
  {
   "cell_type": "code",
   "execution_count": 18,
   "metadata": {},
   "outputs": [
    {
     "data": {
      "text/plain": [
       "1    35731\n",
       "0    35455\n",
       "3    28507\n",
       "2    27510\n",
       "Name: batch, dtype: int64"
      ]
     },
     "execution_count": 18,
     "metadata": {},
     "output_type": "execute_result"
    }
   ],
   "source": [
    "adata.obs.batch.value_counts()"
   ]
  },
  {
   "cell_type": "code",
   "execution_count": 19,
   "metadata": {},
   "outputs": [],
   "source": [
    "pd.set_option('display.max_rows', None)"
   ]
  },
  {
   "cell_type": "code",
   "execution_count": 20,
   "metadata": {},
   "outputs": [
    {
     "data": {
      "text/plain": [
       "1    35731\n",
       "0    35455\n",
       "3    28507\n",
       "2    27510\n",
       "Name: batch, dtype: int64"
      ]
     },
     "execution_count": 20,
     "metadata": {},
     "output_type": "execute_result"
    }
   ],
   "source": [
    "adata.obs['batch'].value_counts()"
   ]
  },
  {
   "cell_type": "code",
   "execution_count": 22,
   "metadata": {},
   "outputs": [
    {
     "data": {
      "text/plain": [
       "donor0           54940\n",
       "donor1           52954\n",
       "donor0,donor1    16543\n",
       "unassigned        2766\n",
       "Name: BEST.GUESS, dtype: int64"
      ]
     },
     "execution_count": 22,
     "metadata": {},
     "output_type": "execute_result"
    }
   ],
   "source": [
    "adata.obs['BEST.GUESS'].value_counts()"
   ]
  },
  {
   "cell_type": "code",
   "execution_count": 50,
   "metadata": {},
   "outputs": [
    {
     "data": {
      "text/plain": [
       "View of AnnData object with n_obs × n_vars = 1967 × 36741\n",
       "    obs: 'NUM.SNPS', 'BEST.GUESS', 'DROPLET.TYPE', 'batch', 'HTO_classification', 'condition'\n",
       "    var: 'gene_ids', 'feature_types', 'genome'"
      ]
     },
     "execution_count": 50,
     "metadata": {},
     "output_type": "execute_result"
    }
   ],
   "source": [
    "adata[((adata.obs['batch'] == '0') | (adata.obs['batch'] == '1')) & (adata.obs['HTO_classification'] == 'hash-11')&(adata.obs['BEST.GUESS']=='donor0')]\n",
    "\n"
   ]
  },
  {
   "cell_type": "code",
   "execution_count": 52,
   "metadata": {},
   "outputs": [
    {
     "data": {
      "text/plain": [
       "View of AnnData object with n_obs × n_vars = 1989 × 36741\n",
       "    obs: 'NUM.SNPS', 'BEST.GUESS', 'DROPLET.TYPE', 'batch', 'HTO_classification', 'condition'\n",
       "    var: 'gene_ids', 'feature_types', 'genome'"
      ]
     },
     "execution_count": 52,
     "metadata": {},
     "output_type": "execute_result"
    }
   ],
   "source": [
    "adata[((adata.obs['batch'] == '2') | (adata.obs['batch'] == '3')) & (adata.obs['HTO_classification'] == 'hash-11')&(adata.obs['BEST.GUESS']=='ada')]\n",
    "\n",
    "\n"
   ]
  },
  {
   "cell_type": "code",
   "execution_count": 29,
   "metadata": {},
   "outputs": [],
   "source": [
    "donor0 = 2513\n",
    "donor1 = 2614\n"
   ]
  },
  {
   "cell_type": "code",
   "execution_count": 30,
   "metadata": {},
   "outputs": [],
   "source": [
    "adata.obs['condition']= 'unassigned'"
   ]
  },
  {
   "cell_type": "code",
   "execution_count": 53,
   "metadata": {},
   "outputs": [],
   "source": [
    "# get subset of cells for each condition.\n",
    "d2614_control = list(adata[((adata.obs['batch'] == '2') | (adata.obs['batch'] == '3')) & (adata.obs['HTO_classification'] == 'hash-1')&(adata.obs['BEST.GUESS']=='donor1')].obs.index)\n",
    "d2614_alpha_3 = list(adata[((adata.obs['batch'] == '0') | (adata.obs['batch'] == '1')) & (adata.obs['HTO_classification'] == 'hash-1')&(adata.obs['BEST.GUESS']=='donor1')].obs.index)\n",
    "d2614_alpha_6 = list(adata[((adata.obs['batch'] == '2') | (adata.obs['batch'] == '3')) & (adata.obs['HTO_classification'] == 'hash-2')&(adata.obs['BEST.GUESS']=='donor1')].obs.index)\n",
    "d2614_alpha_9 = list(adata[((adata.obs['batch'] == '0') | (adata.obs['batch'] == '1')) & (adata.obs['HTO_classification'] == 'hash-2')&(adata.obs['BEST.GUESS']=='donor1')].obs.index)\n",
    "d2614_alpha_24 = list(adata[((adata.obs['batch'] == '2') | (adata.obs['batch'] == '3')) & (adata.obs['HTO_classification'] == 'hash-3')&(adata.obs['BEST.GUESS']=='donor1')].obs.index)\n",
    "d2614_alpha_48 = list(adata[((adata.obs['batch'] == '0') | (adata.obs['batch'] == '1')) & (adata.obs['HTO_classification'] == 'hash-3')&(adata.obs['BEST.GUESS']=='donor1')].obs.index)"
   ]
  },
  {
   "cell_type": "code",
   "execution_count": 54,
   "metadata": {},
   "outputs": [],
   "source": [
    "d2614_beta_3 = list(adata[((adata.obs['batch'] == '2') | (adata.obs['batch'] == '3')) & (adata.obs['HTO_classification'] == 'hash-4')&(adata.obs['BEST.GUESS']=='donor1')].obs.index)\n",
    "d2614_beta_6 = list(adata[((adata.obs['batch'] == '0') | (adata.obs['batch'] == '1')) & (adata.obs['HTO_classification'] == 'hash-4')&(adata.obs['BEST.GUESS']=='donor1')].obs.index)\n",
    "d2614_beta_9 = list(adata[((adata.obs['batch'] == '2') | (adata.obs['batch'] == '3')) & (adata.obs['HTO_classification'] == 'hash-5')&(adata.obs['BEST.GUESS']=='donor1')].obs.index)\n",
    "d2614_beta_24 = list(adata[((adata.obs['batch'] == '0') | (adata.obs['batch'] == '1')) & (adata.obs['HTO_classification'] == 'hash-5')&(adata.obs['BEST.GUESS']=='donor1')].obs.index)\n",
    "d2614_beta_48 = list(adata[((adata.obs['batch'] == '2') | (adata.obs['batch'] == '3')) & (adata.obs['HTO_classification'] == 'hash-6')&(adata.obs['BEST.GUESS']=='donor1')].obs.index)"
   ]
  },
  {
   "cell_type": "code",
   "execution_count": 55,
   "metadata": {},
   "outputs": [],
   "source": [
    "d2614_gamma_3 = list(adata[((adata.obs['batch'] == '0') | (adata.obs['batch'] == '1')) & (adata.obs['HTO_classification'] == 'hash-6')&(adata.obs['BEST.GUESS']=='donor1')].obs.index)\n",
    "d2614_gamma_6 = list(adata[((adata.obs['batch'] == '2') | (adata.obs['batch'] == '3')) & (adata.obs['HTO_classification'] == 'hash-7')&(adata.obs['BEST.GUESS']=='donor1')].obs.index)\n",
    "d2614_gamma_9 = list(adata[((adata.obs['batch'] == '0') | (adata.obs['batch'] == '1')) & (adata.obs['HTO_classification'] == 'hash-7')&(adata.obs['BEST.GUESS']=='donor1')].obs.index)\n",
    "d2614_gamma_24 = list(adata[((adata.obs['batch'] == '2') | (adata.obs['batch'] == '3')) & (adata.obs['HTO_classification'] == 'hash-8')&(adata.obs['BEST.GUESS']=='donor1')].obs.index)\n",
    "d2614_gamma_48 = list(adata[((adata.obs['batch'] == '0') | (adata.obs['batch'] == '1')) & (adata.obs['HTO_classification'] == 'hash-8')&(adata.obs['BEST.GUESS']=='donor1')].obs.index)"
   ]
  },
  {
   "cell_type": "code",
   "execution_count": 56,
   "metadata": {},
   "outputs": [],
   "source": [
    "d2614_lambda_3 = list(adata[((adata.obs['batch'] == '2') | (adata.obs['batch'] == '3')) & (adata.obs['HTO_classification'] == 'hash-9')&(adata.obs['BEST.GUESS']=='donor1')].obs.index)\n",
    "d2614_lambda_6 = list(adata[((adata.obs['batch'] == '0') | (adata.obs['batch'] == '1')) & (adata.obs['HTO_classification'] == 'hash-9')&(adata.obs['BEST.GUESS']=='donor1')].obs.index)\n",
    "d2614_lambda_9 = list(adata[((adata.obs['batch'] == '2') | (adata.obs['batch'] == '3')) & (adata.obs['HTO_classification'] == 'hash-10')&(adata.obs['BEST.GUESS']=='donor1')].obs.index)\n",
    "d2614_lambda_24 = list(adata[((adata.obs['batch'] == '0') | (adata.obs['batch'] == '1')) & (adata.obs['HTO_classification'] == 'hash-10')&(adata.obs['BEST.GUESS']=='donor1')].obs.index)\n",
    "d2614_lambda_48 = list(adata[((adata.obs['batch'] == '2') | (adata.obs['batch'] == '3')) & (adata.obs['HTO_classification'] == 'hash-11')&(adata.obs['BEST.GUESS']=='donor1')].obs.index)"
   ]
  },
  {
   "cell_type": "code",
   "execution_count": 57,
   "metadata": {},
   "outputs": [],
   "source": [
    "d2513_control = list(adata[((adata.obs['batch'] == '0') | (adata.obs['batch'] == '1')) & (adata.obs['HTO_classification'] == 'hash-1')&(adata.obs['BEST.GUESS']=='donor0')].obs.index)\n",
    "d2513_alpha_3 = list(adata[((adata.obs['batch'] == '2') | (adata.obs['batch'] == '3')) & (adata.obs['HTO_classification'] == 'hash-1')&(adata.obs['BEST.GUESS']=='donor0')].obs.index)\n",
    "d2513_alpha_6 = list(adata[((adata.obs['batch'] == '0') | (adata.obs['batch'] == '1')) & (adata.obs['HTO_classification'] == 'hash-2')&(adata.obs['BEST.GUESS']=='donor0')].obs.index)\n",
    "d2513_alpha_9 = list(adata[((adata.obs['batch'] == '2') | (adata.obs['batch'] == '3')) & (adata.obs['HTO_classification'] == 'hash-2')&(adata.obs['BEST.GUESS']=='donor0')].obs.index)\n",
    "d2513_alpha_24 = list(adata[((adata.obs['batch'] == '0') | (adata.obs['batch'] == '1')) & (adata.obs['HTO_classification'] == 'hash-3')&(adata.obs['BEST.GUESS']=='donor0')].obs.index)\n",
    "d2513_alpha_48 = list(adata[((adata.obs['batch'] == '2') | (adata.obs['batch'] == '3')) & (adata.obs['HTO_classification'] == 'hash-3')&(adata.obs['BEST.GUESS']=='donor0')].obs.index)"
   ]
  },
  {
   "cell_type": "code",
   "execution_count": 58,
   "metadata": {},
   "outputs": [],
   "source": [
    "d2513_beta_3 = list(adata[((adata.obs['batch'] == '0') | (adata.obs['batch'] == '1')) & (adata.obs['HTO_classification'] == 'hash-4')&(adata.obs['BEST.GUESS']=='donor0')].obs.index)\n",
    "d2513_beta_6 = list(adata[((adata.obs['batch'] == '2') | (adata.obs['batch'] == '3')) & (adata.obs['HTO_classification'] == 'hash-4')&(adata.obs['BEST.GUESS']=='donor0')].obs.index)\n",
    "d2513_beta_9 = list(adata[((adata.obs['batch'] == '0') | (adata.obs['batch'] == '1')) & (adata.obs['HTO_classification'] == 'hash-5')&(adata.obs['BEST.GUESS']=='donor0')].obs.index)\n",
    "d2513_beta_24 = list(adata[((adata.obs['batch'] == '2') | (adata.obs['batch'] == '3')) & (adata.obs['HTO_classification'] == 'hash-5')&(adata.obs['BEST.GUESS']=='donor0')].obs.index)\n",
    "d2513_beta_48 = list(adata[((adata.obs['batch'] == '0') | (adata.obs['batch'] == '1')) & (adata.obs['HTO_classification'] == 'hash-6')&(adata.obs['BEST.GUESS']=='donor0')].obs.index)\n"
   ]
  },
  {
   "cell_type": "code",
   "execution_count": 59,
   "metadata": {},
   "outputs": [],
   "source": [
    "d2513_gamma_3 = list(adata[((adata.obs['batch'] == '2') | (adata.obs['batch'] == '3')) & (adata.obs['HTO_classification'] == 'hash-6')&(adata.obs['BEST.GUESS']=='donor0')].obs.index)\n",
    "d2513_gamma_6 = list(adata[((adata.obs['batch'] == '0') | (adata.obs['batch'] == '1')) & (adata.obs['HTO_classification'] == 'hash-7')&(adata.obs['BEST.GUESS']=='donor0')].obs.index)\n",
    "d2513_gamma_9 = list(adata[((adata.obs['batch'] == '2') | (adata.obs['batch'] == '3')) & (adata.obs['HTO_classification'] == 'hash-7')&(adata.obs['BEST.GUESS']=='donor0')].obs.index)\n",
    "d2513_gamma_24 = list(adata[((adata.obs['batch'] == '0') | (adata.obs['batch'] == '1')) & (adata.obs['HTO_classification'] == 'hash-8')&(adata.obs['BEST.GUESS']=='donor0')].obs.index)\n",
    "d2513_gamma_48 = list(adata[((adata.obs['batch'] == '2') | (adata.obs['batch'] == '3')) & (adata.obs['HTO_classification'] == 'hash-8')&(adata.obs['BEST.GUESS']=='donor0')].obs.index)\n"
   ]
  },
  {
   "cell_type": "code",
   "execution_count": 60,
   "metadata": {},
   "outputs": [],
   "source": [
    "d2513_lambda_3 = list(adata[((adata.obs['batch'] == '0') | (adata.obs['batch'] == '1')) & (adata.obs['HTO_classification'] == 'hash-9')&(adata.obs['BEST.GUESS']=='donor0')].obs.index)\n",
    "d2513_lambda_6 = list(adata[((adata.obs['batch'] == '2') | (adata.obs['batch'] == '3')) & (adata.obs['HTO_classification'] == 'hash-9')&(adata.obs['BEST.GUESS']=='donor0')].obs.index)\n",
    "d2513_lambda_9 = list(adata[((adata.obs['batch'] == '0') | (adata.obs['batch'] == '1')) & (adata.obs['HTO_classification'] == 'hash-10')&(adata.obs['BEST.GUESS']=='donor0')].obs.index)\n",
    "d2513_lambda_24 = list(adata[((adata.obs['batch'] == '2') | (adata.obs['batch'] == '3')) & (adata.obs['HTO_classification'] == 'hash-10')&(adata.obs['BEST.GUESS']=='donor0')].obs.index)\n",
    "d2513_lambda_48 = list(adata[((adata.obs['batch'] == '0') | (adata.obs['batch'] == '1')) & (adata.obs['HTO_classification'] == 'hash-11')&(adata.obs['BEST.GUESS']=='donor0')].obs.index)\n",
    "\n"
   ]
  },
  {
   "cell_type": "code",
   "execution_count": 61,
   "metadata": {},
   "outputs": [],
   "source": [
    "#assign subset to condition\n",
    "adata.obs.loc[adata.obs.index.isin(d2614_control), \"condition\"]  = 'd2614_control'\n",
    "adata.obs.loc[adata.obs.index.isin(d2614_alpha_3), \"condition\"]  = 'd2614_alpha_3'\n",
    "adata.obs.loc[adata.obs.index.isin(d2614_alpha_6), \"condition\"]  = 'd2614_alpha_6'\n",
    "adata.obs.loc[adata.obs.index.isin(d2614_alpha_9), \"condition\"]  = 'd2614_alpha_9'\n",
    "adata.obs.loc[adata.obs.index.isin(d2614_alpha_24), \"condition\"]  = 'd2614_alpha_24'\n",
    "adata.obs.loc[adata.obs.index.isin(d2614_alpha_48), \"condition\"]  = 'd2614_alpha_48'"
   ]
  },
  {
   "cell_type": "code",
   "execution_count": 62,
   "metadata": {},
   "outputs": [],
   "source": [
    "adata.obs.loc[adata.obs.index.isin(d2614_beta_3), \"condition\"]  = 'd2614_beta_3'\n",
    "adata.obs.loc[adata.obs.index.isin(d2614_beta_6), \"condition\"]  = 'd2614_beta_6'\n",
    "adata.obs.loc[adata.obs.index.isin(d2614_beta_9), \"condition\"]  = 'd2614_beta_9'\n",
    "adata.obs.loc[adata.obs.index.isin(d2614_beta_24), \"condition\"]  = 'd2614_beta_24'\n",
    "adata.obs.loc[adata.obs.index.isin(d2614_beta_48), \"condition\"]  = 'd2614_beta_48'"
   ]
  },
  {
   "cell_type": "code",
   "execution_count": 63,
   "metadata": {},
   "outputs": [],
   "source": [
    "adata.obs.loc[adata.obs.index.isin(d2614_gamma_3), \"condition\"]  = 'd2614_gamma_3'\n",
    "adata.obs.loc[adata.obs.index.isin(d2614_gamma_6), \"condition\"]  = 'd2614_gamma_6'\n",
    "adata.obs.loc[adata.obs.index.isin(d2614_gamma_9), \"condition\"]  = 'd2614_gamma_9'\n",
    "adata.obs.loc[adata.obs.index.isin(d2614_gamma_24), \"condition\"]  = 'd2614_gamma_24'\n",
    "adata.obs.loc[adata.obs.index.isin(d2614_gamma_48), \"condition\"]  = 'd2614_gamma_48'"
   ]
  },
  {
   "cell_type": "code",
   "execution_count": 64,
   "metadata": {},
   "outputs": [],
   "source": [
    "adata.obs.loc[adata.obs.index.isin(d2614_lambda_3), \"condition\"]  = 'd2614_lambda_3'\n",
    "adata.obs.loc[adata.obs.index.isin(d2614_lambda_6), \"condition\"]  = 'd2614_lambda_6'\n",
    "adata.obs.loc[adata.obs.index.isin(d2614_lambda_9), \"condition\"]  = 'd2614_lambda_9'\n",
    "adata.obs.loc[adata.obs.index.isin(d2614_lambda_24), \"condition\"]  = 'd2614_lambda_24'\n",
    "adata.obs.loc[adata.obs.index.isin(d2614_lambda_48), \"condition\"]  = 'd2614_lambda_48'"
   ]
  },
  {
   "cell_type": "code",
   "execution_count": 65,
   "metadata": {},
   "outputs": [],
   "source": [
    "#assign subset to condition\n",
    "adata.obs.loc[adata.obs.index.isin(d2513_control), \"condition\"]  = 'd2513_control'\n",
    "adata.obs.loc[adata.obs.index.isin(d2513_alpha_3), \"condition\"]  = 'd2513_alpha_3'\n",
    "adata.obs.loc[adata.obs.index.isin(d2513_alpha_6), \"condition\"]  = 'd2513_alpha_6'\n",
    "adata.obs.loc[adata.obs.index.isin(d2513_alpha_9), \"condition\"]  = 'd2513_alpha_9'\n",
    "adata.obs.loc[adata.obs.index.isin(d2513_alpha_24), \"condition\"]  = 'd2513_alpha_24'\n",
    "adata.obs.loc[adata.obs.index.isin(d2513_alpha_48), \"condition\"]  = 'd2513_alpha_48'"
   ]
  },
  {
   "cell_type": "code",
   "execution_count": 66,
   "metadata": {},
   "outputs": [],
   "source": [
    "adata.obs.loc[adata.obs.index.isin(d2513_beta_3), \"condition\"]  = 'd2513_beta_3'\n",
    "adata.obs.loc[adata.obs.index.isin(d2513_beta_6), \"condition\"]  = 'd2513_beta_6'\n",
    "adata.obs.loc[adata.obs.index.isin(d2513_beta_9), \"condition\"]  = 'd2513_beta_9'\n",
    "adata.obs.loc[adata.obs.index.isin(d2513_beta_24), \"condition\"]  = 'd2513_beta_24'\n",
    "adata.obs.loc[adata.obs.index.isin(d2513_beta_48), \"condition\"]  = 'd2513_beta_48'"
   ]
  },
  {
   "cell_type": "code",
   "execution_count": 67,
   "metadata": {},
   "outputs": [],
   "source": [
    "adata.obs.loc[adata.obs.index.isin(d2513_gamma_3), \"condition\"]  = 'd2513_gamma_3'\n",
    "adata.obs.loc[adata.obs.index.isin(d2513_gamma_6), \"condition\"]  = 'd2513_gamma_6'\n",
    "adata.obs.loc[adata.obs.index.isin(d2513_gamma_9), \"condition\"]  = 'd2513_gamma_9'\n",
    "adata.obs.loc[adata.obs.index.isin(d2513_gamma_24), \"condition\"]  = 'd2513_gamma_24'\n",
    "adata.obs.loc[adata.obs.index.isin(d2513_gamma_48), \"condition\"]  = 'd2513_gamma_48'"
   ]
  },
  {
   "cell_type": "code",
   "execution_count": 68,
   "metadata": {},
   "outputs": [],
   "source": [
    "adata.obs.loc[adata.obs.index.isin(d2513_lambda_3), \"condition\"]  = 'd2513_lambda_3'\n",
    "adata.obs.loc[adata.obs.index.isin(d2513_lambda_6), \"condition\"]  = 'd2513_lambda_6'\n",
    "adata.obs.loc[adata.obs.index.isin(d2513_lambda_9), \"condition\"]  = 'd2513_lambda_9'\n",
    "adata.obs.loc[adata.obs.index.isin(d2513_lambda_24), \"condition\"]  = 'd2513_lambda_24'\n",
    "adata.obs.loc[adata.obs.index.isin(d2513_lambda_48), \"condition\"]  = 'd2513_lambda_48'"
   ]
  },
  {
   "cell_type": "code",
   "execution_count": 74,
   "metadata": {},
   "outputs": [
    {
     "data": {
      "text/plain": [
       "(80654, 6)"
      ]
     },
     "execution_count": 74,
     "metadata": {},
     "output_type": "execute_result"
    }
   ],
   "source": [
    "adata.obs.query('condition != \"unassigned\"').shape"
   ]
  },
  {
   "cell_type": "code",
   "execution_count": 77,
   "metadata": {},
   "outputs": [
    {
     "name": "stderr",
     "output_type": "stream",
     "text": [
      "... storing 'BEST.GUESS' as categorical\n",
      "... storing 'DROPLET.TYPE' as categorical\n",
      "... storing 'HTO_classification' as categorical\n",
      "... storing 'condition' as categorical\n",
      "... storing 'feature_types' as categorical\n",
      "... storing 'genome' as categorical\n"
     ]
    }
   ],
   "source": [
    "adata.write(\"/data_volume/ifn_hbec/HBEC_condition_assigned_deep.h5ad\")"
   ]
  }
 ],
 "metadata": {
  "anaconda-cloud": {},
  "kernelspec": {
   "display_name": "Python 3",
   "language": "python",
   "name": "python3"
  },
  "language_info": {
   "codemirror_mode": {
    "name": "ipython",
    "version": 3
   },
   "file_extension": ".py",
   "mimetype": "text/x-python",
   "name": "python",
   "nbconvert_exporter": "python",
   "pygments_lexer": "ipython3",
   "version": "3.7.5"
  }
 },
 "nbformat": 4,
 "nbformat_minor": 4
}
