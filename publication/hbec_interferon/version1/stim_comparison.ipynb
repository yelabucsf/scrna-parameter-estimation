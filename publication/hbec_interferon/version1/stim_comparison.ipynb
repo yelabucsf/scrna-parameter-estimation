{
 "cells": [
  {
   "cell_type": "markdown",
   "metadata": {},
   "source": [
    "# Variability analysis for HBEC IFN experiment"
   ]
  },
  {
   "cell_type": "code",
   "execution_count": 1,
   "metadata": {},
   "outputs": [],
   "source": [
    "import scanpy as sc\n",
    "import seaborn as sns\n",
    "import pandas as pd\n",
    "import matplotlib.pyplot as plt\n",
    "import numpy as np\n",
    "import scipy.stats as stats\n",
    "from pybedtools import BedTool\n",
    "import pickle as pkl\n",
    "%matplotlib inline\n",
    "import itertools"
   ]
  },
  {
   "cell_type": "code",
   "execution_count": 2,
   "metadata": {},
   "outputs": [],
   "source": [
    "import sys\n",
    "sys.path.append('/home/ssm-user/Github/scrna-parameter-estimation/dist/memento-0.0.5-py3.8.egg')\n",
    "sys.path.append('/home/ssm-user/Github/misc-seq/miscseq/')\n",
    "import encode\n",
    "import memento"
   ]
  },
  {
   "cell_type": "code",
   "execution_count": 10,
   "metadata": {},
   "outputs": [],
   "source": [
    "data_path = '/data_volume/memento/hbec/'\n",
    "fig_path = '/data/home/Github/scrna-parameter-estimation/figures/fig6/'"
   ]
  },
  {
   "cell_type": "code",
   "execution_count": 11,
   "metadata": {},
   "outputs": [],
   "source": [
    "import matplotlib\n",
    "matplotlib.rcParams['pdf.fonttype'] = 42\n",
    "matplotlib.rcParams['ps.fonttype'] = 42"
   ]
  },
  {
   "cell_type": "code",
   "execution_count": 12,
   "metadata": {},
   "outputs": [],
   "source": [
    "import matplotlib.pylab as pylab\n",
    "params = {'legend.fontsize': 'medium',\n",
    "         'axes.labelsize': 'medium',\n",
    "         'axes.titlesize':'medium',\n",
    "         'figure.titlesize':'medium',\n",
    "         'xtick.labelsize':'small',\n",
    "         'ytick.labelsize':'small'}\n",
    "pylab.rcParams.update(params)"
   ]
  },
  {
   "cell_type": "markdown",
   "metadata": {},
   "source": [
    "### Get canonical TFs"
   ]
  },
  {
   "cell_type": "code",
   "execution_count": 13,
   "metadata": {},
   "outputs": [],
   "source": [
    "tf_df = pd.read_csv('DatabaseExtract_v_1.01.csv', index_col=0)\n",
    "tf_df = tf_df[tf_df['TF assessment'] == 'Known motif']\n",
    "tfs = tf_df['HGNC symbol'].tolist()"
   ]
  },
  {
   "cell_type": "markdown",
   "metadata": {},
   "source": [
    "### Read the processed RNA data\n",
    "\n",
    "Focus on the club and bc/club cells and type I interferons for now.\n",
    "\n",
    "Encode the timestamps to integers."
   ]
  },
  {
   "cell_type": "code",
   "execution_count": 14,
   "metadata": {},
   "outputs": [],
   "source": [
    "# adata_processed = sc.read(data_path + 'HBEC_type_I_processed_deep.h5ad')"
   ]
  },
  {
   "cell_type": "code",
   "execution_count": 15,
   "metadata": {},
   "outputs": [],
   "source": [
    "adata = sc.read(data_path + 'HBEC_type_I_filtered_counts_deep.h5ad')"
   ]
  },
  {
   "cell_type": "code",
   "execution_count": 16,
   "metadata": {},
   "outputs": [
    {
     "name": "stderr",
     "output_type": "stream",
     "text": [
      "/home/ssm-user/anaconda3/envs/single_cell/lib/python3.8/site-packages/pandas/core/arrays/categorical.py:2487: FutureWarning: The `inplace` parameter in pandas.Categorical.remove_unused_categories is deprecated and will be removed in a future version.\n",
      "  res = method(*args, **kwargs)\n"
     ]
    }
   ],
   "source": [
    "adata = adata[:, ~adata.var.index.str.startswith('MT-')].copy()\n",
    "adata.obs['cell_type'] = adata.obs['cell_type'].apply(lambda x: x if x != 'basal/club' else 'bc')\n",
    "adata.obs['cell_type'] = adata.obs['cell_type'].apply(lambda x: x if x != 'ionocyte/tuft' else 'ion-tuft')"
   ]
  },
  {
   "cell_type": "raw",
   "metadata": {},
   "source": [
    "sc.pl.umap(adata_processed, color=['cell_type', 'time', 'stim'])"
   ]
  },
  {
   "cell_type": "code",
   "execution_count": 17,
   "metadata": {},
   "outputs": [
    {
     "data": {
      "text/plain": [
       "(69958, 36588)"
      ]
     },
     "execution_count": 17,
     "metadata": {},
     "output_type": "execute_result"
    }
   ],
   "source": [
    "adata.shape"
   ]
  },
  {
   "cell_type": "markdown",
   "metadata": {},
   "source": [
    "### Read 1d HT result comparing to control"
   ]
  },
  {
   "cell_type": "code",
   "execution_count": 18,
   "metadata": {},
   "outputs": [],
   "source": [
    "cts = [['ciliated'], ['bc', 'basal']]\n",
    "tps = ['3', '6', '9', '24', '48']\n",
    "stims = ['alpha', 'beta', 'gamma', 'lambda']"
   ]
  },
  {
   "cell_type": "code",
   "execution_count": 23,
   "metadata": {},
   "outputs": [],
   "source": [
    "def read_result(ct):\n",
    "    \n",
    "    ht_dict = {}\n",
    "    moments_dict = {}\n",
    "    \n",
    "    for stim in stims:\n",
    "        ht_dict[stim] = {}\n",
    "        moments_dict[stim] = {}\n",
    "        for tp in tps: \n",
    "            adata_subset = sc.read(data_path + 'binary_test_deep/{}_{}_{}.h5ad'.format('-'.join(ct), stim, tp))\n",
    "            ht_dict[stim][tp] = memento.get_1d_ht_result(adata_subset)\n",
    "            ht_dict[stim][tp]['de_fdr'] = memento.util._fdrcorrect(ht_dict[stim][tp]['de_pval'])\n",
    "            ht_dict[stim][tp]['dv_fdr'] = memento.util._fdrcorrect(ht_dict[stim][tp]['dv_pval'])\n",
    "            moments_dict[stim][tp] = memento.get_1d_moments(adata_subset, groupby='time_step')\n",
    "    return ht_dict,moments_dict"
   ]
  },
  {
   "cell_type": "code",
   "execution_count": 24,
   "metadata": {},
   "outputs": [],
   "source": [
    "all_result = {}\n",
    "for ct in cts:\n",
    "    \n",
    "    key = '-'.join(ct)\n",
    "    all_result[key] = {}\n",
    "    \n",
    "    all_result[key]['ht'], all_result[key]['moments'] = read_result(ct)"
   ]
  },
  {
   "cell_type": "code",
   "execution_count": 14,
   "metadata": {},
   "outputs": [],
   "source": [
    "dv_genes = set()\n",
    "de_genes = set()\n",
    "all_genes = set()\n",
    "for ct in cts:\n",
    "    \n",
    "    key = '-'.join(ct)    \n",
    "    df = all_result[key]['ht']\n",
    "    \n",
    "    for stim in stims:\n",
    "        for tp in tps:\n",
    "            all_genes |= set(all_result[key]['ht'][stim][tp].gene.tolist())\n",
    "            de_genes |= set(all_result[key]['ht'][stim][tp].query('de_fdr < 0.05').gene.tolist())\n",
    "            dv_genes |= set(all_result[key]['ht'][stim][tp].query('dv_fdr < 0.1').gene.tolist())"
   ]
  },
  {
   "cell_type": "code",
   "execution_count": 25,
   "metadata": {},
   "outputs": [
    {
     "data": {
      "text/html": [
       "<div>\n",
       "<style scoped>\n",
       "    .dataframe tbody tr th:only-of-type {\n",
       "        vertical-align: middle;\n",
       "    }\n",
       "\n",
       "    .dataframe tbody tr th {\n",
       "        vertical-align: top;\n",
       "    }\n",
       "\n",
       "    .dataframe thead th {\n",
       "        text-align: right;\n",
       "    }\n",
       "</style>\n",
       "<table border=\"1\" class=\"dataframe\">\n",
       "  <thead>\n",
       "    <tr style=\"text-align: right;\">\n",
       "      <th></th>\n",
       "      <th>gene</th>\n",
       "      <th>de_coef</th>\n",
       "      <th>de_se</th>\n",
       "      <th>de_pval</th>\n",
       "      <th>dv_coef</th>\n",
       "      <th>dv_se</th>\n",
       "      <th>dv_pval</th>\n",
       "      <th>de_fdr</th>\n",
       "      <th>dv_fdr</th>\n",
       "    </tr>\n",
       "  </thead>\n",
       "  <tbody>\n",
       "    <tr>\n",
       "      <th>0</th>\n",
       "      <td>LINC01409</td>\n",
       "      <td>0.269090</td>\n",
       "      <td>0.135810</td>\n",
       "      <td>0.047495</td>\n",
       "      <td>0.619429</td>\n",
       "      <td>0.737656</td>\n",
       "      <td>3.365663e-01</td>\n",
       "      <td>0.089426</td>\n",
       "      <td>7.018107e-01</td>\n",
       "    </tr>\n",
       "    <tr>\n",
       "      <th>1</th>\n",
       "      <td>NOC2L</td>\n",
       "      <td>0.069103</td>\n",
       "      <td>0.091108</td>\n",
       "      <td>0.448055</td>\n",
       "      <td>-0.156447</td>\n",
       "      <td>0.744702</td>\n",
       "      <td>8.022198e-01</td>\n",
       "      <td>0.556792</td>\n",
       "      <td>9.368110e-01</td>\n",
       "    </tr>\n",
       "    <tr>\n",
       "      <th>2</th>\n",
       "      <td>HES4</td>\n",
       "      <td>0.618335</td>\n",
       "      <td>0.050295</td>\n",
       "      <td>0.000008</td>\n",
       "      <td>0.036485</td>\n",
       "      <td>0.148947</td>\n",
       "      <td>8.047195e-01</td>\n",
       "      <td>0.000055</td>\n",
       "      <td>9.375526e-01</td>\n",
       "    </tr>\n",
       "    <tr>\n",
       "      <th>3</th>\n",
       "      <td>ISG15</td>\n",
       "      <td>2.725120</td>\n",
       "      <td>0.072049</td>\n",
       "      <td>0.000001</td>\n",
       "      <td>-2.478389</td>\n",
       "      <td>0.170019</td>\n",
       "      <td>3.137984e-35</td>\n",
       "      <td>0.000009</td>\n",
       "      <td>3.025644e-31</td>\n",
       "    </tr>\n",
       "    <tr>\n",
       "      <th>4</th>\n",
       "      <td>AGRN</td>\n",
       "      <td>0.897875</td>\n",
       "      <td>0.070454</td>\n",
       "      <td>0.000005</td>\n",
       "      <td>-0.099188</td>\n",
       "      <td>0.332871</td>\n",
       "      <td>7.491251e-01</td>\n",
       "      <td>0.000037</td>\n",
       "      <td>9.155868e-01</td>\n",
       "    </tr>\n",
       "  </tbody>\n",
       "</table>\n",
       "</div>"
      ],
      "text/plain": [
       "        gene   de_coef     de_se   de_pval   dv_coef     dv_se       dv_pval  \\\n",
       "0  LINC01409  0.269090  0.135810  0.047495  0.619429  0.737656  3.365663e-01   \n",
       "1      NOC2L  0.069103  0.091108  0.448055 -0.156447  0.744702  8.022198e-01   \n",
       "2       HES4  0.618335  0.050295  0.000008  0.036485  0.148947  8.047195e-01   \n",
       "3      ISG15  2.725120  0.072049  0.000001 -2.478389  0.170019  3.137984e-35   \n",
       "4       AGRN  0.897875  0.070454  0.000005 -0.099188  0.332871  7.491251e-01   \n",
       "\n",
       "     de_fdr        dv_fdr  \n",
       "0  0.089426  7.018107e-01  \n",
       "1  0.556792  9.368110e-01  \n",
       "2  0.000055  9.375526e-01  \n",
       "3  0.000009  3.025644e-31  \n",
       "4  0.000037  9.155868e-01  "
      ]
     },
     "execution_count": 25,
     "metadata": {},
     "output_type": "execute_result"
    }
   ],
   "source": [
    "all_result['ciliated']['ht']['beta']['3'].head(5)"
   ]
  },
  {
   "cell_type": "markdown",
   "metadata": {},
   "source": [
    "###"
   ]
  },
  {
   "cell_type": "markdown",
   "metadata": {},
   "source": [
    "### Export type-1,2,3 ISGs"
   ]
  },
  {
   "cell_type": "code",
   "execution_count": 35,
   "metadata": {},
   "outputs": [],
   "source": [
    "def export_result(df):\n",
    "    to_export = df[['gene', 'de_coef', 'de_pval', 'de_fdr']].rename(columns={'de_coef':'log_fc', 'de_pval':'pval', 'de_fdr':'fdr'})\n",
    "    return to_export"
   ]
  },
  {
   "cell_type": "code",
   "execution_count": 39,
   "metadata": {},
   "outputs": [],
   "source": [
    "for stim in stims:\n",
    "    \n",
    "    export_result(all_result['ciliated']['ht'][stim]['3'].query('de_fdr < 0.01 & de_coef > 0')).to_csv('/data_volume/memento/hbec/isg_classes/{}_ISGs.csv'.format(stim), index=False)"
   ]
  },
  {
   "cell_type": "code",
   "execution_count": 36,
   "metadata": {},
   "outputs": [],
   "source": [
    "beta_export = export_result(all_result['ciliated']['ht']['beta']['3'].query('de_fdr < 0.01 & de_coef > 0'))\n",
    "alpha_export = export_result(all_result['ciliated']['ht']['alpha']['3'].query('de_fdr < 0.01 & de_coef > 0'))\n",
    "beta_export = export_result(all_result['ciliated']['ht']['beta']['3'].query('de_fdr < 0.01 & de_coef > 0'))"
   ]
  },
  {
   "cell_type": "markdown",
   "metadata": {},
   "source": [
    "### Get type-1, 2, 3 ISGs based on upregulation"
   ]
  },
  {
   "cell_type": "code",
   "execution_count": 59,
   "metadata": {},
   "outputs": [],
   "source": [
    "upreg_beta = set(all_result['ciliated']['ht']['beta']['3'].query('de_fdr < 0.05 & de_coef > 0').gene.tolist())\n",
    "upreg_alpha = set(all_result['ciliated']['ht']['alpha']['3'].query('de_fdr < 0.05 & de_coef > 0').gene.tolist())\n",
    "upreg_gamma = set(all_result['ciliated']['ht']['gamma']['3'].query('de_fdr < 0.05 & de_coef > 0').gene.tolist())\n",
    "upreg_lambda = set(all_result['ciliated']['ht']['lambda']['3'].query('de_fdr < 0.05 & de_coef > 0').gene.tolist())"
   ]
  },
  {
   "cell_type": "code",
   "execution_count": 60,
   "metadata": {},
   "outputs": [],
   "source": [
    "type1_isg = list((upreg_beta & upreg_alpha))\n",
    "type2_isg = list(upreg_gamma - (upreg_beta | upreg_alpha))"
   ]
  },
  {
   "cell_type": "markdown",
   "metadata": {},
   "source": [
    "### Get genes that are likely ISGF3 binding"
   ]
  },
  {
   "cell_type": "code",
   "execution_count": 36,
   "metadata": {},
   "outputs": [],
   "source": [
    "enc = encode.Encode('/data/home/Github/misc-seq/miscseq/GRCh38Genes.bed')"
   ]
  },
  {
   "cell_type": "code",
   "execution_count": 37,
   "metadata": {},
   "outputs": [],
   "source": [
    "stat1_bed = enc.get_encode_peaks_union([\n",
    "    'https://www.encodeproject.org/files/ENCFF747ICD/@@download/ENCFF747ICD.bed.gz',\n",
    "    'https://www.encodeproject.org/files/ENCFF646MXG/@@download/ENCFF646MXG.bed.gz'\n",
    "])\n",
    "stat2_bed = enc.get_encode_peaks_union([\n",
    "    'https://www.encodeproject.org/files/ENCFF204VQS/@@download/ENCFF204VQS.bed.gz',\n",
    "    'https://www.encodeproject.org/files/ENCFF545JVD/@@download/ENCFF545JVD.bed.gz'\n",
    "])"
   ]
  },
  {
   "cell_type": "code",
   "execution_count": 38,
   "metadata": {},
   "outputs": [],
   "source": [
    "intersect_bed = stat1_bed.intersect(stat2_bed).sort()"
   ]
  },
  {
   "cell_type": "code",
   "execution_count": 39,
   "metadata": {},
   "outputs": [
    {
     "name": "stderr",
     "output_type": "stream",
     "text": [
      "/data/home/anaconda3/envs/single_cell/lib/python3.7/site-packages/pybedtools/bedtool.py:3681: UserWarning: Default names for filetype bed are:\n",
      "['chrom', 'start', 'end', 'name', 'score', 'strand', 'thickStart', 'thickEnd', 'itemRgb', 'blockCount', 'blockSizes', 'blockStarts']\n",
      "but file has 16 fields; you can supply custom names with the `names` kwarg\n",
      "  \"`names` kwarg\" % (self.file_type, _names, self.field_count())\n"
     ]
    }
   ],
   "source": [
    "isgf3_genes = enc.get_peak_genes_bed(intersect_bed, 0).query('distance == 0 & ~gene.str.contains(\"MT\").values').gene.tolist()"
   ]
  },
  {
   "cell_type": "markdown",
   "metadata": {},
   "source": [
    "### Get genes that are likely GAF binding"
   ]
  },
  {
   "cell_type": "code",
   "execution_count": 118,
   "metadata": {},
   "outputs": [],
   "source": [
    "stat1_bed = enc.get_encode_peaks_union([\n",
    "    'https://www.encodeproject.org/files/ENCFF431NLF/@@download/ENCFF431NLF.bed.gz',\n",
    "    'https://www.encodeproject.org/files/ENCFF646MXG/@@download/ENCFF646MXG.bed.gz'\n",
    "])"
   ]
  },
  {
   "cell_type": "code",
   "execution_count": 119,
   "metadata": {},
   "outputs": [
    {
     "name": "stderr",
     "output_type": "stream",
     "text": [
      "/data/home/anaconda3/envs/single_cell/lib/python3.7/site-packages/pybedtools/bedtool.py:3681: UserWarning: Default names for filetype bed are:\n",
      "['chrom', 'start', 'end', 'name', 'score', 'strand', 'thickStart', 'thickEnd', 'itemRgb', 'blockCount', 'blockSizes', 'blockStarts']\n",
      "but file has 16 fields; you can supply custom names with the `names` kwarg\n",
      "  \"`names` kwarg\" % (self.file_type, _names, self.field_count())\n"
     ]
    }
   ],
   "source": [
    "potential_gaf_genes = enc\\\n",
    "    .get_peak_genes_encode('https://www.encodeproject.org/files/ENCFF431NLF/@@download/ENCFF431NLF.bed.gz', 0)\\\n",
    "    .query('distance == 0 & ~gene.str.contains(\"MT\").values').gene.tolist()"
   ]
  },
  {
   "cell_type": "code",
   "execution_count": 120,
   "metadata": {},
   "outputs": [
    {
     "name": "stderr",
     "output_type": "stream",
     "text": [
      "/data/home/anaconda3/envs/single_cell/lib/python3.7/site-packages/pybedtools/bedtool.py:3681: UserWarning: Default names for filetype bed are:\n",
      "['chrom', 'start', 'end', 'name', 'score', 'strand', 'thickStart', 'thickEnd', 'itemRgb', 'blockCount', 'blockSizes', 'blockStarts']\n",
      "but file has 16 fields; you can supply custom names with the `names` kwarg\n",
      "  \"`names` kwarg\" % (self.file_type, _names, self.field_count())\n"
     ]
    }
   ],
   "source": [
    "baseline_stat1_genes = enc\\\n",
    "    .get_peak_genes_encode('https://www.encodeproject.org/files/ENCFF323QQU/@@download/ENCFF323QQU.bed.gz', 0)\\\n",
    "    .query('distance == 0 & ~gene.str.contains(\"MT\").values').gene.tolist()"
   ]
  },
  {
   "cell_type": "code",
   "execution_count": 121,
   "metadata": {},
   "outputs": [],
   "source": [
    "gaf_genes =potential_gaf_genes #list(set(potential_gaf_genes) - set(baseline_stat1_genes))"
   ]
  },
  {
   "cell_type": "markdown",
   "metadata": {},
   "source": [
    "### Gene sets with just moments"
   ]
  },
  {
   "cell_type": "code",
   "execution_count": 17,
   "metadata": {},
   "outputs": [],
   "source": [
    "mean_long = []\n",
    "var_long = []\n",
    "\n",
    "mean, var = all_result['ciliated']['moments']['beta']['3']\n",
    "mean = mean.rename(columns={'time_step_0':'time_0', 'time_step_1':'time_3'})\n",
    "var = var.rename(columns={'time_step_0':'time_0', 'time_step_1':'time_3'})\n",
    "\n",
    "for tp in ['6', '9', '24', '48']:\n",
    "    m,v = all_result['ciliated']['moments']['beta'][tp]\n",
    "    ml = m.copy()\n",
    "    vl = v.copy()\n",
    "    ml['time'] = tp\n",
    "    vl['time'] = tp\n",
    "    ml = m[['gene', 'time_step_1']].rename(columns={'time_step_1':'mean'})\n",
    "    vl = v[['gene', 'time_step_1']].rename(columns={'time_step_1':'var'})\n",
    "    m = m[['gene', 'time_step_1']].rename(columns={'time_step_1':'time_'+tp})\n",
    "    v = v[['gene', 'time_step_1']].rename(columns={'time_step_1':'time_'+tp})\n",
    "        \n",
    "#     mean_long.append()\n",
    "    mean = mean.merge(m, on='gene')\n",
    "    var = var.merge(v, on='gene')"
   ]
  },
  {
   "cell_type": "code",
   "execution_count": 18,
   "metadata": {},
   "outputs": [
    {
     "data": {
      "text/html": [
       "<div>\n",
       "<style scoped>\n",
       "    .dataframe tbody tr th:only-of-type {\n",
       "        vertical-align: middle;\n",
       "    }\n",
       "\n",
       "    .dataframe tbody tr th {\n",
       "        vertical-align: top;\n",
       "    }\n",
       "\n",
       "    .dataframe thead th {\n",
       "        text-align: right;\n",
       "    }\n",
       "</style>\n",
       "<table border=\"1\" class=\"dataframe\">\n",
       "  <thead>\n",
       "    <tr style=\"text-align: right;\">\n",
       "      <th></th>\n",
       "      <th>gene</th>\n",
       "      <th>time_3</th>\n",
       "      <th>time_0</th>\n",
       "      <th>time_6</th>\n",
       "      <th>time_9</th>\n",
       "      <th>time_24</th>\n",
       "      <th>time_48</th>\n",
       "    </tr>\n",
       "  </thead>\n",
       "  <tbody>\n",
       "    <tr>\n",
       "      <th>0</th>\n",
       "      <td>HES4</td>\n",
       "      <td>1.145554</td>\n",
       "      <td>0.790288</td>\n",
       "      <td>1.375800</td>\n",
       "      <td>1.196331</td>\n",
       "      <td>1.171301</td>\n",
       "      <td>1.073169</td>\n",
       "    </tr>\n",
       "    <tr>\n",
       "      <th>1</th>\n",
       "      <td>ISG15</td>\n",
       "      <td>3.390804</td>\n",
       "      <td>1.825076</td>\n",
       "      <td>3.631711</td>\n",
       "      <td>3.039966</td>\n",
       "      <td>2.991579</td>\n",
       "      <td>2.809182</td>\n",
       "    </tr>\n",
       "    <tr>\n",
       "      <th>2</th>\n",
       "      <td>AGRN</td>\n",
       "      <td>-0.175982</td>\n",
       "      <td>-0.691860</td>\n",
       "      <td>-0.136874</td>\n",
       "      <td>-0.456595</td>\n",
       "      <td>-0.460011</td>\n",
       "      <td>-0.514530</td>\n",
       "    </tr>\n",
       "    <tr>\n",
       "      <th>3</th>\n",
       "      <td>C1orf159</td>\n",
       "      <td>-2.021068</td>\n",
       "      <td>-2.363995</td>\n",
       "      <td>-2.072172</td>\n",
       "      <td>-2.213524</td>\n",
       "      <td>-2.250352</td>\n",
       "      <td>-2.206127</td>\n",
       "    </tr>\n",
       "    <tr>\n",
       "      <th>4</th>\n",
       "      <td>AL390719.2</td>\n",
       "      <td>-0.592809</td>\n",
       "      <td>-0.972980</td>\n",
       "      <td>-0.670627</td>\n",
       "      <td>-0.823672</td>\n",
       "      <td>-0.878457</td>\n",
       "      <td>-0.869404</td>\n",
       "    </tr>\n",
       "    <tr>\n",
       "      <th>...</th>\n",
       "      <td>...</td>\n",
       "      <td>...</td>\n",
       "      <td>...</td>\n",
       "      <td>...</td>\n",
       "      <td>...</td>\n",
       "      <td>...</td>\n",
       "      <td>...</td>\n",
       "    </tr>\n",
       "    <tr>\n",
       "      <th>8330</th>\n",
       "      <td>FUNDC2</td>\n",
       "      <td>-0.903746</td>\n",
       "      <td>-0.631446</td>\n",
       "      <td>-0.842328</td>\n",
       "      <td>-0.644692</td>\n",
       "      <td>-0.671513</td>\n",
       "      <td>-0.601621</td>\n",
       "    </tr>\n",
       "    <tr>\n",
       "      <th>8331</th>\n",
       "      <td>CMC4</td>\n",
       "      <td>-1.776921</td>\n",
       "      <td>-1.423289</td>\n",
       "      <td>-1.750980</td>\n",
       "      <td>-1.467767</td>\n",
       "      <td>-1.506587</td>\n",
       "      <td>-1.410784</td>\n",
       "    </tr>\n",
       "    <tr>\n",
       "      <th>8332</th>\n",
       "      <td>BRCC3</td>\n",
       "      <td>-1.878570</td>\n",
       "      <td>-1.815602</td>\n",
       "      <td>-1.781647</td>\n",
       "      <td>-1.785017</td>\n",
       "      <td>-1.834553</td>\n",
       "      <td>-1.814033</td>\n",
       "    </tr>\n",
       "    <tr>\n",
       "      <th>8333</th>\n",
       "      <td>VBP1</td>\n",
       "      <td>-1.325631</td>\n",
       "      <td>-1.051313</td>\n",
       "      <td>-1.259257</td>\n",
       "      <td>-1.139328</td>\n",
       "      <td>-1.075277</td>\n",
       "      <td>-1.039731</td>\n",
       "    </tr>\n",
       "    <tr>\n",
       "      <th>8334</th>\n",
       "      <td>VAMP7</td>\n",
       "      <td>-1.566349</td>\n",
       "      <td>-1.429572</td>\n",
       "      <td>-1.556184</td>\n",
       "      <td>-1.454121</td>\n",
       "      <td>-1.511587</td>\n",
       "      <td>-1.536664</td>\n",
       "    </tr>\n",
       "  </tbody>\n",
       "</table>\n",
       "<p>8335 rows × 7 columns</p>\n",
       "</div>"
      ],
      "text/plain": [
       "            gene    time_3    time_0    time_6    time_9   time_24   time_48\n",
       "0           HES4  1.145554  0.790288  1.375800  1.196331  1.171301  1.073169\n",
       "1          ISG15  3.390804  1.825076  3.631711  3.039966  2.991579  2.809182\n",
       "2           AGRN -0.175982 -0.691860 -0.136874 -0.456595 -0.460011 -0.514530\n",
       "3       C1orf159 -2.021068 -2.363995 -2.072172 -2.213524 -2.250352 -2.206127\n",
       "4     AL390719.2 -0.592809 -0.972980 -0.670627 -0.823672 -0.878457 -0.869404\n",
       "...          ...       ...       ...       ...       ...       ...       ...\n",
       "8330      FUNDC2 -0.903746 -0.631446 -0.842328 -0.644692 -0.671513 -0.601621\n",
       "8331        CMC4 -1.776921 -1.423289 -1.750980 -1.467767 -1.506587 -1.410784\n",
       "8332       BRCC3 -1.878570 -1.815602 -1.781647 -1.785017 -1.834553 -1.814033\n",
       "8333        VBP1 -1.325631 -1.051313 -1.259257 -1.139328 -1.075277 -1.039731\n",
       "8334       VAMP7 -1.566349 -1.429572 -1.556184 -1.454121 -1.511587 -1.536664\n",
       "\n",
       "[8335 rows x 7 columns]"
      ]
     },
     "execution_count": 18,
     "metadata": {},
     "output_type": "execute_result"
    }
   ],
   "source": [
    "mean"
   ]
  },
  {
   "cell_type": "code",
   "execution_count": 144,
   "metadata": {},
   "outputs": [
    {
     "data": {
      "text/html": [
       "<div>\n",
       "<style scoped>\n",
       "    .dataframe tbody tr th:only-of-type {\n",
       "        vertical-align: middle;\n",
       "    }\n",
       "\n",
       "    .dataframe tbody tr th {\n",
       "        vertical-align: top;\n",
       "    }\n",
       "\n",
       "    .dataframe thead th {\n",
       "        text-align: right;\n",
       "    }\n",
       "</style>\n",
       "<table border=\"1\" class=\"dataframe\">\n",
       "  <thead>\n",
       "    <tr style=\"text-align: right;\">\n",
       "      <th></th>\n",
       "      <th>gene</th>\n",
       "      <th>time_step_1</th>\n",
       "      <th>time_step_0</th>\n",
       "    </tr>\n",
       "  </thead>\n",
       "  <tbody>\n",
       "    <tr>\n",
       "      <th>0</th>\n",
       "      <td>LINC01409</td>\n",
       "      <td>-1.918721</td>\n",
       "      <td>-2.073328</td>\n",
       "    </tr>\n",
       "    <tr>\n",
       "      <th>1</th>\n",
       "      <td>NOC2L</td>\n",
       "      <td>-1.137813</td>\n",
       "      <td>-1.177516</td>\n",
       "    </tr>\n",
       "    <tr>\n",
       "      <th>2</th>\n",
       "      <td>HES4</td>\n",
       "      <td>1.145554</td>\n",
       "      <td>0.790288</td>\n",
       "    </tr>\n",
       "    <tr>\n",
       "      <th>3</th>\n",
       "      <td>ISG15</td>\n",
       "      <td>3.390804</td>\n",
       "      <td>1.825076</td>\n",
       "    </tr>\n",
       "    <tr>\n",
       "      <th>4</th>\n",
       "      <td>AGRN</td>\n",
       "      <td>-0.175982</td>\n",
       "      <td>-0.691860</td>\n",
       "    </tr>\n",
       "    <tr>\n",
       "      <th>...</th>\n",
       "      <td>...</td>\n",
       "      <td>...</td>\n",
       "      <td>...</td>\n",
       "    </tr>\n",
       "    <tr>\n",
       "      <th>9637</th>\n",
       "      <td>FUNDC2</td>\n",
       "      <td>-0.903746</td>\n",
       "      <td>-0.631446</td>\n",
       "    </tr>\n",
       "    <tr>\n",
       "      <th>9638</th>\n",
       "      <td>CMC4</td>\n",
       "      <td>-1.776921</td>\n",
       "      <td>-1.423289</td>\n",
       "    </tr>\n",
       "    <tr>\n",
       "      <th>9639</th>\n",
       "      <td>BRCC3</td>\n",
       "      <td>-1.878570</td>\n",
       "      <td>-1.815602</td>\n",
       "    </tr>\n",
       "    <tr>\n",
       "      <th>9640</th>\n",
       "      <td>VBP1</td>\n",
       "      <td>-1.325631</td>\n",
       "      <td>-1.051313</td>\n",
       "    </tr>\n",
       "    <tr>\n",
       "      <th>9641</th>\n",
       "      <td>VAMP7</td>\n",
       "      <td>-1.566349</td>\n",
       "      <td>-1.429572</td>\n",
       "    </tr>\n",
       "  </tbody>\n",
       "</table>\n",
       "<p>9642 rows × 3 columns</p>\n",
       "</div>"
      ],
      "text/plain": [
       "           gene  time_step_1  time_step_0\n",
       "0     LINC01409    -1.918721    -2.073328\n",
       "1         NOC2L    -1.137813    -1.177516\n",
       "2          HES4     1.145554     0.790288\n",
       "3         ISG15     3.390804     1.825076\n",
       "4          AGRN    -0.175982    -0.691860\n",
       "...         ...          ...          ...\n",
       "9637     FUNDC2    -0.903746    -0.631446\n",
       "9638       CMC4    -1.776921    -1.423289\n",
       "9639      BRCC3    -1.878570    -1.815602\n",
       "9640       VBP1    -1.325631    -1.051313\n",
       "9641      VAMP7    -1.566349    -1.429572\n",
       "\n",
       "[9642 rows x 3 columns]"
      ]
     },
     "execution_count": 144,
     "metadata": {},
     "output_type": "execute_result"
    }
   ],
   "source": []
  },
  {
   "cell_type": "code",
   "execution_count": 133,
   "metadata": {},
   "outputs": [],
   "source": [
    "control_df = mean[['gene', 'time_step_0']].rename(columns={'time_step_0':'mean'}).merge(\n",
    "var[['gene', 'time_step_0']].rename(columns={'time_step_0':'var'})\n",
    ")"
   ]
  },
  {
   "cell_type": "code",
   "execution_count": 134,
   "metadata": {},
   "outputs": [],
   "source": [
    "stim_df = mean.rename(columns={'time_step_1':'mean'}).merge(\n",
    "var[['gene', 'time_step_1']].rename(columns={'time_step_1':'var'})\n",
    ")"
   ]
  },
  {
   "cell_type": "code",
   "execution_count": 135,
   "metadata": {},
   "outputs": [],
   "source": [
    "control_df['type1'] = [g in type1_isg and g in isgf3_genes for g in control_df.gene]\n",
    "stim_df['type1'] = [g in type1_isg and g in isgf3_genes for g in stim_df.gene]\n",
    "\n",
    "# control_df['type1'] = [g in type1_isg for g in control_df.gene]\n",
    "# stim_df['type1'] = [g in type1_isg for g in stim_df.gene]"
   ]
  },
  {
   "cell_type": "code",
   "execution_count": 136,
   "metadata": {},
   "outputs": [],
   "source": [
    "# upreg_genes = all_result['ciliated']['ht']['beta']['3'].query('de_fdr < 0.1 & de_coef > 0').gene.tolist()"
   ]
  },
  {
   "cell_type": "code",
   "execution_count": 137,
   "metadata": {},
   "outputs": [],
   "source": [
    "# control_df['isgf3'] = [g in isgf3_genes and g in upreg_genes for g in control_df.gene]\n",
    "# stim_df['isgf3'] = [g in isgf3_genes and g in upreg_genes for g in stim_df.gene]\n",
    "\n",
    "# control_df['upreg'] = [g in upreg_genes for g in control_df.gene]\n",
    "# stim_df['upreg'] = [g in upreg_genes for g in stim_df.gene]"
   ]
  },
  {
   "cell_type": "code",
   "execution_count": 138,
   "metadata": {},
   "outputs": [
    {
     "data": {
      "text/plain": [
       "<matplotlib.collections.PathCollection at 0x7f825c2b7390>"
      ]
     },
     "execution_count": 138,
     "metadata": {},
     "output_type": "execute_result"
    },
    {
     "data": {
      "image/png": "[encoded data removed]",
      "text/plain": [
       "<Figure size 432x288 with 1 Axes>"
      ]
     },
     "metadata": {
      "needs_background": "light"
     },
     "output_type": "display_data"
    }
   ],
   "source": [
    "plt.scatter(control_df['mean'],control_df['var'], s=1)\n",
    "plt.scatter(control_df.query('type1')['mean'],control_df.query('type1')['var'], s=15)"
   ]
  },
  {
   "cell_type": "code",
   "execution_count": 139,
   "metadata": {},
   "outputs": [
    {
     "name": "stderr",
     "output_type": "stream",
     "text": [
      "/data/home/anaconda3/envs/single_cell/lib/python3.7/site-packages/ipykernel_launcher.py:4: FutureWarning: Sorting because non-concatenation axis is not aligned. A future version\n",
      "of pandas will change to not sort by default.\n",
      "\n",
      "To accept the future behavior, pass 'sort=False'.\n",
      "\n",
      "To retain the current behavior and silence the warning, pass 'sort=True'.\n",
      "\n",
      "  after removing the cwd from sys.path.\n"
     ]
    },
    {
     "data": {
      "text/plain": [
       "<matplotlib.axes._subplots.AxesSubplot at 0x7f825c3b8e10>"
      ]
     },
     "execution_count": 139,
     "metadata": {},
     "output_type": "execute_result"
    },
    {
     "data": {
      "image/png": "[encoded data removed]",
      "text/plain": [
       "<Figure size 108x216 with 1 Axes>"
      ]
     },
     "metadata": {
      "needs_background": "light"
     },
     "output_type": "display_data"
    }
   ],
   "source": [
    "plt.figure(figsize=(1.5, 3))\n",
    "control_df['stim'] = 'ctrl'\n",
    "stim_df['stim'] = 'stim'\n",
    "combined_df = pd.concat([control_df, stim_df])\n",
    "sns.stripplot(x='stim', y='var', data=combined_df.query('type1'), s=5, jitter=0.2)"
   ]
  },
  {
   "cell_type": "code",
   "execution_count": 140,
   "metadata": {},
   "outputs": [
    {
     "data": {
      "text/plain": [
       "(-3, 6)"
      ]
     },
     "execution_count": 140,
     "metadata": {},
     "output_type": "execute_result"
    },
    {
     "data": {
      "image/png": "[encoded data removed]",
      "text/plain": [
       "<Figure size 576x216 with 2 Axes>"
      ]
     },
     "metadata": {
      "needs_background": "light"
     },
     "output_type": "display_data"
    }
   ],
   "source": [
    "plt.figure(figsize=(8, 3))\n",
    "plt.subplot(1, 2, 1)\n",
    "\n",
    "plt.scatter(control_df['mean'],control_df['var'], s=1)\n",
    "plt.scatter(control_df.query('type1')['mean'],control_df.query('type1')['var'], s=15)\n",
    "plt.ylim(-3, 5); plt.xlim(-3, 6)\n",
    "\n",
    "plt.subplot(1, 2, 2)\n",
    "\n",
    "plt.scatter(stim_df['mean'],stim_df['var'], s=1)\n",
    "plt.scatter(stim_df.query('type1')['mean'],stim_df.query('type1')['var'], s=15)\n",
    "plt.ylim(-3, 5); plt.xlim(-3, 6)\n"
   ]
  },
  {
   "cell_type": "code",
   "execution_count": 142,
   "metadata": {},
   "outputs": [
    {
     "data": {
      "text/plain": [
       "<matplotlib.collections.PathCollection at 0x7f825c135e90>"
      ]
     },
     "execution_count": 142,
     "metadata": {},
     "output_type": "execute_result"
    },
    {
     "data": {
      "image/png": "[encoded data removed]",
      "text/plain": [
       "<Figure size 432x288 with 1 Axes>"
      ]
     },
     "metadata": {
      "needs_background": "light"
     },
     "output_type": "display_data"
    }
   ],
   "source": [
    "# plt.scatter(control_df['mean'],control_df['var'], s=1)\n",
    "plt.scatter(stim_df['mean'],stim_df['var'], s=1)\n",
    "\n",
    "plt.scatter(control_df.query('type1')['mean'],control_df.query('type1')['var'], s=8)\n",
    "\n",
    "plt.scatter(stim_df.query('type1')['mean'],stim_df.query('type1')['var'], s=8)"
   ]
  },
  {
   "cell_type": "code",
   "execution_count": 147,
   "metadata": {},
   "outputs": [
    {
     "data": {
      "text/plain": [
       "<matplotlib.collections.PathCollection at 0x7fb28e4c18d0>"
      ]
     },
     "execution_count": 147,
     "metadata": {},
     "output_type": "execute_result"
    },
    {
     "data": {
      "image/png": "[encoded data removed]",
      "text/plain": [
       "<Figure size 576x216 with 2 Axes>"
      ]
     },
     "metadata": {
      "needs_background": "light"
     },
     "output_type": "display_data"
    }
   ],
   "source": [
    "plt.figure(figsize=(8, 3))\n",
    "plt.subplot(1, 2, 1)\n",
    "\n",
    "plt.scatter(control_df['mean'],control_df['var'], s=1)\n",
    "plt.scatter(control_df.query('gene == \"ISG15\"')['mean'],control_df.query('gene == \"ISG15\"')['var'], s=15)\n",
    "\n",
    "plt.subplot(1, 2, 2)\n",
    "\n",
    "plt.scatter(stim_df['mean'],stim_df['var'], s=1)\n",
    "plt.scatter(stim_df.query('gene == \"ISG15\"')['mean'],stim_df.query('gene == \"ISG15\"')['var'], s=15)"
   ]
  },
  {
   "cell_type": "code",
   "execution_count": 154,
   "metadata": {},
   "outputs": [
    {
     "data": {
      "text/plain": [
       "<matplotlib.collections.PathCollection at 0x7fb28e57dc50>"
      ]
     },
     "execution_count": 154,
     "metadata": {},
     "output_type": "execute_result"
    },
    {
     "data": {
      "image/png": "[encoded data removed]",
      "text/plain": [
       "<Figure size 576x216 with 2 Axes>"
      ]
     },
     "metadata": {
      "needs_background": "light"
     },
     "output_type": "display_data"
    }
   ],
   "source": [
    "plt.figure(figsize=(8, 3))\n",
    "plt.subplot(1, 2, 1)\n",
    "\n",
    "plt.scatter(control_df['mean'],control_df['var'], s=1)\n",
    "plt.scatter(control_df.query('gene == \"IFI6\"')['mean'],control_df.query('gene == \"IFI6\"')['var'], s=15)\n",
    "\n",
    "plt.subplot(1, 2, 2)\n",
    "\n",
    "plt.scatter(stim_df['mean'],stim_df['var'], s=1)\n",
    "plt.scatter(stim_df.query('gene == \"IFI6\"')['mean'],stim_df.query('gene == \"IFI6\"')['var'], s=15)"
   ]
  },
  {
   "cell_type": "code",
   "execution_count": 155,
   "metadata": {},
   "outputs": [
    {
     "data": {
      "text/plain": [
       "<matplotlib.collections.PathCollection at 0x7fb2aa6f3a50>"
      ]
     },
     "execution_count": 155,
     "metadata": {},
     "output_type": "execute_result"
    },
    {
     "data": {
      "image/png": "[encoded data removed]",
      "text/plain": [
       "<Figure size 576x216 with 2 Axes>"
      ]
     },
     "metadata": {
      "needs_background": "light"
     },
     "output_type": "display_data"
    }
   ],
   "source": [
    "plt.figure(figsize=(8, 3))\n",
    "plt.subplot(1, 2, 1)\n",
    "\n",
    "plt.scatter(control_df['mean'],control_df['var'], s=1)\n",
    "plt.scatter(control_df.query('gene == \"SIGLEC1\"')['mean'],control_df.query('gene == \"SIGLEC1\"')['var'], s=15)\n",
    "\n",
    "plt.subplot(1, 2, 2)\n",
    "\n",
    "plt.scatter(stim_df['mean'],stim_df['var'], s=1)\n",
    "plt.scatter(stim_df.query('gene == \"SIGLEC1\"')['mean'],stim_df.query('gene == \"SIGLEC1\"')['var'], s=15)"
   ]
  },
  {
   "cell_type": "code",
   "execution_count": 148,
   "metadata": {},
   "outputs": [
    {
     "data": {
      "text/plain": [
       "<matplotlib.collections.PathCollection at 0x7fb28f22d9d0>"
      ]
     },
     "execution_count": 148,
     "metadata": {},
     "output_type": "execute_result"
    },
    {
     "data": {
      "image/png": "[encoded data removed]",
      "text/plain": [
       "<Figure size 432x288 with 1 Axes>"
      ]
     },
     "metadata": {
      "needs_background": "light"
     },
     "output_type": "display_data"
    }
   ],
   "source": [
    "# plt.scatter(control_df['mean'],control_df['var'], s=1)\n",
    "plt.scatter(control_df.query('gene == \"ISG15\"')['mean'],control_df.query('gene == \"ISG15\"')['var'], s=15)\n",
    "\n",
    "# plt.scatter(stim_df['mean'],stim_df['var'], s=1)\n",
    "plt.scatter(stim_df.query('gene == \"ISG15\"')['mean'],stim_df.query('gene == \"ISG15\"')['var'], s=15)"
   ]
  },
  {
   "cell_type": "code",
   "execution_count": 143,
   "metadata": {},
   "outputs": [
    {
     "data": {
      "text/plain": [
       "<matplotlib.collections.PathCollection at 0x7fb28e50ea10>"
      ]
     },
     "execution_count": 143,
     "metadata": {},
     "output_type": "execute_result"
    },
    {
     "data": {
      "image/png": "[encoded data removed]",
      "text/plain": [
       "<Figure size 432x288 with 1 Axes>"
      ]
     },
     "metadata": {
      "needs_background": "light"
     },
     "output_type": "display_data"
    }
   ],
   "source": [
    "plt.scatter(stim_df['mean'],stim_df['var'], s=1)\n",
    "plt.scatter(stim_df.query('isgf3')['mean'],stim_df.query('isgf3')['var'], s=15)\n"
   ]
  },
  {
   "cell_type": "code",
   "execution_count": 158,
   "metadata": {},
   "outputs": [
    {
     "data": {
      "text/html": [
       "<div>\n",
       "<style scoped>\n",
       "    .dataframe tbody tr th:only-of-type {\n",
       "        vertical-align: middle;\n",
       "    }\n",
       "\n",
       "    .dataframe tbody tr th {\n",
       "        vertical-align: top;\n",
       "    }\n",
       "\n",
       "    .dataframe thead th {\n",
       "        text-align: right;\n",
       "    }\n",
       "</style>\n",
       "<table border=\"1\" class=\"dataframe\">\n",
       "  <thead>\n",
       "    <tr style=\"text-align: right;\">\n",
       "      <th></th>\n",
       "      <th>gene</th>\n",
       "      <th>mean</th>\n",
       "      <th>var</th>\n",
       "      <th>isgf3</th>\n",
       "      <th>upreg</th>\n",
       "    </tr>\n",
       "  </thead>\n",
       "  <tbody>\n",
       "    <tr>\n",
       "      <th>0</th>\n",
       "      <td>LINC01409</td>\n",
       "      <td>-2.073328</td>\n",
       "      <td>-0.494383</td>\n",
       "      <td>False</td>\n",
       "      <td>True</td>\n",
       "    </tr>\n",
       "    <tr>\n",
       "      <th>1</th>\n",
       "      <td>NOC2L</td>\n",
       "      <td>-1.177516</td>\n",
       "      <td>-0.219102</td>\n",
       "      <td>False</td>\n",
       "      <td>False</td>\n",
       "    </tr>\n",
       "    <tr>\n",
       "      <th>2</th>\n",
       "      <td>HES4</td>\n",
       "      <td>0.790288</td>\n",
       "      <td>0.791460</td>\n",
       "      <td>False</td>\n",
       "      <td>True</td>\n",
       "    </tr>\n",
       "    <tr>\n",
       "      <th>3</th>\n",
       "      <td>ISG15</td>\n",
       "      <td>1.825076</td>\n",
       "      <td>2.219770</td>\n",
       "      <td>True</td>\n",
       "      <td>True</td>\n",
       "    </tr>\n",
       "    <tr>\n",
       "      <th>4</th>\n",
       "      <td>AGRN</td>\n",
       "      <td>-0.691860</td>\n",
       "      <td>0.366197</td>\n",
       "      <td>False</td>\n",
       "      <td>True</td>\n",
       "    </tr>\n",
       "  </tbody>\n",
       "</table>\n",
       "</div>"
      ],
      "text/plain": [
       "        gene      mean       var  isgf3  upreg\n",
       "0  LINC01409 -2.073328 -0.494383  False   True\n",
       "1      NOC2L -1.177516 -0.219102  False  False\n",
       "2       HES4  0.790288  0.791460  False   True\n",
       "3      ISG15  1.825076  2.219770   True   True\n",
       "4       AGRN -0.691860  0.366197  False   True"
      ]
     },
     "execution_count": 158,
     "metadata": {},
     "output_type": "execute_result"
    }
   ],
   "source": [
    "control_df.head(5)"
   ]
  },
  {
   "cell_type": "code",
   "execution_count": 161,
   "metadata": {},
   "outputs": [
    {
     "name": "stdout",
     "output_type": "stream",
     "text": [
      "ALPL\n",
      "STMN1\n",
      "SFN\n",
      "MARCKSL1\n",
      "PDZK1IP1\n",
      "F3\n",
      "S100A9\n",
      "S100A8\n",
      "NEK2\n",
      "LINC00342\n",
      "ANKRD36C\n",
      "ECRG4\n",
      "SGO2\n",
      "CCL20\n",
      "HES6\n",
      "FAM3D\n",
      "TMEM45A\n",
      "UPK1B\n",
      "TM4SF1\n",
      "RARRES1\n",
      "FGFBP1\n",
      "CXCL8\n",
      "CXCL6\n",
      "CXCL1\n",
      "CXCL3\n",
      "CXCL2\n",
      "EREG\n",
      "AREG\n",
      "PLK4\n",
      "CDC20B\n",
      "CCNO\n",
      "SLC26A2\n",
      "SCGB3A1\n",
      "IER3\n",
      "GSTA2\n",
      "CENPW\n",
      "AGR2\n",
      "ANLN\n",
      "IGFBP3\n",
      "STEAP4\n",
      "MUC12\n",
      "PTN\n",
      "RARRES2\n",
      "IDO1\n",
      "FABP5\n",
      "FAM83A\n",
      "LYPD2\n",
      "SLURP2\n",
      "CKS2\n",
      "LRRC26\n",
      "MSMB\n",
      "CDK1\n",
      "DDIT4\n",
      "PLAU\n",
      "AL603756.1\n",
      "MUC5B\n",
      "TNNT3\n",
      "CDKN1C\n",
      "SAA2\n",
      "SAA1\n",
      "TCN1\n",
      "SCGB2A1\n",
      "SCGB1A1\n",
      "CDK2AP2\n",
      "PRSS23\n",
      "CTSC\n",
      "POGLUT3\n",
      "HYLS1\n",
      "PTHLH\n",
      "AQP5\n",
      "KRT7\n",
      "KRT4\n",
      "LYZ\n",
      "TSPAN8\n",
      "E2F7\n",
      "ATP12A\n",
      "CCNA1\n",
      "CLDN10\n",
      "RNASE1\n",
      "DUOXA2\n",
      "C15orf48\n",
      "AC023300.2\n",
      "IL32\n",
      "VMO1\n",
      "KRT13\n",
      "KRT17\n",
      "SOX9\n",
      "SERPINB4\n",
      "SERPINB3\n",
      "SERPINB2\n",
      "SERPINB10\n",
      "AZU1\n",
      "ICAM1\n",
      "FCGBP\n",
      "MIA\n",
      "CYP2F1\n",
      "CEACAM6\n",
      "KLK11\n",
      "CDC42EP5\n",
      "BPIFA1\n",
      "BPIFB1\n",
      "PI3\n",
      "BTG3\n",
      "TFF3\n"
     ]
    }
   ],
   "source": [
    "for g in stim_df.query('var > 2').gene:\n",
    "    print(g)"
   ]
  },
  {
   "cell_type": "code",
   "execution_count": 160,
   "metadata": {},
   "outputs": [
    {
     "name": "stdout",
     "output_type": "stream",
     "text": [
      "ISG15\n",
      "ALPL\n",
      "STMN1\n",
      "SFN\n",
      "MARCKSL1\n",
      "PDZK1IP1\n",
      "F3\n",
      "S100A9\n",
      "NEK2\n",
      "RSAD2\n",
      "LINC00342\n",
      "ANKRD36C\n",
      "CCL20\n",
      "SNORC\n",
      "HES6\n",
      "FAM3D\n",
      "TMEM45A\n",
      "UPK1B\n",
      "TM4SF1\n",
      "RARRES1\n",
      "FGFBP1\n",
      "CXCL8\n",
      "CXCL6\n",
      "CXCL1\n",
      "CXCL3\n",
      "CXCL2\n",
      "EREG\n",
      "AREG\n",
      "PLK4\n",
      "SLC7A11\n",
      "DDX60L\n",
      "CDC20B\n",
      "CCNO\n",
      "SLC26A2\n",
      "MIR3142HG\n",
      "SCGB3A1\n",
      "HIST1H2BJ\n",
      "GSTA2\n",
      "CENPW\n",
      "MUC12\n",
      "PTN\n",
      "RARRES2\n",
      "IDO1\n",
      "FABP5\n",
      "LYPD2\n",
      "SLURP2\n",
      "CEP78\n",
      "LCN2\n",
      "LRRC26\n",
      "MSMB\n",
      "CDK1\n",
      "PLAU\n",
      "AL603756.1\n",
      "IFIT2\n",
      "IFIT3\n",
      "HELLS\n",
      "MUC5B\n",
      "HBB\n",
      "SAA4\n",
      "SAA2\n",
      "SAA1\n",
      "TCN1\n",
      "SCGB1A1\n",
      "CDK2AP2\n",
      "CTSC\n",
      "POGLUT3\n",
      "HYLS1\n",
      "PTHLH\n",
      "AQP5\n",
      "KRT7\n",
      "LYZ\n",
      "TSPAN8\n",
      "E2F7\n",
      "OASL\n",
      "CCNA1\n",
      "CLDN10\n",
      "DUOXA2\n",
      "C15orf48\n",
      "IL32\n",
      "VMO1\n",
      "KRT17\n",
      "SMIM6\n",
      "SERPINB3\n",
      "SERPINB2\n",
      "AZU1\n",
      "C3\n",
      "GDF15\n",
      "COX7A1\n",
      "FCGBP\n",
      "MIA\n",
      "CYP2F1\n",
      "CEACAM6\n",
      "KLK11\n",
      "CDC42EP5\n",
      "BPIFA1\n",
      "BPIFB1\n",
      "PI3\n",
      "BTG3\n",
      "TFF3\n",
      "LGALS1\n"
     ]
    }
   ],
   "source": [
    "for g in control_df.query('var > 2').gene:\n",
    "    print(g)"
   ]
  },
  {
   "cell_type": "code",
   "execution_count": null,
   "metadata": {},
   "outputs": [],
   "source": []
  }
 ],
 "metadata": {
  "kernelspec": {
   "display_name": "Python 3",
   "language": "python",
   "name": "python3"
  },
  "language_info": {
   "codemirror_mode": {
    "name": "ipython",
    "version": 3
   },
   "file_extension": ".py",
   "mimetype": "text/x-python",
   "name": "python",
   "nbconvert_exporter": "python",
   "pygments_lexer": "ipython3",
   "version": "3.8.8"
  }
 },
 "nbformat": 4,
 "nbformat_minor": 4
}
