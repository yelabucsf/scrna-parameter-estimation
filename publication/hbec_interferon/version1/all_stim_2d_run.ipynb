{
 "cells": [
  {
   "cell_type": "markdown",
   "metadata": {},
   "source": [
    "# 2D coexpression analysis for HBEC IFN experiment"
   ]
  },
  {
   "cell_type": "code",
   "execution_count": 6,
   "metadata": {},
   "outputs": [],
   "source": [
    "import scanpy as sc\n",
    "import seaborn as sns\n",
    "import pandas as pd\n",
    "import matplotlib.pyplot as plt\n",
    "import numpy as np\n",
    "import scipy.stats as stats\n",
    "from pybedtools import BedTool\n",
    "import pickle as pkl\n",
    "import itertools\n",
    "%matplotlib inline"
   ]
  },
  {
   "cell_type": "code",
   "execution_count": 7,
   "metadata": {},
   "outputs": [],
   "source": [
    "import matplotlib\n",
    "matplotlib.rcParams['pdf.fonttype'] = 42\n",
    "matplotlib.rcParams['ps.fonttype'] = 42"
   ]
  },
  {
   "cell_type": "code",
   "execution_count": 8,
   "metadata": {},
   "outputs": [],
   "source": [
    "import sys\n",
    "sys.path.append('/data/home/Github/scrna-parameter-estimation/dist/memento-0.0.5-py3.7.egg')\n",
    "sys.path.append('/data/home/Github/misc-seq/miscseq/')\n",
    "import encode\n",
    "import memento"
   ]
  },
  {
   "cell_type": "code",
   "execution_count": 9,
   "metadata": {},
   "outputs": [],
   "source": [
    "data_path = '/data_volume/ifn_hbec/'\n",
    "fig_path = '/data/home/Github/scrna-parameter-estimation/figures/fig6/'"
   ]
  },
  {
   "cell_type": "markdown",
   "metadata": {},
   "source": [
    "### Get genes that are likely ISGF3 binding"
   ]
  },
  {
   "cell_type": "code",
   "execution_count": 5,
   "metadata": {},
   "outputs": [],
   "source": [
    "enc = encode.Encode('/data/home/Github/misc-seq/miscseq/GRCh38Genes.bed')"
   ]
  },
  {
   "cell_type": "code",
   "execution_count": 6,
   "metadata": {},
   "outputs": [],
   "source": [
    "stat1_bed = enc.get_encode_peaks_union([\n",
    "    'https://www.encodeproject.org/files/ENCFF747ICD/@@download/ENCFF747ICD.bed.gz',\n",
    "    'https://www.encodeproject.org/files/ENCFF646MXG/@@download/ENCFF646MXG.bed.gz'\n",
    "])\n",
    "stat2_bed = enc.get_encode_peaks_union([\n",
    "    'https://www.encodeproject.org/files/ENCFF204VQS/@@download/ENCFF204VQS.bed.gz',\n",
    "    'https://www.encodeproject.org/files/ENCFF545JVD/@@download/ENCFF545JVD.bed.gz'\n",
    "])"
   ]
  },
  {
   "cell_type": "code",
   "execution_count": 7,
   "metadata": {},
   "outputs": [],
   "source": [
    "intersect_bed = stat1_bed.intersect(stat2_bed).sort()"
   ]
  },
  {
   "cell_type": "code",
   "execution_count": 8,
   "metadata": {},
   "outputs": [
    {
     "name": "stderr",
     "output_type": "stream",
     "text": [
      "/data/home/anaconda3/envs/single_cell/lib/python3.7/site-packages/pybedtools/bedtool.py:3681: UserWarning: Default names for filetype bed are:\n",
      "['chrom', 'start', 'end', 'name', 'score', 'strand', 'thickStart', 'thickEnd', 'itemRgb', 'blockCount', 'blockSizes', 'blockStarts']\n",
      "but file has 16 fields; you can supply custom names with the `names` kwarg\n",
      "  \"`names` kwarg\" % (self.file_type, _names, self.field_count())\n"
     ]
    }
   ],
   "source": [
    "isgf3_genes = enc.get_peak_genes_bed(intersect_bed, 0).query('distance == 0 & ~gene.str.contains(\"MT\").values').gene.tolist()"
   ]
  },
  {
   "cell_type": "markdown",
   "metadata": {},
   "source": [
    "### Get the TFs"
   ]
  },
  {
   "cell_type": "code",
   "execution_count": 10,
   "metadata": {},
   "outputs": [],
   "source": [
    "tf_df = pd.read_csv('DatabaseExtract_v_1.01.csv', index_col=0)\n",
    "tf_df = tf_df[tf_df['TF assessment'] == 'Known motif']\n",
    "tfs = tf_df['HGNC symbol'].tolist()"
   ]
  },
  {
   "cell_type": "markdown",
   "metadata": {},
   "source": [
    "### Read the processed RNA data\n",
    "\n",
    "Focus on the club and bc/club cells and type I interferons for now.\n",
    "\n",
    "Encode the timestamps to integers."
   ]
  },
  {
   "cell_type": "raw",
   "metadata": {},
   "source": [
    "adata_processed = sc.read(data_path + 'HBEC_type_I_processed.h5ad')"
   ]
  },
  {
   "cell_type": "code",
   "execution_count": 11,
   "metadata": {},
   "outputs": [],
   "source": [
    "adata = sc.read(data_path + 'HBEC_type_I_filtered_counts_deep.h5ad')"
   ]
  },
  {
   "cell_type": "code",
   "execution_count": 12,
   "metadata": {},
   "outputs": [],
   "source": [
    "adata = adata[:, ~adata.var.index.str.startswith('MT-')].copy()\n",
    "adata.obs['cell_type'] = adata.obs['cell_type'].apply(lambda x: x if x != 'basal/club' else 'bc')\n",
    "adata.obs['cell_type'] = adata.obs['cell_type'].apply(lambda x: x if x != 'ionocyte/tuft' else 'ion-tuft')"
   ]
  },
  {
   "cell_type": "raw",
   "metadata": {},
   "source": [
    "sc.pl.umap(adata_processed, color=['cell_type', 'time', 'stim'])"
   ]
  },
  {
   "cell_type": "code",
   "execution_count": 13,
   "metadata": {},
   "outputs": [
    {
     "data": {
      "text/plain": [
       "(69958, 36588)"
      ]
     },
     "execution_count": 13,
     "metadata": {},
     "output_type": "execute_result"
    }
   ],
   "source": [
    "adata.shape"
   ]
  },
  {
   "cell_type": "markdown",
   "metadata": {},
   "source": [
    "### Setup memento"
   ]
  },
  {
   "cell_type": "code",
   "execution_count": 14,
   "metadata": {},
   "outputs": [],
   "source": [
    "def assign_q(batch):\n",
    "    \n",
    "    if batch == 0:\n",
    "        return 0.387*0.25\n",
    "    elif batch == 1:\n",
    "        return 0.392*0.25\n",
    "    elif batch == 2:\n",
    "        return 0.436*0.25\n",
    "    else:\n",
    "        return 0.417*0.25"
   ]
  },
  {
   "cell_type": "code",
   "execution_count": 15,
   "metadata": {},
   "outputs": [],
   "source": [
    "adata.obs['q'] = adata.obs['batch'].apply(assign_q)"
   ]
  },
  {
   "cell_type": "code",
   "execution_count": 16,
   "metadata": {},
   "outputs": [],
   "source": [
    "memento.setup_memento(adata, q_column='q', trim_percent=0.1)"
   ]
  },
  {
   "cell_type": "markdown",
   "metadata": {},
   "source": [
    "### Compute DC genes for all TFs"
   ]
  },
  {
   "cell_type": "code",
   "execution_count": 16,
   "metadata": {},
   "outputs": [],
   "source": [
    "filtered_tfs = \"\"\"MAFG\n",
    "SPI1\n",
    "ZNF655\n",
    "MAX\n",
    "ATF4\n",
    "ATF3\n",
    "IRF2\n",
    "IRF1\n",
    "ARID5A\n",
    "BACH1\n",
    "YY1\n",
    "HMGA1\n",
    "IRF7\n",
    "STAT1\n",
    "NR1H2\n",
    "XBP1\n",
    "ETV6\n",
    "MSC\n",
    "ATF5\n",
    "MAFB\n",
    "FOS\n",
    "CEBPB\n",
    "BBX\n",
    "STAT3\n",
    "REL\n",
    "JUN\n",
    "CEBPD\n",
    "DDIT3\n",
    "NR3C1\n",
    "TGIF1\n",
    "ZNF267\n",
    "NFE2L2\n",
    "HIF1A\n",
    "AHR\n",
    "GTF2B\n",
    "CREM\n",
    "HBP1\n",
    "RELB\n",
    "TFEC\n",
    "YBX1\n",
    "ELF1\n",
    "JUNB\n",
    "NFKB1\n",
    "IRF9\n",
    "RBPJ\n",
    "KLF6\"\"\".split()"
   ]
  },
  {
   "cell_type": "code",
   "execution_count": 17,
   "metadata": {},
   "outputs": [],
   "source": [
    "tf = 'STAT1'\n",
    "ct = ['ciliated']\n",
    "stim = 'beta'\n",
    "\n",
    "def get_2d_ht(tf, ct, stim):\n",
    "    \n",
    "    adata_stim = adata.copy()[\n",
    "        adata.obs.cell_type.isin(ct) & \\\n",
    "        adata.obs.time.isin(['0', '6']) & \\\n",
    "        adata.obs.stim.isin(['control', stim])].copy()\n",
    "    time_converter={0:0, int('6'):1}\n",
    "    adata_stim.obs['time_step'] = adata_stim.obs['time'].astype(int).apply(lambda x: time_converter[x])\n",
    "\n",
    "    memento.create_groups(adata_stim, label_columns=['time', 'donor'])\n",
    "    memento.compute_1d_moments(adata_stim, min_perc_group=.9)\n",
    "    moment_1d_df = memento.get_1d_moments(adata_stim, groupby='time')\n",
    "    \n",
    "    available_tfs = list(set(filtered_tfs) & set(moment_1d_df[0].gene))\n",
    "    \n",
    "    memento.compute_2d_moments(adata_stim, list(itertools.product(available_tfs, adata_stim.var.index)))\n",
    "    \n",
    "    moment_df = memento.get_2d_moments(adata_stim, groupby='time')\n",
    "    \n",
    "    candidates = moment_df.query('time_0 > 0.35 | time_6 > 0.35')\n",
    "    candidates = list(zip(candidates['gene_1'], candidates['gene_2']))\n",
    "    \n",
    "    adata_stim = adata.copy()[\n",
    "        adata.obs.cell_type.isin(ct) & \\\n",
    "        adata.obs.time.isin(['0', '6']) & \\\n",
    "        adata.obs.stim.isin(['control', stim])].copy()\n",
    "    \n",
    "    adata_stim.obs['time_step'] = adata_stim.obs['time'].astype(int).apply(lambda x: time_converter[x])\n",
    "\n",
    "    memento.create_groups(adata_stim, label_columns=['time_step', 'donor'])\n",
    "    memento.compute_1d_moments(adata_stim, min_perc_group=.9)\n",
    "    memento.compute_2d_moments(adata_stim, candidates)\n",
    "    \n",
    "    memento.ht_2d_moments( \n",
    "        adata_stim, \n",
    "        formula_like='1 + time_step',\n",
    "        cov_column='time_step', \n",
    "        num_boot=10000, \n",
    "        verbose=1,\n",
    "        num_cpus=13)\n",
    "    \n",
    "    \n",
    "    ht_df = memento.get_2d_ht_result(adata_stim)\n",
    "    \n",
    "    return ht_df"
   ]
  },
  {
   "cell_type": "code",
   "execution_count": 18,
   "metadata": {},
   "outputs": [
    {
     "name": "stderr",
     "output_type": "stream",
     "text": [
      "/data/home/Github/scrna-parameter-estimation/dist/memento-0.0.4-py3.7.egg/memento/main.py:578: RuntimeWarning: invalid value encountered in true_divide\n",
      "[Parallel(n_jobs=13)]: Using backend LokyBackend with 13 concurrent workers.\n",
      "[Parallel(n_jobs=13)]: Done  24 tasks      | elapsed:    3.5s\n",
      "[Parallel(n_jobs=13)]: Done 174 tasks      | elapsed:    9.8s\n",
      "[Parallel(n_jobs=13)]: Done 424 tasks      | elapsed:   20.0s\n",
      "[Parallel(n_jobs=13)]: Done 774 tasks      | elapsed:   33.7s\n",
      "[Parallel(n_jobs=13)]: Done 1224 tasks      | elapsed:   54.4s\n",
      "[Parallel(n_jobs=13)]: Done 1774 tasks      | elapsed:  1.4min\n",
      "[Parallel(n_jobs=13)]: Done 2424 tasks      | elapsed:  2.0min\n",
      "[Parallel(n_jobs=13)]: Done 3174 tasks      | elapsed:  2.6min\n",
      "[Parallel(n_jobs=13)]: Done 4024 tasks      | elapsed:  3.4min\n",
      "[Parallel(n_jobs=13)]: Done 4974 tasks      | elapsed:  4.3min\n",
      "[Parallel(n_jobs=13)]: Done 6024 tasks      | elapsed:  5.2min\n",
      "[Parallel(n_jobs=13)]: Done 7174 tasks      | elapsed:  6.1min\n",
      "[Parallel(n_jobs=13)]: Done 8424 tasks      | elapsed:  6.9min\n",
      "[Parallel(n_jobs=13)]: Done 9774 tasks      | elapsed:  8.1min\n",
      "[Parallel(n_jobs=13)]: Done 11224 tasks      | elapsed:  9.6min\n",
      "[Parallel(n_jobs=13)]: Done 12774 tasks      | elapsed: 11.3min\n",
      "[Parallel(n_jobs=13)]: Done 14424 tasks      | elapsed: 13.1min\n",
      "[Parallel(n_jobs=13)]: Done 16174 tasks      | elapsed: 15.1min\n",
      "[Parallel(n_jobs=13)]: Done 18024 tasks      | elapsed: 16.9min\n",
      "[Parallel(n_jobs=13)]: Done 19974 tasks      | elapsed: 18.5min\n",
      "[Parallel(n_jobs=13)]: Done 22024 tasks      | elapsed: 20.7min\n",
      "[Parallel(n_jobs=13)]: Done 24174 tasks      | elapsed: 23.4min\n",
      "[Parallel(n_jobs=13)]: Done 26424 tasks      | elapsed: 26.1min\n",
      "[Parallel(n_jobs=13)]: Done 28774 tasks      | elapsed: 28.1min\n",
      "[Parallel(n_jobs=13)]: Done 31224 tasks      | elapsed: 30.1min\n",
      "[Parallel(n_jobs=13)]: Done 33774 tasks      | elapsed: 33.2min\n",
      "[Parallel(n_jobs=13)]: Done 36424 tasks      | elapsed: 36.3min\n",
      "[Parallel(n_jobs=13)]: Done 39174 tasks      | elapsed: 39.0min\n",
      "[Parallel(n_jobs=13)]: Done 42024 tasks      | elapsed: 41.9min\n",
      "[Parallel(n_jobs=13)]: Done 44974 tasks      | elapsed: 46.1min\n",
      "[Parallel(n_jobs=13)]: Done 48024 tasks      | elapsed: 48.7min\n",
      "[Parallel(n_jobs=13)]: Done 51174 tasks      | elapsed: 51.6min\n",
      "[Parallel(n_jobs=13)]: Done 54424 tasks      | elapsed: 55.4min\n",
      "[Parallel(n_jobs=13)]: Done 57774 tasks      | elapsed: 59.8min\n",
      "[Parallel(n_jobs=13)]: Done 61224 tasks      | elapsed: 63.8min\n",
      "[Parallel(n_jobs=13)]: Done 64774 tasks      | elapsed: 68.2min\n",
      "[Parallel(n_jobs=13)]: Done 68424 tasks      | elapsed: 73.3min\n",
      "[Parallel(n_jobs=13)]: Done 72174 tasks      | elapsed: 76.9min\n",
      "[Parallel(n_jobs=13)]: Done 76024 tasks      | elapsed: 80.2min\n",
      "[Parallel(n_jobs=13)]: Done 79974 tasks      | elapsed: 83.5min\n",
      "[Parallel(n_jobs=13)]: Done 84024 tasks      | elapsed: 87.5min\n",
      "[Parallel(n_jobs=13)]: Done 88174 tasks      | elapsed: 91.0min\n",
      "[Parallel(n_jobs=13)]: Done 92424 tasks      | elapsed: 95.2min\n",
      "[Parallel(n_jobs=13)]: Done 92700 out of 92700 | elapsed: 95.4min finished\n"
     ]
    }
   ],
   "source": [
    "alpha_ht_df = get_2d_ht('STAT1', ['ciliated'], 'alpha')"
   ]
  },
  {
   "cell_type": "code",
   "execution_count": 24,
   "metadata": {},
   "outputs": [],
   "source": [
    "alpha_ht_df.to_csv(data_path + 'alpha_dc_result.csv', index=False)"
   ]
  },
  {
   "cell_type": "code",
   "execution_count": 23,
   "metadata": {},
   "outputs": [
    {
     "data": {
      "text/plain": [
       "(array([14141.,  6678.,  5716.,  5101.,  4351.,  4261.,  3959.,  3607.,\n",
       "         3416.,  3112.,  2983.,  2755.,  2495.,  2456.,  2269.,  2216.,\n",
       "         2110.,  1960.,  1876.,  1826.,  1725.,  1667.,  1619.,  1591.,\n",
       "         1569.,  1550.,  1429.,  1502.,  1446.,  1400.]),\n",
       " array([6.74527729e-12, 3.33333333e-02, 6.66666667e-02, 1.00000000e-01,\n",
       "        1.33333333e-01, 1.66666667e-01, 2.00000000e-01, 2.33333333e-01,\n",
       "        2.66666667e-01, 3.00000000e-01, 3.33333333e-01, 3.66666667e-01,\n",
       "        4.00000000e-01, 4.33333333e-01, 4.66666667e-01, 5.00000000e-01,\n",
       "        5.33333333e-01, 5.66666667e-01, 6.00000000e-01, 6.33333333e-01,\n",
       "        6.66666667e-01, 7.00000000e-01, 7.33333333e-01, 7.66666667e-01,\n",
       "        8.00000000e-01, 8.33333333e-01, 8.66666667e-01, 9.00000000e-01,\n",
       "        9.33333333e-01, 9.66666667e-01, 1.00000000e+00]),\n",
       " <a list of 30 Patch objects>)"
      ]
     },
     "execution_count": 23,
     "metadata": {},
     "output_type": "execute_result"
    },
    {
     "data": {
      "image/png": "[encoded data removed]",
      "text/plain": [
       "<Figure size 432x288 with 1 Axes>"
      ]
     },
     "metadata": {
      "needs_background": "light"
     },
     "output_type": "display_data"
    }
   ],
   "source": [
    "plt.hist(alpha_ht_df.corr_pval, bins=30)"
   ]
  },
  {
   "cell_type": "code",
   "execution_count": 20,
   "metadata": {},
   "outputs": [
    {
     "data": {
      "text/html": [
       "<div>\n",
       "<style scoped>\n",
       "    .dataframe tbody tr th:only-of-type {\n",
       "        vertical-align: middle;\n",
       "    }\n",
       "\n",
       "    .dataframe tbody tr th {\n",
       "        vertical-align: top;\n",
       "    }\n",
       "\n",
       "    .dataframe thead th {\n",
       "        text-align: right;\n",
       "    }\n",
       "</style>\n",
       "<table border=\"1\" class=\"dataframe\">\n",
       "  <thead>\n",
       "    <tr style=\"text-align: right;\">\n",
       "      <th></th>\n",
       "      <th>gene_1</th>\n",
       "      <th>gene_2</th>\n",
       "      <th>corr_coef</th>\n",
       "      <th>corr_se</th>\n",
       "      <th>corr_pval</th>\n",
       "    </tr>\n",
       "  </thead>\n",
       "  <tbody>\n",
       "    <tr>\n",
       "      <th>0</th>\n",
       "      <td>RELB</td>\n",
       "      <td>SDF4</td>\n",
       "      <td>-0.052602</td>\n",
       "      <td>0.319498</td>\n",
       "      <td>0.888811</td>\n",
       "    </tr>\n",
       "    <tr>\n",
       "      <th>1</th>\n",
       "      <td>RELB</td>\n",
       "      <td>ACAP3</td>\n",
       "      <td>-0.331839</td>\n",
       "      <td>0.344318</td>\n",
       "      <td>0.354465</td>\n",
       "    </tr>\n",
       "    <tr>\n",
       "      <th>2</th>\n",
       "      <td>RELB</td>\n",
       "      <td>MIB2</td>\n",
       "      <td>-0.606674</td>\n",
       "      <td>0.295251</td>\n",
       "      <td>0.066193</td>\n",
       "    </tr>\n",
       "    <tr>\n",
       "      <th>3</th>\n",
       "      <td>RELB</td>\n",
       "      <td>TNFRSF14</td>\n",
       "      <td>-0.242854</td>\n",
       "      <td>0.289988</td>\n",
       "      <td>0.421458</td>\n",
       "    </tr>\n",
       "    <tr>\n",
       "      <th>4</th>\n",
       "      <td>RELB</td>\n",
       "      <td>PRXL2B</td>\n",
       "      <td>-0.237294</td>\n",
       "      <td>0.328449</td>\n",
       "      <td>0.470153</td>\n",
       "    </tr>\n",
       "  </tbody>\n",
       "</table>\n",
       "</div>"
      ],
      "text/plain": [
       "  gene_1    gene_2  corr_coef   corr_se  corr_pval\n",
       "0   RELB      SDF4  -0.052602  0.319498   0.888811\n",
       "1   RELB     ACAP3  -0.331839  0.344318   0.354465\n",
       "2   RELB      MIB2  -0.606674  0.295251   0.066193\n",
       "3   RELB  TNFRSF14  -0.242854  0.289988   0.421458\n",
       "4   RELB    PRXL2B  -0.237294  0.328449   0.470153"
      ]
     },
     "execution_count": 20,
     "metadata": {},
     "output_type": "execute_result"
    }
   ],
   "source": [
    "alpha_ht_df.head(5)"
   ]
  },
  {
   "cell_type": "code",
   "execution_count": 19,
   "metadata": {},
   "outputs": [
    {
     "name": "stderr",
     "output_type": "stream",
     "text": [
      "[Parallel(n_jobs=13)]: Using backend LokyBackend with 13 concurrent workers.\n",
      "[Parallel(n_jobs=13)]: Done  24 tasks      | elapsed:    1.3s\n",
      "[Parallel(n_jobs=13)]: Done 174 tasks      | elapsed:    8.0s\n",
      "[Parallel(n_jobs=13)]: Done 424 tasks      | elapsed:   19.1s\n",
      "[Parallel(n_jobs=13)]: Done 774 tasks      | elapsed:   34.8s\n",
      "[Parallel(n_jobs=13)]: Done 1224 tasks      | elapsed:   56.0s\n",
      "[Parallel(n_jobs=13)]: Done 1774 tasks      | elapsed:  1.5min\n",
      "[Parallel(n_jobs=13)]: Done 2424 tasks      | elapsed:  2.2min\n",
      "[Parallel(n_jobs=13)]: Done 3174 tasks      | elapsed:  3.0min\n",
      "[Parallel(n_jobs=13)]: Done 4024 tasks      | elapsed:  4.0min\n",
      "[Parallel(n_jobs=13)]: Done 4974 tasks      | elapsed:  5.0min\n",
      "[Parallel(n_jobs=13)]: Done 6024 tasks      | elapsed:  6.2min\n",
      "[Parallel(n_jobs=13)]: Done 7174 tasks      | elapsed:  7.3min\n",
      "[Parallel(n_jobs=13)]: Done 8424 tasks      | elapsed:  8.3min\n",
      "[Parallel(n_jobs=13)]: Done 9774 tasks      | elapsed:  9.7min\n",
      "[Parallel(n_jobs=13)]: Done 11224 tasks      | elapsed: 11.6min\n",
      "[Parallel(n_jobs=13)]: Done 12774 tasks      | elapsed: 13.7min\n",
      "[Parallel(n_jobs=13)]: Done 14424 tasks      | elapsed: 16.1min\n",
      "[Parallel(n_jobs=13)]: Done 16174 tasks      | elapsed: 18.6min\n",
      "[Parallel(n_jobs=13)]: Done 18024 tasks      | elapsed: 20.6min\n",
      "[Parallel(n_jobs=13)]: Done 19974 tasks      | elapsed: 22.7min\n",
      "[Parallel(n_jobs=13)]: Done 22024 tasks      | elapsed: 26.3min\n",
      "[Parallel(n_jobs=13)]: Done 24174 tasks      | elapsed: 29.7min\n",
      "[Parallel(n_jobs=13)]: Done 26424 tasks      | elapsed: 32.9min\n",
      "[Parallel(n_jobs=13)]: Done 28774 tasks      | elapsed: 35.1min\n",
      "[Parallel(n_jobs=13)]: Done 31224 tasks      | elapsed: 38.2min\n",
      "[Parallel(n_jobs=13)]: Done 33774 tasks      | elapsed: 42.7min\n",
      "[Parallel(n_jobs=13)]: Done 36424 tasks      | elapsed: 45.9min\n",
      "[Parallel(n_jobs=13)]: Done 39174 tasks      | elapsed: 49.6min\n",
      "[Parallel(n_jobs=13)]: Done 42024 tasks      | elapsed: 53.7min\n",
      "[Parallel(n_jobs=13)]: Done 44974 tasks      | elapsed: 58.1min\n",
      "[Parallel(n_jobs=13)]: Done 48024 tasks      | elapsed: 61.9min\n",
      "[Parallel(n_jobs=13)]: Done 51174 tasks      | elapsed: 65.6min\n",
      "[Parallel(n_jobs=13)]: Done 54424 tasks      | elapsed: 70.7min\n",
      "[Parallel(n_jobs=13)]: Done 57774 tasks      | elapsed: 75.9min\n",
      "[Parallel(n_jobs=13)]: Done 61224 tasks      | elapsed: 80.1min\n",
      "[Parallel(n_jobs=13)]: Done 64774 tasks      | elapsed: 85.4min\n",
      "[Parallel(n_jobs=13)]: Done 68424 tasks      | elapsed: 91.2min\n",
      "[Parallel(n_jobs=13)]: Done 72174 tasks      | elapsed: 96.1min\n",
      "[Parallel(n_jobs=13)]: Done 76024 tasks      | elapsed: 100.0min\n",
      "[Parallel(n_jobs=13)]: Done 79974 tasks      | elapsed: 104.6min\n",
      "[Parallel(n_jobs=13)]: Done 84024 tasks      | elapsed: 109.0min\n",
      "[Parallel(n_jobs=13)]: Done 88174 tasks      | elapsed: 114.4min\n",
      "[Parallel(n_jobs=13)]: Done 90660 out of 90660 | elapsed: 116.7min finished\n"
     ]
    }
   ],
   "source": [
    "beta_ht_df = get_2d_ht('STAT1', ['ciliated'], 'beta')"
   ]
  },
  {
   "cell_type": "code",
   "execution_count": 25,
   "metadata": {},
   "outputs": [],
   "source": [
    "beta_ht_df.to_csv(data_path + 'beta_dc_result.csv', index=False)"
   ]
  },
  {
   "cell_type": "code",
   "execution_count": null,
   "metadata": {},
   "outputs": [],
   "source": [
    "gamma_df = get_2d_ht('STAT1', ['ciliated'], 'gamma')"
   ]
  },
  {
   "cell_type": "code",
   "execution_count": null,
   "metadata": {},
   "outputs": [],
   "source": [
    "lambda_df = get_2d_ht('STAT1', ['ciliated'], 'lambda')"
   ]
  },
  {
   "cell_type": "markdown",
   "metadata": {},
   "source": [
    "### Compute correlations between ISGs"
   ]
  },
  {
   "cell_type": "code",
   "execution_count": 17,
   "metadata": {},
   "outputs": [],
   "source": [
    "igs = ['ISG15', 'IFIT1', 'IFIT2', 'IFIT3', 'MX1', 'MX2', 'OASL']"
   ]
  },
  {
   "cell_type": "code",
   "execution_count": 19,
   "metadata": {},
   "outputs": [],
   "source": [
    "# tf = 'STAT1'\n",
    "# ct = ['ciliated']\n",
    "# stim = 'beta'\n",
    "\n",
    "def get_2d_moments_isg(tf, ct, stim):\n",
    "    \n",
    "    adata_stim = adata.copy()[\n",
    "        adata.obs.cell_type.isin(ct) & \\\n",
    "        adata.obs.stim.isin(['control', stim])].copy()\n",
    "    # time_converter={0:0, int(tp):1}\n",
    "    # adata_stim.obs['time_step'] = adata_stim.obs['time'].astype(int).apply(lambda x: time_converter[x])\n",
    "\n",
    "    memento.create_groups(adata_stim, label_columns=['time', 'donor'])\n",
    "    memento.compute_1d_moments(adata_stim, min_perc_group=.9)\n",
    "    moment_1d_df = memento.get_1d_moments(adata_stim, groupby='time')\n",
    "\n",
    "    memento.compute_2d_moments(adata_stim, list(itertools.combinations(igs, 2)))\n",
    "\n",
    "    moment_df = memento.get_2d_moments(adata_stim, groupby='time')\n",
    "    \n",
    "    return moment_df"
   ]
  },
  {
   "cell_type": "code",
   "execution_count": 20,
   "metadata": {},
   "outputs": [
    {
     "name": "stderr",
     "output_type": "stream",
     "text": [
      "/data/home/Github/scrna-parameter-estimation/dist/memento-0.0.5-py3.7.egg/memento/estimator.py:100: RuntimeWarning: invalid value encountered in log\n"
     ]
    }
   ],
   "source": [
    "beta_isg_df = get_2d_moments_isg('STAT1', ['ciliated'], 'beta')"
   ]
  },
  {
   "cell_type": "code",
   "execution_count": 22,
   "metadata": {},
   "outputs": [
    {
     "data": {
      "text/html": [
       "<div>\n",
       "<style scoped>\n",
       "    .dataframe tbody tr th:only-of-type {\n",
       "        vertical-align: middle;\n",
       "    }\n",
       "\n",
       "    .dataframe tbody tr th {\n",
       "        vertical-align: top;\n",
       "    }\n",
       "\n",
       "    .dataframe thead th {\n",
       "        text-align: right;\n",
       "    }\n",
       "</style>\n",
       "<table border=\"1\" class=\"dataframe\">\n",
       "  <thead>\n",
       "    <tr style=\"text-align: right;\">\n",
       "      <th></th>\n",
       "      <th>gene_1</th>\n",
       "      <th>gene_2</th>\n",
       "      <th>time_0</th>\n",
       "      <th>time_3</th>\n",
       "      <th>time_6</th>\n",
       "      <th>time_9</th>\n",
       "      <th>time_24</th>\n",
       "      <th>time_48</th>\n",
       "    </tr>\n",
       "  </thead>\n",
       "  <tbody>\n",
       "    <tr>\n",
       "      <th>0</th>\n",
       "      <td>ISG15</td>\n",
       "      <td>IFIT1</td>\n",
       "      <td>0.912525</td>\n",
       "      <td>0.859475</td>\n",
       "      <td>0.860717</td>\n",
       "      <td>0.894880</td>\n",
       "      <td>0.849657</td>\n",
       "      <td>0.824642</td>\n",
       "    </tr>\n",
       "    <tr>\n",
       "      <th>1</th>\n",
       "      <td>ISG15</td>\n",
       "      <td>IFIT2</td>\n",
       "      <td>0.709213</td>\n",
       "      <td>0.766188</td>\n",
       "      <td>0.748801</td>\n",
       "      <td>0.839606</td>\n",
       "      <td>0.855540</td>\n",
       "      <td>0.743067</td>\n",
       "    </tr>\n",
       "    <tr>\n",
       "      <th>2</th>\n",
       "      <td>ISG15</td>\n",
       "      <td>IFIT3</td>\n",
       "      <td>0.738290</td>\n",
       "      <td>0.768141</td>\n",
       "      <td>0.814666</td>\n",
       "      <td>0.828783</td>\n",
       "      <td>0.823922</td>\n",
       "      <td>0.729833</td>\n",
       "    </tr>\n",
       "    <tr>\n",
       "      <th>3</th>\n",
       "      <td>ISG15</td>\n",
       "      <td>MX1</td>\n",
       "      <td>0.819765</td>\n",
       "      <td>0.814883</td>\n",
       "      <td>0.833459</td>\n",
       "      <td>0.875096</td>\n",
       "      <td>0.857120</td>\n",
       "      <td>0.787441</td>\n",
       "    </tr>\n",
       "    <tr>\n",
       "      <th>4</th>\n",
       "      <td>ISG15</td>\n",
       "      <td>MX2</td>\n",
       "      <td>0.731378</td>\n",
       "      <td>0.700568</td>\n",
       "      <td>0.671598</td>\n",
       "      <td>0.814559</td>\n",
       "      <td>0.801095</td>\n",
       "      <td>0.747115</td>\n",
       "    </tr>\n",
       "    <tr>\n",
       "      <th>5</th>\n",
       "      <td>ISG15</td>\n",
       "      <td>OASL</td>\n",
       "      <td>0.702671</td>\n",
       "      <td>0.723763</td>\n",
       "      <td>0.680118</td>\n",
       "      <td>0.818876</td>\n",
       "      <td>0.741394</td>\n",
       "      <td>0.795438</td>\n",
       "    </tr>\n",
       "    <tr>\n",
       "      <th>6</th>\n",
       "      <td>IFIT1</td>\n",
       "      <td>IFIT2</td>\n",
       "      <td>0.627455</td>\n",
       "      <td>0.830298</td>\n",
       "      <td>0.807820</td>\n",
       "      <td>0.860115</td>\n",
       "      <td>0.852993</td>\n",
       "      <td>0.865924</td>\n",
       "    </tr>\n",
       "    <tr>\n",
       "      <th>7</th>\n",
       "      <td>IFIT1</td>\n",
       "      <td>IFIT3</td>\n",
       "      <td>0.802160</td>\n",
       "      <td>0.856047</td>\n",
       "      <td>0.889002</td>\n",
       "      <td>0.881489</td>\n",
       "      <td>0.884011</td>\n",
       "      <td>0.875954</td>\n",
       "    </tr>\n",
       "    <tr>\n",
       "      <th>8</th>\n",
       "      <td>IFIT1</td>\n",
       "      <td>MX1</td>\n",
       "      <td>0.970948</td>\n",
       "      <td>0.821224</td>\n",
       "      <td>0.825487</td>\n",
       "      <td>0.831096</td>\n",
       "      <td>0.733519</td>\n",
       "      <td>0.771687</td>\n",
       "    </tr>\n",
       "    <tr>\n",
       "      <th>9</th>\n",
       "      <td>IFIT1</td>\n",
       "      <td>MX2</td>\n",
       "      <td>0.690637</td>\n",
       "      <td>0.677439</td>\n",
       "      <td>0.632088</td>\n",
       "      <td>0.792340</td>\n",
       "      <td>0.712742</td>\n",
       "      <td>0.747235</td>\n",
       "    </tr>\n",
       "    <tr>\n",
       "      <th>10</th>\n",
       "      <td>IFIT1</td>\n",
       "      <td>OASL</td>\n",
       "      <td>0.628502</td>\n",
       "      <td>0.752242</td>\n",
       "      <td>0.695485</td>\n",
       "      <td>0.804211</td>\n",
       "      <td>0.768171</td>\n",
       "      <td>0.826975</td>\n",
       "    </tr>\n",
       "    <tr>\n",
       "      <th>11</th>\n",
       "      <td>IFIT2</td>\n",
       "      <td>IFIT3</td>\n",
       "      <td>0.696193</td>\n",
       "      <td>0.837954</td>\n",
       "      <td>0.829943</td>\n",
       "      <td>0.836865</td>\n",
       "      <td>0.830478</td>\n",
       "      <td>0.862385</td>\n",
       "    </tr>\n",
       "    <tr>\n",
       "      <th>12</th>\n",
       "      <td>IFIT2</td>\n",
       "      <td>MX1</td>\n",
       "      <td>0.515990</td>\n",
       "      <td>0.698023</td>\n",
       "      <td>0.703704</td>\n",
       "      <td>0.812500</td>\n",
       "      <td>0.746478</td>\n",
       "      <td>0.668681</td>\n",
       "    </tr>\n",
       "    <tr>\n",
       "      <th>13</th>\n",
       "      <td>IFIT2</td>\n",
       "      <td>MX2</td>\n",
       "      <td>0.513598</td>\n",
       "      <td>0.652613</td>\n",
       "      <td>0.645119</td>\n",
       "      <td>0.779230</td>\n",
       "      <td>0.759103</td>\n",
       "      <td>0.751041</td>\n",
       "    </tr>\n",
       "    <tr>\n",
       "      <th>14</th>\n",
       "      <td>IFIT2</td>\n",
       "      <td>OASL</td>\n",
       "      <td>0.795051</td>\n",
       "      <td>0.748258</td>\n",
       "      <td>0.731663</td>\n",
       "      <td>0.789200</td>\n",
       "      <td>0.774611</td>\n",
       "      <td>0.736705</td>\n",
       "    </tr>\n",
       "    <tr>\n",
       "      <th>15</th>\n",
       "      <td>IFIT3</td>\n",
       "      <td>MX1</td>\n",
       "      <td>0.734473</td>\n",
       "      <td>0.763209</td>\n",
       "      <td>0.800982</td>\n",
       "      <td>0.858110</td>\n",
       "      <td>0.766818</td>\n",
       "      <td>0.706254</td>\n",
       "    </tr>\n",
       "    <tr>\n",
       "      <th>16</th>\n",
       "      <td>IFIT3</td>\n",
       "      <td>MX2</td>\n",
       "      <td>0.608246</td>\n",
       "      <td>0.640650</td>\n",
       "      <td>0.621902</td>\n",
       "      <td>0.759888</td>\n",
       "      <td>0.721426</td>\n",
       "      <td>0.706908</td>\n",
       "    </tr>\n",
       "    <tr>\n",
       "      <th>17</th>\n",
       "      <td>IFIT3</td>\n",
       "      <td>OASL</td>\n",
       "      <td>0.860601</td>\n",
       "      <td>0.779452</td>\n",
       "      <td>0.727524</td>\n",
       "      <td>0.749129</td>\n",
       "      <td>0.743811</td>\n",
       "      <td>0.757626</td>\n",
       "    </tr>\n",
       "    <tr>\n",
       "      <th>18</th>\n",
       "      <td>MX1</td>\n",
       "      <td>MX2</td>\n",
       "      <td>0.773256</td>\n",
       "      <td>0.772469</td>\n",
       "      <td>0.758207</td>\n",
       "      <td>0.873694</td>\n",
       "      <td>0.813110</td>\n",
       "      <td>0.811610</td>\n",
       "    </tr>\n",
       "    <tr>\n",
       "      <th>19</th>\n",
       "      <td>MX1</td>\n",
       "      <td>OASL</td>\n",
       "      <td>0.564422</td>\n",
       "      <td>0.660583</td>\n",
       "      <td>0.565555</td>\n",
       "      <td>0.714459</td>\n",
       "      <td>0.625665</td>\n",
       "      <td>0.796824</td>\n",
       "    </tr>\n",
       "    <tr>\n",
       "      <th>20</th>\n",
       "      <td>MX2</td>\n",
       "      <td>OASL</td>\n",
       "      <td>0.586160</td>\n",
       "      <td>0.629847</td>\n",
       "      <td>0.505000</td>\n",
       "      <td>0.756339</td>\n",
       "      <td>0.654254</td>\n",
       "      <td>0.744816</td>\n",
       "    </tr>\n",
       "  </tbody>\n",
       "</table>\n",
       "</div>"
      ],
      "text/plain": [
       "   gene_1 gene_2    time_0    time_3    time_6    time_9   time_24   time_48\n",
       "0   ISG15  IFIT1  0.912525  0.859475  0.860717  0.894880  0.849657  0.824642\n",
       "1   ISG15  IFIT2  0.709213  0.766188  0.748801  0.839606  0.855540  0.743067\n",
       "2   ISG15  IFIT3  0.738290  0.768141  0.814666  0.828783  0.823922  0.729833\n",
       "3   ISG15    MX1  0.819765  0.814883  0.833459  0.875096  0.857120  0.787441\n",
       "4   ISG15    MX2  0.731378  0.700568  0.671598  0.814559  0.801095  0.747115\n",
       "5   ISG15   OASL  0.702671  0.723763  0.680118  0.818876  0.741394  0.795438\n",
       "6   IFIT1  IFIT2  0.627455  0.830298  0.807820  0.860115  0.852993  0.865924\n",
       "7   IFIT1  IFIT3  0.802160  0.856047  0.889002  0.881489  0.884011  0.875954\n",
       "8   IFIT1    MX1  0.970948  0.821224  0.825487  0.831096  0.733519  0.771687\n",
       "9   IFIT1    MX2  0.690637  0.677439  0.632088  0.792340  0.712742  0.747235\n",
       "10  IFIT1   OASL  0.628502  0.752242  0.695485  0.804211  0.768171  0.826975\n",
       "11  IFIT2  IFIT3  0.696193  0.837954  0.829943  0.836865  0.830478  0.862385\n",
       "12  IFIT2    MX1  0.515990  0.698023  0.703704  0.812500  0.746478  0.668681\n",
       "13  IFIT2    MX2  0.513598  0.652613  0.645119  0.779230  0.759103  0.751041\n",
       "14  IFIT2   OASL  0.795051  0.748258  0.731663  0.789200  0.774611  0.736705\n",
       "15  IFIT3    MX1  0.734473  0.763209  0.800982  0.858110  0.766818  0.706254\n",
       "16  IFIT3    MX2  0.608246  0.640650  0.621902  0.759888  0.721426  0.706908\n",
       "17  IFIT3   OASL  0.860601  0.779452  0.727524  0.749129  0.743811  0.757626\n",
       "18    MX1    MX2  0.773256  0.772469  0.758207  0.873694  0.813110  0.811610\n",
       "19    MX1   OASL  0.564422  0.660583  0.565555  0.714459  0.625665  0.796824\n",
       "20    MX2   OASL  0.586160  0.629847  0.505000  0.756339  0.654254  0.744816"
      ]
     },
     "execution_count": 22,
     "metadata": {},
     "output_type": "execute_result"
    }
   ],
   "source": [
    "beta_isg_df[['gene_1', 'gene_2'] + ['time_' + str(i) for i in [0, 3, 6, 9, 24, 48]]]"
   ]
  },
  {
   "cell_type": "markdown",
   "metadata": {},
   "source": [
    "### Compute correlations for STAT1"
   ]
  },
  {
   "cell_type": "code",
   "execution_count": 15,
   "metadata": {},
   "outputs": [],
   "source": [
    "tf = 'STAT1'\n",
    "ct = ['ciliated']\n",
    "stim = 'beta'\n",
    "\n",
    "def get_2d_moments(tf, ct, stim):\n",
    "    \n",
    "    adata_stim = adata.copy()[\n",
    "        adata.obs.cell_type.isin(ct) & \\\n",
    "        adata.obs.stim.isin(['control', stim])].copy()\n",
    "    # time_converter={0:0, int(tp):1}\n",
    "    # adata_stim.obs['time_step'] = adata_stim.obs['time'].astype(int).apply(lambda x: time_converter[x])\n",
    "\n",
    "    memento.create_groups(adata_stim, label_columns=['time', 'donor'])\n",
    "    memento.compute_1d_moments(adata_stim, min_perc_group=.9)\n",
    "    moment_1d_df = memento.get_1d_moments(adata_stim, groupby='time')\n",
    "\n",
    "    memento.compute_2d_moments(adata_stim, list(itertools.product([tf], adata_stim.var.index)))\n",
    "\n",
    "    moment_df = memento.get_2d_moments(adata_stim, groupby='time')\n",
    "    \n",
    "#     memento.ht_2d_moments( \n",
    "#         adata_stim, \n",
    "#         formula_like='1 + time_step',\n",
    "#         cov_column='time_step', \n",
    "#         num_boot=10000, \n",
    "#         verbose=1,\n",
    "#         num_cpus=13)\n",
    "    \n",
    "#     ht_df = memento.get_2d_ht_result(adata_stim)\n",
    "    \n",
    "    return moment_df"
   ]
  },
  {
   "cell_type": "code",
   "execution_count": 16,
   "metadata": {},
   "outputs": [
    {
     "name": "stderr",
     "output_type": "stream",
     "text": [
      "/data/home/Github/scrna-parameter-estimation/dist/memento-0.0.4-py3.7.egg/memento/estimator.py:100: RuntimeWarning: invalid value encountered in log\n",
      "/data/home/Github/scrna-parameter-estimation/dist/memento-0.0.4-py3.7.egg/memento/main.py:578: RuntimeWarning: invalid value encountered in true_divide\n",
      "/data/home/anaconda3/envs/single_cell/lib/python3.7/site-packages/ipykernel_launcher.py:8: FutureWarning: Sorting because non-concatenation axis is not aligned. A future version\n",
      "of pandas will change to not sort by default.\n",
      "\n",
      "To accept the future behavior, pass 'sort=False'.\n",
      "\n",
      "To retain the current behavior and silence the warning, pass 'sort=True'.\n",
      "\n",
      "  \n"
     ]
    }
   ],
   "source": [
    "beta_df = get_2d_moments('STAT1', ['ciliated'], 'beta')\n",
    "alpha_df = get_2d_moments('STAT1', ['ciliated'], 'alpha')\n",
    "gamma_df = get_2d_moments('STAT1', ['ciliated'], 'gamma')\n",
    "lambda_df = get_2d_moments('STAT1', ['ciliated'], 'lambda')\n",
    "\n",
    "beta_df['stim'] = 'beta'\n",
    "alpha_df['stim'] = 'alpha'\n",
    "df = pd.concat([alpha_df, beta_df])"
   ]
  },
  {
   "cell_type": "code",
   "execution_count": 19,
   "metadata": {},
   "outputs": [],
   "source": [
    "beta_df['isgf3'] = beta_df.gene_2.apply(lambda x: 'in TSS' if x in isgf3_genes else 'rest')"
   ]
  },
  {
   "cell_type": "markdown",
   "metadata": {},
   "source": [
    "### ISGF3 correlations for alpha/beta interferon"
   ]
  },
  {
   "cell_type": "code",
   "execution_count": 32,
   "metadata": {},
   "outputs": [
    {
     "data": {
      "text/html": [
       "<div>\n",
       "<style scoped>\n",
       "    .dataframe tbody tr th:only-of-type {\n",
       "        vertical-align: middle;\n",
       "    }\n",
       "\n",
       "    .dataframe tbody tr th {\n",
       "        vertical-align: top;\n",
       "    }\n",
       "\n",
       "    .dataframe thead th {\n",
       "        text-align: right;\n",
       "    }\n",
       "</style>\n",
       "<table border=\"1\" class=\"dataframe\">\n",
       "  <thead>\n",
       "    <tr style=\"text-align: right;\">\n",
       "      <th></th>\n",
       "      <th>gene_1</th>\n",
       "      <th>gene_2</th>\n",
       "      <th>time_9</th>\n",
       "      <th>time_3</th>\n",
       "      <th>time_0</th>\n",
       "      <th>time_6</th>\n",
       "      <th>time_48</th>\n",
       "      <th>time_24</th>\n",
       "      <th>stim</th>\n",
       "      <th>isgf3</th>\n",
       "    </tr>\n",
       "  </thead>\n",
       "  <tbody>\n",
       "    <tr>\n",
       "      <th>0</th>\n",
       "      <td>STAT1</td>\n",
       "      <td>LINC01409</td>\n",
       "      <td>-0.175255</td>\n",
       "      <td>0.022280</td>\n",
       "      <td>0.389398</td>\n",
       "      <td>0.091183</td>\n",
       "      <td>-0.208910</td>\n",
       "      <td>-0.145140</td>\n",
       "      <td>beta</td>\n",
       "      <td>rest</td>\n",
       "    </tr>\n",
       "    <tr>\n",
       "      <th>1</th>\n",
       "      <td>STAT1</td>\n",
       "      <td>NOC2L</td>\n",
       "      <td>-0.070694</td>\n",
       "      <td>0.070377</td>\n",
       "      <td>0.127526</td>\n",
       "      <td>0.105913</td>\n",
       "      <td>-0.018320</td>\n",
       "      <td>-0.201853</td>\n",
       "      <td>beta</td>\n",
       "      <td>rest</td>\n",
       "    </tr>\n",
       "    <tr>\n",
       "      <th>2</th>\n",
       "      <td>STAT1</td>\n",
       "      <td>HES4</td>\n",
       "      <td>0.433971</td>\n",
       "      <td>0.389929</td>\n",
       "      <td>0.139460</td>\n",
       "      <td>0.436864</td>\n",
       "      <td>0.531960</td>\n",
       "      <td>0.601891</td>\n",
       "      <td>beta</td>\n",
       "      <td>rest</td>\n",
       "    </tr>\n",
       "    <tr>\n",
       "      <th>3</th>\n",
       "      <td>STAT1</td>\n",
       "      <td>ISG15</td>\n",
       "      <td>0.756565</td>\n",
       "      <td>0.751469</td>\n",
       "      <td>0.712075</td>\n",
       "      <td>0.702480</td>\n",
       "      <td>0.766635</td>\n",
       "      <td>0.835480</td>\n",
       "      <td>beta</td>\n",
       "      <td>in TSS</td>\n",
       "    </tr>\n",
       "    <tr>\n",
       "      <th>4</th>\n",
       "      <td>STAT1</td>\n",
       "      <td>AGRN</td>\n",
       "      <td>0.447522</td>\n",
       "      <td>0.238193</td>\n",
       "      <td>0.227282</td>\n",
       "      <td>0.222979</td>\n",
       "      <td>0.311116</td>\n",
       "      <td>0.186166</td>\n",
       "      <td>beta</td>\n",
       "      <td>rest</td>\n",
       "    </tr>\n",
       "  </tbody>\n",
       "</table>\n",
       "</div>"
      ],
      "text/plain": [
       "  gene_1     gene_2    time_9    time_3    time_0    time_6   time_48  \\\n",
       "0  STAT1  LINC01409 -0.175255  0.022280  0.389398  0.091183 -0.208910   \n",
       "1  STAT1      NOC2L -0.070694  0.070377  0.127526  0.105913 -0.018320   \n",
       "2  STAT1       HES4  0.433971  0.389929  0.139460  0.436864  0.531960   \n",
       "3  STAT1      ISG15  0.756565  0.751469  0.712075  0.702480  0.766635   \n",
       "4  STAT1       AGRN  0.447522  0.238193  0.227282  0.222979  0.311116   \n",
       "\n",
       "    time_24  stim   isgf3  \n",
       "0 -0.145140  beta    rest  \n",
       "1 -0.201853  beta    rest  \n",
       "2  0.601891  beta    rest  \n",
       "3  0.835480  beta  in TSS  \n",
       "4  0.186166  beta    rest  "
      ]
     },
     "execution_count": 32,
     "metadata": {},
     "output_type": "execute_result"
    }
   ],
   "source": [
    "beta_df.head(5)"
   ]
  },
  {
   "cell_type": "code",
   "execution_count": 33,
   "metadata": {},
   "outputs": [
    {
     "data": {
      "text/html": [
       "<div>\n",
       "<style scoped>\n",
       "    .dataframe tbody tr th:only-of-type {\n",
       "        vertical-align: middle;\n",
       "    }\n",
       "\n",
       "    .dataframe tbody tr th {\n",
       "        vertical-align: top;\n",
       "    }\n",
       "\n",
       "    .dataframe thead th {\n",
       "        text-align: right;\n",
       "    }\n",
       "</style>\n",
       "<table border=\"1\" class=\"dataframe\">\n",
       "  <thead>\n",
       "    <tr style=\"text-align: right;\">\n",
       "      <th></th>\n",
       "      <th>gene_1</th>\n",
       "      <th>gene_2</th>\n",
       "      <th>time_9</th>\n",
       "      <th>time_3</th>\n",
       "      <th>time_0</th>\n",
       "      <th>time_48</th>\n",
       "      <th>time_6</th>\n",
       "      <th>time_24</th>\n",
       "      <th>stim</th>\n",
       "    </tr>\n",
       "  </thead>\n",
       "  <tbody>\n",
       "    <tr>\n",
       "      <th>0</th>\n",
       "      <td>STAT1</td>\n",
       "      <td>LINC01409</td>\n",
       "      <td>0.058433</td>\n",
       "      <td>0.172438</td>\n",
       "      <td>0.389398</td>\n",
       "      <td>0.078051</td>\n",
       "      <td>0.003680</td>\n",
       "      <td>0.365823</td>\n",
       "      <td>alpha</td>\n",
       "    </tr>\n",
       "    <tr>\n",
       "      <th>1</th>\n",
       "      <td>STAT1</td>\n",
       "      <td>NOC2L</td>\n",
       "      <td>-0.029808</td>\n",
       "      <td>0.189881</td>\n",
       "      <td>0.127526</td>\n",
       "      <td>0.249579</td>\n",
       "      <td>0.348690</td>\n",
       "      <td>-0.052135</td>\n",
       "      <td>alpha</td>\n",
       "    </tr>\n",
       "    <tr>\n",
       "      <th>2</th>\n",
       "      <td>STAT1</td>\n",
       "      <td>HES4</td>\n",
       "      <td>0.438277</td>\n",
       "      <td>0.379277</td>\n",
       "      <td>0.139460</td>\n",
       "      <td>0.363275</td>\n",
       "      <td>0.388632</td>\n",
       "      <td>0.525524</td>\n",
       "      <td>alpha</td>\n",
       "    </tr>\n",
       "    <tr>\n",
       "      <th>3</th>\n",
       "      <td>STAT1</td>\n",
       "      <td>ISG15</td>\n",
       "      <td>0.695766</td>\n",
       "      <td>0.733140</td>\n",
       "      <td>0.712075</td>\n",
       "      <td>0.699458</td>\n",
       "      <td>0.661231</td>\n",
       "      <td>0.768229</td>\n",
       "      <td>alpha</td>\n",
       "    </tr>\n",
       "    <tr>\n",
       "      <th>4</th>\n",
       "      <td>STAT1</td>\n",
       "      <td>AGRN</td>\n",
       "      <td>0.204388</td>\n",
       "      <td>0.225468</td>\n",
       "      <td>0.227282</td>\n",
       "      <td>0.297670</td>\n",
       "      <td>0.132081</td>\n",
       "      <td>0.174836</td>\n",
       "      <td>alpha</td>\n",
       "    </tr>\n",
       "  </tbody>\n",
       "</table>\n",
       "</div>"
      ],
      "text/plain": [
       "  gene_1     gene_2    time_9    time_3    time_0   time_48    time_6  \\\n",
       "0  STAT1  LINC01409  0.058433  0.172438  0.389398  0.078051  0.003680   \n",
       "1  STAT1      NOC2L -0.029808  0.189881  0.127526  0.249579  0.348690   \n",
       "2  STAT1       HES4  0.438277  0.379277  0.139460  0.363275  0.388632   \n",
       "3  STAT1      ISG15  0.695766  0.733140  0.712075  0.699458  0.661231   \n",
       "4  STAT1       AGRN  0.204388  0.225468  0.227282  0.297670  0.132081   \n",
       "\n",
       "    time_24   stim  \n",
       "0  0.365823  alpha  \n",
       "1 -0.052135  alpha  \n",
       "2  0.525524  alpha  \n",
       "3  0.768229  alpha  \n",
       "4  0.174836  alpha  "
      ]
     },
     "execution_count": 33,
     "metadata": {},
     "output_type": "execute_result"
    }
   ],
   "source": [
    "alpha_df.head(5)"
   ]
  },
  {
   "cell_type": "code",
   "execution_count": 28,
   "metadata": {},
   "outputs": [],
   "source": [
    "a =  beta_df[['gene_2', 'time_0']].rename(columns={'gene_2':'gene', 'time_0':'corr'})\n",
    "b =  beta_df[['gene_2', 'time_6']].rename(columns={'gene_2':'gene', 'time_6':'corr'})\n",
    "\n",
    "a['time'] = 'ctrl'\n",
    "b['time'] = 'stim'\n",
    "beta_long_df = pd.concat([a, b])\n",
    "\n",
    "beta_long_df['isgf3'] = beta_long_df.gene.apply(lambda x: 'in TSS' if x in isgf3_genes else 'rest')"
   ]
  },
  {
   "cell_type": "code",
   "execution_count": 29,
   "metadata": {},
   "outputs": [],
   "source": [
    "a =  alpha_df[['gene_2', 'time_0']].rename(columns={'gene_2':'gene', 'time_0':'corr'})\n",
    "b =  alpha_df[['gene_2', 'time_6']].rename(columns={'gene_2':'gene', 'time_6':'corr'})\n",
    "\n",
    "a['time'] = 'ctrl'\n",
    "b['time'] = 'stim'\n",
    "alpha_long_df = pd.concat([a, b])\n",
    "\n",
    "alpha_long_df['isgf3'] = alpha_long_df.gene.apply(lambda x: 'in TSS' if x in isgf3_genes else 'rest')"
   ]
  },
  {
   "cell_type": "code",
   "execution_count": 22,
   "metadata": {},
   "outputs": [],
   "source": [
    "import matplotlib.pylab as pylab\n",
    "params = {'legend.fontsize': 'medium',\n",
    "         'axes.labelsize': 'medium',\n",
    "         'axes.titlesize':'medium',\n",
    "         'figure.titlesize':'medium',\n",
    "         'xtick.labelsize':'small',\n",
    "         'ytick.labelsize':'small'}\n",
    "pylab.rcParams.update(params)\n"
   ]
  },
  {
   "cell_type": "code",
   "execution_count": 42,
   "metadata": {},
   "outputs": [],
   "source": [
    "pbmc_data_path = '/data_volume/parameter_estimation/'\n",
    "pbmc_long_df = pd.read_csv(pbmc_data_path + 'stat1_corrs.csv').rename(columns={'stim':'time'})"
   ]
  },
  {
   "cell_type": "code",
   "execution_count": 43,
   "metadata": {},
   "outputs": [
    {
     "data": {
      "text/html": [
       "<div>\n",
       "<style scoped>\n",
       "    .dataframe tbody tr th:only-of-type {\n",
       "        vertical-align: middle;\n",
       "    }\n",
       "\n",
       "    .dataframe tbody tr th {\n",
       "        vertical-align: top;\n",
       "    }\n",
       "\n",
       "    .dataframe thead th {\n",
       "        text-align: right;\n",
       "    }\n",
       "</style>\n",
       "<table border=\"1\" class=\"dataframe\">\n",
       "  <thead>\n",
       "    <tr style=\"text-align: right;\">\n",
       "      <th></th>\n",
       "      <th>gene</th>\n",
       "      <th>corr</th>\n",
       "      <th>time</th>\n",
       "      <th>isgf3</th>\n",
       "      <th>high_exp</th>\n",
       "    </tr>\n",
       "  </thead>\n",
       "  <tbody>\n",
       "    <tr>\n",
       "      <th>0</th>\n",
       "      <td>ISG15</td>\n",
       "      <td>0.057578</td>\n",
       "      <td>ctrl</td>\n",
       "      <td>ISGF3</td>\n",
       "      <td>True</td>\n",
       "    </tr>\n",
       "    <tr>\n",
       "      <th>1</th>\n",
       "      <td>AURKAIP1</td>\n",
       "      <td>0.128053</td>\n",
       "      <td>ctrl</td>\n",
       "      <td>rest</td>\n",
       "      <td>True</td>\n",
       "    </tr>\n",
       "    <tr>\n",
       "      <th>2</th>\n",
       "      <td>MRPL20</td>\n",
       "      <td>-0.059311</td>\n",
       "      <td>ctrl</td>\n",
       "      <td>rest</td>\n",
       "      <td>True</td>\n",
       "    </tr>\n",
       "    <tr>\n",
       "      <th>3</th>\n",
       "      <td>SSU72</td>\n",
       "      <td>-0.078957</td>\n",
       "      <td>ctrl</td>\n",
       "      <td>ISGF3</td>\n",
       "      <td>True</td>\n",
       "    </tr>\n",
       "    <tr>\n",
       "      <th>4</th>\n",
       "      <td>GNB1</td>\n",
       "      <td>-0.000787</td>\n",
       "      <td>ctrl</td>\n",
       "      <td>rest</td>\n",
       "      <td>True</td>\n",
       "    </tr>\n",
       "  </tbody>\n",
       "</table>\n",
       "</div>"
      ],
      "text/plain": [
       "       gene      corr  time  isgf3  high_exp\n",
       "0     ISG15  0.057578  ctrl  ISGF3      True\n",
       "1  AURKAIP1  0.128053  ctrl   rest      True\n",
       "2    MRPL20 -0.059311  ctrl   rest      True\n",
       "3     SSU72 -0.078957  ctrl  ISGF3      True\n",
       "4      GNB1 -0.000787  ctrl   rest      True"
      ]
     },
     "execution_count": 43,
     "metadata": {},
     "output_type": "execute_result"
    }
   ],
   "source": [
    "pbmc_long_df.head(5)"
   ]
  },
  {
   "cell_type": "code",
   "execution_count": 45,
   "metadata": {},
   "outputs": [],
   "source": [
    "ab_joined = alpha_long_df.merge(beta_long_df, on=['gene', 'time'], suffixes=('_alpha', '_beta'))\n",
    "pbmc_joined = beta_long_df.merge(pbmc_long_df, on=['gene', 'time'], suffixes=('_beta', '_pbmc'))"
   ]
  },
  {
   "cell_type": "code",
   "execution_count": 74,
   "metadata": {},
   "outputs": [
    {
     "data": {
      "text/html": [
       "<div>\n",
       "<style scoped>\n",
       "    .dataframe tbody tr th:only-of-type {\n",
       "        vertical-align: middle;\n",
       "    }\n",
       "\n",
       "    .dataframe tbody tr th {\n",
       "        vertical-align: top;\n",
       "    }\n",
       "\n",
       "    .dataframe thead th {\n",
       "        text-align: right;\n",
       "    }\n",
       "</style>\n",
       "<table border=\"1\" class=\"dataframe\">\n",
       "  <thead>\n",
       "    <tr style=\"text-align: right;\">\n",
       "      <th></th>\n",
       "      <th>gene</th>\n",
       "      <th>corr_beta</th>\n",
       "      <th>time</th>\n",
       "      <th>isgf3_beta</th>\n",
       "      <th>corr_pbmc</th>\n",
       "      <th>isgf3_pbmc</th>\n",
       "      <th>high_exp</th>\n",
       "    </tr>\n",
       "  </thead>\n",
       "  <tbody>\n",
       "    <tr>\n",
       "      <th>0</th>\n",
       "      <td>ISG15</td>\n",
       "      <td>0.712075</td>\n",
       "      <td>ctrl</td>\n",
       "      <td>in TSS</td>\n",
       "      <td>0.057578</td>\n",
       "      <td>ISGF3</td>\n",
       "      <td>True</td>\n",
       "    </tr>\n",
       "    <tr>\n",
       "      <th>1</th>\n",
       "      <td>AURKAIP1</td>\n",
       "      <td>0.142373</td>\n",
       "      <td>ctrl</td>\n",
       "      <td>rest</td>\n",
       "      <td>0.128053</td>\n",
       "      <td>rest</td>\n",
       "      <td>True</td>\n",
       "    </tr>\n",
       "    <tr>\n",
       "      <th>2</th>\n",
       "      <td>MRPL20</td>\n",
       "      <td>0.047689</td>\n",
       "      <td>ctrl</td>\n",
       "      <td>rest</td>\n",
       "      <td>-0.059311</td>\n",
       "      <td>rest</td>\n",
       "      <td>True</td>\n",
       "    </tr>\n",
       "    <tr>\n",
       "      <th>3</th>\n",
       "      <td>SSU72</td>\n",
       "      <td>-0.026395</td>\n",
       "      <td>ctrl</td>\n",
       "      <td>rest</td>\n",
       "      <td>-0.078957</td>\n",
       "      <td>ISGF3</td>\n",
       "      <td>True</td>\n",
       "    </tr>\n",
       "    <tr>\n",
       "      <th>4</th>\n",
       "      <td>GNB1</td>\n",
       "      <td>0.095139</td>\n",
       "      <td>ctrl</td>\n",
       "      <td>rest</td>\n",
       "      <td>-0.000787</td>\n",
       "      <td>rest</td>\n",
       "      <td>True</td>\n",
       "    </tr>\n",
       "  </tbody>\n",
       "</table>\n",
       "</div>"
      ],
      "text/plain": [
       "       gene  corr_beta  time isgf3_beta  corr_pbmc isgf3_pbmc  high_exp\n",
       "0     ISG15   0.712075  ctrl     in TSS   0.057578      ISGF3      True\n",
       "1  AURKAIP1   0.142373  ctrl       rest   0.128053       rest      True\n",
       "2    MRPL20   0.047689  ctrl       rest  -0.059311       rest      True\n",
       "3     SSU72  -0.026395  ctrl       rest  -0.078957      ISGF3      True\n",
       "4      GNB1   0.095139  ctrl       rest  -0.000787       rest      True"
      ]
     },
     "execution_count": 74,
     "metadata": {},
     "output_type": "execute_result"
    }
   ],
   "source": [
    "pbmc_joined.head(5)"
   ]
  },
  {
   "cell_type": "code",
   "execution_count": 70,
   "metadata": {},
   "outputs": [
    {
     "data": {
      "text/plain": [
       "(0.1712953648060725, 2.201513571182445e-10)"
      ]
     },
     "execution_count": 70,
     "metadata": {},
     "output_type": "execute_result"
    }
   ],
   "source": [
    "stats.pearsonr(pbmc_joined.query('time == \"stim\"').corr_beta, pbmc_joined.query('time == \"stim\"').corr_pbmc)"
   ]
  },
  {
   "cell_type": "code",
   "execution_count": 77,
   "metadata": {},
   "outputs": [
    {
     "data": {
      "text/plain": [
       "(0.6929252536906498, 0.0)"
      ]
     },
     "execution_count": 77,
     "metadata": {},
     "output_type": "execute_result"
    }
   ],
   "source": [
    "stats.pearsonr(ab_joined.query('time == \"stim\"').corr_beta, ab_joined.query('time == \"stim\"').corr_alpha)"
   ]
  },
  {
   "cell_type": "code",
   "execution_count": 69,
   "metadata": {},
   "outputs": [
    {
     "data": {
      "image/png": "[encoded data removed]",
      "text/plain": [
       "<Figure size 144x108 with 1 Axes>"
      ]
     },
     "metadata": {
      "needs_background": "light"
     },
     "output_type": "display_data"
    }
   ],
   "source": [
    "plt.figure(figsize=(2, 1.5))\n",
    "plt.scatter(ab_joined.query('time == \"stim\"').corr_beta, ab_joined.query('time == \"stim\"').corr_alpha, s=0.01, color='grey')\n",
    "plt.ylabel('STAT1 Corr IFN-A'); plt.xlabel('STAT1 Corr IFN-B')\n",
    "plt.savefig(fig_path + 'stat1_corr_ab.png', bbox_inches='tight', dpi=300)\n"
   ]
  },
  {
   "cell_type": "code",
   "execution_count": 39,
   "metadata": {},
   "outputs": [
    {
     "data": {
      "image/png": "[encoded data removed]",
      "text/plain": [
       "<Figure size 72x108 with 1 Axes>"
      ]
     },
     "metadata": {
      "needs_background": "light"
     },
     "output_type": "display_data"
    }
   ],
   "source": [
    "plt.figure(figsize=(1, 1.5))\n",
    "sns.boxplot(x='time', y='corr', hue='isgf3', data=alpha_long_df, fliersize=0.1)\n",
    "\n",
    "plt.xlabel('Cell type'); plt.ylabel('Corr with STAT1');\n",
    "plt.legend([], frameon=False)\n",
    "# plt.legend(loc='upper center', ncol=2, bbox_to_anchor=(0.5, 1.4), frameon=False)\n",
    "# plt.ylim(-.8, 0.6)\n",
    "plt.savefig(fig_path + 'isgf3_vs_rest_alpha.pdf', bbox_inches='tight')\n",
    "\n"
   ]
  },
  {
   "cell_type": "code",
   "execution_count": 40,
   "metadata": {},
   "outputs": [
    {
     "data": {
      "image/png": "[encoded data removed]",
      "text/plain": [
       "<Figure size 72x108 with 1 Axes>"
      ]
     },
     "metadata": {
      "needs_background": "light"
     },
     "output_type": "display_data"
    }
   ],
   "source": [
    "plt.figure(figsize=(1, 1.5))\n",
    "sns.boxplot(x='time', y='corr', hue='isgf3', data=beta_long_df, fliersize=0.1)\n",
    "\n",
    "plt.xlabel('Cell type'); plt.ylabel('Corr with STAT1');\n",
    "plt.legend([], frameon=False)\n",
    "\n",
    "# plt.legend(loc='upper center', ncol=2, bbox_to_anchor=(0.5, 1.15))\n",
    "# plt.ylim(-.8, 0.6)\n",
    "plt.savefig(fig_path + 'isgf3_vs_rest_beta.pdf', bbox_inches='tight')\n",
    "\n"
   ]
  },
  {
   "cell_type": "code",
   "execution_count": 21,
   "metadata": {},
   "outputs": [
    {
     "data": {
      "text/html": [
       "<div>\n",
       "<style scoped>\n",
       "    .dataframe tbody tr th:only-of-type {\n",
       "        vertical-align: middle;\n",
       "    }\n",
       "\n",
       "    .dataframe tbody tr th {\n",
       "        vertical-align: top;\n",
       "    }\n",
       "\n",
       "    .dataframe thead th {\n",
       "        text-align: right;\n",
       "    }\n",
       "</style>\n",
       "<table border=\"1\" class=\"dataframe\">\n",
       "  <thead>\n",
       "    <tr style=\"text-align: right;\">\n",
       "      <th></th>\n",
       "      <th>gene_1</th>\n",
       "      <th>gene_2</th>\n",
       "      <th>time_9</th>\n",
       "      <th>time_3</th>\n",
       "      <th>time_0</th>\n",
       "      <th>time_6</th>\n",
       "      <th>time_48</th>\n",
       "      <th>time_24</th>\n",
       "      <th>stim</th>\n",
       "    </tr>\n",
       "  </thead>\n",
       "  <tbody>\n",
       "    <tr>\n",
       "      <th>0</th>\n",
       "      <td>STAT1</td>\n",
       "      <td>LINC01409</td>\n",
       "      <td>-0.175255</td>\n",
       "      <td>0.022280</td>\n",
       "      <td>0.389398</td>\n",
       "      <td>0.091183</td>\n",
       "      <td>-0.20891</td>\n",
       "      <td>-0.145140</td>\n",
       "      <td>beta</td>\n",
       "    </tr>\n",
       "    <tr>\n",
       "      <th>1</th>\n",
       "      <td>STAT1</td>\n",
       "      <td>NOC2L</td>\n",
       "      <td>-0.070694</td>\n",
       "      <td>0.070377</td>\n",
       "      <td>0.127526</td>\n",
       "      <td>0.105913</td>\n",
       "      <td>-0.01832</td>\n",
       "      <td>-0.201853</td>\n",
       "      <td>beta</td>\n",
       "    </tr>\n",
       "  </tbody>\n",
       "</table>\n",
       "</div>"
      ],
      "text/plain": [
       "  gene_1     gene_2    time_9    time_3    time_0    time_6  time_48  \\\n",
       "0  STAT1  LINC01409 -0.175255  0.022280  0.389398  0.091183 -0.20891   \n",
       "1  STAT1      NOC2L -0.070694  0.070377  0.127526  0.105913 -0.01832   \n",
       "\n",
       "    time_24  stim  \n",
       "0 -0.145140  beta  \n",
       "1 -0.201853  beta  "
      ]
     },
     "execution_count": 21,
     "metadata": {},
     "output_type": "execute_result"
    }
   ],
   "source": [
    "beta_df.head(2)"
   ]
  },
  {
   "cell_type": "code",
   "execution_count": null,
   "metadata": {},
   "outputs": [],
   "source": [
    "plt.figure(figsize=(2.5, 3))\n",
    "sns.boxplot(x='ct', y='dv_coef', hue='isgf3', data=alpha_df.sort_values('isgf3'), palette='Set2')\n",
    "\n",
    "plt.xlabel('Cell type'); plt.ylabel('Change in variability');\n",
    "plt.legend(loc='upper center', ncol=2, bbox_to_anchor=(0.5, 1.15))\n",
    "# plt.ylim(-.8, 0.6)\n",
    "# plt.savefig(fig_path + 'isgf3_vs_rest.pdf', bbox_inches='tight')\n",
    "\n"
   ]
  },
  {
   "cell_type": "code",
   "execution_count": 23,
   "metadata": {},
   "outputs": [
    {
     "data": {
      "text/plain": [
       "(-0.75, 1)"
      ]
     },
     "execution_count": 23,
     "metadata": {},
     "output_type": "execute_result"
    },
    {
     "data": {
      "image/png": "[encoded data removed]",
      "text/plain": [
       "<Figure size 216x144 with 1 Axes>"
      ]
     },
     "metadata": {
      "needs_background": "light"
     },
     "output_type": "display_data"
    }
   ],
   "source": [
    "plt.figure(figsize=(3, 2))\n",
    "for tp in ['0', '3', '6', '9', '24', '48']:#['0', '3', '6', '9', '24', '48']:\n",
    "    sns.distplot(beta_df['time_' + tp], hist=False, label=tp)\n",
    "# plt.legend(, frameon=False)\n",
    "plt.xlabel('Correlation with STAT1')\n",
    "plt.xlim(-0.75, 1)"
   ]
  },
  {
   "cell_type": "code",
   "execution_count": 81,
   "metadata": {},
   "outputs": [],
   "source": [
    "import matplotlib as mpl\n",
    "import matplotlib.pyplot as plt\n",
    "import matplotlib.gridspec as grid_spec\n",
    "\n",
    "import pandas as pd\n",
    "import numpy as np\n",
    "from sklearn.neighbors import KernelDensity"
   ]
  },
  {
   "cell_type": "code",
   "execution_count": 100,
   "metadata": {},
   "outputs": [],
   "source": [
    "def ridgeplot(df):\n",
    "\n",
    "    colors = ['#0000ff', '#3300cc', '#660099', '#990066', '#cc0033', '#ff0000']\n",
    "\n",
    "    gs = grid_spec.GridSpec(6,1)\n",
    "    fig = plt.figure(figsize=(3,2))\n",
    "\n",
    "    i = 0\n",
    "\n",
    "    ax_objs = []\n",
    "    for i, tp in enumerate(['0', '3', '6', '9', '24', '48'][::-1]):\n",
    "        x = df['time_' + tp].values\n",
    "        x = x[np.isfinite(x)]\n",
    "        x_d = np.linspace(-0.7,1, 1000)\n",
    "\n",
    "        kde = KernelDensity(bandwidth=0.025, kernel='gaussian')\n",
    "        kde.fit(x[:, None])\n",
    "\n",
    "        logprob = kde.score_samples(x_d[:, None])\n",
    "\n",
    "        # creating new axes object\n",
    "        ax_objs.append(fig.add_subplot(gs[i:i+1, 0:]))\n",
    "\n",
    "        # plotting the distribution\n",
    "        ax_objs[-1].plot(x_d, np.exp(logprob),lw=3, color=colors[i])\n",
    "    #     ax_objs[-1].fill_between(x_d, np.exp(logprob), alpha=1,color=colors[i])\n",
    "    \n",
    "        if i == 0:\n",
    "            mode_corr = x_d[np.argmax(logprob)]\n",
    "#             ax_objs[-1].plot([mode_corr, mode_corr], [0, 10])\n",
    "\n",
    "        # setting uniform x and y lims\n",
    "        ax_objs[-1].set_xlim(-0.4,0.7)\n",
    "    #     ax_objs[-1].set_ylim(0,2.5)\n",
    "\n",
    "        # make background transparent\n",
    "        rect = ax_objs[-1].patch\n",
    "        rect.set_alpha(0)\n",
    "\n",
    "        # remove borders, axis ticks, and labels\n",
    "        ax_objs[-1].set_yticklabels([])\n",
    "\n",
    "        if i == 6-1:\n",
    "            ax_objs[-1].set_xlabel(\"Correlation\", fontsize=10,fontweight=\"bold\")\n",
    "        else:\n",
    "            ax_objs[-1].set_xticklabels([])\n",
    "            ax_objs[-1].set_xticks([])\n",
    "\n",
    "        spines = [\"top\",\"right\",\"left\",\"bottom\"]\n",
    "        for s in spines:\n",
    "            ax_objs[-1].spines[s].set_visible(False)\n",
    "    #     \n",
    "        ax_objs[-1].set_yticks([])\n",
    "    #     adj_country = country.replace(\" \",\"\\n\")\n",
    "        ax_objs[-1].text(-0.5,0,tp,fontweight=\"bold\",fontsize=14,ha=\"right\")\n",
    "        i += 1\n",
    "\n",
    "    gs.update(hspace=-0.7)\n",
    "    \n",
    "#     plt.plot([mode_corr, mode_corr], [0, 10])\n",
    "\n",
    "    # fig.text(0.07,0.85,\"Distribution of Aptitude Test Results from 18 – 24 year-olds\",fontsize=20)\n",
    "\n",
    "    plt.tight_layout()\n",
    "    plt.show()\n",
    "    \n",
    "    return fig\n"
   ]
  },
  {
   "cell_type": "code",
   "execution_count": 102,
   "metadata": {},
   "outputs": [
    {
     "name": "stderr",
     "output_type": "stream",
     "text": [
      "/data/home/anaconda3/envs/single_cell/lib/python3.7/site-packages/ipykernel_launcher.py:64: UserWarning: This figure includes Axes that are not compatible with tight_layout, so results might be incorrect.\n"
     ]
    },
    {
     "data": {
      "image/png": "[encoded data removed]",
      "text/plain": [
       "<Figure size 216x144 with 6 Axes>"
      ]
     },
     "metadata": {
      "needs_background": "light"
     },
     "output_type": "display_data"
    }
   ],
   "source": [
    "fig = ridgeplot(alpha_df)\n",
    "fig.savefig(fig_path + 'corr_hist_alpha.pdf', bbox_inches='tight')"
   ]
  },
  {
   "cell_type": "code",
   "execution_count": 103,
   "metadata": {},
   "outputs": [
    {
     "name": "stderr",
     "output_type": "stream",
     "text": [
      "/data/home/anaconda3/envs/single_cell/lib/python3.7/site-packages/ipykernel_launcher.py:64: UserWarning: This figure includes Axes that are not compatible with tight_layout, so results might be incorrect.\n"
     ]
    },
    {
     "data": {
      "image/png": "[encoded data removed]",
      "text/plain": [
       "<Figure size 216x144 with 6 Axes>"
      ]
     },
     "metadata": {
      "needs_background": "light"
     },
     "output_type": "display_data"
    }
   ],
   "source": [
    "fig = ridgeplot(gamma_df)\n",
    "fig.savefig(fig_path + 'corr_hist_gamma.pdf', bbox_inches='tight')"
   ]
  },
  {
   "cell_type": "code",
   "execution_count": 104,
   "metadata": {},
   "outputs": [
    {
     "name": "stderr",
     "output_type": "stream",
     "text": [
      "/data/home/anaconda3/envs/single_cell/lib/python3.7/site-packages/ipykernel_launcher.py:64: UserWarning: This figure includes Axes that are not compatible with tight_layout, so results might be incorrect.\n"
     ]
    },
    {
     "data": {
      "image/png": "[encoded data removed]",
      "text/plain": [
       "<Figure size 216x144 with 6 Axes>"
      ]
     },
     "metadata": {
      "needs_background": "light"
     },
     "output_type": "display_data"
    }
   ],
   "source": [
    "fig = ridgeplot(beta_df)\n",
    "fig.savefig(fig_path + 'corr_hist_beta.pdf', bbox_inches='tight')"
   ]
  },
  {
   "cell_type": "code",
   "execution_count": 105,
   "metadata": {},
   "outputs": [
    {
     "name": "stderr",
     "output_type": "stream",
     "text": [
      "/data/home/anaconda3/envs/single_cell/lib/python3.7/site-packages/ipykernel_launcher.py:64: UserWarning: This figure includes Axes that are not compatible with tight_layout, so results might be incorrect.\n"
     ]
    },
    {
     "data": {
      "image/png": "[encoded data removed]",
      "text/plain": [
       "<Figure size 216x144 with 6 Axes>"
      ]
     },
     "metadata": {
      "needs_background": "light"
     },
     "output_type": "display_data"
    }
   ],
   "source": [
    "fig = ridgeplot(lambda_df)\n",
    "fig.savefig(fig_path + 'corr_hist_lambda.pdf', bbox_inches='tight')"
   ]
  },
  {
   "cell_type": "markdown",
   "metadata": {},
   "source": [
    "### TF ordering at timepoint 3"
   ]
  },
  {
   "cell_type": "code",
   "execution_count": 66,
   "metadata": {},
   "outputs": [],
   "source": [
    "filtered_tfs = \"\"\"MAFG\n",
    "SPI1\n",
    "ZNF655\n",
    "MAX\n",
    "ATF4\n",
    "ATF3\n",
    "IRF2\n",
    "IRF1\n",
    "ARID5A\n",
    "BACH1\n",
    "YY1\n",
    "HMGA1\n",
    "IRF7\n",
    "STAT1\n",
    "NR1H2\n",
    "XBP1\n",
    "ETV6\n",
    "MSC\n",
    "ATF5\n",
    "MAFB\n",
    "FOS\n",
    "CEBPB\n",
    "BBX\n",
    "STAT3\n",
    "REL\n",
    "JUN\n",
    "CEBPD\n",
    "DDIT3\n",
    "NR3C1\n",
    "TGIF1\n",
    "ZNF267\n",
    "NFE2L2\n",
    "HIF1A\n",
    "AHR\n",
    "GTF2B\n",
    "CREM\n",
    "HBP1\n",
    "RELB\n",
    "TFEC\n",
    "YBX1\n",
    "ELF1\n",
    "JUNB\n",
    "NFKB1\n",
    "IRF9\n",
    "RBPJ\n",
    "KLF6\"\"\".split()"
   ]
  },
  {
   "cell_type": "code",
   "execution_count": 20,
   "metadata": {},
   "outputs": [],
   "source": [
    "whitelist = beta_df.gene_2.tolist()"
   ]
  },
  {
   "cell_type": "code",
   "execution_count": null,
   "metadata": {},
   "outputs": [],
   "source": [
    "tf_df_list = []\n",
    "for tf in filtered_tfs:\n",
    "    \n",
    "    if tf not in whitelist:\n",
    "        continue\n",
    "    \n",
    "    df = get_2d_moments(tf, ['ciliated'], 'beta')\n",
    "    diff = (df['time_3'] - df['time_0']).mean()\n",
    "    tf_df_list.append((tf, diff))\n",
    "    del df\n",
    "    \n",
    "    print(tf)\n",
    "#     break\n",
    "\n",
    "tf_df_beta = pd.DataFrame(tf_df_list, columns=['tf', 'diff']).sort_values('diff', ascending=False)\n",
    "tf_df_beta['tf'] = tf_df_beta['tf'].astype('category')\n",
    "tf_order = tf_df_beta.sort_values('diff', ascending=False).tf.tolist()\n",
    "tf_df_beta['tf'].cat.set_categories(tf_order, inplace=True)"
   ]
  },
  {
   "cell_type": "code",
   "execution_count": 97,
   "metadata": {},
   "outputs": [
    {
     "name": "stderr",
     "output_type": "stream",
     "text": [
      "/data/home/Github/scrna-parameter-estimation/dist/memento-0.0.4-py3.7.egg/memento/main.py:578: RuntimeWarning: invalid value encountered in true_divide\n",
      "  groupby_corr[key] /= groupby_corr_count[key]\n"
     ]
    },
    {
     "name": "stdout",
     "output_type": "stream",
     "text": [
      "MAFG\n",
      "ZNF655\n",
      "MAX\n",
      "ATF4\n",
      "ATF3\n",
      "IRF2\n",
      "IRF1\n",
      "BACH1\n",
      "YY1\n",
      "HMGA1\n",
      "IRF7\n",
      "STAT1\n",
      "NR1H2\n",
      "XBP1\n",
      "ETV6\n",
      "ATF5\n",
      "FOS\n",
      "CEBPB\n",
      "BBX\n",
      "STAT3\n",
      "REL\n",
      "JUN\n",
      "CEBPD\n",
      "DDIT3\n",
      "NR3C1\n",
      "TGIF1\n",
      "ZNF267\n",
      "NFE2L2\n",
      "HIF1A\n",
      "AHR\n",
      "GTF2B\n",
      "CREM\n",
      "HBP1\n",
      "RELB\n",
      "YBX1\n",
      "ELF1\n",
      "JUNB\n",
      "NFKB1\n",
      "IRF9\n",
      "RBPJ\n",
      "KLF6\n"
     ]
    }
   ],
   "source": [
    "tf_df_list = []\n",
    "for tf in filtered_tfs:\n",
    "    \n",
    "    if tf not in whitelist:\n",
    "        continue\n",
    "    \n",
    "    df = get_2d_moments(tf, ['ciliated'], 'alpha')\n",
    "    diff = (df['time_3'] - df['time_0']).mean()\n",
    "    tf_df_list.append((tf, diff))\n",
    "    del df\n",
    "    \n",
    "    print(tf)\n",
    "#     break\n",
    "\n",
    "tf_df_alpha = pd.DataFrame(tf_df_list, columns=['tf', 'diff']).sort_values('diff', ascending=False)\n",
    "tf_df_alpha['tf'] = tf_df_alpha['tf'].astype('category')\n",
    "tf_order = tf_df_alpha.sort_values('diff', ascending=False).tf.tolist()\n",
    "tf_df_alpha['tf'].cat.set_categories(tf_order, inplace=True)"
   ]
  },
  {
   "cell_type": "code",
   "execution_count": 98,
   "metadata": {},
   "outputs": [
    {
     "name": "stdout",
     "output_type": "stream",
     "text": [
      "MAFG\n",
      "ZNF655\n",
      "MAX\n",
      "ATF4\n",
      "ATF3\n",
      "IRF2\n",
      "IRF1\n",
      "BACH1\n",
      "YY1\n",
      "HMGA1\n",
      "IRF7\n",
      "STAT1\n",
      "NR1H2\n",
      "XBP1\n",
      "ETV6\n",
      "ATF5\n",
      "FOS\n",
      "CEBPB\n",
      "BBX\n",
      "STAT3\n",
      "REL\n",
      "JUN\n",
      "CEBPD\n",
      "DDIT3\n",
      "NR3C1\n",
      "TGIF1\n",
      "ZNF267\n",
      "NFE2L2\n",
      "HIF1A\n",
      "AHR\n",
      "GTF2B\n",
      "CREM\n",
      "HBP1\n",
      "RELB\n",
      "YBX1\n",
      "ELF1\n",
      "JUNB\n",
      "NFKB1\n",
      "IRF9\n",
      "RBPJ\n",
      "KLF6\n"
     ]
    }
   ],
   "source": [
    "tf_df_list = []\n",
    "for tf in filtered_tfs:\n",
    "    \n",
    "    if tf not in whitelist:\n",
    "        continue\n",
    "    \n",
    "    df = get_2d_moments(tf, ['ciliated'], 'gamma')\n",
    "    diff = (df['time_3'] - df['time_0']).mean()\n",
    "    tf_df_list.append((tf, diff))\n",
    "    del df\n",
    "    \n",
    "    print(tf)\n",
    "#     break\n",
    "\n",
    "tf_df_gamma = pd.DataFrame(tf_df_list, columns=['tf', 'diff']).sort_values('diff', ascending=False)\n",
    "tf_df_gamma['tf'] = tf_df_gamma['tf'].astype('category')\n",
    "tf_order = tf_df_gamma.sort_values('diff', ascending=False).tf.tolist()\n",
    "tf_df_gamma['tf'].cat.set_categories(tf_order, inplace=True)"
   ]
  },
  {
   "cell_type": "code",
   "execution_count": 28,
   "metadata": {},
   "outputs": [],
   "source": [
    "pbmc_data_path = '/data_volume/parameter_estimation/'\n",
    "pbmc_tf_df = pd.read_csv(pbmc_data_path + 'tf_corr_changes.csv')"
   ]
  },
  {
   "cell_type": "code",
   "execution_count": 32,
   "metadata": {},
   "outputs": [],
   "source": [
    "pbmc_tf_df = pbmc_tf_df.groupby('tf').diff.mean().reset_index()"
   ]
  },
  {
   "cell_type": "code",
   "execution_count": 33,
   "metadata": {},
   "outputs": [],
   "source": [
    "joined = tf_df_beta.merge(tf_df_alpha, on='tf', suffixes=('_beta', '_alpha'))\n",
    "joined_pbmc = tf_df_beta.merge(pbmc_tf_df, on='tf', suffixes=('_beta', '_pbmc'))\n",
    "joined_pbmc = tf_df_beta.merge(pbmc_tf_df, on='tf', suffixes=('_beta', '_pbmc'))"
   ]
  },
  {
   "cell_type": "code",
   "execution_count": 29,
   "metadata": {},
   "outputs": [
    {
     "data": {
      "text/html": [
       "<div>\n",
       "<style scoped>\n",
       "    .dataframe tbody tr th:only-of-type {\n",
       "        vertical-align: middle;\n",
       "    }\n",
       "\n",
       "    .dataframe tbody tr th {\n",
       "        vertical-align: top;\n",
       "    }\n",
       "\n",
       "    .dataframe thead th {\n",
       "        text-align: right;\n",
       "    }\n",
       "</style>\n",
       "<table border=\"1\" class=\"dataframe\">\n",
       "  <thead>\n",
       "    <tr style=\"text-align: right;\">\n",
       "      <th></th>\n",
       "      <th>tf</th>\n",
       "      <th>diff_beta</th>\n",
       "      <th>diff_alpha</th>\n",
       "    </tr>\n",
       "  </thead>\n",
       "  <tbody>\n",
       "    <tr>\n",
       "      <th>0</th>\n",
       "      <td>STAT1</td>\n",
       "      <td>0.099344</td>\n",
       "      <td>0.156776</td>\n",
       "    </tr>\n",
       "    <tr>\n",
       "      <th>1</th>\n",
       "      <td>IRF9</td>\n",
       "      <td>0.099322</td>\n",
       "      <td>0.125458</td>\n",
       "    </tr>\n",
       "    <tr>\n",
       "      <th>2</th>\n",
       "      <td>IRF7</td>\n",
       "      <td>0.086175</td>\n",
       "      <td>0.127605</td>\n",
       "    </tr>\n",
       "    <tr>\n",
       "      <th>3</th>\n",
       "      <td>TGIF1</td>\n",
       "      <td>0.071129</td>\n",
       "      <td>0.091961</td>\n",
       "    </tr>\n",
       "    <tr>\n",
       "      <th>4</th>\n",
       "      <td>BACH1</td>\n",
       "      <td>0.063072</td>\n",
       "      <td>0.085814</td>\n",
       "    </tr>\n",
       "  </tbody>\n",
       "</table>\n",
       "</div>"
      ],
      "text/plain": [
       "      tf  diff_beta  diff_alpha\n",
       "0  STAT1   0.099344    0.156776\n",
       "1   IRF9   0.099322    0.125458\n",
       "2   IRF7   0.086175    0.127605\n",
       "3  TGIF1   0.071129    0.091961\n",
       "4  BACH1   0.063072    0.085814"
      ]
     },
     "execution_count": 29,
     "metadata": {},
     "output_type": "execute_result"
    }
   ],
   "source": [
    "joined.head(5)"
   ]
  },
  {
   "cell_type": "code",
   "execution_count": 101,
   "metadata": {},
   "outputs": [
    {
     "data": {
      "text/plain": [
       "(0.8844643874489025, 1.750514636467869e-14)"
      ]
     },
     "execution_count": 101,
     "metadata": {},
     "output_type": "execute_result"
    }
   ],
   "source": [
    "stats.pearsonr(joined['diff_beta'], joined['diff_alpha'])"
   ]
  },
  {
   "cell_type": "code",
   "execution_count": 100,
   "metadata": {},
   "outputs": [
    {
     "data": {
      "text/plain": [
       "(0.294557632916126, 0.07262447260476375)"
      ]
     },
     "execution_count": 100,
     "metadata": {},
     "output_type": "execute_result"
    }
   ],
   "source": [
    "stats.pearsonr(joined_pbmc['diff_beta'], joined_pbmc['diff_pbmc'])"
   ]
  },
  {
   "cell_type": "code",
   "execution_count": 99,
   "metadata": {},
   "outputs": [
    {
     "data": {
      "image/png": "[encoded data removed]",
      "text/plain": [
       "<Figure size 216x144 with 1 Axes>"
      ]
     },
     "metadata": {
      "needs_background": "light"
     },
     "output_type": "display_data"
    }
   ],
   "source": [
    "plt.figure(figsize=(3,2))\n",
    "sns.regplot(joined_pbmc['diff_beta'], joined_pbmc['diff_pbmc'], scatter_kws={'s':6, 'color':'k'}, line_kws={'color':'k'})\n",
    "plt.xlim(-0.015, 0.11); \n",
    "# plt.xlabel('Corr shift IFN-B'); plt.ylabel('Corr shift IFN-A')\n",
    "# plt.savefig(fig_path + 'corr_shift_AB.pdf', bbox_inches='tight')\n"
   ]
  },
  {
   "cell_type": "code",
   "execution_count": 59,
   "metadata": {},
   "outputs": [
    {
     "data": {
      "image/png": "[encoded data removed]",
      "text/plain": [
       "<Figure size 216x144 with 1 Axes>"
      ]
     },
     "metadata": {
      "needs_background": "light"
     },
     "output_type": "display_data"
    }
   ],
   "source": [
    "plt.figure(figsize=(3,2))\n",
    "sns.regplot(joined['diff_beta'], joined['diff_alpha'], scatter_kws={'s':6, 'color':'k'}, line_kws={'color':'k'})\n",
    "plt.xlim(-0.015, 0.11); \n",
    "plt.xlabel('Corr shift IFN-B'); plt.ylabel('Corr shift IFN-A')\n",
    "plt.savefig(fig_path + 'corr_shift_AB.pdf', bbox_inches='tight')\n"
   ]
  },
  {
   "cell_type": "code",
   "execution_count": 31,
   "metadata": {},
   "outputs": [
    {
     "data": {
      "image/png": "[encoded data removed]",
      "text/plain": [
       "<Figure size 288x144 with 1 Axes>"
      ]
     },
     "metadata": {
      "needs_background": "light"
     },
     "output_type": "display_data"
    }
   ],
   "source": [
    "import matplotlib.pylab as pylab\n",
    "params = {'legend.fontsize': 'medium',\n",
    "         'axes.labelsize': 'medium',\n",
    "         'axes.titlesize':'medium',\n",
    "         'figure.titlesize':'medium',\n",
    "         'xtick.labelsize':'6',\n",
    "         'ytick.labelsize':'small'}\n",
    "pylab.rcParams.update(params)\n",
    "\n",
    "plt.figure(figsize=(4, 2))\n",
    "\n",
    "sns.barplot(x='tf', y='diff', data=tf_df, errwidth=2)\n",
    "plt.xticks(rotation=90);\n",
    "plt.ylabel('Mean shift in corr')\n",
    "\n",
    "plt.savefig(fig_path + 'tf_effect_sizes.pdf', bbox_inches='tight')\n"
   ]
  },
  {
   "cell_type": "markdown",
   "metadata": {},
   "source": [
    "### Look for STAT1 DC genes"
   ]
  },
  {
   "cell_type": "code",
   "execution_count": 12,
   "metadata": {},
   "outputs": [],
   "source": [
    "cts = [['ciliated'], ['bc', 'basal']]\n",
    "tps = ['3', '6', '9', '24', '48']\n",
    "stims = ['alpha', 'beta', 'gamma', 'lambda']"
   ]
  },
  {
   "cell_type": "code",
   "execution_count": 13,
   "metadata": {},
   "outputs": [],
   "source": [
    "import os"
   ]
  },
  {
   "cell_type": "code",
   "execution_count": 14,
   "metadata": {},
   "outputs": [],
   "source": [
    "done_files = os.listdir('/data_volume/ifn_hbec/tf_test/')"
   ]
  },
  {
   "cell_type": "code",
   "execution_count": 14,
   "metadata": {},
   "outputs": [],
   "source": [
    "tf = 'STAT1'\n",
    "\n",
    "cts = [['ciliated']]\n",
    "tps = ['3']\n",
    "stims = ['beta']\n",
    "\n",
    "\n",
    "for ct in cts:\n",
    "    for tp in tps:\n",
    "        for stim in stims:\n",
    "            \n",
    "            fname = '{}_{}_{}_{}.h5ad'.format('-'.join(ct), stim, tp, tf)\n",
    "            if fname in done_files:\n",
    "                continue\n",
    "                            \n",
    "            print('starting', ct, tp, stim)\n",
    "\n",
    "            adata_stim = adata.copy()[\n",
    "                adata.obs.cell_type.isin(ct) & \\\n",
    "                adata.obs.stim.isin(['control', stim]) & \\\n",
    "                adata.obs.time.isin(['0',tp]), :].copy()\n",
    "            time_converter={0:0, int(tp):1}\n",
    "            adata_stim.obs['time_step'] = adata_stim.obs['time'].astype(int).apply(lambda x: time_converter[x])\n",
    "\n",
    "            memento.create_groups(adata_stim, label_columns=['time_step', 'donor'])\n",
    "            memento.compute_1d_moments(adata_stim, min_perc_group=.9)\n",
    "            memento.compute_2d_moments(adata_stim, list(itertools.product([tf], adata_stim.var.index)))\n",
    "\n",
    "            moment_df = memento.get_2d_moments(adata_stim, groupby='time_step')\n",
    "            moment_df.to_csv('/data_volume/ifn_hbec/coex_test/moments_{}_{}_{}_{}.csv'.format('-'.join(ct), stim, tp, tf), index=False)\n",
    "            gene_list = adata_stim.var.index.tolist()#moment_df[(moment_df['time_step_0'] > 0.35) | (moment_df['time_step_1'] > 0.35)].gene_2.tolist()\n",
    "\n",
    "            memento.compute_2d_moments(adata_stim, list(itertools.product([tf], gene_list)))\n",
    "\n",
    "            memento.ht_2d_moments( \n",
    "                adata_stim, \n",
    "                formula_like='1 + time_step',\n",
    "                cov_column='time_step', \n",
    "                num_boot=10000, \n",
    "                verbose=1,\n",
    "                num_cpus=13)\n",
    "\n",
    "            if 'mv_regressor' in adata_stim.uns['memento']:\n",
    "                del adata_stim.uns['memento']['mv_regressor']\n",
    "            adata_stim.write('/data_volume/ifn_hbec/tf_test/{}_{}_{}_{}.h5ad'.format('-'.join(ct), stim, tp, tf))"
   ]
  },
  {
   "cell_type": "markdown",
   "metadata": {},
   "source": [
    "### What are the STAT1 DC genes?"
   ]
  },
  {
   "cell_type": "code",
   "execution_count": 57,
   "metadata": {},
   "outputs": [],
   "source": [
    "stim = 'beta'\n",
    "tp = '3'\n",
    "ct = ['ciliated']\n",
    "\n",
    "fname = '/data_volume/ifn_hbec/tf_test/{}_{}_{}_{}.h5ad'.format('-'.join(ct), stim, tp, tf)\n",
    "adata_result = sc.read(fname)"
   ]
  },
  {
   "cell_type": "code",
   "execution_count": 105,
   "metadata": {},
   "outputs": [],
   "source": [
    "\n",
    "fname = '/data_volume/ifn_hbec/tf_test/{}_{}_{}_{}.h5ad'.format('-'.join(ct), stim, tp, tf)\n",
    "adata_result = sc.read(fname)\n",
    "\n",
    "moments = memento.get_2d_moments(adata_result, groupby='time')\n",
    "res_df = memento.get_2d_ht_result(adata_result)\n",
    "# rel_res_df = memento.get_2d_ht_result(adata_stim)"
   ]
  },
  {
   "cell_type": "code",
   "execution_count": 106,
   "metadata": {},
   "outputs": [
    {
     "data": {
      "text/html": [
       "<div>\n",
       "<style scoped>\n",
       "    .dataframe tbody tr th:only-of-type {\n",
       "        vertical-align: middle;\n",
       "    }\n",
       "\n",
       "    .dataframe tbody tr th {\n",
       "        vertical-align: top;\n",
       "    }\n",
       "\n",
       "    .dataframe thead th {\n",
       "        text-align: right;\n",
       "    }\n",
       "</style>\n",
       "<table border=\"1\" class=\"dataframe\">\n",
       "  <thead>\n",
       "    <tr style=\"text-align: right;\">\n",
       "      <th></th>\n",
       "      <th>gene_1</th>\n",
       "      <th>gene_2</th>\n",
       "      <th>time_3</th>\n",
       "      <th>time_0</th>\n",
       "    </tr>\n",
       "  </thead>\n",
       "  <tbody>\n",
       "    <tr>\n",
       "      <th>324</th>\n",
       "      <td>STAT1</td>\n",
       "      <td>HLA-F</td>\n",
       "      <td>0.516336</td>\n",
       "      <td>0.303196</td>\n",
       "    </tr>\n",
       "    <tr>\n",
       "      <th>325</th>\n",
       "      <td>STAT1</td>\n",
       "      <td>HLA-A</td>\n",
       "      <td>0.435438</td>\n",
       "      <td>0.184255</td>\n",
       "    </tr>\n",
       "    <tr>\n",
       "      <th>326</th>\n",
       "      <td>STAT1</td>\n",
       "      <td>HLA-E</td>\n",
       "      <td>0.626379</td>\n",
       "      <td>0.415575</td>\n",
       "    </tr>\n",
       "    <tr>\n",
       "      <th>327</th>\n",
       "      <td>STAT1</td>\n",
       "      <td>HLA-C</td>\n",
       "      <td>0.530611</td>\n",
       "      <td>0.319793</td>\n",
       "    </tr>\n",
       "    <tr>\n",
       "      <th>328</th>\n",
       "      <td>STAT1</td>\n",
       "      <td>HLA-B</td>\n",
       "      <td>0.437998</td>\n",
       "      <td>0.201227</td>\n",
       "    </tr>\n",
       "  </tbody>\n",
       "</table>\n",
       "</div>"
      ],
      "text/plain": [
       "    gene_1 gene_2    time_3    time_0\n",
       "324  STAT1  HLA-F  0.516336  0.303196\n",
       "325  STAT1  HLA-A  0.435438  0.184255\n",
       "326  STAT1  HLA-E  0.626379  0.415575\n",
       "327  STAT1  HLA-C  0.530611  0.319793\n",
       "328  STAT1  HLA-B  0.437998  0.201227"
      ]
     },
     "execution_count": 106,
     "metadata": {},
     "output_type": "execute_result"
    }
   ],
   "source": [
    "moments.query('gene_2.str.startswith(\"HLA-\")', engine='python')"
   ]
  },
  {
   "cell_type": "code",
   "execution_count": 80,
   "metadata": {},
   "outputs": [],
   "source": [
    "wired_pairs = moments.query('time_0 > 0.25 | time_{} > 0.25'.format(tp))"
   ]
  },
  {
   "cell_type": "code",
   "execution_count": 81,
   "metadata": {},
   "outputs": [],
   "source": [
    "filtered_res_df = df.merge(wired_pairs, on=['gene_1', 'gene_2'])\n",
    "filtered_res_df['corr_fdr'] = memento.util._fdrcorrect(filtered_res_df['corr_pval'])"
   ]
  },
  {
   "cell_type": "code",
   "execution_count": null,
   "metadata": {},
   "outputs": [],
   "source": [
    "for g in filtered_res_df.query('corr_fdr < 0.1 & corr_coef > 0').gene_2.tolist():\n",
    "    print(g)"
   ]
  },
  {
   "cell_type": "code",
   "execution_count": 52,
   "metadata": {},
   "outputs": [
    {
     "data": {
      "text/plain": [
       "(869, 7)"
      ]
     },
     "execution_count": 52,
     "metadata": {},
     "output_type": "execute_result"
    }
   ],
   "source": [
    "filtered_res_df.shape"
   ]
  },
  {
   "cell_type": "code",
   "execution_count": 53,
   "metadata": {},
   "outputs": [
    {
     "data": {
      "text/plain": [
       "(891, 5)"
      ]
     },
     "execution_count": 53,
     "metadata": {},
     "output_type": "execute_result"
    }
   ],
   "source": [
    "res_df.shape"
   ]
  },
  {
   "cell_type": "markdown",
   "metadata": {},
   "source": [
    "### Re-run the STAT1 anaylsis for subset"
   ]
  },
  {
   "cell_type": "code",
   "execution_count": 15,
   "metadata": {},
   "outputs": [
    {
     "name": "stdout",
     "output_type": "stream",
     "text": [
      "starting ['ciliated'] 3 alpha\n",
      "starting ['ciliated'] 3 beta\n",
      "starting ['ciliated'] 3 gamma\n"
     ]
    },
    {
     "name": "stderr",
     "output_type": "stream",
     "text": [
      "/data/home/Github/scrna-parameter-estimation/dist/memento-0.0.4-py3.7.egg/memento/main.py:578: RuntimeWarning: invalid value encountered in true_divide\n"
     ]
    },
    {
     "name": "stdout",
     "output_type": "stream",
     "text": [
      "starting ['ciliated'] 3 lambda\n",
      "starting ['ciliated'] 6 alpha\n",
      "starting ['ciliated'] 6 beta\n",
      "starting ['ciliated'] 6 gamma\n",
      "starting ['ciliated'] 6 lambda\n",
      "starting ['ciliated'] 9 alpha\n",
      "starting ['ciliated'] 9 beta\n",
      "starting ['ciliated'] 9 gamma\n",
      "starting ['ciliated'] 9 lambda\n",
      "starting ['ciliated'] 24 alpha\n",
      "starting ['ciliated'] 24 beta\n",
      "starting ['ciliated'] 24 gamma\n",
      "starting ['ciliated'] 24 lambda\n",
      "starting ['ciliated'] 48 alpha\n",
      "starting ['ciliated'] 48 beta\n",
      "starting ['ciliated'] 48 gamma\n",
      "starting ['ciliated'] 48 lambda\n"
     ]
    }
   ],
   "source": [
    "tf = 'STAT1'\n",
    "\n",
    "cts = [['ciliated']]\n",
    "tps = ['3', '6', '9', '24', '48']\n",
    "stims = ['alpha', 'beta', 'gamma', 'lambda']\n",
    "\n",
    "\n",
    "for ct in cts:\n",
    "    for tp in tps:\n",
    "        for stim in stims:\n",
    "            \n",
    "#             fname = '{}_{}_{}_{}.h5ad'.format('-'.join(ct), stim, tp, tf)\n",
    "#             if fname in done_files:\n",
    "#                 continue\n",
    "                            \n",
    "            print('starting', ct, tp, stim)\n",
    "\n",
    "            adata_stim = adata.copy()[\n",
    "                adata.obs.cell_type.isin(ct) & \\\n",
    "                adata.obs.stim.isin(['control', stim]) & \\\n",
    "                adata.obs.time.isin(['0',tp]), :].copy()\n",
    "            time_converter={0:0, int(tp):1}\n",
    "            adata_stim.obs['time_step'] = adata_stim.obs['time'].astype(int).apply(lambda x: time_converter[x])\n",
    "\n",
    "            memento.create_groups(adata_stim, label_columns=['time_step', 'donor'])\n",
    "            memento.compute_1d_moments(adata_stim, min_perc_group=.9)\n",
    "            \n",
    "            gene_list = adata_stim.var.index.tolist()\n",
    "            \n",
    "            memento.compute_2d_moments(adata_stim, list(itertools.product([tf], adata_stim.var.index)))\n",
    "\n",
    "            moment_df = memento.get_2d_moments(adata_stim, groupby='time_step')\n",
    "            moment_df.to_csv('/data_volume/ifn_hbec/tf_test/moments_{}_{}_{}_{}.csv'.format('-'.join(ct), stim, tp, tf), index=False)\n",
    "#             gene_list = adata_stim.var.index.tolist()#moment_df[(moment_df['time_step_0'] > 0.35) | (moment_df['time_step_1'] > 0.35)].gene_2.tolist()\n",
    "\n",
    "#             memento.compute_2d_moments(adata_stim, list(itertools.product([tf], gene_list)))\n",
    "\n",
    "#             memento.ht_2d_moments( \n",
    "#                 adata_stim, \n",
    "#                 formula_like='1 + time_step',\n",
    "#                 cov_column='time_step', \n",
    "#                 num_boot=10000, \n",
    "#                 verbose=1,\n",
    "#                 num_cpus=13)\n",
    "\n",
    "#             if 'mv_regressor' in adata_stim.uns['memento']:\n",
    "#                 del adata_stim.uns['memento']['mv_regressor']\n",
    "#             adata_stim.write('/data_volume/ifn_hbec/tf_test/{}_{}_{}_{}.h5ad'.format('-'.join(ct), stim, tp, tf))"
   ]
  },
  {
   "cell_type": "markdown",
   "metadata": {},
   "source": [
    "### Compile STAT1 DC and correlation status"
   ]
  },
  {
   "cell_type": "code",
   "execution_count": 140,
   "metadata": {},
   "outputs": [],
   "source": [
    "stim = 'gamma'\n",
    "ct = ['ciliated']\n",
    "tf = 'STAT1'"
   ]
  },
  {
   "cell_type": "code",
   "execution_count": 141,
   "metadata": {},
   "outputs": [
    {
     "name": "stdout",
     "output_type": "stream",
     "text": [
      "3\n",
      "6\n",
      "9\n",
      "24\n",
      "48\n"
     ]
    }
   ],
   "source": [
    "\n",
    "for tp in ['3', '6', '9', '24', '48']:\n",
    "    \n",
    "    print(tp)\n",
    "\n",
    "    fname = '/data_volume/ifn_hbec/tf_test/{}_{}_{}_{}.h5ad'.format('-'.join(ct), stim, tp, tf)\n",
    "    adata_result = sc.read(fname)\n",
    "    \n",
    "#     moments = memento.get_2d_moments(adata_result, groupby='time_step').rename(columns={'time_step_0':'time_0', 'time_step_1':'time_'+tp})\n",
    "    moments = pd.read_csv('/data_volume/ifn_hbec/tf_test/moments_{}_{}_{}_{}.csv'.format('-'.join(ct), stim, tp, tf)).rename(columns={'time_step_0':'time_0', 'time_step_1':'time_'+tp})\n",
    "    res_df = memento.get_2d_ht_result(adata_result)\\\n",
    "        .rename(columns={\n",
    "            'corr_coef':'corr_coef' + '_' + tp,\n",
    "            'corr_pval':'corr_pval' + '_' + tp})\n",
    "    \n",
    "    if tp == '3':\n",
    "\n",
    "        pv_df = res_df[['gene_1', 'gene_2', 'corr_pval' + '_' + tp]].copy()\n",
    "        coef_df = res_df[['gene_1', 'gene_2', 'corr_coef' + '_' + tp]].copy()\n",
    "        moment_df = moments[['gene_1', 'gene_2', 'time_0', 'time_3']].copy()\n",
    "        \n",
    "    else:\n",
    "        \n",
    "        pv_df = pv_df.merge(res_df[['gene_1', 'gene_2', 'corr_pval' + '_' + tp]].copy(), on=['gene_1', 'gene_2'], how='outer')\n",
    "        coef_df = coef_df.merge(res_df[['gene_1', 'gene_2', 'corr_coef' + '_' + tp]].copy(), on=['gene_1', 'gene_2'], how='outer')\n",
    "        moment_df = moment_df.merge(moments[['gene_1', 'gene_2', 'time_{}'.format(tp)]].copy(), on=['gene_1', 'gene_2'], how='outer')\n",
    "    \n",
    "    \n",
    "    "
   ]
  },
  {
   "cell_type": "code",
   "execution_count": 142,
   "metadata": {},
   "outputs": [
    {
     "data": {
      "text/html": [
       "<div>\n",
       "<style scoped>\n",
       "    .dataframe tbody tr th:only-of-type {\n",
       "        vertical-align: middle;\n",
       "    }\n",
       "\n",
       "    .dataframe tbody tr th {\n",
       "        vertical-align: top;\n",
       "    }\n",
       "\n",
       "    .dataframe thead th {\n",
       "        text-align: right;\n",
       "    }\n",
       "</style>\n",
       "<table border=\"1\" class=\"dataframe\">\n",
       "  <thead>\n",
       "    <tr style=\"text-align: right;\">\n",
       "      <th></th>\n",
       "      <th>gene_1</th>\n",
       "      <th>gene_2</th>\n",
       "      <th>time_0</th>\n",
       "      <th>time_3</th>\n",
       "      <th>time_6</th>\n",
       "      <th>time_9</th>\n",
       "      <th>time_24</th>\n",
       "      <th>time_48</th>\n",
       "    </tr>\n",
       "  </thead>\n",
       "  <tbody>\n",
       "    <tr>\n",
       "      <th>3094</th>\n",
       "      <td>STAT1</td>\n",
       "      <td>HLA-A</td>\n",
       "      <td>0.172667</td>\n",
       "      <td>0.264742</td>\n",
       "      <td>0.196805</td>\n",
       "      <td>0.136728</td>\n",
       "      <td>0.101051</td>\n",
       "      <td>0.097405</td>\n",
       "    </tr>\n",
       "    <tr>\n",
       "      <th>3115</th>\n",
       "      <td>STAT1</td>\n",
       "      <td>HLA-C</td>\n",
       "      <td>0.314121</td>\n",
       "      <td>0.397101</td>\n",
       "      <td>0.337141</td>\n",
       "      <td>0.287205</td>\n",
       "      <td>0.147436</td>\n",
       "      <td>0.177297</td>\n",
       "    </tr>\n",
       "    <tr>\n",
       "      <th>3116</th>\n",
       "      <td>STAT1</td>\n",
       "      <td>HLA-B</td>\n",
       "      <td>0.196586</td>\n",
       "      <td>0.293571</td>\n",
       "      <td>0.286509</td>\n",
       "      <td>0.216158</td>\n",
       "      <td>0.123979</td>\n",
       "      <td>0.082816</td>\n",
       "    </tr>\n",
       "    <tr>\n",
       "      <th>6658</th>\n",
       "      <td>STAT1</td>\n",
       "      <td>B2M</td>\n",
       "      <td>0.177316</td>\n",
       "      <td>0.238690</td>\n",
       "      <td>0.196549</td>\n",
       "      <td>0.146857</td>\n",
       "      <td>0.054398</td>\n",
       "      <td>0.054794</td>\n",
       "    </tr>\n",
       "  </tbody>\n",
       "</table>\n",
       "</div>"
      ],
      "text/plain": [
       "     gene_1 gene_2    time_0    time_3    time_6    time_9   time_24   time_48\n",
       "3094  STAT1  HLA-A  0.172667  0.264742  0.196805  0.136728  0.101051  0.097405\n",
       "3115  STAT1  HLA-C  0.314121  0.397101  0.337141  0.287205  0.147436  0.177297\n",
       "3116  STAT1  HLA-B  0.196586  0.293571  0.286509  0.216158  0.123979  0.082816\n",
       "6658  STAT1    B2M  0.177316  0.238690  0.196549  0.146857  0.054398  0.054794"
      ]
     },
     "execution_count": 142,
     "metadata": {},
     "output_type": "execute_result"
    }
   ],
   "source": [
    "moment_df.query('gene_2.isin([\"HLA-A\", \"HLA-B\", \"HLA-C\", \"B2M\"])', engine='python')"
   ]
  },
  {
   "cell_type": "markdown",
   "metadata": {},
   "source": [
    "### Check 2D moments over time"
   ]
  },
  {
   "cell_type": "code",
   "execution_count": 153,
   "metadata": {},
   "outputs": [],
   "source": [
    "isg_genes = ['GBP1']"
   ]
  },
  {
   "cell_type": "code",
   "execution_count": 154,
   "metadata": {},
   "outputs": [
    {
     "data": {
      "text/html": [
       "<div>\n",
       "<style scoped>\n",
       "    .dataframe tbody tr th:only-of-type {\n",
       "        vertical-align: middle;\n",
       "    }\n",
       "\n",
       "    .dataframe tbody tr th {\n",
       "        vertical-align: top;\n",
       "    }\n",
       "\n",
       "    .dataframe thead th {\n",
       "        text-align: right;\n",
       "    }\n",
       "</style>\n",
       "<table border=\"1\" class=\"dataframe\">\n",
       "  <thead>\n",
       "    <tr style=\"text-align: right;\">\n",
       "      <th></th>\n",
       "      <th>gene_1</th>\n",
       "      <th>gene_2</th>\n",
       "      <th>time_0</th>\n",
       "      <th>time_3</th>\n",
       "      <th>time_6</th>\n",
       "      <th>time_9</th>\n",
       "      <th>time_24</th>\n",
       "      <th>time_48</th>\n",
       "    </tr>\n",
       "  </thead>\n",
       "  <tbody>\n",
       "    <tr>\n",
       "      <th>450</th>\n",
       "      <td>STAT1</td>\n",
       "      <td>GBP1</td>\n",
       "      <td>0.552696</td>\n",
       "      <td>0.600947</td>\n",
       "      <td>0.589076</td>\n",
       "      <td>0.650046</td>\n",
       "      <td>0.637277</td>\n",
       "      <td>0.630829</td>\n",
       "    </tr>\n",
       "  </tbody>\n",
       "</table>\n",
       "</div>"
      ],
      "text/plain": [
       "    gene_1 gene_2    time_0    time_3    time_6    time_9   time_24   time_48\n",
       "450  STAT1   GBP1  0.552696  0.600947  0.589076  0.650046  0.637277  0.630829"
      ]
     },
     "execution_count": 154,
     "metadata": {},
     "output_type": "execute_result"
    }
   ],
   "source": [
    "moment_df.query('gene_2.isin(@isg_genes)', engine='python')"
   ]
  },
  {
   "cell_type": "code",
   "execution_count": 157,
   "metadata": {},
   "outputs": [
    {
     "data": {
      "text/plain": [
       "<matplotlib.legend.Legend at 0x7f25e7928210>"
      ]
     },
     "execution_count": 157,
     "metadata": {},
     "output_type": "execute_result"
    },
    {
     "data": {
      "image/png": "[encoded data removed]",
      "text/plain": [
       "<Figure size 144x144 with 1 Axes>"
      ]
     },
     "metadata": {
      "needs_background": "light"
     },
     "output_type": "display_data"
    }
   ],
   "source": [
    "tf = 'STAT1'\n",
    "plt.figure(figsize=(2,2))\n",
    "plt.plot(moment_df.query('gene_2.isin(@isg_genes)', engine='python').values[:, 2:].T, '-o')\n",
    "plt.ylim(0, 0.8)\n",
    "plt.xticks([0, 1, 2, 3, 4, 5], ['0', '3', '6', '9', '24', '48'])\n",
    "plt.xlabel('Time (hr)'); plt.ylabel('Corr {}'.format(tf))\n",
    "plt.legend(moment_df.query('gene_2.isin(@isg_genes)', engine='python').gene_2.tolist(), loc='center right', frameon=False, bbox_to_anchor=(1.7, 0.5))"
   ]
  },
  {
   "cell_type": "code",
   "execution_count": 139,
   "metadata": {},
   "outputs": [
    {
     "data": {
      "text/html": [
       "<div>\n",
       "<style scoped>\n",
       "    .dataframe tbody tr th:only-of-type {\n",
       "        vertical-align: middle;\n",
       "    }\n",
       "\n",
       "    .dataframe tbody tr th {\n",
       "        vertical-align: top;\n",
       "    }\n",
       "\n",
       "    .dataframe thead th {\n",
       "        text-align: right;\n",
       "    }\n",
       "</style>\n",
       "<table border=\"1\" class=\"dataframe\">\n",
       "  <thead>\n",
       "    <tr style=\"text-align: right;\">\n",
       "      <th></th>\n",
       "      <th>gene_1</th>\n",
       "      <th>gene_2</th>\n",
       "      <th>time_0</th>\n",
       "      <th>time_3</th>\n",
       "      <th>time_6</th>\n",
       "      <th>time_9</th>\n",
       "      <th>time_24</th>\n",
       "      <th>time_48</th>\n",
       "    </tr>\n",
       "  </thead>\n",
       "  <tbody>\n",
       "    <tr>\n",
       "      <th>3097</th>\n",
       "      <td>STAT1</td>\n",
       "      <td>HLA-A</td>\n",
       "      <td>0.184255</td>\n",
       "      <td>0.275632</td>\n",
       "      <td>0.204322</td>\n",
       "      <td>0.135832</td>\n",
       "      <td>0.103195</td>\n",
       "      <td>0.100389</td>\n",
       "    </tr>\n",
       "    <tr>\n",
       "      <th>3118</th>\n",
       "      <td>STAT1</td>\n",
       "      <td>HLA-C</td>\n",
       "      <td>0.319793</td>\n",
       "      <td>0.405229</td>\n",
       "      <td>0.340785</td>\n",
       "      <td>0.283306</td>\n",
       "      <td>0.145822</td>\n",
       "      <td>0.176469</td>\n",
       "    </tr>\n",
       "    <tr>\n",
       "      <th>3119</th>\n",
       "      <td>STAT1</td>\n",
       "      <td>HLA-B</td>\n",
       "      <td>0.201227</td>\n",
       "      <td>0.302763</td>\n",
       "      <td>0.290189</td>\n",
       "      <td>0.211899</td>\n",
       "      <td>0.122095</td>\n",
       "      <td>0.082566</td>\n",
       "    </tr>\n",
       "    <tr>\n",
       "      <th>6662</th>\n",
       "      <td>STAT1</td>\n",
       "      <td>B2M</td>\n",
       "      <td>0.184621</td>\n",
       "      <td>0.249761</td>\n",
       "      <td>0.203064</td>\n",
       "      <td>0.147616</td>\n",
       "      <td>0.055379</td>\n",
       "      <td>0.055576</td>\n",
       "    </tr>\n",
       "  </tbody>\n",
       "</table>\n",
       "</div>"
      ],
      "text/plain": [
       "     gene_1 gene_2    time_0    time_3    time_6    time_9   time_24   time_48\n",
       "3097  STAT1  HLA-A  0.184255  0.275632  0.204322  0.135832  0.103195  0.100389\n",
       "3118  STAT1  HLA-C  0.319793  0.405229  0.340785  0.283306  0.145822  0.176469\n",
       "3119  STAT1  HLA-B  0.201227  0.302763  0.290189  0.211899  0.122095  0.082566\n",
       "6662  STAT1    B2M  0.184621  0.249761  0.203064  0.147616  0.055379  0.055576"
      ]
     },
     "execution_count": 139,
     "metadata": {},
     "output_type": "execute_result"
    }
   ],
   "source": [
    "moment_df.query('gene_2.isin([\"HLA-A\", \"HLA-B\", \"HLA-C\", \"B2M\"])', engine='python')"
   ]
  },
  {
   "cell_type": "code",
   "execution_count": 117,
   "metadata": {},
   "outputs": [
    {
     "data": {
      "text/html": [
       "<div>\n",
       "<style scoped>\n",
       "    .dataframe tbody tr th:only-of-type {\n",
       "        vertical-align: middle;\n",
       "    }\n",
       "\n",
       "    .dataframe tbody tr th {\n",
       "        vertical-align: top;\n",
       "    }\n",
       "\n",
       "    .dataframe thead th {\n",
       "        text-align: right;\n",
       "    }\n",
       "</style>\n",
       "<table border=\"1\" class=\"dataframe\">\n",
       "  <thead>\n",
       "    <tr style=\"text-align: right;\">\n",
       "      <th></th>\n",
       "      <th>gene_1</th>\n",
       "      <th>gene_2</th>\n",
       "      <th>corr_coef_3</th>\n",
       "      <th>corr_coef_6</th>\n",
       "      <th>corr_coef_9</th>\n",
       "      <th>corr_coef_24</th>\n",
       "      <th>corr_coef_48</th>\n",
       "    </tr>\n",
       "  </thead>\n",
       "  <tbody>\n",
       "    <tr>\n",
       "      <th>325</th>\n",
       "      <td>STAT1</td>\n",
       "      <td>HLA-A</td>\n",
       "      <td>0.404269</td>\n",
       "      <td>0.387095</td>\n",
       "      <td>NaN</td>\n",
       "      <td>NaN</td>\n",
       "      <td>NaN</td>\n",
       "    </tr>\n",
       "    <tr>\n",
       "      <th>327</th>\n",
       "      <td>STAT1</td>\n",
       "      <td>HLA-C</td>\n",
       "      <td>0.273931</td>\n",
       "      <td>0.351479</td>\n",
       "      <td>0.211282</td>\n",
       "      <td>0.15942</td>\n",
       "      <td>NaN</td>\n",
       "    </tr>\n",
       "    <tr>\n",
       "      <th>328</th>\n",
       "      <td>STAT1</td>\n",
       "      <td>HLA-B</td>\n",
       "      <td>0.381630</td>\n",
       "      <td>0.406874</td>\n",
       "      <td>NaN</td>\n",
       "      <td>NaN</td>\n",
       "      <td>NaN</td>\n",
       "    </tr>\n",
       "    <tr>\n",
       "      <th>649</th>\n",
       "      <td>STAT1</td>\n",
       "      <td>B2M</td>\n",
       "      <td>0.291344</td>\n",
       "      <td>0.413924</td>\n",
       "      <td>NaN</td>\n",
       "      <td>NaN</td>\n",
       "      <td>NaN</td>\n",
       "    </tr>\n",
       "  </tbody>\n",
       "</table>\n",
       "</div>"
      ],
      "text/plain": [
       "    gene_1 gene_2  corr_coef_3  corr_coef_6  corr_coef_9  corr_coef_24  \\\n",
       "325  STAT1  HLA-A     0.404269     0.387095          NaN           NaN   \n",
       "327  STAT1  HLA-C     0.273931     0.351479     0.211282       0.15942   \n",
       "328  STAT1  HLA-B     0.381630     0.406874          NaN           NaN   \n",
       "649  STAT1    B2M     0.291344     0.413924          NaN           NaN   \n",
       "\n",
       "     corr_coef_48  \n",
       "325           NaN  \n",
       "327           NaN  \n",
       "328           NaN  \n",
       "649           NaN  "
      ]
     },
     "execution_count": 117,
     "metadata": {},
     "output_type": "execute_result"
    }
   ],
   "source": [
    "coef_df.query('gene_2.isin([\"HLA-A\", \"HLA-B\", \"HLA-C\", \"B2M\"])', engine='python')"
   ]
  },
  {
   "cell_type": "code",
   "execution_count": 140,
   "metadata": {},
   "outputs": [
    {
     "data": {
      "text/html": [
       "<div>\n",
       "<style scoped>\n",
       "    .dataframe tbody tr th:only-of-type {\n",
       "        vertical-align: middle;\n",
       "    }\n",
       "\n",
       "    .dataframe tbody tr th {\n",
       "        vertical-align: top;\n",
       "    }\n",
       "\n",
       "    .dataframe thead th {\n",
       "        text-align: right;\n",
       "    }\n",
       "</style>\n",
       "<table border=\"1\" class=\"dataframe\">\n",
       "  <thead>\n",
       "    <tr style=\"text-align: right;\">\n",
       "      <th></th>\n",
       "      <th>gene_1</th>\n",
       "      <th>gene_2</th>\n",
       "      <th>corr_pval_3</th>\n",
       "      <th>corr_pval_6</th>\n",
       "      <th>corr_pval_9</th>\n",
       "      <th>corr_pval_24</th>\n",
       "      <th>corr_pval_48</th>\n",
       "    </tr>\n",
       "  </thead>\n",
       "  <tbody>\n",
       "    <tr>\n",
       "      <th>216</th>\n",
       "      <td>STAT1</td>\n",
       "      <td>HLA-C</td>\n",
       "      <td>0.072993</td>\n",
       "      <td>NaN</td>\n",
       "      <td>NaN</td>\n",
       "      <td>NaN</td>\n",
       "      <td>NaN</td>\n",
       "    </tr>\n",
       "  </tbody>\n",
       "</table>\n",
       "</div>"
      ],
      "text/plain": [
       "    gene_1 gene_2  corr_pval_3  corr_pval_6  corr_pval_9  corr_pval_24  \\\n",
       "216  STAT1  HLA-C     0.072993          NaN          NaN           NaN   \n",
       "\n",
       "     corr_pval_48  \n",
       "216           NaN  "
      ]
     },
     "execution_count": 140,
     "metadata": {},
     "output_type": "execute_result"
    }
   ],
   "source": [
    "pv_df.query('gene_2.isin([\"HLA-A\", \"HLA-B\", \"HLA-C\", \"B2M\"])', engine='python')"
   ]
  },
  {
   "cell_type": "code",
   "execution_count": 69,
   "metadata": {},
   "outputs": [],
   "source": [
    "vals = moment_df.query('gene_2.isin([\"HLA-A\", \"HLA-B\", \"HLA-C\", \"B2M\"])', engine='python').values[:, 2:]\n",
    "# vals = moment_df.query('gene_2.isin(@isg_genes)', engine='python').values[:, 2:]"
   ]
  },
  {
   "cell_type": "code",
   "execution_count": 70,
   "metadata": {},
   "outputs": [
    {
     "data": {
      "text/plain": [
       "[<matplotlib.lines.Line2D at 0x7fa7c46c55d0>,\n",
       " <matplotlib.lines.Line2D at 0x7fa7c536f510>,\n",
       " <matplotlib.lines.Line2D at 0x7fa7c536f6d0>,\n",
       " <matplotlib.lines.Line2D at 0x7fa7c536f890>]"
      ]
     },
     "execution_count": 70,
     "metadata": {},
     "output_type": "execute_result"
    },
    {
     "data": {
      "image/png": "[encoded data removed]",
      "text/plain": [
       "<Figure size 432x288 with 1 Axes>"
      ]
     },
     "metadata": {
      "needs_background": "light"
     },
     "output_type": "display_data"
    }
   ],
   "source": [
    "plt.plot(vals.T)"
   ]
  },
  {
   "cell_type": "markdown",
   "metadata": {},
   "source": [
    "### Check some expresssion level over time"
   ]
  },
  {
   "cell_type": "code",
   "execution_count": 11,
   "metadata": {},
   "outputs": [],
   "source": [
    "stim = 'beta'\n",
    "ct = ['ciliated',]"
   ]
  },
  {
   "cell_type": "code",
   "execution_count": 12,
   "metadata": {},
   "outputs": [
    {
     "name": "stderr",
     "output_type": "stream",
     "text": [
      "/data/home/Github/scrna-parameter-estimation/dist/memento-0.0.4-py3.7.egg/memento/estimator.py:100: RuntimeWarning: invalid value encountered in log\n"
     ]
    }
   ],
   "source": [
    "subset = adata[adata.obs['cell_type'].isin(ct) & adata.obs.stim.isin(['control', stim])].copy().copy()\n",
    "memento.create_groups(subset, label_columns=['time', 'donor'])\n",
    "memento.compute_1d_moments(subset, min_perc_group=.9)\n",
    "mean_df = memento.get_1d_moments(subset, groupby='time')[0][['gene'] + ['time_' + str(i) for i in [0, 3, 6, 9, 24, 48]]]\n",
    "var_df = memento.get_1d_moments(subset, groupby='time')[1][['gene'] + ['time_' + str(i) for i in [0, 3, 6, 9, 24, 48]]]"
   ]
  },
  {
   "cell_type": "code",
   "execution_count": 13,
   "metadata": {},
   "outputs": [
    {
     "data": {
      "text/plain": [
       "[<matplotlib.lines.Line2D at 0x7fb881b41390>]"
      ]
     },
     "execution_count": 13,
     "metadata": {},
     "output_type": "execute_result"
    },
    {
     "data": {
      "image/png": "[encoded data removed]",
      "text/plain": [
       "<Figure size 432x288 with 1 Axes>"
      ]
     },
     "metadata": {
      "needs_background": "light"
     },
     "output_type": "display_data"
    }
   ],
   "source": [
    "plt.plot(mean_df.query('gene.isin([\"STAT1\"])', engine='python').values[0, 1:])"
   ]
  },
  {
   "cell_type": "code",
   "execution_count": 14,
   "metadata": {},
   "outputs": [
    {
     "data": {
      "text/plain": [
       "[<matplotlib.lines.Line2D at 0x7fb8810d28d0>]"
      ]
     },
     "execution_count": 14,
     "metadata": {},
     "output_type": "execute_result"
    },
    {
     "data": {
      "image/png": "[encoded data removed]",
      "text/plain": [
       "<Figure size 432x288 with 1 Axes>"
      ]
     },
     "metadata": {
      "needs_background": "light"
     },
     "output_type": "display_data"
    }
   ],
   "source": [
    "plt.plot(var_df.query('gene.isin([\"STAT1\"])', engine='python').values[0, 1:])"
   ]
  },
  {
   "cell_type": "code",
   "execution_count": null,
   "metadata": {},
   "outputs": [],
   "source": []
  },
  {
   "cell_type": "code",
   "execution_count": null,
   "metadata": {},
   "outputs": [],
   "source": []
  },
  {
   "cell_type": "code",
   "execution_count": 15,
   "metadata": {},
   "outputs": [],
   "source": [
    "isg_genes = ['ISG15', 'MX1', 'MX2', 'ISG15', 'OAS1', 'OAS2', 'OAS3', 'OASL',]"
   ]
  },
  {
   "cell_type": "code",
   "execution_count": 16,
   "metadata": {},
   "outputs": [],
   "source": [
    "isg_mat = mean_df.query('gene.isin(@isg_genes)', engine='python').values[:, 1:]\n",
    "\n",
    "c1_mat = mean_df.query('gene.isin([\"HLA-A\", \"HLA-B\", \"HLA-C\", \"B2M\"])', engine='python').values[:, 1:]\n",
    "# c1_mat = c1_mat/c1_mat[:, 0].reshape(-1,1)"
   ]
  },
  {
   "cell_type": "code",
   "execution_count": 17,
   "metadata": {},
   "outputs": [
    {
     "data": {
      "text/plain": [
       "array([['STAT1', 'CREB3', 'KLF6'],\n",
       "       [0.378761887550354, -0.5750117301940918, 1.1166375875473022],\n",
       "       [1.607923150062561, -0.56675124168396, 1.3483425378799438],\n",
       "       [1.8231121301651, -0.6197191476821899, 1.5926910638809204],\n",
       "       [1.9202326536178589, -0.5898769497871399, 1.3491123914718628],\n",
       "       [1.8513927459716797, -0.6063563823699951, 1.369952917098999],\n",
       "       [1.5582482814788818, -0.5866938829421997, 1.5489485263824463]],\n",
       "      dtype=object)"
      ]
     },
     "execution_count": 17,
     "metadata": {},
     "output_type": "execute_result"
    }
   ],
   "source": [
    "mean_df.query('gene.isin([\"CREB3\", \"STAT1\", \"KLF6\", \"JUN\"])', engine='python').values[1:].T"
   ]
  },
  {
   "cell_type": "code",
   "execution_count": 18,
   "metadata": {},
   "outputs": [
    {
     "data": {
      "text/plain": [
       "417"
      ]
     },
     "execution_count": 18,
     "metadata": {},
     "output_type": "execute_result"
    }
   ],
   "source": [
    "len(list(set(tfs) & set(subset.var.index)))"
   ]
  },
  {
   "cell_type": "raw",
   "metadata": {},
   "source": [
    "for tf in list(set(tfs) & set(subset.var.index)):\n",
    "    plt.figure()\n",
    "    plt.plot(mean_df.query('gene.isin([\"{}\"])'.format(tf), engine='python').values[:, 1:].T);\n",
    "    plt.savefig('./temp_fig/{}.png'.format(tf)); plt.close()"
   ]
  },
  {
   "cell_type": "code",
   "execution_count": 19,
   "metadata": {},
   "outputs": [
    {
     "data": {
      "text/plain": [
       "[<matplotlib.lines.Line2D at 0x7fb8810c27d0>,\n",
       " <matplotlib.lines.Line2D at 0x7fb8810c2a50>,\n",
       " <matplotlib.lines.Line2D at 0x7fb8810c2c10>,\n",
       " <matplotlib.lines.Line2D at 0x7fb8810c2dd0>]"
      ]
     },
     "execution_count": 19,
     "metadata": {},
     "output_type": "execute_result"
    },
    {
     "data": {
      "image/png": "[encoded data removed]",
      "text/plain": [
       "<Figure size 432x288 with 1 Axes>"
      ]
     },
     "metadata": {
      "needs_background": "light"
     },
     "output_type": "display_data"
    }
   ],
   "source": [
    "plt.plot(mean_df.query('gene.isin([\"CREB3\", \"STAT1\", \"KLF6\", \"JUN\"])', engine='python').values[:, 1:].T)"
   ]
  },
  {
   "cell_type": "code",
   "execution_count": 20,
   "metadata": {},
   "outputs": [
    {
     "data": {
      "text/html": [
       "<div>\n",
       "<style scoped>\n",
       "    .dataframe tbody tr th:only-of-type {\n",
       "        vertical-align: middle;\n",
       "    }\n",
       "\n",
       "    .dataframe tbody tr th {\n",
       "        vertical-align: top;\n",
       "    }\n",
       "\n",
       "    .dataframe thead th {\n",
       "        text-align: right;\n",
       "    }\n",
       "</style>\n",
       "<table border=\"1\" class=\"dataframe\">\n",
       "  <thead>\n",
       "    <tr style=\"text-align: right;\">\n",
       "      <th></th>\n",
       "      <th>gene</th>\n",
       "      <th>time_0</th>\n",
       "      <th>time_3</th>\n",
       "      <th>time_6</th>\n",
       "      <th>time_9</th>\n",
       "      <th>time_24</th>\n",
       "      <th>time_48</th>\n",
       "    </tr>\n",
       "  </thead>\n",
       "  <tbody>\n",
       "    <tr>\n",
       "      <th>3221</th>\n",
       "      <td>HLA-A</td>\n",
       "      <td>1.656812</td>\n",
       "      <td>2.370405</td>\n",
       "      <td>2.487690</td>\n",
       "      <td>2.090583</td>\n",
       "      <td>2.035615</td>\n",
       "      <td>1.793220</td>\n",
       "    </tr>\n",
       "    <tr>\n",
       "      <th>3246</th>\n",
       "      <td>HLA-C</td>\n",
       "      <td>1.829254</td>\n",
       "      <td>2.479059</td>\n",
       "      <td>2.770877</td>\n",
       "      <td>2.521157</td>\n",
       "      <td>2.434578</td>\n",
       "      <td>2.142253</td>\n",
       "    </tr>\n",
       "    <tr>\n",
       "      <th>3247</th>\n",
       "      <td>HLA-B</td>\n",
       "      <td>1.967847</td>\n",
       "      <td>2.673597</td>\n",
       "      <td>2.807899</td>\n",
       "      <td>2.552474</td>\n",
       "      <td>2.472788</td>\n",
       "      <td>2.166302</td>\n",
       "    </tr>\n",
       "    <tr>\n",
       "      <th>6974</th>\n",
       "      <td>B2M</td>\n",
       "      <td>4.189476</td>\n",
       "      <td>4.438093</td>\n",
       "      <td>4.546697</td>\n",
       "      <td>4.348129</td>\n",
       "      <td>4.342992</td>\n",
       "      <td>4.125379</td>\n",
       "    </tr>\n",
       "  </tbody>\n",
       "</table>\n",
       "</div>"
      ],
      "text/plain": [
       "       gene    time_0    time_3    time_6    time_9   time_24   time_48\n",
       "3221  HLA-A  1.656812  2.370405  2.487690  2.090583  2.035615  1.793220\n",
       "3246  HLA-C  1.829254  2.479059  2.770877  2.521157  2.434578  2.142253\n",
       "3247  HLA-B  1.967847  2.673597  2.807899  2.552474  2.472788  2.166302\n",
       "6974    B2M  4.189476  4.438093  4.546697  4.348129  4.342992  4.125379"
      ]
     },
     "execution_count": 20,
     "metadata": {},
     "output_type": "execute_result"
    }
   ],
   "source": [
    "mean_df.query('gene.isin([\"HLA-A\", \"HLA-B\", \"HLA-C\", \"B2M\"])', engine='python')"
   ]
  },
  {
   "cell_type": "code",
   "execution_count": 24,
   "metadata": {},
   "outputs": [
    {
     "data": {
      "image/png": "[encoded data removed]",
      "text/plain": [
       "<Figure size 360x144 with 2 Axes>"
      ]
     },
     "metadata": {
      "needs_background": "light"
     },
     "output_type": "display_data"
    }
   ],
   "source": [
    "d = mean_df.query('gene.isin([\"REL\", \"NFKB2\"])', engine='python')\n",
    "plt.figure(figsize=(5,2))\n",
    "plt.subplots_adjust(wspace=0.4)\n",
    "locs = [1, 2]\n",
    "cs = [0, 2]\n",
    "num=0\n",
    "for idx, row in d.iterrows():\n",
    "    plt.subplot(1,2,locs[num])\n",
    "    plt.plot(row.values[1:], '-o')\n",
    "    plt.title(row['gene'])\n",
    "    plt.xticks([0, 1, 2, 3, 4, 5], ['0', '3', '6', '9', '24', '48'])\n",
    "    if num == 0:\n",
    "        plt.ylabel('Mean expr')\n",
    "    plt.xlabel('time (hr)')\n",
    "    num +=1\n",
    "\n",
    "plt.savefig(fig_path + 'mhc_aux_mean.pdf', bbox_inches='tight')\n"
   ]
  },
  {
   "cell_type": "code",
   "execution_count": 113,
   "metadata": {},
   "outputs": [
    {
     "data": {
      "image/png": "[encoded data removed]",
      "text/plain": [
       "<Figure size 252x144 with 4 Axes>"
      ]
     },
     "metadata": {
      "needs_background": "light"
     },
     "output_type": "display_data"
    }
   ],
   "source": [
    "d = mean_df.query('gene.isin([\"HLA-A\", \"HLA-B\", \"HLA-C\", \"B2M\"])', engine='python')\n",
    "plt.figure(figsize=(3.5,2))\n",
    "plt.subplots_adjust(wspace=0.4, hspace=0.9)\n",
    "locs = [1, 3, 2, 4]\n",
    "cs = [0, 2, 1, 3]\n",
    "num=0\n",
    "for idx, row in d.iterrows():\n",
    "    plt.subplot(2,2,locs[num])\n",
    "    plt.plot(row.values[1:], '-o', color='C'+str(cs[num]))\n",
    "    plt.title(row['gene'])\n",
    "    plt.xticks([0, 1, 2, 3, 4, 5], ['0', '3', '6', '9', '24', '48'])\n",
    "    num +=1\n",
    "plt.savefig(fig_path + 'mhc_mean_expr.pdf', bbox_inches='tight')\n"
   ]
  },
  {
   "cell_type": "code",
   "execution_count": 173,
   "metadata": {},
   "outputs": [
    {
     "data": {
      "text/plain": [
       "[<matplotlib.lines.Line2D at 0x7fa7c24264d0>,\n",
       " <matplotlib.lines.Line2D at 0x7fa7c3165fd0>,\n",
       " <matplotlib.lines.Line2D at 0x7fa7c3166210>]"
      ]
     },
     "execution_count": 173,
     "metadata": {},
     "output_type": "execute_result"
    },
    {
     "data": {
      "image/png": "[encoded data removed]",
      "text/plain": [
       "<Figure size 432x288 with 1 Axes>"
      ]
     },
     "metadata": {
      "needs_background": "light"
     },
     "output_type": "display_data"
    }
   ],
   "source": [
    "plt.plot(mean_df.query('gene.isin([\"HLA-A\", \"HLA-B\", \"HLA-C\", \"B2M\"])', engine='python').values[:, 1:].T)"
   ]
  },
  {
   "cell_type": "code",
   "execution_count": 45,
   "metadata": {},
   "outputs": [],
   "source": [
    "stim = 'beta'\n",
    "ct = ['bc', 'basal', 'ciliated']"
   ]
  },
  {
   "cell_type": "code",
   "execution_count": 46,
   "metadata": {},
   "outputs": [],
   "source": [
    "beta_stim = adata[adata.obs['cell_type'].isin(ct) & adata.obs.stim.isin(['control', stim])].copy().copy()"
   ]
  },
  {
   "cell_type": "code",
   "execution_count": 47,
   "metadata": {},
   "outputs": [
    {
     "data": {
      "text/plain": [
       "True"
      ]
     },
     "execution_count": 47,
     "metadata": {},
     "output_type": "execute_result"
    }
   ],
   "source": [
    "'LAIR1' in adata.var.index"
   ]
  },
  {
   "cell_type": "code",
   "execution_count": 48,
   "metadata": {},
   "outputs": [
    {
     "data": {
      "text/plain": [
       "([array([2333.,    0.,    0.,    0.,    0.,    0.,    0.,    0.,    0.,\n",
       "            0.,    0.,    0.,    0.,    0.,    8.]),\n",
       "  array([3245.,    0.,    0.,    0.,    0.,    0.,    0.,    0.,    0.,\n",
       "            0.,    0.,    0.,    0.,    0.,    7.])],\n",
       " array([0.        , 0.06666667, 0.13333334, 0.2       , 0.26666668,\n",
       "        0.33333334, 0.4       , 0.46666667, 0.53333336, 0.6       ,\n",
       "        0.6666667 , 0.73333335, 0.8       , 0.8666667 , 0.93333334,\n",
       "        1.        ], dtype=float32),\n",
       " <a list of 2 Lists of Patches objects>)"
      ]
     },
     "execution_count": 48,
     "metadata": {},
     "output_type": "execute_result"
    },
    {
     "data": {
      "image/png": "[encoded data removed]",
      "text/plain": [
       "<Figure size 432x288 with 1 Axes>"
      ]
     },
     "metadata": {
      "needs_background": "light"
     },
     "output_type": "display_data"
    }
   ],
   "source": [
    "plt.hist([\n",
    "    beta_stim[beta_stim.obs.time == '0', :][:, 'LAIR1'].X.todense().A1, \n",
    "    beta_stim[beta_stim.obs.time == '3', :][:, 'LAIR1'].X.todense().A1],\n",
    "    bins=15)\n",
    "# plt.hist(adata[adata.obs.time == '3', :][:, 'NLRC5'].X.todense().A1, bins=15)"
   ]
  },
  {
   "cell_type": "code",
   "execution_count": 62,
   "metadata": {},
   "outputs": [
    {
     "data": {
      "text/html": [
       "<div>\n",
       "<style scoped>\n",
       "    .dataframe tbody tr th:only-of-type {\n",
       "        vertical-align: middle;\n",
       "    }\n",
       "\n",
       "    .dataframe tbody tr th {\n",
       "        vertical-align: top;\n",
       "    }\n",
       "\n",
       "    .dataframe thead th {\n",
       "        text-align: right;\n",
       "    }\n",
       "</style>\n",
       "<table border=\"1\" class=\"dataframe\">\n",
       "  <thead>\n",
       "    <tr style=\"text-align: right;\">\n",
       "      <th></th>\n",
       "      <th>gene</th>\n",
       "      <th>time_0</th>\n",
       "      <th>time_3</th>\n",
       "      <th>time_6</th>\n",
       "      <th>time_9</th>\n",
       "      <th>time_24</th>\n",
       "      <th>time_48</th>\n",
       "    </tr>\n",
       "  </thead>\n",
       "  <tbody>\n",
       "    <tr>\n",
       "      <th>7798</th>\n",
       "      <td>NLRC5</td>\n",
       "      <td>-2.844202</td>\n",
       "      <td>-1.290465</td>\n",
       "      <td>-0.997472</td>\n",
       "      <td>-0.961713</td>\n",
       "      <td>-0.956975</td>\n",
       "      <td>-0.941885</td>\n",
       "    </tr>\n",
       "  </tbody>\n",
       "</table>\n",
       "</div>"
      ],
      "text/plain": [
       "       gene    time_0    time_3    time_6    time_9   time_24   time_48\n",
       "7798  NLRC5 -2.844202 -1.290465 -0.997472 -0.961713 -0.956975 -0.941885"
      ]
     },
     "execution_count": 62,
     "metadata": {},
     "output_type": "execute_result"
    }
   ],
   "source": [
    "df.query('gene.isin([\"NLRC5\"])', engine='python')"
   ]
  },
  {
   "cell_type": "code",
   "execution_count": 63,
   "metadata": {},
   "outputs": [
    {
     "data": {
      "text/html": [
       "<div>\n",
       "<style scoped>\n",
       "    .dataframe tbody tr th:only-of-type {\n",
       "        vertical-align: middle;\n",
       "    }\n",
       "\n",
       "    .dataframe tbody tr th {\n",
       "        vertical-align: top;\n",
       "    }\n",
       "\n",
       "    .dataframe thead th {\n",
       "        text-align: right;\n",
       "    }\n",
       "</style>\n",
       "<table border=\"1\" class=\"dataframe\">\n",
       "  <thead>\n",
       "    <tr style=\"text-align: right;\">\n",
       "      <th></th>\n",
       "      <th>gene</th>\n",
       "      <th>time_0</th>\n",
       "      <th>time_3</th>\n",
       "      <th>time_6</th>\n",
       "      <th>time_9</th>\n",
       "      <th>time_24</th>\n",
       "      <th>time_48</th>\n",
       "    </tr>\n",
       "  </thead>\n",
       "  <tbody>\n",
       "    <tr>\n",
       "      <th>3342</th>\n",
       "      <td>HLA-A</td>\n",
       "      <td>1.656812</td>\n",
       "      <td>2.370405</td>\n",
       "      <td>2.487690</td>\n",
       "      <td>2.090583</td>\n",
       "      <td>2.035615</td>\n",
       "      <td>1.793220</td>\n",
       "    </tr>\n",
       "    <tr>\n",
       "      <th>3367</th>\n",
       "      <td>HLA-C</td>\n",
       "      <td>1.829254</td>\n",
       "      <td>2.479059</td>\n",
       "      <td>2.770877</td>\n",
       "      <td>2.521157</td>\n",
       "      <td>2.434578</td>\n",
       "      <td>2.142253</td>\n",
       "    </tr>\n",
       "    <tr>\n",
       "      <th>3368</th>\n",
       "      <td>HLA-B</td>\n",
       "      <td>1.967847</td>\n",
       "      <td>2.673597</td>\n",
       "      <td>2.807899</td>\n",
       "      <td>2.552474</td>\n",
       "      <td>2.472788</td>\n",
       "      <td>2.166302</td>\n",
       "    </tr>\n",
       "    <tr>\n",
       "      <th>7264</th>\n",
       "      <td>B2M</td>\n",
       "      <td>4.189476</td>\n",
       "      <td>4.438093</td>\n",
       "      <td>4.546697</td>\n",
       "      <td>4.348129</td>\n",
       "      <td>4.342992</td>\n",
       "      <td>4.125379</td>\n",
       "    </tr>\n",
       "  </tbody>\n",
       "</table>\n",
       "</div>"
      ],
      "text/plain": [
       "       gene    time_0    time_3    time_6    time_9   time_24   time_48\n",
       "3342  HLA-A  1.656812  2.370405  2.487690  2.090583  2.035615  1.793220\n",
       "3367  HLA-C  1.829254  2.479059  2.770877  2.521157  2.434578  2.142253\n",
       "3368  HLA-B  1.967847  2.673597  2.807899  2.552474  2.472788  2.166302\n",
       "7264    B2M  4.189476  4.438093  4.546697  4.348129  4.342992  4.125379"
      ]
     },
     "execution_count": 63,
     "metadata": {},
     "output_type": "execute_result"
    }
   ],
   "source": [
    "df.query('gene.isin([\"HLA-A\", \"HLA-B\", \"HLA-C\", \"B2M\"])', engine='python')"
   ]
  },
  {
   "cell_type": "markdown",
   "metadata": {},
   "source": [
    "### Correlation of MHC I transcripts to canonical TFs"
   ]
  },
  {
   "cell_type": "code",
   "execution_count": null,
   "metadata": {},
   "outputs": [],
   "source": [
    "\n",
    "cts = [['ciliated']]\n",
    "tps = ['3', '6', '9', '24', '48']\n",
    "stims = ['alpha', 'beta', 'gamma', 'lambda']\n",
    "\n",
    "\n",
    "for ct in cts:\n",
    "    for tp in tps:\n",
    "        for stim in stims:\n",
    "            \n",
    "#             fname = '{}_{}_{}_{}.h5ad'.format('-'.join(ct), stim, tp, tf)\n",
    "#             if fname in done_files:\n",
    "#                 continue\n",
    "                            \n",
    "            print('starting', ct, tp, stim)\n",
    "\n",
    "            adata_stim = adata.copy()[\n",
    "                adata.obs.cell_type.isin(ct) & \\\n",
    "                adata.obs.stim.isin(['control', stim]) & \\\n",
    "                adata.obs.time.isin(['0',tp]), :].copy()\n",
    "            time_converter={0:0, int(tp):1}\n",
    "            adata_stim.obs['time_step'] = adata_stim.obs['time'].astype(int).apply(lambda x: time_converter[x])\n",
    "\n",
    "            memento.create_groups(adata_stim, label_columns=['time_step', 'donor'])\n",
    "            memento.compute_1d_moments(adata_stim, min_perc_group=.9)\n",
    "            \n",
    "            tf_list = list(set(tfs) & set(adata_stim.var.index))\n",
    "            \n",
    "            gene_list = adata_stim.var.index.tolist()\n",
    "            \n",
    "            memento.compute_2d_moments(adata_stim, list(itertools.product(tf_list, [\"HLA-A\", \"HLA-B\", \"HLA-C\", \"B2M\"])))\n",
    "\n",
    "            moment_df = memento.get_2d_moments(adata_stim, groupby='time_step')\n",
    "            moment_df.to_csv('/data_volume/ifn_hbec/tf_test/moments_{}_{}_{}_mhc1.csv'.format('-'.join(ct), stim, tp), index=False)\n",
    "\n",
    "\n",
    "            memento.ht_2d_moments( \n",
    "                adata_stim, \n",
    "                formula_like='1 + time_step',\n",
    "                cov_column='time_step', \n",
    "                num_boot=10000, \n",
    "                verbose=1,\n",
    "                num_cpus=13)\n",
    "\n",
    "            if 'mv_regressor' in adata_stim.uns['memento']:\n",
    "                del adata_stim.uns['memento']['mv_regressor']\n",
    "            adata_stim.write('/data_volume/ifn_hbec/tf_test/{}_{}_{}_mhc1.h5ad'.format('-'.join(ct), stim, tp))"
   ]
  },
  {
   "cell_type": "code",
   "execution_count": 75,
   "metadata": {},
   "outputs": [
    {
     "name": "stdout",
     "output_type": "stream",
     "text": [
      "3\n",
      "6\n",
      "9\n",
      "24\n",
      "48\n"
     ]
    }
   ],
   "source": [
    "stim = 'beta'\n",
    "ct = ['ciliated']\n",
    "for tp in ['3', '6', '9', '24', '48']:\n",
    "    \n",
    "    print(tp)\n",
    "\n",
    "    \n",
    "#     moments = memento.get_2d_moments(adata_result, groupby='time_step').rename(columns={'time_step_0':'time_0', 'time_step_1':'time_'+tp})\n",
    "    moments = pd.read_csv('/data_volume/ifn_hbec/tf_test/moments_{}_{}_{}_mhc1.csv'.format('-'.join(ct), stim, tp)).rename(columns={'time_step_0':'time_0', 'time_step_1':'time_'+tp})\n",
    "    res_df = memento.get_2d_ht_result(adata_result)\\\n",
    "        .rename(columns={\n",
    "            'corr_coef':'corr_coef' + '_' + tp,\n",
    "            'corr_pval':'corr_pval' + '_' + tp})\n",
    "    \n",
    "    if tp == '3':\n",
    "\n",
    "        pv_df = res_df[['gene_1', 'gene_2', 'corr_pval' + '_' + tp]].copy()\n",
    "        coef_df = res_df[['gene_1', 'gene_2', 'corr_coef' + '_' + tp]].copy()\n",
    "        moment_df = moments[['gene_1', 'gene_2', 'time_0', 'time_3']].copy()\n",
    "        \n",
    "    else:\n",
    "        \n",
    "        pv_df = pv_df.merge(res_df[['gene_1', 'gene_2', 'corr_pval' + '_' + tp]].copy(), on=['gene_1', 'gene_2'], how='outer')\n",
    "        coef_df = coef_df.merge(res_df[['gene_1', 'gene_2', 'corr_coef' + '_' + tp]].copy(), on=['gene_1', 'gene_2'], how='outer')\n",
    "        moment_df = moment_df.merge(moments[['gene_1', 'gene_2', 'time_{}'.format(tp)]].copy(), on=['gene_1', 'gene_2'], how='outer')\n",
    "    \n",
    "    \n",
    "    "
   ]
  },
  {
   "cell_type": "code",
   "execution_count": null,
   "metadata": {},
   "outputs": [],
   "source": []
  },
  {
   "cell_type": "markdown",
   "metadata": {},
   "source": [
    "### Hunt for some relevant TFs"
   ]
  },
  {
   "cell_type": "code",
   "execution_count": 25,
   "metadata": {},
   "outputs": [],
   "source": [
    "stim = 'beta'\n",
    "tp = '48'\n",
    "ct = ['ciliated']\n",
    "\n",
    "fname = '/data_volume/ifn_hbec/tf_test/{}_{}_{}_mhc1.h5ad'.format('-'.join(ct), stim, tp)\n",
    "adata_result = sc.read(fname)"
   ]
  },
  {
   "cell_type": "code",
   "execution_count": 26,
   "metadata": {},
   "outputs": [],
   "source": [
    "\n",
    "fname = '/data_volume/ifn_hbec/tf_test/{}_{}_{}_mhc1.h5ad'.format('-'.join(ct), stim, tp)\n",
    "adata_result = sc.read(fname)\n",
    "\n",
    "moments = pd.read_csv('/data_volume/ifn_hbec/tf_test/moments_{}_{}_{}_mhc1.csv'.format('-'.join(ct), stim, tp)).rename(columns={'time_step_0':'time_0', 'time_step_1':'time_'+tp})\n",
    "res_df = memento.get_2d_ht_result(adata_result)\n",
    "# rel_res_df = memento.get_2d_ht_result(adata_stim)"
   ]
  },
  {
   "cell_type": "code",
   "execution_count": 27,
   "metadata": {},
   "outputs": [],
   "source": [
    "wired_pairs = moments.query('time_0 > 0.4 | time_{} > 0.4'.format(tp))"
   ]
  },
  {
   "cell_type": "code",
   "execution_count": 28,
   "metadata": {},
   "outputs": [],
   "source": [
    "filtered_res_df = res_df.merge(wired_pairs, on=['gene_1', 'gene_2'])\n",
    "filtered_res_df['corr_fdr'] = memento.util._fdrcorrect(filtered_res_df['corr_pval'])"
   ]
  },
  {
   "cell_type": "code",
   "execution_count": 29,
   "metadata": {},
   "outputs": [],
   "source": [
    "pd.set_option('display.max_rows', 500)\n"
   ]
  },
  {
   "cell_type": "code",
   "execution_count": 30,
   "metadata": {},
   "outputs": [
    {
     "data": {
      "text/html": [
       "<div>\n",
       "<style scoped>\n",
       "    .dataframe tbody tr th:only-of-type {\n",
       "        vertical-align: middle;\n",
       "    }\n",
       "\n",
       "    .dataframe tbody tr th {\n",
       "        vertical-align: top;\n",
       "    }\n",
       "\n",
       "    .dataframe thead th {\n",
       "        text-align: right;\n",
       "    }\n",
       "</style>\n",
       "<table border=\"1\" class=\"dataframe\">\n",
       "  <thead>\n",
       "    <tr style=\"text-align: right;\">\n",
       "      <th></th>\n",
       "      <th>gene_1</th>\n",
       "      <th>gene_2</th>\n",
       "      <th>corr_coef</th>\n",
       "      <th>corr_se</th>\n",
       "      <th>corr_pval</th>\n",
       "      <th>time_0</th>\n",
       "      <th>time_48</th>\n",
       "      <th>corr_fdr</th>\n",
       "    </tr>\n",
       "  </thead>\n",
       "  <tbody>\n",
       "    <tr>\n",
       "      <th>32</th>\n",
       "      <td>BARX2</td>\n",
       "      <td>B2M</td>\n",
       "      <td>0.468011</td>\n",
       "      <td>0.191003</td>\n",
       "      <td>0.032297</td>\n",
       "      <td>0.196546</td>\n",
       "      <td>0.406067</td>\n",
       "      <td>0.094991</td>\n",
       "    </tr>\n",
       "  </tbody>\n",
       "</table>\n",
       "</div>"
      ],
      "text/plain": [
       "   gene_1 gene_2  corr_coef   corr_se  corr_pval    time_0   time_48  corr_fdr\n",
       "32  BARX2    B2M   0.468011  0.191003   0.032297  0.196546  0.406067  0.094991"
      ]
     },
     "execution_count": 30,
     "metadata": {},
     "output_type": "execute_result"
    }
   ],
   "source": [
    "filtered_res_df.query('corr_fdr < 0.1 & corr_coef > 0')"
   ]
  },
  {
   "cell_type": "code",
   "execution_count": 31,
   "metadata": {},
   "outputs": [
    {
     "data": {
      "text/html": [
       "<div>\n",
       "<style scoped>\n",
       "    .dataframe tbody tr th:only-of-type {\n",
       "        vertical-align: middle;\n",
       "    }\n",
       "\n",
       "    .dataframe tbody tr th {\n",
       "        vertical-align: top;\n",
       "    }\n",
       "\n",
       "    .dataframe thead th {\n",
       "        text-align: right;\n",
       "    }\n",
       "</style>\n",
       "<table border=\"1\" class=\"dataframe\">\n",
       "  <thead>\n",
       "    <tr style=\"text-align: right;\">\n",
       "      <th></th>\n",
       "      <th>gene_1</th>\n",
       "      <th>gene_2</th>\n",
       "      <th>corr_coef</th>\n",
       "      <th>corr_se</th>\n",
       "      <th>corr_pval</th>\n",
       "      <th>time_0</th>\n",
       "      <th>time_48</th>\n",
       "      <th>corr_fdr</th>\n",
       "    </tr>\n",
       "  </thead>\n",
       "  <tbody>\n",
       "  </tbody>\n",
       "</table>\n",
       "</div>"
      ],
      "text/plain": [
       "Empty DataFrame\n",
       "Columns: [gene_1, gene_2, corr_coef, corr_se, corr_pval, time_0, time_48, corr_fdr]\n",
       "Index: []"
      ]
     },
     "execution_count": 31,
     "metadata": {},
     "output_type": "execute_result"
    }
   ],
   "source": [
    "filtered_res_df.query('corr_fdr < 0.05 & corr_coef > 0')"
   ]
  },
  {
   "cell_type": "code",
   "execution_count": 32,
   "metadata": {},
   "outputs": [
    {
     "data": {
      "text/html": [
       "<div>\n",
       "<style scoped>\n",
       "    .dataframe tbody tr th:only-of-type {\n",
       "        vertical-align: middle;\n",
       "    }\n",
       "\n",
       "    .dataframe tbody tr th {\n",
       "        vertical-align: top;\n",
       "    }\n",
       "\n",
       "    .dataframe thead th {\n",
       "        text-align: right;\n",
       "    }\n",
       "</style>\n",
       "<table border=\"1\" class=\"dataframe\">\n",
       "  <thead>\n",
       "    <tr style=\"text-align: right;\">\n",
       "      <th></th>\n",
       "      <th>gene_1</th>\n",
       "      <th>gene_2</th>\n",
       "      <th>corr_coef</th>\n",
       "      <th>corr_se</th>\n",
       "      <th>corr_pval</th>\n",
       "    </tr>\n",
       "  </thead>\n",
       "  <tbody>\n",
       "    <tr>\n",
       "      <th>0</th>\n",
       "      <td>FOXA1</td>\n",
       "      <td>HLA-A</td>\n",
       "      <td>-0.056048</td>\n",
       "      <td>0.138552</td>\n",
       "      <td>0.672333</td>\n",
       "    </tr>\n",
       "    <tr>\n",
       "      <th>1</th>\n",
       "      <td>FOXA1</td>\n",
       "      <td>HLA-B</td>\n",
       "      <td>-0.017892</td>\n",
       "      <td>0.120553</td>\n",
       "      <td>0.886911</td>\n",
       "    </tr>\n",
       "    <tr>\n",
       "      <th>2</th>\n",
       "      <td>FOXA1</td>\n",
       "      <td>HLA-C</td>\n",
       "      <td>-0.039600</td>\n",
       "      <td>0.137438</td>\n",
       "      <td>0.766823</td>\n",
       "    </tr>\n",
       "    <tr>\n",
       "      <th>3</th>\n",
       "      <td>FOXA1</td>\n",
       "      <td>B2M</td>\n",
       "      <td>-0.067997</td>\n",
       "      <td>0.115958</td>\n",
       "      <td>0.542846</td>\n",
       "    </tr>\n",
       "    <tr>\n",
       "      <th>4</th>\n",
       "      <td>ELF3</td>\n",
       "      <td>HLA-A</td>\n",
       "      <td>-0.036777</td>\n",
       "      <td>0.079008</td>\n",
       "      <td>0.646335</td>\n",
       "    </tr>\n",
       "    <tr>\n",
       "      <th>...</th>\n",
       "      <td>...</td>\n",
       "      <td>...</td>\n",
       "      <td>...</td>\n",
       "      <td>...</td>\n",
       "      <td>...</td>\n",
       "    </tr>\n",
       "    <tr>\n",
       "      <th>1595</th>\n",
       "      <td>KLF2</td>\n",
       "      <td>B2M</td>\n",
       "      <td>0.047859</td>\n",
       "      <td>0.080182</td>\n",
       "      <td>0.540046</td>\n",
       "    </tr>\n",
       "    <tr>\n",
       "      <th>1596</th>\n",
       "      <td>ZBTB11</td>\n",
       "      <td>HLA-A</td>\n",
       "      <td>0.548664</td>\n",
       "      <td>0.214973</td>\n",
       "      <td>0.015998</td>\n",
       "    </tr>\n",
       "    <tr>\n",
       "      <th>1597</th>\n",
       "      <td>ZBTB11</td>\n",
       "      <td>HLA-B</td>\n",
       "      <td>0.549160</td>\n",
       "      <td>0.218291</td>\n",
       "      <td>0.024098</td>\n",
       "    </tr>\n",
       "    <tr>\n",
       "      <th>1598</th>\n",
       "      <td>ZBTB11</td>\n",
       "      <td>HLA-C</td>\n",
       "      <td>0.008946</td>\n",
       "      <td>0.237385</td>\n",
       "      <td>0.965903</td>\n",
       "    </tr>\n",
       "    <tr>\n",
       "      <th>1599</th>\n",
       "      <td>ZBTB11</td>\n",
       "      <td>B2M</td>\n",
       "      <td>0.184607</td>\n",
       "      <td>0.212982</td>\n",
       "      <td>0.360264</td>\n",
       "    </tr>\n",
       "  </tbody>\n",
       "</table>\n",
       "<p>1600 rows × 5 columns</p>\n",
       "</div>"
      ],
      "text/plain": [
       "      gene_1 gene_2  corr_coef   corr_se  corr_pval\n",
       "0      FOXA1  HLA-A  -0.056048  0.138552   0.672333\n",
       "1      FOXA1  HLA-B  -0.017892  0.120553   0.886911\n",
       "2      FOXA1  HLA-C  -0.039600  0.137438   0.766823\n",
       "3      FOXA1    B2M  -0.067997  0.115958   0.542846\n",
       "4       ELF3  HLA-A  -0.036777  0.079008   0.646335\n",
       "...      ...    ...        ...       ...        ...\n",
       "1595    KLF2    B2M   0.047859  0.080182   0.540046\n",
       "1596  ZBTB11  HLA-A   0.548664  0.214973   0.015998\n",
       "1597  ZBTB11  HLA-B   0.549160  0.218291   0.024098\n",
       "1598  ZBTB11  HLA-C   0.008946  0.237385   0.965903\n",
       "1599  ZBTB11    B2M   0.184607  0.212982   0.360264\n",
       "\n",
       "[1600 rows x 5 columns]"
      ]
     },
     "execution_count": 32,
     "metadata": {},
     "output_type": "execute_result"
    }
   ],
   "source": [
    "res_df"
   ]
  },
  {
   "cell_type": "code",
   "execution_count": 33,
   "metadata": {},
   "outputs": [
    {
     "data": {
      "text/html": [
       "<div>\n",
       "<style scoped>\n",
       "    .dataframe tbody tr th:only-of-type {\n",
       "        vertical-align: middle;\n",
       "    }\n",
       "\n",
       "    .dataframe tbody tr th {\n",
       "        vertical-align: top;\n",
       "    }\n",
       "\n",
       "    .dataframe thead th {\n",
       "        text-align: right;\n",
       "    }\n",
       "</style>\n",
       "<table border=\"1\" class=\"dataframe\">\n",
       "  <thead>\n",
       "    <tr style=\"text-align: right;\">\n",
       "      <th></th>\n",
       "      <th>gene_1</th>\n",
       "      <th>gene_2</th>\n",
       "      <th>time_0</th>\n",
       "      <th>time_48</th>\n",
       "    </tr>\n",
       "  </thead>\n",
       "  <tbody>\n",
       "    <tr>\n",
       "      <th>0</th>\n",
       "      <td>FOXA1</td>\n",
       "      <td>HLA-A</td>\n",
       "      <td>-0.010951</td>\n",
       "      <td>-0.036042</td>\n",
       "    </tr>\n",
       "    <tr>\n",
       "      <th>1</th>\n",
       "      <td>FOXA1</td>\n",
       "      <td>HLA-B</td>\n",
       "      <td>-0.105736</td>\n",
       "      <td>-0.113746</td>\n",
       "    </tr>\n",
       "    <tr>\n",
       "      <th>2</th>\n",
       "      <td>FOXA1</td>\n",
       "      <td>HLA-C</td>\n",
       "      <td>-0.110515</td>\n",
       "      <td>-0.128243</td>\n",
       "    </tr>\n",
       "    <tr>\n",
       "      <th>4</th>\n",
       "      <td>ELF3</td>\n",
       "      <td>HLA-A</td>\n",
       "      <td>0.221549</td>\n",
       "      <td>0.205085</td>\n",
       "    </tr>\n",
       "    <tr>\n",
       "      <th>5</th>\n",
       "      <td>ELF3</td>\n",
       "      <td>HLA-B</td>\n",
       "      <td>0.234490</td>\n",
       "      <td>0.230563</td>\n",
       "    </tr>\n",
       "    <tr>\n",
       "      <th>...</th>\n",
       "      <td>...</td>\n",
       "      <td>...</td>\n",
       "      <td>...</td>\n",
       "      <td>...</td>\n",
       "    </tr>\n",
       "    <tr>\n",
       "      <th>1593</th>\n",
       "      <td>KLF2</td>\n",
       "      <td>HLA-B</td>\n",
       "      <td>-0.076569</td>\n",
       "      <td>-0.043462</td>\n",
       "    </tr>\n",
       "    <tr>\n",
       "      <th>1594</th>\n",
       "      <td>KLF2</td>\n",
       "      <td>HLA-C</td>\n",
       "      <td>0.059468</td>\n",
       "      <td>0.079675</td>\n",
       "    </tr>\n",
       "    <tr>\n",
       "      <th>1596</th>\n",
       "      <td>ZBTB11</td>\n",
       "      <td>HLA-A</td>\n",
       "      <td>-0.097915</td>\n",
       "      <td>0.147713</td>\n",
       "    </tr>\n",
       "    <tr>\n",
       "      <th>1597</th>\n",
       "      <td>ZBTB11</td>\n",
       "      <td>HLA-B</td>\n",
       "      <td>-0.075090</td>\n",
       "      <td>0.170759</td>\n",
       "    </tr>\n",
       "    <tr>\n",
       "      <th>1598</th>\n",
       "      <td>ZBTB11</td>\n",
       "      <td>HLA-C</td>\n",
       "      <td>0.007722</td>\n",
       "      <td>0.011727</td>\n",
       "    </tr>\n",
       "  </tbody>\n",
       "</table>\n",
       "<p>1200 rows × 4 columns</p>\n",
       "</div>"
      ],
      "text/plain": [
       "      gene_1 gene_2    time_0   time_48\n",
       "0      FOXA1  HLA-A -0.010951 -0.036042\n",
       "1      FOXA1  HLA-B -0.105736 -0.113746\n",
       "2      FOXA1  HLA-C -0.110515 -0.128243\n",
       "4       ELF3  HLA-A  0.221549  0.205085\n",
       "5       ELF3  HLA-B  0.234490  0.230563\n",
       "...      ...    ...       ...       ...\n",
       "1593    KLF2  HLA-B -0.076569 -0.043462\n",
       "1594    KLF2  HLA-C  0.059468  0.079675\n",
       "1596  ZBTB11  HLA-A -0.097915  0.147713\n",
       "1597  ZBTB11  HLA-B -0.075090  0.170759\n",
       "1598  ZBTB11  HLA-C  0.007722  0.011727\n",
       "\n",
       "[1200 rows x 4 columns]"
      ]
     },
     "execution_count": 33,
     "metadata": {},
     "output_type": "execute_result"
    }
   ],
   "source": [
    "moments.query('gene_2.str.startswith(\"HLA-\")', engine='python')"
   ]
  },
  {
   "cell_type": "markdown",
   "metadata": {},
   "source": [
    "### Check correlations to other TFs over time"
   ]
  },
  {
   "cell_type": "code",
   "execution_count": 34,
   "metadata": {},
   "outputs": [],
   "source": [
    "stim = 'beta'\n",
    "ct = ['ciliated']\n",
    "tf = 'STAT1'"
   ]
  },
  {
   "cell_type": "code",
   "execution_count": 35,
   "metadata": {},
   "outputs": [
    {
     "name": "stdout",
     "output_type": "stream",
     "text": [
      "3\n",
      "6\n",
      "9\n",
      "24\n",
      "48\n"
     ]
    }
   ],
   "source": [
    "\n",
    "for tp in ['3', '6', '9', '24', '48']:\n",
    "    \n",
    "    print(tp)\n",
    "\n",
    "    fname = '/data_volume/ifn_hbec/tf_test/{}_{}_{}_mhc1.h5ad'.format('-'.join(ct), stim, tp)\n",
    "    adata_result = sc.read(fname)\n",
    "    \n",
    "#     moments = memento.get_2d_moments(adata_result, groupby='time_step').rename(columns={'time_step_0':'time_0', 'time_step_1':'time_'+tp})\n",
    "    moments = pd.read_csv('/data_volume/ifn_hbec/tf_test/moments_{}_{}_{}_mhc1.csv'.format('-'.join(ct), stim, tp)).rename(columns={'time_step_0':'time_0', 'time_step_1':'time_'+tp})\n",
    "    res_df = memento.get_2d_ht_result(adata_result)\\\n",
    "        .rename(columns={\n",
    "            'corr_coef':'corr_coef' + '_' + tp,\n",
    "            'corr_pval':'corr_pval' + '_' + tp})\n",
    "    \n",
    "    if tp == '3':\n",
    "\n",
    "        pv_df = res_df[['gene_1', 'gene_2', 'corr_pval' + '_' + tp]].copy()\n",
    "        coef_df = res_df[['gene_1', 'gene_2', 'corr_coef' + '_' + tp]].copy()\n",
    "        moment_df = moments[['gene_1', 'gene_2', 'time_0', 'time_3']].copy()\n",
    "        \n",
    "    else:\n",
    "        \n",
    "        pv_df = pv_df.merge(res_df[['gene_1', 'gene_2', 'corr_pval' + '_' + tp]].copy(), on=['gene_1', 'gene_2'], how='outer')\n",
    "        coef_df = coef_df.merge(res_df[['gene_1', 'gene_2', 'corr_coef' + '_' + tp]].copy(), on=['gene_1', 'gene_2'], how='outer')\n",
    "        moment_df = moment_df.merge(moments[['gene_1', 'gene_2', 'time_{}'.format(tp)]].copy(), on=['gene_1', 'gene_2'], how='outer')\n",
    "    \n",
    "    \n",
    "    "
   ]
  },
  {
   "cell_type": "code",
   "execution_count": 40,
   "metadata": {},
   "outputs": [
    {
     "data": {
      "image/png": "[encoded data removed]",
      "text/plain": [
       "<Figure size 144x144 with 1 Axes>"
      ]
     },
     "metadata": {
      "needs_background": "light"
     },
     "output_type": "display_data"
    }
   ],
   "source": [
    "tf = 'NFKB2'\n",
    "plt.figure(figsize=(2,2))\n",
    "plt.plot(moment_df.query('gene_1 == \"{}\"'.format(tf)).values[:, 2:].T, '--o')\n",
    "plt.xticks([0, 1, 2, 3, 4, 5], ['0', '3', '6', '9', '24', '48'])\n",
    "plt.xlabel('Time (hr)'); plt.ylabel('Corr {}'.format(tf))\n",
    "plt.savefig(fig_path + 'mhc_corr_NFKB2.pdf', bbox_inches='tight')\n"
   ]
  },
  {
   "cell_type": "code",
   "execution_count": 41,
   "metadata": {},
   "outputs": [
    {
     "data": {
      "image/png": "[encoded data removed]",
      "text/plain": [
       "<Figure size 144x144 with 1 Axes>"
      ]
     },
     "metadata": {
      "needs_background": "light"
     },
     "output_type": "display_data"
    }
   ],
   "source": [
    "tf = 'REL'\n",
    "plt.figure(figsize=(2,2))\n",
    "plt.plot(moment_df.query('gene_1 == \"{}\"'.format(tf)).values[:, 2:].T, '--o')\n",
    "plt.xticks([0, 1, 2, 3, 4, 5], ['0', '3', '6', '9', '24', '48'])\n",
    "plt.xlabel('Time (hr)'); plt.ylabel('Corr {}'.format(tf))\n",
    "plt.savefig(fig_path + 'mhc_corr_REL.pdf', bbox_inches='tight')\n"
   ]
  },
  {
   "cell_type": "code",
   "execution_count": 38,
   "metadata": {},
   "outputs": [
    {
     "data": {
      "text/plain": [
       "Text(0, 0.5, 'Corr RFX5')"
      ]
     },
     "execution_count": 38,
     "metadata": {},
     "output_type": "execute_result"
    },
    {
     "data": {
      "image/png": "[encoded data removed]",
      "text/plain": [
       "<Figure size 144x144 with 1 Axes>"
      ]
     },
     "metadata": {
      "needs_background": "light"
     },
     "output_type": "display_data"
    }
   ],
   "source": [
    "tf = 'RFX5'\n",
    "plt.figure(figsize=(2,2))\n",
    "plt.plot(moment_df.query('gene_1 == \"{}\"'.format(tf)).values[:, 2:].T, '--o')\n",
    "plt.xticks([0, 1, 2, 3, 4, 5], ['0', '3', '6', '9', '24', '48'])\n",
    "plt.xlabel('Time (hr)'); plt.ylabel('Corr {}'.format(tf))"
   ]
  },
  {
   "cell_type": "code",
   "execution_count": 121,
   "metadata": {},
   "outputs": [
    {
     "data": {
      "image/png": "[encoded data removed]",
      "text/plain": [
       "<Figure size 144x144 with 1 Axes>"
      ]
     },
     "metadata": {
      "needs_background": "light"
     },
     "output_type": "display_data"
    }
   ],
   "source": [
    "tf = 'CREB3'\n",
    "plt.figure(figsize=(2,2))\n",
    "plt.plot(moment_df.query('gene_1 == \"{}\"'.format(tf)).values[:, 2:].T, '--o')\n",
    "plt.xticks([0, 1, 2, 3, 4, 5], ['0', '3', '6', '9', '24', '48'])\n",
    "plt.xlabel('Time (hr)'); plt.ylabel('Corr {}'.format(tf))\n",
    "plt.savefig(fig_path + 'mhc_creb3_corr.pdf', bbox_inches='tight')"
   ]
  },
  {
   "cell_type": "code",
   "execution_count": 122,
   "metadata": {},
   "outputs": [
    {
     "data": {
      "image/png": "[encoded data removed]",
      "text/plain": [
       "<Figure size 144x144 with 1 Axes>"
      ]
     },
     "metadata": {
      "needs_background": "light"
     },
     "output_type": "display_data"
    }
   ],
   "source": [
    "tf = 'STAT1'\n",
    "plt.figure(figsize=(2,2))\n",
    "plt.plot(moment_df.query('gene_1 == \"{}\"'.format(tf)).values[:, 2:].T, '--o')\n",
    "plt.xticks([0, 1, 2, 3, 4, 5], ['0', '3', '6', '9', '24', '48'])\n",
    "plt.xlabel('Time (hr)'); plt.ylabel('Corr {}'.format(tf))\n",
    "plt.savefig(fig_path + 'mhc_stat1_corr.pdf', bbox_inches='tight')"
   ]
  },
  {
   "cell_type": "code",
   "execution_count": 242,
   "metadata": {},
   "outputs": [],
   "source": [
    "tf = 'CREB3'"
   ]
  },
  {
   "cell_type": "code",
   "execution_count": 243,
   "metadata": {},
   "outputs": [
    {
     "data": {
      "text/html": [
       "<div>\n",
       "<style scoped>\n",
       "    .dataframe tbody tr th:only-of-type {\n",
       "        vertical-align: middle;\n",
       "    }\n",
       "\n",
       "    .dataframe tbody tr th {\n",
       "        vertical-align: top;\n",
       "    }\n",
       "\n",
       "    .dataframe thead th {\n",
       "        text-align: right;\n",
       "    }\n",
       "</style>\n",
       "<table border=\"1\" class=\"dataframe\">\n",
       "  <thead>\n",
       "    <tr style=\"text-align: right;\">\n",
       "      <th></th>\n",
       "      <th>gene_1</th>\n",
       "      <th>gene_2</th>\n",
       "      <th>time_0</th>\n",
       "      <th>time_3</th>\n",
       "      <th>time_6</th>\n",
       "      <th>time_9</th>\n",
       "      <th>time_24</th>\n",
       "      <th>time_48</th>\n",
       "    </tr>\n",
       "  </thead>\n",
       "  <tbody>\n",
       "    <tr>\n",
       "      <th>828</th>\n",
       "      <td>CREB3</td>\n",
       "      <td>HLA-A</td>\n",
       "      <td>0.092283</td>\n",
       "      <td>0.225511</td>\n",
       "      <td>0.230557</td>\n",
       "      <td>0.079328</td>\n",
       "      <td>0.065209</td>\n",
       "      <td>0.104553</td>\n",
       "    </tr>\n",
       "    <tr>\n",
       "      <th>829</th>\n",
       "      <td>CREB3</td>\n",
       "      <td>HLA-B</td>\n",
       "      <td>0.172263</td>\n",
       "      <td>0.341903</td>\n",
       "      <td>0.307946</td>\n",
       "      <td>0.155191</td>\n",
       "      <td>0.201031</td>\n",
       "      <td>0.159479</td>\n",
       "    </tr>\n",
       "    <tr>\n",
       "      <th>830</th>\n",
       "      <td>CREB3</td>\n",
       "      <td>HLA-C</td>\n",
       "      <td>0.190355</td>\n",
       "      <td>0.365602</td>\n",
       "      <td>0.330579</td>\n",
       "      <td>0.188595</td>\n",
       "      <td>0.240382</td>\n",
       "      <td>0.157265</td>\n",
       "    </tr>\n",
       "    <tr>\n",
       "      <th>831</th>\n",
       "      <td>CREB3</td>\n",
       "      <td>B2M</td>\n",
       "      <td>0.193022</td>\n",
       "      <td>0.443010</td>\n",
       "      <td>0.429344</td>\n",
       "      <td>0.321969</td>\n",
       "      <td>0.269825</td>\n",
       "      <td>0.238096</td>\n",
       "    </tr>\n",
       "  </tbody>\n",
       "</table>\n",
       "</div>"
      ],
      "text/plain": [
       "    gene_1 gene_2    time_0    time_3    time_6    time_9   time_24   time_48\n",
       "828  CREB3  HLA-A  0.092283  0.225511  0.230557  0.079328  0.065209  0.104553\n",
       "829  CREB3  HLA-B  0.172263  0.341903  0.307946  0.155191  0.201031  0.159479\n",
       "830  CREB3  HLA-C  0.190355  0.365602  0.330579  0.188595  0.240382  0.157265\n",
       "831  CREB3    B2M  0.193022  0.443010  0.429344  0.321969  0.269825  0.238096"
      ]
     },
     "execution_count": 243,
     "metadata": {},
     "output_type": "execute_result"
    }
   ],
   "source": [
    "moment_df.query('gene_1 == \"{}\"'.format(tf))"
   ]
  },
  {
   "cell_type": "code",
   "execution_count": 244,
   "metadata": {},
   "outputs": [
    {
     "data": {
      "text/plain": [
       "<matplotlib.legend.Legend at 0x7fa7bf95d4d0>"
      ]
     },
     "execution_count": 244,
     "metadata": {},
     "output_type": "execute_result"
    },
    {
     "data": {
      "image/png": "[encoded data removed]",
      "text/plain": [
       "<Figure size 144x144 with 1 Axes>"
      ]
     },
     "metadata": {
      "needs_background": "light"
     },
     "output_type": "display_data"
    }
   ],
   "source": [
    "tf = 'CREB3'\n",
    "plt.figure(figsize=(2,2))\n",
    "plt.plot(moment_df.query('gene_1 == \"{}\"'.format(tf)).values[:, 2:].T, '-o')\n",
    "plt.xticks([0, 1, 2, 3, 4, 5], ['0', '3', '6', '9', '24', '48'])\n",
    "plt.xlabel('Time (hr)'); plt.ylabel('Corr {}'.format(tf))\n",
    "plt.legend(['HLA-A', 'HLA-B', 'HLA-C', 'B2M'], ncol=4, frameon=False, bbox_to_anchor=(1,1))"
   ]
  },
  {
   "cell_type": "code",
   "execution_count": 245,
   "metadata": {},
   "outputs": [
    {
     "data": {
      "text/plain": [
       "Text(0, 0.5, 'Corr STAT6')"
      ]
     },
     "execution_count": 245,
     "metadata": {},
     "output_type": "execute_result"
    },
    {
     "data": {
      "image/png": "[encoded data removed]",
      "text/plain": [
       "<Figure size 144x144 with 1 Axes>"
      ]
     },
     "metadata": {
      "needs_background": "light"
     },
     "output_type": "display_data"
    }
   ],
   "source": [
    "tf = 'STAT6'\n",
    "plt.figure(figsize=(2,2))\n",
    "plt.plot(moment_df.query('gene_1 == \"{}\"'.format(tf)).values[:, 2:].T, '-o')\n",
    "plt.xticks([0, 1, 2, 3, 4, 5], ['0', '3', '6', '9', '24', '48'])\n",
    "plt.xlabel('Time (hr)'); plt.ylabel('Corr {}'.format(tf))"
   ]
  },
  {
   "cell_type": "code",
   "execution_count": 246,
   "metadata": {},
   "outputs": [
    {
     "data": {
      "text/plain": [
       "Text(0, 0.5, 'Corr JUND')"
      ]
     },
     "execution_count": 246,
     "metadata": {},
     "output_type": "execute_result"
    },
    {
     "data": {
      "image/png": "[encoded data removed]",
      "text/plain": [
       "<Figure size 144x144 with 1 Axes>"
      ]
     },
     "metadata": {
      "needs_background": "light"
     },
     "output_type": "display_data"
    }
   ],
   "source": [
    "tf = 'JUND'\n",
    "plt.figure(figsize=(2,2))\n",
    "plt.plot(moment_df.query('gene_1 == \"{}\"'.format(tf)).values[:, 2:].T, '-o')\n",
    "plt.xticks([0, 1, 2, 3, 4, 5], ['0', '3', '6', '9', '24', '48'])\n",
    "plt.xlabel('Time (hr)'); plt.ylabel('Corr {}'.format(tf))"
   ]
  },
  {
   "cell_type": "code",
   "execution_count": 249,
   "metadata": {},
   "outputs": [
    {
     "data": {
      "text/plain": [
       "Text(0, 0.5, 'Corr ETS2')"
      ]
     },
     "execution_count": 249,
     "metadata": {},
     "output_type": "execute_result"
    },
    {
     "data": {
      "image/png": "[encoded data removed]",
      "text/plain": [
       "<Figure size 144x144 with 1 Axes>"
      ]
     },
     "metadata": {
      "needs_background": "light"
     },
     "output_type": "display_data"
    }
   ],
   "source": [
    "tf = 'ETS2'\n",
    "plt.figure(figsize=(2,2))\n",
    "plt.plot(moment_df.query('gene_1 == \"{}\"'.format(tf)).values[:, 2:].T, '-o')\n",
    "plt.xticks([0, 1, 2, 3, 4, 5], ['0', '3', '6', '9', '24', '48'])\n",
    "plt.xlabel('Time (hr)'); plt.ylabel('Corr {}'.format(tf))"
   ]
  },
  {
   "cell_type": "markdown",
   "metadata": {},
   "source": [
    "### ISG DC analysis - \"positive\" control"
   ]
  },
  {
   "cell_type": "code",
   "execution_count": null,
   "metadata": {},
   "outputs": [],
   "source": [
    "\n",
    "cts = [['ciliated']]\n",
    "tps = ['3', '6', '9', '24', '48']\n",
    "stims = ['alpha', 'beta', 'gamma', 'lambda']\n",
    "\n",
    "\n",
    "for ct in cts:\n",
    "    for tp in tps:\n",
    "        for stim in stims:\n",
    "            \n",
    "#             fname = '{}_{}_{}_{}.h5ad'.format('-'.join(ct), stim, tp, tf)\n",
    "#             if fname in done_files:\n",
    "#                 continue\n",
    "                            \n",
    "            print('starting', ct, tp, stim)\n",
    "\n",
    "            adata_stim = adata.copy()[\n",
    "                adata.obs.cell_type.isin(ct) & \\\n",
    "                adata.obs.stim.isin(['control', stim]) & \\\n",
    "                adata.obs.time.isin(['0',tp]), :].copy()\n",
    "            time_converter={0:0, int(tp):1}\n",
    "            adata_stim.obs['time_step'] = adata_stim.obs['time'].astype(int).apply(lambda x: time_converter[x])\n",
    "\n",
    "            memento.create_groups(adata_stim, label_columns=['time_step', 'donor'])\n",
    "            memento.compute_1d_moments(adata_stim, min_perc_group=.9)\n",
    "            \n",
    "            tf_list = list(set(tfs) & set(adata_stim.var.index))\n",
    "            \n",
    "            gene_list = adata_stim.var.index.tolist()\n",
    "            \n",
    "            memento.compute_2d_moments(adata_stim, list(itertools.product(tf_list, [\"HLA-A\", \"HLA-B\", \"HLA-C\", \"B2M\"])))\n",
    "\n",
    "            moment_df = memento.get_2d_moments(adata_stim, groupby='time_step')\n",
    "            moment_df.to_csv('/data_volume/ifn_hbec/tf_test/moments_{}_{}_{}_mhc1.csv'.format('-'.join(ct), stim, tp), index=False)\n",
    "\n",
    "\n",
    "            memento.ht_2d_moments( \n",
    "                adata_stim, \n",
    "                formula_like='1 + time_step',\n",
    "                cov_column='time_step', \n",
    "                num_boot=10000, \n",
    "                verbose=1,\n",
    "                num_cpus=13)\n",
    "\n",
    "            if 'mv_regressor' in adata_stim.uns['memento']:\n",
    "                del adata_stim.uns['memento']['mv_regressor']\n",
    "            adata_stim.write('/data_volume/ifn_hbec/tf_test/{}_{}_{}_mhc1.h5ad'.format('-'.join(ct), stim, tp))"
   ]
  },
  {
   "cell_type": "markdown",
   "metadata": {},
   "source": [
    "### CHIP analysis"
   ]
  },
  {
   "cell_type": "code",
   "execution_count": 36,
   "metadata": {},
   "outputs": [],
   "source": [
    "tf = 'STAT1'\n",
    "ct = ['ciliated']\n",
    "stim = 'beta'\n",
    "\n",
    "def get_2d_moments_ht(tf, ct, stim):\n",
    "    \n",
    "    adata_stim = adata.copy()[\n",
    "        adata.obs.cell_type.isin(ct) & \\\n",
    "        adata.obs.time.isin(['0', '3']) & \\\n",
    "        adata.obs.stim.isin(['control', stim])].copy()\n",
    "    time_converter={0:0, int('3'):1}\n",
    "    adata_stim.obs['time_step'] = adata_stim.obs['time'].astype(int).apply(lambda x: time_converter[x])\n",
    "\n",
    "    memento.create_groups(adata_stim, label_columns=['time_step', 'donor'])\n",
    "    memento.compute_1d_moments(adata_stim, min_perc_group=.9)\n",
    "    moment_1d_df = memento.get_1d_moments(adata_stim, groupby='time_step')\n",
    "\n",
    "    memento.compute_2d_moments(adata_stim, list(itertools.product([tf], adata_stim.var.index)))\n",
    "\n",
    "    moment_df = memento.get_2d_moments(adata_stim, groupby='time_step')\n",
    "    \n",
    "    memento.ht_2d_moments( \n",
    "        adata_stim, \n",
    "        formula_like='1 + time_step',\n",
    "        cov_column='time_step', \n",
    "        num_boot=10000, \n",
    "        verbose=1,\n",
    "        num_cpus=13)\n",
    "    \n",
    "    ht_df = memento.get_2d_ht_result(adata_stim)\n",
    "    \n",
    "    return moment_df, ht_df"
   ]
  },
  {
   "cell_type": "code",
   "execution_count": 37,
   "metadata": {},
   "outputs": [
    {
     "name": "stderr",
     "output_type": "stream",
     "text": [
      "[Parallel(n_jobs=13)]: Using backend LokyBackend with 13 concurrent workers.\n",
      "[Parallel(n_jobs=13)]: Done  24 tasks      | elapsed:    9.3s\n",
      "[Parallel(n_jobs=13)]: Done 174 tasks      | elapsed:   35.5s\n",
      "[Parallel(n_jobs=13)]: Done 424 tasks      | elapsed:  1.3min\n",
      "[Parallel(n_jobs=13)]: Done 774 tasks      | elapsed:  2.4min\n",
      "[Parallel(n_jobs=13)]: Done 1224 tasks      | elapsed:  3.6min\n",
      "[Parallel(n_jobs=13)]: Done 1774 tasks      | elapsed:  5.2min\n",
      "[Parallel(n_jobs=13)]: Done 2424 tasks      | elapsed:  7.1min\n",
      "[Parallel(n_jobs=13)]: Done 3174 tasks      | elapsed:  9.2min\n",
      "[Parallel(n_jobs=13)]: Done 4024 tasks      | elapsed: 11.6min\n",
      "[Parallel(n_jobs=13)]: Done 4974 tasks      | elapsed: 14.3min\n",
      "[Parallel(n_jobs=13)]: Done 6024 tasks      | elapsed: 17.3min\n",
      "[Parallel(n_jobs=13)]: Done 7174 tasks      | elapsed: 20.6min\n",
      "[Parallel(n_jobs=13)]: Done 8424 tasks      | elapsed: 24.2min\n",
      "[Parallel(n_jobs=13)]: Done 9641 out of 9641 | elapsed: 27.6min finished\n"
     ]
    }
   ],
   "source": [
    "beta_df, beta_ht_df = get_2d_moments_ht(tf, ct, stim)"
   ]
  },
  {
   "cell_type": "code",
   "execution_count": 39,
   "metadata": {},
   "outputs": [],
   "source": [
    "beta_ht_df['isgf3'] = beta_ht_df.gene_2.apply(lambda x: 'in TSS' if x in isgf3_genes else 'rest')"
   ]
  },
  {
   "cell_type": "code",
   "execution_count": 40,
   "metadata": {},
   "outputs": [
    {
     "data": {
      "text/html": [
       "<div>\n",
       "<style scoped>\n",
       "    .dataframe tbody tr th:only-of-type {\n",
       "        vertical-align: middle;\n",
       "    }\n",
       "\n",
       "    .dataframe tbody tr th {\n",
       "        vertical-align: top;\n",
       "    }\n",
       "\n",
       "    .dataframe thead th {\n",
       "        text-align: right;\n",
       "    }\n",
       "</style>\n",
       "<table border=\"1\" class=\"dataframe\">\n",
       "  <thead>\n",
       "    <tr style=\"text-align: right;\">\n",
       "      <th></th>\n",
       "      <th>gene_1</th>\n",
       "      <th>gene_2</th>\n",
       "      <th>corr_coef</th>\n",
       "      <th>corr_se</th>\n",
       "      <th>corr_pval</th>\n",
       "      <th>isgf3</th>\n",
       "    </tr>\n",
       "  </thead>\n",
       "  <tbody>\n",
       "    <tr>\n",
       "      <th>0</th>\n",
       "      <td>STAT1</td>\n",
       "      <td>LINC01409</td>\n",
       "      <td>-0.232706</td>\n",
       "      <td>0.272895</td>\n",
       "      <td>0.398760</td>\n",
       "      <td>rest</td>\n",
       "    </tr>\n",
       "    <tr>\n",
       "      <th>1</th>\n",
       "      <td>STAT1</td>\n",
       "      <td>NOC2L</td>\n",
       "      <td>-0.026243</td>\n",
       "      <td>0.215634</td>\n",
       "      <td>0.892411</td>\n",
       "      <td>rest</td>\n",
       "    </tr>\n",
       "    <tr>\n",
       "      <th>2</th>\n",
       "      <td>STAT1</td>\n",
       "      <td>HES4</td>\n",
       "      <td>0.299789</td>\n",
       "      <td>0.093080</td>\n",
       "      <td>0.002000</td>\n",
       "      <td>rest</td>\n",
       "    </tr>\n",
       "    <tr>\n",
       "      <th>3</th>\n",
       "      <td>STAT1</td>\n",
       "      <td>ISG15</td>\n",
       "      <td>-0.064089</td>\n",
       "      <td>0.070980</td>\n",
       "      <td>0.360664</td>\n",
       "      <td>in TSS</td>\n",
       "    </tr>\n",
       "    <tr>\n",
       "      <th>4</th>\n",
       "      <td>STAT1</td>\n",
       "      <td>AGRN</td>\n",
       "      <td>-0.012531</td>\n",
       "      <td>0.166157</td>\n",
       "      <td>0.937506</td>\n",
       "      <td>rest</td>\n",
       "    </tr>\n",
       "  </tbody>\n",
       "</table>\n",
       "</div>"
      ],
      "text/plain": [
       "  gene_1     gene_2  corr_coef   corr_se  corr_pval   isgf3\n",
       "0  STAT1  LINC01409  -0.232706  0.272895   0.398760    rest\n",
       "1  STAT1      NOC2L  -0.026243  0.215634   0.892411    rest\n",
       "2  STAT1       HES4   0.299789  0.093080   0.002000    rest\n",
       "3  STAT1      ISG15  -0.064089  0.070980   0.360664  in TSS\n",
       "4  STAT1       AGRN  -0.012531  0.166157   0.937506    rest"
      ]
     },
     "execution_count": 40,
     "metadata": {},
     "output_type": "execute_result"
    }
   ],
   "source": [
    "beta_ht_df.head(5)"
   ]
  },
  {
   "cell_type": "code",
   "execution_count": 41,
   "metadata": {},
   "outputs": [
    {
     "name": "stderr",
     "output_type": "stream",
     "text": [
      "No handles with labels found to put in legend.\n"
     ]
    },
    {
     "data": {
      "text/plain": [
       "<matplotlib.legend.Legend at 0x7f2ae3f26650>"
      ]
     },
     "execution_count": 41,
     "metadata": {},
     "output_type": "execute_result"
    },
    {
     "data": {
      "image/png": "[encoded data removed]",
      "text/plain": [
       "<Figure size 180x216 with 1 Axes>"
      ]
     },
     "metadata": {
      "needs_background": "light"
     },
     "output_type": "display_data"
    }
   ],
   "source": [
    "plt.figure(figsize=(2.5, 3))\n",
    "sns.boxplot(x='isgf3', y='corr_coef', data=beta_ht_df.sort_values('isgf3'), palette='Set2')\n",
    "\n",
    "plt.xlabel('Cell type'); plt.ylabel('Change in variability');\n",
    "plt.legend(loc='upper center', ncol=2, bbox_to_anchor=(0.5, 1.15))\n",
    "# plt.ylim(-.8, 0.6)\n",
    "# plt.savefig(fig_path + 'isgf3_vs_rest.pdf', bbox_inches='tight')\n",
    "\n"
   ]
  },
  {
   "cell_type": "code",
   "execution_count": null,
   "metadata": {},
   "outputs": [],
   "source": []
  }
 ],
 "metadata": {
  "kernelspec": {
   "display_name": "Python 3",
   "language": "python",
   "name": "python3"
  },
  "language_info": {
   "codemirror_mode": {
    "name": "ipython",
    "version": 3
   },
   "file_extension": ".py",
   "mimetype": "text/x-python",
   "name": "python",
   "nbconvert_exporter": "python",
   "pygments_lexer": "ipython3",
   "version": "3.8.8"
  }
 },
 "nbformat": 4,
 "nbformat_minor": 4
}
