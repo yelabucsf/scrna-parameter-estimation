{
 "cells": [
  {
   "cell_type": "markdown",
   "metadata": {},
   "source": [
    "# Differential correlation analysis"
   ]
  },
  {
   "cell_type": "code",
   "execution_count": 1,
   "metadata": {},
   "outputs": [],
   "source": [
    "import scanpy as sc\n",
    "import seaborn as sns\n",
    "import pandas as pd\n",
    "import matplotlib.pyplot as plt\n",
    "import numpy as np\n",
    "import scipy.stats as stats\n",
    "from pybedtools import BedTool\n",
    "import pickle as pkl\n",
    "%matplotlib inline\n",
    "import itertools"
   ]
  },
  {
   "cell_type": "code",
   "execution_count": 2,
   "metadata": {},
   "outputs": [],
   "source": [
    "import sys\n",
    "sys.path.append('/home/ssm-user/Github/scrna-parameter-estimation/dist/memento-0.0.6-py3.8.egg')\n",
    "sys.path.append('/home/ssm-user/Github/misc-seq/miscseq')\n",
    "import encode\n",
    "import memento"
   ]
  },
  {
   "cell_type": "code",
   "execution_count": 3,
   "metadata": {},
   "outputs": [],
   "source": [
    "pd.set_option('display.max_rows', None)"
   ]
  },
  {
   "cell_type": "code",
   "execution_count": 4,
   "metadata": {},
   "outputs": [],
   "source": [
    "data_path = '/data_volume/memento/hbec/'\n",
    "fig_path = '/data/home/Github/scrna-parameter-estimation/figures/fig6/'"
   ]
  },
  {
   "cell_type": "code",
   "execution_count": 5,
   "metadata": {},
   "outputs": [],
   "source": [
    "import matplotlib\n",
    "matplotlib.rcParams['pdf.fonttype'] = 42\n",
    "matplotlib.rcParams['ps.fonttype'] = 42"
   ]
  },
  {
   "cell_type": "code",
   "execution_count": 6,
   "metadata": {},
   "outputs": [],
   "source": [
    "import matplotlib.pylab as pylab\n",
    "params = {'legend.fontsize': 'medium',\n",
    "         'axes.labelsize': 'medium',\n",
    "         'axes.titlesize':'medium',\n",
    "         'figure.titlesize':'medium',\n",
    "         'xtick.labelsize':'small',\n",
    "         'ytick.labelsize':'small'}\n",
    "pylab.rcParams.update(params)"
   ]
  },
  {
   "cell_type": "markdown",
   "metadata": {},
   "source": [
    "### Get canonical TFs"
   ]
  },
  {
   "cell_type": "code",
   "execution_count": 7,
   "metadata": {},
   "outputs": [],
   "source": [
    "tf_df = pd.read_csv('human_tf.txt', sep='\\t')\n",
    "tf_list = tf_df['Symbol'].tolist()\n",
    "tf_list += ['CIITA']"
   ]
  },
  {
   "cell_type": "markdown",
   "metadata": {},
   "source": [
    "### Read the processed RNA data\n",
    "\n",
    "Focus on the club and bc/club cells and type I interferons for now.\n",
    "\n",
    "Encode the timestamps to integers."
   ]
  },
  {
   "cell_type": "code",
   "execution_count": 8,
   "metadata": {},
   "outputs": [],
   "source": [
    "# adata_processed = sc.read(data_path + 'HBEC_type_I_processed_deep.h5ad')"
   ]
  },
  {
   "cell_type": "code",
   "execution_count": 9,
   "metadata": {},
   "outputs": [],
   "source": [
    "adata = sc.read(data_path + 'HBEC_type_I_filtered_counts_deep.h5ad')"
   ]
  },
  {
   "cell_type": "code",
   "execution_count": 10,
   "metadata": {},
   "outputs": [
    {
     "name": "stderr",
     "output_type": "stream",
     "text": [
      "/home/ssm-user/anaconda3/envs/single_cell/lib/python3.8/site-packages/pandas/core/arrays/categorical.py:2487: FutureWarning: The `inplace` parameter in pandas.Categorical.remove_unused_categories is deprecated and will be removed in a future version.\n",
      "  res = method(*args, **kwargs)\n"
     ]
    }
   ],
   "source": [
    "adata = adata[:, ~adata.var.index.str.startswith('MT-')].copy()\n",
    "# adata.obs['cell_type'] = adata.obs['cell_type'].apply(lambda x: x if x != 'basal/club' else 'bc')\n",
    "# adata.obs['cell_type'] = adata.obs['cell_type'].apply(lambda x: x if x != 'ionocyte/tuft' else 'ion-tuft')"
   ]
  },
  {
   "cell_type": "raw",
   "metadata": {},
   "source": [
    "sc.pl.umap(adata_processed, color=['cell_type', 'time', 'stim'])"
   ]
  },
  {
   "cell_type": "code",
   "execution_count": 11,
   "metadata": {},
   "outputs": [
    {
     "data": {
      "text/plain": [
       "(69958, 36588)"
      ]
     },
     "execution_count": 11,
     "metadata": {},
     "output_type": "execute_result"
    }
   ],
   "source": [
    "adata.shape"
   ]
  },
  {
   "cell_type": "code",
   "execution_count": 12,
   "metadata": {},
   "outputs": [],
   "source": [
    "converter = {'basal/club':'BC', 'basal':'B', 'ciliated':'C', 'goblet':'G', 'ionocyte/tuft':'IT', 'neuroendo':'N'}"
   ]
  },
  {
   "cell_type": "code",
   "execution_count": 13,
   "metadata": {},
   "outputs": [
    {
     "data": {
      "text/plain": [
       "basal/club       29792\n",
       "basal            22844\n",
       "ciliated         15041\n",
       "goblet            1525\n",
       "ionocyte/tuft      546\n",
       "neuroendo          210\n",
       "Name: cell_type, dtype: int64"
      ]
     },
     "execution_count": 13,
     "metadata": {},
     "output_type": "execute_result"
    }
   ],
   "source": [
    "adata.obs.cell_type.value_counts()"
   ]
  },
  {
   "cell_type": "code",
   "execution_count": 14,
   "metadata": {},
   "outputs": [],
   "source": [
    "adata.obs['ct'] = adata.obs['cell_type'].apply(lambda x: converter[x])"
   ]
  },
  {
   "cell_type": "markdown",
   "metadata": {},
   "source": [
    "### Setup memento"
   ]
  },
  {
   "cell_type": "code",
   "execution_count": 15,
   "metadata": {},
   "outputs": [],
   "source": [
    "def assign_q(batch):\n",
    "    \n",
    "    if batch == 0:\n",
    "        return 0.387*0.25\n",
    "    elif batch == 1:\n",
    "        return 0.392*0.25\n",
    "    elif batch == 2:\n",
    "        return 0.436*0.25\n",
    "    else:\n",
    "        return 0.417*0.25"
   ]
  },
  {
   "cell_type": "code",
   "execution_count": 16,
   "metadata": {},
   "outputs": [],
   "source": [
    "adata.obs['q'] = adata.obs['batch'].apply(assign_q)"
   ]
  },
  {
   "cell_type": "code",
   "execution_count": 17,
   "metadata": {},
   "outputs": [
    {
     "name": "stdout",
     "output_type": "stream",
     "text": [
      "Version 0.0.6\n"
     ]
    }
   ],
   "source": [
    "memento.setup_memento(adata, q_column='q', trim_percent=0.05)"
   ]
  },
  {
   "cell_type": "markdown",
   "metadata": {},
   "source": [
    "### Read 1d HT result comparing to control"
   ]
  },
  {
   "cell_type": "code",
   "execution_count": 18,
   "metadata": {},
   "outputs": [],
   "source": [
    "cts = [['ciliated']]\n",
    "tps = [ '6',]\n",
    "stims = ['alpha', 'beta', 'gamma', 'lambda']"
   ]
  },
  {
   "cell_type": "code",
   "execution_count": 19,
   "metadata": {},
   "outputs": [],
   "source": [
    "def read_result(ct):\n",
    "    \n",
    "    ht_dict = {}\n",
    "    moments_dict = {}\n",
    "    \n",
    "    for stim in stims:\n",
    "        ht_dict[stim] = {}\n",
    "        moments_dict[stim] = {}\n",
    "        for tp in tps: \n",
    "            adata_subset = sc.read(data_path + '/binary_test_latest/{}_{}_{}.h5ad'.format('-'.join(ct), stim, tp))\n",
    "            ht_dict[stim][tp] = memento.get_1d_ht_result(adata_subset)\n",
    "            ht_dict[stim][tp]['de_fdr'] = memento.util._fdrcorrect(ht_dict[stim][tp]['de_pval'])\n",
    "            ht_dict[stim][tp]['dv_fdr'] = memento.util._fdrcorrect(ht_dict[stim][tp]['dv_pval'])\n",
    "            moments_dict[stim][tp] = memento.get_1d_moments(adata_subset, groupby='time_step')\n",
    "    return ht_dict,moments_dict"
   ]
  },
  {
   "cell_type": "code",
   "execution_count": 20,
   "metadata": {},
   "outputs": [],
   "source": [
    "all_result = {}\n",
    "for ct in cts:\n",
    "    \n",
    "    all_result['ht'], all_result['moments'] = read_result(ct)"
   ]
  },
  {
   "cell_type": "code",
   "execution_count": 21,
   "metadata": {},
   "outputs": [
    {
     "data": {
      "text/plain": [
       "0.4054651081081644"
      ]
     },
     "execution_count": 21,
     "metadata": {},
     "output_type": "execute_result"
    }
   ],
   "source": [
    "np.log(1.5)"
   ]
  },
  {
   "cell_type": "code",
   "execution_count": 22,
   "metadata": {},
   "outputs": [
    {
     "name": "stdout",
     "output_type": "stream",
     "text": [
      "alpha 353\n",
      "beta 458\n",
      "gamma 69\n",
      "lambda 40\n",
      "shared 165\n",
      "partial 271\n"
     ]
    }
   ],
   "source": [
    "stims = ['alpha', 'beta', 'gamma', 'lambda']\n",
    "# ct = 'ciliated'\n",
    "de_genes  = {}\n",
    "robust_de_genes = {}\n",
    "for stim in stims:\n",
    "    de_genes[stim] = all_result['ht'][stim]['6'].query('de_fdr < 0.1 & de_coef > 0.4054651081081644').gene.tolist() #np.log(1.5)\n",
    "    robust_de_genes[stim] = all_result['ht'][stim]['6'].query('de_fdr < 0.1 & de_coef > 0.4054651081081644').gene.tolist() #np.log(1.5)\n",
    "\n",
    "# de_genes['alpha/beta'] = set(de_genes['alpha']) | set(de_genes['beta'])\n",
    "\n",
    "# stims = ['gamma', 'lambda', 'alpha/beta']\n",
    "    \n",
    "uniq_de_genes = {}\n",
    "for stim in stims:\n",
    "    \n",
    "    uniq_de_genes[stim] = set(de_genes[stim])\n",
    "    for other in stims:\n",
    "        if stim == other or (stim in ['alpha', 'beta'] and other in ['alpha', 'beta']): continue\n",
    "        uniq_de_genes[stim] -= set(de_genes[other])\n",
    "    print(stim, len(uniq_de_genes[stim]))\n",
    "\n",
    "shared_de_genes = set()\n",
    "for stim in stims:\n",
    "    if len(shared_de_genes) == 0:\n",
    "        shared_de_genes = set(robust_de_genes[stim])\n",
    "    else:\n",
    "        shared_de_genes &= set(robust_de_genes[stim])\n",
    "\n",
    "all_de_genes = set()\n",
    "for stim in ['alpha', 'beta', 'gamma', 'lambda']:\n",
    "    all_de_genes |= set(de_genes[stim])\n",
    "shared_de_genes_lenient = all_de_genes - shared_de_genes\n",
    "for stim in ['gamma', 'lambda', 'alpha', 'beta']:\n",
    "    shared_de_genes_lenient -= uniq_de_genes[stim]\n",
    "print('shared', len(shared_de_genes))\n",
    "print('partial', len(shared_de_genes_lenient))"
   ]
  },
  {
   "cell_type": "markdown",
   "metadata": {},
   "source": [
    "### Run differential correlation between STAT1 and each stim's DEGs"
   ]
  },
  {
   "cell_type": "code",
   "execution_count": 29,
   "metadata": {},
   "outputs": [],
   "source": [
    "ct = ['ciliated']\n",
    "all_stims = ['gamma', 'lambda', 'alpha', 'beta']"
   ]
  },
  {
   "cell_type": "code",
   "execution_count": 24,
   "metadata": {},
   "outputs": [],
   "source": [
    "# for stim in all_stims:\n",
    "    \n",
    "#     print('starting ', stim, '....')\n",
    "\n",
    "#     adata_stim = adata.copy()[\n",
    "#         adata.obs.cell_type.isin(ct) & \\\n",
    "#         adata.obs.stim.isin(['control', stim])].copy()\n",
    "    \n",
    "#     # time_converter={0:0, int('6'):1}\n",
    "#     adata_stim.obs['time_step'] = adata_stim.obs['time']#.astype(int).apply(lambda x: time_converter[x])\n",
    "#     adata_stim.obs['time'] = 'tp_' + adata_stim.obs['time'].astype(str)\n",
    "\n",
    "#     memento.create_groups(adata_stim, label_columns=['time', 'donor'])\n",
    "#     memento.compute_1d_moments(adata_stim, min_perc_group=.3)\n",
    "#     moment_1d_df = memento.get_1d_moments(adata_stim, groupby='time')\n",
    "\n",
    "# #     available_tfs = list(set(tf_list) & set(moment_1d_df[0].gene))\n",
    "#     available_targets = list(set(de_genes[stim if stim not in ['alpha', 'beta'] else 'alpha/beta']) & set(moment_1d_df[0].gene))\n",
    "\n",
    "#     memento.compute_2d_moments(adata_stim, list(itertools.product(['STAT1'], available_targets)))\n",
    "\n",
    "# #     moment_df = memento.get_2d_moments(adata_stim, groupby='time') \n",
    "\n",
    "# #     moment_df['max_corr'] = moment_df.iloc[:, 2:].max(axis=1).values\n",
    "\n",
    "# #     candidates = moment_df.query('max_corr > 0.3 & gene_1 != gene_2')\n",
    "\n",
    "# # #     top_tfs = candidates.groupby('gene_1').size().sort_values(ascending=False)\n",
    "# # #     top_tfs = top_tfs[top_tfs > 15].index.tolist()\n",
    "\n",
    "# # #     candidates = candidates.query('gene_1 in @top_tfs')\n",
    "\n",
    "# #     candidates = list(zip(candidates['gene_1'], candidates['gene_2']))\n",
    "\n",
    "# #     memento.compute_2d_moments(adata_stim, candidates)\n",
    "\n",
    "#     memento.ht_2d_moments( \n",
    "#         adata_stim, \n",
    "#         formula_like='1 + time + donor',\n",
    "#         treatment_col='time', \n",
    "#         num_boot=10000, \n",
    "#         verbose=1,\n",
    "#         num_cpus=94,\n",
    "#         resampling='permutation',\n",
    "#         approx=False)\n",
    "    \n",
    "#     adata_stim.write(data_path + 'stat1_coex_test/{}.h5ad'.format(stim))\n"
   ]
  },
  {
   "cell_type": "code",
   "execution_count": 25,
   "metadata": {},
   "outputs": [
    {
     "name": "stdout",
     "output_type": "stream",
     "text": [
      "starting  gamma ....\n"
     ]
    },
    {
     "name": "stderr",
     "output_type": "stream",
     "text": [
      "[Parallel(n_jobs=94)]: Using backend LokyBackend with 94 concurrent workers.\n",
      "[Parallel(n_jobs=94)]: Done  12 tasks      | elapsed:    7.1s\n",
      "[Parallel(n_jobs=94)]: Done 262 tasks      | elapsed:   17.7s\n",
      "[Parallel(n_jobs=94)]: Done 459 out of 459 | elapsed:   27.6s finished\n",
      "... storing 'time' as categorical\n",
      "... storing 'memento_group' as categorical\n"
     ]
    },
    {
     "name": "stdout",
     "output_type": "stream",
     "text": [
      "starting  lambda ....\n"
     ]
    },
    {
     "name": "stderr",
     "output_type": "stream",
     "text": [
      "/home/ssm-user/anaconda3/envs/single_cell/lib/python3.8/site-packages/pandas/core/arrays/categorical.py:2487: FutureWarning: The `inplace` parameter in pandas.Categorical.remove_unused_categories is deprecated and will be removed in a future version.\n",
      "  res = method(*args, **kwargs)\n",
      "[Parallel(n_jobs=94)]: Using backend LokyBackend with 94 concurrent workers.\n",
      "[Parallel(n_jobs=94)]: Done  12 tasks      | elapsed:    2.0s\n",
      "[Parallel(n_jobs=94)]: Done 288 out of 288 | elapsed:    9.9s finished\n",
      "... storing 'time' as categorical\n",
      "... storing 'memento_group' as categorical\n"
     ]
    },
    {
     "name": "stdout",
     "output_type": "stream",
     "text": [
      "starting  alpha ....\n"
     ]
    },
    {
     "name": "stderr",
     "output_type": "stream",
     "text": [
      "/home/ssm-user/anaconda3/envs/single_cell/lib/python3.8/site-packages/pandas/core/arrays/categorical.py:2487: FutureWarning: The `inplace` parameter in pandas.Categorical.remove_unused_categories is deprecated and will be removed in a future version.\n",
      "  res = method(*args, **kwargs)\n",
      "[Parallel(n_jobs=94)]: Using backend LokyBackend with 94 concurrent workers.\n",
      "[Parallel(n_jobs=94)]: Done  12 tasks      | elapsed:    3.0s\n",
      "[Parallel(n_jobs=94)]: Done 262 tasks      | elapsed:   13.2s\n",
      "[Parallel(n_jobs=94)]: Done 714 out of 714 | elapsed:   33.0s finished\n",
      "... storing 'time' as categorical\n",
      "... storing 'memento_group' as categorical\n"
     ]
    },
    {
     "name": "stdout",
     "output_type": "stream",
     "text": [
      "starting  beta ....\n"
     ]
    },
    {
     "name": "stderr",
     "output_type": "stream",
     "text": [
      "/home/ssm-user/anaconda3/envs/single_cell/lib/python3.8/site-packages/pandas/core/arrays/categorical.py:2487: FutureWarning: The `inplace` parameter in pandas.Categorical.remove_unused_categories is deprecated and will be removed in a future version.\n",
      "  res = method(*args, **kwargs)\n",
      "[Parallel(n_jobs=94)]: Using backend LokyBackend with 94 concurrent workers.\n",
      "[Parallel(n_jobs=94)]: Done  12 tasks      | elapsed:    4.1s\n",
      "[Parallel(n_jobs=94)]: Done 262 tasks      | elapsed:   18.8s\n",
      "[Parallel(n_jobs=94)]: Done 612 tasks      | elapsed:   41.0s\n",
      "[Parallel(n_jobs=94)]: Done 862 out of 862 | elapsed:   55.4s finished\n",
      "... storing 'time' as categorical\n",
      "... storing 'memento_group' as categorical\n"
     ]
    }
   ],
   "source": [
    "for stim in all_stims:\n",
    "        \n",
    "    print('starting ', stim, '....')\n",
    "\n",
    "    adata_stim = adata.copy()[\n",
    "        adata.obs.time.isin(['0', '6']) &\\\n",
    "        adata.obs.cell_type.isin(ct) & \\\n",
    "        adata.obs.stim.isin(['control', stim])].copy()\n",
    "    \n",
    "#     time_converter={'0':0, '3':1, '6':2, '9':3, '24':4, '48':5}\n",
    "    adata_stim.obs['time_step'] = adata_stim.obs['time']#.astype(int).apply(lambda x: time_converter[x])\n",
    "    adata_stim.obs['time'] = 'tp_' + adata_stim.obs['time'].astype(str)#.apply(lambda x: time_converter[x])\n",
    "    adata_stim.obs['is_stim'] = (adata_stim.obs.stim==stim).astype(int)\n",
    "\n",
    "    memento.create_groups(adata_stim, label_columns=['is_stim', 'donor'])\n",
    "    memento.compute_1d_moments(adata_stim, min_perc_group=.9)\n",
    "    moment_1d_df = memento.get_1d_moments(adata_stim, groupby='is_stim')\n",
    "\n",
    "    available_targets = list(set(de_genes[stim]) & set(moment_1d_df[0].gene))\n",
    "\n",
    "    memento.compute_2d_moments(adata_stim, list(itertools.product(['STAT1'], available_targets)))\n",
    "\n",
    "    moment_df = memento.get_2d_moments(adata_stim, groupby='is_stim') \n",
    "\n",
    "#     moment_df['max_corr'] = moment_df.iloc[:, 2:].max(axis=1).values\n",
    "\n",
    "#     candidates = moment_df.query('max_corr > 0.3 & gene_1 != gene_2')\n",
    "\n",
    "#     candidates = list(zip(candidates['gene_1'], candidates['gene_2']))\n",
    "\n",
    "#     memento.compute_2d_moments(adata_stim, candidates)\n",
    "    \n",
    "    memento.ht_2d_moments( \n",
    "        adata_stim, \n",
    "        formula_like='1 + is_stim + donor',\n",
    "        treatment_col='is_stim', \n",
    "        num_boot=10000, \n",
    "        verbose=1,\n",
    "        num_cpus=94,\n",
    "        resampling='permutation',\n",
    "        approx=False)\n",
    "    \n",
    "    adata_stim.write(data_path + 'stat1_coex_test/{}_6hr.h5ad'.format(stim))\n"
   ]
  },
  {
   "cell_type": "markdown",
   "metadata": {},
   "source": [
    "### Get binding sites"
   ]
  },
  {
   "cell_type": "code",
   "execution_count": 23,
   "metadata": {},
   "outputs": [],
   "source": [
    "enc = encode.Encode('/home/ssm-user/Github/misc-seq/miscseq/GRCh38Genes.bed')"
   ]
  },
  {
   "cell_type": "code",
   "execution_count": 24,
   "metadata": {},
   "outputs": [
    {
     "name": "stderr",
     "output_type": "stream",
     "text": [
      "/home/ssm-user/anaconda3/envs/single_cell/lib/python3.8/subprocess.py:853: RuntimeWarning: line buffering (buffering=1) isn't supported in binary mode, the default buffer size will be used\n",
      "  self.stderr = io.open(errread, 'rb', bufsize)\n",
      "/home/ssm-user/anaconda3/envs/single_cell/lib/python3.8/subprocess.py:853: RuntimeWarning: line buffering (buffering=1) isn't supported in binary mode, the default buffer size will be used\n",
      "  self.stderr = io.open(errread, 'rb', bufsize)\n",
      "/home/ssm-user/anaconda3/envs/single_cell/lib/python3.8/subprocess.py:853: RuntimeWarning: line buffering (buffering=1) isn't supported in binary mode, the default buffer size will be used\n",
      "  self.stderr = io.open(errread, 'rb', bufsize)\n",
      "/home/ssm-user/anaconda3/envs/single_cell/lib/python3.8/subprocess.py:853: RuntimeWarning: line buffering (buffering=1) isn't supported in binary mode, the default buffer size will be used\n",
      "  self.stderr = io.open(errread, 'rb', bufsize)\n",
      "/home/ssm-user/anaconda3/envs/single_cell/lib/python3.8/subprocess.py:853: RuntimeWarning: line buffering (buffering=1) isn't supported in binary mode, the default buffer size will be used\n",
      "  self.stderr = io.open(errread, 'rb', bufsize)\n",
      "/home/ssm-user/anaconda3/envs/single_cell/lib/python3.8/subprocess.py:853: RuntimeWarning: line buffering (buffering=1) isn't supported in binary mode, the default buffer size will be used\n",
      "  self.stderr = io.open(errread, 'rb', bufsize)\n"
     ]
    }
   ],
   "source": [
    "stat1_bed = enc.get_encode_peaks_union([\n",
    "    'https://www.encodeproject.org/files/ENCFF747ICD/@@download/ENCFF747ICD.bed.gz',\n",
    "    'https://www.encodeproject.org/files/ENCFF646MXG/@@download/ENCFF646MXG.bed.gz'\n",
    "])\n",
    "stat2_bed = enc.get_encode_peaks_union([\n",
    "    'https://www.encodeproject.org/files/ENCFF204VQS/@@download/ENCFF204VQS.bed.gz',\n",
    "    'https://www.encodeproject.org/files/ENCFF545JVD/@@download/ENCFF545JVD.bed.gz'\n",
    "])"
   ]
  },
  {
   "cell_type": "code",
   "execution_count": 25,
   "metadata": {},
   "outputs": [
    {
     "name": "stderr",
     "output_type": "stream",
     "text": [
      "/home/ssm-user/anaconda3/envs/single_cell/lib/python3.8/subprocess.py:853: RuntimeWarning: line buffering (buffering=1) isn't supported in binary mode, the default buffer size will be used\n",
      "  self.stderr = io.open(errread, 'rb', bufsize)\n",
      "/home/ssm-user/anaconda3/envs/single_cell/lib/python3.8/subprocess.py:853: RuntimeWarning: line buffering (buffering=1) isn't supported in binary mode, the default buffer size will be used\n",
      "  self.stderr = io.open(errread, 'rb', bufsize)\n"
     ]
    }
   ],
   "source": [
    "intersect_bed = stat1_bed.intersect(stat2_bed).sort()"
   ]
  },
  {
   "cell_type": "code",
   "execution_count": 26,
   "metadata": {},
   "outputs": [
    {
     "name": "stderr",
     "output_type": "stream",
     "text": [
      "/home/ssm-user/anaconda3/envs/single_cell/lib/python3.8/subprocess.py:853: RuntimeWarning: line buffering (buffering=1) isn't supported in binary mode, the default buffer size will be used\n",
      "  self.stderr = io.open(errread, 'rb', bufsize)\n",
      "/home/ssm-user/anaconda3/envs/single_cell/lib/python3.8/subprocess.py:853: RuntimeWarning: line buffering (buffering=1) isn't supported in binary mode, the default buffer size will be used\n",
      "  self.stderr = io.open(errread, 'rb', bufsize)\n",
      "/home/ssm-user/anaconda3/envs/single_cell/lib/python3.8/subprocess.py:853: RuntimeWarning: line buffering (buffering=1) isn't supported in binary mode, the default buffer size will be used\n",
      "  self.stderr = io.open(errread, 'rb', bufsize)\n",
      "/home/ssm-user/anaconda3/envs/single_cell/lib/python3.8/site-packages/pybedtools/bedtool.py:3678: UserWarning: Default names for filetype bed are:\n",
      "['chrom', 'start', 'end', 'name', 'score', 'strand', 'thickStart', 'thickEnd', 'itemRgb', 'blockCount', 'blockSizes', 'blockStarts']\n",
      "but file has 16 fields; you can supply custom names with the `names` kwarg\n",
      "  warn(\n",
      "/home/ssm-user/anaconda3/envs/single_cell/lib/python3.8/subprocess.py:853: RuntimeWarning: line buffering (buffering=1) isn't supported in binary mode, the default buffer size will be used\n",
      "  self.stderr = io.open(errread, 'rb', bufsize)\n",
      "/home/ssm-user/anaconda3/envs/single_cell/lib/python3.8/subprocess.py:853: RuntimeWarning: line buffering (buffering=1) isn't supported in binary mode, the default buffer size will be used\n",
      "  self.stderr = io.open(errread, 'rb', bufsize)\n",
      "/home/ssm-user/anaconda3/envs/single_cell/lib/python3.8/subprocess.py:853: RuntimeWarning: line buffering (buffering=1) isn't supported in binary mode, the default buffer size will be used\n",
      "  self.stderr = io.open(errread, 'rb', bufsize)\n",
      "/home/ssm-user/anaconda3/envs/single_cell/lib/python3.8/site-packages/pybedtools/bedtool.py:3678: UserWarning: Default names for filetype bed are:\n",
      "['chrom', 'start', 'end', 'name', 'score', 'strand', 'thickStart', 'thickEnd', 'itemRgb', 'blockCount', 'blockSizes', 'blockStarts']\n",
      "but file has 16 fields; you can supply custom names with the `names` kwarg\n",
      "  warn(\n"
     ]
    }
   ],
   "source": [
    "isgf3_genes = enc.get_peak_genes_bed(intersect_bed, 0).query('distance == 0 & ~gene.str.contains(\"MT\").values').gene.tolist()\n",
    "stat1_genes = enc.get_peak_genes_bed(stat1_bed, 0).query('distance == 0 & ~gene.str.contains(\"MT\").values').gene.tolist()"
   ]
  },
  {
   "cell_type": "markdown",
   "metadata": {},
   "source": [
    "### Read DC results"
   ]
  },
  {
   "cell_type": "code",
   "execution_count": 30,
   "metadata": {},
   "outputs": [],
   "source": [
    "def classify(x):\n",
    "    \n",
    "    if x in shared_de_genes:\n",
    "        return 'shared'\n",
    "    elif x in shared_de_genes_lenient:\n",
    "        return 'partially_shared'\n",
    "    for stim in stims:\n",
    "        if x in uniq_de_genes[stim]:\n",
    "            return 'uniq_' + stim\n",
    "    return 'none-DE'"
   ]
  },
  {
   "cell_type": "code",
   "execution_count": 31,
   "metadata": {},
   "outputs": [],
   "source": [
    "deg_dc_results = {}\n",
    "deg_2d_moments = {}\n",
    "deg_m_moments = {}\n",
    "deg_v_moments = {}\n",
    "combined_results = {}\n",
    "\n",
    "for stim in all_stims:\n",
    "    \n",
    "    adata_stim = sc.read(data_path + 'stat1_coex_test/{}_6hr.h5ad'.format(stim))\n",
    "    deg_dc_results[stim] = memento.get_2d_ht_result(adata_stim)\n",
    "    deg_2d_moments[stim] = memento.get_2d_moments(adata_stim, groupby='is_stim')#[['gene_1','gene_2'] + ['time_'+str(i) for i in [0, 1, 2, 3, 4, 5]]]\n",
    "#     deg_m_moments[stim],deg_v_moments[stim] = memento.get_1d_moments(adata_stim, groupby='time')\n",
    "#     deg_m_moments[stim] = deg_m_moments[stim][['gene'] + ['time_'+str(i) for i in [0, 3, 6, 9, 24, 48]]]\n",
    "#     deg_v_moments[stim] = deg_v_moments[stim][['gene'] + ['time_'+str(i) for i in [0, 3, 6, 9, 24, 48]]]\n",
    "    deg_dc_results[stim]['corr_fdr'] = memento.util._fdrcorrect(deg_dc_results[stim]['corr_pval'])\n",
    "    \n",
    "    combined_results[stim] = deg_2d_moments[stim].merge(deg_dc_results[stim], on=['gene_1', 'gene_2'])\n",
    "    combined_results[stim]['deg_type'] = combined_results[stim]['gene_2'].apply(classify)\n",
    "    combined_results[stim]['sig'] =  \\\n",
    "        (combined_results[stim]['corr_fdr'] < 0.15)# & ((combined_results[stim]['is_stim_1'] >0.3) | (combined_results[stim]['is_stim_0'] >0.3))\n",
    "    combined_results[stim]['stim'] = stim\n",
    "    combined_results[stim]['isgf3_tss'] = combined_results[stim]['gene_2'].isin(isgf3_genes)\n",
    "    combined_results[stim]['stat1_tss'] = combined_results[stim]['gene_2'].isin(stat1_genes)\n",
    "\n",
    "combined_result = pd.concat([combined_results[stim] for stim in all_stims])\n",
    "combined_result['shared'] = combined_result['deg_type'] == 'shared'\n",
    "combined_result['always_high'] = (combined_result['is_stim_0'] > 0.3) & (combined_result['is_stim_1'] > 0.3)\n",
    "\n",
    "    \n",
    "   "
   ]
  },
  {
   "cell_type": "markdown",
   "metadata": {},
   "source": [
    "### Correlations and TSS presence"
   ]
  },
  {
   "cell_type": "code",
   "execution_count": 70,
   "metadata": {},
   "outputs": [],
   "source": [
    "# a = combined_result[['stat1_tss', 'is_stim_0', 'stim']].rename(columns={'is_stim_0':'corr'})\n",
    "b = combined_result[['stat1_tss', 'is_stim_1', 'stim', 'shared']].rename(columns={'is_stim_1':'corr'})\n",
    "a = combined_result.query('stim==\"gamma\"')[['stat1_tss', 'is_stim_0', 'stim', 'shared']].rename(columns={'is_stim_0':'corr'})\n",
    "a['stim'] = 'control'\n",
    "\n",
    "c = pd.concat([a,b])"
   ]
  },
  {
   "cell_type": "code",
   "execution_count": 69,
   "metadata": {},
   "outputs": [
    {
     "data": {
      "text/plain": [
       "<matplotlib.legend.Legend at 0x7f6edbf08c40>"
      ]
     },
     "execution_count": 69,
     "metadata": {},
     "output_type": "execute_result"
    },
    {
     "data": {
      "image/png": "[encoded data removed]",
      "text/plain": [
       "<Figure size 432x288 with 1 Axes>"
      ]
     },
     "metadata": {
      "needs_background": "light"
     },
     "output_type": "display_data"
    }
   ],
   "source": [
    "sns.boxplot(x='stim', y='corr', hue='stat1_tss',data=c, palette='Set2', fliersize=0.1);\n",
    "plt.legend(bbox_to_anchor=(0.3, 1), frameon=False, ncol=2)"
   ]
  },
  {
   "cell_type": "code",
   "execution_count": 32,
   "metadata": {},
   "outputs": [
    {
     "name": "stdout",
     "output_type": "stream",
     "text": [
      "(176, 15)\n",
      "gamma\n",
      "stat1_tss  False  True \n",
      "sig                    \n",
      "False        251     33\n",
      "True         151     25\n",
      "gamma (1.2592815572948024, 0.47040268088460613)\n",
      "(2, 15)\n",
      "lambda\n",
      "stat1_tss  False  True \n",
      "sig                    \n",
      "False        233     54\n",
      "True           2      0\n",
      "lambda (0.0, 1.0)\n",
      "(230, 15)\n",
      "alpha\n",
      "stat1_tss  False  True \n",
      "sig                    \n",
      "False        426     59\n",
      "True         198     32\n",
      "alpha (1.1669234720082178, 0.5484730271815097)\n",
      "(557, 15)\n",
      "beta\n",
      "stat1_tss  False  True \n",
      "sig                    \n",
      "False        277     29\n",
      "True         489     68\n",
      "beta (1.3282561173401028, 0.2601372752646759)\n"
     ]
    }
   ],
   "source": [
    "for stim in all_stims:\n",
    "    \n",
    "    print(combined_result.query('stim==\"{}\" & sig'.format(stim)).shape)\n",
    "    \n",
    "    a = combined_result.query('stim==\"{}\"'.format(stim))\n",
    "    contingency = pd.crosstab(\n",
    "        a['sig'], \n",
    "        a['stat1_tss'])\n",
    "    print(stim)\n",
    "    print(contingency)\n",
    "    print(stim, stats.fisher_exact(contingency))"
   ]
  },
  {
   "cell_type": "code",
   "execution_count": 51,
   "metadata": {},
   "outputs": [
    {
     "data": {
      "text/plain": [
       "MannwhitneyuResult(statistic=32092.0, pvalue=0.01437007258217829)"
      ]
     },
     "execution_count": 51,
     "metadata": {},
     "output_type": "execute_result"
    }
   ],
   "source": [
    "stats.mannwhitneyu(combined_result.query('stim == \"beta\" & stat1_tss').corr_coef,\n",
    "combined_result.query('stim == \"beta\" & ~stat1_tss').corr_coef)"
   ]
  },
  {
   "cell_type": "code",
   "execution_count": 85,
   "metadata": {},
   "outputs": [
    {
     "data": {
      "text/plain": [
       "Text(0, 0.5, '')"
      ]
     },
     "execution_count": 85,
     "metadata": {},
     "output_type": "execute_result"
    },
    {
     "data": {
      "image/png": "[encoded data removed]",
      "text/plain": [
       "<Figure size 576x216 with 4 Axes>"
      ]
     },
     "metadata": {
      "needs_background": "light"
     },
     "output_type": "display_data"
    }
   ],
   "source": [
    "a = combined_result.sort_values('deg_type')\n",
    "\n",
    "plt.figure(figsize=(8, 3))\n",
    "plt.subplots_adjust(wspace=0.4)\n",
    "plt.subplot(1, 4, 1)\n",
    "sns.boxplot(y='corr_coef', x='stim', hue='shared', data=a.query('stim==\"gamma\"'), fliersize=0.1, palette='Set2')\n",
    "plt.legend(ncol=1,frameon=False, loc='upper center', bbox_to_anchor=(0.5,1.4))\n",
    "\n",
    "plt.subplot(1, 4, 2)\n",
    "sns.boxplot(y='corr_coef', x='stim', hue='shared', data=a.query('stim==\"lambda\"'), fliersize=0.1, palette='Set2')\n",
    "plt.legend(ncol=1,frameon=False, loc='upper center', bbox_to_anchor=(0.5,1.4)); plt.ylabel(None)\n",
    "\n",
    "plt.subplot(1, 4, 3)\n",
    "sns.boxplot(y='corr_coef', x='stim', hue='shared', data=a.query('stim==\"alpha\"'), fliersize=0.1, palette='Set2')\n",
    "plt.legend(ncol=1,frameon=False, loc='upper center', bbox_to_anchor=(0.5,1.4)); plt.ylabel(None)\n",
    "\n",
    "plt.subplot(1, 4, 4)\n",
    "sns.boxplot(y='corr_coef', x='stim', hue='shared', data=a.query('stim==\"beta\"'), fliersize=0.1, palette='Set2')\n",
    "plt.legend(ncol=1,frameon=False, loc='upper center', bbox_to_anchor=(0.5,1.4)); plt.ylabel(None)"
   ]
  },
  {
   "cell_type": "code",
   "execution_count": 52,
   "metadata": {},
   "outputs": [
    {
     "data": {
      "text/plain": [
       "<AxesSubplot:xlabel='stim', ylabel='corr_coef'>"
      ]
     },
     "execution_count": 52,
     "metadata": {},
     "output_type": "execute_result"
    },
    {
     "data": {
      "image/png": "[encoded data removed]",
      "text/plain": [
       "<Figure size 432x288 with 1 Axes>"
      ]
     },
     "metadata": {
      "needs_background": "light"
     },
     "output_type": "display_data"
    }
   ],
   "source": [
    "sns.boxplot(y='corr_coef', x='stim', hue='stat1_tss', data=combined_result, fliersize=0.1, palette='Set2')"
   ]
  },
  {
   "cell_type": "code",
   "execution_count": 53,
   "metadata": {},
   "outputs": [],
   "source": [
    "ht_2d_df = memento.get_2d_ht_result(adata_stim)\n",
    "ht_2d_df['corr_fdr'] = memento.util._fdrcorrect(ht_2d_df['corr_pval'])\n",
    "sig_df = ht_2d_df.query('corr_fdr < 0.1')"
   ]
  },
  {
   "cell_type": "code",
   "execution_count": 54,
   "metadata": {},
   "outputs": [],
   "source": [
    "tp_order = ['time_tp_' + str(i) for i in [0, 3, 6, 9, 24, 48]]"
   ]
  },
  {
   "cell_type": "code",
   "execution_count": 55,
   "metadata": {},
   "outputs": [
    {
     "ename": "KeyError",
     "evalue": "\"None of [Index(['time_tp_0', 'time_tp_3', 'time_tp_6', 'time_tp_9', 'time_tp_24',\\n       'time_tp_48'],\\n      dtype='object')] are in the [columns]\"",
     "output_type": "error",
     "traceback": [
      "\u001b[0;31m---------------------------------------------------------------------------\u001b[0m",
      "\u001b[0;31mKeyError\u001b[0m                                  Traceback (most recent call last)",
      "\u001b[0;32m<ipython-input-55-1c2f71af1067>\u001b[0m in \u001b[0;36m<module>\u001b[0;34m\u001b[0m\n\u001b[0;32m----> 1\u001b[0;31m \u001b[0mmoment_1d_df\u001b[0m\u001b[0;34m[\u001b[0m\u001b[0;36m0\u001b[0m\u001b[0;34m]\u001b[0m\u001b[0;34m.\u001b[0m\u001b[0mquery\u001b[0m\u001b[0;34m(\u001b[0m\u001b[0;34m'gene == \"CIITA\"'\u001b[0m\u001b[0;34m)\u001b[0m\u001b[0;34m[\u001b[0m\u001b[0mtp_order\u001b[0m\u001b[0;34m]\u001b[0m\u001b[0;34m\u001b[0m\u001b[0;34m\u001b[0m\u001b[0m\n\u001b[0m",
      "\u001b[0;32m~/anaconda3/envs/single_cell/lib/python3.8/site-packages/pandas/core/frame.py\u001b[0m in \u001b[0;36m__getitem__\u001b[0;34m(self, key)\u001b[0m\n\u001b[1;32m   3028\u001b[0m             \u001b[0;32mif\u001b[0m \u001b[0mis_iterator\u001b[0m\u001b[0;34m(\u001b[0m\u001b[0mkey\u001b[0m\u001b[0;34m)\u001b[0m\u001b[0;34m:\u001b[0m\u001b[0;34m\u001b[0m\u001b[0;34m\u001b[0m\u001b[0m\n\u001b[1;32m   3029\u001b[0m                 \u001b[0mkey\u001b[0m \u001b[0;34m=\u001b[0m \u001b[0mlist\u001b[0m\u001b[0;34m(\u001b[0m\u001b[0mkey\u001b[0m\u001b[0;34m)\u001b[0m\u001b[0;34m\u001b[0m\u001b[0;34m\u001b[0m\u001b[0m\n\u001b[0;32m-> 3030\u001b[0;31m             \u001b[0mindexer\u001b[0m \u001b[0;34m=\u001b[0m \u001b[0mself\u001b[0m\u001b[0;34m.\u001b[0m\u001b[0mloc\u001b[0m\u001b[0;34m.\u001b[0m\u001b[0m_get_listlike_indexer\u001b[0m\u001b[0;34m(\u001b[0m\u001b[0mkey\u001b[0m\u001b[0;34m,\u001b[0m \u001b[0maxis\u001b[0m\u001b[0;34m=\u001b[0m\u001b[0;36m1\u001b[0m\u001b[0;34m,\u001b[0m \u001b[0mraise_missing\u001b[0m\u001b[0;34m=\u001b[0m\u001b[0;32mTrue\u001b[0m\u001b[0;34m)\u001b[0m\u001b[0;34m[\u001b[0m\u001b[0;36m1\u001b[0m\u001b[0;34m]\u001b[0m\u001b[0;34m\u001b[0m\u001b[0;34m\u001b[0m\u001b[0m\n\u001b[0m\u001b[1;32m   3031\u001b[0m \u001b[0;34m\u001b[0m\u001b[0m\n\u001b[1;32m   3032\u001b[0m         \u001b[0;31m# take() does not accept boolean indexers\u001b[0m\u001b[0;34m\u001b[0m\u001b[0;34m\u001b[0m\u001b[0;34m\u001b[0m\u001b[0m\n",
      "\u001b[0;32m~/anaconda3/envs/single_cell/lib/python3.8/site-packages/pandas/core/indexing.py\u001b[0m in \u001b[0;36m_get_listlike_indexer\u001b[0;34m(self, key, axis, raise_missing)\u001b[0m\n\u001b[1;32m   1264\u001b[0m             \u001b[0mkeyarr\u001b[0m\u001b[0;34m,\u001b[0m \u001b[0mindexer\u001b[0m\u001b[0;34m,\u001b[0m \u001b[0mnew_indexer\u001b[0m \u001b[0;34m=\u001b[0m \u001b[0max\u001b[0m\u001b[0;34m.\u001b[0m\u001b[0m_reindex_non_unique\u001b[0m\u001b[0;34m(\u001b[0m\u001b[0mkeyarr\u001b[0m\u001b[0;34m)\u001b[0m\u001b[0;34m\u001b[0m\u001b[0;34m\u001b[0m\u001b[0m\n\u001b[1;32m   1265\u001b[0m \u001b[0;34m\u001b[0m\u001b[0m\n\u001b[0;32m-> 1266\u001b[0;31m         \u001b[0mself\u001b[0m\u001b[0;34m.\u001b[0m\u001b[0m_validate_read_indexer\u001b[0m\u001b[0;34m(\u001b[0m\u001b[0mkeyarr\u001b[0m\u001b[0;34m,\u001b[0m \u001b[0mindexer\u001b[0m\u001b[0;34m,\u001b[0m \u001b[0maxis\u001b[0m\u001b[0;34m,\u001b[0m \u001b[0mraise_missing\u001b[0m\u001b[0;34m=\u001b[0m\u001b[0mraise_missing\u001b[0m\u001b[0;34m)\u001b[0m\u001b[0;34m\u001b[0m\u001b[0;34m\u001b[0m\u001b[0m\n\u001b[0m\u001b[1;32m   1267\u001b[0m         \u001b[0;32mreturn\u001b[0m \u001b[0mkeyarr\u001b[0m\u001b[0;34m,\u001b[0m \u001b[0mindexer\u001b[0m\u001b[0;34m\u001b[0m\u001b[0;34m\u001b[0m\u001b[0m\n\u001b[1;32m   1268\u001b[0m \u001b[0;34m\u001b[0m\u001b[0m\n",
      "\u001b[0;32m~/anaconda3/envs/single_cell/lib/python3.8/site-packages/pandas/core/indexing.py\u001b[0m in \u001b[0;36m_validate_read_indexer\u001b[0;34m(self, key, indexer, axis, raise_missing)\u001b[0m\n\u001b[1;32m   1306\u001b[0m             \u001b[0;32mif\u001b[0m \u001b[0mmissing\u001b[0m \u001b[0;34m==\u001b[0m \u001b[0mlen\u001b[0m\u001b[0;34m(\u001b[0m\u001b[0mindexer\u001b[0m\u001b[0;34m)\u001b[0m\u001b[0;34m:\u001b[0m\u001b[0;34m\u001b[0m\u001b[0;34m\u001b[0m\u001b[0m\n\u001b[1;32m   1307\u001b[0m                 \u001b[0maxis_name\u001b[0m \u001b[0;34m=\u001b[0m \u001b[0mself\u001b[0m\u001b[0;34m.\u001b[0m\u001b[0mobj\u001b[0m\u001b[0;34m.\u001b[0m\u001b[0m_get_axis_name\u001b[0m\u001b[0;34m(\u001b[0m\u001b[0maxis\u001b[0m\u001b[0;34m)\u001b[0m\u001b[0;34m\u001b[0m\u001b[0;34m\u001b[0m\u001b[0m\n\u001b[0;32m-> 1308\u001b[0;31m                 \u001b[0;32mraise\u001b[0m \u001b[0mKeyError\u001b[0m\u001b[0;34m(\u001b[0m\u001b[0;34mf\"None of [{key}] are in the [{axis_name}]\"\u001b[0m\u001b[0;34m)\u001b[0m\u001b[0;34m\u001b[0m\u001b[0;34m\u001b[0m\u001b[0m\n\u001b[0m\u001b[1;32m   1309\u001b[0m \u001b[0;34m\u001b[0m\u001b[0m\n\u001b[1;32m   1310\u001b[0m             \u001b[0max\u001b[0m \u001b[0;34m=\u001b[0m \u001b[0mself\u001b[0m\u001b[0;34m.\u001b[0m\u001b[0mobj\u001b[0m\u001b[0;34m.\u001b[0m\u001b[0m_get_axis\u001b[0m\u001b[0;34m(\u001b[0m\u001b[0maxis\u001b[0m\u001b[0;34m)\u001b[0m\u001b[0;34m\u001b[0m\u001b[0;34m\u001b[0m\u001b[0m\n",
      "\u001b[0;31mKeyError\u001b[0m: \"None of [Index(['time_tp_0', 'time_tp_3', 'time_tp_6', 'time_tp_9', 'time_tp_24',\\n       'time_tp_48'],\\n      dtype='object')] are in the [columns]\""
     ]
    }
   ],
   "source": [
    "moment_1d_df[0].query('gene == \"CIITA\"')[tp_order]"
   ]
  },
  {
   "cell_type": "code",
   "execution_count": 85,
   "metadata": {},
   "outputs": [],
   "source": [
    "dra=moment_df.merge(sig_df[['gene_1', 'gene_2']], on=['gene_1', 'gene_2'], how='inner')\\\n",
    "    .query('gene_2.str.startswith(\"HLA-DRA\")', engine='python')[['gene_1', 'gene_2'] + tp_order]"
   ]
  },
  {
   "cell_type": "code",
   "execution_count": 86,
   "metadata": {},
   "outputs": [
    {
     "data": {
      "image/png": "[encoded data removed]",
      "text/plain": [
       "<Figure size 432x288 with 1 Axes>"
      ]
     },
     "metadata": {
      "needs_background": "light"
     },
     "output_type": "display_data"
    }
   ],
   "source": [
    "plt.plot(dra[tp_order].values.T, lw=1);"
   ]
  }
 ],
 "metadata": {
  "kernelspec": {
   "display_name": "Python 3",
   "language": "python",
   "name": "python3"
  },
  "language_info": {
   "codemirror_mode": {
    "name": "ipython",
    "version": 3
   },
   "file_extension": ".py",
   "mimetype": "text/x-python",
   "name": "python",
   "nbconvert_exporter": "python",
   "pygments_lexer": "ipython3",
   "version": "3.8.8"
  }
 },
 "nbformat": 4,
 "nbformat_minor": 4
}
