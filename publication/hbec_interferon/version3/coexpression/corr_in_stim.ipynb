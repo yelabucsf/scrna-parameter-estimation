{
 "cells": [
  {
   "cell_type": "markdown",
   "metadata": {},
   "source": [
    "# Coexpression of ISGs under stimulation"
   ]
  },
  {
   "cell_type": "code",
   "execution_count": 182,
   "metadata": {},
   "outputs": [],
   "source": [
    "import scanpy as sc\n",
    "import seaborn as sns\n",
    "import pandas as pd\n",
    "import matplotlib.pyplot as plt\n",
    "import numpy as np\n",
    "import scipy.stats as stats\n",
    "from pybedtools import BedTool\n",
    "import pickle as pkl\n",
    "%matplotlib inline\n",
    "import itertools\n",
    "pd.set_option('display.max_columns', None)\n",
    "pd.set_option('display.max_rows', None)"
   ]
  },
  {
   "cell_type": "code",
   "execution_count": 183,
   "metadata": {},
   "outputs": [],
   "source": [
    "import sys\n",
    "sys.path.append('/home/ssm-user/Github/scrna-parameter-estimation/dist/memento-0.0.6-py3.8.egg')\n",
    "sys.path.append('/home/ssm-user/Github/misc-seq/miscseq')\n",
    "import encode\n",
    "import memento"
   ]
  },
  {
   "cell_type": "code",
   "execution_count": 184,
   "metadata": {},
   "outputs": [],
   "source": [
    "data_path = '/data_volume/memento/hbec/'\n",
    "fig_path = '/data/home/Github/scrna-parameter-estimation/figures/fig6/'"
   ]
  },
  {
   "cell_type": "code",
   "execution_count": 185,
   "metadata": {},
   "outputs": [],
   "source": [
    "import matplotlib\n",
    "matplotlib.rcParams['pdf.fonttype'] = 42\n",
    "matplotlib.rcParams['ps.fonttype'] = 42"
   ]
  },
  {
   "cell_type": "code",
   "execution_count": 186,
   "metadata": {},
   "outputs": [],
   "source": [
    "import matplotlib.pylab as pylab\n",
    "params = {'legend.fontsize': 'medium',\n",
    "         'axes.labelsize': 'medium',\n",
    "         'axes.titlesize':'medium',\n",
    "         'figure.titlesize':'medium',\n",
    "         'xtick.labelsize':'small',\n",
    "         'ytick.labelsize':'small'}\n",
    "pylab.rcParams.update(params)"
   ]
  },
  {
   "cell_type": "markdown",
   "metadata": {},
   "source": [
    "### Read the processed RNA data\n",
    "\n",
    "Focus on the club and bc/club cells and type I interferons for now.\n",
    "\n",
    "Encode the timestamps to integers."
   ]
  },
  {
   "cell_type": "code",
   "execution_count": 187,
   "metadata": {},
   "outputs": [],
   "source": [
    "adata_processed = sc.read(data_path + 'HBEC_type_I_processed_deep.h5ad')"
   ]
  },
  {
   "cell_type": "code",
   "execution_count": 188,
   "metadata": {},
   "outputs": [],
   "source": [
    "adata = sc.read(data_path + 'HBEC_type_I_filtered_counts_deep.h5ad')"
   ]
  },
  {
   "cell_type": "code",
   "execution_count": 189,
   "metadata": {},
   "outputs": [
    {
     "name": "stderr",
     "output_type": "stream",
     "text": [
      "/home/ssm-user/anaconda3/envs/single_cell/lib/python3.8/site-packages/pandas/core/arrays/categorical.py:2487: FutureWarning: The `inplace` parameter in pandas.Categorical.remove_unused_categories is deprecated and will be removed in a future version.\n",
      "  res = method(*args, **kwargs)\n"
     ]
    }
   ],
   "source": [
    "adata = adata[:, ~adata.var.index.str.startswith('MT-')].copy()\n",
    "# adata.obs['cell_type'] = adata.obs['cell_type'].apply(lambda x: x if x != 'basal/club' else 'bc')\n",
    "# adata.obs['cell_type'] = adata.obs['cell_type'].apply(lambda x: x if x != 'ionocyte/tuft' else 'ion-tuft')"
   ]
  },
  {
   "cell_type": "raw",
   "metadata": {},
   "source": [
    "sc.pl.umap(adata_processed, color=['cell_type', 'time', 'stim'])"
   ]
  },
  {
   "cell_type": "code",
   "execution_count": 191,
   "metadata": {},
   "outputs": [
    {
     "data": {
      "text/plain": [
       "(69958, 36588)"
      ]
     },
     "execution_count": 191,
     "metadata": {},
     "output_type": "execute_result"
    }
   ],
   "source": [
    "adata.shape"
   ]
  },
  {
   "cell_type": "code",
   "execution_count": 192,
   "metadata": {},
   "outputs": [],
   "source": [
    "converter = {'basal/club':'BC', 'basal':'B', 'ciliated':'C', 'goblet':'G', 'ionocyte/tuft':'IT', 'neuroendo':'N'}"
   ]
  },
  {
   "cell_type": "code",
   "execution_count": 193,
   "metadata": {},
   "outputs": [],
   "source": [
    "adata.obs['ct'] = adata.obs['cell_type'].apply(lambda x: converter[x])\n",
    "adata_processed.obs['ct'] = adata_processed.obs['cell_type'].apply(lambda x: converter[x])"
   ]
  },
  {
   "cell_type": "markdown",
   "metadata": {},
   "source": [
    "### Define ISG classes"
   ]
  },
  {
   "cell_type": "code",
   "execution_count": 12,
   "metadata": {},
   "outputs": [],
   "source": [
    "isg_classes = pd.read_csv('../isg_classes.csv')"
   ]
  },
  {
   "cell_type": "code",
   "execution_count": 151,
   "metadata": {},
   "outputs": [],
   "source": [
    "t1_isg = isg_classes.query('overall_type ==\"type1\"').gene.tolist()\n",
    "t2_isg = isg_classes.query('overall_type ==\"type2\"').gene.tolist()\n",
    "shared_isg = isg_classes.query('overall_type == \"shared\"').gene.tolist()\n",
    "all_isg = isg_classes[isg_classes.sum(axis=1) > 0].gene.tolist()"
   ]
  },
  {
   "cell_type": "code",
   "execution_count": 152,
   "metadata": {},
   "outputs": [],
   "source": [
    "tf_df = pd.read_csv('../baseline/human_tf.txt', sep='\\t')\n",
    "tf_list = tf_df['Symbol'].tolist()\n",
    "tf_list += ['CIITA', 'NLRC5']"
   ]
  },
  {
   "cell_type": "code",
   "execution_count": 153,
   "metadata": {},
   "outputs": [],
   "source": [
    "# cytokines = pd.read_csv('../mart_export.txt')['Gene name'].tolist()\n",
    "# cytokines = v_df.query('cytokine').gene.tolist()"
   ]
  },
  {
   "cell_type": "markdown",
   "metadata": {},
   "source": [
    "### Setup memento"
   ]
  },
  {
   "cell_type": "code",
   "execution_count": 195,
   "metadata": {},
   "outputs": [],
   "source": [
    "def assign_q(batch):\n",
    "    \n",
    "    if batch == 0:\n",
    "        return 0.387*0.25\n",
    "    elif batch == 1:\n",
    "        return 0.392*0.25\n",
    "    elif batch == 2:\n",
    "        return 0.436*0.25\n",
    "    else:\n",
    "        return 0.417*0.25"
   ]
  },
  {
   "cell_type": "code",
   "execution_count": 196,
   "metadata": {},
   "outputs": [],
   "source": [
    "adata.obs['q'] = adata.obs['batch'].apply(assign_q)"
   ]
  },
  {
   "cell_type": "code",
   "execution_count": 197,
   "metadata": {},
   "outputs": [
    {
     "name": "stdout",
     "output_type": "stream",
     "text": [
      "Version 0.0.6\n"
     ]
    }
   ],
   "source": [
    "memento.setup_memento(adata, q_column='q', trim_percent=0.1)"
   ]
  },
  {
   "cell_type": "code",
   "execution_count": 198,
   "metadata": {},
   "outputs": [],
   "source": [
    "# mhc_1 = []\n",
    "# mhc_2 = []\n",
    "# for g in included_de_genes:\n",
    "#     if 'HLA' in g:\n",
    "#         if len(g.split('-')[1]) > 1:\n",
    "#             mhc_2.append(g)\n",
    "#         else:\n",
    "#             mhc_1.append(g)"
   ]
  },
  {
   "cell_type": "markdown",
   "metadata": {},
   "source": [
    "### STAT1 differential correlation"
   ]
  },
  {
   "cell_type": "code",
   "execution_count": 199,
   "metadata": {},
   "outputs": [],
   "source": [
    "to_test = []\n",
    "for g in available_genes:\n",
    "    if 'STAT' in g or 'IRF' in g:\n",
    "        to_test.append(g)"
   ]
  },
  {
   "cell_type": "code",
   "execution_count": 203,
   "metadata": {},
   "outputs": [
    {
     "name": "stderr",
     "output_type": "stream",
     "text": [
      "/home/ssm-user/anaconda3/envs/single_cell/lib/python3.8/site-packages/pandas/core/arrays/categorical.py:2487: FutureWarning: The `inplace` parameter in pandas.Categorical.remove_unused_categories is deprecated and will be removed in a future version.\n",
      "  res = method(*args, **kwargs)\n",
      "/home/ssm-user/Github/scrna-parameter-estimation/dist/memento-0.0.6-py3.8.egg/memento/main.py:614: RuntimeWarning: invalid value encountered in true_divide\n",
      "  groupby_corr[key] /= groupby_corr_count[key]\n"
     ]
    },
    {
     "name": "stdout",
     "output_type": "stream",
     "text": [
      "gamma 3 (4024, 4)\n"
     ]
    },
    {
     "name": "stderr",
     "output_type": "stream",
     "text": [
      "[Parallel(n_jobs=94)]: Using backend LokyBackend with 94 concurrent workers.\n",
      "[Parallel(n_jobs=94)]: Done  12 tasks      | elapsed:    7.8s\n",
      "[Parallel(n_jobs=94)]: Done 262 tasks      | elapsed:   17.7s\n",
      "[Parallel(n_jobs=94)]: Done 612 tasks      | elapsed:   33.0s\n",
      "[Parallel(n_jobs=94)]: Done 1062 tasks      | elapsed:   50.4s\n",
      "[Parallel(n_jobs=94)]: Done 1612 tasks      | elapsed:  1.1min\n",
      "[Parallel(n_jobs=94)]: Done 2262 tasks      | elapsed:  1.4min\n",
      "[Parallel(n_jobs=94)]: Done 3012 tasks      | elapsed:  1.9min\n",
      "[Parallel(n_jobs=94)]: Done 4020 out of 4020 | elapsed:  2.5min finished\n",
      "... storing 'memento_group' as categorical\n",
      "/home/ssm-user/anaconda3/envs/single_cell/lib/python3.8/site-packages/pandas/core/arrays/categorical.py:2487: FutureWarning: The `inplace` parameter in pandas.Categorical.remove_unused_categories is deprecated and will be removed in a future version.\n",
      "  res = method(*args, **kwargs)\n"
     ]
    },
    {
     "name": "stdout",
     "output_type": "stream",
     "text": [
      "beta 3 (5700, 4)\n"
     ]
    },
    {
     "name": "stderr",
     "output_type": "stream",
     "text": [
      "[Parallel(n_jobs=94)]: Using backend LokyBackend with 94 concurrent workers.\n",
      "[Parallel(n_jobs=94)]: Done  12 tasks      | elapsed:    3.0s\n",
      "[Parallel(n_jobs=94)]: Done 262 tasks      | elapsed:   15.1s\n",
      "[Parallel(n_jobs=94)]: Done 612 tasks      | elapsed:   32.5s\n",
      "[Parallel(n_jobs=94)]: Done 1062 tasks      | elapsed:   55.6s\n",
      "[Parallel(n_jobs=94)]: Done 1612 tasks      | elapsed:  1.4min\n",
      "[Parallel(n_jobs=94)]: Done 2262 tasks      | elapsed:  1.7min\n",
      "[Parallel(n_jobs=94)]: Done 3012 tasks      | elapsed:  2.1min\n",
      "[Parallel(n_jobs=94)]: Done 3862 tasks      | elapsed:  2.7min\n",
      "[Parallel(n_jobs=94)]: Done 4812 tasks      | elapsed:  3.3min\n",
      "[Parallel(n_jobs=94)]: Done 5695 out of 5695 | elapsed:  4.0min finished\n",
      "... storing 'memento_group' as categorical\n",
      "/home/ssm-user/anaconda3/envs/single_cell/lib/python3.8/site-packages/pandas/core/arrays/categorical.py:2487: FutureWarning: The `inplace` parameter in pandas.Categorical.remove_unused_categories is deprecated and will be removed in a future version.\n",
      "  res = method(*args, **kwargs)\n",
      "/home/ssm-user/Github/scrna-parameter-estimation/dist/memento-0.0.6-py3.8.egg/memento/main.py:614: RuntimeWarning: invalid value encountered in true_divide\n",
      "  groupby_corr[key] /= groupby_corr_count[key]\n"
     ]
    },
    {
     "name": "stdout",
     "output_type": "stream",
     "text": [
      "gamma 48 (4097, 4)\n"
     ]
    },
    {
     "name": "stderr",
     "output_type": "stream",
     "text": [
      "[Parallel(n_jobs=94)]: Using backend LokyBackend with 94 concurrent workers.\n",
      "[Parallel(n_jobs=94)]: Done  12 tasks      | elapsed:    2.1s\n",
      "[Parallel(n_jobs=94)]: Done 262 tasks      | elapsed:   10.3s\n",
      "[Parallel(n_jobs=94)]: Done 612 tasks      | elapsed:   22.1s\n",
      "[Parallel(n_jobs=94)]: Done 1062 tasks      | elapsed:   37.7s\n",
      "[Parallel(n_jobs=94)]: Done 1612 tasks      | elapsed:   50.1s\n",
      "[Parallel(n_jobs=94)]: Done 2262 tasks      | elapsed:  1.1min\n",
      "[Parallel(n_jobs=94)]: Done 3012 tasks      | elapsed:  1.5min\n",
      "[Parallel(n_jobs=94)]: Done 3862 tasks      | elapsed:  2.0min\n",
      "[Parallel(n_jobs=94)]: Done 4093 out of 4093 | elapsed:  2.1min finished\n",
      "... storing 'memento_group' as categorical\n",
      "/home/ssm-user/anaconda3/envs/single_cell/lib/python3.8/site-packages/pandas/core/arrays/categorical.py:2487: FutureWarning: The `inplace` parameter in pandas.Categorical.remove_unused_categories is deprecated and will be removed in a future version.\n",
      "  res = method(*args, **kwargs)\n",
      "/home/ssm-user/Github/scrna-parameter-estimation/dist/memento-0.0.6-py3.8.egg/memento/main.py:614: RuntimeWarning: invalid value encountered in true_divide\n",
      "  groupby_corr[key] /= groupby_corr_count[key]\n"
     ]
    },
    {
     "name": "stdout",
     "output_type": "stream",
     "text": [
      "beta 48 (3859, 4)\n"
     ]
    },
    {
     "name": "stderr",
     "output_type": "stream",
     "text": [
      "[Parallel(n_jobs=94)]: Using backend LokyBackend with 94 concurrent workers.\n",
      "[Parallel(n_jobs=94)]: Done  12 tasks      | elapsed:    2.5s\n",
      "[Parallel(n_jobs=94)]: Done 262 tasks      | elapsed:   11.3s\n",
      "[Parallel(n_jobs=94)]: Done 612 tasks      | elapsed:   24.2s\n",
      "[Parallel(n_jobs=94)]: Done 1062 tasks      | elapsed:   39.5s\n",
      "[Parallel(n_jobs=94)]: Done 1612 tasks      | elapsed:   53.3s\n",
      "[Parallel(n_jobs=94)]: Done 2262 tasks      | elapsed:  1.2min\n",
      "[Parallel(n_jobs=94)]: Done 3012 tasks      | elapsed:  1.6min\n",
      "[Parallel(n_jobs=94)]: Done 3854 out of 3854 | elapsed:  2.1min finished\n",
      "... storing 'memento_group' as categorical\n"
     ]
    }
   ],
   "source": [
    "cts = ['C', 'B', 'BC']\n",
    "tps = ['6']\n",
    "ct = ['C']\n",
    "stims = ['gamma', 'beta']\n",
    "for tp in tps:\n",
    "    for stim in stims:\n",
    "        \n",
    "        adata_stim = adata.copy()[\n",
    "\n",
    "            adata.obs.ct.isin(ct) & \\\n",
    "            adata.obs.stim.isin([stim, 'control']) & \\\n",
    "            adata.obs.time.isin(['0', tp])].copy()\n",
    "        \n",
    "        time_converter={0:0, int(tp):1}\n",
    "        adata_stim.obs['time_step'] = adata_stim.obs['time'].astype(int).apply(lambda x: time_converter[x])\n",
    "        adata_stim.obs['group'] = 1\n",
    "\n",
    "        memento.create_groups(adata_stim, label_columns=['donor', 'time_step'])\n",
    "        memento.compute_1d_moments(adata_stim, min_perc_group=.9)\n",
    "\n",
    "        available_genes = adata_stim.var.index.tolist()\n",
    "#         to_test = []\n",
    "#         for g in available_genes:\n",
    "#             if 'STAT' in g or 'IRF' in g:\n",
    "#                 to_test.append(g)\n",
    "                \n",
    "#         available_genes = list(   set(available_genes)  - set(to_test) )\n",
    "        \n",
    "        memento.compute_2d_moments(adata_stim, list(itertools.product(['STAT1', 'STAT2', 'IRF9'], available_genes)))\n",
    "        \n",
    "        moment_df = memento.get_2d_moments(adata_stim, groupby='time_step')\n",
    "        \n",
    "        candidates = moment_df.query('time_step_0 > 0.3 | time_step_1 > 0.3')\n",
    "        print(stim, tp, candidates.shape)\n",
    "        memento.compute_2d_moments(adata_stim, list(zip(candidates['gene_1'], candidates['gene_2']))  )\n",
    "                \n",
    "        memento.ht_2d_moments( \n",
    "            adata_stim, \n",
    "            formula_like='1 + donor + time_step',\n",
    "            treatment_col='time_step', \n",
    "            num_boot=10000, \n",
    "            verbose=1,\n",
    "            num_cpus=94,\n",
    "            resampling='permutation',\n",
    "            approx=False)\n",
    "\n",
    "        adata_stim.write(data_path + 'differential_utilization/{}_{}.h5ad'.format(stim, tp))"
   ]
  },
  {
   "cell_type": "code",
   "execution_count": null,
   "metadata": {},
   "outputs": [],
   "source": []
  },
  {
   "cell_type": "code",
   "execution_count": null,
   "metadata": {},
   "outputs": [],
   "source": []
  },
  {
   "cell_type": "code",
   "execution_count": null,
   "metadata": {},
   "outputs": [],
   "source": []
  },
  {
   "cell_type": "code",
   "execution_count": 163,
   "metadata": {},
   "outputs": [],
   "source": [
    "to_test = list(set(tf_list) & set(available_genes))"
   ]
  },
  {
   "cell_type": "code",
   "execution_count": 54,
   "metadata": {},
   "outputs": [
    {
     "name": "stderr",
     "output_type": "stream",
     "text": [
      "/home/ssm-user/anaconda3/envs/single_cell/lib/python3.8/site-packages/pandas/core/arrays/categorical.py:2487: FutureWarning: The `inplace` parameter in pandas.Categorical.remove_unused_categories is deprecated and will be removed in a future version.\n",
      "  res = method(*args, **kwargs)\n"
     ]
    }
   ],
   "source": [
    "# First, get correlations without adjustment\n",
    "stim = 'gamma'\n",
    "ct = ['C']\n",
    "adata_stim = adata.copy()[\n",
    "\n",
    "    adata.obs.ct.isin(ct) & \\\n",
    "    adata.obs.stim.isin([stim, 'control']) & \\\n",
    "    adata.obs.time.isin(['0', '3'])].copy()\n",
    "time_converter={0:0, int('3'):1}\n",
    "adata_stim.obs['time_step'] = adata_stim.obs['time'].astype(int).apply(lambda x: time_converter[x])\n",
    "adata_stim.obs['group'] = 1\n",
    "\n",
    "memento.create_groups(adata_stim, label_columns=['donor', 'time_step'])\n",
    "memento.compute_1d_moments(adata_stim, min_perc_group=.3)\n",
    "\n",
    "available_genes = adata_stim.var.index.tolist()\n",
    "\n",
    "# memento.compute_2d_moments(adata_stim, list(itertools.product(['STAT1'], available_genes)))\n",
    "# moment_1d_df = memento.get_1d_moments(adata_stim, groupby='time_step')\n",
    "# candidates = moment_1d_df.query('time_step_0 > 0.35 | time_step_1 > 0.35')\n",
    "memento.compute_2d_moments(adata_stim, list(itertools.product(['STAT1', 'STAT2', 'IRF9'], available_genes)))\n",
    "c_df = memento.get_2d_moments(adata_stim, groupby='time_step')\n",
    "c_df['es'] = c_df['time_step_1'] - c_df['time_step_0']\n",
    "c_df = c_df.merge(isg_classes, left_on='gene_2', right_on='gene')\n",
    "\n",
    "sns.boxplot(x='gene_1', y='es', hue='overall_type',data=c_df.query('overall_type != \"shared\"'))\n",
    "memento.ht_2d_moments( \n",
    "    adata_stim, \n",
    "    formula_like='1 + donor + time_step',\n",
    "    treatment_col='time_step', \n",
    "    num_boot=10000, \n",
    "    verbose=1,\n",
    "    num_cpus=94,\n",
    "    resampling='permutation',\n",
    "    approx=False)\n",
    "\n",
    "rho_adj = memento.get_2d_ht_result(adata_stim)\n",
    "\n",
    "# adata_stim.write(data_path + '{}_6_dc.h5ad'.format(stim))"
   ]
  },
  {
   "cell_type": "code",
   "execution_count": 33,
   "metadata": {},
   "outputs": [
    {
     "name": "stderr",
     "output_type": "stream",
     "text": [
      "... storing 'memento_group' as categorical\n"
     ]
    }
   ],
   "source": [
    "adata_stim.write(data_path + 'gamma_6_dc.h5ad')"
   ]
  },
  {
   "cell_type": "code",
   "execution_count": 34,
   "metadata": {},
   "outputs": [],
   "source": [
    "moment_1d_df = memento.get_2d_moments(adata_stim, groupby='time_step')\n",
    "candidates = moment_1d_df.query('time_step_0 > 0.3 | time_step_1 > 0.3')"
   ]
  },
  {
   "cell_type": "code",
   "execution_count": 35,
   "metadata": {},
   "outputs": [
    {
     "data": {
      "text/plain": [
       "1831"
      ]
     },
     "execution_count": 35,
     "metadata": {},
     "output_type": "execute_result"
    }
   ],
   "source": [
    "len(candidates)"
   ]
  },
  {
   "cell_type": "code",
   "execution_count": 135,
   "metadata": {},
   "outputs": [],
   "source": [
    "corr_df = memento.get_2d_ht_result(adata_stim)\n",
    "# corr_df = corr_df.merge(candidates[['gene_1', 'gene_2']], on=['gene_1', 'gene_2'])\n",
    "corr_df['dc_fdr'] = memento.util._fdrcorrect(corr_df['corr_pval'])\n",
    "isg_corr_df = corr_df.merge(isg_classes[['gene', 'overall_type']], left_on='gene_2', right_on='gene')"
   ]
  },
  {
   "cell_type": "code",
   "execution_count": 143,
   "metadata": {},
   "outputs": [
    {
     "data": {
      "text/plain": [
       "<AxesSubplot:xlabel='overall_type', ylabel='corr_coef'>"
      ]
     },
     "execution_count": 143,
     "metadata": {},
     "output_type": "execute_result"
    },
    {
     "data": {
      "image/png": "[encoded data removed]",
      "text/plain": [
       "<Figure size 432x288 with 1 Axes>"
      ]
     },
     "metadata": {
      "needs_background": "light"
     },
     "output_type": "display_data"
    }
   ],
   "source": [
    "sns.boxplot(x='overall_type', y='corr_coef', data=isg_corr_df)"
   ]
  },
  {
   "cell_type": "code",
   "execution_count": 142,
   "metadata": {},
   "outputs": [
    {
     "data": {
      "text/plain": [
       "(430, 8)"
      ]
     },
     "execution_count": 142,
     "metadata": {},
     "output_type": "execute_result"
    }
   ],
   "source": [
    "isg_corr_df.shape"
   ]
  },
  {
   "cell_type": "code",
   "execution_count": 136,
   "metadata": {},
   "outputs": [],
   "source": [
    "dc_genes = isg_corr_df.query('dc_fdr < 0.1 & corr_coef > 0').gene_2.tolist()"
   ]
  },
  {
   "cell_type": "code",
   "execution_count": 137,
   "metadata": {},
   "outputs": [
    {
     "data": {
      "text/plain": [
       "(11316, 6)"
      ]
     },
     "execution_count": 137,
     "metadata": {},
     "output_type": "execute_result"
    }
   ],
   "source": [
    "corr_df.shape"
   ]
  },
  {
   "cell_type": "code",
   "execution_count": 138,
   "metadata": {},
   "outputs": [
    {
     "data": {
      "text/plain": [
       "False"
      ]
     },
     "execution_count": 138,
     "metadata": {},
     "output_type": "execute_result"
    }
   ],
   "source": [
    "'IFIT1' in dc_genes"
   ]
  },
  {
   "cell_type": "code",
   "execution_count": 139,
   "metadata": {},
   "outputs": [
    {
     "data": {
      "text/plain": [
       "29"
      ]
     },
     "execution_count": 139,
     "metadata": {},
     "output_type": "execute_result"
    }
   ],
   "source": [
    "len(dc_genes)"
   ]
  },
  {
   "cell_type": "code",
   "execution_count": 140,
   "metadata": {},
   "outputs": [
    {
     "data": {
      "text/plain": [
       "['GBP3',\n",
       " 'GBP2',\n",
       " 'WDFY1',\n",
       " 'TF',\n",
       " 'CXCL9',\n",
       " 'IRF1',\n",
       " 'CD74',\n",
       " 'HLA-E',\n",
       " 'HLA-B',\n",
       " 'HLA-DRA',\n",
       " 'HLA-DRB1',\n",
       " 'HLA-DQB1',\n",
       " 'HLA-DMA',\n",
       " 'HLA-DPA1',\n",
       " 'HLA-DPB1',\n",
       " 'CALHM6',\n",
       " 'MDK',\n",
       " 'PLAAT4',\n",
       " 'TAPBPL',\n",
       " 'AQP5',\n",
       " 'N4BP2L1',\n",
       " 'PSME2',\n",
       " 'PDIA3',\n",
       " 'MSRB1',\n",
       " 'MMP25-AS1',\n",
       " 'MT1E',\n",
       " 'NLRC5',\n",
       " 'SCO2',\n",
       " 'SLC6A8']"
      ]
     },
     "execution_count": 140,
     "metadata": {},
     "output_type": "execute_result"
    }
   ],
   "source": [
    "dc_genes"
   ]
  },
  {
   "cell_type": "markdown",
   "metadata": {},
   "source": [
    "### Heatmap for correlations at stim"
   ]
  },
  {
   "cell_type": "code",
   "execution_count": 101,
   "metadata": {},
   "outputs": [],
   "source": [
    "ct = 'C'\n",
    "stim = adata[(adata.obs.stim=='gamma') & adata.obs.ct.isin([ct])].copy().copy()\n",
    "stim.obs['group'] = 1\n",
    "memento.create_groups(stim, label_columns=['group', 'ct'])\n",
    "memento.compute_1d_moments(stim, min_perc_group=.9) "
   ]
  },
  {
   "cell_type": "code",
   "execution_count": 102,
   "metadata": {},
   "outputs": [],
   "source": [
    "included_de_genes = list(set(dc_genes) & set(stim.var.index))"
   ]
  },
  {
   "cell_type": "code",
   "execution_count": 103,
   "metadata": {},
   "outputs": [],
   "source": [
    "memento.compute_2d_moments(stim, gene_pairs=list(itertools.combinations(included_de_genes,2)))\n",
    "c_df = memento.get_2d_moments(stim, groupby='ct')"
   ]
  },
  {
   "cell_type": "code",
   "execution_count": 104,
   "metadata": {},
   "outputs": [],
   "source": [
    "ct_c_df = c_df[['gene_1', 'gene_2', 'ct_C']]\n",
    "ct_heatmap = pd.DataFrame(np.zeros((len(included_de_genes), len(included_de_genes))), columns=included_de_genes, index=included_de_genes)\n",
    "for idx, row in ct_c_df.iterrows():\n",
    "    \n",
    "    ct_heatmap.loc[row['gene_1'], row['gene_2']] = row['ct_C']\n",
    "    ct_heatmap.loc[row['gene_2'], row['gene_1']] = row['ct_C']"
   ]
  },
  {
   "cell_type": "code",
   "execution_count": 109,
   "metadata": {},
   "outputs": [],
   "source": [
    "# Manual construction of linkage matrix\n",
    "from scipy.spatial import distance\n",
    "from scipy.cluster import hierarchy\n",
    "from scipy.cluster.hierarchy import fcluster\n",
    "\n",
    "\n",
    "row_linkage = hierarchy.linkage(distance.pdist(ct_heatmap), method='average')\n",
    "cluster_assignments = fcluster(row_linkage, t=10, criterion='maxclust')\n",
    "num_clusters = 5\n",
    "top_clusters= dict(zip(pd.Series(cluster_assignments).value_counts().head(num_clusters).index, range(num_clusters)))\n",
    "top_clusters_reverse= dict(zip(range(num_clusters), pd.Series(cluster_assignments).value_counts().head(num_clusters).index, ))\n",
    "\n",
    "coarse_cluster_assignments = np.array([top_clusters[i] if i in top_clusters else -1 for i in cluster_assignments])"
   ]
  },
  {
   "cell_type": "code",
   "execution_count": 110,
   "metadata": {},
   "outputs": [
    {
     "name": "stdout",
     "output_type": "stream",
     "text": [
      "(29, 29)\n",
      "(29, 29)\n"
     ]
    }
   ],
   "source": [
    "print(ct_heatmap.shape)\n",
    "cg = sns.clustermap(ct_heatmap.fillna(0.0), center=0, vmax=0.3, metric='euclidean', row_linkage=row_linkage, col_linkage=row_linkage); plt.close()\n",
    "row_inds = cg.dendrogram_row.reordered_ind\n",
    "col_inds = cg.dendrogram_col.reordered_ind\n",
    "print(ct_heatmap.shape)\n"
   ]
  },
  {
   "cell_type": "code",
   "execution_count": 111,
   "metadata": {},
   "outputs": [],
   "source": [
    "def classify_color_isg(x):\n",
    "    \n",
    "    if x in shared_isg:\n",
    "        return -1\n",
    "    if x in t1_isg:\n",
    "        return 0\n",
    "    if x in t2_isg:\n",
    "        return 1\n",
    "    return 'impossible'"
   ]
  },
  {
   "cell_type": "code",
   "execution_count": 112,
   "metadata": {},
   "outputs": [],
   "source": [
    "# For ISG type coloring\n",
    "from matplotlib.colors import LinearSegmentedColormap\n",
    "\n",
    "myColors = sns.color_palette('Paired', num_clusters+1)\n",
    "cmap = LinearSegmentedColormap.from_list('Custom', myColors, len(myColors))\n",
    "class_list = coarse_cluster_assignments[np.newaxis, :]"
   ]
  },
  {
   "cell_type": "code",
   "execution_count": 113,
   "metadata": {},
   "outputs": [
    {
     "data": {
      "text/html": [
       "<svg  width=\"330\" height=\"55\"><rect x=\"0\" y=\"0\" width=\"55\" height=\"55\" style=\"fill:#a6cee3;stroke-width:2;stroke:rgb(255,255,255)\"/><rect x=\"55\" y=\"0\" width=\"55\" height=\"55\" style=\"fill:#1f78b4;stroke-width:2;stroke:rgb(255,255,255)\"/><rect x=\"110\" y=\"0\" width=\"55\" height=\"55\" style=\"fill:#b2df8a;stroke-width:2;stroke:rgb(255,255,255)\"/><rect x=\"165\" y=\"0\" width=\"55\" height=\"55\" style=\"fill:#33a02c;stroke-width:2;stroke:rgb(255,255,255)\"/><rect x=\"220\" y=\"0\" width=\"55\" height=\"55\" style=\"fill:#fb9a99;stroke-width:2;stroke:rgb(255,255,255)\"/><rect x=\"275\" y=\"0\" width=\"55\" height=\"55\" style=\"fill:#e31a1c;stroke-width:2;stroke:rgb(255,255,255)\"/></svg>"
      ],
      "text/plain": [
       "[(0.6509803921568628, 0.807843137254902, 0.8901960784313725),\n",
       " (0.12156862745098039, 0.47058823529411764, 0.7058823529411765),\n",
       " (0.6980392156862745, 0.8745098039215686, 0.5411764705882353),\n",
       " (0.2, 0.6274509803921569, 0.17254901960784313),\n",
       " (0.984313725490196, 0.6039215686274509, 0.6),\n",
       " (0.8901960784313725, 0.10196078431372549, 0.10980392156862745)]"
      ]
     },
     "execution_count": 113,
     "metadata": {},
     "output_type": "execute_result"
    }
   ],
   "source": [
    "myColors"
   ]
  },
  {
   "cell_type": "code",
   "execution_count": 115,
   "metadata": {},
   "outputs": [
    {
     "data": {
      "image/png": "[encoded data removed]",
      "text/plain": [
       "<Figure size 1440x1440 with 4 Axes>"
      ]
     },
     "metadata": {
      "needs_background": "light"
     },
     "output_type": "display_data"
    }
   ],
   "source": [
    "fig = plt.figure(figsize=(20,20))\n",
    "ax1 = plt.subplot2grid((21,20), (1,0), colspan=19, rowspan=19)\n",
    "ax2 = plt.subplot2grid((21,20), (0,0), colspan=19, rowspan=1)\n",
    "\n",
    "sns.heatmap(ct_heatmap.iloc[row_inds, col_inds], cmap='viridis', vmax=1, vmin=0.1, ax=ax1, yticklabels=False, xticklabels=False, cbar_kws={\"shrink\": 0.5})\n",
    "sns.heatmap(class_list[:, row_inds], cmap=cmap, ax=ax2, yticklabels=False, xticklabels=False, cbar_kws={\"shrink\": 10})\n",
    "colorbar = ax2.collections[0].colorbar\n",
    "colorbar.set_ticks([-1] + list(range(num_clusters+1)))\n",
    "colorbar.set_ticklabels([-1] + list(range(num_clusters+1)))\n",
    "\n",
    "# colorbar.set_ticklabels(['shared', 'type1', 'type2'])\n",
    "\n",
    "# some_genes = list(set(mhc_1)&set(included_de_genes))\n",
    "# for g in some_genes:\n",
    "#     idx = np.where(np.array(row_inds)==ct_heatmap.index.get_loc(g))[0][0]\n",
    "#     ax1.plot([0, len(included_de_genes)], [idx, idx], color='magenta')\n",
    "#     ax1.plot([idx, idx],[0, len(included_de_genes)], color='magenta',)\n",
    "    \n",
    "# selected_genes = {}\n",
    "# locations = [\n",
    " \n",
    "# ]\n",
    "# colors = sns.color_palette('husl', len(locations))\n",
    "# i = 0\n",
    "\n",
    "# for x1, x2 in locations:\n",
    "    \n",
    "#     ax1.plot([x1, x1],[0, len(included_de_genes)], color=colors[i],)\n",
    "#     ax1.plot([x2, x2],[0, len(included_de_genes)], color=colors[i])\n",
    "\n",
    "#     selected_genes[i]= ct_heatmap.index[np.array(row_inds)[x1:x2]]\n",
    "    \n",
    "#     i+=1"
   ]
  },
  {
   "cell_type": "code",
   "execution_count": 116,
   "metadata": {},
   "outputs": [
    {
     "name": "stdout",
     "output_type": "stream",
     "text": [
      "0 ['MT1E', 'AQP5', 'TF', 'IRF1', 'MSRB1', 'N4BP2L1', 'SLC6A8', 'NLRC5', 'WDFY1', 'SCO2', 'CXCL9', 'MMP25-AS1', 'CALHM6', 'TAPBPL']\n",
      "1 ['PSME2', 'GBP3', 'HLA-E', 'PDIA3', 'PLAAT4', 'HLA-DQB1']\n",
      "2 ['HLA-B', 'HLA-DMA']\n",
      "3 ['GBP2']\n",
      "4 ['HLA-DPB1']\n"
     ]
    },
    {
     "ename": "KeyError",
     "evalue": "5",
     "output_type": "error",
     "traceback": [
      "\u001b[0;31m---------------------------------------------------------------------------\u001b[0m",
      "\u001b[0;31mKeyError\u001b[0m                                  Traceback (most recent call last)",
      "\u001b[0;32m<ipython-input-116-5bc5bbb28d82>\u001b[0m in \u001b[0;36m<module>\u001b[0;34m\u001b[0m\n\u001b[1;32m      2\u001b[0m \u001b[0;32mfor\u001b[0m \u001b[0mcluster\u001b[0m \u001b[0;32min\u001b[0m \u001b[0mrange\u001b[0m\u001b[0;34m(\u001b[0m\u001b[0;36m10\u001b[0m\u001b[0;34m)\u001b[0m\u001b[0;34m:\u001b[0m\u001b[0;34m\u001b[0m\u001b[0;34m\u001b[0m\u001b[0m\n\u001b[1;32m      3\u001b[0m \u001b[0;34m\u001b[0m\u001b[0m\n\u001b[0;32m----> 4\u001b[0;31m     \u001b[0mgene_sets\u001b[0m\u001b[0;34m[\u001b[0m\u001b[0mcluster\u001b[0m\u001b[0;34m]\u001b[0m \u001b[0;34m=\u001b[0m \u001b[0mct_heatmap\u001b[0m\u001b[0;34m.\u001b[0m\u001b[0mindex\u001b[0m\u001b[0;34m[\u001b[0m\u001b[0mcluster_assignments\u001b[0m \u001b[0;34m==\u001b[0m \u001b[0mtop_clusters_reverse\u001b[0m\u001b[0;34m[\u001b[0m\u001b[0mcluster\u001b[0m\u001b[0;34m]\u001b[0m\u001b[0;34m]\u001b[0m\u001b[0;34m.\u001b[0m\u001b[0mtolist\u001b[0m\u001b[0;34m(\u001b[0m\u001b[0;34m)\u001b[0m\u001b[0;34m\u001b[0m\u001b[0;34m\u001b[0m\u001b[0m\n\u001b[0m\u001b[1;32m      5\u001b[0m     \u001b[0mprint\u001b[0m\u001b[0;34m(\u001b[0m\u001b[0mcluster\u001b[0m\u001b[0;34m,\u001b[0m \u001b[0mgene_sets\u001b[0m\u001b[0;34m[\u001b[0m\u001b[0mcluster\u001b[0m\u001b[0;34m]\u001b[0m\u001b[0;34m)\u001b[0m\u001b[0;34m\u001b[0m\u001b[0;34m\u001b[0m\u001b[0m\n",
      "\u001b[0;31mKeyError\u001b[0m: 5"
     ]
    }
   ],
   "source": [
    "gene_sets = {}\n",
    "for cluster in range(10):\n",
    "    \n",
    "    gene_sets[cluster] = ct_heatmap.index[cluster_assignments == top_clusters_reverse[cluster]].tolist()\n",
    "    print(cluster, gene_sets[cluster])"
   ]
  },
  {
   "cell_type": "code",
   "execution_count": 86,
   "metadata": {},
   "outputs": [],
   "source": [
    "moment_df = memento.get_2d_moments(adata_stim, groupby='time_step')"
   ]
  },
  {
   "cell_type": "code",
   "execution_count": 88,
   "metadata": {},
   "outputs": [
    {
     "data": {
      "text/html": [
       "<div>\n",
       "<style scoped>\n",
       "    .dataframe tbody tr th:only-of-type {\n",
       "        vertical-align: middle;\n",
       "    }\n",
       "\n",
       "    .dataframe tbody tr th {\n",
       "        vertical-align: top;\n",
       "    }\n",
       "\n",
       "    .dataframe thead th {\n",
       "        text-align: right;\n",
       "    }\n",
       "</style>\n",
       "<table border=\"1\" class=\"dataframe\">\n",
       "  <thead>\n",
       "    <tr style=\"text-align: right;\">\n",
       "      <th></th>\n",
       "      <th>gene_1</th>\n",
       "      <th>gene_2</th>\n",
       "      <th>time_step_1</th>\n",
       "      <th>time_step_0</th>\n",
       "    </tr>\n",
       "  </thead>\n",
       "  <tbody>\n",
       "    <tr>\n",
       "      <th>5</th>\n",
       "      <td>STAT1</td>\n",
       "      <td>HES4</td>\n",
       "      <td>0.124738</td>\n",
       "      <td>0.135739</td>\n",
       "    </tr>\n",
       "    <tr>\n",
       "      <th>6</th>\n",
       "      <td>STAT1</td>\n",
       "      <td>ISG15</td>\n",
       "      <td>0.484757</td>\n",
       "      <td>0.713398</td>\n",
       "    </tr>\n",
       "    <tr>\n",
       "      <th>34</th>\n",
       "      <td>STAT1</td>\n",
       "      <td>NADK</td>\n",
       "      <td>0.010633</td>\n",
       "      <td>-0.154746</td>\n",
       "    </tr>\n",
       "    <tr>\n",
       "      <th>178</th>\n",
       "      <td>STAT1</td>\n",
       "      <td>ID3</td>\n",
       "      <td>-0.007875</td>\n",
       "      <td>0.010791</td>\n",
       "    </tr>\n",
       "    <tr>\n",
       "      <th>230</th>\n",
       "      <td>STAT1</td>\n",
       "      <td>IFI6</td>\n",
       "      <td>0.427060</td>\n",
       "      <td>0.580144</td>\n",
       "    </tr>\n",
       "    <tr>\n",
       "      <th>242</th>\n",
       "      <td>STAT1</td>\n",
       "      <td>PHACTR4</td>\n",
       "      <td>0.502576</td>\n",
       "      <td>0.464792</td>\n",
       "    </tr>\n",
       "    <tr>\n",
       "      <th>261</th>\n",
       "      <td>STAT1</td>\n",
       "      <td>COL16A1</td>\n",
       "      <td>-0.026593</td>\n",
       "      <td>0.129408</td>\n",
       "    </tr>\n",
       "    <tr>\n",
       "      <th>298</th>\n",
       "      <td>STAT1</td>\n",
       "      <td>NCDN</td>\n",
       "      <td>0.044874</td>\n",
       "      <td>0.055736</td>\n",
       "    </tr>\n",
       "    <tr>\n",
       "      <th>379</th>\n",
       "      <td>STAT1</td>\n",
       "      <td>SLC6A9</td>\n",
       "      <td>0.164095</td>\n",
       "      <td>0.171380</td>\n",
       "    </tr>\n",
       "    <tr>\n",
       "      <th>468</th>\n",
       "      <td>STAT1</td>\n",
       "      <td>CYP2J2</td>\n",
       "      <td>0.115890</td>\n",
       "      <td>-0.024032</td>\n",
       "    </tr>\n",
       "    <tr>\n",
       "      <th>515</th>\n",
       "      <td>STAT1</td>\n",
       "      <td>IFI44L</td>\n",
       "      <td>0.573989</td>\n",
       "      <td>0.687584</td>\n",
       "    </tr>\n",
       "    <tr>\n",
       "      <th>516</th>\n",
       "      <td>STAT1</td>\n",
       "      <td>IFI44</td>\n",
       "      <td>0.497421</td>\n",
       "      <td>0.710457</td>\n",
       "    </tr>\n",
       "    <tr>\n",
       "      <th>636</th>\n",
       "      <td>STAT1</td>\n",
       "      <td>SLC16A1</td>\n",
       "      <td>0.170003</td>\n",
       "      <td>0.376883</td>\n",
       "    </tr>\n",
       "    <tr>\n",
       "      <th>637</th>\n",
       "      <td>STAT1</td>\n",
       "      <td>SLC16A1-AS1</td>\n",
       "      <td>0.105160</td>\n",
       "      <td>0.034104</td>\n",
       "    </tr>\n",
       "    <tr>\n",
       "      <th>692</th>\n",
       "      <td>STAT1</td>\n",
       "      <td>LINC01138</td>\n",
       "      <td>0.162053</td>\n",
       "      <td>0.289138</td>\n",
       "    </tr>\n",
       "    <tr>\n",
       "      <th>695</th>\n",
       "      <td>STAT1</td>\n",
       "      <td>HIST2H2AA4</td>\n",
       "      <td>0.082734</td>\n",
       "      <td>-0.014337</td>\n",
       "    </tr>\n",
       "    <tr>\n",
       "      <th>696</th>\n",
       "      <td>STAT1</td>\n",
       "      <td>HIST2H2BE</td>\n",
       "      <td>0.179823</td>\n",
       "      <td>0.084488</td>\n",
       "    </tr>\n",
       "    <tr>\n",
       "      <th>699</th>\n",
       "      <td>STAT1</td>\n",
       "      <td>MTMR11</td>\n",
       "      <td>0.061967</td>\n",
       "      <td>0.092904</td>\n",
       "    </tr>\n",
       "    <tr>\n",
       "      <th>754</th>\n",
       "      <td>STAT1</td>\n",
       "      <td>SLC27A3</td>\n",
       "      <td>0.177870</td>\n",
       "      <td>0.331224</td>\n",
       "    </tr>\n",
       "    <tr>\n",
       "      <th>769</th>\n",
       "      <td>STAT1</td>\n",
       "      <td>ADAR</td>\n",
       "      <td>0.550792</td>\n",
       "      <td>0.616866</td>\n",
       "    </tr>\n",
       "    <tr>\n",
       "      <th>827</th>\n",
       "      <td>STAT1</td>\n",
       "      <td>IFI16</td>\n",
       "      <td>0.462876</td>\n",
       "      <td>0.669215</td>\n",
       "    </tr>\n",
       "    <tr>\n",
       "      <th>880</th>\n",
       "      <td>STAT1</td>\n",
       "      <td>BLZF1</td>\n",
       "      <td>0.099645</td>\n",
       "      <td>0.212632</td>\n",
       "    </tr>\n",
       "    <tr>\n",
       "      <th>898</th>\n",
       "      <td>STAT1</td>\n",
       "      <td>ANKRD45</td>\n",
       "      <td>0.153843</td>\n",
       "      <td>0.161275</td>\n",
       "    </tr>\n",
       "    <tr>\n",
       "      <th>904</th>\n",
       "      <td>STAT1</td>\n",
       "      <td>RABGAP1L</td>\n",
       "      <td>0.146800</td>\n",
       "      <td>0.193440</td>\n",
       "    </tr>\n",
       "    <tr>\n",
       "      <th>991</th>\n",
       "      <td>STAT1</td>\n",
       "      <td>NFASC</td>\n",
       "      <td>0.130626</td>\n",
       "      <td>0.124519</td>\n",
       "    </tr>\n",
       "    <tr>\n",
       "      <th>1004</th>\n",
       "      <td>STAT1</td>\n",
       "      <td>IKBKE</td>\n",
       "      <td>-0.067170</td>\n",
       "      <td>-0.108444</td>\n",
       "    </tr>\n",
       "    <tr>\n",
       "      <th>1017</th>\n",
       "      <td>STAT1</td>\n",
       "      <td>PLXNA2</td>\n",
       "      <td>0.236496</td>\n",
       "      <td>0.079251</td>\n",
       "    </tr>\n",
       "    <tr>\n",
       "      <th>1067</th>\n",
       "      <td>STAT1</td>\n",
       "      <td>DEGS1</td>\n",
       "      <td>0.262871</td>\n",
       "      <td>0.076377</td>\n",
       "    </tr>\n",
       "    <tr>\n",
       "      <th>1166</th>\n",
       "      <td>STAT1</td>\n",
       "      <td>CMPK2</td>\n",
       "      <td>0.318734</td>\n",
       "      <td>0.635824</td>\n",
       "    </tr>\n",
       "    <tr>\n",
       "      <th>1167</th>\n",
       "      <td>STAT1</td>\n",
       "      <td>RSAD2</td>\n",
       "      <td>0.373757</td>\n",
       "      <td>0.571347</td>\n",
       "    </tr>\n",
       "    <tr>\n",
       "      <th>1239</th>\n",
       "      <td>STAT1</td>\n",
       "      <td>IFT172</td>\n",
       "      <td>0.301250</td>\n",
       "      <td>0.206623</td>\n",
       "    </tr>\n",
       "    <tr>\n",
       "      <th>1275</th>\n",
       "      <td>STAT1</td>\n",
       "      <td>EIF2AK2</td>\n",
       "      <td>0.493351</td>\n",
       "      <td>0.605692</td>\n",
       "    </tr>\n",
       "    <tr>\n",
       "      <th>1338</th>\n",
       "      <td>STAT1</td>\n",
       "      <td>PNPT1</td>\n",
       "      <td>0.375785</td>\n",
       "      <td>0.589341</td>\n",
       "    </tr>\n",
       "    <tr>\n",
       "      <th>1526</th>\n",
       "      <td>STAT1</td>\n",
       "      <td>MALL</td>\n",
       "      <td>-0.025141</td>\n",
       "      <td>-0.042843</td>\n",
       "    </tr>\n",
       "    <tr>\n",
       "      <th>1541</th>\n",
       "      <td>STAT1</td>\n",
       "      <td>IL1RN</td>\n",
       "      <td>0.142529</td>\n",
       "      <td>0.258337</td>\n",
       "    </tr>\n",
       "    <tr>\n",
       "      <th>1590</th>\n",
       "      <td>STAT1</td>\n",
       "      <td>C2orf27A</td>\n",
       "      <td>0.229806</td>\n",
       "      <td>-0.055492</td>\n",
       "    </tr>\n",
       "    <tr>\n",
       "      <th>1608</th>\n",
       "      <td>STAT1</td>\n",
       "      <td>RBM43</td>\n",
       "      <td>0.244792</td>\n",
       "      <td>0.270362</td>\n",
       "    </tr>\n",
       "    <tr>\n",
       "      <th>1609</th>\n",
       "      <td>STAT1</td>\n",
       "      <td>NMI</td>\n",
       "      <td>0.455640</td>\n",
       "      <td>0.460384</td>\n",
       "    </tr>\n",
       "    <tr>\n",
       "      <th>1636</th>\n",
       "      <td>STAT1</td>\n",
       "      <td>IFIH1</td>\n",
       "      <td>0.462712</td>\n",
       "      <td>0.591019</td>\n",
       "    </tr>\n",
       "    <tr>\n",
       "      <th>1637</th>\n",
       "      <td>STAT1</td>\n",
       "      <td>GCA</td>\n",
       "      <td>0.423502</td>\n",
       "      <td>0.356193</td>\n",
       "    </tr>\n",
       "    <tr>\n",
       "      <th>1681</th>\n",
       "      <td>STAT1</td>\n",
       "      <td>CHROMR</td>\n",
       "      <td>0.288199</td>\n",
       "      <td>0.393929</td>\n",
       "    </tr>\n",
       "    <tr>\n",
       "      <th>1721</th>\n",
       "      <td>STAT1</td>\n",
       "      <td>PGAP1</td>\n",
       "      <td>0.145024</td>\n",
       "      <td>0.058082</td>\n",
       "    </tr>\n",
       "    <tr>\n",
       "      <th>1732</th>\n",
       "      <td>STAT1</td>\n",
       "      <td>SPATS2L</td>\n",
       "      <td>0.412130</td>\n",
       "      <td>0.489414</td>\n",
       "    </tr>\n",
       "    <tr>\n",
       "      <th>1742</th>\n",
       "      <td>STAT1</td>\n",
       "      <td>CFLAR</td>\n",
       "      <td>0.323488</td>\n",
       "      <td>0.280169</td>\n",
       "    </tr>\n",
       "    <tr>\n",
       "      <th>1841</th>\n",
       "      <td>STAT1</td>\n",
       "      <td>SP110</td>\n",
       "      <td>0.541767</td>\n",
       "      <td>0.628401</td>\n",
       "    </tr>\n",
       "    <tr>\n",
       "      <th>1843</th>\n",
       "      <td>STAT1</td>\n",
       "      <td>SP100</td>\n",
       "      <td>0.560960</td>\n",
       "      <td>0.654544</td>\n",
       "    </tr>\n",
       "    <tr>\n",
       "      <th>1990</th>\n",
       "      <td>STAT1</td>\n",
       "      <td>AZI2</td>\n",
       "      <td>0.229559</td>\n",
       "      <td>0.200838</td>\n",
       "    </tr>\n",
       "    <tr>\n",
       "      <th>2008</th>\n",
       "      <td>STAT1</td>\n",
       "      <td>TRANK1</td>\n",
       "      <td>0.254852</td>\n",
       "      <td>0.251206</td>\n",
       "    </tr>\n",
       "    <tr>\n",
       "      <th>2018</th>\n",
       "      <td>STAT1</td>\n",
       "      <td>MYD88</td>\n",
       "      <td>0.294373</td>\n",
       "      <td>0.402020</td>\n",
       "    </tr>\n",
       "    <tr>\n",
       "      <th>2106</th>\n",
       "      <td>STAT1</td>\n",
       "      <td>UBA7</td>\n",
       "      <td>0.420321</td>\n",
       "      <td>0.473450</td>\n",
       "    </tr>\n",
       "    <tr>\n",
       "      <th>2174</th>\n",
       "      <td>STAT1</td>\n",
       "      <td>PXK</td>\n",
       "      <td>0.336337</td>\n",
       "      <td>0.126588</td>\n",
       "    </tr>\n",
       "    <tr>\n",
       "      <th>2264</th>\n",
       "      <td>STAT1</td>\n",
       "      <td>SIDT1</td>\n",
       "      <td>0.266374</td>\n",
       "      <td>0.229619</td>\n",
       "    </tr>\n",
       "    <tr>\n",
       "      <th>2302</th>\n",
       "      <td>STAT1</td>\n",
       "      <td>PARP9</td>\n",
       "      <td>0.642601</td>\n",
       "      <td>0.640807</td>\n",
       "    </tr>\n",
       "    <tr>\n",
       "      <th>2303</th>\n",
       "      <td>STAT1</td>\n",
       "      <td>DTX3L</td>\n",
       "      <td>0.446770</td>\n",
       "      <td>0.420228</td>\n",
       "    </tr>\n",
       "    <tr>\n",
       "      <th>2304</th>\n",
       "      <td>STAT1</td>\n",
       "      <td>PARP14</td>\n",
       "      <td>0.494510</td>\n",
       "      <td>0.506976</td>\n",
       "    </tr>\n",
       "    <tr>\n",
       "      <th>2403</th>\n",
       "      <td>STAT1</td>\n",
       "      <td>PLSCR1</td>\n",
       "      <td>0.438396</td>\n",
       "      <td>0.683136</td>\n",
       "    </tr>\n",
       "    <tr>\n",
       "      <th>2470</th>\n",
       "      <td>STAT1</td>\n",
       "      <td>TNFSF10</td>\n",
       "      <td>0.381738</td>\n",
       "      <td>0.372153</td>\n",
       "    </tr>\n",
       "    <tr>\n",
       "      <th>2481</th>\n",
       "      <td>STAT1</td>\n",
       "      <td>GNB4</td>\n",
       "      <td>0.245122</td>\n",
       "      <td>0.204856</td>\n",
       "    </tr>\n",
       "    <tr>\n",
       "      <th>2496</th>\n",
       "      <td>STAT1</td>\n",
       "      <td>LAMP3</td>\n",
       "      <td>0.237204</td>\n",
       "      <td>0.305874</td>\n",
       "    </tr>\n",
       "    <tr>\n",
       "      <th>2527</th>\n",
       "      <td>STAT1</td>\n",
       "      <td>RTP4</td>\n",
       "      <td>0.452726</td>\n",
       "      <td>0.567149</td>\n",
       "    </tr>\n",
       "    <tr>\n",
       "      <th>2544</th>\n",
       "      <td>STAT1</td>\n",
       "      <td>APOD</td>\n",
       "      <td>0.076151</td>\n",
       "      <td>0.207253</td>\n",
       "    </tr>\n",
       "    <tr>\n",
       "      <th>2645</th>\n",
       "      <td>STAT1</td>\n",
       "      <td>CPEB2</td>\n",
       "      <td>0.127470</td>\n",
       "      <td>0.134992</td>\n",
       "    </tr>\n",
       "    <tr>\n",
       "      <th>2649</th>\n",
       "      <td>STAT1</td>\n",
       "      <td>CD38</td>\n",
       "      <td>0.436075</td>\n",
       "      <td>0.482424</td>\n",
       "    </tr>\n",
       "    <tr>\n",
       "      <th>2663</th>\n",
       "      <td>STAT1</td>\n",
       "      <td>PI4K2B</td>\n",
       "      <td>0.416793</td>\n",
       "      <td>0.507006</td>\n",
       "    </tr>\n",
       "    <tr>\n",
       "      <th>2756</th>\n",
       "      <td>STAT1</td>\n",
       "      <td>BTC</td>\n",
       "      <td>0.300306</td>\n",
       "      <td>0.490111</td>\n",
       "    </tr>\n",
       "    <tr>\n",
       "      <th>2767</th>\n",
       "      <td>STAT1</td>\n",
       "      <td>CXCL10</td>\n",
       "      <td>0.164009</td>\n",
       "      <td>0.194283</td>\n",
       "    </tr>\n",
       "    <tr>\n",
       "      <th>2770</th>\n",
       "      <td>STAT1</td>\n",
       "      <td>SCARB2</td>\n",
       "      <td>0.374638</td>\n",
       "      <td>0.358789</td>\n",
       "    </tr>\n",
       "    <tr>\n",
       "      <th>2815</th>\n",
       "      <td>STAT1</td>\n",
       "      <td>PPM1K</td>\n",
       "      <td>0.354548</td>\n",
       "      <td>0.469847</td>\n",
       "    </tr>\n",
       "    <tr>\n",
       "      <th>2816</th>\n",
       "      <td>STAT1</td>\n",
       "      <td>HERC6</td>\n",
       "      <td>0.381246</td>\n",
       "      <td>0.557255</td>\n",
       "    </tr>\n",
       "    <tr>\n",
       "      <th>2817</th>\n",
       "      <td>STAT1</td>\n",
       "      <td>HERC5</td>\n",
       "      <td>0.243466</td>\n",
       "      <td>0.613593</td>\n",
       "    </tr>\n",
       "    <tr>\n",
       "      <th>2897</th>\n",
       "      <td>STAT1</td>\n",
       "      <td>SCLT1</td>\n",
       "      <td>0.256904</td>\n",
       "      <td>0.172193</td>\n",
       "    </tr>\n",
       "    <tr>\n",
       "      <th>2898</th>\n",
       "      <td>STAT1</td>\n",
       "      <td>C4orf33</td>\n",
       "      <td>0.214867</td>\n",
       "      <td>0.449545</td>\n",
       "    </tr>\n",
       "    <tr>\n",
       "      <th>2939</th>\n",
       "      <td>STAT1</td>\n",
       "      <td>TLR2</td>\n",
       "      <td>0.032788</td>\n",
       "      <td>0.141160</td>\n",
       "    </tr>\n",
       "    <tr>\n",
       "      <th>2957</th>\n",
       "      <td>STAT1</td>\n",
       "      <td>DDX60L</td>\n",
       "      <td>0.315307</td>\n",
       "      <td>0.611519</td>\n",
       "    </tr>\n",
       "    <tr>\n",
       "      <th>2988</th>\n",
       "      <td>STAT1</td>\n",
       "      <td>ACSL1</td>\n",
       "      <td>0.349083</td>\n",
       "      <td>0.339843</td>\n",
       "    </tr>\n",
       "    <tr>\n",
       "      <th>2997</th>\n",
       "      <td>STAT1</td>\n",
       "      <td>TLR3</td>\n",
       "      <td>-0.030830</td>\n",
       "      <td>0.012393</td>\n",
       "    </tr>\n",
       "    <tr>\n",
       "      <th>3024</th>\n",
       "      <td>STAT1</td>\n",
       "      <td>TENT4A</td>\n",
       "      <td>0.238135</td>\n",
       "      <td>0.203562</td>\n",
       "    </tr>\n",
       "    <tr>\n",
       "      <th>3071</th>\n",
       "      <td>STAT1</td>\n",
       "      <td>LIFR</td>\n",
       "      <td>0.377163</td>\n",
       "      <td>0.457241</td>\n",
       "    </tr>\n",
       "    <tr>\n",
       "      <th>3073</th>\n",
       "      <td>STAT1</td>\n",
       "      <td>RICTOR</td>\n",
       "      <td>0.212228</td>\n",
       "      <td>0.193848</td>\n",
       "    </tr>\n",
       "    <tr>\n",
       "      <th>3189</th>\n",
       "      <td>STAT1</td>\n",
       "      <td>SCAMP1-AS1</td>\n",
       "      <td>0.059902</td>\n",
       "      <td>0.047819</td>\n",
       "    </tr>\n",
       "    <tr>\n",
       "      <th>3196</th>\n",
       "      <td>STAT1</td>\n",
       "      <td>CMYA5</td>\n",
       "      <td>0.183304</td>\n",
       "      <td>0.103425</td>\n",
       "    </tr>\n",
       "    <tr>\n",
       "      <th>3220</th>\n",
       "      <td>STAT1</td>\n",
       "      <td>LUCAT1</td>\n",
       "      <td>0.047003</td>\n",
       "      <td>0.020797</td>\n",
       "    </tr>\n",
       "    <tr>\n",
       "      <th>3258</th>\n",
       "      <td>STAT1</td>\n",
       "      <td>STARD4</td>\n",
       "      <td>0.288909</td>\n",
       "      <td>0.502708</td>\n",
       "    </tr>\n",
       "    <tr>\n",
       "      <th>3328</th>\n",
       "      <td>STAT1</td>\n",
       "      <td>JADE2</td>\n",
       "      <td>0.302766</td>\n",
       "      <td>0.450069</td>\n",
       "    </tr>\n",
       "    <tr>\n",
       "      <th>3445</th>\n",
       "      <td>STAT1</td>\n",
       "      <td>GABRP</td>\n",
       "      <td>0.079256</td>\n",
       "      <td>0.034636</td>\n",
       "    </tr>\n",
       "    <tr>\n",
       "      <th>3575</th>\n",
       "      <td>STAT1</td>\n",
       "      <td>GMPR</td>\n",
       "      <td>0.220285</td>\n",
       "      <td>0.404800</td>\n",
       "    </tr>\n",
       "    <tr>\n",
       "      <th>3588</th>\n",
       "      <td>STAT1</td>\n",
       "      <td>ID4</td>\n",
       "      <td>0.043028</td>\n",
       "      <td>-0.005439</td>\n",
       "    </tr>\n",
       "    <tr>\n",
       "      <th>3602</th>\n",
       "      <td>STAT1</td>\n",
       "      <td>RIPOR2</td>\n",
       "      <td>0.228730</td>\n",
       "      <td>0.240070</td>\n",
       "    </tr>\n",
       "    <tr>\n",
       "      <th>3604</th>\n",
       "      <td>STAT1</td>\n",
       "      <td>TRIM38</td>\n",
       "      <td>0.296779</td>\n",
       "      <td>0.297923</td>\n",
       "    </tr>\n",
       "    <tr>\n",
       "      <th>3607</th>\n",
       "      <td>STAT1</td>\n",
       "      <td>HIST1H2BC</td>\n",
       "      <td>0.078932</td>\n",
       "      <td>0.087549</td>\n",
       "    </tr>\n",
       "    <tr>\n",
       "      <th>3608</th>\n",
       "      <td>STAT1</td>\n",
       "      <td>HIST1H2AC</td>\n",
       "      <td>0.079110</td>\n",
       "      <td>0.050337</td>\n",
       "    </tr>\n",
       "    <tr>\n",
       "      <th>3610</th>\n",
       "      <td>STAT1</td>\n",
       "      <td>HIST1H2BD</td>\n",
       "      <td>0.107156</td>\n",
       "      <td>0.140825</td>\n",
       "    </tr>\n",
       "    <tr>\n",
       "      <th>3625</th>\n",
       "      <td>STAT1</td>\n",
       "      <td>HIST1H2BJ</td>\n",
       "      <td>0.202643</td>\n",
       "      <td>0.236898</td>\n",
       "    </tr>\n",
       "    <tr>\n",
       "      <th>3760</th>\n",
       "      <td>STAT1</td>\n",
       "      <td>FKBP5</td>\n",
       "      <td>0.259901</td>\n",
       "      <td>0.129017</td>\n",
       "    </tr>\n",
       "    <tr>\n",
       "      <th>3776</th>\n",
       "      <td>STAT1</td>\n",
       "      <td>CMTR1</td>\n",
       "      <td>0.155972</td>\n",
       "      <td>0.246642</td>\n",
       "    </tr>\n",
       "    <tr>\n",
       "      <th>3782</th>\n",
       "      <td>STAT1</td>\n",
       "      <td>KIF6</td>\n",
       "      <td>0.093321</td>\n",
       "      <td>0.057659</td>\n",
       "    </tr>\n",
       "    <tr>\n",
       "      <th>3790</th>\n",
       "      <td>STAT1</td>\n",
       "      <td>CCND3</td>\n",
       "      <td>0.078295</td>\n",
       "      <td>0.191943</td>\n",
       "    </tr>\n",
       "    <tr>\n",
       "      <th>3823</th>\n",
       "      <td>STAT1</td>\n",
       "      <td>GTPBP2</td>\n",
       "      <td>0.017579</td>\n",
       "      <td>0.126183</td>\n",
       "    </tr>\n",
       "    <tr>\n",
       "      <th>3899</th>\n",
       "      <td>STAT1</td>\n",
       "      <td>TENT5A</td>\n",
       "      <td>0.089560</td>\n",
       "      <td>0.242191</td>\n",
       "    </tr>\n",
       "    <tr>\n",
       "      <th>4019</th>\n",
       "      <td>STAT1</td>\n",
       "      <td>AKAP7</td>\n",
       "      <td>0.200627</td>\n",
       "      <td>0.208851</td>\n",
       "    </tr>\n",
       "    <tr>\n",
       "      <th>4027</th>\n",
       "      <td>STAT1</td>\n",
       "      <td>SLC18B1</td>\n",
       "      <td>0.163037</td>\n",
       "      <td>0.144747</td>\n",
       "    </tr>\n",
       "    <tr>\n",
       "      <th>4127</th>\n",
       "      <td>STAT1</td>\n",
       "      <td>QKI</td>\n",
       "      <td>0.254095</td>\n",
       "      <td>0.162398</td>\n",
       "    </tr>\n",
       "    <tr>\n",
       "      <th>4194</th>\n",
       "      <td>STAT1</td>\n",
       "      <td>C1GALT1</td>\n",
       "      <td>0.322315</td>\n",
       "      <td>0.186895</td>\n",
       "    </tr>\n",
       "    <tr>\n",
       "      <th>4206</th>\n",
       "      <td>STAT1</td>\n",
       "      <td>SCIN</td>\n",
       "      <td>0.104602</td>\n",
       "      <td>0.112501</td>\n",
       "    </tr>\n",
       "    <tr>\n",
       "      <th>4260</th>\n",
       "      <td>STAT1</td>\n",
       "      <td>NT5C3A</td>\n",
       "      <td>0.557768</td>\n",
       "      <td>0.721597</td>\n",
       "    </tr>\n",
       "    <tr>\n",
       "      <th>4413</th>\n",
       "      <td>STAT1</td>\n",
       "      <td>SAMD9</td>\n",
       "      <td>0.407485</td>\n",
       "      <td>0.567420</td>\n",
       "    </tr>\n",
       "    <tr>\n",
       "      <th>4414</th>\n",
       "      <td>STAT1</td>\n",
       "      <td>SAMD9L</td>\n",
       "      <td>0.592648</td>\n",
       "      <td>0.675640</td>\n",
       "    </tr>\n",
       "    <tr>\n",
       "      <th>4575</th>\n",
       "      <td>STAT1</td>\n",
       "      <td>PODXL</td>\n",
       "      <td>0.074749</td>\n",
       "      <td>0.078123</td>\n",
       "    </tr>\n",
       "    <tr>\n",
       "      <th>4586</th>\n",
       "      <td>STAT1</td>\n",
       "      <td>AC083862.3</td>\n",
       "      <td>0.391390</td>\n",
       "      <td>0.493535</td>\n",
       "    </tr>\n",
       "    <tr>\n",
       "      <th>4591</th>\n",
       "      <td>STAT1</td>\n",
       "      <td>PTN</td>\n",
       "      <td>0.071694</td>\n",
       "      <td>-0.001319</td>\n",
       "    </tr>\n",
       "    <tr>\n",
       "      <th>4603</th>\n",
       "      <td>STAT1</td>\n",
       "      <td>PARP12</td>\n",
       "      <td>0.419070</td>\n",
       "      <td>0.542487</td>\n",
       "    </tr>\n",
       "    <tr>\n",
       "      <th>4639</th>\n",
       "      <td>STAT1</td>\n",
       "      <td>AC073111.4</td>\n",
       "      <td>0.271080</td>\n",
       "      <td>0.376554</td>\n",
       "    </tr>\n",
       "    <tr>\n",
       "      <th>4650</th>\n",
       "      <td>STAT1</td>\n",
       "      <td>NUB1</td>\n",
       "      <td>0.561794</td>\n",
       "      <td>0.663142</td>\n",
       "    </tr>\n",
       "    <tr>\n",
       "      <th>4709</th>\n",
       "      <td>STAT1</td>\n",
       "      <td>AC027117.1</td>\n",
       "      <td>0.233735</td>\n",
       "      <td>0.208857</td>\n",
       "    </tr>\n",
       "    <tr>\n",
       "      <th>4864</th>\n",
       "      <td>STAT1</td>\n",
       "      <td>IL7</td>\n",
       "      <td>0.216138</td>\n",
       "      <td>0.106121</td>\n",
       "    </tr>\n",
       "    <tr>\n",
       "      <th>4955</th>\n",
       "      <td>STAT1</td>\n",
       "      <td>EXT1</td>\n",
       "      <td>0.271747</td>\n",
       "      <td>0.549898</td>\n",
       "    </tr>\n",
       "    <tr>\n",
       "      <th>5013</th>\n",
       "      <td>STAT1</td>\n",
       "      <td>LY6E</td>\n",
       "      <td>0.246954</td>\n",
       "      <td>0.283177</td>\n",
       "    </tr>\n",
       "    <tr>\n",
       "      <th>5032</th>\n",
       "      <td>STAT1</td>\n",
       "      <td>PARP10</td>\n",
       "      <td>0.416491</td>\n",
       "      <td>0.294203</td>\n",
       "    </tr>\n",
       "    <tr>\n",
       "      <th>5120</th>\n",
       "      <td>STAT1</td>\n",
       "      <td>DDX58</td>\n",
       "      <td>0.402914</td>\n",
       "      <td>0.588493</td>\n",
       "    </tr>\n",
       "    <tr>\n",
       "      <th>5225</th>\n",
       "      <td>STAT1</td>\n",
       "      <td>FRMD3</td>\n",
       "      <td>0.111558</td>\n",
       "      <td>0.017632</td>\n",
       "    </tr>\n",
       "    <tr>\n",
       "      <th>5272</th>\n",
       "      <td>STAT1</td>\n",
       "      <td>TDRD7</td>\n",
       "      <td>0.106845</td>\n",
       "      <td>0.125556</td>\n",
       "    </tr>\n",
       "    <tr>\n",
       "      <th>5279</th>\n",
       "      <td>STAT1</td>\n",
       "      <td>TRIM14</td>\n",
       "      <td>0.279934</td>\n",
       "      <td>0.236069</td>\n",
       "    </tr>\n",
       "    <tr>\n",
       "      <th>5312</th>\n",
       "      <td>STAT1</td>\n",
       "      <td>PALM2-AKAP2</td>\n",
       "      <td>0.069032</td>\n",
       "      <td>0.093668</td>\n",
       "    </tr>\n",
       "    <tr>\n",
       "      <th>5337</th>\n",
       "      <td>STAT1</td>\n",
       "      <td>ZNF618</td>\n",
       "      <td>0.067785</td>\n",
       "      <td>-0.014586</td>\n",
       "    </tr>\n",
       "    <tr>\n",
       "      <th>5341</th>\n",
       "      <td>STAT1</td>\n",
       "      <td>TMEM268</td>\n",
       "      <td>0.104223</td>\n",
       "      <td>0.209885</td>\n",
       "    </tr>\n",
       "    <tr>\n",
       "      <th>5435</th>\n",
       "      <td>STAT1</td>\n",
       "      <td>PRRX2</td>\n",
       "      <td>0.076006</td>\n",
       "      <td>0.190631</td>\n",
       "    </tr>\n",
       "    <tr>\n",
       "      <th>5437</th>\n",
       "      <td>STAT1</td>\n",
       "      <td>TOR1B</td>\n",
       "      <td>0.101425</td>\n",
       "      <td>0.111860</td>\n",
       "    </tr>\n",
       "    <tr>\n",
       "      <th>5661</th>\n",
       "      <td>STAT1</td>\n",
       "      <td>SLC16A9</td>\n",
       "      <td>0.076183</td>\n",
       "      <td>-0.022098</td>\n",
       "    </tr>\n",
       "    <tr>\n",
       "      <th>5766</th>\n",
       "      <td>STAT1</td>\n",
       "      <td>IFIT2</td>\n",
       "      <td>0.259259</td>\n",
       "      <td>0.400801</td>\n",
       "    </tr>\n",
       "    <tr>\n",
       "      <th>5767</th>\n",
       "      <td>STAT1</td>\n",
       "      <td>IFIT3</td>\n",
       "      <td>0.447588</td>\n",
       "      <td>0.585969</td>\n",
       "    </tr>\n",
       "    <tr>\n",
       "      <th>5768</th>\n",
       "      <td>STAT1</td>\n",
       "      <td>IFIT1</td>\n",
       "      <td>0.434096</td>\n",
       "      <td>0.750174</td>\n",
       "    </tr>\n",
       "    <tr>\n",
       "      <th>5769</th>\n",
       "      <td>STAT1</td>\n",
       "      <td>IFIT5</td>\n",
       "      <td>0.291227</td>\n",
       "      <td>0.314491</td>\n",
       "    </tr>\n",
       "    <tr>\n",
       "      <th>5774</th>\n",
       "      <td>STAT1</td>\n",
       "      <td>PCGF5</td>\n",
       "      <td>0.374299</td>\n",
       "      <td>0.352324</td>\n",
       "    </tr>\n",
       "    <tr>\n",
       "      <th>5813</th>\n",
       "      <td>STAT1</td>\n",
       "      <td>SLC25A28</td>\n",
       "      <td>0.297017</td>\n",
       "      <td>0.317229</td>\n",
       "    </tr>\n",
       "    <tr>\n",
       "      <th>5947</th>\n",
       "      <td>STAT1</td>\n",
       "      <td>ADAM8</td>\n",
       "      <td>-0.187228</td>\n",
       "      <td>-0.080755</td>\n",
       "    </tr>\n",
       "    <tr>\n",
       "      <th>5959</th>\n",
       "      <td>STAT1</td>\n",
       "      <td>IFITM2</td>\n",
       "      <td>0.351837</td>\n",
       "      <td>0.430490</td>\n",
       "    </tr>\n",
       "    <tr>\n",
       "      <th>5960</th>\n",
       "      <td>STAT1</td>\n",
       "      <td>IFITM1</td>\n",
       "      <td>0.572872</td>\n",
       "      <td>0.724981</td>\n",
       "    </tr>\n",
       "    <tr>\n",
       "      <th>5961</th>\n",
       "      <td>STAT1</td>\n",
       "      <td>IFITM3</td>\n",
       "      <td>0.597432</td>\n",
       "      <td>0.738673</td>\n",
       "    </tr>\n",
       "    <tr>\n",
       "      <th>5973</th>\n",
       "      <td>STAT1</td>\n",
       "      <td>IRF7</td>\n",
       "      <td>0.385728</td>\n",
       "      <td>0.631798</td>\n",
       "    </tr>\n",
       "    <tr>\n",
       "      <th>6021</th>\n",
       "      <td>STAT1</td>\n",
       "      <td>TRIM21</td>\n",
       "      <td>0.246568</td>\n",
       "      <td>0.335083</td>\n",
       "    </tr>\n",
       "    <tr>\n",
       "      <th>6027</th>\n",
       "      <td>STAT1</td>\n",
       "      <td>TRIM5</td>\n",
       "      <td>0.523826</td>\n",
       "      <td>0.550932</td>\n",
       "    </tr>\n",
       "    <tr>\n",
       "      <th>6028</th>\n",
       "      <td>STAT1</td>\n",
       "      <td>TRIM22</td>\n",
       "      <td>0.678140</td>\n",
       "      <td>0.713475</td>\n",
       "    </tr>\n",
       "    <tr>\n",
       "      <th>6108</th>\n",
       "      <td>STAT1</td>\n",
       "      <td>MUC15</td>\n",
       "      <td>0.154225</td>\n",
       "      <td>0.242528</td>\n",
       "    </tr>\n",
       "    <tr>\n",
       "      <th>6129</th>\n",
       "      <td>STAT1</td>\n",
       "      <td>LMO2</td>\n",
       "      <td>0.230731</td>\n",
       "      <td>0.209178</td>\n",
       "    </tr>\n",
       "    <tr>\n",
       "      <th>6201</th>\n",
       "      <td>STAT1</td>\n",
       "      <td>PATL1</td>\n",
       "      <td>0.121915</td>\n",
       "      <td>0.140086</td>\n",
       "    </tr>\n",
       "    <tr>\n",
       "      <th>6209</th>\n",
       "      <td>STAT1</td>\n",
       "      <td>SLC15A3</td>\n",
       "      <td>0.295355</td>\n",
       "      <td>0.519594</td>\n",
       "    </tr>\n",
       "    <tr>\n",
       "      <th>6250</th>\n",
       "      <td>STAT1</td>\n",
       "      <td>PLAAT2</td>\n",
       "      <td>0.374467</td>\n",
       "      <td>0.445564</td>\n",
       "    </tr>\n",
       "    <tr>\n",
       "      <th>6317</th>\n",
       "      <td>STAT1</td>\n",
       "      <td>DRAP1</td>\n",
       "      <td>0.361411</td>\n",
       "      <td>0.304552</td>\n",
       "    </tr>\n",
       "    <tr>\n",
       "      <th>6360</th>\n",
       "      <td>STAT1</td>\n",
       "      <td>UNC93B1</td>\n",
       "      <td>0.143749</td>\n",
       "      <td>0.297247</td>\n",
       "    </tr>\n",
       "    <tr>\n",
       "      <th>6474</th>\n",
       "      <td>STAT1</td>\n",
       "      <td>ENDOD1</td>\n",
       "      <td>0.400489</td>\n",
       "      <td>0.443589</td>\n",
       "    </tr>\n",
       "    <tr>\n",
       "      <th>6495</th>\n",
       "      <td>STAT1</td>\n",
       "      <td>CASP1</td>\n",
       "      <td>0.392537</td>\n",
       "      <td>0.482463</td>\n",
       "    </tr>\n",
       "    <tr>\n",
       "      <th>6523</th>\n",
       "      <td>STAT1</td>\n",
       "      <td>C11orf52</td>\n",
       "      <td>0.044237</td>\n",
       "      <td>0.024201</td>\n",
       "    </tr>\n",
       "    <tr>\n",
       "      <th>6659</th>\n",
       "      <td>STAT1</td>\n",
       "      <td>LAG3</td>\n",
       "      <td>0.035197</td>\n",
       "      <td>-0.024100</td>\n",
       "    </tr>\n",
       "    <tr>\n",
       "      <th>6815</th>\n",
       "      <td>STAT1</td>\n",
       "      <td>AQP5</td>\n",
       "      <td>0.083506</td>\n",
       "      <td>-0.014239</td>\n",
       "    </tr>\n",
       "    <tr>\n",
       "      <th>6841</th>\n",
       "      <td>STAT1</td>\n",
       "      <td>KRT4</td>\n",
       "      <td>-0.011233</td>\n",
       "      <td>-0.089979</td>\n",
       "    </tr>\n",
       "    <tr>\n",
       "      <th>6895</th>\n",
       "      <td>STAT1</td>\n",
       "      <td>STAT2</td>\n",
       "      <td>0.494716</td>\n",
       "      <td>0.489178</td>\n",
       "    </tr>\n",
       "    <tr>\n",
       "      <th>6897</th>\n",
       "      <td>STAT1</td>\n",
       "      <td>RBMS2</td>\n",
       "      <td>0.158007</td>\n",
       "      <td>0.306340</td>\n",
       "    </tr>\n",
       "    <tr>\n",
       "      <th>7053</th>\n",
       "      <td>STAT1</td>\n",
       "      <td>USP30-AS1</td>\n",
       "      <td>0.544822</td>\n",
       "      <td>0.659623</td>\n",
       "    </tr>\n",
       "    <tr>\n",
       "      <th>7090</th>\n",
       "      <td>STAT1</td>\n",
       "      <td>OAS1</td>\n",
       "      <td>0.492114</td>\n",
       "      <td>0.646565</td>\n",
       "    </tr>\n",
       "    <tr>\n",
       "      <th>7091</th>\n",
       "      <td>STAT1</td>\n",
       "      <td>OAS3</td>\n",
       "      <td>0.516637</td>\n",
       "      <td>0.732475</td>\n",
       "    </tr>\n",
       "    <tr>\n",
       "      <th>7092</th>\n",
       "      <td>STAT1</td>\n",
       "      <td>OAS2</td>\n",
       "      <td>0.618742</td>\n",
       "      <td>0.899163</td>\n",
       "    </tr>\n",
       "    <tr>\n",
       "      <th>7102</th>\n",
       "      <td>STAT1</td>\n",
       "      <td>HRK</td>\n",
       "      <td>-0.083703</td>\n",
       "      <td>-0.057035</td>\n",
       "    </tr>\n",
       "    <tr>\n",
       "      <th>7130</th>\n",
       "      <td>STAT1</td>\n",
       "      <td>OASL</td>\n",
       "      <td>0.252218</td>\n",
       "      <td>0.549513</td>\n",
       "    </tr>\n",
       "    <tr>\n",
       "      <th>7246</th>\n",
       "      <td>STAT1</td>\n",
       "      <td>BRCA2</td>\n",
       "      <td>0.217971</td>\n",
       "      <td>0.227142</td>\n",
       "    </tr>\n",
       "    <tr>\n",
       "      <th>7254</th>\n",
       "      <td>STAT1</td>\n",
       "      <td>CCNA1</td>\n",
       "      <td>0.120099</td>\n",
       "      <td>0.068955</td>\n",
       "    </tr>\n",
       "    <tr>\n",
       "      <th>7279</th>\n",
       "      <td>STAT1</td>\n",
       "      <td>EPSTI1</td>\n",
       "      <td>0.555582</td>\n",
       "      <td>0.625501</td>\n",
       "    </tr>\n",
       "    <tr>\n",
       "      <th>7302</th>\n",
       "      <td>STAT1</td>\n",
       "      <td>FNDC3A</td>\n",
       "      <td>0.302272</td>\n",
       "      <td>0.424940</td>\n",
       "    </tr>\n",
       "    <tr>\n",
       "      <th>7306</th>\n",
       "      <td>STAT1</td>\n",
       "      <td>PHF11</td>\n",
       "      <td>0.411729</td>\n",
       "      <td>0.489752</td>\n",
       "    </tr>\n",
       "    <tr>\n",
       "      <th>7326</th>\n",
       "      <td>STAT1</td>\n",
       "      <td>CKAP2</td>\n",
       "      <td>0.120518</td>\n",
       "      <td>0.006266</td>\n",
       "    </tr>\n",
       "    <tr>\n",
       "      <th>7354</th>\n",
       "      <td>STAT1</td>\n",
       "      <td>GPR180</td>\n",
       "      <td>0.003051</td>\n",
       "      <td>-0.148757</td>\n",
       "    </tr>\n",
       "    <tr>\n",
       "      <th>7385</th>\n",
       "      <td>STAT1</td>\n",
       "      <td>TNFSF13B</td>\n",
       "      <td>0.376876</td>\n",
       "      <td>0.530382</td>\n",
       "    </tr>\n",
       "    <tr>\n",
       "      <th>7616</th>\n",
       "      <td>STAT1</td>\n",
       "      <td>PLEK2</td>\n",
       "      <td>0.048271</td>\n",
       "      <td>-0.119555</td>\n",
       "    </tr>\n",
       "    <tr>\n",
       "      <th>7617</th>\n",
       "      <td>STAT1</td>\n",
       "      <td>PLEKHH1</td>\n",
       "      <td>0.198411</td>\n",
       "      <td>-0.051887</td>\n",
       "    </tr>\n",
       "    <tr>\n",
       "      <th>7618</th>\n",
       "      <td>STAT1</td>\n",
       "      <td>PIGH</td>\n",
       "      <td>0.168494</td>\n",
       "      <td>0.170674</td>\n",
       "    </tr>\n",
       "    <tr>\n",
       "      <th>7621</th>\n",
       "      <td>STAT1</td>\n",
       "      <td>ZFYVE26</td>\n",
       "      <td>-0.002669</td>\n",
       "      <td>-0.088290</td>\n",
       "    </tr>\n",
       "    <tr>\n",
       "      <th>7721</th>\n",
       "      <td>STAT1</td>\n",
       "      <td>LGMN</td>\n",
       "      <td>0.265640</td>\n",
       "      <td>0.315765</td>\n",
       "    </tr>\n",
       "    <tr>\n",
       "      <th>7730</th>\n",
       "      <td>STAT1</td>\n",
       "      <td>IFI27</td>\n",
       "      <td>0.264466</td>\n",
       "      <td>0.497938</td>\n",
       "    </tr>\n",
       "    <tr>\n",
       "      <th>7871</th>\n",
       "      <td>STAT1</td>\n",
       "      <td>GANC</td>\n",
       "      <td>0.251419</td>\n",
       "      <td>0.302138</td>\n",
       "    </tr>\n",
       "    <tr>\n",
       "      <th>7931</th>\n",
       "      <td>STAT1</td>\n",
       "      <td>LYSMD2</td>\n",
       "      <td>0.293559</td>\n",
       "      <td>0.273039</td>\n",
       "    </tr>\n",
       "    <tr>\n",
       "      <th>7992</th>\n",
       "      <td>STAT1</td>\n",
       "      <td>SLC24A1</td>\n",
       "      <td>-0.227830</td>\n",
       "      <td>-0.060995</td>\n",
       "    </tr>\n",
       "    <tr>\n",
       "      <th>8036</th>\n",
       "      <td>STAT1</td>\n",
       "      <td>STOML1</td>\n",
       "      <td>-0.022128</td>\n",
       "      <td>-0.021435</td>\n",
       "    </tr>\n",
       "    <tr>\n",
       "      <th>8037</th>\n",
       "      <td>STAT1</td>\n",
       "      <td>PML</td>\n",
       "      <td>0.488216</td>\n",
       "      <td>0.556642</td>\n",
       "    </tr>\n",
       "    <tr>\n",
       "      <th>8091</th>\n",
       "      <td>STAT1</td>\n",
       "      <td>STARD5</td>\n",
       "      <td>-0.013374</td>\n",
       "      <td>0.021137</td>\n",
       "    </tr>\n",
       "    <tr>\n",
       "      <th>8116</th>\n",
       "      <td>STAT1</td>\n",
       "      <td>ISG20</td>\n",
       "      <td>0.476867</td>\n",
       "      <td>0.612375</td>\n",
       "    </tr>\n",
       "    <tr>\n",
       "      <th>8293</th>\n",
       "      <td>STAT1</td>\n",
       "      <td>ABAT</td>\n",
       "      <td>0.157187</td>\n",
       "      <td>0.172030</td>\n",
       "    </tr>\n",
       "    <tr>\n",
       "      <th>8387</th>\n",
       "      <td>STAT1</td>\n",
       "      <td>NUPR1</td>\n",
       "      <td>0.259033</td>\n",
       "      <td>0.297476</td>\n",
       "    </tr>\n",
       "    <tr>\n",
       "      <th>8464</th>\n",
       "      <td>STAT1</td>\n",
       "      <td>N4BP1</td>\n",
       "      <td>0.207459</td>\n",
       "      <td>0.322991</td>\n",
       "    </tr>\n",
       "    <tr>\n",
       "      <th>8488</th>\n",
       "      <td>STAT1</td>\n",
       "      <td>MT2A</td>\n",
       "      <td>0.406667</td>\n",
       "      <td>0.392914</td>\n",
       "    </tr>\n",
       "    <tr>\n",
       "      <th>8489</th>\n",
       "      <td>STAT1</td>\n",
       "      <td>MT1E</td>\n",
       "      <td>0.214161</td>\n",
       "      <td>0.089712</td>\n",
       "    </tr>\n",
       "    <tr>\n",
       "      <th>8616</th>\n",
       "      <td>STAT1</td>\n",
       "      <td>MLKL</td>\n",
       "      <td>0.392310</td>\n",
       "      <td>0.291418</td>\n",
       "    </tr>\n",
       "    <tr>\n",
       "      <th>8646</th>\n",
       "      <td>STAT1</td>\n",
       "      <td>AC009119.1</td>\n",
       "      <td>0.228123</td>\n",
       "      <td>0.196725</td>\n",
       "    </tr>\n",
       "    <tr>\n",
       "      <th>8692</th>\n",
       "      <td>STAT1</td>\n",
       "      <td>FANCA</td>\n",
       "      <td>0.088799</td>\n",
       "      <td>0.101923</td>\n",
       "    </tr>\n",
       "    <tr>\n",
       "      <th>8741</th>\n",
       "      <td>STAT1</td>\n",
       "      <td>ANKFY1</td>\n",
       "      <td>0.346985</td>\n",
       "      <td>0.330508</td>\n",
       "    </tr>\n",
       "    <tr>\n",
       "      <th>8779</th>\n",
       "      <td>STAT1</td>\n",
       "      <td>XAF1</td>\n",
       "      <td>0.536894</td>\n",
       "      <td>0.726105</td>\n",
       "    </tr>\n",
       "    <tr>\n",
       "      <th>8804</th>\n",
       "      <td>STAT1</td>\n",
       "      <td>TNFSF13</td>\n",
       "      <td>0.447150</td>\n",
       "      <td>0.628813</td>\n",
       "    </tr>\n",
       "    <tr>\n",
       "      <th>8806</th>\n",
       "      <td>STAT1</td>\n",
       "      <td>CD68</td>\n",
       "      <td>0.335302</td>\n",
       "      <td>0.617903</td>\n",
       "    </tr>\n",
       "    <tr>\n",
       "      <th>8897</th>\n",
       "      <td>STAT1</td>\n",
       "      <td>LGALS9</td>\n",
       "      <td>0.341026</td>\n",
       "      <td>0.450599</td>\n",
       "    </tr>\n",
       "    <tr>\n",
       "      <th>8956</th>\n",
       "      <td>STAT1</td>\n",
       "      <td>SLFN12</td>\n",
       "      <td>0.266060</td>\n",
       "      <td>0.075106</td>\n",
       "    </tr>\n",
       "    <tr>\n",
       "      <th>9026</th>\n",
       "      <td>STAT1</td>\n",
       "      <td>CNP</td>\n",
       "      <td>0.152078</td>\n",
       "      <td>0.218502</td>\n",
       "    </tr>\n",
       "    <tr>\n",
       "      <th>9029</th>\n",
       "      <td>STAT1</td>\n",
       "      <td>DHX58</td>\n",
       "      <td>0.421902</td>\n",
       "      <td>0.564514</td>\n",
       "    </tr>\n",
       "    <tr>\n",
       "      <th>9055</th>\n",
       "      <td>STAT1</td>\n",
       "      <td>IFI35</td>\n",
       "      <td>0.592703</td>\n",
       "      <td>0.681242</td>\n",
       "    </tr>\n",
       "    <tr>\n",
       "      <th>9150</th>\n",
       "      <td>STAT1</td>\n",
       "      <td>TRIM25</td>\n",
       "      <td>0.141918</td>\n",
       "      <td>0.184770</td>\n",
       "    </tr>\n",
       "    <tr>\n",
       "      <th>9167</th>\n",
       "      <td>STAT1</td>\n",
       "      <td>RNF43</td>\n",
       "      <td>0.140450</td>\n",
       "      <td>0.038684</td>\n",
       "    </tr>\n",
       "    <tr>\n",
       "      <th>9213</th>\n",
       "      <td>STAT1</td>\n",
       "      <td>CEP112</td>\n",
       "      <td>0.120828</td>\n",
       "      <td>-0.100968</td>\n",
       "    </tr>\n",
       "    <tr>\n",
       "      <th>9305</th>\n",
       "      <td>STAT1</td>\n",
       "      <td>LGALS3BP</td>\n",
       "      <td>0.460249</td>\n",
       "      <td>0.430387</td>\n",
       "    </tr>\n",
       "    <tr>\n",
       "      <th>9316</th>\n",
       "      <td>STAT1</td>\n",
       "      <td>AC124319.1</td>\n",
       "      <td>0.355719</td>\n",
       "      <td>0.294283</td>\n",
       "    </tr>\n",
       "    <tr>\n",
       "      <th>9379</th>\n",
       "      <td>STAT1</td>\n",
       "      <td>SMCHD1</td>\n",
       "      <td>0.566433</td>\n",
       "      <td>0.613653</td>\n",
       "    </tr>\n",
       "    <tr>\n",
       "      <th>9431</th>\n",
       "      <td>STAT1</td>\n",
       "      <td>KCTD1</td>\n",
       "      <td>0.298183</td>\n",
       "      <td>0.391067</td>\n",
       "    </tr>\n",
       "    <tr>\n",
       "      <th>9623</th>\n",
       "      <td>STAT1</td>\n",
       "      <td>YJU2</td>\n",
       "      <td>0.334528</td>\n",
       "      <td>0.368987</td>\n",
       "    </tr>\n",
       "    <tr>\n",
       "      <th>9705</th>\n",
       "      <td>STAT1</td>\n",
       "      <td>SHFL</td>\n",
       "      <td>0.187157</td>\n",
       "      <td>-0.037616</td>\n",
       "    </tr>\n",
       "    <tr>\n",
       "      <th>9811</th>\n",
       "      <td>STAT1</td>\n",
       "      <td>RAB8A</td>\n",
       "      <td>0.291601</td>\n",
       "      <td>0.152864</td>\n",
       "    </tr>\n",
       "    <tr>\n",
       "      <th>9812</th>\n",
       "      <td>STAT1</td>\n",
       "      <td>HSH2D</td>\n",
       "      <td>0.359707</td>\n",
       "      <td>0.400838</td>\n",
       "    </tr>\n",
       "    <tr>\n",
       "      <th>9834</th>\n",
       "      <td>STAT1</td>\n",
       "      <td>BST2</td>\n",
       "      <td>0.489599</td>\n",
       "      <td>0.596000</td>\n",
       "    </tr>\n",
       "    <tr>\n",
       "      <th>9835</th>\n",
       "      <td>STAT1</td>\n",
       "      <td>BISPR</td>\n",
       "      <td>0.567872</td>\n",
       "      <td>0.711060</td>\n",
       "    </tr>\n",
       "    <tr>\n",
       "      <th>10032</th>\n",
       "      <td>STAT1</td>\n",
       "      <td>RABAC1</td>\n",
       "      <td>0.177001</td>\n",
       "      <td>0.194486</td>\n",
       "    </tr>\n",
       "    <tr>\n",
       "      <th>10089</th>\n",
       "      <td>STAT1</td>\n",
       "      <td>PRKD2</td>\n",
       "      <td>0.251651</td>\n",
       "      <td>0.252275</td>\n",
       "    </tr>\n",
       "    <tr>\n",
       "      <th>10104</th>\n",
       "      <td>STAT1</td>\n",
       "      <td>NAPA</td>\n",
       "      <td>0.298498</td>\n",
       "      <td>0.168261</td>\n",
       "    </tr>\n",
       "    <tr>\n",
       "      <th>10125</th>\n",
       "      <td>STAT1</td>\n",
       "      <td>PLEKHA4</td>\n",
       "      <td>0.225675</td>\n",
       "      <td>0.366818</td>\n",
       "    </tr>\n",
       "    <tr>\n",
       "      <th>10169</th>\n",
       "      <td>STAT1</td>\n",
       "      <td>KLK10</td>\n",
       "      <td>0.195511</td>\n",
       "      <td>0.240027</td>\n",
       "    </tr>\n",
       "    <tr>\n",
       "      <th>10495</th>\n",
       "      <td>STAT1</td>\n",
       "      <td>SLC13A3</td>\n",
       "      <td>0.015659</td>\n",
       "      <td>0.087777</td>\n",
       "    </tr>\n",
       "    <tr>\n",
       "      <th>10506</th>\n",
       "      <td>STAT1</td>\n",
       "      <td>ZNFX1</td>\n",
       "      <td>0.266352</td>\n",
       "      <td>0.177191</td>\n",
       "    </tr>\n",
       "    <tr>\n",
       "      <th>10571</th>\n",
       "      <td>STAT1</td>\n",
       "      <td>HELZ2</td>\n",
       "      <td>0.372569</td>\n",
       "      <td>0.629733</td>\n",
       "    </tr>\n",
       "    <tr>\n",
       "      <th>10659</th>\n",
       "      <td>STAT1</td>\n",
       "      <td>MX2</td>\n",
       "      <td>0.431638</td>\n",
       "      <td>0.791370</td>\n",
       "    </tr>\n",
       "    <tr>\n",
       "      <th>10660</th>\n",
       "      <td>STAT1</td>\n",
       "      <td>MX1</td>\n",
       "      <td>0.495038</td>\n",
       "      <td>0.823748</td>\n",
       "    </tr>\n",
       "    <tr>\n",
       "      <th>10703</th>\n",
       "      <td>STAT1</td>\n",
       "      <td>BCL2L13</td>\n",
       "      <td>0.553305</td>\n",
       "      <td>0.156372</td>\n",
       "    </tr>\n",
       "    <tr>\n",
       "      <th>10707</th>\n",
       "      <td>STAT1</td>\n",
       "      <td>USP18</td>\n",
       "      <td>0.354091</td>\n",
       "      <td>0.565742</td>\n",
       "    </tr>\n",
       "    <tr>\n",
       "      <th>10713</th>\n",
       "      <td>STAT1</td>\n",
       "      <td>HIRA</td>\n",
       "      <td>0.236937</td>\n",
       "      <td>0.191602</td>\n",
       "    </tr>\n",
       "    <tr>\n",
       "      <th>10861</th>\n",
       "      <td>STAT1</td>\n",
       "      <td>GTPBP1</td>\n",
       "      <td>0.241424</td>\n",
       "      <td>0.152425</td>\n",
       "    </tr>\n",
       "    <tr>\n",
       "      <th>10865</th>\n",
       "      <td>STAT1</td>\n",
       "      <td>APOBEC3A</td>\n",
       "      <td>0.062075</td>\n",
       "      <td>0.151452</td>\n",
       "    </tr>\n",
       "    <tr>\n",
       "      <th>10934</th>\n",
       "      <td>STAT1</td>\n",
       "      <td>TTC38</td>\n",
       "      <td>-0.057310</td>\n",
       "      <td>-0.099548</td>\n",
       "    </tr>\n",
       "    <tr>\n",
       "      <th>10982</th>\n",
       "      <td>STAT1</td>\n",
       "      <td>STS</td>\n",
       "      <td>0.089243</td>\n",
       "      <td>0.195716</td>\n",
       "    </tr>\n",
       "    <tr>\n",
       "      <th>11003</th>\n",
       "      <td>STAT1</td>\n",
       "      <td>ACE2</td>\n",
       "      <td>0.023447</td>\n",
       "      <td>-0.013723</td>\n",
       "    </tr>\n",
       "    <tr>\n",
       "      <th>11265</th>\n",
       "      <td>STAT1</td>\n",
       "      <td>GABRE</td>\n",
       "      <td>0.019082</td>\n",
       "      <td>-0.016328</td>\n",
       "    </tr>\n",
       "  </tbody>\n",
       "</table>\n",
       "</div>"
      ],
      "text/plain": [
       "      gene_1       gene_2  time_step_1  time_step_0\n",
       "5      STAT1         HES4     0.124738     0.135739\n",
       "6      STAT1        ISG15     0.484757     0.713398\n",
       "34     STAT1         NADK     0.010633    -0.154746\n",
       "178    STAT1          ID3    -0.007875     0.010791\n",
       "230    STAT1         IFI6     0.427060     0.580144\n",
       "242    STAT1      PHACTR4     0.502576     0.464792\n",
       "261    STAT1      COL16A1    -0.026593     0.129408\n",
       "298    STAT1         NCDN     0.044874     0.055736\n",
       "379    STAT1       SLC6A9     0.164095     0.171380\n",
       "468    STAT1       CYP2J2     0.115890    -0.024032\n",
       "515    STAT1       IFI44L     0.573989     0.687584\n",
       "516    STAT1        IFI44     0.497421     0.710457\n",
       "636    STAT1      SLC16A1     0.170003     0.376883\n",
       "637    STAT1  SLC16A1-AS1     0.105160     0.034104\n",
       "692    STAT1    LINC01138     0.162053     0.289138\n",
       "695    STAT1   HIST2H2AA4     0.082734    -0.014337\n",
       "696    STAT1    HIST2H2BE     0.179823     0.084488\n",
       "699    STAT1       MTMR11     0.061967     0.092904\n",
       "754    STAT1      SLC27A3     0.177870     0.331224\n",
       "769    STAT1         ADAR     0.550792     0.616866\n",
       "827    STAT1        IFI16     0.462876     0.669215\n",
       "880    STAT1        BLZF1     0.099645     0.212632\n",
       "898    STAT1      ANKRD45     0.153843     0.161275\n",
       "904    STAT1     RABGAP1L     0.146800     0.193440\n",
       "991    STAT1        NFASC     0.130626     0.124519\n",
       "1004   STAT1        IKBKE    -0.067170    -0.108444\n",
       "1017   STAT1       PLXNA2     0.236496     0.079251\n",
       "1067   STAT1        DEGS1     0.262871     0.076377\n",
       "1166   STAT1        CMPK2     0.318734     0.635824\n",
       "1167   STAT1        RSAD2     0.373757     0.571347\n",
       "1239   STAT1       IFT172     0.301250     0.206623\n",
       "1275   STAT1      EIF2AK2     0.493351     0.605692\n",
       "1338   STAT1        PNPT1     0.375785     0.589341\n",
       "1526   STAT1         MALL    -0.025141    -0.042843\n",
       "1541   STAT1        IL1RN     0.142529     0.258337\n",
       "1590   STAT1     C2orf27A     0.229806    -0.055492\n",
       "1608   STAT1        RBM43     0.244792     0.270362\n",
       "1609   STAT1          NMI     0.455640     0.460384\n",
       "1636   STAT1        IFIH1     0.462712     0.591019\n",
       "1637   STAT1          GCA     0.423502     0.356193\n",
       "1681   STAT1       CHROMR     0.288199     0.393929\n",
       "1721   STAT1        PGAP1     0.145024     0.058082\n",
       "1732   STAT1      SPATS2L     0.412130     0.489414\n",
       "1742   STAT1        CFLAR     0.323488     0.280169\n",
       "1841   STAT1        SP110     0.541767     0.628401\n",
       "1843   STAT1        SP100     0.560960     0.654544\n",
       "1990   STAT1         AZI2     0.229559     0.200838\n",
       "2008   STAT1       TRANK1     0.254852     0.251206\n",
       "2018   STAT1        MYD88     0.294373     0.402020\n",
       "2106   STAT1         UBA7     0.420321     0.473450\n",
       "2174   STAT1          PXK     0.336337     0.126588\n",
       "2264   STAT1        SIDT1     0.266374     0.229619\n",
       "2302   STAT1        PARP9     0.642601     0.640807\n",
       "2303   STAT1        DTX3L     0.446770     0.420228\n",
       "2304   STAT1       PARP14     0.494510     0.506976\n",
       "2403   STAT1       PLSCR1     0.438396     0.683136\n",
       "2470   STAT1      TNFSF10     0.381738     0.372153\n",
       "2481   STAT1         GNB4     0.245122     0.204856\n",
       "2496   STAT1        LAMP3     0.237204     0.305874\n",
       "2527   STAT1         RTP4     0.452726     0.567149\n",
       "2544   STAT1         APOD     0.076151     0.207253\n",
       "2645   STAT1        CPEB2     0.127470     0.134992\n",
       "2649   STAT1         CD38     0.436075     0.482424\n",
       "2663   STAT1       PI4K2B     0.416793     0.507006\n",
       "2756   STAT1          BTC     0.300306     0.490111\n",
       "2767   STAT1       CXCL10     0.164009     0.194283\n",
       "2770   STAT1       SCARB2     0.374638     0.358789\n",
       "2815   STAT1        PPM1K     0.354548     0.469847\n",
       "2816   STAT1        HERC6     0.381246     0.557255\n",
       "2817   STAT1        HERC5     0.243466     0.613593\n",
       "2897   STAT1        SCLT1     0.256904     0.172193\n",
       "2898   STAT1      C4orf33     0.214867     0.449545\n",
       "2939   STAT1         TLR2     0.032788     0.141160\n",
       "2957   STAT1       DDX60L     0.315307     0.611519\n",
       "2988   STAT1        ACSL1     0.349083     0.339843\n",
       "2997   STAT1         TLR3    -0.030830     0.012393\n",
       "3024   STAT1       TENT4A     0.238135     0.203562\n",
       "3071   STAT1         LIFR     0.377163     0.457241\n",
       "3073   STAT1       RICTOR     0.212228     0.193848\n",
       "3189   STAT1   SCAMP1-AS1     0.059902     0.047819\n",
       "3196   STAT1        CMYA5     0.183304     0.103425\n",
       "3220   STAT1       LUCAT1     0.047003     0.020797\n",
       "3258   STAT1       STARD4     0.288909     0.502708\n",
       "3328   STAT1        JADE2     0.302766     0.450069\n",
       "3445   STAT1        GABRP     0.079256     0.034636\n",
       "3575   STAT1         GMPR     0.220285     0.404800\n",
       "3588   STAT1          ID4     0.043028    -0.005439\n",
       "3602   STAT1       RIPOR2     0.228730     0.240070\n",
       "3604   STAT1       TRIM38     0.296779     0.297923\n",
       "3607   STAT1    HIST1H2BC     0.078932     0.087549\n",
       "3608   STAT1    HIST1H2AC     0.079110     0.050337\n",
       "3610   STAT1    HIST1H2BD     0.107156     0.140825\n",
       "3625   STAT1    HIST1H2BJ     0.202643     0.236898\n",
       "3760   STAT1        FKBP5     0.259901     0.129017\n",
       "3776   STAT1        CMTR1     0.155972     0.246642\n",
       "3782   STAT1         KIF6     0.093321     0.057659\n",
       "3790   STAT1        CCND3     0.078295     0.191943\n",
       "3823   STAT1       GTPBP2     0.017579     0.126183\n",
       "3899   STAT1       TENT5A     0.089560     0.242191\n",
       "4019   STAT1        AKAP7     0.200627     0.208851\n",
       "4027   STAT1      SLC18B1     0.163037     0.144747\n",
       "4127   STAT1          QKI     0.254095     0.162398\n",
       "4194   STAT1      C1GALT1     0.322315     0.186895\n",
       "4206   STAT1         SCIN     0.104602     0.112501\n",
       "4260   STAT1       NT5C3A     0.557768     0.721597\n",
       "4413   STAT1        SAMD9     0.407485     0.567420\n",
       "4414   STAT1       SAMD9L     0.592648     0.675640\n",
       "4575   STAT1        PODXL     0.074749     0.078123\n",
       "4586   STAT1   AC083862.3     0.391390     0.493535\n",
       "4591   STAT1          PTN     0.071694    -0.001319\n",
       "4603   STAT1       PARP12     0.419070     0.542487\n",
       "4639   STAT1   AC073111.4     0.271080     0.376554\n",
       "4650   STAT1         NUB1     0.561794     0.663142\n",
       "4709   STAT1   AC027117.1     0.233735     0.208857\n",
       "4864   STAT1          IL7     0.216138     0.106121\n",
       "4955   STAT1         EXT1     0.271747     0.549898\n",
       "5013   STAT1         LY6E     0.246954     0.283177\n",
       "5032   STAT1       PARP10     0.416491     0.294203\n",
       "5120   STAT1        DDX58     0.402914     0.588493\n",
       "5225   STAT1        FRMD3     0.111558     0.017632\n",
       "5272   STAT1        TDRD7     0.106845     0.125556\n",
       "5279   STAT1       TRIM14     0.279934     0.236069\n",
       "5312   STAT1  PALM2-AKAP2     0.069032     0.093668\n",
       "5337   STAT1       ZNF618     0.067785    -0.014586\n",
       "5341   STAT1      TMEM268     0.104223     0.209885\n",
       "5435   STAT1        PRRX2     0.076006     0.190631\n",
       "5437   STAT1        TOR1B     0.101425     0.111860\n",
       "5661   STAT1      SLC16A9     0.076183    -0.022098\n",
       "5766   STAT1        IFIT2     0.259259     0.400801\n",
       "5767   STAT1        IFIT3     0.447588     0.585969\n",
       "5768   STAT1        IFIT1     0.434096     0.750174\n",
       "5769   STAT1        IFIT5     0.291227     0.314491\n",
       "5774   STAT1        PCGF5     0.374299     0.352324\n",
       "5813   STAT1     SLC25A28     0.297017     0.317229\n",
       "5947   STAT1        ADAM8    -0.187228    -0.080755\n",
       "5959   STAT1       IFITM2     0.351837     0.430490\n",
       "5960   STAT1       IFITM1     0.572872     0.724981\n",
       "5961   STAT1       IFITM3     0.597432     0.738673\n",
       "5973   STAT1         IRF7     0.385728     0.631798\n",
       "6021   STAT1       TRIM21     0.246568     0.335083\n",
       "6027   STAT1        TRIM5     0.523826     0.550932\n",
       "6028   STAT1       TRIM22     0.678140     0.713475\n",
       "6108   STAT1        MUC15     0.154225     0.242528\n",
       "6129   STAT1         LMO2     0.230731     0.209178\n",
       "6201   STAT1        PATL1     0.121915     0.140086\n",
       "6209   STAT1      SLC15A3     0.295355     0.519594\n",
       "6250   STAT1       PLAAT2     0.374467     0.445564\n",
       "6317   STAT1        DRAP1     0.361411     0.304552\n",
       "6360   STAT1      UNC93B1     0.143749     0.297247\n",
       "6474   STAT1       ENDOD1     0.400489     0.443589\n",
       "6495   STAT1        CASP1     0.392537     0.482463\n",
       "6523   STAT1     C11orf52     0.044237     0.024201\n",
       "6659   STAT1         LAG3     0.035197    -0.024100\n",
       "6815   STAT1         AQP5     0.083506    -0.014239\n",
       "6841   STAT1         KRT4    -0.011233    -0.089979\n",
       "6895   STAT1        STAT2     0.494716     0.489178\n",
       "6897   STAT1        RBMS2     0.158007     0.306340\n",
       "7053   STAT1    USP30-AS1     0.544822     0.659623\n",
       "7090   STAT1         OAS1     0.492114     0.646565\n",
       "7091   STAT1         OAS3     0.516637     0.732475\n",
       "7092   STAT1         OAS2     0.618742     0.899163\n",
       "7102   STAT1          HRK    -0.083703    -0.057035\n",
       "7130   STAT1         OASL     0.252218     0.549513\n",
       "7246   STAT1        BRCA2     0.217971     0.227142\n",
       "7254   STAT1        CCNA1     0.120099     0.068955\n",
       "7279   STAT1       EPSTI1     0.555582     0.625501\n",
       "7302   STAT1       FNDC3A     0.302272     0.424940\n",
       "7306   STAT1        PHF11     0.411729     0.489752\n",
       "7326   STAT1        CKAP2     0.120518     0.006266\n",
       "7354   STAT1       GPR180     0.003051    -0.148757\n",
       "7385   STAT1     TNFSF13B     0.376876     0.530382\n",
       "7616   STAT1        PLEK2     0.048271    -0.119555\n",
       "7617   STAT1      PLEKHH1     0.198411    -0.051887\n",
       "7618   STAT1         PIGH     0.168494     0.170674\n",
       "7621   STAT1      ZFYVE26    -0.002669    -0.088290\n",
       "7721   STAT1         LGMN     0.265640     0.315765\n",
       "7730   STAT1        IFI27     0.264466     0.497938\n",
       "7871   STAT1         GANC     0.251419     0.302138\n",
       "7931   STAT1       LYSMD2     0.293559     0.273039\n",
       "7992   STAT1      SLC24A1    -0.227830    -0.060995\n",
       "8036   STAT1       STOML1    -0.022128    -0.021435\n",
       "8037   STAT1          PML     0.488216     0.556642\n",
       "8091   STAT1       STARD5    -0.013374     0.021137\n",
       "8116   STAT1        ISG20     0.476867     0.612375\n",
       "8293   STAT1         ABAT     0.157187     0.172030\n",
       "8387   STAT1        NUPR1     0.259033     0.297476\n",
       "8464   STAT1        N4BP1     0.207459     0.322991\n",
       "8488   STAT1         MT2A     0.406667     0.392914\n",
       "8489   STAT1         MT1E     0.214161     0.089712\n",
       "8616   STAT1         MLKL     0.392310     0.291418\n",
       "8646   STAT1   AC009119.1     0.228123     0.196725\n",
       "8692   STAT1        FANCA     0.088799     0.101923\n",
       "8741   STAT1       ANKFY1     0.346985     0.330508\n",
       "8779   STAT1         XAF1     0.536894     0.726105\n",
       "8804   STAT1      TNFSF13     0.447150     0.628813\n",
       "8806   STAT1         CD68     0.335302     0.617903\n",
       "8897   STAT1       LGALS9     0.341026     0.450599\n",
       "8956   STAT1       SLFN12     0.266060     0.075106\n",
       "9026   STAT1          CNP     0.152078     0.218502\n",
       "9029   STAT1        DHX58     0.421902     0.564514\n",
       "9055   STAT1        IFI35     0.592703     0.681242\n",
       "9150   STAT1       TRIM25     0.141918     0.184770\n",
       "9167   STAT1        RNF43     0.140450     0.038684\n",
       "9213   STAT1       CEP112     0.120828    -0.100968\n",
       "9305   STAT1     LGALS3BP     0.460249     0.430387\n",
       "9316   STAT1   AC124319.1     0.355719     0.294283\n",
       "9379   STAT1       SMCHD1     0.566433     0.613653\n",
       "9431   STAT1        KCTD1     0.298183     0.391067\n",
       "9623   STAT1         YJU2     0.334528     0.368987\n",
       "9705   STAT1         SHFL     0.187157    -0.037616\n",
       "9811   STAT1        RAB8A     0.291601     0.152864\n",
       "9812   STAT1        HSH2D     0.359707     0.400838\n",
       "9834   STAT1         BST2     0.489599     0.596000\n",
       "9835   STAT1        BISPR     0.567872     0.711060\n",
       "10032  STAT1       RABAC1     0.177001     0.194486\n",
       "10089  STAT1        PRKD2     0.251651     0.252275\n",
       "10104  STAT1         NAPA     0.298498     0.168261\n",
       "10125  STAT1      PLEKHA4     0.225675     0.366818\n",
       "10169  STAT1        KLK10     0.195511     0.240027\n",
       "10495  STAT1      SLC13A3     0.015659     0.087777\n",
       "10506  STAT1        ZNFX1     0.266352     0.177191\n",
       "10571  STAT1        HELZ2     0.372569     0.629733\n",
       "10659  STAT1          MX2     0.431638     0.791370\n",
       "10660  STAT1          MX1     0.495038     0.823748\n",
       "10703  STAT1      BCL2L13     0.553305     0.156372\n",
       "10707  STAT1        USP18     0.354091     0.565742\n",
       "10713  STAT1         HIRA     0.236937     0.191602\n",
       "10861  STAT1       GTPBP1     0.241424     0.152425\n",
       "10865  STAT1     APOBEC3A     0.062075     0.151452\n",
       "10934  STAT1        TTC38    -0.057310    -0.099548\n",
       "10982  STAT1          STS     0.089243     0.195716\n",
       "11003  STAT1         ACE2     0.023447    -0.013723\n",
       "11265  STAT1        GABRE     0.019082    -0.016328"
      ]
     },
     "execution_count": 88,
     "metadata": {},
     "output_type": "execute_result"
    }
   ],
   "source": [
    "moment_df.query('gene_2 in @t1_isg')"
   ]
  },
  {
   "cell_type": "code",
   "execution_count": 169,
   "metadata": {},
   "outputs": [
    {
     "name": "stderr",
     "output_type": "stream",
     "text": [
      "/home/ssm-user/anaconda3/envs/single_cell/lib/python3.8/site-packages/pandas/core/arrays/categorical.py:2487: FutureWarning: The `inplace` parameter in pandas.Categorical.remove_unused_categories is deprecated and will be removed in a future version.\n",
      "  res = method(*args, **kwargs)\n",
      "/home/ssm-user/Github/scrna-parameter-estimation/dist/memento-0.0.6-py3.8.egg/memento/main.py:523: RuntimeWarning: divide by zero encountered in log\n",
      "/home/ssm-user/Github/scrna-parameter-estimation/dist/memento-0.0.6-py3.8.egg/memento/main.py:550: RuntimeWarning: divide by zero encountered in log\n",
      "/home/ssm-user/Github/scrna-parameter-estimation/dist/memento-0.0.6-py3.8.egg/memento/main.py:614: RuntimeWarning: invalid value encountered in true_divide\n"
     ]
    }
   ],
   "source": [
    "ct = ['C']\n",
    "tps = ['3', '6', '9', '24', '48']\n",
    "for tp in tps:\n",
    "    adata_stim = adata.copy()[\n",
    "\n",
    "        adata.obs.ct.isin(ct) & \\\n",
    "        adata.obs.stim.isin(['beta', 'gamma']) & \\\n",
    "        adata.obs.time.isin(['3'])].copy()\n",
    "    time_converter={0:0, int('3'):1}\n",
    "    stim_converter={'beta':0, 'gamma':1}\n",
    "    # adata_stim.obs['time_step'] = adata_stim.obs['time'].astype(int).apply(lambda x: time_converter[x])\n",
    "    adata_stim.obs['stim_indicator'] = adata_stim.obs['stim'].apply(lambda x: stim_converter[x])\n",
    "\n",
    "    adata_stim.obs['group'] = 1\n",
    "\n",
    "    memento.create_groups(adata_stim, label_columns=['donor', 'stim_indicator', 'time'])\n",
    "    memento.compute_1d_moments(adata_stim, min_perc_group=.3)\n",
    "    m_df, c_df = memento.get_1d_moments(adata_stim, groupby='stim_indicator')\n",
    "\n",
    "    available_genes = adata_stim.var.index.tolist()\n",
    "\n",
    "    # memento.compute_2d_moments(adata_stim, list(itertools.product(['STAT1'], available_genes)))\n",
    "    # moment_1d_df = memento.get_1d_moments(adata_stim, groupby='time_step')\n",
    "    # candidates = moment_1d_df.query('time_step_0 > 0.35 | time_step_1 > 0.35')\n",
    "    memento.compute_2d_moments(adata_stim, list(itertools.product(to_test, list(set(available_genes)-set(to_test)))))\n",
    "    c_df = memento.get_2d_moments(adata_stim, groupby='stim_indicator')\n",
    "    #     c_df['es'] = c_df['time_step_1'] - c_df['time_step_0']\n",
    "\n",
    "    result = c_df.merge(m_df, left_on='gene_2', right_on='gene', suffixes=('_c', '_m'))\n"
   ]
  },
  {
   "cell_type": "code",
   "execution_count": 79,
   "metadata": {},
   "outputs": [],
   "source": [
    "def get_correlation():\n",
    "    \n",
    "    ct = ['C']\n",
    "    tf = 'STAT1'\n",
    "    adata_stim = adata.copy()[\n",
    "\n",
    "        adata.obs.ct.isin(ct) & \\\n",
    "        adata.obs.stim.isin([stim, 'control'])].copy()\n",
    "    time_converter={0:0, int('3'):1}\n",
    "    adata_stim.obs['time_step'] = adata_stim.obs['time'].astype(int).apply(lambda x: time_converter[x])\n",
    "    adata_stim.obs['group'] = 1\n",
    "\n",
    "    memento.create_groups(adata_stim, label_columns=['donor', 'time_step'])\n",
    "    memento.compute_1d_moments(adata_stim, min_perc_group=.3)\n",
    "    m_df, c_df = memento.get_1d_moments(adata_stim, groupby='stim')\n",
    "\n",
    "    available_genes = adata_stim.var.index.tolist()\n",
    "\n",
    "    # memento.compute_2d_moments(adata_stim, list(itertools.product(['STAT1'], available_genes)))\n",
    "    # moment_1d_df = memento.get_1d_moments(adata_stim, groupby='time_step')\n",
    "    # candidates = moment_1d_df.query('time_step_0 > 0.35 | time_step_1 > 0.35')\n",
    "    memento.compute_2d_moments(adata_stim, list(itertools.product(['STAT1', 'STAT2', 'IRF9', 'STAT3'], available_genes)))\n",
    "    c_df = memento.get_2d_moments(adata_stim, groupby='time_step')\n",
    "#     c_df['es'] = c_df['time_step_1'] - c_df['time_step_0']\n",
    "    c_df = c_df.merge(isg_classes, left_on='gene_2', right_on='gene')\n",
    "    c_df['stim'] = stim\n",
    "\n",
    "    return c_df"
   ]
  },
  {
   "cell_type": "code",
   "execution_count": 80,
   "metadata": {},
   "outputs": [
    {
     "name": "stderr",
     "output_type": "stream",
     "text": [
      "/home/ssm-user/anaconda3/envs/single_cell/lib/python3.8/site-packages/pandas/core/arrays/categorical.py:2487: FutureWarning: The `inplace` parameter in pandas.Categorical.remove_unused_categories is deprecated and will be removed in a future version.\n",
      "  res = method(*args, **kwargs)\n",
      "/home/ssm-user/Github/scrna-parameter-estimation/dist/memento-0.0.6-py3.8.egg/memento/main.py:614: RuntimeWarning: invalid value encountered in true_divide\n"
     ]
    }
   ],
   "source": [
    "gamma_corr = get_correlation('gamma')\n",
    "beta_corr = get_correlation('beta')\n",
    "corr = pd.concat([gamma_corr, beta_corr])"
   ]
  },
  {
   "cell_type": "code",
   "execution_count": 84,
   "metadata": {},
   "outputs": [
    {
     "data": {
      "text/plain": [
       "<AxesSubplot:xlabel='overall_type', ylabel='time_step_1'>"
      ]
     },
     "execution_count": 84,
     "metadata": {},
     "output_type": "execute_result"
    },
    {
     "data": {
      "image/png": "[encoded data removed]",
      "text/plain": [
       "<Figure size 432x288 with 1 Axes>"
      ]
     },
     "metadata": {
      "needs_background": "light"
     },
     "output_type": "display_data"
    }
   ],
   "source": [
    "tf = 'STAT3'\n",
    "sns.boxplot(x='overall_type', y='time_step_1', hue='stim',data=corr.query('overall_type != \"shared\" & gene_1 == \"{}\"'.format(tf)))\n"
   ]
  },
  {
   "cell_type": "code",
   "execution_count": null,
   "metadata": {},
   "outputs": [],
   "source": [
    "corr.head(5)"
   ]
  },
  {
   "cell_type": "code",
   "execution_count": 68,
   "metadata": {},
   "outputs": [
    {
     "data": {
      "text/plain": [
       "KstestResult(statistic=0.18771331058020477, pvalue=6.285550898502559e-05)"
      ]
     },
     "execution_count": 68,
     "metadata": {},
     "output_type": "execute_result"
    }
   ],
   "source": [
    "tf = 'IRF9'\n",
    "stats.ks_2samp(\n",
    "    merged_corr.query('gene_1==\"{}\" & overall_type == \"type1\"'.format(tf)).time_step_1_beta,\n",
    "    merged_corr.query('gene_1==\"{}\" & overall_type == \"type1\"'.format(tf)).time_step_1_gamma)"
   ]
  },
  {
   "cell_type": "code",
   "execution_count": null,
   "metadata": {},
   "outputs": [],
   "source": []
  },
  {
   "cell_type": "markdown",
   "metadata": {},
   "source": [
    "### Pick out genes and run memento"
   ]
  },
  {
   "cell_type": "code",
   "execution_count": 36,
   "metadata": {},
   "outputs": [],
   "source": [
    "tf_df = pd.read_csv('../baseline/human_tf.txt', sep='\\t')\n",
    "tf_list = tf_df['Symbol'].tolist()\n",
    "tf_list += ['CIITA', 'NLRC5']"
   ]
  },
  {
   "cell_type": "code",
   "execution_count": 35,
   "metadata": {},
   "outputs": [
    {
     "data": {
      "text/plain": [
       "False"
      ]
     },
     "execution_count": 35,
     "metadata": {},
     "output_type": "execute_result"
    }
   ],
   "source": [
    "'NLRC5' in tf_list"
   ]
  },
  {
   "cell_type": "code",
   "execution_count": 30,
   "metadata": {},
   "outputs": [],
   "source": [
    "gene_sets = {}\n",
    "for cluster in [9, 8, 6, 7, 14]:\n",
    "    \n",
    "    gene_sets[cluster] = ct_heatmap.index[cluster_assignments == top_clusters_reverse[cluster]].tolist()"
   ]
  },
  {
   "cell_type": "code",
   "execution_count": 98,
   "metadata": {},
   "outputs": [
    {
     "name": "stdout",
     "output_type": "stream",
     "text": [
      "Starting ['UBE2L6', 'IFI30', 'IFITM3', 'NMI', 'GSTK1', 'PSMB9', 'BST2', 'PLAAT4', 'GBP3', 'PSME2', 'PSMB10', 'IFITM1', 'PSMB8', 'PSME1'] ---------------------------------------------\n"
     ]
    },
    {
     "name": "stderr",
     "output_type": "stream",
     "text": [
      "/home/ssm-user/anaconda3/envs/single_cell/lib/python3.8/site-packages/pandas/core/arrays/categorical.py:2487: FutureWarning: The `inplace` parameter in pandas.Categorical.remove_unused_categories is deprecated and will be removed in a future version.\n",
      "  res = method(*args, **kwargs)\n",
      "/home/ssm-user/anaconda3/envs/single_cell/lib/python3.8/site-packages/pandas/core/arrays/categorical.py:2487: FutureWarning: The `inplace` parameter in pandas.Categorical.remove_unused_categories is deprecated and will be removed in a future version.\n",
      "  res = method(*args, **kwargs)\n"
     ]
    },
    {
     "name": "stdout",
     "output_type": "stream",
     "text": [
      "     working on  STAT1\n"
     ]
    },
    {
     "name": "stderr",
     "output_type": "stream",
     "text": [
      "/home/ssm-user/anaconda3/envs/single_cell/lib/python3.8/site-packages/pandas/core/arrays/categorical.py:2487: FutureWarning: The `inplace` parameter in pandas.Categorical.remove_unused_categories is deprecated and will be removed in a future version.\n",
      "  res = method(*args, **kwargs)\n",
      "[Parallel(n_jobs=94)]: Using backend LokyBackend with 94 concurrent workers.\n",
      "[Parallel(n_jobs=94)]: Done  88 out of  91 | elapsed:    7.1s remaining:    0.2s\n",
      "[Parallel(n_jobs=94)]: Done  91 out of  91 | elapsed:    7.2s finished\n",
      "/home/ssm-user/anaconda3/envs/single_cell/lib/python3.8/site-packages/pandas/core/arrays/categorical.py:2487: FutureWarning: The `inplace` parameter in pandas.Categorical.remove_unused_categories is deprecated and will be removed in a future version.\n",
      "  res = method(*args, **kwargs)\n"
     ]
    },
    {
     "name": "stdout",
     "output_type": "stream",
     "text": [
      "     working on  SP110\n"
     ]
    },
    {
     "name": "stderr",
     "output_type": "stream",
     "text": [
      "[Parallel(n_jobs=94)]: Using backend LokyBackend with 94 concurrent workers.\n",
      "[Parallel(n_jobs=94)]: Done  88 out of  91 | elapsed:    7.4s remaining:    0.3s\n",
      "[Parallel(n_jobs=94)]: Done  91 out of  91 | elapsed:    7.9s finished\n",
      "/home/ssm-user/anaconda3/envs/single_cell/lib/python3.8/site-packages/pandas/core/arrays/categorical.py:2487: FutureWarning: The `inplace` parameter in pandas.Categorical.remove_unused_categories is deprecated and will be removed in a future version.\n",
      "  res = method(*args, **kwargs)\n"
     ]
    },
    {
     "name": "stdout",
     "output_type": "stream",
     "text": [
      "     working on  SP100\n"
     ]
    },
    {
     "name": "stderr",
     "output_type": "stream",
     "text": [
      "[Parallel(n_jobs=94)]: Using backend LokyBackend with 94 concurrent workers.\n",
      "[Parallel(n_jobs=94)]: Done  88 out of  91 | elapsed:    7.2s remaining:    0.2s\n",
      "[Parallel(n_jobs=94)]: Done  91 out of  91 | elapsed:    7.3s finished\n",
      "/home/ssm-user/anaconda3/envs/single_cell/lib/python3.8/site-packages/pandas/core/arrays/categorical.py:2487: FutureWarning: The `inplace` parameter in pandas.Categorical.remove_unused_categories is deprecated and will be removed in a future version.\n",
      "  res = method(*args, **kwargs)\n"
     ]
    },
    {
     "name": "stdout",
     "output_type": "stream",
     "text": [
      "     working on  RBCK1\n"
     ]
    },
    {
     "name": "stderr",
     "output_type": "stream",
     "text": [
      "[Parallel(n_jobs=94)]: Using backend LokyBackend with 94 concurrent workers.\n",
      "[Parallel(n_jobs=94)]: Done  88 out of  91 | elapsed:    7.1s remaining:    0.2s\n",
      "[Parallel(n_jobs=94)]: Done  91 out of  91 | elapsed:    7.5s finished\n",
      "/home/ssm-user/anaconda3/envs/single_cell/lib/python3.8/site-packages/pandas/core/arrays/categorical.py:2487: FutureWarning: The `inplace` parameter in pandas.Categorical.remove_unused_categories is deprecated and will be removed in a future version.\n",
      "  res = method(*args, **kwargs)\n"
     ]
    },
    {
     "name": "stdout",
     "output_type": "stream",
     "text": [
      "     working on  HMGB1\n"
     ]
    },
    {
     "name": "stderr",
     "output_type": "stream",
     "text": [
      "/home/ssm-user/anaconda3/envs/single_cell/lib/python3.8/site-packages/pandas/core/arrays/categorical.py:2487: FutureWarning: The `inplace` parameter in pandas.Categorical.remove_unused_categories is deprecated and will be removed in a future version.\n",
      "  res = method(*args, **kwargs)\n",
      "[Parallel(n_jobs=94)]: Using backend LokyBackend with 94 concurrent workers.\n",
      "[Parallel(n_jobs=94)]: Done  88 out of  91 | elapsed:    6.5s remaining:    0.2s\n",
      "[Parallel(n_jobs=94)]: Done  91 out of  91 | elapsed:    6.8s finished\n",
      "/home/ssm-user/anaconda3/envs/single_cell/lib/python3.8/site-packages/pandas/core/arrays/categorical.py:2487: FutureWarning: The `inplace` parameter in pandas.Categorical.remove_unused_categories is deprecated and will be removed in a future version.\n",
      "  res = method(*args, **kwargs)\n"
     ]
    },
    {
     "name": "stdout",
     "output_type": "stream",
     "text": [
      "     working on  PLSCR1\n"
     ]
    },
    {
     "name": "stderr",
     "output_type": "stream",
     "text": [
      "/home/ssm-user/anaconda3/envs/single_cell/lib/python3.8/site-packages/pandas/core/arrays/categorical.py:2487: FutureWarning: The `inplace` parameter in pandas.Categorical.remove_unused_categories is deprecated and will be removed in a future version.\n",
      "  res = method(*args, **kwargs)\n",
      "[Parallel(n_jobs=94)]: Using backend LokyBackend with 94 concurrent workers.\n",
      "[Parallel(n_jobs=94)]: Done  88 out of  91 | elapsed:    6.8s remaining:    0.2s\n",
      "[Parallel(n_jobs=94)]: Done  91 out of  91 | elapsed:    6.8s finished\n",
      "/home/ssm-user/anaconda3/envs/single_cell/lib/python3.8/site-packages/pandas/core/arrays/categorical.py:2487: FutureWarning: The `inplace` parameter in pandas.Categorical.remove_unused_categories is deprecated and will be removed in a future version.\n",
      "  res = method(*args, **kwargs)\n"
     ]
    },
    {
     "name": "stdout",
     "output_type": "stream",
     "text": [
      "     working on  SUB1\n"
     ]
    },
    {
     "name": "stderr",
     "output_type": "stream",
     "text": [
      "/home/ssm-user/anaconda3/envs/single_cell/lib/python3.8/site-packages/pandas/core/arrays/categorical.py:2487: FutureWarning: The `inplace` parameter in pandas.Categorical.remove_unused_categories is deprecated and will be removed in a future version.\n",
      "  res = method(*args, **kwargs)\n",
      "[Parallel(n_jobs=94)]: Using backend LokyBackend with 94 concurrent workers.\n",
      "[Parallel(n_jobs=94)]: Done  88 out of  91 | elapsed:    6.5s remaining:    0.2s\n",
      "[Parallel(n_jobs=94)]: Done  91 out of  91 | elapsed:    6.7s finished\n",
      "/home/ssm-user/anaconda3/envs/single_cell/lib/python3.8/site-packages/pandas/core/arrays/categorical.py:2487: FutureWarning: The `inplace` parameter in pandas.Categorical.remove_unused_categories is deprecated and will be removed in a future version.\n",
      "  res = method(*args, **kwargs)\n"
     ]
    },
    {
     "name": "stdout",
     "output_type": "stream",
     "text": [
      "     working on  IRF2\n"
     ]
    },
    {
     "name": "stderr",
     "output_type": "stream",
     "text": [
      "[Parallel(n_jobs=94)]: Using backend LokyBackend with 94 concurrent workers.\n",
      "[Parallel(n_jobs=94)]: Done  88 out of  91 | elapsed:    7.3s remaining:    0.2s\n",
      "[Parallel(n_jobs=94)]: Done  91 out of  91 | elapsed:    7.4s finished\n",
      "/home/ssm-user/anaconda3/envs/single_cell/lib/python3.8/site-packages/pandas/core/arrays/categorical.py:2487: FutureWarning: The `inplace` parameter in pandas.Categorical.remove_unused_categories is deprecated and will be removed in a future version.\n",
      "  res = method(*args, **kwargs)\n"
     ]
    },
    {
     "name": "stdout",
     "output_type": "stream",
     "text": [
      "     working on  CENPX\n"
     ]
    },
    {
     "name": "stderr",
     "output_type": "stream",
     "text": [
      "[Parallel(n_jobs=94)]: Using backend LokyBackend with 94 concurrent workers.\n",
      "[Parallel(n_jobs=94)]: Done  88 out of  91 | elapsed:    7.2s remaining:    0.2s\n",
      "[Parallel(n_jobs=94)]: Done  91 out of  91 | elapsed:    7.4s finished\n",
      "/home/ssm-user/anaconda3/envs/single_cell/lib/python3.8/site-packages/pandas/core/arrays/categorical.py:2487: FutureWarning: The `inplace` parameter in pandas.Categorical.remove_unused_categories is deprecated and will be removed in a future version.\n",
      "  res = method(*args, **kwargs)\n"
     ]
    },
    {
     "name": "stdout",
     "output_type": "stream",
     "text": [
      "     working on  ETV7\n"
     ]
    },
    {
     "name": "stderr",
     "output_type": "stream",
     "text": [
      "[Parallel(n_jobs=94)]: Using backend LokyBackend with 94 concurrent workers.\n",
      "[Parallel(n_jobs=94)]: Done  88 out of  91 | elapsed:    7.2s remaining:    0.2s\n",
      "[Parallel(n_jobs=94)]: Done  91 out of  91 | elapsed:    7.5s finished\n",
      "/home/ssm-user/anaconda3/envs/single_cell/lib/python3.8/site-packages/pandas/core/arrays/categorical.py:2487: FutureWarning: The `inplace` parameter in pandas.Categorical.remove_unused_categories is deprecated and will be removed in a future version.\n",
      "  res = method(*args, **kwargs)\n"
     ]
    },
    {
     "name": "stdout",
     "output_type": "stream",
     "text": [
      "     working on  IRF9\n"
     ]
    },
    {
     "name": "stderr",
     "output_type": "stream",
     "text": [
      "/home/ssm-user/anaconda3/envs/single_cell/lib/python3.8/site-packages/pandas/core/arrays/categorical.py:2487: FutureWarning: The `inplace` parameter in pandas.Categorical.remove_unused_categories is deprecated and will be removed in a future version.\n",
      "  res = method(*args, **kwargs)\n",
      "[Parallel(n_jobs=94)]: Using backend LokyBackend with 94 concurrent workers.\n",
      "[Parallel(n_jobs=94)]: Done  88 out of  91 | elapsed:    6.8s remaining:    0.2s\n",
      "[Parallel(n_jobs=94)]: Done  91 out of  91 | elapsed:    7.0s finished\n",
      "/home/ssm-user/anaconda3/envs/single_cell/lib/python3.8/site-packages/pandas/core/arrays/categorical.py:2487: FutureWarning: The `inplace` parameter in pandas.Categorical.remove_unused_categories is deprecated and will be removed in a future version.\n",
      "  res = method(*args, **kwargs)\n"
     ]
    },
    {
     "name": "stdout",
     "output_type": "stream",
     "text": [
      "     working on  NME2\n"
     ]
    },
    {
     "name": "stderr",
     "output_type": "stream",
     "text": [
      "/home/ssm-user/anaconda3/envs/single_cell/lib/python3.8/site-packages/pandas/core/arrays/categorical.py:2487: FutureWarning: The `inplace` parameter in pandas.Categorical.remove_unused_categories is deprecated and will be removed in a future version.\n",
      "  res = method(*args, **kwargs)\n",
      "[Parallel(n_jobs=94)]: Using backend LokyBackend with 94 concurrent workers.\n",
      "[Parallel(n_jobs=94)]: Done  88 out of  91 | elapsed:    6.4s remaining:    0.2s\n",
      "[Parallel(n_jobs=94)]: Done  91 out of  91 | elapsed:    6.7s finished\n",
      "/home/ssm-user/anaconda3/envs/single_cell/lib/python3.8/site-packages/pandas/core/arrays/categorical.py:2487: FutureWarning: The `inplace` parameter in pandas.Categorical.remove_unused_categories is deprecated and will be removed in a future version.\n",
      "  res = method(*args, **kwargs)\n"
     ]
    },
    {
     "name": "stdout",
     "output_type": "stream",
     "text": [
      "     working on  MBD2\n"
     ]
    },
    {
     "name": "stderr",
     "output_type": "stream",
     "text": [
      "[Parallel(n_jobs=94)]: Using backend LokyBackend with 94 concurrent workers.\n",
      "[Parallel(n_jobs=94)]: Done  88 out of  91 | elapsed:    7.0s remaining:    0.2s\n",
      "[Parallel(n_jobs=94)]: Done  91 out of  91 | elapsed:    7.1s finished\n",
      "/home/ssm-user/anaconda3/envs/single_cell/lib/python3.8/site-packages/pandas/core/arrays/categorical.py:2487: FutureWarning: The `inplace` parameter in pandas.Categorical.remove_unused_categories is deprecated and will be removed in a future version.\n",
      "  res = method(*args, **kwargs)\n"
     ]
    },
    {
     "name": "stdout",
     "output_type": "stream",
     "text": [
      "     working on  CSDE1\n"
     ]
    },
    {
     "name": "stderr",
     "output_type": "stream",
     "text": [
      "/home/ssm-user/anaconda3/envs/single_cell/lib/python3.8/site-packages/pandas/core/arrays/categorical.py:2487: FutureWarning: The `inplace` parameter in pandas.Categorical.remove_unused_categories is deprecated and will be removed in a future version.\n",
      "  res = method(*args, **kwargs)\n",
      "[Parallel(n_jobs=94)]: Using backend LokyBackend with 94 concurrent workers.\n",
      "[Parallel(n_jobs=94)]: Done  88 out of  91 | elapsed:    6.8s remaining:    0.2s\n",
      "[Parallel(n_jobs=94)]: Done  91 out of  91 | elapsed:    6.9s finished\n",
      "/home/ssm-user/anaconda3/envs/single_cell/lib/python3.8/site-packages/pandas/core/arrays/categorical.py:2487: FutureWarning: The `inplace` parameter in pandas.Categorical.remove_unused_categories is deprecated and will be removed in a future version.\n",
      "  res = method(*args, **kwargs)\n"
     ]
    },
    {
     "name": "stdout",
     "output_type": "stream",
     "text": [
      "     working on  CAMTA1\n"
     ]
    },
    {
     "name": "stderr",
     "output_type": "stream",
     "text": [
      "[Parallel(n_jobs=94)]: Using backend LokyBackend with 94 concurrent workers.\n",
      "[Parallel(n_jobs=94)]: Done  88 out of  91 | elapsed:    7.1s remaining:    0.2s\n",
      "[Parallel(n_jobs=94)]: Done  91 out of  91 | elapsed:    7.3s finished\n",
      "/home/ssm-user/anaconda3/envs/single_cell/lib/python3.8/site-packages/pandas/core/arrays/categorical.py:2487: FutureWarning: The `inplace` parameter in pandas.Categorical.remove_unused_categories is deprecated and will be removed in a future version.\n",
      "  res = method(*args, **kwargs)\n"
     ]
    },
    {
     "name": "stdout",
     "output_type": "stream",
     "text": [
      "     working on  PARP12\n"
     ]
    },
    {
     "name": "stderr",
     "output_type": "stream",
     "text": [
      "[Parallel(n_jobs=94)]: Using backend LokyBackend with 94 concurrent workers.\n",
      "[Parallel(n_jobs=94)]: Done  88 out of  91 | elapsed:    7.3s remaining:    0.3s\n",
      "[Parallel(n_jobs=94)]: Done  91 out of  91 | elapsed:    7.6s finished\n",
      "/home/ssm-user/anaconda3/envs/single_cell/lib/python3.8/site-packages/pandas/core/arrays/categorical.py:2487: FutureWarning: The `inplace` parameter in pandas.Categorical.remove_unused_categories is deprecated and will be removed in a future version.\n",
      "  res = method(*args, **kwargs)\n"
     ]
    },
    {
     "name": "stdout",
     "output_type": "stream",
     "text": [
      "     working on  PAX9\n"
     ]
    },
    {
     "name": "stderr",
     "output_type": "stream",
     "text": [
      "[Parallel(n_jobs=94)]: Using backend LokyBackend with 94 concurrent workers.\n",
      "[Parallel(n_jobs=94)]: Done  88 out of  91 | elapsed:    7.4s remaining:    0.3s\n",
      "[Parallel(n_jobs=94)]: Done  91 out of  91 | elapsed:    7.6s finished\n",
      "/home/ssm-user/anaconda3/envs/single_cell/lib/python3.8/site-packages/pandas/core/arrays/categorical.py:2487: FutureWarning: The `inplace` parameter in pandas.Categorical.remove_unused_categories is deprecated and will be removed in a future version.\n",
      "  res = method(*args, **kwargs)\n"
     ]
    },
    {
     "name": "stdout",
     "output_type": "stream",
     "text": [
      "     working on  IRF1\n"
     ]
    },
    {
     "name": "stderr",
     "output_type": "stream",
     "text": [
      "/home/ssm-user/anaconda3/envs/single_cell/lib/python3.8/site-packages/pandas/core/arrays/categorical.py:2487: FutureWarning: The `inplace` parameter in pandas.Categorical.remove_unused_categories is deprecated and will be removed in a future version.\n",
      "  res = method(*args, **kwargs)\n",
      "[Parallel(n_jobs=94)]: Using backend LokyBackend with 94 concurrent workers.\n",
      "[Parallel(n_jobs=94)]: Done  88 out of  91 | elapsed:    6.8s remaining:    0.2s\n",
      "[Parallel(n_jobs=94)]: Done  91 out of  91 | elapsed:    7.0s finished\n",
      "/home/ssm-user/anaconda3/envs/single_cell/lib/python3.8/site-packages/pandas/core/arrays/categorical.py:2487: FutureWarning: The `inplace` parameter in pandas.Categorical.remove_unused_categories is deprecated and will be removed in a future version.\n",
      "  res = method(*args, **kwargs)\n"
     ]
    },
    {
     "name": "stdout",
     "output_type": "stream",
     "text": [
      "     working on  ZNF706\n"
     ]
    },
    {
     "name": "stderr",
     "output_type": "stream",
     "text": [
      "[Parallel(n_jobs=94)]: Using backend LokyBackend with 94 concurrent workers.\n",
      "[Parallel(n_jobs=94)]: Done  88 out of  91 | elapsed:    7.5s remaining:    0.3s\n",
      "[Parallel(n_jobs=94)]: Done  91 out of  91 | elapsed:    7.7s finished\n",
      "/home/ssm-user/anaconda3/envs/single_cell/lib/python3.8/site-packages/pandas/core/arrays/categorical.py:2487: FutureWarning: The `inplace` parameter in pandas.Categorical.remove_unused_categories is deprecated and will be removed in a future version.\n",
      "  res = method(*args, **kwargs)\n"
     ]
    },
    {
     "name": "stdout",
     "output_type": "stream",
     "text": [
      "     working on  YY1\n"
     ]
    },
    {
     "name": "stderr",
     "output_type": "stream",
     "text": [
      "[Parallel(n_jobs=94)]: Using backend LokyBackend with 94 concurrent workers.\n",
      "[Parallel(n_jobs=94)]: Done  88 out of  91 | elapsed:    7.4s remaining:    0.3s\n",
      "[Parallel(n_jobs=94)]: Done  91 out of  91 | elapsed:    7.7s finished\n",
      "/home/ssm-user/anaconda3/envs/single_cell/lib/python3.8/site-packages/pandas/core/arrays/categorical.py:2487: FutureWarning: The `inplace` parameter in pandas.Categorical.remove_unused_categories is deprecated and will be removed in a future version.\n",
      "  res = method(*args, **kwargs)\n"
     ]
    },
    {
     "name": "stdout",
     "output_type": "stream",
     "text": [
      "     working on  TAX1BP1\n"
     ]
    },
    {
     "name": "stderr",
     "output_type": "stream",
     "text": [
      "/home/ssm-user/anaconda3/envs/single_cell/lib/python3.8/site-packages/pandas/core/arrays/categorical.py:2487: FutureWarning: The `inplace` parameter in pandas.Categorical.remove_unused_categories is deprecated and will be removed in a future version.\n",
      "  res = method(*args, **kwargs)\n",
      "/home/ssm-user/Github/scrna-parameter-estimation/dist/memento-0.0.6-py3.8.egg/memento/estimator.py:106: RuntimeWarning: divide by zero encountered in log\n",
      "[Parallel(n_jobs=94)]: Using backend LokyBackend with 94 concurrent workers.\n",
      "[Parallel(n_jobs=94)]: Done  88 out of  91 | elapsed:    6.8s remaining:    0.2s\n",
      "[Parallel(n_jobs=94)]: Done  91 out of  91 | elapsed:    6.9s finished\n",
      "/home/ssm-user/anaconda3/envs/single_cell/lib/python3.8/site-packages/pandas/core/arrays/categorical.py:2487: FutureWarning: The `inplace` parameter in pandas.Categorical.remove_unused_categories is deprecated and will be removed in a future version.\n",
      "  res = method(*args, **kwargs)\n"
     ]
    },
    {
     "name": "stdout",
     "output_type": "stream",
     "text": [
      "     working on  CNBP\n"
     ]
    },
    {
     "name": "stderr",
     "output_type": "stream",
     "text": [
      "[Parallel(n_jobs=94)]: Using backend LokyBackend with 94 concurrent workers.\n",
      "[Parallel(n_jobs=94)]: Done  88 out of  91 | elapsed:    7.2s remaining:    0.2s\n",
      "[Parallel(n_jobs=94)]: Done  91 out of  91 | elapsed:    7.3s finished\n",
      "/home/ssm-user/anaconda3/envs/single_cell/lib/python3.8/site-packages/pandas/core/arrays/categorical.py:2487: FutureWarning: The `inplace` parameter in pandas.Categorical.remove_unused_categories is deprecated and will be removed in a future version.\n",
      "  res = method(*args, **kwargs)\n"
     ]
    },
    {
     "name": "stdout",
     "output_type": "stream",
     "text": [
      "     working on  KLF5\n"
     ]
    },
    {
     "name": "stderr",
     "output_type": "stream",
     "text": [
      "/home/ssm-user/anaconda3/envs/single_cell/lib/python3.8/site-packages/pandas/core/arrays/categorical.py:2487: FutureWarning: The `inplace` parameter in pandas.Categorical.remove_unused_categories is deprecated and will be removed in a future version.\n",
      "  res = method(*args, **kwargs)\n",
      "[Parallel(n_jobs=94)]: Using backend LokyBackend with 94 concurrent workers.\n",
      "[Parallel(n_jobs=94)]: Done  88 out of  91 | elapsed:    6.6s remaining:    0.2s\n",
      "[Parallel(n_jobs=94)]: Done  91 out of  91 | elapsed:    6.9s finished\n",
      "/home/ssm-user/anaconda3/envs/single_cell/lib/python3.8/site-packages/pandas/core/arrays/categorical.py:2487: FutureWarning: The `inplace` parameter in pandas.Categorical.remove_unused_categories is deprecated and will be removed in a future version.\n",
      "  res = method(*args, **kwargs)\n"
     ]
    },
    {
     "name": "stdout",
     "output_type": "stream",
     "text": [
      "     working on  NFE2L2\n"
     ]
    },
    {
     "name": "stderr",
     "output_type": "stream",
     "text": [
      "/home/ssm-user/anaconda3/envs/single_cell/lib/python3.8/site-packages/pandas/core/arrays/categorical.py:2487: FutureWarning: The `inplace` parameter in pandas.Categorical.remove_unused_categories is deprecated and will be removed in a future version.\n",
      "  res = method(*args, **kwargs)\n",
      "[Parallel(n_jobs=94)]: Using backend LokyBackend with 94 concurrent workers.\n",
      "[Parallel(n_jobs=94)]: Done  88 out of  91 | elapsed:    6.6s remaining:    0.2s\n",
      "[Parallel(n_jobs=94)]: Done  91 out of  91 | elapsed:    6.8s finished\n",
      "/home/ssm-user/anaconda3/envs/single_cell/lib/python3.8/site-packages/pandas/core/arrays/categorical.py:2487: FutureWarning: The `inplace` parameter in pandas.Categorical.remove_unused_categories is deprecated and will be removed in a future version.\n",
      "  res = method(*args, **kwargs)\n"
     ]
    },
    {
     "name": "stdout",
     "output_type": "stream",
     "text": [
      "     working on  MAX\n"
     ]
    },
    {
     "name": "stderr",
     "output_type": "stream",
     "text": [
      "[Parallel(n_jobs=94)]: Using backend LokyBackend with 94 concurrent workers.\n",
      "[Parallel(n_jobs=94)]: Done  88 out of  91 | elapsed:    7.5s remaining:    0.3s\n",
      "[Parallel(n_jobs=94)]: Done  91 out of  91 | elapsed:    7.7s finished\n",
      "/home/ssm-user/anaconda3/envs/single_cell/lib/python3.8/site-packages/pandas/core/arrays/categorical.py:2487: FutureWarning: The `inplace` parameter in pandas.Categorical.remove_unused_categories is deprecated and will be removed in a future version.\n",
      "  res = method(*args, **kwargs)\n"
     ]
    },
    {
     "name": "stdout",
     "output_type": "stream",
     "text": [
      "     working on  YBX1\n"
     ]
    },
    {
     "name": "stderr",
     "output_type": "stream",
     "text": [
      "/home/ssm-user/anaconda3/envs/single_cell/lib/python3.8/site-packages/pandas/core/arrays/categorical.py:2487: FutureWarning: The `inplace` parameter in pandas.Categorical.remove_unused_categories is deprecated and will be removed in a future version.\n",
      "  res = method(*args, **kwargs)\n",
      "[Parallel(n_jobs=94)]: Using backend LokyBackend with 94 concurrent workers.\n",
      "[Parallel(n_jobs=94)]: Done  88 out of  91 | elapsed:    6.8s remaining:    0.2s\n",
      "[Parallel(n_jobs=94)]: Done  91 out of  91 | elapsed:    6.9s finished\n",
      "/home/ssm-user/anaconda3/envs/single_cell/lib/python3.8/site-packages/pandas/core/arrays/categorical.py:2487: FutureWarning: The `inplace` parameter in pandas.Categorical.remove_unused_categories is deprecated and will be removed in a future version.\n",
      "  res = method(*args, **kwargs)\n"
     ]
    },
    {
     "name": "stdout",
     "output_type": "stream",
     "text": [
      "     working on  NFE2L3\n"
     ]
    },
    {
     "name": "stderr",
     "output_type": "stream",
     "text": [
      "[Parallel(n_jobs=94)]: Using backend LokyBackend with 94 concurrent workers.\n",
      "[Parallel(n_jobs=94)]: Done  88 out of  91 | elapsed:    6.9s remaining:    0.2s\n",
      "[Parallel(n_jobs=94)]: Done  91 out of  91 | elapsed:    7.3s finished\n",
      "/home/ssm-user/anaconda3/envs/single_cell/lib/python3.8/site-packages/pandas/core/arrays/categorical.py:2487: FutureWarning: The `inplace` parameter in pandas.Categorical.remove_unused_categories is deprecated and will be removed in a future version.\n",
      "  res = method(*args, **kwargs)\n"
     ]
    },
    {
     "name": "stdout",
     "output_type": "stream",
     "text": [
      "     working on  TSC22D1\n"
     ]
    },
    {
     "name": "stderr",
     "output_type": "stream",
     "text": [
      "/home/ssm-user/anaconda3/envs/single_cell/lib/python3.8/site-packages/pandas/core/arrays/categorical.py:2487: FutureWarning: The `inplace` parameter in pandas.Categorical.remove_unused_categories is deprecated and will be removed in a future version.\n",
      "  res = method(*args, **kwargs)\n",
      "[Parallel(n_jobs=94)]: Using backend LokyBackend with 94 concurrent workers.\n",
      "[Parallel(n_jobs=94)]: Done  88 out of  91 | elapsed:    6.9s remaining:    0.2s\n",
      "[Parallel(n_jobs=94)]: Done  91 out of  91 | elapsed:    7.2s finished\n",
      "/home/ssm-user/anaconda3/envs/single_cell/lib/python3.8/site-packages/pandas/core/arrays/categorical.py:2487: FutureWarning: The `inplace` parameter in pandas.Categorical.remove_unused_categories is deprecated and will be removed in a future version.\n",
      "  res = method(*args, **kwargs)\n"
     ]
    },
    {
     "name": "stdout",
     "output_type": "stream",
     "text": [
      "     working on  DNAJC1\n"
     ]
    },
    {
     "name": "stderr",
     "output_type": "stream",
     "text": [
      "[Parallel(n_jobs=94)]: Using backend LokyBackend with 94 concurrent workers.\n",
      "[Parallel(n_jobs=94)]: Done  88 out of  91 | elapsed:    7.3s remaining:    0.2s\n",
      "[Parallel(n_jobs=94)]: Done  91 out of  91 | elapsed:    7.6s finished\n",
      "/home/ssm-user/anaconda3/envs/single_cell/lib/python3.8/site-packages/pandas/core/arrays/categorical.py:2487: FutureWarning: The `inplace` parameter in pandas.Categorical.remove_unused_categories is deprecated and will be removed in a future version.\n",
      "  res = method(*args, **kwargs)\n"
     ]
    },
    {
     "name": "stdout",
     "output_type": "stream",
     "text": [
      "     working on  BBX\n"
     ]
    },
    {
     "name": "stderr",
     "output_type": "stream",
     "text": [
      "[Parallel(n_jobs=94)]: Using backend LokyBackend with 94 concurrent workers.\n",
      "[Parallel(n_jobs=94)]: Done  88 out of  91 | elapsed:    7.5s remaining:    0.3s\n",
      "[Parallel(n_jobs=94)]: Done  91 out of  91 | elapsed:    7.8s finished\n",
      "/home/ssm-user/anaconda3/envs/single_cell/lib/python3.8/site-packages/pandas/core/arrays/categorical.py:2487: FutureWarning: The `inplace` parameter in pandas.Categorical.remove_unused_categories is deprecated and will be removed in a future version.\n",
      "  res = method(*args, **kwargs)\n"
     ]
    },
    {
     "name": "stdout",
     "output_type": "stream",
     "text": [
      "     working on  PHB\n"
     ]
    },
    {
     "name": "stderr",
     "output_type": "stream",
     "text": [
      "[Parallel(n_jobs=94)]: Using backend LokyBackend with 94 concurrent workers.\n",
      "[Parallel(n_jobs=94)]: Done  88 out of  91 | elapsed:    7.2s remaining:    0.2s\n",
      "[Parallel(n_jobs=94)]: Done  91 out of  91 | elapsed:    7.5s finished\n",
      "/home/ssm-user/anaconda3/envs/single_cell/lib/python3.8/site-packages/pandas/core/arrays/categorical.py:2487: FutureWarning: The `inplace` parameter in pandas.Categorical.remove_unused_categories is deprecated and will be removed in a future version.\n",
      "  res = method(*args, **kwargs)\n"
     ]
    },
    {
     "name": "stdout",
     "output_type": "stream",
     "text": [
      "     working on  ZNF511\n"
     ]
    },
    {
     "name": "stderr",
     "output_type": "stream",
     "text": [
      "[Parallel(n_jobs=94)]: Using backend LokyBackend with 94 concurrent workers.\n",
      "[Parallel(n_jobs=94)]: Done  88 out of  91 | elapsed:    7.3s remaining:    0.2s\n",
      "[Parallel(n_jobs=94)]: Done  91 out of  91 | elapsed:    7.4s finished\n",
      "/home/ssm-user/anaconda3/envs/single_cell/lib/python3.8/site-packages/pandas/core/arrays/categorical.py:2487: FutureWarning: The `inplace` parameter in pandas.Categorical.remove_unused_categories is deprecated and will be removed in a future version.\n",
      "  res = method(*args, **kwargs)\n"
     ]
    },
    {
     "name": "stdout",
     "output_type": "stream",
     "text": [
      "     working on  MLX\n"
     ]
    },
    {
     "name": "stderr",
     "output_type": "stream",
     "text": [
      "[Parallel(n_jobs=94)]: Using backend LokyBackend with 94 concurrent workers.\n",
      "[Parallel(n_jobs=94)]: Done  88 out of  91 | elapsed:    7.4s remaining:    0.3s\n",
      "[Parallel(n_jobs=94)]: Done  91 out of  91 | elapsed:    7.5s finished\n",
      "/home/ssm-user/anaconda3/envs/single_cell/lib/python3.8/site-packages/pandas/core/arrays/categorical.py:2487: FutureWarning: The `inplace` parameter in pandas.Categorical.remove_unused_categories is deprecated and will be removed in a future version.\n",
      "  res = method(*args, **kwargs)\n"
     ]
    },
    {
     "name": "stdout",
     "output_type": "stream",
     "text": [
      "     working on  RFX5\n"
     ]
    },
    {
     "name": "stderr",
     "output_type": "stream",
     "text": [
      "[Parallel(n_jobs=94)]: Using backend LokyBackend with 94 concurrent workers.\n",
      "[Parallel(n_jobs=94)]: Done  88 out of  91 | elapsed:    7.3s remaining:    0.2s\n",
      "[Parallel(n_jobs=94)]: Done  91 out of  91 | elapsed:    7.5s finished\n",
      "/home/ssm-user/anaconda3/envs/single_cell/lib/python3.8/site-packages/pandas/core/arrays/categorical.py:2487: FutureWarning: The `inplace` parameter in pandas.Categorical.remove_unused_categories is deprecated and will be removed in a future version.\n",
      "  res = method(*args, **kwargs)\n"
     ]
    },
    {
     "name": "stdout",
     "output_type": "stream",
     "text": [
      "     working on  ZFP36L1\n"
     ]
    },
    {
     "name": "stderr",
     "output_type": "stream",
     "text": [
      "/home/ssm-user/anaconda3/envs/single_cell/lib/python3.8/site-packages/pandas/core/arrays/categorical.py:2487: FutureWarning: The `inplace` parameter in pandas.Categorical.remove_unused_categories is deprecated and will be removed in a future version.\n",
      "  res = method(*args, **kwargs)\n",
      "[Parallel(n_jobs=94)]: Using backend LokyBackend with 94 concurrent workers.\n",
      "[Parallel(n_jobs=94)]: Done  88 out of  91 | elapsed:    7.0s remaining:    0.2s\n",
      "[Parallel(n_jobs=94)]: Done  91 out of  91 | elapsed:    7.1s finished\n",
      "/home/ssm-user/anaconda3/envs/single_cell/lib/python3.8/site-packages/pandas/core/arrays/categorical.py:2487: FutureWarning: The `inplace` parameter in pandas.Categorical.remove_unused_categories is deprecated and will be removed in a future version.\n",
      "  res = method(*args, **kwargs)\n"
     ]
    },
    {
     "name": "stdout",
     "output_type": "stream",
     "text": [
      "     working on  ZNF618\n"
     ]
    },
    {
     "name": "stderr",
     "output_type": "stream",
     "text": [
      "[Parallel(n_jobs=94)]: Using backend LokyBackend with 94 concurrent workers.\n",
      "[Parallel(n_jobs=94)]: Done  88 out of  91 | elapsed:    6.9s remaining:    0.2s\n",
      "[Parallel(n_jobs=94)]: Done  91 out of  91 | elapsed:    7.1s finished\n",
      "/home/ssm-user/anaconda3/envs/single_cell/lib/python3.8/site-packages/pandas/core/arrays/categorical.py:2487: FutureWarning: The `inplace` parameter in pandas.Categorical.remove_unused_categories is deprecated and will be removed in a future version.\n",
      "  res = method(*args, **kwargs)\n"
     ]
    },
    {
     "name": "stdout",
     "output_type": "stream",
     "text": [
      "     working on  TOX3\n"
     ]
    },
    {
     "name": "stderr",
     "output_type": "stream",
     "text": [
      "[Parallel(n_jobs=94)]: Using backend LokyBackend with 94 concurrent workers.\n",
      "[Parallel(n_jobs=94)]: Done  88 out of  91 | elapsed:    7.3s remaining:    0.2s\n",
      "[Parallel(n_jobs=94)]: Done  91 out of  91 | elapsed:    7.7s finished\n",
      "/home/ssm-user/anaconda3/envs/single_cell/lib/python3.8/site-packages/pandas/core/arrays/categorical.py:2487: FutureWarning: The `inplace` parameter in pandas.Categorical.remove_unused_categories is deprecated and will be removed in a future version.\n",
      "  res = method(*args, **kwargs)\n"
     ]
    },
    {
     "name": "stdout",
     "output_type": "stream",
     "text": [
      "     working on  STAT2\n"
     ]
    },
    {
     "name": "stderr",
     "output_type": "stream",
     "text": [
      "[Parallel(n_jobs=94)]: Using backend LokyBackend with 94 concurrent workers.\n",
      "[Parallel(n_jobs=94)]: Done  88 out of  91 | elapsed:    7.4s remaining:    0.3s\n",
      "[Parallel(n_jobs=94)]: Done  91 out of  91 | elapsed:    7.9s finished\n",
      "/home/ssm-user/anaconda3/envs/single_cell/lib/python3.8/site-packages/pandas/core/arrays/categorical.py:2487: FutureWarning: The `inplace` parameter in pandas.Categorical.remove_unused_categories is deprecated and will be removed in a future version.\n",
      "  res = method(*args, **kwargs)\n"
     ]
    },
    {
     "name": "stdout",
     "output_type": "stream",
     "text": [
      "     working on  LITAF\n"
     ]
    },
    {
     "name": "stderr",
     "output_type": "stream",
     "text": [
      "[Parallel(n_jobs=94)]: Using backend LokyBackend with 94 concurrent workers.\n",
      "[Parallel(n_jobs=94)]: Done  88 out of  91 | elapsed:    7.4s remaining:    0.3s\n",
      "[Parallel(n_jobs=94)]: Done  91 out of  91 | elapsed:    7.7s finished\n",
      "/home/ssm-user/anaconda3/envs/single_cell/lib/python3.8/site-packages/pandas/core/arrays/categorical.py:2487: FutureWarning: The `inplace` parameter in pandas.Categorical.remove_unused_categories is deprecated and will be removed in a future version.\n",
      "  res = method(*args, **kwargs)\n"
     ]
    },
    {
     "name": "stdout",
     "output_type": "stream",
     "text": [
      "     working on  HES4\n"
     ]
    },
    {
     "name": "stderr",
     "output_type": "stream",
     "text": [
      "[Parallel(n_jobs=94)]: Using backend LokyBackend with 94 concurrent workers.\n",
      "[Parallel(n_jobs=94)]: Done  88 out of  91 | elapsed:    7.2s remaining:    0.2s\n",
      "[Parallel(n_jobs=94)]: Done  91 out of  91 | elapsed:    7.6s finished\n",
      "/home/ssm-user/anaconda3/envs/single_cell/lib/python3.8/site-packages/pandas/core/arrays/categorical.py:2487: FutureWarning: The `inplace` parameter in pandas.Categorical.remove_unused_categories is deprecated and will be removed in a future version.\n",
      "  res = method(*args, **kwargs)\n"
     ]
    },
    {
     "name": "stdout",
     "output_type": "stream",
     "text": [
      "     working on  BATF\n"
     ]
    },
    {
     "name": "stderr",
     "output_type": "stream",
     "text": [
      "[Parallel(n_jobs=94)]: Using backend LokyBackend with 94 concurrent workers.\n",
      "[Parallel(n_jobs=94)]: Done  88 out of  91 | elapsed:    6.9s remaining:    0.2s\n",
      "[Parallel(n_jobs=94)]: Done  91 out of  91 | elapsed:    7.1s finished\n"
     ]
    },
    {
     "name": "stdout",
     "output_type": "stream",
     "text": [
      "Starting ['BTN3A2', 'HLA-DQB1', 'HLA-DMA', 'HLA-DPB1', 'HLA-F', 'HLA-B', 'HLA-A', 'HLA-DRB1', 'CD74', 'HLA-DPA1', 'HLA-DMB', 'HLA-C', 'HLA-DRA', 'PDIA3', 'HLA-DOA'] ---------------------------------------------\n"
     ]
    },
    {
     "name": "stderr",
     "output_type": "stream",
     "text": [
      "/home/ssm-user/anaconda3/envs/single_cell/lib/python3.8/site-packages/pandas/core/arrays/categorical.py:2487: FutureWarning: The `inplace` parameter in pandas.Categorical.remove_unused_categories is deprecated and will be removed in a future version.\n",
      "  res = method(*args, **kwargs)\n",
      "/home/ssm-user/anaconda3/envs/single_cell/lib/python3.8/site-packages/pandas/core/arrays/categorical.py:2487: FutureWarning: The `inplace` parameter in pandas.Categorical.remove_unused_categories is deprecated and will be removed in a future version.\n",
      "  res = method(*args, **kwargs)\n"
     ]
    },
    {
     "name": "stdout",
     "output_type": "stream",
     "text": [
      "     working on  STAT1\n"
     ]
    },
    {
     "name": "stderr",
     "output_type": "stream",
     "text": [
      "/home/ssm-user/anaconda3/envs/single_cell/lib/python3.8/site-packages/pandas/core/arrays/categorical.py:2487: FutureWarning: The `inplace` parameter in pandas.Categorical.remove_unused_categories is deprecated and will be removed in a future version.\n",
      "  res = method(*args, **kwargs)\n",
      "[Parallel(n_jobs=94)]: Using backend LokyBackend with 94 concurrent workers.\n",
      "[Parallel(n_jobs=94)]: Done  24 out of 105 | elapsed:    4.4s remaining:   14.8s\n",
      "[Parallel(n_jobs=94)]: Done 105 out of 105 | elapsed:    8.1s finished\n",
      "/home/ssm-user/anaconda3/envs/single_cell/lib/python3.8/site-packages/pandas/core/arrays/categorical.py:2487: FutureWarning: The `inplace` parameter in pandas.Categorical.remove_unused_categories is deprecated and will be removed in a future version.\n",
      "  res = method(*args, **kwargs)\n"
     ]
    },
    {
     "name": "stdout",
     "output_type": "stream",
     "text": [
      "     working on  ATF4\n"
     ]
    },
    {
     "name": "stderr",
     "output_type": "stream",
     "text": [
      "[Parallel(n_jobs=94)]: Using backend LokyBackend with 94 concurrent workers.\n",
      "[Parallel(n_jobs=94)]: Done  24 out of 105 | elapsed:    4.4s remaining:   14.8s\n",
      "[Parallel(n_jobs=94)]: Done 105 out of 105 | elapsed:    8.0s finished\n",
      "/home/ssm-user/anaconda3/envs/single_cell/lib/python3.8/site-packages/pandas/core/arrays/categorical.py:2487: FutureWarning: The `inplace` parameter in pandas.Categorical.remove_unused_categories is deprecated and will be removed in a future version.\n",
      "  res = method(*args, **kwargs)\n"
     ]
    },
    {
     "name": "stdout",
     "output_type": "stream",
     "text": [
      "     working on  RFX5\n"
     ]
    },
    {
     "name": "stderr",
     "output_type": "stream",
     "text": [
      "[Parallel(n_jobs=94)]: Using backend LokyBackend with 94 concurrent workers.\n",
      "[Parallel(n_jobs=94)]: Done  24 out of 105 | elapsed:    4.3s remaining:   14.4s\n",
      "[Parallel(n_jobs=94)]: Done 105 out of 105 | elapsed:    7.5s finished\n",
      "/home/ssm-user/anaconda3/envs/single_cell/lib/python3.8/site-packages/pandas/core/arrays/categorical.py:2487: FutureWarning: The `inplace` parameter in pandas.Categorical.remove_unused_categories is deprecated and will be removed in a future version.\n",
      "  res = method(*args, **kwargs)\n"
     ]
    },
    {
     "name": "stdout",
     "output_type": "stream",
     "text": [
      "     working on  SP100\n"
     ]
    },
    {
     "name": "stderr",
     "output_type": "stream",
     "text": [
      "[Parallel(n_jobs=94)]: Using backend LokyBackend with 94 concurrent workers.\n",
      "[Parallel(n_jobs=94)]: Done  24 out of 105 | elapsed:    4.2s remaining:   14.1s\n",
      "[Parallel(n_jobs=94)]: Done 105 out of 105 | elapsed:    7.5s finished\n",
      "/home/ssm-user/anaconda3/envs/single_cell/lib/python3.8/site-packages/pandas/core/arrays/categorical.py:2487: FutureWarning: The `inplace` parameter in pandas.Categorical.remove_unused_categories is deprecated and will be removed in a future version.\n",
      "  res = method(*args, **kwargs)\n"
     ]
    },
    {
     "name": "stdout",
     "output_type": "stream",
     "text": [
      "     working on  CEBPB\n"
     ]
    },
    {
     "name": "stderr",
     "output_type": "stream",
     "text": [
      "[Parallel(n_jobs=94)]: Using backend LokyBackend with 94 concurrent workers.\n",
      "[Parallel(n_jobs=94)]: Done  24 out of 105 | elapsed:    4.5s remaining:   15.1s\n",
      "[Parallel(n_jobs=94)]: Done 105 out of 105 | elapsed:    7.6s finished\n",
      "/home/ssm-user/anaconda3/envs/single_cell/lib/python3.8/site-packages/pandas/core/arrays/categorical.py:2487: FutureWarning: The `inplace` parameter in pandas.Categorical.remove_unused_categories is deprecated and will be removed in a future version.\n",
      "  res = method(*args, **kwargs)\n"
     ]
    },
    {
     "name": "stdout",
     "output_type": "stream",
     "text": [
      "     working on  NR2F6\n"
     ]
    },
    {
     "name": "stderr",
     "output_type": "stream",
     "text": [
      "[Parallel(n_jobs=94)]: Using backend LokyBackend with 94 concurrent workers.\n",
      "[Parallel(n_jobs=94)]: Done  24 out of 105 | elapsed:    4.4s remaining:   14.7s\n",
      "[Parallel(n_jobs=94)]: Done 105 out of 105 | elapsed:    7.9s finished\n",
      "/home/ssm-user/anaconda3/envs/single_cell/lib/python3.8/site-packages/pandas/core/arrays/categorical.py:2487: FutureWarning: The `inplace` parameter in pandas.Categorical.remove_unused_categories is deprecated and will be removed in a future version.\n",
      "  res = method(*args, **kwargs)\n"
     ]
    },
    {
     "name": "stdout",
     "output_type": "stream",
     "text": [
      "     working on  ELF3\n"
     ]
    },
    {
     "name": "stderr",
     "output_type": "stream",
     "text": [
      "/home/ssm-user/anaconda3/envs/single_cell/lib/python3.8/site-packages/pandas/core/arrays/categorical.py:2487: FutureWarning: The `inplace` parameter in pandas.Categorical.remove_unused_categories is deprecated and will be removed in a future version.\n",
      "  res = method(*args, **kwargs)\n",
      "[Parallel(n_jobs=94)]: Using backend LokyBackend with 94 concurrent workers.\n",
      "[Parallel(n_jobs=94)]: Done  24 out of 105 | elapsed:    4.6s remaining:   15.5s\n",
      "[Parallel(n_jobs=94)]: Done 105 out of 105 | elapsed:    7.7s finished\n",
      "/home/ssm-user/anaconda3/envs/single_cell/lib/python3.8/site-packages/pandas/core/arrays/categorical.py:2487: FutureWarning: The `inplace` parameter in pandas.Categorical.remove_unused_categories is deprecated and will be removed in a future version.\n",
      "  res = method(*args, **kwargs)\n"
     ]
    },
    {
     "name": "stdout",
     "output_type": "stream",
     "text": [
      "     working on  STAT2\n"
     ]
    },
    {
     "name": "stderr",
     "output_type": "stream",
     "text": [
      "[Parallel(n_jobs=94)]: Using backend LokyBackend with 94 concurrent workers.\n",
      "[Parallel(n_jobs=94)]: Done  24 out of 105 | elapsed:    4.6s remaining:   15.4s\n",
      "[Parallel(n_jobs=94)]: Done 105 out of 105 | elapsed:    7.7s finished\n",
      "/home/ssm-user/anaconda3/envs/single_cell/lib/python3.8/site-packages/pandas/core/arrays/categorical.py:2487: FutureWarning: The `inplace` parameter in pandas.Categorical.remove_unused_categories is deprecated and will be removed in a future version.\n",
      "  res = method(*args, **kwargs)\n"
     ]
    },
    {
     "name": "stdout",
     "output_type": "stream",
     "text": [
      "     working on  ZNF672\n"
     ]
    },
    {
     "name": "stderr",
     "output_type": "stream",
     "text": [
      "[Parallel(n_jobs=94)]: Using backend LokyBackend with 94 concurrent workers.\n",
      "[Parallel(n_jobs=94)]: Done  24 out of 105 | elapsed:    4.3s remaining:   14.4s\n",
      "[Parallel(n_jobs=94)]: Done 105 out of 105 | elapsed:    8.1s finished\n",
      "/home/ssm-user/anaconda3/envs/single_cell/lib/python3.8/site-packages/pandas/core/arrays/categorical.py:2487: FutureWarning: The `inplace` parameter in pandas.Categorical.remove_unused_categories is deprecated and will be removed in a future version.\n",
      "  res = method(*args, **kwargs)\n"
     ]
    },
    {
     "name": "stdout",
     "output_type": "stream",
     "text": [
      "     working on  PAX9\n"
     ]
    },
    {
     "name": "stderr",
     "output_type": "stream",
     "text": [
      "[Parallel(n_jobs=94)]: Using backend LokyBackend with 94 concurrent workers.\n",
      "[Parallel(n_jobs=94)]: Done  24 out of 105 | elapsed:    4.1s remaining:   13.8s\n",
      "[Parallel(n_jobs=94)]: Done 105 out of 105 | elapsed:    8.0s finished\n",
      "/home/ssm-user/anaconda3/envs/single_cell/lib/python3.8/site-packages/pandas/core/arrays/categorical.py:2487: FutureWarning: The `inplace` parameter in pandas.Categorical.remove_unused_categories is deprecated and will be removed in a future version.\n",
      "  res = method(*args, **kwargs)\n"
     ]
    },
    {
     "name": "stdout",
     "output_type": "stream",
     "text": [
      "     working on  MBD2\n"
     ]
    },
    {
     "name": "stderr",
     "output_type": "stream",
     "text": [
      "[Parallel(n_jobs=94)]: Using backend LokyBackend with 94 concurrent workers.\n",
      "[Parallel(n_jobs=94)]: Done  24 out of 105 | elapsed:    4.1s remaining:   14.0s\n",
      "[Parallel(n_jobs=94)]: Done 105 out of 105 | elapsed:    8.3s finished\n",
      "/home/ssm-user/anaconda3/envs/single_cell/lib/python3.8/site-packages/pandas/core/arrays/categorical.py:2487: FutureWarning: The `inplace` parameter in pandas.Categorical.remove_unused_categories is deprecated and will be removed in a future version.\n",
      "  res = method(*args, **kwargs)\n"
     ]
    },
    {
     "name": "stdout",
     "output_type": "stream",
     "text": [
      "     working on  CIITA\n"
     ]
    },
    {
     "name": "stderr",
     "output_type": "stream",
     "text": [
      "[Parallel(n_jobs=94)]: Using backend LokyBackend with 94 concurrent workers.\n",
      "[Parallel(n_jobs=94)]: Done  24 out of 105 | elapsed:    4.2s remaining:   14.3s\n",
      "[Parallel(n_jobs=94)]: Done 105 out of 105 | elapsed:    7.8s finished\n",
      "/home/ssm-user/anaconda3/envs/single_cell/lib/python3.8/site-packages/pandas/core/arrays/categorical.py:2487: FutureWarning: The `inplace` parameter in pandas.Categorical.remove_unused_categories is deprecated and will be removed in a future version.\n",
      "  res = method(*args, **kwargs)\n"
     ]
    },
    {
     "name": "stdout",
     "output_type": "stream",
     "text": [
      "     working on  CSDE1\n"
     ]
    },
    {
     "name": "stderr",
     "output_type": "stream",
     "text": [
      "/home/ssm-user/anaconda3/envs/single_cell/lib/python3.8/site-packages/pandas/core/arrays/categorical.py:2487: FutureWarning: The `inplace` parameter in pandas.Categorical.remove_unused_categories is deprecated and will be removed in a future version.\n",
      "  res = method(*args, **kwargs)\n",
      "[Parallel(n_jobs=94)]: Using backend LokyBackend with 94 concurrent workers.\n",
      "[Parallel(n_jobs=94)]: Done  24 out of 105 | elapsed:    4.7s remaining:   15.7s\n",
      "[Parallel(n_jobs=94)]: Done 105 out of 105 | elapsed:    8.1s finished\n",
      "/home/ssm-user/anaconda3/envs/single_cell/lib/python3.8/site-packages/pandas/core/arrays/categorical.py:2487: FutureWarning: The `inplace` parameter in pandas.Categorical.remove_unused_categories is deprecated and will be removed in a future version.\n",
      "  res = method(*args, **kwargs)\n"
     ]
    },
    {
     "name": "stdout",
     "output_type": "stream",
     "text": [
      "     working on  ID1\n"
     ]
    },
    {
     "name": "stderr",
     "output_type": "stream",
     "text": [
      "[Parallel(n_jobs=94)]: Using backend LokyBackend with 94 concurrent workers.\n",
      "[Parallel(n_jobs=94)]: Done  24 out of 105 | elapsed:    4.3s remaining:   14.6s\n",
      "[Parallel(n_jobs=94)]: Done 105 out of 105 | elapsed:    7.7s finished\n"
     ]
    },
    {
     "name": "stdout",
     "output_type": "stream",
     "text": [
      "Starting ['EPSTI1', 'OPTN', 'SLC25A28', 'NUB1', 'TNFSF13B', 'IFIT3', 'CASP1', 'SP100', 'IFI16', 'IFI44L', 'ISG20', 'TRIM22', 'IFI44', 'IFIH1', 'IFI35', 'SP110', 'OAS3'] ---------------------------------------------\n"
     ]
    },
    {
     "name": "stderr",
     "output_type": "stream",
     "text": [
      "/home/ssm-user/anaconda3/envs/single_cell/lib/python3.8/site-packages/pandas/core/arrays/categorical.py:2487: FutureWarning: The `inplace` parameter in pandas.Categorical.remove_unused_categories is deprecated and will be removed in a future version.\n",
      "  res = method(*args, **kwargs)\n",
      "/home/ssm-user/anaconda3/envs/single_cell/lib/python3.8/site-packages/pandas/core/arrays/categorical.py:2487: FutureWarning: The `inplace` parameter in pandas.Categorical.remove_unused_categories is deprecated and will be removed in a future version.\n",
      "  res = method(*args, **kwargs)\n"
     ]
    },
    {
     "name": "stdout",
     "output_type": "stream",
     "text": [
      "     working on  SP100\n"
     ]
    },
    {
     "ename": "KeyError",
     "evalue": "'SP100'",
     "output_type": "error",
     "traceback": [
      "\u001b[0;31m---------------------------------------------------------------------------\u001b[0m",
      "\u001b[0;31mKeyError\u001b[0m                                  Traceback (most recent call last)",
      "\u001b[0;32m<ipython-input-98-f3ca2af17e01>\u001b[0m in \u001b[0;36m<module>\u001b[0;34m\u001b[0m\n\u001b[1;32m     49\u001b[0m         \u001b[0mmemento\u001b[0m\u001b[0;34m.\u001b[0m\u001b[0mcompute_1d_moments\u001b[0m\u001b[0;34m(\u001b[0m\u001b[0madata_stim\u001b[0m\u001b[0;34m,\u001b[0m \u001b[0mmin_perc_group\u001b[0m\u001b[0;34m=\u001b[0m\u001b[0;36m.7\u001b[0m\u001b[0;34m)\u001b[0m\u001b[0;34m\u001b[0m\u001b[0;34m\u001b[0m\u001b[0m\n\u001b[1;32m     50\u001b[0m \u001b[0;34m\u001b[0m\u001b[0m\n\u001b[0;32m---> 51\u001b[0;31m         \u001b[0mmemento\u001b[0m\u001b[0;34m.\u001b[0m\u001b[0mcompute_2d_moments\u001b[0m\u001b[0;34m(\u001b[0m\u001b[0madata_stim\u001b[0m\u001b[0;34m,\u001b[0m \u001b[0mlist\u001b[0m\u001b[0;34m(\u001b[0m\u001b[0mitertools\u001b[0m\u001b[0;34m.\u001b[0m\u001b[0mcombinations\u001b[0m\u001b[0;34m(\u001b[0m\u001b[0mavailable_isgs\u001b[0m\u001b[0;34m,\u001b[0m \u001b[0;36m2\u001b[0m\u001b[0;34m)\u001b[0m\u001b[0;34m)\u001b[0m\u001b[0;34m)\u001b[0m\u001b[0;34m\u001b[0m\u001b[0;34m\u001b[0m\u001b[0m\n\u001b[0m\u001b[1;32m     52\u001b[0m \u001b[0;34m\u001b[0m\u001b[0m\n\u001b[1;32m     53\u001b[0m         memento.ht_2d_moments( \n",
      "\u001b[0;32m~/Github/scrna-parameter-estimation/dist/memento-0.0.6-py3.8.egg/memento/main.py\u001b[0m in \u001b[0;36mcompute_2d_moments\u001b[0;34m(adata, gene_pairs, inplace)\u001b[0m\n\u001b[1;32m    289\u001b[0m         \u001b[0;32mfor\u001b[0m \u001b[0mgene_1\u001b[0m\u001b[0;34m,\u001b[0m \u001b[0mgene_2\u001b[0m \u001b[0;32min\u001b[0m \u001b[0mgene_pairs\u001b[0m\u001b[0;34m:\u001b[0m\u001b[0;34m\u001b[0m\u001b[0;34m\u001b[0m\u001b[0m\n\u001b[1;32m    290\u001b[0m                 \u001b[0madata\u001b[0m\u001b[0;34m.\u001b[0m\u001b[0muns\u001b[0m\u001b[0;34m[\u001b[0m\u001b[0;34m'memento'\u001b[0m\u001b[0;34m]\u001b[0m\u001b[0;34m[\u001b[0m\u001b[0;34m'2d_moments'\u001b[0m\u001b[0;34m]\u001b[0m\u001b[0;34m[\u001b[0m\u001b[0;34m'gene_idx_1'\u001b[0m\u001b[0;34m]\u001b[0m\u001b[0;34m[\u001b[0m\u001b[0mpair_idx\u001b[0m\u001b[0;34m]\u001b[0m \u001b[0;34m=\u001b[0m \u001b[0mmapping\u001b[0m\u001b[0;34m[\u001b[0m\u001b[0mgene_1\u001b[0m\u001b[0;34m]\u001b[0m\u001b[0;34m\u001b[0m\u001b[0;34m\u001b[0m\u001b[0m\n\u001b[0;32m--> 291\u001b[0;31m                 \u001b[0madata\u001b[0m\u001b[0;34m.\u001b[0m\u001b[0muns\u001b[0m\u001b[0;34m[\u001b[0m\u001b[0;34m'memento'\u001b[0m\u001b[0;34m]\u001b[0m\u001b[0;34m[\u001b[0m\u001b[0;34m'2d_moments'\u001b[0m\u001b[0;34m]\u001b[0m\u001b[0;34m[\u001b[0m\u001b[0;34m'gene_idx_2'\u001b[0m\u001b[0;34m]\u001b[0m\u001b[0;34m[\u001b[0m\u001b[0mpair_idx\u001b[0m\u001b[0;34m]\u001b[0m \u001b[0;34m=\u001b[0m \u001b[0mmapping\u001b[0m\u001b[0;34m[\u001b[0m\u001b[0mgene_2\u001b[0m\u001b[0;34m]\u001b[0m\u001b[0;34m\u001b[0m\u001b[0;34m\u001b[0m\u001b[0m\n\u001b[0m\u001b[1;32m    292\u001b[0m                 \u001b[0mpair_idx\u001b[0m \u001b[0;34m+=\u001b[0m \u001b[0;36m1\u001b[0m\u001b[0;34m\u001b[0m\u001b[0;34m\u001b[0m\u001b[0m\n\u001b[1;32m    293\u001b[0m \u001b[0;34m\u001b[0m\u001b[0m\n",
      "\u001b[0;31mKeyError\u001b[0m: 'SP100'"
     ]
    }
   ],
   "source": [
    "\n",
    "gene_set_results = {}\n",
    "\n",
    "for gs_idx, gene_set in gene_sets.items():\n",
    "    \n",
    "    print('Starting', gene_set, '---------------------------------------------')\n",
    "\n",
    "    stim = 'gamma'\n",
    "    ct = 'C'\n",
    "    adata_stim = adata.copy()[\n",
    "\n",
    "        adata.obs.ct.isin([ct]) & \\\n",
    "        adata.obs.stim.isin([stim])].copy()\n",
    "    adata_stim.obs['group'] = 1\n",
    "\n",
    "    memento.create_groups(adata_stim, label_columns=['donor', 'group'])\n",
    "    memento.compute_1d_moments(adata_stim, min_perc_group=.9)\n",
    "\n",
    "    available_tfs = list(set(tf_list) & set(adata_stim.var.index))\n",
    "    available_isgs= list(set(gene_set) & set(adata_stim.var.index))\n",
    "\n",
    "    # moment_1d_df = memento.get_1d_moments(adata_stim, groupby='is_stim')\n",
    "\n",
    "    memento.compute_2d_moments(adata_stim, list(itertools.product(available_tfs, available_isgs)))\n",
    "    corr_df = memento.get_2d_moments(adata_stim, groupby='group')\n",
    "\n",
    "    tf_avg_corrs = corr_df.groupby('gene_1').group_1.mean().sort_values(ascending=False)\n",
    "    top_tfs = tf_avg_corrs[tf_avg_corrs > 0.25].index.tolist()\n",
    "\n",
    "    num_strata = 5\n",
    "\n",
    "    gene_set_results[gs_idx] = {}\n",
    "\n",
    "    for tf in top_tfs:\n",
    "        \n",
    "        adata_stim = adata.copy()[\n",
    "            adata.obs.ct.isin([ct]) & \\\n",
    "            adata.obs.stim.isin([stim])].copy()\n",
    "        \n",
    "        print('     working on ', tf)\n",
    "        expr = adata_stim[:, tf].X.todense().A1\n",
    "        try:\n",
    "            discretized = pd.qcut(pd.Series(expr), q=num_strata, labels=range(num_strata),duplicates='raise').values\n",
    "        except:\n",
    "            discretized = pd.Series(expr != 0).astype(int).values\n",
    "        \n",
    "        adata_stim.obs['tf_strata'] = discretized\n",
    "        \n",
    "        memento.create_groups(adata_stim, label_columns=['donor', 'tf_strata'])\n",
    "        memento.compute_1d_moments(adata_stim, min_perc_group=.7)\n",
    "\n",
    "        memento.compute_2d_moments(adata_stim, list(itertools.combinations(available_isgs, 2)))\n",
    "    \n",
    "        memento.ht_2d_moments( \n",
    "            adata_stim, \n",
    "            formula_like='1 + donor + tf_strata',\n",
    "            treatment_col='Inter', \n",
    "            num_boot=10000, \n",
    "            verbose=1,\n",
    "            num_cpus=94,\n",
    "            resampling='bootstrap',\n",
    "            approx=False)\n",
    "\n",
    "        memento.get_2d_ht_result(adata_stim).to_csv(data_path + 'adjustment/{}_{}.csv'.format(gs_idx, tf), index=False)"
   ]
  },
  {
   "cell_type": "code",
   "execution_count": null,
   "metadata": {},
   "outputs": [],
   "source": []
  },
  {
   "cell_type": "code",
   "execution_count": null,
   "metadata": {},
   "outputs": [],
   "source": []
  },
  {
   "cell_type": "code",
   "execution_count": null,
   "metadata": {},
   "outputs": [],
   "source": []
  },
  {
   "cell_type": "code",
   "execution_count": null,
   "metadata": {},
   "outputs": [],
   "source": []
  },
  {
   "cell_type": "code",
   "execution_count": 91,
   "metadata": {},
   "outputs": [],
   "source": [
    "tf_avg_corrs = corr_df.groupby('gene_1').group_1.mean().sort_values(ascending=False)\n",
    "top_tfs = tf_avg_corrs[tf_avg_corrs > 0.25].index.tolist()"
   ]
  },
  {
   "cell_type": "code",
   "execution_count": 95,
   "metadata": {},
   "outputs": [
    {
     "name": "stderr",
     "output_type": "stream",
     "text": [
      "/home/ssm-user/anaconda3/envs/single_cell/lib/python3.8/site-packages/pandas/core/arrays/categorical.py:2487: FutureWarning: The `inplace` parameter in pandas.Categorical.remove_unused_categories is deprecated and will be removed in a future version.\n",
      "  res = method(*args, **kwargs)\n"
     ]
    }
   ],
   "source": [
    "\n",
    "for tf in top_tfs:\n",
    "    tf = 'RFX5'\n",
    "    expr = adata_stim[:, tf].X.todense().A1\n",
    "    try:\n",
    "        discretized = pd.qcut(pd.Series(expr), q=num_strata, labels=range(num_strata),duplicates='raise').values\n",
    "    except:\n",
    "        discretized = pd.Series(expr != 0).astype(int).values\n",
    "    break"
   ]
  },
  {
   "cell_type": "code",
   "execution_count": null,
   "metadata": {},
   "outputs": [],
   "source": []
  },
  {
   "cell_type": "code",
   "execution_count": null,
   "metadata": {},
   "outputs": [],
   "source": []
  },
  {
   "cell_type": "code",
   "execution_count": 93,
   "metadata": {},
   "outputs": [
    {
     "name": "stderr",
     "output_type": "stream",
     "text": [
      "/home/ssm-user/anaconda3/envs/single_cell/lib/python3.8/site-packages/pandas/core/arrays/categorical.py:2487: FutureWarning: The `inplace` parameter in pandas.Categorical.remove_unused_categories is deprecated and will be removed in a future version.\n",
      "  res = method(*args, **kwargs)\n"
     ]
    }
   ],
   "source": [
    "for t in available_tfs:\n",
    "    \n",
    "    t = 'STAT1'\n",
    "    expr = adata_stim[:, t].X.todense().A1\n",
    "    bins = np.linspace(0, expr.max(), 3)\n",
    "    classes = np.digitize(expr, bins)\n",
    "    \n",
    "    break"
   ]
  },
  {
   "cell_type": "code",
   "execution_count": 94,
   "metadata": {},
   "outputs": [
    {
     "data": {
      "text/plain": [
       "0    1019\n",
       "1     970\n",
       "3     796\n",
       "2     647\n",
       "dtype: int64"
      ]
     },
     "execution_count": 94,
     "metadata": {},
     "output_type": "execute_result"
    }
   ],
   "source": [
    "pd.qcut(pd.Series(expr), q=4, labels=range(4),duplicates='raise').value_counts()"
   ]
  },
  {
   "cell_type": "code",
   "execution_count": 79,
   "metadata": {},
   "outputs": [
    {
     "data": {
      "text/plain": [
       "0    1019\n",
       "1     970\n",
       "3     796\n",
       "2     647\n",
       "dtype: int64"
      ]
     },
     "execution_count": 79,
     "metadata": {},
     "output_type": "execute_result"
    }
   ],
   "source": [
    "pd.qcut(pd.Series(expr), q=4, labels=list(range(4))).value_counts()"
   ]
  },
  {
   "cell_type": "code",
   "execution_count": 55,
   "metadata": {},
   "outputs": [
    {
     "data": {
      "text/plain": [
       "(array([2.139e+03, 5.650e+02, 3.170e+02, 2.940e+02, 5.900e+01, 3.000e+01,\n",
       "        2.200e+01, 3.000e+00, 2.000e+00, 1.000e+00]),\n",
       " array([ 0. ,  1.3,  2.6,  3.9,  5.2,  6.5,  7.8,  9.1, 10.4, 11.7, 13. ],\n",
       "       dtype=float32),\n",
       " <BarContainer object of 10 artists>)"
      ]
     },
     "execution_count": 55,
     "metadata": {},
     "output_type": "execute_result"
    },
    {
     "data": {
      "image/png": "[encoded data removed]",
      "text/plain": [
       "<Figure size 432x288 with 1 Axes>"
      ]
     },
     "metadata": {
      "needs_background": "light"
     },
     "output_type": "display_data"
    }
   ],
   "source": [
    "plt.hist(adata_stim[:, 'STAT2'].X.todense().A1)"
   ]
  },
  {
   "cell_type": "code",
   "execution_count": 48,
   "metadata": {},
   "outputs": [
    {
     "data": {
      "text/plain": [
       "gene_1\n",
       "STAT1       0.402290\n",
       "ATF4        0.354942\n",
       "RFX5        0.334734\n",
       "SP100       0.333218\n",
       "CEBPB       0.310522\n",
       "NR2F6       0.300047\n",
       "ELF3        0.292823\n",
       "STAT2       0.289915\n",
       "ZNF672      0.288805\n",
       "PAX9        0.270205\n",
       "MBD2        0.267381\n",
       "CIITA       0.261883\n",
       "CSDE1       0.254442\n",
       "ID1         0.253570\n",
       "RBCK1       0.242807\n",
       "XBP1        0.242522\n",
       "ZFP36L1     0.238454\n",
       "PARP12      0.237730\n",
       "KLF5        0.237336\n",
       "RELB        0.236929\n",
       "KLF3        0.235352\n",
       "USF1        0.235237\n",
       "NFE2L3      0.234522\n",
       "PBX2        0.232134\n",
       "NFIC        0.230226\n",
       "DNAJC1      0.229701\n",
       "CENPX       0.229657\n",
       "TOX3        0.223552\n",
       "SP1         0.221943\n",
       "SPDEF       0.219686\n",
       "HES4        0.216630\n",
       "BATF        0.214122\n",
       "NFKB2       0.213327\n",
       "ARID5B      0.212547\n",
       "CEBPD       0.212357\n",
       "AHR         0.210425\n",
       "KLF4        0.209886\n",
       "EHF         0.209837\n",
       "ZNF358      0.207379\n",
       "DBP         0.205558\n",
       "IRF3        0.205385\n",
       "ZNF618      0.204397\n",
       "IRF9        0.204255\n",
       "NR2F2       0.203245\n",
       "IRF2        0.202391\n",
       "WIZ         0.199928\n",
       "ZNF644      0.197271\n",
       "PRRX2       0.197068\n",
       "MXD1        0.195751\n",
       "ELK4        0.195437\n",
       "JDP2        0.193948\n",
       "SP110       0.193208\n",
       "GPBP1L1     0.192526\n",
       "AFF1        0.191666\n",
       "BBX         0.191567\n",
       "TERF2       0.191301\n",
       "ZBTB7A      0.190459\n",
       "YY1         0.189229\n",
       "TSC22D4     0.187288\n",
       "FOXN3       0.186273\n",
       "ZBTB7C      0.186113\n",
       "BAZ2A       0.182071\n",
       "SMAD4       0.181636\n",
       "SLC2A4RG    0.180681\n",
       "ZHX1        0.180456\n",
       "CSRNP1      0.180450\n",
       "THAP4       0.179967\n",
       "NFE2L1      0.179753\n",
       "MAFF        0.179743\n",
       "RARG        0.179338\n",
       "ZBTB38      0.178641\n",
       "FOXC1       0.178373\n",
       "MAF1        0.178298\n",
       "TCF7L1      0.176158\n",
       "TSC22D3     0.175996\n",
       "MTA3        0.175877\n",
       "BHLHE40     0.175450\n",
       "PLSCR1      0.174954\n",
       "CREB3L1     0.173677\n",
       "ZNFX1       0.171747\n",
       "ZBTB7B      0.170781\n",
       "JUND        0.170574\n",
       "ZNF706      0.169696\n",
       "TEAD3       0.168621\n",
       "HBP1        0.168436\n",
       "LITAF       0.168109\n",
       "AFF4        0.166265\n",
       "KLF10       0.165606\n",
       "IRF1        0.165449\n",
       "STAT6       0.164496\n",
       "MAX         0.163353\n",
       "TGIF1       0.162718\n",
       "LRRFIP1     0.162607\n",
       "SMARCA1     0.161783\n",
       "JUNB        0.160816\n",
       "NKX2-1      0.158755\n",
       "ADNP2       0.157096\n",
       "CNBP        0.156912\n",
       "NR4A1       0.156870\n",
       "TSHZ2       0.156534\n",
       "Name: group_1, dtype: float64"
      ]
     },
     "execution_count": 48,
     "metadata": {},
     "output_type": "execute_result"
    }
   ],
   "source": [
    "corr_df.groupby('gene_1').group_1.mean().sort_values(ascending=False).head(100)"
   ]
  },
  {
   "cell_type": "code",
   "execution_count": null,
   "metadata": {},
   "outputs": [],
   "source": []
  }
 ],
 "metadata": {
  "kernelspec": {
   "display_name": "Python 3",
   "language": "python",
   "name": "python3"
  },
  "language_info": {
   "codemirror_mode": {
    "name": "ipython",
    "version": 3
   },
   "file_extension": ".py",
   "mimetype": "text/x-python",
   "name": "python",
   "nbconvert_exporter": "python",
   "pygments_lexer": "ipython3",
   "version": "3.8.8"
  }
 },
 "nbformat": 4,
 "nbformat_minor": 4
}
