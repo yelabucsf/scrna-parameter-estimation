{
 "cells": [
  {
   "cell_type": "markdown",
   "metadata": {},
   "source": [
    "# Select ISGs"
   ]
  },
  {
   "cell_type": "code",
   "execution_count": 1,
   "metadata": {},
   "outputs": [],
   "source": [
    "import scanpy as sc\n",
    "import seaborn as sns\n",
    "import pandas as pd\n",
    "import matplotlib.pyplot as plt\n",
    "import numpy as np\n",
    "import scipy.stats as stats\n",
    "from pybedtools import BedTool\n",
    "import pickle as pkl\n",
    "%matplotlib inline\n",
    "import itertools\n",
    "\n",
    "import statsmodels.formula.api as smf\n",
    "import statsmodels.api as sm\n",
    "pd.set_option('display.max_rows', 600)"
   ]
  },
  {
   "cell_type": "code",
   "execution_count": 8,
   "metadata": {},
   "outputs": [],
   "source": [
    "import sys\n",
    "sys.path.append('/home/ssm-user/Github/scrna-parameter-estimation/dist/memento-0.0.8-py3.8.egg')\n",
    "sys.path.append('/home/ssm-user/Github/misc-seq/miscseq')\n",
    "import encode\n",
    "import memento"
   ]
  },
  {
   "cell_type": "code",
   "execution_count": 9,
   "metadata": {},
   "outputs": [],
   "source": [
    "data_path = '/data_volume/memento/hbec/'\n",
    "# fig_path = '/data/home/Github/scrna-parameter-estimation/figures/fig6/'"
   ]
  },
  {
   "cell_type": "code",
   "execution_count": 10,
   "metadata": {},
   "outputs": [],
   "source": [
    "import matplotlib\n",
    "matplotlib.rcParams['pdf.fonttype'] = 42\n",
    "matplotlib.rcParams['ps.fonttype'] = 42"
   ]
  },
  {
   "cell_type": "code",
   "execution_count": 11,
   "metadata": {},
   "outputs": [],
   "source": [
    "import matplotlib.pylab as pylab\n",
    "params = {'legend.fontsize': 'medium',\n",
    "         'axes.labelsize': 'medium',\n",
    "         'axes.titlesize':'medium',\n",
    "         'figure.titlesize':'medium',\n",
    "         'xtick.labelsize':'small',\n",
    "         'ytick.labelsize':'small'}\n",
    "pylab.rcParams.update(params)"
   ]
  },
  {
   "cell_type": "markdown",
   "metadata": {},
   "source": [
    "### Read 1D HT results"
   ]
  },
  {
   "cell_type": "code",
   "execution_count": 13,
   "metadata": {},
   "outputs": [],
   "source": [
    "cts = ['C', 'B', 'BC', 'all_ct']\n",
    "tps = [ '3', '6', '9', '24', '48']\n",
    "stims = ['alpha', 'beta', 'gamma', 'lambda']"
   ]
  },
  {
   "cell_type": "code",
   "execution_count": 14,
   "metadata": {},
   "outputs": [],
   "source": [
    "def read_result():\n",
    "    \n",
    "    ht_dict = {}\n",
    "    moments_dict = {}\n",
    "    \n",
    "    for stim in stims:\n",
    "        adata_subset = sc.read(data_path + '/binary_test_latest/C_{}_3.h5ad'.format(stim))\n",
    "        ht_dict[stim] = memento.get_1d_ht_result(adata_subset)\n",
    "        ht_dict[stim]['de_fdr'] = memento.util._fdrcorrect(ht_dict[stim]['de_pval'])\n",
    "        ht_dict[stim]['dv_fdr'] = memento.util._fdrcorrect(ht_dict[stim]['dv_pval'])\n",
    "        ht_dict[stim]= ht_dict[stim][(ht_dict[stim]['de_coef'].abs() < 100) & (ht_dict[stim]['dv_coef'].abs() < 100)]\n",
    "#         moments_dict[stim] = memento.get_1d_moments(adata_subset, groupby='stim_indicator')\n",
    "    return ht_dict,moments_dict"
   ]
  },
  {
   "cell_type": "code",
   "execution_count": 15,
   "metadata": {},
   "outputs": [],
   "source": [
    "ht, moments = read_result()"
   ]
  },
  {
   "cell_type": "code",
   "execution_count": 17,
   "metadata": {},
   "outputs": [],
   "source": [
    "stim = 'beta'\n",
    "tp = '3'"
   ]
  },
  {
   "cell_type": "markdown",
   "metadata": {},
   "source": [
    "### Get DE genes"
   ]
  },
  {
   "cell_type": "code",
   "execution_count": 22,
   "metadata": {},
   "outputs": [],
   "source": [
    "de_genes = ht['beta'].query('de_coef > 0.5 & de_fdr < 0.05')"
   ]
  },
  {
   "cell_type": "code",
   "execution_count": 23,
   "metadata": {},
   "outputs": [
    {
     "data": {
      "text/plain": [
       "(577, 9)"
      ]
     },
     "execution_count": 23,
     "metadata": {},
     "output_type": "execute_result"
    }
   ],
   "source": [
    "de_genes.shape"
   ]
  },
  {
   "cell_type": "markdown",
   "metadata": {},
   "source": [
    "### Variability over time"
   ]
  },
  {
   "cell_type": "code",
   "execution_count": 18,
   "metadata": {},
   "outputs": [],
   "source": [
    "import functools"
   ]
  },
  {
   "cell_type": "code",
   "execution_count": 19,
   "metadata": {},
   "outputs": [],
   "source": [
    "tps = ['3', '6', '9', '24', '48']"
   ]
  },
  {
   "cell_type": "code",
   "execution_count": 26,
   "metadata": {},
   "outputs": [],
   "source": [
    "ct = 'C'\n",
    "all_tp_ht = []\n",
    "for tp in tps:\n",
    "    ht = [\n",
    "        memento.get_1d_ht_result(\n",
    "            sc.read(data_path + 'binary_test_latest/{}_{}_{}.h5ad'.format(ct, stim, tp)))\\\n",
    "            .rename(columns={'dv_coef':'lfc_{}_{}'.format(stim, tp)})[['gene', 'lfc_{}_{}'.format(stim,tp)]] \\\n",
    "        for stim in ['beta']]\n",
    "    lfc = functools.reduce( lambda x,y: x.merge(y, on='gene'), ht,).query('gene in @all_isg')\n",
    "    all_tp_ht.append(lfc)"
   ]
  },
  {
   "cell_type": "code",
   "execution_count": 27,
   "metadata": {},
   "outputs": [],
   "source": [
    "all_tp_ht = functools.reduce( lambda x,y: x.merge(y, on='gene'), all_tp_ht)"
   ]
  },
  {
   "cell_type": "code",
   "execution_count": 49,
   "metadata": {},
   "outputs": [],
   "source": [
    "all_tp_ht['increasing'] = all_tp_ht.apply(lambda row: stats.pearsonr(np.arange(5), row.iloc[1:6])[0], axis=1)\n",
    "all_tp_ht['increasing'] = all_tp_ht['lfc_beta_48'] - all_tp_ht['lfc_beta_3']"
   ]
  },
  {
   "cell_type": "code",
   "execution_count": 72,
   "metadata": {},
   "outputs": [
    {
     "data": {
      "text/html": [
       "<div>\n",
       "<style scoped>\n",
       "    .dataframe tbody tr th:only-of-type {\n",
       "        vertical-align: middle;\n",
       "    }\n",
       "\n",
       "    .dataframe tbody tr th {\n",
       "        vertical-align: top;\n",
       "    }\n",
       "\n",
       "    .dataframe thead th {\n",
       "        text-align: right;\n",
       "    }\n",
       "</style>\n",
       "<table border=\"1\" class=\"dataframe\">\n",
       "  <thead>\n",
       "    <tr style=\"text-align: right;\">\n",
       "      <th></th>\n",
       "      <th>gene</th>\n",
       "      <th>lfc_beta_3</th>\n",
       "      <th>lfc_beta_6</th>\n",
       "      <th>lfc_beta_9</th>\n",
       "      <th>lfc_beta_24</th>\n",
       "      <th>lfc_beta_48</th>\n",
       "      <th>increasing</th>\n",
       "    </tr>\n",
       "  </thead>\n",
       "  <tbody>\n",
       "    <tr>\n",
       "      <th>162</th>\n",
       "      <td>CXCL10</td>\n",
       "      <td>2.406248</td>\n",
       "      <td>2.310029</td>\n",
       "      <td>2.335257</td>\n",
       "      <td>2.747541</td>\n",
       "      <td>2.161789</td>\n",
       "      <td>-0.244458</td>\n",
       "    </tr>\n",
       "  </tbody>\n",
       "</table>\n",
       "</div>"
      ],
      "text/plain": [
       "       gene  lfc_beta_3  lfc_beta_6  lfc_beta_9  lfc_beta_24  lfc_beta_48  \\\n",
       "162  CXCL10    2.406248    2.310029    2.335257     2.747541     2.161789   \n",
       "\n",
       "     increasing  \n",
       "162   -0.244458  "
      ]
     },
     "execution_count": 72,
     "metadata": {},
     "output_type": "execute_result"
    }
   ],
   "source": [
    "all_tp_ht.query('gene == \"CXCL10\"')"
   ]
  },
  {
   "cell_type": "code",
   "execution_count": 71,
   "metadata": {},
   "outputs": [
    {
     "data": {
      "text/html": [
       "<div>\n",
       "<style scoped>\n",
       "    .dataframe tbody tr th:only-of-type {\n",
       "        vertical-align: middle;\n",
       "    }\n",
       "\n",
       "    .dataframe tbody tr th {\n",
       "        vertical-align: top;\n",
       "    }\n",
       "\n",
       "    .dataframe thead th {\n",
       "        text-align: right;\n",
       "    }\n",
       "</style>\n",
       "<table border=\"1\" class=\"dataframe\">\n",
       "  <thead>\n",
       "    <tr style=\"text-align: right;\">\n",
       "      <th></th>\n",
       "      <th>gene</th>\n",
       "      <th>lfc_beta_3</th>\n",
       "      <th>lfc_beta_6</th>\n",
       "      <th>lfc_beta_9</th>\n",
       "      <th>lfc_beta_24</th>\n",
       "      <th>lfc_beta_48</th>\n",
       "      <th>increasing</th>\n",
       "    </tr>\n",
       "  </thead>\n",
       "  <tbody>\n",
       "    <tr>\n",
       "      <th>648</th>\n",
       "      <td>MX1</td>\n",
       "      <td>-1.880321</td>\n",
       "      <td>-1.797503</td>\n",
       "      <td>-1.392978</td>\n",
       "      <td>-1.120591</td>\n",
       "      <td>-1.033780</td>\n",
       "      <td>0.846541</td>\n",
       "    </tr>\n",
       "    <tr>\n",
       "      <th>308</th>\n",
       "      <td>PRNCR1</td>\n",
       "      <td>0.293224</td>\n",
       "      <td>0.852778</td>\n",
       "      <td>0.708605</td>\n",
       "      <td>-0.392307</td>\n",
       "      <td>1.186740</td>\n",
       "      <td>0.893516</td>\n",
       "    </tr>\n",
       "    <tr>\n",
       "      <th>459</th>\n",
       "      <td>RNF31</td>\n",
       "      <td>-0.023837</td>\n",
       "      <td>-0.263799</td>\n",
       "      <td>0.597457</td>\n",
       "      <td>0.335139</td>\n",
       "      <td>0.897984</td>\n",
       "      <td>0.921820</td>\n",
       "    </tr>\n",
       "    <tr>\n",
       "      <th>382</th>\n",
       "      <td>TRIM5</td>\n",
       "      <td>-0.478316</td>\n",
       "      <td>-0.502150</td>\n",
       "      <td>0.309775</td>\n",
       "      <td>-0.292319</td>\n",
       "      <td>0.465455</td>\n",
       "      <td>0.943771</td>\n",
       "    </tr>\n",
       "    <tr>\n",
       "      <th>309</th>\n",
       "      <td>DENND3</td>\n",
       "      <td>-1.270507</td>\n",
       "      <td>-1.436133</td>\n",
       "      <td>-0.670210</td>\n",
       "      <td>-0.749618</td>\n",
       "      <td>-0.324573</td>\n",
       "      <td>0.945935</td>\n",
       "    </tr>\n",
       "    <tr>\n",
       "      <th>568</th>\n",
       "      <td>RNF213</td>\n",
       "      <td>-1.155217</td>\n",
       "      <td>-1.063557</td>\n",
       "      <td>-0.450297</td>\n",
       "      <td>-0.444140</td>\n",
       "      <td>-0.207769</td>\n",
       "      <td>0.947448</td>\n",
       "    </tr>\n",
       "    <tr>\n",
       "      <th>28</th>\n",
       "      <td>IFI44L</td>\n",
       "      <td>-2.738668</td>\n",
       "      <td>-2.753924</td>\n",
       "      <td>-2.107204</td>\n",
       "      <td>-2.052014</td>\n",
       "      <td>-1.780415</td>\n",
       "      <td>0.958253</td>\n",
       "    </tr>\n",
       "    <tr>\n",
       "      <th>230</th>\n",
       "      <td>PSMB8-AS1</td>\n",
       "      <td>-0.483825</td>\n",
       "      <td>0.010554</td>\n",
       "      <td>0.091550</td>\n",
       "      <td>0.697776</td>\n",
       "      <td>0.480743</td>\n",
       "      <td>0.964568</td>\n",
       "    </tr>\n",
       "    <tr>\n",
       "      <th>73</th>\n",
       "      <td>RAB29</td>\n",
       "      <td>-0.853689</td>\n",
       "      <td>-0.810197</td>\n",
       "      <td>0.471186</td>\n",
       "      <td>0.097888</td>\n",
       "      <td>0.195892</td>\n",
       "      <td>1.049581</td>\n",
       "    </tr>\n",
       "    <tr>\n",
       "      <th>205</th>\n",
       "      <td>HIST1H1C</td>\n",
       "      <td>-0.549644</td>\n",
       "      <td>-0.145520</td>\n",
       "      <td>-0.091748</td>\n",
       "      <td>-0.104019</td>\n",
       "      <td>0.602188</td>\n",
       "      <td>1.151833</td>\n",
       "    </tr>\n",
       "    <tr>\n",
       "      <th>463</th>\n",
       "      <td>GCH1</td>\n",
       "      <td>-0.631398</td>\n",
       "      <td>0.519865</td>\n",
       "      <td>0.267347</td>\n",
       "      <td>0.533537</td>\n",
       "      <td>0.521746</td>\n",
       "      <td>1.153144</td>\n",
       "    </tr>\n",
       "    <tr>\n",
       "      <th>673</th>\n",
       "      <td>SREBF2</td>\n",
       "      <td>-0.510656</td>\n",
       "      <td>0.680362</td>\n",
       "      <td>0.348420</td>\n",
       "      <td>0.516320</td>\n",
       "      <td>0.653608</td>\n",
       "      <td>1.164264</td>\n",
       "    </tr>\n",
       "    <tr>\n",
       "      <th>11</th>\n",
       "      <td>CLCN6</td>\n",
       "      <td>-0.800047</td>\n",
       "      <td>0.850021</td>\n",
       "      <td>0.367666</td>\n",
       "      <td>0.574733</td>\n",
       "      <td>0.365059</td>\n",
       "      <td>1.165106</td>\n",
       "    </tr>\n",
       "    <tr>\n",
       "      <th>138</th>\n",
       "      <td>PLSCR4</td>\n",
       "      <td>-0.824593</td>\n",
       "      <td>-0.073516</td>\n",
       "      <td>0.622186</td>\n",
       "      <td>-1.194163</td>\n",
       "      <td>0.405684</td>\n",
       "      <td>1.230277</td>\n",
       "    </tr>\n",
       "    <tr>\n",
       "      <th>89</th>\n",
       "      <td>TGFA</td>\n",
       "      <td>-0.757331</td>\n",
       "      <td>0.701803</td>\n",
       "      <td>-0.021241</td>\n",
       "      <td>0.339679</td>\n",
       "      <td>0.487624</td>\n",
       "      <td>1.244955</td>\n",
       "    </tr>\n",
       "    <tr>\n",
       "      <th>318</th>\n",
       "      <td>ANKRD18B</td>\n",
       "      <td>-1.236544</td>\n",
       "      <td>0.892889</td>\n",
       "      <td>-0.043874</td>\n",
       "      <td>0.455069</td>\n",
       "      <td>0.506988</td>\n",
       "      <td>1.743533</td>\n",
       "    </tr>\n",
       "    <tr>\n",
       "      <th>444</th>\n",
       "      <td>CHFR</td>\n",
       "      <td>-1.609195</td>\n",
       "      <td>-0.410194</td>\n",
       "      <td>-1.473488</td>\n",
       "      <td>-0.369148</td>\n",
       "      <td>0.208194</td>\n",
       "      <td>1.817389</td>\n",
       "    </tr>\n",
       "    <tr>\n",
       "      <th>214</th>\n",
       "      <td>HIST1H2BJ</td>\n",
       "      <td>-0.692370</td>\n",
       "      <td>-0.194460</td>\n",
       "      <td>0.232170</td>\n",
       "      <td>-0.025771</td>\n",
       "      <td>1.138802</td>\n",
       "      <td>1.831173</td>\n",
       "    </tr>\n",
       "    <tr>\n",
       "      <th>455</th>\n",
       "      <td>HOMEZ</td>\n",
       "      <td>-1.245608</td>\n",
       "      <td>0.702079</td>\n",
       "      <td>-0.858704</td>\n",
       "      <td>-0.004577</td>\n",
       "      <td>0.601314</td>\n",
       "      <td>1.846922</td>\n",
       "    </tr>\n",
       "    <tr>\n",
       "      <th>200</th>\n",
       "      <td>RGS14</td>\n",
       "      <td>-1.265342</td>\n",
       "      <td>0.655479</td>\n",
       "      <td>0.761703</td>\n",
       "      <td>0.915668</td>\n",
       "      <td>0.759115</td>\n",
       "      <td>2.024457</td>\n",
       "    </tr>\n",
       "  </tbody>\n",
       "</table>\n",
       "</div>"
      ],
      "text/plain": [
       "          gene  lfc_beta_3  lfc_beta_6  lfc_beta_9  lfc_beta_24  lfc_beta_48  \\\n",
       "648        MX1   -1.880321   -1.797503   -1.392978    -1.120591    -1.033780   \n",
       "308     PRNCR1    0.293224    0.852778    0.708605    -0.392307     1.186740   \n",
       "459      RNF31   -0.023837   -0.263799    0.597457     0.335139     0.897984   \n",
       "382      TRIM5   -0.478316   -0.502150    0.309775    -0.292319     0.465455   \n",
       "309     DENND3   -1.270507   -1.436133   -0.670210    -0.749618    -0.324573   \n",
       "568     RNF213   -1.155217   -1.063557   -0.450297    -0.444140    -0.207769   \n",
       "28      IFI44L   -2.738668   -2.753924   -2.107204    -2.052014    -1.780415   \n",
       "230  PSMB8-AS1   -0.483825    0.010554    0.091550     0.697776     0.480743   \n",
       "73       RAB29   -0.853689   -0.810197    0.471186     0.097888     0.195892   \n",
       "205   HIST1H1C   -0.549644   -0.145520   -0.091748    -0.104019     0.602188   \n",
       "463       GCH1   -0.631398    0.519865    0.267347     0.533537     0.521746   \n",
       "673     SREBF2   -0.510656    0.680362    0.348420     0.516320     0.653608   \n",
       "11       CLCN6   -0.800047    0.850021    0.367666     0.574733     0.365059   \n",
       "138     PLSCR4   -0.824593   -0.073516    0.622186    -1.194163     0.405684   \n",
       "89        TGFA   -0.757331    0.701803   -0.021241     0.339679     0.487624   \n",
       "318   ANKRD18B   -1.236544    0.892889   -0.043874     0.455069     0.506988   \n",
       "444       CHFR   -1.609195   -0.410194   -1.473488    -0.369148     0.208194   \n",
       "214  HIST1H2BJ   -0.692370   -0.194460    0.232170    -0.025771     1.138802   \n",
       "455      HOMEZ   -1.245608    0.702079   -0.858704    -0.004577     0.601314   \n",
       "200      RGS14   -1.265342    0.655479    0.761703     0.915668     0.759115   \n",
       "\n",
       "     increasing  \n",
       "648    0.846541  \n",
       "308    0.893516  \n",
       "459    0.921820  \n",
       "382    0.943771  \n",
       "309    0.945935  \n",
       "568    0.947448  \n",
       "28     0.958253  \n",
       "230    0.964568  \n",
       "73     1.049581  \n",
       "205    1.151833  \n",
       "463    1.153144  \n",
       "673    1.164264  \n",
       "11     1.165106  \n",
       "138    1.230277  \n",
       "89     1.244955  \n",
       "318    1.743533  \n",
       "444    1.817389  \n",
       "214    1.831173  \n",
       "455    1.846922  \n",
       "200    2.024457  "
      ]
     },
     "execution_count": 71,
     "metadata": {},
     "output_type": "execute_result"
    }
   ],
   "source": [
    "all_tp_ht.sort_values('increasing').tail(20)"
   ]
  },
  {
   "cell_type": "markdown",
   "metadata": {},
   "source": [
    "### Variability UMAP\n",
    "\n",
    "PARP6"
   ]
  },
  {
   "cell_type": "code",
   "execution_count": 6,
   "metadata": {},
   "outputs": [],
   "source": [
    "ct = 'BC'\n",
    "stim = 'beta'"
   ]
  },
  {
   "cell_type": "code",
   "execution_count": 7,
   "metadata": {},
   "outputs": [],
   "source": [
    "adata = sc.read(data_path + 'HBEC_type_I_processed_deep.h5ad')"
   ]
  },
  {
   "cell_type": "code",
   "execution_count": 8,
   "metadata": {},
   "outputs": [],
   "source": [
    "converter = {'basal/club':'BC', 'basal':'B', 'ciliated':'C', 'goblet':'G', 'ionocyte/tuft':'IT', 'neuroendo':'N', 'club':'club'}"
   ]
  },
  {
   "cell_type": "code",
   "execution_count": 9,
   "metadata": {},
   "outputs": [],
   "source": [
    "adata.obs['ct'] = adata.obs['cell_type'].apply(lambda x: converter[x])\n",
    "# adata_processed.obs['ct'] = adata_processed.obs['cell_type'].apply(lambda x: converter[x])"
   ]
  },
  {
   "cell_type": "code",
   "execution_count": 82,
   "metadata": {},
   "outputs": [
    {
     "name": "stdout",
     "output_type": "stream",
     "text": [
      "1.6736808371543854\n",
      "1.6736808371543854\n",
      "1.6736808371543854\n",
      "1.6736808371543854\n",
      "1.6736808371543854\n"
     ]
    },
    {
     "data": {
      "image/png": "[encoded data removed]",
      "text/plain": [
       "<Figure size 432x108 with 5 Axes>"
      ]
     },
     "metadata": {
      "needs_background": "light"
     },
     "output_type": "display_data"
    }
   ],
   "source": [
    "tps = ['3', '6', '9', '24', '48']\n",
    "plt.figure(figsize=(6,1.5))\n",
    "\n",
    "for idx, tp in enumerate(tps):\n",
    "    plt.subplot(1, 5, idx+1)\n",
    "    X_umap = adata.obsm['X_umap']\n",
    "    expr = np.exp(adata.raw[:, 'PARP6'].X.todense().A1)-1\n",
    "#     expr = adata.raw[:, 'CXCL10'].X.todense().A1\n",
    "    stim = adata.obs.stim == 'beta'\n",
    "    time = adata.obs.time == tp\n",
    "    ct = adata.obs.ct == 'BC'\n",
    "    combined = expr * stim * time * ct\n",
    "    \n",
    "    adata.obs['intensity'] = combined\n",
    "    adata.obs['is_time'] = (time*ct*stim).astype(int)\n",
    "    order = np.argsort(combined)#[time*ct*stim]\n",
    "    plt.scatter(X_umap[order, 0], X_umap[order, 1], s=1, c=combined[order], cmap='cividis', vmax=1.5)\n",
    "    plt.axis('off'); #plt.xlim(-5, 5); plt.ylim(-7, 1); \n",
    "    plt.title('{} hr'.format(tp))\n",
    "    print(np.quantile(expr, 0.99))\n",
    "    plt.savefig('parp6_umaps.png', bbox_inches='tight', dpi=1000)"
   ]
  },
  {
   "cell_type": "code",
   "execution_count": 81,
   "metadata": {},
   "outputs": [
    {
     "name": "stdout",
     "output_type": "stream",
     "text": [
      "3.6853432130813553\n",
      "3.6853432130813553\n",
      "3.6853432130813553\n",
      "3.6853432130813553\n",
      "3.6853432130813553\n"
     ]
    },
    {
     "data": {
      "image/png": "[encoded data removed]",
      "text/plain": [
       "<Figure size 432x108 with 5 Axes>"
      ]
     },
     "metadata": {
      "needs_background": "light"
     },
     "output_type": "display_data"
    }
   ],
   "source": [
    "tps = ['3', '6', '9', '24', '48']\n",
    "plt.figure(figsize=(6,1.5))\n",
    "\n",
    "for idx, tp in enumerate(tps):\n",
    "    plt.subplot(1, 5, idx+1)\n",
    "    X_umap = adata.obsm['X_umap']\n",
    "    expr = np.exp(adata.raw[:, 'TRIM5'].X.todense().A1)-1\n",
    "#     expr = adata.raw[:, 'CXCL10'].X.todense().A1\n",
    "    stim = adata.obs.stim == 'beta'\n",
    "    time = adata.obs.time == tp\n",
    "    ct = adata.obs.ct == 'BC'\n",
    "    combined = expr * stim * time * ct\n",
    "    \n",
    "    adata.obs['intensity'] = combined\n",
    "    adata.obs['is_time'] = (time*ct*stim).astype(int)\n",
    "    order = np.argsort(combined)#[time*ct*stim]\n",
    "    plt.scatter(X_umap[order, 0], X_umap[order, 1], s=1, c=combined[order], cmap='cividis', vmax=3)\n",
    "    plt.axis('off'); #plt.xlim(-5, 5); plt.ylim(-7, 1); \n",
    "    plt.title('{} hr'.format(tp))\n",
    "    print(np.quantile(expr, 0.99))\n",
    "plt.savefig('trim5_umaps.png', bbox_inches='tight', dpi=1000)"
   ]
  },
  {
   "cell_type": "code",
   "execution_count": 10,
   "metadata": {},
   "outputs": [
    {
     "data": {
      "image/png": "[encoded data removed]",
      "text/plain": [
       "<Figure size 432x108 with 5 Axes>"
      ]
     },
     "metadata": {
      "needs_background": "light"
     },
     "output_type": "display_data"
    }
   ],
   "source": [
    "tps = ['3', '6', '9', '24', '48']\n",
    "plt.figure(figsize=(6,1.5))\n",
    "\n",
    "for idx, tp in enumerate(tps):\n",
    "    plt.subplot(1, 5, idx+1)\n",
    "    X_umap = adata.obsm['X_umap']\n",
    "    expr = np.exp(adata.raw[:, 'CXCL10'].X.todense().A1)-1\n",
    "#     expr = adata.raw[:, 'CXCL10'].X.todense().A1\n",
    "    stim = adata.obs.stim == 'beta'\n",
    "    time = adata.obs.time == tp\n",
    "    ct = adata.obs.ct == 'BC'\n",
    "    combined = expr * stim * time * ct\n",
    "    \n",
    "    adata.obs['intensity'] = combined\n",
    "    adata.obs['is_time'] = (time*ct*stim).astype(int)\n",
    "    order = np.argsort(combined)#[time*ct*stim]\n",
    "    plt.scatter(X_umap[order, 0], X_umap[order, 1], s=1, c=combined[order], cmap='cividis', vmax=100)\n",
    "    plt.axis('off'); #plt.xlim(-5, 5); plt.ylim(-7, 1); \n",
    "    plt.title('{} hr'.format(tp))\n",
    "plt.savefig('cxcl10_umaps.png', bbox_inches='tight', dpi=1000)"
   ]
  },
  {
   "cell_type": "code",
   "execution_count": 109,
   "metadata": {},
   "outputs": [
    {
     "data": {
      "image/png": "[encoded data removed]",
      "text/plain": [
       "<Figure size 288x108 with 2 Axes>"
      ]
     },
     "metadata": {
      "needs_background": "light"
     },
     "output_type": "display_data"
    }
   ],
   "source": [
    "plt.figure(figsize=(4,1.5))\n",
    "plt.scatter(X_umap[order, 0], X_umap[order, 1], s=1, c=combined[order], cmap='cividis', vmax=100)\n",
    "plt.colorbar()\n",
    "plt.savefig('cxcl10_cbar.png', bbox_inches='tight', dpi=1000)"
   ]
  },
  {
   "cell_type": "code",
   "execution_count": 25,
   "metadata": {},
   "outputs": [],
   "source": [
    "expr = adata.raw[:, 'CXCL10'].X.todense().A1\n",
    "beta_stim = adata.obs.stim == 'beta'\n",
    "time = adata.obs.time == tp\n",
    "ct = adata.obs.ct == 'BC'\n",
    "combined = expr * beta_stim * time"
   ]
  },
  {
   "cell_type": "code",
   "execution_count": 26,
   "metadata": {},
   "outputs": [],
   "source": [
    "adata.obs['intensity'] = combined"
   ]
  },
  {
   "cell_type": "code",
   "execution_count": 28,
   "metadata": {},
   "outputs": [
    {
     "data": {
      "image/png": "[encoded data removed]",
      "text/plain": [
       "<Figure size 432x288 with 2 Axes>"
      ]
     },
     "metadata": {
      "needs_background": "light"
     },
     "output_type": "display_data"
    }
   ],
   "source": [
    "sc.pl.umap(adata, color='intensity', cmap='Reds', vmin=0, vmax=3)"
   ]
  },
  {
   "cell_type": "code",
   "execution_count": null,
   "metadata": {},
   "outputs": [],
   "source": []
  },
  {
   "cell_type": "code",
   "execution_count": null,
   "metadata": {},
   "outputs": [],
   "source": []
  },
  {
   "cell_type": "code",
   "execution_count": 28,
   "metadata": {},
   "outputs": [],
   "source": [
    "converter = {'basal/club':'BC', 'basal':'B', 'ciliated':'C', 'goblet':'G', 'ionocyte/tuft':'IT', 'neuroendo':'N'}"
   ]
  },
  {
   "cell_type": "code",
   "execution_count": 29,
   "metadata": {},
   "outputs": [],
   "source": [
    "adata.obs['ct'] = adata.obs['cell_type'].apply(lambda x: converter[x])\n",
    "# adata_processed.obs['ct'] = adata_processed.obs['cell_type'].apply(lambda x: converter[x])"
   ]
  },
  {
   "cell_type": "code",
   "execution_count": 30,
   "metadata": {},
   "outputs": [
    {
     "name": "stderr",
     "output_type": "stream",
     "text": [
      "/home/ssm-user/anaconda3/envs/single_cell/lib/python3.8/site-packages/pandas/core/arrays/categorical.py:2487: FutureWarning: The `inplace` parameter in pandas.Categorical.remove_unused_categories is deprecated and will be removed in a future version.\n",
      "  res = method(*args, **kwargs)\n"
     ]
    }
   ],
   "source": [
    "adata = adata[(adata.obs['ct'] == ct) & (adata.obs['stim'] == stim)].copy()"
   ]
  },
  {
   "cell_type": "code",
   "execution_count": 32,
   "metadata": {},
   "outputs": [],
   "source": [
    "sc.pp.normalize_total(adata, target_sum=1e4)\n",
    "sc.pp.log1p(adata)\n",
    "sc.pp.highly_variable_genes(adata, min_mean=0.0125, max_mean=3, min_disp=0.5)\n",
    "adata.raw = adata\n",
    "adata = adata[:, adata.var.highly_variable]\n",
    "sc.pp.regress_out(adata, ['total_counts', 'pct_counts_mt'])\n",
    "sc.pp.scale(adata, max_value=10)\n",
    "sc.tl.pca(adata, svd_solver='arpack')\n",
    "sc.pp.neighbors(adata, n_neighbors=40, n_pcs=40)\n",
    "sc.tl.umap(adata)\n"
   ]
  },
  {
   "cell_type": "code",
   "execution_count": null,
   "metadata": {},
   "outputs": [],
   "source": []
  }
 ],
 "metadata": {
  "kernelspec": {
   "display_name": "Python 3 (ipykernel)",
   "language": "python",
   "name": "python3"
  },
  "language_info": {
   "codemirror_mode": {
    "name": "ipython",
    "version": 3
   },
   "file_extension": ".py",
   "mimetype": "text/x-python",
   "name": "python",
   "nbconvert_exporter": "python",
   "pygments_lexer": "ipython3",
   "version": "3.8.8"
  }
 },
 "nbformat": 4,
 "nbformat_minor": 4
}
