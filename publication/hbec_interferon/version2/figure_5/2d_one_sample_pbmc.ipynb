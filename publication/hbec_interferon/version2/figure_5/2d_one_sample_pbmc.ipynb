{
 "cells": [
  {
   "cell_type": "markdown",
   "metadata": {},
   "source": [
    "# Run one sample correlation test for control PBMCs"
   ]
  },
  {
   "cell_type": "code",
   "execution_count": 1,
   "metadata": {},
   "outputs": [],
   "source": [
    "import scanpy as sc\n",
    "import seaborn as sns\n",
    "import pandas as pd\n",
    "import matplotlib.pyplot as plt\n",
    "import numpy as np\n",
    "import scipy.stats as stats\n",
    "from pybedtools import BedTool\n",
    "import pickle as pkl\n",
    "import itertools\n",
    "%matplotlib inline"
   ]
  },
  {
   "cell_type": "code",
   "execution_count": 2,
   "metadata": {},
   "outputs": [],
   "source": [
    "import matplotlib\n",
    "matplotlib.rcParams['pdf.fonttype'] = 42\n",
    "matplotlib.rcParams['ps.fonttype'] = 42"
   ]
  },
  {
   "cell_type": "code",
   "execution_count": 3,
   "metadata": {},
   "outputs": [],
   "source": [
    "import sys\n",
    "sys.path.append('/home/ssm-user/Github/scrna-parameter-estimation/dist/memento-0.0.5-py3.8.egg')\n",
    "sys.path.append('/home/ssm-user/Github/misc-seq/miscseq/')\n",
    "import encode\n",
    "import memento"
   ]
  },
  {
   "cell_type": "code",
   "execution_count": 4,
   "metadata": {},
   "outputs": [],
   "source": [
    "data_path = '/data_volume/ifn_hbec/'\n",
    "fig_path = '/home/ssm-user/Github/scrna-parameter-estimation/figures/fig5/main/'"
   ]
  },
  {
   "cell_type": "code",
   "execution_count": null,
   "metadata": {},
   "outputs": [],
   "source": []
  },
  {
   "cell_type": "markdown",
   "metadata": {},
   "source": [
    "### Check the result in PBMCs"
   ]
  },
  {
   "cell_type": "code",
   "execution_count": 5,
   "metadata": {},
   "outputs": [],
   "source": [
    "fig_path = '/home/ssm-user/Github/scrna-parameter-estimation/figures/fig4/supp/'\n",
    "data_path = '/data_volume/parameter_estimation/'"
   ]
  },
  {
   "cell_type": "markdown",
   "metadata": {},
   "source": [
    "### Read PBMC dataset and setup memento"
   ]
  },
  {
   "cell_type": "code",
   "execution_count": 6,
   "metadata": {},
   "outputs": [],
   "source": [
    "cts = ['CD4 T cells',  'CD14+ Monocytes', 'FCGR3A+ Monocytes', 'NK cells','CD8 T cells', 'B cells']\n",
    "label_converter = dict(zip(cts, ['Th', 'cM', 'ncM', 'NK', 'Tc', 'B']))"
   ]
  },
  {
   "cell_type": "code",
   "execution_count": 7,
   "metadata": {},
   "outputs": [],
   "source": [
    "def simplify_name(name):\n",
    "    return name.split('.')[0]"
   ]
  },
  {
   "cell_type": "code",
   "execution_count": 8,
   "metadata": {},
   "outputs": [],
   "source": [
    "adata = sc.read(data_path + 'interferon_filtered.h5ad')"
   ]
  },
  {
   "cell_type": "code",
   "execution_count": 9,
   "metadata": {},
   "outputs": [],
   "source": [
    "adata.obs['q'] = 0.07"
   ]
  },
  {
   "cell_type": "code",
   "execution_count": 10,
   "metadata": {},
   "outputs": [],
   "source": [
    "memento.setup_memento(adata, q_column='q', trim_percent=0.1)"
   ]
  },
  {
   "cell_type": "markdown",
   "metadata": {},
   "source": [
    "#### Isolate the control cells and perform one sample test"
   ]
  },
  {
   "cell_type": "code",
   "execution_count": 11,
   "metadata": {},
   "outputs": [
    {
     "name": "stderr",
     "output_type": "stream",
     "text": [
      "/home/ssm-user/anaconda3/envs/single_cell/lib/python3.8/site-packages/pandas/core/arrays/categorical.py:2487: FutureWarning: The `inplace` parameter in pandas.Categorical.remove_unused_categories is deprecated and will be removed in a future version.\n",
      "  res = method(*args, **kwargs)\n"
     ]
    }
   ],
   "source": [
    "adata_ctrl = adata.copy()[(adata.obs['cell']=='CD14+ Monocytes') & (adata.obs['stim']=='ctrl')].copy()"
   ]
  },
  {
   "cell_type": "markdown",
   "metadata": {},
   "source": [
    "### Define TFs"
   ]
  },
  {
   "cell_type": "code",
   "execution_count": 12,
   "metadata": {},
   "outputs": [],
   "source": [
    "filtered_tfs = \"\"\"MAFG\n",
    "SPI1\n",
    "ZNF655\n",
    "MAX\n",
    "ATF4\n",
    "ATF3\n",
    "IRF2\n",
    "IRF1\n",
    "ARID5A\n",
    "BACH1\n",
    "YY1\n",
    "HMGA1\n",
    "IRF7\n",
    "STAT1\n",
    "NR1H2\n",
    "XBP1\n",
    "ETV6\n",
    "MSC\n",
    "ATF5\n",
    "MAFB\n",
    "FOS\n",
    "CEBPB\n",
    "BBX\n",
    "STAT3\n",
    "REL\n",
    "JUN\n",
    "CEBPD\n",
    "DDIT3\n",
    "NR3C1\n",
    "TGIF1\n",
    "ZNF267\n",
    "NFE2L2\n",
    "HIF1A\n",
    "AHR\n",
    "GTF2B\n",
    "CREM\n",
    "HBP1\n",
    "RELB\n",
    "TFEC\n",
    "YBX1\n",
    "ELF1\n",
    "JUNB\n",
    "NFKB1\n",
    "IRF9\n",
    "RBPJ\n",
    "KLF6\"\"\".split()"
   ]
  },
  {
   "cell_type": "markdown",
   "metadata": {},
   "source": [
    "### One sample test for all TFs"
   ]
  },
  {
   "cell_type": "code",
   "execution_count": 13,
   "metadata": {},
   "outputs": [],
   "source": [
    "adata_ctrl = adata.copy()[(adata.obs['cell']=='CD14+ Monocytes') & (adata.obs['stim']=='ctrl')].copy()"
   ]
  },
  {
   "cell_type": "code",
   "execution_count": 14,
   "metadata": {},
   "outputs": [
    {
     "data": {
      "text/html": [
       "<div>\n",
       "<style scoped>\n",
       "    .dataframe tbody tr th:only-of-type {\n",
       "        vertical-align: middle;\n",
       "    }\n",
       "\n",
       "    .dataframe tbody tr th {\n",
       "        vertical-align: top;\n",
       "    }\n",
       "\n",
       "    .dataframe thead th {\n",
       "        text-align: right;\n",
       "    }\n",
       "</style>\n",
       "<table border=\"1\" class=\"dataframe\">\n",
       "  <thead>\n",
       "    <tr style=\"text-align: right;\">\n",
       "      <th></th>\n",
       "      <th>tsne1</th>\n",
       "      <th>tsne2</th>\n",
       "      <th>ind</th>\n",
       "      <th>stim</th>\n",
       "      <th>cluster</th>\n",
       "      <th>cell</th>\n",
       "      <th>multiplets</th>\n",
       "      <th>n_genes_by_counts</th>\n",
       "      <th>log1p_n_genes_by_counts</th>\n",
       "      <th>total_counts</th>\n",
       "      <th>log1p_total_counts</th>\n",
       "      <th>total_counts_mt</th>\n",
       "      <th>log1p_total_counts_mt</th>\n",
       "      <th>pct_counts_mt</th>\n",
       "      <th>total_counts_hb</th>\n",
       "      <th>log1p_total_counts_hb</th>\n",
       "      <th>pct_counts_hb</th>\n",
       "      <th>cell_type</th>\n",
       "      <th>q</th>\n",
       "      <th>memento_size_factor</th>\n",
       "    </tr>\n",
       "    <tr>\n",
       "      <th>index</th>\n",
       "      <th></th>\n",
       "      <th></th>\n",
       "      <th></th>\n",
       "      <th></th>\n",
       "      <th></th>\n",
       "      <th></th>\n",
       "      <th></th>\n",
       "      <th></th>\n",
       "      <th></th>\n",
       "      <th></th>\n",
       "      <th></th>\n",
       "      <th></th>\n",
       "      <th></th>\n",
       "      <th></th>\n",
       "      <th></th>\n",
       "      <th></th>\n",
       "      <th></th>\n",
       "      <th></th>\n",
       "      <th></th>\n",
       "      <th></th>\n",
       "    </tr>\n",
       "  </thead>\n",
       "  <tbody>\n",
       "    <tr>\n",
       "      <th>AAACATACATTTCC-1</th>\n",
       "      <td>-27.640373</td>\n",
       "      <td>14.966629</td>\n",
       "      <td>1016</td>\n",
       "      <td>ctrl</td>\n",
       "      <td>9</td>\n",
       "      <td>CD14+ Monocytes</td>\n",
       "      <td>singlet</td>\n",
       "      <td>878</td>\n",
       "      <td>6.778785</td>\n",
       "      <td>3018.0</td>\n",
       "      <td>8.012681</td>\n",
       "      <td>0.0</td>\n",
       "      <td>0.0</td>\n",
       "      <td>0.0</td>\n",
       "      <td>0.0</td>\n",
       "      <td>0.0</td>\n",
       "      <td>0.0</td>\n",
       "      <td>CD14+ Monocytes - ctrl</td>\n",
       "      <td>0.07</td>\n",
       "      <td>1.385846</td>\n",
       "    </tr>\n",
       "    <tr>\n",
       "      <th>AAACATACCAGAAA-1</th>\n",
       "      <td>-27.493646</td>\n",
       "      <td>28.924885</td>\n",
       "      <td>1256</td>\n",
       "      <td>ctrl</td>\n",
       "      <td>9</td>\n",
       "      <td>CD14+ Monocytes</td>\n",
       "      <td>singlet</td>\n",
       "      <td>713</td>\n",
       "      <td>6.570883</td>\n",
       "      <td>2481.0</td>\n",
       "      <td>7.816820</td>\n",
       "      <td>0.0</td>\n",
       "      <td>0.0</td>\n",
       "      <td>0.0</td>\n",
       "      <td>0.0</td>\n",
       "      <td>0.0</td>\n",
       "      <td>0.0</td>\n",
       "      <td>CD14+ Monocytes - ctrl</td>\n",
       "      <td>0.07</td>\n",
       "      <td>0.879082</td>\n",
       "    </tr>\n",
       "  </tbody>\n",
       "</table>\n",
       "</div>"
      ],
      "text/plain": [
       "                      tsne1      tsne2   ind  stim cluster             cell  \\\n",
       "index                                                                         \n",
       "AAACATACATTTCC-1 -27.640373  14.966629  1016  ctrl       9  CD14+ Monocytes   \n",
       "AAACATACCAGAAA-1 -27.493646  28.924885  1256  ctrl       9  CD14+ Monocytes   \n",
       "\n",
       "                 multiplets  n_genes_by_counts  log1p_n_genes_by_counts  \\\n",
       "index                                                                     \n",
       "AAACATACATTTCC-1    singlet                878                 6.778785   \n",
       "AAACATACCAGAAA-1    singlet                713                 6.570883   \n",
       "\n",
       "                  total_counts  log1p_total_counts  total_counts_mt  \\\n",
       "index                                                                 \n",
       "AAACATACATTTCC-1        3018.0            8.012681              0.0   \n",
       "AAACATACCAGAAA-1        2481.0            7.816820              0.0   \n",
       "\n",
       "                  log1p_total_counts_mt  pct_counts_mt  total_counts_hb  \\\n",
       "index                                                                     \n",
       "AAACATACATTTCC-1                    0.0            0.0              0.0   \n",
       "AAACATACCAGAAA-1                    0.0            0.0              0.0   \n",
       "\n",
       "                  log1p_total_counts_hb  pct_counts_hb  \\\n",
       "index                                                    \n",
       "AAACATACATTTCC-1                    0.0            0.0   \n",
       "AAACATACCAGAAA-1                    0.0            0.0   \n",
       "\n",
       "                               cell_type     q  memento_size_factor  \n",
       "index                                                                \n",
       "AAACATACATTTCC-1  CD14+ Monocytes - ctrl  0.07             1.385846  \n",
       "AAACATACCAGAAA-1  CD14+ Monocytes - ctrl  0.07             0.879082  "
      ]
     },
     "execution_count": 14,
     "metadata": {},
     "output_type": "execute_result"
    }
   ],
   "source": [
    "adata_ctrl.obs.head(2)"
   ]
  },
  {
   "cell_type": "code",
   "execution_count": 15,
   "metadata": {},
   "outputs": [],
   "source": [
    "adata_ctrl.obs['group'] = 'A'"
   ]
  },
  {
   "cell_type": "code",
   "execution_count": 16,
   "metadata": {},
   "outputs": [],
   "source": [
    "memento.create_groups(adata_ctrl, label_columns=['ind'])"
   ]
  },
  {
   "cell_type": "code",
   "execution_count": 17,
   "metadata": {},
   "outputs": [
    {
     "name": "stderr",
     "output_type": "stream",
     "text": [
      "/home/ssm-user/anaconda3/envs/single_cell/lib/python3.8/site-packages/pandas/core/arrays/categorical.py:2487: FutureWarning: The `inplace` parameter in pandas.Categorical.remove_unused_categories is deprecated and will be removed in a future version.\n",
      "  res = method(*args, **kwargs)\n",
      "/home/ssm-user/Github/scrna-parameter-estimation/dist/memento-0.0.5-py3.8.egg/memento/estimator.py:105: RuntimeWarning: invalid value encountered in log\n"
     ]
    }
   ],
   "source": [
    "memento.compute_1d_moments(adata_ctrl, min_perc_group=.8)"
   ]
  },
  {
   "cell_type": "code",
   "execution_count": 18,
   "metadata": {},
   "outputs": [
    {
     "name": "stdout",
     "output_type": "stream",
     "text": [
      "Control correlations for: IRF7\n"
     ]
    },
    {
     "name": "stderr",
     "output_type": "stream",
     "text": [
      "[Parallel(n_jobs=14)]: Using backend LokyBackend with 14 concurrent workers.\n",
      "[Parallel(n_jobs=14)]: Done  22 tasks      | elapsed:    4.2s\n",
      "[Parallel(n_jobs=14)]: Done 172 tasks      | elapsed:   15.3s\n",
      "[Parallel(n_jobs=14)]: Done 422 tasks      | elapsed:   31.9s\n",
      "[Parallel(n_jobs=14)]: Done 772 tasks      | elapsed:   56.9s\n",
      "[Parallel(n_jobs=14)]: Done 1222 tasks      | elapsed:  1.5min\n",
      "[Parallel(n_jobs=14)]: Done 1742 out of 1742 | elapsed:  2.1min finished\n",
      "... storing 'group' as categorical\n",
      "... storing 'memento_group' as categorical\n"
     ]
    }
   ],
   "source": [
    "for tf in ['IRF7']:\n",
    "    \n",
    "    if tf not in adata_ctrl.var.index.tolist():\n",
    "        continue\n",
    "    \n",
    "    print('Control correlations for:', tf)\n",
    "    \n",
    "    memento.compute_2d_moments(adata_ctrl, list(itertools.product([tf], adata_ctrl.var.index.tolist())))\n",
    "    \n",
    "    memento.ht_2d_moments( \n",
    "        adata_ctrl, \n",
    "        formula_like='1',\n",
    "        cov_column='Inter', \n",
    "        num_boot=10000, \n",
    "        verbose=1,\n",
    "        num_cpus=14)\n",
    "    \n",
    "    adata_ctrl.write(data_path + 'control_corr/{}.h5ad'.format(tf))"
   ]
  },
  {
   "cell_type": "code",
   "execution_count": 19,
   "metadata": {},
   "outputs": [],
   "source": [
    "output_dfs = {}\n",
    "for tf in ['STAT1', 'IRF7']:\n",
    "    \n",
    "    adata_tf = sc.read(data_path + 'control_corr/{}.h5ad'.format(tf))\n",
    "    tf_result = memento.get_2d_ht_result(adata_tf)\n",
    "    tf_result['corr_fdr'] = memento.util._fdrcorrect(tf_result['corr_pval'])\n",
    "#     tf_result = tf_result.query('~gene_2.str.contains(\"RPS\") & ~gene_2.str.contains(\"RPL\")', engine='python')\n",
    "    output_dfs[tf] = tf_result"
   ]
  },
  {
   "cell_type": "code",
   "execution_count": 20,
   "metadata": {},
   "outputs": [],
   "source": [
    "def tf_volcano(tf):\n",
    "    tf_result = output_dfs[tf]\n",
    "    tf_result['logp'] = -np.log10(tf_result['corr_pval'])\n",
    "    plt.scatter(tf_result['corr_coef'],tf_result['logp'], s=0.1, color='grey')\n",
    "    plt.scatter(\n",
    "        tf_result.query('corr_fdr < 0.1')['corr_coef'],\n",
    "        tf_result.query('corr_fdr < 0.1')['logp'], s=1.2)\n",
    "    plt.title(tf); plt.ylabel('log P-value'); plt.xlabel('correlation')\n",
    "    \n",
    "    return tf_result"
   ]
  },
  {
   "cell_type": "code",
   "execution_count": 21,
   "metadata": {},
   "outputs": [
    {
     "name": "stderr",
     "output_type": "stream",
     "text": [
      "<ipython-input-21-210f6954df52>:3: MatplotlibDeprecationWarning: savefig() got unexpected keyword argument \"bbox_to_inches\" which is no longer supported as of 3.3 and will become an error two minor releases later\n",
      "  plt.savefig(fig_path + 'tf_volcano_pbmc.png', bbox_to_inches='tight', dpi=300)\n"
     ]
    },
    {
     "data": {
      "image/png": "[encoded data removed]",
      "text/plain": [
       "<Figure size 252x252 with 1 Axes>"
      ]
     },
     "metadata": {
      "needs_background": "light"
     },
     "output_type": "display_data"
    }
   ],
   "source": [
    "plt.figure(figsize=(3.5,3.5))\n",
    "irf7_df = tf_volcano('IRF7')\n",
    "plt.savefig(fig_path + 'tf_volcano_pbmc.png', bbox_to_inches='tight', dpi=300)"
   ]
  },
  {
   "cell_type": "code",
   "execution_count": 86,
   "metadata": {},
   "outputs": [
    {
     "data": {
      "text/html": [
       "<div>\n",
       "<style scoped>\n",
       "    .dataframe tbody tr th:only-of-type {\n",
       "        vertical-align: middle;\n",
       "    }\n",
       "\n",
       "    .dataframe tbody tr th {\n",
       "        vertical-align: top;\n",
       "    }\n",
       "\n",
       "    .dataframe thead th {\n",
       "        text-align: right;\n",
       "    }\n",
       "</style>\n",
       "<table border=\"1\" class=\"dataframe\">\n",
       "  <thead>\n",
       "    <tr style=\"text-align: right;\">\n",
       "      <th></th>\n",
       "      <th>gene_1</th>\n",
       "      <th>gene_2</th>\n",
       "      <th>corr_coef</th>\n",
       "      <th>corr_se</th>\n",
       "      <th>corr_pval</th>\n",
       "      <th>corr_fdr</th>\n",
       "      <th>logp</th>\n",
       "    </tr>\n",
       "  </thead>\n",
       "  <tbody>\n",
       "    <tr>\n",
       "      <th>2353</th>\n",
       "      <td>IRF7</td>\n",
       "      <td>APOBEC3A</td>\n",
       "      <td>0.553805</td>\n",
       "      <td>0.062329</td>\n",
       "      <td>0.000009</td>\n",
       "      <td>0.008436</td>\n",
       "      <td>5.032199</td>\n",
       "    </tr>\n",
       "    <tr>\n",
       "      <th>268</th>\n",
       "      <td>IRF7</td>\n",
       "      <td>RSAD2</td>\n",
       "      <td>0.611229</td>\n",
       "      <td>0.072599</td>\n",
       "      <td>0.000011</td>\n",
       "      <td>0.008436</td>\n",
       "      <td>4.970978</td>\n",
       "    </tr>\n",
       "    <tr>\n",
       "      <th>1159</th>\n",
       "      <td>IRF7</td>\n",
       "      <td>LY6E</td>\n",
       "      <td>0.566870</td>\n",
       "      <td>0.079687</td>\n",
       "      <td>0.000011</td>\n",
       "      <td>0.008436</td>\n",
       "      <td>4.964964</td>\n",
       "    </tr>\n",
       "    <tr>\n",
       "      <th>1576</th>\n",
       "      <td>IRF7</td>\n",
       "      <td>OAS1</td>\n",
       "      <td>0.527661</td>\n",
       "      <td>0.082072</td>\n",
       "      <td>0.000014</td>\n",
       "      <td>0.008436</td>\n",
       "      <td>4.853462</td>\n",
       "    </tr>\n",
       "    <tr>\n",
       "      <th>1328</th>\n",
       "      <td>IRF7</td>\n",
       "      <td>IFITM3</td>\n",
       "      <td>0.491456</td>\n",
       "      <td>0.061726</td>\n",
       "      <td>0.000020</td>\n",
       "      <td>0.008890</td>\n",
       "      <td>4.709424</td>\n",
       "    </tr>\n",
       "    <tr>\n",
       "      <th>811</th>\n",
       "      <td>IRF7</td>\n",
       "      <td>PSMB9</td>\n",
       "      <td>0.491417</td>\n",
       "      <td>0.062719</td>\n",
       "      <td>0.000025</td>\n",
       "      <td>0.008890</td>\n",
       "      <td>4.599157</td>\n",
       "    </tr>\n",
       "    <tr>\n",
       "      <th>1615</th>\n",
       "      <td>IRF7</td>\n",
       "      <td>EPSTI1</td>\n",
       "      <td>0.628598</td>\n",
       "      <td>0.098516</td>\n",
       "      <td>0.000026</td>\n",
       "      <td>0.008890</td>\n",
       "      <td>4.587669</td>\n",
       "    </tr>\n",
       "    <tr>\n",
       "      <th>1802</th>\n",
       "      <td>IRF7</td>\n",
       "      <td>ISG20</td>\n",
       "      <td>0.564030</td>\n",
       "      <td>0.073622</td>\n",
       "      <td>0.000042</td>\n",
       "      <td>0.012728</td>\n",
       "      <td>4.373793</td>\n",
       "    </tr>\n",
       "    <tr>\n",
       "      <th>1020</th>\n",
       "      <td>IRF7</td>\n",
       "      <td>SAT1</td>\n",
       "      <td>0.304219</td>\n",
       "      <td>0.054794</td>\n",
       "      <td>0.000067</td>\n",
       "      <td>0.017978</td>\n",
       "      <td>4.172682</td>\n",
       "    </tr>\n",
       "    <tr>\n",
       "      <th>1107</th>\n",
       "      <td>IRF7</td>\n",
       "      <td>IDO1</td>\n",
       "      <td>0.433771</td>\n",
       "      <td>0.078747</td>\n",
       "      <td>0.000080</td>\n",
       "      <td>0.019203</td>\n",
       "      <td>4.098298</td>\n",
       "    </tr>\n",
       "    <tr>\n",
       "      <th>576</th>\n",
       "      <td>IRF7</td>\n",
       "      <td>LAP3</td>\n",
       "      <td>0.379627</td>\n",
       "      <td>0.070423</td>\n",
       "      <td>0.000137</td>\n",
       "      <td>0.027773</td>\n",
       "      <td>3.862182</td>\n",
       "    </tr>\n",
       "    <tr>\n",
       "      <th>884</th>\n",
       "      <td>IRF7</td>\n",
       "      <td>DYNLT1</td>\n",
       "      <td>0.451079</td>\n",
       "      <td>0.090072</td>\n",
       "      <td>0.000138</td>\n",
       "      <td>0.027773</td>\n",
       "      <td>3.858848</td>\n",
       "    </tr>\n",
       "    <tr>\n",
       "      <th>532</th>\n",
       "      <td>IRF7</td>\n",
       "      <td>PLSCR1</td>\n",
       "      <td>0.392645</td>\n",
       "      <td>0.073893</td>\n",
       "      <td>0.000154</td>\n",
       "      <td>0.028412</td>\n",
       "      <td>3.812927</td>\n",
       "    </tr>\n",
       "    <tr>\n",
       "      <th>1636</th>\n",
       "      <td>IRF7</td>\n",
       "      <td>TNFSF13B</td>\n",
       "      <td>0.496659</td>\n",
       "      <td>0.100587</td>\n",
       "      <td>0.000165</td>\n",
       "      <td>0.028412</td>\n",
       "      <td>3.782023</td>\n",
       "    </tr>\n",
       "    <tr>\n",
       "      <th>2023</th>\n",
       "      <td>IRF7</td>\n",
       "      <td>RNF213</td>\n",
       "      <td>0.552838</td>\n",
       "      <td>0.120069</td>\n",
       "      <td>0.000250</td>\n",
       "      <td>0.040106</td>\n",
       "      <td>3.602353</td>\n",
       "    </tr>\n",
       "  </tbody>\n",
       "</table>\n",
       "</div>"
      ],
      "text/plain": [
       "     gene_1    gene_2  corr_coef   corr_se  corr_pval  corr_fdr      logp\n",
       "2353   IRF7  APOBEC3A   0.553805  0.062329   0.000009  0.008436  5.032199\n",
       "268    IRF7     RSAD2   0.611229  0.072599   0.000011  0.008436  4.970978\n",
       "1159   IRF7      LY6E   0.566870  0.079687   0.000011  0.008436  4.964964\n",
       "1576   IRF7      OAS1   0.527661  0.082072   0.000014  0.008436  4.853462\n",
       "1328   IRF7    IFITM3   0.491456  0.061726   0.000020  0.008890  4.709424\n",
       "811    IRF7     PSMB9   0.491417  0.062719   0.000025  0.008890  4.599157\n",
       "1615   IRF7    EPSTI1   0.628598  0.098516   0.000026  0.008890  4.587669\n",
       "1802   IRF7     ISG20   0.564030  0.073622   0.000042  0.012728  4.373793\n",
       "1020   IRF7      SAT1   0.304219  0.054794   0.000067  0.017978  4.172682\n",
       "1107   IRF7      IDO1   0.433771  0.078747   0.000080  0.019203  4.098298\n",
       "576    IRF7      LAP3   0.379627  0.070423   0.000137  0.027773  3.862182\n",
       "884    IRF7    DYNLT1   0.451079  0.090072   0.000138  0.027773  3.858848\n",
       "532    IRF7    PLSCR1   0.392645  0.073893   0.000154  0.028412  3.812927\n",
       "1636   IRF7  TNFSF13B   0.496659  0.100587   0.000165  0.028412  3.782023\n",
       "2023   IRF7    RNF213   0.552838  0.120069   0.000250  0.040106  3.602353"
      ]
     },
     "execution_count": 86,
     "metadata": {},
     "output_type": "execute_result"
    }
   ],
   "source": [
    "output_dfs['IRF7'].sort_values('logp', ascending=False).head(15)"
   ]
  },
  {
   "cell_type": "code",
   "execution_count": 72,
   "metadata": {},
   "outputs": [
    {
     "data": {
      "text/plain": [
       "Text(0, 0.5, '')"
      ]
     },
     "execution_count": 72,
     "metadata": {},
     "output_type": "execute_result"
    },
    {
     "data": {
      "image/png": "[encoded data removed]",
      "text/plain": [
       "<Figure size 288x144 with 2 Axes>"
      ]
     },
     "metadata": {
      "needs_background": "light"
     },
     "output_type": "display_data"
    }
   ],
   "source": [
    "plt.figure(figsize=(4,2))\n",
    "plt.subplot(1, 2, 1);\n",
    "stat1_df = tf_volcano('STAT1')\n",
    "plt.subplot(1, 2, 2)\n",
    "irf7_df = tf_volcano('IRF7')\n",
    "plt.ylabel(None)\n",
    "# plt.savefig(fig_path + 'tf_volcano.png', bbox_to_inches='tight', dpi=300)"
   ]
  },
  {
   "cell_type": "code",
   "execution_count": null,
   "metadata": {},
   "outputs": [],
   "source": []
  },
  {
   "cell_type": "code",
   "execution_count": null,
   "metadata": {},
   "outputs": [],
   "source": []
  },
  {
   "cell_type": "markdown",
   "metadata": {},
   "source": [
    "### Read the processed RNA data\n",
    "\n",
    "Focus on the club and bc/club cells and type I interferons for now.\n",
    "\n",
    "Encode the timestamps to integers."
   ]
  },
  {
   "cell_type": "raw",
   "metadata": {},
   "source": [
    "adata_processed = sc.read(data_path + 'HBEC_type_I_processed.h5ad')"
   ]
  },
  {
   "cell_type": "code",
   "execution_count": 5,
   "metadata": {},
   "outputs": [],
   "source": [
    "adata = sc.read(data_path + 'HBEC_type_I_filtered_counts_deep.h5ad')"
   ]
  },
  {
   "cell_type": "code",
   "execution_count": 6,
   "metadata": {},
   "outputs": [
    {
     "name": "stderr",
     "output_type": "stream",
     "text": [
      "/home/ssm-user/anaconda3/envs/single_cell/lib/python3.8/site-packages/pandas/core/arrays/categorical.py:2487: FutureWarning: The `inplace` parameter in pandas.Categorical.remove_unused_categories is deprecated and will be removed in a future version.\n",
      "  res = method(*args, **kwargs)\n"
     ]
    }
   ],
   "source": [
    "adata = adata[:, ~adata.var.index.str.startswith('MT-')].copy()\n",
    "adata.obs['cell_type'] = adata.obs['cell_type'].apply(lambda x: x if x != 'basal/club' else 'bc')\n",
    "adata.obs['cell_type'] = adata.obs['cell_type'].apply(lambda x: x if x != 'ionocyte/tuft' else 'ion-tuft')"
   ]
  },
  {
   "cell_type": "raw",
   "metadata": {},
   "source": [
    "sc.pl.umap(adata_processed, color=['cell_type', 'time', 'stim'])"
   ]
  },
  {
   "cell_type": "code",
   "execution_count": 7,
   "metadata": {},
   "outputs": [
    {
     "data": {
      "text/plain": [
       "(69958, 36588)"
      ]
     },
     "execution_count": 7,
     "metadata": {},
     "output_type": "execute_result"
    }
   ],
   "source": [
    "adata.shape"
   ]
  },
  {
   "cell_type": "markdown",
   "metadata": {},
   "source": [
    "### Setup memento"
   ]
  },
  {
   "cell_type": "code",
   "execution_count": 8,
   "metadata": {},
   "outputs": [],
   "source": [
    "def assign_q(batch):\n",
    "    \n",
    "    if batch == 0:\n",
    "        return 0.387*0.25\n",
    "    elif batch == 1:\n",
    "        return 0.392*0.25\n",
    "    elif batch == 2:\n",
    "        return 0.436*0.25\n",
    "    else:\n",
    "        return 0.417*0.25"
   ]
  },
  {
   "cell_type": "code",
   "execution_count": 9,
   "metadata": {},
   "outputs": [],
   "source": [
    "adata.obs['q'] = adata.obs['batch'].apply(assign_q)"
   ]
  },
  {
   "cell_type": "code",
   "execution_count": 10,
   "metadata": {},
   "outputs": [],
   "source": [
    "memento.setup_memento(adata, q_column='q', trim_percent=0.1)"
   ]
  },
  {
   "cell_type": "markdown",
   "metadata": {},
   "source": [
    "### Define TFs"
   ]
  },
  {
   "cell_type": "code",
   "execution_count": 11,
   "metadata": {},
   "outputs": [],
   "source": [
    "filtered_tfs = \"\"\"MAFG\n",
    "SPI1\n",
    "ZNF655\n",
    "MAX\n",
    "ATF4\n",
    "ATF3\n",
    "IRF2\n",
    "IRF1\n",
    "ARID5A\n",
    "BACH1\n",
    "YY1\n",
    "HMGA1\n",
    "IRF7\n",
    "STAT1\n",
    "NR1H2\n",
    "XBP1\n",
    "ETV6\n",
    "MSC\n",
    "ATF5\n",
    "MAFB\n",
    "FOS\n",
    "CEBPB\n",
    "BBX\n",
    "STAT3\n",
    "REL\n",
    "JUN\n",
    "CEBPD\n",
    "DDIT3\n",
    "NR3C1\n",
    "TGIF1\n",
    "ZNF267\n",
    "NFE2L2\n",
    "HIF1A\n",
    "AHR\n",
    "GTF2B\n",
    "CREM\n",
    "HBP1\n",
    "RELB\n",
    "TFEC\n",
    "YBX1\n",
    "ELF1\n",
    "JUNB\n",
    "NFKB1\n",
    "IRF9\n",
    "RBPJ\n",
    "KLF6\"\"\".split()"
   ]
  },
  {
   "cell_type": "markdown",
   "metadata": {},
   "source": [
    "### One sample test for all TFs"
   ]
  },
  {
   "cell_type": "code",
   "execution_count": 12,
   "metadata": {},
   "outputs": [],
   "source": [
    "adata_ctrl = adata.copy()[\n",
    "    adata.obs.cell_type.isin(['ciliated']) & \\\n",
    "    adata.obs.stim.isin(['control']), :].copy()\n",
    "adata_ctrl.obs['group'] = 'A'"
   ]
  },
  {
   "cell_type": "code",
   "execution_count": 13,
   "metadata": {},
   "outputs": [],
   "source": [
    "memento.create_groups(adata_ctrl, label_columns=['donor'])"
   ]
  },
  {
   "cell_type": "code",
   "execution_count": 14,
   "metadata": {},
   "outputs": [],
   "source": [
    "memento.compute_1d_moments(adata_ctrl, min_perc_group=.9)"
   ]
  },
  {
   "cell_type": "code",
   "execution_count": null,
   "metadata": {},
   "outputs": [],
   "source": [
    "for tf in filtered_tfs:\n",
    "    \n",
    "    if tf not in adata_ctrl.var.index.tolist():\n",
    "        continue\n",
    "    \n",
    "    print('Control correlations for:', tf)\n",
    "    \n",
    "    memento.compute_2d_moments(adata_ctrl, list(itertools.product([tf], adata_ctrl.var.index.tolist())))\n",
    "    \n",
    "    memento.ht_2d_moments( \n",
    "        adata_ctrl, \n",
    "        formula_like='1',\n",
    "        cov_column='Inter', \n",
    "        num_boot=10000, \n",
    "        verbose=1,\n",
    "        num_cpus=14)\n",
    "    \n",
    "    adata_ctrl.write(data_path + 'control_corr/{}.h5ad'.format(tf))"
   ]
  },
  {
   "cell_type": "markdown",
   "metadata": {},
   "source": [
    "### Get number of significantly correlated genes for each TF"
   ]
  },
  {
   "cell_type": "code",
   "execution_count": 17,
   "metadata": {},
   "outputs": [],
   "source": [
    "tf_list = list(set(filtered_tfs) & set(adata_ctrl.var.index))"
   ]
  },
  {
   "cell_type": "code",
   "execution_count": 205,
   "metadata": {},
   "outputs": [],
   "source": [
    "output_dfs = {}\n",
    "for tf in tf_list:\n",
    "    \n",
    "    adata_tf = sc.read(data_path + 'control_corr/{}.h5ad'.format(tf))\n",
    "    tf_result = memento.get_2d_ht_result(adata_tf)\n",
    "    tf_result['corr_fdr'] = memento.util._fdrcorrect(tf_result['corr_pval'])\n",
    "#     tf_result = tf_result.query('~gene_2.str.contains(\"RPS\") & ~gene_2.str.contains(\"RPL\")', engine='python')\n",
    "    output_dfs[tf] = tf_result"
   ]
  },
  {
   "cell_type": "markdown",
   "metadata": {},
   "source": [
    "### Volcano plots for STAT1, IRF7"
   ]
  },
  {
   "cell_type": "code",
   "execution_count": 242,
   "metadata": {},
   "outputs": [],
   "source": [
    "def tf_volcano(tf):\n",
    "    tf_result = output_dfs[tf]\n",
    "    tf_result['logp'] = -np.log10(tf_result['corr_pval'])\n",
    "    plt.scatter(tf_result['corr_coef'],tf_result['logp'], s=0.1, color='grey')\n",
    "    plt.scatter(\n",
    "        tf_result.query('corr_fdr < 0.1')['corr_coef'],\n",
    "        tf_result.query('corr_fdr < 0.1')['logp'], s=1.2)\n",
    "    plt.title(tf); plt.ylabel('log P-value'); plt.xlabel('correlation')\n",
    "    \n",
    "    return tf_result"
   ]
  },
  {
   "cell_type": "code",
   "execution_count": null,
   "metadata": {},
   "outputs": [],
   "source": []
  },
  {
   "cell_type": "code",
   "execution_count": 249,
   "metadata": {},
   "outputs": [
    {
     "name": "stderr",
     "output_type": "stream",
     "text": [
      "<ipython-input-249-ea4b46031afd>:7: MatplotlibDeprecationWarning: savefig() got unexpected keyword argument \"bbox_to_inches\" which is no longer supported as of 3.3 and will become an error two minor releases later\n",
      "  plt.savefig(fig_path + 'tf_volcano.png', bbox_to_inches='tight', dpi=300)\n"
     ]
    },
    {
     "data": {
      "image/png": "[encoded data removed]",
      "text/plain": [
       "<Figure size 288x144 with 2 Axes>"
      ]
     },
     "metadata": {
      "needs_background": "light"
     },
     "output_type": "display_data"
    }
   ],
   "source": [
    "plt.figure(figsize=(4,2))\n",
    "plt.subplot(1, 2, 1);\n",
    "stat1_df = tf_volcano('STAT1')\n",
    "plt.subplot(1, 2, 2)\n",
    "irf7_df = tf_volcano('IRF7')\n",
    "plt.ylabel(None)\n",
    "plt.savefig(fig_path + 'tf_volcano.png', bbox_to_inches='tight', dpi=300)"
   ]
  },
  {
   "cell_type": "code",
   "execution_count": 250,
   "metadata": {},
   "outputs": [
    {
     "data": {
      "text/html": [
       "<div>\n",
       "<style scoped>\n",
       "    .dataframe tbody tr th:only-of-type {\n",
       "        vertical-align: middle;\n",
       "    }\n",
       "\n",
       "    .dataframe tbody tr th {\n",
       "        vertical-align: top;\n",
       "    }\n",
       "\n",
       "    .dataframe thead th {\n",
       "        text-align: right;\n",
       "    }\n",
       "</style>\n",
       "<table border=\"1\" class=\"dataframe\">\n",
       "  <thead>\n",
       "    <tr style=\"text-align: right;\">\n",
       "      <th></th>\n",
       "      <th>gene_1</th>\n",
       "      <th>gene_2</th>\n",
       "      <th>corr_coef</th>\n",
       "      <th>corr_se</th>\n",
       "      <th>corr_pval</th>\n",
       "      <th>corr_fdr</th>\n",
       "      <th>logp</th>\n",
       "    </tr>\n",
       "  </thead>\n",
       "  <tbody>\n",
       "    <tr>\n",
       "      <th>9583</th>\n",
       "      <td>IRF7</td>\n",
       "      <td>MX1</td>\n",
       "      <td>0.917227</td>\n",
       "      <td>0.060723</td>\n",
       "      <td>2.976680e-13</td>\n",
       "      <td>3.020735e-09</td>\n",
       "      <td>12.526268</td>\n",
       "    </tr>\n",
       "    <tr>\n",
       "      <th>6581</th>\n",
       "      <td>IRF7</td>\n",
       "      <td>EPSTI1</td>\n",
       "      <td>0.798548</td>\n",
       "      <td>0.083384</td>\n",
       "      <td>1.135444e-07</td>\n",
       "      <td>3.909930e-04</td>\n",
       "      <td>6.944834</td>\n",
       "    </tr>\n",
       "    <tr>\n",
       "      <th>2538</th>\n",
       "      <td>IRF7</td>\n",
       "      <td>HERC6</td>\n",
       "      <td>0.767718</td>\n",
       "      <td>0.104611</td>\n",
       "      <td>1.314186e-07</td>\n",
       "      <td>3.909930e-04</td>\n",
       "      <td>6.881343</td>\n",
       "    </tr>\n",
       "    <tr>\n",
       "      <th>5206</th>\n",
       "      <td>IRF7</td>\n",
       "      <td>IFIT1</td>\n",
       "      <td>0.781096</td>\n",
       "      <td>0.085885</td>\n",
       "      <td>1.541163e-07</td>\n",
       "      <td>3.909930e-04</td>\n",
       "      <td>6.812152</td>\n",
       "    </tr>\n",
       "    <tr>\n",
       "      <th>9582</th>\n",
       "      <td>IRF7</td>\n",
       "      <td>MX2</td>\n",
       "      <td>0.754638</td>\n",
       "      <td>0.087823</td>\n",
       "      <td>3.618774e-07</td>\n",
       "      <td>7.344663e-04</td>\n",
       "      <td>6.441439</td>\n",
       "    </tr>\n",
       "    <tr>\n",
       "      <th>4</th>\n",
       "      <td>IRF7</td>\n",
       "      <td>ISG15</td>\n",
       "      <td>0.751050</td>\n",
       "      <td>0.073313</td>\n",
       "      <td>7.585380e-07</td>\n",
       "      <td>1.282941e-03</td>\n",
       "      <td>6.120023</td>\n",
       "    </tr>\n",
       "    <tr>\n",
       "      <th>462</th>\n",
       "      <td>IRF7</td>\n",
       "      <td>IFI44L</td>\n",
       "      <td>0.712595</td>\n",
       "      <td>0.086325</td>\n",
       "      <td>1.781597e-06</td>\n",
       "      <td>2.283974e-03</td>\n",
       "      <td>5.749191</td>\n",
       "    </tr>\n",
       "    <tr>\n",
       "      <th>6406</th>\n",
       "      <td>IRF7</td>\n",
       "      <td>OAS1</td>\n",
       "      <td>0.697910</td>\n",
       "      <td>0.107587</td>\n",
       "      <td>1.917242e-06</td>\n",
       "      <td>2.283974e-03</td>\n",
       "      <td>5.717323</td>\n",
       "    </tr>\n",
       "    <tr>\n",
       "      <th>5388</th>\n",
       "      <td>IRF7</td>\n",
       "      <td>IFITM3</td>\n",
       "      <td>0.724710</td>\n",
       "      <td>0.074521</td>\n",
       "      <td>2.025598e-06</td>\n",
       "      <td>2.283974e-03</td>\n",
       "      <td>5.693447</td>\n",
       "    </tr>\n",
       "    <tr>\n",
       "      <th>203</th>\n",
       "      <td>IRF7</td>\n",
       "      <td>IFI6</td>\n",
       "      <td>0.697548</td>\n",
       "      <td>0.064869</td>\n",
       "      <td>2.521014e-06</td>\n",
       "      <td>2.558325e-03</td>\n",
       "      <td>5.598425</td>\n",
       "    </tr>\n",
       "    <tr>\n",
       "      <th>1044</th>\n",
       "      <td>IRF7</td>\n",
       "      <td>CMPK2</td>\n",
       "      <td>0.883081</td>\n",
       "      <td>0.105162</td>\n",
       "      <td>5.314339e-06</td>\n",
       "      <td>4.621453e-03</td>\n",
       "      <td>5.274551</td>\n",
       "    </tr>\n",
       "    <tr>\n",
       "      <th>7907</th>\n",
       "      <td>IRF7</td>\n",
       "      <td>XAF1</td>\n",
       "      <td>0.626352</td>\n",
       "      <td>0.111531</td>\n",
       "      <td>5.464864e-06</td>\n",
       "      <td>4.621453e-03</td>\n",
       "      <td>5.262421</td>\n",
       "    </tr>\n",
       "    <tr>\n",
       "      <th>5387</th>\n",
       "      <td>IRF7</td>\n",
       "      <td>IFITM1</td>\n",
       "      <td>0.727041</td>\n",
       "      <td>0.095512</td>\n",
       "      <td>1.056033e-05</td>\n",
       "      <td>7.851150e-03</td>\n",
       "      <td>4.976322</td>\n",
       "    </tr>\n",
       "    <tr>\n",
       "      <th>2063</th>\n",
       "      <td>IRF7</td>\n",
       "      <td>PARP9</td>\n",
       "      <td>0.663671</td>\n",
       "      <td>0.117626</td>\n",
       "      <td>1.155720e-05</td>\n",
       "      <td>7.851150e-03</td>\n",
       "      <td>4.937147</td>\n",
       "    </tr>\n",
       "    <tr>\n",
       "      <th>3296</th>\n",
       "      <td>IRF7</td>\n",
       "      <td>HLA-E</td>\n",
       "      <td>0.693031</td>\n",
       "      <td>0.113548</td>\n",
       "      <td>1.213448e-05</td>\n",
       "      <td>7.851150e-03</td>\n",
       "      <td>4.915979</td>\n",
       "    </tr>\n",
       "    <tr>\n",
       "      <th>6973</th>\n",
       "      <td>IRF7</td>\n",
       "      <td>IFI27</td>\n",
       "      <td>0.662757</td>\n",
       "      <td>0.071830</td>\n",
       "      <td>1.237864e-05</td>\n",
       "      <td>7.851150e-03</td>\n",
       "      <td>4.907327</td>\n",
       "    </tr>\n",
       "    <tr>\n",
       "      <th>1045</th>\n",
       "      <td>IRF7</td>\n",
       "      <td>RSAD2</td>\n",
       "      <td>0.653449</td>\n",
       "      <td>0.087840</td>\n",
       "      <td>1.352308e-05</td>\n",
       "      <td>8.072481e-03</td>\n",
       "      <td>4.868925</td>\n",
       "    </tr>\n",
       "    <tr>\n",
       "      <th>3353</th>\n",
       "      <td>IRF7</td>\n",
       "      <td>PSMB8</td>\n",
       "      <td>0.637104</td>\n",
       "      <td>0.124065</td>\n",
       "      <td>1.626366e-05</td>\n",
       "      <td>8.691562e-03</td>\n",
       "      <td>4.788782</td>\n",
       "    </tr>\n",
       "    <tr>\n",
       "      <th>2156</th>\n",
       "      <td>IRF7</td>\n",
       "      <td>PLSCR1</td>\n",
       "      <td>0.649356</td>\n",
       "      <td>0.097252</td>\n",
       "      <td>1.627313e-05</td>\n",
       "      <td>8.691562e-03</td>\n",
       "      <td>4.788529</td>\n",
       "    </tr>\n",
       "    <tr>\n",
       "      <th>8856</th>\n",
       "      <td>IRF7</td>\n",
       "      <td>BST2</td>\n",
       "      <td>0.636524</td>\n",
       "      <td>0.092574</td>\n",
       "      <td>1.830159e-05</td>\n",
       "      <td>9.286228e-03</td>\n",
       "      <td>4.737511</td>\n",
       "    </tr>\n",
       "  </tbody>\n",
       "</table>\n",
       "</div>"
      ],
      "text/plain": [
       "     gene_1  gene_2  corr_coef   corr_se     corr_pval      corr_fdr  \\\n",
       "9583   IRF7     MX1   0.917227  0.060723  2.976680e-13  3.020735e-09   \n",
       "6581   IRF7  EPSTI1   0.798548  0.083384  1.135444e-07  3.909930e-04   \n",
       "2538   IRF7   HERC6   0.767718  0.104611  1.314186e-07  3.909930e-04   \n",
       "5206   IRF7   IFIT1   0.781096  0.085885  1.541163e-07  3.909930e-04   \n",
       "9582   IRF7     MX2   0.754638  0.087823  3.618774e-07  7.344663e-04   \n",
       "4      IRF7   ISG15   0.751050  0.073313  7.585380e-07  1.282941e-03   \n",
       "462    IRF7  IFI44L   0.712595  0.086325  1.781597e-06  2.283974e-03   \n",
       "6406   IRF7    OAS1   0.697910  0.107587  1.917242e-06  2.283974e-03   \n",
       "5388   IRF7  IFITM3   0.724710  0.074521  2.025598e-06  2.283974e-03   \n",
       "203    IRF7    IFI6   0.697548  0.064869  2.521014e-06  2.558325e-03   \n",
       "1044   IRF7   CMPK2   0.883081  0.105162  5.314339e-06  4.621453e-03   \n",
       "7907   IRF7    XAF1   0.626352  0.111531  5.464864e-06  4.621453e-03   \n",
       "5387   IRF7  IFITM1   0.727041  0.095512  1.056033e-05  7.851150e-03   \n",
       "2063   IRF7   PARP9   0.663671  0.117626  1.155720e-05  7.851150e-03   \n",
       "3296   IRF7   HLA-E   0.693031  0.113548  1.213448e-05  7.851150e-03   \n",
       "6973   IRF7   IFI27   0.662757  0.071830  1.237864e-05  7.851150e-03   \n",
       "1045   IRF7   RSAD2   0.653449  0.087840  1.352308e-05  8.072481e-03   \n",
       "3353   IRF7   PSMB8   0.637104  0.124065  1.626366e-05  8.691562e-03   \n",
       "2156   IRF7  PLSCR1   0.649356  0.097252  1.627313e-05  8.691562e-03   \n",
       "8856   IRF7    BST2   0.636524  0.092574  1.830159e-05  9.286228e-03   \n",
       "\n",
       "           logp  \n",
       "9583  12.526268  \n",
       "6581   6.944834  \n",
       "2538   6.881343  \n",
       "5206   6.812152  \n",
       "9582   6.441439  \n",
       "4      6.120023  \n",
       "462    5.749191  \n",
       "6406   5.717323  \n",
       "5388   5.693447  \n",
       "203    5.598425  \n",
       "1044   5.274551  \n",
       "7907   5.262421  \n",
       "5387   4.976322  \n",
       "2063   4.937147  \n",
       "3296   4.915979  \n",
       "6973   4.907327  \n",
       "1045   4.868925  \n",
       "3353   4.788782  \n",
       "2156   4.788529  \n",
       "8856   4.737511  "
      ]
     },
     "execution_count": 250,
     "metadata": {},
     "output_type": "execute_result"
    }
   ],
   "source": [
    "irf7_df.sort_values('logp', ascending=False).head(20)"
   ]
  },
  {
   "cell_type": "code",
   "execution_count": 247,
   "metadata": {},
   "outputs": [
    {
     "data": {
      "text/html": [
       "<div>\n",
       "<style scoped>\n",
       "    .dataframe tbody tr th:only-of-type {\n",
       "        vertical-align: middle;\n",
       "    }\n",
       "\n",
       "    .dataframe tbody tr th {\n",
       "        vertical-align: top;\n",
       "    }\n",
       "\n",
       "    .dataframe thead th {\n",
       "        text-align: right;\n",
       "    }\n",
       "</style>\n",
       "<table border=\"1\" class=\"dataframe\">\n",
       "  <thead>\n",
       "    <tr style=\"text-align: right;\">\n",
       "      <th></th>\n",
       "      <th>gene_1</th>\n",
       "      <th>gene_2</th>\n",
       "      <th>corr_coef</th>\n",
       "      <th>corr_se</th>\n",
       "      <th>corr_pval</th>\n",
       "      <th>corr_fdr</th>\n",
       "      <th>logp</th>\n",
       "    </tr>\n",
       "  </thead>\n",
       "  <tbody>\n",
       "    <tr>\n",
       "      <th>6408</th>\n",
       "      <td>STAT1</td>\n",
       "      <td>OAS2</td>\n",
       "      <td>0.901655</td>\n",
       "      <td>0.077944</td>\n",
       "      <td>2.915865e-08</td>\n",
       "      <td>0.000167</td>\n",
       "      <td>7.535233</td>\n",
       "    </tr>\n",
       "    <tr>\n",
       "      <th>9582</th>\n",
       "      <td>STAT1</td>\n",
       "      <td>MX2</td>\n",
       "      <td>0.793511</td>\n",
       "      <td>0.092598</td>\n",
       "      <td>4.625450e-08</td>\n",
       "      <td>0.000167</td>\n",
       "      <td>7.334846</td>\n",
       "    </tr>\n",
       "    <tr>\n",
       "      <th>9583</th>\n",
       "      <td>STAT1</td>\n",
       "      <td>MX1</td>\n",
       "      <td>0.824872</td>\n",
       "      <td>0.060023</td>\n",
       "      <td>5.667139e-08</td>\n",
       "      <td>0.000167</td>\n",
       "      <td>7.246636</td>\n",
       "    </tr>\n",
       "    <tr>\n",
       "      <th>7907</th>\n",
       "      <td>STAT1</td>\n",
       "      <td>XAF1</td>\n",
       "      <td>0.727158</td>\n",
       "      <td>0.092976</td>\n",
       "      <td>6.571431e-08</td>\n",
       "      <td>0.000167</td>\n",
       "      <td>7.182340</td>\n",
       "    </tr>\n",
       "    <tr>\n",
       "      <th>3984</th>\n",
       "      <td>STAT1</td>\n",
       "      <td>SAMD9L</td>\n",
       "      <td>0.679193</td>\n",
       "      <td>0.097797</td>\n",
       "      <td>9.592675e-08</td>\n",
       "      <td>0.000195</td>\n",
       "      <td>7.018060</td>\n",
       "    </tr>\n",
       "    <tr>\n",
       "      <th>203</th>\n",
       "      <td>STAT1</td>\n",
       "      <td>IFI6</td>\n",
       "      <td>0.581431</td>\n",
       "      <td>0.067933</td>\n",
       "      <td>5.292960e-07</td>\n",
       "      <td>0.000895</td>\n",
       "      <td>6.276301</td>\n",
       "    </tr>\n",
       "    <tr>\n",
       "      <th>463</th>\n",
       "      <td>STAT1</td>\n",
       "      <td>IFI44</td>\n",
       "      <td>0.717163</td>\n",
       "      <td>0.096622</td>\n",
       "      <td>1.965733e-06</td>\n",
       "      <td>0.002850</td>\n",
       "      <td>5.706476</td>\n",
       "    </tr>\n",
       "    <tr>\n",
       "      <th>8155</th>\n",
       "      <td>STAT1</td>\n",
       "      <td>IFI35</td>\n",
       "      <td>0.682694</td>\n",
       "      <td>0.093186</td>\n",
       "      <td>3.041137e-06</td>\n",
       "      <td>0.003630</td>\n",
       "      <td>5.516964</td>\n",
       "    </tr>\n",
       "    <tr>\n",
       "      <th>6407</th>\n",
       "      <td>STAT1</td>\n",
       "      <td>OAS3</td>\n",
       "      <td>0.733548</td>\n",
       "      <td>0.101393</td>\n",
       "      <td>3.457292e-06</td>\n",
       "      <td>0.003630</td>\n",
       "      <td>5.461264</td>\n",
       "    </tr>\n",
       "    <tr>\n",
       "      <th>5387</th>\n",
       "      <td>STAT1</td>\n",
       "      <td>IFITM1</td>\n",
       "      <td>0.725632</td>\n",
       "      <td>0.080260</td>\n",
       "      <td>3.576697e-06</td>\n",
       "      <td>0.003630</td>\n",
       "      <td>5.446518</td>\n",
       "    </tr>\n",
       "    <tr>\n",
       "      <th>5206</th>\n",
       "      <td>STAT1</td>\n",
       "      <td>IFIT1</td>\n",
       "      <td>0.749353</td>\n",
       "      <td>0.068943</td>\n",
       "      <td>4.371160e-06</td>\n",
       "      <td>0.003849</td>\n",
       "      <td>5.359403</td>\n",
       "    </tr>\n",
       "    <tr>\n",
       "      <th>5447</th>\n",
       "      <td>STAT1</td>\n",
       "      <td>TRIM22</td>\n",
       "      <td>0.707532</td>\n",
       "      <td>0.114077</td>\n",
       "      <td>4.551418e-06</td>\n",
       "      <td>0.003849</td>\n",
       "      <td>5.341853</td>\n",
       "    </tr>\n",
       "    <tr>\n",
       "      <th>462</th>\n",
       "      <td>STAT1</td>\n",
       "      <td>IFI44L</td>\n",
       "      <td>0.686502</td>\n",
       "      <td>0.073355</td>\n",
       "      <td>1.090044e-05</td>\n",
       "      <td>0.008010</td>\n",
       "      <td>4.962556</td>\n",
       "    </tr>\n",
       "    <tr>\n",
       "      <th>2666</th>\n",
       "      <td>STAT1</td>\n",
       "      <td>DDX60L</td>\n",
       "      <td>0.611609</td>\n",
       "      <td>0.083676</td>\n",
       "      <td>1.105024e-05</td>\n",
       "      <td>0.008010</td>\n",
       "      <td>4.956628</td>\n",
       "    </tr>\n",
       "    <tr>\n",
       "      <th>5388</th>\n",
       "      <td>STAT1</td>\n",
       "      <td>IFITM3</td>\n",
       "      <td>0.740275</td>\n",
       "      <td>0.064660</td>\n",
       "      <td>1.304354e-05</td>\n",
       "      <td>0.008702</td>\n",
       "      <td>4.884605</td>\n",
       "    </tr>\n",
       "    <tr>\n",
       "      <th>4</th>\n",
       "      <td>STAT1</td>\n",
       "      <td>ISG15</td>\n",
       "      <td>0.712075</td>\n",
       "      <td>0.063270</td>\n",
       "      <td>1.484473e-05</td>\n",
       "      <td>0.008702</td>\n",
       "      <td>4.828428</td>\n",
       "    </tr>\n",
       "    <tr>\n",
       "      <th>1645</th>\n",
       "      <td>STAT1</td>\n",
       "      <td>SP110</td>\n",
       "      <td>0.621780</td>\n",
       "      <td>0.115562</td>\n",
       "      <td>1.523339e-05</td>\n",
       "      <td>0.008702</td>\n",
       "      <td>4.817203</td>\n",
       "    </tr>\n",
       "    <tr>\n",
       "      <th>8856</th>\n",
       "      <td>STAT1</td>\n",
       "      <td>BST2</td>\n",
       "      <td>0.599108</td>\n",
       "      <td>0.081451</td>\n",
       "      <td>1.543602e-05</td>\n",
       "      <td>0.008702</td>\n",
       "      <td>4.811465</td>\n",
       "    </tr>\n",
       "    <tr>\n",
       "      <th>2386</th>\n",
       "      <td>STAT1</td>\n",
       "      <td>LAP3</td>\n",
       "      <td>0.632030</td>\n",
       "      <td>0.080609</td>\n",
       "      <td>1.698410e-05</td>\n",
       "      <td>0.009071</td>\n",
       "      <td>4.769957</td>\n",
       "    </tr>\n",
       "    <tr>\n",
       "      <th>3850</th>\n",
       "      <td>STAT1</td>\n",
       "      <td>NT5C3A</td>\n",
       "      <td>0.726757</td>\n",
       "      <td>0.107678</td>\n",
       "      <td>1.871809e-05</td>\n",
       "      <td>0.009090</td>\n",
       "      <td>4.727738</td>\n",
       "    </tr>\n",
       "  </tbody>\n",
       "</table>\n",
       "</div>"
      ],
      "text/plain": [
       "     gene_1  gene_2  corr_coef   corr_se     corr_pval  corr_fdr      logp\n",
       "6408  STAT1    OAS2   0.901655  0.077944  2.915865e-08  0.000167  7.535233\n",
       "9582  STAT1     MX2   0.793511  0.092598  4.625450e-08  0.000167  7.334846\n",
       "9583  STAT1     MX1   0.824872  0.060023  5.667139e-08  0.000167  7.246636\n",
       "7907  STAT1    XAF1   0.727158  0.092976  6.571431e-08  0.000167  7.182340\n",
       "3984  STAT1  SAMD9L   0.679193  0.097797  9.592675e-08  0.000195  7.018060\n",
       "203   STAT1    IFI6   0.581431  0.067933  5.292960e-07  0.000895  6.276301\n",
       "463   STAT1   IFI44   0.717163  0.096622  1.965733e-06  0.002850  5.706476\n",
       "8155  STAT1   IFI35   0.682694  0.093186  3.041137e-06  0.003630  5.516964\n",
       "6407  STAT1    OAS3   0.733548  0.101393  3.457292e-06  0.003630  5.461264\n",
       "5387  STAT1  IFITM1   0.725632  0.080260  3.576697e-06  0.003630  5.446518\n",
       "5206  STAT1   IFIT1   0.749353  0.068943  4.371160e-06  0.003849  5.359403\n",
       "5447  STAT1  TRIM22   0.707532  0.114077  4.551418e-06  0.003849  5.341853\n",
       "462   STAT1  IFI44L   0.686502  0.073355  1.090044e-05  0.008010  4.962556\n",
       "2666  STAT1  DDX60L   0.611609  0.083676  1.105024e-05  0.008010  4.956628\n",
       "5388  STAT1  IFITM3   0.740275  0.064660  1.304354e-05  0.008702  4.884605\n",
       "4     STAT1   ISG15   0.712075  0.063270  1.484473e-05  0.008702  4.828428\n",
       "1645  STAT1   SP110   0.621780  0.115562  1.523339e-05  0.008702  4.817203\n",
       "8856  STAT1    BST2   0.599108  0.081451  1.543602e-05  0.008702  4.811465\n",
       "2386  STAT1    LAP3   0.632030  0.080609  1.698410e-05  0.009071  4.769957\n",
       "3850  STAT1  NT5C3A   0.726757  0.107678  1.871809e-05  0.009090  4.727738"
      ]
     },
     "execution_count": 247,
     "metadata": {},
     "output_type": "execute_result"
    }
   ],
   "source": [
    "stat1_df.sort_values('logp', ascending=False).head(20)"
   ]
  },
  {
   "cell_type": "code",
   "execution_count": 224,
   "metadata": {},
   "outputs": [],
   "source": [
    "tf_result = output_dfs['IRF7']\n",
    "tf_result['logp'] = -np.log(tf_result['corr_pval'])"
   ]
  },
  {
   "cell_type": "code",
   "execution_count": 226,
   "metadata": {},
   "outputs": [
    {
     "data": {
      "text/plain": [
       "<matplotlib.collections.PathCollection at 0x7f9abc9857c0>"
      ]
     },
     "execution_count": 226,
     "metadata": {},
     "output_type": "execute_result"
    },
    {
     "data": {
      "image/png": "[encoded data removed]",
      "text/plain": [
       "<Figure size 432x288 with 1 Axes>"
      ]
     },
     "metadata": {
      "needs_background": "light"
     },
     "output_type": "display_data"
    }
   ],
   "source": [
    "plt.scatter(tf_result['corr_coef'],tf_result['logp'], s=1)\n",
    "plt.scatter(\n",
    "    tf_result.query('corr_fdr < 0.1')['corr_coef'],\n",
    "    tf_result.query('corr_fdr < 0.1')['logp'], s=10)"
   ]
  },
  {
   "cell_type": "markdown",
   "metadata": {},
   "source": [
    "### TF-wide enrichment analysis"
   ]
  },
  {
   "cell_type": "code",
   "execution_count": 174,
   "metadata": {},
   "outputs": [],
   "source": [
    "import gseapy as gp"
   ]
  },
  {
   "cell_type": "code",
   "execution_count": null,
   "metadata": {},
   "outputs": [],
   "source": []
  },
  {
   "cell_type": "code",
   "execution_count": 184,
   "metadata": {},
   "outputs": [
    {
     "name": "stdout",
     "output_type": "stream",
     "text": [
      "ETV6 0\n",
      "CEBPD 212\n",
      "ZNF655 0\n",
      "ATF5 0\n",
      "RBPJ 0\n",
      "CREM 89\n",
      "JUN 51\n",
      "NFE2L2 1537\n",
      "AHR 18\n",
      "GTF2B 437\n",
      "NR3C1 0\n",
      "JUNB 8\n",
      "ATF3 0\n",
      "TGIF1 0\n",
      "NFKB1 0\n",
      "ATF4 0\n",
      "FOS 300\n",
      "HBP1 0\n",
      "MAX 0\n",
      "CEBPB 426\n",
      "IRF1 0\n",
      "NR1H2 0\n",
      "BBX 29\n",
      "BACH1 0\n",
      "MAFG 0\n",
      "ZNF267 0\n",
      "IRF2 1\n",
      "STAT3 1\n",
      "RELB 0\n",
      "XBP1 581\n",
      "KLF6 12\n",
      "YY1 624\n",
      "YBX1 1755\n",
      "IRF7 52\n",
      "REL 0\n",
      "ELF1 10\n",
      "DDIT3 0\n",
      "IRF9 166\n",
      "HIF1A 40\n",
      "STAT1 60\n",
      "HMGA1 45\n"
     ]
    }
   ],
   "source": [
    "enrichment_dfs = {}\n",
    "for tf, df in output_dfs.items():\n",
    "    \n",
    "    sig_genes = df.query('corr_fdr < 0.05 & corr_coef > 0').gene_2.tolist()\n",
    "    \n",
    "    print(tf, len(sig_genes))\n",
    "    \n",
    "    if len(sig_genes) < 10:\n",
    "        \n",
    "        continue\n",
    "    \n",
    "    enr = gp.enrichr(\n",
    "        gene_list=sig_genes,\n",
    "        gene_sets=['Reactome_2016'],\n",
    "        organism='Human', # don't forget to set organism to the one you desired! e.g. Yeast\n",
    "        description='test_name',\n",
    "        outdir='./gsea/',\n",
    "        # no_plot=True,\n",
    "        cutoff=0.5 # test dataset, use lower value from range(0,1)\n",
    "    )\n",
    "    \n",
    "    enrichment_dfs[tf] = enr.results\n",
    "    enrichment_dfs[tf]['term'] = enrichment_dfs[tf]['Term'].apply(lambda x : ' '.join(x.split(' ')[:-3]))\n",
    "    enrichment_dfs[tf] = enrichment_dfs[tf][['term', 'Adjusted P-value']]"
   ]
  },
  {
   "cell_type": "code",
   "execution_count": 204,
   "metadata": {},
   "outputs": [
    {
     "data": {
      "text/html": [
       "<div>\n",
       "<style scoped>\n",
       "    .dataframe tbody tr th:only-of-type {\n",
       "        vertical-align: middle;\n",
       "    }\n",
       "\n",
       "    .dataframe tbody tr th {\n",
       "        vertical-align: top;\n",
       "    }\n",
       "\n",
       "    .dataframe thead th {\n",
       "        text-align: right;\n",
       "    }\n",
       "</style>\n",
       "<table border=\"1\" class=\"dataframe\">\n",
       "  <thead>\n",
       "    <tr style=\"text-align: right;\">\n",
       "      <th></th>\n",
       "      <th>term</th>\n",
       "      <th>Adjusted P-value</th>\n",
       "    </tr>\n",
       "  </thead>\n",
       "  <tbody>\n",
       "    <tr>\n",
       "      <th>0</th>\n",
       "      <td>Respiratory electron transport</td>\n",
       "      <td>1.153592e-39</td>\n",
       "    </tr>\n",
       "    <tr>\n",
       "      <th>1</th>\n",
       "      <td>Respiratory electron transport, ATP synthesis ...</td>\n",
       "      <td>1.927268e-34</td>\n",
       "    </tr>\n",
       "    <tr>\n",
       "      <th>2</th>\n",
       "      <td>The citric acid (TCA) cycle and respiratory el...</td>\n",
       "      <td>4.176789e-34</td>\n",
       "    </tr>\n",
       "    <tr>\n",
       "      <th>3</th>\n",
       "      <td>Gene Expression</td>\n",
       "      <td>4.341471e-30</td>\n",
       "    </tr>\n",
       "    <tr>\n",
       "      <th>4</th>\n",
       "      <td>HIV Infection</td>\n",
       "      <td>3.237568e-27</td>\n",
       "    </tr>\n",
       "    <tr>\n",
       "      <th>5</th>\n",
       "      <td>APC/C:Cdc20 mediated degradation of mitotic pr...</td>\n",
       "      <td>2.807358e-23</td>\n",
       "    </tr>\n",
       "    <tr>\n",
       "      <th>6</th>\n",
       "      <td>Activation of APC/C and APC/C:Cdc20 mediated d...</td>\n",
       "      <td>5.010658e-23</td>\n",
       "    </tr>\n",
       "    <tr>\n",
       "      <th>7</th>\n",
       "      <td>Complex I biogenesis</td>\n",
       "      <td>5.481349e-23</td>\n",
       "    </tr>\n",
       "    <tr>\n",
       "      <th>8</th>\n",
       "      <td>Processing of Capped Intron-Containing Pre-mRNA</td>\n",
       "      <td>1.465695e-22</td>\n",
       "    </tr>\n",
       "    <tr>\n",
       "      <th>9</th>\n",
       "      <td>AUF1 (hnRNP D0) binds and destabilizes mRNA</td>\n",
       "      <td>3.104418e-22</td>\n",
       "    </tr>\n",
       "    <tr>\n",
       "      <th>10</th>\n",
       "      <td>Host Interactions of HIV factors</td>\n",
       "      <td>5.337711e-22</td>\n",
       "    </tr>\n",
       "    <tr>\n",
       "      <th>11</th>\n",
       "      <td>APC:Cdc20 mediated degradation of cell cycle p...</td>\n",
       "      <td>6.068534e-22</td>\n",
       "    </tr>\n",
       "    <tr>\n",
       "      <th>12</th>\n",
       "      <td>APC/C-mediated degradation of cell cycle proteins</td>\n",
       "      <td>1.596103e-21</td>\n",
       "    </tr>\n",
       "    <tr>\n",
       "      <th>13</th>\n",
       "      <td>Regulation of mitotic cell cycle</td>\n",
       "      <td>1.596103e-21</td>\n",
       "    </tr>\n",
       "    <tr>\n",
       "      <th>14</th>\n",
       "      <td>Cdc20:Phospho-APC/C mediated degradation of Cy...</td>\n",
       "      <td>3.138940e-21</td>\n",
       "    </tr>\n",
       "  </tbody>\n",
       "</table>\n",
       "</div>"
      ],
      "text/plain": [
       "                                                 term  Adjusted P-value\n",
       "0                      Respiratory electron transport      1.153592e-39\n",
       "1   Respiratory electron transport, ATP synthesis ...      1.927268e-34\n",
       "2   The citric acid (TCA) cycle and respiratory el...      4.176789e-34\n",
       "3                                     Gene Expression      4.341471e-30\n",
       "4                                       HIV Infection      3.237568e-27\n",
       "5   APC/C:Cdc20 mediated degradation of mitotic pr...      2.807358e-23\n",
       "6   Activation of APC/C and APC/C:Cdc20 mediated d...      5.010658e-23\n",
       "7                                Complex I biogenesis      5.481349e-23\n",
       "8     Processing of Capped Intron-Containing Pre-mRNA      1.465695e-22\n",
       "9         AUF1 (hnRNP D0) binds and destabilizes mRNA      3.104418e-22\n",
       "10                   Host Interactions of HIV factors      5.337711e-22\n",
       "11  APC:Cdc20 mediated degradation of cell cycle p...      6.068534e-22\n",
       "12  APC/C-mediated degradation of cell cycle proteins      1.596103e-21\n",
       "13                   Regulation of mitotic cell cycle      1.596103e-21\n",
       "14  Cdc20:Phospho-APC/C mediated degradation of Cy...      3.138940e-21"
      ]
     },
     "execution_count": 204,
     "metadata": {},
     "output_type": "execute_result"
    }
   ],
   "source": [
    "enrichment_dfs['YBX1'].head(15)"
   ]
  },
  {
   "cell_type": "code",
   "execution_count": null,
   "metadata": {},
   "outputs": [],
   "source": []
  },
  {
   "cell_type": "markdown",
   "metadata": {},
   "source": [
    "### ChIP-seq file links"
   ]
  },
  {
   "cell_type": "code",
   "execution_count": 123,
   "metadata": {},
   "outputs": [],
   "source": [
    "chip_urls = {\n",
    "    'CEBPD':'https://www.encodeproject.org/files/ENCFF929XBL/@@download/ENCFF929XBL.bed.gz',\n",
    "    'CREM':'https://www.encodeproject.org/files/ENCFF021XJN/@@download/ENCFF021XJN.bed.gz',\n",
    "    'JUN':'https://www.encodeproject.org/files/ENCFF329CUQ/@@download/ENCFF329CUQ.bed.gz',\n",
    "    'NFE2L2':'https://www.encodeproject.org/files/ENCFF418TUX/@@download/ENCFF418TUX.bed.gz',\n",
    "    'CEBPB':'https://www.encodeproject.org/files/ENCFF155LGO/@@download/ENCFF155LGO.bed.gz',\n",
    "    'XBP1':'https://www.encodeproject.org/files/ENCFF472DLA/@@download/ENCFF472DLA.bed.gz',\n",
    "    'STAT1':'https://www.encodeproject.org/files/ENCFF323QQU/@@download/ENCFF323QQU.bed.gz'\n",
    "}"
   ]
  },
  {
   "cell_type": "markdown",
   "metadata": {},
   "source": [
    "### Label genes as chip-seq hits"
   ]
  },
  {
   "cell_type": "code",
   "execution_count": 124,
   "metadata": {},
   "outputs": [],
   "source": [
    "enc = encode.Encode('/home/ssm-user/Github/misc-seq/miscseq/GRCh38Genes.bed')"
   ]
  },
  {
   "cell_type": "code",
   "execution_count": null,
   "metadata": {},
   "outputs": [],
   "source": [
    "for tf, df in output_dfs.items():\n",
    "    \n",
    "    if tf not in chip_urls:\n",
    "        continue\n",
    "    \n",
    "    tf_bed = enc.get_encode_peaks_union([chip_urls[tf]])\n",
    "    tf_genes = enc.get_peak_genes_bed(tf_bed, 0).query('distance == 0 & ~gene.str.contains(\"MT\").values').gene.tolist()\n",
    "    \n",
    "    df['chip'] = df['gene_2'].apply(lambda x: x in tf_genes)\n",
    "    \n"
   ]
  },
  {
   "cell_type": "code",
   "execution_count": 170,
   "metadata": {},
   "outputs": [],
   "source": [
    "df_list = []\n",
    "for tf, df in output_dfs.items():\n",
    "    \n",
    "    df['sig'] = (df['corr_fdr'] < 0.01) & (df['corr_coef'] > 0)\n",
    "    df_list.append(df)"
   ]
  },
  {
   "cell_type": "code",
   "execution_count": 171,
   "metadata": {},
   "outputs": [],
   "source": [
    "all_df = pd.concat(df_list)\n",
    "tab = pd.crosstab(all_df['chip'], all_df['sig'])"
   ]
  },
  {
   "cell_type": "code",
   "execution_count": 172,
   "metadata": {},
   "outputs": [
    {
     "data": {
      "text/plain": [
       "{'CEBPD': 'https://www.encodeproject.org/files/ENCFF929XBL/@@download/ENCFF929XBL.bed.gz',\n",
       " 'CREM': 'https://www.encodeproject.org/files/ENCFF021XJN/@@download/ENCFF021XJN.bed.gz',\n",
       " 'JUN': 'https://www.encodeproject.org/files/ENCFF329CUQ/@@download/ENCFF329CUQ.bed.gz',\n",
       " 'NFE2L2': 'https://www.encodeproject.org/files/ENCFF418TUX/@@download/ENCFF418TUX.bed.gz',\n",
       " 'CEBPB': 'https://www.encodeproject.org/files/ENCFF155LGO/@@download/ENCFF155LGO.bed.gz',\n",
       " 'XBP1': 'https://www.encodeproject.org/files/ENCFF472DLA/@@download/ENCFF472DLA.bed.gz',\n",
       " 'STAT1': 'https://www.encodeproject.org/files/ENCFF323QQU/@@download/ENCFF323QQU.bed.gz'}"
      ]
     },
     "execution_count": 172,
     "metadata": {},
     "output_type": "execute_result"
    }
   ],
   "source": [
    "chip_urls"
   ]
  },
  {
   "cell_type": "code",
   "execution_count": 173,
   "metadata": {},
   "outputs": [
    {
     "data": {
      "text/plain": [
       "<AxesSubplot:xlabel='chip', ylabel='sig'>"
      ]
     },
     "execution_count": 173,
     "metadata": {},
     "output_type": "execute_result"
    },
    {
     "data": {
      "image/png": "[encoded data removed]",
      "text/plain": [
       "<Figure size 432x288 with 1 Axes>"
      ]
     },
     "metadata": {
      "needs_background": "light"
     },
     "output_type": "display_data"
    }
   ],
   "source": [
    "sns.barplot(x='chip', y='sig', data=all_df.query('gene_1 == \"STAT1\"'))"
   ]
  },
  {
   "cell_type": "code",
   "execution_count": 130,
   "metadata": {},
   "outputs": [
    {
     "data": {
      "text/plain": [
       "(445.56040649511084,\n",
       " 6.672744750886653e-99,\n",
       " 1,\n",
       " array([[47697.82368018,  2131.17631982],\n",
       "        [19154.17631982,   855.82368018]]))"
      ]
     },
     "execution_count": 130,
     "metadata": {},
     "output_type": "execute_result"
    }
   ],
   "source": [
    "stats.chi2_contingency(tab.values)"
   ]
  },
  {
   "cell_type": "code",
   "execution_count": 104,
   "metadata": {},
   "outputs": [
    {
     "ename": "AttributeError",
     "evalue": "'DataFrame' object has no attribute 'crosstab'",
     "output_type": "error",
     "traceback": [
      "\u001b[0;31m---------------------------------------------------------------------------\u001b[0m",
      "\u001b[0;31mAttributeError\u001b[0m                            Traceback (most recent call last)",
      "\u001b[0;32m<ipython-input-104-53acace4d5cc>\u001b[0m in \u001b[0;36m<module>\u001b[0;34m\u001b[0m\n\u001b[0;32m----> 1\u001b[0;31m \u001b[0moutput_dfs\u001b[0m\u001b[0;34m[\u001b[0m\u001b[0;34m'STAT1'\u001b[0m\u001b[0;34m]\u001b[0m\u001b[0;34m.\u001b[0m\u001b[0mcrosstab\u001b[0m\u001b[0;34m(\u001b[0m\u001b[0;34m'chip'\u001b[0m\u001b[0;34m,\u001b[0m \u001b[0;34m'sig'\u001b[0m\u001b[0;34m)\u001b[0m\u001b[0;34m\u001b[0m\u001b[0;34m\u001b[0m\u001b[0m\n\u001b[0m",
      "\u001b[0;32m~/anaconda3/envs/single_cell/lib/python3.8/site-packages/pandas/core/generic.py\u001b[0m in \u001b[0;36m__getattr__\u001b[0;34m(self, name)\u001b[0m\n\u001b[1;32m   5463\u001b[0m             \u001b[0;32mif\u001b[0m \u001b[0mself\u001b[0m\u001b[0;34m.\u001b[0m\u001b[0m_info_axis\u001b[0m\u001b[0;34m.\u001b[0m\u001b[0m_can_hold_identifiers_and_holds_name\u001b[0m\u001b[0;34m(\u001b[0m\u001b[0mname\u001b[0m\u001b[0;34m)\u001b[0m\u001b[0;34m:\u001b[0m\u001b[0;34m\u001b[0m\u001b[0;34m\u001b[0m\u001b[0m\n\u001b[1;32m   5464\u001b[0m                 \u001b[0;32mreturn\u001b[0m \u001b[0mself\u001b[0m\u001b[0;34m[\u001b[0m\u001b[0mname\u001b[0m\u001b[0;34m]\u001b[0m\u001b[0;34m\u001b[0m\u001b[0;34m\u001b[0m\u001b[0m\n\u001b[0;32m-> 5465\u001b[0;31m             \u001b[0;32mreturn\u001b[0m \u001b[0mobject\u001b[0m\u001b[0;34m.\u001b[0m\u001b[0m__getattribute__\u001b[0m\u001b[0;34m(\u001b[0m\u001b[0mself\u001b[0m\u001b[0;34m,\u001b[0m \u001b[0mname\u001b[0m\u001b[0;34m)\u001b[0m\u001b[0;34m\u001b[0m\u001b[0;34m\u001b[0m\u001b[0m\n\u001b[0m\u001b[1;32m   5466\u001b[0m \u001b[0;34m\u001b[0m\u001b[0m\n\u001b[1;32m   5467\u001b[0m     \u001b[0;32mdef\u001b[0m \u001b[0m__setattr__\u001b[0m\u001b[0;34m(\u001b[0m\u001b[0mself\u001b[0m\u001b[0;34m,\u001b[0m \u001b[0mname\u001b[0m\u001b[0;34m:\u001b[0m \u001b[0mstr\u001b[0m\u001b[0;34m,\u001b[0m \u001b[0mvalue\u001b[0m\u001b[0;34m)\u001b[0m \u001b[0;34m->\u001b[0m \u001b[0;32mNone\u001b[0m\u001b[0;34m:\u001b[0m\u001b[0;34m\u001b[0m\u001b[0;34m\u001b[0m\u001b[0m\n",
      "\u001b[0;31mAttributeError\u001b[0m: 'DataFrame' object has no attribute 'crosstab'"
     ]
    }
   ],
   "source": [
    "output_dfs['STAT1'].crosstab('chip', 'sig')"
   ]
  },
  {
   "cell_type": "code",
   "execution_count": null,
   "metadata": {},
   "outputs": [],
   "source": []
  },
  {
   "cell_type": "code",
   "execution_count": 99,
   "metadata": {},
   "outputs": [
    {
     "name": "stderr",
     "output_type": "stream",
     "text": [
      "/home/ssm-user/anaconda3/envs/single_cell/lib/python3.8/subprocess.py:853: RuntimeWarning: line buffering (buffering=1) isn't supported in binary mode, the default buffer size will be used\n",
      "  self.stderr = io.open(errread, 'rb', bufsize)\n",
      "/home/ssm-user/anaconda3/envs/single_cell/lib/python3.8/subprocess.py:853: RuntimeWarning: line buffering (buffering=1) isn't supported in binary mode, the default buffer size will be used\n",
      "  self.stderr = io.open(errread, 'rb', bufsize)\n",
      "/home/ssm-user/anaconda3/envs/single_cell/lib/python3.8/subprocess.py:853: RuntimeWarning: line buffering (buffering=1) isn't supported in binary mode, the default buffer size will be used\n",
      "  self.stderr = io.open(errread, 'rb', bufsize)\n",
      "/home/ssm-user/anaconda3/envs/single_cell/lib/python3.8/subprocess.py:853: RuntimeWarning: line buffering (buffering=1) isn't supported in binary mode, the default buffer size will be used\n",
      "  self.stderr = io.open(errread, 'rb', bufsize)\n",
      "/home/ssm-user/anaconda3/envs/single_cell/lib/python3.8/subprocess.py:853: RuntimeWarning: line buffering (buffering=1) isn't supported in binary mode, the default buffer size will be used\n",
      "  self.stderr = io.open(errread, 'rb', bufsize)\n",
      "/home/ssm-user/anaconda3/envs/single_cell/lib/python3.8/site-packages/pybedtools/bedtool.py:3678: UserWarning: Default names for filetype bed are:\n",
      "['chrom', 'start', 'end', 'name', 'score', 'strand', 'thickStart', 'thickEnd', 'itemRgb', 'blockCount', 'blockSizes', 'blockStarts']\n",
      "but file has 16 fields; you can supply custom names with the `names` kwarg\n",
      "  warn(\n"
     ]
    }
   ],
   "source": [
    "tf_bed = enc.get_encode_peaks_union([chip_urls['CEBPD']])\n",
    "tf_genes = enc.get_peak_genes_bed(tf_bed, 0).query('distance == 0 & ~gene.str.contains(\"MT\").values').gene.tolist()"
   ]
  },
  {
   "cell_type": "code",
   "execution_count": 100,
   "metadata": {},
   "outputs": [
    {
     "data": {
      "text/plain": [
       "3177"
      ]
     },
     "execution_count": 100,
     "metadata": {},
     "output_type": "execute_result"
    }
   ],
   "source": [
    "len(tf_genes)"
   ]
  },
  {
   "cell_type": "code",
   "execution_count": 17,
   "metadata": {},
   "outputs": [],
   "source": [
    "enc = encode.Encode('/home/ssm-user/Github/misc-seq/miscseq/GRCh38Genes.bed')"
   ]
  },
  {
   "cell_type": "code",
   "execution_count": 19,
   "metadata": {},
   "outputs": [
    {
     "name": "stderr",
     "output_type": "stream",
     "text": [
      "/home/ssm-user/anaconda3/envs/single_cell/lib/python3.8/subprocess.py:853: RuntimeWarning: line buffering (buffering=1) isn't supported in binary mode, the default buffer size will be used\n",
      "  self.stderr = io.open(errread, 'rb', bufsize)\n",
      "/home/ssm-user/anaconda3/envs/single_cell/lib/python3.8/subprocess.py:853: RuntimeWarning: line buffering (buffering=1) isn't supported in binary mode, the default buffer size will be used\n",
      "  self.stderr = io.open(errread, 'rb', bufsize)\n"
     ]
    }
   ],
   "source": [
    "intersect_bed = stat1_bed.intersect(stat2_bed).sort()"
   ]
  },
  {
   "cell_type": "code",
   "execution_count": 20,
   "metadata": {},
   "outputs": [
    {
     "name": "stderr",
     "output_type": "stream",
     "text": [
      "/home/ssm-user/anaconda3/envs/single_cell/lib/python3.8/subprocess.py:853: RuntimeWarning: line buffering (buffering=1) isn't supported in binary mode, the default buffer size will be used\n",
      "  self.stderr = io.open(errread, 'rb', bufsize)\n",
      "/home/ssm-user/anaconda3/envs/single_cell/lib/python3.8/subprocess.py:853: RuntimeWarning: line buffering (buffering=1) isn't supported in binary mode, the default buffer size will be used\n",
      "  self.stderr = io.open(errread, 'rb', bufsize)\n",
      "/home/ssm-user/anaconda3/envs/single_cell/lib/python3.8/subprocess.py:853: RuntimeWarning: line buffering (buffering=1) isn't supported in binary mode, the default buffer size will be used\n",
      "  self.stderr = io.open(errread, 'rb', bufsize)\n",
      "/home/ssm-user/anaconda3/envs/single_cell/lib/python3.8/site-packages/pybedtools/bedtool.py:3678: UserWarning: Default names for filetype bed are:\n",
      "['chrom', 'start', 'end', 'name', 'score', 'strand', 'thickStart', 'thickEnd', 'itemRgb', 'blockCount', 'blockSizes', 'blockStarts']\n",
      "but file has 16 fields; you can supply custom names with the `names` kwarg\n",
      "  warn(\n"
     ]
    }
   ],
   "source": [
    "isgf3_genes = enc.get_peak_genes_bed(intersect_bed, 0).query('distance == 0 & ~gene.str.contains(\"MT\").values').gene.tolist()"
   ]
  },
  {
   "cell_type": "code",
   "execution_count": null,
   "metadata": {},
   "outputs": [],
   "source": []
  },
  {
   "cell_type": "code",
   "execution_count": null,
   "metadata": {},
   "outputs": [],
   "source": []
  },
  {
   "cell_type": "code",
   "execution_count": null,
   "metadata": {},
   "outputs": [],
   "source": []
  },
  {
   "cell_type": "code",
   "execution_count": null,
   "metadata": {},
   "outputs": [],
   "source": []
  },
  {
   "cell_type": "code",
   "execution_count": null,
   "metadata": {},
   "outputs": [],
   "source": []
  },
  {
   "cell_type": "code",
   "execution_count": null,
   "metadata": {},
   "outputs": [],
   "source": []
  },
  {
   "cell_type": "code",
   "execution_count": null,
   "metadata": {},
   "outputs": [],
   "source": []
  },
  {
   "cell_type": "code",
   "execution_count": null,
   "metadata": {},
   "outputs": [],
   "source": []
  },
  {
   "cell_type": "code",
   "execution_count": null,
   "metadata": {},
   "outputs": [],
   "source": []
  },
  {
   "cell_type": "code",
   "execution_count": null,
   "metadata": {},
   "outputs": [],
   "source": []
  },
  {
   "cell_type": "markdown",
   "metadata": {},
   "source": [
    "### Construct correlation matrix"
   ]
  },
  {
   "cell_type": "code",
   "execution_count": 85,
   "metadata": {},
   "outputs": [],
   "source": [
    "mat = np.zeros((adata_ctrl.var.index.shape[0], len(tf_list)))*np.nan\n",
    "corr_df = pd.DataFrame(mat, columns=tf_list, index=adata_ctrl.var.index)\n",
    "\n",
    "for tf, df in output_dfs.items():\n",
    "    \n",
    "    sig = df.query('corr_fdr < 0.05 & corr_coef > 0')\n",
    "    corr_df.loc[sig.gene_2.tolist(), tf] = sig.corr_coef.values\n",
    "corr_df = corr_df.dropna(axis=1, how='all')\n",
    "corr_df = corr_df.dropna(axis=0, how='all')\n",
    "\n",
    "sig_genes = corr_df.index.tolist()\n",
    "sig_tfs = corr_df.columns.tolist()\n",
    "\n",
    "mat = np.zeros((adata_ctrl.var.index.shape[0], len(tf_list)))*np.nan\n",
    "corr_df = pd.DataFrame(mat, columns=tf_list, index=adata_ctrl.var.index)\n",
    "\n",
    "for tf, df in output_dfs.items():\n",
    "    \n",
    "    corr_df.loc[df.gene_2.tolist(), tf] = df.corr_coef.values\n",
    "corr_df = corr_df.loc[sig_genes, sig_tfs].copy()"
   ]
  },
  {
   "cell_type": "code",
   "execution_count": 89,
   "metadata": {},
   "outputs": [
    {
     "data": {
      "text/plain": [
       "<seaborn.matrix.ClusterGrid at 0x7f9ae8450af0>"
      ]
     },
     "execution_count": 89,
     "metadata": {},
     "output_type": "execute_result"
    },
    {
     "data": {
      "image/png": "[encoded data removed]",
      "text/plain": [
       "<Figure size 720x720 with 4 Axes>"
      ]
     },
     "metadata": {
      "needs_background": "light"
     },
     "output_type": "display_data"
    }
   ],
   "source": [
    "sns.clustermap(corr_df.fillna(0.0)[['STAT1', 'IRF7', 'IRF9']])"
   ]
  },
  {
   "cell_type": "code",
   "execution_count": 86,
   "metadata": {},
   "outputs": [
    {
     "data": {
      "text/html": [
       "<div>\n",
       "<style scoped>\n",
       "    .dataframe tbody tr th:only-of-type {\n",
       "        vertical-align: middle;\n",
       "    }\n",
       "\n",
       "    .dataframe tbody tr th {\n",
       "        vertical-align: top;\n",
       "    }\n",
       "\n",
       "    .dataframe thead th {\n",
       "        text-align: right;\n",
       "    }\n",
       "</style>\n",
       "<table border=\"1\" class=\"dataframe\">\n",
       "  <thead>\n",
       "    <tr style=\"text-align: right;\">\n",
       "      <th></th>\n",
       "      <th>CEBPD</th>\n",
       "      <th>CREM</th>\n",
       "      <th>JUN</th>\n",
       "      <th>NFE2L2</th>\n",
       "      <th>AHR</th>\n",
       "      <th>GTF2B</th>\n",
       "      <th>JUNB</th>\n",
       "      <th>FOS</th>\n",
       "      <th>CEBPB</th>\n",
       "      <th>BBX</th>\n",
       "      <th>...</th>\n",
       "      <th>XBP1</th>\n",
       "      <th>KLF6</th>\n",
       "      <th>YY1</th>\n",
       "      <th>YBX1</th>\n",
       "      <th>IRF7</th>\n",
       "      <th>ELF1</th>\n",
       "      <th>IRF9</th>\n",
       "      <th>HIF1A</th>\n",
       "      <th>STAT1</th>\n",
       "      <th>HMGA1</th>\n",
       "    </tr>\n",
       "  </thead>\n",
       "  <tbody>\n",
       "    <tr>\n",
       "      <th>HES4</th>\n",
       "      <td>0.173999</td>\n",
       "      <td>0.280675</td>\n",
       "      <td>0.164231</td>\n",
       "      <td>0.145041</td>\n",
       "      <td>0.186672</td>\n",
       "      <td>0.021295</td>\n",
       "      <td>0.211301</td>\n",
       "      <td>0.115798</td>\n",
       "      <td>0.180196</td>\n",
       "      <td>0.098594</td>\n",
       "      <td>...</td>\n",
       "      <td>0.289849</td>\n",
       "      <td>0.162484</td>\n",
       "      <td>0.234702</td>\n",
       "      <td>0.186489</td>\n",
       "      <td>0.082709</td>\n",
       "      <td>-0.023716</td>\n",
       "      <td>0.076103</td>\n",
       "      <td>0.304778</td>\n",
       "      <td>0.139460</td>\n",
       "      <td>0.331008</td>\n",
       "    </tr>\n",
       "    <tr>\n",
       "      <th>ISG15</th>\n",
       "      <td>0.036301</td>\n",
       "      <td>0.108386</td>\n",
       "      <td>-0.054112</td>\n",
       "      <td>0.038329</td>\n",
       "      <td>0.072027</td>\n",
       "      <td>0.010346</td>\n",
       "      <td>0.157664</td>\n",
       "      <td>0.018876</td>\n",
       "      <td>0.174906</td>\n",
       "      <td>0.022831</td>\n",
       "      <td>...</td>\n",
       "      <td>0.018743</td>\n",
       "      <td>0.006748</td>\n",
       "      <td>-0.018510</td>\n",
       "      <td>-0.108393</td>\n",
       "      <td>0.751050</td>\n",
       "      <td>0.264398</td>\n",
       "      <td>0.406563</td>\n",
       "      <td>0.120479</td>\n",
       "      <td>0.712075</td>\n",
       "      <td>0.133431</td>\n",
       "    </tr>\n",
       "    <tr>\n",
       "      <th>SDF4</th>\n",
       "      <td>0.215921</td>\n",
       "      <td>-0.036109</td>\n",
       "      <td>0.156059</td>\n",
       "      <td>0.103896</td>\n",
       "      <td>-0.025990</td>\n",
       "      <td>0.411588</td>\n",
       "      <td>0.173890</td>\n",
       "      <td>0.213615</td>\n",
       "      <td>0.430369</td>\n",
       "      <td>0.265995</td>\n",
       "      <td>...</td>\n",
       "      <td>0.282389</td>\n",
       "      <td>0.352632</td>\n",
       "      <td>0.335271</td>\n",
       "      <td>0.522541</td>\n",
       "      <td>0.165520</td>\n",
       "      <td>-0.094333</td>\n",
       "      <td>-0.234666</td>\n",
       "      <td>-0.096445</td>\n",
       "      <td>-0.142402</td>\n",
       "      <td>0.554139</td>\n",
       "    </tr>\n",
       "    <tr>\n",
       "      <th>UBE2J2</th>\n",
       "      <td>0.122934</td>\n",
       "      <td>0.669866</td>\n",
       "      <td>-0.097923</td>\n",
       "      <td>0.324746</td>\n",
       "      <td>0.140324</td>\n",
       "      <td>0.413055</td>\n",
       "      <td>-0.059094</td>\n",
       "      <td>0.130050</td>\n",
       "      <td>0.667656</td>\n",
       "      <td>0.346123</td>\n",
       "      <td>...</td>\n",
       "      <td>0.165818</td>\n",
       "      <td>-0.025471</td>\n",
       "      <td>0.476971</td>\n",
       "      <td>0.790029</td>\n",
       "      <td>-0.015169</td>\n",
       "      <td>-0.110922</td>\n",
       "      <td>0.166619</td>\n",
       "      <td>0.787093</td>\n",
       "      <td>0.123925</td>\n",
       "      <td>0.647944</td>\n",
       "    </tr>\n",
       "    <tr>\n",
       "      <th>AURKAIP1</th>\n",
       "      <td>0.050719</td>\n",
       "      <td>0.195922</td>\n",
       "      <td>0.139051</td>\n",
       "      <td>0.278535</td>\n",
       "      <td>-0.028331</td>\n",
       "      <td>0.647230</td>\n",
       "      <td>-0.052720</td>\n",
       "      <td>0.176900</td>\n",
       "      <td>0.259545</td>\n",
       "      <td>0.516088</td>\n",
       "      <td>...</td>\n",
       "      <td>0.022268</td>\n",
       "      <td>0.138253</td>\n",
       "      <td>0.453393</td>\n",
       "      <td>0.668321</td>\n",
       "      <td>0.093844</td>\n",
       "      <td>0.179161</td>\n",
       "      <td>0.104666</td>\n",
       "      <td>0.441725</td>\n",
       "      <td>0.142373</td>\n",
       "      <td>0.389738</td>\n",
       "    </tr>\n",
       "    <tr>\n",
       "      <th>...</th>\n",
       "      <td>...</td>\n",
       "      <td>...</td>\n",
       "      <td>...</td>\n",
       "      <td>...</td>\n",
       "      <td>...</td>\n",
       "      <td>...</td>\n",
       "      <td>...</td>\n",
       "      <td>...</td>\n",
       "      <td>...</td>\n",
       "      <td>...</td>\n",
       "      <td>...</td>\n",
       "      <td>...</td>\n",
       "      <td>...</td>\n",
       "      <td>...</td>\n",
       "      <td>...</td>\n",
       "      <td>...</td>\n",
       "      <td>...</td>\n",
       "      <td>...</td>\n",
       "      <td>...</td>\n",
       "      <td>...</td>\n",
       "      <td>...</td>\n",
       "    </tr>\n",
       "    <tr>\n",
       "      <th>DKC1</th>\n",
       "      <td>0.045085</td>\n",
       "      <td>0.159975</td>\n",
       "      <td>0.261999</td>\n",
       "      <td>0.269150</td>\n",
       "      <td>0.132803</td>\n",
       "      <td>0.450085</td>\n",
       "      <td>0.235194</td>\n",
       "      <td>0.298623</td>\n",
       "      <td>0.172440</td>\n",
       "      <td>0.094489</td>\n",
       "      <td>...</td>\n",
       "      <td>0.320760</td>\n",
       "      <td>0.336580</td>\n",
       "      <td>0.200402</td>\n",
       "      <td>0.507826</td>\n",
       "      <td>0.093795</td>\n",
       "      <td>0.195890</td>\n",
       "      <td>0.082501</td>\n",
       "      <td>0.623737</td>\n",
       "      <td>0.220388</td>\n",
       "      <td>0.317876</td>\n",
       "    </tr>\n",
       "    <tr>\n",
       "      <th>FUNDC2</th>\n",
       "      <td>-0.053677</td>\n",
       "      <td>0.520742</td>\n",
       "      <td>0.025836</td>\n",
       "      <td>0.233044</td>\n",
       "      <td>-0.301254</td>\n",
       "      <td>0.582204</td>\n",
       "      <td>-0.163695</td>\n",
       "      <td>0.126915</td>\n",
       "      <td>0.230056</td>\n",
       "      <td>0.197669</td>\n",
       "      <td>...</td>\n",
       "      <td>0.048271</td>\n",
       "      <td>-0.082348</td>\n",
       "      <td>0.233199</td>\n",
       "      <td>0.608644</td>\n",
       "      <td>-0.028603</td>\n",
       "      <td>0.334205</td>\n",
       "      <td>0.223555</td>\n",
       "      <td>0.133242</td>\n",
       "      <td>0.078232</td>\n",
       "      <td>0.714147</td>\n",
       "    </tr>\n",
       "    <tr>\n",
       "      <th>CMC4</th>\n",
       "      <td>0.114388</td>\n",
       "      <td>0.066136</td>\n",
       "      <td>0.228743</td>\n",
       "      <td>0.238986</td>\n",
       "      <td>0.051357</td>\n",
       "      <td>-0.187698</td>\n",
       "      <td>0.137987</td>\n",
       "      <td>0.009602</td>\n",
       "      <td>0.213707</td>\n",
       "      <td>0.010056</td>\n",
       "      <td>...</td>\n",
       "      <td>-0.033188</td>\n",
       "      <td>-0.066541</td>\n",
       "      <td>0.617488</td>\n",
       "      <td>0.385533</td>\n",
       "      <td>0.068484</td>\n",
       "      <td>0.319004</td>\n",
       "      <td>0.232610</td>\n",
       "      <td>0.017020</td>\n",
       "      <td>0.041519</td>\n",
       "      <td>0.116239</td>\n",
       "    </tr>\n",
       "    <tr>\n",
       "      <th>VBP1</th>\n",
       "      <td>0.200067</td>\n",
       "      <td>0.064326</td>\n",
       "      <td>0.118249</td>\n",
       "      <td>0.389074</td>\n",
       "      <td>0.065275</td>\n",
       "      <td>0.142594</td>\n",
       "      <td>0.073276</td>\n",
       "      <td>0.137304</td>\n",
       "      <td>0.153439</td>\n",
       "      <td>0.144313</td>\n",
       "      <td>...</td>\n",
       "      <td>0.151346</td>\n",
       "      <td>0.012300</td>\n",
       "      <td>0.473461</td>\n",
       "      <td>0.556378</td>\n",
       "      <td>-0.106534</td>\n",
       "      <td>0.014355</td>\n",
       "      <td>0.007550</td>\n",
       "      <td>0.285696</td>\n",
       "      <td>-0.006590</td>\n",
       "      <td>0.401606</td>\n",
       "    </tr>\n",
       "    <tr>\n",
       "      <th>AC007325.4</th>\n",
       "      <td>-0.108976</td>\n",
       "      <td>-0.183001</td>\n",
       "      <td>0.129230</td>\n",
       "      <td>0.044987</td>\n",
       "      <td>-0.008285</td>\n",
       "      <td>0.199198</td>\n",
       "      <td>-0.065559</td>\n",
       "      <td>0.396535</td>\n",
       "      <td>-0.009253</td>\n",
       "      <td>0.198041</td>\n",
       "      <td>...</td>\n",
       "      <td>0.027636</td>\n",
       "      <td>0.119971</td>\n",
       "      <td>0.326194</td>\n",
       "      <td>0.227016</td>\n",
       "      <td>-0.061835</td>\n",
       "      <td>-0.187990</td>\n",
       "      <td>-0.275651</td>\n",
       "      <td>0.461694</td>\n",
       "      <td>-0.069093</td>\n",
       "      <td>0.363616</td>\n",
       "    </tr>\n",
       "  </tbody>\n",
       "</table>\n",
       "<p>2906 rows × 22 columns</p>\n",
       "</div>"
      ],
      "text/plain": [
       "               CEBPD      CREM       JUN    NFE2L2       AHR     GTF2B  \\\n",
       "HES4        0.173999  0.280675  0.164231  0.145041  0.186672  0.021295   \n",
       "ISG15       0.036301  0.108386 -0.054112  0.038329  0.072027  0.010346   \n",
       "SDF4        0.215921 -0.036109  0.156059  0.103896 -0.025990  0.411588   \n",
       "UBE2J2      0.122934  0.669866 -0.097923  0.324746  0.140324  0.413055   \n",
       "AURKAIP1    0.050719  0.195922  0.139051  0.278535 -0.028331  0.647230   \n",
       "...              ...       ...       ...       ...       ...       ...   \n",
       "DKC1        0.045085  0.159975  0.261999  0.269150  0.132803  0.450085   \n",
       "FUNDC2     -0.053677  0.520742  0.025836  0.233044 -0.301254  0.582204   \n",
       "CMC4        0.114388  0.066136  0.228743  0.238986  0.051357 -0.187698   \n",
       "VBP1        0.200067  0.064326  0.118249  0.389074  0.065275  0.142594   \n",
       "AC007325.4 -0.108976 -0.183001  0.129230  0.044987 -0.008285  0.199198   \n",
       "\n",
       "                JUNB       FOS     CEBPB       BBX  ...      XBP1      KLF6  \\\n",
       "HES4        0.211301  0.115798  0.180196  0.098594  ...  0.289849  0.162484   \n",
       "ISG15       0.157664  0.018876  0.174906  0.022831  ...  0.018743  0.006748   \n",
       "SDF4        0.173890  0.213615  0.430369  0.265995  ...  0.282389  0.352632   \n",
       "UBE2J2     -0.059094  0.130050  0.667656  0.346123  ...  0.165818 -0.025471   \n",
       "AURKAIP1   -0.052720  0.176900  0.259545  0.516088  ...  0.022268  0.138253   \n",
       "...              ...       ...       ...       ...  ...       ...       ...   \n",
       "DKC1        0.235194  0.298623  0.172440  0.094489  ...  0.320760  0.336580   \n",
       "FUNDC2     -0.163695  0.126915  0.230056  0.197669  ...  0.048271 -0.082348   \n",
       "CMC4        0.137987  0.009602  0.213707  0.010056  ... -0.033188 -0.066541   \n",
       "VBP1        0.073276  0.137304  0.153439  0.144313  ...  0.151346  0.012300   \n",
       "AC007325.4 -0.065559  0.396535 -0.009253  0.198041  ...  0.027636  0.119971   \n",
       "\n",
       "                 YY1      YBX1      IRF7      ELF1      IRF9     HIF1A  \\\n",
       "HES4        0.234702  0.186489  0.082709 -0.023716  0.076103  0.304778   \n",
       "ISG15      -0.018510 -0.108393  0.751050  0.264398  0.406563  0.120479   \n",
       "SDF4        0.335271  0.522541  0.165520 -0.094333 -0.234666 -0.096445   \n",
       "UBE2J2      0.476971  0.790029 -0.015169 -0.110922  0.166619  0.787093   \n",
       "AURKAIP1    0.453393  0.668321  0.093844  0.179161  0.104666  0.441725   \n",
       "...              ...       ...       ...       ...       ...       ...   \n",
       "DKC1        0.200402  0.507826  0.093795  0.195890  0.082501  0.623737   \n",
       "FUNDC2      0.233199  0.608644 -0.028603  0.334205  0.223555  0.133242   \n",
       "CMC4        0.617488  0.385533  0.068484  0.319004  0.232610  0.017020   \n",
       "VBP1        0.473461  0.556378 -0.106534  0.014355  0.007550  0.285696   \n",
       "AC007325.4  0.326194  0.227016 -0.061835 -0.187990 -0.275651  0.461694   \n",
       "\n",
       "               STAT1     HMGA1  \n",
       "HES4        0.139460  0.331008  \n",
       "ISG15       0.712075  0.133431  \n",
       "SDF4       -0.142402  0.554139  \n",
       "UBE2J2      0.123925  0.647944  \n",
       "AURKAIP1    0.142373  0.389738  \n",
       "...              ...       ...  \n",
       "DKC1        0.220388  0.317876  \n",
       "FUNDC2      0.078232  0.714147  \n",
       "CMC4        0.041519  0.116239  \n",
       "VBP1       -0.006590  0.401606  \n",
       "AC007325.4 -0.069093  0.363616  \n",
       "\n",
       "[2906 rows x 22 columns]"
      ]
     },
     "execution_count": 86,
     "metadata": {},
     "output_type": "execute_result"
    }
   ],
   "source": [
    "corr_df"
   ]
  },
  {
   "cell_type": "code",
   "execution_count": null,
   "metadata": {},
   "outputs": [],
   "source": []
  },
  {
   "cell_type": "code",
   "execution_count": 78,
   "metadata": {},
   "outputs": [
    {
     "data": {
      "text/html": [
       "<div>\n",
       "<style scoped>\n",
       "    .dataframe tbody tr th:only-of-type {\n",
       "        vertical-align: middle;\n",
       "    }\n",
       "\n",
       "    .dataframe tbody tr th {\n",
       "        vertical-align: top;\n",
       "    }\n",
       "\n",
       "    .dataframe thead th {\n",
       "        text-align: right;\n",
       "    }\n",
       "</style>\n",
       "<table border=\"1\" class=\"dataframe\">\n",
       "  <thead>\n",
       "    <tr style=\"text-align: right;\">\n",
       "      <th></th>\n",
       "      <th>CEBPD</th>\n",
       "      <th>CREM</th>\n",
       "      <th>JUN</th>\n",
       "      <th>NFE2L2</th>\n",
       "      <th>AHR</th>\n",
       "      <th>GTF2B</th>\n",
       "      <th>JUNB</th>\n",
       "      <th>FOS</th>\n",
       "      <th>CEBPB</th>\n",
       "      <th>BBX</th>\n",
       "      <th>...</th>\n",
       "      <th>XBP1</th>\n",
       "      <th>KLF6</th>\n",
       "      <th>YY1</th>\n",
       "      <th>YBX1</th>\n",
       "      <th>IRF7</th>\n",
       "      <th>ELF1</th>\n",
       "      <th>IRF9</th>\n",
       "      <th>HIF1A</th>\n",
       "      <th>STAT1</th>\n",
       "      <th>HMGA1</th>\n",
       "    </tr>\n",
       "  </thead>\n",
       "  <tbody>\n",
       "    <tr>\n",
       "      <th>HES4</th>\n",
       "      <td>NaN</td>\n",
       "      <td>NaN</td>\n",
       "      <td>NaN</td>\n",
       "      <td>NaN</td>\n",
       "      <td>NaN</td>\n",
       "      <td>NaN</td>\n",
       "      <td>NaN</td>\n",
       "      <td>NaN</td>\n",
       "      <td>NaN</td>\n",
       "      <td>NaN</td>\n",
       "      <td>...</td>\n",
       "      <td>0.289849</td>\n",
       "      <td>NaN</td>\n",
       "      <td>NaN</td>\n",
       "      <td>NaN</td>\n",
       "      <td>NaN</td>\n",
       "      <td>NaN</td>\n",
       "      <td>NaN</td>\n",
       "      <td>NaN</td>\n",
       "      <td>NaN</td>\n",
       "      <td>NaN</td>\n",
       "    </tr>\n",
       "    <tr>\n",
       "      <th>ISG15</th>\n",
       "      <td>NaN</td>\n",
       "      <td>NaN</td>\n",
       "      <td>NaN</td>\n",
       "      <td>NaN</td>\n",
       "      <td>NaN</td>\n",
       "      <td>NaN</td>\n",
       "      <td>NaN</td>\n",
       "      <td>NaN</td>\n",
       "      <td>NaN</td>\n",
       "      <td>NaN</td>\n",
       "      <td>...</td>\n",
       "      <td>NaN</td>\n",
       "      <td>NaN</td>\n",
       "      <td>NaN</td>\n",
       "      <td>NaN</td>\n",
       "      <td>0.75105</td>\n",
       "      <td>NaN</td>\n",
       "      <td>0.406563</td>\n",
       "      <td>NaN</td>\n",
       "      <td>0.712075</td>\n",
       "      <td>NaN</td>\n",
       "    </tr>\n",
       "    <tr>\n",
       "      <th>SDF4</th>\n",
       "      <td>NaN</td>\n",
       "      <td>NaN</td>\n",
       "      <td>NaN</td>\n",
       "      <td>NaN</td>\n",
       "      <td>NaN</td>\n",
       "      <td>NaN</td>\n",
       "      <td>NaN</td>\n",
       "      <td>NaN</td>\n",
       "      <td>NaN</td>\n",
       "      <td>NaN</td>\n",
       "      <td>...</td>\n",
       "      <td>NaN</td>\n",
       "      <td>NaN</td>\n",
       "      <td>NaN</td>\n",
       "      <td>0.522541</td>\n",
       "      <td>NaN</td>\n",
       "      <td>NaN</td>\n",
       "      <td>NaN</td>\n",
       "      <td>NaN</td>\n",
       "      <td>NaN</td>\n",
       "      <td>NaN</td>\n",
       "    </tr>\n",
       "    <tr>\n",
       "      <th>UBE2J2</th>\n",
       "      <td>NaN</td>\n",
       "      <td>NaN</td>\n",
       "      <td>NaN</td>\n",
       "      <td>NaN</td>\n",
       "      <td>NaN</td>\n",
       "      <td>NaN</td>\n",
       "      <td>NaN</td>\n",
       "      <td>NaN</td>\n",
       "      <td>NaN</td>\n",
       "      <td>NaN</td>\n",
       "      <td>...</td>\n",
       "      <td>NaN</td>\n",
       "      <td>NaN</td>\n",
       "      <td>NaN</td>\n",
       "      <td>0.790029</td>\n",
       "      <td>NaN</td>\n",
       "      <td>NaN</td>\n",
       "      <td>NaN</td>\n",
       "      <td>NaN</td>\n",
       "      <td>NaN</td>\n",
       "      <td>NaN</td>\n",
       "    </tr>\n",
       "    <tr>\n",
       "      <th>AURKAIP1</th>\n",
       "      <td>NaN</td>\n",
       "      <td>NaN</td>\n",
       "      <td>NaN</td>\n",
       "      <td>0.278535</td>\n",
       "      <td>NaN</td>\n",
       "      <td>0.64723</td>\n",
       "      <td>NaN</td>\n",
       "      <td>NaN</td>\n",
       "      <td>NaN</td>\n",
       "      <td>0.516088</td>\n",
       "      <td>...</td>\n",
       "      <td>NaN</td>\n",
       "      <td>NaN</td>\n",
       "      <td>0.453393</td>\n",
       "      <td>0.668321</td>\n",
       "      <td>NaN</td>\n",
       "      <td>NaN</td>\n",
       "      <td>NaN</td>\n",
       "      <td>NaN</td>\n",
       "      <td>NaN</td>\n",
       "      <td>NaN</td>\n",
       "    </tr>\n",
       "    <tr>\n",
       "      <th>...</th>\n",
       "      <td>...</td>\n",
       "      <td>...</td>\n",
       "      <td>...</td>\n",
       "      <td>...</td>\n",
       "      <td>...</td>\n",
       "      <td>...</td>\n",
       "      <td>...</td>\n",
       "      <td>...</td>\n",
       "      <td>...</td>\n",
       "      <td>...</td>\n",
       "      <td>...</td>\n",
       "      <td>...</td>\n",
       "      <td>...</td>\n",
       "      <td>...</td>\n",
       "      <td>...</td>\n",
       "      <td>...</td>\n",
       "      <td>...</td>\n",
       "      <td>...</td>\n",
       "      <td>...</td>\n",
       "      <td>...</td>\n",
       "      <td>...</td>\n",
       "    </tr>\n",
       "    <tr>\n",
       "      <th>DKC1</th>\n",
       "      <td>NaN</td>\n",
       "      <td>NaN</td>\n",
       "      <td>NaN</td>\n",
       "      <td>NaN</td>\n",
       "      <td>NaN</td>\n",
       "      <td>NaN</td>\n",
       "      <td>NaN</td>\n",
       "      <td>NaN</td>\n",
       "      <td>NaN</td>\n",
       "      <td>NaN</td>\n",
       "      <td>...</td>\n",
       "      <td>NaN</td>\n",
       "      <td>NaN</td>\n",
       "      <td>NaN</td>\n",
       "      <td>0.507826</td>\n",
       "      <td>NaN</td>\n",
       "      <td>NaN</td>\n",
       "      <td>NaN</td>\n",
       "      <td>NaN</td>\n",
       "      <td>NaN</td>\n",
       "      <td>NaN</td>\n",
       "    </tr>\n",
       "    <tr>\n",
       "      <th>FUNDC2</th>\n",
       "      <td>NaN</td>\n",
       "      <td>NaN</td>\n",
       "      <td>NaN</td>\n",
       "      <td>NaN</td>\n",
       "      <td>NaN</td>\n",
       "      <td>NaN</td>\n",
       "      <td>NaN</td>\n",
       "      <td>NaN</td>\n",
       "      <td>NaN</td>\n",
       "      <td>NaN</td>\n",
       "      <td>...</td>\n",
       "      <td>NaN</td>\n",
       "      <td>NaN</td>\n",
       "      <td>NaN</td>\n",
       "      <td>0.608644</td>\n",
       "      <td>NaN</td>\n",
       "      <td>NaN</td>\n",
       "      <td>NaN</td>\n",
       "      <td>NaN</td>\n",
       "      <td>NaN</td>\n",
       "      <td>NaN</td>\n",
       "    </tr>\n",
       "    <tr>\n",
       "      <th>CMC4</th>\n",
       "      <td>NaN</td>\n",
       "      <td>NaN</td>\n",
       "      <td>NaN</td>\n",
       "      <td>NaN</td>\n",
       "      <td>NaN</td>\n",
       "      <td>NaN</td>\n",
       "      <td>NaN</td>\n",
       "      <td>NaN</td>\n",
       "      <td>NaN</td>\n",
       "      <td>NaN</td>\n",
       "      <td>...</td>\n",
       "      <td>NaN</td>\n",
       "      <td>NaN</td>\n",
       "      <td>0.617488</td>\n",
       "      <td>0.385533</td>\n",
       "      <td>NaN</td>\n",
       "      <td>NaN</td>\n",
       "      <td>NaN</td>\n",
       "      <td>NaN</td>\n",
       "      <td>NaN</td>\n",
       "      <td>NaN</td>\n",
       "    </tr>\n",
       "    <tr>\n",
       "      <th>VBP1</th>\n",
       "      <td>NaN</td>\n",
       "      <td>NaN</td>\n",
       "      <td>NaN</td>\n",
       "      <td>0.389074</td>\n",
       "      <td>NaN</td>\n",
       "      <td>NaN</td>\n",
       "      <td>NaN</td>\n",
       "      <td>NaN</td>\n",
       "      <td>NaN</td>\n",
       "      <td>NaN</td>\n",
       "      <td>...</td>\n",
       "      <td>NaN</td>\n",
       "      <td>NaN</td>\n",
       "      <td>NaN</td>\n",
       "      <td>0.556378</td>\n",
       "      <td>NaN</td>\n",
       "      <td>NaN</td>\n",
       "      <td>NaN</td>\n",
       "      <td>NaN</td>\n",
       "      <td>NaN</td>\n",
       "      <td>NaN</td>\n",
       "    </tr>\n",
       "    <tr>\n",
       "      <th>AC007325.4</th>\n",
       "      <td>NaN</td>\n",
       "      <td>NaN</td>\n",
       "      <td>NaN</td>\n",
       "      <td>NaN</td>\n",
       "      <td>NaN</td>\n",
       "      <td>NaN</td>\n",
       "      <td>NaN</td>\n",
       "      <td>0.396535</td>\n",
       "      <td>NaN</td>\n",
       "      <td>NaN</td>\n",
       "      <td>...</td>\n",
       "      <td>NaN</td>\n",
       "      <td>NaN</td>\n",
       "      <td>NaN</td>\n",
       "      <td>NaN</td>\n",
       "      <td>NaN</td>\n",
       "      <td>NaN</td>\n",
       "      <td>NaN</td>\n",
       "      <td>NaN</td>\n",
       "      <td>NaN</td>\n",
       "      <td>NaN</td>\n",
       "    </tr>\n",
       "  </tbody>\n",
       "</table>\n",
       "<p>2906 rows × 22 columns</p>\n",
       "</div>"
      ],
      "text/plain": [
       "            CEBPD  CREM  JUN    NFE2L2  AHR    GTF2B  JUNB       FOS  CEBPB  \\\n",
       "HES4          NaN   NaN  NaN       NaN  NaN      NaN   NaN       NaN    NaN   \n",
       "ISG15         NaN   NaN  NaN       NaN  NaN      NaN   NaN       NaN    NaN   \n",
       "SDF4          NaN   NaN  NaN       NaN  NaN      NaN   NaN       NaN    NaN   \n",
       "UBE2J2        NaN   NaN  NaN       NaN  NaN      NaN   NaN       NaN    NaN   \n",
       "AURKAIP1      NaN   NaN  NaN  0.278535  NaN  0.64723   NaN       NaN    NaN   \n",
       "...           ...   ...  ...       ...  ...      ...   ...       ...    ...   \n",
       "DKC1          NaN   NaN  NaN       NaN  NaN      NaN   NaN       NaN    NaN   \n",
       "FUNDC2        NaN   NaN  NaN       NaN  NaN      NaN   NaN       NaN    NaN   \n",
       "CMC4          NaN   NaN  NaN       NaN  NaN      NaN   NaN       NaN    NaN   \n",
       "VBP1          NaN   NaN  NaN  0.389074  NaN      NaN   NaN       NaN    NaN   \n",
       "AC007325.4    NaN   NaN  NaN       NaN  NaN      NaN   NaN  0.396535    NaN   \n",
       "\n",
       "                 BBX  ...      XBP1  KLF6       YY1      YBX1     IRF7  ELF1  \\\n",
       "HES4             NaN  ...  0.289849   NaN       NaN       NaN      NaN   NaN   \n",
       "ISG15            NaN  ...       NaN   NaN       NaN       NaN  0.75105   NaN   \n",
       "SDF4             NaN  ...       NaN   NaN       NaN  0.522541      NaN   NaN   \n",
       "UBE2J2           NaN  ...       NaN   NaN       NaN  0.790029      NaN   NaN   \n",
       "AURKAIP1    0.516088  ...       NaN   NaN  0.453393  0.668321      NaN   NaN   \n",
       "...              ...  ...       ...   ...       ...       ...      ...   ...   \n",
       "DKC1             NaN  ...       NaN   NaN       NaN  0.507826      NaN   NaN   \n",
       "FUNDC2           NaN  ...       NaN   NaN       NaN  0.608644      NaN   NaN   \n",
       "CMC4             NaN  ...       NaN   NaN  0.617488  0.385533      NaN   NaN   \n",
       "VBP1             NaN  ...       NaN   NaN       NaN  0.556378      NaN   NaN   \n",
       "AC007325.4       NaN  ...       NaN   NaN       NaN       NaN      NaN   NaN   \n",
       "\n",
       "                IRF9  HIF1A     STAT1  HMGA1  \n",
       "HES4             NaN    NaN       NaN    NaN  \n",
       "ISG15       0.406563    NaN  0.712075    NaN  \n",
       "SDF4             NaN    NaN       NaN    NaN  \n",
       "UBE2J2           NaN    NaN       NaN    NaN  \n",
       "AURKAIP1         NaN    NaN       NaN    NaN  \n",
       "...              ...    ...       ...    ...  \n",
       "DKC1             NaN    NaN       NaN    NaN  \n",
       "FUNDC2           NaN    NaN       NaN    NaN  \n",
       "CMC4             NaN    NaN       NaN    NaN  \n",
       "VBP1             NaN    NaN       NaN    NaN  \n",
       "AC007325.4       NaN    NaN       NaN    NaN  \n",
       "\n",
       "[2906 rows x 22 columns]"
      ]
     },
     "execution_count": 78,
     "metadata": {},
     "output_type": "execute_result"
    }
   ],
   "source": [
    "corr_df"
   ]
  },
  {
   "cell_type": "code",
   "execution_count": 73,
   "metadata": {},
   "outputs": [
    {
     "data": {
      "text/plain": [
       "409696"
      ]
     },
     "execution_count": 73,
     "metadata": {},
     "output_type": "execute_result"
    }
   ],
   "source": [
    "np.isnan(corr_df.values).sum()"
   ]
  },
  {
   "cell_type": "code",
   "execution_count": 74,
   "metadata": {},
   "outputs": [
    {
     "data": {
      "text/plain": [
       "416150"
      ]
     },
     "execution_count": 74,
     "metadata": {},
     "output_type": "execute_result"
    }
   ],
   "source": [
    "adata_ctrl.var.index.shape[0]* len(tf_list)"
   ]
  },
  {
   "cell_type": "code",
   "execution_count": 63,
   "metadata": {},
   "outputs": [
    {
     "data": {
      "text/plain": [
       "'HMGA1'"
      ]
     },
     "execution_count": 63,
     "metadata": {},
     "output_type": "execute_result"
    }
   ],
   "source": [
    "tf"
   ]
  },
  {
   "cell_type": "code",
   "execution_count": 62,
   "metadata": {},
   "outputs": [
    {
     "data": {
      "text/plain": [
       "['YBX1',\n",
       " 'F3',\n",
       " 'OST4',\n",
       " 'TMSB10',\n",
       " 'PTMA',\n",
       " 'CXCL8',\n",
       " 'CXCL1',\n",
       " 'NPM1',\n",
       " 'HNRNPAB',\n",
       " 'RACK1',\n",
       " 'SOX4',\n",
       " 'EEF1A1',\n",
       " 'RAC1',\n",
       " 'NDUFA4',\n",
       " 'AGR2',\n",
       " 'CAV2',\n",
       " 'RDH10',\n",
       " 'LYPD2',\n",
       " 'POLR2L',\n",
       " 'MDK',\n",
       " 'FAU',\n",
       " 'CFL1',\n",
       " 'CTSC',\n",
       " 'GAPDH',\n",
       " 'TPI1',\n",
       " 'MGST1',\n",
       " 'NACA',\n",
       " 'UBC',\n",
       " 'TPT1',\n",
       " 'SERF2',\n",
       " 'HERPUD1',\n",
       " 'COX4I1',\n",
       " 'KRT19',\n",
       " 'ACTG1',\n",
       " 'SERPINB3',\n",
       " 'CYB5A',\n",
       " 'UBA52',\n",
       " 'CXCL17',\n",
       " 'KLK11',\n",
       " 'CDC42EP5',\n",
       " 'SLPI',\n",
       " 'WFDC2',\n",
       " 'RBX1',\n",
       " 'TMSB4X',\n",
       " 'SSR4']"
      ]
     },
     "execution_count": 62,
     "metadata": {},
     "output_type": "execute_result"
    }
   ],
   "source": [
    "sig.gene_2.tolist()"
   ]
  },
  {
   "cell_type": "code",
   "execution_count": 61,
   "metadata": {},
   "outputs": [
    {
     "data": {
      "text/html": [
       "<div>\n",
       "<style scoped>\n",
       "    .dataframe tbody tr th:only-of-type {\n",
       "        vertical-align: middle;\n",
       "    }\n",
       "\n",
       "    .dataframe tbody tr th {\n",
       "        vertical-align: top;\n",
       "    }\n",
       "\n",
       "    .dataframe thead th {\n",
       "        text-align: right;\n",
       "    }\n",
       "</style>\n",
       "<table border=\"1\" class=\"dataframe\">\n",
       "  <thead>\n",
       "    <tr style=\"text-align: right;\">\n",
       "      <th></th>\n",
       "      <th>ETV6</th>\n",
       "      <th>CEBPD</th>\n",
       "      <th>ZNF655</th>\n",
       "      <th>ATF5</th>\n",
       "      <th>RBPJ</th>\n",
       "      <th>CREM</th>\n",
       "      <th>JUN</th>\n",
       "      <th>NFE2L2</th>\n",
       "      <th>AHR</th>\n",
       "      <th>GTF2B</th>\n",
       "      <th>...</th>\n",
       "      <th>YY1</th>\n",
       "      <th>YBX1</th>\n",
       "      <th>IRF7</th>\n",
       "      <th>REL</th>\n",
       "      <th>ELF1</th>\n",
       "      <th>DDIT3</th>\n",
       "      <th>IRF9</th>\n",
       "      <th>HIF1A</th>\n",
       "      <th>STAT1</th>\n",
       "      <th>HMGA1</th>\n",
       "    </tr>\n",
       "  </thead>\n",
       "  <tbody>\n",
       "    <tr>\n",
       "      <th>LINC01409</th>\n",
       "      <td>NaN</td>\n",
       "      <td>NaN</td>\n",
       "      <td>NaN</td>\n",
       "      <td>NaN</td>\n",
       "      <td>NaN</td>\n",
       "      <td>NaN</td>\n",
       "      <td>NaN</td>\n",
       "      <td>NaN</td>\n",
       "      <td>NaN</td>\n",
       "      <td>NaN</td>\n",
       "      <td>...</td>\n",
       "      <td>NaN</td>\n",
       "      <td>NaN</td>\n",
       "      <td>NaN</td>\n",
       "      <td>NaN</td>\n",
       "      <td>NaN</td>\n",
       "      <td>NaN</td>\n",
       "      <td>NaN</td>\n",
       "      <td>NaN</td>\n",
       "      <td>NaN</td>\n",
       "      <td>NaN</td>\n",
       "    </tr>\n",
       "    <tr>\n",
       "      <th>FAM41C</th>\n",
       "      <td>NaN</td>\n",
       "      <td>NaN</td>\n",
       "      <td>NaN</td>\n",
       "      <td>NaN</td>\n",
       "      <td>NaN</td>\n",
       "      <td>NaN</td>\n",
       "      <td>NaN</td>\n",
       "      <td>NaN</td>\n",
       "      <td>NaN</td>\n",
       "      <td>NaN</td>\n",
       "      <td>...</td>\n",
       "      <td>NaN</td>\n",
       "      <td>NaN</td>\n",
       "      <td>NaN</td>\n",
       "      <td>NaN</td>\n",
       "      <td>NaN</td>\n",
       "      <td>NaN</td>\n",
       "      <td>NaN</td>\n",
       "      <td>NaN</td>\n",
       "      <td>NaN</td>\n",
       "      <td>NaN</td>\n",
       "    </tr>\n",
       "    <tr>\n",
       "      <th>NOC2L</th>\n",
       "      <td>NaN</td>\n",
       "      <td>NaN</td>\n",
       "      <td>NaN</td>\n",
       "      <td>NaN</td>\n",
       "      <td>NaN</td>\n",
       "      <td>NaN</td>\n",
       "      <td>NaN</td>\n",
       "      <td>NaN</td>\n",
       "      <td>NaN</td>\n",
       "      <td>NaN</td>\n",
       "      <td>...</td>\n",
       "      <td>NaN</td>\n",
       "      <td>NaN</td>\n",
       "      <td>NaN</td>\n",
       "      <td>NaN</td>\n",
       "      <td>NaN</td>\n",
       "      <td>NaN</td>\n",
       "      <td>NaN</td>\n",
       "      <td>NaN</td>\n",
       "      <td>NaN</td>\n",
       "      <td>NaN</td>\n",
       "    </tr>\n",
       "    <tr>\n",
       "      <th>HES4</th>\n",
       "      <td>NaN</td>\n",
       "      <td>NaN</td>\n",
       "      <td>NaN</td>\n",
       "      <td>NaN</td>\n",
       "      <td>NaN</td>\n",
       "      <td>NaN</td>\n",
       "      <td>NaN</td>\n",
       "      <td>NaN</td>\n",
       "      <td>NaN</td>\n",
       "      <td>NaN</td>\n",
       "      <td>...</td>\n",
       "      <td>NaN</td>\n",
       "      <td>NaN</td>\n",
       "      <td>NaN</td>\n",
       "      <td>NaN</td>\n",
       "      <td>NaN</td>\n",
       "      <td>NaN</td>\n",
       "      <td>NaN</td>\n",
       "      <td>NaN</td>\n",
       "      <td>NaN</td>\n",
       "      <td>NaN</td>\n",
       "    </tr>\n",
       "    <tr>\n",
       "      <th>ISG15</th>\n",
       "      <td>NaN</td>\n",
       "      <td>NaN</td>\n",
       "      <td>NaN</td>\n",
       "      <td>NaN</td>\n",
       "      <td>NaN</td>\n",
       "      <td>NaN</td>\n",
       "      <td>NaN</td>\n",
       "      <td>NaN</td>\n",
       "      <td>NaN</td>\n",
       "      <td>NaN</td>\n",
       "      <td>...</td>\n",
       "      <td>NaN</td>\n",
       "      <td>NaN</td>\n",
       "      <td>NaN</td>\n",
       "      <td>NaN</td>\n",
       "      <td>NaN</td>\n",
       "      <td>NaN</td>\n",
       "      <td>NaN</td>\n",
       "      <td>NaN</td>\n",
       "      <td>NaN</td>\n",
       "      <td>NaN</td>\n",
       "    </tr>\n",
       "    <tr>\n",
       "      <th>...</th>\n",
       "      <td>...</td>\n",
       "      <td>...</td>\n",
       "      <td>...</td>\n",
       "      <td>...</td>\n",
       "      <td>...</td>\n",
       "      <td>...</td>\n",
       "      <td>...</td>\n",
       "      <td>...</td>\n",
       "      <td>...</td>\n",
       "      <td>...</td>\n",
       "      <td>...</td>\n",
       "      <td>...</td>\n",
       "      <td>...</td>\n",
       "      <td>...</td>\n",
       "      <td>...</td>\n",
       "      <td>...</td>\n",
       "      <td>...</td>\n",
       "      <td>...</td>\n",
       "      <td>...</td>\n",
       "      <td>...</td>\n",
       "      <td>...</td>\n",
       "    </tr>\n",
       "    <tr>\n",
       "      <th>BRCC3</th>\n",
       "      <td>NaN</td>\n",
       "      <td>NaN</td>\n",
       "      <td>NaN</td>\n",
       "      <td>NaN</td>\n",
       "      <td>NaN</td>\n",
       "      <td>NaN</td>\n",
       "      <td>NaN</td>\n",
       "      <td>NaN</td>\n",
       "      <td>NaN</td>\n",
       "      <td>NaN</td>\n",
       "      <td>...</td>\n",
       "      <td>NaN</td>\n",
       "      <td>NaN</td>\n",
       "      <td>NaN</td>\n",
       "      <td>NaN</td>\n",
       "      <td>NaN</td>\n",
       "      <td>NaN</td>\n",
       "      <td>NaN</td>\n",
       "      <td>NaN</td>\n",
       "      <td>NaN</td>\n",
       "      <td>NaN</td>\n",
       "    </tr>\n",
       "    <tr>\n",
       "      <th>VBP1</th>\n",
       "      <td>NaN</td>\n",
       "      <td>NaN</td>\n",
       "      <td>NaN</td>\n",
       "      <td>NaN</td>\n",
       "      <td>NaN</td>\n",
       "      <td>NaN</td>\n",
       "      <td>NaN</td>\n",
       "      <td>NaN</td>\n",
       "      <td>NaN</td>\n",
       "      <td>NaN</td>\n",
       "      <td>...</td>\n",
       "      <td>NaN</td>\n",
       "      <td>NaN</td>\n",
       "      <td>NaN</td>\n",
       "      <td>NaN</td>\n",
       "      <td>NaN</td>\n",
       "      <td>NaN</td>\n",
       "      <td>NaN</td>\n",
       "      <td>NaN</td>\n",
       "      <td>NaN</td>\n",
       "      <td>NaN</td>\n",
       "    </tr>\n",
       "    <tr>\n",
       "      <th>TMLHE</th>\n",
       "      <td>NaN</td>\n",
       "      <td>NaN</td>\n",
       "      <td>NaN</td>\n",
       "      <td>NaN</td>\n",
       "      <td>NaN</td>\n",
       "      <td>NaN</td>\n",
       "      <td>NaN</td>\n",
       "      <td>NaN</td>\n",
       "      <td>NaN</td>\n",
       "      <td>NaN</td>\n",
       "      <td>...</td>\n",
       "      <td>NaN</td>\n",
       "      <td>NaN</td>\n",
       "      <td>NaN</td>\n",
       "      <td>NaN</td>\n",
       "      <td>NaN</td>\n",
       "      <td>NaN</td>\n",
       "      <td>NaN</td>\n",
       "      <td>NaN</td>\n",
       "      <td>NaN</td>\n",
       "      <td>NaN</td>\n",
       "    </tr>\n",
       "    <tr>\n",
       "      <th>VAMP7</th>\n",
       "      <td>NaN</td>\n",
       "      <td>NaN</td>\n",
       "      <td>NaN</td>\n",
       "      <td>NaN</td>\n",
       "      <td>NaN</td>\n",
       "      <td>NaN</td>\n",
       "      <td>NaN</td>\n",
       "      <td>NaN</td>\n",
       "      <td>NaN</td>\n",
       "      <td>NaN</td>\n",
       "      <td>...</td>\n",
       "      <td>NaN</td>\n",
       "      <td>NaN</td>\n",
       "      <td>NaN</td>\n",
       "      <td>NaN</td>\n",
       "      <td>NaN</td>\n",
       "      <td>NaN</td>\n",
       "      <td>NaN</td>\n",
       "      <td>NaN</td>\n",
       "      <td>NaN</td>\n",
       "      <td>NaN</td>\n",
       "    </tr>\n",
       "    <tr>\n",
       "      <th>AC007325.4</th>\n",
       "      <td>NaN</td>\n",
       "      <td>NaN</td>\n",
       "      <td>NaN</td>\n",
       "      <td>NaN</td>\n",
       "      <td>NaN</td>\n",
       "      <td>NaN</td>\n",
       "      <td>NaN</td>\n",
       "      <td>NaN</td>\n",
       "      <td>NaN</td>\n",
       "      <td>NaN</td>\n",
       "      <td>...</td>\n",
       "      <td>NaN</td>\n",
       "      <td>NaN</td>\n",
       "      <td>NaN</td>\n",
       "      <td>NaN</td>\n",
       "      <td>NaN</td>\n",
       "      <td>NaN</td>\n",
       "      <td>NaN</td>\n",
       "      <td>NaN</td>\n",
       "      <td>NaN</td>\n",
       "      <td>NaN</td>\n",
       "    </tr>\n",
       "  </tbody>\n",
       "</table>\n",
       "<p>10150 rows × 41 columns</p>\n",
       "</div>"
      ],
      "text/plain": [
       "            ETV6  CEBPD  ZNF655  ATF5  RBPJ  CREM  JUN  NFE2L2  AHR  GTF2B  \\\n",
       "LINC01409    NaN    NaN     NaN   NaN   NaN   NaN  NaN     NaN  NaN    NaN   \n",
       "FAM41C       NaN    NaN     NaN   NaN   NaN   NaN  NaN     NaN  NaN    NaN   \n",
       "NOC2L        NaN    NaN     NaN   NaN   NaN   NaN  NaN     NaN  NaN    NaN   \n",
       "HES4         NaN    NaN     NaN   NaN   NaN   NaN  NaN     NaN  NaN    NaN   \n",
       "ISG15        NaN    NaN     NaN   NaN   NaN   NaN  NaN     NaN  NaN    NaN   \n",
       "...          ...    ...     ...   ...   ...   ...  ...     ...  ...    ...   \n",
       "BRCC3        NaN    NaN     NaN   NaN   NaN   NaN  NaN     NaN  NaN    NaN   \n",
       "VBP1         NaN    NaN     NaN   NaN   NaN   NaN  NaN     NaN  NaN    NaN   \n",
       "TMLHE        NaN    NaN     NaN   NaN   NaN   NaN  NaN     NaN  NaN    NaN   \n",
       "VAMP7        NaN    NaN     NaN   NaN   NaN   NaN  NaN     NaN  NaN    NaN   \n",
       "AC007325.4   NaN    NaN     NaN   NaN   NaN   NaN  NaN     NaN  NaN    NaN   \n",
       "\n",
       "            ...  YY1  YBX1  IRF7  REL  ELF1  DDIT3  IRF9  HIF1A  STAT1  HMGA1  \n",
       "LINC01409   ...  NaN   NaN   NaN  NaN   NaN    NaN   NaN    NaN    NaN    NaN  \n",
       "FAM41C      ...  NaN   NaN   NaN  NaN   NaN    NaN   NaN    NaN    NaN    NaN  \n",
       "NOC2L       ...  NaN   NaN   NaN  NaN   NaN    NaN   NaN    NaN    NaN    NaN  \n",
       "HES4        ...  NaN   NaN   NaN  NaN   NaN    NaN   NaN    NaN    NaN    NaN  \n",
       "ISG15       ...  NaN   NaN   NaN  NaN   NaN    NaN   NaN    NaN    NaN    NaN  \n",
       "...         ...  ...   ...   ...  ...   ...    ...   ...    ...    ...    ...  \n",
       "BRCC3       ...  NaN   NaN   NaN  NaN   NaN    NaN   NaN    NaN    NaN    NaN  \n",
       "VBP1        ...  NaN   NaN   NaN  NaN   NaN    NaN   NaN    NaN    NaN    NaN  \n",
       "TMLHE       ...  NaN   NaN   NaN  NaN   NaN    NaN   NaN    NaN    NaN    NaN  \n",
       "VAMP7       ...  NaN   NaN   NaN  NaN   NaN    NaN   NaN    NaN    NaN    NaN  \n",
       "AC007325.4  ...  NaN   NaN   NaN  NaN   NaN    NaN   NaN    NaN    NaN    NaN  \n",
       "\n",
       "[10150 rows x 41 columns]"
      ]
     },
     "execution_count": 61,
     "metadata": {},
     "output_type": "execute_result"
    }
   ],
   "source": [
    "corr_df"
   ]
  },
  {
   "cell_type": "markdown",
   "metadata": {},
   "source": [
    "### Compute DC genes for all TFs"
   ]
  },
  {
   "cell_type": "code",
   "execution_count": 14,
   "metadata": {},
   "outputs": [],
   "source": [
    "filtered_tfs = \"\"\"MAFG\n",
    "SPI1\n",
    "ZNF655\n",
    "MAX\n",
    "ATF4\n",
    "ATF3\n",
    "IRF2\n",
    "IRF1\n",
    "ARID5A\n",
    "BACH1\n",
    "YY1\n",
    "HMGA1\n",
    "IRF7\n",
    "STAT1\n",
    "NR1H2\n",
    "XBP1\n",
    "ETV6\n",
    "MSC\n",
    "ATF5\n",
    "MAFB\n",
    "FOS\n",
    "CEBPB\n",
    "BBX\n",
    "STAT3\n",
    "REL\n",
    "JUN\n",
    "CEBPD\n",
    "DDIT3\n",
    "NR3C1\n",
    "TGIF1\n",
    "ZNF267\n",
    "NFE2L2\n",
    "HIF1A\n",
    "AHR\n",
    "GTF2B\n",
    "CREM\n",
    "HBP1\n",
    "RELB\n",
    "TFEC\n",
    "YBX1\n",
    "ELF1\n",
    "JUNB\n",
    "NFKB1\n",
    "IRF9\n",
    "RBPJ\n",
    "KLF6\"\"\".split()"
   ]
  },
  {
   "cell_type": "code",
   "execution_count": 16,
   "metadata": {},
   "outputs": [],
   "source": [
    "def get_2d_ht(tf, ct, stim):\n",
    "    \n",
    "    adata_stim = adata.copy()[\n",
    "        adata.obs.cell_type.isin(ct) & \\\n",
    "        adata.obs.time.isin(['0', '6']) & \\\n",
    "        adata.obs.stim.isin(['control', stim])].copy()\n",
    "    time_converter={0:0, int('6'):1}\n",
    "    adata_stim.obs['time_step'] = adata_stim.obs['time'].astype(int).apply(lambda x: time_converter[x])\n",
    "\n",
    "    memento.create_groups(adata_stim, label_columns=['time', 'donor'])\n",
    "    memento.compute_1d_moments(adata_stim, min_perc_group=.9)\n",
    "    moment_1d_df = memento.get_1d_moments(adata_stim, groupby='time')\n",
    "    \n",
    "    available_tfs = list(set(filtered_tfs) & set(moment_1d_df[0].gene))\n",
    "    \n",
    "    memento.compute_2d_moments(adata_stim, list(itertools.product(available_tfs, adata_stim.var.index)))\n",
    "    \n",
    "    moment_df = memento.get_2d_moments(adata_stim, groupby='time')\n",
    "    \n",
    "    candidates = moment_df.query('time_0 > 0.35 | time_6 > 0.35')\n",
    "    candidates = list(zip(candidates['gene_1'], candidates['gene_2']))\n",
    "    \n",
    "    adata_stim = adata.copy()[\n",
    "        adata.obs.cell_type.isin(ct) & \\\n",
    "        adata.obs.time.isin(['0', '6']) & \\\n",
    "        adata.obs.stim.isin(['control', stim])].copy()\n",
    "    \n",
    "    adata_stim.obs['time_step'] = adata_stim.obs['time'].astype(int).apply(lambda x: time_converter[x])\n",
    "\n",
    "    memento.create_groups(adata_stim, label_columns=['time_step', 'donor'])\n",
    "    memento.compute_1d_moments(adata_stim, min_perc_group=.9)\n",
    "    memento.compute_2d_moments(adata_stim, candidates)\n",
    "    \n",
    "    memento.ht_2d_moments( \n",
    "        adata_stim, \n",
    "        formula_like='1 + time_step',\n",
    "        cov_column='time_step', \n",
    "        num_boot=10000, \n",
    "        verbose=1,\n",
    "        num_cpus=13)\n",
    "    \n",
    "    \n",
    "    ht_df = memento.get_2d_ht_result(adata_stim)\n",
    "    \n",
    "    return ht_df"
   ]
  },
  {
   "cell_type": "code",
   "execution_count": 17,
   "metadata": {},
   "outputs": [
    {
     "name": "stderr",
     "output_type": "stream",
     "text": [
      "/home/ssm-user/Github/scrna-parameter-estimation/dist/memento-0.0.5-py3.8.egg/memento/main.py:594: RuntimeWarning: invalid value encountered in true_divide\n",
      "[Parallel(n_jobs=13)]: Using backend LokyBackend with 13 concurrent workers.\n",
      "[Parallel(n_jobs=13)]: Done  24 tasks      | elapsed:    5.1s\n",
      "[Parallel(n_jobs=13)]: Done 174 tasks      | elapsed:   16.3s\n",
      "[Parallel(n_jobs=13)]: Done 424 tasks      | elapsed:   33.8s\n",
      "[Parallel(n_jobs=13)]: Done 774 tasks      | elapsed:   58.8s\n",
      "[Parallel(n_jobs=13)]: Done 1224 tasks      | elapsed:  1.5min\n",
      "[Parallel(n_jobs=13)]: Done 1774 tasks      | elapsed:  2.1min\n",
      "[Parallel(n_jobs=13)]: Done 2424 tasks      | elapsed:  3.0min\n",
      "[Parallel(n_jobs=13)]: Done 3174 tasks      | elapsed:  3.9min\n",
      "[Parallel(n_jobs=13)]: Done 4024 tasks      | elapsed:  4.7min\n",
      "[Parallel(n_jobs=13)]: Done 4974 tasks      | elapsed:  5.5min\n",
      "[Parallel(n_jobs=13)]: Done 6024 tasks      | elapsed:  6.4min\n",
      "[Parallel(n_jobs=13)]: Done 7174 tasks      | elapsed:  7.4min\n",
      "[Parallel(n_jobs=13)]: Done 8424 tasks      | elapsed:  8.3min\n",
      "[Parallel(n_jobs=13)]: Done 9774 tasks      | elapsed:  9.9min\n",
      "[Parallel(n_jobs=13)]: Done 11224 tasks      | elapsed: 12.2min\n",
      "[Parallel(n_jobs=13)]: Done 12774 tasks      | elapsed: 13.7min\n",
      "[Parallel(n_jobs=13)]: Done 14424 tasks      | elapsed: 15.5min\n",
      "[Parallel(n_jobs=13)]: Done 16174 tasks      | elapsed: 16.9min\n",
      "[Parallel(n_jobs=13)]: Done 18024 tasks      | elapsed: 18.9min\n",
      "[Parallel(n_jobs=13)]: Done 19974 tasks      | elapsed: 21.3min\n",
      "[Parallel(n_jobs=13)]: Done 22024 tasks      | elapsed: 23.4min\n",
      "[Parallel(n_jobs=13)]: Done 24174 tasks      | elapsed: 26.0min\n",
      "[Parallel(n_jobs=13)]: Done 26424 tasks      | elapsed: 28.5min\n",
      "[Parallel(n_jobs=13)]: Done 28774 tasks      | elapsed: 30.4min\n",
      "[Parallel(n_jobs=13)]: Done 42024 tasks      | elapsed: 43.5min\n",
      "[Parallel(n_jobs=13)]: Done 44974 tasks      | elapsed: 47.2min\n",
      "[Parallel(n_jobs=13)]: Done 48024 tasks      | elapsed: 49.6min\n",
      "[Parallel(n_jobs=13)]: Done 51174 tasks      | elapsed: 52.1min\n",
      "[Parallel(n_jobs=13)]: Done 54424 tasks      | elapsed: 54.8min\n",
      "[Parallel(n_jobs=13)]: Done 57774 tasks      | elapsed: 58.2min\n",
      "[Parallel(n_jobs=13)]: Done 61224 tasks      | elapsed: 61.9min\n",
      "[Parallel(n_jobs=13)]: Done 64774 tasks      | elapsed: 65.7min\n",
      "[Parallel(n_jobs=13)]: Done 68424 tasks      | elapsed: 69.2min\n",
      "[Parallel(n_jobs=13)]: Done 72174 tasks      | elapsed: 72.4min\n",
      "[Parallel(n_jobs=13)]: Done 76024 tasks      | elapsed: 77.1min\n",
      "[Parallel(n_jobs=13)]: Done 79974 tasks      | elapsed: 82.3min\n",
      "[Parallel(n_jobs=13)]: Done 84024 tasks      | elapsed: 88.1min\n",
      "[Parallel(n_jobs=13)]: Done 88174 tasks      | elapsed: 92.8min\n",
      "[Parallel(n_jobs=13)]: Done 92424 tasks      | elapsed: 97.6min\n",
      "[Parallel(n_jobs=13)]: Done 92700 out of 92700 | elapsed: 97.9min finished\n"
     ]
    }
   ],
   "source": [
    "alpha_ht_df = get_2d_ht('STAT1', ['ciliated'], 'alpha')"
   ]
  },
  {
   "cell_type": "code",
   "execution_count": null,
   "metadata": {},
   "outputs": [],
   "source": [
    "alpha_ht_df.to_csv(data_path + 'alpha_dc_result.csv', index=False)"
   ]
  },
  {
   "cell_type": "code",
   "execution_count": null,
   "metadata": {},
   "outputs": [
    {
     "name": "stderr",
     "output_type": "stream",
     "text": [
      "/home/ssm-user/anaconda3/envs/single_cell/lib/python3.8/site-packages/pandas/core/arrays/categorical.py:2487: FutureWarning: The `inplace` parameter in pandas.Categorical.remove_unused_categories is deprecated and will be removed in a future version.\n",
      "  res = method(*args, **kwargs)\n",
      "/home/ssm-user/Github/scrna-parameter-estimation/dist/memento-0.0.5-py3.8.egg/memento/main.py:594: RuntimeWarning: invalid value encountered in true_divide\n"
     ]
    },
    {
     "ename": "KeyboardInterrupt",
     "evalue": "",
     "output_type": "error",
     "traceback": [
      "\u001b[0;31m---------------------------------------------------------------------------\u001b[0m",
      "\u001b[0;31mKeyboardInterrupt\u001b[0m                         Traceback (most recent call last)",
      "\u001b[0;32m<ipython-input-19-06723e511652>\u001b[0m in \u001b[0;36m<module>\u001b[0;34m\u001b[0m\n\u001b[0;32m----> 1\u001b[0;31m \u001b[0mbeta_ht_df\u001b[0m \u001b[0;34m=\u001b[0m \u001b[0mget_2d_ht\u001b[0m\u001b[0;34m(\u001b[0m\u001b[0;34m'STAT1'\u001b[0m\u001b[0;34m,\u001b[0m \u001b[0;34m[\u001b[0m\u001b[0;34m'ciliated'\u001b[0m\u001b[0;34m]\u001b[0m\u001b[0;34m,\u001b[0m \u001b[0;34m'beta'\u001b[0m\u001b[0;34m)\u001b[0m\u001b[0;34m\u001b[0m\u001b[0;34m\u001b[0m\u001b[0m\n\u001b[0m",
      "\u001b[0;32m<ipython-input-16-a1544cb5b81c>\u001b[0m in \u001b[0;36mget_2d_ht\u001b[0;34m(tf, ct, stim)\u001b[0m\n\u001b[1;32m     32\u001b[0m     \u001b[0mmemento\u001b[0m\u001b[0;34m.\u001b[0m\u001b[0mcompute_2d_moments\u001b[0m\u001b[0;34m(\u001b[0m\u001b[0madata_stim\u001b[0m\u001b[0;34m,\u001b[0m \u001b[0mcandidates\u001b[0m\u001b[0;34m)\u001b[0m\u001b[0;34m\u001b[0m\u001b[0;34m\u001b[0m\u001b[0m\n\u001b[1;32m     33\u001b[0m \u001b[0;34m\u001b[0m\u001b[0m\n\u001b[0;32m---> 34\u001b[0;31m     memento.ht_2d_moments( \n\u001b[0m\u001b[1;32m     35\u001b[0m         \u001b[0madata_stim\u001b[0m\u001b[0;34m,\u001b[0m\u001b[0;34m\u001b[0m\u001b[0;34m\u001b[0m\u001b[0m\n\u001b[1;32m     36\u001b[0m         \u001b[0mformula_like\u001b[0m\u001b[0;34m=\u001b[0m\u001b[0;34m'1 + time_step'\u001b[0m\u001b[0;34m,\u001b[0m\u001b[0;34m\u001b[0m\u001b[0;34m\u001b[0m\u001b[0m\n",
      "\u001b[0;32m~/Github/scrna-parameter-estimation/dist/memento-0.0.5-py3.8.egg/memento/main.py\u001b[0m in \u001b[0;36mht_2d_moments\u001b[0;34m(adata, formula_like, cov_column, inplace, num_boot, verbose, num_cpus)\u001b[0m\n\u001b[1;32m    455\u001b[0m                                 \u001b[0mhypothesis_test\u001b[0m\u001b[0;34m.\u001b[0m\u001b[0m_ht_2d\u001b[0m\u001b[0;34m,\u001b[0m\u001b[0;34m\u001b[0m\u001b[0;34m\u001b[0m\u001b[0m\n\u001b[1;32m    456\u001b[0m                                 \u001b[0mtrue_corr\u001b[0m\u001b[0;34m=\u001b[0m\u001b[0;34m[\u001b[0m\u001b[0madata\u001b[0m\u001b[0;34m.\u001b[0m\u001b[0muns\u001b[0m\u001b[0;34m[\u001b[0m\u001b[0;34m'memento'\u001b[0m\u001b[0;34m]\u001b[0m\u001b[0;34m[\u001b[0m\u001b[0;34m'2d_moments'\u001b[0m\u001b[0;34m]\u001b[0m\u001b[0;34m[\u001b[0m\u001b[0mgroup\u001b[0m\u001b[0;34m]\u001b[0m\u001b[0;34m[\u001b[0m\u001b[0;34m'corr'\u001b[0m\u001b[0;34m]\u001b[0m\u001b[0;34m[\u001b[0m\u001b[0mconv_idx\u001b[0m\u001b[0;34m]\u001b[0m \u001b[0;32mfor\u001b[0m \u001b[0mgroup\u001b[0m \u001b[0;32min\u001b[0m \u001b[0madata\u001b[0m\u001b[0;34m.\u001b[0m\u001b[0muns\u001b[0m\u001b[0;34m[\u001b[0m\u001b[0;34m'memento'\u001b[0m\u001b[0;34m]\u001b[0m\u001b[0;34m[\u001b[0m\u001b[0;34m'groups'\u001b[0m\u001b[0;34m]\u001b[0m\u001b[0;34m]\u001b[0m\u001b[0;34m,\u001b[0m\u001b[0;34m\u001b[0m\u001b[0;34m\u001b[0m\u001b[0m\n\u001b[0;32m--> 457\u001b[0;31m                                 \u001b[0mcells\u001b[0m\u001b[0;34m=\u001b[0m\u001b[0;34m[\u001b[0m\u001b[0madata\u001b[0m\u001b[0;34m.\u001b[0m\u001b[0muns\u001b[0m\u001b[0;34m[\u001b[0m\u001b[0;34m'memento'\u001b[0m\u001b[0;34m]\u001b[0m\u001b[0;34m[\u001b[0m\u001b[0;34m'group_cells'\u001b[0m\u001b[0;34m]\u001b[0m\u001b[0;34m[\u001b[0m\u001b[0mgroup\u001b[0m\u001b[0;34m]\u001b[0m\u001b[0;34m[\u001b[0m\u001b[0;34m:\u001b[0m\u001b[0;34m,\u001b[0m \u001b[0;34m[\u001b[0m\u001b[0midx_1\u001b[0m\u001b[0;34m,\u001b[0m \u001b[0midx_2\u001b[0m\u001b[0;34m]\u001b[0m\u001b[0;34m]\u001b[0m \u001b[0;32mfor\u001b[0m \u001b[0mgroup\u001b[0m \u001b[0;32min\u001b[0m \u001b[0madata\u001b[0m\u001b[0;34m.\u001b[0m\u001b[0muns\u001b[0m\u001b[0;34m[\u001b[0m\u001b[0;34m'memento'\u001b[0m\u001b[0;34m]\u001b[0m\u001b[0;34m[\u001b[0m\u001b[0;34m'groups'\u001b[0m\u001b[0;34m]\u001b[0m\u001b[0;34m]\u001b[0m\u001b[0;34m,\u001b[0m\u001b[0;34m\u001b[0m\u001b[0;34m\u001b[0m\u001b[0m\n\u001b[0m\u001b[1;32m    458\u001b[0m                                 \u001b[0mapprox_sf\u001b[0m\u001b[0;34m=\u001b[0m\u001b[0;34m[\u001b[0m\u001b[0madata\u001b[0m\u001b[0;34m.\u001b[0m\u001b[0muns\u001b[0m\u001b[0;34m[\u001b[0m\u001b[0;34m'memento'\u001b[0m\u001b[0;34m]\u001b[0m\u001b[0;34m[\u001b[0m\u001b[0;34m'approx_size_factor'\u001b[0m\u001b[0;34m]\u001b[0m\u001b[0;34m[\u001b[0m\u001b[0mgroup\u001b[0m\u001b[0;34m]\u001b[0m \u001b[0;32mfor\u001b[0m \u001b[0mgroup\u001b[0m \u001b[0;32min\u001b[0m \u001b[0madata\u001b[0m\u001b[0;34m.\u001b[0m\u001b[0muns\u001b[0m\u001b[0;34m[\u001b[0m\u001b[0;34m'memento'\u001b[0m\u001b[0;34m]\u001b[0m\u001b[0;34m[\u001b[0m\u001b[0;34m'groups'\u001b[0m\u001b[0;34m]\u001b[0m\u001b[0;34m]\u001b[0m\u001b[0;34m,\u001b[0m\u001b[0;34m\u001b[0m\u001b[0;34m\u001b[0m\u001b[0m\n\u001b[1;32m    459\u001b[0m                                 \u001b[0mdesign_matrix\u001b[0m\u001b[0;34m=\u001b[0m\u001b[0mdesign_matrix\u001b[0m\u001b[0;34m,\u001b[0m\u001b[0;34m\u001b[0m\u001b[0;34m\u001b[0m\u001b[0m\n",
      "\u001b[0;32m~/Github/scrna-parameter-estimation/dist/memento-0.0.5-py3.8.egg/memento/main.py\u001b[0m in \u001b[0;36m<listcomp>\u001b[0;34m(.0)\u001b[0m\n\u001b[1;32m    455\u001b[0m                                 \u001b[0mhypothesis_test\u001b[0m\u001b[0;34m.\u001b[0m\u001b[0m_ht_2d\u001b[0m\u001b[0;34m,\u001b[0m\u001b[0;34m\u001b[0m\u001b[0;34m\u001b[0m\u001b[0m\n\u001b[1;32m    456\u001b[0m                                 \u001b[0mtrue_corr\u001b[0m\u001b[0;34m=\u001b[0m\u001b[0;34m[\u001b[0m\u001b[0madata\u001b[0m\u001b[0;34m.\u001b[0m\u001b[0muns\u001b[0m\u001b[0;34m[\u001b[0m\u001b[0;34m'memento'\u001b[0m\u001b[0;34m]\u001b[0m\u001b[0;34m[\u001b[0m\u001b[0;34m'2d_moments'\u001b[0m\u001b[0;34m]\u001b[0m\u001b[0;34m[\u001b[0m\u001b[0mgroup\u001b[0m\u001b[0;34m]\u001b[0m\u001b[0;34m[\u001b[0m\u001b[0;34m'corr'\u001b[0m\u001b[0;34m]\u001b[0m\u001b[0;34m[\u001b[0m\u001b[0mconv_idx\u001b[0m\u001b[0;34m]\u001b[0m \u001b[0;32mfor\u001b[0m \u001b[0mgroup\u001b[0m \u001b[0;32min\u001b[0m \u001b[0madata\u001b[0m\u001b[0;34m.\u001b[0m\u001b[0muns\u001b[0m\u001b[0;34m[\u001b[0m\u001b[0;34m'memento'\u001b[0m\u001b[0;34m]\u001b[0m\u001b[0;34m[\u001b[0m\u001b[0;34m'groups'\u001b[0m\u001b[0;34m]\u001b[0m\u001b[0;34m]\u001b[0m\u001b[0;34m,\u001b[0m\u001b[0;34m\u001b[0m\u001b[0;34m\u001b[0m\u001b[0m\n\u001b[0;32m--> 457\u001b[0;31m                                 \u001b[0mcells\u001b[0m\u001b[0;34m=\u001b[0m\u001b[0;34m[\u001b[0m\u001b[0madata\u001b[0m\u001b[0;34m.\u001b[0m\u001b[0muns\u001b[0m\u001b[0;34m[\u001b[0m\u001b[0;34m'memento'\u001b[0m\u001b[0;34m]\u001b[0m\u001b[0;34m[\u001b[0m\u001b[0;34m'group_cells'\u001b[0m\u001b[0;34m]\u001b[0m\u001b[0;34m[\u001b[0m\u001b[0mgroup\u001b[0m\u001b[0;34m]\u001b[0m\u001b[0;34m[\u001b[0m\u001b[0;34m:\u001b[0m\u001b[0;34m,\u001b[0m \u001b[0;34m[\u001b[0m\u001b[0midx_1\u001b[0m\u001b[0;34m,\u001b[0m \u001b[0midx_2\u001b[0m\u001b[0;34m]\u001b[0m\u001b[0;34m]\u001b[0m \u001b[0;32mfor\u001b[0m \u001b[0mgroup\u001b[0m \u001b[0;32min\u001b[0m \u001b[0madata\u001b[0m\u001b[0;34m.\u001b[0m\u001b[0muns\u001b[0m\u001b[0;34m[\u001b[0m\u001b[0;34m'memento'\u001b[0m\u001b[0;34m]\u001b[0m\u001b[0;34m[\u001b[0m\u001b[0;34m'groups'\u001b[0m\u001b[0;34m]\u001b[0m\u001b[0;34m]\u001b[0m\u001b[0;34m,\u001b[0m\u001b[0;34m\u001b[0m\u001b[0;34m\u001b[0m\u001b[0m\n\u001b[0m\u001b[1;32m    458\u001b[0m                                 \u001b[0mapprox_sf\u001b[0m\u001b[0;34m=\u001b[0m\u001b[0;34m[\u001b[0m\u001b[0madata\u001b[0m\u001b[0;34m.\u001b[0m\u001b[0muns\u001b[0m\u001b[0;34m[\u001b[0m\u001b[0;34m'memento'\u001b[0m\u001b[0;34m]\u001b[0m\u001b[0;34m[\u001b[0m\u001b[0;34m'approx_size_factor'\u001b[0m\u001b[0;34m]\u001b[0m\u001b[0;34m[\u001b[0m\u001b[0mgroup\u001b[0m\u001b[0;34m]\u001b[0m \u001b[0;32mfor\u001b[0m \u001b[0mgroup\u001b[0m \u001b[0;32min\u001b[0m \u001b[0madata\u001b[0m\u001b[0;34m.\u001b[0m\u001b[0muns\u001b[0m\u001b[0;34m[\u001b[0m\u001b[0;34m'memento'\u001b[0m\u001b[0;34m]\u001b[0m\u001b[0;34m[\u001b[0m\u001b[0;34m'groups'\u001b[0m\u001b[0;34m]\u001b[0m\u001b[0;34m]\u001b[0m\u001b[0;34m,\u001b[0m\u001b[0;34m\u001b[0m\u001b[0;34m\u001b[0m\u001b[0m\n\u001b[1;32m    459\u001b[0m                                 \u001b[0mdesign_matrix\u001b[0m\u001b[0;34m=\u001b[0m\u001b[0mdesign_matrix\u001b[0m\u001b[0;34m,\u001b[0m\u001b[0;34m\u001b[0m\u001b[0;34m\u001b[0m\u001b[0m\n",
      "\u001b[0;32m~/anaconda3/envs/single_cell/lib/python3.8/site-packages/scipy/sparse/_index.py\u001b[0m in \u001b[0;36m__getitem__\u001b[0;34m(self, key)\u001b[0m\n\u001b[1;32m     49\u001b[0m                 \u001b[0;32mreturn\u001b[0m \u001b[0mself\u001b[0m\u001b[0;34m.\u001b[0m\u001b[0m_get_sliceXslice\u001b[0m\u001b[0;34m(\u001b[0m\u001b[0mrow\u001b[0m\u001b[0;34m,\u001b[0m \u001b[0mcol\u001b[0m\u001b[0;34m)\u001b[0m\u001b[0;34m\u001b[0m\u001b[0;34m\u001b[0m\u001b[0m\n\u001b[1;32m     50\u001b[0m             \u001b[0;32melif\u001b[0m \u001b[0mcol\u001b[0m\u001b[0;34m.\u001b[0m\u001b[0mndim\u001b[0m \u001b[0;34m==\u001b[0m \u001b[0;36m1\u001b[0m\u001b[0;34m:\u001b[0m\u001b[0;34m\u001b[0m\u001b[0;34m\u001b[0m\u001b[0m\n\u001b[0;32m---> 51\u001b[0;31m                 \u001b[0;32mreturn\u001b[0m \u001b[0mself\u001b[0m\u001b[0;34m.\u001b[0m\u001b[0m_get_sliceXarray\u001b[0m\u001b[0;34m(\u001b[0m\u001b[0mrow\u001b[0m\u001b[0;34m,\u001b[0m \u001b[0mcol\u001b[0m\u001b[0;34m)\u001b[0m\u001b[0;34m\u001b[0m\u001b[0;34m\u001b[0m\u001b[0m\n\u001b[0m\u001b[1;32m     52\u001b[0m             \u001b[0;32mraise\u001b[0m \u001b[0mIndexError\u001b[0m\u001b[0;34m(\u001b[0m\u001b[0;34m'index results in >2 dimensions'\u001b[0m\u001b[0;34m)\u001b[0m\u001b[0;34m\u001b[0m\u001b[0;34m\u001b[0m\u001b[0m\n\u001b[1;32m     53\u001b[0m         \u001b[0;32melif\u001b[0m \u001b[0mrow\u001b[0m\u001b[0;34m.\u001b[0m\u001b[0mndim\u001b[0m \u001b[0;34m==\u001b[0m \u001b[0;36m1\u001b[0m\u001b[0;34m:\u001b[0m\u001b[0;34m\u001b[0m\u001b[0;34m\u001b[0m\u001b[0m\n",
      "\u001b[0;32m~/anaconda3/envs/single_cell/lib/python3.8/site-packages/scipy/sparse/csc.py\u001b[0m in \u001b[0;36m_get_sliceXarray\u001b[0;34m(self, row, col)\u001b[0m\n\u001b[1;32m    218\u001b[0m \u001b[0;34m\u001b[0m\u001b[0m\n\u001b[1;32m    219\u001b[0m     \u001b[0;32mdef\u001b[0m \u001b[0m_get_sliceXarray\u001b[0m\u001b[0;34m(\u001b[0m\u001b[0mself\u001b[0m\u001b[0;34m,\u001b[0m \u001b[0mrow\u001b[0m\u001b[0;34m,\u001b[0m \u001b[0mcol\u001b[0m\u001b[0;34m)\u001b[0m\u001b[0;34m:\u001b[0m\u001b[0;34m\u001b[0m\u001b[0;34m\u001b[0m\u001b[0m\n\u001b[0;32m--> 220\u001b[0;31m         \u001b[0;32mreturn\u001b[0m \u001b[0mself\u001b[0m\u001b[0;34m.\u001b[0m\u001b[0m_major_index_fancy\u001b[0m\u001b[0;34m(\u001b[0m\u001b[0mcol\u001b[0m\u001b[0;34m)\u001b[0m\u001b[0;34m.\u001b[0m\u001b[0m_minor_slice\u001b[0m\u001b[0;34m(\u001b[0m\u001b[0mrow\u001b[0m\u001b[0;34m)\u001b[0m\u001b[0;34m\u001b[0m\u001b[0;34m\u001b[0m\u001b[0m\n\u001b[0m\u001b[1;32m    221\u001b[0m \u001b[0;34m\u001b[0m\u001b[0m\n\u001b[1;32m    222\u001b[0m     \u001b[0;32mdef\u001b[0m \u001b[0m_get_arrayXint\u001b[0m\u001b[0;34m(\u001b[0m\u001b[0mself\u001b[0m\u001b[0;34m,\u001b[0m \u001b[0mrow\u001b[0m\u001b[0;34m,\u001b[0m \u001b[0mcol\u001b[0m\u001b[0;34m)\u001b[0m\u001b[0;34m:\u001b[0m\u001b[0;34m\u001b[0m\u001b[0;34m\u001b[0m\u001b[0m\n",
      "\u001b[0;32m~/anaconda3/envs/single_cell/lib/python3.8/site-packages/scipy/sparse/compressed.py\u001b[0m in \u001b[0;36m_major_index_fancy\u001b[0;34m(self, idx)\u001b[0m\n\u001b[1;32m    679\u001b[0m         \"\"\"\n\u001b[1;32m    680\u001b[0m         \u001b[0midx_dtype\u001b[0m \u001b[0;34m=\u001b[0m \u001b[0mself\u001b[0m\u001b[0;34m.\u001b[0m\u001b[0mindices\u001b[0m\u001b[0;34m.\u001b[0m\u001b[0mdtype\u001b[0m\u001b[0;34m\u001b[0m\u001b[0;34m\u001b[0m\u001b[0m\n\u001b[0;32m--> 681\u001b[0;31m         \u001b[0mindices\u001b[0m \u001b[0;34m=\u001b[0m \u001b[0mnp\u001b[0m\u001b[0;34m.\u001b[0m\u001b[0masarray\u001b[0m\u001b[0;34m(\u001b[0m\u001b[0midx\u001b[0m\u001b[0;34m,\u001b[0m \u001b[0mdtype\u001b[0m\u001b[0;34m=\u001b[0m\u001b[0midx_dtype\u001b[0m\u001b[0;34m)\u001b[0m\u001b[0;34m.\u001b[0m\u001b[0mravel\u001b[0m\u001b[0;34m(\u001b[0m\u001b[0;34m)\u001b[0m\u001b[0;34m\u001b[0m\u001b[0;34m\u001b[0m\u001b[0m\n\u001b[0m\u001b[1;32m    682\u001b[0m \u001b[0;34m\u001b[0m\u001b[0m\n\u001b[1;32m    683\u001b[0m         \u001b[0m_\u001b[0m\u001b[0;34m,\u001b[0m \u001b[0mN\u001b[0m \u001b[0;34m=\u001b[0m \u001b[0mself\u001b[0m\u001b[0;34m.\u001b[0m\u001b[0m_swap\u001b[0m\u001b[0;34m(\u001b[0m\u001b[0mself\u001b[0m\u001b[0;34m.\u001b[0m\u001b[0mshape\u001b[0m\u001b[0;34m)\u001b[0m\u001b[0;34m\u001b[0m\u001b[0;34m\u001b[0m\u001b[0m\n",
      "\u001b[0;31mKeyboardInterrupt\u001b[0m: "
     ]
    }
   ],
   "source": [
    "beta_ht_df = get_2d_ht('STAT1', ['ciliated'], 'beta')"
   ]
  },
  {
   "cell_type": "code",
   "execution_count": null,
   "metadata": {},
   "outputs": [],
   "source": [
    "beta_ht_df.to_csv(data_path + 'beta_dc_result.csv', index=False)"
   ]
  },
  {
   "cell_type": "code",
   "execution_count": null,
   "metadata": {},
   "outputs": [],
   "source": [
    "gamma_df = get_2d_ht('STAT1', ['ciliated'], 'gamma')"
   ]
  },
  {
   "cell_type": "code",
   "execution_count": null,
   "metadata": {},
   "outputs": [],
   "source": [
    "gamma_df.to_csv(data_path + 'beta_dc_result.csv', index=False)"
   ]
  },
  {
   "cell_type": "code",
   "execution_count": null,
   "metadata": {},
   "outputs": [],
   "source": [
    "lambda_df = get_2d_ht('STAT1', ['ciliated'], 'lambda')"
   ]
  },
  {
   "cell_type": "markdown",
   "metadata": {},
   "source": [
    "### Compute correlations between ISGs"
   ]
  },
  {
   "cell_type": "code",
   "execution_count": 17,
   "metadata": {},
   "outputs": [],
   "source": [
    "igs = ['ISG15', 'IFIT1', 'IFIT2', 'IFIT3', 'MX1', 'MX2', 'OASL']"
   ]
  },
  {
   "cell_type": "code",
   "execution_count": 19,
   "metadata": {},
   "outputs": [],
   "source": [
    "# tf = 'STAT1'\n",
    "# ct = ['ciliated']\n",
    "# stim = 'beta'\n",
    "\n",
    "def get_2d_moments_isg(tf, ct, stim):\n",
    "    \n",
    "    adata_stim = adata.copy()[\n",
    "        adata.obs.cell_type.isin(ct) & \\\n",
    "        adata.obs.stim.isin(['control', stim])].copy()\n",
    "    # time_converter={0:0, int(tp):1}\n",
    "    # adata_stim.obs['time_step'] = adata_stim.obs['time'].astype(int).apply(lambda x: time_converter[x])\n",
    "\n",
    "    memento.create_groups(adata_stim, label_columns=['time', 'donor'])\n",
    "    memento.compute_1d_moments(adata_stim, min_perc_group=.9)\n",
    "    moment_1d_df = memento.get_1d_moments(adata_stim, groupby='time')\n",
    "\n",
    "    memento.compute_2d_moments(adata_stim, list(itertools.combinations(igs, 2)))\n",
    "\n",
    "    moment_df = memento.get_2d_moments(adata_stim, groupby='time')\n",
    "    \n",
    "    return moment_df"
   ]
  },
  {
   "cell_type": "code",
   "execution_count": 20,
   "metadata": {},
   "outputs": [
    {
     "name": "stderr",
     "output_type": "stream",
     "text": [
      "/data/home/Github/scrna-parameter-estimation/dist/memento-0.0.5-py3.7.egg/memento/estimator.py:100: RuntimeWarning: invalid value encountered in log\n"
     ]
    }
   ],
   "source": [
    "beta_isg_df = get_2d_moments_isg('STAT1', ['ciliated'], 'beta')"
   ]
  },
  {
   "cell_type": "code",
   "execution_count": 22,
   "metadata": {},
   "outputs": [
    {
     "data": {
      "text/html": [
       "<div>\n",
       "<style scoped>\n",
       "    .dataframe tbody tr th:only-of-type {\n",
       "        vertical-align: middle;\n",
       "    }\n",
       "\n",
       "    .dataframe tbody tr th {\n",
       "        vertical-align: top;\n",
       "    }\n",
       "\n",
       "    .dataframe thead th {\n",
       "        text-align: right;\n",
       "    }\n",
       "</style>\n",
       "<table border=\"1\" class=\"dataframe\">\n",
       "  <thead>\n",
       "    <tr style=\"text-align: right;\">\n",
       "      <th></th>\n",
       "      <th>gene_1</th>\n",
       "      <th>gene_2</th>\n",
       "      <th>time_0</th>\n",
       "      <th>time_3</th>\n",
       "      <th>time_6</th>\n",
       "      <th>time_9</th>\n",
       "      <th>time_24</th>\n",
       "      <th>time_48</th>\n",
       "    </tr>\n",
       "  </thead>\n",
       "  <tbody>\n",
       "    <tr>\n",
       "      <th>0</th>\n",
       "      <td>ISG15</td>\n",
       "      <td>IFIT1</td>\n",
       "      <td>0.912525</td>\n",
       "      <td>0.859475</td>\n",
       "      <td>0.860717</td>\n",
       "      <td>0.894880</td>\n",
       "      <td>0.849657</td>\n",
       "      <td>0.824642</td>\n",
       "    </tr>\n",
       "    <tr>\n",
       "      <th>1</th>\n",
       "      <td>ISG15</td>\n",
       "      <td>IFIT2</td>\n",
       "      <td>0.709213</td>\n",
       "      <td>0.766188</td>\n",
       "      <td>0.748801</td>\n",
       "      <td>0.839606</td>\n",
       "      <td>0.855540</td>\n",
       "      <td>0.743067</td>\n",
       "    </tr>\n",
       "    <tr>\n",
       "      <th>2</th>\n",
       "      <td>ISG15</td>\n",
       "      <td>IFIT3</td>\n",
       "      <td>0.738290</td>\n",
       "      <td>0.768141</td>\n",
       "      <td>0.814666</td>\n",
       "      <td>0.828783</td>\n",
       "      <td>0.823922</td>\n",
       "      <td>0.729833</td>\n",
       "    </tr>\n",
       "    <tr>\n",
       "      <th>3</th>\n",
       "      <td>ISG15</td>\n",
       "      <td>MX1</td>\n",
       "      <td>0.819765</td>\n",
       "      <td>0.814883</td>\n",
       "      <td>0.833459</td>\n",
       "      <td>0.875096</td>\n",
       "      <td>0.857120</td>\n",
       "      <td>0.787441</td>\n",
       "    </tr>\n",
       "    <tr>\n",
       "      <th>4</th>\n",
       "      <td>ISG15</td>\n",
       "      <td>MX2</td>\n",
       "      <td>0.731378</td>\n",
       "      <td>0.700568</td>\n",
       "      <td>0.671598</td>\n",
       "      <td>0.814559</td>\n",
       "      <td>0.801095</td>\n",
       "      <td>0.747115</td>\n",
       "    </tr>\n",
       "    <tr>\n",
       "      <th>5</th>\n",
       "      <td>ISG15</td>\n",
       "      <td>OASL</td>\n",
       "      <td>0.702671</td>\n",
       "      <td>0.723763</td>\n",
       "      <td>0.680118</td>\n",
       "      <td>0.818876</td>\n",
       "      <td>0.741394</td>\n",
       "      <td>0.795438</td>\n",
       "    </tr>\n",
       "    <tr>\n",
       "      <th>6</th>\n",
       "      <td>IFIT1</td>\n",
       "      <td>IFIT2</td>\n",
       "      <td>0.627455</td>\n",
       "      <td>0.830298</td>\n",
       "      <td>0.807820</td>\n",
       "      <td>0.860115</td>\n",
       "      <td>0.852993</td>\n",
       "      <td>0.865924</td>\n",
       "    </tr>\n",
       "    <tr>\n",
       "      <th>7</th>\n",
       "      <td>IFIT1</td>\n",
       "      <td>IFIT3</td>\n",
       "      <td>0.802160</td>\n",
       "      <td>0.856047</td>\n",
       "      <td>0.889002</td>\n",
       "      <td>0.881489</td>\n",
       "      <td>0.884011</td>\n",
       "      <td>0.875954</td>\n",
       "    </tr>\n",
       "    <tr>\n",
       "      <th>8</th>\n",
       "      <td>IFIT1</td>\n",
       "      <td>MX1</td>\n",
       "      <td>0.970948</td>\n",
       "      <td>0.821224</td>\n",
       "      <td>0.825487</td>\n",
       "      <td>0.831096</td>\n",
       "      <td>0.733519</td>\n",
       "      <td>0.771687</td>\n",
       "    </tr>\n",
       "    <tr>\n",
       "      <th>9</th>\n",
       "      <td>IFIT1</td>\n",
       "      <td>MX2</td>\n",
       "      <td>0.690637</td>\n",
       "      <td>0.677439</td>\n",
       "      <td>0.632088</td>\n",
       "      <td>0.792340</td>\n",
       "      <td>0.712742</td>\n",
       "      <td>0.747235</td>\n",
       "    </tr>\n",
       "    <tr>\n",
       "      <th>10</th>\n",
       "      <td>IFIT1</td>\n",
       "      <td>OASL</td>\n",
       "      <td>0.628502</td>\n",
       "      <td>0.752242</td>\n",
       "      <td>0.695485</td>\n",
       "      <td>0.804211</td>\n",
       "      <td>0.768171</td>\n",
       "      <td>0.826975</td>\n",
       "    </tr>\n",
       "    <tr>\n",
       "      <th>11</th>\n",
       "      <td>IFIT2</td>\n",
       "      <td>IFIT3</td>\n",
       "      <td>0.696193</td>\n",
       "      <td>0.837954</td>\n",
       "      <td>0.829943</td>\n",
       "      <td>0.836865</td>\n",
       "      <td>0.830478</td>\n",
       "      <td>0.862385</td>\n",
       "    </tr>\n",
       "    <tr>\n",
       "      <th>12</th>\n",
       "      <td>IFIT2</td>\n",
       "      <td>MX1</td>\n",
       "      <td>0.515990</td>\n",
       "      <td>0.698023</td>\n",
       "      <td>0.703704</td>\n",
       "      <td>0.812500</td>\n",
       "      <td>0.746478</td>\n",
       "      <td>0.668681</td>\n",
       "    </tr>\n",
       "    <tr>\n",
       "      <th>13</th>\n",
       "      <td>IFIT2</td>\n",
       "      <td>MX2</td>\n",
       "      <td>0.513598</td>\n",
       "      <td>0.652613</td>\n",
       "      <td>0.645119</td>\n",
       "      <td>0.779230</td>\n",
       "      <td>0.759103</td>\n",
       "      <td>0.751041</td>\n",
       "    </tr>\n",
       "    <tr>\n",
       "      <th>14</th>\n",
       "      <td>IFIT2</td>\n",
       "      <td>OASL</td>\n",
       "      <td>0.795051</td>\n",
       "      <td>0.748258</td>\n",
       "      <td>0.731663</td>\n",
       "      <td>0.789200</td>\n",
       "      <td>0.774611</td>\n",
       "      <td>0.736705</td>\n",
       "    </tr>\n",
       "    <tr>\n",
       "      <th>15</th>\n",
       "      <td>IFIT3</td>\n",
       "      <td>MX1</td>\n",
       "      <td>0.734473</td>\n",
       "      <td>0.763209</td>\n",
       "      <td>0.800982</td>\n",
       "      <td>0.858110</td>\n",
       "      <td>0.766818</td>\n",
       "      <td>0.706254</td>\n",
       "    </tr>\n",
       "    <tr>\n",
       "      <th>16</th>\n",
       "      <td>IFIT3</td>\n",
       "      <td>MX2</td>\n",
       "      <td>0.608246</td>\n",
       "      <td>0.640650</td>\n",
       "      <td>0.621902</td>\n",
       "      <td>0.759888</td>\n",
       "      <td>0.721426</td>\n",
       "      <td>0.706908</td>\n",
       "    </tr>\n",
       "    <tr>\n",
       "      <th>17</th>\n",
       "      <td>IFIT3</td>\n",
       "      <td>OASL</td>\n",
       "      <td>0.860601</td>\n",
       "      <td>0.779452</td>\n",
       "      <td>0.727524</td>\n",
       "      <td>0.749129</td>\n",
       "      <td>0.743811</td>\n",
       "      <td>0.757626</td>\n",
       "    </tr>\n",
       "    <tr>\n",
       "      <th>18</th>\n",
       "      <td>MX1</td>\n",
       "      <td>MX2</td>\n",
       "      <td>0.773256</td>\n",
       "      <td>0.772469</td>\n",
       "      <td>0.758207</td>\n",
       "      <td>0.873694</td>\n",
       "      <td>0.813110</td>\n",
       "      <td>0.811610</td>\n",
       "    </tr>\n",
       "    <tr>\n",
       "      <th>19</th>\n",
       "      <td>MX1</td>\n",
       "      <td>OASL</td>\n",
       "      <td>0.564422</td>\n",
       "      <td>0.660583</td>\n",
       "      <td>0.565555</td>\n",
       "      <td>0.714459</td>\n",
       "      <td>0.625665</td>\n",
       "      <td>0.796824</td>\n",
       "    </tr>\n",
       "    <tr>\n",
       "      <th>20</th>\n",
       "      <td>MX2</td>\n",
       "      <td>OASL</td>\n",
       "      <td>0.586160</td>\n",
       "      <td>0.629847</td>\n",
       "      <td>0.505000</td>\n",
       "      <td>0.756339</td>\n",
       "      <td>0.654254</td>\n",
       "      <td>0.744816</td>\n",
       "    </tr>\n",
       "  </tbody>\n",
       "</table>\n",
       "</div>"
      ],
      "text/plain": [
       "   gene_1 gene_2    time_0    time_3    time_6    time_9   time_24   time_48\n",
       "0   ISG15  IFIT1  0.912525  0.859475  0.860717  0.894880  0.849657  0.824642\n",
       "1   ISG15  IFIT2  0.709213  0.766188  0.748801  0.839606  0.855540  0.743067\n",
       "2   ISG15  IFIT3  0.738290  0.768141  0.814666  0.828783  0.823922  0.729833\n",
       "3   ISG15    MX1  0.819765  0.814883  0.833459  0.875096  0.857120  0.787441\n",
       "4   ISG15    MX2  0.731378  0.700568  0.671598  0.814559  0.801095  0.747115\n",
       "5   ISG15   OASL  0.702671  0.723763  0.680118  0.818876  0.741394  0.795438\n",
       "6   IFIT1  IFIT2  0.627455  0.830298  0.807820  0.860115  0.852993  0.865924\n",
       "7   IFIT1  IFIT3  0.802160  0.856047  0.889002  0.881489  0.884011  0.875954\n",
       "8   IFIT1    MX1  0.970948  0.821224  0.825487  0.831096  0.733519  0.771687\n",
       "9   IFIT1    MX2  0.690637  0.677439  0.632088  0.792340  0.712742  0.747235\n",
       "10  IFIT1   OASL  0.628502  0.752242  0.695485  0.804211  0.768171  0.826975\n",
       "11  IFIT2  IFIT3  0.696193  0.837954  0.829943  0.836865  0.830478  0.862385\n",
       "12  IFIT2    MX1  0.515990  0.698023  0.703704  0.812500  0.746478  0.668681\n",
       "13  IFIT2    MX2  0.513598  0.652613  0.645119  0.779230  0.759103  0.751041\n",
       "14  IFIT2   OASL  0.795051  0.748258  0.731663  0.789200  0.774611  0.736705\n",
       "15  IFIT3    MX1  0.734473  0.763209  0.800982  0.858110  0.766818  0.706254\n",
       "16  IFIT3    MX2  0.608246  0.640650  0.621902  0.759888  0.721426  0.706908\n",
       "17  IFIT3   OASL  0.860601  0.779452  0.727524  0.749129  0.743811  0.757626\n",
       "18    MX1    MX2  0.773256  0.772469  0.758207  0.873694  0.813110  0.811610\n",
       "19    MX1   OASL  0.564422  0.660583  0.565555  0.714459  0.625665  0.796824\n",
       "20    MX2   OASL  0.586160  0.629847  0.505000  0.756339  0.654254  0.744816"
      ]
     },
     "execution_count": 22,
     "metadata": {},
     "output_type": "execute_result"
    }
   ],
   "source": [
    "beta_isg_df[['gene_1', 'gene_2'] + ['time_' + str(i) for i in [0, 3, 6, 9, 24, 48]]]"
   ]
  },
  {
   "cell_type": "markdown",
   "metadata": {},
   "source": [
    "### Compute correlations for STAT1"
   ]
  },
  {
   "cell_type": "code",
   "execution_count": 15,
   "metadata": {},
   "outputs": [],
   "source": [
    "tf = 'STAT1'\n",
    "ct = ['ciliated']\n",
    "stim = 'beta'\n",
    "\n",
    "def get_2d_moments(tf, ct, stim):\n",
    "    \n",
    "    adata_stim = adata.copy()[\n",
    "        adata.obs.cell_type.isin(ct) & \\\n",
    "        adata.obs.stim.isin(['control', stim])].copy()\n",
    "    # time_converter={0:0, int(tp):1}\n",
    "    # adata_stim.obs['time_step'] = adata_stim.obs['time'].astype(int).apply(lambda x: time_converter[x])\n",
    "\n",
    "    memento.create_groups(adata_stim, label_columns=['time', 'donor'])\n",
    "    memento.compute_1d_moments(adata_stim, min_perc_group=.9)\n",
    "    moment_1d_df = memento.get_1d_moments(adata_stim, groupby='time')\n",
    "\n",
    "    memento.compute_2d_moments(adata_stim, list(itertools.product([tf], adata_stim.var.index)))\n",
    "\n",
    "    moment_df = memento.get_2d_moments(adata_stim, groupby='time')\n",
    "    \n",
    "#     memento.ht_2d_moments( \n",
    "#         adata_stim, \n",
    "#         formula_like='1 + time_step',\n",
    "#         cov_column='time_step', \n",
    "#         num_boot=10000, \n",
    "#         verbose=1,\n",
    "#         num_cpus=13)\n",
    "    \n",
    "#     ht_df = memento.get_2d_ht_result(adata_stim)\n",
    "    \n",
    "    return moment_df"
   ]
  },
  {
   "cell_type": "code",
   "execution_count": 16,
   "metadata": {},
   "outputs": [
    {
     "name": "stderr",
     "output_type": "stream",
     "text": [
      "/data/home/Github/scrna-parameter-estimation/dist/memento-0.0.4-py3.7.egg/memento/estimator.py:100: RuntimeWarning: invalid value encountered in log\n",
      "/data/home/Github/scrna-parameter-estimation/dist/memento-0.0.4-py3.7.egg/memento/main.py:578: RuntimeWarning: invalid value encountered in true_divide\n",
      "/data/home/anaconda3/envs/single_cell/lib/python3.7/site-packages/ipykernel_launcher.py:8: FutureWarning: Sorting because non-concatenation axis is not aligned. A future version\n",
      "of pandas will change to not sort by default.\n",
      "\n",
      "To accept the future behavior, pass 'sort=False'.\n",
      "\n",
      "To retain the current behavior and silence the warning, pass 'sort=True'.\n",
      "\n",
      "  \n"
     ]
    }
   ],
   "source": [
    "beta_df = get_2d_moments('STAT1', ['ciliated'], 'beta')\n",
    "alpha_df = get_2d_moments('STAT1', ['ciliated'], 'alpha')\n",
    "gamma_df = get_2d_moments('STAT1', ['ciliated'], 'gamma')\n",
    "lambda_df = get_2d_moments('STAT1', ['ciliated'], 'lambda')\n",
    "\n",
    "beta_df['stim'] = 'beta'\n",
    "alpha_df['stim'] = 'alpha'\n",
    "df = pd.concat([alpha_df, beta_df])"
   ]
  },
  {
   "cell_type": "code",
   "execution_count": 19,
   "metadata": {},
   "outputs": [],
   "source": [
    "beta_df['isgf3'] = beta_df.gene_2.apply(lambda x: 'in TSS' if x in isgf3_genes else 'rest')"
   ]
  },
  {
   "cell_type": "markdown",
   "metadata": {},
   "source": [
    "### ISGF3 correlations for alpha/beta interferon"
   ]
  },
  {
   "cell_type": "code",
   "execution_count": 32,
   "metadata": {},
   "outputs": [
    {
     "data": {
      "text/html": [
       "<div>\n",
       "<style scoped>\n",
       "    .dataframe tbody tr th:only-of-type {\n",
       "        vertical-align: middle;\n",
       "    }\n",
       "\n",
       "    .dataframe tbody tr th {\n",
       "        vertical-align: top;\n",
       "    }\n",
       "\n",
       "    .dataframe thead th {\n",
       "        text-align: right;\n",
       "    }\n",
       "</style>\n",
       "<table border=\"1\" class=\"dataframe\">\n",
       "  <thead>\n",
       "    <tr style=\"text-align: right;\">\n",
       "      <th></th>\n",
       "      <th>gene_1</th>\n",
       "      <th>gene_2</th>\n",
       "      <th>time_9</th>\n",
       "      <th>time_3</th>\n",
       "      <th>time_0</th>\n",
       "      <th>time_6</th>\n",
       "      <th>time_48</th>\n",
       "      <th>time_24</th>\n",
       "      <th>stim</th>\n",
       "      <th>isgf3</th>\n",
       "    </tr>\n",
       "  </thead>\n",
       "  <tbody>\n",
       "    <tr>\n",
       "      <th>0</th>\n",
       "      <td>STAT1</td>\n",
       "      <td>LINC01409</td>\n",
       "      <td>-0.175255</td>\n",
       "      <td>0.022280</td>\n",
       "      <td>0.389398</td>\n",
       "      <td>0.091183</td>\n",
       "      <td>-0.208910</td>\n",
       "      <td>-0.145140</td>\n",
       "      <td>beta</td>\n",
       "      <td>rest</td>\n",
       "    </tr>\n",
       "    <tr>\n",
       "      <th>1</th>\n",
       "      <td>STAT1</td>\n",
       "      <td>NOC2L</td>\n",
       "      <td>-0.070694</td>\n",
       "      <td>0.070377</td>\n",
       "      <td>0.127526</td>\n",
       "      <td>0.105913</td>\n",
       "      <td>-0.018320</td>\n",
       "      <td>-0.201853</td>\n",
       "      <td>beta</td>\n",
       "      <td>rest</td>\n",
       "    </tr>\n",
       "    <tr>\n",
       "      <th>2</th>\n",
       "      <td>STAT1</td>\n",
       "      <td>HES4</td>\n",
       "      <td>0.433971</td>\n",
       "      <td>0.389929</td>\n",
       "      <td>0.139460</td>\n",
       "      <td>0.436864</td>\n",
       "      <td>0.531960</td>\n",
       "      <td>0.601891</td>\n",
       "      <td>beta</td>\n",
       "      <td>rest</td>\n",
       "    </tr>\n",
       "    <tr>\n",
       "      <th>3</th>\n",
       "      <td>STAT1</td>\n",
       "      <td>ISG15</td>\n",
       "      <td>0.756565</td>\n",
       "      <td>0.751469</td>\n",
       "      <td>0.712075</td>\n",
       "      <td>0.702480</td>\n",
       "      <td>0.766635</td>\n",
       "      <td>0.835480</td>\n",
       "      <td>beta</td>\n",
       "      <td>in TSS</td>\n",
       "    </tr>\n",
       "    <tr>\n",
       "      <th>4</th>\n",
       "      <td>STAT1</td>\n",
       "      <td>AGRN</td>\n",
       "      <td>0.447522</td>\n",
       "      <td>0.238193</td>\n",
       "      <td>0.227282</td>\n",
       "      <td>0.222979</td>\n",
       "      <td>0.311116</td>\n",
       "      <td>0.186166</td>\n",
       "      <td>beta</td>\n",
       "      <td>rest</td>\n",
       "    </tr>\n",
       "  </tbody>\n",
       "</table>\n",
       "</div>"
      ],
      "text/plain": [
       "  gene_1     gene_2    time_9    time_3    time_0    time_6   time_48  \\\n",
       "0  STAT1  LINC01409 -0.175255  0.022280  0.389398  0.091183 -0.208910   \n",
       "1  STAT1      NOC2L -0.070694  0.070377  0.127526  0.105913 -0.018320   \n",
       "2  STAT1       HES4  0.433971  0.389929  0.139460  0.436864  0.531960   \n",
       "3  STAT1      ISG15  0.756565  0.751469  0.712075  0.702480  0.766635   \n",
       "4  STAT1       AGRN  0.447522  0.238193  0.227282  0.222979  0.311116   \n",
       "\n",
       "    time_24  stim   isgf3  \n",
       "0 -0.145140  beta    rest  \n",
       "1 -0.201853  beta    rest  \n",
       "2  0.601891  beta    rest  \n",
       "3  0.835480  beta  in TSS  \n",
       "4  0.186166  beta    rest  "
      ]
     },
     "execution_count": 32,
     "metadata": {},
     "output_type": "execute_result"
    }
   ],
   "source": [
    "beta_df.head(5)"
   ]
  },
  {
   "cell_type": "code",
   "execution_count": 33,
   "metadata": {},
   "outputs": [
    {
     "data": {
      "text/html": [
       "<div>\n",
       "<style scoped>\n",
       "    .dataframe tbody tr th:only-of-type {\n",
       "        vertical-align: middle;\n",
       "    }\n",
       "\n",
       "    .dataframe tbody tr th {\n",
       "        vertical-align: top;\n",
       "    }\n",
       "\n",
       "    .dataframe thead th {\n",
       "        text-align: right;\n",
       "    }\n",
       "</style>\n",
       "<table border=\"1\" class=\"dataframe\">\n",
       "  <thead>\n",
       "    <tr style=\"text-align: right;\">\n",
       "      <th></th>\n",
       "      <th>gene_1</th>\n",
       "      <th>gene_2</th>\n",
       "      <th>time_9</th>\n",
       "      <th>time_3</th>\n",
       "      <th>time_0</th>\n",
       "      <th>time_48</th>\n",
       "      <th>time_6</th>\n",
       "      <th>time_24</th>\n",
       "      <th>stim</th>\n",
       "    </tr>\n",
       "  </thead>\n",
       "  <tbody>\n",
       "    <tr>\n",
       "      <th>0</th>\n",
       "      <td>STAT1</td>\n",
       "      <td>LINC01409</td>\n",
       "      <td>0.058433</td>\n",
       "      <td>0.172438</td>\n",
       "      <td>0.389398</td>\n",
       "      <td>0.078051</td>\n",
       "      <td>0.003680</td>\n",
       "      <td>0.365823</td>\n",
       "      <td>alpha</td>\n",
       "    </tr>\n",
       "    <tr>\n",
       "      <th>1</th>\n",
       "      <td>STAT1</td>\n",
       "      <td>NOC2L</td>\n",
       "      <td>-0.029808</td>\n",
       "      <td>0.189881</td>\n",
       "      <td>0.127526</td>\n",
       "      <td>0.249579</td>\n",
       "      <td>0.348690</td>\n",
       "      <td>-0.052135</td>\n",
       "      <td>alpha</td>\n",
       "    </tr>\n",
       "    <tr>\n",
       "      <th>2</th>\n",
       "      <td>STAT1</td>\n",
       "      <td>HES4</td>\n",
       "      <td>0.438277</td>\n",
       "      <td>0.379277</td>\n",
       "      <td>0.139460</td>\n",
       "      <td>0.363275</td>\n",
       "      <td>0.388632</td>\n",
       "      <td>0.525524</td>\n",
       "      <td>alpha</td>\n",
       "    </tr>\n",
       "    <tr>\n",
       "      <th>3</th>\n",
       "      <td>STAT1</td>\n",
       "      <td>ISG15</td>\n",
       "      <td>0.695766</td>\n",
       "      <td>0.733140</td>\n",
       "      <td>0.712075</td>\n",
       "      <td>0.699458</td>\n",
       "      <td>0.661231</td>\n",
       "      <td>0.768229</td>\n",
       "      <td>alpha</td>\n",
       "    </tr>\n",
       "    <tr>\n",
       "      <th>4</th>\n",
       "      <td>STAT1</td>\n",
       "      <td>AGRN</td>\n",
       "      <td>0.204388</td>\n",
       "      <td>0.225468</td>\n",
       "      <td>0.227282</td>\n",
       "      <td>0.297670</td>\n",
       "      <td>0.132081</td>\n",
       "      <td>0.174836</td>\n",
       "      <td>alpha</td>\n",
       "    </tr>\n",
       "  </tbody>\n",
       "</table>\n",
       "</div>"
      ],
      "text/plain": [
       "  gene_1     gene_2    time_9    time_3    time_0   time_48    time_6  \\\n",
       "0  STAT1  LINC01409  0.058433  0.172438  0.389398  0.078051  0.003680   \n",
       "1  STAT1      NOC2L -0.029808  0.189881  0.127526  0.249579  0.348690   \n",
       "2  STAT1       HES4  0.438277  0.379277  0.139460  0.363275  0.388632   \n",
       "3  STAT1      ISG15  0.695766  0.733140  0.712075  0.699458  0.661231   \n",
       "4  STAT1       AGRN  0.204388  0.225468  0.227282  0.297670  0.132081   \n",
       "\n",
       "    time_24   stim  \n",
       "0  0.365823  alpha  \n",
       "1 -0.052135  alpha  \n",
       "2  0.525524  alpha  \n",
       "3  0.768229  alpha  \n",
       "4  0.174836  alpha  "
      ]
     },
     "execution_count": 33,
     "metadata": {},
     "output_type": "execute_result"
    }
   ],
   "source": [
    "alpha_df.head(5)"
   ]
  },
  {
   "cell_type": "code",
   "execution_count": 28,
   "metadata": {},
   "outputs": [],
   "source": [
    "a =  beta_df[['gene_2', 'time_0']].rename(columns={'gene_2':'gene', 'time_0':'corr'})\n",
    "b =  beta_df[['gene_2', 'time_6']].rename(columns={'gene_2':'gene', 'time_6':'corr'})\n",
    "\n",
    "a['time'] = 'ctrl'\n",
    "b['time'] = 'stim'\n",
    "beta_long_df = pd.concat([a, b])\n",
    "\n",
    "beta_long_df['isgf3'] = beta_long_df.gene.apply(lambda x: 'in TSS' if x in isgf3_genes else 'rest')"
   ]
  },
  {
   "cell_type": "code",
   "execution_count": 29,
   "metadata": {},
   "outputs": [],
   "source": [
    "a =  alpha_df[['gene_2', 'time_0']].rename(columns={'gene_2':'gene', 'time_0':'corr'})\n",
    "b =  alpha_df[['gene_2', 'time_6']].rename(columns={'gene_2':'gene', 'time_6':'corr'})\n",
    "\n",
    "a['time'] = 'ctrl'\n",
    "b['time'] = 'stim'\n",
    "alpha_long_df = pd.concat([a, b])\n",
    "\n",
    "alpha_long_df['isgf3'] = alpha_long_df.gene.apply(lambda x: 'in TSS' if x in isgf3_genes else 'rest')"
   ]
  },
  {
   "cell_type": "code",
   "execution_count": 22,
   "metadata": {},
   "outputs": [],
   "source": [
    "import matplotlib.pylab as pylab\n",
    "params = {'legend.fontsize': 'medium',\n",
    "         'axes.labelsize': 'medium',\n",
    "         'axes.titlesize':'medium',\n",
    "         'figure.titlesize':'medium',\n",
    "         'xtick.labelsize':'small',\n",
    "         'ytick.labelsize':'small'}\n",
    "pylab.rcParams.update(params)\n"
   ]
  },
  {
   "cell_type": "code",
   "execution_count": 42,
   "metadata": {},
   "outputs": [],
   "source": [
    "pbmc_data_path = '/data_volume/parameter_estimation/'\n",
    "pbmc_long_df = pd.read_csv(pbmc_data_path + 'stat1_corrs.csv').rename(columns={'stim':'time'})"
   ]
  },
  {
   "cell_type": "code",
   "execution_count": 43,
   "metadata": {},
   "outputs": [
    {
     "data": {
      "text/html": [
       "<div>\n",
       "<style scoped>\n",
       "    .dataframe tbody tr th:only-of-type {\n",
       "        vertical-align: middle;\n",
       "    }\n",
       "\n",
       "    .dataframe tbody tr th {\n",
       "        vertical-align: top;\n",
       "    }\n",
       "\n",
       "    .dataframe thead th {\n",
       "        text-align: right;\n",
       "    }\n",
       "</style>\n",
       "<table border=\"1\" class=\"dataframe\">\n",
       "  <thead>\n",
       "    <tr style=\"text-align: right;\">\n",
       "      <th></th>\n",
       "      <th>gene</th>\n",
       "      <th>corr</th>\n",
       "      <th>time</th>\n",
       "      <th>isgf3</th>\n",
       "      <th>high_exp</th>\n",
       "    </tr>\n",
       "  </thead>\n",
       "  <tbody>\n",
       "    <tr>\n",
       "      <th>0</th>\n",
       "      <td>ISG15</td>\n",
       "      <td>0.057578</td>\n",
       "      <td>ctrl</td>\n",
       "      <td>ISGF3</td>\n",
       "      <td>True</td>\n",
       "    </tr>\n",
       "    <tr>\n",
       "      <th>1</th>\n",
       "      <td>AURKAIP1</td>\n",
       "      <td>0.128053</td>\n",
       "      <td>ctrl</td>\n",
       "      <td>rest</td>\n",
       "      <td>True</td>\n",
       "    </tr>\n",
       "    <tr>\n",
       "      <th>2</th>\n",
       "      <td>MRPL20</td>\n",
       "      <td>-0.059311</td>\n",
       "      <td>ctrl</td>\n",
       "      <td>rest</td>\n",
       "      <td>True</td>\n",
       "    </tr>\n",
       "    <tr>\n",
       "      <th>3</th>\n",
       "      <td>SSU72</td>\n",
       "      <td>-0.078957</td>\n",
       "      <td>ctrl</td>\n",
       "      <td>ISGF3</td>\n",
       "      <td>True</td>\n",
       "    </tr>\n",
       "    <tr>\n",
       "      <th>4</th>\n",
       "      <td>GNB1</td>\n",
       "      <td>-0.000787</td>\n",
       "      <td>ctrl</td>\n",
       "      <td>rest</td>\n",
       "      <td>True</td>\n",
       "    </tr>\n",
       "  </tbody>\n",
       "</table>\n",
       "</div>"
      ],
      "text/plain": [
       "       gene      corr  time  isgf3  high_exp\n",
       "0     ISG15  0.057578  ctrl  ISGF3      True\n",
       "1  AURKAIP1  0.128053  ctrl   rest      True\n",
       "2    MRPL20 -0.059311  ctrl   rest      True\n",
       "3     SSU72 -0.078957  ctrl  ISGF3      True\n",
       "4      GNB1 -0.000787  ctrl   rest      True"
      ]
     },
     "execution_count": 43,
     "metadata": {},
     "output_type": "execute_result"
    }
   ],
   "source": [
    "pbmc_long_df.head(5)"
   ]
  },
  {
   "cell_type": "code",
   "execution_count": 45,
   "metadata": {},
   "outputs": [],
   "source": [
    "ab_joined = alpha_long_df.merge(beta_long_df, on=['gene', 'time'], suffixes=('_alpha', '_beta'))\n",
    "pbmc_joined = beta_long_df.merge(pbmc_long_df, on=['gene', 'time'], suffixes=('_beta', '_pbmc'))"
   ]
  },
  {
   "cell_type": "code",
   "execution_count": 74,
   "metadata": {},
   "outputs": [
    {
     "data": {
      "text/html": [
       "<div>\n",
       "<style scoped>\n",
       "    .dataframe tbody tr th:only-of-type {\n",
       "        vertical-align: middle;\n",
       "    }\n",
       "\n",
       "    .dataframe tbody tr th {\n",
       "        vertical-align: top;\n",
       "    }\n",
       "\n",
       "    .dataframe thead th {\n",
       "        text-align: right;\n",
       "    }\n",
       "</style>\n",
       "<table border=\"1\" class=\"dataframe\">\n",
       "  <thead>\n",
       "    <tr style=\"text-align: right;\">\n",
       "      <th></th>\n",
       "      <th>gene</th>\n",
       "      <th>corr_beta</th>\n",
       "      <th>time</th>\n",
       "      <th>isgf3_beta</th>\n",
       "      <th>corr_pbmc</th>\n",
       "      <th>isgf3_pbmc</th>\n",
       "      <th>high_exp</th>\n",
       "    </tr>\n",
       "  </thead>\n",
       "  <tbody>\n",
       "    <tr>\n",
       "      <th>0</th>\n",
       "      <td>ISG15</td>\n",
       "      <td>0.712075</td>\n",
       "      <td>ctrl</td>\n",
       "      <td>in TSS</td>\n",
       "      <td>0.057578</td>\n",
       "      <td>ISGF3</td>\n",
       "      <td>True</td>\n",
       "    </tr>\n",
       "    <tr>\n",
       "      <th>1</th>\n",
       "      <td>AURKAIP1</td>\n",
       "      <td>0.142373</td>\n",
       "      <td>ctrl</td>\n",
       "      <td>rest</td>\n",
       "      <td>0.128053</td>\n",
       "      <td>rest</td>\n",
       "      <td>True</td>\n",
       "    </tr>\n",
       "    <tr>\n",
       "      <th>2</th>\n",
       "      <td>MRPL20</td>\n",
       "      <td>0.047689</td>\n",
       "      <td>ctrl</td>\n",
       "      <td>rest</td>\n",
       "      <td>-0.059311</td>\n",
       "      <td>rest</td>\n",
       "      <td>True</td>\n",
       "    </tr>\n",
       "    <tr>\n",
       "      <th>3</th>\n",
       "      <td>SSU72</td>\n",
       "      <td>-0.026395</td>\n",
       "      <td>ctrl</td>\n",
       "      <td>rest</td>\n",
       "      <td>-0.078957</td>\n",
       "      <td>ISGF3</td>\n",
       "      <td>True</td>\n",
       "    </tr>\n",
       "    <tr>\n",
       "      <th>4</th>\n",
       "      <td>GNB1</td>\n",
       "      <td>0.095139</td>\n",
       "      <td>ctrl</td>\n",
       "      <td>rest</td>\n",
       "      <td>-0.000787</td>\n",
       "      <td>rest</td>\n",
       "      <td>True</td>\n",
       "    </tr>\n",
       "  </tbody>\n",
       "</table>\n",
       "</div>"
      ],
      "text/plain": [
       "       gene  corr_beta  time isgf3_beta  corr_pbmc isgf3_pbmc  high_exp\n",
       "0     ISG15   0.712075  ctrl     in TSS   0.057578      ISGF3      True\n",
       "1  AURKAIP1   0.142373  ctrl       rest   0.128053       rest      True\n",
       "2    MRPL20   0.047689  ctrl       rest  -0.059311       rest      True\n",
       "3     SSU72  -0.026395  ctrl       rest  -0.078957      ISGF3      True\n",
       "4      GNB1   0.095139  ctrl       rest  -0.000787       rest      True"
      ]
     },
     "execution_count": 74,
     "metadata": {},
     "output_type": "execute_result"
    }
   ],
   "source": [
    "pbmc_joined.head(5)"
   ]
  },
  {
   "cell_type": "code",
   "execution_count": 70,
   "metadata": {},
   "outputs": [
    {
     "data": {
      "text/plain": [
       "(0.1712953648060725, 2.201513571182445e-10)"
      ]
     },
     "execution_count": 70,
     "metadata": {},
     "output_type": "execute_result"
    }
   ],
   "source": [
    "stats.pearsonr(pbmc_joined.query('time == \"stim\"').corr_beta, pbmc_joined.query('time == \"stim\"').corr_pbmc)"
   ]
  },
  {
   "cell_type": "code",
   "execution_count": 77,
   "metadata": {},
   "outputs": [
    {
     "data": {
      "text/plain": [
       "(0.6929252536906498, 0.0)"
      ]
     },
     "execution_count": 77,
     "metadata": {},
     "output_type": "execute_result"
    }
   ],
   "source": [
    "stats.pearsonr(ab_joined.query('time == \"stim\"').corr_beta, ab_joined.query('time == \"stim\"').corr_alpha)"
   ]
  },
  {
   "cell_type": "code",
   "execution_count": 69,
   "metadata": {},
   "outputs": [
    {
     "data": {
      "image/png": "[encoded data removed]",
      "text/plain": [
       "<Figure size 144x108 with 1 Axes>"
      ]
     },
     "metadata": {
      "needs_background": "light"
     },
     "output_type": "display_data"
    }
   ],
   "source": [
    "plt.figure(figsize=(2, 1.5))\n",
    "plt.scatter(ab_joined.query('time == \"stim\"').corr_beta, ab_joined.query('time == \"stim\"').corr_alpha, s=0.01, color='grey')\n",
    "plt.ylabel('STAT1 Corr IFN-A'); plt.xlabel('STAT1 Corr IFN-B')\n",
    "plt.savefig(fig_path + 'stat1_corr_ab.png', bbox_inches='tight', dpi=300)\n"
   ]
  },
  {
   "cell_type": "code",
   "execution_count": 39,
   "metadata": {},
   "outputs": [
    {
     "data": {
      "image/png": "[encoded data removed]",
      "text/plain": [
       "<Figure size 72x108 with 1 Axes>"
      ]
     },
     "metadata": {
      "needs_background": "light"
     },
     "output_type": "display_data"
    }
   ],
   "source": [
    "plt.figure(figsize=(1, 1.5))\n",
    "sns.boxplot(x='time', y='corr', hue='isgf3', data=alpha_long_df, fliersize=0.1)\n",
    "\n",
    "plt.xlabel('Cell type'); plt.ylabel('Corr with STAT1');\n",
    "plt.legend([], frameon=False)\n",
    "# plt.legend(loc='upper center', ncol=2, bbox_to_anchor=(0.5, 1.4), frameon=False)\n",
    "# plt.ylim(-.8, 0.6)\n",
    "plt.savefig(fig_path + 'isgf3_vs_rest_alpha.pdf', bbox_inches='tight')\n",
    "\n"
   ]
  },
  {
   "cell_type": "code",
   "execution_count": 40,
   "metadata": {},
   "outputs": [
    {
     "data": {
      "image/png": "[encoded data removed]",
      "text/plain": [
       "<Figure size 72x108 with 1 Axes>"
      ]
     },
     "metadata": {
      "needs_background": "light"
     },
     "output_type": "display_data"
    }
   ],
   "source": [
    "plt.figure(figsize=(1, 1.5))\n",
    "sns.boxplot(x='time', y='corr', hue='isgf3', data=beta_long_df, fliersize=0.1)\n",
    "\n",
    "plt.xlabel('Cell type'); plt.ylabel('Corr with STAT1');\n",
    "plt.legend([], frameon=False)\n",
    "\n",
    "# plt.legend(loc='upper center', ncol=2, bbox_to_anchor=(0.5, 1.15))\n",
    "# plt.ylim(-.8, 0.6)\n",
    "plt.savefig(fig_path + 'isgf3_vs_rest_beta.pdf', bbox_inches='tight')\n",
    "\n"
   ]
  },
  {
   "cell_type": "code",
   "execution_count": 21,
   "metadata": {},
   "outputs": [
    {
     "data": {
      "text/html": [
       "<div>\n",
       "<style scoped>\n",
       "    .dataframe tbody tr th:only-of-type {\n",
       "        vertical-align: middle;\n",
       "    }\n",
       "\n",
       "    .dataframe tbody tr th {\n",
       "        vertical-align: top;\n",
       "    }\n",
       "\n",
       "    .dataframe thead th {\n",
       "        text-align: right;\n",
       "    }\n",
       "</style>\n",
       "<table border=\"1\" class=\"dataframe\">\n",
       "  <thead>\n",
       "    <tr style=\"text-align: right;\">\n",
       "      <th></th>\n",
       "      <th>gene_1</th>\n",
       "      <th>gene_2</th>\n",
       "      <th>time_9</th>\n",
       "      <th>time_3</th>\n",
       "      <th>time_0</th>\n",
       "      <th>time_6</th>\n",
       "      <th>time_48</th>\n",
       "      <th>time_24</th>\n",
       "      <th>stim</th>\n",
       "    </tr>\n",
       "  </thead>\n",
       "  <tbody>\n",
       "    <tr>\n",
       "      <th>0</th>\n",
       "      <td>STAT1</td>\n",
       "      <td>LINC01409</td>\n",
       "      <td>-0.175255</td>\n",
       "      <td>0.022280</td>\n",
       "      <td>0.389398</td>\n",
       "      <td>0.091183</td>\n",
       "      <td>-0.20891</td>\n",
       "      <td>-0.145140</td>\n",
       "      <td>beta</td>\n",
       "    </tr>\n",
       "    <tr>\n",
       "      <th>1</th>\n",
       "      <td>STAT1</td>\n",
       "      <td>NOC2L</td>\n",
       "      <td>-0.070694</td>\n",
       "      <td>0.070377</td>\n",
       "      <td>0.127526</td>\n",
       "      <td>0.105913</td>\n",
       "      <td>-0.01832</td>\n",
       "      <td>-0.201853</td>\n",
       "      <td>beta</td>\n",
       "    </tr>\n",
       "  </tbody>\n",
       "</table>\n",
       "</div>"
      ],
      "text/plain": [
       "  gene_1     gene_2    time_9    time_3    time_0    time_6  time_48  \\\n",
       "0  STAT1  LINC01409 -0.175255  0.022280  0.389398  0.091183 -0.20891   \n",
       "1  STAT1      NOC2L -0.070694  0.070377  0.127526  0.105913 -0.01832   \n",
       "\n",
       "    time_24  stim  \n",
       "0 -0.145140  beta  \n",
       "1 -0.201853  beta  "
      ]
     },
     "execution_count": 21,
     "metadata": {},
     "output_type": "execute_result"
    }
   ],
   "source": [
    "beta_df.head(2)"
   ]
  },
  {
   "cell_type": "code",
   "execution_count": null,
   "metadata": {},
   "outputs": [],
   "source": [
    "plt.figure(figsize=(2.5, 3))\n",
    "sns.boxplot(x='ct', y='dv_coef', hue='isgf3', data=alpha_df.sort_values('isgf3'), palette='Set2')\n",
    "\n",
    "plt.xlabel('Cell type'); plt.ylabel('Change in variability');\n",
    "plt.legend(loc='upper center', ncol=2, bbox_to_anchor=(0.5, 1.15))\n",
    "# plt.ylim(-.8, 0.6)\n",
    "# plt.savefig(fig_path + 'isgf3_vs_rest.pdf', bbox_inches='tight')\n",
    "\n"
   ]
  },
  {
   "cell_type": "code",
   "execution_count": 23,
   "metadata": {},
   "outputs": [
    {
     "data": {
      "text/plain": [
       "(-0.75, 1)"
      ]
     },
     "execution_count": 23,
     "metadata": {},
     "output_type": "execute_result"
    },
    {
     "data": {
      "image/png": "[encoded data removed]",
      "text/plain": [
       "<Figure size 216x144 with 1 Axes>"
      ]
     },
     "metadata": {
      "needs_background": "light"
     },
     "output_type": "display_data"
    }
   ],
   "source": [
    "plt.figure(figsize=(3, 2))\n",
    "for tp in ['0', '3', '6', '9', '24', '48']:#['0', '3', '6', '9', '24', '48']:\n",
    "    sns.distplot(beta_df['time_' + tp], hist=False, label=tp)\n",
    "# plt.legend(, frameon=False)\n",
    "plt.xlabel('Correlation with STAT1')\n",
    "plt.xlim(-0.75, 1)"
   ]
  },
  {
   "cell_type": "code",
   "execution_count": 81,
   "metadata": {},
   "outputs": [],
   "source": [
    "import matplotlib as mpl\n",
    "import matplotlib.pyplot as plt\n",
    "import matplotlib.gridspec as grid_spec\n",
    "\n",
    "import pandas as pd\n",
    "import numpy as np\n",
    "from sklearn.neighbors import KernelDensity"
   ]
  },
  {
   "cell_type": "code",
   "execution_count": 100,
   "metadata": {},
   "outputs": [],
   "source": [
    "def ridgeplot(df):\n",
    "\n",
    "    colors = ['#0000ff', '#3300cc', '#660099', '#990066', '#cc0033', '#ff0000']\n",
    "\n",
    "    gs = grid_spec.GridSpec(6,1)\n",
    "    fig = plt.figure(figsize=(3,2))\n",
    "\n",
    "    i = 0\n",
    "\n",
    "    ax_objs = []\n",
    "    for i, tp in enumerate(['0', '3', '6', '9', '24', '48'][::-1]):\n",
    "        x = df['time_' + tp].values\n",
    "        x = x[np.isfinite(x)]\n",
    "        x_d = np.linspace(-0.7,1, 1000)\n",
    "\n",
    "        kde = KernelDensity(bandwidth=0.025, kernel='gaussian')\n",
    "        kde.fit(x[:, None])\n",
    "\n",
    "        logprob = kde.score_samples(x_d[:, None])\n",
    "\n",
    "        # creating new axes object\n",
    "        ax_objs.append(fig.add_subplot(gs[i:i+1, 0:]))\n",
    "\n",
    "        # plotting the distribution\n",
    "        ax_objs[-1].plot(x_d, np.exp(logprob),lw=3, color=colors[i])\n",
    "    #     ax_objs[-1].fill_between(x_d, np.exp(logprob), alpha=1,color=colors[i])\n",
    "    \n",
    "        if i == 0:\n",
    "            mode_corr = x_d[np.argmax(logprob)]\n",
    "#             ax_objs[-1].plot([mode_corr, mode_corr], [0, 10])\n",
    "\n",
    "        # setting uniform x and y lims\n",
    "        ax_objs[-1].set_xlim(-0.4,0.7)\n",
    "    #     ax_objs[-1].set_ylim(0,2.5)\n",
    "\n",
    "        # make background transparent\n",
    "        rect = ax_objs[-1].patch\n",
    "        rect.set_alpha(0)\n",
    "\n",
    "        # remove borders, axis ticks, and labels\n",
    "        ax_objs[-1].set_yticklabels([])\n",
    "\n",
    "        if i == 6-1:\n",
    "            ax_objs[-1].set_xlabel(\"Correlation\", fontsize=10,fontweight=\"bold\")\n",
    "        else:\n",
    "            ax_objs[-1].set_xticklabels([])\n",
    "            ax_objs[-1].set_xticks([])\n",
    "\n",
    "        spines = [\"top\",\"right\",\"left\",\"bottom\"]\n",
    "        for s in spines:\n",
    "            ax_objs[-1].spines[s].set_visible(False)\n",
    "    #     \n",
    "        ax_objs[-1].set_yticks([])\n",
    "    #     adj_country = country.replace(\" \",\"\\n\")\n",
    "        ax_objs[-1].text(-0.5,0,tp,fontweight=\"bold\",fontsize=14,ha=\"right\")\n",
    "        i += 1\n",
    "\n",
    "    gs.update(hspace=-0.7)\n",
    "    \n",
    "#     plt.plot([mode_corr, mode_corr], [0, 10])\n",
    "\n",
    "    # fig.text(0.07,0.85,\"Distribution of Aptitude Test Results from 18 – 24 year-olds\",fontsize=20)\n",
    "\n",
    "    plt.tight_layout()\n",
    "    plt.show()\n",
    "    \n",
    "    return fig\n"
   ]
  },
  {
   "cell_type": "code",
   "execution_count": 102,
   "metadata": {},
   "outputs": [
    {
     "name": "stderr",
     "output_type": "stream",
     "text": [
      "/data/home/anaconda3/envs/single_cell/lib/python3.7/site-packages/ipykernel_launcher.py:64: UserWarning: This figure includes Axes that are not compatible with tight_layout, so results might be incorrect.\n"
     ]
    },
    {
     "data": {
      "image/png": "[encoded data removed]",
      "text/plain": [
       "<Figure size 216x144 with 6 Axes>"
      ]
     },
     "metadata": {
      "needs_background": "light"
     },
     "output_type": "display_data"
    }
   ],
   "source": [
    "fig = ridgeplot(alpha_df)\n",
    "fig.savefig(fig_path + 'corr_hist_alpha.pdf', bbox_inches='tight')"
   ]
  },
  {
   "cell_type": "code",
   "execution_count": 103,
   "metadata": {},
   "outputs": [
    {
     "name": "stderr",
     "output_type": "stream",
     "text": [
      "/data/home/anaconda3/envs/single_cell/lib/python3.7/site-packages/ipykernel_launcher.py:64: UserWarning: This figure includes Axes that are not compatible with tight_layout, so results might be incorrect.\n"
     ]
    },
    {
     "data": {
      "image/png": "[encoded data removed]",
      "text/plain": [
       "<Figure size 216x144 with 6 Axes>"
      ]
     },
     "metadata": {
      "needs_background": "light"
     },
     "output_type": "display_data"
    }
   ],
   "source": [
    "fig = ridgeplot(gamma_df)\n",
    "fig.savefig(fig_path + 'corr_hist_gamma.pdf', bbox_inches='tight')"
   ]
  },
  {
   "cell_type": "code",
   "execution_count": 104,
   "metadata": {},
   "outputs": [
    {
     "name": "stderr",
     "output_type": "stream",
     "text": [
      "/data/home/anaconda3/envs/single_cell/lib/python3.7/site-packages/ipykernel_launcher.py:64: UserWarning: This figure includes Axes that are not compatible with tight_layout, so results might be incorrect.\n"
     ]
    },
    {
     "data": {
      "image/png": "[encoded data removed]",
      "text/plain": [
       "<Figure size 216x144 with 6 Axes>"
      ]
     },
     "metadata": {
      "needs_background": "light"
     },
     "output_type": "display_data"
    }
   ],
   "source": [
    "fig = ridgeplot(beta_df)\n",
    "fig.savefig(fig_path + 'corr_hist_beta.pdf', bbox_inches='tight')"
   ]
  },
  {
   "cell_type": "code",
   "execution_count": 105,
   "metadata": {},
   "outputs": [
    {
     "name": "stderr",
     "output_type": "stream",
     "text": [
      "/data/home/anaconda3/envs/single_cell/lib/python3.7/site-packages/ipykernel_launcher.py:64: UserWarning: This figure includes Axes that are not compatible with tight_layout, so results might be incorrect.\n"
     ]
    },
    {
     "data": {
      "image/png": "[encoded data removed]",
      "text/plain": [
       "<Figure size 216x144 with 6 Axes>"
      ]
     },
     "metadata": {
      "needs_background": "light"
     },
     "output_type": "display_data"
    }
   ],
   "source": [
    "fig = ridgeplot(lambda_df)\n",
    "fig.savefig(fig_path + 'corr_hist_lambda.pdf', bbox_inches='tight')"
   ]
  },
  {
   "cell_type": "markdown",
   "metadata": {},
   "source": [
    "### TF ordering at timepoint 3"
   ]
  },
  {
   "cell_type": "code",
   "execution_count": 66,
   "metadata": {},
   "outputs": [],
   "source": [
    "filtered_tfs = \"\"\"MAFG\n",
    "SPI1\n",
    "ZNF655\n",
    "MAX\n",
    "ATF4\n",
    "ATF3\n",
    "IRF2\n",
    "IRF1\n",
    "ARID5A\n",
    "BACH1\n",
    "YY1\n",
    "HMGA1\n",
    "IRF7\n",
    "STAT1\n",
    "NR1H2\n",
    "XBP1\n",
    "ETV6\n",
    "MSC\n",
    "ATF5\n",
    "MAFB\n",
    "FOS\n",
    "CEBPB\n",
    "BBX\n",
    "STAT3\n",
    "REL\n",
    "JUN\n",
    "CEBPD\n",
    "DDIT3\n",
    "NR3C1\n",
    "TGIF1\n",
    "ZNF267\n",
    "NFE2L2\n",
    "HIF1A\n",
    "AHR\n",
    "GTF2B\n",
    "CREM\n",
    "HBP1\n",
    "RELB\n",
    "TFEC\n",
    "YBX1\n",
    "ELF1\n",
    "JUNB\n",
    "NFKB1\n",
    "IRF9\n",
    "RBPJ\n",
    "KLF6\"\"\".split()"
   ]
  },
  {
   "cell_type": "code",
   "execution_count": 20,
   "metadata": {},
   "outputs": [],
   "source": [
    "whitelist = beta_df.gene_2.tolist()"
   ]
  },
  {
   "cell_type": "code",
   "execution_count": null,
   "metadata": {},
   "outputs": [],
   "source": [
    "tf_df_list = []\n",
    "for tf in filtered_tfs:\n",
    "    \n",
    "    if tf not in whitelist:\n",
    "        continue\n",
    "    \n",
    "    df = get_2d_moments(tf, ['ciliated'], 'beta')\n",
    "    diff = (df['time_3'] - df['time_0']).mean()\n",
    "    tf_df_list.append((tf, diff))\n",
    "    del df\n",
    "    \n",
    "    print(tf)\n",
    "#     break\n",
    "\n",
    "tf_df_beta = pd.DataFrame(tf_df_list, columns=['tf', 'diff']).sort_values('diff', ascending=False)\n",
    "tf_df_beta['tf'] = tf_df_beta['tf'].astype('category')\n",
    "tf_order = tf_df_beta.sort_values('diff', ascending=False).tf.tolist()\n",
    "tf_df_beta['tf'].cat.set_categories(tf_order, inplace=True)"
   ]
  },
  {
   "cell_type": "code",
   "execution_count": 97,
   "metadata": {},
   "outputs": [
    {
     "name": "stderr",
     "output_type": "stream",
     "text": [
      "/data/home/Github/scrna-parameter-estimation/dist/memento-0.0.4-py3.7.egg/memento/main.py:578: RuntimeWarning: invalid value encountered in true_divide\n",
      "  groupby_corr[key] /= groupby_corr_count[key]\n"
     ]
    },
    {
     "name": "stdout",
     "output_type": "stream",
     "text": [
      "MAFG\n",
      "ZNF655\n",
      "MAX\n",
      "ATF4\n",
      "ATF3\n",
      "IRF2\n",
      "IRF1\n",
      "BACH1\n",
      "YY1\n",
      "HMGA1\n",
      "IRF7\n",
      "STAT1\n",
      "NR1H2\n",
      "XBP1\n",
      "ETV6\n",
      "ATF5\n",
      "FOS\n",
      "CEBPB\n",
      "BBX\n",
      "STAT3\n",
      "REL\n",
      "JUN\n",
      "CEBPD\n",
      "DDIT3\n",
      "NR3C1\n",
      "TGIF1\n",
      "ZNF267\n",
      "NFE2L2\n",
      "HIF1A\n",
      "AHR\n",
      "GTF2B\n",
      "CREM\n",
      "HBP1\n",
      "RELB\n",
      "YBX1\n",
      "ELF1\n",
      "JUNB\n",
      "NFKB1\n",
      "IRF9\n",
      "RBPJ\n",
      "KLF6\n"
     ]
    }
   ],
   "source": [
    "tf_df_list = []\n",
    "for tf in filtered_tfs:\n",
    "    \n",
    "    if tf not in whitelist:\n",
    "        continue\n",
    "    \n",
    "    df = get_2d_moments(tf, ['ciliated'], 'alpha')\n",
    "    diff = (df['time_3'] - df['time_0']).mean()\n",
    "    tf_df_list.append((tf, diff))\n",
    "    del df\n",
    "    \n",
    "    print(tf)\n",
    "#     break\n",
    "\n",
    "tf_df_alpha = pd.DataFrame(tf_df_list, columns=['tf', 'diff']).sort_values('diff', ascending=False)\n",
    "tf_df_alpha['tf'] = tf_df_alpha['tf'].astype('category')\n",
    "tf_order = tf_df_alpha.sort_values('diff', ascending=False).tf.tolist()\n",
    "tf_df_alpha['tf'].cat.set_categories(tf_order, inplace=True)"
   ]
  },
  {
   "cell_type": "code",
   "execution_count": 98,
   "metadata": {},
   "outputs": [
    {
     "name": "stdout",
     "output_type": "stream",
     "text": [
      "MAFG\n",
      "ZNF655\n",
      "MAX\n",
      "ATF4\n",
      "ATF3\n",
      "IRF2\n",
      "IRF1\n",
      "BACH1\n",
      "YY1\n",
      "HMGA1\n",
      "IRF7\n",
      "STAT1\n",
      "NR1H2\n",
      "XBP1\n",
      "ETV6\n",
      "ATF5\n",
      "FOS\n",
      "CEBPB\n",
      "BBX\n",
      "STAT3\n",
      "REL\n",
      "JUN\n",
      "CEBPD\n",
      "DDIT3\n",
      "NR3C1\n",
      "TGIF1\n",
      "ZNF267\n",
      "NFE2L2\n",
      "HIF1A\n",
      "AHR\n",
      "GTF2B\n",
      "CREM\n",
      "HBP1\n",
      "RELB\n",
      "YBX1\n",
      "ELF1\n",
      "JUNB\n",
      "NFKB1\n",
      "IRF9\n",
      "RBPJ\n",
      "KLF6\n"
     ]
    }
   ],
   "source": [
    "tf_df_list = []\n",
    "for tf in filtered_tfs:\n",
    "    \n",
    "    if tf not in whitelist:\n",
    "        continue\n",
    "    \n",
    "    df = get_2d_moments(tf, ['ciliated'], 'gamma')\n",
    "    diff = (df['time_3'] - df['time_0']).mean()\n",
    "    tf_df_list.append((tf, diff))\n",
    "    del df\n",
    "    \n",
    "    print(tf)\n",
    "#     break\n",
    "\n",
    "tf_df_gamma = pd.DataFrame(tf_df_list, columns=['tf', 'diff']).sort_values('diff', ascending=False)\n",
    "tf_df_gamma['tf'] = tf_df_gamma['tf'].astype('category')\n",
    "tf_order = tf_df_gamma.sort_values('diff', ascending=False).tf.tolist()\n",
    "tf_df_gamma['tf'].cat.set_categories(tf_order, inplace=True)"
   ]
  },
  {
   "cell_type": "code",
   "execution_count": 28,
   "metadata": {},
   "outputs": [],
   "source": [
    "pbmc_data_path = '/data_volume/parameter_estimation/'\n",
    "pbmc_tf_df = pd.read_csv(pbmc_data_path + 'tf_corr_changes.csv')"
   ]
  },
  {
   "cell_type": "code",
   "execution_count": 32,
   "metadata": {},
   "outputs": [],
   "source": [
    "pbmc_tf_df = pbmc_tf_df.groupby('tf').diff.mean().reset_index()"
   ]
  },
  {
   "cell_type": "code",
   "execution_count": 33,
   "metadata": {},
   "outputs": [],
   "source": [
    "joined = tf_df_beta.merge(tf_df_alpha, on='tf', suffixes=('_beta', '_alpha'))\n",
    "joined_pbmc = tf_df_beta.merge(pbmc_tf_df, on='tf', suffixes=('_beta', '_pbmc'))\n",
    "joined_pbmc = tf_df_beta.merge(pbmc_tf_df, on='tf', suffixes=('_beta', '_pbmc'))"
   ]
  },
  {
   "cell_type": "code",
   "execution_count": 29,
   "metadata": {},
   "outputs": [
    {
     "data": {
      "text/html": [
       "<div>\n",
       "<style scoped>\n",
       "    .dataframe tbody tr th:only-of-type {\n",
       "        vertical-align: middle;\n",
       "    }\n",
       "\n",
       "    .dataframe tbody tr th {\n",
       "        vertical-align: top;\n",
       "    }\n",
       "\n",
       "    .dataframe thead th {\n",
       "        text-align: right;\n",
       "    }\n",
       "</style>\n",
       "<table border=\"1\" class=\"dataframe\">\n",
       "  <thead>\n",
       "    <tr style=\"text-align: right;\">\n",
       "      <th></th>\n",
       "      <th>tf</th>\n",
       "      <th>diff_beta</th>\n",
       "      <th>diff_alpha</th>\n",
       "    </tr>\n",
       "  </thead>\n",
       "  <tbody>\n",
       "    <tr>\n",
       "      <th>0</th>\n",
       "      <td>STAT1</td>\n",
       "      <td>0.099344</td>\n",
       "      <td>0.156776</td>\n",
       "    </tr>\n",
       "    <tr>\n",
       "      <th>1</th>\n",
       "      <td>IRF9</td>\n",
       "      <td>0.099322</td>\n",
       "      <td>0.125458</td>\n",
       "    </tr>\n",
       "    <tr>\n",
       "      <th>2</th>\n",
       "      <td>IRF7</td>\n",
       "      <td>0.086175</td>\n",
       "      <td>0.127605</td>\n",
       "    </tr>\n",
       "    <tr>\n",
       "      <th>3</th>\n",
       "      <td>TGIF1</td>\n",
       "      <td>0.071129</td>\n",
       "      <td>0.091961</td>\n",
       "    </tr>\n",
       "    <tr>\n",
       "      <th>4</th>\n",
       "      <td>BACH1</td>\n",
       "      <td>0.063072</td>\n",
       "      <td>0.085814</td>\n",
       "    </tr>\n",
       "  </tbody>\n",
       "</table>\n",
       "</div>"
      ],
      "text/plain": [
       "      tf  diff_beta  diff_alpha\n",
       "0  STAT1   0.099344    0.156776\n",
       "1   IRF9   0.099322    0.125458\n",
       "2   IRF7   0.086175    0.127605\n",
       "3  TGIF1   0.071129    0.091961\n",
       "4  BACH1   0.063072    0.085814"
      ]
     },
     "execution_count": 29,
     "metadata": {},
     "output_type": "execute_result"
    }
   ],
   "source": [
    "joined.head(5)"
   ]
  },
  {
   "cell_type": "code",
   "execution_count": 101,
   "metadata": {},
   "outputs": [
    {
     "data": {
      "text/plain": [
       "(0.8844643874489025, 1.750514636467869e-14)"
      ]
     },
     "execution_count": 101,
     "metadata": {},
     "output_type": "execute_result"
    }
   ],
   "source": [
    "stats.pearsonr(joined['diff_beta'], joined['diff_alpha'])"
   ]
  },
  {
   "cell_type": "code",
   "execution_count": 100,
   "metadata": {},
   "outputs": [
    {
     "data": {
      "text/plain": [
       "(0.294557632916126, 0.07262447260476375)"
      ]
     },
     "execution_count": 100,
     "metadata": {},
     "output_type": "execute_result"
    }
   ],
   "source": [
    "stats.pearsonr(joined_pbmc['diff_beta'], joined_pbmc['diff_pbmc'])"
   ]
  },
  {
   "cell_type": "code",
   "execution_count": 99,
   "metadata": {},
   "outputs": [
    {
     "data": {
      "image/png": "[encoded data removed]",
      "text/plain": [
       "<Figure size 216x144 with 1 Axes>"
      ]
     },
     "metadata": {
      "needs_background": "light"
     },
     "output_type": "display_data"
    }
   ],
   "source": [
    "plt.figure(figsize=(3,2))\n",
    "sns.regplot(joined_pbmc['diff_beta'], joined_pbmc['diff_pbmc'], scatter_kws={'s':6, 'color':'k'}, line_kws={'color':'k'})\n",
    "plt.xlim(-0.015, 0.11); \n",
    "# plt.xlabel('Corr shift IFN-B'); plt.ylabel('Corr shift IFN-A')\n",
    "# plt.savefig(fig_path + 'corr_shift_AB.pdf', bbox_inches='tight')\n"
   ]
  },
  {
   "cell_type": "code",
   "execution_count": 59,
   "metadata": {},
   "outputs": [
    {
     "data": {
      "image/png": "[encoded data removed]",
      "text/plain": [
       "<Figure size 216x144 with 1 Axes>"
      ]
     },
     "metadata": {
      "needs_background": "light"
     },
     "output_type": "display_data"
    }
   ],
   "source": [
    "plt.figure(figsize=(3,2))\n",
    "sns.regplot(joined['diff_beta'], joined['diff_alpha'], scatter_kws={'s':6, 'color':'k'}, line_kws={'color':'k'})\n",
    "plt.xlim(-0.015, 0.11); \n",
    "plt.xlabel('Corr shift IFN-B'); plt.ylabel('Corr shift IFN-A')\n",
    "plt.savefig(fig_path + 'corr_shift_AB.pdf', bbox_inches='tight')\n"
   ]
  },
  {
   "cell_type": "code",
   "execution_count": 31,
   "metadata": {},
   "outputs": [
    {
     "data": {
      "image/png": "[encoded data removed]",
      "text/plain": [
       "<Figure size 288x144 with 1 Axes>"
      ]
     },
     "metadata": {
      "needs_background": "light"
     },
     "output_type": "display_data"
    }
   ],
   "source": [
    "import matplotlib.pylab as pylab\n",
    "params = {'legend.fontsize': 'medium',\n",
    "         'axes.labelsize': 'medium',\n",
    "         'axes.titlesize':'medium',\n",
    "         'figure.titlesize':'medium',\n",
    "         'xtick.labelsize':'6',\n",
    "         'ytick.labelsize':'small'}\n",
    "pylab.rcParams.update(params)\n",
    "\n",
    "plt.figure(figsize=(4, 2))\n",
    "\n",
    "sns.barplot(x='tf', y='diff', data=tf_df, errwidth=2)\n",
    "plt.xticks(rotation=90);\n",
    "plt.ylabel('Mean shift in corr')\n",
    "\n",
    "plt.savefig(fig_path + 'tf_effect_sizes.pdf', bbox_inches='tight')\n"
   ]
  },
  {
   "cell_type": "markdown",
   "metadata": {},
   "source": [
    "### Look for STAT1 DC genes"
   ]
  },
  {
   "cell_type": "code",
   "execution_count": 12,
   "metadata": {},
   "outputs": [],
   "source": [
    "cts = [['ciliated'], ['bc', 'basal']]\n",
    "tps = ['3', '6', '9', '24', '48']\n",
    "stims = ['alpha', 'beta', 'gamma', 'lambda']"
   ]
  },
  {
   "cell_type": "code",
   "execution_count": 13,
   "metadata": {},
   "outputs": [],
   "source": [
    "import os"
   ]
  },
  {
   "cell_type": "code",
   "execution_count": 14,
   "metadata": {},
   "outputs": [],
   "source": [
    "done_files = os.listdir('/data_volume/ifn_hbec/tf_test/')"
   ]
  },
  {
   "cell_type": "code",
   "execution_count": 14,
   "metadata": {},
   "outputs": [],
   "source": [
    "tf = 'STAT1'\n",
    "\n",
    "cts = [['ciliated']]\n",
    "tps = ['3']\n",
    "stims = ['beta']\n",
    "\n",
    "\n",
    "for ct in cts:\n",
    "    for tp in tps:\n",
    "        for stim in stims:\n",
    "            \n",
    "            fname = '{}_{}_{}_{}.h5ad'.format('-'.join(ct), stim, tp, tf)\n",
    "            if fname in done_files:\n",
    "                continue\n",
    "                            \n",
    "            print('starting', ct, tp, stim)\n",
    "\n",
    "            adata_stim = adata.copy()[\n",
    "                adata.obs.cell_type.isin(ct) & \\\n",
    "                adata.obs.stim.isin(['control', stim]) & \\\n",
    "                adata.obs.time.isin(['0',tp]), :].copy()\n",
    "            time_converter={0:0, int(tp):1}\n",
    "            adata_stim.obs['time_step'] = adata_stim.obs['time'].astype(int).apply(lambda x: time_converter[x])\n",
    "\n",
    "            memento.create_groups(adata_stim, label_columns=['time_step', 'donor'])\n",
    "            memento.compute_1d_moments(adata_stim, min_perc_group=.9)\n",
    "            memento.compute_2d_moments(adata_stim, list(itertools.product([tf], adata_stim.var.index)))\n",
    "\n",
    "            moment_df = memento.get_2d_moments(adata_stim, groupby='time_step')\n",
    "            moment_df.to_csv('/data_volume/ifn_hbec/coex_test/moments_{}_{}_{}_{}.csv'.format('-'.join(ct), stim, tp, tf), index=False)\n",
    "            gene_list = adata_stim.var.index.tolist()#moment_df[(moment_df['time_step_0'] > 0.35) | (moment_df['time_step_1'] > 0.35)].gene_2.tolist()\n",
    "\n",
    "            memento.compute_2d_moments(adata_stim, list(itertools.product([tf], gene_list)))\n",
    "\n",
    "            memento.ht_2d_moments( \n",
    "                adata_stim, \n",
    "                formula_like='1 + time_step',\n",
    "                cov_column='time_step', \n",
    "                num_boot=10000, \n",
    "                verbose=1,\n",
    "                num_cpus=13)\n",
    "\n",
    "            if 'mv_regressor' in adata_stim.uns['memento']:\n",
    "                del adata_stim.uns['memento']['mv_regressor']\n",
    "            adata_stim.write('/data_volume/ifn_hbec/tf_test/{}_{}_{}_{}.h5ad'.format('-'.join(ct), stim, tp, tf))"
   ]
  },
  {
   "cell_type": "markdown",
   "metadata": {},
   "source": [
    "### What are the STAT1 DC genes?"
   ]
  },
  {
   "cell_type": "code",
   "execution_count": 57,
   "metadata": {},
   "outputs": [],
   "source": [
    "stim = 'beta'\n",
    "tp = '3'\n",
    "ct = ['ciliated']\n",
    "\n",
    "fname = '/data_volume/ifn_hbec/tf_test/{}_{}_{}_{}.h5ad'.format('-'.join(ct), stim, tp, tf)\n",
    "adata_result = sc.read(fname)"
   ]
  },
  {
   "cell_type": "code",
   "execution_count": 105,
   "metadata": {},
   "outputs": [],
   "source": [
    "\n",
    "fname = '/data_volume/ifn_hbec/tf_test/{}_{}_{}_{}.h5ad'.format('-'.join(ct), stim, tp, tf)\n",
    "adata_result = sc.read(fname)\n",
    "\n",
    "moments = memento.get_2d_moments(adata_result, groupby='time')\n",
    "res_df = memento.get_2d_ht_result(adata_result)\n",
    "# rel_res_df = memento.get_2d_ht_result(adata_stim)"
   ]
  },
  {
   "cell_type": "code",
   "execution_count": 106,
   "metadata": {},
   "outputs": [
    {
     "data": {
      "text/html": [
       "<div>\n",
       "<style scoped>\n",
       "    .dataframe tbody tr th:only-of-type {\n",
       "        vertical-align: middle;\n",
       "    }\n",
       "\n",
       "    .dataframe tbody tr th {\n",
       "        vertical-align: top;\n",
       "    }\n",
       "\n",
       "    .dataframe thead th {\n",
       "        text-align: right;\n",
       "    }\n",
       "</style>\n",
       "<table border=\"1\" class=\"dataframe\">\n",
       "  <thead>\n",
       "    <tr style=\"text-align: right;\">\n",
       "      <th></th>\n",
       "      <th>gene_1</th>\n",
       "      <th>gene_2</th>\n",
       "      <th>time_3</th>\n",
       "      <th>time_0</th>\n",
       "    </tr>\n",
       "  </thead>\n",
       "  <tbody>\n",
       "    <tr>\n",
       "      <th>324</th>\n",
       "      <td>STAT1</td>\n",
       "      <td>HLA-F</td>\n",
       "      <td>0.516336</td>\n",
       "      <td>0.303196</td>\n",
       "    </tr>\n",
       "    <tr>\n",
       "      <th>325</th>\n",
       "      <td>STAT1</td>\n",
       "      <td>HLA-A</td>\n",
       "      <td>0.435438</td>\n",
       "      <td>0.184255</td>\n",
       "    </tr>\n",
       "    <tr>\n",
       "      <th>326</th>\n",
       "      <td>STAT1</td>\n",
       "      <td>HLA-E</td>\n",
       "      <td>0.626379</td>\n",
       "      <td>0.415575</td>\n",
       "    </tr>\n",
       "    <tr>\n",
       "      <th>327</th>\n",
       "      <td>STAT1</td>\n",
       "      <td>HLA-C</td>\n",
       "      <td>0.530611</td>\n",
       "      <td>0.319793</td>\n",
       "    </tr>\n",
       "    <tr>\n",
       "      <th>328</th>\n",
       "      <td>STAT1</td>\n",
       "      <td>HLA-B</td>\n",
       "      <td>0.437998</td>\n",
       "      <td>0.201227</td>\n",
       "    </tr>\n",
       "  </tbody>\n",
       "</table>\n",
       "</div>"
      ],
      "text/plain": [
       "    gene_1 gene_2    time_3    time_0\n",
       "324  STAT1  HLA-F  0.516336  0.303196\n",
       "325  STAT1  HLA-A  0.435438  0.184255\n",
       "326  STAT1  HLA-E  0.626379  0.415575\n",
       "327  STAT1  HLA-C  0.530611  0.319793\n",
       "328  STAT1  HLA-B  0.437998  0.201227"
      ]
     },
     "execution_count": 106,
     "metadata": {},
     "output_type": "execute_result"
    }
   ],
   "source": [
    "moments.query('gene_2.str.startswith(\"HLA-\")', engine='python')"
   ]
  },
  {
   "cell_type": "code",
   "execution_count": 80,
   "metadata": {},
   "outputs": [],
   "source": [
    "wired_pairs = moments.query('time_0 > 0.25 | time_{} > 0.25'.format(tp))"
   ]
  },
  {
   "cell_type": "code",
   "execution_count": 81,
   "metadata": {},
   "outputs": [],
   "source": [
    "filtered_res_df = df.merge(wired_pairs, on=['gene_1', 'gene_2'])\n",
    "filtered_res_df['corr_fdr'] = memento.util._fdrcorrect(filtered_res_df['corr_pval'])"
   ]
  },
  {
   "cell_type": "code",
   "execution_count": null,
   "metadata": {},
   "outputs": [],
   "source": [
    "for g in filtered_res_df.query('corr_fdr < 0.1 & corr_coef > 0').gene_2.tolist():\n",
    "    print(g)"
   ]
  },
  {
   "cell_type": "code",
   "execution_count": 52,
   "metadata": {},
   "outputs": [
    {
     "data": {
      "text/plain": [
       "(869, 7)"
      ]
     },
     "execution_count": 52,
     "metadata": {},
     "output_type": "execute_result"
    }
   ],
   "source": [
    "filtered_res_df.shape"
   ]
  },
  {
   "cell_type": "code",
   "execution_count": 53,
   "metadata": {},
   "outputs": [
    {
     "data": {
      "text/plain": [
       "(891, 5)"
      ]
     },
     "execution_count": 53,
     "metadata": {},
     "output_type": "execute_result"
    }
   ],
   "source": [
    "res_df.shape"
   ]
  },
  {
   "cell_type": "markdown",
   "metadata": {},
   "source": [
    "### Re-run the STAT1 anaylsis for subset"
   ]
  },
  {
   "cell_type": "code",
   "execution_count": 15,
   "metadata": {},
   "outputs": [
    {
     "name": "stdout",
     "output_type": "stream",
     "text": [
      "starting ['ciliated'] 3 alpha\n",
      "starting ['ciliated'] 3 beta\n",
      "starting ['ciliated'] 3 gamma\n"
     ]
    },
    {
     "name": "stderr",
     "output_type": "stream",
     "text": [
      "/data/home/Github/scrna-parameter-estimation/dist/memento-0.0.4-py3.7.egg/memento/main.py:578: RuntimeWarning: invalid value encountered in true_divide\n"
     ]
    },
    {
     "name": "stdout",
     "output_type": "stream",
     "text": [
      "starting ['ciliated'] 3 lambda\n",
      "starting ['ciliated'] 6 alpha\n",
      "starting ['ciliated'] 6 beta\n",
      "starting ['ciliated'] 6 gamma\n",
      "starting ['ciliated'] 6 lambda\n",
      "starting ['ciliated'] 9 alpha\n",
      "starting ['ciliated'] 9 beta\n",
      "starting ['ciliated'] 9 gamma\n",
      "starting ['ciliated'] 9 lambda\n",
      "starting ['ciliated'] 24 alpha\n",
      "starting ['ciliated'] 24 beta\n",
      "starting ['ciliated'] 24 gamma\n",
      "starting ['ciliated'] 24 lambda\n",
      "starting ['ciliated'] 48 alpha\n",
      "starting ['ciliated'] 48 beta\n",
      "starting ['ciliated'] 48 gamma\n",
      "starting ['ciliated'] 48 lambda\n"
     ]
    }
   ],
   "source": [
    "tf = 'STAT1'\n",
    "\n",
    "cts = [['ciliated']]\n",
    "tps = ['3', '6', '9', '24', '48']\n",
    "stims = ['alpha', 'beta', 'gamma', 'lambda']\n",
    "\n",
    "\n",
    "for ct in cts:\n",
    "    for tp in tps:\n",
    "        for stim in stims:\n",
    "            \n",
    "#             fname = '{}_{}_{}_{}.h5ad'.format('-'.join(ct), stim, tp, tf)\n",
    "#             if fname in done_files:\n",
    "#                 continue\n",
    "                            \n",
    "            print('starting', ct, tp, stim)\n",
    "\n",
    "            adata_stim = adata.copy()[\n",
    "                adata.obs.cell_type.isin(ct) & \\\n",
    "                adata.obs.stim.isin(['control', stim]) & \\\n",
    "                adata.obs.time.isin(['0',tp]), :].copy()\n",
    "            time_converter={0:0, int(tp):1}\n",
    "            adata_stim.obs['time_step'] = adata_stim.obs['time'].astype(int).apply(lambda x: time_converter[x])\n",
    "\n",
    "            memento.create_groups(adata_stim, label_columns=['time_step', 'donor'])\n",
    "            memento.compute_1d_moments(adata_stim, min_perc_group=.9)\n",
    "            \n",
    "            gene_list = adata_stim.var.index.tolist()\n",
    "            \n",
    "            memento.compute_2d_moments(adata_stim, list(itertools.product([tf], adata_stim.var.index)))\n",
    "\n",
    "            moment_df = memento.get_2d_moments(adata_stim, groupby='time_step')\n",
    "            moment_df.to_csv('/data_volume/ifn_hbec/tf_test/moments_{}_{}_{}_{}.csv'.format('-'.join(ct), stim, tp, tf), index=False)\n",
    "#             gene_list = adata_stim.var.index.tolist()#moment_df[(moment_df['time_step_0'] > 0.35) | (moment_df['time_step_1'] > 0.35)].gene_2.tolist()\n",
    "\n",
    "#             memento.compute_2d_moments(adata_stim, list(itertools.product([tf], gene_list)))\n",
    "\n",
    "#             memento.ht_2d_moments( \n",
    "#                 adata_stim, \n",
    "#                 formula_like='1 + time_step',\n",
    "#                 cov_column='time_step', \n",
    "#                 num_boot=10000, \n",
    "#                 verbose=1,\n",
    "#                 num_cpus=13)\n",
    "\n",
    "#             if 'mv_regressor' in adata_stim.uns['memento']:\n",
    "#                 del adata_stim.uns['memento']['mv_regressor']\n",
    "#             adata_stim.write('/data_volume/ifn_hbec/tf_test/{}_{}_{}_{}.h5ad'.format('-'.join(ct), stim, tp, tf))"
   ]
  },
  {
   "cell_type": "markdown",
   "metadata": {},
   "source": [
    "### Compile STAT1 DC and correlation status"
   ]
  },
  {
   "cell_type": "code",
   "execution_count": 140,
   "metadata": {},
   "outputs": [],
   "source": [
    "stim = 'gamma'\n",
    "ct = ['ciliated']\n",
    "tf = 'STAT1'"
   ]
  },
  {
   "cell_type": "code",
   "execution_count": 141,
   "metadata": {},
   "outputs": [
    {
     "name": "stdout",
     "output_type": "stream",
     "text": [
      "3\n",
      "6\n",
      "9\n",
      "24\n",
      "48\n"
     ]
    }
   ],
   "source": [
    "\n",
    "for tp in ['3', '6', '9', '24', '48']:\n",
    "    \n",
    "    print(tp)\n",
    "\n",
    "    fname = '/data_volume/ifn_hbec/tf_test/{}_{}_{}_{}.h5ad'.format('-'.join(ct), stim, tp, tf)\n",
    "    adata_result = sc.read(fname)\n",
    "    \n",
    "#     moments = memento.get_2d_moments(adata_result, groupby='time_step').rename(columns={'time_step_0':'time_0', 'time_step_1':'time_'+tp})\n",
    "    moments = pd.read_csv('/data_volume/ifn_hbec/tf_test/moments_{}_{}_{}_{}.csv'.format('-'.join(ct), stim, tp, tf)).rename(columns={'time_step_0':'time_0', 'time_step_1':'time_'+tp})\n",
    "    res_df = memento.get_2d_ht_result(adata_result)\\\n",
    "        .rename(columns={\n",
    "            'corr_coef':'corr_coef' + '_' + tp,\n",
    "            'corr_pval':'corr_pval' + '_' + tp})\n",
    "    \n",
    "    if tp == '3':\n",
    "\n",
    "        pv_df = res_df[['gene_1', 'gene_2', 'corr_pval' + '_' + tp]].copy()\n",
    "        coef_df = res_df[['gene_1', 'gene_2', 'corr_coef' + '_' + tp]].copy()\n",
    "        moment_df = moments[['gene_1', 'gene_2', 'time_0', 'time_3']].copy()\n",
    "        \n",
    "    else:\n",
    "        \n",
    "        pv_df = pv_df.merge(res_df[['gene_1', 'gene_2', 'corr_pval' + '_' + tp]].copy(), on=['gene_1', 'gene_2'], how='outer')\n",
    "        coef_df = coef_df.merge(res_df[['gene_1', 'gene_2', 'corr_coef' + '_' + tp]].copy(), on=['gene_1', 'gene_2'], how='outer')\n",
    "        moment_df = moment_df.merge(moments[['gene_1', 'gene_2', 'time_{}'.format(tp)]].copy(), on=['gene_1', 'gene_2'], how='outer')\n",
    "    \n",
    "    \n",
    "    "
   ]
  },
  {
   "cell_type": "code",
   "execution_count": 142,
   "metadata": {},
   "outputs": [
    {
     "data": {
      "text/html": [
       "<div>\n",
       "<style scoped>\n",
       "    .dataframe tbody tr th:only-of-type {\n",
       "        vertical-align: middle;\n",
       "    }\n",
       "\n",
       "    .dataframe tbody tr th {\n",
       "        vertical-align: top;\n",
       "    }\n",
       "\n",
       "    .dataframe thead th {\n",
       "        text-align: right;\n",
       "    }\n",
       "</style>\n",
       "<table border=\"1\" class=\"dataframe\">\n",
       "  <thead>\n",
       "    <tr style=\"text-align: right;\">\n",
       "      <th></th>\n",
       "      <th>gene_1</th>\n",
       "      <th>gene_2</th>\n",
       "      <th>time_0</th>\n",
       "      <th>time_3</th>\n",
       "      <th>time_6</th>\n",
       "      <th>time_9</th>\n",
       "      <th>time_24</th>\n",
       "      <th>time_48</th>\n",
       "    </tr>\n",
       "  </thead>\n",
       "  <tbody>\n",
       "    <tr>\n",
       "      <th>3094</th>\n",
       "      <td>STAT1</td>\n",
       "      <td>HLA-A</td>\n",
       "      <td>0.172667</td>\n",
       "      <td>0.264742</td>\n",
       "      <td>0.196805</td>\n",
       "      <td>0.136728</td>\n",
       "      <td>0.101051</td>\n",
       "      <td>0.097405</td>\n",
       "    </tr>\n",
       "    <tr>\n",
       "      <th>3115</th>\n",
       "      <td>STAT1</td>\n",
       "      <td>HLA-C</td>\n",
       "      <td>0.314121</td>\n",
       "      <td>0.397101</td>\n",
       "      <td>0.337141</td>\n",
       "      <td>0.287205</td>\n",
       "      <td>0.147436</td>\n",
       "      <td>0.177297</td>\n",
       "    </tr>\n",
       "    <tr>\n",
       "      <th>3116</th>\n",
       "      <td>STAT1</td>\n",
       "      <td>HLA-B</td>\n",
       "      <td>0.196586</td>\n",
       "      <td>0.293571</td>\n",
       "      <td>0.286509</td>\n",
       "      <td>0.216158</td>\n",
       "      <td>0.123979</td>\n",
       "      <td>0.082816</td>\n",
       "    </tr>\n",
       "    <tr>\n",
       "      <th>6658</th>\n",
       "      <td>STAT1</td>\n",
       "      <td>B2M</td>\n",
       "      <td>0.177316</td>\n",
       "      <td>0.238690</td>\n",
       "      <td>0.196549</td>\n",
       "      <td>0.146857</td>\n",
       "      <td>0.054398</td>\n",
       "      <td>0.054794</td>\n",
       "    </tr>\n",
       "  </tbody>\n",
       "</table>\n",
       "</div>"
      ],
      "text/plain": [
       "     gene_1 gene_2    time_0    time_3    time_6    time_9   time_24   time_48\n",
       "3094  STAT1  HLA-A  0.172667  0.264742  0.196805  0.136728  0.101051  0.097405\n",
       "3115  STAT1  HLA-C  0.314121  0.397101  0.337141  0.287205  0.147436  0.177297\n",
       "3116  STAT1  HLA-B  0.196586  0.293571  0.286509  0.216158  0.123979  0.082816\n",
       "6658  STAT1    B2M  0.177316  0.238690  0.196549  0.146857  0.054398  0.054794"
      ]
     },
     "execution_count": 142,
     "metadata": {},
     "output_type": "execute_result"
    }
   ],
   "source": [
    "moment_df.query('gene_2.isin([\"HLA-A\", \"HLA-B\", \"HLA-C\", \"B2M\"])', engine='python')"
   ]
  },
  {
   "cell_type": "markdown",
   "metadata": {},
   "source": [
    "### Check 2D moments over time"
   ]
  },
  {
   "cell_type": "code",
   "execution_count": 153,
   "metadata": {},
   "outputs": [],
   "source": [
    "isg_genes = ['GBP1']"
   ]
  },
  {
   "cell_type": "code",
   "execution_count": 154,
   "metadata": {},
   "outputs": [
    {
     "data": {
      "text/html": [
       "<div>\n",
       "<style scoped>\n",
       "    .dataframe tbody tr th:only-of-type {\n",
       "        vertical-align: middle;\n",
       "    }\n",
       "\n",
       "    .dataframe tbody tr th {\n",
       "        vertical-align: top;\n",
       "    }\n",
       "\n",
       "    .dataframe thead th {\n",
       "        text-align: right;\n",
       "    }\n",
       "</style>\n",
       "<table border=\"1\" class=\"dataframe\">\n",
       "  <thead>\n",
       "    <tr style=\"text-align: right;\">\n",
       "      <th></th>\n",
       "      <th>gene_1</th>\n",
       "      <th>gene_2</th>\n",
       "      <th>time_0</th>\n",
       "      <th>time_3</th>\n",
       "      <th>time_6</th>\n",
       "      <th>time_9</th>\n",
       "      <th>time_24</th>\n",
       "      <th>time_48</th>\n",
       "    </tr>\n",
       "  </thead>\n",
       "  <tbody>\n",
       "    <tr>\n",
       "      <th>450</th>\n",
       "      <td>STAT1</td>\n",
       "      <td>GBP1</td>\n",
       "      <td>0.552696</td>\n",
       "      <td>0.600947</td>\n",
       "      <td>0.589076</td>\n",
       "      <td>0.650046</td>\n",
       "      <td>0.637277</td>\n",
       "      <td>0.630829</td>\n",
       "    </tr>\n",
       "  </tbody>\n",
       "</table>\n",
       "</div>"
      ],
      "text/plain": [
       "    gene_1 gene_2    time_0    time_3    time_6    time_9   time_24   time_48\n",
       "450  STAT1   GBP1  0.552696  0.600947  0.589076  0.650046  0.637277  0.630829"
      ]
     },
     "execution_count": 154,
     "metadata": {},
     "output_type": "execute_result"
    }
   ],
   "source": [
    "moment_df.query('gene_2.isin(@isg_genes)', engine='python')"
   ]
  },
  {
   "cell_type": "code",
   "execution_count": 157,
   "metadata": {},
   "outputs": [
    {
     "data": {
      "text/plain": [
       "<matplotlib.legend.Legend at 0x7f25e7928210>"
      ]
     },
     "execution_count": 157,
     "metadata": {},
     "output_type": "execute_result"
    },
    {
     "data": {
      "image/png": "[encoded data removed]",
      "text/plain": [
       "<Figure size 144x144 with 1 Axes>"
      ]
     },
     "metadata": {
      "needs_background": "light"
     },
     "output_type": "display_data"
    }
   ],
   "source": [
    "tf = 'STAT1'\n",
    "plt.figure(figsize=(2,2))\n",
    "plt.plot(moment_df.query('gene_2.isin(@isg_genes)', engine='python').values[:, 2:].T, '-o')\n",
    "plt.ylim(0, 0.8)\n",
    "plt.xticks([0, 1, 2, 3, 4, 5], ['0', '3', '6', '9', '24', '48'])\n",
    "plt.xlabel('Time (hr)'); plt.ylabel('Corr {}'.format(tf))\n",
    "plt.legend(moment_df.query('gene_2.isin(@isg_genes)', engine='python').gene_2.tolist(), loc='center right', frameon=False, bbox_to_anchor=(1.7, 0.5))"
   ]
  },
  {
   "cell_type": "code",
   "execution_count": 139,
   "metadata": {},
   "outputs": [
    {
     "data": {
      "text/html": [
       "<div>\n",
       "<style scoped>\n",
       "    .dataframe tbody tr th:only-of-type {\n",
       "        vertical-align: middle;\n",
       "    }\n",
       "\n",
       "    .dataframe tbody tr th {\n",
       "        vertical-align: top;\n",
       "    }\n",
       "\n",
       "    .dataframe thead th {\n",
       "        text-align: right;\n",
       "    }\n",
       "</style>\n",
       "<table border=\"1\" class=\"dataframe\">\n",
       "  <thead>\n",
       "    <tr style=\"text-align: right;\">\n",
       "      <th></th>\n",
       "      <th>gene_1</th>\n",
       "      <th>gene_2</th>\n",
       "      <th>time_0</th>\n",
       "      <th>time_3</th>\n",
       "      <th>time_6</th>\n",
       "      <th>time_9</th>\n",
       "      <th>time_24</th>\n",
       "      <th>time_48</th>\n",
       "    </tr>\n",
       "  </thead>\n",
       "  <tbody>\n",
       "    <tr>\n",
       "      <th>3097</th>\n",
       "      <td>STAT1</td>\n",
       "      <td>HLA-A</td>\n",
       "      <td>0.184255</td>\n",
       "      <td>0.275632</td>\n",
       "      <td>0.204322</td>\n",
       "      <td>0.135832</td>\n",
       "      <td>0.103195</td>\n",
       "      <td>0.100389</td>\n",
       "    </tr>\n",
       "    <tr>\n",
       "      <th>3118</th>\n",
       "      <td>STAT1</td>\n",
       "      <td>HLA-C</td>\n",
       "      <td>0.319793</td>\n",
       "      <td>0.405229</td>\n",
       "      <td>0.340785</td>\n",
       "      <td>0.283306</td>\n",
       "      <td>0.145822</td>\n",
       "      <td>0.176469</td>\n",
       "    </tr>\n",
       "    <tr>\n",
       "      <th>3119</th>\n",
       "      <td>STAT1</td>\n",
       "      <td>HLA-B</td>\n",
       "      <td>0.201227</td>\n",
       "      <td>0.302763</td>\n",
       "      <td>0.290189</td>\n",
       "      <td>0.211899</td>\n",
       "      <td>0.122095</td>\n",
       "      <td>0.082566</td>\n",
       "    </tr>\n",
       "    <tr>\n",
       "      <th>6662</th>\n",
       "      <td>STAT1</td>\n",
       "      <td>B2M</td>\n",
       "      <td>0.184621</td>\n",
       "      <td>0.249761</td>\n",
       "      <td>0.203064</td>\n",
       "      <td>0.147616</td>\n",
       "      <td>0.055379</td>\n",
       "      <td>0.055576</td>\n",
       "    </tr>\n",
       "  </tbody>\n",
       "</table>\n",
       "</div>"
      ],
      "text/plain": [
       "     gene_1 gene_2    time_0    time_3    time_6    time_9   time_24   time_48\n",
       "3097  STAT1  HLA-A  0.184255  0.275632  0.204322  0.135832  0.103195  0.100389\n",
       "3118  STAT1  HLA-C  0.319793  0.405229  0.340785  0.283306  0.145822  0.176469\n",
       "3119  STAT1  HLA-B  0.201227  0.302763  0.290189  0.211899  0.122095  0.082566\n",
       "6662  STAT1    B2M  0.184621  0.249761  0.203064  0.147616  0.055379  0.055576"
      ]
     },
     "execution_count": 139,
     "metadata": {},
     "output_type": "execute_result"
    }
   ],
   "source": [
    "moment_df.query('gene_2.isin([\"HLA-A\", \"HLA-B\", \"HLA-C\", \"B2M\"])', engine='python')"
   ]
  },
  {
   "cell_type": "code",
   "execution_count": 117,
   "metadata": {},
   "outputs": [
    {
     "data": {
      "text/html": [
       "<div>\n",
       "<style scoped>\n",
       "    .dataframe tbody tr th:only-of-type {\n",
       "        vertical-align: middle;\n",
       "    }\n",
       "\n",
       "    .dataframe tbody tr th {\n",
       "        vertical-align: top;\n",
       "    }\n",
       "\n",
       "    .dataframe thead th {\n",
       "        text-align: right;\n",
       "    }\n",
       "</style>\n",
       "<table border=\"1\" class=\"dataframe\">\n",
       "  <thead>\n",
       "    <tr style=\"text-align: right;\">\n",
       "      <th></th>\n",
       "      <th>gene_1</th>\n",
       "      <th>gene_2</th>\n",
       "      <th>corr_coef_3</th>\n",
       "      <th>corr_coef_6</th>\n",
       "      <th>corr_coef_9</th>\n",
       "      <th>corr_coef_24</th>\n",
       "      <th>corr_coef_48</th>\n",
       "    </tr>\n",
       "  </thead>\n",
       "  <tbody>\n",
       "    <tr>\n",
       "      <th>325</th>\n",
       "      <td>STAT1</td>\n",
       "      <td>HLA-A</td>\n",
       "      <td>0.404269</td>\n",
       "      <td>0.387095</td>\n",
       "      <td>NaN</td>\n",
       "      <td>NaN</td>\n",
       "      <td>NaN</td>\n",
       "    </tr>\n",
       "    <tr>\n",
       "      <th>327</th>\n",
       "      <td>STAT1</td>\n",
       "      <td>HLA-C</td>\n",
       "      <td>0.273931</td>\n",
       "      <td>0.351479</td>\n",
       "      <td>0.211282</td>\n",
       "      <td>0.15942</td>\n",
       "      <td>NaN</td>\n",
       "    </tr>\n",
       "    <tr>\n",
       "      <th>328</th>\n",
       "      <td>STAT1</td>\n",
       "      <td>HLA-B</td>\n",
       "      <td>0.381630</td>\n",
       "      <td>0.406874</td>\n",
       "      <td>NaN</td>\n",
       "      <td>NaN</td>\n",
       "      <td>NaN</td>\n",
       "    </tr>\n",
       "    <tr>\n",
       "      <th>649</th>\n",
       "      <td>STAT1</td>\n",
       "      <td>B2M</td>\n",
       "      <td>0.291344</td>\n",
       "      <td>0.413924</td>\n",
       "      <td>NaN</td>\n",
       "      <td>NaN</td>\n",
       "      <td>NaN</td>\n",
       "    </tr>\n",
       "  </tbody>\n",
       "</table>\n",
       "</div>"
      ],
      "text/plain": [
       "    gene_1 gene_2  corr_coef_3  corr_coef_6  corr_coef_9  corr_coef_24  \\\n",
       "325  STAT1  HLA-A     0.404269     0.387095          NaN           NaN   \n",
       "327  STAT1  HLA-C     0.273931     0.351479     0.211282       0.15942   \n",
       "328  STAT1  HLA-B     0.381630     0.406874          NaN           NaN   \n",
       "649  STAT1    B2M     0.291344     0.413924          NaN           NaN   \n",
       "\n",
       "     corr_coef_48  \n",
       "325           NaN  \n",
       "327           NaN  \n",
       "328           NaN  \n",
       "649           NaN  "
      ]
     },
     "execution_count": 117,
     "metadata": {},
     "output_type": "execute_result"
    }
   ],
   "source": [
    "coef_df.query('gene_2.isin([\"HLA-A\", \"HLA-B\", \"HLA-C\", \"B2M\"])', engine='python')"
   ]
  },
  {
   "cell_type": "code",
   "execution_count": 140,
   "metadata": {},
   "outputs": [
    {
     "data": {
      "text/html": [
       "<div>\n",
       "<style scoped>\n",
       "    .dataframe tbody tr th:only-of-type {\n",
       "        vertical-align: middle;\n",
       "    }\n",
       "\n",
       "    .dataframe tbody tr th {\n",
       "        vertical-align: top;\n",
       "    }\n",
       "\n",
       "    .dataframe thead th {\n",
       "        text-align: right;\n",
       "    }\n",
       "</style>\n",
       "<table border=\"1\" class=\"dataframe\">\n",
       "  <thead>\n",
       "    <tr style=\"text-align: right;\">\n",
       "      <th></th>\n",
       "      <th>gene_1</th>\n",
       "      <th>gene_2</th>\n",
       "      <th>corr_pval_3</th>\n",
       "      <th>corr_pval_6</th>\n",
       "      <th>corr_pval_9</th>\n",
       "      <th>corr_pval_24</th>\n",
       "      <th>corr_pval_48</th>\n",
       "    </tr>\n",
       "  </thead>\n",
       "  <tbody>\n",
       "    <tr>\n",
       "      <th>216</th>\n",
       "      <td>STAT1</td>\n",
       "      <td>HLA-C</td>\n",
       "      <td>0.072993</td>\n",
       "      <td>NaN</td>\n",
       "      <td>NaN</td>\n",
       "      <td>NaN</td>\n",
       "      <td>NaN</td>\n",
       "    </tr>\n",
       "  </tbody>\n",
       "</table>\n",
       "</div>"
      ],
      "text/plain": [
       "    gene_1 gene_2  corr_pval_3  corr_pval_6  corr_pval_9  corr_pval_24  \\\n",
       "216  STAT1  HLA-C     0.072993          NaN          NaN           NaN   \n",
       "\n",
       "     corr_pval_48  \n",
       "216           NaN  "
      ]
     },
     "execution_count": 140,
     "metadata": {},
     "output_type": "execute_result"
    }
   ],
   "source": [
    "pv_df.query('gene_2.isin([\"HLA-A\", \"HLA-B\", \"HLA-C\", \"B2M\"])', engine='python')"
   ]
  },
  {
   "cell_type": "code",
   "execution_count": 69,
   "metadata": {},
   "outputs": [],
   "source": [
    "vals = moment_df.query('gene_2.isin([\"HLA-A\", \"HLA-B\", \"HLA-C\", \"B2M\"])', engine='python').values[:, 2:]\n",
    "# vals = moment_df.query('gene_2.isin(@isg_genes)', engine='python').values[:, 2:]"
   ]
  },
  {
   "cell_type": "code",
   "execution_count": 70,
   "metadata": {},
   "outputs": [
    {
     "data": {
      "text/plain": [
       "[<matplotlib.lines.Line2D at 0x7fa7c46c55d0>,\n",
       " <matplotlib.lines.Line2D at 0x7fa7c536f510>,\n",
       " <matplotlib.lines.Line2D at 0x7fa7c536f6d0>,\n",
       " <matplotlib.lines.Line2D at 0x7fa7c536f890>]"
      ]
     },
     "execution_count": 70,
     "metadata": {},
     "output_type": "execute_result"
    },
    {
     "data": {
      "image/png": "[encoded data removed]",
      "text/plain": [
       "<Figure size 432x288 with 1 Axes>"
      ]
     },
     "metadata": {
      "needs_background": "light"
     },
     "output_type": "display_data"
    }
   ],
   "source": [
    "plt.plot(vals.T)"
   ]
  },
  {
   "cell_type": "markdown",
   "metadata": {},
   "source": [
    "### Check some expresssion level over time"
   ]
  },
  {
   "cell_type": "code",
   "execution_count": 11,
   "metadata": {},
   "outputs": [],
   "source": [
    "stim = 'beta'\n",
    "ct = ['ciliated',]"
   ]
  },
  {
   "cell_type": "code",
   "execution_count": 12,
   "metadata": {},
   "outputs": [
    {
     "name": "stderr",
     "output_type": "stream",
     "text": [
      "/data/home/Github/scrna-parameter-estimation/dist/memento-0.0.4-py3.7.egg/memento/estimator.py:100: RuntimeWarning: invalid value encountered in log\n"
     ]
    }
   ],
   "source": [
    "subset = adata[adata.obs['cell_type'].isin(ct) & adata.obs.stim.isin(['control', stim])].copy().copy()\n",
    "memento.create_groups(subset, label_columns=['time', 'donor'])\n",
    "memento.compute_1d_moments(subset, min_perc_group=.9)\n",
    "mean_df = memento.get_1d_moments(subset, groupby='time')[0][['gene'] + ['time_' + str(i) for i in [0, 3, 6, 9, 24, 48]]]\n",
    "var_df = memento.get_1d_moments(subset, groupby='time')[1][['gene'] + ['time_' + str(i) for i in [0, 3, 6, 9, 24, 48]]]"
   ]
  },
  {
   "cell_type": "code",
   "execution_count": 13,
   "metadata": {},
   "outputs": [
    {
     "data": {
      "text/plain": [
       "[<matplotlib.lines.Line2D at 0x7fb881b41390>]"
      ]
     },
     "execution_count": 13,
     "metadata": {},
     "output_type": "execute_result"
    },
    {
     "data": {
      "image/png": "[encoded data removed]",
      "text/plain": [
       "<Figure size 432x288 with 1 Axes>"
      ]
     },
     "metadata": {
      "needs_background": "light"
     },
     "output_type": "display_data"
    }
   ],
   "source": [
    "plt.plot(mean_df.query('gene.isin([\"STAT1\"])', engine='python').values[0, 1:])"
   ]
  },
  {
   "cell_type": "code",
   "execution_count": 14,
   "metadata": {},
   "outputs": [
    {
     "data": {
      "text/plain": [
       "[<matplotlib.lines.Line2D at 0x7fb8810d28d0>]"
      ]
     },
     "execution_count": 14,
     "metadata": {},
     "output_type": "execute_result"
    },
    {
     "data": {
      "image/png": "[encoded data removed]",
      "text/plain": [
       "<Figure size 432x288 with 1 Axes>"
      ]
     },
     "metadata": {
      "needs_background": "light"
     },
     "output_type": "display_data"
    }
   ],
   "source": [
    "plt.plot(var_df.query('gene.isin([\"STAT1\"])', engine='python').values[0, 1:])"
   ]
  },
  {
   "cell_type": "code",
   "execution_count": null,
   "metadata": {},
   "outputs": [],
   "source": []
  },
  {
   "cell_type": "code",
   "execution_count": null,
   "metadata": {},
   "outputs": [],
   "source": []
  },
  {
   "cell_type": "code",
   "execution_count": 15,
   "metadata": {},
   "outputs": [],
   "source": [
    "isg_genes = ['ISG15', 'MX1', 'MX2', 'ISG15', 'OAS1', 'OAS2', 'OAS3', 'OASL',]"
   ]
  },
  {
   "cell_type": "code",
   "execution_count": 16,
   "metadata": {},
   "outputs": [],
   "source": [
    "isg_mat = mean_df.query('gene.isin(@isg_genes)', engine='python').values[:, 1:]\n",
    "\n",
    "c1_mat = mean_df.query('gene.isin([\"HLA-A\", \"HLA-B\", \"HLA-C\", \"B2M\"])', engine='python').values[:, 1:]\n",
    "# c1_mat = c1_mat/c1_mat[:, 0].reshape(-1,1)"
   ]
  },
  {
   "cell_type": "code",
   "execution_count": 17,
   "metadata": {},
   "outputs": [
    {
     "data": {
      "text/plain": [
       "array([['STAT1', 'CREB3', 'KLF6'],\n",
       "       [0.378761887550354, -0.5750117301940918, 1.1166375875473022],\n",
       "       [1.607923150062561, -0.56675124168396, 1.3483425378799438],\n",
       "       [1.8231121301651, -0.6197191476821899, 1.5926910638809204],\n",
       "       [1.9202326536178589, -0.5898769497871399, 1.3491123914718628],\n",
       "       [1.8513927459716797, -0.6063563823699951, 1.369952917098999],\n",
       "       [1.5582482814788818, -0.5866938829421997, 1.5489485263824463]],\n",
       "      dtype=object)"
      ]
     },
     "execution_count": 17,
     "metadata": {},
     "output_type": "execute_result"
    }
   ],
   "source": [
    "mean_df.query('gene.isin([\"CREB3\", \"STAT1\", \"KLF6\", \"JUN\"])', engine='python').values[1:].T"
   ]
  },
  {
   "cell_type": "code",
   "execution_count": 18,
   "metadata": {},
   "outputs": [
    {
     "data": {
      "text/plain": [
       "417"
      ]
     },
     "execution_count": 18,
     "metadata": {},
     "output_type": "execute_result"
    }
   ],
   "source": [
    "len(list(set(tfs) & set(subset.var.index)))"
   ]
  },
  {
   "cell_type": "raw",
   "metadata": {},
   "source": [
    "for tf in list(set(tfs) & set(subset.var.index)):\n",
    "    plt.figure()\n",
    "    plt.plot(mean_df.query('gene.isin([\"{}\"])'.format(tf), engine='python').values[:, 1:].T);\n",
    "    plt.savefig('./temp_fig/{}.png'.format(tf)); plt.close()"
   ]
  },
  {
   "cell_type": "code",
   "execution_count": 19,
   "metadata": {},
   "outputs": [
    {
     "data": {
      "text/plain": [
       "[<matplotlib.lines.Line2D at 0x7fb8810c27d0>,\n",
       " <matplotlib.lines.Line2D at 0x7fb8810c2a50>,\n",
       " <matplotlib.lines.Line2D at 0x7fb8810c2c10>,\n",
       " <matplotlib.lines.Line2D at 0x7fb8810c2dd0>]"
      ]
     },
     "execution_count": 19,
     "metadata": {},
     "output_type": "execute_result"
    },
    {
     "data": {
      "image/png": "[encoded data removed]",
      "text/plain": [
       "<Figure size 432x288 with 1 Axes>"
      ]
     },
     "metadata": {
      "needs_background": "light"
     },
     "output_type": "display_data"
    }
   ],
   "source": [
    "plt.plot(mean_df.query('gene.isin([\"CREB3\", \"STAT1\", \"KLF6\", \"JUN\"])', engine='python').values[:, 1:].T)"
   ]
  },
  {
   "cell_type": "code",
   "execution_count": 20,
   "metadata": {},
   "outputs": [
    {
     "data": {
      "text/html": [
       "<div>\n",
       "<style scoped>\n",
       "    .dataframe tbody tr th:only-of-type {\n",
       "        vertical-align: middle;\n",
       "    }\n",
       "\n",
       "    .dataframe tbody tr th {\n",
       "        vertical-align: top;\n",
       "    }\n",
       "\n",
       "    .dataframe thead th {\n",
       "        text-align: right;\n",
       "    }\n",
       "</style>\n",
       "<table border=\"1\" class=\"dataframe\">\n",
       "  <thead>\n",
       "    <tr style=\"text-align: right;\">\n",
       "      <th></th>\n",
       "      <th>gene</th>\n",
       "      <th>time_0</th>\n",
       "      <th>time_3</th>\n",
       "      <th>time_6</th>\n",
       "      <th>time_9</th>\n",
       "      <th>time_24</th>\n",
       "      <th>time_48</th>\n",
       "    </tr>\n",
       "  </thead>\n",
       "  <tbody>\n",
       "    <tr>\n",
       "      <th>3221</th>\n",
       "      <td>HLA-A</td>\n",
       "      <td>1.656812</td>\n",
       "      <td>2.370405</td>\n",
       "      <td>2.487690</td>\n",
       "      <td>2.090583</td>\n",
       "      <td>2.035615</td>\n",
       "      <td>1.793220</td>\n",
       "    </tr>\n",
       "    <tr>\n",
       "      <th>3246</th>\n",
       "      <td>HLA-C</td>\n",
       "      <td>1.829254</td>\n",
       "      <td>2.479059</td>\n",
       "      <td>2.770877</td>\n",
       "      <td>2.521157</td>\n",
       "      <td>2.434578</td>\n",
       "      <td>2.142253</td>\n",
       "    </tr>\n",
       "    <tr>\n",
       "      <th>3247</th>\n",
       "      <td>HLA-B</td>\n",
       "      <td>1.967847</td>\n",
       "      <td>2.673597</td>\n",
       "      <td>2.807899</td>\n",
       "      <td>2.552474</td>\n",
       "      <td>2.472788</td>\n",
       "      <td>2.166302</td>\n",
       "    </tr>\n",
       "    <tr>\n",
       "      <th>6974</th>\n",
       "      <td>B2M</td>\n",
       "      <td>4.189476</td>\n",
       "      <td>4.438093</td>\n",
       "      <td>4.546697</td>\n",
       "      <td>4.348129</td>\n",
       "      <td>4.342992</td>\n",
       "      <td>4.125379</td>\n",
       "    </tr>\n",
       "  </tbody>\n",
       "</table>\n",
       "</div>"
      ],
      "text/plain": [
       "       gene    time_0    time_3    time_6    time_9   time_24   time_48\n",
       "3221  HLA-A  1.656812  2.370405  2.487690  2.090583  2.035615  1.793220\n",
       "3246  HLA-C  1.829254  2.479059  2.770877  2.521157  2.434578  2.142253\n",
       "3247  HLA-B  1.967847  2.673597  2.807899  2.552474  2.472788  2.166302\n",
       "6974    B2M  4.189476  4.438093  4.546697  4.348129  4.342992  4.125379"
      ]
     },
     "execution_count": 20,
     "metadata": {},
     "output_type": "execute_result"
    }
   ],
   "source": [
    "mean_df.query('gene.isin([\"HLA-A\", \"HLA-B\", \"HLA-C\", \"B2M\"])', engine='python')"
   ]
  },
  {
   "cell_type": "code",
   "execution_count": 24,
   "metadata": {},
   "outputs": [
    {
     "data": {
      "image/png": "[encoded data removed]",
      "text/plain": [
       "<Figure size 360x144 with 2 Axes>"
      ]
     },
     "metadata": {
      "needs_background": "light"
     },
     "output_type": "display_data"
    }
   ],
   "source": [
    "d = mean_df.query('gene.isin([\"REL\", \"NFKB2\"])', engine='python')\n",
    "plt.figure(figsize=(5,2))\n",
    "plt.subplots_adjust(wspace=0.4)\n",
    "locs = [1, 2]\n",
    "cs = [0, 2]\n",
    "num=0\n",
    "for idx, row in d.iterrows():\n",
    "    plt.subplot(1,2,locs[num])\n",
    "    plt.plot(row.values[1:], '-o')\n",
    "    plt.title(row['gene'])\n",
    "    plt.xticks([0, 1, 2, 3, 4, 5], ['0', '3', '6', '9', '24', '48'])\n",
    "    if num == 0:\n",
    "        plt.ylabel('Mean expr')\n",
    "    plt.xlabel('time (hr)')\n",
    "    num +=1\n",
    "\n",
    "plt.savefig(fig_path + 'mhc_aux_mean.pdf', bbox_inches='tight')\n"
   ]
  },
  {
   "cell_type": "code",
   "execution_count": 113,
   "metadata": {},
   "outputs": [
    {
     "data": {
      "image/png": "[encoded data removed]",
      "text/plain": [
       "<Figure size 252x144 with 4 Axes>"
      ]
     },
     "metadata": {
      "needs_background": "light"
     },
     "output_type": "display_data"
    }
   ],
   "source": [
    "d = mean_df.query('gene.isin([\"HLA-A\", \"HLA-B\", \"HLA-C\", \"B2M\"])', engine='python')\n",
    "plt.figure(figsize=(3.5,2))\n",
    "plt.subplots_adjust(wspace=0.4, hspace=0.9)\n",
    "locs = [1, 3, 2, 4]\n",
    "cs = [0, 2, 1, 3]\n",
    "num=0\n",
    "for idx, row in d.iterrows():\n",
    "    plt.subplot(2,2,locs[num])\n",
    "    plt.plot(row.values[1:], '-o', color='C'+str(cs[num]))\n",
    "    plt.title(row['gene'])\n",
    "    plt.xticks([0, 1, 2, 3, 4, 5], ['0', '3', '6', '9', '24', '48'])\n",
    "    num +=1\n",
    "plt.savefig(fig_path + 'mhc_mean_expr.pdf', bbox_inches='tight')\n"
   ]
  },
  {
   "cell_type": "code",
   "execution_count": 173,
   "metadata": {},
   "outputs": [
    {
     "data": {
      "text/plain": [
       "[<matplotlib.lines.Line2D at 0x7fa7c24264d0>,\n",
       " <matplotlib.lines.Line2D at 0x7fa7c3165fd0>,\n",
       " <matplotlib.lines.Line2D at 0x7fa7c3166210>]"
      ]
     },
     "execution_count": 173,
     "metadata": {},
     "output_type": "execute_result"
    },
    {
     "data": {
      "image/png": "[encoded data removed]",
      "text/plain": [
       "<Figure size 432x288 with 1 Axes>"
      ]
     },
     "metadata": {
      "needs_background": "light"
     },
     "output_type": "display_data"
    }
   ],
   "source": [
    "plt.plot(mean_df.query('gene.isin([\"HLA-A\", \"HLA-B\", \"HLA-C\", \"B2M\"])', engine='python').values[:, 1:].T)"
   ]
  },
  {
   "cell_type": "code",
   "execution_count": 45,
   "metadata": {},
   "outputs": [],
   "source": [
    "stim = 'beta'\n",
    "ct = ['bc', 'basal', 'ciliated']"
   ]
  },
  {
   "cell_type": "code",
   "execution_count": 46,
   "metadata": {},
   "outputs": [],
   "source": [
    "beta_stim = adata[adata.obs['cell_type'].isin(ct) & adata.obs.stim.isin(['control', stim])].copy().copy()"
   ]
  },
  {
   "cell_type": "code",
   "execution_count": 47,
   "metadata": {},
   "outputs": [
    {
     "data": {
      "text/plain": [
       "True"
      ]
     },
     "execution_count": 47,
     "metadata": {},
     "output_type": "execute_result"
    }
   ],
   "source": [
    "'LAIR1' in adata.var.index"
   ]
  },
  {
   "cell_type": "code",
   "execution_count": 48,
   "metadata": {},
   "outputs": [
    {
     "data": {
      "text/plain": [
       "([array([2333.,    0.,    0.,    0.,    0.,    0.,    0.,    0.,    0.,\n",
       "            0.,    0.,    0.,    0.,    0.,    8.]),\n",
       "  array([3245.,    0.,    0.,    0.,    0.,    0.,    0.,    0.,    0.,\n",
       "            0.,    0.,    0.,    0.,    0.,    7.])],\n",
       " array([0.        , 0.06666667, 0.13333334, 0.2       , 0.26666668,\n",
       "        0.33333334, 0.4       , 0.46666667, 0.53333336, 0.6       ,\n",
       "        0.6666667 , 0.73333335, 0.8       , 0.8666667 , 0.93333334,\n",
       "        1.        ], dtype=float32),\n",
       " <a list of 2 Lists of Patches objects>)"
      ]
     },
     "execution_count": 48,
     "metadata": {},
     "output_type": "execute_result"
    },
    {
     "data": {
      "image/png": "[encoded data removed]",
      "text/plain": [
       "<Figure size 432x288 with 1 Axes>"
      ]
     },
     "metadata": {
      "needs_background": "light"
     },
     "output_type": "display_data"
    }
   ],
   "source": [
    "plt.hist([\n",
    "    beta_stim[beta_stim.obs.time == '0', :][:, 'LAIR1'].X.todense().A1, \n",
    "    beta_stim[beta_stim.obs.time == '3', :][:, 'LAIR1'].X.todense().A1],\n",
    "    bins=15)\n",
    "# plt.hist(adata[adata.obs.time == '3', :][:, 'NLRC5'].X.todense().A1, bins=15)"
   ]
  },
  {
   "cell_type": "code",
   "execution_count": 62,
   "metadata": {},
   "outputs": [
    {
     "data": {
      "text/html": [
       "<div>\n",
       "<style scoped>\n",
       "    .dataframe tbody tr th:only-of-type {\n",
       "        vertical-align: middle;\n",
       "    }\n",
       "\n",
       "    .dataframe tbody tr th {\n",
       "        vertical-align: top;\n",
       "    }\n",
       "\n",
       "    .dataframe thead th {\n",
       "        text-align: right;\n",
       "    }\n",
       "</style>\n",
       "<table border=\"1\" class=\"dataframe\">\n",
       "  <thead>\n",
       "    <tr style=\"text-align: right;\">\n",
       "      <th></th>\n",
       "      <th>gene</th>\n",
       "      <th>time_0</th>\n",
       "      <th>time_3</th>\n",
       "      <th>time_6</th>\n",
       "      <th>time_9</th>\n",
       "      <th>time_24</th>\n",
       "      <th>time_48</th>\n",
       "    </tr>\n",
       "  </thead>\n",
       "  <tbody>\n",
       "    <tr>\n",
       "      <th>7798</th>\n",
       "      <td>NLRC5</td>\n",
       "      <td>-2.844202</td>\n",
       "      <td>-1.290465</td>\n",
       "      <td>-0.997472</td>\n",
       "      <td>-0.961713</td>\n",
       "      <td>-0.956975</td>\n",
       "      <td>-0.941885</td>\n",
       "    </tr>\n",
       "  </tbody>\n",
       "</table>\n",
       "</div>"
      ],
      "text/plain": [
       "       gene    time_0    time_3    time_6    time_9   time_24   time_48\n",
       "7798  NLRC5 -2.844202 -1.290465 -0.997472 -0.961713 -0.956975 -0.941885"
      ]
     },
     "execution_count": 62,
     "metadata": {},
     "output_type": "execute_result"
    }
   ],
   "source": [
    "df.query('gene.isin([\"NLRC5\"])', engine='python')"
   ]
  },
  {
   "cell_type": "code",
   "execution_count": 63,
   "metadata": {},
   "outputs": [
    {
     "data": {
      "text/html": [
       "<div>\n",
       "<style scoped>\n",
       "    .dataframe tbody tr th:only-of-type {\n",
       "        vertical-align: middle;\n",
       "    }\n",
       "\n",
       "    .dataframe tbody tr th {\n",
       "        vertical-align: top;\n",
       "    }\n",
       "\n",
       "    .dataframe thead th {\n",
       "        text-align: right;\n",
       "    }\n",
       "</style>\n",
       "<table border=\"1\" class=\"dataframe\">\n",
       "  <thead>\n",
       "    <tr style=\"text-align: right;\">\n",
       "      <th></th>\n",
       "      <th>gene</th>\n",
       "      <th>time_0</th>\n",
       "      <th>time_3</th>\n",
       "      <th>time_6</th>\n",
       "      <th>time_9</th>\n",
       "      <th>time_24</th>\n",
       "      <th>time_48</th>\n",
       "    </tr>\n",
       "  </thead>\n",
       "  <tbody>\n",
       "    <tr>\n",
       "      <th>3342</th>\n",
       "      <td>HLA-A</td>\n",
       "      <td>1.656812</td>\n",
       "      <td>2.370405</td>\n",
       "      <td>2.487690</td>\n",
       "      <td>2.090583</td>\n",
       "      <td>2.035615</td>\n",
       "      <td>1.793220</td>\n",
       "    </tr>\n",
       "    <tr>\n",
       "      <th>3367</th>\n",
       "      <td>HLA-C</td>\n",
       "      <td>1.829254</td>\n",
       "      <td>2.479059</td>\n",
       "      <td>2.770877</td>\n",
       "      <td>2.521157</td>\n",
       "      <td>2.434578</td>\n",
       "      <td>2.142253</td>\n",
       "    </tr>\n",
       "    <tr>\n",
       "      <th>3368</th>\n",
       "      <td>HLA-B</td>\n",
       "      <td>1.967847</td>\n",
       "      <td>2.673597</td>\n",
       "      <td>2.807899</td>\n",
       "      <td>2.552474</td>\n",
       "      <td>2.472788</td>\n",
       "      <td>2.166302</td>\n",
       "    </tr>\n",
       "    <tr>\n",
       "      <th>7264</th>\n",
       "      <td>B2M</td>\n",
       "      <td>4.189476</td>\n",
       "      <td>4.438093</td>\n",
       "      <td>4.546697</td>\n",
       "      <td>4.348129</td>\n",
       "      <td>4.342992</td>\n",
       "      <td>4.125379</td>\n",
       "    </tr>\n",
       "  </tbody>\n",
       "</table>\n",
       "</div>"
      ],
      "text/plain": [
       "       gene    time_0    time_3    time_6    time_9   time_24   time_48\n",
       "3342  HLA-A  1.656812  2.370405  2.487690  2.090583  2.035615  1.793220\n",
       "3367  HLA-C  1.829254  2.479059  2.770877  2.521157  2.434578  2.142253\n",
       "3368  HLA-B  1.967847  2.673597  2.807899  2.552474  2.472788  2.166302\n",
       "7264    B2M  4.189476  4.438093  4.546697  4.348129  4.342992  4.125379"
      ]
     },
     "execution_count": 63,
     "metadata": {},
     "output_type": "execute_result"
    }
   ],
   "source": [
    "df.query('gene.isin([\"HLA-A\", \"HLA-B\", \"HLA-C\", \"B2M\"])', engine='python')"
   ]
  },
  {
   "cell_type": "markdown",
   "metadata": {},
   "source": [
    "### Correlation of MHC I transcripts to canonical TFs"
   ]
  },
  {
   "cell_type": "code",
   "execution_count": null,
   "metadata": {},
   "outputs": [],
   "source": [
    "\n",
    "cts = [['ciliated']]\n",
    "tps = ['3', '6', '9', '24', '48']\n",
    "stims = ['alpha', 'beta', 'gamma', 'lambda']\n",
    "\n",
    "\n",
    "for ct in cts:\n",
    "    for tp in tps:\n",
    "        for stim in stims:\n",
    "            \n",
    "#             fname = '{}_{}_{}_{}.h5ad'.format('-'.join(ct), stim, tp, tf)\n",
    "#             if fname in done_files:\n",
    "#                 continue\n",
    "                            \n",
    "            print('starting', ct, tp, stim)\n",
    "\n",
    "            adata_stim = adata.copy()[\n",
    "                adata.obs.cell_type.isin(ct) & \\\n",
    "                adata.obs.stim.isin(['control', stim]) & \\\n",
    "                adata.obs.time.isin(['0',tp]), :].copy()\n",
    "            time_converter={0:0, int(tp):1}\n",
    "            adata_stim.obs['time_step'] = adata_stim.obs['time'].astype(int).apply(lambda x: time_converter[x])\n",
    "\n",
    "            memento.create_groups(adata_stim, label_columns=['time_step', 'donor'])\n",
    "            memento.compute_1d_moments(adata_stim, min_perc_group=.9)\n",
    "            \n",
    "            tf_list = list(set(tfs) & set(adata_stim.var.index))\n",
    "            \n",
    "            gene_list = adata_stim.var.index.tolist()\n",
    "            \n",
    "            memento.compute_2d_moments(adata_stim, list(itertools.product(tf_list, [\"HLA-A\", \"HLA-B\", \"HLA-C\", \"B2M\"])))\n",
    "\n",
    "            moment_df = memento.get_2d_moments(adata_stim, groupby='time_step')\n",
    "            moment_df.to_csv('/data_volume/ifn_hbec/tf_test/moments_{}_{}_{}_mhc1.csv'.format('-'.join(ct), stim, tp), index=False)\n",
    "\n",
    "\n",
    "            memento.ht_2d_moments( \n",
    "                adata_stim, \n",
    "                formula_like='1 + time_step',\n",
    "                cov_column='time_step', \n",
    "                num_boot=10000, \n",
    "                verbose=1,\n",
    "                num_cpus=13)\n",
    "\n",
    "            if 'mv_regressor' in adata_stim.uns['memento']:\n",
    "                del adata_stim.uns['memento']['mv_regressor']\n",
    "            adata_stim.write('/data_volume/ifn_hbec/tf_test/{}_{}_{}_mhc1.h5ad'.format('-'.join(ct), stim, tp))"
   ]
  },
  {
   "cell_type": "code",
   "execution_count": 75,
   "metadata": {},
   "outputs": [
    {
     "name": "stdout",
     "output_type": "stream",
     "text": [
      "3\n",
      "6\n",
      "9\n",
      "24\n",
      "48\n"
     ]
    }
   ],
   "source": [
    "stim = 'beta'\n",
    "ct = ['ciliated']\n",
    "for tp in ['3', '6', '9', '24', '48']:\n",
    "    \n",
    "    print(tp)\n",
    "\n",
    "    \n",
    "#     moments = memento.get_2d_moments(adata_result, groupby='time_step').rename(columns={'time_step_0':'time_0', 'time_step_1':'time_'+tp})\n",
    "    moments = pd.read_csv('/data_volume/ifn_hbec/tf_test/moments_{}_{}_{}_mhc1.csv'.format('-'.join(ct), stim, tp)).rename(columns={'time_step_0':'time_0', 'time_step_1':'time_'+tp})\n",
    "    res_df = memento.get_2d_ht_result(adata_result)\\\n",
    "        .rename(columns={\n",
    "            'corr_coef':'corr_coef' + '_' + tp,\n",
    "            'corr_pval':'corr_pval' + '_' + tp})\n",
    "    \n",
    "    if tp == '3':\n",
    "\n",
    "        pv_df = res_df[['gene_1', 'gene_2', 'corr_pval' + '_' + tp]].copy()\n",
    "        coef_df = res_df[['gene_1', 'gene_2', 'corr_coef' + '_' + tp]].copy()\n",
    "        moment_df = moments[['gene_1', 'gene_2', 'time_0', 'time_3']].copy()\n",
    "        \n",
    "    else:\n",
    "        \n",
    "        pv_df = pv_df.merge(res_df[['gene_1', 'gene_2', 'corr_pval' + '_' + tp]].copy(), on=['gene_1', 'gene_2'], how='outer')\n",
    "        coef_df = coef_df.merge(res_df[['gene_1', 'gene_2', 'corr_coef' + '_' + tp]].copy(), on=['gene_1', 'gene_2'], how='outer')\n",
    "        moment_df = moment_df.merge(moments[['gene_1', 'gene_2', 'time_{}'.format(tp)]].copy(), on=['gene_1', 'gene_2'], how='outer')\n",
    "    \n",
    "    \n",
    "    "
   ]
  },
  {
   "cell_type": "code",
   "execution_count": null,
   "metadata": {},
   "outputs": [],
   "source": []
  },
  {
   "cell_type": "markdown",
   "metadata": {},
   "source": [
    "### Hunt for some relevant TFs"
   ]
  },
  {
   "cell_type": "code",
   "execution_count": 25,
   "metadata": {},
   "outputs": [],
   "source": [
    "stim = 'beta'\n",
    "tp = '48'\n",
    "ct = ['ciliated']\n",
    "\n",
    "fname = '/data_volume/ifn_hbec/tf_test/{}_{}_{}_mhc1.h5ad'.format('-'.join(ct), stim, tp)\n",
    "adata_result = sc.read(fname)"
   ]
  },
  {
   "cell_type": "code",
   "execution_count": 26,
   "metadata": {},
   "outputs": [],
   "source": [
    "\n",
    "fname = '/data_volume/ifn_hbec/tf_test/{}_{}_{}_mhc1.h5ad'.format('-'.join(ct), stim, tp)\n",
    "adata_result = sc.read(fname)\n",
    "\n",
    "moments = pd.read_csv('/data_volume/ifn_hbec/tf_test/moments_{}_{}_{}_mhc1.csv'.format('-'.join(ct), stim, tp)).rename(columns={'time_step_0':'time_0', 'time_step_1':'time_'+tp})\n",
    "res_df = memento.get_2d_ht_result(adata_result)\n",
    "# rel_res_df = memento.get_2d_ht_result(adata_stim)"
   ]
  },
  {
   "cell_type": "code",
   "execution_count": 27,
   "metadata": {},
   "outputs": [],
   "source": [
    "wired_pairs = moments.query('time_0 > 0.4 | time_{} > 0.4'.format(tp))"
   ]
  },
  {
   "cell_type": "code",
   "execution_count": 28,
   "metadata": {},
   "outputs": [],
   "source": [
    "filtered_res_df = res_df.merge(wired_pairs, on=['gene_1', 'gene_2'])\n",
    "filtered_res_df['corr_fdr'] = memento.util._fdrcorrect(filtered_res_df['corr_pval'])"
   ]
  },
  {
   "cell_type": "code",
   "execution_count": 29,
   "metadata": {},
   "outputs": [],
   "source": [
    "pd.set_option('display.max_rows', 500)\n"
   ]
  },
  {
   "cell_type": "code",
   "execution_count": 30,
   "metadata": {},
   "outputs": [
    {
     "data": {
      "text/html": [
       "<div>\n",
       "<style scoped>\n",
       "    .dataframe tbody tr th:only-of-type {\n",
       "        vertical-align: middle;\n",
       "    }\n",
       "\n",
       "    .dataframe tbody tr th {\n",
       "        vertical-align: top;\n",
       "    }\n",
       "\n",
       "    .dataframe thead th {\n",
       "        text-align: right;\n",
       "    }\n",
       "</style>\n",
       "<table border=\"1\" class=\"dataframe\">\n",
       "  <thead>\n",
       "    <tr style=\"text-align: right;\">\n",
       "      <th></th>\n",
       "      <th>gene_1</th>\n",
       "      <th>gene_2</th>\n",
       "      <th>corr_coef</th>\n",
       "      <th>corr_se</th>\n",
       "      <th>corr_pval</th>\n",
       "      <th>time_0</th>\n",
       "      <th>time_48</th>\n",
       "      <th>corr_fdr</th>\n",
       "    </tr>\n",
       "  </thead>\n",
       "  <tbody>\n",
       "    <tr>\n",
       "      <th>32</th>\n",
       "      <td>BARX2</td>\n",
       "      <td>B2M</td>\n",
       "      <td>0.468011</td>\n",
       "      <td>0.191003</td>\n",
       "      <td>0.032297</td>\n",
       "      <td>0.196546</td>\n",
       "      <td>0.406067</td>\n",
       "      <td>0.094991</td>\n",
       "    </tr>\n",
       "  </tbody>\n",
       "</table>\n",
       "</div>"
      ],
      "text/plain": [
       "   gene_1 gene_2  corr_coef   corr_se  corr_pval    time_0   time_48  corr_fdr\n",
       "32  BARX2    B2M   0.468011  0.191003   0.032297  0.196546  0.406067  0.094991"
      ]
     },
     "execution_count": 30,
     "metadata": {},
     "output_type": "execute_result"
    }
   ],
   "source": [
    "filtered_res_df.query('corr_fdr < 0.1 & corr_coef > 0')"
   ]
  },
  {
   "cell_type": "code",
   "execution_count": 31,
   "metadata": {},
   "outputs": [
    {
     "data": {
      "text/html": [
       "<div>\n",
       "<style scoped>\n",
       "    .dataframe tbody tr th:only-of-type {\n",
       "        vertical-align: middle;\n",
       "    }\n",
       "\n",
       "    .dataframe tbody tr th {\n",
       "        vertical-align: top;\n",
       "    }\n",
       "\n",
       "    .dataframe thead th {\n",
       "        text-align: right;\n",
       "    }\n",
       "</style>\n",
       "<table border=\"1\" class=\"dataframe\">\n",
       "  <thead>\n",
       "    <tr style=\"text-align: right;\">\n",
       "      <th></th>\n",
       "      <th>gene_1</th>\n",
       "      <th>gene_2</th>\n",
       "      <th>corr_coef</th>\n",
       "      <th>corr_se</th>\n",
       "      <th>corr_pval</th>\n",
       "      <th>time_0</th>\n",
       "      <th>time_48</th>\n",
       "      <th>corr_fdr</th>\n",
       "    </tr>\n",
       "  </thead>\n",
       "  <tbody>\n",
       "  </tbody>\n",
       "</table>\n",
       "</div>"
      ],
      "text/plain": [
       "Empty DataFrame\n",
       "Columns: [gene_1, gene_2, corr_coef, corr_se, corr_pval, time_0, time_48, corr_fdr]\n",
       "Index: []"
      ]
     },
     "execution_count": 31,
     "metadata": {},
     "output_type": "execute_result"
    }
   ],
   "source": [
    "filtered_res_df.query('corr_fdr < 0.05 & corr_coef > 0')"
   ]
  },
  {
   "cell_type": "code",
   "execution_count": 32,
   "metadata": {},
   "outputs": [
    {
     "data": {
      "text/html": [
       "<div>\n",
       "<style scoped>\n",
       "    .dataframe tbody tr th:only-of-type {\n",
       "        vertical-align: middle;\n",
       "    }\n",
       "\n",
       "    .dataframe tbody tr th {\n",
       "        vertical-align: top;\n",
       "    }\n",
       "\n",
       "    .dataframe thead th {\n",
       "        text-align: right;\n",
       "    }\n",
       "</style>\n",
       "<table border=\"1\" class=\"dataframe\">\n",
       "  <thead>\n",
       "    <tr style=\"text-align: right;\">\n",
       "      <th></th>\n",
       "      <th>gene_1</th>\n",
       "      <th>gene_2</th>\n",
       "      <th>corr_coef</th>\n",
       "      <th>corr_se</th>\n",
       "      <th>corr_pval</th>\n",
       "    </tr>\n",
       "  </thead>\n",
       "  <tbody>\n",
       "    <tr>\n",
       "      <th>0</th>\n",
       "      <td>FOXA1</td>\n",
       "      <td>HLA-A</td>\n",
       "      <td>-0.056048</td>\n",
       "      <td>0.138552</td>\n",
       "      <td>0.672333</td>\n",
       "    </tr>\n",
       "    <tr>\n",
       "      <th>1</th>\n",
       "      <td>FOXA1</td>\n",
       "      <td>HLA-B</td>\n",
       "      <td>-0.017892</td>\n",
       "      <td>0.120553</td>\n",
       "      <td>0.886911</td>\n",
       "    </tr>\n",
       "    <tr>\n",
       "      <th>2</th>\n",
       "      <td>FOXA1</td>\n",
       "      <td>HLA-C</td>\n",
       "      <td>-0.039600</td>\n",
       "      <td>0.137438</td>\n",
       "      <td>0.766823</td>\n",
       "    </tr>\n",
       "    <tr>\n",
       "      <th>3</th>\n",
       "      <td>FOXA1</td>\n",
       "      <td>B2M</td>\n",
       "      <td>-0.067997</td>\n",
       "      <td>0.115958</td>\n",
       "      <td>0.542846</td>\n",
       "    </tr>\n",
       "    <tr>\n",
       "      <th>4</th>\n",
       "      <td>ELF3</td>\n",
       "      <td>HLA-A</td>\n",
       "      <td>-0.036777</td>\n",
       "      <td>0.079008</td>\n",
       "      <td>0.646335</td>\n",
       "    </tr>\n",
       "    <tr>\n",
       "      <th>...</th>\n",
       "      <td>...</td>\n",
       "      <td>...</td>\n",
       "      <td>...</td>\n",
       "      <td>...</td>\n",
       "      <td>...</td>\n",
       "    </tr>\n",
       "    <tr>\n",
       "      <th>1595</th>\n",
       "      <td>KLF2</td>\n",
       "      <td>B2M</td>\n",
       "      <td>0.047859</td>\n",
       "      <td>0.080182</td>\n",
       "      <td>0.540046</td>\n",
       "    </tr>\n",
       "    <tr>\n",
       "      <th>1596</th>\n",
       "      <td>ZBTB11</td>\n",
       "      <td>HLA-A</td>\n",
       "      <td>0.548664</td>\n",
       "      <td>0.214973</td>\n",
       "      <td>0.015998</td>\n",
       "    </tr>\n",
       "    <tr>\n",
       "      <th>1597</th>\n",
       "      <td>ZBTB11</td>\n",
       "      <td>HLA-B</td>\n",
       "      <td>0.549160</td>\n",
       "      <td>0.218291</td>\n",
       "      <td>0.024098</td>\n",
       "    </tr>\n",
       "    <tr>\n",
       "      <th>1598</th>\n",
       "      <td>ZBTB11</td>\n",
       "      <td>HLA-C</td>\n",
       "      <td>0.008946</td>\n",
       "      <td>0.237385</td>\n",
       "      <td>0.965903</td>\n",
       "    </tr>\n",
       "    <tr>\n",
       "      <th>1599</th>\n",
       "      <td>ZBTB11</td>\n",
       "      <td>B2M</td>\n",
       "      <td>0.184607</td>\n",
       "      <td>0.212982</td>\n",
       "      <td>0.360264</td>\n",
       "    </tr>\n",
       "  </tbody>\n",
       "</table>\n",
       "<p>1600 rows × 5 columns</p>\n",
       "</div>"
      ],
      "text/plain": [
       "      gene_1 gene_2  corr_coef   corr_se  corr_pval\n",
       "0      FOXA1  HLA-A  -0.056048  0.138552   0.672333\n",
       "1      FOXA1  HLA-B  -0.017892  0.120553   0.886911\n",
       "2      FOXA1  HLA-C  -0.039600  0.137438   0.766823\n",
       "3      FOXA1    B2M  -0.067997  0.115958   0.542846\n",
       "4       ELF3  HLA-A  -0.036777  0.079008   0.646335\n",
       "...      ...    ...        ...       ...        ...\n",
       "1595    KLF2    B2M   0.047859  0.080182   0.540046\n",
       "1596  ZBTB11  HLA-A   0.548664  0.214973   0.015998\n",
       "1597  ZBTB11  HLA-B   0.549160  0.218291   0.024098\n",
       "1598  ZBTB11  HLA-C   0.008946  0.237385   0.965903\n",
       "1599  ZBTB11    B2M   0.184607  0.212982   0.360264\n",
       "\n",
       "[1600 rows x 5 columns]"
      ]
     },
     "execution_count": 32,
     "metadata": {},
     "output_type": "execute_result"
    }
   ],
   "source": [
    "res_df"
   ]
  },
  {
   "cell_type": "code",
   "execution_count": 33,
   "metadata": {},
   "outputs": [
    {
     "data": {
      "text/html": [
       "<div>\n",
       "<style scoped>\n",
       "    .dataframe tbody tr th:only-of-type {\n",
       "        vertical-align: middle;\n",
       "    }\n",
       "\n",
       "    .dataframe tbody tr th {\n",
       "        vertical-align: top;\n",
       "    }\n",
       "\n",
       "    .dataframe thead th {\n",
       "        text-align: right;\n",
       "    }\n",
       "</style>\n",
       "<table border=\"1\" class=\"dataframe\">\n",
       "  <thead>\n",
       "    <tr style=\"text-align: right;\">\n",
       "      <th></th>\n",
       "      <th>gene_1</th>\n",
       "      <th>gene_2</th>\n",
       "      <th>time_0</th>\n",
       "      <th>time_48</th>\n",
       "    </tr>\n",
       "  </thead>\n",
       "  <tbody>\n",
       "    <tr>\n",
       "      <th>0</th>\n",
       "      <td>FOXA1</td>\n",
       "      <td>HLA-A</td>\n",
       "      <td>-0.010951</td>\n",
       "      <td>-0.036042</td>\n",
       "    </tr>\n",
       "    <tr>\n",
       "      <th>1</th>\n",
       "      <td>FOXA1</td>\n",
       "      <td>HLA-B</td>\n",
       "      <td>-0.105736</td>\n",
       "      <td>-0.113746</td>\n",
       "    </tr>\n",
       "    <tr>\n",
       "      <th>2</th>\n",
       "      <td>FOXA1</td>\n",
       "      <td>HLA-C</td>\n",
       "      <td>-0.110515</td>\n",
       "      <td>-0.128243</td>\n",
       "    </tr>\n",
       "    <tr>\n",
       "      <th>4</th>\n",
       "      <td>ELF3</td>\n",
       "      <td>HLA-A</td>\n",
       "      <td>0.221549</td>\n",
       "      <td>0.205085</td>\n",
       "    </tr>\n",
       "    <tr>\n",
       "      <th>5</th>\n",
       "      <td>ELF3</td>\n",
       "      <td>HLA-B</td>\n",
       "      <td>0.234490</td>\n",
       "      <td>0.230563</td>\n",
       "    </tr>\n",
       "    <tr>\n",
       "      <th>...</th>\n",
       "      <td>...</td>\n",
       "      <td>...</td>\n",
       "      <td>...</td>\n",
       "      <td>...</td>\n",
       "    </tr>\n",
       "    <tr>\n",
       "      <th>1593</th>\n",
       "      <td>KLF2</td>\n",
       "      <td>HLA-B</td>\n",
       "      <td>-0.076569</td>\n",
       "      <td>-0.043462</td>\n",
       "    </tr>\n",
       "    <tr>\n",
       "      <th>1594</th>\n",
       "      <td>KLF2</td>\n",
       "      <td>HLA-C</td>\n",
       "      <td>0.059468</td>\n",
       "      <td>0.079675</td>\n",
       "    </tr>\n",
       "    <tr>\n",
       "      <th>1596</th>\n",
       "      <td>ZBTB11</td>\n",
       "      <td>HLA-A</td>\n",
       "      <td>-0.097915</td>\n",
       "      <td>0.147713</td>\n",
       "    </tr>\n",
       "    <tr>\n",
       "      <th>1597</th>\n",
       "      <td>ZBTB11</td>\n",
       "      <td>HLA-B</td>\n",
       "      <td>-0.075090</td>\n",
       "      <td>0.170759</td>\n",
       "    </tr>\n",
       "    <tr>\n",
       "      <th>1598</th>\n",
       "      <td>ZBTB11</td>\n",
       "      <td>HLA-C</td>\n",
       "      <td>0.007722</td>\n",
       "      <td>0.011727</td>\n",
       "    </tr>\n",
       "  </tbody>\n",
       "</table>\n",
       "<p>1200 rows × 4 columns</p>\n",
       "</div>"
      ],
      "text/plain": [
       "      gene_1 gene_2    time_0   time_48\n",
       "0      FOXA1  HLA-A -0.010951 -0.036042\n",
       "1      FOXA1  HLA-B -0.105736 -0.113746\n",
       "2      FOXA1  HLA-C -0.110515 -0.128243\n",
       "4       ELF3  HLA-A  0.221549  0.205085\n",
       "5       ELF3  HLA-B  0.234490  0.230563\n",
       "...      ...    ...       ...       ...\n",
       "1593    KLF2  HLA-B -0.076569 -0.043462\n",
       "1594    KLF2  HLA-C  0.059468  0.079675\n",
       "1596  ZBTB11  HLA-A -0.097915  0.147713\n",
       "1597  ZBTB11  HLA-B -0.075090  0.170759\n",
       "1598  ZBTB11  HLA-C  0.007722  0.011727\n",
       "\n",
       "[1200 rows x 4 columns]"
      ]
     },
     "execution_count": 33,
     "metadata": {},
     "output_type": "execute_result"
    }
   ],
   "source": [
    "moments.query('gene_2.str.startswith(\"HLA-\")', engine='python')"
   ]
  },
  {
   "cell_type": "markdown",
   "metadata": {},
   "source": [
    "### Check correlations to other TFs over time"
   ]
  },
  {
   "cell_type": "code",
   "execution_count": 34,
   "metadata": {},
   "outputs": [],
   "source": [
    "stim = 'beta'\n",
    "ct = ['ciliated']\n",
    "tf = 'STAT1'"
   ]
  },
  {
   "cell_type": "code",
   "execution_count": 35,
   "metadata": {},
   "outputs": [
    {
     "name": "stdout",
     "output_type": "stream",
     "text": [
      "3\n",
      "6\n",
      "9\n",
      "24\n",
      "48\n"
     ]
    }
   ],
   "source": [
    "\n",
    "for tp in ['3', '6', '9', '24', '48']:\n",
    "    \n",
    "    print(tp)\n",
    "\n",
    "    fname = '/data_volume/ifn_hbec/tf_test/{}_{}_{}_mhc1.h5ad'.format('-'.join(ct), stim, tp)\n",
    "    adata_result = sc.read(fname)\n",
    "    \n",
    "#     moments = memento.get_2d_moments(adata_result, groupby='time_step').rename(columns={'time_step_0':'time_0', 'time_step_1':'time_'+tp})\n",
    "    moments = pd.read_csv('/data_volume/ifn_hbec/tf_test/moments_{}_{}_{}_mhc1.csv'.format('-'.join(ct), stim, tp)).rename(columns={'time_step_0':'time_0', 'time_step_1':'time_'+tp})\n",
    "    res_df = memento.get_2d_ht_result(adata_result)\\\n",
    "        .rename(columns={\n",
    "            'corr_coef':'corr_coef' + '_' + tp,\n",
    "            'corr_pval':'corr_pval' + '_' + tp})\n",
    "    \n",
    "    if tp == '3':\n",
    "\n",
    "        pv_df = res_df[['gene_1', 'gene_2', 'corr_pval' + '_' + tp]].copy()\n",
    "        coef_df = res_df[['gene_1', 'gene_2', 'corr_coef' + '_' + tp]].copy()\n",
    "        moment_df = moments[['gene_1', 'gene_2', 'time_0', 'time_3']].copy()\n",
    "        \n",
    "    else:\n",
    "        \n",
    "        pv_df = pv_df.merge(res_df[['gene_1', 'gene_2', 'corr_pval' + '_' + tp]].copy(), on=['gene_1', 'gene_2'], how='outer')\n",
    "        coef_df = coef_df.merge(res_df[['gene_1', 'gene_2', 'corr_coef' + '_' + tp]].copy(), on=['gene_1', 'gene_2'], how='outer')\n",
    "        moment_df = moment_df.merge(moments[['gene_1', 'gene_2', 'time_{}'.format(tp)]].copy(), on=['gene_1', 'gene_2'], how='outer')\n",
    "    \n",
    "    \n",
    "    "
   ]
  },
  {
   "cell_type": "code",
   "execution_count": 40,
   "metadata": {},
   "outputs": [
    {
     "data": {
      "image/png": "[encoded data removed]",
      "text/plain": [
       "<Figure size 144x144 with 1 Axes>"
      ]
     },
     "metadata": {
      "needs_background": "light"
     },
     "output_type": "display_data"
    }
   ],
   "source": [
    "tf = 'NFKB2'\n",
    "plt.figure(figsize=(2,2))\n",
    "plt.plot(moment_df.query('gene_1 == \"{}\"'.format(tf)).values[:, 2:].T, '--o')\n",
    "plt.xticks([0, 1, 2, 3, 4, 5], ['0', '3', '6', '9', '24', '48'])\n",
    "plt.xlabel('Time (hr)'); plt.ylabel('Corr {}'.format(tf))\n",
    "plt.savefig(fig_path + 'mhc_corr_NFKB2.pdf', bbox_inches='tight')\n"
   ]
  },
  {
   "cell_type": "code",
   "execution_count": 41,
   "metadata": {},
   "outputs": [
    {
     "data": {
      "image/png": "[encoded data removed]",
      "text/plain": [
       "<Figure size 144x144 with 1 Axes>"
      ]
     },
     "metadata": {
      "needs_background": "light"
     },
     "output_type": "display_data"
    }
   ],
   "source": [
    "tf = 'REL'\n",
    "plt.figure(figsize=(2,2))\n",
    "plt.plot(moment_df.query('gene_1 == \"{}\"'.format(tf)).values[:, 2:].T, '--o')\n",
    "plt.xticks([0, 1, 2, 3, 4, 5], ['0', '3', '6', '9', '24', '48'])\n",
    "plt.xlabel('Time (hr)'); plt.ylabel('Corr {}'.format(tf))\n",
    "plt.savefig(fig_path + 'mhc_corr_REL.pdf', bbox_inches='tight')\n"
   ]
  },
  {
   "cell_type": "code",
   "execution_count": 38,
   "metadata": {},
   "outputs": [
    {
     "data": {
      "text/plain": [
       "Text(0, 0.5, 'Corr RFX5')"
      ]
     },
     "execution_count": 38,
     "metadata": {},
     "output_type": "execute_result"
    },
    {
     "data": {
      "image/png": "[encoded data removed]",
      "text/plain": [
       "<Figure size 144x144 with 1 Axes>"
      ]
     },
     "metadata": {
      "needs_background": "light"
     },
     "output_type": "display_data"
    }
   ],
   "source": [
    "tf = 'RFX5'\n",
    "plt.figure(figsize=(2,2))\n",
    "plt.plot(moment_df.query('gene_1 == \"{}\"'.format(tf)).values[:, 2:].T, '--o')\n",
    "plt.xticks([0, 1, 2, 3, 4, 5], ['0', '3', '6', '9', '24', '48'])\n",
    "plt.xlabel('Time (hr)'); plt.ylabel('Corr {}'.format(tf))"
   ]
  },
  {
   "cell_type": "code",
   "execution_count": 121,
   "metadata": {},
   "outputs": [
    {
     "data": {
      "image/png": "[encoded data removed]",
      "text/plain": [
       "<Figure size 144x144 with 1 Axes>"
      ]
     },
     "metadata": {
      "needs_background": "light"
     },
     "output_type": "display_data"
    }
   ],
   "source": [
    "tf = 'CREB3'\n",
    "plt.figure(figsize=(2,2))\n",
    "plt.plot(moment_df.query('gene_1 == \"{}\"'.format(tf)).values[:, 2:].T, '--o')\n",
    "plt.xticks([0, 1, 2, 3, 4, 5], ['0', '3', '6', '9', '24', '48'])\n",
    "plt.xlabel('Time (hr)'); plt.ylabel('Corr {}'.format(tf))\n",
    "plt.savefig(fig_path + 'mhc_creb3_corr.pdf', bbox_inches='tight')"
   ]
  },
  {
   "cell_type": "code",
   "execution_count": 122,
   "metadata": {},
   "outputs": [
    {
     "data": {
      "image/png": "[encoded data removed]",
      "text/plain": [
       "<Figure size 144x144 with 1 Axes>"
      ]
     },
     "metadata": {
      "needs_background": "light"
     },
     "output_type": "display_data"
    }
   ],
   "source": [
    "tf = 'STAT1'\n",
    "plt.figure(figsize=(2,2))\n",
    "plt.plot(moment_df.query('gene_1 == \"{}\"'.format(tf)).values[:, 2:].T, '--o')\n",
    "plt.xticks([0, 1, 2, 3, 4, 5], ['0', '3', '6', '9', '24', '48'])\n",
    "plt.xlabel('Time (hr)'); plt.ylabel('Corr {}'.format(tf))\n",
    "plt.savefig(fig_path + 'mhc_stat1_corr.pdf', bbox_inches='tight')"
   ]
  },
  {
   "cell_type": "code",
   "execution_count": 242,
   "metadata": {},
   "outputs": [],
   "source": [
    "tf = 'CREB3'"
   ]
  },
  {
   "cell_type": "code",
   "execution_count": 243,
   "metadata": {},
   "outputs": [
    {
     "data": {
      "text/html": [
       "<div>\n",
       "<style scoped>\n",
       "    .dataframe tbody tr th:only-of-type {\n",
       "        vertical-align: middle;\n",
       "    }\n",
       "\n",
       "    .dataframe tbody tr th {\n",
       "        vertical-align: top;\n",
       "    }\n",
       "\n",
       "    .dataframe thead th {\n",
       "        text-align: right;\n",
       "    }\n",
       "</style>\n",
       "<table border=\"1\" class=\"dataframe\">\n",
       "  <thead>\n",
       "    <tr style=\"text-align: right;\">\n",
       "      <th></th>\n",
       "      <th>gene_1</th>\n",
       "      <th>gene_2</th>\n",
       "      <th>time_0</th>\n",
       "      <th>time_3</th>\n",
       "      <th>time_6</th>\n",
       "      <th>time_9</th>\n",
       "      <th>time_24</th>\n",
       "      <th>time_48</th>\n",
       "    </tr>\n",
       "  </thead>\n",
       "  <tbody>\n",
       "    <tr>\n",
       "      <th>828</th>\n",
       "      <td>CREB3</td>\n",
       "      <td>HLA-A</td>\n",
       "      <td>0.092283</td>\n",
       "      <td>0.225511</td>\n",
       "      <td>0.230557</td>\n",
       "      <td>0.079328</td>\n",
       "      <td>0.065209</td>\n",
       "      <td>0.104553</td>\n",
       "    </tr>\n",
       "    <tr>\n",
       "      <th>829</th>\n",
       "      <td>CREB3</td>\n",
       "      <td>HLA-B</td>\n",
       "      <td>0.172263</td>\n",
       "      <td>0.341903</td>\n",
       "      <td>0.307946</td>\n",
       "      <td>0.155191</td>\n",
       "      <td>0.201031</td>\n",
       "      <td>0.159479</td>\n",
       "    </tr>\n",
       "    <tr>\n",
       "      <th>830</th>\n",
       "      <td>CREB3</td>\n",
       "      <td>HLA-C</td>\n",
       "      <td>0.190355</td>\n",
       "      <td>0.365602</td>\n",
       "      <td>0.330579</td>\n",
       "      <td>0.188595</td>\n",
       "      <td>0.240382</td>\n",
       "      <td>0.157265</td>\n",
       "    </tr>\n",
       "    <tr>\n",
       "      <th>831</th>\n",
       "      <td>CREB3</td>\n",
       "      <td>B2M</td>\n",
       "      <td>0.193022</td>\n",
       "      <td>0.443010</td>\n",
       "      <td>0.429344</td>\n",
       "      <td>0.321969</td>\n",
       "      <td>0.269825</td>\n",
       "      <td>0.238096</td>\n",
       "    </tr>\n",
       "  </tbody>\n",
       "</table>\n",
       "</div>"
      ],
      "text/plain": [
       "    gene_1 gene_2    time_0    time_3    time_6    time_9   time_24   time_48\n",
       "828  CREB3  HLA-A  0.092283  0.225511  0.230557  0.079328  0.065209  0.104553\n",
       "829  CREB3  HLA-B  0.172263  0.341903  0.307946  0.155191  0.201031  0.159479\n",
       "830  CREB3  HLA-C  0.190355  0.365602  0.330579  0.188595  0.240382  0.157265\n",
       "831  CREB3    B2M  0.193022  0.443010  0.429344  0.321969  0.269825  0.238096"
      ]
     },
     "execution_count": 243,
     "metadata": {},
     "output_type": "execute_result"
    }
   ],
   "source": [
    "moment_df.query('gene_1 == \"{}\"'.format(tf))"
   ]
  },
  {
   "cell_type": "code",
   "execution_count": 244,
   "metadata": {},
   "outputs": [
    {
     "data": {
      "text/plain": [
       "<matplotlib.legend.Legend at 0x7fa7bf95d4d0>"
      ]
     },
     "execution_count": 244,
     "metadata": {},
     "output_type": "execute_result"
    },
    {
     "data": {
      "image/png": "[encoded data removed]",
      "text/plain": [
       "<Figure size 144x144 with 1 Axes>"
      ]
     },
     "metadata": {
      "needs_background": "light"
     },
     "output_type": "display_data"
    }
   ],
   "source": [
    "tf = 'CREB3'\n",
    "plt.figure(figsize=(2,2))\n",
    "plt.plot(moment_df.query('gene_1 == \"{}\"'.format(tf)).values[:, 2:].T, '-o')\n",
    "plt.xticks([0, 1, 2, 3, 4, 5], ['0', '3', '6', '9', '24', '48'])\n",
    "plt.xlabel('Time (hr)'); plt.ylabel('Corr {}'.format(tf))\n",
    "plt.legend(['HLA-A', 'HLA-B', 'HLA-C', 'B2M'], ncol=4, frameon=False, bbox_to_anchor=(1,1))"
   ]
  },
  {
   "cell_type": "code",
   "execution_count": 245,
   "metadata": {},
   "outputs": [
    {
     "data": {
      "text/plain": [
       "Text(0, 0.5, 'Corr STAT6')"
      ]
     },
     "execution_count": 245,
     "metadata": {},
     "output_type": "execute_result"
    },
    {
     "data": {
      "image/png": "[encoded data removed]",
      "text/plain": [
       "<Figure size 144x144 with 1 Axes>"
      ]
     },
     "metadata": {
      "needs_background": "light"
     },
     "output_type": "display_data"
    }
   ],
   "source": [
    "tf = 'STAT6'\n",
    "plt.figure(figsize=(2,2))\n",
    "plt.plot(moment_df.query('gene_1 == \"{}\"'.format(tf)).values[:, 2:].T, '-o')\n",
    "plt.xticks([0, 1, 2, 3, 4, 5], ['0', '3', '6', '9', '24', '48'])\n",
    "plt.xlabel('Time (hr)'); plt.ylabel('Corr {}'.format(tf))"
   ]
  },
  {
   "cell_type": "code",
   "execution_count": 246,
   "metadata": {},
   "outputs": [
    {
     "data": {
      "text/plain": [
       "Text(0, 0.5, 'Corr JUND')"
      ]
     },
     "execution_count": 246,
     "metadata": {},
     "output_type": "execute_result"
    },
    {
     "data": {
      "image/png": "[encoded data removed]",
      "text/plain": [
       "<Figure size 144x144 with 1 Axes>"
      ]
     },
     "metadata": {
      "needs_background": "light"
     },
     "output_type": "display_data"
    }
   ],
   "source": [
    "tf = 'JUND'\n",
    "plt.figure(figsize=(2,2))\n",
    "plt.plot(moment_df.query('gene_1 == \"{}\"'.format(tf)).values[:, 2:].T, '-o')\n",
    "plt.xticks([0, 1, 2, 3, 4, 5], ['0', '3', '6', '9', '24', '48'])\n",
    "plt.xlabel('Time (hr)'); plt.ylabel('Corr {}'.format(tf))"
   ]
  },
  {
   "cell_type": "code",
   "execution_count": 249,
   "metadata": {},
   "outputs": [
    {
     "data": {
      "text/plain": [
       "Text(0, 0.5, 'Corr ETS2')"
      ]
     },
     "execution_count": 249,
     "metadata": {},
     "output_type": "execute_result"
    },
    {
     "data": {
      "image/png": "[encoded data removed]",
      "text/plain": [
       "<Figure size 144x144 with 1 Axes>"
      ]
     },
     "metadata": {
      "needs_background": "light"
     },
     "output_type": "display_data"
    }
   ],
   "source": [
    "tf = 'ETS2'\n",
    "plt.figure(figsize=(2,2))\n",
    "plt.plot(moment_df.query('gene_1 == \"{}\"'.format(tf)).values[:, 2:].T, '-o')\n",
    "plt.xticks([0, 1, 2, 3, 4, 5], ['0', '3', '6', '9', '24', '48'])\n",
    "plt.xlabel('Time (hr)'); plt.ylabel('Corr {}'.format(tf))"
   ]
  },
  {
   "cell_type": "markdown",
   "metadata": {},
   "source": [
    "### ISG DC analysis - \"positive\" control"
   ]
  },
  {
   "cell_type": "code",
   "execution_count": null,
   "metadata": {},
   "outputs": [],
   "source": [
    "\n",
    "cts = [['ciliated']]\n",
    "tps = ['3', '6', '9', '24', '48']\n",
    "stims = ['alpha', 'beta', 'gamma', 'lambda']\n",
    "\n",
    "\n",
    "for ct in cts:\n",
    "    for tp in tps:\n",
    "        for stim in stims:\n",
    "            \n",
    "#             fname = '{}_{}_{}_{}.h5ad'.format('-'.join(ct), stim, tp, tf)\n",
    "#             if fname in done_files:\n",
    "#                 continue\n",
    "                            \n",
    "            print('starting', ct, tp, stim)\n",
    "\n",
    "            adata_stim = adata.copy()[\n",
    "                adata.obs.cell_type.isin(ct) & \\\n",
    "                adata.obs.stim.isin(['control', stim]) & \\\n",
    "                adata.obs.time.isin(['0',tp]), :].copy()\n",
    "            time_converter={0:0, int(tp):1}\n",
    "            adata_stim.obs['time_step'] = adata_stim.obs['time'].astype(int).apply(lambda x: time_converter[x])\n",
    "\n",
    "            memento.create_groups(adata_stim, label_columns=['time_step', 'donor'])\n",
    "            memento.compute_1d_moments(adata_stim, min_perc_group=.9)\n",
    "            \n",
    "            tf_list = list(set(tfs) & set(adata_stim.var.index))\n",
    "            \n",
    "            gene_list = adata_stim.var.index.tolist()\n",
    "            \n",
    "            memento.compute_2d_moments(adata_stim, list(itertools.product(tf_list, [\"HLA-A\", \"HLA-B\", \"HLA-C\", \"B2M\"])))\n",
    "\n",
    "            moment_df = memento.get_2d_moments(adata_stim, groupby='time_step')\n",
    "            moment_df.to_csv('/data_volume/ifn_hbec/tf_test/moments_{}_{}_{}_mhc1.csv'.format('-'.join(ct), stim, tp), index=False)\n",
    "\n",
    "\n",
    "            memento.ht_2d_moments( \n",
    "                adata_stim, \n",
    "                formula_like='1 + time_step',\n",
    "                cov_column='time_step', \n",
    "                num_boot=10000, \n",
    "                verbose=1,\n",
    "                num_cpus=13)\n",
    "\n",
    "            if 'mv_regressor' in adata_stim.uns['memento']:\n",
    "                del adata_stim.uns['memento']['mv_regressor']\n",
    "            adata_stim.write('/data_volume/ifn_hbec/tf_test/{}_{}_{}_mhc1.h5ad'.format('-'.join(ct), stim, tp))"
   ]
  },
  {
   "cell_type": "markdown",
   "metadata": {},
   "source": [
    "### CHIP analysis"
   ]
  },
  {
   "cell_type": "code",
   "execution_count": 36,
   "metadata": {},
   "outputs": [],
   "source": [
    "tf = 'STAT1'\n",
    "ct = ['ciliated']\n",
    "stim = 'beta'\n",
    "\n",
    "def get_2d_moments_ht(tf, ct, stim):\n",
    "    \n",
    "    adata_stim = adata.copy()[\n",
    "        adata.obs.cell_type.isin(ct) & \\\n",
    "        adata.obs.time.isin(['0', '3']) & \\\n",
    "        adata.obs.stim.isin(['control', stim])].copy()\n",
    "    time_converter={0:0, int('3'):1}\n",
    "    adata_stim.obs['time_step'] = adata_stim.obs['time'].astype(int).apply(lambda x: time_converter[x])\n",
    "\n",
    "    memento.create_groups(adata_stim, label_columns=['time_step', 'donor'])\n",
    "    memento.compute_1d_moments(adata_stim, min_perc_group=.9)\n",
    "    moment_1d_df = memento.get_1d_moments(adata_stim, groupby='time_step')\n",
    "\n",
    "    memento.compute_2d_moments(adata_stim, list(itertools.product([tf], adata_stim.var.index)))\n",
    "\n",
    "    moment_df = memento.get_2d_moments(adata_stim, groupby='time_step')\n",
    "    \n",
    "    memento.ht_2d_moments( \n",
    "        adata_stim, \n",
    "        formula_like='1 + time_step',\n",
    "        cov_column='time_step', \n",
    "        num_boot=10000, \n",
    "        verbose=1,\n",
    "        num_cpus=13)\n",
    "    \n",
    "    ht_df = memento.get_2d_ht_result(adata_stim)\n",
    "    \n",
    "    return moment_df, ht_df"
   ]
  },
  {
   "cell_type": "code",
   "execution_count": 37,
   "metadata": {},
   "outputs": [
    {
     "name": "stderr",
     "output_type": "stream",
     "text": [
      "[Parallel(n_jobs=13)]: Using backend LokyBackend with 13 concurrent workers.\n",
      "[Parallel(n_jobs=13)]: Done  24 tasks      | elapsed:    9.3s\n",
      "[Parallel(n_jobs=13)]: Done 174 tasks      | elapsed:   35.5s\n",
      "[Parallel(n_jobs=13)]: Done 424 tasks      | elapsed:  1.3min\n",
      "[Parallel(n_jobs=13)]: Done 774 tasks      | elapsed:  2.4min\n",
      "[Parallel(n_jobs=13)]: Done 1224 tasks      | elapsed:  3.6min\n",
      "[Parallel(n_jobs=13)]: Done 1774 tasks      | elapsed:  5.2min\n",
      "[Parallel(n_jobs=13)]: Done 2424 tasks      | elapsed:  7.1min\n",
      "[Parallel(n_jobs=13)]: Done 3174 tasks      | elapsed:  9.2min\n",
      "[Parallel(n_jobs=13)]: Done 4024 tasks      | elapsed: 11.6min\n",
      "[Parallel(n_jobs=13)]: Done 4974 tasks      | elapsed: 14.3min\n",
      "[Parallel(n_jobs=13)]: Done 6024 tasks      | elapsed: 17.3min\n",
      "[Parallel(n_jobs=13)]: Done 7174 tasks      | elapsed: 20.6min\n",
      "[Parallel(n_jobs=13)]: Done 8424 tasks      | elapsed: 24.2min\n",
      "[Parallel(n_jobs=13)]: Done 9641 out of 9641 | elapsed: 27.6min finished\n"
     ]
    }
   ],
   "source": [
    "beta_df, beta_ht_df = get_2d_moments_ht(tf, ct, stim)"
   ]
  },
  {
   "cell_type": "code",
   "execution_count": 39,
   "metadata": {},
   "outputs": [],
   "source": [
    "beta_ht_df['isgf3'] = beta_ht_df.gene_2.apply(lambda x: 'in TSS' if x in isgf3_genes else 'rest')"
   ]
  },
  {
   "cell_type": "code",
   "execution_count": 40,
   "metadata": {},
   "outputs": [
    {
     "data": {
      "text/html": [
       "<div>\n",
       "<style scoped>\n",
       "    .dataframe tbody tr th:only-of-type {\n",
       "        vertical-align: middle;\n",
       "    }\n",
       "\n",
       "    .dataframe tbody tr th {\n",
       "        vertical-align: top;\n",
       "    }\n",
       "\n",
       "    .dataframe thead th {\n",
       "        text-align: right;\n",
       "    }\n",
       "</style>\n",
       "<table border=\"1\" class=\"dataframe\">\n",
       "  <thead>\n",
       "    <tr style=\"text-align: right;\">\n",
       "      <th></th>\n",
       "      <th>gene_1</th>\n",
       "      <th>gene_2</th>\n",
       "      <th>corr_coef</th>\n",
       "      <th>corr_se</th>\n",
       "      <th>corr_pval</th>\n",
       "      <th>isgf3</th>\n",
       "    </tr>\n",
       "  </thead>\n",
       "  <tbody>\n",
       "    <tr>\n",
       "      <th>0</th>\n",
       "      <td>STAT1</td>\n",
       "      <td>LINC01409</td>\n",
       "      <td>-0.232706</td>\n",
       "      <td>0.272895</td>\n",
       "      <td>0.398760</td>\n",
       "      <td>rest</td>\n",
       "    </tr>\n",
       "    <tr>\n",
       "      <th>1</th>\n",
       "      <td>STAT1</td>\n",
       "      <td>NOC2L</td>\n",
       "      <td>-0.026243</td>\n",
       "      <td>0.215634</td>\n",
       "      <td>0.892411</td>\n",
       "      <td>rest</td>\n",
       "    </tr>\n",
       "    <tr>\n",
       "      <th>2</th>\n",
       "      <td>STAT1</td>\n",
       "      <td>HES4</td>\n",
       "      <td>0.299789</td>\n",
       "      <td>0.093080</td>\n",
       "      <td>0.002000</td>\n",
       "      <td>rest</td>\n",
       "    </tr>\n",
       "    <tr>\n",
       "      <th>3</th>\n",
       "      <td>STAT1</td>\n",
       "      <td>ISG15</td>\n",
       "      <td>-0.064089</td>\n",
       "      <td>0.070980</td>\n",
       "      <td>0.360664</td>\n",
       "      <td>in TSS</td>\n",
       "    </tr>\n",
       "    <tr>\n",
       "      <th>4</th>\n",
       "      <td>STAT1</td>\n",
       "      <td>AGRN</td>\n",
       "      <td>-0.012531</td>\n",
       "      <td>0.166157</td>\n",
       "      <td>0.937506</td>\n",
       "      <td>rest</td>\n",
       "    </tr>\n",
       "  </tbody>\n",
       "</table>\n",
       "</div>"
      ],
      "text/plain": [
       "  gene_1     gene_2  corr_coef   corr_se  corr_pval   isgf3\n",
       "0  STAT1  LINC01409  -0.232706  0.272895   0.398760    rest\n",
       "1  STAT1      NOC2L  -0.026243  0.215634   0.892411    rest\n",
       "2  STAT1       HES4   0.299789  0.093080   0.002000    rest\n",
       "3  STAT1      ISG15  -0.064089  0.070980   0.360664  in TSS\n",
       "4  STAT1       AGRN  -0.012531  0.166157   0.937506    rest"
      ]
     },
     "execution_count": 40,
     "metadata": {},
     "output_type": "execute_result"
    }
   ],
   "source": [
    "beta_ht_df.head(5)"
   ]
  },
  {
   "cell_type": "code",
   "execution_count": 41,
   "metadata": {},
   "outputs": [
    {
     "name": "stderr",
     "output_type": "stream",
     "text": [
      "No handles with labels found to put in legend.\n"
     ]
    },
    {
     "data": {
      "text/plain": [
       "<matplotlib.legend.Legend at 0x7f2ae3f26650>"
      ]
     },
     "execution_count": 41,
     "metadata": {},
     "output_type": "execute_result"
    },
    {
     "data": {
      "image/png": "[encoded data removed]",
      "text/plain": [
       "<Figure size 180x216 with 1 Axes>"
      ]
     },
     "metadata": {
      "needs_background": "light"
     },
     "output_type": "display_data"
    }
   ],
   "source": [
    "plt.figure(figsize=(2.5, 3))\n",
    "sns.boxplot(x='isgf3', y='corr_coef', data=beta_ht_df.sort_values('isgf3'), palette='Set2')\n",
    "\n",
    "plt.xlabel('Cell type'); plt.ylabel('Change in variability');\n",
    "plt.legend(loc='upper center', ncol=2, bbox_to_anchor=(0.5, 1.15))\n",
    "# plt.ylim(-.8, 0.6)\n",
    "# plt.savefig(fig_path + 'isgf3_vs_rest.pdf', bbox_inches='tight')\n",
    "\n"
   ]
  },
  {
   "cell_type": "code",
   "execution_count": null,
   "metadata": {},
   "outputs": [],
   "source": []
  }
 ],
 "metadata": {
  "kernelspec": {
   "display_name": "Python 3",
   "language": "python",
   "name": "python3"
  },
  "language_info": {
   "codemirror_mode": {
    "name": "ipython",
    "version": 3
   },
   "file_extension": ".py",
   "mimetype": "text/x-python",
   "name": "python",
   "nbconvert_exporter": "python",
   "pygments_lexer": "ipython3",
   "version": "3.8.8"
  }
 },
 "nbformat": 4,
 "nbformat_minor": 4
}
