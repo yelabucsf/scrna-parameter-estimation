{
 "cells": [
  {
   "cell_type": "markdown",
   "metadata": {},
   "source": [
    "# MHC II Analysis"
   ]
  },
  {
   "cell_type": "code",
   "execution_count": 1,
   "metadata": {},
   "outputs": [],
   "source": [
    "import scanpy as sc\n",
    "import seaborn as sns\n",
    "import pandas as pd\n",
    "import matplotlib.pyplot as plt\n",
    "import numpy as np\n",
    "import scipy.stats as stats\n",
    "from pybedtools import BedTool\n",
    "import pickle as pkl\n",
    "import itertools\n",
    "%matplotlib inline"
   ]
  },
  {
   "cell_type": "code",
   "execution_count": 2,
   "metadata": {},
   "outputs": [],
   "source": [
    "import matplotlib\n",
    "matplotlib.rcParams['pdf.fonttype'] = 42\n",
    "matplotlib.rcParams['ps.fonttype'] = 42"
   ]
  },
  {
   "cell_type": "code",
   "execution_count": 3,
   "metadata": {},
   "outputs": [],
   "source": [
    "import sys\n",
    "sys.path.append('/home/ssm-user/Github/scrna-parameter-estimation/dist/memento-0.0.5-py3.8.egg')\n",
    "sys.path.append('/home/ssm-user/Github/misc-seq/miscseq/')\n",
    "import encode\n",
    "import memento"
   ]
  },
  {
   "cell_type": "code",
   "execution_count": 4,
   "metadata": {},
   "outputs": [],
   "source": [
    "data_path = '/data_volume/ifn_hbec/'\n",
    "fig_path = '/home/ssm-user/Github/scrna-parameter-estimation/figures/fig5/main/'"
   ]
  },
  {
   "cell_type": "markdown",
   "metadata": {},
   "source": [
    "### Read the processed RNA data\n",
    "\n",
    "Focus on the club and bc/club cells and type I interferons for now.\n",
    "\n",
    "Encode the timestamps to integers."
   ]
  },
  {
   "cell_type": "raw",
   "metadata": {},
   "source": [
    "adata_processed = sc.read(data_path + 'HBEC_type_I_processed.h5ad')"
   ]
  },
  {
   "cell_type": "code",
   "execution_count": 5,
   "metadata": {},
   "outputs": [],
   "source": [
    "adata = sc.read(data_path + 'HBEC_type_I_filtered_counts_deep.h5ad')"
   ]
  },
  {
   "cell_type": "code",
   "execution_count": 6,
   "metadata": {},
   "outputs": [
    {
     "name": "stderr",
     "output_type": "stream",
     "text": [
      "/home/ssm-user/anaconda3/envs/single_cell/lib/python3.8/site-packages/pandas/core/arrays/categorical.py:2487: FutureWarning: The `inplace` parameter in pandas.Categorical.remove_unused_categories is deprecated and will be removed in a future version.\n",
      "  res = method(*args, **kwargs)\n"
     ]
    }
   ],
   "source": [
    "adata = adata[:, ~adata.var.index.str.startswith('MT-')].copy()\n",
    "adata.obs['cell_type'] = adata.obs['cell_type'].apply(lambda x: x if x != 'basal/club' else 'bc')\n",
    "adata.obs['cell_type'] = adata.obs['cell_type'].apply(lambda x: x if x != 'ionocyte/tuft' else 'ion-tuft')"
   ]
  },
  {
   "cell_type": "raw",
   "metadata": {},
   "source": [
    "sc.pl.umap(adata_processed, color=['cell_type', 'time', 'stim'])"
   ]
  },
  {
   "cell_type": "code",
   "execution_count": 7,
   "metadata": {},
   "outputs": [
    {
     "data": {
      "text/plain": [
       "(69958, 36588)"
      ]
     },
     "execution_count": 7,
     "metadata": {},
     "output_type": "execute_result"
    }
   ],
   "source": [
    "adata.shape"
   ]
  },
  {
   "cell_type": "markdown",
   "metadata": {},
   "source": [
    "### Setup memento"
   ]
  },
  {
   "cell_type": "code",
   "execution_count": 8,
   "metadata": {},
   "outputs": [],
   "source": [
    "def assign_q(batch):\n",
    "    \n",
    "    if batch == 0:\n",
    "        return 0.387*0.25\n",
    "    elif batch == 1:\n",
    "        return 0.392*0.25\n",
    "    elif batch == 2:\n",
    "        return 0.436*0.25\n",
    "    else:\n",
    "        return 0.417*0.25"
   ]
  },
  {
   "cell_type": "code",
   "execution_count": 9,
   "metadata": {},
   "outputs": [],
   "source": [
    "adata.obs['q'] = adata.obs['batch'].apply(assign_q)"
   ]
  },
  {
   "cell_type": "code",
   "execution_count": 10,
   "metadata": {},
   "outputs": [],
   "source": [
    "memento.setup_memento(adata, q_column='q', trim_percent=0.1, filter_mean_thresh=0.04)"
   ]
  },
  {
   "cell_type": "markdown",
   "metadata": {},
   "source": [
    "### Check some expresssion level over time"
   ]
  },
  {
   "cell_type": "code",
   "execution_count": 11,
   "metadata": {},
   "outputs": [],
   "source": [
    "stim = 'beta'\n",
    "ct = ['ciliated']"
   ]
  },
  {
   "cell_type": "code",
   "execution_count": 12,
   "metadata": {},
   "outputs": [
    {
     "name": "stderr",
     "output_type": "stream",
     "text": [
      "/home/ssm-user/Github/scrna-parameter-estimation/dist/memento-0.0.5-py3.8.egg/memento/estimator.py:105: RuntimeWarning: invalid value encountered in log\n"
     ]
    }
   ],
   "source": [
    "subset = adata[adata.obs['cell_type'].isin(ct) & adata.obs.stim.isin(['control', stim])].copy().copy()\n",
    "memento.create_groups(subset, label_columns=['time', 'donor'])\n",
    "memento.compute_1d_moments(subset, min_perc_group=.9)\n",
    "mean_df = memento.get_1d_moments(subset, groupby='time')[0][['gene'] + ['time_' + str(i) for i in [0, 3, 6, 9, 24, 48]]]\n",
    "var_df = memento.get_1d_moments(subset, groupby='time')[1][['gene'] + ['time_' + str(i) for i in [0, 3, 6, 9, 24, 48]]]"
   ]
  },
  {
   "cell_type": "code",
   "execution_count": 13,
   "metadata": {},
   "outputs": [
    {
     "data": {
      "image/png": "[encoded data removed]",
      "text/plain": [
       "<Figure size 576x144 with 3 Axes>"
      ]
     },
     "metadata": {
      "needs_background": "light"
     },
     "output_type": "display_data"
    }
   ],
   "source": [
    "d = mean_df.query('gene.isin([\"RFX5\", \"CREB1\", \"NLRC5\"])', engine='python')\n",
    "plt.figure(figsize=(8,2))\n",
    "plt.subplots_adjust(wspace=0.4)\n",
    "locs = [1, 2,3, 4]\n",
    "cs = [0, 2]\n",
    "num=0\n",
    "for idx, row in d.iterrows():\n",
    "    plt.subplot(1,4,locs[num])\n",
    "    plt.plot(row.values[1:], '-o')\n",
    "    plt.title(row['gene'])\n",
    "    plt.xticks([0, 1, 2, 3, 4, 5], ['0', '3', '6', '9', '24', '48'])\n",
    "    if num == 0:\n",
    "        plt.ylabel('Mean expr')\n",
    "    plt.xlabel('time (hr)')\n",
    "    num +=1\n",
    "\n",
    "plt.savefig(fig_path + 'mhc_aux_mean.pdf', bbox_inches='tight')\n"
   ]
  },
  {
   "cell_type": "code",
   "execution_count": 14,
   "metadata": {},
   "outputs": [],
   "source": [
    "class2_genes = [ 'HLA-DRA',\n",
    " 'HLA-DRB1',\n",
    " 'HLA-DQB1',\n",
    " 'HLA-DMB',\n",
    " 'HLA-DMA',\n",
    " 'HLA-DPA1',\n",
    " 'HLA-DPB1']\n",
    "class1_genes = [\"HLA-A\", \"HLA-B\", \"HLA-C\", \"B2M\"]"
   ]
  },
  {
   "cell_type": "code",
   "execution_count": 15,
   "metadata": {},
   "outputs": [
    {
     "data": {
      "text/plain": [
       "Text(0.5, 0, 'time (hr)')"
      ]
     },
     "execution_count": 15,
     "metadata": {},
     "output_type": "execute_result"
    },
    {
     "data": {
      "image/png": "[encoded data removed]",
      "text/plain": [
       "<Figure size 144x144 with 1 Axes>"
      ]
     },
     "metadata": {
      "needs_background": "light"
     },
     "output_type": "display_data"
    }
   ],
   "source": [
    "plt.figure(figsize=(2,2))\n",
    "d = mean_df.query('gene.isin([\"HLA-A\", \"HLA-B\", \"HLA-C\", \"B2M\"])', engine='python').values[:,1:]\n",
    "d = d - d[:, 0].reshape(-1,1)\n",
    "plt.plot(d.T, '-o'); plt.ylabel('Relative mean expr')\n",
    "plt.xticks([0, 1, 2, 3, 4, 5], ['0', '3', '6', '9', '24', '48']); plt.xlabel('time (hr)')"
   ]
  },
  {
   "cell_type": "code",
   "execution_count": 16,
   "metadata": {},
   "outputs": [],
   "source": [
    "class2_genes = [ 'HLA-DRA',\n",
    " 'HLA-DRB1',\n",
    " 'HLA-DQB1',\n",
    " 'HLA-DPA1',\n",
    " 'HLA-DPB1']"
   ]
  },
  {
   "cell_type": "code",
   "execution_count": 17,
   "metadata": {},
   "outputs": [
    {
     "data": {
      "text/plain": [
       "Text(0.5, 0, 'time (hr)')"
      ]
     },
     "execution_count": 17,
     "metadata": {},
     "output_type": "execute_result"
    },
    {
     "data": {
      "image/png": "[encoded data removed]",
      "text/plain": [
       "<Figure size 144x144 with 1 Axes>"
      ]
     },
     "metadata": {
      "needs_background": "light"
     },
     "output_type": "display_data"
    }
   ],
   "source": [
    "plt.figure(figsize=(2,2))\n",
    "d = mean_df.query('gene in @class1_genes', engine='python').values[:,1:]\n",
    "d = d - d[:, 0].reshape(-1,1)\n",
    "plt.plot(d.T, '-o'); plt.ylabel('Relative mean expr')\n",
    "plt.xticks([0, 1, 2, 3, 4, 5], ['0', '3', '6', '9', '24', '48']); plt.xlabel('time (hr)')"
   ]
  },
  {
   "cell_type": "code",
   "execution_count": 18,
   "metadata": {},
   "outputs": [
    {
     "data": {
      "text/plain": [
       "Text(0.5, 0, 'time (hr)')"
      ]
     },
     "execution_count": 18,
     "metadata": {},
     "output_type": "execute_result"
    },
    {
     "data": {
      "image/png": "[encoded data removed]",
      "text/plain": [
       "<Figure size 144x144 with 1 Axes>"
      ]
     },
     "metadata": {
      "needs_background": "light"
     },
     "output_type": "display_data"
    }
   ],
   "source": [
    "plt.figure(figsize=(2,2))\n",
    "d = mean_df.query('gene in @class2_genes', engine='python').values[:,1:]\n",
    "d = d - d[:, 0].reshape(-1,1)\n",
    "plt.plot(d.T, '-o'); plt.ylabel('Relative mean expr')\n",
    "plt.xticks([0, 1, 2, 3, 4, 5], ['0', '3', '6', '9', '24', '48']); plt.xlabel('time (hr)')"
   ]
  },
  {
   "cell_type": "code",
   "execution_count": 19,
   "metadata": {},
   "outputs": [
    {
     "data": {
      "text/plain": [
       "Text(0.5, 0, 'time (hr)')"
      ]
     },
     "execution_count": 19,
     "metadata": {},
     "output_type": "execute_result"
    },
    {
     "data": {
      "image/png": "[encoded data removed]",
      "text/plain": [
       "<Figure size 144x144 with 1 Axes>"
      ]
     },
     "metadata": {
      "needs_background": "light"
     },
     "output_type": "display_data"
    }
   ],
   "source": [
    "plt.figure(figsize=(2,2))\n",
    "d = mean_df.query('gene.isin([\"RELA\", \"NFKB2\"])', engine='python').values[:,1:]\n",
    "# d = d - d[:, 0].reshape(-1,1)\n",
    "plt.plot(d.T, '-o'); plt.ylabel('Relative mean expr')\n",
    "plt.xticks([0, 1, 2, 3, 4, 5], ['0', '3', '6', '9', '24', '48']); plt.xlabel('time (hr)')"
   ]
  },
  {
   "cell_type": "code",
   "execution_count": 21,
   "metadata": {},
   "outputs": [],
   "source": [
    "select_isgs = ['MX1','MX2', 'OAS3', 'IFIT3', 'IFI2']\n"
   ]
  },
  {
   "cell_type": "code",
   "execution_count": null,
   "metadata": {},
   "outputs": [],
   "source": [
    "plt.figure(figsize=(2,2))\n",
    "d = mean_df.query('gene.isin([\"HLA-A\", \"HLA-B\", \"HLA-C\", \"B2M\"])', engine='python').values[:,1:]\n",
    "d = d - d[:, 0].reshape(-1,1)\n",
    "plt.plot(d.T, '-o'); plt.ylabel('Relative mean expr')\n",
    "plt.xticks([0, 1, 2, 3, 4, 5], ['0', '3', '6', '9', '24', '48']); plt.xlabel('time (hr)')"
   ]
  },
  {
   "cell_type": "code",
   "execution_count": 22,
   "metadata": {},
   "outputs": [
    {
     "data": {
      "text/plain": [
       "Text(0.5, 0, 'time (hr)')"
      ]
     },
     "execution_count": 22,
     "metadata": {},
     "output_type": "execute_result"
    },
    {
     "data": {
      "image/png": "[encoded data removed]",
      "text/plain": [
       "<Figure size 144x144 with 1 Axes>"
      ]
     },
     "metadata": {
      "needs_background": "light"
     },
     "output_type": "display_data"
    }
   ],
   "source": [
    "plt.figure(figsize=(2,2))\n",
    "d = mean_df.query('gene in @select_isgs', engine='python').values[:,1:]\n",
    "d = d - d[:, 0].reshape(-1,1)\n",
    "plt.plot(d.T, '-o'); plt.ylabel('Relative mean expr')\n",
    "plt.xticks([0, 1, 2, 3, 4, 5], ['0', '3', '6', '9', '24', '48']); plt.xlabel('time (hr)')"
   ]
  },
  {
   "cell_type": "markdown",
   "metadata": {},
   "source": [
    "### Correlation of MHC I transcripts to STAT1"
   ]
  },
  {
   "cell_type": "code",
   "execution_count": 24,
   "metadata": {},
   "outputs": [],
   "source": [
    "canonical_isgs = pd.read_csv('alpha_beta_reactome.txt', header=None)[0].tolist()\n"
   ]
  },
  {
   "cell_type": "code",
   "execution_count": 25,
   "metadata": {},
   "outputs": [
    {
     "name": "stdout",
     "output_type": "stream",
     "text": [
      "starting ['ciliated'] 3 gamma\n"
     ]
    },
    {
     "name": "stderr",
     "output_type": "stream",
     "text": [
      "/home/ssm-user/anaconda3/envs/single_cell/lib/python3.8/site-packages/pandas/core/arrays/categorical.py:2487: FutureWarning: The `inplace` parameter in pandas.Categorical.remove_unused_categories is deprecated and will be removed in a future version.\n",
      "  res = method(*args, **kwargs)\n"
     ]
    },
    {
     "name": "stdout",
     "output_type": "stream",
     "text": [
      "starting ['ciliated'] 6 gamma\n",
      "starting ['ciliated'] 9 gamma\n",
      "starting ['ciliated'] 24 gamma\n",
      "starting ['ciliated'] 48 gamma\n"
     ]
    }
   ],
   "source": [
    "cts = [['ciliated']]\n",
    "tps = ['3', '6', '9', '24', '48']\n",
    "stims = ['gamma']\n",
    "\n",
    "\n",
    "for ct in cts:\n",
    "    for tp in tps:\n",
    "        for stim in stims:\n",
    "                            \n",
    "            print('starting', ct, tp, stim)\n",
    "\n",
    "            adata_stim = adata.copy()[\n",
    "                adata.obs.cell_type.isin(ct) & \\\n",
    "                adata.obs.stim.isin(['control', stim]) & \\\n",
    "                adata.obs.time.isin(['0',tp]), :].copy()\n",
    "            time_converter={0:0, int(tp):1}\n",
    "            adata_stim.obs['time_step'] = adata_stim.obs['time'].astype(int).apply(lambda x: time_converter[x])\n",
    "\n",
    "            memento.create_groups(adata_stim, label_columns=['time_step', 'donor'])\n",
    "            memento.compute_1d_moments(adata_stim, min_perc_group=.9)\n",
    "            \n",
    "            m, v, count = memento.get_1d_moments(adata_stim)\n",
    "            mhc_genes = m.query('gene.str.contains(\"HLA\")', engine='python').gene.tolist()\n",
    "            \n",
    "            tf_list = ['STAT1', 'NLRC5', 'CREB1', 'RFX5']\n",
    "            gene_list = adata_stim.var.index.tolist()\n",
    "            \n",
    "            isgs = list(set(canonical_isgs) & set(gene_list))\n",
    "            \n",
    "            target_list = list(set(isgs) | set(mhc_genes))\n",
    "            \n",
    "            memento.compute_2d_moments(adata_stim, list(itertools.product(tf_list,target_list)))\n",
    "\n",
    "            moment_df = memento.get_2d_moments(adata_stim, groupby='time_step')\n",
    "            moment_df.to_csv('/data_volume/ifn_hbec/tf_test/moments_{}_{}_{}_mhc1_20210501.csv'.format('-'.join(ct), stim, tp), index=False)"
   ]
  },
  {
   "cell_type": "code",
   "execution_count": 43,
   "metadata": {},
   "outputs": [],
   "source": [
    "stim = 'beta'\n",
    "ct = ['ciliated']\n",
    "for tp in ['3', '6', '9', '24', '48']:\n",
    "    \n",
    "    moments = pd.read_csv('/data_volume/ifn_hbec/tf_test/moments_{}_{}_{}_mhc1_20210501.csv'.format('-'.join(ct), stim, tp)).rename(columns={'time_step_0':'time_0', 'time_step_1':'time_'+tp})\n",
    "    \n",
    "    if tp == '3':\n",
    "        moment_df = moments[['gene_1', 'gene_2', 'time_0', 'time_3']].copy()\n",
    "        \n",
    "    else:\n",
    "        moment_df = moment_df.merge(moments[['gene_1', 'gene_2', 'time_{}'.format(tp)]].copy(), on=['gene_1', 'gene_2'], how='inner')"
   ]
  },
  {
   "cell_type": "code",
   "execution_count": 44,
   "metadata": {},
   "outputs": [],
   "source": [
    "class2_genes = [ 'HLA-DRA',\n",
    " 'HLA-DRB1',\n",
    " 'HLA-DQB1',\n",
    " 'HLA-DMB',\n",
    " 'HLA-DMA',\n",
    " 'HLA-DPA1',\n",
    " 'HLA-DPB1']"
   ]
  },
  {
   "cell_type": "code",
   "execution_count": 47,
   "metadata": {},
   "outputs": [
    {
     "data": {
      "text/plain": [
       "<matplotlib.legend.Legend at 0x7fba4e14e8b0>"
      ]
     },
     "execution_count": 47,
     "metadata": {},
     "output_type": "execute_result"
    },
    {
     "data": {
      "image/png": "[encoded data removed]",
      "text/plain": [
       "<Figure size 360x216 with 1 Axes>"
      ]
     },
     "metadata": {
      "needs_background": "light"
     },
     "output_type": "display_data"
    }
   ],
   "source": [
    "tf = 'STAT1'\n",
    "# plt.subplot(1, 3, 2)\n",
    "plt.figure(figsize=(5,3))\n",
    "plt.plot(moment_df.query('gene_1 == \"{}\" & gene_2 in @class2_genes'.format(tf)).values[:, 2:].T, '--o')\n",
    "plt.xticks([0, 1, 2, 3, 4, 5], ['0', '3', '6', '9', '24', '48'])\n",
    "plt.xlabel('Time (hr)'); plt.ylabel('Corr {}'.format(tf))\n",
    "plt.xlim(-0.5, 8)\n",
    "plt.legend(moment_df.query('gene_1 == \"{}\" & gene_2 in @class2_genes'.format(tf)).gene_2, frameon=False, ncol=1, loc='upper right')"
   ]
  },
  {
   "cell_type": "code",
   "execution_count": 48,
   "metadata": {},
   "outputs": [
    {
     "data": {
      "text/html": [
       "<div>\n",
       "<style scoped>\n",
       "    .dataframe tbody tr th:only-of-type {\n",
       "        vertical-align: middle;\n",
       "    }\n",
       "\n",
       "    .dataframe tbody tr th {\n",
       "        vertical-align: top;\n",
       "    }\n",
       "\n",
       "    .dataframe thead th {\n",
       "        text-align: right;\n",
       "    }\n",
       "</style>\n",
       "<table border=\"1\" class=\"dataframe\">\n",
       "  <thead>\n",
       "    <tr style=\"text-align: right;\">\n",
       "      <th></th>\n",
       "      <th>gene_1</th>\n",
       "      <th>gene_2</th>\n",
       "      <th>time_0</th>\n",
       "      <th>time_3</th>\n",
       "      <th>time_6</th>\n",
       "      <th>time_9</th>\n",
       "      <th>time_24</th>\n",
       "      <th>time_48</th>\n",
       "    </tr>\n",
       "  </thead>\n",
       "  <tbody>\n",
       "    <tr>\n",
       "      <th>1</th>\n",
       "      <td>STAT1</td>\n",
       "      <td>HLA-F</td>\n",
       "      <td>0.304819</td>\n",
       "      <td>0.464887</td>\n",
       "      <td>0.517703</td>\n",
       "      <td>0.421346</td>\n",
       "      <td>0.428462</td>\n",
       "      <td>0.360325</td>\n",
       "    </tr>\n",
       "    <tr>\n",
       "      <th>10</th>\n",
       "      <td>STAT1</td>\n",
       "      <td>HHLA3</td>\n",
       "      <td>0.028636</td>\n",
       "      <td>0.099758</td>\n",
       "      <td>0.008163</td>\n",
       "      <td>-0.071971</td>\n",
       "      <td>0.043674</td>\n",
       "      <td>0.029474</td>\n",
       "    </tr>\n",
       "    <tr>\n",
       "      <th>18</th>\n",
       "      <td>STAT1</td>\n",
       "      <td>HLA-DPA1</td>\n",
       "      <td>0.102934</td>\n",
       "      <td>0.198092</td>\n",
       "      <td>0.212586</td>\n",
       "      <td>0.073878</td>\n",
       "      <td>0.032448</td>\n",
       "      <td>0.068821</td>\n",
       "    </tr>\n",
       "    <tr>\n",
       "      <th>28</th>\n",
       "      <td>STAT1</td>\n",
       "      <td>HHLA2</td>\n",
       "      <td>-0.253495</td>\n",
       "      <td>-0.036525</td>\n",
       "      <td>-0.012514</td>\n",
       "      <td>-0.184961</td>\n",
       "      <td>-0.204385</td>\n",
       "      <td>-0.202323</td>\n",
       "    </tr>\n",
       "    <tr>\n",
       "      <th>29</th>\n",
       "      <td>STAT1</td>\n",
       "      <td>HLA-C</td>\n",
       "      <td>0.323252</td>\n",
       "      <td>0.479602</td>\n",
       "      <td>0.523704</td>\n",
       "      <td>0.417550</td>\n",
       "      <td>0.395346</td>\n",
       "      <td>0.318277</td>\n",
       "    </tr>\n",
       "    <tr>\n",
       "      <th>31</th>\n",
       "      <td>STAT1</td>\n",
       "      <td>HLA-DPB1</td>\n",
       "      <td>0.062646</td>\n",
       "      <td>0.131731</td>\n",
       "      <td>0.192951</td>\n",
       "      <td>0.034043</td>\n",
       "      <td>0.049893</td>\n",
       "      <td>0.052291</td>\n",
       "    </tr>\n",
       "    <tr>\n",
       "      <th>32</th>\n",
       "      <td>STAT1</td>\n",
       "      <td>HLA-B</td>\n",
       "      <td>0.203125</td>\n",
       "      <td>0.422160</td>\n",
       "      <td>0.436210</td>\n",
       "      <td>0.245505</td>\n",
       "      <td>0.200778</td>\n",
       "      <td>0.155493</td>\n",
       "    </tr>\n",
       "    <tr>\n",
       "      <th>36</th>\n",
       "      <td>STAT1</td>\n",
       "      <td>HLA-DQB1</td>\n",
       "      <td>0.068854</td>\n",
       "      <td>0.181291</td>\n",
       "      <td>0.171850</td>\n",
       "      <td>0.120890</td>\n",
       "      <td>0.205619</td>\n",
       "      <td>0.072791</td>\n",
       "    </tr>\n",
       "    <tr>\n",
       "      <th>38</th>\n",
       "      <td>STAT1</td>\n",
       "      <td>HLA-DMA</td>\n",
       "      <td>0.187493</td>\n",
       "      <td>0.277224</td>\n",
       "      <td>0.337108</td>\n",
       "      <td>0.204847</td>\n",
       "      <td>0.193781</td>\n",
       "      <td>0.197933</td>\n",
       "    </tr>\n",
       "    <tr>\n",
       "      <th>39</th>\n",
       "      <td>STAT1</td>\n",
       "      <td>HLA-E</td>\n",
       "      <td>0.415500</td>\n",
       "      <td>0.547659</td>\n",
       "      <td>0.587903</td>\n",
       "      <td>0.544207</td>\n",
       "      <td>0.565060</td>\n",
       "      <td>0.525930</td>\n",
       "    </tr>\n",
       "    <tr>\n",
       "      <th>42</th>\n",
       "      <td>STAT1</td>\n",
       "      <td>HLA-DMB</td>\n",
       "      <td>0.298437</td>\n",
       "      <td>0.288740</td>\n",
       "      <td>0.416392</td>\n",
       "      <td>0.234848</td>\n",
       "      <td>0.267389</td>\n",
       "      <td>0.166237</td>\n",
       "    </tr>\n",
       "    <tr>\n",
       "      <th>43</th>\n",
       "      <td>STAT1</td>\n",
       "      <td>HLA-A</td>\n",
       "      <td>0.188168</td>\n",
       "      <td>0.418184</td>\n",
       "      <td>0.408311</td>\n",
       "      <td>0.170221</td>\n",
       "      <td>0.140781</td>\n",
       "      <td>0.114049</td>\n",
       "    </tr>\n",
       "    <tr>\n",
       "      <th>46</th>\n",
       "      <td>STAT1</td>\n",
       "      <td>HLA-DRA</td>\n",
       "      <td>0.107503</td>\n",
       "      <td>0.232326</td>\n",
       "      <td>0.300084</td>\n",
       "      <td>0.147934</td>\n",
       "      <td>0.127569</td>\n",
       "      <td>0.103952</td>\n",
       "    </tr>\n",
       "    <tr>\n",
       "      <th>60</th>\n",
       "      <td>STAT1</td>\n",
       "      <td>HLA-DRB1</td>\n",
       "      <td>0.114734</td>\n",
       "      <td>0.172968</td>\n",
       "      <td>0.257890</td>\n",
       "      <td>0.080329</td>\n",
       "      <td>0.043467</td>\n",
       "      <td>0.024518</td>\n",
       "    </tr>\n",
       "    <tr>\n",
       "      <th>62</th>\n",
       "      <td>NLRC5</td>\n",
       "      <td>HLA-F</td>\n",
       "      <td>0.197429</td>\n",
       "      <td>0.178664</td>\n",
       "      <td>0.241687</td>\n",
       "      <td>0.299618</td>\n",
       "      <td>0.248842</td>\n",
       "      <td>0.213754</td>\n",
       "    </tr>\n",
       "    <tr>\n",
       "      <th>71</th>\n",
       "      <td>NLRC5</td>\n",
       "      <td>HHLA3</td>\n",
       "      <td>0.120052</td>\n",
       "      <td>-0.130527</td>\n",
       "      <td>-0.117905</td>\n",
       "      <td>-0.032829</td>\n",
       "      <td>0.094493</td>\n",
       "      <td>-0.029470</td>\n",
       "    </tr>\n",
       "    <tr>\n",
       "      <th>79</th>\n",
       "      <td>NLRC5</td>\n",
       "      <td>HLA-DPA1</td>\n",
       "      <td>0.084510</td>\n",
       "      <td>0.006873</td>\n",
       "      <td>0.032609</td>\n",
       "      <td>-0.016317</td>\n",
       "      <td>0.028087</td>\n",
       "      <td>-0.026830</td>\n",
       "    </tr>\n",
       "    <tr>\n",
       "      <th>89</th>\n",
       "      <td>NLRC5</td>\n",
       "      <td>HHLA2</td>\n",
       "      <td>0.231085</td>\n",
       "      <td>0.106180</td>\n",
       "      <td>-0.054964</td>\n",
       "      <td>0.110838</td>\n",
       "      <td>-0.164576</td>\n",
       "      <td>0.151224</td>\n",
       "    </tr>\n",
       "    <tr>\n",
       "      <th>90</th>\n",
       "      <td>NLRC5</td>\n",
       "      <td>HLA-C</td>\n",
       "      <td>0.190341</td>\n",
       "      <td>0.083176</td>\n",
       "      <td>0.130417</td>\n",
       "      <td>0.151485</td>\n",
       "      <td>0.245687</td>\n",
       "      <td>0.115918</td>\n",
       "    </tr>\n",
       "    <tr>\n",
       "      <th>92</th>\n",
       "      <td>NLRC5</td>\n",
       "      <td>HLA-DPB1</td>\n",
       "      <td>-0.075684</td>\n",
       "      <td>-0.056828</td>\n",
       "      <td>-0.017471</td>\n",
       "      <td>-0.103757</td>\n",
       "      <td>0.019734</td>\n",
       "      <td>-0.067294</td>\n",
       "    </tr>\n",
       "    <tr>\n",
       "      <th>93</th>\n",
       "      <td>NLRC5</td>\n",
       "      <td>HLA-B</td>\n",
       "      <td>0.198176</td>\n",
       "      <td>0.108512</td>\n",
       "      <td>0.127861</td>\n",
       "      <td>0.127195</td>\n",
       "      <td>0.148245</td>\n",
       "      <td>0.068416</td>\n",
       "    </tr>\n",
       "    <tr>\n",
       "      <th>97</th>\n",
       "      <td>NLRC5</td>\n",
       "      <td>HLA-DQB1</td>\n",
       "      <td>0.004746</td>\n",
       "      <td>0.108485</td>\n",
       "      <td>0.084061</td>\n",
       "      <td>0.188908</td>\n",
       "      <td>0.170853</td>\n",
       "      <td>0.037201</td>\n",
       "    </tr>\n",
       "    <tr>\n",
       "      <th>99</th>\n",
       "      <td>NLRC5</td>\n",
       "      <td>HLA-DMA</td>\n",
       "      <td>-0.190765</td>\n",
       "      <td>-0.135171</td>\n",
       "      <td>-0.067817</td>\n",
       "      <td>0.003569</td>\n",
       "      <td>-0.037771</td>\n",
       "      <td>-0.054007</td>\n",
       "    </tr>\n",
       "    <tr>\n",
       "      <th>100</th>\n",
       "      <td>NLRC5</td>\n",
       "      <td>HLA-E</td>\n",
       "      <td>0.166883</td>\n",
       "      <td>0.212384</td>\n",
       "      <td>0.208305</td>\n",
       "      <td>0.376620</td>\n",
       "      <td>0.396884</td>\n",
       "      <td>0.290771</td>\n",
       "    </tr>\n",
       "    <tr>\n",
       "      <th>103</th>\n",
       "      <td>NLRC5</td>\n",
       "      <td>HLA-DMB</td>\n",
       "      <td>-0.129595</td>\n",
       "      <td>0.085471</td>\n",
       "      <td>0.143694</td>\n",
       "      <td>0.040933</td>\n",
       "      <td>-0.177974</td>\n",
       "      <td>-0.005533</td>\n",
       "    </tr>\n",
       "    <tr>\n",
       "      <th>104</th>\n",
       "      <td>NLRC5</td>\n",
       "      <td>HLA-A</td>\n",
       "      <td>0.099576</td>\n",
       "      <td>0.150488</td>\n",
       "      <td>0.177150</td>\n",
       "      <td>0.060328</td>\n",
       "      <td>0.074868</td>\n",
       "      <td>0.013305</td>\n",
       "    </tr>\n",
       "    <tr>\n",
       "      <th>107</th>\n",
       "      <td>NLRC5</td>\n",
       "      <td>HLA-DRA</td>\n",
       "      <td>-0.018603</td>\n",
       "      <td>-0.092499</td>\n",
       "      <td>-0.052940</td>\n",
       "      <td>-0.037078</td>\n",
       "      <td>0.061722</td>\n",
       "      <td>-0.003174</td>\n",
       "    </tr>\n",
       "    <tr>\n",
       "      <th>121</th>\n",
       "      <td>NLRC5</td>\n",
       "      <td>HLA-DRB1</td>\n",
       "      <td>0.086834</td>\n",
       "      <td>-0.010963</td>\n",
       "      <td>0.034700</td>\n",
       "      <td>-0.026179</td>\n",
       "      <td>0.041418</td>\n",
       "      <td>0.000576</td>\n",
       "    </tr>\n",
       "  </tbody>\n",
       "</table>\n",
       "</div>"
      ],
      "text/plain": [
       "    gene_1    gene_2    time_0    time_3    time_6    time_9   time_24  \\\n",
       "1    STAT1     HLA-F  0.304819  0.464887  0.517703  0.421346  0.428462   \n",
       "10   STAT1     HHLA3  0.028636  0.099758  0.008163 -0.071971  0.043674   \n",
       "18   STAT1  HLA-DPA1  0.102934  0.198092  0.212586  0.073878  0.032448   \n",
       "28   STAT1     HHLA2 -0.253495 -0.036525 -0.012514 -0.184961 -0.204385   \n",
       "29   STAT1     HLA-C  0.323252  0.479602  0.523704  0.417550  0.395346   \n",
       "31   STAT1  HLA-DPB1  0.062646  0.131731  0.192951  0.034043  0.049893   \n",
       "32   STAT1     HLA-B  0.203125  0.422160  0.436210  0.245505  0.200778   \n",
       "36   STAT1  HLA-DQB1  0.068854  0.181291  0.171850  0.120890  0.205619   \n",
       "38   STAT1   HLA-DMA  0.187493  0.277224  0.337108  0.204847  0.193781   \n",
       "39   STAT1     HLA-E  0.415500  0.547659  0.587903  0.544207  0.565060   \n",
       "42   STAT1   HLA-DMB  0.298437  0.288740  0.416392  0.234848  0.267389   \n",
       "43   STAT1     HLA-A  0.188168  0.418184  0.408311  0.170221  0.140781   \n",
       "46   STAT1   HLA-DRA  0.107503  0.232326  0.300084  0.147934  0.127569   \n",
       "60   STAT1  HLA-DRB1  0.114734  0.172968  0.257890  0.080329  0.043467   \n",
       "62   NLRC5     HLA-F  0.197429  0.178664  0.241687  0.299618  0.248842   \n",
       "71   NLRC5     HHLA3  0.120052 -0.130527 -0.117905 -0.032829  0.094493   \n",
       "79   NLRC5  HLA-DPA1  0.084510  0.006873  0.032609 -0.016317  0.028087   \n",
       "89   NLRC5     HHLA2  0.231085  0.106180 -0.054964  0.110838 -0.164576   \n",
       "90   NLRC5     HLA-C  0.190341  0.083176  0.130417  0.151485  0.245687   \n",
       "92   NLRC5  HLA-DPB1 -0.075684 -0.056828 -0.017471 -0.103757  0.019734   \n",
       "93   NLRC5     HLA-B  0.198176  0.108512  0.127861  0.127195  0.148245   \n",
       "97   NLRC5  HLA-DQB1  0.004746  0.108485  0.084061  0.188908  0.170853   \n",
       "99   NLRC5   HLA-DMA -0.190765 -0.135171 -0.067817  0.003569 -0.037771   \n",
       "100  NLRC5     HLA-E  0.166883  0.212384  0.208305  0.376620  0.396884   \n",
       "103  NLRC5   HLA-DMB -0.129595  0.085471  0.143694  0.040933 -0.177974   \n",
       "104  NLRC5     HLA-A  0.099576  0.150488  0.177150  0.060328  0.074868   \n",
       "107  NLRC5   HLA-DRA -0.018603 -0.092499 -0.052940 -0.037078  0.061722   \n",
       "121  NLRC5  HLA-DRB1  0.086834 -0.010963  0.034700 -0.026179  0.041418   \n",
       "\n",
       "      time_48  \n",
       "1    0.360325  \n",
       "10   0.029474  \n",
       "18   0.068821  \n",
       "28  -0.202323  \n",
       "29   0.318277  \n",
       "31   0.052291  \n",
       "32   0.155493  \n",
       "36   0.072791  \n",
       "38   0.197933  \n",
       "39   0.525930  \n",
       "42   0.166237  \n",
       "43   0.114049  \n",
       "46   0.103952  \n",
       "60   0.024518  \n",
       "62   0.213754  \n",
       "71  -0.029470  \n",
       "79  -0.026830  \n",
       "89   0.151224  \n",
       "90   0.115918  \n",
       "92  -0.067294  \n",
       "93   0.068416  \n",
       "97   0.037201  \n",
       "99  -0.054007  \n",
       "100  0.290771  \n",
       "103 -0.005533  \n",
       "104  0.013305  \n",
       "107 -0.003174  \n",
       "121  0.000576  "
      ]
     },
     "execution_count": 48,
     "metadata": {},
     "output_type": "execute_result"
    }
   ],
   "source": [
    "moment_df.query('gene_2.str.contains(\"HLA\")',engine='python')"
   ]
  },
  {
   "cell_type": "code",
   "execution_count": 61,
   "metadata": {},
   "outputs": [
    {
     "data": {
      "image/png": "[encoded data removed]",
      "text/plain": [
       "<Figure size 648x144 with 4 Axes>"
      ]
     },
     "metadata": {
      "needs_background": "light"
     },
     "output_type": "display_data"
    }
   ],
   "source": [
    "tf = 'STAT1'\n",
    "plt.figure(figsize=(9,2))\n",
    "plt.subplots_adjust(wspace=0.5)\n",
    "plt.subplot(1, 4, 1);\n",
    "\n",
    "d = mean_df.query('gene.isin([\"HLA-A\", \"HLA-B\", \"HLA-C\", \"B2M\"])', engine='python').values[:,1:]\n",
    "d = d - d[:, 0].reshape(-1,1)\n",
    "plt.plot(d.T, '-o'); plt.ylabel('Relative mean expr')\n",
    "plt.xticks([0, 1, 2, 3, 4, 5], ['0', '3', '6', '9', '24', '48']); plt.xlabel('time (hr)')\n",
    "\n",
    "plt.subplot(1, 4, 2)\n",
    "plt.plot(moment_df.query('gene_1 == \"{}\" & gene_2 in @class1_genes'.format(tf)).values[:, 2:].T, '--o')\n",
    "plt.xticks([0, 1, 2, 3, 4, 5], ['0', '3', '6', '9', '24', '48'])\n",
    "plt.xlabel('Time (hr)'); plt.ylabel('Corr {}'.format(tf))\n",
    "plt.ylim(0, 0.55)\n",
    "plt.legend(moment_df.query('gene_1 == \"{}\" & gene_2 in @class1_genes'.format(tf)).gene_2, frameon=False, ncol=4, bbox_to_anchor=(1.0,1.22))\n",
    "\n",
    "select_isgs = ['MX1','MX2', 'OAS3', 'IFIT3', 'IFI2']\n",
    "plt.subplot(1, 4, 3)\n",
    "d = mean_df.query('gene in @select_isgs', engine='python').values[:,1:]\n",
    "d = d - d[:, 0].reshape(-1,1)\n",
    "for i in range(4):\n",
    "    \n",
    "    plt.plot(d.T[:, i], '-o', color=plt.rcParams['axes.prop_cycle'].by_key()['color'][4+i]); plt.ylabel('Relative mean expr')\n",
    "plt.xticks([0, 1, 2, 3, 4, 5], ['0', '3', '6', '9', '24', '48']); plt.xlabel('time (hr)')\n",
    "\n",
    "\n",
    "plt.subplot(1, 4, 4)\n",
    "for i in range(4):\n",
    "    plt.plot(moment_df.query('gene_1 == \"{}\" & gene_2 in @select_isgs'.format(tf)).values[i, 2:].T, '--o', color=plt.rcParams['axes.prop_cycle'].by_key()['color'][4+i])\n",
    "plt.xticks([0, 1, 2, 3, 4, 5], ['0', '3', '6', '9', '24', '48'])\n",
    "plt.xlabel('Time (hr)'); plt.ylabel('Corr {}'.format(tf))\n",
    "plt.ylim(0.3, 1);\n",
    "plt.legend(moment_df.query('gene_1 == \"{}\" & gene_2 in @select_isgs'.format(tf)).gene_2, frameon=False, ncol=4, bbox_to_anchor=(1.2,1.22))\n",
    "\n",
    "\n",
    "\n",
    "plt.savefig(fig_path + 'mhc_mean_corr.pdf', bbox_inches='tight')"
   ]
  },
  {
   "cell_type": "code",
   "execution_count": 104,
   "metadata": {},
   "outputs": [
    {
     "data": {
      "text/plain": [
       "<matplotlib.legend.Legend at 0x7f3a7ca75d90>"
      ]
     },
     "execution_count": 104,
     "metadata": {},
     "output_type": "execute_result"
    },
    {
     "data": {
      "image/png": "[encoded data removed]",
      "text/plain": [
       "<Figure size 144x144 with 1 Axes>"
      ]
     },
     "metadata": {
      "needs_background": "light"
     },
     "output_type": "display_data"
    }
   ],
   "source": [
    "tf = 'STAT1'\n",
    "select_isgs = ['MX1','MX2', 'OAS3', 'IFIT3', 'IFI2']\n",
    "plt.figure(figsize=(2,2))\n",
    "plt.plot(moment_df.query('gene_1 == \"{}\" & gene_2 in @select_isgs'.format(tf)).values[:, 2:].T, '--o')\n",
    "plt.xticks([0, 1, 2, 3, 4, 5], ['0', '3', '6', '9', '24', '48'])\n",
    "plt.xlabel('Time (hr)'); plt.ylabel('Corr {}'.format(tf))\n",
    "plt.ylim(0.2, 1);\n",
    "plt.legend(moment_df.query('gene_1 == \"{}\" & gene_2 in @select_isgs'.format(tf)).gene_2, frameon=False, ncol=2, bbox_to_anchor=(1,1))\n",
    "\n",
    "\n",
    "# plt.savefig(fig_path + 'mhc_stat1_corr.pdf', bbox_inches='tight')"
   ]
  },
  {
   "cell_type": "code",
   "execution_count": 40,
   "metadata": {},
   "outputs": [
    {
     "data": {
      "image/png": "[encoded data removed]",
      "text/plain": [
       "<Figure size 144x144 with 1 Axes>"
      ]
     },
     "metadata": {
      "needs_background": "light"
     },
     "output_type": "display_data"
    }
   ],
   "source": [
    "tf = 'NFKB2'\n",
    "plt.figure(figsize=(2,2))\n",
    "plt.plot(moment_df.query('gene_1 == \"{}\"'.format(tf)).values[:, 2:].T, '--o')\n",
    "plt.xticks([0, 1, 2, 3, 4, 5], ['0', '3', '6', '9', '24', '48'])\n",
    "plt.xlabel('Time (hr)'); plt.ylabel('Corr {}'.format(tf))\n",
    "plt.savefig(fig_path + 'mhc_corr_NFKB2.pdf', bbox_inches='tight')\n"
   ]
  },
  {
   "cell_type": "code",
   "execution_count": 41,
   "metadata": {},
   "outputs": [
    {
     "data": {
      "image/png": "[encoded data removed]",
      "text/plain": [
       "<Figure size 144x144 with 1 Axes>"
      ]
     },
     "metadata": {
      "needs_background": "light"
     },
     "output_type": "display_data"
    }
   ],
   "source": [
    "tf = 'REL'\n",
    "plt.figure(figsize=(2,2))\n",
    "plt.plot(moment_df.query('gene_1 == \"{}\"'.format(tf)).values[:, 2:].T, '--o')\n",
    "plt.xticks([0, 1, 2, 3, 4, 5], ['0', '3', '6', '9', '24', '48'])\n",
    "plt.xlabel('Time (hr)'); plt.ylabel('Corr {}'.format(tf))\n",
    "plt.savefig(fig_path + 'mhc_corr_REL.pdf', bbox_inches='tight')\n"
   ]
  },
  {
   "cell_type": "code",
   "execution_count": 38,
   "metadata": {},
   "outputs": [
    {
     "data": {
      "text/plain": [
       "Text(0, 0.5, 'Corr RFX5')"
      ]
     },
     "execution_count": 38,
     "metadata": {},
     "output_type": "execute_result"
    },
    {
     "data": {
      "image/png": "[encoded data removed]",
      "text/plain": [
       "<Figure size 144x144 with 1 Axes>"
      ]
     },
     "metadata": {
      "needs_background": "light"
     },
     "output_type": "display_data"
    }
   ],
   "source": [
    "tf = 'RFX5'\n",
    "plt.figure(figsize=(2,2))\n",
    "plt.plot(moment_df.query('gene_1 == \"{}\"'.format(tf)).values[:, 2:].T, '--o')\n",
    "plt.xticks([0, 1, 2, 3, 4, 5], ['0', '3', '6', '9', '24', '48'])\n",
    "plt.xlabel('Time (hr)'); plt.ylabel('Corr {}'.format(tf))"
   ]
  },
  {
   "cell_type": "code",
   "execution_count": 121,
   "metadata": {},
   "outputs": [
    {
     "data": {
      "image/png": "[encoded data removed]",
      "text/plain": [
       "<Figure size 144x144 with 1 Axes>"
      ]
     },
     "metadata": {
      "needs_background": "light"
     },
     "output_type": "display_data"
    }
   ],
   "source": [
    "tf = 'CREB3'\n",
    "plt.figure(figsize=(2,2))\n",
    "plt.plot(moment_df.query('gene_1 == \"{}\"'.format(tf)).values[:, 2:].T, '--o')\n",
    "plt.xticks([0, 1, 2, 3, 4, 5], ['0', '3', '6', '9', '24', '48'])\n",
    "plt.xlabel('Time (hr)'); plt.ylabel('Corr {}'.format(tf))\n",
    "plt.savefig(fig_path + 'mhc_creb3_corr.pdf', bbox_inches='tight')"
   ]
  },
  {
   "cell_type": "code",
   "execution_count": 122,
   "metadata": {},
   "outputs": [
    {
     "data": {
      "image/png": "[encoded data removed]",
      "text/plain": [
       "<Figure size 144x144 with 1 Axes>"
      ]
     },
     "metadata": {
      "needs_background": "light"
     },
     "output_type": "display_data"
    }
   ],
   "source": [
    "tf = 'STAT1'\n",
    "plt.figure(figsize=(2,2))\n",
    "plt.plot(moment_df.query('gene_1 == \"{}\"'.format(tf)).values[:, 2:].T, '--o')\n",
    "plt.xticks([0, 1, 2, 3, 4, 5], ['0', '3', '6', '9', '24', '48'])\n",
    "plt.xlabel('Time (hr)'); plt.ylabel('Corr {}'.format(tf))\n",
    "plt.savefig(fig_path + 'mhc_stat1_corr.pdf', bbox_inches='tight')"
   ]
  },
  {
   "cell_type": "code",
   "execution_count": 242,
   "metadata": {},
   "outputs": [],
   "source": [
    "tf = 'CREB3'"
   ]
  },
  {
   "cell_type": "code",
   "execution_count": 243,
   "metadata": {},
   "outputs": [
    {
     "data": {
      "text/html": [
       "<div>\n",
       "<style scoped>\n",
       "    .dataframe tbody tr th:only-of-type {\n",
       "        vertical-align: middle;\n",
       "    }\n",
       "\n",
       "    .dataframe tbody tr th {\n",
       "        vertical-align: top;\n",
       "    }\n",
       "\n",
       "    .dataframe thead th {\n",
       "        text-align: right;\n",
       "    }\n",
       "</style>\n",
       "<table border=\"1\" class=\"dataframe\">\n",
       "  <thead>\n",
       "    <tr style=\"text-align: right;\">\n",
       "      <th></th>\n",
       "      <th>gene_1</th>\n",
       "      <th>gene_2</th>\n",
       "      <th>time_0</th>\n",
       "      <th>time_3</th>\n",
       "      <th>time_6</th>\n",
       "      <th>time_9</th>\n",
       "      <th>time_24</th>\n",
       "      <th>time_48</th>\n",
       "    </tr>\n",
       "  </thead>\n",
       "  <tbody>\n",
       "    <tr>\n",
       "      <th>828</th>\n",
       "      <td>CREB3</td>\n",
       "      <td>HLA-A</td>\n",
       "      <td>0.092283</td>\n",
       "      <td>0.225511</td>\n",
       "      <td>0.230557</td>\n",
       "      <td>0.079328</td>\n",
       "      <td>0.065209</td>\n",
       "      <td>0.104553</td>\n",
       "    </tr>\n",
       "    <tr>\n",
       "      <th>829</th>\n",
       "      <td>CREB3</td>\n",
       "      <td>HLA-B</td>\n",
       "      <td>0.172263</td>\n",
       "      <td>0.341903</td>\n",
       "      <td>0.307946</td>\n",
       "      <td>0.155191</td>\n",
       "      <td>0.201031</td>\n",
       "      <td>0.159479</td>\n",
       "    </tr>\n",
       "    <tr>\n",
       "      <th>830</th>\n",
       "      <td>CREB3</td>\n",
       "      <td>HLA-C</td>\n",
       "      <td>0.190355</td>\n",
       "      <td>0.365602</td>\n",
       "      <td>0.330579</td>\n",
       "      <td>0.188595</td>\n",
       "      <td>0.240382</td>\n",
       "      <td>0.157265</td>\n",
       "    </tr>\n",
       "    <tr>\n",
       "      <th>831</th>\n",
       "      <td>CREB3</td>\n",
       "      <td>B2M</td>\n",
       "      <td>0.193022</td>\n",
       "      <td>0.443010</td>\n",
       "      <td>0.429344</td>\n",
       "      <td>0.321969</td>\n",
       "      <td>0.269825</td>\n",
       "      <td>0.238096</td>\n",
       "    </tr>\n",
       "  </tbody>\n",
       "</table>\n",
       "</div>"
      ],
      "text/plain": [
       "    gene_1 gene_2    time_0    time_3    time_6    time_9   time_24   time_48\n",
       "828  CREB3  HLA-A  0.092283  0.225511  0.230557  0.079328  0.065209  0.104553\n",
       "829  CREB3  HLA-B  0.172263  0.341903  0.307946  0.155191  0.201031  0.159479\n",
       "830  CREB3  HLA-C  0.190355  0.365602  0.330579  0.188595  0.240382  0.157265\n",
       "831  CREB3    B2M  0.193022  0.443010  0.429344  0.321969  0.269825  0.238096"
      ]
     },
     "execution_count": 243,
     "metadata": {},
     "output_type": "execute_result"
    }
   ],
   "source": [
    "moment_df.query('gene_1 == \"{}\"'.format(tf))"
   ]
  },
  {
   "cell_type": "code",
   "execution_count": 244,
   "metadata": {},
   "outputs": [
    {
     "data": {
      "text/plain": [
       "<matplotlib.legend.Legend at 0x7fa7bf95d4d0>"
      ]
     },
     "execution_count": 244,
     "metadata": {},
     "output_type": "execute_result"
    },
    {
     "data": {
      "image/png": "[encoded data removed]",
      "text/plain": [
       "<Figure size 144x144 with 1 Axes>"
      ]
     },
     "metadata": {
      "needs_background": "light"
     },
     "output_type": "display_data"
    }
   ],
   "source": [
    "tf = 'CREB3'\n",
    "plt.figure(figsize=(2,2))\n",
    "plt.plot(moment_df.query('gene_1 == \"{}\"'.format(tf)).values[:, 2:].T, '-o')\n",
    "plt.xticks([0, 1, 2, 3, 4, 5], ['0', '3', '6', '9', '24', '48'])\n",
    "plt.xlabel('Time (hr)'); plt.ylabel('Corr {}'.format(tf))\n",
    "plt.legend(['HLA-A', 'HLA-B', 'HLA-C', 'B2M'], ncol=4, frameon=False, bbox_to_anchor=(1,1))"
   ]
  },
  {
   "cell_type": "code",
   "execution_count": 245,
   "metadata": {},
   "outputs": [
    {
     "data": {
      "text/plain": [
       "Text(0, 0.5, 'Corr STAT6')"
      ]
     },
     "execution_count": 245,
     "metadata": {},
     "output_type": "execute_result"
    },
    {
     "data": {
      "image/png": "[encoded data removed]",
      "text/plain": [
       "<Figure size 144x144 with 1 Axes>"
      ]
     },
     "metadata": {
      "needs_background": "light"
     },
     "output_type": "display_data"
    }
   ],
   "source": [
    "tf = 'STAT6'\n",
    "plt.figure(figsize=(2,2))\n",
    "plt.plot(moment_df.query('gene_1 == \"{}\"'.format(tf)).values[:, 2:].T, '-o')\n",
    "plt.xticks([0, 1, 2, 3, 4, 5], ['0', '3', '6', '9', '24', '48'])\n",
    "plt.xlabel('Time (hr)'); plt.ylabel('Corr {}'.format(tf))"
   ]
  },
  {
   "cell_type": "code",
   "execution_count": 246,
   "metadata": {},
   "outputs": [
    {
     "data": {
      "text/plain": [
       "Text(0, 0.5, 'Corr JUND')"
      ]
     },
     "execution_count": 246,
     "metadata": {},
     "output_type": "execute_result"
    },
    {
     "data": {
      "image/png": "[encoded data removed]",
      "text/plain": [
       "<Figure size 144x144 with 1 Axes>"
      ]
     },
     "metadata": {
      "needs_background": "light"
     },
     "output_type": "display_data"
    }
   ],
   "source": [
    "tf = 'JUND'\n",
    "plt.figure(figsize=(2,2))\n",
    "plt.plot(moment_df.query('gene_1 == \"{}\"'.format(tf)).values[:, 2:].T, '-o')\n",
    "plt.xticks([0, 1, 2, 3, 4, 5], ['0', '3', '6', '9', '24', '48'])\n",
    "plt.xlabel('Time (hr)'); plt.ylabel('Corr {}'.format(tf))"
   ]
  },
  {
   "cell_type": "code",
   "execution_count": 249,
   "metadata": {},
   "outputs": [
    {
     "data": {
      "text/plain": [
       "Text(0, 0.5, 'Corr ETS2')"
      ]
     },
     "execution_count": 249,
     "metadata": {},
     "output_type": "execute_result"
    },
    {
     "data": {
      "image/png": "[encoded data removed]",
      "text/plain": [
       "<Figure size 144x144 with 1 Axes>"
      ]
     },
     "metadata": {
      "needs_background": "light"
     },
     "output_type": "display_data"
    }
   ],
   "source": [
    "tf = 'ETS2'\n",
    "plt.figure(figsize=(2,2))\n",
    "plt.plot(moment_df.query('gene_1 == \"{}\"'.format(tf)).values[:, 2:].T, '-o')\n",
    "plt.xticks([0, 1, 2, 3, 4, 5], ['0', '3', '6', '9', '24', '48'])\n",
    "plt.xlabel('Time (hr)'); plt.ylabel('Corr {}'.format(tf))"
   ]
  },
  {
   "cell_type": "markdown",
   "metadata": {},
   "source": [
    "### ISG DC analysis - \"positive\" control"
   ]
  },
  {
   "cell_type": "code",
   "execution_count": null,
   "metadata": {},
   "outputs": [],
   "source": [
    "\n",
    "cts = [['ciliated']]\n",
    "tps = ['3', '6', '9', '24', '48']\n",
    "stims = ['alpha', 'beta', 'gamma', 'lambda']\n",
    "\n",
    "\n",
    "for ct in cts:\n",
    "    for tp in tps:\n",
    "        for stim in stims:\n",
    "            \n",
    "#             fname = '{}_{}_{}_{}.h5ad'.format('-'.join(ct), stim, tp, tf)\n",
    "#             if fname in done_files:\n",
    "#                 continue\n",
    "                            \n",
    "            print('starting', ct, tp, stim)\n",
    "\n",
    "            adata_stim = adata.copy()[\n",
    "                adata.obs.cell_type.isin(ct) & \\\n",
    "                adata.obs.stim.isin(['control', stim]) & \\\n",
    "                adata.obs.time.isin(['0',tp]), :].copy()\n",
    "            time_converter={0:0, int(tp):1}\n",
    "            adata_stim.obs['time_step'] = adata_stim.obs['time'].astype(int).apply(lambda x: time_converter[x])\n",
    "\n",
    "            memento.create_groups(adata_stim, label_columns=['time_step', 'donor'])\n",
    "            memento.compute_1d_moments(adata_stim, min_perc_group=.9)\n",
    "            \n",
    "            tf_list = list(set(tfs) & set(adata_stim.var.index))\n",
    "            \n",
    "            gene_list = adata_stim.var.index.tolist()\n",
    "            \n",
    "            memento.compute_2d_moments(adata_stim, list(itertools.product(tf_list, [\"HLA-A\", \"HLA-B\", \"HLA-C\", \"B2M\"])))\n",
    "\n",
    "            moment_df = memento.get_2d_moments(adata_stim, groupby='time_step')\n",
    "            moment_df.to_csv('/data_volume/ifn_hbec/tf_test/moments_{}_{}_{}_mhc1.csv'.format('-'.join(ct), stim, tp), index=False)\n",
    "\n",
    "\n",
    "            memento.ht_2d_moments( \n",
    "                adata_stim, \n",
    "                formula_like='1 + time_step',\n",
    "                cov_column='time_step', \n",
    "                num_boot=10000, \n",
    "                verbose=1,\n",
    "                num_cpus=13)\n",
    "\n",
    "            if 'mv_regressor' in adata_stim.uns['memento']:\n",
    "                del adata_stim.uns['memento']['mv_regressor']\n",
    "            adata_stim.write('/data_volume/ifn_hbec/tf_test/{}_{}_{}_mhc1.h5ad'.format('-'.join(ct), stim, tp))"
   ]
  },
  {
   "cell_type": "markdown",
   "metadata": {},
   "source": [
    "### CHIP analysis"
   ]
  },
  {
   "cell_type": "code",
   "execution_count": 36,
   "metadata": {},
   "outputs": [],
   "source": [
    "tf = 'STAT1'\n",
    "ct = ['ciliated']\n",
    "stim = 'beta'\n",
    "\n",
    "def get_2d_moments_ht(tf, ct, stim):\n",
    "    \n",
    "    adata_stim = adata.copy()[\n",
    "        adata.obs.cell_type.isin(ct) & \\\n",
    "        adata.obs.time.isin(['0', '3']) & \\\n",
    "        adata.obs.stim.isin(['control', stim])].copy()\n",
    "    time_converter={0:0, int('3'):1}\n",
    "    adata_stim.obs['time_step'] = adata_stim.obs['time'].astype(int).apply(lambda x: time_converter[x])\n",
    "\n",
    "    memento.create_groups(adata_stim, label_columns=['time_step', 'donor'])\n",
    "    memento.compute_1d_moments(adata_stim, min_perc_group=.9)\n",
    "    moment_1d_df = memento.get_1d_moments(adata_stim, groupby='time_step')\n",
    "\n",
    "    memento.compute_2d_moments(adata_stim, list(itertools.product([tf], adata_stim.var.index)))\n",
    "\n",
    "    moment_df = memento.get_2d_moments(adata_stim, groupby='time_step')\n",
    "    \n",
    "    memento.ht_2d_moments( \n",
    "        adata_stim, \n",
    "        formula_like='1 + time_step',\n",
    "        cov_column='time_step', \n",
    "        num_boot=10000, \n",
    "        verbose=1,\n",
    "        num_cpus=13)\n",
    "    \n",
    "    ht_df = memento.get_2d_ht_result(adata_stim)\n",
    "    \n",
    "    return moment_df, ht_df"
   ]
  },
  {
   "cell_type": "code",
   "execution_count": 37,
   "metadata": {},
   "outputs": [
    {
     "name": "stderr",
     "output_type": "stream",
     "text": [
      "[Parallel(n_jobs=13)]: Using backend LokyBackend with 13 concurrent workers.\n",
      "[Parallel(n_jobs=13)]: Done  24 tasks      | elapsed:    9.3s\n",
      "[Parallel(n_jobs=13)]: Done 174 tasks      | elapsed:   35.5s\n",
      "[Parallel(n_jobs=13)]: Done 424 tasks      | elapsed:  1.3min\n",
      "[Parallel(n_jobs=13)]: Done 774 tasks      | elapsed:  2.4min\n",
      "[Parallel(n_jobs=13)]: Done 1224 tasks      | elapsed:  3.6min\n",
      "[Parallel(n_jobs=13)]: Done 1774 tasks      | elapsed:  5.2min\n",
      "[Parallel(n_jobs=13)]: Done 2424 tasks      | elapsed:  7.1min\n",
      "[Parallel(n_jobs=13)]: Done 3174 tasks      | elapsed:  9.2min\n",
      "[Parallel(n_jobs=13)]: Done 4024 tasks      | elapsed: 11.6min\n",
      "[Parallel(n_jobs=13)]: Done 4974 tasks      | elapsed: 14.3min\n",
      "[Parallel(n_jobs=13)]: Done 6024 tasks      | elapsed: 17.3min\n",
      "[Parallel(n_jobs=13)]: Done 7174 tasks      | elapsed: 20.6min\n",
      "[Parallel(n_jobs=13)]: Done 8424 tasks      | elapsed: 24.2min\n",
      "[Parallel(n_jobs=13)]: Done 9641 out of 9641 | elapsed: 27.6min finished\n"
     ]
    }
   ],
   "source": [
    "beta_df, beta_ht_df = get_2d_moments_ht(tf, ct, stim)"
   ]
  },
  {
   "cell_type": "code",
   "execution_count": 39,
   "metadata": {},
   "outputs": [],
   "source": [
    "beta_ht_df['isgf3'] = beta_ht_df.gene_2.apply(lambda x: 'in TSS' if x in isgf3_genes else 'rest')"
   ]
  },
  {
   "cell_type": "code",
   "execution_count": 40,
   "metadata": {},
   "outputs": [
    {
     "data": {
      "text/html": [
       "<div>\n",
       "<style scoped>\n",
       "    .dataframe tbody tr th:only-of-type {\n",
       "        vertical-align: middle;\n",
       "    }\n",
       "\n",
       "    .dataframe tbody tr th {\n",
       "        vertical-align: top;\n",
       "    }\n",
       "\n",
       "    .dataframe thead th {\n",
       "        text-align: right;\n",
       "    }\n",
       "</style>\n",
       "<table border=\"1\" class=\"dataframe\">\n",
       "  <thead>\n",
       "    <tr style=\"text-align: right;\">\n",
       "      <th></th>\n",
       "      <th>gene_1</th>\n",
       "      <th>gene_2</th>\n",
       "      <th>corr_coef</th>\n",
       "      <th>corr_se</th>\n",
       "      <th>corr_pval</th>\n",
       "      <th>isgf3</th>\n",
       "    </tr>\n",
       "  </thead>\n",
       "  <tbody>\n",
       "    <tr>\n",
       "      <th>0</th>\n",
       "      <td>STAT1</td>\n",
       "      <td>LINC01409</td>\n",
       "      <td>-0.232706</td>\n",
       "      <td>0.272895</td>\n",
       "      <td>0.398760</td>\n",
       "      <td>rest</td>\n",
       "    </tr>\n",
       "    <tr>\n",
       "      <th>1</th>\n",
       "      <td>STAT1</td>\n",
       "      <td>NOC2L</td>\n",
       "      <td>-0.026243</td>\n",
       "      <td>0.215634</td>\n",
       "      <td>0.892411</td>\n",
       "      <td>rest</td>\n",
       "    </tr>\n",
       "    <tr>\n",
       "      <th>2</th>\n",
       "      <td>STAT1</td>\n",
       "      <td>HES4</td>\n",
       "      <td>0.299789</td>\n",
       "      <td>0.093080</td>\n",
       "      <td>0.002000</td>\n",
       "      <td>rest</td>\n",
       "    </tr>\n",
       "    <tr>\n",
       "      <th>3</th>\n",
       "      <td>STAT1</td>\n",
       "      <td>ISG15</td>\n",
       "      <td>-0.064089</td>\n",
       "      <td>0.070980</td>\n",
       "      <td>0.360664</td>\n",
       "      <td>in TSS</td>\n",
       "    </tr>\n",
       "    <tr>\n",
       "      <th>4</th>\n",
       "      <td>STAT1</td>\n",
       "      <td>AGRN</td>\n",
       "      <td>-0.012531</td>\n",
       "      <td>0.166157</td>\n",
       "      <td>0.937506</td>\n",
       "      <td>rest</td>\n",
       "    </tr>\n",
       "  </tbody>\n",
       "</table>\n",
       "</div>"
      ],
      "text/plain": [
       "  gene_1     gene_2  corr_coef   corr_se  corr_pval   isgf3\n",
       "0  STAT1  LINC01409  -0.232706  0.272895   0.398760    rest\n",
       "1  STAT1      NOC2L  -0.026243  0.215634   0.892411    rest\n",
       "2  STAT1       HES4   0.299789  0.093080   0.002000    rest\n",
       "3  STAT1      ISG15  -0.064089  0.070980   0.360664  in TSS\n",
       "4  STAT1       AGRN  -0.012531  0.166157   0.937506    rest"
      ]
     },
     "execution_count": 40,
     "metadata": {},
     "output_type": "execute_result"
    }
   ],
   "source": [
    "beta_ht_df.head(5)"
   ]
  },
  {
   "cell_type": "code",
   "execution_count": 41,
   "metadata": {},
   "outputs": [
    {
     "name": "stderr",
     "output_type": "stream",
     "text": [
      "No handles with labels found to put in legend.\n"
     ]
    },
    {
     "data": {
      "text/plain": [
       "<matplotlib.legend.Legend at 0x7f2ae3f26650>"
      ]
     },
     "execution_count": 41,
     "metadata": {},
     "output_type": "execute_result"
    },
    {
     "data": {
      "image/png": "[encoded data removed]",
      "text/plain": [
       "<Figure size 180x216 with 1 Axes>"
      ]
     },
     "metadata": {
      "needs_background": "light"
     },
     "output_type": "display_data"
    }
   ],
   "source": [
    "plt.figure(figsize=(2.5, 3))\n",
    "sns.boxplot(x='isgf3', y='corr_coef', data=beta_ht_df.sort_values('isgf3'), palette='Set2')\n",
    "\n",
    "plt.xlabel('Cell type'); plt.ylabel('Change in variability');\n",
    "plt.legend(loc='upper center', ncol=2, bbox_to_anchor=(0.5, 1.15))\n",
    "# plt.ylim(-.8, 0.6)\n",
    "# plt.savefig(fig_path + 'isgf3_vs_rest.pdf', bbox_inches='tight')\n",
    "\n"
   ]
  },
  {
   "cell_type": "code",
   "execution_count": null,
   "metadata": {},
   "outputs": [],
   "source": []
  }
 ],
 "metadata": {
  "kernelspec": {
   "display_name": "Python 3",
   "language": "python",
   "name": "python3"
  },
  "language_info": {
   "codemirror_mode": {
    "name": "ipython",
    "version": 3
   },
   "file_extension": ".py",
   "mimetype": "text/x-python",
   "name": "python",
   "nbconvert_exporter": "python",
   "pygments_lexer": "ipython3",
   "version": "3.8.8"
  }
 },
 "nbformat": 4,
 "nbformat_minor": 4
}
