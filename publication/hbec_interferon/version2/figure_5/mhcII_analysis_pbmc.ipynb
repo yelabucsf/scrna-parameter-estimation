{
 "cells": [
  {
   "cell_type": "markdown",
   "metadata": {},
   "source": [
    "# MHC II Analysis - PBMCs"
   ]
  },
  {
   "cell_type": "code",
   "execution_count": 1,
   "metadata": {},
   "outputs": [],
   "source": [
    "import scanpy as sc\n",
    "import seaborn as sns\n",
    "import pandas as pd\n",
    "import matplotlib.pyplot as plt\n",
    "import numpy as np\n",
    "import scipy.stats as stats\n",
    "from pybedtools import BedTool\n",
    "import pickle as pkl\n",
    "import itertools\n",
    "%matplotlib inline"
   ]
  },
  {
   "cell_type": "code",
   "execution_count": 2,
   "metadata": {},
   "outputs": [],
   "source": [
    "import matplotlib\n",
    "matplotlib.rcParams['pdf.fonttype'] = 42\n",
    "matplotlib.rcParams['ps.fonttype'] = 42"
   ]
  },
  {
   "cell_type": "code",
   "execution_count": 3,
   "metadata": {},
   "outputs": [],
   "source": [
    "import sys\n",
    "sys.path.append('/home/ssm-user/Github/scrna-parameter-estimation/dist/memento-0.0.5-py3.8.egg')\n",
    "sys.path.append('/home/ssm-user/Github/misc-seq/miscseq/')\n",
    "import encode\n",
    "import memento"
   ]
  },
  {
   "cell_type": "code",
   "execution_count": 4,
   "metadata": {},
   "outputs": [],
   "source": [
    "data_path = '/data_volume/parameter_estimation/'\n",
    "fig_path = '/home/ssm-user/Github/scrna-parameter-estimation/figures/fig5/supp/'"
   ]
  },
  {
   "cell_type": "markdown",
   "metadata": {},
   "source": [
    "### Read PBMC data"
   ]
  },
  {
   "cell_type": "code",
   "execution_count": 5,
   "metadata": {},
   "outputs": [],
   "source": [
    "adata = sc.read(data_path + 'interferon_filtered.h5ad')"
   ]
  },
  {
   "cell_type": "code",
   "execution_count": 6,
   "metadata": {},
   "outputs": [],
   "source": [
    "adata.obs['q'] = 0.07"
   ]
  },
  {
   "cell_type": "code",
   "execution_count": 7,
   "metadata": {},
   "outputs": [],
   "source": [
    "memento.setup_memento(adata, q_column='q', trim_percent=0.15)"
   ]
  },
  {
   "cell_type": "markdown",
   "metadata": {},
   "source": [
    "### Check correlations in ctrl"
   ]
  },
  {
   "cell_type": "code",
   "execution_count": 8,
   "metadata": {},
   "outputs": [
    {
     "name": "stderr",
     "output_type": "stream",
     "text": [
      "/home/ssm-user/anaconda3/envs/single_cell/lib/python3.8/site-packages/pandas/core/arrays/categorical.py:2487: FutureWarning: The `inplace` parameter in pandas.Categorical.remove_unused_categories is deprecated and will be removed in a future version.\n",
      "  res = method(*args, **kwargs)\n",
      "/home/ssm-user/Github/scrna-parameter-estimation/dist/memento-0.0.5-py3.8.egg/memento/estimator.py:105: RuntimeWarning: invalid value encountered in log\n"
     ]
    }
   ],
   "source": [
    "adata_cm = adata.copy()[(adata.obs['stim']=='ctrl')].copy()\n",
    "memento.create_groups(adata_cm, label_columns=['cell', 'ind'])\n",
    "memento.compute_1d_moments(adata_cm, min_perc_group=.1)\n",
    "\n",
    "# adata_ctrl = adata.copy()[(adata.obs['cell']=='B cells') & (adata.obs['stim']=='ctrl')].copy()"
   ]
  },
  {
   "cell_type": "code",
   "execution_count": 9,
   "metadata": {},
   "outputs": [
    {
     "name": "stderr",
     "output_type": "stream",
     "text": [
      "/home/ssm-user/Github/scrna-parameter-estimation/dist/memento-0.0.5-py3.8.egg/memento/main.py:503: RuntimeWarning: divide by zero encountered in log\n"
     ]
    }
   ],
   "source": [
    "canonical_isgs = pd.read_csv('alpha_beta_reactome.txt', header=None)[0].tolist()\n",
    "m, v, count = memento.get_1d_moments(adata_cm)\n",
    "mhc_genes = m.query('gene.str.contains(\"HLA\")', engine='python').gene.tolist()\n",
    "tf_list = ['STAT1']\n",
    "\n",
    "gene_list = adata_cm.var.index.tolist()\n",
    "isgs = list(set(canonical_isgs) & set(gene_list))\n",
    "target_list = list(set(isgs) | set(mhc_genes))\n",
    "\n",
    "memento.compute_2d_moments(adata_cm, list(itertools.product(tf_list,target_list)))"
   ]
  },
  {
   "cell_type": "code",
   "execution_count": 10,
   "metadata": {},
   "outputs": [
    {
     "name": "stderr",
     "output_type": "stream",
     "text": [
      "/home/ssm-user/Github/scrna-parameter-estimation/dist/memento-0.0.5-py3.8.egg/memento/main.py:594: RuntimeWarning: invalid value encountered in true_divide\n"
     ]
    }
   ],
   "source": [
    "corr_df = memento.get_2d_moments(adata_cm, groupby='cell')"
   ]
  },
  {
   "cell_type": "code",
   "execution_count": 11,
   "metadata": {},
   "outputs": [
    {
     "data": {
      "text/html": [
       "<div>\n",
       "<style scoped>\n",
       "    .dataframe tbody tr th:only-of-type {\n",
       "        vertical-align: middle;\n",
       "    }\n",
       "\n",
       "    .dataframe tbody tr th {\n",
       "        vertical-align: top;\n",
       "    }\n",
       "\n",
       "    .dataframe thead th {\n",
       "        text-align: right;\n",
       "    }\n",
       "</style>\n",
       "<table border=\"1\" class=\"dataframe\">\n",
       "  <thead>\n",
       "    <tr style=\"text-align: right;\">\n",
       "      <th></th>\n",
       "      <th>gene_1</th>\n",
       "      <th>gene_2</th>\n",
       "      <th>cell_CD14+ Monocytes</th>\n",
       "      <th>cell_CD4 T cells</th>\n",
       "      <th>cell_Dendritic cells</th>\n",
       "      <th>cell_NK cells</th>\n",
       "      <th>cell_CD8 T cells</th>\n",
       "      <th>cell_B cells</th>\n",
       "      <th>cell_Megakaryocytes</th>\n",
       "      <th>cell_FCGR3A+ Monocytes</th>\n",
       "    </tr>\n",
       "  </thead>\n",
       "  <tbody>\n",
       "    <tr>\n",
       "      <th>3</th>\n",
       "      <td>STAT1</td>\n",
       "      <td>HLA-DPA1</td>\n",
       "      <td>0.069061</td>\n",
       "      <td>0.146106</td>\n",
       "      <td>0.182006</td>\n",
       "      <td>-0.411293</td>\n",
       "      <td>-0.242331</td>\n",
       "      <td>-0.005565</td>\n",
       "      <td>NaN</td>\n",
       "      <td>0.270204</td>\n",
       "    </tr>\n",
       "    <tr>\n",
       "      <th>9</th>\n",
       "      <td>STAT1</td>\n",
       "      <td>HLA-DPB1</td>\n",
       "      <td>0.119397</td>\n",
       "      <td>-0.076472</td>\n",
       "      <td>0.211969</td>\n",
       "      <td>-0.587241</td>\n",
       "      <td>0.039380</td>\n",
       "      <td>-0.032718</td>\n",
       "      <td>NaN</td>\n",
       "      <td>0.095988</td>\n",
       "    </tr>\n",
       "    <tr>\n",
       "      <th>10</th>\n",
       "      <td>STAT1</td>\n",
       "      <td>HLA-DMB</td>\n",
       "      <td>0.193191</td>\n",
       "      <td>-0.069538</td>\n",
       "      <td>-0.608875</td>\n",
       "      <td>-0.118302</td>\n",
       "      <td>-0.200678</td>\n",
       "      <td>-0.216025</td>\n",
       "      <td>NaN</td>\n",
       "      <td>0.218615</td>\n",
       "    </tr>\n",
       "    <tr>\n",
       "      <th>13</th>\n",
       "      <td>STAT1</td>\n",
       "      <td>HLA-B</td>\n",
       "      <td>0.180865</td>\n",
       "      <td>-0.006442</td>\n",
       "      <td>0.353930</td>\n",
       "      <td>-0.150519</td>\n",
       "      <td>-0.285914</td>\n",
       "      <td>0.010734</td>\n",
       "      <td>NaN</td>\n",
       "      <td>0.214343</td>\n",
       "    </tr>\n",
       "    <tr>\n",
       "      <th>21</th>\n",
       "      <td>STAT1</td>\n",
       "      <td>HLA-DQB1</td>\n",
       "      <td>0.105888</td>\n",
       "      <td>-0.033801</td>\n",
       "      <td>-0.046723</td>\n",
       "      <td>0.090748</td>\n",
       "      <td>-0.180967</td>\n",
       "      <td>-0.028554</td>\n",
       "      <td>-0.722863</td>\n",
       "      <td>0.183925</td>\n",
       "    </tr>\n",
       "    <tr>\n",
       "      <th>28</th>\n",
       "      <td>STAT1</td>\n",
       "      <td>HLA-E</td>\n",
       "      <td>0.099373</td>\n",
       "      <td>0.081797</td>\n",
       "      <td>0.070313</td>\n",
       "      <td>0.113519</td>\n",
       "      <td>-0.315341</td>\n",
       "      <td>0.011046</td>\n",
       "      <td>NaN</td>\n",
       "      <td>0.408868</td>\n",
       "    </tr>\n",
       "    <tr>\n",
       "      <th>29</th>\n",
       "      <td>STAT1</td>\n",
       "      <td>HLA-C</td>\n",
       "      <td>0.189044</td>\n",
       "      <td>0.012883</td>\n",
       "      <td>0.442121</td>\n",
       "      <td>-0.291310</td>\n",
       "      <td>0.015086</td>\n",
       "      <td>0.228568</td>\n",
       "      <td>NaN</td>\n",
       "      <td>0.159190</td>\n",
       "    </tr>\n",
       "    <tr>\n",
       "      <th>30</th>\n",
       "      <td>STAT1</td>\n",
       "      <td>HLA-F</td>\n",
       "      <td>-0.049730</td>\n",
       "      <td>0.098285</td>\n",
       "      <td>0.023920</td>\n",
       "      <td>-0.196293</td>\n",
       "      <td>-0.281097</td>\n",
       "      <td>-0.057653</td>\n",
       "      <td>NaN</td>\n",
       "      <td>0.280191</td>\n",
       "    </tr>\n",
       "    <tr>\n",
       "      <th>32</th>\n",
       "      <td>STAT1</td>\n",
       "      <td>HLA-DQA1</td>\n",
       "      <td>-0.000644</td>\n",
       "      <td>0.004220</td>\n",
       "      <td>0.009162</td>\n",
       "      <td>-0.217684</td>\n",
       "      <td>-0.260113</td>\n",
       "      <td>-0.226691</td>\n",
       "      <td>NaN</td>\n",
       "      <td>0.173869</td>\n",
       "    </tr>\n",
       "    <tr>\n",
       "      <th>34</th>\n",
       "      <td>STAT1</td>\n",
       "      <td>HLA-DRB1</td>\n",
       "      <td>0.117338</td>\n",
       "      <td>-0.025285</td>\n",
       "      <td>-0.068708</td>\n",
       "      <td>-0.325163</td>\n",
       "      <td>-0.135141</td>\n",
       "      <td>-0.159775</td>\n",
       "      <td>-0.311850</td>\n",
       "      <td>0.221571</td>\n",
       "    </tr>\n",
       "    <tr>\n",
       "      <th>35</th>\n",
       "      <td>STAT1</td>\n",
       "      <td>HLA-A</td>\n",
       "      <td>0.099390</td>\n",
       "      <td>0.009236</td>\n",
       "      <td>-0.008121</td>\n",
       "      <td>-0.294438</td>\n",
       "      <td>0.318452</td>\n",
       "      <td>-0.163797</td>\n",
       "      <td>NaN</td>\n",
       "      <td>0.211881</td>\n",
       "    </tr>\n",
       "    <tr>\n",
       "      <th>37</th>\n",
       "      <td>STAT1</td>\n",
       "      <td>HLA-DMA</td>\n",
       "      <td>0.015886</td>\n",
       "      <td>-0.131794</td>\n",
       "      <td>-0.077264</td>\n",
       "      <td>-0.243667</td>\n",
       "      <td>-0.209970</td>\n",
       "      <td>-0.200508</td>\n",
       "      <td>NaN</td>\n",
       "      <td>0.254453</td>\n",
       "    </tr>\n",
       "    <tr>\n",
       "      <th>41</th>\n",
       "      <td>STAT1</td>\n",
       "      <td>HLA-DRB5</td>\n",
       "      <td>-0.138030</td>\n",
       "      <td>NaN</td>\n",
       "      <td>-0.497513</td>\n",
       "      <td>-0.296610</td>\n",
       "      <td>-0.101851</td>\n",
       "      <td>-0.255492</td>\n",
       "      <td>NaN</td>\n",
       "      <td>-0.147024</td>\n",
       "    </tr>\n",
       "    <tr>\n",
       "      <th>49</th>\n",
       "      <td>STAT1</td>\n",
       "      <td>HLA-DRA</td>\n",
       "      <td>0.027425</td>\n",
       "      <td>-0.047481</td>\n",
       "      <td>0.254241</td>\n",
       "      <td>-0.206835</td>\n",
       "      <td>-0.228933</td>\n",
       "      <td>-0.077388</td>\n",
       "      <td>-0.903816</td>\n",
       "      <td>0.244707</td>\n",
       "    </tr>\n",
       "  </tbody>\n",
       "</table>\n",
       "</div>"
      ],
      "text/plain": [
       "   gene_1    gene_2  cell_CD14+ Monocytes  cell_CD4 T cells  \\\n",
       "3   STAT1  HLA-DPA1              0.069061          0.146106   \n",
       "9   STAT1  HLA-DPB1              0.119397         -0.076472   \n",
       "10  STAT1   HLA-DMB              0.193191         -0.069538   \n",
       "13  STAT1     HLA-B              0.180865         -0.006442   \n",
       "21  STAT1  HLA-DQB1              0.105888         -0.033801   \n",
       "28  STAT1     HLA-E              0.099373          0.081797   \n",
       "29  STAT1     HLA-C              0.189044          0.012883   \n",
       "30  STAT1     HLA-F             -0.049730          0.098285   \n",
       "32  STAT1  HLA-DQA1             -0.000644          0.004220   \n",
       "34  STAT1  HLA-DRB1              0.117338         -0.025285   \n",
       "35  STAT1     HLA-A              0.099390          0.009236   \n",
       "37  STAT1   HLA-DMA              0.015886         -0.131794   \n",
       "41  STAT1  HLA-DRB5             -0.138030               NaN   \n",
       "49  STAT1   HLA-DRA              0.027425         -0.047481   \n",
       "\n",
       "    cell_Dendritic cells  cell_NK cells  cell_CD8 T cells  cell_B cells  \\\n",
       "3               0.182006      -0.411293         -0.242331     -0.005565   \n",
       "9               0.211969      -0.587241          0.039380     -0.032718   \n",
       "10             -0.608875      -0.118302         -0.200678     -0.216025   \n",
       "13              0.353930      -0.150519         -0.285914      0.010734   \n",
       "21             -0.046723       0.090748         -0.180967     -0.028554   \n",
       "28              0.070313       0.113519         -0.315341      0.011046   \n",
       "29              0.442121      -0.291310          0.015086      0.228568   \n",
       "30              0.023920      -0.196293         -0.281097     -0.057653   \n",
       "32              0.009162      -0.217684         -0.260113     -0.226691   \n",
       "34             -0.068708      -0.325163         -0.135141     -0.159775   \n",
       "35             -0.008121      -0.294438          0.318452     -0.163797   \n",
       "37             -0.077264      -0.243667         -0.209970     -0.200508   \n",
       "41             -0.497513      -0.296610         -0.101851     -0.255492   \n",
       "49              0.254241      -0.206835         -0.228933     -0.077388   \n",
       "\n",
       "    cell_Megakaryocytes  cell_FCGR3A+ Monocytes  \n",
       "3                   NaN                0.270204  \n",
       "9                   NaN                0.095988  \n",
       "10                  NaN                0.218615  \n",
       "13                  NaN                0.214343  \n",
       "21            -0.722863                0.183925  \n",
       "28                  NaN                0.408868  \n",
       "29                  NaN                0.159190  \n",
       "30                  NaN                0.280191  \n",
       "32                  NaN                0.173869  \n",
       "34            -0.311850                0.221571  \n",
       "35                  NaN                0.211881  \n",
       "37                  NaN                0.254453  \n",
       "41                  NaN               -0.147024  \n",
       "49            -0.903816                0.244707  "
      ]
     },
     "execution_count": 11,
     "metadata": {},
     "output_type": "execute_result"
    }
   ],
   "source": [
    "corr_df.query('gene_2.str.contains(\"HLA\")',engine='python')"
   ]
  },
  {
   "cell_type": "markdown",
   "metadata": {},
   "source": [
    "### Check correlations in stim"
   ]
  },
  {
   "cell_type": "code",
   "execution_count": 12,
   "metadata": {},
   "outputs": [
    {
     "name": "stderr",
     "output_type": "stream",
     "text": [
      "/home/ssm-user/anaconda3/envs/single_cell/lib/python3.8/site-packages/pandas/core/arrays/categorical.py:2487: FutureWarning: The `inplace` parameter in pandas.Categorical.remove_unused_categories is deprecated and will be removed in a future version.\n",
      "  res = method(*args, **kwargs)\n",
      "/home/ssm-user/Github/scrna-parameter-estimation/dist/memento-0.0.5-py3.8.egg/memento/estimator.py:105: RuntimeWarning: invalid value encountered in log\n"
     ]
    }
   ],
   "source": [
    "adata_cm = adata.copy()[(adata.obs['stim']=='stim') & (adata.obs['cell'] != 'Megakaryocytes')].copy()\n",
    "memento.create_groups(adata_cm, label_columns=['cell', 'ind'])\n",
    "memento.compute_1d_moments(adata_cm, min_perc_group=.7)\n",
    "\n",
    "# adata_ctrl = adata.copy()[(adata.obs['cell']=='B cells') & (adata.obs['stim']=='ctrl')].copy()"
   ]
  },
  {
   "cell_type": "code",
   "execution_count": 13,
   "metadata": {},
   "outputs": [
    {
     "name": "stderr",
     "output_type": "stream",
     "text": [
      "/home/ssm-user/Github/scrna-parameter-estimation/dist/memento-0.0.5-py3.8.egg/memento/main.py:503: RuntimeWarning: divide by zero encountered in log\n"
     ]
    }
   ],
   "source": [
    "canonical_isgs = pd.read_csv('alpha_beta_reactome.txt', header=None)[0].tolist()\n",
    "m, v, count = memento.get_1d_moments(adata_cm)\n",
    "mhc_genes = m.query('gene.str.contains(\"HLA\")', engine='python').gene.tolist()\n",
    "tf_list = ['STAT1']\n",
    "\n",
    "gene_list = adata_cm.var.index.tolist()\n",
    "isgs = list(set(canonical_isgs) & set(gene_list))\n",
    "target_list = list(set(isgs) | set(mhc_genes))\n",
    "\n",
    "memento.compute_2d_moments(adata_cm, list(itertools.product(tf_list,target_list)))"
   ]
  },
  {
   "cell_type": "code",
   "execution_count": 14,
   "metadata": {},
   "outputs": [
    {
     "name": "stderr",
     "output_type": "stream",
     "text": [
      "/home/ssm-user/Github/scrna-parameter-estimation/dist/memento-0.0.5-py3.8.egg/memento/main.py:530: RuntimeWarning: divide by zero encountered in log\n"
     ]
    }
   ],
   "source": [
    "corr_df = memento.get_2d_moments(adata_cm, groupby='cell')\n",
    "m,v = memento.get_1d_moments(adata_cm, groupby='cell')"
   ]
  },
  {
   "cell_type": "code",
   "execution_count": 15,
   "metadata": {},
   "outputs": [
    {
     "data": {
      "text/html": [
       "<div>\n",
       "<style scoped>\n",
       "    .dataframe tbody tr th:only-of-type {\n",
       "        vertical-align: middle;\n",
       "    }\n",
       "\n",
       "    .dataframe tbody tr th {\n",
       "        vertical-align: top;\n",
       "    }\n",
       "\n",
       "    .dataframe thead th {\n",
       "        text-align: right;\n",
       "    }\n",
       "</style>\n",
       "<table border=\"1\" class=\"dataframe\">\n",
       "  <thead>\n",
       "    <tr style=\"text-align: right;\">\n",
       "      <th></th>\n",
       "      <th>gene</th>\n",
       "      <th>cell_CD8 T cells</th>\n",
       "      <th>cell_Dendritic cells</th>\n",
       "      <th>cell_B cells</th>\n",
       "      <th>cell_CD4 T cells</th>\n",
       "      <th>cell_CD14+ Monocytes</th>\n",
       "      <th>cell_NK cells</th>\n",
       "      <th>cell_FCGR3A+ Monocytes</th>\n",
       "    </tr>\n",
       "  </thead>\n",
       "  <tbody>\n",
       "    <tr>\n",
       "      <th>306</th>\n",
       "      <td>HLA-F</td>\n",
       "      <td>-1.155140</td>\n",
       "      <td>-0.347444</td>\n",
       "      <td>-0.923359</td>\n",
       "      <td>-1.461501</td>\n",
       "      <td>-0.844249</td>\n",
       "      <td>-0.871257</td>\n",
       "      <td>-0.798681</td>\n",
       "    </tr>\n",
       "    <tr>\n",
       "      <th>307</th>\n",
       "      <td>HLA-A</td>\n",
       "      <td>2.178473</td>\n",
       "      <td>2.342418</td>\n",
       "      <td>1.714625</td>\n",
       "      <td>1.583445</td>\n",
       "      <td>2.149060</td>\n",
       "      <td>2.346927</td>\n",
       "      <td>2.166732</td>\n",
       "    </tr>\n",
       "    <tr>\n",
       "      <th>309</th>\n",
       "      <td>HLA-E</td>\n",
       "      <td>0.866054</td>\n",
       "      <td>1.167788</td>\n",
       "      <td>0.949017</td>\n",
       "      <td>0.727872</td>\n",
       "      <td>1.596299</td>\n",
       "      <td>1.040408</td>\n",
       "      <td>1.775812</td>\n",
       "    </tr>\n",
       "    <tr>\n",
       "      <th>310</th>\n",
       "      <td>HLA-C</td>\n",
       "      <td>2.095116</td>\n",
       "      <td>2.115056</td>\n",
       "      <td>1.707152</td>\n",
       "      <td>1.603496</td>\n",
       "      <td>2.162966</td>\n",
       "      <td>2.214723</td>\n",
       "      <td>2.428875</td>\n",
       "    </tr>\n",
       "    <tr>\n",
       "      <th>311</th>\n",
       "      <td>HLA-B</td>\n",
       "      <td>2.727857</td>\n",
       "      <td>2.969411</td>\n",
       "      <td>2.470843</td>\n",
       "      <td>2.332077</td>\n",
       "      <td>2.867328</td>\n",
       "      <td>2.973980</td>\n",
       "      <td>3.085056</td>\n",
       "    </tr>\n",
       "    <tr>\n",
       "      <th>318</th>\n",
       "      <td>HLA-DRA</td>\n",
       "      <td>-1.460603</td>\n",
       "      <td>3.534289</td>\n",
       "      <td>1.881845</td>\n",
       "      <td>-2.575710</td>\n",
       "      <td>2.307166</td>\n",
       "      <td>-2.093049</td>\n",
       "      <td>2.190138</td>\n",
       "    </tr>\n",
       "    <tr>\n",
       "      <th>319</th>\n",
       "      <td>HLA-DRB1</td>\n",
       "      <td>-1.227123</td>\n",
       "      <td>2.745907</td>\n",
       "      <td>1.180589</td>\n",
       "      <td>-3.159411</td>\n",
       "      <td>1.721767</td>\n",
       "      <td>-2.504372</td>\n",
       "      <td>1.659924</td>\n",
       "    </tr>\n",
       "    <tr>\n",
       "      <th>324</th>\n",
       "      <td>HLA-DPA1</td>\n",
       "      <td>-0.641770</td>\n",
       "      <td>2.485667</td>\n",
       "      <td>0.835182</td>\n",
       "      <td>-2.741526</td>\n",
       "      <td>0.904189</td>\n",
       "      <td>-1.613005</td>\n",
       "      <td>1.511497</td>\n",
       "    </tr>\n",
       "    <tr>\n",
       "      <th>325</th>\n",
       "      <td>HLA-DPB1</td>\n",
       "      <td>-0.718992</td>\n",
       "      <td>2.557333</td>\n",
       "      <td>0.724470</td>\n",
       "      <td>-2.927207</td>\n",
       "      <td>0.850228</td>\n",
       "      <td>-inf</td>\n",
       "      <td>1.154075</td>\n",
       "    </tr>\n",
       "  </tbody>\n",
       "</table>\n",
       "</div>"
      ],
      "text/plain": [
       "         gene  cell_CD8 T cells  cell_Dendritic cells  cell_B cells  \\\n",
       "306     HLA-F         -1.155140             -0.347444     -0.923359   \n",
       "307     HLA-A          2.178473              2.342418      1.714625   \n",
       "309     HLA-E          0.866054              1.167788      0.949017   \n",
       "310     HLA-C          2.095116              2.115056      1.707152   \n",
       "311     HLA-B          2.727857              2.969411      2.470843   \n",
       "318   HLA-DRA         -1.460603              3.534289      1.881845   \n",
       "319  HLA-DRB1         -1.227123              2.745907      1.180589   \n",
       "324  HLA-DPA1         -0.641770              2.485667      0.835182   \n",
       "325  HLA-DPB1         -0.718992              2.557333      0.724470   \n",
       "\n",
       "     cell_CD4 T cells  cell_CD14+ Monocytes  cell_NK cells  \\\n",
       "306         -1.461501             -0.844249      -0.871257   \n",
       "307          1.583445              2.149060       2.346927   \n",
       "309          0.727872              1.596299       1.040408   \n",
       "310          1.603496              2.162966       2.214723   \n",
       "311          2.332077              2.867328       2.973980   \n",
       "318         -2.575710              2.307166      -2.093049   \n",
       "319         -3.159411              1.721767      -2.504372   \n",
       "324         -2.741526              0.904189      -1.613005   \n",
       "325         -2.927207              0.850228           -inf   \n",
       "\n",
       "     cell_FCGR3A+ Monocytes  \n",
       "306               -0.798681  \n",
       "307                2.166732  \n",
       "309                1.775812  \n",
       "310                2.428875  \n",
       "311                3.085056  \n",
       "318                2.190138  \n",
       "319                1.659924  \n",
       "324                1.511497  \n",
       "325                1.154075  "
      ]
     },
     "execution_count": 15,
     "metadata": {},
     "output_type": "execute_result"
    }
   ],
   "source": [
    "m.query('gene.str.contains(\"HLA\")',engine='python')"
   ]
  },
  {
   "cell_type": "code",
   "execution_count": 16,
   "metadata": {},
   "outputs": [
    {
     "data": {
      "text/html": [
       "<div>\n",
       "<style scoped>\n",
       "    .dataframe tbody tr th:only-of-type {\n",
       "        vertical-align: middle;\n",
       "    }\n",
       "\n",
       "    .dataframe tbody tr th {\n",
       "        vertical-align: top;\n",
       "    }\n",
       "\n",
       "    .dataframe thead th {\n",
       "        text-align: right;\n",
       "    }\n",
       "</style>\n",
       "<table border=\"1\" class=\"dataframe\">\n",
       "  <thead>\n",
       "    <tr style=\"text-align: right;\">\n",
       "      <th></th>\n",
       "      <th>gene_1</th>\n",
       "      <th>gene_2</th>\n",
       "      <th>cell_CD8 T cells</th>\n",
       "      <th>cell_Dendritic cells</th>\n",
       "      <th>cell_B cells</th>\n",
       "      <th>cell_CD4 T cells</th>\n",
       "      <th>cell_CD14+ Monocytes</th>\n",
       "      <th>cell_NK cells</th>\n",
       "      <th>cell_FCGR3A+ Monocytes</th>\n",
       "    </tr>\n",
       "  </thead>\n",
       "  <tbody>\n",
       "    <tr>\n",
       "      <th>2</th>\n",
       "      <td>STAT1</td>\n",
       "      <td>HLA-DPA1</td>\n",
       "      <td>0.224252</td>\n",
       "      <td>0.213291</td>\n",
       "      <td>-0.017443</td>\n",
       "      <td>-0.059433</td>\n",
       "      <td>0.311922</td>\n",
       "      <td>-0.136445</td>\n",
       "      <td>0.325672</td>\n",
       "    </tr>\n",
       "    <tr>\n",
       "      <th>7</th>\n",
       "      <td>STAT1</td>\n",
       "      <td>HLA-DPB1</td>\n",
       "      <td>-0.131407</td>\n",
       "      <td>0.191700</td>\n",
       "      <td>0.060609</td>\n",
       "      <td>0.091125</td>\n",
       "      <td>0.274068</td>\n",
       "      <td>-0.201758</td>\n",
       "      <td>0.288081</td>\n",
       "    </tr>\n",
       "    <tr>\n",
       "      <th>10</th>\n",
       "      <td>STAT1</td>\n",
       "      <td>HLA-B</td>\n",
       "      <td>0.038526</td>\n",
       "      <td>0.394709</td>\n",
       "      <td>0.192743</td>\n",
       "      <td>0.029687</td>\n",
       "      <td>0.257439</td>\n",
       "      <td>-0.021627</td>\n",
       "      <td>0.278283</td>\n",
       "    </tr>\n",
       "    <tr>\n",
       "      <th>21</th>\n",
       "      <td>STAT1</td>\n",
       "      <td>HLA-E</td>\n",
       "      <td>0.224480</td>\n",
       "      <td>0.065491</td>\n",
       "      <td>0.155813</td>\n",
       "      <td>0.332431</td>\n",
       "      <td>0.169523</td>\n",
       "      <td>0.411146</td>\n",
       "      <td>0.087006</td>\n",
       "    </tr>\n",
       "    <tr>\n",
       "      <th>22</th>\n",
       "      <td>STAT1</td>\n",
       "      <td>HLA-C</td>\n",
       "      <td>0.023150</td>\n",
       "      <td>0.446285</td>\n",
       "      <td>0.247702</td>\n",
       "      <td>0.065309</td>\n",
       "      <td>0.201466</td>\n",
       "      <td>0.186270</td>\n",
       "      <td>0.118161</td>\n",
       "    </tr>\n",
       "    <tr>\n",
       "      <th>23</th>\n",
       "      <td>STAT1</td>\n",
       "      <td>HLA-F</td>\n",
       "      <td>-0.015957</td>\n",
       "      <td>0.083617</td>\n",
       "      <td>0.056698</td>\n",
       "      <td>-0.050838</td>\n",
       "      <td>0.298841</td>\n",
       "      <td>-0.315902</td>\n",
       "      <td>0.183207</td>\n",
       "    </tr>\n",
       "    <tr>\n",
       "      <th>26</th>\n",
       "      <td>STAT1</td>\n",
       "      <td>HLA-DRB1</td>\n",
       "      <td>0.070426</td>\n",
       "      <td>0.288451</td>\n",
       "      <td>-0.109267</td>\n",
       "      <td>0.075244</td>\n",
       "      <td>0.303495</td>\n",
       "      <td>-0.085422</td>\n",
       "      <td>0.358461</td>\n",
       "    </tr>\n",
       "    <tr>\n",
       "      <th>27</th>\n",
       "      <td>STAT1</td>\n",
       "      <td>HLA-A</td>\n",
       "      <td>0.223860</td>\n",
       "      <td>0.410130</td>\n",
       "      <td>0.079662</td>\n",
       "      <td>0.088731</td>\n",
       "      <td>0.284724</td>\n",
       "      <td>-0.023092</td>\n",
       "      <td>0.212232</td>\n",
       "    </tr>\n",
       "    <tr>\n",
       "      <th>38</th>\n",
       "      <td>STAT1</td>\n",
       "      <td>HLA-DRA</td>\n",
       "      <td>0.108290</td>\n",
       "      <td>0.325824</td>\n",
       "      <td>-0.045490</td>\n",
       "      <td>-0.050904</td>\n",
       "      <td>0.287271</td>\n",
       "      <td>-0.274294</td>\n",
       "      <td>0.388253</td>\n",
       "    </tr>\n",
       "  </tbody>\n",
       "</table>\n",
       "</div>"
      ],
      "text/plain": [
       "   gene_1    gene_2  cell_CD8 T cells  cell_Dendritic cells  cell_B cells  \\\n",
       "2   STAT1  HLA-DPA1          0.224252              0.213291     -0.017443   \n",
       "7   STAT1  HLA-DPB1         -0.131407              0.191700      0.060609   \n",
       "10  STAT1     HLA-B          0.038526              0.394709      0.192743   \n",
       "21  STAT1     HLA-E          0.224480              0.065491      0.155813   \n",
       "22  STAT1     HLA-C          0.023150              0.446285      0.247702   \n",
       "23  STAT1     HLA-F         -0.015957              0.083617      0.056698   \n",
       "26  STAT1  HLA-DRB1          0.070426              0.288451     -0.109267   \n",
       "27  STAT1     HLA-A          0.223860              0.410130      0.079662   \n",
       "38  STAT1   HLA-DRA          0.108290              0.325824     -0.045490   \n",
       "\n",
       "    cell_CD4 T cells  cell_CD14+ Monocytes  cell_NK cells  \\\n",
       "2          -0.059433              0.311922      -0.136445   \n",
       "7           0.091125              0.274068      -0.201758   \n",
       "10          0.029687              0.257439      -0.021627   \n",
       "21          0.332431              0.169523       0.411146   \n",
       "22          0.065309              0.201466       0.186270   \n",
       "23         -0.050838              0.298841      -0.315902   \n",
       "26          0.075244              0.303495      -0.085422   \n",
       "27          0.088731              0.284724      -0.023092   \n",
       "38         -0.050904              0.287271      -0.274294   \n",
       "\n",
       "    cell_FCGR3A+ Monocytes  \n",
       "2                 0.325672  \n",
       "7                 0.288081  \n",
       "10                0.278283  \n",
       "21                0.087006  \n",
       "22                0.118161  \n",
       "23                0.183207  \n",
       "26                0.358461  \n",
       "27                0.212232  \n",
       "38                0.388253  "
      ]
     },
     "execution_count": 16,
     "metadata": {},
     "output_type": "execute_result"
    }
   ],
   "source": [
    "corr_df.query('gene_2.str.contains(\"HLA\")',engine='python')"
   ]
  },
  {
   "cell_type": "markdown",
   "metadata": {},
   "source": [
    "### Make boxplots"
   ]
  },
  {
   "cell_type": "code",
   "execution_count": 17,
   "metadata": {},
   "outputs": [],
   "source": [
    "corr_df, counts = memento.get_2d_moments(adata_cm)\n"
   ]
  },
  {
   "cell_type": "code",
   "execution_count": 18,
   "metadata": {},
   "outputs": [],
   "source": [
    "def classify(g):\n",
    "    \n",
    "    if g in ['HLA-A', 'HLA-B', 'HLA-C']:\n",
    "        return 'type1'\n",
    "    elif len(g) > 5 and 'HLA' in g:\n",
    "        return 'type2'\n",
    "    elif 'HLA' in g:\n",
    "        return 'Misc HLA'\n",
    "    else:\n",
    "        return 'ISG'"
   ]
  },
  {
   "cell_type": "code",
   "execution_count": 19,
   "metadata": {},
   "outputs": [],
   "source": [
    "order = dict(zip(['cM', 'ncM', 'DC', 'B','Tc', 'Th', 'NK','Mega'], range(8)))"
   ]
  },
  {
   "cell_type": "code",
   "execution_count": 20,
   "metadata": {},
   "outputs": [],
   "source": [
    "cts = ['CD4 T cells',  'CD14+ Monocytes', 'FCGR3A+ Monocytes', 'NK cells','CD8 T cells', 'B cells', 'Dendritic cells', 'Megakaryocytes']\n",
    "label_converter = dict(zip(cts, ['Th', 'cM', 'ncM', 'NK', 'Tc', 'B', 'DC', 'Mega']))\n",
    "\n",
    "long_df = []\n",
    "for col in corr_df.columns[2:]:\n",
    "    \n",
    "    df = corr_df[['gene_1', 'gene_2']].copy()\n",
    "    df['corr'] = corr_df[col]\n",
    "    df['ct'] = label_converter[col.split('^')[1]]\n",
    "    df['ind'] = col.split('^')[2]\n",
    "    long_df.append(df)\n",
    "    \n",
    "long_df = pd.concat(long_df)\n",
    "\n",
    "long_df =long_df.sort_values('ct', key=lambda x: x.map(order))\n",
    "long_df['type'] = [classify(g) for g in long_df.gene_2]"
   ]
  },
  {
   "cell_type": "code",
   "execution_count": 21,
   "metadata": {},
   "outputs": [],
   "source": [
    "long_df['gene'] = long_df['gene_2']"
   ]
  },
  {
   "cell_type": "code",
   "execution_count": 23,
   "metadata": {},
   "outputs": [
    {
     "data": {
      "image/png": "[encoded data removed]",
      "text/plain": [
       "<Figure size 720x216 with 2 Axes>"
      ]
     },
     "metadata": {
      "needs_background": "light"
     },
     "output_type": "display_data"
    }
   ],
   "source": [
    "plt.figure(figsize=(10, 3))\n",
    "plt.subplot(1, 2, 1)\n",
    "dat = long_df.query('type==\"type1\"', engine='python')\n",
    "plt.plot([-0.5, 7.5], [0, 0], '--', lw=3, c='k')\n",
    "sns.boxplot(x='ct', y='corr', hue='gene',data=dat)\n",
    "plt.subplot(1, 2, 2)\n",
    "dat = long_df.query('type==\"type2\"', engine='python')\n",
    "plt.plot([-0.5, 7.5], [0, 0], '--', lw=3, c='k')\n",
    "sns.boxplot(x='ct', y='corr', hue='gene',data=dat)\n",
    "\n",
    "plt.savefig(fig_path + 'mhc_mean_corr_pbmc.pdf', bbox_inches='tight')"
   ]
  },
  {
   "cell_type": "code",
   "execution_count": 134,
   "metadata": {},
   "outputs": [
    {
     "data": {
      "text/plain": [
       "<AxesSubplot:xlabel='ct', ylabel='corr'>"
      ]
     },
     "execution_count": 134,
     "metadata": {},
     "output_type": "execute_result"
    },
    {
     "data": {
      "image/png": "[encoded data removed]",
      "text/plain": [
       "<Figure size 432x288 with 1 Axes>"
      ]
     },
     "metadata": {
      "needs_background": "light"
     },
     "output_type": "display_data"
    }
   ],
   "source": [
    "dat = long_df_mhc.query('type==\"type2\"', engine='python')\n",
    "plt.plot([-0.5, 7.5], [0, 0], '--', lw=3, c='k')\n",
    "sns.boxplot(x='ct', y='corr', hue='gene_2',data=dat)\n",
    "# sns.stripplot(x='ct', y='corr', data=dat)\n"
   ]
  },
  {
   "cell_type": "code",
   "execution_count": 135,
   "metadata": {},
   "outputs": [
    {
     "data": {
      "text/plain": [
       "<AxesSubplot:xlabel='ct', ylabel='corr'>"
      ]
     },
     "execution_count": 135,
     "metadata": {},
     "output_type": "execute_result"
    },
    {
     "data": {
      "image/png": "[encoded data removed]",
      "text/plain": [
       "<Figure size 432x288 with 1 Axes>"
      ]
     },
     "metadata": {
      "needs_background": "light"
     },
     "output_type": "display_data"
    }
   ],
   "source": [
    "dat = long_df_mhc.query('type==\"type2\"', engine='python')\n",
    "plt.plot([-0.5, 7.5], [0, 0], '--', lw=3, c='k')\n",
    "sns.boxplot(x='ct', y='corr',data=dat)\n",
    "# sns.stripplot(x='ct', y='corr', data=dat)\n"
   ]
  },
  {
   "cell_type": "code",
   "execution_count": 70,
   "metadata": {},
   "outputs": [
    {
     "data": {
      "text/plain": [
       "<AxesSubplot:xlabel='ct', ylabel='corr'>"
      ]
     },
     "execution_count": 70,
     "metadata": {},
     "output_type": "execute_result"
    },
    {
     "data": {
      "image/png": "[encoded data removed]",
      "text/plain": [
       "<Figure size 432x288 with 1 Axes>"
      ]
     },
     "metadata": {
      "needs_background": "light"
     },
     "output_type": "display_data"
    }
   ],
   "source": [
    "sns.boxplot(x='ct', y='corr', data=long_df.query('gene_2 == \"HLA-A\"').sort_values('ct', key=lambda x: x.map(order)))"
   ]
  },
  {
   "cell_type": "code",
   "execution_count": 53,
   "metadata": {},
   "outputs": [
    {
     "data": {
      "text/html": [
       "<div>\n",
       "<style scoped>\n",
       "    .dataframe tbody tr th:only-of-type {\n",
       "        vertical-align: middle;\n",
       "    }\n",
       "\n",
       "    .dataframe tbody tr th {\n",
       "        vertical-align: top;\n",
       "    }\n",
       "\n",
       "    .dataframe thead th {\n",
       "        text-align: right;\n",
       "    }\n",
       "</style>\n",
       "<table border=\"1\" class=\"dataframe\">\n",
       "  <thead>\n",
       "    <tr style=\"text-align: right;\">\n",
       "      <th></th>\n",
       "      <th>gene_1</th>\n",
       "      <th>gene_2</th>\n",
       "      <th>corr</th>\n",
       "      <th>ct</th>\n",
       "      <th>ind</th>\n",
       "    </tr>\n",
       "  </thead>\n",
       "  <tbody>\n",
       "    <tr>\n",
       "      <th>0</th>\n",
       "      <td>STAT1</td>\n",
       "      <td>IRF9</td>\n",
       "      <td>0.000000</td>\n",
       "      <td>CD8 T cells</td>\n",
       "      <td>101</td>\n",
       "    </tr>\n",
       "    <tr>\n",
       "      <th>1</th>\n",
       "      <td>STAT1</td>\n",
       "      <td>OASL</td>\n",
       "      <td>0.062618</td>\n",
       "      <td>CD8 T cells</td>\n",
       "      <td>101</td>\n",
       "    </tr>\n",
       "    <tr>\n",
       "      <th>2</th>\n",
       "      <td>STAT1</td>\n",
       "      <td>BST2</td>\n",
       "      <td>-0.690986</td>\n",
       "      <td>CD8 T cells</td>\n",
       "      <td>101</td>\n",
       "    </tr>\n",
       "    <tr>\n",
       "      <th>3</th>\n",
       "      <td>STAT1</td>\n",
       "      <td>HLA-DPA1</td>\n",
       "      <td>0.925834</td>\n",
       "      <td>CD8 T cells</td>\n",
       "      <td>101</td>\n",
       "    </tr>\n",
       "    <tr>\n",
       "      <th>4</th>\n",
       "      <td>STAT1</td>\n",
       "      <td>HLA-E</td>\n",
       "      <td>0.179389</td>\n",
       "      <td>CD8 T cells</td>\n",
       "      <td>101</td>\n",
       "    </tr>\n",
       "    <tr>\n",
       "      <th>5</th>\n",
       "      <td>STAT1</td>\n",
       "      <td>HLA-F</td>\n",
       "      <td>0.161079</td>\n",
       "      <td>CD8 T cells</td>\n",
       "      <td>101</td>\n",
       "    </tr>\n",
       "    <tr>\n",
       "      <th>6</th>\n",
       "      <td>STAT1</td>\n",
       "      <td>IFI27</td>\n",
       "      <td>-0.163841</td>\n",
       "      <td>CD8 T cells</td>\n",
       "      <td>101</td>\n",
       "    </tr>\n",
       "    <tr>\n",
       "      <th>7</th>\n",
       "      <td>STAT1</td>\n",
       "      <td>RSAD2</td>\n",
       "      <td>-0.294392</td>\n",
       "      <td>CD8 T cells</td>\n",
       "      <td>101</td>\n",
       "    </tr>\n",
       "    <tr>\n",
       "      <th>8</th>\n",
       "      <td>STAT1</td>\n",
       "      <td>OAS1</td>\n",
       "      <td>-0.447615</td>\n",
       "      <td>CD8 T cells</td>\n",
       "      <td>101</td>\n",
       "    </tr>\n",
       "    <tr>\n",
       "      <th>9</th>\n",
       "      <td>STAT1</td>\n",
       "      <td>GBP2</td>\n",
       "      <td>0.018208</td>\n",
       "      <td>CD8 T cells</td>\n",
       "      <td>101</td>\n",
       "    </tr>\n",
       "  </tbody>\n",
       "</table>\n",
       "</div>"
      ],
      "text/plain": [
       "  gene_1    gene_2      corr           ct  ind\n",
       "0  STAT1      IRF9  0.000000  CD8 T cells  101\n",
       "1  STAT1      OASL  0.062618  CD8 T cells  101\n",
       "2  STAT1      BST2 -0.690986  CD8 T cells  101\n",
       "3  STAT1  HLA-DPA1  0.925834  CD8 T cells  101\n",
       "4  STAT1     HLA-E  0.179389  CD8 T cells  101\n",
       "5  STAT1     HLA-F  0.161079  CD8 T cells  101\n",
       "6  STAT1     IFI27 -0.163841  CD8 T cells  101\n",
       "7  STAT1     RSAD2 -0.294392  CD8 T cells  101\n",
       "8  STAT1      OAS1 -0.447615  CD8 T cells  101\n",
       "9  STAT1      GBP2  0.018208  CD8 T cells  101"
      ]
     },
     "execution_count": 53,
     "metadata": {},
     "output_type": "execute_result"
    }
   ],
   "source": [
    "long_df.head(10)"
   ]
  },
  {
   "cell_type": "markdown",
   "metadata": {},
   "source": [
    "### Get difference in STAT1 correlations"
   ]
  },
  {
   "cell_type": "code",
   "execution_count": 29,
   "metadata": {},
   "outputs": [
    {
     "name": "stderr",
     "output_type": "stream",
     "text": [
      "/home/ssm-user/anaconda3/envs/single_cell/lib/python3.8/site-packages/pandas/core/arrays/categorical.py:2487: FutureWarning: The `inplace` parameter in pandas.Categorical.remove_unused_categories is deprecated and will be removed in a future version.\n",
      "  res = method(*args, **kwargs)\n"
     ]
    }
   ],
   "source": [
    "adata_cm = adata.copy()[(adata.obs['cell']=='CD14+ Monocytes')].copy()"
   ]
  },
  {
   "cell_type": "code",
   "execution_count": 30,
   "metadata": {},
   "outputs": [],
   "source": [
    "memento.create_groups(adata_cm, label_columns=['stim'])"
   ]
  },
  {
   "cell_type": "code",
   "execution_count": 31,
   "metadata": {},
   "outputs": [],
   "source": [
    "memento.compute_1d_moments(adata_cm, min_perc_group=.7)"
   ]
  },
  {
   "cell_type": "code",
   "execution_count": 32,
   "metadata": {},
   "outputs": [],
   "source": [
    "m, v, count = memento.get_1d_moments(adata_cm)"
   ]
  },
  {
   "cell_type": "code",
   "execution_count": 33,
   "metadata": {},
   "outputs": [],
   "source": [
    "canonical_isgs = pd.read_csv('alpha_beta_reactome.txt', header=None)[0].tolist()\n",
    "m, v, count = memento.get_1d_moments(adata_cm)\n",
    "mhc_genes = m.query('gene.str.contains(\"HLA\")', engine='python').gene.tolist()\n",
    "tf_list = ['STAT1']\n",
    "\n",
    "gene_list = adata_cm.var.index.tolist()\n",
    "isgs = list(set(canonical_isgs) & set(gene_list))\n",
    "target_list = list(set(isgs) | set(mhc_genes))\n",
    "\n",
    "memento.compute_2d_moments(adata_cm, list(itertools.product(tf_list,target_list)))"
   ]
  },
  {
   "cell_type": "code",
   "execution_count": 34,
   "metadata": {},
   "outputs": [
    {
     "name": "stderr",
     "output_type": "stream",
     "text": [
      "[Parallel(n_jobs=13)]: Using backend LokyBackend with 13 concurrent workers.\n",
      "[Parallel(n_jobs=13)]: Done  41 out of  41 | elapsed:   11.8s finished\n"
     ]
    }
   ],
   "source": [
    "memento.ht_2d_moments( \n",
    "    adata_cm, \n",
    "    formula_like='1 + stim',\n",
    "    cov_column='stim', \n",
    "    num_boot=20000, \n",
    "    verbose=1,\n",
    "    num_cpus=13)"
   ]
  },
  {
   "cell_type": "code",
   "execution_count": 35,
   "metadata": {},
   "outputs": [
    {
     "name": "stderr",
     "output_type": "stream",
     "text": [
      "/home/ssm-user/Github/scrna-parameter-estimation/dist/memento-0.0.5-py3.8.egg/memento/main.py:594: RuntimeWarning: invalid value encountered in true_divide\n",
      "  groupby_corr[key] /= groupby_corr_count[key]\n"
     ]
    }
   ],
   "source": [
    "corr_df = memento.get_2d_moments(adata_cm, groupby='stim')"
   ]
  },
  {
   "cell_type": "code",
   "execution_count": 36,
   "metadata": {},
   "outputs": [],
   "source": [
    "a = memento.get_2d_ht_result(adata_cm)"
   ]
  },
  {
   "cell_type": "code",
   "execution_count": 37,
   "metadata": {},
   "outputs": [
    {
     "data": {
      "text/html": [
       "<div>\n",
       "<style scoped>\n",
       "    .dataframe tbody tr th:only-of-type {\n",
       "        vertical-align: middle;\n",
       "    }\n",
       "\n",
       "    .dataframe tbody tr th {\n",
       "        vertical-align: top;\n",
       "    }\n",
       "\n",
       "    .dataframe thead th {\n",
       "        text-align: right;\n",
       "    }\n",
       "</style>\n",
       "<table border=\"1\" class=\"dataframe\">\n",
       "  <thead>\n",
       "    <tr style=\"text-align: right;\">\n",
       "      <th></th>\n",
       "      <th>gene_1</th>\n",
       "      <th>gene_2</th>\n",
       "      <th>corr_coef</th>\n",
       "      <th>corr_se</th>\n",
       "      <th>corr_pval</th>\n",
       "    </tr>\n",
       "  </thead>\n",
       "  <tbody>\n",
       "    <tr>\n",
       "      <th>0</th>\n",
       "      <td>STAT1</td>\n",
       "      <td>IRF9</td>\n",
       "      <td>0.030395</td>\n",
       "      <td>0.118365</td>\n",
       "      <td>0.782661</td>\n",
       "    </tr>\n",
       "    <tr>\n",
       "      <th>1</th>\n",
       "      <td>STAT1</td>\n",
       "      <td>OASL</td>\n",
       "      <td>-0.018557</td>\n",
       "      <td>0.083808</td>\n",
       "      <td>0.820359</td>\n",
       "    </tr>\n",
       "    <tr>\n",
       "      <th>2</th>\n",
       "      <td>STAT1</td>\n",
       "      <td>BST2</td>\n",
       "      <td>0.150295</td>\n",
       "      <td>0.097275</td>\n",
       "      <td>0.122044</td>\n",
       "    </tr>\n",
       "    <tr>\n",
       "      <th>3</th>\n",
       "      <td>STAT1</td>\n",
       "      <td>HLA-DPA1</td>\n",
       "      <td>0.189959</td>\n",
       "      <td>0.066252</td>\n",
       "      <td>0.004400</td>\n",
       "    </tr>\n",
       "    <tr>\n",
       "      <th>4</th>\n",
       "      <td>STAT1</td>\n",
       "      <td>HLA-E</td>\n",
       "      <td>0.078201</td>\n",
       "      <td>0.087720</td>\n",
       "      <td>0.369232</td>\n",
       "    </tr>\n",
       "    <tr>\n",
       "      <th>5</th>\n",
       "      <td>STAT1</td>\n",
       "      <td>HLA-F</td>\n",
       "      <td>0.264111</td>\n",
       "      <td>0.107493</td>\n",
       "      <td>0.015499</td>\n",
       "    </tr>\n",
       "    <tr>\n",
       "      <th>6</th>\n",
       "      <td>STAT1</td>\n",
       "      <td>IFI27</td>\n",
       "      <td>0.030003</td>\n",
       "      <td>0.101622</td>\n",
       "      <td>0.793360</td>\n",
       "    </tr>\n",
       "    <tr>\n",
       "      <th>7</th>\n",
       "      <td>STAT1</td>\n",
       "      <td>HLA-DMA</td>\n",
       "      <td>0.234203</td>\n",
       "      <td>0.076193</td>\n",
       "      <td>0.003150</td>\n",
       "    </tr>\n",
       "    <tr>\n",
       "      <th>8</th>\n",
       "      <td>STAT1</td>\n",
       "      <td>RSAD2</td>\n",
       "      <td>0.225102</td>\n",
       "      <td>0.065451</td>\n",
       "      <td>0.002300</td>\n",
       "    </tr>\n",
       "    <tr>\n",
       "      <th>9</th>\n",
       "      <td>STAT1</td>\n",
       "      <td>OAS1</td>\n",
       "      <td>0.214891</td>\n",
       "      <td>0.089420</td>\n",
       "      <td>0.017799</td>\n",
       "    </tr>\n",
       "    <tr>\n",
       "      <th>10</th>\n",
       "      <td>STAT1</td>\n",
       "      <td>GBP2</td>\n",
       "      <td>-0.136116</td>\n",
       "      <td>0.143470</td>\n",
       "      <td>0.339883</td>\n",
       "    </tr>\n",
       "    <tr>\n",
       "      <th>11</th>\n",
       "      <td>STAT1</td>\n",
       "      <td>IFIT3</td>\n",
       "      <td>0.223623</td>\n",
       "      <td>0.071726</td>\n",
       "      <td>0.004200</td>\n",
       "    </tr>\n",
       "    <tr>\n",
       "      <th>12</th>\n",
       "      <td>STAT1</td>\n",
       "      <td>HLA-DPB1</td>\n",
       "      <td>0.107794</td>\n",
       "      <td>0.067271</td>\n",
       "      <td>0.111344</td>\n",
       "    </tr>\n",
       "    <tr>\n",
       "      <th>13</th>\n",
       "      <td>STAT1</td>\n",
       "      <td>JAK1</td>\n",
       "      <td>-0.020771</td>\n",
       "      <td>0.112168</td>\n",
       "      <td>0.850207</td>\n",
       "    </tr>\n",
       "    <tr>\n",
       "      <th>14</th>\n",
       "      <td>STAT1</td>\n",
       "      <td>MX1</td>\n",
       "      <td>0.260882</td>\n",
       "      <td>0.084933</td>\n",
       "      <td>0.003600</td>\n",
       "    </tr>\n",
       "    <tr>\n",
       "      <th>15</th>\n",
       "      <td>STAT1</td>\n",
       "      <td>XAF1</td>\n",
       "      <td>-0.010047</td>\n",
       "      <td>0.114123</td>\n",
       "      <td>0.930903</td>\n",
       "    </tr>\n",
       "    <tr>\n",
       "      <th>16</th>\n",
       "      <td>STAT1</td>\n",
       "      <td>IFNAR1</td>\n",
       "      <td>0.246617</td>\n",
       "      <td>0.147821</td>\n",
       "      <td>0.094195</td>\n",
       "    </tr>\n",
       "    <tr>\n",
       "      <th>17</th>\n",
       "      <td>STAT1</td>\n",
       "      <td>HLA-DQA1</td>\n",
       "      <td>0.234064</td>\n",
       "      <td>0.068103</td>\n",
       "      <td>0.000700</td>\n",
       "    </tr>\n",
       "    <tr>\n",
       "      <th>18</th>\n",
       "      <td>STAT1</td>\n",
       "      <td>HLA-A</td>\n",
       "      <td>0.218620</td>\n",
       "      <td>0.072455</td>\n",
       "      <td>0.003250</td>\n",
       "    </tr>\n",
       "    <tr>\n",
       "      <th>19</th>\n",
       "      <td>STAT1</td>\n",
       "      <td>IRF2</td>\n",
       "      <td>0.331600</td>\n",
       "      <td>0.114217</td>\n",
       "      <td>0.004950</td>\n",
       "    </tr>\n",
       "    <tr>\n",
       "      <th>20</th>\n",
       "      <td>STAT1</td>\n",
       "      <td>ISG15</td>\n",
       "      <td>0.185013</td>\n",
       "      <td>0.058104</td>\n",
       "      <td>0.002450</td>\n",
       "    </tr>\n",
       "    <tr>\n",
       "      <th>21</th>\n",
       "      <td>STAT1</td>\n",
       "      <td>HLA-DMB</td>\n",
       "      <td>-0.023620</td>\n",
       "      <td>0.104481</td>\n",
       "      <td>0.804010</td>\n",
       "    </tr>\n",
       "    <tr>\n",
       "      <th>22</th>\n",
       "      <td>STAT1</td>\n",
       "      <td>IFI6</td>\n",
       "      <td>0.201140</td>\n",
       "      <td>0.077401</td>\n",
       "      <td>0.010149</td>\n",
       "    </tr>\n",
       "    <tr>\n",
       "      <th>23</th>\n",
       "      <td>STAT1</td>\n",
       "      <td>PTPN6</td>\n",
       "      <td>-0.099233</td>\n",
       "      <td>0.149797</td>\n",
       "      <td>0.510624</td>\n",
       "    </tr>\n",
       "    <tr>\n",
       "      <th>24</th>\n",
       "      <td>STAT1</td>\n",
       "      <td>HLA-B</td>\n",
       "      <td>0.093934</td>\n",
       "      <td>0.065141</td>\n",
       "      <td>0.151242</td>\n",
       "    </tr>\n",
       "    <tr>\n",
       "      <th>25</th>\n",
       "      <td>STAT1</td>\n",
       "      <td>SOCS3</td>\n",
       "      <td>0.047541</td>\n",
       "      <td>0.062910</td>\n",
       "      <td>0.443278</td>\n",
       "    </tr>\n",
       "    <tr>\n",
       "      <th>26</th>\n",
       "      <td>STAT1</td>\n",
       "      <td>HLA-C</td>\n",
       "      <td>-0.014712</td>\n",
       "      <td>0.080376</td>\n",
       "      <td>0.856857</td>\n",
       "    </tr>\n",
       "    <tr>\n",
       "      <th>27</th>\n",
       "      <td>STAT1</td>\n",
       "      <td>STAT1</td>\n",
       "      <td>NaN</td>\n",
       "      <td>NaN</td>\n",
       "      <td>NaN</td>\n",
       "    </tr>\n",
       "    <tr>\n",
       "      <th>28</th>\n",
       "      <td>STAT1</td>\n",
       "      <td>IRF7</td>\n",
       "      <td>0.076312</td>\n",
       "      <td>0.092739</td>\n",
       "      <td>0.401830</td>\n",
       "    </tr>\n",
       "    <tr>\n",
       "      <th>29</th>\n",
       "      <td>STAT1</td>\n",
       "      <td>HLA-DRA</td>\n",
       "      <td>0.227114</td>\n",
       "      <td>0.054213</td>\n",
       "      <td>0.000477</td>\n",
       "    </tr>\n",
       "    <tr>\n",
       "      <th>30</th>\n",
       "      <td>STAT1</td>\n",
       "      <td>HLA-DQB1</td>\n",
       "      <td>0.036101</td>\n",
       "      <td>0.085006</td>\n",
       "      <td>0.666467</td>\n",
       "    </tr>\n",
       "    <tr>\n",
       "      <th>31</th>\n",
       "      <td>STAT1</td>\n",
       "      <td>HLA-DRB1</td>\n",
       "      <td>0.141771</td>\n",
       "      <td>0.068084</td>\n",
       "      <td>0.037398</td>\n",
       "    </tr>\n",
       "    <tr>\n",
       "      <th>32</th>\n",
       "      <td>STAT1</td>\n",
       "      <td>SAMHD1</td>\n",
       "      <td>0.055256</td>\n",
       "      <td>0.118979</td>\n",
       "      <td>0.624069</td>\n",
       "    </tr>\n",
       "    <tr>\n",
       "      <th>33</th>\n",
       "      <td>STAT1</td>\n",
       "      <td>IRF1</td>\n",
       "      <td>0.047119</td>\n",
       "      <td>0.087627</td>\n",
       "      <td>0.595670</td>\n",
       "    </tr>\n",
       "    <tr>\n",
       "      <th>34</th>\n",
       "      <td>STAT1</td>\n",
       "      <td>HLA-DRB5</td>\n",
       "      <td>0.119744</td>\n",
       "      <td>0.072945</td>\n",
       "      <td>0.102895</td>\n",
       "    </tr>\n",
       "    <tr>\n",
       "      <th>35</th>\n",
       "      <td>STAT1</td>\n",
       "      <td>PSMB8</td>\n",
       "      <td>0.043368</td>\n",
       "      <td>0.103466</td>\n",
       "      <td>0.675066</td>\n",
       "    </tr>\n",
       "    <tr>\n",
       "      <th>36</th>\n",
       "      <td>STAT1</td>\n",
       "      <td>ADAR</td>\n",
       "      <td>-0.084897</td>\n",
       "      <td>0.148507</td>\n",
       "      <td>0.548673</td>\n",
       "    </tr>\n",
       "    <tr>\n",
       "      <th>37</th>\n",
       "      <td>STAT1</td>\n",
       "      <td>ISG20</td>\n",
       "      <td>0.067723</td>\n",
       "      <td>0.062953</td>\n",
       "      <td>0.280786</td>\n",
       "    </tr>\n",
       "    <tr>\n",
       "      <th>38</th>\n",
       "      <td>STAT1</td>\n",
       "      <td>IFI35</td>\n",
       "      <td>0.124022</td>\n",
       "      <td>0.109084</td>\n",
       "      <td>0.251087</td>\n",
       "    </tr>\n",
       "    <tr>\n",
       "      <th>39</th>\n",
       "      <td>STAT1</td>\n",
       "      <td>IFITM3</td>\n",
       "      <td>0.074012</td>\n",
       "      <td>0.073762</td>\n",
       "      <td>0.310784</td>\n",
       "    </tr>\n",
       "    <tr>\n",
       "      <th>40</th>\n",
       "      <td>STAT1</td>\n",
       "      <td>PTPN1</td>\n",
       "      <td>-0.153397</td>\n",
       "      <td>0.131438</td>\n",
       "      <td>0.234838</td>\n",
       "    </tr>\n",
       "    <tr>\n",
       "      <th>41</th>\n",
       "      <td>STAT1</td>\n",
       "      <td>IFITM2</td>\n",
       "      <td>0.003509</td>\n",
       "      <td>0.084157</td>\n",
       "      <td>0.966402</td>\n",
       "    </tr>\n",
       "  </tbody>\n",
       "</table>\n",
       "</div>"
      ],
      "text/plain": [
       "   gene_1    gene_2  corr_coef   corr_se  corr_pval\n",
       "0   STAT1      IRF9   0.030395  0.118365   0.782661\n",
       "1   STAT1      OASL  -0.018557  0.083808   0.820359\n",
       "2   STAT1      BST2   0.150295  0.097275   0.122044\n",
       "3   STAT1  HLA-DPA1   0.189959  0.066252   0.004400\n",
       "4   STAT1     HLA-E   0.078201  0.087720   0.369232\n",
       "5   STAT1     HLA-F   0.264111  0.107493   0.015499\n",
       "6   STAT1     IFI27   0.030003  0.101622   0.793360\n",
       "7   STAT1   HLA-DMA   0.234203  0.076193   0.003150\n",
       "8   STAT1     RSAD2   0.225102  0.065451   0.002300\n",
       "9   STAT1      OAS1   0.214891  0.089420   0.017799\n",
       "10  STAT1      GBP2  -0.136116  0.143470   0.339883\n",
       "11  STAT1     IFIT3   0.223623  0.071726   0.004200\n",
       "12  STAT1  HLA-DPB1   0.107794  0.067271   0.111344\n",
       "13  STAT1      JAK1  -0.020771  0.112168   0.850207\n",
       "14  STAT1       MX1   0.260882  0.084933   0.003600\n",
       "15  STAT1      XAF1  -0.010047  0.114123   0.930903\n",
       "16  STAT1    IFNAR1   0.246617  0.147821   0.094195\n",
       "17  STAT1  HLA-DQA1   0.234064  0.068103   0.000700\n",
       "18  STAT1     HLA-A   0.218620  0.072455   0.003250\n",
       "19  STAT1      IRF2   0.331600  0.114217   0.004950\n",
       "20  STAT1     ISG15   0.185013  0.058104   0.002450\n",
       "21  STAT1   HLA-DMB  -0.023620  0.104481   0.804010\n",
       "22  STAT1      IFI6   0.201140  0.077401   0.010149\n",
       "23  STAT1     PTPN6  -0.099233  0.149797   0.510624\n",
       "24  STAT1     HLA-B   0.093934  0.065141   0.151242\n",
       "25  STAT1     SOCS3   0.047541  0.062910   0.443278\n",
       "26  STAT1     HLA-C  -0.014712  0.080376   0.856857\n",
       "27  STAT1     STAT1        NaN       NaN        NaN\n",
       "28  STAT1      IRF7   0.076312  0.092739   0.401830\n",
       "29  STAT1   HLA-DRA   0.227114  0.054213   0.000477\n",
       "30  STAT1  HLA-DQB1   0.036101  0.085006   0.666467\n",
       "31  STAT1  HLA-DRB1   0.141771  0.068084   0.037398\n",
       "32  STAT1    SAMHD1   0.055256  0.118979   0.624069\n",
       "33  STAT1      IRF1   0.047119  0.087627   0.595670\n",
       "34  STAT1  HLA-DRB5   0.119744  0.072945   0.102895\n",
       "35  STAT1     PSMB8   0.043368  0.103466   0.675066\n",
       "36  STAT1      ADAR  -0.084897  0.148507   0.548673\n",
       "37  STAT1     ISG20   0.067723  0.062953   0.280786\n",
       "38  STAT1     IFI35   0.124022  0.109084   0.251087\n",
       "39  STAT1    IFITM3   0.074012  0.073762   0.310784\n",
       "40  STAT1     PTPN1  -0.153397  0.131438   0.234838\n",
       "41  STAT1    IFITM2   0.003509  0.084157   0.966402"
      ]
     },
     "execution_count": 37,
     "metadata": {},
     "output_type": "execute_result"
    }
   ],
   "source": [
    "a"
   ]
  },
  {
   "cell_type": "code",
   "execution_count": null,
   "metadata": {},
   "outputs": [],
   "source": []
  },
  {
   "cell_type": "code",
   "execution_count": null,
   "metadata": {},
   "outputs": [],
   "source": []
  },
  {
   "cell_type": "code",
   "execution_count": null,
   "metadata": {},
   "outputs": [],
   "source": []
  },
  {
   "cell_type": "code",
   "execution_count": null,
   "metadata": {},
   "outputs": [],
   "source": []
  },
  {
   "cell_type": "code",
   "execution_count": null,
   "metadata": {},
   "outputs": [],
   "source": [
    "cts = [['ciliated']]\n",
    "tps = ['3', '6', '9', '24', '48']\n",
    "stims = ['beta']\n",
    "\n",
    "\n",
    "for ct in cts:\n",
    "    for tp in tps:\n",
    "        for stim in stims:\n",
    "                            \n",
    "            print('starting', ct, tp, stim)\n",
    "\n",
    "            adata_stim = adata.copy()[\n",
    "                adata.obs.cell_type.isin(ct) & \\\n",
    "                adata.obs.stim.isin(['control', stim]) & \\\n",
    "                adata.obs.time.isin(['0',tp]), :].copy()\n",
    "            time_converter={0:0, int(tp):1}\n",
    "            adata_stim.obs['time_step'] = adata_stim.obs['time'].astype(int).apply(lambda x: time_converter[x])\n",
    "\n",
    "            memento.create_groups(adata_stim, label_columns=['time_step', 'donor'])\n",
    "            memento.compute_1d_moments(adata_stim, min_perc_group=.9)\n",
    "            \n",
    "            tf_list = ['STAT1']\n",
    "            gene_list = adata_stim.var.index.tolist()\n",
    "            \n",
    "            isgs = list(set(canonical_isgs) & set(gene_list))\n",
    "            \n",
    "            target_list = list(set(isgs) | set(mhc_genes))\n",
    "            \n",
    "            memento.compute_2d_moments(adata_stim, list(itertools.product(tf_list,target_list)))\n",
    "\n",
    "            moment_df = memento.get_2d_moments(adata_stim, groupby='time_step')\n",
    "            moment_df.to_csv('/data_volume/ifn_hbec/tf_test/moments_{}_{}_{}_mhc1_20210321.csv'.format('-'.join(ct), stim, tp), index=False)"
   ]
  },
  {
   "cell_type": "code",
   "execution_count": null,
   "metadata": {},
   "outputs": [],
   "source": []
  },
  {
   "cell_type": "code",
   "execution_count": null,
   "metadata": {},
   "outputs": [],
   "source": []
  },
  {
   "cell_type": "code",
   "execution_count": 105,
   "metadata": {},
   "outputs": [],
   "source": [
    "stim = 'beta'\n",
    "ct = ['ciliated']"
   ]
  },
  {
   "cell_type": "code",
   "execution_count": 106,
   "metadata": {},
   "outputs": [
    {
     "name": "stderr",
     "output_type": "stream",
     "text": [
      "/home/ssm-user/anaconda3/envs/single_cell/lib/python3.8/site-packages/pandas/core/arrays/categorical.py:2487: FutureWarning: The `inplace` parameter in pandas.Categorical.remove_unused_categories is deprecated and will be removed in a future version.\n",
      "  res = method(*args, **kwargs)\n",
      "/home/ssm-user/Github/scrna-parameter-estimation/dist/memento-0.0.5-py3.8.egg/memento/estimator.py:105: RuntimeWarning: invalid value encountered in log\n"
     ]
    }
   ],
   "source": [
    "subset = adata[adata.obs['cell_type'].isin(ct) & adata.obs.stim.isin(['control', stim])].copy().copy()\n",
    "memento.create_groups(subset, label_columns=['time', 'donor'])\n",
    "memento.compute_1d_moments(subset, min_perc_group=.9)\n",
    "mean_df = memento.get_1d_moments(subset, groupby='time')[0][['gene'] + ['time_' + str(i) for i in [0, 3, 6, 9, 24, 48]]]\n",
    "var_df = memento.get_1d_moments(subset, groupby='time')[1][['gene'] + ['time_' + str(i) for i in [0, 3, 6, 9, 24, 48]]]"
   ]
  },
  {
   "cell_type": "code",
   "execution_count": 107,
   "metadata": {},
   "outputs": [
    {
     "data": {
      "image/png": "[encoded data removed]",
      "text/plain": [
       "<Figure size 360x144 with 2 Axes>"
      ]
     },
     "metadata": {
      "needs_background": "light"
     },
     "output_type": "display_data"
    }
   ],
   "source": [
    "d = mean_df.query('gene.isin([\"REL\", \"NFKB2\"])', engine='python')\n",
    "plt.figure(figsize=(5,2))\n",
    "plt.subplots_adjust(wspace=0.4)\n",
    "locs = [1, 2]\n",
    "cs = [0, 2]\n",
    "num=0\n",
    "for idx, row in d.iterrows():\n",
    "    plt.subplot(1,2,locs[num])\n",
    "    plt.plot(row.values[1:], '-o')\n",
    "    plt.title(row['gene'])\n",
    "    plt.xticks([0, 1, 2, 3, 4, 5], ['0', '3', '6', '9', '24', '48'])\n",
    "    if num == 0:\n",
    "        plt.ylabel('Mean expr')\n",
    "    plt.xlabel('time (hr)')\n",
    "    num +=1\n",
    "\n",
    "plt.savefig(fig_path + 'mhc_aux_mean.pdf', bbox_inches='tight')\n"
   ]
  },
  {
   "cell_type": "code",
   "execution_count": 113,
   "metadata": {},
   "outputs": [
    {
     "data": {
      "text/plain": [
       "array([['HLA-B', 'B2M'],\n",
       "       [1.9678467512130737, 4.1894755363464355],\n",
       "       [2.6735966205596924, 4.4380927085876465],\n",
       "       [2.807898759841919, 4.54669713973999],\n",
       "       [2.552474021911621, 4.3481292724609375],\n",
       "       [2.4727883338928223, 4.342992305755615],\n",
       "       [2.166301965713501, 4.125378608703613]], dtype=object)"
      ]
     },
     "execution_count": 113,
     "metadata": {},
     "output_type": "execute_result"
    }
   ],
   "source": [
    "d.values[2:].T"
   ]
  },
  {
   "cell_type": "code",
   "execution_count": 114,
   "metadata": {},
   "outputs": [
    {
     "data": {
      "text/html": [
       "<div>\n",
       "<style scoped>\n",
       "    .dataframe tbody tr th:only-of-type {\n",
       "        vertical-align: middle;\n",
       "    }\n",
       "\n",
       "    .dataframe tbody tr th {\n",
       "        vertical-align: top;\n",
       "    }\n",
       "\n",
       "    .dataframe thead th {\n",
       "        text-align: right;\n",
       "    }\n",
       "</style>\n",
       "<table border=\"1\" class=\"dataframe\">\n",
       "  <thead>\n",
       "    <tr style=\"text-align: right;\">\n",
       "      <th></th>\n",
       "      <th>gene</th>\n",
       "      <th>time_0</th>\n",
       "      <th>time_3</th>\n",
       "      <th>time_6</th>\n",
       "      <th>time_9</th>\n",
       "      <th>time_24</th>\n",
       "      <th>time_48</th>\n",
       "    </tr>\n",
       "  </thead>\n",
       "  <tbody>\n",
       "    <tr>\n",
       "      <th>3221</th>\n",
       "      <td>HLA-A</td>\n",
       "      <td>1.656812</td>\n",
       "      <td>2.370405</td>\n",
       "      <td>2.487690</td>\n",
       "      <td>2.090583</td>\n",
       "      <td>2.035615</td>\n",
       "      <td>1.793220</td>\n",
       "    </tr>\n",
       "    <tr>\n",
       "      <th>3246</th>\n",
       "      <td>HLA-C</td>\n",
       "      <td>1.829254</td>\n",
       "      <td>2.479059</td>\n",
       "      <td>2.770877</td>\n",
       "      <td>2.521157</td>\n",
       "      <td>2.434578</td>\n",
       "      <td>2.142253</td>\n",
       "    </tr>\n",
       "    <tr>\n",
       "      <th>3247</th>\n",
       "      <td>HLA-B</td>\n",
       "      <td>1.967847</td>\n",
       "      <td>2.673597</td>\n",
       "      <td>2.807899</td>\n",
       "      <td>2.552474</td>\n",
       "      <td>2.472788</td>\n",
       "      <td>2.166302</td>\n",
       "    </tr>\n",
       "    <tr>\n",
       "      <th>6974</th>\n",
       "      <td>B2M</td>\n",
       "      <td>4.189476</td>\n",
       "      <td>4.438093</td>\n",
       "      <td>4.546697</td>\n",
       "      <td>4.348129</td>\n",
       "      <td>4.342992</td>\n",
       "      <td>4.125379</td>\n",
       "    </tr>\n",
       "  </tbody>\n",
       "</table>\n",
       "</div>"
      ],
      "text/plain": [
       "       gene    time_0    time_3    time_6    time_9   time_24   time_48\n",
       "3221  HLA-A  1.656812  2.370405  2.487690  2.090583  2.035615  1.793220\n",
       "3246  HLA-C  1.829254  2.479059  2.770877  2.521157  2.434578  2.142253\n",
       "3247  HLA-B  1.967847  2.673597  2.807899  2.552474  2.472788  2.166302\n",
       "6974    B2M  4.189476  4.438093  4.546697  4.348129  4.342992  4.125379"
      ]
     },
     "execution_count": 114,
     "metadata": {},
     "output_type": "execute_result"
    }
   ],
   "source": [
    "d"
   ]
  },
  {
   "cell_type": "code",
   "execution_count": 130,
   "metadata": {},
   "outputs": [
    {
     "data": {
      "text/plain": [
       "Text(0.5, 0, 'time (hr)')"
      ]
     },
     "execution_count": 130,
     "metadata": {},
     "output_type": "execute_result"
    },
    {
     "data": {
      "image/png": "[encoded data removed]",
      "text/plain": [
       "<Figure size 144x144 with 1 Axes>"
      ]
     },
     "metadata": {
      "needs_background": "light"
     },
     "output_type": "display_data"
    }
   ],
   "source": [
    "plt.figure(figsize=(2,2))\n",
    "d = mean_df.query('gene.isin([\"HLA-A\", \"HLA-B\", \"HLA-C\", \"B2M\"])', engine='python').values[:,1:]\n",
    "d = d - d[:, 0].reshape(-1,1)\n",
    "plt.plot(d.T, '-o'); plt.ylabel('Relative mean expr')\n",
    "plt.xticks([0, 1, 2, 3, 4, 5], ['0', '3', '6', '9', '24', '48']); plt.xlabel('time (hr)')"
   ]
  },
  {
   "cell_type": "markdown",
   "metadata": {},
   "source": [
    "### Correlation of MHC I transcripts to STAT1"
   ]
  },
  {
   "cell_type": "code",
   "execution_count": 48,
   "metadata": {},
   "outputs": [],
   "source": [
    "canonical_isgs = pd.read_csv('alpha_beta_reactome.txt', header=None)[0].tolist()\n",
    "mhc_genes = [\"HLA-A\", \"HLA-B\", \"HLA-C\", \"B2M\"]"
   ]
  },
  {
   "cell_type": "code",
   "execution_count": 59,
   "metadata": {},
   "outputs": [
    {
     "name": "stdout",
     "output_type": "stream",
     "text": [
      "starting ['ciliated'] 3 beta\n"
     ]
    },
    {
     "name": "stderr",
     "output_type": "stream",
     "text": [
      "/home/ssm-user/anaconda3/envs/single_cell/lib/python3.8/site-packages/pandas/core/arrays/categorical.py:2487: FutureWarning: The `inplace` parameter in pandas.Categorical.remove_unused_categories is deprecated and will be removed in a future version.\n",
      "  res = method(*args, **kwargs)\n"
     ]
    },
    {
     "name": "stdout",
     "output_type": "stream",
     "text": [
      "starting ['ciliated'] 6 beta\n"
     ]
    },
    {
     "name": "stderr",
     "output_type": "stream",
     "text": [
      "/home/ssm-user/Github/scrna-parameter-estimation/dist/memento-0.0.5-py3.8.egg/memento/main.py:594: RuntimeWarning: invalid value encountered in true_divide\n"
     ]
    },
    {
     "name": "stdout",
     "output_type": "stream",
     "text": [
      "starting ['ciliated'] 9 beta\n",
      "starting ['ciliated'] 24 beta\n",
      "starting ['ciliated'] 48 beta\n"
     ]
    }
   ],
   "source": [
    "cts = [['ciliated']]\n",
    "tps = ['3', '6', '9', '24', '48']\n",
    "stims = ['beta']\n",
    "\n",
    "\n",
    "for ct in cts:\n",
    "    for tp in tps:\n",
    "        for stim in stims:\n",
    "                            \n",
    "            print('starting', ct, tp, stim)\n",
    "\n",
    "            adata_stim = adata.copy()[\n",
    "                adata.obs.cell_type.isin(ct) & \\\n",
    "                adata.obs.stim.isin(['control', stim]) & \\\n",
    "                adata.obs.time.isin(['0',tp]), :].copy()\n",
    "            time_converter={0:0, int(tp):1}\n",
    "            adata_stim.obs['time_step'] = adata_stim.obs['time'].astype(int).apply(lambda x: time_converter[x])\n",
    "\n",
    "            memento.create_groups(adata_stim, label_columns=['time_step', 'donor'])\n",
    "            memento.compute_1d_moments(adata_stim, min_perc_group=.9)\n",
    "            \n",
    "            tf_list = ['STAT1']\n",
    "            gene_list = adata_stim.var.index.tolist()\n",
    "            \n",
    "            isgs = list(set(canonical_isgs) & set(gene_list))\n",
    "            \n",
    "            target_list = list(set(isgs) | set(mhc_genes))\n",
    "            \n",
    "            memento.compute_2d_moments(adata_stim, list(itertools.product(tf_list,target_list)))\n",
    "\n",
    "            moment_df = memento.get_2d_moments(adata_stim, groupby='time_step')\n",
    "            moment_df.to_csv('/data_volume/ifn_hbec/tf_test/moments_{}_{}_{}_mhc1_20210321.csv'.format('-'.join(ct), stim, tp), index=False)"
   ]
  },
  {
   "cell_type": "code",
   "execution_count": 64,
   "metadata": {},
   "outputs": [],
   "source": [
    "stim = 'beta'\n",
    "ct = ['ciliated']\n",
    "for tp in ['3', '6', '9', '24', '48']:\n",
    "    \n",
    "    moments = pd.read_csv('/data_volume/ifn_hbec/tf_test/moments_{}_{}_{}_mhc1_20210321.csv'.format('-'.join(ct), stim, tp)).rename(columns={'time_step_0':'time_0', 'time_step_1':'time_'+tp})\n",
    "    \n",
    "    if tp == '3':\n",
    "        moment_df = moments[['gene_1', 'gene_2', 'time_0', 'time_3']].copy()\n",
    "        \n",
    "    else:\n",
    "        moment_df = moment_df.merge(moments[['gene_1', 'gene_2', 'time_{}'.format(tp)]].copy(), on=['gene_1', 'gene_2'], how='inner')"
   ]
  },
  {
   "cell_type": "code",
   "execution_count": 149,
   "metadata": {},
   "outputs": [
    {
     "data": {
      "text/plain": [
       "['#1f77b4',\n",
       " '#ff7f0e',\n",
       " '#2ca02c',\n",
       " '#d62728',\n",
       " '#9467bd',\n",
       " '#8c564b',\n",
       " '#e377c2',\n",
       " '#7f7f7f',\n",
       " '#bcbd22',\n",
       " '#17becf']"
      ]
     },
     "execution_count": 149,
     "metadata": {},
     "output_type": "execute_result"
    }
   ],
   "source": [
    "plt.rcParams['axes.prop_cycle'].by_key()['color']"
   ]
  },
  {
   "cell_type": "code",
   "execution_count": 154,
   "metadata": {},
   "outputs": [
    {
     "data": {
      "text/plain": [
       "['#ff7f0e', '#2ca02c', '#d62728', '#9467bd']"
      ]
     },
     "execution_count": 154,
     "metadata": {},
     "output_type": "execute_result"
    }
   ],
   "source": [
    "plt.rcParams['axes.prop_cycle'].by_key()['color'][1:5]"
   ]
  },
  {
   "cell_type": "code",
   "execution_count": 162,
   "metadata": {},
   "outputs": [
    {
     "data": {
      "image/png": "[encoded data removed]",
      "text/plain": [
       "<Figure size 432x144 with 3 Axes>"
      ]
     },
     "metadata": {
      "needs_background": "light"
     },
     "output_type": "display_data"
    }
   ],
   "source": [
    "tf = 'STAT1'\n",
    "plt.figure(figsize=(6,2))\n",
    "plt.subplots_adjust(wspace=0.5)\n",
    "plt.subplot(1, 3, 1);\n",
    "\n",
    "d = mean_df.query('gene.isin([\"HLA-A\", \"HLA-B\", \"HLA-C\", \"B2M\"])', engine='python').values[:,1:]\n",
    "d = d - d[:, 0].reshape(-1,1)\n",
    "plt.plot(d.T, '-o'); plt.ylabel('Relative mean expr')\n",
    "plt.xticks([0, 1, 2, 3, 4, 5], ['0', '3', '6', '9', '24', '48']); plt.xlabel('time (hr)')\n",
    "\n",
    "plt.subplot(1, 3, 2)\n",
    "plt.plot(moment_df.query('gene_1 == \"{}\" & gene_2 in @mhc_genes'.format(tf)).values[:, 2:].T, '--o')\n",
    "plt.xticks([0, 1, 2, 3, 4, 5], ['0', '3', '6', '9', '24', '48'])\n",
    "plt.xlabel('Time (hr)'); plt.ylabel('Corr {}'.format(tf))\n",
    "plt.ylim(0, 0.55)\n",
    "plt.legend(moment_df.query('gene_1 == \"{}\" & gene_2 in @mhc_genes'.format(tf)).gene_2, frameon=False, ncol=4, bbox_to_anchor=(1.3,1.2))\n",
    "\n",
    "\n",
    "select_isgs = ['MX1','MX2', 'OAS3', 'IFIT3', 'IFI2']\n",
    "plt.subplot(1, 3, 3)\n",
    "for i in range(4):\n",
    "    plt.plot(moment_df.query('gene_1 == \"{}\" & gene_2 in @select_isgs'.format(tf)).values[i, 2:].T, '--o', color=plt.rcParams['axes.prop_cycle'].by_key()['color'][4+i])\n",
    "plt.xticks([0, 1, 2, 3, 4, 5], ['0', '3', '6', '9', '24', '48'])\n",
    "plt.xlabel('Time (hr)'); plt.ylabel('Corr {}'.format(tf))\n",
    "plt.ylim(0.4, 1);\n",
    "plt.legend(moment_df.query('gene_1 == \"{}\" & gene_2 in @select_isgs'.format(tf)).gene_2, frameon=False, ncol=2, bbox_to_anchor=(1,1))\n",
    "\n",
    "plt.savefig(fig_path + 'mhc_mean_corr.pdf', bbox_inches='tight')"
   ]
  },
  {
   "cell_type": "code",
   "execution_count": 88,
   "metadata": {},
   "outputs": [
    {
     "data": {
      "text/html": [
       "<div>\n",
       "<style scoped>\n",
       "    .dataframe tbody tr th:only-of-type {\n",
       "        vertical-align: middle;\n",
       "    }\n",
       "\n",
       "    .dataframe tbody tr th {\n",
       "        vertical-align: top;\n",
       "    }\n",
       "\n",
       "    .dataframe thead th {\n",
       "        text-align: right;\n",
       "    }\n",
       "</style>\n",
       "<table border=\"1\" class=\"dataframe\">\n",
       "  <thead>\n",
       "    <tr style=\"text-align: right;\">\n",
       "      <th></th>\n",
       "      <th>gene_1</th>\n",
       "      <th>gene_2</th>\n",
       "      <th>time_0</th>\n",
       "      <th>time_3</th>\n",
       "      <th>time_6</th>\n",
       "      <th>time_9</th>\n",
       "      <th>time_24</th>\n",
       "      <th>time_48</th>\n",
       "    </tr>\n",
       "  </thead>\n",
       "  <tbody>\n",
       "    <tr>\n",
       "      <th>0</th>\n",
       "      <td>STAT1</td>\n",
       "      <td>IRF2</td>\n",
       "      <td>0.209428</td>\n",
       "      <td>0.345655</td>\n",
       "      <td>0.351665</td>\n",
       "      <td>0.403791</td>\n",
       "      <td>0.328545</td>\n",
       "      <td>0.330277</td>\n",
       "    </tr>\n",
       "    <tr>\n",
       "      <th>1</th>\n",
       "      <td>STAT1</td>\n",
       "      <td>HLA-B</td>\n",
       "      <td>0.201227</td>\n",
       "      <td>0.420494</td>\n",
       "      <td>0.434898</td>\n",
       "      <td>0.246592</td>\n",
       "      <td>0.201684</td>\n",
       "      <td>0.156004</td>\n",
       "    </tr>\n",
       "    <tr>\n",
       "      <th>2</th>\n",
       "      <td>STAT1</td>\n",
       "      <td>IFITM1</td>\n",
       "      <td>0.725632</td>\n",
       "      <td>0.648829</td>\n",
       "      <td>0.722967</td>\n",
       "      <td>0.712443</td>\n",
       "      <td>0.752257</td>\n",
       "      <td>0.719679</td>\n",
       "    </tr>\n",
       "    <tr>\n",
       "      <th>3</th>\n",
       "      <td>STAT1</td>\n",
       "      <td>IFITM2</td>\n",
       "      <td>0.428704</td>\n",
       "      <td>0.519050</td>\n",
       "      <td>0.551876</td>\n",
       "      <td>0.540026</td>\n",
       "      <td>0.512139</td>\n",
       "      <td>0.507080</td>\n",
       "    </tr>\n",
       "    <tr>\n",
       "      <th>4</th>\n",
       "      <td>STAT1</td>\n",
       "      <td>SOCS1</td>\n",
       "      <td>0.511312</td>\n",
       "      <td>0.388728</td>\n",
       "      <td>0.363513</td>\n",
       "      <td>0.474186</td>\n",
       "      <td>0.473442</td>\n",
       "      <td>0.504350</td>\n",
       "    </tr>\n",
       "    <tr>\n",
       "      <th>5</th>\n",
       "      <td>STAT1</td>\n",
       "      <td>IFITM3</td>\n",
       "      <td>0.740275</td>\n",
       "      <td>0.668623</td>\n",
       "      <td>0.738930</td>\n",
       "      <td>0.742767</td>\n",
       "      <td>0.746072</td>\n",
       "      <td>0.721912</td>\n",
       "    </tr>\n",
       "    <tr>\n",
       "      <th>6</th>\n",
       "      <td>STAT1</td>\n",
       "      <td>IRF7</td>\n",
       "      <td>0.635426</td>\n",
       "      <td>0.643951</td>\n",
       "      <td>0.687727</td>\n",
       "      <td>0.646674</td>\n",
       "      <td>0.672363</td>\n",
       "      <td>0.638066</td>\n",
       "    </tr>\n",
       "    <tr>\n",
       "      <th>7</th>\n",
       "      <td>STAT1</td>\n",
       "      <td>IFI6</td>\n",
       "      <td>0.581431</td>\n",
       "      <td>0.598028</td>\n",
       "      <td>0.678681</td>\n",
       "      <td>0.584084</td>\n",
       "      <td>0.500680</td>\n",
       "      <td>0.451282</td>\n",
       "    </tr>\n",
       "    <tr>\n",
       "      <th>8</th>\n",
       "      <td>STAT1</td>\n",
       "      <td>EGR1</td>\n",
       "      <td>0.036578</td>\n",
       "      <td>0.133676</td>\n",
       "      <td>0.208113</td>\n",
       "      <td>0.177444</td>\n",
       "      <td>0.209361</td>\n",
       "      <td>0.185099</td>\n",
       "    </tr>\n",
       "    <tr>\n",
       "      <th>9</th>\n",
       "      <td>STAT1</td>\n",
       "      <td>OAS2</td>\n",
       "      <td>0.901655</td>\n",
       "      <td>0.889552</td>\n",
       "      <td>0.885935</td>\n",
       "      <td>0.894787</td>\n",
       "      <td>0.874481</td>\n",
       "      <td>0.850491</td>\n",
       "    </tr>\n",
       "    <tr>\n",
       "      <th>10</th>\n",
       "      <td>STAT1</td>\n",
       "      <td>RNASEL</td>\n",
       "      <td>-0.186669</td>\n",
       "      <td>0.075094</td>\n",
       "      <td>0.174380</td>\n",
       "      <td>-0.028666</td>\n",
       "      <td>0.225787</td>\n",
       "      <td>0.080254</td>\n",
       "    </tr>\n",
       "    <tr>\n",
       "      <th>11</th>\n",
       "      <td>STAT1</td>\n",
       "      <td>MX2</td>\n",
       "      <td>0.793511</td>\n",
       "      <td>0.701432</td>\n",
       "      <td>0.783201</td>\n",
       "      <td>0.776184</td>\n",
       "      <td>0.802764</td>\n",
       "      <td>0.769418</td>\n",
       "    </tr>\n",
       "    <tr>\n",
       "      <th>12</th>\n",
       "      <td>STAT1</td>\n",
       "      <td>IRF5</td>\n",
       "      <td>0.015622</td>\n",
       "      <td>0.149872</td>\n",
       "      <td>0.175975</td>\n",
       "      <td>0.162759</td>\n",
       "      <td>0.094299</td>\n",
       "      <td>0.004581</td>\n",
       "    </tr>\n",
       "    <tr>\n",
       "      <th>13</th>\n",
       "      <td>STAT1</td>\n",
       "      <td>SOCS3</td>\n",
       "      <td>-0.003289</td>\n",
       "      <td>0.058578</td>\n",
       "      <td>0.054954</td>\n",
       "      <td>0.058636</td>\n",
       "      <td>0.098590</td>\n",
       "      <td>0.029305</td>\n",
       "    </tr>\n",
       "    <tr>\n",
       "      <th>14</th>\n",
       "      <td>STAT1</td>\n",
       "      <td>MX1</td>\n",
       "      <td>0.824872</td>\n",
       "      <td>0.811559</td>\n",
       "      <td>0.836918</td>\n",
       "      <td>0.827033</td>\n",
       "      <td>0.836616</td>\n",
       "      <td>0.837403</td>\n",
       "    </tr>\n",
       "    <tr>\n",
       "      <th>15</th>\n",
       "      <td>STAT1</td>\n",
       "      <td>IRF6</td>\n",
       "      <td>0.236000</td>\n",
       "      <td>0.375176</td>\n",
       "      <td>0.416317</td>\n",
       "      <td>0.300291</td>\n",
       "      <td>0.197750</td>\n",
       "      <td>0.268518</td>\n",
       "    </tr>\n",
       "    <tr>\n",
       "      <th>16</th>\n",
       "      <td>STAT1</td>\n",
       "      <td>IRF1</td>\n",
       "      <td>0.117013</td>\n",
       "      <td>0.305977</td>\n",
       "      <td>0.332709</td>\n",
       "      <td>0.245130</td>\n",
       "      <td>0.311295</td>\n",
       "      <td>0.260523</td>\n",
       "    </tr>\n",
       "    <tr>\n",
       "      <th>17</th>\n",
       "      <td>STAT1</td>\n",
       "      <td>TYK2</td>\n",
       "      <td>0.115119</td>\n",
       "      <td>0.152452</td>\n",
       "      <td>0.110514</td>\n",
       "      <td>0.134358</td>\n",
       "      <td>-0.013294</td>\n",
       "      <td>0.139048</td>\n",
       "    </tr>\n",
       "    <tr>\n",
       "      <th>18</th>\n",
       "      <td>STAT1</td>\n",
       "      <td>IFIT1</td>\n",
       "      <td>0.749353</td>\n",
       "      <td>0.740828</td>\n",
       "      <td>0.761032</td>\n",
       "      <td>0.762833</td>\n",
       "      <td>0.755530</td>\n",
       "      <td>0.745587</td>\n",
       "    </tr>\n",
       "    <tr>\n",
       "      <th>19</th>\n",
       "      <td>STAT1</td>\n",
       "      <td>RSAD2</td>\n",
       "      <td>0.569464</td>\n",
       "      <td>0.528762</td>\n",
       "      <td>0.662214</td>\n",
       "      <td>0.645862</td>\n",
       "      <td>0.647325</td>\n",
       "      <td>0.649318</td>\n",
       "    </tr>\n",
       "    <tr>\n",
       "      <th>20</th>\n",
       "      <td>STAT1</td>\n",
       "      <td>ISG15</td>\n",
       "      <td>0.712075</td>\n",
       "      <td>0.675252</td>\n",
       "      <td>0.729740</td>\n",
       "      <td>0.732390</td>\n",
       "      <td>0.770571</td>\n",
       "      <td>0.736501</td>\n",
       "    </tr>\n",
       "    <tr>\n",
       "      <th>21</th>\n",
       "      <td>STAT1</td>\n",
       "      <td>ISG20</td>\n",
       "      <td>0.610514</td>\n",
       "      <td>0.622557</td>\n",
       "      <td>0.670551</td>\n",
       "      <td>0.641622</td>\n",
       "      <td>0.676211</td>\n",
       "      <td>0.684491</td>\n",
       "    </tr>\n",
       "    <tr>\n",
       "      <th>22</th>\n",
       "      <td>STAT1</td>\n",
       "      <td>XAF1</td>\n",
       "      <td>0.727158</td>\n",
       "      <td>0.469709</td>\n",
       "      <td>0.512824</td>\n",
       "      <td>0.731851</td>\n",
       "      <td>0.694403</td>\n",
       "      <td>0.709636</td>\n",
       "    </tr>\n",
       "    <tr>\n",
       "      <th>23</th>\n",
       "      <td>STAT1</td>\n",
       "      <td>IRF3</td>\n",
       "      <td>0.157079</td>\n",
       "      <td>0.288388</td>\n",
       "      <td>0.268941</td>\n",
       "      <td>0.096917</td>\n",
       "      <td>0.015539</td>\n",
       "      <td>0.096347</td>\n",
       "    </tr>\n",
       "    <tr>\n",
       "      <th>24</th>\n",
       "      <td>STAT1</td>\n",
       "      <td>IFIT3</td>\n",
       "      <td>0.587385</td>\n",
       "      <td>0.645985</td>\n",
       "      <td>0.683055</td>\n",
       "      <td>0.658808</td>\n",
       "      <td>0.691653</td>\n",
       "      <td>0.634757</td>\n",
       "    </tr>\n",
       "    <tr>\n",
       "      <th>25</th>\n",
       "      <td>STAT1</td>\n",
       "      <td>IFIT2</td>\n",
       "      <td>0.399977</td>\n",
       "      <td>0.551617</td>\n",
       "      <td>0.561199</td>\n",
       "      <td>0.543053</td>\n",
       "      <td>0.572107</td>\n",
       "      <td>0.535786</td>\n",
       "    </tr>\n",
       "    <tr>\n",
       "      <th>26</th>\n",
       "      <td>STAT1</td>\n",
       "      <td>OASL</td>\n",
       "      <td>0.546349</td>\n",
       "      <td>0.524610</td>\n",
       "      <td>0.534824</td>\n",
       "      <td>0.575320</td>\n",
       "      <td>0.578621</td>\n",
       "      <td>0.621049</td>\n",
       "    </tr>\n",
       "    <tr>\n",
       "      <th>27</th>\n",
       "      <td>STAT1</td>\n",
       "      <td>PTPN6</td>\n",
       "      <td>0.140358</td>\n",
       "      <td>0.253868</td>\n",
       "      <td>0.214989</td>\n",
       "      <td>0.113689</td>\n",
       "      <td>0.174034</td>\n",
       "      <td>0.058551</td>\n",
       "    </tr>\n",
       "    <tr>\n",
       "      <th>28</th>\n",
       "      <td>STAT1</td>\n",
       "      <td>IFI35</td>\n",
       "      <td>0.682694</td>\n",
       "      <td>0.706174</td>\n",
       "      <td>0.675952</td>\n",
       "      <td>0.749833</td>\n",
       "      <td>0.739956</td>\n",
       "      <td>0.690028</td>\n",
       "    </tr>\n",
       "    <tr>\n",
       "      <th>29</th>\n",
       "      <td>STAT1</td>\n",
       "      <td>STAT1</td>\n",
       "      <td>0.000000</td>\n",
       "      <td>0.999993</td>\n",
       "      <td>0.441420</td>\n",
       "      <td>0.999999</td>\n",
       "      <td>0.291466</td>\n",
       "      <td>0.350614</td>\n",
       "    </tr>\n",
       "    <tr>\n",
       "      <th>30</th>\n",
       "      <td>STAT1</td>\n",
       "      <td>STAT2</td>\n",
       "      <td>0.491948</td>\n",
       "      <td>0.347622</td>\n",
       "      <td>0.399055</td>\n",
       "      <td>0.559495</td>\n",
       "      <td>0.580490</td>\n",
       "      <td>0.534642</td>\n",
       "    </tr>\n",
       "    <tr>\n",
       "      <th>31</th>\n",
       "      <td>STAT1</td>\n",
       "      <td>PTPN1</td>\n",
       "      <td>0.107042</td>\n",
       "      <td>0.254697</td>\n",
       "      <td>0.168329</td>\n",
       "      <td>0.292415</td>\n",
       "      <td>0.189344</td>\n",
       "      <td>0.029964</td>\n",
       "    </tr>\n",
       "    <tr>\n",
       "      <th>32</th>\n",
       "      <td>STAT1</td>\n",
       "      <td>HLA-A</td>\n",
       "      <td>0.184255</td>\n",
       "      <td>0.416530</td>\n",
       "      <td>0.406567</td>\n",
       "      <td>0.169951</td>\n",
       "      <td>0.140786</td>\n",
       "      <td>0.112371</td>\n",
       "    </tr>\n",
       "    <tr>\n",
       "      <th>33</th>\n",
       "      <td>STAT1</td>\n",
       "      <td>IFI27</td>\n",
       "      <td>0.499601</td>\n",
       "      <td>0.503988</td>\n",
       "      <td>0.614853</td>\n",
       "      <td>0.442542</td>\n",
       "      <td>0.360850</td>\n",
       "      <td>0.316760</td>\n",
       "    </tr>\n",
       "    <tr>\n",
       "      <th>34</th>\n",
       "      <td>STAT1</td>\n",
       "      <td>IFNAR1</td>\n",
       "      <td>0.258440</td>\n",
       "      <td>0.356201</td>\n",
       "      <td>0.259966</td>\n",
       "      <td>0.149268</td>\n",
       "      <td>0.040471</td>\n",
       "      <td>0.197546</td>\n",
       "    </tr>\n",
       "    <tr>\n",
       "      <th>35</th>\n",
       "      <td>STAT1</td>\n",
       "      <td>IP6K2</td>\n",
       "      <td>-0.251676</td>\n",
       "      <td>0.007698</td>\n",
       "      <td>0.109074</td>\n",
       "      <td>-0.110297</td>\n",
       "      <td>-0.163614</td>\n",
       "      <td>-0.062602</td>\n",
       "    </tr>\n",
       "    <tr>\n",
       "      <th>36</th>\n",
       "      <td>STAT1</td>\n",
       "      <td>SAMHD1</td>\n",
       "      <td>0.326492</td>\n",
       "      <td>0.509650</td>\n",
       "      <td>0.506530</td>\n",
       "      <td>0.521115</td>\n",
       "      <td>0.457848</td>\n",
       "      <td>0.397784</td>\n",
       "    </tr>\n",
       "    <tr>\n",
       "      <th>37</th>\n",
       "      <td>STAT1</td>\n",
       "      <td>HLA-C</td>\n",
       "      <td>0.319793</td>\n",
       "      <td>0.477181</td>\n",
       "      <td>0.521650</td>\n",
       "      <td>0.416268</td>\n",
       "      <td>0.395361</td>\n",
       "      <td>0.317643</td>\n",
       "    </tr>\n",
       "    <tr>\n",
       "      <th>38</th>\n",
       "      <td>STAT1</td>\n",
       "      <td>GBP2</td>\n",
       "      <td>0.169309</td>\n",
       "      <td>0.161470</td>\n",
       "      <td>0.150904</td>\n",
       "      <td>0.253790</td>\n",
       "      <td>0.231197</td>\n",
       "      <td>0.289376</td>\n",
       "    </tr>\n",
       "    <tr>\n",
       "      <th>39</th>\n",
       "      <td>STAT1</td>\n",
       "      <td>PSMB8</td>\n",
       "      <td>0.551763</td>\n",
       "      <td>0.592010</td>\n",
       "      <td>0.624260</td>\n",
       "      <td>0.620775</td>\n",
       "      <td>0.628463</td>\n",
       "      <td>0.625106</td>\n",
       "    </tr>\n",
       "    <tr>\n",
       "      <th>40</th>\n",
       "      <td>STAT1</td>\n",
       "      <td>IRF9</td>\n",
       "      <td>0.548225</td>\n",
       "      <td>0.538770</td>\n",
       "      <td>0.607650</td>\n",
       "      <td>0.531990</td>\n",
       "      <td>0.473645</td>\n",
       "      <td>0.578006</td>\n",
       "    </tr>\n",
       "    <tr>\n",
       "      <th>41</th>\n",
       "      <td>STAT1</td>\n",
       "      <td>BST2</td>\n",
       "      <td>0.599108</td>\n",
       "      <td>0.592494</td>\n",
       "      <td>0.662566</td>\n",
       "      <td>0.618264</td>\n",
       "      <td>0.650668</td>\n",
       "      <td>0.582153</td>\n",
       "    </tr>\n",
       "    <tr>\n",
       "      <th>42</th>\n",
       "      <td>STAT1</td>\n",
       "      <td>HLA-E</td>\n",
       "      <td>0.415575</td>\n",
       "      <td>0.547246</td>\n",
       "      <td>0.587484</td>\n",
       "      <td>0.544590</td>\n",
       "      <td>0.566349</td>\n",
       "      <td>0.526313</td>\n",
       "    </tr>\n",
       "    <tr>\n",
       "      <th>43</th>\n",
       "      <td>STAT1</td>\n",
       "      <td>B2M</td>\n",
       "      <td>0.184621</td>\n",
       "      <td>0.352014</td>\n",
       "      <td>0.422341</td>\n",
       "      <td>0.105076</td>\n",
       "      <td>0.048891</td>\n",
       "      <td>0.060456</td>\n",
       "    </tr>\n",
       "    <tr>\n",
       "      <th>44</th>\n",
       "      <td>STAT1</td>\n",
       "      <td>OAS1</td>\n",
       "      <td>0.650792</td>\n",
       "      <td>0.672810</td>\n",
       "      <td>0.648029</td>\n",
       "      <td>0.710489</td>\n",
       "      <td>0.730142</td>\n",
       "      <td>0.715586</td>\n",
       "    </tr>\n",
       "    <tr>\n",
       "      <th>45</th>\n",
       "      <td>STAT1</td>\n",
       "      <td>IFNAR2</td>\n",
       "      <td>-0.082962</td>\n",
       "      <td>0.185958</td>\n",
       "      <td>0.143096</td>\n",
       "      <td>-0.089721</td>\n",
       "      <td>-0.097923</td>\n",
       "      <td>-0.035020</td>\n",
       "    </tr>\n",
       "    <tr>\n",
       "      <th>46</th>\n",
       "      <td>STAT1</td>\n",
       "      <td>ABCE1</td>\n",
       "      <td>-0.064579</td>\n",
       "      <td>0.106320</td>\n",
       "      <td>0.144581</td>\n",
       "      <td>-0.081918</td>\n",
       "      <td>-0.052310</td>\n",
       "      <td>-0.133862</td>\n",
       "    </tr>\n",
       "    <tr>\n",
       "      <th>47</th>\n",
       "      <td>STAT1</td>\n",
       "      <td>PTPN11</td>\n",
       "      <td>-0.128289</td>\n",
       "      <td>0.217101</td>\n",
       "      <td>0.115554</td>\n",
       "      <td>-0.017050</td>\n",
       "      <td>-0.018553</td>\n",
       "      <td>-0.019121</td>\n",
       "    </tr>\n",
       "    <tr>\n",
       "      <th>48</th>\n",
       "      <td>STAT1</td>\n",
       "      <td>JAK1</td>\n",
       "      <td>-0.016268</td>\n",
       "      <td>0.153578</td>\n",
       "      <td>0.234703</td>\n",
       "      <td>0.088207</td>\n",
       "      <td>0.043628</td>\n",
       "      <td>-0.004827</td>\n",
       "    </tr>\n",
       "    <tr>\n",
       "      <th>49</th>\n",
       "      <td>STAT1</td>\n",
       "      <td>HLA-F</td>\n",
       "      <td>0.303196</td>\n",
       "      <td>0.464457</td>\n",
       "      <td>0.516259</td>\n",
       "      <td>0.421187</td>\n",
       "      <td>0.428796</td>\n",
       "      <td>0.360041</td>\n",
       "    </tr>\n",
       "    <tr>\n",
       "      <th>50</th>\n",
       "      <td>STAT1</td>\n",
       "      <td>OAS3</td>\n",
       "      <td>0.733548</td>\n",
       "      <td>0.741300</td>\n",
       "      <td>0.767259</td>\n",
       "      <td>0.770594</td>\n",
       "      <td>0.799914</td>\n",
       "      <td>0.747048</td>\n",
       "    </tr>\n",
       "    <tr>\n",
       "      <th>51</th>\n",
       "      <td>STAT1</td>\n",
       "      <td>USP18</td>\n",
       "      <td>0.559029</td>\n",
       "      <td>0.607182</td>\n",
       "      <td>0.580450</td>\n",
       "      <td>0.599093</td>\n",
       "      <td>0.623711</td>\n",
       "      <td>0.602167</td>\n",
       "    </tr>\n",
       "    <tr>\n",
       "      <th>52</th>\n",
       "      <td>STAT1</td>\n",
       "      <td>ADAR</td>\n",
       "      <td>0.629318</td>\n",
       "      <td>0.614119</td>\n",
       "      <td>0.699720</td>\n",
       "      <td>0.720470</td>\n",
       "      <td>0.686398</td>\n",
       "      <td>0.637421</td>\n",
       "    </tr>\n",
       "  </tbody>\n",
       "</table>\n",
       "</div>"
      ],
      "text/plain": [
       "   gene_1  gene_2    time_0    time_3    time_6    time_9   time_24   time_48\n",
       "0   STAT1    IRF2  0.209428  0.345655  0.351665  0.403791  0.328545  0.330277\n",
       "1   STAT1   HLA-B  0.201227  0.420494  0.434898  0.246592  0.201684  0.156004\n",
       "2   STAT1  IFITM1  0.725632  0.648829  0.722967  0.712443  0.752257  0.719679\n",
       "3   STAT1  IFITM2  0.428704  0.519050  0.551876  0.540026  0.512139  0.507080\n",
       "4   STAT1   SOCS1  0.511312  0.388728  0.363513  0.474186  0.473442  0.504350\n",
       "5   STAT1  IFITM3  0.740275  0.668623  0.738930  0.742767  0.746072  0.721912\n",
       "6   STAT1    IRF7  0.635426  0.643951  0.687727  0.646674  0.672363  0.638066\n",
       "7   STAT1    IFI6  0.581431  0.598028  0.678681  0.584084  0.500680  0.451282\n",
       "8   STAT1    EGR1  0.036578  0.133676  0.208113  0.177444  0.209361  0.185099\n",
       "9   STAT1    OAS2  0.901655  0.889552  0.885935  0.894787  0.874481  0.850491\n",
       "10  STAT1  RNASEL -0.186669  0.075094  0.174380 -0.028666  0.225787  0.080254\n",
       "11  STAT1     MX2  0.793511  0.701432  0.783201  0.776184  0.802764  0.769418\n",
       "12  STAT1    IRF5  0.015622  0.149872  0.175975  0.162759  0.094299  0.004581\n",
       "13  STAT1   SOCS3 -0.003289  0.058578  0.054954  0.058636  0.098590  0.029305\n",
       "14  STAT1     MX1  0.824872  0.811559  0.836918  0.827033  0.836616  0.837403\n",
       "15  STAT1    IRF6  0.236000  0.375176  0.416317  0.300291  0.197750  0.268518\n",
       "16  STAT1    IRF1  0.117013  0.305977  0.332709  0.245130  0.311295  0.260523\n",
       "17  STAT1    TYK2  0.115119  0.152452  0.110514  0.134358 -0.013294  0.139048\n",
       "18  STAT1   IFIT1  0.749353  0.740828  0.761032  0.762833  0.755530  0.745587\n",
       "19  STAT1   RSAD2  0.569464  0.528762  0.662214  0.645862  0.647325  0.649318\n",
       "20  STAT1   ISG15  0.712075  0.675252  0.729740  0.732390  0.770571  0.736501\n",
       "21  STAT1   ISG20  0.610514  0.622557  0.670551  0.641622  0.676211  0.684491\n",
       "22  STAT1    XAF1  0.727158  0.469709  0.512824  0.731851  0.694403  0.709636\n",
       "23  STAT1    IRF3  0.157079  0.288388  0.268941  0.096917  0.015539  0.096347\n",
       "24  STAT1   IFIT3  0.587385  0.645985  0.683055  0.658808  0.691653  0.634757\n",
       "25  STAT1   IFIT2  0.399977  0.551617  0.561199  0.543053  0.572107  0.535786\n",
       "26  STAT1    OASL  0.546349  0.524610  0.534824  0.575320  0.578621  0.621049\n",
       "27  STAT1   PTPN6  0.140358  0.253868  0.214989  0.113689  0.174034  0.058551\n",
       "28  STAT1   IFI35  0.682694  0.706174  0.675952  0.749833  0.739956  0.690028\n",
       "29  STAT1   STAT1  0.000000  0.999993  0.441420  0.999999  0.291466  0.350614\n",
       "30  STAT1   STAT2  0.491948  0.347622  0.399055  0.559495  0.580490  0.534642\n",
       "31  STAT1   PTPN1  0.107042  0.254697  0.168329  0.292415  0.189344  0.029964\n",
       "32  STAT1   HLA-A  0.184255  0.416530  0.406567  0.169951  0.140786  0.112371\n",
       "33  STAT1   IFI27  0.499601  0.503988  0.614853  0.442542  0.360850  0.316760\n",
       "34  STAT1  IFNAR1  0.258440  0.356201  0.259966  0.149268  0.040471  0.197546\n",
       "35  STAT1   IP6K2 -0.251676  0.007698  0.109074 -0.110297 -0.163614 -0.062602\n",
       "36  STAT1  SAMHD1  0.326492  0.509650  0.506530  0.521115  0.457848  0.397784\n",
       "37  STAT1   HLA-C  0.319793  0.477181  0.521650  0.416268  0.395361  0.317643\n",
       "38  STAT1    GBP2  0.169309  0.161470  0.150904  0.253790  0.231197  0.289376\n",
       "39  STAT1   PSMB8  0.551763  0.592010  0.624260  0.620775  0.628463  0.625106\n",
       "40  STAT1    IRF9  0.548225  0.538770  0.607650  0.531990  0.473645  0.578006\n",
       "41  STAT1    BST2  0.599108  0.592494  0.662566  0.618264  0.650668  0.582153\n",
       "42  STAT1   HLA-E  0.415575  0.547246  0.587484  0.544590  0.566349  0.526313\n",
       "43  STAT1     B2M  0.184621  0.352014  0.422341  0.105076  0.048891  0.060456\n",
       "44  STAT1    OAS1  0.650792  0.672810  0.648029  0.710489  0.730142  0.715586\n",
       "45  STAT1  IFNAR2 -0.082962  0.185958  0.143096 -0.089721 -0.097923 -0.035020\n",
       "46  STAT1   ABCE1 -0.064579  0.106320  0.144581 -0.081918 -0.052310 -0.133862\n",
       "47  STAT1  PTPN11 -0.128289  0.217101  0.115554 -0.017050 -0.018553 -0.019121\n",
       "48  STAT1    JAK1 -0.016268  0.153578  0.234703  0.088207  0.043628 -0.004827\n",
       "49  STAT1   HLA-F  0.303196  0.464457  0.516259  0.421187  0.428796  0.360041\n",
       "50  STAT1    OAS3  0.733548  0.741300  0.767259  0.770594  0.799914  0.747048\n",
       "51  STAT1   USP18  0.559029  0.607182  0.580450  0.599093  0.623711  0.602167\n",
       "52  STAT1    ADAR  0.629318  0.614119  0.699720  0.720470  0.686398  0.637421"
      ]
     },
     "execution_count": 88,
     "metadata": {},
     "output_type": "execute_result"
    }
   ],
   "source": [
    "moment_df"
   ]
  },
  {
   "cell_type": "code",
   "execution_count": 89,
   "metadata": {},
   "outputs": [],
   "source": [
    "select_isgs = ['MX1', 'OAS3', 'IFIT3', 'IFI2']"
   ]
  },
  {
   "cell_type": "code",
   "execution_count": 90,
   "metadata": {},
   "outputs": [
    {
     "data": {
      "text/html": [
       "<div>\n",
       "<style scoped>\n",
       "    .dataframe tbody tr th:only-of-type {\n",
       "        vertical-align: middle;\n",
       "    }\n",
       "\n",
       "    .dataframe tbody tr th {\n",
       "        vertical-align: top;\n",
       "    }\n",
       "\n",
       "    .dataframe thead th {\n",
       "        text-align: right;\n",
       "    }\n",
       "</style>\n",
       "<table border=\"1\" class=\"dataframe\">\n",
       "  <thead>\n",
       "    <tr style=\"text-align: right;\">\n",
       "      <th></th>\n",
       "      <th>gene_1</th>\n",
       "      <th>gene_2</th>\n",
       "      <th>time_0</th>\n",
       "      <th>time_3</th>\n",
       "      <th>time_6</th>\n",
       "      <th>time_9</th>\n",
       "      <th>time_24</th>\n",
       "      <th>time_48</th>\n",
       "    </tr>\n",
       "  </thead>\n",
       "  <tbody>\n",
       "    <tr>\n",
       "      <th>14</th>\n",
       "      <td>STAT1</td>\n",
       "      <td>MX1</td>\n",
       "      <td>0.824872</td>\n",
       "      <td>0.811559</td>\n",
       "      <td>0.836918</td>\n",
       "      <td>0.827033</td>\n",
       "      <td>0.836616</td>\n",
       "      <td>0.837403</td>\n",
       "    </tr>\n",
       "    <tr>\n",
       "      <th>24</th>\n",
       "      <td>STAT1</td>\n",
       "      <td>IFIT3</td>\n",
       "      <td>0.587385</td>\n",
       "      <td>0.645985</td>\n",
       "      <td>0.683055</td>\n",
       "      <td>0.658808</td>\n",
       "      <td>0.691653</td>\n",
       "      <td>0.634757</td>\n",
       "    </tr>\n",
       "    <tr>\n",
       "      <th>50</th>\n",
       "      <td>STAT1</td>\n",
       "      <td>OAS3</td>\n",
       "      <td>0.733548</td>\n",
       "      <td>0.741300</td>\n",
       "      <td>0.767259</td>\n",
       "      <td>0.770594</td>\n",
       "      <td>0.799914</td>\n",
       "      <td>0.747048</td>\n",
       "    </tr>\n",
       "  </tbody>\n",
       "</table>\n",
       "</div>"
      ],
      "text/plain": [
       "   gene_1 gene_2    time_0    time_3    time_6    time_9   time_24   time_48\n",
       "14  STAT1    MX1  0.824872  0.811559  0.836918  0.827033  0.836616  0.837403\n",
       "24  STAT1  IFIT3  0.587385  0.645985  0.683055  0.658808  0.691653  0.634757\n",
       "50  STAT1   OAS3  0.733548  0.741300  0.767259  0.770594  0.799914  0.747048"
      ]
     },
     "execution_count": 90,
     "metadata": {},
     "output_type": "execute_result"
    }
   ],
   "source": [
    "moment_df.query('gene_1 == \"{}\" & gene_2 in @select_isgs'.format(tf))"
   ]
  },
  {
   "cell_type": "code",
   "execution_count": 104,
   "metadata": {},
   "outputs": [
    {
     "data": {
      "text/plain": [
       "<matplotlib.legend.Legend at 0x7f3a7ca75d90>"
      ]
     },
     "execution_count": 104,
     "metadata": {},
     "output_type": "execute_result"
    },
    {
     "data": {
      "image/png": "[encoded data removed]",
      "text/plain": [
       "<Figure size 144x144 with 1 Axes>"
      ]
     },
     "metadata": {
      "needs_background": "light"
     },
     "output_type": "display_data"
    }
   ],
   "source": [
    "tf = 'STAT1'\n",
    "select_isgs = ['MX1','MX2', 'OAS3', 'IFIT3', 'IFI2']\n",
    "plt.figure(figsize=(2,2))\n",
    "plt.plot(moment_df.query('gene_1 == \"{}\" & gene_2 in @select_isgs'.format(tf)).values[:, 2:].T, '--o')\n",
    "plt.xticks([0, 1, 2, 3, 4, 5], ['0', '3', '6', '9', '24', '48'])\n",
    "plt.xlabel('Time (hr)'); plt.ylabel('Corr {}'.format(tf))\n",
    "plt.ylim(0.2, 1);\n",
    "plt.legend(moment_df.query('gene_1 == \"{}\" & gene_2 in @select_isgs'.format(tf)).gene_2, frameon=False, ncol=2, bbox_to_anchor=(1,1))\n",
    "\n",
    "\n",
    "# plt.savefig(fig_path + 'mhc_stat1_corr.pdf', bbox_inches='tight')"
   ]
  },
  {
   "cell_type": "code",
   "execution_count": 40,
   "metadata": {},
   "outputs": [
    {
     "data": {
      "image/png": "[encoded data removed]",
      "text/plain": [
       "<Figure size 144x144 with 1 Axes>"
      ]
     },
     "metadata": {
      "needs_background": "light"
     },
     "output_type": "display_data"
    }
   ],
   "source": [
    "tf = 'NFKB2'\n",
    "plt.figure(figsize=(2,2))\n",
    "plt.plot(moment_df.query('gene_1 == \"{}\"'.format(tf)).values[:, 2:].T, '--o')\n",
    "plt.xticks([0, 1, 2, 3, 4, 5], ['0', '3', '6', '9', '24', '48'])\n",
    "plt.xlabel('Time (hr)'); plt.ylabel('Corr {}'.format(tf))\n",
    "plt.savefig(fig_path + 'mhc_corr_NFKB2.pdf', bbox_inches='tight')\n"
   ]
  },
  {
   "cell_type": "code",
   "execution_count": 41,
   "metadata": {},
   "outputs": [
    {
     "data": {
      "image/png": "[encoded data removed]",
      "text/plain": [
       "<Figure size 144x144 with 1 Axes>"
      ]
     },
     "metadata": {
      "needs_background": "light"
     },
     "output_type": "display_data"
    }
   ],
   "source": [
    "tf = 'REL'\n",
    "plt.figure(figsize=(2,2))\n",
    "plt.plot(moment_df.query('gene_1 == \"{}\"'.format(tf)).values[:, 2:].T, '--o')\n",
    "plt.xticks([0, 1, 2, 3, 4, 5], ['0', '3', '6', '9', '24', '48'])\n",
    "plt.xlabel('Time (hr)'); plt.ylabel('Corr {}'.format(tf))\n",
    "plt.savefig(fig_path + 'mhc_corr_REL.pdf', bbox_inches='tight')\n"
   ]
  },
  {
   "cell_type": "code",
   "execution_count": 38,
   "metadata": {},
   "outputs": [
    {
     "data": {
      "text/plain": [
       "Text(0, 0.5, 'Corr RFX5')"
      ]
     },
     "execution_count": 38,
     "metadata": {},
     "output_type": "execute_result"
    },
    {
     "data": {
      "image/png": "[encoded data removed]",
      "text/plain": [
       "<Figure size 144x144 with 1 Axes>"
      ]
     },
     "metadata": {
      "needs_background": "light"
     },
     "output_type": "display_data"
    }
   ],
   "source": [
    "tf = 'RFX5'\n",
    "plt.figure(figsize=(2,2))\n",
    "plt.plot(moment_df.query('gene_1 == \"{}\"'.format(tf)).values[:, 2:].T, '--o')\n",
    "plt.xticks([0, 1, 2, 3, 4, 5], ['0', '3', '6', '9', '24', '48'])\n",
    "plt.xlabel('Time (hr)'); plt.ylabel('Corr {}'.format(tf))"
   ]
  },
  {
   "cell_type": "code",
   "execution_count": 121,
   "metadata": {},
   "outputs": [
    {
     "data": {
      "image/png": "[encoded data removed]",
      "text/plain": [
       "<Figure size 144x144 with 1 Axes>"
      ]
     },
     "metadata": {
      "needs_background": "light"
     },
     "output_type": "display_data"
    }
   ],
   "source": [
    "tf = 'CREB3'\n",
    "plt.figure(figsize=(2,2))\n",
    "plt.plot(moment_df.query('gene_1 == \"{}\"'.format(tf)).values[:, 2:].T, '--o')\n",
    "plt.xticks([0, 1, 2, 3, 4, 5], ['0', '3', '6', '9', '24', '48'])\n",
    "plt.xlabel('Time (hr)'); plt.ylabel('Corr {}'.format(tf))\n",
    "plt.savefig(fig_path + 'mhc_creb3_corr.pdf', bbox_inches='tight')"
   ]
  },
  {
   "cell_type": "code",
   "execution_count": 122,
   "metadata": {},
   "outputs": [
    {
     "data": {
      "image/png": "[encoded data removed]",
      "text/plain": [
       "<Figure size 144x144 with 1 Axes>"
      ]
     },
     "metadata": {
      "needs_background": "light"
     },
     "output_type": "display_data"
    }
   ],
   "source": [
    "tf = 'STAT1'\n",
    "plt.figure(figsize=(2,2))\n",
    "plt.plot(moment_df.query('gene_1 == \"{}\"'.format(tf)).values[:, 2:].T, '--o')\n",
    "plt.xticks([0, 1, 2, 3, 4, 5], ['0', '3', '6', '9', '24', '48'])\n",
    "plt.xlabel('Time (hr)'); plt.ylabel('Corr {}'.format(tf))\n",
    "plt.savefig(fig_path + 'mhc_stat1_corr.pdf', bbox_inches='tight')"
   ]
  },
  {
   "cell_type": "code",
   "execution_count": 242,
   "metadata": {},
   "outputs": [],
   "source": [
    "tf = 'CREB3'"
   ]
  },
  {
   "cell_type": "code",
   "execution_count": 243,
   "metadata": {},
   "outputs": [
    {
     "data": {
      "text/html": [
       "<div>\n",
       "<style scoped>\n",
       "    .dataframe tbody tr th:only-of-type {\n",
       "        vertical-align: middle;\n",
       "    }\n",
       "\n",
       "    .dataframe tbody tr th {\n",
       "        vertical-align: top;\n",
       "    }\n",
       "\n",
       "    .dataframe thead th {\n",
       "        text-align: right;\n",
       "    }\n",
       "</style>\n",
       "<table border=\"1\" class=\"dataframe\">\n",
       "  <thead>\n",
       "    <tr style=\"text-align: right;\">\n",
       "      <th></th>\n",
       "      <th>gene_1</th>\n",
       "      <th>gene_2</th>\n",
       "      <th>time_0</th>\n",
       "      <th>time_3</th>\n",
       "      <th>time_6</th>\n",
       "      <th>time_9</th>\n",
       "      <th>time_24</th>\n",
       "      <th>time_48</th>\n",
       "    </tr>\n",
       "  </thead>\n",
       "  <tbody>\n",
       "    <tr>\n",
       "      <th>828</th>\n",
       "      <td>CREB3</td>\n",
       "      <td>HLA-A</td>\n",
       "      <td>0.092283</td>\n",
       "      <td>0.225511</td>\n",
       "      <td>0.230557</td>\n",
       "      <td>0.079328</td>\n",
       "      <td>0.065209</td>\n",
       "      <td>0.104553</td>\n",
       "    </tr>\n",
       "    <tr>\n",
       "      <th>829</th>\n",
       "      <td>CREB3</td>\n",
       "      <td>HLA-B</td>\n",
       "      <td>0.172263</td>\n",
       "      <td>0.341903</td>\n",
       "      <td>0.307946</td>\n",
       "      <td>0.155191</td>\n",
       "      <td>0.201031</td>\n",
       "      <td>0.159479</td>\n",
       "    </tr>\n",
       "    <tr>\n",
       "      <th>830</th>\n",
       "      <td>CREB3</td>\n",
       "      <td>HLA-C</td>\n",
       "      <td>0.190355</td>\n",
       "      <td>0.365602</td>\n",
       "      <td>0.330579</td>\n",
       "      <td>0.188595</td>\n",
       "      <td>0.240382</td>\n",
       "      <td>0.157265</td>\n",
       "    </tr>\n",
       "    <tr>\n",
       "      <th>831</th>\n",
       "      <td>CREB3</td>\n",
       "      <td>B2M</td>\n",
       "      <td>0.193022</td>\n",
       "      <td>0.443010</td>\n",
       "      <td>0.429344</td>\n",
       "      <td>0.321969</td>\n",
       "      <td>0.269825</td>\n",
       "      <td>0.238096</td>\n",
       "    </tr>\n",
       "  </tbody>\n",
       "</table>\n",
       "</div>"
      ],
      "text/plain": [
       "    gene_1 gene_2    time_0    time_3    time_6    time_9   time_24   time_48\n",
       "828  CREB3  HLA-A  0.092283  0.225511  0.230557  0.079328  0.065209  0.104553\n",
       "829  CREB3  HLA-B  0.172263  0.341903  0.307946  0.155191  0.201031  0.159479\n",
       "830  CREB3  HLA-C  0.190355  0.365602  0.330579  0.188595  0.240382  0.157265\n",
       "831  CREB3    B2M  0.193022  0.443010  0.429344  0.321969  0.269825  0.238096"
      ]
     },
     "execution_count": 243,
     "metadata": {},
     "output_type": "execute_result"
    }
   ],
   "source": [
    "moment_df.query('gene_1 == \"{}\"'.format(tf))"
   ]
  },
  {
   "cell_type": "code",
   "execution_count": 244,
   "metadata": {},
   "outputs": [
    {
     "data": {
      "text/plain": [
       "<matplotlib.legend.Legend at 0x7fa7bf95d4d0>"
      ]
     },
     "execution_count": 244,
     "metadata": {},
     "output_type": "execute_result"
    },
    {
     "data": {
      "image/png": "[encoded data removed]",
      "text/plain": [
       "<Figure size 144x144 with 1 Axes>"
      ]
     },
     "metadata": {
      "needs_background": "light"
     },
     "output_type": "display_data"
    }
   ],
   "source": [
    "tf = 'CREB3'\n",
    "plt.figure(figsize=(2,2))\n",
    "plt.plot(moment_df.query('gene_1 == \"{}\"'.format(tf)).values[:, 2:].T, '-o')\n",
    "plt.xticks([0, 1, 2, 3, 4, 5], ['0', '3', '6', '9', '24', '48'])\n",
    "plt.xlabel('Time (hr)'); plt.ylabel('Corr {}'.format(tf))\n",
    "plt.legend(['HLA-A', 'HLA-B', 'HLA-C', 'B2M'], ncol=4, frameon=False, bbox_to_anchor=(1,1))"
   ]
  },
  {
   "cell_type": "code",
   "execution_count": 245,
   "metadata": {},
   "outputs": [
    {
     "data": {
      "text/plain": [
       "Text(0, 0.5, 'Corr STAT6')"
      ]
     },
     "execution_count": 245,
     "metadata": {},
     "output_type": "execute_result"
    },
    {
     "data": {
      "image/png": "[encoded data removed]",
      "text/plain": [
       "<Figure size 144x144 with 1 Axes>"
      ]
     },
     "metadata": {
      "needs_background": "light"
     },
     "output_type": "display_data"
    }
   ],
   "source": [
    "tf = 'STAT6'\n",
    "plt.figure(figsize=(2,2))\n",
    "plt.plot(moment_df.query('gene_1 == \"{}\"'.format(tf)).values[:, 2:].T, '-o')\n",
    "plt.xticks([0, 1, 2, 3, 4, 5], ['0', '3', '6', '9', '24', '48'])\n",
    "plt.xlabel('Time (hr)'); plt.ylabel('Corr {}'.format(tf))"
   ]
  },
  {
   "cell_type": "code",
   "execution_count": 246,
   "metadata": {},
   "outputs": [
    {
     "data": {
      "text/plain": [
       "Text(0, 0.5, 'Corr JUND')"
      ]
     },
     "execution_count": 246,
     "metadata": {},
     "output_type": "execute_result"
    },
    {
     "data": {
      "image/png": "[encoded data removed]",
      "text/plain": [
       "<Figure size 144x144 with 1 Axes>"
      ]
     },
     "metadata": {
      "needs_background": "light"
     },
     "output_type": "display_data"
    }
   ],
   "source": [
    "tf = 'JUND'\n",
    "plt.figure(figsize=(2,2))\n",
    "plt.plot(moment_df.query('gene_1 == \"{}\"'.format(tf)).values[:, 2:].T, '-o')\n",
    "plt.xticks([0, 1, 2, 3, 4, 5], ['0', '3', '6', '9', '24', '48'])\n",
    "plt.xlabel('Time (hr)'); plt.ylabel('Corr {}'.format(tf))"
   ]
  },
  {
   "cell_type": "code",
   "execution_count": 249,
   "metadata": {},
   "outputs": [
    {
     "data": {
      "text/plain": [
       "Text(0, 0.5, 'Corr ETS2')"
      ]
     },
     "execution_count": 249,
     "metadata": {},
     "output_type": "execute_result"
    },
    {
     "data": {
      "image/png": "[encoded data removed]",
      "text/plain": [
       "<Figure size 144x144 with 1 Axes>"
      ]
     },
     "metadata": {
      "needs_background": "light"
     },
     "output_type": "display_data"
    }
   ],
   "source": [
    "tf = 'ETS2'\n",
    "plt.figure(figsize=(2,2))\n",
    "plt.plot(moment_df.query('gene_1 == \"{}\"'.format(tf)).values[:, 2:].T, '-o')\n",
    "plt.xticks([0, 1, 2, 3, 4, 5], ['0', '3', '6', '9', '24', '48'])\n",
    "plt.xlabel('Time (hr)'); plt.ylabel('Corr {}'.format(tf))"
   ]
  }
 ],
 "metadata": {
  "kernelspec": {
   "display_name": "Python 3",
   "language": "python",
   "name": "python3"
  },
  "language_info": {
   "codemirror_mode": {
    "name": "ipython",
    "version": 3
   },
   "file_extension": ".py",
   "mimetype": "text/x-python",
   "name": "python",
   "nbconvert_exporter": "python",
   "pygments_lexer": "ipython3",
   "version": "3.8.8"
  }
 },
 "nbformat": 4,
 "nbformat_minor": 4
}
