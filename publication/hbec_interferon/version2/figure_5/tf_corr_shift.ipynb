{
 "cells": [
  {
   "cell_type": "markdown",
   "metadata": {},
   "source": [
    "# Shift in mean TF-target correlation distribution"
   ]
  },
  {
   "cell_type": "code",
   "execution_count": 1,
   "metadata": {},
   "outputs": [],
   "source": [
    "import scanpy as sc\n",
    "import seaborn as sns\n",
    "import pandas as pd\n",
    "import matplotlib.pyplot as plt\n",
    "import numpy as np\n",
    "import scipy.stats as stats\n",
    "from pybedtools import BedTool\n",
    "import pickle as pkl\n",
    "import itertools\n",
    "%matplotlib inline"
   ]
  },
  {
   "cell_type": "code",
   "execution_count": 2,
   "metadata": {},
   "outputs": [],
   "source": [
    "import matplotlib\n",
    "matplotlib.rcParams['pdf.fonttype'] = 42\n",
    "matplotlib.rcParams['ps.fonttype'] = 42"
   ]
  },
  {
   "cell_type": "code",
   "execution_count": 3,
   "metadata": {},
   "outputs": [],
   "source": [
    "import sys\n",
    "sys.path.append('/home/ssm-user/Github/scrna-parameter-estimation/dist/memento-0.0.5-py3.8.egg')\n",
    "sys.path.append('/home/ssm-user/Github/misc-seq/miscseq/')\n",
    "import encode\n",
    "import memento"
   ]
  },
  {
   "cell_type": "code",
   "execution_count": 4,
   "metadata": {},
   "outputs": [],
   "source": [
    "data_path = '/data_volume/ifn_hbec/'\n",
    "fig_path = '/home/ssm-user/Github/scrna-parameter-estimation/figures/fig5/main/'"
   ]
  },
  {
   "cell_type": "markdown",
   "metadata": {},
   "source": [
    "### Get the TFs"
   ]
  },
  {
   "cell_type": "code",
   "execution_count": 5,
   "metadata": {},
   "outputs": [],
   "source": [
    "tf_df = pd.read_csv('../DatabaseExtract_v_1.01.csv', index_col=0)\n",
    "tf_df = tf_df[tf_df['TF assessment'] == 'Known motif']\n",
    "tf_df = tf_df[tf_df['Is a GO TF?'] == 'Yes']\n",
    "\n",
    "tfs = tf_df['HGNC symbol'].tolist()"
   ]
  },
  {
   "cell_type": "code",
   "execution_count": 6,
   "metadata": {},
   "outputs": [],
   "source": [
    "filtered_tfs = \"\"\"MAFG\n",
    "SPI1\n",
    "ZNF655\n",
    "MAX\n",
    "ATF4\n",
    "ATF3\n",
    "IRF2\n",
    "IRF1\n",
    "ARID5A\n",
    "BACH1\n",
    "YY1\n",
    "HMGA1\n",
    "IRF7\n",
    "STAT1\n",
    "NR1H2\n",
    "XBP1\n",
    "ETV6\n",
    "MSC\n",
    "ATF5\n",
    "MAFB\n",
    "FOS\n",
    "CEBPB\n",
    "BBX\n",
    "STAT3\n",
    "REL\n",
    "JUN\n",
    "CEBPD\n",
    "DDIT3\n",
    "NR3C1\n",
    "TGIF1\n",
    "ZNF267\n",
    "NFE2L2\n",
    "HIF1A\n",
    "AHR\n",
    "GTF2B\n",
    "CREM\n",
    "HBP1\n",
    "RELB\n",
    "TFEC\n",
    "YBX1\n",
    "ELF1\n",
    "JUNB\n",
    "NFKB1\n",
    "IRF9\n",
    "RBPJ\n",
    "KLF6\"\"\".split()"
   ]
  },
  {
   "cell_type": "markdown",
   "metadata": {},
   "source": [
    "### Read the processed RNA data\n",
    "\n",
    "Focus on the club and bc/club cells and type I interferons for now.\n",
    "\n",
    "Encode the timestamps to integers."
   ]
  },
  {
   "cell_type": "raw",
   "metadata": {},
   "source": [
    "adata_processed = sc.read(data_path + 'HBEC_type_I_processed.h5ad')"
   ]
  },
  {
   "cell_type": "code",
   "execution_count": 7,
   "metadata": {},
   "outputs": [],
   "source": [
    "adata = sc.read(data_path + 'HBEC_type_I_filtered_counts_deep.h5ad')"
   ]
  },
  {
   "cell_type": "code",
   "execution_count": 8,
   "metadata": {},
   "outputs": [
    {
     "name": "stderr",
     "output_type": "stream",
     "text": [
      "/home/ssm-user/anaconda3/envs/single_cell/lib/python3.8/site-packages/pandas/core/arrays/categorical.py:2487: FutureWarning: The `inplace` parameter in pandas.Categorical.remove_unused_categories is deprecated and will be removed in a future version.\n",
      "  res = method(*args, **kwargs)\n"
     ]
    }
   ],
   "source": [
    "adata = adata[:, ~adata.var.index.str.startswith('MT-')].copy()\n",
    "adata.obs['cell_type'] = adata.obs['cell_type'].apply(lambda x: x if x != 'basal/club' else 'bc')\n",
    "adata.obs['cell_type'] = adata.obs['cell_type'].apply(lambda x: x if x != 'ionocyte/tuft' else 'ion-tuft')"
   ]
  },
  {
   "cell_type": "raw",
   "metadata": {},
   "source": [
    "sc.pl.umap(adata_processed, color=['cell_type', 'time', 'stim'])"
   ]
  },
  {
   "cell_type": "code",
   "execution_count": 9,
   "metadata": {},
   "outputs": [
    {
     "data": {
      "text/plain": [
       "(69958, 36588)"
      ]
     },
     "execution_count": 9,
     "metadata": {},
     "output_type": "execute_result"
    }
   ],
   "source": [
    "adata.shape"
   ]
  },
  {
   "cell_type": "markdown",
   "metadata": {},
   "source": [
    "### Setup memento"
   ]
  },
  {
   "cell_type": "code",
   "execution_count": 10,
   "metadata": {},
   "outputs": [],
   "source": [
    "def assign_q(batch):\n",
    "    \n",
    "    if batch == 0:\n",
    "        return 0.387*0.25\n",
    "    elif batch == 1:\n",
    "        return 0.392*0.25\n",
    "    elif batch == 2:\n",
    "        return 0.436*0.25\n",
    "    else:\n",
    "        return 0.417*0.25"
   ]
  },
  {
   "cell_type": "code",
   "execution_count": 11,
   "metadata": {},
   "outputs": [],
   "source": [
    "adata.obs['q'] = adata.obs['batch'].apply(assign_q)"
   ]
  },
  {
   "cell_type": "code",
   "execution_count": 12,
   "metadata": {},
   "outputs": [],
   "source": [
    "memento.setup_memento(adata, q_column='q', trim_percent=0.05)"
   ]
  },
  {
   "cell_type": "markdown",
   "metadata": {},
   "source": [
    "### Compute TF mean corrs"
   ]
  },
  {
   "cell_type": "code",
   "execution_count": 13,
   "metadata": {},
   "outputs": [],
   "source": [
    "def get_2d_moments(tf, adata_stim):\n",
    "    \n",
    "    if tf not in adata_stim.var.index.tolist():\n",
    "        return None\n",
    "\n",
    "    memento.compute_2d_moments(adata_stim, list(itertools.product([tf], adata_stim.var.index)))\n",
    "\n",
    "    moment_df = memento.get_2d_moments(adata_stim, groupby='time')\n",
    "    \n",
    "    return moment_df\n",
    "\n",
    "def get_corr_diffs(stim):\n",
    "    \n",
    "    adata_stim = adata.copy()[\n",
    "    adata.obs.cell_type.isin(['ciliated']) & \\\n",
    "    adata.obs.stim.isin(['control', stim]) & \\\n",
    "    adata.obs.time.isin(['3','0'])].copy()\n",
    "\n",
    "    memento.create_groups(adata_stim, label_columns=['time', 'donor'])\n",
    "    memento.compute_1d_moments(adata_stim, min_perc_group=.9)\n",
    "    moment_1d_df = memento.get_1d_moments(adata_stim, groupby='time')\n",
    "    \n",
    "    tf_df_list = []\n",
    "    for idx, tf in enumerate(filtered_tfs):\n",
    "\n",
    "        df = get_2d_moments(tf, adata_stim)\n",
    "        if df is None:\n",
    "            continue\n",
    "        diff = (df['time_3'] - df['time_0']).mean()\n",
    "        tf_df_list.append((tf, diff))\n",
    "        del df\n",
    "\n",
    "    tf_df = pd.DataFrame(tf_df_list, columns=['tf', 'diff']).sort_values('diff', ascending=False)\n",
    "    tf_df['tf'] = tf_df['tf'].astype('category')\n",
    "    tf_order = tf_df.sort_values('diff', ascending=False).tf.tolist()\n",
    "    tf_df['tf'].cat.set_categories(tf_order, inplace=True)\n",
    "    print('finished', stim)\n",
    "    return tf_df"
   ]
  },
  {
   "cell_type": "code",
   "execution_count": 14,
   "metadata": {},
   "outputs": [
    {
     "name": "stderr",
     "output_type": "stream",
     "text": [
      "/home/ssm-user/Github/scrna-parameter-estimation/dist/memento-0.0.5-py3.8.egg/memento/main.py:594: RuntimeWarning: invalid value encountered in true_divide\n"
     ]
    },
    {
     "name": "stdout",
     "output_type": "stream",
     "text": [
      "finished beta\n"
     ]
    }
   ],
   "source": [
    "# tf_df_alpha = get_corr_diffs('alpha')\n",
    "tf_df_beta = get_corr_diffs('beta')\n",
    "# tf_df_gamma = get_corr_diffs('gamma')\n",
    "# tf_df_lambda = get_corr_diffs('lambda')"
   ]
  },
  {
   "cell_type": "code",
   "execution_count": null,
   "metadata": {},
   "outputs": [],
   "source": []
  },
  {
   "cell_type": "code",
   "execution_count": null,
   "metadata": {},
   "outputs": [],
   "source": []
  },
  {
   "cell_type": "code",
   "execution_count": 24,
   "metadata": {},
   "outputs": [
    {
     "data": {
      "image/png": "[encoded data removed]",
      "text/plain": [
       "<Figure size 396x144 with 2 Axes>"
      ]
     },
     "metadata": {
      "needs_background": "light"
     },
     "output_type": "display_data"
    }
   ],
   "source": [
    "import matplotlib.pylab as pylab\n",
    "params = {'legend.fontsize': 'medium',\n",
    "         'axes.labelsize': 'medium',\n",
    "         'axes.titlesize':'medium',\n",
    "         'figure.titlesize':'medium',\n",
    "         'xtick.labelsize':'3',\n",
    "         'ytick.labelsize':'medium'}\n",
    "pylab.rcParams.update(params)\n",
    "\n",
    "\n",
    "plt.figure(figsize=(5.5, 2))\n",
    "plt.subplots_adjust(wspace=0.32)\n",
    "plt.subplot(1, 2, 1);\n",
    "sns.barplot(x='tf', y='diff', data=tf_df_beta, errwidth=2)\n",
    "plt.xticks(rotation=90);\n",
    "plt.ylabel('Mean shift in corr')\n",
    "plt.xlabel(None)\n",
    "plt.title('IFN-B')\n",
    "\n",
    "plt.subplot(1, 2, 2);\n",
    "plt.title('IFN-G')\n",
    "\n",
    "sns.barplot(x='tf', y='diff', data=tf_df_gamma, errwidth=2)\n",
    "plt.xticks(rotation=90);\n",
    "plt.ylabel(None)\n",
    "plt.xlabel(None)\n",
    "plt.savefig(fig_path + 'tf_effect_sizes.pdf', bbox_inches='tight')\n"
   ]
  },
  {
   "cell_type": "markdown",
   "metadata": {},
   "source": [
    "### Compare to PBMCs"
   ]
  },
  {
   "cell_type": "code",
   "execution_count": 16,
   "metadata": {},
   "outputs": [],
   "source": [
    "pbmc_df = pd.read_csv('/data_volume/parameter_estimation/tf_corr_changes.csv')"
   ]
  },
  {
   "cell_type": "code",
   "execution_count": 20,
   "metadata": {},
   "outputs": [],
   "source": [
    "pbmc_df = pbmc_df.groupby('tf')['diff'].mean()"
   ]
  },
  {
   "cell_type": "code",
   "execution_count": 25,
   "metadata": {},
   "outputs": [],
   "source": [
    "joined = tf_df_beta.merge(pbmc_df, on='tf', how='inner', suffixes=('_htec', '_pbmc'))"
   ]
  },
  {
   "cell_type": "code",
   "execution_count": 26,
   "metadata": {},
   "outputs": [
    {
     "data": {
      "text/html": [
       "<div>\n",
       "<style scoped>\n",
       "    .dataframe tbody tr th:only-of-type {\n",
       "        vertical-align: middle;\n",
       "    }\n",
       "\n",
       "    .dataframe tbody tr th {\n",
       "        vertical-align: top;\n",
       "    }\n",
       "\n",
       "    .dataframe thead th {\n",
       "        text-align: right;\n",
       "    }\n",
       "</style>\n",
       "<table border=\"1\" class=\"dataframe\">\n",
       "  <thead>\n",
       "    <tr style=\"text-align: right;\">\n",
       "      <th></th>\n",
       "      <th>tf</th>\n",
       "      <th>diff_htec</th>\n",
       "      <th>diff_pbmc</th>\n",
       "    </tr>\n",
       "  </thead>\n",
       "  <tbody>\n",
       "    <tr>\n",
       "      <th>0</th>\n",
       "      <td>STAT1</td>\n",
       "      <td>0.118395</td>\n",
       "      <td>0.092951</td>\n",
       "    </tr>\n",
       "    <tr>\n",
       "      <th>1</th>\n",
       "      <td>IRF9</td>\n",
       "      <td>0.116533</td>\n",
       "      <td>0.006971</td>\n",
       "    </tr>\n",
       "    <tr>\n",
       "      <th>2</th>\n",
       "      <td>IRF7</td>\n",
       "      <td>0.099439</td>\n",
       "      <td>0.100698</td>\n",
       "    </tr>\n",
       "    <tr>\n",
       "      <th>3</th>\n",
       "      <td>HBP1</td>\n",
       "      <td>0.093258</td>\n",
       "      <td>0.031356</td>\n",
       "    </tr>\n",
       "    <tr>\n",
       "      <th>4</th>\n",
       "      <td>TGIF1</td>\n",
       "      <td>0.076798</td>\n",
       "      <td>-0.023658</td>\n",
       "    </tr>\n",
       "  </tbody>\n",
       "</table>\n",
       "</div>"
      ],
      "text/plain": [
       "      tf  diff_htec  diff_pbmc\n",
       "0  STAT1   0.118395   0.092951\n",
       "1   IRF9   0.116533   0.006971\n",
       "2   IRF7   0.099439   0.100698\n",
       "3   HBP1   0.093258   0.031356\n",
       "4  TGIF1   0.076798  -0.023658"
      ]
     },
     "execution_count": 26,
     "metadata": {},
     "output_type": "execute_result"
    }
   ],
   "source": [
    "joined.head(5)"
   ]
  },
  {
   "cell_type": "code",
   "execution_count": 27,
   "metadata": {},
   "outputs": [
    {
     "data": {
      "text/plain": [
       "<matplotlib.collections.PathCollection at 0x7f4a06694850>"
      ]
     },
     "execution_count": 27,
     "metadata": {},
     "output_type": "execute_result"
    },
    {
     "data": {
      "image/png": "[encoded data removed]",
      "text/plain": [
       "<Figure size 432x288 with 1 Axes>"
      ]
     },
     "metadata": {
      "needs_background": "light"
     },
     "output_type": "display_data"
    }
   ],
   "source": [
    "plt.scatter(joined['diff_htec'], joined['diff_pbmc'])"
   ]
  },
  {
   "cell_type": "code",
   "execution_count": 29,
   "metadata": {},
   "outputs": [
    {
     "data": {
      "text/plain": [
       "(0.28994819445138986, 0.07742830203764564)"
      ]
     },
     "execution_count": 29,
     "metadata": {},
     "output_type": "execute_result"
    }
   ],
   "source": [
    "stats.pearsonr(joined['diff_htec'], joined['diff_pbmc'])"
   ]
  },
  {
   "cell_type": "code",
   "execution_count": 18,
   "metadata": {},
   "outputs": [
    {
     "data": {
      "text/html": [
       "<div>\n",
       "<style scoped>\n",
       "    .dataframe tbody tr th:only-of-type {\n",
       "        vertical-align: middle;\n",
       "    }\n",
       "\n",
       "    .dataframe tbody tr th {\n",
       "        vertical-align: top;\n",
       "    }\n",
       "\n",
       "    .dataframe thead th {\n",
       "        text-align: right;\n",
       "    }\n",
       "</style>\n",
       "<table border=\"1\" class=\"dataframe\">\n",
       "  <thead>\n",
       "    <tr style=\"text-align: right;\">\n",
       "      <th></th>\n",
       "      <th>tf</th>\n",
       "      <th>diff</th>\n",
       "    </tr>\n",
       "  </thead>\n",
       "  <tbody>\n",
       "    <tr>\n",
       "      <th>11</th>\n",
       "      <td>STAT1</td>\n",
       "      <td>0.118395</td>\n",
       "    </tr>\n",
       "    <tr>\n",
       "      <th>38</th>\n",
       "      <td>IRF9</td>\n",
       "      <td>0.116533</td>\n",
       "    </tr>\n",
       "    <tr>\n",
       "      <th>10</th>\n",
       "      <td>IRF7</td>\n",
       "      <td>0.099439</td>\n",
       "    </tr>\n",
       "    <tr>\n",
       "      <th>32</th>\n",
       "      <td>HBP1</td>\n",
       "      <td>0.093258</td>\n",
       "    </tr>\n",
       "    <tr>\n",
       "      <th>25</th>\n",
       "      <td>TGIF1</td>\n",
       "      <td>0.076798</td>\n",
       "    </tr>\n",
       "  </tbody>\n",
       "</table>\n",
       "</div>"
      ],
      "text/plain": [
       "       tf      diff\n",
       "11  STAT1  0.118395\n",
       "38   IRF9  0.116533\n",
       "10   IRF7  0.099439\n",
       "32   HBP1  0.093258\n",
       "25  TGIF1  0.076798"
      ]
     },
     "execution_count": 18,
     "metadata": {},
     "output_type": "execute_result"
    }
   ],
   "source": [
    "tf_df_beta.head(5)"
   ]
  },
  {
   "cell_type": "markdown",
   "metadata": {},
   "source": [
    "### Individual examples \n",
    "\n",
    "IRF7, STAT1, IRF9"
   ]
  },
  {
   "cell_type": "code",
   "execution_count": 16,
   "metadata": {},
   "outputs": [
    {
     "name": "stderr",
     "output_type": "stream",
     "text": [
      "/home/ssm-user/anaconda3/envs/single_cell/lib/python3.8/site-packages/pandas/core/arrays/categorical.py:2487: FutureWarning: The `inplace` parameter in pandas.Categorical.remove_unused_categories is deprecated and will be removed in a future version.\n",
      "  res = method(*args, **kwargs)\n"
     ]
    }
   ],
   "source": [
    "# Do beta stim first\n",
    "adata_stim = adata.copy()[\n",
    "    adata.obs.cell_type.isin(['ciliated']) & \\\n",
    "    adata.obs.stim.isin(['control', 'beta']) & \\\n",
    "    adata.obs.time.isin(['3','0'])].copy()\n",
    "\n",
    "memento.create_groups(adata_stim, label_columns=['time', 'donor'])\n",
    "memento.compute_1d_moments(adata_stim, min_perc_group=.9)\n",
    "moment_1d_df = memento.get_1d_moments(adata_stim, groupby='time')\n",
    "\n",
    "# STAT1 \n",
    "memento.compute_2d_moments(adata_stim, list(itertools.product(['STAT1'], adata_stim.var.index)))\n",
    "moment_df = memento.get_2d_moments(adata_stim, groupby='time')\n",
    "stat1_ctrl = moment_df['time_0'].values\n",
    "stat1_beta = moment_df['time_3'].values\n",
    "\n",
    "# IRF7\n",
    "memento.compute_2d_moments(adata_stim, list(itertools.product(['IRF7'], adata_stim.var.index)))\n",
    "moment_df = memento.get_2d_moments(adata_stim, groupby='time')\n",
    "irf7_ctrl = moment_df['time_0'].values\n",
    "irf7_beta = moment_df['time_3'].values\n",
    "\n",
    "# IRF9\n",
    "memento.compute_2d_moments(adata_stim, list(itertools.product(['IRF9'], adata_stim.var.index)))\n",
    "moment_df = memento.get_2d_moments(adata_stim, groupby='time')\n",
    "irf9_ctrl = moment_df['time_0'].values\n",
    "irf9_beta = moment_df['time_3'].values"
   ]
  },
  {
   "cell_type": "code",
   "execution_count": 17,
   "metadata": {},
   "outputs": [
    {
     "name": "stderr",
     "output_type": "stream",
     "text": [
      "/home/ssm-user/Github/scrna-parameter-estimation/dist/memento-0.0.5-py3.8.egg/memento/main.py:594: RuntimeWarning: invalid value encountered in true_divide\n"
     ]
    }
   ],
   "source": [
    "# gamma stim\n",
    "adata_stim = adata.copy()[\n",
    "    adata.obs.cell_type.isin(['ciliated']) & \\\n",
    "    adata.obs.stim.isin(['control', 'gamma']) & \\\n",
    "    adata.obs.time.isin(['3','0'])].copy()\n",
    "\n",
    "memento.create_groups(adata_stim, label_columns=['time', 'donor'])\n",
    "memento.compute_1d_moments(adata_stim, min_perc_group=.9)\n",
    "moment_1d_df = memento.get_1d_moments(adata_stim, groupby='time')\n",
    "\n",
    "# STAT1 \n",
    "memento.compute_2d_moments(adata_stim, list(itertools.product(['STAT1'], adata_stim.var.index)))\n",
    "moment_df = memento.get_2d_moments(adata_stim, groupby='time')\n",
    "stat1_ctrl = moment_df['time_0'].values\n",
    "stat1_gamma = moment_df['time_3'].values\n",
    "\n",
    "# IRF7\n",
    "memento.compute_2d_moments(adata_stim, list(itertools.product(['IRF7'], adata_stim.var.index)))\n",
    "moment_df = memento.get_2d_moments(adata_stim, groupby='time')\n",
    "irf7_ctrl = moment_df['time_0'].values\n",
    "irf7_gamma = moment_df['time_3'].values\n",
    "\n",
    "# IRF9\n",
    "memento.compute_2d_moments(adata_stim, list(itertools.product(['IRF9'], adata_stim.var.index)))\n",
    "moment_df = memento.get_2d_moments(adata_stim, groupby='time')\n",
    "irf9_ctrl = moment_df['time_0'].values\n",
    "irf9_gamma = moment_df['time_3'].values"
   ]
  },
  {
   "cell_type": "code",
   "execution_count": 18,
   "metadata": {},
   "outputs": [
    {
     "data": {
      "image/png": "[encoded data removed]",
      "text/plain": [
       "<Figure size 360x144 with 2 Axes>"
      ]
     },
     "metadata": {
      "needs_background": "light"
     },
     "output_type": "display_data"
    }
   ],
   "source": [
    "import matplotlib.pylab as pylab\n",
    "params = {'legend.fontsize': 'medium',\n",
    "         'axes.labelsize': 'medium',\n",
    "         'axes.titlesize':'medium',\n",
    "         'figure.titlesize':'medium',\n",
    "         'xtick.labelsize':'medium',\n",
    "         'ytick.labelsize':'medium'}\n",
    "pylab.rcParams.update(params)\n",
    "\n",
    "plt.figure(figsize=(5, 2));\n",
    "plt.subplot(1, 2, 1);\n",
    "sns.kdeplot(stat1_ctrl, label='control');\n",
    "sns.kdeplot(stat1_beta, label='IFN-B');\n",
    "sns.kdeplot(stat1_gamma, label='IFN-G');\n",
    "plt.legend(loc='upper right', frameon=False, ncol=3, bbox_to_anchor=(2,1.2))\n",
    "plt.xlim(-0.5, 0.6)\n",
    "plt.xlabel('Correlation')\n",
    "plt.ylabel(None)\n",
    "\n",
    "plt.subplot(1, 2, 2);\n",
    "sns.kdeplot(irf7_ctrl, label='control');\n",
    "sns.kdeplot(irf7_beta, label='IFN-B');\n",
    "sns.kdeplot(irf7_gamma, label='IFN-G');\n",
    "plt.ylabel(None)\n",
    "plt.xlabel('Correlation')\n",
    "\n",
    "plt.xlim(-0.5, 0.6)\n",
    "plt.savefig(fig_path + 'tf_corr_hist.pdf', bbox_inches='tight')\n"
   ]
  },
  {
   "cell_type": "code",
   "execution_count": null,
   "metadata": {},
   "outputs": [],
   "source": []
  },
  {
   "cell_type": "code",
   "execution_count": null,
   "metadata": {},
   "outputs": [],
   "source": []
  },
  {
   "cell_type": "markdown",
   "metadata": {},
   "source": [
    "### Heatmap attempt"
   ]
  },
  {
   "cell_type": "code",
   "execution_count": 21,
   "metadata": {},
   "outputs": [
    {
     "data": {
      "text/html": [
       "<div>\n",
       "<style scoped>\n",
       "    .dataframe tbody tr th:only-of-type {\n",
       "        vertical-align: middle;\n",
       "    }\n",
       "\n",
       "    .dataframe tbody tr th {\n",
       "        vertical-align: top;\n",
       "    }\n",
       "\n",
       "    .dataframe thead th {\n",
       "        text-align: right;\n",
       "    }\n",
       "</style>\n",
       "<table border=\"1\" class=\"dataframe\">\n",
       "  <thead>\n",
       "    <tr style=\"text-align: right;\">\n",
       "      <th></th>\n",
       "      <th>tf</th>\n",
       "      <th>diff</th>\n",
       "    </tr>\n",
       "  </thead>\n",
       "  <tbody>\n",
       "    <tr>\n",
       "      <th>11</th>\n",
       "      <td>STAT1</td>\n",
       "      <td>0.192241</td>\n",
       "    </tr>\n",
       "    <tr>\n",
       "      <th>10</th>\n",
       "      <td>IRF7</td>\n",
       "      <td>0.161251</td>\n",
       "    </tr>\n",
       "    <tr>\n",
       "      <th>38</th>\n",
       "      <td>IRF9</td>\n",
       "      <td>0.151323</td>\n",
       "    </tr>\n",
       "    <tr>\n",
       "      <th>35</th>\n",
       "      <td>ELF1</td>\n",
       "      <td>0.143302</td>\n",
       "    </tr>\n",
       "    <tr>\n",
       "      <th>25</th>\n",
       "      <td>TGIF1</td>\n",
       "      <td>0.129898</td>\n",
       "    </tr>\n",
       "  </tbody>\n",
       "</table>\n",
       "</div>"
      ],
      "text/plain": [
       "       tf      diff\n",
       "11  STAT1  0.192241\n",
       "10   IRF7  0.161251\n",
       "38   IRF9  0.151323\n",
       "35   ELF1  0.143302\n",
       "25  TGIF1  0.129898"
      ]
     },
     "execution_count": 21,
     "metadata": {},
     "output_type": "execute_result"
    }
   ],
   "source": [
    "tf_df_alpha.head(5)"
   ]
  },
  {
   "cell_type": "code",
   "execution_count": 27,
   "metadata": {},
   "outputs": [],
   "source": [
    "joined = tf_df_beta \\\n",
    "    .merge(tf_df_gamma, on='tf', suffixes=('_beta', '_gamma'))\\\n",
    "    .merge(tf_df_alpha.rename(columns={'diff':'diff_alpha'}), on='tf')\\\n",
    "    .merge(tf_df_lambda.rename(columns={'diff':'diff_lambda'}), on='tf')\n",
    "joined = joined.set_index('tf')#.clip(upper=0.07, lower=-0.07)"
   ]
  },
  {
   "cell_type": "code",
   "execution_count": 31,
   "metadata": {},
   "outputs": [
    {
     "data": {
      "text/plain": [
       "<seaborn.matrix.ClusterGrid at 0x7f7c33698880>"
      ]
     },
     "execution_count": 31,
     "metadata": {},
     "output_type": "execute_result"
    },
    {
     "data": {
      "image/png": "[encoded data removed]",
      "text/plain": [
       "<Figure size 720x720 with 4 Axes>"
      ]
     },
     "metadata": {
      "needs_background": "light"
     },
     "output_type": "display_data"
    }
   ],
   "source": [
    "sns.clustermap(joined, z_score=1)"
   ]
  },
  {
   "cell_type": "code",
   "execution_count": 20,
   "metadata": {},
   "outputs": [
    {
     "data": {
      "text/html": [
       "<div>\n",
       "<style scoped>\n",
       "    .dataframe tbody tr th:only-of-type {\n",
       "        vertical-align: middle;\n",
       "    }\n",
       "\n",
       "    .dataframe tbody tr th {\n",
       "        vertical-align: top;\n",
       "    }\n",
       "\n",
       "    .dataframe thead th {\n",
       "        text-align: right;\n",
       "    }\n",
       "</style>\n",
       "<table border=\"1\" class=\"dataframe\">\n",
       "  <thead>\n",
       "    <tr style=\"text-align: right;\">\n",
       "      <th></th>\n",
       "      <th>diff_beta</th>\n",
       "      <th>diff_gamma</th>\n",
       "      <th>diff_alpha</th>\n",
       "      <th>diff_lambda</th>\n",
       "    </tr>\n",
       "    <tr>\n",
       "      <th>tf</th>\n",
       "      <th></th>\n",
       "      <th></th>\n",
       "      <th></th>\n",
       "      <th></th>\n",
       "    </tr>\n",
       "  </thead>\n",
       "  <tbody>\n",
       "    <tr>\n",
       "      <th>HBP1</th>\n",
       "      <td>0.188903</td>\n",
       "      <td>0.146866</td>\n",
       "      <td>0.189643</td>\n",
       "      <td>0.144297</td>\n",
       "    </tr>\n",
       "    <tr>\n",
       "      <th>HIF1A</th>\n",
       "      <td>0.179300</td>\n",
       "      <td>0.171330</td>\n",
       "      <td>0.186732</td>\n",
       "      <td>0.177091</td>\n",
       "    </tr>\n",
       "    <tr>\n",
       "      <th>BACH1</th>\n",
       "      <td>0.177841</td>\n",
       "      <td>0.161292</td>\n",
       "      <td>0.185713</td>\n",
       "      <td>0.152557</td>\n",
       "    </tr>\n",
       "    <tr>\n",
       "      <th>NFKB1</th>\n",
       "      <td>0.177778</td>\n",
       "      <td>0.168085</td>\n",
       "      <td>0.155215</td>\n",
       "      <td>0.164063</td>\n",
       "    </tr>\n",
       "    <tr>\n",
       "      <th>MAX</th>\n",
       "      <td>0.175971</td>\n",
       "      <td>0.165930</td>\n",
       "      <td>0.182030</td>\n",
       "      <td>0.179327</td>\n",
       "    </tr>\n",
       "  </tbody>\n",
       "</table>\n",
       "</div>"
      ],
      "text/plain": [
       "       diff_beta  diff_gamma  diff_alpha  diff_lambda\n",
       "tf                                                   \n",
       "HBP1    0.188903    0.146866    0.189643     0.144297\n",
       "HIF1A   0.179300    0.171330    0.186732     0.177091\n",
       "BACH1   0.177841    0.161292    0.185713     0.152557\n",
       "NFKB1   0.177778    0.168085    0.155215     0.164063\n",
       "MAX     0.175971    0.165930    0.182030     0.179327"
      ]
     },
     "execution_count": 20,
     "metadata": {},
     "output_type": "execute_result"
    }
   ],
   "source": [
    "joined.head(5)"
   ]
  },
  {
   "cell_type": "code",
   "execution_count": 26,
   "metadata": {},
   "outputs": [
    {
     "data": {
      "text/plain": [
       "<matplotlib.collections.PathCollection at 0x7f7c3335cc10>"
      ]
     },
     "execution_count": 26,
     "metadata": {},
     "output_type": "execute_result"
    },
    {
     "data": {
      "image/png": "[encoded data removed]",
      "text/plain": [
       "<Figure size 432x288 with 1 Axes>"
      ]
     },
     "metadata": {
      "needs_background": "light"
     },
     "output_type": "display_data"
    }
   ],
   "source": [
    "plt.scatter(joined['diff_beta'], joined['diff_lambda'])"
   ]
  },
  {
   "cell_type": "code",
   "execution_count": 25,
   "metadata": {},
   "outputs": [
    {
     "data": {
      "text/plain": [
       "<matplotlib.collections.PathCollection at 0x7f7c34640ac0>"
      ]
     },
     "execution_count": 25,
     "metadata": {},
     "output_type": "execute_result"
    },
    {
     "data": {
      "image/png": "[encoded data removed]",
      "text/plain": [
       "<Figure size 432x288 with 1 Axes>"
      ]
     },
     "metadata": {
      "needs_background": "light"
     },
     "output_type": "display_data"
    }
   ],
   "source": [
    "plt.scatter(joined['diff_beta'], joined['diff_gamma'])"
   ]
  },
  {
   "cell_type": "code",
   "execution_count": 24,
   "metadata": {},
   "outputs": [
    {
     "data": {
      "text/plain": [
       "<matplotlib.collections.PathCollection at 0x7f7c332a9eb0>"
      ]
     },
     "execution_count": 24,
     "metadata": {},
     "output_type": "execute_result"
    },
    {
     "data": {
      "image/png": "[encoded data removed]",
      "text/plain": [
       "<Figure size 432x288 with 1 Axes>"
      ]
     },
     "metadata": {
      "needs_background": "light"
     },
     "output_type": "display_data"
    }
   ],
   "source": [
    "plt.scatter(joined['diff_beta'], joined['diff_alpha'])"
   ]
  },
  {
   "cell_type": "code",
   "execution_count": 274,
   "metadata": {},
   "outputs": [],
   "source": [
    "clustered = joined.iloc[cg.dendrogram_row.reordered_ind, :].reset_index()"
   ]
  },
  {
   "cell_type": "code",
   "execution_count": 275,
   "metadata": {},
   "outputs": [],
   "source": [
    "# clustered = clustered.merge(tf_df_alpha.rename(columns={'diff':'diff_alpha'}), on='tf')"
   ]
  },
  {
   "cell_type": "code",
   "execution_count": 278,
   "metadata": {},
   "outputs": [
    {
     "data": {
      "image/png": "[encoded data removed]",
      "text/plain": [
       "<Figure size 576x216 with 2 Axes>"
      ]
     },
     "metadata": {
      "needs_background": "light"
     },
     "output_type": "display_data"
    }
   ],
   "source": [
    "plt.figure(figsize=(8, 3))\n",
    "sns.heatmap(clustered[['diff_alpha', 'diff_beta','diff_gamma']].values.T, cmap='coolwarm', center=0, vmax=0.1, vmin=-0.07)\n",
    "x=426\n",
    "# plt.plot([x, x], [-1, 10], color='k', lw=3)"
   ]
  },
  {
   "cell_type": "code",
   "execution_count": 260,
   "metadata": {},
   "outputs": [],
   "source": [
    "# ATF5, STAT1, STAT3, JUN\n",
    "# clustered.iloc[115:200].tf.tolist()"
   ]
  }
 ],
 "metadata": {
  "kernelspec": {
   "display_name": "Python 3",
   "language": "python",
   "name": "python3"
  },
  "language_info": {
   "codemirror_mode": {
    "name": "ipython",
    "version": 3
   },
   "file_extension": ".py",
   "mimetype": "text/x-python",
   "name": "python",
   "nbconvert_exporter": "python",
   "pygments_lexer": "ipython3",
   "version": "3.8.8"
  }
 },
 "nbformat": 4,
 "nbformat_minor": 4
}
