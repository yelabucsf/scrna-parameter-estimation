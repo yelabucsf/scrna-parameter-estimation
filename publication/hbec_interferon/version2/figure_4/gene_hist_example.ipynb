{
 "cells": [
  {
   "cell_type": "markdown",
   "metadata": {},
   "source": [
    "# Variability analysis for HBEC IFN experiment"
   ]
  },
  {
   "cell_type": "code",
   "execution_count": 1,
   "metadata": {},
   "outputs": [],
   "source": [
    "import scanpy as sc\n",
    "import seaborn as sns\n",
    "import pandas as pd\n",
    "import matplotlib.pyplot as plt\n",
    "import numpy as np\n",
    "import scipy.stats as stats\n",
    "from pybedtools import BedTool\n",
    "import pickle as pkl\n",
    "%matplotlib inline\n",
    "import itertools"
   ]
  },
  {
   "cell_type": "code",
   "execution_count": 2,
   "metadata": {},
   "outputs": [],
   "source": [
    "import sys\n",
    "sys.path.append('/home/ssm-user/Github/scrna-parameter-estimation/dist/memento-0.0.5-py3.8.egg')\n",
    "sys.path.append('/home/ssm-user/Github/misc-seq/miscseq')\n",
    "import encode\n",
    "import memento"
   ]
  },
  {
   "cell_type": "code",
   "execution_count": 3,
   "metadata": {},
   "outputs": [],
   "source": [
    "data_path = '/data_volume/ifn_hbec/'\n",
    "fig_path = '/home/ssm-user/Github/scrna-parameter-estimation/figures/fig4/main/'"
   ]
  },
  {
   "cell_type": "code",
   "execution_count": 4,
   "metadata": {},
   "outputs": [],
   "source": [
    "import matplotlib\n",
    "matplotlib.rcParams['pdf.fonttype'] = 42\n",
    "matplotlib.rcParams['ps.fonttype'] = 42"
   ]
  },
  {
   "cell_type": "code",
   "execution_count": 5,
   "metadata": {},
   "outputs": [],
   "source": [
    "import matplotlib.pylab as pylab\n",
    "params = {'legend.fontsize': 'medium',\n",
    "         'axes.labelsize': 'medium',\n",
    "         'axes.titlesize':'medium',\n",
    "         'figure.titlesize':'medium',\n",
    "         'xtick.labelsize':'small',\n",
    "         'ytick.labelsize':'small'}\n",
    "pylab.rcParams.update(params)"
   ]
  },
  {
   "cell_type": "markdown",
   "metadata": {},
   "source": [
    "### Read the processed RNA data\n",
    "\n",
    "Focus on the club and bc/club cells and type I interferons for now.\n",
    "\n",
    "Encode the timestamps to integers."
   ]
  },
  {
   "cell_type": "code",
   "execution_count": 6,
   "metadata": {},
   "outputs": [],
   "source": [
    "# adata_processed = sc.read(data_path + 'HBEC_type_I_processed_deep.h5ad')"
   ]
  },
  {
   "cell_type": "code",
   "execution_count": 7,
   "metadata": {},
   "outputs": [],
   "source": [
    "adata = sc.read(data_path + 'HBEC_type_I_filtered_counts_deep.h5ad')"
   ]
  },
  {
   "cell_type": "code",
   "execution_count": 8,
   "metadata": {},
   "outputs": [
    {
     "name": "stderr",
     "output_type": "stream",
     "text": [
      "/home/ssm-user/anaconda3/envs/single_cell/lib/python3.8/site-packages/pandas/core/arrays/categorical.py:2487: FutureWarning: The `inplace` parameter in pandas.Categorical.remove_unused_categories is deprecated and will be removed in a future version.\n",
      "  res = method(*args, **kwargs)\n"
     ]
    }
   ],
   "source": [
    "adata = adata[:, ~adata.var.index.str.startswith('MT-')].copy()\n",
    "adata.obs['cell_type'] = adata.obs['cell_type'].apply(lambda x: x if x != 'basal/club' else 'bc')\n",
    "adata.obs['cell_type'] = adata.obs['cell_type'].apply(lambda x: x if x != 'ionocyte/tuft' else 'ion-tuft')"
   ]
  },
  {
   "cell_type": "raw",
   "metadata": {},
   "source": [
    "sc.pl.umap(adata_processed, color=['cell_type', 'time', 'stim'])"
   ]
  },
  {
   "cell_type": "code",
   "execution_count": 9,
   "metadata": {},
   "outputs": [
    {
     "data": {
      "text/plain": [
       "(69958, 36588)"
      ]
     },
     "execution_count": 9,
     "metadata": {},
     "output_type": "execute_result"
    }
   ],
   "source": [
    "adata.shape"
   ]
  },
  {
   "cell_type": "markdown",
   "metadata": {},
   "source": [
    "### Finding examples of simple regulation"
   ]
  },
  {
   "cell_type": "code",
   "execution_count": 10,
   "metadata": {},
   "outputs": [
    {
     "data": {
      "text/plain": [
       "AnnData object with n_obs × n_vars = 69958 × 36588\n",
       "    obs: 'NUM.SNPS', 'BEST.GUESS', 'DROPLET.TYPE', 'batch', 'HTO_classification', 'condition', 'donor', 'stim', 'time', 'n_genes', 'n_genes_by_counts', 'total_counts', 'total_counts_mt', 'pct_counts_mt', 'leiden', 'cell_type'\n",
       "    var: 'gene_ids', 'feature_types', 'genome', 'mt', 'n_cells_by_counts', 'mean_counts', 'pct_dropout_by_counts', 'total_counts'"
      ]
     },
     "execution_count": 10,
     "metadata": {},
     "output_type": "execute_result"
    }
   ],
   "source": [
    "adata"
   ]
  },
  {
   "cell_type": "code",
   "execution_count": 34,
   "metadata": {},
   "outputs": [
    {
     "name": "stderr",
     "output_type": "stream",
     "text": [
      "/home/ssm-user/anaconda3/envs/single_cell/lib/python3.8/site-packages/pandas/core/arrays/categorical.py:2487: FutureWarning: The `inplace` parameter in pandas.Categorical.remove_unused_categories is deprecated and will be removed in a future version.\n",
      "  res = method(*args, **kwargs)\n"
     ]
    }
   ],
   "source": [
    "stim = 'gamma'\n",
    "ct = ['ciliated']\n",
    "subset_processed = adata[\n",
    "            adata.obs.cell_type.isin(ct) & \\\n",
    "            adata.obs.stim.isin(['control', stim])].copy()\n"
   ]
  },
  {
   "cell_type": "code",
   "execution_count": 35,
   "metadata": {},
   "outputs": [],
   "source": [
    "# sc.pp.normalize_total(subset_processed, target_sum=1e4)"
   ]
  },
  {
   "cell_type": "code",
   "execution_count": 36,
   "metadata": {},
   "outputs": [],
   "source": [
    "sc.pp.log1p(subset_processed)"
   ]
  },
  {
   "cell_type": "code",
   "execution_count": 37,
   "metadata": {},
   "outputs": [],
   "source": [
    "df = pd.DataFrame()\n",
    "df['STAT1'] = subset_processed[:, 'STAT1'].X.todense().A1\n",
    "df['STAT2'] = subset_processed[:, 'STAT2'].X.todense().A1\n",
    "df['IRF9'] = subset_processed[:, 'IRF9'].X.todense().A1\n",
    "\n",
    "df['GBP1'] = subset_processed[:, 'GBP1'].X.todense().A1\n",
    "df['ACTB'] = subset_processed[:, 'ACTB'].X.todense().A1\n",
    "\n",
    "df['time'] = subset_processed.obs['time'].values"
   ]
  },
  {
   "cell_type": "code",
   "execution_count": 38,
   "metadata": {},
   "outputs": [],
   "source": [
    "def row_based_idx(num_rows, num_cols, idx):\n",
    "    return np.arange(1, num_rows*num_cols + 1).reshape((num_rows, num_cols)).transpose().flatten()[idx-1]"
   ]
  },
  {
   "cell_type": "markdown",
   "metadata": {},
   "source": [
    "### Get KDE values"
   ]
  },
  {
   "cell_type": "code",
   "execution_count": 62,
   "metadata": {},
   "outputs": [],
   "source": [
    "stat1_values = {}\n",
    "gbp1_values = {}\n",
    "actb_values = {}\n",
    "for time in ['0', '3', '6','9','24','48']:\n",
    "    stat1_values[time] = sns.kdeplot(df.query('time == \"{}\"'.format(time)).STAT1, bw_adjust=1.5).get_lines()[0].get_data()\n",
    "    plt.close()\n",
    "    gbp1_values[time] = sns.kdeplot(df.query('time == \"{}\"'.format(time)).GBP1, bw_adjust=1.5).get_lines()[0].get_data()\n",
    "    plt.close()\n",
    "    actb_values[time] = sns.kdeplot(df.query('time == \"{}\"'.format(time)).ACTB, bw_adjust=1.5).get_lines()[0].get_data()\n",
    "    plt.close()"
   ]
  },
  {
   "cell_type": "code",
   "execution_count": 63,
   "metadata": {},
   "outputs": [
    {
     "data": {
      "text/plain": [
       "array([6.89766170e-05, 9.87877250e-05, 1.39385462e-04, 1.93751819e-04,\n",
       "       2.65331299e-04])"
      ]
     },
     "execution_count": 63,
     "metadata": {},
     "output_type": "execute_result"
    }
   ],
   "source": [
    "actb_values['0'][1][:5]"
   ]
  },
  {
   "cell_type": "code",
   "execution_count": 64,
   "metadata": {},
   "outputs": [
    {
     "data": {
      "text/plain": [
       "array([0.00534584, 0.00686627, 0.00875619, 0.01108663, 0.01393715])"
      ]
     },
     "execution_count": 64,
     "metadata": {},
     "output_type": "execute_result"
    }
   ],
   "source": [
    "stat1_values['0'][1][:5]"
   ]
  },
  {
   "cell_type": "code",
   "execution_count": 65,
   "metadata": {},
   "outputs": [
    {
     "data": {
      "text/plain": [
       "array([0.00659525, 0.00866132, 0.01127822, 0.01456131, 0.01864078])"
      ]
     },
     "execution_count": 65,
     "metadata": {},
     "output_type": "execute_result"
    }
   ],
   "source": [
    "gbp1_values['0'][1][:5]"
   ]
  },
  {
   "cell_type": "code",
   "execution_count": 66,
   "metadata": {},
   "outputs": [],
   "source": [
    "time = '0'"
   ]
  },
  {
   "cell_type": "code",
   "execution_count": 93,
   "metadata": {},
   "outputs": [],
   "source": [
    "colors = sns.color_palette(\"viridis_r\", 6)"
   ]
  },
  {
   "cell_type": "code",
   "execution_count": 98,
   "metadata": {},
   "outputs": [
    {
     "data": {
      "image/png": "[encoded data removed]",
      "text/plain": [
       "<Figure size 180x144 with 1 Axes>"
      ]
     },
     "metadata": {
      "needs_background": "light"
     },
     "output_type": "display_data"
    }
   ],
   "source": [
    "plt.figure(figsize=(2.5, 2))\n",
    "for idx, time in enumerate(['0', '3', '6','9','24','48']):\n",
    "    plt.plot(stat1_values[time][0], stat1_values[time][1] - idx*0.1, lw=2.5, color=colors[idx])\n",
    "plt.ylim(-1,1); plt.yticks([]); plt.xlim(-0.8, 4);plt.axis('off')\n",
    "plt.savefig(fig_path + 'gene_hist_example/STAT1_noaxis.pdf', bbox_inches='tight', transparent=True)"
   ]
  },
  {
   "cell_type": "code",
   "execution_count": 99,
   "metadata": {},
   "outputs": [
    {
     "data": {
      "image/png": "[encoded data removed]",
      "text/plain": [
       "<Figure size 180x144 with 1 Axes>"
      ]
     },
     "metadata": {
      "needs_background": "light"
     },
     "output_type": "display_data"
    }
   ],
   "source": [
    "plt.figure(figsize=(2.5, 2))\n",
    "for idx, time in enumerate(['0', '3', '6','9','24','48']):\n",
    "    plt.plot(stat1_values[time][0], stat1_values[time][1] - idx*0.1, lw=2.5, color=colors[idx])\n",
    "plt.ylim(-1,1); plt.yticks([]); plt.xlim(-0.8, 4)#plt.axis('off')\n",
    "plt.savefig(fig_path + 'gene_hist_example/STAT1_axis.pdf', bbox_inches='tight', transparent=True)"
   ]
  },
  {
   "cell_type": "code",
   "execution_count": 103,
   "metadata": {},
   "outputs": [
    {
     "data": {
      "image/png": "[encoded data removed]",
      "text/plain": [
       "<Figure size 180x144 with 1 Axes>"
      ]
     },
     "metadata": {
      "needs_background": "light"
     },
     "output_type": "display_data"
    }
   ],
   "source": [
    "plt.figure(figsize=(2.5, 2))\n",
    "\n",
    "for idx, time in enumerate(['0', '3', '6','9','24','48']):\n",
    "    plt.plot(gbp1_values[time][0], gbp1_values[time][1] - idx*0.1, lw=2.5, color=colors[idx])\n",
    "plt.ylim(-1,1); plt.yticks([]); plt.xlim(-1, 4);plt.axis('off')\n",
    "plt.savefig(fig_path + 'gene_hist_example/GBP1_noaxis.pdf', bbox_inches='tight', transparent=True)"
   ]
  },
  {
   "cell_type": "code",
   "execution_count": 102,
   "metadata": {},
   "outputs": [
    {
     "data": {
      "image/png": "[encoded data removed]",
      "text/plain": [
       "<Figure size 180x144 with 1 Axes>"
      ]
     },
     "metadata": {
      "needs_background": "light"
     },
     "output_type": "display_data"
    }
   ],
   "source": [
    "plt.figure(figsize=(2.5, 2))\n",
    "\n",
    "for idx, time in enumerate(['0', '3', '6','9','24','48']):\n",
    "    plt.plot(gbp1_values[time][0], gbp1_values[time][1] - idx*0.1, lw=2.5, color=colors[idx])\n",
    "plt.ylim(-1,1); plt.yticks([]); plt.xlim(-1, 4)#plt.axis('off')\n",
    "plt.savefig(fig_path + 'gene_hist_example/GBP1_axis.pdf', bbox_inches='tight', transparent=True)"
   ]
  },
  {
   "cell_type": "code",
   "execution_count": 105,
   "metadata": {},
   "outputs": [
    {
     "data": {
      "image/png": "[encoded data removed]",
      "text/plain": [
       "<Figure size 180x144 with 1 Axes>"
      ]
     },
     "metadata": {
      "needs_background": "light"
     },
     "output_type": "display_data"
    }
   ],
   "source": [
    "plt.figure(figsize=(2.5, 2))\n",
    "for idx, time in enumerate(['0', '3', '6','9','24','48']):\n",
    "    plt.plot(actb_values[time][0], actb_values[time][1] - idx*0.1, lw=2.5, color=colors[idx])\n",
    "plt.ylim(-1,1); plt.yticks([]); plt.xlim(1, 5.5);plt.axis('off')\n",
    "plt.savefig(fig_path + 'gene_hist_example/ACTB_noaxis.pdf', bbox_inches='tight', transparent=True)"
   ]
  },
  {
   "cell_type": "code",
   "execution_count": 106,
   "metadata": {},
   "outputs": [
    {
     "data": {
      "image/png": "[encoded data removed]",
      "text/plain": [
       "<Figure size 180x144 with 1 Axes>"
      ]
     },
     "metadata": {
      "needs_background": "light"
     },
     "output_type": "display_data"
    }
   ],
   "source": [
    "plt.figure(figsize=(2.5, 2))\n",
    "for idx, time in enumerate(['0', '3', '6','9','24','48']):\n",
    "    plt.plot(actb_values[time][0], actb_values[time][1] - idx*0.1, lw=2.5, color=colors[idx])\n",
    "plt.ylim(-1,1); plt.yticks([]); plt.xlim(1, 5.5)#plt.axis('off')\n",
    "plt.savefig(fig_path + 'gene_hist_example/ACTB_axis.pdf', bbox_inches='tight', transparent=True)"
   ]
  },
  {
   "cell_type": "code",
   "execution_count": 23,
   "metadata": {},
   "outputs": [
    {
     "data": {
      "image/png": "[encoded data removed]",
      "text/plain": [
       "<Figure size 432x216 with 18 Axes>"
      ]
     },
     "metadata": {
      "needs_background": "light"
     },
     "output_type": "display_data"
    }
   ],
   "source": [
    "fig = plt.figure(figsize=(6, 3))\n",
    "fig.patch.set_alpha(0.0)\n",
    "plt.subplots_adjust(hspace=0.0)\n",
    "\n",
    "idx = 1\n",
    "\n",
    "for time in ['0', '3', '6','9','24','48']:\n",
    "    plt.subplot(6, 3, row_based_idx(6, 3, idx));\n",
    "    fig = sns.kdeplot(df.query('time == \"{}\"'.format(time)).STAT1, bw_adjust=1.5)\n",
    "    \n",
    "    values = sns.kdeplot(df.query('time == \"{}\"'.format(time)).STAT1, bw_adjust=1.5).get_lines()[0].get_data()\n",
    "\n",
    "    sns.despine();\n",
    "    if time != '48':\n",
    "        plt.xticks([]);\n",
    "    plt.axis('off')\n",
    "    plt.xlabel(None)\n",
    "    plt.ylabel(None)\n",
    "    plt.yticks([]);\n",
    "    plt.xlim(-1.5, 5);\n",
    "    plt.ylim(0, 0.7)\n",
    "    if time == '48':\n",
    "        plt.xlabel('STAT1')\n",
    "    idx+=1\n",
    "        \n",
    "for time in ['0', '3', '6','9','24','48']:\n",
    "    plt.subplot(6, 3, row_based_idx(6, 3, idx));\n",
    "    fig = sns.kdeplot(df.query('time == \"{}\"'.format(time)).GBP1, bw_adjust=1.5)\n",
    "\n",
    "    sns.despine();\n",
    "    if time != '48':\n",
    "        plt.xticks([]);\n",
    "\n",
    "    plt.xlabel(None)\n",
    "    plt.ylabel(None)\n",
    "    plt.yticks([]);\n",
    "    plt.xlim(-2, 5);\n",
    "    plt.ylim(0, 0.7)\n",
    "    if time == '48':\n",
    "        plt.xlabel('GBP1')\n",
    "    idx+=1\n",
    "\n",
    "for time in ['0', '3', '6','9','24','48']:\n",
    "    plt.subplot(6, 3, row_based_idx(6, 3, idx));\n",
    "    fig = sns.kdeplot(df.query('time == \"{}\"'.format(time)).ACTB, bw_adjust=1.5)\n",
    "\n",
    "    sns.despine();\n",
    "    if time != '48':\n",
    "        plt.xticks([]);\n",
    "\n",
    "    plt.xlabel(None)\n",
    "    plt.ylabel(None)\n",
    "    plt.yticks([]);\n",
    "    plt.xlim(1, 6);\n",
    "    plt.ylim(0, 0.7)\n",
    "    if time == '48':\n",
    "        plt.xlabel('ACTB')\n",
    "    idx+=1\n",
    "    \n",
    "# plt.savefig(fig_path + 'gene_hists.pdf', bbox_inches='tight')\n"
   ]
  },
  {
   "cell_type": "code",
   "execution_count": 36,
   "metadata": {},
   "outputs": [
    {
     "data": {
      "image/png": "[encoded data removed]",
      "text/plain": [
       "<Figure size 108x216 with 4 Axes>"
      ]
     },
     "metadata": {
      "needs_background": "light"
     },
     "output_type": "display_data"
    }
   ],
   "source": [
    "plt.figure(figsize=(1.5, 3))\n",
    "# plt.subplots_adjust(hspace=0.005)\n",
    "for idx, time in enumerate(['0', '3', '9','48']):\n",
    "    plt.subplot(6, 1, idx+1);\n",
    "    fig = sns.kdeplot(df.query('time == \"{}\"'.format(time)).STAT2, bw_adjust=2)\n",
    "\n",
    "    sns.despine();\n",
    "    if time != '48':\n",
    "        plt.xticks([]);\n",
    "\n",
    "    plt.xlabel(None)\n",
    "    plt.ylabel(None)\n",
    "    plt.yticks([]);\n",
    "    plt.xlim(-1.5, 5);\n",
    "    plt.ylim(0, 0.9)\n",
    "    if time == '48':\n",
    "        plt.xlabel('STAT2')\n"
   ]
  },
  {
   "cell_type": "code",
   "execution_count": 82,
   "metadata": {},
   "outputs": [
    {
     "data": {
      "image/png": "[encoded data removed]",
      "text/plain": [
       "<Figure size 108x216 with 4 Axes>"
      ]
     },
     "metadata": {
      "needs_background": "light"
     },
     "output_type": "display_data"
    }
   ],
   "source": [
    "plt.figure(figsize=(1.5, 3))\n",
    "# plt.subplots_adjust(hspace=0.005)\n",
    "for idx, time in enumerate(['0', '3', '9','48']):\n",
    "    plt.subplot(6, 1, idx+1);\n",
    "    fig = sns.kdeplot(df.query('time == \"{}\"'.format(time)).STAT1, bw_adjust=1.5)\n",
    "\n",
    "    sns.despine();\n",
    "    if time != '48':\n",
    "        plt.xticks([]);\n",
    "\n",
    "    plt.xlabel(None)\n",
    "    plt.ylabel(None)\n",
    "    plt.yticks([]);\n",
    "    plt.xlim(-1.5, 5);\n",
    "    plt.ylim(0, 0.7)\n",
    "    if time == '48':\n",
    "        plt.xlabel('STAT1')\n"
   ]
  },
  {
   "cell_type": "code",
   "execution_count": 29,
   "metadata": {},
   "outputs": [
    {
     "data": {
      "image/png": "[encoded data removed]",
      "text/plain": [
       "<Figure size 108x216 with 4 Axes>"
      ]
     },
     "metadata": {
      "needs_background": "light"
     },
     "output_type": "display_data"
    }
   ],
   "source": [
    "plt.figure(figsize=(1.5, 3))\n",
    "# plt.subplots_adjust(hspace=0.005)\n",
    "for idx, time in enumerate(['0', '3', '9','48']):\n",
    "    plt.subplot(6, 1, idx+1);\n",
    "    fig = sns.kdeplot(df.query('time == \"{}\"'.format(time)).GBP1, bw_adjust=1.5)\n",
    "\n",
    "    sns.despine();\n",
    "    if time != '48':\n",
    "        plt.xticks([]);\n",
    "\n",
    "    plt.xlabel(None)\n",
    "    plt.ylabel(None)\n",
    "    plt.yticks([]);\n",
    "    plt.xlim(-2, 5);\n",
    "    plt.ylim(0, 0.7)\n",
    "    if time == '48':\n",
    "        plt.xlabel('GBP1')"
   ]
  },
  {
   "cell_type": "code",
   "execution_count": 35,
   "metadata": {},
   "outputs": [
    {
     "data": {
      "image/png": "[encoded data removed]",
      "text/plain": [
       "<Figure size 108x216 with 4 Axes>"
      ]
     },
     "metadata": {
      "needs_background": "light"
     },
     "output_type": "display_data"
    }
   ],
   "source": [
    "plt.figure(figsize=(1.5, 3))\n",
    "# plt.subplots_adjust(hspace=0.005)\n",
    "for idx, time in enumerate(['0', '6', '9','48']):\n",
    "    plt.subplot(6, 1, idx+1);\n",
    "    fig = sns.kdeplot(df.query('time == \"{}\"'.format(time)).ACTB, bw_adjust=1)\n",
    "\n",
    "    sns.despine();\n",
    "    if time != '48':\n",
    "        plt.xticks([]);\n",
    "\n",
    "    plt.xlabel(None)\n",
    "    plt.ylabel(None)\n",
    "    plt.yticks([]);\n",
    "    plt.xlim(0., 6);\n",
    "    plt.ylim(0, 0.7)\n",
    "    if time == '48':\n",
    "        plt.xlabel('ACTB')"
   ]
  },
  {
   "cell_type": "code",
   "execution_count": null,
   "metadata": {},
   "outputs": [],
   "source": []
  }
 ],
 "metadata": {
  "kernelspec": {
   "display_name": "Python 3",
   "language": "python",
   "name": "python3"
  },
  "language_info": {
   "codemirror_mode": {
    "name": "ipython",
    "version": 3
   },
   "file_extension": ".py",
   "mimetype": "text/x-python",
   "name": "python",
   "nbconvert_exporter": "python",
   "pygments_lexer": "ipython3",
   "version": "3.8.8"
  }
 },
 "nbformat": 4,
 "nbformat_minor": 4
}
