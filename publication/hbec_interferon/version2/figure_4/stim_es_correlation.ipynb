{
 "cells": [
  {
   "cell_type": "markdown",
   "metadata": {},
   "source": [
    "# Variability analysis for HBEC IFN experiment"
   ]
  },
  {
   "cell_type": "code",
   "execution_count": 3,
   "metadata": {},
   "outputs": [],
   "source": [
    "import scanpy as sc\n",
    "import seaborn as sns\n",
    "import pandas as pd\n",
    "import matplotlib.pyplot as plt\n",
    "import numpy as np\n",
    "import scipy.stats as stats\n",
    "from pybedtools import BedTool\n",
    "import pickle as pkl\n",
    "%matplotlib inline\n",
    "import itertools"
   ]
  },
  {
   "cell_type": "code",
   "execution_count": 4,
   "metadata": {},
   "outputs": [],
   "source": [
    "import sys\n",
    "sys.path.append('/home/ssm-user/Github/scrna-parameter-estimation/dist/memento-0.0.5-py3.8.egg')\n",
    "sys.path.append('/home/ssm-user/Github/misc-seq/miscseq')\n",
    "import encode\n",
    "import memento"
   ]
  },
  {
   "cell_type": "code",
   "execution_count": 5,
   "metadata": {},
   "outputs": [],
   "source": [
    "data_path = '/data_volume/ifn_hbec/'\n",
    "fig_path = '/data/home/Github/scrna-parameter-estimation/figures/fig6/'"
   ]
  },
  {
   "cell_type": "code",
   "execution_count": null,
   "metadata": {},
   "outputs": [],
   "source": [
    "import matplotlib\n",
    "matplotlib.rcParams['pdf.fonttype'] = 42\n",
    "matplotlib.rcParams['ps.fonttype'] = 42"
   ]
  },
  {
   "cell_type": "code",
   "execution_count": 5,
   "metadata": {},
   "outputs": [],
   "source": [
    "import matplotlib.pylab as pylab\n",
    "params = {'legend.fontsize': 'medium',\n",
    "         'axes.labelsize': 'medium',\n",
    "         'axes.titlesize':'medium',\n",
    "         'figure.titlesize':'medium',\n",
    "         'xtick.labelsize':'small',\n",
    "         'ytick.labelsize':'small'}\n",
    "pylab.rcParams.update(params)"
   ]
  },
  {
   "cell_type": "markdown",
   "metadata": {},
   "source": [
    "### Get canonical TFs"
   ]
  },
  {
   "cell_type": "code",
   "execution_count": 6,
   "metadata": {},
   "outputs": [],
   "source": [
    "tf_df = pd.read_csv('DatabaseExtract_v_1.01.csv', index_col=0)\n",
    "tf_df = tf_df[tf_df['TF assessment'] == 'Known motif']\n",
    "tfs = tf_df['HGNC symbol'].tolist()"
   ]
  },
  {
   "cell_type": "markdown",
   "metadata": {},
   "source": [
    "### Read the processed RNA data\n",
    "\n",
    "Focus on the club and bc/club cells and type I interferons for now.\n",
    "\n",
    "Encode the timestamps to integers."
   ]
  },
  {
   "cell_type": "code",
   "execution_count": 7,
   "metadata": {},
   "outputs": [],
   "source": [
    "# adata_processed = sc.read(data_path + 'HBEC_type_I_processed_deep.h5ad')"
   ]
  },
  {
   "cell_type": "code",
   "execution_count": 8,
   "metadata": {},
   "outputs": [],
   "source": [
    "adata = sc.read(data_path + 'HBEC_type_I_filtered_counts_deep.h5ad')"
   ]
  },
  {
   "cell_type": "code",
   "execution_count": 9,
   "metadata": {},
   "outputs": [],
   "source": [
    "adata = adata[:, ~adata.var.index.str.startswith('MT-')].copy()\n",
    "adata.obs['cell_type'] = adata.obs['cell_type'].apply(lambda x: x if x != 'basal/club' else 'bc')\n",
    "adata.obs['cell_type'] = adata.obs['cell_type'].apply(lambda x: x if x != 'ionocyte/tuft' else 'ion-tuft')"
   ]
  },
  {
   "cell_type": "raw",
   "metadata": {},
   "source": [
    "sc.pl.umap(adata_processed, color=['cell_type', 'time', 'stim'])"
   ]
  },
  {
   "cell_type": "code",
   "execution_count": 10,
   "metadata": {},
   "outputs": [
    {
     "data": {
      "text/plain": [
       "(69958, 36588)"
      ]
     },
     "execution_count": 10,
     "metadata": {},
     "output_type": "execute_result"
    }
   ],
   "source": [
    "adata.shape"
   ]
  },
  {
   "cell_type": "markdown",
   "metadata": {},
   "source": [
    "### Read 1d HT result comparing to control"
   ]
  },
  {
   "cell_type": "code",
   "execution_count": 57,
   "metadata": {},
   "outputs": [],
   "source": [
    "cts = [['ciliated'], ['bc', 'basal']]\n",
    "tps = ['3', '6', '9', '24', '48']\n",
    "stims = ['alpha', 'beta', 'gamma', 'lambda']"
   ]
  },
  {
   "cell_type": "code",
   "execution_count": 58,
   "metadata": {},
   "outputs": [],
   "source": [
    "def read_result(ct):\n",
    "    \n",
    "    ht_dict = {}\n",
    "    moments_dict = {}\n",
    "    \n",
    "    for stim in stims:\n",
    "        ht_dict[stim] = {}\n",
    "        moments_dict[stim] = {}\n",
    "        for tp in tps: \n",
    "            adata_subset = sc.read('/data_volume/ifn_hbec/binary_test_deep/{}_{}_{}.h5ad'.format('-'.join(ct), stim, tp))\n",
    "            ht_dict[stim][tp] = memento.get_1d_ht_result(adata_subset)\n",
    "            ht_dict[stim][tp]['de_fdr'] = memento.util._fdrcorrect(ht_dict[stim][tp]['de_pval'])\n",
    "            ht_dict[stim][tp]['dv_fdr'] = memento.util._fdrcorrect(ht_dict[stim][tp]['dv_pval'])\n",
    "            moments_dict[stim][tp] = memento.get_1d_moments(adata_subset, groupby='time_step')\n",
    "    return ht_dict,moments_dict"
   ]
  },
  {
   "cell_type": "code",
   "execution_count": 59,
   "metadata": {},
   "outputs": [],
   "source": [
    "all_result = {}\n",
    "for ct in cts:\n",
    "    \n",
    "    key = '-'.join(ct)\n",
    "    all_result[key] = {}\n",
    "    \n",
    "    all_result[key]['ht'], all_result[key]['moments'] = read_result(ct)"
   ]
  },
  {
   "cell_type": "code",
   "execution_count": 15,
   "metadata": {},
   "outputs": [],
   "source": [
    "dv_genes = set()\n",
    "de_genes = set()\n",
    "all_genes = set()\n",
    "for ct in cts:\n",
    "    \n",
    "    key = '-'.join(ct)    \n",
    "    df = all_result[key]['ht']\n",
    "    \n",
    "    for stim in stims:\n",
    "        for tp in tps:\n",
    "            all_genes |= set(all_result[key]['ht'][stim][tp].gene.tolist())\n",
    "            de_genes |= set(all_result[key]['ht'][stim][tp].query('de_fdr < 0.05').gene.tolist())\n",
    "            dv_genes |= set(all_result[key]['ht'][stim][tp].query('dv_fdr < 0.1').gene.tolist())"
   ]
  },
  {
   "cell_type": "code",
   "execution_count": 16,
   "metadata": {},
   "outputs": [
    {
     "data": {
      "text/html": [
       "<div>\n",
       "<style scoped>\n",
       "    .dataframe tbody tr th:only-of-type {\n",
       "        vertical-align: middle;\n",
       "    }\n",
       "\n",
       "    .dataframe tbody tr th {\n",
       "        vertical-align: top;\n",
       "    }\n",
       "\n",
       "    .dataframe thead th {\n",
       "        text-align: right;\n",
       "    }\n",
       "</style>\n",
       "<table border=\"1\" class=\"dataframe\">\n",
       "  <thead>\n",
       "    <tr style=\"text-align: right;\">\n",
       "      <th></th>\n",
       "      <th>gene</th>\n",
       "      <th>de_coef</th>\n",
       "      <th>de_se</th>\n",
       "      <th>de_pval</th>\n",
       "      <th>dv_coef</th>\n",
       "      <th>dv_se</th>\n",
       "      <th>dv_pval</th>\n",
       "      <th>de_fdr</th>\n",
       "      <th>dv_fdr</th>\n",
       "    </tr>\n",
       "  </thead>\n",
       "  <tbody>\n",
       "    <tr>\n",
       "      <th>0</th>\n",
       "      <td>LINC01409</td>\n",
       "      <td>0.269090</td>\n",
       "      <td>0.135810</td>\n",
       "      <td>0.047495</td>\n",
       "      <td>0.619429</td>\n",
       "      <td>0.737656</td>\n",
       "      <td>3.365663e-01</td>\n",
       "      <td>0.089426</td>\n",
       "      <td>7.018107e-01</td>\n",
       "    </tr>\n",
       "    <tr>\n",
       "      <th>1</th>\n",
       "      <td>NOC2L</td>\n",
       "      <td>0.069103</td>\n",
       "      <td>0.091108</td>\n",
       "      <td>0.448055</td>\n",
       "      <td>-0.156447</td>\n",
       "      <td>0.744702</td>\n",
       "      <td>8.022198e-01</td>\n",
       "      <td>0.556792</td>\n",
       "      <td>9.368110e-01</td>\n",
       "    </tr>\n",
       "    <tr>\n",
       "      <th>2</th>\n",
       "      <td>HES4</td>\n",
       "      <td>0.618335</td>\n",
       "      <td>0.050295</td>\n",
       "      <td>0.000008</td>\n",
       "      <td>0.036485</td>\n",
       "      <td>0.148947</td>\n",
       "      <td>8.047195e-01</td>\n",
       "      <td>0.000055</td>\n",
       "      <td>9.375526e-01</td>\n",
       "    </tr>\n",
       "    <tr>\n",
       "      <th>3</th>\n",
       "      <td>ISG15</td>\n",
       "      <td>2.725120</td>\n",
       "      <td>0.072049</td>\n",
       "      <td>0.000001</td>\n",
       "      <td>-2.478389</td>\n",
       "      <td>0.170019</td>\n",
       "      <td>3.137984e-35</td>\n",
       "      <td>0.000009</td>\n",
       "      <td>3.025644e-31</td>\n",
       "    </tr>\n",
       "    <tr>\n",
       "      <th>4</th>\n",
       "      <td>AGRN</td>\n",
       "      <td>0.897875</td>\n",
       "      <td>0.070454</td>\n",
       "      <td>0.000005</td>\n",
       "      <td>-0.099188</td>\n",
       "      <td>0.332871</td>\n",
       "      <td>7.491251e-01</td>\n",
       "      <td>0.000037</td>\n",
       "      <td>9.155868e-01</td>\n",
       "    </tr>\n",
       "  </tbody>\n",
       "</table>\n",
       "</div>"
      ],
      "text/plain": [
       "        gene   de_coef     de_se   de_pval   dv_coef     dv_se       dv_pval  \\\n",
       "0  LINC01409  0.269090  0.135810  0.047495  0.619429  0.737656  3.365663e-01   \n",
       "1      NOC2L  0.069103  0.091108  0.448055 -0.156447  0.744702  8.022198e-01   \n",
       "2       HES4  0.618335  0.050295  0.000008  0.036485  0.148947  8.047195e-01   \n",
       "3      ISG15  2.725120  0.072049  0.000001 -2.478389  0.170019  3.137984e-35   \n",
       "4       AGRN  0.897875  0.070454  0.000005 -0.099188  0.332871  7.491251e-01   \n",
       "\n",
       "     de_fdr        dv_fdr  \n",
       "0  0.089426  7.018107e-01  \n",
       "1  0.556792  9.368110e-01  \n",
       "2  0.000055  9.375526e-01  \n",
       "3  0.000009  3.025644e-31  \n",
       "4  0.000037  9.155868e-01  "
      ]
     },
     "execution_count": 16,
     "metadata": {},
     "output_type": "execute_result"
    }
   ],
   "source": [
    "all_result['ciliated']['ht']['beta']['3'].head(5)"
   ]
  },
  {
   "cell_type": "code",
   "execution_count": 104,
   "metadata": {},
   "outputs": [],
   "source": [
    "def plot_de_dv(result_df):\n",
    "    \n",
    "    de_diff = result_df['de_coef']\n",
    "    dv_diff = result_df['dv_coef']\n",
    "    de_fdr = result_df['de_fdr']\n",
    "    dv_fdr = result_df['dv_fdr']\n",
    "    \n",
    "    plt.plot([0, 0], [np.nanmin(dv_diff), np.nanmax(dv_diff)], '--', lw=2, color='k')\n",
    "    plt.plot([np.nanmin(de_diff), np.nanmax(de_diff)], [0, 0], '--', lw=2, color='k')\n",
    "    \n",
    "    de_sig = de_fdr < 0.05\n",
    "    dv_sig = (dv_fdr < 0.1)\n",
    "    dv_inc = dv_diff > 0\n",
    "    dv_dec = dv_diff < 0\n",
    "    \n",
    "#     both_sig = de_sig & dv_sig\n",
    "\n",
    "    plt.scatter(de_diff, dv_diff, s=1, color='grey', zorder=-1)\n",
    "#     plt.scatter(de_diff[de_sig], dv_diff[de_sig], s=1, color='b')\n",
    "    plt.scatter(de_diff[dv_sig & dv_inc], dv_diff[dv_sig & dv_inc], s=3, color='c', zorder=10)\n",
    "    plt.scatter(de_diff[dv_sig & dv_dec], dv_diff[dv_sig & dv_dec], s=3, color='m', zorder=10)\n",
    "\n",
    "#     plt.scatter(de_diff[both_sig], dv_diff[both_sig], s=1, color='m')\n",
    "#     plt.xlim(-0.1, .1);\n",
    "#     plt.ylim(-0.5, 0.3)\n",
    "        \n",
    "    plt.xlabel('$\\Delta$Mean')\n",
    "    plt.ylabel('$\\Delta$Variability')\n",
    "    \n",
    "#     print(util.robust_correlation(de_diff[de_sig & dv_sig], dv_diff[de_sig & dv_sig]))\n",
    "\n",
    "#     plt.title(label_converter[ct])\n",
    "#     plt.gca().xaxis.set_major_locator(plt.MultipleLocator(0.1))\n",
    "#     plt.gca().yaxis.set_major_locator(plt.MultipleLocator(0.255))"
   ]
  },
  {
   "cell_type": "code",
   "execution_count": 106,
   "metadata": {},
   "outputs": [
    {
     "data": {
      "image/png": "[encoded data removed]",
      "text/plain": [
       "<Figure size 122.4x108 with 1 Axes>"
      ]
     },
     "metadata": {
      "needs_background": "light"
     },
     "output_type": "display_data"
    }
   ],
   "source": [
    "plt.figure(figsize=(1.7, 1.5))\n",
    "plot_de_dv(all_result['bc-basal']['ht']['beta']['6'])\n",
    "plt.title('basal/club IFN-B')\n",
    "plt.savefig(fig_path + 'scatter_hbec_beta_bc.png', bbox_inches='tight', dpi=300)\n"
   ]
  },
  {
   "cell_type": "code",
   "execution_count": 34,
   "metadata": {},
   "outputs": [
    {
     "data": {
      "image/png": "[encoded data removed]",
      "text/plain": [
       "<Figure size 122.4x108 with 1 Axes>"
      ]
     },
     "metadata": {
      "needs_background": "light"
     },
     "output_type": "display_data"
    }
   ],
   "source": [
    "plt.figure(figsize=(1.7, 1.5))\n",
    "plot_de_dv(all_result['ciliated']['ht']['beta']['6'])\n",
    "plt.title('ciliated IFN-B')\n",
    "plt.savefig(fig_path + 'scatter_hbec_beta.png', bbox_inches='tight', dpi=300)\n"
   ]
  },
  {
   "cell_type": "code",
   "execution_count": 35,
   "metadata": {},
   "outputs": [
    {
     "data": {
      "image/png": "[encoded data removed]",
      "text/plain": [
       "<Figure size 122.4x108 with 1 Axes>"
      ]
     },
     "metadata": {
      "needs_background": "light"
     },
     "output_type": "display_data"
    }
   ],
   "source": [
    "plt.figure(figsize=(1.7, 1.5))\n",
    "plot_de_dv(all_result['ciliated']['ht']['alpha']['6'])\n",
    "plt.title('ciliated IFN-A')\n",
    "plt.savefig(fig_path + 'scatter_hbec_alpha.png', bbox_inches='tight', dpi=300)\n"
   ]
  },
  {
   "cell_type": "code",
   "execution_count": 38,
   "metadata": {},
   "outputs": [
    {
     "data": {
      "text/plain": [
       "SpearmanrResult(correlation=-0.20350205187874654, pvalue=8.17887784358328e-87)"
      ]
     },
     "execution_count": 38,
     "metadata": {},
     "output_type": "execute_result"
    }
   ],
   "source": [
    "stats.spearmanr(\n",
    "    all_result['ciliated']['ht']['alpha']['6'].de_coef,\n",
    "    all_result['ciliated']['ht']['alpha']['6'].dv_coef)"
   ]
  },
  {
   "cell_type": "code",
   "execution_count": 111,
   "metadata": {},
   "outputs": [
    {
     "data": {
      "text/plain": [
       "SpearmanrResult(correlation=-0.09265385773160449, pvalue=5.864851408053831e-17)"
      ]
     },
     "execution_count": 111,
     "metadata": {},
     "output_type": "execute_result"
    }
   ],
   "source": [
    "stats.spearmanr(\n",
    "    all_result['bc-basal']['ht']['beta']['6'].de_coef,\n",
    "    all_result['bc-basal']['ht']['beta']['6'].dv_coef)"
   ]
  },
  {
   "cell_type": "code",
   "execution_count": 39,
   "metadata": {},
   "outputs": [
    {
     "data": {
      "text/plain": [
       "SpearmanrResult(correlation=-0.14469855064477544, pvalue=2.176507671411776e-46)"
      ]
     },
     "execution_count": 39,
     "metadata": {},
     "output_type": "execute_result"
    }
   ],
   "source": [
    "stats.spearmanr(\n",
    "    all_result['ciliated']['ht']['beta']['6'].de_coef,\n",
    "    all_result['ciliated']['ht']['beta']['6'].dv_coef)"
   ]
  },
  {
   "cell_type": "markdown",
   "metadata": {},
   "source": [
    "### Dec var genes"
   ]
  },
  {
   "cell_type": "code",
   "execution_count": 113,
   "metadata": {},
   "outputs": [
    {
     "name": "stdout",
     "output_type": "stream",
     "text": [
      "ISG15\n",
      "IFI6\n",
      "MARCKSL1\n",
      "IFI44L\n",
      "IFI44\n",
      "CAPN2\n",
      "CMPK2\n",
      "RSAD2\n",
      "EIF2AK2\n",
      "PARP9\n",
      "PARP14\n",
      "PPP2R3A\n",
      "PLSCR1\n",
      "RTP4\n",
      "CD38\n",
      "CXCL1\n",
      "HERC6\n",
      "HERC5\n",
      "DDX60\n",
      "DDX60L\n",
      "CD74\n",
      "HLA-A\n",
      "HLA-B\n",
      "CFB\n",
      "HLA-DRA\n",
      "HLA-DMA\n",
      "SAMD9\n",
      "SAMD9L\n",
      "PTN\n",
      "DDX58\n",
      "MSMB\n",
      "IFIT2\n",
      "IFIT3\n",
      "IFIT1\n",
      "IFITM2\n",
      "IFITM1\n",
      "IFITM3\n",
      "IRF7\n",
      "TSPAN8\n",
      "OAS1\n",
      "OAS3\n",
      "EPSTI1\n",
      "CLDN10\n",
      "NFKBIA\n",
      "IFI27\n",
      "ISG20\n",
      "MT2A\n",
      "ZZEF1\n",
      "XAF1\n",
      "RNF213\n",
      "SERPINB3\n",
      "C3\n",
      "BST2\n",
      "CLEC11A\n",
      "BPIFB1\n",
      "MX2\n",
      "MX1\n"
     ]
    }
   ],
   "source": [
    "for g in all_result['ciliated']['ht']['beta']['6'].query('dv_coef < 0 & dv_fdr < 0.1').gene.tolist():\n",
    "    print(g)"
   ]
  },
  {
   "cell_type": "markdown",
   "metadata": {},
   "source": [
    "### Get genes that are likely ISGF3 binding"
   ]
  },
  {
   "cell_type": "code",
   "execution_count": 114,
   "metadata": {},
   "outputs": [],
   "source": [
    "enc = encode.Encode('/data/home/Github/misc-seq/miscseq/GRCh38Genes.bed')"
   ]
  },
  {
   "cell_type": "code",
   "execution_count": 115,
   "metadata": {},
   "outputs": [],
   "source": [
    "stat1_bed = enc.get_encode_peaks_union([\n",
    "    'https://www.encodeproject.org/files/ENCFF747ICD/@@download/ENCFF747ICD.bed.gz',\n",
    "    'https://www.encodeproject.org/files/ENCFF646MXG/@@download/ENCFF646MXG.bed.gz'\n",
    "])\n",
    "stat2_bed = enc.get_encode_peaks_union([\n",
    "    'https://www.encodeproject.org/files/ENCFF204VQS/@@download/ENCFF204VQS.bed.gz',\n",
    "    'https://www.encodeproject.org/files/ENCFF545JVD/@@download/ENCFF545JVD.bed.gz'\n",
    "])"
   ]
  },
  {
   "cell_type": "code",
   "execution_count": 116,
   "metadata": {},
   "outputs": [],
   "source": [
    "intersect_bed = stat1_bed.intersect(stat2_bed).sort()"
   ]
  },
  {
   "cell_type": "code",
   "execution_count": 117,
   "metadata": {},
   "outputs": [
    {
     "name": "stderr",
     "output_type": "stream",
     "text": [
      "/data/home/anaconda3/envs/single_cell/lib/python3.7/site-packages/pybedtools/bedtool.py:3681: UserWarning: Default names for filetype bed are:\n",
      "['chrom', 'start', 'end', 'name', 'score', 'strand', 'thickStart', 'thickEnd', 'itemRgb', 'blockCount', 'blockSizes', 'blockStarts']\n",
      "but file has 16 fields; you can supply custom names with the `names` kwarg\n",
      "  \"`names` kwarg\" % (self.file_type, _names, self.field_count())\n"
     ]
    }
   ],
   "source": [
    "isgf3_genes = enc.get_peak_genes_bed(intersect_bed, 0).query('distance == 0 & ~gene.str.contains(\"MT\").values').gene.tolist()"
   ]
  },
  {
   "cell_type": "markdown",
   "metadata": {},
   "source": [
    "### Get genes that are likely GAF binding"
   ]
  },
  {
   "cell_type": "code",
   "execution_count": 118,
   "metadata": {},
   "outputs": [],
   "source": [
    "stat1_bed = enc.get_encode_peaks_union([\n",
    "    'https://www.encodeproject.org/files/ENCFF431NLF/@@download/ENCFF431NLF.bed.gz',\n",
    "    'https://www.encodeproject.org/files/ENCFF646MXG/@@download/ENCFF646MXG.bed.gz'\n",
    "])"
   ]
  },
  {
   "cell_type": "code",
   "execution_count": 119,
   "metadata": {},
   "outputs": [
    {
     "name": "stderr",
     "output_type": "stream",
     "text": [
      "/data/home/anaconda3/envs/single_cell/lib/python3.7/site-packages/pybedtools/bedtool.py:3681: UserWarning: Default names for filetype bed are:\n",
      "['chrom', 'start', 'end', 'name', 'score', 'strand', 'thickStart', 'thickEnd', 'itemRgb', 'blockCount', 'blockSizes', 'blockStarts']\n",
      "but file has 16 fields; you can supply custom names with the `names` kwarg\n",
      "  \"`names` kwarg\" % (self.file_type, _names, self.field_count())\n"
     ]
    }
   ],
   "source": [
    "potential_gaf_genes = enc\\\n",
    "    .get_peak_genes_encode('https://www.encodeproject.org/files/ENCFF431NLF/@@download/ENCFF431NLF.bed.gz', 0)\\\n",
    "    .query('distance == 0 & ~gene.str.contains(\"MT\").values').gene.tolist()"
   ]
  },
  {
   "cell_type": "code",
   "execution_count": 120,
   "metadata": {},
   "outputs": [
    {
     "name": "stderr",
     "output_type": "stream",
     "text": [
      "/data/home/anaconda3/envs/single_cell/lib/python3.7/site-packages/pybedtools/bedtool.py:3681: UserWarning: Default names for filetype bed are:\n",
      "['chrom', 'start', 'end', 'name', 'score', 'strand', 'thickStart', 'thickEnd', 'itemRgb', 'blockCount', 'blockSizes', 'blockStarts']\n",
      "but file has 16 fields; you can supply custom names with the `names` kwarg\n",
      "  \"`names` kwarg\" % (self.file_type, _names, self.field_count())\n"
     ]
    }
   ],
   "source": [
    "baseline_stat1_genes = enc\\\n",
    "    .get_peak_genes_encode('https://www.encodeproject.org/files/ENCFF323QQU/@@download/ENCFF323QQU.bed.gz', 0)\\\n",
    "    .query('distance == 0 & ~gene.str.contains(\"MT\").values').gene.tolist()"
   ]
  },
  {
   "cell_type": "code",
   "execution_count": 121,
   "metadata": {},
   "outputs": [],
   "source": [
    "gaf_genes =potential_gaf_genes #list(set(potential_gaf_genes) - set(baseline_stat1_genes))"
   ]
  },
  {
   "cell_type": "markdown",
   "metadata": {},
   "source": [
    "### CHIP-seq result, ISGF3"
   ]
  },
  {
   "cell_type": "code",
   "execution_count": 122,
   "metadata": {},
   "outputs": [
    {
     "data": {
      "text/plain": [
       "dict_keys(['alpha', 'beta', 'gamma', 'lambda'])"
      ]
     },
     "execution_count": 122,
     "metadata": {},
     "output_type": "execute_result"
    }
   ],
   "source": [
    "all_result['ciliated']['ht'].keys()"
   ]
  },
  {
   "cell_type": "code",
   "execution_count": 123,
   "metadata": {},
   "outputs": [],
   "source": [
    "def classify_gene(x):\n",
    "    \n",
    "    isgf3 = x in isgf3_genes\n",
    "    gaf = x in gaf_genes\n",
    "    \n",
    "    if gaf & isgf3:\n",
    "        return ['isgf3', 'gaf']\n",
    "    elif gaf:\n",
    "        return ['gaf']\n",
    "    elif isgf3:\n",
    "        return ['isgf3']\n",
    "    else:\n",
    "        return ['rest']\n",
    "\n",
    "beta_dfs = []\n",
    "for ct in cts:\n",
    "    \n",
    "    result_1d_stim = all_result['-'.join(ct)]['ht']['beta']['3']\n",
    "    result_1d_stim['isgf3'] = result_1d_stim.gene.apply(lambda x: 'in TSS' if x in isgf3_genes else 'rest')\n",
    "    result_1d_stim['gaf'] = result_1d_stim.gene.apply(lambda x: x in gaf_genes)\n",
    "#     result_1d_stim['cat'] = result_1d_stim.gene.apply(classify_gene)\n",
    "    result_1d_stim['de_fdr'] = memento.util._fdrcorrect(result_1d_stim['de_pval'])\n",
    "\n",
    "    upreg_1d_stim = result_1d_stim.query('de_fdr < 0.1 & de_coef > 0 & ~gene.str.contains(\"MT-\").values').copy()\n",
    "    upreg_1d_stim['ct'] = '-'.join(ct)\n",
    "    beta_dfs.append(upreg_1d_stim)\n",
    "beta_df = pd.concat(beta_dfs)\n",
    "\n",
    "alpha_dfs = []\n",
    "for ct in cts:\n",
    "    \n",
    "    result_1d_stim = all_result['-'.join(ct)]['ht']['alpha']['3']\n",
    "    result_1d_stim['isgf3'] = result_1d_stim.gene.apply(lambda x: 'in TSS' if x in isgf3_genes else 'rest')\n",
    "    result_1d_stim['gaf'] = result_1d_stim.gene.apply(lambda x: x in gaf_genes)\n",
    "#     result_1d_stim['cat'] = result_1d_stim.gene.apply(classify_gene)\n",
    "    result_1d_stim['de_fdr'] = memento.util._fdrcorrect(result_1d_stim['de_pval'])\n",
    "\n",
    "    upreg_1d_stim = result_1d_stim.query('de_fdr < 0.1 & de_coef > 0 & ~gene.str.contains(\"MT-\").values').copy()\n",
    "    upreg_1d_stim['ct'] = '-'.join(ct)\n",
    "    alpha_dfs.append(upreg_1d_stim)\n",
    "alpha_df = pd.concat(alpha_dfs)\n"
   ]
  },
  {
   "cell_type": "code",
   "execution_count": null,
   "metadata": {},
   "outputs": [],
   "source": []
  },
  {
   "cell_type": "code",
   "execution_count": null,
   "metadata": {},
   "outputs": [],
   "source": [
    "plt.figure(figsize=(1.2, 3))\n",
    "sns.boxplot(x='ct', y='dv_coef', hue='isgf3', data=alpha_df.sort_values('isgf3'), palette='Set2')\n",
    "\n",
    "plt.xlabel('Cell type'); plt.ylabel('Change in variability');\n",
    "plt.legend(loc='upper center', ncol=2, bbox_to_anchor=(0.5, 1.15))\n",
    "# plt.ylim(-.8, 0.6)\n",
    "# plt.savefig(fig_path + 'isgf3_vs_rest_var_alpha.pdf', bbox_inches='tight')\n",
    "\n"
   ]
  },
  {
   "cell_type": "code",
   "execution_count": 129,
   "metadata": {},
   "outputs": [
    {
     "data": {
      "text/plain": [
       "MannwhitneyuResult(statistic=151136.0, pvalue=4.53057179018355e-54)"
      ]
     },
     "execution_count": 129,
     "metadata": {},
     "output_type": "execute_result"
    }
   ],
   "source": [
    "stats.mannwhitneyu(\n",
    "    alpha_df.query('isgf3 == \"in TSS\"').de_coef.values,\n",
    "    alpha_df.query('isgf3 == \"rest\"').de_coef.values)"
   ]
  },
  {
   "cell_type": "code",
   "execution_count": 130,
   "metadata": {},
   "outputs": [
    {
     "data": {
      "text/plain": [
       "MannwhitneyuResult(statistic=171259.0, pvalue=2.288572030286872e-54)"
      ]
     },
     "execution_count": 130,
     "metadata": {},
     "output_type": "execute_result"
    }
   ],
   "source": [
    "stats.mannwhitneyu(\n",
    "    beta_df.query('isgf3 == \"in TSS\"').de_coef.values,\n",
    "    beta_df.query('isgf3 == \"rest\"').de_coef.values)"
   ]
  },
  {
   "cell_type": "code",
   "execution_count": 109,
   "metadata": {},
   "outputs": [
    {
     "data": {
      "image/png": "[encoded data removed]",
      "text/plain": [
       "<Figure size 86.4x216 with 1 Axes>"
      ]
     },
     "metadata": {
      "needs_background": "light"
     },
     "output_type": "display_data"
    }
   ],
   "source": [
    "plt.figure(figsize=(1.2, 3))\n",
    "sns.boxplot(x='ct', y='dv_coef', hue='isgf3', data=alpha_df.sort_values('isgf3'), palette='Set2')\n",
    "\n",
    "plt.xlabel('Cell type'); plt.ylabel('Change in variability');\n",
    "plt.legend(loc='upper center', ncol=2, bbox_to_anchor=(0.5, 1.15))\n",
    "# plt.ylim(-.8, 0.6)\n",
    "plt.savefig(fig_path + 'isgf3_vs_rest_var_alpha.pdf', bbox_inches='tight')\n",
    "\n"
   ]
  },
  {
   "cell_type": "code",
   "execution_count": 110,
   "metadata": {},
   "outputs": [
    {
     "data": {
      "image/png": "[encoded data removed]",
      "text/plain": [
       "<Figure size 86.4x216 with 1 Axes>"
      ]
     },
     "metadata": {
      "needs_background": "light"
     },
     "output_type": "display_data"
    }
   ],
   "source": [
    "plt.figure(figsize=(1.2, 3))\n",
    "sns.boxplot(x='ct', y='dv_coef', hue='isgf3', data=beta_df.sort_values('isgf3'), palette='Set2')\n",
    "\n",
    "plt.xlabel('Cell type'); plt.ylabel('Change in variability');\n",
    "plt.legend(loc='upper center', ncol=2, bbox_to_anchor=(0.5, 1.15))\n",
    "# plt.ylim(-.8, 0.6)\n",
    "plt.savefig(fig_path + 'isgf3_vs_rest_var_beta.pdf', bbox_inches='tight')\n",
    "\n"
   ]
  },
  {
   "cell_type": "markdown",
   "metadata": {},
   "source": [
    "### Some basic enrichment analysis - increased variance"
   ]
  },
  {
   "cell_type": "code",
   "execution_count": 12,
   "metadata": {},
   "outputs": [],
   "source": [
    "stim = 'gamma'\n",
    "gene_list = []\n",
    "for tp in tps[1:]:\n",
    "    df = all_result['bc-basal']['ht'][stim][tp].query('dv_coef > 0 & dv_fdr < 0.1 & de_coef > 0')\n",
    "    gene_list += df.gene.tolist()\n",
    "gene_list = list(set(gene_list))"
   ]
  },
  {
   "cell_type": "markdown",
   "metadata": {},
   "source": [
    "### Setup memento"
   ]
  },
  {
   "cell_type": "code",
   "execution_count": 79,
   "metadata": {},
   "outputs": [],
   "source": [
    "def assign_q(batch):\n",
    "    \n",
    "    if batch == 0:\n",
    "        return 0.387*0.25\n",
    "    elif batch == 1:\n",
    "        return 0.392*0.25\n",
    "    elif batch == 2:\n",
    "        return 0.436*0.25\n",
    "    else:\n",
    "        return 0.417*0.25"
   ]
  },
  {
   "cell_type": "code",
   "execution_count": 80,
   "metadata": {},
   "outputs": [],
   "source": [
    "adata.obs['q'] = adata.obs['batch'].apply(assign_q)"
   ]
  },
  {
   "cell_type": "code",
   "execution_count": 81,
   "metadata": {},
   "outputs": [],
   "source": [
    "memento.setup_memento(adata, q_column='q')"
   ]
  },
  {
   "cell_type": "markdown",
   "metadata": {},
   "source": [
    "### Pick top regulators"
   ]
  },
  {
   "cell_type": "code",
   "execution_count": 82,
   "metadata": {},
   "outputs": [],
   "source": [
    "expr_df = pd.DataFrame()\n",
    "expr_df['gene'] = adata.var.index.tolist()\n",
    "expr_df['expr'] = adata.uns['memento']['all_1d_moments'][0]\n",
    "filtered_tfs = expr_df.query('gene in @tfs').sort_values('expr', ascending=False).head(70).gene.tolist()"
   ]
  },
  {
   "cell_type": "markdown",
   "metadata": {},
   "source": [
    "### Get correlated TFs for each gene in each state"
   ]
  },
  {
   "cell_type": "code",
   "execution_count": 16,
   "metadata": {},
   "outputs": [],
   "source": [
    "cts = [['ciliated']]\n",
    "tps = ['3', '6', '9', '24', '48']\n",
    "stims = ['alpha']"
   ]
  },
  {
   "cell_type": "code",
   "execution_count": 99,
   "metadata": {},
   "outputs": [],
   "source": [
    "def get_tf_g_vars(stim, ct, logfc=1):\n",
    "    \n",
    "    g_mean_list = []\n",
    "    tf_mean_list = []\n",
    "    g_var_list = []\n",
    "    tf_var_list = []\n",
    "    for tp in ['0','3', '6', '9', '24', '48']:\n",
    "\n",
    "        ctrl_gene_list = []\n",
    "        for tp2 in tps[1:]:\n",
    "            df = all_result['-'.join(ct)]['ht'][stim][tp2].query('de_coef > {} & de_fdr < 0.05'.format(logfc))\n",
    "            ctrl_gene_list += df.gene.tolist()\n",
    "\n",
    "        print('starting', ct, tp, stim)\n",
    "\n",
    "        adata_stim = adata.copy()[\n",
    "            adata.obs.cell_type.isin(ct) & \\\n",
    "            adata.obs.stim.isin(['control', stim]) & \\\n",
    "            adata.obs.time.isin([tp]), :].copy()\n",
    "        time_converter={int(tp):1}\n",
    "        adata_stim.obs['time_step'] = adata_stim.obs['time'].astype(int).apply(lambda x: time_converter[x])\n",
    "\n",
    "        memento.create_groups(adata_stim, label_columns=['donor', 'time_step'])\n",
    "        memento.compute_1d_moments(adata_stim, min_perc_group=.8)\n",
    "\n",
    "        relevant_tfs = list(set(tfs) & set(adata_stim.var.index))\n",
    "        gene_list = list(set(ctrl_gene_list) & set(adata_stim.var.index))\n",
    "\n",
    "        memento.compute_2d_moments(adata_stim, list(itertools.product(relevant_tfs, gene_list)))\n",
    "\n",
    "        moment_2d = memento.get_2d_moments(adata_stim, groupby='time_step')\n",
    "        moment_1d_mean = memento.get_1d_moments(adata_stim, groupby='time_step')[0]\n",
    "        moment_1d = memento.get_1d_moments(adata_stim, groupby='time_step')[1]\n",
    "\n",
    "        moment_1d.to_csv('/data_volume/ifn_hbec/corr_var/{}_{}_{}_1d.csv'.format('-'.join(ct), stim, tp), index=False)\n",
    "        moment_2d.to_csv('/data_volume/ifn_hbec/corr_var/{}_{}_{}_2d.csv'.format('-'.join(ct), stim, tp), index=False)\n",
    "\n",
    "        high_corr_tfs = moment_2d.query('time_step_1 > 0.3 & gene_1 != gene_2', engine='python').groupby('gene_2').gene_1.apply(list)\n",
    "        \n",
    "\n",
    "        g_var = []\n",
    "        tf_var = []\n",
    "        g_mean = []\n",
    "        tf_mean = []\n",
    "        for gene in gene_list:\n",
    "\n",
    "            if not gene in high_corr_tfs.index:\n",
    "                continue\n",
    "                \n",
    "            g_mean.append(moment_1d_mean.query('gene == \"{}\"'.format(gene)).values[0, 1])\n",
    "            g_var.append(moment_1d.query('gene == \"{}\"'.format(gene)).values[0, 1])\n",
    "            ts = high_corr_tfs[gene]\n",
    "        #     tf_var.append(len(ts))\n",
    "            tf_var.append(np.mean(moment_1d.query('gene.isin(@ts)', engine='python').values[:, 1]))\n",
    "            tf_mean.append(np.mean(moment_1d_mean.query('gene.isin(@ts)', engine='python').values[:, 1]))\n",
    "\n",
    "        print(stats.pearsonr(g_var, tf_var))\n",
    "        print(stats.pearsonr(g_mean, tf_mean))\n",
    "\n",
    "        g_var_list.append(np.array(g_var))\n",
    "        g_mean_list.append(np.array(g_mean))\n",
    "        tf_var_list.append(np.array(tf_var))\n",
    "        tf_mean_list.append(np.array(tf_mean))\n",
    "        \n",
    "    return g_var_list,g_mean_list, tf_var_list, tf_mean_list\n",
    "        \n",
    "    return np.concatenate(g_var_list), \\\n",
    "        np.concatenate(tf_var_list), \\\n",
    "        np.concatenate(g_mean_list),\\\n",
    "        np.concatenate(tf_mean_list)\n"
   ]
  },
  {
   "cell_type": "markdown",
   "metadata": {},
   "source": [
    "### Beta"
   ]
  },
  {
   "cell_type": "code",
   "execution_count": 100,
   "metadata": {},
   "outputs": [
    {
     "name": "stdout",
     "output_type": "stream",
     "text": [
      "starting ['ciliated'] 0 beta\n",
      "(0.14070976650728795, 0.0012405791009370208)\n",
      "(0.2576835515712103, 2.151444202893076e-09)\n",
      "starting ['ciliated'] 3 beta\n",
      "(0.3305478276744429, 1.432501378989128e-18)\n",
      "(0.5085729396222846, 2.0154191422706976e-45)\n",
      "starting ['ciliated'] 6 beta\n",
      "(0.4902605523050945, 2.4023269950773128e-45)\n",
      "(0.5891424185904743, 2.5070577388180277e-69)\n",
      "starting ['ciliated'] 9 beta\n",
      "(0.2728469217972776, 1.8178082246886964e-13)\n",
      "(0.5634472956527685, 3.852917020506383e-60)\n",
      "starting ['ciliated'] 24 beta\n",
      "(0.18290774984311678, 8.045796487266726e-07)\n",
      "(0.5673526374854918, 2.1129677004463828e-62)\n",
      "starting ['ciliated'] 48 beta\n",
      "(0.0568577097048396, 0.1309507451861645)\n",
      "(0.44985791376132855, 1.6100459080041258e-36)\n"
     ]
    }
   ],
   "source": [
    "g, gm, t, tm = get_tf_g_vars('beta', ['ciliated'], logfc=0.5)\n",
    "# sns.regplot(g,t,scatter_kws={'s':1}, line_kws={'color':'black', 'lw':3})\n",
    "# plt.title('Lambda'); plt.xlabel('Gene variability'); plt.ylabel('TF variability')"
   ]
  },
  {
   "cell_type": "code",
   "execution_count": 50,
   "metadata": {},
   "outputs": [
    {
     "name": "stdout",
     "output_type": "stream",
     "text": [
      "starting ['ciliated'] 0 beta\n"
     ]
    },
    {
     "name": "stderr",
     "output_type": "stream",
     "text": [
      "/data/home/Github/scrna-parameter-estimation/dist/memento-0.0.4-py3.7.egg/memento/main.py:578: RuntimeWarning: invalid value encountered in true_divide\n",
      "  groupby_corr[key] /= groupby_corr_count[key]\n"
     ]
    },
    {
     "name": "stdout",
     "output_type": "stream",
     "text": [
      "(0.14393203395489962, 0.0009527972593742623)\n",
      "(0.2612420999648299, 1.2666258382698528e-09)\n",
      "starting ['ciliated'] 3 beta\n",
      "(0.33228417454233217, 9.248132291717018e-19)\n",
      "(0.5119456646710474, 4.221776975197336e-46)\n",
      "starting ['ciliated'] 6 beta\n",
      "(0.4938424026876681, 4.3981449301893384e-46)\n",
      "(0.5907355445766977, 8.767137382581865e-70)\n",
      "starting ['ciliated'] 9 beta\n",
      "(0.2748313842461405, 1.1958009766540618e-13)\n",
      "(0.5656289297973948, 1.0808655836166295e-60)\n",
      "starting ['ciliated'] 24 beta\n",
      "(0.18448109277419109, 6.443170094804263e-07)\n",
      "(0.5693761561170528, 6.238423359114057e-63)\n",
      "starting ['ciliated'] 48 beta\n",
      "(0.059400996395567895, 0.11455643295259538)\n",
      "(0.4524175808224378, 5.760990308339558e-37)\n"
     ]
    },
    {
     "data": {
      "text/plain": [
       "<Figure size 144x144 with 0 Axes>"
      ]
     },
     "metadata": {},
     "output_type": "display_data"
    }
   ],
   "source": [
    "g, gm, t, tm = get_tf_g_vars('beta', ['ciliated'], logfc=0.5)\n",
    "# sns.regplot(g,t,scatter_kws={'s':1}, line_kws={'color':'black', 'lw':3})\n",
    "# plt.title('Lambda'); plt.xlabel('Gene variability'); plt.ylabel('TF variability')"
   ]
  },
  {
   "cell_type": "code",
   "execution_count": 67,
   "metadata": {},
   "outputs": [
    {
     "data": {
      "image/png": "[encoded data removed]",
      "text/plain": [
       "<Figure size 360x252 with 6 Axes>"
      ]
     },
     "metadata": {
      "needs_background": "light"
     },
     "output_type": "display_data"
    }
   ],
   "source": [
    "# ylim_list = [(-0.25, 0.25), (-0.35, 0.25), (-0.3, 0.5), (-0.25, 0.55), (-0.27, 0.55), (-0.27, 0.5)]\n",
    "plt.figure(figsize=(5, 3.5));\n",
    "plt.subplots_adjust(wspace=0.4, hspace=0.5)\n",
    "for idx in range(6):\n",
    "    plt.subplot(2, 3, idx+1)\n",
    "    sns.regplot(gm[idx],tm[idx],scatter_kws={'s':1}, line_kws={'color':'black', 'lw':1})\n",
    "    plt.xlim(-3.5, 3.5); #plt.ylim(ylim_list[idx][0], ylim_list[idx][1])\n",
    "    plt.title('{}hrs, R={:.2f}'.format([0, 3, 6, 9, 24, 48][idx], stats.pearsonr(gm[idx],tm[idx])[0]))\n",
    "    if idx == 0 or idx == 3:\n",
    "        plt.ylabel('Mean expr of TF')\n",
    "    if idx == 4:\n",
    "        plt.xlabel('Mean expr of target')\n",
    "plt.savefig(fig_path + 'var_regplot_mean_beta.png', bbox_inches='tight', dpi=300)\n"
   ]
  },
  {
   "cell_type": "code",
   "execution_count": 68,
   "metadata": {},
   "outputs": [
    {
     "data": {
      "image/png": "[encoded data removed]",
      "text/plain": [
       "<Figure size 360x252 with 6 Axes>"
      ]
     },
     "metadata": {
      "needs_background": "light"
     },
     "output_type": "display_data"
    }
   ],
   "source": [
    "ylim_list = [(-0.25, 0.25), (-0.35, 0.25), (-0.3, 0.5), (-0.25, 0.55), (-0.27, 0.55), (-0.27, 0.5)]\n",
    "plt.figure(figsize=(5, 3.5));\n",
    "plt.subplots_adjust(wspace=0.4, hspace=0.5)\n",
    "for idx in range(6):\n",
    "    plt.subplot(2, 3, idx+1)\n",
    "    sns.regplot(g[idx],t[idx],scatter_kws={'s':1}, line_kws={'color':'black', 'lw':1})\n",
    "    plt.xlim(-2.2, 3.5); plt.ylim(ylim_list[idx][0], ylim_list[idx][1])\n",
    "    plt.title('{}hrs, R={:.2f}'.format([0, 3, 6, 9, 24, 48][idx], stats.pearsonr(g[idx],t[idx])[0]))\n",
    "    \n",
    "    if idx == 0 or idx == 3:\n",
    "        plt.ylabel('Variability of TF')\n",
    "    if idx == 4:\n",
    "        plt.xlabel('Variability of target')\n",
    "plt.savefig(fig_path + 'var_regplot_beta.png', bbox_inches='tight', dpi=300)\n"
   ]
  },
  {
   "cell_type": "markdown",
   "metadata": {},
   "source": [
    "### Gamma"
   ]
  },
  {
   "cell_type": "code",
   "execution_count": 19,
   "metadata": {},
   "outputs": [
    {
     "name": "stdout",
     "output_type": "stream",
     "text": [
      "starting ['ciliated'] 0 gamma\n",
      "(0.17348167278862386, 0.0025260406062387218)\n",
      "(0.19480394506515422, 0.0006781268550281566)\n",
      "starting ['ciliated'] 3 gamma\n",
      "(0.22614618611939474, 3.641548534312262e-06)\n",
      "(0.44521704581465227, 2.1016309648491273e-21)\n",
      "starting ['ciliated'] 6 gamma\n",
      "(0.089475899868865, 0.06346819018064322)\n",
      "(0.3458510629927055, 1.4857310744787437e-13)\n",
      "starting ['ciliated'] 9 gamma\n",
      "(0.12126413110250177, 0.010114920814816575)\n",
      "(0.3589608043739944, 4.223177031340322e-15)\n",
      "starting ['ciliated'] 24 gamma\n",
      "(0.2571182273500052, 4.494013917604965e-08)\n",
      "(0.3781439714012768, 2.094896261890795e-16)\n",
      "starting ['ciliated'] 48 gamma\n",
      "(0.028228426724251198, 0.5561769089405298)\n",
      "(0.25327134847831567, 8.000698271065925e-08)\n"
     ]
    },
    {
     "data": {
      "text/plain": [
       "<Figure size 144x144 with 0 Axes>"
      ]
     },
     "metadata": {},
     "output_type": "display_data"
    }
   ],
   "source": [
    "plt.figure(figsize=(2, 2))\n",
    "g, gm, t, tm = get_tf_g_vars('gamma', ['ciliated'], logfc=0.5)\n",
    "# sns.regplot(g,t,scatter_kws={'s':1}, line_kws={'color':'black', 'lw':3})\n",
    "# plt.title('Lambda'); plt.xlabel('Gene variability'); plt.ylabel('TF variability')"
   ]
  },
  {
   "cell_type": "code",
   "execution_count": 22,
   "metadata": {},
   "outputs": [
    {
     "data": {
      "image/png": "[encoded data removed]",
      "text/plain": [
       "<Figure size 360x252 with 6 Axes>"
      ]
     },
     "metadata": {
      "needs_background": "light"
     },
     "output_type": "display_data"
    }
   ],
   "source": [
    "# ylim_list = [(-0.25, 0.25), (-0.35, 0.25), (-0.3, 0.5), (-0.25, 0.55), (-0.27, 0.55), (-0.27, 0.5)]\n",
    "plt.figure(figsize=(5, 3.5));\n",
    "plt.subplots_adjust(wspace=0.4, hspace=0.5)\n",
    "for idx in range(6):\n",
    "    plt.subplot(2, 3, idx+1)\n",
    "    sns.regplot(gm[idx],tm[idx],scatter_kws={'s':1}, line_kws={'color':'black', 'lw':1})\n",
    "    plt.xlim(-3.5, 3.5); #plt.ylim(ylim_list[idx][0], ylim_list[idx][1])\n",
    "    plt.title('{}hrs, R={:.2f}'.format([0, 3, 6, 9, 24, 48][idx], stats.spearmanr(gm[idx],tm[idx])[0]))\n",
    "    if idx == 0 or idx == 3:\n",
    "        plt.ylabel('Mean expr of TF')\n",
    "    if idx == 4:\n",
    "        plt.xlabel('Mean expr of target')\n",
    "plt.savefig(fig_path + 'var_regplot_mean_gamma.png', bbox_inches='tight', dpi=300)\n"
   ]
  },
  {
   "cell_type": "code",
   "execution_count": 24,
   "metadata": {},
   "outputs": [
    {
     "data": {
      "image/png": "[encoded data removed]",
      "text/plain": [
       "<Figure size 360x252 with 6 Axes>"
      ]
     },
     "metadata": {
      "needs_background": "light"
     },
     "output_type": "display_data"
    }
   ],
   "source": [
    "ylim_list = [(-0.25, 0.25), (-0.35, 0.25), (-0.3, 0.5), (-0.25, 0.55), (-0.27, 0.55), (-0.27, 0.5)]\n",
    "plt.figure(figsize=(5, 3.5));\n",
    "plt.subplots_adjust(wspace=0.4, hspace=0.5)\n",
    "for idx in range(6):\n",
    "    plt.subplot(2, 3, idx+1)\n",
    "    sns.regplot(g[idx],t[idx],scatter_kws={'s':1}, line_kws={'color':'black', 'lw':1})\n",
    "    plt.xlim(-2.2, 3.5); plt.ylim(ylim_list[idx][0], ylim_list[idx][1])\n",
    "    plt.title('{}hrs, R={:.2f}'.format([0, 3, 6, 9, 24, 48][idx], stats.pearsonr(g[idx],t[idx])[0]))\n",
    "    \n",
    "    if idx == 0 or idx == 3:\n",
    "        plt.ylabel('Variability of TF')\n",
    "    if idx == 4:\n",
    "        plt.xlabel('Variability of target')\n",
    "plt.savefig(fig_path + 'var_regplot_gamma.png', bbox_inches='tight', dpi=300)\n"
   ]
  },
  {
   "cell_type": "markdown",
   "metadata": {},
   "source": [
    "### Lambda"
   ]
  },
  {
   "cell_type": "code",
   "execution_count": 25,
   "metadata": {},
   "outputs": [
    {
     "name": "stdout",
     "output_type": "stream",
     "text": [
      "starting ['ciliated'] 0 lambda\n"
     ]
    },
    {
     "name": "stderr",
     "output_type": "stream",
     "text": [
      "/data/home/Github/scrna-parameter-estimation/dist/memento-0.0.4-py3.7.egg/memento/main.py:578: RuntimeWarning: invalid value encountered in true_divide\n"
     ]
    },
    {
     "name": "stdout",
     "output_type": "stream",
     "text": [
      "(0.24601790426695566, 0.0005266879260518222)\n",
      "(0.1552093219074313, 0.030265946566208356)\n",
      "starting ['ciliated'] 3 lambda\n",
      "(0.5601861538561371, 2.7055967186244606e-23)\n",
      "(0.40834498957685444, 4.517919397901384e-12)\n",
      "starting ['ciliated'] 6 lambda\n",
      "(0.3505066752785005, 2.786530906821842e-09)\n",
      "(0.2471904563751262, 3.753628061637839e-05)\n",
      "starting ['ciliated'] 9 lambda\n",
      "(0.5038161111749582, 9.451739529902435e-20)\n",
      "(0.3376369097278771, 4.98934963839756e-09)\n",
      "starting ['ciliated'] 24 lambda\n",
      "(0.3309451661002548, 7.695458027398483e-09)\n",
      "(0.20693467138387314, 0.0003893162580468685)\n",
      "starting ['ciliated'] 48 lambda\n",
      "(0.43562797929280206, 3.283121296511646e-14)\n",
      "(0.30076115747381404, 3.5368397192830473e-07)\n"
     ]
    },
    {
     "data": {
      "text/plain": [
       "<Figure size 144x144 with 0 Axes>"
      ]
     },
     "metadata": {},
     "output_type": "display_data"
    }
   ],
   "source": [
    "plt.figure(figsize=(2, 2))\n",
    "g, gm, t, tm = get_tf_g_vars('lambda', ['ciliated'], logfc=0.5)\n",
    "# sns.regplot(g,t,scatter_kws={'s':1}, line_kws={'color':'black', 'lw':3})\n",
    "# plt.title('Lambda'); plt.xlabel('Gene variability'); plt.ylabel('TF variability')"
   ]
  },
  {
   "cell_type": "code",
   "execution_count": 26,
   "metadata": {},
   "outputs": [
    {
     "data": {
      "image/png": "[encoded data removed]",
      "text/plain": [
       "<Figure size 360x252 with 6 Axes>"
      ]
     },
     "metadata": {
      "needs_background": "light"
     },
     "output_type": "display_data"
    }
   ],
   "source": [
    "# ylim_list = [(-0.25, 0.25), (-0.35, 0.25), (-0.3, 0.5), (-0.25, 0.55), (-0.27, 0.55), (-0.27, 0.5)]\n",
    "plt.figure(figsize=(5, 3.5));\n",
    "plt.subplots_adjust(wspace=0.4, hspace=0.5)\n",
    "for idx in range(6):\n",
    "    plt.subplot(2, 3, idx+1)\n",
    "    sns.regplot(gm[idx],tm[idx],scatter_kws={'s':1}, line_kws={'color':'black', 'lw':1})\n",
    "    plt.xlim(-3.5, 3.5); #plt.ylim(ylim_list[idx][0], ylim_list[idx][1])\n",
    "    plt.title('{}hrs, R={:.2f}'.format([0, 3, 6, 9, 24, 48][idx], stats.pearsonr(gm[idx],tm[idx])[0]))\n",
    "    if idx == 0 or idx == 3:\n",
    "        plt.ylabel('Mean expr of TF')\n",
    "    if idx == 4:\n",
    "        plt.xlabel('Mean expr of target')\n",
    "plt.savefig(fig_path + 'var_regplot_mean_lambda.png', bbox_inches='tight', dpi=300)\n"
   ]
  },
  {
   "cell_type": "code",
   "execution_count": 27,
   "metadata": {},
   "outputs": [
    {
     "data": {
      "image/png": "[encoded data removed]",
      "text/plain": [
       "<Figure size 360x252 with 6 Axes>"
      ]
     },
     "metadata": {
      "needs_background": "light"
     },
     "output_type": "display_data"
    }
   ],
   "source": [
    "ylim_list = [(-0.25, 0.25), (-0.35, 0.25), (-0.3, 0.5), (-0.25, 0.55), (-0.27, 0.55), (-0.27, 0.5)]\n",
    "plt.figure(figsize=(5, 3.5));\n",
    "plt.subplots_adjust(wspace=0.4, hspace=0.5)\n",
    "for idx in range(6):\n",
    "    plt.subplot(2, 3, idx+1)\n",
    "    sns.regplot(g[idx],t[idx],scatter_kws={'s':1}, line_kws={'color':'black', 'lw':1})\n",
    "    plt.xlim(-2.2, 3.5); plt.ylim(ylim_list[idx][0], ylim_list[idx][1])\n",
    "    plt.title('{}hrs, R={:.2f}'.format([0, 3, 6, 9, 24, 48][idx], stats.pearsonr(g[idx],t[idx])[0]))\n",
    "    \n",
    "    if idx == 0 or idx == 3:\n",
    "        plt.ylabel('Variability of TF')\n",
    "    if idx == 4:\n",
    "        plt.xlabel('Variability of target')\n",
    "plt.savefig(fig_path + 'var_regplot_lambda.png', bbox_inches='tight', dpi=300)\n"
   ]
  },
  {
   "cell_type": "markdown",
   "metadata": {},
   "source": [
    "### TF-Target mean/variability analysis but with CHIP-Seq data"
   ]
  },
  {
   "cell_type": "code",
   "execution_count": 47,
   "metadata": {},
   "outputs": [],
   "source": [
    "chip_matrix = pd.read_csv('gene_attribute_matrix.txt', sep='\\t')\n",
    "chip_matrix.drop(chip_matrix.columns[1], axis=1,inplace=True)\n",
    "chip_matrix.drop(chip_matrix.columns[1], axis=1,inplace=True)\n",
    "chip_matrix.drop(0, inplace=True)\n",
    "chip_matrix.drop(1, inplace=True)\n",
    "# chip_matrix.index = chip_matrix['#']\n",
    "# chip_matrix.drop('#', axis=1, inplace=True)"
   ]
  },
  {
   "cell_type": "code",
   "execution_count": 62,
   "metadata": {},
   "outputs": [],
   "source": [
    "chip_matrix_long = pd.melt(\n",
    "    chip_matrix, \n",
    "    id_vars='#',\n",
    "    value_vars=chip_matrix.columns[1:],\n",
    "    var_name='TF',\n",
    "    value_name='binding'\n",
    "    )"
   ]
  },
  {
   "cell_type": "code",
   "execution_count": 63,
   "metadata": {},
   "outputs": [],
   "source": [
    "chip_matrix_long['binding'] = chip_matrix_long['binding'].astype(float)"
   ]
  },
  {
   "cell_type": "code",
   "execution_count": 64,
   "metadata": {},
   "outputs": [],
   "source": [
    "chip_matrix_long = chip_matrix_long.query('binding > 0').rename(columns={'#':'gene'})"
   ]
  },
  {
   "cell_type": "code",
   "execution_count": 68,
   "metadata": {},
   "outputs": [
    {
     "data": {
      "text/html": [
       "<div>\n",
       "<style scoped>\n",
       "    .dataframe tbody tr th:only-of-type {\n",
       "        vertical-align: middle;\n",
       "    }\n",
       "\n",
       "    .dataframe tbody tr th {\n",
       "        vertical-align: top;\n",
       "    }\n",
       "\n",
       "    .dataframe thead th {\n",
       "        text-align: right;\n",
       "    }\n",
       "</style>\n",
       "<table border=\"1\" class=\"dataframe\">\n",
       "  <thead>\n",
       "    <tr style=\"text-align: right;\">\n",
       "      <th></th>\n",
       "      <th>gene</th>\n",
       "      <th>TF</th>\n",
       "      <th>binding</th>\n",
       "    </tr>\n",
       "  </thead>\n",
       "  <tbody>\n",
       "    <tr>\n",
       "      <th>0</th>\n",
       "      <td>A1BG</td>\n",
       "      <td>ARID3A</td>\n",
       "      <td>1.0</td>\n",
       "    </tr>\n",
       "    <tr>\n",
       "      <th>1</th>\n",
       "      <td>A1BG-AS1</td>\n",
       "      <td>ARID3A</td>\n",
       "      <td>1.0</td>\n",
       "    </tr>\n",
       "  </tbody>\n",
       "</table>\n",
       "</div>"
      ],
      "text/plain": [
       "       gene      TF  binding\n",
       "0      A1BG  ARID3A      1.0\n",
       "1  A1BG-AS1  ARID3A      1.0"
      ]
     },
     "execution_count": 68,
     "metadata": {},
     "output_type": "execute_result"
    }
   ],
   "source": [
    "chip_matrix_long.head(2)"
   ]
  },
  {
   "cell_type": "code",
   "execution_count": 83,
   "metadata": {},
   "outputs": [],
   "source": [
    "def get_tf_g_vars_chip(stim, ct, logfc=1):\n",
    "    \n",
    "    g_mean_list = []\n",
    "    tf_mean_list = []\n",
    "    g_var_list = []\n",
    "    tf_var_list = []\n",
    "    for tp in ['0','3', '6', '9', '24', '48']:\n",
    "\n",
    "        ctrl_gene_list = []\n",
    "        for tp2 in tps[1:]:\n",
    "            df = all_result['-'.join(ct)]['ht'][stim][tp2].query('de_coef > {} & de_fdr < 0.05'.format(logfc))\n",
    "            ctrl_gene_list += df.gene.tolist()\n",
    "\n",
    "        print('starting', ct, tp, stim)\n",
    "\n",
    "        adata_stim = adata.copy()[\n",
    "            adata.obs.cell_type.isin(ct) & \\\n",
    "            adata.obs.stim.isin(['control', stim]) & \\\n",
    "            adata.obs.time.isin([tp]), :].copy()\n",
    "        time_converter={int(tp):1}\n",
    "        adata_stim.obs['time_step'] = adata_stim.obs['time'].astype(int).apply(lambda x: time_converter[x])\n",
    "\n",
    "        memento.create_groups(adata_stim, label_columns=['donor', 'time_step'])\n",
    "        memento.compute_1d_moments(adata_stim, min_perc_group=.8)\n",
    "\n",
    "        relevant_tfs = list(set(tfs) & set(adata_stim.var.index))\n",
    "        gene_list = list(set(ctrl_gene_list) & set(adata_stim.var.index))\n",
    "\n",
    "#         memento.compute_2d_moments(adata_stim, list(itertools.product(relevant_tfs, gene_list)))\n",
    "\n",
    "#         moment_2d = memento.get_2d_moments(adata_stim, groupby='time_step')\n",
    "        moment_1d_mean = memento.get_1d_moments(adata_stim, groupby='time_step')[0]\n",
    "        moment_1d = memento.get_1d_moments(adata_stim, groupby='time_step')[1]\n",
    "\n",
    "#         moment_1d.to_csv('/data_volume/ifn_hbec/corr_var/{}_{}_{}_1d.csv'.format('-'.join(ct), stim, tp), index=False)\n",
    "#         moment_2d.to_csv('/data_volume/ifn_hbec/corr_var/{}_{}_{}_2d.csv'.format('-'.join(ct), stim, tp), index=False)\n",
    "        \n",
    "        relevant_chip = chip_matrix_long.query('gene in @gene_list & TF in @relevant_tfs')\n",
    "        high_corr_tfs = relevant_chip.groupby('gene').TF.apply(list)\n",
    "#         high_corr_tfs = moment_2d.query('time_step_1 > 0.3', engine='python').groupby('gene_2').gene_1.apply(list)\n",
    "\n",
    "        g_var = []\n",
    "        tf_var = []\n",
    "        g_mean = []\n",
    "        tf_mean = []\n",
    "        for gene in gene_list:\n",
    "\n",
    "            if not gene in high_corr_tfs.index:\n",
    "                continue\n",
    "                \n",
    "            g_mean.append(moment_1d_mean.query('gene == \"{}\"'.format(gene)).values[0, 1])\n",
    "            g_var.append(moment_1d.query('gene == \"{}\"'.format(gene)).values[0, 1])\n",
    "            ts = high_corr_tfs[gene]\n",
    "        #     tf_var.append(len(ts))\n",
    "            tf_var.append(np.mean(moment_1d.query('gene.isin(@ts)', engine='python').values[:, 1]))\n",
    "            tf_mean.append(np.mean(moment_1d_mean.query('gene.isin(@ts)', engine='python').values[:, 1]))\n",
    "\n",
    "        print(stats.pearsonr(g_var, tf_var))\n",
    "        print(stats.pearsonr(g_mean, tf_mean))\n",
    "\n",
    "        g_var_list.append(np.array(g_var))\n",
    "        g_mean_list.append(np.array(g_mean))\n",
    "        tf_var_list.append(np.array(tf_var))\n",
    "        tf_mean_list.append(np.array(tf_mean))\n",
    "        \n",
    "    return g_var_list,g_mean_list, tf_var_list, tf_mean_list\n",
    "        \n",
    "    return np.concatenate(g_var_list), \\\n",
    "        np.concatenate(tf_var_list), \\\n",
    "        np.concatenate(g_mean_list),\\\n",
    "        np.concatenate(tf_mean_list)\n"
   ]
  },
  {
   "cell_type": "code",
   "execution_count": 84,
   "metadata": {},
   "outputs": [
    {
     "name": "stdout",
     "output_type": "stream",
     "text": [
      "starting ['ciliated'] 0 beta\n",
      "(-0.03611383150921946, 0.42460945747771817)\n",
      "(0.03691688053292283, 0.4143762100852828)\n",
      "starting ['ciliated'] 3 beta\n",
      "(-0.053907242867429206, 0.17866382922133262)\n",
      "(0.033071373845555974, 0.40954657118587656)\n",
      "starting ['ciliated'] 6 beta\n",
      "(-0.04138980218312124, 0.2821951162542153)\n",
      "(0.06853414032471455, 0.07474833982803825)\n",
      "starting ['ciliated'] 9 beta\n",
      "(0.07030619162622699, 0.07325637846932749)\n",
      "(0.10317927525353246, 0.008475112107104813)\n",
      "starting ['ciliated'] 24 beta\n",
      "(-0.0859985572923625, 0.026579843781861134)\n",
      "(0.09218319998019517, 0.017417435338552365)\n",
      "starting ['ciliated'] 48 beta\n",
      "(-0.0379242430853652, 0.3325009538065924)\n",
      "(0.07281991929175347, 0.06251976964630353)\n"
     ]
    }
   ],
   "source": [
    "g, gm, t, tm = get_tf_g_vars_chip('beta', ['ciliated'], logfc=0.5)\n"
   ]
  },
  {
   "cell_type": "markdown",
   "metadata": {},
   "source": [
    "### Compare to cM from PBMC data"
   ]
  },
  {
   "cell_type": "code",
   "execution_count": 89,
   "metadata": {},
   "outputs": [],
   "source": [
    "pbmc_data_path = '/data_volume/parameter_estimation/'"
   ]
  },
  {
   "cell_type": "code",
   "execution_count": 90,
   "metadata": {},
   "outputs": [],
   "source": [
    "cm_adata = sc.read(pbmc_data_path + 'result_1d/ifn/{}_20210104.h5ad'.format('cM'))"
   ]
  },
  {
   "cell_type": "code",
   "execution_count": 91,
   "metadata": {},
   "outputs": [],
   "source": [
    "cm_ht_result_1d = memento.get_1d_ht_result(cm_adata)"
   ]
  },
  {
   "cell_type": "code",
   "execution_count": 92,
   "metadata": {},
   "outputs": [],
   "source": [
    "joined = cm_ht_result_1d.merge(all_result['ciliated']['ht']['gamma']['3'], on='gene', how='inner')"
   ]
  },
  {
   "cell_type": "code",
   "execution_count": null,
   "metadata": {},
   "outputs": [],
   "source": [
    "joined.head(5)"
   ]
  },
  {
   "cell_type": "code",
   "execution_count": null,
   "metadata": {},
   "outputs": [],
   "source": [
    "stats.pearsonr(joined['de_coef_y'], joined['de_coef_x'])"
   ]
  },
  {
   "cell_type": "code",
   "execution_count": 62,
   "metadata": {},
   "outputs": [
    {
     "data": {
      "text/plain": [
       "(0.18189595294765162, 2.073095085778736e-11)"
      ]
     },
     "execution_count": 62,
     "metadata": {},
     "output_type": "execute_result"
    }
   ],
   "source": [
    "stats.pearsonr(joined['dv_coef_y'], joined['dv_coef_x'])"
   ]
  },
  {
   "cell_type": "code",
   "execution_count": 63,
   "metadata": {},
   "outputs": [
    {
     "data": {
      "text/plain": [
       "<matplotlib.collections.PathCollection at 0x7fbccc251e90>"
      ]
     },
     "execution_count": 63,
     "metadata": {},
     "output_type": "execute_result"
    },
    {
     "data": {
      "image/png": "[encoded data removed]",
      "text/plain": [
       "<Figure size 432x288 with 1 Axes>"
      ]
     },
     "metadata": {
      "needs_background": "light"
     },
     "output_type": "display_data"
    }
   ],
   "source": [
    "plt.scatter(joined['de_coef_y'], joined['de_coef_x'], s=10)"
   ]
  },
  {
   "cell_type": "code",
   "execution_count": 65,
   "metadata": {},
   "outputs": [
    {
     "data": {
      "text/plain": [
       "Text(0.5, 1.0, 'DV, PBMC vs IFN-B ciliated')"
      ]
     },
     "execution_count": 65,
     "metadata": {},
     "output_type": "execute_result"
    },
    {
     "data": {
      "image/png": "[encoded data removed]",
      "text/plain": [
       "<Figure size 432x288 with 1 Axes>"
      ]
     },
     "metadata": {
      "needs_background": "light"
     },
     "output_type": "display_data"
    }
   ],
   "source": [
    "plt.scatter(joined['dv_coef_y'], joined['dv_coef_x'], s=10)\n",
    "plt.title('DV, PBMC vs IFN-B ciliated')"
   ]
  },
  {
   "cell_type": "code",
   "execution_count": 66,
   "metadata": {},
   "outputs": [
    {
     "data": {
      "text/html": [
       "<div>\n",
       "<style scoped>\n",
       "    .dataframe tbody tr th:only-of-type {\n",
       "        vertical-align: middle;\n",
       "    }\n",
       "\n",
       "    .dataframe tbody tr th {\n",
       "        vertical-align: top;\n",
       "    }\n",
       "\n",
       "    .dataframe thead th {\n",
       "        text-align: right;\n",
       "    }\n",
       "</style>\n",
       "<table border=\"1\" class=\"dataframe\">\n",
       "  <thead>\n",
       "    <tr style=\"text-align: right;\">\n",
       "      <th></th>\n",
       "      <th>gene</th>\n",
       "      <th>de_coef_x</th>\n",
       "      <th>de_se_x</th>\n",
       "      <th>de_pval_x</th>\n",
       "      <th>dv_coef_x</th>\n",
       "      <th>dv_se_x</th>\n",
       "      <th>dv_pval_x</th>\n",
       "      <th>de_coef_y</th>\n",
       "      <th>de_se_y</th>\n",
       "      <th>de_pval_y</th>\n",
       "      <th>dv_coef_y</th>\n",
       "      <th>dv_se_y</th>\n",
       "      <th>dv_pval_y</th>\n",
       "      <th>de_fdr</th>\n",
       "      <th>dv_fdr</th>\n",
       "    </tr>\n",
       "  </thead>\n",
       "  <tbody>\n",
       "    <tr>\n",
       "      <th>0</th>\n",
       "      <td>ISG15</td>\n",
       "      <td>5.098154</td>\n",
       "      <td>0.073231</td>\n",
       "      <td>1.778018e-08</td>\n",
       "      <td>-3.274190</td>\n",
       "      <td>0.240614</td>\n",
       "      <td>2.771328e-44</td>\n",
       "      <td>2.725120</td>\n",
       "      <td>0.072049</td>\n",
       "      <td>1.071286e-06</td>\n",
       "      <td>-2.478389</td>\n",
       "      <td>0.170019</td>\n",
       "      <td>3.137984e-35</td>\n",
       "      <td>0.000009</td>\n",
       "      <td>3.025644e-31</td>\n",
       "    </tr>\n",
       "    <tr>\n",
       "      <th>30</th>\n",
       "      <td>IFI6</td>\n",
       "      <td>3.211037</td>\n",
       "      <td>0.055433</td>\n",
       "      <td>8.331472e-08</td>\n",
       "      <td>-1.770808</td>\n",
       "      <td>0.169302</td>\n",
       "      <td>6.521656e-23</td>\n",
       "      <td>2.035248</td>\n",
       "      <td>0.049066</td>\n",
       "      <td>1.867728e-06</td>\n",
       "      <td>-1.705210</td>\n",
       "      <td>0.140787</td>\n",
       "      <td>9.084616e-23</td>\n",
       "      <td>0.000016</td>\n",
       "      <td>2.189847e-19</td>\n",
       "    </tr>\n",
       "    <tr>\n",
       "      <th>71</th>\n",
       "      <td>GBP1</td>\n",
       "      <td>2.251378</td>\n",
       "      <td>0.047044</td>\n",
       "      <td>4.758652e-07</td>\n",
       "      <td>-0.750877</td>\n",
       "      <td>0.132809</td>\n",
       "      <td>5.248861e-09</td>\n",
       "      <td>1.151809</td>\n",
       "      <td>0.053890</td>\n",
       "      <td>1.852316e-06</td>\n",
       "      <td>-0.665419</td>\n",
       "      <td>0.317476</td>\n",
       "      <td>4.719528e-02</td>\n",
       "      <td>0.000016</td>\n",
       "      <td>3.129690e-01</td>\n",
       "    </tr>\n",
       "    <tr>\n",
       "      <th>225</th>\n",
       "      <td>STAT1</td>\n",
       "      <td>1.413377</td>\n",
       "      <td>0.059840</td>\n",
       "      <td>9.484251e-07</td>\n",
       "      <td>-0.767139</td>\n",
       "      <td>0.302698</td>\n",
       "      <td>2.519748e-02</td>\n",
       "      <td>1.431685</td>\n",
       "      <td>0.043994</td>\n",
       "      <td>7.398344e-07</td>\n",
       "      <td>-0.714755</td>\n",
       "      <td>0.211649</td>\n",
       "      <td>2.799720e-03</td>\n",
       "      <td>0.000007</td>\n",
       "      <td>4.127661e-02</td>\n",
       "    </tr>\n",
       "    <tr>\n",
       "      <th>279</th>\n",
       "      <td>ARF4</td>\n",
       "      <td>-0.288091</td>\n",
       "      <td>0.066921</td>\n",
       "      <td>6.019394e-05</td>\n",
       "      <td>-0.601691</td>\n",
       "      <td>0.446622</td>\n",
       "      <td>1.896810e-01</td>\n",
       "      <td>-0.049419</td>\n",
       "      <td>0.056178</td>\n",
       "      <td>3.792621e-01</td>\n",
       "      <td>-0.573384</td>\n",
       "      <td>0.300402</td>\n",
       "      <td>5.749425e-02</td>\n",
       "      <td>0.489406</td>\n",
       "      <td>3.462583e-01</td>\n",
       "    </tr>\n",
       "    <tr>\n",
       "      <th>542</th>\n",
       "      <td>SAMD9L</td>\n",
       "      <td>2.621440</td>\n",
       "      <td>0.072952</td>\n",
       "      <td>2.327380e-08</td>\n",
       "      <td>-0.980088</td>\n",
       "      <td>0.288240</td>\n",
       "      <td>1.309869e-02</td>\n",
       "      <td>2.037875</td>\n",
       "      <td>0.080411</td>\n",
       "      <td>6.150308e-07</td>\n",
       "      <td>-1.074292</td>\n",
       "      <td>0.323586</td>\n",
       "      <td>2.499750e-03</td>\n",
       "      <td>0.000006</td>\n",
       "      <td>3.850254e-02</td>\n",
       "    </tr>\n",
       "    <tr>\n",
       "      <th>731</th>\n",
       "      <td>IFITM2</td>\n",
       "      <td>3.271008</td>\n",
       "      <td>0.073602</td>\n",
       "      <td>5.020476e-05</td>\n",
       "      <td>-0.961744</td>\n",
       "      <td>0.224633</td>\n",
       "      <td>3.299670e-03</td>\n",
       "      <td>1.318253</td>\n",
       "      <td>0.070163</td>\n",
       "      <td>4.458285e-06</td>\n",
       "      <td>-0.806087</td>\n",
       "      <td>0.204675</td>\n",
       "      <td>4.137491e-07</td>\n",
       "      <td>0.000034</td>\n",
       "      <td>1.595747e-04</td>\n",
       "    </tr>\n",
       "    <tr>\n",
       "      <th>732</th>\n",
       "      <td>IFITM3</td>\n",
       "      <td>3.976847</td>\n",
       "      <td>0.072500</td>\n",
       "      <td>2.679437e-06</td>\n",
       "      <td>-2.502176</td>\n",
       "      <td>0.142980</td>\n",
       "      <td>4.059481e-24</td>\n",
       "      <td>1.932974</td>\n",
       "      <td>0.044457</td>\n",
       "      <td>1.991590e-07</td>\n",
       "      <td>-1.012494</td>\n",
       "      <td>0.173949</td>\n",
       "      <td>6.716627e-09</td>\n",
       "      <td>0.000002</td>\n",
       "      <td>4.047607e-06</td>\n",
       "    </tr>\n",
       "    <tr>\n",
       "      <th>851</th>\n",
       "      <td>USP15</td>\n",
       "      <td>1.110537</td>\n",
       "      <td>0.080291</td>\n",
       "      <td>1.724444e-05</td>\n",
       "      <td>-0.626781</td>\n",
       "      <td>0.419249</td>\n",
       "      <td>1.474853e-01</td>\n",
       "      <td>0.847357</td>\n",
       "      <td>0.076629</td>\n",
       "      <td>1.381537e-05</td>\n",
       "      <td>-0.524702</td>\n",
       "      <td>0.536557</td>\n",
       "      <td>2.623738e-01</td>\n",
       "      <td>0.000093</td>\n",
       "      <td>6.391632e-01</td>\n",
       "    </tr>\n",
       "    <tr>\n",
       "      <th>874</th>\n",
       "      <td>OAS1</td>\n",
       "      <td>3.331951</td>\n",
       "      <td>0.082338</td>\n",
       "      <td>5.337850e-07</td>\n",
       "      <td>-1.381646</td>\n",
       "      <td>0.174600</td>\n",
       "      <td>4.050953e-19</td>\n",
       "      <td>1.973972</td>\n",
       "      <td>0.071041</td>\n",
       "      <td>2.552064e-06</td>\n",
       "      <td>-0.745619</td>\n",
       "      <td>0.267849</td>\n",
       "      <td>1.549845e-02</td>\n",
       "      <td>0.000021</td>\n",
       "      <td>1.559875e-01</td>\n",
       "    </tr>\n",
       "    <tr>\n",
       "      <th>881</th>\n",
       "      <td>OASL</td>\n",
       "      <td>2.948048</td>\n",
       "      <td>0.067321</td>\n",
       "      <td>1.604138e-06</td>\n",
       "      <td>-1.149391</td>\n",
       "      <td>0.256891</td>\n",
       "      <td>2.499750e-03</td>\n",
       "      <td>2.481491</td>\n",
       "      <td>0.117060</td>\n",
       "      <td>8.087120e-06</td>\n",
       "      <td>-0.936735</td>\n",
       "      <td>0.479061</td>\n",
       "      <td>9.469053e-02</td>\n",
       "      <td>0.000058</td>\n",
       "      <td>4.412789e-01</td>\n",
       "    </tr>\n",
       "    <tr>\n",
       "      <th>897</th>\n",
       "      <td>EPSTI1</td>\n",
       "      <td>2.364933</td>\n",
       "      <td>0.057296</td>\n",
       "      <td>9.138056e-05</td>\n",
       "      <td>-1.187148</td>\n",
       "      <td>0.218205</td>\n",
       "      <td>1.537080e-06</td>\n",
       "      <td>1.764436</td>\n",
       "      <td>0.080749</td>\n",
       "      <td>6.250722e-07</td>\n",
       "      <td>-1.499346</td>\n",
       "      <td>0.277822</td>\n",
       "      <td>1.172486e-08</td>\n",
       "      <td>0.000006</td>\n",
       "      <td>6.650066e-06</td>\n",
       "    </tr>\n",
       "    <tr>\n",
       "      <th>1012</th>\n",
       "      <td>ISG20</td>\n",
       "      <td>3.916283</td>\n",
       "      <td>0.050533</td>\n",
       "      <td>1.037621e-08</td>\n",
       "      <td>-2.214061</td>\n",
       "      <td>0.126803</td>\n",
       "      <td>4.397342e-40</td>\n",
       "      <td>2.032684</td>\n",
       "      <td>0.067351</td>\n",
       "      <td>1.011210e-04</td>\n",
       "      <td>-1.447865</td>\n",
       "      <td>0.261773</td>\n",
       "      <td>5.328224e-10</td>\n",
       "      <td>0.000515</td>\n",
       "      <td>3.951902e-07</td>\n",
       "    </tr>\n",
       "    <tr>\n",
       "      <th>1106</th>\n",
       "      <td>IFI35</td>\n",
       "      <td>2.625501</td>\n",
       "      <td>0.057697</td>\n",
       "      <td>2.575709e-07</td>\n",
       "      <td>-1.018574</td>\n",
       "      <td>0.242433</td>\n",
       "      <td>2.099790e-03</td>\n",
       "      <td>1.653821</td>\n",
       "      <td>0.061741</td>\n",
       "      <td>1.131905e-07</td>\n",
       "      <td>-0.584646</td>\n",
       "      <td>0.302606</td>\n",
       "      <td>6.609339e-02</td>\n",
       "      <td>0.000001</td>\n",
       "      <td>3.702920e-01</td>\n",
       "    </tr>\n",
       "    <tr>\n",
       "      <th>1129</th>\n",
       "      <td>RNF213</td>\n",
       "      <td>1.613087</td>\n",
       "      <td>0.057162</td>\n",
       "      <td>3.508168e-06</td>\n",
       "      <td>-0.765784</td>\n",
       "      <td>0.313942</td>\n",
       "      <td>1.769823e-02</td>\n",
       "      <td>1.183041</td>\n",
       "      <td>0.056501</td>\n",
       "      <td>7.607846e-06</td>\n",
       "      <td>-0.911049</td>\n",
       "      <td>0.261200</td>\n",
       "      <td>1.199880e-03</td>\n",
       "      <td>0.000055</td>\n",
       "      <td>2.420344e-02</td>\n",
       "    </tr>\n",
       "    <tr>\n",
       "      <th>1232</th>\n",
       "      <td>BST2</td>\n",
       "      <td>1.814990</td>\n",
       "      <td>0.031338</td>\n",
       "      <td>2.292480e-09</td>\n",
       "      <td>-0.859771</td>\n",
       "      <td>0.155453</td>\n",
       "      <td>1.217526e-08</td>\n",
       "      <td>1.901466</td>\n",
       "      <td>0.058211</td>\n",
       "      <td>3.080822e-07</td>\n",
       "      <td>-1.236274</td>\n",
       "      <td>0.169791</td>\n",
       "      <td>1.904631e-10</td>\n",
       "      <td>0.000003</td>\n",
       "      <td>1.669495e-07</td>\n",
       "    </tr>\n",
       "  </tbody>\n",
       "</table>\n",
       "</div>"
      ],
      "text/plain": [
       "        gene  de_coef_x   de_se_x     de_pval_x  dv_coef_x   dv_se_x  \\\n",
       "0      ISG15   5.098154  0.073231  1.778018e-08  -3.274190  0.240614   \n",
       "30      IFI6   3.211037  0.055433  8.331472e-08  -1.770808  0.169302   \n",
       "71      GBP1   2.251378  0.047044  4.758652e-07  -0.750877  0.132809   \n",
       "225    STAT1   1.413377  0.059840  9.484251e-07  -0.767139  0.302698   \n",
       "279     ARF4  -0.288091  0.066921  6.019394e-05  -0.601691  0.446622   \n",
       "542   SAMD9L   2.621440  0.072952  2.327380e-08  -0.980088  0.288240   \n",
       "731   IFITM2   3.271008  0.073602  5.020476e-05  -0.961744  0.224633   \n",
       "732   IFITM3   3.976847  0.072500  2.679437e-06  -2.502176  0.142980   \n",
       "851    USP15   1.110537  0.080291  1.724444e-05  -0.626781  0.419249   \n",
       "874     OAS1   3.331951  0.082338  5.337850e-07  -1.381646  0.174600   \n",
       "881     OASL   2.948048  0.067321  1.604138e-06  -1.149391  0.256891   \n",
       "897   EPSTI1   2.364933  0.057296  9.138056e-05  -1.187148  0.218205   \n",
       "1012   ISG20   3.916283  0.050533  1.037621e-08  -2.214061  0.126803   \n",
       "1106   IFI35   2.625501  0.057697  2.575709e-07  -1.018574  0.242433   \n",
       "1129  RNF213   1.613087  0.057162  3.508168e-06  -0.765784  0.313942   \n",
       "1232    BST2   1.814990  0.031338  2.292480e-09  -0.859771  0.155453   \n",
       "\n",
       "         dv_pval_x  de_coef_y   de_se_y     de_pval_y  dv_coef_y   dv_se_y  \\\n",
       "0     2.771328e-44   2.725120  0.072049  1.071286e-06  -2.478389  0.170019   \n",
       "30    6.521656e-23   2.035248  0.049066  1.867728e-06  -1.705210  0.140787   \n",
       "71    5.248861e-09   1.151809  0.053890  1.852316e-06  -0.665419  0.317476   \n",
       "225   2.519748e-02   1.431685  0.043994  7.398344e-07  -0.714755  0.211649   \n",
       "279   1.896810e-01  -0.049419  0.056178  3.792621e-01  -0.573384  0.300402   \n",
       "542   1.309869e-02   2.037875  0.080411  6.150308e-07  -1.074292  0.323586   \n",
       "731   3.299670e-03   1.318253  0.070163  4.458285e-06  -0.806087  0.204675   \n",
       "732   4.059481e-24   1.932974  0.044457  1.991590e-07  -1.012494  0.173949   \n",
       "851   1.474853e-01   0.847357  0.076629  1.381537e-05  -0.524702  0.536557   \n",
       "874   4.050953e-19   1.973972  0.071041  2.552064e-06  -0.745619  0.267849   \n",
       "881   2.499750e-03   2.481491  0.117060  8.087120e-06  -0.936735  0.479061   \n",
       "897   1.537080e-06   1.764436  0.080749  6.250722e-07  -1.499346  0.277822   \n",
       "1012  4.397342e-40   2.032684  0.067351  1.011210e-04  -1.447865  0.261773   \n",
       "1106  2.099790e-03   1.653821  0.061741  1.131905e-07  -0.584646  0.302606   \n",
       "1129  1.769823e-02   1.183041  0.056501  7.607846e-06  -0.911049  0.261200   \n",
       "1232  1.217526e-08   1.901466  0.058211  3.080822e-07  -1.236274  0.169791   \n",
       "\n",
       "         dv_pval_y    de_fdr        dv_fdr  \n",
       "0     3.137984e-35  0.000009  3.025644e-31  \n",
       "30    9.084616e-23  0.000016  2.189847e-19  \n",
       "71    4.719528e-02  0.000016  3.129690e-01  \n",
       "225   2.799720e-03  0.000007  4.127661e-02  \n",
       "279   5.749425e-02  0.489406  3.462583e-01  \n",
       "542   2.499750e-03  0.000006  3.850254e-02  \n",
       "731   4.137491e-07  0.000034  1.595747e-04  \n",
       "732   6.716627e-09  0.000002  4.047607e-06  \n",
       "851   2.623738e-01  0.000093  6.391632e-01  \n",
       "874   1.549845e-02  0.000021  1.559875e-01  \n",
       "881   9.469053e-02  0.000058  4.412789e-01  \n",
       "897   1.172486e-08  0.000006  6.650066e-06  \n",
       "1012  5.328224e-10  0.000515  3.951902e-07  \n",
       "1106  6.609339e-02  0.000001  3.702920e-01  \n",
       "1129  1.199880e-03  0.000055  2.420344e-02  \n",
       "1232  1.904631e-10  0.000003  1.669495e-07  "
      ]
     },
     "execution_count": 66,
     "metadata": {},
     "output_type": "execute_result"
    }
   ],
   "source": [
    "joined.query('dv_coef_y < -0.5 & dv_coef_x < -0.5')"
   ]
  },
  {
   "cell_type": "markdown",
   "metadata": {},
   "source": [
    "### IFN-A vs IFN-B"
   ]
  },
  {
   "cell_type": "code",
   "execution_count": 40,
   "metadata": {},
   "outputs": [
    {
     "data": {
      "text/plain": [
       "['alpha', 'beta', 'gamma', 'lambda']"
      ]
     },
     "execution_count": 40,
     "metadata": {},
     "output_type": "execute_result"
    }
   ],
   "source": [
    "stims "
   ]
  },
  {
   "cell_type": "code",
   "execution_count": 111,
   "metadata": {},
   "outputs": [
    {
     "name": "stdout",
     "output_type": "stream",
     "text": [
      "alpha beta 0 1\n",
      "de r (0.9463527975550924, 0.0)\n",
      "dv r (0.6287114187691951, 0.0)\n",
      "alpha gamma 0 2\n",
      "de r (0.7448879826515865, 0.0)\n",
      "dv r (0.5016802570889022, 0.0)\n",
      "alpha lambda 0 3\n",
      "de r (0.7075362322635799, 0.0)\n",
      "dv r (0.5148189976591, 0.0)\n",
      "beta gamma 1 2\n",
      "de r (0.755065139717038, 0.0)\n",
      "dv r (0.5616388196027058, 0.0)\n",
      "beta lambda 1 3\n",
      "de r (0.7041616387834764, 0.0)\n",
      "dv r (0.5687417704601274, 0.0)\n",
      "gamma lambda 2 3\n",
      "de r (0.7001009445187257, 0.0)\n",
      "dv r (0.49694125761412156, 0.0)\n"
     ]
    },
    {
     "data": {
      "image/png": "[encoded data removed]",
      "text/plain": [
       "<Figure size 360x216 with 12 Axes>"
      ]
     },
     "metadata": {
      "needs_background": "light"
     },
     "output_type": "display_data"
    }
   ],
   "source": [
    "plt.figure(figsize=(5,3))\n",
    "\n",
    "for i in range(4):\n",
    "    for j in range(i, 4):\n",
    "        \n",
    "        if i == j:\n",
    "            continue\n",
    "            \n",
    "        \n",
    "        joined = all_result['ciliated']['ht'][stims[i]]['6'].merge(\n",
    "            all_result['ciliated']['ht'][stims[j]]['6'], \n",
    "            on='gene', how='inner')\n",
    "        \n",
    "        print(stims[i], stims[j], i , j)\n",
    "        print('de r', stats.pearsonr(joined['de_coef_y'], joined['de_coef_x']))\n",
    "        print('dv r', stats.pearsonr(joined['dv_coef_y'], joined['dv_coef_x']))\n",
    "\n",
    "        plt.subplot(4, 4, i*4+j+1);\n",
    "        plt.scatter(joined['de_coef_y'], joined['de_coef_x'], s=1)\n",
    "        plt.xlim(-1.5, 3); plt.ylim(-1.7, 3);\n",
    "        if not (i == 0 and j == 1):\n",
    "            plt.xticks([]); plt.yticks([])\n",
    "        \n",
    "        \n",
    "        if (i == 2 and j == 3):\n",
    "            plt.rcParams['ytick.left'] = plt.rcParams['ytick.labelleft'] = False\n",
    "            plt.rcParams['ytick.right'] = plt.rcParams['ytick.labelright'] = True\n",
    "        plt.subplot(4, 4, j*4+i+1);\n",
    "        plt.scatter(joined['dv_coef_y'], joined['dv_coef_x'], s=1)\n",
    "        plt.xlim(-3, 4); plt.ylim(-3.5, 3.5);\n",
    "        \n",
    "        if (i == 2 and j == 3):\n",
    "            plt.rcParams['ytick.left'] = plt.rcParams['ytick.labelleft'] = True\n",
    "            plt.rcParams['ytick.right'] = plt.rcParams['ytick.labelright'] = False\n",
    "\n",
    "        if not (i == 2 and j == 3):\n",
    "            plt.xticks([]); plt.yticks([])\n",
    "plt.savefig(fig_path + 'de_dv_corr_hbec.png', bbox_inches='tight', dpi=300)\n"
   ]
  },
  {
   "cell_type": "markdown",
   "metadata": {},
   "source": [
    "### PBMC scatter plot"
   ]
  },
  {
   "cell_type": "code",
   "execution_count": 96,
   "metadata": {},
   "outputs": [],
   "source": [
    "cm_ht_result_1d['de_fdr'] = memento.util._fdrcorrect(cm_ht_result_1d['de_pval'])\n",
    "cm_ht_result_1d['dv_fdr'] = memento.util._fdrcorrect(cm_ht_result_1d['dv_pval'])"
   ]
  },
  {
   "cell_type": "code",
   "execution_count": 97,
   "metadata": {},
   "outputs": [
    {
     "data": {
      "image/png": "[encoded data removed]",
      "text/plain": [
       "<Figure size 122.4x108 with 1 Axes>"
      ]
     },
     "metadata": {
      "needs_background": "light"
     },
     "output_type": "display_data"
    }
   ],
   "source": [
    "plt.figure(figsize=(1.7, 1.5))\n",
    "plot_de_dv(cm_ht_result_1d)\n",
    "plt.title('cM IFN-B')\n",
    "plt.savefig(fig_path + 'scatter_pbmc_beta.png', bbox_inches='tight', dpi=300)\n"
   ]
  },
  {
   "cell_type": "code",
   "execution_count": 29,
   "metadata": {},
   "outputs": [],
   "source": [
    "joined = all_result['ciliated']['ht']['beta']['6'].merge(\n",
    "    all_result['ciliated']['ht']['lambda']['6'], \n",
    "    on='gene', how='inner')"
   ]
  },
  {
   "cell_type": "code",
   "execution_count": 30,
   "metadata": {},
   "outputs": [
    {
     "data": {
      "text/plain": [
       "(0.7109738257304512, 0.0)"
      ]
     },
     "execution_count": 30,
     "metadata": {},
     "output_type": "execute_result"
    }
   ],
   "source": [
    "stats.pearsonr(joined['de_coef_y'], joined['de_coef_x'])"
   ]
  },
  {
   "cell_type": "code",
   "execution_count": 31,
   "metadata": {},
   "outputs": [
    {
     "data": {
      "text/plain": [
       "(0.5927713194047084, 0.0)"
      ]
     },
     "execution_count": 31,
     "metadata": {},
     "output_type": "execute_result"
    }
   ],
   "source": [
    "stats.pearsonr(joined['dv_coef_y'], joined['dv_coef_x'])"
   ]
  },
  {
   "cell_type": "code",
   "execution_count": 32,
   "metadata": {},
   "outputs": [
    {
     "data": {
      "text/plain": [
       "<matplotlib.collections.PathCollection at 0x7fb13f7175d0>"
      ]
     },
     "execution_count": 32,
     "metadata": {},
     "output_type": "execute_result"
    },
    {
     "data": {
      "image/png": "[encoded data removed]",
      "text/plain": [
       "<Figure size 432x288 with 1 Axes>"
      ]
     },
     "metadata": {
      "needs_background": "light"
     },
     "output_type": "display_data"
    }
   ],
   "source": [
    "plt.scatter(joined['de_coef_y'], joined['de_coef_x'], s=10)"
   ]
  },
  {
   "cell_type": "code",
   "execution_count": 33,
   "metadata": {},
   "outputs": [
    {
     "data": {
      "text/plain": [
       "Text(0.5, 1.0, 'DV, IFN-A vs IFN-L')"
      ]
     },
     "execution_count": 33,
     "metadata": {},
     "output_type": "execute_result"
    },
    {
     "data": {
      "image/png": "[encoded data removed]",
      "text/plain": [
       "<Figure size 432x288 with 1 Axes>"
      ]
     },
     "metadata": {
      "needs_background": "light"
     },
     "output_type": "display_data"
    }
   ],
   "source": [
    "plt.scatter(joined['dv_coef_y'], joined['dv_coef_x'], s=10)\n",
    "plt.title('DV, IFN-A vs IFN-L')"
   ]
  },
  {
   "cell_type": "code",
   "execution_count": 86,
   "metadata": {},
   "outputs": [
    {
     "data": {
      "text/html": [
       "<div>\n",
       "<style scoped>\n",
       "    .dataframe tbody tr th:only-of-type {\n",
       "        vertical-align: middle;\n",
       "    }\n",
       "\n",
       "    .dataframe tbody tr th {\n",
       "        vertical-align: top;\n",
       "    }\n",
       "\n",
       "    .dataframe thead th {\n",
       "        text-align: right;\n",
       "    }\n",
       "</style>\n",
       "<table border=\"1\" class=\"dataframe\">\n",
       "  <thead>\n",
       "    <tr style=\"text-align: right;\">\n",
       "      <th></th>\n",
       "      <th>gene</th>\n",
       "      <th>de_coef_x</th>\n",
       "      <th>de_se_x</th>\n",
       "      <th>de_pval_x</th>\n",
       "      <th>dv_coef_x</th>\n",
       "      <th>dv_se_x</th>\n",
       "      <th>dv_pval_x</th>\n",
       "      <th>de_fdr_x</th>\n",
       "      <th>dv_fdr_x</th>\n",
       "      <th>de_coef_y</th>\n",
       "      <th>de_se_y</th>\n",
       "      <th>de_pval_y</th>\n",
       "      <th>dv_coef_y</th>\n",
       "      <th>dv_se_y</th>\n",
       "      <th>dv_pval_y</th>\n",
       "      <th>de_fdr_y</th>\n",
       "      <th>dv_fdr_y</th>\n",
       "    </tr>\n",
       "  </thead>\n",
       "  <tbody>\n",
       "    <tr>\n",
       "      <th>3</th>\n",
       "      <td>ISG15</td>\n",
       "      <td>2.725120</td>\n",
       "      <td>0.072049</td>\n",
       "      <td>0.000001</td>\n",
       "      <td>-2.478389</td>\n",
       "      <td>0.170019</td>\n",
       "      <td>3.137984e-35</td>\n",
       "      <td>0.000009</td>\n",
       "      <td>3.025644e-31</td>\n",
       "      <td>2.823689</td>\n",
       "      <td>0.071810</td>\n",
       "      <td>6.528630e-05</td>\n",
       "      <td>-2.373462</td>\n",
       "      <td>0.170715</td>\n",
       "      <td>4.495823e-32</td>\n",
       "      <td>0.000286</td>\n",
       "      <td>4.274628e-28</td>\n",
       "    </tr>\n",
       "    <tr>\n",
       "      <th>9</th>\n",
       "      <td>B3GALT6</td>\n",
       "      <td>0.008483</td>\n",
       "      <td>0.160762</td>\n",
       "      <td>0.958404</td>\n",
       "      <td>-0.662819</td>\n",
       "      <td>0.708142</td>\n",
       "      <td>2.885711e-01</td>\n",
       "      <td>0.972218</td>\n",
       "      <td>6.605895e-01</td>\n",
       "      <td>-0.002782</td>\n",
       "      <td>0.161160</td>\n",
       "      <td>9.875012e-01</td>\n",
       "      <td>-0.521665</td>\n",
       "      <td>0.611430</td>\n",
       "      <td>3.414659e-01</td>\n",
       "      <td>0.990627</td>\n",
       "      <td>6.300519e-01</td>\n",
       "    </tr>\n",
       "    <tr>\n",
       "      <th>87</th>\n",
       "      <td>MTHFR</td>\n",
       "      <td>0.113527</td>\n",
       "      <td>0.114781</td>\n",
       "      <td>0.320568</td>\n",
       "      <td>-0.515171</td>\n",
       "      <td>0.624144</td>\n",
       "      <td>3.508649e-01</td>\n",
       "      <td>0.430550</td>\n",
       "      <td>7.107330e-01</td>\n",
       "      <td>0.146252</td>\n",
       "      <td>0.110489</td>\n",
       "      <td>1.838816e-01</td>\n",
       "      <td>-1.572584</td>\n",
       "      <td>0.800521</td>\n",
       "      <td>5.359464e-02</td>\n",
       "      <td>0.257982</td>\n",
       "      <td>2.605204e-01</td>\n",
       "    </tr>\n",
       "    <tr>\n",
       "      <th>100</th>\n",
       "      <td>CASP9</td>\n",
       "      <td>0.177427</td>\n",
       "      <td>0.152390</td>\n",
       "      <td>0.242476</td>\n",
       "      <td>-1.003639</td>\n",
       "      <td>0.823803</td>\n",
       "      <td>1.957804e-01</td>\n",
       "      <td>0.344069</td>\n",
       "      <td>5.749969e-01</td>\n",
       "      <td>0.208805</td>\n",
       "      <td>0.149745</td>\n",
       "      <td>1.610839e-01</td>\n",
       "      <td>-2.500267</td>\n",
       "      <td>0.871961</td>\n",
       "      <td>1.319868e-02</td>\n",
       "      <td>0.231008</td>\n",
       "      <td>1.100816e-01</td>\n",
       "    </tr>\n",
       "    <tr>\n",
       "      <th>110</th>\n",
       "      <td>ATP13A2</td>\n",
       "      <td>0.158050</td>\n",
       "      <td>0.130002</td>\n",
       "      <td>0.221478</td>\n",
       "      <td>-0.808901</td>\n",
       "      <td>0.718817</td>\n",
       "      <td>2.266773e-01</td>\n",
       "      <td>0.319445</td>\n",
       "      <td>6.058560e-01</td>\n",
       "      <td>0.113593</td>\n",
       "      <td>0.127685</td>\n",
       "      <td>3.695630e-01</td>\n",
       "      <td>-0.825404</td>\n",
       "      <td>0.622686</td>\n",
       "      <td>1.725827e-01</td>\n",
       "      <td>0.460706</td>\n",
       "      <td>4.682981e-01</td>\n",
       "    </tr>\n",
       "    <tr>\n",
       "      <th>...</th>\n",
       "      <td>...</td>\n",
       "      <td>...</td>\n",
       "      <td>...</td>\n",
       "      <td>...</td>\n",
       "      <td>...</td>\n",
       "      <td>...</td>\n",
       "      <td>...</td>\n",
       "      <td>...</td>\n",
       "      <td>...</td>\n",
       "      <td>...</td>\n",
       "      <td>...</td>\n",
       "      <td>...</td>\n",
       "      <td>...</td>\n",
       "      <td>...</td>\n",
       "      <td>...</td>\n",
       "      <td>...</td>\n",
       "      <td>...</td>\n",
       "    </tr>\n",
       "    <tr>\n",
       "      <th>9093</th>\n",
       "      <td>AL118516.1</td>\n",
       "      <td>-0.102205</td>\n",
       "      <td>0.152298</td>\n",
       "      <td>0.502350</td>\n",
       "      <td>-1.750895</td>\n",
       "      <td>0.684116</td>\n",
       "      <td>1.839816e-02</td>\n",
       "      <td>0.608882</td>\n",
       "      <td>1.758966e-01</td>\n",
       "      <td>-0.040380</td>\n",
       "      <td>0.149669</td>\n",
       "      <td>7.902210e-01</td>\n",
       "      <td>-0.854309</td>\n",
       "      <td>0.607530</td>\n",
       "      <td>1.375862e-01</td>\n",
       "      <td>0.840804</td>\n",
       "      <td>4.179457e-01</td>\n",
       "    </tr>\n",
       "    <tr>\n",
       "      <th>9110</th>\n",
       "      <td>TYMP</td>\n",
       "      <td>1.095519</td>\n",
       "      <td>0.037308</td>\n",
       "      <td>0.000053</td>\n",
       "      <td>-0.547484</td>\n",
       "      <td>0.169287</td>\n",
       "      <td>1.699830e-03</td>\n",
       "      <td>0.000300</td>\n",
       "      <td>2.969160e-02</td>\n",
       "      <td>1.135186</td>\n",
       "      <td>0.037023</td>\n",
       "      <td>5.492615e-07</td>\n",
       "      <td>-0.509907</td>\n",
       "      <td>0.171341</td>\n",
       "      <td>4.299570e-03</td>\n",
       "      <td>0.000004</td>\n",
       "      <td>4.572742e-02</td>\n",
       "    </tr>\n",
       "    <tr>\n",
       "      <th>9176</th>\n",
       "      <td>BCOR</td>\n",
       "      <td>-0.299576</td>\n",
       "      <td>0.159847</td>\n",
       "      <td>0.060994</td>\n",
       "      <td>-0.791149</td>\n",
       "      <td>0.619836</td>\n",
       "      <td>1.695830e-01</td>\n",
       "      <td>0.110733</td>\n",
       "      <td>5.477861e-01</td>\n",
       "      <td>-0.270654</td>\n",
       "      <td>0.154794</td>\n",
       "      <td>8.059194e-02</td>\n",
       "      <td>-0.678885</td>\n",
       "      <td>0.613393</td>\n",
       "      <td>2.151785e-01</td>\n",
       "      <td>0.128461</td>\n",
       "      <td>5.199054e-01</td>\n",
       "    </tr>\n",
       "    <tr>\n",
       "      <th>9341</th>\n",
       "      <td>RTL8C</td>\n",
       "      <td>-0.017714</td>\n",
       "      <td>0.160854</td>\n",
       "      <td>0.914209</td>\n",
       "      <td>-0.570172</td>\n",
       "      <td>0.777474</td>\n",
       "      <td>4.043596e-01</td>\n",
       "      <td>0.941249</td>\n",
       "      <td>7.500644e-01</td>\n",
       "      <td>0.045139</td>\n",
       "      <td>0.158972</td>\n",
       "      <td>7.720228e-01</td>\n",
       "      <td>-0.706387</td>\n",
       "      <td>0.825057</td>\n",
       "      <td>3.378662e-01</td>\n",
       "      <td>0.825320</td>\n",
       "      <td>6.266937e-01</td>\n",
       "    </tr>\n",
       "    <tr>\n",
       "      <th>9364</th>\n",
       "      <td>TMEM187</td>\n",
       "      <td>0.198048</td>\n",
       "      <td>0.122612</td>\n",
       "      <td>0.105989</td>\n",
       "      <td>-0.609236</td>\n",
       "      <td>0.677014</td>\n",
       "      <td>2.977702e-01</td>\n",
       "      <td>0.175834</td>\n",
       "      <td>6.712884e-01</td>\n",
       "      <td>0.142808</td>\n",
       "      <td>0.122219</td>\n",
       "      <td>2.411759e-01</td>\n",
       "      <td>-0.891393</td>\n",
       "      <td>0.781222</td>\n",
       "      <td>2.101790e-01</td>\n",
       "      <td>0.324205</td>\n",
       "      <td>5.151796e-01</td>\n",
       "    </tr>\n",
       "  </tbody>\n",
       "</table>\n",
       "<p>202 rows × 17 columns</p>\n",
       "</div>"
      ],
      "text/plain": [
       "            gene  de_coef_x   de_se_x  de_pval_x  dv_coef_x   dv_se_x  \\\n",
       "3          ISG15   2.725120  0.072049   0.000001  -2.478389  0.170019   \n",
       "9        B3GALT6   0.008483  0.160762   0.958404  -0.662819  0.708142   \n",
       "87         MTHFR   0.113527  0.114781   0.320568  -0.515171  0.624144   \n",
       "100        CASP9   0.177427  0.152390   0.242476  -1.003639  0.823803   \n",
       "110      ATP13A2   0.158050  0.130002   0.221478  -0.808901  0.718817   \n",
       "...          ...        ...       ...        ...        ...       ...   \n",
       "9093  AL118516.1  -0.102205  0.152298   0.502350  -1.750895  0.684116   \n",
       "9110        TYMP   1.095519  0.037308   0.000053  -0.547484  0.169287   \n",
       "9176        BCOR  -0.299576  0.159847   0.060994  -0.791149  0.619836   \n",
       "9341       RTL8C  -0.017714  0.160854   0.914209  -0.570172  0.777474   \n",
       "9364     TMEM187   0.198048  0.122612   0.105989  -0.609236  0.677014   \n",
       "\n",
       "         dv_pval_x  de_fdr_x      dv_fdr_x  de_coef_y   de_se_y     de_pval_y  \\\n",
       "3     3.137984e-35  0.000009  3.025644e-31   2.823689  0.071810  6.528630e-05   \n",
       "9     2.885711e-01  0.972218  6.605895e-01  -0.002782  0.161160  9.875012e-01   \n",
       "87    3.508649e-01  0.430550  7.107330e-01   0.146252  0.110489  1.838816e-01   \n",
       "100   1.957804e-01  0.344069  5.749969e-01   0.208805  0.149745  1.610839e-01   \n",
       "110   2.266773e-01  0.319445  6.058560e-01   0.113593  0.127685  3.695630e-01   \n",
       "...            ...       ...           ...        ...       ...           ...   \n",
       "9093  1.839816e-02  0.608882  1.758966e-01  -0.040380  0.149669  7.902210e-01   \n",
       "9110  1.699830e-03  0.000300  2.969160e-02   1.135186  0.037023  5.492615e-07   \n",
       "9176  1.695830e-01  0.110733  5.477861e-01  -0.270654  0.154794  8.059194e-02   \n",
       "9341  4.043596e-01  0.941249  7.500644e-01   0.045139  0.158972  7.720228e-01   \n",
       "9364  2.977702e-01  0.175834  6.712884e-01   0.142808  0.122219  2.411759e-01   \n",
       "\n",
       "      dv_coef_y   dv_se_y     dv_pval_y  de_fdr_y      dv_fdr_y  \n",
       "3     -2.373462  0.170715  4.495823e-32  0.000286  4.274628e-28  \n",
       "9     -0.521665  0.611430  3.414659e-01  0.990627  6.300519e-01  \n",
       "87    -1.572584  0.800521  5.359464e-02  0.257982  2.605204e-01  \n",
       "100   -2.500267  0.871961  1.319868e-02  0.231008  1.100816e-01  \n",
       "110   -0.825404  0.622686  1.725827e-01  0.460706  4.682981e-01  \n",
       "...         ...       ...           ...       ...           ...  \n",
       "9093  -0.854309  0.607530  1.375862e-01  0.840804  4.179457e-01  \n",
       "9110  -0.509907  0.171341  4.299570e-03  0.000004  4.572742e-02  \n",
       "9176  -0.678885  0.613393  2.151785e-01  0.128461  5.199054e-01  \n",
       "9341  -0.706387  0.825057  3.378662e-01  0.825320  6.266937e-01  \n",
       "9364  -0.891393  0.781222  2.101790e-01  0.324205  5.151796e-01  \n",
       "\n",
       "[202 rows x 17 columns]"
      ]
     },
     "execution_count": 86,
     "metadata": {},
     "output_type": "execute_result"
    }
   ],
   "source": [
    "joined.query('dv_coef_y < -0.5 & dv_coef_x < -0.5')"
   ]
  },
  {
   "cell_type": "markdown",
   "metadata": {},
   "source": [
    "### Finding examples of simple regulation"
   ]
  },
  {
   "cell_type": "code",
   "execution_count": 312,
   "metadata": {},
   "outputs": [
    {
     "data": {
      "text/plain": [
       "AnnData object with n_obs × n_vars = 69958 × 36588\n",
       "    obs: 'NUM.SNPS', 'BEST.GUESS', 'DROPLET.TYPE', 'batch', 'HTO_classification', 'condition', 'donor', 'stim', 'time', 'n_genes', 'n_genes_by_counts', 'total_counts', 'total_counts_mt', 'pct_counts_mt', 'leiden', 'cell_type'\n",
       "    var: 'gene_ids', 'feature_types', 'genome', 'mt', 'n_cells_by_counts', 'mean_counts', 'pct_dropout_by_counts', 'total_counts'"
      ]
     },
     "execution_count": 312,
     "metadata": {},
     "output_type": "execute_result"
    }
   ],
   "source": [
    "adata"
   ]
  },
  {
   "cell_type": "code",
   "execution_count": 408,
   "metadata": {},
   "outputs": [],
   "source": [
    "stim = 'beta'\n",
    "ct = ['ciliated']\n",
    "subset_processed = adata[\n",
    "            adata.obs.cell_type.isin(ct) & \\\n",
    "            adata.obs.stim.isin(['control', stim])].copy()\n"
   ]
  },
  {
   "cell_type": "code",
   "execution_count": 409,
   "metadata": {},
   "outputs": [],
   "source": [
    "# sc.pp.normalize_total(subset_processed, target_sum=1e4)"
   ]
  },
  {
   "cell_type": "code",
   "execution_count": 410,
   "metadata": {},
   "outputs": [],
   "source": [
    "sc.pp.log1p(subset_processed)"
   ]
  },
  {
   "cell_type": "code",
   "execution_count": 411,
   "metadata": {},
   "outputs": [],
   "source": [
    "df = pd.DataFrame()\n",
    "df['STAT1'] = subset_processed[:, 'STAT1'].X.todense().A1\n",
    "df['STAT2'] = subset_processed[:, 'STAT2'].X.todense().A1\n",
    "df['IRF9'] = subset_processed[:, 'IRF9'].X.todense().A1\n",
    "\n",
    "df['GBP1'] = subset_processed[:, 'GBP1'].X.todense().A1\n",
    "df['ACTB'] = subset_processed[:, 'ACTB'].X.todense().A1\n",
    "\n",
    "df['time'] = subset_processed.obs['time'].values"
   ]
  },
  {
   "cell_type": "code",
   "execution_count": 412,
   "metadata": {},
   "outputs": [
    {
     "data": {
      "image/png": "[encoded data removed]",
      "text/plain": [
       "<Figure size 144x360 with 4 Axes>"
      ]
     },
     "metadata": {
      "needs_background": "light"
     },
     "output_type": "display_data"
    }
   ],
   "source": [
    "plt.figure(figsize=(2, 5))\n",
    "\n",
    "for idx, time in enumerate(['0', '3', '9','48']):\n",
    "    plt.subplot(6, 1, idx+1);\n",
    "    sns.distplot(df.query('time == \"{}\"'.format(time)).STAT1, hist=False)\n",
    "#     plt.hist(df.query('time == \"{}\"'.format(time)).STAT1, histtype='step', density=True)\n",
    "    plt.yticks([])\n",
    "    plt.xlim(-1, 4);\n",
    "    plt.ylim(0, 1)"
   ]
  },
  {
   "cell_type": "code",
   "execution_count": 413,
   "metadata": {},
   "outputs": [
    {
     "data": {
      "image/png": "[encoded data removed]",
      "text/plain": [
       "<Figure size 144x360 with 4 Axes>"
      ]
     },
     "metadata": {
      "needs_background": "light"
     },
     "output_type": "display_data"
    }
   ],
   "source": [
    "plt.figure(figsize=(2, 5))\n",
    "\n",
    "for idx, time in enumerate(['0', '3', '9','48']):\n",
    "    plt.subplot(6, 1, idx+1);\n",
    "    sns.distplot(df.query('time == \"{}\"'.format(time)).GBP1, hist=False)\n",
    "#     plt.hist(df.query('time == \"{}\"'.format(time)).STAT1, histtype='step', density=True)\n",
    "    plt.yticks([])\n",
    "    plt.xlim(-1, 4);\n",
    "    plt.ylim(0, 1)"
   ]
  },
  {
   "cell_type": "code",
   "execution_count": 414,
   "metadata": {},
   "outputs": [
    {
     "data": {
      "image/png": "[encoded data removed]",
      "text/plain": [
       "<Figure size 144x360 with 4 Axes>"
      ]
     },
     "metadata": {
      "needs_background": "light"
     },
     "output_type": "display_data"
    }
   ],
   "source": [
    "plt.figure(figsize=(2, 5))\n",
    "\n",
    "for idx, time in enumerate(['0', '3', '9','48']):\n",
    "    plt.subplot(6, 1, idx+1);\n",
    "    sns.distplot(df.query('time == \"{}\"'.format(time)).ACTB, hist=False)\n",
    "#     plt.hist(df.query('time == \"{}\"'.format(time)).STAT1, histtype='step', density=True)\n",
    "    plt.yticks([])\n",
    "    plt.xlim(1, 5);\n",
    "    plt.ylim(0, 1)"
   ]
  },
  {
   "cell_type": "code",
   "execution_count": 129,
   "metadata": {},
   "outputs": [
    {
     "data": {
      "text/plain": [
       "(array([  7.,  15.,  31.,  50.,  80.,  99., 101.,  75.,  26.,  21.]),\n",
       " array([1.7747499, 1.9857469, 2.196744 , 2.4077408, 2.618738 , 2.8297348,\n",
       "        3.040732 , 3.2517288, 3.4627259, 3.6737227, 3.8847198],\n",
       "       dtype=float32),\n",
       " <a list of 1 Patch objects>)"
      ]
     },
     "execution_count": 129,
     "metadata": {},
     "output_type": "execute_result"
    },
    {
     "data": {
      "image/png": "[encoded data removed]",
      "text/plain": [
       "<Figure size 432x288 with 1 Axes>"
      ]
     },
     "metadata": {
      "needs_background": "light"
     },
     "output_type": "display_data"
    }
   ],
   "source": [
    "plt.hist(df.query('time == \"0\"').ACTB, histtype='step')\n",
    "plt.hist(df.query('time == \"3\"').ACTB, histtype='step')\n",
    "plt.hist(df.query('time == \"6\"').ACTB, histtype='step')\n",
    "plt.hist(df.query('time == \"9\"').ACTB, histtype='step')\n",
    "plt.hist(df.query('time == \"24\"').ACTB, histtype='step')\n",
    "plt.hist(df.query('time == \"48\"').ACTB, histtype='step')"
   ]
  },
  {
   "cell_type": "code",
   "execution_count": 324,
   "metadata": {},
   "outputs": [
    {
     "data": {
      "text/plain": [
       "(array([0.3403083 , 0.        , 0.39864683, 0.32572369, 0.56393952,\n",
       "        0.4229545 , 0.41323169, 0.25766193, 0.15070803, 0.03889237]),\n",
       " array([0.        , 0.34339872, 0.68679744, 1.0301962 , 1.3735949 ,\n",
       "        1.7169936 , 2.0603924 , 2.403791  , 2.7471898 , 3.0905883 ,\n",
       "        3.4339871 ], dtype=float32),\n",
       " <a list of 1 Patch objects>)"
      ]
     },
     "execution_count": 324,
     "metadata": {},
     "output_type": "execute_result"
    },
    {
     "data": {
      "image/png": "[encoded data removed]",
      "text/plain": [
       "<Figure size 432x288 with 1 Axes>"
      ]
     },
     "metadata": {
      "needs_background": "light"
     },
     "output_type": "display_data"
    }
   ],
   "source": [
    "plt.hist(df.query('time == \"0\"').GBP1, histtype='step',density=True)\n",
    "plt.hist(df.query('time == \"3\"').GBP1, histtype='step',density=True)\n",
    "plt.hist(df.query('time == \"6\"').GBP1, histtype='step',density=True)\n",
    "plt.hist(df.query('time == \"9\"').GBP1, histtype='step',density=True)\n",
    "plt.hist(df.query('time == \"24\"').GBP1, histtype='step',density=True)\n",
    "plt.hist(df.query('time == \"48\"').GBP1, histtype='step',density=True)"
   ]
  },
  {
   "cell_type": "code",
   "execution_count": 293,
   "metadata": {},
   "outputs": [
    {
     "data": {
      "text/plain": [
       "(array([0.12750858, 0.        , 0.        , 0.03731958, 0.15860823,\n",
       "        0.23635736, 0.41984531, 0.61577312, 0.2519073 , 0.01554982]),\n",
       " array([0.        , 0.53680634, 1.0736127 , 1.610419  , 2.1472254 ,\n",
       "        2.6840317 , 3.220838  , 3.7576444 , 4.2944508 , 4.831257  ,\n",
       "        5.3680634 ], dtype=float32),\n",
       " <a list of 1 Patch objects>)"
      ]
     },
     "execution_count": 293,
     "metadata": {},
     "output_type": "execute_result"
    },
    {
     "data": {
      "image/png": "[encoded data removed]",
      "text/plain": [
       "<Figure size 432x288 with 1 Axes>"
      ]
     },
     "metadata": {
      "needs_background": "light"
     },
     "output_type": "display_data"
    }
   ],
   "source": [
    "plt.hist(df.query('time == \"0\"').STAT1, histtype='step', density=True)\n",
    "plt.hist(df.query('time == \"3\"').STAT1, histtype='step', density=True)\n",
    "plt.hist(df.query('time == \"6\"').STAT1, histtype='step', density=True)\n",
    "plt.hist(df.query('time == \"9\"').STAT1, histtype='step', density=True)\n",
    "plt.hist(df.query('time == \"24\"').STAT1, histtype='step', density=True)\n",
    "plt.hist(df.query('time == \"48\"').STAT1, histtype='step', density=True)"
   ]
  },
  {
   "cell_type": "code",
   "execution_count": 26,
   "metadata": {},
   "outputs": [
    {
     "data": {
      "text/plain": [
       "View of AnnData object with n_obs × n_vars = 4620 × 3064\n",
       "    obs: 'NUM.SNPS', 'BEST.GUESS', 'DROPLET.TYPE', 'batch', 'HTO_classification', 'condition', 'donor', 'stim', 'time', 'n_genes', 'n_genes_by_counts', 'total_counts', 'total_counts_mt', 'pct_counts_mt', 'leiden', 'cell_type'\n",
       "    var: 'gene_ids', 'feature_types', 'genome', 'mt', 'n_cells_by_counts', 'mean_counts', 'pct_dropout_by_counts', 'total_counts', 'highly_variable', 'means', 'dispersions', 'dispersions_norm', 'highly_variable_nbatches', 'highly_variable_intersection', 'mean', 'std'\n",
       "    uns: 'donor_colors', 'hvg', 'leiden', 'leiden_colors', 'neighbors', 'pca', 'stim_colors', 'time_colors', 'umap'\n",
       "    obsm: 'X_pca', 'X_umap'\n",
       "    varm: 'PCs'\n",
       "    obsp: 'connectivities', 'distances'"
      ]
     },
     "execution_count": 26,
     "metadata": {},
     "output_type": "execute_result"
    }
   ],
   "source": [
    "subset_processed[:, 'STAT1']"
   ]
  },
  {
   "cell_type": "code",
   "execution_count": 415,
   "metadata": {},
   "outputs": [],
   "source": [
    "a = all_result['ciliated']['ht']['beta']['3'].query('de_pval > 0.6')\n",
    "b = all_result['ciliated']['moments']['beta']['3'][0].query('time_step_0 > 1')"
   ]
  },
  {
   "cell_type": "code",
   "execution_count": 416,
   "metadata": {},
   "outputs": [],
   "source": [
    "df = all_result['ciliated']['moments']['beta']['3'][1][['gene', 'time_step_0', 'time_step_1']]\\\n",
    "    .rename(columns={'time_step_1':'time_3', 'time_step_0':'time_0'})\n",
    "mean_df = all_result['ciliated']['moments']['beta']['3'][0][['gene', 'time_step_0', 'time_step_1']]\\\n",
    "    .rename(columns={'time_step_1':'time_3', 'time_step_0':'time_0'})"
   ]
  },
  {
   "cell_type": "code",
   "execution_count": 417,
   "metadata": {},
   "outputs": [],
   "source": [
    "for time in ['6', '9', '24', '48']:\n",
    "    other = all_result['ciliated']['moments']['beta'][time][1][['gene', 'time_step_1']]\n",
    "    mean_other = all_result['ciliated']['moments']['beta'][time][0][['gene', 'time_step_1']]\n",
    "    df = df.merge(other, on='gene').rename(columns={'time_step_1':'time_'+time})\n",
    "    mean_df = mean_df.merge(mean_other, on='gene').rename(columns={'time_step_1':'time_'+time})"
   ]
  },
  {
   "cell_type": "code",
   "execution_count": 418,
   "metadata": {},
   "outputs": [],
   "source": [
    "X = df[['time_' + i for i in ['3','6', '9', '24', '48']]].values"
   ]
  },
  {
   "cell_type": "code",
   "execution_count": 419,
   "metadata": {},
   "outputs": [
    {
     "data": {
      "text/plain": [
       "(8335, 5)"
      ]
     },
     "execution_count": 419,
     "metadata": {},
     "output_type": "execute_result"
    }
   ],
   "source": [
    "X.shape"
   ]
  },
  {
   "cell_type": "code",
   "execution_count": 420,
   "metadata": {},
   "outputs": [
    {
     "data": {
      "text/plain": [
       "array([0, 1, 2, 3, 4, 5])"
      ]
     },
     "execution_count": 420,
     "metadata": {},
     "output_type": "execute_result"
    }
   ],
   "source": [
    "np.arange(6)"
   ]
  },
  {
   "cell_type": "code",
   "execution_count": 421,
   "metadata": {},
   "outputs": [],
   "source": [
    "corrs = []\n",
    "for i in range(X.shape[0]):\n",
    "    corrs.append((df['gene'][i], stats.pearsonr(X[i, :], np.arange(5))[0]))"
   ]
  },
  {
   "cell_type": "code",
   "execution_count": 332,
   "metadata": {},
   "outputs": [],
   "source": [
    "corr_df = pd.DataFrame(corrs, columns=['gene', 'corr'])"
   ]
  },
  {
   "cell_type": "code",
   "execution_count": 333,
   "metadata": {},
   "outputs": [
    {
     "data": {
      "text/html": [
       "<div>\n",
       "<style scoped>\n",
       "    .dataframe tbody tr th:only-of-type {\n",
       "        vertical-align: middle;\n",
       "    }\n",
       "\n",
       "    .dataframe tbody tr th {\n",
       "        vertical-align: top;\n",
       "    }\n",
       "\n",
       "    .dataframe thead th {\n",
       "        text-align: right;\n",
       "    }\n",
       "</style>\n",
       "<table border=\"1\" class=\"dataframe\">\n",
       "  <thead>\n",
       "    <tr style=\"text-align: right;\">\n",
       "      <th></th>\n",
       "      <th>gene</th>\n",
       "      <th>time_0</th>\n",
       "      <th>time_3</th>\n",
       "      <th>time_6</th>\n",
       "      <th>time_9</th>\n",
       "      <th>time_24</th>\n",
       "      <th>time_48</th>\n",
       "    </tr>\n",
       "  </thead>\n",
       "  <tbody>\n",
       "    <tr>\n",
       "      <th>1282</th>\n",
       "      <td>STAT1</td>\n",
       "      <td>0.371447</td>\n",
       "      <td>-0.039219</td>\n",
       "      <td>0.057358</td>\n",
       "      <td>0.353361</td>\n",
       "      <td>0.350871</td>\n",
       "      <td>0.428738</td>\n",
       "    </tr>\n",
       "  </tbody>\n",
       "</table>\n",
       "</div>"
      ],
      "text/plain": [
       "       gene    time_0    time_3    time_6    time_9   time_24   time_48\n",
       "1282  STAT1  0.371447 -0.039219  0.057358  0.353361  0.350871  0.428738"
      ]
     },
     "execution_count": 333,
     "metadata": {},
     "output_type": "execute_result"
    }
   ],
   "source": [
    "df.query('gene == \"STAT1\"')"
   ]
  },
  {
   "cell_type": "code",
   "execution_count": 335,
   "metadata": {},
   "outputs": [
    {
     "data": {
      "text/html": [
       "<div>\n",
       "<style scoped>\n",
       "    .dataframe tbody tr th:only-of-type {\n",
       "        vertical-align: middle;\n",
       "    }\n",
       "\n",
       "    .dataframe tbody tr th {\n",
       "        vertical-align: top;\n",
       "    }\n",
       "\n",
       "    .dataframe thead th {\n",
       "        text-align: right;\n",
       "    }\n",
       "</style>\n",
       "<table border=\"1\" class=\"dataframe\">\n",
       "  <thead>\n",
       "    <tr style=\"text-align: right;\">\n",
       "      <th></th>\n",
       "      <th>gene</th>\n",
       "      <th>time_0</th>\n",
       "      <th>time_3</th>\n",
       "      <th>time_6</th>\n",
       "      <th>time_9</th>\n",
       "      <th>time_24</th>\n",
       "      <th>time_48</th>\n",
       "    </tr>\n",
       "  </thead>\n",
       "  <tbody>\n",
       "    <tr>\n",
       "      <th>390</th>\n",
       "      <td>GBP1</td>\n",
       "      <td>0.850509</td>\n",
       "      <td>0.468191</td>\n",
       "      <td>0.422282</td>\n",
       "      <td>0.85719</td>\n",
       "      <td>0.804174</td>\n",
       "      <td>0.859177</td>\n",
       "    </tr>\n",
       "  </tbody>\n",
       "</table>\n",
       "</div>"
      ],
      "text/plain": [
       "     gene    time_0    time_3    time_6   time_9   time_24   time_48\n",
       "390  GBP1  0.850509  0.468191  0.422282  0.85719  0.804174  0.859177"
      ]
     },
     "execution_count": 335,
     "metadata": {},
     "output_type": "execute_result"
    }
   ],
   "source": [
    "df.query('gene == \"GBP1\"')"
   ]
  },
  {
   "cell_type": "code",
   "execution_count": 334,
   "metadata": {},
   "outputs": [
    {
     "data": {
      "text/html": [
       "<div>\n",
       "<style scoped>\n",
       "    .dataframe tbody tr th:only-of-type {\n",
       "        vertical-align: middle;\n",
       "    }\n",
       "\n",
       "    .dataframe tbody tr th {\n",
       "        vertical-align: top;\n",
       "    }\n",
       "\n",
       "    .dataframe thead th {\n",
       "        text-align: right;\n",
       "    }\n",
       "</style>\n",
       "<table border=\"1\" class=\"dataframe\">\n",
       "  <thead>\n",
       "    <tr style=\"text-align: right;\">\n",
       "      <th></th>\n",
       "      <th>gene</th>\n",
       "      <th>time_0</th>\n",
       "      <th>time_3</th>\n",
       "      <th>time_6</th>\n",
       "      <th>time_9</th>\n",
       "      <th>time_24</th>\n",
       "      <th>time_48</th>\n",
       "    </tr>\n",
       "  </thead>\n",
       "  <tbody>\n",
       "    <tr>\n",
       "      <th>1282</th>\n",
       "      <td>STAT1</td>\n",
       "      <td>0.378762</td>\n",
       "      <td>1.201342</td>\n",
       "      <td>1.3782</td>\n",
       "      <td>1.082625</td>\n",
       "      <td>1.07682</td>\n",
       "      <td>0.906798</td>\n",
       "    </tr>\n",
       "  </tbody>\n",
       "</table>\n",
       "</div>"
      ],
      "text/plain": [
       "       gene    time_0    time_3  time_6    time_9  time_24   time_48\n",
       "1282  STAT1  0.378762  1.201342  1.3782  1.082625  1.07682  0.906798"
      ]
     },
     "execution_count": 334,
     "metadata": {},
     "output_type": "execute_result"
    }
   ],
   "source": [
    "mean_df.query('gene == \"STAT1\"')"
   ]
  },
  {
   "cell_type": "code",
   "execution_count": 336,
   "metadata": {},
   "outputs": [
    {
     "data": {
      "text/html": [
       "<div>\n",
       "<style scoped>\n",
       "    .dataframe tbody tr th:only-of-type {\n",
       "        vertical-align: middle;\n",
       "    }\n",
       "\n",
       "    .dataframe tbody tr th {\n",
       "        vertical-align: top;\n",
       "    }\n",
       "\n",
       "    .dataframe thead th {\n",
       "        text-align: right;\n",
       "    }\n",
       "</style>\n",
       "<table border=\"1\" class=\"dataframe\">\n",
       "  <thead>\n",
       "    <tr style=\"text-align: right;\">\n",
       "      <th></th>\n",
       "      <th>gene</th>\n",
       "      <th>time_0</th>\n",
       "      <th>time_3</th>\n",
       "      <th>time_6</th>\n",
       "      <th>time_9</th>\n",
       "      <th>time_24</th>\n",
       "      <th>time_48</th>\n",
       "    </tr>\n",
       "  </thead>\n",
       "  <tbody>\n",
       "    <tr>\n",
       "      <th>390</th>\n",
       "      <td>GBP1</td>\n",
       "      <td>0.238005</td>\n",
       "      <td>0.899781</td>\n",
       "      <td>1.14158</td>\n",
       "      <td>0.857399</td>\n",
       "      <td>0.864655</td>\n",
       "      <td>0.791893</td>\n",
       "    </tr>\n",
       "  </tbody>\n",
       "</table>\n",
       "</div>"
      ],
      "text/plain": [
       "     gene    time_0    time_3   time_6    time_9   time_24   time_48\n",
       "390  GBP1  0.238005  0.899781  1.14158  0.857399  0.864655  0.791893"
      ]
     },
     "execution_count": 336,
     "metadata": {},
     "output_type": "execute_result"
    }
   ],
   "source": [
    "mean_df.query('gene == \"GBP1\"')"
   ]
  },
  {
   "cell_type": "code",
   "execution_count": null,
   "metadata": {},
   "outputs": [],
   "source": []
  }
 ],
 "metadata": {
  "kernelspec": {
   "display_name": "Python 3",
   "language": "python",
   "name": "python3"
  },
  "language_info": {
   "codemirror_mode": {
    "name": "ipython",
    "version": 3
   },
   "file_extension": ".py",
   "mimetype": "text/x-python",
   "name": "python",
   "nbconvert_exporter": "python",
   "pygments_lexer": "ipython3",
   "version": "3.8.8"
  }
 },
 "nbformat": 4,
 "nbformat_minor": 4
}
