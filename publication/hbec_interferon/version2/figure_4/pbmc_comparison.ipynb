{
 "cells": [
  {
   "cell_type": "markdown",
   "metadata": {},
   "source": [
    "# PBMC comparison"
   ]
  },
  {
   "cell_type": "code",
   "execution_count": 3,
   "metadata": {},
   "outputs": [],
   "source": [
    "import scanpy as sc\n",
    "import seaborn as sns\n",
    "import pandas as pd\n",
    "import matplotlib.pyplot as plt\n",
    "import numpy as np\n",
    "import scipy.stats as stats\n",
    "from pybedtools import BedTool\n",
    "import pickle as pkl\n",
    "%matplotlib inline\n",
    "import itertools"
   ]
  },
  {
   "cell_type": "code",
   "execution_count": 4,
   "metadata": {},
   "outputs": [],
   "source": [
    "import sys\n",
    "sys.path.append('/home/ssm-user/Github/scrna-parameter-estimation/dist/memento-0.0.5-py3.8.egg')\n",
    "sys.path.append('/home/ssm-user/Github/misc-seq/miscseq')\n",
    "import encode\n",
    "import memento"
   ]
  },
  {
   "cell_type": "code",
   "execution_count": 5,
   "metadata": {},
   "outputs": [],
   "source": [
    "data_path = '/data_volume/ifn_hbec/'\n",
    "fig_path = '/data/home/Github/scrna-parameter-estimation/figures/fig6/'"
   ]
  },
  {
   "cell_type": "code",
   "execution_count": 6,
   "metadata": {},
   "outputs": [],
   "source": [
    "import matplotlib\n",
    "matplotlib.rcParams['pdf.fonttype'] = 42\n",
    "matplotlib.rcParams['ps.fonttype'] = 42"
   ]
  },
  {
   "cell_type": "code",
   "execution_count": 7,
   "metadata": {},
   "outputs": [],
   "source": [
    "import matplotlib.pylab as pylab\n",
    "params = {'legend.fontsize': 'medium',\n",
    "         'axes.labelsize': 'medium',\n",
    "         'axes.titlesize':'medium',\n",
    "         'figure.titlesize':'medium',\n",
    "         'xtick.labelsize':'small',\n",
    "         'ytick.labelsize':'small'}\n",
    "pylab.rcParams.update(params)"
   ]
  },
  {
   "cell_type": "markdown",
   "metadata": {},
   "source": [
    "### Read the processed RNA data\n",
    "\n",
    "Focus on the club and bc/club cells and type I interferons for now.\n",
    "\n",
    "Encode the timestamps to integers."
   ]
  },
  {
   "cell_type": "code",
   "execution_count": 8,
   "metadata": {},
   "outputs": [],
   "source": [
    "# adata_processed = sc.read(data_path + 'HBEC_type_I_processed_deep.h5ad')"
   ]
  },
  {
   "cell_type": "code",
   "execution_count": 9,
   "metadata": {},
   "outputs": [],
   "source": [
    "adata = sc.read(data_path + 'HBEC_type_I_filtered_counts_deep.h5ad')"
   ]
  },
  {
   "cell_type": "code",
   "execution_count": 10,
   "metadata": {},
   "outputs": [
    {
     "name": "stderr",
     "output_type": "stream",
     "text": [
      "/home/ssm-user/anaconda3/envs/single_cell/lib/python3.8/site-packages/pandas/core/arrays/categorical.py:2487: FutureWarning: The `inplace` parameter in pandas.Categorical.remove_unused_categories is deprecated and will be removed in a future version.\n",
      "  res = method(*args, **kwargs)\n"
     ]
    }
   ],
   "source": [
    "adata = adata[:, ~adata.var.index.str.startswith('MT-')].copy()\n",
    "adata.obs['cell_type'] = adata.obs['cell_type'].apply(lambda x: x if x != 'basal/club' else 'bc')\n",
    "adata.obs['cell_type'] = adata.obs['cell_type'].apply(lambda x: x if x != 'ionocyte/tuft' else 'ion-tuft')"
   ]
  },
  {
   "cell_type": "raw",
   "metadata": {},
   "source": [
    "sc.pl.umap(adata_processed, color=['cell_type', 'time', 'stim'])"
   ]
  },
  {
   "cell_type": "code",
   "execution_count": 11,
   "metadata": {},
   "outputs": [
    {
     "data": {
      "text/plain": [
       "(69958, 36588)"
      ]
     },
     "execution_count": 11,
     "metadata": {},
     "output_type": "execute_result"
    }
   ],
   "source": [
    "adata.shape"
   ]
  },
  {
   "cell_type": "markdown",
   "metadata": {},
   "source": [
    "### Read HBEC result"
   ]
  },
  {
   "cell_type": "code",
   "execution_count": 12,
   "metadata": {},
   "outputs": [],
   "source": [
    "cts = [['ciliated'], ['bc', 'basal']]\n",
    "tps = ['3', '6', '9', '24', '48']\n",
    "stims = ['alpha', 'beta', 'gamma', 'lambda']"
   ]
  },
  {
   "cell_type": "code",
   "execution_count": 13,
   "metadata": {},
   "outputs": [],
   "source": [
    "def read_result(ct):\n",
    "    \n",
    "    ht_dict = {}\n",
    "    moments_dict = {}\n",
    "    \n",
    "    for stim in stims:\n",
    "        ht_dict[stim] = {}\n",
    "        moments_dict[stim] = {}\n",
    "        for tp in tps: \n",
    "            adata_subset = sc.read('/data_volume/ifn_hbec/binary_test_deep/{}_{}_{}.h5ad'.format('-'.join(ct), stim, tp))\n",
    "            ht_dict[stim][tp] = memento.get_1d_ht_result(adata_subset)\n",
    "            ht_dict[stim][tp]['de_fdr'] = memento.util._fdrcorrect(ht_dict[stim][tp]['de_pval'])\n",
    "            ht_dict[stim][tp]['dv_fdr'] = memento.util._fdrcorrect(ht_dict[stim][tp]['dv_pval'])\n",
    "            moments_dict[stim][tp] = memento.get_1d_moments(adata_subset, groupby='time_step')\n",
    "    return ht_dict,moments_dict"
   ]
  },
  {
   "cell_type": "code",
   "execution_count": 14,
   "metadata": {},
   "outputs": [],
   "source": [
    "all_result = {}\n",
    "for ct in cts:\n",
    "    \n",
    "    key = '-'.join(ct)\n",
    "    all_result[key] = {}\n",
    "    \n",
    "    all_result[key]['ht'], all_result[key]['moments'] = read_result(ct)"
   ]
  },
  {
   "cell_type": "markdown",
   "metadata": {},
   "source": [
    "### Read PBMC result"
   ]
  },
  {
   "cell_type": "code",
   "execution_count": 110,
   "metadata": {},
   "outputs": [],
   "source": [
    "cm_adata = sc.read('/data_volume/parameter_estimation/' + 'result_1d/ifn/cM_20210104.h5ad')\n",
    "cm_ht_df = memento.get_1d_ht_result(cm_adata)\n",
    "cm_ht_df['dv_fdr'] = memento.util._fdrcorrect(cm_ht_df['dv_pval'])\n",
    "cm_ht_df['de_fdr'] = memento.util._fdrcorrect(cm_ht_df['de_pval'])"
   ]
  },
  {
   "cell_type": "code",
   "execution_count": 111,
   "metadata": {},
   "outputs": [],
   "source": [
    "avail_genes = list(set(cm_ht_df.gene) & set(all_result['ciliated']['ht']['beta']['6'].gene))"
   ]
  },
  {
   "cell_type": "markdown",
   "metadata": {},
   "source": [
    "### Compare DV genes"
   ]
  },
  {
   "cell_type": "code",
   "execution_count": 95,
   "metadata": {},
   "outputs": [],
   "source": [
    "hbec_dv_genes = all_result['ciliated']['ht']['beta']['6']\\\n",
    "    .query('dv_fdr < 0.05 & gene in @avail_genes').gene.tolist()\n",
    "cm_dv_genes = cm_ht_df\\\n",
    "    .query('dv_fdr < 0.05 & gene in @avail_genes').gene.tolist()\n",
    "all_genes = all_result['ciliated']['ht']['beta']['6']\\\n",
    "    .query('gene in @avail_genes').gene.tolist()"
   ]
  },
  {
   "cell_type": "code",
   "execution_count": 100,
   "metadata": {},
   "outputs": [],
   "source": [
    "overlap = set(hbec_dv_genes) & set(cm_dv_genes)\n",
    "only_hbec = set(hbec_dv_genes) - set(cm_dv_genes)\n",
    "only_pbmc = set(cm_dv_genes) - set(hbec_dv_genes)\n",
    "neither = set(avail_genes) - overlap - only_hbec - only_pbmc"
   ]
  },
  {
   "cell_type": "code",
   "execution_count": 101,
   "metadata": {},
   "outputs": [
    {
     "data": {
      "text/plain": [
       "1337"
      ]
     },
     "execution_count": 101,
     "metadata": {},
     "output_type": "execute_result"
    }
   ],
   "source": [
    "len(neither) + len(overlap) + len(only_hbec) + len(only_pbmc)"
   ]
  },
  {
   "cell_type": "code",
   "execution_count": 105,
   "metadata": {},
   "outputs": [],
   "source": [
    "tab = np.zeros((2,2))\n",
    "tab[0, 0] = len(neither)\n",
    "tab[0, 1] = len(only_hbec)\n",
    "tab[1, 0] = len(only_pbmc)\n",
    "tab[1, 1] = len(overlap)"
   ]
  },
  {
   "cell_type": "code",
   "execution_count": 106,
   "metadata": {},
   "outputs": [
    {
     "data": {
      "text/plain": [
       "array([[959., 274.],\n",
       "       [ 42.,  62.]])"
      ]
     },
     "execution_count": 106,
     "metadata": {},
     "output_type": "execute_result"
    }
   ],
   "source": [
    "tab"
   ]
  },
  {
   "cell_type": "code",
   "execution_count": 107,
   "metadata": {},
   "outputs": [
    {
     "data": {
      "text/plain": [
       "(69.30173836046919,\n",
       " 8.449508446902029e-17,\n",
       " 1,\n",
       " array([[923.13612565, 309.86387435],\n",
       "        [ 77.86387435,  26.13612565]]))"
      ]
     },
     "execution_count": 107,
     "metadata": {},
     "output_type": "execute_result"
    }
   ],
   "source": [
    "stats.chi2_contingency(tab)"
   ]
  },
  {
   "cell_type": "markdown",
   "metadata": {},
   "source": [
    "### Compare DE genes"
   ]
  },
  {
   "cell_type": "code",
   "execution_count": 112,
   "metadata": {},
   "outputs": [],
   "source": [
    "hbec_dv_genes = all_result['ciliated']['ht']['beta']['6']\\\n",
    "    .query('de_fdr < 0.05 & gene in @avail_genes').gene.tolist()\n",
    "cm_dv_genes = cm_ht_df\\\n",
    "    .query('de_fdr < 0.05 & gene in @avail_genes').gene.tolist()\n",
    "all_genes = all_result['ciliated']['ht']['beta']['6']\\\n",
    "    .query('gene in @avail_genes').gene.tolist()"
   ]
  },
  {
   "cell_type": "code",
   "execution_count": 113,
   "metadata": {},
   "outputs": [],
   "source": [
    "overlap = set(hbec_dv_genes) & set(cm_dv_genes)\n",
    "only_hbec = set(hbec_dv_genes) - set(cm_dv_genes)\n",
    "only_pbmc = set(cm_dv_genes) - set(hbec_dv_genes)\n",
    "neither = set(avail_genes) - overlap - only_hbec - only_pbmc"
   ]
  },
  {
   "cell_type": "code",
   "execution_count": 114,
   "metadata": {},
   "outputs": [
    {
     "data": {
      "text/plain": [
       "1337"
      ]
     },
     "execution_count": 114,
     "metadata": {},
     "output_type": "execute_result"
    }
   ],
   "source": [
    "len(neither) + len(overlap) + len(only_hbec) + len(only_pbmc)"
   ]
  },
  {
   "cell_type": "code",
   "execution_count": 115,
   "metadata": {},
   "outputs": [],
   "source": [
    "tab = np.zeros((2,2))\n",
    "tab[0, 0] = len(neither)\n",
    "tab[0, 1] = len(only_hbec)\n",
    "tab[1, 0] = len(only_pbmc)\n",
    "tab[1, 1] = len(overlap)"
   ]
  },
  {
   "cell_type": "code",
   "execution_count": 116,
   "metadata": {},
   "outputs": [
    {
     "data": {
      "text/plain": [
       "array([[118., 143.],\n",
       "       [291., 785.]])"
      ]
     },
     "execution_count": 116,
     "metadata": {},
     "output_type": "execute_result"
    }
   ],
   "source": [
    "tab"
   ]
  },
  {
   "cell_type": "code",
   "execution_count": 117,
   "metadata": {},
   "outputs": [
    {
     "data": {
      "text/plain": [
       "(31.79658050499693,\n",
       " 1.7119387731464417e-08,\n",
       " 1,\n",
       " array([[ 79.84218399, 181.15781601],\n",
       "        [329.15781601, 746.84218399]]))"
      ]
     },
     "execution_count": 117,
     "metadata": {},
     "output_type": "execute_result"
    }
   ],
   "source": [
    "stats.chi2_contingency(tab)"
   ]
  },
  {
   "cell_type": "code",
   "execution_count": null,
   "metadata": {},
   "outputs": [],
   "source": []
  }
 ],
 "metadata": {
  "kernelspec": {
   "display_name": "Python 3",
   "language": "python",
   "name": "python3"
  },
  "language_info": {
   "codemirror_mode": {
    "name": "ipython",
    "version": 3
   },
   "file_extension": ".py",
   "mimetype": "text/x-python",
   "name": "python",
   "nbconvert_exporter": "python",
   "pygments_lexer": "ipython3",
   "version": "3.8.8"
  }
 },
 "nbformat": 4,
 "nbformat_minor": 4
}
