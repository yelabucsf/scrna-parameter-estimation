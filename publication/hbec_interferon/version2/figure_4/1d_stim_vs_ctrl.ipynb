{
 "cells": [
  {
   "cell_type": "markdown",
   "metadata": {},
   "source": [
    "# 1D Variability hypothesis testing for HBEC IFN experiment"
   ]
  },
  {
   "cell_type": "code",
   "execution_count": 1,
   "metadata": {},
   "outputs": [],
   "source": [
    "import scanpy as sc\n",
    "import seaborn as sns\n",
    "import pandas as pd\n",
    "import matplotlib.pyplot as plt\n",
    "import numpy as np\n",
    "import scipy.stats as stats\n",
    "from pybedtools import BedTool\n",
    "import pickle as pkl\n",
    "%matplotlib inline"
   ]
  },
  {
   "cell_type": "code",
   "execution_count": 2,
   "metadata": {},
   "outputs": [],
   "source": [
    "import sys\n",
    "sys.path.append('/home/ssm-user/Github/scrna-parameter-estimation/dist/memento-0.0.6-py3.8.egg')\n",
    "sys.path.append('/home/ssm-user/Github/misc-seq/miscseq/')\n",
    "import encode\n",
    "import memento"
   ]
  },
  {
   "cell_type": "code",
   "execution_count": 3,
   "metadata": {},
   "outputs": [],
   "source": [
    "data_path = '/data_volume/memento/hbec/'"
   ]
  },
  {
   "cell_type": "markdown",
   "metadata": {},
   "source": [
    "### Read the processed RNA data\n",
    "\n",
    "Focus on the club and bc/club cells and type I interferons for now.\n",
    "\n",
    "Encode the timestamps to integers."
   ]
  },
  {
   "cell_type": "raw",
   "metadata": {},
   "source": [
    "adata_processed = sc.read(data_path + 'HBEC_type_I_processed.h5ad')"
   ]
  },
  {
   "cell_type": "code",
   "execution_count": 4,
   "metadata": {},
   "outputs": [],
   "source": [
    "adata = sc.read(data_path + 'HBEC_type_I_filtered_counts_deep.h5ad')"
   ]
  },
  {
   "cell_type": "code",
   "execution_count": 5,
   "metadata": {},
   "outputs": [
    {
     "name": "stderr",
     "output_type": "stream",
     "text": [
      "/home/ssm-user/anaconda3/envs/single_cell/lib/python3.8/site-packages/pandas/core/arrays/categorical.py:2487: FutureWarning: The `inplace` parameter in pandas.Categorical.remove_unused_categories is deprecated and will be removed in a future version.\n",
      "  res = method(*args, **kwargs)\n"
     ]
    }
   ],
   "source": [
    "adata = adata[:, ~adata.var.index.str.startswith('MT-')].copy()\n",
    "# adata.obs['cell_type'] = adata.obs['cell_type'].apply(lambda x: x if x != 'basal/club' else 'bc')\n",
    "# adata.obs['cell_type'] = adata.obs['cell_type'].apply(lambda x: x if x != 'ionocyte/tuft' else 'ion-tuft')"
   ]
  },
  {
   "cell_type": "raw",
   "metadata": {},
   "source": [
    "sc.pl.umap(adata_processed, color=['cell_type', 'time', 'stim'])"
   ]
  },
  {
   "cell_type": "code",
   "execution_count": 6,
   "metadata": {},
   "outputs": [],
   "source": [
    "converter = {'basal/club':'BC', 'basal':'B', 'ciliated':'C', 'goblet':'G', 'ionocyte/tuft':'IT', 'neuroendo':'N'}"
   ]
  },
  {
   "cell_type": "code",
   "execution_count": 7,
   "metadata": {},
   "outputs": [],
   "source": [
    "adata.obs['ct'] = adata.obs['cell_type'].apply(lambda x: converter[x])"
   ]
  },
  {
   "cell_type": "markdown",
   "metadata": {},
   "source": [
    "### Setup memento"
   ]
  },
  {
   "cell_type": "code",
   "execution_count": 8,
   "metadata": {},
   "outputs": [],
   "source": [
    "def assign_q(batch):\n",
    "    \n",
    "    if batch == 0:\n",
    "        return 0.387*0.25\n",
    "    elif batch == 1:\n",
    "        return 0.392*0.25\n",
    "    elif batch == 2:\n",
    "        return 0.436*0.25\n",
    "    else:\n",
    "        return 0.417*0.25"
   ]
  },
  {
   "cell_type": "code",
   "execution_count": 9,
   "metadata": {},
   "outputs": [],
   "source": [
    "adata.obs['q'] = adata.obs['batch'].apply(assign_q)"
   ]
  },
  {
   "cell_type": "code",
   "execution_count": 10,
   "metadata": {},
   "outputs": [
    {
     "name": "stdout",
     "output_type": "stream",
     "text": [
      "Version 0.0.6\n"
     ]
    }
   ],
   "source": [
    "memento.setup_memento(adata, q_column='q')"
   ]
  },
  {
   "cell_type": "markdown",
   "metadata": {},
   "source": [
    "### Run memento for each subset, comparing to control"
   ]
  },
  {
   "cell_type": "code",
   "execution_count": 11,
   "metadata": {},
   "outputs": [],
   "source": [
    "cts = ['C', 'B', 'BC']\n",
    "tps = ['3', '6', '9', '24', '48']\n",
    "\n",
    "stims = ['alpha', 'beta', 'gamma', 'lambda']"
   ]
  },
  {
   "cell_type": "code",
   "execution_count": 12,
   "metadata": {},
   "outputs": [],
   "source": [
    "import os\n",
    "done_files = os.listdir(data_path + 'binary_test_latest/')"
   ]
  },
  {
   "cell_type": "code",
   "execution_count": 13,
   "metadata": {},
   "outputs": [
    {
     "name": "stdout",
     "output_type": "stream",
     "text": [
      "starting C 3 alpha\n"
     ]
    },
    {
     "name": "stderr",
     "output_type": "stream",
     "text": [
      "[Parallel(n_jobs=93)]: Using backend LokyBackend with 93 concurrent workers.\n",
      "[Parallel(n_jobs=93)]: Done  14 tasks      | elapsed:    3.8s\n",
      "[Parallel(n_jobs=93)]: Done 264 tasks      | elapsed:    5.2s\n",
      "[Parallel(n_jobs=93)]: Done 614 tasks      | elapsed:    7.4s\n",
      "[Parallel(n_jobs=93)]: Done 1064 tasks      | elapsed:   10.1s\n",
      "[Parallel(n_jobs=93)]: Done 1614 tasks      | elapsed:   13.1s\n",
      "[Parallel(n_jobs=93)]: Done 2264 tasks      | elapsed:   16.7s\n",
      "[Parallel(n_jobs=93)]: Done 3014 tasks      | elapsed:   20.7s\n",
      "[Parallel(n_jobs=93)]: Done 3864 tasks      | elapsed:   25.7s\n",
      "[Parallel(n_jobs=93)]: Done 4814 tasks      | elapsed:   30.8s\n",
      "[Parallel(n_jobs=93)]: Done 5864 tasks      | elapsed:   36.7s\n",
      "[Parallel(n_jobs=93)]: Done 7014 tasks      | elapsed:   43.2s\n",
      "[Parallel(n_jobs=93)]: Done 8264 tasks      | elapsed:   50.0s\n",
      "[Parallel(n_jobs=93)]: Done 9508 out of 9508 | elapsed:   57.5s finished\n",
      "... storing 'memento_group' as categorical\n"
     ]
    },
    {
     "name": "stdout",
     "output_type": "stream",
     "text": [
      "starting C 3 beta\n"
     ]
    },
    {
     "name": "stderr",
     "output_type": "stream",
     "text": [
      "/home/ssm-user/anaconda3/envs/single_cell/lib/python3.8/site-packages/pandas/core/arrays/categorical.py:2487: FutureWarning: The `inplace` parameter in pandas.Categorical.remove_unused_categories is deprecated and will be removed in a future version.\n",
      "  res = method(*args, **kwargs)\n",
      "[Parallel(n_jobs=93)]: Using backend LokyBackend with 93 concurrent workers.\n",
      "[Parallel(n_jobs=93)]: Done  14 tasks      | elapsed:    0.3s\n",
      "[Parallel(n_jobs=93)]: Done 264 tasks      | elapsed:    1.6s\n",
      "[Parallel(n_jobs=93)]: Done 614 tasks      | elapsed:    3.5s\n",
      "[Parallel(n_jobs=93)]: Done 1064 tasks      | elapsed:    5.9s\n",
      "[Parallel(n_jobs=93)]: Done 1614 tasks      | elapsed:    8.7s\n",
      "[Parallel(n_jobs=93)]: Done 2264 tasks      | elapsed:   12.0s\n",
      "[Parallel(n_jobs=93)]: Done 3014 tasks      | elapsed:   15.9s\n",
      "[Parallel(n_jobs=93)]: Done 3864 tasks      | elapsed:   20.6s\n",
      "[Parallel(n_jobs=93)]: Done 4814 tasks      | elapsed:   25.4s\n",
      "[Parallel(n_jobs=93)]: Done 5864 tasks      | elapsed:   31.0s\n",
      "[Parallel(n_jobs=93)]: Done 7014 tasks      | elapsed:   37.2s\n",
      "[Parallel(n_jobs=93)]: Done 8264 tasks      | elapsed:   43.6s\n",
      "[Parallel(n_jobs=93)]: Done 9642 out of 9642 | elapsed:   51.5s finished\n",
      "... storing 'memento_group' as categorical\n"
     ]
    },
    {
     "name": "stdout",
     "output_type": "stream",
     "text": [
      "starting C 3 gamma\n"
     ]
    },
    {
     "name": "stderr",
     "output_type": "stream",
     "text": [
      "/home/ssm-user/anaconda3/envs/single_cell/lib/python3.8/site-packages/pandas/core/arrays/categorical.py:2487: FutureWarning: The `inplace` parameter in pandas.Categorical.remove_unused_categories is deprecated and will be removed in a future version.\n",
      "  res = method(*args, **kwargs)\n",
      "[Parallel(n_jobs=93)]: Using backend LokyBackend with 93 concurrent workers.\n",
      "[Parallel(n_jobs=93)]: Done  14 tasks      | elapsed:    0.3s\n",
      "[Parallel(n_jobs=93)]: Done 264 tasks      | elapsed:    1.7s\n",
      "[Parallel(n_jobs=93)]: Done 614 tasks      | elapsed:    3.7s\n",
      "[Parallel(n_jobs=93)]: Done 1064 tasks      | elapsed:    6.1s\n",
      "[Parallel(n_jobs=93)]: Done 1614 tasks      | elapsed:    9.1s\n",
      "[Parallel(n_jobs=93)]: Done 2264 tasks      | elapsed:   12.6s\n",
      "[Parallel(n_jobs=93)]: Done 3014 tasks      | elapsed:   16.7s\n",
      "[Parallel(n_jobs=93)]: Done 3864 tasks      | elapsed:   21.5s\n",
      "[Parallel(n_jobs=93)]: Done 4814 tasks      | elapsed:   26.5s\n",
      "[Parallel(n_jobs=93)]: Done 5864 tasks      | elapsed:   32.4s\n",
      "[Parallel(n_jobs=93)]: Done 7014 tasks      | elapsed:   38.8s\n",
      "[Parallel(n_jobs=93)]: Done 8264 tasks      | elapsed:   45.8s\n",
      "[Parallel(n_jobs=93)]: Done 9455 out of 9455 | elapsed:   52.7s finished\n",
      "... storing 'memento_group' as categorical\n"
     ]
    },
    {
     "name": "stdout",
     "output_type": "stream",
     "text": [
      "starting C 3 lambda\n"
     ]
    },
    {
     "name": "stderr",
     "output_type": "stream",
     "text": [
      "/home/ssm-user/anaconda3/envs/single_cell/lib/python3.8/site-packages/pandas/core/arrays/categorical.py:2487: FutureWarning: The `inplace` parameter in pandas.Categorical.remove_unused_categories is deprecated and will be removed in a future version.\n",
      "  res = method(*args, **kwargs)\n",
      "[Parallel(n_jobs=93)]: Using backend LokyBackend with 93 concurrent workers.\n",
      "[Parallel(n_jobs=93)]: Done  14 tasks      | elapsed:    0.3s\n",
      "[Parallel(n_jobs=93)]: Done 264 tasks      | elapsed:    1.6s\n",
      "[Parallel(n_jobs=93)]: Done 614 tasks      | elapsed:    3.6s\n",
      "[Parallel(n_jobs=93)]: Done 1064 tasks      | elapsed:    6.1s\n",
      "[Parallel(n_jobs=93)]: Done 1614 tasks      | elapsed:    9.1s\n",
      "[Parallel(n_jobs=93)]: Done 2264 tasks      | elapsed:   12.6s\n",
      "[Parallel(n_jobs=93)]: Done 3014 tasks      | elapsed:   16.6s\n",
      "[Parallel(n_jobs=93)]: Done 3864 tasks      | elapsed:   21.4s\n",
      "[Parallel(n_jobs=93)]: Done 4814 tasks      | elapsed:   26.5s\n",
      "[Parallel(n_jobs=93)]: Done 5864 tasks      | elapsed:   32.3s\n",
      "[Parallel(n_jobs=93)]: Done 7014 tasks      | elapsed:   38.8s\n",
      "[Parallel(n_jobs=93)]: Done 8264 tasks      | elapsed:   45.6s\n",
      "[Parallel(n_jobs=93)]: Done 9639 out of 9639 | elapsed:   53.7s finished\n",
      "... storing 'memento_group' as categorical\n"
     ]
    },
    {
     "name": "stdout",
     "output_type": "stream",
     "text": [
      "starting C 6 alpha\n"
     ]
    },
    {
     "name": "stderr",
     "output_type": "stream",
     "text": [
      "/home/ssm-user/anaconda3/envs/single_cell/lib/python3.8/site-packages/pandas/core/arrays/categorical.py:2487: FutureWarning: The `inplace` parameter in pandas.Categorical.remove_unused_categories is deprecated and will be removed in a future version.\n",
      "  res = method(*args, **kwargs)\n",
      "[Parallel(n_jobs=93)]: Using backend LokyBackend with 93 concurrent workers.\n",
      "[Parallel(n_jobs=93)]: Done  14 tasks      | elapsed:    0.3s\n",
      "[Parallel(n_jobs=93)]: Done 264 tasks      | elapsed:    1.5s\n",
      "[Parallel(n_jobs=93)]: Done 614 tasks      | elapsed:    3.4s\n",
      "[Parallel(n_jobs=93)]: Done 1064 tasks      | elapsed:    5.7s\n",
      "[Parallel(n_jobs=93)]: Done 1614 tasks      | elapsed:    8.5s\n",
      "[Parallel(n_jobs=93)]: Done 2264 tasks      | elapsed:   11.8s\n",
      "[Parallel(n_jobs=93)]: Done 3014 tasks      | elapsed:   15.6s\n",
      "[Parallel(n_jobs=93)]: Done 3864 tasks      | elapsed:   20.0s\n",
      "[Parallel(n_jobs=93)]: Done 4814 tasks      | elapsed:   24.9s\n",
      "[Parallel(n_jobs=93)]: Done 5864 tasks      | elapsed:   30.4s\n",
      "[Parallel(n_jobs=93)]: Done 7014 tasks      | elapsed:   36.4s\n",
      "[Parallel(n_jobs=93)]: Done 8264 tasks      | elapsed:   42.7s\n",
      "[Parallel(n_jobs=93)]: Done 9224 out of 9224 | elapsed:   48.2s finished\n",
      "... storing 'memento_group' as categorical\n"
     ]
    },
    {
     "name": "stdout",
     "output_type": "stream",
     "text": [
      "starting C 6 beta\n"
     ]
    },
    {
     "name": "stderr",
     "output_type": "stream",
     "text": [
      "/home/ssm-user/anaconda3/envs/single_cell/lib/python3.8/site-packages/pandas/core/arrays/categorical.py:2487: FutureWarning: The `inplace` parameter in pandas.Categorical.remove_unused_categories is deprecated and will be removed in a future version.\n",
      "  res = method(*args, **kwargs)\n",
      "[Parallel(n_jobs=93)]: Using backend LokyBackend with 93 concurrent workers.\n",
      "[Parallel(n_jobs=93)]: Done  14 tasks      | elapsed:    0.3s\n",
      "[Parallel(n_jobs=93)]: Done 264 tasks      | elapsed:    1.8s\n",
      "[Parallel(n_jobs=93)]: Done 614 tasks      | elapsed:    3.9s\n",
      "[Parallel(n_jobs=93)]: Done 1064 tasks      | elapsed:    6.5s\n",
      "[Parallel(n_jobs=93)]: Done 1614 tasks      | elapsed:    9.7s\n",
      "[Parallel(n_jobs=93)]: Done 2264 tasks      | elapsed:   13.4s\n",
      "[Parallel(n_jobs=93)]: Done 3014 tasks      | elapsed:   17.8s\n",
      "[Parallel(n_jobs=93)]: Done 3864 tasks      | elapsed:   22.9s\n",
      "[Parallel(n_jobs=93)]: Done 4814 tasks      | elapsed:   28.3s\n",
      "[Parallel(n_jobs=93)]: Done 5864 tasks      | elapsed:   34.6s\n",
      "[Parallel(n_jobs=93)]: Done 7014 tasks      | elapsed:   41.5s\n",
      "[Parallel(n_jobs=93)]: Done 8264 tasks      | elapsed:   48.7s\n",
      "[Parallel(n_jobs=93)]: Done 9667 out of 9667 | elapsed:   57.6s finished\n",
      "... storing 'memento_group' as categorical\n"
     ]
    },
    {
     "name": "stdout",
     "output_type": "stream",
     "text": [
      "starting C 6 gamma\n"
     ]
    },
    {
     "name": "stderr",
     "output_type": "stream",
     "text": [
      "/home/ssm-user/anaconda3/envs/single_cell/lib/python3.8/site-packages/pandas/core/arrays/categorical.py:2487: FutureWarning: The `inplace` parameter in pandas.Categorical.remove_unused_categories is deprecated and will be removed in a future version.\n",
      "  res = method(*args, **kwargs)\n",
      "[Parallel(n_jobs=93)]: Using backend LokyBackend with 93 concurrent workers.\n",
      "[Parallel(n_jobs=93)]: Done  14 tasks      | elapsed:    0.3s\n",
      "[Parallel(n_jobs=93)]: Done 264 tasks      | elapsed:    1.5s\n",
      "[Parallel(n_jobs=93)]: Done 614 tasks      | elapsed:    3.5s\n",
      "[Parallel(n_jobs=93)]: Done 1064 tasks      | elapsed:    5.9s\n",
      "[Parallel(n_jobs=93)]: Done 1614 tasks      | elapsed:    8.8s\n",
      "[Parallel(n_jobs=93)]: Done 2264 tasks      | elapsed:   12.2s\n",
      "[Parallel(n_jobs=93)]: Done 3014 tasks      | elapsed:   16.1s\n",
      "[Parallel(n_jobs=93)]: Done 3864 tasks      | elapsed:   20.6s\n",
      "[Parallel(n_jobs=93)]: Done 4814 tasks      | elapsed:   25.7s\n",
      "[Parallel(n_jobs=93)]: Done 5864 tasks      | elapsed:   31.4s\n",
      "[Parallel(n_jobs=93)]: Done 7014 tasks      | elapsed:   37.5s\n",
      "[Parallel(n_jobs=93)]: Done 8264 tasks      | elapsed:   44.2s\n",
      "[Parallel(n_jobs=93)]: Done 9387 out of 9387 | elapsed:   50.8s finished\n",
      "... storing 'memento_group' as categorical\n"
     ]
    },
    {
     "name": "stdout",
     "output_type": "stream",
     "text": [
      "starting C 6 lambda\n"
     ]
    },
    {
     "name": "stderr",
     "output_type": "stream",
     "text": [
      "/home/ssm-user/anaconda3/envs/single_cell/lib/python3.8/site-packages/pandas/core/arrays/categorical.py:2487: FutureWarning: The `inplace` parameter in pandas.Categorical.remove_unused_categories is deprecated and will be removed in a future version.\n",
      "  res = method(*args, **kwargs)\n",
      "[Parallel(n_jobs=93)]: Using backend LokyBackend with 93 concurrent workers.\n",
      "[Parallel(n_jobs=93)]: Done  14 tasks      | elapsed:    0.3s\n",
      "[Parallel(n_jobs=93)]: Done 264 tasks      | elapsed:    1.5s\n",
      "[Parallel(n_jobs=93)]: Done 614 tasks      | elapsed:    3.5s\n",
      "[Parallel(n_jobs=93)]: Done 1064 tasks      | elapsed:    5.8s\n",
      "[Parallel(n_jobs=93)]: Done 1614 tasks      | elapsed:    8.6s\n",
      "[Parallel(n_jobs=93)]: Done 2264 tasks      | elapsed:   12.0s\n",
      "[Parallel(n_jobs=93)]: Done 3014 tasks      | elapsed:   15.7s\n",
      "[Parallel(n_jobs=93)]: Done 3864 tasks      | elapsed:   20.4s\n",
      "[Parallel(n_jobs=93)]: Done 4814 tasks      | elapsed:   25.2s\n",
      "[Parallel(n_jobs=93)]: Done 5864 tasks      | elapsed:   30.7s\n",
      "[Parallel(n_jobs=93)]: Done 7014 tasks      | elapsed:   36.8s\n",
      "[Parallel(n_jobs=93)]: Done 8264 tasks      | elapsed:   43.3s\n",
      "[Parallel(n_jobs=93)]: Done 9487 out of 9487 | elapsed:   50.2s finished\n",
      "... storing 'memento_group' as categorical\n"
     ]
    },
    {
     "name": "stdout",
     "output_type": "stream",
     "text": [
      "starting C 9 alpha\n"
     ]
    },
    {
     "name": "stderr",
     "output_type": "stream",
     "text": [
      "/home/ssm-user/anaconda3/envs/single_cell/lib/python3.8/site-packages/pandas/core/arrays/categorical.py:2487: FutureWarning: The `inplace` parameter in pandas.Categorical.remove_unused_categories is deprecated and will be removed in a future version.\n",
      "  res = method(*args, **kwargs)\n",
      "[Parallel(n_jobs=93)]: Using backend LokyBackend with 93 concurrent workers.\n",
      "[Parallel(n_jobs=93)]: Done  14 tasks      | elapsed:    0.3s\n",
      "[Parallel(n_jobs=93)]: Done 264 tasks      | elapsed:    1.6s\n",
      "[Parallel(n_jobs=93)]: Done 614 tasks      | elapsed:    3.4s\n",
      "[Parallel(n_jobs=93)]: Done 1064 tasks      | elapsed:    5.7s\n",
      "[Parallel(n_jobs=93)]: Done 1614 tasks      | elapsed:    8.6s\n",
      "[Parallel(n_jobs=93)]: Done 2264 tasks      | elapsed:   11.9s\n",
      "[Parallel(n_jobs=93)]: Done 3014 tasks      | elapsed:   15.7s\n",
      "[Parallel(n_jobs=93)]: Done 3864 tasks      | elapsed:   20.2s\n",
      "[Parallel(n_jobs=93)]: Done 4814 tasks      | elapsed:   25.0s\n",
      "[Parallel(n_jobs=93)]: Done 5864 tasks      | elapsed:   30.6s\n",
      "[Parallel(n_jobs=93)]: Done 7014 tasks      | elapsed:   36.7s\n",
      "[Parallel(n_jobs=93)]: Done 8264 tasks      | elapsed:   43.1s\n",
      "[Parallel(n_jobs=93)]: Done 9072 out of 9072 | elapsed:   47.7s finished\n",
      "... storing 'memento_group' as categorical\n"
     ]
    },
    {
     "name": "stdout",
     "output_type": "stream",
     "text": [
      "starting C 9 beta\n"
     ]
    },
    {
     "name": "stderr",
     "output_type": "stream",
     "text": [
      "/home/ssm-user/anaconda3/envs/single_cell/lib/python3.8/site-packages/pandas/core/arrays/categorical.py:2487: FutureWarning: The `inplace` parameter in pandas.Categorical.remove_unused_categories is deprecated and will be removed in a future version.\n",
      "  res = method(*args, **kwargs)\n",
      "[Parallel(n_jobs=93)]: Using backend LokyBackend with 93 concurrent workers.\n",
      "[Parallel(n_jobs=93)]: Done  14 tasks      | elapsed:    0.3s\n",
      "[Parallel(n_jobs=93)]: Done 264 tasks      | elapsed:    1.5s\n",
      "[Parallel(n_jobs=93)]: Done 614 tasks      | elapsed:    3.4s\n",
      "[Parallel(n_jobs=93)]: Done 1064 tasks      | elapsed:    5.6s\n",
      "[Parallel(n_jobs=93)]: Done 1614 tasks      | elapsed:    8.3s\n",
      "[Parallel(n_jobs=93)]: Done 2264 tasks      | elapsed:   11.5s\n",
      "[Parallel(n_jobs=93)]: Done 3014 tasks      | elapsed:   15.2s\n",
      "[Parallel(n_jobs=93)]: Done 3864 tasks      | elapsed:   19.7s\n",
      "[Parallel(n_jobs=93)]: Done 4814 tasks      | elapsed:   24.3s\n",
      "[Parallel(n_jobs=93)]: Done 5864 tasks      | elapsed:   29.8s\n",
      "[Parallel(n_jobs=93)]: Done 7014 tasks      | elapsed:   35.6s\n",
      "[Parallel(n_jobs=93)]: Done 8264 tasks      | elapsed:   41.8s\n",
      "[Parallel(n_jobs=93)]: Done 9355 out of 9355 | elapsed:   48.0s finished\n",
      "... storing 'memento_group' as categorical\n"
     ]
    },
    {
     "name": "stdout",
     "output_type": "stream",
     "text": [
      "starting C 9 gamma\n"
     ]
    },
    {
     "name": "stderr",
     "output_type": "stream",
     "text": [
      "/home/ssm-user/anaconda3/envs/single_cell/lib/python3.8/site-packages/pandas/core/arrays/categorical.py:2487: FutureWarning: The `inplace` parameter in pandas.Categorical.remove_unused_categories is deprecated and will be removed in a future version.\n",
      "  res = method(*args, **kwargs)\n",
      "[Parallel(n_jobs=93)]: Using backend LokyBackend with 93 concurrent workers.\n",
      "[Parallel(n_jobs=93)]: Done  14 tasks      | elapsed:    0.3s\n",
      "[Parallel(n_jobs=93)]: Done 264 tasks      | elapsed:    1.6s\n",
      "[Parallel(n_jobs=93)]: Done 614 tasks      | elapsed:    3.5s\n",
      "[Parallel(n_jobs=93)]: Done 1064 tasks      | elapsed:    5.9s\n",
      "[Parallel(n_jobs=93)]: Done 1614 tasks      | elapsed:    8.7s\n",
      "[Parallel(n_jobs=93)]: Done 2264 tasks      | elapsed:   12.1s\n",
      "[Parallel(n_jobs=93)]: Done 3014 tasks      | elapsed:   16.0s\n",
      "[Parallel(n_jobs=93)]: Done 3864 tasks      | elapsed:   20.5s\n",
      "[Parallel(n_jobs=93)]: Done 4814 tasks      | elapsed:   25.3s\n",
      "[Parallel(n_jobs=93)]: Done 5864 tasks      | elapsed:   31.0s\n",
      "[Parallel(n_jobs=93)]: Done 7014 tasks      | elapsed:   37.1s\n",
      "[Parallel(n_jobs=93)]: Done 8264 tasks      | elapsed:   43.5s\n",
      "[Parallel(n_jobs=93)]: Done 9584 out of 9584 | elapsed:   51.0s finished\n",
      "... storing 'memento_group' as categorical\n"
     ]
    },
    {
     "name": "stdout",
     "output_type": "stream",
     "text": [
      "starting C 9 lambda\n"
     ]
    },
    {
     "name": "stderr",
     "output_type": "stream",
     "text": [
      "/home/ssm-user/anaconda3/envs/single_cell/lib/python3.8/site-packages/pandas/core/arrays/categorical.py:2487: FutureWarning: The `inplace` parameter in pandas.Categorical.remove_unused_categories is deprecated and will be removed in a future version.\n",
      "  res = method(*args, **kwargs)\n",
      "[Parallel(n_jobs=93)]: Using backend LokyBackend with 93 concurrent workers.\n",
      "[Parallel(n_jobs=93)]: Done  14 tasks      | elapsed:    0.3s\n",
      "[Parallel(n_jobs=93)]: Done 264 tasks      | elapsed:    1.6s\n",
      "[Parallel(n_jobs=93)]: Done 614 tasks      | elapsed:    3.7s\n",
      "[Parallel(n_jobs=93)]: Done 1064 tasks      | elapsed:    6.2s\n",
      "[Parallel(n_jobs=93)]: Done 1614 tasks      | elapsed:    9.2s\n",
      "[Parallel(n_jobs=93)]: Done 2264 tasks      | elapsed:   12.8s\n",
      "[Parallel(n_jobs=93)]: Done 3014 tasks      | elapsed:   16.9s\n",
      "[Parallel(n_jobs=93)]: Done 3864 tasks      | elapsed:   21.7s\n",
      "[Parallel(n_jobs=93)]: Done 4814 tasks      | elapsed:   26.8s\n",
      "[Parallel(n_jobs=93)]: Done 5864 tasks      | elapsed:   32.8s\n",
      "[Parallel(n_jobs=93)]: Done 7014 tasks      | elapsed:   39.3s\n",
      "[Parallel(n_jobs=93)]: Done 8264 tasks      | elapsed:   46.3s\n",
      "[Parallel(n_jobs=93)]: Done 9618 out of 9618 | elapsed:   54.6s finished\n",
      "... storing 'memento_group' as categorical\n"
     ]
    },
    {
     "name": "stdout",
     "output_type": "stream",
     "text": [
      "starting C 24 alpha\n"
     ]
    },
    {
     "name": "stderr",
     "output_type": "stream",
     "text": [
      "/home/ssm-user/anaconda3/envs/single_cell/lib/python3.8/site-packages/pandas/core/arrays/categorical.py:2487: FutureWarning: The `inplace` parameter in pandas.Categorical.remove_unused_categories is deprecated and will be removed in a future version.\n",
      "  res = method(*args, **kwargs)\n",
      "[Parallel(n_jobs=93)]: Using backend LokyBackend with 93 concurrent workers.\n",
      "[Parallel(n_jobs=93)]: Done  14 tasks      | elapsed:    0.3s\n",
      "[Parallel(n_jobs=93)]: Done 264 tasks      | elapsed:    1.5s\n",
      "[Parallel(n_jobs=93)]: Done 614 tasks      | elapsed:    3.3s\n",
      "[Parallel(n_jobs=93)]: Done 1064 tasks      | elapsed:    5.5s\n",
      "[Parallel(n_jobs=93)]: Done 1614 tasks      | elapsed:    8.1s\n",
      "[Parallel(n_jobs=93)]: Done 2264 tasks      | elapsed:   11.4s\n",
      "[Parallel(n_jobs=93)]: Done 3014 tasks      | elapsed:   15.0s\n",
      "[Parallel(n_jobs=93)]: Done 3864 tasks      | elapsed:   19.2s\n",
      "[Parallel(n_jobs=93)]: Done 4814 tasks      | elapsed:   23.8s\n",
      "[Parallel(n_jobs=93)]: Done 5864 tasks      | elapsed:   29.1s\n",
      "[Parallel(n_jobs=93)]: Done 7014 tasks      | elapsed:   34.9s\n",
      "[Parallel(n_jobs=93)]: Done 8264 tasks      | elapsed:   41.0s\n",
      "[Parallel(n_jobs=93)]: Done 9093 out of 9093 | elapsed:   45.7s finished\n",
      "... storing 'memento_group' as categorical\n"
     ]
    },
    {
     "name": "stdout",
     "output_type": "stream",
     "text": [
      "starting C 24 beta\n"
     ]
    },
    {
     "name": "stderr",
     "output_type": "stream",
     "text": [
      "/home/ssm-user/anaconda3/envs/single_cell/lib/python3.8/site-packages/pandas/core/arrays/categorical.py:2487: FutureWarning: The `inplace` parameter in pandas.Categorical.remove_unused_categories is deprecated and will be removed in a future version.\n",
      "  res = method(*args, **kwargs)\n",
      "[Parallel(n_jobs=93)]: Using backend LokyBackend with 93 concurrent workers.\n",
      "[Parallel(n_jobs=93)]: Done  14 tasks      | elapsed:    0.3s\n",
      "[Parallel(n_jobs=93)]: Done 264 tasks      | elapsed:    1.6s\n",
      "[Parallel(n_jobs=93)]: Done 614 tasks      | elapsed:    3.6s\n",
      "[Parallel(n_jobs=93)]: Done 1064 tasks      | elapsed:    6.0s\n",
      "[Parallel(n_jobs=93)]: Done 1614 tasks      | elapsed:    8.9s\n",
      "[Parallel(n_jobs=93)]: Done 2264 tasks      | elapsed:   12.3s\n",
      "[Parallel(n_jobs=93)]: Done 3014 tasks      | elapsed:   16.2s\n",
      "[Parallel(n_jobs=93)]: Done 3864 tasks      | elapsed:   21.0s\n",
      "[Parallel(n_jobs=93)]: Done 4814 tasks      | elapsed:   25.9s\n",
      "[Parallel(n_jobs=93)]: Done 5864 tasks      | elapsed:   31.5s\n",
      "[Parallel(n_jobs=93)]: Done 7014 tasks      | elapsed:   37.9s\n",
      "[Parallel(n_jobs=93)]: Done 8264 tasks      | elapsed:   44.5s\n",
      "[Parallel(n_jobs=93)]: Done 9601 out of 9601 | elapsed:   52.3s finished\n",
      "... storing 'memento_group' as categorical\n"
     ]
    },
    {
     "name": "stdout",
     "output_type": "stream",
     "text": [
      "starting C 24 gamma\n"
     ]
    },
    {
     "name": "stderr",
     "output_type": "stream",
     "text": [
      "/home/ssm-user/anaconda3/envs/single_cell/lib/python3.8/site-packages/pandas/core/arrays/categorical.py:2487: FutureWarning: The `inplace` parameter in pandas.Categorical.remove_unused_categories is deprecated and will be removed in a future version.\n",
      "  res = method(*args, **kwargs)\n",
      "[Parallel(n_jobs=93)]: Using backend LokyBackend with 93 concurrent workers.\n",
      "[Parallel(n_jobs=93)]: Done  14 tasks      | elapsed:    0.4s\n",
      "[Parallel(n_jobs=93)]: Done 264 tasks      | elapsed:    1.8s\n",
      "[Parallel(n_jobs=93)]: Done 614 tasks      | elapsed:    4.1s\n",
      "[Parallel(n_jobs=93)]: Done 1064 tasks      | elapsed:    6.9s\n",
      "[Parallel(n_jobs=93)]: Done 1614 tasks      | elapsed:   10.2s\n",
      "[Parallel(n_jobs=93)]: Done 2264 tasks      | elapsed:   14.1s\n",
      "[Parallel(n_jobs=93)]: Done 3014 tasks      | elapsed:   18.5s\n",
      "[Parallel(n_jobs=93)]: Done 3864 tasks      | elapsed:   23.9s\n",
      "[Parallel(n_jobs=93)]: Done 4814 tasks      | elapsed:   29.5s\n",
      "[Parallel(n_jobs=93)]: Done 5864 tasks      | elapsed:   36.1s\n",
      "[Parallel(n_jobs=93)]: Done 7014 tasks      | elapsed:   43.1s\n",
      "[Parallel(n_jobs=93)]: Done 8264 tasks      | elapsed:   50.6s\n",
      "[Parallel(n_jobs=93)]: Done 9596 out of 9596 | elapsed:   59.5s finished\n",
      "... storing 'memento_group' as categorical\n"
     ]
    },
    {
     "name": "stdout",
     "output_type": "stream",
     "text": [
      "starting C 24 lambda\n"
     ]
    },
    {
     "name": "stderr",
     "output_type": "stream",
     "text": [
      "/home/ssm-user/anaconda3/envs/single_cell/lib/python3.8/site-packages/pandas/core/arrays/categorical.py:2487: FutureWarning: The `inplace` parameter in pandas.Categorical.remove_unused_categories is deprecated and will be removed in a future version.\n",
      "  res = method(*args, **kwargs)\n",
      "[Parallel(n_jobs=93)]: Using backend LokyBackend with 93 concurrent workers.\n",
      "[Parallel(n_jobs=93)]: Done  14 tasks      | elapsed:    0.4s\n",
      "[Parallel(n_jobs=93)]: Done 264 tasks      | elapsed:    1.7s\n",
      "[Parallel(n_jobs=93)]: Done 614 tasks      | elapsed:    3.7s\n",
      "[Parallel(n_jobs=93)]: Done 1064 tasks      | elapsed:    6.3s\n",
      "[Parallel(n_jobs=93)]: Done 1614 tasks      | elapsed:    9.2s\n",
      "[Parallel(n_jobs=93)]: Done 2264 tasks      | elapsed:   12.8s\n",
      "[Parallel(n_jobs=93)]: Done 3014 tasks      | elapsed:   16.9s\n",
      "[Parallel(n_jobs=93)]: Done 3864 tasks      | elapsed:   21.7s\n",
      "[Parallel(n_jobs=93)]: Done 4814 tasks      | elapsed:   26.7s\n",
      "[Parallel(n_jobs=93)]: Done 5864 tasks      | elapsed:   32.6s\n",
      "[Parallel(n_jobs=93)]: Done 7014 tasks      | elapsed:   39.1s\n",
      "[Parallel(n_jobs=93)]: Done 8264 tasks      | elapsed:   45.9s\n",
      "[Parallel(n_jobs=93)]: Done 9690 out of 9690 | elapsed:   54.3s finished\n",
      "... storing 'memento_group' as categorical\n"
     ]
    },
    {
     "name": "stdout",
     "output_type": "stream",
     "text": [
      "starting C 48 alpha\n"
     ]
    },
    {
     "name": "stderr",
     "output_type": "stream",
     "text": [
      "/home/ssm-user/anaconda3/envs/single_cell/lib/python3.8/site-packages/pandas/core/arrays/categorical.py:2487: FutureWarning: The `inplace` parameter in pandas.Categorical.remove_unused_categories is deprecated and will be removed in a future version.\n",
      "  res = method(*args, **kwargs)\n",
      "[Parallel(n_jobs=93)]: Using backend LokyBackend with 93 concurrent workers.\n",
      "[Parallel(n_jobs=93)]: Done  14 tasks      | elapsed:    0.3s\n",
      "[Parallel(n_jobs=93)]: Done 264 tasks      | elapsed:    1.7s\n",
      "[Parallel(n_jobs=93)]: Done 614 tasks      | elapsed:    3.8s\n",
      "[Parallel(n_jobs=93)]: Done 1064 tasks      | elapsed:    6.3s\n",
      "[Parallel(n_jobs=93)]: Done 1614 tasks      | elapsed:    9.3s\n",
      "[Parallel(n_jobs=93)]: Done 2264 tasks      | elapsed:   13.0s\n",
      "[Parallel(n_jobs=93)]: Done 3014 tasks      | elapsed:   17.2s\n",
      "[Parallel(n_jobs=93)]: Done 3864 tasks      | elapsed:   22.1s\n",
      "[Parallel(n_jobs=93)]: Done 4814 tasks      | elapsed:   27.4s\n",
      "[Parallel(n_jobs=93)]: Done 5864 tasks      | elapsed:   33.6s\n",
      "[Parallel(n_jobs=93)]: Done 7014 tasks      | elapsed:   40.1s\n",
      "[Parallel(n_jobs=93)]: Done 8264 tasks      | elapsed:   47.4s\n",
      "[Parallel(n_jobs=93)]: Done 9093 out of 9093 | elapsed:   52.7s finished\n",
      "... storing 'memento_group' as categorical\n"
     ]
    },
    {
     "name": "stdout",
     "output_type": "stream",
     "text": [
      "starting C 48 beta\n"
     ]
    },
    {
     "name": "stderr",
     "output_type": "stream",
     "text": [
      "/home/ssm-user/anaconda3/envs/single_cell/lib/python3.8/site-packages/pandas/core/arrays/categorical.py:2487: FutureWarning: The `inplace` parameter in pandas.Categorical.remove_unused_categories is deprecated and will be removed in a future version.\n",
      "  res = method(*args, **kwargs)\n",
      "[Parallel(n_jobs=93)]: Using backend LokyBackend with 93 concurrent workers.\n",
      "[Parallel(n_jobs=93)]: Done  14 tasks      | elapsed:    0.3s\n",
      "[Parallel(n_jobs=93)]: Done 264 tasks      | elapsed:    1.4s\n",
      "[Parallel(n_jobs=93)]: Done 614 tasks      | elapsed:    3.2s\n",
      "[Parallel(n_jobs=93)]: Done 1064 tasks      | elapsed:    5.4s\n",
      "[Parallel(n_jobs=93)]: Done 1614 tasks      | elapsed:    8.0s\n",
      "[Parallel(n_jobs=93)]: Done 2264 tasks      | elapsed:   11.0s\n",
      "[Parallel(n_jobs=93)]: Done 3014 tasks      | elapsed:   14.5s\n",
      "[Parallel(n_jobs=93)]: Done 3864 tasks      | elapsed:   18.7s\n",
      "[Parallel(n_jobs=93)]: Done 4814 tasks      | elapsed:   23.2s\n",
      "[Parallel(n_jobs=93)]: Done 5864 tasks      | elapsed:   28.3s\n",
      "[Parallel(n_jobs=93)]: Done 7014 tasks      | elapsed:   33.9s\n",
      "[Parallel(n_jobs=93)]: Done 8264 tasks      | elapsed:   39.7s\n",
      "[Parallel(n_jobs=93)]: Done 9461 out of 9461 | elapsed:   46.2s finished\n",
      "... storing 'memento_group' as categorical\n"
     ]
    },
    {
     "name": "stdout",
     "output_type": "stream",
     "text": [
      "starting C 48 gamma\n"
     ]
    },
    {
     "name": "stderr",
     "output_type": "stream",
     "text": [
      "/home/ssm-user/anaconda3/envs/single_cell/lib/python3.8/site-packages/pandas/core/arrays/categorical.py:2487: FutureWarning: The `inplace` parameter in pandas.Categorical.remove_unused_categories is deprecated and will be removed in a future version.\n",
      "  res = method(*args, **kwargs)\n",
      "[Parallel(n_jobs=93)]: Using backend LokyBackend with 93 concurrent workers.\n",
      "[Parallel(n_jobs=93)]: Done  14 tasks      | elapsed:    0.3s\n",
      "[Parallel(n_jobs=93)]: Done 264 tasks      | elapsed:    1.6s\n",
      "[Parallel(n_jobs=93)]: Done 614 tasks      | elapsed:    3.6s\n",
      "[Parallel(n_jobs=93)]: Done 1064 tasks      | elapsed:    6.1s\n",
      "[Parallel(n_jobs=93)]: Done 1614 tasks      | elapsed:    9.1s\n",
      "[Parallel(n_jobs=93)]: Done 2264 tasks      | elapsed:   12.6s\n",
      "[Parallel(n_jobs=93)]: Done 3014 tasks      | elapsed:   16.6s\n",
      "[Parallel(n_jobs=93)]: Done 3864 tasks      | elapsed:   21.4s\n",
      "[Parallel(n_jobs=93)]: Done 4814 tasks      | elapsed:   26.4s\n",
      "[Parallel(n_jobs=93)]: Done 5864 tasks      | elapsed:   32.1s\n",
      "[Parallel(n_jobs=93)]: Done 7014 tasks      | elapsed:   38.6s\n",
      "[Parallel(n_jobs=93)]: Done 8264 tasks      | elapsed:   45.3s\n",
      "[Parallel(n_jobs=93)]: Done 9650 out of 9650 | elapsed:   53.4s finished\n",
      "... storing 'memento_group' as categorical\n"
     ]
    },
    {
     "name": "stdout",
     "output_type": "stream",
     "text": [
      "starting C 48 lambda\n"
     ]
    },
    {
     "name": "stderr",
     "output_type": "stream",
     "text": [
      "/home/ssm-user/anaconda3/envs/single_cell/lib/python3.8/site-packages/pandas/core/arrays/categorical.py:2487: FutureWarning: The `inplace` parameter in pandas.Categorical.remove_unused_categories is deprecated and will be removed in a future version.\n",
      "  res = method(*args, **kwargs)\n",
      "[Parallel(n_jobs=93)]: Using backend LokyBackend with 93 concurrent workers.\n",
      "[Parallel(n_jobs=93)]: Done  14 tasks      | elapsed:    0.3s\n",
      "[Parallel(n_jobs=93)]: Done 264 tasks      | elapsed:    1.6s\n",
      "[Parallel(n_jobs=93)]: Done 614 tasks      | elapsed:    3.7s\n",
      "[Parallel(n_jobs=93)]: Done 1064 tasks      | elapsed:    6.2s\n",
      "[Parallel(n_jobs=93)]: Done 1614 tasks      | elapsed:    9.2s\n",
      "[Parallel(n_jobs=93)]: Done 2264 tasks      | elapsed:   12.7s\n",
      "[Parallel(n_jobs=93)]: Done 3014 tasks      | elapsed:   16.7s\n",
      "[Parallel(n_jobs=93)]: Done 3864 tasks      | elapsed:   21.6s\n",
      "[Parallel(n_jobs=93)]: Done 4814 tasks      | elapsed:   26.7s\n",
      "[Parallel(n_jobs=93)]: Done 5864 tasks      | elapsed:   32.4s\n",
      "[Parallel(n_jobs=93)]: Done 7014 tasks      | elapsed:   39.0s\n",
      "[Parallel(n_jobs=93)]: Done 8264 tasks      | elapsed:   45.8s\n",
      "[Parallel(n_jobs=93)]: Done 9541 out of 9541 | elapsed:   53.6s finished\n",
      "... storing 'memento_group' as categorical\n"
     ]
    },
    {
     "name": "stdout",
     "output_type": "stream",
     "text": [
      "starting B 3 alpha\n"
     ]
    },
    {
     "name": "stderr",
     "output_type": "stream",
     "text": [
      "/home/ssm-user/anaconda3/envs/single_cell/lib/python3.8/site-packages/pandas/core/arrays/categorical.py:2487: FutureWarning: The `inplace` parameter in pandas.Categorical.remove_unused_categories is deprecated and will be removed in a future version.\n",
      "  res = method(*args, **kwargs)\n",
      "[Parallel(n_jobs=93)]: Using backend LokyBackend with 93 concurrent workers.\n",
      "[Parallel(n_jobs=93)]: Done  14 tasks      | elapsed:    0.2s\n",
      "[Parallel(n_jobs=93)]: Done 342 tasks      | elapsed:    1.4s\n",
      "[Parallel(n_jobs=93)]: Done 1042 tasks      | elapsed:    3.5s\n",
      "[Parallel(n_jobs=93)]: Done 1942 tasks      | elapsed:    6.1s\n",
      "[Parallel(n_jobs=93)]: Done 3042 tasks      | elapsed:    9.4s\n",
      "[Parallel(n_jobs=93)]: Done 4342 tasks      | elapsed:   13.3s\n",
      "[Parallel(n_jobs=93)]: Done 4724 out of 4724 | elapsed:   14.4s finished\n",
      "... storing 'memento_group' as categorical\n"
     ]
    },
    {
     "name": "stdout",
     "output_type": "stream",
     "text": [
      "starting B 3 beta\n"
     ]
    },
    {
     "name": "stderr",
     "output_type": "stream",
     "text": [
      "/home/ssm-user/anaconda3/envs/single_cell/lib/python3.8/site-packages/pandas/core/arrays/categorical.py:2487: FutureWarning: The `inplace` parameter in pandas.Categorical.remove_unused_categories is deprecated and will be removed in a future version.\n",
      "  res = method(*args, **kwargs)\n",
      "[Parallel(n_jobs=93)]: Using backend LokyBackend with 93 concurrent workers.\n",
      "[Parallel(n_jobs=93)]: Done  14 tasks      | elapsed:    0.2s\n",
      "[Parallel(n_jobs=93)]: Done 342 tasks      | elapsed:    1.1s\n",
      "[Parallel(n_jobs=93)]: Done 1042 tasks      | elapsed:    2.8s\n",
      "[Parallel(n_jobs=93)]: Done 1942 tasks      | elapsed:    5.0s\n",
      "[Parallel(n_jobs=93)]: Done 3042 tasks      | elapsed:    7.6s\n",
      "[Parallel(n_jobs=93)]: Done 3394 out of 3394 | elapsed:    8.4s finished\n",
      "... storing 'memento_group' as categorical\n"
     ]
    },
    {
     "name": "stdout",
     "output_type": "stream",
     "text": [
      "starting B 3 gamma\n"
     ]
    },
    {
     "name": "stderr",
     "output_type": "stream",
     "text": [
      "/home/ssm-user/anaconda3/envs/single_cell/lib/python3.8/site-packages/pandas/core/arrays/categorical.py:2487: FutureWarning: The `inplace` parameter in pandas.Categorical.remove_unused_categories is deprecated and will be removed in a future version.\n",
      "  res = method(*args, **kwargs)\n",
      "[Parallel(n_jobs=93)]: Using backend LokyBackend with 93 concurrent workers.\n",
      "[Parallel(n_jobs=93)]: Done  14 tasks      | elapsed:    0.2s\n",
      "[Parallel(n_jobs=93)]: Done 342 tasks      | elapsed:    1.5s\n",
      "[Parallel(n_jobs=93)]: Done 1042 tasks      | elapsed:    3.8s\n",
      "[Parallel(n_jobs=93)]: Done 1942 tasks      | elapsed:    6.8s\n",
      "[Parallel(n_jobs=93)]: Done 3042 tasks      | elapsed:   10.5s\n",
      "[Parallel(n_jobs=93)]: Done 4342 tasks      | elapsed:   14.8s\n",
      "[Parallel(n_jobs=93)]: Done 4872 out of 4872 | elapsed:   17.0s finished\n",
      "... storing 'memento_group' as categorical\n"
     ]
    },
    {
     "name": "stdout",
     "output_type": "stream",
     "text": [
      "starting B 3 lambda\n"
     ]
    },
    {
     "name": "stderr",
     "output_type": "stream",
     "text": [
      "/home/ssm-user/anaconda3/envs/single_cell/lib/python3.8/site-packages/pandas/core/arrays/categorical.py:2487: FutureWarning: The `inplace` parameter in pandas.Categorical.remove_unused_categories is deprecated and will be removed in a future version.\n",
      "  res = method(*args, **kwargs)\n",
      "[Parallel(n_jobs=93)]: Using backend LokyBackend with 93 concurrent workers.\n",
      "[Parallel(n_jobs=93)]: Done  14 tasks      | elapsed:    0.2s\n",
      "[Parallel(n_jobs=93)]: Done 342 tasks      | elapsed:    1.4s\n",
      "[Parallel(n_jobs=93)]: Done 1042 tasks      | elapsed:    3.3s\n",
      "[Parallel(n_jobs=93)]: Done 1942 tasks      | elapsed:    5.9s\n",
      "[Parallel(n_jobs=93)]: Done 3042 tasks      | elapsed:    9.1s\n",
      "[Parallel(n_jobs=93)]: Done 4342 tasks      | elapsed:   13.0s\n",
      "[Parallel(n_jobs=93)]: Done 4858 out of 4858 | elapsed:   14.6s finished\n",
      "... storing 'memento_group' as categorical\n"
     ]
    },
    {
     "name": "stdout",
     "output_type": "stream",
     "text": [
      "starting B 6 alpha\n"
     ]
    },
    {
     "name": "stderr",
     "output_type": "stream",
     "text": [
      "/home/ssm-user/anaconda3/envs/single_cell/lib/python3.8/site-packages/pandas/core/arrays/categorical.py:2487: FutureWarning: The `inplace` parameter in pandas.Categorical.remove_unused_categories is deprecated and will be removed in a future version.\n",
      "  res = method(*args, **kwargs)\n",
      "[Parallel(n_jobs=93)]: Using backend LokyBackend with 93 concurrent workers.\n",
      "[Parallel(n_jobs=93)]: Done  14 tasks      | elapsed:    0.2s\n",
      "[Parallel(n_jobs=93)]: Done 344 tasks      | elapsed:    1.6s\n",
      "[Parallel(n_jobs=93)]: Done 1042 tasks      | elapsed:    4.0s\n",
      "[Parallel(n_jobs=93)]: Done 1942 tasks      | elapsed:    7.2s\n",
      "[Parallel(n_jobs=93)]: Done 3042 tasks      | elapsed:   11.1s\n",
      "[Parallel(n_jobs=93)]: Done 4342 tasks      | elapsed:   15.8s\n",
      "[Parallel(n_jobs=93)]: Done 5147 out of 5332 | elapsed:   18.8s remaining:    0.7s\n",
      "[Parallel(n_jobs=93)]: Done 5332 out of 5332 | elapsed:   19.9s finished\n",
      "... storing 'memento_group' as categorical\n"
     ]
    },
    {
     "name": "stdout",
     "output_type": "stream",
     "text": [
      "starting B 6 beta\n"
     ]
    },
    {
     "name": "stderr",
     "output_type": "stream",
     "text": [
      "/home/ssm-user/anaconda3/envs/single_cell/lib/python3.8/site-packages/pandas/core/arrays/categorical.py:2487: FutureWarning: The `inplace` parameter in pandas.Categorical.remove_unused_categories is deprecated and will be removed in a future version.\n",
      "  res = method(*args, **kwargs)\n",
      "[Parallel(n_jobs=93)]: Using backend LokyBackend with 93 concurrent workers.\n",
      "[Parallel(n_jobs=93)]: Done  14 tasks      | elapsed:    0.4s\n",
      "[Parallel(n_jobs=93)]: Done 342 tasks      | elapsed:    1.8s\n",
      "[Parallel(n_jobs=93)]: Done 1042 tasks      | elapsed:    4.4s\n",
      "[Parallel(n_jobs=93)]: Done 1942 tasks      | elapsed:    7.7s\n",
      "[Parallel(n_jobs=93)]: Done 3042 tasks      | elapsed:   11.9s\n",
      "[Parallel(n_jobs=93)]: Done 4342 tasks      | elapsed:   16.9s\n",
      "[Parallel(n_jobs=93)]: Done 5060 out of 5245 | elapsed:   19.7s remaining:    0.7s\n",
      "[Parallel(n_jobs=93)]: Done 5245 out of 5245 | elapsed:   20.7s finished\n",
      "... storing 'memento_group' as categorical\n"
     ]
    },
    {
     "name": "stdout",
     "output_type": "stream",
     "text": [
      "starting B 6 gamma\n"
     ]
    },
    {
     "name": "stderr",
     "output_type": "stream",
     "text": [
      "/home/ssm-user/anaconda3/envs/single_cell/lib/python3.8/site-packages/pandas/core/arrays/categorical.py:2487: FutureWarning: The `inplace` parameter in pandas.Categorical.remove_unused_categories is deprecated and will be removed in a future version.\n",
      "  res = method(*args, **kwargs)\n",
      "[Parallel(n_jobs=93)]: Using backend LokyBackend with 93 concurrent workers.\n",
      "[Parallel(n_jobs=93)]: Done  14 tasks      | elapsed:    0.2s\n",
      "[Parallel(n_jobs=93)]: Done 343 tasks      | elapsed:    1.7s\n",
      "[Parallel(n_jobs=93)]: Done 1042 tasks      | elapsed:    4.2s\n",
      "[Parallel(n_jobs=93)]: Done 1942 tasks      | elapsed:    7.6s\n",
      "[Parallel(n_jobs=93)]: Done 3042 tasks      | elapsed:   11.6s\n",
      "[Parallel(n_jobs=93)]: Done 4342 tasks      | elapsed:   16.6s\n",
      "[Parallel(n_jobs=93)]: Done 4969 out of 5154 | elapsed:   19.0s remaining:    0.7s\n",
      "[Parallel(n_jobs=93)]: Done 5154 out of 5154 | elapsed:   20.4s finished\n",
      "... storing 'memento_group' as categorical\n"
     ]
    },
    {
     "name": "stdout",
     "output_type": "stream",
     "text": [
      "starting B 6 lambda\n"
     ]
    },
    {
     "name": "stderr",
     "output_type": "stream",
     "text": [
      "/home/ssm-user/anaconda3/envs/single_cell/lib/python3.8/site-packages/pandas/core/arrays/categorical.py:2487: FutureWarning: The `inplace` parameter in pandas.Categorical.remove_unused_categories is deprecated and will be removed in a future version.\n",
      "  res = method(*args, **kwargs)\n",
      "[Parallel(n_jobs=93)]: Using backend LokyBackend with 93 concurrent workers.\n",
      "[Parallel(n_jobs=93)]: Done  14 tasks      | elapsed:    0.2s\n",
      "[Parallel(n_jobs=93)]: Done 342 tasks      | elapsed:    1.7s\n",
      "[Parallel(n_jobs=93)]: Done 1042 tasks      | elapsed:    4.2s\n",
      "[Parallel(n_jobs=93)]: Done 1942 tasks      | elapsed:    7.6s\n",
      "[Parallel(n_jobs=93)]: Done 3042 tasks      | elapsed:   11.8s\n",
      "[Parallel(n_jobs=93)]: Done 4342 tasks      | elapsed:   16.8s\n",
      "[Parallel(n_jobs=93)]: Done 5244 out of 5429 | elapsed:   20.4s remaining:    0.7s\n",
      "[Parallel(n_jobs=93)]: Done 5429 out of 5429 | elapsed:   21.6s finished\n",
      "... storing 'memento_group' as categorical\n"
     ]
    },
    {
     "name": "stdout",
     "output_type": "stream",
     "text": [
      "starting B 9 alpha\n"
     ]
    },
    {
     "name": "stderr",
     "output_type": "stream",
     "text": [
      "/home/ssm-user/anaconda3/envs/single_cell/lib/python3.8/site-packages/pandas/core/arrays/categorical.py:2487: FutureWarning: The `inplace` parameter in pandas.Categorical.remove_unused_categories is deprecated and will be removed in a future version.\n",
      "  res = method(*args, **kwargs)\n",
      "[Parallel(n_jobs=93)]: Using backend LokyBackend with 93 concurrent workers.\n",
      "[Parallel(n_jobs=93)]: Done  14 tasks      | elapsed:    0.3s\n",
      "[Parallel(n_jobs=93)]: Done 264 tasks      | elapsed:    1.4s\n",
      "[Parallel(n_jobs=93)]: Done 614 tasks      | elapsed:    2.9s\n",
      "[Parallel(n_jobs=93)]: Done 1064 tasks      | elapsed:    4.8s\n",
      "[Parallel(n_jobs=93)]: Done 1614 tasks      | elapsed:    7.2s\n",
      "[Parallel(n_jobs=93)]: Done 2264 tasks      | elapsed:   10.0s\n",
      "[Parallel(n_jobs=93)]: Done 3014 tasks      | elapsed:   13.4s\n",
      "[Parallel(n_jobs=93)]: Done 3864 tasks      | elapsed:   17.1s\n",
      "[Parallel(n_jobs=93)]: Done 4814 tasks      | elapsed:   21.3s\n",
      "[Parallel(n_jobs=93)]: Done 5337 out of 5337 | elapsed:   24.2s finished\n",
      "... storing 'memento_group' as categorical\n"
     ]
    },
    {
     "name": "stdout",
     "output_type": "stream",
     "text": [
      "starting B 9 beta\n"
     ]
    },
    {
     "name": "stderr",
     "output_type": "stream",
     "text": [
      "/home/ssm-user/anaconda3/envs/single_cell/lib/python3.8/site-packages/pandas/core/arrays/categorical.py:2487: FutureWarning: The `inplace` parameter in pandas.Categorical.remove_unused_categories is deprecated and will be removed in a future version.\n",
      "  res = method(*args, **kwargs)\n",
      "[Parallel(n_jobs=93)]: Using backend LokyBackend with 93 concurrent workers.\n",
      "[Parallel(n_jobs=93)]: Done  14 tasks      | elapsed:    0.3s\n",
      "[Parallel(n_jobs=93)]: Done 345 tasks      | elapsed:    1.8s\n",
      "[Parallel(n_jobs=93)]: Done 1042 tasks      | elapsed:    4.5s\n",
      "[Parallel(n_jobs=93)]: Done 1942 tasks      | elapsed:    8.0s\n",
      "[Parallel(n_jobs=93)]: Done 3042 tasks      | elapsed:   12.4s\n",
      "[Parallel(n_jobs=93)]: Done 4342 tasks      | elapsed:   17.6s\n",
      "[Parallel(n_jobs=93)]: Done 5000 out of 5185 | elapsed:   20.4s remaining:    0.8s\n",
      "[Parallel(n_jobs=93)]: Done 5185 out of 5185 | elapsed:   21.8s finished\n",
      "... storing 'memento_group' as categorical\n"
     ]
    },
    {
     "name": "stdout",
     "output_type": "stream",
     "text": [
      "starting B 9 gamma\n"
     ]
    },
    {
     "name": "stderr",
     "output_type": "stream",
     "text": [
      "/home/ssm-user/anaconda3/envs/single_cell/lib/python3.8/site-packages/pandas/core/arrays/categorical.py:2487: FutureWarning: The `inplace` parameter in pandas.Categorical.remove_unused_categories is deprecated and will be removed in a future version.\n",
      "  res = method(*args, **kwargs)\n",
      "[Parallel(n_jobs=93)]: Using backend LokyBackend with 93 concurrent workers.\n",
      "[Parallel(n_jobs=93)]: Done  14 tasks      | elapsed:    0.3s\n",
      "[Parallel(n_jobs=93)]: Done 264 tasks      | elapsed:    1.6s\n",
      "[Parallel(n_jobs=93)]: Done 614 tasks      | elapsed:    3.7s\n",
      "[Parallel(n_jobs=93)]: Done 1064 tasks      | elapsed:    6.1s\n",
      "[Parallel(n_jobs=93)]: Done 1614 tasks      | elapsed:    9.0s\n",
      "[Parallel(n_jobs=93)]: Done 2264 tasks      | elapsed:   12.6s\n",
      "[Parallel(n_jobs=93)]: Done 3014 tasks      | elapsed:   16.7s\n",
      "[Parallel(n_jobs=93)]: Done 3864 tasks      | elapsed:   21.6s\n",
      "[Parallel(n_jobs=93)]: Done 4814 tasks      | elapsed:   26.9s\n",
      "[Parallel(n_jobs=93)]: Done 5329 out of 5329 | elapsed:   30.9s finished\n",
      "... storing 'memento_group' as categorical\n"
     ]
    },
    {
     "name": "stdout",
     "output_type": "stream",
     "text": [
      "starting B 9 lambda\n"
     ]
    },
    {
     "name": "stderr",
     "output_type": "stream",
     "text": [
      "/home/ssm-user/anaconda3/envs/single_cell/lib/python3.8/site-packages/pandas/core/arrays/categorical.py:2487: FutureWarning: The `inplace` parameter in pandas.Categorical.remove_unused_categories is deprecated and will be removed in a future version.\n",
      "  res = method(*args, **kwargs)\n",
      "[Parallel(n_jobs=93)]: Using backend LokyBackend with 93 concurrent workers.\n",
      "[Parallel(n_jobs=93)]: Done  14 tasks      | elapsed:    0.3s\n",
      "[Parallel(n_jobs=93)]: Done 264 tasks      | elapsed:    1.2s\n",
      "[Parallel(n_jobs=93)]: Done 614 tasks      | elapsed:    2.4s\n",
      "[Parallel(n_jobs=93)]: Done 1064 tasks      | elapsed:    3.9s\n",
      "[Parallel(n_jobs=93)]: Done 1614 tasks      | elapsed:    5.7s\n",
      "[Parallel(n_jobs=93)]: Done 2264 tasks      | elapsed:    8.0s\n",
      "[Parallel(n_jobs=93)]: Done 3014 tasks      | elapsed:   10.8s\n",
      "[Parallel(n_jobs=93)]: Done 3864 tasks      | elapsed:   13.8s\n",
      "[Parallel(n_jobs=93)]: Done 4814 tasks      | elapsed:   17.1s\n",
      "[Parallel(n_jobs=93)]: Done 5204 out of 5204 | elapsed:   18.9s finished\n",
      "... storing 'memento_group' as categorical\n"
     ]
    },
    {
     "name": "stdout",
     "output_type": "stream",
     "text": [
      "starting B 24 alpha\n"
     ]
    },
    {
     "name": "stderr",
     "output_type": "stream",
     "text": [
      "/home/ssm-user/anaconda3/envs/single_cell/lib/python3.8/site-packages/pandas/core/arrays/categorical.py:2487: FutureWarning: The `inplace` parameter in pandas.Categorical.remove_unused_categories is deprecated and will be removed in a future version.\n",
      "  res = method(*args, **kwargs)\n",
      "[Parallel(n_jobs=93)]: Using backend LokyBackend with 93 concurrent workers.\n",
      "[Parallel(n_jobs=93)]: Done  14 tasks      | elapsed:    0.2s\n",
      "[Parallel(n_jobs=93)]: Done 343 tasks      | elapsed:    1.7s\n",
      "[Parallel(n_jobs=93)]: Done 1042 tasks      | elapsed:    4.3s\n",
      "[Parallel(n_jobs=93)]: Done 1942 tasks      | elapsed:    7.7s\n",
      "[Parallel(n_jobs=93)]: Done 3042 tasks      | elapsed:   11.9s\n",
      "[Parallel(n_jobs=93)]: Done 4295 tasks      | elapsed:   16.6s\n",
      "[Parallel(n_jobs=93)]: Done 5060 tasks      | elapsed:   19.7s\n",
      "[Parallel(n_jobs=93)]: Done 5277 out of 5277 | elapsed:   21.2s finished\n",
      "... storing 'memento_group' as categorical\n"
     ]
    },
    {
     "name": "stdout",
     "output_type": "stream",
     "text": [
      "starting B 24 beta\n"
     ]
    },
    {
     "name": "stderr",
     "output_type": "stream",
     "text": [
      "/home/ssm-user/anaconda3/envs/single_cell/lib/python3.8/site-packages/pandas/core/arrays/categorical.py:2487: FutureWarning: The `inplace` parameter in pandas.Categorical.remove_unused_categories is deprecated and will be removed in a future version.\n",
      "  res = method(*args, **kwargs)\n",
      "[Parallel(n_jobs=93)]: Using backend LokyBackend with 93 concurrent workers.\n",
      "[Parallel(n_jobs=93)]: Done  14 tasks      | elapsed:    0.4s\n",
      "[Parallel(n_jobs=93)]: Done 264 tasks      | elapsed:    1.5s\n",
      "[Parallel(n_jobs=93)]: Done 614 tasks      | elapsed:    3.0s\n",
      "[Parallel(n_jobs=93)]: Done 1064 tasks      | elapsed:    4.9s\n",
      "[Parallel(n_jobs=93)]: Done 1614 tasks      | elapsed:    7.3s\n",
      "[Parallel(n_jobs=93)]: Done 2264 tasks      | elapsed:   10.1s\n",
      "[Parallel(n_jobs=93)]: Done 3014 tasks      | elapsed:   13.6s\n",
      "[Parallel(n_jobs=93)]: Done 3864 tasks      | elapsed:   17.4s\n",
      "[Parallel(n_jobs=93)]: Done 4814 tasks      | elapsed:   21.7s\n",
      "[Parallel(n_jobs=93)]: Done 5240 out of 5240 | elapsed:   24.3s finished\n",
      "... storing 'memento_group' as categorical\n"
     ]
    },
    {
     "name": "stdout",
     "output_type": "stream",
     "text": [
      "starting B 24 gamma\n"
     ]
    },
    {
     "name": "stderr",
     "output_type": "stream",
     "text": [
      "/home/ssm-user/anaconda3/envs/single_cell/lib/python3.8/site-packages/pandas/core/arrays/categorical.py:2487: FutureWarning: The `inplace` parameter in pandas.Categorical.remove_unused_categories is deprecated and will be removed in a future version.\n",
      "  res = method(*args, **kwargs)\n",
      "[Parallel(n_jobs=93)]: Using backend LokyBackend with 93 concurrent workers.\n",
      "[Parallel(n_jobs=93)]: Done  14 tasks      | elapsed:    0.2s\n",
      "[Parallel(n_jobs=93)]: Done 343 tasks      | elapsed:    1.8s\n",
      "[Parallel(n_jobs=93)]: Done 1042 tasks      | elapsed:    4.5s\n",
      "[Parallel(n_jobs=93)]: Done 1942 tasks      | elapsed:    8.1s\n",
      "[Parallel(n_jobs=93)]: Done 3042 tasks      | elapsed:   12.4s\n",
      "[Parallel(n_jobs=93)]: Done 4121 tasks      | elapsed:   16.7s\n",
      "[Parallel(n_jobs=93)]: Done 4874 tasks      | elapsed:   19.9s\n",
      "[Parallel(n_jobs=93)]: Done 5213 out of 5213 | elapsed:   22.0s finished\n",
      "... storing 'memento_group' as categorical\n"
     ]
    },
    {
     "name": "stdout",
     "output_type": "stream",
     "text": [
      "starting B 24 lambda\n"
     ]
    },
    {
     "name": "stderr",
     "output_type": "stream",
     "text": [
      "/home/ssm-user/anaconda3/envs/single_cell/lib/python3.8/site-packages/pandas/core/arrays/categorical.py:2487: FutureWarning: The `inplace` parameter in pandas.Categorical.remove_unused_categories is deprecated and will be removed in a future version.\n",
      "  res = method(*args, **kwargs)\n",
      "[Parallel(n_jobs=93)]: Using backend LokyBackend with 93 concurrent workers.\n",
      "[Parallel(n_jobs=93)]: Done  14 tasks      | elapsed:    0.2s\n",
      "[Parallel(n_jobs=93)]: Done 342 tasks      | elapsed:    1.9s\n",
      "[Parallel(n_jobs=93)]: Done 1042 tasks      | elapsed:    4.5s\n",
      "[Parallel(n_jobs=93)]: Done 1942 tasks      | elapsed:    7.9s\n",
      "[Parallel(n_jobs=93)]: Done 3042 tasks      | elapsed:   12.2s\n",
      "[Parallel(n_jobs=93)]: Done 4342 tasks      | elapsed:   17.4s\n",
      "[Parallel(n_jobs=93)]: Done 5058 out of 5243 | elapsed:   20.2s remaining:    0.7s\n",
      "[Parallel(n_jobs=93)]: Done 5243 out of 5243 | elapsed:   21.4s finished\n",
      "... storing 'memento_group' as categorical\n"
     ]
    },
    {
     "name": "stdout",
     "output_type": "stream",
     "text": [
      "starting B 48 alpha\n"
     ]
    },
    {
     "name": "stderr",
     "output_type": "stream",
     "text": [
      "/home/ssm-user/anaconda3/envs/single_cell/lib/python3.8/site-packages/pandas/core/arrays/categorical.py:2487: FutureWarning: The `inplace` parameter in pandas.Categorical.remove_unused_categories is deprecated and will be removed in a future version.\n",
      "  res = method(*args, **kwargs)\n",
      "[Parallel(n_jobs=93)]: Using backend LokyBackend with 93 concurrent workers.\n",
      "[Parallel(n_jobs=93)]: Done  14 tasks      | elapsed:    0.2s\n",
      "[Parallel(n_jobs=93)]: Done 342 tasks      | elapsed:    1.6s\n",
      "[Parallel(n_jobs=93)]: Done 1042 tasks      | elapsed:    4.0s\n",
      "[Parallel(n_jobs=93)]: Done 1942 tasks      | elapsed:    7.2s\n",
      "[Parallel(n_jobs=93)]: Done 3042 tasks      | elapsed:   11.1s\n",
      "[Parallel(n_jobs=93)]: Done 4342 tasks      | elapsed:   15.7s\n",
      "[Parallel(n_jobs=93)]: Done 5162 out of 5162 | elapsed:   18.9s finished\n",
      "... storing 'memento_group' as categorical\n"
     ]
    },
    {
     "name": "stdout",
     "output_type": "stream",
     "text": [
      "starting B 48 beta\n"
     ]
    },
    {
     "name": "stderr",
     "output_type": "stream",
     "text": [
      "/home/ssm-user/anaconda3/envs/single_cell/lib/python3.8/site-packages/pandas/core/arrays/categorical.py:2487: FutureWarning: The `inplace` parameter in pandas.Categorical.remove_unused_categories is deprecated and will be removed in a future version.\n",
      "  res = method(*args, **kwargs)\n",
      "[Parallel(n_jobs=93)]: Using backend LokyBackend with 93 concurrent workers.\n",
      "[Parallel(n_jobs=93)]: Done  14 tasks      | elapsed:    0.2s\n",
      "[Parallel(n_jobs=93)]: Done 343 tasks      | elapsed:    1.7s\n",
      "[Parallel(n_jobs=93)]: Done 1042 tasks      | elapsed:    4.2s\n",
      "[Parallel(n_jobs=93)]: Done 1942 tasks      | elapsed:    7.4s\n",
      "[Parallel(n_jobs=93)]: Done 3042 tasks      | elapsed:   11.5s\n",
      "[Parallel(n_jobs=93)]: Done 4342 tasks      | elapsed:   16.3s\n",
      "[Parallel(n_jobs=93)]: Done 5159 out of 5159 | elapsed:   19.8s finished\n",
      "... storing 'memento_group' as categorical\n"
     ]
    },
    {
     "name": "stdout",
     "output_type": "stream",
     "text": [
      "starting B 48 gamma\n"
     ]
    },
    {
     "name": "stderr",
     "output_type": "stream",
     "text": [
      "/home/ssm-user/anaconda3/envs/single_cell/lib/python3.8/site-packages/pandas/core/arrays/categorical.py:2487: FutureWarning: The `inplace` parameter in pandas.Categorical.remove_unused_categories is deprecated and will be removed in a future version.\n",
      "  res = method(*args, **kwargs)\n",
      "[Parallel(n_jobs=93)]: Using backend LokyBackend with 93 concurrent workers.\n",
      "[Parallel(n_jobs=93)]: Done  14 tasks      | elapsed:    0.2s\n",
      "[Parallel(n_jobs=93)]: Done 264 tasks      | elapsed:    1.3s\n",
      "[Parallel(n_jobs=93)]: Done 614 tasks      | elapsed:    2.8s\n",
      "[Parallel(n_jobs=93)]: Done 1064 tasks      | elapsed:    4.5s\n",
      "[Parallel(n_jobs=93)]: Done 1614 tasks      | elapsed:    6.7s\n",
      "[Parallel(n_jobs=93)]: Done 2264 tasks      | elapsed:    9.4s\n",
      "[Parallel(n_jobs=93)]: Done 3014 tasks      | elapsed:   12.5s\n",
      "[Parallel(n_jobs=93)]: Done 3864 tasks      | elapsed:   16.2s\n",
      "[Parallel(n_jobs=93)]: Done 4814 tasks      | elapsed:   20.1s\n",
      "[Parallel(n_jobs=93)]: Done 5384 out of 5384 | elapsed:   23.2s finished\n",
      "... storing 'memento_group' as categorical\n"
     ]
    },
    {
     "name": "stdout",
     "output_type": "stream",
     "text": [
      "starting B 48 lambda\n"
     ]
    },
    {
     "name": "stderr",
     "output_type": "stream",
     "text": [
      "/home/ssm-user/anaconda3/envs/single_cell/lib/python3.8/site-packages/pandas/core/arrays/categorical.py:2487: FutureWarning: The `inplace` parameter in pandas.Categorical.remove_unused_categories is deprecated and will be removed in a future version.\n",
      "  res = method(*args, **kwargs)\n",
      "[Parallel(n_jobs=93)]: Using backend LokyBackend with 93 concurrent workers.\n",
      "[Parallel(n_jobs=93)]: Done  14 tasks      | elapsed:    0.2s\n",
      "[Parallel(n_jobs=93)]: Done 264 tasks      | elapsed:    1.3s\n",
      "[Parallel(n_jobs=93)]: Done 614 tasks      | elapsed:    2.6s\n",
      "[Parallel(n_jobs=93)]: Done 1064 tasks      | elapsed:    4.4s\n",
      "[Parallel(n_jobs=93)]: Done 1614 tasks      | elapsed:    6.4s\n",
      "[Parallel(n_jobs=93)]: Done 2264 tasks      | elapsed:    9.0s\n",
      "[Parallel(n_jobs=93)]: Done 3014 tasks      | elapsed:   12.0s\n",
      "[Parallel(n_jobs=93)]: Done 3864 tasks      | elapsed:   15.4s\n",
      "[Parallel(n_jobs=93)]: Done 4814 tasks      | elapsed:   19.2s\n",
      "[Parallel(n_jobs=93)]: Done 5352 out of 5352 | elapsed:   22.1s finished\n",
      "... storing 'memento_group' as categorical\n"
     ]
    },
    {
     "name": "stdout",
     "output_type": "stream",
     "text": [
      "starting BC 3 alpha\n"
     ]
    },
    {
     "name": "stderr",
     "output_type": "stream",
     "text": [
      "/home/ssm-user/anaconda3/envs/single_cell/lib/python3.8/site-packages/pandas/core/arrays/categorical.py:2487: FutureWarning: The `inplace` parameter in pandas.Categorical.remove_unused_categories is deprecated and will be removed in a future version.\n",
      "  res = method(*args, **kwargs)\n",
      "[Parallel(n_jobs=93)]: Using backend LokyBackend with 93 concurrent workers.\n",
      "[Parallel(n_jobs=93)]: Done  14 tasks      | elapsed:    0.3s\n",
      "[Parallel(n_jobs=93)]: Done 264 tasks      | elapsed:    1.3s\n",
      "[Parallel(n_jobs=93)]: Done 614 tasks      | elapsed:    3.0s\n",
      "[Parallel(n_jobs=93)]: Done 1064 tasks      | elapsed:    5.0s\n",
      "[Parallel(n_jobs=93)]: Done 1614 tasks      | elapsed:    7.4s\n",
      "[Parallel(n_jobs=93)]: Done 2264 tasks      | elapsed:   10.3s\n",
      "[Parallel(n_jobs=93)]: Done 3014 tasks      | elapsed:   13.8s\n",
      "[Parallel(n_jobs=93)]: Done 3864 tasks      | elapsed:   17.7s\n",
      "[Parallel(n_jobs=93)]: Done 4814 tasks      | elapsed:   22.0s\n",
      "[Parallel(n_jobs=93)]: Done 5864 tasks      | elapsed:   26.9s\n",
      "[Parallel(n_jobs=93)]: Done 7014 tasks      | elapsed:   32.2s\n",
      "[Parallel(n_jobs=93)]: Done 8005 out of 8005 | elapsed:   37.6s finished\n",
      "... storing 'memento_group' as categorical\n"
     ]
    },
    {
     "name": "stdout",
     "output_type": "stream",
     "text": [
      "starting BC 3 beta\n"
     ]
    },
    {
     "name": "stderr",
     "output_type": "stream",
     "text": [
      "/home/ssm-user/anaconda3/envs/single_cell/lib/python3.8/site-packages/pandas/core/arrays/categorical.py:2487: FutureWarning: The `inplace` parameter in pandas.Categorical.remove_unused_categories is deprecated and will be removed in a future version.\n",
      "  res = method(*args, **kwargs)\n",
      "[Parallel(n_jobs=93)]: Using backend LokyBackend with 93 concurrent workers.\n",
      "[Parallel(n_jobs=93)]: Done  14 tasks      | elapsed:    0.3s\n",
      "[Parallel(n_jobs=93)]: Done 264 tasks      | elapsed:    1.3s\n",
      "[Parallel(n_jobs=93)]: Done 614 tasks      | elapsed:    3.0s\n",
      "[Parallel(n_jobs=93)]: Done 1064 tasks      | elapsed:    5.0s\n",
      "[Parallel(n_jobs=93)]: Done 1614 tasks      | elapsed:    7.4s\n",
      "[Parallel(n_jobs=93)]: Done 2264 tasks      | elapsed:   10.4s\n",
      "[Parallel(n_jobs=93)]: Done 3014 tasks      | elapsed:   13.8s\n",
      "[Parallel(n_jobs=93)]: Done 3864 tasks      | elapsed:   17.6s\n",
      "[Parallel(n_jobs=93)]: Done 4814 tasks      | elapsed:   22.1s\n",
      "[Parallel(n_jobs=93)]: Done 5864 tasks      | elapsed:   26.8s\n",
      "[Parallel(n_jobs=93)]: Done 7014 tasks      | elapsed:   32.1s\n",
      "[Parallel(n_jobs=93)]: Done 7772 out of 7772 | elapsed:   36.5s finished\n",
      "... storing 'memento_group' as categorical\n"
     ]
    },
    {
     "name": "stdout",
     "output_type": "stream",
     "text": [
      "starting BC 3 gamma\n"
     ]
    },
    {
     "name": "stderr",
     "output_type": "stream",
     "text": [
      "/home/ssm-user/anaconda3/envs/single_cell/lib/python3.8/site-packages/pandas/core/arrays/categorical.py:2487: FutureWarning: The `inplace` parameter in pandas.Categorical.remove_unused_categories is deprecated and will be removed in a future version.\n",
      "  res = method(*args, **kwargs)\n",
      "[Parallel(n_jobs=93)]: Using backend LokyBackend with 93 concurrent workers.\n",
      "[Parallel(n_jobs=93)]: Done  14 tasks      | elapsed:    0.3s\n",
      "[Parallel(n_jobs=93)]: Done 264 tasks      | elapsed:    1.4s\n",
      "[Parallel(n_jobs=93)]: Done 614 tasks      | elapsed:    3.0s\n",
      "[Parallel(n_jobs=93)]: Done 1064 tasks      | elapsed:    5.1s\n",
      "[Parallel(n_jobs=93)]: Done 1614 tasks      | elapsed:    7.6s\n",
      "[Parallel(n_jobs=93)]: Done 2264 tasks      | elapsed:   10.5s\n",
      "[Parallel(n_jobs=93)]: Done 3014 tasks      | elapsed:   14.1s\n",
      "[Parallel(n_jobs=93)]: Done 3864 tasks      | elapsed:   18.1s\n",
      "[Parallel(n_jobs=93)]: Done 4814 tasks      | elapsed:   22.6s\n",
      "[Parallel(n_jobs=93)]: Done 5864 tasks      | elapsed:   27.5s\n",
      "[Parallel(n_jobs=93)]: Done 7014 tasks      | elapsed:   33.0s\n",
      "[Parallel(n_jobs=93)]: Done 7909 out of 7909 | elapsed:   38.3s finished\n",
      "... storing 'memento_group' as categorical\n"
     ]
    },
    {
     "name": "stdout",
     "output_type": "stream",
     "text": [
      "starting BC 3 lambda\n"
     ]
    },
    {
     "name": "stderr",
     "output_type": "stream",
     "text": [
      "/home/ssm-user/anaconda3/envs/single_cell/lib/python3.8/site-packages/pandas/core/arrays/categorical.py:2487: FutureWarning: The `inplace` parameter in pandas.Categorical.remove_unused_categories is deprecated and will be removed in a future version.\n",
      "  res = method(*args, **kwargs)\n",
      "[Parallel(n_jobs=93)]: Using backend LokyBackend with 93 concurrent workers.\n",
      "[Parallel(n_jobs=93)]: Done  14 tasks      | elapsed:    0.3s\n",
      "[Parallel(n_jobs=93)]: Done 264 tasks      | elapsed:    1.4s\n",
      "[Parallel(n_jobs=93)]: Done 614 tasks      | elapsed:    3.0s\n",
      "[Parallel(n_jobs=93)]: Done 1064 tasks      | elapsed:    5.0s\n",
      "[Parallel(n_jobs=93)]: Done 1614 tasks      | elapsed:    7.3s\n",
      "[Parallel(n_jobs=93)]: Done 2264 tasks      | elapsed:   10.3s\n",
      "[Parallel(n_jobs=93)]: Done 3014 tasks      | elapsed:   13.8s\n",
      "[Parallel(n_jobs=93)]: Done 3864 tasks      | elapsed:   17.5s\n",
      "[Parallel(n_jobs=93)]: Done 4814 tasks      | elapsed:   21.9s\n",
      "[Parallel(n_jobs=93)]: Done 5864 tasks      | elapsed:   26.8s\n",
      "[Parallel(n_jobs=93)]: Done 7014 tasks      | elapsed:   31.9s\n",
      "[Parallel(n_jobs=93)]: Done 7954 out of 7954 | elapsed:   37.5s finished\n",
      "... storing 'memento_group' as categorical\n"
     ]
    },
    {
     "name": "stdout",
     "output_type": "stream",
     "text": [
      "starting BC 6 alpha\n"
     ]
    },
    {
     "name": "stderr",
     "output_type": "stream",
     "text": [
      "/home/ssm-user/anaconda3/envs/single_cell/lib/python3.8/site-packages/pandas/core/arrays/categorical.py:2487: FutureWarning: The `inplace` parameter in pandas.Categorical.remove_unused_categories is deprecated and will be removed in a future version.\n",
      "  res = method(*args, **kwargs)\n",
      "[Parallel(n_jobs=93)]: Using backend LokyBackend with 93 concurrent workers.\n",
      "[Parallel(n_jobs=93)]: Done  14 tasks      | elapsed:    0.3s\n",
      "[Parallel(n_jobs=93)]: Done 264 tasks      | elapsed:    1.3s\n",
      "[Parallel(n_jobs=93)]: Done 614 tasks      | elapsed:    3.0s\n",
      "[Parallel(n_jobs=93)]: Done 1064 tasks      | elapsed:    5.1s\n",
      "[Parallel(n_jobs=93)]: Done 1614 tasks      | elapsed:    7.6s\n",
      "[Parallel(n_jobs=93)]: Done 2264 tasks      | elapsed:   10.5s\n",
      "[Parallel(n_jobs=93)]: Done 3014 tasks      | elapsed:   14.1s\n",
      "[Parallel(n_jobs=93)]: Done 3864 tasks      | elapsed:   17.9s\n",
      "[Parallel(n_jobs=93)]: Done 4814 tasks      | elapsed:   22.5s\n",
      "[Parallel(n_jobs=93)]: Done 5864 tasks      | elapsed:   27.3s\n",
      "[Parallel(n_jobs=93)]: Done 7014 tasks      | elapsed:   32.7s\n",
      "[Parallel(n_jobs=93)]: Done 7612 out of 7612 | elapsed:   36.6s finished\n",
      "... storing 'memento_group' as categorical\n"
     ]
    },
    {
     "name": "stdout",
     "output_type": "stream",
     "text": [
      "starting BC 6 beta\n"
     ]
    },
    {
     "name": "stderr",
     "output_type": "stream",
     "text": [
      "/home/ssm-user/anaconda3/envs/single_cell/lib/python3.8/site-packages/pandas/core/arrays/categorical.py:2487: FutureWarning: The `inplace` parameter in pandas.Categorical.remove_unused_categories is deprecated and will be removed in a future version.\n",
      "  res = method(*args, **kwargs)\n",
      "[Parallel(n_jobs=93)]: Using backend LokyBackend with 93 concurrent workers.\n",
      "[Parallel(n_jobs=93)]: Done  14 tasks      | elapsed:    0.3s\n",
      "[Parallel(n_jobs=93)]: Done 264 tasks      | elapsed:    1.5s\n",
      "[Parallel(n_jobs=93)]: Done 614 tasks      | elapsed:    3.3s\n",
      "[Parallel(n_jobs=93)]: Done 1064 tasks      | elapsed:    5.6s\n",
      "[Parallel(n_jobs=93)]: Done 1614 tasks      | elapsed:    8.2s\n",
      "[Parallel(n_jobs=93)]: Done 2264 tasks      | elapsed:   11.4s\n",
      "[Parallel(n_jobs=93)]: Done 3014 tasks      | elapsed:   15.2s\n",
      "[Parallel(n_jobs=93)]: Done 3864 tasks      | elapsed:   19.5s\n",
      "[Parallel(n_jobs=93)]: Done 4814 tasks      | elapsed:   24.5s\n",
      "[Parallel(n_jobs=93)]: Done 5864 tasks      | elapsed:   29.7s\n",
      "[Parallel(n_jobs=93)]: Done 7014 tasks      | elapsed:   35.6s\n",
      "[Parallel(n_jobs=93)]: Done 7704 out of 7704 | elapsed:   40.2s finished\n",
      "... storing 'memento_group' as categorical\n"
     ]
    },
    {
     "name": "stdout",
     "output_type": "stream",
     "text": [
      "starting BC 6 gamma\n"
     ]
    },
    {
     "name": "stderr",
     "output_type": "stream",
     "text": [
      "/home/ssm-user/anaconda3/envs/single_cell/lib/python3.8/site-packages/pandas/core/arrays/categorical.py:2487: FutureWarning: The `inplace` parameter in pandas.Categorical.remove_unused_categories is deprecated and will be removed in a future version.\n",
      "  res = method(*args, **kwargs)\n",
      "[Parallel(n_jobs=93)]: Using backend LokyBackend with 93 concurrent workers.\n",
      "[Parallel(n_jobs=93)]: Done  14 tasks      | elapsed:    0.5s\n",
      "[Parallel(n_jobs=93)]: Done 264 tasks      | elapsed:    1.4s\n",
      "[Parallel(n_jobs=93)]: Done 614 tasks      | elapsed:    3.0s\n",
      "[Parallel(n_jobs=93)]: Done 1064 tasks      | elapsed:    5.0s\n",
      "[Parallel(n_jobs=93)]: Done 1614 tasks      | elapsed:    7.3s\n",
      "[Parallel(n_jobs=93)]: Done 2264 tasks      | elapsed:   10.1s\n",
      "[Parallel(n_jobs=93)]: Done 3014 tasks      | elapsed:   13.6s\n",
      "[Parallel(n_jobs=93)]: Done 3864 tasks      | elapsed:   17.3s\n",
      "[Parallel(n_jobs=93)]: Done 4814 tasks      | elapsed:   21.5s\n",
      "[Parallel(n_jobs=93)]: Done 5864 tasks      | elapsed:   26.4s\n",
      "[Parallel(n_jobs=93)]: Done 7014 tasks      | elapsed:   31.5s\n",
      "[Parallel(n_jobs=93)]: Done 7817 out of 7817 | elapsed:   36.1s finished\n",
      "... storing 'memento_group' as categorical\n"
     ]
    },
    {
     "name": "stdout",
     "output_type": "stream",
     "text": [
      "starting BC 6 lambda\n"
     ]
    },
    {
     "name": "stderr",
     "output_type": "stream",
     "text": [
      "/home/ssm-user/anaconda3/envs/single_cell/lib/python3.8/site-packages/pandas/core/arrays/categorical.py:2487: FutureWarning: The `inplace` parameter in pandas.Categorical.remove_unused_categories is deprecated and will be removed in a future version.\n",
      "  res = method(*args, **kwargs)\n",
      "[Parallel(n_jobs=93)]: Using backend LokyBackend with 93 concurrent workers.\n",
      "[Parallel(n_jobs=93)]: Done  14 tasks      | elapsed:    0.3s\n",
      "[Parallel(n_jobs=93)]: Done 264 tasks      | elapsed:    1.4s\n",
      "[Parallel(n_jobs=93)]: Done 614 tasks      | elapsed:    3.0s\n",
      "[Parallel(n_jobs=93)]: Done 1064 tasks      | elapsed:    5.0s\n",
      "[Parallel(n_jobs=93)]: Done 1614 tasks      | elapsed:    7.4s\n",
      "[Parallel(n_jobs=93)]: Done 2264 tasks      | elapsed:   10.2s\n",
      "[Parallel(n_jobs=93)]: Done 3014 tasks      | elapsed:   13.6s\n",
      "[Parallel(n_jobs=93)]: Done 3864 tasks      | elapsed:   17.5s\n",
      "[Parallel(n_jobs=93)]: Done 4814 tasks      | elapsed:   21.7s\n",
      "[Parallel(n_jobs=93)]: Done 5864 tasks      | elapsed:   26.6s\n",
      "[Parallel(n_jobs=93)]: Done 7014 tasks      | elapsed:   31.9s\n",
      "[Parallel(n_jobs=93)]: Done 8127 out of 8127 | elapsed:   37.9s finished\n",
      "... storing 'memento_group' as categorical\n"
     ]
    },
    {
     "name": "stdout",
     "output_type": "stream",
     "text": [
      "starting BC 9 alpha\n"
     ]
    },
    {
     "name": "stderr",
     "output_type": "stream",
     "text": [
      "/home/ssm-user/anaconda3/envs/single_cell/lib/python3.8/site-packages/pandas/core/arrays/categorical.py:2487: FutureWarning: The `inplace` parameter in pandas.Categorical.remove_unused_categories is deprecated and will be removed in a future version.\n",
      "  res = method(*args, **kwargs)\n",
      "[Parallel(n_jobs=93)]: Using backend LokyBackend with 93 concurrent workers.\n",
      "[Parallel(n_jobs=93)]: Done  14 tasks      | elapsed:    0.3s\n",
      "[Parallel(n_jobs=93)]: Done 345 tasks      | elapsed:    1.6s\n",
      "[Parallel(n_jobs=93)]: Done 1042 tasks      | elapsed:    4.1s\n",
      "[Parallel(n_jobs=93)]: Done 1942 tasks      | elapsed:    7.4s\n",
      "[Parallel(n_jobs=93)]: Done 3042 tasks      | elapsed:   11.5s\n",
      "[Parallel(n_jobs=93)]: Done 4342 tasks      | elapsed:   16.1s\n",
      "[Parallel(n_jobs=93)]: Done 5842 tasks      | elapsed:   21.6s\n",
      "[Parallel(n_jobs=93)]: Done 6747 tasks      | elapsed:   25.1s\n",
      "[Parallel(n_jobs=93)]: Done 7744 out of 7744 | elapsed:   29.6s finished\n",
      "... storing 'memento_group' as categorical\n"
     ]
    },
    {
     "name": "stdout",
     "output_type": "stream",
     "text": [
      "starting BC 9 beta\n"
     ]
    },
    {
     "name": "stderr",
     "output_type": "stream",
     "text": [
      "/home/ssm-user/anaconda3/envs/single_cell/lib/python3.8/site-packages/pandas/core/arrays/categorical.py:2487: FutureWarning: The `inplace` parameter in pandas.Categorical.remove_unused_categories is deprecated and will be removed in a future version.\n",
      "  res = method(*args, **kwargs)\n",
      "[Parallel(n_jobs=93)]: Using backend LokyBackend with 93 concurrent workers.\n",
      "[Parallel(n_jobs=93)]: Done  14 tasks      | elapsed:    0.3s\n",
      "[Parallel(n_jobs=93)]: Done 264 tasks      | elapsed:    1.4s\n",
      "[Parallel(n_jobs=93)]: Done 614 tasks      | elapsed:    3.1s\n",
      "[Parallel(n_jobs=93)]: Done 1064 tasks      | elapsed:    5.2s\n",
      "[Parallel(n_jobs=93)]: Done 1614 tasks      | elapsed:    7.7s\n",
      "[Parallel(n_jobs=93)]: Done 2264 tasks      | elapsed:   10.7s\n",
      "[Parallel(n_jobs=93)]: Done 3014 tasks      | elapsed:   14.4s\n",
      "[Parallel(n_jobs=93)]: Done 3864 tasks      | elapsed:   18.3s\n",
      "[Parallel(n_jobs=93)]: Done 4814 tasks      | elapsed:   23.0s\n",
      "[Parallel(n_jobs=93)]: Done 5864 tasks      | elapsed:   27.9s\n",
      "[Parallel(n_jobs=93)]: Done 7014 tasks      | elapsed:   33.5s\n",
      "[Parallel(n_jobs=93)]: Done 7332 out of 7332 | elapsed:   36.1s finished\n",
      "... storing 'memento_group' as categorical\n"
     ]
    },
    {
     "name": "stdout",
     "output_type": "stream",
     "text": [
      "starting BC 9 gamma\n"
     ]
    },
    {
     "name": "stderr",
     "output_type": "stream",
     "text": [
      "/home/ssm-user/anaconda3/envs/single_cell/lib/python3.8/site-packages/pandas/core/arrays/categorical.py:2487: FutureWarning: The `inplace` parameter in pandas.Categorical.remove_unused_categories is deprecated and will be removed in a future version.\n",
      "  res = method(*args, **kwargs)\n",
      "[Parallel(n_jobs=93)]: Using backend LokyBackend with 93 concurrent workers.\n",
      "[Parallel(n_jobs=93)]: Done  14 tasks      | elapsed:    0.3s\n",
      "[Parallel(n_jobs=93)]: Done 264 tasks      | elapsed:    1.4s\n",
      "[Parallel(n_jobs=93)]: Done 614 tasks      | elapsed:    3.0s\n",
      "[Parallel(n_jobs=93)]: Done 1064 tasks      | elapsed:    5.1s\n",
      "[Parallel(n_jobs=93)]: Done 1614 tasks      | elapsed:    7.6s\n",
      "[Parallel(n_jobs=93)]: Done 2264 tasks      | elapsed:   10.5s\n",
      "[Parallel(n_jobs=93)]: Done 3014 tasks      | elapsed:   14.0s\n",
      "[Parallel(n_jobs=93)]: Done 3864 tasks      | elapsed:   18.0s\n",
      "[Parallel(n_jobs=93)]: Done 4814 tasks      | elapsed:   22.4s\n",
      "[Parallel(n_jobs=93)]: Done 5864 tasks      | elapsed:   27.2s\n",
      "[Parallel(n_jobs=93)]: Done 7014 tasks      | elapsed:   32.6s\n",
      "[Parallel(n_jobs=93)]: Done 7997 out of 7997 | elapsed:   38.3s finished\n",
      "... storing 'memento_group' as categorical\n"
     ]
    },
    {
     "name": "stdout",
     "output_type": "stream",
     "text": [
      "starting BC 9 lambda\n"
     ]
    },
    {
     "name": "stderr",
     "output_type": "stream",
     "text": [
      "/home/ssm-user/anaconda3/envs/single_cell/lib/python3.8/site-packages/pandas/core/arrays/categorical.py:2487: FutureWarning: The `inplace` parameter in pandas.Categorical.remove_unused_categories is deprecated and will be removed in a future version.\n",
      "  res = method(*args, **kwargs)\n",
      "[Parallel(n_jobs=93)]: Using backend LokyBackend with 93 concurrent workers.\n",
      "[Parallel(n_jobs=93)]: Done  14 tasks      | elapsed:    0.3s\n",
      "[Parallel(n_jobs=93)]: Done 264 tasks      | elapsed:    1.3s\n",
      "[Parallel(n_jobs=93)]: Done 614 tasks      | elapsed:    2.8s\n",
      "[Parallel(n_jobs=93)]: Done 1064 tasks      | elapsed:    4.7s\n",
      "[Parallel(n_jobs=93)]: Done 1614 tasks      | elapsed:    7.0s\n",
      "[Parallel(n_jobs=93)]: Done 2264 tasks      | elapsed:    9.9s\n",
      "[Parallel(n_jobs=93)]: Done 3014 tasks      | elapsed:   13.1s\n",
      "[Parallel(n_jobs=93)]: Done 3864 tasks      | elapsed:   16.7s\n",
      "[Parallel(n_jobs=93)]: Done 4814 tasks      | elapsed:   20.8s\n",
      "[Parallel(n_jobs=93)]: Done 5864 tasks      | elapsed:   25.4s\n",
      "[Parallel(n_jobs=93)]: Done 7014 tasks      | elapsed:   30.3s\n",
      "[Parallel(n_jobs=93)]: Done 7963 out of 7963 | elapsed:   35.7s finished\n",
      "... storing 'memento_group' as categorical\n"
     ]
    },
    {
     "name": "stdout",
     "output_type": "stream",
     "text": [
      "starting BC 24 alpha\n"
     ]
    },
    {
     "name": "stderr",
     "output_type": "stream",
     "text": [
      "/home/ssm-user/anaconda3/envs/single_cell/lib/python3.8/site-packages/pandas/core/arrays/categorical.py:2487: FutureWarning: The `inplace` parameter in pandas.Categorical.remove_unused_categories is deprecated and will be removed in a future version.\n",
      "  res = method(*args, **kwargs)\n",
      "[Parallel(n_jobs=93)]: Using backend LokyBackend with 93 concurrent workers.\n",
      "[Parallel(n_jobs=93)]: Done  14 tasks      | elapsed:    0.3s\n",
      "[Parallel(n_jobs=93)]: Done 264 tasks      | elapsed:    1.3s\n",
      "[Parallel(n_jobs=93)]: Done 614 tasks      | elapsed:    2.7s\n",
      "[Parallel(n_jobs=93)]: Done 1064 tasks      | elapsed:    4.5s\n",
      "[Parallel(n_jobs=93)]: Done 1614 tasks      | elapsed:    6.7s\n",
      "[Parallel(n_jobs=93)]: Done 2264 tasks      | elapsed:    9.4s\n",
      "[Parallel(n_jobs=93)]: Done 3014 tasks      | elapsed:   12.5s\n",
      "[Parallel(n_jobs=93)]: Done 3864 tasks      | elapsed:   15.9s\n",
      "[Parallel(n_jobs=93)]: Done 4814 tasks      | elapsed:   20.1s\n",
      "[Parallel(n_jobs=93)]: Done 5864 tasks      | elapsed:   24.3s\n",
      "[Parallel(n_jobs=93)]: Done 7014 tasks      | elapsed:   29.3s\n",
      "[Parallel(n_jobs=93)]: Done 7408 out of 7408 | elapsed:   31.8s finished\n",
      "... storing 'memento_group' as categorical\n"
     ]
    },
    {
     "name": "stdout",
     "output_type": "stream",
     "text": [
      "starting BC 24 beta\n"
     ]
    },
    {
     "name": "stderr",
     "output_type": "stream",
     "text": [
      "/home/ssm-user/anaconda3/envs/single_cell/lib/python3.8/site-packages/pandas/core/arrays/categorical.py:2487: FutureWarning: The `inplace` parameter in pandas.Categorical.remove_unused_categories is deprecated and will be removed in a future version.\n",
      "  res = method(*args, **kwargs)\n",
      "[Parallel(n_jobs=93)]: Using backend LokyBackend with 93 concurrent workers.\n",
      "[Parallel(n_jobs=93)]: Done  14 tasks      | elapsed:    0.3s\n",
      "[Parallel(n_jobs=93)]: Done 264 tasks      | elapsed:    1.3s\n",
      "[Parallel(n_jobs=93)]: Done 614 tasks      | elapsed:    2.9s\n",
      "[Parallel(n_jobs=93)]: Done 1064 tasks      | elapsed:    5.1s\n",
      "[Parallel(n_jobs=93)]: Done 1614 tasks      | elapsed:    7.4s\n",
      "[Parallel(n_jobs=93)]: Done 2264 tasks      | elapsed:   10.2s\n",
      "[Parallel(n_jobs=93)]: Done 3014 tasks      | elapsed:   13.6s\n",
      "[Parallel(n_jobs=93)]: Done 3864 tasks      | elapsed:   17.5s\n",
      "[Parallel(n_jobs=93)]: Done 4814 tasks      | elapsed:   21.9s\n",
      "[Parallel(n_jobs=93)]: Done 5864 tasks      | elapsed:   26.5s\n",
      "[Parallel(n_jobs=93)]: Done 7014 tasks      | elapsed:   31.8s\n",
      "[Parallel(n_jobs=93)]: Done 7745 out of 7745 | elapsed:   36.2s finished\n",
      "... storing 'memento_group' as categorical\n"
     ]
    },
    {
     "name": "stdout",
     "output_type": "stream",
     "text": [
      "starting BC 24 gamma\n"
     ]
    },
    {
     "name": "stderr",
     "output_type": "stream",
     "text": [
      "/home/ssm-user/anaconda3/envs/single_cell/lib/python3.8/site-packages/pandas/core/arrays/categorical.py:2487: FutureWarning: The `inplace` parameter in pandas.Categorical.remove_unused_categories is deprecated and will be removed in a future version.\n",
      "  res = method(*args, **kwargs)\n",
      "[Parallel(n_jobs=93)]: Using backend LokyBackend with 93 concurrent workers.\n",
      "[Parallel(n_jobs=93)]: Done  14 tasks      | elapsed:    0.3s\n",
      "[Parallel(n_jobs=93)]: Done 264 tasks      | elapsed:    1.3s\n",
      "[Parallel(n_jobs=93)]: Done 614 tasks      | elapsed:    2.9s\n",
      "[Parallel(n_jobs=93)]: Done 1064 tasks      | elapsed:    4.9s\n",
      "[Parallel(n_jobs=93)]: Done 1614 tasks      | elapsed:    7.1s\n",
      "[Parallel(n_jobs=93)]: Done 2264 tasks      | elapsed:   10.1s\n",
      "[Parallel(n_jobs=93)]: Done 3014 tasks      | elapsed:   13.5s\n",
      "[Parallel(n_jobs=93)]: Done 3864 tasks      | elapsed:   17.2s\n",
      "[Parallel(n_jobs=93)]: Done 4814 tasks      | elapsed:   21.4s\n",
      "[Parallel(n_jobs=93)]: Done 5864 tasks      | elapsed:   26.2s\n",
      "[Parallel(n_jobs=93)]: Done 7014 tasks      | elapsed:   31.3s\n",
      "[Parallel(n_jobs=93)]: Done 7849 out of 7849 | elapsed:   36.3s finished\n",
      "... storing 'memento_group' as categorical\n"
     ]
    },
    {
     "name": "stdout",
     "output_type": "stream",
     "text": [
      "starting BC 24 lambda\n"
     ]
    },
    {
     "name": "stderr",
     "output_type": "stream",
     "text": [
      "/home/ssm-user/anaconda3/envs/single_cell/lib/python3.8/site-packages/pandas/core/arrays/categorical.py:2487: FutureWarning: The `inplace` parameter in pandas.Categorical.remove_unused_categories is deprecated and will be removed in a future version.\n",
      "  res = method(*args, **kwargs)\n",
      "[Parallel(n_jobs=93)]: Using backend LokyBackend with 93 concurrent workers.\n",
      "[Parallel(n_jobs=93)]: Done  14 tasks      | elapsed:    0.3s\n",
      "[Parallel(n_jobs=93)]: Done 264 tasks      | elapsed:    1.4s\n",
      "[Parallel(n_jobs=93)]: Done 614 tasks      | elapsed:    3.0s\n",
      "[Parallel(n_jobs=93)]: Done 1064 tasks      | elapsed:    5.0s\n",
      "[Parallel(n_jobs=93)]: Done 1614 tasks      | elapsed:    7.6s\n",
      "[Parallel(n_jobs=93)]: Done 2264 tasks      | elapsed:   10.8s\n",
      "[Parallel(n_jobs=93)]: Done 3014 tasks      | elapsed:   15.3s\n",
      "[Parallel(n_jobs=93)]: Done 3864 tasks      | elapsed:   19.2s\n",
      "[Parallel(n_jobs=93)]: Done 4814 tasks      | elapsed:   23.8s\n",
      "[Parallel(n_jobs=93)]: Done 5864 tasks      | elapsed:   28.7s\n",
      "[Parallel(n_jobs=93)]: Done 7014 tasks      | elapsed:   34.8s\n",
      "[Parallel(n_jobs=93)]: Done 8065 out of 8065 | elapsed:   40.7s finished\n",
      "... storing 'memento_group' as categorical\n"
     ]
    },
    {
     "name": "stdout",
     "output_type": "stream",
     "text": [
      "starting BC 48 alpha\n"
     ]
    },
    {
     "name": "stderr",
     "output_type": "stream",
     "text": [
      "/home/ssm-user/anaconda3/envs/single_cell/lib/python3.8/site-packages/pandas/core/arrays/categorical.py:2487: FutureWarning: The `inplace` parameter in pandas.Categorical.remove_unused_categories is deprecated and will be removed in a future version.\n",
      "  res = method(*args, **kwargs)\n",
      "[Parallel(n_jobs=93)]: Using backend LokyBackend with 93 concurrent workers.\n",
      "[Parallel(n_jobs=93)]: Done  14 tasks      | elapsed:    0.3s\n",
      "[Parallel(n_jobs=93)]: Done 264 tasks      | elapsed:    1.4s\n",
      "[Parallel(n_jobs=93)]: Done 614 tasks      | elapsed:    3.2s\n",
      "[Parallel(n_jobs=93)]: Done 1064 tasks      | elapsed:    5.3s\n",
      "[Parallel(n_jobs=93)]: Done 1614 tasks      | elapsed:    8.0s\n",
      "[Parallel(n_jobs=93)]: Done 2264 tasks      | elapsed:   11.1s\n",
      "[Parallel(n_jobs=93)]: Done 3014 tasks      | elapsed:   14.7s\n",
      "[Parallel(n_jobs=93)]: Done 3864 tasks      | elapsed:   18.8s\n",
      "[Parallel(n_jobs=93)]: Done 4814 tasks      | elapsed:   23.4s\n",
      "[Parallel(n_jobs=93)]: Done 5864 tasks      | elapsed:   28.5s\n",
      "[Parallel(n_jobs=93)]: Done 7014 tasks      | elapsed:   34.0s\n",
      "[Parallel(n_jobs=93)]: Done 7793 out of 7793 | elapsed:   38.9s finished\n",
      "... storing 'memento_group' as categorical\n"
     ]
    },
    {
     "name": "stdout",
     "output_type": "stream",
     "text": [
      "starting BC 48 beta\n"
     ]
    },
    {
     "name": "stderr",
     "output_type": "stream",
     "text": [
      "/home/ssm-user/anaconda3/envs/single_cell/lib/python3.8/site-packages/pandas/core/arrays/categorical.py:2487: FutureWarning: The `inplace` parameter in pandas.Categorical.remove_unused_categories is deprecated and will be removed in a future version.\n",
      "  res = method(*args, **kwargs)\n",
      "[Parallel(n_jobs=93)]: Using backend LokyBackend with 93 concurrent workers.\n",
      "[Parallel(n_jobs=93)]: Done  14 tasks      | elapsed:    0.3s\n",
      "[Parallel(n_jobs=93)]: Done 264 tasks      | elapsed:    1.3s\n",
      "[Parallel(n_jobs=93)]: Done 614 tasks      | elapsed:    2.9s\n",
      "[Parallel(n_jobs=93)]: Done 1064 tasks      | elapsed:    4.9s\n",
      "[Parallel(n_jobs=93)]: Done 1614 tasks      | elapsed:    7.3s\n",
      "[Parallel(n_jobs=93)]: Done 2264 tasks      | elapsed:   10.3s\n",
      "[Parallel(n_jobs=93)]: Done 3014 tasks      | elapsed:   13.7s\n",
      "[Parallel(n_jobs=93)]: Done 3864 tasks      | elapsed:   17.5s\n",
      "[Parallel(n_jobs=93)]: Done 4814 tasks      | elapsed:   22.0s\n",
      "[Parallel(n_jobs=93)]: Done 5864 tasks      | elapsed:   26.6s\n",
      "[Parallel(n_jobs=93)]: Done 7014 tasks      | elapsed:   32.0s\n",
      "[Parallel(n_jobs=93)]: Done 7567 out of 7567 | elapsed:   35.8s finished\n",
      "... storing 'memento_group' as categorical\n"
     ]
    },
    {
     "name": "stdout",
     "output_type": "stream",
     "text": [
      "starting BC 48 gamma\n"
     ]
    },
    {
     "name": "stderr",
     "output_type": "stream",
     "text": [
      "/home/ssm-user/anaconda3/envs/single_cell/lib/python3.8/site-packages/pandas/core/arrays/categorical.py:2487: FutureWarning: The `inplace` parameter in pandas.Categorical.remove_unused_categories is deprecated and will be removed in a future version.\n",
      "  res = method(*args, **kwargs)\n",
      "[Parallel(n_jobs=93)]: Using backend LokyBackend with 93 concurrent workers.\n",
      "[Parallel(n_jobs=93)]: Done  14 tasks      | elapsed:    0.3s\n",
      "[Parallel(n_jobs=93)]: Done 264 tasks      | elapsed:    1.3s\n",
      "[Parallel(n_jobs=93)]: Done 614 tasks      | elapsed:    2.9s\n",
      "[Parallel(n_jobs=93)]: Done 1064 tasks      | elapsed:    4.9s\n",
      "[Parallel(n_jobs=93)]: Done 1614 tasks      | elapsed:    7.2s\n",
      "[Parallel(n_jobs=93)]: Done 2264 tasks      | elapsed:   10.1s\n",
      "[Parallel(n_jobs=93)]: Done 3014 tasks      | elapsed:   13.4s\n",
      "[Parallel(n_jobs=93)]: Done 3864 tasks      | elapsed:   17.2s\n",
      "[Parallel(n_jobs=93)]: Done 4814 tasks      | elapsed:   21.4s\n",
      "[Parallel(n_jobs=93)]: Done 5864 tasks      | elapsed:   26.1s\n",
      "[Parallel(n_jobs=93)]: Done 7014 tasks      | elapsed:   31.3s\n",
      "[Parallel(n_jobs=93)]: Done 8119 out of 8119 | elapsed:   37.1s finished\n",
      "... storing 'memento_group' as categorical\n"
     ]
    },
    {
     "name": "stdout",
     "output_type": "stream",
     "text": [
      "starting BC 48 lambda\n"
     ]
    },
    {
     "name": "stderr",
     "output_type": "stream",
     "text": [
      "/home/ssm-user/anaconda3/envs/single_cell/lib/python3.8/site-packages/pandas/core/arrays/categorical.py:2487: FutureWarning: The `inplace` parameter in pandas.Categorical.remove_unused_categories is deprecated and will be removed in a future version.\n",
      "  res = method(*args, **kwargs)\n",
      "[Parallel(n_jobs=93)]: Using backend LokyBackend with 93 concurrent workers.\n",
      "[Parallel(n_jobs=93)]: Done  14 tasks      | elapsed:    0.3s\n",
      "[Parallel(n_jobs=93)]: Done 264 tasks      | elapsed:    1.3s\n",
      "[Parallel(n_jobs=93)]: Done 614 tasks      | elapsed:    2.8s\n",
      "[Parallel(n_jobs=93)]: Done 1064 tasks      | elapsed:    4.8s\n",
      "[Parallel(n_jobs=93)]: Done 1614 tasks      | elapsed:    7.1s\n",
      "[Parallel(n_jobs=93)]: Done 2264 tasks      | elapsed:    9.9s\n",
      "[Parallel(n_jobs=93)]: Done 3014 tasks      | elapsed:   13.2s\n",
      "[Parallel(n_jobs=93)]: Done 3864 tasks      | elapsed:   16.9s\n",
      "[Parallel(n_jobs=93)]: Done 4814 tasks      | elapsed:   21.2s\n",
      "[Parallel(n_jobs=93)]: Done 5864 tasks      | elapsed:   25.8s\n",
      "[Parallel(n_jobs=93)]: Done 7014 tasks      | elapsed:   31.0s\n",
      "[Parallel(n_jobs=93)]: Done 7890 out of 7890 | elapsed:   35.9s finished\n",
      "... storing 'memento_group' as categorical\n"
     ]
    }
   ],
   "source": [
    "for ct in cts:\n",
    "    for tp in tps:\n",
    "        for stim in stims:\n",
    "            \n",
    "            fname = '{}_{}_{}.h5ad'.format('-'.join(ct), stim, tp)\n",
    "            \n",
    "            if fname in done_files:\n",
    "                print('Skipping', fname)\n",
    "                continue\n",
    "\n",
    "            print('starting', ct, tp, stim)\n",
    "\n",
    "            adata_stim = adata.copy()[\n",
    "                adata.obs.ct.isin([ct]) & \\\n",
    "                adata.obs.stim.isin(['control', stim]) & \\\n",
    "                adata.obs.time.isin(['0',tp]), :].copy()\n",
    "            time_converter={0:0, int(tp):1}\n",
    "            adata_stim.obs['time_step'] = adata_stim.obs['time'].astype(int).apply(lambda x: time_converter[x])\n",
    "\n",
    "            memento.create_groups(adata_stim, label_columns=['time_step', 'donor'])\n",
    "            memento.compute_1d_moments(adata_stim, min_perc_group=.9)\n",
    "\n",
    "            memento.ht_1d_moments(\n",
    "                adata_stim, \n",
    "                formula_like='1 + time_step + donor',\n",
    "                treatment_col='time_step', \n",
    "                num_boot=10000, \n",
    "                verbose=1,\n",
    "                num_cpus=93,\n",
    "                resampling='permutation',\n",
    "                approx=True)\n",
    "\n",
    "            adata_stim.write(data_path + 'binary_test_latest/{}_{}_{}.h5ad'.format(ct, stim, tp))"
   ]
  },
  {
   "cell_type": "code",
   "execution_count": null,
   "metadata": {},
   "outputs": [],
   "source": []
  }
 ],
 "metadata": {
  "kernelspec": {
   "display_name": "Python 3",
   "language": "python",
   "name": "python3"
  },
  "language_info": {
   "codemirror_mode": {
    "name": "ipython",
    "version": 3
   },
   "file_extension": ".py",
   "mimetype": "text/x-python",
   "name": "python",
   "nbconvert_exporter": "python",
   "pygments_lexer": "ipython3",
   "version": "3.8.8"
  }
 },
 "nbformat": 4,
 "nbformat_minor": 4
}
