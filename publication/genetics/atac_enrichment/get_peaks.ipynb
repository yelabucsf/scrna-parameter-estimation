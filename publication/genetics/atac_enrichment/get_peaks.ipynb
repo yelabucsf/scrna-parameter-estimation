{
 "cells": [
  {
   "cell_type": "markdown",
   "id": "9756fa2d",
   "metadata": {},
   "source": [
    "### ATAC enrichment"
   ]
  },
  {
   "cell_type": "code",
   "execution_count": 1,
   "id": "d5452c84",
   "metadata": {},
   "outputs": [
    {
     "name": "stderr",
     "output_type": "stream",
     "text": [
      "\n",
      "\n",
      "######################\n",
      "#### bedr v1.0.7 ####\n",
      "######################\n",
      "\n",
      "checking binary availability...\n",
      "  * Checking path for bedtools... PASS\n",
      "    /home/ssm-user/anaconda3/envs/single_cell/bin/bedtools\n",
      "  * Checking path for bedops... PASS\n",
      "    /usr/bin/bedops\n",
      "  * Checking path for tabix... PASS\n",
      "    /usr/bin/tabix\n",
      "tests and examples will be skipped on R CMD check if binaries are missing\n",
      "\n",
      "\n"
     ]
    }
   ],
   "source": [
    "library(data.table)\n",
    "# library(qvalue)\n",
    "library(bedr)\n",
    "options(scipen = 999)"
   ]
  },
  {
   "cell_type": "code",
   "execution_count": null,
   "id": "fa4535e1",
   "metadata": {},
   "outputs": [],
   "source": [
    "library(data.table)\n",
    "library(qvalue)\n",
    "library(bedr)\n",
    "options(scipen = 999)\n",
    "\n",
    "for (method in c('memento', 'mateqtl')){\n",
    "    for (pop in c('eur', 'asian')){\n",
    "        for (ct in c('B', 'cM', 'ncM', 'T8', 'T4','NK')){\n",
    "\n",
    "            # args=commandArgs(TRUE)\n",
    "            if (method == 'memento'){\n",
    "                res_raw=data.frame(fread(paste('/data_volume/memento/lupus/full_analysis/memento/100kb/', pop, '_',ct, '.csv', sep='')))\n",
    "\t\t\t\tcolnames(res_raw)=c('SNP', 'gene','statistic', 'p.value', 'FDR',  'beta')\n",
    "            }\n",
    "            if (method == 'mateqtl'){\n",
    "                res_raw=data.frame(fread(paste('/data_volume/memento/lupus/full_analysis/mateqtl/outputs/', pop, '_',ct, '_all_hg19.csv', sep='')))\n",
    "\t\t\t\tcolnames(res_raw)=c('SNP', 'gene', 'beta','statistic', 'p.value', 'FDR')\n",
    "            }\n",
    "\n",
    "            res=res_raw\n",
    "            atac=fread('/data_volume/memento/lupus/atac_enrichment/sorted_simple_atac_lineage_groups3.bed.gz')\n",
    "\t\t\t\n",
    "            atac.groups=names(table(atac$group))\n",
    "\n",
    "            res$chr=paste('chr', sapply(strsplit(res$SNP, ':'), '[', 1), sep='')\n",
    "            res$pos=as.numeric(sapply(strsplit(res$SNP, ':'), '[', 2))\n",
    "\n",
    "            res$id=paste(res$chr, ':', res$pos -1, '-' ,res$pos, sep='')\n",
    "            res.bed.sorted=bedr.sort.region(unique(paste(res$chr, ':', res$pos -1, '-' ,res$pos, sep='')))\n",
    "\n",
    "            for(g in c('B', 'T', 'myeloid', 'nk')){\n",
    "                print(paste(method, pop, ct, g, sep='-'))\n",
    "                peaks=atac[which(atac$group == g), ]\n",
    "                peaks=paste(peaks$chr, ':', peaks$start, '-', peaks$stop, sep='')\n",
    "                overlap.sig.snps=bedr(input=list(a=res.bed.sorted, b=peaks), method='intersect')\n",
    "                in_peak=as.numeric(res.bed.sorted %in% overlap.sig.snps)\n",
    "\t\t\t\tidx = match(res.bed.sorted, res$id)\n",
    "                pv=res$p.value[idx]\n",
    "\t\t\t\tsnp=res$SNP[idx]\n",
    "\t\t\t\tgene=res$gene[idx]\n",
    "\t\t\t\tbeta=res$beta[idx]\n",
    "\t\t\t\tstat=res$statistic[idx]\n",
    "                write.table(\n",
    "                    cbind(snp, gene, beta, stat, pv, in_peak),\n",
    "                    file=paste('/data_volume/memento/lupus/atac_enrichment/peaks/', method, '/',pop, '_',ct, '_', g,'.txt', sep=''), \n",
    "                    row.names=F, col.names=T, quote=F, sep='\\t')\n",
    "\n",
    "            }\n",
    "        }\n",
    "    }\n",
    "}"
   ]
  }
 ],
 "metadata": {
  "kernelspec": {
   "display_name": "R",
   "language": "R",
   "name": "ir"
  },
  "language_info": {
   "codemirror_mode": "r",
   "file_extension": ".r",
   "mimetype": "text/x-r-source",
   "name": "R",
   "pygments_lexer": "r",
   "version": "4.0.5"
  }
 },
 "nbformat": 4,
 "nbformat_minor": 5
}
