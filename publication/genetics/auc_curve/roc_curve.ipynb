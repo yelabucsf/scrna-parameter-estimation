{
 "cells": [
  {
   "cell_type": "markdown",
   "id": "966514e7",
   "metadata": {},
   "source": [
    "# Memento 1K1K validation"
   ]
  },
  {
   "cell_type": "code",
   "execution_count": 2,
   "id": "78891e92",
   "metadata": {},
   "outputs": [],
   "source": [
    "import scanpy as sc\n",
    "import seaborn as sns\n",
    "import pandas as pd\n",
    "import matplotlib.pyplot as plt\n",
    "import numpy as np\n",
    "import scipy.stats as stats\n",
    "import itertools\n",
    "from pybedtools import BedTool\n",
    "import statsmodels.formula.api as smf\n",
    "import statsmodels.api as sm\n",
    "import sklearn.linear_model as lm\n",
    "\n",
    "import os\n",
    "import pickle as pkl\n",
    "%matplotlib inline\n",
    "# import qvalue"
   ]
  },
  {
   "cell_type": "code",
   "execution_count": 3,
   "id": "d728b8dd",
   "metadata": {},
   "outputs": [],
   "source": [
    "import imp"
   ]
  },
  {
   "cell_type": "code",
   "execution_count": 4,
   "id": "d9b35903",
   "metadata": {},
   "outputs": [],
   "source": [
    "import sys\n",
    "sys.path.append('/home/ssm-user/Github/scrna-parameter-estimation/dist/memento-0.0.8-py3.8.egg')\n",
    "sys.path.append('/home/ssm-user/Github/misc-seq/miscseq/')\n",
    "import encode\n",
    "import memento"
   ]
  },
  {
   "cell_type": "code",
   "execution_count": 5,
   "id": "3aa6d88f",
   "metadata": {},
   "outputs": [],
   "source": [
    "import matplotlib as mpl\n",
    "mpl.rcParams['pdf.fonttype'] = 42\n",
    "mpl.rcParams['ps.fonttype'] = 42\n",
    "plt.rcParams[\"axes.prop_cycle\"] = plt.cycler(\"color\", ['turquoise', 'silver', 'slategrey'])\n",
    "\n",
    "\n",
    "import matplotlib.pylab as pylab\n",
    "params = {'legend.fontsize': 'large',\n",
    "         'axes.labelsize': 'medium',\n",
    "         'axes.titlesize':'medium',\n",
    "         'figure.titlesize':'medium',\n",
    "         'xtick.labelsize':'large',\n",
    "         'ytick.labelsize':'large'}\n",
    "pylab.rcParams.update(params)\n"
   ]
  },
  {
   "cell_type": "code",
   "execution_count": 6,
   "id": "b80f7bd8",
   "metadata": {},
   "outputs": [],
   "source": [
    "from sklearn.metrics import auc"
   ]
  },
  {
   "cell_type": "code",
   "execution_count": 7,
   "id": "2e7fa2c8",
   "metadata": {},
   "outputs": [],
   "source": [
    "data_path  = '/data_volume/memento/lupus/'"
   ]
  },
  {
   "cell_type": "markdown",
   "id": "90fa2990",
   "metadata": {},
   "source": [
    "### Read OneK labels"
   ]
  },
  {
   "cell_type": "code",
   "execution_count": 8,
   "id": "14f3b48a",
   "metadata": {},
   "outputs": [],
   "source": [
    "# Read the OneK result\n",
    "onek_replication = pd.read_csv(data_path + 'filtered_onek_eqtls.csv')"
   ]
  },
  {
   "cell_type": "code",
   "execution_count": 9,
   "id": "bcbb1b30",
   "metadata": {},
   "outputs": [],
   "source": [
    "cts = onek_replication.cg_cov.drop_duplicates().tolist()"
   ]
  },
  {
   "cell_type": "markdown",
   "id": "cf8dd9ac",
   "metadata": {},
   "source": [
    "### Read full results and compute power"
   ]
  },
  {
   "cell_type": "code",
   "execution_count": 10,
   "id": "c22548b6",
   "metadata": {},
   "outputs": [],
   "source": [
    "thresh_list = np.linspace(0, 1, 100)"
   ]
  },
  {
   "cell_type": "code",
   "execution_count": null,
   "id": "97104990",
   "metadata": {},
   "outputs": [],
   "source": [
    "power = []\n",
    "power_fdr = []\n",
    "for pop in ['asian', 'eur']:\n",
    "    for ct in cts:\n",
    "        print(pop, ct)\n",
    "        mem = pd.read_table(data_path + 'full_analysis/memento/100kb/{}_{}.csv'.format(pop, ct), sep=',')\n",
    "        meq = pd.read_table(data_path + 'full_analysis/mateqtl/outputs/{}_{}_all_hg19.csv'.format(pop, ct), sep='\\t')\n",
    "        \n",
    "        mem['fdr'] =memento.util._fdrcorrect(mem['p-value'])\n",
    "        meq['fdr'] =memento.util._fdrcorrect(meq['p-value'])\n",
    "        ground_truth = onek_replication.query('cg_cov == \"{}\"'.format(ct))[['gene', 'rsid']]\\\n",
    "            .rename(columns={'rsid':'SNP'})\n",
    "        mem = mem.merge(ground_truth, on=['gene', 'SNP'])\n",
    "        meq = meq.merge(ground_truth, on=['gene', 'SNP'])\n",
    "        for thresh in thresh_list:\n",
    "            power.append((pop, ct, 'mem', thresh, (mem['p-value'] < thresh).mean()  ))\n",
    "            power.append((pop, ct, 'meq', thresh, (meq['p-value'] < thresh).mean()  ))\n",
    "            power_fdr.append((pop, ct, 'mem', thresh, (mem['fdr'] < thresh).mean(), (mem['fdr'] < thresh).sum()  ))\n",
    "            power_fdr.append((pop, ct, 'meq', thresh, (meq['fdr'] < thresh).mean(),  (meq['fdr'] < thresh).sum() ))\n",
    "power = pd.DataFrame(power, columns=['pop', 'ct', 'method', 'thresh','power'])\n",
    "power_fdr = pd.DataFrame(power_fdr, columns=['pop', 'ct', 'method', 'thresh','power', 'recover_count'])"
   ]
  },
  {
   "cell_type": "code",
   "execution_count": 12,
   "id": "521a0642",
   "metadata": {},
   "outputs": [
    {
     "name": "stdout",
     "output_type": "stream",
     "text": [
      "asian B\n",
      "asian T8\n",
      "asian T4\n",
      "asian NK\n",
      "asian cM\n",
      "asian ncM\n",
      "eur B\n",
      "eur T8\n",
      "eur T4\n",
      "eur NK\n",
      "eur cM\n",
      "eur ncM\n"
     ]
    }
   ],
   "source": [
    "power = []\n",
    "power_fdr = []\n",
    "for pop in ['asian', 'eur']:\n",
    "    for ct in cts:\n",
    "        print(pop, ct)\n",
    "        mem = pd.read_table(data_path + 'full_analysis/memento/100kb/{}_{}.csv'.format(pop, ct), sep=',')\n",
    "        meq = pd.read_table(data_path + 'full_analysis/mateqtl/outputs/{}_{}_all_hg19.csv'.format(pop, ct), sep='\\t')\n",
    "        \n",
    "        mem['fdr'] =memento.util._fdrcorrect(mem['p-value'])\n",
    "        meq['fdr'] =memento.util._fdrcorrect(meq['p-value'])\n",
    "        ground_truth = onek_replication.query('cg_cov == \"{}\"'.format(ct))[['gene', 'rsid']]\\\n",
    "            .rename(columns={'rsid':'SNP'})\n",
    "        ground_truth['onek1k'] = True\n",
    "        mem = mem.merge(ground_truth, on=['gene', 'SNP'], how='left').fillna(False)\n",
    "        meq = meq.merge(ground_truth, on=['gene', 'SNP'], how='left').fillna(False)\n",
    "        for thresh in thresh_list:\n",
    "            power.append((pop, ct, 'mem', thresh, (mem.query('onek1k')['p-value'] < thresh).mean()  ))\n",
    "            power.append((pop, ct, 'meq', thresh, (meq.query('onek1k')['p-value'] < thresh).mean()  ))\n",
    "            power_fdr.append((pop, ct, 'mem', thresh, (mem.query('onek1k')['fdr'] < thresh).mean(), (mem.query('onek1k')['fdr'] < thresh).sum(),  1-mem.query('fdr < {}'.format(thresh))['onek1k'].mean() ))\n",
    "            power_fdr.append((pop, ct, 'meq', thresh, (meq.query('onek1k')['fdr'] < thresh).mean(),  (meq.query('onek1k')['fdr'] < thresh).sum(), 1-meq.query('fdr < {}'.format(thresh))['onek1k'].mean() ))\n",
    "\n",
    "power = pd.DataFrame(power, columns=['pop', 'ct', 'method', 'thresh','power'])\n",
    "power_fdr = pd.DataFrame(power_fdr, columns=['pop', 'ct', 'method', 'thresh','power', 'recover_count', 'fdr'])"
   ]
  },
  {
   "cell_type": "code",
   "execution_count": 13,
   "id": "3644cab1",
   "metadata": {},
   "outputs": [
    {
     "data": {
      "text/plain": [
       "pop    method\n",
       "asian  mem       1606\n",
       "       meq        855\n",
       "eur    mem       1778\n",
       "       meq        958\n",
       "Name: recover_count, dtype: int64"
      ]
     },
     "execution_count": 13,
     "metadata": {},
     "output_type": "execute_result"
    }
   ],
   "source": [
    "power_fdr.query('thresh < 0.055 & thresh > 0.05').groupby(['pop', 'method'])['recover_count'].sum()"
   ]
  },
  {
   "cell_type": "markdown",
   "id": "a98d61c7",
   "metadata": {},
   "source": [
    "### Read shuffled results and compute FPR"
   ]
  },
  {
   "cell_type": "code",
   "execution_count": 14,
   "id": "ad6c0def",
   "metadata": {},
   "outputs": [
    {
     "name": "stdout",
     "output_type": "stream",
     "text": [
      "B\n",
      "T8\n",
      "T4\n",
      "NK\n",
      "cM\n",
      "ncM\n"
     ]
    }
   ],
   "source": [
    "fpr = []\n",
    "# fdr = []\n",
    "for ct in cts:\n",
    "    print(ct)\n",
    "    meq = pd.read_csv(data_path + 'mateqtl_output/{}_filtered_shuffled.out'.format(ct), sep='\\t')\n",
    "    mem = pd.read_csv(data_path + 'memento_1k/{}_shuffled.csv'.format(ct))\n",
    "    mem['fdr'] =memento.util._fdrcorrect(mem['de_pval'])\n",
    "    meq['fdr'] =memento.util._fdrcorrect(meq['p-value'])\n",
    "    merged = mem.rename(columns={'tx':'SNP'}).merge(meq, on=['SNP', 'gene'])\n",
    "    \n",
    "    for thresh in thresh_list:\n",
    "        fpr.append((ct, 'mem', thresh,mem.query('de_pval < {}'.format(thresh)).shape[0]/mem.shape[0]))\n",
    "        fpr.append((ct, 'meq', thresh,merged[merged['p-value']<thresh].shape[0]/merged.shape[0]))\n",
    "#         fdr.append((ct, 'mem', thresh,mem.query('de_pval < {}'.format(thresh)).shape[0]/mem.shape[0]))\n",
    "#         fdr.append((ct, 'meq', thresh,merged[merged['p-value']<thresh].shape[0]/merged.shape[0]))\n",
    "fpr = pd.DataFrame(fpr, columns=['ct', 'method', 'thresh','fpr'])   "
   ]
  },
  {
   "cell_type": "markdown",
   "id": "e2832d29",
   "metadata": {},
   "source": [
    "### Combine power and FPR"
   ]
  },
  {
   "cell_type": "code",
   "execution_count": 20,
   "id": "c00aece3",
   "metadata": {},
   "outputs": [],
   "source": [
    "roc_curve = power_fdr.merge(fpr, on=['ct', 'method', 'thresh']).sort_values(['pop', 'ct', 'method', 'thresh'])\n",
    "roc_curve = roc_curve.groupby(['pop','method','thresh'])[['power', 'fpr']].mean().reset_index()"
   ]
  },
  {
   "cell_type": "code",
   "execution_count": 21,
   "id": "ba519bb7",
   "metadata": {},
   "outputs": [],
   "source": [
    "roc_curve = roc_curve.groupby(['pop','method','thresh'])[['power', 'fpr']].mean().reset_index()"
   ]
  },
  {
   "cell_type": "code",
   "execution_count": 22,
   "id": "84ca7e82",
   "metadata": {},
   "outputs": [
    {
     "data": {
      "text/plain": [
       "[<matplotlib.lines.Line2D at 0x7f3fce693610>]"
      ]
     },
     "execution_count": 22,
     "metadata": {},
     "output_type": "execute_result"
    },
    {
     "data": {
      "image/png": "[encoded data removed]",
      "text/plain": [
       "<Figure size 432x288 with 1 Axes>"
      ]
     },
     "metadata": {
      "needs_background": "light"
     },
     "output_type": "display_data"
    }
   ],
   "source": [
    "plt.plot(thresh_list, roc_curve.query('pop == \"{}\" & method == \"mem\"'.format(pop))['fpr'])\n",
    "plt.plot(thresh_list, roc_curve.query('pop == \"{}\" & method == \"meq\"'.format(pop))['fpr'])\n",
    "plt.plot([0, 1], [0, 1])"
   ]
  },
  {
   "cell_type": "code",
   "execution_count": 25,
   "id": "2dc6793b",
   "metadata": {},
   "outputs": [
    {
     "data": {
      "text/html": [
       "<div>\n",
       "<style scoped>\n",
       "    .dataframe tbody tr th:only-of-type {\n",
       "        vertical-align: middle;\n",
       "    }\n",
       "\n",
       "    .dataframe tbody tr th {\n",
       "        vertical-align: top;\n",
       "    }\n",
       "\n",
       "    .dataframe thead th {\n",
       "        text-align: right;\n",
       "    }\n",
       "</style>\n",
       "<table border=\"1\" class=\"dataframe\">\n",
       "  <thead>\n",
       "    <tr style=\"text-align: right;\">\n",
       "      <th></th>\n",
       "      <th>pop</th>\n",
       "      <th>ct</th>\n",
       "      <th>method</th>\n",
       "      <th>thresh</th>\n",
       "      <th>power</th>\n",
       "      <th>recover_count</th>\n",
       "      <th>fdr</th>\n",
       "    </tr>\n",
       "  </thead>\n",
       "  <tbody>\n",
       "    <tr>\n",
       "      <th>0</th>\n",
       "      <td>asian</td>\n",
       "      <td>B</td>\n",
       "      <td>mem</td>\n",
       "      <td>0.000000</td>\n",
       "      <td>0.000000</td>\n",
       "      <td>0</td>\n",
       "      <td>NaN</td>\n",
       "    </tr>\n",
       "    <tr>\n",
       "      <th>1</th>\n",
       "      <td>asian</td>\n",
       "      <td>B</td>\n",
       "      <td>meq</td>\n",
       "      <td>0.000000</td>\n",
       "      <td>0.000000</td>\n",
       "      <td>0</td>\n",
       "      <td>NaN</td>\n",
       "    </tr>\n",
       "    <tr>\n",
       "      <th>2</th>\n",
       "      <td>asian</td>\n",
       "      <td>B</td>\n",
       "      <td>mem</td>\n",
       "      <td>0.010101</td>\n",
       "      <td>0.282548</td>\n",
       "      <td>204</td>\n",
       "      <td>0.985795</td>\n",
       "    </tr>\n",
       "    <tr>\n",
       "      <th>3</th>\n",
       "      <td>asian</td>\n",
       "      <td>B</td>\n",
       "      <td>meq</td>\n",
       "      <td>0.010101</td>\n",
       "      <td>0.127072</td>\n",
       "      <td>92</td>\n",
       "      <td>0.974143</td>\n",
       "    </tr>\n",
       "    <tr>\n",
       "      <th>4</th>\n",
       "      <td>asian</td>\n",
       "      <td>B</td>\n",
       "      <td>mem</td>\n",
       "      <td>0.020202</td>\n",
       "      <td>0.317175</td>\n",
       "      <td>229</td>\n",
       "      <td>0.986701</td>\n",
       "    </tr>\n",
       "  </tbody>\n",
       "</table>\n",
       "</div>"
      ],
      "text/plain": [
       "     pop ct method    thresh     power  recover_count       fdr\n",
       "0  asian  B    mem  0.000000  0.000000              0       NaN\n",
       "1  asian  B    meq  0.000000  0.000000              0       NaN\n",
       "2  asian  B    mem  0.010101  0.282548            204  0.985795\n",
       "3  asian  B    meq  0.010101  0.127072             92  0.974143\n",
       "4  asian  B    mem  0.020202  0.317175            229  0.986701"
      ]
     },
     "execution_count": 25,
     "metadata": {},
     "output_type": "execute_result"
    }
   ],
   "source": [
    "power_fdr.head(5)"
   ]
  },
  {
   "cell_type": "code",
   "execution_count": 24,
   "id": "74fb325e",
   "metadata": {},
   "outputs": [
    {
     "name": "stdout",
     "output_type": "stream",
     "text": [
      "0.6507786186729476\n",
      "0.5038497885573852\n"
     ]
    },
    {
     "data": {
      "image/png": "[encoded data removed]",
      "text/plain": [
       "<Figure size 216x144 with 1 Axes>"
      ]
     },
     "metadata": {
      "needs_background": "light"
     },
     "output_type": "display_data"
    }
   ],
   "source": [
    "plt.figure(figsize=(3,2))\n",
    "pop = 'asian'\n",
    "data = roc_curve.query('pop == \"{}\" & method == \"mem\"'.format(pop))\n",
    "plt.plot(thresh_list, data['power'], lw=3)\n",
    "print(auc(thresh_list, data['power']))\n",
    "data = roc_curve.query('pop == \"{}\" & method == \"meq\"'.format(pop))\n",
    "plt.plot(thresh_list, data['power'], lw=3)\n",
    "print(auc(thresh_list, data['power']))\n",
    "plt.plot([0.05, 0.05], [0.3, 1], '--',color='grey')\n",
    "# plt.ylim(0.4, 1)\n",
    "# plt.xlim(-0.03, 0.9)\n",
    "plt.legend(['memento', 'pseudobulk'], frameon=False)\n",
    "plt.xlabel('False positive rate');\n",
    "plt.ylabel('Power')\n",
    "\n",
    "plt.savefig('roc_curve.pdf', bbox_inches='tight')"
   ]
  },
  {
   "cell_type": "code",
   "execution_count": 32,
   "id": "f7a26b58",
   "metadata": {},
   "outputs": [
    {
     "ename": "NameError",
     "evalue": "name 'cmap' is not defined",
     "output_type": "error",
     "traceback": [
      "\u001b[0;31m---------------------------------------------------------------------------\u001b[0m",
      "\u001b[0;31mNameError\u001b[0m                                 Traceback (most recent call last)",
      "Input \u001b[0;32mIn [32]\u001b[0m, in \u001b[0;36m<cell line: 4>\u001b[0;34m()\u001b[0m\n\u001b[1;32m      2\u001b[0m pop \u001b[38;5;241m=\u001b[39m \u001b[38;5;124m'\u001b[39m\u001b[38;5;124meur\u001b[39m\u001b[38;5;124m'\u001b[39m\n\u001b[1;32m      3\u001b[0m data \u001b[38;5;241m=\u001b[39m roc_curve\u001b[38;5;241m.\u001b[39mquery(\u001b[38;5;124m'\u001b[39m\u001b[38;5;124mpop == \u001b[39m\u001b[38;5;124m\"\u001b[39m\u001b[38;5;132;01m{}\u001b[39;00m\u001b[38;5;124m\"\u001b[39m\u001b[38;5;124m & method == \u001b[39m\u001b[38;5;124m\"\u001b[39m\u001b[38;5;124mmem\u001b[39m\u001b[38;5;124m\"\u001b[39m\u001b[38;5;124m'\u001b[39m\u001b[38;5;241m.\u001b[39mformat(pop))\n\u001b[0;32m----> 4\u001b[0m plt\u001b[38;5;241m.\u001b[39mplot(thresh_list, data[\u001b[38;5;124m'\u001b[39m\u001b[38;5;124mpower\u001b[39m\u001b[38;5;124m'\u001b[39m], color\u001b[38;5;241m=\u001b[39m\u001b[43mcmap\u001b[49m[\u001b[38;5;241m1\u001b[39m], lw\u001b[38;5;241m=\u001b[39m\u001b[38;5;241m3\u001b[39m)\n\u001b[1;32m      5\u001b[0m \u001b[38;5;28mprint\u001b[39m(auc(thresh_list, data[\u001b[38;5;124m'\u001b[39m\u001b[38;5;124mpower\u001b[39m\u001b[38;5;124m'\u001b[39m]))\n\u001b[1;32m      6\u001b[0m data \u001b[38;5;241m=\u001b[39m roc_curve\u001b[38;5;241m.\u001b[39mquery(\u001b[38;5;124m'\u001b[39m\u001b[38;5;124mpop == \u001b[39m\u001b[38;5;124m\"\u001b[39m\u001b[38;5;132;01m{}\u001b[39;00m\u001b[38;5;124m\"\u001b[39m\u001b[38;5;124m & method == \u001b[39m\u001b[38;5;124m\"\u001b[39m\u001b[38;5;124mmeq\u001b[39m\u001b[38;5;124m\"\u001b[39m\u001b[38;5;124m'\u001b[39m\u001b[38;5;241m.\u001b[39mformat(pop))\n",
      "\u001b[0;31mNameError\u001b[0m: name 'cmap' is not defined"
     ]
    },
    {
     "data": {
      "text/plain": [
       "<Figure size 216x144 with 0 Axes>"
      ]
     },
     "metadata": {},
     "output_type": "display_data"
    }
   ],
   "source": [
    "plt.figure(figsize=(3,2))\n",
    "pop = 'eur'\n",
    "data = roc_curve.query('pop == \"{}\" & method == \"mem\"'.format(pop))\n",
    "plt.plot(thresh_list, data['power'], color=cmap[1], lw=3)\n",
    "print(auc(thresh_list, data['power']))\n",
    "data = roc_curve.query('pop == \"{}\" & method == \"meq\"'.format(pop))\n",
    "plt.plot(thresh_list, data['power'], color=cmap[0], lw=3)\n",
    "print(auc(thresh_list, data['power']))\n",
    "plt.plot([0.05, 0.05], [0.3, 1], '--',color='grey')\n",
    "plt.ylim(0.4, 1)\n",
    "# plt.xlim(-0.03, 0.9)\n",
    "plt.legend(['Pseudobulk', 'memento'], frameon=False)\n",
    "plt.xlabel('False positive rate');\n",
    "plt.ylabel('Power')\n",
    "\n",
    "plt.savefig('roc_curve_eur.pdf', bbox_inches='tight')"
   ]
  },
  {
   "cell_type": "code",
   "execution_count": 9,
   "id": "105494e5",
   "metadata": {},
   "outputs": [],
   "source": [
    "# adata = sc.read(data_path + 'single_cell/{}.h5ad'.format(ct))\n",
    "# adata = adata[adata.obs.ind_cov.isin(asian_pos.columns)].copy()"
   ]
  },
  {
   "cell_type": "code",
   "execution_count": 10,
   "id": "48656d06",
   "metadata": {},
   "outputs": [
    {
     "name": "stderr",
     "output_type": "stream",
     "text": [
      "/home/ssm-user/anaconda3/envs/single_cell/lib/python3.8/site-packages/pandas/core/arrays/categorical.py:2631: FutureWarning: The `inplace` parameter in pandas.Categorical.remove_unused_categories is deprecated and will be removed in a future version.\n",
      "  res = method(*args, **kwargs)\n",
      "[Parallel(n_jobs=93)]: Using backend LokyBackend with 93 concurrent workers.\n",
      "[Parallel(n_jobs=93)]: Done  14 tasks      | elapsed:    5.4s\n",
      "[Parallel(n_jobs=93)]: Done 264 tasks      | elapsed:    8.7s\n",
      "[Parallel(n_jobs=93)]: Done 474 out of 474 | elapsed:   13.0s finished\n",
      "[Parallel(n_jobs=93)]: Using backend LokyBackend with 93 concurrent workers.\n",
      "[Parallel(n_jobs=93)]: Done  14 tasks      | elapsed:    0.6s\n",
      "[Parallel(n_jobs=93)]: Done 264 tasks      | elapsed:    4.5s\n",
      "[Parallel(n_jobs=93)]: Done 784 out of 784 | elapsed:   14.0s finished\n",
      "[Parallel(n_jobs=93)]: Using backend LokyBackend with 93 concurrent workers.\n",
      "[Parallel(n_jobs=93)]: Done  14 tasks      | elapsed:    0.6s\n",
      "[Parallel(n_jobs=93)]: Done 264 tasks      | elapsed:    4.2s\n",
      "[Parallel(n_jobs=93)]: Done 614 tasks      | elapsed:    9.6s\n",
      "[Parallel(n_jobs=93)]: Done 902 out of 902 | elapsed:   16.0s finished\n",
      "/home/ssm-user/Github/scrna-parameter-estimation/dist/memento-0.0.8-py3.8.egg/memento/estimator.py:106: RuntimeWarning: divide by zero encountered in log\n",
      "[Parallel(n_jobs=93)]: Using backend LokyBackend with 93 concurrent workers.\n",
      "[Parallel(n_jobs=93)]: Done  14 tasks      | elapsed:    0.6s\n",
      "[Parallel(n_jobs=93)]: Done 264 tasks      | elapsed:    4.1s\n",
      "[Parallel(n_jobs=93)]: Done 597 out of 597 | elapsed:    9.1s finished\n",
      "[Parallel(n_jobs=93)]: Using backend LokyBackend with 93 concurrent workers.\n",
      "[Parallel(n_jobs=93)]: Done  14 tasks      | elapsed:    0.7s\n",
      "[Parallel(n_jobs=93)]: Done 243 out of 243 | elapsed:    9.0s finished\n",
      "[Parallel(n_jobs=93)]: Using backend LokyBackend with 93 concurrent workers.\n",
      "[Parallel(n_jobs=93)]: Done  14 tasks      | elapsed:    0.7s\n",
      "[Parallel(n_jobs=93)]: Done 240 out of 240 | elapsed:    5.4s finished\n"
     ]
    }
   ],
   "source": [
    "# Run for asian population\n",
    "for ct in cts:\n",
    "    \n",
    "    adata = sc.read(data_path + 'single_cell/asian_{}.h5ad'.format(ct))\n",
    "    adata = adata[adata.obs.ind_cov.isin(asian_pos.columns)].copy()\n",
    "\n",
    "    adata.obs['capture_rate'] = 0.1\n",
    "    memento.setup_memento(adata, q_column='capture_rate', trim_percent=0.1, filter_mean_thresh=0.01)\n",
    "    adata.obs['memento_size_factor'] = 1.0\n",
    "    memento.create_groups(adata, label_columns=['ind_cov'])\n",
    "\n",
    "#     cov_df = covariates[['age', 'status','Female'] + [x for x in covariates.columns if '_g' in x or '_e' in x]].loc[[x[3:] for x in adata.uns['memento']['groups']]]\n",
    "    cov_df = asian_cov.loc[[x[3:] for x in adata.uns['memento']['groups']]]\n",
    "\n",
    "    donor_df = asian_pos[[x[3:] for x in adata.uns['memento']['groups']]].T\n",
    "    \n",
    "    gene_snp_pairs = onek_replication.query('cg_cov == \"{}\"'.format(ct))\n",
    "    memento.compute_1d_moments(adata, min_perc_group=.9, gene_list=gene_snp_pairs.gene.drop_duplicates().tolist())\n",
    "\n",
    "    gene_to_snp = dict(gene_snp_pairs[gene_snp_pairs.gene.isin(adata.var.index)].groupby('gene').rsid.apply(list))\n",
    "   \n",
    "    memento.ht_1d_moments(\n",
    "        adata, \n",
    "        covariate=cov_df,\n",
    "        treatment=donor_df,\n",
    "        treatment_for_gene=gene_to_snp,\n",
    "        num_boot=5000, \n",
    "        verbose=1,\n",
    "        num_cpus=93,\n",
    "        resampling='bootstrap',\n",
    "        approx=True,\n",
    "        resample_rep=True)\n",
    "    \n",
    "#     adata.write(data_path + 'memento_1k/{}.h5ad'.format(ct))\n",
    "    memento.get_1d_ht_result(adata).to_csv(data_path + 'memento_1k/asian_{}.csv'.format(ct), index=False)\n"
   ]
  },
  {
   "cell_type": "code",
   "execution_count": 11,
   "id": "a28d6cf6",
   "metadata": {},
   "outputs": [
    {
     "name": "stderr",
     "output_type": "stream",
     "text": [
      "[Parallel(n_jobs=93)]: Using backend LokyBackend with 93 concurrent workers.\n",
      "[Parallel(n_jobs=93)]: Done  14 tasks      | elapsed:    0.6s\n",
      "[Parallel(n_jobs=93)]: Done 264 tasks      | elapsed:    3.9s\n",
      "[Parallel(n_jobs=93)]: Done 499 out of 499 | elapsed:    8.2s finished\n",
      "[Parallel(n_jobs=93)]: Using backend LokyBackend with 93 concurrent workers.\n",
      "[Parallel(n_jobs=93)]: Done  14 tasks      | elapsed:    0.6s\n",
      "[Parallel(n_jobs=93)]: Done 264 tasks      | elapsed:    4.1s\n",
      "[Parallel(n_jobs=93)]: Done 614 tasks      | elapsed:    8.9s\n",
      "[Parallel(n_jobs=93)]: Done 854 out of 854 | elapsed:   13.4s finished\n",
      "[Parallel(n_jobs=93)]: Using backend LokyBackend with 93 concurrent workers.\n",
      "[Parallel(n_jobs=93)]: Done  14 tasks      | elapsed:    0.6s\n",
      "[Parallel(n_jobs=93)]: Done 264 tasks      | elapsed:    3.9s\n",
      "[Parallel(n_jobs=93)]: Done 614 tasks      | elapsed:    8.7s\n",
      "[Parallel(n_jobs=93)]: Done 1058 out of 1058 | elapsed:   16.9s finished\n",
      "[Parallel(n_jobs=93)]: Using backend LokyBackend with 93 concurrent workers.\n",
      "[Parallel(n_jobs=93)]: Done  14 tasks      | elapsed:    0.7s\n",
      "[Parallel(n_jobs=93)]: Done 264 tasks      | elapsed:    3.7s\n",
      "[Parallel(n_jobs=93)]: Done 677 out of 677 | elapsed:    9.5s finished\n",
      "[Parallel(n_jobs=93)]: Using backend LokyBackend with 93 concurrent workers.\n",
      "[Parallel(n_jobs=93)]: Done  14 tasks      | elapsed:    0.7s\n",
      "[Parallel(n_jobs=93)]: Done 263 out of 263 | elapsed:    8.7s finished\n",
      "[Parallel(n_jobs=93)]: Using backend LokyBackend with 93 concurrent workers.\n",
      "[Parallel(n_jobs=93)]: Done  14 tasks      | elapsed:    0.7s\n",
      "[Parallel(n_jobs=93)]: Done 260 out of 260 | elapsed:    5.3s finished\n",
      "/home/ssm-user/Github/scrna-parameter-estimation/dist/memento-0.0.8-py3.8.egg/memento/hypothesis_test.py:170: RuntimeWarning: divide by zero encountered in log\n"
     ]
    }
   ],
   "source": [
    "# Run for eur population\n",
    "for ct in cts:\n",
    "    \n",
    "    adata = sc.read(data_path + 'single_cell/eur_{}.h5ad'.format(ct))\n",
    "    adata = adata[adata.obs.ind_cov.isin(eur_pos.columns)].copy()\n",
    "\n",
    "    adata.obs['capture_rate'] = 0.1\n",
    "    memento.setup_memento(adata, q_column='capture_rate', trim_percent=0.1, filter_mean_thresh=0.01)\n",
    "    adata.obs['memento_size_factor'] = 1.0\n",
    "    memento.create_groups(adata, label_columns=['ind_cov'])\n",
    "\n",
    "#     cov_df = covariates[['age', 'status','Female'] + [x for x in covariates.columns if '_g' in x or '_e' in x]].loc[[x[3:] for x in adata.uns['memento']['groups']]]\n",
    "    cov_df = eur_cov.loc[[x[3:] for x in adata.uns['memento']['groups']]]\n",
    "\n",
    "    donor_df = eur_pos[[x[3:] for x in adata.uns['memento']['groups']]].T\n",
    "    \n",
    "    gene_snp_pairs = onek_replication.query('cg_cov == \"{}\"'.format(ct))\n",
    "    memento.compute_1d_moments(adata, min_perc_group=.9, gene_list=gene_snp_pairs.gene.drop_duplicates().tolist())\n",
    "\n",
    "    gene_to_snp = dict(gene_snp_pairs[gene_snp_pairs.gene.isin(adata.var.index)].groupby('gene').rsid.apply(list))\n",
    "   \n",
    "    memento.ht_1d_moments(\n",
    "        adata, \n",
    "        covariate=cov_df,\n",
    "        treatment=donor_df,\n",
    "        treatment_for_gene=gene_to_snp,\n",
    "        num_boot=5000, \n",
    "        verbose=1,\n",
    "        num_cpus=93,\n",
    "        resampling='bootstrap',\n",
    "        approx=True,\n",
    "        resample_rep=True)\n",
    "    \n",
    "#     adata.write(data_path + 'memento_1k/{}.h5ad'.format(ct))\n",
    "    memento.get_1d_ht_result(adata).to_csv(data_path + 'memento_1k/eur_{}.csv'.format(ct), index=False)\n"
   ]
  },
  {
   "cell_type": "markdown",
   "id": "7cc3a70f",
   "metadata": {},
   "source": [
    "### Filter the pseudobulks by these genes"
   ]
  },
  {
   "cell_type": "code",
   "execution_count": 21,
   "id": "b6cd0d77",
   "metadata": {},
   "outputs": [],
   "source": [
    "for ct in cts:\n",
    "    \n",
    "    memento_result = pd.read_csv(data_path + 'memento_1k/asian_{}.csv'.format(ct))\n",
    "    pseudobulk = pd.read_csv(data_path + 'pseudobulk/asian_{}.csv'.format(ct), index_col=0, sep='\\t')\n",
    "    pseudobulk = pseudobulk[memento_result['gene'].drop_duplicates().tolist()]\n",
    "    pseudobulk.T.to_csv(data_path + 'pseudobulk/asian_{}_filtered.csv'.format(ct), sep='\\t')\n",
    "    "
   ]
  },
  {
   "cell_type": "code",
   "execution_count": 22,
   "id": "6753e929",
   "metadata": {},
   "outputs": [],
   "source": [
    "for ct in cts:\n",
    "    \n",
    "    memento_result = pd.read_csv(data_path + 'memento_1k/eur_{}.csv'.format(ct))\n",
    "    pseudobulk = pd.read_csv(data_path + 'pseudobulk/eur_{}.csv'.format(ct), index_col=0, sep='\\t')\n",
    "    pseudobulk = pseudobulk[memento_result['gene'].drop_duplicates().tolist()]\n",
    "    pseudobulk.T.to_csv(data_path + 'pseudobulk/eur_{}_filtered.csv'.format(ct), sep='\\t')\n",
    "    "
   ]
  },
  {
   "cell_type": "markdown",
   "id": "be753e76",
   "metadata": {},
   "source": [
    "### Power calculation"
   ]
  },
  {
   "cell_type": "code",
   "execution_count": 8,
   "id": "d80ddb2c",
   "metadata": {},
   "outputs": [
    {
     "name": "stdout",
     "output_type": "stream",
     "text": [
      "B\n",
      "694 693\n",
      "memento 0.515850144092219 358\n",
      "mat eqtl 0.4034582132564842 280\n",
      "T8\n",
      "1274 1274\n",
      "memento 0.49843014128728413 635\n",
      "mat eqtl 0.4434850863422292 565\n",
      "T4\n",
      "1224 1224\n",
      "memento 0.4616013071895425 565\n",
      "mat eqtl 0.40441176470588236 495\n",
      "NK\n",
      "675 510\n",
      "memento 0.40444444444444444 273\n",
      "mat eqtl 0.24592592592592594 166\n",
      "cM\n",
      "243 243\n",
      "memento 0.6995884773662552 170\n",
      "mat eqtl 0.6666666666666666 162\n",
      "ncM\n",
      "240 125\n",
      "memento 0.5875 141\n",
      "mat eqtl 0.32916666666666666 79\n"
     ]
    }
   ],
   "source": [
    "# Power - Asian\n",
    "for ct in cts:\n",
    "    print(ct)\n",
    "    meq = pd.read_csv(data_path + 'mateqtl_output/asian_{}_filtered.out'.format(ct), sep='\\t')\n",
    "    mem = pd.read_csv(data_path + 'memento_1k/asian_{}.csv'.format(ct))\n",
    "    merged = mem.rename(columns={'tx':'SNP'}).merge(meq, on=['SNP', 'gene'])\n",
    "    print(mem.shape[0], merged.shape[0])\n",
    "    print('memento', mem.query('de_pval < 0.05').shape[0]/mem.shape[0], mem.query('de_pval < 0.05').shape[0])\n",
    "    print('mat eqtl',merged[merged['p-value']<0.05].shape[0]/mem.shape[0], merged[merged['p-value']<0.05].shape[0])\n"
   ]
  },
  {
   "cell_type": "code",
   "execution_count": null,
   "id": "83e372ac",
   "metadata": {},
   "outputs": [],
   "source": [
    "# Power - European\n",
    "for ct in cts:\n",
    "    print(ct)\n",
    "    meq = pd.read_csv(data_path + 'mateqtl_output/eur_{}_filtered.out'.format(ct), sep='\\t')\n",
    "    mem = pd.read_csv(data_path + 'memento_1k/eur_{}.csv'.format(ct))\n",
    "    merged = mem.rename(columns={'tx':'SNP'}).merge(meq, on=['SNP', 'gene'])\n",
    "    print(mem.shape[0], merged.shape[0])\n",
    "    print('memento', mem.query('de_pval < 0.05').shape[0]/mem.shape[0], mem.query('de_pval < 0.05').shape[0])\n",
    "    print('mat eqtl',merged[merged['p-value']<0.05].shape[0]/mem.shape[0], merged[merged['p-value']<0.05].shape[0])\n"
   ]
  },
  {
   "cell_type": "code",
   "execution_count": 9,
   "id": "2722d0b5",
   "metadata": {},
   "outputs": [
    {
     "name": "stdout",
     "output_type": "stream",
     "text": [
      "B\n",
      "memento 0.06399235912129896\n",
      "mat eqtl 0.04180064308681672\n",
      "T8\n",
      "memento 0.0583596214511041\n",
      "mat eqtl 0.050359712230215826\n",
      "T4\n",
      "memento 0.05263157894736842\n",
      "mat eqtl 0.049145299145299144\n",
      "NK\n",
      "memento 0.0420017873100983\n",
      "mat eqtl 0.059782608695652176\n",
      "cM\n",
      "memento 0.03550295857988166\n",
      "mat eqtl 0.05673758865248227\n",
      "ncM\n",
      "memento 0.07580174927113703\n",
      "mat eqtl 0.046511627906976744\n"
     ]
    }
   ],
   "source": [
    "# False positive rate\n",
    "for ct in cts:\n",
    "    print(ct)\n",
    "    meq = pd.read_csv(data_path + 'mateqtl_output/{}_filtered_shuffled.out'.format(ct), sep='\\t')\n",
    "    mem = pd.read_csv(data_path + 'memento_1k/{}_shuffled.csv'.format(ct))\n",
    "    merged = mem.rename(columns={'tx':'SNP'}).merge(meq, on=['SNP', 'gene'])\n",
    "    print('memento', mem.query('de_pval < 0.05').shape[0]/mem.shape[0])\n",
    "    print('mat eqtl',merged[merged['p-value']<0.05].shape[0]/merged.shape[0])"
   ]
  },
  {
   "cell_type": "markdown",
   "id": "e50a9d14",
   "metadata": {},
   "source": [
    "### AUC curve"
   ]
  },
  {
   "cell_type": "code",
   "execution_count": 10,
   "id": "222d4312",
   "metadata": {},
   "outputs": [],
   "source": [
    "thresh = 0.05"
   ]
  },
  {
   "cell_type": "code",
   "execution_count": 11,
   "id": "367be035",
   "metadata": {},
   "outputs": [],
   "source": [
    "thresh_list = np.linspace(0, 1, 100)"
   ]
  },
  {
   "cell_type": "code",
   "execution_count": 13,
   "id": "3721174b",
   "metadata": {},
   "outputs": [
    {
     "data": {
      "text/plain": [
       "(125, 12)"
      ]
     },
     "execution_count": 13,
     "metadata": {},
     "output_type": "execute_result"
    }
   ],
   "source": [
    "merged.shape"
   ]
  },
  {
   "cell_type": "code",
   "execution_count": 15,
   "id": "348b3544",
   "metadata": {},
   "outputs": [
    {
     "data": {
      "text/plain": [
       "(240, 8)"
      ]
     },
     "execution_count": 15,
     "metadata": {},
     "output_type": "execute_result"
    }
   ],
   "source": [
    "mem.shape"
   ]
  },
  {
   "cell_type": "code",
   "execution_count": 20,
   "id": "635461cb",
   "metadata": {},
   "outputs": [
    {
     "name": "stdout",
     "output_type": "stream",
     "text": [
      "B\n",
      "T8\n",
      "T4\n",
      "NK\n",
      "cM\n",
      "ncM\n"
     ]
    },
    {
     "data": {
      "text/plain": [
       "Text(0.5, 1.0, 'ncM')"
      ]
     },
     "execution_count": 20,
     "metadata": {},
     "output_type": "execute_result"
    },
    {
     "data": {
      "image/png": "[encoded data removed]",
      "text/plain": [
       "<Figure size 432x288 with 1 Axes>"
      ]
     },
     "metadata": {
      "needs_background": "light"
     },
     "output_type": "display_data"
    }
   ],
   "source": [
    "fpr_mem_all = []\n",
    "power_mem_all = []\n",
    "fpr_meq_all = []\n",
    "power_meq_all = []\n",
    "\n",
    "for ct in cts:\n",
    "    print(ct)\n",
    "    meq = pd.read_csv(data_path + 'mateqtl_output/asian_{}_filtered.out'.format(ct), sep='\\t')\n",
    "    mem = pd.read_csv(data_path + 'memento_1k/asian_{}.csv'.format(ct))\n",
    "    \n",
    "    meq_shuffled = pd.read_csv(data_path + 'mateqtl_output/{}_filtered_shuffled.out'.format(ct), sep='\\t')\n",
    "    mem_shuffled = pd.read_csv(data_path + 'memento_1k/{}_shuffled.csv'.format(ct))\n",
    "    \n",
    "    merged = mem.rename(columns={'tx':'SNP'}).merge(meq, on=['SNP', 'gene'])\n",
    "    merged_shuffled = mem_shuffled.rename(columns={'tx':'SNP'}).merge(meq_shuffled, on=['SNP', 'gene'])\n",
    "    \n",
    "    power_mem_list, power_meq_list, fpr_mem_list, fpr_meq_list = [], [], [], []\n",
    "    \n",
    "    for thresh in thresh_list:\n",
    "    \n",
    "        power_mem = merged.query('de_pval < {}'.format(thresh)).shape[0]/merged.shape[0]\n",
    "        power_meq = merged[merged['p-value']<thresh].shape[0]/merged.shape[0]\n",
    "\n",
    "        fpr_mem =  mem_shuffled.query('de_pval < {}'.format(thresh)).shape[0]/mem_shuffled.shape[0]\n",
    "        fpr_meq = merged_shuffled[merged_shuffled['p-value']<thresh].shape[0]/merged_shuffled.shape[0]\n",
    "        \n",
    "        power_mem_list.append(power_mem)\n",
    "        power_meq_list.append(power_meq)\n",
    "        fpr_mem_list.append(fpr_mem)\n",
    "        fpr_meq_list.append(fpr_meq)\n",
    "    \n",
    "    fpr_mem_list = np.array(fpr_mem_list)\n",
    "    power_mem_list = np.array(power_mem_list)\n",
    "    fpr_meq_list = np.array(fpr_meq_list)\n",
    "    power_meq_list = np.array(power_meq_list)\n",
    "    \n",
    "    fpr_mem_all.append(np.array(fpr_mem_list))\n",
    "    power_mem_all.append(np.array(power_mem_list))\n",
    "    fpr_meq_all.append(np.array(fpr_meq_list))\n",
    "    power_meq_all.append(np.array(power_meq_list))\n",
    "    \n",
    "plt.figure()\n",
    "plt.plot(np.vstack(fpr_mem_all).mean(axis=0), np.vstack(power_mem_all).mean(axis=0), 'o-', markersize=1)\n",
    "plt.plot(np.vstack(fpr_meq_all).mean(axis=0), np.vstack(power_meq_all).mean(axis=0), 'o-', markersize=1)\n",
    "plt.legend(['memento', 'meq'])\n",
    "\n",
    "plt.xlabel('False positive rate');\n",
    "plt.ylabel('Power')\n",
    "plt.title(ct)\n"
   ]
  },
  {
   "cell_type": "code",
   "execution_count": 22,
   "id": "44108dfc",
   "metadata": {},
   "outputs": [],
   "source": []
  },
  {
   "cell_type": "code",
   "execution_count": 23,
   "id": "785c1211",
   "metadata": {},
   "outputs": [
    {
     "data": {
      "text/plain": [
       "0.7920551114998023"
      ]
     },
     "execution_count": 23,
     "metadata": {},
     "output_type": "execute_result"
    }
   ],
   "source": [
    "auc(np.vstack(fpr_mem_all).mean(axis=0), np.vstack(power_mem_all).mean(axis=0))"
   ]
  },
  {
   "cell_type": "code",
   "execution_count": 24,
   "id": "87c67d5e",
   "metadata": {},
   "outputs": [
    {
     "data": {
      "text/plain": [
       "0.7726148281706495"
      ]
     },
     "execution_count": 24,
     "metadata": {},
     "output_type": "execute_result"
    }
   ],
   "source": [
    "auc(np.vstack(fpr_meq_all).mean(axis=0), np.vstack(power_meq_all).mean(axis=0))"
   ]
  },
  {
   "cell_type": "code",
   "execution_count": 16,
   "id": "c1150fba",
   "metadata": {},
   "outputs": [
    {
     "name": "stdout",
     "output_type": "stream",
     "text": [
      "B\n",
      "T8\n",
      "T4\n",
      "NK\n",
      "cM\n",
      "ncM\n"
     ]
    },
    {
     "data": {
      "image/png": "[encoded data removed]",
      "text/plain": [
       "<Figure size 432x288 with 1 Axes>"
      ]
     },
     "metadata": {
      "needs_background": "light"
     },
     "output_type": "display_data"
    },
    {
     "data": {
      "image/png": "[encoded data removed]",
      "text/plain": [
       "<Figure size 432x288 with 1 Axes>"
      ]
     },
     "metadata": {
      "needs_background": "light"
     },
     "output_type": "display_data"
    },
    {
     "data": {
      "image/png": "[encoded data removed]",
      "text/plain": [
       "<Figure size 432x288 with 1 Axes>"
      ]
     },
     "metadata": {
      "needs_background": "light"
     },
     "output_type": "display_data"
    },
    {
     "data": {
      "image/png": "[encoded data removed]",
      "text/plain": [
       "<Figure size 432x288 with 1 Axes>"
      ]
     },
     "metadata": {
      "needs_background": "light"
     },
     "output_type": "display_data"
    },
    {
     "data": {
      "image/png": "[encoded data removed]",
      "text/plain": [
       "<Figure size 432x288 with 1 Axes>"
      ]
     },
     "metadata": {
      "needs_background": "light"
     },
     "output_type": "display_data"
    },
    {
     "data": {
      "image/png": "[encoded data removed]",
      "text/plain": [
       "<Figure size 432x288 with 1 Axes>"
      ]
     },
     "metadata": {
      "needs_background": "light"
     },
     "output_type": "display_data"
    }
   ],
   "source": [
    "for ct in cts:\n",
    "    print(ct)\n",
    "    meq = pd.read_csv(data_path + 'mateqtl_output/asian_{}_filtered.out'.format(ct), sep='\\t')\n",
    "    mem = pd.read_csv(data_path + 'memento_1k/asian_{}.csv'.format(ct))\n",
    "    \n",
    "    meq_shuffled = pd.read_csv(data_path + 'mateqtl_output/{}_filtered_shuffled.out'.format(ct), sep='\\t')\n",
    "    mem_shuffled = pd.read_csv(data_path + 'memento_1k/{}_shuffled.csv'.format(ct))\n",
    "    \n",
    "    merged = mem.rename(columns={'tx':'SNP'}).merge(meq, on=['SNP', 'gene'])\n",
    "    merged_shuffled = mem_shuffled.rename(columns={'tx':'SNP'}).merge(meq_shuffled, on=['SNP', 'gene'])\n",
    "    \n",
    "    power_mem_list, power_meq_list, fpr_mem_list, fpr_meq_list = [], [], [], []\n",
    "    \n",
    "    for thresh in thresh_list:\n",
    "    \n",
    "        power_mem = merged.query('de_pval < {}'.format(thresh)).shape[0]/merged.shape[0]\n",
    "        power_meq = merged[merged['p-value']<thresh].shape[0]/merged.shape[0]\n",
    "\n",
    "        fpr_mem =  mem_shuffled.query('de_pval < {}'.format(thresh)).shape[0]/mem_shuffled.shape[0]\n",
    "        fpr_meq = merged_shuffled[merged_shuffled['p-value']<thresh].shape[0]/merged_shuffled.shape[0]\n",
    "        \n",
    "        power_mem_list.append(power_mem)\n",
    "        power_meq_list.append(power_meq)\n",
    "        fpr_mem_list.append(fpr_mem)\n",
    "        fpr_meq_list.append(fpr_meq)\n",
    "    plt.figure()\n",
    "    plt.plot(fpr_mem_list, power_mem_list, '-', markersize=1)\n",
    "    plt.plot(fpr_meq_list, power_meq_list, '-', markersize=1)\n",
    "    plt.legend(['memento', 'meq'])\n",
    "\n",
    "    plt.xlabel('False positive rate');\n",
    "    plt.ylabel('Power')\n",
    "    plt.title(ct)\n"
   ]
  },
  {
   "cell_type": "code",
   "execution_count": null,
   "id": "4033a4f6",
   "metadata": {},
   "outputs": [],
   "source": [
    "for ct in cts:\n",
    "    print(ct)\n",
    "    meq = pd.read_csv(data_path + 'mateqtl_output/asian_{}_filtered.out'.format(ct), sep='\\t')\n",
    "    mem = pd.read_csv(data_path + 'memento_1k/asian_{}.csv'.format(ct))\n",
    "    \n",
    "    meq_shuffled = pd.read_csv(data_path + 'mateqtl_output/{}_filtered_shuffled.out'.format(ct), sep='\\t')\n",
    "    mem_shuffled = pd.read_csv(data_path + 'memento_1k/{}_shuffled.csv'.format(ct))\n",
    "    \n",
    "    merged = mem.rename(columns={'tx':'SNP'}).merge(meq, on=['SNP', 'gene'])\n",
    "    merged_shuffled = mem_shuffled.rename(columns={'tx':'SNP'}).merge(meq_shuffled, on=['SNP', 'gene'])\n",
    "    \n",
    "    power_mem_list, power_meq_list, fpr_mem_list, fpr_meq_list = [], [], [], []\n",
    "    \n",
    "    for thresh in thresh_list:\n",
    "    \n",
    "        power_mem = mem.query('de_pval < {}'.format(thresh)).shape[0]/mem.shape[0]\n",
    "        power_meq = merged[merged['p-value']<thresh].shape[0]/mem.shape[0]\n",
    "\n",
    "        fpr_mem =  mem_shuffled.query('de_pval < {}'.format(thresh)).shape[0]/mem_shuffled.shape[0]\n",
    "        fpr_meq = merged_shuffled[merged_shuffled['p-value']<thresh].shape[0]/merged_shuffled.shape[0]\n",
    "        \n",
    "        power_mem_list.append(power_mem)\n",
    "        power_meq_list.append(power_meq)\n",
    "        fpr_mem_list.append(fpr_mem)\n",
    "        fpr_meq_list.append(fpr_meq)\n",
    "    plt.figure()\n",
    "    plt.plot(fpr_mem_list, power_mem_list, '-', markersize=1)\n",
    "    plt.plot(fpr_meq_list, power_meq_list, '-', markersize=1)\n",
    "    plt.legend(['memento', 'mat eqtl'])\n",
    "\n",
    "    plt.xlabel('False positive rate');\n",
    "    plt.ylabel('Power')\n",
    "    plt.title(ct)"
   ]
  },
  {
   "cell_type": "markdown",
   "id": "1413814e",
   "metadata": {},
   "source": [
    "### Characteristics of non-mateqtl memento eQTLs"
   ]
  },
  {
   "cell_type": "code",
   "execution_count": 249,
   "id": "c4c943a5",
   "metadata": {},
   "outputs": [],
   "source": [
    "ct = 'cM'\n",
    "meq = pd.read_csv(data_path + 'mateqtl_output/asian_{}_filtered.out'.format(ct), sep='\\t')\n",
    "mem = pd.read_csv(data_path + 'memento_1k/asian_{}.csv'.format(ct))\n",
    "merged = mem.rename(columns={'tx':'SNP'}).merge(meq, on=['SNP', 'gene'])"
   ]
  },
  {
   "cell_type": "code",
   "execution_count": 250,
   "id": "2da3eec9",
   "metadata": {},
   "outputs": [
    {
     "data": {
      "text/plain": [
       "(243, 12)"
      ]
     },
     "execution_count": 250,
     "metadata": {},
     "output_type": "execute_result"
    }
   ],
   "source": [
    "merged.shape"
   ]
  },
  {
   "cell_type": "code",
   "execution_count": 251,
   "id": "a9ce8808",
   "metadata": {},
   "outputs": [],
   "source": [
    "mem_only_genes = merged[merged['p-value'] > 0.1].query('de_pval < 0.05').gene.tolist()\n",
    "both_genes = merged[merged['p-value'] < 0.05].query('de_pval < 0.05').gene.tolist()"
   ]
  },
  {
   "cell_type": "code",
   "execution_count": 252,
   "id": "5b046442",
   "metadata": {},
   "outputs": [
    {
     "data": {
      "text/plain": [
       "161"
      ]
     },
     "execution_count": 252,
     "metadata": {},
     "output_type": "execute_result"
    }
   ],
   "source": [
    "len(both_genes)"
   ]
  },
  {
   "cell_type": "code",
   "execution_count": 253,
   "id": "e33a072b",
   "metadata": {},
   "outputs": [
    {
     "data": {
      "text/plain": [
       "5"
      ]
     },
     "execution_count": 253,
     "metadata": {},
     "output_type": "execute_result"
    }
   ],
   "source": [
    "len(mem_only_genes)"
   ]
  },
  {
   "cell_type": "code",
   "execution_count": null,
   "id": "45a00797",
   "metadata": {},
   "outputs": [],
   "source": [
    "adata = sc.read(data_path + 'single_cell/{}_{}.h5ad'.format('asian', ct))\n",
    "adata.obs['capture_rate'] = 0.1\n",
    "memento.setup_memento(adata, q_column='capture_rate', trim_percent=0.1, filter_mean_thresh=0.01)\n",
    "memento.create_groups(adata, label_columns=['ind_cov'])\n",
    "memento.compute_1d_moments(adata, min_perc_group=.9)"
   ]
  },
  {
   "cell_type": "code",
   "execution_count": 255,
   "id": "587e4540",
   "metadata": {},
   "outputs": [
    {
     "name": "stderr",
     "output_type": "stream",
     "text": [
      "/home/ssm-user/Github/scrna-parameter-estimation/dist/memento-0.0.8-py3.8.egg/memento/main.py:572: RuntimeWarning: invalid value encountered in true_divide\n",
      "  groupby_var[key] /= groupby_var_count[key]\n"
     ]
    }
   ],
   "source": [
    "m, v = memento.get_1d_moments(adata, groupby='ind_cov')\n",
    "m = m.set_index('gene')\n",
    "v = v.set_index('gene')"
   ]
  },
  {
   "cell_type": "code",
   "execution_count": 256,
   "id": "96587280",
   "metadata": {},
   "outputs": [],
   "source": [
    "v = np.log(np.exp(v)-1)\n",
    "m = np.log(np.exp(m)-1)"
   ]
  },
  {
   "cell_type": "code",
   "execution_count": 257,
   "id": "e0e8398d",
   "metadata": {},
   "outputs": [],
   "source": [
    "variance_of_means = pd.DataFrame(m.var(axis=1), columns=['v_of_m'])\n",
    "mean_of_variances = pd.DataFrame(v.mean(axis=1), columns=['m_of_v'])"
   ]
  },
  {
   "cell_type": "code",
   "execution_count": 258,
   "id": "cad00119",
   "metadata": {},
   "outputs": [],
   "source": [
    "metrics = variance_of_means.join(mean_of_variances)"
   ]
  },
  {
   "cell_type": "code",
   "execution_count": 259,
   "id": "ff7253ca",
   "metadata": {},
   "outputs": [],
   "source": [
    "metrics['both'] = metrics.index.isin(both_genes)\n",
    "metrics['mem_only'] = metrics.index.isin(mem_only_genes)\n",
    "metrics['log_v_of_m'] = metrics['v_of_m']\n",
    "metrics['log_m_of_v'] = metrics['m_of_v']"
   ]
  },
  {
   "cell_type": "code",
   "execution_count": 260,
   "id": "e5c4da2c",
   "metadata": {},
   "outputs": [],
   "source": [
    "metrics = metrics.query('both | mem_only')"
   ]
  },
  {
   "cell_type": "code",
   "execution_count": 261,
   "id": "76d13901",
   "metadata": {},
   "outputs": [
    {
     "data": {
      "text/html": [
       "<div>\n",
       "<style scoped>\n",
       "    .dataframe tbody tr th:only-of-type {\n",
       "        vertical-align: middle;\n",
       "    }\n",
       "\n",
       "    .dataframe tbody tr th {\n",
       "        vertical-align: top;\n",
       "    }\n",
       "\n",
       "    .dataframe thead th {\n",
       "        text-align: right;\n",
       "    }\n",
       "</style>\n",
       "<table border=\"1\" class=\"dataframe\">\n",
       "  <thead>\n",
       "    <tr style=\"text-align: right;\">\n",
       "      <th></th>\n",
       "      <th>v_of_m</th>\n",
       "      <th>m_of_v</th>\n",
       "      <th>both</th>\n",
       "      <th>mem_only</th>\n",
       "      <th>log_v_of_m</th>\n",
       "      <th>log_m_of_v</th>\n",
       "    </tr>\n",
       "    <tr>\n",
       "      <th>gene</th>\n",
       "      <th></th>\n",
       "      <th></th>\n",
       "      <th></th>\n",
       "      <th></th>\n",
       "      <th></th>\n",
       "      <th></th>\n",
       "    </tr>\n",
       "  </thead>\n",
       "  <tbody>\n",
       "    <tr>\n",
       "      <th>CDA</th>\n",
       "      <td>0.118196</td>\n",
       "      <td>-4.957962</td>\n",
       "      <td>True</td>\n",
       "      <td>False</td>\n",
       "      <td>0.118196</td>\n",
       "      <td>-4.957962</td>\n",
       "    </tr>\n",
       "    <tr>\n",
       "      <th>CDC42</th>\n",
       "      <td>0.038019</td>\n",
       "      <td>-2.611126</td>\n",
       "      <td>True</td>\n",
       "      <td>False</td>\n",
       "      <td>0.038019</td>\n",
       "      <td>-2.611126</td>\n",
       "    </tr>\n",
       "    <tr>\n",
       "      <th>SH3BGRL3</th>\n",
       "      <td>0.069197</td>\n",
       "      <td>-1.710132</td>\n",
       "      <td>True</td>\n",
       "      <td>False</td>\n",
       "      <td>0.069197</td>\n",
       "      <td>-1.710132</td>\n",
       "    </tr>\n",
       "    <tr>\n",
       "      <th>CD52</th>\n",
       "      <td>0.216378</td>\n",
       "      <td>0.093693</td>\n",
       "      <td>True</td>\n",
       "      <td>False</td>\n",
       "      <td>0.216378</td>\n",
       "      <td>0.093693</td>\n",
       "    </tr>\n",
       "    <tr>\n",
       "      <th>THEMIS2</th>\n",
       "      <td>0.170909</td>\n",
       "      <td>-5.325895</td>\n",
       "      <td>True</td>\n",
       "      <td>False</td>\n",
       "      <td>0.170909</td>\n",
       "      <td>-5.325895</td>\n",
       "    </tr>\n",
       "    <tr>\n",
       "      <th>...</th>\n",
       "      <td>...</td>\n",
       "      <td>...</td>\n",
       "      <td>...</td>\n",
       "      <td>...</td>\n",
       "      <td>...</td>\n",
       "      <td>...</td>\n",
       "    </tr>\n",
       "    <tr>\n",
       "      <th>HMGN1</th>\n",
       "      <td>0.041578</td>\n",
       "      <td>-5.340847</td>\n",
       "      <td>True</td>\n",
       "      <td>False</td>\n",
       "      <td>0.041578</td>\n",
       "      <td>-5.340847</td>\n",
       "    </tr>\n",
       "    <tr>\n",
       "      <th>ITGB2</th>\n",
       "      <td>0.291250</td>\n",
       "      <td>-3.210096</td>\n",
       "      <td>True</td>\n",
       "      <td>False</td>\n",
       "      <td>0.291250</td>\n",
       "      <td>-3.210096</td>\n",
       "    </tr>\n",
       "    <tr>\n",
       "      <th>ITGB2-AS1</th>\n",
       "      <td>NaN</td>\n",
       "      <td>-4.311694</td>\n",
       "      <td>True</td>\n",
       "      <td>False</td>\n",
       "      <td>NaN</td>\n",
       "      <td>-4.311694</td>\n",
       "    </tr>\n",
       "    <tr>\n",
       "      <th>YBEY</th>\n",
       "      <td>0.383210</td>\n",
       "      <td>-4.333416</td>\n",
       "      <td>True</td>\n",
       "      <td>False</td>\n",
       "      <td>0.383210</td>\n",
       "      <td>-4.333416</td>\n",
       "    </tr>\n",
       "    <tr>\n",
       "      <th>PRMT2</th>\n",
       "      <td>0.064110</td>\n",
       "      <td>-5.492266</td>\n",
       "      <td>True</td>\n",
       "      <td>False</td>\n",
       "      <td>0.064110</td>\n",
       "      <td>-5.492266</td>\n",
       "    </tr>\n",
       "  </tbody>\n",
       "</table>\n",
       "<p>166 rows × 6 columns</p>\n",
       "</div>"
      ],
      "text/plain": [
       "             v_of_m    m_of_v  both  mem_only  log_v_of_m  log_m_of_v\n",
       "gene                                                                 \n",
       "CDA        0.118196 -4.957962  True     False    0.118196   -4.957962\n",
       "CDC42      0.038019 -2.611126  True     False    0.038019   -2.611126\n",
       "SH3BGRL3   0.069197 -1.710132  True     False    0.069197   -1.710132\n",
       "CD52       0.216378  0.093693  True     False    0.216378    0.093693\n",
       "THEMIS2    0.170909 -5.325895  True     False    0.170909   -5.325895\n",
       "...             ...       ...   ...       ...         ...         ...\n",
       "HMGN1      0.041578 -5.340847  True     False    0.041578   -5.340847\n",
       "ITGB2      0.291250 -3.210096  True     False    0.291250   -3.210096\n",
       "ITGB2-AS1       NaN -4.311694  True     False         NaN   -4.311694\n",
       "YBEY       0.383210 -4.333416  True     False    0.383210   -4.333416\n",
       "PRMT2      0.064110 -5.492266  True     False    0.064110   -5.492266\n",
       "\n",
       "[166 rows x 6 columns]"
      ]
     },
     "execution_count": 261,
     "metadata": {},
     "output_type": "execute_result"
    }
   ],
   "source": [
    "metrics"
   ]
  },
  {
   "cell_type": "code",
   "execution_count": 264,
   "id": "48657c0d",
   "metadata": {},
   "outputs": [
    {
     "name": "stdout",
     "output_type": "stream",
     "text": [
      "MannwhitneyuResult(statistic=306.0, pvalue=0.18220428586583298)\n"
     ]
    },
    {
     "data": {
      "image/png": "[encoded data removed]",
      "text/plain": [
       "<Figure size 144x432 with 1 Axes>"
      ]
     },
     "metadata": {
      "needs_background": "light"
     },
     "output_type": "display_data"
    }
   ],
   "source": [
    "plt.figure(figsize=(2,6))\n",
    "sns.boxplot(x='mem_only', y='m_of_v', data=metrics)\n",
    "sns.stripplot(x='mem_only', y='m_of_v', data=metrics)\n",
    "\n",
    "print(stats.mannwhitneyu(metrics.query('both').m_of_v, metrics.query('mem_only').m_of_v))"
   ]
  },
  {
   "cell_type": "code",
   "execution_count": 263,
   "id": "1e2c2763",
   "metadata": {},
   "outputs": [
    {
     "name": "stdout",
     "output_type": "stream",
     "text": [
      "MannwhitneyuResult(statistic=372.0, pvalue=0.38842114467635874)\n"
     ]
    },
    {
     "data": {
      "image/png": "[encoded data removed]",
      "text/plain": [
       "<Figure size 144x432 with 1 Axes>"
      ]
     },
     "metadata": {
      "needs_background": "light"
     },
     "output_type": "display_data"
    }
   ],
   "source": [
    "plt.figure(figsize=(2,6))\n",
    "sns.boxplot(x='mem_only', y='v_of_m', data=metrics)\n",
    "print(stats.mannwhitneyu(metrics.query('both').v_of_m, metrics.query('mem_only').v_of_m))"
   ]
  },
  {
   "cell_type": "code",
   "execution_count": null,
   "id": "6f8f7581",
   "metadata": {},
   "outputs": [],
   "source": []
  },
  {
   "cell_type": "code",
   "execution_count": null,
   "id": "338fd8f4",
   "metadata": {},
   "outputs": [],
   "source": []
  },
  {
   "cell_type": "code",
   "execution_count": null,
   "id": "6b06daf0",
   "metadata": {},
   "outputs": [],
   "source": []
  },
  {
   "cell_type": "code",
   "execution_count": 40,
   "id": "36e380ef",
   "metadata": {},
   "outputs": [
    {
     "data": {
      "text/html": [
       "<div>\n",
       "<style scoped>\n",
       "    .dataframe tbody tr th:only-of-type {\n",
       "        vertical-align: middle;\n",
       "    }\n",
       "\n",
       "    .dataframe tbody tr th {\n",
       "        vertical-align: top;\n",
       "    }\n",
       "\n",
       "    .dataframe thead th {\n",
       "        text-align: right;\n",
       "    }\n",
       "</style>\n",
       "<table border=\"1\" class=\"dataframe\">\n",
       "  <thead>\n",
       "    <tr style=\"text-align: right;\">\n",
       "      <th></th>\n",
       "      <th>v_of_m</th>\n",
       "      <th>m_of_v</th>\n",
       "      <th>both</th>\n",
       "      <th>mem_only</th>\n",
       "    </tr>\n",
       "    <tr>\n",
       "      <th>gene</th>\n",
       "      <th></th>\n",
       "      <th></th>\n",
       "      <th></th>\n",
       "      <th></th>\n",
       "    </tr>\n",
       "  </thead>\n",
       "  <tbody>\n",
       "    <tr>\n",
       "      <th>NOC2L</th>\n",
       "      <td>0.000732</td>\n",
       "      <td>-0.008531</td>\n",
       "      <td>False</td>\n",
       "      <td>False</td>\n",
       "    </tr>\n",
       "    <tr>\n",
       "      <th>ISG15</th>\n",
       "      <td>0.083771</td>\n",
       "      <td>0.223222</td>\n",
       "      <td>False</td>\n",
       "      <td>False</td>\n",
       "    </tr>\n",
       "    <tr>\n",
       "      <th>TNFRSF18</th>\n",
       "      <td>0.004655</td>\n",
       "      <td>0.010949</td>\n",
       "      <td>False</td>\n",
       "      <td>True</td>\n",
       "    </tr>\n",
       "    <tr>\n",
       "      <th>SDF4</th>\n",
       "      <td>0.003402</td>\n",
       "      <td>-0.010439</td>\n",
       "      <td>False</td>\n",
       "      <td>False</td>\n",
       "    </tr>\n",
       "    <tr>\n",
       "      <th>UBE2J2</th>\n",
       "      <td>0.000967</td>\n",
       "      <td>-0.009570</td>\n",
       "      <td>False</td>\n",
       "      <td>False</td>\n",
       "    </tr>\n",
       "    <tr>\n",
       "      <th>...</th>\n",
       "      <td>...</td>\n",
       "      <td>...</td>\n",
       "      <td>...</td>\n",
       "      <td>...</td>\n",
       "    </tr>\n",
       "    <tr>\n",
       "      <th>MT-ND4</th>\n",
       "      <td>0.051399</td>\n",
       "      <td>0.730108</td>\n",
       "      <td>False</td>\n",
       "      <td>False</td>\n",
       "    </tr>\n",
       "    <tr>\n",
       "      <th>MT-ND5</th>\n",
       "      <td>0.041073</td>\n",
       "      <td>0.176611</td>\n",
       "      <td>False</td>\n",
       "      <td>False</td>\n",
       "    </tr>\n",
       "    <tr>\n",
       "      <th>MT-ND6</th>\n",
       "      <td>0.001093</td>\n",
       "      <td>-0.004732</td>\n",
       "      <td>False</td>\n",
       "      <td>False</td>\n",
       "    </tr>\n",
       "    <tr>\n",
       "      <th>MT-CYB</th>\n",
       "      <td>0.058852</td>\n",
       "      <td>0.764452</td>\n",
       "      <td>False</td>\n",
       "      <td>False</td>\n",
       "    </tr>\n",
       "    <tr>\n",
       "      <th>AL592183.1</th>\n",
       "      <td>0.007252</td>\n",
       "      <td>-0.002495</td>\n",
       "      <td>False</td>\n",
       "      <td>False</td>\n",
       "    </tr>\n",
       "  </tbody>\n",
       "</table>\n",
       "<p>3979 rows × 4 columns</p>\n",
       "</div>"
      ],
      "text/plain": [
       "              v_of_m    m_of_v   both  mem_only\n",
       "gene                                           \n",
       "NOC2L       0.000732 -0.008531  False     False\n",
       "ISG15       0.083771  0.223222  False     False\n",
       "TNFRSF18    0.004655  0.010949  False      True\n",
       "SDF4        0.003402 -0.010439  False     False\n",
       "UBE2J2      0.000967 -0.009570  False     False\n",
       "...              ...       ...    ...       ...\n",
       "MT-ND4      0.051399  0.730108  False     False\n",
       "MT-ND5      0.041073  0.176611  False     False\n",
       "MT-ND6      0.001093 -0.004732  False     False\n",
       "MT-CYB      0.058852  0.764452  False     False\n",
       "AL592183.1  0.007252 -0.002495  False     False\n",
       "\n",
       "[3979 rows x 4 columns]"
      ]
     },
     "execution_count": 40,
     "metadata": {},
     "output_type": "execute_result"
    }
   ],
   "source": [
    "metrics"
   ]
  },
  {
   "cell_type": "markdown",
   "id": "f4ac46d8",
   "metadata": {},
   "source": [
    "---------------"
   ]
  },
  {
   "cell_type": "code",
   "execution_count": null,
   "id": "e30bfce4",
   "metadata": {},
   "outputs": [],
   "source": []
  },
  {
   "cell_type": "code",
   "execution_count": 170,
   "id": "701356b6",
   "metadata": {},
   "outputs": [
    {
     "data": {
      "text/html": [
       "<div>\n",
       "<style scoped>\n",
       "    .dataframe tbody tr th:only-of-type {\n",
       "        vertical-align: middle;\n",
       "    }\n",
       "\n",
       "    .dataframe tbody tr th {\n",
       "        vertical-align: top;\n",
       "    }\n",
       "\n",
       "    .dataframe thead th {\n",
       "        text-align: right;\n",
       "    }\n",
       "</style>\n",
       "<table border=\"1\" class=\"dataframe\">\n",
       "  <thead>\n",
       "    <tr style=\"text-align: right;\">\n",
       "      <th></th>\n",
       "      <th>age</th>\n",
       "      <th>Female</th>\n",
       "      <th>batch_cov</th>\n",
       "      <th>status</th>\n",
       "      <th>PC1_e</th>\n",
       "      <th>PC2_e</th>\n",
       "      <th>PC3_e</th>\n",
       "      <th>PC4_e</th>\n",
       "      <th>PC5_e</th>\n",
       "      <th>PC6_e</th>\n",
       "      <th>...</th>\n",
       "      <th>PC8_e</th>\n",
       "      <th>PC9_e</th>\n",
       "      <th>PC10_e</th>\n",
       "      <th>PC1_g</th>\n",
       "      <th>PC2_g</th>\n",
       "      <th>PC3_g</th>\n",
       "      <th>PC4_g</th>\n",
       "      <th>PC5_g</th>\n",
       "      <th>PC6_g</th>\n",
       "      <th>PC7_g</th>\n",
       "    </tr>\n",
       "  </thead>\n",
       "  <tbody>\n",
       "    <tr>\n",
       "      <th>HC-519</th>\n",
       "      <td>21.0</td>\n",
       "      <td>0.0</td>\n",
       "      <td>13.0</td>\n",
       "      <td>1.0</td>\n",
       "      <td>8.582570</td>\n",
       "      <td>-22.828452</td>\n",
       "      <td>17.259928</td>\n",
       "      <td>-5.124023</td>\n",
       "      <td>0.542451</td>\n",
       "      <td>-0.780524</td>\n",
       "      <td>...</td>\n",
       "      <td>-0.425329</td>\n",
       "      <td>7.169390</td>\n",
       "      <td>5.309465</td>\n",
       "      <td>0.0343</td>\n",
       "      <td>-0.0456</td>\n",
       "      <td>0.0413</td>\n",
       "      <td>-0.0635</td>\n",
       "      <td>0.1212</td>\n",
       "      <td>-0.0581</td>\n",
       "      <td>0.0352</td>\n",
       "    </tr>\n",
       "    <tr>\n",
       "      <th>1240_1240</th>\n",
       "      <td>23.0</td>\n",
       "      <td>0.0</td>\n",
       "      <td>3.0</td>\n",
       "      <td>0.0</td>\n",
       "      <td>-8.648941</td>\n",
       "      <td>13.411016</td>\n",
       "      <td>5.855519</td>\n",
       "      <td>7.568020</td>\n",
       "      <td>-8.009542</td>\n",
       "      <td>-0.186709</td>\n",
       "      <td>...</td>\n",
       "      <td>2.021136</td>\n",
       "      <td>0.919464</td>\n",
       "      <td>0.047876</td>\n",
       "      <td>-0.0049</td>\n",
       "      <td>0.2181</td>\n",
       "      <td>-0.0730</td>\n",
       "      <td>-0.0005</td>\n",
       "      <td>-0.1076</td>\n",
       "      <td>0.0217</td>\n",
       "      <td>-0.0766</td>\n",
       "    </tr>\n",
       "    <tr>\n",
       "      <th>HC-022</th>\n",
       "      <td>74.0</td>\n",
       "      <td>0.0</td>\n",
       "      <td>14.0</td>\n",
       "      <td>1.0</td>\n",
       "      <td>2.728118</td>\n",
       "      <td>-13.795299</td>\n",
       "      <td>1.074720</td>\n",
       "      <td>7.365269</td>\n",
       "      <td>10.467058</td>\n",
       "      <td>-6.088037</td>\n",
       "      <td>...</td>\n",
       "      <td>1.454213</td>\n",
       "      <td>-5.778323</td>\n",
       "      <td>-6.239999</td>\n",
       "      <td>0.0508</td>\n",
       "      <td>0.0020</td>\n",
       "      <td>0.0465</td>\n",
       "      <td>0.1017</td>\n",
       "      <td>-0.1011</td>\n",
       "      <td>0.1246</td>\n",
       "      <td>-0.0559</td>\n",
       "    </tr>\n",
       "    <tr>\n",
       "      <th>1771_1771</th>\n",
       "      <td>49.0</td>\n",
       "      <td>0.0</td>\n",
       "      <td>7.0</td>\n",
       "      <td>0.0</td>\n",
       "      <td>-7.359370</td>\n",
       "      <td>10.981154</td>\n",
       "      <td>-0.085993</td>\n",
       "      <td>-23.435739</td>\n",
       "      <td>-0.616778</td>\n",
       "      <td>4.374860</td>\n",
       "      <td>...</td>\n",
       "      <td>-2.862667</td>\n",
       "      <td>9.843410</td>\n",
       "      <td>2.890764</td>\n",
       "      <td>-0.4201</td>\n",
       "      <td>-0.0699</td>\n",
       "      <td>0.0289</td>\n",
       "      <td>0.0594</td>\n",
       "      <td>0.0049</td>\n",
       "      <td>0.0146</td>\n",
       "      <td>0.0126</td>\n",
       "    </tr>\n",
       "    <tr>\n",
       "      <th>1472_1472</th>\n",
       "      <td>45.0</td>\n",
       "      <td>0.0</td>\n",
       "      <td>9.0</td>\n",
       "      <td>0.0</td>\n",
       "      <td>-10.204806</td>\n",
       "      <td>12.005469</td>\n",
       "      <td>-18.111741</td>\n",
       "      <td>-6.703906</td>\n",
       "      <td>-3.399169</td>\n",
       "      <td>3.591684</td>\n",
       "      <td>...</td>\n",
       "      <td>-3.815207</td>\n",
       "      <td>5.573024</td>\n",
       "      <td>-1.693832</td>\n",
       "      <td>-0.2214</td>\n",
       "      <td>0.0946</td>\n",
       "      <td>-0.0603</td>\n",
       "      <td>0.0916</td>\n",
       "      <td>-0.0429</td>\n",
       "      <td>-0.0987</td>\n",
       "      <td>0.0742</td>\n",
       "    </tr>\n",
       "  </tbody>\n",
       "</table>\n",
       "<p>5 rows × 21 columns</p>\n",
       "</div>"
      ],
      "text/plain": [
       "            age  Female  batch_cov  status      PC1_e      PC2_e      PC3_e  \\\n",
       "HC-519     21.0     0.0       13.0     1.0   8.582570 -22.828452  17.259928   \n",
       "1240_1240  23.0     0.0        3.0     0.0  -8.648941  13.411016   5.855519   \n",
       "HC-022     74.0     0.0       14.0     1.0   2.728118 -13.795299   1.074720   \n",
       "1771_1771  49.0     0.0        7.0     0.0  -7.359370  10.981154  -0.085993   \n",
       "1472_1472  45.0     0.0        9.0     0.0 -10.204806  12.005469 -18.111741   \n",
       "\n",
       "               PC4_e      PC5_e     PC6_e  ...     PC8_e     PC9_e    PC10_e  \\\n",
       "HC-519     -5.124023   0.542451 -0.780524  ... -0.425329  7.169390  5.309465   \n",
       "1240_1240   7.568020  -8.009542 -0.186709  ...  2.021136  0.919464  0.047876   \n",
       "HC-022      7.365269  10.467058 -6.088037  ...  1.454213 -5.778323 -6.239999   \n",
       "1771_1771 -23.435739  -0.616778  4.374860  ... -2.862667  9.843410  2.890764   \n",
       "1472_1472  -6.703906  -3.399169  3.591684  ... -3.815207  5.573024 -1.693832   \n",
       "\n",
       "            PC1_g   PC2_g   PC3_g   PC4_g   PC5_g   PC6_g   PC7_g  \n",
       "HC-519     0.0343 -0.0456  0.0413 -0.0635  0.1212 -0.0581  0.0352  \n",
       "1240_1240 -0.0049  0.2181 -0.0730 -0.0005 -0.1076  0.0217 -0.0766  \n",
       "HC-022     0.0508  0.0020  0.0465  0.1017 -0.1011  0.1246 -0.0559  \n",
       "1771_1771 -0.4201 -0.0699  0.0289  0.0594  0.0049  0.0146  0.0126  \n",
       "1472_1472 -0.2214  0.0946 -0.0603  0.0916 -0.0429 -0.0987  0.0742  \n",
       "\n",
       "[5 rows x 21 columns]"
      ]
     },
     "execution_count": 170,
     "metadata": {},
     "output_type": "execute_result"
    }
   ],
   "source": [
    "covariates.head(5)"
   ]
  },
  {
   "cell_type": "code",
   "execution_count": 26,
   "id": "588eb2de",
   "metadata": {},
   "outputs": [
    {
     "name": "stderr",
     "output_type": "stream",
     "text": [
      "/home/ssm-user/anaconda3/envs/single_cell/lib/python3.8/site-packages/pandas/core/arrays/categorical.py:2631: FutureWarning: The `inplace` parameter in pandas.Categorical.remove_unused_categories is deprecated and will be removed in a future version.\n",
      "  res = method(*args, **kwargs)\n"
     ]
    }
   ],
   "source": [
    "adata = sc.read(data_path + 'single_cell/{}.h5ad'.format(ct))\n",
    "expr_df = pd.DataFrame()\n",
    "expr_df['expr'] = adata[:, 'HLA-DQA1'].X.todense().A1\n",
    "expr_df['ind_cov'] = adata.obs['ind_cov'].values\n",
    "expr_df = expr_df.merge(pos.T.reset_index().rename(columns={'index':'ind_cov'})[['ind_cov', '6:32606756']], on='ind_cov')\n",
    "expr_df = expr_df.merge(covariates.reset_index().rename(columns={'index':'ind_cov'}), on='ind_cov')\n",
    "ind_list = expr_df['ind_cov'].drop_duplicates().tolist()"
   ]
  },
  {
   "cell_type": "code",
   "execution_count": 27,
   "id": "d55f7e9c",
   "metadata": {},
   "outputs": [],
   "source": [
    "expr_dict = {ind:expr_df.query('ind_cov == \"{}\"'.format(ind)).expr.values for ind in ind_list}\n",
    "geno_dict= {ind:expr_df.query('ind_cov == \"{}\"'.format(ind))['6:32606756'].mean() for ind in ind_list}"
   ]
  },
  {
   "cell_type": "code",
   "execution_count": 28,
   "id": "c23f7e1e",
   "metadata": {},
   "outputs": [],
   "source": [
    "num_rep = len(ind_list)"
   ]
  },
  {
   "cell_type": "code",
   "execution_count": 29,
   "id": "3d4e2964",
   "metadata": {},
   "outputs": [],
   "source": [
    "b_coefs = np.zeros(5000)\n",
    "for boot_itr in range(5000):\n",
    "    \n",
    "    means = np.zeros(num_rep)\n",
    "    genos = np.zeros(num_rep)\n",
    "    boot_inds = np.random.choice(ind_list, num_rep)\n",
    "    for i, ind in enumerate(boot_inds):\n",
    "        means[i] = np.log(np.random.choice(expr_dict[ind], size=expr_dict[ind].shape[0]).mean()+1)\n",
    "        genos[i] = geno_dict[ind]\n",
    "    coef = lm.LinearRegression().fit(np.hstack([genos.reshape(-1,1), covariates.loc[boot_inds, :]]), means.reshape(-1,1)).coef_[0][0]\n",
    "    b_coefs[boot_itr] = coef\n",
    "        \n",
    "        "
   ]
  },
  {
   "cell_type": "code",
   "execution_count": 30,
   "id": "fd75eee1",
   "metadata": {},
   "outputs": [
    {
     "data": {
      "text/plain": [
       "0.009343063956403932"
      ]
     },
     "execution_count": 30,
     "metadata": {},
     "output_type": "execute_result"
    }
   ],
   "source": [
    "stats.norm.sf(0, loc=b_coefs.mean(), scale=b_coefs.std())"
   ]
  },
  {
   "cell_type": "code",
   "execution_count": 31,
   "id": "52c2f71b",
   "metadata": {},
   "outputs": [
    {
     "data": {
      "text/plain": [
       "0.009343063956403932"
      ]
     },
     "execution_count": 31,
     "metadata": {},
     "output_type": "execute_result"
    }
   ],
   "source": [
    "stats.norm.sf(0, loc=b_coefs.mean(), scale=b_coefs.std())"
   ]
  },
  {
   "cell_type": "code",
   "execution_count": 32,
   "id": "aacf0515",
   "metadata": {},
   "outputs": [
    {
     "data": {
      "text/plain": [
       "<AxesSubplot:ylabel='Density'>"
      ]
     },
     "execution_count": 32,
     "metadata": {},
     "output_type": "execute_result"
    },
    {
     "data": {
      "image/png": "[encoded data removed]",
      "text/plain": [
       "<Figure size 432x288 with 1 Axes>"
      ]
     },
     "metadata": {
      "needs_background": "light"
     },
     "output_type": "display_data"
    }
   ],
   "source": [
    "sns.kdeplot(b_coefs)"
   ]
  },
  {
   "cell_type": "code",
   "execution_count": 34,
   "id": "8e595ea9",
   "metadata": {},
   "outputs": [
    {
     "data": {
      "text/plain": [
       "(array([1.1769e+05, 3.5380e+03, 1.0990e+03, 4.4400e+02, 1.8700e+02,\n",
       "        1.2400e+02, 3.5000e+01, 1.9000e+01, 1.3000e+01, 4.0000e+00]),\n",
       " array([ 0. ,  2.2,  4.4,  6.6,  8.8, 11. , 13.2, 15.4, 17.6, 19.8, 22. ],\n",
       "       dtype=float32),\n",
       " <BarContainer object of 10 artists>)"
      ]
     },
     "execution_count": 34,
     "metadata": {},
     "output_type": "execute_result"
    },
    {
     "data": {
      "image/png": "[encoded data removed]",
      "text/plain": [
       "<Figure size 432x288 with 1 Axes>"
      ]
     },
     "metadata": {
      "needs_background": "light"
     },
     "output_type": "display_data"
    }
   ],
   "source": [
    "plt.hist(expr_df['expr'])"
   ]
  },
  {
   "cell_type": "code",
   "execution_count": 35,
   "id": "71bf6942",
   "metadata": {},
   "outputs": [
    {
     "data": {
      "text/html": [
       "<div>\n",
       "<style scoped>\n",
       "    .dataframe tbody tr th:only-of-type {\n",
       "        vertical-align: middle;\n",
       "    }\n",
       "\n",
       "    .dataframe tbody tr th {\n",
       "        vertical-align: top;\n",
       "    }\n",
       "\n",
       "    .dataframe thead th {\n",
       "        text-align: right;\n",
       "    }\n",
       "</style>\n",
       "<table border=\"1\" class=\"dataframe\">\n",
       "  <thead>\n",
       "    <tr style=\"text-align: right;\">\n",
       "      <th></th>\n",
       "      <th>gene</th>\n",
       "      <th>SNP</th>\n",
       "      <th>de_coef</th>\n",
       "      <th>de_se</th>\n",
       "      <th>de_pval</th>\n",
       "      <th>dv_coef</th>\n",
       "      <th>dv_se</th>\n",
       "      <th>dv_pval</th>\n",
       "      <th>beta</th>\n",
       "      <th>t-stat</th>\n",
       "      <th>p-value</th>\n",
       "      <th>FDR</th>\n",
       "    </tr>\n",
       "  </thead>\n",
       "  <tbody>\n",
       "    <tr>\n",
       "      <th>26</th>\n",
       "      <td>NAGK</td>\n",
       "      <td>2:71297982</td>\n",
       "      <td>-0.021954</td>\n",
       "      <td>0.014456</td>\n",
       "      <td>0.1312</td>\n",
       "      <td>-0.058271</td>\n",
       "      <td>0.090391</td>\n",
       "      <td>0.5094</td>\n",
       "      <td>-0.040998</td>\n",
       "      <td>-4.004192</td>\n",
       "      <td>0.000147</td>\n",
       "      <td>0.494679</td>\n",
       "    </tr>\n",
       "    <tr>\n",
       "      <th>28</th>\n",
       "      <td>DBI</td>\n",
       "      <td>2:120122538</td>\n",
       "      <td>-0.035541</td>\n",
       "      <td>0.018912</td>\n",
       "      <td>0.0598</td>\n",
       "      <td>-0.071333</td>\n",
       "      <td>0.101440</td>\n",
       "      <td>0.4754</td>\n",
       "      <td>-0.047208</td>\n",
       "      <td>-2.707891</td>\n",
       "      <td>0.008405</td>\n",
       "      <td>0.999747</td>\n",
       "    </tr>\n",
       "    <tr>\n",
       "      <th>50</th>\n",
       "      <td>LY86</td>\n",
       "      <td>6:6580752</td>\n",
       "      <td>0.006995</td>\n",
       "      <td>0.011800</td>\n",
       "      <td>0.5412</td>\n",
       "      <td>0.011583</td>\n",
       "      <td>0.061773</td>\n",
       "      <td>0.8434</td>\n",
       "      <td>0.031648</td>\n",
       "      <td>2.098055</td>\n",
       "      <td>0.039314</td>\n",
       "      <td>0.999747</td>\n",
       "    </tr>\n",
       "    <tr>\n",
       "      <th>51</th>\n",
       "      <td>RNF144B</td>\n",
       "      <td>6:18399394</td>\n",
       "      <td>-0.028675</td>\n",
       "      <td>0.015293</td>\n",
       "      <td>0.0556</td>\n",
       "      <td>-0.163962</td>\n",
       "      <td>0.120814</td>\n",
       "      <td>0.1756</td>\n",
       "      <td>-0.029998</td>\n",
       "      <td>-3.587793</td>\n",
       "      <td>0.000596</td>\n",
       "      <td>0.774752</td>\n",
       "    </tr>\n",
       "    <tr>\n",
       "      <th>61</th>\n",
       "      <td>HLA-B</td>\n",
       "      <td>6:31236467</td>\n",
       "      <td>0.072618</td>\n",
       "      <td>0.043975</td>\n",
       "      <td>0.0954</td>\n",
       "      <td>0.122051</td>\n",
       "      <td>0.077401</td>\n",
       "      <td>0.1136</td>\n",
       "      <td>0.105643</td>\n",
       "      <td>2.396146</td>\n",
       "      <td>0.019096</td>\n",
       "      <td>0.999747</td>\n",
       "    </tr>\n",
       "    <tr>\n",
       "      <th>68</th>\n",
       "      <td>HLA-DQA1</td>\n",
       "      <td>6:32606756</td>\n",
       "      <td>-0.036989</td>\n",
       "      <td>0.029423</td>\n",
       "      <td>0.2056</td>\n",
       "      <td>-0.325402</td>\n",
       "      <td>0.157475</td>\n",
       "      <td>0.0398</td>\n",
       "      <td>-0.094538</td>\n",
       "      <td>-2.085104</td>\n",
       "      <td>0.040509</td>\n",
       "      <td>0.999747</td>\n",
       "    </tr>\n",
       "    <tr>\n",
       "      <th>75</th>\n",
       "      <td>DEF6</td>\n",
       "      <td>6:35282463</td>\n",
       "      <td>0.001923</td>\n",
       "      <td>0.002905</td>\n",
       "      <td>0.5052</td>\n",
       "      <td>0.057247</td>\n",
       "      <td>0.100141</td>\n",
       "      <td>0.5718</td>\n",
       "      <td>0.010933</td>\n",
       "      <td>3.392208</td>\n",
       "      <td>0.001116</td>\n",
       "      <td>0.881418</td>\n",
       "    </tr>\n",
       "    <tr>\n",
       "      <th>76</th>\n",
       "      <td>RPL10A</td>\n",
       "      <td>6:35436925</td>\n",
       "      <td>-0.042162</td>\n",
       "      <td>0.033861</td>\n",
       "      <td>0.2150</td>\n",
       "      <td>0.066044</td>\n",
       "      <td>0.089817</td>\n",
       "      <td>0.4628</td>\n",
       "      <td>-0.112138</td>\n",
       "      <td>-3.431682</td>\n",
       "      <td>0.000985</td>\n",
       "      <td>0.869185</td>\n",
       "    </tr>\n",
       "    <tr>\n",
       "      <th>81</th>\n",
       "      <td>MRPL14</td>\n",
       "      <td>6:44105978</td>\n",
       "      <td>-0.007528</td>\n",
       "      <td>0.007106</td>\n",
       "      <td>0.2892</td>\n",
       "      <td>0.004171</td>\n",
       "      <td>0.123110</td>\n",
       "      <td>0.9716</td>\n",
       "      <td>-0.025175</td>\n",
       "      <td>-4.674135</td>\n",
       "      <td>0.000013</td>\n",
       "      <td>0.104600</td>\n",
       "    </tr>\n",
       "    <tr>\n",
       "      <th>139</th>\n",
       "      <td>AP003774.6</td>\n",
       "      <td>11:64158950</td>\n",
       "      <td>-0.003973</td>\n",
       "      <td>0.002667</td>\n",
       "      <td>0.1410</td>\n",
       "      <td>-0.156414</td>\n",
       "      <td>0.124523</td>\n",
       "      <td>0.2078</td>\n",
       "      <td>-0.009340</td>\n",
       "      <td>-3.283494</td>\n",
       "      <td>0.001567</td>\n",
       "      <td>0.916465</td>\n",
       "    </tr>\n",
       "    <tr>\n",
       "      <th>140</th>\n",
       "      <td>GSTP1</td>\n",
       "      <td>11:67353970</td>\n",
       "      <td>0.058059</td>\n",
       "      <td>0.030072</td>\n",
       "      <td>0.0524</td>\n",
       "      <td>-0.121678</td>\n",
       "      <td>0.097843</td>\n",
       "      <td>0.2134</td>\n",
       "      <td>0.099429</td>\n",
       "      <td>2.919287</td>\n",
       "      <td>0.004646</td>\n",
       "      <td>0.999747</td>\n",
       "    </tr>\n",
       "    <tr>\n",
       "      <th>146</th>\n",
       "      <td>MRPL51</td>\n",
       "      <td>12:6612114</td>\n",
       "      <td>-0.003030</td>\n",
       "      <td>0.006379</td>\n",
       "      <td>0.6354</td>\n",
       "      <td>-0.174037</td>\n",
       "      <td>0.132220</td>\n",
       "      <td>0.1808</td>\n",
       "      <td>-0.015777</td>\n",
       "      <td>-2.284044</td>\n",
       "      <td>0.025239</td>\n",
       "      <td>0.999747</td>\n",
       "    </tr>\n",
       "    <tr>\n",
       "      <th>151</th>\n",
       "      <td>GLIPR1</td>\n",
       "      <td>12:75869497</td>\n",
       "      <td>-0.020578</td>\n",
       "      <td>0.012899</td>\n",
       "      <td>0.1072</td>\n",
       "      <td>-0.005459</td>\n",
       "      <td>0.075153</td>\n",
       "      <td>0.9416</td>\n",
       "      <td>-0.029674</td>\n",
       "      <td>-2.002075</td>\n",
       "      <td>0.048942</td>\n",
       "      <td>0.999747</td>\n",
       "    </tr>\n",
       "    <tr>\n",
       "      <th>154</th>\n",
       "      <td>RNF10</td>\n",
       "      <td>12:121133037</td>\n",
       "      <td>0.003512</td>\n",
       "      <td>0.002842</td>\n",
       "      <td>0.2152</td>\n",
       "      <td>0.007391</td>\n",
       "      <td>0.106084</td>\n",
       "      <td>0.9430</td>\n",
       "      <td>0.006010</td>\n",
       "      <td>2.230511</td>\n",
       "      <td>0.028745</td>\n",
       "      <td>0.999747</td>\n",
       "    </tr>\n",
       "    <tr>\n",
       "      <th>162</th>\n",
       "      <td>CHURC1</td>\n",
       "      <td>14:65375180</td>\n",
       "      <td>0.024252</td>\n",
       "      <td>0.011987</td>\n",
       "      <td>0.0592</td>\n",
       "      <td>0.031082</td>\n",
       "      <td>0.115069</td>\n",
       "      <td>0.7728</td>\n",
       "      <td>0.052662</td>\n",
       "      <td>4.597914</td>\n",
       "      <td>0.000017</td>\n",
       "      <td>0.127068</td>\n",
       "    </tr>\n",
       "    <tr>\n",
       "      <th>163</th>\n",
       "      <td>HSP90AA1</td>\n",
       "      <td>14:102563797</td>\n",
       "      <td>0.032424</td>\n",
       "      <td>0.021358</td>\n",
       "      <td>0.1320</td>\n",
       "      <td>-0.057012</td>\n",
       "      <td>0.073447</td>\n",
       "      <td>0.4312</td>\n",
       "      <td>0.047504</td>\n",
       "      <td>2.197293</td>\n",
       "      <td>0.031130</td>\n",
       "      <td>0.999747</td>\n",
       "    </tr>\n",
       "    <tr>\n",
       "      <th>171</th>\n",
       "      <td>CARHSP1</td>\n",
       "      <td>16:8944893</td>\n",
       "      <td>-0.009480</td>\n",
       "      <td>0.005593</td>\n",
       "      <td>0.0896</td>\n",
       "      <td>0.038886</td>\n",
       "      <td>0.100651</td>\n",
       "      <td>0.7022</td>\n",
       "      <td>-0.013834</td>\n",
       "      <td>-2.685712</td>\n",
       "      <td>0.008930</td>\n",
       "      <td>0.999747</td>\n",
       "    </tr>\n",
       "    <tr>\n",
       "      <th>181</th>\n",
       "      <td>C16orf74</td>\n",
       "      <td>16:85414665</td>\n",
       "      <td>-0.001699</td>\n",
       "      <td>0.002593</td>\n",
       "      <td>0.5080</td>\n",
       "      <td>0.065986</td>\n",
       "      <td>0.106049</td>\n",
       "      <td>0.5234</td>\n",
       "      <td>-0.004793</td>\n",
       "      <td>-2.145848</td>\n",
       "      <td>0.035165</td>\n",
       "      <td>0.999747</td>\n",
       "    </tr>\n",
       "    <tr>\n",
       "      <th>191</th>\n",
       "      <td>SLFN5</td>\n",
       "      <td>17:33511405</td>\n",
       "      <td>0.010893</td>\n",
       "      <td>0.006238</td>\n",
       "      <td>0.0772</td>\n",
       "      <td>0.206405</td>\n",
       "      <td>0.157645</td>\n",
       "      <td>0.1946</td>\n",
       "      <td>0.017978</td>\n",
       "      <td>3.236727</td>\n",
       "      <td>0.001810</td>\n",
       "      <td>0.930858</td>\n",
       "    </tr>\n",
       "    <tr>\n",
       "      <th>226</th>\n",
       "      <td>COX6B1</td>\n",
       "      <td>19:36171716</td>\n",
       "      <td>-0.018644</td>\n",
       "      <td>0.016375</td>\n",
       "      <td>0.2474</td>\n",
       "      <td>0.003222</td>\n",
       "      <td>0.094535</td>\n",
       "      <td>0.9742</td>\n",
       "      <td>-0.045715</td>\n",
       "      <td>-2.086826</td>\n",
       "      <td>0.040349</td>\n",
       "      <td>0.999747</td>\n",
       "    </tr>\n",
       "    <tr>\n",
       "      <th>232</th>\n",
       "      <td>OSCAR</td>\n",
       "      <td>19:54554950</td>\n",
       "      <td>0.013923</td>\n",
       "      <td>0.007872</td>\n",
       "      <td>0.0762</td>\n",
       "      <td>0.123333</td>\n",
       "      <td>0.090167</td>\n",
       "      <td>0.1692</td>\n",
       "      <td>0.025492</td>\n",
       "      <td>4.255806</td>\n",
       "      <td>0.000060</td>\n",
       "      <td>0.303182</td>\n",
       "    </tr>\n",
       "    <tr>\n",
       "      <th>233</th>\n",
       "      <td>RPS9</td>\n",
       "      <td>19:54705317</td>\n",
       "      <td>-0.057804</td>\n",
       "      <td>0.029916</td>\n",
       "      <td>0.0548</td>\n",
       "      <td>-0.073208</td>\n",
       "      <td>0.072131</td>\n",
       "      <td>0.3086</td>\n",
       "      <td>-0.084994</td>\n",
       "      <td>-2.498348</td>\n",
       "      <td>0.014698</td>\n",
       "      <td>0.999747</td>\n",
       "    </tr>\n",
       "    <tr>\n",
       "      <th>247</th>\n",
       "      <td>TYMP</td>\n",
       "      <td>22:50971047</td>\n",
       "      <td>0.083552</td>\n",
       "      <td>0.049800</td>\n",
       "      <td>0.0940</td>\n",
       "      <td>-0.091682</td>\n",
       "      <td>0.103916</td>\n",
       "      <td>0.3800</td>\n",
       "      <td>0.098213</td>\n",
       "      <td>2.909218</td>\n",
       "      <td>0.004782</td>\n",
       "      <td>0.999747</td>\n",
       "    </tr>\n",
       "  </tbody>\n",
       "</table>\n",
       "</div>"
      ],
      "text/plain": [
       "           gene           SNP   de_coef     de_se  de_pval   dv_coef  \\\n",
       "26         NAGK    2:71297982 -0.021954  0.014456   0.1312 -0.058271   \n",
       "28          DBI   2:120122538 -0.035541  0.018912   0.0598 -0.071333   \n",
       "50         LY86     6:6580752  0.006995  0.011800   0.5412  0.011583   \n",
       "51      RNF144B    6:18399394 -0.028675  0.015293   0.0556 -0.163962   \n",
       "61        HLA-B    6:31236467  0.072618  0.043975   0.0954  0.122051   \n",
       "68     HLA-DQA1    6:32606756 -0.036989  0.029423   0.2056 -0.325402   \n",
       "75         DEF6    6:35282463  0.001923  0.002905   0.5052  0.057247   \n",
       "76       RPL10A    6:35436925 -0.042162  0.033861   0.2150  0.066044   \n",
       "81       MRPL14    6:44105978 -0.007528  0.007106   0.2892  0.004171   \n",
       "139  AP003774.6   11:64158950 -0.003973  0.002667   0.1410 -0.156414   \n",
       "140       GSTP1   11:67353970  0.058059  0.030072   0.0524 -0.121678   \n",
       "146      MRPL51    12:6612114 -0.003030  0.006379   0.6354 -0.174037   \n",
       "151      GLIPR1   12:75869497 -0.020578  0.012899   0.1072 -0.005459   \n",
       "154       RNF10  12:121133037  0.003512  0.002842   0.2152  0.007391   \n",
       "162      CHURC1   14:65375180  0.024252  0.011987   0.0592  0.031082   \n",
       "163    HSP90AA1  14:102563797  0.032424  0.021358   0.1320 -0.057012   \n",
       "171     CARHSP1    16:8944893 -0.009480  0.005593   0.0896  0.038886   \n",
       "181    C16orf74   16:85414665 -0.001699  0.002593   0.5080  0.065986   \n",
       "191       SLFN5   17:33511405  0.010893  0.006238   0.0772  0.206405   \n",
       "226      COX6B1   19:36171716 -0.018644  0.016375   0.2474  0.003222   \n",
       "232       OSCAR   19:54554950  0.013923  0.007872   0.0762  0.123333   \n",
       "233        RPS9   19:54705317 -0.057804  0.029916   0.0548 -0.073208   \n",
       "247        TYMP   22:50971047  0.083552  0.049800   0.0940 -0.091682   \n",
       "\n",
       "        dv_se  dv_pval      beta    t-stat   p-value       FDR  \n",
       "26   0.090391   0.5094 -0.040998 -4.004192  0.000147  0.494679  \n",
       "28   0.101440   0.4754 -0.047208 -2.707891  0.008405  0.999747  \n",
       "50   0.061773   0.8434  0.031648  2.098055  0.039314  0.999747  \n",
       "51   0.120814   0.1756 -0.029998 -3.587793  0.000596  0.774752  \n",
       "61   0.077401   0.1136  0.105643  2.396146  0.019096  0.999747  \n",
       "68   0.157475   0.0398 -0.094538 -2.085104  0.040509  0.999747  \n",
       "75   0.100141   0.5718  0.010933  3.392208  0.001116  0.881418  \n",
       "76   0.089817   0.4628 -0.112138 -3.431682  0.000985  0.869185  \n",
       "81   0.123110   0.9716 -0.025175 -4.674135  0.000013  0.104600  \n",
       "139  0.124523   0.2078 -0.009340 -3.283494  0.001567  0.916465  \n",
       "140  0.097843   0.2134  0.099429  2.919287  0.004646  0.999747  \n",
       "146  0.132220   0.1808 -0.015777 -2.284044  0.025239  0.999747  \n",
       "151  0.075153   0.9416 -0.029674 -2.002075  0.048942  0.999747  \n",
       "154  0.106084   0.9430  0.006010  2.230511  0.028745  0.999747  \n",
       "162  0.115069   0.7728  0.052662  4.597914  0.000017  0.127068  \n",
       "163  0.073447   0.4312  0.047504  2.197293  0.031130  0.999747  \n",
       "171  0.100651   0.7022 -0.013834 -2.685712  0.008930  0.999747  \n",
       "181  0.106049   0.5234 -0.004793 -2.145848  0.035165  0.999747  \n",
       "191  0.157645   0.1946  0.017978  3.236727  0.001810  0.930858  \n",
       "226  0.094535   0.9742 -0.045715 -2.086826  0.040349  0.999747  \n",
       "232  0.090167   0.1692  0.025492  4.255806  0.000060  0.303182  \n",
       "233  0.072131   0.3086 -0.084994 -2.498348  0.014698  0.999747  \n",
       "247  0.103916   0.3800  0.098213  2.909218  0.004782  0.999747  "
      ]
     },
     "execution_count": 35,
     "metadata": {},
     "output_type": "execute_result"
    }
   ],
   "source": [
    "merged[(merged['de_pval'] > 0.05) & (merged['p-value'] < 0.05)]"
   ]
  },
  {
   "cell_type": "code",
   "execution_count": null,
   "id": "e74745aa",
   "metadata": {},
   "outputs": [],
   "source": []
  },
  {
   "cell_type": "code",
   "execution_count": 77,
   "id": "744abba9",
   "metadata": {},
   "outputs": [],
   "source": [
    "ct = 'cM'"
   ]
  },
  {
   "cell_type": "code",
   "execution_count": 81,
   "id": "a7279b30",
   "metadata": {},
   "outputs": [],
   "source": [
    "meq = pd.read_csv(data_path + 'mateqtl_output/{}_filtered_old.out'.format(ct), sep='\\t')\n",
    "mem = pd.read_csv(data_path + 'memento_1k/{}.csv'.format(ct))"
   ]
  },
  {
   "cell_type": "code",
   "execution_count": 82,
   "id": "f7d63d3e",
   "metadata": {},
   "outputs": [
    {
     "data": {
      "text/plain": [
       "(338, 8)"
      ]
     },
     "execution_count": 82,
     "metadata": {},
     "output_type": "execute_result"
    }
   ],
   "source": [
    "mem.shape"
   ]
  },
  {
   "cell_type": "code",
   "execution_count": 90,
   "id": "8db7682e",
   "metadata": {},
   "outputs": [],
   "source": [
    "merged = mem.rename(columns={'tx':'SNP'}).merge(meq[meq['p-value']<0.05], on=['SNP', 'gene'])"
   ]
  },
  {
   "cell_type": "code",
   "execution_count": 84,
   "id": "c35c6eec",
   "metadata": {},
   "outputs": [
    {
     "data": {
      "text/plain": [
       "(235, 12)"
      ]
     },
     "execution_count": 84,
     "metadata": {},
     "output_type": "execute_result"
    }
   ],
   "source": [
    "merged.shape"
   ]
  },
  {
   "cell_type": "code",
   "execution_count": 87,
   "id": "63ce0c31",
   "metadata": {},
   "outputs": [
    {
     "data": {
      "text/plain": [
       "0.5414201183431953"
      ]
     },
     "execution_count": 87,
     "metadata": {},
     "output_type": "execute_result"
    }
   ],
   "source": [
    "mem.query('de_pval < 0.05').shape[0]/mem.shape[0]"
   ]
  },
  {
   "cell_type": "code",
   "execution_count": 93,
   "id": "67f01fd1",
   "metadata": {},
   "outputs": [
    {
     "data": {
      "text/plain": [
       "0.6686390532544378"
      ]
     },
     "execution_count": 93,
     "metadata": {},
     "output_type": "execute_result"
    }
   ],
   "source": [
    "merged.shape[0]/mem.shape[0]"
   ]
  },
  {
   "cell_type": "code",
   "execution_count": 105,
   "id": "ce95b9f4",
   "metadata": {},
   "outputs": [],
   "source": [
    "pb1 = pd.read_csv(data_path + 'pseudobulk/{}_filtered.csv'.format(ct), sep='\\t', index_col=0).T"
   ]
  },
  {
   "cell_type": "code",
   "execution_count": 110,
   "id": "4d4de489",
   "metadata": {},
   "outputs": [],
   "source": [
    "pb2 = pd.read_csv(data_path + 'mateqtl_input/cm_cg.expr', sep='\\t', index_col=0).T"
   ]
  },
  {
   "cell_type": "code",
   "execution_count": 113,
   "id": "b0457047",
   "metadata": {},
   "outputs": [],
   "source": [
    "common_col = list(set(pb1.columns) & set(pb2.columns))"
   ]
  },
  {
   "cell_type": "code",
   "execution_count": 114,
   "id": "57545941",
   "metadata": {},
   "outputs": [],
   "source": [
    "pb1 = pb1[common_col]\n",
    "pb2 = pb2[common_col]"
   ]
  },
  {
   "cell_type": "code",
   "execution_count": 115,
   "id": "080744c7",
   "metadata": {},
   "outputs": [
    {
     "data": {
      "text/html": [
       "<div>\n",
       "<style scoped>\n",
       "    .dataframe tbody tr th:only-of-type {\n",
       "        vertical-align: middle;\n",
       "    }\n",
       "\n",
       "    .dataframe tbody tr th {\n",
       "        vertical-align: top;\n",
       "    }\n",
       "\n",
       "    .dataframe thead th {\n",
       "        text-align: right;\n",
       "    }\n",
       "</style>\n",
       "<table border=\"1\" class=\"dataframe\">\n",
       "  <thead>\n",
       "    <tr style=\"text-align: right;\">\n",
       "      <th></th>\n",
       "      <th>MANBA</th>\n",
       "      <th>CHMP4B</th>\n",
       "      <th>GCNT2</th>\n",
       "      <th>TULP4</th>\n",
       "      <th>NUBP2</th>\n",
       "      <th>ELP5</th>\n",
       "      <th>PRMT2</th>\n",
       "      <th>RP11-290F20.3</th>\n",
       "      <th>SUSD3</th>\n",
       "      <th>ZBTB22</th>\n",
       "      <th>...</th>\n",
       "      <th>RPP21</th>\n",
       "      <th>TMEM176A</th>\n",
       "      <th>CST3</th>\n",
       "      <th>ABRACL</th>\n",
       "      <th>CSNK2B</th>\n",
       "      <th>HLA-DRB1</th>\n",
       "      <th>EREG</th>\n",
       "      <th>KDELR2</th>\n",
       "      <th>MRPL14</th>\n",
       "      <th>CRISPLD2</th>\n",
       "    </tr>\n",
       "  </thead>\n",
       "  <tbody>\n",
       "    <tr>\n",
       "      <th>HC-519</th>\n",
       "      <td>0.038563</td>\n",
       "      <td>0.118353</td>\n",
       "      <td>0.001708</td>\n",
       "      <td>0.007663</td>\n",
       "      <td>0.029476</td>\n",
       "      <td>0.009358</td>\n",
       "      <td>0.062935</td>\n",
       "      <td>0.103050</td>\n",
       "      <td>0.009358</td>\n",
       "      <td>0.006814</td>\n",
       "      <td>...</td>\n",
       "      <td>0.021142</td>\n",
       "      <td>0.015268</td>\n",
       "      <td>1.163957</td>\n",
       "      <td>0.123654</td>\n",
       "      <td>0.133425</td>\n",
       "      <td>0.486955</td>\n",
       "      <td>0.159994</td>\n",
       "      <td>0.078068</td>\n",
       "      <td>0.066140</td>\n",
       "      <td>0.038563</td>\n",
       "    </tr>\n",
       "    <tr>\n",
       "      <th>1791_1791</th>\n",
       "      <td>0.097786</td>\n",
       "      <td>0.271953</td>\n",
       "      <td>0.016069</td>\n",
       "      <td>0.012174</td>\n",
       "      <td>0.081895</td>\n",
       "      <td>0.024587</td>\n",
       "      <td>0.151495</td>\n",
       "      <td>0.240768</td>\n",
       "      <td>0.028050</td>\n",
       "      <td>0.011393</td>\n",
       "      <td>...</td>\n",
       "      <td>0.036847</td>\n",
       "      <td>0.081895</td>\n",
       "      <td>2.125437</td>\n",
       "      <td>0.254646</td>\n",
       "      <td>0.277356</td>\n",
       "      <td>1.093460</td>\n",
       "      <td>0.138163</td>\n",
       "      <td>0.179619</td>\n",
       "      <td>0.132988</td>\n",
       "      <td>0.108477</td>\n",
       "    </tr>\n",
       "  </tbody>\n",
       "</table>\n",
       "<p>2 rows × 335 columns</p>\n",
       "</div>"
      ],
      "text/plain": [
       "              MANBA    CHMP4B     GCNT2     TULP4     NUBP2      ELP5  \\\n",
       "HC-519     0.038563  0.118353  0.001708  0.007663  0.029476  0.009358   \n",
       "1791_1791  0.097786  0.271953  0.016069  0.012174  0.081895  0.024587   \n",
       "\n",
       "              PRMT2  RP11-290F20.3     SUSD3    ZBTB22  ...     RPP21  \\\n",
       "HC-519     0.062935       0.103050  0.009358  0.006814  ...  0.021142   \n",
       "1791_1791  0.151495       0.240768  0.028050  0.011393  ...  0.036847   \n",
       "\n",
       "           TMEM176A      CST3    ABRACL    CSNK2B  HLA-DRB1      EREG  \\\n",
       "HC-519     0.015268  1.163957  0.123654  0.133425  0.486955  0.159994   \n",
       "1791_1791  0.081895  2.125437  0.254646  0.277356  1.093460  0.138163   \n",
       "\n",
       "             KDELR2    MRPL14  CRISPLD2  \n",
       "HC-519     0.078068  0.066140  0.038563  \n",
       "1791_1791  0.179619  0.132988  0.108477  \n",
       "\n",
       "[2 rows x 335 columns]"
      ]
     },
     "execution_count": 115,
     "metadata": {},
     "output_type": "execute_result"
    }
   ],
   "source": [
    "pb1.head(2)"
   ]
  },
  {
   "cell_type": "code",
   "execution_count": null,
   "id": "f2f1ecb2",
   "metadata": {},
   "outputs": [],
   "source": []
  },
  {
   "cell_type": "code",
   "execution_count": 116,
   "id": "4d97ea99",
   "metadata": {},
   "outputs": [
    {
     "data": {
      "text/html": [
       "<div>\n",
       "<style scoped>\n",
       "    .dataframe tbody tr th:only-of-type {\n",
       "        vertical-align: middle;\n",
       "    }\n",
       "\n",
       "    .dataframe tbody tr th {\n",
       "        vertical-align: top;\n",
       "    }\n",
       "\n",
       "    .dataframe thead th {\n",
       "        text-align: right;\n",
       "    }\n",
       "</style>\n",
       "<table border=\"1\" class=\"dataframe\">\n",
       "  <thead>\n",
       "    <tr style=\"text-align: right;\">\n",
       "      <th>Unnamed: 0</th>\n",
       "      <th>MANBA</th>\n",
       "      <th>CHMP4B</th>\n",
       "      <th>GCNT2</th>\n",
       "      <th>TULP4</th>\n",
       "      <th>NUBP2</th>\n",
       "      <th>ELP5</th>\n",
       "      <th>PRMT2</th>\n",
       "      <th>RP11-290F20.3</th>\n",
       "      <th>SUSD3</th>\n",
       "      <th>ZBTB22</th>\n",
       "      <th>...</th>\n",
       "      <th>RPP21</th>\n",
       "      <th>TMEM176A</th>\n",
       "      <th>CST3</th>\n",
       "      <th>ABRACL</th>\n",
       "      <th>CSNK2B</th>\n",
       "      <th>HLA-DRB1</th>\n",
       "      <th>EREG</th>\n",
       "      <th>KDELR2</th>\n",
       "      <th>MRPL14</th>\n",
       "      <th>CRISPLD2</th>\n",
       "    </tr>\n",
       "  </thead>\n",
       "  <tbody>\n",
       "    <tr>\n",
       "      <th>HC-519</th>\n",
       "      <td>5.414605</td>\n",
       "      <td>7.057960</td>\n",
       "      <td>1.672425</td>\n",
       "      <td>3.242791</td>\n",
       "      <td>5.035064</td>\n",
       "      <td>3.493156</td>\n",
       "      <td>6.120243</td>\n",
       "      <td>6.849347</td>\n",
       "      <td>3.493156</td>\n",
       "      <td>3.099173</td>\n",
       "      <td>...</td>\n",
       "      <td>4.573959</td>\n",
       "      <td>4.132487</td>\n",
       "      <td>11.175467</td>\n",
       "      <td>7.124389</td>\n",
       "      <td>7.240184</td>\n",
       "      <td>9.365807</td>\n",
       "      <td>7.519456</td>\n",
       "      <td>6.436379</td>\n",
       "      <td>6.192798</td>\n",
       "      <td>5.414605</td>\n",
       "    </tr>\n",
       "    <tr>\n",
       "      <th>1240_1240</th>\n",
       "      <td>5.548255</td>\n",
       "      <td>6.937241</td>\n",
       "      <td>3.156325</td>\n",
       "      <td>3.240748</td>\n",
       "      <td>5.036711</td>\n",
       "      <td>3.536299</td>\n",
       "      <td>6.104814</td>\n",
       "      <td>6.385398</td>\n",
       "      <td>3.890027</td>\n",
       "      <td>2.699946</td>\n",
       "      <td>...</td>\n",
       "      <td>3.664090</td>\n",
       "      <td>6.116033</td>\n",
       "      <td>11.822846</td>\n",
       "      <td>7.426109</td>\n",
       "      <td>7.569707</td>\n",
       "      <td>10.591394</td>\n",
       "      <td>7.821756</td>\n",
       "      <td>6.149176</td>\n",
       "      <td>6.357310</td>\n",
       "      <td>4.630257</td>\n",
       "    </tr>\n",
       "  </tbody>\n",
       "</table>\n",
       "<p>2 rows × 335 columns</p>\n",
       "</div>"
      ],
      "text/plain": [
       "Unnamed: 0     MANBA    CHMP4B     GCNT2     TULP4     NUBP2      ELP5  \\\n",
       "HC-519      5.414605  7.057960  1.672425  3.242791  5.035064  3.493156   \n",
       "1240_1240   5.548255  6.937241  3.156325  3.240748  5.036711  3.536299   \n",
       "\n",
       "Unnamed: 0     PRMT2  RP11-290F20.3     SUSD3    ZBTB22  ...     RPP21  \\\n",
       "HC-519      6.120243       6.849347  3.493156  3.099173  ...  4.573959   \n",
       "1240_1240   6.104814       6.385398  3.890027  2.699946  ...  3.664090   \n",
       "\n",
       "Unnamed: 0  TMEM176A       CST3    ABRACL    CSNK2B   HLA-DRB1      EREG  \\\n",
       "HC-519      4.132487  11.175467  7.124389  7.240184   9.365807  7.519456   \n",
       "1240_1240   6.116033  11.822846  7.426109  7.569707  10.591394  7.821756   \n",
       "\n",
       "Unnamed: 0    KDELR2    MRPL14  CRISPLD2  \n",
       "HC-519      6.436379  6.192798  5.414605  \n",
       "1240_1240   6.149176  6.357310  4.630257  \n",
       "\n",
       "[2 rows x 335 columns]"
      ]
     },
     "execution_count": 116,
     "metadata": {},
     "output_type": "execute_result"
    }
   ],
   "source": [
    "pb2.head(2)"
   ]
  },
  {
   "cell_type": "code",
   "execution_count": null,
   "id": "1a13a588",
   "metadata": {},
   "outputs": [],
   "source": []
  }
 ],
 "metadata": {
  "kernelspec": {
   "display_name": "Python 3 (ipykernel)",
   "language": "python",
   "name": "python3"
  },
  "language_info": {
   "codemirror_mode": {
    "name": "ipython",
    "version": 3
   },
   "file_extension": ".py",
   "mimetype": "text/x-python",
   "name": "python",
   "nbconvert_exporter": "python",
   "pygments_lexer": "ipython3",
   "version": "3.8.8"
  }
 },
 "nbformat": 4,
 "nbformat_minor": 5
}
