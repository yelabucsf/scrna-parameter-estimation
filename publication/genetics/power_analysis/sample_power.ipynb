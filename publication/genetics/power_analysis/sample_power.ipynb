{
 "cells": [
  {
   "cell_type": "markdown",
   "id": "9f5a8eca",
   "metadata": {},
   "source": [
    "# Sampled power analysis"
   ]
  },
  {
   "cell_type": "code",
   "execution_count": 1,
   "id": "5cc2e487",
   "metadata": {
    "tags": []
   },
   "outputs": [],
   "source": [
    "import scanpy as sc\n",
    "import seaborn as sns\n",
    "import pandas as pd\n",
    "import matplotlib.pyplot as plt\n",
    "import numpy as np\n",
    "import scipy.stats as stats\n",
    "import itertools\n",
    "import warnings\n",
    "\n",
    "import os\n",
    "import pickle as pkl"
   ]
  },
  {
   "cell_type": "code",
   "execution_count": 2,
   "id": "84c0e25e",
   "metadata": {
    "tags": []
   },
   "outputs": [],
   "source": [
    "import sys\n",
    "import memento"
   ]
  },
  {
   "cell_type": "code",
   "execution_count": 3,
   "id": "d9051f62",
   "metadata": {
    "tags": []
   },
   "outputs": [],
   "source": [
    "data_path  = '/s3data/lupus/'\n",
    "num_inds = [50, 60, 70, 80]\n",
    "num_resample=10\n",
    "cts = ['B', 'T8', 'T4', 'NK', 'cM', 'ncM']"
   ]
  },
  {
   "cell_type": "code",
   "execution_count": 4,
   "id": "27588dfb",
   "metadata": {
    "tags": []
   },
   "outputs": [],
   "source": [
    "import matplotlib\n",
    "matplotlib.rcParams['pdf.fonttype'] = 42\n",
    "matplotlib.rcParams['ps.fonttype'] = 42\n",
    "plt.rcParams[\"axes.prop_cycle\"] = plt.cycler(\"color\", ['turquoise', 'silver', 'slategrey'])\n",
    "\n",
    "\n",
    "import matplotlib.pylab as pylab\n",
    "params = {'legend.fontsize': 'medium',\n",
    "         'axes.labelsize': 'medium',\n",
    "         'axes.titlesize':'medium',\n",
    "         'figure.titlesize':'medium',\n",
    "         'xtick.labelsize':'small',\n",
    "         'ytick.labelsize':'small'}\n",
    "pylab.rcParams.update(params)"
   ]
  },
  {
   "cell_type": "markdown",
   "id": "ec987b2a",
   "metadata": {},
   "source": [
    "### Sample the SNP and covariate dataframes"
   ]
  },
  {
   "cell_type": "code",
   "execution_count": 5,
   "id": "6f37db51",
   "metadata": {
    "tags": []
   },
   "outputs": [],
   "source": [
    "def drop_zero_col(df):\n",
    "    \n",
    "    return df.loc[:, (df != 0).any(axis=0)].copy()"
   ]
  },
  {
   "cell_type": "markdown",
   "id": "9e38b21f",
   "metadata": {},
   "source": [
    "### Plot the power figure"
   ]
  },
  {
   "cell_type": "code",
   "execution_count": 6,
   "id": "50268a5d",
   "metadata": {
    "tags": []
   },
   "outputs": [],
   "source": [
    "# Read the OneK result\n",
    "onek_replication = pd.read_csv(data_path + 'filtered_onek_eqtls.csv')"
   ]
  },
  {
   "cell_type": "code",
   "execution_count": 7,
   "id": "362520f7",
   "metadata": {
    "tags": []
   },
   "outputs": [],
   "source": [
    "cts = onek_replication.cg_cov.drop_duplicates().tolist()"
   ]
  },
  {
   "cell_type": "code",
   "execution_count": 8,
   "id": "6e8e59b3",
   "metadata": {
    "tags": []
   },
   "outputs": [
    {
     "data": {
      "text/plain": [
       "(9382, 10)"
      ]
     },
     "execution_count": 8,
     "metadata": {},
     "output_type": "execute_result"
    }
   ],
   "source": [
    "onek_replication.shape"
   ]
  },
  {
   "cell_type": "code",
   "execution_count": 9,
   "id": "f480291f",
   "metadata": {
    "tags": []
   },
   "outputs": [],
   "source": [
    "result_df = []\n",
    "for pop in ['asian']:\n",
    "    for num_ind in num_inds:\n",
    "        for resample in range(num_resample):\n",
    "            for ct in cts:\n",
    "                try:\n",
    "                    meq = pd.read_csv(data_path + 'mateqtl_output/sampled/{}_{}_{}_{}.out'.format(pop, ct, num_ind, resample), sep='\\t')\n",
    "                    mem = pd.read_csv(data_path + 'memento_1k/{}_{}_{}_{}.csv'.format(pop, ct, num_ind, resample))\n",
    "                    merged = mem.rename(columns={'tx':'SNP'}).merge(meq, on=['SNP', 'gene'], how='left')\n",
    "                    result_df.append((pop, num_ind, resample, ct, 'memento', mem.query('de_pval < 0.05').shape[0]/mem.shape[0]))\n",
    "                    result_df.append((pop, num_ind, resample, ct, 'pseudobulk', merged[merged['p-value']<0.05].shape[0]/merged.shape[0]))\n",
    "                except:\n",
    "                    continue\n",
    "result_df = pd.DataFrame(result_df, columns=['pop', 'num_ind', 'resample', 'ct', 'method', 'power'])"
   ]
  },
  {
   "cell_type": "code",
   "execution_count": 10,
   "id": "ade2b7dc",
   "metadata": {
    "tags": []
   },
   "outputs": [
    {
     "data": {
      "image/png": "[encoded data removed]",
      "text/plain": [
       "<Figure size 500x200 with 4 Axes>"
      ]
     },
     "metadata": {},
     "output_type": "display_data"
    }
   ],
   "source": [
    "plt.figure(figsize=(5,2));\n",
    "plt.subplots_adjust(wspace=0.5)\n",
    "for idx, ct in enumerate(['T4', 'B', 'cM', 'NK']):\n",
    "    plt.subplot(1, 4, idx+1);\n",
    "#     sns.stripplot(x='num_ind', y='power', hue='method', data=result_df.query('ct == \"B\"'), dodge=True, palette='Set2', linewidth=1)\n",
    "    sns.boxplot(x='num_ind', y='power', hue='method', data=result_df.query('ct == \"{}\"'.format(ct)), linewidth=1, fliersize=0)\n",
    "#     plt.ylim(0.1, 0.75)\n",
    "    if idx > 0:\n",
    "#         plt.yticks([])\n",
    "        plt.ylabel(None)\n",
    "    else:\n",
    "        plt.ylabel(r'Power at $\\alpha$ = 0.05')\n",
    "    if idx == 2:\n",
    "        plt.legend(ncol=2, loc='upper center', bbox_to_anchor=(0,1.4), frameon=False)\n",
    "    else:\n",
    "        plt.legend([],[], frameon=False)\n",
    "    plt.title(ct)\n",
    "    plt.xticks(fontsize=8)\n",
    "    if idx == 1:\n",
    "        plt.xlabel('                            Number of individuals')\n",
    "    else:\n",
    "        plt.xlabel(None)\n",
    "# plt.savefig('sampled_power.pdf', bbox_inches='tight')"
   ]
  },
  {
   "cell_type": "code",
   "execution_count": null,
   "id": "134fe9a3-a4a5-4bc6-935d-065041229544",
   "metadata": {},
   "outputs": [],
   "source": []
  }
 ],
 "metadata": {
  "kernelspec": {
   "display_name": "packaging_test",
   "language": "python",
   "name": "packaging_test"
  },
  "language_info": {
   "codemirror_mode": {
    "name": "ipython",
    "version": 3
   },
   "file_extension": ".py",
   "mimetype": "text/x-python",
   "name": "python",
   "nbconvert_exporter": "python",
   "pygments_lexer": "ipython3",
   "version": "3.13.1"
  }
 },
 "nbformat": 4,
 "nbformat_minor": 5
}
