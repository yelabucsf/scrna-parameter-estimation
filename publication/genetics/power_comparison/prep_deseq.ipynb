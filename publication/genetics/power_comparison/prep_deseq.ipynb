{
 "cells": [
  {
   "cell_type": "markdown",
   "id": "9f5a8eca",
   "metadata": {},
   "source": [
    "# Sampled power analysis"
   ]
  },
  {
   "cell_type": "code",
   "execution_count": 1,
   "id": "5cc2e487",
   "metadata": {
    "tags": []
   },
   "outputs": [
    {
     "name": "stderr",
     "output_type": "stream",
     "text": [
      "/tmp/ipykernel_3660180/3767633645.py:13: DeprecationWarning: the imp module is deprecated in favour of importlib and slated for removal in Python 3.12; see the module's documentation for alternative uses\n",
      "  import imp\n"
     ]
    }
   ],
   "source": [
    "import scanpy as sc\n",
    "import seaborn as sns\n",
    "import pandas as pd\n",
    "import matplotlib.pyplot as plt\n",
    "import numpy as np\n",
    "import scipy.stats as stats\n",
    "import itertools\n",
    "import warnings\n",
    "\n",
    "import os\n",
    "import pickle as pkl\n",
    "%matplotlib inline\n",
    "import imp"
   ]
  },
  {
   "cell_type": "code",
   "execution_count": 2,
   "id": "84c0e25e",
   "metadata": {
    "tags": []
   },
   "outputs": [],
   "source": [
    "import sys\n",
    "sys.path.append('/home/ubuntu/Github/scrna-parameter-estimation/')\n",
    "sys.path.append('/home/ubuntu/Github/misc-seq/miscseq/')\n",
    "# import encode\n",
    "import memento\n",
    "# import run_memento"
   ]
  },
  {
   "cell_type": "code",
   "execution_count": 5,
   "id": "d9051f62",
   "metadata": {
    "tags": []
   },
   "outputs": [],
   "source": [
    "data_path  = '/Data/lupus/'\n",
    "num_inds = [50, 60, 70, 80]\n",
    "num_resample=10\n",
    "cts = ['B', 'T8', 'T4', 'NK', 'cM', 'ncM']"
   ]
  },
  {
   "cell_type": "code",
   "execution_count": 6,
   "id": "27588dfb",
   "metadata": {
    "tags": []
   },
   "outputs": [],
   "source": [
    "import matplotlib\n",
    "matplotlib.rcParams['pdf.fonttype'] = 42\n",
    "matplotlib.rcParams['ps.fonttype'] = 42\n",
    "plt.rcParams[\"axes.prop_cycle\"] = plt.cycler(\"color\", ['turquoise', 'silver', 'slategrey'])\n",
    "\n",
    "\n",
    "import matplotlib.pylab as pylab\n",
    "params = {'legend.fontsize': 'medium',\n",
    "         'axes.labelsize': 'medium',\n",
    "         'axes.titlesize':'medium',\n",
    "         'figure.titlesize':'medium',\n",
    "         'xtick.labelsize':'small',\n",
    "         'ytick.labelsize':'small'}\n",
    "pylab.rcParams.update(params)"
   ]
  },
  {
   "cell_type": "markdown",
   "id": "bd361d04-bb66-4a12-874b-9eab1185ce58",
   "metadata": {},
   "source": [
    "### Make summation pseudobulks\n",
    "\n",
    "Matrix eqtl used log(mean+1) pseudobulks"
   ]
  },
  {
   "cell_type": "code",
   "execution_count": 16,
   "id": "3594db94-1426-47e1-9c9a-308e02326287",
   "metadata": {
    "tags": []
   },
   "outputs": [
    {
     "name": "stderr",
     "output_type": "stream",
     "text": [
      "/home/ubuntu/anaconda3/envs/mementocxg/lib/python3.11/site-packages/anndata/__init__.py:51: FutureWarning: `anndata.read` is deprecated, use `anndata.read_h5ad` instead. `ad.read` will be removed in mid 2024.\n",
      "  warnings.warn(\n"
     ]
    }
   ],
   "source": [
    "adata = sc.read(data_path + 'Lupus_study_adjusted_counts.h5ad')"
   ]
  },
  {
   "cell_type": "code",
   "execution_count": 19,
   "id": "959ec5f3-77c9-4cd4-b61f-c7c32257c3c8",
   "metadata": {
    "tags": []
   },
   "outputs": [],
   "source": [
    "pos_asian = pd.read_csv(data_path + 'mateqtl_input/asian_genos.tsv', sep='\\t', index_col=0)\n",
    "pos_eur = pd.read_csv(data_path + 'mateqtl_input/eur_genos.tsv', sep='\\t', index_col=0)"
   ]
  },
  {
   "cell_type": "code",
   "execution_count": 20,
   "id": "379c9f8d-e87f-45eb-9095-e3aade48f0eb",
   "metadata": {
    "tags": []
   },
   "outputs": [],
   "source": [
    "cts = ['T4', 'cM', 'ncM', 'T8', 'B', 'NK']\n",
    "for ct in cts:\n",
    "        \n",
    "    subset = adata[(adata.obs['cg_cov'] == ct) & (adata.obs['ind_cov'].isin(pos_asian.columns))].copy()\n",
    "    # subset.write(data_path + 'single_cell/asian_{}.h5ad'.format(ct))\n",
    "    asian_ind_list = pos_asian.columns.tolist()\n",
    "\n",
    "    means = []\n",
    "    for ind in asian_ind_list:\n",
    "        view = subset[subset.obs.ind_cov==ind]\n",
    "        if view.shape[0] == 0:\n",
    "            means.append(view.X.sum(axis=0).A1)\n",
    "        else:\n",
    "            means.append(view.X.sum(axis=0).A1)\n",
    "    pseudobulk = pd.DataFrame(np.vstack(means), columns=subset.var.index, index=asian_ind_list)\n",
    "    pseudobulk.to_csv(data_path + 'pseudobulk/asian_{}_sum.csv'.format(ct), sep='\\t')\n",
    "        \n",
    "    subset = adata[(adata.obs['cg_cov'] == ct) & (adata.obs['ind_cov'].isin(pos_eur.columns))].copy()\n",
    "    # subset.write(data_path + 'single_cell/eur_{}.h5ad'.format(ct))\n",
    "    \n",
    "    eur_ind_list = pos_eur.columns.tolist()\n",
    "\n",
    "    means = []\n",
    "    for ind in eur_ind_list:\n",
    "        view = subset[subset.obs.ind_cov==ind]\n",
    "        if view.shape[0] == 0:\n",
    "            means.append(view.X.sum(axis=0).A1)\n",
    "        else:\n",
    "            means.append(view.X.sum(axis=0).A1)\n",
    "    pseudobulk = pd.DataFrame(np.vstack(means), columns=subset.var.index, index=eur_ind_list)\n",
    "    pseudobulk.to_csv(data_path + 'pseudobulk/eur_{}_sum.csv'.format(ct), sep='\\t')\n",
    "    "
   ]
  },
  {
   "cell_type": "markdown",
   "id": "ec987b2a",
   "metadata": {},
   "source": [
    "### Sample the SNP and covariate dataframes"
   ]
  },
  {
   "cell_type": "code",
   "execution_count": null,
   "id": "6f37db51",
   "metadata": {
    "tags": []
   },
   "outputs": [],
   "source": [
    "def drop_zero_col(df):\n",
    "    \n",
    "    return df.loc[:, (df != 0).any(axis=0)].copy()"
   ]
  },
  {
   "cell_type": "markdown",
   "id": "9e38b21f",
   "metadata": {},
   "source": [
    "### Save SNP dataframes"
   ]
  },
  {
   "cell_type": "code",
   "execution_count": 42,
   "id": "50268a5d",
   "metadata": {
    "tags": []
   },
   "outputs": [],
   "source": [
    "# Read the OneK result\n",
    "onek_replication = pd.read_csv(data_path + 'filtered_onek_eqtls.csv')"
   ]
  },
  {
   "cell_type": "code",
   "execution_count": 43,
   "id": "e4ea3037-91fc-4f28-937e-20e566e249ee",
   "metadata": {},
   "outputs": [
    {
     "data": {
      "text/plain": [
       "cg_cov\n",
       "B      1352\n",
       "NK     1528\n",
       "T4     2980\n",
       "T8     2741\n",
       "cM      406\n",
       "ncM     375\n",
       "dtype: int64"
      ]
     },
     "execution_count": 43,
     "metadata": {},
     "output_type": "execute_result"
    }
   ],
   "source": [
    "onek_replication.groupby('cg_cov').size()"
   ]
  },
  {
   "cell_type": "code",
   "execution_count": 44,
   "id": "9b639547-f9de-433f-a735-3ab91489baaa",
   "metadata": {},
   "outputs": [],
   "source": [
    "ct_eqtl_snps = onek_replication.query('cg_cov == \"T4\"')[['rsid']]\n",
    "ct_eqtl_snps.to_csv('one1k_T4_eqtl_snps.csv', index=False)"
   ]
  },
  {
   "cell_type": "code",
   "execution_count": null,
   "id": "14aa6c22-d219-40fc-8bad-39894a2d0f97",
   "metadata": {},
   "outputs": [],
   "source": []
  },
  {
   "cell_type": "code",
   "execution_count": null,
   "id": "0ea4e696-e5fe-469e-ad62-2e3370799613",
   "metadata": {},
   "outputs": [],
   "source": []
  }
 ],
 "metadata": {
  "kernelspec": {
   "display_name": "mementocxg",
   "language": "python",
   "name": "myenv"
  },
  "language_info": {
   "codemirror_mode": {
    "name": "ipython",
    "version": 3
   },
   "file_extension": ".py",
   "mimetype": "text/x-python",
   "name": "python",
   "nbconvert_exporter": "python",
   "pygments_lexer": "ipython3",
   "version": "3.11.5"
  }
 },
 "nbformat": 4,
 "nbformat_minor": 5
}
