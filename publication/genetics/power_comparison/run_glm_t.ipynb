{
 "cells": [
  {
   "cell_type": "markdown",
   "id": "9f5a8eca",
   "metadata": {},
   "source": [
    "# Sampled power analysis"
   ]
  },
  {
   "cell_type": "code",
   "execution_count": 1,
   "id": "5cc2e487",
   "metadata": {
    "tags": []
   },
   "outputs": [
    {
     "name": "stderr",
     "output_type": "stream",
     "text": [
      "/tmp/ipykernel_2707/2212651623.py:13: DeprecationWarning: the imp module is deprecated in favour of importlib and slated for removal in Python 3.12; see the module's documentation for alternative uses\n",
      "  import imp\n"
     ]
    }
   ],
   "source": [
    "import scanpy as sc\n",
    "import seaborn as sns\n",
    "import pandas as pd\n",
    "import matplotlib.pyplot as plt\n",
    "import numpy as np\n",
    "import scipy.stats as stats\n",
    "import itertools\n",
    "import warnings\n",
    "\n",
    "import os\n",
    "import pickle as pkl\n",
    "%matplotlib inline\n",
    "import imp\n",
    "import statsmodels.api as sm"
   ]
  },
  {
   "cell_type": "code",
   "execution_count": 2,
   "id": "84c0e25e",
   "metadata": {
    "tags": []
   },
   "outputs": [],
   "source": [
    "import sys\n",
    "sys.path.append('/home/ubuntu/Github/scrna-parameter-estimation/')\n",
    "sys.path.append('/home/ubuntu/Github/misc-seq/miscseq/')\n",
    "# import encode\n",
    "import memento\n",
    "# import run_memento"
   ]
  },
  {
   "cell_type": "code",
   "execution_count": 3,
   "id": "d9051f62",
   "metadata": {
    "tags": []
   },
   "outputs": [],
   "source": [
    "data_path  = '/Data/lupus/'"
   ]
  },
  {
   "cell_type": "code",
   "execution_count": 4,
   "id": "27588dfb",
   "metadata": {
    "tags": []
   },
   "outputs": [],
   "source": [
    "import matplotlib\n",
    "matplotlib.rcParams['pdf.fonttype'] = 42\n",
    "matplotlib.rcParams['ps.fonttype'] = 42\n",
    "plt.rcParams[\"axes.prop_cycle\"] = plt.cycler(\"color\", ['turquoise', 'silver', 'slategrey'])\n",
    "\n",
    "\n",
    "import matplotlib.pylab as pylab\n",
    "params = {'legend.fontsize': 'medium',\n",
    "         'axes.labelsize': 'medium',\n",
    "         'axes.titlesize':'medium',\n",
    "         'figure.titlesize':'medium',\n",
    "         'xtick.labelsize':'small',\n",
    "         'ytick.labelsize':'small'}\n",
    "pylab.rcParams.update(params)"
   ]
  },
  {
   "cell_type": "markdown",
   "id": "6b626186-b69a-46bb-96ae-90ad33ccf99b",
   "metadata": {},
   "source": [
    "### Read OneK1K hits"
   ]
  },
  {
   "cell_type": "code",
   "execution_count": 5,
   "id": "9ec50eac-a389-4aef-bc35-ce501cd911a4",
   "metadata": {
    "tags": []
   },
   "outputs": [],
   "source": [
    "onek_replication = pd.read_csv(data_path + 'filtered_onek_eqtls.csv').query('cg_cov == \"T4\"')"
   ]
  },
  {
   "cell_type": "code",
   "execution_count": 6,
   "id": "fa1d6b99-cad5-46b7-81b1-4b4798f0d0ed",
   "metadata": {
    "tags": []
   },
   "outputs": [],
   "source": [
    "onek1k_hit_genes = onek_replication.gene.drop_duplicates().tolist()"
   ]
  },
  {
   "cell_type": "markdown",
   "id": "bd361d04-bb66-4a12-874b-9eab1185ce58",
   "metadata": {},
   "source": [
    "### Setup pseudobulk and metadata"
   ]
  },
  {
   "cell_type": "code",
   "execution_count": 10,
   "id": "776b662c-6d22-49cb-b6c6-ec34d2130618",
   "metadata": {
    "tags": []
   },
   "outputs": [],
   "source": [
    "ct = 'T4'"
   ]
  },
  {
   "cell_type": "code",
   "execution_count": 7,
   "id": "959ec5f3-77c9-4cd4-b61f-c7c32257c3c8",
   "metadata": {
    "tags": []
   },
   "outputs": [],
   "source": [
    "pos_asian = pd.read_csv(data_path + 'mateqtl_input/asian_genos.tsv', sep='\\t', index_col=0).T"
   ]
  },
  {
   "cell_type": "code",
   "execution_count": 8,
   "id": "3166ac2a-131d-4034-a911-59fa7e373b88",
   "metadata": {},
   "outputs": [],
   "source": [
    "cov = pd.read_csv(data_path + 'mateqtl_input/asian_mateqtl_cov.txt', sep='\\t', index_col=0).T"
   ]
  },
  {
   "cell_type": "code",
   "execution_count": 14,
   "id": "51264e67-b135-4c70-968c-dc531ce7e0b2",
   "metadata": {
    "tags": []
   },
   "outputs": [],
   "source": [
    "pb = pd.read_csv(data_path + 'pseudobulk/asian_{}_sum.csv'.format(ct), sep='\\t', index_col=0)\n",
    "norm_pb = pd.read_csv(data_path + 'pseudobulk/asian_{}.csv'.format(ct), sep='\\t', index_col=0)"
   ]
  },
  {
   "cell_type": "markdown",
   "id": "78926e65-53f0-4eec-b1b4-472a524b5e4d",
   "metadata": {},
   "source": [
    "### Run t-test "
   ]
  },
  {
   "cell_type": "code",
   "execution_count": 87,
   "id": "8a3487e2-df4f-42fc-b3bd-12d328d52a0e",
   "metadata": {
    "tags": []
   },
   "outputs": [
    {
     "data": {
      "text/plain": [
       "array(2980)"
      ]
     },
     "execution_count": 87,
     "metadata": {},
     "output_type": "execute_result"
    }
   ],
   "source": [
    "pv_list"
   ]
  },
  {
   "cell_type": "code",
   "execution_count": 95,
   "id": "b2d906d5-e848-43a1-8cc2-9604b5b5a511",
   "metadata": {
    "tags": []
   },
   "outputs": [],
   "source": [
    "pv_list = np.zeros(onek_replication.shape[0])\n",
    "gene_idx = 0\n",
    "for idx, row in onek_replication.iterrows():\n",
    "    \n",
    "    gene = row['gene']\n",
    "    snp = row['rsid']\n",
    "    \n",
    "    _, pv_list[gene_idx] = stats.ttest_ind(\n",
    "        norm_pb[gene].values[pos_asian[snp] > 0],\n",
    "        norm_pb[gene].values[pos_asian[snp] ==0])\n",
    "    gene_idx += 1\n",
    "ttest_result = onek_replication[['gene', 'rsid']].copy()\n",
    "ttest_result['ttest_pval'] = pv_list\n",
    "\n",
    "ttest_result.to_csv(data_path + 'ttest_output/asian_T4.txt', sep='\\t', index=False)"
   ]
  },
  {
   "cell_type": "markdown",
   "id": "c6caf3bc-3083-4067-ad8b-9b7255a2b7e5",
   "metadata": {},
   "source": [
    "### Run GLM"
   ]
  },
  {
   "cell_type": "code",
   "execution_count": null,
   "id": "07f0844c-7bd4-4d5e-ad72-9793ca0b899f",
   "metadata": {
    "tags": []
   },
   "outputs": [],
   "source": [
    "pv_list = np.zeros(onek_replication.shape[0])\n",
    "gene_idx = 0\n",
    "for idx, row in onek_replication.iterrows():\n",
    "    \n",
    "    gene = row['gene']\n",
    "    snp = row['rsid']\n",
    "    \n",
    "    design = sm.add_constant(pd.concat(\n",
    "    [\n",
    "        pos_asian[[snp]], \n",
    "        cov\n",
    "    ],\n",
    "    axis=1))\n",
    "    \n",
    "    pos_asian[snp]\n",
    "    try:\n",
    "        res = sm.NegativeBinomial(pb[gene],design).fit()\n",
    "        pv_list[gene_idx] = res.pvalues[snp]\n",
    "    except:\n",
    "        pv_list[gene_idx] = 1\n",
    "    gene_idx += 1\n",
    "    \n",
    "glm_result = onek_replication[['gene', 'rsid']].copy()\n",
    "glm_result['glm_pval'] = pv_list\n",
    "\n",
    "glm_result.to_csv(data_path + 'glm_output/asian_T4.txt', sep='\\t', index=False)"
   ]
  },
  {
   "cell_type": "code",
   "execution_count": 143,
   "id": "0f5c22bf-bafe-4733-badb-358c5bd912be",
   "metadata": {
    "tags": []
   },
   "outputs": [
    {
     "data": {
      "text/plain": [
       "0.3334597875569044"
      ]
     },
     "execution_count": 143,
     "metadata": {},
     "output_type": "execute_result"
    }
   ],
   "source": [
    "(glm_result.query('glm_pval < 1')['glm_pval'] < 0.05).mean()"
   ]
  }
 ],
 "metadata": {
  "kernelspec": {
   "display_name": "mementocxg",
   "language": "python",
   "name": "myenv"
  },
  "language_info": {
   "codemirror_mode": {
    "name": "ipython",
    "version": 3
   },
   "file_extension": ".py",
   "mimetype": "text/x-python",
   "name": "python",
   "nbconvert_exporter": "python",
   "pygments_lexer": "ipython3",
   "version": "3.11.5"
  }
 },
 "nbformat": 4,
 "nbformat_minor": 5
}
