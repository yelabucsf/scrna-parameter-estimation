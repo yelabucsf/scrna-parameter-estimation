{
 "cells": [
  {
   "cell_type": "markdown",
   "id": "ef4471d6-0dc0-4e4d-b820-b512559174dd",
   "metadata": {},
   "source": [
    "# Compare more methods on eQTL task \n",
    "\n",
    "50 asian individuals, hits on T4 cells"
   ]
  },
  {
   "cell_type": "code",
   "execution_count": 1,
   "id": "987ff6e3-8ef0-48ab-bca9-61613c4abf6b",
   "metadata": {
    "tags": []
   },
   "outputs": [],
   "source": [
    "import pandas as pd\n",
    "import seaborn as sns\n",
    "import matplotlib.pyplot as plt\n",
    "import numpy as np"
   ]
  },
  {
   "cell_type": "markdown",
   "id": "e3bc5057-7097-4774-8e95-3a55b68866e5",
   "metadata": {},
   "source": [
    "### Read OneK1K hits"
   ]
  },
  {
   "cell_type": "code",
   "execution_count": 2,
   "id": "a3d293e5-5ee6-438f-8f3f-753e0481c922",
   "metadata": {
    "tags": []
   },
   "outputs": [],
   "source": [
    "data_path  = '/Data/lupus/'"
   ]
  },
  {
   "cell_type": "code",
   "execution_count": 3,
   "id": "74825f37-6b36-43e1-80f0-8b700540758d",
   "metadata": {
    "tags": []
   },
   "outputs": [],
   "source": [
    "onek_replication = pd.read_csv(data_path + 'filtered_onek_eqtls.csv').query('cg_cov == \"T4\"')\n"
   ]
  },
  {
   "cell_type": "markdown",
   "id": "e196e10b-f6ae-40f1-b77c-a52467e75efa",
   "metadata": {},
   "source": [
    "### Read DESeq2 result"
   ]
  },
  {
   "cell_type": "code",
   "execution_count": 4,
   "id": "827d8f86-cc62-48d0-af9c-31607037b597",
   "metadata": {
    "tags": []
   },
   "outputs": [],
   "source": [
    "deseq_es = []\n",
    "deseq_pval = []\n",
    "for idx, row in onek_replication.iterrows():\n",
    "    \n",
    "    gene = row['gene']\n",
    "    rsid = row['rsid']\n",
    "    \n",
    "    deseq2_result = pd.read_csv(data_path + f'deseq2_output/onek1k_T4_deseq2_{rsid}.csv', index_col=0)\n",
    "    if gene not in deseq2_result.index.tolist():\n",
    "        deseq_es.append( np.nan)\n",
    "        deseq_pval.append(np.nan ) \n",
    "    else:\n",
    "        deseq_es.append( deseq2_result.loc[gene, 'log2FoldChange'] )\n",
    "        deseq_pval.append( deseq2_result.loc[gene, 'pvalue'] )"
   ]
  },
  {
   "cell_type": "code",
   "execution_count": 5,
   "id": "dc392ac8-26e3-466f-95f9-aeea807d9fa5",
   "metadata": {
    "tags": []
   },
   "outputs": [],
   "source": [
    "deseq_pval = np.array(deseq_pval)\n",
    "deseq_result = pd.DataFrame()\n",
    "deseq_result['pval'] = deseq_pval\n",
    "deseq_result['method'] = 'DESeq2'"
   ]
  },
  {
   "cell_type": "markdown",
   "id": "94546d4f-368b-493f-9dfc-ecfa83eb42c2",
   "metadata": {},
   "source": [
    "### Read memento result"
   ]
  },
  {
   "cell_type": "code",
   "execution_count": 6,
   "id": "bb3ff84f-86f3-4ed6-b773-a0e915341d31",
   "metadata": {
    "tags": []
   },
   "outputs": [],
   "source": [
    "mem = pd.read_csv(data_path + 'memento_1k/asian_T4.csv').rename(columns={'tx':'rsid', 'de_pval':'mem_pval'})[['gene', 'rsid', 'mem_pval']]"
   ]
  },
  {
   "cell_type": "code",
   "execution_count": 7,
   "id": "3ffe5934-b2de-42d8-a90e-3890d21aec05",
   "metadata": {
    "tags": []
   },
   "outputs": [],
   "source": [
    "mem_result = pd.DataFrame()\n",
    "mem_result['pval'] = mem['mem_pval'].values\n",
    "mem_result['method'] = 'memento'"
   ]
  },
  {
   "cell_type": "markdown",
   "id": "37b34a1d-a737-4dfe-a7fe-a29eced89741",
   "metadata": {},
   "source": [
    "### Read matrix eqtl result"
   ]
  },
  {
   "cell_type": "code",
   "execution_count": 8,
   "id": "8de18135-01ab-4559-8abc-c996980fead9",
   "metadata": {
    "tags": []
   },
   "outputs": [],
   "source": [
    "meq = pd.read_csv(data_path + 'mateqtl_output/asian_T4_filtered.out', sep='\\t').rename(columns={'SNP':'rsid', 'p-value':'meq_pval'})[['gene', 'rsid', 'meq_pval']]\n",
    "meq = meq.merge(mem[['gene', 'rsid']], on=['gene', 'rsid'], how='right')"
   ]
  },
  {
   "cell_type": "code",
   "execution_count": 9,
   "id": "e41f0e6f-49eb-401f-9844-234366854fbd",
   "metadata": {
    "tags": []
   },
   "outputs": [],
   "source": [
    "meq_result = pd.DataFrame()\n",
    "meq_result['pval'] = meq['meq_pval'].values\n",
    "meq_result['method'] = 'Matrix eQTL'"
   ]
  },
  {
   "cell_type": "markdown",
   "id": "2da2a53a-88ba-4555-a4ba-d80c2e24d4c9",
   "metadata": {},
   "source": [
    "### Read ttest result"
   ]
  },
  {
   "cell_type": "code",
   "execution_count": 10,
   "id": "5eb9b003-1881-429c-9542-971a0d0b0f83",
   "metadata": {
    "tags": []
   },
   "outputs": [],
   "source": [
    "ttest = pd.read_csv(data_path + 'ttest_output/asian_T4.txt', sep='\\t')\n",
    "ttest = ttest.merge(mem[['gene', 'rsid']], on=['gene', 'rsid'], how='right')"
   ]
  },
  {
   "cell_type": "code",
   "execution_count": 11,
   "id": "ad075b14-80aa-4631-b867-4104f3a07686",
   "metadata": {
    "tags": []
   },
   "outputs": [],
   "source": [
    "ttest_result = pd.DataFrame()\n",
    "ttest_result['pval'] = ttest['ttest_pval'].values\n",
    "ttest_result['method'] = 't-test'"
   ]
  },
  {
   "cell_type": "markdown",
   "id": "26b4ae3a-da45-49cc-850a-5f9e27dce95f",
   "metadata": {},
   "source": [
    "### Read GLM result"
   ]
  },
  {
   "cell_type": "code",
   "execution_count": 12,
   "id": "7d297e27-d04e-4756-a755-155c5c810f88",
   "metadata": {
    "tags": []
   },
   "outputs": [],
   "source": [
    "glm = pd.read_csv(data_path + 'glm_output/asian_T4.txt', sep='\\t')\n",
    "glm = glm.merge(mem[['gene', 'rsid']], on=['gene', 'rsid'], how='right')"
   ]
  },
  {
   "cell_type": "code",
   "execution_count": 13,
   "id": "9ab764c0-6cb9-46a0-bef3-32a1ba883f4d",
   "metadata": {
    "tags": []
   },
   "outputs": [],
   "source": [
    "glm_result = pd.DataFrame()\n",
    "glm_result['pval'] = glm['glm_pval'].values\n",
    "glm_result['method'] = 'NB GLM'"
   ]
  },
  {
   "cell_type": "markdown",
   "id": "38481825-ff95-4286-b390-4b333f0014b9",
   "metadata": {},
   "source": [
    "### Combine results"
   ]
  },
  {
   "cell_type": "code",
   "execution_count": 14,
   "id": "f344b537-10ca-4658-8263-eafb3bffb0c6",
   "metadata": {},
   "outputs": [],
   "source": [
    "results = [ttest_result, glm_result, deseq_result, meq_result, mem_result][::-1]"
   ]
  },
  {
   "cell_type": "code",
   "execution_count": 15,
   "id": "e52f208f-5a22-4f28-b7cd-dd52cc65b4bf",
   "metadata": {
    "tags": []
   },
   "outputs": [],
   "source": [
    "combined_results = pd.concat(results)\n",
    "combined_results['Power'] = combined_results['pval'] < 0.05"
   ]
  },
  {
   "cell_type": "code",
   "execution_count": 16,
   "id": "d7bac3b6-afbc-4a58-addc-7a17b02ffba8",
   "metadata": {
    "tags": []
   },
   "outputs": [
    {
     "data": {
      "image/png": "[encoded data removed]",
      "text/plain": [
       "<Figure size 400x300 with 1 Axes>"
      ]
     },
     "metadata": {},
     "output_type": "display_data"
    }
   ],
   "source": [
    "plt.figure(figsize=(4,3))\n",
    "sns.pointplot(x='Power', y='method', data=combined_results, errorbar='se', capsize=0.05, linestyle='')\n",
    "plt.title('eQTL power analysis using other bulk approaches')\n",
    "plt.savefig('eqtl_bulk_methods.png', dpi=300, bbox_inches='tight')"
   ]
  },
  {
   "cell_type": "code",
   "execution_count": null,
   "id": "6950fd5a-327b-438e-b432-266e4f832add",
   "metadata": {},
   "outputs": [],
   "source": []
  },
  {
   "cell_type": "code",
   "execution_count": null,
   "id": "6445ce89-879d-4261-ba14-ac887263674b",
   "metadata": {},
   "outputs": [],
   "source": []
  }
 ],
 "metadata": {
  "kernelspec": {
   "display_name": "mementocxg",
   "language": "python",
   "name": "myenv"
  },
  "language_info": {
   "codemirror_mode": {
    "name": "ipython",
    "version": 3
   },
   "file_extension": ".py",
   "mimetype": "text/x-python",
   "name": "python",
   "nbconvert_exporter": "python",
   "pygments_lexer": "ipython3",
   "version": "3.11.5"
  }
 },
 "nbformat": 4,
 "nbformat_minor": 5
}
