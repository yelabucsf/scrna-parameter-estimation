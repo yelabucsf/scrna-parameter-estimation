{
 "cells": [
  {
   "cell_type": "markdown",
   "id": "88737a2c-b207-4b61-be73-89f4dbf18837",
   "metadata": {},
   "source": [
    "# Using DESeq2 for eQTLs"
   ]
  },
  {
   "cell_type": "code",
   "execution_count": 1,
   "id": "2d25c785-867f-4b04-af4c-12fc097ae95d",
   "metadata": {
    "tags": []
   },
   "outputs": [],
   "source": [
    "suppressMessages(library(edgeR))\n",
    "suppressMessages(library(DESeq2))\n",
    "suppressMessages(library('foreach'))\n",
    "suppressMessages(library('doParallel'))"
   ]
  },
  {
   "cell_type": "code",
   "execution_count": 2,
   "id": "599b7534-5ed7-4b73-821e-2b3196d193a9",
   "metadata": {
    "tags": []
   },
   "outputs": [],
   "source": [
    "data_path <- '/Data/lupus/'\n"
   ]
  },
  {
   "cell_type": "code",
   "execution_count": 3,
   "id": "b9edc761-ac45-4d0b-ac14-289ddd7cffc5",
   "metadata": {
    "tags": []
   },
   "outputs": [],
   "source": [
    "snps <- as.data.frame(t(read.table(paste(data_path, 'mateqtl_input/asian_filtered_genos.tsv', sep=''), sep='\\t', header=1, row.names=1, check.names = FALSE)))"
   ]
  },
  {
   "cell_type": "code",
   "execution_count": 4,
   "id": "3981cb1c-b672-4be1-8bbc-78de3c4b0619",
   "metadata": {
    "tags": []
   },
   "outputs": [
    {
     "data": {
      "text/html": [
       "<style>\n",
       ".list-inline {list-style: none; margin:0; padding: 0}\n",
       ".list-inline>li {display: inline-block}\n",
       ".list-inline>li:not(:last-child)::after {content: \"\\00b7\"; padding: 0 .5ex}\n",
       "</style>\n",
       "<ol class=list-inline><li>97</li><li>7434</li></ol>\n"
      ],
      "text/latex": [
       "\\begin{enumerate*}\n",
       "\\item 97\n",
       "\\item 7434\n",
       "\\end{enumerate*}\n"
      ],
      "text/markdown": [
       "1. 97\n",
       "2. 7434\n",
       "\n",
       "\n"
      ],
      "text/plain": [
       "[1]   97 7434"
      ]
     },
     "metadata": {},
     "output_type": "display_data"
    }
   ],
   "source": [
    "dim(snps)"
   ]
  },
  {
   "cell_type": "code",
   "execution_count": 5,
   "id": "aa2e9179-a731-40f4-ba1a-3a52219c6160",
   "metadata": {
    "tags": []
   },
   "outputs": [],
   "source": [
    "ct <- 'T4'"
   ]
  },
  {
   "cell_type": "code",
   "execution_count": 6,
   "id": "1aceb059-16b1-4098-9c3c-600072a4f1a2",
   "metadata": {
    "tags": []
   },
   "outputs": [],
   "source": [
    "data <- t(read.table(paste(data_path, 'pseudobulk/asian_', ct, '_sum.csv', sep=''), sep='\\t', header=1, row.names=1))"
   ]
  },
  {
   "cell_type": "code",
   "execution_count": 7,
   "id": "597f07be-3fea-4afd-803b-76d77da76706",
   "metadata": {
    "tags": []
   },
   "outputs": [],
   "source": [
    "cov = as.data.frame(t(read.table(paste(data_path, 'mateqtl_input/asian_mateqtl_cov.txt', sep=''), sep='\\t', header=1, row.names=1, check.names=FALSE)))"
   ]
  },
  {
   "cell_type": "code",
   "execution_count": 8,
   "id": "5aa7b958-f781-4dea-8fdc-4151c04c8bfd",
   "metadata": {
    "tags": []
   },
   "outputs": [],
   "source": [
    "snps_to_check <- read.table('one1k_T4_eqtl_snps.csv', header=1)[[1]]"
   ]
  },
  {
   "cell_type": "code",
   "execution_count": 9,
   "id": "b18a3e48-6aad-48ea-8705-888e74759b76",
   "metadata": {
    "tags": []
   },
   "outputs": [
    {
     "data": {
      "text/html": [
       "48"
      ],
      "text/latex": [
       "48"
      ],
      "text/markdown": [
       "48"
      ],
      "text/plain": [
       "[1] 48"
      ]
     },
     "metadata": {},
     "output_type": "display_data"
    },
    {
     "name": "stdout",
     "output_type": "stream",
     "text": [
      "socket cluster with 40 nodes on host ‘localhost’\n"
     ]
    }
   ],
   "source": [
    "# Set up parallel computing\n",
    "\n",
    "parallel::detectCores()\n",
    "n.cores <- 40\n",
    "\n",
    "#create the cluster\n",
    "my.cluster <- parallel::makeCluster(\n",
    "  n.cores, \n",
    "  type = \"FORK\"\n",
    "  )\n",
    "\n",
    "#check cluster definition (optional)\n",
    "print(my.cluster)"
   ]
  },
  {
   "cell_type": "code",
   "execution_count": 10,
   "id": "0b8dacc3-0408-4d8d-a7ff-1e1add726440",
   "metadata": {
    "tags": []
   },
   "outputs": [
    {
     "data": {
      "text/html": [
       "TRUE"
      ],
      "text/latex": [
       "TRUE"
      ],
      "text/markdown": [
       "TRUE"
      ],
      "text/plain": [
       "[1] TRUE"
      ]
     },
     "metadata": {},
     "output_type": "display_data"
    }
   ],
   "source": [
    "#register it to be used by %dopar%\n",
    "doParallel::registerDoParallel(cl = my.cluster)\n",
    "\n",
    "#check if it is registered (optional)\n",
    "foreach::getDoParRegistered()"
   ]
  },
  {
   "cell_type": "code",
   "execution_count": 11,
   "id": "e14304ea-a908-4529-a00e-52ab1f3f0f2d",
   "metadata": {
    "tags": []
   },
   "outputs": [
    {
     "name": "stdout",
     "output_type": "stream",
     "text": [
      "Time difference of -50.30496 mins\n"
     ]
    }
   ],
   "source": [
    "start <- Sys.time()\n",
    "returned <-  foreach(i=1:length(snps_to_check)) %dopar% {\n",
    "    snp_var <- snps_to_check[i]\n",
    "    treat_cov = cov\n",
    "    treat_cov['snp'] <- snps[[snp_var]]\n",
    "\n",
    "    dds <- DESeqDataSetFromMatrix(\n",
    "        countData = round(data),\n",
    "        colData = treat_cov, \n",
    "        design= ~snp)\n",
    "    dds <- suppressMessages(DESeq(dds))\n",
    "    res <- results(dds, name=\"snp\")\n",
    "    write.csv(res, paste(data_path, 'deseq2_output/onek1k_T4_deseq2_',snp_var, '.csv', sep=''))\n",
    "\n",
    "  }\n",
    "end <- Sys.time()\n",
    "print(start-end)"
   ]
  },
  {
   "cell_type": "code",
   "execution_count": 12,
   "id": "a1854e80-9ce7-4ce4-96ce-211f68c9affb",
   "metadata": {
    "tags": []
   },
   "outputs": [
    {
     "name": "stdout",
     "output_type": "stream",
     "text": [
      "Time difference of -1.277886 hours\n"
     ]
    }
   ],
   "source": [
    "start <- Sys.time()\n",
    "returned <-  foreach(i=1:length(snps_to_check)) %dopar% {\n",
    "    snp_var <- snps_to_check[i]\n",
    "    treat_cov = cov\n",
    "    treat_cov['snp'] <- snps[[snp_var]]\n",
    "\n",
    "    dds <- DESeqDataSetFromMatrix(\n",
    "        countData = round(data),\n",
    "        colData = treat_cov, \n",
    "        design= as.matrix(treat_cov))\n",
    "    dds <- suppressMessages(DESeq(dds))\n",
    "    res <- results(dds, name=\"snp\")\n",
    "    write.csv(res, paste(data_path, 'deseq2_output/onek1k_cM_deseq2_allcov_',snp_var, '.csv', sep=''))\n",
    "\n",
    "  }\n",
    "end <- Sys.time()\n",
    "print(start-end)"
   ]
  },
  {
   "cell_type": "code",
   "execution_count": null,
   "id": "d0a1d986-c174-4db7-8e7d-22a738a0d52c",
   "metadata": {},
   "outputs": [],
   "source": [
    "1.277886"
   ]
  }
 ],
 "metadata": {
  "kernelspec": {
   "display_name": "R",
   "language": "R",
   "name": "ir"
  },
  "language_info": {
   "codemirror_mode": "r",
   "file_extension": ".r",
   "mimetype": "text/x-r-source",
   "name": "R",
   "pygments_lexer": "r",
   "version": "4.3.2"
  }
 },
 "nbformat": 4,
 "nbformat_minor": 5
}
