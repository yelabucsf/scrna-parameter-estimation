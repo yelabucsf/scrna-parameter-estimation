{
 "cells": [
  {
   "cell_type": "markdown",
   "id": "05d87f4a",
   "metadata": {},
   "source": [
    "# Process the lupus data\n",
    "\n",
    "- Filter and subset by cell type\n",
    "- Create pseudobulks for matrix eQTL"
   ]
  },
  {
   "cell_type": "code",
   "execution_count": 1,
   "id": "b03554af",
   "metadata": {},
   "outputs": [],
   "source": [
    "import scanpy as sc\n",
    "import seaborn as sns\n",
    "import pandas as pd\n",
    "import matplotlib.pyplot as plt\n",
    "import numpy as np\n",
    "import scipy.stats as stats\n",
    "import itertools\n",
    "from pybedtools import BedTool\n",
    "import statsmodels.formula.api as smf\n",
    "import statsmodels.api as sm\n",
    "\n",
    "import os\n",
    "import pickle as pkl\n",
    "%matplotlib inline\n",
    "import qvalue"
   ]
  },
  {
   "cell_type": "code",
   "execution_count": 2,
   "id": "7d8745c9",
   "metadata": {},
   "outputs": [],
   "source": [
    "import sys\n",
    "sys.path.append('/home/ssm-user/Github/scrna-parameter-estimation/dist/memento-0.0.8-py3.8.egg')\n",
    "sys.path.append('/home/ssm-user/Github/misc-seq/miscseq/')\n",
    "import encode\n",
    "import memento"
   ]
  },
  {
   "cell_type": "code",
   "execution_count": 3,
   "id": "07b949a1",
   "metadata": {},
   "outputs": [],
   "source": [
    "data_path  = '/data_volume/memento/lupus/'"
   ]
  },
  {
   "cell_type": "markdown",
   "id": "7a593c12",
   "metadata": {},
   "source": [
    "### Read the lupus data"
   ]
  },
  {
   "cell_type": "code",
   "execution_count": null,
   "id": "a0a88716",
   "metadata": {},
   "outputs": [],
   "source": [
    "pos_asian = pd.read_csv(data_path + 'mateqtl_input/asian/cm_cg.genos', sep='\\t', index_col=0)\n",
    "pos_eur = pd.read_csv(data_path + 'mateqtl_input/eur/cm.genos', sep='\\t', index_col=0)"
   ]
  },
  {
   "cell_type": "code",
   "execution_count": null,
   "id": "287a40f1",
   "metadata": {},
   "outputs": [],
   "source": [
    "print(pos_asian.shape, pos_eur.shape)"
   ]
  },
  {
   "cell_type": "code",
   "execution_count": null,
   "id": "8fd6dd9e",
   "metadata": {},
   "outputs": [],
   "source": [
    "pos_asian = pos_asian[~pos_asian.index.duplicated(keep='first')]\n",
    "pos_eur = pos_eur[~pos_eur.index.duplicated(keep='first')]"
   ]
  },
  {
   "cell_type": "code",
   "execution_count": null,
   "id": "6ceba3b3",
   "metadata": {},
   "outputs": [],
   "source": [
    "print(pos_asian.shape, pos_eur.shape)"
   ]
  },
  {
   "cell_type": "code",
   "execution_count": null,
   "id": "38be9105",
   "metadata": {},
   "outputs": [],
   "source": [
    "common_snps = list(set(pos_asian.index) & set(pos_eur.index))"
   ]
  },
  {
   "cell_type": "code",
   "execution_count": null,
   "id": "260defb7",
   "metadata": {},
   "outputs": [],
   "source": [
    "pos_asian = pos_asian.loc[common_snps]\n",
    "pos_eur = pos_eur.loc[common_snps]"
   ]
  },
  {
   "cell_type": "code",
   "execution_count": null,
   "id": "04a2e85c",
   "metadata": {},
   "outputs": [],
   "source": [
    "pos_asian.to_csv(data_path + 'mateqtl_input/asian_genos.tsv', sep='\\t')\n",
    "pos_eur.to_csv(data_path + 'mateqtl_input/eur_genos.tsv', sep='\\t')"
   ]
  },
  {
   "cell_type": "code",
   "execution_count": null,
   "id": "63ca9211",
   "metadata": {},
   "outputs": [],
   "source": [
    "pos_asian.shape"
   ]
  },
  {
   "cell_type": "code",
   "execution_count": 10,
   "id": "03f2be0a",
   "metadata": {},
   "outputs": [
    {
     "data": {
      "text/plain": [
       "(3285470, 91)"
      ]
     },
     "execution_count": 10,
     "metadata": {},
     "output_type": "execute_result"
    }
   ],
   "source": [
    "pos_eur.shape"
   ]
  },
  {
   "cell_type": "code",
   "execution_count": 4,
   "id": "add71bad",
   "metadata": {},
   "outputs": [],
   "source": [
    "adata = sc.read(data_path + 'Lupus_study_adjusted_counts.h5ad')"
   ]
  },
  {
   "cell_type": "code",
   "execution_count": 7,
   "id": "9eb9733d",
   "metadata": {},
   "outputs": [
    {
     "data": {
      "text/plain": [
       "440.15186346220827"
      ]
     },
     "execution_count": 7,
     "metadata": {},
     "output_type": "execute_result"
    }
   ],
   "source": [
    "adata.obs.groupby(['ind_cov', 'cg_cov']).size().mean()"
   ]
  },
  {
   "cell_type": "code",
   "execution_count": 5,
   "id": "918edd30",
   "metadata": {},
   "outputs": [
    {
     "data": {
      "text/plain": [
       "4841.6704980842915"
      ]
     },
     "execution_count": 5,
     "metadata": {},
     "output_type": "execute_result"
    }
   ],
   "source": [
    "adata.obs.ind_cov.value_counts().mean()"
   ]
  },
  {
   "cell_type": "code",
   "execution_count": 12,
   "id": "686bb04d",
   "metadata": {},
   "outputs": [
    {
     "data": {
      "text/plain": [
       "T4        380477\n",
       "cM        307429\n",
       "T8        248927\n",
       "B         151570\n",
       "NK         92554\n",
       "ncM        48800\n",
       "cDC        18203\n",
       "Prolif      8265\n",
       "pDC         5233\n",
       "PB          1411\n",
       "Progen       807\n",
       "Name: cg_cov, dtype: int64"
      ]
     },
     "execution_count": 12,
     "metadata": {},
     "output_type": "execute_result"
    }
   ],
   "source": [
    "adata.obs.cg_cov.value_counts()"
   ]
  },
  {
   "cell_type": "code",
   "execution_count": 22,
   "id": "e80228e6",
   "metadata": {},
   "outputs": [],
   "source": [
    "asian_snpspos = pd.read_csv('/data_volume/memento/lupus/mateqtl_input/asian/cm_cg.snpspos.txt', sep='\\t', index_col=0)\n",
    "eur_snpspos = pd.read_csv('/data_volume/memento/lupus/mateqtl_input/eur/cm_cg.snpspos.txt', sep='\\t', index_col=0)"
   ]
  },
  {
   "cell_type": "code",
   "execution_count": 24,
   "id": "f60e02f0",
   "metadata": {},
   "outputs": [],
   "source": [
    "asian_snpspos.loc[common_snps]\\\n",
    "    .to_csv('/data_volume/memento/lupus/full_analysis/mateqtl/inputs/asian_snpspos.txt', sep='\\t')\n",
    "eur_snpspos.loc[common_snps]\\\n",
    "    .to_csv('/data_volume/memento/lupus/full_analysis/mateqtl/inputs/eur_snpspos.txt', sep='\\t')"
   ]
  },
  {
   "cell_type": "markdown",
   "id": "0f04dd68",
   "metadata": {},
   "source": [
    "### Read cell types from 1K1K results"
   ]
  },
  {
   "cell_type": "code",
   "execution_count": 13,
   "id": "4840a075",
   "metadata": {},
   "outputs": [],
   "source": [
    "onek1k_pos = pd.read_csv('1k1k_snps_chrpos.txt', header=None).iloc[:,0].tolist()\n",
    "onek1k_info = pd.read_csv('1k1k_snp_info.txt', sep='\\t', header=None).iloc[:,:3]\n",
    "onek1k_info.columns = ['chr', 'pos', 'name']\n",
    "onek1k_info['rsid'] = onek1k_info['chr'].astype(str) + ':' + onek1k_info['pos'].astype(str)"
   ]
  },
  {
   "cell_type": "code",
   "execution_count": 14,
   "id": "21b396bc",
   "metadata": {},
   "outputs": [],
   "source": [
    "onek_replication = pd.read_csv(data_path + 'OneK1K_eqtls_for_replication.txt', sep='\\t')#.query('cell_type == \"Mono_C\"')"
   ]
  },
  {
   "cell_type": "code",
   "execution_count": 15,
   "id": "d57a1d3a",
   "metadata": {},
   "outputs": [],
   "source": [
    "onek_replication = onek_replication.merge(onek1k_info, left_on='SNP_rsID', right_on='name')#.query('cell_type == \"Mono_C\"')"
   ]
  },
  {
   "cell_type": "code",
   "execution_count": 34,
   "id": "e869a07d",
   "metadata": {},
   "outputs": [],
   "source": [
    "ct_converter = {\n",
    "    'CD4_Naïve_CM':'T4',\n",
    "    'CD4_EM_TEMRA':'T4',\n",
    "    'CD4_SOX4':'T4',\n",
    "    'CD8_EM_TEMRA':'T8',\n",
    "    'CD8_Naïve_CM':'T8',\n",
    "    'CD8_S100B':'T8',\n",
    "    'Mono_C':'cM',\n",
    "    'Mono_NC':'ncM',\n",
    "    'NK':'NK',\n",
    "    'NK_recruiting':'NK',\n",
    "    'B_Imm_Naïve':'B',\n",
    "    'BMem':'B',\n",
    "    'Plasma':'B'\n",
    "}"
   ]
  },
  {
   "cell_type": "code",
   "execution_count": 35,
   "id": "528c315a",
   "metadata": {},
   "outputs": [],
   "source": [
    "cts = list(set([y for x,y in ct_converter.items()]))"
   ]
  },
  {
   "cell_type": "code",
   "execution_count": 36,
   "id": "88f43e2c",
   "metadata": {},
   "outputs": [
    {
     "data": {
      "text/plain": [
       "['T4', 'cM', 'ncM', 'T8', 'B', 'NK']"
      ]
     },
     "execution_count": 36,
     "metadata": {},
     "output_type": "execute_result"
    }
   ],
   "source": [
    "cts"
   ]
  },
  {
   "cell_type": "code",
   "execution_count": 18,
   "id": "7434e1b8",
   "metadata": {},
   "outputs": [],
   "source": [
    "onek_replication = onek_replication.\\\n",
    "    query('rsid in @pos_asian.index.tolist() & cell_type in @ct_converter.keys() & GeneID in @adata.var.index')\\\n",
    "    .rename(columns={'GeneID':'gene'})"
   ]
  },
  {
   "cell_type": "code",
   "execution_count": 19,
   "id": "da281b5b",
   "metadata": {},
   "outputs": [],
   "source": [
    "onek_replication['cg_cov'] = onek_replication['cell_type'].apply(lambda x: ct_converter[x])"
   ]
  },
  {
   "cell_type": "code",
   "execution_count": 20,
   "id": "19c15474",
   "metadata": {},
   "outputs": [],
   "source": [
    "onek_replication.to_csv(data_path + 'filtered_onek_eqtls.csv', index=False)"
   ]
  },
  {
   "cell_type": "code",
   "execution_count": 21,
   "id": "5b4e1c2b",
   "metadata": {},
   "outputs": [
    {
     "data": {
      "text/plain": [
       "(9382, 10)"
      ]
     },
     "execution_count": 21,
     "metadata": {},
     "output_type": "execute_result"
    }
   ],
   "source": [
    "onek_replication.shape"
   ]
  },
  {
   "cell_type": "markdown",
   "id": "00cabc9d",
   "metadata": {},
   "source": [
    "### Make subsets and pseudobulks"
   ]
  },
  {
   "cell_type": "code",
   "execution_count": 4,
   "id": "64403360",
   "metadata": {},
   "outputs": [],
   "source": [
    "adata = sc.read(data_path + 'Lupus_study_adjusted_counts.h5ad')"
   ]
  },
  {
   "cell_type": "code",
   "execution_count": 24,
   "id": "b3205479",
   "metadata": {},
   "outputs": [],
   "source": [
    "for ct in cts:\n",
    "        \n",
    "    subset = adata[(adata.obs['cg_cov'] == ct) & (adata.obs['ind_cov'].isin(pos_asian.columns))].copy()\n",
    "    subset.write(data_path + 'single_cell/asian_{}.h5ad'.format(ct))\n",
    "    asian_ind_list = pos_asian.columns.tolist()\n",
    "\n",
    "    means = []\n",
    "    for ind in asian_ind_list:\n",
    "        view = subset[subset.obs.ind_cov==ind]\n",
    "        if view.shape[0] == 0:\n",
    "            means.append(np.log(view.X.sum(axis=0).A1+1))\n",
    "        else:\n",
    "            means.append(np.log(view.X.mean(axis=0).A1+1))\n",
    "    pseudobulk = pd.DataFrame(np.vstack(means), columns=subset.var.index, index=asian_ind_list)\n",
    "    pseudobulk.to_csv(data_path + 'pseudobulk/asian_{}.csv'.format(ct), sep='\\t')\n",
    "        \n",
    "    subset = adata[(adata.obs['cg_cov'] == ct) & (adata.obs['ind_cov'].isin(pos_eur.columns))].copy()\n",
    "    subset.write(data_path + 'single_cell/eur_{}.h5ad'.format(ct))\n",
    "    eur_ind_list = pos_eur.columns.tolist()\n",
    "\n",
    "    means = []\n",
    "    for ind in eur_ind_list:\n",
    "        view = subset[subset.obs.ind_cov==ind]\n",
    "        if view.shape[0] == 0:\n",
    "            means.append(np.log(view.X.sum(axis=0).A1+1))\n",
    "        else:\n",
    "            means.append(np.log(view.X.mean(axis=0).A1+1))\n",
    "    pseudobulk = pd.DataFrame(np.vstack(means), columns=subset.var.index, index=eur_ind_list)\n",
    "    pseudobulk.to_csv(data_path + 'pseudobulk/eur_{}.csv'.format(ct), sep='\\t')\n",
    "    "
   ]
  },
  {
   "cell_type": "markdown",
   "id": "81547388",
   "metadata": {},
   "source": [
    "### Make covariate file"
   ]
  },
  {
   "cell_type": "code",
   "execution_count": 25,
   "id": "3666db53",
   "metadata": {},
   "outputs": [],
   "source": [
    "asian_cov = pd.read_csv(data_path + 'mateqtl_input/asian/cm_cg.mateqtl_cov.txt', sep='\\t', index_col=0).T\n",
    "eur_cov = pd.read_csv(data_path + 'mateqtl_input/eur/cm.mateqtl_cov.txt', sep='\\t', index_col=0).T"
   ]
  },
  {
   "cell_type": "code",
   "execution_count": 26,
   "id": "c6c7e69c",
   "metadata": {},
   "outputs": [],
   "source": [
    "asian_cov['batch_cov'] = 'b_'+asian_cov['batch_cov'].astype(int).astype(str)\n",
    "eur_cov['batch_cov'] = 'b_'+eur_cov['batch_cov'].astype(int).astype(str)"
   ]
  },
  {
   "cell_type": "code",
   "execution_count": null,
   "id": "d3fc8cb8",
   "metadata": {},
   "outputs": [],
   "source": [
    "# asian_cov['pop'] = 1.0\n",
    "# eur_cov['pop'] = 0.0"
   ]
  },
  {
   "cell_type": "code",
   "execution_count": null,
   "id": "cd9503aa",
   "metadata": {},
   "outputs": [],
   "source": [
    "# asian_cov = asian_cov.drop('batch_cov', axis=1)\n",
    "# eur_cov = eur_cov.drop('batch_cov', axis=1)"
   ]
  },
  {
   "cell_type": "code",
   "execution_count": null,
   "id": "99228291",
   "metadata": {},
   "outputs": [],
   "source": [
    "asian_cov = pd.get_dummies(asian_cov, drop_first=True)\n",
    "eur_cov = pd.get_dummies(eur_cov, drop_first=True)"
   ]
  },
  {
   "cell_type": "code",
   "execution_count": null,
   "id": "acbb5ea2",
   "metadata": {},
   "outputs": [],
   "source": [
    "asian_cov.T.to_csv(data_path + 'mateqtl_input/asian_mateqtl_cov.txt', sep='\\t')\n",
    "eur_cov.T.to_csv(data_path + 'mateqtl_input/eur_mateqtl_cov.txt', sep='\\t')"
   ]
  },
  {
   "cell_type": "markdown",
   "id": "f0863b56",
   "metadata": {},
   "source": [
    "### Save a filtered copy of SNPs"
   ]
  },
  {
   "cell_type": "code",
   "execution_count": 203,
   "id": "33f4e278",
   "metadata": {},
   "outputs": [],
   "source": [
    "pos.loc[onek_replication['rsid'].drop_duplicates().tolist()].to_csv(data_path + 'mateqtl_input/filtered_genos.tsv', sep='\\t')\n",
    "\n"
   ]
  },
  {
   "cell_type": "code",
   "execution_count": 258,
   "id": "3ac733dd",
   "metadata": {},
   "outputs": [],
   "source": [
    "pos_asian.loc[onek_replication['rsid'].drop_duplicates().tolist()]\\\n",
    "    .to_csv(data_path + 'mateqtl_input/asian_filtered_genos.tsv', sep='\\t')\n",
    "pos_eur.loc[onek_replication['rsid'].drop_duplicates().tolist()]\\\n",
    "    .to_csv(data_path + 'mateqtl_input/eur_filtered_genos.tsv', sep='\\t')"
   ]
  },
  {
   "cell_type": "code",
   "execution_count": 35,
   "id": "48f6f459",
   "metadata": {},
   "outputs": [],
   "source": [
    "shuffled_pos = pos.loc[onek_replication['rsid'].drop_duplicates().tolist()].copy()"
   ]
  },
  {
   "cell_type": "code",
   "execution_count": 36,
   "id": "f6af9c78",
   "metadata": {},
   "outputs": [],
   "source": [
    "def crazyshuffle(arr):\n",
    "    x, y = arr.shape\n",
    "    rows = np.indices((x,y))[0]\n",
    "    cols = [np.random.permutation(y) for _ in range(x)]\n",
    "    return arr[rows, cols]"
   ]
  },
  {
   "cell_type": "code",
   "execution_count": 37,
   "id": "efb74942",
   "metadata": {},
   "outputs": [],
   "source": [
    "shuffled_pos[shuffled_pos.columns] = crazyshuffle(shuffled_pos.values)"
   ]
  },
  {
   "cell_type": "code",
   "execution_count": 42,
   "id": "cd93da50",
   "metadata": {},
   "outputs": [],
   "source": [
    "shuffled_pos.to_csv(data_path + 'mateqtl_input/shuffled_filtered_genos.tsv', sep='\\t')"
   ]
  },
  {
   "cell_type": "markdown",
   "id": "db953c0c",
   "metadata": {},
   "source": [
    "### Create gene-SNP pairs based on genomic locations"
   ]
  },
  {
   "cell_type": "code",
   "execution_count": 5,
   "id": "42e01e8e",
   "metadata": {},
   "outputs": [],
   "source": [
    "from pybedtools import BedTool"
   ]
  },
  {
   "cell_type": "code",
   "execution_count": 6,
   "id": "ea01cbc0",
   "metadata": {},
   "outputs": [],
   "source": [
    "enc = encode.Encode('/home/ssm-user/Github/misc-seq/miscseq/Hg19Genes.bed')"
   ]
  },
  {
   "cell_type": "code",
   "execution_count": 11,
   "id": "bda3074f",
   "metadata": {},
   "outputs": [],
   "source": [
    "tss_df = enc.get_tss_window(window_size=0)\n",
    "gene_df = enc.gene_locations.groupby(['symbol', 'chrom']).agg({'txStart':'min', 'txEnd':'max'}).reset_index()[['chrom', 'txStart', 'txEnd', 'symbol']]"
   ]
  },
  {
   "cell_type": "code",
   "execution_count": 13,
   "id": "4c838ba0",
   "metadata": {},
   "outputs": [],
   "source": [
    "adata = sc.read(data_path + 'Lupus_study_adjusted_counts.h5ad')"
   ]
  },
  {
   "cell_type": "code",
   "execution_count": 14,
   "id": "f34ebe82",
   "metadata": {},
   "outputs": [],
   "source": [
    "tss_df = tss_df[tss_df['symbol'].isin(adata.var.index)]\n",
    "gene_df = gene_df[gene_df['symbol'].isin(adata.var.index)]"
   ]
  },
  {
   "cell_type": "code",
   "execution_count": 15,
   "id": "bdf8a9b5",
   "metadata": {},
   "outputs": [],
   "source": [
    "tss_window_bed = BedTool.from_dataframe(tss_df)\n",
    "gene_window_bed = BedTool.from_dataframe(gene_df)"
   ]
  },
  {
   "cell_type": "code",
   "execution_count": 18,
   "id": "ea3b71d5",
   "metadata": {},
   "outputs": [
    {
     "data": {
      "text/html": [
       "<div>\n",
       "<style scoped>\n",
       "    .dataframe tbody tr th:only-of-type {\n",
       "        vertical-align: middle;\n",
       "    }\n",
       "\n",
       "    .dataframe tbody tr th {\n",
       "        vertical-align: top;\n",
       "    }\n",
       "\n",
       "    .dataframe thead th {\n",
       "        text-align: right;\n",
       "    }\n",
       "</style>\n",
       "<table border=\"1\" class=\"dataframe\">\n",
       "  <thead>\n",
       "    <tr style=\"text-align: right;\">\n",
       "      <th></th>\n",
       "      <th>chrom</th>\n",
       "      <th>start</th>\n",
       "      <th>end</th>\n",
       "      <th>name</th>\n",
       "      <th>score</th>\n",
       "      <th>strand</th>\n",
       "      <th>thickStart</th>\n",
       "      <th>thickEnd</th>\n",
       "    </tr>\n",
       "  </thead>\n",
       "  <tbody>\n",
       "    <tr>\n",
       "      <th>0</th>\n",
       "      <td>chr1</td>\n",
       "      <td>9497727</td>\n",
       "      <td>204676558</td>\n",
       "      <td>5S_rRNA</td>\n",
       "      <td>chr1</td>\n",
       "      <td>9397878</td>\n",
       "      <td>9397878</td>\n",
       "      <td>1:9397878</td>\n",
       "    </tr>\n",
       "    <tr>\n",
       "      <th>1</th>\n",
       "      <td>chr1</td>\n",
       "      <td>9497727</td>\n",
       "      <td>204676558</td>\n",
       "      <td>5S_rRNA</td>\n",
       "      <td>chr1</td>\n",
       "      <td>9398610</td>\n",
       "      <td>9398610</td>\n",
       "      <td>1:9398610</td>\n",
       "    </tr>\n",
       "  </tbody>\n",
       "</table>\n",
       "</div>"
      ],
      "text/plain": [
       "  chrom    start        end     name score   strand  thickStart   thickEnd\n",
       "0  chr1  9497727  204676558  5S_rRNA  chr1  9397878     9397878  1:9397878\n",
       "1  chr1  9497727  204676558  5S_rRNA  chr1  9398610     9398610  1:9398610"
      ]
     },
     "execution_count": 18,
     "metadata": {},
     "output_type": "execute_result"
    }
   ],
   "source": [
    "result.head(2)"
   ]
  },
  {
   "cell_type": "code",
   "execution_count": 33,
   "id": "161ef530",
   "metadata": {},
   "outputs": [
    {
     "name": "stderr",
     "output_type": "stream",
     "text": [
      "/home/ssm-user/anaconda3/envs/single_cell/lib/python3.8/subprocess.py:853: RuntimeWarning: line buffering (buffering=1) isn't supported in binary mode, the default buffer size will be used\n",
      "  self.stderr = io.open(errread, 'rb', bufsize)\n",
      "/home/ssm-user/anaconda3/envs/single_cell/lib/python3.8/subprocess.py:853: RuntimeWarning: line buffering (buffering=1) isn't supported in binary mode, the default buffer size will be used\n",
      "  self.stderr = io.open(errread, 'rb', bufsize)\n"
     ]
    }
   ],
   "source": [
    "# Use whole gene\n",
    "for pop in ['asian', 'eur']:\n",
    "    snppos = pd.read_csv(data_path + 'mateqtl_input/{}/cm_cg.snpspos.txt'.format(pop), sep='\\t')\n",
    "    snppos['chrom'] = snppos['chr']\n",
    "    snppos['pos_start'] = snppos['pos']\n",
    "    snppos['pos_end'] = snppos['pos']\n",
    "    snppos['rsid'] = snppos['snps']\n",
    "    snppos = snppos[['chrom', 'pos_start', 'pos_end', 'rsid']]\n",
    "    snp_bed = BedTool.from_dataframe(snppos)\n",
    "    result = BedTool.window(gene_window_bed, snp_bed, w=100000).to_dataframe()\n",
    "    gene_snp_pairs = result[['name', 'thickEnd']].drop_duplicates().rename(columns={'name':'gene', 'thickEnd':'rsid'})\n",
    "    gene_snp_pairs.to_csv(data_path +'mateqtl_input/{}/gene_snp_pairs_hg19_100kb_whole.csv'.format(pop), index=False)\n"
   ]
  },
  {
   "cell_type": "code",
   "execution_count": 32,
   "id": "cbe57caf",
   "metadata": {},
   "outputs": [
    {
     "name": "stderr",
     "output_type": "stream",
     "text": [
      "/home/ssm-user/anaconda3/envs/single_cell/lib/python3.8/subprocess.py:853: RuntimeWarning: line buffering (buffering=1) isn't supported in binary mode, the default buffer size will be used\n",
      "  self.stderr = io.open(errread, 'rb', bufsize)\n",
      "/home/ssm-user/anaconda3/envs/single_cell/lib/python3.8/subprocess.py:853: RuntimeWarning: line buffering (buffering=1) isn't supported in binary mode, the default buffer size will be used\n",
      "  self.stderr = io.open(errread, 'rb', bufsize)\n"
     ]
    }
   ],
   "source": [
    "# Use the TSS\n",
    "for pop in ['asian', 'eur']:\n",
    "    snppos = pd.read_csv(data_path + 'mateqtl_input/{}/cm_cg.snpspos.txt'.format(pop), sep='\\t')\n",
    "    snppos['chrom'] = snppos['chr']\n",
    "    snppos['pos_start'] = snppos['pos']\n",
    "    snppos['pos_end'] = snppos['pos']\n",
    "    snppos['rsid'] = snppos['snps']\n",
    "    snppos = snppos[['chrom', 'pos_start', 'pos_end', 'rsid']]\n",
    "    snp_bed = BedTool.from_dataframe(snppos)\n",
    "    result = BedTool.window(tss_window_bed, snp_bed, w=100000).to_dataframe()\n",
    "    gene_snp_pairs = result[['name', 'itemRgb']].drop_duplicates().rename(columns={'name':'gene', 'itemRgb':'rsid'})\n",
    "    gene_snp_pairs.to_csv(data_path +'mateqtl_input/{}/gene_snp_pairs_hg19_100kb.csv'.format(pop), index=False)\n"
   ]
  },
  {
   "cell_type": "code",
   "execution_count": 8,
   "id": "000b41d5",
   "metadata": {},
   "outputs": [
    {
     "name": "stderr",
     "output_type": "stream",
     "text": [
      "/home/ssm-user/anaconda3/envs/single_cell/lib/python3.8/site-packages/IPython/core/interactiveshell.py:3444: DtypeWarning: Columns (5,6,8,10) have mixed types.Specify dtype option on import or set low_memory=False.\n",
      "  exec(code_obj, self.user_global_ns, self.user_ns)\n"
     ]
    }
   ],
   "source": [
    "# check with gracie's eqtls to see overlap\n",
    "gracie = pd.read_csv(data_path + 'gracie_eqtls/nk_metasoft_out.txt', sep='\\t', skiprows=1, header=None).iloc[:, :3]\n",
    "whole_gene = pd.read_csv(data_path +'mateqtl_input/{}/gene_snp_pairs_hg19_100kb_whole.csv'.format('asian'))\n",
    "tss = pd.read_csv(data_path +'mateqtl_input/{}/gene_snp_pairs_hg19_100kb.csv'.format('asian'))"
   ]
  },
  {
   "cell_type": "code",
   "execution_count": 9,
   "id": "fb21724a",
   "metadata": {},
   "outputs": [
    {
     "data": {
      "text/html": [
       "<div>\n",
       "<style scoped>\n",
       "    .dataframe tbody tr th:only-of-type {\n",
       "        vertical-align: middle;\n",
       "    }\n",
       "\n",
       "    .dataframe tbody tr th {\n",
       "        vertical-align: top;\n",
       "    }\n",
       "\n",
       "    .dataframe thead th {\n",
       "        text-align: right;\n",
       "    }\n",
       "</style>\n",
       "<table border=\"1\" class=\"dataframe\">\n",
       "  <thead>\n",
       "    <tr style=\"text-align: right;\">\n",
       "      <th></th>\n",
       "      <th>snps</th>\n",
       "      <th>chr</th>\n",
       "      <th>pos</th>\n",
       "    </tr>\n",
       "  </thead>\n",
       "  <tbody>\n",
       "    <tr>\n",
       "      <th>0</th>\n",
       "      <td>1:706368</td>\n",
       "      <td>chr1</td>\n",
       "      <td>706368</td>\n",
       "    </tr>\n",
       "    <tr>\n",
       "      <th>1</th>\n",
       "      <td>1:713977</td>\n",
       "      <td>chr1</td>\n",
       "      <td>713977</td>\n",
       "    </tr>\n",
       "    <tr>\n",
       "      <th>2</th>\n",
       "      <td>1:714439</td>\n",
       "      <td>chr1</td>\n",
       "      <td>714439</td>\n",
       "    </tr>\n",
       "    <tr>\n",
       "      <th>3</th>\n",
       "      <td>1:723891</td>\n",
       "      <td>chr1</td>\n",
       "      <td>723891</td>\n",
       "    </tr>\n",
       "    <tr>\n",
       "      <th>4</th>\n",
       "      <td>1:727655</td>\n",
       "      <td>chr1</td>\n",
       "      <td>727655</td>\n",
       "    </tr>\n",
       "    <tr>\n",
       "      <th>...</th>\n",
       "      <td>...</td>\n",
       "      <td>...</td>\n",
       "      <td>...</td>\n",
       "    </tr>\n",
       "    <tr>\n",
       "      <th>4078211</th>\n",
       "      <td>22:51210289</td>\n",
       "      <td>chr22</td>\n",
       "      <td>51210289</td>\n",
       "    </tr>\n",
       "    <tr>\n",
       "      <th>4078212</th>\n",
       "      <td>22:51211392</td>\n",
       "      <td>chr22</td>\n",
       "      <td>51211392</td>\n",
       "    </tr>\n",
       "    <tr>\n",
       "      <th>4078213</th>\n",
       "      <td>22:51212875</td>\n",
       "      <td>chr22</td>\n",
       "      <td>51212875</td>\n",
       "    </tr>\n",
       "    <tr>\n",
       "      <th>4078214</th>\n",
       "      <td>22:51219006</td>\n",
       "      <td>chr22</td>\n",
       "      <td>51219006</td>\n",
       "    </tr>\n",
       "    <tr>\n",
       "      <th>4078215</th>\n",
       "      <td>22:51237063</td>\n",
       "      <td>chr22</td>\n",
       "      <td>51237063</td>\n",
       "    </tr>\n",
       "  </tbody>\n",
       "</table>\n",
       "<p>4078216 rows × 3 columns</p>\n",
       "</div>"
      ],
      "text/plain": [
       "                snps    chr       pos\n",
       "0           1:706368   chr1    706368\n",
       "1           1:713977   chr1    713977\n",
       "2           1:714439   chr1    714439\n",
       "3           1:723891   chr1    723891\n",
       "4           1:727655   chr1    727655\n",
       "...              ...    ...       ...\n",
       "4078211  22:51210289  chr22  51210289\n",
       "4078212  22:51211392  chr22  51211392\n",
       "4078213  22:51212875  chr22  51212875\n",
       "4078214  22:51219006  chr22  51219006\n",
       "4078215  22:51237063  chr22  51237063\n",
       "\n",
       "[4078216 rows x 3 columns]"
      ]
     },
     "execution_count": 9,
     "metadata": {},
     "output_type": "execute_result"
    }
   ],
   "source": [
    "snppos"
   ]
  },
  {
   "cell_type": "code",
   "execution_count": 10,
   "id": "6a9cf42c",
   "metadata": {},
   "outputs": [],
   "source": [
    "snppos = pd.read_csv(data_path + 'mateqtl_input/{}/cm_cg.snpspos.txt'.format('asian'), sep='\\t')"
   ]
  },
  {
   "cell_type": "code",
   "execution_count": 12,
   "id": "1e363a64",
   "metadata": {},
   "outputs": [
    {
     "data": {
      "text/html": [
       "<div>\n",
       "<style scoped>\n",
       "    .dataframe tbody tr th:only-of-type {\n",
       "        vertical-align: middle;\n",
       "    }\n",
       "\n",
       "    .dataframe tbody tr th {\n",
       "        vertical-align: top;\n",
       "    }\n",
       "\n",
       "    .dataframe thead th {\n",
       "        text-align: right;\n",
       "    }\n",
       "</style>\n",
       "<table border=\"1\" class=\"dataframe\">\n",
       "  <thead>\n",
       "    <tr style=\"text-align: right;\">\n",
       "      <th></th>\n",
       "      <th>0</th>\n",
       "      <th>1</th>\n",
       "      <th>2</th>\n",
       "    </tr>\n",
       "  </thead>\n",
       "  <tbody>\n",
       "    <tr>\n",
       "      <th>0</th>\n",
       "      <td>10:100043981_PYROXD2</td>\n",
       "      <td>2</td>\n",
       "      <td>0.499939</td>\n",
       "    </tr>\n",
       "    <tr>\n",
       "      <th>1</th>\n",
       "      <td>10:100044928_PYROXD2</td>\n",
       "      <td>3</td>\n",
       "      <td>0.481351</td>\n",
       "    </tr>\n",
       "  </tbody>\n",
       "</table>\n",
       "</div>"
      ],
      "text/plain": [
       "                      0  1         2\n",
       "0  10:100043981_PYROXD2  2  0.499939\n",
       "1  10:100044928_PYROXD2  3  0.481351"
      ]
     },
     "execution_count": 12,
     "metadata": {},
     "output_type": "execute_result"
    }
   ],
   "source": [
    "gracie.head(2)"
   ]
  },
  {
   "cell_type": "code",
   "execution_count": 11,
   "id": "7a2b9e1f",
   "metadata": {},
   "outputs": [
    {
     "ename": "SyntaxError",
     "evalue": "invalid syntax (3030908240.py, line 1)",
     "output_type": "error",
     "traceback": [
      "\u001b[0;36m  File \u001b[0;32m\"/tmp/ipykernel_41051/3030908240.py\"\u001b[0;36m, line \u001b[0;32m1\u001b[0m\n\u001b[0;31m    gracie = gracie[.isin(snppos['snps']) & gracie.iloc[:, 0].str.split('_').str[-1].isin(whole_gene['gene'])]\u001b[0m\n\u001b[0m                    ^\u001b[0m\n\u001b[0;31mSyntaxError\u001b[0m\u001b[0;31m:\u001b[0m invalid syntax\n"
     ]
    }
   ],
   "source": [
    "# gracie = gracie[gracie[.isin(snppos['snps']) & gracie.iloc[:, 0].str.split('_').str[-1].isin(whole_gene['gene'])]"
   ]
  },
  {
   "cell_type": "code",
   "execution_count": 13,
   "id": "a48379b8",
   "metadata": {},
   "outputs": [
    {
     "ename": "KeyboardInterrupt",
     "evalue": "",
     "output_type": "error",
     "traceback": [
      "\u001b[0;31m---------------------------------------------------------------------------\u001b[0m",
      "\u001b[0;31mKeyboardInterrupt\u001b[0m                         Traceback (most recent call last)",
      "\u001b[0;32m/tmp/ipykernel_41051/602342249.py\u001b[0m in \u001b[0;36m<module>\u001b[0;34m\u001b[0m\n\u001b[1;32m      1\u001b[0m \u001b[0mgracie_pairs\u001b[0m \u001b[0;34m=\u001b[0m \u001b[0mset\u001b[0m\u001b[0;34m(\u001b[0m\u001b[0mgracie\u001b[0m\u001b[0;34m.\u001b[0m\u001b[0miloc\u001b[0m\u001b[0;34m[\u001b[0m\u001b[0;34m:\u001b[0m\u001b[0;34m,\u001b[0m \u001b[0;36m0\u001b[0m\u001b[0;34m]\u001b[0m\u001b[0;34m.\u001b[0m\u001b[0mtolist\u001b[0m\u001b[0;34m(\u001b[0m\u001b[0;34m)\u001b[0m\u001b[0;34m)\u001b[0m\u001b[0;34m\u001b[0m\u001b[0;34m\u001b[0m\u001b[0m\n\u001b[0;32m----> 2\u001b[0;31m \u001b[0mwhole_gene_pairs\u001b[0m \u001b[0;34m=\u001b[0m \u001b[0mset\u001b[0m\u001b[0;34m(\u001b[0m\u001b[0;34m(\u001b[0m\u001b[0mwhole_gene\u001b[0m\u001b[0;34m[\u001b[0m\u001b[0;34m'rsid'\u001b[0m\u001b[0;34m]\u001b[0m \u001b[0;34m+\u001b[0m \u001b[0;34m'_'\u001b[0m \u001b[0;34m+\u001b[0m \u001b[0mwhole_gene\u001b[0m\u001b[0;34m[\u001b[0m\u001b[0;34m'gene'\u001b[0m\u001b[0;34m]\u001b[0m\u001b[0;34m)\u001b[0m\u001b[0;34m.\u001b[0m\u001b[0mtolist\u001b[0m\u001b[0;34m(\u001b[0m\u001b[0;34m)\u001b[0m\u001b[0;34m)\u001b[0m\u001b[0;34m\u001b[0m\u001b[0;34m\u001b[0m\u001b[0m\n\u001b[0m\u001b[1;32m      3\u001b[0m \u001b[0mtss_pairs\u001b[0m \u001b[0;34m=\u001b[0m \u001b[0mset\u001b[0m\u001b[0;34m(\u001b[0m\u001b[0;34m(\u001b[0m\u001b[0mtss\u001b[0m\u001b[0;34m[\u001b[0m\u001b[0;34m'rsid'\u001b[0m\u001b[0;34m]\u001b[0m \u001b[0;34m+\u001b[0m \u001b[0;34m'_'\u001b[0m \u001b[0;34m+\u001b[0m \u001b[0mtss\u001b[0m\u001b[0;34m[\u001b[0m\u001b[0;34m'gene'\u001b[0m\u001b[0;34m]\u001b[0m\u001b[0;34m)\u001b[0m\u001b[0;34m.\u001b[0m\u001b[0mtolist\u001b[0m\u001b[0;34m(\u001b[0m\u001b[0;34m)\u001b[0m\u001b[0;34m)\u001b[0m\u001b[0;34m\u001b[0m\u001b[0;34m\u001b[0m\u001b[0m\n",
      "\u001b[0;31mKeyboardInterrupt\u001b[0m: "
     ]
    }
   ],
   "source": [
    "gracie_pairs = set(gracie.iloc[:, 0].tolist())\n",
    "whole_gene_pairs = set((whole_gene['rsid'] + '_' + whole_gene['gene']).tolist())\n",
    "tss_pairs = set((tss['rsid'] + '_' + tss['gene']).tolist())"
   ]
  },
  {
   "cell_type": "code",
   "execution_count": null,
   "id": "3846f2aa",
   "metadata": {},
   "outputs": [],
   "source": [
    "print(len(gracie_pairs), len(whole_gene_pairs), len(tss_pairs))"
   ]
  },
  {
   "cell_type": "code",
   "execution_count": null,
   "id": "edb6f1f5",
   "metadata": {},
   "outputs": [],
   "source": [
    "list(gracie_pairs-tss_pairs)[:5]"
   ]
  },
  {
   "cell_type": "code",
   "execution_count": null,
   "id": "2bb5592b",
   "metadata": {},
   "outputs": [],
   "source": []
  },
  {
   "cell_type": "code",
   "execution_count": 14,
   "id": "0f78d57a",
   "metadata": {},
   "outputs": [],
   "source": [
    "enc = encode.Encode('/home/ssm-user/Github/misc-seq/miscseq/Hg19Genes.bed')"
   ]
  },
  {
   "cell_type": "code",
   "execution_count": 15,
   "id": "8304ba09",
   "metadata": {},
   "outputs": [],
   "source": [
    "gracie_df = gracie.copy()\n",
    "gracie_df['SNP'] = gracie.iloc[:, 0].str.split('_').str[0]\n",
    "gracie_df['gene'] = gracie.iloc[:, 0].str.split('_').str[-1]\n",
    "gracie_df['SNP_pos'] = gracie_df['SNP'].str.split(':').str[-1].astype(int)\n",
    "gracie_df['chrom'] = 'chr'+gracie_df['SNP'].str.split(':').str[0].astype(str)"
   ]
  },
  {
   "cell_type": "code",
   "execution_count": 16,
   "id": "06a3d042",
   "metadata": {},
   "outputs": [],
   "source": [
    "gene_info = enc.gene_locations.rename(columns={'symbol':'gene'})[['chrom', 'txStart', 'txEnd', 'gene', 'strand']]"
   ]
  },
  {
   "cell_type": "code",
   "execution_count": 17,
   "id": "9c8b21ca",
   "metadata": {},
   "outputs": [],
   "source": [
    "gracie_df = gracie_df.merge(gene_info, on=['chrom', 'gene'], how='left')[['SNP','chrom', 'SNP_pos','txStart', 'txEnd', 'gene', 'strand']]"
   ]
  },
  {
   "cell_type": "code",
   "execution_count": 18,
   "id": "95f5d63f",
   "metadata": {},
   "outputs": [],
   "source": [
    "gracie_df['distance_to_start'] = (gracie_df['txStart']-gracie_df['SNP_pos']).abs()\n",
    "gracie_df['distance_to_end'] = (gracie_df['txEnd']-gracie_df['SNP_pos']).abs()"
   ]
  },
  {
   "cell_type": "code",
   "execution_count": 19,
   "id": "6e9fc4c2",
   "metadata": {},
   "outputs": [],
   "source": [
    "gracie_df = gracie_df.groupby(['gene', 'strand', 'chrom', 'SNP'])[['distance_to_start', 'distance_to_end']].min().reset_index()"
   ]
  },
  {
   "cell_type": "code",
   "execution_count": 20,
   "id": "9849c31b",
   "metadata": {},
   "outputs": [],
   "source": [
    "gracie_df['around_start'] = gracie_df['distance_to_start'] < 100000\n",
    "gracie_df['around_end'] = gracie_df['distance_to_end'] < 100000"
   ]
  },
  {
   "cell_type": "code",
   "execution_count": 21,
   "id": "b661fd7d",
   "metadata": {},
   "outputs": [],
   "source": [
    "gracie_df['either'] = gracie_df['around_start'] | gracie_df['around_end']"
   ]
  },
  {
   "cell_type": "code",
   "execution_count": 22,
   "id": "13de6425",
   "metadata": {},
   "outputs": [
    {
     "data": {
      "text/html": [
       "<div>\n",
       "<style scoped>\n",
       "    .dataframe tbody tr th:only-of-type {\n",
       "        vertical-align: middle;\n",
       "    }\n",
       "\n",
       "    .dataframe tbody tr th {\n",
       "        vertical-align: top;\n",
       "    }\n",
       "\n",
       "    .dataframe thead th {\n",
       "        text-align: right;\n",
       "    }\n",
       "</style>\n",
       "<table border=\"1\" class=\"dataframe\">\n",
       "  <thead>\n",
       "    <tr style=\"text-align: right;\">\n",
       "      <th></th>\n",
       "      <th>gene</th>\n",
       "      <th>strand</th>\n",
       "      <th>chrom</th>\n",
       "      <th>SNP</th>\n",
       "      <th>distance_to_start</th>\n",
       "      <th>distance_to_end</th>\n",
       "      <th>around_start</th>\n",
       "      <th>around_end</th>\n",
       "      <th>either</th>\n",
       "    </tr>\n",
       "  </thead>\n",
       "  <tbody>\n",
       "    <tr>\n",
       "      <th>10871</th>\n",
       "      <td>ABCF2</td>\n",
       "      <td>-</td>\n",
       "      <td>chr7</td>\n",
       "      <td>7:150805082</td>\n",
       "      <td>104493.0</td>\n",
       "      <td>107238.0</td>\n",
       "      <td>False</td>\n",
       "      <td>False</td>\n",
       "      <td>False</td>\n",
       "    </tr>\n",
       "    <tr>\n",
       "      <th>10872</th>\n",
       "      <td>ABCF2</td>\n",
       "      <td>-</td>\n",
       "      <td>chr7</td>\n",
       "      <td>7:150805137</td>\n",
       "      <td>104438.0</td>\n",
       "      <td>107183.0</td>\n",
       "      <td>False</td>\n",
       "      <td>False</td>\n",
       "      <td>False</td>\n",
       "    </tr>\n",
       "    <tr>\n",
       "      <th>10873</th>\n",
       "      <td>ABCF2</td>\n",
       "      <td>-</td>\n",
       "      <td>chr7</td>\n",
       "      <td>7:150805272</td>\n",
       "      <td>104303.0</td>\n",
       "      <td>107048.0</td>\n",
       "      <td>False</td>\n",
       "      <td>False</td>\n",
       "      <td>False</td>\n",
       "    </tr>\n",
       "    <tr>\n",
       "      <th>10874</th>\n",
       "      <td>ABCF2</td>\n",
       "      <td>-</td>\n",
       "      <td>chr7</td>\n",
       "      <td>7:150807003</td>\n",
       "      <td>102572.0</td>\n",
       "      <td>105317.0</td>\n",
       "      <td>False</td>\n",
       "      <td>False</td>\n",
       "      <td>False</td>\n",
       "    </tr>\n",
       "    <tr>\n",
       "      <th>10875</th>\n",
       "      <td>ABCF2</td>\n",
       "      <td>-</td>\n",
       "      <td>chr7</td>\n",
       "      <td>7:150807695</td>\n",
       "      <td>101880.0</td>\n",
       "      <td>104625.0</td>\n",
       "      <td>False</td>\n",
       "      <td>False</td>\n",
       "      <td>False</td>\n",
       "    </tr>\n",
       "    <tr>\n",
       "      <th>...</th>\n",
       "      <td>...</td>\n",
       "      <td>...</td>\n",
       "      <td>...</td>\n",
       "      <td>...</td>\n",
       "      <td>...</td>\n",
       "      <td>...</td>\n",
       "      <td>...</td>\n",
       "      <td>...</td>\n",
       "      <td>...</td>\n",
       "    </tr>\n",
       "    <tr>\n",
       "      <th>3117830</th>\n",
       "      <td>ZNF410</td>\n",
       "      <td>+</td>\n",
       "      <td>chr14</td>\n",
       "      <td>14:74250557</td>\n",
       "      <td>102760.0</td>\n",
       "      <td>121229.0</td>\n",
       "      <td>False</td>\n",
       "      <td>False</td>\n",
       "      <td>False</td>\n",
       "    </tr>\n",
       "    <tr>\n",
       "      <th>3117831</th>\n",
       "      <td>ZNF410</td>\n",
       "      <td>+</td>\n",
       "      <td>chr14</td>\n",
       "      <td>14:74250715</td>\n",
       "      <td>102602.0</td>\n",
       "      <td>121071.0</td>\n",
       "      <td>False</td>\n",
       "      <td>False</td>\n",
       "      <td>False</td>\n",
       "    </tr>\n",
       "    <tr>\n",
       "      <th>3117832</th>\n",
       "      <td>ZNF410</td>\n",
       "      <td>+</td>\n",
       "      <td>chr14</td>\n",
       "      <td>14:74250730</td>\n",
       "      <td>102587.0</td>\n",
       "      <td>121056.0</td>\n",
       "      <td>False</td>\n",
       "      <td>False</td>\n",
       "      <td>False</td>\n",
       "    </tr>\n",
       "    <tr>\n",
       "      <th>3117833</th>\n",
       "      <td>ZNF410</td>\n",
       "      <td>+</td>\n",
       "      <td>chr14</td>\n",
       "      <td>14:74252993</td>\n",
       "      <td>100324.0</td>\n",
       "      <td>118793.0</td>\n",
       "      <td>False</td>\n",
       "      <td>False</td>\n",
       "      <td>False</td>\n",
       "    </tr>\n",
       "    <tr>\n",
       "      <th>3190157</th>\n",
       "      <td>ZSWIM6</td>\n",
       "      <td>+</td>\n",
       "      <td>chr5</td>\n",
       "      <td>5:60728480</td>\n",
       "      <td>100381.0</td>\n",
       "      <td>113519.0</td>\n",
       "      <td>False</td>\n",
       "      <td>False</td>\n",
       "      <td>False</td>\n",
       "    </tr>\n",
       "  </tbody>\n",
       "</table>\n",
       "<p>4234 rows × 9 columns</p>\n",
       "</div>"
      ],
      "text/plain": [
       "           gene strand  chrom          SNP  distance_to_start  \\\n",
       "10871     ABCF2      -   chr7  7:150805082           104493.0   \n",
       "10872     ABCF2      -   chr7  7:150805137           104438.0   \n",
       "10873     ABCF2      -   chr7  7:150805272           104303.0   \n",
       "10874     ABCF2      -   chr7  7:150807003           102572.0   \n",
       "10875     ABCF2      -   chr7  7:150807695           101880.0   \n",
       "...         ...    ...    ...          ...                ...   \n",
       "3117830  ZNF410      +  chr14  14:74250557           102760.0   \n",
       "3117831  ZNF410      +  chr14  14:74250715           102602.0   \n",
       "3117832  ZNF410      +  chr14  14:74250730           102587.0   \n",
       "3117833  ZNF410      +  chr14  14:74252993           100324.0   \n",
       "3190157  ZSWIM6      +   chr5   5:60728480           100381.0   \n",
       "\n",
       "         distance_to_end  around_start  around_end  either  \n",
       "10871           107238.0         False       False   False  \n",
       "10872           107183.0         False       False   False  \n",
       "10873           107048.0         False       False   False  \n",
       "10874           105317.0         False       False   False  \n",
       "10875           104625.0         False       False   False  \n",
       "...                  ...           ...         ...     ...  \n",
       "3117830         121229.0         False       False   False  \n",
       "3117831         121071.0         False       False   False  \n",
       "3117832         121056.0         False       False   False  \n",
       "3117833         118793.0         False       False   False  \n",
       "3190157         113519.0         False       False   False  \n",
       "\n",
       "[4234 rows x 9 columns]"
      ]
     },
     "execution_count": 22,
     "metadata": {},
     "output_type": "execute_result"
    }
   ],
   "source": [
    "gracie_df.query('~either')"
   ]
  },
  {
   "cell_type": "code",
   "execution_count": 23,
   "id": "cb08fb0e",
   "metadata": {},
   "outputs": [
    {
     "data": {
      "text/plain": [
       "0.9957036555560357"
      ]
     },
     "execution_count": 23,
     "metadata": {},
     "output_type": "execute_result"
    }
   ],
   "source": [
    "gracie_df.around_start.mean()"
   ]
  },
  {
   "cell_type": "code",
   "execution_count": null,
   "id": "81a0de46",
   "metadata": {},
   "outputs": [],
   "source": []
  },
  {
   "cell_type": "code",
   "execution_count": null,
   "id": "4389b4d9",
   "metadata": {},
   "outputs": [],
   "source": []
  },
  {
   "cell_type": "markdown",
   "id": "27aee489",
   "metadata": {},
   "source": [
    "### Get TSS, gene locations"
   ]
  },
  {
   "cell_type": "code",
   "execution_count": 24,
   "id": "e6e3c1c2",
   "metadata": {},
   "outputs": [],
   "source": [
    "from pybedtools import BedTool"
   ]
  },
  {
   "cell_type": "code",
   "execution_count": 38,
   "id": "1cdae03c",
   "metadata": {},
   "outputs": [],
   "source": [
    "enc = encode.Encode('/home/ssm-user/Github/misc-seq/miscseq/GRCh38Genes.bed')"
   ]
  },
  {
   "cell_type": "code",
   "execution_count": 39,
   "id": "42396bbb",
   "metadata": {},
   "outputs": [],
   "source": [
    "tss_df = enc.get_tss_window(window_size=0)"
   ]
  },
  {
   "cell_type": "code",
   "execution_count": 40,
   "id": "0472a5c9",
   "metadata": {},
   "outputs": [],
   "source": [
    "tss_df = tss_df[['symbol', 'chrom', 'tss_window_start', 'tss_window_end']].rename(columns={\n",
    "    'symbol':'geneid','chrom':'chr','tss_window_start':'s1','tss_window_end':'s2'})#"
   ]
  },
  {
   "cell_type": "code",
   "execution_count": 19,
   "id": "539fe0c6",
   "metadata": {},
   "outputs": [
    {
     "name": "stdout",
     "output_type": "stream",
     "text": [
      "(82960, 4)\n"
     ]
    }
   ],
   "source": [
    "print(tss_df.shape)\n",
    "tss_agg_df = tss_df.groupby(['geneid', 'chr']).agg({'s1':'min', 's2':'max'}).reset_index()"
   ]
  },
  {
   "cell_type": "code",
   "execution_count": 23,
   "id": "4ba91d75",
   "metadata": {},
   "outputs": [
    {
     "name": "stdout",
     "output_type": "stream",
     "text": [
      "(30967, 4)\n"
     ]
    }
   ],
   "source": [
    "print(tss_agg_df.shape)\n",
    "tss_agg_df.to_csv(data_path + 'full_analysis/mateqtl/inputs/geneloc_tss_hg19.txt', index=False, sep='\\t')"
   ]
  },
  {
   "cell_type": "markdown",
   "id": "bcf75f29",
   "metadata": {},
   "source": [
    "### Debug mateqtl cis eqtl pairings using Gracie's hits"
   ]
  },
  {
   "cell_type": "code",
   "execution_count": 33,
   "id": "75185bc7",
   "metadata": {},
   "outputs": [],
   "source": [
    "gracie_pairs = pd.read_csv(data_path + 'gracie_eqtls/gene_snp_pairs.csv')"
   ]
  },
  {
   "cell_type": "code",
   "execution_count": 34,
   "id": "445dc00b",
   "metadata": {},
   "outputs": [],
   "source": [
    "my_pairs = pd.read_csv(data_path +'mateqtl_input/{}/gene_snp_pairs_hg19_{}.csv'.format('eur', '100kb'))"
   ]
  },
  {
   "cell_type": "code",
   "execution_count": 35,
   "id": "e03b4da3",
   "metadata": {},
   "outputs": [],
   "source": [
    "my_pairs['mine'] = 1\n",
    "gracie_pairs['gracie'] = 1"
   ]
  },
  {
   "cell_type": "code",
   "execution_count": 36,
   "id": "b4f97fed",
   "metadata": {},
   "outputs": [],
   "source": [
    "overlap = gracie_pairs.merge(my_pairs, on=['gene', 'rsid'], how='inner')\n",
    "outer = gracie_pairs.merge(my_pairs, on=['gene', 'rsid'], how='outer').fillna(0)"
   ]
  },
  {
   "cell_type": "code",
   "execution_count": 37,
   "id": "6e00482a",
   "metadata": {},
   "outputs": [
    {
     "data": {
      "text/plain": [
       "(2364325, 4)"
      ]
     },
     "execution_count": 37,
     "metadata": {},
     "output_type": "execute_result"
    }
   ],
   "source": [
    "overlap.shape"
   ]
  },
  {
   "cell_type": "code",
   "execution_count": 38,
   "id": "45159217",
   "metadata": {},
   "outputs": [
    {
     "data": {
      "text/plain": [
       "(3379632, 3)"
      ]
     },
     "execution_count": 38,
     "metadata": {},
     "output_type": "execute_result"
    }
   ],
   "source": [
    "gracie_pairs.shape"
   ]
  },
  {
   "cell_type": "code",
   "execution_count": 39,
   "id": "814b2919",
   "metadata": {},
   "outputs": [
    {
     "data": {
      "text/plain": [
       "(6308578, 3)"
      ]
     },
     "execution_count": 39,
     "metadata": {},
     "output_type": "execute_result"
    }
   ],
   "source": [
    "my_pairs.shape"
   ]
  },
  {
   "cell_type": "code",
   "execution_count": 46,
   "id": "c7768324",
   "metadata": {},
   "outputs": [
    {
     "data": {
      "text/html": [
       "<div>\n",
       "<style scoped>\n",
       "    .dataframe tbody tr th:only-of-type {\n",
       "        vertical-align: middle;\n",
       "    }\n",
       "\n",
       "    .dataframe tbody tr th {\n",
       "        vertical-align: top;\n",
       "    }\n",
       "\n",
       "    .dataframe thead th {\n",
       "        text-align: right;\n",
       "    }\n",
       "</style>\n",
       "<table border=\"1\" class=\"dataframe\">\n",
       "  <thead>\n",
       "    <tr style=\"text-align: right;\">\n",
       "      <th></th>\n",
       "      <th>chrom</th>\n",
       "      <th>tss_window_start</th>\n",
       "      <th>tss_window_end</th>\n",
       "      <th>symbol</th>\n",
       "      <th>name</th>\n",
       "    </tr>\n",
       "  </thead>\n",
       "  <tbody>\n",
       "    <tr>\n",
       "      <th>23</th>\n",
       "      <td>chr1</td>\n",
       "      <td>36081</td>\n",
       "      <td>36081</td>\n",
       "      <td>FAM138A</td>\n",
       "      <td>uc001aak.3</td>\n",
       "    </tr>\n",
       "    <tr>\n",
       "      <th>24</th>\n",
       "      <td>chr1</td>\n",
       "      <td>69090</td>\n",
       "      <td>69090</td>\n",
       "      <td>OR4F5</td>\n",
       "      <td>uc001aal.1</td>\n",
       "    </tr>\n",
       "  </tbody>\n",
       "</table>\n",
       "</div>"
      ],
      "text/plain": [
       "   chrom  tss_window_start  tss_window_end   symbol        name\n",
       "23  chr1             36081           36081  FAM138A  uc001aak.3\n",
       "24  chr1             69090           69090    OR4F5  uc001aal.1"
      ]
     },
     "execution_count": 46,
     "metadata": {},
     "output_type": "execute_result"
    }
   ],
   "source": [
    "tss_df.head(2)"
   ]
  },
  {
   "cell_type": "code",
   "execution_count": 62,
   "id": "c74a0e31",
   "metadata": {},
   "outputs": [
    {
     "data": {
      "text/html": [
       "<div>\n",
       "<style scoped>\n",
       "    .dataframe tbody tr th:only-of-type {\n",
       "        vertical-align: middle;\n",
       "    }\n",
       "\n",
       "    .dataframe tbody tr th {\n",
       "        vertical-align: top;\n",
       "    }\n",
       "\n",
       "    .dataframe thead th {\n",
       "        text-align: right;\n",
       "    }\n",
       "</style>\n",
       "<table border=\"1\" class=\"dataframe\">\n",
       "  <thead>\n",
       "    <tr style=\"text-align: right;\">\n",
       "      <th></th>\n",
       "      <th>chrom</th>\n",
       "      <th>tss_window_start</th>\n",
       "      <th>tss_window_end</th>\n",
       "      <th>symbol</th>\n",
       "      <th>name</th>\n",
       "    </tr>\n",
       "  </thead>\n",
       "  <tbody>\n",
       "    <tr>\n",
       "      <th>35957</th>\n",
       "      <td>chr9</td>\n",
       "      <td>99775862</td>\n",
       "      <td>99775862</td>\n",
       "      <td>HIATL2</td>\n",
       "      <td>uc004aws.3</td>\n",
       "    </tr>\n",
       "  </tbody>\n",
       "</table>\n",
       "</div>"
      ],
      "text/plain": [
       "      chrom  tss_window_start  tss_window_end  symbol        name\n",
       "35957  chr9          99775862        99775862  HIATL2  uc004aws.3"
      ]
     },
     "execution_count": 62,
     "metadata": {},
     "output_type": "execute_result"
    }
   ],
   "source": [
    "tss_df.query('symbol == \"HIATL2\"')"
   ]
  },
  {
   "cell_type": "code",
   "execution_count": 63,
   "id": "61eee295",
   "metadata": {},
   "outputs": [],
   "source": [
    "temp = pd.read_csv('~/Github/misc-seq/miscseq/Hg19Genes.bed', sep='\\t')"
   ]
  },
  {
   "cell_type": "code",
   "execution_count": 65,
   "id": "231020fd",
   "metadata": {},
   "outputs": [
    {
     "data": {
      "text/html": [
       "<div>\n",
       "<style scoped>\n",
       "    .dataframe tbody tr th:only-of-type {\n",
       "        vertical-align: middle;\n",
       "    }\n",
       "\n",
       "    .dataframe tbody tr th {\n",
       "        vertical-align: top;\n",
       "    }\n",
       "\n",
       "    .dataframe thead th {\n",
       "        text-align: right;\n",
       "    }\n",
       "</style>\n",
       "<table border=\"1\" class=\"dataframe\">\n",
       "  <thead>\n",
       "    <tr style=\"text-align: right;\">\n",
       "      <th></th>\n",
       "      <th>hg19.knownGene.chrom</th>\n",
       "      <th>hg19.knownGene.txStart</th>\n",
       "      <th>hg19.knownGene.txEnd</th>\n",
       "      <th>hg19.knownGene.cdsStart</th>\n",
       "      <th>hg19.knownGene.cdsEnd</th>\n",
       "      <th>hg19.kgXref.geneSymbol</th>\n",
       "      <th>#hg19.knownGene.name</th>\n",
       "      <th>hg19.knownGene.strand</th>\n",
       "    </tr>\n",
       "  </thead>\n",
       "  <tbody>\n",
       "    <tr>\n",
       "      <th>0</th>\n",
       "      <td>chr1</td>\n",
       "      <td>11873</td>\n",
       "      <td>14409</td>\n",
       "      <td>11873</td>\n",
       "      <td>11873</td>\n",
       "      <td>DDX11L1</td>\n",
       "      <td>uc001aaa.3</td>\n",
       "      <td>+</td>\n",
       "    </tr>\n",
       "    <tr>\n",
       "      <th>1</th>\n",
       "      <td>chr1</td>\n",
       "      <td>11873</td>\n",
       "      <td>14409</td>\n",
       "      <td>11873</td>\n",
       "      <td>11873</td>\n",
       "      <td>DDX11L1</td>\n",
       "      <td>uc010nxr.1</td>\n",
       "      <td>+</td>\n",
       "    </tr>\n",
       "  </tbody>\n",
       "</table>\n",
       "</div>"
      ],
      "text/plain": [
       "  hg19.knownGene.chrom  hg19.knownGene.txStart  hg19.knownGene.txEnd  \\\n",
       "0                 chr1                   11873                 14409   \n",
       "1                 chr1                   11873                 14409   \n",
       "\n",
       "   hg19.knownGene.cdsStart  hg19.knownGene.cdsEnd hg19.kgXref.geneSymbol  \\\n",
       "0                    11873                  11873                DDX11L1   \n",
       "1                    11873                  11873                DDX11L1   \n",
       "\n",
       "  #hg19.knownGene.name hg19.knownGene.strand  \n",
       "0           uc001aaa.3                     +  \n",
       "1           uc010nxr.1                     +  "
      ]
     },
     "execution_count": 65,
     "metadata": {},
     "output_type": "execute_result"
    }
   ],
   "source": [
    "temp.head(2)"
   ]
  },
  {
   "cell_type": "code",
   "execution_count": 68,
   "id": "d49917a3",
   "metadata": {},
   "outputs": [
    {
     "data": {
      "text/html": [
       "<div>\n",
       "<style scoped>\n",
       "    .dataframe tbody tr th:only-of-type {\n",
       "        vertical-align: middle;\n",
       "    }\n",
       "\n",
       "    .dataframe tbody tr th {\n",
       "        vertical-align: top;\n",
       "    }\n",
       "\n",
       "    .dataframe thead th {\n",
       "        text-align: right;\n",
       "    }\n",
       "</style>\n",
       "<table border=\"1\" class=\"dataframe\">\n",
       "  <thead>\n",
       "    <tr style=\"text-align: right;\">\n",
       "      <th></th>\n",
       "      <th>hg19.knownGene.chrom</th>\n",
       "      <th>hg19.knownGene.txStart</th>\n",
       "      <th>hg19.knownGene.txEnd</th>\n",
       "      <th>hg19.knownGene.cdsStart</th>\n",
       "      <th>hg19.knownGene.cdsEnd</th>\n",
       "      <th>hg19.kgXref.geneSymbol</th>\n",
       "      <th>#hg19.knownGene.name</th>\n",
       "      <th>hg19.knownGene.strand</th>\n",
       "    </tr>\n",
       "  </thead>\n",
       "  <tbody>\n",
       "    <tr>\n",
       "      <th>35957</th>\n",
       "      <td>chr9</td>\n",
       "      <td>99708326</td>\n",
       "      <td>99775862</td>\n",
       "      <td>99708445</td>\n",
       "      <td>99775648</td>\n",
       "      <td>HIATL2</td>\n",
       "      <td>uc004aws.3</td>\n",
       "      <td>-</td>\n",
       "    </tr>\n",
       "  </tbody>\n",
       "</table>\n",
       "</div>"
      ],
      "text/plain": [
       "      hg19.knownGene.chrom  hg19.knownGene.txStart  hg19.knownGene.txEnd  \\\n",
       "35957                 chr9                99708326              99775862   \n",
       "\n",
       "       hg19.knownGene.cdsStart  hg19.knownGene.cdsEnd hg19.kgXref.geneSymbol  \\\n",
       "35957                 99708445               99775648                 HIATL2   \n",
       "\n",
       "      #hg19.knownGene.name hg19.knownGene.strand  \n",
       "35957           uc004aws.3                     -  "
      ]
     },
     "execution_count": 68,
     "metadata": {},
     "output_type": "execute_result"
    }
   ],
   "source": [
    "temp[temp['hg19.kgXref.geneSymbol']==\"HIATL2\"]"
   ]
  },
  {
   "cell_type": "code",
   "execution_count": null,
   "id": "fca017d4",
   "metadata": {},
   "outputs": [],
   "source": [
    "99,705,195-99,775,887"
   ]
  },
  {
   "cell_type": "code",
   "execution_count": 60,
   "id": "13ec24fb",
   "metadata": {},
   "outputs": [
    {
     "data": {
      "text/plain": [
       "-72650"
      ]
     },
     "execution_count": 60,
     "metadata": {},
     "output_type": "execute_result"
    }
   ],
   "source": [
    "99705195-99777845"
   ]
  },
  {
   "cell_type": "code",
   "execution_count": 69,
   "id": "d36aa5ff",
   "metadata": {},
   "outputs": [
    {
     "data": {
      "text/plain": [
       "-1983"
      ]
     },
     "execution_count": 69,
     "metadata": {},
     "output_type": "execute_result"
    }
   ],
   "source": [
    "99775862-99777845"
   ]
  },
  {
   "cell_type": "code",
   "execution_count": 76,
   "id": "58364a44",
   "metadata": {},
   "outputs": [
    {
     "data": {
      "text/html": [
       "<div>\n",
       "<style scoped>\n",
       "    .dataframe tbody tr th:only-of-type {\n",
       "        vertical-align: middle;\n",
       "    }\n",
       "\n",
       "    .dataframe tbody tr th {\n",
       "        vertical-align: top;\n",
       "    }\n",
       "\n",
       "    .dataframe thead th {\n",
       "        text-align: right;\n",
       "    }\n",
       "</style>\n",
       "<table border=\"1\" class=\"dataframe\">\n",
       "  <thead>\n",
       "    <tr style=\"text-align: right;\">\n",
       "      <th></th>\n",
       "      <th>chrom</th>\n",
       "      <th>pos_start</th>\n",
       "      <th>pos_end</th>\n",
       "      <th>rsid</th>\n",
       "    </tr>\n",
       "  </thead>\n",
       "  <tbody>\n",
       "  </tbody>\n",
       "</table>\n",
       "</div>"
      ],
      "text/plain": [
       "Empty DataFrame\n",
       "Columns: [chrom, pos_start, pos_end, rsid]\n",
       "Index: []"
      ]
     },
     "execution_count": 76,
     "metadata": {},
     "output_type": "execute_result"
    }
   ],
   "source": [
    "snppos.query('rsid == \"9:99780916\"')"
   ]
  },
  {
   "cell_type": "code",
   "execution_count": 74,
   "id": "3ac3eb29",
   "metadata": {},
   "outputs": [
    {
     "data": {
      "text/html": [
       "<div>\n",
       "<style scoped>\n",
       "    .dataframe tbody tr th:only-of-type {\n",
       "        vertical-align: middle;\n",
       "    }\n",
       "\n",
       "    .dataframe tbody tr th {\n",
       "        vertical-align: top;\n",
       "    }\n",
       "\n",
       "    .dataframe thead th {\n",
       "        text-align: right;\n",
       "    }\n",
       "</style>\n",
       "<table border=\"1\" class=\"dataframe\">\n",
       "  <thead>\n",
       "    <tr style=\"text-align: right;\">\n",
       "      <th></th>\n",
       "      <th>chrom</th>\n",
       "      <th>start</th>\n",
       "      <th>end</th>\n",
       "      <th>name</th>\n",
       "      <th>score</th>\n",
       "      <th>strand</th>\n",
       "      <th>thickStart</th>\n",
       "      <th>thickEnd</th>\n",
       "      <th>itemRgb</th>\n",
       "    </tr>\n",
       "  </thead>\n",
       "  <tbody>\n",
       "    <tr>\n",
       "      <th>17535710</th>\n",
       "      <td>chr9</td>\n",
       "      <td>99775862</td>\n",
       "      <td>99775862</td>\n",
       "      <td>HIATL2</td>\n",
       "      <td>uc004aws.3</td>\n",
       "      <td>chr9</td>\n",
       "      <td>99713793</td>\n",
       "      <td>99713793</td>\n",
       "      <td>9:99713793</td>\n",
       "    </tr>\n",
       "    <tr>\n",
       "      <th>17535711</th>\n",
       "      <td>chr9</td>\n",
       "      <td>99775862</td>\n",
       "      <td>99775862</td>\n",
       "      <td>HIATL2</td>\n",
       "      <td>uc004aws.3</td>\n",
       "      <td>chr9</td>\n",
       "      <td>99713842</td>\n",
       "      <td>99713842</td>\n",
       "      <td>9:99713842</td>\n",
       "    </tr>\n",
       "    <tr>\n",
       "      <th>17535712</th>\n",
       "      <td>chr9</td>\n",
       "      <td>99775862</td>\n",
       "      <td>99775862</td>\n",
       "      <td>HIATL2</td>\n",
       "      <td>uc004aws.3</td>\n",
       "      <td>chr9</td>\n",
       "      <td>99730780</td>\n",
       "      <td>99730780</td>\n",
       "      <td>9:99730780</td>\n",
       "    </tr>\n",
       "    <tr>\n",
       "      <th>17535713</th>\n",
       "      <td>chr9</td>\n",
       "      <td>99775862</td>\n",
       "      <td>99775862</td>\n",
       "      <td>HIATL2</td>\n",
       "      <td>uc004aws.3</td>\n",
       "      <td>chr9</td>\n",
       "      <td>99734369</td>\n",
       "      <td>99734369</td>\n",
       "      <td>9:99734369</td>\n",
       "    </tr>\n",
       "    <tr>\n",
       "      <th>17535714</th>\n",
       "      <td>chr9</td>\n",
       "      <td>99775862</td>\n",
       "      <td>99775862</td>\n",
       "      <td>HIATL2</td>\n",
       "      <td>uc004aws.3</td>\n",
       "      <td>chr9</td>\n",
       "      <td>99734581</td>\n",
       "      <td>99734581</td>\n",
       "      <td>9:99734581</td>\n",
       "    </tr>\n",
       "    <tr>\n",
       "      <th>...</th>\n",
       "      <td>...</td>\n",
       "      <td>...</td>\n",
       "      <td>...</td>\n",
       "      <td>...</td>\n",
       "      <td>...</td>\n",
       "      <td>...</td>\n",
       "      <td>...</td>\n",
       "      <td>...</td>\n",
       "      <td>...</td>\n",
       "    </tr>\n",
       "    <tr>\n",
       "      <th>17535812</th>\n",
       "      <td>chr9</td>\n",
       "      <td>99775862</td>\n",
       "      <td>99775862</td>\n",
       "      <td>HIATL2</td>\n",
       "      <td>uc004aws.3</td>\n",
       "      <td>chr9</td>\n",
       "      <td>99871255</td>\n",
       "      <td>99871255</td>\n",
       "      <td>9:99871255</td>\n",
       "    </tr>\n",
       "    <tr>\n",
       "      <th>17535813</th>\n",
       "      <td>chr9</td>\n",
       "      <td>99775862</td>\n",
       "      <td>99775862</td>\n",
       "      <td>HIATL2</td>\n",
       "      <td>uc004aws.3</td>\n",
       "      <td>chr9</td>\n",
       "      <td>99871322</td>\n",
       "      <td>99871322</td>\n",
       "      <td>9:99871322</td>\n",
       "    </tr>\n",
       "    <tr>\n",
       "      <th>17535814</th>\n",
       "      <td>chr9</td>\n",
       "      <td>99775862</td>\n",
       "      <td>99775862</td>\n",
       "      <td>HIATL2</td>\n",
       "      <td>uc004aws.3</td>\n",
       "      <td>chr9</td>\n",
       "      <td>99871393</td>\n",
       "      <td>99871393</td>\n",
       "      <td>9:99871393</td>\n",
       "    </tr>\n",
       "    <tr>\n",
       "      <th>17535815</th>\n",
       "      <td>chr9</td>\n",
       "      <td>99775862</td>\n",
       "      <td>99775862</td>\n",
       "      <td>HIATL2</td>\n",
       "      <td>uc004aws.3</td>\n",
       "      <td>chr9</td>\n",
       "      <td>99871795</td>\n",
       "      <td>99871795</td>\n",
       "      <td>9:99871795</td>\n",
       "    </tr>\n",
       "    <tr>\n",
       "      <th>17535816</th>\n",
       "      <td>chr9</td>\n",
       "      <td>99775862</td>\n",
       "      <td>99775862</td>\n",
       "      <td>HIATL2</td>\n",
       "      <td>uc004aws.3</td>\n",
       "      <td>chr9</td>\n",
       "      <td>99874486</td>\n",
       "      <td>99874486</td>\n",
       "      <td>9:99874486</td>\n",
       "    </tr>\n",
       "  </tbody>\n",
       "</table>\n",
       "<p>107 rows × 9 columns</p>\n",
       "</div>"
      ],
      "text/plain": [
       "         chrom     start       end    name       score strand  thickStart  \\\n",
       "17535710  chr9  99775862  99775862  HIATL2  uc004aws.3   chr9    99713793   \n",
       "17535711  chr9  99775862  99775862  HIATL2  uc004aws.3   chr9    99713842   \n",
       "17535712  chr9  99775862  99775862  HIATL2  uc004aws.3   chr9    99730780   \n",
       "17535713  chr9  99775862  99775862  HIATL2  uc004aws.3   chr9    99734369   \n",
       "17535714  chr9  99775862  99775862  HIATL2  uc004aws.3   chr9    99734581   \n",
       "...        ...       ...       ...     ...         ...    ...         ...   \n",
       "17535812  chr9  99775862  99775862  HIATL2  uc004aws.3   chr9    99871255   \n",
       "17535813  chr9  99775862  99775862  HIATL2  uc004aws.3   chr9    99871322   \n",
       "17535814  chr9  99775862  99775862  HIATL2  uc004aws.3   chr9    99871393   \n",
       "17535815  chr9  99775862  99775862  HIATL2  uc004aws.3   chr9    99871795   \n",
       "17535816  chr9  99775862  99775862  HIATL2  uc004aws.3   chr9    99874486   \n",
       "\n",
       "          thickEnd     itemRgb  \n",
       "17535710  99713793  9:99713793  \n",
       "17535711  99713842  9:99713842  \n",
       "17535712  99730780  9:99730780  \n",
       "17535713  99734369  9:99734369  \n",
       "17535714  99734581  9:99734581  \n",
       "...            ...         ...  \n",
       "17535812  99871255  9:99871255  \n",
       "17535813  99871322  9:99871322  \n",
       "17535814  99871393  9:99871393  \n",
       "17535815  99871795  9:99871795  \n",
       "17535816  99874486  9:99874486  \n",
       "\n",
       "[107 rows x 9 columns]"
      ]
     },
     "execution_count": 74,
     "metadata": {},
     "output_type": "execute_result"
    }
   ],
   "source": [
    "result.query('name == \"HIATL2\"')"
   ]
  },
  {
   "cell_type": "code",
   "execution_count": 5,
   "id": "0cc3eb85",
   "metadata": {},
   "outputs": [],
   "source": [
    "mem_out = pd.read_csv(data_path + 'full_analysis/memento/hits/asian_B.csv')"
   ]
  },
  {
   "cell_type": "code",
   "execution_count": 6,
   "id": "3441c5de",
   "metadata": {},
   "outputs": [
    {
     "name": "stderr",
     "output_type": "stream",
     "text": [
      "/home/ssm-user/anaconda3/envs/single_cell/lib/python3.8/site-packages/IPython/core/interactiveshell.py:3444: FutureWarning: In a future version of pandas all arguments of read_csv except for the argument 'filepath_or_buffer' will be keyword-only\n",
      "  exec(code_obj, self.user_global_ns, self.user_ns)\n"
     ]
    }
   ],
   "source": [
    "meq_out = pd.read_csv(data_path + 'full_analysis/mateqtl/outputs/asian_B_all.csv', '\\t')"
   ]
  },
  {
   "cell_type": "code",
   "execution_count": 7,
   "id": "24fcbff6",
   "metadata": {},
   "outputs": [
    {
     "data": {
      "text/html": [
       "<div>\n",
       "<style scoped>\n",
       "    .dataframe tbody tr th:only-of-type {\n",
       "        vertical-align: middle;\n",
       "    }\n",
       "\n",
       "    .dataframe tbody tr th {\n",
       "        vertical-align: top;\n",
       "    }\n",
       "\n",
       "    .dataframe thead th {\n",
       "        text-align: right;\n",
       "    }\n",
       "</style>\n",
       "<table border=\"1\" class=\"dataframe\">\n",
       "  <thead>\n",
       "    <tr style=\"text-align: right;\">\n",
       "      <th></th>\n",
       "      <th>SNP</th>\n",
       "      <th>gene</th>\n",
       "      <th>statistic</th>\n",
       "      <th>p.value</th>\n",
       "      <th>FDR</th>\n",
       "      <th>beta</th>\n",
       "    </tr>\n",
       "  </thead>\n",
       "  <tbody>\n",
       "    <tr>\n",
       "      <th>0</th>\n",
       "      <td>1:1049950</td>\n",
       "      <td>NOC2L</td>\n",
       "      <td>0.851925</td>\n",
       "      <td>0.394308</td>\n",
       "      <td>0.850822</td>\n",
       "      <td>0.001964</td>\n",
       "    </tr>\n",
       "    <tr>\n",
       "      <th>1</th>\n",
       "      <td>1:1042927</td>\n",
       "      <td>NOC2L</td>\n",
       "      <td>0.851925</td>\n",
       "      <td>0.394308</td>\n",
       "      <td>0.850822</td>\n",
       "      <td>0.001964</td>\n",
       "    </tr>\n",
       "    <tr>\n",
       "      <th>2</th>\n",
       "      <td>1:1017587</td>\n",
       "      <td>NOC2L</td>\n",
       "      <td>0.893863</td>\n",
       "      <td>0.372095</td>\n",
       "      <td>0.841741</td>\n",
       "      <td>0.003090</td>\n",
       "    </tr>\n",
       "    <tr>\n",
       "      <th>3</th>\n",
       "      <td>1:957898</td>\n",
       "      <td>NOC2L</td>\n",
       "      <td>1.619221</td>\n",
       "      <td>0.105548</td>\n",
       "      <td>0.628677</td>\n",
       "      <td>0.004612</td>\n",
       "    </tr>\n",
       "    <tr>\n",
       "      <th>4</th>\n",
       "      <td>1:960941</td>\n",
       "      <td>NOC2L</td>\n",
       "      <td>1.196114</td>\n",
       "      <td>0.231652</td>\n",
       "      <td>0.763107</td>\n",
       "      <td>0.003526</td>\n",
       "    </tr>\n",
       "  </tbody>\n",
       "</table>\n",
       "</div>"
      ],
      "text/plain": [
       "         SNP   gene  statistic   p.value       FDR      beta\n",
       "0  1:1049950  NOC2L   0.851925  0.394308  0.850822  0.001964\n",
       "1  1:1042927  NOC2L   0.851925  0.394308  0.850822  0.001964\n",
       "2  1:1017587  NOC2L   0.893863  0.372095  0.841741  0.003090\n",
       "3   1:957898  NOC2L   1.619221  0.105548  0.628677  0.004612\n",
       "4   1:960941  NOC2L   1.196114  0.231652  0.763107  0.003526"
      ]
     },
     "execution_count": 7,
     "metadata": {},
     "output_type": "execute_result"
    }
   ],
   "source": [
    "mem_out.head(5)"
   ]
  },
  {
   "cell_type": "code",
   "execution_count": 8,
   "id": "49723ef7",
   "metadata": {},
   "outputs": [
    {
     "data": {
      "text/html": [
       "<div>\n",
       "<style scoped>\n",
       "    .dataframe tbody tr th:only-of-type {\n",
       "        vertical-align: middle;\n",
       "    }\n",
       "\n",
       "    .dataframe tbody tr th {\n",
       "        vertical-align: top;\n",
       "    }\n",
       "\n",
       "    .dataframe thead th {\n",
       "        text-align: right;\n",
       "    }\n",
       "</style>\n",
       "<table border=\"1\" class=\"dataframe\">\n",
       "  <thead>\n",
       "    <tr style=\"text-align: right;\">\n",
       "      <th></th>\n",
       "      <th>SNP</th>\n",
       "      <th>gene</th>\n",
       "      <th>beta</th>\n",
       "      <th>t-stat</th>\n",
       "      <th>p-value</th>\n",
       "      <th>FDR</th>\n",
       "    </tr>\n",
       "  </thead>\n",
       "  <tbody>\n",
       "    <tr>\n",
       "      <th>0</th>\n",
       "      <td>6:32559864</td>\n",
       "      <td>HLA-DRB5</td>\n",
       "      <td>-0.473899</td>\n",
       "      <td>-9.682245</td>\n",
       "      <td>7.153825e-14</td>\n",
       "      <td>9.679721e-09</td>\n",
       "    </tr>\n",
       "    <tr>\n",
       "      <th>1</th>\n",
       "      <td>6:32560440</td>\n",
       "      <td>HLA-DRB5</td>\n",
       "      <td>-0.473899</td>\n",
       "      <td>-9.682245</td>\n",
       "      <td>7.153825e-14</td>\n",
       "      <td>9.679721e-09</td>\n",
       "    </tr>\n",
       "    <tr>\n",
       "      <th>2</th>\n",
       "      <td>6:32561093</td>\n",
       "      <td>HLA-DRB5</td>\n",
       "      <td>-0.473899</td>\n",
       "      <td>-9.682245</td>\n",
       "      <td>7.153825e-14</td>\n",
       "      <td>9.679721e-09</td>\n",
       "    </tr>\n",
       "    <tr>\n",
       "      <th>3</th>\n",
       "      <td>6:32561123</td>\n",
       "      <td>HLA-DRB5</td>\n",
       "      <td>-0.473899</td>\n",
       "      <td>-9.682245</td>\n",
       "      <td>7.153825e-14</td>\n",
       "      <td>9.679721e-09</td>\n",
       "    </tr>\n",
       "    <tr>\n",
       "      <th>4</th>\n",
       "      <td>6:32561390</td>\n",
       "      <td>HLA-DRB5</td>\n",
       "      <td>-0.473899</td>\n",
       "      <td>-9.682245</td>\n",
       "      <td>7.153825e-14</td>\n",
       "      <td>9.679721e-09</td>\n",
       "    </tr>\n",
       "  </tbody>\n",
       "</table>\n",
       "</div>"
      ],
      "text/plain": [
       "          SNP      gene      beta    t-stat       p-value           FDR\n",
       "0  6:32559864  HLA-DRB5 -0.473899 -9.682245  7.153825e-14  9.679721e-09\n",
       "1  6:32560440  HLA-DRB5 -0.473899 -9.682245  7.153825e-14  9.679721e-09\n",
       "2  6:32561093  HLA-DRB5 -0.473899 -9.682245  7.153825e-14  9.679721e-09\n",
       "3  6:32561123  HLA-DRB5 -0.473899 -9.682245  7.153825e-14  9.679721e-09\n",
       "4  6:32561390  HLA-DRB5 -0.473899 -9.682245  7.153825e-14  9.679721e-09"
      ]
     },
     "execution_count": 8,
     "metadata": {},
     "output_type": "execute_result"
    }
   ],
   "source": [
    "meq_out.head(5)"
   ]
  },
  {
   "cell_type": "code",
   "execution_count": 9,
   "id": "82b9a4dd",
   "metadata": {},
   "outputs": [],
   "source": [
    "merged = mem_out.merge(meq_out, on=['SNP', 'gene'], how='outer')"
   ]
  },
  {
   "cell_type": "code",
   "execution_count": 10,
   "id": "d953413a",
   "metadata": {},
   "outputs": [
    {
     "data": {
      "text/plain": [
       "(1016956, 10)"
      ]
     },
     "execution_count": 10,
     "metadata": {},
     "output_type": "execute_result"
    }
   ],
   "source": [
    "merged.shape"
   ]
  },
  {
   "cell_type": "code",
   "execution_count": 11,
   "id": "d48c7a8c",
   "metadata": {},
   "outputs": [
    {
     "data": {
      "text/html": [
       "<div>\n",
       "<style scoped>\n",
       "    .dataframe tbody tr th:only-of-type {\n",
       "        vertical-align: middle;\n",
       "    }\n",
       "\n",
       "    .dataframe tbody tr th {\n",
       "        vertical-align: top;\n",
       "    }\n",
       "\n",
       "    .dataframe thead th {\n",
       "        text-align: right;\n",
       "    }\n",
       "</style>\n",
       "<table border=\"1\" class=\"dataframe\">\n",
       "  <thead>\n",
       "    <tr style=\"text-align: right;\">\n",
       "      <th></th>\n",
       "      <th>SNP</th>\n",
       "      <th>gene</th>\n",
       "      <th>statistic</th>\n",
       "      <th>p.value</th>\n",
       "      <th>FDR_x</th>\n",
       "      <th>beta_x</th>\n",
       "      <th>beta_y</th>\n",
       "      <th>t-stat</th>\n",
       "      <th>p-value</th>\n",
       "      <th>FDR_y</th>\n",
       "    </tr>\n",
       "  </thead>\n",
       "  <tbody>\n",
       "    <tr>\n",
       "      <th>0</th>\n",
       "      <td>1:1049950</td>\n",
       "      <td>NOC2L</td>\n",
       "      <td>0.851925</td>\n",
       "      <td>0.394308</td>\n",
       "      <td>0.850822</td>\n",
       "      <td>0.001964</td>\n",
       "      <td>NaN</td>\n",
       "      <td>NaN</td>\n",
       "      <td>NaN</td>\n",
       "      <td>NaN</td>\n",
       "    </tr>\n",
       "    <tr>\n",
       "      <th>89</th>\n",
       "      <td>1:1490559</td>\n",
       "      <td>CCNL2</td>\n",
       "      <td>1.248200</td>\n",
       "      <td>0.212012</td>\n",
       "      <td>0.747228</td>\n",
       "      <td>0.004221</td>\n",
       "      <td>NaN</td>\n",
       "      <td>NaN</td>\n",
       "      <td>NaN</td>\n",
       "      <td>NaN</td>\n",
       "    </tr>\n",
       "    <tr>\n",
       "      <th>90</th>\n",
       "      <td>1:1490074</td>\n",
       "      <td>CCNL2</td>\n",
       "      <td>0.009337</td>\n",
       "      <td>0.992551</td>\n",
       "      <td>0.998549</td>\n",
       "      <td>0.000037</td>\n",
       "      <td>NaN</td>\n",
       "      <td>NaN</td>\n",
       "      <td>NaN</td>\n",
       "      <td>NaN</td>\n",
       "    </tr>\n",
       "    <tr>\n",
       "      <th>103</th>\n",
       "      <td>1:1648946</td>\n",
       "      <td>SSU72</td>\n",
       "      <td>1.487063</td>\n",
       "      <td>0.137923</td>\n",
       "      <td>0.673869</td>\n",
       "      <td>0.009868</td>\n",
       "      <td>NaN</td>\n",
       "      <td>NaN</td>\n",
       "      <td>NaN</td>\n",
       "      <td>NaN</td>\n",
       "    </tr>\n",
       "    <tr>\n",
       "      <th>104</th>\n",
       "      <td>1:1663861</td>\n",
       "      <td>SSU72</td>\n",
       "      <td>-0.257152</td>\n",
       "      <td>0.797291</td>\n",
       "      <td>0.969238</td>\n",
       "      <td>-0.001498</td>\n",
       "      <td>NaN</td>\n",
       "      <td>NaN</td>\n",
       "      <td>NaN</td>\n",
       "      <td>NaN</td>\n",
       "    </tr>\n",
       "    <tr>\n",
       "      <th>...</th>\n",
       "      <td>...</td>\n",
       "      <td>...</td>\n",
       "      <td>...</td>\n",
       "      <td>...</td>\n",
       "      <td>...</td>\n",
       "      <td>...</td>\n",
       "      <td>...</td>\n",
       "      <td>...</td>\n",
       "      <td>...</td>\n",
       "      <td>...</td>\n",
       "    </tr>\n",
       "    <tr>\n",
       "      <th>1016478</th>\n",
       "      <td>21:45217093</td>\n",
       "      <td>ADARB1</td>\n",
       "      <td>-2.161636</td>\n",
       "      <td>0.030691</td>\n",
       "      <td>0.431771</td>\n",
       "      <td>-0.005536</td>\n",
       "      <td>NaN</td>\n",
       "      <td>NaN</td>\n",
       "      <td>NaN</td>\n",
       "      <td>NaN</td>\n",
       "    </tr>\n",
       "    <tr>\n",
       "      <th>1016481</th>\n",
       "      <td>21:45228251</td>\n",
       "      <td>ADARB1</td>\n",
       "      <td>-1.544995</td>\n",
       "      <td>0.125377</td>\n",
       "      <td>0.658591</td>\n",
       "      <td>-0.004317</td>\n",
       "      <td>NaN</td>\n",
       "      <td>NaN</td>\n",
       "      <td>NaN</td>\n",
       "      <td>NaN</td>\n",
       "    </tr>\n",
       "    <tr>\n",
       "      <th>1016482</th>\n",
       "      <td>21:45256385</td>\n",
       "      <td>ADARB1</td>\n",
       "      <td>-2.469722</td>\n",
       "      <td>0.013676</td>\n",
       "      <td>0.320837</td>\n",
       "      <td>-0.006201</td>\n",
       "      <td>NaN</td>\n",
       "      <td>NaN</td>\n",
       "      <td>NaN</td>\n",
       "      <td>NaN</td>\n",
       "    </tr>\n",
       "    <tr>\n",
       "      <th>1016483</th>\n",
       "      <td>21:45205668</td>\n",
       "      <td>ADARB1</td>\n",
       "      <td>-2.181595</td>\n",
       "      <td>0.029231</td>\n",
       "      <td>0.424383</td>\n",
       "      <td>-0.004175</td>\n",
       "      <td>NaN</td>\n",
       "      <td>NaN</td>\n",
       "      <td>NaN</td>\n",
       "      <td>NaN</td>\n",
       "    </tr>\n",
       "    <tr>\n",
       "      <th>1016485</th>\n",
       "      <td>21:45232322</td>\n",
       "      <td>ADARB1</td>\n",
       "      <td>-1.576470</td>\n",
       "      <td>0.117767</td>\n",
       "      <td>0.647150</td>\n",
       "      <td>-0.004468</td>\n",
       "      <td>NaN</td>\n",
       "      <td>NaN</td>\n",
       "      <td>NaN</td>\n",
       "      <td>NaN</td>\n",
       "    </tr>\n",
       "  </tbody>\n",
       "</table>\n",
       "<p>173630 rows × 10 columns</p>\n",
       "</div>"
      ],
      "text/plain": [
       "                 SNP    gene  statistic   p.value     FDR_x    beta_x  beta_y  \\\n",
       "0          1:1049950   NOC2L   0.851925  0.394308  0.850822  0.001964     NaN   \n",
       "89         1:1490559   CCNL2   1.248200  0.212012  0.747228  0.004221     NaN   \n",
       "90         1:1490074   CCNL2   0.009337  0.992551  0.998549  0.000037     NaN   \n",
       "103        1:1648946   SSU72   1.487063  0.137923  0.673869  0.009868     NaN   \n",
       "104        1:1663861   SSU72  -0.257152  0.797291  0.969238 -0.001498     NaN   \n",
       "...              ...     ...        ...       ...       ...       ...     ...   \n",
       "1016478  21:45217093  ADARB1  -2.161636  0.030691  0.431771 -0.005536     NaN   \n",
       "1016481  21:45228251  ADARB1  -1.544995  0.125377  0.658591 -0.004317     NaN   \n",
       "1016482  21:45256385  ADARB1  -2.469722  0.013676  0.320837 -0.006201     NaN   \n",
       "1016483  21:45205668  ADARB1  -2.181595  0.029231  0.424383 -0.004175     NaN   \n",
       "1016485  21:45232322  ADARB1  -1.576470  0.117767  0.647150 -0.004468     NaN   \n",
       "\n",
       "         t-stat  p-value  FDR_y  \n",
       "0           NaN      NaN    NaN  \n",
       "89          NaN      NaN    NaN  \n",
       "90          NaN      NaN    NaN  \n",
       "103         NaN      NaN    NaN  \n",
       "104         NaN      NaN    NaN  \n",
       "...         ...      ...    ...  \n",
       "1016478     NaN      NaN    NaN  \n",
       "1016481     NaN      NaN    NaN  \n",
       "1016482     NaN      NaN    NaN  \n",
       "1016483     NaN      NaN    NaN  \n",
       "1016485     NaN      NaN    NaN  \n",
       "\n",
       "[173630 rows x 10 columns]"
      ]
     },
     "execution_count": 11,
     "metadata": {},
     "output_type": "execute_result"
    }
   ],
   "source": [
    "merged[merged['p-value'].isnull()]"
   ]
  },
  {
   "cell_type": "code",
   "execution_count": 12,
   "id": "a3c1925e",
   "metadata": {},
   "outputs": [
    {
     "data": {
      "text/html": [
       "<div>\n",
       "<style scoped>\n",
       "    .dataframe tbody tr th:only-of-type {\n",
       "        vertical-align: middle;\n",
       "    }\n",
       "\n",
       "    .dataframe tbody tr th {\n",
       "        vertical-align: top;\n",
       "    }\n",
       "\n",
       "    .dataframe thead th {\n",
       "        text-align: right;\n",
       "    }\n",
       "</style>\n",
       "<table border=\"1\" class=\"dataframe\">\n",
       "  <thead>\n",
       "    <tr style=\"text-align: right;\">\n",
       "      <th></th>\n",
       "      <th>SNP</th>\n",
       "      <th>gene</th>\n",
       "      <th>statistic</th>\n",
       "      <th>p.value</th>\n",
       "      <th>FDR_x</th>\n",
       "      <th>beta_x</th>\n",
       "      <th>beta_y</th>\n",
       "      <th>t-stat</th>\n",
       "      <th>p-value</th>\n",
       "      <th>FDR_y</th>\n",
       "    </tr>\n",
       "  </thead>\n",
       "  <tbody>\n",
       "    <tr>\n",
       "      <th>89</th>\n",
       "      <td>1:1490559</td>\n",
       "      <td>CCNL2</td>\n",
       "      <td>1.248200</td>\n",
       "      <td>0.212012</td>\n",
       "      <td>0.747228</td>\n",
       "      <td>0.004221</td>\n",
       "      <td>NaN</td>\n",
       "      <td>NaN</td>\n",
       "      <td>NaN</td>\n",
       "      <td>NaN</td>\n",
       "    </tr>\n",
       "    <tr>\n",
       "      <th>203147</th>\n",
       "      <td>1:1490559</td>\n",
       "      <td>SSU72</td>\n",
       "      <td>0.214317</td>\n",
       "      <td>0.830807</td>\n",
       "      <td>0.975299</td>\n",
       "      <td>0.001681</td>\n",
       "      <td>0.015127</td>\n",
       "      <td>1.203558</td>\n",
       "      <td>0.233488</td>\n",
       "      <td>0.952872</td>\n",
       "    </tr>\n",
       "    <tr>\n",
       "      <th>508401</th>\n",
       "      <td>1:1490559</td>\n",
       "      <td>MRPL20</td>\n",
       "      <td>0.529643</td>\n",
       "      <td>0.596403</td>\n",
       "      <td>0.918927</td>\n",
       "      <td>0.003197</td>\n",
       "      <td>0.012222</td>\n",
       "      <td>1.250391</td>\n",
       "      <td>0.216011</td>\n",
       "      <td>0.947569</td>\n",
       "    </tr>\n",
       "  </tbody>\n",
       "</table>\n",
       "</div>"
      ],
      "text/plain": [
       "              SNP    gene  statistic   p.value     FDR_x    beta_x    beta_y  \\\n",
       "89      1:1490559   CCNL2   1.248200  0.212012  0.747228  0.004221       NaN   \n",
       "203147  1:1490559   SSU72   0.214317  0.830807  0.975299  0.001681  0.015127   \n",
       "508401  1:1490559  MRPL20   0.529643  0.596403  0.918927  0.003197  0.012222   \n",
       "\n",
       "          t-stat   p-value     FDR_y  \n",
       "89           NaN       NaN       NaN  \n",
       "203147  1.203558  0.233488  0.952872  \n",
       "508401  1.250391  0.216011  0.947569  "
      ]
     },
     "execution_count": 12,
     "metadata": {},
     "output_type": "execute_result"
    }
   ],
   "source": [
    "merged.query('SNP == \"1:1490559\"')"
   ]
  },
  {
   "cell_type": "code",
   "execution_count": 13,
   "id": "7e11a1b0",
   "metadata": {},
   "outputs": [],
   "source": [
    "gene_locs = pd.read_csv(data_path + 'full_analysis/mateqtl/inputs/geneloc_tss.txt', sep='\\t')"
   ]
  },
  {
   "cell_type": "code",
   "execution_count": 66,
   "id": "6c033939",
   "metadata": {},
   "outputs": [
    {
     "data": {
      "text/plain": [
       "Text(0, 0.5, 'Matrix eQTL log10p')"
      ]
     },
     "execution_count": 66,
     "metadata": {},
     "output_type": "execute_result"
    },
    {
     "data": {
      "image/png": "[encoded data removed]",
      "text/plain": [
       "<Figure size 432x288 with 1 Axes>"
      ]
     },
     "metadata": {
      "needs_background": "light"
     },
     "output_type": "display_data"
    }
   ],
   "source": [
    "plt.scatter(-np.log10(merged['p.value']), -np.log10(merged['p-value']))\n",
    "plt.xlabel('Memento log10p'); plt.ylabel('Matrix eQTL log10p')"
   ]
  },
  {
   "cell_type": "code",
   "execution_count": 15,
   "id": "cd7bb72f",
   "metadata": {},
   "outputs": [
    {
     "data": {
      "text/plain": [
       "(1016553, 6)"
      ]
     },
     "execution_count": 15,
     "metadata": {},
     "output_type": "execute_result"
    }
   ],
   "source": [
    "mem_out.shape"
   ]
  },
  {
   "cell_type": "code",
   "execution_count": 16,
   "id": "ac28fc72",
   "metadata": {},
   "outputs": [
    {
     "data": {
      "text/plain": [
       "(843326, 6)"
      ]
     },
     "execution_count": 16,
     "metadata": {},
     "output_type": "execute_result"
    }
   ],
   "source": [
    "meq_out.shape"
   ]
  },
  {
   "cell_type": "code",
   "execution_count": 33,
   "id": "70e3e4d9",
   "metadata": {},
   "outputs": [],
   "source": [
    "cts = ['B','T8', 'T4', 'NK', 'ncM', 'cM']"
   ]
  },
  {
   "cell_type": "code",
   "execution_count": 34,
   "id": "1c9bd9b5",
   "metadata": {},
   "outputs": [],
   "source": [
    "dfs = {}\n",
    "pop = 'asian'\n",
    "for ct in cts:\n",
    "    dfs[ct] = pd.read_csv(('/data_volume/memento/lupus/full_analysis/memento/hits/{}_{}.csv'.format(pop, ct)))"
   ]
  },
  {
   "cell_type": "code",
   "execution_count": 35,
   "id": "4ff0208c",
   "metadata": {},
   "outputs": [],
   "source": [
    "heatmap = pd.DataFrame(index=cts, columns=cts)"
   ]
  },
  {
   "cell_type": "code",
   "execution_count": 36,
   "id": "ce4ede69",
   "metadata": {},
   "outputs": [],
   "source": [
    "import itertools"
   ]
  },
  {
   "cell_type": "code",
   "execution_count": 48,
   "id": "68c1a440",
   "metadata": {},
   "outputs": [],
   "source": [
    "for c1, c2 in itertools.combinations(cts, 2):\n",
    "    \n",
    "    combined = dfs[c1].merge(dfs[c2], on=['SNP', 'gene'])\n",
    "    corr = stats.pearsonr(combined['statistic_x'], combined['statistic_y'])[0]\n",
    "    heatmap.loc[c1, c2] = corr\n",
    "    heatmap.loc[c2, c1] = corr"
   ]
  },
  {
   "cell_type": "code",
   "execution_count": 49,
   "id": "5c58af56",
   "metadata": {},
   "outputs": [
    {
     "data": {
      "text/html": [
       "<div>\n",
       "<style scoped>\n",
       "    .dataframe tbody tr th:only-of-type {\n",
       "        vertical-align: middle;\n",
       "    }\n",
       "\n",
       "    .dataframe tbody tr th {\n",
       "        vertical-align: top;\n",
       "    }\n",
       "\n",
       "    .dataframe thead th {\n",
       "        text-align: right;\n",
       "    }\n",
       "</style>\n",
       "<table border=\"1\" class=\"dataframe\">\n",
       "  <thead>\n",
       "    <tr style=\"text-align: right;\">\n",
       "      <th></th>\n",
       "      <th>B</th>\n",
       "      <th>T8</th>\n",
       "      <th>T4</th>\n",
       "      <th>NK</th>\n",
       "      <th>ncM</th>\n",
       "      <th>cM</th>\n",
       "    </tr>\n",
       "  </thead>\n",
       "  <tbody>\n",
       "    <tr>\n",
       "      <th>B</th>\n",
       "      <td>NaN</td>\n",
       "      <td>0.434102</td>\n",
       "      <td>0.454726</td>\n",
       "      <td>0.327917</td>\n",
       "      <td>0.324042</td>\n",
       "      <td>0.335308</td>\n",
       "    </tr>\n",
       "    <tr>\n",
       "      <th>T8</th>\n",
       "      <td>0.434102</td>\n",
       "      <td>NaN</td>\n",
       "      <td>0.567092</td>\n",
       "      <td>0.46933</td>\n",
       "      <td>0.372621</td>\n",
       "      <td>0.359748</td>\n",
       "    </tr>\n",
       "    <tr>\n",
       "      <th>T4</th>\n",
       "      <td>0.454726</td>\n",
       "      <td>0.567092</td>\n",
       "      <td>NaN</td>\n",
       "      <td>0.433472</td>\n",
       "      <td>0.360829</td>\n",
       "      <td>0.378477</td>\n",
       "    </tr>\n",
       "    <tr>\n",
       "      <th>NK</th>\n",
       "      <td>0.327917</td>\n",
       "      <td>0.46933</td>\n",
       "      <td>0.433472</td>\n",
       "      <td>NaN</td>\n",
       "      <td>0.325552</td>\n",
       "      <td>0.328022</td>\n",
       "    </tr>\n",
       "    <tr>\n",
       "      <th>ncM</th>\n",
       "      <td>0.324042</td>\n",
       "      <td>0.372621</td>\n",
       "      <td>0.360829</td>\n",
       "      <td>0.325552</td>\n",
       "      <td>NaN</td>\n",
       "      <td>0.461685</td>\n",
       "    </tr>\n",
       "    <tr>\n",
       "      <th>cM</th>\n",
       "      <td>0.335308</td>\n",
       "      <td>0.359748</td>\n",
       "      <td>0.378477</td>\n",
       "      <td>0.328022</td>\n",
       "      <td>0.461685</td>\n",
       "      <td>NaN</td>\n",
       "    </tr>\n",
       "  </tbody>\n",
       "</table>\n",
       "</div>"
      ],
      "text/plain": [
       "            B        T8        T4        NK       ncM        cM\n",
       "B         NaN  0.434102  0.454726  0.327917  0.324042  0.335308\n",
       "T8   0.434102       NaN  0.567092   0.46933  0.372621  0.359748\n",
       "T4   0.454726  0.567092       NaN  0.433472  0.360829  0.378477\n",
       "NK   0.327917   0.46933  0.433472       NaN  0.325552  0.328022\n",
       "ncM  0.324042  0.372621  0.360829  0.325552       NaN  0.461685\n",
       "cM   0.335308  0.359748  0.378477  0.328022  0.461685       NaN"
      ]
     },
     "execution_count": 49,
     "metadata": {},
     "output_type": "execute_result"
    }
   ],
   "source": [
    "heatmap"
   ]
  },
  {
   "cell_type": "code",
   "execution_count": 54,
   "id": "3b7f523b",
   "metadata": {},
   "outputs": [
    {
     "data": {
      "text/plain": [
       "<AxesSubplot:>"
      ]
     },
     "execution_count": 54,
     "metadata": {},
     "output_type": "execute_result"
    },
    {
     "data": {
      "image/png": "[encoded data removed]",
      "text/plain": [
       "<Figure size 432x288 with 2 Axes>"
      ]
     },
     "metadata": {
      "needs_background": "light"
     },
     "output_type": "display_data"
    }
   ],
   "source": [
    "sns.heatmap(heatmap.fillna(0), cmap='viridis', vmin=0.3, vmax=0.5)"
   ]
  },
  {
   "cell_type": "code",
   "execution_count": null,
   "id": "b4b5e6c8",
   "metadata": {},
   "outputs": [],
   "source": []
  },
  {
   "cell_type": "code",
   "execution_count": 60,
   "id": "3b8ccf80",
   "metadata": {},
   "outputs": [],
   "source": [
    "dfs = {}\n",
    "pop = 'asian'\n",
    "for ct in cts:\n",
    "    dfs[ct] = pd.read_csv(('/data_volume/memento/lupus/full_analysis/mateqtl/outputs/{}_{}_all.csv'.format(pop, ct)), sep='\\t')"
   ]
  },
  {
   "cell_type": "code",
   "execution_count": 61,
   "id": "a0a400ae",
   "metadata": {},
   "outputs": [],
   "source": [
    "heatmap = pd.DataFrame(index=cts, columns=cts)"
   ]
  },
  {
   "cell_type": "code",
   "execution_count": 62,
   "id": "87e61877",
   "metadata": {},
   "outputs": [],
   "source": [
    "import itertools"
   ]
  },
  {
   "cell_type": "code",
   "execution_count": 63,
   "id": "12be81ba",
   "metadata": {},
   "outputs": [],
   "source": [
    "for c1, c2 in itertools.combinations(cts, 2):\n",
    "    \n",
    "    combined = dfs[c1].merge(dfs[c2], on=['SNP', 'gene'])\n",
    "    corr = stats.pearsonr(combined['t-stat_x'], combined['t-stat_y'])[0]\n",
    "    heatmap.loc[c1, c2] = corr\n",
    "    heatmap.loc[c2, c1] = corr"
   ]
  },
  {
   "cell_type": "code",
   "execution_count": 64,
   "id": "aaf391dd",
   "metadata": {},
   "outputs": [
    {
     "data": {
      "text/html": [
       "<div>\n",
       "<style scoped>\n",
       "    .dataframe tbody tr th:only-of-type {\n",
       "        vertical-align: middle;\n",
       "    }\n",
       "\n",
       "    .dataframe tbody tr th {\n",
       "        vertical-align: top;\n",
       "    }\n",
       "\n",
       "    .dataframe thead th {\n",
       "        text-align: right;\n",
       "    }\n",
       "</style>\n",
       "<table border=\"1\" class=\"dataframe\">\n",
       "  <thead>\n",
       "    <tr style=\"text-align: right;\">\n",
       "      <th></th>\n",
       "      <th>B</th>\n",
       "      <th>T8</th>\n",
       "      <th>T4</th>\n",
       "      <th>NK</th>\n",
       "      <th>ncM</th>\n",
       "      <th>cM</th>\n",
       "    </tr>\n",
       "  </thead>\n",
       "  <tbody>\n",
       "    <tr>\n",
       "      <th>B</th>\n",
       "      <td>NaN</td>\n",
       "      <td>0.472846</td>\n",
       "      <td>0.475286</td>\n",
       "      <td>0.368378</td>\n",
       "      <td>0.363941</td>\n",
       "      <td>0.384573</td>\n",
       "    </tr>\n",
       "    <tr>\n",
       "      <th>T8</th>\n",
       "      <td>0.472846</td>\n",
       "      <td>NaN</td>\n",
       "      <td>0.58416</td>\n",
       "      <td>0.44749</td>\n",
       "      <td>0.388629</td>\n",
       "      <td>0.397275</td>\n",
       "    </tr>\n",
       "    <tr>\n",
       "      <th>T4</th>\n",
       "      <td>0.475286</td>\n",
       "      <td>0.58416</td>\n",
       "      <td>NaN</td>\n",
       "      <td>0.412016</td>\n",
       "      <td>0.379356</td>\n",
       "      <td>0.453314</td>\n",
       "    </tr>\n",
       "    <tr>\n",
       "      <th>NK</th>\n",
       "      <td>0.368378</td>\n",
       "      <td>0.44749</td>\n",
       "      <td>0.412016</td>\n",
       "      <td>NaN</td>\n",
       "      <td>0.315573</td>\n",
       "      <td>0.323671</td>\n",
       "    </tr>\n",
       "    <tr>\n",
       "      <th>ncM</th>\n",
       "      <td>0.363941</td>\n",
       "      <td>0.388629</td>\n",
       "      <td>0.379356</td>\n",
       "      <td>0.315573</td>\n",
       "      <td>NaN</td>\n",
       "      <td>0.470275</td>\n",
       "    </tr>\n",
       "    <tr>\n",
       "      <th>cM</th>\n",
       "      <td>0.384573</td>\n",
       "      <td>0.397275</td>\n",
       "      <td>0.453314</td>\n",
       "      <td>0.323671</td>\n",
       "      <td>0.470275</td>\n",
       "      <td>NaN</td>\n",
       "    </tr>\n",
       "  </tbody>\n",
       "</table>\n",
       "</div>"
      ],
      "text/plain": [
       "            B        T8        T4        NK       ncM        cM\n",
       "B         NaN  0.472846  0.475286  0.368378  0.363941  0.384573\n",
       "T8   0.472846       NaN   0.58416   0.44749  0.388629  0.397275\n",
       "T4   0.475286   0.58416       NaN  0.412016  0.379356  0.453314\n",
       "NK   0.368378   0.44749  0.412016       NaN  0.315573  0.323671\n",
       "ncM  0.363941  0.388629  0.379356  0.315573       NaN  0.470275\n",
       "cM   0.384573  0.397275  0.453314  0.323671  0.470275       NaN"
      ]
     },
     "execution_count": 64,
     "metadata": {},
     "output_type": "execute_result"
    }
   ],
   "source": [
    "heatmap"
   ]
  },
  {
   "cell_type": "code",
   "execution_count": 65,
   "id": "a0775168",
   "metadata": {},
   "outputs": [
    {
     "data": {
      "text/plain": [
       "<AxesSubplot:>"
      ]
     },
     "execution_count": 65,
     "metadata": {},
     "output_type": "execute_result"
    },
    {
     "data": {
      "image/png": "[encoded data removed]",
      "text/plain": [
       "<Figure size 432x288 with 2 Axes>"
      ]
     },
     "metadata": {
      "needs_background": "light"
     },
     "output_type": "display_data"
    }
   ],
   "source": [
    "sns.heatmap(heatmap.fillna(0), cmap='viridis', vmin=0.3, vmax=0.5)"
   ]
  },
  {
   "cell_type": "code",
   "execution_count": null,
   "id": "21f60c57",
   "metadata": {},
   "outputs": [],
   "source": []
  }
 ],
 "metadata": {
  "kernelspec": {
   "display_name": "Python 3 (ipykernel)",
   "language": "python",
   "name": "python3"
  },
  "language_info": {
   "codemirror_mode": {
    "name": "ipython",
    "version": 3
   },
   "file_extension": ".py",
   "mimetype": "text/x-python",
   "name": "python",
   "nbconvert_exporter": "python",
   "pygments_lexer": "ipython3",
   "version": "3.11.5"
  }
 },
 "nbformat": 4,
 "nbformat_minor": 5
}
