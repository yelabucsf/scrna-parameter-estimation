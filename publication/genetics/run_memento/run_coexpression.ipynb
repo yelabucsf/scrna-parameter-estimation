{
 "cells": [
  {
   "cell_type": "markdown",
   "id": "ae9dd220",
   "metadata": {},
   "source": [
    "# Run coexpression QTL analysis for lupus data\n",
    "\n",
    "pkill -9 -f joblib"
   ]
  },
  {
   "cell_type": "code",
   "execution_count": 2,
   "id": "296bea66",
   "metadata": {},
   "outputs": [],
   "source": [
    "import scanpy as sc\n",
    "import seaborn as sns\n",
    "import pandas as pd\n",
    "import matplotlib.pyplot as plt\n",
    "import numpy as np\n",
    "import scipy.stats as stats\n",
    "import itertools\n",
    "from pybedtools import BedTool\n",
    "import statsmodels.formula.api as smf\n",
    "import statsmodels.api as sm\n",
    "import imp\n",
    "pd.set_option('display.max_columns', 100)\n",
    "import os\n",
    "import pickle as pkl\n",
    "%matplotlib inline"
   ]
  },
  {
   "cell_type": "code",
   "execution_count": 3,
   "id": "5b5d8770",
   "metadata": {},
   "outputs": [],
   "source": [
    "import sys\n",
    "sys.path.append('/home/ssm-user/Github/scrna-parameter-estimation/dist/memento-0.0.9-py3.8.egg')\n",
    "sys.path.append('/home/ssm-user/Github/misc-seq/miscseq/')\n",
    "import encode\n",
    "import memento\n",
    "import run_memento"
   ]
  },
  {
   "cell_type": "code",
   "execution_count": 4,
   "id": "e331500d",
   "metadata": {},
   "outputs": [],
   "source": [
    "data_path  = '/data_volume/memento/lupus/'"
   ]
  },
  {
   "cell_type": "markdown",
   "id": "978712af",
   "metadata": {},
   "source": [
    "### Run memento on full gene_1, gene_2, SNP pairs"
   ]
  },
  {
   "cell_type": "code",
   "execution_count": 9,
   "id": "029bb82d",
   "metadata": {},
   "outputs": [],
   "source": [
    "# coexpression memento\n",
    "# imp.reload(run_memento)\n",
    "# for pop in ['asian','eur']:\n",
    "#     print('---', pop, '---')\n",
    "#     run_memento.run_full_coexpression(pop,num_blocks=1)"
   ]
  },
  {
   "cell_type": "markdown",
   "id": "de01fc09",
   "metadata": {},
   "source": [
    "### Combine blocks"
   ]
  },
  {
   "cell_type": "code",
   "execution_count": 10,
   "id": "dae73374",
   "metadata": {},
   "outputs": [],
   "source": [
    "# for pop in ['asian', 'eur']:\n",
    "#     for ct in ['T4', 'cM', 'ncM', 'T8', 'B', 'NK']:\n",
    "#         result = []\n",
    "#         for block in range(1):\n",
    "#             result.append(pd.read_csv('/data_volume/memento/lupus/memento_full/100kb/{}_{}_block_{}_coexpression.csv'.format(pop, ct, block)))\n",
    "#         result = pd.concat(result)\n",
    "#         result['corr_fdr'] = memento.util._fdrcorrect(result['corr_pval'])\n",
    "#         result['statistic'] = result['corr_coef']/result['corr_se']\n",
    "#         print(result.query('corr_fdr < 0.1').shape[0])\n",
    "#         result.to_csv(data_path + 'full_analysis/memento/100kb/{}_{}_coexpression.csv'.format(pop, ct), index=False)"
   ]
  }
 ],
 "metadata": {
  "kernelspec": {
   "display_name": "Python 3 (ipykernel)",
   "language": "python",
   "name": "python3"
  },
  "language_info": {
   "codemirror_mode": {
    "name": "ipython",
    "version": 3
   },
   "file_extension": ".py",
   "mimetype": "text/x-python",
   "name": "python",
   "nbconvert_exporter": "python",
   "pygments_lexer": "ipython3",
   "version": "3.8.8"
  }
 },
 "nbformat": 4,
 "nbformat_minor": 5
}
