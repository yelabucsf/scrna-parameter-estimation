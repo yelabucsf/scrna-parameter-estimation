{
 "cells": [
  {
   "cell_type": "markdown",
   "id": "c390bc07",
   "metadata": {},
   "source": [
    "# Run eQTL analysis for lupus data\n",
    "\n",
    "pkill -9 -f joblib"
   ]
  },
  {
   "cell_type": "code",
   "execution_count": 1,
   "id": "74634af0",
   "metadata": {},
   "outputs": [],
   "source": [
    "import scanpy as sc\n",
    "import seaborn as sns\n",
    "import pandas as pd\n",
    "import matplotlib.pyplot as plt\n",
    "import numpy as np\n",
    "import scipy.stats as stats\n",
    "import itertools\n",
    "import statsmodels.formula.api as smf\n",
    "import statsmodels.api as sm\n",
    "\n",
    "import os\n",
    "import pickle as pkl\n",
    "\n",
    "from functools import partial\n",
    "from joblib import Parallel, delayed\n",
    "\n",
    "%matplotlib inline"
   ]
  },
  {
   "cell_type": "code",
   "execution_count": 3,
   "id": "c554e6fe",
   "metadata": {},
   "outputs": [],
   "source": [
    "import sys\n",
    "import memento\n",
    "import run_memento"
   ]
  },
  {
   "cell_type": "code",
   "execution_count": 4,
   "id": "fa8d7dd5",
   "metadata": {},
   "outputs": [],
   "source": [
    "data_path  = '/s3data/lupus/'"
   ]
  },
  {
   "cell_type": "code",
   "execution_count": 5,
   "id": "997baf09-00d5-4503-86fe-811a975d560a",
   "metadata": {},
   "outputs": [],
   "source": [
    "%load_ext autoreload"
   ]
  },
  {
   "cell_type": "code",
   "execution_count": 6,
   "id": "3d715a48-153a-4957-8fc1-cecb06e6d7a0",
   "metadata": {},
   "outputs": [],
   "source": [
    "%autoreload 2"
   ]
  },
  {
   "cell_type": "markdown",
   "id": "adc9d5c3",
   "metadata": {},
   "source": [
    "### Get SNP gene pairs from Gracie's output for sanity checking"
   ]
  },
  {
   "cell_type": "code",
   "execution_count": 7,
   "id": "54784aad",
   "metadata": {},
   "outputs": [],
   "source": [
    "# gs_pairs_mine = pd.read_csv(data_path +'mateqtl_input/{}/gene_snp_pairs_{}.csv'.format('eur', '100kb'))"
   ]
  },
  {
   "cell_type": "code",
   "execution_count": 8,
   "id": "fa90aff2",
   "metadata": {},
   "outputs": [],
   "source": [
    "# gracie_nk = pd.read_csv(data_path + 'gracie_eqtls/nk_metasoft_out.txt', sep='\\t', skiprows=1, header=None).iloc[:, :3]"
   ]
  },
  {
   "cell_type": "code",
   "execution_count": 9,
   "id": "a450289f",
   "metadata": {},
   "outputs": [],
   "source": [
    "# gene_snp_pairs_new = pd.DataFrame()\n",
    "# gene_snp_pairs_new['gene'] = gracie_nk.iloc[:, 0].str.split('_').str[1]\n",
    "# gene_snp_pairs_new['rsid'] = gracie_nk.iloc[:, 0].str.split('_').str[0]"
   ]
  },
  {
   "cell_type": "code",
   "execution_count": 10,
   "id": "22f0ab83",
   "metadata": {},
   "outputs": [],
   "source": [
    "# gene_snp_pairs_new.to_csv(data_path + 'gracie_eqtls/gene_snp_pairs.csv', index=False)"
   ]
  },
  {
   "cell_type": "markdown",
   "id": "89d7cb1d",
   "metadata": {},
   "source": [
    "### Create shuffled genotypes for sanity checks"
   ]
  },
  {
   "cell_type": "code",
   "execution_count": 11,
   "id": "c3104be6",
   "metadata": {},
   "outputs": [],
   "source": [
    "# for pop in ['asian', 'eur']:\n",
    "#     pos = pd.read_csv(data_path + 'mateqtl_input/{}_genos.tsv'.format(pop), sep='\\t', index_col=0)\n",
    "#     pos_mtx = pos.values.copy()\n",
    "#     a = [np.random.shuffle(x) for x in pos_mtx]\n",
    "#     pd.DataFrame(pos_mtx, columns=pos.columns, index=pos.index).to_csv(data_path + 'mateqtl_input/{}_genos_shuffled.tsv'.format(pop), sep='\\t')"
   ]
  },
  {
   "cell_type": "markdown",
   "id": "ccc18598",
   "metadata": {},
   "source": [
    "### Run memento on Onek1k gene-SNP pairs"
   ]
  },
  {
   "cell_type": "code",
   "execution_count": 12,
   "id": "5dd5cb39",
   "metadata": {},
   "outputs": [],
   "source": [
    "# mean\n",
    "funcs = []\n",
    "for pop in ['asian', 'eur']:\n",
    "    for num_inds in [40, 50, 60, 70, 80]:\n",
    "        for trial in range(10):\n",
    "            funcs.append(\n",
    "                partial(\n",
    "                    run_memento.run_onek_sampled,\n",
    "                    pop,\n",
    "                    num_inds,\n",
    "                    trial\n",
    "\n",
    "            ))"
   ]
  },
  {
   "cell_type": "code",
   "execution_count": null,
   "id": "cbc61890-5fc3-4670-9d3c-7d78f01dd955",
   "metadata": {},
   "outputs": [],
   "source": [
    "results = Parallel(n_jobs=40, verbose=1)(delayed(func)() for func in funcs)\n"
   ]
  },
  {
   "cell_type": "code",
   "execution_count": null,
   "id": "d9fed058",
   "metadata": {},
   "outputs": [
    {
     "name": "stdout",
     "output_type": "stream",
     "text": [
      "--- asian ---\n",
      "961210\n",
      "T4\n"
     ]
    },
    {
     "name": "stderr",
     "output_type": "stream",
     "text": [
      "/home/ssm-user/anaconda3/envs/single_cell/lib/python3.8/site-packages/anndata/_core/anndata.py:1095: FutureWarning: The `inplace` parameter in pandas.Categorical.remove_unused_categories is deprecated and will be removed in a future version.\n",
      "  df_sub[k].cat.remove_unused_categories(inplace=True)\n"
     ]
    },
    {
     "name": "stdout",
     "output_type": "stream",
     "text": [
      "0\n"
     ]
    },
    {
     "name": "stderr",
     "output_type": "stream",
     "text": [
      "/home/ssm-user/anaconda3/envs/single_cell/lib/python3.8/site-packages/anndata/_core/anndata.py:1095: FutureWarning: The `inplace` parameter in pandas.Categorical.remove_unused_categories is deprecated and will be removed in a future version.\n",
      "  df_sub[k].cat.remove_unused_categories(inplace=True)\n",
      "[Parallel(n_jobs=80)]: Using backend LokyBackend with 80 concurrent workers.\n",
      "[Parallel(n_jobs=80)]: Done  40 tasks      | elapsed:   10.8s\n",
      "[Parallel(n_jobs=80)]: Done 290 tasks      | elapsed:   27.1s\n",
      "[Parallel(n_jobs=80)]: Done 640 tasks      | elapsed:   51.2s\n",
      "[Parallel(n_jobs=80)]: Done 1090 tasks      | elapsed:  1.4min\n",
      "[Parallel(n_jobs=80)]: Done 1640 tasks      | elapsed:  2.2min\n",
      "[Parallel(n_jobs=80)]: Done 2290 tasks      | elapsed:  2.9min\n"
     ]
    }
   ],
   "source": [
    "# # variability\n",
    "# for pop in ['asian','eur']:\n",
    "#     print('---', pop, '---')\n",
    "#     run_memento.run_full(pop, parameter='variability', num_blocks=5)"
   ]
  }
 ],
 "metadata": {
  "kernelspec": {
   "display_name": "packaging_test",
   "language": "python",
   "name": "packaging_test"
  },
  "language_info": {
   "codemirror_mode": {
    "name": "ipython",
    "version": 3
   },
   "file_extension": ".py",
   "mimetype": "text/x-python",
   "name": "python",
   "nbconvert_exporter": "python",
   "pygments_lexer": "ipython3",
   "version": "3.13.1"
  }
 },
 "nbformat": 4,
 "nbformat_minor": 5
}
