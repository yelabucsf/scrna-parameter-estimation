{
 "cells": [
  {
   "cell_type": "markdown",
   "id": "c390bc07",
   "metadata": {},
   "source": [
    "# Run eQTL analysis for lupus data\n",
    "\n",
    "pkill -9 -f joblib"
   ]
  },
  {
   "cell_type": "code",
   "execution_count": 1,
   "id": "74634af0",
   "metadata": {},
   "outputs": [],
   "source": [
    "import scanpy as sc\n",
    "import seaborn as sns\n",
    "import pandas as pd\n",
    "import matplotlib.pyplot as plt\n",
    "import numpy as np\n",
    "import scipy.stats as stats\n",
    "import itertools\n",
    "from pybedtools import BedTool\n",
    "import statsmodels.formula.api as smf\n",
    "import statsmodels.api as sm\n",
    "import imp\n",
    "\n",
    "import os\n",
    "import pickle as pkl\n",
    "%matplotlib inline"
   ]
  },
  {
   "cell_type": "code",
   "execution_count": 2,
   "id": "c554e6fe",
   "metadata": {},
   "outputs": [],
   "source": [
    "import sys\n",
    "sys.path.append('/home/ssm-user/Github/scrna-parameter-estimation/dist/memento-0.0.9-py3.8.egg')\n",
    "sys.path.append('/home/ssm-user/Github/misc-seq/miscseq/')\n",
    "import encode\n",
    "import memento\n",
    "import run_memento"
   ]
  },
  {
   "cell_type": "code",
   "execution_count": 3,
   "id": "fa8d7dd5",
   "metadata": {},
   "outputs": [],
   "source": [
    "data_path  = '/data_volume/memento/lupus/'"
   ]
  },
  {
   "cell_type": "markdown",
   "id": "adc9d5c3",
   "metadata": {},
   "source": [
    "### Get SNP gene pairs from Gracie's output for sanity checking"
   ]
  },
  {
   "cell_type": "code",
   "execution_count": 4,
   "id": "54784aad",
   "metadata": {},
   "outputs": [],
   "source": [
    "# gs_pairs_mine = pd.read_csv(data_path +'mateqtl_input/{}/gene_snp_pairs_{}.csv'.format('eur', '100kb'))"
   ]
  },
  {
   "cell_type": "code",
   "execution_count": 5,
   "id": "fa90aff2",
   "metadata": {},
   "outputs": [],
   "source": [
    "# gracie_nk = pd.read_csv(data_path + 'gracie_eqtls/nk_metasoft_out.txt', sep='\\t', skiprows=1, header=None).iloc[:, :3]"
   ]
  },
  {
   "cell_type": "code",
   "execution_count": 6,
   "id": "a450289f",
   "metadata": {},
   "outputs": [],
   "source": [
    "# gene_snp_pairs_new = pd.DataFrame()\n",
    "# gene_snp_pairs_new['gene'] = gracie_nk.iloc[:, 0].str.split('_').str[1]\n",
    "# gene_snp_pairs_new['rsid'] = gracie_nk.iloc[:, 0].str.split('_').str[0]"
   ]
  },
  {
   "cell_type": "code",
   "execution_count": 7,
   "id": "22f0ab83",
   "metadata": {},
   "outputs": [],
   "source": [
    "# gene_snp_pairs_new.to_csv(data_path + 'gracie_eqtls/gene_snp_pairs.csv', index=False)"
   ]
  },
  {
   "cell_type": "markdown",
   "id": "89d7cb1d",
   "metadata": {},
   "source": [
    "### Create shuffled genotypes for sanity checks"
   ]
  },
  {
   "cell_type": "code",
   "execution_count": 8,
   "id": "c3104be6",
   "metadata": {},
   "outputs": [],
   "source": [
    "# for pop in ['asian', 'eur']:\n",
    "#     pos = pd.read_csv(data_path + 'mateqtl_input/{}_genos.tsv'.format(pop), sep='\\t', index_col=0)\n",
    "#     pos_mtx = pos.values.copy()\n",
    "#     a = [np.random.shuffle(x) for x in pos_mtx]\n",
    "#     pd.DataFrame(pos_mtx, columns=pos.columns, index=pos.index).to_csv(data_path + 'mateqtl_input/{}_genos_shuffled.tsv'.format(pop), sep='\\t')"
   ]
  },
  {
   "cell_type": "markdown",
   "id": "ccc18598",
   "metadata": {},
   "source": [
    "### Run memento on full gene-SNP pairs"
   ]
  },
  {
   "cell_type": "code",
   "execution_count": 9,
   "id": "5dd5cb39",
   "metadata": {},
   "outputs": [],
   "source": [
    "# # mean\n",
    "# imp.reload(run_memento)\n",
    "# for pop in ['asian','eur']:\n",
    "#     print('---', pop, '---')\n",
    "#     run_memento.run_full(pop)"
   ]
  },
  {
   "cell_type": "code",
   "execution_count": null,
   "id": "d9fed058",
   "metadata": {},
   "outputs": [
    {
     "name": "stdout",
     "output_type": "stream",
     "text": [
      "--- asian ---\n",
      "961210\n",
      "T4\n"
     ]
    },
    {
     "name": "stderr",
     "output_type": "stream",
     "text": [
      "/home/ssm-user/anaconda3/envs/single_cell/lib/python3.8/site-packages/anndata/_core/anndata.py:1095: FutureWarning: The `inplace` parameter in pandas.Categorical.remove_unused_categories is deprecated and will be removed in a future version.\n",
      "  df_sub[k].cat.remove_unused_categories(inplace=True)\n"
     ]
    },
    {
     "name": "stdout",
     "output_type": "stream",
     "text": [
      "0\n"
     ]
    },
    {
     "name": "stderr",
     "output_type": "stream",
     "text": [
      "/home/ssm-user/anaconda3/envs/single_cell/lib/python3.8/site-packages/anndata/_core/anndata.py:1095: FutureWarning: The `inplace` parameter in pandas.Categorical.remove_unused_categories is deprecated and will be removed in a future version.\n",
      "  df_sub[k].cat.remove_unused_categories(inplace=True)\n",
      "[Parallel(n_jobs=80)]: Using backend LokyBackend with 80 concurrent workers.\n",
      "[Parallel(n_jobs=80)]: Done  40 tasks      | elapsed:   10.8s\n",
      "[Parallel(n_jobs=80)]: Done 290 tasks      | elapsed:   27.1s\n",
      "[Parallel(n_jobs=80)]: Done 640 tasks      | elapsed:   51.2s\n",
      "[Parallel(n_jobs=80)]: Done 1090 tasks      | elapsed:  1.4min\n",
      "[Parallel(n_jobs=80)]: Done 1640 tasks      | elapsed:  2.2min\n",
      "[Parallel(n_jobs=80)]: Done 2290 tasks      | elapsed:  2.9min\n"
     ]
    }
   ],
   "source": [
    "# variability\n",
    "imp.reload(run_memento)\n",
    "for pop in ['asian','eur']:\n",
    "    print('---', pop, '---')\n",
    "    run_memento.run_full(pop, parameter='variability', num_blocks=5)"
   ]
  },
  {
   "cell_type": "markdown",
   "id": "282fc691",
   "metadata": {},
   "source": [
    "### Combine blocks"
   ]
  },
  {
   "cell_type": "code",
   "execution_count": 9,
   "id": "a4e5d161",
   "metadata": {},
   "outputs": [
    {
     "name": "stdout",
     "output_type": "stream",
     "text": [
      "48863\n",
      "93693\n",
      "35330\n",
      "53100\n",
      "35401\n",
      "20379\n",
      "61242\n",
      "93087\n",
      "35766\n",
      "32052\n",
      "29423\n",
      "22323\n"
     ]
    }
   ],
   "source": [
    "for pop in ['asian', 'eur']:\n",
    "    for ct in ['T4', 'cM', 'ncM', 'T8', 'B', 'NK']:\n",
    "        result = []\n",
    "        for block in range(5):\n",
    "            result.append(pd.read_csv('/data_volume/memento/lupus/memento_full/100kb/{}_{}_block_{}.csv'.format(pop, ct, block)))\n",
    "        result = pd.concat(result)\n",
    "        result['FDR'] = memento.util._fdrcorrect(result['de_pval'])\n",
    "        result['statistic'] = result['de_coef']/result['de_se']\n",
    "        result = result[['tx', 'gene', 'statistic', 'de_pval', 'FDR','de_coef']]\n",
    "        result.columns = [\"SNP\",\"gene\",\"t-stat\",\"p-value\",\"FDR\",\"beta\"]\n",
    "        print(result.query('FDR < 0.1').shape[0])\n",
    "        result.to_csv(data_path + 'full_analysis/memento/100kb/{}_{}.csv'.format(pop, ct), index=False)"
   ]
  },
  {
   "cell_type": "code",
   "execution_count": 5,
   "id": "1af619d3",
   "metadata": {},
   "outputs": [
    {
     "name": "stdout",
     "output_type": "stream",
     "text": [
      "30\n",
      "63\n",
      "335\n",
      "64\n",
      "51\n",
      "46\n",
      "8\n",
      "45\n",
      "115\n",
      "48\n",
      "41\n",
      "45\n"
     ]
    }
   ],
   "source": [
    "for pop in ['asian', 'eur']:\n",
    "    for ct in ['T4', 'cM', 'ncM', 'T8', 'B', 'NK']:\n",
    "        result = []\n",
    "        for block in range(5):\n",
    "            result.append(pd.read_csv('/data_volume/memento/lupus/memento_full/100kb/{}_{}_block_{}_variability.csv'.format(pop, ct, block)))\n",
    "        result = pd.concat(result)\n",
    "        result['de_fdr'] = memento.util._fdrcorrect(result['de_pval'])\n",
    "        result['dv_fdr'] = memento.util._fdrcorrect(result['dv_pval'])\n",
    "        result = result[['tx', 'gene', 'dv_coef', 'de_coef', 'de_pval', 'de_fdr', 'dv_pval','dv_fdr']]\n",
    "        print(result.query('dv_fdr < 0.1').gene.drop_duplicates().shape[0])\n",
    "        result.to_csv(data_path + 'full_analysis/memento/100kb/{}_{}_variability.csv'.format(pop, ct), index=False)"
   ]
  },
  {
   "cell_type": "code",
   "execution_count": null,
   "id": "81c87e0a",
   "metadata": {},
   "outputs": [],
   "source": [
    "for pop in ['asian', 'eur']:\n",
    "    for ct in ['T4', 'cM', 'ncM', 'T8', 'B', 'NK']:\n",
    "        result = []\n",
    "        for block in range(5):\n",
    "            result.append(pd.read_csv('/data_volume/memento/lupus/memento_full/100kb/{}_{}_block_{}_variability_no_approx.csv'.format(pop, ct, block)))\n",
    "        result = pd.concat(result)\n",
    "        result['de_fdr'] = memento.util._fdrcorrect(result['de_pval'])\n",
    "        result['dv_fdr'] = memento.util._fdrcorrect(result['dv_pval'])\n",
    "        result = result[['tx', 'gene', 'dv_coef', 'de_coef', 'de_pval', 'de_fdr', 'dv_pval','dv_fdr']]\n",
    "        print(result.query('dv_fdr < 0.1').gene.drop_duplicates().shape[0])\n",
    "        result.to_csv(data_path + 'full_analysis/memento/100kb/{}_{}_variability_no_approx.csv'.format(pop, ct), index=False)"
   ]
  },
  {
   "cell_type": "markdown",
   "id": "2f2f7312",
   "metadata": {},
   "source": [
    "### Select genes from pseudobulk for Matrix eQTL"
   ]
  },
  {
   "cell_type": "code",
   "execution_count": 2,
   "id": "219ced23",
   "metadata": {},
   "outputs": [],
   "source": [
    "cts = ['T4', 'cM', 'ncM', 'T8', 'B', 'NK']"
   ]
  },
  {
   "cell_type": "code",
   "execution_count": 7,
   "id": "e5a7a25a",
   "metadata": {},
   "outputs": [
    {
     "name": "stdout",
     "output_type": "stream",
     "text": [
      "asian T4\n",
      "asian cM\n",
      "asian ncM\n",
      "asian T8\n",
      "asian B\n",
      "asian NK\n",
      "eur T4\n",
      "eur cM\n",
      "eur ncM\n",
      "eur T8\n",
      "eur B\n",
      "eur NK\n"
     ]
    }
   ],
   "source": [
    "for pop in ['asian', 'eur']:\n",
    "    for ct in cts:\n",
    "        print(pop, ct)\n",
    "        results = pd.read_csv(data_path + 'full_analysis/memento/100kb/{}_{}.csv'.format(pop, ct))\n",
    "\n",
    "        pseudobulk = pd.read_csv(data_path + 'pseudobulk/{}_{}.csv'.format(pop, ct), index_col=0, sep='\\t')\n",
    "        pseudobulk = pseudobulk.loc[:, results['gene'].drop_duplicates().tolist()]\n",
    "        pseudobulk.T.to_csv(data_path + 'full_analysis/mateqtl/pseudobulk/{}_{}.csv'.format(pop, ct), sep='\\t')"
   ]
  },
  {
   "cell_type": "markdown",
   "id": "d3e8c7e4",
   "metadata": {},
   "source": [
    "### Save memento eQTLs"
   ]
  },
  {
   "cell_type": "code",
   "execution_count": 5,
   "id": "938a45ad",
   "metadata": {},
   "outputs": [],
   "source": [
    "eqtls = []\n",
    "for pop in ['asian', 'eur']:\n",
    "    for ct in ['T4', 'cM', 'ncM', 'T8', 'B', 'NK']:\n",
    "        \n",
    "        df = pd.read_csv(data_path + 'full_analysis/memento/100kb/{}_{}.csv'.format(pop, ct)).query('FDR < 0.05')\n",
    "        df['pop'] = pop\n",
    "        df['ct'] = ct\n",
    "        eqtls.append(df)\n",
    "eqtls = pd.concat(eqtls)        "
   ]
  },
  {
   "cell_type": "code",
   "execution_count": 6,
   "id": "458929ce",
   "metadata": {},
   "outputs": [],
   "source": [
    "eqtls.to_csv(data_path + '../tables/Supplementary_Table_5_SLE_eQTL.csv', index=False)"
   ]
  },
  {
   "cell_type": "code",
   "execution_count": null,
   "id": "16f87286",
   "metadata": {},
   "outputs": [],
   "source": []
  }
 ],
 "metadata": {
  "kernelspec": {
   "display_name": "Python 3 (ipykernel)",
   "language": "python",
   "name": "python3"
  },
  "language_info": {
   "codemirror_mode": {
    "name": "ipython",
    "version": 3
   },
   "file_extension": ".py",
   "mimetype": "text/x-python",
   "name": "python",
   "nbconvert_exporter": "python",
   "pygments_lexer": "ipython3",
   "version": "3.10.9"
  }
 },
 "nbformat": 4,
 "nbformat_minor": 5
}
