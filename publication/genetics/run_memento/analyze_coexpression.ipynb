{
 "cells": [
  {
   "cell_type": "markdown",
   "id": "a44363e5",
   "metadata": {},
   "source": [
    "# Analyze coexpression QTL"
   ]
  },
  {
   "cell_type": "code",
   "execution_count": 1,
   "id": "8e906ca6",
   "metadata": {},
   "outputs": [],
   "source": [
    "import scanpy as sc\n",
    "import seaborn as sns\n",
    "import pandas as pd\n",
    "import matplotlib.pyplot as plt\n",
    "import numpy as np\n",
    "import scipy.stats as stats\n",
    "import itertools\n",
    "from pybedtools import BedTool\n",
    "import statsmodels.formula.api as smf\n",
    "import statsmodels.api as sm\n",
    "import imp\n",
    "pd.set_option('display.max_columns', 100)\n",
    "import os\n",
    "import pickle as pkl\n",
    "%matplotlib inline"
   ]
  },
  {
   "cell_type": "code",
   "execution_count": 2,
   "id": "ca1f153a",
   "metadata": {},
   "outputs": [],
   "source": [
    "import sys\n",
    "sys.path.append('/home/ssm-user/Github/scrna-parameter-estimation/dist/memento-0.0.9-py3.8.egg')\n",
    "sys.path.append('/home/ssm-user/Github/misc-seq/miscseq/')\n",
    "import encode\n",
    "import memento\n",
    "import run_memento"
   ]
  },
  {
   "cell_type": "code",
   "execution_count": 3,
   "id": "6e2e157f",
   "metadata": {},
   "outputs": [],
   "source": [
    "data_path  = '/data_volume/memento/lupus/'"
   ]
  },
  {
   "cell_type": "markdown",
   "id": "dcfc5481",
   "metadata": {},
   "source": [
    "### Read all coex results"
   ]
  },
  {
   "cell_type": "code",
   "execution_count": 4,
   "id": "87a68cf1",
   "metadata": {},
   "outputs": [
    {
     "name": "stdout",
     "output_type": "stream",
     "text": [
      "asian T4 6\n",
      "asian cM 48\n",
      "asian ncM 121\n",
      "asian T8 18\n",
      "eur cM 31\n",
      "eur ncM 8\n",
      "eur T8 5\n",
      "eur B 23\n"
     ]
    }
   ],
   "source": [
    "cqtls = []\n",
    "all_tests = []\n",
    "for pop in ['asian', 'eur']:\n",
    "    for ct in ['T4', 'cM', 'ncM', 'T8', 'B', 'NK']:\n",
    "        df = pd.read_csv(data_path + 'full_analysis/memento/100kb/{}_{}_coexpression.csv'.format(pop, ct))\n",
    "        df['pop'] = pop\n",
    "        df['ct'] = ct\n",
    "        if df.query('corr_fdr < 0.1').shape[0] > 0:\n",
    "            cqtls.append(df.query('corr_fdr < 0.1'))\n",
    "            print(pop, ct, df.query('corr_fdr < 0.1')[['gene_1', 'gene_2']].drop_duplicates().shape[0])\n",
    "        all_tests.append(df)\n",
    "cqtls = pd.concat(cqtls)\n",
    "all_tests = pd.concat(all_tests)"
   ]
  },
  {
   "cell_type": "code",
   "execution_count": 5,
   "id": "8ce13bda",
   "metadata": {},
   "outputs": [],
   "source": [
    "all_tests = all_tests.dropna()"
   ]
  },
  {
   "cell_type": "code",
   "execution_count": 9,
   "id": "d5780a32",
   "metadata": {},
   "outputs": [
    {
     "data": {
      "text/plain": [
       "(array([128298., 103004.,  96128.,  95121.,  94606.,  93361.,  91613.,\n",
       "         92236.,  88165.,  86525.,  89078.,  84943.,  85856.,  85979.,\n",
       "         86120.,  84191.,  85911.,  86750.,  86286.,  84688.,  83523.,\n",
       "         82927.,  83515.,  85171.,  84009.,  84557.,  84144.,  81320.,\n",
       "         83458.,  82460.,  82380.,  81074.,  80779.,  82854.,  83304.,\n",
       "         81292.,  80547.,  81097.,  80704.,  79319.,  81973.,  80475.,\n",
       "         79822.,  81747.,  80845.,  81984.,  82377.,  79568.,  81588.,\n",
       "         81967.]),\n",
       " array([2.66217104e-17, 1.99999907e-02, 3.99999814e-02, 5.99999721e-02,\n",
       "        7.99999629e-02, 9.99999536e-02, 1.19999944e-01, 1.39999935e-01,\n",
       "        1.59999926e-01, 1.79999916e-01, 1.99999907e-01, 2.19999898e-01,\n",
       "        2.39999889e-01, 2.59999879e-01, 2.79999870e-01, 2.99999861e-01,\n",
       "        3.19999851e-01, 3.39999842e-01, 3.59999833e-01, 3.79999824e-01,\n",
       "        3.99999814e-01, 4.19999805e-01, 4.39999796e-01, 4.59999786e-01,\n",
       "        4.79999777e-01, 4.99999768e-01, 5.19999759e-01, 5.39999749e-01,\n",
       "        5.59999740e-01, 5.79999731e-01, 5.99999721e-01, 6.19999712e-01,\n",
       "        6.39999703e-01, 6.59999694e-01, 6.79999684e-01, 6.99999675e-01,\n",
       "        7.19999666e-01, 7.39999656e-01, 7.59999647e-01, 7.79999638e-01,\n",
       "        7.99999629e-01, 8.19999619e-01, 8.39999610e-01, 8.59999601e-01,\n",
       "        8.79999591e-01, 8.99999582e-01, 9.19999573e-01, 9.39999564e-01,\n",
       "        9.59999554e-01, 9.79999545e-01, 9.99999536e-01]),\n",
       " <BarContainer object of 50 artists>)"
      ]
     },
     "execution_count": 9,
     "metadata": {},
     "output_type": "execute_result"
    },
    {
     "data": {
      "image/png": "[encoded data removed]",
      "text/plain": [
       "<Figure size 432x288 with 1 Axes>"
      ]
     },
     "metadata": {
      "needs_background": "light"
     },
     "output_type": "display_data"
    }
   ],
   "source": [
    "plt.hist(all_tests['corr_pval'], bins=50);"
   ]
  },
  {
   "cell_type": "code",
   "execution_count": 10,
   "id": "f0c76880",
   "metadata": {},
   "outputs": [],
   "source": [
    "num_tests = all_tests.shape[0]"
   ]
  },
  {
   "cell_type": "code",
   "execution_count": 12,
   "id": "b722c070",
   "metadata": {},
   "outputs": [],
   "source": [
    "unif_quantiles = stats.uniform.ppf(np.linspace(0, 1, num_tests))"
   ]
  },
  {
   "cell_type": "code",
   "execution_count": 14,
   "id": "a4c25903",
   "metadata": {},
   "outputs": [],
   "source": [
    "sorted_pvs = np.sort(all_tests.corr_pval)"
   ]
  },
  {
   "cell_type": "code",
   "execution_count": 13,
   "id": "c036a8ba",
   "metadata": {},
   "outputs": [
    {
     "data": {
      "text/plain": [
       "array([0.00000000e+00, 2.33119904e-07, 4.66239809e-07, ...,\n",
       "       9.99999534e-01, 9.99999767e-01, 1.00000000e+00])"
      ]
     },
     "execution_count": 13,
     "metadata": {},
     "output_type": "execute_result"
    }
   ],
   "source": [
    "unif_quantiles"
   ]
  },
  {
   "cell_type": "code",
   "execution_count": 18,
   "id": "466e40c8",
   "metadata": {},
   "outputs": [
    {
     "name": "stderr",
     "output_type": "stream",
     "text": [
      "/tmp/ipykernel_9752/1690487092.py:1: RuntimeWarning: divide by zero encountered in log10\n",
      "  plt.scatter(-np.log10(unif_quantiles), -np.log10(sorted_pvs))\n"
     ]
    },
    {
     "data": {
      "text/plain": [
       "[<matplotlib.lines.Line2D at 0x7fa097b78190>]"
      ]
     },
     "execution_count": 18,
     "metadata": {},
     "output_type": "execute_result"
    },
    {
     "data": {
      "image/png": "[encoded data removed]",
      "text/plain": [
       "<Figure size 432x288 with 1 Axes>"
      ]
     },
     "metadata": {
      "needs_background": "light"
     },
     "output_type": "display_data"
    }
   ],
   "source": [
    "plt.scatter(-np.log10(unif_quantiles), -np.log10(sorted_pvs))\n",
    "plt.plot([0, 6], [0, 6], )"
   ]
  },
  {
   "cell_type": "markdown",
   "id": "f74b0c7a",
   "metadata": {},
   "source": [
    "### Read coex eqtl results"
   ]
  },
  {
   "cell_type": "code",
   "execution_count": 7,
   "id": "9864be01",
   "metadata": {},
   "outputs": [
    {
     "name": "stdout",
     "output_type": "stream",
     "text": [
      "asian T4 6\n",
      "asian cM 48\n",
      "asian ncM 121\n",
      "asian T8 18\n",
      "eur cM 31\n",
      "eur ncM 8\n",
      "eur T8 5\n",
      "eur B 23\n"
     ]
    }
   ],
   "source": [
    "cqtls = []\n",
    "for pop in ['asian', 'eur']:\n",
    "    for ct in ['T4', 'cM', 'ncM', 'T8', 'B', 'NK']:\n",
    "        df = pd.read_csv(data_path + 'full_analysis/memento/100kb/{}_{}_coexpression.csv'.format(pop, ct))\n",
    "        df['pop'] = pop\n",
    "        df['ct'] = ct\n",
    "        if df.query('corr_fdr < 0.1').shape[0] > 0:\n",
    "            cqtls.append(df.query('corr_fdr < 0.1'))\n",
    "            print(pop, ct, df.query('corr_fdr < 0.1')[['gene_1', 'gene_2']].drop_duplicates().shape[0])\n",
    "cqtls = pd.concat(cqtls)"
   ]
  },
  {
   "cell_type": "code",
   "execution_count": 8,
   "id": "fb1a42ef",
   "metadata": {},
   "outputs": [
    {
     "data": {
      "text/plain": [
       "(238, 2)"
      ]
     },
     "execution_count": 8,
     "metadata": {},
     "output_type": "execute_result"
    }
   ],
   "source": [
    "cqtls[['gene_1', 'gene_2']].drop_duplicates().shape"
   ]
  },
  {
   "cell_type": "code",
   "execution_count": 9,
   "id": "8e659cba",
   "metadata": {},
   "outputs": [],
   "source": [
    "cqtls.to_csv(data_path + '../tables/Supplementary_Table_7_SLE_cQTL.csv', index=False)"
   ]
  },
  {
   "cell_type": "code",
   "execution_count": 10,
   "id": "f9fa2314",
   "metadata": {},
   "outputs": [
    {
     "data": {
      "text/plain": [
       "(3726, 3)"
      ]
     },
     "execution_count": 10,
     "metadata": {},
     "output_type": "execute_result"
    }
   ],
   "source": [
    "cqtls[['gene_1', 'gene_2', 'tx']].drop_duplicates().shape"
   ]
  },
  {
   "cell_type": "markdown",
   "id": "53f919c7",
   "metadata": {},
   "source": [
    "### Read eqtl results"
   ]
  },
  {
   "cell_type": "code",
   "execution_count": 11,
   "id": "83249fbc",
   "metadata": {},
   "outputs": [],
   "source": [
    "eqtls = []\n",
    "for pop in ['asian', 'eur']:\n",
    "    for ct in ['T4', 'cM', 'ncM', 'T8', 'B', 'NK']:\n",
    "        df = pd.read_csv(data_path + 'full_analysis/memento/100kb/{}_{}.csv'.format(pop, ct))\\\n",
    "\t\t\t.query('FDR < 0.01 & (beta < -0.1 | beta > 0.1)')\\\n",
    "\t\t\t.rename(columns={'gene':'gene_2', 'SNP':'tx'})[['tx', 'gene_2', 'beta']].copy()\n",
    "        df['pop'] = pop\n",
    "        df['ct'] = ct\n",
    "        eqtls.append(df)\n",
    "eqtls = pd.concat(eqtls)"
   ]
  },
  {
   "cell_type": "markdown",
   "id": "92a7902b",
   "metadata": {},
   "source": [
    "### Merge the results"
   ]
  },
  {
   "cell_type": "code",
   "execution_count": 12,
   "id": "a68e2d2b",
   "metadata": {},
   "outputs": [],
   "source": [
    "qtls = cqtls.merge(eqtls, on=['tx', 'gene_2', 'pop', 'ct'], how='left')"
   ]
  },
  {
   "cell_type": "markdown",
   "id": "59dc26f1",
   "metadata": {},
   "source": [
    "### Get ENCODE information"
   ]
  },
  {
   "cell_type": "code",
   "execution_count": 12,
   "id": "f5722186",
   "metadata": {},
   "outputs": [],
   "source": [
    "snp_locs = qtls.tx.drop_duplicates().tolist()"
   ]
  },
  {
   "cell_type": "code",
   "execution_count": 85,
   "id": "5b1ad4ed",
   "metadata": {},
   "outputs": [],
   "source": [
    "snp_site_windows = pd.DataFrame()\n",
    "snp_site_windows['chrom'] = ['chr'+a.split(':')[0] for a in snp_locs]\n",
    "snp_site_windows['txStart'] = [int(a.split(':')[1])-1 for a in snp_locs]\n",
    "snp_site_windows['txEnd'] = [int(a.split(':')[1])+1 for a in snp_locs]\n",
    "snp_site_windows['name'] = snp_locs"
   ]
  },
  {
   "cell_type": "code",
   "execution_count": 86,
   "id": "24c8bb67",
   "metadata": {},
   "outputs": [],
   "source": [
    "tfs = qtls['gene_1'].drop_duplicates().tolist()"
   ]
  },
  {
   "cell_type": "code",
   "execution_count": 87,
   "id": "04dcf4e4",
   "metadata": {},
   "outputs": [],
   "source": [
    "encode_meta = pd.read_csv('../../cd4_cropseq/encode_tf/metadata.tsv', sep='\\t', header=0)\n",
    "encode_files = pd.read_csv('../../cd4_cropseq/encode_tf/files.txt', sep='\\t', header=None)\n",
    "\n",
    "encode_meta = encode_meta[encode_meta['Output type'].isin([ 'IDR thresholded peaks', 'optimal IDR thresholded peaks']) & (encode_meta['File assembly'] == 'GRCh38')]\n",
    "encode_meta['target'] = encode_meta['Experiment target'].str.split('-').str[0]\n",
    "encode_meta = encode_meta.sort_values('Output type', ascending=False).drop_duplicates('target').query('target in @tfs')\n",
    "encode_meta = encode_meta[encode_meta['Audit ERROR'].isnull()]"
   ]
  },
  {
   "cell_type": "code",
   "execution_count": null,
   "id": "97ac2b61",
   "metadata": {},
   "outputs": [],
   "source": [
    "imp.reload(encode)\n",
    "enc = encode.Encode('/home/ssm-user/Github/misc-seq/miscseq/GRCh38Genes.bed')\n",
    "encode_result = {}\n",
    "\n",
    "for idx, row in encode_meta.iterrows():\n",
    "    \n",
    "    url = row['File download URL']\n",
    "    genes = enc.get_peak_sites_encode(url, snp_site_windows)\n",
    "    encode_result[row['target']] = genes.query('distance >= 0').copy()"
   ]
  },
  {
   "cell_type": "code",
   "execution_count": 89,
   "id": "88d77131",
   "metadata": {},
   "outputs": [],
   "source": [
    "encode_df = []\n",
    "for k, v in encode_result.items():\n",
    "    \n",
    "    v['tf'] = k\n",
    "    encode_df.append(v)\n",
    "encode_df = pd.concat(encode_df)\n",
    "encode_df.columns=['tx', 'distance', 'gene_1']\n",
    "encode_df.to_csv(data_path + 'encode_result.csv', index=False)"
   ]
  },
  {
   "cell_type": "markdown",
   "id": "bf0fa8b0",
   "metadata": {},
   "source": [
    "### Merge ENCODE informatoin"
   ]
  },
  {
   "cell_type": "code",
   "execution_count": 13,
   "id": "7df09d17",
   "metadata": {},
   "outputs": [],
   "source": [
    "encode_df = pd.read_csv(data_path + 'encode_result.csv')"
   ]
  },
  {
   "cell_type": "code",
   "execution_count": 14,
   "id": "898a3e5f",
   "metadata": {},
   "outputs": [],
   "source": [
    "qtls = qtls.merge(encode_df, on=['tx', 'gene_1'], how='left')#.sort_values('distance')"
   ]
  },
  {
   "cell_type": "code",
   "execution_count": 17,
   "id": "f3a04b53",
   "metadata": {},
   "outputs": [
    {
     "data": {
      "text/html": [
       "<div>\n",
       "<style scoped>\n",
       "    .dataframe tbody tr th:only-of-type {\n",
       "        vertical-align: middle;\n",
       "    }\n",
       "\n",
       "    .dataframe tbody tr th {\n",
       "        vertical-align: top;\n",
       "    }\n",
       "\n",
       "    .dataframe thead th {\n",
       "        text-align: right;\n",
       "    }\n",
       "</style>\n",
       "<table border=\"1\" class=\"dataframe\">\n",
       "  <thead>\n",
       "    <tr style=\"text-align: right;\">\n",
       "      <th></th>\n",
       "      <th>gene_1</th>\n",
       "      <th>gene_2</th>\n",
       "      <th>tx</th>\n",
       "      <th>corr_coef</th>\n",
       "      <th>corr_se</th>\n",
       "      <th>corr_pval</th>\n",
       "      <th>corr_fdr</th>\n",
       "      <th>statistic</th>\n",
       "      <th>pop</th>\n",
       "      <th>ct</th>\n",
       "      <th>beta</th>\n",
       "      <th>distance</th>\n",
       "    </tr>\n",
       "  </thead>\n",
       "  <tbody>\n",
       "    <tr>\n",
       "      <th>581</th>\n",
       "      <td>JUNB</td>\n",
       "      <td>LYZ</td>\n",
       "      <td>12:69688073</td>\n",
       "      <td>-0.082832</td>\n",
       "      <td>0.014948</td>\n",
       "      <td>3.021250e-08</td>\n",
       "      <td>0.000071</td>\n",
       "      <td>-5.541405</td>\n",
       "      <td>asian</td>\n",
       "      <td>cM</td>\n",
       "      <td>-0.215241</td>\n",
       "      <td>934.0</td>\n",
       "    </tr>\n",
       "  </tbody>\n",
       "</table>\n",
       "</div>"
      ],
      "text/plain": [
       "    gene_1 gene_2           tx  corr_coef   corr_se     corr_pval  corr_fdr  \\\n",
       "581   JUNB    LYZ  12:69688073  -0.082832  0.014948  3.021250e-08  0.000071   \n",
       "\n",
       "     statistic    pop  ct      beta  distance  \n",
       "581  -5.541405  asian  cM -0.215241     934.0  "
      ]
     },
     "execution_count": 17,
     "metadata": {},
     "output_type": "execute_result"
    }
   ],
   "source": [
    "qtls.query('gene_1 == \"JUNB\" & gene_2 == \"LYZ\" & tx == \"12:69688073\"')"
   ]
  },
  {
   "cell_type": "markdown",
   "id": "81d59d98",
   "metadata": {},
   "source": [
    "### Plot some QTLs"
   ]
  },
  {
   "cell_type": "code",
   "execution_count": 13,
   "id": "3e649d16",
   "metadata": {},
   "outputs": [],
   "source": [
    "cqtl_pairs = list(set([(a,b) for a,b in zip(qtls['gene_1'], qtls['gene_2'])]))\n",
    "all_pair_genes = list(set(qtls['gene_1']) | set(qtls['gene_2']))"
   ]
  },
  {
   "cell_type": "code",
   "execution_count": 14,
   "id": "f2b4e61a",
   "metadata": {},
   "outputs": [],
   "source": [
    "def get_expr(condition, gene):\n",
    "    \n",
    "    return np.log(adata[condition, gene].X.todense().A1+1)"
   ]
  },
  {
   "cell_type": "code",
   "execution_count": null,
   "id": "c3361938",
   "metadata": {
    "tags": []
   },
   "outputs": [],
   "source": [
    "for pop in ['asian', 'eur']:\n",
    "    \n",
    "    pos = pd.read_csv(data_path + 'mateqtl_input/{}_genos.tsv'.format(pop), sep='\\t', index_col=0)\n",
    "\n",
    "    for ct in ['T4', 'cM', 'ncM', 'T8', 'B', 'NK']:\n",
    "        \n",
    "        print(pop, ct)\n",
    "        \n",
    "        adata = sc.read(data_path + 'single_cell/{}_{}.h5ad'.format(pop, ct))\n",
    "        donor_counts = adata.obs['ind_cov'].value_counts()\n",
    "        filter_condition = adata.obs.ind_cov.isin(pos.columns) & adata.obs.ind_cov.isin(donor_counts[donor_counts > 100].index)\n",
    "        adata = adata[filter_condition].copy()\n",
    "        adata.obs['capture_rate'] = 0.1\n",
    "        memento.setup_memento(adata, q_column='capture_rate', trim_percent=0.1, filter_mean_thresh=0.07)\n",
    "        memento.create_groups(adata, label_columns=['ind_cov'])\n",
    "\n",
    "        memento.compute_1d_moments(adata, min_perc_group=.5, gene_list=all_pair_genes)\n",
    "        memento.compute_2d_moments(adata, [(a,b) for a,b in cqtl_pairs if a in adata.var.index and b in adata.var.index])\n",
    "        \n",
    "        moments = memento.get_2d_moments(adata)[0].set_index(['gene_1', 'gene_2'])\n",
    "        moments.columns = [x[3:] for x in moments.columns]\n",
    "        \n",
    "        to_plot = qtls.query('distance <1000 & (corr_coef*beta)>0 & ct == \"{}\" & pop == \"{}\"'.format(ct, pop))\n",
    "        \n",
    "        if to_plot.shape[0] == 0:\n",
    "            continue\n",
    "        \n",
    "        for idx, row in to_plot.iterrows():\n",
    "    \n",
    "            gene_1, gene_2, SNP = row['gene_1'], row['gene_2'], row['tx']\n",
    "            \n",
    "            info = pd.concat([pos.loc[SNP], moments.loc[gene_1, gene_2]], axis=1).dropna()\n",
    "            info.columns=[SNP, 'coexpression']\n",
    "            info = info.query('coexpression < 1 & coexpression > -1')\n",
    "\n",
    "            plt.figure(figsize=(10,3))\n",
    "            plt.subplot(1,4,1)\n",
    "            sns.boxplot(x=SNP, y='coexpression', data=info)\n",
    "            sns.stripplot(x=SNP, y='coexpression', data=info)\n",
    "\n",
    "            new_obs = adata.obs.merge(\n",
    "                info[SNP].reset_index(name='geno').rename(columns={'index':'ind_cov'}),\\\n",
    "                on='ind_cov', how='left')\n",
    "            new_obs.index=adata.obs.index\n",
    "\n",
    "            plt.subplot(1,4,2)\n",
    "            plt.scatter(\n",
    "                get_expr(new_obs['geno'] == 0, gene_1), \n",
    "                get_expr(new_obs['geno'] == 0, gene_2), s=1)\n",
    "\n",
    "            plt.subplot(1,4,3)\n",
    "            plt.scatter(\n",
    "                get_expr(new_obs['geno'] == 1, gene_1), \n",
    "                get_expr(new_obs['geno'] == 1, gene_2), s=1)\n",
    "\n",
    "            plt.subplot(1,4,4)\n",
    "            plt.scatter(\n",
    "                get_expr(new_obs['geno'] == 2, gene_1), \n",
    "                get_expr(new_obs['geno'] == 2, gene_2), s=1)\n",
    "            plt.savefig('figures/{}_{}_{}_{}_{}.png'.format(pop, ct, gene_1, gene_2, SNP), bbox_inches=False)"
   ]
  },
  {
   "cell_type": "markdown",
   "id": "afb1b042",
   "metadata": {},
   "source": [
    "### Choose an example - JUND LYZ"
   ]
  },
  {
   "cell_type": "code",
   "execution_count": 39,
   "id": "fd95bf03",
   "metadata": {},
   "outputs": [],
   "source": [
    "SNP = '12:69688073'\n",
    "gene_1 = 'JUNB'\n",
    "gene_2 = 'LYZ'\n",
    "pop = 'asian'\n",
    "ct = 'cM'"
   ]
  },
  {
   "cell_type": "code",
   "execution_count": 5,
   "id": "b3e1aa48",
   "metadata": {},
   "outputs": [],
   "source": [
    "pos = pd.read_csv(data_path + 'mateqtl_input/{}_genos.tsv'.format(pop), sep='\\t', index_col=0)"
   ]
  },
  {
   "cell_type": "code",
   "execution_count": 16,
   "id": "52dce9fa",
   "metadata": {},
   "outputs": [],
   "source": [
    "adata = sc.read(data_path + 'single_cell/{}_{}.h5ad'.format(pop, ct))\n",
    "donor_counts = adata.obs['ind_cov'].value_counts()\n",
    "filter_condition = adata.obs.ind_cov.isin(pos.columns) & adata.obs.ind_cov.isin(donor_counts[donor_counts > 100].index)\n",
    "adata = adata[filter_condition].copy()\n",
    "adata.obs['capture_rate'] = 0.1\n",
    "memento.setup_memento(adata, q_column='capture_rate', trim_percent=0.1, filter_mean_thresh=0.07)\n",
    "memento.create_groups(adata, label_columns=['ind_cov'])\n",
    "\n",
    "memento.compute_1d_moments(adata, min_perc_group=.5, gene_list=all_pair_genes)\n",
    "memento.compute_2d_moments(adata, [(a,b) for a,b in cqtl_pairs if a in adata.var.index and b in adata.var.index])\n",
    "\n",
    "moments = memento.get_2d_moments(adata)[0].set_index(['gene_1', 'gene_2'])\n",
    "moments.columns = [x[3:] for x in moments.columns]"
   ]
  },
  {
   "cell_type": "code",
   "execution_count": 18,
   "id": "3fd85783",
   "metadata": {},
   "outputs": [
    {
     "data": {
      "text/html": [
       "<div>\n",
       "<style scoped>\n",
       "    .dataframe tbody tr th:only-of-type {\n",
       "        vertical-align: middle;\n",
       "    }\n",
       "\n",
       "    .dataframe tbody tr th {\n",
       "        vertical-align: top;\n",
       "    }\n",
       "\n",
       "    .dataframe thead th {\n",
       "        text-align: right;\n",
       "    }\n",
       "</style>\n",
       "<table border=\"1\" class=\"dataframe\">\n",
       "  <thead>\n",
       "    <tr style=\"text-align: right;\">\n",
       "      <th></th>\n",
       "      <th>batch_cov</th>\n",
       "      <th>ind_cov</th>\n",
       "      <th>Processing_Cohort</th>\n",
       "      <th>louvain</th>\n",
       "      <th>cg_cov</th>\n",
       "      <th>ct_cov</th>\n",
       "      <th>L3</th>\n",
       "      <th>ind_cov_batch_cov</th>\n",
       "      <th>Age</th>\n",
       "      <th>Sex</th>\n",
       "      <th>pop_cov</th>\n",
       "      <th>Status</th>\n",
       "      <th>SLE_status</th>\n",
       "      <th>capture_rate</th>\n",
       "      <th>memento_size_factor</th>\n",
       "      <th>memento_group</th>\n",
       "    </tr>\n",
       "  </thead>\n",
       "  <tbody>\n",
       "    <tr>\n",
       "      <th>TGCGCAGAGCAATCTC-1-1-0-0-0-0-0-0-0-0-0-0-0-0-0-0-0-0-0-0-0-0-0-0-0-0-0-0-0-0-0-0-0-0-0-0-0-0-0-0-0-0-0-0-0-0-0-0-0-0-0-0-0-0-0-0-0-0-0-0-0-0-0-0-0-0-0-0-0-0-0-0-0-0-0-0-0-0-0-0-0-0-0-0-1-0-0-0-0-0-0-0</th>\n",
       "      <td>dmx_YS-JY-21_pool2</td>\n",
       "      <td>HC-519</td>\n",
       "      <td>4.0</td>\n",
       "      <td>0</td>\n",
       "      <td>cM</td>\n",
       "      <td>NaN</td>\n",
       "      <td>1.0</td>\n",
       "      <td>HC-519:dmx_YS-JY-21_pool2</td>\n",
       "      <td>21.0</td>\n",
       "      <td>Female</td>\n",
       "      <td>Asian</td>\n",
       "      <td>Healthy</td>\n",
       "      <td>Healthy</td>\n",
       "      <td>0.1</td>\n",
       "      <td>0.712631</td>\n",
       "      <td>sg^HC-519</td>\n",
       "    </tr>\n",
       "    <tr>\n",
       "      <th>TCGCGAGTCGCCAGCA-1-1-0-0-0-0-0-0-0-0-0-1</th>\n",
       "      <td>dmx_flare2</td>\n",
       "      <td>1791_1791</td>\n",
       "      <td>3.0</td>\n",
       "      <td>0</td>\n",
       "      <td>cM</td>\n",
       "      <td>NaN</td>\n",
       "      <td>0.0</td>\n",
       "      <td>1791_1791:dmx_flare2</td>\n",
       "      <td>66.0</td>\n",
       "      <td>Female</td>\n",
       "      <td>Asian</td>\n",
       "      <td>Managed</td>\n",
       "      <td>SLE</td>\n",
       "      <td>0.1</td>\n",
       "      <td>0.841502</td>\n",
       "      <td>sg^1791_1791</td>\n",
       "    </tr>\n",
       "    <tr>\n",
       "      <th>TCGGGACAGATGCCAG-1-1-0-0-0-0-0-0-0-0-0-0-0-0-0-0-0-0-0-0-0-0-0-0-0-0-0-0-0-1-0-0-0-0-0-0-0-0-0-0-0-0-0-0-0-0</th>\n",
       "      <td>dmx_YE_7-26</td>\n",
       "      <td>1240_1240</td>\n",
       "      <td>2.0</td>\n",
       "      <td>7</td>\n",
       "      <td>cM</td>\n",
       "      <td>NaN</td>\n",
       "      <td>0.0</td>\n",
       "      <td>1240_1240:dmx_YE_7-26</td>\n",
       "      <td>23.0</td>\n",
       "      <td>Female</td>\n",
       "      <td>Asian</td>\n",
       "      <td>Managed</td>\n",
       "      <td>SLE</td>\n",
       "      <td>0.1</td>\n",
       "      <td>1.152943</td>\n",
       "      <td>sg^1240_1240</td>\n",
       "    </tr>\n",
       "    <tr>\n",
       "      <th>CATATTCAGTGTTAGA-1-1-0-0-0-0-0-0-0-0-0-0-0-0-0-0-0-0-0-0-0-0-0-0-0-0-0-0-0-0-0-0-0-0-0-0-0-0-0-0-0-0-0-0-0-0-0-0-0-0-0-0-0-0-0-0-0-0-0-0-0-0-0-0-0-0-0-0-0-0-0-0-1-0-0-0-0-0-0</th>\n",
       "      <td>dmx_YS-JY-22_pool5</td>\n",
       "      <td>HC-022</td>\n",
       "      <td>4.0</td>\n",
       "      <td>0</td>\n",
       "      <td>cM</td>\n",
       "      <td>NaN</td>\n",
       "      <td>1.0</td>\n",
       "      <td>HC-022:dmx_YS-JY-22_pool5</td>\n",
       "      <td>74.0</td>\n",
       "      <td>Female</td>\n",
       "      <td>Asian</td>\n",
       "      <td>Healthy</td>\n",
       "      <td>Healthy</td>\n",
       "      <td>0.1</td>\n",
       "      <td>0.551541</td>\n",
       "      <td>sg^HC-022</td>\n",
       "    </tr>\n",
       "    <tr>\n",
       "      <th>ACTGAACAGTTAACGA-1-1-0-0-0-0-0-0-0-0-0-0-0-0-0-0-0-0-0-0-0-0-0-0-0-0-0-0-0-0-0-0-0-0-0-0-0-0-0-0-0-0-0-0-0-0-0-0-0-0-0-0-0-0-0-0-1-0-0-0-0-0-0-0-0-0-0-0-0</th>\n",
       "      <td>dmx_YE_8-23</td>\n",
       "      <td>1771_1771</td>\n",
       "      <td>2.0</td>\n",
       "      <td>7</td>\n",
       "      <td>cM</td>\n",
       "      <td>NaN</td>\n",
       "      <td>0.0</td>\n",
       "      <td>1771_1771:dmx_YE_8-23</td>\n",
       "      <td>49.0</td>\n",
       "      <td>Female</td>\n",
       "      <td>Asian</td>\n",
       "      <td>Managed</td>\n",
       "      <td>SLE</td>\n",
       "      <td>0.1</td>\n",
       "      <td>0.704960</td>\n",
       "      <td>sg^1771_1771</td>\n",
       "    </tr>\n",
       "  </tbody>\n",
       "</table>\n",
       "</div>"
      ],
      "text/plain": [
       "                                                             batch_cov  \\\n",
       "TGCGCAGAGCAATCTC-1-1-0-0-0-0-0-0-0-0-0-0-0-0-0-...  dmx_YS-JY-21_pool2   \n",
       "TCGCGAGTCGCCAGCA-1-1-0-0-0-0-0-0-0-0-0-1                    dmx_flare2   \n",
       "TCGGGACAGATGCCAG-1-1-0-0-0-0-0-0-0-0-0-0-0-0-0-...         dmx_YE_7-26   \n",
       "CATATTCAGTGTTAGA-1-1-0-0-0-0-0-0-0-0-0-0-0-0-0-...  dmx_YS-JY-22_pool5   \n",
       "ACTGAACAGTTAACGA-1-1-0-0-0-0-0-0-0-0-0-0-0-0-0-...         dmx_YE_8-23   \n",
       "\n",
       "                                                      ind_cov  \\\n",
       "TGCGCAGAGCAATCTC-1-1-0-0-0-0-0-0-0-0-0-0-0-0-0-...     HC-519   \n",
       "TCGCGAGTCGCCAGCA-1-1-0-0-0-0-0-0-0-0-0-1            1791_1791   \n",
       "TCGGGACAGATGCCAG-1-1-0-0-0-0-0-0-0-0-0-0-0-0-0-...  1240_1240   \n",
       "CATATTCAGTGTTAGA-1-1-0-0-0-0-0-0-0-0-0-0-0-0-0-...     HC-022   \n",
       "ACTGAACAGTTAACGA-1-1-0-0-0-0-0-0-0-0-0-0-0-0-0-...  1771_1771   \n",
       "\n",
       "                                                   Processing_Cohort louvain  \\\n",
       "TGCGCAGAGCAATCTC-1-1-0-0-0-0-0-0-0-0-0-0-0-0-0-...               4.0       0   \n",
       "TCGCGAGTCGCCAGCA-1-1-0-0-0-0-0-0-0-0-0-1                         3.0       0   \n",
       "TCGGGACAGATGCCAG-1-1-0-0-0-0-0-0-0-0-0-0-0-0-0-...               2.0       7   \n",
       "CATATTCAGTGTTAGA-1-1-0-0-0-0-0-0-0-0-0-0-0-0-0-...               4.0       0   \n",
       "ACTGAACAGTTAACGA-1-1-0-0-0-0-0-0-0-0-0-0-0-0-0-...               2.0       7   \n",
       "\n",
       "                                                   cg_cov ct_cov   L3  \\\n",
       "TGCGCAGAGCAATCTC-1-1-0-0-0-0-0-0-0-0-0-0-0-0-0-...     cM    NaN  1.0   \n",
       "TCGCGAGTCGCCAGCA-1-1-0-0-0-0-0-0-0-0-0-1               cM    NaN  0.0   \n",
       "TCGGGACAGATGCCAG-1-1-0-0-0-0-0-0-0-0-0-0-0-0-0-...     cM    NaN  0.0   \n",
       "CATATTCAGTGTTAGA-1-1-0-0-0-0-0-0-0-0-0-0-0-0-0-...     cM    NaN  1.0   \n",
       "ACTGAACAGTTAACGA-1-1-0-0-0-0-0-0-0-0-0-0-0-0-0-...     cM    NaN  0.0   \n",
       "\n",
       "                                                            ind_cov_batch_cov  \\\n",
       "TGCGCAGAGCAATCTC-1-1-0-0-0-0-0-0-0-0-0-0-0-0-0-...  HC-519:dmx_YS-JY-21_pool2   \n",
       "TCGCGAGTCGCCAGCA-1-1-0-0-0-0-0-0-0-0-0-1                 1791_1791:dmx_flare2   \n",
       "TCGGGACAGATGCCAG-1-1-0-0-0-0-0-0-0-0-0-0-0-0-0-...      1240_1240:dmx_YE_7-26   \n",
       "CATATTCAGTGTTAGA-1-1-0-0-0-0-0-0-0-0-0-0-0-0-0-...  HC-022:dmx_YS-JY-22_pool5   \n",
       "ACTGAACAGTTAACGA-1-1-0-0-0-0-0-0-0-0-0-0-0-0-0-...      1771_1771:dmx_YE_8-23   \n",
       "\n",
       "                                                     Age     Sex pop_cov  \\\n",
       "TGCGCAGAGCAATCTC-1-1-0-0-0-0-0-0-0-0-0-0-0-0-0-...  21.0  Female   Asian   \n",
       "TCGCGAGTCGCCAGCA-1-1-0-0-0-0-0-0-0-0-0-1            66.0  Female   Asian   \n",
       "TCGGGACAGATGCCAG-1-1-0-0-0-0-0-0-0-0-0-0-0-0-0-...  23.0  Female   Asian   \n",
       "CATATTCAGTGTTAGA-1-1-0-0-0-0-0-0-0-0-0-0-0-0-0-...  74.0  Female   Asian   \n",
       "ACTGAACAGTTAACGA-1-1-0-0-0-0-0-0-0-0-0-0-0-0-0-...  49.0  Female   Asian   \n",
       "\n",
       "                                                     Status SLE_status  \\\n",
       "TGCGCAGAGCAATCTC-1-1-0-0-0-0-0-0-0-0-0-0-0-0-0-...  Healthy    Healthy   \n",
       "TCGCGAGTCGCCAGCA-1-1-0-0-0-0-0-0-0-0-0-1            Managed        SLE   \n",
       "TCGGGACAGATGCCAG-1-1-0-0-0-0-0-0-0-0-0-0-0-0-0-...  Managed        SLE   \n",
       "CATATTCAGTGTTAGA-1-1-0-0-0-0-0-0-0-0-0-0-0-0-0-...  Healthy    Healthy   \n",
       "ACTGAACAGTTAACGA-1-1-0-0-0-0-0-0-0-0-0-0-0-0-0-...  Managed        SLE   \n",
       "\n",
       "                                                    capture_rate  \\\n",
       "TGCGCAGAGCAATCTC-1-1-0-0-0-0-0-0-0-0-0-0-0-0-0-...           0.1   \n",
       "TCGCGAGTCGCCAGCA-1-1-0-0-0-0-0-0-0-0-0-1                     0.1   \n",
       "TCGGGACAGATGCCAG-1-1-0-0-0-0-0-0-0-0-0-0-0-0-0-...           0.1   \n",
       "CATATTCAGTGTTAGA-1-1-0-0-0-0-0-0-0-0-0-0-0-0-0-...           0.1   \n",
       "ACTGAACAGTTAACGA-1-1-0-0-0-0-0-0-0-0-0-0-0-0-0-...           0.1   \n",
       "\n",
       "                                                    memento_size_factor  \\\n",
       "TGCGCAGAGCAATCTC-1-1-0-0-0-0-0-0-0-0-0-0-0-0-0-...             0.712631   \n",
       "TCGCGAGTCGCCAGCA-1-1-0-0-0-0-0-0-0-0-0-1                       0.841502   \n",
       "TCGGGACAGATGCCAG-1-1-0-0-0-0-0-0-0-0-0-0-0-0-0-...             1.152943   \n",
       "CATATTCAGTGTTAGA-1-1-0-0-0-0-0-0-0-0-0-0-0-0-0-...             0.551541   \n",
       "ACTGAACAGTTAACGA-1-1-0-0-0-0-0-0-0-0-0-0-0-0-0-...             0.704960   \n",
       "\n",
       "                                                   memento_group  \n",
       "TGCGCAGAGCAATCTC-1-1-0-0-0-0-0-0-0-0-0-0-0-0-0-...     sg^HC-519  \n",
       "TCGCGAGTCGCCAGCA-1-1-0-0-0-0-0-0-0-0-0-1            sg^1791_1791  \n",
       "TCGGGACAGATGCCAG-1-1-0-0-0-0-0-0-0-0-0-0-0-0-0-...  sg^1240_1240  \n",
       "CATATTCAGTGTTAGA-1-1-0-0-0-0-0-0-0-0-0-0-0-0-0-...     sg^HC-022  \n",
       "ACTGAACAGTTAACGA-1-1-0-0-0-0-0-0-0-0-0-0-0-0-0-...  sg^1771_1771  "
      ]
     },
     "execution_count": 18,
     "metadata": {},
     "output_type": "execute_result"
    }
   ],
   "source": [
    "adata.obs.head(5)"
   ]
  },
  {
   "cell_type": "code",
   "execution_count": 20,
   "id": "db9ba43d",
   "metadata": {},
   "outputs": [],
   "source": [
    "def get_expr_one_person(condition, gene1, gene2):\n",
    "    \n",
    "    lucky_person = np.random.choice(adata[condition].obs.ind_cov.drop_duplicates())\n",
    "    return np.log(adata[adata.obs.ind_cov==lucky_person, gene1].X.todense().A1+1), np.log(adata[adata.obs.ind_cov==lucky_person, gene2].X.todense().A1+1)"
   ]
  },
  {
   "cell_type": "code",
   "execution_count": 17,
   "id": "fae4bb94",
   "metadata": {},
   "outputs": [
    {
     "data": {
      "image/png": "[encoded data removed]",
      "text/plain": [
       "<Figure size 180x144 with 1 Axes>"
      ]
     },
     "metadata": {
      "needs_background": "light"
     },
     "output_type": "display_data"
    },
    {
     "data": {
      "image/png": "[encoded data removed]",
      "text/plain": [
       "<Figure size 468x144 with 3 Axes>"
      ]
     },
     "metadata": {
      "needs_background": "light"
     },
     "output_type": "display_data"
    }
   ],
   "source": [
    "info = pd.concat([pos.loc[SNP], moments.loc[gene_1, gene_2]], axis=1).dropna()\n",
    "info.columns=[SNP, 'coexpression']\n",
    "info = info.query('coexpression < 1 & coexpression > -1')\n",
    "\n",
    "plt.figure(figsize=(2.5,2))\n",
    "\n",
    "sns.boxplot(x=SNP, y='coexpression', data=info, color='gray')\n",
    "sns.stripplot(x=SNP, y='coexpression', data=info, color='black', s=3)\n",
    "plt.ylabel('Correlation({},{})'.format(gene_1, gene_2))\n",
    "\n",
    "plt.savefig('{}_{}_{}_{}_{}_box.pdf'.format(pop, ct, gene_1, gene_2, SNP), bbox_inches='tight')\n",
    "\n",
    "new_obs = adata.obs.merge(\n",
    "    info[SNP].reset_index(name='geno').rename(columns={'index':'ind_cov'}),\\\n",
    "    on='ind_cov', how='left')\n",
    "new_obs.index=adata.obs.index\n",
    "\n",
    "plt.figure(figsize=(6.5,2))\n",
    "plt.subplots_adjust(wspace=0.1)\n",
    "plt.subplot(1,3,1)\n",
    "plt.scatter(\n",
    "    get_expr(new_obs['geno'] == 0, gene_1), \n",
    "    get_expr(new_obs['geno'] == 0, gene_2), s=0.5, color='black')\n",
    "plt.xlim(-0.2, 4); plt.ylim(-0.2, 6)\n",
    "plt.ylabel('{} Log-count'.format(gene_2))\n",
    "\n",
    "plt.subplot(1,3,2)\n",
    "plt.scatter(\n",
    "    get_expr(new_obs['geno'] == 1, gene_1), \n",
    "    get_expr(new_obs['geno'] == 1, gene_2), s=0.5, color='black')\n",
    "plt.xlim(-0.2, 4)\n",
    "plt.xlim(-0.2, 4); plt.ylim(-0.2, 6)\n",
    "plt.xlabel('{} Log-count'.format(gene_1))\n",
    "plt.yticks([])\n",
    "\n",
    "plt.subplot(1,3,3)\n",
    "plt.scatter(\n",
    "    get_expr(new_obs['geno'] == 2, gene_1), \n",
    "    get_expr(new_obs['geno'] == 2, gene_2), s=0.5, color='black')\n",
    "plt.xlim(-0.2, 4)\n",
    "plt.xlim(-0.2, 4); plt.ylim(-0.2, 6)\n",
    "plt.yticks([])\n",
    "\n",
    "\n",
    "\n",
    "plt.savefig('{}_{}_{}_{}_{}_scatter.png'.format(pop, ct, gene_1, gene_2, SNP), bbox_inches='tight', dpi=300)"
   ]
  },
  {
   "cell_type": "code",
   "execution_count": 44,
   "id": "1d80f40b",
   "metadata": {},
   "outputs": [
    {
     "data": {
      "image/png": "[encoded data removed]",
      "text/plain": [
       "<Figure size 180x144 with 1 Axes>"
      ]
     },
     "metadata": {
      "needs_background": "light"
     },
     "output_type": "display_data"
    },
    {
     "data": {
      "image/png": "[encoded data removed]",
      "text/plain": [
       "<Figure size 468x144 with 3 Axes>"
      ]
     },
     "metadata": {
      "needs_background": "light"
     },
     "output_type": "display_data"
    }
   ],
   "source": [
    "info = pd.concat([pos.loc[SNP], moments.loc[gene_1, gene_2]], axis=1).dropna()\n",
    "info.columns=[SNP, 'coexpression']\n",
    "info = info.query('coexpression < 1 & coexpression > -1')\n",
    "\n",
    "plt.figure(figsize=(2.5,2))\n",
    "\n",
    "sns.boxplot(x=SNP, y='coexpression', data=info, color='gray')\n",
    "sns.stripplot(x=SNP, y='coexpression', data=info, color='black', s=3)\n",
    "plt.ylabel('Correlation({},{})'.format(gene_1, gene_2))\n",
    "\n",
    "# plt.savefig('{}_{}_{}_{}_{}_box.pdf'.format(pop, ct, gene_1, gene_2, SNP), bbox_inches='tight')\n",
    "\n",
    "new_obs = adata.obs.merge(\n",
    "    info[SNP].reset_index(name='geno').rename(columns={'index':'ind_cov'}),\\\n",
    "    on='ind_cov', how='left')\n",
    "new_obs.index=adata.obs.index\n",
    "\n",
    "plt.figure(figsize=(6.5,2))\n",
    "\n",
    "vals11, vals12 = get_expr_one_person(new_obs['geno'] == 0, gene_1, gene_2)\n",
    "vals21, vals22 = get_expr_one_person(new_obs['geno'] == 1, gene_1, gene_2)\n",
    "vals31, vals32 = get_expr_one_person(new_obs['geno'] == 2, gene_1, gene_2)\n",
    "plt.subplots_adjust(wspace=0.1)\n",
    "plt.subplot(1,3,1)\n",
    "plt.scatter(\n",
    "    get_expr(new_obs['geno'] == 0, gene_1), \n",
    "    get_expr(new_obs['geno'] == 0, gene_2), s=0.5, color='grey')\n",
    "plt.scatter(\n",
    "    vals11, \n",
    "    vals12, s=1, color='black')\n",
    "plt.xlim(-0.2, 4); plt.ylim(-0.2, 6)\n",
    "plt.ylabel('{} Log-count'.format(gene_2))\n",
    "\n",
    "plt.subplot(1,3,2)\n",
    "plt.scatter(\n",
    "    get_expr(new_obs['geno'] == 1, gene_1), \n",
    "    get_expr(new_obs['geno'] == 1, gene_2), s=0.5, color='grey')\n",
    "plt.scatter(\n",
    "    vals21, \n",
    "    vals22, s=1, color='black')\n",
    "plt.xlim(-0.2, 4)\n",
    "plt.xlim(-0.2, 4); plt.ylim(-0.2, 6)\n",
    "plt.xlabel('{} Log-count'.format(gene_1))\n",
    "plt.yticks([])\n",
    "\n",
    "plt.subplot(1,3,3)\n",
    "plt.scatter(\n",
    "    get_expr(new_obs['geno'] == 2, gene_1), \n",
    "    get_expr(new_obs['geno'] == 2, gene_2), s=0.5, color='grey')\n",
    "plt.scatter(\n",
    "    vals31, \n",
    "    vals32, s=1, color='black')\n",
    "plt.xlim(-0.2, 4)\n",
    "plt.xlim(-0.2, 4); plt.ylim(-0.2, 6)\n",
    "plt.yticks([])\n",
    "\n",
    "\n",
    "\n",
    "plt.savefig('{}_{}_{}_{}_{}_scatter_individual_1.png'.format(pop, ct, gene_1, gene_2, SNP), bbox_inches='tight', dpi=300)"
   ]
  },
  {
   "cell_type": "markdown",
   "id": "ce9048f3",
   "metadata": {},
   "source": [
    "### Choose an example - CEPBD LYZ"
   ]
  },
  {
   "cell_type": "code",
   "execution_count": 99,
   "id": "fb88b0fc",
   "metadata": {},
   "outputs": [],
   "source": [
    "SNP = '12:69740869'\n",
    "gene_1 = 'CEBPD'\n",
    "gene_2 = 'LYZ'\n",
    "pop = 'asian'\n",
    "ct = 'cM'"
   ]
  },
  {
   "cell_type": "code",
   "execution_count": 100,
   "id": "8ede4b78",
   "metadata": {},
   "outputs": [],
   "source": [
    "pos = pd.read_csv(data_path + 'mateqtl_input/{}_genos.tsv'.format(pop), sep='\\t', index_col=0)"
   ]
  },
  {
   "cell_type": "code",
   "execution_count": 101,
   "id": "bfde6433",
   "metadata": {},
   "outputs": [
    {
     "name": "stderr",
     "output_type": "stream",
     "text": [
      "/home/ssm-user/anaconda3/envs/single_cell/lib/python3.8/site-packages/anndata/_core/anndata.py:1095: FutureWarning: The `inplace` parameter in pandas.Categorical.remove_unused_categories is deprecated and will be removed in a future version.\n",
      "  df_sub[k].cat.remove_unused_categories(inplace=True)\n",
      "/home/ssm-user/anaconda3/envs/single_cell/lib/python3.8/site-packages/anndata/_core/anndata.py:1095: FutureWarning: The `inplace` parameter in pandas.Categorical.remove_unused_categories is deprecated and will be removed in a future version.\n",
      "  df_sub[k].cat.remove_unused_categories(inplace=True)\n"
     ]
    }
   ],
   "source": [
    "adata = sc.read(data_path + 'single_cell/{}_{}.h5ad'.format(pop, ct))\n",
    "donor_counts = adata.obs['ind_cov'].value_counts()\n",
    "filter_condition = adata.obs.ind_cov.isin(pos.columns) & adata.obs.ind_cov.isin(donor_counts[donor_counts > 100].index)\n",
    "adata = adata[filter_condition].copy()\n",
    "adata.obs['capture_rate'] = 0.1\n",
    "memento.setup_memento(adata, q_column='capture_rate', trim_percent=0.1, filter_mean_thresh=0.07)\n",
    "memento.create_groups(adata, label_columns=['ind_cov'])\n",
    "\n",
    "memento.compute_1d_moments(adata, min_perc_group=.5, gene_list=all_pair_genes)\n",
    "memento.compute_2d_moments(adata, [(a,b) for a,b in cqtl_pairs if a in adata.var.index and b in adata.var.index])\n",
    "\n",
    "moments = memento.get_2d_moments(adata)[0].set_index(['gene_1', 'gene_2'])\n",
    "moments.columns = [x[3:] for x in moments.columns]"
   ]
  },
  {
   "cell_type": "code",
   "execution_count": 102,
   "id": "0e2fc5d8",
   "metadata": {},
   "outputs": [
    {
     "name": "stderr",
     "output_type": "stream",
     "text": [
      "/home/ssm-user/anaconda3/envs/single_cell/lib/python3.8/site-packages/anndata/_core/anndata.py:1095: FutureWarning: The `inplace` parameter in pandas.Categorical.remove_unused_categories is deprecated and will be removed in a future version.\n",
      "  df_sub[k].cat.remove_unused_categories(inplace=True)\n"
     ]
    },
    {
     "data": {
      "image/png": "[encoded data removed]",
      "text/plain": [
       "<Figure size 180x144 with 1 Axes>"
      ]
     },
     "metadata": {
      "needs_background": "light"
     },
     "output_type": "display_data"
    },
    {
     "data": {
      "image/png": "[encoded data removed]",
      "text/plain": [
       "<Figure size 468x144 with 3 Axes>"
      ]
     },
     "metadata": {
      "needs_background": "light"
     },
     "output_type": "display_data"
    }
   ],
   "source": [
    "info = pd.concat([pos.loc[SNP], moments.loc[gene_1, gene_2]], axis=1).dropna()\n",
    "info.columns=[SNP, 'coexpression']\n",
    "info = info.query('coexpression < 1 & coexpression > -1')\n",
    "\n",
    "plt.figure(figsize=(2.5,2))\n",
    "\n",
    "sns.boxplot(x=SNP, y='coexpression', data=info, color='gray')\n",
    "sns.stripplot(x=SNP, y='coexpression', data=info, color='black', s=3)\n",
    "plt.ylabel('Correlation({},{})'.format(gene_1, gene_2))\n",
    "\n",
    "plt.savefig('{}_{}_{}_{}_{}_box.pdf'.format(pop, ct, gene_1, gene_2, SNP), bbox_inches='tight')\n",
    "\n",
    "new_obs = adata.obs.merge(\n",
    "    info[SNP].reset_index(name='geno').rename(columns={'index':'ind_cov'}),\\\n",
    "    on='ind_cov', how='left')\n",
    "new_obs.index=adata.obs.index\n",
    "\n",
    "plt.figure(figsize=(6.5,2))\n",
    "plt.subplots_adjust(wspace=0.1)\n",
    "plt.subplot(1,3,1)\n",
    "plt.scatter(\n",
    "    get_expr(new_obs['geno'] == 0, gene_1), \n",
    "    get_expr(new_obs['geno'] == 0, gene_2), s=0.5, color='black')\n",
    "plt.xlim(-0.2, 3); plt.ylim(-0.2, 6)\n",
    "plt.ylabel('{} Log-count'.format(gene_2))\n",
    "\n",
    "plt.subplot(1,3,2)\n",
    "plt.scatter(\n",
    "    get_expr(new_obs['geno'] == 1, gene_1), \n",
    "    get_expr(new_obs['geno'] == 1, gene_2), s=0.5, color='black')\n",
    "plt.xlim(-0.2, 3); plt.ylim(-0.2, 6)\n",
    "plt.xlabel('{} Log-count'.format(gene_1))\n",
    "plt.yticks([])\n",
    "\n",
    "plt.subplot(1,3,3)\n",
    "plt.scatter(\n",
    "    get_expr(new_obs['geno'] == 2, gene_1), \n",
    "    get_expr(new_obs['geno'] == 2, gene_2), s=0.5, color='black')\n",
    "plt.xlim(-0.2, 3); plt.ylim(-0.2, 6)\n",
    "plt.yticks([])\n",
    "plt.savefig('{}_{}_{}_{}_{}_scatter.png'.format(pop, ct, gene_1, gene_2, SNP), bbox_inches='tight', dpi=300)"
   ]
  },
  {
   "cell_type": "code",
   "execution_count": 103,
   "id": "7830b7f0",
   "metadata": {},
   "outputs": [],
   "source": [
    "to_plot = qtls.query('distance ==0 & (corr_coef*beta)>0')"
   ]
  },
  {
   "cell_type": "code",
   "execution_count": 104,
   "id": "a1833248",
   "metadata": {},
   "outputs": [
    {
     "data": {
      "text/html": [
       "<div>\n",
       "<style scoped>\n",
       "    .dataframe tbody tr th:only-of-type {\n",
       "        vertical-align: middle;\n",
       "    }\n",
       "\n",
       "    .dataframe tbody tr th {\n",
       "        vertical-align: top;\n",
       "    }\n",
       "\n",
       "    .dataframe thead th {\n",
       "        text-align: right;\n",
       "    }\n",
       "</style>\n",
       "<table border=\"1\" class=\"dataframe\">\n",
       "  <thead>\n",
       "    <tr style=\"text-align: right;\">\n",
       "      <th></th>\n",
       "      <th>gene_1</th>\n",
       "      <th>gene_2</th>\n",
       "      <th>tx</th>\n",
       "      <th>corr_coef</th>\n",
       "      <th>corr_se</th>\n",
       "      <th>corr_pval</th>\n",
       "      <th>corr_fdr</th>\n",
       "      <th>statistic</th>\n",
       "      <th>pop</th>\n",
       "      <th>ct</th>\n",
       "      <th>beta</th>\n",
       "      <th>distance</th>\n",
       "    </tr>\n",
       "  </thead>\n",
       "  <tbody>\n",
       "    <tr>\n",
       "      <th>850</th>\n",
       "      <td>SPI1</td>\n",
       "      <td>TMEM176B</td>\n",
       "      <td>7:150435443</td>\n",
       "      <td>0.147797</td>\n",
       "      <td>0.037970</td>\n",
       "      <td>0.000103</td>\n",
       "      <td>0.050430</td>\n",
       "      <td>3.892474</td>\n",
       "      <td>asian</td>\n",
       "      <td>cM</td>\n",
       "      <td>0.158933</td>\n",
       "      <td>0.0</td>\n",
       "    </tr>\n",
       "    <tr>\n",
       "      <th>1653</th>\n",
       "      <td>DRAP1</td>\n",
       "      <td>CD52</td>\n",
       "      <td>1:26698430</td>\n",
       "      <td>-0.164368</td>\n",
       "      <td>0.033612</td>\n",
       "      <td>0.000003</td>\n",
       "      <td>0.015824</td>\n",
       "      <td>-4.890130</td>\n",
       "      <td>asian</td>\n",
       "      <td>ncM</td>\n",
       "      <td>-0.265891</td>\n",
       "      <td>0.0</td>\n",
       "    </tr>\n",
       "    <tr>\n",
       "      <th>1678</th>\n",
       "      <td>DRAP1</td>\n",
       "      <td>CD52</td>\n",
       "      <td>1:26695758</td>\n",
       "      <td>-0.166921</td>\n",
       "      <td>0.033718</td>\n",
       "      <td>0.000003</td>\n",
       "      <td>0.013925</td>\n",
       "      <td>-4.950500</td>\n",
       "      <td>asian</td>\n",
       "      <td>ncM</td>\n",
       "      <td>-0.256660</td>\n",
       "      <td>0.0</td>\n",
       "    </tr>\n",
       "    <tr>\n",
       "      <th>2371</th>\n",
       "      <td>XRCC5</td>\n",
       "      <td>TMEM176B</td>\n",
       "      <td>7:150448873</td>\n",
       "      <td>0.722535</td>\n",
       "      <td>0.117389</td>\n",
       "      <td>0.000073</td>\n",
       "      <td>0.076932</td>\n",
       "      <td>6.155075</td>\n",
       "      <td>asian</td>\n",
       "      <td>ncM</td>\n",
       "      <td>0.250768</td>\n",
       "      <td>0.0</td>\n",
       "    </tr>\n",
       "  </tbody>\n",
       "</table>\n",
       "</div>"
      ],
      "text/plain": [
       "     gene_1    gene_2           tx  corr_coef   corr_se  corr_pval  corr_fdr  \\\n",
       "850    SPI1  TMEM176B  7:150435443   0.147797  0.037970   0.000103  0.050430   \n",
       "1653  DRAP1      CD52   1:26698430  -0.164368  0.033612   0.000003  0.015824   \n",
       "1678  DRAP1      CD52   1:26695758  -0.166921  0.033718   0.000003  0.013925   \n",
       "2371  XRCC5  TMEM176B  7:150448873   0.722535  0.117389   0.000073  0.076932   \n",
       "\n",
       "      statistic    pop   ct      beta  distance  \n",
       "850    3.892474  asian   cM  0.158933       0.0  \n",
       "1653  -4.890130  asian  ncM -0.265891       0.0  \n",
       "1678  -4.950500  asian  ncM -0.256660       0.0  \n",
       "2371   6.155075  asian  ncM  0.250768       0.0  "
      ]
     },
     "execution_count": 104,
     "metadata": {},
     "output_type": "execute_result"
    }
   ],
   "source": [
    "to_plot"
   ]
  },
  {
   "cell_type": "markdown",
   "id": "6c47ca39",
   "metadata": {},
   "source": [
    "### Check LYZ for trans eQTL"
   ]
  },
  {
   "cell_type": "code",
   "execution_count": 5,
   "id": "eec5a0f9",
   "metadata": {},
   "outputs": [],
   "source": [
    "SNP = '12:69688073'\n",
    "gene_1 = 'JUNB'\n",
    "gene_2 = 'LYZ'\n",
    "pop = 'asian'\n",
    "ct = 'cM'"
   ]
  },
  {
   "cell_type": "code",
   "execution_count": 6,
   "id": "f8959c71",
   "metadata": {},
   "outputs": [],
   "source": [
    "data_path  = '/data_volume/memento/lupus/'\n",
    "\n",
    "# Read genetics data\n",
    "pos = pd.read_csv(data_path + 'mateqtl_input/{}_genos.tsv'.format(pop), sep='\\t', index_col=0)\n",
    "cov = pd.read_csv(data_path + 'mateqtl_input/{}_mateqtl_cov.txt'.format(pop), sep='\\t', index_col=0).T\n",
    "\n",
    "# Read encode data to filter TFs\n",
    "encode_meta = pd.read_csv('../../cd4_cropseq/encode_tf/metadata.tsv', sep='\\t', header=0)\n",
    "encode_files = pd.read_csv('../../cd4_cropseq/encode_tf/files.txt', sep='\\t', header=None)\n",
    "encode_meta = encode_meta[encode_meta['Output type'].isin([ 'IDR thresholded peaks', 'optimal IDR thresholded peaks']) & (encode_meta['File assembly'] == 'GRCh38')]\n",
    "encode_meta['target'] = encode_meta['Experiment target'].str.split('-').str[0]\n",
    "encode_meta = encode_meta.sort_values('Output type', ascending=False)\n",
    "encode_meta = encode_meta[encode_meta['Audit ERROR'].isnull() & encode_meta['Audit NOT_COMPLIANT'].isnull()]\n",
    "encode_tfs = encode_meta.target.tolist()"
   ]
  },
  {
   "cell_type": "code",
   "execution_count": 23,
   "id": "7123eeb7",
   "metadata": {},
   "outputs": [
    {
     "name": "stderr",
     "output_type": "stream",
     "text": [
      "/home/ssm-user/anaconda3/envs/single_cell/lib/python3.8/site-packages/anndata/_core/anndata.py:1095: FutureWarning: The `inplace` parameter in pandas.Categorical.remove_unused_categories is deprecated and will be removed in a future version.\n",
      "  df_sub[k].cat.remove_unused_categories(inplace=True)\n"
     ]
    }
   ],
   "source": [
    "adata = sc.read(data_path + 'single_cell/{}_{}.h5ad'.format(pop, ct))\n",
    "donor_counts = adata.obs['ind_cov'].value_counts()\n",
    "filter_condition = adata.obs.ind_cov.isin(pos.columns)\n",
    "adata = adata[filter_condition].copy()\n",
    "adata.obs['capture_rate'] = 0.1\n",
    "memento.setup_memento(adata, q_column='capture_rate', trim_percent=0.1, filter_mean_thresh=0.01, estimator_type='mean_only')\n",
    "memento.create_groups(adata, label_columns=['ind_cov'])\n",
    "\n",
    "cov_df = cov.loc[[x[3:] for x in adata.uns['memento']['groups']]]\n",
    "donor_df = pos[[x[3:] for x in adata.uns['memento']['groups']]].T"
   ]
  },
  {
   "cell_type": "code",
   "execution_count": 24,
   "id": "12586614",
   "metadata": {},
   "outputs": [
    {
     "name": "stderr",
     "output_type": "stream",
     "text": [
      "/home/ssm-user/anaconda3/envs/single_cell/lib/python3.8/site-packages/anndata/_core/anndata.py:1095: FutureWarning: The `inplace` parameter in pandas.Categorical.remove_unused_categories is deprecated and will be removed in a future version.\n",
      "  df_sub[k].cat.remove_unused_categories(inplace=True)\n"
     ]
    }
   ],
   "source": [
    "memento.compute_1d_moments(adata, min_perc_group=.5, gene_list=['JUNB', 'CEBPD'])"
   ]
  },
  {
   "cell_type": "code",
   "execution_count": 25,
   "id": "e5229525",
   "metadata": {},
   "outputs": [
    {
     "name": "stderr",
     "output_type": "stream",
     "text": [
      "[Parallel(n_jobs=1)]: Using backend SequentialBackend with 1 concurrent workers.\n",
      "[Parallel(n_jobs=1)]: Done   2 out of   2 | elapsed:    8.2s finished\n"
     ]
    }
   ],
   "source": [
    "memento.ht_1d_moments(\n",
    "    adata, \n",
    "    covariate=cov_df,\n",
    "    treatment=donor_df,\n",
    "    treatment_for_gene={'JUNB':['12:69688073'], 'CEBPD':['12:69740869']},\n",
    "    num_boot=5000, \n",
    "    verbose=1,\n",
    "    num_cpus=1,\n",
    "    resampling='bootstrap',\n",
    "    approx=False,\n",
    "    resample_rep=True)"
   ]
  },
  {
   "cell_type": "code",
   "execution_count": 29,
   "id": "60ff98d7",
   "metadata": {},
   "outputs": [],
   "source": [
    "memento_result = memento.get_1d_ht_result(adata)"
   ]
  },
  {
   "cell_type": "code",
   "execution_count": 30,
   "id": "828b5d73",
   "metadata": {},
   "outputs": [
    {
     "data": {
      "text/html": [
       "<div>\n",
       "<style scoped>\n",
       "    .dataframe tbody tr th:only-of-type {\n",
       "        vertical-align: middle;\n",
       "    }\n",
       "\n",
       "    .dataframe tbody tr th {\n",
       "        vertical-align: top;\n",
       "    }\n",
       "\n",
       "    .dataframe thead th {\n",
       "        text-align: right;\n",
       "    }\n",
       "</style>\n",
       "<table border=\"1\" class=\"dataframe\">\n",
       "  <thead>\n",
       "    <tr style=\"text-align: right;\">\n",
       "      <th></th>\n",
       "      <th>gene</th>\n",
       "      <th>tx</th>\n",
       "      <th>de_coef</th>\n",
       "      <th>de_se</th>\n",
       "      <th>de_pval</th>\n",
       "      <th>dv_coef</th>\n",
       "      <th>dv_se</th>\n",
       "      <th>dv_pval</th>\n",
       "    </tr>\n",
       "  </thead>\n",
       "  <tbody>\n",
       "    <tr>\n",
       "      <th>0</th>\n",
       "      <td>CEBPD</td>\n",
       "      <td>12:69740869</td>\n",
       "      <td>0.004680</td>\n",
       "      <td>0.015455</td>\n",
       "      <td>0.7594</td>\n",
       "      <td>0.0</td>\n",
       "      <td>3.191600e-16</td>\n",
       "      <td>1.0</td>\n",
       "    </tr>\n",
       "    <tr>\n",
       "      <th>0</th>\n",
       "      <td>JUNB</td>\n",
       "      <td>12:69688073</td>\n",
       "      <td>0.001669</td>\n",
       "      <td>0.016975</td>\n",
       "      <td>0.9206</td>\n",
       "      <td>0.0</td>\n",
       "      <td>3.674161e-16</td>\n",
       "      <td>1.0</td>\n",
       "    </tr>\n",
       "  </tbody>\n",
       "</table>\n",
       "</div>"
      ],
      "text/plain": [
       "    gene           tx   de_coef     de_se  de_pval  dv_coef         dv_se  \\\n",
       "0  CEBPD  12:69740869  0.004680  0.015455   0.7594      0.0  3.191600e-16   \n",
       "0   JUNB  12:69688073  0.001669  0.016975   0.9206      0.0  3.674161e-16   \n",
       "\n",
       "   dv_pval  \n",
       "0      1.0  \n",
       "0      1.0  "
      ]
     },
     "execution_count": 30,
     "metadata": {},
     "output_type": "execute_result"
    }
   ],
   "source": [
    "memento_result"
   ]
  },
  {
   "cell_type": "code",
   "execution_count": null,
   "id": "1aec5428",
   "metadata": {},
   "outputs": [],
   "source": []
  }
 ],
 "metadata": {
  "kernelspec": {
   "display_name": "Python 3 (ipykernel)",
   "language": "python",
   "name": "python3"
  },
  "language_info": {
   "codemirror_mode": {
    "name": "ipython",
    "version": 3
   },
   "file_extension": ".py",
   "mimetype": "text/x-python",
   "name": "python",
   "nbconvert_exporter": "python",
   "pygments_lexer": "ipython3",
   "version": "3.8.8"
  }
 },
 "nbformat": 4,
 "nbformat_minor": 5
}
