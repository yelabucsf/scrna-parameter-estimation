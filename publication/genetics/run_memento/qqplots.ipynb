{
 "cells": [
  {
   "cell_type": "markdown",
   "id": "25ff1550",
   "metadata": {},
   "source": [
    "# Quantile-Quantile plots for eQTL, vQTL, and cQTLs"
   ]
  },
  {
   "cell_type": "code",
   "execution_count": 1,
   "id": "298eafdd",
   "metadata": {},
   "outputs": [],
   "source": [
    "import scanpy as sc\n",
    "import seaborn as sns\n",
    "import pandas as pd\n",
    "import matplotlib.pyplot as plt\n",
    "import numpy as np\n",
    "import scipy.stats as stats\n",
    "import itertools\n",
    "from pybedtools import BedTool\n",
    "import statsmodels.formula.api as smf\n",
    "import statsmodels.api as sm\n",
    "import imp\n",
    "pd.set_option('display.max_columns', 100)\n",
    "import os\n",
    "import pickle as pkl\n",
    "%matplotlib inline"
   ]
  },
  {
   "cell_type": "code",
   "execution_count": 2,
   "id": "68c237f6",
   "metadata": {},
   "outputs": [],
   "source": [
    "data_path  = '/data_volume/memento/lupus/'"
   ]
  },
  {
   "cell_type": "code",
   "execution_count": 36,
   "id": "94652e38",
   "metadata": {},
   "outputs": [],
   "source": [
    "import matplotlib as mpl\n",
    "mpl.rcParams['pdf.fonttype'] = 42\n",
    "mpl.rcParams['ps.fonttype'] = 42\n",
    "\n",
    "plt.rcParams[\"axes.prop_cycle\"] = plt.cycler(\"color\", ['turquoise', 'silver', 'slategrey'])\n",
    "\n",
    "import matplotlib.pylab as pylab\n",
    "params = {'legend.fontsize': 'large',\n",
    "         'axes.labelsize': 'medium',\n",
    "         'axes.titlesize':'medium',\n",
    "         'figure.titlesize':'medium',\n",
    "         'xtick.labelsize':'large',\n",
    "         'ytick.labelsize':'large'}\n",
    "pylab.rcParams.update(params)\n"
   ]
  },
  {
   "cell_type": "markdown",
   "id": "e66ead19",
   "metadata": {},
   "source": [
    "### QQ-plot function"
   ]
  },
  {
   "cell_type": "code",
   "execution_count": 32,
   "id": "1ab3ada9",
   "metadata": {},
   "outputs": [],
   "source": [
    "def plotqq(pvalues):\n",
    "    num_tests = pvalues.shape[0]\n",
    "    unif_quantiles = stats.uniform.ppf(np.linspace(0, 1, num_tests))\n",
    "    sorted_pvs = np.sort(pvalues)\n",
    "    plt.scatter(-np.log10(unif_quantiles), -np.log10(sorted_pvs), s=1)\n",
    "#     plt.plot(-np.log10(unif_quantiles), -np.log10(sorted_pvs))\n",
    "    plt.plot([0, 6], [0, 6], '--', color='black')"
   ]
  },
  {
   "cell_type": "markdown",
   "id": "dffeb1d0",
   "metadata": {},
   "source": [
    "### Get MAF filters"
   ]
  },
  {
   "cell_type": "code",
   "execution_count": 5,
   "id": "8df9485c",
   "metadata": {},
   "outputs": [],
   "source": [
    "eur_pos = pd.read_csv(data_path + 'mateqtl_input/{}_genos.tsv'.format('eur'), sep='\\t', index_col=0)\n",
    "eur_min_freqs = eur_pos.apply(lambda x: pd.value_counts(x, normalize=True).iloc[-1], axis=1).reset_index(name='min_count')"
   ]
  },
  {
   "cell_type": "code",
   "execution_count": 6,
   "id": "c3f44967",
   "metadata": {},
   "outputs": [],
   "source": [
    "asian_pos = pd.read_csv(data_path + 'mateqtl_input/{}_genos.tsv'.format('asian'), sep='\\t', index_col=0)\n",
    "asian_min_freqs = asian_pos.apply(lambda x: pd.value_counts(x, normalize=True).iloc[-1], axis=1).reset_index(name='min_count')"
   ]
  },
  {
   "cell_type": "code",
   "execution_count": 7,
   "id": "38447732",
   "metadata": {},
   "outputs": [],
   "source": [
    "eur_min_freqs['pop'] = 'eur'\n",
    "asian_min_freqs['pop'] = 'asian'"
   ]
  },
  {
   "cell_type": "code",
   "execution_count": 8,
   "id": "e5fa1d3c",
   "metadata": {},
   "outputs": [],
   "source": [
    "pos = pd.concat([eur_min_freqs, asian_min_freqs])"
   ]
  },
  {
   "cell_type": "code",
   "execution_count": 10,
   "id": "2754d04a",
   "metadata": {},
   "outputs": [
    {
     "data": {
      "text/html": [
       "<div>\n",
       "<style scoped>\n",
       "    .dataframe tbody tr th:only-of-type {\n",
       "        vertical-align: middle;\n",
       "    }\n",
       "\n",
       "    .dataframe tbody tr th {\n",
       "        vertical-align: top;\n",
       "    }\n",
       "\n",
       "    .dataframe thead th {\n",
       "        text-align: right;\n",
       "    }\n",
       "</style>\n",
       "<table border=\"1\" class=\"dataframe\">\n",
       "  <thead>\n",
       "    <tr style=\"text-align: right;\">\n",
       "      <th></th>\n",
       "      <th>CHROM:POS</th>\n",
       "      <th>min_count</th>\n",
       "      <th>pop</th>\n",
       "    </tr>\n",
       "  </thead>\n",
       "  <tbody>\n",
       "    <tr>\n",
       "      <th>0</th>\n",
       "      <td>3:165182446</td>\n",
       "      <td>0.109890</td>\n",
       "      <td>eur</td>\n",
       "    </tr>\n",
       "    <tr>\n",
       "      <th>1</th>\n",
       "      <td>6:122682327</td>\n",
       "      <td>0.120879</td>\n",
       "      <td>eur</td>\n",
       "    </tr>\n",
       "    <tr>\n",
       "      <th>2</th>\n",
       "      <td>22:40561759</td>\n",
       "      <td>0.164835</td>\n",
       "      <td>eur</td>\n",
       "    </tr>\n",
       "    <tr>\n",
       "      <th>3</th>\n",
       "      <td>3:104381193</td>\n",
       "      <td>0.252747</td>\n",
       "      <td>eur</td>\n",
       "    </tr>\n",
       "    <tr>\n",
       "      <th>4</th>\n",
       "      <td>15:57107863</td>\n",
       "      <td>0.087912</td>\n",
       "      <td>eur</td>\n",
       "    </tr>\n",
       "  </tbody>\n",
       "</table>\n",
       "</div>"
      ],
      "text/plain": [
       "     CHROM:POS  min_count  pop\n",
       "0  3:165182446   0.109890  eur\n",
       "1  6:122682327   0.120879  eur\n",
       "2  22:40561759   0.164835  eur\n",
       "3  3:104381193   0.252747  eur\n",
       "4  15:57107863   0.087912  eur"
      ]
     },
     "execution_count": 10,
     "metadata": {},
     "output_type": "execute_result"
    }
   ],
   "source": [
    "pos.head(5)"
   ]
  },
  {
   "cell_type": "markdown",
   "id": "52b41cd4",
   "metadata": {},
   "source": [
    "### QQ plots for vQTLs"
   ]
  },
  {
   "cell_type": "code",
   "execution_count": 11,
   "id": "237524be",
   "metadata": {},
   "outputs": [],
   "source": [
    "vqtls = []\n",
    "all_tests = []\n",
    "for pop in ['asian', 'eur']:\n",
    "    for ct in ['T4', 'cM', 'ncM', 'T8', 'B', 'NK']:\n",
    "        df = pd.read_csv(data_path + 'full_analysis/memento/100kb/{}_{}_variability.csv'.format(pop, ct))\n",
    "        \n",
    "        # Get gene means\n",
    "        adata = sc.read(data_path + 'single_cell/{}_{}.h5ad'.format(pop, ct))\n",
    "        means = adata.X.mean(axis=0).A1\n",
    "        mean_df = pd.DataFrame()\n",
    "        mean_df['gene'] = adata.var.index.tolist()\n",
    "        mean_df['mean'] = means\n",
    "        \n",
    "        df['pop'] = pop\n",
    "        df['ct'] = ct\n",
    "        df = df.merge(mean_df, on='gene', how='left')\n",
    "        \n",
    "        if df.query('dv_fdr < 0.1').shape[0] > 0:\n",
    "            vqtls.append(df.query('dv_fdr < 0.1'))\n",
    "        all_tests.append(df)\n",
    "vqtls = pd.concat(vqtls)\n",
    "all_tests = pd.concat(all_tests)"
   ]
  },
  {
   "cell_type": "code",
   "execution_count": 12,
   "id": "eebe8e78",
   "metadata": {},
   "outputs": [],
   "source": [
    "filtered_tests = all_tests.merge(pos, left_on=['tx', 'pop'], right_on=['CHROM:POS', 'pop'], how='left').query('min_count > 0.1')"
   ]
  },
  {
   "cell_type": "code",
   "execution_count": 38,
   "id": "b6212cd1",
   "metadata": {},
   "outputs": [
    {
     "name": "stderr",
     "output_type": "stream",
     "text": [
      "/tmp/ipykernel_12835/3247979387.py:5: RuntimeWarning: divide by zero encountered in log10\n",
      "  plt.scatter(-np.log10(unif_quantiles), -np.log10(sorted_pvs), s=1)\n"
     ]
    },
    {
     "data": {
      "image/png": "[encoded data removed]",
      "text/plain": [
       "<Figure size 194.4x144 with 1 Axes>"
      ]
     },
     "metadata": {
      "needs_background": "light"
     },
     "output_type": "display_data"
    }
   ],
   "source": [
    "plt.figure(figsize=(2.7,2))\n",
    "plt.title('Variability QTLs')\n",
    "plotqq(filtered_tests.dv_pval.values)\n",
    "plt.xlabel('Theoretical -log10(P-value)')\n",
    "plt.savefig('QQ_vQTL.png', bbox_inches='tight', dpi=300)"
   ]
  },
  {
   "cell_type": "markdown",
   "id": "1bd2d601",
   "metadata": {},
   "source": [
    "### QQ plot for Coexpression QTLs"
   ]
  },
  {
   "cell_type": "code",
   "execution_count": 14,
   "id": "d8cadb6e",
   "metadata": {},
   "outputs": [
    {
     "name": "stdout",
     "output_type": "stream",
     "text": [
      "asian T4 6\n",
      "asian cM 48\n",
      "asian ncM 121\n",
      "asian T8 18\n",
      "eur cM 31\n",
      "eur ncM 8\n",
      "eur T8 5\n",
      "eur B 23\n"
     ]
    }
   ],
   "source": [
    "cqtls = []\n",
    "all_ctests = []\n",
    "for pop in ['asian', 'eur']:\n",
    "    for ct in ['T4', 'cM', 'ncM', 'T8', 'B', 'NK']:\n",
    "        df = pd.read_csv(data_path + 'full_analysis/memento/100kb/{}_{}_coexpression.csv'.format(pop, ct))\n",
    "        df['pop'] = pop\n",
    "        df['ct'] = ct\n",
    "        if df.query('corr_fdr < 0.1').shape[0] > 0:\n",
    "            cqtls.append(df.query('corr_fdr < 0.1'))\n",
    "            print(pop, ct, df.query('corr_fdr < 0.1')[['gene_1', 'gene_2']].drop_duplicates().shape[0])\n",
    "        all_ctests.append(df)\n",
    "cqtls = pd.concat(cqtls)\n",
    "all_ctests = pd.concat(all_ctests)"
   ]
  },
  {
   "cell_type": "code",
   "execution_count": 15,
   "id": "d571375e",
   "metadata": {},
   "outputs": [],
   "source": [
    "filtered_ctests = all_ctests.merge(pos, left_on=['tx', 'pop'], right_on=['CHROM:POS', 'pop'], how='left').query('min_count > 0.1')"
   ]
  },
  {
   "cell_type": "code",
   "execution_count": 16,
   "id": "bf7e15d2",
   "metadata": {},
   "outputs": [
    {
     "name": "stderr",
     "output_type": "stream",
     "text": [
      "/tmp/ipykernel_12835/1517188542.py:5: RuntimeWarning: divide by zero encountered in log10\n",
      "  plt.scatter(-np.log10(unif_quantiles), -np.log10(sorted_pvs), s=1)\n"
     ]
    },
    {
     "data": {
      "image/png": "[encoded data removed]",
      "text/plain": [
       "<Figure size 194.4x144 with 1 Axes>"
      ]
     },
     "metadata": {
      "needs_background": "light"
     },
     "output_type": "display_data"
    }
   ],
   "source": [
    "plt.figure(figsize=(2.7,2))\n",
    "plt.title('Coexpression QTLs')\n",
    "plotqq(filtered_ctests.corr_pval.values)\n",
    "plt.xlabel('Theoretical -log10(P-value)')\n",
    "plt.savefig('QQ_cQTL.png', bbox_inches='tight', dpi=300)"
   ]
  },
  {
   "cell_type": "markdown",
   "id": "31fa4e07",
   "metadata": {},
   "source": [
    "### QQ plot for eQTLs"
   ]
  },
  {
   "cell_type": "code",
   "execution_count": 17,
   "id": "5a4bfe90",
   "metadata": {},
   "outputs": [],
   "source": [
    "memento = []\n",
    "mateqtl = []\n",
    "for pop in ['asian', 'eur']:\n",
    "    for ct in ['T4', 'cM', 'ncM', 'T8', 'B', 'NK']:\n",
    "\n",
    "        mem = pd.read_table(data_path + 'full_analysis/memento/100kb/{}_{}.csv'.format(pop, ct), sep=',')\n",
    "        meq = pd.read_table(data_path + 'full_analysis/mateqtl/outputs/{}_{}_all_hg19.csv'.format(pop, ct), sep='\\t')\n",
    "        \n",
    "        mem['pop'] = pop\n",
    "        meq['pop'] = pop\n",
    "        mem['ct'] = ct\n",
    "        meq['ct'] = ct\n",
    "        \n",
    "        memento.append(mem)\n",
    "        mateqtl.append(meq)"
   ]
  },
  {
   "cell_type": "code",
   "execution_count": 18,
   "id": "71d53686",
   "metadata": {},
   "outputs": [],
   "source": [
    "memento = pd.concat(memento)\n",
    "mateqtl = pd.concat(mateqtl)"
   ]
  },
  {
   "cell_type": "code",
   "execution_count": 20,
   "id": "38fea8a4",
   "metadata": {},
   "outputs": [],
   "source": [
    "filtered_memento = memento.merge(pos, left_on=['SNP', 'pop'], right_on=['CHROM:POS', 'pop'], how='left').query('min_count > 0.1')\n",
    "filtered_mateqtl = mateqtl.merge(pos, left_on=['SNP', 'pop'], right_on=['CHROM:POS', 'pop'], how='left').query('min_count > 0.1')"
   ]
  },
  {
   "cell_type": "code",
   "execution_count": 43,
   "id": "fb43c3ab",
   "metadata": {},
   "outputs": [
    {
     "name": "stderr",
     "output_type": "stream",
     "text": [
      "/tmp/ipykernel_12835/3247979387.py:5: RuntimeWarning: divide by zero encountered in log10\n",
      "  plt.scatter(-np.log10(unif_quantiles), -np.log10(sorted_pvs), s=1)\n",
      "/tmp/ipykernel_12835/635722510.py:7: UserWarning: Creating legend with loc=\"best\" can be slow with large amounts of data.\n",
      "  plt.savefig('QQ_eQTL.png', bbox_inches='tight', dpi=300)\n",
      "/home/ssm-user/anaconda3/envs/single_cell/lib/python3.8/site-packages/IPython/core/pylabtools.py:151: UserWarning: Creating legend with loc=\"best\" can be slow with large amounts of data.\n",
      "  fig.canvas.print_figure(bytes_io, **kw)\n"
     ]
    },
    {
     "data": {
      "image/png": "[encoded data removed]",
      "text/plain": [
       "<Figure size 194.4x144 with 1 Axes>"
      ]
     },
     "metadata": {
      "needs_background": "light"
     },
     "output_type": "display_data"
    }
   ],
   "source": [
    "plt.figure(figsize=(2.7,2))\n",
    "plt.title('Mean QTLs (eQTLs)')\n",
    "plotqq(filtered_memento.query('log10p < 50')['p-value'].values)\n",
    "plotqq(filtered_mateqtl['p-value'].values)\n",
    "plt.xlabel('Theoretical -log10(P-value)')\n",
    "# plt.legend(['memento', 'pseudobulk'], frameon=False);\n",
    "plt.savefig('QQ_eQTL.png', bbox_inches='tight', dpi=300)"
   ]
  },
  {
   "cell_type": "code",
   "execution_count": null,
   "id": "bc82217a",
   "metadata": {},
   "outputs": [],
   "source": []
  }
 ],
 "metadata": {
  "kernelspec": {
   "display_name": "Python 3 (ipykernel)",
   "language": "python",
   "name": "python3"
  },
  "language_info": {
   "codemirror_mode": {
    "name": "ipython",
    "version": 3
   },
   "file_extension": ".py",
   "mimetype": "text/x-python",
   "name": "python",
   "nbconvert_exporter": "python",
   "pygments_lexer": "ipython3",
   "version": "3.8.8"
  }
 },
 "nbformat": 4,
 "nbformat_minor": 5
}
