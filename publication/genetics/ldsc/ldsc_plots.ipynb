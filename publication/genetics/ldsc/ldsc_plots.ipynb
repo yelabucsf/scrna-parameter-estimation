{
 "cells": [
  {
   "cell_type": "markdown",
   "id": "30e45d2e",
   "metadata": {},
   "source": [
    "# Plots for LDSC analysis"
   ]
  },
  {
   "cell_type": "code",
   "execution_count": 1,
   "id": "1bc95dbd",
   "metadata": {},
   "outputs": [],
   "source": [
    "import pandas as pd\n",
    "import numpy as np\n",
    "import seaborn as sns\n",
    "import matplotlib.pyplot as plt\n",
    "import scipy.stats as stats"
   ]
  },
  {
   "cell_type": "code",
   "execution_count": 2,
   "id": "7695e731",
   "metadata": {},
   "outputs": [],
   "source": [
    "data_path = '/data_volume/memento/lupus/ldsc/'"
   ]
  },
  {
   "cell_type": "code",
   "execution_count": 3,
   "id": "cb76c790",
   "metadata": {},
   "outputs": [],
   "source": [
    "traits = \"     PASS_Crohns_Disease PASS_Rheumatoid_Arthritis PASS_Ulcerative_Colitis UKB_460K.disease_ALLERGY_ECZEMA_DIAGNOSED bentham.lupus\".split()"
   ]
  },
  {
   "cell_type": "code",
   "execution_count": 11,
   "id": "8ce779a6",
   "metadata": {},
   "outputs": [],
   "source": [
    "import matplotlib\n",
    "matplotlib.rcParams['pdf.fonttype'] = 42\n",
    "matplotlib.rcParams['ps.fonttype'] = 42\n",
    "\n",
    "import matplotlib.pylab as pylab\n",
    "params = {'legend.fontsize': 'medium',\n",
    "         'axes.labelsize': 'medium',\n",
    "         'axes.titlesize':'medium',\n",
    "         'figure.titlesize':'medium',\n",
    "         'xtick.labelsize':'small',\n",
    "         'ytick.labelsize':'small'}\n",
    "pylab.rcParams.update(params)"
   ]
  },
  {
   "cell_type": "code",
   "execution_count": 4,
   "id": "90f8e929",
   "metadata": {},
   "outputs": [],
   "source": [
    "trait_names = {\n",
    "    'PASS_Crohns_Disease': 'CD',\n",
    "    'PASS_Rheumatoid_Arthritis':'RA',\n",
    "    'PASS_Ulcerative_Colitis':'UC',\n",
    "    'UKB_460K.disease_ALLERGY_ECZEMA_DIAGNOSED':'Eczema',\n",
    "    'bentham.lupus':'Lupus'\n",
    "}"
   ]
  },
  {
   "cell_type": "markdown",
   "id": "5f312ed4",
   "metadata": {},
   "source": [
    "### Read results"
   ]
  },
  {
   "cell_type": "code",
   "execution_count": 5,
   "id": "b7b0cab6",
   "metadata": {},
   "outputs": [],
   "source": [
    "results = []\n",
    "for method in ['mateqtl', 'memento']:\n",
    "    for pop in ['eur', 'asian']:\n",
    "        for t in traits:\n",
    "            df = pd.read_table(data_path + 'results/{}_{}_{}.cell_type_results.txt'.format(method, pop, t))\n",
    "            df['pop'] = pop\n",
    "            df['method'] = method\n",
    "            df['trait'] = t\n",
    "            results.append(df)\n",
    "results = pd.concat(results)\n",
    "results['log10p'] = -np.log10(results['Coefficient_P_value'])\n",
    "results['trait_name'] = results['trait'].apply(lambda x: trait_names[x])"
   ]
  },
  {
   "cell_type": "code",
   "execution_count": 6,
   "id": "9ef812a5",
   "metadata": {},
   "outputs": [],
   "source": [
    "combined_results = results.groupby(['Name', 'method', 'trait_name'])['Coefficient_P_value'].apply(lambda x: stats.combine_pvalues(x)[1]).reset_index()"
   ]
  },
  {
   "cell_type": "code",
   "execution_count": 7,
   "id": "fb4b3018",
   "metadata": {},
   "outputs": [],
   "source": [
    "combined_results['log10p'] = -np.log10(combined_results['Coefficient_P_value'])"
   ]
  },
  {
   "cell_type": "code",
   "execution_count": 13,
   "id": "5c0bb3f7",
   "metadata": {},
   "outputs": [
    {
     "data": {
      "image/png": "[encoded data removed]",
      "text/plain": [
       "<Figure size 576x180 with 2 Axes>"
      ]
     },
     "metadata": {
      "needs_background": "light"
     },
     "output_type": "display_data"
    }
   ],
   "source": [
    "plt.figure(figsize=(8,2.5))\n",
    "plt.subplot(1, 2, 2)\n",
    "sns.barplot(x='trait_name', y='log10p', hue='Name', data=results.query('pop==\"{}\" & method == \"memento\"'.format('asian')))\n",
    "plt.plot([-0.5, 4.5], [-np.log10(0.05), -np.log10(0.05)], '--', color='k')\n",
    "ylims = plt.ylim()\n",
    "plt.legend([], frameon=False)\n",
    "plt.title('Memento')\n",
    "\n",
    "plt.subplot(1, 2, 1)\n",
    "plt.title('Pseudobulk')\n",
    "sns.barplot(x='trait_name', y='log10p', hue='Name', data=results.query('pop==\"{}\" & method == \"mateqtl\"'.format('asian')))\n",
    "plt.ylim(ylims)\n",
    "plt.plot([-0.5, 4.5], [-np.log10(0.05), -np.log10(0.05)], '--', color='k')\n",
    "plt.legend(loc='upper right', ncol=2, frameon=False)\n",
    "plt.savefig('disease_enrichment.pdf', bbox_inches='tight')"
   ]
  },
  {
   "cell_type": "markdown",
   "id": "a4960c5c",
   "metadata": {},
   "source": [
    "### Compare gene lists from Gracie's hits"
   ]
  },
  {
   "cell_type": "code",
   "execution_count": 30,
   "id": "6bfe63d6",
   "metadata": {},
   "outputs": [],
   "source": [
    "ct = 'cM'\n",
    "m = pd.read_table(data_path + 'bedfiles/mateqtl/asian_{}.bed'.format(ct), header=None)\n",
    "g = pd.read_table('gracie_reference/van_fdr0.05/{}_expr.bed'.format(ct.lower()), header=None)"
   ]
  },
  {
   "cell_type": "code",
   "execution_count": 31,
   "id": "57933384",
   "metadata": {},
   "outputs": [
    {
     "data": {
      "text/plain": [
       "(846, 4)"
      ]
     },
     "execution_count": 31,
     "metadata": {},
     "output_type": "execute_result"
    }
   ],
   "source": [
    "m.shape\n"
   ]
  },
  {
   "cell_type": "code",
   "execution_count": 32,
   "id": "fe26a9cd",
   "metadata": {},
   "outputs": [
    {
     "data": {
      "text/plain": [
       "(1441, 4)"
      ]
     },
     "execution_count": 32,
     "metadata": {},
     "output_type": "execute_result"
    }
   ],
   "source": [
    "g.shape"
   ]
  },
  {
   "cell_type": "code",
   "execution_count": 33,
   "id": "9bd869e5",
   "metadata": {},
   "outputs": [
    {
     "data": {
      "text/html": [
       "<div>\n",
       "<style scoped>\n",
       "    .dataframe tbody tr th:only-of-type {\n",
       "        vertical-align: middle;\n",
       "    }\n",
       "\n",
       "    .dataframe tbody tr th {\n",
       "        vertical-align: top;\n",
       "    }\n",
       "\n",
       "    .dataframe thead th {\n",
       "        text-align: right;\n",
       "    }\n",
       "</style>\n",
       "<table border=\"1\" class=\"dataframe\">\n",
       "  <thead>\n",
       "    <tr style=\"text-align: right;\">\n",
       "      <th></th>\n",
       "      <th>0</th>\n",
       "      <th>1</th>\n",
       "      <th>2</th>\n",
       "      <th>3</th>\n",
       "    </tr>\n",
       "  </thead>\n",
       "  <tbody>\n",
       "    <tr>\n",
       "      <th>0</th>\n",
       "      <td>chr1</td>\n",
       "      <td>834342</td>\n",
       "      <td>1034812</td>\n",
       "      <td>HES4</td>\n",
       "    </tr>\n",
       "    <tr>\n",
       "      <th>1</th>\n",
       "      <td>chr1</td>\n",
       "      <td>3589352</td>\n",
       "      <td>3789405</td>\n",
       "      <td>SMIM1</td>\n",
       "    </tr>\n",
       "    <tr>\n",
       "      <th>2</th>\n",
       "      <td>chr1</td>\n",
       "      <td>7731329</td>\n",
       "      <td>7931445</td>\n",
       "      <td>VAMP3</td>\n",
       "    </tr>\n",
       "    <tr>\n",
       "      <th>3</th>\n",
       "      <td>chr1</td>\n",
       "      <td>7803143</td>\n",
       "      <td>8004010</td>\n",
       "      <td>UTS2</td>\n",
       "    </tr>\n",
       "    <tr>\n",
       "      <th>4</th>\n",
       "      <td>chr1</td>\n",
       "      <td>8312464</td>\n",
       "      <td>8515180</td>\n",
       "      <td>RERE</td>\n",
       "    </tr>\n",
       "    <tr>\n",
       "      <th>...</th>\n",
       "      <td>...</td>\n",
       "      <td>...</td>\n",
       "      <td>...</td>\n",
       "      <td>...</td>\n",
       "    </tr>\n",
       "    <tr>\n",
       "      <th>841</th>\n",
       "      <td>chr21</td>\n",
       "      <td>46205868</td>\n",
       "      <td>46406345</td>\n",
       "      <td>ITGB2</td>\n",
       "    </tr>\n",
       "    <tr>\n",
       "      <th>842</th>\n",
       "      <td>chr21</td>\n",
       "      <td>46240950</td>\n",
       "      <td>46441242</td>\n",
       "      <td>ITGB2-AS1</td>\n",
       "    </tr>\n",
       "    <tr>\n",
       "      <th>843</th>\n",
       "      <td>chr21</td>\n",
       "      <td>46259955</td>\n",
       "      <td>46460101</td>\n",
       "      <td>FAM207A</td>\n",
       "    </tr>\n",
       "    <tr>\n",
       "      <th>844</th>\n",
       "      <td>chr21</td>\n",
       "      <td>47606267</td>\n",
       "      <td>47806329</td>\n",
       "      <td>YBEY</td>\n",
       "    </tr>\n",
       "    <tr>\n",
       "      <th>845</th>\n",
       "      <td>chr21</td>\n",
       "      <td>47955507</td>\n",
       "      <td>48155675</td>\n",
       "      <td>PRMT2</td>\n",
       "    </tr>\n",
       "  </tbody>\n",
       "</table>\n",
       "<p>846 rows × 4 columns</p>\n",
       "</div>"
      ],
      "text/plain": [
       "         0         1         2          3\n",
       "0     chr1    834342   1034812       HES4\n",
       "1     chr1   3589352   3789405      SMIM1\n",
       "2     chr1   7731329   7931445      VAMP3\n",
       "3     chr1   7803143   8004010       UTS2\n",
       "4     chr1   8312464   8515180       RERE\n",
       "..     ...       ...       ...        ...\n",
       "841  chr21  46205868  46406345      ITGB2\n",
       "842  chr21  46240950  46441242  ITGB2-AS1\n",
       "843  chr21  46259955  46460101    FAM207A\n",
       "844  chr21  47606267  47806329       YBEY\n",
       "845  chr21  47955507  48155675      PRMT2\n",
       "\n",
       "[846 rows x 4 columns]"
      ]
     },
     "execution_count": 33,
     "metadata": {},
     "output_type": "execute_result"
    }
   ],
   "source": [
    "m"
   ]
  },
  {
   "cell_type": "code",
   "execution_count": 34,
   "id": "30e4eb51",
   "metadata": {},
   "outputs": [],
   "source": [
    "m_genes = set(m[3].tolist())"
   ]
  },
  {
   "cell_type": "code",
   "execution_count": 35,
   "id": "8994db92",
   "metadata": {},
   "outputs": [],
   "source": [
    "g_genes = set(g[3].tolist())"
   ]
  },
  {
   "cell_type": "code",
   "execution_count": 36,
   "id": "d59e0705",
   "metadata": {},
   "outputs": [
    {
     "data": {
      "text/plain": [
       "524"
      ]
     },
     "execution_count": 36,
     "metadata": {},
     "output_type": "execute_result"
    }
   ],
   "source": [
    "len(m_genes & g_genes)"
   ]
  },
  {
   "cell_type": "code",
   "execution_count": 29,
   "id": "8376d19d",
   "metadata": {},
   "outputs": [
    {
     "data": {
      "text/html": [
       "<div>\n",
       "<style scoped>\n",
       "    .dataframe tbody tr th:only-of-type {\n",
       "        vertical-align: middle;\n",
       "    }\n",
       "\n",
       "    .dataframe tbody tr th {\n",
       "        vertical-align: top;\n",
       "    }\n",
       "\n",
       "    .dataframe thead th {\n",
       "        text-align: right;\n",
       "    }\n",
       "</style>\n",
       "<table border=\"1\" class=\"dataframe\">\n",
       "  <thead>\n",
       "    <tr style=\"text-align: right;\">\n",
       "      <th></th>\n",
       "      <th>0_x</th>\n",
       "      <th>1_x</th>\n",
       "      <th>2_x</th>\n",
       "      <th>3</th>\n",
       "      <th>0_y</th>\n",
       "      <th>1_y</th>\n",
       "      <th>2_y</th>\n",
       "    </tr>\n",
       "  </thead>\n",
       "  <tbody>\n",
       "    <tr>\n",
       "      <th>0</th>\n",
       "      <td>chr1</td>\n",
       "      <td>834342</td>\n",
       "      <td>1034812</td>\n",
       "      <td>HES4</td>\n",
       "      <td>chr1</td>\n",
       "      <td>834342</td>\n",
       "      <td>1034812</td>\n",
       "    </tr>\n",
       "    <tr>\n",
       "      <th>1</th>\n",
       "      <td>chr1</td>\n",
       "      <td>3589352</td>\n",
       "      <td>3789405</td>\n",
       "      <td>SMIM1</td>\n",
       "      <td>chr1</td>\n",
       "      <td>3589352</td>\n",
       "      <td>3789405</td>\n",
       "    </tr>\n",
       "    <tr>\n",
       "      <th>2</th>\n",
       "      <td>chr1</td>\n",
       "      <td>5986073</td>\n",
       "      <td>6186505</td>\n",
       "      <td>KCNAB2</td>\n",
       "      <td>chr1</td>\n",
       "      <td>5986073</td>\n",
       "      <td>6186505</td>\n",
       "    </tr>\n",
       "    <tr>\n",
       "      <th>3</th>\n",
       "      <td>chr1</td>\n",
       "      <td>7803143</td>\n",
       "      <td>8004010</td>\n",
       "      <td>UTS2</td>\n",
       "      <td>chr1</td>\n",
       "      <td>7803143</td>\n",
       "      <td>8004010</td>\n",
       "    </tr>\n",
       "    <tr>\n",
       "      <th>4</th>\n",
       "      <td>chr1</td>\n",
       "      <td>7921714</td>\n",
       "      <td>8121795</td>\n",
       "      <td>PARK7</td>\n",
       "      <td>chr1</td>\n",
       "      <td>7921714</td>\n",
       "      <td>8121795</td>\n",
       "    </tr>\n",
       "    <tr>\n",
       "      <th>...</th>\n",
       "      <td>...</td>\n",
       "      <td>...</td>\n",
       "      <td>...</td>\n",
       "      <td>...</td>\n",
       "      <td>...</td>\n",
       "      <td>...</td>\n",
       "      <td>...</td>\n",
       "    </tr>\n",
       "    <tr>\n",
       "      <th>850</th>\n",
       "      <td>chr21</td>\n",
       "      <td>46205868</td>\n",
       "      <td>46406345</td>\n",
       "      <td>ITGB2</td>\n",
       "      <td>chr21</td>\n",
       "      <td>46205868</td>\n",
       "      <td>46406345</td>\n",
       "    </tr>\n",
       "    <tr>\n",
       "      <th>851</th>\n",
       "      <td>chr21</td>\n",
       "      <td>46240950</td>\n",
       "      <td>46441242</td>\n",
       "      <td>ITGB2-AS1</td>\n",
       "      <td>chr21</td>\n",
       "      <td>46240950</td>\n",
       "      <td>46441242</td>\n",
       "    </tr>\n",
       "    <tr>\n",
       "      <th>852</th>\n",
       "      <td>chr21</td>\n",
       "      <td>46240950</td>\n",
       "      <td>46441242</td>\n",
       "      <td>ITGB2-AS1</td>\n",
       "      <td>chr21</td>\n",
       "      <td>46240950</td>\n",
       "      <td>46441242</td>\n",
       "    </tr>\n",
       "    <tr>\n",
       "      <th>853</th>\n",
       "      <td>chr21</td>\n",
       "      <td>46259955</td>\n",
       "      <td>46460101</td>\n",
       "      <td>FAM207A</td>\n",
       "      <td>chr21</td>\n",
       "      <td>46259955</td>\n",
       "      <td>46460101</td>\n",
       "    </tr>\n",
       "    <tr>\n",
       "      <th>854</th>\n",
       "      <td>chr21</td>\n",
       "      <td>47606267</td>\n",
       "      <td>47806329</td>\n",
       "      <td>YBEY</td>\n",
       "      <td>chr21</td>\n",
       "      <td>47606267</td>\n",
       "      <td>47806329</td>\n",
       "    </tr>\n",
       "  </tbody>\n",
       "</table>\n",
       "<p>855 rows × 7 columns</p>\n",
       "</div>"
      ],
      "text/plain": [
       "       0_x       1_x       2_x          3    0_y       1_y       2_y\n",
       "0     chr1    834342   1034812       HES4   chr1    834342   1034812\n",
       "1     chr1   3589352   3789405      SMIM1   chr1   3589352   3789405\n",
       "2     chr1   5986073   6186505     KCNAB2   chr1   5986073   6186505\n",
       "3     chr1   7803143   8004010       UTS2   chr1   7803143   8004010\n",
       "4     chr1   7921714   8121795      PARK7   chr1   7921714   8121795\n",
       "..     ...       ...       ...        ...    ...       ...       ...\n",
       "850  chr21  46205868  46406345      ITGB2  chr21  46205868  46406345\n",
       "851  chr21  46240950  46441242  ITGB2-AS1  chr21  46240950  46441242\n",
       "852  chr21  46240950  46441242  ITGB2-AS1  chr21  46240950  46441242\n",
       "853  chr21  46259955  46460101    FAM207A  chr21  46259955  46460101\n",
       "854  chr21  47606267  47806329       YBEY  chr21  47606267  47806329\n",
       "\n",
       "[855 rows x 7 columns]"
      ]
     },
     "execution_count": 29,
     "metadata": {},
     "output_type": "execute_result"
    }
   ],
   "source": [
    "m.merge(g, on=3)"
   ]
  },
  {
   "cell_type": "code",
   "execution_count": null,
   "id": "04e0ff82",
   "metadata": {},
   "outputs": [],
   "source": []
  }
 ],
 "metadata": {
  "kernelspec": {
   "display_name": "Python 3 (ipykernel)",
   "language": "python",
   "name": "python3"
  },
  "language_info": {
   "codemirror_mode": {
    "name": "ipython",
    "version": 3
   },
   "file_extension": ".py",
   "mimetype": "text/x-python",
   "name": "python",
   "nbconvert_exporter": "python",
   "pygments_lexer": "ipython3",
   "version": "3.8.8"
  }
 },
 "nbformat": 4,
 "nbformat_minor": 5
}
