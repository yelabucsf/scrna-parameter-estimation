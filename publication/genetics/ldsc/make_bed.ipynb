{
 "cells": [
  {
   "cell_type": "code",
   "execution_count": 6,
   "id": "5a0be5ae",
   "metadata": {},
   "outputs": [],
   "source": [
    "import pandas as pd"
   ]
  },
  {
   "cell_type": "code",
   "execution_count": 7,
   "id": "3b751271",
   "metadata": {},
   "outputs": [],
   "source": [
    "data_path = '/data_volume/memento/lupus/ldsc/'"
   ]
  },
  {
   "cell_type": "code",
   "execution_count": 8,
   "id": "23f61735",
   "metadata": {},
   "outputs": [],
   "source": [
    "cts =['T8', 'T4', 'NK', 'ncM', 'cM', 'B']\n"
   ]
  },
  {
   "cell_type": "markdown",
   "id": "a218dfd3",
   "metadata": {},
   "source": [
    "### Read the gene loc file"
   ]
  },
  {
   "cell_type": "code",
   "execution_count": 9,
   "id": "032053db",
   "metadata": {},
   "outputs": [],
   "source": [
    "gene_loc = pd.read_table(data_path + 'resources/gene_locs.txt')"
   ]
  },
  {
   "cell_type": "code",
   "execution_count": 10,
   "id": "32d0258d",
   "metadata": {},
   "outputs": [],
   "source": [
    "# Add 100k window\n",
    "gene_loc['start'] = (gene_loc['start'] - 100000).clip(lower=0)\n",
    "gene_loc['end'] = gene_loc['end'] + 100000"
   ]
  },
  {
   "cell_type": "markdown",
   "id": "d11f9404",
   "metadata": {},
   "source": [
    "### Get egenes and make bedfiles for memento"
   ]
  },
  {
   "cell_type": "code",
   "execution_count": 15,
   "id": "1b6cb5a7",
   "metadata": {},
   "outputs": [
    {
     "name": "stdout",
     "output_type": "stream",
     "text": [
      "eur T8\n",
      "eur T4\n",
      "eur NK\n",
      "eur ncM\n",
      "eur cM\n",
      "eur B\n",
      "asian T8\n",
      "asian T4\n",
      "asian NK\n",
      "asian ncM\n",
      "asian cM\n",
      "asian B\n",
      "both T8\n",
      "overlap 7586 21554 36615\n",
      "both T4\n",
      "overlap 11551 43468 33261\n",
      "both NK\n",
      "overlap 5189 15947 15377\n",
      "both ncM\n",
      "overlap 8971 26306 26349\n",
      "both cM\n",
      "overlap 23383 65487 66853\n",
      "both B\n",
      "overlap 7410 21447 23697\n"
     ]
    }
   ],
   "source": [
    "for pop in ['eur', 'asian','both']:\n",
    "    for ct in cts:\n",
    "        print(pop, ct)\n",
    "        if pop == 'both':\n",
    "            result1 = pd.read_csv('/data_volume/memento/lupus/full_analysis/memento/100kb/{}_{}.csv'.format('eur', ct)).query('FDR < 0.05')\n",
    "            result2 = pd.read_csv('/data_volume/memento/lupus/full_analysis/memento/100kb/{}_{}.csv'.format('asian', ct)).query('FDR < 0.05')\n",
    "            combined = result1.merge(result2, on=['SNP', 'gene'])\n",
    "            combined[['gene']].drop_duplicates().to_csv(data_path + 'egenes/memento/{}_{}.txt'.format(pop, ct),index=False, header=False, sep='\\t')\n",
    "            print('overlap', combined.shape[0], result1.shape[0], result2.shape[0])\n",
    "        else:\n",
    "            result = pd.read_csv('/data_volume/memento/lupus/full_analysis/memento/100kb/{}_{}.csv'.format(pop, ct))\n",
    "            result.query('FDR < 0.05')[['gene']].drop_duplicates().to_csv(data_path + 'egenes/memento/{}_{}.txt'.format(pop, ct),index=False, header=False, sep='\\t')        "
   ]
  },
  {
   "cell_type": "code",
   "execution_count": 8,
   "id": "8d871858",
   "metadata": {},
   "outputs": [],
   "source": [
    "for pop in ['eur', 'asian', 'both']:\n",
    "    for ct in cts:\n",
    "        egenes = pd.read_table(data_path + 'egenes/memento/{}_{}.txt'.format(pop, ct), header=None).iloc[:, 0].tolist()\n",
    "        gene_loc.query('name in @egenes')[['chr', 'start', 'end', 'name']].to_csv(data_path + 'bedfiles/memento/{}_{}.bed'.format(pop, ct), index=False, header=False, sep='\\t')"
   ]
  },
  {
   "cell_type": "markdown",
   "id": "b105b838",
   "metadata": {},
   "source": [
    "### Get egenes and make bedfiles for matrix eqtl"
   ]
  },
  {
   "cell_type": "code",
   "execution_count": 14,
   "id": "51c5c2d3",
   "metadata": {},
   "outputs": [
    {
     "name": "stdout",
     "output_type": "stream",
     "text": [
      "both T8\n",
      "overlap 3039 6542 10536\n",
      "both T4\n",
      "overlap 3916 14369 10396\n",
      "both NK\n",
      "overlap 844 3357 2823\n",
      "both ncM\n",
      "overlap 3849 10413 10072\n",
      "both cM\n",
      "overlap 9142 24867 27078\n",
      "both B\n",
      "overlap 1519 3283 6168\n"
     ]
    }
   ],
   "source": [
    "for pop in ['both']:\n",
    "    for ct in cts:\n",
    "        print(pop, ct)\n",
    "        if pop == 'both':\n",
    "            result1 = pd.read_table('/data_volume/memento/lupus/full_analysis/mateqtl/outputs/{}_{}_all_hg19.csv'.format('eur', ct)).query('FDR < 0.05')\n",
    "            result2 = pd.read_table('/data_volume/memento/lupus/full_analysis/mateqtl/outputs/{}_{}_all_hg19.csv'.format('asian', ct)).query('FDR < 0.05')\n",
    "            combined = result1.merge(result2, on=['SNP', 'gene'])\n",
    "            combined[['gene']].drop_duplicates().to_csv(data_path + 'egenes/mateqtl/{}_{}.txt'.format(pop, ct),index=False, header=False, sep='\\t')\n",
    "            print('overlap', combined.shape[0], result1.shape[0], result2.shape[0])\n",
    "\n",
    "        else:\n",
    "            result = pd.read_table('/data_volume/memento/lupus/full_analysis/mateqtl/outputs/{}_{}_all_hg19.csv'.format(pop, ct))\n",
    "            result.query('FDR < 0.05')[['gene']].drop_duplicates().to_csv(data_path + 'egenes/mateqtl/{}_{}.txt'.format(pop, ct),index=False, header=False, sep='\\t')        "
   ]
  },
  {
   "cell_type": "code",
   "execution_count": 12,
   "id": "dee81ede",
   "metadata": {},
   "outputs": [],
   "source": [
    "cts =['T8', 'T4', 'NK', 'ncM', 'cM', 'B']\n",
    "for pop in ['eur', 'asian', 'both']:\n",
    "    for ct in cts:\n",
    "        egenes = pd.read_table(data_path + 'egenes/mateqtl/{}_{}.txt'.format(pop, ct), header=None).iloc[:, 0].tolist()\n",
    "        gene_loc.query('name in @egenes')[['chr', 'start', 'end', 'name']].to_csv(data_path + 'bedfiles/mateqtl/{}_{}.bed'.format(pop, ct), index=False, header=False, sep='\\t')"
   ]
  },
  {
   "cell_type": "markdown",
   "id": "3ee55e17",
   "metadata": {},
   "source": [
    "### Get \"egenes\" and make bedfile for all expressed genes"
   ]
  },
  {
   "cell_type": "code",
   "execution_count": 16,
   "id": "65c6b51a",
   "metadata": {},
   "outputs": [],
   "source": [
    "all_genes = set()\n",
    "for pop in ['asian', 'eur']:\n",
    "    for ct in cts:\n",
    "        result = pd.read_csv('/data_volume/memento/lupus/full_analysis/memento/100kb/{}_{}.csv'.format(pop, ct))\n",
    "        all_genes |= set(result['gene'])\n",
    "gene_loc.query('name in @all_genes')[['chr', 'start', 'end', 'name']].to_csv(data_path + 'bedfiles/pbmc.bed'.format(pop, ct), index=False, header=False, sep='\\t')"
   ]
  }
 ],
 "metadata": {
  "kernelspec": {
   "display_name": "Python 3 (ipykernel)",
   "language": "python",
   "name": "python3"
  },
  "language_info": {
   "codemirror_mode": {
    "name": "ipython",
    "version": 3
   },
   "file_extension": ".py",
   "mimetype": "text/x-python",
   "name": "python",
   "nbconvert_exporter": "python",
   "pygments_lexer": "ipython3",
   "version": "3.8.8"
  }
 },
 "nbformat": 4,
 "nbformat_minor": 5
}
