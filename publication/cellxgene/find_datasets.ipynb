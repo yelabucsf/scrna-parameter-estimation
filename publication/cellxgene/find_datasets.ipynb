{
 "cells": [
  {
   "cell_type": "code",
   "execution_count": 1,
   "id": "93927da4-77bb-4e01-9661-6daa399f60b1",
   "metadata": {
    "tags": []
   },
   "outputs": [],
   "source": [
    "import concurrent\n",
    "import gc\n",
    "import logging\n",
    "import multiprocessing\n",
    "import os\n",
    "import sys\n",
    "from concurrent import futures\n",
    "import time\n",
    "\n",
    "import numpy as np\n",
    "import pandas as pd\n",
    "import pyarrow as pa\n",
    "import scipy.sparse\n",
    "import scipy.sparse\n",
    "import tiledb\n",
    "import seaborn as sns\n",
    "import tiledbsoma as soma\n",
    "from somacore import ExperimentAxisQuery, AxisQuery\n",
    "from tiledb import ZstdFilter, ArraySchema, Domain, Dim, Attr, FilterList\n",
    "import statsmodels.api as sm"
   ]
  },
  {
   "cell_type": "code",
   "execution_count": 2,
   "id": "31512404-2831-4304-a20d-3cd300f6e20e",
   "metadata": {
    "tags": []
   },
   "outputs": [],
   "source": [
    "import sys\n",
    "sys.path.append('/home/ubuntu/Github/scrna-parameter-estimation/')\n",
    "import memento"
   ]
  },
  {
   "cell_type": "code",
   "execution_count": 11,
   "id": "def679a2-02ed-47d4-9d9b-3d4b685dfea7",
   "metadata": {
    "tags": []
   },
   "outputs": [],
   "source": [
    "def treatment_assignment(row):\n",
    "\n",
    "    ct = row['cell_type']\n",
    "    if 'plasma' in ct:\n",
    "        return 'pdc'\n",
    "    if 'conven' in ct or 'myeloid' in ct:\n",
    "        return 'cdc'\n",
    "    else:\n",
    "        return 'unknown'"
   ]
  },
  {
   "cell_type": "code",
   "execution_count": 3,
   "id": "869c901d-7498-46a5-a8f8-0f7680587c5c",
   "metadata": {
    "tags": []
   },
   "outputs": [],
   "source": [
    "dataset_ids_to_query = ['c7775e88-49bf-4ba2-a03b-93f00447c958', '218acb0f-9f2f-4f76-b90b-15a4b7c7f629', '4c4cd77c-8fee-4836-9145-16562a8782fe']\n",
    "dataset_query = '('\n",
    "for idx, di in enumerate(dataset_ids_to_query): \n",
    "    dataset_query += f'dataset_id == \"{di}\" '\n",
    "    if idx != len(dataset_ids_to_query)-1:\n",
    "        dataset_query += 'or '\n",
    "dataset_query += ')'\n",
    "\n",
    "celltypes_to_query = [\n",
    "    'conventional dendritic cell',\n",
    "    'plasmacytoid dendritic cell',\n",
    "    'conventional dendritic cell',\n",
    "    'plasmacytoid dendritic cell, human',\n",
    "    'dendritic cell',\n",
    "    'dendritic cell, human',\n",
    "    'myeloid dendritic cell',\n",
    "    'plasmacytoid dendritic cell']\n",
    "celltype_query = '('\n",
    "for idx, ct in enumerate(celltypes_to_query): \n",
    "    celltype_query += f'cell_type == \"{ct}\" '\n",
    "    if idx != len(celltypes_to_query)-1:\n",
    "        celltype_query += 'or '\n",
    "celltype_query += ')'\n",
    "\n",
    "OBS_VALUE_FILTER_1 = dataset_query # All cells in three datasets\n",
    "OBS_VALUE_FILTER_2 = celltype_query + ' and ' + celltype_query # only relevant celltypes\n",
    "\n",
    "exp_uri = 's3://cellxgene-data-public/cell-census/2023-10-30/soma/census_data/homo_sapiens'\n",
    "layer = \"raw\"\n",
    "measurement_name = \"RNA\"\n",
    "\n",
    "with soma.Experiment.open(uri=exp_uri,\n",
    "                          context=soma.SOMATileDBContext().replace(tiledb_config={\n",
    "                              \"vfs.s3.region\":\"us-west-2\",\n",
    "                              \"vfs.s3.no_sign_request\":True})\n",
    "                          ) as exp:\n",
    "\n",
    "    query = exp.axis_query(measurement_name=measurement_name,\n",
    "                           obs_query=AxisQuery(value_filter=OBS_VALUE_FILTER_2),\n",
    "                           # Note: Must use *all* genes to compute size factors correctly, even when var filter is\n",
    "                           # being used for testing\n",
    "                           var_query=AxisQuery())"
   ]
  },
  {
   "cell_type": "code",
   "execution_count": 4,
   "id": "663d58c1-da0c-4373-8c1e-61d1ee857237",
   "metadata": {
    "tags": []
   },
   "outputs": [],
   "source": []
  },
  {
   "cell_type": "code",
   "execution_count": 5,
   "id": "3ac68057-dae0-4f8f-906e-b45f1fa23be2",
   "metadata": {
    "tags": []
   },
   "outputs": [],
   "source": [
    "obs_df = query.obs().concat().to_pandas()\n",
    "# var_df = query.var().concat().to_pandas()"
   ]
  },
  {
   "cell_type": "code",
   "execution_count": 14,
   "id": "9410335a-2d59-4582-af83-6e758a245d7b",
   "metadata": {
    "tags": []
   },
   "outputs": [],
   "source": [
    "DE_TREATMENT = 'treatment'\n",
    "DE_COVARIATES = ['donor_id']\n",
    "DE_VARIABLES = [DE_TREATMENT] + DE_COVARIATES"
   ]
  },
  {
   "cell_type": "code",
   "execution_count": 16,
   "id": "1219254c-4784-476f-ba50-38ab8ac7f4af",
   "metadata": {
    "tags": []
   },
   "outputs": [],
   "source": [
    "cell_count = obs_df.groupby(['cell_type', 'donor_id']).size().reset_index(name='count')\n",
    "cell_count['treatment'] = cell_count.apply(treatment_assignment, axis=1)\n",
    "\n",
    "names = cell_count[DE_TREATMENT].copy()\n",
    "for col in DE_COVARIATES:\n",
    "    names += '_' + cell_count[col]\n",
    "cell_count['group_name'] = names.tolist()\n",
    "cell_count = cell_count.set_index('group_name')"
   ]
  },
  {
   "cell_type": "code",
   "execution_count": 20,
   "id": "4617e5f0-f0ce-475f-9f9d-c33f87494ade",
   "metadata": {
    "tags": []
   },
   "outputs": [],
   "source": []
  },
  {
   "cell_type": "code",
   "execution_count": 21,
   "id": "223732da-cb67-45f6-8b18-5f39b703365b",
   "metadata": {},
   "outputs": [
    {
     "data": {
      "text/html": [
       "<div>\n",
       "<style scoped>\n",
       "    .dataframe tbody tr th:only-of-type {\n",
       "        vertical-align: middle;\n",
       "    }\n",
       "\n",
       "    .dataframe tbody tr th {\n",
       "        vertical-align: top;\n",
       "    }\n",
       "\n",
       "    .dataframe thead th {\n",
       "        text-align: right;\n",
       "    }\n",
       "</style>\n",
       "<table border=\"1\" class=\"dataframe\">\n",
       "  <thead>\n",
       "    <tr style=\"text-align: right;\">\n",
       "      <th></th>\n",
       "      <th>cell_type</th>\n",
       "      <th>donor_id</th>\n",
       "      <th>count</th>\n",
       "      <th>treatment</th>\n",
       "    </tr>\n",
       "    <tr>\n",
       "      <th>group_name</th>\n",
       "      <th></th>\n",
       "      <th></th>\n",
       "      <th></th>\n",
       "      <th></th>\n",
       "    </tr>\n",
       "  </thead>\n",
       "  <tbody>\n",
       "    <tr>\n",
       "      <th>cdc_1000_1001</th>\n",
       "      <td>conventional dendritic cell</td>\n",
       "      <td>1000_1001</td>\n",
       "      <td>7</td>\n",
       "      <td>cdc</td>\n",
       "    </tr>\n",
       "    <tr>\n",
       "      <th>cdc_1001_1002</th>\n",
       "      <td>conventional dendritic cell</td>\n",
       "      <td>1001_1002</td>\n",
       "      <td>5</td>\n",
       "      <td>cdc</td>\n",
       "    </tr>\n",
       "    <tr>\n",
       "      <th>cdc_1002_1003</th>\n",
       "      <td>conventional dendritic cell</td>\n",
       "      <td>1002_1003</td>\n",
       "      <td>4</td>\n",
       "      <td>cdc</td>\n",
       "    </tr>\n",
       "    <tr>\n",
       "      <th>cdc_1003_1004</th>\n",
       "      <td>conventional dendritic cell</td>\n",
       "      <td>1003_1004</td>\n",
       "      <td>4</td>\n",
       "      <td>cdc</td>\n",
       "    </tr>\n",
       "    <tr>\n",
       "      <th>cdc_1004</th>\n",
       "      <td>conventional dendritic cell</td>\n",
       "      <td>1004</td>\n",
       "      <td>32</td>\n",
       "      <td>cdc</td>\n",
       "    </tr>\n",
       "    <tr>\n",
       "      <th>...</th>\n",
       "      <td>...</td>\n",
       "      <td>...</td>\n",
       "      <td>...</td>\n",
       "      <td>...</td>\n",
       "    </tr>\n",
       "    <tr>\n",
       "      <th>pdc_pt18</th>\n",
       "      <td>plasmacytoid dendritic cell, human</td>\n",
       "      <td>pt18</td>\n",
       "      <td>102</td>\n",
       "      <td>pdc</td>\n",
       "    </tr>\n",
       "    <tr>\n",
       "      <th>pdc_pt19</th>\n",
       "      <td>plasmacytoid dendritic cell, human</td>\n",
       "      <td>pt19</td>\n",
       "      <td>153</td>\n",
       "      <td>pdc</td>\n",
       "    </tr>\n",
       "    <tr>\n",
       "      <th>pdc_pt20</th>\n",
       "      <td>plasmacytoid dendritic cell, human</td>\n",
       "      <td>pt20</td>\n",
       "      <td>15</td>\n",
       "      <td>pdc</td>\n",
       "    </tr>\n",
       "    <tr>\n",
       "      <th>pdc_pt21</th>\n",
       "      <td>plasmacytoid dendritic cell, human</td>\n",
       "      <td>pt21</td>\n",
       "      <td>3</td>\n",
       "      <td>pdc</td>\n",
       "    </tr>\n",
       "    <tr>\n",
       "      <th>pdc_pt22</th>\n",
       "      <td>plasmacytoid dendritic cell, human</td>\n",
       "      <td>pt22</td>\n",
       "      <td>14</td>\n",
       "      <td>pdc</td>\n",
       "    </tr>\n",
       "  </tbody>\n",
       "</table>\n",
       "<p>7751 rows × 4 columns</p>\n",
       "</div>"
      ],
      "text/plain": [
       "                                        cell_type   donor_id  count treatment\n",
       "group_name                                                                   \n",
       "cdc_1000_1001         conventional dendritic cell  1000_1001      7       cdc\n",
       "cdc_1001_1002         conventional dendritic cell  1001_1002      5       cdc\n",
       "cdc_1002_1003         conventional dendritic cell  1002_1003      4       cdc\n",
       "cdc_1003_1004         conventional dendritic cell  1003_1004      4       cdc\n",
       "cdc_1004              conventional dendritic cell       1004     32       cdc\n",
       "...                                           ...        ...    ...       ...\n",
       "pdc_pt18       plasmacytoid dendritic cell, human       pt18    102       pdc\n",
       "pdc_pt19       plasmacytoid dendritic cell, human       pt19    153       pdc\n",
       "pdc_pt20       plasmacytoid dendritic cell, human       pt20     15       pdc\n",
       "pdc_pt21       plasmacytoid dendritic cell, human       pt21      3       pdc\n",
       "pdc_pt22       plasmacytoid dendritic cell, human       pt22     14       pdc\n",
       "\n",
       "[7751 rows x 4 columns]"
      ]
     },
     "execution_count": 21,
     "metadata": {},
     "output_type": "execute_result"
    }
   ],
   "source": [
    "cell_count"
   ]
  },
  {
   "cell_type": "code",
   "execution_count": null,
   "id": "5cc11e5f-6648-475a-b6bd-0767084b8ac3",
   "metadata": {},
   "outputs": [],
   "source": []
  },
  {
   "cell_type": "code",
   "execution_count": 9,
   "id": "bf03bd83-9495-44e0-bd90-c25b7cc211bf",
   "metadata": {
    "tags": []
   },
   "outputs": [],
   "source": [
    "import scanpy as sc"
   ]
  },
  {
   "cell_type": "code",
   "execution_count": 10,
   "id": "5cc6c18f-01dd-4a09-aaa8-d4da1b3ebfbc",
   "metadata": {
    "tags": []
   },
   "outputs": [],
   "source": [
    "# adata = query.to_anndata('raw')"
   ]
  },
  {
   "cell_type": "code",
   "execution_count": 11,
   "id": "f5157923-b083-48c2-bcb0-3c623e033116",
   "metadata": {
    "tags": []
   },
   "outputs": [],
   "source": [
    "# adata.write('temp.h5ad')\n",
    "adata = sc.read_h5ad('temp.h5ad')"
   ]
  },
  {
   "cell_type": "code",
   "execution_count": 36,
   "id": "ec676594-5152-4482-9767-89a30c4d7976",
   "metadata": {
    "tags": []
   },
   "outputs": [],
   "source": [
    "adata.var = adata.var.set_index('feature_id')"
   ]
  },
  {
   "cell_type": "code",
   "execution_count": 43,
   "id": "3806eab8-779d-4c89-9894-f79fb4110959",
   "metadata": {
    "tags": []
   },
   "outputs": [],
   "source": [
    "df = adata.obs.copy()\n",
    "df['expr'] = adata[:, 'ENSG00000002330'].X.toarray().ravel()"
   ]
  },
  {
   "cell_type": "code",
   "execution_count": 49,
   "id": "b98c9fb6-0710-4bf8-8b88-ff657bd83552",
   "metadata": {
    "tags": []
   },
   "outputs": [
    {
     "name": "stderr",
     "output_type": "stream",
     "text": [
      "/tmp/ipykernel_36483/3274465207.py:1: FutureWarning: The default of observed=False is deprecated and will be changed to True in a future version of pandas. Pass observed=False to retain current behavior or observed=True to adopt the future default and silence this warning.\n",
      "  df.query('donor_id == \"1763\"').groupby('cell_type')['expr'].sum()\n"
     ]
    },
    {
     "data": {
      "text/plain": [
       "cell_type\n",
       "B cell                              35.0\n",
       "CD4-positive, alpha-beta T cell     94.0\n",
       "CD8-positive, alpha-beta T cell    270.0\n",
       "classical monocyte                 255.0\n",
       "conventional dendritic cell          8.0\n",
       "lymphocyte                          50.0\n",
       "natural killer cell                 47.0\n",
       "non-classical monocyte              68.0\n",
       "plasmablast                          8.0\n",
       "plasmacytoid dendritic cell          6.0\n",
       "progenitor cell                      0.0\n",
       "Name: expr, dtype: float32"
      ]
     },
     "execution_count": 49,
     "metadata": {},
     "output_type": "execute_result"
    }
   ],
   "source": [
    "df.query('donor_id == \"1763\"').groupby('cell_type')['expr'].sum()"
   ]
  },
  {
   "cell_type": "code",
   "execution_count": 46,
   "id": "a3ff6b5e-0454-49bb-bdd7-72db7deadc57",
   "metadata": {
    "tags": []
   },
   "outputs": [
    {
     "name": "stderr",
     "output_type": "stream",
     "text": [
      "/tmp/ipykernel_36483/1176132240.py:1: FutureWarning: The default of observed=False is deprecated and will be changed to True in a future version of pandas. Pass observed=False to retain current behavior or observed=True to adopt the future default and silence this warning.\n",
      "  df[df['cell_type'].str.contains('dendritic')].groupby(['cell_type', 'donor_id'])['expr'].sum()\n"
     ]
    },
    {
     "data": {
      "text/plain": [
       "cell_type        donor_id\n",
       "B cell           1004        0.0\n",
       "                 1014        0.0\n",
       "                 1015        0.0\n",
       "                 1019        0.0\n",
       "                 1022        0.0\n",
       "                            ... \n",
       "progenitor cell  IGTB1982    0.0\n",
       "                 IGTB1987    0.0\n",
       "                 IGTB1996    0.0\n",
       "                 IGTB2007    0.0\n",
       "                 IGTB2065    0.0\n",
       "Name: expr, Length: 2871, dtype: float32"
      ]
     },
     "execution_count": 46,
     "metadata": {},
     "output_type": "execute_result"
    }
   ],
   "source": [
    "df[df['cell_type'].str.contains('dendritic')].groupby(['cell_type', 'donor_id'])['expr'].sum()"
   ]
  },
  {
   "cell_type": "code",
   "execution_count": 102,
   "id": "581f0c0d-5e3e-4aac-ae0b-d0b86c62a9eb",
   "metadata": {
    "tags": []
   },
   "outputs": [
    {
     "data": {
      "text/plain": [
       "(261,)"
      ]
     },
     "execution_count": 102,
     "metadata": {},
     "output_type": "execute_result"
    }
   ],
   "source": [
    "adata.obs.donor_id.drop_duplicates().shape"
   ]
  },
  {
   "cell_type": "code",
   "execution_count": 12,
   "id": "81b531aa-7ef2-4087-a940-2af63967ae0c",
   "metadata": {
    "tags": []
   },
   "outputs": [
    {
     "data": {
      "text/plain": [
       "(1263676, 60664)"
      ]
     },
     "execution_count": 12,
     "metadata": {},
     "output_type": "execute_result"
    }
   ],
   "source": [
    "adata.shape"
   ]
  },
  {
   "cell_type": "code",
   "execution_count": 10,
   "id": "09da6ca9-3ee0-45dd-9684-dbb147cc635b",
   "metadata": {
    "tags": []
   },
   "outputs": [],
   "source": [
    "adata.var.index = adata.var.feature_id.values"
   ]
  },
  {
   "cell_type": "code",
   "execution_count": null,
   "id": "5b2a41de-74f5-4582-8146-58af13b5a1fc",
   "metadata": {},
   "outputs": [],
   "source": []
  },
  {
   "cell_type": "code",
   "execution_count": 98,
   "id": "fd094d39-84f7-4c0c-a24b-3c34691c5bde",
   "metadata": {
    "tags": []
   },
   "outputs": [
    {
     "data": {
      "text/plain": [
       "donor_id\n",
       "1545        121\n",
       "IGTB195     106\n",
       "IGTB143      93\n",
       "IGTB256      93\n",
       "IGTB1921     92\n",
       "           ... \n",
       "1768         19\n",
       "1886         19\n",
       "IGTB1826     19\n",
       "1614         19\n",
       "HC-563       19\n",
       "Name: count, Length: 100, dtype: int64"
      ]
     },
     "execution_count": 98,
     "metadata": {},
     "output_type": "execute_result"
    }
   ],
   "source": [
    "adata.obs.query('cell_type == \"plasmacytoid dendritic cell\"').donor_id.value_counts().head(100)"
   ]
  },
  {
   "cell_type": "code",
   "execution_count": 99,
   "id": "32ad79eb-23e6-4b0b-a5f2-4cc94d476efc",
   "metadata": {
    "tags": []
   },
   "outputs": [],
   "source": [
    "X1 = adata[(adata.obs['donor_id'] == '1614') & (adata.obs['cell_type'] == 'plasmacytoid dendritic cell')].X.toarray()\n",
    "X2 = adata[(adata.obs['donor_id'] == '1614') & (adata.obs['cell_type'] == 'conventional dendritic cell')].X.toarray()\n",
    "\n",
    "\n",
    "sf1 = X1.sum(axis=1)\n",
    "sf2 = X2.sum(axis=1)\n",
    "m1 = (X1/sf1.reshape(-1,1)).mean(axis=0)\n",
    "m2 = (X2/sf2.reshape(-1,1)).mean(axis=0)\n",
    "\n",
    "idx = (m1>0) & (m2>0)\n",
    "m1 = m1[idx]\n",
    "m2 = m2[idx]"
   ]
  },
  {
   "cell_type": "code",
   "execution_count": 100,
   "id": "7211918c-9fb0-4e17-8576-75f4a601d1bf",
   "metadata": {
    "tags": []
   },
   "outputs": [
    {
     "data": {
      "text/plain": [
       "array([2.65596464e-05, 1.37670895e-05, 1.28213351e-05, ...,\n",
       "       2.76242008e-05, 4.52161330e-05, 3.29978539e-05], dtype=float32)"
      ]
     },
     "execution_count": 100,
     "metadata": {},
     "output_type": "execute_result"
    }
   ],
   "source": [
    "m1"
   ]
  },
  {
   "cell_type": "code",
   "execution_count": 101,
   "id": "91305450-762d-4c82-ac1e-d2a2d34d763d",
   "metadata": {
    "tags": []
   },
   "outputs": [
    {
     "data": {
      "text/plain": [
       "<Axes: ylabel='Density'>"
      ]
     },
     "execution_count": 101,
     "metadata": {},
     "output_type": "execute_result"
    },
    {
     "data": {
      "image/png": "[encoded data removed]",
      "text/plain": [
       "<Figure size 640x480 with 1 Axes>"
      ]
     },
     "metadata": {},
     "output_type": "display_data"
    }
   ],
   "source": [
    "sns.kdeplot(np.log(m1/m2))"
   ]
  },
  {
   "cell_type": "code",
   "execution_count": 87,
   "id": "9c9d5cff-786c-4bf3-96c2-736ac5d27dac",
   "metadata": {
    "tags": []
   },
   "outputs": [
    {
     "data": {
      "text/plain": [
       "(160, 60664)"
      ]
     },
     "execution_count": 87,
     "metadata": {},
     "output_type": "execute_result"
    }
   ],
   "source": [
    "X2.shape"
   ]
  },
  {
   "cell_type": "code",
   "execution_count": 88,
   "id": "8fe67af7-eb2d-4735-a226-26ea9f41cc5b",
   "metadata": {
    "tags": []
   },
   "outputs": [
    {
     "data": {
      "text/plain": [
       "(92, 60664)"
      ]
     },
     "execution_count": 88,
     "metadata": {},
     "output_type": "execute_result"
    }
   ],
   "source": [
    "X1.shape"
   ]
  },
  {
   "cell_type": "code",
   "execution_count": 89,
   "id": "a2adcc76-cd0e-41cd-bfc0-896b9c791fcd",
   "metadata": {
    "tags": []
   },
   "outputs": [
    {
     "data": {
      "text/plain": [
       "<Axes: ylabel='Density'>"
      ]
     },
     "execution_count": 89,
     "metadata": {},
     "output_type": "execute_result"
    },
    {
     "data": {
      "image/png": "[encoded data removed]",
      "text/plain": [
       "<Figure size 640x480 with 1 Axes>"
      ]
     },
     "metadata": {},
     "output_type": "display_data"
    }
   ],
   "source": [
    "sns.kdeplot(np.log(m1))\n",
    "sns.kdeplot(np.log(m2))"
   ]
  },
  {
   "cell_type": "code",
   "execution_count": 12,
   "id": "d9d1f8c6-7950-4fca-a45b-e59fef45614a",
   "metadata": {
    "tags": []
   },
   "outputs": [
    {
     "data": {
      "text/plain": [
       "(60, 60664)"
      ]
     },
     "execution_count": 12,
     "metadata": {},
     "output_type": "execute_result"
    }
   ],
   "source": [
    "adata[(adata.obs['donor_id'] == '1031') & (adata.obs['cell_type'] == 'conventional dendritic cell')].X.todense().shape\n"
   ]
  },
  {
   "cell_type": "code",
   "execution_count": 13,
   "id": "9ed3efd3-6921-4aa5-8319-6d58d2c819aa",
   "metadata": {
    "tags": []
   },
   "outputs": [],
   "source": [
    "def run_memento(ct1, ct2):\n",
    "    \n",
    "    adata = all_adata[all_adata.obs['cell_type'].isin([ct1, ct2])].copy().copy()\n",
    "\n",
    "    adata.obs['q'] = 0.07\n",
    "    memento.setup_memento(adata, q_column='q', trim_percent=1, filter_mean_thresh=0.01, shrinkage=0)\n",
    "    memento.create_groups(adata, label_columns=['cell_type', 'donor_id'])\n",
    "    memento.compute_1d_moments(adata, min_perc_group=.7)\n",
    "\n",
    "    meta_df = memento.get_groups(adata)\n",
    "    meta_df['intercept'] = 1\n",
    "    covariate = meta_df[['intercept']]\n",
    "    treatment = (meta_df[['cell_type']] == ct2).astype(float)\n",
    "        \n",
    "\n",
    "    memento.ht_1d_moments(\n",
    "        adata, \n",
    "        covariate=covariate,\n",
    "        treatment=treatment, \n",
    "        num_boot=5000, \n",
    "        verbose=1,\n",
    "        num_cpus=13,\n",
    "        resample_rep=False,\n",
    "        approx=True)\n",
    "    memento_results = memento.get_1d_ht_result(adata)\n",
    "    \n",
    "    return memento_results"
   ]
  },
  {
   "cell_type": "code",
   "execution_count": 39,
   "id": "fe72dba1-15c8-4fbf-adaa-e1a1f128df2c",
   "metadata": {
    "tags": []
   },
   "outputs": [],
   "source": [
    "adata = sc.read_h5ad('temp.h5ad')"
   ]
  },
  {
   "cell_type": "code",
   "execution_count": 40,
   "id": "dd321d57-cfb9-4e93-8a9d-3bc8a9877603",
   "metadata": {
    "tags": []
   },
   "outputs": [],
   "source": [
    "donor_list = [\n",
    "    '1004',\n",
    " '1014',\n",
    " '1015',\n",
    " '1019',\n",
    "    \n",
    "    \n",
    "    \n",
    " '1022',\n",
    " '1031',\n",
    "    \n",
    "    \n",
    "    \n",
    " '1039',\n",
    " '1045',\n",
    " '1046',\n",
    " '1051',\n",
    " '1054',\n",
    " '1056',\n",
    " '1063',\n",
    "]"
   ]
  },
  {
   "cell_type": "code",
   "execution_count": 41,
   "id": "253afd45-fd1b-4cb4-a40e-c3a9419c84d6",
   "metadata": {
    "tags": []
   },
   "outputs": [],
   "source": [
    "test_adata = adata[(adata.obs['donor_id'].isin(donor_list)) ].copy().copy()"
   ]
  },
  {
   "cell_type": "code",
   "execution_count": 42,
   "id": "e5f724d7-3e33-4f39-9a8c-11b87c7d44fc",
   "metadata": {
    "tags": []
   },
   "outputs": [
    {
     "name": "stderr",
     "output_type": "stream",
     "text": [
      "/tmp/ipykernel_196051/193996687.py:2: ImplicitModificationWarning: Trying to modify attribute `.obs` of view, initializing view as actual.\n",
      "  test_adata.obs['q'] = 0.07\n"
     ]
    }
   ],
   "source": [
    "test_adata = test_adata[test_adata.obs['cell_type'].isin(['plasmacytoid dendritic cell',  'conventional dendritic cell'])]\n",
    "test_adata.obs['q'] = 0.07\n",
    "memento.setup_memento(test_adata, q_column='q', trim_percent=1, filter_mean_thresh=0.01, shrinkage=0, )"
   ]
  },
  {
   "cell_type": "code",
   "execution_count": 47,
   "id": "a75ab621-9954-41a5-8f8d-cdae4f327770",
   "metadata": {
    "tags": []
   },
   "outputs": [],
   "source": [
    "memento.create_groups(test_adata, label_columns=['cell_type', 'donor_id'])\n",
    "memento.compute_1d_moments(test_adata, min_perc_group=.6)"
   ]
  },
  {
   "cell_type": "code",
   "execution_count": 48,
   "id": "21129a3e-95f2-43ab-8e07-991b56202ae7",
   "metadata": {
    "tags": []
   },
   "outputs": [],
   "source": [
    "meta_df = memento.get_groups(test_adata).astype(str)\n",
    "# meta_df['intercept'] = 1\n",
    "treatment = (meta_df[['cell_type']] == 'conventional dendritic cell').astype(float)\n",
    "covariate = pd.get_dummies(meta_df[['donor_id']], drop_first=True)\n",
    "\n",
    "covariate -= covariate.mean(axis=0)\n",
    "\n",
    "interaction_df = covariate*treatment[['cell_type']].values\n",
    "interaction_df.columns=[f'interaction_{col}' for col in covariate.columns]\n",
    "\n",
    "covariate = pd.concat([covariate, interaction_df], axis=1)\n",
    "covariate = sm.add_constant(covariate)\n",
    "\n"
   ]
  },
  {
   "cell_type": "code",
   "execution_count": 49,
   "id": "0c1b4ef1-f736-41a2-a18c-aafe76446eb1",
   "metadata": {
    "tags": []
   },
   "outputs": [
    {
     "name": "stderr",
     "output_type": "stream",
     "text": [
      "[Parallel(n_jobs=13)]: Using backend LokyBackend with 13 concurrent workers.\n",
      "[Parallel(n_jobs=13)]: Done  24 tasks      | elapsed:    0.6s\n",
      "[Parallel(n_jobs=13)]: Done 322 tasks      | elapsed:    5.9s\n",
      "[Parallel(n_jobs=13)]: Done 467 out of 467 | elapsed:    8.5s finished\n"
     ]
    }
   ],
   "source": [
    "memento.ht_1d_moments(\n",
    "    test_adata, \n",
    "    covariate=covariate,\n",
    "    treatment=treatment, \n",
    "    num_boot=5000, \n",
    "    verbose=1,\n",
    "    num_cpus=13,\n",
    "    resample_rep=False,\n",
    "    approx=True)\n",
    "memento_results = memento.get_1d_ht_result(test_adata)"
   ]
  },
  {
   "cell_type": "code",
   "execution_count": 50,
   "id": "eb07cee0-a23b-4d08-89bf-f4ae5f473498",
   "metadata": {
    "tags": []
   },
   "outputs": [
    {
     "data": {
      "text/plain": [
       "<Axes: >"
      ]
     },
     "execution_count": 50,
     "metadata": {},
     "output_type": "execute_result"
    },
    {
     "data": {
      "image/png": "[encoded data removed]",
      "text/plain": [
       "<Figure size 640x480 with 1 Axes>"
      ]
     },
     "metadata": {},
     "output_type": "display_data"
    }
   ],
   "source": [
    "memento_results['de_pval'].hist(density=True)"
   ]
  },
  {
   "cell_type": "code",
   "execution_count": null,
   "id": "f0267768-dbc2-4d58-99c0-3724f3a02a24",
   "metadata": {},
   "outputs": [],
   "source": []
  },
  {
   "cell_type": "code",
   "execution_count": null,
   "id": "4fd57973-d6df-4647-9429-5e5247042cb3",
   "metadata": {},
   "outputs": [],
   "source": []
  },
  {
   "cell_type": "code",
   "execution_count": null,
   "id": "490c6570-4b78-465b-a7c8-540eb199900b",
   "metadata": {},
   "outputs": [],
   "source": []
  },
  {
   "cell_type": "code",
   "execution_count": null,
   "id": "f1fd0c2a-bede-4ca4-853d-2e7bb59301ab",
   "metadata": {},
   "outputs": [],
   "source": []
  },
  {
   "cell_type": "code",
   "execution_count": null,
   "id": "07dab241-5340-4439-abcf-dcdc2f9600f6",
   "metadata": {},
   "outputs": [],
   "source": []
  },
  {
   "cell_type": "code",
   "execution_count": null,
   "id": "38c4b352-3ece-4d90-9fee-7f6163d4a903",
   "metadata": {},
   "outputs": [],
   "source": []
  },
  {
   "cell_type": "code",
   "execution_count": null,
   "id": "bb46eccd-1b53-4514-87b1-310a32bf2868",
   "metadata": {},
   "outputs": [],
   "source": []
  },
  {
   "cell_type": "code",
   "execution_count": null,
   "id": "41cf37f9-a5d9-4965-9d77-04a2ffb1208c",
   "metadata": {},
   "outputs": [],
   "source": []
  },
  {
   "cell_type": "code",
   "execution_count": 104,
   "id": "0fe9c080-a0a7-4967-957e-7fc45dfb66c5",
   "metadata": {
    "tags": []
   },
   "outputs": [
    {
     "name": "stdout",
     "output_type": "stream",
     "text": [
      "The autoreload extension is already loaded. To reload it, use:\n",
      "  %reload_ext autoreload\n"
     ]
    }
   ],
   "source": [
    "%load_ext autoreload"
   ]
  },
  {
   "cell_type": "code",
   "execution_count": 105,
   "id": "7e49cbf3-a359-4d97-89f7-76d736225548",
   "metadata": {
    "tags": []
   },
   "outputs": [],
   "source": [
    "%autoreload 2"
   ]
  },
  {
   "cell_type": "code",
   "execution_count": 50,
   "id": "a039504e-eacd-438d-97bc-0d53fd13633d",
   "metadata": {
    "tags": []
   },
   "outputs": [
    {
     "name": "stderr",
     "output_type": "stream",
     "text": [
      "[Parallel(n_jobs=13)]: Using backend LokyBackend with 13 concurrent workers.\n",
      "[Parallel(n_jobs=13)]: Done  24 tasks      | elapsed:    0.1s\n",
      "[Parallel(n_jobs=13)]: Done 950 tasks      | elapsed:    1.8s\n",
      "[Parallel(n_jobs=13)]: Done 2382 out of 2407 | elapsed:    4.3s remaining:    0.0s\n",
      "[Parallel(n_jobs=13)]: Done 2407 out of 2407 | elapsed:    4.3s finished\n"
     ]
    }
   ],
   "source": [
    "mem_result = run_memento('plasmacytoid dendritic cell',  'conventional dendritic cell')"
   ]
  },
  {
   "cell_type": "code",
   "execution_count": 52,
   "id": "456de74b-ae1b-43d3-99b1-94734631f8b6",
   "metadata": {
    "tags": []
   },
   "outputs": [
    {
     "data": {
      "text/plain": [
       "<Axes: >"
      ]
     },
     "execution_count": 52,
     "metadata": {},
     "output_type": "execute_result"
    },
    {
     "data": {
      "image/png": "[encoded data removed]",
      "text/plain": [
       "<Figure size 640x480 with 1 Axes>"
      ]
     },
     "metadata": {},
     "output_type": "display_data"
    }
   ],
   "source": [
    "mem_result['de_pval'].hist(density=True)"
   ]
  },
  {
   "cell_type": "code",
   "execution_count": 10,
   "id": "e9ffbbba-fc8a-4311-85f5-302d2ffdf18d",
   "metadata": {
    "tags": []
   },
   "outputs": [],
   "source": [
    "counts = obs_df.groupby(['dataset_id', 'cell_type']).size().reset_index(name='count')"
   ]
  },
  {
   "cell_type": "code",
   "execution_count": 30,
   "id": "79c36354-0939-4835-a9dc-0527fa617541",
   "metadata": {
    "tags": []
   },
   "outputs": [
    {
     "data": {
      "text/plain": [
       "AnnData object with n_obs × n_vars = 362619 × 60664\n",
       "    obs: 'soma_joinid', 'dataset_id', 'assay', 'assay_ontology_term_id', 'cell_type', 'cell_type_ontology_term_id', 'development_stage', 'development_stage_ontology_term_id', 'disease', 'disease_ontology_term_id', 'donor_id', 'is_primary_data', 'self_reported_ethnicity', 'self_reported_ethnicity_ontology_term_id', 'sex', 'sex_ontology_term_id', 'suspension_type', 'tissue', 'tissue_ontology_term_id', 'tissue_general', 'tissue_general_ontology_term_id', 'raw_sum', 'nnz', 'raw_mean_nnz', 'raw_variance_nnz', 'n_measured_vars'\n",
       "    var: 'soma_joinid', 'feature_id', 'feature_name', 'feature_length', 'nnz', 'n_measured_obs'"
      ]
     },
     "execution_count": 30,
     "metadata": {},
     "output_type": "execute_result"
    }
   ],
   "source": [
    "adata"
   ]
  },
  {
   "cell_type": "code",
   "execution_count": 14,
   "id": "04073c3a-be43-445d-ad10-eaef5772180a",
   "metadata": {
    "tags": []
   },
   "outputs": [
    {
     "data": {
      "text/plain": [
       "(5233, 60664)"
      ]
     },
     "execution_count": 14,
     "metadata": {},
     "output_type": "execute_result"
    }
   ],
   "source": [
    "adata[(adata.obs['cell_type'] == 'plasmacytoid dendritic cell')].shape"
   ]
  },
  {
   "cell_type": "code",
   "execution_count": 67,
   "id": "e564dcf3-2577-4590-a866-fe8f4444d30a",
   "metadata": {
    "tags": []
   },
   "outputs": [],
   "source": [
    "counts = obs_df.groupby(['dataset_id', 'cell_type']).size().reset_index(name='count')"
   ]
  },
  {
   "cell_type": "code",
   "execution_count": 68,
   "id": "069879da-18b7-4bff-afb4-0ba8b39233cf",
   "metadata": {
    "tags": []
   },
   "outputs": [
    {
     "data": {
      "text/html": [
       "<div>\n",
       "<style scoped>\n",
       "    .dataframe tbody tr th:only-of-type {\n",
       "        vertical-align: middle;\n",
       "    }\n",
       "\n",
       "    .dataframe tbody tr th {\n",
       "        vertical-align: top;\n",
       "    }\n",
       "\n",
       "    .dataframe thead th {\n",
       "        text-align: right;\n",
       "    }\n",
       "</style>\n",
       "<table border=\"1\" class=\"dataframe\">\n",
       "  <thead>\n",
       "    <tr style=\"text-align: right;\">\n",
       "      <th></th>\n",
       "      <th>dataset_id</th>\n",
       "      <th>cell_type</th>\n",
       "      <th>count</th>\n",
       "    </tr>\n",
       "  </thead>\n",
       "  <tbody>\n",
       "    <tr>\n",
       "      <th>0</th>\n",
       "      <td>218acb0f-9f2f-4f76-b90b-15a4b7c7f629</td>\n",
       "      <td>conventional dendritic cell</td>\n",
       "      <td>18203</td>\n",
       "    </tr>\n",
       "    <tr>\n",
       "      <th>1</th>\n",
       "      <td>218acb0f-9f2f-4f76-b90b-15a4b7c7f629</td>\n",
       "      <td>plasmacytoid dendritic cell</td>\n",
       "      <td>5233</td>\n",
       "    </tr>\n",
       "  </tbody>\n",
       "</table>\n",
       "</div>"
      ],
      "text/plain": [
       "                             dataset_id                    cell_type  count\n",
       "0  218acb0f-9f2f-4f76-b90b-15a4b7c7f629  conventional dendritic cell  18203\n",
       "1  218acb0f-9f2f-4f76-b90b-15a4b7c7f629  plasmacytoid dendritic cell   5233"
      ]
     },
     "execution_count": 68,
     "metadata": {},
     "output_type": "execute_result"
    }
   ],
   "source": [
    "counts.query('dataset_id == \"218acb0f-9f2f-4f76-b90b-15a4b7c7f629\"')"
   ]
  },
  {
   "cell_type": "markdown",
   "id": "d1710e6d-6ad9-4391-86e4-ccbe031e1580",
   "metadata": {},
   "source": [
    "### Composite hypotheses"
   ]
  },
  {
   "cell_type": "code",
   "execution_count": 73,
   "id": "508a6bc7-7168-4c66-87e8-cad89d75c1bb",
   "metadata": {
    "tags": []
   },
   "outputs": [],
   "source": [
    "import scipy.stats as stats\n",
    "import matplotlib.pyplot as plt"
   ]
  },
  {
   "cell_type": "code",
   "execution_count": 213,
   "id": "652c32b9-3f92-4dcf-aadb-839697bae3d7",
   "metadata": {
    "tags": []
   },
   "outputs": [],
   "source": [
    "# ONE SIDED TEST\n",
    "\n",
    "num_trials = 10000\n",
    "num_cells = 500\n",
    "pop_mean = 0.05\n",
    "mu = stats.norm.rvs(loc=0, scale=0.1, size=num_trials )\n",
    "pvalues = np.zeros(num_trials)\n",
    "tstats = np.zeros(num_trials)\n",
    "for trial in range(num_trials):\n",
    "    \n",
    "    data = stats.norm.rvs(loc=mu[trial], scale=1, size=num_cells)\n",
    "    tstat, pval = stats.ttest_1samp(data, pop_mean, alternative='greater')\n",
    "    tstats[trial] = tstat\n",
    "    pvalues[trial] = pval*2\n",
    "    "
   ]
  },
  {
   "cell_type": "code",
   "execution_count": 214,
   "id": "2b5d4241-3fcd-4c48-9605-ba8223336a35",
   "metadata": {
    "tags": []
   },
   "outputs": [
    {
     "data": {
      "image/png": "[encoded data removed]",
      "text/plain": [
       "<Figure size 640x480 with 1 Axes>"
      ]
     },
     "metadata": {},
     "output_type": "display_data"
    }
   ],
   "source": [
    "plt.hist(pvalues[tstats > pop_mean], bins=20);"
   ]
  },
  {
   "cell_type": "code",
   "execution_count": 194,
   "id": "c313d2b3-8a15-4ef5-93e3-b9ba43b49007",
   "metadata": {
    "tags": []
   },
   "outputs": [
    {
     "data": {
      "image/png": "[encoded data removed]",
      "text/plain": [
       "<Figure size 640x480 with 1 Axes>"
      ]
     },
     "metadata": {},
     "output_type": "display_data"
    }
   ],
   "source": [
    "plt.hist(pvalues[tstats > pop_mean], bins=20);"
   ]
  },
  {
   "cell_type": "code",
   "execution_count": null,
   "id": "4074e712-e7cc-41b3-887c-d126087ce29e",
   "metadata": {},
   "outputs": [],
   "source": []
  }
 ],
 "metadata": {
  "kernelspec": {
   "display_name": "mementocxg",
   "language": "python",
   "name": "myenv"
  },
  "language_info": {
   "codemirror_mode": {
    "name": "ipython",
    "version": 3
   },
   "file_extension": ".py",
   "mimetype": "text/x-python",
   "name": "python",
   "nbconvert_exporter": "python",
   "pygments_lexer": "ipython3",
   "version": "3.11.5"
  }
 },
 "nbformat": 4,
 "nbformat_minor": 5
}
