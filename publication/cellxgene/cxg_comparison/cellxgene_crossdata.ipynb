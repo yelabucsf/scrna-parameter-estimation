{
 "cells": [
  {
   "cell_type": "markdown",
   "id": "419ceff7-e2b9-4fbb-ae95-18aaba177cfc",
   "metadata": {},
   "source": [
    "# Memento-CXG cross-dataset showcase"
   ]
  },
  {
   "cell_type": "code",
   "execution_count": 1,
   "id": "cfcf1e00-5588-45d8-a19f-97cc18c80da1",
   "metadata": {
    "tags": []
   },
   "outputs": [],
   "source": [
    "import tiledb\n",
    "import tiledbsoma as soma\n",
    "from somacore import ExperimentAxisQuery, AxisQuery\n",
    "import pandas as pd\n",
    "pd.set_option('display.max_columns', 200)\n",
    "import numpy as np\n",
    "import itertools\n",
    "import seaborn as sns\n",
    "import scipy.stats as stats\n",
    "import matplotlib.pyplot as plt\n",
    "import time\n",
    "import scanpy as sc\n",
    "import statsmodels.api as sm\n",
    "pd.set_option('display.max_rows', 500)"
   ]
  },
  {
   "cell_type": "code",
   "execution_count": 2,
   "id": "06f877ae-4429-4513-a42f-d2704c9940dd",
   "metadata": {
    "tags": []
   },
   "outputs": [],
   "source": [
    "from statsmodels.stats.multitest import fdrcorrection"
   ]
  },
  {
   "cell_type": "code",
   "execution_count": 3,
   "id": "0bf7b060-5048-42d4-a38c-7f610740bf7a",
   "metadata": {
    "tags": []
   },
   "outputs": [],
   "source": [
    "import sys\n",
    "sys.path.append('/home/ubuntu/Github/scrna-parameter-estimation/')\n",
    "import memento"
   ]
  },
  {
   "cell_type": "code",
   "execution_count": 4,
   "id": "d3102312-964c-40f2-a4c5-1fe61d24e233",
   "metadata": {
    "tags": []
   },
   "outputs": [],
   "source": [
    "import matplotlib.pylab as pylab\n",
    "params = {'legend.fontsize': 'medium',\n",
    "         'axes.labelsize': 'medium',\n",
    "         'axes.titlesize':'medium',\n",
    "         'figure.titlesize':'large',\n",
    "         'xtick.labelsize':'small',\n",
    "         'ytick.labelsize':'small'}\n",
    "pylab.rcParams.update(params)"
   ]
  },
  {
   "cell_type": "code",
   "execution_count": 5,
   "id": "f9f0ba2c-8523-4502-9e0b-0c937d975af5",
   "metadata": {
    "tags": []
   },
   "outputs": [],
   "source": [
    "import matplotlib\n",
    "matplotlib.rcParams['pdf.fonttype'] = 42\n",
    "matplotlib.rcParams['ps.fonttype'] = 42"
   ]
  },
  {
   "cell_type": "code",
   "execution_count": 6,
   "id": "1202a753-1a2c-44b2-807a-7ac8a8a1ec99",
   "metadata": {
    "tags": []
   },
   "outputs": [],
   "source": [
    "cube_path = '/home/ubuntu/Github/memento-cxg/'\n",
    "save_path = '/home/ubuntu/Data/mementocxg/'"
   ]
  },
  {
   "cell_type": "markdown",
   "id": "fc2fa55b-3c05-49e3-818b-dca87448712e",
   "metadata": {},
   "source": [
    "### Identify datasets\n",
    "\n",
    "Pick datasets with a few donors, see if combining datasets improve power."
   ]
  },
  {
   "cell_type": "code",
   "execution_count": 44,
   "id": "5c3f26f5-2934-404d-9122-15eb296303a7",
   "metadata": {
    "tags": []
   },
   "outputs": [],
   "source": [
    "dataset_ids_to_query = ['c7775e88-49bf-4ba2-a03b-93f00447c958', '218acb0f-9f2f-4f76-b90b-15a4b7c7f629', '4c4cd77c-8fee-4836-9145-16562a8782fe']\n",
    "dataset_query = '('\n",
    "for idx, di in enumerate(dataset_ids_to_query): \n",
    "    dataset_query += f'dataset_id == \"{di}\" '\n",
    "    if idx != len(dataset_ids_to_query)-1:\n",
    "        dataset_query += 'or '\n",
    "dataset_query += ')'\n",
    "\n",
    "celltypes_to_query = [\n",
    "    'conventional dendritic cell',\n",
    "    'plasmacytoid dendritic cell',\n",
    "    'conventional dendritic cell',\n",
    "    'plasmacytoid dendritic cell, human',\n",
    "    'dendritic cell',\n",
    "    'dendritic cell, human',\n",
    "    'myeloid dendritic cell',\n",
    "    'plasmacytoid dendritic cell']\n",
    "celltype_query = '('\n",
    "for idx, ct in enumerate(celltypes_to_query): \n",
    "    celltype_query += f'cell_type == \"{ct}\" '\n",
    "    if idx != len(celltypes_to_query)-1:\n",
    "        celltype_query += 'or '\n",
    "celltype_query += ')'\n",
    "\n",
    "OBS_VALUE_FILTER_1 = dataset_query # All cells in three datasets\n",
    "OBS_VALUE_FILTER_2 = celltype_query + ' and ' + celltype_query # only relevant celltypes\n",
    "\n",
    "exp_uri = 's3://cellxgene-data-public/cell-census/2023-10-30/soma/census_data/homo_sapiens'\n",
    "layer = \"raw\"\n",
    "measurement_name = \"RNA\"\n",
    "\n",
    "with soma.Experiment.open(uri=exp_uri,\n",
    "                          context=soma.SOMATileDBContext().replace(tiledb_config={\n",
    "                              \"vfs.s3.region\":\"us-west-2\",\n",
    "                              \"vfs.s3.no_sign_request\":True})\n",
    "                          ) as exp:\n",
    "\n",
    "    query = exp.axis_query(measurement_name=measurement_name,\n",
    "                           obs_query=AxisQuery(value_filter=OBS_VALUE_FILTER_2),\n",
    "                           # Note: Must use *all* genes to compute size factors correctly, even when var filter is\n",
    "                           # being used for testing\n",
    "                           var_query=AxisQuery())\n",
    "    whole_query = exp.axis_query(measurement_name=measurement_name,\n",
    "                           obs_query=AxisQuery(value_filter=OBS_VALUE_FILTER_1),\n",
    "                           # Note: Must use *all* genes to compute size factors correctly, even when var filter is\n",
    "                           # being used for testing\n",
    "                           var_query=AxisQuery())\n",
    "obs_df = query.obs().concat().to_pandas()\n",
    "whole_obs_df = whole_query.obs().concat().to_pandas()"
   ]
  },
  {
   "cell_type": "code",
   "execution_count": null,
   "id": "9b96398c-17cf-4e54-8d2b-9b946ef7caca",
   "metadata": {
    "tags": []
   },
   "outputs": [],
   "source": [
    "def treatment_assignment(row):\n",
    "\n",
    "    ct = row['cell_type']\n",
    "    if 'plasma' in ct:\n",
    "        return 'pdc'\n",
    "    if 'conven' in ct or 'myeloid' in ct:\n",
    "        return 'cdc'\n",
    "    else:\n",
    "        return 'unknown'"
   ]
  },
  {
   "cell_type": "code",
   "execution_count": 48,
   "id": "4b989750-436a-47d0-aea1-e880d0552b5b",
   "metadata": {
    "tags": []
   },
   "outputs": [],
   "source": [
    "obs_df['treatment'] = obs_df.apply(treatment_assignment, axis=1)"
   ]
  },
  {
   "cell_type": "code",
   "execution_count": 49,
   "id": "014c8a33-8c77-438c-b4f6-22822236d6b7",
   "metadata": {
    "tags": []
   },
   "outputs": [
    {
     "data": {
      "text/plain": [
       "treatment\n",
       "cdc        0.058642\n",
       "pdc        0.040828\n",
       "unknown    0.086055\n",
       "dtype: float64"
      ]
     },
     "execution_count": 49,
     "metadata": {},
     "output_type": "execute_result"
    }
   ],
   "source": [
    "obs_df.groupby('treatment').size()/whole_obs_df.shape[0]"
   ]
  },
  {
   "cell_type": "code",
   "execution_count": 31,
   "id": "fee845d2-ea50-4217-bacd-cb3d0f346835",
   "metadata": {
    "tags": []
   },
   "outputs": [
    {
     "data": {
      "text/plain": [
       "362619"
      ]
     },
     "execution_count": 31,
     "metadata": {},
     "output_type": "execute_result"
    }
   ],
   "source": [
    "cell_counts['count'].sum()"
   ]
  },
  {
   "cell_type": "code",
   "execution_count": 8,
   "id": "f965e907-0f21-4e01-89b5-cdb2714085c0",
   "metadata": {
    "tags": []
   },
   "outputs": [],
   "source": [
    "cell_counts = obs_df.groupby(['dataset_id', 'donor_id']).size().reset_index(name='count')"
   ]
  },
  {
   "cell_type": "code",
   "execution_count": 9,
   "id": "5538c113-870d-47b1-95cf-e133ee2a1fa5",
   "metadata": {
    "tags": []
   },
   "outputs": [],
   "source": [
    "donor_counts = cell_counts.groupby('dataset_id').donor_id.size().sort_values()\n",
    "relevant_datasets = donor_counts[(donor_counts >= 5) & (donor_counts < 10)].index.tolist()"
   ]
  },
  {
   "cell_type": "markdown",
   "id": "fdba83e7-200f-422f-8a01-11633cfa9308",
   "metadata": {},
   "source": [
    "### Read results and plot"
   ]
  },
  {
   "cell_type": "code",
   "execution_count": 27,
   "id": "7c58a6fd-ca78-42e5-a48f-8b013d4376cd",
   "metadata": {
    "tags": []
   },
   "outputs": [
    {
     "data": {
      "text/plain": [
       "23"
      ]
     },
     "execution_count": 27,
     "metadata": {},
     "output_type": "execute_result"
    }
   ],
   "source": [
    "len(relevant_datasets)"
   ]
  },
  {
   "cell_type": "code",
   "execution_count": 10,
   "id": "851310ba-bca8-48bb-b156-2889a04382e5",
   "metadata": {
    "tags": []
   },
   "outputs": [],
   "source": [
    "relevant_datasets = [\n",
    "    '2672b679-8048-4f5e-9786-f1b196ccfd08',\n",
    "    '86282760-5099-4c71-8cdd-412dcbbbd0b9',\n",
    "    '2872f4b0-b171-46e2-abc6-befcf6de6306',\n",
    "    '644a578d-ffdc-446b-9679-e7ab4c919c13',\n",
    "    '11ff73e8-d3e4-4445-9309-477a2c5be6f6',\n",
    "    '4dd00779-7f73-4f50-89bb-e2d3c6b71b18',\n",
    "    'bd65a70f-b274-4133-b9dd-0d1431b6af34',\n",
    "    'b07fb54c-d7ad-4995-8bb0-8f3d8611cabe',\n",
    "    '3f32121d-126b-4e8d-9f69-d86502d2a1b1',\n",
    "    'a51c6ece-5731-4128-8c1e-5060e80c69e4',\n",
    "    'd7dcfd8f-2ee7-4385-b9ac-e074c23ed190',\n",
    "    '2d31c0ca-0233-41ce-bd1a-05aa8404b073',\n",
    "    '1e5bd3b8-6a0e-4959-8d69-cafed30fe814',\n",
    "    # 'cd4c96bb-ad66-4e83-ba9e-a7df8790eb12',\n",
    "    '44882825-0da1-4547-b721-2c6105d4a9d1',\n",
    "    '4ed927e9-c099-49af-b8ce-a2652d069333',\n",
    "    '00ff600e-6e2e-4d76-846f-0eec4f0ae417',\n",
    "    '105c7dad-0468-4628-a5be-2bb42c6a8ae4',\n",
    "    'c5d88abe-f23a-45fa-a534-788985e93dad',\n",
    "    # 'ed5d841d-6346-47d4-ab2f-7119ad7e3a35',\n",
    "    '53d208b0-2cfd-4366-9866-c3c6114081bc',\n",
    "    '3de0ad6d-4378-4f62-b37b-ec0b75a50d94',\n",
    "    '574e9f9e-f8b4-41ef-bf19-89a9964fd9c7',\n",
    "    '1a2e3350-28a8-4f49-b33c-5b67ceb001f6',\n",
    "    'd3a83885-5198-4b04-8314-b753b66ef9a8']"
   ]
  },
  {
   "cell_type": "code",
   "execution_count": 21,
   "id": "b2bcd4eb-bcc2-417f-a571-800034c5c561",
   "metadata": {
    "tags": []
   },
   "outputs": [],
   "source": [
    "def draw_qq(df_input, thresh=1000, color='gray'):\n",
    "    \n",
    "    df = df_input[df_input[f'pval'] != 1.00].copy()\n",
    "    df = (df[df[f'coef'].abs() < thresh])\n",
    "    pvals = df[f'pval'].sort_values().values\n",
    "    pvals = pvals[np.isfinite(pvals)]\n",
    "    unif = np.linspace(1e-6, 1, len(pvals))\n",
    "    # plt.scatter(unif, pvals, s=1)\n",
    "    plt.scatter(-np.log10(unif), -np.log10(pvals), s=(5 if color=='cyan' else 0.3), color=color)\n",
    "    # plt.plot(-np.log10(unif), -np.log10(unif), color='k')\n",
    "\n"
   ]
  },
  {
   "cell_type": "code",
   "execution_count": 22,
   "id": "e4282a6f-8c2f-4ad7-a423-76ddb2bbd652",
   "metadata": {
    "tags": []
   },
   "outputs": [],
   "source": [
    "result_fnames = ['rare_ct_whole.csv'] + [f'rare_ct_{d_id}.csv' for d_id in relevant_datasets]\n",
    "names = ['whole'] + relevant_datasets"
   ]
  },
  {
   "cell_type": "code",
   "execution_count": 23,
   "id": "0c4efbb7-9097-4cbb-915a-161a26895931",
   "metadata": {
    "tags": []
   },
   "outputs": [],
   "source": [
    "all_results = []\n",
    "common_genes = set()\n",
    "for name, fname in zip(names, result_fnames):\n",
    "    \n",
    "    res = pd.read_csv(save_path + fname).dropna()\n",
    "    if res.shape[0] == 0:\n",
    "        continue\n",
    "    res = res.set_index('feature_id')\n",
    "    if name == 'whole':\n",
    "        common_genes = set(res.index)\n",
    "    else:\n",
    "        common_genes = common_genes & set(res.index)\n",
    "    res['dataset'] = name\n",
    "    all_results.append(res)\n",
    "    # plt.ylim(-1, 10)\n",
    "all_results = pd.concat(all_results).dropna().loc[list(common_genes)]"
   ]
  },
  {
   "cell_type": "code",
   "execution_count": 26,
   "id": "152b3d31-39fb-4e48-8393-5137f85a80c0",
   "metadata": {
    "tags": []
   },
   "outputs": [
    {
     "data": {
      "image/png": "[encoded data removed]",
      "text/plain": [
       "<Figure size 230x200 with 1 Axes>"
      ]
     },
     "metadata": {},
     "output_type": "display_data"
    }
   ],
   "source": [
    "plt.figure(figsize=(2.3,2))\n",
    "for name in names:\n",
    "\n",
    "    draw_qq(all_results.query(f'dataset == \"{name}\" & pval > 1e-31'), color='cyan' if name == 'whole' else 'gray')\n",
    "\n",
    "\n",
    "# draw_qq(all_results.query('dataset == \"d1\"'))\n",
    "# draw_qq(all_results.query('dataset == \"d2\"'))\n",
    "# draw_qq(all_results.query('dataset == \"d3\"'))\n",
    "plt.ylim(-5, 30)\n",
    "plt.xlim(-0.2, 4)\n",
    "plt.plot([0,8], [0, 8],'--', color='k', );\n",
    "plt.xlabel('Expected'); plt.ylabel('Observed\\n-log10(P-value)')\n",
    "plt.savefig('cxg_qq.png', bbox_inches='tight')"
   ]
  },
  {
   "cell_type": "code",
   "execution_count": null,
   "id": "a28fb3bc-572e-4a93-a485-4238adf50719",
   "metadata": {},
   "outputs": [],
   "source": []
  }
 ],
 "metadata": {
  "kernelspec": {
   "display_name": "mementocxg",
   "language": "python",
   "name": "myenv"
  },
  "language_info": {
   "codemirror_mode": {
    "name": "ipython",
    "version": 3
   },
   "file_extension": ".py",
   "mimetype": "text/x-python",
   "name": "python",
   "nbconvert_exporter": "python",
   "pygments_lexer": "ipython3",
   "version": "3.11.5"
  }
 },
 "nbformat": 4,
 "nbformat_minor": 5
}
