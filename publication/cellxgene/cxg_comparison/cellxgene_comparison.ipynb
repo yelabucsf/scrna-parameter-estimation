{
 "cells": [
  {
   "cell_type": "markdown",
   "id": "4452852b-0822-4289-b284-d5c141e1bd5d",
   "metadata": {},
   "source": [
    "# Run memento and compare to estimates from cellxgene estimators"
   ]
  },
  {
   "cell_type": "code",
   "execution_count": 1,
   "id": "5b7fdc75-a9ba-49fd-bc0b-f9fbabbb7d9e",
   "metadata": {
    "tags": []
   },
   "outputs": [],
   "source": [
    "import tiledb\n",
    "import tiledbsoma as soma\n",
    "from somacore import ExperimentAxisQuery, AxisQuery\n",
    "import pandas as pd\n",
    "pd.set_option('display.max_columns', 200)\n",
    "import numpy as np\n",
    "import itertools\n",
    "import seaborn as sns\n",
    "import scipy.stats as stats\n",
    "import matplotlib.pyplot as plt\n",
    "import time\n",
    "import scanpy as sc"
   ]
  },
  {
   "cell_type": "code",
   "execution_count": 2,
   "id": "d2835baf-929c-4a3e-8c21-643f213e1d9a",
   "metadata": {
    "tags": []
   },
   "outputs": [],
   "source": [
    "import sys\n",
    "sys.path.append('/home/ubuntu/Github/scrna-parameter-estimation/')\n",
    "import memento"
   ]
  },
  {
   "cell_type": "code",
   "execution_count": 3,
   "id": "2b196372-286d-4ffe-a121-41bdaba55aca",
   "metadata": {
    "tags": []
   },
   "outputs": [],
   "source": [
    "import matplotlib.pylab as pylab\n",
    "params = {'legend.fontsize': 'medium',\n",
    "         'axes.labelsize': 'medium',\n",
    "         'axes.titlesize':'medium',\n",
    "         'figure.titlesize':'large',\n",
    "         'xtick.labelsize':'small',\n",
    "         'ytick.labelsize':'small'}\n",
    "pylab.rcParams.update(params)"
   ]
  },
  {
   "cell_type": "code",
   "execution_count": 4,
   "id": "d4b7981c-9cc5-4784-a648-36cb63b3166c",
   "metadata": {
    "tags": []
   },
   "outputs": [],
   "source": [
    "import matplotlib\n",
    "matplotlib.rcParams['pdf.fonttype'] = 42\n",
    "matplotlib.rcParams['ps.fonttype'] = 42"
   ]
  },
  {
   "cell_type": "code",
   "execution_count": 5,
   "id": "91e37ae8-7d49-4120-97ff-ee148183d41c",
   "metadata": {},
   "outputs": [],
   "source": [
    "cube_path = '/home/ubuntu/Github/memento-cxg/'\n",
    "save_path = '/home/ubuntu/results/'"
   ]
  },
  {
   "cell_type": "markdown",
   "id": "033081c6-e616-43c6-beb0-255d116b52d0",
   "metadata": {},
   "source": [
    "### Concept diagram"
   ]
  },
  {
   "cell_type": "code",
   "execution_count": 7,
   "id": "9b220dc6-3241-4f2c-9247-812439e6dd99",
   "metadata": {
    "tags": []
   },
   "outputs": [],
   "source": [
    "adata = sc.read('/home/ubuntu/Data/mementocxg/cc4284ca-8118-4b18-b66a-46c279dc56a1.h5ad')"
   ]
  },
  {
   "cell_type": "code",
   "execution_count": 8,
   "id": "41b1835c-6336-45ec-94a3-330fcc6ac95c",
   "metadata": {},
   "outputs": [
    {
     "data": {
      "text/html": [
       "<div>\n",
       "<style scoped>\n",
       "    .dataframe tbody tr th:only-of-type {\n",
       "        vertical-align: middle;\n",
       "    }\n",
       "\n",
       "    .dataframe tbody tr th {\n",
       "        vertical-align: top;\n",
       "    }\n",
       "\n",
       "    .dataframe thead th {\n",
       "        text-align: right;\n",
       "    }\n",
       "</style>\n",
       "<table border=\"1\" class=\"dataframe\">\n",
       "  <thead>\n",
       "    <tr style=\"text-align: right;\">\n",
       "      <th></th>\n",
       "      <th>library_uuid</th>\n",
       "      <th>assay_ontology_term_id</th>\n",
       "      <th>mapped_reference_annotation</th>\n",
       "      <th>is_primary_data</th>\n",
       "      <th>cell_type_ontology_term_id</th>\n",
       "      <th>author_cell_type</th>\n",
       "      <th>cell_state</th>\n",
       "      <th>sample_uuid</th>\n",
       "      <th>tissue_ontology_term_id</th>\n",
       "      <th>development_stage_ontology_term_id</th>\n",
       "      <th>disease_state</th>\n",
       "      <th>suspension_enriched_cell_types</th>\n",
       "      <th>suspension_uuid</th>\n",
       "      <th>suspension_type</th>\n",
       "      <th>donor_id</th>\n",
       "      <th>self_reported_ethnicity_ontology_term_id</th>\n",
       "      <th>organism_ontology_term_id</th>\n",
       "      <th>disease_ontology_term_id</th>\n",
       "      <th>sex_ontology_term_id</th>\n",
       "      <th>Processing_Cohort</th>\n",
       "      <th>ct_cov</th>\n",
       "      <th>ind_cov</th>\n",
       "      <th>cell_type</th>\n",
       "      <th>assay</th>\n",
       "      <th>disease</th>\n",
       "      <th>organism</th>\n",
       "      <th>sex</th>\n",
       "      <th>tissue</th>\n",
       "      <th>self_reported_ethnicity</th>\n",
       "      <th>development_stage</th>\n",
       "    </tr>\n",
       "    <tr>\n",
       "      <th>index</th>\n",
       "      <th></th>\n",
       "      <th></th>\n",
       "      <th></th>\n",
       "      <th></th>\n",
       "      <th></th>\n",
       "      <th></th>\n",
       "      <th></th>\n",
       "      <th></th>\n",
       "      <th></th>\n",
       "      <th></th>\n",
       "      <th></th>\n",
       "      <th></th>\n",
       "      <th></th>\n",
       "      <th></th>\n",
       "      <th></th>\n",
       "      <th></th>\n",
       "      <th></th>\n",
       "      <th></th>\n",
       "      <th></th>\n",
       "      <th></th>\n",
       "      <th></th>\n",
       "      <th></th>\n",
       "      <th></th>\n",
       "      <th></th>\n",
       "      <th></th>\n",
       "      <th></th>\n",
       "      <th></th>\n",
       "      <th></th>\n",
       "      <th></th>\n",
       "      <th></th>\n",
       "    </tr>\n",
       "  </thead>\n",
       "  <tbody>\n",
       "    <tr>\n",
       "      <th>CAAGGCCAGTATCGAA-1-1-0-0-0-0-0-0-0-0-0-0-0-0-0-0-0-0-0-0-0-0-0-0-0-0-0-0-0-0-0-0-0-0-0-0-0-0-0-0-0-0-0-0-0-0-0-0-0-0-0-0-0-0-0-0-0-0-0-0-0-0-0-0-0-0-0-0-1-0-0-0-0-0</th>\n",
       "      <td>3332f018-936e-4c4c-9105-99d9503db5a3</td>\n",
       "      <td>EFO:0009899</td>\n",
       "      <td>GENCODE 19</td>\n",
       "      <td>True</td>\n",
       "      <td>CL:0000624</td>\n",
       "      <td>T4</td>\n",
       "      <td>na</td>\n",
       "      <td>0a1148dc-356f-4dc4-9c32-bf0823257d93</td>\n",
       "      <td>UBERON:0000178</td>\n",
       "      <td>HsapDv:0000122</td>\n",
       "      <td>na</td>\n",
       "      <td>peripheral blood mononuclear cell</td>\n",
       "      <td>cc418a0a-d636-4eca-a44c-db537d30b486</td>\n",
       "      <td>cell</td>\n",
       "      <td>HC-546</td>\n",
       "      <td>HANCESTRO:0008</td>\n",
       "      <td>NCBITaxon:9606</td>\n",
       "      <td>PATO:0000461</td>\n",
       "      <td>PATO:0000383</td>\n",
       "      <td>4.0</td>\n",
       "      <td>T4_naive</td>\n",
       "      <td>HC-546</td>\n",
       "      <td>CD4-positive, alpha-beta T cell</td>\n",
       "      <td>10x 3' v2</td>\n",
       "      <td>normal</td>\n",
       "      <td>Homo sapiens</td>\n",
       "      <td>female</td>\n",
       "      <td>blood</td>\n",
       "      <td>Asian</td>\n",
       "      <td>28-year-old human stage</td>\n",
       "    </tr>\n",
       "    <tr>\n",
       "      <th>CTAACTTCAATGAATG-1-1-0-0-0-0-0-0-0-0-0-0-0-0-0-0-0-0-0-0-0-0-0-0-0-0-0-0-0-0-0-0-0-0-0-0-0-0-0-0-0-0-0-0-0-0-0-0-0-0-0-0-0-0-0-0-0-0-0-0-0-0-0-0-0-0-0-0-0-1-0-0-0-0-0</th>\n",
       "      <td>70a004b7-4a17-4702-8910-4557aa0c4279</td>\n",
       "      <td>EFO:0009899</td>\n",
       "      <td>GENCODE 19</td>\n",
       "      <td>True</td>\n",
       "      <td>CL:0000860</td>\n",
       "      <td>cM</td>\n",
       "      <td>na</td>\n",
       "      <td>577bce84-8d37-4851-9fb4-53f9467699ba</td>\n",
       "      <td>UBERON:0000178</td>\n",
       "      <td>HsapDv:0000139</td>\n",
       "      <td>managed</td>\n",
       "      <td>peripheral blood mononuclear cell</td>\n",
       "      <td>3e67947f-bd15-4d41-910a-89488e72c50a</td>\n",
       "      <td>cell</td>\n",
       "      <td>1132</td>\n",
       "      <td>HANCESTRO:0005</td>\n",
       "      <td>NCBITaxon:9606</td>\n",
       "      <td>MONDO:0007915</td>\n",
       "      <td>PATO:0000383</td>\n",
       "      <td>4.0</td>\n",
       "      <td>NaN</td>\n",
       "      <td>1132_1132</td>\n",
       "      <td>classical monocyte</td>\n",
       "      <td>10x 3' v2</td>\n",
       "      <td>systemic lupus erythematosus</td>\n",
       "      <td>Homo sapiens</td>\n",
       "      <td>female</td>\n",
       "      <td>blood</td>\n",
       "      <td>European</td>\n",
       "      <td>45-year-old human stage</td>\n",
       "    </tr>\n",
       "  </tbody>\n",
       "</table>\n",
       "</div>"
      ],
      "text/plain": [
       "                                                                            library_uuid  \\\n",
       "index                                                                                      \n",
       "CAAGGCCAGTATCGAA-1-1-0-0-0-0-0-0-0-0-0-0-0-0-0-...  3332f018-936e-4c4c-9105-99d9503db5a3   \n",
       "CTAACTTCAATGAATG-1-1-0-0-0-0-0-0-0-0-0-0-0-0-0-...  70a004b7-4a17-4702-8910-4557aa0c4279   \n",
       "\n",
       "                                                   assay_ontology_term_id  \\\n",
       "index                                                                       \n",
       "CAAGGCCAGTATCGAA-1-1-0-0-0-0-0-0-0-0-0-0-0-0-0-...            EFO:0009899   \n",
       "CTAACTTCAATGAATG-1-1-0-0-0-0-0-0-0-0-0-0-0-0-0-...            EFO:0009899   \n",
       "\n",
       "                                                   mapped_reference_annotation  \\\n",
       "index                                                                            \n",
       "CAAGGCCAGTATCGAA-1-1-0-0-0-0-0-0-0-0-0-0-0-0-0-...                  GENCODE 19   \n",
       "CTAACTTCAATGAATG-1-1-0-0-0-0-0-0-0-0-0-0-0-0-0-...                  GENCODE 19   \n",
       "\n",
       "                                                    is_primary_data  \\\n",
       "index                                                                 \n",
       "CAAGGCCAGTATCGAA-1-1-0-0-0-0-0-0-0-0-0-0-0-0-0-...             True   \n",
       "CTAACTTCAATGAATG-1-1-0-0-0-0-0-0-0-0-0-0-0-0-0-...             True   \n",
       "\n",
       "                                                   cell_type_ontology_term_id  \\\n",
       "index                                                                           \n",
       "CAAGGCCAGTATCGAA-1-1-0-0-0-0-0-0-0-0-0-0-0-0-0-...                 CL:0000624   \n",
       "CTAACTTCAATGAATG-1-1-0-0-0-0-0-0-0-0-0-0-0-0-0-...                 CL:0000860   \n",
       "\n",
       "                                                   author_cell_type  \\\n",
       "index                                                                 \n",
       "CAAGGCCAGTATCGAA-1-1-0-0-0-0-0-0-0-0-0-0-0-0-0-...               T4   \n",
       "CTAACTTCAATGAATG-1-1-0-0-0-0-0-0-0-0-0-0-0-0-0-...               cM   \n",
       "\n",
       "                                                   cell_state  \\\n",
       "index                                                           \n",
       "CAAGGCCAGTATCGAA-1-1-0-0-0-0-0-0-0-0-0-0-0-0-0-...         na   \n",
       "CTAACTTCAATGAATG-1-1-0-0-0-0-0-0-0-0-0-0-0-0-0-...         na   \n",
       "\n",
       "                                                                             sample_uuid  \\\n",
       "index                                                                                      \n",
       "CAAGGCCAGTATCGAA-1-1-0-0-0-0-0-0-0-0-0-0-0-0-0-...  0a1148dc-356f-4dc4-9c32-bf0823257d93   \n",
       "CTAACTTCAATGAATG-1-1-0-0-0-0-0-0-0-0-0-0-0-0-0-...  577bce84-8d37-4851-9fb4-53f9467699ba   \n",
       "\n",
       "                                                   tissue_ontology_term_id  \\\n",
       "index                                                                        \n",
       "CAAGGCCAGTATCGAA-1-1-0-0-0-0-0-0-0-0-0-0-0-0-0-...          UBERON:0000178   \n",
       "CTAACTTCAATGAATG-1-1-0-0-0-0-0-0-0-0-0-0-0-0-0-...          UBERON:0000178   \n",
       "\n",
       "                                                   development_stage_ontology_term_id  \\\n",
       "index                                                                                   \n",
       "CAAGGCCAGTATCGAA-1-1-0-0-0-0-0-0-0-0-0-0-0-0-0-...                     HsapDv:0000122   \n",
       "CTAACTTCAATGAATG-1-1-0-0-0-0-0-0-0-0-0-0-0-0-0-...                     HsapDv:0000139   \n",
       "\n",
       "                                                   disease_state  \\\n",
       "index                                                              \n",
       "CAAGGCCAGTATCGAA-1-1-0-0-0-0-0-0-0-0-0-0-0-0-0-...            na   \n",
       "CTAACTTCAATGAATG-1-1-0-0-0-0-0-0-0-0-0-0-0-0-0-...       managed   \n",
       "\n",
       "                                                       suspension_enriched_cell_types  \\\n",
       "index                                                                                   \n",
       "CAAGGCCAGTATCGAA-1-1-0-0-0-0-0-0-0-0-0-0-0-0-0-...  peripheral blood mononuclear cell   \n",
       "CTAACTTCAATGAATG-1-1-0-0-0-0-0-0-0-0-0-0-0-0-0-...  peripheral blood mononuclear cell   \n",
       "\n",
       "                                                                         suspension_uuid  \\\n",
       "index                                                                                      \n",
       "CAAGGCCAGTATCGAA-1-1-0-0-0-0-0-0-0-0-0-0-0-0-0-...  cc418a0a-d636-4eca-a44c-db537d30b486   \n",
       "CTAACTTCAATGAATG-1-1-0-0-0-0-0-0-0-0-0-0-0-0-0-...  3e67947f-bd15-4d41-910a-89488e72c50a   \n",
       "\n",
       "                                                   suspension_type donor_id  \\\n",
       "index                                                                         \n",
       "CAAGGCCAGTATCGAA-1-1-0-0-0-0-0-0-0-0-0-0-0-0-0-...            cell   HC-546   \n",
       "CTAACTTCAATGAATG-1-1-0-0-0-0-0-0-0-0-0-0-0-0-0-...            cell     1132   \n",
       "\n",
       "                                                   self_reported_ethnicity_ontology_term_id  \\\n",
       "index                                                                                         \n",
       "CAAGGCCAGTATCGAA-1-1-0-0-0-0-0-0-0-0-0-0-0-0-0-...                           HANCESTRO:0008   \n",
       "CTAACTTCAATGAATG-1-1-0-0-0-0-0-0-0-0-0-0-0-0-0-...                           HANCESTRO:0005   \n",
       "\n",
       "                                                   organism_ontology_term_id  \\\n",
       "index                                                                          \n",
       "CAAGGCCAGTATCGAA-1-1-0-0-0-0-0-0-0-0-0-0-0-0-0-...            NCBITaxon:9606   \n",
       "CTAACTTCAATGAATG-1-1-0-0-0-0-0-0-0-0-0-0-0-0-0-...            NCBITaxon:9606   \n",
       "\n",
       "                                                   disease_ontology_term_id  \\\n",
       "index                                                                         \n",
       "CAAGGCCAGTATCGAA-1-1-0-0-0-0-0-0-0-0-0-0-0-0-0-...             PATO:0000461   \n",
       "CTAACTTCAATGAATG-1-1-0-0-0-0-0-0-0-0-0-0-0-0-0-...            MONDO:0007915   \n",
       "\n",
       "                                                   sex_ontology_term_id  \\\n",
       "index                                                                     \n",
       "CAAGGCCAGTATCGAA-1-1-0-0-0-0-0-0-0-0-0-0-0-0-0-...         PATO:0000383   \n",
       "CTAACTTCAATGAATG-1-1-0-0-0-0-0-0-0-0-0-0-0-0-0-...         PATO:0000383   \n",
       "\n",
       "                                                   Processing_Cohort  \\\n",
       "index                                                                  \n",
       "CAAGGCCAGTATCGAA-1-1-0-0-0-0-0-0-0-0-0-0-0-0-0-...               4.0   \n",
       "CTAACTTCAATGAATG-1-1-0-0-0-0-0-0-0-0-0-0-0-0-0-...               4.0   \n",
       "\n",
       "                                                      ct_cov    ind_cov  \\\n",
       "index                                                                     \n",
       "CAAGGCCAGTATCGAA-1-1-0-0-0-0-0-0-0-0-0-0-0-0-0-...  T4_naive     HC-546   \n",
       "CTAACTTCAATGAATG-1-1-0-0-0-0-0-0-0-0-0-0-0-0-0-...       NaN  1132_1132   \n",
       "\n",
       "                                                                          cell_type  \\\n",
       "index                                                                                 \n",
       "CAAGGCCAGTATCGAA-1-1-0-0-0-0-0-0-0-0-0-0-0-0-0-...  CD4-positive, alpha-beta T cell   \n",
       "CTAACTTCAATGAATG-1-1-0-0-0-0-0-0-0-0-0-0-0-0-0-...               classical monocyte   \n",
       "\n",
       "                                                        assay  \\\n",
       "index                                                           \n",
       "CAAGGCCAGTATCGAA-1-1-0-0-0-0-0-0-0-0-0-0-0-0-0-...  10x 3' v2   \n",
       "CTAACTTCAATGAATG-1-1-0-0-0-0-0-0-0-0-0-0-0-0-0-...  10x 3' v2   \n",
       "\n",
       "                                                                         disease  \\\n",
       "index                                                                              \n",
       "CAAGGCCAGTATCGAA-1-1-0-0-0-0-0-0-0-0-0-0-0-0-0-...                        normal   \n",
       "CTAACTTCAATGAATG-1-1-0-0-0-0-0-0-0-0-0-0-0-0-0-...  systemic lupus erythematosus   \n",
       "\n",
       "                                                        organism     sex  \\\n",
       "index                                                                      \n",
       "CAAGGCCAGTATCGAA-1-1-0-0-0-0-0-0-0-0-0-0-0-0-0-...  Homo sapiens  female   \n",
       "CTAACTTCAATGAATG-1-1-0-0-0-0-0-0-0-0-0-0-0-0-0-...  Homo sapiens  female   \n",
       "\n",
       "                                                   tissue  \\\n",
       "index                                                       \n",
       "CAAGGCCAGTATCGAA-1-1-0-0-0-0-0-0-0-0-0-0-0-0-0-...  blood   \n",
       "CTAACTTCAATGAATG-1-1-0-0-0-0-0-0-0-0-0-0-0-0-0-...  blood   \n",
       "\n",
       "                                                   self_reported_ethnicity  \\\n",
       "index                                                                        \n",
       "CAAGGCCAGTATCGAA-1-1-0-0-0-0-0-0-0-0-0-0-0-0-0-...                   Asian   \n",
       "CTAACTTCAATGAATG-1-1-0-0-0-0-0-0-0-0-0-0-0-0-0-...                European   \n",
       "\n",
       "                                                          development_stage  \n",
       "index                                                                        \n",
       "CAAGGCCAGTATCGAA-1-1-0-0-0-0-0-0-0-0-0-0-0-0-0-...  28-year-old human stage  \n",
       "CTAACTTCAATGAATG-1-1-0-0-0-0-0-0-0-0-0-0-0-0-0-...  45-year-old human stage  "
      ]
     },
     "execution_count": 8,
     "metadata": {},
     "output_type": "execute_result"
    }
   ],
   "source": [
    "adata.obs.head(2)"
   ]
  },
  {
   "cell_type": "code",
   "execution_count": 9,
   "id": "e91b28d7-b10b-4107-93c7-e08047a0dbaa",
   "metadata": {
    "tags": []
   },
   "outputs": [
    {
     "name": "stderr",
     "output_type": "stream",
     "text": [
      "/home/ubuntu/anaconda3/envs/mementocxg/lib/python3.11/site-packages/scanpy/plotting/_tools/scatterplots.py:1207: FutureWarning: is_categorical_dtype is deprecated and will be removed in a future version. Use isinstance(dtype, CategoricalDtype) instead\n",
      "  if not is_categorical_dtype(values):\n",
      "/home/ubuntu/anaconda3/envs/mementocxg/lib/python3.11/site-packages/scanpy/plotting/_tools/scatterplots.py:1216: FutureWarning: The default value of 'ignore' for the `na_action` parameter in pandas.Categorical.map is deprecated and will be changed to 'None' in a future version. Please set na_action to the desired value to avoid seeing this warning\n",
      "  color_vector = pd.Categorical(values.map(color_map))\n"
     ]
    },
    {
     "name": "stdout",
     "output_type": "stream",
     "text": [
      "WARNING: saving figure to file figures/umap_all_cells.png\n"
     ]
    },
    {
     "name": "stderr",
     "output_type": "stream",
     "text": [
      "/home/ubuntu/anaconda3/envs/mementocxg/lib/python3.11/site-packages/scanpy/plotting/_tools/scatterplots.py:391: UserWarning: No data for colormapping provided via 'c'. Parameters 'cmap' will be ignored\n",
      "  cax = scatter(\n"
     ]
    },
    {
     "data": {
      "image/png": "[encoded data removed]",
      "text/plain": [
       "<Figure size 400x400 with 1 Axes>"
      ]
     },
     "metadata": {},
     "output_type": "display_data"
    },
    {
     "data": {
      "text/plain": [
       "Text(0, 0.5, '')"
      ]
     },
     "execution_count": 9,
     "metadata": {},
     "output_type": "execute_result"
    }
   ],
   "source": [
    "fig, ax = plt.subplots(figsize=(4,4))\n",
    "sc.pl.umap(adata, color='author_cell_type', legend_loc='on data', ax=ax, frameon=False,save='_all_cells.png', title='')\n",
    "ax.set_title(None)\n",
    "ax.set_xlabel(None)\n",
    "ax.set_ylabel(None)\n"
   ]
  },
  {
   "cell_type": "code",
   "execution_count": 10,
   "id": "5c1b594d-566e-48d7-9d81-0bb4f0117772",
   "metadata": {
    "tags": []
   },
   "outputs": [
    {
     "data": {
      "text/plain": [
       "11"
      ]
     },
     "execution_count": 10,
     "metadata": {},
     "output_type": "execute_result"
    }
   ],
   "source": [
    "adata.obs['author_cell_type'].nunique()"
   ]
  },
  {
   "cell_type": "code",
   "execution_count": 12,
   "id": "eadf32d8-9398-4fc2-8c30-1ced0760907d",
   "metadata": {
    "tags": []
   },
   "outputs": [
    {
     "name": "stderr",
     "output_type": "stream",
     "text": [
      "/home/ubuntu/anaconda3/envs/mementocxg/lib/python3.11/site-packages/scanpy/plotting/_tools/scatterplots.py:1207: FutureWarning: is_categorical_dtype is deprecated and will be removed in a future version. Use isinstance(dtype, CategoricalDtype) instead\n",
      "  if not is_categorical_dtype(values):\n",
      "/home/ubuntu/anaconda3/envs/mementocxg/lib/python3.11/site-packages/scanpy/plotting/_tools/scatterplots.py:1216: FutureWarning: The default value of 'ignore' for the `na_action` parameter in pandas.Categorical.map is deprecated and will be changed to 'None' in a future version. Please set na_action to the desired value to avoid seeing this warning\n",
      "  color_vector = pd.Categorical(values.map(color_map))\n"
     ]
    },
    {
     "name": "stdout",
     "output_type": "stream",
     "text": [
      "WARNING: saving figure to file figures/umap_T4_cM.png\n"
     ]
    },
    {
     "name": "stderr",
     "output_type": "stream",
     "text": [
      "/home/ubuntu/anaconda3/envs/mementocxg/lib/python3.11/site-packages/scanpy/plotting/_tools/scatterplots.py:391: UserWarning: No data for colormapping provided via 'c'. Parameters 'cmap' will be ignored\n",
      "  cax = scatter(\n"
     ]
    },
    {
     "data": {
      "image/png": "[encoded data removed]",
      "text/plain": [
       "<Figure size 400x400 with 1 Axes>"
      ]
     },
     "metadata": {},
     "output_type": "display_data"
    },
    {
     "data": {
      "text/plain": [
       "Text(0, 0.5, '')"
      ]
     },
     "execution_count": 12,
     "metadata": {},
     "output_type": "execute_result"
    }
   ],
   "source": [
    "cell_types = adata.obs['author_cell_type'].cat.categories.tolist()\n",
    "greys = sns.color_palette(\"grey\", n_colors=adata.obs['author_cell_type'].nunique()).as_hex()\n",
    "grey_color = greys[-5]\n",
    "greys = np.array([grey_color for i in range(len(cell_types))])\n",
    "curr_pal = plt.rcParams['axes.prop_cycle'].by_key()['color'].copy()\n",
    "\n",
    "ct1, ct2 = 'T4', 'cM'\n",
    "\n",
    "ct1_idx, ct2_idx = cell_types.index(ct1), cell_types.index(ct2)\n",
    "new_pal = greys.copy()\n",
    "new_pal[ct1_idx] = curr_pal[ct1_idx]\n",
    "new_pal[ct2_idx] = curr_pal[ct2_idx]\n",
    "# new_pal = mpl.colors.Colormap(new_pal)\n",
    "\n",
    "fig, ax = plt.subplots(figsize=(4,4))\n",
    "sc.pl.umap(adata, \n",
    "           color='author_cell_type',ax=ax, frameon=False, \n",
    "           palette=list(new_pal), legend_loc=None, title='', save=f'_{ct1}_{ct2}.png')\n",
    "ax.set_xlabel(None)\n",
    "ax.set_ylabel(None)"
   ]
  },
  {
   "cell_type": "code",
   "execution_count": 15,
   "id": "5cff3b0d-bc51-47b8-a013-b225a75c3875",
   "metadata": {
    "tags": []
   },
   "outputs": [],
   "source": [
    "order = list(itertools.combinations(cell_types, 2))\n"
   ]
  },
  {
   "cell_type": "code",
   "execution_count": 18,
   "id": "4126ebae-0b3c-4a81-bc19-3eca815cdded",
   "metadata": {
    "tags": []
   },
   "outputs": [],
   "source": [
    "import random"
   ]
  },
  {
   "cell_type": "code",
   "execution_count": 22,
   "id": "7d604ff9-1999-41aa-aaf8-183e556b639e",
   "metadata": {},
   "outputs": [
    {
     "name": "stderr",
     "output_type": "stream",
     "text": [
      "/home/ubuntu/anaconda3/envs/mementocxg/lib/python3.11/site-packages/scanpy/plotting/_tools/scatterplots.py:1207: FutureWarning: is_categorical_dtype is deprecated and will be removed in a future version. Use isinstance(dtype, CategoricalDtype) instead\n",
      "  if not is_categorical_dtype(values):\n",
      "/home/ubuntu/anaconda3/envs/mementocxg/lib/python3.11/site-packages/scanpy/plotting/_tools/scatterplots.py:1216: FutureWarning: The default value of 'ignore' for the `na_action` parameter in pandas.Categorical.map is deprecated and will be changed to 'None' in a future version. Please set na_action to the desired value to avoid seeing this warning\n",
      "  color_vector = pd.Categorical(values.map(color_map))\n"
     ]
    },
    {
     "name": "stdout",
     "output_type": "stream",
     "text": [
      "WARNING: saving figure to file figures/umap_B_ncM.png\n"
     ]
    },
    {
     "name": "stderr",
     "output_type": "stream",
     "text": [
      "/home/ubuntu/anaconda3/envs/mementocxg/lib/python3.11/site-packages/scanpy/plotting/_tools/scatterplots.py:391: UserWarning: No data for colormapping provided via 'c'. Parameters 'cmap' will be ignored\n",
      "  cax = scatter(\n"
     ]
    },
    {
     "data": {
      "image/png": "[encoded data removed]",
      "text/plain": [
       "<Figure size 200x200 with 1 Axes>"
      ]
     },
     "metadata": {},
     "output_type": "display_data"
    },
    {
     "name": "stderr",
     "output_type": "stream",
     "text": [
      "/home/ubuntu/anaconda3/envs/mementocxg/lib/python3.11/site-packages/scanpy/plotting/_tools/scatterplots.py:1207: FutureWarning: is_categorical_dtype is deprecated and will be removed in a future version. Use isinstance(dtype, CategoricalDtype) instead\n",
      "  if not is_categorical_dtype(values):\n",
      "/home/ubuntu/anaconda3/envs/mementocxg/lib/python3.11/site-packages/scanpy/plotting/_tools/scatterplots.py:1216: FutureWarning: The default value of 'ignore' for the `na_action` parameter in pandas.Categorical.map is deprecated and will be changed to 'None' in a future version. Please set na_action to the desired value to avoid seeing this warning\n",
      "  color_vector = pd.Categorical(values.map(color_map))\n"
     ]
    },
    {
     "name": "stdout",
     "output_type": "stream",
     "text": [
      "WARNING: saving figure to file figures/umap_PB_cM.png\n"
     ]
    },
    {
     "name": "stderr",
     "output_type": "stream",
     "text": [
      "/home/ubuntu/anaconda3/envs/mementocxg/lib/python3.11/site-packages/scanpy/plotting/_tools/scatterplots.py:391: UserWarning: No data for colormapping provided via 'c'. Parameters 'cmap' will be ignored\n",
      "  cax = scatter(\n"
     ]
    },
    {
     "data": {
      "image/png": "[encoded data removed]",
      "text/plain": [
       "<Figure size 200x200 with 1 Axes>"
      ]
     },
     "metadata": {},
     "output_type": "display_data"
    },
    {
     "name": "stderr",
     "output_type": "stream",
     "text": [
      "/home/ubuntu/anaconda3/envs/mementocxg/lib/python3.11/site-packages/scanpy/plotting/_tools/scatterplots.py:1207: FutureWarning: is_categorical_dtype is deprecated and will be removed in a future version. Use isinstance(dtype, CategoricalDtype) instead\n",
      "  if not is_categorical_dtype(values):\n",
      "/home/ubuntu/anaconda3/envs/mementocxg/lib/python3.11/site-packages/scanpy/plotting/_tools/scatterplots.py:1216: FutureWarning: The default value of 'ignore' for the `na_action` parameter in pandas.Categorical.map is deprecated and will be changed to 'None' in a future version. Please set na_action to the desired value to avoid seeing this warning\n",
      "  color_vector = pd.Categorical(values.map(color_map))\n"
     ]
    },
    {
     "name": "stdout",
     "output_type": "stream",
     "text": [
      "WARNING: saving figure to file figures/umap_B_T8.png\n"
     ]
    },
    {
     "name": "stderr",
     "output_type": "stream",
     "text": [
      "/home/ubuntu/anaconda3/envs/mementocxg/lib/python3.11/site-packages/scanpy/plotting/_tools/scatterplots.py:391: UserWarning: No data for colormapping provided via 'c'. Parameters 'cmap' will be ignored\n",
      "  cax = scatter(\n"
     ]
    },
    {
     "data": {
      "image/png": "[encoded data removed]",
      "text/plain": [
       "<Figure size 200x200 with 1 Axes>"
      ]
     },
     "metadata": {},
     "output_type": "display_data"
    },
    {
     "name": "stderr",
     "output_type": "stream",
     "text": [
      "/home/ubuntu/anaconda3/envs/mementocxg/lib/python3.11/site-packages/scanpy/plotting/_tools/scatterplots.py:1207: FutureWarning: is_categorical_dtype is deprecated and will be removed in a future version. Use isinstance(dtype, CategoricalDtype) instead\n",
      "  if not is_categorical_dtype(values):\n",
      "/home/ubuntu/anaconda3/envs/mementocxg/lib/python3.11/site-packages/scanpy/plotting/_tools/scatterplots.py:1216: FutureWarning: The default value of 'ignore' for the `na_action` parameter in pandas.Categorical.map is deprecated and will be changed to 'None' in a future version. Please set na_action to the desired value to avoid seeing this warning\n",
      "  color_vector = pd.Categorical(values.map(color_map))\n"
     ]
    },
    {
     "name": "stdout",
     "output_type": "stream",
     "text": [
      "WARNING: saving figure to file figures/umap_cDC_cM.png\n"
     ]
    },
    {
     "name": "stderr",
     "output_type": "stream",
     "text": [
      "/home/ubuntu/anaconda3/envs/mementocxg/lib/python3.11/site-packages/scanpy/plotting/_tools/scatterplots.py:391: UserWarning: No data for colormapping provided via 'c'. Parameters 'cmap' will be ignored\n",
      "  cax = scatter(\n"
     ]
    },
    {
     "data": {
      "image/png": "[encoded data removed]",
      "text/plain": [
       "<Figure size 200x200 with 1 Axes>"
      ]
     },
     "metadata": {},
     "output_type": "display_data"
    },
    {
     "name": "stderr",
     "output_type": "stream",
     "text": [
      "/home/ubuntu/anaconda3/envs/mementocxg/lib/python3.11/site-packages/scanpy/plotting/_tools/scatterplots.py:1207: FutureWarning: is_categorical_dtype is deprecated and will be removed in a future version. Use isinstance(dtype, CategoricalDtype) instead\n",
      "  if not is_categorical_dtype(values):\n",
      "/home/ubuntu/anaconda3/envs/mementocxg/lib/python3.11/site-packages/scanpy/plotting/_tools/scatterplots.py:1216: FutureWarning: The default value of 'ignore' for the `na_action` parameter in pandas.Categorical.map is deprecated and will be changed to 'None' in a future version. Please set na_action to the desired value to avoid seeing this warning\n",
      "  color_vector = pd.Categorical(values.map(color_map))\n"
     ]
    },
    {
     "name": "stdout",
     "output_type": "stream",
     "text": [
      "WARNING: saving figure to file figures/umap_B_PB.png\n"
     ]
    },
    {
     "name": "stderr",
     "output_type": "stream",
     "text": [
      "/home/ubuntu/anaconda3/envs/mementocxg/lib/python3.11/site-packages/scanpy/plotting/_tools/scatterplots.py:391: UserWarning: No data for colormapping provided via 'c'. Parameters 'cmap' will be ignored\n",
      "  cax = scatter(\n"
     ]
    },
    {
     "data": {
      "image/png": "[encoded data removed]",
      "text/plain": [
       "<Figure size 200x200 with 1 Axes>"
      ]
     },
     "metadata": {},
     "output_type": "display_data"
    },
    {
     "name": "stderr",
     "output_type": "stream",
     "text": [
      "/home/ubuntu/anaconda3/envs/mementocxg/lib/python3.11/site-packages/scanpy/plotting/_tools/scatterplots.py:1207: FutureWarning: is_categorical_dtype is deprecated and will be removed in a future version. Use isinstance(dtype, CategoricalDtype) instead\n",
      "  if not is_categorical_dtype(values):\n",
      "/home/ubuntu/anaconda3/envs/mementocxg/lib/python3.11/site-packages/scanpy/plotting/_tools/scatterplots.py:1216: FutureWarning: The default value of 'ignore' for the `na_action` parameter in pandas.Categorical.map is deprecated and will be changed to 'None' in a future version. Please set na_action to the desired value to avoid seeing this warning\n",
      "  color_vector = pd.Categorical(values.map(color_map))\n"
     ]
    },
    {
     "name": "stdout",
     "output_type": "stream",
     "text": [
      "WARNING: saving figure to file figures/umap_NK_Prolif.png\n"
     ]
    },
    {
     "name": "stderr",
     "output_type": "stream",
     "text": [
      "/home/ubuntu/anaconda3/envs/mementocxg/lib/python3.11/site-packages/scanpy/plotting/_tools/scatterplots.py:391: UserWarning: No data for colormapping provided via 'c'. Parameters 'cmap' will be ignored\n",
      "  cax = scatter(\n"
     ]
    },
    {
     "data": {
      "image/png": "[encoded data removed]",
      "text/plain": [
       "<Figure size 200x200 with 1 Axes>"
      ]
     },
     "metadata": {},
     "output_type": "display_data"
    },
    {
     "name": "stderr",
     "output_type": "stream",
     "text": [
      "/home/ubuntu/anaconda3/envs/mementocxg/lib/python3.11/site-packages/scanpy/plotting/_tools/scatterplots.py:1207: FutureWarning: is_categorical_dtype is deprecated and will be removed in a future version. Use isinstance(dtype, CategoricalDtype) instead\n",
      "  if not is_categorical_dtype(values):\n",
      "/home/ubuntu/anaconda3/envs/mementocxg/lib/python3.11/site-packages/scanpy/plotting/_tools/scatterplots.py:1216: FutureWarning: The default value of 'ignore' for the `na_action` parameter in pandas.Categorical.map is deprecated and will be changed to 'None' in a future version. Please set na_action to the desired value to avoid seeing this warning\n",
      "  color_vector = pd.Categorical(values.map(color_map))\n"
     ]
    },
    {
     "name": "stdout",
     "output_type": "stream",
     "text": [
      "WARNING: saving figure to file figures/umap_Progen_cDC.png\n"
     ]
    },
    {
     "name": "stderr",
     "output_type": "stream",
     "text": [
      "/home/ubuntu/anaconda3/envs/mementocxg/lib/python3.11/site-packages/scanpy/plotting/_tools/scatterplots.py:391: UserWarning: No data for colormapping provided via 'c'. Parameters 'cmap' will be ignored\n",
      "  cax = scatter(\n"
     ]
    },
    {
     "data": {
      "image/png": "[encoded data removed]",
      "text/plain": [
       "<Figure size 200x200 with 1 Axes>"
      ]
     },
     "metadata": {},
     "output_type": "display_data"
    },
    {
     "name": "stderr",
     "output_type": "stream",
     "text": [
      "/home/ubuntu/anaconda3/envs/mementocxg/lib/python3.11/site-packages/scanpy/plotting/_tools/scatterplots.py:1207: FutureWarning: is_categorical_dtype is deprecated and will be removed in a future version. Use isinstance(dtype, CategoricalDtype) instead\n",
      "  if not is_categorical_dtype(values):\n",
      "/home/ubuntu/anaconda3/envs/mementocxg/lib/python3.11/site-packages/scanpy/plotting/_tools/scatterplots.py:1216: FutureWarning: The default value of 'ignore' for the `na_action` parameter in pandas.Categorical.map is deprecated and will be changed to 'None' in a future version. Please set na_action to the desired value to avoid seeing this warning\n",
      "  color_vector = pd.Categorical(values.map(color_map))\n"
     ]
    },
    {
     "name": "stdout",
     "output_type": "stream",
     "text": [
      "WARNING: saving figure to file figures/umap_B_T4.png\n"
     ]
    },
    {
     "name": "stderr",
     "output_type": "stream",
     "text": [
      "/home/ubuntu/anaconda3/envs/mementocxg/lib/python3.11/site-packages/scanpy/plotting/_tools/scatterplots.py:391: UserWarning: No data for colormapping provided via 'c'. Parameters 'cmap' will be ignored\n",
      "  cax = scatter(\n"
     ]
    },
    {
     "data": {
      "image/png": "[encoded data removed]",
      "text/plain": [
       "<Figure size 200x200 with 1 Axes>"
      ]
     },
     "metadata": {},
     "output_type": "display_data"
    },
    {
     "name": "stderr",
     "output_type": "stream",
     "text": [
      "/home/ubuntu/anaconda3/envs/mementocxg/lib/python3.11/site-packages/scanpy/plotting/_tools/scatterplots.py:1207: FutureWarning: is_categorical_dtype is deprecated and will be removed in a future version. Use isinstance(dtype, CategoricalDtype) instead\n",
      "  if not is_categorical_dtype(values):\n",
      "/home/ubuntu/anaconda3/envs/mementocxg/lib/python3.11/site-packages/scanpy/plotting/_tools/scatterplots.py:1216: FutureWarning: The default value of 'ignore' for the `na_action` parameter in pandas.Categorical.map is deprecated and will be changed to 'None' in a future version. Please set na_action to the desired value to avoid seeing this warning\n",
      "  color_vector = pd.Categorical(values.map(color_map))\n"
     ]
    },
    {
     "name": "stdout",
     "output_type": "stream",
     "text": [
      "WARNING: saving figure to file figures/umap_B_NK.png\n"
     ]
    },
    {
     "name": "stderr",
     "output_type": "stream",
     "text": [
      "/home/ubuntu/anaconda3/envs/mementocxg/lib/python3.11/site-packages/scanpy/plotting/_tools/scatterplots.py:391: UserWarning: No data for colormapping provided via 'c'. Parameters 'cmap' will be ignored\n",
      "  cax = scatter(\n"
     ]
    },
    {
     "data": {
      "image/png": "[encoded data removed]",
      "text/plain": [
       "<Figure size 200x200 with 1 Axes>"
      ]
     },
     "metadata": {},
     "output_type": "display_data"
    }
   ],
   "source": [
    "# ct1, ct2 = 'T4', 'cM'\n",
    "order = list(itertools.combinations(cell_types, 2))\n",
    "random.shuffle(order)\n",
    "\n",
    "for ct1, ct2 in order[:10]:\n",
    "    ct1_idx, ct2_idx = cell_types.index(ct1), cell_types.index(ct2)\n",
    "    new_pal = greys.copy()\n",
    "    \n",
    "    if ct1_idx > 9 or ct2_idx > 9:\n",
    "        continue\n",
    "    new_pal[ct1_idx] = curr_pal[ct1_idx]\n",
    "    new_pal[ct2_idx] = curr_pal[ct2_idx]\n",
    "    # new_pal = mpl.colors.Colormap(new_pal)\n",
    "\n",
    "    fig, ax = plt.subplots(figsize=(2,2))\n",
    "    sc.pl.umap(adata, \n",
    "               color='author_cell_type',ax=ax, frameon=False, \n",
    "               palette=list(new_pal), legend_loc=None, title='', save=f'_{ct1}_{ct2}.png')\n",
    "    ax.set_xlabel(None)\n",
    "    ax.set_ylabel(None)"
   ]
  },
  {
   "cell_type": "markdown",
   "id": "15c008a7-23e2-4e9f-861b-f006ae049ff3",
   "metadata": {},
   "source": [
    "### Run memento\n",
    "\n",
    "lets try cM vs T4"
   ]
  },
  {
   "cell_type": "code",
   "execution_count": 8,
   "id": "3eafbb9c-3c87-48a2-8088-b911900406ac",
   "metadata": {
    "tags": []
   },
   "outputs": [],
   "source": [
    "CUBE_TILEDB_DIMS_OBS = [\n",
    "    \"cell_type\",\n",
    "    \"dataset_id\",\n",
    "]\n",
    "\n",
    "CUBE_TILEDB_ATTRS_OBS = [\n",
    "    \"assay\",\n",
    "    \"suspension_type\",\n",
    "    \"donor_id\",\n",
    "    \"disease\",\n",
    "    \"sex\"\n",
    "]\n",
    "\n",
    "CUBE_LOGICAL_DIMS_OBS = CUBE_TILEDB_DIMS_OBS + CUBE_TILEDB_ATTRS_OBS\n",
    "\n",
    "CUBE_DIMS_VAR = ['feature_id']\n",
    "\n",
    "TILEDB_SOMA_BUFFER_BYTES = 2**31\n",
    "\n",
    "OBS_VALUE_FILTER = \"is_primary_data == True and dataset_id ==  '218acb0f-9f2f-4f76-b90b-15a4b7c7f629' and donor_id == '1259'\" # Lupus dataset\n"
   ]
  },
  {
   "cell_type": "code",
   "execution_count": 13,
   "id": "5cd78678-569c-422e-898a-5212e38c0ea1",
   "metadata": {
    "tags": []
   },
   "outputs": [],
   "source": [
    "exp_uri = 's3://cellxgene-data-public/cell-census/2023-10-30/soma/census_data/homo_sapiens'\n",
    "measurement_name ='RNA'"
   ]
  },
  {
   "cell_type": "code",
   "execution_count": 14,
   "id": "09e36592-0b53-4446-9f85-b5d2108c9f83",
   "metadata": {},
   "outputs": [],
   "source": [
    "with soma.Experiment.open(uri=exp_uri,\n",
    "                          context=soma.SOMATileDBContext().replace(tiledb_config={\n",
    "                              \"soma.init_buffer_bytes\": TILEDB_SOMA_BUFFER_BYTES,\n",
    "                              \"vfs.s3.region\":\"us-west-2\",\n",
    "                              \"vfs.s3.no_sign_request\":True})\n",
    "                          ) as exp:\n",
    "\n",
    "    query = exp.axis_query(measurement_name=measurement_name,\n",
    "                           obs_query=AxisQuery(value_filter=OBS_VALUE_FILTER),\n",
    "                           # Note: Must use *all* genes to compute size factors correctly, even when var filter is\n",
    "                           # being used for testing\n",
    "                           var_query=AxisQuery())"
   ]
  },
  {
   "cell_type": "code",
   "execution_count": 15,
   "id": "e781249a-186b-411b-a68f-bfcce7b07364",
   "metadata": {
    "tags": []
   },
   "outputs": [],
   "source": [
    "lupus_adata=query.to_anndata('raw')"
   ]
  },
  {
   "cell_type": "code",
   "execution_count": 16,
   "id": "840fc971-8729-400e-bc4e-907ea2991b39",
   "metadata": {
    "tags": []
   },
   "outputs": [],
   "source": [
    "lupus_adata.var.index = lupus_adata.var.feature_id.tolist()"
   ]
  },
  {
   "cell_type": "code",
   "execution_count": 17,
   "id": "a0af7778-b1ec-40d9-9304-3424d05e883c",
   "metadata": {
    "tags": []
   },
   "outputs": [],
   "source": [
    "def run_memento(ct1, ct2):\n",
    "    \n",
    "    adata = lupus_adata[lupus_adata.obs['cell_type'].isin([ct1, ct2])].copy().copy()\n",
    "\n",
    "    adata.obs['q'] = 0.07\n",
    "    memento.setup_memento(adata, q_column='q', trim_percent=1, filter_mean_thresh=0.1, shrinkage=0)\n",
    "    memento.create_groups(adata, label_columns=['cell_type'])\n",
    "    memento.compute_1d_moments(adata, min_perc_group=.7)\n",
    "\n",
    "    meta_df = memento.get_groups(adata)\n",
    "    meta_df['intercept'] = 1\n",
    "    covariate = meta_df[['intercept']]\n",
    "    treatment = (meta_df[['cell_type']] == ct2).astype(float)\n",
    "        \n",
    "\n",
    "    memento.ht_1d_moments(\n",
    "        adata, \n",
    "        covariate=covariate,\n",
    "        treatment=treatment, \n",
    "        num_boot=5000, \n",
    "        verbose=1,\n",
    "        num_cpus=13,\n",
    "        resample_rep=False,\n",
    "        approx=True)\n",
    "    memento_results = memento.get_1d_ht_result(adata)\n",
    "    \n",
    "    return memento_results"
   ]
  },
  {
   "cell_type": "code",
   "execution_count": 18,
   "id": "a13d59d2-52d2-40a9-98c2-c214b1bfda90",
   "metadata": {},
   "outputs": [
    {
     "name": "stderr",
     "output_type": "stream",
     "text": [
      "[Parallel(n_jobs=13)]: Using backend LokyBackend with 13 concurrent workers.\n",
      "[Parallel(n_jobs=13)]: Done  24 tasks      | elapsed:    2.8s\n",
      "[Parallel(n_jobs=13)]: Done 174 tasks      | elapsed:    4.6s\n",
      "[Parallel(n_jobs=13)]: Done 562 tasks      | elapsed:    8.2s\n",
      "[Parallel(n_jobs=13)]: Done 1262 tasks      | elapsed:   15.5s\n",
      "[Parallel(n_jobs=13)]: Done 1498 out of 1498 | elapsed:   18.3s finished\n"
     ]
    }
   ],
   "source": [
    "memento_results = run_memento('classical monocyte','CD4-positive, alpha-beta T cell')"
   ]
  },
  {
   "cell_type": "markdown",
   "id": "21e7ddad-34ae-4261-a4cb-630f4b950f29",
   "metadata": {
    "tags": []
   },
   "source": [
    "### Run memento-cxg\n",
    "\n",
    "Take the estimators from the cube and perform DE"
   ]
  },
  {
   "cell_type": "code",
   "execution_count": 19,
   "id": "663ff620-2a1d-419d-b8d0-fdb178520822",
   "metadata": {
    "tags": []
   },
   "outputs": [],
   "source": [
    "def _fit_mv_regressor(mean, var):\n",
    "\t\"\"\"\n",
    "\t\tPerform regression of the variance against the mean.\n",
    "\t\"\"\"\n",
    "\t\n",
    "\tcond = (mean > 0) & (var > 0)\n",
    "\tm, v = np.log(mean[cond]), np.log(var[cond])\n",
    "\t\n",
    "\tpoly = np.polyfit(m, v, 2)\n",
    "\treturn poly\n",
    "\tf = np.poly1d(z)\n",
    "\n",
    "def _residual_variance(mean, var, mv_fit):\n",
    "\t\n",
    "\tcond = (mean > 0) & (var > 0)\n",
    "\trv = np.zeros(mean.shape)*np.nan\n",
    "\t\n",
    "\tf = np.poly1d(mv_fit)\n",
    "\twith np.errstate(invalid='ignore'):\n",
    "\t\trv[cond] = np.exp(np.log(var[cond]) - f(np.log(mean[cond])))\n",
    "\treturn rv\n",
    "\n",
    "def compute_residual_variance(df):\n",
    "    \n",
    "    m = df['mean']\n",
    "    v = df['var']\n",
    "    vv = df['sev']\n",
    "    mv_fit = _fit_mv_regressor(m, v)\n",
    "    rv = _residual_variance(m, v, mv_fit)\n",
    "    df['res_var'] = rv"
   ]
  },
  {
   "cell_type": "code",
   "execution_count": 20,
   "id": "c02d6fdc-e181-492b-9111-289b4d32e0b8",
   "metadata": {
    "tags": []
   },
   "outputs": [],
   "source": [
    "donor = '1259'"
   ]
  },
  {
   "cell_type": "code",
   "execution_count": 21,
   "id": "9e6f9334-57ba-4168-917b-23f5da3b5450",
   "metadata": {
    "tags": []
   },
   "outputs": [
    {
     "data": {
      "text/plain": [
       "'/home/ubuntu/Github/memento-cxg/estimators_cube'"
      ]
     },
     "execution_count": 21,
     "metadata": {},
     "output_type": "execute_result"
    }
   ],
   "source": [
    "cube_path + 'estimators_cube'"
   ]
  },
  {
   "cell_type": "code",
   "execution_count": 22,
   "id": "87691f0a-3b00-4418-a5f5-472fbd91ca0a",
   "metadata": {
    "tags": []
   },
   "outputs": [
    {
     "ename": "TileDBError",
     "evalue": "[TileDB::Array] Error: Cannot open array; Array does not exist.",
     "output_type": "error",
     "traceback": [
      "\u001b[0;31m---------------------------------------------------------------------------\u001b[0m",
      "\u001b[0;31mTileDBError\u001b[0m                               Traceback (most recent call last)",
      "Cell \u001b[0;32mIn[22], line 1\u001b[0m\n\u001b[0;32m----> 1\u001b[0m estimators \u001b[38;5;241m=\u001b[39m tiledb\u001b[38;5;241m.\u001b[39mopen(cube_path \u001b[38;5;241m+\u001b[39m \u001b[38;5;124m'\u001b[39m\u001b[38;5;124mestimators_cube\u001b[39m\u001b[38;5;124m'\u001b[39m)\u001b[38;5;241m.\u001b[39mdf[:]\n",
      "File \u001b[0;32m~/anaconda3/envs/mementocxg/lib/python3.11/site-packages/tiledb/highlevel.py:22\u001b[0m, in \u001b[0;36mopen\u001b[0;34m(uri, mode, key, attr, config, timestamp, ctx)\u001b[0m\n\u001b[1;32m      8\u001b[0m \u001b[38;5;28;01mdef\u001b[39;00m \u001b[38;5;21mopen\u001b[39m(uri, mode\u001b[38;5;241m=\u001b[39m\u001b[38;5;124m\"\u001b[39m\u001b[38;5;124mr\u001b[39m\u001b[38;5;124m\"\u001b[39m, key\u001b[38;5;241m=\u001b[39m\u001b[38;5;28;01mNone\u001b[39;00m, attr\u001b[38;5;241m=\u001b[39m\u001b[38;5;28;01mNone\u001b[39;00m, config\u001b[38;5;241m=\u001b[39m\u001b[38;5;28;01mNone\u001b[39;00m, timestamp\u001b[38;5;241m=\u001b[39m\u001b[38;5;28;01mNone\u001b[39;00m, ctx\u001b[38;5;241m=\u001b[39m\u001b[38;5;28;01mNone\u001b[39;00m):\n\u001b[1;32m      9\u001b[0m \u001b[38;5;250m    \u001b[39m\u001b[38;5;124;03m\"\"\"\u001b[39;00m\n\u001b[1;32m     10\u001b[0m \u001b[38;5;124;03m    Open a TileDB array at the given URI\u001b[39;00m\n\u001b[1;32m     11\u001b[0m \n\u001b[0;32m   (...)\u001b[0m\n\u001b[1;32m     20\u001b[0m \u001b[38;5;124;03m    :return: open TileDB {Sparse,Dense}Array object\u001b[39;00m\n\u001b[1;32m     21\u001b[0m \u001b[38;5;124;03m    \"\"\"\u001b[39;00m\n\u001b[0;32m---> 22\u001b[0m     \u001b[38;5;28;01mreturn\u001b[39;00m tiledb\u001b[38;5;241m.\u001b[39mArray\u001b[38;5;241m.\u001b[39mload_typed(\n\u001b[1;32m     23\u001b[0m         uri,\n\u001b[1;32m     24\u001b[0m         mode\u001b[38;5;241m=\u001b[39mmode,\n\u001b[1;32m     25\u001b[0m         key\u001b[38;5;241m=\u001b[39mkey,\n\u001b[1;32m     26\u001b[0m         timestamp\u001b[38;5;241m=\u001b[39mtimestamp,\n\u001b[1;32m     27\u001b[0m         attr\u001b[38;5;241m=\u001b[39mattr,\n\u001b[1;32m     28\u001b[0m         ctx\u001b[38;5;241m=\u001b[39m_get_ctx(ctx, config),\n\u001b[1;32m     29\u001b[0m     )\n",
      "File \u001b[0;32mtiledb/libtiledb.pyx:1019\u001b[0m, in \u001b[0;36mtiledb.libtiledb.Array.load_typed\u001b[0;34m()\u001b[0m\n",
      "File \u001b[0;32mtiledb/libtiledb.pyx:842\u001b[0m, in \u001b[0;36mtiledb.libtiledb.preload_array\u001b[0;34m()\u001b[0m\n",
      "File \u001b[0;32mtiledb/libtiledb.pyx:368\u001b[0m, in \u001b[0;36mtiledb.libtiledb._raise_ctx_err\u001b[0;34m()\u001b[0m\n",
      "File \u001b[0;32mtiledb/libtiledb.pyx:353\u001b[0m, in \u001b[0;36mtiledb.libtiledb._raise_tiledb_error\u001b[0;34m()\u001b[0m\n",
      "\u001b[0;31mTileDBError\u001b[0m: [TileDB::Array] Error: Cannot open array; Array does not exist."
     ]
    }
   ],
   "source": [
    "estimators = tiledb.open(cube_path + 'estimators_cube').df[:]"
   ]
  },
  {
   "cell_type": "code",
   "execution_count": null,
   "id": "ba42d36c-0c0d-4541-ad35-8ff8e36bfb08",
   "metadata": {
    "tags": []
   },
   "outputs": [],
   "source": [
    "estimators = tiledb.open(cube_path + 'estimators_cube').df[:].query(f'donor_id == \"{donor}\"')\\\n",
    "    .rename(columns={\n",
    "    'feature_id':'cell_type',\n",
    "    'cell_type':'dataset_id',\n",
    "    'dataset_id':'feature_id',\n",
    "})"
   ]
  },
  {
   "cell_type": "code",
   "execution_count": null,
   "id": "10233177-b0f6-4d80-885d-bed655a1782f",
   "metadata": {
    "tags": []
   },
   "outputs": [],
   "source": [
    "def compute_cxg_pvalues(ct1, ct2):\n",
    "    \n",
    "    ct1_df = estimators.query(f'cell_type == \"{ct1}\"').copy()\n",
    "    ct2_df = estimators.query(f'cell_type == \"{ct2}\"').copy()\n",
    "    compute_residual_variance(ct1_df)\n",
    "    compute_residual_variance(ct2_df)\n",
    "    \n",
    "    merged = ct1_df.merge(ct2_df, on='feature_id', suffixes=('_ct1', '_ct2'))\n",
    "\n",
    "    lfc = np.log(merged['mean_ct2'].values/merged['mean_ct1'].values)\n",
    "    log_mean_se_1 = (np.log(merged['mean_ct1'] + merged['sem_ct1']) - np.log(merged['mean_ct1'] - merged['sem_ct1']))/2\n",
    "    log_mean_se_2 = (np.log(merged['mean_ct2'] + merged['sem_ct2']) - np.log(merged['mean_ct2'] - merged['sem_ct2']))/2\n",
    "    se_lfc = np.sqrt((log_mean_se_2**2 + log_mean_se_1**2)).values\n",
    "    de_pvalues = stats.norm.sf(np.abs(lfc), loc=0, scale=se_lfc)*2\n",
    "\n",
    "    dv_lfc = np.log(merged['res_var_ct2'].values/merged['res_var_ct1'].values)\n",
    "    se_dv_lfc = np.sqrt((merged['selv_ct1']**2 + merged['selv_ct2']**2)).values\n",
    "    dv_pvalues = stats.norm.sf(np.abs(dv_lfc), loc=0, scale=se_dv_lfc)*2\n",
    "\n",
    "    cxg_results = pd.DataFrame(\n",
    "        zip(\n",
    "            merged['feature_id'].values,\n",
    "            lfc,\n",
    "            se_lfc,\n",
    "            de_pvalues,\n",
    "            dv_lfc,\n",
    "            se_dv_lfc,\n",
    "            dv_pvalues),\n",
    "        columns=['gene', 'cxg_de_coef', 'cxg_de_se', 'cxg_de_pval', 'cxg_dv_coef', 'cxg_dv_se', 'cxg_dv_pval'])\n",
    "    return cxg_results"
   ]
  },
  {
   "cell_type": "code",
   "execution_count": null,
   "id": "50c67248-6376-4724-9a94-63c9fbb93932",
   "metadata": {
    "tags": []
   },
   "outputs": [],
   "source": [
    "cxg_results = compute_cxg_pvalues('classical monocyte','CD4-positive, alpha-beta T cell')"
   ]
  },
  {
   "cell_type": "code",
   "execution_count": null,
   "id": "10954cfe-cbe9-4ae5-916b-8d359f794e3b",
   "metadata": {
    "tags": []
   },
   "outputs": [],
   "source": [
    "cxg_results = cxg_results.dropna()"
   ]
  },
  {
   "cell_type": "markdown",
   "id": "e9849ef9-9dbb-4388-a57e-4790477471ef",
   "metadata": {},
   "source": [
    "### Compare the results"
   ]
  },
  {
   "cell_type": "code",
   "execution_count": null,
   "id": "06d18a1b-7c30-454c-a9b6-54f2fbac6eca",
   "metadata": {
    "tags": []
   },
   "outputs": [],
   "source": [
    "merged_results = memento_results.merge(cxg_results, on='gene')"
   ]
  },
  {
   "cell_type": "code",
   "execution_count": null,
   "id": "edabcec1-46d3-402c-96fe-516c70f2b3bb",
   "metadata": {
    "tags": []
   },
   "outputs": [],
   "source": [
    "merged_results['cxg_de_logp'] = -np.log10(merged_results['cxg_de_pval'])\n",
    "merged_results['mem_de_logp'] = -np.log10(merged_results['de_pval'])\n",
    "\n",
    "merged_results['cxg_dv_logp'] = -np.log10(merged_results['cxg_dv_pval'])\n",
    "merged_results['mem_dv_logp'] = -np.log10(merged_results['dv_pval'])"
   ]
  },
  {
   "cell_type": "code",
   "execution_count": null,
   "id": "5b223325-7143-4e9a-a845-444cf7a1edd8",
   "metadata": {},
   "outputs": [],
   "source": [
    "print(stat.pearsonr("
   ]
  },
  {
   "cell_type": "code",
   "execution_count": null,
   "id": "0904342e-fac6-42a6-9e58-01b38309257a",
   "metadata": {
    "tags": []
   },
   "outputs": [],
   "source": [
    "plt.figure(figsize=(2.5,1.5))\n",
    "to_show = merged_results.query('mem_de_logp < 200 & cxg_de_logp < 200')\n",
    "\n",
    "plt.scatter(\n",
    "    to_show['de_coef'],\n",
    "    to_show['cxg_de_coef'],\n",
    "    s=3)\n",
    "plt.title('mean LFC')\n",
    "plt.ylabel('Precomputed')\n",
    "plt.plot([-2, 2], [-2, 2], '--', color='k')\n",
    "plt.xlabel('Default')\n",
    "plt.savefig('de_coef_comparison.png', dpi=300, bbox_inches='tight')"
   ]
  },
  {
   "cell_type": "code",
   "execution_count": null,
   "id": "8936b714-0aca-4164-a275-8b0a7fe786a0",
   "metadata": {
    "tags": []
   },
   "outputs": [],
   "source": [
    "plt.figure(figsize=(2.5,1.5))\n",
    "to_show = merged_results.query('mem_de_logp < 200 & cxg_de_logp < 200')\n",
    "\n",
    "plt.scatter(\n",
    "    to_show['mem_de_logp'],\n",
    "    to_show['cxg_de_logp'],\n",
    "    s=3)\n",
    "plt.title('mean -log10(P)')\n",
    "plt.ylabel('Precomputed')\n",
    "plt.plot([0, 200], [0, 200], '--', color='k')\n",
    "plt.xlabel('Default')\n",
    "plt.savefig('de_pval_comparison.png', dpi=300, bbox_inches='tight')"
   ]
  },
  {
   "cell_type": "code",
   "execution_count": null,
   "id": "98e3c843-71bc-4ab4-9d32-60c1160bc4ec",
   "metadata": {
    "tags": []
   },
   "outputs": [],
   "source": [
    "plt.figure(figsize=(2.5,1.5))\n",
    "to_show = merged_results.query('dv_coef < 6 & cxg_dv_coef < 6 & mem_dv_logp < 25 & cxg_dv_logp < 25')\n",
    "\n",
    "plt.scatter(\n",
    "    to_show['dv_coef'],\n",
    "    to_show['cxg_dv_coef'],\n",
    "    s=3)\n",
    "plt.title('variability LFC')\n",
    "plt.ylabel('Precomputed')\n",
    "plt.plot([-2, 2], [-2, 2], '--', color='k')\n",
    "plt.xlabel('Default')\n",
    "plt.savefig('dv_coef_comparison.png', dpi=300, bbox_inches='tight')"
   ]
  },
  {
   "cell_type": "code",
   "execution_count": null,
   "id": "b5e70d97-ea01-460b-b590-720ecea38cb2",
   "metadata": {
    "tags": []
   },
   "outputs": [],
   "source": [
    "plt.figure(figsize=(2.5,1.5))\n",
    "to_show = merged_results.query('dv_coef < 6 & cxg_dv_coef < 6 & mem_dv_logp < 25 & cxg_dv_logp < 25')\n",
    "plt.scatter(\n",
    "    to_show['mem_dv_logp'],\n",
    "    to_show['cxg_dv_logp'],\n",
    "    s=3)\n",
    "plt.title('variability -log10(P)')\n",
    "plt.plot([0, 20], [0, 20], '--', color='k')\n",
    "plt.ylabel('Precomputed')\n",
    "plt.xlabel('Default')\n",
    "plt.savefig('dv_pval_comparison.png', dpi=300, bbox_inches='tight')"
   ]
  },
  {
   "cell_type": "markdown",
   "id": "22c1f6c7-4633-48f2-b501-95301f126f58",
   "metadata": {},
   "source": [
    "### Compare runtimes"
   ]
  },
  {
   "cell_type": "code",
   "execution_count": 27,
   "id": "d73f35e9-4686-4b7e-a246-e0ea2419a4ba",
   "metadata": {},
   "outputs": [],
   "source": [
    "cell_types = lupus_adata.obs['cell_type'].drop_duplicates().tolist()"
   ]
  },
  {
   "cell_type": "code",
   "execution_count": 69,
   "id": "0fad151e-f8cd-4025-9108-ca86fab3e5ea",
   "metadata": {
    "tags": []
   },
   "outputs": [],
   "source": [
    "# Time cxg\n",
    "\n",
    "num_cts = len(cell_types)\n",
    "cxg_times = []\n",
    "for nct in range(2, num_cts):\n",
    "    \n",
    "    cts_to_compare = itertools.combinations(cell_types[:nct], 2)\n",
    "    \n",
    "    start = time.time()\n",
    "    for ct1, ct2 in cts_to_compare:\n",
    "        \n",
    "        # a = run_memento(ct1, ct2)\n",
    "        b = compute_cxg_pvalues(ct1, ct2)\n",
    "    duration = time.time()-start\n",
    "    cxg_times.append(duration)\n"
   ]
  },
  {
   "cell_type": "code",
   "execution_count": 28,
   "id": "483fbad7-87df-493c-a3ae-22bcfc78b27b",
   "metadata": {
    "tags": []
   },
   "outputs": [],
   "source": [
    "num_cts = len(cell_types)\n"
   ]
  },
  {
   "cell_type": "code",
   "execution_count": null,
   "id": "75ceef35-51f5-404d-a885-31a890677c8f",
   "metadata": {
    "tags": []
   },
   "outputs": [
    {
     "name": "stderr",
     "output_type": "stream",
     "text": [
      "[Parallel(n_jobs=13)]: Using backend LokyBackend with 13 concurrent workers.\n",
      "[Parallel(n_jobs=13)]: Done  24 tasks      | elapsed:    2.3s\n",
      "[Parallel(n_jobs=13)]: Done 174 tasks      | elapsed:    3.8s\n",
      "[Parallel(n_jobs=13)]: Done 627 tasks      | elapsed:    8.0s\n"
     ]
    }
   ],
   "source": [
    "# Time memento\n",
    "num_trial = 10\n",
    "num_cts = len(cell_types)\n",
    "memento_times = np.zeros((num_cts-1, num_trial))\n",
    "\n",
    "for idx, nct in enumerate(range(2, num_cts+1)):\n",
    "    \n",
    "    cts_to_compare = list(itertools.combinations(cell_types[:nct], 2))\n",
    "    \n",
    "    for trial in range(num_trial):\n",
    "        start = time.time()\n",
    "        \n",
    "        for ct1, ct2 in cts_to_compare:\n",
    "            a = run_memento(ct1, ct2)\n",
    "\n",
    "        end = time.time()\n",
    "        memento_times[idx, trial] = end-start"
   ]
  },
  {
   "cell_type": "code",
   "execution_count": 29,
   "id": "253ebd3b-6b8e-45f5-b2b9-e71f3997207b",
   "metadata": {
    "tags": []
   },
   "outputs": [],
   "source": [
    "num_comparisons = []\n",
    "for nct in range(2, num_cts+1):\n",
    "    \n",
    "    cts_to_compare = itertools.combinations(cell_types[:nct], 2)\n",
    "    num_comparisons.append(len(list(cts_to_compare)))"
   ]
  },
  {
   "cell_type": "code",
   "execution_count": 30,
   "id": "e9855941-0b01-4533-a6f7-1b579ef7890f",
   "metadata": {},
   "outputs": [],
   "source": [
    "cxg_times = [0.0445709228515625,\n",
    " 0.12334084510803223,\n",
    " 0.24467754364013672,\n",
    " 0.4052596092224121,\n",
    " 0.5705969333648682,\n",
    " 0.78609299659729,\n",
    " 1.0434541702270508,\n",
    " 1.396212100982666,\n",
    " 1.4767653942108154]\n",
    "\n",
    "memento_times = [16.082085132598877,\n",
    " 46.88715410232544,\n",
    " 86.9343409538269,\n",
    " 131.8815257549286,\n",
    " 161.52750897407532,\n",
    " 211.55276083946228,\n",
    " 266.297087430954,\n",
    " 295.0561339855194,\n",
    " 314.1077857017517]"
   ]
  },
  {
   "cell_type": "code",
   "execution_count": 31,
   "id": "0e2a4bf1-8676-462c-93fa-4cfd99f92351",
   "metadata": {
    "tags": []
   },
   "outputs": [],
   "source": [
    "num_comparisons = []\n",
    "for nct in range(2, num_cts):\n",
    "    \n",
    "    cts_to_compare = itertools.combinations(cell_types[:nct], 2)\n",
    "    num_comparisons.append(len(list(cts_to_compare)))"
   ]
  },
  {
   "cell_type": "code",
   "execution_count": 37,
   "id": "34ba6bbd-c4e8-4831-9df2-7b93d959156f",
   "metadata": {
    "tags": []
   },
   "outputs": [
    {
     "data": {
      "image/png": "[encoded data removed]",
      "text/plain": [
       "<Figure size 300x150 with 1 Axes>"
      ]
     },
     "metadata": {},
     "output_type": "display_data"
    }
   ],
   "source": [
    "plt.figure(figsize=(3,1.5))\n",
    "plt.plot(num_comparisons, np.array(memento_times)/60, '-o', markeredgecolor='k')\n",
    "plt.plot(num_comparisons, np.array(cxg_times)/60, '-o', markeredgecolor='k')\n",
    "plt.legend(['Default', 'Precomputed'], frameon=False,bbox_to_anchor=(0.7,0.7), loc='upper center')\n",
    "plt.xlabel('Number of binary comparisons')\n",
    "plt.ylabel('Minutes')\n",
    "plt.title('Comparison runtime')\n",
    "# plt.ylim(-50, 600)\n",
    "plt.savefig('comparison_runtime.pdf', bbox_inches='tight')"
   ]
  },
  {
   "cell_type": "code",
   "execution_count": 170,
   "id": "0712a9f0-8a2f-438c-aa55-190c79bbace3",
   "metadata": {
    "tags": []
   },
   "outputs": [],
   "source": [
    "lupus_adata_copy = lupus_adata.copy()\n",
    "lupus_adata_copy.obs['q'] = 0.1"
   ]
  },
  {
   "cell_type": "code",
   "execution_count": 171,
   "id": "4126bb42-bf83-48bd-bf4b-a3d94529870e",
   "metadata": {
    "tags": []
   },
   "outputs": [
    {
     "name": "stdout",
     "output_type": "stream",
     "text": [
      "0.21629118919372559\n"
     ]
    }
   ],
   "source": [
    "start = time.time()\n",
    "memento.setup_memento(lupus_adata_copy, q_column='q', trim_percent=1, filter_mean_thresh=0.1, shrinkage=0)\n",
    "print(time.time()-start)"
   ]
  },
  {
   "cell_type": "code",
   "execution_count": 172,
   "id": "5cc46c95-6777-49ae-86a5-be5b6066ecbe",
   "metadata": {
    "tags": []
   },
   "outputs": [],
   "source": [
    "cxg_precompute_time = 557.3624973297119\n",
    "default_precompute_time = 0.21629118919372559"
   ]
  },
  {
   "cell_type": "code",
   "execution_count": 224,
   "id": "8932616a-3bcf-4855-a098-46e80330cc10",
   "metadata": {
    "tags": []
   },
   "outputs": [],
   "source": [
    "prop_cycle = plt.rcParams['axes.prop_cycle']\n",
    "colors = prop_cycle.by_key()['color']"
   ]
  },
  {
   "cell_type": "code",
   "execution_count": 265,
   "id": "db5b3511-aae0-4f12-98e3-c6b26b287fac",
   "metadata": {
    "tags": []
   },
   "outputs": [
    {
     "data": {
      "image/png": "[encoded data removed]",
      "text/plain": [
       "<Figure size 150x150 with 1 Axes>"
      ]
     },
     "metadata": {},
     "output_type": "display_data"
    }
   ],
   "source": [
    "plt.figure(figsize=(1.5,1.5))\n",
    "plt.bar([0, 1], [default_precompute_time, cxg_precompute_time], color=colors[:2], linewidth=2.5, edgecolor='k')\n",
    "plt.ylabel('Runtime (s)')\n",
    "plt.xticks([0, 1], ['Default', 'Precomputed'], rotation=45)\n",
    "plt.ylim(-50, 600)\n",
    "plt.title('Precomputation\\nruntime')\n",
    "plt.savefig('precomputation_runtime.pdf', bbox_inches='tight')"
   ]
  },
  {
   "cell_type": "code",
   "execution_count": null,
   "id": "ce1e5c56-11c2-471a-b1d5-265dff5c588c",
   "metadata": {},
   "outputs": [],
   "source": []
  }
 ],
 "metadata": {
  "kernelspec": {
   "display_name": "cellcensus",
   "language": "python",
   "name": "myenv"
  },
  "language_info": {
   "codemirror_mode": {
    "name": "ipython",
    "version": 3
   },
   "file_extension": ".py",
   "mimetype": "text/x-python",
   "name": "python",
   "nbconvert_exporter": "python",
   "pygments_lexer": "ipython3",
   "version": "3.11.8"
  }
 },
 "nbformat": 4,
 "nbformat_minor": 5
}
