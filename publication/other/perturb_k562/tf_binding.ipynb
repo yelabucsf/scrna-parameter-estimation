{
 "cells": [
  {
   "cell_type": "markdown",
   "metadata": {},
   "source": [
    "# Process ENCODE data"
   ]
  },
  {
   "cell_type": "code",
   "execution_count": 1,
   "metadata": {},
   "outputs": [],
   "source": [
    "import scanpy as sc\n",
    "import seaborn as sns\n",
    "import pandas as pd\n",
    "import matplotlib.pyplot as plt\n",
    "import numpy as np\n",
    "import scipy.stats as stats\n",
    "from pybedtools import BedTool\n",
    "import pickle as pkl\n",
    "%matplotlib inline"
   ]
  },
  {
   "cell_type": "code",
   "execution_count": 2,
   "metadata": {},
   "outputs": [],
   "source": [
    "pd.set_option('max_columns', None)"
   ]
  },
  {
   "cell_type": "code",
   "execution_count": 3,
   "metadata": {},
   "outputs": [],
   "source": [
    "import sys\n",
    "sys.path.append('/home/ssm-user/Github/scrna-parameter-estimation/dist/memento-0.0.6-py3.8.egg')\n",
    "sys.path.append('/home/ssm-user/Github/misc-seq/miscseq/')\n",
    "import encode\n",
    "import memento"
   ]
  },
  {
   "cell_type": "code",
   "execution_count": 4,
   "metadata": {},
   "outputs": [],
   "source": [
    "data_path = '/data_volume/memento/k562/'"
   ]
  },
  {
   "cell_type": "markdown",
   "metadata": {},
   "source": [
    "### Read metadata"
   ]
  },
  {
   "cell_type": "code",
   "execution_count": 39,
   "metadata": {},
   "outputs": [],
   "source": [
    "desired_otype = ['optimal IDR thresholded peaks', 'IDR thresholded peaks']\n",
    "desired_fformat = ['bed narrowPeak']"
   ]
  },
  {
   "cell_type": "code",
   "execution_count": 40,
   "metadata": {},
   "outputs": [],
   "source": [
    "metadata = pd.read_csv('metadata.tsv', sep='\\t')"
   ]
  },
  {
   "cell_type": "code",
   "execution_count": 41,
   "metadata": {},
   "outputs": [
    {
     "data": {
      "text/html": [
       "<div>\n",
       "<style scoped>\n",
       "    .dataframe tbody tr th:only-of-type {\n",
       "        vertical-align: middle;\n",
       "    }\n",
       "\n",
       "    .dataframe tbody tr th {\n",
       "        vertical-align: top;\n",
       "    }\n",
       "\n",
       "    .dataframe thead th {\n",
       "        text-align: right;\n",
       "    }\n",
       "</style>\n",
       "<table border=\"1\" class=\"dataframe\">\n",
       "  <thead>\n",
       "    <tr style=\"text-align: right;\">\n",
       "      <th></th>\n",
       "      <th>File accession</th>\n",
       "      <th>File format</th>\n",
       "      <th>File type</th>\n",
       "      <th>File format type</th>\n",
       "      <th>Output type</th>\n",
       "      <th>File assembly</th>\n",
       "      <th>Experiment accession</th>\n",
       "      <th>Assay</th>\n",
       "      <th>Donor(s)</th>\n",
       "      <th>Biosample term id</th>\n",
       "      <th>Biosample term name</th>\n",
       "      <th>Biosample type</th>\n",
       "      <th>Biosample organism</th>\n",
       "      <th>Biosample treatments</th>\n",
       "      <th>Biosample treatments amount</th>\n",
       "      <th>Biosample treatments duration</th>\n",
       "      <th>Biosample genetic modifications methods</th>\n",
       "      <th>Biosample genetic modifications categories</th>\n",
       "      <th>Biosample genetic modifications targets</th>\n",
       "      <th>Biosample genetic modifications gene targets</th>\n",
       "      <th>Biosample genetic modifications site coordinates</th>\n",
       "      <th>Biosample genetic modifications zygosity</th>\n",
       "      <th>Experiment target</th>\n",
       "      <th>Library made from</th>\n",
       "      <th>Library depleted in</th>\n",
       "      <th>Library extraction method</th>\n",
       "      <th>Library lysis method</th>\n",
       "      <th>Library crosslinking method</th>\n",
       "      <th>Library strand specific</th>\n",
       "      <th>Experiment date released</th>\n",
       "      <th>Project</th>\n",
       "      <th>RBNS protein concentration</th>\n",
       "      <th>Library fragmentation method</th>\n",
       "      <th>Library size range</th>\n",
       "      <th>Biological replicate(s)</th>\n",
       "      <th>Technical replicate(s)</th>\n",
       "      <th>Read length</th>\n",
       "      <th>Mapped read length</th>\n",
       "      <th>Run type</th>\n",
       "      <th>Paired end</th>\n",
       "      <th>Paired with</th>\n",
       "      <th>Index of</th>\n",
       "      <th>Derived from</th>\n",
       "      <th>Size</th>\n",
       "      <th>Lab</th>\n",
       "      <th>md5sum</th>\n",
       "      <th>dbxrefs</th>\n",
       "      <th>File download URL</th>\n",
       "      <th>Genome annotation</th>\n",
       "      <th>Platform</th>\n",
       "      <th>Controlled by</th>\n",
       "      <th>File Status</th>\n",
       "      <th>s3_uri</th>\n",
       "      <th>File analysis title</th>\n",
       "      <th>File analysis status</th>\n",
       "      <th>Audit WARNING</th>\n",
       "      <th>Audit NOT_COMPLIANT</th>\n",
       "      <th>Audit ERROR</th>\n",
       "    </tr>\n",
       "  </thead>\n",
       "  <tbody>\n",
       "    <tr>\n",
       "      <th>0</th>\n",
       "      <td>ENCFF718DSJ</td>\n",
       "      <td>bed narrowPeak</td>\n",
       "      <td>bed</td>\n",
       "      <td>narrowPeak</td>\n",
       "      <td>conservative IDR thresholded peaks</td>\n",
       "      <td>GRCh38</td>\n",
       "      <td>ENCSR376XAV</td>\n",
       "      <td>TF ChIP-seq</td>\n",
       "      <td>/human-donors/ENCDO000AAD/</td>\n",
       "      <td>EFO:0002067</td>\n",
       "      <td>K562</td>\n",
       "      <td>cell line</td>\n",
       "      <td>Homo sapiens</td>\n",
       "      <td>NaN</td>\n",
       "      <td>NaN</td>\n",
       "      <td>NaN</td>\n",
       "      <td>CRISPR</td>\n",
       "      <td>insertion</td>\n",
       "      <td>/targets/SMAD3-human/</td>\n",
       "      <td>NaN</td>\n",
       "      <td>NaN</td>\n",
       "      <td>NaN</td>\n",
       "      <td>SMAD3-human</td>\n",
       "      <td>DNA</td>\n",
       "      <td>NaN</td>\n",
       "      <td>NaN</td>\n",
       "      <td>NaN</td>\n",
       "      <td>formaldehyde</td>\n",
       "      <td>NaN</td>\n",
       "      <td>2020-08-03</td>\n",
       "      <td>ENCODE</td>\n",
       "      <td>NaN</td>\n",
       "      <td>NaN</td>\n",
       "      <td>450-650</td>\n",
       "      <td>1, 2</td>\n",
       "      <td>1_1, 2_1</td>\n",
       "      <td>NaN</td>\n",
       "      <td>NaN</td>\n",
       "      <td>NaN</td>\n",
       "      <td>NaN</td>\n",
       "      <td>NaN</td>\n",
       "      <td>NaN</td>\n",
       "      <td>/files/ENCFF174OKT/, /files/ENCFF089XMF/, /fil...</td>\n",
       "      <td>144560</td>\n",
       "      <td>ENCODE Processing Pipeline</td>\n",
       "      <td>20ae398fd04e24d5a1004d32c84049cc</td>\n",
       "      <td>NaN</td>\n",
       "      <td>https://www.encodeproject.org/files/ENCFF718DS...</td>\n",
       "      <td>NaN</td>\n",
       "      <td>NaN</td>\n",
       "      <td>NaN</td>\n",
       "      <td>released</td>\n",
       "      <td>s3://encode-public/2020/07/03/f3795b6e-44c9-4d...</td>\n",
       "      <td>ENCODE4 v1.4.0 GRCh38</td>\n",
       "      <td>released</td>\n",
       "      <td>mild to moderate bottlenecking</td>\n",
       "      <td>NaN</td>\n",
       "      <td>NaN</td>\n",
       "    </tr>\n",
       "    <tr>\n",
       "      <th>1</th>\n",
       "      <td>ENCFF529QQI</td>\n",
       "      <td>bigWig</td>\n",
       "      <td>bigWig</td>\n",
       "      <td>NaN</td>\n",
       "      <td>signal p-value</td>\n",
       "      <td>GRCh38</td>\n",
       "      <td>ENCSR376XAV</td>\n",
       "      <td>TF ChIP-seq</td>\n",
       "      <td>/human-donors/ENCDO000AAD/</td>\n",
       "      <td>EFO:0002067</td>\n",
       "      <td>K562</td>\n",
       "      <td>cell line</td>\n",
       "      <td>Homo sapiens</td>\n",
       "      <td>NaN</td>\n",
       "      <td>NaN</td>\n",
       "      <td>NaN</td>\n",
       "      <td>CRISPR</td>\n",
       "      <td>insertion</td>\n",
       "      <td>/targets/SMAD3-human/</td>\n",
       "      <td>NaN</td>\n",
       "      <td>NaN</td>\n",
       "      <td>NaN</td>\n",
       "      <td>SMAD3-human</td>\n",
       "      <td>DNA</td>\n",
       "      <td>NaN</td>\n",
       "      <td>NaN</td>\n",
       "      <td>NaN</td>\n",
       "      <td>formaldehyde</td>\n",
       "      <td>NaN</td>\n",
       "      <td>2020-08-03</td>\n",
       "      <td>ENCODE</td>\n",
       "      <td>NaN</td>\n",
       "      <td>NaN</td>\n",
       "      <td>450-650</td>\n",
       "      <td>1, 2</td>\n",
       "      <td>1_1, 2_1</td>\n",
       "      <td>NaN</td>\n",
       "      <td>NaN</td>\n",
       "      <td>NaN</td>\n",
       "      <td>NaN</td>\n",
       "      <td>NaN</td>\n",
       "      <td>NaN</td>\n",
       "      <td>/files/ENCFF089XMF/, /files/ENCFF174OKT/, /fil...</td>\n",
       "      <td>1113200357</td>\n",
       "      <td>ENCODE Processing Pipeline</td>\n",
       "      <td>fdd63695eb81a0bd299a2c2ef6a5945c</td>\n",
       "      <td>NaN</td>\n",
       "      <td>https://www.encodeproject.org/files/ENCFF529QQ...</td>\n",
       "      <td>NaN</td>\n",
       "      <td>NaN</td>\n",
       "      <td>NaN</td>\n",
       "      <td>released</td>\n",
       "      <td>s3://encode-public/2020/07/03/914d7513-8457-4b...</td>\n",
       "      <td>ENCODE4 v1.4.0 GRCh38</td>\n",
       "      <td>released</td>\n",
       "      <td>mild to moderate bottlenecking</td>\n",
       "      <td>NaN</td>\n",
       "      <td>NaN</td>\n",
       "    </tr>\n",
       "  </tbody>\n",
       "</table>\n",
       "</div>"
      ],
      "text/plain": [
       "  File accession     File format File type File format type  \\\n",
       "0    ENCFF718DSJ  bed narrowPeak       bed       narrowPeak   \n",
       "1    ENCFF529QQI          bigWig    bigWig              NaN   \n",
       "\n",
       "                          Output type File assembly Experiment accession  \\\n",
       "0  conservative IDR thresholded peaks        GRCh38          ENCSR376XAV   \n",
       "1                      signal p-value        GRCh38          ENCSR376XAV   \n",
       "\n",
       "         Assay                    Donor(s) Biosample term id  \\\n",
       "0  TF ChIP-seq  /human-donors/ENCDO000AAD/       EFO:0002067   \n",
       "1  TF ChIP-seq  /human-donors/ENCDO000AAD/       EFO:0002067   \n",
       "\n",
       "  Biosample term name Biosample type Biosample organism Biosample treatments  \\\n",
       "0                K562      cell line       Homo sapiens                  NaN   \n",
       "1                K562      cell line       Homo sapiens                  NaN   \n",
       "\n",
       "   Biosample treatments amount Biosample treatments duration  \\\n",
       "0                          NaN                           NaN   \n",
       "1                          NaN                           NaN   \n",
       "\n",
       "  Biosample genetic modifications methods  \\\n",
       "0                                  CRISPR   \n",
       "1                                  CRISPR   \n",
       "\n",
       "  Biosample genetic modifications categories  \\\n",
       "0                                  insertion   \n",
       "1                                  insertion   \n",
       "\n",
       "  Biosample genetic modifications targets  \\\n",
       "0                   /targets/SMAD3-human/   \n",
       "1                   /targets/SMAD3-human/   \n",
       "\n",
       "   Biosample genetic modifications gene targets  \\\n",
       "0                                           NaN   \n",
       "1                                           NaN   \n",
       "\n",
       "  Biosample genetic modifications site coordinates  \\\n",
       "0                                              NaN   \n",
       "1                                              NaN   \n",
       "\n",
       "   Biosample genetic modifications zygosity Experiment target  \\\n",
       "0                                       NaN       SMAD3-human   \n",
       "1                                       NaN       SMAD3-human   \n",
       "\n",
       "  Library made from  Library depleted in  Library extraction method  \\\n",
       "0               DNA                  NaN                        NaN   \n",
       "1               DNA                  NaN                        NaN   \n",
       "\n",
       "  Library lysis method Library crosslinking method  Library strand specific  \\\n",
       "0                  NaN                formaldehyde                      NaN   \n",
       "1                  NaN                formaldehyde                      NaN   \n",
       "\n",
       "  Experiment date released Project  RBNS protein concentration  \\\n",
       "0               2020-08-03  ENCODE                         NaN   \n",
       "1               2020-08-03  ENCODE                         NaN   \n",
       "\n",
       "  Library fragmentation method Library size range Biological replicate(s)  \\\n",
       "0                          NaN            450-650                    1, 2   \n",
       "1                          NaN            450-650                    1, 2   \n",
       "\n",
       "  Technical replicate(s)  Read length  Mapped read length  Run type  \\\n",
       "0               1_1, 2_1          NaN                 NaN       NaN   \n",
       "1               1_1, 2_1          NaN                 NaN       NaN   \n",
       "\n",
       "   Paired end  Paired with  Index of  \\\n",
       "0         NaN          NaN       NaN   \n",
       "1         NaN          NaN       NaN   \n",
       "\n",
       "                                        Derived from        Size  \\\n",
       "0  /files/ENCFF174OKT/, /files/ENCFF089XMF/, /fil...      144560   \n",
       "1  /files/ENCFF089XMF/, /files/ENCFF174OKT/, /fil...  1113200357   \n",
       "\n",
       "                          Lab                            md5sum  dbxrefs  \\\n",
       "0  ENCODE Processing Pipeline  20ae398fd04e24d5a1004d32c84049cc      NaN   \n",
       "1  ENCODE Processing Pipeline  fdd63695eb81a0bd299a2c2ef6a5945c      NaN   \n",
       "\n",
       "                                   File download URL  Genome annotation  \\\n",
       "0  https://www.encodeproject.org/files/ENCFF718DS...                NaN   \n",
       "1  https://www.encodeproject.org/files/ENCFF529QQ...                NaN   \n",
       "\n",
       "   Platform  Controlled by File Status  \\\n",
       "0       NaN            NaN    released   \n",
       "1       NaN            NaN    released   \n",
       "\n",
       "                                              s3_uri    File analysis title  \\\n",
       "0  s3://encode-public/2020/07/03/f3795b6e-44c9-4d...  ENCODE4 v1.4.0 GRCh38   \n",
       "1  s3://encode-public/2020/07/03/914d7513-8457-4b...  ENCODE4 v1.4.0 GRCh38   \n",
       "\n",
       "  File analysis status                   Audit WARNING Audit NOT_COMPLIANT  \\\n",
       "0             released  mild to moderate bottlenecking                 NaN   \n",
       "1             released  mild to moderate bottlenecking                 NaN   \n",
       "\n",
       "  Audit ERROR  \n",
       "0         NaN  \n",
       "1         NaN  "
      ]
     },
     "execution_count": 41,
     "metadata": {},
     "output_type": "execute_result"
    }
   ],
   "source": [
    "metadata.head(2)"
   ]
  },
  {
   "cell_type": "code",
   "execution_count": 42,
   "metadata": {},
   "outputs": [],
   "source": [
    "metadata = metadata[metadata['File format'].isin(desired_fformat) & metadata['Output type'].isin(desired_otype)]\\\n",
    "    .sort_values(['Experiment target','Output type'])\\\n",
    "    .drop_duplicates(['Experiment target'],keep='last')"
   ]
  },
  {
   "cell_type": "markdown",
   "metadata": {},
   "source": [
    "### Grab the TSS overlapping genes"
   ]
  },
  {
   "cell_type": "code",
   "execution_count": 47,
   "metadata": {},
   "outputs": [],
   "source": [
    "enc = encode.Encode('/home/ssm-user/Github/misc-seq/miscseq/GRCh38Genes.bed')"
   ]
  },
  {
   "cell_type": "code",
   "execution_count": null,
   "metadata": {},
   "outputs": [],
   "source": [
    "%%capture --no-stderr\n",
    "bed_objs = {tf:enc.get_encode_peaks(link) for tf,link in zip(metadata['Experiment target'], metadata['File download URL'])}"
   ]
  },
  {
   "cell_type": "code",
   "execution_count": null,
   "metadata": {},
   "outputs": [],
   "source": [
    "target_genes = {tf:enc.get_peak_genes_bed(bed_obj, 0).query('distance==0').gene.tolist() for tf, bed_obj in bed_objs.items()}"
   ]
  },
  {
   "cell_type": "markdown",
   "metadata": {},
   "source": [
    "### Read the guide labled K562 data\n",
    "\n",
    "From perturbseq paper"
   ]
  },
  {
   "cell_type": "code",
   "execution_count": 50,
   "metadata": {},
   "outputs": [],
   "source": [
    "adata = sc.read(data_path + 'h5ad/raw-perturbseq.h5ad')\n",
    "adata.obs['KO'] = (~adata.obs['guides'].str.contains('INTER')).astype(int)\n",
    "adata.obs['WT'] = (adata.obs['guides'].str.contains('INTER'))\n",
    "adata.obs['KO_GENE'] = adata.obs['guides'].str.split('_').str[1].str[2:]"
   ]
  },
  {
   "cell_type": "code",
   "execution_count": 51,
   "metadata": {},
   "outputs": [],
   "source": [
    "adata.obs['n_counts'] = adata.X.sum(axis=1)"
   ]
  },
  {
   "cell_type": "code",
   "execution_count": 52,
   "metadata": {},
   "outputs": [],
   "source": [
    "guides = adata.obs.guides.drop_duplicates().tolist()\n",
    "guides = [g for g in guides if ('INTER' not in g and 'nan' not in g)]"
   ]
  },
  {
   "cell_type": "markdown",
   "metadata": {},
   "source": [
    "### Setup memento"
   ]
  },
  {
   "cell_type": "code",
   "execution_count": 53,
   "metadata": {},
   "outputs": [],
   "source": [
    "adata.obs['q'] = 0.07"
   ]
  },
  {
   "cell_type": "code",
   "execution_count": 54,
   "metadata": {},
   "outputs": [
    {
     "name": "stderr",
     "output_type": "stream",
     "text": [
      "/home/ssm-user/Github/scrna-parameter-estimation/dist/memento-0.0.6-py3.8.egg/memento/main.py:68: RankWarning: Polyfit may be poorly conditioned\n"
     ]
    }
   ],
   "source": [
    "memento.setup_memento(adata, q_column='q', trim_percent=0.2)"
   ]
  },
  {
   "cell_type": "markdown",
   "metadata": {},
   "source": [
    "### Get WT variability of each TF"
   ]
  },
  {
   "cell_type": "code",
   "execution_count": 87,
   "metadata": {},
   "outputs": [],
   "source": [
    "wt_adata = adata#[adata.obs['WT']].copy().copy()"
   ]
  },
  {
   "cell_type": "code",
   "execution_count": 88,
   "metadata": {},
   "outputs": [],
   "source": [
    "tfs = adata.obs.query('KO==1').KO_GENE.drop_duplicates().tolist()"
   ]
  },
  {
   "cell_type": "code",
   "execution_count": 89,
   "metadata": {},
   "outputs": [
    {
     "name": "stderr",
     "output_type": "stream",
     "text": [
      "/home/ssm-user/anaconda3/envs/single_cell/lib/python3.8/site-packages/pandas/core/arrays/categorical.py:2487: FutureWarning: The `inplace` parameter in pandas.Categorical.remove_unused_categories is deprecated and will be removed in a future version.\n",
      "  res = method(*args, **kwargs)\n"
     ]
    }
   ],
   "source": [
    "memento.create_groups(wt_adata, label_columns=['KO'])\n",
    "memento.compute_1d_moments(wt_adata, min_perc_group=.9,)"
   ]
  },
  {
   "cell_type": "code",
   "execution_count": 90,
   "metadata": {},
   "outputs": [],
   "source": [
    "tf_moments = memento.get_1d_moments(wt_adata, groupby='KO')"
   ]
  },
  {
   "cell_type": "markdown",
   "metadata": {},
   "source": [
    "### Compare the counts and variability"
   ]
  },
  {
   "cell_type": "code",
   "execution_count": 91,
   "metadata": {},
   "outputs": [],
   "source": [
    "target_numbers = []\n",
    "for tf in target_genes.keys():\n",
    "    target_numbers.append((tf.split('-')[0], len(target_genes[tf])))\n",
    "target_numbers = pd.DataFrame(target_numbers, columns=['gene', 'num_targets'])"
   ]
  },
  {
   "cell_type": "code",
   "execution_count": 92,
   "metadata": {},
   "outputs": [],
   "source": [
    "merged = target_numbers.merge(tf_moments[1], on='gene')"
   ]
  },
  {
   "cell_type": "code",
   "execution_count": 93,
   "metadata": {},
   "outputs": [
    {
     "data": {
      "text/plain": [
       "(0.07603237101371765, 0.24563353583980724)"
      ]
     },
     "execution_count": 93,
     "metadata": {},
     "output_type": "execute_result"
    }
   ],
   "source": [
    "stats.pearsonr(merged.query('gene != \"EGR1\"')['num_targets'], merged.query('gene != \"EGR1\"')['KO_0'])"
   ]
  },
  {
   "cell_type": "code",
   "execution_count": 94,
   "metadata": {},
   "outputs": [
    {
     "data": {
      "text/plain": [
       "(236, 4)"
      ]
     },
     "execution_count": 94,
     "metadata": {},
     "output_type": "execute_result"
    }
   ],
   "source": [
    "merged.shape"
   ]
  },
  {
   "cell_type": "code",
   "execution_count": 95,
   "metadata": {},
   "outputs": [
    {
     "data": {
      "text/html": [
       "<div>\n",
       "<style scoped>\n",
       "    .dataframe tbody tr th:only-of-type {\n",
       "        vertical-align: middle;\n",
       "    }\n",
       "\n",
       "    .dataframe tbody tr th {\n",
       "        vertical-align: top;\n",
       "    }\n",
       "\n",
       "    .dataframe thead th {\n",
       "        text-align: right;\n",
       "    }\n",
       "</style>\n",
       "<table border=\"1\" class=\"dataframe\">\n",
       "  <thead>\n",
       "    <tr style=\"text-align: right;\">\n",
       "      <th></th>\n",
       "      <th>gene</th>\n",
       "      <th>num_targets</th>\n",
       "      <th>KO_1</th>\n",
       "      <th>KO_0</th>\n",
       "    </tr>\n",
       "  </thead>\n",
       "  <tbody>\n",
       "    <tr>\n",
       "      <th>0</th>\n",
       "      <td>ADNP</td>\n",
       "      <td>1404</td>\n",
       "      <td>-0.136826</td>\n",
       "      <td>-0.135546</td>\n",
       "    </tr>\n",
       "    <tr>\n",
       "      <th>1</th>\n",
       "      <td>AFF1</td>\n",
       "      <td>3591</td>\n",
       "      <td>-0.047129</td>\n",
       "      <td>-0.299378</td>\n",
       "    </tr>\n",
       "    <tr>\n",
       "      <th>2</th>\n",
       "      <td>ARHGAP35</td>\n",
       "      <td>636</td>\n",
       "      <td>-0.089140</td>\n",
       "      <td>-0.121705</td>\n",
       "    </tr>\n",
       "    <tr>\n",
       "      <th>3</th>\n",
       "      <td>ARID1B</td>\n",
       "      <td>5229</td>\n",
       "      <td>0.099314</td>\n",
       "      <td>-0.082436</td>\n",
       "    </tr>\n",
       "    <tr>\n",
       "      <th>4</th>\n",
       "      <td>ARID3A</td>\n",
       "      <td>1364</td>\n",
       "      <td>0.081502</td>\n",
       "      <td>0.061143</td>\n",
       "    </tr>\n",
       "    <tr>\n",
       "      <th>...</th>\n",
       "      <td>...</td>\n",
       "      <td>...</td>\n",
       "      <td>...</td>\n",
       "      <td>...</td>\n",
       "    </tr>\n",
       "    <tr>\n",
       "      <th>231</th>\n",
       "      <td>ZNF780A</td>\n",
       "      <td>147</td>\n",
       "      <td>-0.092517</td>\n",
       "      <td>-0.443955</td>\n",
       "    </tr>\n",
       "    <tr>\n",
       "      <th>232</th>\n",
       "      <td>ZNF83</td>\n",
       "      <td>2808</td>\n",
       "      <td>-0.247829</td>\n",
       "      <td>-0.186385</td>\n",
       "    </tr>\n",
       "    <tr>\n",
       "      <th>233</th>\n",
       "      <td>ZSCAN29</td>\n",
       "      <td>1354</td>\n",
       "      <td>-0.138177</td>\n",
       "      <td>-0.058830</td>\n",
       "    </tr>\n",
       "    <tr>\n",
       "      <th>234</th>\n",
       "      <td>ZSCAN32</td>\n",
       "      <td>722</td>\n",
       "      <td>-0.033572</td>\n",
       "      <td>-0.026983</td>\n",
       "    </tr>\n",
       "    <tr>\n",
       "      <th>235</th>\n",
       "      <td>ZZZ3</td>\n",
       "      <td>1333</td>\n",
       "      <td>-0.033020</td>\n",
       "      <td>0.086584</td>\n",
       "    </tr>\n",
       "  </tbody>\n",
       "</table>\n",
       "<p>236 rows × 4 columns</p>\n",
       "</div>"
      ],
      "text/plain": [
       "         gene  num_targets      KO_1      KO_0\n",
       "0        ADNP         1404 -0.136826 -0.135546\n",
       "1        AFF1         3591 -0.047129 -0.299378\n",
       "2    ARHGAP35          636 -0.089140 -0.121705\n",
       "3      ARID1B         5229  0.099314 -0.082436\n",
       "4      ARID3A         1364  0.081502  0.061143\n",
       "..        ...          ...       ...       ...\n",
       "231   ZNF780A          147 -0.092517 -0.443955\n",
       "232     ZNF83         2808 -0.247829 -0.186385\n",
       "233   ZSCAN29         1354 -0.138177 -0.058830\n",
       "234   ZSCAN32          722 -0.033572 -0.026983\n",
       "235      ZZZ3         1333 -0.033020  0.086584\n",
       "\n",
       "[236 rows x 4 columns]"
      ]
     },
     "execution_count": 95,
     "metadata": {},
     "output_type": "execute_result"
    }
   ],
   "source": [
    "merged"
   ]
  },
  {
   "cell_type": "code",
   "execution_count": 97,
   "metadata": {},
   "outputs": [
    {
     "data": {
      "text/plain": [
       "Text(0, 0.5, 'Variability in WT')"
      ]
     },
     "execution_count": 97,
     "metadata": {},
     "output_type": "execute_result"
    },
    {
     "data": {
      "image/png": "[encoded data removed]",
      "text/plain": [
       "<Figure size 432x288 with 1 Axes>"
      ]
     },
     "metadata": {
      "needs_background": "light"
     },
     "output_type": "display_data"
    }
   ],
   "source": [
    "plt.scatter(merged['num_targets'], merged['KO_0'])\n",
    "plt.xlabel('Num target genes'); plt.ylabel('Variability in WT')\n",
    "# plt.ylim(-1,2)"
   ]
  },
  {
   "cell_type": "markdown",
   "metadata": {},
   "source": [
    "### Run 1D memento for each guide"
   ]
  },
  {
   "cell_type": "code",
   "execution_count": 19,
   "metadata": {},
   "outputs": [],
   "source": [
    "result_1d_dict = {}"
   ]
  },
  {
   "cell_type": "code",
   "execution_count": null,
   "metadata": {},
   "outputs": [],
   "source": [
    "for g in guides:\n",
    "    \n",
    "    if g in result_1d_dict or 'INTER' in g or 'nan' in g:\n",
    "        continue\n",
    "    \n",
    "    print(g)\n",
    "    \n",
    "    subset = adata[adata.obs.WT | (adata.obs.guides==g)].copy().copy()\n",
    "    \n",
    "    memento.create_groups(subset, label_columns=['KO'])\n",
    "    memento.compute_1d_moments(subset, min_perc_group=.9)\n",
    "    \n",
    "    memento.ht_1d_moments(\n",
    "        subset, \n",
    "        formula_like='1 + KO',\n",
    "        cov_column='KO', \n",
    "        num_boot=10000, \n",
    "        verbose=1,\n",
    "        num_cpus=14)\n",
    "    \n",
    "    result_1d_dict[g] = memento.get_1d_ht_result(subset)\n",
    "    \n",
    "    \n",
    "    break"
   ]
  },
  {
   "cell_type": "code",
   "execution_count": 41,
   "metadata": {},
   "outputs": [],
   "source": [
    "for g, result in result_1d_dict.items():\n",
    "    \n",
    "    result.to_csv(data_path + '/result_1d/{}.csv'.format(g), index=False)"
   ]
  },
  {
   "cell_type": "markdown",
   "metadata": {},
   "source": [
    "### Get the change in magnitude for each guide"
   ]
  },
  {
   "cell_type": "code",
   "execution_count": 23,
   "metadata": {},
   "outputs": [],
   "source": [
    "result_1d_dict = {g:pd.read_csv(data_path + '/result_1d/{}.csv'.format(g)) for g in guides if ('INTER' not in g and 'nan' not in g)}"
   ]
  },
  {
   "cell_type": "code",
   "execution_count": 52,
   "metadata": {},
   "outputs": [],
   "source": [
    "coef_mag = []\n",
    "for g, df in result_1d_dict.items():\n",
    "    coef_mag.append((g, df['de_coef'].abs().median()))\n",
    "coef_mag = pd.DataFrame(coef_mag, columns=['guide', 'de_mag'])\n",
    "coef_mag['gene'] = coef_mag['guide'].str.split('_').str[1].str[2:]"
   ]
  },
  {
   "cell_type": "markdown",
   "metadata": {},
   "source": [
    "### Get WT variability of each TF"
   ]
  },
  {
   "cell_type": "code",
   "execution_count": 126,
   "metadata": {},
   "outputs": [
    {
     "name": "stderr",
     "output_type": "stream",
     "text": [
      "/home/ssm-user/anaconda3/envs/single_cell/lib/python3.8/site-packages/pandas/core/arrays/categorical.py:2487: FutureWarning: The `inplace` parameter in pandas.Categorical.remove_unused_categories is deprecated and will be removed in a future version.\n",
      "  res = method(*args, **kwargs)\n"
     ]
    }
   ],
   "source": [
    "wt_adata = adata[adata.obs['WT']].copy().copy()"
   ]
  },
  {
   "cell_type": "code",
   "execution_count": 127,
   "metadata": {},
   "outputs": [],
   "source": [
    "tfs = adata.obs.query('KO==1').KO_GENE.drop_duplicates().tolist()"
   ]
  },
  {
   "cell_type": "code",
   "execution_count": 128,
   "metadata": {},
   "outputs": [],
   "source": [
    "memento.create_groups(wt_adata, label_columns=['KO'])\n",
    "memento.compute_1d_moments(wt_adata, min_perc_group=.9,)"
   ]
  },
  {
   "cell_type": "code",
   "execution_count": 129,
   "metadata": {},
   "outputs": [],
   "source": [
    "tf_moments = memento.get_1d_moments(wt_adata, groupby='KO')"
   ]
  },
  {
   "cell_type": "markdown",
   "metadata": {},
   "source": [
    "### Compare WT variability to De mag"
   ]
  },
  {
   "cell_type": "code",
   "execution_count": 53,
   "metadata": {},
   "outputs": [],
   "source": [
    "merged = coef_mag.merge(tf_moments[1], on='gene')"
   ]
  },
  {
   "cell_type": "code",
   "execution_count": 58,
   "metadata": {},
   "outputs": [
    {
     "data": {
      "text/plain": [
       "SpearmanrResult(correlation=0.3045239982887388, pvalue=0.13038250961095305)"
      ]
     },
     "execution_count": 58,
     "metadata": {},
     "output_type": "execute_result"
    }
   ],
   "source": [
    "stats.spearmanr(merged['de_mag'], merged['KO_0'])"
   ]
  },
  {
   "cell_type": "code",
   "execution_count": 55,
   "metadata": {},
   "outputs": [
    {
     "data": {
      "text/plain": [
       "<matplotlib.collections.PathCollection at 0x7f02590431f0>"
      ]
     },
     "execution_count": 55,
     "metadata": {},
     "output_type": "execute_result"
    },
    {
     "data": {
      "image/png": "[encoded data removed]",
      "text/plain": [
       "<Figure size 432x288 with 1 Axes>"
      ]
     },
     "metadata": {
      "needs_background": "light"
     },
     "output_type": "display_data"
    }
   ],
   "source": [
    "plt.scatter(merged['de_mag'], merged['KO_0'])"
   ]
  },
  {
   "cell_type": "markdown",
   "metadata": {},
   "source": [
    "### Number of TF binding sites within 5k(?) KB\n"
   ]
  },
  {
   "cell_type": "code",
   "execution_count": 64,
   "metadata": {},
   "outputs": [],
   "source": [
    "enc = encode.Encode('/home/ssm-user/Github/misc-seq/miscseq/GRCh38Genes.bed')"
   ]
  },
  {
   "cell_type": "code",
   "execution_count": 65,
   "metadata": {},
   "outputs": [],
   "source": [
    "encode_links = {\n",
    "    'ELK1':'https://www.encodeproject.org/files/ENCFF119SCQ/@@download/ENCFF119SCQ.bed.gz',\n",
    "    'ELF1':'https://www.encodeproject.org/files/ENCFF133TSU/@@download/ENCFF133TSU.bed.gz',\n",
    "    'IRF1':'https://www.encodeproject.org/files/ENCFF203LRV/@@download/ENCFF203LRV.bed.gz',\n",
    "    'ETS1':'https://www.encodeproject.org/files/ENCFF461PRP/@@download/ENCFF461PRP.bed.gz',\n",
    "    'EGR1':'https://www.encodeproject.org/files/ENCFF375RDB/@@download/ENCFF375RDB.bed.gz',\n",
    "    'YY1':'https://www.encodeproject.org/files/ENCFF635XCI/@@download/ENCFF635XCI.bed.gz',\n",
    "    'GABPA':'https://www.encodeproject.org/files/ENCFF173GUD/@@download/ENCFF173GUD.bed.gz',\n",
    "    'E2F4':'https://www.encodeproject.org/files/ENCFF225TLP/@@download/ENCFF225TLP.bed.gz',\n",
    "    'NR2C2':'https://www.encodeproject.org/files/ENCFF263VIC/@@download/ENCFF263VIC.bed.gz',\n",
    "    'CREB1':'https://www.encodeproject.org/files/ENCFF193LLN/@@download/ENCFF193LLN.bed.gz'\n",
    "}"
   ]
  },
  {
   "cell_type": "code",
   "execution_count": null,
   "metadata": {},
   "outputs": [],
   "source": [
    "bed_objs = {tf:enc.get_encode_peaks(link) for tf,link in encode_links.items()}"
   ]
  },
  {
   "cell_type": "code",
   "execution_count": null,
   "metadata": {},
   "outputs": [],
   "source": [
    "target_genes = {tf:enc.get_peak_genes_bed(bed_obj, 0).query('distance==0').gene.tolist() for tf, bed_obj in bed_objs.items()}"
   ]
  },
  {
   "cell_type": "code",
   "execution_count": 90,
   "metadata": {},
   "outputs": [],
   "source": [
    "x = wt_adata[:, 'EGR1'].X.todense().A1"
   ]
  },
  {
   "cell_type": "code",
   "execution_count": 96,
   "metadata": {},
   "outputs": [
    {
     "data": {
      "text/plain": [
       "array([3771, 1004,  358,  121,   61,   28,   14,    9,    3,    3,    1,\n",
       "          2,    3,    0,    1,    0,    0,    1,    0,    1])"
      ]
     },
     "execution_count": 96,
     "metadata": {},
     "output_type": "execute_result"
    }
   ],
   "source": [
    "np.bincount(x.astype(int))"
   ]
  },
  {
   "cell_type": "code",
   "execution_count": 97,
   "metadata": {},
   "outputs": [
    {
     "data": {
      "text/plain": [
       "0.5171901"
      ]
     },
     "execution_count": 97,
     "metadata": {},
     "output_type": "execute_result"
    }
   ],
   "source": [
    "x.mean()"
   ]
  },
  {
   "cell_type": "code",
   "execution_count": 92,
   "metadata": {},
   "outputs": [
    {
     "data": {
      "text/plain": [
       "(array([3.771e+03, 1.004e+03, 3.580e+02, 1.210e+02, 6.100e+01, 2.800e+01,\n",
       "        1.400e+01, 9.000e+00, 3.000e+00, 3.000e+00, 1.000e+00, 2.000e+00,\n",
       "        3.000e+00, 0.000e+00, 1.000e+00, 0.000e+00, 0.000e+00, 1.000e+00,\n",
       "        0.000e+00, 1.000e+00]),\n",
       " array([ 0.  ,  0.95,  1.9 ,  2.85,  3.8 ,  4.75,  5.7 ,  6.65,  7.6 ,\n",
       "         8.55,  9.5 , 10.45, 11.4 , 12.35, 13.3 , 14.25, 15.2 , 16.15,\n",
       "        17.1 , 18.05, 19.  ], dtype=float32),\n",
       " <BarContainer object of 20 artists>)"
      ]
     },
     "execution_count": 92,
     "metadata": {},
     "output_type": "execute_result"
    },
    {
     "data": {
      "image/png": "[encoded data removed]",
      "text/plain": [
       "<Figure size 432x288 with 1 Axes>"
      ]
     },
     "metadata": {
      "needs_background": "light"
     },
     "output_type": "display_data"
    }
   ],
   "source": [
    "plt.hist(x, bins=20)"
   ]
  },
  {
   "cell_type": "code",
   "execution_count": 83,
   "metadata": {},
   "outputs": [],
   "source": [
    "target_numbers = []\n",
    "for tf in encode_links.keys():\n",
    "    target_numbers.append((tf, len(target_genes[tf])))\n",
    "target_numbers = pd.DataFrame(target_numbers, columns=['gene', 'num_targets'])"
   ]
  },
  {
   "cell_type": "code",
   "execution_count": 85,
   "metadata": {},
   "outputs": [],
   "source": [
    "merged = target_numbers.merge(tf_moments[1], on='gene')"
   ]
  },
  {
   "cell_type": "code",
   "execution_count": 99,
   "metadata": {},
   "outputs": [
    {
     "data": {
      "text/plain": [
       "(-0.5965615744656985, 0.08993665159255994)"
      ]
     },
     "execution_count": 99,
     "metadata": {},
     "output_type": "execute_result"
    }
   ],
   "source": [
    "stats.pearsonr(merged.query('gene != \"EGR1\"')['num_targets'], merged.query('gene != \"EGR1\"')['KO_0'])"
   ]
  },
  {
   "cell_type": "code",
   "execution_count": 86,
   "metadata": {},
   "outputs": [
    {
     "data": {
      "text/plain": [
       "<matplotlib.collections.PathCollection at 0x7f0237621940>"
      ]
     },
     "execution_count": 86,
     "metadata": {},
     "output_type": "execute_result"
    },
    {
     "data": {
      "image/png": "[encoded data removed]",
      "text/plain": [
       "<Figure size 432x288 with 1 Axes>"
      ]
     },
     "metadata": {
      "needs_background": "light"
     },
     "output_type": "display_data"
    }
   ],
   "source": [
    "plt.scatter(merged['num_targets'], merged['KO_0'])"
   ]
  },
  {
   "cell_type": "markdown",
   "metadata": {},
   "source": [
    "### Try with all ENCODE"
   ]
  },
  {
   "cell_type": "code",
   "execution_count": 130,
   "metadata": {},
   "outputs": [
    {
     "data": {
      "text/html": [
       "<div>\n",
       "<style scoped>\n",
       "    .dataframe tbody tr th:only-of-type {\n",
       "        vertical-align: middle;\n",
       "    }\n",
       "\n",
       "    .dataframe tbody tr th {\n",
       "        vertical-align: top;\n",
       "    }\n",
       "\n",
       "    .dataframe thead th {\n",
       "        text-align: right;\n",
       "    }\n",
       "</style>\n",
       "<table border=\"1\" class=\"dataframe\">\n",
       "  <thead>\n",
       "    <tr style=\"text-align: right;\">\n",
       "      <th></th>\n",
       "      <th>gene</th>\n",
       "      <th>num_targets</th>\n",
       "      <th>KO_0</th>\n",
       "    </tr>\n",
       "  </thead>\n",
       "  <tbody>\n",
       "    <tr>\n",
       "      <th>0</th>\n",
       "      <td>ELK1</td>\n",
       "      <td>2841</td>\n",
       "      <td>-0.187563</td>\n",
       "    </tr>\n",
       "    <tr>\n",
       "      <th>1</th>\n",
       "      <td>ELF1</td>\n",
       "      <td>7780</td>\n",
       "      <td>-0.083915</td>\n",
       "    </tr>\n",
       "    <tr>\n",
       "      <th>2</th>\n",
       "      <td>IRF1</td>\n",
       "      <td>1730</td>\n",
       "      <td>0.368231</td>\n",
       "    </tr>\n",
       "    <tr>\n",
       "      <th>3</th>\n",
       "      <td>ETS1</td>\n",
       "      <td>6077</td>\n",
       "      <td>-0.002687</td>\n",
       "    </tr>\n",
       "    <tr>\n",
       "      <th>4</th>\n",
       "      <td>EGR1</td>\n",
       "      <td>7679</td>\n",
       "      <td>1.255817</td>\n",
       "    </tr>\n",
       "    <tr>\n",
       "      <th>5</th>\n",
       "      <td>YY1</td>\n",
       "      <td>3274</td>\n",
       "      <td>-0.065112</td>\n",
       "    </tr>\n",
       "    <tr>\n",
       "      <th>6</th>\n",
       "      <td>GABPA</td>\n",
       "      <td>10399</td>\n",
       "      <td>-0.330720</td>\n",
       "    </tr>\n",
       "    <tr>\n",
       "      <th>7</th>\n",
       "      <td>E2F4</td>\n",
       "      <td>6457</td>\n",
       "      <td>-0.344105</td>\n",
       "    </tr>\n",
       "    <tr>\n",
       "      <th>8</th>\n",
       "      <td>NR2C2</td>\n",
       "      <td>10743</td>\n",
       "      <td>-0.170951</td>\n",
       "    </tr>\n",
       "    <tr>\n",
       "      <th>9</th>\n",
       "      <td>CREB1</td>\n",
       "      <td>7554</td>\n",
       "      <td>-0.438995</td>\n",
       "    </tr>\n",
       "  </tbody>\n",
       "</table>\n",
       "</div>"
      ],
      "text/plain": [
       "    gene  num_targets      KO_0\n",
       "0   ELK1         2841 -0.187563\n",
       "1   ELF1         7780 -0.083915\n",
       "2   IRF1         1730  0.368231\n",
       "3   ETS1         6077 -0.002687\n",
       "4   EGR1         7679  1.255817\n",
       "5    YY1         3274 -0.065112\n",
       "6  GABPA        10399 -0.330720\n",
       "7   E2F4         6457 -0.344105\n",
       "8  NR2C2        10743 -0.170951\n",
       "9  CREB1         7554 -0.438995"
      ]
     },
     "execution_count": 130,
     "metadata": {},
     "output_type": "execute_result"
    }
   ],
   "source": [
    "merged"
   ]
  },
  {
   "cell_type": "code",
   "execution_count": 111,
   "metadata": {},
   "outputs": [],
   "source": [
    "all_encode = pd.read_csv('gene_attribute_matrix.txt', sep='\\t', index_col=0, low_memory=False).iloc[2:, 2:].astype(float)"
   ]
  },
  {
   "cell_type": "code",
   "execution_count": 124,
   "metadata": {},
   "outputs": [],
   "source": [
    "target_counts = pd.DataFrame(all_encode.sum(axis=0), columns=['num_targets']).reset_index().rename(columns={'index':'gene'})"
   ]
  },
  {
   "cell_type": "code",
   "execution_count": 133,
   "metadata": {},
   "outputs": [],
   "source": [
    "x = target_counts.query('gene in @tfs').sort_values('gene')['num_targets']\n",
    "y = merged.sort_values('gene')['num_targets']"
   ]
  },
  {
   "cell_type": "code",
   "execution_count": 136,
   "metadata": {},
   "outputs": [],
   "source": [
    "merged2 = target_counts.merge(tf_moments[1], on='gene')"
   ]
  },
  {
   "cell_type": "code",
   "execution_count": 141,
   "metadata": {},
   "outputs": [
    {
     "data": {
      "text/plain": [
       "<matplotlib.collections.PathCollection at 0x7f0258add9a0>"
      ]
     },
     "execution_count": 141,
     "metadata": {},
     "output_type": "execute_result"
    },
    {
     "data": {
      "image/png": "[encoded data removed]",
      "text/plain": [
       "<Figure size 432x288 with 1 Axes>"
      ]
     },
     "metadata": {
      "needs_background": "light"
     },
     "output_type": "display_data"
    }
   ],
   "source": [
    "plt.scatter(merged2['num_targets'], merged2['KO_0'])"
   ]
  },
  {
   "cell_type": "code",
   "execution_count": 137,
   "metadata": {},
   "outputs": [
    {
     "data": {
      "text/html": [
       "<div>\n",
       "<style scoped>\n",
       "    .dataframe tbody tr th:only-of-type {\n",
       "        vertical-align: middle;\n",
       "    }\n",
       "\n",
       "    .dataframe tbody tr th {\n",
       "        vertical-align: top;\n",
       "    }\n",
       "\n",
       "    .dataframe thead th {\n",
       "        text-align: right;\n",
       "    }\n",
       "</style>\n",
       "<table border=\"1\" class=\"dataframe\">\n",
       "  <thead>\n",
       "    <tr style=\"text-align: right;\">\n",
       "      <th></th>\n",
       "      <th>gene</th>\n",
       "      <th>num_targets</th>\n",
       "      <th>KO_0</th>\n",
       "    </tr>\n",
       "  </thead>\n",
       "  <tbody>\n",
       "    <tr>\n",
       "      <th>0</th>\n",
       "      <td>ARID3A</td>\n",
       "      <td>11708.0</td>\n",
       "      <td>0.073099</td>\n",
       "    </tr>\n",
       "    <tr>\n",
       "      <th>1</th>\n",
       "      <td>ATF1</td>\n",
       "      <td>6396.0</td>\n",
       "      <td>0.051094</td>\n",
       "    </tr>\n",
       "    <tr>\n",
       "      <th>2</th>\n",
       "      <td>ATF2</td>\n",
       "      <td>10102.0</td>\n",
       "      <td>0.129260</td>\n",
       "    </tr>\n",
       "    <tr>\n",
       "      <th>3</th>\n",
       "      <td>ATF3</td>\n",
       "      <td>8397.0</td>\n",
       "      <td>0.406496</td>\n",
       "    </tr>\n",
       "    <tr>\n",
       "      <th>4</th>\n",
       "      <td>BACH1</td>\n",
       "      <td>12451.0</td>\n",
       "      <td>0.040698</td>\n",
       "    </tr>\n",
       "    <tr>\n",
       "      <th>...</th>\n",
       "      <td>...</td>\n",
       "      <td>...</td>\n",
       "      <td>...</td>\n",
       "    </tr>\n",
       "    <tr>\n",
       "      <th>144</th>\n",
       "      <td>ZNF217</td>\n",
       "      <td>1430.0</td>\n",
       "      <td>0.054393</td>\n",
       "    </tr>\n",
       "    <tr>\n",
       "      <th>145</th>\n",
       "      <td>ZNF263</td>\n",
       "      <td>10671.0</td>\n",
       "      <td>-0.094167</td>\n",
       "    </tr>\n",
       "    <tr>\n",
       "      <th>146</th>\n",
       "      <td>ZNF274</td>\n",
       "      <td>970.0</td>\n",
       "      <td>-0.073136</td>\n",
       "    </tr>\n",
       "    <tr>\n",
       "      <th>147</th>\n",
       "      <td>ZNF384</td>\n",
       "      <td>13485.0</td>\n",
       "      <td>-0.136661</td>\n",
       "    </tr>\n",
       "    <tr>\n",
       "      <th>148</th>\n",
       "      <td>ZZZ3</td>\n",
       "      <td>350.0</td>\n",
       "      <td>0.097445</td>\n",
       "    </tr>\n",
       "  </tbody>\n",
       "</table>\n",
       "<p>149 rows × 3 columns</p>\n",
       "</div>"
      ],
      "text/plain": [
       "       gene  num_targets      KO_0\n",
       "0    ARID3A      11708.0  0.073099\n",
       "1      ATF1       6396.0  0.051094\n",
       "2      ATF2      10102.0  0.129260\n",
       "3      ATF3       8397.0  0.406496\n",
       "4     BACH1      12451.0  0.040698\n",
       "..      ...          ...       ...\n",
       "144  ZNF217       1430.0  0.054393\n",
       "145  ZNF263      10671.0 -0.094167\n",
       "146  ZNF274        970.0 -0.073136\n",
       "147  ZNF384      13485.0 -0.136661\n",
       "148    ZZZ3        350.0  0.097445\n",
       "\n",
       "[149 rows x 3 columns]"
      ]
     },
     "execution_count": 137,
     "metadata": {},
     "output_type": "execute_result"
    }
   ],
   "source": [
    "merged2"
   ]
  },
  {
   "cell_type": "markdown",
   "metadata": {},
   "source": [
    "### Get gene list"
   ]
  },
  {
   "cell_type": "code",
   "execution_count": 116,
   "metadata": {},
   "outputs": [
    {
     "name": "stderr",
     "output_type": "stream",
     "text": [
      "/home/ssm-user/anaconda3/envs/single_cell/lib/python3.8/site-packages/pandas/core/arrays/categorical.py:2487: FutureWarning: The `inplace` parameter in pandas.Categorical.remove_unused_categories is deprecated and will be removed in a future version.\n",
      "  res = method(*args, **kwargs)\n"
     ]
    }
   ],
   "source": [
    "wt_adata = adata[adata.obs['WT']].copy().copy()"
   ]
  },
  {
   "cell_type": "code",
   "execution_count": 117,
   "metadata": {},
   "outputs": [],
   "source": [
    "memento.create_groups(wt_adata, label_columns=['KO'])\n",
    "memento.compute_1d_moments(wt_adata, min_perc_group=.9)"
   ]
  },
  {
   "cell_type": "code",
   "execution_count": 120,
   "metadata": {},
   "outputs": [
    {
     "data": {
      "text/plain": [
       "(array([1912., 2444., 2211., 1365.,  742.,  312.,  100.,   58.,   40.,\n",
       "          14.]),\n",
       " array([-2.7309983, -1.884943 , -1.0388877, -0.1928324,  0.6532229,\n",
       "         1.4992782,  2.3453336,  3.1913888,  4.037444 ,  4.883499 ,\n",
       "         5.7295547], dtype=float32),\n",
       " <BarContainer object of 10 artists>)"
      ]
     },
     "execution_count": 120,
     "metadata": {},
     "output_type": "execute_result"
    },
    {
     "data": {
      "image/png": "[encoded data removed]",
      "text/plain": [
       "<Figure size 432x288 with 1 Axes>"
      ]
     },
     "metadata": {
      "needs_background": "light"
     },
     "output_type": "display_data"
    }
   ],
   "source": [
    "plt.hist(np.log(wt_adata.uns['memento']['1d_moments']['sg^0'][0]))"
   ]
  },
  {
   "cell_type": "code",
   "execution_count": 121,
   "metadata": {},
   "outputs": [],
   "source": [
    "wt_high_genes = wt_adata.var.index[np.log(wt_adata.uns['memento']['1d_moments']['sg^0'][0]) > -1].tolist()"
   ]
  },
  {
   "cell_type": "code",
   "execution_count": null,
   "metadata": {},
   "outputs": [],
   "source": []
  },
  {
   "cell_type": "markdown",
   "metadata": {},
   "source": [
    "### Create labels for X genes"
   ]
  },
  {
   "cell_type": "code",
   "execution_count": 9,
   "metadata": {},
   "outputs": [],
   "source": [
    "chr_locations = pd.read_csv('chr_locations.bed', sep='\\t').rename(columns={'#chrom':'chr'}).drop_duplicates('geneName')"
   ]
  },
  {
   "cell_type": "code",
   "execution_count": 10,
   "metadata": {},
   "outputs": [],
   "source": [
    "chr_locations.index=chr_locations.geneName"
   ]
  },
  {
   "cell_type": "code",
   "execution_count": 11,
   "metadata": {},
   "outputs": [],
   "source": [
    "adata.var = adata.var.join(chr_locations, how='left')"
   ]
  },
  {
   "cell_type": "markdown",
   "metadata": {},
   "source": [
    "### Filter X-chromosomal genes"
   ]
  },
  {
   "cell_type": "code",
   "execution_count": 14,
   "metadata": {},
   "outputs": [],
   "source": [
    "adata_X = adata[:, (adata.var.chr=='chrX') | adata.var.chr.isin(['chr1', 'chr2', 'chr3'])].copy()"
   ]
  },
  {
   "cell_type": "code",
   "execution_count": 15,
   "metadata": {},
   "outputs": [
    {
     "data": {
      "text/plain": [
       "AnnData object with n_obs × n_vars = 40183 × 5531\n",
       "    obs: 'BatchL0_x', 'BatchL1_x', 'BatchL2_x', 'BatchL3_x', 'Prob(doublet)', 'age', 'batch', 'batch_cov', 'disease_cov', 'ind_cov', 'pop_cov', 'sex', 'study', 'Genotype ID', 'Old Genotype ID', 'Study_ID', 'Status', 'Age', 'Sex', 'Ethnicity', 'Study', 'BatchL0_y', 'BatchL1_y', 'BatchL2_y', 'BatchL3_y', 'Vicell', 'Cells Collected', 'Tubes', 'Concentration', 'Unnamed: 16', 'Processing_Cohort', 'n_genes', 'platelet', 'rbc', 'louvain', 'ct_cov', 'cg_cov', 'ind_cov_pop_cov', 'pop_cov_disease_cov', 'ind_cov_pop_cov_cohort', 'pop_cov_cohort_disease_cov', 'ind_cov_batch_cov', 'pop_cov_SLE_status', 'pop_cov_cohort_SLE_status', 'SLE_status', 'ind_cov_cohort', 'umap_density_disease_cov', 'umap_density_SLE_status', 'umap_density_pop_cov_SLE_status', 'q', 'memento_size_factor'\n",
       "    var: 'gene_ids', 'feature_types-0-0-0-0-0-0-0-0-0-0-0-0-0-0-0-0-0-0-0-0-0-0-0-0-0-0-0-0-0-0-0-0-0-0-0-0-0-0-0-0-0-0-0-0-0-0-0-0-0-0-0-0-0-0-0-0-0-0-0-0-0-0-0-0', 'chr', 'name', 'geneName'\n",
       "    uns: 'memento'"
      ]
     },
     "execution_count": 15,
     "metadata": {},
     "output_type": "execute_result"
    }
   ],
   "source": [
    "adata_X"
   ]
  },
  {
   "cell_type": "markdown",
   "metadata": {},
   "source": [
    "### Escape genes"
   ]
  },
  {
   "cell_type": "code",
   "execution_count": 16,
   "metadata": {},
   "outputs": [],
   "source": [
    "par_genes = \"\"\"PLCXD1 GTPBP6 PPP2R3B SHOX CRLF2 CSF2RA IL3RA SLC25A6 ASMTL P2RY8 ASMT DHRSXY ZBED1 CD99 XG IL9R SPRY3 VAMP7\"\"\".split()"
   ]
  },
  {
   "cell_type": "code",
   "execution_count": 17,
   "metadata": {},
   "outputs": [],
   "source": [
    "escape_genes = \"\"\"EIF1AX\n",
    "USP9X\n",
    "EIF2S3\n",
    "CTPS2\n",
    "TRAPPC2\n",
    "HDHD1\n",
    "ZFX\n",
    "DDX3X\n",
    "RAB9A\n",
    "AP1S2\n",
    "GEMIN8\n",
    "RPS4X\n",
    "SMC1A\n",
    "ZRSR2\n",
    "STS\n",
    "FUNDC1\n",
    "PNPLA4\n",
    "UBA1\n",
    "ARSD\n",
    "NLGN4X\n",
    "GPM6B\n",
    "MED14\n",
    "CD99\n",
    "RBBP7\n",
    "SYAP1\n",
    "PRKX\n",
    "OFD1\n",
    "CXorf38\n",
    "TXLNG\n",
    "KDM5C\n",
    "GYG2\n",
    "TBL1X\n",
    "CA5B\n",
    "XIST\n",
    "RENBP\n",
    "HCFC1\n",
    "USP11\n",
    "PLCXD1\n",
    "SLC25A6\n",
    "ASMTL\n",
    "DHRSX\n",
    "XG\n",
    "TMEM27\n",
    "ARHGAP4\n",
    "GAB3\n",
    "PIR\n",
    "TMEM187\n",
    "DOCK11\n",
    "EFHC2\n",
    "RIBC1\n",
    "NAP1L3\n",
    "CA5BP1\n",
    "MXRA5\n",
    "KAL1\n",
    "PCDH11X\n",
    "KDM6A\n",
    "PLS3\n",
    "CITED1\n",
    "L1CAM\n",
    "ALG13\n",
    "BCOR\"\"\".split()"
   ]
  },
  {
   "cell_type": "markdown",
   "metadata": {},
   "source": [
    "### Run 1d memento"
   ]
  },
  {
   "cell_type": "code",
   "execution_count": 18,
   "metadata": {},
   "outputs": [],
   "source": [
    "adata_X.obs['is_female'] = (adata_X.obs['Sex'] == 'Female').astype(int)"
   ]
  },
  {
   "cell_type": "code",
   "execution_count": 19,
   "metadata": {},
   "outputs": [
    {
     "data": {
      "text/plain": [
       "1    20676\n",
       "0    19507\n",
       "Name: is_female, dtype: int64"
      ]
     },
     "execution_count": 19,
     "metadata": {},
     "output_type": "execute_result"
    }
   ],
   "source": [
    "adata_X.obs.is_female.value_counts()"
   ]
  },
  {
   "cell_type": "code",
   "execution_count": 20,
   "metadata": {},
   "outputs": [
    {
     "name": "stderr",
     "output_type": "stream",
     "text": [
      "/home/ssm-user/Github/scrna-parameter-estimation/dist/memento-0.0.5-py3.8.egg/memento/estimator.py:105: RuntimeWarning: invalid value encountered in log\n"
     ]
    }
   ],
   "source": [
    "memento.create_groups(adata_X, label_columns=['is_female', 'ind_cov'])\n",
    "memento.compute_1d_moments(adata_X, min_perc_group=.9)"
   ]
  },
  {
   "cell_type": "code",
   "execution_count": 21,
   "metadata": {},
   "outputs": [
    {
     "name": "stderr",
     "output_type": "stream",
     "text": [
      "[Parallel(n_jobs=13)]: Using backend LokyBackend with 13 concurrent workers.\n",
      "[Parallel(n_jobs=13)]: Done  24 tasks      | elapsed:   12.5s\n",
      "[Parallel(n_jobs=13)]: Done 174 tasks      | elapsed:  1.3min\n",
      "[Parallel(n_jobs=13)]: Done 424 tasks      | elapsed:  2.7min\n",
      "[Parallel(n_jobs=13)]: Done 494 out of 494 | elapsed:  3.4min finished\n"
     ]
    }
   ],
   "source": [
    "memento.ht_1d_moments(\n",
    "    adata_X, \n",
    "    formula_like='1 + is_female',\n",
    "    cov_column='is_female', \n",
    "    num_boot=20000, \n",
    "    verbose=1,\n",
    "    num_cpus=13)"
   ]
  },
  {
   "cell_type": "code",
   "execution_count": 22,
   "metadata": {},
   "outputs": [],
   "source": [
    "result_1d = memento.get_1d_ht_result(adata_X)"
   ]
  },
  {
   "cell_type": "code",
   "execution_count": 23,
   "metadata": {},
   "outputs": [],
   "source": [
    "result_1d['dv_fdr'] = memento.util._fdrcorrect(result_1d['dv_pval'])"
   ]
  },
  {
   "cell_type": "code",
   "execution_count": 24,
   "metadata": {},
   "outputs": [
    {
     "name": "stderr",
     "output_type": "stream",
     "text": [
      "/home/ssm-user/anaconda3/envs/single_cell/lib/python3.8/site-packages/seaborn/distributions.py:2557: FutureWarning: `distplot` is a deprecated function and will be removed in a future version. Please adapt your code to use either `displot` (a figure-level function with similar flexibility) or `histplot` (an axes-level function for histograms).\n",
      "  warnings.warn(msg, FutureWarning)\n"
     ]
    },
    {
     "data": {
      "text/plain": [
       "<AxesSubplot:xlabel='dv_coef', ylabel='Density'>"
      ]
     },
     "execution_count": 24,
     "metadata": {},
     "output_type": "execute_result"
    },
    {
     "data": {
      "image/png": "[encoded data removed]",
      "text/plain": [
       "<Figure size 432x288 with 1 Axes>"
      ]
     },
     "metadata": {
      "needs_background": "light"
     },
     "output_type": "display_data"
    }
   ],
   "source": [
    "sns.distplot(result_1d.dv_coef)"
   ]
  },
  {
   "cell_type": "code",
   "execution_count": 29,
   "metadata": {},
   "outputs": [],
   "source": [
    "x_chr_genes = adata.var.index[adata.var.chr=='chrX'].tolist()"
   ]
  },
  {
   "cell_type": "code",
   "execution_count": 30,
   "metadata": {},
   "outputs": [],
   "source": [
    "result_1d['escape'] = result_1d['gene'].isin(escape_genes)\n",
    "result_1d['par'] = result_1d['gene'].isin(par_genes)\n",
    "result_1d['x_chr'] = result_1d['gene'].isin(x_chr_genes)"
   ]
  },
  {
   "cell_type": "code",
   "execution_count": 39,
   "metadata": {},
   "outputs": [
    {
     "name": "stderr",
     "output_type": "stream",
     "text": [
      "/home/ssm-user/anaconda3/envs/single_cell/lib/python3.8/site-packages/seaborn/distributions.py:2557: FutureWarning: `distplot` is a deprecated function and will be removed in a future version. Please adapt your code to use either `displot` (a figure-level function with similar flexibility) or `histplot` (an axes-level function for histograms).\n",
      "  warnings.warn(msg, FutureWarning)\n",
      "/home/ssm-user/anaconda3/envs/single_cell/lib/python3.8/site-packages/seaborn/distributions.py:2557: FutureWarning: `distplot` is a deprecated function and will be removed in a future version. Please adapt your code to use either `displot` (a figure-level function with similar flexibility) or `histplot` (an axes-level function for histograms).\n",
      "  warnings.warn(msg, FutureWarning)\n"
     ]
    },
    {
     "data": {
      "text/plain": [
       "<AxesSubplot:xlabel='dv_coef', ylabel='Density'>"
      ]
     },
     "execution_count": 39,
     "metadata": {},
     "output_type": "execute_result"
    },
    {
     "data": {
      "image/png": "[encoded data removed]",
      "text/plain": [
       "<Figure size 432x288 with 1 Axes>"
      ]
     },
     "metadata": {
      "needs_background": "light"
     },
     "output_type": "display_data"
    }
   ],
   "source": [
    "sns.distplot(result_1d.query('~x_chr').dv_coef)\n",
    "sns.distplot(result_1d.query('x_chr').dv_coef)\n"
   ]
  },
  {
   "cell_type": "code",
   "execution_count": 33,
   "metadata": {},
   "outputs": [
    {
     "data": {
      "text/plain": [
       "<AxesSubplot:xlabel='x_chr', ylabel='dv_coef'>"
      ]
     },
     "execution_count": 33,
     "metadata": {},
     "output_type": "execute_result"
    },
    {
     "data": {
      "image/png": "[encoded data removed]",
      "text/plain": [
       "<Figure size 432x288 with 1 Axes>"
      ]
     },
     "metadata": {
      "needs_background": "light"
     },
     "output_type": "display_data"
    }
   ],
   "source": [
    "sns.boxplot(x='x_chr', y='dv_coef', data=result_1d)"
   ]
  },
  {
   "cell_type": "code",
   "execution_count": 43,
   "metadata": {},
   "outputs": [],
   "source": [
    "dv_genes = result_1d.query('dv_fdr < 0.1').gene.tolist()"
   ]
  },
  {
   "cell_type": "code",
   "execution_count": 44,
   "metadata": {},
   "outputs": [],
   "source": [
    "result_1d['dv'] = result_1d.gene.isin(dv_genes)"
   ]
  },
  {
   "cell_type": "code",
   "execution_count": 64,
   "metadata": {},
   "outputs": [
    {
     "data": {
      "text/plain": [
       "(193, 12)"
      ]
     },
     "execution_count": 64,
     "metadata": {},
     "output_type": "execute_result"
    }
   ],
   "source": [
    "result_1d.query('~dv & ~x_chr & dv_coef > 0').shape"
   ]
  },
  {
   "cell_type": "code",
   "execution_count": 65,
   "metadata": {},
   "outputs": [],
   "source": [
    "a = [[193, 14],\n",
    " [23,5]]"
   ]
  },
  {
   "cell_type": "code",
   "execution_count": 66,
   "metadata": {},
   "outputs": [
    {
     "data": {
      "text/plain": [
       "(2.728208603147025,\n",
       " 0.09858981341187181,\n",
       " 1,\n",
       " array([[190.26382979,  16.73617021],\n",
       "        [ 25.73617021,   2.26382979]]))"
      ]
     },
     "execution_count": 66,
     "metadata": {},
     "output_type": "execute_result"
    }
   ],
   "source": [
    "stats.chi2_contingency(a)"
   ]
  },
  {
   "cell_type": "code",
   "execution_count": 40,
   "metadata": {},
   "outputs": [
    {
     "data": {
      "text/plain": [
       "0.23809523809523808"
      ]
     },
     "execution_count": 40,
     "metadata": {},
     "output_type": "execute_result"
    }
   ],
   "source": [
    "result_1d.query('dv_fdr < 0.1').x_chr.mean()"
   ]
  },
  {
   "cell_type": "code",
   "execution_count": 41,
   "metadata": {},
   "outputs": [
    {
     "data": {
      "text/plain": [
       "0.12753036437246965"
      ]
     },
     "execution_count": 41,
     "metadata": {},
     "output_type": "execute_result"
    }
   ],
   "source": [
    "result_1d.x_chr.mean()"
   ]
  },
  {
   "cell_type": "markdown",
   "metadata": {},
   "source": [
    "### Run memento for each subset, comparing to control"
   ]
  },
  {
   "cell_type": "code",
   "execution_count": 14,
   "metadata": {},
   "outputs": [],
   "source": [
    "cts = [['ciliated'], ['bc','basal']]\n",
    "# tps = ['3', '6', '9', '24', '48']\n",
    "tps = ['3', '6', '9', '24', '48']\n",
    "\n",
    "stims = ['alpha', 'beta', 'gamma', 'lambda']"
   ]
  },
  {
   "cell_type": "code",
   "execution_count": 15,
   "metadata": {},
   "outputs": [],
   "source": [
    "import os\n",
    "done_files = os.listdir('/data_volume/ifn_hbec/binary_test_deep/')"
   ]
  },
  {
   "cell_type": "code",
   "execution_count": 16,
   "metadata": {},
   "outputs": [
    {
     "name": "stdout",
     "output_type": "stream",
     "text": [
      "starting ['ciliated'] 3 alpha\n"
     ]
    },
    {
     "name": "stderr",
     "output_type": "stream",
     "text": [
      "/home/ssm-user/anaconda3/envs/single_cell/lib/python3.8/site-packages/pandas/core/arrays/categorical.py:2487: FutureWarning: The `inplace` parameter in pandas.Categorical.remove_unused_categories is deprecated and will be removed in a future version.\n",
      "  res = method(*args, **kwargs)\n",
      "[Parallel(n_jobs=13)]: Using backend LokyBackend with 13 concurrent workers.\n",
      "[Parallel(n_jobs=13)]: Done  24 tasks      | elapsed:    3.2s\n",
      "[Parallel(n_jobs=13)]: Done 174 tasks      | elapsed:    8.2s\n",
      "[Parallel(n_jobs=13)]: Done 424 tasks      | elapsed:   17.9s\n",
      "[Parallel(n_jobs=13)]: Done 774 tasks      | elapsed:   30.8s\n",
      "[Parallel(n_jobs=13)]: Done 1224 tasks      | elapsed:   46.7s\n",
      "[Parallel(n_jobs=13)]: Done 1774 tasks      | elapsed:  1.1min\n",
      "[Parallel(n_jobs=13)]: Done 2424 tasks      | elapsed:  1.5min\n",
      "[Parallel(n_jobs=13)]: Done 3174 tasks      | elapsed:  1.9min\n",
      "[Parallel(n_jobs=13)]: Done 4024 tasks      | elapsed:  2.4min\n",
      "[Parallel(n_jobs=13)]: Done 4974 tasks      | elapsed:  3.0min\n",
      "[Parallel(n_jobs=13)]: Done 6024 tasks      | elapsed:  3.6min\n",
      "[Parallel(n_jobs=13)]: Done 7174 tasks      | elapsed:  4.3min\n",
      "[Parallel(n_jobs=13)]: Done 8424 tasks      | elapsed:  5.0min\n",
      "[Parallel(n_jobs=13)]: Done 9508 out of 9508 | elapsed:  5.7min finished\n",
      "... storing 'memento_group' as categorical\n"
     ]
    },
    {
     "name": "stdout",
     "output_type": "stream",
     "text": [
      "starting ['ciliated'] 3 beta\n"
     ]
    },
    {
     "name": "stderr",
     "output_type": "stream",
     "text": [
      "/home/ssm-user/anaconda3/envs/single_cell/lib/python3.8/site-packages/pandas/core/arrays/categorical.py:2487: FutureWarning: The `inplace` parameter in pandas.Categorical.remove_unused_categories is deprecated and will be removed in a future version.\n",
      "  res = method(*args, **kwargs)\n",
      "[Parallel(n_jobs=13)]: Using backend LokyBackend with 13 concurrent workers.\n",
      "[Parallel(n_jobs=13)]: Done  24 tasks      | elapsed:    1.1s\n",
      "[Parallel(n_jobs=13)]: Done 174 tasks      | elapsed:    5.9s\n",
      "[Parallel(n_jobs=13)]: Done 424 tasks      | elapsed:   14.8s\n",
      "[Parallel(n_jobs=13)]: Done 774 tasks      | elapsed:   27.3s\n",
      "[Parallel(n_jobs=13)]: Done 1224 tasks      | elapsed:   42.4s\n",
      "[Parallel(n_jobs=13)]: Done 1774 tasks      | elapsed:  1.0min\n",
      "[Parallel(n_jobs=13)]: Done 2424 tasks      | elapsed:  1.4min\n",
      "[Parallel(n_jobs=13)]: Done 3174 tasks      | elapsed:  1.8min\n",
      "[Parallel(n_jobs=13)]: Done 4024 tasks      | elapsed:  2.3min\n",
      "[Parallel(n_jobs=13)]: Done 4974 tasks      | elapsed:  2.8min\n",
      "[Parallel(n_jobs=13)]: Done 6024 tasks      | elapsed:  3.4min\n",
      "[Parallel(n_jobs=13)]: Done 7174 tasks      | elapsed:  4.1min\n",
      "[Parallel(n_jobs=13)]: Done 8424 tasks      | elapsed:  4.8min\n",
      "[Parallel(n_jobs=13)]: Done 9642 out of 9642 | elapsed:  5.5min finished\n",
      "... storing 'memento_group' as categorical\n"
     ]
    },
    {
     "name": "stdout",
     "output_type": "stream",
     "text": [
      "starting ['ciliated'] 3 gamma\n"
     ]
    },
    {
     "name": "stderr",
     "output_type": "stream",
     "text": [
      "/home/ssm-user/anaconda3/envs/single_cell/lib/python3.8/site-packages/pandas/core/arrays/categorical.py:2487: FutureWarning: The `inplace` parameter in pandas.Categorical.remove_unused_categories is deprecated and will be removed in a future version.\n",
      "  res = method(*args, **kwargs)\n",
      "[Parallel(n_jobs=13)]: Using backend LokyBackend with 13 concurrent workers.\n",
      "[Parallel(n_jobs=13)]: Done  24 tasks      | elapsed:    0.9s\n",
      "[Parallel(n_jobs=13)]: Done 174 tasks      | elapsed:    5.2s\n",
      "[Parallel(n_jobs=13)]: Done 424 tasks      | elapsed:   12.7s\n",
      "[Parallel(n_jobs=13)]: Done 774 tasks      | elapsed:   23.4s\n",
      "[Parallel(n_jobs=13)]: Done 1224 tasks      | elapsed:   36.4s\n",
      "[Parallel(n_jobs=13)]: Done 1774 tasks      | elapsed:   52.3s\n",
      "[Parallel(n_jobs=13)]: Done 2424 tasks      | elapsed:  1.2min\n",
      "[Parallel(n_jobs=13)]: Done 3174 tasks      | elapsed:  1.5min\n",
      "[Parallel(n_jobs=13)]: Done 4024 tasks      | elapsed:  2.0min\n",
      "[Parallel(n_jobs=13)]: Done 4974 tasks      | elapsed:  2.4min\n",
      "[Parallel(n_jobs=13)]: Done 6024 tasks      | elapsed:  2.9min\n",
      "[Parallel(n_jobs=13)]: Done 7174 tasks      | elapsed:  3.5min\n",
      "[Parallel(n_jobs=13)]: Done 8424 tasks      | elapsed:  4.1min\n",
      "[Parallel(n_jobs=13)]: Done 9455 out of 9455 | elapsed:  4.6min finished\n",
      "... storing 'memento_group' as categorical\n"
     ]
    },
    {
     "name": "stdout",
     "output_type": "stream",
     "text": [
      "starting ['ciliated'] 3 lambda\n"
     ]
    },
    {
     "name": "stderr",
     "output_type": "stream",
     "text": [
      "/home/ssm-user/anaconda3/envs/single_cell/lib/python3.8/site-packages/pandas/core/arrays/categorical.py:2487: FutureWarning: The `inplace` parameter in pandas.Categorical.remove_unused_categories is deprecated and will be removed in a future version.\n",
      "  res = method(*args, **kwargs)\n",
      "[Parallel(n_jobs=13)]: Using backend LokyBackend with 13 concurrent workers.\n",
      "[Parallel(n_jobs=13)]: Done  24 tasks      | elapsed:    1.0s\n",
      "[Parallel(n_jobs=13)]: Done 174 tasks      | elapsed:    5.2s\n",
      "[Parallel(n_jobs=13)]: Done 424 tasks      | elapsed:   13.1s\n",
      "[Parallel(n_jobs=13)]: Done 774 tasks      | elapsed:   23.7s\n",
      "[Parallel(n_jobs=13)]: Done 1224 tasks      | elapsed:   36.7s\n",
      "[Parallel(n_jobs=13)]: Done 1774 tasks      | elapsed:   52.6s\n",
      "[Parallel(n_jobs=13)]: Done 2424 tasks      | elapsed:  1.2min\n",
      "[Parallel(n_jobs=13)]: Done 3174 tasks      | elapsed:  1.6min\n",
      "[Parallel(n_jobs=13)]: Done 4024 tasks      | elapsed:  2.0min\n",
      "[Parallel(n_jobs=13)]: Done 4974 tasks      | elapsed:  2.4min\n",
      "[Parallel(n_jobs=13)]: Done 6024 tasks      | elapsed:  3.0min\n",
      "[Parallel(n_jobs=13)]: Done 7174 tasks      | elapsed:  3.5min\n",
      "[Parallel(n_jobs=13)]: Done 8424 tasks      | elapsed:  4.2min\n",
      "[Parallel(n_jobs=13)]: Done 9639 out of 9639 | elapsed:  4.8min finished\n",
      "... storing 'memento_group' as categorical\n"
     ]
    },
    {
     "name": "stdout",
     "output_type": "stream",
     "text": [
      "starting ['ciliated'] 6 alpha\n"
     ]
    },
    {
     "name": "stderr",
     "output_type": "stream",
     "text": [
      "/home/ssm-user/anaconda3/envs/single_cell/lib/python3.8/site-packages/pandas/core/arrays/categorical.py:2487: FutureWarning: The `inplace` parameter in pandas.Categorical.remove_unused_categories is deprecated and will be removed in a future version.\n",
      "  res = method(*args, **kwargs)\n",
      "[Parallel(n_jobs=13)]: Using backend LokyBackend with 13 concurrent workers.\n",
      "[Parallel(n_jobs=13)]: Done  24 tasks      | elapsed:    1.1s\n",
      "[Parallel(n_jobs=13)]: Done 174 tasks      | elapsed:    5.7s\n",
      "[Parallel(n_jobs=13)]: Done 424 tasks      | elapsed:   14.3s\n",
      "[Parallel(n_jobs=13)]: Done 774 tasks      | elapsed:   27.0s\n",
      "[Parallel(n_jobs=13)]: Done 1224 tasks      | elapsed:   42.2s\n",
      "[Parallel(n_jobs=13)]: Done 1774 tasks      | elapsed:  1.0min\n",
      "[Parallel(n_jobs=13)]: Done 2424 tasks      | elapsed:  1.4min\n",
      "[Parallel(n_jobs=13)]: Done 3174 tasks      | elapsed:  1.8min\n",
      "[Parallel(n_jobs=13)]: Done 4024 tasks      | elapsed:  2.3min\n",
      "[Parallel(n_jobs=13)]: Done 4974 tasks      | elapsed:  2.8min\n",
      "[Parallel(n_jobs=13)]: Done 6024 tasks      | elapsed:  3.4min\n",
      "[Parallel(n_jobs=13)]: Done 7174 tasks      | elapsed:  4.0min\n",
      "[Parallel(n_jobs=13)]: Done 8424 tasks      | elapsed:  4.7min\n",
      "[Parallel(n_jobs=13)]: Done 9224 out of 9224 | elapsed:  5.2min finished\n",
      "... storing 'memento_group' as categorical\n"
     ]
    },
    {
     "name": "stdout",
     "output_type": "stream",
     "text": [
      "starting ['ciliated'] 6 beta\n"
     ]
    },
    {
     "name": "stderr",
     "output_type": "stream",
     "text": [
      "/home/ssm-user/anaconda3/envs/single_cell/lib/python3.8/site-packages/pandas/core/arrays/categorical.py:2487: FutureWarning: The `inplace` parameter in pandas.Categorical.remove_unused_categories is deprecated and will be removed in a future version.\n",
      "  res = method(*args, **kwargs)\n",
      "[Parallel(n_jobs=13)]: Using backend LokyBackend with 13 concurrent workers.\n",
      "[Parallel(n_jobs=13)]: Done  24 tasks      | elapsed:    1.1s\n",
      "[Parallel(n_jobs=13)]: Done 174 tasks      | elapsed:    5.9s\n",
      "[Parallel(n_jobs=13)]: Done 424 tasks      | elapsed:   15.0s\n",
      "[Parallel(n_jobs=13)]: Done 774 tasks      | elapsed:   28.7s\n",
      "[Parallel(n_jobs=13)]: Done 1224 tasks      | elapsed:   44.8s\n",
      "[Parallel(n_jobs=13)]: Done 1774 tasks      | elapsed:  1.1min\n",
      "[Parallel(n_jobs=13)]: Done 2424 tasks      | elapsed:  1.5min\n",
      "[Parallel(n_jobs=13)]: Done 3174 tasks      | elapsed:  1.9min\n",
      "[Parallel(n_jobs=13)]: Done 4024 tasks      | elapsed:  2.4min\n",
      "[Parallel(n_jobs=13)]: Done 4974 tasks      | elapsed:  3.0min\n",
      "[Parallel(n_jobs=13)]: Done 6024 tasks      | elapsed:  3.6min\n",
      "[Parallel(n_jobs=13)]: Done 7174 tasks      | elapsed:  4.3min\n",
      "[Parallel(n_jobs=13)]: Done 8424 tasks      | elapsed:  5.0min\n",
      "[Parallel(n_jobs=13)]: Done 9667 out of 9667 | elapsed:  5.8min finished\n",
      "... storing 'memento_group' as categorical\n"
     ]
    },
    {
     "name": "stdout",
     "output_type": "stream",
     "text": [
      "starting ['ciliated'] 6 gamma\n"
     ]
    },
    {
     "name": "stderr",
     "output_type": "stream",
     "text": [
      "/home/ssm-user/anaconda3/envs/single_cell/lib/python3.8/site-packages/pandas/core/arrays/categorical.py:2487: FutureWarning: The `inplace` parameter in pandas.Categorical.remove_unused_categories is deprecated and will be removed in a future version.\n",
      "  res = method(*args, **kwargs)\n",
      "[Parallel(n_jobs=13)]: Using backend LokyBackend with 13 concurrent workers.\n",
      "[Parallel(n_jobs=13)]: Done  24 tasks      | elapsed:    1.0s\n",
      "[Parallel(n_jobs=13)]: Done 174 tasks      | elapsed:    5.0s\n",
      "[Parallel(n_jobs=13)]: Done 424 tasks      | elapsed:   12.6s\n",
      "[Parallel(n_jobs=13)]: Done 774 tasks      | elapsed:   23.3s\n",
      "[Parallel(n_jobs=13)]: Done 1224 tasks      | elapsed:   36.3s\n",
      "[Parallel(n_jobs=13)]: Done 1774 tasks      | elapsed:   52.1s\n",
      "[Parallel(n_jobs=13)]: Done 2424 tasks      | elapsed:  1.2min\n",
      "[Parallel(n_jobs=13)]: Done 3174 tasks      | elapsed:  1.5min\n",
      "[Parallel(n_jobs=13)]: Done 4024 tasks      | elapsed:  1.9min\n",
      "[Parallel(n_jobs=13)]: Done 4974 tasks      | elapsed:  2.4min\n",
      "[Parallel(n_jobs=13)]: Done 6024 tasks      | elapsed:  2.9min\n",
      "[Parallel(n_jobs=13)]: Done 7174 tasks      | elapsed:  3.4min\n",
      "[Parallel(n_jobs=13)]: Done 8424 tasks      | elapsed:  4.0min\n",
      "[Parallel(n_jobs=13)]: Done 9387 out of 9387 | elapsed:  4.5min finished\n",
      "... storing 'memento_group' as categorical\n"
     ]
    },
    {
     "name": "stdout",
     "output_type": "stream",
     "text": [
      "starting ['ciliated'] 6 lambda\n"
     ]
    },
    {
     "name": "stderr",
     "output_type": "stream",
     "text": [
      "/home/ssm-user/anaconda3/envs/single_cell/lib/python3.8/site-packages/pandas/core/arrays/categorical.py:2487: FutureWarning: The `inplace` parameter in pandas.Categorical.remove_unused_categories is deprecated and will be removed in a future version.\n",
      "  res = method(*args, **kwargs)\n",
      "[Parallel(n_jobs=13)]: Using backend LokyBackend with 13 concurrent workers.\n",
      "[Parallel(n_jobs=13)]: Done  24 tasks      | elapsed:    1.0s\n",
      "[Parallel(n_jobs=13)]: Done 322 tasks      | elapsed:    9.2s\n",
      "[Parallel(n_jobs=13)]: Done 822 tasks      | elapsed:   24.0s\n",
      "[Parallel(n_jobs=13)]: Done 1522 tasks      | elapsed:   43.3s\n",
      "[Parallel(n_jobs=13)]: Done 2422 tasks      | elapsed:  1.1min\n",
      "[Parallel(n_jobs=13)]: Done 3522 tasks      | elapsed:  1.6min\n",
      "[Parallel(n_jobs=13)]: Done 4822 tasks      | elapsed:  2.2min\n",
      "[Parallel(n_jobs=13)]: Done 6322 tasks      | elapsed:  3.0min\n",
      "[Parallel(n_jobs=13)]: Done 8022 tasks      | elapsed:  3.7min\n",
      "[Parallel(n_jobs=13)]: Done 9277 tasks      | elapsed:  4.3min\n",
      "[Parallel(n_jobs=13)]: Done 9487 out of 9487 | elapsed:  4.4min finished\n",
      "... storing 'memento_group' as categorical\n"
     ]
    },
    {
     "name": "stdout",
     "output_type": "stream",
     "text": [
      "starting ['ciliated'] 9 alpha\n"
     ]
    },
    {
     "name": "stderr",
     "output_type": "stream",
     "text": [
      "/home/ssm-user/anaconda3/envs/single_cell/lib/python3.8/site-packages/pandas/core/arrays/categorical.py:2487: FutureWarning: The `inplace` parameter in pandas.Categorical.remove_unused_categories is deprecated and will be removed in a future version.\n",
      "  res = method(*args, **kwargs)\n",
      "[Parallel(n_jobs=13)]: Using backend LokyBackend with 13 concurrent workers.\n",
      "[Parallel(n_jobs=13)]: Done  24 tasks      | elapsed:    1.0s\n",
      "[Parallel(n_jobs=13)]: Done 174 tasks      | elapsed:    5.4s\n",
      "[Parallel(n_jobs=13)]: Done 424 tasks      | elapsed:   13.6s\n",
      "[Parallel(n_jobs=13)]: Done 774 tasks      | elapsed:   24.8s\n",
      "[Parallel(n_jobs=13)]: Done 1224 tasks      | elapsed:   38.9s\n",
      "[Parallel(n_jobs=13)]: Done 1774 tasks      | elapsed:   55.8s\n",
      "[Parallel(n_jobs=13)]: Done 2424 tasks      | elapsed:  1.3min\n",
      "[Parallel(n_jobs=13)]: Done 3174 tasks      | elapsed:  1.7min\n",
      "[Parallel(n_jobs=13)]: Done 4024 tasks      | elapsed:  2.1min\n",
      "[Parallel(n_jobs=13)]: Done 4974 tasks      | elapsed:  2.6min\n",
      "[Parallel(n_jobs=13)]: Done 6024 tasks      | elapsed:  3.1min\n",
      "[Parallel(n_jobs=13)]: Done 7174 tasks      | elapsed:  3.7min\n",
      "[Parallel(n_jobs=13)]: Done 8424 tasks      | elapsed:  4.3min\n",
      "[Parallel(n_jobs=13)]: Done 9072 out of 9072 | elapsed:  4.7min finished\n",
      "... storing 'memento_group' as categorical\n"
     ]
    },
    {
     "name": "stdout",
     "output_type": "stream",
     "text": [
      "starting ['ciliated'] 9 beta\n"
     ]
    },
    {
     "name": "stderr",
     "output_type": "stream",
     "text": [
      "/home/ssm-user/anaconda3/envs/single_cell/lib/python3.8/site-packages/pandas/core/arrays/categorical.py:2487: FutureWarning: The `inplace` parameter in pandas.Categorical.remove_unused_categories is deprecated and will be removed in a future version.\n",
      "  res = method(*args, **kwargs)\n",
      "[Parallel(n_jobs=13)]: Using backend LokyBackend with 13 concurrent workers.\n",
      "[Parallel(n_jobs=13)]: Done  24 tasks      | elapsed:    1.2s\n",
      "[Parallel(n_jobs=13)]: Done 322 tasks      | elapsed:    9.8s\n",
      "[Parallel(n_jobs=13)]: Done 762 tasks      | elapsed:   22.9s\n",
      "[Parallel(n_jobs=13)]: Done 1112 tasks      | elapsed:   33.0s\n",
      "[Parallel(n_jobs=13)]: Done 1562 tasks      | elapsed:   46.1s\n",
      "[Parallel(n_jobs=13)]: Done 2112 tasks      | elapsed:  1.0min\n",
      "[Parallel(n_jobs=13)]: Done 2762 tasks      | elapsed:  1.3min\n",
      "[Parallel(n_jobs=13)]: Done 3512 tasks      | elapsed:  1.7min\n",
      "[Parallel(n_jobs=13)]: Done 4362 tasks      | elapsed:  2.1min\n",
      "[Parallel(n_jobs=13)]: Done 5312 tasks      | elapsed:  2.6min\n",
      "[Parallel(n_jobs=13)]: Done 6362 tasks      | elapsed:  3.1min\n",
      "[Parallel(n_jobs=13)]: Done 7512 tasks      | elapsed:  3.7min\n",
      "[Parallel(n_jobs=13)]: Done 8762 tasks      | elapsed:  4.3min\n",
      "[Parallel(n_jobs=13)]: Done 9355 out of 9355 | elapsed:  4.6min finished\n",
      "... storing 'memento_group' as categorical\n"
     ]
    },
    {
     "name": "stdout",
     "output_type": "stream",
     "text": [
      "starting ['ciliated'] 9 gamma\n"
     ]
    },
    {
     "name": "stderr",
     "output_type": "stream",
     "text": [
      "/home/ssm-user/anaconda3/envs/single_cell/lib/python3.8/site-packages/pandas/core/arrays/categorical.py:2487: FutureWarning: The `inplace` parameter in pandas.Categorical.remove_unused_categories is deprecated and will be removed in a future version.\n",
      "  res = method(*args, **kwargs)\n",
      "[Parallel(n_jobs=13)]: Using backend LokyBackend with 13 concurrent workers.\n",
      "[Parallel(n_jobs=13)]: Done  24 tasks      | elapsed:    0.9s\n",
      "[Parallel(n_jobs=13)]: Done 174 tasks      | elapsed:    4.7s\n",
      "[Parallel(n_jobs=13)]: Done 424 tasks      | elapsed:   12.2s\n",
      "[Parallel(n_jobs=13)]: Done 774 tasks      | elapsed:   22.5s\n",
      "[Parallel(n_jobs=13)]: Done 1224 tasks      | elapsed:   35.1s\n",
      "[Parallel(n_jobs=13)]: Done 1774 tasks      | elapsed:   50.5s\n",
      "[Parallel(n_jobs=13)]: Done 2424 tasks      | elapsed:  1.2min\n",
      "[Parallel(n_jobs=13)]: Done 3174 tasks      | elapsed:  1.5min\n",
      "[Parallel(n_jobs=13)]: Done 4024 tasks      | elapsed:  1.9min\n",
      "[Parallel(n_jobs=13)]: Done 4974 tasks      | elapsed:  2.3min\n",
      "[Parallel(n_jobs=13)]: Done 6024 tasks      | elapsed:  2.9min\n",
      "[Parallel(n_jobs=13)]: Done 7174 tasks      | elapsed:  3.4min\n",
      "[Parallel(n_jobs=13)]: Done 8424 tasks      | elapsed:  4.0min\n",
      "[Parallel(n_jobs=13)]: Done 9584 out of 9584 | elapsed:  4.5min finished\n",
      "... storing 'memento_group' as categorical\n"
     ]
    },
    {
     "name": "stdout",
     "output_type": "stream",
     "text": [
      "starting ['ciliated'] 9 lambda\n"
     ]
    },
    {
     "name": "stderr",
     "output_type": "stream",
     "text": [
      "/home/ssm-user/anaconda3/envs/single_cell/lib/python3.8/site-packages/pandas/core/arrays/categorical.py:2487: FutureWarning: The `inplace` parameter in pandas.Categorical.remove_unused_categories is deprecated and will be removed in a future version.\n",
      "  res = method(*args, **kwargs)\n",
      "[Parallel(n_jobs=13)]: Using backend LokyBackend with 13 concurrent workers.\n",
      "[Parallel(n_jobs=13)]: Done  24 tasks      | elapsed:    0.9s\n",
      "[Parallel(n_jobs=13)]: Done 174 tasks      | elapsed:    4.7s\n",
      "[Parallel(n_jobs=13)]: Done 424 tasks      | elapsed:   12.2s\n",
      "[Parallel(n_jobs=13)]: Done 774 tasks      | elapsed:   22.7s\n",
      "[Parallel(n_jobs=13)]: Done 1224 tasks      | elapsed:   35.2s\n",
      "[Parallel(n_jobs=13)]: Done 1774 tasks      | elapsed:   50.7s\n",
      "[Parallel(n_jobs=13)]: Done 2424 tasks      | elapsed:  1.2min\n",
      "[Parallel(n_jobs=13)]: Done 3174 tasks      | elapsed:  1.5min\n",
      "[Parallel(n_jobs=13)]: Done 4024 tasks      | elapsed:  1.9min\n",
      "[Parallel(n_jobs=13)]: Done 4974 tasks      | elapsed:  2.3min\n",
      "[Parallel(n_jobs=13)]: Done 6024 tasks      | elapsed:  2.9min\n",
      "[Parallel(n_jobs=13)]: Done 7174 tasks      | elapsed:  3.4min\n",
      "[Parallel(n_jobs=13)]: Done 8424 tasks      | elapsed:  4.0min\n",
      "[Parallel(n_jobs=13)]: Done 9618 out of 9618 | elapsed:  4.6min finished\n",
      "... storing 'memento_group' as categorical\n"
     ]
    },
    {
     "name": "stdout",
     "output_type": "stream",
     "text": [
      "starting ['ciliated'] 24 alpha\n"
     ]
    },
    {
     "name": "stderr",
     "output_type": "stream",
     "text": [
      "/home/ssm-user/anaconda3/envs/single_cell/lib/python3.8/site-packages/pandas/core/arrays/categorical.py:2487: FutureWarning: The `inplace` parameter in pandas.Categorical.remove_unused_categories is deprecated and will be removed in a future version.\n",
      "  res = method(*args, **kwargs)\n",
      "[Parallel(n_jobs=13)]: Using backend LokyBackend with 13 concurrent workers.\n",
      "[Parallel(n_jobs=13)]: Done  24 tasks      | elapsed:    0.9s\n",
      "[Parallel(n_jobs=13)]: Done 174 tasks      | elapsed:    4.9s\n",
      "[Parallel(n_jobs=13)]: Done 424 tasks      | elapsed:   12.3s\n",
      "[Parallel(n_jobs=13)]: Done 774 tasks      | elapsed:   23.5s\n",
      "[Parallel(n_jobs=13)]: Done 1224 tasks      | elapsed:   36.6s\n",
      "[Parallel(n_jobs=13)]: Done 1774 tasks      | elapsed:   52.9s\n",
      "[Parallel(n_jobs=13)]: Done 2424 tasks      | elapsed:  1.2min\n",
      "[Parallel(n_jobs=13)]: Done 3174 tasks      | elapsed:  1.6min\n",
      "[Parallel(n_jobs=13)]: Done 4024 tasks      | elapsed:  2.0min\n",
      "[Parallel(n_jobs=13)]: Done 4974 tasks      | elapsed:  2.5min\n",
      "[Parallel(n_jobs=13)]: Done 6024 tasks      | elapsed:  3.0min\n",
      "[Parallel(n_jobs=13)]: Done 7174 tasks      | elapsed:  3.6min\n",
      "[Parallel(n_jobs=13)]: Done 8424 tasks      | elapsed:  4.2min\n",
      "[Parallel(n_jobs=13)]: Done 9093 out of 9093 | elapsed:  4.5min finished\n",
      "... storing 'memento_group' as categorical\n"
     ]
    },
    {
     "name": "stdout",
     "output_type": "stream",
     "text": [
      "starting ['ciliated'] 24 beta\n"
     ]
    },
    {
     "name": "stderr",
     "output_type": "stream",
     "text": [
      "/home/ssm-user/anaconda3/envs/single_cell/lib/python3.8/site-packages/pandas/core/arrays/categorical.py:2487: FutureWarning: The `inplace` parameter in pandas.Categorical.remove_unused_categories is deprecated and will be removed in a future version.\n",
      "  res = method(*args, **kwargs)\n",
      "[Parallel(n_jobs=13)]: Using backend LokyBackend with 13 concurrent workers.\n",
      "[Parallel(n_jobs=13)]: Done  24 tasks      | elapsed:    0.9s\n",
      "[Parallel(n_jobs=13)]: Done 174 tasks      | elapsed:    5.0s\n",
      "[Parallel(n_jobs=13)]: Done 424 tasks      | elapsed:   12.9s\n",
      "[Parallel(n_jobs=13)]: Done 774 tasks      | elapsed:   24.1s\n",
      "[Parallel(n_jobs=13)]: Done 1224 tasks      | elapsed:   37.4s\n",
      "[Parallel(n_jobs=13)]: Done 1774 tasks      | elapsed:   53.7s\n",
      "[Parallel(n_jobs=13)]: Done 2424 tasks      | elapsed:  1.2min\n",
      "[Parallel(n_jobs=13)]: Done 3174 tasks      | elapsed:  1.6min\n",
      "[Parallel(n_jobs=13)]: Done 4024 tasks      | elapsed:  2.0min\n",
      "[Parallel(n_jobs=13)]: Done 4974 tasks      | elapsed:  2.5min\n",
      "[Parallel(n_jobs=13)]: Done 6024 tasks      | elapsed:  3.0min\n",
      "[Parallel(n_jobs=13)]: Done 7174 tasks      | elapsed:  3.6min\n",
      "[Parallel(n_jobs=13)]: Done 8424 tasks      | elapsed:  4.2min\n",
      "[Parallel(n_jobs=13)]: Done 9601 out of 9601 | elapsed:  4.8min finished\n",
      "... storing 'memento_group' as categorical\n"
     ]
    },
    {
     "name": "stdout",
     "output_type": "stream",
     "text": [
      "starting ['ciliated'] 24 gamma\n"
     ]
    },
    {
     "name": "stderr",
     "output_type": "stream",
     "text": [
      "/home/ssm-user/anaconda3/envs/single_cell/lib/python3.8/site-packages/pandas/core/arrays/categorical.py:2487: FutureWarning: The `inplace` parameter in pandas.Categorical.remove_unused_categories is deprecated and will be removed in a future version.\n",
      "  res = method(*args, **kwargs)\n",
      "[Parallel(n_jobs=13)]: Using backend LokyBackend with 13 concurrent workers.\n",
      "[Parallel(n_jobs=13)]: Done  24 tasks      | elapsed:    0.9s\n",
      "[Parallel(n_jobs=13)]: Done 174 tasks      | elapsed:    4.9s\n",
      "[Parallel(n_jobs=13)]: Done 424 tasks      | elapsed:   12.8s\n",
      "[Parallel(n_jobs=13)]: Done 774 tasks      | elapsed:   23.8s\n",
      "[Parallel(n_jobs=13)]: Done 1224 tasks      | elapsed:   37.2s\n",
      "[Parallel(n_jobs=13)]: Done 1774 tasks      | elapsed:   53.4s\n",
      "[Parallel(n_jobs=13)]: Done 2424 tasks      | elapsed:  1.2min\n",
      "[Parallel(n_jobs=13)]: Done 3174 tasks      | elapsed:  1.6min\n",
      "[Parallel(n_jobs=13)]: Done 4024 tasks      | elapsed:  2.0min\n",
      "[Parallel(n_jobs=13)]: Done 4974 tasks      | elapsed:  2.5min\n",
      "[Parallel(n_jobs=13)]: Done 6024 tasks      | elapsed:  3.0min\n",
      "[Parallel(n_jobs=13)]: Done 7174 tasks      | elapsed:  3.6min\n",
      "[Parallel(n_jobs=13)]: Done 8424 tasks      | elapsed:  4.2min\n",
      "[Parallel(n_jobs=13)]: Done 9596 out of 9596 | elapsed:  4.8min finished\n",
      "... storing 'memento_group' as categorical\n"
     ]
    },
    {
     "name": "stdout",
     "output_type": "stream",
     "text": [
      "starting ['ciliated'] 24 lambda\n"
     ]
    },
    {
     "name": "stderr",
     "output_type": "stream",
     "text": [
      "/home/ssm-user/anaconda3/envs/single_cell/lib/python3.8/site-packages/pandas/core/arrays/categorical.py:2487: FutureWarning: The `inplace` parameter in pandas.Categorical.remove_unused_categories is deprecated and will be removed in a future version.\n",
      "  res = method(*args, **kwargs)\n",
      "[Parallel(n_jobs=13)]: Using backend LokyBackend with 13 concurrent workers.\n",
      "[Parallel(n_jobs=13)]: Done  24 tasks      | elapsed:    0.9s\n",
      "[Parallel(n_jobs=13)]: Done 174 tasks      | elapsed:    4.9s\n",
      "[Parallel(n_jobs=13)]: Done 424 tasks      | elapsed:   12.5s\n",
      "[Parallel(n_jobs=13)]: Done 774 tasks      | elapsed:   23.1s\n",
      "[Parallel(n_jobs=13)]: Done 1224 tasks      | elapsed:   35.9s\n",
      "[Parallel(n_jobs=13)]: Done 1774 tasks      | elapsed:   51.8s\n",
      "[Parallel(n_jobs=13)]: Done 2424 tasks      | elapsed:  1.2min\n",
      "[Parallel(n_jobs=13)]: Done 3174 tasks      | elapsed:  1.5min\n",
      "[Parallel(n_jobs=13)]: Done 4024 tasks      | elapsed:  2.0min\n",
      "[Parallel(n_jobs=13)]: Done 4974 tasks      | elapsed:  2.4min\n",
      "[Parallel(n_jobs=13)]: Done 6024 tasks      | elapsed:  2.9min\n",
      "[Parallel(n_jobs=13)]: Done 7174 tasks      | elapsed:  3.5min\n",
      "[Parallel(n_jobs=13)]: Done 8424 tasks      | elapsed:  4.1min\n",
      "[Parallel(n_jobs=13)]: Done 9690 out of 9690 | elapsed:  4.7min finished\n",
      "... storing 'memento_group' as categorical\n"
     ]
    },
    {
     "name": "stdout",
     "output_type": "stream",
     "text": [
      "starting ['ciliated'] 48 alpha\n"
     ]
    },
    {
     "name": "stderr",
     "output_type": "stream",
     "text": [
      "/home/ssm-user/anaconda3/envs/single_cell/lib/python3.8/site-packages/pandas/core/arrays/categorical.py:2487: FutureWarning: The `inplace` parameter in pandas.Categorical.remove_unused_categories is deprecated and will be removed in a future version.\n",
      "  res = method(*args, **kwargs)\n",
      "[Parallel(n_jobs=13)]: Using backend LokyBackend with 13 concurrent workers.\n",
      "[Parallel(n_jobs=13)]: Done  24 tasks      | elapsed:    0.8s\n",
      "[Parallel(n_jobs=13)]: Done 174 tasks      | elapsed:    4.6s\n",
      "[Parallel(n_jobs=13)]: Done 424 tasks      | elapsed:   11.9s\n",
      "[Parallel(n_jobs=13)]: Done 774 tasks      | elapsed:   22.4s\n",
      "[Parallel(n_jobs=13)]: Done 1224 tasks      | elapsed:   34.8s\n",
      "[Parallel(n_jobs=13)]: Done 1774 tasks      | elapsed:   49.7s\n",
      "[Parallel(n_jobs=13)]: Done 2424 tasks      | elapsed:  1.1min\n",
      "[Parallel(n_jobs=13)]: Done 3174 tasks      | elapsed:  1.5min\n",
      "[Parallel(n_jobs=13)]: Done 4024 tasks      | elapsed:  1.9min\n",
      "[Parallel(n_jobs=13)]: Done 4974 tasks      | elapsed:  2.3min\n",
      "[Parallel(n_jobs=13)]: Done 6024 tasks      | elapsed:  2.8min\n",
      "[Parallel(n_jobs=13)]: Done 7174 tasks      | elapsed:  3.4min\n",
      "[Parallel(n_jobs=13)]: Done 8424 tasks      | elapsed:  3.9min\n",
      "[Parallel(n_jobs=13)]: Done 9093 out of 9093 | elapsed:  4.3min finished\n",
      "... storing 'memento_group' as categorical\n"
     ]
    },
    {
     "name": "stdout",
     "output_type": "stream",
     "text": [
      "starting ['ciliated'] 48 beta\n"
     ]
    },
    {
     "name": "stderr",
     "output_type": "stream",
     "text": [
      "/home/ssm-user/anaconda3/envs/single_cell/lib/python3.8/site-packages/pandas/core/arrays/categorical.py:2487: FutureWarning: The `inplace` parameter in pandas.Categorical.remove_unused_categories is deprecated and will be removed in a future version.\n",
      "  res = method(*args, **kwargs)\n",
      "[Parallel(n_jobs=13)]: Using backend LokyBackend with 13 concurrent workers.\n",
      "[Parallel(n_jobs=13)]: Done  24 tasks      | elapsed:    0.8s\n",
      "[Parallel(n_jobs=13)]: Done 322 tasks      | elapsed:    9.0s\n",
      "[Parallel(n_jobs=13)]: Done 822 tasks      | elapsed:   23.2s\n",
      "[Parallel(n_jobs=13)]: Done 1522 tasks      | elapsed:   42.1s\n",
      "[Parallel(n_jobs=13)]: Done 2422 tasks      | elapsed:  1.1min\n",
      "[Parallel(n_jobs=13)]: Done 3522 tasks      | elapsed:  1.6min\n",
      "[Parallel(n_jobs=13)]: Done 4822 tasks      | elapsed:  2.2min\n",
      "[Parallel(n_jobs=13)]: Done 6322 tasks      | elapsed:  2.9min\n",
      "[Parallel(n_jobs=13)]: Done 8022 tasks      | elapsed:  3.6min\n",
      "[Parallel(n_jobs=13)]: Done 9436 out of 9461 | elapsed:  4.3min remaining:    0.7s\n",
      "[Parallel(n_jobs=13)]: Done 9461 out of 9461 | elapsed:  4.3min finished\n",
      "... storing 'memento_group' as categorical\n"
     ]
    },
    {
     "name": "stdout",
     "output_type": "stream",
     "text": [
      "starting ['ciliated'] 48 gamma\n"
     ]
    },
    {
     "name": "stderr",
     "output_type": "stream",
     "text": [
      "/home/ssm-user/anaconda3/envs/single_cell/lib/python3.8/site-packages/pandas/core/arrays/categorical.py:2487: FutureWarning: The `inplace` parameter in pandas.Categorical.remove_unused_categories is deprecated and will be removed in a future version.\n",
      "  res = method(*args, **kwargs)\n",
      "[Parallel(n_jobs=13)]: Using backend LokyBackend with 13 concurrent workers.\n",
      "[Parallel(n_jobs=13)]: Done  24 tasks      | elapsed:    0.9s\n",
      "[Parallel(n_jobs=13)]: Done 174 tasks      | elapsed:    4.7s\n",
      "[Parallel(n_jobs=13)]: Done 424 tasks      | elapsed:   11.9s\n",
      "[Parallel(n_jobs=13)]: Done 774 tasks      | elapsed:   22.1s\n",
      "[Parallel(n_jobs=13)]: Done 1224 tasks      | elapsed:   34.4s\n",
      "[Parallel(n_jobs=13)]: Done 1774 tasks      | elapsed:   49.5s\n",
      "[Parallel(n_jobs=13)]: Done 2424 tasks      | elapsed:  1.1min\n",
      "[Parallel(n_jobs=13)]: Done 3174 tasks      | elapsed:  1.5min\n",
      "[Parallel(n_jobs=13)]: Done 4024 tasks      | elapsed:  1.9min\n",
      "[Parallel(n_jobs=13)]: Done 4974 tasks      | elapsed:  2.3min\n",
      "[Parallel(n_jobs=13)]: Done 6024 tasks      | elapsed:  2.8min\n",
      "[Parallel(n_jobs=13)]: Done 7174 tasks      | elapsed:  3.3min\n",
      "[Parallel(n_jobs=13)]: Done 8424 tasks      | elapsed:  3.9min\n",
      "[Parallel(n_jobs=13)]: Done 9650 out of 9650 | elapsed:  4.5min finished\n",
      "... storing 'memento_group' as categorical\n"
     ]
    },
    {
     "name": "stdout",
     "output_type": "stream",
     "text": [
      "starting ['ciliated'] 48 lambda\n"
     ]
    },
    {
     "name": "stderr",
     "output_type": "stream",
     "text": [
      "/home/ssm-user/anaconda3/envs/single_cell/lib/python3.8/site-packages/pandas/core/arrays/categorical.py:2487: FutureWarning: The `inplace` parameter in pandas.Categorical.remove_unused_categories is deprecated and will be removed in a future version.\n",
      "  res = method(*args, **kwargs)\n",
      "[Parallel(n_jobs=13)]: Using backend LokyBackend with 13 concurrent workers.\n",
      "[Parallel(n_jobs=13)]: Done  24 tasks      | elapsed:    1.1s\n",
      "[Parallel(n_jobs=13)]: Done 322 tasks      | elapsed:    9.2s\n",
      "[Parallel(n_jobs=13)]: Done 822 tasks      | elapsed:   23.6s\n",
      "[Parallel(n_jobs=13)]: Done 1522 tasks      | elapsed:   42.9s\n",
      "[Parallel(n_jobs=13)]: Done 2212 tasks      | elapsed:  1.0min\n",
      "[Parallel(n_jobs=13)]: Done 2762 tasks      | elapsed:  1.3min\n",
      "[Parallel(n_jobs=13)]: Done 3412 tasks      | elapsed:  1.6min\n",
      "[Parallel(n_jobs=13)]: Done 4162 tasks      | elapsed:  1.9min\n",
      "[Parallel(n_jobs=13)]: Done 5012 tasks      | elapsed:  2.3min\n",
      "[Parallel(n_jobs=13)]: Done 5962 tasks      | elapsed:  2.8min\n",
      "[Parallel(n_jobs=13)]: Done 7012 tasks      | elapsed:  3.3min\n",
      "[Parallel(n_jobs=13)]: Done 8162 tasks      | elapsed:  3.8min\n",
      "[Parallel(n_jobs=13)]: Done 9412 tasks      | elapsed:  4.4min\n",
      "[Parallel(n_jobs=13)]: Done 9541 out of 9541 | elapsed:  4.5min finished\n",
      "... storing 'memento_group' as categorical\n"
     ]
    }
   ],
   "source": [
    "for ct in cts:\n",
    "    for tp in tps:\n",
    "        for stim in stims:\n",
    "            \n",
    "            fname = '{}_{}_{}_20200320.h5ad'.format('-'.join(ct), stim, tp)\n",
    "            \n",
    "            if fname in done_files:\n",
    "                print('Skipping', fname)\n",
    "                continue\n",
    "\n",
    "            print('starting', ct, tp, stim)\n",
    "\n",
    "            adata_stim = adata.copy()[\n",
    "                adata.obs.cell_type.isin(ct) & \\\n",
    "                adata.obs.stim.isin(['control', stim]) & \\\n",
    "                adata.obs.time.isin(['0',tp]), :].copy()\n",
    "            time_converter={0:0, int(tp):1}\n",
    "            adata_stim.obs['time_step'] = adata_stim.obs['time'].astype(int).apply(lambda x: time_converter[x])\n",
    "\n",
    "            memento.create_groups(adata_stim, label_columns=['time_step', 'donor'])\n",
    "            memento.compute_1d_moments(adata_stim, min_perc_group=.9)\n",
    "\n",
    "            memento.ht_1d_moments(\n",
    "                adata_stim, \n",
    "                formula_like='1 + time_step',\n",
    "                cov_column='time_step', \n",
    "                num_boot=10000, \n",
    "                verbose=1,\n",
    "                num_cpus=13)\n",
    "\n",
    "            del adata_stim.uns['memento']['mv_regressor']\n",
    "\n",
    "            adata_stim.write('/data_volume/ifn_hbec/binary_test_deep/{}_{}_{}_20200320.h5ad'.format(\n",
    "                '-'.join(ct), stim, tp))"
   ]
  },
  {
   "cell_type": "code",
   "execution_count": null,
   "metadata": {},
   "outputs": [],
   "source": []
  }
 ],
 "metadata": {
  "kernelspec": {
   "display_name": "Python 3",
   "language": "python",
   "name": "python3"
  },
  "language_info": {
   "codemirror_mode": {
    "name": "ipython",
    "version": 3
   },
   "file_extension": ".py",
   "mimetype": "text/x-python",
   "name": "python",
   "nbconvert_exporter": "python",
   "pygments_lexer": "ipython3",
   "version": "3.8.8"
  }
 },
 "nbformat": 4,
 "nbformat_minor": 4
}
