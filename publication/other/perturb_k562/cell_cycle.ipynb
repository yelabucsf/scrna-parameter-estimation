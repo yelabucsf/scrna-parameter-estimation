{
 "cells": [
  {
   "cell_type": "markdown",
   "metadata": {},
   "source": [
    "# Perturb-seq K562 co-expression"
   ]
  },
  {
   "cell_type": "code",
   "execution_count": 1,
   "metadata": {},
   "outputs": [],
   "source": [
    "import scanpy as sc\n",
    "import seaborn as sns\n",
    "import pandas as pd\n",
    "import matplotlib.pyplot as plt\n",
    "import numpy as np\n",
    "import scipy.stats as stats\n",
    "import itertools\n",
    "from pybedtools import BedTool\n",
    "import pickle as pkl\n",
    "%matplotlib inline"
   ]
  },
  {
   "cell_type": "code",
   "execution_count": 2,
   "metadata": {},
   "outputs": [],
   "source": [
    "pd.set_option('max_columns', None)"
   ]
  },
  {
   "cell_type": "code",
   "execution_count": 3,
   "metadata": {},
   "outputs": [],
   "source": [
    "import sys\n",
    "sys.path.append('/home/ssm-user/Github/scrna-parameter-estimation/dist/memento-0.0.6-py3.8.egg')\n",
    "sys.path.append('/home/ssm-user/Github/misc-seq/miscseq/')\n",
    "import encode\n",
    "import memento"
   ]
  },
  {
   "cell_type": "code",
   "execution_count": 4,
   "metadata": {},
   "outputs": [],
   "source": [
    "data_path = '/data_volume/memento/k562/'"
   ]
  },
  {
   "cell_type": "markdown",
   "metadata": {},
   "source": [
    "### Read the guide labled K562 data\n",
    "\n",
    "From perturbseq paper"
   ]
  },
  {
   "cell_type": "code",
   "execution_count": 9,
   "metadata": {},
   "outputs": [
    {
     "name": "stderr",
     "output_type": "stream",
     "text": [
      "Variable names are not unique. To make them unique, call `.var_names_make_unique`.\n"
     ]
    }
   ],
   "source": [
    "adata = sc.read(data_path + 'h5ad/filtered-cellcycle.h5ad')"
   ]
  },
  {
   "cell_type": "code",
   "execution_count": 10,
   "metadata": {},
   "outputs": [],
   "source": [
    "guides = adata.obs.guides.drop_duplicates().tolist()\n",
    "guides = [g for g in guides if ('INTER' not in g and 'nan' not in g)]\n",
    "ko_genes = adata.obs.query('KO == 1')['KO_GENE'].drop_duplicates().tolist()"
   ]
  },
  {
   "cell_type": "code",
   "execution_count": 17,
   "metadata": {},
   "outputs": [],
   "source": [
    "adata.X = adata.X.tocsr()"
   ]
  },
  {
   "cell_type": "markdown",
   "metadata": {},
   "source": [
    "### Setup memento"
   ]
  },
  {
   "cell_type": "code",
   "execution_count": 18,
   "metadata": {},
   "outputs": [],
   "source": [
    "adata.obs['q'] = 0.07"
   ]
  },
  {
   "cell_type": "code",
   "execution_count": 19,
   "metadata": {},
   "outputs": [
    {
     "name": "stderr",
     "output_type": "stream",
     "text": [
      "/home/ssm-user/Github/scrna-parameter-estimation/dist/memento-0.0.6-py3.8.egg/memento/main.py:68: RankWarning: Polyfit may be poorly conditioned\n",
      "  all_res_var = estimator._residual_variance(all_m, all_v, estimator._fit_mv_regressor(all_m, all_v))\n"
     ]
    }
   ],
   "source": [
    "memento.setup_memento(adata, q_column='q', filter_mean_thresh=0.07)"
   ]
  },
  {
   "cell_type": "markdown",
   "metadata": {},
   "source": [
    "### Get moments from all groups"
   ]
  },
  {
   "cell_type": "code",
   "execution_count": 20,
   "metadata": {},
   "outputs": [
    {
     "name": "stderr",
     "output_type": "stream",
     "text": [
      "Variable names are not unique. To make them unique, call `.var_names_make_unique`.\n",
      "Variable names are not unique. To make them unique, call `.var_names_make_unique`.\n"
     ]
    }
   ],
   "source": [
    "adata_moments = adata.copy().copy()"
   ]
  },
  {
   "cell_type": "code",
   "execution_count": 21,
   "metadata": {},
   "outputs": [
    {
     "name": "stderr",
     "output_type": "stream",
     "text": [
      "/home/ssm-user/anaconda3/envs/single_cell/lib/python3.8/site-packages/pandas/core/arrays/categorical.py:2487: FutureWarning: The `inplace` parameter in pandas.Categorical.remove_unused_categories is deprecated and will be removed in a future version.\n",
      "  res = method(*args, **kwargs)\n"
     ]
    }
   ],
   "source": [
    "memento.create_groups(adata_moments, label_columns=['phase'])\n",
    "memento.compute_1d_moments(adata_moments, min_perc_group=.9)"
   ]
  },
  {
   "cell_type": "code",
   "execution_count": 22,
   "metadata": {},
   "outputs": [],
   "source": [
    "moment_df = memento.get_1d_moments(adata_moments)\n",
    "moment_df = moment_df[0].merge(moment_df[1], on='gene', suffixes=('_m', '_v'))"
   ]
  },
  {
   "cell_type": "code",
   "execution_count": 23,
   "metadata": {},
   "outputs": [],
   "source": [
    "moment_df = moment_df[['gene','sg^G1_m', 'sg^S_m', 'sg^G2M_m', 'sg^G1_v', 'sg^S_v', 'sg^G2M_v']]"
   ]
  },
  {
   "cell_type": "markdown",
   "metadata": {},
   "source": [
    "### Cell cycle 1D moments"
   ]
  },
  {
   "cell_type": "code",
   "execution_count": 24,
   "metadata": {},
   "outputs": [],
   "source": [
    "adata.obs['s_phase'] = (adata.obs.phase == 'S').astype(int)\n",
    "adata.obs['g1_phase'] = (adata.obs.phase == 'G1').astype(int)\n",
    "adata.obs['g2m_phase'] = (adata.obs.phase == 'G2M').astype(int)"
   ]
  },
  {
   "cell_type": "code",
   "execution_count": 57,
   "metadata": {},
   "outputs": [
    {
     "name": "stderr",
     "output_type": "stream",
     "text": [
      "/home/ssm-user/anaconda3/envs/single_cell/lib/python3.8/site-packages/pandas/core/arrays/categorical.py:2487: FutureWarning: The `inplace` parameter in pandas.Categorical.remove_unused_categories is deprecated and will be removed in a future version.\n",
      "  res = method(*args, **kwargs)\n",
      "Variable names are not unique. To make them unique, call `.var_names_make_unique`.\n",
      "Variable names are not unique. To make them unique, call `.var_names_make_unique`.\n",
      "Variable names are not unique. To make them unique, call `.var_names_make_unique`.\n",
      "Variable names are not unique. To make them unique, call `.var_names_make_unique`.\n",
      "Variable names are not unique. To make them unique, call `.var_names_make_unique`.\n",
      "Variable names are not unique. To make them unique, call `.var_names_make_unique`.\n"
     ]
    }
   ],
   "source": [
    "g1_s = adata[adata.obs.phase.isin(['S', 'G1'])].copy().copy()\n",
    "s_g2 = adata[adata.obs.phase.isin(['S', 'G2M'])].copy().copy()\n",
    "g2_g1 = adata[adata.obs.phase.isin(['G1', 'G2M'])].copy().copy()"
   ]
  },
  {
   "cell_type": "code",
   "execution_count": 58,
   "metadata": {},
   "outputs": [],
   "source": [
    "memento.create_groups(g1_s, label_columns=['s_phase', 'leiden'])\n",
    "memento.compute_1d_moments(g1_s, min_perc_group=.9)\n",
    "\n",
    "memento.create_groups(s_g2, label_columns=['g2m_phase', 'leiden'])\n",
    "memento.compute_1d_moments(s_g2, min_perc_group=.9)\n",
    "\n",
    "memento.create_groups(g2_g1, label_columns=['g1_phase', 'leiden'])\n",
    "memento.compute_1d_moments(g2_g1, min_perc_group=.9)"
   ]
  },
  {
   "cell_type": "code",
   "execution_count": 59,
   "metadata": {},
   "outputs": [
    {
     "name": "stderr",
     "output_type": "stream",
     "text": [
      "[Parallel(n_jobs=70)]: Using backend LokyBackend with 70 concurrent workers.\n",
      "[Parallel(n_jobs=70)]: Done  60 tasks      | elapsed:    6.1s\n",
      "[Parallel(n_jobs=70)]: Done 310 tasks      | elapsed:   12.0s\n",
      "[Parallel(n_jobs=70)]: Done 660 tasks      | elapsed:   19.4s\n",
      "[Parallel(n_jobs=70)]: Done 1110 tasks      | elapsed:   28.3s\n",
      "[Parallel(n_jobs=70)]: Done 1660 tasks      | elapsed:   39.3s\n",
      "[Parallel(n_jobs=70)]: Done 2310 tasks      | elapsed:   51.7s\n",
      "[Parallel(n_jobs=70)]: Done 3060 tasks      | elapsed:  1.1min\n",
      "[Parallel(n_jobs=70)]: Done 3910 tasks      | elapsed:  1.4min\n",
      "[Parallel(n_jobs=70)]: Done 4860 tasks      | elapsed:  1.8min\n",
      "[Parallel(n_jobs=70)]: Done 5910 tasks      | elapsed:  2.1min\n",
      "[Parallel(n_jobs=70)]: Done 7060 tasks      | elapsed:  2.5min\n",
      "[Parallel(n_jobs=70)]: Done 8310 tasks      | elapsed:  3.0min\n",
      "[Parallel(n_jobs=70)]: Done 8481 out of 8481 | elapsed:  3.2min finished\n",
      "[Parallel(n_jobs=70)]: Using backend LokyBackend with 70 concurrent workers.\n",
      "[Parallel(n_jobs=70)]: Done  60 tasks      | elapsed:    1.9s\n",
      "[Parallel(n_jobs=70)]: Done 310 tasks      | elapsed:    8.2s\n",
      "[Parallel(n_jobs=70)]: Done 660 tasks      | elapsed:   15.6s\n",
      "[Parallel(n_jobs=70)]: Done 1110 tasks      | elapsed:   25.2s\n",
      "[Parallel(n_jobs=70)]: Done 1660 tasks      | elapsed:   36.5s\n",
      "[Parallel(n_jobs=70)]: Done 2310 tasks      | elapsed:   49.9s\n",
      "[Parallel(n_jobs=70)]: Done 3060 tasks      | elapsed:  1.1min\n",
      "[Parallel(n_jobs=70)]: Done 3910 tasks      | elapsed:  1.4min\n",
      "[Parallel(n_jobs=70)]: Done 4860 tasks      | elapsed:  1.8min\n",
      "[Parallel(n_jobs=70)]: Done 5910 tasks      | elapsed:  2.2min\n",
      "[Parallel(n_jobs=70)]: Done 7060 tasks      | elapsed:  2.6min\n",
      "[Parallel(n_jobs=70)]: Done 8434 out of 8434 | elapsed:  3.3min finished\n",
      "[Parallel(n_jobs=70)]: Using backend LokyBackend with 70 concurrent workers.\n",
      "[Parallel(n_jobs=70)]: Done  60 tasks      | elapsed:    2.0s\n",
      "[Parallel(n_jobs=70)]: Done 310 tasks      | elapsed:    8.7s\n",
      "[Parallel(n_jobs=70)]: Done 660 tasks      | elapsed:   17.2s\n",
      "[Parallel(n_jobs=70)]: Done 1110 tasks      | elapsed:   27.4s\n",
      "[Parallel(n_jobs=70)]: Done 1660 tasks      | elapsed:   40.3s\n",
      "[Parallel(n_jobs=70)]: Done 2310 tasks      | elapsed:   54.6s\n",
      "[Parallel(n_jobs=70)]: Done 3060 tasks      | elapsed:  1.2min\n",
      "[Parallel(n_jobs=70)]: Done 3910 tasks      | elapsed:  1.6min\n",
      "[Parallel(n_jobs=70)]: Done 4860 tasks      | elapsed:  1.9min\n",
      "[Parallel(n_jobs=70)]: Done 5910 tasks      | elapsed:  2.4min\n",
      "[Parallel(n_jobs=70)]: Done 7060 tasks      | elapsed:  2.8min\n",
      "[Parallel(n_jobs=70)]: Done 8310 tasks      | elapsed:  3.3min\n",
      "[Parallel(n_jobs=70)]: Done 8691 out of 8691 | elapsed:  3.7min finished\n",
      "... storing 'memento_group' as categorical\n",
      "... storing 'memento_group' as categorical\n",
      "... storing 'memento_group' as categorical\n"
     ]
    }
   ],
   "source": [
    "memento.ht_1d_moments(\n",
    "    g1_s, \n",
    "    formula_like='1 + s_phase',\n",
    "    cov_column='s_phase', \n",
    "    num_boot=20000, \n",
    "    verbose=1,\n",
    "    num_cpus=70)\n",
    "\n",
    "memento.ht_1d_moments(\n",
    "    s_g2, \n",
    "    formula_like='1 + g2m_phase',\n",
    "    cov_column='g2m_phase', \n",
    "    num_boot=20000, \n",
    "    verbose=1,\n",
    "    num_cpus=70)\n",
    "\n",
    "memento.ht_1d_moments(\n",
    "    g2_g1, \n",
    "    formula_like='1 + g1_phase',\n",
    "    cov_column='g1_phase', \n",
    "    num_boot=20000, \n",
    "    verbose=1,\n",
    "    num_cpus=70)\n",
    "\n",
    "g1_s.write(data_path + 'cell_cycle/g1_s.h5ad')\n",
    "s_g2.write(data_path + 'cell_cycle/s_g2.h5ad')\n",
    "g2_g1.write(data_path + 'cell_cycle/g2_g1.h5ad')"
   ]
  },
  {
   "cell_type": "code",
   "execution_count": 60,
   "metadata": {},
   "outputs": [],
   "source": [
    "def get_1d_dfs(subset):\n",
    "\n",
    "    df = memento.get_1d_ht_result(subset)\n",
    "    df['dv_fdr'] = memento.util._fdrcorrect(df['dv_pval'])\n",
    "    df['de_fdr'] = memento.util._fdrcorrect(df['de_pval'])\n",
    "    \n",
    "    return df"
   ]
  },
  {
   "cell_type": "code",
   "execution_count": 61,
   "metadata": {},
   "outputs": [],
   "source": [
    "g1_s_1d = get_1d_dfs(g1_s)\n",
    "s_g2_1d = get_1d_dfs(s_g2)\n",
    "g2_g1_1d = get_1d_dfs(g2_g1)"
   ]
  },
  {
   "cell_type": "code",
   "execution_count": 62,
   "metadata": {},
   "outputs": [
    {
     "data": {
      "text/plain": [
       "<matplotlib.collections.PathCollection at 0x7fe99743cb50>"
      ]
     },
     "execution_count": 62,
     "metadata": {},
     "output_type": "execute_result"
    },
    {
     "data": {
      "image/png": "[encoded data removed]",
      "text/plain": [
       "<Figure size 720x216 with 3 Axes>"
      ]
     },
     "metadata": {
      "needs_background": "light"
     },
     "output_type": "display_data"
    }
   ],
   "source": [
    "plt.figure(figsize=(10,3))\n",
    "plt.subplot(1,3,1)\n",
    "plt.scatter(g1_s_1d['de_coef'], g1_s_1d['dv_coef'], s=1)\n",
    "plt.subplot(1,3,2)\n",
    "plt.scatter(s_g2_1d['de_coef'], s_g2_1d['dv_coef'], s=1)\n",
    "plt.subplot(1,3,3)\n",
    "plt.scatter(g2_g1_1d['de_coef'], g2_g1_1d['dv_coef'], s=1)"
   ]
  },
  {
   "cell_type": "code",
   "execution_count": 63,
   "metadata": {},
   "outputs": [],
   "source": [
    "sig_genes = set(\n",
    "    g1_s_1d.query('dv_fdr < 0.01 & (dv_coef < -1 | dv_coef > 1)').gene.tolist() +\\\n",
    "    s_g2_1d.query('dv_fdr < 0.01 & (dv_coef < -1 | dv_coef > 1)').gene.tolist() + \\\n",
    "    g2_g1_1d.query('dv_fdr < 0.01 & (dv_coef < -1 | dv_coef > 1)').gene.tolist())"
   ]
  },
  {
   "cell_type": "markdown",
   "metadata": {},
   "source": [
    "### GSEA + scatterplots"
   ]
  },
  {
   "cell_type": "code",
   "execution_count": 130,
   "metadata": {},
   "outputs": [],
   "source": [
    "def plot_scatters(gene_set, name, c='k'):\n",
    "    plt.figure(figsize=(10,3))\n",
    "    plt.subplot(1,3,1)\n",
    "    plt.scatter(g1_s_1d['de_coef'], g1_s_1d['dv_coef'], s=1, color='gray')\n",
    "    plt.scatter(g1_s_1d.query('gene in @gene_set')['de_coef'], g1_s_1d.query('gene in @gene_set')['dv_coef'], s=15, color=c)\n",
    "    plt.xlabel('G1->S')\n",
    "#     plt.xlim(-1.2,1.2); plt.ylim(-1.2,1.2);\n",
    "\n",
    "    plt.subplot(1,3,2)\n",
    "    plt.scatter(s_g2_1d['de_coef'], s_g2_1d['dv_coef'], s=1, color='gray')\n",
    "    plt.scatter(s_g2_1d.query('gene in @gene_set')['de_coef'], s_g2_1d.query('gene in @gene_set')['dv_coef'], s=15, color=c)\n",
    "    plt.title(name)\n",
    "    plt.xlabel('S->G2M')\n",
    "#     plt.xlim(-1.2,1.2); plt.ylim(-1.2,1.2);\n",
    "\n",
    "    plt.subplot(1,3,3)\n",
    "    plt.scatter(g2_g1_1d['de_coef'], g2_g1_1d['dv_coef'], s=1, color='gray')\n",
    "    plt.scatter(g2_g1_1d.query('gene in @gene_set')['de_coef'], g2_g1_1d.query('gene in @gene_set')['dv_coef'], s=15, color=c)\n",
    "    plt.xlabel('G2M->G1')\n",
    "#     plt.xlim(-1.2,1.2); plt.ylim(-1.2,1.2);\n"
   ]
  },
  {
   "cell_type": "code",
   "execution_count": 131,
   "metadata": {},
   "outputs": [],
   "source": [
    "import gseapy as gp\n",
    "from gseapy.plot import gseaplot\n"
   ]
  },
  {
   "cell_type": "code",
   "execution_count": 133,
   "metadata": {},
   "outputs": [],
   "source": [
    "pre_res = gp.prerank(\n",
    "    rnk=s_g2_1d.query('de_coef > 0 & de_fdr < 0.01')[['gene','dv_coef']].sort_values('dv_coef'), \n",
    "    gene_sets='GO_Biological_Process_2018',\n",
    "    processes=4,\n",
    "    permutation_num=100, # reduce number to speed up testing\n",
    "    outdir=None, seed=6)"
   ]
  },
  {
   "cell_type": "code",
   "execution_count": 134,
   "metadata": {},
   "outputs": [],
   "source": [
    "terms = pre_res.res2d.index\n"
   ]
  },
  {
   "cell_type": "code",
   "execution_count": 135,
   "metadata": {},
   "outputs": [],
   "source": [
    "gsea_table = pre_res.res2d.sort_index().sort_values('fdr')\n"
   ]
  },
  {
   "cell_type": "code",
   "execution_count": 136,
   "metadata": {},
   "outputs": [
    {
     "data": {
      "text/html": [
       "<div>\n",
       "<style scoped>\n",
       "    .dataframe tbody tr th:only-of-type {\n",
       "        vertical-align: middle;\n",
       "    }\n",
       "\n",
       "    .dataframe tbody tr th {\n",
       "        vertical-align: top;\n",
       "    }\n",
       "\n",
       "    .dataframe thead th {\n",
       "        text-align: right;\n",
       "    }\n",
       "</style>\n",
       "<table border=\"1\" class=\"dataframe\">\n",
       "  <thead>\n",
       "    <tr style=\"text-align: right;\">\n",
       "      <th></th>\n",
       "      <th>es</th>\n",
       "      <th>nes</th>\n",
       "      <th>pval</th>\n",
       "      <th>fdr</th>\n",
       "      <th>geneset_size</th>\n",
       "      <th>matched_size</th>\n",
       "      <th>genes</th>\n",
       "      <th>ledge_genes</th>\n",
       "    </tr>\n",
       "    <tr>\n",
       "      <th>Term</th>\n",
       "      <th></th>\n",
       "      <th></th>\n",
       "      <th></th>\n",
       "      <th></th>\n",
       "      <th></th>\n",
       "      <th></th>\n",
       "      <th></th>\n",
       "      <th></th>\n",
       "    </tr>\n",
       "  </thead>\n",
       "  <tbody>\n",
       "    <tr>\n",
       "      <th>regulation of cyclin-dependent protein serine/threonine kinase activity (GO:0000079)</th>\n",
       "      <td>0.673582</td>\n",
       "      <td>2.143093</td>\n",
       "      <td>0.0</td>\n",
       "      <td>0.000000</td>\n",
       "      <td>68</td>\n",
       "      <td>31</td>\n",
       "      <td>SERTAD1;CDKN2C;CCNL1;CDKN1B;CCND1;PSRC1;CDKN3;...</td>\n",
       "      <td>SERTAD1;CDKN2C;CCNL1;CDKN1B;CCND1;PSRC1;CDKN3;...</td>\n",
       "    </tr>\n",
       "    <tr>\n",
       "      <th>negative regulation of G2/M transition of mitotic cell cycle (GO:0010972)</th>\n",
       "      <td>0.674013</td>\n",
       "      <td>2.058674</td>\n",
       "      <td>0.0</td>\n",
       "      <td>0.016581</td>\n",
       "      <td>63</td>\n",
       "      <td>23</td>\n",
       "      <td>PSMD12;UBC;AURKA;PSMD11;PSMC5;PINX1;PSMC3;PSMD...</td>\n",
       "      <td>PSMD12;UBC;AURKA;PSMD11;PSMC5;PINX1;PSMC3;PSMD...</td>\n",
       "    </tr>\n",
       "    <tr>\n",
       "      <th>SRP-dependent cotranslational protein targeting to membrane (GO:0006614)</th>\n",
       "      <td>0.534369</td>\n",
       "      <td>2.031044</td>\n",
       "      <td>0.0</td>\n",
       "      <td>0.027635</td>\n",
       "      <td>90</td>\n",
       "      <td>80</td>\n",
       "      <td>RPL39;RPL23;RPS24;SRP14;RPL38;RPS29;RPS25;RPL4...</td>\n",
       "      <td>RPL39;RPL23;RPS24;SRP14;RPL38;RPS29;RPS25;RPL4...</td>\n",
       "    </tr>\n",
       "    <tr>\n",
       "      <th>cotranslational protein targeting to membrane (GO:0006613)</th>\n",
       "      <td>0.548084</td>\n",
       "      <td>1.995741</td>\n",
       "      <td>0.0</td>\n",
       "      <td>0.029477</td>\n",
       "      <td>94</td>\n",
       "      <td>82</td>\n",
       "      <td>ARL6IP1;RPL39;RPL23;RPS24;SRP14;RPL38;RPS29;RP...</td>\n",
       "      <td>ARL6IP1;RPL39;RPL23;RPS24;SRP14;RPL38;RPS29;RP...</td>\n",
       "    </tr>\n",
       "    <tr>\n",
       "      <th>protein targeting to ER (GO:0045047)</th>\n",
       "      <td>0.534121</td>\n",
       "      <td>1.997935</td>\n",
       "      <td>0.0</td>\n",
       "      <td>0.035373</td>\n",
       "      <td>98</td>\n",
       "      <td>81</td>\n",
       "      <td>RPL39;RPL23;RPS24;SRP14;RPL38;RPS29;RPS25;RPL4...</td>\n",
       "      <td>RPL39;RPL23;RPS24;SRP14;RPL38;RPS29;RPS25;RPL4...</td>\n",
       "    </tr>\n",
       "  </tbody>\n",
       "</table>\n",
       "</div>"
      ],
      "text/plain": [
       "                                                          es       nes  pval  \\\n",
       "Term                                                                           \n",
       "regulation of cyclin-dependent protein serine/t...  0.673582  2.143093   0.0   \n",
       "negative regulation of G2/M transition of mitot...  0.674013  2.058674   0.0   \n",
       "SRP-dependent cotranslational protein targeting...  0.534369  2.031044   0.0   \n",
       "cotranslational protein targeting to membrane (...  0.548084  1.995741   0.0   \n",
       "protein targeting to ER (GO:0045047)                0.534121  1.997935   0.0   \n",
       "\n",
       "                                                         fdr  geneset_size  \\\n",
       "Term                                                                         \n",
       "regulation of cyclin-dependent protein serine/t...  0.000000            68   \n",
       "negative regulation of G2/M transition of mitot...  0.016581            63   \n",
       "SRP-dependent cotranslational protein targeting...  0.027635            90   \n",
       "cotranslational protein targeting to membrane (...  0.029477            94   \n",
       "protein targeting to ER (GO:0045047)                0.035373            98   \n",
       "\n",
       "                                                    matched_size  \\\n",
       "Term                                                               \n",
       "regulation of cyclin-dependent protein serine/t...            31   \n",
       "negative regulation of G2/M transition of mitot...            23   \n",
       "SRP-dependent cotranslational protein targeting...            80   \n",
       "cotranslational protein targeting to membrane (...            82   \n",
       "protein targeting to ER (GO:0045047)                          81   \n",
       "\n",
       "                                                                                                genes  \\\n",
       "Term                                                                                                    \n",
       "regulation of cyclin-dependent protein serine/t...  SERTAD1;CDKN2C;CCNL1;CDKN1B;CCND1;PSRC1;CDKN3;...   \n",
       "negative regulation of G2/M transition of mitot...  PSMD12;UBC;AURKA;PSMD11;PSMC5;PINX1;PSMC3;PSMD...   \n",
       "SRP-dependent cotranslational protein targeting...  RPL39;RPL23;RPS24;SRP14;RPL38;RPS29;RPS25;RPL4...   \n",
       "cotranslational protein targeting to membrane (...  ARL6IP1;RPL39;RPL23;RPS24;SRP14;RPL38;RPS29;RP...   \n",
       "protein targeting to ER (GO:0045047)                RPL39;RPL23;RPS24;SRP14;RPL38;RPS29;RPS25;RPL4...   \n",
       "\n",
       "                                                                                          ledge_genes  \n",
       "Term                                                                                                   \n",
       "regulation of cyclin-dependent protein serine/t...  SERTAD1;CDKN2C;CCNL1;CDKN1B;CCND1;PSRC1;CDKN3;...  \n",
       "negative regulation of G2/M transition of mitot...  PSMD12;UBC;AURKA;PSMD11;PSMC5;PINX1;PSMC3;PSMD...  \n",
       "SRP-dependent cotranslational protein targeting...  RPL39;RPL23;RPS24;SRP14;RPL38;RPS29;RPS25;RPL4...  \n",
       "cotranslational protein targeting to membrane (...  ARL6IP1;RPL39;RPL23;RPS24;SRP14;RPL38;RPS29;RP...  \n",
       "protein targeting to ER (GO:0045047)                RPL39;RPL23;RPS24;SRP14;RPL38;RPS29;RPS25;RPL4...  "
      ]
     },
     "execution_count": 136,
     "metadata": {},
     "output_type": "execute_result"
    }
   ],
   "source": [
    "gsea_table.head(5)"
   ]
  },
  {
   "cell_type": "code",
   "execution_count": 137,
   "metadata": {},
   "outputs": [],
   "source": [
    "terms = gsea_table.index\n"
   ]
  },
  {
   "cell_type": "code",
   "execution_count": 139,
   "metadata": {},
   "outputs": [
    {
     "data": {
      "image/png": "[encoded data removed]",
      "text/plain": [
       "<Figure size 432x396 with 4 Axes>"
      ]
     },
     "metadata": {
      "needs_background": "light"
     },
     "output_type": "display_data"
    }
   ],
   "source": [
    "idx=0\n",
    "gseaplot(rank_metric=pre_res.ranking, term=terms[idx], **pre_res.results[terms[idx]])\n"
   ]
  },
  {
   "cell_type": "code",
   "execution_count": 126,
   "metadata": {},
   "outputs": [],
   "source": [
    "gsea_table = pre_res.res2d.sort_index().sort_values('fdr')\n"
   ]
  },
  {
   "cell_type": "code",
   "execution_count": 144,
   "metadata": {},
   "outputs": [
    {
     "data": {
      "text/plain": [
       "['SERTAD1',\n",
       " 'CDKN2C',\n",
       " 'CCNL1',\n",
       " 'CDKN1B',\n",
       " 'CCND1',\n",
       " 'PSRC1',\n",
       " 'CDKN3',\n",
       " 'GTF2H1',\n",
       " 'CKS2',\n",
       " 'CDK7',\n",
       " 'CCNK',\n",
       " 'CDK5RAP3',\n",
       " 'CKS1B',\n",
       " 'CDC25C']"
      ]
     },
     "execution_count": 144,
     "metadata": {},
     "output_type": "execute_result"
    }
   ],
   "source": [
    "stress_genes"
   ]
  },
  {
   "cell_type": "code",
   "execution_count": 142,
   "metadata": {},
   "outputs": [
    {
     "data": {
      "image/png": "[encoded data removed]",
      "text/plain": [
       "<Figure size 720x216 with 3 Axes>"
      ]
     },
     "metadata": {
      "needs_background": "light"
     },
     "output_type": "display_data"
    }
   ],
   "source": [
    "stress_genes = gsea_table['ledge_genes'].iloc[0].split(';')\n",
    "plot_scatters(stress_genes, 'chaperones')"
   ]
  },
  {
   "cell_type": "code",
   "execution_count": 143,
   "metadata": {},
   "outputs": [
    {
     "data": {
      "image/png": "[encoded data removed]",
      "text/plain": [
       "<Figure size 720x216 with 3 Axes>"
      ]
     },
     "metadata": {
      "needs_background": "light"
     },
     "output_type": "display_data"
    }
   ],
   "source": [
    "cell_cycle_genes = [x.strip() for x in open('./regev_lab_cell_cycle_genes.txt')]\n",
    "plot_scatters(cell_cycle_genes, 'cell cycle')"
   ]
  },
  {
   "cell_type": "code",
   "execution_count": 55,
   "metadata": {},
   "outputs": [
    {
     "data": {
      "image/png": "[encoded data removed]",
      "text/plain": [
       "<Figure size 720x216 with 3 Axes>"
      ]
     },
     "metadata": {
      "needs_background": "light"
     },
     "output_type": "display_data"
    }
   ],
   "source": [
    "manual_gene_set = g1_s_1d.query('dv_coef < -1 & de_coef < -0.5').gene.tolist()\n",
    "plot_scatters(manual_gene_set, 'G1 genes')"
   ]
  },
  {
   "cell_type": "code",
   "execution_count": null,
   "metadata": {},
   "outputs": [],
   "source": []
  },
  {
   "cell_type": "code",
   "execution_count": 56,
   "metadata": {},
   "outputs": [
    {
     "data": {
      "text/plain": [
       "['G0S2', 'ID2', 'LYZ', 'LINC00659']"
      ]
     },
     "execution_count": 56,
     "metadata": {},
     "output_type": "execute_result"
    }
   ],
   "source": [
    "manual_gene_set"
   ]
  },
  {
   "cell_type": "markdown",
   "metadata": {},
   "source": [
    "### Get any hits for KOs"
   ]
  },
  {
   "cell_type": "code",
   "execution_count": 145,
   "metadata": {},
   "outputs": [],
   "source": [
    "guides = adata.obs.guides.drop_duplicates().tolist()\n",
    "guides = [g for g in guides if ('INTER' not in g and 'nan' not in g)]\n",
    "ko_genes = adata.obs.query('KO == 1')['KO_GENE'].drop_duplicates().tolist()"
   ]
  },
  {
   "cell_type": "markdown",
   "metadata": {},
   "source": [
    "### Get moments for the gene classes"
   ]
  },
  {
   "cell_type": "code",
   "execution_count": 147,
   "metadata": {},
   "outputs": [
    {
     "name": "stderr",
     "output_type": "stream",
     "text": [
      "/home/ssm-user/anaconda3/envs/single_cell/lib/python3.8/site-packages/pandas/core/arrays/categorical.py:2487: FutureWarning: The `inplace` parameter in pandas.Categorical.remove_unused_categories is deprecated and will be removed in a future version.\n",
      "  res = method(*args, **kwargs)\n",
      "Variable names are not unique. To make them unique, call `.var_names_make_unique`.\n",
      "Variable names are not unique. To make them unique, call `.var_names_make_unique`.\n"
     ]
    },
    {
     "name": "stdout",
     "output_type": "stream",
     "text": [
      "PTGER2\n"
     ]
    },
    {
     "name": "stderr",
     "output_type": "stream",
     "text": [
      "[Parallel(n_jobs=70)]: Using backend LokyBackend with 70 concurrent workers.\n",
      "[Parallel(n_jobs=70)]: Done  60 tasks      | elapsed:    5.4s\n",
      "[Parallel(n_jobs=70)]: Done 310 tasks      | elapsed:    8.1s\n",
      "[Parallel(n_jobs=70)]: Done 660 tasks      | elapsed:   11.3s\n",
      "[Parallel(n_jobs=70)]: Done 1110 tasks      | elapsed:   15.2s\n",
      "[Parallel(n_jobs=70)]: Done 1660 tasks      | elapsed:   20.0s\n",
      "[Parallel(n_jobs=70)]: Done 2310 tasks      | elapsed:   25.8s\n",
      "[Parallel(n_jobs=70)]: Done 3060 tasks      | elapsed:   33.0s\n",
      "[Parallel(n_jobs=70)]: Done 3910 tasks      | elapsed:   40.6s\n",
      "[Parallel(n_jobs=70)]: Done 4860 tasks      | elapsed:   49.0s\n",
      "[Parallel(n_jobs=70)]: Done 5910 tasks      | elapsed:   58.6s\n",
      "[Parallel(n_jobs=70)]: Done 7060 tasks      | elapsed:  1.1min\n",
      "[Parallel(n_jobs=70)]: Done 8310 tasks      | elapsed:  1.3min\n",
      "[Parallel(n_jobs=70)]: Done 8449 out of 8449 | elapsed:  1.4min finished\n"
     ]
    }
   ],
   "source": [
    "for g in ko_genes:\n",
    "    \n",
    "    print(g)\n",
    "    \n",
    "    subset = adata[adata.obs.WT | (adata.obs.KO_GENE == g)].copy().copy()\n",
    "    \n",
    "    memento.create_groups(subset, label_columns=['KO', 'leiden'])\n",
    "    memento.compute_1d_moments(subset, min_perc_group=.9)\n",
    "    \n",
    "    target_genes = list(set(subset.var.index)-set(ko_genes))\n",
    "#     memento.compute_2d_moments(subset, gene_pairs=list(itertools.product([g], target_genes)))\n",
    "    \n",
    "    memento.ht_1d_moments(\n",
    "        subset, \n",
    "        formula_like='1 + KO',\n",
    "        cov_column='KO', \n",
    "        num_boot=10000, \n",
    "        verbose=1,\n",
    "        num_cpus=70)\n",
    "    \n",
    "#     subset.write(data_path + '2d_self_h5ad/{}.h5ad'.format(g))\n",
    "    \n",
    "    break"
   ]
  },
  {
   "cell_type": "code",
   "execution_count": 149,
   "metadata": {},
   "outputs": [],
   "source": [
    "df = memento.get_1d_ht_result(subset)\n",
    "df['de_fdr'] = memento.util._fdrcorrect(df['de_pval'])"
   ]
  },
  {
   "cell_type": "code",
   "execution_count": 151,
   "metadata": {},
   "outputs": [
    {
     "data": {
      "text/html": [
       "<div>\n",
       "<style scoped>\n",
       "    .dataframe tbody tr th:only-of-type {\n",
       "        vertical-align: middle;\n",
       "    }\n",
       "\n",
       "    .dataframe tbody tr th {\n",
       "        vertical-align: top;\n",
       "    }\n",
       "\n",
       "    .dataframe thead th {\n",
       "        text-align: right;\n",
       "    }\n",
       "</style>\n",
       "<table border=\"1\" class=\"dataframe\">\n",
       "  <thead>\n",
       "    <tr style=\"text-align: right;\">\n",
       "      <th></th>\n",
       "      <th>gene</th>\n",
       "      <th>de_coef</th>\n",
       "      <th>de_se</th>\n",
       "      <th>de_pval</th>\n",
       "      <th>dv_coef</th>\n",
       "      <th>dv_se</th>\n",
       "      <th>dv_pval</th>\n",
       "      <th>de_fdr</th>\n",
       "    </tr>\n",
       "  </thead>\n",
       "  <tbody>\n",
       "  </tbody>\n",
       "</table>\n",
       "</div>"
      ],
      "text/plain": [
       "Empty DataFrame\n",
       "Columns: [gene, de_coef, de_se, de_pval, dv_coef, dv_se, dv_pval, de_fdr]\n",
       "Index: []"
      ]
     },
     "execution_count": 151,
     "metadata": {},
     "output_type": "execute_result"
    }
   ],
   "source": [
    "df.query('de_fdr < 0.1')"
   ]
  },
  {
   "cell_type": "code",
   "execution_count": 155,
   "metadata": {},
   "outputs": [
    {
     "data": {
      "text/plain": [
       "(array([807., 867., 858., 922., 899., 860., 775., 817., 801., 843.]),\n",
       " array([3.92320373e-04, 1.00353088e-01, 2.00313856e-01, 3.00274624e-01,\n",
       "        4.00235392e-01, 5.00196160e-01, 6.00156928e-01, 7.00117696e-01,\n",
       "        8.00078464e-01, 9.00039232e-01, 1.00000000e+00]),\n",
       " <BarContainer object of 10 artists>)"
      ]
     },
     "execution_count": 155,
     "metadata": {},
     "output_type": "execute_result"
    },
    {
     "data": {
      "image/png": "[encoded data removed]",
      "text/plain": [
       "<Figure size 432x288 with 1 Axes>"
      ]
     },
     "metadata": {
      "needs_background": "light"
     },
     "output_type": "display_data"
    }
   ],
   "source": [
    "plt.hist(df['dv_pval'])"
   ]
  },
  {
   "cell_type": "code",
   "execution_count": 250,
   "metadata": {},
   "outputs": [
    {
     "data": {
      "text/plain": [
       "Text(0.5, 1.0, 'Variability')"
      ]
     },
     "execution_count": 250,
     "metadata": {},
     "output_type": "execute_result"
    },
    {
     "data": {
      "image/png": "[encoded data removed]",
      "text/plain": [
       "<Figure size 720x216 with 2 Axes>"
      ]
     },
     "metadata": {
      "needs_background": "light"
     },
     "output_type": "display_data"
    }
   ],
   "source": [
    "plt.figure(figsize=(10, 3))\n",
    "plt.subplot(1, 2, 1)\n",
    "plt.plot(moment_df.query('gene in @stress_genes').iloc[:, 1:4].values.T)\n",
    "plt.xticks([0,1,2],['G1', 'S', 'G2M'])\n",
    "plt.title('Mean')\n",
    "\n",
    "plt.subplot(1, 2, 2)\n",
    "plt.plot(moment_df.query('gene in @stress_genes').iloc[:, 4:].values.T)\n",
    "plt.xticks([0,1,2],['G1', 'S', 'G2M'])\n",
    "plt.title('Variability')"
   ]
  },
  {
   "cell_type": "code",
   "execution_count": 241,
   "metadata": {},
   "outputs": [
    {
     "data": {
      "text/plain": [
       "[<matplotlib.lines.Line2D at 0x7fc90253a2b0>,\n",
       " <matplotlib.lines.Line2D at 0x7fc90253a3a0>,\n",
       " <matplotlib.lines.Line2D at 0x7fc90253a460>,\n",
       " <matplotlib.lines.Line2D at 0x7fc90253a520>,\n",
       " <matplotlib.lines.Line2D at 0x7fc90253a5e0>,\n",
       " <matplotlib.lines.Line2D at 0x7fc90253a6a0>,\n",
       " <matplotlib.lines.Line2D at 0x7fc90253a760>,\n",
       " <matplotlib.lines.Line2D at 0x7fc90253a820>,\n",
       " <matplotlib.lines.Line2D at 0x7fc90253a8e0>,\n",
       " <matplotlib.lines.Line2D at 0x7fc90253a9a0>,\n",
       " <matplotlib.lines.Line2D at 0x7fc9b01f3340>,\n",
       " <matplotlib.lines.Line2D at 0x7fc90253aaf0>]"
      ]
     },
     "execution_count": 241,
     "metadata": {},
     "output_type": "execute_result"
    },
    {
     "data": {
      "image/png": "[encoded data removed]",
      "text/plain": [
       "<Figure size 432x288 with 1 Axes>"
      ]
     },
     "metadata": {
      "needs_background": "light"
     },
     "output_type": "display_data"
    }
   ],
   "source": [
    "plt.plot(moment_df.query('gene in @stress_genes').iloc[:, 4:].values.T)"
   ]
  },
  {
   "cell_type": "code",
   "execution_count": null,
   "metadata": {},
   "outputs": [],
   "source": [
    "df['dv_pval'].hist(bins=50)"
   ]
  },
  {
   "cell_type": "code",
   "execution_count": null,
   "metadata": {},
   "outputs": [],
   "source": []
  },
  {
   "cell_type": "markdown",
   "metadata": {},
   "source": [
    "### Find self-DC genes"
   ]
  },
  {
   "cell_type": "code",
   "execution_count": null,
   "metadata": {},
   "outputs": [],
   "source": [
    "for g in ko_genes:\n",
    "    \n",
    "    subset = adata[adata.obs.WT | (adata.obs.KO_GENE == g)].copy().copy()\n",
    "    \n",
    "    memento.create_groups(subset, label_columns=['KO'])\n",
    "    memento.compute_1d_moments(subset, min_perc_group=.9)\n",
    "    \n",
    "    if g not in subset.var.index:\n",
    "        continue\n",
    "    \n",
    "    target_genes = list(set(subset.var.index)-set(ko_genes))\n",
    "#     memento.compute_2d_moments(subset, gene_pairs=list(itertools.product([g], target_genes)))\n",
    "    \n",
    "    memento.ht_1d_moments(\n",
    "        subset, \n",
    "        formula_like='1 + KO',\n",
    "        cov_column='KO', \n",
    "        num_boot=10000, \n",
    "        verbose=1,\n",
    "        num_cpus=70)\n",
    "    \n",
    "#     subset.write(data_path + '2d_self_h5ad/{}.h5ad'.format(g))\n",
    "    \n",
    "    break"
   ]
  },
  {
   "cell_type": "code",
   "execution_count": null,
   "metadata": {},
   "outputs": [],
   "source": [
    "df = memento.get_1d_ht_result(subset)"
   ]
  },
  {
   "cell_type": "code",
   "execution_count": null,
   "metadata": {},
   "outputs": [],
   "source": [
    "df = memento.get_1d_ht_result(subset)"
   ]
  },
  {
   "cell_type": "code",
   "execution_count": null,
   "metadata": {},
   "outputs": [],
   "source": [
    "df['de_pval'].hist(bins=50)"
   ]
  },
  {
   "cell_type": "code",
   "execution_count": null,
   "metadata": {},
   "outputs": [],
   "source": [
    "for g, result in result_1d_dict.items():\n",
    "    \n",
    "    result.to_csv(data_path + '/result_1d/{}.csv'.format(g), index=False)"
   ]
  },
  {
   "cell_type": "markdown",
   "metadata": {},
   "source": [
    "### Get 1D results"
   ]
  },
  {
   "cell_type": "code",
   "execution_count": null,
   "metadata": {},
   "outputs": [],
   "source": [
    "result_1d_dict = {g:pd.read_csv(data_path + '/result_1d/{}.csv'.format(g)) for g in guides if ('INTER' not in g and 'nan' not in g)}"
   ]
  },
  {
   "cell_type": "code",
   "execution_count": null,
   "metadata": {},
   "outputs": [],
   "source": [
    "g = 'p_sgGABPA_9'\n",
    "df = result_1d_dict[g]\n",
    "df.query('de_fdr < 0.1 | dv_fdr < 0.1')"
   ]
  },
  {
   "cell_type": "code",
   "execution_count": null,
   "metadata": {},
   "outputs": [],
   "source": [
    "for g in guides:\n",
    "    \n",
    "    df = result_1d_dict[g]\n",
    "    df['de_fdr'] = memento.util._fdrcorrect(df['de_pval'])\n",
    "    df['dv_fdr'] = memento.util._fdrcorrect(df['dv_pval'])\n",
    "    \n",
    "    print(g, df.query('de_fdr < 0.15').shape[0], df.query('dv_fdr < 0.15').shape[0])"
   ]
  },
  {
   "cell_type": "markdown",
   "metadata": {},
   "source": [
    "### DV shift plots"
   ]
  },
  {
   "cell_type": "code",
   "execution_count": null,
   "metadata": {},
   "outputs": [],
   "source": [
    "for g in guides:\n",
    "    df = result_1d_dict[g]\n",
    "    plt.figure()\n",
    "    sns.kdeplot(df['dv_coef']);\n",
    "    plt.plot([0, 0], [0, 2])\n",
    "    plt.title(g)\n",
    "    plt.xlim(-2, 2)\n",
    "    "
   ]
  },
  {
   "cell_type": "markdown",
   "metadata": {},
   "source": [
    "### within WT"
   ]
  },
  {
   "cell_type": "code",
   "execution_count": null,
   "metadata": {},
   "outputs": [],
   "source": [
    "adata[adata.obs.WT].obs.guides.value_counts()"
   ]
  },
  {
   "cell_type": "code",
   "execution_count": null,
   "metadata": {},
   "outputs": [],
   "source": [
    "subset = adata[(adata.obs.guides=='p_INTERGENIC393453') | (adata.obs.guides=='p_INTERGENIC216151') ].copy().copy()\n",
    "\n",
    "memento.create_groups(subset, label_columns=['guides'])\n",
    "memento.compute_1d_moments(subset, min_perc_group=.9)\n",
    "\n",
    "memento.ht_1d_moments(\n",
    "    subset, \n",
    "    formula_like='1 + guides',\n",
    "    cov_column='guides', \n",
    "    num_boot=10000, \n",
    "    verbose=1,\n",
    "    num_cpus=14)\n",
    "\n",
    "wt_result = memento.get_1d_ht_result(subset)"
   ]
  },
  {
   "cell_type": "code",
   "execution_count": null,
   "metadata": {},
   "outputs": [],
   "source": [
    "sns.kdeplot(wt_result.dv_coef)\n",
    "plt.title('WT')\n",
    "plt.plot([0, 0], [0, 2])"
   ]
  },
  {
   "cell_type": "code",
   "execution_count": null,
   "metadata": {},
   "outputs": [],
   "source": []
  },
  {
   "cell_type": "markdown",
   "metadata": {},
   "source": [
    "### Get the change in magnitude for each guide"
   ]
  },
  {
   "cell_type": "code",
   "execution_count": null,
   "metadata": {},
   "outputs": [],
   "source": []
  },
  {
   "cell_type": "code",
   "execution_count": null,
   "metadata": {},
   "outputs": [],
   "source": [
    "coef_mag = []\n",
    "for g, df in result_1d_dict.items():\n",
    "    coef_mag.append((g, df['de_coef'].abs().median()))\n",
    "coef_mag = pd.DataFrame(coef_mag, columns=['guide', 'de_mag'])\n",
    "coef_mag['gene'] = coef_mag['guide'].str.split('_').str[1].str[2:]"
   ]
  },
  {
   "cell_type": "markdown",
   "metadata": {},
   "source": [
    "### Get WT variability of each TF"
   ]
  },
  {
   "cell_type": "code",
   "execution_count": null,
   "metadata": {},
   "outputs": [],
   "source": [
    "wt_adata = adata[adata.obs['WT']].copy().copy()"
   ]
  },
  {
   "cell_type": "code",
   "execution_count": null,
   "metadata": {},
   "outputs": [],
   "source": [
    "tfs = adata.obs.query('KO==1').KO_GENE.drop_duplicates().tolist()"
   ]
  },
  {
   "cell_type": "code",
   "execution_count": null,
   "metadata": {},
   "outputs": [],
   "source": [
    "memento.create_groups(wt_adata, label_columns=['KO'])\n",
    "memento.compute_1d_moments(wt_adata, min_perc_group=.9,)"
   ]
  },
  {
   "cell_type": "code",
   "execution_count": null,
   "metadata": {},
   "outputs": [],
   "source": [
    "tf_moments = memento.get_1d_moments(wt_adata, groupby='KO')"
   ]
  },
  {
   "cell_type": "markdown",
   "metadata": {},
   "source": [
    "### Compare WT variability to De mag"
   ]
  },
  {
   "cell_type": "code",
   "execution_count": null,
   "metadata": {},
   "outputs": [],
   "source": [
    "merged = coef_mag.merge(tf_moments[1], on='gene')"
   ]
  },
  {
   "cell_type": "code",
   "execution_count": null,
   "metadata": {},
   "outputs": [],
   "source": [
    "stats.spearmanr(merged['de_mag'], merged['KO_0'])"
   ]
  },
  {
   "cell_type": "code",
   "execution_count": null,
   "metadata": {},
   "outputs": [],
   "source": [
    "plt.scatter(merged['de_mag'], merged['KO_0'])"
   ]
  },
  {
   "cell_type": "markdown",
   "metadata": {},
   "source": [
    "### Number of TF binding sites within 5k(?) KB\n"
   ]
  },
  {
   "cell_type": "code",
   "execution_count": null,
   "metadata": {},
   "outputs": [],
   "source": [
    "enc = encode.Encode('/home/ssm-user/Github/misc-seq/miscseq/GRCh38Genes.bed')"
   ]
  },
  {
   "cell_type": "code",
   "execution_count": null,
   "metadata": {},
   "outputs": [],
   "source": [
    "encode_links = {\n",
    "    'ELK1':'https://www.encodeproject.org/files/ENCFF119SCQ/@@download/ENCFF119SCQ.bed.gz',\n",
    "    'ELF1':'https://www.encodeproject.org/files/ENCFF133TSU/@@download/ENCFF133TSU.bed.gz',\n",
    "    'IRF1':'https://www.encodeproject.org/files/ENCFF203LRV/@@download/ENCFF203LRV.bed.gz',\n",
    "    'ETS1':'https://www.encodeproject.org/files/ENCFF461PRP/@@download/ENCFF461PRP.bed.gz',\n",
    "    'EGR1':'https://www.encodeproject.org/files/ENCFF375RDB/@@download/ENCFF375RDB.bed.gz',\n",
    "    'YY1':'https://www.encodeproject.org/files/ENCFF635XCI/@@download/ENCFF635XCI.bed.gz',\n",
    "    'GABPA':'https://www.encodeproject.org/files/ENCFF173GUD/@@download/ENCFF173GUD.bed.gz',\n",
    "    'E2F4':'https://www.encodeproject.org/files/ENCFF225TLP/@@download/ENCFF225TLP.bed.gz',\n",
    "    'NR2C2':'https://www.encodeproject.org/files/ENCFF263VIC/@@download/ENCFF263VIC.bed.gz',\n",
    "    'CREB1':'https://www.encodeproject.org/files/ENCFF193LLN/@@download/ENCFF193LLN.bed.gz'\n",
    "}"
   ]
  },
  {
   "cell_type": "code",
   "execution_count": null,
   "metadata": {},
   "outputs": [],
   "source": [
    "bed_objs = {tf:enc.get_encode_peaks(link) for tf,link in encode_links.items()}"
   ]
  },
  {
   "cell_type": "code",
   "execution_count": null,
   "metadata": {},
   "outputs": [],
   "source": [
    "target_genes = {tf:enc.get_peak_genes_bed(bed_obj, 0).query('distance==0').gene.tolist() for tf, bed_obj in bed_objs.items()}"
   ]
  },
  {
   "cell_type": "code",
   "execution_count": null,
   "metadata": {},
   "outputs": [],
   "source": [
    "x = wt_adata[:, 'EGR1'].X.todense().A1"
   ]
  },
  {
   "cell_type": "code",
   "execution_count": null,
   "metadata": {},
   "outputs": [],
   "source": [
    "np.bincount(x.astype(int))"
   ]
  },
  {
   "cell_type": "code",
   "execution_count": null,
   "metadata": {},
   "outputs": [],
   "source": [
    "x.mean()"
   ]
  },
  {
   "cell_type": "code",
   "execution_count": null,
   "metadata": {},
   "outputs": [],
   "source": [
    "plt.hist(x, bins=20)"
   ]
  },
  {
   "cell_type": "code",
   "execution_count": null,
   "metadata": {},
   "outputs": [],
   "source": [
    "target_numbers = []\n",
    "for tf in encode_links.keys():\n",
    "    target_numbers.append((tf, len(target_genes[tf])))\n",
    "target_numbers = pd.DataFrame(target_numbers, columns=['gene', 'num_targets'])"
   ]
  },
  {
   "cell_type": "code",
   "execution_count": null,
   "metadata": {},
   "outputs": [],
   "source": [
    "merged = target_numbers.merge(tf_moments[1], on='gene')"
   ]
  },
  {
   "cell_type": "code",
   "execution_count": null,
   "metadata": {},
   "outputs": [],
   "source": [
    "stats.pearsonr(merged.query('gene != \"EGR1\"')['num_targets'], merged.query('gene != \"EGR1\"')['KO_0'])"
   ]
  },
  {
   "cell_type": "code",
   "execution_count": null,
   "metadata": {},
   "outputs": [],
   "source": [
    "plt.scatter(merged['num_targets'], merged['KO_0'])"
   ]
  },
  {
   "cell_type": "markdown",
   "metadata": {},
   "source": [
    "### Try with all ENCODE"
   ]
  },
  {
   "cell_type": "code",
   "execution_count": null,
   "metadata": {},
   "outputs": [],
   "source": [
    "merged"
   ]
  },
  {
   "cell_type": "code",
   "execution_count": null,
   "metadata": {},
   "outputs": [],
   "source": [
    "all_encode = pd.read_csv('gene_attribute_matrix.txt', sep='\\t', index_col=0, low_memory=False).iloc[2:, 2:].astype(float)"
   ]
  },
  {
   "cell_type": "code",
   "execution_count": null,
   "metadata": {},
   "outputs": [],
   "source": [
    "target_counts = pd.DataFrame(all_encode.sum(axis=0), columns=['num_targets']).reset_index().rename(columns={'index':'gene'})"
   ]
  },
  {
   "cell_type": "code",
   "execution_count": null,
   "metadata": {},
   "outputs": [],
   "source": [
    "x = target_counts.query('gene in @tfs').sort_values('gene')['num_targets']\n",
    "y = merged.sort_values('gene')['num_targets']"
   ]
  },
  {
   "cell_type": "code",
   "execution_count": null,
   "metadata": {},
   "outputs": [],
   "source": [
    "merged2 = target_counts.merge(tf_moments[1], on='gene')"
   ]
  },
  {
   "cell_type": "code",
   "execution_count": null,
   "metadata": {},
   "outputs": [],
   "source": [
    "plt.scatter(merged2['num_targets'], merged2['KO_0'])"
   ]
  },
  {
   "cell_type": "code",
   "execution_count": null,
   "metadata": {},
   "outputs": [],
   "source": [
    "merged2"
   ]
  },
  {
   "cell_type": "markdown",
   "metadata": {},
   "source": [
    "### Get gene list"
   ]
  },
  {
   "cell_type": "code",
   "execution_count": null,
   "metadata": {},
   "outputs": [],
   "source": [
    "wt_adata = adata[adata.obs['WT']].copy().copy()"
   ]
  },
  {
   "cell_type": "code",
   "execution_count": null,
   "metadata": {},
   "outputs": [],
   "source": [
    "memento.create_groups(wt_adata, label_columns=['KO'])\n",
    "memento.compute_1d_moments(wt_adata, min_perc_group=.9)"
   ]
  },
  {
   "cell_type": "code",
   "execution_count": null,
   "metadata": {},
   "outputs": [],
   "source": [
    "plt.hist(np.log(wt_adata.uns['memento']['1d_moments']['sg^0'][0]))"
   ]
  },
  {
   "cell_type": "code",
   "execution_count": null,
   "metadata": {},
   "outputs": [],
   "source": [
    "wt_high_genes = wt_adata.var.index[np.log(wt_adata.uns['memento']['1d_moments']['sg^0'][0]) > -1].tolist()"
   ]
  },
  {
   "cell_type": "code",
   "execution_count": null,
   "metadata": {},
   "outputs": [],
   "source": []
  },
  {
   "cell_type": "markdown",
   "metadata": {},
   "source": [
    "### Create labels for X genes"
   ]
  },
  {
   "cell_type": "code",
   "execution_count": null,
   "metadata": {},
   "outputs": [],
   "source": [
    "chr_locations = pd.read_csv('chr_locations.bed', sep='\\t').rename(columns={'#chrom':'chr'}).drop_duplicates('geneName')"
   ]
  },
  {
   "cell_type": "code",
   "execution_count": null,
   "metadata": {},
   "outputs": [],
   "source": [
    "chr_locations.index=chr_locations.geneName"
   ]
  },
  {
   "cell_type": "code",
   "execution_count": null,
   "metadata": {},
   "outputs": [],
   "source": [
    "adata.var = adata.var.join(chr_locations, how='left')"
   ]
  },
  {
   "cell_type": "markdown",
   "metadata": {},
   "source": [
    "### Filter X-chromosomal genes"
   ]
  },
  {
   "cell_type": "code",
   "execution_count": null,
   "metadata": {},
   "outputs": [],
   "source": [
    "adata_X = adata[:, (adata.var.chr=='chrX') | adata.var.chr.isin(['chr1', 'chr2', 'chr3'])].copy()"
   ]
  },
  {
   "cell_type": "code",
   "execution_count": null,
   "metadata": {},
   "outputs": [],
   "source": [
    "adata_X"
   ]
  },
  {
   "cell_type": "markdown",
   "metadata": {},
   "source": [
    "### Escape genes"
   ]
  },
  {
   "cell_type": "code",
   "execution_count": null,
   "metadata": {},
   "outputs": [],
   "source": [
    "par_genes = \"\"\"PLCXD1 GTPBP6 PPP2R3B SHOX CRLF2 CSF2RA IL3RA SLC25A6 ASMTL P2RY8 ASMT DHRSXY ZBED1 CD99 XG IL9R SPRY3 VAMP7\"\"\".split()"
   ]
  },
  {
   "cell_type": "code",
   "execution_count": null,
   "metadata": {},
   "outputs": [],
   "source": [
    "escape_genes = \"\"\"EIF1AX\n",
    "USP9X\n",
    "EIF2S3\n",
    "CTPS2\n",
    "TRAPPC2\n",
    "HDHD1\n",
    "ZFX\n",
    "DDX3X\n",
    "RAB9A\n",
    "AP1S2\n",
    "GEMIN8\n",
    "RPS4X\n",
    "SMC1A\n",
    "ZRSR2\n",
    "STS\n",
    "FUNDC1\n",
    "PNPLA4\n",
    "UBA1\n",
    "ARSD\n",
    "NLGN4X\n",
    "GPM6B\n",
    "MED14\n",
    "CD99\n",
    "RBBP7\n",
    "SYAP1\n",
    "PRKX\n",
    "OFD1\n",
    "CXorf38\n",
    "TXLNG\n",
    "KDM5C\n",
    "GYG2\n",
    "TBL1X\n",
    "CA5B\n",
    "XIST\n",
    "RENBP\n",
    "HCFC1\n",
    "USP11\n",
    "PLCXD1\n",
    "SLC25A6\n",
    "ASMTL\n",
    "DHRSX\n",
    "XG\n",
    "TMEM27\n",
    "ARHGAP4\n",
    "GAB3\n",
    "PIR\n",
    "TMEM187\n",
    "DOCK11\n",
    "EFHC2\n",
    "RIBC1\n",
    "NAP1L3\n",
    "CA5BP1\n",
    "MXRA5\n",
    "KAL1\n",
    "PCDH11X\n",
    "KDM6A\n",
    "PLS3\n",
    "CITED1\n",
    "L1CAM\n",
    "ALG13\n",
    "BCOR\"\"\".split()"
   ]
  },
  {
   "cell_type": "markdown",
   "metadata": {},
   "source": [
    "### Run 1d memento"
   ]
  },
  {
   "cell_type": "code",
   "execution_count": null,
   "metadata": {},
   "outputs": [],
   "source": [
    "adata_X.obs['is_female'] = (adata_X.obs['Sex'] == 'Female').astype(int)"
   ]
  },
  {
   "cell_type": "code",
   "execution_count": null,
   "metadata": {},
   "outputs": [],
   "source": [
    "adata_X.obs.is_female.value_counts()"
   ]
  },
  {
   "cell_type": "code",
   "execution_count": null,
   "metadata": {},
   "outputs": [],
   "source": [
    "memento.create_groups(adata_X, label_columns=['is_female', 'ind_cov'])\n",
    "memento.compute_1d_moments(adata_X, min_perc_group=.9)"
   ]
  },
  {
   "cell_type": "code",
   "execution_count": null,
   "metadata": {},
   "outputs": [],
   "source": [
    "memento.ht_1d_moments(\n",
    "    adata_X, \n",
    "    formula_like='1 + is_female',\n",
    "    cov_column='is_female', \n",
    "    num_boot=20000, \n",
    "    verbose=1,\n",
    "    num_cpus=13)"
   ]
  },
  {
   "cell_type": "code",
   "execution_count": null,
   "metadata": {},
   "outputs": [],
   "source": [
    "result_1d = memento.get_1d_ht_result(adata_X)"
   ]
  },
  {
   "cell_type": "code",
   "execution_count": null,
   "metadata": {},
   "outputs": [],
   "source": [
    "result_1d['dv_fdr'] = memento.util._fdrcorrect(result_1d['dv_pval'])"
   ]
  },
  {
   "cell_type": "code",
   "execution_count": null,
   "metadata": {},
   "outputs": [],
   "source": [
    "sns.distplot(result_1d.dv_coef)"
   ]
  },
  {
   "cell_type": "code",
   "execution_count": null,
   "metadata": {},
   "outputs": [],
   "source": [
    "x_chr_genes = adata.var.index[adata.var.chr=='chrX'].tolist()"
   ]
  },
  {
   "cell_type": "code",
   "execution_count": null,
   "metadata": {},
   "outputs": [],
   "source": [
    "result_1d['escape'] = result_1d['gene'].isin(escape_genes)\n",
    "result_1d['par'] = result_1d['gene'].isin(par_genes)\n",
    "result_1d['x_chr'] = result_1d['gene'].isin(x_chr_genes)"
   ]
  },
  {
   "cell_type": "code",
   "execution_count": null,
   "metadata": {},
   "outputs": [],
   "source": [
    "sns.distplot(result_1d.query('~x_chr').dv_coef)\n",
    "sns.distplot(result_1d.query('x_chr').dv_coef)\n"
   ]
  },
  {
   "cell_type": "code",
   "execution_count": null,
   "metadata": {},
   "outputs": [],
   "source": [
    "sns.boxplot(x='x_chr', y='dv_coef', data=result_1d)"
   ]
  },
  {
   "cell_type": "code",
   "execution_count": null,
   "metadata": {},
   "outputs": [],
   "source": [
    "dv_genes = result_1d.query('dv_fdr < 0.1').gene.tolist()"
   ]
  },
  {
   "cell_type": "code",
   "execution_count": null,
   "metadata": {},
   "outputs": [],
   "source": [
    "result_1d['dv'] = result_1d.gene.isin(dv_genes)"
   ]
  },
  {
   "cell_type": "code",
   "execution_count": null,
   "metadata": {},
   "outputs": [],
   "source": [
    "result_1d.query('~dv & ~x_chr & dv_coef > 0').shape"
   ]
  },
  {
   "cell_type": "code",
   "execution_count": null,
   "metadata": {},
   "outputs": [],
   "source": [
    "a = [[193, 14],\n",
    " [23,5]]"
   ]
  },
  {
   "cell_type": "code",
   "execution_count": null,
   "metadata": {},
   "outputs": [],
   "source": [
    "stats.chi2_contingency(a)"
   ]
  },
  {
   "cell_type": "code",
   "execution_count": null,
   "metadata": {},
   "outputs": [],
   "source": [
    "result_1d.query('dv_fdr < 0.1').x_chr.mean()"
   ]
  },
  {
   "cell_type": "code",
   "execution_count": null,
   "metadata": {},
   "outputs": [],
   "source": [
    "result_1d.x_chr.mean()"
   ]
  },
  {
   "cell_type": "markdown",
   "metadata": {},
   "source": [
    "### Run memento for each subset, comparing to control"
   ]
  },
  {
   "cell_type": "code",
   "execution_count": null,
   "metadata": {},
   "outputs": [],
   "source": [
    "cts = [['ciliated'], ['bc','basal']]\n",
    "# tps = ['3', '6', '9', '24', '48']\n",
    "tps = ['3', '6', '9', '24', '48']\n",
    "\n",
    "stims = ['alpha', 'beta', 'gamma', 'lambda']"
   ]
  },
  {
   "cell_type": "code",
   "execution_count": null,
   "metadata": {},
   "outputs": [],
   "source": [
    "import os\n",
    "done_files = os.listdir('/data_volume/ifn_hbec/binary_test_deep/')"
   ]
  },
  {
   "cell_type": "code",
   "execution_count": null,
   "metadata": {},
   "outputs": [],
   "source": [
    "for ct in cts:\n",
    "    for tp in tps:\n",
    "        for stim in stims:\n",
    "            \n",
    "            fname = '{}_{}_{}_20200320.h5ad'.format('-'.join(ct), stim, tp)\n",
    "            \n",
    "            if fname in done_files:\n",
    "                print('Skipping', fname)\n",
    "                continue\n",
    "\n",
    "            print('starting', ct, tp, stim)\n",
    "\n",
    "            adata_stim = adata.copy()[\n",
    "                adata.obs.cell_type.isin(ct) & \\\n",
    "                adata.obs.stim.isin(['control', stim]) & \\\n",
    "                adata.obs.time.isin(['0',tp]), :].copy()\n",
    "            time_converter={0:0, int(tp):1}\n",
    "            adata_stim.obs['time_step'] = adata_stim.obs['time'].astype(int).apply(lambda x: time_converter[x])\n",
    "\n",
    "            memento.create_groups(adata_stim, label_columns=['time_step', 'donor'])\n",
    "            memento.compute_1d_moments(adata_stim, min_perc_group=.9)\n",
    "\n",
    "            memento.ht_1d_moments(\n",
    "                adata_stim, \n",
    "                formula_like='1 + time_step',\n",
    "                cov_column='time_step', \n",
    "                num_boot=10000, \n",
    "                verbose=1,\n",
    "                num_cpus=13)\n",
    "\n",
    "            del adata_stim.uns['memento']['mv_regressor']\n",
    "\n",
    "            adata_stim.write('/data_volume/ifn_hbec/binary_test_deep/{}_{}_{}_20200320.h5ad'.format(\n",
    "                '-'.join(ct), stim, tp))"
   ]
  },
  {
   "cell_type": "code",
   "execution_count": null,
   "metadata": {},
   "outputs": [],
   "source": []
  }
 ],
 "metadata": {
  "kernelspec": {
   "display_name": "Python 3",
   "language": "python",
   "name": "python3"
  },
  "language_info": {
   "codemirror_mode": {
    "name": "ipython",
    "version": 3
   },
   "file_extension": ".py",
   "mimetype": "text/x-python",
   "name": "python",
   "nbconvert_exporter": "python",
   "pygments_lexer": "ipython3",
   "version": "3.8.8"
  }
 },
 "nbformat": 4,
 "nbformat_minor": 4
}
