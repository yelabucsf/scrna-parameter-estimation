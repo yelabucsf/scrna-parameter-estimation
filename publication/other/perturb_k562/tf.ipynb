{
 "cells": [
  {
   "cell_type": "markdown",
   "metadata": {},
   "source": [
    "# Perturb-seq K562 co-expression"
   ]
  },
  {
   "cell_type": "code",
   "execution_count": 1,
   "metadata": {},
   "outputs": [],
   "source": [
    "import scanpy as sc\n",
    "import seaborn as sns\n",
    "import pandas as pd\n",
    "import matplotlib.pyplot as plt\n",
    "import numpy as np\n",
    "import scipy.stats as stats\n",
    "import itertools\n",
    "from pybedtools import BedTool\n",
    "import pickle as pkl\n",
    "import gseapy as gp\n",
    "from gseapy.plot import gseaplot\n",
    "\n",
    "%matplotlib inline"
   ]
  },
  {
   "cell_type": "code",
   "execution_count": 2,
   "metadata": {},
   "outputs": [],
   "source": [
    "pd.set_option('max_columns', None)"
   ]
  },
  {
   "cell_type": "code",
   "execution_count": 3,
   "metadata": {},
   "outputs": [],
   "source": [
    "import sys\n",
    "sys.path.append('/home/ssm-user/Github/scrna-parameter-estimation/dist/memento-0.0.6-py3.8.egg')\n",
    "sys.path.append('/home/ssm-user/Github/misc-seq/miscseq/')\n",
    "import encode\n",
    "import memento"
   ]
  },
  {
   "cell_type": "code",
   "execution_count": 4,
   "metadata": {},
   "outputs": [],
   "source": [
    "data_path = '/data_volume/memento/k562/'"
   ]
  },
  {
   "cell_type": "markdown",
   "metadata": {},
   "source": [
    "### Read the guide labled K562 data\n",
    "\n",
    "From perturbseq paper"
   ]
  },
  {
   "cell_type": "code",
   "execution_count": 5,
   "metadata": {},
   "outputs": [],
   "source": [
    "adata = sc.read(data_path + 'h5ad/filtered-tf-perturbseq.h5ad')"
   ]
  },
  {
   "cell_type": "code",
   "execution_count": 6,
   "metadata": {},
   "outputs": [],
   "source": [
    "guides = adata.obs.guides.drop_duplicates().tolist()\n",
    "guides = [g for g in guides if ('INTER' not in g and 'nan' not in g)]\n",
    "ko_genes = adata.obs.query('KO == 1')['KO_GENE'].drop_duplicates().tolist()"
   ]
  },
  {
   "cell_type": "markdown",
   "metadata": {},
   "source": [
    "### Setup memento"
   ]
  },
  {
   "cell_type": "code",
   "execution_count": 7,
   "metadata": {},
   "outputs": [],
   "source": [
    "adata.obs['q'] = 0.07"
   ]
  },
  {
   "cell_type": "code",
   "execution_count": 8,
   "metadata": {},
   "outputs": [
    {
     "name": "stdout",
     "output_type": "stream",
     "text": [
      "Version 0.0.6\n"
     ]
    },
    {
     "name": "stderr",
     "output_type": "stream",
     "text": [
      "/home/ssm-user/Github/scrna-parameter-estimation/dist/memento-0.0.6-py3.8.egg/memento/main.py:70: RankWarning: Polyfit may be poorly conditioned\n"
     ]
    }
   ],
   "source": [
    "memento.setup_memento(adata, q_column='q', filter_mean_thresh=0.15)"
   ]
  },
  {
   "cell_type": "markdown",
   "metadata": {},
   "source": [
    "### Do a 1D test to find highly variable genes"
   ]
  },
  {
   "cell_type": "code",
   "execution_count": 12,
   "metadata": {},
   "outputs": [
    {
     "name": "stderr",
     "output_type": "stream",
     "text": [
      "/home/ssm-user/anaconda3/envs/single_cell/lib/python3.8/site-packages/pandas/core/arrays/categorical.py:2487: FutureWarning: The `inplace` parameter in pandas.Categorical.remove_unused_categories is deprecated and will be removed in a future version.\n",
      "  res = method(*args, **kwargs)\n",
      "[Parallel(n_jobs=70)]: Using backend LokyBackend with 70 concurrent workers.\n",
      "[Parallel(n_jobs=70)]: Done  60 tasks      | elapsed:    3.6s\n",
      "[Parallel(n_jobs=70)]: Done 310 tasks      | elapsed:    5.5s\n",
      "[Parallel(n_jobs=70)]: Done 660 tasks      | elapsed:    8.0s\n",
      "[Parallel(n_jobs=70)]: Done 1110 tasks      | elapsed:   11.0s\n",
      "[Parallel(n_jobs=70)]: Done 1660 tasks      | elapsed:   14.8s\n",
      "[Parallel(n_jobs=70)]: Done 2310 tasks      | elapsed:   19.2s\n",
      "[Parallel(n_jobs=70)]: Done 3060 tasks      | elapsed:   24.8s\n",
      "[Parallel(n_jobs=70)]: Done 3910 tasks      | elapsed:   30.7s\n",
      "[Parallel(n_jobs=70)]: Done 4860 tasks      | elapsed:   37.6s\n",
      "[Parallel(n_jobs=70)]: Done 5910 tasks      | elapsed:   44.5s\n",
      "[Parallel(n_jobs=70)]: Done 7060 tasks      | elapsed:   52.5s\n",
      "[Parallel(n_jobs=70)]: Done 7526 out of 7526 | elapsed:   58.2s finished\n"
     ]
    }
   ],
   "source": [
    "wt_subset = adata[adata.obs.WT].copy().copy()\n",
    "wt_subset.obs['group'] = 1\n",
    "memento.create_groups(wt_subset, label_columns=['group'])\n",
    "memento.compute_1d_moments(wt_subset, min_perc_group=.9)\n",
    "memento.ht_1d_moments(\n",
    "    wt_subset, \n",
    "    formula_like='1',\n",
    "    treatment_col='Inter', \n",
    "    num_boot=10000, \n",
    "    verbose=1,\n",
    "    num_cpus=70,\n",
    "    resampling='permutation',\n",
    "    approx=False)"
   ]
  },
  {
   "cell_type": "raw",
   "metadata": {},
   "source": [
    "wt_subset.write(data_path + 'wt_1d.h5ad')"
   ]
  },
  {
   "cell_type": "code",
   "execution_count": 13,
   "metadata": {},
   "outputs": [],
   "source": [
    "wt_subset = sc.read(data_path + 'wt_1d.h5ad')"
   ]
  },
  {
   "cell_type": "code",
   "execution_count": 14,
   "metadata": {},
   "outputs": [],
   "source": [
    "df = memento.get_1d_ht_result(wt_subset).query('~gene.str.startswith(\"MT-\")', engine='python')"
   ]
  },
  {
   "cell_type": "code",
   "execution_count": 15,
   "metadata": {},
   "outputs": [],
   "source": [
    "df['dv_fdr'] = memento.util._fdrcorrect(df['dv_pval'])"
   ]
  },
  {
   "cell_type": "code",
   "execution_count": 16,
   "metadata": {},
   "outputs": [],
   "source": [
    "hvg = df.query('dv_fdr < 0.1 & dv_coef > 0').gene.tolist()"
   ]
  },
  {
   "cell_type": "code",
   "execution_count": 17,
   "metadata": {},
   "outputs": [
    {
     "data": {
      "text/plain": [
       "Text(0, 0.5, 'Variability')"
      ]
     },
     "execution_count": 17,
     "metadata": {},
     "output_type": "execute_result"
    },
    {
     "data": {
      "image/png": "[encoded data removed]",
      "text/plain": [
       "<Figure size 432x288 with 1 Axes>"
      ]
     },
     "metadata": {
      "needs_background": "light"
     },
     "output_type": "display_data"
    }
   ],
   "source": [
    "plt.scatter(df['de_coef'], df['dv_coef'], s=1); plt.xlabel('Mean'); plt.ylabel('Variability')"
   ]
  },
  {
   "cell_type": "markdown",
   "metadata": {},
   "source": [
    "### GSEA for WT"
   ]
  },
  {
   "cell_type": "code",
   "execution_count": 18,
   "metadata": {},
   "outputs": [],
   "source": [
    "import gseapy as gp\n",
    "from gseapy.plot import gseaplot\n"
   ]
  },
  {
   "cell_type": "code",
   "execution_count": 19,
   "metadata": {},
   "outputs": [],
   "source": [
    "pre_res = gp.prerank(\n",
    "    rnk=df[['gene','dv_coef']].sort_values('dv_coef'), \n",
    "    gene_sets='GO_Biological_Process_2018',\n",
    "    processes=14,\n",
    "    permutation_num=100, # reduce number to speed up testing\n",
    "    outdir=None, seed=6)"
   ]
  },
  {
   "cell_type": "code",
   "execution_count": 20,
   "metadata": {},
   "outputs": [],
   "source": [
    "terms = pre_res.res2d.index\n"
   ]
  },
  {
   "cell_type": "code",
   "execution_count": 21,
   "metadata": {},
   "outputs": [],
   "source": [
    "gsea_table = pre_res.res2d.sort_index().sort_values('fdr')\n"
   ]
  },
  {
   "cell_type": "code",
   "execution_count": 22,
   "metadata": {},
   "outputs": [
    {
     "data": {
      "text/html": [
       "<div>\n",
       "<style scoped>\n",
       "    .dataframe tbody tr th:only-of-type {\n",
       "        vertical-align: middle;\n",
       "    }\n",
       "\n",
       "    .dataframe tbody tr th {\n",
       "        vertical-align: top;\n",
       "    }\n",
       "\n",
       "    .dataframe thead th {\n",
       "        text-align: right;\n",
       "    }\n",
       "</style>\n",
       "<table border=\"1\" class=\"dataframe\">\n",
       "  <thead>\n",
       "    <tr style=\"text-align: right;\">\n",
       "      <th></th>\n",
       "      <th>es</th>\n",
       "      <th>nes</th>\n",
       "      <th>pval</th>\n",
       "      <th>fdr</th>\n",
       "      <th>geneset_size</th>\n",
       "      <th>matched_size</th>\n",
       "      <th>genes</th>\n",
       "      <th>ledge_genes</th>\n",
       "    </tr>\n",
       "    <tr>\n",
       "      <th>Term</th>\n",
       "      <th></th>\n",
       "      <th></th>\n",
       "      <th></th>\n",
       "      <th></th>\n",
       "      <th></th>\n",
       "      <th></th>\n",
       "      <th></th>\n",
       "      <th></th>\n",
       "    </tr>\n",
       "  </thead>\n",
       "  <tbody>\n",
       "    <tr>\n",
       "      <th>regulation of immune response (GO:0050776)</th>\n",
       "      <td>0.730837</td>\n",
       "      <td>2.088488</td>\n",
       "      <td>0.0</td>\n",
       "      <td>0.009694</td>\n",
       "      <td>252</td>\n",
       "      <td>28</td>\n",
       "      <td>TYROBP;IFITM1;CD3D;B2M;CD33;HLA-E;ICAM2;NCR3LG...</td>\n",
       "      <td>TYROBP;IFITM1;CD3D;B2M;CD33</td>\n",
       "    </tr>\n",
       "    <tr>\n",
       "      <th>cellular response to hormone stimulus (GO:0032870)</th>\n",
       "      <td>0.770491</td>\n",
       "      <td>2.201558</td>\n",
       "      <td>0.0</td>\n",
       "      <td>0.009694</td>\n",
       "      <td>81</td>\n",
       "      <td>28</td>\n",
       "      <td>JUN;TFPI;SOCS2;AKR1C1;MEF2C;CTSL;ZFP36L1;LMO2;...</td>\n",
       "      <td>JUN;TFPI;SOCS2;AKR1C1;MEF2C;CTSL;ZFP36L1;LMO2;...</td>\n",
       "    </tr>\n",
       "    <tr>\n",
       "      <th>response to unfolded protein (GO:0006986)</th>\n",
       "      <td>0.722181</td>\n",
       "      <td>2.096073</td>\n",
       "      <td>0.0</td>\n",
       "      <td>0.012926</td>\n",
       "      <td>44</td>\n",
       "      <td>29</td>\n",
       "      <td>HSPA1A;HSPA5;DNAJB4;HSPA8;DNAJB1;HERPUD1;HSP90...</td>\n",
       "      <td>HSPA1A;HSPA5;DNAJB4;HSPA8;DNAJB1;HERPUD1;HSP90...</td>\n",
       "    </tr>\n",
       "    <tr>\n",
       "      <th>defense response to bacterium (GO:0042742)</th>\n",
       "      <td>0.764943</td>\n",
       "      <td>2.132035</td>\n",
       "      <td>0.0</td>\n",
       "      <td>0.014541</td>\n",
       "      <td>242</td>\n",
       "      <td>27</td>\n",
       "      <td>LYZ;PYCARD;RPL39;HIST1H2BJ;HIST1H2BK;HMGB2;HIS...</td>\n",
       "      <td>LYZ;PYCARD;RPL39;HIST1H2BJ;HIST1H2BK;HMGB2;HIS...</td>\n",
       "    </tr>\n",
       "    <tr>\n",
       "      <th>lymphocyte differentiation (GO:0030098)</th>\n",
       "      <td>0.743540</td>\n",
       "      <td>1.997293</td>\n",
       "      <td>0.0</td>\n",
       "      <td>0.022158</td>\n",
       "      <td>74</td>\n",
       "      <td>18</td>\n",
       "      <td>CD3D;KLF6;PTPRC;DNAJB9;HHEX;RHOH;LYL1;CHD7;JAG...</td>\n",
       "      <td>CD3D;KLF6;PTPRC;DNAJB9;HHEX;RHOH</td>\n",
       "    </tr>\n",
       "    <tr>\n",
       "      <th>regulation of DNA binding (GO:0051101)</th>\n",
       "      <td>0.725346</td>\n",
       "      <td>2.003885</td>\n",
       "      <td>0.0</td>\n",
       "      <td>0.024235</td>\n",
       "      <td>53</td>\n",
       "      <td>35</td>\n",
       "      <td>ID3;ID1;IGF1;JUN;HJURP;HMGB2;IFI16;HES1;PLAUR;...</td>\n",
       "      <td>ID3;ID1;IGF1;JUN;HJURP;HMGB2;IFI16;HES1;PLAUR</td>\n",
       "    </tr>\n",
       "    <tr>\n",
       "      <th>chaperone mediated protein folding requiring cofactor (GO:0051085)</th>\n",
       "      <td>0.746605</td>\n",
       "      <td>2.008710</td>\n",
       "      <td>0.0</td>\n",
       "      <td>0.027144</td>\n",
       "      <td>25</td>\n",
       "      <td>18</td>\n",
       "      <td>HSPA1A;HSPA5;HSPA8;DNAJB1;HSPH1;HSPA4L;GAK;PTG...</td>\n",
       "      <td>HSPA1A;HSPA5;HSPA8;DNAJB1;HSPH1</td>\n",
       "    </tr>\n",
       "    <tr>\n",
       "      <th>negative regulation of apoptotic process (GO:0043066)</th>\n",
       "      <td>0.528204</td>\n",
       "      <td>1.949702</td>\n",
       "      <td>0.0</td>\n",
       "      <td>0.056953</td>\n",
       "      <td>486</td>\n",
       "      <td>219</td>\n",
       "      <td>DHRS2;HSPA1A;APOE;HSPA5;IGF1;HSP90B1;SQSTM1;AR...</td>\n",
       "      <td>DHRS2;HSPA1A;APOE;HSPA5;IGF1;HSP90B1;SQSTM1;AR...</td>\n",
       "    </tr>\n",
       "    <tr>\n",
       "      <th>regulation of cell cycle (GO:0051726)</th>\n",
       "      <td>0.552149</td>\n",
       "      <td>1.925963</td>\n",
       "      <td>0.0</td>\n",
       "      <td>0.058165</td>\n",
       "      <td>216</td>\n",
       "      <td>124</td>\n",
       "      <td>ID3;ID1;CCNB1;CDK1;JUN;CENPF;CKS2;PLK1;CCND1;C...</td>\n",
       "      <td>ID3;ID1;CCNB1;CDK1;JUN;CENPF;CKS2;PLK1;CCND1;C...</td>\n",
       "    </tr>\n",
       "    <tr>\n",
       "      <th>negative regulation of multicellular organismal process (GO:0051241)</th>\n",
       "      <td>0.675808</td>\n",
       "      <td>1.928316</td>\n",
       "      <td>0.0</td>\n",
       "      <td>0.060104</td>\n",
       "      <td>126</td>\n",
       "      <td>34</td>\n",
       "      <td>SOSTDC1;TIMP1;MEF2C;WWC3;GAL;DDIT3;PTPRR;CALR;...</td>\n",
       "      <td>SOSTDC1;TIMP1;MEF2C;WWC3;GAL;DDIT3;PTPRR;CALR;...</td>\n",
       "    </tr>\n",
       "  </tbody>\n",
       "</table>\n",
       "</div>"
      ],
      "text/plain": [
       "                                                          es       nes  pval  \\\n",
       "Term                                                                           \n",
       "regulation of immune response (GO:0050776)          0.730837  2.088488   0.0   \n",
       "cellular response to hormone stimulus (GO:0032870)  0.770491  2.201558   0.0   \n",
       "response to unfolded protein (GO:0006986)           0.722181  2.096073   0.0   \n",
       "defense response to bacterium (GO:0042742)          0.764943  2.132035   0.0   \n",
       "lymphocyte differentiation (GO:0030098)             0.743540  1.997293   0.0   \n",
       "regulation of DNA binding (GO:0051101)              0.725346  2.003885   0.0   \n",
       "chaperone mediated protein folding requiring co...  0.746605  2.008710   0.0   \n",
       "negative regulation of apoptotic process (GO:00...  0.528204  1.949702   0.0   \n",
       "regulation of cell cycle (GO:0051726)               0.552149  1.925963   0.0   \n",
       "negative regulation of multicellular organismal...  0.675808  1.928316   0.0   \n",
       "\n",
       "                                                         fdr  geneset_size  \\\n",
       "Term                                                                         \n",
       "regulation of immune response (GO:0050776)          0.009694           252   \n",
       "cellular response to hormone stimulus (GO:0032870)  0.009694            81   \n",
       "response to unfolded protein (GO:0006986)           0.012926            44   \n",
       "defense response to bacterium (GO:0042742)          0.014541           242   \n",
       "lymphocyte differentiation (GO:0030098)             0.022158            74   \n",
       "regulation of DNA binding (GO:0051101)              0.024235            53   \n",
       "chaperone mediated protein folding requiring co...  0.027144            25   \n",
       "negative regulation of apoptotic process (GO:00...  0.056953           486   \n",
       "regulation of cell cycle (GO:0051726)               0.058165           216   \n",
       "negative regulation of multicellular organismal...  0.060104           126   \n",
       "\n",
       "                                                    matched_size  \\\n",
       "Term                                                               \n",
       "regulation of immune response (GO:0050776)                    28   \n",
       "cellular response to hormone stimulus (GO:0032870)            28   \n",
       "response to unfolded protein (GO:0006986)                     29   \n",
       "defense response to bacterium (GO:0042742)                    27   \n",
       "lymphocyte differentiation (GO:0030098)                       18   \n",
       "regulation of DNA binding (GO:0051101)                        35   \n",
       "chaperone mediated protein folding requiring co...            18   \n",
       "negative regulation of apoptotic process (GO:00...           219   \n",
       "regulation of cell cycle (GO:0051726)                        124   \n",
       "negative regulation of multicellular organismal...            34   \n",
       "\n",
       "                                                                                                genes  \\\n",
       "Term                                                                                                    \n",
       "regulation of immune response (GO:0050776)          TYROBP;IFITM1;CD3D;B2M;CD33;HLA-E;ICAM2;NCR3LG...   \n",
       "cellular response to hormone stimulus (GO:0032870)  JUN;TFPI;SOCS2;AKR1C1;MEF2C;CTSL;ZFP36L1;LMO2;...   \n",
       "response to unfolded protein (GO:0006986)           HSPA1A;HSPA5;DNAJB4;HSPA8;DNAJB1;HERPUD1;HSP90...   \n",
       "defense response to bacterium (GO:0042742)          LYZ;PYCARD;RPL39;HIST1H2BJ;HIST1H2BK;HMGB2;HIS...   \n",
       "lymphocyte differentiation (GO:0030098)             CD3D;KLF6;PTPRC;DNAJB9;HHEX;RHOH;LYL1;CHD7;JAG...   \n",
       "regulation of DNA binding (GO:0051101)              ID3;ID1;IGF1;JUN;HJURP;HMGB2;IFI16;HES1;PLAUR;...   \n",
       "chaperone mediated protein folding requiring co...  HSPA1A;HSPA5;HSPA8;DNAJB1;HSPH1;HSPA4L;GAK;PTG...   \n",
       "negative regulation of apoptotic process (GO:00...  DHRS2;HSPA1A;APOE;HSPA5;IGF1;HSP90B1;SQSTM1;AR...   \n",
       "regulation of cell cycle (GO:0051726)               ID3;ID1;CCNB1;CDK1;JUN;CENPF;CKS2;PLK1;CCND1;C...   \n",
       "negative regulation of multicellular organismal...  SOSTDC1;TIMP1;MEF2C;WWC3;GAL;DDIT3;PTPRR;CALR;...   \n",
       "\n",
       "                                                                                          ledge_genes  \n",
       "Term                                                                                                   \n",
       "regulation of immune response (GO:0050776)                                TYROBP;IFITM1;CD3D;B2M;CD33  \n",
       "cellular response to hormone stimulus (GO:0032870)  JUN;TFPI;SOCS2;AKR1C1;MEF2C;CTSL;ZFP36L1;LMO2;...  \n",
       "response to unfolded protein (GO:0006986)           HSPA1A;HSPA5;DNAJB4;HSPA8;DNAJB1;HERPUD1;HSP90...  \n",
       "defense response to bacterium (GO:0042742)          LYZ;PYCARD;RPL39;HIST1H2BJ;HIST1H2BK;HMGB2;HIS...  \n",
       "lymphocyte differentiation (GO:0030098)                              CD3D;KLF6;PTPRC;DNAJB9;HHEX;RHOH  \n",
       "regulation of DNA binding (GO:0051101)                  ID3;ID1;IGF1;JUN;HJURP;HMGB2;IFI16;HES1;PLAUR  \n",
       "chaperone mediated protein folding requiring co...                    HSPA1A;HSPA5;HSPA8;DNAJB1;HSPH1  \n",
       "negative regulation of apoptotic process (GO:00...  DHRS2;HSPA1A;APOE;HSPA5;IGF1;HSP90B1;SQSTM1;AR...  \n",
       "regulation of cell cycle (GO:0051726)               ID3;ID1;CCNB1;CDK1;JUN;CENPF;CKS2;PLK1;CCND1;C...  \n",
       "negative regulation of multicellular organismal...  SOSTDC1;TIMP1;MEF2C;WWC3;GAL;DDIT3;PTPRR;CALR;...  "
      ]
     },
     "execution_count": 22,
     "metadata": {},
     "output_type": "execute_result"
    }
   ],
   "source": [
    "gsea_table.query('es > 0').head(10)"
   ]
  },
  {
   "cell_type": "code",
   "execution_count": 23,
   "metadata": {},
   "outputs": [],
   "source": [
    "# # Define the gene sets\n",
    "\n",
    "# stress_genes = list(set(gsea_table.query('es > 0').genes.iloc[2].split(';')) & set(hvg))\n",
    "# bacteria_genes = list(set(gsea_table.query('es > 0').genes.iloc[3].split(';')) & set(hvg))\n",
    "# immune_genes = list(set(gsea_table.query('es > 0').genes.iloc[0].split(';') +  gsea_table.query('es > 0').genes.iloc[4].split(';')) & set(hvg))"
   ]
  },
  {
   "cell_type": "markdown",
   "metadata": {},
   "source": [
    "### Get HVG and LVG"
   ]
  },
  {
   "cell_type": "code",
   "execution_count": 24,
   "metadata": {},
   "outputs": [],
   "source": [
    "hvg = df.query('dv_fdr < 0.05 & dv_coef > 1').gene.tolist()\n",
    "lvg = df.query('dv_fdr < 0.05 & dv_coef < -0.5').gene.tolist()"
   ]
  },
  {
   "cell_type": "code",
   "execution_count": 25,
   "metadata": {},
   "outputs": [
    {
     "data": {
      "text/plain": [
       "Text(0, 0.5, 'Variability')"
      ]
     },
     "execution_count": 25,
     "metadata": {},
     "output_type": "execute_result"
    },
    {
     "data": {
      "image/png": "[encoded data removed]",
      "text/plain": [
       "<Figure size 432x288 with 1 Axes>"
      ]
     },
     "metadata": {
      "needs_background": "light"
     },
     "output_type": "display_data"
    }
   ],
   "source": [
    "plt.scatter(df['de_coef'], df['dv_coef'], s=1, color='grey')\n",
    "plt.scatter(df.query('gene in @hvg')['de_coef'], df.query('gene in @hvg')['dv_coef'], s=10, color='b')\n",
    "plt.scatter(df['de_coef'], df['dv_coef'], s=1, color='grey')\n",
    "plt.scatter(df.query('gene in @lvg')['de_coef'], df.query('gene in @lvg')['dv_coef'], s=10, color='g')\n",
    "plt.xlabel('Mean'); plt.ylabel('Variability')"
   ]
  },
  {
   "cell_type": "markdown",
   "metadata": {},
   "source": [
    "### Get cytokines"
   ]
  },
  {
   "cell_type": "code",
   "execution_count": 26,
   "metadata": {},
   "outputs": [],
   "source": [
    "cytokines = pd.read_csv('mart_export.txt')['Gene name'].tolist()"
   ]
  },
  {
   "cell_type": "code",
   "execution_count": 27,
   "metadata": {},
   "outputs": [],
   "source": [
    "df['cytokine'] = df['gene'].isin(cytokines)"
   ]
  },
  {
   "cell_type": "code",
   "execution_count": 28,
   "metadata": {},
   "outputs": [
    {
     "data": {
      "text/plain": [
       "29"
      ]
     },
     "execution_count": 28,
     "metadata": {},
     "output_type": "execute_result"
    }
   ],
   "source": [
    "df['cytokine'].sum()"
   ]
  },
  {
   "cell_type": "code",
   "execution_count": 29,
   "metadata": {},
   "outputs": [],
   "source": [
    "cytokines = df.query('cytokine').gene.tolist()"
   ]
  },
  {
   "cell_type": "code",
   "execution_count": 30,
   "metadata": {},
   "outputs": [
    {
     "data": {
      "text/plain": [
       "(-1.0, 1.5)"
      ]
     },
     "execution_count": 30,
     "metadata": {},
     "output_type": "execute_result"
    },
    {
     "data": {
      "image/png": "[encoded data removed]",
      "text/plain": [
       "<Figure size 144x216 with 1 Axes>"
      ]
     },
     "metadata": {
      "needs_background": "light"
     },
     "output_type": "display_data"
    }
   ],
   "source": [
    "plt.figure(figsize=(2,3))\n",
    "sns.boxplot(x='cytokine', y='dv_coef', data=df, fliersize=0.1)\n",
    "plt.ylim(-1,1.5)"
   ]
  },
  {
   "cell_type": "code",
   "execution_count": 31,
   "metadata": {},
   "outputs": [
    {
     "data": {
      "text/html": [
       "<div>\n",
       "<style scoped>\n",
       "    .dataframe tbody tr th:only-of-type {\n",
       "        vertical-align: middle;\n",
       "    }\n",
       "\n",
       "    .dataframe tbody tr th {\n",
       "        vertical-align: top;\n",
       "    }\n",
       "\n",
       "    .dataframe thead th {\n",
       "        text-align: right;\n",
       "    }\n",
       "</style>\n",
       "<table border=\"1\" class=\"dataframe\">\n",
       "  <thead>\n",
       "    <tr style=\"text-align: right;\">\n",
       "      <th></th>\n",
       "      <th>gene</th>\n",
       "      <th>de_coef</th>\n",
       "      <th>de_se</th>\n",
       "      <th>de_pval</th>\n",
       "      <th>dv_coef</th>\n",
       "      <th>dv_se</th>\n",
       "      <th>dv_pval</th>\n",
       "      <th>dv_fdr</th>\n",
       "      <th>cytokine</th>\n",
       "    </tr>\n",
       "  </thead>\n",
       "  <tbody>\n",
       "    <tr>\n",
       "      <th>1627</th>\n",
       "      <td>IL20RB</td>\n",
       "      <td>-1.787209</td>\n",
       "      <td>0.037735</td>\n",
       "      <td>1.172974e-09</td>\n",
       "      <td>0.318886</td>\n",
       "      <td>0.142819</td>\n",
       "      <td>0.024898</td>\n",
       "      <td>0.087902</td>\n",
       "      <td>True</td>\n",
       "    </tr>\n",
       "    <tr>\n",
       "      <th>1849</th>\n",
       "      <td>CXCL3</td>\n",
       "      <td>-1.086986</td>\n",
       "      <td>0.028921</td>\n",
       "      <td>1.334252e-06</td>\n",
       "      <td>0.721656</td>\n",
       "      <td>0.123211</td>\n",
       "      <td>0.000017</td>\n",
       "      <td>0.000445</td>\n",
       "      <td>True</td>\n",
       "    </tr>\n",
       "    <tr>\n",
       "      <th>2133</th>\n",
       "      <td>TSLP</td>\n",
       "      <td>-1.427353</td>\n",
       "      <td>0.032898</td>\n",
       "      <td>1.618486e-07</td>\n",
       "      <td>0.546550</td>\n",
       "      <td>0.102552</td>\n",
       "      <td>0.000025</td>\n",
       "      <td>0.000561</td>\n",
       "      <td>True</td>\n",
       "    </tr>\n",
       "    <tr>\n",
       "      <th>2190</th>\n",
       "      <td>CXCL14</td>\n",
       "      <td>-1.703472</td>\n",
       "      <td>0.033080</td>\n",
       "      <td>7.985269e-06</td>\n",
       "      <td>-0.911718</td>\n",
       "      <td>0.233009</td>\n",
       "      <td>0.001900</td>\n",
       "      <td>0.011116</td>\n",
       "      <td>True</td>\n",
       "    </tr>\n",
       "    <tr>\n",
       "      <th>2549</th>\n",
       "      <td>VEGFA</td>\n",
       "      <td>-0.085674</td>\n",
       "      <td>0.016998</td>\n",
       "      <td>1.811198e-05</td>\n",
       "      <td>0.290479</td>\n",
       "      <td>0.082470</td>\n",
       "      <td>0.001570</td>\n",
       "      <td>0.009700</td>\n",
       "      <td>True</td>\n",
       "    </tr>\n",
       "    <tr>\n",
       "      <th>3184</th>\n",
       "      <td>TIMP1</td>\n",
       "      <td>1.759360</td>\n",
       "      <td>0.025869</td>\n",
       "      <td>9.483886e-08</td>\n",
       "      <td>3.132865</td>\n",
       "      <td>1.033516</td>\n",
       "      <td>0.000100</td>\n",
       "      <td>0.001355</td>\n",
       "      <td>True</td>\n",
       "    </tr>\n",
       "    <tr>\n",
       "      <th>3287</th>\n",
       "      <td>IL13RA1</td>\n",
       "      <td>-1.868375</td>\n",
       "      <td>0.042147</td>\n",
       "      <td>3.604690e-07</td>\n",
       "      <td>0.704446</td>\n",
       "      <td>0.201939</td>\n",
       "      <td>0.001072</td>\n",
       "      <td>0.007455</td>\n",
       "      <td>True</td>\n",
       "    </tr>\n",
       "    <tr>\n",
       "      <th>4810</th>\n",
       "      <td>IL23A</td>\n",
       "      <td>-1.112587</td>\n",
       "      <td>0.028282</td>\n",
       "      <td>7.818231e-07</td>\n",
       "      <td>0.519569</td>\n",
       "      <td>0.089996</td>\n",
       "      <td>0.000049</td>\n",
       "      <td>0.000844</td>\n",
       "      <td>True</td>\n",
       "    </tr>\n",
       "    <tr>\n",
       "      <th>6962</th>\n",
       "      <td>GDF15</td>\n",
       "      <td>1.142136</td>\n",
       "      <td>0.016518</td>\n",
       "      <td>2.538263e-09</td>\n",
       "      <td>1.807208</td>\n",
       "      <td>0.138331</td>\n",
       "      <td>0.000001</td>\n",
       "      <td>0.000124</td>\n",
       "      <td>True</td>\n",
       "    </tr>\n",
       "    <tr>\n",
       "      <th>7018</th>\n",
       "      <td>GPI</td>\n",
       "      <td>0.209889</td>\n",
       "      <td>0.013711</td>\n",
       "      <td>1.306109e-04</td>\n",
       "      <td>-0.310132</td>\n",
       "      <td>0.095801</td>\n",
       "      <td>0.001700</td>\n",
       "      <td>0.010225</td>\n",
       "      <td>True</td>\n",
       "    </tr>\n",
       "    <tr>\n",
       "      <th>7293</th>\n",
       "      <td>MIF</td>\n",
       "      <td>1.252927</td>\n",
       "      <td>0.010902</td>\n",
       "      <td>5.103560e-06</td>\n",
       "      <td>0.620594</td>\n",
       "      <td>0.042146</td>\n",
       "      <td>0.000002</td>\n",
       "      <td>0.000161</td>\n",
       "      <td>True</td>\n",
       "    </tr>\n",
       "  </tbody>\n",
       "</table>\n",
       "</div>"
      ],
      "text/plain": [
       "         gene   de_coef     de_se       de_pval   dv_coef     dv_se   dv_pval  \\\n",
       "1627   IL20RB -1.787209  0.037735  1.172974e-09  0.318886  0.142819  0.024898   \n",
       "1849    CXCL3 -1.086986  0.028921  1.334252e-06  0.721656  0.123211  0.000017   \n",
       "2133     TSLP -1.427353  0.032898  1.618486e-07  0.546550  0.102552  0.000025   \n",
       "2190   CXCL14 -1.703472  0.033080  7.985269e-06 -0.911718  0.233009  0.001900   \n",
       "2549    VEGFA -0.085674  0.016998  1.811198e-05  0.290479  0.082470  0.001570   \n",
       "3184    TIMP1  1.759360  0.025869  9.483886e-08  3.132865  1.033516  0.000100   \n",
       "3287  IL13RA1 -1.868375  0.042147  3.604690e-07  0.704446  0.201939  0.001072   \n",
       "4810    IL23A -1.112587  0.028282  7.818231e-07  0.519569  0.089996  0.000049   \n",
       "6962    GDF15  1.142136  0.016518  2.538263e-09  1.807208  0.138331  0.000001   \n",
       "7018      GPI  0.209889  0.013711  1.306109e-04 -0.310132  0.095801  0.001700   \n",
       "7293      MIF  1.252927  0.010902  5.103560e-06  0.620594  0.042146  0.000002   \n",
       "\n",
       "        dv_fdr  cytokine  \n",
       "1627  0.087902      True  \n",
       "1849  0.000445      True  \n",
       "2133  0.000561      True  \n",
       "2190  0.011116      True  \n",
       "2549  0.009700      True  \n",
       "3184  0.001355      True  \n",
       "3287  0.007455      True  \n",
       "4810  0.000844      True  \n",
       "6962  0.000124      True  \n",
       "7018  0.010225      True  \n",
       "7293  0.000161      True  "
      ]
     },
     "execution_count": 31,
     "metadata": {},
     "output_type": "execute_result"
    }
   ],
   "source": [
    "dv_cytokines = df.query('cytokine & dv_fdr < 0.1').gene.tolist()\n",
    "df.query('cytokine & dv_fdr < 0.1')"
   ]
  },
  {
   "cell_type": "markdown",
   "metadata": {},
   "source": [
    "### Memento"
   ]
  },
  {
   "cell_type": "code",
   "execution_count": 35,
   "metadata": {},
   "outputs": [],
   "source": [
    "results = {}\n",
    "moments = {}"
   ]
  },
  {
   "cell_type": "code",
   "execution_count": 36,
   "metadata": {},
   "outputs": [
    {
     "name": "stdout",
     "output_type": "stream",
     "text": [
      "ELK1\n"
     ]
    },
    {
     "name": "stderr",
     "output_type": "stream",
     "text": [
      "[Parallel(n_jobs=92)]: Using backend LokyBackend with 92 concurrent workers.\n",
      "[Parallel(n_jobs=92)]: Done  16 tasks      | elapsed:    0.6s\n",
      "[Parallel(n_jobs=92)]: Done 266 tasks      | elapsed:    3.7s\n",
      "[Parallel(n_jobs=92)]: Done 616 tasks      | elapsed:    7.8s\n",
      "[Parallel(n_jobs=92)]: Done 1066 tasks      | elapsed:   13.0s\n",
      "[Parallel(n_jobs=92)]: Done 1616 tasks      | elapsed:   19.4s\n",
      "[Parallel(n_jobs=92)]: Done 2266 tasks      | elapsed:   27.1s\n",
      "[Parallel(n_jobs=92)]: Done 3016 tasks      | elapsed:   36.9s\n",
      "[Parallel(n_jobs=92)]: Done 3866 tasks      | elapsed:   47.0s\n",
      "[Parallel(n_jobs=92)]: Done 4816 tasks      | elapsed:   59.0s\n",
      "[Parallel(n_jobs=92)]: Done 5866 tasks      | elapsed:  1.2min\n",
      "[Parallel(n_jobs=92)]: Done 7016 tasks      | elapsed:  1.4min\n",
      "[Parallel(n_jobs=92)]: Done 7466 out of 7466 | elapsed:  1.7min finished\n"
     ]
    },
    {
     "name": "stdout",
     "output_type": "stream",
     "text": [
      "ELF1\n"
     ]
    },
    {
     "name": "stderr",
     "output_type": "stream",
     "text": [
      "[Parallel(n_jobs=92)]: Using backend LokyBackend with 92 concurrent workers.\n",
      "[Parallel(n_jobs=92)]: Done  16 tasks      | elapsed:    0.6s\n",
      "[Parallel(n_jobs=92)]: Done 266 tasks      | elapsed:    3.8s\n",
      "[Parallel(n_jobs=92)]: Done 616 tasks      | elapsed:    8.1s\n",
      "[Parallel(n_jobs=92)]: Done 1066 tasks      | elapsed:   13.4s\n",
      "[Parallel(n_jobs=92)]: Done 1616 tasks      | elapsed:   20.0s\n",
      "[Parallel(n_jobs=92)]: Done 2266 tasks      | elapsed:   27.8s\n",
      "[Parallel(n_jobs=92)]: Done 3016 tasks      | elapsed:   37.9s\n",
      "[Parallel(n_jobs=92)]: Done 3866 tasks      | elapsed:   48.2s\n",
      "[Parallel(n_jobs=92)]: Done 4816 tasks      | elapsed:  1.0min\n",
      "[Parallel(n_jobs=92)]: Done 5866 tasks      | elapsed:  1.2min\n",
      "[Parallel(n_jobs=92)]: Done 7016 tasks      | elapsed:  1.5min\n",
      "[Parallel(n_jobs=92)]: Done 7443 out of 7443 | elapsed:  1.7min finished\n"
     ]
    },
    {
     "name": "stdout",
     "output_type": "stream",
     "text": [
      "IRF1\n"
     ]
    },
    {
     "name": "stderr",
     "output_type": "stream",
     "text": [
      "[Parallel(n_jobs=92)]: Using backend LokyBackend with 92 concurrent workers.\n",
      "[Parallel(n_jobs=92)]: Done  16 tasks      | elapsed:    0.5s\n",
      "[Parallel(n_jobs=92)]: Done 266 tasks      | elapsed:    3.1s\n",
      "[Parallel(n_jobs=92)]: Done 616 tasks      | elapsed:    6.6s\n",
      "[Parallel(n_jobs=92)]: Done 1066 tasks      | elapsed:   11.0s\n",
      "[Parallel(n_jobs=92)]: Done 1616 tasks      | elapsed:   16.5s\n",
      "[Parallel(n_jobs=92)]: Done 2266 tasks      | elapsed:   22.9s\n",
      "[Parallel(n_jobs=92)]: Done 3016 tasks      | elapsed:   31.4s\n",
      "[Parallel(n_jobs=92)]: Done 3866 tasks      | elapsed:   39.8s\n",
      "[Parallel(n_jobs=92)]: Done 4816 tasks      | elapsed:   50.2s\n",
      "[Parallel(n_jobs=92)]: Done 5866 tasks      | elapsed:  1.0min\n",
      "[Parallel(n_jobs=92)]: Done 7016 tasks      | elapsed:  1.2min\n",
      "[Parallel(n_jobs=92)]: Done 7422 out of 7422 | elapsed:  1.4min finished\n"
     ]
    },
    {
     "name": "stdout",
     "output_type": "stream",
     "text": [
      "ETS1\n"
     ]
    },
    {
     "name": "stderr",
     "output_type": "stream",
     "text": [
      "[Parallel(n_jobs=92)]: Using backend LokyBackend with 92 concurrent workers.\n",
      "[Parallel(n_jobs=92)]: Done  16 tasks      | elapsed:    0.6s\n",
      "[Parallel(n_jobs=92)]: Done 266 tasks      | elapsed:    3.6s\n",
      "[Parallel(n_jobs=92)]: Done 616 tasks      | elapsed:    7.6s\n",
      "[Parallel(n_jobs=92)]: Done 1066 tasks      | elapsed:   12.6s\n",
      "[Parallel(n_jobs=92)]: Done 1616 tasks      | elapsed:   18.8s\n",
      "[Parallel(n_jobs=92)]: Done 2266 tasks      | elapsed:   26.2s\n",
      "[Parallel(n_jobs=92)]: Done 3016 tasks      | elapsed:   35.7s\n",
      "[Parallel(n_jobs=92)]: Done 3866 tasks      | elapsed:   45.4s\n",
      "[Parallel(n_jobs=92)]: Done 4816 tasks      | elapsed:   57.0s\n",
      "[Parallel(n_jobs=92)]: Done 5866 tasks      | elapsed:  1.1min\n",
      "[Parallel(n_jobs=92)]: Done 7016 tasks      | elapsed:  1.4min\n",
      "[Parallel(n_jobs=92)]: Done 7478 out of 7478 | elapsed:  1.6min finished\n"
     ]
    },
    {
     "name": "stdout",
     "output_type": "stream",
     "text": [
      "EGR1\n"
     ]
    },
    {
     "name": "stderr",
     "output_type": "stream",
     "text": [
      "[Parallel(n_jobs=92)]: Using backend LokyBackend with 92 concurrent workers.\n",
      "[Parallel(n_jobs=92)]: Done  16 tasks      | elapsed:    0.5s\n",
      "[Parallel(n_jobs=92)]: Done 266 tasks      | elapsed:    3.3s\n",
      "[Parallel(n_jobs=92)]: Done 616 tasks      | elapsed:    7.1s\n",
      "[Parallel(n_jobs=92)]: Done 1066 tasks      | elapsed:   11.8s\n",
      "[Parallel(n_jobs=92)]: Done 1616 tasks      | elapsed:   17.5s\n",
      "[Parallel(n_jobs=92)]: Done 2266 tasks      | elapsed:   24.4s\n",
      "[Parallel(n_jobs=92)]: Done 3016 tasks      | elapsed:   33.3s\n",
      "[Parallel(n_jobs=92)]: Done 3866 tasks      | elapsed:   42.3s\n",
      "[Parallel(n_jobs=92)]: Done 4816 tasks      | elapsed:   53.2s\n",
      "[Parallel(n_jobs=92)]: Done 5866 tasks      | elapsed:  1.1min\n",
      "[Parallel(n_jobs=92)]: Done 7016 tasks      | elapsed:  1.3min\n",
      "[Parallel(n_jobs=92)]: Done 7469 out of 7469 | elapsed:  1.5min finished\n"
     ]
    },
    {
     "name": "stdout",
     "output_type": "stream",
     "text": [
      "YY1\n"
     ]
    },
    {
     "name": "stderr",
     "output_type": "stream",
     "text": [
      "[Parallel(n_jobs=92)]: Using backend LokyBackend with 92 concurrent workers.\n",
      "[Parallel(n_jobs=92)]: Done  16 tasks      | elapsed:    0.6s\n",
      "[Parallel(n_jobs=92)]: Done 266 tasks      | elapsed:    3.8s\n",
      "[Parallel(n_jobs=92)]: Done 616 tasks      | elapsed:    8.0s\n",
      "[Parallel(n_jobs=92)]: Done 1066 tasks      | elapsed:   13.2s\n",
      "[Parallel(n_jobs=92)]: Done 1616 tasks      | elapsed:   19.7s\n",
      "[Parallel(n_jobs=92)]: Done 2266 tasks      | elapsed:   27.5s\n",
      "[Parallel(n_jobs=92)]: Done 3016 tasks      | elapsed:   37.6s\n",
      "[Parallel(n_jobs=92)]: Done 3866 tasks      | elapsed:   47.7s\n",
      "[Parallel(n_jobs=92)]: Done 4816 tasks      | elapsed:   59.9s\n",
      "[Parallel(n_jobs=92)]: Done 5866 tasks      | elapsed:  1.2min\n",
      "[Parallel(n_jobs=92)]: Done 7016 tasks      | elapsed:  1.4min\n",
      "[Parallel(n_jobs=92)]: Done 7329 out of 7329 | elapsed:  1.7min finished\n"
     ]
    },
    {
     "name": "stdout",
     "output_type": "stream",
     "text": [
      "GABPA\n"
     ]
    },
    {
     "name": "stderr",
     "output_type": "stream",
     "text": [
      "[Parallel(n_jobs=92)]: Using backend LokyBackend with 92 concurrent workers.\n",
      "[Parallel(n_jobs=92)]: Done  16 tasks      | elapsed:    0.6s\n",
      "[Parallel(n_jobs=92)]: Done 266 tasks      | elapsed:    3.6s\n",
      "[Parallel(n_jobs=92)]: Done 616 tasks      | elapsed:    7.6s\n",
      "[Parallel(n_jobs=92)]: Done 1066 tasks      | elapsed:   12.6s\n",
      "[Parallel(n_jobs=92)]: Done 1616 tasks      | elapsed:   18.8s\n",
      "[Parallel(n_jobs=92)]: Done 2266 tasks      | elapsed:   26.2s\n",
      "[Parallel(n_jobs=92)]: Done 3016 tasks      | elapsed:   35.8s\n",
      "[Parallel(n_jobs=92)]: Done 3866 tasks      | elapsed:   45.6s\n",
      "[Parallel(n_jobs=92)]: Done 4816 tasks      | elapsed:   57.3s\n",
      "[Parallel(n_jobs=92)]: Done 5866 tasks      | elapsed:  1.2min\n",
      "[Parallel(n_jobs=92)]: Done 7016 tasks      | elapsed:  1.4min\n",
      "[Parallel(n_jobs=92)]: Done 7405 out of 7405 | elapsed:  1.6min finished\n"
     ]
    },
    {
     "name": "stdout",
     "output_type": "stream",
     "text": [
      "E2F4\n"
     ]
    },
    {
     "name": "stderr",
     "output_type": "stream",
     "text": [
      "[Parallel(n_jobs=92)]: Using backend LokyBackend with 92 concurrent workers.\n",
      "[Parallel(n_jobs=92)]: Done  16 tasks      | elapsed:    0.6s\n",
      "[Parallel(n_jobs=92)]: Done 266 tasks      | elapsed:    3.5s\n",
      "[Parallel(n_jobs=92)]: Done 616 tasks      | elapsed:    7.5s\n",
      "[Parallel(n_jobs=92)]: Done 1066 tasks      | elapsed:   12.6s\n",
      "[Parallel(n_jobs=92)]: Done 1616 tasks      | elapsed:   18.7s\n",
      "[Parallel(n_jobs=92)]: Done 2266 tasks      | elapsed:   26.1s\n",
      "[Parallel(n_jobs=92)]: Done 3016 tasks      | elapsed:   35.6s\n",
      "[Parallel(n_jobs=92)]: Done 3866 tasks      | elapsed:   45.3s\n",
      "[Parallel(n_jobs=92)]: Done 4816 tasks      | elapsed:   56.9s\n",
      "[Parallel(n_jobs=92)]: Done 5866 tasks      | elapsed:  1.1min\n",
      "[Parallel(n_jobs=92)]: Done 7016 tasks      | elapsed:  1.4min\n",
      "[Parallel(n_jobs=92)]: Done 7438 out of 7438 | elapsed:  1.6min finished\n"
     ]
    },
    {
     "name": "stdout",
     "output_type": "stream",
     "text": [
      "NR2C2\n"
     ]
    },
    {
     "name": "stderr",
     "output_type": "stream",
     "text": [
      "[Parallel(n_jobs=92)]: Using backend LokyBackend with 92 concurrent workers.\n",
      "[Parallel(n_jobs=92)]: Done  16 tasks      | elapsed:    0.6s\n",
      "[Parallel(n_jobs=92)]: Done 266 tasks      | elapsed:    3.5s\n",
      "[Parallel(n_jobs=92)]: Done 616 tasks      | elapsed:    7.5s\n",
      "[Parallel(n_jobs=92)]: Done 1066 tasks      | elapsed:   12.5s\n",
      "[Parallel(n_jobs=92)]: Done 1616 tasks      | elapsed:   18.8s\n",
      "[Parallel(n_jobs=92)]: Done 2266 tasks      | elapsed:   26.0s\n",
      "[Parallel(n_jobs=92)]: Done 3016 tasks      | elapsed:   35.5s\n",
      "[Parallel(n_jobs=92)]: Done 3866 tasks      | elapsed:   45.2s\n",
      "[Parallel(n_jobs=92)]: Done 4816 tasks      | elapsed:   56.8s\n",
      "[Parallel(n_jobs=92)]: Done 5866 tasks      | elapsed:  1.1min\n",
      "[Parallel(n_jobs=92)]: Done 7016 tasks      | elapsed:  1.4min\n",
      "[Parallel(n_jobs=92)]: Done 7400 out of 7400 | elapsed:  1.6min finished\n"
     ]
    },
    {
     "name": "stdout",
     "output_type": "stream",
     "text": [
      "CREB1\n"
     ]
    },
    {
     "name": "stderr",
     "output_type": "stream",
     "text": [
      "[Parallel(n_jobs=92)]: Using backend LokyBackend with 92 concurrent workers.\n",
      "[Parallel(n_jobs=92)]: Done  16 tasks      | elapsed:    0.6s\n",
      "[Parallel(n_jobs=92)]: Done 266 tasks      | elapsed:    3.1s\n",
      "[Parallel(n_jobs=92)]: Done 616 tasks      | elapsed:    6.4s\n",
      "[Parallel(n_jobs=92)]: Done 1066 tasks      | elapsed:   10.6s\n",
      "[Parallel(n_jobs=92)]: Done 1616 tasks      | elapsed:   15.7s\n",
      "[Parallel(n_jobs=92)]: Done 2266 tasks      | elapsed:   21.8s\n",
      "[Parallel(n_jobs=92)]: Done 3016 tasks      | elapsed:   29.8s\n",
      "[Parallel(n_jobs=92)]: Done 3866 tasks      | elapsed:   38.0s\n",
      "[Parallel(n_jobs=92)]: Done 4816 tasks      | elapsed:   47.8s\n",
      "[Parallel(n_jobs=92)]: Done 5866 tasks      | elapsed:   57.6s\n",
      "[Parallel(n_jobs=92)]: Done 7016 tasks      | elapsed:  1.2min\n",
      "[Parallel(n_jobs=92)]: Done 7424 out of 7424 | elapsed:  1.4min finished\n"
     ]
    }
   ],
   "source": [
    "for g in ko_genes:\n",
    "    \n",
    "    print(g)\n",
    "    \n",
    "    subset = adata[adata.obs.WT | (adata.obs.KO_GENE == g)].copy().copy()\n",
    "    \n",
    "    memento.create_groups(subset, label_columns=['KO'])\n",
    "    memento.compute_1d_moments(subset, min_perc_group=.9)\n",
    "    \n",
    "    memento.ht_1d_moments(\n",
    "        subset, \n",
    "        formula_like='1 + KO',\n",
    "        treatment_col='KO', \n",
    "        num_boot=20000, \n",
    "        verbose=1,\n",
    "        num_cpus=92,\n",
    "        resampling='permutation',\n",
    "        approx=False)\n",
    "    guide_df = memento.get_1d_ht_result(subset)\n",
    "    \n",
    "    results[g] = memento.get_1d_ht_result(subset)\n",
    "    moments[g] = memento.get_1d_moments(subset, groupby='KO')\n",
    "    \n",
    "    results[g]['de_fdr'] = memento.util._fdrcorrect(results[g]['de_pval'])\n",
    "    results[g]['dv_fdr'] = memento.util._fdrcorrect(results[g]['dv_pval'])\n",
    "    \n",
    "    results[g]['cytokine']= results[g].gene.apply(lambda x: x in cytokines)\n",
    "    results[g]['class'] = results[g].gene.apply(lambda x: 'hvg' if x in hvg else 'lvg')"
   ]
  },
  {
   "cell_type": "code",
   "execution_count": 41,
   "metadata": {},
   "outputs": [
    {
     "name": "stdout",
     "output_type": "stream",
     "text": [
      "ELK1 (223, 11)\n",
      "Empty DataFrame\n",
      "Columns: [gene, de_coef, dv_coef, class, dv_pval, dv_fdr]\n",
      "Index: []\n",
      "ELF1 (217, 11)\n",
      "Empty DataFrame\n",
      "Columns: [gene, de_coef, dv_coef, class, dv_pval, dv_fdr]\n",
      "Index: []\n",
      "IRF1 (221, 11)\n",
      "Empty DataFrame\n",
      "Columns: [gene, de_coef, dv_coef, class, dv_pval, dv_fdr]\n",
      "Index: []\n",
      "ETS1 (220, 11)\n",
      "Empty DataFrame\n",
      "Columns: [gene, de_coef, dv_coef, class, dv_pval, dv_fdr]\n",
      "Index: []\n",
      "EGR1 (222, 11)\n",
      "Empty DataFrame\n",
      "Columns: [gene, de_coef, dv_coef, class, dv_pval, dv_fdr]\n",
      "Index: []\n",
      "YY1 (218, 11)\n",
      "           gene   de_coef   dv_coef class   dv_pval    dv_fdr\n",
      "281        RPS8 -0.040710  0.167686   lvg  0.001600  0.032698\n",
      "697        G0S2 -0.313351  0.242506   hvg  0.000582  0.018113\n",
      "1781        NMU -0.169178  0.270220   hvg  0.001121  0.027854\n",
      "2340  HIST1H2BK -0.094199  0.152584   hvg  0.001150  0.027854\n",
      "2534      LYRM2 -0.092020  0.576834   lvg  0.001650  0.032698\n",
      "3157       NONO -0.028539  0.444396   lvg  0.003750  0.058390\n",
      "3271    ATP6AP1 -0.082734  0.650354   lvg  0.005250  0.076296\n",
      "3546       RPL8 -0.040082  0.214860   lvg  0.000337  0.014685\n",
      "4125       HBG1 -0.096879  0.251440   hvg  0.000093  0.009371\n",
      "4126       HBG2 -0.111327  0.325719   hvg  0.000170  0.009371\n",
      "4163      RPS13 -0.088732  0.492094   lvg  0.000021  0.004619\n",
      "4241      MS4A3 -0.045870 -0.650556   hvg  0.006350  0.086514\n",
      "4496      HINFP  0.073324  1.101268   lvg  0.003300  0.055336\n",
      "4867      ACADS  0.085411  0.872001   lvg  0.007100  0.091043\n",
      "5445        HBZ -0.203119  0.420104   hvg  0.000172  0.009371\n",
      "5978      RPL19 -0.042093  0.204774   lvg  0.000463  0.016825\n",
      "6950    GLTSCR2 -0.071505  0.313004   lvg  0.002300  0.041781\n",
      "GABPA (220, 11)\n",
      "Empty DataFrame\n",
      "Columns: [gene, de_coef, dv_coef, class, dv_pval, dv_fdr]\n",
      "Index: []\n",
      "E2F4 (219, 11)\n",
      "Empty DataFrame\n",
      "Columns: [gene, de_coef, dv_coef, class, dv_pval, dv_fdr]\n",
      "Index: []\n",
      "NR2C2 (218, 11)\n",
      "Empty DataFrame\n",
      "Columns: [gene, de_coef, dv_coef, class, dv_pval, dv_fdr]\n",
      "Index: []\n",
      "CREB1 (219, 11)\n",
      "Empty DataFrame\n",
      "Columns: [gene, de_coef, dv_coef, class, dv_pval, dv_fdr]\n",
      "Index: []\n"
     ]
    }
   ],
   "source": [
    "filtered_results = {}\n",
    "for g in ko_genes:\n",
    "    \n",
    "    filtered_results[g] = results[g].copy()\n",
    "#     filtered_results[g]['class'] = filtered_results[g].gene.apply(lambda x: 'cytokine' if x in cytokines else 'else')\n",
    "    filtered_results[g]['class'] = filtered_results[g].gene.apply(lambda x: 'hvg' if x in hvg else ('lvg' if x in lvg else 'else'))\n",
    "    filtered_results[g] = filtered_results[g][filtered_results[g]['class'] != 'else']\n",
    "    filtered_results[g]['de_fdr'] = memento.util._fdrcorrect(filtered_results[g]['de_pval'])\n",
    "    filtered_results[g]['dv_fdr'] = memento.util._fdrcorrect(filtered_results[g]['dv_pval'])\n",
    "    \n",
    "    print(g, filtered_results[g].shape)\n",
    "    print(filtered_results[g].query('dv_fdr < 0.1')[['gene', 'de_coef','dv_coef', 'class', 'dv_pval','dv_fdr']])"
   ]
  },
  {
   "cell_type": "code",
   "execution_count": 66,
   "metadata": {},
   "outputs": [
    {
     "data": {
      "text/plain": [
       "<matplotlib.legend.Legend at 0x7fda504cb700>"
      ]
     },
     "execution_count": 66,
     "metadata": {},
     "output_type": "execute_result"
    },
    {
     "data": {
      "image/png": "[encoded data removed]",
      "text/plain": [
       "<Figure size 360x288 with 1 Axes>"
      ]
     },
     "metadata": {
      "needs_background": "light"
     },
     "output_type": "display_data"
    }
   ],
   "source": [
    "plt.figure(figsize=(5, 4))\n",
    "color_idx = 0\n",
    "for g in ko_genes:\n",
    "    dv_genes = filtered_results[g].query('dv_fdr < 0.1').gene.tolist()\n",
    "    if len(dv_genes) == 0:\n",
    "        continue\n",
    "    moment_df = moments[g]\n",
    "    \n",
    "    color = sns.color_palette('Set1')[color_idx]\n",
    "    color_idx += 1\n",
    "    \n",
    "    plt.scatter(moment_df[0]['KO_0'], moment_df[1]['KO_0'], s=1, color='grey')\n",
    "#     plt.scatter(moment_df[0].query('gene in @dv_genes')['KO_0'], moment_df[1].query('gene in @dv_genes')['KO_0'], s=10)\n",
    "#     plt.scatter(moment_df[0].query('gene in @dv_genes')['KO_1'], moment_df[1].query('gene in @dv_genes')['KO_1'], s=10)\n",
    "\n",
    "    for idx, dv_g in enumerate(dv_genes):\n",
    "\n",
    "        x,y = moment_df[0].query('gene ==\"{}\"'.format(dv_g))['KO_0'].iloc[0], moment_df[1].query('gene ==\"{}\"'.format(dv_g))['KO_0'].iloc[0]\n",
    "        dx = moment_df[0].query('gene ==\"{}\"'.format(dv_g))['KO_1'].iloc[0] - x\n",
    "        dy = moment_df[1].query('gene ==\"{}\"'.format(dv_g))['KO_1'].iloc[0] - y\n",
    "        if idx == 0:\n",
    "            plt.arrow(x,y, dx, dy, width=0.05, head_length=0.1, color=color, label=g)\n",
    "        else:\n",
    "            plt.arrow(x,y, dx, dy, width=0.05, head_length=0.1, color=color)\n",
    "    plt.xlabel('Mean'); plt.ylabel('Variability'); plt.title('Effect of TF KO on highly/lowly variable genes')\n",
    "plt.legend( bbox_to_anchor=(1.3, 1))"
   ]
  },
  {
   "cell_type": "code",
   "execution_count": null,
   "metadata": {},
   "outputs": [],
   "source": [
    "\n",
    "for g in ko_genes:\n",
    "    \n",
    "    print(g)\n",
    "    \n",
    "    subset = adata[adata.obs.WT | (adata.obs.KO_GENE == g)].copy().copy()\n",
    "    \n",
    "    subset.obs['group'] = 1\n",
    "    \n",
    "    memento.create_groups(subset, label_columns=['KO'])\n",
    "    memento.compute_1d_moments(subset, min_perc_group=.9)\n",
    "    \n",
    "    m_df, var_df = memento.get_1d_moments(subset, groupby='KO')\n",
    "    \n",
    "    var_df0 = var_df[['gene', 'KO_0']].rename(columns={'KO_0':'var'})\n",
    "    var_df0['group'] = 'WT'\n",
    "    var_df1 = var_df[['gene', 'KO_1']].rename(columns={'KO_1':'var'})\n",
    "    var_df1['group'] = 'KO'\n",
    "    \n",
    "    var_df = pd.concat([var_df0, var_df1])\n",
    "    var_df['cytokine'] = var_df['gene'].isin(cytokines)\n",
    "    \n",
    "    plt.figure(figsize=(2,2))\n",
    "    sns.boxplot(x='cytokine', y='var', hue='group', data=var_df, fliersize=0.1)\n",
    "    plt.legend(bbox_to_anchor=(1.05, 1))\n",
    "    plt.title(g)\n",
    "    plt.ylim(-0.5, 1.2)\n",
    "    \n",
    "#     plt.figure(figsize=(2,3))\n",
    "#     sns.boxplot(x='cytokine', y='group_1', data=var_df)"
   ]
  },
  {
   "cell_type": "code",
   "execution_count": null,
   "metadata": {},
   "outputs": [],
   "source": [
    "for g in ko_genes:\n",
    "    \n",
    "    print(g)\n",
    "    \n",
    "    subset = adata[adata.obs.WT | (adata.obs.KO_GENE == g), cytokines].copy().copy()\n",
    "    \n",
    "    memento.create_groups(subset, label_columns=['KO', 'guides'])\n",
    "    memento.compute_1d_moments(subset, min_perc_group=.9)\n",
    "    \n",
    "    memento.ht_1d_moments(\n",
    "        subset, \n",
    "        formula_like='1 + KO',\n",
    "        cov_column='KO', \n",
    "        num_boot=20000, \n",
    "        verbose=1,\n",
    "        num_cpus=14)\n",
    "    guide_df = memento.get_1d_ht_result(subset)\n",
    "    \n",
    "    results[g] = memento.get_1d_ht_result(subset)\n",
    "    moments[g] = memento.get_1d_moments(subset, groupby='KO')"
   ]
  },
  {
   "cell_type": "code",
   "execution_count": 123,
   "metadata": {},
   "outputs": [],
   "source": [
    "dv_genes = results['YY1'].query('dv_fdr < 0.1').gene.tolist()\n",
    "moment_df = moments['YY1']"
   ]
  },
  {
   "cell_type": "code",
   "execution_count": 136,
   "metadata": {},
   "outputs": [
    {
     "data": {
      "text/plain": [
       "'ID3'"
      ]
     },
     "execution_count": 136,
     "metadata": {},
     "output_type": "execute_result"
    }
   ],
   "source": [
    "g"
   ]
  },
  {
   "cell_type": "code",
   "execution_count": 140,
   "metadata": {},
   "outputs": [
    {
     "data": {
      "text/plain": [
       "-0.39352927"
      ]
     },
     "execution_count": 140,
     "metadata": {},
     "output_type": "execute_result"
    }
   ],
   "source": [
    "moment_df[0].query('gene ==\"{}\"'.format(g))['KO_0'].iloc[0]"
   ]
  },
  {
   "cell_type": "markdown",
   "metadata": {},
   "source": [
    "### YY1 - Individual example"
   ]
  },
  {
   "cell_type": "code",
   "execution_count": 144,
   "metadata": {},
   "outputs": [
    {
     "data": {
      "text/plain": [
       "Text(0.5, 1.0, 'Effect of YY1 KO on highly/lowly variable genes')"
      ]
     },
     "execution_count": 144,
     "metadata": {},
     "output_type": "execute_result"
    },
    {
     "data": {
      "image/png": "[encoded data removed]",
      "text/plain": [
       "<Figure size 360x288 with 1 Axes>"
      ]
     },
     "metadata": {
      "needs_background": "light"
     },
     "output_type": "display_data"
    }
   ],
   "source": [
    "plt.figure(figsize=(5, 4))\n",
    "plt.scatter(moment_df[0]['KO_0'], moment_df[1]['KO_0'], s=1)\n",
    "plt.scatter(moment_df[0].query('gene in @dv_genes')['KO_0'], moment_df[1].query('gene in @dv_genes')['KO_0'], s=10)\n",
    "plt.scatter(moment_df[0].query('gene in @dv_genes')['KO_1'], moment_df[1].query('gene in @dv_genes')['KO_1'], s=10)\n",
    "\n",
    "for g in dv_genes:\n",
    "    \n",
    "    x,y = moment_df[0].query('gene ==\"{}\"'.format(g))['KO_0'].iloc[0], moment_df[1].query('gene ==\"{}\"'.format(g))['KO_0'].iloc[0]\n",
    "    dx = moment_df[0].query('gene ==\"{}\"'.format(g))['KO_1'].iloc[0] - x\n",
    "    dy = moment_df[1].query('gene ==\"{}\"'.format(g))['KO_1'].iloc[0] - y\n",
    "    plt.arrow(x,y, dx, dy, width=0.05, head_length=0.1, color='black')\n",
    "plt.xlabel('Mean'); plt.ylabel('Variability'); plt.title('Effect of YY1 KO on highly/lowly variable genes')"
   ]
  },
  {
   "cell_type": "code",
   "execution_count": 45,
   "metadata": {},
   "outputs": [],
   "source": [
    "guide_df = memento.get_1d_ht_result(subset)"
   ]
  },
  {
   "cell_type": "code",
   "execution_count": 49,
   "metadata": {},
   "outputs": [],
   "source": [
    "guide_df['de_fdr'] = memento.util._fdrcorrect(guide_df['de_pval'])\n",
    "guide_df['dv_fdr'] = memento.util._fdrcorrect(guide_df['dv_pval'])"
   ]
  },
  {
   "cell_type": "code",
   "execution_count": 50,
   "metadata": {},
   "outputs": [
    {
     "data": {
      "text/html": [
       "<div>\n",
       "<style scoped>\n",
       "    .dataframe tbody tr th:only-of-type {\n",
       "        vertical-align: middle;\n",
       "    }\n",
       "\n",
       "    .dataframe tbody tr th {\n",
       "        vertical-align: top;\n",
       "    }\n",
       "\n",
       "    .dataframe thead th {\n",
       "        text-align: right;\n",
       "    }\n",
       "</style>\n",
       "<table border=\"1\" class=\"dataframe\">\n",
       "  <thead>\n",
       "    <tr style=\"text-align: right;\">\n",
       "      <th></th>\n",
       "      <th>gene</th>\n",
       "      <th>de_coef</th>\n",
       "      <th>de_se</th>\n",
       "      <th>de_pval</th>\n",
       "      <th>dv_coef</th>\n",
       "      <th>dv_se</th>\n",
       "      <th>dv_pval</th>\n",
       "      <th>de_fdr</th>\n",
       "      <th>dv_fdr</th>\n",
       "    </tr>\n",
       "  </thead>\n",
       "  <tbody>\n",
       "    <tr>\n",
       "      <th>74</th>\n",
       "      <td>FN1</td>\n",
       "      <td>-0.462806</td>\n",
       "      <td>0.107527</td>\n",
       "      <td>0.000226</td>\n",
       "      <td>-1.839776</td>\n",
       "      <td>0.289305</td>\n",
       "      <td>0.000088</td>\n",
       "      <td>0.068673</td>\n",
       "      <td>0.037803</td>\n",
       "    </tr>\n",
       "    <tr>\n",
       "      <th>353</th>\n",
       "      <td>LYZ</td>\n",
       "      <td>-0.390178</td>\n",
       "      <td>0.130690</td>\n",
       "      <td>0.002700</td>\n",
       "      <td>-1.559115</td>\n",
       "      <td>0.330854</td>\n",
       "      <td>0.000145</td>\n",
       "      <td>0.235326</td>\n",
       "      <td>0.037803</td>\n",
       "    </tr>\n",
       "  </tbody>\n",
       "</table>\n",
       "</div>"
      ],
      "text/plain": [
       "    gene   de_coef     de_se   de_pval   dv_coef     dv_se   dv_pval  \\\n",
       "74   FN1 -0.462806  0.107527  0.000226 -1.839776  0.289305  0.000088   \n",
       "353  LYZ -0.390178  0.130690  0.002700 -1.559115  0.330854  0.000145   \n",
       "\n",
       "       de_fdr    dv_fdr  \n",
       "74   0.068673  0.037803  \n",
       "353  0.235326  0.037803  "
      ]
     },
     "execution_count": 50,
     "metadata": {},
     "output_type": "execute_result"
    }
   ],
   "source": [
    "guide_df.query('dv_fdr < 0.1')"
   ]
  },
  {
   "cell_type": "code",
   "execution_count": null,
   "metadata": {},
   "outputs": [],
   "source": [
    "for g, result in result_1d_dict.items():\n",
    "    \n",
    "    result.to_csv(data_path + '/result_1d/{}.csv'.format(g), index=False)"
   ]
  }
 ],
 "metadata": {
  "kernelspec": {
   "display_name": "Python 3",
   "language": "python",
   "name": "python3"
  },
  "language_info": {
   "codemirror_mode": {
    "name": "ipython",
    "version": 3
   },
   "file_extension": ".py",
   "mimetype": "text/x-python",
   "name": "python",
   "nbconvert_exporter": "python",
   "pygments_lexer": "ipython3",
   "version": "3.8.8"
  }
 },
 "nbformat": 4,
 "nbformat_minor": 4
}
