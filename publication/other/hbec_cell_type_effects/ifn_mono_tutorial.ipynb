{
 "cells": [
  {
   "cell_type": "markdown",
   "metadata": {},
   "source": [
    "# Using `memento` to analyze Interferon-B response in monocytes\n",
    "\n",
    "To install `memento` in the pre-release version (for Ye Lab members), install it directly from github by running:\n",
    "\n",
    "```pip install git+https://github.com/yelabucsf/scrna-parameter-estimation.git@release-v0.0.3```\n",
    "\n",
    "This requires that you have access to the Ye Lab organization. "
   ]
  },
  {
   "cell_type": "code",
   "execution_count": 1,
   "metadata": {},
   "outputs": [
    {
     "name": "stderr",
     "output_type": "stream",
     "text": [
      "\n",
      "Bad key \"text.kerning_factor\" on line 4 in\n",
      "/data/home/anaconda3/envs/single_cell/lib/python3.7/site-packages/matplotlib/mpl-data/stylelib/_classic_test_patch.mplstyle.\n",
      "You probably need to get an updated matplotlibrc file from\n",
      "https://github.com/matplotlib/matplotlib/blob/v3.1.3/matplotlibrc.template\n",
      "or from the matplotlib source distribution\n"
     ]
    }
   ],
   "source": [
    "# This is only for development purposes\n",
    "\n",
    "import sys\n",
    "sys.path.append('/data/home/Github/scrna-parameter-estimation/dist/memento-0.0.5-py3.7.egg')\n",
    "import memento\n",
    "import matplotlib.pyplot as plt"
   ]
  },
  {
   "cell_type": "code",
   "execution_count": 2,
   "metadata": {},
   "outputs": [],
   "source": [
    "import scanpy as sc\n",
    "import memento"
   ]
  },
  {
   "cell_type": "code",
   "execution_count": 3,
   "metadata": {},
   "outputs": [],
   "source": [
    "fig_path = '/data/home/Github/scrna-parameter-estimation/figures/fig4/'\n",
    "data_path = '/data_volume/parameter_estimation/'"
   ]
  },
  {
   "cell_type": "code",
   "execution_count": 4,
   "metadata": {},
   "outputs": [],
   "source": [
    "import pickle as pkl"
   ]
  },
  {
   "cell_type": "markdown",
   "metadata": {},
   "source": [
    "### Read IFN data and filter for monocytes\n",
    "\n",
    "For `memento`, we need the raw count matrix. Preferrably, feed the one with all genes so that we can choose what genes to look at. \n",
    "\n",
    "One of the columns in `adata.obs` should be the discrete groups to compare mean, variability, and co-variability across. In this case, it's called `stim`. \n",
    "\n",
    "The column containing the covariate that you want p-values for should either:\n",
    "- Be binary (aka the column only contains two unique values, such as 'A' and 'B'. Here, the values are either 'stim' or 'ctrl'.\n",
    "- Be numeric (aka the column contains -1, 0, -1 for each genotype value). \n",
    "\n",
    "I recommend changing the labels to something numeric (here, i use 0 for `ctrl` and 1 for `stim`). Otherwise, the sign of the DE/EV/DC testing will be very hard to interpret."
   ]
  },
  {
   "cell_type": "code",
   "execution_count": 20,
   "metadata": {},
   "outputs": [
    {
     "name": "stdout",
     "output_type": "stream",
     "text": [
      "AnnData object with n_obs × n_vars = 5341 × 35635\n",
      "    obs: 'tsne1', 'tsne2', 'ind', 'stim', 'cluster', 'cell', 'multiplets', 'n_genes_by_counts', 'log1p_n_genes_by_counts', 'total_counts', 'log1p_total_counts', 'total_counts_mt', 'log1p_total_counts_mt', 'pct_counts_mt', 'total_counts_hb', 'log1p_total_counts_hb', 'pct_counts_hb', 'cell_type'\n",
      "    var: 'gene_ids', 'mt', 'hb', 'n_cells_by_counts', 'mean_counts', 'log1p_mean_counts', 'pct_dropout_by_counts', 'total_counts', 'log1p_total_counts'\n",
      "    uns: 'cell_type_colors'\n",
      "    obsm: 'X_tsne'\n"
     ]
    }
   ],
   "source": [
    "adata = sc.read(data_path + 'interferon_filtered.h5ad')\n",
    "adata = adata[adata.obs.cell == 'CD14+ Monocytes'].copy()\n",
    "print(adata)"
   ]
  },
  {
   "cell_type": "code",
   "execution_count": 21,
   "metadata": {},
   "outputs": [],
   "source": [
    "adata.obs['stim'] = adata.obs['stim'].apply(lambda x: 1 if x == 'ctrl' else 0)"
   ]
  },
  {
   "cell_type": "code",
   "execution_count": 22,
   "metadata": {},
   "outputs": [
    {
     "data": {
      "text/html": [
       "<div>\n",
       "<style scoped>\n",
       "    .dataframe tbody tr th:only-of-type {\n",
       "        vertical-align: middle;\n",
       "    }\n",
       "\n",
       "    .dataframe tbody tr th {\n",
       "        vertical-align: top;\n",
       "    }\n",
       "\n",
       "    .dataframe thead th {\n",
       "        text-align: right;\n",
       "    }\n",
       "</style>\n",
       "<table border=\"1\" class=\"dataframe\">\n",
       "  <thead>\n",
       "    <tr style=\"text-align: right;\">\n",
       "      <th></th>\n",
       "      <th>ind</th>\n",
       "      <th>stim</th>\n",
       "      <th>cell</th>\n",
       "    </tr>\n",
       "    <tr>\n",
       "      <th>index</th>\n",
       "      <th></th>\n",
       "      <th></th>\n",
       "      <th></th>\n",
       "    </tr>\n",
       "  </thead>\n",
       "  <tbody>\n",
       "    <tr>\n",
       "      <th>TCGGCACTCCCACT-1</th>\n",
       "      <td>1488</td>\n",
       "      <td>1</td>\n",
       "      <td>CD14+ Monocytes</td>\n",
       "    </tr>\n",
       "    <tr>\n",
       "      <th>CCAATGGAGACTAC-1</th>\n",
       "      <td>1015</td>\n",
       "      <td>0</td>\n",
       "      <td>CD14+ Monocytes</td>\n",
       "    </tr>\n",
       "    <tr>\n",
       "      <th>CATGTTACTGTCTT-1</th>\n",
       "      <td>1244</td>\n",
       "      <td>1</td>\n",
       "      <td>CD14+ Monocytes</td>\n",
       "    </tr>\n",
       "    <tr>\n",
       "      <th>GACTCCTGTATCTC-1</th>\n",
       "      <td>1244</td>\n",
       "      <td>0</td>\n",
       "      <td>CD14+ Monocytes</td>\n",
       "    </tr>\n",
       "    <tr>\n",
       "      <th>CACTAGGACAACCA-1</th>\n",
       "      <td>1244</td>\n",
       "      <td>1</td>\n",
       "      <td>CD14+ Monocytes</td>\n",
       "    </tr>\n",
       "  </tbody>\n",
       "</table>\n",
       "</div>"
      ],
      "text/plain": [
       "                   ind stim             cell\n",
       "index                                       \n",
       "TCGGCACTCCCACT-1  1488    1  CD14+ Monocytes\n",
       "CCAATGGAGACTAC-1  1015    0  CD14+ Monocytes\n",
       "CATGTTACTGTCTT-1  1244    1  CD14+ Monocytes\n",
       "GACTCCTGTATCTC-1  1244    0  CD14+ Monocytes\n",
       "CACTAGGACAACCA-1  1244    1  CD14+ Monocytes"
      ]
     },
     "execution_count": 22,
     "metadata": {},
     "output_type": "execute_result"
    }
   ],
   "source": [
    "adata.obs[['ind', 'stim', 'cell']].sample(5)"
   ]
  },
  {
   "cell_type": "markdown",
   "metadata": {},
   "source": [
    "### Create groups for hypothesis testing and compute 1D parameters\n",
    "\n",
    "`memento` creates groups of cells based on anything that should be considered a reasonable group; here, we just divide the cells into `stim` and `ctrl`. But we can easily further divide the cells into individuals by adding the `ind` column to the `label_columns` argument when calling `create_groups`.\n",
    "\n",
    "Values in the `q_column` is the rough estimate of the overall UMI efficiency across both sampling and sequencing. If `s` is the sequencing saturation, multiply `s` by 0.07 for 10X v1, 0.15 for v2, and 0.25 for v3. This allows you to enter different numbers for each batch, which likely have different saturation numbers. This will NOT account for wildly different sequencing scenarios.\n",
    "\n",
    "By default, `memento` will consider all genes whose expression is high enough to calculate an accurate variance. If you wish to include less genes, increase `filter_mean_thresh`."
   ]
  },
  {
   "cell_type": "code",
   "execution_count": 23,
   "metadata": {},
   "outputs": [],
   "source": [
    "from scipy.sparse.csr import csr_matrix"
   ]
  },
  {
   "cell_type": "code",
   "execution_count": 24,
   "metadata": {},
   "outputs": [
    {
     "data": {
      "text/plain": [
       "True"
      ]
     },
     "execution_count": 24,
     "metadata": {},
     "output_type": "execute_result"
    }
   ],
   "source": [
    "type(adata.X) == csr_matrix"
   ]
  },
  {
   "cell_type": "code",
   "execution_count": 25,
   "metadata": {},
   "outputs": [],
   "source": [
    "adata.obs['capture_rate'] = 0.07\n",
    "memento.setup_memento(adata, q_column='capture_rate')"
   ]
  },
  {
   "cell_type": "code",
   "execution_count": 26,
   "metadata": {},
   "outputs": [],
   "source": [
    "memento.create_groups(adata, label_columns=['stim', 'patient', 'HA20'])"
   ]
  },
  {
   "cell_type": "code",
   "execution_count": 27,
   "metadata": {},
   "outputs": [],
   "source": [
    "memento.compute_1d_moments(adata,\n",
    "    min_perc_group=.9) # percentage of groups that satisfy the condition for a gene to be considered. "
   ]
  },
  {
   "cell_type": "markdown",
   "metadata": {},
   "source": [
    "### Perform 1D hypothesis testing\n",
    "\n",
    "`formula_like` determines the linear model that is used for hypothesis testing, while `cov_column` is used to pick out the variable that you actually want p-values for. \n",
    "\n",
    "`num_cpus` controls how many CPUs to parallelize this operation for. In general, I recommend using 3-6 CPUs for reasonable peformance on any of the AWS machines that we have access to (I'm currently using a c5.2xlarge instance (8 vCPUs). "
   ]
  },
  {
   "cell_type": "code",
   "execution_count": 28,
   "metadata": {},
   "outputs": [
    {
     "name": "stderr",
     "output_type": "stream",
     "text": [
      "[Parallel(n_jobs=6)]: Using backend LokyBackend with 6 concurrent workers.\n",
      "[Parallel(n_jobs=6)]: Done  38 tasks      | elapsed:    2.5s\n",
      "[Parallel(n_jobs=6)]: Done 294 tasks      | elapsed:    7.9s\n",
      "[Parallel(n_jobs=6)]: Done 794 tasks      | elapsed:   18.2s\n",
      "[Parallel(n_jobs=6)]: Done 1494 tasks      | elapsed:   33.6s\n",
      "[Parallel(n_jobs=6)]: Done 1866 out of 1877 | elapsed:   41.8s remaining:    0.2s\n",
      "[Parallel(n_jobs=6)]: Done 1877 out of 1877 | elapsed:   42.3s finished\n"
     ]
    }
   ],
   "source": [
    "memento.ht_1d_moments(\n",
    "    adata, \n",
    "    formula_like='1 + HA20',\n",
    "    cov_column='HA20', \n",
    "    num_boot=5000, \n",
    "    verbose=1,\n",
    "    num_cpus=6)"
   ]
  },
  {
   "cell_type": "code",
   "execution_count": 29,
   "metadata": {},
   "outputs": [],
   "source": [
    "result_1d = memento.get_1d_ht_result(adata)"
   ]
  },
  {
   "cell_type": "markdown",
   "metadata": {},
   "source": [
    "### Debug the 1d analysis"
   ]
  },
  {
   "cell_type": "code",
   "execution_count": 30,
   "metadata": {},
   "outputs": [],
   "source": [
    "import numpy as np\n",
    "import seaborn as sns"
   ]
  },
  {
   "cell_type": "code",
   "execution_count": 31,
   "metadata": {},
   "outputs": [],
   "source": [
    "a = np.log10(result_1d.query('de_coef > 0').de_pval)\n",
    "b = np.log10(result_1d.query('de_coef < 0').de_pval)"
   ]
  },
  {
   "cell_type": "code",
   "execution_count": 32,
   "metadata": {},
   "outputs": [
    {
     "data": {
      "text/plain": [
       "-2.991615156018528"
      ]
     },
     "execution_count": 32,
     "metadata": {},
     "output_type": "execute_result"
    }
   ],
   "source": [
    "a.mean()"
   ]
  },
  {
   "cell_type": "code",
   "execution_count": 33,
   "metadata": {},
   "outputs": [
    {
     "data": {
      "text/plain": [
       "-2.8942563029686825"
      ]
     },
     "execution_count": 33,
     "metadata": {},
     "output_type": "execute_result"
    }
   ],
   "source": [
    "b.mean()"
   ]
  },
  {
   "cell_type": "code",
   "execution_count": 25,
   "metadata": {},
   "outputs": [
    {
     "data": {
      "text/plain": [
       "<matplotlib.axes._subplots.AxesSubplot at 0x7f6f84288690>"
      ]
     },
     "execution_count": 25,
     "metadata": {},
     "output_type": "execute_result"
    },
    {
     "data": {
      "image/png": "[encoded data removed]",
      "text/plain": [
       "<Figure size 432x288 with 1 Axes>"
      ]
     },
     "metadata": {
      "needs_background": "light"
     },
     "output_type": "display_data"
    }
   ],
   "source": [
    "sns.distplot(a)\n",
    "sns.distplot(b)"
   ]
  },
  {
   "cell_type": "code",
   "execution_count": null,
   "metadata": {},
   "outputs": [],
   "source": []
  },
  {
   "cell_type": "code",
   "execution_count": 21,
   "metadata": {},
   "outputs": [
    {
     "data": {
      "text/plain": [
       "<matplotlib.collections.PathCollection at 0x7f6ae836ecd0>"
      ]
     },
     "execution_count": 21,
     "metadata": {},
     "output_type": "execute_result"
    },
    {
     "data": {
      "image/png": "[encoded data removed]",
      "text/plain": [
       "<Figure size 432x288 with 1 Axes>"
      ]
     },
     "metadata": {
      "needs_background": "light"
     },
     "output_type": "display_data"
    }
   ],
   "source": [
    "plt.scatter(result_1d.de_coef, result_1d.dv_coef, s=1)"
   ]
  },
  {
   "cell_type": "code",
   "execution_count": 16,
   "metadata": {},
   "outputs": [
    {
     "data": {
      "text/html": [
       "<div>\n",
       "<style scoped>\n",
       "    .dataframe tbody tr th:only-of-type {\n",
       "        vertical-align: middle;\n",
       "    }\n",
       "\n",
       "    .dataframe tbody tr th {\n",
       "        vertical-align: top;\n",
       "    }\n",
       "\n",
       "    .dataframe thead th {\n",
       "        text-align: right;\n",
       "    }\n",
       "</style>\n",
       "<table border=\"1\" class=\"dataframe\">\n",
       "  <thead>\n",
       "    <tr style=\"text-align: right;\">\n",
       "      <th></th>\n",
       "      <th>gene</th>\n",
       "      <th>de_coef</th>\n",
       "      <th>de_se</th>\n",
       "      <th>de_pval</th>\n",
       "      <th>dv_coef</th>\n",
       "      <th>dv_se</th>\n",
       "      <th>dv_pval</th>\n",
       "    </tr>\n",
       "  </thead>\n",
       "  <tbody>\n",
       "    <tr>\n",
       "      <th>1729</th>\n",
       "      <td>BST2</td>\n",
       "      <td>1.619183</td>\n",
       "      <td>0.030240</td>\n",
       "      <td>4.726042e-11</td>\n",
       "      <td>-1.111678</td>\n",
       "      <td>0.132104</td>\n",
       "      <td>9.192075e-11</td>\n",
       "    </tr>\n",
       "    <tr>\n",
       "      <th>1269</th>\n",
       "      <td>EPSTI1</td>\n",
       "      <td>2.131654</td>\n",
       "      <td>0.050375</td>\n",
       "      <td>3.767094e-10</td>\n",
       "      <td>-1.025535</td>\n",
       "      <td>0.190488</td>\n",
       "      <td>1.490294e-06</td>\n",
       "    </tr>\n",
       "    <tr>\n",
       "      <th>37</th>\n",
       "      <td>IFI6</td>\n",
       "      <td>2.743425</td>\n",
       "      <td>0.043400</td>\n",
       "      <td>2.312530e-09</td>\n",
       "      <td>-2.180335</td>\n",
       "      <td>0.119523</td>\n",
       "      <td>1.470124e-18</td>\n",
       "    </tr>\n",
       "    <tr>\n",
       "      <th>323</th>\n",
       "      <td>CFLAR</td>\n",
       "      <td>1.569806</td>\n",
       "      <td>0.045022</td>\n",
       "      <td>8.472543e-09</td>\n",
       "      <td>0.168627</td>\n",
       "      <td>0.219047</td>\n",
       "      <td>4.401120e-01</td>\n",
       "    </tr>\n",
       "    <tr>\n",
       "      <th>1527</th>\n",
       "      <td>CCL2</td>\n",
       "      <td>1.480777</td>\n",
       "      <td>0.044956</td>\n",
       "      <td>2.187164e-08</td>\n",
       "      <td>-1.518922</td>\n",
       "      <td>0.056469</td>\n",
       "      <td>2.265698e-31</td>\n",
       "    </tr>\n",
       "    <tr>\n",
       "      <th>455</th>\n",
       "      <td>LAP3</td>\n",
       "      <td>1.667709</td>\n",
       "      <td>0.041296</td>\n",
       "      <td>3.631985e-08</td>\n",
       "      <td>-1.000204</td>\n",
       "      <td>0.132875</td>\n",
       "      <td>4.097712e-10</td>\n",
       "    </tr>\n",
       "    <tr>\n",
       "      <th>1831</th>\n",
       "      <td>APOBEC3A</td>\n",
       "      <td>3.580056</td>\n",
       "      <td>0.053504</td>\n",
       "      <td>3.923568e-08</td>\n",
       "      <td>-2.047863</td>\n",
       "      <td>0.135064</td>\n",
       "      <td>1.466759e-24</td>\n",
       "    </tr>\n",
       "    <tr>\n",
       "      <th>521</th>\n",
       "      <td>SGTB</td>\n",
       "      <td>1.255900</td>\n",
       "      <td>0.074715</td>\n",
       "      <td>4.663923e-08</td>\n",
       "      <td>-0.824173</td>\n",
       "      <td>0.491792</td>\n",
       "      <td>1.031794e-01</td>\n",
       "    </tr>\n",
       "    <tr>\n",
       "      <th>1041</th>\n",
       "      <td>IRF7</td>\n",
       "      <td>2.082097</td>\n",
       "      <td>0.036321</td>\n",
       "      <td>6.516547e-08</td>\n",
       "      <td>-0.571581</td>\n",
       "      <td>0.165578</td>\n",
       "      <td>1.033833e-04</td>\n",
       "    </tr>\n",
       "    <tr>\n",
       "      <th>876</th>\n",
       "      <td>IDO1</td>\n",
       "      <td>3.935713</td>\n",
       "      <td>0.093375</td>\n",
       "      <td>8.349652e-08</td>\n",
       "      <td>-2.081958</td>\n",
       "      <td>0.134573</td>\n",
       "      <td>4.953888e-20</td>\n",
       "    </tr>\n",
       "  </tbody>\n",
       "</table>\n",
       "</div>"
      ],
      "text/plain": [
       "          gene   de_coef     de_se       de_pval   dv_coef     dv_se  \\\n",
       "1729      BST2  1.619183  0.030240  4.726042e-11 -1.111678  0.132104   \n",
       "1269    EPSTI1  2.131654  0.050375  3.767094e-10 -1.025535  0.190488   \n",
       "37        IFI6  2.743425  0.043400  2.312530e-09 -2.180335  0.119523   \n",
       "323      CFLAR  1.569806  0.045022  8.472543e-09  0.168627  0.219047   \n",
       "1527      CCL2  1.480777  0.044956  2.187164e-08 -1.518922  0.056469   \n",
       "455       LAP3  1.667709  0.041296  3.631985e-08 -1.000204  0.132875   \n",
       "1831  APOBEC3A  3.580056  0.053504  3.923568e-08 -2.047863  0.135064   \n",
       "521       SGTB  1.255900  0.074715  4.663923e-08 -0.824173  0.491792   \n",
       "1041      IRF7  2.082097  0.036321  6.516547e-08 -0.571581  0.165578   \n",
       "876       IDO1  3.935713  0.093375  8.349652e-08 -2.081958  0.134573   \n",
       "\n",
       "           dv_pval  \n",
       "1729  9.192075e-11  \n",
       "1269  1.490294e-06  \n",
       "37    1.470124e-18  \n",
       "323   4.401120e-01  \n",
       "1527  2.265698e-31  \n",
       "455   4.097712e-10  \n",
       "1831  1.466759e-24  \n",
       "521   1.031794e-01  \n",
       "1041  1.033833e-04  \n",
       "876   4.953888e-20  "
      ]
     },
     "execution_count": 16,
     "metadata": {},
     "output_type": "execute_result"
    }
   ],
   "source": [
    "result_1d.query('de_coef > 0').sort_values('de_pval').head(10)"
   ]
  },
  {
   "cell_type": "code",
   "execution_count": 22,
   "metadata": {},
   "outputs": [
    {
     "data": {
      "text/html": [
       "<div>\n",
       "<style scoped>\n",
       "    .dataframe tbody tr th:only-of-type {\n",
       "        vertical-align: middle;\n",
       "    }\n",
       "\n",
       "    .dataframe tbody tr th {\n",
       "        vertical-align: top;\n",
       "    }\n",
       "\n",
       "    .dataframe thead th {\n",
       "        text-align: right;\n",
       "    }\n",
       "</style>\n",
       "<table border=\"1\" class=\"dataframe\">\n",
       "  <thead>\n",
       "    <tr style=\"text-align: right;\">\n",
       "      <th></th>\n",
       "      <th>gene</th>\n",
       "      <th>de_coef</th>\n",
       "      <th>de_se</th>\n",
       "      <th>de_pval</th>\n",
       "      <th>dv_coef</th>\n",
       "      <th>dv_se</th>\n",
       "      <th>dv_pval</th>\n",
       "    </tr>\n",
       "  </thead>\n",
       "  <tbody>\n",
       "    <tr>\n",
       "      <th>1537</th>\n",
       "      <td>CCR7</td>\n",
       "      <td>0.885639</td>\n",
       "      <td>0.131895</td>\n",
       "      <td>3.107375e-04</td>\n",
       "      <td>0.989507</td>\n",
       "      <td>0.228534</td>\n",
       "      <td>0.000854</td>\n",
       "    </tr>\n",
       "    <tr>\n",
       "      <th>1827</th>\n",
       "      <td>LGALS2</td>\n",
       "      <td>1.260535</td>\n",
       "      <td>0.077643</td>\n",
       "      <td>6.922026e-04</td>\n",
       "      <td>0.777082</td>\n",
       "      <td>0.163837</td>\n",
       "      <td>0.001293</td>\n",
       "    </tr>\n",
       "    <tr>\n",
       "      <th>114</th>\n",
       "      <td>RHOC</td>\n",
       "      <td>0.196268</td>\n",
       "      <td>0.074374</td>\n",
       "      <td>6.198760e-03</td>\n",
       "      <td>1.256302</td>\n",
       "      <td>0.357530</td>\n",
       "      <td>0.001357</td>\n",
       "    </tr>\n",
       "    <tr>\n",
       "      <th>171</th>\n",
       "      <td>FCER1G</td>\n",
       "      <td>0.040256</td>\n",
       "      <td>0.015372</td>\n",
       "      <td>8.998200e-03</td>\n",
       "      <td>0.273272</td>\n",
       "      <td>0.066242</td>\n",
       "      <td>0.001362</td>\n",
       "    </tr>\n",
       "    <tr>\n",
       "      <th>811</th>\n",
       "      <td>SAT1</td>\n",
       "      <td>1.165683</td>\n",
       "      <td>0.023603</td>\n",
       "      <td>2.974826e-07</td>\n",
       "      <td>0.581353</td>\n",
       "      <td>0.155072</td>\n",
       "      <td>0.001669</td>\n",
       "    </tr>\n",
       "    <tr>\n",
       "      <th>1258</th>\n",
       "      <td>SAP18</td>\n",
       "      <td>0.674537</td>\n",
       "      <td>0.029913</td>\n",
       "      <td>1.014309e-05</td>\n",
       "      <td>0.864380</td>\n",
       "      <td>0.244811</td>\n",
       "      <td>0.002799</td>\n",
       "    </tr>\n",
       "    <tr>\n",
       "      <th>1392</th>\n",
       "      <td>RPS27L</td>\n",
       "      <td>0.275792</td>\n",
       "      <td>0.046837</td>\n",
       "      <td>2.273660e-04</td>\n",
       "      <td>0.500192</td>\n",
       "      <td>0.165548</td>\n",
       "      <td>0.003599</td>\n",
       "    </tr>\n",
       "    <tr>\n",
       "      <th>1309</th>\n",
       "      <td>FAM177A1</td>\n",
       "      <td>0.767690</td>\n",
       "      <td>0.045756</td>\n",
       "      <td>1.575407e-05</td>\n",
       "      <td>1.380380</td>\n",
       "      <td>0.302860</td>\n",
       "      <td>0.005388</td>\n",
       "    </tr>\n",
       "    <tr>\n",
       "      <th>601</th>\n",
       "      <td>SERPINB1</td>\n",
       "      <td>1.089864</td>\n",
       "      <td>0.048661</td>\n",
       "      <td>6.245676e-06</td>\n",
       "      <td>0.487953</td>\n",
       "      <td>0.179763</td>\n",
       "      <td>0.008798</td>\n",
       "    </tr>\n",
       "    <tr>\n",
       "      <th>1206</th>\n",
       "      <td>DDIT3</td>\n",
       "      <td>0.462501</td>\n",
       "      <td>0.079067</td>\n",
       "      <td>9.886858e-04</td>\n",
       "      <td>0.800743</td>\n",
       "      <td>0.304791</td>\n",
       "      <td>0.012797</td>\n",
       "    </tr>\n",
       "  </tbody>\n",
       "</table>\n",
       "</div>"
      ],
      "text/plain": [
       "          gene   de_coef     de_se       de_pval   dv_coef     dv_se   dv_pval\n",
       "1537      CCR7  0.885639  0.131895  3.107375e-04  0.989507  0.228534  0.000854\n",
       "1827    LGALS2  1.260535  0.077643  6.922026e-04  0.777082  0.163837  0.001293\n",
       "114       RHOC  0.196268  0.074374  6.198760e-03  1.256302  0.357530  0.001357\n",
       "171     FCER1G  0.040256  0.015372  8.998200e-03  0.273272  0.066242  0.001362\n",
       "811       SAT1  1.165683  0.023603  2.974826e-07  0.581353  0.155072  0.001669\n",
       "1258     SAP18  0.674537  0.029913  1.014309e-05  0.864380  0.244811  0.002799\n",
       "1392    RPS27L  0.275792  0.046837  2.273660e-04  0.500192  0.165548  0.003599\n",
       "1309  FAM177A1  0.767690  0.045756  1.575407e-05  1.380380  0.302860  0.005388\n",
       "601   SERPINB1  1.089864  0.048661  6.245676e-06  0.487953  0.179763  0.008798\n",
       "1206     DDIT3  0.462501  0.079067  9.886858e-04  0.800743  0.304791  0.012797"
      ]
     },
     "execution_count": 22,
     "metadata": {},
     "output_type": "execute_result"
    }
   ],
   "source": [
    "result_1d.query('dv_coef > 0 & de_coef > 0').sort_values('dv_pval').head(10)"
   ]
  },
  {
   "cell_type": "markdown",
   "metadata": {},
   "source": [
    "### Perform 2D hypothesis testing\n",
    "\n",
    "For differential coexpression testing, we can specify which genes you want to perform HT on. It takes a list of pairs of genes, where each element in the list is a tuple. Here, we focus on 1 transcription factor and their correlations to rest of the transcriptome. \n",
    "\n",
    "Similar to the 1D case, 2D hypothesis testing scales with the number of pairs of genes to test. If you have a smaller set of candidate genes, it will run faster."
   ]
  },
  {
   "cell_type": "code",
   "execution_count": 27,
   "metadata": {},
   "outputs": [],
   "source": [
    "import itertools"
   ]
  },
  {
   "cell_type": "code",
   "execution_count": 28,
   "metadata": {},
   "outputs": [],
   "source": [
    "gene_pairs = list(itertools.product(['IRF7'], adata.var.index.tolist()))"
   ]
  },
  {
   "cell_type": "code",
   "execution_count": 29,
   "metadata": {},
   "outputs": [],
   "source": [
    "memento.compute_2d_moments(adata, gene_pairs)"
   ]
  },
  {
   "cell_type": "code",
   "execution_count": 30,
   "metadata": {},
   "outputs": [
    {
     "name": "stderr",
     "output_type": "stream",
     "text": [
      "[Parallel(n_jobs=13)]: Using backend LokyBackend with 13 concurrent workers.\n",
      "[Parallel(n_jobs=13)]: Done   6 tasks      | elapsed:    2.6s\n",
      "[Parallel(n_jobs=13)]: Done 102 tasks      | elapsed:    7.9s\n",
      "[Parallel(n_jobs=13)]: Done 262 tasks      | elapsed:   16.2s\n",
      "[Parallel(n_jobs=13)]: Done 486 tasks      | elapsed:   27.3s\n",
      "[Parallel(n_jobs=13)]: Done 774 tasks      | elapsed:   42.9s\n",
      "[Parallel(n_jobs=13)]: Done 1126 tasks      | elapsed:  1.0min\n",
      "[Parallel(n_jobs=13)]: Done 1542 tasks      | elapsed:  1.4min\n",
      "[Parallel(n_jobs=13)]: Done 1876 out of 1876 | elapsed:  1.7min finished\n"
     ]
    }
   ],
   "source": [
    "memento.ht_2d_moments(\n",
    "    adata, \n",
    "    formula_like='1 + HA20', \n",
    "    cov_column='HA20', \n",
    "    num_cpus=13, \n",
    "    num_boot=5000)"
   ]
  },
  {
   "cell_type": "code",
   "execution_count": 31,
   "metadata": {},
   "outputs": [],
   "source": [
    "result_2d = memento.get_2d_ht_result(adata)"
   ]
  },
  {
   "cell_type": "code",
   "execution_count": 32,
   "metadata": {},
   "outputs": [
    {
     "data": {
      "text/html": [
       "<div>\n",
       "<style scoped>\n",
       "    .dataframe tbody tr th:only-of-type {\n",
       "        vertical-align: middle;\n",
       "    }\n",
       "\n",
       "    .dataframe tbody tr th {\n",
       "        vertical-align: top;\n",
       "    }\n",
       "\n",
       "    .dataframe thead th {\n",
       "        text-align: right;\n",
       "    }\n",
       "</style>\n",
       "<table border=\"1\" class=\"dataframe\">\n",
       "  <thead>\n",
       "    <tr style=\"text-align: right;\">\n",
       "      <th></th>\n",
       "      <th>gene_1</th>\n",
       "      <th>gene_2</th>\n",
       "      <th>corr_coef</th>\n",
       "      <th>corr_se</th>\n",
       "      <th>corr_pval</th>\n",
       "    </tr>\n",
       "  </thead>\n",
       "  <tbody>\n",
       "    <tr>\n",
       "      <th>574</th>\n",
       "      <td>IRF7</td>\n",
       "      <td>CD74</td>\n",
       "      <td>0.316101</td>\n",
       "      <td>0.046624</td>\n",
       "      <td>0.000201</td>\n",
       "    </tr>\n",
       "    <tr>\n",
       "      <th>638</th>\n",
       "      <td>IRF7</td>\n",
       "      <td>HLA-DRA</td>\n",
       "      <td>0.245894</td>\n",
       "      <td>0.045615</td>\n",
       "      <td>0.000273</td>\n",
       "    </tr>\n",
       "    <tr>\n",
       "      <th>317</th>\n",
       "      <td>IRF7</td>\n",
       "      <td>HSPD1</td>\n",
       "      <td>0.252647</td>\n",
       "      <td>0.069947</td>\n",
       "      <td>0.000318</td>\n",
       "    </tr>\n",
       "    <tr>\n",
       "      <th>158</th>\n",
       "      <td>IRF7</td>\n",
       "      <td>LMNA</td>\n",
       "      <td>0.311323</td>\n",
       "      <td>0.065483</td>\n",
       "      <td>0.000403</td>\n",
       "    </tr>\n",
       "    <tr>\n",
       "      <th>1148</th>\n",
       "      <td>IRF7</td>\n",
       "      <td>HSPA8</td>\n",
       "      <td>0.275049</td>\n",
       "      <td>0.057528</td>\n",
       "      <td>0.000454</td>\n",
       "    </tr>\n",
       "    <tr>\n",
       "      <th>74</th>\n",
       "      <td>IRF7</td>\n",
       "      <td>PRDX1</td>\n",
       "      <td>0.269491</td>\n",
       "      <td>0.059490</td>\n",
       "      <td>0.000552</td>\n",
       "    </tr>\n",
       "    <tr>\n",
       "      <th>943</th>\n",
       "      <td>IRF7</td>\n",
       "      <td>CTSL</td>\n",
       "      <td>0.203125</td>\n",
       "      <td>0.044701</td>\n",
       "      <td>0.000567</td>\n",
       "    </tr>\n",
       "    <tr>\n",
       "      <th>1815</th>\n",
       "      <td>IRF7</td>\n",
       "      <td>SDF2L1</td>\n",
       "      <td>0.306280</td>\n",
       "      <td>0.060610</td>\n",
       "      <td>0.000662</td>\n",
       "    </tr>\n",
       "    <tr>\n",
       "      <th>1406</th>\n",
       "      <td>IRF7</td>\n",
       "      <td>PKM</td>\n",
       "      <td>0.308369</td>\n",
       "      <td>0.068599</td>\n",
       "      <td>0.000694</td>\n",
       "    </tr>\n",
       "    <tr>\n",
       "      <th>641</th>\n",
       "      <td>IRF7</td>\n",
       "      <td>HLA-DQA1</td>\n",
       "      <td>0.278193</td>\n",
       "      <td>0.055818</td>\n",
       "      <td>0.000717</td>\n",
       "    </tr>\n",
       "  </tbody>\n",
       "</table>\n",
       "</div>"
      ],
      "text/plain": [
       "     gene_1    gene_2  corr_coef   corr_se  corr_pval\n",
       "574    IRF7      CD74   0.316101  0.046624   0.000201\n",
       "638    IRF7   HLA-DRA   0.245894  0.045615   0.000273\n",
       "317    IRF7     HSPD1   0.252647  0.069947   0.000318\n",
       "158    IRF7      LMNA   0.311323  0.065483   0.000403\n",
       "1148   IRF7     HSPA8   0.275049  0.057528   0.000454\n",
       "74     IRF7     PRDX1   0.269491  0.059490   0.000552\n",
       "943    IRF7      CTSL   0.203125  0.044701   0.000567\n",
       "1815   IRF7    SDF2L1   0.306280  0.060610   0.000662\n",
       "1406   IRF7       PKM   0.308369  0.068599   0.000694\n",
       "641    IRF7  HLA-DQA1   0.278193  0.055818   0.000717"
      ]
     },
     "execution_count": 32,
     "metadata": {},
     "output_type": "execute_result"
    }
   ],
   "source": [
    "result_2d.sort_values('corr_pval').head(10)"
   ]
  },
  {
   "cell_type": "markdown",
   "metadata": {},
   "source": [
    "### Save your results\n",
    "\n",
    "There are some objects within `memento` that doesn't play nice with scanpy. So just give it a heads up with the `prepare_to_save` function."
   ]
  },
  {
   "cell_type": "code",
   "execution_count": 13,
   "metadata": {},
   "outputs": [],
   "source": [
    "memento.prepare_to_save(adata)"
   ]
  },
  {
   "cell_type": "code",
   "execution_count": 15,
   "metadata": {},
   "outputs": [
    {
     "name": "stderr",
     "output_type": "stream",
     "text": [
      "... storing 'memento_group' as categorical\n"
     ]
    }
   ],
   "source": [
    "adata.write(data_path + 'ifn_tutorial.h5ad')"
   ]
  }
 ],
 "metadata": {
  "kernelspec": {
   "display_name": "Python 3",
   "language": "python",
   "name": "python3"
  },
  "language_info": {
   "codemirror_mode": {
    "name": "ipython",
    "version": 3
   },
   "file_extension": ".py",
   "mimetype": "text/x-python",
   "name": "python",
   "nbconvert_exporter": "python",
   "pygments_lexer": "ipython3",
   "version": "3.8.8"
  }
 },
 "nbformat": 4,
 "nbformat_minor": 4
}
