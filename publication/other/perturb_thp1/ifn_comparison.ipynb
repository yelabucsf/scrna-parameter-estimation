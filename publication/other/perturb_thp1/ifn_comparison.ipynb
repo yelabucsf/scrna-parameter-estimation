{
 "cells": [
  {
   "cell_type": "markdown",
   "id": "focused-machinery",
   "metadata": {},
   "source": [
    "# ECCITE 1D Analysis"
   ]
  },
  {
   "cell_type": "code",
   "execution_count": 1,
   "id": "instant-australian",
   "metadata": {},
   "outputs": [],
   "source": [
    "import scanpy as sc\n",
    "import seaborn as sns\n",
    "import pandas as pd\n",
    "import matplotlib.pyplot as plt\n",
    "import numpy as np\n",
    "import scipy.stats as stats\n",
    "import itertools\n",
    "from pybedtools import BedTool\n",
    "import os\n",
    "import pickle as pkl\n",
    "%matplotlib inline"
   ]
  },
  {
   "cell_type": "code",
   "execution_count": 2,
   "id": "domestic-crime",
   "metadata": {},
   "outputs": [],
   "source": [
    "pd.set_option('max_columns', None)"
   ]
  },
  {
   "cell_type": "code",
   "execution_count": 3,
   "id": "technical-scotland",
   "metadata": {},
   "outputs": [],
   "source": [
    "import sys\n",
    "sys.path.append('/home/ssm-user/Github/scrna-parameter-estimation/dist/memento-0.0.6-py3.8.egg')\n",
    "sys.path.append('/home/ssm-user/Github/misc-seq/miscseq/')\n",
    "import encode\n",
    "import memento"
   ]
  },
  {
   "cell_type": "code",
   "execution_count": 4,
   "id": "stable-summer",
   "metadata": {},
   "outputs": [],
   "source": [
    "import matplotlib.pylab as pylab\n",
    "params = {'legend.fontsize': 'medium',\n",
    "         'axes.labelsize': 'medium',\n",
    "         'axes.titlesize':'medium',\n",
    "         'figure.titlesize':'medium',\n",
    "         'xtick.labelsize':'medium',\n",
    "         'ytick.labelsize':'medium'}\n",
    "pylab.rcParams.update(params)"
   ]
  },
  {
   "cell_type": "code",
   "execution_count": 5,
   "id": "otherwise-individual",
   "metadata": {},
   "outputs": [],
   "source": [
    "data_path = '/data_volume/memento/eccite/'"
   ]
  },
  {
   "cell_type": "markdown",
   "id": "olympic-password",
   "metadata": {},
   "source": [
    "### Read the guide labled perturb-seq data\n",
    "\n",
    "From perturbseq paper"
   ]
  },
  {
   "cell_type": "code",
   "execution_count": 6,
   "id": "together-nutrition",
   "metadata": {},
   "outputs": [],
   "source": [
    "adata = sc.read(data_path + 'eccite.h5ad')\n",
    "adata.var.index.name=None"
   ]
  },
  {
   "cell_type": "code",
   "execution_count": 7,
   "id": "coastal-valentine",
   "metadata": {},
   "outputs": [],
   "source": [
    "# guides = adata.obs.guides.drop_duplicates().tolist()\n",
    "# guides = [g for g in guides if ('INTER' not in g and 'nan' not in g)]\n",
    "# ko_genes = adata.obs.query('KO == 1')['KO_GENE'].drop_duplicates().tolist()"
   ]
  },
  {
   "cell_type": "markdown",
   "id": "abroad-avatar",
   "metadata": {},
   "source": [
    "### Setup memento"
   ]
  },
  {
   "cell_type": "code",
   "execution_count": 8,
   "id": "searching-chassis",
   "metadata": {},
   "outputs": [],
   "source": [
    "adata.obs['q'] = 0.15"
   ]
  },
  {
   "cell_type": "code",
   "execution_count": 9,
   "id": "pleased-trade",
   "metadata": {},
   "outputs": [
    {
     "name": "stdout",
     "output_type": "stream",
     "text": [
      "Version 0.0.6\n"
     ]
    },
    {
     "name": "stderr",
     "output_type": "stream",
     "text": [
      "/home/ssm-user/Github/scrna-parameter-estimation/dist/memento-0.0.6-py3.8.egg/memento/main.py:70: RankWarning: Polyfit may be poorly conditioned\n"
     ]
    }
   ],
   "source": [
    "memento.setup_memento(adata, q_column='q', filter_mean_thresh=0.07)"
   ]
  },
  {
   "cell_type": "code",
   "execution_count": 10,
   "id": "monthly-realtor",
   "metadata": {},
   "outputs": [],
   "source": [
    "ko_genes = adata.obs.gene.drop_duplicates().tolist()"
   ]
  },
  {
   "cell_type": "markdown",
   "id": "prime-midnight",
   "metadata": {},
   "source": [
    "### HBEC"
   ]
  },
  {
   "cell_type": "code",
   "execution_count": 11,
   "id": "rational-renewal",
   "metadata": {},
   "outputs": [],
   "source": [
    "adata_hbec = sc.read('/data_volume/memento/hbec/binary_test_latest/C_gamma_3.h5ad')"
   ]
  },
  {
   "cell_type": "code",
   "execution_count": 12,
   "id": "fossil-kingdom",
   "metadata": {},
   "outputs": [],
   "source": [
    "hbec_ht = memento.get_1d_ht_result(adata_hbec)\n",
    "hbec_ht['dv_fdr'] = memento.util._fdrcorrect(hbec_ht['dv_pval'])\n",
    "hbec_ht['de_fdr'] = memento.util._fdrcorrect(hbec_ht['de_pval'])"
   ]
  },
  {
   "cell_type": "code",
   "execution_count": 14,
   "id": "expensive-atlanta",
   "metadata": {},
   "outputs": [
    {
     "data": {
      "text/plain": [
       "Text(0.5, 1.0, 'Effect of IFN$\\\\gamma$ (WT ctrl -> WT stim)')"
      ]
     },
     "execution_count": 14,
     "metadata": {},
     "output_type": "execute_result"
    },
    {
     "data": {
      "image/png": "[encoded data removed]",
      "text/plain": [
       "<Figure size 180x144 with 1 Axes>"
      ]
     },
     "metadata": {
      "needs_background": "light"
     },
     "output_type": "display_data"
    }
   ],
   "source": [
    "plt.figure(figsize=(2.5,2))\n",
    "\n",
    "plt.scatter(hbec_ht['de_coef'], hbec_ht['dv_coef'], s=1)\n",
    "plt.scatter(\n",
    "    hbec_ht.query('dv_fdr < 0.1 & dv_coef < 0 & de_coef > 0 & de_fdr < 0.05')['de_coef'], \n",
    "    hbec_ht.query('dv_fdr < 0.1 & dv_coef < 0 & de_coef > 0 & de_fdr < 0.05')['dv_coef'], s=5)\n",
    "plt.ylim(-2.9, 3)\n",
    "plt.xlabel('Change in mean'); plt.ylabel('Change in variability')\n",
    "plt.title(r'Effect of IFN$\\gamma$ (WT ctrl -> WT stim)')\n",
    "# plt.savefig('figures/C_gamma_3hr_1d.png'.format(tf), bbox_inches='tight', dpi=800)"
   ]
  },
  {
   "cell_type": "markdown",
   "id": "substantial-tragedy",
   "metadata": {},
   "source": [
    "### ECCITE"
   ]
  },
  {
   "cell_type": "code",
   "execution_count": 15,
   "id": "mighty-blond",
   "metadata": {},
   "outputs": [],
   "source": [
    "results = {}\n",
    "for g in ko_genes:\n",
    "#     print(g)\n",
    "    if g == 'NT': continue\n",
    "    subset = sc.read(data_path +'1d/{}_guides_rep.h5ad'.format(g))\n",
    "    df = memento.get_1d_ht_result(subset)\n",
    "    df['de_fdr'] = memento.util._fdrcorrect(df['de_pval'])\n",
    "    df['dv_fdr'] = memento.util._fdrcorrect(df['dv_pval'])\n",
    "    results[g] = df.copy()"
   ]
  },
  {
   "cell_type": "code",
   "execution_count": null,
   "id": "supported-pizza",
   "metadata": {},
   "outputs": [],
   "source": [
    "# for g in ko_genes:\n",
    "#     print(g, results[g].query('de_fdr < 0.1').shape[0],results[g].query('dv_fdr < 0.1').shape[0])"
   ]
  },
  {
   "cell_type": "code",
   "execution_count": 172,
   "id": "intermediate-department",
   "metadata": {},
   "outputs": [
    {
     "data": {
      "image/png": "[encoded data removed]",
      "text/plain": [
       "<Figure size 180x144 with 1 Axes>"
      ]
     },
     "metadata": {
      "needs_background": "light"
     },
     "output_type": "display_data"
    }
   ],
   "source": [
    "tf = 'IRF1'\n",
    "plt.figure(figsize=(2.5,2))\n",
    "plt.scatter(results[tf]['de_coef'], results[tf]['dv_coef'], s=1)\n",
    "plt.title('Effect of {} KO (WT stim -> KO stim)'.format(tf));\n",
    "plt.xlabel('Change in mean'); plt.ylabel('Change in variability')\n",
    "plt.scatter(results[tf].query('dv_fdr < 0.1 & dv_coef > 0')['de_coef'], results[tf].query('dv_fdr < 0.1 & dv_coef > 0')['dv_coef'], s=5)\n",
    "# plt.scatter(results[tf].query('dv_fdr < 0.1 & dv_coef < 0')['de_coef'], results[tf].query('dv_fdr < 0.1 & dv_coef < 0')['dv_coef'], s=5)\n",
    "\n",
    "plt.savefig('figures/variability_{}.png'.format(tf), bbox_inches='tight', dpi=800)"
   ]
  },
  {
   "cell_type": "code",
   "execution_count": 16,
   "id": "seventh-requirement",
   "metadata": {},
   "outputs": [
    {
     "data": {
      "text/plain": [
       "<matplotlib.collections.PathCollection at 0x7fd67d69c5b0>"
      ]
     },
     "execution_count": 16,
     "metadata": {},
     "output_type": "execute_result"
    },
    {
     "data": {
      "image/png": "[encoded data removed]",
      "text/plain": [
       "<Figure size 180x144 with 1 Axes>"
      ]
     },
     "metadata": {
      "needs_background": "light"
     },
     "output_type": "display_data"
    }
   ],
   "source": [
    "plt.figure(figsize=(2.5,2))\n",
    "plt.scatter(results['STAT1']['de_coef'], results['STAT1']['dv_coef'], s=0.1)\n",
    "plt.title('Effect of STAT1 KO');\n",
    "plt.xlabel('Change in mean'); plt.ylabel('Change in variability')\n",
    "plt.scatter(results['STAT1'].query('dv_fdr < 0.1 & dv_coef > 0')['de_coef'], results['STAT1'].query('dv_fdr < 0.1 & dv_coef > 0')['dv_coef'], s=1)\n",
    "# plt.savefig('figures/variability.png', bbox_inches='tight', dpi=800)"
   ]
  },
  {
   "cell_type": "markdown",
   "id": "promising-acrylic",
   "metadata": {},
   "source": [
    "### Comparison"
   ]
  },
  {
   "cell_type": "code",
   "execution_count": 16,
   "id": "popular-decimal",
   "metadata": {},
   "outputs": [
    {
     "data": {
      "text/plain": [
       "dict_keys(['STAT2', 'CAV1', 'STAT1', 'CD86', 'IRF7', 'ATF2', 'STAT3', 'JAK2', 'NFKBIA', 'SMAD4', 'STAT5A', 'CMTM6', 'IFNGR1', 'UBE2L6', 'PDCD1LG2', 'CUL3', 'BRD4', 'MARCH8', 'IRF1', 'POU2F2', 'ETV7', 'IFNGR2', 'TNFRSF14', 'SPI1', 'MYC'])"
      ]
     },
     "execution_count": 16,
     "metadata": {},
     "output_type": "execute_result"
    }
   ],
   "source": [
    "results.keys()"
   ]
  },
  {
   "cell_type": "code",
   "execution_count": 17,
   "id": "artistic-patrick",
   "metadata": {},
   "outputs": [],
   "source": [
    "isgs = hbec_ht.query('dv_fdr < 0.1 & dv_coef < 0 & de_coef > 0 & de_fdr < 0.05').gene.tolist()\n",
    "isgs = hbec_ht.query('de_coef > 0 & de_fdr < 0.05').gene.tolist()"
   ]
  },
  {
   "cell_type": "code",
   "execution_count": 18,
   "id": "allied-manual",
   "metadata": {},
   "outputs": [],
   "source": [
    "merged = hbec_ht.merge(results['STAT1'], on='gene', suffixes=('_stim', '_ko')).query('gene in @isgs')"
   ]
  },
  {
   "cell_type": "code",
   "execution_count": 19,
   "id": "approved-budget",
   "metadata": {},
   "outputs": [
    {
     "data": {
      "text/plain": [
       "(-0.2003800254222431, 4.7569473477500374e-08)"
      ]
     },
     "execution_count": 19,
     "metadata": {},
     "output_type": "execute_result"
    }
   ],
   "source": [
    "stats.pearsonr(merged['dv_coef_stim'], merged['dv_coef_ko'])"
   ]
  },
  {
   "cell_type": "code",
   "execution_count": 20,
   "id": "extended-passage",
   "metadata": {},
   "outputs": [
    {
     "data": {
      "text/plain": [
       "(-0.6138817577049791, 8.1877073251415e-77)"
      ]
     },
     "execution_count": 20,
     "metadata": {},
     "output_type": "execute_result"
    }
   ],
   "source": [
    "stats.pearsonr(merged['de_coef_stim'], merged['de_coef_ko'])"
   ]
  },
  {
   "cell_type": "code",
   "execution_count": 23,
   "id": "individual-acceptance",
   "metadata": {},
   "outputs": [
    {
     "name": "stderr",
     "output_type": "stream",
     "text": [
      "/home/ssm-user/anaconda3/envs/single_cell/lib/python3.8/site-packages/seaborn/_decorators.py:36: FutureWarning: Pass the following variables as keyword args: x, y. From version 0.12, the only valid positional argument will be `data`, and passing other arguments without an explicit keyword will result in an error or misinterpretation.\n",
      "  warnings.warn(\n"
     ]
    },
    {
     "data": {
      "image/png": "[encoded data removed]",
      "text/plain": [
       "<Figure size 180x144 with 1 Axes>"
      ]
     },
     "metadata": {
      "needs_background": "light"
     },
     "output_type": "display_data"
    }
   ],
   "source": [
    "plt.figure(figsize=(2.5,2))\n",
    "\n",
    "sns.regplot(merged['dv_coef_stim'], merged['dv_coef_ko'], scatter_kws={'s':5})\n",
    "plt.xlabel('Change in variability (stim)'); plt.ylabel('Change in variability (KO)')\n",
    "plt.title(r'$\\rho$=-0.2, $P = 4.8x10^{-8}$')\n",
    "plt.savefig('figures/v_es_comparison.png', bbox_inches='tight', dpi=800)"
   ]
  },
  {
   "cell_type": "code",
   "execution_count": 24,
   "id": "manual-construction",
   "metadata": {},
   "outputs": [
    {
     "name": "stderr",
     "output_type": "stream",
     "text": [
      "/home/ssm-user/anaconda3/envs/single_cell/lib/python3.8/site-packages/seaborn/_decorators.py:36: FutureWarning: Pass the following variables as keyword args: x, y. From version 0.12, the only valid positional argument will be `data`, and passing other arguments without an explicit keyword will result in an error or misinterpretation.\n",
      "  warnings.warn(\n"
     ]
    },
    {
     "data": {
      "image/png": "[encoded data removed]",
      "text/plain": [
       "<Figure size 180x144 with 1 Axes>"
      ]
     },
     "metadata": {
      "needs_background": "light"
     },
     "output_type": "display_data"
    }
   ],
   "source": [
    "plt.figure(figsize=(2.5,2))\n",
    "\n",
    "sns.regplot(merged['de_coef_stim'], merged['de_coef_ko'], scatter_kws={'s':5})\n",
    "plt.xlabel('Change in mean (stim)'); plt.ylabel('Change in mean (KO)')\n",
    "plt.title(r'$\\rho$=-0.6, $P = 8.1x10^{-77}$')\n",
    "plt.savefig('figures/m_es_comparison.png', bbox_inches='tight', dpi=800)"
   ]
  },
  {
   "cell_type": "code",
   "execution_count": 168,
   "id": "mathematical-passion",
   "metadata": {},
   "outputs": [
    {
     "data": {
      "text/plain": [
       "<matplotlib.collections.PathCollection at 0x7f6b04742d30>"
      ]
     },
     "execution_count": 168,
     "metadata": {},
     "output_type": "execute_result"
    },
    {
     "data": {
      "image/png": "[encoded data removed]",
      "text/plain": [
       "<Figure size 432x288 with 1 Axes>"
      ]
     },
     "metadata": {
      "needs_background": "light"
     },
     "output_type": "display_data"
    }
   ],
   "source": [
    "plt.scatter(merged['de_coef_stim'], merged['de_coef_ko'], s=5)"
   ]
  },
  {
   "cell_type": "markdown",
   "id": "warming-violence",
   "metadata": {},
   "source": [
    "### Run coexpression"
   ]
  },
  {
   "cell_type": "code",
   "execution_count": 17,
   "id": "dependent-martin",
   "metadata": {},
   "outputs": [
    {
     "name": "stdout",
     "output_type": "stream",
     "text": [
      "STAT2 STAT2\n",
      "STAT2 CAV1\n"
     ]
    },
    {
     "name": "stderr",
     "output_type": "stream",
     "text": [
      "/home/ssm-user/anaconda3/envs/single_cell/lib/python3.8/site-packages/pandas/core/arrays/categorical.py:2487: FutureWarning: The `inplace` parameter in pandas.Categorical.remove_unused_categories is deprecated and will be removed in a future version.\n",
      "  res = method(*args, **kwargs)\n"
     ]
    },
    {
     "name": "stdout",
     "output_type": "stream",
     "text": [
      "STAT2 STAT1\n"
     ]
    },
    {
     "name": "stderr",
     "output_type": "stream",
     "text": [
      "[Parallel(n_jobs=94)]: Using backend LokyBackend with 94 concurrent workers.\n",
      "[Parallel(n_jobs=94)]: Done 112 out of 149 | elapsed:   13.6s remaining:    4.5s\n",
      "[Parallel(n_jobs=94)]: Done 149 out of 149 | elapsed:   14.9s finished\n",
      "... storing 'memento_group' as categorical\n"
     ]
    },
    {
     "name": "stdout",
     "output_type": "stream",
     "text": [
      "STAT2 CD86\n"
     ]
    },
    {
     "name": "stderr",
     "output_type": "stream",
     "text": [
      "/home/ssm-user/anaconda3/envs/single_cell/lib/python3.8/site-packages/pandas/core/arrays/categorical.py:2487: FutureWarning: The `inplace` parameter in pandas.Categorical.remove_unused_categories is deprecated and will be removed in a future version.\n",
      "  res = method(*args, **kwargs)\n"
     ]
    },
    {
     "name": "stdout",
     "output_type": "stream",
     "text": [
      "STAT2 IRF7\n",
      "STAT2 NT\n",
      "STAT2 ATF2\n",
      "STAT2 STAT3\n",
      "STAT2 JAK2\n"
     ]
    },
    {
     "name": "stderr",
     "output_type": "stream",
     "text": [
      "[Parallel(n_jobs=94)]: Using backend LokyBackend with 94 concurrent workers.\n",
      "[Parallel(n_jobs=94)]: Done  58 out of 122 | elapsed:    5.8s remaining:    6.4s\n",
      "[Parallel(n_jobs=94)]: Done 122 out of 122 | elapsed:    8.6s finished\n",
      "... storing 'memento_group' as categorical\n"
     ]
    },
    {
     "name": "stdout",
     "output_type": "stream",
     "text": [
      "STAT2 NFKBIA\n"
     ]
    },
    {
     "name": "stderr",
     "output_type": "stream",
     "text": [
      "/home/ssm-user/anaconda3/envs/single_cell/lib/python3.8/site-packages/pandas/core/arrays/categorical.py:2487: FutureWarning: The `inplace` parameter in pandas.Categorical.remove_unused_categories is deprecated and will be removed in a future version.\n",
      "  res = method(*args, **kwargs)\n"
     ]
    },
    {
     "name": "stdout",
     "output_type": "stream",
     "text": [
      "STAT2 SMAD4\n"
     ]
    },
    {
     "name": "stderr",
     "output_type": "stream",
     "text": [
      "[Parallel(n_jobs=94)]: Using backend LokyBackend with 94 concurrent workers.\n",
      "[Parallel(n_jobs=94)]: Done  19 out of  68 | elapsed:    3.5s remaining:    9.0s\n",
      "[Parallel(n_jobs=94)]: Done  68 out of  68 | elapsed:    4.5s finished\n",
      "... storing 'memento_group' as categorical\n"
     ]
    },
    {
     "name": "stdout",
     "output_type": "stream",
     "text": [
      "STAT2 STAT5A\n"
     ]
    },
    {
     "name": "stderr",
     "output_type": "stream",
     "text": [
      "/home/ssm-user/anaconda3/envs/single_cell/lib/python3.8/site-packages/pandas/core/arrays/categorical.py:2487: FutureWarning: The `inplace` parameter in pandas.Categorical.remove_unused_categories is deprecated and will be removed in a future version.\n",
      "  res = method(*args, **kwargs)\n"
     ]
    },
    {
     "name": "stdout",
     "output_type": "stream",
     "text": [
      "STAT2 CMTM6\n",
      "STAT2 IFNGR1\n"
     ]
    },
    {
     "name": "stderr",
     "output_type": "stream",
     "text": [
      "[Parallel(n_jobs=94)]: Using backend LokyBackend with 94 concurrent workers.\n",
      "[Parallel(n_jobs=94)]: Done  62 out of 124 | elapsed:    6.5s remaining:    6.5s\n",
      "[Parallel(n_jobs=94)]: Done 124 out of 124 | elapsed:    9.6s finished\n",
      "... storing 'memento_group' as categorical\n"
     ]
    },
    {
     "name": "stdout",
     "output_type": "stream",
     "text": [
      "STAT2 UBE2L6\n"
     ]
    },
    {
     "name": "stderr",
     "output_type": "stream",
     "text": [
      "/home/ssm-user/anaconda3/envs/single_cell/lib/python3.8/site-packages/pandas/core/arrays/categorical.py:2487: FutureWarning: The `inplace` parameter in pandas.Categorical.remove_unused_categories is deprecated and will be removed in a future version.\n",
      "  res = method(*args, **kwargs)\n"
     ]
    },
    {
     "name": "stdout",
     "output_type": "stream",
     "text": [
      "STAT2 PDCD1LG2\n",
      "STAT2 CUL3\n",
      "STAT2 BRD4\n"
     ]
    },
    {
     "name": "stderr",
     "output_type": "stream",
     "text": [
      "[Parallel(n_jobs=94)]: Using backend LokyBackend with 94 concurrent workers.\n",
      "[Parallel(n_jobs=94)]: Done  12 out of  19 | elapsed:    2.1s remaining:    1.2s\n",
      "[Parallel(n_jobs=94)]: Done  19 out of  19 | elapsed:    2.5s finished\n",
      "... storing 'memento_group' as categorical\n"
     ]
    },
    {
     "name": "stdout",
     "output_type": "stream",
     "text": [
      "STAT2 MARCH8\n"
     ]
    },
    {
     "name": "stderr",
     "output_type": "stream",
     "text": [
      "/home/ssm-user/anaconda3/envs/single_cell/lib/python3.8/site-packages/pandas/core/arrays/categorical.py:2487: FutureWarning: The `inplace` parameter in pandas.Categorical.remove_unused_categories is deprecated and will be removed in a future version.\n",
      "  res = method(*args, **kwargs)\n"
     ]
    },
    {
     "name": "stdout",
     "output_type": "stream",
     "text": [
      "STAT2 IRF1\n"
     ]
    },
    {
     "name": "stderr",
     "output_type": "stream",
     "text": [
      "[Parallel(n_jobs=94)]: Using backend LokyBackend with 94 concurrent workers.\n",
      "[Parallel(n_jobs=94)]: Done  10 out of  65 | elapsed:    3.1s remaining:   17.2s\n",
      "[Parallel(n_jobs=94)]: Done  65 out of  65 | elapsed:    5.0s finished\n",
      "... storing 'memento_group' as categorical\n"
     ]
    },
    {
     "name": "stdout",
     "output_type": "stream",
     "text": [
      "STAT2 POU2F2\n"
     ]
    },
    {
     "name": "stderr",
     "output_type": "stream",
     "text": [
      "/home/ssm-user/anaconda3/envs/single_cell/lib/python3.8/site-packages/pandas/core/arrays/categorical.py:2487: FutureWarning: The `inplace` parameter in pandas.Categorical.remove_unused_categories is deprecated and will be removed in a future version.\n",
      "  res = method(*args, **kwargs)\n"
     ]
    },
    {
     "name": "stdout",
     "output_type": "stream",
     "text": [
      "STAT2 ETV7\n",
      "STAT2 IFNGR2\n"
     ]
    },
    {
     "name": "stderr",
     "output_type": "stream",
     "text": [
      "[Parallel(n_jobs=94)]: Using backend LokyBackend with 94 concurrent workers.\n",
      "[Parallel(n_jobs=94)]: Done  54 out of 120 | elapsed:    5.8s remaining:    7.1s\n",
      "[Parallel(n_jobs=94)]: Done 120 out of 120 | elapsed:    9.0s finished\n",
      "... storing 'memento_group' as categorical\n"
     ]
    },
    {
     "name": "stdout",
     "output_type": "stream",
     "text": [
      "STAT2 TNFRSF14\n"
     ]
    },
    {
     "name": "stderr",
     "output_type": "stream",
     "text": [
      "/home/ssm-user/anaconda3/envs/single_cell/lib/python3.8/site-packages/pandas/core/arrays/categorical.py:2487: FutureWarning: The `inplace` parameter in pandas.Categorical.remove_unused_categories is deprecated and will be removed in a future version.\n",
      "  res = method(*args, **kwargs)\n"
     ]
    },
    {
     "name": "stdout",
     "output_type": "stream",
     "text": [
      "STAT2 SPI1\n",
      "STAT2 MYC\n",
      "CAV1 STAT2\n",
      "CAV1 CAV1\n",
      "CAV1 STAT1\n",
      "CAV1 CD86\n",
      "CAV1 IRF7\n",
      "CAV1 NT\n",
      "CAV1 ATF2\n",
      "CAV1 STAT3\n",
      "CAV1 JAK2\n",
      "CAV1 NFKBIA\n",
      "CAV1 SMAD4\n",
      "CAV1 STAT5A\n",
      "CAV1 CMTM6\n",
      "CAV1 IFNGR1\n",
      "CAV1 UBE2L6\n",
      "CAV1 PDCD1LG2\n",
      "CAV1 CUL3\n",
      "CAV1 BRD4\n",
      "CAV1 MARCH8\n",
      "CAV1 IRF1\n",
      "CAV1 POU2F2\n",
      "CAV1 ETV7\n",
      "CAV1 IFNGR2\n",
      "CAV1 TNFRSF14\n",
      "CAV1 SPI1\n",
      "CAV1 MYC\n",
      "STAT1 STAT2\n"
     ]
    },
    {
     "name": "stderr",
     "output_type": "stream",
     "text": [
      "[Parallel(n_jobs=94)]: Using backend LokyBackend with 94 concurrent workers.\n",
      "[Parallel(n_jobs=94)]: Done 112 out of 149 | elapsed:   10.5s remaining:    3.5s\n",
      "[Parallel(n_jobs=94)]: Done 149 out of 149 | elapsed:   11.5s finished\n",
      "... storing 'memento_group' as categorical\n"
     ]
    },
    {
     "name": "stdout",
     "output_type": "stream",
     "text": [
      "STAT1 CAV1\n"
     ]
    },
    {
     "name": "stderr",
     "output_type": "stream",
     "text": [
      "/home/ssm-user/anaconda3/envs/single_cell/lib/python3.8/site-packages/pandas/core/arrays/categorical.py:2487: FutureWarning: The `inplace` parameter in pandas.Categorical.remove_unused_categories is deprecated and will be removed in a future version.\n",
      "  res = method(*args, **kwargs)\n"
     ]
    },
    {
     "name": "stdout",
     "output_type": "stream",
     "text": [
      "STAT1 STAT1\n",
      "STAT1 CD86\n",
      "STAT1 IRF7\n",
      "STAT1 NT\n",
      "STAT1 ATF2\n",
      "STAT1 STAT3\n",
      "STAT1 JAK2\n"
     ]
    },
    {
     "name": "stderr",
     "output_type": "stream",
     "text": [
      "[Parallel(n_jobs=94)]: Using backend LokyBackend with 94 concurrent workers.\n",
      "[Parallel(n_jobs=94)]: Done  12 tasks      | elapsed:    6.4s\n",
      "[Parallel(n_jobs=94)]: Done 262 tasks      | elapsed:   22.2s\n",
      "[Parallel(n_jobs=94)]: Done 612 tasks      | elapsed:   49.8s\n",
      "[Parallel(n_jobs=94)]: Done 1062 tasks      | elapsed:  1.4min\n",
      "[Parallel(n_jobs=94)]: Done 1402 out of 1402 | elapsed:  1.8min finished\n",
      "... storing 'memento_group' as categorical\n"
     ]
    },
    {
     "name": "stdout",
     "output_type": "stream",
     "text": [
      "STAT1 NFKBIA\n"
     ]
    },
    {
     "name": "stderr",
     "output_type": "stream",
     "text": [
      "/home/ssm-user/anaconda3/envs/single_cell/lib/python3.8/site-packages/pandas/core/arrays/categorical.py:2487: FutureWarning: The `inplace` parameter in pandas.Categorical.remove_unused_categories is deprecated and will be removed in a future version.\n",
      "  res = method(*args, **kwargs)\n"
     ]
    },
    {
     "name": "stdout",
     "output_type": "stream",
     "text": [
      "STAT1 SMAD4\n"
     ]
    },
    {
     "name": "stderr",
     "output_type": "stream",
     "text": [
      "[Parallel(n_jobs=94)]: Using backend LokyBackend with 94 concurrent workers.\n",
      "[Parallel(n_jobs=94)]: Done  12 tasks      | elapsed:    5.7s\n",
      "[Parallel(n_jobs=94)]: Done 262 tasks      | elapsed:   20.7s\n",
      "[Parallel(n_jobs=94)]: Done 676 out of 676 | elapsed:   49.0s finished\n",
      "... storing 'memento_group' as categorical\n"
     ]
    },
    {
     "name": "stdout",
     "output_type": "stream",
     "text": [
      "STAT1 STAT5A\n"
     ]
    },
    {
     "name": "stderr",
     "output_type": "stream",
     "text": [
      "/home/ssm-user/anaconda3/envs/single_cell/lib/python3.8/site-packages/pandas/core/arrays/categorical.py:2487: FutureWarning: The `inplace` parameter in pandas.Categorical.remove_unused_categories is deprecated and will be removed in a future version.\n",
      "  res = method(*args, **kwargs)\n"
     ]
    },
    {
     "name": "stdout",
     "output_type": "stream",
     "text": [
      "STAT1 CMTM6\n",
      "STAT1 IFNGR1\n"
     ]
    },
    {
     "name": "stderr",
     "output_type": "stream",
     "text": [
      "[Parallel(n_jobs=94)]: Using backend LokyBackend with 94 concurrent workers.\n",
      "[Parallel(n_jobs=94)]: Done  12 tasks      | elapsed:    6.8s\n",
      "[Parallel(n_jobs=94)]: Done 262 tasks      | elapsed:   24.0s\n",
      "[Parallel(n_jobs=94)]: Done 612 tasks      | elapsed:   54.0s\n",
      "[Parallel(n_jobs=94)]: Done 1062 tasks      | elapsed:  1.5min\n",
      "[Parallel(n_jobs=94)]: Done 1410 out of 1410 | elapsed:  1.9min finished\n",
      "... storing 'memento_group' as categorical\n"
     ]
    },
    {
     "name": "stdout",
     "output_type": "stream",
     "text": [
      "STAT1 UBE2L6\n"
     ]
    },
    {
     "name": "stderr",
     "output_type": "stream",
     "text": [
      "/home/ssm-user/anaconda3/envs/single_cell/lib/python3.8/site-packages/pandas/core/arrays/categorical.py:2487: FutureWarning: The `inplace` parameter in pandas.Categorical.remove_unused_categories is deprecated and will be removed in a future version.\n",
      "  res = method(*args, **kwargs)\n"
     ]
    },
    {
     "name": "stdout",
     "output_type": "stream",
     "text": [
      "STAT1 PDCD1LG2\n",
      "STAT1 CUL3\n"
     ]
    },
    {
     "name": "stderr",
     "output_type": "stream",
     "text": [
      "[Parallel(n_jobs=94)]: Using backend LokyBackend with 94 concurrent workers.\n",
      "[Parallel(n_jobs=94)]: Done  30 out of  30 | elapsed:    2.9s finished\n",
      "... storing 'memento_group' as categorical\n"
     ]
    },
    {
     "name": "stdout",
     "output_type": "stream",
     "text": [
      "STAT1 BRD4\n"
     ]
    },
    {
     "name": "stderr",
     "output_type": "stream",
     "text": [
      "/home/ssm-user/anaconda3/envs/single_cell/lib/python3.8/site-packages/pandas/core/arrays/categorical.py:2487: FutureWarning: The `inplace` parameter in pandas.Categorical.remove_unused_categories is deprecated and will be removed in a future version.\n",
      "  res = method(*args, **kwargs)\n",
      "[Parallel(n_jobs=94)]: Using backend LokyBackend with 94 concurrent workers.\n",
      "[Parallel(n_jobs=94)]: Done  12 tasks      | elapsed:    4.9s\n",
      "[Parallel(n_jobs=94)]: Done 202 out of 202 | elapsed:   14.2s finished\n",
      "... storing 'memento_group' as categorical\n"
     ]
    },
    {
     "name": "stdout",
     "output_type": "stream",
     "text": [
      "STAT1 MARCH8\n"
     ]
    },
    {
     "name": "stderr",
     "output_type": "stream",
     "text": [
      "/home/ssm-user/anaconda3/envs/single_cell/lib/python3.8/site-packages/pandas/core/arrays/categorical.py:2487: FutureWarning: The `inplace` parameter in pandas.Categorical.remove_unused_categories is deprecated and will be removed in a future version.\n",
      "  res = method(*args, **kwargs)\n"
     ]
    },
    {
     "name": "stdout",
     "output_type": "stream",
     "text": [
      "STAT1 IRF1\n"
     ]
    },
    {
     "name": "stderr",
     "output_type": "stream",
     "text": [
      "[Parallel(n_jobs=94)]: Using backend LokyBackend with 94 concurrent workers.\n",
      "[Parallel(n_jobs=94)]: Done  12 tasks      | elapsed:    6.8s\n",
      "[Parallel(n_jobs=94)]: Done 262 tasks      | elapsed:   23.3s\n",
      "[Parallel(n_jobs=94)]: Done 570 out of 570 | elapsed:   46.2s finished\n",
      "... storing 'memento_group' as categorical\n"
     ]
    },
    {
     "name": "stdout",
     "output_type": "stream",
     "text": [
      "STAT1 POU2F2\n"
     ]
    },
    {
     "name": "stderr",
     "output_type": "stream",
     "text": [
      "/home/ssm-user/anaconda3/envs/single_cell/lib/python3.8/site-packages/pandas/core/arrays/categorical.py:2487: FutureWarning: The `inplace` parameter in pandas.Categorical.remove_unused_categories is deprecated and will be removed in a future version.\n",
      "  res = method(*args, **kwargs)\n"
     ]
    },
    {
     "name": "stdout",
     "output_type": "stream",
     "text": [
      "STAT1 ETV7\n",
      "STAT1 IFNGR2\n"
     ]
    },
    {
     "name": "stderr",
     "output_type": "stream",
     "text": [
      "[Parallel(n_jobs=94)]: Using backend LokyBackend with 94 concurrent workers.\n",
      "[Parallel(n_jobs=94)]: Done  12 tasks      | elapsed:    6.7s\n",
      "[Parallel(n_jobs=94)]: Done 262 tasks      | elapsed:   22.9s\n",
      "[Parallel(n_jobs=94)]: Done 612 tasks      | elapsed:   51.6s\n",
      "[Parallel(n_jobs=94)]: Done 1062 tasks      | elapsed:  1.5min\n",
      "[Parallel(n_jobs=94)]: Done 1396 out of 1396 | elapsed:  1.8min finished\n",
      "... storing 'memento_group' as categorical\n"
     ]
    },
    {
     "name": "stdout",
     "output_type": "stream",
     "text": [
      "STAT1 TNFRSF14\n"
     ]
    },
    {
     "name": "stderr",
     "output_type": "stream",
     "text": [
      "/home/ssm-user/anaconda3/envs/single_cell/lib/python3.8/site-packages/pandas/core/arrays/categorical.py:2487: FutureWarning: The `inplace` parameter in pandas.Categorical.remove_unused_categories is deprecated and will be removed in a future version.\n",
      "  res = method(*args, **kwargs)\n"
     ]
    },
    {
     "name": "stdout",
     "output_type": "stream",
     "text": [
      "STAT1 SPI1\n"
     ]
    },
    {
     "name": "stderr",
     "output_type": "stream",
     "text": [
      "[Parallel(n_jobs=94)]: Using backend LokyBackend with 94 concurrent workers.\n",
      "[Parallel(n_jobs=94)]: Done   7 out of  14 | elapsed:    2.2s remaining:    2.2s\n",
      "[Parallel(n_jobs=94)]: Done  14 out of  14 | elapsed:    3.0s finished\n",
      "... storing 'memento_group' as categorical\n"
     ]
    },
    {
     "name": "stdout",
     "output_type": "stream",
     "text": [
      "STAT1 MYC\n"
     ]
    },
    {
     "name": "stderr",
     "output_type": "stream",
     "text": [
      "/home/ssm-user/anaconda3/envs/single_cell/lib/python3.8/site-packages/pandas/core/arrays/categorical.py:2487: FutureWarning: The `inplace` parameter in pandas.Categorical.remove_unused_categories is deprecated and will be removed in a future version.\n",
      "  res = method(*args, **kwargs)\n",
      "[Parallel(n_jobs=94)]: Using backend LokyBackend with 94 concurrent workers.\n",
      "[Parallel(n_jobs=94)]: Done  22 out of  29 | elapsed:    2.5s remaining:    0.8s\n",
      "[Parallel(n_jobs=94)]: Done  29 out of  29 | elapsed:    2.9s finished\n",
      "... storing 'memento_group' as categorical\n"
     ]
    },
    {
     "name": "stdout",
     "output_type": "stream",
     "text": [
      "CD86 STAT2\n"
     ]
    },
    {
     "name": "stderr",
     "output_type": "stream",
     "text": [
      "/home/ssm-user/anaconda3/envs/single_cell/lib/python3.8/site-packages/pandas/core/arrays/categorical.py:2487: FutureWarning: The `inplace` parameter in pandas.Categorical.remove_unused_categories is deprecated and will be removed in a future version.\n",
      "  res = method(*args, **kwargs)\n"
     ]
    },
    {
     "name": "stdout",
     "output_type": "stream",
     "text": [
      "CD86 CAV1\n",
      "CD86 STAT1\n",
      "CD86 CD86\n",
      "CD86 IRF7\n",
      "CD86 NT\n",
      "CD86 ATF2\n",
      "CD86 STAT3\n",
      "CD86 JAK2\n",
      "CD86 NFKBIA\n",
      "CD86 SMAD4\n",
      "CD86 STAT5A\n",
      "CD86 CMTM6\n",
      "CD86 IFNGR1\n",
      "CD86 UBE2L6\n",
      "CD86 PDCD1LG2\n",
      "CD86 CUL3\n",
      "CD86 BRD4\n",
      "CD86 MARCH8\n",
      "CD86 IRF1\n",
      "CD86 POU2F2\n",
      "CD86 ETV7\n",
      "CD86 IFNGR2\n",
      "CD86 TNFRSF14\n",
      "CD86 SPI1\n",
      "CD86 MYC\n",
      "IRF7 STAT2\n",
      "IRF7 CAV1\n",
      "IRF7 STAT1\n",
      "IRF7 CD86\n",
      "IRF7 IRF7\n",
      "IRF7 NT\n",
      "IRF7 ATF2\n",
      "IRF7 STAT3\n",
      "IRF7 JAK2\n",
      "IRF7 NFKBIA\n",
      "IRF7 SMAD4\n",
      "IRF7 STAT5A\n",
      "IRF7 CMTM6\n",
      "IRF7 IFNGR1\n",
      "IRF7 UBE2L6\n",
      "IRF7 PDCD1LG2\n",
      "IRF7 CUL3\n",
      "IRF7 BRD4\n",
      "IRF7 MARCH8\n",
      "IRF7 IRF1\n",
      "IRF7 POU2F2\n",
      "IRF7 ETV7\n",
      "IRF7 IFNGR2\n",
      "IRF7 TNFRSF14\n",
      "IRF7 SPI1\n",
      "IRF7 MYC\n",
      "NT STAT2\n",
      "NT CAV1\n",
      "NT STAT1\n",
      "NT CD86\n",
      "NT IRF7\n",
      "NT NT\n",
      "NT ATF2\n",
      "NT STAT3\n",
      "NT JAK2\n",
      "NT NFKBIA\n",
      "NT SMAD4\n",
      "NT STAT5A\n",
      "NT CMTM6\n",
      "NT IFNGR1\n",
      "NT UBE2L6\n",
      "NT PDCD1LG2\n",
      "NT CUL3\n",
      "NT BRD4\n",
      "NT MARCH8\n",
      "NT IRF1\n",
      "NT POU2F2\n",
      "NT ETV7\n",
      "NT IFNGR2\n",
      "NT TNFRSF14\n",
      "NT SPI1\n",
      "NT MYC\n",
      "ATF2 STAT2\n",
      "ATF2 CAV1\n",
      "ATF2 STAT1\n",
      "ATF2 CD86\n",
      "ATF2 IRF7\n",
      "ATF2 NT\n",
      "ATF2 ATF2\n",
      "ATF2 STAT3\n",
      "ATF2 JAK2\n",
      "ATF2 NFKBIA\n",
      "ATF2 SMAD4\n",
      "ATF2 STAT5A\n",
      "ATF2 CMTM6\n",
      "ATF2 IFNGR1\n",
      "ATF2 UBE2L6\n",
      "ATF2 PDCD1LG2\n",
      "ATF2 CUL3\n",
      "ATF2 BRD4\n",
      "ATF2 MARCH8\n",
      "ATF2 IRF1\n",
      "ATF2 POU2F2\n",
      "ATF2 ETV7\n",
      "ATF2 IFNGR2\n",
      "ATF2 TNFRSF14\n",
      "ATF2 SPI1\n",
      "ATF2 MYC\n",
      "STAT3 STAT2\n",
      "STAT3 CAV1\n",
      "STAT3 STAT1\n",
      "STAT3 CD86\n",
      "STAT3 IRF7\n",
      "STAT3 NT\n",
      "STAT3 ATF2\n",
      "STAT3 STAT3\n",
      "STAT3 JAK2\n",
      "STAT3 NFKBIA\n",
      "STAT3 SMAD4\n",
      "STAT3 STAT5A\n",
      "STAT3 CMTM6\n",
      "STAT3 IFNGR1\n",
      "STAT3 UBE2L6\n",
      "STAT3 PDCD1LG2\n",
      "STAT3 CUL3\n",
      "STAT3 BRD4\n",
      "STAT3 MARCH8\n",
      "STAT3 IRF1\n",
      "STAT3 POU2F2\n",
      "STAT3 ETV7\n",
      "STAT3 IFNGR2\n",
      "STAT3 TNFRSF14\n",
      "STAT3 SPI1\n",
      "STAT3 MYC\n",
      "JAK2 STAT2\n"
     ]
    },
    {
     "name": "stderr",
     "output_type": "stream",
     "text": [
      "[Parallel(n_jobs=94)]: Using backend LokyBackend with 94 concurrent workers.\n",
      "[Parallel(n_jobs=94)]: Done  60 out of 123 | elapsed:    6.2s remaining:    6.5s\n",
      "[Parallel(n_jobs=94)]: Done 123 out of 123 | elapsed:    8.8s finished\n",
      "... storing 'memento_group' as categorical\n"
     ]
    },
    {
     "name": "stdout",
     "output_type": "stream",
     "text": [
      "JAK2 CAV1\n"
     ]
    },
    {
     "name": "stderr",
     "output_type": "stream",
     "text": [
      "/home/ssm-user/anaconda3/envs/single_cell/lib/python3.8/site-packages/pandas/core/arrays/categorical.py:2487: FutureWarning: The `inplace` parameter in pandas.Categorical.remove_unused_categories is deprecated and will be removed in a future version.\n",
      "  res = method(*args, **kwargs)\n"
     ]
    },
    {
     "name": "stdout",
     "output_type": "stream",
     "text": [
      "JAK2 STAT1\n"
     ]
    },
    {
     "name": "stderr",
     "output_type": "stream",
     "text": [
      "[Parallel(n_jobs=94)]: Using backend LokyBackend with 94 concurrent workers.\n",
      "[Parallel(n_jobs=94)]: Done  12 tasks      | elapsed:    4.0s\n",
      "[Parallel(n_jobs=94)]: Done 262 tasks      | elapsed:   15.3s\n",
      "[Parallel(n_jobs=94)]: Done 612 tasks      | elapsed:   33.9s\n",
      "[Parallel(n_jobs=94)]: Done 1062 tasks      | elapsed:   57.2s\n",
      "[Parallel(n_jobs=94)]: Done 1402 out of 1402 | elapsed:  1.2min finished\n",
      "... storing 'memento_group' as categorical\n"
     ]
    },
    {
     "name": "stdout",
     "output_type": "stream",
     "text": [
      "JAK2 CD86\n"
     ]
    },
    {
     "name": "stderr",
     "output_type": "stream",
     "text": [
      "/home/ssm-user/anaconda3/envs/single_cell/lib/python3.8/site-packages/pandas/core/arrays/categorical.py:2487: FutureWarning: The `inplace` parameter in pandas.Categorical.remove_unused_categories is deprecated and will be removed in a future version.\n",
      "  res = method(*args, **kwargs)\n"
     ]
    },
    {
     "name": "stdout",
     "output_type": "stream",
     "text": [
      "JAK2 IRF7\n",
      "JAK2 NT\n",
      "JAK2 ATF2\n",
      "JAK2 STAT3\n",
      "JAK2 JAK2\n",
      "JAK2 NFKBIA\n",
      "JAK2 SMAD4\n"
     ]
    },
    {
     "name": "stderr",
     "output_type": "stream",
     "text": [
      "[Parallel(n_jobs=94)]: Using backend LokyBackend with 94 concurrent workers.\n",
      "[Parallel(n_jobs=94)]: Done  12 tasks      | elapsed:    4.3s\n",
      "[Parallel(n_jobs=94)]: Done 262 tasks      | elapsed:   17.8s\n",
      "[Parallel(n_jobs=94)]: Done 612 tasks      | elapsed:   39.3s\n",
      "[Parallel(n_jobs=94)]: Done 824 out of 824 | elapsed:   49.9s finished\n",
      "... storing 'memento_group' as categorical\n"
     ]
    },
    {
     "name": "stdout",
     "output_type": "stream",
     "text": [
      "JAK2 STAT5A\n"
     ]
    },
    {
     "name": "stderr",
     "output_type": "stream",
     "text": [
      "/home/ssm-user/anaconda3/envs/single_cell/lib/python3.8/site-packages/pandas/core/arrays/categorical.py:2487: FutureWarning: The `inplace` parameter in pandas.Categorical.remove_unused_categories is deprecated and will be removed in a future version.\n",
      "  res = method(*args, **kwargs)\n"
     ]
    },
    {
     "name": "stdout",
     "output_type": "stream",
     "text": [
      "JAK2 CMTM6\n",
      "JAK2 IFNGR1\n"
     ]
    },
    {
     "name": "stderr",
     "output_type": "stream",
     "text": [
      "[Parallel(n_jobs=94)]: Using backend LokyBackend with 94 concurrent workers.\n",
      "[Parallel(n_jobs=94)]: Done  12 tasks      | elapsed:    5.0s\n",
      "[Parallel(n_jobs=94)]: Done 262 tasks      | elapsed:   18.9s\n",
      "[Parallel(n_jobs=94)]: Done 612 tasks      | elapsed:   41.6s\n",
      "[Parallel(n_jobs=94)]: Done 1062 tasks      | elapsed:  1.2min\n",
      "[Parallel(n_jobs=94)]: Done 1612 tasks      | elapsed:  1.8min\n",
      "[Parallel(n_jobs=94)]: Done 1855 out of 1855 | elapsed:  2.0min finished\n",
      "... storing 'memento_group' as categorical\n"
     ]
    },
    {
     "name": "stdout",
     "output_type": "stream",
     "text": [
      "JAK2 UBE2L6\n"
     ]
    },
    {
     "name": "stderr",
     "output_type": "stream",
     "text": [
      "/home/ssm-user/anaconda3/envs/single_cell/lib/python3.8/site-packages/pandas/core/arrays/categorical.py:2487: FutureWarning: The `inplace` parameter in pandas.Categorical.remove_unused_categories is deprecated and will be removed in a future version.\n",
      "  res = method(*args, **kwargs)\n"
     ]
    },
    {
     "name": "stdout",
     "output_type": "stream",
     "text": [
      "JAK2 PDCD1LG2\n",
      "JAK2 CUL3\n"
     ]
    },
    {
     "name": "stderr",
     "output_type": "stream",
     "text": [
      "[Parallel(n_jobs=94)]: Using backend LokyBackend with 94 concurrent workers.\n",
      "[Parallel(n_jobs=94)]: Done  10 out of  32 | elapsed:    2.3s remaining:    5.2s\n",
      "[Parallel(n_jobs=94)]: Done  32 out of  32 | elapsed:    2.9s finished\n",
      "... storing 'memento_group' as categorical\n"
     ]
    },
    {
     "name": "stdout",
     "output_type": "stream",
     "text": [
      "JAK2 BRD4\n"
     ]
    },
    {
     "name": "stderr",
     "output_type": "stream",
     "text": [
      "/home/ssm-user/anaconda3/envs/single_cell/lib/python3.8/site-packages/pandas/core/arrays/categorical.py:2487: FutureWarning: The `inplace` parameter in pandas.Categorical.remove_unused_categories is deprecated and will be removed in a future version.\n",
      "  res = method(*args, **kwargs)\n",
      "[Parallel(n_jobs=94)]: Using backend LokyBackend with 94 concurrent workers.\n",
      "[Parallel(n_jobs=94)]: Done  12 tasks      | elapsed:    3.9s\n",
      "[Parallel(n_jobs=94)]: Done 278 out of 278 | elapsed:   16.1s finished\n",
      "... storing 'memento_group' as categorical\n"
     ]
    },
    {
     "name": "stdout",
     "output_type": "stream",
     "text": [
      "JAK2 MARCH8\n"
     ]
    },
    {
     "name": "stderr",
     "output_type": "stream",
     "text": [
      "/home/ssm-user/anaconda3/envs/single_cell/lib/python3.8/site-packages/pandas/core/arrays/categorical.py:2487: FutureWarning: The `inplace` parameter in pandas.Categorical.remove_unused_categories is deprecated and will be removed in a future version.\n",
      "  res = method(*args, **kwargs)\n"
     ]
    },
    {
     "name": "stdout",
     "output_type": "stream",
     "text": [
      "JAK2 IRF1\n"
     ]
    },
    {
     "name": "stderr",
     "output_type": "stream",
     "text": [
      "[Parallel(n_jobs=94)]: Using backend LokyBackend with 94 concurrent workers.\n",
      "[Parallel(n_jobs=94)]: Done  12 tasks      | elapsed:    4.9s\n",
      "[Parallel(n_jobs=94)]: Done 262 tasks      | elapsed:   19.6s\n",
      "[Parallel(n_jobs=94)]: Done 663 out of 663 | elapsed:   43.2s finished\n",
      "... storing 'memento_group' as categorical\n"
     ]
    },
    {
     "name": "stdout",
     "output_type": "stream",
     "text": [
      "JAK2 POU2F2\n"
     ]
    },
    {
     "name": "stderr",
     "output_type": "stream",
     "text": [
      "/home/ssm-user/anaconda3/envs/single_cell/lib/python3.8/site-packages/pandas/core/arrays/categorical.py:2487: FutureWarning: The `inplace` parameter in pandas.Categorical.remove_unused_categories is deprecated and will be removed in a future version.\n",
      "  res = method(*args, **kwargs)\n"
     ]
    },
    {
     "name": "stdout",
     "output_type": "stream",
     "text": [
      "JAK2 ETV7\n",
      "JAK2 IFNGR2\n"
     ]
    },
    {
     "name": "stderr",
     "output_type": "stream",
     "text": [
      "[Parallel(n_jobs=94)]: Using backend LokyBackend with 94 concurrent workers.\n",
      "[Parallel(n_jobs=94)]: Done  12 tasks      | elapsed:    4.7s\n",
      "[Parallel(n_jobs=94)]: Done 262 tasks      | elapsed:   18.3s\n",
      "[Parallel(n_jobs=94)]: Done 612 tasks      | elapsed:   40.3s\n",
      "[Parallel(n_jobs=94)]: Done 1062 tasks      | elapsed:  1.1min\n",
      "[Parallel(n_jobs=94)]: Done 1781 out of 1781 | elapsed:  1.8min finished\n",
      "... storing 'memento_group' as categorical\n"
     ]
    },
    {
     "name": "stdout",
     "output_type": "stream",
     "text": [
      "JAK2 TNFRSF14\n"
     ]
    },
    {
     "name": "stderr",
     "output_type": "stream",
     "text": [
      "/home/ssm-user/anaconda3/envs/single_cell/lib/python3.8/site-packages/pandas/core/arrays/categorical.py:2487: FutureWarning: The `inplace` parameter in pandas.Categorical.remove_unused_categories is deprecated and will be removed in a future version.\n",
      "  res = method(*args, **kwargs)\n"
     ]
    },
    {
     "name": "stdout",
     "output_type": "stream",
     "text": [
      "JAK2 SPI1\n"
     ]
    },
    {
     "name": "stderr",
     "output_type": "stream",
     "text": [
      "[Parallel(n_jobs=94)]: Using backend LokyBackend with 94 concurrent workers.\n",
      "[Parallel(n_jobs=94)]: Done  19 out of  22 | elapsed:    2.7s remaining:    0.4s\n",
      "[Parallel(n_jobs=94)]: Done  22 out of  22 | elapsed:    3.0s finished\n",
      "... storing 'memento_group' as categorical\n"
     ]
    },
    {
     "name": "stdout",
     "output_type": "stream",
     "text": [
      "JAK2 MYC\n"
     ]
    },
    {
     "name": "stderr",
     "output_type": "stream",
     "text": [
      "/home/ssm-user/anaconda3/envs/single_cell/lib/python3.8/site-packages/pandas/core/arrays/categorical.py:2487: FutureWarning: The `inplace` parameter in pandas.Categorical.remove_unused_categories is deprecated and will be removed in a future version.\n",
      "  res = method(*args, **kwargs)\n",
      "[Parallel(n_jobs=94)]: Using backend LokyBackend with 94 concurrent workers.\n",
      "[Parallel(n_jobs=94)]: Done   2 out of  37 | elapsed:    1.8s remaining:   31.4s\n",
      "[Parallel(n_jobs=94)]: Done  37 out of  37 | elapsed:    2.8s finished\n",
      "... storing 'memento_group' as categorical\n"
     ]
    },
    {
     "name": "stdout",
     "output_type": "stream",
     "text": [
      "NFKBIA STAT2\n"
     ]
    },
    {
     "name": "stderr",
     "output_type": "stream",
     "text": [
      "/home/ssm-user/anaconda3/envs/single_cell/lib/python3.8/site-packages/pandas/core/arrays/categorical.py:2487: FutureWarning: The `inplace` parameter in pandas.Categorical.remove_unused_categories is deprecated and will be removed in a future version.\n",
      "  res = method(*args, **kwargs)\n"
     ]
    },
    {
     "name": "stdout",
     "output_type": "stream",
     "text": [
      "NFKBIA CAV1\n",
      "NFKBIA STAT1\n",
      "NFKBIA CD86\n",
      "NFKBIA IRF7\n",
      "NFKBIA NT\n",
      "NFKBIA ATF2\n",
      "NFKBIA STAT3\n",
      "NFKBIA JAK2\n",
      "NFKBIA NFKBIA\n",
      "NFKBIA SMAD4\n",
      "NFKBIA STAT5A\n",
      "NFKBIA CMTM6\n",
      "NFKBIA IFNGR1\n",
      "NFKBIA UBE2L6\n",
      "NFKBIA PDCD1LG2\n",
      "NFKBIA CUL3\n",
      "NFKBIA BRD4\n",
      "NFKBIA MARCH8\n",
      "NFKBIA IRF1\n",
      "NFKBIA POU2F2\n",
      "NFKBIA ETV7\n",
      "NFKBIA IFNGR2\n",
      "NFKBIA TNFRSF14\n",
      "NFKBIA SPI1\n",
      "NFKBIA MYC\n",
      "SMAD4 STAT2\n"
     ]
    },
    {
     "name": "stderr",
     "output_type": "stream",
     "text": [
      "[Parallel(n_jobs=94)]: Using backend LokyBackend with 94 concurrent workers.\n",
      "[Parallel(n_jobs=94)]: Done  22 out of  69 | elapsed:    2.5s remaining:    5.3s\n",
      "[Parallel(n_jobs=94)]: Done  69 out of  69 | elapsed:    3.6s finished\n",
      "... storing 'memento_group' as categorical\n"
     ]
    },
    {
     "name": "stdout",
     "output_type": "stream",
     "text": [
      "SMAD4 CAV1\n"
     ]
    },
    {
     "name": "stderr",
     "output_type": "stream",
     "text": [
      "/home/ssm-user/anaconda3/envs/single_cell/lib/python3.8/site-packages/pandas/core/arrays/categorical.py:2487: FutureWarning: The `inplace` parameter in pandas.Categorical.remove_unused_categories is deprecated and will be removed in a future version.\n",
      "  res = method(*args, **kwargs)\n"
     ]
    },
    {
     "name": "stdout",
     "output_type": "stream",
     "text": [
      "SMAD4 STAT1\n"
     ]
    },
    {
     "name": "stderr",
     "output_type": "stream",
     "text": [
      "[Parallel(n_jobs=94)]: Using backend LokyBackend with 94 concurrent workers.\n",
      "[Parallel(n_jobs=94)]: Done  12 tasks      | elapsed:    2.3s\n",
      "[Parallel(n_jobs=94)]: Done 262 tasks      | elapsed:   10.7s\n",
      "[Parallel(n_jobs=94)]: Done 676 out of 676 | elapsed:   24.3s finished\n",
      "... storing 'memento_group' as categorical\n"
     ]
    },
    {
     "name": "stdout",
     "output_type": "stream",
     "text": [
      "SMAD4 CD86\n"
     ]
    },
    {
     "name": "stderr",
     "output_type": "stream",
     "text": [
      "/home/ssm-user/anaconda3/envs/single_cell/lib/python3.8/site-packages/pandas/core/arrays/categorical.py:2487: FutureWarning: The `inplace` parameter in pandas.Categorical.remove_unused_categories is deprecated and will be removed in a future version.\n",
      "  res = method(*args, **kwargs)\n"
     ]
    },
    {
     "name": "stdout",
     "output_type": "stream",
     "text": [
      "SMAD4 IRF7\n",
      "SMAD4 NT\n",
      "SMAD4 ATF2\n",
      "SMAD4 STAT3\n",
      "SMAD4 JAK2\n"
     ]
    },
    {
     "name": "stderr",
     "output_type": "stream",
     "text": [
      "[Parallel(n_jobs=94)]: Using backend LokyBackend with 94 concurrent workers.\n",
      "[Parallel(n_jobs=94)]: Done  12 tasks      | elapsed:    2.5s\n",
      "[Parallel(n_jobs=94)]: Done 262 tasks      | elapsed:   12.9s\n",
      "[Parallel(n_jobs=94)]: Done 612 tasks      | elapsed:   27.9s\n",
      "[Parallel(n_jobs=94)]: Done 825 out of 825 | elapsed:   36.3s finished\n",
      "... storing 'memento_group' as categorical\n"
     ]
    },
    {
     "name": "stdout",
     "output_type": "stream",
     "text": [
      "SMAD4 NFKBIA\n"
     ]
    },
    {
     "name": "stderr",
     "output_type": "stream",
     "text": [
      "/home/ssm-user/anaconda3/envs/single_cell/lib/python3.8/site-packages/pandas/core/arrays/categorical.py:2487: FutureWarning: The `inplace` parameter in pandas.Categorical.remove_unused_categories is deprecated and will be removed in a future version.\n",
      "  res = method(*args, **kwargs)\n"
     ]
    },
    {
     "name": "stdout",
     "output_type": "stream",
     "text": [
      "SMAD4 SMAD4\n",
      "SMAD4 STAT5A\n",
      "SMAD4 CMTM6\n",
      "SMAD4 IFNGR1\n"
     ]
    },
    {
     "name": "stderr",
     "output_type": "stream",
     "text": [
      "[Parallel(n_jobs=94)]: Using backend LokyBackend with 94 concurrent workers.\n",
      "[Parallel(n_jobs=94)]: Done  12 tasks      | elapsed:    2.5s\n",
      "[Parallel(n_jobs=94)]: Done 262 tasks      | elapsed:   13.3s\n",
      "[Parallel(n_jobs=94)]: Done 612 tasks      | elapsed:   29.2s\n",
      "[Parallel(n_jobs=94)]: Done 900 out of 900 | elapsed:   41.4s finished\n",
      "... storing 'memento_group' as categorical\n"
     ]
    },
    {
     "name": "stdout",
     "output_type": "stream",
     "text": [
      "SMAD4 UBE2L6\n"
     ]
    },
    {
     "name": "stderr",
     "output_type": "stream",
     "text": [
      "/home/ssm-user/anaconda3/envs/single_cell/lib/python3.8/site-packages/pandas/core/arrays/categorical.py:2487: FutureWarning: The `inplace` parameter in pandas.Categorical.remove_unused_categories is deprecated and will be removed in a future version.\n",
      "  res = method(*args, **kwargs)\n"
     ]
    },
    {
     "name": "stdout",
     "output_type": "stream",
     "text": [
      "SMAD4 PDCD1LG2\n",
      "SMAD4 CUL3\n"
     ]
    },
    {
     "name": "stderr",
     "output_type": "stream",
     "text": [
      "[Parallel(n_jobs=94)]: Using backend LokyBackend with 94 concurrent workers.\n",
      "[Parallel(n_jobs=94)]: Done  32 out of  43 | elapsed:    2.0s remaining:    0.7s\n",
      "[Parallel(n_jobs=94)]: Done  43 out of  43 | elapsed:    2.3s finished\n",
      "... storing 'memento_group' as categorical\n"
     ]
    },
    {
     "name": "stdout",
     "output_type": "stream",
     "text": [
      "SMAD4 BRD4\n"
     ]
    },
    {
     "name": "stderr",
     "output_type": "stream",
     "text": [
      "/home/ssm-user/anaconda3/envs/single_cell/lib/python3.8/site-packages/pandas/core/arrays/categorical.py:2487: FutureWarning: The `inplace` parameter in pandas.Categorical.remove_unused_categories is deprecated and will be removed in a future version.\n",
      "  res = method(*args, **kwargs)\n",
      "[Parallel(n_jobs=94)]: Using backend LokyBackend with 94 concurrent workers.\n",
      "[Parallel(n_jobs=94)]: Done  12 tasks      | elapsed:    2.1s\n",
      "[Parallel(n_jobs=94)]: Done 370 out of 370 | elapsed:   13.4s finished\n",
      "... storing 'memento_group' as categorical\n"
     ]
    },
    {
     "name": "stdout",
     "output_type": "stream",
     "text": [
      "SMAD4 MARCH8\n"
     ]
    },
    {
     "name": "stderr",
     "output_type": "stream",
     "text": [
      "/home/ssm-user/anaconda3/envs/single_cell/lib/python3.8/site-packages/pandas/core/arrays/categorical.py:2487: FutureWarning: The `inplace` parameter in pandas.Categorical.remove_unused_categories is deprecated and will be removed in a future version.\n",
      "  res = method(*args, **kwargs)\n"
     ]
    },
    {
     "name": "stdout",
     "output_type": "stream",
     "text": [
      "SMAD4 IRF1\n"
     ]
    },
    {
     "name": "stderr",
     "output_type": "stream",
     "text": [
      "[Parallel(n_jobs=94)]: Using backend LokyBackend with 94 concurrent workers.\n",
      "[Parallel(n_jobs=94)]: Done  12 tasks      | elapsed:    2.9s\n",
      "[Parallel(n_jobs=94)]: Done 324 out of 324 | elapsed:   15.3s finished\n",
      "... storing 'memento_group' as categorical\n"
     ]
    },
    {
     "name": "stdout",
     "output_type": "stream",
     "text": [
      "SMAD4 POU2F2\n"
     ]
    },
    {
     "name": "stderr",
     "output_type": "stream",
     "text": [
      "/home/ssm-user/anaconda3/envs/single_cell/lib/python3.8/site-packages/pandas/core/arrays/categorical.py:2487: FutureWarning: The `inplace` parameter in pandas.Categorical.remove_unused_categories is deprecated and will be removed in a future version.\n",
      "  res = method(*args, **kwargs)\n"
     ]
    },
    {
     "name": "stdout",
     "output_type": "stream",
     "text": [
      "SMAD4 ETV7\n",
      "SMAD4 IFNGR2\n"
     ]
    },
    {
     "name": "stderr",
     "output_type": "stream",
     "text": [
      "[Parallel(n_jobs=94)]: Using backend LokyBackend with 94 concurrent workers.\n",
      "[Parallel(n_jobs=94)]: Done  12 tasks      | elapsed:    2.4s\n",
      "[Parallel(n_jobs=94)]: Done 262 tasks      | elapsed:   12.8s\n",
      "[Parallel(n_jobs=94)]: Done 612 tasks      | elapsed:   27.2s\n",
      "[Parallel(n_jobs=94)]: Done 811 out of 811 | elapsed:   34.9s finished\n",
      "... storing 'memento_group' as categorical\n"
     ]
    },
    {
     "name": "stdout",
     "output_type": "stream",
     "text": [
      "SMAD4 TNFRSF14\n"
     ]
    },
    {
     "name": "stderr",
     "output_type": "stream",
     "text": [
      "/home/ssm-user/anaconda3/envs/single_cell/lib/python3.8/site-packages/pandas/core/arrays/categorical.py:2487: FutureWarning: The `inplace` parameter in pandas.Categorical.remove_unused_categories is deprecated and will be removed in a future version.\n",
      "  res = method(*args, **kwargs)\n"
     ]
    },
    {
     "name": "stdout",
     "output_type": "stream",
     "text": [
      "SMAD4 SPI1\n",
      "SMAD4 MYC\n",
      "STAT5A STAT2\n",
      "STAT5A CAV1\n",
      "STAT5A STAT1\n",
      "STAT5A CD86\n",
      "STAT5A IRF7\n",
      "STAT5A NT\n",
      "STAT5A ATF2\n",
      "STAT5A STAT3\n",
      "STAT5A JAK2\n",
      "STAT5A NFKBIA\n",
      "STAT5A SMAD4\n",
      "STAT5A STAT5A\n",
      "STAT5A CMTM6\n",
      "STAT5A IFNGR1\n",
      "STAT5A UBE2L6\n",
      "STAT5A PDCD1LG2\n",
      "STAT5A CUL3\n",
      "STAT5A BRD4\n",
      "STAT5A MARCH8\n",
      "STAT5A IRF1\n",
      "STAT5A POU2F2\n",
      "STAT5A ETV7\n",
      "STAT5A IFNGR2\n",
      "STAT5A TNFRSF14\n",
      "STAT5A SPI1\n",
      "STAT5A MYC\n",
      "CMTM6 STAT2\n",
      "CMTM6 CAV1\n",
      "CMTM6 STAT1\n",
      "CMTM6 CD86\n",
      "CMTM6 IRF7\n",
      "CMTM6 NT\n",
      "CMTM6 ATF2\n",
      "CMTM6 STAT3\n",
      "CMTM6 JAK2\n",
      "CMTM6 NFKBIA\n",
      "CMTM6 SMAD4\n",
      "CMTM6 STAT5A\n",
      "CMTM6 CMTM6\n",
      "CMTM6 IFNGR1\n",
      "CMTM6 UBE2L6\n",
      "CMTM6 PDCD1LG2\n",
      "CMTM6 CUL3\n",
      "CMTM6 BRD4\n",
      "CMTM6 MARCH8\n",
      "CMTM6 IRF1\n",
      "CMTM6 POU2F2\n",
      "CMTM6 ETV7\n",
      "CMTM6 IFNGR2\n",
      "CMTM6 TNFRSF14\n",
      "CMTM6 SPI1\n",
      "CMTM6 MYC\n",
      "IFNGR1 STAT2\n"
     ]
    },
    {
     "name": "stderr",
     "output_type": "stream",
     "text": [
      "[Parallel(n_jobs=94)]: Using backend LokyBackend with 94 concurrent workers.\n",
      "[Parallel(n_jobs=94)]: Done  64 out of 125 | elapsed:    5.2s remaining:    4.9s\n",
      "[Parallel(n_jobs=94)]: Done 125 out of 125 | elapsed:    7.6s finished\n",
      "... storing 'memento_group' as categorical\n"
     ]
    },
    {
     "name": "stdout",
     "output_type": "stream",
     "text": [
      "IFNGR1 CAV1\n"
     ]
    },
    {
     "name": "stderr",
     "output_type": "stream",
     "text": [
      "/home/ssm-user/anaconda3/envs/single_cell/lib/python3.8/site-packages/pandas/core/arrays/categorical.py:2487: FutureWarning: The `inplace` parameter in pandas.Categorical.remove_unused_categories is deprecated and will be removed in a future version.\n",
      "  res = method(*args, **kwargs)\n"
     ]
    },
    {
     "name": "stdout",
     "output_type": "stream",
     "text": [
      "IFNGR1 STAT1\n"
     ]
    },
    {
     "name": "stderr",
     "output_type": "stream",
     "text": [
      "[Parallel(n_jobs=94)]: Using backend LokyBackend with 94 concurrent workers.\n",
      "[Parallel(n_jobs=94)]: Done  12 tasks      | elapsed:    3.1s\n",
      "[Parallel(n_jobs=94)]: Done 262 tasks      | elapsed:   13.2s\n",
      "[Parallel(n_jobs=94)]: Done 612 tasks      | elapsed:   28.6s\n",
      "[Parallel(n_jobs=94)]: Done 1062 tasks      | elapsed:   48.5s\n",
      "[Parallel(n_jobs=94)]: Done 1411 out of 1411 | elapsed:  1.1min finished\n",
      "... storing 'memento_group' as categorical\n"
     ]
    },
    {
     "name": "stdout",
     "output_type": "stream",
     "text": [
      "IFNGR1 CD86\n"
     ]
    },
    {
     "name": "stderr",
     "output_type": "stream",
     "text": [
      "/home/ssm-user/anaconda3/envs/single_cell/lib/python3.8/site-packages/pandas/core/arrays/categorical.py:2487: FutureWarning: The `inplace` parameter in pandas.Categorical.remove_unused_categories is deprecated and will be removed in a future version.\n",
      "  res = method(*args, **kwargs)\n"
     ]
    },
    {
     "name": "stdout",
     "output_type": "stream",
     "text": [
      "IFNGR1 IRF7\n",
      "IFNGR1 NT\n",
      "IFNGR1 ATF2\n",
      "IFNGR1 STAT3\n",
      "IFNGR1 JAK2\n"
     ]
    },
    {
     "name": "stderr",
     "output_type": "stream",
     "text": [
      "[Parallel(n_jobs=94)]: Using backend LokyBackend with 94 concurrent workers.\n",
      "[Parallel(n_jobs=94)]: Done  12 tasks      | elapsed:    3.8s\n",
      "[Parallel(n_jobs=94)]: Done 262 tasks      | elapsed:   15.8s\n",
      "[Parallel(n_jobs=94)]: Done 612 tasks      | elapsed:   34.4s\n",
      "[Parallel(n_jobs=94)]: Done 1062 tasks      | elapsed:   59.0s\n",
      "[Parallel(n_jobs=94)]: Done 1612 tasks      | elapsed:  1.5min\n",
      "[Parallel(n_jobs=94)]: Done 1856 out of 1856 | elapsed:  1.7min finished\n",
      "... storing 'memento_group' as categorical\n"
     ]
    },
    {
     "name": "stdout",
     "output_type": "stream",
     "text": [
      "IFNGR1 NFKBIA\n"
     ]
    },
    {
     "name": "stderr",
     "output_type": "stream",
     "text": [
      "/home/ssm-user/anaconda3/envs/single_cell/lib/python3.8/site-packages/pandas/core/arrays/categorical.py:2487: FutureWarning: The `inplace` parameter in pandas.Categorical.remove_unused_categories is deprecated and will be removed in a future version.\n",
      "  res = method(*args, **kwargs)\n"
     ]
    },
    {
     "name": "stdout",
     "output_type": "stream",
     "text": [
      "IFNGR1 SMAD4\n"
     ]
    },
    {
     "name": "stderr",
     "output_type": "stream",
     "text": [
      "[Parallel(n_jobs=94)]: Using backend LokyBackend with 94 concurrent workers.\n",
      "[Parallel(n_jobs=94)]: Done  12 tasks      | elapsed:    3.1s\n",
      "[Parallel(n_jobs=94)]: Done 262 tasks      | elapsed:   14.7s\n",
      "[Parallel(n_jobs=94)]: Done 612 tasks      | elapsed:   31.7s\n",
      "[Parallel(n_jobs=94)]: Done 899 out of 899 | elapsed:   44.3s finished\n",
      "... storing 'memento_group' as categorical\n"
     ]
    },
    {
     "name": "stdout",
     "output_type": "stream",
     "text": [
      "IFNGR1 STAT5A\n"
     ]
    },
    {
     "name": "stderr",
     "output_type": "stream",
     "text": [
      "/home/ssm-user/anaconda3/envs/single_cell/lib/python3.8/site-packages/pandas/core/arrays/categorical.py:2487: FutureWarning: The `inplace` parameter in pandas.Categorical.remove_unused_categories is deprecated and will be removed in a future version.\n",
      "  res = method(*args, **kwargs)\n"
     ]
    },
    {
     "name": "stdout",
     "output_type": "stream",
     "text": [
      "IFNGR1 CMTM6\n",
      "IFNGR1 IFNGR1\n",
      "IFNGR1 UBE2L6\n",
      "IFNGR1 PDCD1LG2\n",
      "IFNGR1 CUL3\n"
     ]
    },
    {
     "name": "stderr",
     "output_type": "stream",
     "text": [
      "[Parallel(n_jobs=94)]: Using backend LokyBackend with 94 concurrent workers.\n",
      "[Parallel(n_jobs=94)]: Done   7 out of  38 | elapsed:    1.9s remaining:    8.6s\n",
      "[Parallel(n_jobs=94)]: Done  38 out of  38 | elapsed:    2.8s finished\n",
      "... storing 'memento_group' as categorical\n"
     ]
    },
    {
     "name": "stdout",
     "output_type": "stream",
     "text": [
      "IFNGR1 BRD4\n"
     ]
    },
    {
     "name": "stderr",
     "output_type": "stream",
     "text": [
      "/home/ssm-user/anaconda3/envs/single_cell/lib/python3.8/site-packages/pandas/core/arrays/categorical.py:2487: FutureWarning: The `inplace` parameter in pandas.Categorical.remove_unused_categories is deprecated and will be removed in a future version.\n",
      "  res = method(*args, **kwargs)\n",
      "[Parallel(n_jobs=94)]: Using backend LokyBackend with 94 concurrent workers.\n",
      "[Parallel(n_jobs=94)]: Done  12 tasks      | elapsed:    2.8s\n",
      "[Parallel(n_jobs=94)]: Done 326 out of 326 | elapsed:   14.7s finished\n",
      "... storing 'memento_group' as categorical\n"
     ]
    },
    {
     "name": "stdout",
     "output_type": "stream",
     "text": [
      "IFNGR1 MARCH8\n"
     ]
    },
    {
     "name": "stderr",
     "output_type": "stream",
     "text": [
      "/home/ssm-user/anaconda3/envs/single_cell/lib/python3.8/site-packages/pandas/core/arrays/categorical.py:2487: FutureWarning: The `inplace` parameter in pandas.Categorical.remove_unused_categories is deprecated and will be removed in a future version.\n",
      "  res = method(*args, **kwargs)\n"
     ]
    },
    {
     "name": "stdout",
     "output_type": "stream",
     "text": [
      "IFNGR1 IRF1\n"
     ]
    },
    {
     "name": "stderr",
     "output_type": "stream",
     "text": [
      "[Parallel(n_jobs=94)]: Using backend LokyBackend with 94 concurrent workers.\n",
      "[Parallel(n_jobs=94)]: Done  12 tasks      | elapsed:    4.0s\n",
      "[Parallel(n_jobs=94)]: Done 262 tasks      | elapsed:   16.6s\n",
      "[Parallel(n_jobs=94)]: Done 685 out of 685 | elapsed:   38.3s finished\n",
      "... storing 'memento_group' as categorical\n"
     ]
    },
    {
     "name": "stdout",
     "output_type": "stream",
     "text": [
      "IFNGR1 POU2F2\n"
     ]
    },
    {
     "name": "stderr",
     "output_type": "stream",
     "text": [
      "/home/ssm-user/anaconda3/envs/single_cell/lib/python3.8/site-packages/pandas/core/arrays/categorical.py:2487: FutureWarning: The `inplace` parameter in pandas.Categorical.remove_unused_categories is deprecated and will be removed in a future version.\n",
      "  res = method(*args, **kwargs)\n"
     ]
    },
    {
     "name": "stdout",
     "output_type": "stream",
     "text": [
      "IFNGR1 ETV7\n",
      "IFNGR1 IFNGR2\n"
     ]
    },
    {
     "name": "stderr",
     "output_type": "stream",
     "text": [
      "[Parallel(n_jobs=94)]: Using backend LokyBackend with 94 concurrent workers.\n",
      "[Parallel(n_jobs=94)]: Done  12 tasks      | elapsed:    3.9s\n",
      "[Parallel(n_jobs=94)]: Done 262 tasks      | elapsed:   15.8s\n",
      "[Parallel(n_jobs=94)]: Done 612 tasks      | elapsed:   34.9s\n",
      "[Parallel(n_jobs=94)]: Done 1062 tasks      | elapsed:   59.2s\n",
      "[Parallel(n_jobs=94)]: Done 1612 tasks      | elapsed:  1.5min\n",
      "[Parallel(n_jobs=94)]: Done 1807 out of 1807 | elapsed:  1.6min finished\n",
      "... storing 'memento_group' as categorical\n"
     ]
    },
    {
     "name": "stdout",
     "output_type": "stream",
     "text": [
      "IFNGR1 TNFRSF14\n"
     ]
    },
    {
     "name": "stderr",
     "output_type": "stream",
     "text": [
      "/home/ssm-user/anaconda3/envs/single_cell/lib/python3.8/site-packages/pandas/core/arrays/categorical.py:2487: FutureWarning: The `inplace` parameter in pandas.Categorical.remove_unused_categories is deprecated and will be removed in a future version.\n",
      "  res = method(*args, **kwargs)\n"
     ]
    },
    {
     "name": "stdout",
     "output_type": "stream",
     "text": [
      "IFNGR1 SPI1\n"
     ]
    },
    {
     "name": "stderr",
     "output_type": "stream",
     "text": [
      "[Parallel(n_jobs=94)]: Using backend LokyBackend with 94 concurrent workers.\n",
      "[Parallel(n_jobs=94)]: Done  10 out of  21 | elapsed:    1.8s remaining:    2.0s\n",
      "[Parallel(n_jobs=94)]: Done  21 out of  21 | elapsed:    2.5s finished\n",
      "... storing 'memento_group' as categorical\n"
     ]
    },
    {
     "name": "stdout",
     "output_type": "stream",
     "text": [
      "IFNGR1 MYC\n"
     ]
    },
    {
     "name": "stderr",
     "output_type": "stream",
     "text": [
      "/home/ssm-user/anaconda3/envs/single_cell/lib/python3.8/site-packages/pandas/core/arrays/categorical.py:2487: FutureWarning: The `inplace` parameter in pandas.Categorical.remove_unused_categories is deprecated and will be removed in a future version.\n",
      "  res = method(*args, **kwargs)\n",
      "[Parallel(n_jobs=94)]: Using backend LokyBackend with 94 concurrent workers.\n",
      "[Parallel(n_jobs=94)]: Done   2 out of  37 | elapsed:    1.4s remaining:   24.0s\n",
      "[Parallel(n_jobs=94)]: Done  37 out of  37 | elapsed:    2.6s finished\n",
      "... storing 'memento_group' as categorical\n"
     ]
    },
    {
     "name": "stdout",
     "output_type": "stream",
     "text": [
      "UBE2L6 STAT2\n"
     ]
    },
    {
     "name": "stderr",
     "output_type": "stream",
     "text": [
      "/home/ssm-user/anaconda3/envs/single_cell/lib/python3.8/site-packages/pandas/core/arrays/categorical.py:2487: FutureWarning: The `inplace` parameter in pandas.Categorical.remove_unused_categories is deprecated and will be removed in a future version.\n",
      "  res = method(*args, **kwargs)\n"
     ]
    },
    {
     "name": "stdout",
     "output_type": "stream",
     "text": [
      "UBE2L6 CAV1\n",
      "UBE2L6 STAT1\n",
      "UBE2L6 CD86\n",
      "UBE2L6 IRF7\n",
      "UBE2L6 NT\n",
      "UBE2L6 ATF2\n",
      "UBE2L6 STAT3\n",
      "UBE2L6 JAK2\n",
      "UBE2L6 NFKBIA\n",
      "UBE2L6 SMAD4\n",
      "UBE2L6 STAT5A\n",
      "UBE2L6 CMTM6\n",
      "UBE2L6 IFNGR1\n",
      "UBE2L6 UBE2L6\n",
      "UBE2L6 PDCD1LG2\n",
      "UBE2L6 CUL3\n",
      "UBE2L6 BRD4\n",
      "UBE2L6 MARCH8\n",
      "UBE2L6 IRF1\n",
      "UBE2L6 POU2F2\n",
      "UBE2L6 ETV7\n",
      "UBE2L6 IFNGR2\n",
      "UBE2L6 TNFRSF14\n",
      "UBE2L6 SPI1\n",
      "UBE2L6 MYC\n",
      "PDCD1LG2 STAT2\n",
      "PDCD1LG2 CAV1\n",
      "PDCD1LG2 STAT1\n",
      "PDCD1LG2 CD86\n",
      "PDCD1LG2 IRF7\n",
      "PDCD1LG2 NT\n",
      "PDCD1LG2 ATF2\n",
      "PDCD1LG2 STAT3\n",
      "PDCD1LG2 JAK2\n",
      "PDCD1LG2 NFKBIA\n",
      "PDCD1LG2 SMAD4\n",
      "PDCD1LG2 STAT5A\n",
      "PDCD1LG2 CMTM6\n",
      "PDCD1LG2 IFNGR1\n",
      "PDCD1LG2 UBE2L6\n",
      "PDCD1LG2 PDCD1LG2\n",
      "PDCD1LG2 CUL3\n",
      "PDCD1LG2 BRD4\n",
      "PDCD1LG2 MARCH8\n",
      "PDCD1LG2 IRF1\n",
      "PDCD1LG2 POU2F2\n",
      "PDCD1LG2 ETV7\n",
      "PDCD1LG2 IFNGR2\n",
      "PDCD1LG2 TNFRSF14\n",
      "PDCD1LG2 SPI1\n",
      "PDCD1LG2 MYC\n",
      "CUL3 STAT2\n",
      "CUL3 CAV1\n",
      "CUL3 STAT1\n"
     ]
    },
    {
     "name": "stderr",
     "output_type": "stream",
     "text": [
      "[Parallel(n_jobs=94)]: Using backend LokyBackend with 94 concurrent workers.\n",
      "[Parallel(n_jobs=94)]: Done  30 out of  30 | elapsed:    2.5s finished\n",
      "... storing 'memento_group' as categorical\n"
     ]
    },
    {
     "name": "stdout",
     "output_type": "stream",
     "text": [
      "CUL3 CD86\n"
     ]
    },
    {
     "name": "stderr",
     "output_type": "stream",
     "text": [
      "/home/ssm-user/anaconda3/envs/single_cell/lib/python3.8/site-packages/pandas/core/arrays/categorical.py:2487: FutureWarning: The `inplace` parameter in pandas.Categorical.remove_unused_categories is deprecated and will be removed in a future version.\n",
      "  res = method(*args, **kwargs)\n"
     ]
    },
    {
     "name": "stdout",
     "output_type": "stream",
     "text": [
      "CUL3 IRF7\n",
      "CUL3 NT\n",
      "CUL3 ATF2\n",
      "CUL3 STAT3\n",
      "CUL3 JAK2\n"
     ]
    },
    {
     "name": "stderr",
     "output_type": "stream",
     "text": [
      "[Parallel(n_jobs=94)]: Using backend LokyBackend with 94 concurrent workers.\n",
      "[Parallel(n_jobs=94)]: Done  10 out of  32 | elapsed:    2.0s remaining:    4.4s\n",
      "[Parallel(n_jobs=94)]: Done  32 out of  32 | elapsed:    3.0s finished\n",
      "... storing 'memento_group' as categorical\n"
     ]
    },
    {
     "name": "stdout",
     "output_type": "stream",
     "text": [
      "CUL3 NFKBIA\n"
     ]
    },
    {
     "name": "stderr",
     "output_type": "stream",
     "text": [
      "/home/ssm-user/anaconda3/envs/single_cell/lib/python3.8/site-packages/pandas/core/arrays/categorical.py:2487: FutureWarning: The `inplace` parameter in pandas.Categorical.remove_unused_categories is deprecated and will be removed in a future version.\n",
      "  res = method(*args, **kwargs)\n"
     ]
    },
    {
     "name": "stdout",
     "output_type": "stream",
     "text": [
      "CUL3 SMAD4\n"
     ]
    },
    {
     "name": "stderr",
     "output_type": "stream",
     "text": [
      "[Parallel(n_jobs=94)]: Using backend LokyBackend with 94 concurrent workers.\n",
      "[Parallel(n_jobs=94)]: Done  32 out of  43 | elapsed:    2.4s remaining:    0.8s\n",
      "[Parallel(n_jobs=94)]: Done  43 out of  43 | elapsed:    2.8s finished\n",
      "... storing 'memento_group' as categorical\n"
     ]
    },
    {
     "name": "stdout",
     "output_type": "stream",
     "text": [
      "CUL3 STAT5A\n"
     ]
    },
    {
     "name": "stderr",
     "output_type": "stream",
     "text": [
      "/home/ssm-user/anaconda3/envs/single_cell/lib/python3.8/site-packages/pandas/core/arrays/categorical.py:2487: FutureWarning: The `inplace` parameter in pandas.Categorical.remove_unused_categories is deprecated and will be removed in a future version.\n",
      "  res = method(*args, **kwargs)\n"
     ]
    },
    {
     "name": "stdout",
     "output_type": "stream",
     "text": [
      "CUL3 CMTM6\n",
      "CUL3 IFNGR1\n"
     ]
    },
    {
     "name": "stderr",
     "output_type": "stream",
     "text": [
      "[Parallel(n_jobs=94)]: Using backend LokyBackend with 94 concurrent workers.\n",
      "[Parallel(n_jobs=94)]: Done   7 out of  38 | elapsed:    2.1s remaining:    9.4s\n",
      "[Parallel(n_jobs=94)]: Done  38 out of  38 | elapsed:    3.5s finished\n",
      "... storing 'memento_group' as categorical\n"
     ]
    },
    {
     "name": "stdout",
     "output_type": "stream",
     "text": [
      "CUL3 UBE2L6\n"
     ]
    },
    {
     "name": "stderr",
     "output_type": "stream",
     "text": [
      "/home/ssm-user/anaconda3/envs/single_cell/lib/python3.8/site-packages/pandas/core/arrays/categorical.py:2487: FutureWarning: The `inplace` parameter in pandas.Categorical.remove_unused_categories is deprecated and will be removed in a future version.\n",
      "  res = method(*args, **kwargs)\n"
     ]
    },
    {
     "name": "stdout",
     "output_type": "stream",
     "text": [
      "CUL3 PDCD1LG2\n",
      "CUL3 CUL3\n",
      "CUL3 BRD4\n"
     ]
    },
    {
     "name": "stderr",
     "output_type": "stream",
     "text": [
      "[Parallel(n_jobs=94)]: Using backend LokyBackend with 94 concurrent workers.\n",
      "[Parallel(n_jobs=94)]: Done  20 out of  51 | elapsed:    1.7s remaining:    2.6s\n",
      "[Parallel(n_jobs=94)]: Done  51 out of  51 | elapsed:    2.6s finished\n",
      "... storing 'memento_group' as categorical\n"
     ]
    },
    {
     "name": "stdout",
     "output_type": "stream",
     "text": [
      "CUL3 MARCH8\n"
     ]
    },
    {
     "name": "stderr",
     "output_type": "stream",
     "text": [
      "/home/ssm-user/anaconda3/envs/single_cell/lib/python3.8/site-packages/pandas/core/arrays/categorical.py:2487: FutureWarning: The `inplace` parameter in pandas.Categorical.remove_unused_categories is deprecated and will be removed in a future version.\n",
      "  res = method(*args, **kwargs)\n"
     ]
    },
    {
     "name": "stdout",
     "output_type": "stream",
     "text": [
      "CUL3 IRF1\n"
     ]
    },
    {
     "name": "stderr",
     "output_type": "stream",
     "text": [
      "[Parallel(n_jobs=94)]: Using backend LokyBackend with 94 concurrent workers.\n",
      "[Parallel(n_jobs=94)]: Done  22 out of  34 | elapsed:    2.4s remaining:    1.3s\n",
      "[Parallel(n_jobs=94)]: Done  34 out of  34 | elapsed:    3.3s finished\n",
      "... storing 'memento_group' as categorical\n"
     ]
    },
    {
     "name": "stdout",
     "output_type": "stream",
     "text": [
      "CUL3 POU2F2\n"
     ]
    },
    {
     "name": "stderr",
     "output_type": "stream",
     "text": [
      "/home/ssm-user/anaconda3/envs/single_cell/lib/python3.8/site-packages/pandas/core/arrays/categorical.py:2487: FutureWarning: The `inplace` parameter in pandas.Categorical.remove_unused_categories is deprecated and will be removed in a future version.\n",
      "  res = method(*args, **kwargs)\n"
     ]
    },
    {
     "name": "stdout",
     "output_type": "stream",
     "text": [
      "CUL3 ETV7\n",
      "CUL3 IFNGR2\n"
     ]
    },
    {
     "name": "stderr",
     "output_type": "stream",
     "text": [
      "[Parallel(n_jobs=94)]: Using backend LokyBackend with 94 concurrent workers.\n",
      "[Parallel(n_jobs=94)]: Done  16 out of  33 | elapsed:    2.4s remaining:    2.5s\n",
      "[Parallel(n_jobs=94)]: Done  33 out of  33 | elapsed:    3.2s finished\n",
      "... storing 'memento_group' as categorical\n"
     ]
    },
    {
     "name": "stdout",
     "output_type": "stream",
     "text": [
      "CUL3 TNFRSF14\n"
     ]
    },
    {
     "name": "stderr",
     "output_type": "stream",
     "text": [
      "/home/ssm-user/anaconda3/envs/single_cell/lib/python3.8/site-packages/pandas/core/arrays/categorical.py:2487: FutureWarning: The `inplace` parameter in pandas.Categorical.remove_unused_categories is deprecated and will be removed in a future version.\n",
      "  res = method(*args, **kwargs)\n"
     ]
    },
    {
     "name": "stdout",
     "output_type": "stream",
     "text": [
      "CUL3 SPI1\n",
      "CUL3 MYC\n",
      "BRD4 STAT2\n"
     ]
    },
    {
     "name": "stderr",
     "output_type": "stream",
     "text": [
      "[Parallel(n_jobs=94)]: Using backend LokyBackend with 94 concurrent workers.\n",
      "[Parallel(n_jobs=94)]: Done  12 out of  19 | elapsed:    2.3s remaining:    1.4s\n",
      "[Parallel(n_jobs=94)]: Done  19 out of  19 | elapsed:    2.7s finished\n",
      "... storing 'memento_group' as categorical\n"
     ]
    },
    {
     "name": "stdout",
     "output_type": "stream",
     "text": [
      "BRD4 CAV1\n"
     ]
    },
    {
     "name": "stderr",
     "output_type": "stream",
     "text": [
      "/home/ssm-user/anaconda3/envs/single_cell/lib/python3.8/site-packages/pandas/core/arrays/categorical.py:2487: FutureWarning: The `inplace` parameter in pandas.Categorical.remove_unused_categories is deprecated and will be removed in a future version.\n",
      "  res = method(*args, **kwargs)\n"
     ]
    },
    {
     "name": "stdout",
     "output_type": "stream",
     "text": [
      "BRD4 STAT1\n"
     ]
    },
    {
     "name": "stderr",
     "output_type": "stream",
     "text": [
      "[Parallel(n_jobs=94)]: Using backend LokyBackend with 94 concurrent workers.\n",
      "[Parallel(n_jobs=94)]: Done  12 tasks      | elapsed:    3.2s\n",
      "[Parallel(n_jobs=94)]: Done 202 out of 202 | elapsed:   10.7s finished\n",
      "... storing 'memento_group' as categorical\n"
     ]
    },
    {
     "name": "stdout",
     "output_type": "stream",
     "text": [
      "BRD4 CD86\n"
     ]
    },
    {
     "name": "stderr",
     "output_type": "stream",
     "text": [
      "/home/ssm-user/anaconda3/envs/single_cell/lib/python3.8/site-packages/pandas/core/arrays/categorical.py:2487: FutureWarning: The `inplace` parameter in pandas.Categorical.remove_unused_categories is deprecated and will be removed in a future version.\n",
      "  res = method(*args, **kwargs)\n"
     ]
    },
    {
     "name": "stdout",
     "output_type": "stream",
     "text": [
      "BRD4 IRF7\n",
      "BRD4 NT\n",
      "BRD4 ATF2\n",
      "BRD4 STAT3\n",
      "BRD4 JAK2\n"
     ]
    },
    {
     "name": "stderr",
     "output_type": "stream",
     "text": [
      "[Parallel(n_jobs=94)]: Using backend LokyBackend with 94 concurrent workers.\n",
      "[Parallel(n_jobs=94)]: Done  12 tasks      | elapsed:    4.3s\n",
      "[Parallel(n_jobs=94)]: Done 278 out of 278 | elapsed:   17.2s finished\n",
      "... storing 'memento_group' as categorical\n"
     ]
    },
    {
     "name": "stdout",
     "output_type": "stream",
     "text": [
      "BRD4 NFKBIA\n"
     ]
    },
    {
     "name": "stderr",
     "output_type": "stream",
     "text": [
      "/home/ssm-user/anaconda3/envs/single_cell/lib/python3.8/site-packages/pandas/core/arrays/categorical.py:2487: FutureWarning: The `inplace` parameter in pandas.Categorical.remove_unused_categories is deprecated and will be removed in a future version.\n",
      "  res = method(*args, **kwargs)\n"
     ]
    },
    {
     "name": "stdout",
     "output_type": "stream",
     "text": [
      "BRD4 SMAD4\n"
     ]
    },
    {
     "name": "stderr",
     "output_type": "stream",
     "text": [
      "[Parallel(n_jobs=94)]: Using backend LokyBackend with 94 concurrent workers.\n",
      "[Parallel(n_jobs=94)]: Done  12 tasks      | elapsed:    3.7s\n",
      "[Parallel(n_jobs=94)]: Done 370 out of 370 | elapsed:   19.9s finished\n",
      "... storing 'memento_group' as categorical\n"
     ]
    },
    {
     "name": "stdout",
     "output_type": "stream",
     "text": [
      "BRD4 STAT5A\n"
     ]
    },
    {
     "name": "stderr",
     "output_type": "stream",
     "text": [
      "/home/ssm-user/anaconda3/envs/single_cell/lib/python3.8/site-packages/pandas/core/arrays/categorical.py:2487: FutureWarning: The `inplace` parameter in pandas.Categorical.remove_unused_categories is deprecated and will be removed in a future version.\n",
      "  res = method(*args, **kwargs)\n"
     ]
    },
    {
     "name": "stdout",
     "output_type": "stream",
     "text": [
      "BRD4 CMTM6\n",
      "BRD4 IFNGR1\n"
     ]
    },
    {
     "name": "stderr",
     "output_type": "stream",
     "text": [
      "[Parallel(n_jobs=94)]: Using backend LokyBackend with 94 concurrent workers.\n",
      "[Parallel(n_jobs=94)]: Done  12 tasks      | elapsed:    4.1s\n",
      "[Parallel(n_jobs=94)]: Done 327 out of 327 | elapsed:   21.0s finished\n",
      "... storing 'memento_group' as categorical\n"
     ]
    },
    {
     "name": "stdout",
     "output_type": "stream",
     "text": [
      "BRD4 UBE2L6\n"
     ]
    },
    {
     "name": "stderr",
     "output_type": "stream",
     "text": [
      "/home/ssm-user/anaconda3/envs/single_cell/lib/python3.8/site-packages/pandas/core/arrays/categorical.py:2487: FutureWarning: The `inplace` parameter in pandas.Categorical.remove_unused_categories is deprecated and will be removed in a future version.\n",
      "  res = method(*args, **kwargs)\n"
     ]
    },
    {
     "name": "stdout",
     "output_type": "stream",
     "text": [
      "BRD4 PDCD1LG2\n",
      "BRD4 CUL3\n"
     ]
    },
    {
     "name": "stderr",
     "output_type": "stream",
     "text": [
      "[Parallel(n_jobs=94)]: Using backend LokyBackend with 94 concurrent workers.\n",
      "[Parallel(n_jobs=94)]: Done  20 out of  51 | elapsed:    2.2s remaining:    3.5s\n",
      "[Parallel(n_jobs=94)]: Done  51 out of  51 | elapsed:    3.2s finished\n",
      "... storing 'memento_group' as categorical\n"
     ]
    },
    {
     "name": "stdout",
     "output_type": "stream",
     "text": [
      "BRD4 BRD4\n",
      "BRD4 MARCH8\n"
     ]
    },
    {
     "name": "stderr",
     "output_type": "stream",
     "text": [
      "/home/ssm-user/anaconda3/envs/single_cell/lib/python3.8/site-packages/pandas/core/arrays/categorical.py:2487: FutureWarning: The `inplace` parameter in pandas.Categorical.remove_unused_categories is deprecated and will be removed in a future version.\n",
      "  res = method(*args, **kwargs)\n"
     ]
    },
    {
     "name": "stdout",
     "output_type": "stream",
     "text": [
      "BRD4 IRF1\n"
     ]
    },
    {
     "name": "stderr",
     "output_type": "stream",
     "text": [
      "[Parallel(n_jobs=94)]: Using backend LokyBackend with 94 concurrent workers.\n",
      "[Parallel(n_jobs=94)]: Done  88 out of 137 | elapsed:    6.8s remaining:    3.8s\n",
      "[Parallel(n_jobs=94)]: Done 137 out of 137 | elapsed:    9.3s finished\n",
      "... storing 'memento_group' as categorical\n"
     ]
    },
    {
     "name": "stdout",
     "output_type": "stream",
     "text": [
      "BRD4 POU2F2\n"
     ]
    },
    {
     "name": "stderr",
     "output_type": "stream",
     "text": [
      "/home/ssm-user/anaconda3/envs/single_cell/lib/python3.8/site-packages/pandas/core/arrays/categorical.py:2487: FutureWarning: The `inplace` parameter in pandas.Categorical.remove_unused_categories is deprecated and will be removed in a future version.\n",
      "  res = method(*args, **kwargs)\n"
     ]
    },
    {
     "name": "stdout",
     "output_type": "stream",
     "text": [
      "BRD4 ETV7\n",
      "BRD4 IFNGR2\n"
     ]
    },
    {
     "name": "stderr",
     "output_type": "stream",
     "text": [
      "[Parallel(n_jobs=94)]: Using backend LokyBackend with 94 concurrent workers.\n",
      "[Parallel(n_jobs=94)]: Done  12 tasks      | elapsed:    4.3s\n",
      "[Parallel(n_jobs=94)]: Done 269 out of 269 | elapsed:   17.2s finished\n",
      "... storing 'memento_group' as categorical\n"
     ]
    },
    {
     "name": "stdout",
     "output_type": "stream",
     "text": [
      "BRD4 TNFRSF14\n"
     ]
    },
    {
     "name": "stderr",
     "output_type": "stream",
     "text": [
      "/home/ssm-user/anaconda3/envs/single_cell/lib/python3.8/site-packages/pandas/core/arrays/categorical.py:2487: FutureWarning: The `inplace` parameter in pandas.Categorical.remove_unused_categories is deprecated and will be removed in a future version.\n",
      "  res = method(*args, **kwargs)\n"
     ]
    },
    {
     "name": "stdout",
     "output_type": "stream",
     "text": [
      "BRD4 SPI1\n"
     ]
    },
    {
     "name": "stderr",
     "output_type": "stream",
     "text": [
      "[Parallel(n_jobs=94)]: Using backend LokyBackend with 94 concurrent workers.\n",
      "[Parallel(n_jobs=94)]: Done  10 out of  10 | elapsed:    2.5s remaining:    0.0s\n",
      "[Parallel(n_jobs=94)]: Done  10 out of  10 | elapsed:    2.5s finished\n",
      "... storing 'memento_group' as categorical\n"
     ]
    },
    {
     "name": "stdout",
     "output_type": "stream",
     "text": [
      "BRD4 MYC\n"
     ]
    },
    {
     "name": "stderr",
     "output_type": "stream",
     "text": [
      "/home/ssm-user/anaconda3/envs/single_cell/lib/python3.8/site-packages/pandas/core/arrays/categorical.py:2487: FutureWarning: The `inplace` parameter in pandas.Categorical.remove_unused_categories is deprecated and will be removed in a future version.\n",
      "  res = method(*args, **kwargs)\n",
      "[Parallel(n_jobs=94)]: Using backend LokyBackend with 94 concurrent workers.\n",
      "[Parallel(n_jobs=94)]: Done  16 out of  50 | elapsed:    2.3s remaining:    4.8s\n",
      "[Parallel(n_jobs=94)]: Done  50 out of  50 | elapsed:    3.0s finished\n",
      "... storing 'memento_group' as categorical\n"
     ]
    },
    {
     "name": "stdout",
     "output_type": "stream",
     "text": [
      "MARCH8 STAT2\n"
     ]
    },
    {
     "name": "stderr",
     "output_type": "stream",
     "text": [
      "/home/ssm-user/anaconda3/envs/single_cell/lib/python3.8/site-packages/pandas/core/arrays/categorical.py:2487: FutureWarning: The `inplace` parameter in pandas.Categorical.remove_unused_categories is deprecated and will be removed in a future version.\n",
      "  res = method(*args, **kwargs)\n"
     ]
    },
    {
     "name": "stdout",
     "output_type": "stream",
     "text": [
      "MARCH8 CAV1\n",
      "MARCH8 STAT1\n",
      "MARCH8 CD86\n",
      "MARCH8 IRF7\n",
      "MARCH8 NT\n",
      "MARCH8 ATF2\n",
      "MARCH8 STAT3\n",
      "MARCH8 JAK2\n",
      "MARCH8 NFKBIA\n",
      "MARCH8 SMAD4\n",
      "MARCH8 STAT5A\n",
      "MARCH8 CMTM6\n",
      "MARCH8 IFNGR1\n",
      "MARCH8 UBE2L6\n",
      "MARCH8 PDCD1LG2\n",
      "MARCH8 CUL3\n",
      "MARCH8 BRD4\n",
      "MARCH8 MARCH8\n",
      "MARCH8 IRF1\n",
      "MARCH8 POU2F2\n",
      "MARCH8 ETV7\n",
      "MARCH8 IFNGR2\n",
      "MARCH8 TNFRSF14\n",
      "MARCH8 SPI1\n",
      "MARCH8 MYC\n",
      "IRF1 STAT2\n"
     ]
    },
    {
     "name": "stderr",
     "output_type": "stream",
     "text": [
      "[Parallel(n_jobs=94)]: Using backend LokyBackend with 94 concurrent workers.\n",
      "[Parallel(n_jobs=94)]: Done  13 out of  66 | elapsed:    4.1s remaining:   16.6s\n",
      "[Parallel(n_jobs=94)]: Done  66 out of  66 | elapsed:    5.4s finished\n",
      "... storing 'memento_group' as categorical\n"
     ]
    },
    {
     "name": "stdout",
     "output_type": "stream",
     "text": [
      "IRF1 CAV1\n"
     ]
    },
    {
     "name": "stderr",
     "output_type": "stream",
     "text": [
      "/home/ssm-user/anaconda3/envs/single_cell/lib/python3.8/site-packages/pandas/core/arrays/categorical.py:2487: FutureWarning: The `inplace` parameter in pandas.Categorical.remove_unused_categories is deprecated and will be removed in a future version.\n",
      "  res = method(*args, **kwargs)\n"
     ]
    },
    {
     "name": "stdout",
     "output_type": "stream",
     "text": [
      "IRF1 STAT1\n"
     ]
    },
    {
     "name": "stderr",
     "output_type": "stream",
     "text": [
      "[Parallel(n_jobs=94)]: Using backend LokyBackend with 94 concurrent workers.\n",
      "[Parallel(n_jobs=94)]: Done  12 tasks      | elapsed:    5.1s\n",
      "[Parallel(n_jobs=94)]: Done 262 tasks      | elapsed:   18.6s\n",
      "[Parallel(n_jobs=94)]: Done 569 out of 569 | elapsed:   37.0s finished\n",
      "... storing 'memento_group' as categorical\n"
     ]
    },
    {
     "name": "stdout",
     "output_type": "stream",
     "text": [
      "IRF1 CD86\n"
     ]
    },
    {
     "name": "stderr",
     "output_type": "stream",
     "text": [
      "/home/ssm-user/anaconda3/envs/single_cell/lib/python3.8/site-packages/pandas/core/arrays/categorical.py:2487: FutureWarning: The `inplace` parameter in pandas.Categorical.remove_unused_categories is deprecated and will be removed in a future version.\n",
      "  res = method(*args, **kwargs)\n"
     ]
    },
    {
     "name": "stdout",
     "output_type": "stream",
     "text": [
      "IRF1 IRF7\n",
      "IRF1 NT\n",
      "IRF1 ATF2\n",
      "IRF1 STAT3\n",
      "IRF1 JAK2\n"
     ]
    },
    {
     "name": "stderr",
     "output_type": "stream",
     "text": [
      "[Parallel(n_jobs=94)]: Using backend LokyBackend with 94 concurrent workers.\n",
      "[Parallel(n_jobs=94)]: Done  12 tasks      | elapsed:    6.2s\n",
      "[Parallel(n_jobs=94)]: Done 262 tasks      | elapsed:   22.3s\n",
      "[Parallel(n_jobs=94)]: Done 663 out of 663 | elapsed:   50.7s finished\n",
      "... storing 'memento_group' as categorical\n"
     ]
    },
    {
     "name": "stdout",
     "output_type": "stream",
     "text": [
      "IRF1 NFKBIA\n"
     ]
    },
    {
     "name": "stderr",
     "output_type": "stream",
     "text": [
      "/home/ssm-user/anaconda3/envs/single_cell/lib/python3.8/site-packages/pandas/core/arrays/categorical.py:2487: FutureWarning: The `inplace` parameter in pandas.Categorical.remove_unused_categories is deprecated and will be removed in a future version.\n",
      "  res = method(*args, **kwargs)\n"
     ]
    },
    {
     "name": "stdout",
     "output_type": "stream",
     "text": [
      "IRF1 SMAD4\n"
     ]
    },
    {
     "name": "stderr",
     "output_type": "stream",
     "text": [
      "[Parallel(n_jobs=94)]: Using backend LokyBackend with 94 concurrent workers.\n",
      "[Parallel(n_jobs=94)]: Done  12 tasks      | elapsed:    6.2s\n",
      "[Parallel(n_jobs=94)]: Done 323 out of 323 | elapsed:   24.5s finished\n",
      "... storing 'memento_group' as categorical\n"
     ]
    },
    {
     "name": "stdout",
     "output_type": "stream",
     "text": [
      "IRF1 STAT5A\n"
     ]
    },
    {
     "name": "stderr",
     "output_type": "stream",
     "text": [
      "/home/ssm-user/anaconda3/envs/single_cell/lib/python3.8/site-packages/pandas/core/arrays/categorical.py:2487: FutureWarning: The `inplace` parameter in pandas.Categorical.remove_unused_categories is deprecated and will be removed in a future version.\n",
      "  res = method(*args, **kwargs)\n"
     ]
    },
    {
     "name": "stdout",
     "output_type": "stream",
     "text": [
      "IRF1 CMTM6\n",
      "IRF1 IFNGR1\n"
     ]
    },
    {
     "name": "stderr",
     "output_type": "stream",
     "text": [
      "[Parallel(n_jobs=94)]: Using backend LokyBackend with 94 concurrent workers.\n",
      "[Parallel(n_jobs=94)]: Done  12 tasks      | elapsed:    6.5s\n",
      "[Parallel(n_jobs=94)]: Done 262 tasks      | elapsed:   23.8s\n",
      "[Parallel(n_jobs=94)]: Done 684 out of 684 | elapsed:   55.9s finished\n",
      "... storing 'memento_group' as categorical\n"
     ]
    },
    {
     "name": "stdout",
     "output_type": "stream",
     "text": [
      "IRF1 UBE2L6\n"
     ]
    },
    {
     "name": "stderr",
     "output_type": "stream",
     "text": [
      "/home/ssm-user/anaconda3/envs/single_cell/lib/python3.8/site-packages/pandas/core/arrays/categorical.py:2487: FutureWarning: The `inplace` parameter in pandas.Categorical.remove_unused_categories is deprecated and will be removed in a future version.\n",
      "  res = method(*args, **kwargs)\n"
     ]
    },
    {
     "name": "stdout",
     "output_type": "stream",
     "text": [
      "IRF1 PDCD1LG2\n",
      "IRF1 CUL3\n"
     ]
    },
    {
     "name": "stderr",
     "output_type": "stream",
     "text": [
      "[Parallel(n_jobs=94)]: Using backend LokyBackend with 94 concurrent workers.\n",
      "[Parallel(n_jobs=94)]: Done  22 out of  34 | elapsed:    2.8s remaining:    1.5s\n",
      "[Parallel(n_jobs=94)]: Done  34 out of  34 | elapsed:    3.0s finished\n",
      "... storing 'memento_group' as categorical\n"
     ]
    },
    {
     "name": "stdout",
     "output_type": "stream",
     "text": [
      "IRF1 BRD4\n"
     ]
    },
    {
     "name": "stderr",
     "output_type": "stream",
     "text": [
      "/home/ssm-user/anaconda3/envs/single_cell/lib/python3.8/site-packages/pandas/core/arrays/categorical.py:2487: FutureWarning: The `inplace` parameter in pandas.Categorical.remove_unused_categories is deprecated and will be removed in a future version.\n",
      "  res = method(*args, **kwargs)\n",
      "[Parallel(n_jobs=94)]: Using backend LokyBackend with 94 concurrent workers.\n",
      "[Parallel(n_jobs=94)]: Done  88 out of 137 | elapsed:    6.8s remaining:    3.8s\n",
      "[Parallel(n_jobs=94)]: Done 137 out of 137 | elapsed:    9.6s finished\n",
      "... storing 'memento_group' as categorical\n"
     ]
    },
    {
     "name": "stdout",
     "output_type": "stream",
     "text": [
      "IRF1 MARCH8\n"
     ]
    },
    {
     "name": "stderr",
     "output_type": "stream",
     "text": [
      "/home/ssm-user/anaconda3/envs/single_cell/lib/python3.8/site-packages/pandas/core/arrays/categorical.py:2487: FutureWarning: The `inplace` parameter in pandas.Categorical.remove_unused_categories is deprecated and will be removed in a future version.\n",
      "  res = method(*args, **kwargs)\n"
     ]
    },
    {
     "name": "stdout",
     "output_type": "stream",
     "text": [
      "IRF1 IRF1\n",
      "IRF1 POU2F2\n",
      "IRF1 ETV7\n",
      "IRF1 IFNGR2\n"
     ]
    },
    {
     "name": "stderr",
     "output_type": "stream",
     "text": [
      "[Parallel(n_jobs=94)]: Using backend LokyBackend with 94 concurrent workers.\n",
      "[Parallel(n_jobs=94)]: Done  12 tasks      | elapsed:    6.3s\n",
      "[Parallel(n_jobs=94)]: Done 262 tasks      | elapsed:   22.8s\n",
      "[Parallel(n_jobs=94)]: Done 676 out of 676 | elapsed:   53.2s finished\n",
      "... storing 'memento_group' as categorical\n"
     ]
    },
    {
     "name": "stdout",
     "output_type": "stream",
     "text": [
      "IRF1 TNFRSF14\n"
     ]
    },
    {
     "name": "stderr",
     "output_type": "stream",
     "text": [
      "/home/ssm-user/anaconda3/envs/single_cell/lib/python3.8/site-packages/pandas/core/arrays/categorical.py:2487: FutureWarning: The `inplace` parameter in pandas.Categorical.remove_unused_categories is deprecated and will be removed in a future version.\n",
      "  res = method(*args, **kwargs)\n"
     ]
    },
    {
     "name": "stdout",
     "output_type": "stream",
     "text": [
      "IRF1 SPI1\n"
     ]
    },
    {
     "name": "stderr",
     "output_type": "stream",
     "text": [
      "[Parallel(n_jobs=94)]: Using backend LokyBackend with 94 concurrent workers.\n",
      "[Parallel(n_jobs=94)]: Done   7 out of  12 | elapsed:    2.3s remaining:    1.6s\n",
      "[Parallel(n_jobs=94)]: Done  12 out of  12 | elapsed:    3.0s finished\n",
      "... storing 'memento_group' as categorical\n"
     ]
    },
    {
     "name": "stdout",
     "output_type": "stream",
     "text": [
      "IRF1 MYC\n"
     ]
    },
    {
     "name": "stderr",
     "output_type": "stream",
     "text": [
      "/home/ssm-user/anaconda3/envs/single_cell/lib/python3.8/site-packages/pandas/core/arrays/categorical.py:2487: FutureWarning: The `inplace` parameter in pandas.Categorical.remove_unused_categories is deprecated and will be removed in a future version.\n",
      "  res = method(*args, **kwargs)\n",
      "[Parallel(n_jobs=94)]: Using backend LokyBackend with 94 concurrent workers.\n",
      "[Parallel(n_jobs=94)]: Done  10 out of  21 | elapsed:    2.3s remaining:    2.5s\n",
      "[Parallel(n_jobs=94)]: Done  21 out of  21 | elapsed:    2.5s finished\n",
      "... storing 'memento_group' as categorical\n"
     ]
    },
    {
     "name": "stdout",
     "output_type": "stream",
     "text": [
      "POU2F2 STAT2\n"
     ]
    },
    {
     "name": "stderr",
     "output_type": "stream",
     "text": [
      "/home/ssm-user/anaconda3/envs/single_cell/lib/python3.8/site-packages/pandas/core/arrays/categorical.py:2487: FutureWarning: The `inplace` parameter in pandas.Categorical.remove_unused_categories is deprecated and will be removed in a future version.\n",
      "  res = method(*args, **kwargs)\n"
     ]
    },
    {
     "name": "stdout",
     "output_type": "stream",
     "text": [
      "POU2F2 CAV1\n",
      "POU2F2 STAT1\n",
      "POU2F2 CD86\n",
      "POU2F2 IRF7\n",
      "POU2F2 NT\n",
      "POU2F2 ATF2\n",
      "POU2F2 STAT3\n",
      "POU2F2 JAK2\n",
      "POU2F2 NFKBIA\n",
      "POU2F2 SMAD4\n",
      "POU2F2 STAT5A\n",
      "POU2F2 CMTM6\n",
      "POU2F2 IFNGR1\n",
      "POU2F2 UBE2L6\n",
      "POU2F2 PDCD1LG2\n",
      "POU2F2 CUL3\n",
      "POU2F2 BRD4\n",
      "POU2F2 MARCH8\n",
      "POU2F2 IRF1\n",
      "POU2F2 POU2F2\n",
      "POU2F2 ETV7\n",
      "POU2F2 IFNGR2\n",
      "POU2F2 TNFRSF14\n",
      "POU2F2 SPI1\n",
      "POU2F2 MYC\n",
      "ETV7 STAT2\n",
      "ETV7 CAV1\n",
      "ETV7 STAT1\n",
      "ETV7 CD86\n",
      "ETV7 IRF7\n",
      "ETV7 NT\n",
      "ETV7 ATF2\n",
      "ETV7 STAT3\n",
      "ETV7 JAK2\n",
      "ETV7 NFKBIA\n",
      "ETV7 SMAD4\n",
      "ETV7 STAT5A\n",
      "ETV7 CMTM6\n",
      "ETV7 IFNGR1\n",
      "ETV7 UBE2L6\n",
      "ETV7 PDCD1LG2\n",
      "ETV7 CUL3\n",
      "ETV7 BRD4\n",
      "ETV7 MARCH8\n",
      "ETV7 IRF1\n",
      "ETV7 POU2F2\n",
      "ETV7 ETV7\n",
      "ETV7 IFNGR2\n",
      "ETV7 TNFRSF14\n",
      "ETV7 SPI1\n",
      "ETV7 MYC\n",
      "IFNGR2 STAT2\n"
     ]
    },
    {
     "name": "stderr",
     "output_type": "stream",
     "text": [
      "[Parallel(n_jobs=94)]: Using backend LokyBackend with 94 concurrent workers.\n",
      "[Parallel(n_jobs=94)]: Done  56 out of 121 | elapsed:    6.5s remaining:    7.6s\n",
      "[Parallel(n_jobs=94)]: Done 121 out of 121 | elapsed:    9.5s finished\n",
      "... storing 'memento_group' as categorical\n"
     ]
    },
    {
     "name": "stdout",
     "output_type": "stream",
     "text": [
      "IFNGR2 CAV1\n"
     ]
    },
    {
     "name": "stderr",
     "output_type": "stream",
     "text": [
      "/home/ssm-user/anaconda3/envs/single_cell/lib/python3.8/site-packages/pandas/core/arrays/categorical.py:2487: FutureWarning: The `inplace` parameter in pandas.Categorical.remove_unused_categories is deprecated and will be removed in a future version.\n",
      "  res = method(*args, **kwargs)\n"
     ]
    },
    {
     "name": "stdout",
     "output_type": "stream",
     "text": [
      "IFNGR2 STAT1\n"
     ]
    },
    {
     "name": "stderr",
     "output_type": "stream",
     "text": [
      "[Parallel(n_jobs=94)]: Using backend LokyBackend with 94 concurrent workers.\n",
      "[Parallel(n_jobs=94)]: Done  12 tasks      | elapsed:    4.8s\n",
      "[Parallel(n_jobs=94)]: Done 262 tasks      | elapsed:   17.6s\n",
      "[Parallel(n_jobs=94)]: Done 612 tasks      | elapsed:   39.5s\n",
      "[Parallel(n_jobs=94)]: Done 1062 tasks      | elapsed:  1.1min\n",
      "[Parallel(n_jobs=94)]: Done 1397 out of 1397 | elapsed:  1.4min finished\n",
      "... storing 'memento_group' as categorical\n"
     ]
    },
    {
     "name": "stdout",
     "output_type": "stream",
     "text": [
      "IFNGR2 CD86\n"
     ]
    },
    {
     "name": "stderr",
     "output_type": "stream",
     "text": [
      "/home/ssm-user/anaconda3/envs/single_cell/lib/python3.8/site-packages/pandas/core/arrays/categorical.py:2487: FutureWarning: The `inplace` parameter in pandas.Categorical.remove_unused_categories is deprecated and will be removed in a future version.\n",
      "  res = method(*args, **kwargs)\n"
     ]
    },
    {
     "name": "stdout",
     "output_type": "stream",
     "text": [
      "IFNGR2 IRF7\n",
      "IFNGR2 NT\n",
      "IFNGR2 ATF2\n",
      "IFNGR2 STAT3\n",
      "IFNGR2 JAK2\n"
     ]
    },
    {
     "name": "stderr",
     "output_type": "stream",
     "text": [
      "[Parallel(n_jobs=94)]: Using backend LokyBackend with 94 concurrent workers.\n",
      "[Parallel(n_jobs=94)]: Done  12 tasks      | elapsed:    6.1s\n",
      "[Parallel(n_jobs=94)]: Done 262 tasks      | elapsed:   21.3s\n",
      "[Parallel(n_jobs=94)]: Done 612 tasks      | elapsed:   47.8s\n",
      "[Parallel(n_jobs=94)]: Done 1062 tasks      | elapsed:  1.3min\n",
      "[Parallel(n_jobs=94)]: Done 1782 out of 1782 | elapsed:  2.2min finished\n",
      "... storing 'memento_group' as categorical\n"
     ]
    },
    {
     "name": "stdout",
     "output_type": "stream",
     "text": [
      "IFNGR2 NFKBIA\n"
     ]
    },
    {
     "name": "stderr",
     "output_type": "stream",
     "text": [
      "/home/ssm-user/anaconda3/envs/single_cell/lib/python3.8/site-packages/pandas/core/arrays/categorical.py:2487: FutureWarning: The `inplace` parameter in pandas.Categorical.remove_unused_categories is deprecated and will be removed in a future version.\n",
      "  res = method(*args, **kwargs)\n"
     ]
    },
    {
     "name": "stdout",
     "output_type": "stream",
     "text": [
      "IFNGR2 SMAD4\n"
     ]
    },
    {
     "name": "stderr",
     "output_type": "stream",
     "text": [
      "[Parallel(n_jobs=94)]: Using backend LokyBackend with 94 concurrent workers.\n",
      "[Parallel(n_jobs=94)]: Done  12 tasks      | elapsed:    5.0s\n",
      "[Parallel(n_jobs=94)]: Done 262 tasks      | elapsed:   19.5s\n",
      "[Parallel(n_jobs=94)]: Done 612 tasks      | elapsed:   43.4s\n",
      "[Parallel(n_jobs=94)]: Done 811 out of 811 | elapsed:   54.5s finished\n",
      "... storing 'memento_group' as categorical\n"
     ]
    },
    {
     "name": "stdout",
     "output_type": "stream",
     "text": [
      "IFNGR2 STAT5A\n"
     ]
    },
    {
     "name": "stderr",
     "output_type": "stream",
     "text": [
      "/home/ssm-user/anaconda3/envs/single_cell/lib/python3.8/site-packages/pandas/core/arrays/categorical.py:2487: FutureWarning: The `inplace` parameter in pandas.Categorical.remove_unused_categories is deprecated and will be removed in a future version.\n",
      "  res = method(*args, **kwargs)\n"
     ]
    },
    {
     "name": "stdout",
     "output_type": "stream",
     "text": [
      "IFNGR2 CMTM6\n",
      "IFNGR2 IFNGR1\n"
     ]
    },
    {
     "name": "stderr",
     "output_type": "stream",
     "text": [
      "[Parallel(n_jobs=94)]: Using backend LokyBackend with 94 concurrent workers.\n",
      "[Parallel(n_jobs=94)]: Done  12 tasks      | elapsed:    6.5s\n",
      "[Parallel(n_jobs=94)]: Done 262 tasks      | elapsed:   22.8s\n",
      "[Parallel(n_jobs=94)]: Done 612 tasks      | elapsed:   51.2s\n",
      "[Parallel(n_jobs=94)]: Done 1062 tasks      | elapsed:  1.5min\n",
      "[Parallel(n_jobs=94)]: Done 1612 tasks      | elapsed:  2.2min\n",
      "[Parallel(n_jobs=94)]: Done 1807 out of 1807 | elapsed:  2.4min finished\n",
      "... storing 'memento_group' as categorical\n"
     ]
    },
    {
     "name": "stdout",
     "output_type": "stream",
     "text": [
      "IFNGR2 UBE2L6\n"
     ]
    },
    {
     "name": "stderr",
     "output_type": "stream",
     "text": [
      "/home/ssm-user/anaconda3/envs/single_cell/lib/python3.8/site-packages/pandas/core/arrays/categorical.py:2487: FutureWarning: The `inplace` parameter in pandas.Categorical.remove_unused_categories is deprecated and will be removed in a future version.\n",
      "  res = method(*args, **kwargs)\n"
     ]
    },
    {
     "name": "stdout",
     "output_type": "stream",
     "text": [
      "IFNGR2 PDCD1LG2\n",
      "IFNGR2 CUL3\n"
     ]
    },
    {
     "name": "stderr",
     "output_type": "stream",
     "text": [
      "[Parallel(n_jobs=94)]: Using backend LokyBackend with 94 concurrent workers.\n",
      "[Parallel(n_jobs=94)]: Done  16 out of  33 | elapsed:    2.7s remaining:    2.8s\n",
      "[Parallel(n_jobs=94)]: Done  33 out of  33 | elapsed:    3.1s finished\n",
      "... storing 'memento_group' as categorical\n"
     ]
    },
    {
     "name": "stdout",
     "output_type": "stream",
     "text": [
      "IFNGR2 BRD4\n"
     ]
    },
    {
     "name": "stderr",
     "output_type": "stream",
     "text": [
      "/home/ssm-user/anaconda3/envs/single_cell/lib/python3.8/site-packages/pandas/core/arrays/categorical.py:2487: FutureWarning: The `inplace` parameter in pandas.Categorical.remove_unused_categories is deprecated and will be removed in a future version.\n",
      "  res = method(*args, **kwargs)\n",
      "[Parallel(n_jobs=94)]: Using backend LokyBackend with 94 concurrent workers.\n",
      "[Parallel(n_jobs=94)]: Done  12 tasks      | elapsed:    4.6s\n",
      "[Parallel(n_jobs=94)]: Done 269 out of 269 | elapsed:   16.5s finished\n",
      "... storing 'memento_group' as categorical\n"
     ]
    },
    {
     "name": "stdout",
     "output_type": "stream",
     "text": [
      "IFNGR2 MARCH8\n"
     ]
    },
    {
     "name": "stderr",
     "output_type": "stream",
     "text": [
      "/home/ssm-user/anaconda3/envs/single_cell/lib/python3.8/site-packages/pandas/core/arrays/categorical.py:2487: FutureWarning: The `inplace` parameter in pandas.Categorical.remove_unused_categories is deprecated and will be removed in a future version.\n",
      "  res = method(*args, **kwargs)\n"
     ]
    },
    {
     "name": "stdout",
     "output_type": "stream",
     "text": [
      "IFNGR2 IRF1\n"
     ]
    },
    {
     "name": "stderr",
     "output_type": "stream",
     "text": [
      "[Parallel(n_jobs=94)]: Using backend LokyBackend with 94 concurrent workers.\n",
      "[Parallel(n_jobs=94)]: Done  12 tasks      | elapsed:    5.9s\n",
      "[Parallel(n_jobs=94)]: Done 262 tasks      | elapsed:   21.6s\n",
      "[Parallel(n_jobs=94)]: Done 676 out of 676 | elapsed:   50.5s finished\n",
      "... storing 'memento_group' as categorical\n"
     ]
    },
    {
     "name": "stdout",
     "output_type": "stream",
     "text": [
      "IFNGR2 POU2F2\n"
     ]
    },
    {
     "name": "stderr",
     "output_type": "stream",
     "text": [
      "/home/ssm-user/anaconda3/envs/single_cell/lib/python3.8/site-packages/pandas/core/arrays/categorical.py:2487: FutureWarning: The `inplace` parameter in pandas.Categorical.remove_unused_categories is deprecated and will be removed in a future version.\n",
      "  res = method(*args, **kwargs)\n"
     ]
    },
    {
     "name": "stdout",
     "output_type": "stream",
     "text": [
      "IFNGR2 ETV7\n",
      "IFNGR2 IFNGR2\n",
      "IFNGR2 TNFRSF14\n",
      "IFNGR2 SPI1\n"
     ]
    },
    {
     "name": "stderr",
     "output_type": "stream",
     "text": [
      "[Parallel(n_jobs=94)]: Using backend LokyBackend with 94 concurrent workers.\n",
      "[Parallel(n_jobs=94)]: Done  12 out of  19 | elapsed:    2.3s remaining:    1.3s\n",
      "[Parallel(n_jobs=94)]: Done  19 out of  19 | elapsed:    3.1s finished\n",
      "... storing 'memento_group' as categorical\n"
     ]
    },
    {
     "name": "stdout",
     "output_type": "stream",
     "text": [
      "IFNGR2 MYC\n"
     ]
    },
    {
     "name": "stderr",
     "output_type": "stream",
     "text": [
      "/home/ssm-user/anaconda3/envs/single_cell/lib/python3.8/site-packages/pandas/core/arrays/categorical.py:2487: FutureWarning: The `inplace` parameter in pandas.Categorical.remove_unused_categories is deprecated and will be removed in a future version.\n",
      "  res = method(*args, **kwargs)\n",
      "[Parallel(n_jobs=94)]: Using backend LokyBackend with 94 concurrent workers.\n",
      "[Parallel(n_jobs=94)]: Done  10 out of  32 | elapsed:    2.1s remaining:    4.5s\n",
      "[Parallel(n_jobs=94)]: Done  32 out of  32 | elapsed:    2.7s finished\n",
      "... storing 'memento_group' as categorical\n"
     ]
    },
    {
     "name": "stdout",
     "output_type": "stream",
     "text": [
      "TNFRSF14 STAT2\n"
     ]
    },
    {
     "name": "stderr",
     "output_type": "stream",
     "text": [
      "/home/ssm-user/anaconda3/envs/single_cell/lib/python3.8/site-packages/pandas/core/arrays/categorical.py:2487: FutureWarning: The `inplace` parameter in pandas.Categorical.remove_unused_categories is deprecated and will be removed in a future version.\n",
      "  res = method(*args, **kwargs)\n"
     ]
    },
    {
     "name": "stdout",
     "output_type": "stream",
     "text": [
      "TNFRSF14 CAV1\n",
      "TNFRSF14 STAT1\n",
      "TNFRSF14 CD86\n",
      "TNFRSF14 IRF7\n",
      "TNFRSF14 NT\n",
      "TNFRSF14 ATF2\n",
      "TNFRSF14 STAT3\n",
      "TNFRSF14 JAK2\n",
      "TNFRSF14 NFKBIA\n",
      "TNFRSF14 SMAD4\n",
      "TNFRSF14 STAT5A\n",
      "TNFRSF14 CMTM6\n",
      "TNFRSF14 IFNGR1\n",
      "TNFRSF14 UBE2L6\n",
      "TNFRSF14 PDCD1LG2\n",
      "TNFRSF14 CUL3\n",
      "TNFRSF14 BRD4\n",
      "TNFRSF14 MARCH8\n",
      "TNFRSF14 IRF1\n",
      "TNFRSF14 POU2F2\n",
      "TNFRSF14 ETV7\n",
      "TNFRSF14 IFNGR2\n",
      "TNFRSF14 TNFRSF14\n",
      "TNFRSF14 SPI1\n",
      "TNFRSF14 MYC\n",
      "SPI1 STAT2\n",
      "SPI1 CAV1\n",
      "SPI1 STAT1\n"
     ]
    },
    {
     "name": "stderr",
     "output_type": "stream",
     "text": [
      "[Parallel(n_jobs=94)]: Using backend LokyBackend with 94 concurrent workers.\n",
      "[Parallel(n_jobs=94)]: Done   7 out of  14 | elapsed:    2.4s remaining:    2.4s\n",
      "[Parallel(n_jobs=94)]: Done  14 out of  14 | elapsed:    2.7s finished\n",
      "... storing 'memento_group' as categorical\n"
     ]
    },
    {
     "name": "stdout",
     "output_type": "stream",
     "text": [
      "SPI1 CD86\n"
     ]
    },
    {
     "name": "stderr",
     "output_type": "stream",
     "text": [
      "/home/ssm-user/anaconda3/envs/single_cell/lib/python3.8/site-packages/pandas/core/arrays/categorical.py:2487: FutureWarning: The `inplace` parameter in pandas.Categorical.remove_unused_categories is deprecated and will be removed in a future version.\n",
      "  res = method(*args, **kwargs)\n"
     ]
    },
    {
     "name": "stdout",
     "output_type": "stream",
     "text": [
      "SPI1 IRF7\n",
      "SPI1 NT\n",
      "SPI1 ATF2\n",
      "SPI1 STAT3\n",
      "SPI1 JAK2\n"
     ]
    },
    {
     "name": "stderr",
     "output_type": "stream",
     "text": [
      "[Parallel(n_jobs=94)]: Using backend LokyBackend with 94 concurrent workers.\n",
      "[Parallel(n_jobs=94)]: Done  19 out of  22 | elapsed:    3.3s remaining:    0.5s\n",
      "[Parallel(n_jobs=94)]: Done  22 out of  22 | elapsed:    3.4s finished\n",
      "... storing 'memento_group' as categorical\n"
     ]
    },
    {
     "name": "stdout",
     "output_type": "stream",
     "text": [
      "SPI1 NFKBIA\n"
     ]
    },
    {
     "name": "stderr",
     "output_type": "stream",
     "text": [
      "/home/ssm-user/anaconda3/envs/single_cell/lib/python3.8/site-packages/pandas/core/arrays/categorical.py:2487: FutureWarning: The `inplace` parameter in pandas.Categorical.remove_unused_categories is deprecated and will be removed in a future version.\n",
      "  res = method(*args, **kwargs)\n"
     ]
    },
    {
     "name": "stdout",
     "output_type": "stream",
     "text": [
      "SPI1 SMAD4\n"
     ]
    },
    {
     "name": "stderr",
     "output_type": "stream",
     "text": [
      "[Parallel(n_jobs=94)]: Using backend LokyBackend with 94 concurrent workers.\n",
      "[Parallel(n_jobs=94)]: Done  12 out of  19 | elapsed:    2.9s remaining:    1.7s\n",
      "[Parallel(n_jobs=94)]: Done  19 out of  19 | elapsed:    3.2s finished\n",
      "... storing 'memento_group' as categorical\n"
     ]
    },
    {
     "name": "stdout",
     "output_type": "stream",
     "text": [
      "SPI1 STAT5A\n"
     ]
    },
    {
     "name": "stderr",
     "output_type": "stream",
     "text": [
      "/home/ssm-user/anaconda3/envs/single_cell/lib/python3.8/site-packages/pandas/core/arrays/categorical.py:2487: FutureWarning: The `inplace` parameter in pandas.Categorical.remove_unused_categories is deprecated and will be removed in a future version.\n",
      "  res = method(*args, **kwargs)\n"
     ]
    },
    {
     "name": "stdout",
     "output_type": "stream",
     "text": [
      "SPI1 CMTM6\n",
      "SPI1 IFNGR1\n"
     ]
    },
    {
     "name": "stderr",
     "output_type": "stream",
     "text": [
      "[Parallel(n_jobs=94)]: Using backend LokyBackend with 94 concurrent workers.\n",
      "[Parallel(n_jobs=94)]: Done  10 out of  21 | elapsed:    3.4s remaining:    3.7s\n",
      "[Parallel(n_jobs=94)]: Done  21 out of  21 | elapsed:    3.9s finished\n",
      "... storing 'memento_group' as categorical\n"
     ]
    },
    {
     "name": "stdout",
     "output_type": "stream",
     "text": [
      "SPI1 UBE2L6\n"
     ]
    },
    {
     "name": "stderr",
     "output_type": "stream",
     "text": [
      "/home/ssm-user/anaconda3/envs/single_cell/lib/python3.8/site-packages/pandas/core/arrays/categorical.py:2487: FutureWarning: The `inplace` parameter in pandas.Categorical.remove_unused_categories is deprecated and will be removed in a future version.\n",
      "  res = method(*args, **kwargs)\n"
     ]
    },
    {
     "name": "stdout",
     "output_type": "stream",
     "text": [
      "SPI1 PDCD1LG2\n",
      "SPI1 CUL3\n",
      "SPI1 BRD4\n"
     ]
    },
    {
     "name": "stderr",
     "output_type": "stream",
     "text": [
      "[Parallel(n_jobs=94)]: Using backend LokyBackend with 94 concurrent workers.\n",
      "[Parallel(n_jobs=94)]: Done  10 out of  10 | elapsed:    2.5s remaining:    0.0s\n",
      "[Parallel(n_jobs=94)]: Done  10 out of  10 | elapsed:    2.5s finished\n",
      "... storing 'memento_group' as categorical\n"
     ]
    },
    {
     "name": "stdout",
     "output_type": "stream",
     "text": [
      "SPI1 MARCH8\n"
     ]
    },
    {
     "name": "stderr",
     "output_type": "stream",
     "text": [
      "/home/ssm-user/anaconda3/envs/single_cell/lib/python3.8/site-packages/pandas/core/arrays/categorical.py:2487: FutureWarning: The `inplace` parameter in pandas.Categorical.remove_unused_categories is deprecated and will be removed in a future version.\n",
      "  res = method(*args, **kwargs)\n"
     ]
    },
    {
     "name": "stdout",
     "output_type": "stream",
     "text": [
      "SPI1 IRF1\n"
     ]
    },
    {
     "name": "stderr",
     "output_type": "stream",
     "text": [
      "[Parallel(n_jobs=94)]: Using backend LokyBackend with 94 concurrent workers.\n",
      "[Parallel(n_jobs=94)]: Done   7 out of  12 | elapsed:    3.1s remaining:    2.2s\n",
      "[Parallel(n_jobs=94)]: Done  12 out of  12 | elapsed:    3.4s finished\n",
      "... storing 'memento_group' as categorical\n"
     ]
    },
    {
     "name": "stdout",
     "output_type": "stream",
     "text": [
      "SPI1 POU2F2\n"
     ]
    },
    {
     "name": "stderr",
     "output_type": "stream",
     "text": [
      "/home/ssm-user/anaconda3/envs/single_cell/lib/python3.8/site-packages/pandas/core/arrays/categorical.py:2487: FutureWarning: The `inplace` parameter in pandas.Categorical.remove_unused_categories is deprecated and will be removed in a future version.\n",
      "  res = method(*args, **kwargs)\n"
     ]
    },
    {
     "name": "stdout",
     "output_type": "stream",
     "text": [
      "SPI1 ETV7\n",
      "SPI1 IFNGR2\n"
     ]
    },
    {
     "name": "stderr",
     "output_type": "stream",
     "text": [
      "[Parallel(n_jobs=94)]: Using backend LokyBackend with 94 concurrent workers.\n",
      "[Parallel(n_jobs=94)]: Done  12 out of  19 | elapsed:    3.3s remaining:    1.9s\n",
      "[Parallel(n_jobs=94)]: Done  19 out of  19 | elapsed:    3.7s finished\n",
      "... storing 'memento_group' as categorical\n"
     ]
    },
    {
     "name": "stdout",
     "output_type": "stream",
     "text": [
      "SPI1 TNFRSF14\n"
     ]
    },
    {
     "name": "stderr",
     "output_type": "stream",
     "text": [
      "/home/ssm-user/anaconda3/envs/single_cell/lib/python3.8/site-packages/pandas/core/arrays/categorical.py:2487: FutureWarning: The `inplace` parameter in pandas.Categorical.remove_unused_categories is deprecated and will be removed in a future version.\n",
      "  res = method(*args, **kwargs)\n"
     ]
    },
    {
     "name": "stdout",
     "output_type": "stream",
     "text": [
      "SPI1 SPI1\n",
      "SPI1 MYC\n",
      "MYC STAT2\n",
      "MYC CAV1\n",
      "MYC STAT1\n"
     ]
    },
    {
     "name": "stderr",
     "output_type": "stream",
     "text": [
      "[Parallel(n_jobs=94)]: Using backend LokyBackend with 94 concurrent workers.\n",
      "[Parallel(n_jobs=94)]: Done  22 out of  29 | elapsed:    1.9s remaining:    0.6s\n",
      "[Parallel(n_jobs=94)]: Done  29 out of  29 | elapsed:    2.6s finished\n",
      "... storing 'memento_group' as categorical\n"
     ]
    },
    {
     "name": "stdout",
     "output_type": "stream",
     "text": [
      "MYC CD86\n"
     ]
    },
    {
     "name": "stderr",
     "output_type": "stream",
     "text": [
      "/home/ssm-user/anaconda3/envs/single_cell/lib/python3.8/site-packages/pandas/core/arrays/categorical.py:2487: FutureWarning: The `inplace` parameter in pandas.Categorical.remove_unused_categories is deprecated and will be removed in a future version.\n",
      "  res = method(*args, **kwargs)\n"
     ]
    },
    {
     "name": "stdout",
     "output_type": "stream",
     "text": [
      "MYC IRF7\n",
      "MYC NT\n",
      "MYC ATF2\n",
      "MYC STAT3\n",
      "MYC JAK2\n"
     ]
    },
    {
     "name": "stderr",
     "output_type": "stream",
     "text": [
      "[Parallel(n_jobs=94)]: Using backend LokyBackend with 94 concurrent workers.\n",
      "[Parallel(n_jobs=94)]: Done   2 out of  37 | elapsed:    1.9s remaining:   32.8s\n",
      "[Parallel(n_jobs=94)]: Done  37 out of  37 | elapsed:    3.5s finished\n",
      "... storing 'memento_group' as categorical\n"
     ]
    },
    {
     "name": "stdout",
     "output_type": "stream",
     "text": [
      "MYC NFKBIA\n"
     ]
    },
    {
     "name": "stderr",
     "output_type": "stream",
     "text": [
      "/home/ssm-user/anaconda3/envs/single_cell/lib/python3.8/site-packages/pandas/core/arrays/categorical.py:2487: FutureWarning: The `inplace` parameter in pandas.Categorical.remove_unused_categories is deprecated and will be removed in a future version.\n",
      "  res = method(*args, **kwargs)\n"
     ]
    },
    {
     "name": "stdout",
     "output_type": "stream",
     "text": [
      "MYC SMAD4\n"
     ]
    },
    {
     "name": "stderr",
     "output_type": "stream",
     "text": [
      "[Parallel(n_jobs=94)]: Using backend LokyBackend with 94 concurrent workers.\n",
      "[Parallel(n_jobs=94)]: Done  16 out of  33 | elapsed:    1.9s remaining:    2.0s\n",
      "[Parallel(n_jobs=94)]: Done  33 out of  33 | elapsed:    3.1s finished\n",
      "... storing 'memento_group' as categorical\n"
     ]
    },
    {
     "name": "stdout",
     "output_type": "stream",
     "text": [
      "MYC STAT5A\n"
     ]
    },
    {
     "name": "stderr",
     "output_type": "stream",
     "text": [
      "/home/ssm-user/anaconda3/envs/single_cell/lib/python3.8/site-packages/pandas/core/arrays/categorical.py:2487: FutureWarning: The `inplace` parameter in pandas.Categorical.remove_unused_categories is deprecated and will be removed in a future version.\n",
      "  res = method(*args, **kwargs)\n"
     ]
    },
    {
     "name": "stdout",
     "output_type": "stream",
     "text": [
      "MYC CMTM6\n",
      "MYC IFNGR1\n"
     ]
    },
    {
     "name": "stderr",
     "output_type": "stream",
     "text": [
      "[Parallel(n_jobs=94)]: Using backend LokyBackend with 94 concurrent workers.\n",
      "[Parallel(n_jobs=94)]: Done   2 out of  37 | elapsed:    1.8s remaining:   31.7s\n",
      "[Parallel(n_jobs=94)]: Done  37 out of  37 | elapsed:    3.6s finished\n",
      "... storing 'memento_group' as categorical\n"
     ]
    },
    {
     "name": "stdout",
     "output_type": "stream",
     "text": [
      "MYC UBE2L6\n"
     ]
    },
    {
     "name": "stderr",
     "output_type": "stream",
     "text": [
      "/home/ssm-user/anaconda3/envs/single_cell/lib/python3.8/site-packages/pandas/core/arrays/categorical.py:2487: FutureWarning: The `inplace` parameter in pandas.Categorical.remove_unused_categories is deprecated and will be removed in a future version.\n",
      "  res = method(*args, **kwargs)\n"
     ]
    },
    {
     "name": "stdout",
     "output_type": "stream",
     "text": [
      "MYC PDCD1LG2\n",
      "MYC CUL3\n",
      "MYC BRD4\n"
     ]
    },
    {
     "name": "stderr",
     "output_type": "stream",
     "text": [
      "[Parallel(n_jobs=94)]: Using backend LokyBackend with 94 concurrent workers.\n",
      "[Parallel(n_jobs=94)]: Done  16 out of  50 | elapsed:    2.3s remaining:    4.8s\n",
      "[Parallel(n_jobs=94)]: Done  50 out of  50 | elapsed:    3.2s finished\n",
      "... storing 'memento_group' as categorical\n"
     ]
    },
    {
     "name": "stdout",
     "output_type": "stream",
     "text": [
      "MYC MARCH8\n"
     ]
    },
    {
     "name": "stderr",
     "output_type": "stream",
     "text": [
      "/home/ssm-user/anaconda3/envs/single_cell/lib/python3.8/site-packages/pandas/core/arrays/categorical.py:2487: FutureWarning: The `inplace` parameter in pandas.Categorical.remove_unused_categories is deprecated and will be removed in a future version.\n",
      "  res = method(*args, **kwargs)\n"
     ]
    },
    {
     "name": "stdout",
     "output_type": "stream",
     "text": [
      "MYC IRF1\n"
     ]
    },
    {
     "name": "stderr",
     "output_type": "stream",
     "text": [
      "[Parallel(n_jobs=94)]: Using backend LokyBackend with 94 concurrent workers.\n",
      "[Parallel(n_jobs=94)]: Done  10 out of  21 | elapsed:    2.1s remaining:    2.3s\n",
      "[Parallel(n_jobs=94)]: Done  21 out of  21 | elapsed:    3.1s finished\n",
      "... storing 'memento_group' as categorical\n"
     ]
    },
    {
     "name": "stdout",
     "output_type": "stream",
     "text": [
      "MYC POU2F2\n"
     ]
    },
    {
     "name": "stderr",
     "output_type": "stream",
     "text": [
      "/home/ssm-user/anaconda3/envs/single_cell/lib/python3.8/site-packages/pandas/core/arrays/categorical.py:2487: FutureWarning: The `inplace` parameter in pandas.Categorical.remove_unused_categories is deprecated and will be removed in a future version.\n",
      "  res = method(*args, **kwargs)\n"
     ]
    },
    {
     "name": "stdout",
     "output_type": "stream",
     "text": [
      "MYC ETV7\n",
      "MYC IFNGR2\n"
     ]
    },
    {
     "name": "stderr",
     "output_type": "stream",
     "text": [
      "[Parallel(n_jobs=94)]: Using backend LokyBackend with 94 concurrent workers.\n",
      "[Parallel(n_jobs=94)]: Done  10 out of  32 | elapsed:    1.9s remaining:    4.2s\n",
      "[Parallel(n_jobs=94)]: Done  32 out of  32 | elapsed:    3.4s finished\n",
      "... storing 'memento_group' as categorical\n"
     ]
    },
    {
     "name": "stdout",
     "output_type": "stream",
     "text": [
      "MYC TNFRSF14\n"
     ]
    },
    {
     "name": "stderr",
     "output_type": "stream",
     "text": [
      "/home/ssm-user/anaconda3/envs/single_cell/lib/python3.8/site-packages/pandas/core/arrays/categorical.py:2487: FutureWarning: The `inplace` parameter in pandas.Categorical.remove_unused_categories is deprecated and will be removed in a future version.\n",
      "  res = method(*args, **kwargs)\n"
     ]
    },
    {
     "name": "stdout",
     "output_type": "stream",
     "text": [
      "MYC SPI1\n",
      "MYC MYC\n"
     ]
    }
   ],
   "source": [
    "# subset_ko_genes = ['STAT1', 'STAT2', 'JAK2', 'CUL3', 'IFNGR1', 'IFNGR2', 'MYC', 'SMAD4']\n",
    "done_files = os.listdir(data_path + '/2d/')\n",
    "for g in ko_genes:\n",
    "    \n",
    "    for g_ko in ko_genes:\n",
    "        print(g, g_ko)\n",
    "        \n",
    "        if g == g_ko or g == 'NT' or g_ko == 'NT': continue\n",
    "        fname = '{}_with_{}_KO.h5ad'.format(g, g_ko)\n",
    "#         if fname in done_files: continue\n",
    "        \n",
    "        subset = adata.copy().copy()\n",
    "\n",
    "        subset = adata[adata.obs['gene'].isin(['NT', g_ko])].copy().copy()\n",
    "    \n",
    "        subset.obs['is_ko'] = subset.obs.guide_ID.str.contains(g_ko).values\n",
    "\n",
    "        memento.create_groups(subset, label_columns=['is_ko', 'replicate', 'guide_ID'])\n",
    "\n",
    "        memento.compute_1d_moments(subset, min_perc_group=.7)\n",
    "        \n",
    "        if g not in subset.var.index: continue\n",
    "\n",
    "        available_genes = list(\n",
    "            set(subset.var.index) & \\\n",
    "            set(results[g].query('de_coef < 0 & de_fdr < 0.1').gene.tolist()) & \\\n",
    "            set(results[g_ko].query('de_coef < 0 & de_fdr < 0.1').gene.tolist())\n",
    "            )\n",
    "        \n",
    "        if len(available_genes) < 10: continue\n",
    "        memento.compute_2d_moments(subset, list(itertools.product([g], available_genes))   )\n",
    "\n",
    "        memento.ht_2d_moments( \n",
    "            subset, \n",
    "            formula_like='1 + is_ko + replicate',\n",
    "            treatment_col='is_ko', \n",
    "            num_boot=10000, \n",
    "            verbose=1,\n",
    "            num_cpus=94,\n",
    "            resampling='bootstrap',\n",
    "            approx=False)\n",
    "        \n",
    "        subset.write(data_path + '2d/{}_with_{}_KO_guide_rep.h5ad'.format(g, g_ko))"
   ]
  },
  {
   "cell_type": "code",
   "execution_count": null,
   "id": "facial-cincinnati",
   "metadata": {},
   "outputs": [],
   "source": []
  },
  {
   "cell_type": "code",
   "execution_count": 36,
   "id": "wrapped-arlington",
   "metadata": {},
   "outputs": [
    {
     "data": {
      "text/plain": [
       "174"
      ]
     },
     "execution_count": 36,
     "metadata": {},
     "output_type": "execute_result"
    }
   ],
   "source": [
    "len(available_genes)"
   ]
  },
  {
   "cell_type": "code",
   "execution_count": 37,
   "id": "adapted-commonwealth",
   "metadata": {},
   "outputs": [],
   "source": [
    "df = memento.get_2d_ht_result(subset)"
   ]
  },
  {
   "cell_type": "code",
   "execution_count": 38,
   "id": "dress-seattle",
   "metadata": {},
   "outputs": [],
   "source": [
    "df['corr_fdr'] = memento.util._fdrcorrect(df['corr_pval'])"
   ]
  },
  {
   "cell_type": "code",
   "execution_count": 39,
   "id": "coral-tragedy",
   "metadata": {},
   "outputs": [
    {
     "data": {
      "text/html": [
       "<div>\n",
       "<style scoped>\n",
       "    .dataframe tbody tr th:only-of-type {\n",
       "        vertical-align: middle;\n",
       "    }\n",
       "\n",
       "    .dataframe tbody tr th {\n",
       "        vertical-align: top;\n",
       "    }\n",
       "\n",
       "    .dataframe thead th {\n",
       "        text-align: right;\n",
       "    }\n",
       "</style>\n",
       "<table border=\"1\" class=\"dataframe\">\n",
       "  <thead>\n",
       "    <tr style=\"text-align: right;\">\n",
       "      <th></th>\n",
       "      <th>gene_1</th>\n",
       "      <th>gene_2</th>\n",
       "      <th>corr_coef</th>\n",
       "      <th>corr_se</th>\n",
       "      <th>corr_pval</th>\n",
       "      <th>corr_fdr</th>\n",
       "    </tr>\n",
       "  </thead>\n",
       "  <tbody>\n",
       "    <tr>\n",
       "      <th>96</th>\n",
       "      <td>STAT1</td>\n",
       "      <td>IFI6</td>\n",
       "      <td>0.024293</td>\n",
       "      <td>0.05177</td>\n",
       "      <td>0.641736</td>\n",
       "      <td>0.946714</td>\n",
       "    </tr>\n",
       "  </tbody>\n",
       "</table>\n",
       "</div>"
      ],
      "text/plain": [
       "   gene_1 gene_2  corr_coef  corr_se  corr_pval  corr_fdr\n",
       "96  STAT1   IFI6   0.024293  0.05177   0.641736  0.946714"
      ]
     },
     "execution_count": 39,
     "metadata": {},
     "output_type": "execute_result"
    }
   ],
   "source": [
    "df.query('gene_2 == \"IFI6\"')"
   ]
  },
  {
   "cell_type": "code",
   "execution_count": 41,
   "id": "innovative-drill",
   "metadata": {},
   "outputs": [
    {
     "data": {
      "text/html": [
       "<div>\n",
       "<style scoped>\n",
       "    .dataframe tbody tr th:only-of-type {\n",
       "        vertical-align: middle;\n",
       "    }\n",
       "\n",
       "    .dataframe tbody tr th {\n",
       "        vertical-align: top;\n",
       "    }\n",
       "\n",
       "    .dataframe thead th {\n",
       "        text-align: right;\n",
       "    }\n",
       "</style>\n",
       "<table border=\"1\" class=\"dataframe\">\n",
       "  <thead>\n",
       "    <tr style=\"text-align: right;\">\n",
       "      <th></th>\n",
       "      <th>gene_1</th>\n",
       "      <th>gene_2</th>\n",
       "      <th>corr_coef</th>\n",
       "      <th>corr_se</th>\n",
       "      <th>corr_pval</th>\n",
       "      <th>corr_fdr</th>\n",
       "    </tr>\n",
       "  </thead>\n",
       "  <tbody>\n",
       "    <tr>\n",
       "      <th>114</th>\n",
       "      <td>STAT1</td>\n",
       "      <td>ERAP2</td>\n",
       "      <td>-0.350157</td>\n",
       "      <td>0.134570</td>\n",
       "      <td>0.009099</td>\n",
       "      <td>0.475702</td>\n",
       "    </tr>\n",
       "    <tr>\n",
       "      <th>51</th>\n",
       "      <td>STAT1</td>\n",
       "      <td>DHX58</td>\n",
       "      <td>-0.293619</td>\n",
       "      <td>0.177382</td>\n",
       "      <td>0.098190</td>\n",
       "      <td>0.894958</td>\n",
       "    </tr>\n",
       "    <tr>\n",
       "      <th>146</th>\n",
       "      <td>STAT1</td>\n",
       "      <td>UNC93B1</td>\n",
       "      <td>-0.243140</td>\n",
       "      <td>0.084626</td>\n",
       "      <td>0.004600</td>\n",
       "      <td>0.397860</td>\n",
       "    </tr>\n",
       "    <tr>\n",
       "      <th>108</th>\n",
       "      <td>STAT1</td>\n",
       "      <td>NUBP1</td>\n",
       "      <td>-0.223356</td>\n",
       "      <td>0.138439</td>\n",
       "      <td>0.105789</td>\n",
       "      <td>0.915078</td>\n",
       "    </tr>\n",
       "    <tr>\n",
       "      <th>168</th>\n",
       "      <td>STAT1</td>\n",
       "      <td>HESX1</td>\n",
       "      <td>-0.213875</td>\n",
       "      <td>0.096049</td>\n",
       "      <td>0.024798</td>\n",
       "      <td>0.646523</td>\n",
       "    </tr>\n",
       "    <tr>\n",
       "      <th>...</th>\n",
       "      <td>...</td>\n",
       "      <td>...</td>\n",
       "      <td>...</td>\n",
       "      <td>...</td>\n",
       "      <td>...</td>\n",
       "      <td>...</td>\n",
       "    </tr>\n",
       "    <tr>\n",
       "      <th>167</th>\n",
       "      <td>STAT1</td>\n",
       "      <td>PARP12</td>\n",
       "      <td>0.169223</td>\n",
       "      <td>0.095715</td>\n",
       "      <td>0.076992</td>\n",
       "      <td>0.894958</td>\n",
       "    </tr>\n",
       "    <tr>\n",
       "      <th>95</th>\n",
       "      <td>STAT1</td>\n",
       "      <td>IFI35</td>\n",
       "      <td>0.187848</td>\n",
       "      <td>0.059027</td>\n",
       "      <td>0.001158</td>\n",
       "      <td>0.200381</td>\n",
       "    </tr>\n",
       "    <tr>\n",
       "      <th>138</th>\n",
       "      <td>STAT1</td>\n",
       "      <td>IFIT5</td>\n",
       "      <td>0.234801</td>\n",
       "      <td>0.187125</td>\n",
       "      <td>0.219978</td>\n",
       "      <td>0.926281</td>\n",
       "    </tr>\n",
       "    <tr>\n",
       "      <th>59</th>\n",
       "      <td>STAT1</td>\n",
       "      <td>KRT8</td>\n",
       "      <td>0.251940</td>\n",
       "      <td>0.098394</td>\n",
       "      <td>0.010999</td>\n",
       "      <td>0.475702</td>\n",
       "    </tr>\n",
       "    <tr>\n",
       "      <th>123</th>\n",
       "      <td>STAT1</td>\n",
       "      <td>STAT1</td>\n",
       "      <td>NaN</td>\n",
       "      <td>NaN</td>\n",
       "      <td>NaN</td>\n",
       "      <td>1.000000</td>\n",
       "    </tr>\n",
       "  </tbody>\n",
       "</table>\n",
       "<p>174 rows × 6 columns</p>\n",
       "</div>"
      ],
      "text/plain": [
       "    gene_1   gene_2  corr_coef   corr_se  corr_pval  corr_fdr\n",
       "114  STAT1    ERAP2  -0.350157  0.134570   0.009099  0.475702\n",
       "51   STAT1    DHX58  -0.293619  0.177382   0.098190  0.894958\n",
       "146  STAT1  UNC93B1  -0.243140  0.084626   0.004600  0.397860\n",
       "108  STAT1    NUBP1  -0.223356  0.138439   0.105789  0.915078\n",
       "168  STAT1    HESX1  -0.213875  0.096049   0.024798  0.646523\n",
       "..     ...      ...        ...       ...        ...       ...\n",
       "167  STAT1   PARP12   0.169223  0.095715   0.076992  0.894958\n",
       "95   STAT1    IFI35   0.187848  0.059027   0.001158  0.200381\n",
       "138  STAT1    IFIT5   0.234801  0.187125   0.219978  0.926281\n",
       "59   STAT1     KRT8   0.251940  0.098394   0.010999  0.475702\n",
       "123  STAT1    STAT1        NaN       NaN        NaN  1.000000\n",
       "\n",
       "[174 rows x 6 columns]"
      ]
     },
     "execution_count": 41,
     "metadata": {},
     "output_type": "execute_result"
    }
   ],
   "source": [
    "df.sort_values('corr_coef')"
   ]
  },
  {
   "cell_type": "code",
   "execution_count": 43,
   "id": "qualified-terrace",
   "metadata": {},
   "outputs": [
    {
     "data": {
      "text/html": [
       "<div>\n",
       "<style scoped>\n",
       "    .dataframe tbody tr th:only-of-type {\n",
       "        vertical-align: middle;\n",
       "    }\n",
       "\n",
       "    .dataframe tbody tr th {\n",
       "        vertical-align: top;\n",
       "    }\n",
       "\n",
       "    .dataframe thead th {\n",
       "        text-align: right;\n",
       "    }\n",
       "</style>\n",
       "<table border=\"1\" class=\"dataframe\">\n",
       "  <thead>\n",
       "    <tr style=\"text-align: right;\">\n",
       "      <th></th>\n",
       "      <th>gene_1</th>\n",
       "      <th>gene_2</th>\n",
       "      <th>corr_coef</th>\n",
       "      <th>corr_se</th>\n",
       "      <th>corr_pval</th>\n",
       "      <th>corr_fdr</th>\n",
       "    </tr>\n",
       "  </thead>\n",
       "  <tbody>\n",
       "    <tr>\n",
       "      <th>95</th>\n",
       "      <td>STAT1</td>\n",
       "      <td>IFI35</td>\n",
       "      <td>0.187848</td>\n",
       "      <td>0.059027</td>\n",
       "      <td>0.001158</td>\n",
       "      <td>0.200381</td>\n",
       "    </tr>\n",
       "  </tbody>\n",
       "</table>\n",
       "</div>"
      ],
      "text/plain": [
       "   gene_1 gene_2  corr_coef   corr_se  corr_pval  corr_fdr\n",
       "95  STAT1  IFI35   0.187848  0.059027   0.001158  0.200381"
      ]
     },
     "execution_count": 43,
     "metadata": {},
     "output_type": "execute_result"
    }
   ],
   "source": [
    "df.query('corr_fdr < 0.25')"
   ]
  },
  {
   "cell_type": "code",
   "execution_count": 17,
   "id": "posted-collins",
   "metadata": {},
   "outputs": [],
   "source": [
    "heatmap = pd.DataFrame(index=subset_ko_genes, columns=subset_ko_genes)"
   ]
  },
  {
   "cell_type": "code",
   "execution_count": 18,
   "id": "lasting-waste",
   "metadata": {},
   "outputs": [
    {
     "ename": "NameError",
     "evalue": "name 'subset_ko_genes' is not defined",
     "output_type": "error",
     "traceback": [
      "\u001b[0;31m---------------------------------------------------------------------------\u001b[0m",
      "\u001b[0;31mNameError\u001b[0m                                 Traceback (most recent call last)",
      "\u001b[0;32m<ipython-input-18-91e06d731ea4>\u001b[0m in \u001b[0;36m<module>\u001b[0;34m\u001b[0m\n\u001b[1;32m      1\u001b[0m \u001b[0mresults_2d\u001b[0m \u001b[0;34m=\u001b[0m \u001b[0;34m{\u001b[0m\u001b[0;34m}\u001b[0m\u001b[0;34m\u001b[0m\u001b[0;34m\u001b[0m\u001b[0m\n\u001b[0;32m----> 2\u001b[0;31m \u001b[0;32mfor\u001b[0m \u001b[0mg\u001b[0m\u001b[0;34m,\u001b[0m \u001b[0mg_ko\u001b[0m \u001b[0;32min\u001b[0m \u001b[0mitertools\u001b[0m\u001b[0;34m.\u001b[0m\u001b[0mproduct\u001b[0m\u001b[0;34m(\u001b[0m\u001b[0msubset_ko_genes\u001b[0m\u001b[0;34m,\u001b[0m \u001b[0msubset_ko_genes\u001b[0m\u001b[0;34m)\u001b[0m\u001b[0;34m:\u001b[0m\u001b[0;34m\u001b[0m\u001b[0;34m\u001b[0m\u001b[0m\n\u001b[0m\u001b[1;32m      3\u001b[0m \u001b[0;34m\u001b[0m\u001b[0m\n\u001b[1;32m      4\u001b[0m     \u001b[0;32mif\u001b[0m \u001b[0mg\u001b[0m \u001b[0;34m==\u001b[0m \u001b[0mg_ko\u001b[0m\u001b[0;34m:\u001b[0m \u001b[0;32mcontinue\u001b[0m\u001b[0;34m\u001b[0m\u001b[0;34m\u001b[0m\u001b[0m\n\u001b[1;32m      5\u001b[0m \u001b[0;34m\u001b[0m\u001b[0m\n",
      "\u001b[0;31mNameError\u001b[0m: name 'subset_ko_genes' is not defined"
     ]
    }
   ],
   "source": [
    "results_2d = {}\n",
    "for g, g_ko in itertools.product(ko_genes, ko_genes):\n",
    "    \n",
    "    if g == g_ko: continue\n",
    "    \n",
    "    subset = sc.read(data_path + '2d/{}_with_{}_KO_guide_rep.h5ad'.format(g, g_ko))\n",
    "    df = memento.get_2d_ht_result(subset)\n",
    "    df['corr_fdr'] = memento.util._fdrcorrect(df['corr_pval'])\n",
    "    results_2d[g+'-'+g_ko] = df.copy()\n",
    "    \n",
    "    print(g, g_ko, df.query('corr_fdr < 0.1  & corr_coef < 0').shape[0])\n"
   ]
  },
  {
   "cell_type": "code",
   "execution_count": 27,
   "id": "tired-checklist",
   "metadata": {},
   "outputs": [
    {
     "data": {
      "text/html": [
       "<div>\n",
       "<style scoped>\n",
       "    .dataframe tbody tr th:only-of-type {\n",
       "        vertical-align: middle;\n",
       "    }\n",
       "\n",
       "    .dataframe tbody tr th {\n",
       "        vertical-align: top;\n",
       "    }\n",
       "\n",
       "    .dataframe thead th {\n",
       "        text-align: right;\n",
       "    }\n",
       "</style>\n",
       "<table border=\"1\" class=\"dataframe\">\n",
       "  <thead>\n",
       "    <tr style=\"text-align: right;\">\n",
       "      <th></th>\n",
       "      <th>gene_1</th>\n",
       "      <th>gene_2</th>\n",
       "      <th>corr_coef</th>\n",
       "      <th>corr_se</th>\n",
       "      <th>corr_pval</th>\n",
       "      <th>corr_fdr</th>\n",
       "    </tr>\n",
       "  </thead>\n",
       "  <tbody>\n",
       "    <tr>\n",
       "      <th>205</th>\n",
       "      <td>JAK2</td>\n",
       "      <td>IL8</td>\n",
       "      <td>-0.249123</td>\n",
       "      <td>0.085160</td>\n",
       "      <td>0.003400</td>\n",
       "      <td>0.041425</td>\n",
       "    </tr>\n",
       "    <tr>\n",
       "      <th>231</th>\n",
       "      <td>JAK2</td>\n",
       "      <td>CYBA</td>\n",
       "      <td>-0.212820</td>\n",
       "      <td>0.078911</td>\n",
       "      <td>0.006399</td>\n",
       "      <td>0.064545</td>\n",
       "    </tr>\n",
       "    <tr>\n",
       "      <th>294</th>\n",
       "      <td>JAK2</td>\n",
       "      <td>DMXL2</td>\n",
       "      <td>-0.569310</td>\n",
       "      <td>0.147489</td>\n",
       "      <td>0.000600</td>\n",
       "      <td>0.016642</td>\n",
       "    </tr>\n",
       "    <tr>\n",
       "      <th>393</th>\n",
       "      <td>JAK2</td>\n",
       "      <td>MT-ND5</td>\n",
       "      <td>-0.271012</td>\n",
       "      <td>0.086340</td>\n",
       "      <td>0.001900</td>\n",
       "      <td>0.026175</td>\n",
       "    </tr>\n",
       "    <tr>\n",
       "      <th>429</th>\n",
       "      <td>JAK2</td>\n",
       "      <td>CPT2</td>\n",
       "      <td>-0.428563</td>\n",
       "      <td>0.169920</td>\n",
       "      <td>0.011099</td>\n",
       "      <td>0.091751</td>\n",
       "    </tr>\n",
       "    <tr>\n",
       "      <th>547</th>\n",
       "      <td>JAK2</td>\n",
       "      <td>GSK3B</td>\n",
       "      <td>-0.559475</td>\n",
       "      <td>0.172071</td>\n",
       "      <td>0.001500</td>\n",
       "      <td>0.022842</td>\n",
       "    </tr>\n",
       "    <tr>\n",
       "      <th>745</th>\n",
       "      <td>JAK2</td>\n",
       "      <td>SUMO2</td>\n",
       "      <td>-0.250239</td>\n",
       "      <td>0.097682</td>\n",
       "      <td>0.011799</td>\n",
       "      <td>0.095661</td>\n",
       "    </tr>\n",
       "    <tr>\n",
       "      <th>767</th>\n",
       "      <td>JAK2</td>\n",
       "      <td>DPYD</td>\n",
       "      <td>-0.304292</td>\n",
       "      <td>0.117713</td>\n",
       "      <td>0.009699</td>\n",
       "      <td>0.085357</td>\n",
       "    </tr>\n",
       "    <tr>\n",
       "      <th>1155</th>\n",
       "      <td>JAK2</td>\n",
       "      <td>SCAMP3</td>\n",
       "      <td>-0.303503</td>\n",
       "      <td>0.119663</td>\n",
       "      <td>0.011999</td>\n",
       "      <td>0.096910</td>\n",
       "    </tr>\n",
       "    <tr>\n",
       "      <th>1158</th>\n",
       "      <td>JAK2</td>\n",
       "      <td>MT-CO1</td>\n",
       "      <td>-0.292843</td>\n",
       "      <td>0.097021</td>\n",
       "      <td>0.001900</td>\n",
       "      <td>0.026175</td>\n",
       "    </tr>\n",
       "    <tr>\n",
       "      <th>1343</th>\n",
       "      <td>JAK2</td>\n",
       "      <td>FAM91A1</td>\n",
       "      <td>-0.515519</td>\n",
       "      <td>0.171814</td>\n",
       "      <td>0.003500</td>\n",
       "      <td>0.042398</td>\n",
       "    </tr>\n",
       "    <tr>\n",
       "      <th>1378</th>\n",
       "      <td>JAK2</td>\n",
       "      <td>IKBKE</td>\n",
       "      <td>-0.340049</td>\n",
       "      <td>0.113044</td>\n",
       "      <td>0.003300</td>\n",
       "      <td>0.040677</td>\n",
       "    </tr>\n",
       "    <tr>\n",
       "      <th>1432</th>\n",
       "      <td>JAK2</td>\n",
       "      <td>ATG10</td>\n",
       "      <td>-0.527434</td>\n",
       "      <td>0.187641</td>\n",
       "      <td>0.006299</td>\n",
       "      <td>0.063842</td>\n",
       "    </tr>\n",
       "    <tr>\n",
       "      <th>1752</th>\n",
       "      <td>JAK2</td>\n",
       "      <td>HDHD3</td>\n",
       "      <td>-0.381385</td>\n",
       "      <td>0.143771</td>\n",
       "      <td>0.009799</td>\n",
       "      <td>0.085357</td>\n",
       "    </tr>\n",
       "    <tr>\n",
       "      <th>1838</th>\n",
       "      <td>JAK2</td>\n",
       "      <td>PPP1CC</td>\n",
       "      <td>-0.281061</td>\n",
       "      <td>0.100097</td>\n",
       "      <td>0.005699</td>\n",
       "      <td>0.060072</td>\n",
       "    </tr>\n",
       "    <tr>\n",
       "      <th>1846</th>\n",
       "      <td>JAK2</td>\n",
       "      <td>SPI1</td>\n",
       "      <td>-0.244236</td>\n",
       "      <td>0.086116</td>\n",
       "      <td>0.005499</td>\n",
       "      <td>0.058550</td>\n",
       "    </tr>\n",
       "    <tr>\n",
       "      <th>1877</th>\n",
       "      <td>JAK2</td>\n",
       "      <td>MT-ND4L</td>\n",
       "      <td>-0.401626</td>\n",
       "      <td>0.095195</td>\n",
       "      <td>0.000299</td>\n",
       "      <td>0.011989</td>\n",
       "    </tr>\n",
       "    <tr>\n",
       "      <th>2073</th>\n",
       "      <td>JAK2</td>\n",
       "      <td>RPS6KA1</td>\n",
       "      <td>-0.252565</td>\n",
       "      <td>0.100703</td>\n",
       "      <td>0.011299</td>\n",
       "      <td>0.092677</td>\n",
       "    </tr>\n",
       "  </tbody>\n",
       "</table>\n",
       "</div>"
      ],
      "text/plain": [
       "     gene_1   gene_2  corr_coef   corr_se  corr_pval  corr_fdr\n",
       "205    JAK2      IL8  -0.249123  0.085160   0.003400  0.041425\n",
       "231    JAK2     CYBA  -0.212820  0.078911   0.006399  0.064545\n",
       "294    JAK2    DMXL2  -0.569310  0.147489   0.000600  0.016642\n",
       "393    JAK2   MT-ND5  -0.271012  0.086340   0.001900  0.026175\n",
       "429    JAK2     CPT2  -0.428563  0.169920   0.011099  0.091751\n",
       "547    JAK2    GSK3B  -0.559475  0.172071   0.001500  0.022842\n",
       "745    JAK2    SUMO2  -0.250239  0.097682   0.011799  0.095661\n",
       "767    JAK2     DPYD  -0.304292  0.117713   0.009699  0.085357\n",
       "1155   JAK2   SCAMP3  -0.303503  0.119663   0.011999  0.096910\n",
       "1158   JAK2   MT-CO1  -0.292843  0.097021   0.001900  0.026175\n",
       "1343   JAK2  FAM91A1  -0.515519  0.171814   0.003500  0.042398\n",
       "1378   JAK2    IKBKE  -0.340049  0.113044   0.003300  0.040677\n",
       "1432   JAK2    ATG10  -0.527434  0.187641   0.006299  0.063842\n",
       "1752   JAK2    HDHD3  -0.381385  0.143771   0.009799  0.085357\n",
       "1838   JAK2   PPP1CC  -0.281061  0.100097   0.005699  0.060072\n",
       "1846   JAK2     SPI1  -0.244236  0.086116   0.005499  0.058550\n",
       "1877   JAK2  MT-ND4L  -0.401626  0.095195   0.000299  0.011989\n",
       "2073   JAK2  RPS6KA1  -0.252565  0.100703   0.011299  0.092677"
      ]
     },
     "execution_count": 27,
     "metadata": {},
     "output_type": "execute_result"
    }
   ],
   "source": [
    "results_2d['JAK2-STAT1'].query('corr_fdr < 0.1 & corr_coef < 0').head(50)"
   ]
  },
  {
   "cell_type": "code",
   "execution_count": 26,
   "id": "entire-closer",
   "metadata": {},
   "outputs": [
    {
     "data": {
      "text/html": [
       "<div>\n",
       "<style scoped>\n",
       "    .dataframe tbody tr th:only-of-type {\n",
       "        vertical-align: middle;\n",
       "    }\n",
       "\n",
       "    .dataframe tbody tr th {\n",
       "        vertical-align: top;\n",
       "    }\n",
       "\n",
       "    .dataframe thead th {\n",
       "        text-align: right;\n",
       "    }\n",
       "</style>\n",
       "<table border=\"1\" class=\"dataframe\">\n",
       "  <thead>\n",
       "    <tr style=\"text-align: right;\">\n",
       "      <th></th>\n",
       "      <th>gene_1</th>\n",
       "      <th>gene_2</th>\n",
       "      <th>corr_coef</th>\n",
       "      <th>corr_se</th>\n",
       "      <th>corr_pval</th>\n",
       "      <th>corr_fdr</th>\n",
       "    </tr>\n",
       "  </thead>\n",
       "  <tbody>\n",
       "    <tr>\n",
       "      <th>173</th>\n",
       "      <td>STAT1</td>\n",
       "      <td>KANK2</td>\n",
       "      <td>-0.157967</td>\n",
       "      <td>0.059940</td>\n",
       "      <td>0.008899</td>\n",
       "      <td>0.051533</td>\n",
       "    </tr>\n",
       "    <tr>\n",
       "      <th>186</th>\n",
       "      <td>STAT1</td>\n",
       "      <td>MYL6</td>\n",
       "      <td>-0.116880</td>\n",
       "      <td>0.047259</td>\n",
       "      <td>0.015198</td>\n",
       "      <td>0.076839</td>\n",
       "    </tr>\n",
       "    <tr>\n",
       "      <th>207</th>\n",
       "      <td>STAT1</td>\n",
       "      <td>EMB</td>\n",
       "      <td>-0.158308</td>\n",
       "      <td>0.067767</td>\n",
       "      <td>0.020498</td>\n",
       "      <td>0.096187</td>\n",
       "    </tr>\n",
       "    <tr>\n",
       "      <th>350</th>\n",
       "      <td>STAT1</td>\n",
       "      <td>GMFG</td>\n",
       "      <td>-0.165820</td>\n",
       "      <td>0.065407</td>\n",
       "      <td>0.012199</td>\n",
       "      <td>0.065962</td>\n",
       "    </tr>\n",
       "    <tr>\n",
       "      <th>397</th>\n",
       "      <td>STAT1</td>\n",
       "      <td>CORO1B</td>\n",
       "      <td>-0.189396</td>\n",
       "      <td>0.071146</td>\n",
       "      <td>0.008399</td>\n",
       "      <td>0.049338</td>\n",
       "    </tr>\n",
       "    <tr>\n",
       "      <th>478</th>\n",
       "      <td>STAT1</td>\n",
       "      <td>TLE3</td>\n",
       "      <td>-0.183115</td>\n",
       "      <td>0.072209</td>\n",
       "      <td>0.010299</td>\n",
       "      <td>0.058195</td>\n",
       "    </tr>\n",
       "    <tr>\n",
       "      <th>488</th>\n",
       "      <td>STAT1</td>\n",
       "      <td>IPCEF1</td>\n",
       "      <td>-0.268291</td>\n",
       "      <td>0.077757</td>\n",
       "      <td>0.001082</td>\n",
       "      <td>0.011404</td>\n",
       "    </tr>\n",
       "    <tr>\n",
       "      <th>497</th>\n",
       "      <td>STAT1</td>\n",
       "      <td>MCCC2</td>\n",
       "      <td>-0.280598</td>\n",
       "      <td>0.100360</td>\n",
       "      <td>0.004000</td>\n",
       "      <td>0.027101</td>\n",
       "    </tr>\n",
       "    <tr>\n",
       "      <th>574</th>\n",
       "      <td>STAT1</td>\n",
       "      <td>TMEM154</td>\n",
       "      <td>-0.413352</td>\n",
       "      <td>0.111395</td>\n",
       "      <td>0.001314</td>\n",
       "      <td>0.012330</td>\n",
       "    </tr>\n",
       "    <tr>\n",
       "      <th>591</th>\n",
       "      <td>STAT1</td>\n",
       "      <td>GRN</td>\n",
       "      <td>-0.127577</td>\n",
       "      <td>0.049534</td>\n",
       "      <td>0.008899</td>\n",
       "      <td>0.051533</td>\n",
       "    </tr>\n",
       "    <tr>\n",
       "      <th>692</th>\n",
       "      <td>STAT1</td>\n",
       "      <td>C12orf4</td>\n",
       "      <td>-0.215936</td>\n",
       "      <td>0.089166</td>\n",
       "      <td>0.016298</td>\n",
       "      <td>0.082143</td>\n",
       "    </tr>\n",
       "    <tr>\n",
       "      <th>752</th>\n",
       "      <td>STAT1</td>\n",
       "      <td>CLU</td>\n",
       "      <td>-0.164982</td>\n",
       "      <td>0.067305</td>\n",
       "      <td>0.013699</td>\n",
       "      <td>0.072161</td>\n",
       "    </tr>\n",
       "    <tr>\n",
       "      <th>847</th>\n",
       "      <td>STAT1</td>\n",
       "      <td>NF1</td>\n",
       "      <td>-0.404478</td>\n",
       "      <td>0.108921</td>\n",
       "      <td>0.001063</td>\n",
       "      <td>0.011346</td>\n",
       "    </tr>\n",
       "    <tr>\n",
       "      <th>926</th>\n",
       "      <td>STAT1</td>\n",
       "      <td>PATL1</td>\n",
       "      <td>-0.224607</td>\n",
       "      <td>0.083888</td>\n",
       "      <td>0.006999</td>\n",
       "      <td>0.042808</td>\n",
       "    </tr>\n",
       "    <tr>\n",
       "      <th>954</th>\n",
       "      <td>STAT1</td>\n",
       "      <td>RP11-1000B6.3</td>\n",
       "      <td>-0.175057</td>\n",
       "      <td>0.062735</td>\n",
       "      <td>0.006099</td>\n",
       "      <td>0.038309</td>\n",
       "    </tr>\n",
       "    <tr>\n",
       "      <th>1019</th>\n",
       "      <td>STAT1</td>\n",
       "      <td>TP53I3</td>\n",
       "      <td>-0.238581</td>\n",
       "      <td>0.105088</td>\n",
       "      <td>0.021198</td>\n",
       "      <td>0.097786</td>\n",
       "    </tr>\n",
       "    <tr>\n",
       "      <th>1043</th>\n",
       "      <td>STAT1</td>\n",
       "      <td>TLN1</td>\n",
       "      <td>-0.192423</td>\n",
       "      <td>0.077914</td>\n",
       "      <td>0.014699</td>\n",
       "      <td>0.075244</td>\n",
       "    </tr>\n",
       "    <tr>\n",
       "      <th>1196</th>\n",
       "      <td>STAT1</td>\n",
       "      <td>SUPT5H</td>\n",
       "      <td>-0.266487</td>\n",
       "      <td>0.103441</td>\n",
       "      <td>0.011299</td>\n",
       "      <td>0.062759</td>\n",
       "    </tr>\n",
       "    <tr>\n",
       "      <th>1202</th>\n",
       "      <td>STAT1</td>\n",
       "      <td>SMPD1</td>\n",
       "      <td>-0.217145</td>\n",
       "      <td>0.092372</td>\n",
       "      <td>0.020798</td>\n",
       "      <td>0.096486</td>\n",
       "    </tr>\n",
       "    <tr>\n",
       "      <th>1266</th>\n",
       "      <td>STAT1</td>\n",
       "      <td>FURIN</td>\n",
       "      <td>-0.303008</td>\n",
       "      <td>0.095891</td>\n",
       "      <td>0.002500</td>\n",
       "      <td>0.018899</td>\n",
       "    </tr>\n",
       "    <tr>\n",
       "      <th>1350</th>\n",
       "      <td>STAT1</td>\n",
       "      <td>FAM35A</td>\n",
       "      <td>-0.296430</td>\n",
       "      <td>0.114177</td>\n",
       "      <td>0.011699</td>\n",
       "      <td>0.064108</td>\n",
       "    </tr>\n",
       "    <tr>\n",
       "      <th>1421</th>\n",
       "      <td>STAT1</td>\n",
       "      <td>INPP5D</td>\n",
       "      <td>-0.283320</td>\n",
       "      <td>0.079612</td>\n",
       "      <td>0.000685</td>\n",
       "      <td>0.008953</td>\n",
       "    </tr>\n",
       "    <tr>\n",
       "      <th>1552</th>\n",
       "      <td>STAT1</td>\n",
       "      <td>CYTH3</td>\n",
       "      <td>-0.253251</td>\n",
       "      <td>0.093385</td>\n",
       "      <td>0.008299</td>\n",
       "      <td>0.048926</td>\n",
       "    </tr>\n",
       "    <tr>\n",
       "      <th>1604</th>\n",
       "      <td>STAT1</td>\n",
       "      <td>NAB2</td>\n",
       "      <td>-0.176705</td>\n",
       "      <td>0.076940</td>\n",
       "      <td>0.021798</td>\n",
       "      <td>0.099708</td>\n",
       "    </tr>\n",
       "  </tbody>\n",
       "</table>\n",
       "</div>"
      ],
      "text/plain": [
       "     gene_1         gene_2  corr_coef   corr_se  corr_pval  corr_fdr\n",
       "173   STAT1          KANK2  -0.157967  0.059940   0.008899  0.051533\n",
       "186   STAT1           MYL6  -0.116880  0.047259   0.015198  0.076839\n",
       "207   STAT1            EMB  -0.158308  0.067767   0.020498  0.096187\n",
       "350   STAT1           GMFG  -0.165820  0.065407   0.012199  0.065962\n",
       "397   STAT1         CORO1B  -0.189396  0.071146   0.008399  0.049338\n",
       "478   STAT1           TLE3  -0.183115  0.072209   0.010299  0.058195\n",
       "488   STAT1         IPCEF1  -0.268291  0.077757   0.001082  0.011404\n",
       "497   STAT1          MCCC2  -0.280598  0.100360   0.004000  0.027101\n",
       "574   STAT1        TMEM154  -0.413352  0.111395   0.001314  0.012330\n",
       "591   STAT1            GRN  -0.127577  0.049534   0.008899  0.051533\n",
       "692   STAT1        C12orf4  -0.215936  0.089166   0.016298  0.082143\n",
       "752   STAT1            CLU  -0.164982  0.067305   0.013699  0.072161\n",
       "847   STAT1            NF1  -0.404478  0.108921   0.001063  0.011346\n",
       "926   STAT1          PATL1  -0.224607  0.083888   0.006999  0.042808\n",
       "954   STAT1  RP11-1000B6.3  -0.175057  0.062735   0.006099  0.038309\n",
       "1019  STAT1         TP53I3  -0.238581  0.105088   0.021198  0.097786\n",
       "1043  STAT1           TLN1  -0.192423  0.077914   0.014699  0.075244\n",
       "1196  STAT1         SUPT5H  -0.266487  0.103441   0.011299  0.062759\n",
       "1202  STAT1          SMPD1  -0.217145  0.092372   0.020798  0.096486\n",
       "1266  STAT1          FURIN  -0.303008  0.095891   0.002500  0.018899\n",
       "1350  STAT1         FAM35A  -0.296430  0.114177   0.011699  0.064108\n",
       "1421  STAT1         INPP5D  -0.283320  0.079612   0.000685  0.008953\n",
       "1552  STAT1          CYTH3  -0.253251  0.093385   0.008299  0.048926\n",
       "1604  STAT1           NAB2  -0.176705  0.076940   0.021798  0.099708"
      ]
     },
     "execution_count": 26,
     "metadata": {},
     "output_type": "execute_result"
    }
   ],
   "source": [
    "results_2d['STAT1-JAK2'].query('corr_fdr < 0.1 & corr_coef < 0').head(50)"
   ]
  },
  {
   "cell_type": "code",
   "execution_count": 18,
   "id": "amazing-blocking",
   "metadata": {},
   "outputs": [],
   "source": [
    "df = memento.get_1d_ht_result(subset)"
   ]
  },
  {
   "cell_type": "code",
   "execution_count": 19,
   "id": "protected-philadelphia",
   "metadata": {},
   "outputs": [],
   "source": [
    "df['de_fdr'] = memento.util._fdrcorrect(df['de_pval'])\n",
    "df['dv_fdr'] = memento.util._fdrcorrect(df['dv_pval'])"
   ]
  },
  {
   "cell_type": "code",
   "execution_count": 70,
   "id": "desirable-cancellation",
   "metadata": {},
   "outputs": [
    {
     "name": "stderr",
     "output_type": "stream",
     "text": [
      "/home/ssm-user/anaconda3/envs/single_cell/lib/python3.8/site-packages/seaborn/distributions.py:2557: FutureWarning: `distplot` is a deprecated function and will be removed in a future version. Please adapt your code to use either `displot` (a figure-level function with similar flexibility) or `histplot` (an axes-level function for histograms).\n",
      "  warnings.warn(msg, FutureWarning)\n"
     ]
    },
    {
     "data": {
      "text/plain": [
       "<AxesSubplot:xlabel='de_coef', ylabel='Density'>"
      ]
     },
     "execution_count": 70,
     "metadata": {},
     "output_type": "execute_result"
    },
    {
     "data": {
      "image/png": "[encoded data removed]",
      "text/plain": [
       "<Figure size 432x288 with 1 Axes>"
      ]
     },
     "metadata": {
      "needs_background": "light"
     },
     "output_type": "display_data"
    }
   ],
   "source": [
    "sns.distplot(df['de_coef'])"
   ]
  },
  {
   "cell_type": "code",
   "execution_count": 71,
   "id": "consecutive-argument",
   "metadata": {},
   "outputs": [
    {
     "data": {
      "text/plain": [
       "0.00027310807688639584"
      ]
     },
     "execution_count": 71,
     "metadata": {},
     "output_type": "execute_result"
    }
   ],
   "source": [
    "df['dv_pval'].min()"
   ]
  },
  {
   "cell_type": "code",
   "execution_count": 79,
   "id": "rapid-manor",
   "metadata": {},
   "outputs": [],
   "source": [
    "filtered_df = df.query('dv_coef > 0.6 | dv_coef < -0.6').copy()\n",
    "filtered_df['de_fdr'] = memento.util._fdrcorrect(filtered_df['de_pval'])\n",
    "filtered_df['dv_fdr'] = memento.util._fdrcorrect(filtered_df['dv_pval'])"
   ]
  },
  {
   "cell_type": "code",
   "execution_count": 80,
   "id": "interior-milan",
   "metadata": {},
   "outputs": [
    {
     "data": {
      "text/html": [
       "<div>\n",
       "<style scoped>\n",
       "    .dataframe tbody tr th:only-of-type {\n",
       "        vertical-align: middle;\n",
       "    }\n",
       "\n",
       "    .dataframe tbody tr th {\n",
       "        vertical-align: top;\n",
       "    }\n",
       "\n",
       "    .dataframe thead th {\n",
       "        text-align: right;\n",
       "    }\n",
       "</style>\n",
       "<table border=\"1\" class=\"dataframe\">\n",
       "  <thead>\n",
       "    <tr style=\"text-align: right;\">\n",
       "      <th></th>\n",
       "      <th>gene</th>\n",
       "      <th>de_coef</th>\n",
       "      <th>de_se</th>\n",
       "      <th>de_pval</th>\n",
       "      <th>dv_coef</th>\n",
       "      <th>dv_se</th>\n",
       "      <th>dv_pval</th>\n",
       "      <th>de_fdr</th>\n",
       "      <th>dv_fdr</th>\n",
       "    </tr>\n",
       "  </thead>\n",
       "  <tbody>\n",
       "    <tr>\n",
       "      <th>2590</th>\n",
       "      <td>Appl1</td>\n",
       "      <td>-0.189303</td>\n",
       "      <td>0.062989</td>\n",
       "      <td>0.002653</td>\n",
       "      <td>-1.045370</td>\n",
       "      <td>0.893075</td>\n",
       "      <td>0.241789</td>\n",
       "      <td>0.570382</td>\n",
       "      <td>0.267774</td>\n",
       "    </tr>\n",
       "    <tr>\n",
       "      <th>2637</th>\n",
       "      <td>Ngdn</td>\n",
       "      <td>0.066474</td>\n",
       "      <td>0.038300</td>\n",
       "      <td>0.082629</td>\n",
       "      <td>-0.619962</td>\n",
       "      <td>0.197640</td>\n",
       "      <td>0.001708</td>\n",
       "      <td>0.683281</td>\n",
       "      <td>0.082191</td>\n",
       "    </tr>\n",
       "    <tr>\n",
       "      <th>1008</th>\n",
       "      <td>Zdhhc21</td>\n",
       "      <td>0.098259</td>\n",
       "      <td>0.052358</td>\n",
       "      <td>0.060562</td>\n",
       "      <td>0.642448</td>\n",
       "      <td>0.372952</td>\n",
       "      <td>0.084961</td>\n",
       "      <td>0.683281</td>\n",
       "      <td>0.161127</td>\n",
       "    </tr>\n",
       "    <tr>\n",
       "      <th>3867</th>\n",
       "      <td>Gm5483</td>\n",
       "      <td>-0.191321</td>\n",
       "      <td>0.097545</td>\n",
       "      <td>0.049838</td>\n",
       "      <td>-1.226904</td>\n",
       "      <td>0.870802</td>\n",
       "      <td>0.158854</td>\n",
       "      <td>0.683281</td>\n",
       "      <td>0.201676</td>\n",
       "    </tr>\n",
       "    <tr>\n",
       "      <th>3749</th>\n",
       "      <td>Twf1</td>\n",
       "      <td>-0.067900</td>\n",
       "      <td>0.039066</td>\n",
       "      <td>0.082196</td>\n",
       "      <td>0.784043</td>\n",
       "      <td>0.227191</td>\n",
       "      <td>0.000558</td>\n",
       "      <td>0.683281</td>\n",
       "      <td>0.082191</td>\n",
       "    </tr>\n",
       "    <tr>\n",
       "      <th>...</th>\n",
       "      <td>...</td>\n",
       "      <td>...</td>\n",
       "      <td>...</td>\n",
       "      <td>...</td>\n",
       "      <td>...</td>\n",
       "      <td>...</td>\n",
       "      <td>...</td>\n",
       "      <td>...</td>\n",
       "      <td>...</td>\n",
       "    </tr>\n",
       "    <tr>\n",
       "      <th>3738</th>\n",
       "      <td>Atxn10</td>\n",
       "      <td>-0.001235</td>\n",
       "      <td>0.042985</td>\n",
       "      <td>0.977087</td>\n",
       "      <td>0.636208</td>\n",
       "      <td>0.307657</td>\n",
       "      <td>0.038648</td>\n",
       "      <td>0.984020</td>\n",
       "      <td>0.147004</td>\n",
       "    </tr>\n",
       "    <tr>\n",
       "      <th>2713</th>\n",
       "      <td>4931406C07Rik</td>\n",
       "      <td>-0.001389</td>\n",
       "      <td>0.053892</td>\n",
       "      <td>0.979443</td>\n",
       "      <td>0.796920</td>\n",
       "      <td>0.569918</td>\n",
       "      <td>0.162021</td>\n",
       "      <td>0.984020</td>\n",
       "      <td>0.202527</td>\n",
       "    </tr>\n",
       "    <tr>\n",
       "      <th>2904</th>\n",
       "      <td>Ndufaf3</td>\n",
       "      <td>0.002372</td>\n",
       "      <td>0.044915</td>\n",
       "      <td>0.957888</td>\n",
       "      <td>0.718853</td>\n",
       "      <td>0.393524</td>\n",
       "      <td>0.067744</td>\n",
       "      <td>0.984020</td>\n",
       "      <td>0.150387</td>\n",
       "    </tr>\n",
       "    <tr>\n",
       "      <th>261</th>\n",
       "      <td>Phyh</td>\n",
       "      <td>0.002676</td>\n",
       "      <td>0.060083</td>\n",
       "      <td>0.964480</td>\n",
       "      <td>0.724015</td>\n",
       "      <td>0.511069</td>\n",
       "      <td>0.156580</td>\n",
       "      <td>0.984020</td>\n",
       "      <td>0.201586</td>\n",
       "    </tr>\n",
       "    <tr>\n",
       "      <th>2154</th>\n",
       "      <td>Ascc1</td>\n",
       "      <td>0.000530</td>\n",
       "      <td>0.060044</td>\n",
       "      <td>0.992961</td>\n",
       "      <td>0.697538</td>\n",
       "      <td>0.350908</td>\n",
       "      <td>0.046833</td>\n",
       "      <td>0.992961</td>\n",
       "      <td>0.149340</td>\n",
       "    </tr>\n",
       "  </tbody>\n",
       "</table>\n",
       "<p>215 rows × 9 columns</p>\n",
       "</div>"
      ],
      "text/plain": [
       "               gene   de_coef     de_se   de_pval   dv_coef     dv_se  \\\n",
       "2590          Appl1 -0.189303  0.062989  0.002653 -1.045370  0.893075   \n",
       "2637           Ngdn  0.066474  0.038300  0.082629 -0.619962  0.197640   \n",
       "1008        Zdhhc21  0.098259  0.052358  0.060562  0.642448  0.372952   \n",
       "3867         Gm5483 -0.191321  0.097545  0.049838 -1.226904  0.870802   \n",
       "3749           Twf1 -0.067900  0.039066  0.082196  0.784043  0.227191   \n",
       "...             ...       ...       ...       ...       ...       ...   \n",
       "3738         Atxn10 -0.001235  0.042985  0.977087  0.636208  0.307657   \n",
       "2713  4931406C07Rik -0.001389  0.053892  0.979443  0.796920  0.569918   \n",
       "2904        Ndufaf3  0.002372  0.044915  0.957888  0.718853  0.393524   \n",
       "261            Phyh  0.002676  0.060083  0.964480  0.724015  0.511069   \n",
       "2154          Ascc1  0.000530  0.060044  0.992961  0.697538  0.350908   \n",
       "\n",
       "       dv_pval    de_fdr    dv_fdr  \n",
       "2590  0.241789  0.570382  0.267774  \n",
       "2637  0.001708  0.683281  0.082191  \n",
       "1008  0.084961  0.683281  0.161127  \n",
       "3867  0.158854  0.683281  0.201676  \n",
       "3749  0.000558  0.683281  0.082191  \n",
       "...        ...       ...       ...  \n",
       "3738  0.038648  0.984020  0.147004  \n",
       "2713  0.162021  0.984020  0.202527  \n",
       "2904  0.067744  0.984020  0.150387  \n",
       "261   0.156580  0.984020  0.201586  \n",
       "2154  0.046833  0.992961  0.149340  \n",
       "\n",
       "[215 rows x 9 columns]"
      ]
     },
     "execution_count": 80,
     "metadata": {},
     "output_type": "execute_result"
    }
   ],
   "source": [
    "filtered_df.sort_values('de_fdr')"
   ]
  },
  {
   "cell_type": "code",
   "execution_count": 72,
   "id": "chicken-vintage",
   "metadata": {},
   "outputs": [
    {
     "data": {
      "text/html": [
       "<div>\n",
       "<style scoped>\n",
       "    .dataframe tbody tr th:only-of-type {\n",
       "        vertical-align: middle;\n",
       "    }\n",
       "\n",
       "    .dataframe tbody tr th {\n",
       "        vertical-align: top;\n",
       "    }\n",
       "\n",
       "    .dataframe thead th {\n",
       "        text-align: right;\n",
       "    }\n",
       "</style>\n",
       "<table border=\"1\" class=\"dataframe\">\n",
       "  <thead>\n",
       "    <tr style=\"text-align: right;\">\n",
       "      <th></th>\n",
       "      <th>gene</th>\n",
       "      <th>de_coef</th>\n",
       "      <th>de_se</th>\n",
       "      <th>de_pval</th>\n",
       "      <th>dv_coef</th>\n",
       "      <th>dv_se</th>\n",
       "      <th>dv_pval</th>\n",
       "      <th>de_fdr</th>\n",
       "      <th>dv_fdr</th>\n",
       "    </tr>\n",
       "  </thead>\n",
       "  <tbody>\n",
       "    <tr>\n",
       "      <th>3617</th>\n",
       "      <td>Dab2</td>\n",
       "      <td>-0.009180</td>\n",
       "      <td>0.030172</td>\n",
       "      <td>0.760938</td>\n",
       "      <td>-0.560985</td>\n",
       "      <td>0.154136</td>\n",
       "      <td>0.000273</td>\n",
       "      <td>0.982760</td>\n",
       "      <td>0.797630</td>\n",
       "    </tr>\n",
       "    <tr>\n",
       "      <th>3749</th>\n",
       "      <td>Twf1</td>\n",
       "      <td>-0.067900</td>\n",
       "      <td>0.039066</td>\n",
       "      <td>0.082196</td>\n",
       "      <td>0.784043</td>\n",
       "      <td>0.227191</td>\n",
       "      <td>0.000558</td>\n",
       "      <td>0.862292</td>\n",
       "      <td>0.797630</td>\n",
       "    </tr>\n",
       "    <tr>\n",
       "      <th>3618</th>\n",
       "      <td>Fyb</td>\n",
       "      <td>0.003404</td>\n",
       "      <td>0.032799</td>\n",
       "      <td>0.917338</td>\n",
       "      <td>0.430096</td>\n",
       "      <td>0.132779</td>\n",
       "      <td>0.001199</td>\n",
       "      <td>0.988550</td>\n",
       "      <td>0.797630</td>\n",
       "    </tr>\n",
       "    <tr>\n",
       "      <th>803</th>\n",
       "      <td>Ubap2l</td>\n",
       "      <td>0.032034</td>\n",
       "      <td>0.027460</td>\n",
       "      <td>0.243391</td>\n",
       "      <td>0.798079</td>\n",
       "      <td>0.248173</td>\n",
       "      <td>0.001301</td>\n",
       "      <td>0.907900</td>\n",
       "      <td>0.797630</td>\n",
       "    </tr>\n",
       "    <tr>\n",
       "      <th>820</th>\n",
       "      <td>S100a11</td>\n",
       "      <td>0.016178</td>\n",
       "      <td>0.012787</td>\n",
       "      <td>0.205789</td>\n",
       "      <td>0.135432</td>\n",
       "      <td>0.042790</td>\n",
       "      <td>0.001551</td>\n",
       "      <td>0.907900</td>\n",
       "      <td>0.797630</td>\n",
       "    </tr>\n",
       "    <tr>\n",
       "      <th>...</th>\n",
       "      <td>...</td>\n",
       "      <td>...</td>\n",
       "      <td>...</td>\n",
       "      <td>...</td>\n",
       "      <td>...</td>\n",
       "      <td>...</td>\n",
       "      <td>...</td>\n",
       "      <td>...</td>\n",
       "      <td>...</td>\n",
       "    </tr>\n",
       "    <tr>\n",
       "      <th>3528</th>\n",
       "      <td>Arf6</td>\n",
       "      <td>-0.033421</td>\n",
       "      <td>0.026366</td>\n",
       "      <td>0.204944</td>\n",
       "      <td>0.000226</td>\n",
       "      <td>0.147194</td>\n",
       "      <td>0.998776</td>\n",
       "      <td>0.907900</td>\n",
       "      <td>0.999479</td>\n",
       "    </tr>\n",
       "    <tr>\n",
       "      <th>2287</th>\n",
       "      <td>Tmbim4</td>\n",
       "      <td>0.013307</td>\n",
       "      <td>0.026034</td>\n",
       "      <td>0.609262</td>\n",
       "      <td>0.000183</td>\n",
       "      <td>0.141843</td>\n",
       "      <td>0.998969</td>\n",
       "      <td>0.966870</td>\n",
       "      <td>0.999479</td>\n",
       "    </tr>\n",
       "    <tr>\n",
       "      <th>370</th>\n",
       "      <td>Gca</td>\n",
       "      <td>0.150333</td>\n",
       "      <td>0.149174</td>\n",
       "      <td>0.313564</td>\n",
       "      <td>-0.000617</td>\n",
       "      <td>0.517727</td>\n",
       "      <td>0.999049</td>\n",
       "      <td>0.911683</td>\n",
       "      <td>0.999479</td>\n",
       "    </tr>\n",
       "    <tr>\n",
       "      <th>87</th>\n",
       "      <td>Wdfy1</td>\n",
       "      <td>-0.145767</td>\n",
       "      <td>0.048090</td>\n",
       "      <td>0.002436</td>\n",
       "      <td>-0.000196</td>\n",
       "      <td>0.209772</td>\n",
       "      <td>0.999254</td>\n",
       "      <td>0.654695</td>\n",
       "      <td>0.999479</td>\n",
       "    </tr>\n",
       "    <tr>\n",
       "      <th>2717</th>\n",
       "      <td>Zfp560</td>\n",
       "      <td>-0.056149</td>\n",
       "      <td>0.049354</td>\n",
       "      <td>0.255254</td>\n",
       "      <td>0.000146</td>\n",
       "      <td>0.359784</td>\n",
       "      <td>0.999676</td>\n",
       "      <td>0.907900</td>\n",
       "      <td>0.999676</td>\n",
       "    </tr>\n",
       "  </tbody>\n",
       "</table>\n",
       "<p>4441 rows × 9 columns</p>\n",
       "</div>"
      ],
      "text/plain": [
       "         gene   de_coef     de_se   de_pval   dv_coef     dv_se   dv_pval  \\\n",
       "3617     Dab2 -0.009180  0.030172  0.760938 -0.560985  0.154136  0.000273   \n",
       "3749     Twf1 -0.067900  0.039066  0.082196  0.784043  0.227191  0.000558   \n",
       "3618      Fyb  0.003404  0.032799  0.917338  0.430096  0.132779  0.001199   \n",
       "803    Ubap2l  0.032034  0.027460  0.243391  0.798079  0.248173  0.001301   \n",
       "820   S100a11  0.016178  0.012787  0.205789  0.135432  0.042790  0.001551   \n",
       "...       ...       ...       ...       ...       ...       ...       ...   \n",
       "3528     Arf6 -0.033421  0.026366  0.204944  0.000226  0.147194  0.998776   \n",
       "2287   Tmbim4  0.013307  0.026034  0.609262  0.000183  0.141843  0.998969   \n",
       "370       Gca  0.150333  0.149174  0.313564 -0.000617  0.517727  0.999049   \n",
       "87      Wdfy1 -0.145767  0.048090  0.002436 -0.000196  0.209772  0.999254   \n",
       "2717   Zfp560 -0.056149  0.049354  0.255254  0.000146  0.359784  0.999676   \n",
       "\n",
       "        de_fdr    dv_fdr  \n",
       "3617  0.982760  0.797630  \n",
       "3749  0.862292  0.797630  \n",
       "3618  0.988550  0.797630  \n",
       "803   0.907900  0.797630  \n",
       "820   0.907900  0.797630  \n",
       "...        ...       ...  \n",
       "3528  0.907900  0.999479  \n",
       "2287  0.966870  0.999479  \n",
       "370   0.911683  0.999479  \n",
       "87    0.654695  0.999479  \n",
       "2717  0.907900  0.999676  \n",
       "\n",
       "[4441 rows x 9 columns]"
      ]
     },
     "execution_count": 72,
     "metadata": {},
     "output_type": "execute_result"
    }
   ],
   "source": [
    "df.sort_values('dv_pval')"
   ]
  },
  {
   "cell_type": "code",
   "execution_count": 69,
   "id": "expired-postage",
   "metadata": {},
   "outputs": [
    {
     "data": {
      "text/plain": [
       "(array([511., 503., 498., 436., 449., 420., 400., 459., 361., 404.]),\n",
       " array([2.73108077e-04, 1.00213367e-01, 2.00153626e-01, 3.00093885e-01,\n",
       "        4.00034145e-01, 4.99974404e-01, 5.99914663e-01, 6.99854922e-01,\n",
       "        7.99795181e-01, 8.99735440e-01, 9.99675699e-01]),\n",
       " <BarContainer object of 10 artists>)"
      ]
     },
     "execution_count": 69,
     "metadata": {},
     "output_type": "execute_result"
    },
    {
     "data": {
      "image/png": "[encoded data removed]",
      "text/plain": [
       "<Figure size 432x288 with 1 Axes>"
      ]
     },
     "metadata": {
      "needs_background": "light"
     },
     "output_type": "display_data"
    }
   ],
   "source": [
    "plt.hist(df['dv_pval'])"
   ]
  },
  {
   "cell_type": "code",
   "execution_count": null,
   "id": "genuine-carrier",
   "metadata": {},
   "outputs": [],
   "source": []
  }
 ],
 "metadata": {
  "kernelspec": {
   "display_name": "Python 3",
   "language": "python",
   "name": "python3"
  },
  "language_info": {
   "codemirror_mode": {
    "name": "ipython",
    "version": 3
   },
   "file_extension": ".py",
   "mimetype": "text/x-python",
   "name": "python",
   "nbconvert_exporter": "python",
   "pygments_lexer": "ipython3",
   "version": "3.8.8"
  }
 },
 "nbformat": 4,
 "nbformat_minor": 5
}
