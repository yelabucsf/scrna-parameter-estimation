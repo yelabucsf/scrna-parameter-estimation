{
 "cells": [
  {
   "cell_type": "markdown",
   "id": "201ecc1a",
   "metadata": {},
   "source": [
    "# ECCITE 1D/2D Analysis"
   ]
  },
  {
   "cell_type": "code",
   "execution_count": 1,
   "id": "b667c758",
   "metadata": {},
   "outputs": [],
   "source": [
    "import scanpy as sc\n",
    "import seaborn as sns\n",
    "import pandas as pd\n",
    "import matplotlib.pyplot as plt\n",
    "import numpy as np\n",
    "import scipy.stats as stats\n",
    "import itertools\n",
    "from pybedtools import BedTool\n",
    "import statsmodels.formula.api as smf\n",
    "import statsmodels.api as sm\n",
    "\n",
    "import os\n",
    "import pickle as pkl\n",
    "%matplotlib inline"
   ]
  },
  {
   "cell_type": "code",
   "execution_count": 2,
   "id": "570898ae",
   "metadata": {},
   "outputs": [],
   "source": [
    "pd.set_option('max_columns', None)\n",
    "pd.set_option('display.max_rows', 500)"
   ]
  },
  {
   "cell_type": "code",
   "execution_count": 3,
   "id": "023fc6c5",
   "metadata": {},
   "outputs": [],
   "source": [
    "import sys\n",
    "sys.path.append('/home/ssm-user/Github/scrna-parameter-estimation/dist/memento-0.0.7-py3.8.egg')\n",
    "sys.path.append('/home/ssm-user/Github/misc-seq/miscseq/')\n",
    "import encode\n",
    "import memento"
   ]
  },
  {
   "cell_type": "code",
   "execution_count": 4,
   "id": "a652e837",
   "metadata": {},
   "outputs": [],
   "source": [
    "import matplotlib.pylab as pylab\n",
    "params = {'legend.fontsize': 'medium',\n",
    "         'axes.labelsize': 'medium',\n",
    "         'axes.titlesize':'medium',\n",
    "         'figure.titlesize':'medium',\n",
    "         'xtick.labelsize':'medium',\n",
    "         'ytick.labelsize':'medium',\n",
    "         'axes.labelsize': 'large'}\n",
    "pylab.rcParams.update(params)"
   ]
  },
  {
   "cell_type": "code",
   "execution_count": 5,
   "id": "eece539d",
   "metadata": {},
   "outputs": [],
   "source": [
    "data_path = '/data_volume/memento/eccite/'"
   ]
  },
  {
   "cell_type": "code",
   "execution_count": null,
   "id": "91cb2934",
   "metadata": {},
   "outputs": [],
   "source": []
  },
  {
   "cell_type": "code",
   "execution_count": 7,
   "id": "e7d3d589",
   "metadata": {},
   "outputs": [],
   "source": [
    "adata = sc.read('/data_volume/cas9ProcessedAneuploidy.h5ad')"
   ]
  },
  {
   "cell_type": "code",
   "execution_count": 8,
   "id": "3ddcf336",
   "metadata": {},
   "outputs": [
    {
     "data": {
      "text/plain": [
       "matrix([[-0.06945229, -0.0992393 , -0.0256175 , -0.01427605, -0.23589087],\n",
       "        [-0.04266223, -0.11626327, -0.00587893, -0.03732387, -0.2390637 ],\n",
       "        [-0.07015684, -0.1028458 , -0.02532544, -0.01706812, -0.24195085],\n",
       "        [-0.04058887, -0.12370155, -0.00312668, -0.04423795, -0.24858417],\n",
       "        [-0.03756792, -0.08025537, -0.00997758, -0.00881174, -0.18019803]],\n",
       "       dtype=float32)"
      ]
     },
     "execution_count": 8,
     "metadata": {},
     "output_type": "execute_result"
    }
   ],
   "source": [
    "adata.X[:5, :5].todense()"
   ]
  },
  {
   "cell_type": "code",
   "execution_count": 25,
   "id": "1a6db1d7",
   "metadata": {},
   "outputs": [],
   "source": [
    "adata.obs['q'] = 0.15"
   ]
  },
  {
   "cell_type": "code",
   "execution_count": 26,
   "id": "793cbdf1",
   "metadata": {},
   "outputs": [
    {
     "name": "stdout",
     "output_type": "stream",
     "text": [
      "Version 0.0.6\n"
     ]
    },
    {
     "name": "stderr",
     "output_type": "stream",
     "text": [
      "/home/ssm-user/Github/scrna-parameter-estimation/dist/memento-0.0.7-py3.8.egg/memento/main.py:70: RankWarning: Polyfit may be poorly conditioned\n",
      "  all_res_var = estimator._residual_variance(all_m, all_v, estimator._fit_mv_regressor(all_m, all_v))\n"
     ]
    }
   ],
   "source": [
    "memento.setup_memento(adata, q_column='q', filter_mean_thresh=0.07 ,trim_percent=0.05)"
   ]
  },
  {
   "cell_type": "code",
   "execution_count": null,
   "id": "3f077a6d",
   "metadata": {},
   "outputs": [],
   "source": []
  },
  {
   "cell_type": "markdown",
   "id": "77df6e1b",
   "metadata": {},
   "source": [
    "### Read the guide labled perturb-seq data\n",
    "\n",
    "From perturbseq paper"
   ]
  },
  {
   "cell_type": "code",
   "execution_count": 9,
   "id": "dfd2c86e",
   "metadata": {},
   "outputs": [
    {
     "name": "stderr",
     "output_type": "stream",
     "text": [
      "/home/ssm-user/anaconda3/envs/single_cell/lib/python3.8/site-packages/pandas/core/arrays/categorical.py:2631: FutureWarning: The `inplace` parameter in pandas.Categorical.remove_unused_categories is deprecated and will be removed in a future version.\n",
      "  res = method(*args, **kwargs)\n"
     ]
    }
   ],
   "source": [
    "adata = sc.read(data_path + 'eccite.h5ad')\n",
    "adata = adata[(adata.obs['replicate'] != 'rep4')].copy()\n",
    "adata.var.index.name=None"
   ]
  },
  {
   "cell_type": "code",
   "execution_count": 10,
   "id": "d0d9d799",
   "metadata": {},
   "outputs": [
    {
     "data": {
      "text/html": [
       "<div>\n",
       "<style scoped>\n",
       "    .dataframe tbody tr th:only-of-type {\n",
       "        vertical-align: middle;\n",
       "    }\n",
       "\n",
       "    .dataframe tbody tr th {\n",
       "        vertical-align: top;\n",
       "    }\n",
       "\n",
       "    .dataframe thead th {\n",
       "        text-align: right;\n",
       "    }\n",
       "</style>\n",
       "<table border=\"1\" class=\"dataframe\">\n",
       "  <thead>\n",
       "    <tr style=\"text-align: right;\">\n",
       "      <th></th>\n",
       "      <th>lane</th>\n",
       "      <th>n_genes_by_counts</th>\n",
       "      <th>total_counts</th>\n",
       "      <th>total_counts_mt</th>\n",
       "      <th>pct_counts_mt</th>\n",
       "      <th>orig.ident</th>\n",
       "      <th>nCount_HTO</th>\n",
       "      <th>nFeature_HTO</th>\n",
       "      <th>MULTI_ID</th>\n",
       "      <th>MULTI_classification</th>\n",
       "      <th>replicate</th>\n",
       "      <th>treatment</th>\n",
       "      <th>guide_ID</th>\n",
       "      <th>second_percent</th>\n",
       "      <th>gene</th>\n",
       "    </tr>\n",
       "  </thead>\n",
       "  <tbody>\n",
       "    <tr>\n",
       "      <th>GACGGCTGTTTGACTG-8</th>\n",
       "      <td>8</td>\n",
       "      <td>1755</td>\n",
       "      <td>5233.0</td>\n",
       "      <td>279.0</td>\n",
       "      <td>5.331550</td>\n",
       "      <td>SeuratProject</td>\n",
       "      <td>265</td>\n",
       "      <td>5</td>\n",
       "      <td>rep2-tx-TCGATAATGCGA</td>\n",
       "      <td>rep2-tx-TCGATAATGCGA</td>\n",
       "      <td>rep2</td>\n",
       "      <td>tx</td>\n",
       "      <td>IRF7g1-CGTGTAGCGCAGCTGCTTC</td>\n",
       "      <td>0.006061</td>\n",
       "      <td>IRF7</td>\n",
       "    </tr>\n",
       "    <tr>\n",
       "      <th>GCAGCCATCCGTACAA-6</th>\n",
       "      <td>6</td>\n",
       "      <td>2219</td>\n",
       "      <td>7110.0</td>\n",
       "      <td>525.0</td>\n",
       "      <td>7.383966</td>\n",
       "      <td>SeuratProject</td>\n",
       "      <td>104</td>\n",
       "      <td>5</td>\n",
       "      <td>rep1-tx-AGGACCATCCAA</td>\n",
       "      <td>rep1-tx-AGGACCATCCAA</td>\n",
       "      <td>rep1</td>\n",
       "      <td>tx</td>\n",
       "      <td>IRF7g1-CGTGTAGCGCAGCTGCTTC</td>\n",
       "      <td>0.076923</td>\n",
       "      <td>IRF7</td>\n",
       "    </tr>\n",
       "  </tbody>\n",
       "</table>\n",
       "</div>"
      ],
      "text/plain": [
       "                   lane  n_genes_by_counts  total_counts  total_counts_mt  \\\n",
       "GACGGCTGTTTGACTG-8    8               1755        5233.0            279.0   \n",
       "GCAGCCATCCGTACAA-6    6               2219        7110.0            525.0   \n",
       "\n",
       "                    pct_counts_mt     orig.ident  nCount_HTO  nFeature_HTO  \\\n",
       "GACGGCTGTTTGACTG-8       5.331550  SeuratProject         265             5   \n",
       "GCAGCCATCCGTACAA-6       7.383966  SeuratProject         104             5   \n",
       "\n",
       "                                MULTI_ID  MULTI_classification replicate  \\\n",
       "GACGGCTGTTTGACTG-8  rep2-tx-TCGATAATGCGA  rep2-tx-TCGATAATGCGA      rep2   \n",
       "GCAGCCATCCGTACAA-6  rep1-tx-AGGACCATCCAA  rep1-tx-AGGACCATCCAA      rep1   \n",
       "\n",
       "                   treatment                    guide_ID  second_percent  gene  \n",
       "GACGGCTGTTTGACTG-8        tx  IRF7g1-CGTGTAGCGCAGCTGCTTC        0.006061  IRF7  \n",
       "GCAGCCATCCGTACAA-6        tx  IRF7g1-CGTGTAGCGCAGCTGCTTC        0.076923  IRF7  "
      ]
     },
     "execution_count": 10,
     "metadata": {},
     "output_type": "execute_result"
    }
   ],
   "source": [
    "adata.obs.head(2)"
   ]
  },
  {
   "cell_type": "code",
   "execution_count": 11,
   "id": "db3066f5",
   "metadata": {},
   "outputs": [
    {
     "data": {
      "text/plain": [
       "tx      19822\n",
       "ctrl     2046\n",
       "Name: treatment, dtype: int64"
      ]
     },
     "execution_count": 11,
     "metadata": {},
     "output_type": "execute_result"
    }
   ],
   "source": [
    "adata.obs['treatment'].value_counts()"
   ]
  },
  {
   "cell_type": "markdown",
   "id": "9ba32a25",
   "metadata": {},
   "source": [
    "### Read pre-defined ISGs"
   ]
  },
  {
   "cell_type": "code",
   "execution_count": 12,
   "id": "f7813214",
   "metadata": {},
   "outputs": [],
   "source": [
    "isg_classes = pd.read_csv('isg_classes.csv')"
   ]
  },
  {
   "cell_type": "code",
   "execution_count": 13,
   "id": "80c158a2",
   "metadata": {},
   "outputs": [
    {
     "name": "stderr",
     "output_type": "stream",
     "text": [
      "/tmp/ipykernel_6286/2285624001.py:4: FutureWarning: Dropping of nuisance columns in DataFrame reductions (with 'numeric_only=None') is deprecated; in a future version this will raise TypeError.  Select only valid columns before calling the reduction.\n",
      "  all_isg = isg_classes[isg_classes.sum(axis=1) > 0].gene.tolist()\n"
     ]
    }
   ],
   "source": [
    "t1_isg = isg_classes.query('overall_type ==\"type1\"').gene.tolist()\n",
    "t2_isg = isg_classes.query('overall_type ==\"type2\"').gene.tolist()\n",
    "shared_isg = isg_classes.query('overall_type == \"shared\"').gene.tolist()\n",
    "all_isg = isg_classes[isg_classes.sum(axis=1) > 0].gene.tolist()"
   ]
  },
  {
   "cell_type": "markdown",
   "id": "8f13d6fc",
   "metadata": {},
   "source": [
    "### Setup memento"
   ]
  },
  {
   "cell_type": "code",
   "execution_count": 14,
   "id": "ed60a315",
   "metadata": {},
   "outputs": [],
   "source": [
    "adata.obs['q'] = 0.15"
   ]
  },
  {
   "cell_type": "code",
   "execution_count": 15,
   "id": "92ae90d5",
   "metadata": {},
   "outputs": [
    {
     "name": "stdout",
     "output_type": "stream",
     "text": [
      "Version 0.0.6\n"
     ]
    },
    {
     "name": "stderr",
     "output_type": "stream",
     "text": [
      "/home/ssm-user/Github/scrna-parameter-estimation/dist/memento-0.0.7-py3.8.egg/memento/main.py:70: RankWarning: Polyfit may be poorly conditioned\n"
     ]
    }
   ],
   "source": [
    "memento.setup_memento(adata, q_column='q', filter_mean_thresh=0.07 ,trim_percent=0.05)"
   ]
  },
  {
   "cell_type": "code",
   "execution_count": 16,
   "id": "7a4caa16",
   "metadata": {},
   "outputs": [],
   "source": [
    "ko_genes = adata.obs.gene.drop_duplicates().tolist()"
   ]
  },
  {
   "cell_type": "markdown",
   "id": "1f6f3661",
   "metadata": {},
   "source": [
    "### Memento - WT vs KO"
   ]
  },
  {
   "cell_type": "code",
   "execution_count": null,
   "id": "9f032a16",
   "metadata": {},
   "outputs": [
    {
     "name": "stderr",
     "output_type": "stream",
     "text": [
      "/home/ssm-user/anaconda3/envs/single_cell/lib/python3.8/site-packages/pandas/core/arrays/categorical.py:2631: FutureWarning: The `inplace` parameter in pandas.Categorical.remove_unused_categories is deprecated and will be removed in a future version.\n",
      "  res = method(*args, **kwargs)\n",
      "[Parallel(n_jobs=94)]: Using backend LokyBackend with 94 concurrent workers.\n",
      "[Parallel(n_jobs=94)]: Done  12 tasks      | elapsed:    4.4s\n",
      "[Parallel(n_jobs=94)]: Done 262 tasks      | elapsed:    5.4s\n",
      "[Parallel(n_jobs=94)]: Done 612 tasks      | elapsed:    6.7s\n",
      "[Parallel(n_jobs=94)]: Done 1062 tasks      | elapsed:    8.2s\n",
      "[Parallel(n_jobs=94)]: Done 1612 tasks      | elapsed:   10.1s\n",
      "[Parallel(n_jobs=94)]: Done 2262 tasks      | elapsed:   12.5s\n",
      "[Parallel(n_jobs=94)]: Done 3012 tasks      | elapsed:   15.0s\n",
      "[Parallel(n_jobs=94)]: Done 3862 tasks      | elapsed:   17.9s\n",
      "[Parallel(n_jobs=94)]: Done 4812 tasks      | elapsed:   21.6s\n",
      "[Parallel(n_jobs=94)]: Done 5614 out of 5614 | elapsed:   24.3s finished\n",
      "... storing 'memento_group' as categorical\n",
      "[Parallel(n_jobs=94)]: Using backend LokyBackend with 94 concurrent workers.\n",
      "[Parallel(n_jobs=94)]: Done  12 tasks      | elapsed:    0.3s\n",
      "[Parallel(n_jobs=94)]: Done 336 tasks      | elapsed:    1.8s\n",
      "[Parallel(n_jobs=94)]: Done 1036 tasks      | elapsed:    4.8s\n",
      "[Parallel(n_jobs=94)]: Done 1936 tasks      | elapsed:    8.4s\n",
      "[Parallel(n_jobs=94)]: Done 3036 tasks      | elapsed:   12.8s\n",
      "[Parallel(n_jobs=94)]: Done 4336 tasks      | elapsed:   17.9s\n",
      "[Parallel(n_jobs=94)]: Done 5836 tasks      | elapsed:   23.9s\n",
      "[Parallel(n_jobs=94)]: Done 7129 out of 7316 | elapsed:   29.0s remaining:    0.8s\n",
      "[Parallel(n_jobs=94)]: Done 7316 out of 7316 | elapsed:   29.8s finished\n",
      "... storing 'memento_group' as categorical\n",
      "[Parallel(n_jobs=94)]: Using backend LokyBackend with 94 concurrent workers.\n",
      "[Parallel(n_jobs=94)]: Done  12 tasks      | elapsed:    0.2s\n",
      "[Parallel(n_jobs=94)]: Done 336 tasks      | elapsed:    1.5s\n",
      "[Parallel(n_jobs=94)]: Done 1036 tasks      | elapsed:    4.0s\n",
      "[Parallel(n_jobs=94)]: Done 1936 tasks      | elapsed:    7.0s\n",
      "[Parallel(n_jobs=94)]: Done 3036 tasks      | elapsed:   10.9s\n",
      "[Parallel(n_jobs=94)]: Done 4336 tasks      | elapsed:   15.2s\n",
      "[Parallel(n_jobs=94)]: Done 5836 tasks      | elapsed:   20.3s\n",
      "[Parallel(n_jobs=94)]: Done 6442 out of 6442 | elapsed:   22.4s finished\n",
      "... storing 'memento_group' as categorical\n",
      "[Parallel(n_jobs=94)]: Using backend LokyBackend with 94 concurrent workers.\n",
      "[Parallel(n_jobs=94)]: Done  12 tasks      | elapsed:    0.2s\n",
      "[Parallel(n_jobs=94)]: Done 336 tasks      | elapsed:    1.5s\n",
      "[Parallel(n_jobs=94)]: Done 1036 tasks      | elapsed:    3.9s\n",
      "[Parallel(n_jobs=94)]: Done 1936 tasks      | elapsed:    6.8s\n",
      "[Parallel(n_jobs=94)]: Done 3036 tasks      | elapsed:   10.5s\n",
      "[Parallel(n_jobs=94)]: Done 4336 tasks      | elapsed:   14.9s\n",
      "[Parallel(n_jobs=94)]: Done 5114 out of 5114 | elapsed:   17.5s finished\n",
      "... storing 'memento_group' as categorical\n",
      "[Parallel(n_jobs=94)]: Using backend LokyBackend with 94 concurrent workers.\n",
      "[Parallel(n_jobs=94)]: Done  12 tasks      | elapsed:    0.2s\n",
      "[Parallel(n_jobs=94)]: Done 336 tasks      | elapsed:    1.6s\n",
      "[Parallel(n_jobs=94)]: Done 1036 tasks      | elapsed:    4.4s\n",
      "[Parallel(n_jobs=94)]: Done 1936 tasks      | elapsed:    7.6s\n",
      "[Parallel(n_jobs=94)]: Done 3036 tasks      | elapsed:   11.7s\n",
      "[Parallel(n_jobs=94)]: Done 4336 tasks      | elapsed:   16.6s\n",
      "[Parallel(n_jobs=94)]: Done 5836 tasks      | elapsed:   22.0s\n",
      "[Parallel(n_jobs=94)]: Done 7262 out of 7449 | elapsed:   27.2s remaining:    0.7s\n",
      "[Parallel(n_jobs=94)]: Done 7449 out of 7449 | elapsed:   27.9s finished\n",
      "... storing 'memento_group' as categorical\n",
      "[Parallel(n_jobs=94)]: Using backend LokyBackend with 94 concurrent workers.\n",
      "[Parallel(n_jobs=94)]: Done  12 tasks      | elapsed:    0.3s\n",
      "[Parallel(n_jobs=94)]: Done 336 tasks      | elapsed:    1.5s\n",
      "[Parallel(n_jobs=94)]: Done 1036 tasks      | elapsed:    4.1s\n",
      "[Parallel(n_jobs=94)]: Done 1936 tasks      | elapsed:    7.2s\n",
      "[Parallel(n_jobs=94)]: Done 3036 tasks      | elapsed:   10.9s\n",
      "[Parallel(n_jobs=94)]: Done 4336 tasks      | elapsed:   15.5s\n",
      "[Parallel(n_jobs=94)]: Done 5836 tasks      | elapsed:   20.7s\n",
      "[Parallel(n_jobs=94)]: Done 6507 out of 6507 | elapsed:   22.9s finished\n",
      "... storing 'memento_group' as categorical\n",
      "[Parallel(n_jobs=94)]: Using backend LokyBackend with 94 concurrent workers.\n",
      "[Parallel(n_jobs=94)]: Done  12 tasks      | elapsed:    0.3s\n",
      "[Parallel(n_jobs=94)]: Done 262 tasks      | elapsed:    1.3s\n",
      "[Parallel(n_jobs=94)]: Done 612 tasks      | elapsed:    2.7s\n",
      "[Parallel(n_jobs=94)]: Done 1062 tasks      | elapsed:    4.7s\n",
      "[Parallel(n_jobs=94)]: Done 1612 tasks      | elapsed:    6.7s\n",
      "[Parallel(n_jobs=94)]: Done 2262 tasks      | elapsed:    9.3s\n",
      "[Parallel(n_jobs=94)]: Done 3012 tasks      | elapsed:   12.3s\n",
      "[Parallel(n_jobs=94)]: Done 3862 tasks      | elapsed:   15.7s\n",
      "[Parallel(n_jobs=94)]: Done 4812 tasks      | elapsed:   19.5s\n",
      "[Parallel(n_jobs=94)]: Done 5862 tasks      | elapsed:   23.7s\n",
      "[Parallel(n_jobs=94)]: Done 7012 tasks      | elapsed:   28.3s\n",
      "[Parallel(n_jobs=94)]: Done 7578 out of 7578 | elapsed:   30.6s finished\n",
      "... storing 'memento_group' as categorical\n",
      "[Parallel(n_jobs=94)]: Using backend LokyBackend with 94 concurrent workers.\n",
      "[Parallel(n_jobs=94)]: Done  12 tasks      | elapsed:    0.2s\n",
      "[Parallel(n_jobs=94)]: Done 336 tasks      | elapsed:    1.6s\n",
      "[Parallel(n_jobs=94)]: Done 1036 tasks      | elapsed:    4.2s\n",
      "[Parallel(n_jobs=94)]: Done 1936 tasks      | elapsed:    7.5s\n",
      "[Parallel(n_jobs=94)]: Done 3036 tasks      | elapsed:   11.5s\n",
      "[Parallel(n_jobs=94)]: Done 4336 tasks      | elapsed:   16.1s\n",
      "[Parallel(n_jobs=94)]: Done 5836 tasks      | elapsed:   21.5s\n",
      "[Parallel(n_jobs=94)]: Done 7088 out of 7088 | elapsed:   26.0s finished\n",
      "... storing 'memento_group' as categorical\n",
      "[Parallel(n_jobs=94)]: Using backend LokyBackend with 94 concurrent workers.\n",
      "[Parallel(n_jobs=94)]: Done  12 tasks      | elapsed:    0.2s\n",
      "[Parallel(n_jobs=94)]: Done 336 tasks      | elapsed:    1.6s\n",
      "[Parallel(n_jobs=94)]: Done 1036 tasks      | elapsed:    3.9s\n",
      "[Parallel(n_jobs=94)]: Done 1936 tasks      | elapsed:    6.6s\n",
      "[Parallel(n_jobs=94)]: Done 3036 tasks      | elapsed:   10.0s\n",
      "[Parallel(n_jobs=94)]: Done 4025 out of 4025 | elapsed:   13.0s finished\n",
      "... storing 'memento_group' as categorical\n",
      "[Parallel(n_jobs=94)]: Using backend LokyBackend with 94 concurrent workers.\n",
      "[Parallel(n_jobs=94)]: Done  12 tasks      | elapsed:    0.2s\n",
      "[Parallel(n_jobs=94)]: Done 336 tasks      | elapsed:    1.5s\n",
      "[Parallel(n_jobs=94)]: Done 1036 tasks      | elapsed:    3.9s\n",
      "[Parallel(n_jobs=94)]: Done 1936 tasks      | elapsed:    6.9s\n",
      "[Parallel(n_jobs=94)]: Done 3036 tasks      | elapsed:   10.6s\n",
      "[Parallel(n_jobs=94)]: Done 4336 tasks      | elapsed:   15.0s\n",
      "[Parallel(n_jobs=94)]: Done 5844 out of 5844 | elapsed:   20.2s finished\n",
      "... storing 'memento_group' as categorical\n",
      "[Parallel(n_jobs=94)]: Using backend LokyBackend with 94 concurrent workers.\n",
      "[Parallel(n_jobs=94)]: Done  12 tasks      | elapsed:    0.2s\n",
      "[Parallel(n_jobs=94)]: Done 336 tasks      | elapsed:    1.3s\n",
      "[Parallel(n_jobs=94)]: Done 1036 tasks      | elapsed:    3.6s\n",
      "[Parallel(n_jobs=94)]: Done 1936 tasks      | elapsed:    6.2s\n",
      "[Parallel(n_jobs=94)]: Done 3036 tasks      | elapsed:    9.5s\n",
      "[Parallel(n_jobs=94)]: Done 4336 tasks      | elapsed:   13.6s\n",
      "[Parallel(n_jobs=94)]: Done 5836 tasks      | elapsed:   18.1s\n",
      "[Parallel(n_jobs=94)]: Done 6082 out of 6269 | elapsed:   18.8s remaining:    0.6s\n",
      "[Parallel(n_jobs=94)]: Done 6269 out of 6269 | elapsed:   19.3s finished\n",
      "... storing 'memento_group' as categorical\n",
      "[Parallel(n_jobs=94)]: Using backend LokyBackend with 94 concurrent workers.\n",
      "[Parallel(n_jobs=94)]: Done  12 tasks      | elapsed:    0.2s\n",
      "[Parallel(n_jobs=94)]: Done 336 tasks      | elapsed:    1.5s\n",
      "[Parallel(n_jobs=94)]: Done 1036 tasks      | elapsed:    4.1s\n",
      "[Parallel(n_jobs=94)]: Done 1936 tasks      | elapsed:    7.3s\n",
      "[Parallel(n_jobs=94)]: Done 3036 tasks      | elapsed:   11.2s\n",
      "[Parallel(n_jobs=94)]: Done 4336 tasks      | elapsed:   15.7s\n",
      "[Parallel(n_jobs=94)]: Done 5836 tasks      | elapsed:   21.1s\n",
      "[Parallel(n_jobs=94)]: Done 6244 out of 6431 | elapsed:   22.6s remaining:    0.7s\n",
      "[Parallel(n_jobs=94)]: Done 6431 out of 6431 | elapsed:   23.2s finished\n",
      "... storing 'memento_group' as categorical\n",
      "[Parallel(n_jobs=94)]: Using backend LokyBackend with 94 concurrent workers.\n",
      "[Parallel(n_jobs=94)]: Done  12 tasks      | elapsed:    0.2s\n",
      "[Parallel(n_jobs=94)]: Done 336 tasks      | elapsed:    1.4s\n",
      "[Parallel(n_jobs=94)]: Done 1036 tasks      | elapsed:    3.9s\n",
      "[Parallel(n_jobs=94)]: Done 1936 tasks      | elapsed:    6.8s\n",
      "[Parallel(n_jobs=94)]: Done 3036 tasks      | elapsed:   10.4s\n",
      "[Parallel(n_jobs=94)]: Done 4336 tasks      | elapsed:   14.8s\n",
      "[Parallel(n_jobs=94)]: Done 5614 out of 5614 | elapsed:   19.0s finished\n",
      "... storing 'memento_group' as categorical\n",
      "[Parallel(n_jobs=94)]: Using backend LokyBackend with 94 concurrent workers.\n",
      "[Parallel(n_jobs=94)]: Done  12 tasks      | elapsed:    0.2s\n",
      "[Parallel(n_jobs=94)]: Done 336 tasks      | elapsed:    1.6s\n",
      "[Parallel(n_jobs=94)]: Done 1036 tasks      | elapsed:    4.2s\n",
      "[Parallel(n_jobs=94)]: Done 1936 tasks      | elapsed:    7.5s\n",
      "[Parallel(n_jobs=94)]: Done 3036 tasks      | elapsed:   11.5s\n",
      "[Parallel(n_jobs=94)]: Done 4336 tasks      | elapsed:   16.1s\n",
      "[Parallel(n_jobs=94)]: Done 5836 tasks      | elapsed:   21.7s\n",
      "[Parallel(n_jobs=94)]: Done 6790 out of 6977 | elapsed:   25.1s remaining:    0.7s\n",
      "[Parallel(n_jobs=94)]: Done 6977 out of 6977 | elapsed:   25.8s finished\n",
      "... storing 'memento_group' as categorical\n",
      "[Parallel(n_jobs=94)]: Using backend LokyBackend with 94 concurrent workers.\n",
      "[Parallel(n_jobs=94)]: Done  12 tasks      | elapsed:    0.2s\n",
      "[Parallel(n_jobs=94)]: Done 336 tasks      | elapsed:    1.5s\n",
      "[Parallel(n_jobs=94)]: Done 1036 tasks      | elapsed:    4.0s\n",
      "[Parallel(n_jobs=94)]: Done 1936 tasks      | elapsed:    7.2s\n",
      "[Parallel(n_jobs=94)]: Done 3036 tasks      | elapsed:   11.0s\n",
      "[Parallel(n_jobs=94)]: Done 4336 tasks      | elapsed:   15.7s\n",
      "[Parallel(n_jobs=94)]: Done 4602 out of 4789 | elapsed:   16.6s remaining:    0.7s\n",
      "[Parallel(n_jobs=94)]: Done 4789 out of 4789 | elapsed:   17.2s finished\n",
      "... storing 'memento_group' as categorical\n",
      "[Parallel(n_jobs=94)]: Using backend LokyBackend with 94 concurrent workers.\n",
      "[Parallel(n_jobs=94)]: Done  12 tasks      | elapsed:    0.2s\n",
      "[Parallel(n_jobs=94)]: Done 336 tasks      | elapsed:    1.7s\n",
      "[Parallel(n_jobs=94)]: Done 1036 tasks      | elapsed:    4.4s\n",
      "[Parallel(n_jobs=94)]: Done 1936 tasks      | elapsed:    7.7s\n",
      "[Parallel(n_jobs=94)]: Done 3036 tasks      | elapsed:   11.7s\n",
      "[Parallel(n_jobs=94)]: Done 4336 tasks      | elapsed:   16.6s\n",
      "[Parallel(n_jobs=94)]: Done 5836 tasks      | elapsed:   22.0s\n",
      "[Parallel(n_jobs=94)]: Done 6849 out of 7036 | elapsed:   25.8s remaining:    0.7s\n",
      "[Parallel(n_jobs=94)]: Done 7036 out of 7036 | elapsed:   26.4s finished\n",
      "... storing 'memento_group' as categorical\n",
      "[Parallel(n_jobs=94)]: Using backend LokyBackend with 94 concurrent workers.\n",
      "[Parallel(n_jobs=94)]: Done  12 tasks      | elapsed:    0.2s\n",
      "[Parallel(n_jobs=94)]: Done 262 tasks      | elapsed:    1.4s\n",
      "[Parallel(n_jobs=94)]: Done 612 tasks      | elapsed:    2.8s\n",
      "[Parallel(n_jobs=94)]: Done 1062 tasks      | elapsed:    4.5s\n",
      "[Parallel(n_jobs=94)]: Done 1612 tasks      | elapsed:    6.5s\n",
      "[Parallel(n_jobs=94)]: Done 2262 tasks      | elapsed:    8.9s\n",
      "[Parallel(n_jobs=94)]: Done 3012 tasks      | elapsed:   11.9s\n",
      "[Parallel(n_jobs=94)]: Done 3862 tasks      | elapsed:   15.1s\n",
      "[Parallel(n_jobs=94)]: Done 4812 tasks      | elapsed:   18.6s\n",
      "[Parallel(n_jobs=94)]: Done 5862 tasks      | elapsed:   22.6s\n",
      "[Parallel(n_jobs=94)]: Done 7012 tasks      | elapsed:   26.9s\n",
      "[Parallel(n_jobs=94)]: Done 7368 out of 7368 | elapsed:   28.3s finished\n",
      "... storing 'memento_group' as categorical\n",
      "[Parallel(n_jobs=94)]: Using backend LokyBackend with 94 concurrent workers.\n",
      "[Parallel(n_jobs=94)]: Done  12 tasks      | elapsed:    0.2s\n",
      "[Parallel(n_jobs=94)]: Done 336 tasks      | elapsed:    1.6s\n",
      "[Parallel(n_jobs=94)]: Done 1036 tasks      | elapsed:    4.1s\n",
      "[Parallel(n_jobs=94)]: Done 1936 tasks      | elapsed:    7.2s\n",
      "[Parallel(n_jobs=94)]: Done 3036 tasks      | elapsed:   11.1s\n",
      "[Parallel(n_jobs=94)]: Done 4336 tasks      | elapsed:   15.6s\n",
      "[Parallel(n_jobs=94)]: Done 5836 tasks      | elapsed:   20.8s\n",
      "[Parallel(n_jobs=94)]: Done 7040 out of 7227 | elapsed:   25.0s remaining:    0.7s\n",
      "[Parallel(n_jobs=94)]: Done 7227 out of 7227 | elapsed:   25.6s finished\n",
      "... storing 'memento_group' as categorical\n",
      "[Parallel(n_jobs=94)]: Using backend LokyBackend with 94 concurrent workers.\n",
      "[Parallel(n_jobs=94)]: Done  12 tasks      | elapsed:    0.2s\n",
      "[Parallel(n_jobs=94)]: Done 336 tasks      | elapsed:    1.5s\n",
      "[Parallel(n_jobs=94)]: Done 1036 tasks      | elapsed:    4.1s\n",
      "[Parallel(n_jobs=94)]: Done 1936 tasks      | elapsed:    7.2s\n",
      "[Parallel(n_jobs=94)]: Done 3036 tasks      | elapsed:   11.1s\n",
      "[Parallel(n_jobs=94)]: Done 4336 tasks      | elapsed:   15.6s\n",
      "[Parallel(n_jobs=94)]: Done 5836 tasks      | elapsed:   21.0s\n",
      "[Parallel(n_jobs=94)]: Done 6788 out of 6788 | elapsed:   24.3s finished\n",
      "... storing 'memento_group' as categorical\n",
      "[Parallel(n_jobs=94)]: Using backend LokyBackend with 94 concurrent workers.\n",
      "[Parallel(n_jobs=94)]: Done  12 tasks      | elapsed:    0.3s\n",
      "[Parallel(n_jobs=94)]: Done 336 tasks      | elapsed:    1.8s\n",
      "[Parallel(n_jobs=94)]: Done 1036 tasks      | elapsed:    4.8s\n",
      "[Parallel(n_jobs=94)]: Done 1936 tasks      | elapsed:    8.5s\n",
      "[Parallel(n_jobs=94)]: Done 3036 tasks      | elapsed:   12.9s\n",
      "[Parallel(n_jobs=94)]: Done 4336 tasks      | elapsed:   18.2s\n",
      "[Parallel(n_jobs=94)]: Done 5836 tasks      | elapsed:   24.4s\n",
      "[Parallel(n_jobs=94)]: Done 7225 out of 7412 | elapsed:   30.1s remaining:    0.8s\n",
      "[Parallel(n_jobs=94)]: Done 7412 out of 7412 | elapsed:   30.8s finished\n",
      "... storing 'memento_group' as categorical\n",
      "[Parallel(n_jobs=94)]: Using backend LokyBackend with 94 concurrent workers.\n",
      "[Parallel(n_jobs=94)]: Done  12 tasks      | elapsed:    0.3s\n",
      "[Parallel(n_jobs=94)]: Done 336 tasks      | elapsed:    1.6s\n",
      "[Parallel(n_jobs=94)]: Done 1036 tasks      | elapsed:    4.0s\n",
      "[Parallel(n_jobs=94)]: Done 1936 tasks      | elapsed:    6.9s\n",
      "[Parallel(n_jobs=94)]: Done 3036 tasks      | elapsed:   10.6s\n",
      "[Parallel(n_jobs=94)]: Done 4336 tasks      | elapsed:   15.0s\n",
      "[Parallel(n_jobs=94)]: Done 5596 out of 5596 | elapsed:   19.1s finished\n",
      "... storing 'memento_group' as categorical\n",
      "[Parallel(n_jobs=94)]: Using backend LokyBackend with 94 concurrent workers.\n",
      "[Parallel(n_jobs=94)]: Done  12 tasks      | elapsed:    0.2s\n",
      "[Parallel(n_jobs=94)]: Done 336 tasks      | elapsed:    1.3s\n",
      "[Parallel(n_jobs=94)]: Done 1036 tasks      | elapsed:    3.5s\n",
      "[Parallel(n_jobs=94)]: Done 1936 tasks      | elapsed:    6.2s\n",
      "[Parallel(n_jobs=94)]: Done 3036 tasks      | elapsed:    9.6s\n",
      "[Parallel(n_jobs=94)]: Done 4336 tasks      | elapsed:   13.5s\n",
      "[Parallel(n_jobs=94)]: Done 5110 out of 5110 | elapsed:   15.8s finished\n",
      "... storing 'memento_group' as categorical\n",
      "[Parallel(n_jobs=94)]: Using backend LokyBackend with 94 concurrent workers.\n",
      "[Parallel(n_jobs=94)]: Done  12 tasks      | elapsed:    0.2s\n",
      "[Parallel(n_jobs=94)]: Done 336 tasks      | elapsed:    1.3s\n",
      "[Parallel(n_jobs=94)]: Done 1036 tasks      | elapsed:    3.5s\n",
      "[Parallel(n_jobs=94)]: Done 1936 tasks      | elapsed:    6.2s\n",
      "[Parallel(n_jobs=94)]: Done 3084 out of 3271 | elapsed:    9.7s remaining:    0.6s\n",
      "[Parallel(n_jobs=94)]: Done 3271 out of 3271 | elapsed:   10.2s finished\n",
      "... storing 'memento_group' as categorical\n",
      "[Parallel(n_jobs=94)]: Using backend LokyBackend with 94 concurrent workers.\n",
      "[Parallel(n_jobs=94)]: Done  12 tasks      | elapsed:    0.2s\n",
      "[Parallel(n_jobs=94)]: Done 406 out of 593 | elapsed:    1.7s remaining:    0.8s\n",
      "[Parallel(n_jobs=94)]: Done 593 out of 593 | elapsed:    2.3s finished\n",
      "... storing 'memento_group' as categorical\n",
      "[Parallel(n_jobs=94)]: Using backend LokyBackend with 94 concurrent workers.\n",
      "[Parallel(n_jobs=94)]: Done  12 tasks      | elapsed:    0.2s\n",
      "[Parallel(n_jobs=94)]: Done 336 tasks      | elapsed:    1.2s\n",
      "[Parallel(n_jobs=94)]: Done 1036 tasks      | elapsed:    3.0s\n",
      "[Parallel(n_jobs=94)]: Done 1936 tasks      | elapsed:    5.4s\n",
      "[Parallel(n_jobs=94)]: Done 2016 out of 2203 | elapsed:    5.6s remaining:    0.5s\n",
      "[Parallel(n_jobs=94)]: Done 2203 out of 2203 | elapsed:    6.1s finished\n",
      "... storing 'memento_group' as categorical\n",
      "[Parallel(n_jobs=94)]: Using backend LokyBackend with 94 concurrent workers.\n",
      "[Parallel(n_jobs=94)]: Done  12 tasks      | elapsed:    0.1s\n",
      "[Parallel(n_jobs=94)]: Done 336 tasks      | elapsed:    0.9s\n",
      "[Parallel(n_jobs=94)]: Done 1036 tasks      | elapsed:    2.1s\n",
      "[Parallel(n_jobs=94)]: Done 1936 tasks      | elapsed:    3.6s\n",
      "[Parallel(n_jobs=94)]: Done 3036 tasks      | elapsed:    5.8s\n",
      "[Parallel(n_jobs=94)]: Done 4336 tasks      | elapsed:    8.0s\n",
      "[Parallel(n_jobs=94)]: Done 5836 tasks      | elapsed:   10.7s\n",
      "[Parallel(n_jobs=94)]: Done 7508 out of 7508 | elapsed:   13.7s finished\n",
      "... storing 'memento_group' as categorical\n",
      "[Parallel(n_jobs=94)]: Using backend LokyBackend with 94 concurrent workers.\n",
      "[Parallel(n_jobs=94)]: Done  12 tasks      | elapsed:    0.5s\n",
      "[Parallel(n_jobs=94)]: Done 262 tasks      | elapsed:    2.4s\n",
      "[Parallel(n_jobs=94)]: Done 612 tasks      | elapsed:    5.5s\n",
      "[Parallel(n_jobs=94)]: Done 1062 tasks      | elapsed:    9.4s\n",
      "[Parallel(n_jobs=94)]: Done 1612 tasks      | elapsed:   13.7s\n",
      "[Parallel(n_jobs=94)]: Done 2262 tasks      | elapsed:   18.6s\n",
      "[Parallel(n_jobs=94)]: Done 3012 tasks      | elapsed:   24.5s\n",
      "[Parallel(n_jobs=94)]: Done 3862 tasks      | elapsed:   31.1s\n",
      "[Parallel(n_jobs=94)]: Done 4812 tasks      | elapsed:   38.3s\n",
      "[Parallel(n_jobs=94)]: Done 5862 tasks      | elapsed:   46.4s\n",
      "[Parallel(n_jobs=94)]: Done 7012 tasks      | elapsed:   54.9s\n",
      "[Parallel(n_jobs=94)]: Done 8262 tasks      | elapsed:  1.1min\n",
      "[Parallel(n_jobs=94)]: Done 8886 out of 8886 | elapsed:  1.2min finished\n",
      "... storing 'memento_group' as categorical\n",
      "[Parallel(n_jobs=94)]: Using backend LokyBackend with 94 concurrent workers.\n",
      "[Parallel(n_jobs=94)]: Done  12 tasks      | elapsed:    0.5s\n",
      "[Parallel(n_jobs=94)]: Done 262 tasks      | elapsed:    2.7s\n",
      "[Parallel(n_jobs=94)]: Done 612 tasks      | elapsed:    6.2s\n",
      "[Parallel(n_jobs=94)]: Done 1062 tasks      | elapsed:   10.7s\n",
      "[Parallel(n_jobs=94)]: Done 1612 tasks      | elapsed:   15.6s\n",
      "[Parallel(n_jobs=94)]: Done 2262 tasks      | elapsed:   21.2s\n",
      "[Parallel(n_jobs=94)]: Done 3012 tasks      | elapsed:   28.0s\n",
      "[Parallel(n_jobs=94)]: Done 3862 tasks      | elapsed:   36.0s\n",
      "[Parallel(n_jobs=94)]: Done 4812 tasks      | elapsed:   44.3s\n",
      "[Parallel(n_jobs=94)]: Done 5862 tasks      | elapsed:   53.8s\n",
      "[Parallel(n_jobs=94)]: Done 7012 tasks      | elapsed:  1.1min\n",
      "[Parallel(n_jobs=94)]: Done 8262 tasks      | elapsed:  1.3min\n",
      "[Parallel(n_jobs=94)]: Done 8920 out of 8920 | elapsed:  1.4min finished\n",
      "... storing 'memento_group' as categorical\n",
      "[Parallel(n_jobs=94)]: Using backend LokyBackend with 94 concurrent workers.\n",
      "[Parallel(n_jobs=94)]: Done  12 tasks      | elapsed:    0.4s\n",
      "[Parallel(n_jobs=94)]: Done 262 tasks      | elapsed:    2.2s\n",
      "[Parallel(n_jobs=94)]: Done 612 tasks      | elapsed:    5.2s\n",
      "[Parallel(n_jobs=94)]: Done 1062 tasks      | elapsed:    8.9s\n",
      "[Parallel(n_jobs=94)]: Done 1612 tasks      | elapsed:   13.0s\n",
      "[Parallel(n_jobs=94)]: Done 2262 tasks      | elapsed:   17.7s\n",
      "[Parallel(n_jobs=94)]: Done 3012 tasks      | elapsed:   23.5s\n",
      "[Parallel(n_jobs=94)]: Done 3862 tasks      | elapsed:   30.1s\n",
      "[Parallel(n_jobs=94)]: Done 4812 tasks      | elapsed:   37.1s\n",
      "[Parallel(n_jobs=94)]: Done 5862 tasks      | elapsed:   45.1s\n",
      "[Parallel(n_jobs=94)]: Done 7012 tasks      | elapsed:   53.7s\n",
      "[Parallel(n_jobs=94)]: Done 8262 tasks      | elapsed:  1.1min\n",
      "[Parallel(n_jobs=94)]: Done 8865 out of 8865 | elapsed:  1.2min finished\n",
      "... storing 'memento_group' as categorical\n",
      "[Parallel(n_jobs=94)]: Using backend LokyBackend with 94 concurrent workers.\n",
      "[Parallel(n_jobs=94)]: Done  12 tasks      | elapsed:    0.5s\n",
      "[Parallel(n_jobs=94)]: Done 262 tasks      | elapsed:    2.7s\n",
      "[Parallel(n_jobs=94)]: Done 612 tasks      | elapsed:    6.0s\n",
      "[Parallel(n_jobs=94)]: Done 1062 tasks      | elapsed:   10.3s\n",
      "[Parallel(n_jobs=94)]: Done 1612 tasks      | elapsed:   15.0s\n",
      "[Parallel(n_jobs=94)]: Done 2262 tasks      | elapsed:   20.5s\n",
      "[Parallel(n_jobs=94)]: Done 3012 tasks      | elapsed:   27.2s\n",
      "[Parallel(n_jobs=94)]: Done 3862 tasks      | elapsed:   34.8s\n",
      "[Parallel(n_jobs=94)]: Done 4812 tasks      | elapsed:   42.9s\n",
      "[Parallel(n_jobs=94)]: Done 5862 tasks      | elapsed:   52.1s\n",
      "[Parallel(n_jobs=94)]: Done 7012 tasks      | elapsed:  1.0min\n",
      "[Parallel(n_jobs=94)]: Done 8262 tasks      | elapsed:  1.2min\n",
      "[Parallel(n_jobs=94)]: Done 8827 out of 8827 | elapsed:  1.3min finished\n",
      "... storing 'memento_group' as categorical\n",
      "[Parallel(n_jobs=94)]: Using backend LokyBackend with 94 concurrent workers.\n",
      "[Parallel(n_jobs=94)]: Done  12 tasks      | elapsed:    0.4s\n",
      "[Parallel(n_jobs=94)]: Done 262 tasks      | elapsed:    2.3s\n",
      "[Parallel(n_jobs=94)]: Done 612 tasks      | elapsed:    5.3s\n",
      "[Parallel(n_jobs=94)]: Done 1062 tasks      | elapsed:    9.2s\n",
      "[Parallel(n_jobs=94)]: Done 1612 tasks      | elapsed:   13.4s\n",
      "[Parallel(n_jobs=94)]: Done 2262 tasks      | elapsed:   18.2s\n",
      "[Parallel(n_jobs=94)]: Done 3012 tasks      | elapsed:   24.1s\n",
      "[Parallel(n_jobs=94)]: Done 3862 tasks      | elapsed:   30.9s\n",
      "[Parallel(n_jobs=94)]: Done 4812 tasks      | elapsed:   38.1s\n",
      "[Parallel(n_jobs=94)]: Done 5862 tasks      | elapsed:   46.2s\n",
      "[Parallel(n_jobs=94)]: Done 7012 tasks      | elapsed:   55.0s\n",
      "[Parallel(n_jobs=94)]: Done 8262 tasks      | elapsed:  1.1min\n",
      "[Parallel(n_jobs=94)]: Done 8924 out of 8924 | elapsed:  1.2min finished\n",
      "... storing 'memento_group' as categorical\n",
      "[Parallel(n_jobs=94)]: Using backend LokyBackend with 94 concurrent workers.\n",
      "[Parallel(n_jobs=94)]: Done  12 tasks      | elapsed:    0.5s\n",
      "[Parallel(n_jobs=94)]: Done 262 tasks      | elapsed:    2.6s\n",
      "[Parallel(n_jobs=94)]: Done 612 tasks      | elapsed:    5.9s\n",
      "[Parallel(n_jobs=94)]: Done 1062 tasks      | elapsed:   10.0s\n",
      "[Parallel(n_jobs=94)]: Done 1612 tasks      | elapsed:   14.6s\n",
      "[Parallel(n_jobs=94)]: Done 2262 tasks      | elapsed:   20.1s\n",
      "[Parallel(n_jobs=94)]: Done 3012 tasks      | elapsed:   26.6s\n",
      "[Parallel(n_jobs=94)]: Done 3862 tasks      | elapsed:   34.0s\n",
      "[Parallel(n_jobs=94)]: Done 4812 tasks      | elapsed:   42.0s\n",
      "[Parallel(n_jobs=94)]: Done 5862 tasks      | elapsed:   51.0s\n",
      "[Parallel(n_jobs=94)]: Done 7012 tasks      | elapsed:  1.0min\n",
      "[Parallel(n_jobs=94)]: Done 8262 tasks      | elapsed:  1.2min\n",
      "[Parallel(n_jobs=94)]: Done 8833 out of 8833 | elapsed:  1.3min finished\n",
      "... storing 'memento_group' as categorical\n",
      "[Parallel(n_jobs=94)]: Using backend LokyBackend with 94 concurrent workers.\n",
      "[Parallel(n_jobs=94)]: Done  12 tasks      | elapsed:    0.5s\n",
      "[Parallel(n_jobs=94)]: Done 262 tasks      | elapsed:    2.4s\n",
      "[Parallel(n_jobs=94)]: Done 612 tasks      | elapsed:    5.6s\n",
      "[Parallel(n_jobs=94)]: Done 1062 tasks      | elapsed:    9.7s\n",
      "[Parallel(n_jobs=94)]: Done 1612 tasks      | elapsed:   14.2s\n",
      "[Parallel(n_jobs=94)]: Done 2262 tasks      | elapsed:   19.3s\n",
      "[Parallel(n_jobs=94)]: Done 3012 tasks      | elapsed:   25.5s\n",
      "[Parallel(n_jobs=94)]: Done 3862 tasks      | elapsed:   32.8s\n",
      "[Parallel(n_jobs=94)]: Done 4812 tasks      | elapsed:   40.4s\n",
      "[Parallel(n_jobs=94)]: Done 5862 tasks      | elapsed:   49.1s\n",
      "[Parallel(n_jobs=94)]: Done 7012 tasks      | elapsed:   58.4s\n",
      "[Parallel(n_jobs=94)]: Done 8262 tasks      | elapsed:  1.1min\n",
      "[Parallel(n_jobs=94)]: Done 8864 out of 8864 | elapsed:  1.3min finished\n",
      "... storing 'memento_group' as categorical\n",
      "[Parallel(n_jobs=94)]: Using backend LokyBackend with 94 concurrent workers.\n",
      "[Parallel(n_jobs=94)]: Done  12 tasks      | elapsed:    0.5s\n",
      "[Parallel(n_jobs=94)]: Done 262 tasks      | elapsed:    2.4s\n",
      "[Parallel(n_jobs=94)]: Done 612 tasks      | elapsed:    5.5s\n",
      "[Parallel(n_jobs=94)]: Done 1062 tasks      | elapsed:    9.5s\n",
      "[Parallel(n_jobs=94)]: Done 1612 tasks      | elapsed:   13.8s\n",
      "[Parallel(n_jobs=94)]: Done 2262 tasks      | elapsed:   18.9s\n",
      "[Parallel(n_jobs=94)]: Done 3012 tasks      | elapsed:   25.0s\n",
      "[Parallel(n_jobs=94)]: Done 3862 tasks      | elapsed:   32.0s\n",
      "[Parallel(n_jobs=94)]: Done 4812 tasks      | elapsed:   39.5s\n",
      "[Parallel(n_jobs=94)]: Done 5862 tasks      | elapsed:   47.9s\n",
      "[Parallel(n_jobs=94)]: Done 7012 tasks      | elapsed:   57.0s\n",
      "[Parallel(n_jobs=94)]: Done 8262 tasks      | elapsed:  1.1min\n",
      "[Parallel(n_jobs=94)]: Done 8872 out of 8872 | elapsed:  1.3min finished\n",
      "... storing 'memento_group' as categorical\n",
      "[Parallel(n_jobs=94)]: Using backend LokyBackend with 94 concurrent workers.\n",
      "[Parallel(n_jobs=94)]: Done  12 tasks      | elapsed:    0.5s\n",
      "[Parallel(n_jobs=94)]: Done 262 tasks      | elapsed:    2.4s\n",
      "[Parallel(n_jobs=94)]: Done 612 tasks      | elapsed:    5.7s\n",
      "[Parallel(n_jobs=94)]: Done 1062 tasks      | elapsed:    9.4s\n",
      "[Parallel(n_jobs=94)]: Done 1612 tasks      | elapsed:   13.7s\n",
      "[Parallel(n_jobs=94)]: Done 2262 tasks      | elapsed:   18.6s\n",
      "[Parallel(n_jobs=94)]: Done 3012 tasks      | elapsed:   25.0s\n",
      "[Parallel(n_jobs=94)]: Done 3862 tasks      | elapsed:   31.6s\n",
      "[Parallel(n_jobs=94)]: Done 4812 tasks      | elapsed:   39.1s\n",
      "[Parallel(n_jobs=94)]: Done 5862 tasks      | elapsed:   47.4s\n",
      "[Parallel(n_jobs=94)]: Done 7012 tasks      | elapsed:   56.3s\n",
      "[Parallel(n_jobs=94)]: Done 8262 tasks      | elapsed:  1.1min\n",
      "[Parallel(n_jobs=94)]: Done 8589 out of 8589 | elapsed:  1.2min finished\n",
      "... storing 'memento_group' as categorical\n",
      "[Parallel(n_jobs=94)]: Using backend LokyBackend with 94 concurrent workers.\n",
      "[Parallel(n_jobs=94)]: Done  12 tasks      | elapsed:    0.5s\n",
      "[Parallel(n_jobs=94)]: Done 262 tasks      | elapsed:    2.7s\n",
      "[Parallel(n_jobs=94)]: Done 612 tasks      | elapsed:    6.2s\n",
      "[Parallel(n_jobs=94)]: Done 1062 tasks      | elapsed:   10.5s\n",
      "[Parallel(n_jobs=94)]: Done 1612 tasks      | elapsed:   15.4s\n",
      "[Parallel(n_jobs=94)]: Done 2262 tasks      | elapsed:   21.0s\n",
      "[Parallel(n_jobs=94)]: Done 3012 tasks      | elapsed:   27.8s\n",
      "[Parallel(n_jobs=94)]: Done 3862 tasks      | elapsed:   35.6s\n",
      "[Parallel(n_jobs=94)]: Done 4812 tasks      | elapsed:   43.9s\n",
      "[Parallel(n_jobs=94)]: Done 5862 tasks      | elapsed:   53.4s\n",
      "[Parallel(n_jobs=94)]: Done 7012 tasks      | elapsed:  1.1min\n",
      "[Parallel(n_jobs=94)]: Done 8262 tasks      | elapsed:  1.2min\n",
      "[Parallel(n_jobs=94)]: Done 8812 out of 8812 | elapsed:  1.4min finished\n",
      "... storing 'memento_group' as categorical\n",
      "[Parallel(n_jobs=94)]: Using backend LokyBackend with 94 concurrent workers.\n",
      "[Parallel(n_jobs=94)]: Done  12 tasks      | elapsed:    0.5s\n",
      "[Parallel(n_jobs=94)]: Done 262 tasks      | elapsed:    2.8s\n",
      "[Parallel(n_jobs=94)]: Done 612 tasks      | elapsed:    6.4s\n",
      "[Parallel(n_jobs=94)]: Done 1062 tasks      | elapsed:   10.8s\n",
      "[Parallel(n_jobs=94)]: Done 1612 tasks      | elapsed:   16.0s\n",
      "[Parallel(n_jobs=94)]: Done 2262 tasks      | elapsed:   21.6s\n",
      "[Parallel(n_jobs=94)]: Done 3012 tasks      | elapsed:   28.6s\n",
      "[Parallel(n_jobs=94)]: Done 3862 tasks      | elapsed:   36.6s\n",
      "[Parallel(n_jobs=94)]: Done 4812 tasks      | elapsed:   45.1s\n",
      "[Parallel(n_jobs=94)]: Done 5862 tasks      | elapsed:   54.8s\n",
      "[Parallel(n_jobs=94)]: Done 7012 tasks      | elapsed:  1.1min\n",
      "[Parallel(n_jobs=94)]: Done 8262 tasks      | elapsed:  1.3min\n",
      "[Parallel(n_jobs=94)]: Done 8860 out of 8860 | elapsed:  1.4min finished\n",
      "... storing 'memento_group' as categorical\n",
      "[Parallel(n_jobs=94)]: Using backend LokyBackend with 94 concurrent workers.\n",
      "[Parallel(n_jobs=94)]: Done  12 tasks      | elapsed:    0.5s\n",
      "[Parallel(n_jobs=94)]: Done 262 tasks      | elapsed:    2.5s\n",
      "[Parallel(n_jobs=94)]: Done 612 tasks      | elapsed:    5.8s\n",
      "[Parallel(n_jobs=94)]: Done 1062 tasks      | elapsed:    9.8s\n",
      "[Parallel(n_jobs=94)]: Done 1612 tasks      | elapsed:   14.3s\n",
      "[Parallel(n_jobs=94)]: Done 2262 tasks      | elapsed:   19.4s\n",
      "[Parallel(n_jobs=94)]: Done 3012 tasks      | elapsed:   25.8s\n",
      "[Parallel(n_jobs=94)]: Done 3862 tasks      | elapsed:   33.0s\n",
      "[Parallel(n_jobs=94)]: Done 4812 tasks      | elapsed:   40.6s\n",
      "[Parallel(n_jobs=94)]: Done 5862 tasks      | elapsed:   49.4s\n",
      "[Parallel(n_jobs=94)]: Done 7012 tasks      | elapsed:   58.7s\n",
      "[Parallel(n_jobs=94)]: Done 8262 tasks      | elapsed:  1.2min\n",
      "[Parallel(n_jobs=94)]: Done 8721 out of 8721 | elapsed:  1.3min finished\n",
      "... storing 'memento_group' as categorical\n",
      "[Parallel(n_jobs=94)]: Using backend LokyBackend with 94 concurrent workers.\n",
      "[Parallel(n_jobs=94)]: Done  12 tasks      | elapsed:    0.4s\n",
      "[Parallel(n_jobs=94)]: Done 262 tasks      | elapsed:    2.2s\n",
      "[Parallel(n_jobs=94)]: Done 612 tasks      | elapsed:    5.1s\n",
      "[Parallel(n_jobs=94)]: Done 1062 tasks      | elapsed:    8.8s\n",
      "[Parallel(n_jobs=94)]: Done 1612 tasks      | elapsed:   12.8s\n",
      "[Parallel(n_jobs=94)]: Done 2262 tasks      | elapsed:   17.4s\n",
      "[Parallel(n_jobs=94)]: Done 3012 tasks      | elapsed:   23.0s\n",
      "[Parallel(n_jobs=94)]: Done 3862 tasks      | elapsed:   29.6s\n",
      "[Parallel(n_jobs=94)]: Done 4812 tasks      | elapsed:   36.4s\n",
      "[Parallel(n_jobs=94)]: Done 5862 tasks      | elapsed:   44.3s\n",
      "[Parallel(n_jobs=94)]: Done 7012 tasks      | elapsed:   52.5s\n",
      "[Parallel(n_jobs=94)]: Done 8262 tasks      | elapsed:  1.0min\n",
      "[Parallel(n_jobs=94)]: Done 8883 out of 8883 | elapsed:  1.2min finished\n",
      "... storing 'memento_group' as categorical\n",
      "[Parallel(n_jobs=94)]: Using backend LokyBackend with 94 concurrent workers.\n",
      "[Parallel(n_jobs=94)]: Done  12 tasks      | elapsed:    0.5s\n",
      "[Parallel(n_jobs=94)]: Done 262 tasks      | elapsed:    2.8s\n",
      "[Parallel(n_jobs=94)]: Done 612 tasks      | elapsed:    6.3s\n",
      "[Parallel(n_jobs=94)]: Done 1062 tasks      | elapsed:   10.8s\n",
      "[Parallel(n_jobs=94)]: Done 1612 tasks      | elapsed:   15.8s\n",
      "[Parallel(n_jobs=94)]: Done 2262 tasks      | elapsed:   21.5s\n",
      "[Parallel(n_jobs=94)]: Done 3012 tasks      | elapsed:   28.5s\n",
      "[Parallel(n_jobs=94)]: Done 3862 tasks      | elapsed:   36.4s\n",
      "[Parallel(n_jobs=94)]: Done 4812 tasks      | elapsed:   45.0s\n",
      "[Parallel(n_jobs=94)]: Done 5862 tasks      | elapsed:   54.7s\n",
      "[Parallel(n_jobs=94)]: Done 7012 tasks      | elapsed:  1.1min\n",
      "[Parallel(n_jobs=94)]: Done 8262 tasks      | elapsed:  1.3min\n",
      "[Parallel(n_jobs=94)]: Done 8864 out of 8864 | elapsed:  1.4min finished\n",
      "... storing 'memento_group' as categorical\n",
      "[Parallel(n_jobs=94)]: Using backend LokyBackend with 94 concurrent workers.\n",
      "[Parallel(n_jobs=94)]: Done  12 tasks      | elapsed:    0.5s\n",
      "[Parallel(n_jobs=94)]: Done 262 tasks      | elapsed:    2.7s\n",
      "[Parallel(n_jobs=94)]: Done 612 tasks      | elapsed:    6.1s\n",
      "[Parallel(n_jobs=94)]: Done 1062 tasks      | elapsed:   10.4s\n",
      "[Parallel(n_jobs=94)]: Done 1612 tasks      | elapsed:   15.2s\n",
      "[Parallel(n_jobs=94)]: Done 2262 tasks      | elapsed:   20.6s\n",
      "[Parallel(n_jobs=94)]: Done 3012 tasks      | elapsed:   27.4s\n",
      "[Parallel(n_jobs=94)]: Done 3862 tasks      | elapsed:   35.2s\n",
      "[Parallel(n_jobs=94)]: Done 4812 tasks      | elapsed:   43.3s\n",
      "[Parallel(n_jobs=94)]: Done 5862 tasks      | elapsed:   52.6s\n",
      "[Parallel(n_jobs=94)]: Done 7012 tasks      | elapsed:  1.0min\n",
      "[Parallel(n_jobs=94)]: Done 8262 tasks      | elapsed:  1.2min\n",
      "[Parallel(n_jobs=94)]: Done 8759 out of 8759 | elapsed:  1.3min finished\n",
      "... storing 'memento_group' as categorical\n",
      "[Parallel(n_jobs=94)]: Using backend LokyBackend with 94 concurrent workers.\n",
      "[Parallel(n_jobs=94)]: Done  12 tasks      | elapsed:    0.5s\n",
      "[Parallel(n_jobs=94)]: Done 262 tasks      | elapsed:    2.7s\n",
      "[Parallel(n_jobs=94)]: Done 612 tasks      | elapsed:    6.2s\n",
      "[Parallel(n_jobs=94)]: Done 1062 tasks      | elapsed:   10.7s\n",
      "[Parallel(n_jobs=94)]: Done 1612 tasks      | elapsed:   15.6s\n",
      "[Parallel(n_jobs=94)]: Done 2262 tasks      | elapsed:   21.3s\n",
      "[Parallel(n_jobs=94)]: Done 3012 tasks      | elapsed:   28.2s\n",
      "[Parallel(n_jobs=94)]: Done 3862 tasks      | elapsed:   36.1s\n",
      "[Parallel(n_jobs=94)]: Done 4812 tasks      | elapsed:   44.6s\n",
      "[Parallel(n_jobs=94)]: Done 5862 tasks      | elapsed:   54.1s\n",
      "[Parallel(n_jobs=94)]: Done 7012 tasks      | elapsed:  1.1min\n",
      "[Parallel(n_jobs=94)]: Done 8262 tasks      | elapsed:  1.3min\n",
      "[Parallel(n_jobs=94)]: Done 8857 out of 8857 | elapsed:  1.4min finished\n",
      "... storing 'memento_group' as categorical\n",
      "[Parallel(n_jobs=94)]: Using backend LokyBackend with 94 concurrent workers.\n",
      "[Parallel(n_jobs=94)]: Done  12 tasks      | elapsed:    0.5s\n",
      "[Parallel(n_jobs=94)]: Done 262 tasks      | elapsed:    2.3s\n",
      "[Parallel(n_jobs=94)]: Done 612 tasks      | elapsed:    5.3s\n",
      "[Parallel(n_jobs=94)]: Done 1062 tasks      | elapsed:    9.2s\n",
      "[Parallel(n_jobs=94)]: Done 1612 tasks      | elapsed:   13.4s\n",
      "[Parallel(n_jobs=94)]: Done 2262 tasks      | elapsed:   18.2s\n",
      "[Parallel(n_jobs=94)]: Done 3012 tasks      | elapsed:   24.1s\n",
      "[Parallel(n_jobs=94)]: Done 3862 tasks      | elapsed:   31.0s\n",
      "[Parallel(n_jobs=94)]: Done 4812 tasks      | elapsed:   38.1s\n",
      "[Parallel(n_jobs=94)]: Done 5862 tasks      | elapsed:   46.4s\n",
      "[Parallel(n_jobs=94)]: Done 7012 tasks      | elapsed:   55.0s\n",
      "[Parallel(n_jobs=94)]: Done 8262 tasks      | elapsed:  1.1min\n",
      "[Parallel(n_jobs=94)]: Done 8875 out of 8875 | elapsed:  1.2min finished\n",
      "... storing 'memento_group' as categorical\n",
      "[Parallel(n_jobs=94)]: Using backend LokyBackend with 94 concurrent workers.\n",
      "[Parallel(n_jobs=94)]: Done  12 tasks      | elapsed:    0.5s\n",
      "[Parallel(n_jobs=94)]: Done 262 tasks      | elapsed:    2.6s\n",
      "[Parallel(n_jobs=94)]: Done 612 tasks      | elapsed:    6.0s\n",
      "[Parallel(n_jobs=94)]: Done 1062 tasks      | elapsed:   10.3s\n",
      "[Parallel(n_jobs=94)]: Done 1612 tasks      | elapsed:   15.0s\n",
      "[Parallel(n_jobs=94)]: Done 2262 tasks      | elapsed:   20.4s\n",
      "[Parallel(n_jobs=94)]: Done 3012 tasks      | elapsed:   27.0s\n",
      "[Parallel(n_jobs=94)]: Done 3862 tasks      | elapsed:   34.7s\n",
      "[Parallel(n_jobs=94)]: Done 4812 tasks      | elapsed:   42.7s\n",
      "[Parallel(n_jobs=94)]: Done 5862 tasks      | elapsed:   51.8s\n",
      "[Parallel(n_jobs=94)]: Done 7012 tasks      | elapsed:  1.0min\n",
      "[Parallel(n_jobs=94)]: Done 8262 tasks      | elapsed:  1.2min\n",
      "[Parallel(n_jobs=94)]: Done 8880 out of 8880 | elapsed:  1.3min finished\n",
      "... storing 'memento_group' as categorical\n",
      "[Parallel(n_jobs=94)]: Using backend LokyBackend with 94 concurrent workers.\n",
      "[Parallel(n_jobs=94)]: Done  12 tasks      | elapsed:    0.5s\n",
      "[Parallel(n_jobs=94)]: Done 262 tasks      | elapsed:    2.6s\n",
      "[Parallel(n_jobs=94)]: Done 612 tasks      | elapsed:    5.8s\n",
      "[Parallel(n_jobs=94)]: Done 1062 tasks      | elapsed:   10.0s\n",
      "[Parallel(n_jobs=94)]: Done 1612 tasks      | elapsed:   14.8s\n",
      "[Parallel(n_jobs=94)]: Done 2262 tasks      | elapsed:   19.9s\n",
      "[Parallel(n_jobs=94)]: Done 3012 tasks      | elapsed:   26.4s\n",
      "[Parallel(n_jobs=94)]: Done 3862 tasks      | elapsed:   33.7s\n",
      "[Parallel(n_jobs=94)]: Done 4812 tasks      | elapsed:   41.7s\n",
      "[Parallel(n_jobs=94)]: Done 5862 tasks      | elapsed:   50.7s\n",
      "[Parallel(n_jobs=94)]: Done 7012 tasks      | elapsed:  1.0min\n",
      "[Parallel(n_jobs=94)]: Done 8262 tasks      | elapsed:  1.2min\n",
      "[Parallel(n_jobs=94)]: Done 8850 out of 8850 | elapsed:  1.3min finished\n",
      "... storing 'memento_group' as categorical\n",
      "[Parallel(n_jobs=94)]: Using backend LokyBackend with 94 concurrent workers.\n",
      "[Parallel(n_jobs=94)]: Done  12 tasks      | elapsed:    0.5s\n",
      "[Parallel(n_jobs=94)]: Done 262 tasks      | elapsed:    2.8s\n",
      "[Parallel(n_jobs=94)]: Done 612 tasks      | elapsed:    6.6s\n",
      "[Parallel(n_jobs=94)]: Done 1062 tasks      | elapsed:   11.2s\n",
      "[Parallel(n_jobs=94)]: Done 1612 tasks      | elapsed:   16.4s\n",
      "[Parallel(n_jobs=94)]: Done 2262 tasks      | elapsed:   22.3s\n",
      "[Parallel(n_jobs=94)]: Done 3012 tasks      | elapsed:   29.6s\n",
      "[Parallel(n_jobs=94)]: Done 3862 tasks      | elapsed:   37.8s\n",
      "[Parallel(n_jobs=94)]: Done 4812 tasks      | elapsed:   46.7s\n",
      "[Parallel(n_jobs=94)]: Done 5862 tasks      | elapsed:   56.8s\n",
      "[Parallel(n_jobs=94)]: Done 7012 tasks      | elapsed:  1.1min\n",
      "[Parallel(n_jobs=94)]: Done 8262 tasks      | elapsed:  1.3min\n",
      "[Parallel(n_jobs=94)]: Done 8897 out of 8897 | elapsed:  1.5min finished\n",
      "... storing 'memento_group' as categorical\n",
      "[Parallel(n_jobs=94)]: Using backend LokyBackend with 94 concurrent workers.\n",
      "[Parallel(n_jobs=94)]: Done  12 tasks      | elapsed:    0.5s\n",
      "[Parallel(n_jobs=94)]: Done 262 tasks      | elapsed:    2.7s\n",
      "[Parallel(n_jobs=94)]: Done 612 tasks      | elapsed:    6.1s\n",
      "[Parallel(n_jobs=94)]: Done 1062 tasks      | elapsed:   10.5s\n",
      "[Parallel(n_jobs=94)]: Done 1612 tasks      | elapsed:   15.3s\n",
      "[Parallel(n_jobs=94)]: Done 2262 tasks      | elapsed:   20.9s\n",
      "[Parallel(n_jobs=94)]: Done 3012 tasks      | elapsed:   27.7s\n",
      "[Parallel(n_jobs=94)]: Done 3862 tasks      | elapsed:   35.4s\n",
      "[Parallel(n_jobs=94)]: Done 4812 tasks      | elapsed:   43.7s\n",
      "[Parallel(n_jobs=94)]: Done 5862 tasks      | elapsed:   53.2s\n",
      "[Parallel(n_jobs=94)]: Done 7012 tasks      | elapsed:  1.1min\n",
      "[Parallel(n_jobs=94)]: Done 8262 tasks      | elapsed:  1.2min\n",
      "[Parallel(n_jobs=94)]: Done 8858 out of 8858 | elapsed:  1.4min finished\n",
      "... storing 'memento_group' as categorical\n",
      "[Parallel(n_jobs=94)]: Using backend LokyBackend with 94 concurrent workers.\n",
      "[Parallel(n_jobs=94)]: Done  12 tasks      | elapsed:    0.5s\n",
      "[Parallel(n_jobs=94)]: Done 262 tasks      | elapsed:    2.7s\n",
      "[Parallel(n_jobs=94)]: Done 612 tasks      | elapsed:    6.2s\n"
     ]
    }
   ],
   "source": [
    "for treatment in ['ctrl', 'tx']:\n",
    "    for g in ko_genes:\n",
    "\n",
    "        if g == 'NT':\n",
    "            continue\n",
    "\n",
    "        subset = adata[adata.obs['gene'].isin(['NT', g]) & (adata.obs['treatment']==treatment)].copy().copy()\n",
    "\n",
    "        subset.obs['is_ko'] = subset.obs.guide_ID.str.contains(g).values\n",
    "        \n",
    "        memento.create_groups(subset, label_columns=['is_ko', 'replicate'])\n",
    "\n",
    "        memento.compute_1d_moments(subset, min_perc_group=.7)\n",
    "\n",
    "        memento.ht_1d_moments(\n",
    "            subset, \n",
    "            formula_like='1 + is_ko + replicate',\n",
    "            treatment_col='is_ko', \n",
    "            num_boot=10000, \n",
    "            verbose=1,\n",
    "            resampling='permutation',\n",
    "            approx=False,\n",
    "            num_cpus=94)\n",
    "\n",
    "        subset.write(data_path + '1d/{}_{}.h5ad'.format(g, treatment)) \n"
   ]
  },
  {
   "cell_type": "markdown",
   "id": "25b40bf1",
   "metadata": {},
   "source": [
    "### Memento - ctrl vs stim 1D"
   ]
  },
  {
   "cell_type": "code",
   "execution_count": 17,
   "id": "8ed05c0e",
   "metadata": {},
   "outputs": [
    {
     "name": "stderr",
     "output_type": "stream",
     "text": [
      "[Parallel(n_jobs=92)]: Using backend LokyBackend with 92 concurrent workers.\n",
      "[Parallel(n_jobs=92)]: Done  16 tasks      | elapsed:    4.5s\n",
      "[Parallel(n_jobs=92)]: Done 266 tasks      | elapsed:    6.9s\n",
      "[Parallel(n_jobs=92)]: Done 616 tasks      | elapsed:   10.3s\n",
      "[Parallel(n_jobs=92)]: Done 1066 tasks      | elapsed:   14.6s\n",
      "[Parallel(n_jobs=92)]: Done 1616 tasks      | elapsed:   19.1s\n",
      "[Parallel(n_jobs=92)]: Done 2266 tasks      | elapsed:   24.4s\n",
      "[Parallel(n_jobs=92)]: Done 3016 tasks      | elapsed:   31.2s\n",
      "[Parallel(n_jobs=92)]: Done 3866 tasks      | elapsed:   38.4s\n",
      "[Parallel(n_jobs=92)]: Done 4816 tasks      | elapsed:   46.3s\n",
      "[Parallel(n_jobs=92)]: Done 5866 tasks      | elapsed:   55.1s\n",
      "[Parallel(n_jobs=92)]: Done 7016 tasks      | elapsed:  1.1min\n",
      "[Parallel(n_jobs=92)]: Done 8325 out of 8325 | elapsed:  1.3min finished\n",
      "... storing 'memento_group' as categorical\n"
     ]
    }
   ],
   "source": [
    "subset = adata[adata.obs['gene'].isin(['NT'])].copy().copy()\n",
    "\n",
    "subset.obs['is_stim'] = (subset.obs['treatment'] == 'tx').astype(int)\n",
    "\n",
    "memento.create_groups(subset, label_columns=['is_stim', 'replicate'])\n",
    "\n",
    "memento.compute_1d_moments(subset, min_perc_group=.7)\n",
    "\n",
    "memento.ht_1d_moments(\n",
    "    subset, \n",
    "    formula_like='1 + is_stim + replicate',\n",
    "    treatment_col='is_stim', \n",
    "    num_boot=10000, \n",
    "    verbose=1,\n",
    "    resampling='permutation',\n",
    "    approx=False,\n",
    "    num_cpus=92)\n",
    "\n",
    "subset.write(data_path + 'ctrl_vs_tx.h5ad')"
   ]
  },
  {
   "cell_type": "code",
   "execution_count": 18,
   "id": "047a50f6",
   "metadata": {},
   "outputs": [],
   "source": [
    "stim_ht_df = memento.get_1d_ht_result(subset)\n",
    "stim_ht_df['de_fdr'] = memento.util._fdrcorrect(stim_ht_df['de_pval'])"
   ]
  },
  {
   "cell_type": "code",
   "execution_count": 19,
   "id": "50a2c547",
   "metadata": {},
   "outputs": [],
   "source": [
    "thp1_isgs = stim_ht_df.query('de_fdr < 0.05 & de_coef > 0.5').gene.tolist()"
   ]
  },
  {
   "cell_type": "code",
   "execution_count": 20,
   "id": "1655bbe1",
   "metadata": {},
   "outputs": [
    {
     "data": {
      "text/plain": [
       "1505"
      ]
     },
     "execution_count": 20,
     "metadata": {},
     "output_type": "execute_result"
    }
   ],
   "source": [
    "len(thp1_isgs)"
   ]
  },
  {
   "cell_type": "markdown",
   "id": "9b1ff64b",
   "metadata": {},
   "source": [
    "### Memento - ctrl vs stim 2D moments"
   ]
  },
  {
   "cell_type": "code",
   "execution_count": 33,
   "id": "923444da",
   "metadata": {},
   "outputs": [],
   "source": [
    "tf_df = pd.read_csv('human_tf.txt', sep='\\t')\n",
    "tf_df = tf_df.query('Family != \"Others\"')\n",
    "tf_list = tf_df['Symbol'].tolist()\n",
    "tf_list += ['CIITA', 'NLRC5']"
   ]
  },
  {
   "cell_type": "code",
   "execution_count": 35,
   "id": "28db9187",
   "metadata": {},
   "outputs": [
    {
     "name": "stderr",
     "output_type": "stream",
     "text": [
      "/home/ssm-user/anaconda3/envs/single_cell/lib/python3.8/site-packages/pandas/core/arrays/categorical.py:2631: FutureWarning: The `inplace` parameter in pandas.Categorical.remove_unused_categories is deprecated and will be removed in a future version.\n",
      "  res = method(*args, **kwargs)\n"
     ]
    }
   ],
   "source": [
    "subset = adata[adata.obs['gene'].isin(['NT'])].copy().copy()\n",
    "\n",
    "subset.obs['is_stim'] = (subset.obs['treatment'] == 'tx').astype(int)\n",
    "\n",
    "memento.create_groups(subset, label_columns=['is_stim', 'replicate'])\n",
    "\n",
    "memento.compute_1d_moments(subset, min_perc_group=.7)\n",
    "\n",
    "available_tfs = list(set(tf_list) & set(subset.var.index))\n",
    "available_targets = list(set(thp1_isgs) & set(subset.var.index))\n",
    "\n",
    "memento.compute_2d_moments(subset, list(itertools.product(available_tfs, available_targets) )   )"
   ]
  },
  {
   "cell_type": "code",
   "execution_count": 36,
   "id": "868bce95",
   "metadata": {},
   "outputs": [],
   "source": [
    "moments_2d = memento.get_2d_moments(subset, groupby='is_stim')"
   ]
  },
  {
   "cell_type": "code",
   "execution_count": 38,
   "id": "b37c058f",
   "metadata": {},
   "outputs": [],
   "source": [
    "moments_2d['diff'] = moments_2d['is_stim_1'] - moments_2d['is_stim_0']"
   ]
  },
  {
   "cell_type": "code",
   "execution_count": 39,
   "id": "e3d28575",
   "metadata": {},
   "outputs": [],
   "source": [
    "df = []\n",
    "for tf in available_tfs:\n",
    "    pv = stats.ttest_1samp(moments_2d.query('gene_1 == \"{}\"'.format(tf)).dropna()['diff'].values, popmean=0)[1]\n",
    "    corr = moments_2d.query('gene_1 == \"{}\"'.format(tf)).dropna()['diff'].values.mean()\n",
    "    df.append((tf, corr, pv))    \n",
    "    \n",
    "df = pd.DataFrame(df, columns=['tf','corr', 'pv'])"
   ]
  },
  {
   "cell_type": "code",
   "execution_count": 44,
   "id": "15f5013a",
   "metadata": {},
   "outputs": [],
   "source": [
    "hbec_df = pd.read_csv('/data_volume/memento/hbec/ifng_2d_moments.csv')"
   ]
  },
  {
   "cell_type": "code",
   "execution_count": 46,
   "id": "931d8809",
   "metadata": {},
   "outputs": [],
   "source": [
    "joined = hbec_df.merge(df, on='tf', suffixes=('_hbec', '_eccite'))"
   ]
  },
  {
   "cell_type": "code",
   "execution_count": 48,
   "id": "df3476d7",
   "metadata": {},
   "outputs": [
    {
     "data": {
      "text/plain": [
       "<matplotlib.collections.PathCollection at 0x7fb23437c2b0>"
      ]
     },
     "execution_count": 48,
     "metadata": {},
     "output_type": "execute_result"
    },
    {
     "data": {
      "image/png": "[encoded data removed]",
      "text/plain": [
       "<Figure size 432x288 with 1 Axes>"
      ]
     },
     "metadata": {
      "needs_background": "light"
     },
     "output_type": "display_data"
    }
   ],
   "source": [
    "plt.scatter(joined['corr_hbec'], joined['corr_eccite'])"
   ]
  },
  {
   "cell_type": "markdown",
   "id": "4250ac8e",
   "metadata": {},
   "source": [
    "### Memento - ctrl vs stim 2D"
   ]
  },
  {
   "cell_type": "code",
   "execution_count": 21,
   "id": "5318006a",
   "metadata": {},
   "outputs": [],
   "source": [
    "hbec_2d_df = pd.read_csv('/data_volume/temp.csv', index_col=0)"
   ]
  },
  {
   "cell_type": "code",
   "execution_count": 22,
   "id": "701944b5",
   "metadata": {},
   "outputs": [],
   "source": [
    "tfs = hbec_2d_df['gene_1'].drop_duplicates().tolist()"
   ]
  },
  {
   "cell_type": "code",
   "execution_count": null,
   "id": "363102e2",
   "metadata": {},
   "outputs": [],
   "source": [
    "subset = adata[adata.obs['gene'].isin(['NT'])].copy().copy()\n",
    "\n",
    "subset.obs['is_stim'] = (subset.obs['treatment'] == 'tx').astype(int)\n",
    "\n",
    "memento.create_groups(subset, label_columns=['is_stim', 'replicate'])\n",
    "\n",
    "memento.compute_1d_moments(subset, min_perc_group=.7)\n",
    "\n",
    "available_tfs = list(set(tfs) & set(subset.var.index))\n",
    "available_targets = list(set(thp1_isgs) & set(subset.var.index))\n",
    "\n",
    "memento.compute_2d_moments(subset, list(itertools.product(available_tfs, available_targets) )   )\n",
    "\n",
    "memento.ht_2d_moments( \n",
    "    subset, \n",
    "    formula_like='1 + is_stim',\n",
    "    treatment_col='is_stim', \n",
    "    num_boot=10000, \n",
    "    verbose=1,\n",
    "    num_cpus=92,\n",
    "    resampling='permutation',\n",
    "    approx=True)\n",
    "# subset.write(data_path + 'ctrl_vs_tx_2d.h5ad')"
   ]
  },
  {
   "cell_type": "code",
   "execution_count": 24,
   "id": "69268f9d",
   "metadata": {},
   "outputs": [],
   "source": [
    "stim_2d_ht = memento.get_2d_ht_result(subset)"
   ]
  },
  {
   "cell_type": "code",
   "execution_count": 29,
   "id": "8ff21195",
   "metadata": {},
   "outputs": [],
   "source": [
    "moments = memento.get_2d_moments(subset, groupby='is_stim')"
   ]
  },
  {
   "cell_type": "code",
   "execution_count": 27,
   "id": "04ce72f0",
   "metadata": {},
   "outputs": [
    {
     "data": {
      "text/plain": [
       "(array([3930., 2274., 1996., 1900., 1868., 1817., 1809., 1861., 1773.,\n",
       "        1836.]),\n",
       " array([7.91671319e-06, 1.00007125e-01, 2.00006333e-01, 3.00005542e-01,\n",
       "        4.00004750e-01, 5.00003958e-01, 6.00003167e-01, 7.00002375e-01,\n",
       "        8.00001583e-01, 9.00000792e-01, 1.00000000e+00]),\n",
       " <BarContainer object of 10 artists>)"
      ]
     },
     "execution_count": 27,
     "metadata": {},
     "output_type": "execute_result"
    },
    {
     "data": {
      "image/png": "[encoded data removed]",
      "text/plain": [
       "<Figure size 432x288 with 1 Axes>"
      ]
     },
     "metadata": {
      "needs_background": "light"
     },
     "output_type": "display_data"
    }
   ],
   "source": [
    "plt.hist(stim_2d_ht['corr_pval'])"
   ]
  },
  {
   "cell_type": "code",
   "execution_count": 50,
   "id": "eaa5090a",
   "metadata": {},
   "outputs": [],
   "source": [
    "sig_joined = hbec_2d_df.merge(stim_2d_ht, on=['gene_1', 'gene_2'])"
   ]
  },
  {
   "cell_type": "code",
   "execution_count": 55,
   "id": "bd5fd661",
   "metadata": {},
   "outputs": [
    {
     "data": {
      "text/plain": [
       "(230, 6)"
      ]
     },
     "execution_count": 55,
     "metadata": {},
     "output_type": "execute_result"
    }
   ],
   "source": [
    "hbec_2d_df.shape"
   ]
  },
  {
   "cell_type": "code",
   "execution_count": 63,
   "id": "b7b5dc90",
   "metadata": {},
   "outputs": [
    {
     "data": {
      "text/plain": [
       "<matplotlib.collections.PathCollection at 0x7fb2c5317280>"
      ]
     },
     "execution_count": 63,
     "metadata": {},
     "output_type": "execute_result"
    },
    {
     "data": {
      "image/png": "[encoded data removed]",
      "text/plain": [
       "<Figure size 216x144 with 1 Axes>"
      ]
     },
     "metadata": {
      "needs_background": "light"
     },
     "output_type": "display_data"
    }
   ],
   "source": [
    "plt.figure(figsize=(3,2))\n",
    "plt.scatter(sig_joined['corr_coef_x'], sig_joined['corr_coef_y'])"
   ]
  },
  {
   "cell_type": "code",
   "execution_count": 53,
   "id": "fa9e06fc",
   "metadata": {},
   "outputs": [
    {
     "data": {
      "text/plain": [
       "SpearmanrResult(correlation=0.2567062248096731, pvalue=0.0006053278254260729)"
      ]
     },
     "execution_count": 53,
     "metadata": {},
     "output_type": "execute_result"
    }
   ],
   "source": [
    "stats.spearmanr(sig_joined['corr_coef_x'], sig_joined['corr_coef_y'])"
   ]
  },
  {
   "cell_type": "markdown",
   "id": "e4720821",
   "metadata": {},
   "source": [
    "### Analyze 1D - ctrl"
   ]
  },
  {
   "cell_type": "code",
   "execution_count": 9,
   "id": "e94350de",
   "metadata": {},
   "outputs": [
    {
     "name": "stderr",
     "output_type": "stream",
     "text": [
      "/home/ssm-user/Github/scrna-parameter-estimation/dist/memento-0.0.6-py3.8.egg/memento/main.py:523: RuntimeWarning: divide by zero encountered in log\n",
      "/home/ssm-user/Github/scrna-parameter-estimation/dist/memento-0.0.6-py3.8.egg/memento/main.py:550: RuntimeWarning: divide by zero encountered in log\n"
     ]
    }
   ],
   "source": [
    "results = {}\n",
    "moments = {}\n",
    "for treatment in ['ctrl', 'tx']:\n",
    "    results[treatment] = {}\n",
    "    moments[treatment] = {}\n",
    "    for g in ['STAT1']:#ko_genes:\n",
    "    #     print(g)\n",
    "        if g == 'NT': continue\n",
    "        subset = sc.read(data_path +'1d/{}_{}.h5ad'.format(g, treatment))\n",
    "        df = memento.get_1d_ht_result(subset)\n",
    "        df['de_fdr'] = memento.util._fdrcorrect(df['de_pval'])\n",
    "        df['dv_fdr'] = memento.util._fdrcorrect(df['dv_pval'])\n",
    "        moment_df = memento.get_1d_moments(subset, groupby='is_ko')\n",
    "        results[treatment][g] = df.copy()\n",
    "        moments[treatment][g] = (moment_df[0].copy(), moment_df[1].copy())"
   ]
  },
  {
   "cell_type": "code",
   "execution_count": 28,
   "id": "04284749",
   "metadata": {},
   "outputs": [],
   "source": [
    "moment_df = moments['ctrl'][g]"
   ]
  },
  {
   "cell_type": "code",
   "execution_count": 35,
   "id": "e35a6ca0",
   "metadata": {},
   "outputs": [],
   "source": [
    "moment_df = moments['ctrl']['STAT1']\n",
    "ctrl_df = pd.melt(moment_df[1][moment_df[1]['gene'].isin(set(thp1_isgs) & set(t1_isg))], id_vars=['gene'])\n",
    "ctrl_df['stim'] = 'CTRL'\n",
    "moment_df = moments['tx']['STAT1']\n",
    "stim_df = pd.melt(moment_df[1][moment_df[1]['gene'].isin(set(thp1_isgs) & set(t1_isg))], id_vars=['gene'])\n",
    "stim_df['stim'] = 'IFNG'"
   ]
  },
  {
   "cell_type": "code",
   "execution_count": 36,
   "id": "6df7810c",
   "metadata": {},
   "outputs": [],
   "source": [
    "combined_df = pd.concat([ctrl_df, stim_df])"
   ]
  },
  {
   "cell_type": "code",
   "execution_count": 37,
   "id": "52d0050f",
   "metadata": {},
   "outputs": [
    {
     "data": {
      "text/html": [
       "<div>\n",
       "<style scoped>\n",
       "    .dataframe tbody tr th:only-of-type {\n",
       "        vertical-align: middle;\n",
       "    }\n",
       "\n",
       "    .dataframe tbody tr th {\n",
       "        vertical-align: top;\n",
       "    }\n",
       "\n",
       "    .dataframe thead th {\n",
       "        text-align: right;\n",
       "    }\n",
       "</style>\n",
       "<table border=\"1\" class=\"dataframe\">\n",
       "  <thead>\n",
       "    <tr style=\"text-align: right;\">\n",
       "      <th></th>\n",
       "      <th>gene</th>\n",
       "      <th>variable</th>\n",
       "      <th>value</th>\n",
       "      <th>stim</th>\n",
       "    </tr>\n",
       "  </thead>\n",
       "  <tbody>\n",
       "    <tr>\n",
       "      <th>0</th>\n",
       "      <td>ISG15</td>\n",
       "      <td>is_ko_False</td>\n",
       "      <td>2.014224</td>\n",
       "      <td>CTRL</td>\n",
       "    </tr>\n",
       "    <tr>\n",
       "      <th>1</th>\n",
       "      <td>IFI6</td>\n",
       "      <td>is_ko_False</td>\n",
       "      <td>2.749943</td>\n",
       "      <td>CTRL</td>\n",
       "    </tr>\n",
       "    <tr>\n",
       "      <th>2</th>\n",
       "      <td>MTMR11</td>\n",
       "      <td>is_ko_False</td>\n",
       "      <td>0.879598</td>\n",
       "      <td>CTRL</td>\n",
       "    </tr>\n",
       "    <tr>\n",
       "      <th>3</th>\n",
       "      <td>IFI16</td>\n",
       "      <td>is_ko_False</td>\n",
       "      <td>1.361764</td>\n",
       "      <td>CTRL</td>\n",
       "    </tr>\n",
       "    <tr>\n",
       "      <th>4</th>\n",
       "      <td>CMPK2</td>\n",
       "      <td>is_ko_False</td>\n",
       "      <td>1.513613</td>\n",
       "      <td>CTRL</td>\n",
       "    </tr>\n",
       "  </tbody>\n",
       "</table>\n",
       "</div>"
      ],
      "text/plain": [
       "     gene     variable     value  stim\n",
       "0   ISG15  is_ko_False  2.014224  CTRL\n",
       "1    IFI6  is_ko_False  2.749943  CTRL\n",
       "2  MTMR11  is_ko_False  0.879598  CTRL\n",
       "3   IFI16  is_ko_False  1.361764  CTRL\n",
       "4   CMPK2  is_ko_False  1.513613  CTRL"
      ]
     },
     "execution_count": 37,
     "metadata": {},
     "output_type": "execute_result"
    }
   ],
   "source": [
    "combined_df.head(5)"
   ]
  },
  {
   "cell_type": "code",
   "execution_count": 38,
   "id": "249d2a16",
   "metadata": {},
   "outputs": [],
   "source": [
    "combined_df['KO'] = (combined_df['variable']=='is_ko_True')"
   ]
  },
  {
   "cell_type": "code",
   "execution_count": 40,
   "id": "67f283db",
   "metadata": {},
   "outputs": [
    {
     "data": {
      "image/png": "[encoded data removed]",
      "text/plain": [
       "<Figure size 216x144 with 1 Axes>"
      ]
     },
     "metadata": {
      "needs_background": "light"
     },
     "output_type": "display_data"
    }
   ],
   "source": [
    "plt.figure(figsize=(3,2))\n",
    "sns.boxplot(x='stim', y='value', hue='KO', data=combined_df)\n",
    "\n",
    "ax = sns.stripplot(x='stim', y='value', hue='KO', data=combined_df, lw=1,dodge=True, jitter=0.15, size=2)\n",
    "handles, labels = ax.get_legend_handles_labels()\n",
    "plt.ylim(-2, 4)\n",
    "l = plt.legend(handles[0:2], labels[0:2], bbox_to_anchor=(1.05, 1), loc=2, borderaxespad=0., title='STAT1 KO', frameon=False)\n",
    "plt.title('Variability of ISGs\\nunder stim and STAT1 KO')\n",
    "plt.ylabel('Expr variability')\n",
    "plt.savefig('ko_variability.png', bbox_inches='tight', dpi=1000)"
   ]
  },
  {
   "cell_type": "code",
   "execution_count": 27,
   "id": "9c82b338",
   "metadata": {},
   "outputs": [],
   "source": [
    "# for g in ko_genes:\n",
    "#     print(g, results[g].query('de_fdr < 0.1').shape[0],results[g].query('dv_fdr < 0.1').shape[0])"
   ]
  },
  {
   "cell_type": "code",
   "execution_count": 33,
   "id": "0a3b3561",
   "metadata": {},
   "outputs": [
    {
     "data": {
      "text/plain": [
       "0.011924324558855231"
      ]
     },
     "execution_count": 33,
     "metadata": {},
     "output_type": "execute_result"
    }
   ],
   "source": [
    "df['de_fdr'].min()"
   ]
  },
  {
   "cell_type": "code",
   "execution_count": 29,
   "id": "dd55d323",
   "metadata": {},
   "outputs": [
    {
     "data": {
      "text/plain": [
       "<matplotlib.collections.PathCollection at 0x7f73f690ec40>"
      ]
     },
     "execution_count": 29,
     "metadata": {},
     "output_type": "execute_result"
    },
    {
     "data": {
      "image/png": "[encoded data removed]",
      "text/plain": [
       "<Figure size 180x144 with 1 Axes>"
      ]
     },
     "metadata": {
      "needs_background": "light"
     },
     "output_type": "display_data"
    }
   ],
   "source": [
    "tf = 'STAT1'\n",
    "plt.figure(figsize=(2.5,2))\n",
    "plt.scatter(results[tf]['de_coef'], results[tf]['dv_coef'], s=1)\n",
    "plt.title('Effect of {} KO'.format(tf));\n",
    "plt.xlabel('Change in mean'); plt.ylabel('Change in variability')\n",
    "plt.scatter(results[tf].query('dv_fdr < 0.1 & dv_coef > 0')['de_coef'], results[tf].query('dv_fdr < 0.1 & dv_coef > 0')['dv_coef'], s=5)\n",
    "plt.scatter(results[tf].query('dv_fdr < 0.1 & dv_coef < 0')['de_coef'], results[tf].query('dv_fdr < 0.1 & dv_coef < 0')['dv_coef'], s=5)\n",
    "\n",
    "# plt.savefig('figures/variability_{}.png'.format(tf), bbox_inches='tight', dpi=800)"
   ]
  },
  {
   "cell_type": "code",
   "execution_count": null,
   "id": "da01fdf9",
   "metadata": {},
   "outputs": [],
   "source": [
    "plt.figure(figsize=(2.5,2))\n",
    "plt.scatter(results['STAT1']['de_coef'], results['STAT1']['dv_coef'], s=0.1)\n",
    "plt.title('Effect of STAT1 KO');\n",
    "plt.xlabel('Change in mean'); plt.ylabel('Change in variability')\n",
    "plt.scatter(results['STAT1'].query('dv_fdr < 0.1 & dv_coef > 0')['de_coef'], results['STAT1'].query('dv_fdr < 0.1 & dv_coef > 0')['dv_coef'], s=1)\n",
    "# plt.savefig('figures/variability.png', bbox_inches='tight', dpi=800)"
   ]
  },
  {
   "cell_type": "code",
   "execution_count": 134,
   "id": "e4b459c5",
   "metadata": {},
   "outputs": [
    {
     "data": {
      "text/html": [
       "<div>\n",
       "<style scoped>\n",
       "    .dataframe tbody tr th:only-of-type {\n",
       "        vertical-align: middle;\n",
       "    }\n",
       "\n",
       "    .dataframe tbody tr th {\n",
       "        vertical-align: top;\n",
       "    }\n",
       "\n",
       "    .dataframe thead th {\n",
       "        text-align: right;\n",
       "    }\n",
       "</style>\n",
       "<table border=\"1\" class=\"dataframe\">\n",
       "  <thead>\n",
       "    <tr style=\"text-align: right;\">\n",
       "      <th></th>\n",
       "      <th>gene</th>\n",
       "      <th>de_coef</th>\n",
       "      <th>de_se</th>\n",
       "      <th>de_pval</th>\n",
       "      <th>dv_coef</th>\n",
       "      <th>dv_se</th>\n",
       "      <th>dv_pval</th>\n",
       "      <th>de_fdr</th>\n",
       "      <th>dv_fdr</th>\n",
       "    </tr>\n",
       "  </thead>\n",
       "  <tbody>\n",
       "    <tr>\n",
       "      <th>3183</th>\n",
       "      <td>IFNGR1</td>\n",
       "      <td>-0.150763</td>\n",
       "      <td>0.045791</td>\n",
       "      <td>0.001701</td>\n",
       "      <td>0.199772</td>\n",
       "      <td>0.201333</td>\n",
       "      <td>0.314369</td>\n",
       "      <td>0.006115</td>\n",
       "      <td>0.849193</td>\n",
       "    </tr>\n",
       "  </tbody>\n",
       "</table>\n",
       "</div>"
      ],
      "text/plain": [
       "        gene   de_coef     de_se   de_pval   dv_coef     dv_se   dv_pval  \\\n",
       "3183  IFNGR1 -0.150763  0.045791  0.001701  0.199772  0.201333  0.314369   \n",
       "\n",
       "        de_fdr    dv_fdr  \n",
       "3183  0.006115  0.849193  "
      ]
     },
     "execution_count": 134,
     "metadata": {},
     "output_type": "execute_result"
    }
   ],
   "source": [
    "results['IFNGR1'].query('gene == \"IFNGR1\"')"
   ]
  },
  {
   "cell_type": "markdown",
   "id": "f9ae84e5",
   "metadata": {},
   "source": [
    "### Read DE genes"
   ]
  },
  {
   "cell_type": "code",
   "execution_count": 15,
   "id": "15c60d0f",
   "metadata": {},
   "outputs": [],
   "source": [
    "results = {}\n",
    "means = {}\n",
    "for g in ko_genes:\n",
    "#     print(g)\n",
    "    if g == 'NT': continue\n",
    "    subset = sc.read(data_path +'1d/{}_tx_guide_rep.h5ad'.format(g))\n",
    "    df = memento.get_1d_ht_result(subset)\n",
    "    df['de_fdr'] = memento.util._fdrcorrect(df['de_pval'])\n",
    "    df['dv_fdr'] = memento.util._fdrcorrect(df['dv_pval'])\n",
    "    results[g] = df.copy()"
   ]
  },
  {
   "cell_type": "markdown",
   "id": "92d875e5",
   "metadata": {},
   "source": [
    "### Run select"
   ]
  },
  {
   "cell_type": "code",
   "execution_count": 87,
   "id": "90d987c8",
   "metadata": {},
   "outputs": [
    {
     "name": "stderr",
     "output_type": "stream",
     "text": [
      "/home/ssm-user/anaconda3/envs/single_cell/lib/python3.8/site-packages/pandas/core/arrays/categorical.py:2487: FutureWarning: The `inplace` parameter in pandas.Categorical.remove_unused_categories is deprecated and will be removed in a future version.\n",
      "  res = method(*args, **kwargs)\n",
      "... storing 'memento_group' as categorical\n",
      "... storing 'memento_group' as categorical\n",
      "... storing 'memento_group' as categorical\n",
      "... storing 'memento_group' as categorical\n",
      "... storing 'memento_group' as categorical\n"
     ]
    }
   ],
   "source": [
    "# subset_ko_genes = ['STAT1', 'STAT2', 'JAK2', 'IFNGR1', 'IFNGR2', 'IRF1']\n",
    "subset_ko_genes = ['STAT1', 'JAK2', 'IFNGR1', 'IFNGR2']\n",
    "tfs = ['MBD4',\n",
    " 'FOSL2',\n",
    " 'RELA',\n",
    " 'JUN',\n",
    " 'TGIF1',\n",
    " 'ZNF644',\n",
    " 'FOS',\n",
    " 'SOX4',\n",
    " 'ZNF766',\n",
    " 'ZNF276',\n",
    " 'BHLHE40',\n",
    " 'PITX1',\n",
    " 'MLX',\n",
    " 'HMGB1',\n",
    " 'ZNF592',\n",
    " 'YBX1',\n",
    " 'STAT3',\n",
    " 'KLF6',\n",
    " 'USF2',\n",
    " 'HEY2']\n",
    "done_files = os.listdir(data_path + '2d/')\n",
    "results = {}\n",
    "for g in ['STAT1', 'JAK2', 'IFNGR1', 'IFNGR2', 'IRF1']:\n",
    "    \n",
    "\n",
    "    if g == 'NT': continue\n",
    "    fname = '{}_with_{}_permutation.h5ad'.format(g, g)\n",
    "    if fname in done_files: continue\n",
    "\n",
    "    subset = adata.copy().copy()\n",
    "\n",
    "    subset = adata[adata.obs['gene'].isin(['NT', g]) & (adata.obs['treatment']=='tx')].copy().copy()\n",
    "\n",
    "    subset.obs['is_ko'] = subset.obs.guide_ID.str.contains(g).astype(int).values\n",
    "\n",
    "    memento.create_groups(subset, label_columns=['is_ko', 'replicate'])\n",
    "\n",
    "    memento.compute_1d_moments(subset, min_perc_group=.7)\n",
    "\n",
    "    if g not in subset.var.index: continue\n",
    "\n",
    "    available_tfs = list(set(tfs) & set(subset.var.index))\n",
    "    available_targets = list(set(thp1_isgs) & set(subset.var.index))\n",
    "    memento.compute_2d_moments(subset, list(itertools.product(available_tfs, available_targets))   )\n",
    "\n",
    "#     memento.ht_2d_moments( \n",
    "#         subset, \n",
    "#         formula_like='1 + is_ko + replicate',\n",
    "#         treatment_col='is_ko', \n",
    "#         num_boot=10000, \n",
    "#         verbose=1,\n",
    "#         num_cpus=90,\n",
    "#         resampling='permutation',\n",
    "#         approx=True)\n",
    "\n",
    "    subset.write(data_path + '2d/selected_TFs_with_{}_KO.h5ad'.format(g))"
   ]
  },
  {
   "cell_type": "code",
   "execution_count": 209,
   "id": "01235a87",
   "metadata": {},
   "outputs": [],
   "source": [
    "subset = sc.read(data_path + '2d/selected_TFs_with_IFNGR1_KO.h5ad')\n",
    "# df = memento.get_2d_ht_result(subset)\n",
    "df = memento.get_2d_moments(subset, groupby='is_ko')#.query('is_ko_0 > 0.3')\n",
    "# df = df.merge(moments, on=['gene_1', 'gene_2'])"
   ]
  },
  {
   "cell_type": "code",
   "execution_count": null,
   "id": "71e46d75",
   "metadata": {},
   "outputs": [],
   "source": [
    "\n",
    "for tf in tfs:\n",
    "    plt.figure()\n",
    "    sns.kdeplot(df.query('gene_1 == \"{}\"'.format(tf)).is_ko_0)\n",
    "    sns.kdeplot(df.query('gene_1 == \"{}\"'.format(tf)).is_ko_1)\n",
    "    plt.title(tf)"
   ]
  },
  {
   "cell_type": "code",
   "execution_count": 208,
   "id": "a3cd38d2",
   "metadata": {},
   "outputs": [
    {
     "data": {
      "text/plain": [
       "<AxesSubplot:xlabel='is_ko_0', ylabel='Density'>"
      ]
     },
     "execution_count": 208,
     "metadata": {},
     "output_type": "execute_result"
    },
    {
     "data": {
      "image/png": "[encoded data removed]",
      "text/plain": [
       "<Figure size 432x288 with 1 Axes>"
      ]
     },
     "metadata": {
      "needs_background": "light"
     },
     "output_type": "display_data"
    }
   ],
   "source": [
    "tf = 'FOS'\n",
    "sns.kdeplot(df.query('gene_1 == \"{}\"'.format(tf)).is_ko_0)\n",
    "sns.kdeplot(df.query('gene_1 == \"{}\"'.format(tf)).is_ko_1)"
   ]
  },
  {
   "cell_type": "code",
   "execution_count": 44,
   "id": "44306805",
   "metadata": {},
   "outputs": [],
   "source": [
    "df['corr_fdr'] = memento.util._fdrcorrect(df['corr_pval'])"
   ]
  },
  {
   "cell_type": "code",
   "execution_count": 29,
   "id": "9b10f15a",
   "metadata": {},
   "outputs": [
    {
     "data": {
      "text/html": [
       "<div>\n",
       "<style scoped>\n",
       "    .dataframe tbody tr th:only-of-type {\n",
       "        vertical-align: middle;\n",
       "    }\n",
       "\n",
       "    .dataframe tbody tr th {\n",
       "        vertical-align: top;\n",
       "    }\n",
       "\n",
       "    .dataframe thead th {\n",
       "        text-align: right;\n",
       "    }\n",
       "</style>\n",
       "<table border=\"1\" class=\"dataframe\">\n",
       "  <thead>\n",
       "    <tr style=\"text-align: right;\">\n",
       "      <th></th>\n",
       "      <th>gene_1</th>\n",
       "      <th>gene_2</th>\n",
       "      <th>corr_coef</th>\n",
       "      <th>corr_se</th>\n",
       "      <th>corr_pval</th>\n",
       "      <th>corr_fdr</th>\n",
       "    </tr>\n",
       "  </thead>\n",
       "  <tbody>\n",
       "  </tbody>\n",
       "</table>\n",
       "</div>"
      ],
      "text/plain": [
       "Empty DataFrame\n",
       "Columns: [gene_1, gene_2, corr_coef, corr_se, corr_pval, corr_fdr]\n",
       "Index: []"
      ]
     },
     "execution_count": 29,
     "metadata": {},
     "output_type": "execute_result"
    }
   ],
   "source": [
    "df.query('corr_fdr < 0.1')"
   ]
  },
  {
   "cell_type": "code",
   "execution_count": 27,
   "id": "fe9aa13a",
   "metadata": {},
   "outputs": [
    {
     "data": {
      "text/html": [
       "<div>\n",
       "<style scoped>\n",
       "    .dataframe tbody tr th:only-of-type {\n",
       "        vertical-align: middle;\n",
       "    }\n",
       "\n",
       "    .dataframe tbody tr th {\n",
       "        vertical-align: top;\n",
       "    }\n",
       "\n",
       "    .dataframe thead th {\n",
       "        text-align: right;\n",
       "    }\n",
       "</style>\n",
       "<table border=\"1\" class=\"dataframe\">\n",
       "  <thead>\n",
       "    <tr style=\"text-align: right;\">\n",
       "      <th></th>\n",
       "      <th>gene_1</th>\n",
       "      <th>gene_2</th>\n",
       "      <th>corr_coef</th>\n",
       "      <th>corr_se</th>\n",
       "      <th>corr_pval</th>\n",
       "    </tr>\n",
       "  </thead>\n",
       "  <tbody>\n",
       "    <tr>\n",
       "      <th>1160</th>\n",
       "      <td>FOS</td>\n",
       "      <td>PIM1</td>\n",
       "      <td>0.016741</td>\n",
       "      <td>0.059169</td>\n",
       "      <td>0.776822</td>\n",
       "    </tr>\n",
       "    <tr>\n",
       "      <th>1161</th>\n",
       "      <td>FOS</td>\n",
       "      <td>MAP1LC3B</td>\n",
       "      <td>-0.049080</td>\n",
       "      <td>0.051924</td>\n",
       "      <td>0.345465</td>\n",
       "    </tr>\n",
       "    <tr>\n",
       "      <th>1162</th>\n",
       "      <td>FOS</td>\n",
       "      <td>GK</td>\n",
       "      <td>0.042563</td>\n",
       "      <td>0.052588</td>\n",
       "      <td>0.419958</td>\n",
       "    </tr>\n",
       "    <tr>\n",
       "      <th>1163</th>\n",
       "      <td>FOS</td>\n",
       "      <td>RALGDS</td>\n",
       "      <td>0.090831</td>\n",
       "      <td>0.053516</td>\n",
       "      <td>0.089191</td>\n",
       "    </tr>\n",
       "    <tr>\n",
       "      <th>1164</th>\n",
       "      <td>FOS</td>\n",
       "      <td>PSMB10</td>\n",
       "      <td>-0.109940</td>\n",
       "      <td>0.047803</td>\n",
       "      <td>0.021698</td>\n",
       "    </tr>\n",
       "    <tr>\n",
       "      <th>...</th>\n",
       "      <td>...</td>\n",
       "      <td>...</td>\n",
       "      <td>...</td>\n",
       "      <td>...</td>\n",
       "      <td>...</td>\n",
       "    </tr>\n",
       "    <tr>\n",
       "      <th>1735</th>\n",
       "      <td>FOS</td>\n",
       "      <td>SIPA1L3</td>\n",
       "      <td>-0.234078</td>\n",
       "      <td>0.075820</td>\n",
       "      <td>0.002100</td>\n",
       "    </tr>\n",
       "    <tr>\n",
       "      <th>1736</th>\n",
       "      <td>FOS</td>\n",
       "      <td>GPR65</td>\n",
       "      <td>0.089034</td>\n",
       "      <td>0.067118</td>\n",
       "      <td>0.185381</td>\n",
       "    </tr>\n",
       "    <tr>\n",
       "      <th>1737</th>\n",
       "      <td>FOS</td>\n",
       "      <td>IFI27</td>\n",
       "      <td>-0.049195</td>\n",
       "      <td>0.039169</td>\n",
       "      <td>0.209779</td>\n",
       "    </tr>\n",
       "    <tr>\n",
       "      <th>1738</th>\n",
       "      <td>FOS</td>\n",
       "      <td>SNX20</td>\n",
       "      <td>-0.026632</td>\n",
       "      <td>0.058666</td>\n",
       "      <td>0.652635</td>\n",
       "    </tr>\n",
       "    <tr>\n",
       "      <th>1739</th>\n",
       "      <td>FOS</td>\n",
       "      <td>MSRB1</td>\n",
       "      <td>-0.014325</td>\n",
       "      <td>0.043197</td>\n",
       "      <td>0.745025</td>\n",
       "    </tr>\n",
       "  </tbody>\n",
       "</table>\n",
       "<p>580 rows × 5 columns</p>\n",
       "</div>"
      ],
      "text/plain": [
       "     gene_1    gene_2  corr_coef   corr_se  corr_pval\n",
       "1160    FOS      PIM1   0.016741  0.059169   0.776822\n",
       "1161    FOS  MAP1LC3B  -0.049080  0.051924   0.345465\n",
       "1162    FOS        GK   0.042563  0.052588   0.419958\n",
       "1163    FOS    RALGDS   0.090831  0.053516   0.089191\n",
       "1164    FOS    PSMB10  -0.109940  0.047803   0.021698\n",
       "...     ...       ...        ...       ...        ...\n",
       "1735    FOS   SIPA1L3  -0.234078  0.075820   0.002100\n",
       "1736    FOS     GPR65   0.089034  0.067118   0.185381\n",
       "1737    FOS     IFI27  -0.049195  0.039169   0.209779\n",
       "1738    FOS     SNX20  -0.026632  0.058666   0.652635\n",
       "1739    FOS     MSRB1  -0.014325  0.043197   0.745025\n",
       "\n",
       "[580 rows x 5 columns]"
      ]
     },
     "execution_count": 27,
     "metadata": {},
     "output_type": "execute_result"
    }
   ],
   "source": [
    "df.query('gene_1 == \"FOS\"')"
   ]
  },
  {
   "cell_type": "markdown",
   "id": "e6de038e",
   "metadata": {},
   "source": [
    "### 1D change for TFs"
   ]
  },
  {
   "cell_type": "code",
   "execution_count": 16,
   "id": "96091938",
   "metadata": {},
   "outputs": [],
   "source": [
    "a = results['IFNGR1']"
   ]
  },
  {
   "cell_type": "code",
   "execution_count": 21,
   "id": "9811fcb6",
   "metadata": {},
   "outputs": [],
   "source": [
    "top_gamma_tfs = ['MBD4',\n",
    " 'FOSL2',\n",
    " 'RELA',\n",
    " 'JUN',\n",
    " 'TGIF1',\n",
    " 'ZNF644',\n",
    " 'FOS',\n",
    " 'SOX4',\n",
    " 'ZNF766',\n",
    " 'ZNF276',\n",
    " 'BHLHE40',\n",
    " 'PITX1',\n",
    " 'MLX',\n",
    " 'HMGB1',\n",
    " 'ZNF592',\n",
    " 'YBX1',\n",
    " 'STAT3',\n",
    " 'KLF6',\n",
    " 'USF2',\n",
    " 'HEY2']\n",
    "de_tfs = ['STAT1', 'IRF1']"
   ]
  },
  {
   "cell_type": "code",
   "execution_count": null,
   "id": "02dee1ac",
   "metadata": {},
   "outputs": [],
   "source": [
    "tf_df = pd.read_csv('../baseline/human_tf.txt', sep='\\t')\n",
    "tf_df = tf_df.query('Family != \"Others\"')\n",
    "tf_list = tf_df['Symbol'].tolist()\n",
    "tf_list += ['CIITA', 'NLRC5']"
   ]
  },
  {
   "cell_type": "code",
   "execution_count": 25,
   "id": "919e858b",
   "metadata": {},
   "outputs": [
    {
     "data": {
      "text/html": [
       "<div>\n",
       "<style scoped>\n",
       "    .dataframe tbody tr th:only-of-type {\n",
       "        vertical-align: middle;\n",
       "    }\n",
       "\n",
       "    .dataframe tbody tr th {\n",
       "        vertical-align: top;\n",
       "    }\n",
       "\n",
       "    .dataframe thead th {\n",
       "        text-align: right;\n",
       "    }\n",
       "</style>\n",
       "<table border=\"1\" class=\"dataframe\">\n",
       "  <thead>\n",
       "    <tr style=\"text-align: right;\">\n",
       "      <th></th>\n",
       "      <th>gene</th>\n",
       "      <th>de_coef</th>\n",
       "      <th>de_se</th>\n",
       "      <th>de_pval</th>\n",
       "      <th>dv_coef</th>\n",
       "      <th>dv_se</th>\n",
       "      <th>dv_pval</th>\n",
       "      <th>de_fdr</th>\n",
       "      <th>dv_fdr</th>\n",
       "    </tr>\n",
       "  </thead>\n",
       "  <tbody>\n",
       "    <tr>\n",
       "      <th>1361</th>\n",
       "      <td>STAT1</td>\n",
       "      <td>-0.918483</td>\n",
       "      <td>0.024827</td>\n",
       "      <td>9.590841e-08</td>\n",
       "      <td>1.200798</td>\n",
       "      <td>0.073786</td>\n",
       "      <td>0.000006</td>\n",
       "      <td>0.000026</td>\n",
       "      <td>0.002669</td>\n",
       "    </tr>\n",
       "    <tr>\n",
       "      <th>2468</th>\n",
       "      <td>IRF1</td>\n",
       "      <td>-1.499877</td>\n",
       "      <td>0.037202</td>\n",
       "      <td>1.403768e-08</td>\n",
       "      <td>1.586197</td>\n",
       "      <td>0.068810</td>\n",
       "      <td>0.000069</td>\n",
       "      <td>0.000018</td>\n",
       "      <td>0.010618</td>\n",
       "    </tr>\n",
       "  </tbody>\n",
       "</table>\n",
       "</div>"
      ],
      "text/plain": [
       "       gene   de_coef     de_se       de_pval   dv_coef     dv_se   dv_pval  \\\n",
       "1361  STAT1 -0.918483  0.024827  9.590841e-08  1.200798  0.073786  0.000006   \n",
       "2468   IRF1 -1.499877  0.037202  1.403768e-08  1.586197  0.068810  0.000069   \n",
       "\n",
       "        de_fdr    dv_fdr  \n",
       "1361  0.000026  0.002669  \n",
       "2468  0.000018  0.010618  "
      ]
     },
     "execution_count": 25,
     "metadata": {},
     "output_type": "execute_result"
    }
   ],
   "source": [
    "a[a.gene.isin(de_tfs)]"
   ]
  },
  {
   "cell_type": "code",
   "execution_count": 23,
   "id": "59b6b171",
   "metadata": {},
   "outputs": [
    {
     "data": {
      "text/html": [
       "<div>\n",
       "<style scoped>\n",
       "    .dataframe tbody tr th:only-of-type {\n",
       "        vertical-align: middle;\n",
       "    }\n",
       "\n",
       "    .dataframe tbody tr th {\n",
       "        vertical-align: top;\n",
       "    }\n",
       "\n",
       "    .dataframe thead th {\n",
       "        text-align: right;\n",
       "    }\n",
       "</style>\n",
       "<table border=\"1\" class=\"dataframe\">\n",
       "  <thead>\n",
       "    <tr style=\"text-align: right;\">\n",
       "      <th></th>\n",
       "      <th>gene</th>\n",
       "      <th>de_coef</th>\n",
       "      <th>de_se</th>\n",
       "      <th>de_pval</th>\n",
       "      <th>dv_coef</th>\n",
       "      <th>dv_se</th>\n",
       "      <th>dv_pval</th>\n",
       "      <th>de_fdr</th>\n",
       "      <th>dv_fdr</th>\n",
       "    </tr>\n",
       "  </thead>\n",
       "  <tbody>\n",
       "    <tr>\n",
       "      <th>279</th>\n",
       "      <td>YBX1</td>\n",
       "      <td>-0.011982</td>\n",
       "      <td>0.016835</td>\n",
       "      <td>4.812519e-01</td>\n",
       "      <td>-0.064339</td>\n",
       "      <td>0.044935</td>\n",
       "      <td>0.163784</td>\n",
       "      <td>0.570752</td>\n",
       "      <td>0.683930</td>\n",
       "    </tr>\n",
       "    <tr>\n",
       "      <th>361</th>\n",
       "      <td>JUN</td>\n",
       "      <td>-0.288426</td>\n",
       "      <td>0.028473</td>\n",
       "      <td>8.374337e-06</td>\n",
       "      <td>-0.239816</td>\n",
       "      <td>0.084530</td>\n",
       "      <td>0.010899</td>\n",
       "      <td>0.000157</td>\n",
       "      <td>0.204870</td>\n",
       "    </tr>\n",
       "    <tr>\n",
       "      <th>421</th>\n",
       "      <td>ZNF644</td>\n",
       "      <td>-0.020409</td>\n",
       "      <td>0.036099</td>\n",
       "      <td>5.772423e-01</td>\n",
       "      <td>-0.132945</td>\n",
       "      <td>0.205027</td>\n",
       "      <td>0.606339</td>\n",
       "      <td>0.658839</td>\n",
       "      <td>0.915977</td>\n",
       "    </tr>\n",
       "    <tr>\n",
       "      <th>1023</th>\n",
       "      <td>FOSL2</td>\n",
       "      <td>-0.256414</td>\n",
       "      <td>0.063890</td>\n",
       "      <td>6.521654e-04</td>\n",
       "      <td>-0.039555</td>\n",
       "      <td>0.251765</td>\n",
       "      <td>0.888311</td>\n",
       "      <td>0.002059</td>\n",
       "      <td>0.974591</td>\n",
       "    </tr>\n",
       "    <tr>\n",
       "      <th>1494</th>\n",
       "      <td>BHLHE40</td>\n",
       "      <td>0.129073</td>\n",
       "      <td>0.043836</td>\n",
       "      <td>3.299670e-03</td>\n",
       "      <td>-0.061946</td>\n",
       "      <td>0.145581</td>\n",
       "      <td>0.690431</td>\n",
       "      <td>0.007466</td>\n",
       "      <td>0.935422</td>\n",
       "    </tr>\n",
       "    <tr>\n",
       "      <th>1802</th>\n",
       "      <td>MBD4</td>\n",
       "      <td>0.139841</td>\n",
       "      <td>0.031519</td>\n",
       "      <td>1.951493e-04</td>\n",
       "      <td>-0.067437</td>\n",
       "      <td>0.151725</td>\n",
       "      <td>0.669833</td>\n",
       "      <td>0.000888</td>\n",
       "      <td>0.930165</td>\n",
       "    </tr>\n",
       "    <tr>\n",
       "      <th>2681</th>\n",
       "      <td>SOX4</td>\n",
       "      <td>0.050662</td>\n",
       "      <td>0.049320</td>\n",
       "      <td>3.030697e-01</td>\n",
       "      <td>-0.080867</td>\n",
       "      <td>0.127313</td>\n",
       "      <td>0.538846</td>\n",
       "      <td>0.392672</td>\n",
       "      <td>0.895913</td>\n",
       "    </tr>\n",
       "    <tr>\n",
       "      <th>4132</th>\n",
       "      <td>KLF6</td>\n",
       "      <td>-0.172576</td>\n",
       "      <td>0.033737</td>\n",
       "      <td>1.002724e-04</td>\n",
       "      <td>-0.365830</td>\n",
       "      <td>0.105520</td>\n",
       "      <td>0.001900</td>\n",
       "      <td>0.000586</td>\n",
       "      <td>0.061479</td>\n",
       "    </tr>\n",
       "    <tr>\n",
       "      <th>4629</th>\n",
       "      <td>RELA</td>\n",
       "      <td>-0.095232</td>\n",
       "      <td>0.049086</td>\n",
       "      <td>5.329467e-02</td>\n",
       "      <td>-0.317178</td>\n",
       "      <td>0.254344</td>\n",
       "      <td>0.226577</td>\n",
       "      <td>0.088116</td>\n",
       "      <td>0.745596</td>\n",
       "    </tr>\n",
       "    <tr>\n",
       "      <th>5318</th>\n",
       "      <td>HMGB1</td>\n",
       "      <td>0.199049</td>\n",
       "      <td>0.029373</td>\n",
       "      <td>3.439061e-04</td>\n",
       "      <td>-0.042079</td>\n",
       "      <td>0.067495</td>\n",
       "      <td>0.561144</td>\n",
       "      <td>0.001289</td>\n",
       "      <td>0.902437</td>\n",
       "    </tr>\n",
       "    <tr>\n",
       "      <th>5629</th>\n",
       "      <td>FOS</td>\n",
       "      <td>-0.102704</td>\n",
       "      <td>0.029371</td>\n",
       "      <td>1.144462e-03</td>\n",
       "      <td>-0.081558</td>\n",
       "      <td>0.059335</td>\n",
       "      <td>0.170683</td>\n",
       "      <td>0.003207</td>\n",
       "      <td>0.694857</td>\n",
       "    </tr>\n",
       "    <tr>\n",
       "      <th>5944</th>\n",
       "      <td>ZNF592</td>\n",
       "      <td>0.066980</td>\n",
       "      <td>0.058927</td>\n",
       "      <td>2.599740e-01</td>\n",
       "      <td>0.002608</td>\n",
       "      <td>0.243728</td>\n",
       "      <td>0.991801</td>\n",
       "      <td>0.345460</td>\n",
       "      <td>0.997340</td>\n",
       "    </tr>\n",
       "    <tr>\n",
       "      <th>6356</th>\n",
       "      <td>ZNF276</td>\n",
       "      <td>-0.306372</td>\n",
       "      <td>0.069086</td>\n",
       "      <td>3.990476e-04</td>\n",
       "      <td>0.294913</td>\n",
       "      <td>0.292226</td>\n",
       "      <td>0.380762</td>\n",
       "      <td>0.001431</td>\n",
       "      <td>0.843910</td>\n",
       "    </tr>\n",
       "    <tr>\n",
       "      <th>6558</th>\n",
       "      <td>STAT3</td>\n",
       "      <td>-0.530598</td>\n",
       "      <td>0.026762</td>\n",
       "      <td>3.696255e-09</td>\n",
       "      <td>0.137998</td>\n",
       "      <td>0.170982</td>\n",
       "      <td>0.430457</td>\n",
       "      <td>0.000018</td>\n",
       "      <td>0.863154</td>\n",
       "    </tr>\n",
       "    <tr>\n",
       "      <th>6561</th>\n",
       "      <td>MLX</td>\n",
       "      <td>-0.045802</td>\n",
       "      <td>0.030483</td>\n",
       "      <td>1.340866e-01</td>\n",
       "      <td>-0.164743</td>\n",
       "      <td>0.192589</td>\n",
       "      <td>0.393061</td>\n",
       "      <td>0.197023</td>\n",
       "      <td>0.849761</td>\n",
       "    </tr>\n",
       "    <tr>\n",
       "      <th>6823</th>\n",
       "      <td>TGIF1</td>\n",
       "      <td>-0.182106</td>\n",
       "      <td>0.034765</td>\n",
       "      <td>1.599594e-04</td>\n",
       "      <td>-0.322728</td>\n",
       "      <td>0.142381</td>\n",
       "      <td>0.027197</td>\n",
       "      <td>0.000788</td>\n",
       "      <td>0.353994</td>\n",
       "    </tr>\n",
       "    <tr>\n",
       "      <th>7247</th>\n",
       "      <td>USF2</td>\n",
       "      <td>0.146809</td>\n",
       "      <td>0.055703</td>\n",
       "      <td>1.089891e-02</td>\n",
       "      <td>0.217205</td>\n",
       "      <td>0.244977</td>\n",
       "      <td>0.373863</td>\n",
       "      <td>0.021851</td>\n",
       "      <td>0.839220</td>\n",
       "    </tr>\n",
       "    <tr>\n",
       "      <th>7435</th>\n",
       "      <td>ZNF766</td>\n",
       "      <td>-0.017276</td>\n",
       "      <td>0.077066</td>\n",
       "      <td>8.276172e-01</td>\n",
       "      <td>-0.004655</td>\n",
       "      <td>0.265950</td>\n",
       "      <td>0.987401</td>\n",
       "      <td>0.870111</td>\n",
       "      <td>0.996727</td>\n",
       "    </tr>\n",
       "  </tbody>\n",
       "</table>\n",
       "</div>"
      ],
      "text/plain": [
       "         gene   de_coef     de_se       de_pval   dv_coef     dv_se   dv_pval  \\\n",
       "279      YBX1 -0.011982  0.016835  4.812519e-01 -0.064339  0.044935  0.163784   \n",
       "361       JUN -0.288426  0.028473  8.374337e-06 -0.239816  0.084530  0.010899   \n",
       "421    ZNF644 -0.020409  0.036099  5.772423e-01 -0.132945  0.205027  0.606339   \n",
       "1023    FOSL2 -0.256414  0.063890  6.521654e-04 -0.039555  0.251765  0.888311   \n",
       "1494  BHLHE40  0.129073  0.043836  3.299670e-03 -0.061946  0.145581  0.690431   \n",
       "1802     MBD4  0.139841  0.031519  1.951493e-04 -0.067437  0.151725  0.669833   \n",
       "2681     SOX4  0.050662  0.049320  3.030697e-01 -0.080867  0.127313  0.538846   \n",
       "4132     KLF6 -0.172576  0.033737  1.002724e-04 -0.365830  0.105520  0.001900   \n",
       "4629     RELA -0.095232  0.049086  5.329467e-02 -0.317178  0.254344  0.226577   \n",
       "5318    HMGB1  0.199049  0.029373  3.439061e-04 -0.042079  0.067495  0.561144   \n",
       "5629      FOS -0.102704  0.029371  1.144462e-03 -0.081558  0.059335  0.170683   \n",
       "5944   ZNF592  0.066980  0.058927  2.599740e-01  0.002608  0.243728  0.991801   \n",
       "6356   ZNF276 -0.306372  0.069086  3.990476e-04  0.294913  0.292226  0.380762   \n",
       "6558    STAT3 -0.530598  0.026762  3.696255e-09  0.137998  0.170982  0.430457   \n",
       "6561      MLX -0.045802  0.030483  1.340866e-01 -0.164743  0.192589  0.393061   \n",
       "6823    TGIF1 -0.182106  0.034765  1.599594e-04 -0.322728  0.142381  0.027197   \n",
       "7247     USF2  0.146809  0.055703  1.089891e-02  0.217205  0.244977  0.373863   \n",
       "7435   ZNF766 -0.017276  0.077066  8.276172e-01 -0.004655  0.265950  0.987401   \n",
       "\n",
       "        de_fdr    dv_fdr  \n",
       "279   0.570752  0.683930  \n",
       "361   0.000157  0.204870  \n",
       "421   0.658839  0.915977  \n",
       "1023  0.002059  0.974591  \n",
       "1494  0.007466  0.935422  \n",
       "1802  0.000888  0.930165  \n",
       "2681  0.392672  0.895913  \n",
       "4132  0.000586  0.061479  \n",
       "4629  0.088116  0.745596  \n",
       "5318  0.001289  0.902437  \n",
       "5629  0.003207  0.694857  \n",
       "5944  0.345460  0.997340  \n",
       "6356  0.001431  0.843910  \n",
       "6558  0.000018  0.863154  \n",
       "6561  0.197023  0.849761  \n",
       "6823  0.000788  0.353994  \n",
       "7247  0.021851  0.839220  \n",
       "7435  0.870111  0.996727  "
      ]
     },
     "execution_count": 23,
     "metadata": {},
     "output_type": "execute_result"
    }
   ],
   "source": [
    "a[a.gene.isin(top_gamma_tfs)]"
   ]
  },
  {
   "cell_type": "code",
   "execution_count": null,
   "id": "33e7425a",
   "metadata": {},
   "outputs": [],
   "source": []
  },
  {
   "cell_type": "markdown",
   "id": "1bd17f12",
   "metadata": {},
   "source": [
    "### Run validation 2D test"
   ]
  },
  {
   "cell_type": "code",
   "execution_count": 70,
   "id": "0e64c22e",
   "metadata": {},
   "outputs": [],
   "source": [
    "hbec_df = pd.read_csv('/data_volume/temp.csv', index_col=0)"
   ]
  },
  {
   "cell_type": "code",
   "execution_count": 41,
   "id": "4948b5f3",
   "metadata": {},
   "outputs": [],
   "source": [
    "tfs = ['FOS', 'BHLHE40', 'SOX4']"
   ]
  },
  {
   "cell_type": "code",
   "execution_count": 67,
   "id": "4b36360a",
   "metadata": {},
   "outputs": [
    {
     "data": {
      "text/plain": [
       "27"
      ]
     },
     "execution_count": 67,
     "metadata": {},
     "output_type": "execute_result"
    }
   ],
   "source": [
    "len(adata.obs.gene.drop_duplicates().tolist())"
   ]
  },
  {
   "cell_type": "code",
   "execution_count": 69,
   "id": "0b6fff7d",
   "metadata": {},
   "outputs": [
    {
     "data": {
      "text/html": [
       "<div>\n",
       "<style scoped>\n",
       "    .dataframe tbody tr th:only-of-type {\n",
       "        vertical-align: middle;\n",
       "    }\n",
       "\n",
       "    .dataframe tbody tr th {\n",
       "        vertical-align: top;\n",
       "    }\n",
       "\n",
       "    .dataframe thead th {\n",
       "        text-align: right;\n",
       "    }\n",
       "</style>\n",
       "<table border=\"1\" class=\"dataframe\">\n",
       "  <thead>\n",
       "    <tr style=\"text-align: right;\">\n",
       "      <th></th>\n",
       "      <th>tf</th>\n",
       "      <th>corr</th>\n",
       "      <th>pv</th>\n",
       "      <th>log10(P)</th>\n",
       "      <th>de_fdr</th>\n",
       "      <th>de_coef</th>\n",
       "    </tr>\n",
       "  </thead>\n",
       "  <tbody>\n",
       "    <tr>\n",
       "      <th>0</th>\n",
       "      <td>MBD4</td>\n",
       "      <td>0.081809</td>\n",
       "      <td>2.899620e-23</td>\n",
       "      <td>22.537659</td>\n",
       "      <td>0.721298</td>\n",
       "      <td>0.042312</td>\n",
       "    </tr>\n",
       "    <tr>\n",
       "      <th>1</th>\n",
       "      <td>IRF6</td>\n",
       "      <td>-0.076351</td>\n",
       "      <td>8.709737e-23</td>\n",
       "      <td>22.059995</td>\n",
       "      <td>0.438932</td>\n",
       "      <td>0.059682</td>\n",
       "    </tr>\n",
       "    <tr>\n",
       "      <th>2</th>\n",
       "      <td>IRF7</td>\n",
       "      <td>-0.064989</td>\n",
       "      <td>9.881039e-23</td>\n",
       "      <td>22.005197</td>\n",
       "      <td>0.001080</td>\n",
       "      <td>0.301630</td>\n",
       "    </tr>\n",
       "    <tr>\n",
       "      <th>3</th>\n",
       "      <td>FOSL2</td>\n",
       "      <td>0.076724</td>\n",
       "      <td>4.185279e-22</td>\n",
       "      <td>21.378276</td>\n",
       "      <td>0.856891</td>\n",
       "      <td>0.032854</td>\n",
       "    </tr>\n",
       "    <tr>\n",
       "      <th>4</th>\n",
       "      <td>GTF2I</td>\n",
       "      <td>-0.053861</td>\n",
       "      <td>2.364870e-21</td>\n",
       "      <td>20.626193</td>\n",
       "      <td>0.056388</td>\n",
       "      <td>0.071996</td>\n",
       "    </tr>\n",
       "    <tr>\n",
       "      <th>...</th>\n",
       "      <td>...</td>\n",
       "      <td>...</td>\n",
       "      <td>...</td>\n",
       "      <td>...</td>\n",
       "      <td>...</td>\n",
       "      <td>...</td>\n",
       "    </tr>\n",
       "    <tr>\n",
       "      <th>557</th>\n",
       "      <td>ZFP62</td>\n",
       "      <td>0.000506</td>\n",
       "      <td>9.671199e-01</td>\n",
       "      <td>0.014520</td>\n",
       "      <td>0.746111</td>\n",
       "      <td>-0.071165</td>\n",
       "    </tr>\n",
       "    <tr>\n",
       "      <th>558</th>\n",
       "      <td>ZNF585A</td>\n",
       "      <td>0.000275</td>\n",
       "      <td>9.721501e-01</td>\n",
       "      <td>0.012267</td>\n",
       "      <td>0.218829</td>\n",
       "      <td>-0.187578</td>\n",
       "    </tr>\n",
       "    <tr>\n",
       "      <th>559</th>\n",
       "      <td>ELK3</td>\n",
       "      <td>-0.000096</td>\n",
       "      <td>9.878336e-01</td>\n",
       "      <td>0.005316</td>\n",
       "      <td>0.022634</td>\n",
       "      <td>-0.155086</td>\n",
       "    </tr>\n",
       "    <tr>\n",
       "      <th>560</th>\n",
       "      <td>ZNF605</td>\n",
       "      <td>0.000109</td>\n",
       "      <td>9.899115e-01</td>\n",
       "      <td>0.004404</td>\n",
       "      <td>0.658620</td>\n",
       "      <td>0.106605</td>\n",
       "    </tr>\n",
       "    <tr>\n",
       "      <th>561</th>\n",
       "      <td>ZNF426</td>\n",
       "      <td>-0.000094</td>\n",
       "      <td>9.913123e-01</td>\n",
       "      <td>0.003790</td>\n",
       "      <td>0.417819</td>\n",
       "      <td>-0.183719</td>\n",
       "    </tr>\n",
       "  </tbody>\n",
       "</table>\n",
       "<p>562 rows × 6 columns</p>\n",
       "</div>"
      ],
      "text/plain": [
       "          tf      corr            pv   log10(P)    de_fdr   de_coef\n",
       "0       MBD4  0.081809  2.899620e-23  22.537659  0.721298  0.042312\n",
       "1       IRF6 -0.076351  8.709737e-23  22.059995  0.438932  0.059682\n",
       "2       IRF7 -0.064989  9.881039e-23  22.005197  0.001080  0.301630\n",
       "3      FOSL2  0.076724  4.185279e-22  21.378276  0.856891  0.032854\n",
       "4      GTF2I -0.053861  2.364870e-21  20.626193  0.056388  0.071996\n",
       "..       ...       ...           ...        ...       ...       ...\n",
       "557    ZFP62  0.000506  9.671199e-01   0.014520  0.746111 -0.071165\n",
       "558  ZNF585A  0.000275  9.721501e-01   0.012267  0.218829 -0.187578\n",
       "559     ELK3 -0.000096  9.878336e-01   0.005316  0.022634 -0.155086\n",
       "560   ZNF605  0.000109  9.899115e-01   0.004404  0.658620  0.106605\n",
       "561   ZNF426 -0.000094  9.913123e-01   0.003790  0.417819 -0.183719\n",
       "\n",
       "[562 rows x 6 columns]"
      ]
     },
     "execution_count": 69,
     "metadata": {},
     "output_type": "execute_result"
    }
   ],
   "source": [
    "hbec_df"
   ]
  },
  {
   "cell_type": "code",
   "execution_count": 72,
   "id": "b9bd2d40",
   "metadata": {},
   "outputs": [
    {
     "name": "stdout",
     "output_type": "stream",
     "text": [
      "IRF7\n"
     ]
    },
    {
     "name": "stderr",
     "output_type": "stream",
     "text": [
      "/home/ssm-user/anaconda3/envs/single_cell/lib/python3.8/site-packages/pandas/core/arrays/categorical.py:2631: FutureWarning: The `inplace` parameter in pandas.Categorical.remove_unused_categories is deprecated and will be removed in a future version.\n",
      "  res = method(*args, **kwargs)\n",
      "[Parallel(n_jobs=92)]: Using backend LokyBackend with 92 concurrent workers.\n",
      "[Parallel(n_jobs=92)]: Done 168 out of 175 | elapsed:   24.5s remaining:    1.0s\n",
      "[Parallel(n_jobs=92)]: Done 175 out of 175 | elapsed:   25.4s finished\n",
      "... storing 'memento_group' as categorical\n"
     ]
    },
    {
     "name": "stdout",
     "output_type": "stream",
     "text": [
      "IFNGR2\n"
     ]
    },
    {
     "name": "stderr",
     "output_type": "stream",
     "text": [
      "[Parallel(n_jobs=92)]: Using backend LokyBackend with 92 concurrent workers.\n",
      "[Parallel(n_jobs=92)]: Done 168 out of 175 | elapsed:   23.2s remaining:    1.0s\n",
      "[Parallel(n_jobs=92)]: Done 175 out of 175 | elapsed:   24.0s finished\n",
      "... storing 'memento_group' as categorical\n"
     ]
    },
    {
     "name": "stdout",
     "output_type": "stream",
     "text": [
      "CAV1\n",
      "STAT3\n"
     ]
    },
    {
     "name": "stderr",
     "output_type": "stream",
     "text": [
      "[Parallel(n_jobs=92)]: Using backend LokyBackend with 92 concurrent workers.\n",
      "[Parallel(n_jobs=92)]: Done 168 out of 175 | elapsed:   20.7s remaining:    0.9s\n",
      "[Parallel(n_jobs=92)]: Done 175 out of 175 | elapsed:   21.3s finished\n",
      "... storing 'memento_group' as categorical\n"
     ]
    },
    {
     "name": "stdout",
     "output_type": "stream",
     "text": [
      "CD86\n"
     ]
    },
    {
     "name": "stderr",
     "output_type": "stream",
     "text": [
      "[Parallel(n_jobs=92)]: Using backend LokyBackend with 92 concurrent workers.\n",
      "[Parallel(n_jobs=92)]: Done 168 out of 175 | elapsed:   22.2s remaining:    0.9s\n",
      "[Parallel(n_jobs=92)]: Done 175 out of 175 | elapsed:   23.4s finished\n",
      "... storing 'memento_group' as categorical\n"
     ]
    },
    {
     "name": "stdout",
     "output_type": "stream",
     "text": [
      "NT\n",
      "CMTM6\n"
     ]
    },
    {
     "name": "stderr",
     "output_type": "stream",
     "text": [
      "[Parallel(n_jobs=92)]: Using backend LokyBackend with 92 concurrent workers.\n",
      "[Parallel(n_jobs=92)]: Done 168 out of 175 | elapsed:   21.6s remaining:    0.9s\n",
      "[Parallel(n_jobs=92)]: Done 175 out of 175 | elapsed:   22.3s finished\n",
      "... storing 'memento_group' as categorical\n"
     ]
    },
    {
     "name": "stdout",
     "output_type": "stream",
     "text": [
      "IFNGR1\n"
     ]
    },
    {
     "name": "stderr",
     "output_type": "stream",
     "text": [
      "[Parallel(n_jobs=92)]: Using backend LokyBackend with 92 concurrent workers.\n",
      "[Parallel(n_jobs=92)]: Done 168 out of 175 | elapsed:   22.7s remaining:    0.9s\n",
      "[Parallel(n_jobs=92)]: Done 175 out of 175 | elapsed:   23.7s finished\n",
      "... storing 'memento_group' as categorical\n"
     ]
    },
    {
     "name": "stdout",
     "output_type": "stream",
     "text": [
      "JAK2\n"
     ]
    },
    {
     "name": "stderr",
     "output_type": "stream",
     "text": [
      "[Parallel(n_jobs=92)]: Using backend LokyBackend with 92 concurrent workers.\n",
      "[Parallel(n_jobs=92)]: Done 168 out of 175 | elapsed:   21.8s remaining:    0.9s\n",
      "[Parallel(n_jobs=92)]: Done 175 out of 175 | elapsed:   22.7s finished\n",
      "... storing 'memento_group' as categorical\n"
     ]
    },
    {
     "name": "stdout",
     "output_type": "stream",
     "text": [
      "BRD4\n"
     ]
    },
    {
     "name": "stderr",
     "output_type": "stream",
     "text": [
      "[Parallel(n_jobs=92)]: Using backend LokyBackend with 92 concurrent workers.\n",
      "[Parallel(n_jobs=92)]: Done 168 out of 175 | elapsed:   19.4s remaining:    0.8s\n",
      "[Parallel(n_jobs=92)]: Done 175 out of 175 | elapsed:   20.0s finished\n",
      "... storing 'memento_group' as categorical\n"
     ]
    },
    {
     "name": "stdout",
     "output_type": "stream",
     "text": [
      "SMAD4\n"
     ]
    },
    {
     "name": "stderr",
     "output_type": "stream",
     "text": [
      "[Parallel(n_jobs=92)]: Using backend LokyBackend with 92 concurrent workers.\n",
      "[Parallel(n_jobs=92)]: Done 168 out of 175 | elapsed:   21.6s remaining:    0.9s\n",
      "[Parallel(n_jobs=92)]: Done 175 out of 175 | elapsed:   22.2s finished\n",
      "... storing 'memento_group' as categorical\n"
     ]
    },
    {
     "name": "stdout",
     "output_type": "stream",
     "text": [
      "NFKBIA\n"
     ]
    },
    {
     "name": "stderr",
     "output_type": "stream",
     "text": [
      "[Parallel(n_jobs=92)]: Using backend LokyBackend with 92 concurrent workers.\n",
      "[Parallel(n_jobs=92)]: Done 168 out of 175 | elapsed:   22.5s remaining:    0.9s\n",
      "[Parallel(n_jobs=92)]: Done 175 out of 175 | elapsed:   23.4s finished\n",
      "... storing 'memento_group' as categorical\n"
     ]
    },
    {
     "name": "stdout",
     "output_type": "stream",
     "text": [
      "PDCD1LG2\n"
     ]
    },
    {
     "name": "stderr",
     "output_type": "stream",
     "text": [
      "[Parallel(n_jobs=92)]: Using backend LokyBackend with 92 concurrent workers.\n",
      "[Parallel(n_jobs=92)]: Done 168 out of 175 | elapsed:   20.5s remaining:    0.9s\n",
      "[Parallel(n_jobs=92)]: Done 175 out of 175 | elapsed:   21.5s finished\n",
      "... storing 'memento_group' as categorical\n"
     ]
    },
    {
     "name": "stdout",
     "output_type": "stream",
     "text": [
      "STAT1\n"
     ]
    },
    {
     "name": "stderr",
     "output_type": "stream",
     "text": [
      "[Parallel(n_jobs=92)]: Using backend LokyBackend with 92 concurrent workers.\n",
      "[Parallel(n_jobs=92)]: Done 168 out of 175 | elapsed:   19.0s remaining:    0.8s\n",
      "[Parallel(n_jobs=92)]: Done 175 out of 175 | elapsed:   19.5s finished\n",
      "... storing 'memento_group' as categorical\n"
     ]
    },
    {
     "name": "stdout",
     "output_type": "stream",
     "text": [
      "MARCH8\n",
      "UBE2L6\n"
     ]
    },
    {
     "name": "stderr",
     "output_type": "stream",
     "text": [
      "[Parallel(n_jobs=92)]: Using backend LokyBackend with 92 concurrent workers.\n",
      "[Parallel(n_jobs=92)]: Done 168 out of 175 | elapsed:   20.9s remaining:    0.9s\n",
      "[Parallel(n_jobs=92)]: Done 175 out of 175 | elapsed:   21.7s finished\n",
      "... storing 'memento_group' as categorical\n"
     ]
    },
    {
     "name": "stdout",
     "output_type": "stream",
     "text": [
      "ETV7\n"
     ]
    },
    {
     "name": "stderr",
     "output_type": "stream",
     "text": [
      "[Parallel(n_jobs=92)]: Using backend LokyBackend with 92 concurrent workers.\n",
      "[Parallel(n_jobs=92)]: Done 168 out of 175 | elapsed:   22.2s remaining:    0.9s\n",
      "[Parallel(n_jobs=92)]: Done 175 out of 175 | elapsed:   23.2s finished\n",
      "... storing 'memento_group' as categorical\n"
     ]
    },
    {
     "name": "stdout",
     "output_type": "stream",
     "text": [
      "TNFRSF14\n"
     ]
    },
    {
     "name": "stderr",
     "output_type": "stream",
     "text": [
      "[Parallel(n_jobs=92)]: Using backend LokyBackend with 92 concurrent workers.\n",
      "[Parallel(n_jobs=92)]: Done 168 out of 175 | elapsed:   21.0s remaining:    0.9s\n",
      "[Parallel(n_jobs=92)]: Done 175 out of 175 | elapsed:   22.0s finished\n",
      "... storing 'memento_group' as categorical\n"
     ]
    },
    {
     "name": "stdout",
     "output_type": "stream",
     "text": [
      "IRF1\n"
     ]
    },
    {
     "name": "stderr",
     "output_type": "stream",
     "text": [
      "[Parallel(n_jobs=92)]: Using backend LokyBackend with 92 concurrent workers.\n",
      "[Parallel(n_jobs=92)]: Done 168 out of 175 | elapsed:   22.8s remaining:    1.0s\n",
      "[Parallel(n_jobs=92)]: Done 175 out of 175 | elapsed:   23.8s finished\n",
      "... storing 'memento_group' as categorical\n"
     ]
    },
    {
     "name": "stdout",
     "output_type": "stream",
     "text": [
      "STAT5A\n"
     ]
    },
    {
     "name": "stderr",
     "output_type": "stream",
     "text": [
      "[Parallel(n_jobs=92)]: Using backend LokyBackend with 92 concurrent workers.\n",
      "[Parallel(n_jobs=92)]: Done 168 out of 175 | elapsed:   20.7s remaining:    0.9s\n",
      "[Parallel(n_jobs=92)]: Done 175 out of 175 | elapsed:   21.7s finished\n",
      "... storing 'memento_group' as categorical\n"
     ]
    },
    {
     "name": "stdout",
     "output_type": "stream",
     "text": [
      "ATF2\n"
     ]
    },
    {
     "name": "stderr",
     "output_type": "stream",
     "text": [
      "[Parallel(n_jobs=92)]: Using backend LokyBackend with 92 concurrent workers.\n",
      "[Parallel(n_jobs=92)]: Done 168 out of 175 | elapsed:   24.0s remaining:    1.0s\n",
      "[Parallel(n_jobs=92)]: Done 175 out of 175 | elapsed:   25.0s finished\n",
      "... storing 'memento_group' as categorical\n"
     ]
    },
    {
     "name": "stdout",
     "output_type": "stream",
     "text": [
      "POU2F2\n"
     ]
    },
    {
     "name": "stderr",
     "output_type": "stream",
     "text": [
      "[Parallel(n_jobs=92)]: Using backend LokyBackend with 92 concurrent workers.\n",
      "[Parallel(n_jobs=92)]: Done 168 out of 175 | elapsed:   21.8s remaining:    0.9s\n",
      "[Parallel(n_jobs=92)]: Done 175 out of 175 | elapsed:   22.2s finished\n",
      "... storing 'memento_group' as categorical\n"
     ]
    },
    {
     "name": "stdout",
     "output_type": "stream",
     "text": [
      "STAT2\n"
     ]
    },
    {
     "name": "stderr",
     "output_type": "stream",
     "text": [
      "[Parallel(n_jobs=92)]: Using backend LokyBackend with 92 concurrent workers.\n",
      "[Parallel(n_jobs=92)]: Done 168 out of 175 | elapsed:   21.8s remaining:    0.9s\n",
      "[Parallel(n_jobs=92)]: Done 175 out of 175 | elapsed:   22.2s finished\n",
      "... storing 'memento_group' as categorical\n"
     ]
    },
    {
     "name": "stdout",
     "output_type": "stream",
     "text": [
      "CUL3\n"
     ]
    },
    {
     "name": "stderr",
     "output_type": "stream",
     "text": [
      "[Parallel(n_jobs=92)]: Using backend LokyBackend with 92 concurrent workers.\n",
      "[Parallel(n_jobs=92)]: Done 168 out of 175 | elapsed:   19.6s remaining:    0.8s\n",
      "[Parallel(n_jobs=92)]: Done 175 out of 175 | elapsed:   20.1s finished\n",
      "... storing 'memento_group' as categorical\n"
     ]
    },
    {
     "name": "stdout",
     "output_type": "stream",
     "text": [
      "MYC\n"
     ]
    },
    {
     "name": "stderr",
     "output_type": "stream",
     "text": [
      "[Parallel(n_jobs=92)]: Using backend LokyBackend with 92 concurrent workers.\n",
      "[Parallel(n_jobs=92)]: Done 168 out of 175 | elapsed:   18.8s remaining:    0.8s\n",
      "[Parallel(n_jobs=92)]: Done 175 out of 175 | elapsed:   19.2s finished\n",
      "... storing 'memento_group' as categorical\n"
     ]
    },
    {
     "name": "stdout",
     "output_type": "stream",
     "text": [
      "SPI1\n"
     ]
    },
    {
     "name": "stderr",
     "output_type": "stream",
     "text": [
      "[Parallel(n_jobs=92)]: Using backend LokyBackend with 92 concurrent workers.\n",
      "[Parallel(n_jobs=92)]: Done 168 out of 175 | elapsed:   18.5s remaining:    0.8s\n",
      "[Parallel(n_jobs=92)]: Done 175 out of 175 | elapsed:   19.1s finished\n",
      "... storing 'memento_group' as categorical\n"
     ]
    },
    {
     "name": "stdout",
     "output_type": "stream",
     "text": [
      "PDL1\n"
     ]
    },
    {
     "name": "stderr",
     "output_type": "stream",
     "text": [
      "/home/ssm-user/anaconda3/envs/single_cell/lib/python3.8/site-packages/scipy/stats/_distn_infrastructure.py:402: RuntimeWarning: invalid value encountered in double_scalars\n",
      "  return m3 / np.power(m2, 1.5)\n",
      "/home/ssm-user/anaconda3/envs/single_cell/lib/python3.8/site-packages/scipy/stats/_continuous_distns.py:2434: RuntimeWarning: invalid value encountered in subtract\n",
      "  -pex2+logpex2-logex2)\n",
      "/home/ssm-user/anaconda3/envs/single_cell/lib/python3.8/site-packages/scipy/stats/_distn_infrastructure.py:402: RuntimeWarning: invalid value encountered in double_scalars\n",
      "  return m3 / np.power(m2, 1.5)\n",
      "/home/ssm-user/anaconda3/envs/single_cell/lib/python3.8/site-packages/scipy/stats/_continuous_distns.py:2434: RuntimeWarning: invalid value encountered in subtract\n",
      "  -pex2+logpex2-logex2)\n",
      "/home/ssm-user/anaconda3/envs/single_cell/lib/python3.8/site-packages/scipy/stats/_continuous_distns.py:2434: RuntimeWarning: invalid value encountered in subtract\n",
      "  -pex2+logpex2-logex2)\n",
      "/home/ssm-user/anaconda3/envs/single_cell/lib/python3.8/site-packages/scipy/stats/_continuous_distns.py:2434: RuntimeWarning: invalid value encountered in subtract\n",
      "  -pex2+logpex2-logex2)\n"
     ]
    }
   ],
   "source": [
    "for g in adata.obs.gene.drop_duplicates().tolist():\n",
    "    \n",
    "    print(g)\n",
    "    if g == 'NT': continue\n",
    "\n",
    "    subset = adata.copy().copy()\n",
    "\n",
    "    subset = adata[adata.obs['gene'].isin(['NT', g]) & (adata.obs['treatment']=='tx')].copy().copy()\n",
    "\n",
    "    subset.obs['is_ko'] = subset.obs.guide_ID.str.contains(g).astype(int).values\n",
    "\n",
    "    memento.create_groups(subset, label_columns=['is_ko'])\n",
    "\n",
    "    memento.compute_1d_moments(subset, min_perc_group=.7)\n",
    "\n",
    "    if g not in subset.var.index: continue\n",
    "\n",
    "    available_tfs = list(set(hbec_df['gene_1']) & set(subset.var.index))\n",
    "    available_targets = list(set(thp1_isgs) & set(subset.var.index))\n",
    "    filtered = hbec_df[hbec_df['gene_1'].isin(available_tfs) & hbec_df['gene_2'].isin(available_targets)].copy()\n",
    "    memento.compute_2d_moments(subset, list(zip(filtered['gene_1'], filtered['gene_2']) )   )\n",
    "\n",
    "    memento.ht_2d_moments( \n",
    "        subset, \n",
    "        formula_like='1 + is_ko',\n",
    "        treatment_col='is_ko', \n",
    "        num_boot=10000, \n",
    "        verbose=1,\n",
    "        num_cpus=92,\n",
    "        resampling='permutation',\n",
    "        approx=True)\n",
    "\n",
    "    subset.write(data_path + '2d/hbec_validation_with_{}_KO_hbec_genes.h5ad'.format(g))"
   ]
  },
  {
   "cell_type": "code",
   "execution_count": 74,
   "id": "86b8c7fc",
   "metadata": {},
   "outputs": [
    {
     "data": {
      "text/plain": [
       "27"
      ]
     },
     "execution_count": 74,
     "metadata": {},
     "output_type": "execute_result"
    }
   ],
   "source": [
    "len(adata.obs.gene.drop_duplicates().tolist())"
   ]
  },
  {
   "cell_type": "code",
   "execution_count": 85,
   "id": "fa1dd4be",
   "metadata": {},
   "outputs": [],
   "source": [
    "res = pd.DataFrame(index=hbec_df.gene_1.drop_duplicates().tolist(), columns=adata.obs.gene.drop_duplicates().tolist())"
   ]
  },
  {
   "cell_type": "code",
   "execution_count": 87,
   "id": "ffb88d70",
   "metadata": {},
   "outputs": [],
   "source": [
    "for tf in hbec_df.gene_1.drop_duplicates().tolist():    \n",
    "    \n",
    "    for idx, ko in enumerate(adata.obs.gene.drop_duplicates().tolist()):\n",
    "        try:\n",
    "            subset = sc.read(data_path + '2d/hbec_validation_with_{}_KO_hbec_genes.h5ad'.format(ko))\n",
    "        except:\n",
    "            continue\n",
    "        df = memento.get_2d_ht_result(subset)\n",
    "        moments = memento.get_2d_moments(subset, groupby='is_ko')\n",
    "        df = df.merge(moments, on=['gene_1', 'gene_2'])\n",
    "        \n",
    "        df['corr_fdr'] = memento.util._fdrcorrect(df['corr_pval'])\n",
    "        \n",
    "        plot_df = pd.melt(df.query('gene_1 == \"{}\"'.format(tf)), id_vars=['gene_1', 'gene_2'], value_vars=['is_ko_0', 'is_ko_1'])\n",
    "        plot_df['tp'] = plot_df['variable'].apply(lambda x: x.split('_')[-1]).astype(int)\n",
    "        \n",
    "        res.loc[tf, ko] = df.query('gene_1 == \"{}\"'.format(tf)).corr_coef.mean(skipna=True)\n",
    "        \n",
    "    "
   ]
  },
  {
   "cell_type": "code",
   "execution_count": 98,
   "id": "e3e42abe",
   "metadata": {},
   "outputs": [
    {
     "data": {
      "text/plain": [
       "(16, 27)"
      ]
     },
     "execution_count": 98,
     "metadata": {},
     "output_type": "execute_result"
    }
   ],
   "source": [
    "res.shape"
   ]
  },
  {
   "cell_type": "code",
   "execution_count": 101,
   "id": "07165b31",
   "metadata": {},
   "outputs": [],
   "source": [
    "filtered_res = res.drop(['HEY2', 'PITX1']).drop(['NT', 'CAV1', 'PDL1', 'MARCH8'], axis=1)"
   ]
  },
  {
   "cell_type": "code",
   "execution_count": 146,
   "id": "ebd2ae66",
   "metadata": {},
   "outputs": [],
   "source": [
    "sns.set(font_scale=0.7)"
   ]
  },
  {
   "cell_type": "code",
   "execution_count": 164,
   "id": "abeeeae9",
   "metadata": {},
   "outputs": [
    {
     "data": {
      "image/png": "[encoded data removed]",
      "text/plain": [
       "<Figure size 288x216 with 4 Axes>"
      ]
     },
     "metadata": {},
     "output_type": "display_data"
    }
   ],
   "source": [
    "cg = sns.clustermap(\n",
    "    filtered_res.fillna(0.0), center=0, cmap='coolwarm', z_score=0, vmax=2, vmin=-2, figsize=(4,3),\n",
    "    xticklabels=1, yticklabels=1, cbar_pos=(0.05, 0.45, 0.05, 0.18))\n",
    "cg.ax_row_dendrogram.set_visible(False)\n",
    "cg.ax_col_dendrogram.set_visible(False)\n",
    "cg.savefig('tf_ko_heatmap.png', dpi=300)"
   ]
  },
  {
   "cell_type": "code",
   "execution_count": 125,
   "id": "8745e954",
   "metadata": {},
   "outputs": [],
   "source": [
    "row_ind = cg.dendrogram_row.reordered_ind\n",
    "col_ind = cg.dendrogram_col.reordered_ind"
   ]
  },
  {
   "cell_type": "code",
   "execution_count": 179,
   "id": "d96edf26",
   "metadata": {},
   "outputs": [],
   "source": [
    "sns.set_style(\"white\")\n"
   ]
  },
  {
   "cell_type": "code",
   "execution_count": 181,
   "id": "21719e3d",
   "metadata": {},
   "outputs": [
    {
     "data": {
      "image/png": "[encoded data removed]",
      "text/plain": [
       "<Figure size 288x288 with 8 Axes>"
      ]
     },
     "metadata": {},
     "output_type": "display_data"
    }
   ],
   "source": [
    "plt.figure(figsize=(4,4))\n",
    "subidx=1\n",
    "    \n",
    "for tf in ['JUN', 'SOX4']:\n",
    "    \n",
    "    plt.subplots_adjust(wspace=.2)\n",
    "    \n",
    "    \n",
    "    for idx1, ko in enumerate(['IFNGR1', 'IFNGR2', 'JAK2', 'STAT1']):\n",
    "        plt.subplot(2, 4, subidx)\n",
    "        subidx+=1\n",
    "        \n",
    "        subset = sc.read(data_path + '2d/hbec_validation_with_{}_KO_hbec_genes.h5ad'.format(ko))\n",
    "        df = memento.get_2d_ht_result(subset)\n",
    "        moments = memento.get_2d_moments(subset, groupby='is_ko')\n",
    "        df = df.merge(moments, on=['gene_1', 'gene_2'])\n",
    "        \n",
    "        df['corr_fdr'] = memento.util._fdrcorrect(df['corr_pval'])\n",
    "        \n",
    "        plot_df = pd.melt(df.query('gene_1 == \"{}\"'.format(tf)), id_vars=['gene_1', 'gene_2'], value_vars=['is_ko_0', 'is_ko_1'])\n",
    "        plot_df['tp'] = plot_df['variable'].apply(lambda x: x.split('_')[-1]).astype(int)\n",
    "        \n",
    "#         res.loc[tf, ko] = df.query('gene_1 == \"{}\"'.format(tf)).corr_coef.mean(skipna=True)\n",
    "        \n",
    "        if plot_df.shape[0] < 5:\n",
    "            continue\n",
    "\n",
    "\n",
    "#         plt.figure(figsize=(3,2))\n",
    "        sns.boxplot(x='tp', y='value', data=plot_df)\n",
    "        plt.scatter(plot_df['tp'], plot_df['value'], s=2, color='k')\n",
    "        plt.xlim(-0.3, 1.3)\n",
    "\n",
    "        for idx, row in df.query('corr_fdr < 0.15').query('gene_1 == \"{}\"'.format(tf)).iterrows():\n",
    "\n",
    "            plt.plot([0, 1], [row['is_ko_0'], row['is_ko_1']], '--',lw=1, color='k')\n",
    "        if tf == 'JUN':\n",
    "            plt.title(ko)\n",
    "            plt.xticks([])\n",
    "        else:\n",
    "            plt.xticks([0, 1], ['WT', 'KO'.format(ko)])\n",
    "\n",
    "        plt.ylabel(None); \n",
    "        \n",
    "        plt.xlabel(None)\n",
    "        if idx1 > 0:\n",
    "            plt.yticks([])\n",
    "        if idx1 == 0:\n",
    "            plt.ylabel(tf)\n",
    "        \n",
    "        if tf == 'JUN':\n",
    "            plt.ylim(0, 0.5)\n",
    "        if tf == 'SOX4':\n",
    "            plt.ylim(-0.11, 0.18)\n",
    "        \n",
    "plt.savefig('tf_ko_examples.pdf', bbox_inches='tight')"
   ]
  },
  {
   "cell_type": "code",
   "execution_count": 115,
   "id": "f0bbc527",
   "metadata": {},
   "outputs": [
    {
     "data": {
      "text/plain": [
       "-0.090773567487169"
      ]
     },
     "execution_count": 115,
     "metadata": {},
     "output_type": "execute_result"
    }
   ],
   "source": [
    "df.query('gene_1 == \"{}\"'.format(tf)).corr_coef.mean()"
   ]
  },
  {
   "cell_type": "code",
   "execution_count": 112,
   "id": "bd078725",
   "metadata": {},
   "outputs": [
    {
     "data": {
      "text/plain": [
       "variable\n",
       "is_ko_0    0.091633\n",
       "is_ko_1    0.039900\n",
       "Name: value, dtype: float64"
      ]
     },
     "execution_count": 112,
     "metadata": {},
     "output_type": "execute_result"
    }
   ],
   "source": [
    "plot_df.groupby('variable').value.mean()"
   ]
  },
  {
   "cell_type": "code",
   "execution_count": null,
   "id": "86ab8ce1",
   "metadata": {},
   "outputs": [],
   "source": []
  },
  {
   "cell_type": "code",
   "execution_count": null,
   "id": "da6bcc0a",
   "metadata": {},
   "outputs": [],
   "source": []
  },
  {
   "cell_type": "code",
   "execution_count": 105,
   "id": "179c1c69",
   "metadata": {},
   "outputs": [],
   "source": [
    "ko = 'STAT1'"
   ]
  },
  {
   "cell_type": "code",
   "execution_count": 106,
   "id": "e669986d",
   "metadata": {},
   "outputs": [],
   "source": [
    "subset = sc.read(data_path + '2d/hbec_validation_with_{}_KO.h5ad'.format(ko))\n",
    "df = memento.get_2d_ht_result(subset)\n",
    "moments = memento.get_2d_moments(subset, groupby='is_ko')\n",
    "df = df.merge(moments, on=['gene_1', 'gene_2'])"
   ]
  },
  {
   "cell_type": "code",
   "execution_count": 107,
   "id": "f0bf429d",
   "metadata": {},
   "outputs": [],
   "source": [
    "df['corr_fdr'] = memento.util._fdrcorrect(df['corr_pval'])"
   ]
  },
  {
   "cell_type": "code",
   "execution_count": 108,
   "id": "332a3d6a",
   "metadata": {},
   "outputs": [
    {
     "data": {
      "text/plain": [
       "([<matplotlib.axis.XTick at 0x7f8c91f789a0>,\n",
       "  <matplotlib.axis.XTick at 0x7f8c91f78970>],\n",
       " [Text(0, 0, 'control'), Text(1, 0, 'STAT1 KO')])"
      ]
     },
     "execution_count": 108,
     "metadata": {},
     "output_type": "execute_result"
    },
    {
     "data": {
      "image/png": "[encoded data removed]",
      "text/plain": [
       "<Figure size 216x432 with 1 Axes>"
      ]
     },
     "metadata": {
      "needs_background": "light"
     },
     "output_type": "display_data"
    }
   ],
   "source": [
    "tf = 'BHLHE40'\n",
    "plot_df = pd.melt(df.query('gene_1 == \"{}\"'.format(tf)), id_vars=['gene_1', 'gene_2'], value_vars=['is_ko_0', 'is_ko_1'])\n",
    "plot_df['tp'] = plot_df['variable'].apply(lambda x: x.split('_')[-1]).astype(int)\n",
    "\n",
    "plt.figure(figsize=(3,6))\n",
    "sns.boxplot(x='tp', y='value', data=plot_df)\n",
    "plt.scatter(plot_df['tp'], plot_df['value'], s=2, color='k')\n",
    "plt.xlim(-0.3, 1.3)\n",
    "\n",
    "for idx, row in df.query('corr_fdr < 0.15').query('gene_1 == \"{}\"'.format(tf)).iterrows():\n",
    "    \n",
    "    plt.plot([0, 1], [row['is_ko_0'], row['is_ko_1']], '--',lw=1, color='k')\n",
    "plt.title(tf)\n",
    "plt.ylabel('Correlation'); plt.xticks([0, 1], ['control', '{} KO'.format(ko)])"
   ]
  },
  {
   "cell_type": "code",
   "execution_count": 98,
   "id": "ec5d4f4a",
   "metadata": {},
   "outputs": [
    {
     "data": {
      "text/plain": [
       "<AxesSubplot:>"
      ]
     },
     "execution_count": 98,
     "metadata": {},
     "output_type": "execute_result"
    },
    {
     "data": {
      "image/png": "[encoded data removed]",
      "text/plain": [
       "<Figure size 432x288 with 1 Axes>"
      ]
     },
     "metadata": {
      "needs_background": "light"
     },
     "output_type": "display_data"
    }
   ],
   "source": [
    "df.query('gene_1 == \"BHLHE40\"').corr_coef.hist()"
   ]
  },
  {
   "cell_type": "code",
   "execution_count": 189,
   "id": "525bb192",
   "metadata": {},
   "outputs": [
    {
     "data": {
      "text/html": [
       "<div>\n",
       "<style scoped>\n",
       "    .dataframe tbody tr th:only-of-type {\n",
       "        vertical-align: middle;\n",
       "    }\n",
       "\n",
       "    .dataframe tbody tr th {\n",
       "        vertical-align: top;\n",
       "    }\n",
       "\n",
       "    .dataframe thead th {\n",
       "        text-align: right;\n",
       "    }\n",
       "</style>\n",
       "<table border=\"1\" class=\"dataframe\">\n",
       "  <thead>\n",
       "    <tr style=\"text-align: right;\">\n",
       "      <th></th>\n",
       "      <th>gene_1</th>\n",
       "      <th>gene_2</th>\n",
       "      <th>corr_coef</th>\n",
       "      <th>corr_se</th>\n",
       "      <th>corr_pval</th>\n",
       "      <th>is_ko_0</th>\n",
       "      <th>is_ko_1</th>\n",
       "      <th>corr_fdr</th>\n",
       "    </tr>\n",
       "  </thead>\n",
       "  <tbody>\n",
       "    <tr>\n",
       "      <th>128</th>\n",
       "      <td>HMGB1</td>\n",
       "      <td>BST2</td>\n",
       "      <td>-0.199343</td>\n",
       "      <td>0.044428</td>\n",
       "      <td>0.000326</td>\n",
       "      <td>0.276017</td>\n",
       "      <td>0.124397</td>\n",
       "      <td>0.021073</td>\n",
       "    </tr>\n",
       "    <tr>\n",
       "      <th>122</th>\n",
       "      <td>HMGB1</td>\n",
       "      <td>PSME1</td>\n",
       "      <td>-0.191940</td>\n",
       "      <td>0.047774</td>\n",
       "      <td>0.000559</td>\n",
       "      <td>0.315732</td>\n",
       "      <td>0.194747</td>\n",
       "      <td>0.021073</td>\n",
       "    </tr>\n",
       "    <tr>\n",
       "      <th>123</th>\n",
       "      <td>HMGB1</td>\n",
       "      <td>PSMB10</td>\n",
       "      <td>-0.214045</td>\n",
       "      <td>0.048371</td>\n",
       "      <td>0.000153</td>\n",
       "      <td>0.325889</td>\n",
       "      <td>0.177804</td>\n",
       "      <td>0.021073</td>\n",
       "    </tr>\n",
       "    <tr>\n",
       "      <th>106</th>\n",
       "      <td>HMGB1</td>\n",
       "      <td>PSMB9</td>\n",
       "      <td>-0.246103</td>\n",
       "      <td>0.060237</td>\n",
       "      <td>0.000602</td>\n",
       "      <td>0.482944</td>\n",
       "      <td>0.341601</td>\n",
       "      <td>0.021073</td>\n",
       "    </tr>\n",
       "    <tr>\n",
       "      <th>142</th>\n",
       "      <td>STAT3</td>\n",
       "      <td>HLA-B</td>\n",
       "      <td>0.233296</td>\n",
       "      <td>0.056218</td>\n",
       "      <td>0.000452</td>\n",
       "      <td>0.257203</td>\n",
       "      <td>0.405490</td>\n",
       "      <td>0.021073</td>\n",
       "    </tr>\n",
       "    <tr>\n",
       "      <th>113</th>\n",
       "      <td>HMGB1</td>\n",
       "      <td>EPSTI1</td>\n",
       "      <td>-0.187143</td>\n",
       "      <td>0.050381</td>\n",
       "      <td>0.000645</td>\n",
       "      <td>0.167672</td>\n",
       "      <td>0.076704</td>\n",
       "      <td>0.021073</td>\n",
       "    </tr>\n",
       "    <tr>\n",
       "      <th>111</th>\n",
       "      <td>HMGB1</td>\n",
       "      <td>UBE2L6</td>\n",
       "      <td>-0.228261</td>\n",
       "      <td>0.045238</td>\n",
       "      <td>0.000825</td>\n",
       "      <td>0.268161</td>\n",
       "      <td>0.119376</td>\n",
       "      <td>0.023088</td>\n",
       "    </tr>\n",
       "    <tr>\n",
       "      <th>136</th>\n",
       "      <td>HMGB1</td>\n",
       "      <td>GBP1</td>\n",
       "      <td>-0.164279</td>\n",
       "      <td>0.051020</td>\n",
       "      <td>0.001300</td>\n",
       "      <td>0.103544</td>\n",
       "      <td>0.035847</td>\n",
       "      <td>0.031847</td>\n",
       "    </tr>\n",
       "    <tr>\n",
       "      <th>108</th>\n",
       "      <td>HMGB1</td>\n",
       "      <td>LAP3</td>\n",
       "      <td>-0.169861</td>\n",
       "      <td>0.054944</td>\n",
       "      <td>0.001900</td>\n",
       "      <td>0.257162</td>\n",
       "      <td>0.158072</td>\n",
       "      <td>0.033851</td>\n",
       "    </tr>\n",
       "    <tr>\n",
       "      <th>129</th>\n",
       "      <td>HMGB1</td>\n",
       "      <td>IFITM3</td>\n",
       "      <td>-0.117607</td>\n",
       "      <td>0.035029</td>\n",
       "      <td>0.001892</td>\n",
       "      <td>0.068485</td>\n",
       "      <td>0.002001</td>\n",
       "      <td>0.033851</td>\n",
       "    </tr>\n",
       "    <tr>\n",
       "      <th>143</th>\n",
       "      <td>BHLHE40</td>\n",
       "      <td>GBP2</td>\n",
       "      <td>-0.226637</td>\n",
       "      <td>0.067565</td>\n",
       "      <td>0.001637</td>\n",
       "      <td>0.152464</td>\n",
       "      <td>-0.048564</td>\n",
       "      <td>0.033851</td>\n",
       "    </tr>\n",
       "    <tr>\n",
       "      <th>167</th>\n",
       "      <td>MBD4</td>\n",
       "      <td>HLA-DMA</td>\n",
       "      <td>-0.187961</td>\n",
       "      <td>0.062580</td>\n",
       "      <td>0.002200</td>\n",
       "      <td>0.206297</td>\n",
       "      <td>0.056929</td>\n",
       "      <td>0.035930</td>\n",
       "    </tr>\n",
       "    <tr>\n",
       "      <th>65</th>\n",
       "      <td>SOX4</td>\n",
       "      <td>TYMP</td>\n",
       "      <td>-0.125175</td>\n",
       "      <td>0.040226</td>\n",
       "      <td>0.002700</td>\n",
       "      <td>0.076861</td>\n",
       "      <td>-0.017447</td>\n",
       "      <td>0.039196</td>\n",
       "    </tr>\n",
       "    <tr>\n",
       "      <th>149</th>\n",
       "      <td>BHLHE40</td>\n",
       "      <td>B2M</td>\n",
       "      <td>-0.164567</td>\n",
       "      <td>0.054421</td>\n",
       "      <td>0.002800</td>\n",
       "      <td>0.129178</td>\n",
       "      <td>0.041715</td>\n",
       "      <td>0.039196</td>\n",
       "    </tr>\n",
       "    <tr>\n",
       "      <th>112</th>\n",
       "      <td>HMGB1</td>\n",
       "      <td>GLRX</td>\n",
       "      <td>-0.107793</td>\n",
       "      <td>0.036802</td>\n",
       "      <td>0.003600</td>\n",
       "      <td>-0.022339</td>\n",
       "      <td>-0.084924</td>\n",
       "      <td>0.044096</td>\n",
       "    </tr>\n",
       "    <tr>\n",
       "      <th>118</th>\n",
       "      <td>HMGB1</td>\n",
       "      <td>HLA-DPB1</td>\n",
       "      <td>-0.136146</td>\n",
       "      <td>0.047161</td>\n",
       "      <td>0.003400</td>\n",
       "      <td>0.139251</td>\n",
       "      <td>0.060778</td>\n",
       "      <td>0.044096</td>\n",
       "    </tr>\n",
       "    <tr>\n",
       "      <th>110</th>\n",
       "      <td>HMGB1</td>\n",
       "      <td>SAMD9L</td>\n",
       "      <td>-0.136274</td>\n",
       "      <td>0.048385</td>\n",
       "      <td>0.004500</td>\n",
       "      <td>0.075480</td>\n",
       "      <td>-0.007458</td>\n",
       "      <td>0.051877</td>\n",
       "    </tr>\n",
       "    <tr>\n",
       "      <th>104</th>\n",
       "      <td>HMGB1</td>\n",
       "      <td>STAT1</td>\n",
       "      <td>-0.140939</td>\n",
       "      <td>0.051687</td>\n",
       "      <td>0.005899</td>\n",
       "      <td>0.184183</td>\n",
       "      <td>0.146983</td>\n",
       "      <td>0.064238</td>\n",
       "    </tr>\n",
       "    <tr>\n",
       "      <th>185</th>\n",
       "      <td>YBX1</td>\n",
       "      <td>HLA-B</td>\n",
       "      <td>-0.110662</td>\n",
       "      <td>0.040183</td>\n",
       "      <td>0.007099</td>\n",
       "      <td>0.458234</td>\n",
       "      <td>0.385840</td>\n",
       "      <td>0.066260</td>\n",
       "    </tr>\n",
       "    <tr>\n",
       "      <th>139</th>\n",
       "      <td>HMGB1</td>\n",
       "      <td>IFITM1</td>\n",
       "      <td>-0.094040</td>\n",
       "      <td>0.034618</td>\n",
       "      <td>0.006799</td>\n",
       "      <td>0.003048</td>\n",
       "      <td>-0.053349</td>\n",
       "      <td>0.066260</td>\n",
       "    </tr>\n",
       "    <tr>\n",
       "      <th>176</th>\n",
       "      <td>YBX1</td>\n",
       "      <td>IFI6</td>\n",
       "      <td>-0.104488</td>\n",
       "      <td>0.039196</td>\n",
       "      <td>0.006899</td>\n",
       "      <td>0.311100</td>\n",
       "      <td>0.248439</td>\n",
       "      <td>0.066260</td>\n",
       "    </tr>\n",
       "    <tr>\n",
       "      <th>6</th>\n",
       "      <td>FOS</td>\n",
       "      <td>C3</td>\n",
       "      <td>-0.114291</td>\n",
       "      <td>0.042720</td>\n",
       "      <td>0.007599</td>\n",
       "      <td>0.261958</td>\n",
       "      <td>0.155799</td>\n",
       "      <td>0.067702</td>\n",
       "    </tr>\n",
       "    <tr>\n",
       "      <th>166</th>\n",
       "      <td>MBD4</td>\n",
       "      <td>HLA-DPA1</td>\n",
       "      <td>-0.145520</td>\n",
       "      <td>0.054479</td>\n",
       "      <td>0.009199</td>\n",
       "      <td>0.142512</td>\n",
       "      <td>0.014302</td>\n",
       "      <td>0.078392</td>\n",
       "    </tr>\n",
       "    <tr>\n",
       "      <th>105</th>\n",
       "      <td>HMGB1</td>\n",
       "      <td>PSMB8</td>\n",
       "      <td>-0.133383</td>\n",
       "      <td>0.051765</td>\n",
       "      <td>0.010899</td>\n",
       "      <td>0.389086</td>\n",
       "      <td>0.300778</td>\n",
       "      <td>0.085447</td>\n",
       "    </tr>\n",
       "    <tr>\n",
       "      <th>114</th>\n",
       "      <td>HMGB1</td>\n",
       "      <td>PLAAT4</td>\n",
       "      <td>-0.104626</td>\n",
       "      <td>0.040348</td>\n",
       "      <td>0.010799</td>\n",
       "      <td>0.103749</td>\n",
       "      <td>0.037101</td>\n",
       "      <td>0.085447</td>\n",
       "    </tr>\n",
       "    <tr>\n",
       "      <th>37</th>\n",
       "      <td>MLX</td>\n",
       "      <td>IRF1</td>\n",
       "      <td>-0.180684</td>\n",
       "      <td>0.070658</td>\n",
       "      <td>0.012599</td>\n",
       "      <td>0.325703</td>\n",
       "      <td>0.228740</td>\n",
       "      <td>0.090991</td>\n",
       "    </tr>\n",
       "    <tr>\n",
       "      <th>127</th>\n",
       "      <td>HMGB1</td>\n",
       "      <td>HLA-B</td>\n",
       "      <td>-0.120744</td>\n",
       "      <td>0.048857</td>\n",
       "      <td>0.012999</td>\n",
       "      <td>0.288954</td>\n",
       "      <td>0.225213</td>\n",
       "      <td>0.090991</td>\n",
       "    </tr>\n",
       "    <tr>\n",
       "      <th>174</th>\n",
       "      <td>YBX1</td>\n",
       "      <td>PLAAT4</td>\n",
       "      <td>0.090950</td>\n",
       "      <td>0.036148</td>\n",
       "      <td>0.012399</td>\n",
       "      <td>-0.119182</td>\n",
       "      <td>-0.074620</td>\n",
       "      <td>0.090991</td>\n",
       "    </tr>\n",
       "    <tr>\n",
       "      <th>102</th>\n",
       "      <td>HMGB1</td>\n",
       "      <td>PARP9</td>\n",
       "      <td>-0.158195</td>\n",
       "      <td>0.063370</td>\n",
       "      <td>0.013599</td>\n",
       "      <td>0.164853</td>\n",
       "      <td>0.051087</td>\n",
       "      <td>0.091908</td>\n",
       "    </tr>\n",
       "    <tr>\n",
       "      <th>155</th>\n",
       "      <td>BHLHE40</td>\n",
       "      <td>TGM2</td>\n",
       "      <td>-0.168507</td>\n",
       "      <td>0.069263</td>\n",
       "      <td>0.014499</td>\n",
       "      <td>0.159011</td>\n",
       "      <td>0.019036</td>\n",
       "      <td>0.094724</td>\n",
       "    </tr>\n",
       "    <tr>\n",
       "      <th>25</th>\n",
       "      <td>FOS</td>\n",
       "      <td>HLA-DMA</td>\n",
       "      <td>-0.103409</td>\n",
       "      <td>0.042429</td>\n",
       "      <td>0.015498</td>\n",
       "      <td>0.131333</td>\n",
       "      <td>0.051243</td>\n",
       "      <td>0.097990</td>\n",
       "    </tr>\n",
       "    <tr>\n",
       "      <th>69</th>\n",
       "      <td>SOX4</td>\n",
       "      <td>WARS</td>\n",
       "      <td>-0.124788</td>\n",
       "      <td>0.051644</td>\n",
       "      <td>0.017198</td>\n",
       "      <td>0.097485</td>\n",
       "      <td>0.035996</td>\n",
       "      <td>0.102147</td>\n",
       "    </tr>\n",
       "    <tr>\n",
       "      <th>46</th>\n",
       "      <td>TGIF1</td>\n",
       "      <td>WARS</td>\n",
       "      <td>-0.131491</td>\n",
       "      <td>0.053974</td>\n",
       "      <td>0.016798</td>\n",
       "      <td>0.273104</td>\n",
       "      <td>0.236720</td>\n",
       "      <td>0.102147</td>\n",
       "    </tr>\n",
       "    <tr>\n",
       "      <th>125</th>\n",
       "      <td>HMGB1</td>\n",
       "      <td>HLA-E</td>\n",
       "      <td>-0.102081</td>\n",
       "      <td>0.044497</td>\n",
       "      <td>0.019698</td>\n",
       "      <td>0.209103</td>\n",
       "      <td>0.159612</td>\n",
       "      <td>0.109643</td>\n",
       "    </tr>\n",
       "    <tr>\n",
       "      <th>13</th>\n",
       "      <td>FOS</td>\n",
       "      <td>PSMB10</td>\n",
       "      <td>-0.109940</td>\n",
       "      <td>0.047628</td>\n",
       "      <td>0.020698</td>\n",
       "      <td>0.224816</td>\n",
       "      <td>0.154157</td>\n",
       "      <td>0.109643</td>\n",
       "    </tr>\n",
       "    <tr>\n",
       "      <th>173</th>\n",
       "      <td>YBX1</td>\n",
       "      <td>UBE2L6</td>\n",
       "      <td>-0.088575</td>\n",
       "      <td>0.037973</td>\n",
       "      <td>0.020398</td>\n",
       "      <td>0.275017</td>\n",
       "      <td>0.234285</td>\n",
       "      <td>0.109643</td>\n",
       "    </tr>\n",
       "    <tr>\n",
       "      <th>192</th>\n",
       "      <td>YBX1</td>\n",
       "      <td>GBP1</td>\n",
       "      <td>-0.086806</td>\n",
       "      <td>0.037807</td>\n",
       "      <td>0.020298</td>\n",
       "      <td>0.255718</td>\n",
       "      <td>0.190459</td>\n",
       "      <td>0.109643</td>\n",
       "    </tr>\n",
       "    <tr>\n",
       "      <th>140</th>\n",
       "      <td>HMGB1</td>\n",
       "      <td>CD74</td>\n",
       "      <td>-0.091186</td>\n",
       "      <td>0.039438</td>\n",
       "      <td>0.022298</td>\n",
       "      <td>0.056778</td>\n",
       "      <td>0.013927</td>\n",
       "      <td>0.115010</td>\n",
       "    </tr>\n",
       "    <tr>\n",
       "      <th>0</th>\n",
       "      <td>FOS</td>\n",
       "      <td>PSME2</td>\n",
       "      <td>-0.091981</td>\n",
       "      <td>0.040856</td>\n",
       "      <td>0.023198</td>\n",
       "      <td>0.113094</td>\n",
       "      <td>0.054799</td>\n",
       "      <td>0.116583</td>\n",
       "    </tr>\n",
       "    <tr>\n",
       "      <th>144</th>\n",
       "      <td>BHLHE40</td>\n",
       "      <td>SSPN</td>\n",
       "      <td>-0.218847</td>\n",
       "      <td>0.094935</td>\n",
       "      <td>0.023898</td>\n",
       "      <td>0.114224</td>\n",
       "      <td>0.005221</td>\n",
       "      <td>0.117098</td>\n",
       "    </tr>\n",
       "    <tr>\n",
       "      <th>124</th>\n",
       "      <td>HMGB1</td>\n",
       "      <td>HLA-C</td>\n",
       "      <td>-0.099096</td>\n",
       "      <td>0.045835</td>\n",
       "      <td>0.031297</td>\n",
       "      <td>0.279082</td>\n",
       "      <td>0.212375</td>\n",
       "      <td>0.133433</td>\n",
       "    </tr>\n",
       "    <tr>\n",
       "      <th>131</th>\n",
       "      <td>HMGB1</td>\n",
       "      <td>RTP4</td>\n",
       "      <td>-0.161730</td>\n",
       "      <td>0.073099</td>\n",
       "      <td>0.027997</td>\n",
       "      <td>0.067378</td>\n",
       "      <td>-0.028410</td>\n",
       "      <td>0.133433</td>\n",
       "    </tr>\n",
       "    <tr>\n",
       "      <th>187</th>\n",
       "      <td>YBX1</td>\n",
       "      <td>IFITM3</td>\n",
       "      <td>-0.082748</td>\n",
       "      <td>0.037765</td>\n",
       "      <td>0.031797</td>\n",
       "      <td>0.174299</td>\n",
       "      <td>0.138842</td>\n",
       "      <td>0.133433</td>\n",
       "    </tr>\n",
       "    <tr>\n",
       "      <th>117</th>\n",
       "      <td>HMGB1</td>\n",
       "      <td>IFI6</td>\n",
       "      <td>-0.087535</td>\n",
       "      <td>0.040158</td>\n",
       "      <td>0.030397</td>\n",
       "      <td>0.092950</td>\n",
       "      <td>0.040786</td>\n",
       "      <td>0.133433</td>\n",
       "    </tr>\n",
       "    <tr>\n",
       "      <th>195</th>\n",
       "      <td>YBX1</td>\n",
       "      <td>CD74</td>\n",
       "      <td>-0.069847</td>\n",
       "      <td>0.032646</td>\n",
       "      <td>0.030597</td>\n",
       "      <td>0.217814</td>\n",
       "      <td>0.176109</td>\n",
       "      <td>0.133433</td>\n",
       "    </tr>\n",
       "    <tr>\n",
       "      <th>7</th>\n",
       "      <td>FOS</td>\n",
       "      <td>PLAAT4</td>\n",
       "      <td>-0.108819</td>\n",
       "      <td>0.050622</td>\n",
       "      <td>0.031997</td>\n",
       "      <td>0.105498</td>\n",
       "      <td>0.029902</td>\n",
       "      <td>0.133433</td>\n",
       "    </tr>\n",
       "    <tr>\n",
       "      <th>28</th>\n",
       "      <td>FOS</td>\n",
       "      <td>CD74</td>\n",
       "      <td>-0.090059</td>\n",
       "      <td>0.041485</td>\n",
       "      <td>0.029997</td>\n",
       "      <td>0.144264</td>\n",
       "      <td>0.079610</td>\n",
       "      <td>0.133433</td>\n",
       "    </tr>\n",
       "    <tr>\n",
       "      <th>62</th>\n",
       "      <td>SOX4</td>\n",
       "      <td>HLA-C</td>\n",
       "      <td>-0.106124</td>\n",
       "      <td>0.050921</td>\n",
       "      <td>0.036096</td>\n",
       "      <td>0.061461</td>\n",
       "      <td>0.006684</td>\n",
       "      <td>0.141413</td>\n",
       "    </tr>\n",
       "    <tr>\n",
       "      <th>70</th>\n",
       "      <td>SOX4</td>\n",
       "      <td>CD74</td>\n",
       "      <td>-0.098433</td>\n",
       "      <td>0.047145</td>\n",
       "      <td>0.035896</td>\n",
       "      <td>0.052629</td>\n",
       "      <td>-0.002026</td>\n",
       "      <td>0.141413</td>\n",
       "    </tr>\n",
       "    <tr>\n",
       "      <th>177</th>\n",
       "      <td>YBX1</td>\n",
       "      <td>HLA-DPB1</td>\n",
       "      <td>-0.088764</td>\n",
       "      <td>0.042526</td>\n",
       "      <td>0.036796</td>\n",
       "      <td>0.166506</td>\n",
       "      <td>0.124313</td>\n",
       "      <td>0.141413</td>\n",
       "    </tr>\n",
       "    <tr>\n",
       "      <th>82</th>\n",
       "      <td>JUN</td>\n",
       "      <td>IRF1</td>\n",
       "      <td>-0.093635</td>\n",
       "      <td>0.044607</td>\n",
       "      <td>0.035296</td>\n",
       "      <td>0.348077</td>\n",
       "      <td>0.308383</td>\n",
       "      <td>0.141413</td>\n",
       "    </tr>\n",
       "    <tr>\n",
       "      <th>147</th>\n",
       "      <td>BHLHE40</td>\n",
       "      <td>HLA-DRB1</td>\n",
       "      <td>-0.131936</td>\n",
       "      <td>0.063809</td>\n",
       "      <td>0.037696</td>\n",
       "      <td>0.077677</td>\n",
       "      <td>0.015788</td>\n",
       "      <td>0.142086</td>\n",
       "    </tr>\n",
       "    <tr>\n",
       "      <th>47</th>\n",
       "      <td>TGIF1</td>\n",
       "      <td>IFIH1</td>\n",
       "      <td>-0.186711</td>\n",
       "      <td>0.090686</td>\n",
       "      <td>0.038696</td>\n",
       "      <td>0.166079</td>\n",
       "      <td>0.061543</td>\n",
       "      <td>0.143103</td>\n",
       "    </tr>\n",
       "    <tr>\n",
       "      <th>133</th>\n",
       "      <td>HMGB1</td>\n",
       "      <td>HLA-DPA1</td>\n",
       "      <td>-0.089945</td>\n",
       "      <td>0.043207</td>\n",
       "      <td>0.040096</td>\n",
       "      <td>0.093036</td>\n",
       "      <td>0.041780</td>\n",
       "      <td>0.145025</td>\n",
       "    </tr>\n",
       "    <tr>\n",
       "      <th>115</th>\n",
       "      <td>HMGB1</td>\n",
       "      <td>HLA-DRB1</td>\n",
       "      <td>-0.069100</td>\n",
       "      <td>0.034017</td>\n",
       "      <td>0.040696</td>\n",
       "      <td>0.055682</td>\n",
       "      <td>0.012135</td>\n",
       "      <td>0.145025</td>\n",
       "    </tr>\n",
       "  </tbody>\n",
       "</table>\n",
       "</div>"
      ],
      "text/plain": [
       "      gene_1    gene_2  corr_coef   corr_se  corr_pval   is_ko_0   is_ko_1  \\\n",
       "128    HMGB1      BST2  -0.199343  0.044428   0.000326  0.276017  0.124397   \n",
       "122    HMGB1     PSME1  -0.191940  0.047774   0.000559  0.315732  0.194747   \n",
       "123    HMGB1    PSMB10  -0.214045  0.048371   0.000153  0.325889  0.177804   \n",
       "106    HMGB1     PSMB9  -0.246103  0.060237   0.000602  0.482944  0.341601   \n",
       "142    STAT3     HLA-B   0.233296  0.056218   0.000452  0.257203  0.405490   \n",
       "113    HMGB1    EPSTI1  -0.187143  0.050381   0.000645  0.167672  0.076704   \n",
       "111    HMGB1    UBE2L6  -0.228261  0.045238   0.000825  0.268161  0.119376   \n",
       "136    HMGB1      GBP1  -0.164279  0.051020   0.001300  0.103544  0.035847   \n",
       "108    HMGB1      LAP3  -0.169861  0.054944   0.001900  0.257162  0.158072   \n",
       "129    HMGB1    IFITM3  -0.117607  0.035029   0.001892  0.068485  0.002001   \n",
       "143  BHLHE40      GBP2  -0.226637  0.067565   0.001637  0.152464 -0.048564   \n",
       "167     MBD4   HLA-DMA  -0.187961  0.062580   0.002200  0.206297  0.056929   \n",
       "65      SOX4      TYMP  -0.125175  0.040226   0.002700  0.076861 -0.017447   \n",
       "149  BHLHE40       B2M  -0.164567  0.054421   0.002800  0.129178  0.041715   \n",
       "112    HMGB1      GLRX  -0.107793  0.036802   0.003600 -0.022339 -0.084924   \n",
       "118    HMGB1  HLA-DPB1  -0.136146  0.047161   0.003400  0.139251  0.060778   \n",
       "110    HMGB1    SAMD9L  -0.136274  0.048385   0.004500  0.075480 -0.007458   \n",
       "104    HMGB1     STAT1  -0.140939  0.051687   0.005899  0.184183  0.146983   \n",
       "185     YBX1     HLA-B  -0.110662  0.040183   0.007099  0.458234  0.385840   \n",
       "139    HMGB1    IFITM1  -0.094040  0.034618   0.006799  0.003048 -0.053349   \n",
       "176     YBX1      IFI6  -0.104488  0.039196   0.006899  0.311100  0.248439   \n",
       "6        FOS        C3  -0.114291  0.042720   0.007599  0.261958  0.155799   \n",
       "166     MBD4  HLA-DPA1  -0.145520  0.054479   0.009199  0.142512  0.014302   \n",
       "105    HMGB1     PSMB8  -0.133383  0.051765   0.010899  0.389086  0.300778   \n",
       "114    HMGB1    PLAAT4  -0.104626  0.040348   0.010799  0.103749  0.037101   \n",
       "37       MLX      IRF1  -0.180684  0.070658   0.012599  0.325703  0.228740   \n",
       "127    HMGB1     HLA-B  -0.120744  0.048857   0.012999  0.288954  0.225213   \n",
       "174     YBX1    PLAAT4   0.090950  0.036148   0.012399 -0.119182 -0.074620   \n",
       "102    HMGB1     PARP9  -0.158195  0.063370   0.013599  0.164853  0.051087   \n",
       "155  BHLHE40      TGM2  -0.168507  0.069263   0.014499  0.159011  0.019036   \n",
       "25       FOS   HLA-DMA  -0.103409  0.042429   0.015498  0.131333  0.051243   \n",
       "69      SOX4      WARS  -0.124788  0.051644   0.017198  0.097485  0.035996   \n",
       "46     TGIF1      WARS  -0.131491  0.053974   0.016798  0.273104  0.236720   \n",
       "125    HMGB1     HLA-E  -0.102081  0.044497   0.019698  0.209103  0.159612   \n",
       "13       FOS    PSMB10  -0.109940  0.047628   0.020698  0.224816  0.154157   \n",
       "173     YBX1    UBE2L6  -0.088575  0.037973   0.020398  0.275017  0.234285   \n",
       "192     YBX1      GBP1  -0.086806  0.037807   0.020298  0.255718  0.190459   \n",
       "140    HMGB1      CD74  -0.091186  0.039438   0.022298  0.056778  0.013927   \n",
       "0        FOS     PSME2  -0.091981  0.040856   0.023198  0.113094  0.054799   \n",
       "144  BHLHE40      SSPN  -0.218847  0.094935   0.023898  0.114224  0.005221   \n",
       "124    HMGB1     HLA-C  -0.099096  0.045835   0.031297  0.279082  0.212375   \n",
       "131    HMGB1      RTP4  -0.161730  0.073099   0.027997  0.067378 -0.028410   \n",
       "187     YBX1    IFITM3  -0.082748  0.037765   0.031797  0.174299  0.138842   \n",
       "117    HMGB1      IFI6  -0.087535  0.040158   0.030397  0.092950  0.040786   \n",
       "195     YBX1      CD74  -0.069847  0.032646   0.030597  0.217814  0.176109   \n",
       "7        FOS    PLAAT4  -0.108819  0.050622   0.031997  0.105498  0.029902   \n",
       "28       FOS      CD74  -0.090059  0.041485   0.029997  0.144264  0.079610   \n",
       "62      SOX4     HLA-C  -0.106124  0.050921   0.036096  0.061461  0.006684   \n",
       "70      SOX4      CD74  -0.098433  0.047145   0.035896  0.052629 -0.002026   \n",
       "177     YBX1  HLA-DPB1  -0.088764  0.042526   0.036796  0.166506  0.124313   \n",
       "82       JUN      IRF1  -0.093635  0.044607   0.035296  0.348077  0.308383   \n",
       "147  BHLHE40  HLA-DRB1  -0.131936  0.063809   0.037696  0.077677  0.015788   \n",
       "47     TGIF1     IFIH1  -0.186711  0.090686   0.038696  0.166079  0.061543   \n",
       "133    HMGB1  HLA-DPA1  -0.089945  0.043207   0.040096  0.093036  0.041780   \n",
       "115    HMGB1  HLA-DRB1  -0.069100  0.034017   0.040696  0.055682  0.012135   \n",
       "\n",
       "     corr_fdr  \n",
       "128  0.021073  \n",
       "122  0.021073  \n",
       "123  0.021073  \n",
       "106  0.021073  \n",
       "142  0.021073  \n",
       "113  0.021073  \n",
       "111  0.023088  \n",
       "136  0.031847  \n",
       "108  0.033851  \n",
       "129  0.033851  \n",
       "143  0.033851  \n",
       "167  0.035930  \n",
       "65   0.039196  \n",
       "149  0.039196  \n",
       "112  0.044096  \n",
       "118  0.044096  \n",
       "110  0.051877  \n",
       "104  0.064238  \n",
       "185  0.066260  \n",
       "139  0.066260  \n",
       "176  0.066260  \n",
       "6    0.067702  \n",
       "166  0.078392  \n",
       "105  0.085447  \n",
       "114  0.085447  \n",
       "37   0.090991  \n",
       "127  0.090991  \n",
       "174  0.090991  \n",
       "102  0.091908  \n",
       "155  0.094724  \n",
       "25   0.097990  \n",
       "69   0.102147  \n",
       "46   0.102147  \n",
       "125  0.109643  \n",
       "13   0.109643  \n",
       "173  0.109643  \n",
       "192  0.109643  \n",
       "140  0.115010  \n",
       "0    0.116583  \n",
       "144  0.117098  \n",
       "124  0.133433  \n",
       "131  0.133433  \n",
       "187  0.133433  \n",
       "117  0.133433  \n",
       "195  0.133433  \n",
       "7    0.133433  \n",
       "28   0.133433  \n",
       "62   0.141413  \n",
       "70   0.141413  \n",
       "177  0.141413  \n",
       "82   0.141413  \n",
       "147  0.142086  \n",
       "47   0.143103  \n",
       "133  0.145025  \n",
       "115  0.145025  "
      ]
     },
     "execution_count": 189,
     "metadata": {},
     "output_type": "execute_result"
    }
   ],
   "source": [
    "df.sort_values('corr_fdr').query('corr_fdr < 0.15')"
   ]
  },
  {
   "cell_type": "code",
   "execution_count": 145,
   "id": "2294c32e",
   "metadata": {},
   "outputs": [
    {
     "data": {
      "text/html": [
       "<div>\n",
       "<style scoped>\n",
       "    .dataframe tbody tr th:only-of-type {\n",
       "        vertical-align: middle;\n",
       "    }\n",
       "\n",
       "    .dataframe tbody tr th {\n",
       "        vertical-align: top;\n",
       "    }\n",
       "\n",
       "    .dataframe thead th {\n",
       "        text-align: right;\n",
       "    }\n",
       "</style>\n",
       "<table border=\"1\" class=\"dataframe\">\n",
       "  <thead>\n",
       "    <tr style=\"text-align: right;\">\n",
       "      <th></th>\n",
       "      <th>tf</th>\n",
       "      <th>corr</th>\n",
       "      <th>pv</th>\n",
       "      <th>log10(P)</th>\n",
       "    </tr>\n",
       "  </thead>\n",
       "  <tbody>\n",
       "    <tr>\n",
       "      <th>0</th>\n",
       "      <td>ZEB1</td>\n",
       "      <td>-0.010754</td>\n",
       "      <td>1.822114e-05</td>\n",
       "      <td>4.739424</td>\n",
       "    </tr>\n",
       "    <tr>\n",
       "      <th>1</th>\n",
       "      <td>ZNF576</td>\n",
       "      <td>-0.003043</td>\n",
       "      <td>2.700190e-01</td>\n",
       "      <td>0.568606</td>\n",
       "    </tr>\n",
       "    <tr>\n",
       "      <th>2</th>\n",
       "      <td>ID3</td>\n",
       "      <td>-0.020673</td>\n",
       "      <td>3.348955e-37</td>\n",
       "      <td>36.475091</td>\n",
       "    </tr>\n",
       "    <tr>\n",
       "      <th>3</th>\n",
       "      <td>PIAS3</td>\n",
       "      <td>0.009243</td>\n",
       "      <td>1.749945e-03</td>\n",
       "      <td>2.756975</td>\n",
       "    </tr>\n",
       "    <tr>\n",
       "      <th>4</th>\n",
       "      <td>RELB</td>\n",
       "      <td>0.006871</td>\n",
       "      <td>5.860634e-04</td>\n",
       "      <td>3.232055</td>\n",
       "    </tr>\n",
       "    <tr>\n",
       "      <th>...</th>\n",
       "      <td>...</td>\n",
       "      <td>...</td>\n",
       "      <td>...</td>\n",
       "      <td>...</td>\n",
       "    </tr>\n",
       "    <tr>\n",
       "      <th>564</th>\n",
       "      <td>CTCF</td>\n",
       "      <td>0.016217</td>\n",
       "      <td>4.595198e-12</td>\n",
       "      <td>11.337696</td>\n",
       "    </tr>\n",
       "    <tr>\n",
       "      <th>565</th>\n",
       "      <td>HMGXB4</td>\n",
       "      <td>-0.027201</td>\n",
       "      <td>4.256478e-23</td>\n",
       "      <td>22.370950</td>\n",
       "    </tr>\n",
       "    <tr>\n",
       "      <th>566</th>\n",
       "      <td>NFX1</td>\n",
       "      <td>0.025137</td>\n",
       "      <td>9.745075e-24</td>\n",
       "      <td>23.011215</td>\n",
       "    </tr>\n",
       "    <tr>\n",
       "      <th>567</th>\n",
       "      <td>LYL1</td>\n",
       "      <td>0.018275</td>\n",
       "      <td>3.630642e-16</td>\n",
       "      <td>15.440017</td>\n",
       "    </tr>\n",
       "    <tr>\n",
       "      <th>568</th>\n",
       "      <td>RCOR1</td>\n",
       "      <td>-0.010754</td>\n",
       "      <td>2.530580e-06</td>\n",
       "      <td>5.596780</td>\n",
       "    </tr>\n",
       "  </tbody>\n",
       "</table>\n",
       "<p>569 rows × 4 columns</p>\n",
       "</div>"
      ],
      "text/plain": [
       "         tf      corr            pv   log10(P)\n",
       "0      ZEB1 -0.010754  1.822114e-05   4.739424\n",
       "1    ZNF576 -0.003043  2.700190e-01   0.568606\n",
       "2       ID3 -0.020673  3.348955e-37  36.475091\n",
       "3     PIAS3  0.009243  1.749945e-03   2.756975\n",
       "4      RELB  0.006871  5.860634e-04   3.232055\n",
       "..      ...       ...           ...        ...\n",
       "564    CTCF  0.016217  4.595198e-12  11.337696\n",
       "565  HMGXB4 -0.027201  4.256478e-23  22.370950\n",
       "566    NFX1  0.025137  9.745075e-24  23.011215\n",
       "567    LYL1  0.018275  3.630642e-16  15.440017\n",
       "568   RCOR1 -0.010754  2.530580e-06   5.596780\n",
       "\n",
       "[569 rows x 4 columns]"
      ]
     },
     "execution_count": 145,
     "metadata": {},
     "output_type": "execute_result"
    }
   ],
   "source": [
    "df"
   ]
  },
  {
   "cell_type": "markdown",
   "id": "795cf338",
   "metadata": {},
   "source": [
    "### same as HBEC analysisa"
   ]
  },
  {
   "cell_type": "code",
   "execution_count": 128,
   "id": "9e5f5000",
   "metadata": {},
   "outputs": [],
   "source": [
    "tf_df = pd.read_csv('../ifn_hbec/version3/baseline/human_tf.txt', sep='\\t')\n",
    "tf_df = tf_df.query('Family != \"Others\"')\n",
    "tf_list = tf_df['Symbol'].tolist()\n",
    "tf_list += ['CIITA', 'NLRC5']"
   ]
  },
  {
   "cell_type": "code",
   "execution_count": 129,
   "id": "84240ce1",
   "metadata": {},
   "outputs": [],
   "source": [
    "def get_2d_ht(g, de_genes):\n",
    "    \n",
    "    subset = adata.copy().copy()\n",
    "\n",
    "    subset = adata[adata.obs['gene'].isin(['NT', g]) & (adata.obs['treatment']=='tx')].copy().copy()\n",
    "\n",
    "    subset.obs['is_ko'] = subset.obs.guide_ID.str.contains(g).astype(int).values\n",
    "\n",
    "    memento.create_groups(subset, label_columns=['is_ko', 'replicate'])\n",
    "\n",
    "    memento.compute_1d_moments(subset, min_perc_group=.7)\n",
    "\n",
    "    available_tfs = list(set(tf_list) & set(subset.var.index))\n",
    "    available_targets = list(set(thp1_isgs) & set(subset.var.index))\n",
    "    memento.compute_2d_moments(subset, list(itertools.product(available_tfs, available_targets))   )\n",
    "    \n",
    "    return available_tfs, memento.get_2d_moments(subset, groupby='is_ko')"
   ]
  },
  {
   "cell_type": "code",
   "execution_count": 130,
   "id": "1a010097",
   "metadata": {},
   "outputs": [
    {
     "name": "stderr",
     "output_type": "stream",
     "text": [
      "/home/ssm-user/anaconda3/envs/single_cell/lib/python3.8/site-packages/pandas/core/arrays/categorical.py:2487: FutureWarning: The `inplace` parameter in pandas.Categorical.remove_unused_categories is deprecated and will be removed in a future version.\n",
      "  res = method(*args, **kwargs)\n"
     ]
    }
   ],
   "source": [
    "available_tfs, ko_result = get_2d_ht('STAT1', thp1_isgs)"
   ]
  },
  {
   "cell_type": "code",
   "execution_count": 131,
   "id": "c1f669db",
   "metadata": {},
   "outputs": [],
   "source": [
    "ko_result['diff'] = ko_result['is_ko_1'] - ko_result['is_ko_0']"
   ]
  },
  {
   "cell_type": "code",
   "execution_count": 132,
   "id": "d9edf324",
   "metadata": {},
   "outputs": [],
   "source": [
    "df = []\n",
    "for tf in available_tfs:\n",
    "    pv = stats.ttest_1samp(ko_result.query('gene_1 == \"{}\"'.format(tf)).dropna()['diff'].values, popmean=0)[1]\n",
    "    corr = ko_result.query('gene_1 == \"{}\"'.format(tf)).dropna()['diff'].values.mean()\n",
    "    df.append((tf, corr, pv))    \n",
    "    \n",
    "df = pd.DataFrame(df, columns=['tf','corr', 'pv'])"
   ]
  },
  {
   "cell_type": "code",
   "execution_count": 135,
   "id": "77670163",
   "metadata": {},
   "outputs": [
    {
     "name": "stderr",
     "output_type": "stream",
     "text": [
      "/home/ssm-user/anaconda3/envs/single_cell/lib/python3.8/site-packages/pandas/core/arraylike.py:358: RuntimeWarning: divide by zero encountered in log10\n",
      "  result = getattr(ufunc, method)(*inputs, **kwargs)\n"
     ]
    }
   ],
   "source": [
    "df['log10(P)'] = -np.log10(df['pv'])"
   ]
  },
  {
   "cell_type": "code",
   "execution_count": 136,
   "id": "b72ab5f5",
   "metadata": {},
   "outputs": [
    {
     "data": {
      "text/plain": [
       "Text(0, 0.5, '-log10(P-value)')"
      ]
     },
     "execution_count": 136,
     "metadata": {},
     "output_type": "execute_result"
    },
    {
     "data": {
      "image/png": "[encoded data removed]",
      "text/plain": [
       "<Figure size 144x144 with 1 Axes>"
      ]
     },
     "metadata": {
      "needs_background": "light"
     },
     "output_type": "display_data"
    }
   ],
   "source": [
    "plt.figure(figsize=(2,2))\n",
    "plt.scatter(df['corr'], df['log10(P)'], s=3, color='k')\n",
    "plt.xlabel('Avg. corr with ISGs\\nat baseline'); plt.ylabel('-log10(P-value)')\n",
    "# plt.savefig('figures/control_tf_volcano.png', bbox_inches='tight', dpi=1000)"
   ]
  },
  {
   "cell_type": "markdown",
   "id": "ca00f15c",
   "metadata": {},
   "source": [
    "### Read self coexpression results"
   ]
  },
  {
   "cell_type": "code",
   "execution_count": 36,
   "id": "bfcb76ca",
   "metadata": {},
   "outputs": [
    {
     "name": "stdout",
     "output_type": "stream",
     "text": [
      "IFNGR2 0\n",
      "IFNGR1 137\n",
      "JAK2 42\n",
      "BRD4 0\n",
      "SMAD4 0\n",
      "STAT1 90\n",
      "IRF1 51\n",
      "STAT2 0\n",
      "CUL3 1\n",
      "MYC 0\n",
      "SPI1 0\n"
     ]
    }
   ],
   "source": [
    "self_results = {}\n",
    "for g in ko_genes:\n",
    "#     print(g)\n",
    "    if g == 'NT': continue\n",
    "    try:\n",
    "        subset = sc.read(data_path +'2d/{}_with_{}_KO.h5ad'.format(g,g))\n",
    "    except:\n",
    "        continue\n",
    "    df = memento.get_2d_ht_result(subset)\n",
    "    moments = memento.get_2d_moments(subset, groupby='is_ko')\n",
    "    df = df.merge(moments, on=['gene_1', 'gene_2']).query('is_ko_0 > 0.3 | is_ko_0 < -0.3')\n",
    "    df['corr_fdr'] = memento.util._fdrcorrect(df['corr_pval'])\n",
    "    self_results[g] = df.copy()\n",
    "    print(g, self_results[g].query('corr_fdr < 0.1 & ( (corr_coef < 0 & is_ko_0 > 0.3) | (corr_coef > 0 & is_ko_0 < -.3) )').shape[0])"
   ]
  },
  {
   "cell_type": "markdown",
   "id": "f20016b2",
   "metadata": {},
   "source": [
    "### Run 2D memento for self-DC genes"
   ]
  },
  {
   "cell_type": "code",
   "execution_count": 38,
   "id": "4f86815e",
   "metadata": {},
   "outputs": [
    {
     "name": "stdout",
     "output_type": "stream",
     "text": [
      "IFNGR2 IFNGR2\n",
      "IFNGR2 IFNGR1\n",
      "IFNGR2 JAK2\n",
      "IFNGR2 BRD4\n",
      "IFNGR2 SMAD4\n"
     ]
    },
    {
     "name": "stderr",
     "output_type": "stream",
     "text": [
      "/home/ssm-user/anaconda3/envs/single_cell/lib/python3.8/site-packages/pandas/core/arrays/categorical.py:2487: FutureWarning: The `inplace` parameter in pandas.Categorical.remove_unused_categories is deprecated and will be removed in a future version.\n",
      "  res = method(*args, **kwargs)\n"
     ]
    },
    {
     "name": "stdout",
     "output_type": "stream",
     "text": [
      "IFNGR2 STAT1\n",
      "IFNGR2 IRF1\n",
      "IFNGR2 STAT2\n",
      "IFNGR2 CUL3\n",
      "IFNGR2 MYC\n",
      "IFNGR2 SPI1\n",
      "IFNGR1 IFNGR2\n"
     ]
    },
    {
     "name": "stderr",
     "output_type": "stream",
     "text": [
      "[Parallel(n_jobs=94)]: Using backend LokyBackend with 94 concurrent workers.\n",
      "[Parallel(n_jobs=94)]: Done  88 out of 137 | elapsed:   20.5s remaining:   11.4s\n",
      "[Parallel(n_jobs=94)]: Done 137 out of 137 | elapsed:   27.8s finished\n",
      "... storing 'memento_group' as categorical\n"
     ]
    },
    {
     "name": "stdout",
     "output_type": "stream",
     "text": [
      "IFNGR1 IFNGR1\n",
      "IFNGR1 JAK2\n"
     ]
    },
    {
     "name": "stderr",
     "output_type": "stream",
     "text": [
      "/home/ssm-user/anaconda3/envs/single_cell/lib/python3.8/site-packages/pandas/core/arrays/categorical.py:2487: FutureWarning: The `inplace` parameter in pandas.Categorical.remove_unused_categories is deprecated and will be removed in a future version.\n",
      "  res = method(*args, **kwargs)\n",
      "[Parallel(n_jobs=94)]: Using backend LokyBackend with 94 concurrent workers.\n",
      "[Parallel(n_jobs=94)]: Done  88 out of 137 | elapsed:   14.7s remaining:    8.2s\n",
      "[Parallel(n_jobs=94)]: Done 137 out of 137 | elapsed:   21.7s finished\n",
      "... storing 'memento_group' as categorical\n"
     ]
    },
    {
     "name": "stdout",
     "output_type": "stream",
     "text": [
      "IFNGR1 BRD4\n"
     ]
    },
    {
     "name": "stderr",
     "output_type": "stream",
     "text": [
      "/home/ssm-user/anaconda3/envs/single_cell/lib/python3.8/site-packages/pandas/core/arrays/categorical.py:2487: FutureWarning: The `inplace` parameter in pandas.Categorical.remove_unused_categories is deprecated and will be removed in a future version.\n",
      "  res = method(*args, **kwargs)\n",
      "[Parallel(n_jobs=94)]: Using backend LokyBackend with 94 concurrent workers.\n",
      "[Parallel(n_jobs=94)]: Done  86 out of 136 | elapsed:   13.7s remaining:    7.9s\n",
      "[Parallel(n_jobs=94)]: Done 136 out of 136 | elapsed:   19.9s finished\n",
      "... storing 'memento_group' as categorical\n"
     ]
    },
    {
     "name": "stdout",
     "output_type": "stream",
     "text": [
      "IFNGR1 SMAD4\n"
     ]
    },
    {
     "name": "stderr",
     "output_type": "stream",
     "text": [
      "/home/ssm-user/anaconda3/envs/single_cell/lib/python3.8/site-packages/pandas/core/arrays/categorical.py:2487: FutureWarning: The `inplace` parameter in pandas.Categorical.remove_unused_categories is deprecated and will be removed in a future version.\n",
      "  res = method(*args, **kwargs)\n",
      "[Parallel(n_jobs=94)]: Using backend LokyBackend with 94 concurrent workers.\n",
      "[Parallel(n_jobs=94)]: Done  86 out of 136 | elapsed:   15.1s remaining:    8.8s\n",
      "[Parallel(n_jobs=94)]: Done 136 out of 136 | elapsed:   21.3s finished\n",
      "... storing 'memento_group' as categorical\n"
     ]
    },
    {
     "name": "stdout",
     "output_type": "stream",
     "text": [
      "IFNGR1 STAT1\n"
     ]
    },
    {
     "name": "stderr",
     "output_type": "stream",
     "text": [
      "/home/ssm-user/anaconda3/envs/single_cell/lib/python3.8/site-packages/pandas/core/arrays/categorical.py:2487: FutureWarning: The `inplace` parameter in pandas.Categorical.remove_unused_categories is deprecated and will be removed in a future version.\n",
      "  res = method(*args, **kwargs)\n",
      "[Parallel(n_jobs=94)]: Using backend LokyBackend with 94 concurrent workers.\n",
      "[Parallel(n_jobs=94)]: Done  88 out of 137 | elapsed:   13.3s remaining:    7.4s\n",
      "[Parallel(n_jobs=94)]: Done 137 out of 137 | elapsed:   18.8s finished\n",
      "... storing 'memento_group' as categorical\n"
     ]
    },
    {
     "name": "stdout",
     "output_type": "stream",
     "text": [
      "IFNGR1 IRF1\n"
     ]
    },
    {
     "name": "stderr",
     "output_type": "stream",
     "text": [
      "/home/ssm-user/anaconda3/envs/single_cell/lib/python3.8/site-packages/pandas/core/arrays/categorical.py:2487: FutureWarning: The `inplace` parameter in pandas.Categorical.remove_unused_categories is deprecated and will be removed in a future version.\n",
      "  res = method(*args, **kwargs)\n",
      "[Parallel(n_jobs=94)]: Using backend LokyBackend with 94 concurrent workers.\n",
      "[Parallel(n_jobs=94)]: Done  88 out of 137 | elapsed:   15.2s remaining:    8.5s\n",
      "[Parallel(n_jobs=94)]: Done 137 out of 137 | elapsed:   21.2s finished\n",
      "... storing 'memento_group' as categorical\n"
     ]
    },
    {
     "name": "stdout",
     "output_type": "stream",
     "text": [
      "IFNGR1 STAT2\n"
     ]
    },
    {
     "name": "stderr",
     "output_type": "stream",
     "text": [
      "/home/ssm-user/anaconda3/envs/single_cell/lib/python3.8/site-packages/pandas/core/arrays/categorical.py:2487: FutureWarning: The `inplace` parameter in pandas.Categorical.remove_unused_categories is deprecated and will be removed in a future version.\n",
      "  res = method(*args, **kwargs)\n",
      "[Parallel(n_jobs=94)]: Using backend LokyBackend with 94 concurrent workers.\n",
      "[Parallel(n_jobs=94)]: Done  88 out of 137 | elapsed:   15.9s remaining:    8.8s\n",
      "[Parallel(n_jobs=94)]: Done 137 out of 137 | elapsed:   22.6s finished\n",
      "... storing 'memento_group' as categorical\n"
     ]
    },
    {
     "name": "stdout",
     "output_type": "stream",
     "text": [
      "IFNGR1 CUL3\n"
     ]
    },
    {
     "name": "stderr",
     "output_type": "stream",
     "text": [
      "/home/ssm-user/anaconda3/envs/single_cell/lib/python3.8/site-packages/pandas/core/arrays/categorical.py:2487: FutureWarning: The `inplace` parameter in pandas.Categorical.remove_unused_categories is deprecated and will be removed in a future version.\n",
      "  res = method(*args, **kwargs)\n",
      "[Parallel(n_jobs=94)]: Using backend LokyBackend with 94 concurrent workers.\n",
      "[Parallel(n_jobs=94)]: Done  86 out of 136 | elapsed:   14.4s remaining:    8.3s\n",
      "[Parallel(n_jobs=94)]: Done 136 out of 136 | elapsed:   20.1s finished\n",
      "... storing 'memento_group' as categorical\n"
     ]
    },
    {
     "name": "stdout",
     "output_type": "stream",
     "text": [
      "IFNGR1 MYC\n"
     ]
    },
    {
     "name": "stderr",
     "output_type": "stream",
     "text": [
      "/home/ssm-user/anaconda3/envs/single_cell/lib/python3.8/site-packages/pandas/core/arrays/categorical.py:2487: FutureWarning: The `inplace` parameter in pandas.Categorical.remove_unused_categories is deprecated and will be removed in a future version.\n",
      "  res = method(*args, **kwargs)\n",
      "[Parallel(n_jobs=94)]: Using backend LokyBackend with 94 concurrent workers.\n",
      "[Parallel(n_jobs=94)]: Done  84 out of 135 | elapsed:   11.1s remaining:    6.7s\n",
      "[Parallel(n_jobs=94)]: Done 135 out of 135 | elapsed:   15.8s finished\n",
      "... storing 'memento_group' as categorical\n"
     ]
    },
    {
     "name": "stdout",
     "output_type": "stream",
     "text": [
      "IFNGR1 SPI1\n"
     ]
    },
    {
     "name": "stderr",
     "output_type": "stream",
     "text": [
      "/home/ssm-user/anaconda3/envs/single_cell/lib/python3.8/site-packages/pandas/core/arrays/categorical.py:2487: FutureWarning: The `inplace` parameter in pandas.Categorical.remove_unused_categories is deprecated and will be removed in a future version.\n",
      "  res = method(*args, **kwargs)\n"
     ]
    },
    {
     "name": "stdout",
     "output_type": "stream",
     "text": [
      "JAK2 IFNGR2\n"
     ]
    },
    {
     "name": "stderr",
     "output_type": "stream",
     "text": [
      "[Parallel(n_jobs=94)]: Using backend LokyBackend with 94 concurrent workers.\n",
      "[Parallel(n_jobs=94)]: Done  27 out of  42 | elapsed:    7.0s remaining:    3.9s\n",
      "[Parallel(n_jobs=94)]: Done  42 out of  42 | elapsed:   10.3s finished\n",
      "... storing 'memento_group' as categorical\n"
     ]
    },
    {
     "name": "stdout",
     "output_type": "stream",
     "text": [
      "JAK2 IFNGR1\n"
     ]
    },
    {
     "name": "stderr",
     "output_type": "stream",
     "text": [
      "/home/ssm-user/anaconda3/envs/single_cell/lib/python3.8/site-packages/pandas/core/arrays/categorical.py:2487: FutureWarning: The `inplace` parameter in pandas.Categorical.remove_unused_categories is deprecated and will be removed in a future version.\n",
      "  res = method(*args, **kwargs)\n",
      "[Parallel(n_jobs=94)]: Using backend LokyBackend with 94 concurrent workers.\n",
      "[Parallel(n_jobs=94)]: Done  27 out of  42 | elapsed:    6.5s remaining:    3.6s\n",
      "[Parallel(n_jobs=94)]: Done  42 out of  42 | elapsed:    9.5s finished\n",
      "... storing 'memento_group' as categorical\n"
     ]
    },
    {
     "name": "stdout",
     "output_type": "stream",
     "text": [
      "JAK2 JAK2\n",
      "JAK2 BRD4\n"
     ]
    },
    {
     "name": "stderr",
     "output_type": "stream",
     "text": [
      "/home/ssm-user/anaconda3/envs/single_cell/lib/python3.8/site-packages/pandas/core/arrays/categorical.py:2487: FutureWarning: The `inplace` parameter in pandas.Categorical.remove_unused_categories is deprecated and will be removed in a future version.\n",
      "  res = method(*args, **kwargs)\n",
      "[Parallel(n_jobs=94)]: Using backend LokyBackend with 94 concurrent workers.\n",
      "[Parallel(n_jobs=94)]: Done  27 out of  42 | elapsed:    6.0s remaining:    3.3s\n",
      "[Parallel(n_jobs=94)]: Done  42 out of  42 | elapsed:    9.3s finished\n",
      "... storing 'memento_group' as categorical\n"
     ]
    },
    {
     "name": "stdout",
     "output_type": "stream",
     "text": [
      "JAK2 SMAD4\n"
     ]
    },
    {
     "name": "stderr",
     "output_type": "stream",
     "text": [
      "/home/ssm-user/anaconda3/envs/single_cell/lib/python3.8/site-packages/pandas/core/arrays/categorical.py:2487: FutureWarning: The `inplace` parameter in pandas.Categorical.remove_unused_categories is deprecated and will be removed in a future version.\n",
      "  res = method(*args, **kwargs)\n",
      "[Parallel(n_jobs=94)]: Using backend LokyBackend with 94 concurrent workers.\n",
      "[Parallel(n_jobs=94)]: Done  27 out of  42 | elapsed:    6.8s remaining:    3.8s\n",
      "[Parallel(n_jobs=94)]: Done  42 out of  42 | elapsed:    9.9s finished\n",
      "... storing 'memento_group' as categorical\n"
     ]
    },
    {
     "name": "stdout",
     "output_type": "stream",
     "text": [
      "JAK2 STAT1\n"
     ]
    },
    {
     "name": "stderr",
     "output_type": "stream",
     "text": [
      "/home/ssm-user/anaconda3/envs/single_cell/lib/python3.8/site-packages/pandas/core/arrays/categorical.py:2487: FutureWarning: The `inplace` parameter in pandas.Categorical.remove_unused_categories is deprecated and will be removed in a future version.\n",
      "  res = method(*args, **kwargs)\n",
      "[Parallel(n_jobs=94)]: Using backend LokyBackend with 94 concurrent workers.\n",
      "[Parallel(n_jobs=94)]: Done  27 out of  42 | elapsed:    5.8s remaining:    3.2s\n",
      "[Parallel(n_jobs=94)]: Done  42 out of  42 | elapsed:    8.8s finished\n",
      "... storing 'memento_group' as categorical\n"
     ]
    },
    {
     "name": "stdout",
     "output_type": "stream",
     "text": [
      "JAK2 IRF1\n"
     ]
    },
    {
     "name": "stderr",
     "output_type": "stream",
     "text": [
      "/home/ssm-user/anaconda3/envs/single_cell/lib/python3.8/site-packages/pandas/core/arrays/categorical.py:2487: FutureWarning: The `inplace` parameter in pandas.Categorical.remove_unused_categories is deprecated and will be removed in a future version.\n",
      "  res = method(*args, **kwargs)\n",
      "[Parallel(n_jobs=94)]: Using backend LokyBackend with 94 concurrent workers.\n",
      "[Parallel(n_jobs=94)]: Done  27 out of  42 | elapsed:    6.9s remaining:    3.8s\n",
      "[Parallel(n_jobs=94)]: Done  42 out of  42 | elapsed:   10.0s finished\n",
      "... storing 'memento_group' as categorical\n"
     ]
    },
    {
     "name": "stdout",
     "output_type": "stream",
     "text": [
      "JAK2 STAT2\n"
     ]
    },
    {
     "name": "stderr",
     "output_type": "stream",
     "text": [
      "/home/ssm-user/anaconda3/envs/single_cell/lib/python3.8/site-packages/pandas/core/arrays/categorical.py:2487: FutureWarning: The `inplace` parameter in pandas.Categorical.remove_unused_categories is deprecated and will be removed in a future version.\n",
      "  res = method(*args, **kwargs)\n",
      "[Parallel(n_jobs=94)]: Using backend LokyBackend with 94 concurrent workers.\n",
      "[Parallel(n_jobs=94)]: Done  27 out of  42 | elapsed:    7.0s remaining:    3.9s\n",
      "[Parallel(n_jobs=94)]: Done  42 out of  42 | elapsed:   10.1s finished\n",
      "... storing 'memento_group' as categorical\n"
     ]
    },
    {
     "name": "stdout",
     "output_type": "stream",
     "text": [
      "JAK2 CUL3\n"
     ]
    },
    {
     "name": "stderr",
     "output_type": "stream",
     "text": [
      "/home/ssm-user/anaconda3/envs/single_cell/lib/python3.8/site-packages/pandas/core/arrays/categorical.py:2487: FutureWarning: The `inplace` parameter in pandas.Categorical.remove_unused_categories is deprecated and will be removed in a future version.\n",
      "  res = method(*args, **kwargs)\n",
      "[Parallel(n_jobs=94)]: Using backend LokyBackend with 94 concurrent workers.\n",
      "[Parallel(n_jobs=94)]: Done  22 out of  41 | elapsed:    5.8s remaining:    5.0s\n",
      "[Parallel(n_jobs=94)]: Done  41 out of  41 | elapsed:    9.1s finished\n",
      "... storing 'memento_group' as categorical\n"
     ]
    },
    {
     "name": "stdout",
     "output_type": "stream",
     "text": [
      "JAK2 MYC\n"
     ]
    },
    {
     "name": "stderr",
     "output_type": "stream",
     "text": [
      "/home/ssm-user/anaconda3/envs/single_cell/lib/python3.8/site-packages/pandas/core/arrays/categorical.py:2487: FutureWarning: The `inplace` parameter in pandas.Categorical.remove_unused_categories is deprecated and will be removed in a future version.\n",
      "  res = method(*args, **kwargs)\n",
      "[Parallel(n_jobs=94)]: Using backend LokyBackend with 94 concurrent workers.\n",
      "[Parallel(n_jobs=94)]: Done  17 out of  40 | elapsed:    5.4s remaining:    7.3s\n",
      "[Parallel(n_jobs=94)]: Done  40 out of  40 | elapsed:    8.8s finished\n",
      "... storing 'memento_group' as categorical\n"
     ]
    },
    {
     "name": "stdout",
     "output_type": "stream",
     "text": [
      "JAK2 SPI1\n"
     ]
    },
    {
     "name": "stderr",
     "output_type": "stream",
     "text": [
      "/home/ssm-user/anaconda3/envs/single_cell/lib/python3.8/site-packages/pandas/core/arrays/categorical.py:2487: FutureWarning: The `inplace` parameter in pandas.Categorical.remove_unused_categories is deprecated and will be removed in a future version.\n",
      "  res = method(*args, **kwargs)\n",
      "[Parallel(n_jobs=94)]: Using backend LokyBackend with 94 concurrent workers.\n",
      "[Parallel(n_jobs=94)]: Done  16 out of  33 | elapsed:    4.7s remaining:    5.0s\n",
      "[Parallel(n_jobs=94)]: Done  33 out of  33 | elapsed:    8.2s finished\n",
      "... storing 'memento_group' as categorical\n"
     ]
    },
    {
     "name": "stdout",
     "output_type": "stream",
     "text": [
      "BRD4 IFNGR2\n"
     ]
    },
    {
     "name": "stderr",
     "output_type": "stream",
     "text": [
      "/home/ssm-user/anaconda3/envs/single_cell/lib/python3.8/site-packages/pandas/core/arrays/categorical.py:2487: FutureWarning: The `inplace` parameter in pandas.Categorical.remove_unused_categories is deprecated and will be removed in a future version.\n",
      "  res = method(*args, **kwargs)\n"
     ]
    },
    {
     "name": "stdout",
     "output_type": "stream",
     "text": [
      "BRD4 IFNGR1\n",
      "BRD4 JAK2\n",
      "BRD4 BRD4\n",
      "BRD4 SMAD4\n",
      "BRD4 STAT1\n",
      "BRD4 IRF1\n",
      "BRD4 STAT2\n",
      "BRD4 CUL3\n",
      "BRD4 MYC\n",
      "BRD4 SPI1\n",
      "SMAD4 IFNGR2\n",
      "SMAD4 IFNGR1\n",
      "SMAD4 JAK2\n",
      "SMAD4 BRD4\n",
      "SMAD4 SMAD4\n",
      "SMAD4 STAT1\n",
      "SMAD4 IRF1\n",
      "SMAD4 STAT2\n",
      "SMAD4 CUL3\n",
      "SMAD4 MYC\n",
      "SMAD4 SPI1\n",
      "STAT1 IFNGR2\n"
     ]
    },
    {
     "name": "stderr",
     "output_type": "stream",
     "text": [
      "[Parallel(n_jobs=94)]: Using backend LokyBackend with 94 concurrent workers.\n",
      "[Parallel(n_jobs=94)]: Done  85 out of  90 | elapsed:   29.0s remaining:    1.7s\n",
      "[Parallel(n_jobs=94)]: Done  90 out of  90 | elapsed:   30.4s finished\n",
      "... storing 'memento_group' as categorical\n"
     ]
    },
    {
     "name": "stdout",
     "output_type": "stream",
     "text": [
      "STAT1 IFNGR1\n"
     ]
    },
    {
     "name": "stderr",
     "output_type": "stream",
     "text": [
      "/home/ssm-user/anaconda3/envs/single_cell/lib/python3.8/site-packages/pandas/core/arrays/categorical.py:2487: FutureWarning: The `inplace` parameter in pandas.Categorical.remove_unused_categories is deprecated and will be removed in a future version.\n",
      "  res = method(*args, **kwargs)\n",
      "[Parallel(n_jobs=94)]: Using backend LokyBackend with 94 concurrent workers.\n",
      "[Parallel(n_jobs=94)]: Done  85 out of  90 | elapsed:   26.9s remaining:    1.6s\n",
      "[Parallel(n_jobs=94)]: Done  90 out of  90 | elapsed:   28.1s finished\n",
      "... storing 'memento_group' as categorical\n"
     ]
    },
    {
     "name": "stdout",
     "output_type": "stream",
     "text": [
      "STAT1 JAK2\n"
     ]
    },
    {
     "name": "stderr",
     "output_type": "stream",
     "text": [
      "/home/ssm-user/anaconda3/envs/single_cell/lib/python3.8/site-packages/pandas/core/arrays/categorical.py:2487: FutureWarning: The `inplace` parameter in pandas.Categorical.remove_unused_categories is deprecated and will be removed in a future version.\n",
      "  res = method(*args, **kwargs)\n",
      "[Parallel(n_jobs=94)]: Using backend LokyBackend with 94 concurrent workers.\n",
      "[Parallel(n_jobs=94)]: Done  85 out of  90 | elapsed:   25.9s remaining:    1.5s\n",
      "[Parallel(n_jobs=94)]: Done  90 out of  90 | elapsed:   27.2s finished\n",
      "... storing 'memento_group' as categorical\n"
     ]
    },
    {
     "name": "stdout",
     "output_type": "stream",
     "text": [
      "STAT1 BRD4\n"
     ]
    },
    {
     "name": "stderr",
     "output_type": "stream",
     "text": [
      "/home/ssm-user/anaconda3/envs/single_cell/lib/python3.8/site-packages/pandas/core/arrays/categorical.py:2487: FutureWarning: The `inplace` parameter in pandas.Categorical.remove_unused_categories is deprecated and will be removed in a future version.\n",
      "  res = method(*args, **kwargs)\n",
      "[Parallel(n_jobs=94)]: Using backend LokyBackend with 94 concurrent workers.\n",
      "[Parallel(n_jobs=94)]: Done  82 out of  89 | elapsed:   23.6s remaining:    2.0s\n",
      "[Parallel(n_jobs=94)]: Done  89 out of  89 | elapsed:   24.8s finished\n",
      "... storing 'memento_group' as categorical\n"
     ]
    },
    {
     "name": "stdout",
     "output_type": "stream",
     "text": [
      "STAT1 SMAD4\n"
     ]
    },
    {
     "name": "stderr",
     "output_type": "stream",
     "text": [
      "/home/ssm-user/anaconda3/envs/single_cell/lib/python3.8/site-packages/pandas/core/arrays/categorical.py:2487: FutureWarning: The `inplace` parameter in pandas.Categorical.remove_unused_categories is deprecated and will be removed in a future version.\n",
      "  res = method(*args, **kwargs)\n",
      "[Parallel(n_jobs=94)]: Using backend LokyBackend with 94 concurrent workers.\n",
      "[Parallel(n_jobs=94)]: Done  85 out of  90 | elapsed:   25.0s remaining:    1.5s\n",
      "[Parallel(n_jobs=94)]: Done  90 out of  90 | elapsed:   26.1s finished\n",
      "... storing 'memento_group' as categorical\n"
     ]
    },
    {
     "name": "stdout",
     "output_type": "stream",
     "text": [
      "STAT1 STAT1\n",
      "STAT1 IRF1\n"
     ]
    },
    {
     "name": "stderr",
     "output_type": "stream",
     "text": [
      "/home/ssm-user/anaconda3/envs/single_cell/lib/python3.8/site-packages/pandas/core/arrays/categorical.py:2487: FutureWarning: The `inplace` parameter in pandas.Categorical.remove_unused_categories is deprecated and will be removed in a future version.\n",
      "  res = method(*args, **kwargs)\n",
      "[Parallel(n_jobs=94)]: Using backend LokyBackend with 94 concurrent workers.\n",
      "[Parallel(n_jobs=94)]: Done  85 out of  90 | elapsed:   24.9s remaining:    1.5s\n",
      "[Parallel(n_jobs=94)]: Done  90 out of  90 | elapsed:   26.1s finished\n",
      "... storing 'memento_group' as categorical\n"
     ]
    },
    {
     "name": "stdout",
     "output_type": "stream",
     "text": [
      "STAT1 STAT2\n"
     ]
    },
    {
     "name": "stderr",
     "output_type": "stream",
     "text": [
      "/home/ssm-user/anaconda3/envs/single_cell/lib/python3.8/site-packages/pandas/core/arrays/categorical.py:2487: FutureWarning: The `inplace` parameter in pandas.Categorical.remove_unused_categories is deprecated and will be removed in a future version.\n",
      "  res = method(*args, **kwargs)\n",
      "[Parallel(n_jobs=94)]: Using backend LokyBackend with 94 concurrent workers.\n",
      "[Parallel(n_jobs=94)]: Done  85 out of  90 | elapsed:   25.7s remaining:    1.5s\n",
      "[Parallel(n_jobs=94)]: Done  90 out of  90 | elapsed:   26.6s finished\n",
      "... storing 'memento_group' as categorical\n"
     ]
    },
    {
     "name": "stdout",
     "output_type": "stream",
     "text": [
      "STAT1 CUL3\n"
     ]
    },
    {
     "name": "stderr",
     "output_type": "stream",
     "text": [
      "/home/ssm-user/anaconda3/envs/single_cell/lib/python3.8/site-packages/pandas/core/arrays/categorical.py:2487: FutureWarning: The `inplace` parameter in pandas.Categorical.remove_unused_categories is deprecated and will be removed in a future version.\n",
      "  res = method(*args, **kwargs)\n",
      "[Parallel(n_jobs=94)]: Using backend LokyBackend with 94 concurrent workers.\n",
      "[Parallel(n_jobs=94)]: Done  82 out of  89 | elapsed:   22.3s remaining:    1.9s\n",
      "[Parallel(n_jobs=94)]: Done  89 out of  89 | elapsed:   23.2s finished\n",
      "... storing 'memento_group' as categorical\n"
     ]
    },
    {
     "name": "stdout",
     "output_type": "stream",
     "text": [
      "STAT1 MYC\n"
     ]
    },
    {
     "name": "stderr",
     "output_type": "stream",
     "text": [
      "/home/ssm-user/anaconda3/envs/single_cell/lib/python3.8/site-packages/pandas/core/arrays/categorical.py:2487: FutureWarning: The `inplace` parameter in pandas.Categorical.remove_unused_categories is deprecated and will be removed in a future version.\n",
      "  res = method(*args, **kwargs)\n",
      "[Parallel(n_jobs=94)]: Using backend LokyBackend with 94 concurrent workers.\n",
      "[Parallel(n_jobs=94)]: Done  70 out of  85 | elapsed:   19.3s remaining:    4.1s\n",
      "[Parallel(n_jobs=94)]: Done  85 out of  85 | elapsed:   20.9s finished\n",
      "... storing 'memento_group' as categorical\n"
     ]
    },
    {
     "name": "stdout",
     "output_type": "stream",
     "text": [
      "STAT1 SPI1\n"
     ]
    },
    {
     "name": "stderr",
     "output_type": "stream",
     "text": [
      "/home/ssm-user/anaconda3/envs/single_cell/lib/python3.8/site-packages/pandas/core/arrays/categorical.py:2487: FutureWarning: The `inplace` parameter in pandas.Categorical.remove_unused_categories is deprecated and will be removed in a future version.\n",
      "  res = method(*args, **kwargs)\n",
      "[Parallel(n_jobs=94)]: Using backend LokyBackend with 94 concurrent workers.\n",
      "[Parallel(n_jobs=94)]: Done  25 out of  70 | elapsed:   11.3s remaining:   20.4s\n",
      "[Parallel(n_jobs=94)]: Done  70 out of  70 | elapsed:   16.4s finished\n",
      "... storing 'memento_group' as categorical\n"
     ]
    },
    {
     "name": "stdout",
     "output_type": "stream",
     "text": [
      "IRF1 IFNGR2\n"
     ]
    },
    {
     "name": "stderr",
     "output_type": "stream",
     "text": [
      "/home/ssm-user/anaconda3/envs/single_cell/lib/python3.8/site-packages/pandas/core/arrays/categorical.py:2487: FutureWarning: The `inplace` parameter in pandas.Categorical.remove_unused_categories is deprecated and will be removed in a future version.\n",
      "  res = method(*args, **kwargs)\n",
      "[Parallel(n_jobs=94)]: Using backend LokyBackend with 94 concurrent workers.\n",
      "[Parallel(n_jobs=94)]: Done  16 out of  50 | elapsed:   12.8s remaining:   27.2s\n",
      "[Parallel(n_jobs=94)]: Done  50 out of  50 | elapsed:   19.3s finished\n",
      "... storing 'memento_group' as categorical\n"
     ]
    },
    {
     "name": "stdout",
     "output_type": "stream",
     "text": [
      "IRF1 IFNGR1\n"
     ]
    },
    {
     "name": "stderr",
     "output_type": "stream",
     "text": [
      "/home/ssm-user/anaconda3/envs/single_cell/lib/python3.8/site-packages/pandas/core/arrays/categorical.py:2487: FutureWarning: The `inplace` parameter in pandas.Categorical.remove_unused_categories is deprecated and will be removed in a future version.\n",
      "  res = method(*args, **kwargs)\n",
      "[Parallel(n_jobs=94)]: Using backend LokyBackend with 94 concurrent workers.\n",
      "[Parallel(n_jobs=94)]: Done  16 out of  50 | elapsed:   11.9s remaining:   25.4s\n",
      "[Parallel(n_jobs=94)]: Done  50 out of  50 | elapsed:   18.4s finished\n",
      "... storing 'memento_group' as categorical\n"
     ]
    },
    {
     "name": "stdout",
     "output_type": "stream",
     "text": [
      "IRF1 JAK2\n"
     ]
    },
    {
     "name": "stderr",
     "output_type": "stream",
     "text": [
      "/home/ssm-user/anaconda3/envs/single_cell/lib/python3.8/site-packages/pandas/core/arrays/categorical.py:2487: FutureWarning: The `inplace` parameter in pandas.Categorical.remove_unused_categories is deprecated and will be removed in a future version.\n",
      "  res = method(*args, **kwargs)\n",
      "[Parallel(n_jobs=94)]: Using backend LokyBackend with 94 concurrent workers.\n",
      "[Parallel(n_jobs=94)]: Done  16 out of  50 | elapsed:   11.7s remaining:   24.9s\n",
      "[Parallel(n_jobs=94)]: Done  50 out of  50 | elapsed:   17.1s finished\n",
      "... storing 'memento_group' as categorical\n"
     ]
    },
    {
     "name": "stdout",
     "output_type": "stream",
     "text": [
      "IRF1 BRD4\n"
     ]
    },
    {
     "name": "stderr",
     "output_type": "stream",
     "text": [
      "/home/ssm-user/anaconda3/envs/single_cell/lib/python3.8/site-packages/pandas/core/arrays/categorical.py:2487: FutureWarning: The `inplace` parameter in pandas.Categorical.remove_unused_categories is deprecated and will be removed in a future version.\n",
      "  res = method(*args, **kwargs)\n",
      "[Parallel(n_jobs=94)]: Using backend LokyBackend with 94 concurrent workers.\n",
      "[Parallel(n_jobs=94)]: Done  20 out of  51 | elapsed:   12.5s remaining:   19.4s\n",
      "[Parallel(n_jobs=94)]: Done  51 out of  51 | elapsed:   17.0s finished\n",
      "... storing 'memento_group' as categorical\n"
     ]
    },
    {
     "name": "stdout",
     "output_type": "stream",
     "text": [
      "IRF1 SMAD4\n"
     ]
    },
    {
     "name": "stderr",
     "output_type": "stream",
     "text": [
      "/home/ssm-user/anaconda3/envs/single_cell/lib/python3.8/site-packages/pandas/core/arrays/categorical.py:2487: FutureWarning: The `inplace` parameter in pandas.Categorical.remove_unused_categories is deprecated and will be removed in a future version.\n",
      "  res = method(*args, **kwargs)\n",
      "[Parallel(n_jobs=94)]: Using backend LokyBackend with 94 concurrent workers.\n",
      "[Parallel(n_jobs=94)]: Done  20 out of  51 | elapsed:   13.3s remaining:   20.7s\n",
      "[Parallel(n_jobs=94)]: Done  51 out of  51 | elapsed:   16.9s finished\n",
      "... storing 'memento_group' as categorical\n"
     ]
    },
    {
     "name": "stdout",
     "output_type": "stream",
     "text": [
      "IRF1 STAT1\n"
     ]
    },
    {
     "name": "stderr",
     "output_type": "stream",
     "text": [
      "/home/ssm-user/anaconda3/envs/single_cell/lib/python3.8/site-packages/pandas/core/arrays/categorical.py:2487: FutureWarning: The `inplace` parameter in pandas.Categorical.remove_unused_categories is deprecated and will be removed in a future version.\n",
      "  res = method(*args, **kwargs)\n",
      "[Parallel(n_jobs=94)]: Using backend LokyBackend with 94 concurrent workers.\n",
      "[Parallel(n_jobs=94)]: Done  20 out of  51 | elapsed:   11.4s remaining:   17.7s\n",
      "[Parallel(n_jobs=94)]: Done  51 out of  51 | elapsed:   15.9s finished\n",
      "... storing 'memento_group' as categorical\n"
     ]
    },
    {
     "name": "stdout",
     "output_type": "stream",
     "text": [
      "IRF1 IRF1\n",
      "IRF1 STAT2\n"
     ]
    },
    {
     "name": "stderr",
     "output_type": "stream",
     "text": [
      "/home/ssm-user/anaconda3/envs/single_cell/lib/python3.8/site-packages/pandas/core/arrays/categorical.py:2487: FutureWarning: The `inplace` parameter in pandas.Categorical.remove_unused_categories is deprecated and will be removed in a future version.\n",
      "  res = method(*args, **kwargs)\n",
      "[Parallel(n_jobs=94)]: Using backend LokyBackend with 94 concurrent workers.\n",
      "[Parallel(n_jobs=94)]: Done  20 out of  51 | elapsed:   13.4s remaining:   20.7s\n",
      "[Parallel(n_jobs=94)]: Done  51 out of  51 | elapsed:   17.0s finished\n",
      "... storing 'memento_group' as categorical\n"
     ]
    },
    {
     "name": "stdout",
     "output_type": "stream",
     "text": [
      "IRF1 CUL3\n"
     ]
    },
    {
     "name": "stderr",
     "output_type": "stream",
     "text": [
      "/home/ssm-user/anaconda3/envs/single_cell/lib/python3.8/site-packages/pandas/core/arrays/categorical.py:2487: FutureWarning: The `inplace` parameter in pandas.Categorical.remove_unused_categories is deprecated and will be removed in a future version.\n",
      "  res = method(*args, **kwargs)\n",
      "[Parallel(n_jobs=94)]: Using backend LokyBackend with 94 concurrent workers.\n",
      "[Parallel(n_jobs=94)]: Done  20 out of  51 | elapsed:   12.5s remaining:   19.4s\n",
      "[Parallel(n_jobs=94)]: Done  51 out of  51 | elapsed:   16.3s finished\n",
      "... storing 'memento_group' as categorical\n"
     ]
    },
    {
     "name": "stdout",
     "output_type": "stream",
     "text": [
      "IRF1 MYC\n"
     ]
    },
    {
     "name": "stderr",
     "output_type": "stream",
     "text": [
      "/home/ssm-user/anaconda3/envs/single_cell/lib/python3.8/site-packages/pandas/core/arrays/categorical.py:2487: FutureWarning: The `inplace` parameter in pandas.Categorical.remove_unused_categories is deprecated and will be removed in a future version.\n",
      "  res = method(*args, **kwargs)\n",
      "[Parallel(n_jobs=94)]: Using backend LokyBackend with 94 concurrent workers.\n",
      "[Parallel(n_jobs=94)]: Done   1 tasks      | elapsed:    6.8s\n",
      "[Parallel(n_jobs=94)]: Done  12 out of  49 | elapsed:   10.1s remaining:   31.2s\n",
      "[Parallel(n_jobs=94)]: Done  49 out of  49 | elapsed:   14.1s finished\n",
      "... storing 'memento_group' as categorical\n"
     ]
    },
    {
     "name": "stdout",
     "output_type": "stream",
     "text": [
      "IRF1 SPI1\n"
     ]
    },
    {
     "name": "stderr",
     "output_type": "stream",
     "text": [
      "/home/ssm-user/anaconda3/envs/single_cell/lib/python3.8/site-packages/pandas/core/arrays/categorical.py:2487: FutureWarning: The `inplace` parameter in pandas.Categorical.remove_unused_categories is deprecated and will be removed in a future version.\n",
      "  res = method(*args, **kwargs)\n",
      "[Parallel(n_jobs=94)]: Using backend LokyBackend with 94 concurrent workers.\n",
      "[Parallel(n_jobs=94)]: Done   1 tasks      | elapsed:    5.5s\n",
      "[Parallel(n_jobs=94)]: Done  12 out of  49 | elapsed:    8.4s remaining:   26.0s\n",
      "[Parallel(n_jobs=94)]: Done  49 out of  49 | elapsed:   13.3s finished\n",
      "... storing 'memento_group' as categorical\n"
     ]
    },
    {
     "name": "stdout",
     "output_type": "stream",
     "text": [
      "STAT2 IFNGR2\n"
     ]
    },
    {
     "name": "stderr",
     "output_type": "stream",
     "text": [
      "/home/ssm-user/anaconda3/envs/single_cell/lib/python3.8/site-packages/pandas/core/arrays/categorical.py:2487: FutureWarning: The `inplace` parameter in pandas.Categorical.remove_unused_categories is deprecated and will be removed in a future version.\n",
      "  res = method(*args, **kwargs)\n"
     ]
    },
    {
     "name": "stdout",
     "output_type": "stream",
     "text": [
      "STAT2 IFNGR1\n",
      "STAT2 JAK2\n",
      "STAT2 BRD4\n",
      "STAT2 SMAD4\n",
      "STAT2 STAT1\n",
      "STAT2 IRF1\n",
      "STAT2 STAT2\n",
      "STAT2 CUL3\n",
      "STAT2 MYC\n",
      "STAT2 SPI1\n",
      "CUL3 IFNGR2\n",
      "CUL3 IFNGR1\n",
      "CUL3 JAK2\n",
      "CUL3 BRD4\n",
      "CUL3 SMAD4\n",
      "CUL3 STAT1\n",
      "CUL3 IRF1\n",
      "CUL3 STAT2\n",
      "CUL3 CUL3\n",
      "CUL3 MYC\n",
      "CUL3 SPI1\n",
      "MYC IFNGR2\n",
      "MYC IFNGR1\n",
      "MYC JAK2\n",
      "MYC BRD4\n",
      "MYC SMAD4\n",
      "MYC STAT1\n",
      "MYC IRF1\n",
      "MYC STAT2\n",
      "MYC CUL3\n",
      "MYC MYC\n",
      "MYC SPI1\n",
      "SPI1 IFNGR2\n",
      "SPI1 IFNGR1\n",
      "SPI1 JAK2\n",
      "SPI1 BRD4\n",
      "SPI1 SMAD4\n",
      "SPI1 STAT1\n",
      "SPI1 IRF1\n",
      "SPI1 STAT2\n",
      "SPI1 CUL3\n",
      "SPI1 MYC\n",
      "SPI1 SPI1\n"
     ]
    }
   ],
   "source": [
    "done_files = os.listdir(data_path + '2d/')\n",
    "ko_genes = self_results.keys()\n",
    "for g in ko_genes:\n",
    "    \n",
    "    for g_ko in ko_genes:\n",
    "        print(g, g_ko)\n",
    "        \n",
    "        if g == g_ko or g == 'NT' or g_ko == 'NT': continue\n",
    "        fname = '{}_with_{}_KO_DC.h5ad'.format(g, g_ko)\n",
    "        if fname in done_files: continue\n",
    "        \n",
    "        subset = adata.copy().copy()\n",
    "\n",
    "        subset = adata[adata.obs['gene'].isin(['NT', g_ko]) & (adata.obs['treatment']=='tx')].copy().copy()\n",
    "    \n",
    "        subset.obs['is_ko'] = subset.obs.guide_ID.str.contains(g_ko).values\n",
    "\n",
    "        memento.create_groups(subset, label_columns=['is_ko', 'replicate'])\n",
    "\n",
    "        memento.compute_1d_moments(subset, min_perc_group=.7)\n",
    "        \n",
    "        if g not in subset.var.index: continue\n",
    "\n",
    "        available_genes = list(\n",
    "            set(subset.var.index) & \\\n",
    "            set(self_results[g].query('corr_fdr < 0.1 & ( (corr_coef < 0 & is_ko_0 > 0.3) | (corr_coef > 0 & is_ko_0 < -.3) )').gene_2.tolist())            )\n",
    "        \n",
    "        if len(available_genes) < 10: continue\n",
    "        memento.compute_2d_moments(subset, list(itertools.product([g], available_genes))   )\n",
    "\n",
    "        memento.ht_2d_moments( \n",
    "            subset, \n",
    "            formula_like='1 + is_ko + replicate',\n",
    "            treatment_col='is_ko', \n",
    "            num_boot=20000, \n",
    "            verbose=1,\n",
    "            num_cpus=94,\n",
    "            resampling='permutation',\n",
    "            approx=True)\n",
    "        \n",
    "        subset.write(data_path + '2d/{}_with_{}_KO_DC.h5ad'.format(g, g_ko))"
   ]
  },
  {
   "cell_type": "markdown",
   "id": "4388434f",
   "metadata": {},
   "source": [
    "### Check TF's correlation to other genes following KO"
   ]
  },
  {
   "cell_type": "code",
   "execution_count": 123,
   "id": "1a276a6b",
   "metadata": {},
   "outputs": [
    {
     "name": "stderr",
     "output_type": "stream",
     "text": [
      "/home/ssm-user/anaconda3/envs/single_cell/lib/python3.8/site-packages/pandas/core/arrays/categorical.py:2487: FutureWarning: The `inplace` parameter in pandas.Categorical.remove_unused_categories is deprecated and will be removed in a future version.\n",
      "  res = method(*args, **kwargs)\n",
      "/home/ssm-user/Github/scrna-parameter-estimation/dist/memento-0.0.6-py3.8.egg/memento/estimator.py:106: RuntimeWarning: divide by zero encountered in log\n",
      "  rv[cond] = np.exp(np.log(var[cond]) - f(np.log(mean[cond])))\n"
     ]
    }
   ],
   "source": [
    "# subset_ko_genes = ['STAT1', 'STAT2', 'JAK2', 'CUL3', 'IFNGR1', 'IFNGR2', 'MYC', 'SMAD4']\n",
    "done_files = os.listdir(data_path + '/2d/')\n",
    "for g in ['JAK2']:#ko_genes:\n",
    "    \n",
    "    if g == 'NT': continue\n",
    "    fname = '{}_with_{}_KO_guide_rep.h5ad'.format(g, g)\n",
    "#         if fname in done_files: continue\n",
    "\n",
    "    subset = adata.copy().copy()\n",
    "\n",
    "    subset = adata[adata.obs['gene'].isin(['NT', g])].copy().copy()\n",
    "\n",
    "    subset.obs['is_ko'] = subset.obs.guide_ID.str.contains(g).values\n",
    "\n",
    "    memento.create_groups(subset, label_columns=['is_ko', 'replicate', 'guide_ID'])\n",
    "\n",
    "    memento.compute_1d_moments(subset, min_perc_group=.7)\n",
    "\n",
    "    if g not in subset.var.index: continue\n",
    "\n",
    "    available_genes = list(set(subset.var.index))\n",
    "\n",
    "    if len(available_genes) < 10: continue\n",
    "    memento.compute_2d_moments(subset, list(itertools.product([g], available_genes))   )\n",
    "\n",
    "    memento.ht_2d_moments( \n",
    "        subset, \n",
    "        formula_like='1 + is_ko + replicate',\n",
    "        treatment_col='is_ko', \n",
    "        num_boot=10000, \n",
    "        verbose=1,\n",
    "        num_cpus=14,\n",
    "        resampling='bootstrap',\n",
    "        approx=False)\n",
    "\n",
    "    subset.write(data_path + '2d/{}_with_{}_KO_guide_rep.h5ad'.format(g, g))"
   ]
  },
  {
   "cell_type": "code",
   "execution_count": 124,
   "id": "ea31ef72",
   "metadata": {},
   "outputs": [],
   "source": [
    "moments, counts = memento.get_2d_moments(subset)"
   ]
  },
  {
   "cell_type": "code",
   "execution_count": 131,
   "id": "b3f116b5",
   "metadata": {},
   "outputs": [
    {
     "data": {
      "text/html": [
       "<div>\n",
       "<style scoped>\n",
       "    .dataframe tbody tr th:only-of-type {\n",
       "        vertical-align: middle;\n",
       "    }\n",
       "\n",
       "    .dataframe tbody tr th {\n",
       "        vertical-align: top;\n",
       "    }\n",
       "\n",
       "    .dataframe thead th {\n",
       "        text-align: right;\n",
       "    }\n",
       "</style>\n",
       "<table border=\"1\" class=\"dataframe\">\n",
       "  <thead>\n",
       "    <tr style=\"text-align: right;\">\n",
       "      <th></th>\n",
       "      <th>gene</th>\n",
       "      <th>de_coef</th>\n",
       "      <th>de_se</th>\n",
       "      <th>de_pval</th>\n",
       "      <th>dv_coef</th>\n",
       "      <th>dv_se</th>\n",
       "      <th>dv_pval</th>\n",
       "      <th>de_fdr</th>\n",
       "      <th>dv_fdr</th>\n",
       "    </tr>\n",
       "  </thead>\n",
       "  <tbody>\n",
       "    <tr>\n",
       "      <th>3183</th>\n",
       "      <td>IFNGR1</td>\n",
       "      <td>-0.150763</td>\n",
       "      <td>0.045791</td>\n",
       "      <td>0.001701</td>\n",
       "      <td>0.199772</td>\n",
       "      <td>0.201333</td>\n",
       "      <td>0.314369</td>\n",
       "      <td>0.006115</td>\n",
       "      <td>0.849193</td>\n",
       "    </tr>\n",
       "  </tbody>\n",
       "</table>\n",
       "</div>"
      ],
      "text/plain": [
       "        gene   de_coef     de_se   de_pval   dv_coef     dv_se   dv_pval  \\\n",
       "3183  IFNGR1 -0.150763  0.045791  0.001701  0.199772  0.201333  0.314369   \n",
       "\n",
       "        de_fdr    dv_fdr  \n",
       "3183  0.006115  0.849193  "
      ]
     },
     "execution_count": 131,
     "metadata": {},
     "output_type": "execute_result"
    }
   ],
   "source": [
    "results['IFNGR1'].query('gene == \"IFNGR1\"')"
   ]
  },
  {
   "cell_type": "code",
   "execution_count": 127,
   "id": "2e02d496",
   "metadata": {},
   "outputs": [],
   "source": [
    "dv_genes = results['JAK2'].query('dv_fdr < 0.1 & dv_coef > 0').gene.tolist()"
   ]
  },
  {
   "cell_type": "code",
   "execution_count": 120,
   "id": "28f618c6",
   "metadata": {},
   "outputs": [
    {
     "name": "stderr",
     "output_type": "stream",
     "text": [
      "/home/ssm-user/anaconda3/envs/single_cell/lib/python3.8/site-packages/pandas/core/arrays/categorical.py:2487: FutureWarning: The `inplace` parameter in pandas.Categorical.remove_unused_categories is deprecated and will be removed in a future version.\n",
      "  res = method(*args, **kwargs)\n"
     ]
    }
   ],
   "source": [
    "subset.obs['STAT1'] = subset[:, 'STAT1'].X.todense().A1\n",
    "subset.obs['GBP4'] = subset[:, 'GBP4'].X.todense().A1"
   ]
  },
  {
   "cell_type": "code",
   "execution_count": 70,
   "id": "ff49f846",
   "metadata": {},
   "outputs": [],
   "source": [
    "dv_genes = results['STAT1'].query('dv_fdr < 0.1 & dv_coef > 0').gene.tolist()"
   ]
  },
  {
   "cell_type": "markdown",
   "id": "cd6f3e05",
   "metadata": {},
   "source": [
    "### Debugging\n"
   ]
  },
  {
   "cell_type": "code",
   "execution_count": null,
   "id": "aa55c2b4",
   "metadata": {},
   "outputs": [],
   "source": []
  }
 ],
 "metadata": {
  "kernelspec": {
   "display_name": "Python 3 (ipykernel)",
   "language": "python",
   "name": "python3"
  },
  "language_info": {
   "codemirror_mode": {
    "name": "ipython",
    "version": 3
   },
   "file_extension": ".py",
   "mimetype": "text/x-python",
   "name": "python",
   "nbconvert_exporter": "python",
   "pygments_lexer": "ipython3",
   "version": "3.8.8"
  }
 },
 "nbformat": 4,
 "nbformat_minor": 5
}
