{
 "cells": [
  {
   "cell_type": "markdown",
   "id": "beginning-channel",
   "metadata": {},
   "source": [
    "# Transcription factor dependence analysis"
   ]
  },
  {
   "cell_type": "code",
   "execution_count": 1,
   "id": "understood-spray",
   "metadata": {},
   "outputs": [],
   "source": [
    "import scanpy as sc\n",
    "import seaborn as sns\n",
    "import pandas as pd\n",
    "import matplotlib.pyplot as plt\n",
    "import numpy as np\n",
    "import scipy.stats as stats\n",
    "import itertools\n",
    "from pybedtools import BedTool\n",
    "import statsmodels.formula.api as smf\n",
    "import statsmodels.api as sm\n",
    "\n",
    "import os\n",
    "import pickle as pkl\n",
    "%matplotlib inline"
   ]
  },
  {
   "cell_type": "code",
   "execution_count": 2,
   "id": "indonesian-addition",
   "metadata": {},
   "outputs": [],
   "source": [
    "pd.set_option('max_columns', None)\n",
    "pd.set_option('display.max_rows', 500)"
   ]
  },
  {
   "cell_type": "code",
   "execution_count": 3,
   "id": "tracked-leisure",
   "metadata": {},
   "outputs": [],
   "source": [
    "import sys\n",
    "sys.path.append('/home/ssm-user/Github/scrna-parameter-estimation/dist/memento-0.0.7-py3.8.egg')\n",
    "sys.path.append('/home/ssm-user/Github/misc-seq/miscseq/')\n",
    "import encode\n",
    "import memento"
   ]
  },
  {
   "cell_type": "code",
   "execution_count": 4,
   "id": "smart-render",
   "metadata": {},
   "outputs": [],
   "source": [
    "import matplotlib.pylab as pylab\n",
    "params = {'legend.fontsize': 'medium',\n",
    "         'axes.labelsize': 'medium',\n",
    "         'axes.titlesize':'medium',\n",
    "         'figure.titlesize':'medium',\n",
    "         'xtick.labelsize':'medium',\n",
    "         'ytick.labelsize':'medium',\n",
    "         'axes.labelsize': 'large'}\n",
    "pylab.rcParams.update(params)"
   ]
  },
  {
   "cell_type": "code",
   "execution_count": 5,
   "id": "prompt-individual",
   "metadata": {},
   "outputs": [],
   "source": [
    "data_path = '/data_volume/memento/eccite/'"
   ]
  },
  {
   "cell_type": "markdown",
   "id": "identical-foster",
   "metadata": {},
   "source": [
    "### Read the guide labled perturb-seq data\n",
    "\n",
    "From perturbseq paper"
   ]
  },
  {
   "cell_type": "code",
   "execution_count": 6,
   "id": "postal-brush",
   "metadata": {},
   "outputs": [
    {
     "name": "stderr",
     "output_type": "stream",
     "text": [
      "/home/ssm-user/anaconda3/envs/single_cell/lib/python3.8/site-packages/pandas/core/arrays/categorical.py:2487: FutureWarning: The `inplace` parameter in pandas.Categorical.remove_unused_categories is deprecated and will be removed in a future version.\n",
      "  res = method(*args, **kwargs)\n"
     ]
    }
   ],
   "source": [
    "adata = sc.read(data_path + 'eccite.h5ad')\n",
    "adata = adata[(adata.obs['replicate'] != 'rep4')].copy()\n",
    "adata.var.index.name=None"
   ]
  },
  {
   "cell_type": "code",
   "execution_count": 7,
   "id": "communist-listing",
   "metadata": {},
   "outputs": [
    {
     "data": {
      "text/html": [
       "<div>\n",
       "<style scoped>\n",
       "    .dataframe tbody tr th:only-of-type {\n",
       "        vertical-align: middle;\n",
       "    }\n",
       "\n",
       "    .dataframe tbody tr th {\n",
       "        vertical-align: top;\n",
       "    }\n",
       "\n",
       "    .dataframe thead th {\n",
       "        text-align: right;\n",
       "    }\n",
       "</style>\n",
       "<table border=\"1\" class=\"dataframe\">\n",
       "  <thead>\n",
       "    <tr style=\"text-align: right;\">\n",
       "      <th></th>\n",
       "      <th>lane</th>\n",
       "      <th>n_genes_by_counts</th>\n",
       "      <th>total_counts</th>\n",
       "      <th>total_counts_mt</th>\n",
       "      <th>pct_counts_mt</th>\n",
       "      <th>orig.ident</th>\n",
       "      <th>nCount_HTO</th>\n",
       "      <th>nFeature_HTO</th>\n",
       "      <th>MULTI_ID</th>\n",
       "      <th>MULTI_classification</th>\n",
       "      <th>replicate</th>\n",
       "      <th>treatment</th>\n",
       "      <th>guide_ID</th>\n",
       "      <th>second_percent</th>\n",
       "      <th>gene</th>\n",
       "    </tr>\n",
       "  </thead>\n",
       "  <tbody>\n",
       "    <tr>\n",
       "      <th>GACGGCTGTTTGACTG-8</th>\n",
       "      <td>8</td>\n",
       "      <td>1755</td>\n",
       "      <td>5233.0</td>\n",
       "      <td>279.0</td>\n",
       "      <td>5.331550</td>\n",
       "      <td>SeuratProject</td>\n",
       "      <td>265</td>\n",
       "      <td>5</td>\n",
       "      <td>rep2-tx-TCGATAATGCGA</td>\n",
       "      <td>rep2-tx-TCGATAATGCGA</td>\n",
       "      <td>rep2</td>\n",
       "      <td>tx</td>\n",
       "      <td>IRF7g1-CGTGTAGCGCAGCTGCTTC</td>\n",
       "      <td>0.006061</td>\n",
       "      <td>IRF7</td>\n",
       "    </tr>\n",
       "    <tr>\n",
       "      <th>GCAGCCATCCGTACAA-6</th>\n",
       "      <td>6</td>\n",
       "      <td>2219</td>\n",
       "      <td>7110.0</td>\n",
       "      <td>525.0</td>\n",
       "      <td>7.383966</td>\n",
       "      <td>SeuratProject</td>\n",
       "      <td>104</td>\n",
       "      <td>5</td>\n",
       "      <td>rep1-tx-AGGACCATCCAA</td>\n",
       "      <td>rep1-tx-AGGACCATCCAA</td>\n",
       "      <td>rep1</td>\n",
       "      <td>tx</td>\n",
       "      <td>IRF7g1-CGTGTAGCGCAGCTGCTTC</td>\n",
       "      <td>0.076923</td>\n",
       "      <td>IRF7</td>\n",
       "    </tr>\n",
       "  </tbody>\n",
       "</table>\n",
       "</div>"
      ],
      "text/plain": [
       "                   lane  n_genes_by_counts  total_counts  total_counts_mt  \\\n",
       "GACGGCTGTTTGACTG-8    8               1755        5233.0            279.0   \n",
       "GCAGCCATCCGTACAA-6    6               2219        7110.0            525.0   \n",
       "\n",
       "                    pct_counts_mt     orig.ident  nCount_HTO  nFeature_HTO  \\\n",
       "GACGGCTGTTTGACTG-8       5.331550  SeuratProject         265             5   \n",
       "GCAGCCATCCGTACAA-6       7.383966  SeuratProject         104             5   \n",
       "\n",
       "                                MULTI_ID  MULTI_classification replicate  \\\n",
       "GACGGCTGTTTGACTG-8  rep2-tx-TCGATAATGCGA  rep2-tx-TCGATAATGCGA      rep2   \n",
       "GCAGCCATCCGTACAA-6  rep1-tx-AGGACCATCCAA  rep1-tx-AGGACCATCCAA      rep1   \n",
       "\n",
       "                   treatment                    guide_ID  second_percent  gene  \n",
       "GACGGCTGTTTGACTG-8        tx  IRF7g1-CGTGTAGCGCAGCTGCTTC        0.006061  IRF7  \n",
       "GCAGCCATCCGTACAA-6        tx  IRF7g1-CGTGTAGCGCAGCTGCTTC        0.076923  IRF7  "
      ]
     },
     "execution_count": 7,
     "metadata": {},
     "output_type": "execute_result"
    }
   ],
   "source": [
    "adata.obs.head(2)"
   ]
  },
  {
   "cell_type": "markdown",
   "id": "grave-tablet",
   "metadata": {},
   "source": [
    "### Read pre-defined ISGs"
   ]
  },
  {
   "cell_type": "code",
   "execution_count": 8,
   "id": "hired-absolute",
   "metadata": {},
   "outputs": [],
   "source": [
    "subset = sc.read(data_path + 'ctrl_vs_tx.h5ad')\n",
    "stim_ht_df = memento.get_1d_ht_result(subset)\n",
    "stim_ht_df['de_fdr'] = memento.util._fdrcorrect(stim_ht_df['de_pval'])"
   ]
  },
  {
   "cell_type": "code",
   "execution_count": 9,
   "id": "hungarian-forward",
   "metadata": {},
   "outputs": [],
   "source": [
    "thp1_isgs = stim_ht_df.query('de_fdr < 0.05 & de_coef > 1').gene.tolist()"
   ]
  },
  {
   "cell_type": "markdown",
   "id": "functioning-moderator",
   "metadata": {},
   "source": [
    "### Read TFs"
   ]
  },
  {
   "cell_type": "code",
   "execution_count": 10,
   "id": "cordless-serbia",
   "metadata": {},
   "outputs": [],
   "source": [
    "tf_df = pd.read_csv('human_tf.txt', sep='\\t')\n",
    "tf_df = tf_df.query('Family != \"Others\"')\n",
    "tf_list = tf_df['Symbol'].tolist()\n",
    "tf_list += ['CIITA', 'NLRC5']"
   ]
  },
  {
   "cell_type": "markdown",
   "id": "indie-emission",
   "metadata": {},
   "source": [
    "### Setup memento"
   ]
  },
  {
   "cell_type": "code",
   "execution_count": 11,
   "id": "abandoned-playback",
   "metadata": {},
   "outputs": [],
   "source": [
    "adata.obs['q'] = 0.15"
   ]
  },
  {
   "cell_type": "code",
   "execution_count": 12,
   "id": "greenhouse-flesh",
   "metadata": {},
   "outputs": [
    {
     "name": "stdout",
     "output_type": "stream",
     "text": [
      "Version 0.0.6\n"
     ]
    },
    {
     "name": "stderr",
     "output_type": "stream",
     "text": [
      "/home/ssm-user/Github/scrna-parameter-estimation/dist/memento-0.0.7-py3.8.egg/memento/main.py:70: RankWarning: Polyfit may be poorly conditioned\n"
     ]
    }
   ],
   "source": [
    "memento.setup_memento(adata, q_column='q', filter_mean_thresh=0.07 ,trim_percent=0.1)"
   ]
  },
  {
   "cell_type": "code",
   "execution_count": 13,
   "id": "supported-roberts",
   "metadata": {},
   "outputs": [],
   "source": [
    "ko_genes = adata.obs.gene.drop_duplicates().tolist()"
   ]
  },
  {
   "cell_type": "markdown",
   "id": "premier-lancaster",
   "metadata": {},
   "source": [
    "### Filter TFs"
   ]
  },
  {
   "cell_type": "code",
   "execution_count": 14,
   "id": "cloudy-equilibrium",
   "metadata": {},
   "outputs": [
    {
     "name": "stderr",
     "output_type": "stream",
     "text": [
      "/home/ssm-user/anaconda3/envs/single_cell/lib/python3.8/site-packages/pandas/core/arrays/categorical.py:2487: FutureWarning: The `inplace` parameter in pandas.Categorical.remove_unused_categories is deprecated and will be removed in a future version.\n",
      "  res = method(*args, **kwargs)\n"
     ]
    }
   ],
   "source": [
    "subset = adata.copy().copy()\n",
    "subset = adata[adata.obs['gene'].isin(['NT', 'STAT1', 'JAK2', 'IFNGR1', 'CUL3'])].copy().copy()\n",
    "memento.create_groups(subset, label_columns=['guide_ID', 'replicate'])\n",
    "memento.compute_1d_moments(subset, min_perc_group=.7)"
   ]
  },
  {
   "cell_type": "code",
   "execution_count": 15,
   "id": "preliminary-triumph",
   "metadata": {},
   "outputs": [
    {
     "name": "stdout",
     "output_type": "stream",
     "text": [
      "508\n"
     ]
    }
   ],
   "source": [
    "filtered_tfs = list(set(tf_list) & set(subset.var.index))\n",
    "print(len(filtered_tfs))"
   ]
  },
  {
   "cell_type": "code",
   "execution_count": 16,
   "id": "genetic-assembly",
   "metadata": {},
   "outputs": [
    {
     "data": {
      "text/plain": [
       "True"
      ]
     },
     "execution_count": 16,
     "metadata": {},
     "output_type": "execute_result"
    }
   ],
   "source": [
    "'STAT2' in filtered_tfs"
   ]
  },
  {
   "cell_type": "markdown",
   "id": "saving-volume",
   "metadata": {},
   "source": [
    "### Mututal information?"
   ]
  },
  {
   "cell_type": "code",
   "execution_count": 17,
   "id": "sudden-vitamin",
   "metadata": {},
   "outputs": [],
   "source": [
    "from sklearn.metrics import mutual_info_score"
   ]
  },
  {
   "cell_type": "code",
   "execution_count": null,
   "id": "married-signature",
   "metadata": {},
   "outputs": [],
   "source": [
    "num_genes = 500\n",
    "mean_prod = []\n",
    "mi = []\n",
    "for g1, g2 in zip(np.random.choice(subset.var.index, num_genes), np.random.choice(subset.var.index, num_genes)):\n",
    "    \n",
    "    a = adata[(adata.obs['treatment']=='tx') & adata.obs['guide_ID'].isin(['NTg8-TAGAGAGCGGCGCGCCTAC']), g1].X.todense().A1\n",
    "    b = adata[(adata.obs['treatment']=='tx') & adata.obs['guide_ID'].isin(['NTg8-TAGAGAGCGGCGCGCCTAC']), g2].X.todense().A1\n",
    "    \n",
    "    mean_prod.append(a.mean()*b.mean())\n",
    "    mi.append(mutual_info_score(a,b))"
   ]
  },
  {
   "cell_type": "code",
   "execution_count": 28,
   "id": "asian-average",
   "metadata": {},
   "outputs": [
    {
     "data": {
      "text/plain": [
       "Text(0, 0.5, 'log(MI) (discretized)')"
      ]
     },
     "execution_count": 28,
     "metadata": {},
     "output_type": "execute_result"
    },
    {
     "data": {
      "image/png": "[encoded data removed]",
      "text/plain": [
       "<Figure size 432x288 with 1 Axes>"
      ]
     },
     "metadata": {
      "needs_background": "light"
     },
     "output_type": "display_data"
    }
   ],
   "source": [
    "plt.scatter(np.log(mean_prod), np.log(mi))\n",
    "plt.xlabel('log(product of means)')\n",
    "plt.ylabel('log(MI) (discretized)')"
   ]
  },
  {
   "cell_type": "code",
   "execution_count": 119,
   "id": "inappropriate-planning",
   "metadata": {},
   "outputs": [
    {
     "name": "stderr",
     "output_type": "stream",
     "text": [
      "/home/ssm-user/anaconda3/envs/single_cell/lib/python3.8/site-packages/pandas/core/arrays/categorical.py:2487: FutureWarning: The `inplace` parameter in pandas.Categorical.remove_unused_categories is deprecated and will be removed in a future version.\n",
      "  res = method(*args, **kwargs)\n"
     ]
    }
   ],
   "source": [
    "a1 = adata[(adata.obs['treatment']=='tx') & adata.obs['guide_ID'].isin(['NTg8-TAGAGAGCGGCGCGCCTAC']), 'STAT1'].X.todense().A1\n",
    "b1 = adata[(adata.obs['treatment']=='tx') & adata.obs['guide_ID'].isin(['NTg8-TAGAGAGCGGCGCGCCTAC']), 'IFI6'].X.todense().A1\n",
    "\n",
    "a2 = adata[(adata.obs['treatment']=='tx') & adata.obs['guide_ID'].isin(['STAT1g2-CATCCTTTGGTACAACATG']), 'STAT1'].X.todense().A1\n",
    "b2 = adata[(adata.obs['treatment']=='tx') & adata.obs['guide_ID'].isin(['STAT1g2-CATCCTTTGGTACAACATG']), 'IFI6'].X.todense().A1"
   ]
  },
  {
   "cell_type": "code",
   "execution_count": 120,
   "id": "prepared-performance",
   "metadata": {},
   "outputs": [
    {
     "name": "stdout",
     "output_type": "stream",
     "text": [
      "1.889455517371665\n",
      "LinregressResult(slope=0.38736605292759485, intercept=4.984548370436305, rvalue=0.29146487075352157, pvalue=0.03248652595643263, stderr=0.1763013592934382, intercept_stderr=2.3671553158493097)\n"
     ]
    }
   ],
   "source": [
    "print(mutual_info_score(a1,b1))\n",
    "print(stats.linregress(a1,b1))"
   ]
  },
  {
   "cell_type": "code",
   "execution_count": 121,
   "id": "white-apparel",
   "metadata": {},
   "outputs": [
    {
     "name": "stdout",
     "output_type": "stream",
     "text": [
      "0.46216784402223854\n",
      "LinregressResult(slope=0.8656134658725922, intercept=0.8416713417865864, rvalue=0.6475062807845307, pvalue=9.261187562827323e-12, stderr=0.10985504943712984, intercept_stderr=0.4102050206803798)\n"
     ]
    }
   ],
   "source": [
    "print(mutual_info_score(a2,b2))\n",
    "print(stats.linregress(a2,b2))"
   ]
  },
  {
   "cell_type": "markdown",
   "id": "labeled-glory",
   "metadata": {},
   "source": [
    "### STAT1 Sanity check"
   ]
  },
  {
   "cell_type": "code",
   "execution_count": 43,
   "id": "direct-meaning",
   "metadata": {},
   "outputs": [],
   "source": [
    "select_genes = []\n",
    "for g in list(set(thp1_isgs) - set([tf])):\n",
    "    if 'IFI' in g or 'OAS' in g or 'ISG' in g or 'MX' in g:\n",
    "        select_genes.append(g)"
   ]
  },
  {
   "cell_type": "code",
   "execution_count": 139,
   "id": "silent-curve",
   "metadata": {},
   "outputs": [
    {
     "data": {
      "text/html": [
       "<div>\n",
       "<style scoped>\n",
       "    .dataframe tbody tr th:only-of-type {\n",
       "        vertical-align: middle;\n",
       "    }\n",
       "\n",
       "    .dataframe tbody tr th {\n",
       "        vertical-align: top;\n",
       "    }\n",
       "\n",
       "    .dataframe thead th {\n",
       "        text-align: right;\n",
       "    }\n",
       "</style>\n",
       "<table border=\"1\" class=\"dataframe\">\n",
       "  <thead>\n",
       "    <tr style=\"text-align: right;\">\n",
       "      <th></th>\n",
       "      <th>mean</th>\n",
       "      <th>variance</th>\n",
       "      <th>rv</th>\n",
       "      <th>gene</th>\n",
       "    </tr>\n",
       "  </thead>\n",
       "  <tbody>\n",
       "    <tr>\n",
       "      <th>0</th>\n",
       "      <td>0.083160</td>\n",
       "      <td>0.015423</td>\n",
       "      <td>0.832866</td>\n",
       "      <td>LINC01409</td>\n",
       "    </tr>\n",
       "    <tr>\n",
       "      <th>1</th>\n",
       "      <td>0.105062</td>\n",
       "      <td>0.026820</td>\n",
       "      <td>1.120011</td>\n",
       "      <td>LINC01128</td>\n",
       "    </tr>\n",
       "    <tr>\n",
       "      <th>2</th>\n",
       "      <td>0.342579</td>\n",
       "      <td>0.074953</td>\n",
       "      <td>0.673477</td>\n",
       "      <td>NOC2L</td>\n",
       "    </tr>\n",
       "    <tr>\n",
       "      <th>3</th>\n",
       "      <td>4.697294</td>\n",
       "      <td>29.640535</td>\n",
       "      <td>3.154371</td>\n",
       "      <td>ISG15</td>\n",
       "    </tr>\n",
       "    <tr>\n",
       "      <th>4</th>\n",
       "      <td>0.101715</td>\n",
       "      <td>0.028461</td>\n",
       "      <td>1.232854</td>\n",
       "      <td>AGRN</td>\n",
       "    </tr>\n",
       "    <tr>\n",
       "      <th>...</th>\n",
       "      <td>...</td>\n",
       "      <td>...</td>\n",
       "      <td>...</td>\n",
       "      <td>...</td>\n",
       "    </tr>\n",
       "    <tr>\n",
       "      <th>9038</th>\n",
       "      <td>27.025358</td>\n",
       "      <td>195.730713</td>\n",
       "      <td>0.722577</td>\n",
       "      <td>MT-ND4L</td>\n",
       "    </tr>\n",
       "    <tr>\n",
       "      <th>9039</th>\n",
       "      <td>17.610172</td>\n",
       "      <td>109.458496</td>\n",
       "      <td>0.927899</td>\n",
       "      <td>MT-ND4</td>\n",
       "    </tr>\n",
       "    <tr>\n",
       "      <th>9040</th>\n",
       "      <td>11.686849</td>\n",
       "      <td>46.008240</td>\n",
       "      <td>0.862419</td>\n",
       "      <td>MT-ND5</td>\n",
       "    </tr>\n",
       "    <tr>\n",
       "      <th>9041</th>\n",
       "      <td>2.522758</td>\n",
       "      <td>6.892960</td>\n",
       "      <td>2.305474</td>\n",
       "      <td>MT-ND6</td>\n",
       "    </tr>\n",
       "    <tr>\n",
       "      <th>9042</th>\n",
       "      <td>19.485722</td>\n",
       "      <td>86.102905</td>\n",
       "      <td>0.599771</td>\n",
       "      <td>MT-CYB</td>\n",
       "    </tr>\n",
       "  </tbody>\n",
       "</table>\n",
       "<p>9043 rows × 4 columns</p>\n",
       "</div>"
      ],
      "text/plain": [
       "           mean    variance        rv       gene\n",
       "0      0.083160    0.015423  0.832866  LINC01409\n",
       "1      0.105062    0.026820  1.120011  LINC01128\n",
       "2      0.342579    0.074953  0.673477      NOC2L\n",
       "3      4.697294   29.640535  3.154371      ISG15\n",
       "4      0.101715    0.028461  1.232854       AGRN\n",
       "...         ...         ...       ...        ...\n",
       "9038  27.025358  195.730713  0.722577    MT-ND4L\n",
       "9039  17.610172  109.458496  0.927899     MT-ND4\n",
       "9040  11.686849   46.008240  0.862419     MT-ND5\n",
       "9041   2.522758    6.892960  2.305474     MT-ND6\n",
       "9042  19.485722   86.102905  0.599771     MT-CYB\n",
       "\n",
       "[9043 rows x 4 columns]"
      ]
     },
     "execution_count": 139,
     "metadata": {},
     "output_type": "execute_result"
    }
   ],
   "source": [
    "ctrl_moments"
   ]
  },
  {
   "cell_type": "code",
   "execution_count": 157,
   "id": "every-boulder",
   "metadata": {},
   "outputs": [
    {
     "name": "stderr",
     "output_type": "stream",
     "text": [
      "/home/ssm-user/anaconda3/envs/single_cell/lib/python3.8/site-packages/pandas/core/arrays/categorical.py:2487: FutureWarning: The `inplace` parameter in pandas.Categorical.remove_unused_categories is deprecated and will be removed in a future version.\n",
      "  res = method(*args, **kwargs)\n"
     ]
    },
    {
     "name": "stdout",
     "output_type": "stream",
     "text": [
      "0    1275\n",
      "1     406\n",
      "Name: is_ko, dtype: int64\n"
     ]
    }
   ],
   "source": [
    "g_ko = 'STAT1'\n",
    "tf = 'IRF9'\n",
    "targets = list(set(thp1_isgs) - set([tf]))#['ISG15', 'IFIT1', 'MX1', 'OASL', 'GBP1', 'GBP4']\n",
    "genes = targets + [tf]\n",
    "subset = adata[(adata.obs['treatment']=='tx') & (\n",
    "               adata.obs['gene'].isin([g_ko]) |\n",
    "               (\n",
    "                    adata.obs['gene'].isin(['NT']) & (\n",
    "                    adata.obs['guide_ID'].str.contains('g1') |\n",
    "                    adata.obs['guide_ID'].str.contains('g2') | \n",
    "                    adata.obs['guide_ID'].str.contains('g3') | \n",
    "                    adata.obs['guide_ID'].str.contains('g4'))))\n",
    "                    ].copy().copy()\n",
    "subset.obs['is_ko'] = subset.obs.guide_ID.str.contains(g_ko).values.astype(int)\n",
    "memento.create_groups(subset, label_columns=['is_ko'])\n",
    "memento.compute_1d_moments(subset, min_perc_group=.7)\n",
    "targets = list(set(targets) & set(subset.var.index))\n",
    "genes = targets + [tf]\n",
    "memento.compute_2d_moments(subset, list(itertools.product([tf], targets))   )\n",
    "# memento.compute_2d_moments(subset,   )\n",
    "ctrl_moments = pd.DataFrame(np.vstack(subset.uns['memento']['1d_moments']['sg^0']).T, columns=['mean', 'variance', 'rv'])\n",
    "ctrl_moments.index = subset.var.index.tolist()\n",
    "ctrl_moments = ctrl_moments.loc[genes]\n",
    "stim_moments = pd.DataFrame(np.vstack(subset.uns['memento']['1d_moments']['sg^1']).T, columns=['mean', 'variance', 'rv'])\n",
    "stim_moments.index = subset.var.index.tolist()\n",
    "stim_moments = stim_moments.loc[genes]\n",
    "\n",
    "ctrl_moments_2d = pd.DataFrame(subset.uns['memento']['2d_moments']['sg^0'])\n",
    "ctrl_moments_2d.index = targets\n",
    "ctrl_moments_2d = ctrl_moments_2d.join(ctrl_moments)\n",
    "ctrl_moments_2d['rv_1'] = ctrl_moments.loc[tf,'rv']\n",
    "ctrl_moments_2d['mean_1'] = ctrl_moments.loc[tf,'mean']\n",
    "\n",
    "ctrl_moments_2d['beta'] = ctrl_moments_2d['cov']/ctrl_moments_2d['var_1']\n",
    "ctrl_moments_2d['resbeta'] = ctrl_moments_2d['corr']*ctrl_moments_2d['rv']/ctrl_moments_2d['rv_1']\n",
    "ctrl_moments_2d['rescov'] = ctrl_moments_2d['cov']/np.sqrt(ctrl_moments_2d['rv']*ctrl_moments_2d['rv_1'])\n",
    "\n",
    "stim_moments_2d = pd.DataFrame(subset.uns['memento']['2d_moments']['sg^1'])\n",
    "stim_moments_2d.index = targets\n",
    "stim_moments_2d = stim_moments_2d.join(stim_moments)\n",
    "stim_moments_2d['rv_1'] = stim_moments.loc[tf,'rv']\n",
    "stim_moments_2d['mean_1'] = stim_moments.loc[tf,'mean']\n",
    "\n",
    "stim_moments_2d['beta'] = stim_moments_2d['cov']/stim_moments_2d['var_1']\n",
    "stim_moments_2d['resbeta'] = stim_moments_2d['corr']*stim_moments_2d['rv']/stim_moments_2d['rv_1']\n",
    "stim_moments_2d['rescov'] = stim_moments_2d['cov']/np.sqrt(stim_moments_2d['rv']*stim_moments_2d['rv_1'])\n",
    "\n",
    "print(subset.obs['is_ko'].value_counts())"
   ]
  },
  {
   "cell_type": "code",
   "execution_count": 158,
   "id": "answering-bryan",
   "metadata": {},
   "outputs": [],
   "source": [
    "select_genes = []\n",
    "for g in targets:\n",
    "    if 'IFI' in g or 'OAS' in g or 'ISG' in g or 'MX' in g or 'HLA' in g:\n",
    "        select_genes.append(g)"
   ]
  },
  {
   "cell_type": "code",
   "execution_count": 159,
   "id": "vocational-moderator",
   "metadata": {},
   "outputs": [
    {
     "data": {
      "text/plain": [
       "<matplotlib.legend.Legend at 0x7f388c085880>"
      ]
     },
     "execution_count": 159,
     "metadata": {},
     "output_type": "execute_result"
    },
    {
     "data": {
      "image/png": "[encoded data removed]",
      "text/plain": [
       "<Figure size 432x288 with 1 Axes>"
      ]
     },
     "metadata": {
      "needs_background": "light"
     },
     "output_type": "display_data"
    }
   ],
   "source": [
    "a = ctrl_moments_2d['mean']*ctrl_moments_2d['mean_1']\n",
    "b = ctrl_moments_2d['cov']\n",
    "plt.scatter(np.log(a),np.log(np.abs(b)), s=10)\n",
    "\n",
    "a = stim_moments_2d['mean']*stim_moments_2d['mean_1']\n",
    "b = stim_moments_2d['cov']\n",
    "plt.scatter(np.log(a),np.log(np.abs(b)), s=10)\n",
    "plt.xlabel('product of means')\n",
    "plt.ylabel('covariance')\n",
    "plt.legend(['WT', 'KO'])"
   ]
  },
  {
   "cell_type": "code",
   "execution_count": 163,
   "id": "stupid-beach",
   "metadata": {},
   "outputs": [
    {
     "data": {
      "text/plain": [
       "LinregressResult(slope=0.8812883671046996, intercept=-2.605903426540591, rvalue=0.7761665802893046, pvalue=0.0, stderr=0.01601657561662384, intercept_stderr=0.04017375312085927)"
      ]
     },
     "execution_count": 163,
     "metadata": {},
     "output_type": "execute_result"
    }
   ],
   "source": [
    "wt_fit"
   ]
  },
  {
   "cell_type": "code",
   "execution_count": 165,
   "id": "unavailable-nepal",
   "metadata": {},
   "outputs": [
    {
     "data": {
      "text/plain": [
       "<matplotlib.legend.Legend at 0x7f388cc22b20>"
      ]
     },
     "execution_count": 165,
     "metadata": {},
     "output_type": "execute_result"
    },
    {
     "data": {
      "image/png": "[encoded data removed]",
      "text/plain": [
       "<Figure size 432x288 with 1 Axes>"
      ]
     },
     "metadata": {
      "needs_background": "light"
     },
     "output_type": "display_data"
    }
   ],
   "source": [
    "a = ctrl_moments_2d['mean']*ctrl_moments_2d['mean_1']\n",
    "b = ctrl_moments_2d['cov']\n",
    "plt.scatter(np.log(a),np.log(np.abs(b)) - (wt_fit[0]*np.log(a)+wt_fit[1]), s=10)\n",
    "\n",
    "a = stim_moments_2d['mean']*stim_moments_2d['mean_1']\n",
    "b = stim_moments_2d['cov']\n",
    "plt.scatter(np.log(a),np.log(np.abs(b)) - (ko_fit[0]*np.log(a)+ko_fit[1]), s=10)\n",
    "plt.xlabel('product of means')\n",
    "plt.ylabel('residual covariance')\n",
    "plt.legend(['WT', 'KO'])"
   ]
  },
  {
   "cell_type": "code",
   "execution_count": 166,
   "id": "painful-procedure",
   "metadata": {},
   "outputs": [
    {
     "data": {
      "text/html": [
       "<div>\n",
       "<style scoped>\n",
       "    .dataframe tbody tr th:only-of-type {\n",
       "        vertical-align: middle;\n",
       "    }\n",
       "\n",
       "    .dataframe tbody tr th {\n",
       "        vertical-align: top;\n",
       "    }\n",
       "\n",
       "    .dataframe thead th {\n",
       "        text-align: right;\n",
       "    }\n",
       "</style>\n",
       "<table border=\"1\" class=\"dataframe\">\n",
       "  <thead>\n",
       "    <tr style=\"text-align: right;\">\n",
       "      <th></th>\n",
       "      <th>cov</th>\n",
       "      <th>corr</th>\n",
       "      <th>var_1</th>\n",
       "      <th>var_2</th>\n",
       "      <th>mean</th>\n",
       "      <th>variance</th>\n",
       "      <th>rv</th>\n",
       "      <th>rv_1</th>\n",
       "      <th>mean_1</th>\n",
       "      <th>beta</th>\n",
       "      <th>resbeta</th>\n",
       "      <th>rescov</th>\n",
       "    </tr>\n",
       "  </thead>\n",
       "  <tbody>\n",
       "    <tr>\n",
       "      <th>CRELD1</th>\n",
       "      <td>0.094471</td>\n",
       "      <td>0.105461</td>\n",
       "      <td>0.885248</td>\n",
       "      <td>0.906469</td>\n",
       "      <td>0.583075</td>\n",
       "      <td>0.906469</td>\n",
       "      <td>3.646456</td>\n",
       "      <td>0.758143</td>\n",
       "      <td>1.484286</td>\n",
       "      <td>0.106718</td>\n",
       "      <td>0.507238</td>\n",
       "      <td>0.056818</td>\n",
       "    </tr>\n",
       "    <tr>\n",
       "      <th>S100A10</th>\n",
       "      <td>1.082706</td>\n",
       "      <td>0.038182</td>\n",
       "      <td>0.885248</td>\n",
       "      <td>908.328857</td>\n",
       "      <td>32.148949</td>\n",
       "      <td>908.328857</td>\n",
       "      <td>2.394767</td>\n",
       "      <td>0.758143</td>\n",
       "      <td>1.484286</td>\n",
       "      <td>1.223054</td>\n",
       "      <td>0.120606</td>\n",
       "      <td>0.803533</td>\n",
       "    </tr>\n",
       "    <tr>\n",
       "      <th>FGD2</th>\n",
       "      <td>0.194515</td>\n",
       "      <td>0.248497</td>\n",
       "      <td>0.885248</td>\n",
       "      <td>0.692148</td>\n",
       "      <td>0.886725</td>\n",
       "      <td>0.692148</td>\n",
       "      <td>1.418072</td>\n",
       "      <td>0.758143</td>\n",
       "      <td>1.484286</td>\n",
       "      <td>0.219729</td>\n",
       "      <td>0.464802</td>\n",
       "      <td>0.187598</td>\n",
       "    </tr>\n",
       "    <tr>\n",
       "      <th>PSMB10</th>\n",
       "      <td>0.862742</td>\n",
       "      <td>0.382598</td>\n",
       "      <td>0.885248</td>\n",
       "      <td>5.743965</td>\n",
       "      <td>4.003698</td>\n",
       "      <td>5.743965</td>\n",
       "      <td>0.823561</td>\n",
       "      <td>0.758143</td>\n",
       "      <td>1.484286</td>\n",
       "      <td>0.974577</td>\n",
       "      <td>0.415612</td>\n",
       "      <td>1.091837</td>\n",
       "    </tr>\n",
       "    <tr>\n",
       "      <th>RCAN1</th>\n",
       "      <td>0.073116</td>\n",
       "      <td>0.036779</td>\n",
       "      <td>0.885248</td>\n",
       "      <td>4.464422</td>\n",
       "      <td>0.594207</td>\n",
       "      <td>4.464422</td>\n",
       "      <td>17.433626</td>\n",
       "      <td>0.758143</td>\n",
       "      <td>1.484286</td>\n",
       "      <td>0.082594</td>\n",
       "      <td>0.845738</td>\n",
       "      <td>0.020112</td>\n",
       "    </tr>\n",
       "  </tbody>\n",
       "</table>\n",
       "</div>"
      ],
      "text/plain": [
       "              cov      corr     var_1       var_2       mean    variance  \\\n",
       "CRELD1   0.094471  0.105461  0.885248    0.906469   0.583075    0.906469   \n",
       "S100A10  1.082706  0.038182  0.885248  908.328857  32.148949  908.328857   \n",
       "FGD2     0.194515  0.248497  0.885248    0.692148   0.886725    0.692148   \n",
       "PSMB10   0.862742  0.382598  0.885248    5.743965   4.003698    5.743965   \n",
       "RCAN1    0.073116  0.036779  0.885248    4.464422   0.594207    4.464422   \n",
       "\n",
       "                rv      rv_1    mean_1      beta   resbeta    rescov  \n",
       "CRELD1    3.646456  0.758143  1.484286  0.106718  0.507238  0.056818  \n",
       "S100A10   2.394767  0.758143  1.484286  1.223054  0.120606  0.803533  \n",
       "FGD2      1.418072  0.758143  1.484286  0.219729  0.464802  0.187598  \n",
       "PSMB10    0.823561  0.758143  1.484286  0.974577  0.415612  1.091837  \n",
       "RCAN1    17.433626  0.758143  1.484286  0.082594  0.845738  0.020112  "
      ]
     },
     "execution_count": 166,
     "metadata": {},
     "output_type": "execute_result"
    }
   ],
   "source": [
    "ctrl_moments_2d.head(5)"
   ]
  },
  {
   "cell_type": "code",
   "execution_count": 173,
   "id": "compact-lloyd",
   "metadata": {},
   "outputs": [
    {
     "data": {
      "text/plain": [
       "<matplotlib.legend.Legend at 0x7f388bd19ac0>"
      ]
     },
     "execution_count": 173,
     "metadata": {},
     "output_type": "execute_result"
    },
    {
     "data": {
      "image/png": "[encoded data removed]",
      "text/plain": [
       "<Figure size 432x288 with 1 Axes>"
      ]
     },
     "metadata": {
      "needs_background": "light"
     },
     "output_type": "display_data"
    }
   ],
   "source": [
    "a = ctrl_moments_2d['mean']*ctrl_moments_2d['mean_1']\n",
    "b = ctrl_moments_2d['corr']/np.sqrt(ctrl_moments_2d['rv']*ctrl_moments_2d['rv_1'])\n",
    "plt.scatter(np.log(a),np.abs(b), s=10)\n",
    "\n",
    "a = stim_moments_2d['mean']*stim_moments_2d['mean_1']\n",
    "b = stim_moments_2d['corr']/np.sqrt(stim_moments_2d['rv']*stim_moments_2d['rv_1'])\n",
    "plt.scatter(np.log(a),np.abs(b), s=10)\n",
    "plt.xlabel('product of means')\n",
    "plt.ylabel('residual correlation')\n",
    "plt.legend(['WT', 'KO'])"
   ]
  },
  {
   "cell_type": "code",
   "execution_count": 172,
   "id": "black-modern",
   "metadata": {},
   "outputs": [
    {
     "data": {
      "text/plain": [
       "<matplotlib.legend.Legend at 0x7f388bca9d90>"
      ]
     },
     "execution_count": 172,
     "metadata": {},
     "output_type": "execute_result"
    },
    {
     "data": {
      "image/png": "[encoded data removed]",
      "text/plain": [
       "<Figure size 432x288 with 1 Axes>"
      ]
     },
     "metadata": {
      "needs_background": "light"
     },
     "output_type": "display_data"
    }
   ],
   "source": [
    "a = ctrl_moments_2d['mean']*ctrl_moments_2d['mean_1']\n",
    "b = ctrl_moments_2d['corr']#/np.sqrt(ctrl_moments_2d['rv']*ctrl_moments_2d['rv_1'])\n",
    "sns.kdeplot(b)\n",
    "a = stim_moments_2d['mean']*stim_moments_2d['mean_1']\n",
    "b = stim_moments_2d['corr']#/np.sqrt(stim_moments_2d['rv']*stim_moments_2d['rv_1'])\n",
    "sns.kdeplot(b)\n",
    "plt.xlabel('correlation')\n",
    "plt.legend(['WT', 'KO'])"
   ]
  },
  {
   "cell_type": "code",
   "execution_count": 170,
   "id": "handed-personal",
   "metadata": {},
   "outputs": [
    {
     "data": {
      "text/plain": [
       "<matplotlib.legend.Legend at 0x7f388bdad1f0>"
      ]
     },
     "execution_count": 170,
     "metadata": {},
     "output_type": "execute_result"
    },
    {
     "data": {
      "image/png": "[encoded data removed]",
      "text/plain": [
       "<Figure size 432x288 with 1 Axes>"
      ]
     },
     "metadata": {
      "needs_background": "light"
     },
     "output_type": "display_data"
    }
   ],
   "source": [
    "a = ctrl_moments_2d['mean']*ctrl_moments_2d['mean_1']\n",
    "b = ctrl_moments_2d['corr']/np.sqrt(ctrl_moments_2d['rv']*ctrl_moments_2d['rv_1'])\n",
    "sns.kdeplot(b)\n",
    "a = stim_moments_2d['mean']*stim_moments_2d['mean_1']\n",
    "b = stim_moments_2d['corr']/np.sqrt(stim_moments_2d['rv']*stim_moments_2d['rv_1'])\n",
    "sns.kdeplot(b)\n",
    "plt.xlabel('residual correlation')\n",
    "plt.legend(['WT', 'KO'])"
   ]
  },
  {
   "cell_type": "markdown",
   "id": "atlantic-nicholas",
   "metadata": {},
   "source": [
    "### Random pairs of genes"
   ]
  },
  {
   "cell_type": "code",
   "execution_count": 112,
   "id": "special-proxy",
   "metadata": {},
   "outputs": [
    {
     "data": {
      "text/html": [
       "<div>\n",
       "<style scoped>\n",
       "    .dataframe tbody tr th:only-of-type {\n",
       "        vertical-align: middle;\n",
       "    }\n",
       "\n",
       "    .dataframe tbody tr th {\n",
       "        vertical-align: top;\n",
       "    }\n",
       "\n",
       "    .dataframe thead th {\n",
       "        text-align: right;\n",
       "    }\n",
       "</style>\n",
       "<table border=\"1\" class=\"dataframe\">\n",
       "  <thead>\n",
       "    <tr style=\"text-align: right;\">\n",
       "      <th></th>\n",
       "      <th>mean</th>\n",
       "      <th>variance</th>\n",
       "      <th>rv</th>\n",
       "      <th>gene_1</th>\n",
       "      <th>gene_2</th>\n",
       "    </tr>\n",
       "  </thead>\n",
       "  <tbody>\n",
       "    <tr>\n",
       "      <th>0</th>\n",
       "      <td>0.083160</td>\n",
       "      <td>0.015423</td>\n",
       "      <td>0.832866</td>\n",
       "      <td>LINC01409</td>\n",
       "      <td>LINC01409</td>\n",
       "    </tr>\n",
       "    <tr>\n",
       "      <th>1</th>\n",
       "      <td>0.105062</td>\n",
       "      <td>0.026820</td>\n",
       "      <td>1.120011</td>\n",
       "      <td>LINC01128</td>\n",
       "      <td>LINC01128</td>\n",
       "    </tr>\n",
       "    <tr>\n",
       "      <th>2</th>\n",
       "      <td>0.342579</td>\n",
       "      <td>0.074953</td>\n",
       "      <td>0.673477</td>\n",
       "      <td>NOC2L</td>\n",
       "      <td>NOC2L</td>\n",
       "    </tr>\n",
       "    <tr>\n",
       "      <th>3</th>\n",
       "      <td>4.697294</td>\n",
       "      <td>29.640535</td>\n",
       "      <td>3.154371</td>\n",
       "      <td>ISG15</td>\n",
       "      <td>ISG15</td>\n",
       "    </tr>\n",
       "    <tr>\n",
       "      <th>4</th>\n",
       "      <td>0.101715</td>\n",
       "      <td>0.028461</td>\n",
       "      <td>1.232854</td>\n",
       "      <td>AGRN</td>\n",
       "      <td>AGRN</td>\n",
       "    </tr>\n",
       "  </tbody>\n",
       "</table>\n",
       "</div>"
      ],
      "text/plain": [
       "       mean   variance        rv     gene_1     gene_2\n",
       "0  0.083160   0.015423  0.832866  LINC01409  LINC01409\n",
       "1  0.105062   0.026820  1.120011  LINC01128  LINC01128\n",
       "2  0.342579   0.074953  0.673477      NOC2L      NOC2L\n",
       "3  4.697294  29.640535  3.154371      ISG15      ISG15\n",
       "4  0.101715   0.028461  1.232854       AGRN       AGRN"
      ]
     },
     "execution_count": 112,
     "metadata": {},
     "output_type": "execute_result"
    }
   ],
   "source": [
    "ctrl_moments.head(5)"
   ]
  },
  {
   "cell_type": "code",
   "execution_count": 118,
   "id": "constant-robert",
   "metadata": {},
   "outputs": [
    {
     "data": {
      "text/html": [
       "<div>\n",
       "<style scoped>\n",
       "    .dataframe tbody tr th:only-of-type {\n",
       "        vertical-align: middle;\n",
       "    }\n",
       "\n",
       "    .dataframe tbody tr th {\n",
       "        vertical-align: top;\n",
       "    }\n",
       "\n",
       "    .dataframe thead th {\n",
       "        text-align: right;\n",
       "    }\n",
       "</style>\n",
       "<table border=\"1\" class=\"dataframe\">\n",
       "  <thead>\n",
       "    <tr style=\"text-align: right;\">\n",
       "      <th></th>\n",
       "      <th>cov</th>\n",
       "      <th>corr</th>\n",
       "      <th>var_1</th>\n",
       "      <th>var_2</th>\n",
       "      <th>gene_1</th>\n",
       "      <th>gene_2</th>\n",
       "      <th>mean</th>\n",
       "      <th>variance</th>\n",
       "      <th>rv</th>\n",
       "      <th>gene_2_1</th>\n",
       "      <th>mean_1</th>\n",
       "      <th>variance_1</th>\n",
       "      <th>rv_1</th>\n",
       "      <th>gene_1_1</th>\n",
       "    </tr>\n",
       "  </thead>\n",
       "  <tbody>\n",
       "    <tr>\n",
       "      <th>0</th>\n",
       "      <td>0.006896</td>\n",
       "      <td>0.065034</td>\n",
       "      <td>0.217799</td>\n",
       "      <td>0.051630</td>\n",
       "      <td>DHPS</td>\n",
       "      <td>UTP20</td>\n",
       "      <td>0.634454</td>\n",
       "      <td>0.217799</td>\n",
       "      <td>0.766910</td>\n",
       "      <td>DHPS</td>\n",
       "      <td>0.160969</td>\n",
       "      <td>0.051630</td>\n",
       "      <td>1.293442</td>\n",
       "      <td>UTP20</td>\n",
       "    </tr>\n",
       "    <tr>\n",
       "      <th>1</th>\n",
       "      <td>0.064438</td>\n",
       "      <td>0.268827</td>\n",
       "      <td>0.580330</td>\n",
       "      <td>0.099005</td>\n",
       "      <td>VPS29</td>\n",
       "      <td>NUDT2</td>\n",
       "      <td>1.366663</td>\n",
       "      <td>0.580330</td>\n",
       "      <td>0.573244</td>\n",
       "      <td>VPS29</td>\n",
       "      <td>0.513809</td>\n",
       "      <td>0.099005</td>\n",
       "      <td>0.484826</td>\n",
       "      <td>NUDT2</td>\n",
       "    </tr>\n",
       "    <tr>\n",
       "      <th>2</th>\n",
       "      <td>0.001710</td>\n",
       "      <td>0.021580</td>\n",
       "      <td>0.127806</td>\n",
       "      <td>0.049148</td>\n",
       "      <td>CDA</td>\n",
       "      <td>ATG9A</td>\n",
       "      <td>0.223744</td>\n",
       "      <td>0.127806</td>\n",
       "      <td>2.084799</td>\n",
       "      <td>CDA</td>\n",
       "      <td>0.217972</td>\n",
       "      <td>0.049148</td>\n",
       "      <td>0.830354</td>\n",
       "      <td>ATG9A</td>\n",
       "    </tr>\n",
       "    <tr>\n",
       "      <th>3</th>\n",
       "      <td>0.048501</td>\n",
       "      <td>0.097668</td>\n",
       "      <td>0.048553</td>\n",
       "      <td>5.079136</td>\n",
       "      <td>RP2</td>\n",
       "      <td>GSDMD</td>\n",
       "      <td>0.196318</td>\n",
       "      <td>0.048553</td>\n",
       "      <td>0.942392</td>\n",
       "      <td>RP2</td>\n",
       "      <td>1.654619</td>\n",
       "      <td>5.079136</td>\n",
       "      <td>3.599478</td>\n",
       "      <td>GSDMD</td>\n",
       "    </tr>\n",
       "    <tr>\n",
       "      <th>4</th>\n",
       "      <td>0.030851</td>\n",
       "      <td>0.219664</td>\n",
       "      <td>0.060061</td>\n",
       "      <td>0.328425</td>\n",
       "      <td>G6PC3</td>\n",
       "      <td>IPO7</td>\n",
       "      <td>0.317127</td>\n",
       "      <td>0.060061</td>\n",
       "      <td>0.603239</td>\n",
       "      <td>G6PC3</td>\n",
       "      <td>0.955714</td>\n",
       "      <td>0.328425</td>\n",
       "      <td>0.594373</td>\n",
       "      <td>IPO7</td>\n",
       "    </tr>\n",
       "  </tbody>\n",
       "</table>\n",
       "</div>"
      ],
      "text/plain": [
       "        cov      corr     var_1     var_2 gene_1 gene_2      mean  variance  \\\n",
       "0  0.006896  0.065034  0.217799  0.051630   DHPS  UTP20  0.634454  0.217799   \n",
       "1  0.064438  0.268827  0.580330  0.099005  VPS29  NUDT2  1.366663  0.580330   \n",
       "2  0.001710  0.021580  0.127806  0.049148    CDA  ATG9A  0.223744  0.127806   \n",
       "3  0.048501  0.097668  0.048553  5.079136    RP2  GSDMD  0.196318  0.048553   \n",
       "4  0.030851  0.219664  0.060061  0.328425  G6PC3   IPO7  0.317127  0.060061   \n",
       "\n",
       "         rv gene_2_1    mean_1  variance_1      rv_1 gene_1_1  \n",
       "0  0.766910     DHPS  0.160969    0.051630  1.293442    UTP20  \n",
       "1  0.573244    VPS29  0.513809    0.099005  0.484826    NUDT2  \n",
       "2  2.084799      CDA  0.217972    0.049148  0.830354    ATG9A  \n",
       "3  0.942392      RP2  1.654619    5.079136  3.599478    GSDMD  \n",
       "4  0.603239    G6PC3  0.955714    0.328425  0.594373     IPO7  "
      ]
     },
     "execution_count": 118,
     "metadata": {},
     "output_type": "execute_result"
    }
   ],
   "source": [
    "stim_moments_2d.head(5)"
   ]
  },
  {
   "cell_type": "code",
   "execution_count": 145,
   "id": "thermal-banking",
   "metadata": {},
   "outputs": [
    {
     "name": "stdout",
     "output_type": "stream",
     "text": [
      "0    1275\n",
      "1     406\n",
      "Name: is_ko, dtype: int64\n"
     ]
    }
   ],
   "source": [
    "g_ko = 'STAT1'\n",
    "tf = 'STAT2'\n",
    "targets = list(set(thp1_isgs) - set([tf]))#['ISG15', 'IFIT1', 'MX1', 'OASL', 'GBP1', 'GBP4']\n",
    "genes = targets + [tf]\n",
    "subset = adata[(adata.obs['treatment']=='tx') & (\n",
    "               adata.obs['gene'].isin([g_ko]) |\n",
    "               (\n",
    "                    adata.obs['gene'].isin(['NT']) & (\n",
    "                    adata.obs['guide_ID'].str.contains('g1') |\n",
    "                    adata.obs['guide_ID'].str.contains('g2') | \n",
    "                    adata.obs['guide_ID'].str.contains('g3') | \n",
    "                    adata.obs['guide_ID'].str.contains('g4'))))\n",
    "                    ].copy().copy()\n",
    "subset.obs['is_ko'] = subset.obs.guide_ID.str.contains(g_ko).values.astype(int)\n",
    "memento.create_groups(subset, label_columns=['is_ko'])\n",
    "memento.compute_1d_moments(subset, min_perc_group=.7)\n",
    "targets = list(set(targets) & set(subset.var.index))\n",
    "genes = targets + [tf]\n",
    "# memento.compute_2d_moments(subset, list(itertools.product([tf], targets))   )\n",
    "g1 = np.random.choice(subset.var.index, 2000)\n",
    "g2 = np.random.choice(subset.var.index, 2000)\n",
    "memento.compute_2d_moments(subset, list(zip(g1, g2)))\n",
    "ctrl_moments = pd.DataFrame(np.vstack(subset.uns['memento']['1d_moments']['sg^0']).T, columns=['mean', 'variance', 'rv'])\n",
    "ctrl_moments['gene_1'] = subset.var.index.tolist()\n",
    "ctrl_moments['gene_2'] = subset.var.index.tolist()\n",
    "stim_moments = pd.DataFrame(np.vstack(subset.uns['memento']['1d_moments']['sg^1']).T, columns=['mean', 'variance', 'rv'])\n",
    "stim_moments['gene_1'] = subset.var.index.tolist()\n",
    "stim_moments['gene_2'] = subset.var.index.tolist()\n",
    "\n",
    "ctrl_moments_2d = pd.DataFrame(subset.uns['memento']['2d_moments']['sg^0'])\n",
    "ctrl_moments_2d['gene_1'] = g1\n",
    "ctrl_moments_2d['gene_2'] = g2\n",
    "ctrl_moments_2d = ctrl_moments_2d.merge(ctrl_moments, on='gene_1', suffixes=('', '_1')).merge(ctrl_moments, on='gene_2', suffixes=('', '_1'))\n",
    "\n",
    "# ctrl_moments_2d['rv_1'] = ctrl_moments.loc[tf,'rv']\n",
    "# ctrl_moments_2d['mean_1'] = ctrl_moments.loc[tf,'mean']\n",
    "\n",
    "# ctrl_moments_2d['beta'] = ctrl_moments_2d['cov']/ctrl_moments_2d['var_1']\n",
    "# ctrl_moments_2d['resbeta'] = ctrl_moments_2d['corr']*ctrl_moments_2d['rv']/ctrl_moments_2d['rv_1']\n",
    "# ctrl_moments_2d['rescov'] = ctrl_moments_2d['cov']/np.sqrt(ctrl_moments_2d['rv']*ctrl_moments_2d['rv_1'])\n",
    "\n",
    "stim_moments_2d = pd.DataFrame(subset.uns['memento']['2d_moments']['sg^1'])\n",
    "stim_moments_2d['gene_1'] = g1\n",
    "stim_moments_2d['gene_2'] = g2\n",
    "stim_moments_2d = stim_moments_2d.merge(stim_moments, on='gene_1', suffixes=('', '_1')).merge(stim_moments, on='gene_2', suffixes=('', '_1'))\n",
    "\n",
    "# stim_moments_2d['rv_1'] = stim_moments.loc[tf,'rv']\n",
    "# stim_moments_2d['mean_1'] = stim_moments.loc[tf,'mean']\n",
    "\n",
    "# stim_moments_2d['beta'] = stim_moments_2d['cov']/stim_moments_2d['var_1']\n",
    "# stim_moments_2d['resbeta'] = stim_moments_2d['corr']*stim_moments_2d['rv']/stim_moments_2d['rv_1']\n",
    "# stim_moments_2d['rescov'] = stim_moments_2d['cov']/np.sqrt(stim_moments_2d['rv']*stim_moments_2d['rv_1'])\n",
    "\n",
    "print(subset.obs['is_ko'].value_counts())"
   ]
  },
  {
   "cell_type": "code",
   "execution_count": 146,
   "id": "heard-thread",
   "metadata": {},
   "outputs": [
    {
     "data": {
      "text/html": [
       "<div>\n",
       "<style scoped>\n",
       "    .dataframe tbody tr th:only-of-type {\n",
       "        vertical-align: middle;\n",
       "    }\n",
       "\n",
       "    .dataframe tbody tr th {\n",
       "        vertical-align: top;\n",
       "    }\n",
       "\n",
       "    .dataframe thead th {\n",
       "        text-align: right;\n",
       "    }\n",
       "</style>\n",
       "<table border=\"1\" class=\"dataframe\">\n",
       "  <thead>\n",
       "    <tr style=\"text-align: right;\">\n",
       "      <th></th>\n",
       "      <th>cov</th>\n",
       "      <th>corr</th>\n",
       "      <th>var_1</th>\n",
       "      <th>var_2</th>\n",
       "      <th>gene_1</th>\n",
       "      <th>gene_2</th>\n",
       "      <th>mean</th>\n",
       "      <th>variance</th>\n",
       "      <th>rv</th>\n",
       "      <th>gene_2_1</th>\n",
       "      <th>mean_1</th>\n",
       "      <th>variance_1</th>\n",
       "      <th>rv_1</th>\n",
       "      <th>gene_1_1</th>\n",
       "    </tr>\n",
       "  </thead>\n",
       "  <tbody>\n",
       "    <tr>\n",
       "      <th>0</th>\n",
       "      <td>0.069989</td>\n",
       "      <td>0.220107</td>\n",
       "      <td>3.727247</td>\n",
       "      <td>0.027127</td>\n",
       "      <td>ELOVL1</td>\n",
       "      <td>ZC3H3</td>\n",
       "      <td>3.394535</td>\n",
       "      <td>3.727247</td>\n",
       "      <td>0.725246</td>\n",
       "      <td>ELOVL1</td>\n",
       "      <td>0.255079</td>\n",
       "      <td>0.027127</td>\n",
       "      <td>0.370101</td>\n",
       "      <td>ZC3H3</td>\n",
       "    </tr>\n",
       "    <tr>\n",
       "      <th>1</th>\n",
       "      <td>-0.038946</td>\n",
       "      <td>-0.048550</td>\n",
       "      <td>0.076521</td>\n",
       "      <td>8.409195</td>\n",
       "      <td>ZBTB1</td>\n",
       "      <td>ENO1</td>\n",
       "      <td>0.253030</td>\n",
       "      <td>0.076521</td>\n",
       "      <td>1.055659</td>\n",
       "      <td>ZBTB1</td>\n",
       "      <td>4.774987</td>\n",
       "      <td>8.409195</td>\n",
       "      <td>0.867825</td>\n",
       "      <td>ENO1</td>\n",
       "    </tr>\n",
       "    <tr>\n",
       "      <th>2</th>\n",
       "      <td>-0.090166</td>\n",
       "      <td>-0.231734</td>\n",
       "      <td>0.018003</td>\n",
       "      <td>8.409195</td>\n",
       "      <td>ZNF414</td>\n",
       "      <td>ENO1</td>\n",
       "      <td>0.169593</td>\n",
       "      <td>0.018003</td>\n",
       "      <td>0.422195</td>\n",
       "      <td>ZNF414</td>\n",
       "      <td>4.774987</td>\n",
       "      <td>8.409195</td>\n",
       "      <td>0.867825</td>\n",
       "      <td>ENO1</td>\n",
       "    </tr>\n",
       "    <tr>\n",
       "      <th>3</th>\n",
       "      <td>0.028254</td>\n",
       "      <td>0.321802</td>\n",
       "      <td>0.258901</td>\n",
       "      <td>0.029776</td>\n",
       "      <td>COPS6</td>\n",
       "      <td>TIPIN</td>\n",
       "      <td>0.703732</td>\n",
       "      <td>0.258901</td>\n",
       "      <td>0.772704</td>\n",
       "      <td>COPS6</td>\n",
       "      <td>0.135308</td>\n",
       "      <td>0.029776</td>\n",
       "      <td>0.924238</td>\n",
       "      <td>TIPIN</td>\n",
       "    </tr>\n",
       "    <tr>\n",
       "      <th>4</th>\n",
       "      <td>-0.023750</td>\n",
       "      <td>-0.285967</td>\n",
       "      <td>0.049664</td>\n",
       "      <td>0.138880</td>\n",
       "      <td>FMNL3</td>\n",
       "      <td>AAMP</td>\n",
       "      <td>0.175510</td>\n",
       "      <td>0.049664</td>\n",
       "      <td>1.114754</td>\n",
       "      <td>FMNL3</td>\n",
       "      <td>0.471420</td>\n",
       "      <td>0.138880</td>\n",
       "      <td>0.776034</td>\n",
       "      <td>AAMP</td>\n",
       "    </tr>\n",
       "  </tbody>\n",
       "</table>\n",
       "</div>"
      ],
      "text/plain": [
       "        cov      corr     var_1     var_2  gene_1 gene_2      mean  variance  \\\n",
       "0  0.069989  0.220107  3.727247  0.027127  ELOVL1  ZC3H3  3.394535  3.727247   \n",
       "1 -0.038946 -0.048550  0.076521  8.409195   ZBTB1   ENO1  0.253030  0.076521   \n",
       "2 -0.090166 -0.231734  0.018003  8.409195  ZNF414   ENO1  0.169593  0.018003   \n",
       "3  0.028254  0.321802  0.258901  0.029776   COPS6  TIPIN  0.703732  0.258901   \n",
       "4 -0.023750 -0.285967  0.049664  0.138880   FMNL3   AAMP  0.175510  0.049664   \n",
       "\n",
       "         rv gene_2_1    mean_1  variance_1      rv_1 gene_1_1  \n",
       "0  0.725246   ELOVL1  0.255079    0.027127  0.370101    ZC3H3  \n",
       "1  1.055659    ZBTB1  4.774987    8.409195  0.867825     ENO1  \n",
       "2  0.422195   ZNF414  4.774987    8.409195  0.867825     ENO1  \n",
       "3  0.772704    COPS6  0.135308    0.029776  0.924238    TIPIN  \n",
       "4  1.114754    FMNL3  0.471420    0.138880  0.776034     AAMP  "
      ]
     },
     "execution_count": 146,
     "metadata": {},
     "output_type": "execute_result"
    }
   ],
   "source": [
    "stim_moments_2d.head(5)"
   ]
  },
  {
   "cell_type": "code",
   "execution_count": 152,
   "id": "contrary-range",
   "metadata": {},
   "outputs": [
    {
     "data": {
      "text/plain": [
       "LinregressResult(slope=0.8812883671046996, intercept=-2.605903426540591, rvalue=0.7761665802893046, pvalue=0.0, stderr=0.01601657561662384, intercept_stderr=0.04017375312085927)"
      ]
     },
     "execution_count": 152,
     "metadata": {},
     "output_type": "execute_result"
    }
   ],
   "source": [
    "wt_fit"
   ]
  },
  {
   "cell_type": "code",
   "execution_count": 153,
   "id": "ecological-break",
   "metadata": {},
   "outputs": [
    {
     "data": {
      "text/plain": [
       "<matplotlib.legend.Legend at 0x7f388c107370>"
      ]
     },
     "execution_count": 153,
     "metadata": {},
     "output_type": "execute_result"
    },
    {
     "data": {
      "image/png": "[encoded data removed]",
      "text/plain": [
       "<Figure size 432x288 with 1 Axes>"
      ]
     },
     "metadata": {
      "needs_background": "light"
     },
     "output_type": "display_data"
    }
   ],
   "source": [
    "a = ctrl_moments_2d['mean']*ctrl_moments_2d['mean_1']\n",
    "b = ctrl_moments_2d['cov']\n",
    "plt.scatter(np.log(a),np.log(np.abs(b)), s=10)\n",
    "wt_fit = stats.linregress(np.log(a),np.log(np.abs(b)))\n",
    "\n",
    "a = stim_moments_2d['mean']*stim_moments_2d['mean_1']\n",
    "b = stim_moments_2d['cov']\n",
    "ko_fit = stats.linregress(np.log(a),np.log(np.abs(b)))\n",
    "\n",
    "plt.scatter(np.log(a),np.log(np.abs(b)), s=10)\n",
    "plt.xlabel('product of means')\n",
    "plt.ylabel('covariance')\n",
    "plt.legend(['WT', 'KO'])"
   ]
  },
  {
   "cell_type": "code",
   "execution_count": 130,
   "id": "preliminary-timing",
   "metadata": {},
   "outputs": [
    {
     "data": {
      "text/plain": [
       "<matplotlib.legend.Legend at 0x7f388c3d6340>"
      ]
     },
     "execution_count": 130,
     "metadata": {},
     "output_type": "execute_result"
    },
    {
     "data": {
      "image/png": "[encoded data removed]",
      "text/plain": [
       "<Figure size 432x288 with 1 Axes>"
      ]
     },
     "metadata": {
      "needs_background": "light"
     },
     "output_type": "display_data"
    }
   ],
   "source": [
    "a = ctrl_moments_2d['mean']*ctrl_moments_2d['mean_1']\n",
    "b = ctrl_moments_2d['corr']\n",
    "plt.scatter(np.log(a),np.log(np.abs(b)), s=10)\n",
    "\n",
    "a = stim_moments_2d['mean']*stim_moments_2d['mean_1']\n",
    "b = stim_moments_2d['corr']\n",
    "plt.scatter(np.log(a),np.log(np.abs(b)), s=10)\n",
    "plt.xlabel('product of means')\n",
    "plt.ylabel('correlation')\n",
    "plt.legend(['WT', 'KO'])"
   ]
  },
  {
   "cell_type": "markdown",
   "id": "alpine-guess",
   "metadata": {},
   "source": [
    "### ISGs"
   ]
  },
  {
   "cell_type": "code",
   "execution_count": 131,
   "id": "wireless-worcester",
   "metadata": {},
   "outputs": [
    {
     "name": "stderr",
     "output_type": "stream",
     "text": [
      "/home/ssm-user/anaconda3/envs/single_cell/lib/python3.8/site-packages/pandas/core/arrays/categorical.py:2487: FutureWarning: The `inplace` parameter in pandas.Categorical.remove_unused_categories is deprecated and will be removed in a future version.\n",
      "  res = method(*args, **kwargs)\n"
     ]
    },
    {
     "name": "stdout",
     "output_type": "stream",
     "text": [
      "0    1275\n",
      "1     406\n",
      "Name: is_ko, dtype: int64\n"
     ]
    }
   ],
   "source": [
    "g_ko = 'STAT1'\n",
    "tf = 'STAT2'\n",
    "targets = list(set(thp1_isgs) - set([tf]))#['ISG15', 'IFIT1', 'MX1', 'OASL', 'GBP1', 'GBP4']\n",
    "genes = targets + [tf]\n",
    "subset = adata[(adata.obs['treatment']=='tx') & (\n",
    "               adata.obs['gene'].isin([g_ko]) |\n",
    "               (\n",
    "                    adata.obs['gene'].isin(['NT']) & (\n",
    "                    adata.obs['guide_ID'].str.contains('g1') |\n",
    "                    adata.obs['guide_ID'].str.contains('g2') | \n",
    "                    adata.obs['guide_ID'].str.contains('g3') | \n",
    "                    adata.obs['guide_ID'].str.contains('g4'))))\n",
    "                    ].copy().copy()\n",
    "subset.obs['is_ko'] = subset.obs.guide_ID.str.contains(g_ko).values.astype(int)\n",
    "memento.create_groups(subset, label_columns=['is_ko'])\n",
    "memento.compute_1d_moments(subset, min_perc_group=.7)\n",
    "targets = list(set(targets) & set(subset.var.index))\n",
    "genes = targets + [tf]\n",
    "# memento.compute_2d_moments(subset, list(itertools.product([tf], targets))   )\n",
    "g1 = np.random.choice(targets, len(targets))\n",
    "g2 = np.random.choice(targets, len(targets))\n",
    "memento.compute_2d_moments(subset, list(zip(g1, g2)))\n",
    "ctrl_moments = pd.DataFrame(np.vstack(subset.uns['memento']['1d_moments']['sg^0']).T, columns=['mean', 'variance', 'rv'])\n",
    "ctrl_moments['gene_1'] = subset.var.index.tolist()\n",
    "ctrl_moments['gene_2'] = subset.var.index.tolist()\n",
    "stim_moments = pd.DataFrame(np.vstack(subset.uns['memento']['1d_moments']['sg^1']).T, columns=['mean', 'variance', 'rv'])\n",
    "stim_moments['gene_1'] = subset.var.index.tolist()\n",
    "stim_moments['gene_2'] = subset.var.index.tolist()\n",
    "\n",
    "ctrl_moments_2d = pd.DataFrame(subset.uns['memento']['2d_moments']['sg^0'])\n",
    "ctrl_moments_2d['gene_1'] = g1\n",
    "ctrl_moments_2d['gene_2'] = g2\n",
    "ctrl_moments_2d = ctrl_moments_2d.merge(ctrl_moments, on='gene_1', suffixes=('', '_1')).merge(ctrl_moments, on='gene_2', suffixes=('', '_1'))\n",
    "\n",
    "# ctrl_moments_2d['rv_1'] = ctrl_moments.loc[tf,'rv']\n",
    "# ctrl_moments_2d['mean_1'] = ctrl_moments.loc[tf,'mean']\n",
    "\n",
    "# ctrl_moments_2d['beta'] = ctrl_moments_2d['cov']/ctrl_moments_2d['var_1']\n",
    "# ctrl_moments_2d['resbeta'] = ctrl_moments_2d['corr']*ctrl_moments_2d['rv']/ctrl_moments_2d['rv_1']\n",
    "# ctrl_moments_2d['rescov'] = ctrl_moments_2d['cov']/np.sqrt(ctrl_moments_2d['rv']*ctrl_moments_2d['rv_1'])\n",
    "\n",
    "stim_moments_2d = pd.DataFrame(subset.uns['memento']['2d_moments']['sg^1'])\n",
    "stim_moments_2d['gene_1'] = g1\n",
    "stim_moments_2d['gene_2'] = g2\n",
    "stim_moments_2d = stim_moments_2d.merge(stim_moments, on='gene_1', suffixes=('', '_1')).merge(stim_moments, on='gene_2', suffixes=('', '_1'))\n",
    "\n",
    "# stim_moments_2d['rv_1'] = stim_moments.loc[tf,'rv']\n",
    "# stim_moments_2d['mean_1'] = stim_moments.loc[tf,'mean']\n",
    "\n",
    "# stim_moments_2d['beta'] = stim_moments_2d['cov']/stim_moments_2d['var_1']\n",
    "# stim_moments_2d['resbeta'] = stim_moments_2d['corr']*stim_moments_2d['rv']/stim_moments_2d['rv_1']\n",
    "# stim_moments_2d['rescov'] = stim_moments_2d['cov']/np.sqrt(stim_moments_2d['rv']*stim_moments_2d['rv_1'])\n",
    "\n",
    "print(subset.obs['is_ko'].value_counts())"
   ]
  },
  {
   "cell_type": "code",
   "execution_count": 132,
   "id": "early-situation",
   "metadata": {},
   "outputs": [
    {
     "data": {
      "text/plain": [
       "<matplotlib.legend.Legend at 0x7f388c828610>"
      ]
     },
     "execution_count": 132,
     "metadata": {},
     "output_type": "execute_result"
    },
    {
     "data": {
      "image/png": "[encoded data removed]",
      "text/plain": [
       "<Figure size 432x288 with 1 Axes>"
      ]
     },
     "metadata": {
      "needs_background": "light"
     },
     "output_type": "display_data"
    }
   ],
   "source": [
    "a = ctrl_moments_2d['mean']*ctrl_moments_2d['mean_1']\n",
    "b = ctrl_moments_2d['cov']\n",
    "plt.scatter(np.log(a),np.log(np.abs(b)), s=10)\n",
    "\n",
    "a = stim_moments_2d['mean']*stim_moments_2d['mean_1']\n",
    "b = stim_moments_2d['cov']\n",
    "plt.scatter(np.log(a),np.log(np.abs(b)), s=10)\n",
    "plt.xlabel('product of means')\n",
    "plt.ylabel('covariance')\n",
    "plt.legend(['WT', 'KO'])"
   ]
  },
  {
   "cell_type": "code",
   "execution_count": 133,
   "id": "interim-pleasure",
   "metadata": {},
   "outputs": [
    {
     "data": {
      "text/plain": [
       "<matplotlib.legend.Legend at 0x7f388c3ebfd0>"
      ]
     },
     "execution_count": 133,
     "metadata": {},
     "output_type": "execute_result"
    },
    {
     "data": {
      "image/png": "[encoded data removed]",
      "text/plain": [
       "<Figure size 432x288 with 1 Axes>"
      ]
     },
     "metadata": {
      "needs_background": "light"
     },
     "output_type": "display_data"
    }
   ],
   "source": [
    "a = ctrl_moments_2d['mean']*ctrl_moments_2d['mean_1']\n",
    "b = ctrl_moments_2d['corr']\n",
    "plt.scatter(np.log(a),np.log(np.abs(b)), s=10)\n",
    "\n",
    "a = stim_moments_2d['mean']*stim_moments_2d['mean_1']\n",
    "b = stim_moments_2d['corr']\n",
    "plt.scatter(np.log(a),np.log(np.abs(b)), s=10)\n",
    "plt.xlabel('product of means')\n",
    "plt.ylabel('correlation')\n",
    "plt.legend(['WT', 'KO'])"
   ]
  },
  {
   "cell_type": "code",
   "execution_count": 69,
   "id": "accepting-affect",
   "metadata": {},
   "outputs": [
    {
     "data": {
      "text/plain": [
       "IFITM1     3.792549\n",
       "OASL       0.677473\n",
       "IFI6       4.084124\n",
       "IFI30     11.704710\n",
       "ISG15      1.970254\n",
       "IFIT3      1.988852\n",
       "OAS3       1.153110\n",
       "OAS1       0.545205\n",
       "OAS2       0.583394\n",
       "IFITM3    10.722706\n",
       "IFI16      1.063539\n",
       "IFI44      0.506687\n",
       "IFIH1      0.847112\n",
       "MX1        2.246057\n",
       "ISG20      1.221888\n",
       "IFI27      6.515215\n",
       "IFI35      2.300781\n",
       "IFI44L     1.611699\n",
       "dtype: float64"
      ]
     },
     "execution_count": 69,
     "metadata": {},
     "output_type": "execute_result"
    }
   ],
   "source": [
    "tau_prime"
   ]
  },
  {
   "cell_type": "code",
   "execution_count": null,
   "id": "serious-hands",
   "metadata": {},
   "outputs": [],
   "source": []
  },
  {
   "cell_type": "code",
   "execution_count": 53,
   "id": "focused-workstation",
   "metadata": {},
   "outputs": [
    {
     "data": {
      "text/html": [
       "<div>\n",
       "<style scoped>\n",
       "    .dataframe tbody tr th:only-of-type {\n",
       "        vertical-align: middle;\n",
       "    }\n",
       "\n",
       "    .dataframe tbody tr th {\n",
       "        vertical-align: top;\n",
       "    }\n",
       "\n",
       "    .dataframe thead th {\n",
       "        text-align: right;\n",
       "    }\n",
       "</style>\n",
       "<table border=\"1\" class=\"dataframe\">\n",
       "  <thead>\n",
       "    <tr style=\"text-align: right;\">\n",
       "      <th></th>\n",
       "      <th>cov</th>\n",
       "      <th>corr</th>\n",
       "      <th>var_1</th>\n",
       "      <th>var_2</th>\n",
       "      <th>mean</th>\n",
       "      <th>variance</th>\n",
       "      <th>rv</th>\n",
       "      <th>rv_1</th>\n",
       "      <th>mean_1</th>\n",
       "      <th>beta</th>\n",
       "      <th>resbeta</th>\n",
       "      <th>rescov</th>\n",
       "    </tr>\n",
       "  </thead>\n",
       "  <tbody>\n",
       "    <tr>\n",
       "      <th>IFITM1</th>\n",
       "      <td>0.648004</td>\n",
       "      <td>0.149248</td>\n",
       "      <td>0.835325</td>\n",
       "      <td>22.567421</td>\n",
       "      <td>5.114479</td>\n",
       "      <td>22.567421</td>\n",
       "      <td>2.022876</td>\n",
       "      <td>0.654707</td>\n",
       "      <td>1.560683</td>\n",
       "      <td>0.775751</td>\n",
       "      <td>0.461138</td>\n",
       "      <td>0.563079</td>\n",
       "    </tr>\n",
       "    <tr>\n",
       "      <th>OASL</th>\n",
       "      <td>0.049545</td>\n",
       "      <td>0.063961</td>\n",
       "      <td>0.835325</td>\n",
       "      <td>0.718308</td>\n",
       "      <td>0.712651</td>\n",
       "      <td>0.718308</td>\n",
       "      <td>2.120702</td>\n",
       "      <td>0.654707</td>\n",
       "      <td>1.560683</td>\n",
       "      <td>0.059312</td>\n",
       "      <td>0.207180</td>\n",
       "      <td>0.042047</td>\n",
       "    </tr>\n",
       "    <tr>\n",
       "      <th>IFI6</th>\n",
       "      <td>3.159613</td>\n",
       "      <td>0.336895</td>\n",
       "      <td>0.835325</td>\n",
       "      <td>105.298737</td>\n",
       "      <td>10.675975</td>\n",
       "      <td>105.298737</td>\n",
       "      <td>2.312492</td>\n",
       "      <td>0.654707</td>\n",
       "      <td>1.560683</td>\n",
       "      <td>3.782496</td>\n",
       "      <td>1.189947</td>\n",
       "      <td>2.567853</td>\n",
       "    </tr>\n",
       "    <tr>\n",
       "      <th>IFI30</th>\n",
       "      <td>18.151489</td>\n",
       "      <td>0.257026</td>\n",
       "      <td>0.835325</td>\n",
       "      <td>5970.540527</td>\n",
       "      <td>89.620834</td>\n",
       "      <td>5970.540527</td>\n",
       "      <td>2.152888</td>\n",
       "      <td>0.654707</td>\n",
       "      <td>1.560683</td>\n",
       "      <td>21.729858</td>\n",
       "      <td>0.845186</td>\n",
       "      <td>15.288958</td>\n",
       "    </tr>\n",
       "    <tr>\n",
       "      <th>ISG15</th>\n",
       "      <td>1.337502</td>\n",
       "      <td>0.288262</td>\n",
       "      <td>0.835325</td>\n",
       "      <td>25.772675</td>\n",
       "      <td>4.529153</td>\n",
       "      <td>25.772675</td>\n",
       "      <td>2.903891</td>\n",
       "      <td>0.654707</td>\n",
       "      <td>1.560683</td>\n",
       "      <td>1.601175</td>\n",
       "      <td>1.278557</td>\n",
       "      <td>0.970020</td>\n",
       "    </tr>\n",
       "    <tr>\n",
       "      <th>IFIT3</th>\n",
       "      <td>0.356634</td>\n",
       "      <td>0.160792</td>\n",
       "      <td>0.835325</td>\n",
       "      <td>5.889283</td>\n",
       "      <td>2.653188</td>\n",
       "      <td>5.889283</td>\n",
       "      <td>1.785691</td>\n",
       "      <td>0.654707</td>\n",
       "      <td>1.560683</td>\n",
       "      <td>0.426940</td>\n",
       "      <td>0.438553</td>\n",
       "      <td>0.329834</td>\n",
       "    </tr>\n",
       "    <tr>\n",
       "      <th>OAS3</th>\n",
       "      <td>0.328723</td>\n",
       "      <td>0.203245</td>\n",
       "      <td>0.835325</td>\n",
       "      <td>3.131580</td>\n",
       "      <td>1.856672</td>\n",
       "      <td>3.131580</td>\n",
       "      <td>1.806107</td>\n",
       "      <td>0.654707</td>\n",
       "      <td>1.560683</td>\n",
       "      <td>0.393527</td>\n",
       "      <td>0.560682</td>\n",
       "      <td>0.302298</td>\n",
       "    </tr>\n",
       "    <tr>\n",
       "      <th>OAS1</th>\n",
       "      <td>0.414579</td>\n",
       "      <td>0.479239</td>\n",
       "      <td>0.835325</td>\n",
       "      <td>0.895889</td>\n",
       "      <td>1.352581</td>\n",
       "      <td>0.895889</td>\n",
       "      <td>0.901169</td>\n",
       "      <td>0.654707</td>\n",
       "      <td>1.560683</td>\n",
       "      <td>0.496309</td>\n",
       "      <td>0.659647</td>\n",
       "      <td>0.539735</td>\n",
       "    </tr>\n",
       "    <tr>\n",
       "      <th>OAS2</th>\n",
       "      <td>0.143009</td>\n",
       "      <td>0.264808</td>\n",
       "      <td>0.835325</td>\n",
       "      <td>0.349149</td>\n",
       "      <td>0.915944</td>\n",
       "      <td>0.349149</td>\n",
       "      <td>0.681812</td>\n",
       "      <td>0.654707</td>\n",
       "      <td>1.560683</td>\n",
       "      <td>0.171202</td>\n",
       "      <td>0.275771</td>\n",
       "      <td>0.214047</td>\n",
       "    </tr>\n",
       "    <tr>\n",
       "      <th>IFITM3</th>\n",
       "      <td>3.252892</td>\n",
       "      <td>0.291137</td>\n",
       "      <td>0.835325</td>\n",
       "      <td>149.448059</td>\n",
       "      <td>17.867298</td>\n",
       "      <td>149.448059</td>\n",
       "      <td>1.209563</td>\n",
       "      <td>0.654707</td>\n",
       "      <td>1.560683</td>\n",
       "      <td>3.894164</td>\n",
       "      <td>0.537871</td>\n",
       "      <td>3.655373</td>\n",
       "    </tr>\n",
       "    <tr>\n",
       "      <th>IFI16</th>\n",
       "      <td>0.619917</td>\n",
       "      <td>0.374468</td>\n",
       "      <td>0.835325</td>\n",
       "      <td>3.280823</td>\n",
       "      <td>2.601965</td>\n",
       "      <td>3.280823</td>\n",
       "      <td>1.030743</td>\n",
       "      <td>0.654707</td>\n",
       "      <td>1.560683</td>\n",
       "      <td>0.742127</td>\n",
       "      <td>0.589546</td>\n",
       "      <td>0.754632</td>\n",
       "    </tr>\n",
       "    <tr>\n",
       "      <th>IFI44</th>\n",
       "      <td>0.158315</td>\n",
       "      <td>0.315424</td>\n",
       "      <td>0.835325</td>\n",
       "      <td>0.301577</td>\n",
       "      <td>0.762659</td>\n",
       "      <td>0.301577</td>\n",
       "      <td>0.797158</td>\n",
       "      <td>0.654707</td>\n",
       "      <td>1.560683</td>\n",
       "      <td>0.189525</td>\n",
       "      <td>0.384053</td>\n",
       "      <td>0.219142</td>\n",
       "    </tr>\n",
       "    <tr>\n",
       "      <th>IFIH1</th>\n",
       "      <td>0.042255</td>\n",
       "      <td>0.049768</td>\n",
       "      <td>0.835325</td>\n",
       "      <td>0.862977</td>\n",
       "      <td>1.044732</td>\n",
       "      <td>0.862977</td>\n",
       "      <td>1.350918</td>\n",
       "      <td>0.654707</td>\n",
       "      <td>1.560683</td>\n",
       "      <td>0.050585</td>\n",
       "      <td>0.102691</td>\n",
       "      <td>0.044930</td>\n",
       "    </tr>\n",
       "    <tr>\n",
       "      <th>MX1</th>\n",
       "      <td>0.587093</td>\n",
       "      <td>0.193302</td>\n",
       "      <td>0.835325</td>\n",
       "      <td>11.042951</td>\n",
       "      <td>3.243697</td>\n",
       "      <td>11.042951</td>\n",
       "      <td>2.316125</td>\n",
       "      <td>0.654707</td>\n",
       "      <td>1.560683</td>\n",
       "      <td>0.702832</td>\n",
       "      <td>0.683835</td>\n",
       "      <td>0.476763</td>\n",
       "    </tr>\n",
       "    <tr>\n",
       "      <th>ISG20</th>\n",
       "      <td>0.407990</td>\n",
       "      <td>0.132250</td>\n",
       "      <td>0.835325</td>\n",
       "      <td>11.393436</td>\n",
       "      <td>2.091146</td>\n",
       "      <td>11.393436</td>\n",
       "      <td>5.313523</td>\n",
       "      <td>0.654707</td>\n",
       "      <td>1.560683</td>\n",
       "      <td>0.488421</td>\n",
       "      <td>1.073321</td>\n",
       "      <td>0.218743</td>\n",
       "    </tr>\n",
       "    <tr>\n",
       "      <th>IFI27</th>\n",
       "      <td>4.253977</td>\n",
       "      <td>0.302828</td>\n",
       "      <td>0.835325</td>\n",
       "      <td>236.233551</td>\n",
       "      <td>14.316671</td>\n",
       "      <td>236.233551</td>\n",
       "      <td>2.939901</td>\n",
       "      <td>0.654707</td>\n",
       "      <td>1.560683</td>\n",
       "      <td>5.092602</td>\n",
       "      <td>1.359822</td>\n",
       "      <td>3.066233</td>\n",
       "    </tr>\n",
       "    <tr>\n",
       "      <th>IFI35</th>\n",
       "      <td>0.785511</td>\n",
       "      <td>0.360700</td>\n",
       "      <td>0.835325</td>\n",
       "      <td>5.677504</td>\n",
       "      <td>4.122478</td>\n",
       "      <td>5.677504</td>\n",
       "      <td>0.762943</td>\n",
       "      <td>0.654707</td>\n",
       "      <td>1.560683</td>\n",
       "      <td>0.940365</td>\n",
       "      <td>0.420330</td>\n",
       "      <td>1.111431</td>\n",
       "    </tr>\n",
       "    <tr>\n",
       "      <th>IFI44L</th>\n",
       "      <td>0.525495</td>\n",
       "      <td>0.234596</td>\n",
       "      <td>0.835325</td>\n",
       "      <td>6.006783</td>\n",
       "      <td>2.540287</td>\n",
       "      <td>6.006783</td>\n",
       "      <td>1.971350</td>\n",
       "      <td>0.654707</td>\n",
       "      <td>1.560683</td>\n",
       "      <td>0.629090</td>\n",
       "      <td>0.706376</td>\n",
       "      <td>0.462555</td>\n",
       "    </tr>\n",
       "  </tbody>\n",
       "</table>\n",
       "</div>"
      ],
      "text/plain": [
       "              cov      corr     var_1        var_2       mean     variance  \\\n",
       "IFITM1   0.648004  0.149248  0.835325    22.567421   5.114479    22.567421   \n",
       "OASL     0.049545  0.063961  0.835325     0.718308   0.712651     0.718308   \n",
       "IFI6     3.159613  0.336895  0.835325   105.298737  10.675975   105.298737   \n",
       "IFI30   18.151489  0.257026  0.835325  5970.540527  89.620834  5970.540527   \n",
       "ISG15    1.337502  0.288262  0.835325    25.772675   4.529153    25.772675   \n",
       "IFIT3    0.356634  0.160792  0.835325     5.889283   2.653188     5.889283   \n",
       "OAS3     0.328723  0.203245  0.835325     3.131580   1.856672     3.131580   \n",
       "OAS1     0.414579  0.479239  0.835325     0.895889   1.352581     0.895889   \n",
       "OAS2     0.143009  0.264808  0.835325     0.349149   0.915944     0.349149   \n",
       "IFITM3   3.252892  0.291137  0.835325   149.448059  17.867298   149.448059   \n",
       "IFI16    0.619917  0.374468  0.835325     3.280823   2.601965     3.280823   \n",
       "IFI44    0.158315  0.315424  0.835325     0.301577   0.762659     0.301577   \n",
       "IFIH1    0.042255  0.049768  0.835325     0.862977   1.044732     0.862977   \n",
       "MX1      0.587093  0.193302  0.835325    11.042951   3.243697    11.042951   \n",
       "ISG20    0.407990  0.132250  0.835325    11.393436   2.091146    11.393436   \n",
       "IFI27    4.253977  0.302828  0.835325   236.233551  14.316671   236.233551   \n",
       "IFI35    0.785511  0.360700  0.835325     5.677504   4.122478     5.677504   \n",
       "IFI44L   0.525495  0.234596  0.835325     6.006783   2.540287     6.006783   \n",
       "\n",
       "              rv      rv_1    mean_1       beta   resbeta     rescov  \n",
       "IFITM1  2.022876  0.654707  1.560683   0.775751  0.461138   0.563079  \n",
       "OASL    2.120702  0.654707  1.560683   0.059312  0.207180   0.042047  \n",
       "IFI6    2.312492  0.654707  1.560683   3.782496  1.189947   2.567853  \n",
       "IFI30   2.152888  0.654707  1.560683  21.729858  0.845186  15.288958  \n",
       "ISG15   2.903891  0.654707  1.560683   1.601175  1.278557   0.970020  \n",
       "IFIT3   1.785691  0.654707  1.560683   0.426940  0.438553   0.329834  \n",
       "OAS3    1.806107  0.654707  1.560683   0.393527  0.560682   0.302298  \n",
       "OAS1    0.901169  0.654707  1.560683   0.496309  0.659647   0.539735  \n",
       "OAS2    0.681812  0.654707  1.560683   0.171202  0.275771   0.214047  \n",
       "IFITM3  1.209563  0.654707  1.560683   3.894164  0.537871   3.655373  \n",
       "IFI16   1.030743  0.654707  1.560683   0.742127  0.589546   0.754632  \n",
       "IFI44   0.797158  0.654707  1.560683   0.189525  0.384053   0.219142  \n",
       "IFIH1   1.350918  0.654707  1.560683   0.050585  0.102691   0.044930  \n",
       "MX1     2.316125  0.654707  1.560683   0.702832  0.683835   0.476763  \n",
       "ISG20   5.313523  0.654707  1.560683   0.488421  1.073321   0.218743  \n",
       "IFI27   2.939901  0.654707  1.560683   5.092602  1.359822   3.066233  \n",
       "IFI35   0.762943  0.654707  1.560683   0.940365  0.420330   1.111431  \n",
       "IFI44L  1.971350  0.654707  1.560683   0.629090  0.706376   0.462555  "
      ]
     },
     "execution_count": 53,
     "metadata": {},
     "output_type": "execute_result"
    }
   ],
   "source": [
    "ctrl_moments_2d.loc[select_genes]"
   ]
  },
  {
   "cell_type": "code",
   "execution_count": 54,
   "id": "mathematical-visitor",
   "metadata": {},
   "outputs": [
    {
     "data": {
      "text/html": [
       "<div>\n",
       "<style scoped>\n",
       "    .dataframe tbody tr th:only-of-type {\n",
       "        vertical-align: middle;\n",
       "    }\n",
       "\n",
       "    .dataframe tbody tr th {\n",
       "        vertical-align: top;\n",
       "    }\n",
       "\n",
       "    .dataframe thead th {\n",
       "        text-align: right;\n",
       "    }\n",
       "</style>\n",
       "<table border=\"1\" class=\"dataframe\">\n",
       "  <thead>\n",
       "    <tr style=\"text-align: right;\">\n",
       "      <th></th>\n",
       "      <th>cov</th>\n",
       "      <th>corr</th>\n",
       "      <th>var_1</th>\n",
       "      <th>var_2</th>\n",
       "      <th>mean</th>\n",
       "      <th>variance</th>\n",
       "      <th>rv</th>\n",
       "      <th>rv_1</th>\n",
       "      <th>mean_1</th>\n",
       "      <th>beta</th>\n",
       "      <th>resbeta</th>\n",
       "      <th>rescov</th>\n",
       "    </tr>\n",
       "  </thead>\n",
       "  <tbody>\n",
       "    <tr>\n",
       "      <th>IFITM1</th>\n",
       "      <td>1.485832</td>\n",
       "      <td>0.505001</td>\n",
       "      <td>0.625721</td>\n",
       "      <td>13.834885</td>\n",
       "      <td>1.569513</td>\n",
       "      <td>13.834885</td>\n",
       "      <td>10.736640</td>\n",
       "      <td>2.34745</td>\n",
       "      <td>0.614119</td>\n",
       "      <td>2.374594</td>\n",
       "      <td>2.309744</td>\n",
       "      <td>0.295963</td>\n",
       "    </tr>\n",
       "    <tr>\n",
       "      <th>OASL</th>\n",
       "      <td>0.273766</td>\n",
       "      <td>0.630425</td>\n",
       "      <td>0.625721</td>\n",
       "      <td>0.301378</td>\n",
       "      <td>0.211301</td>\n",
       "      <td>0.301378</td>\n",
       "      <td>5.491399</td>\n",
       "      <td>2.34745</td>\n",
       "      <td>0.614119</td>\n",
       "      <td>0.437521</td>\n",
       "      <td>1.474756</td>\n",
       "      <td>0.076250</td>\n",
       "    </tr>\n",
       "    <tr>\n",
       "      <th>IFI6</th>\n",
       "      <td>2.896188</td>\n",
       "      <td>0.577930</td>\n",
       "      <td>0.625721</td>\n",
       "      <td>40.134918</td>\n",
       "      <td>3.531067</td>\n",
       "      <td>40.134918</td>\n",
       "      <td>7.194861</td>\n",
       "      <td>2.34745</td>\n",
       "      <td>0.614119</td>\n",
       "      <td>4.628565</td>\n",
       "      <td>1.771338</td>\n",
       "      <td>0.704721</td>\n",
       "    </tr>\n",
       "    <tr>\n",
       "      <th>IFI30</th>\n",
       "      <td>7.309811</td>\n",
       "      <td>0.160819</td>\n",
       "      <td>0.625721</td>\n",
       "      <td>3301.855713</td>\n",
       "      <td>51.176998</td>\n",
       "      <td>3301.855713</td>\n",
       "      <td>3.471071</td>\n",
       "      <td>2.34745</td>\n",
       "      <td>0.614119</td>\n",
       "      <td>11.682229</td>\n",
       "      <td>0.237796</td>\n",
       "      <td>2.560803</td>\n",
       "    </tr>\n",
       "    <tr>\n",
       "      <th>ISG15</th>\n",
       "      <td>1.576373</td>\n",
       "      <td>0.480007</td>\n",
       "      <td>0.625721</td>\n",
       "      <td>17.236204</td>\n",
       "      <td>1.607118</td>\n",
       "      <td>17.236204</td>\n",
       "      <td>12.831349</td>\n",
       "      <td>2.34745</td>\n",
       "      <td>0.614119</td>\n",
       "      <td>2.519292</td>\n",
       "      <td>2.623758</td>\n",
       "      <td>0.287227</td>\n",
       "    </tr>\n",
       "    <tr>\n",
       "      <th>IFIT3</th>\n",
       "      <td>0.847891</td>\n",
       "      <td>0.588359</td>\n",
       "      <td>0.625721</td>\n",
       "      <td>3.319057</td>\n",
       "      <td>0.830188</td>\n",
       "      <td>3.319057</td>\n",
       "      <td>7.630807</td>\n",
       "      <td>2.34745</td>\n",
       "      <td>0.614119</td>\n",
       "      <td>1.355063</td>\n",
       "      <td>1.912566</td>\n",
       "      <td>0.200335</td>\n",
       "    </tr>\n",
       "    <tr>\n",
       "      <th>OAS3</th>\n",
       "      <td>0.559669</td>\n",
       "      <td>0.571055</td>\n",
       "      <td>0.625721</td>\n",
       "      <td>1.535064</td>\n",
       "      <td>0.638683</td>\n",
       "      <td>1.535064</td>\n",
       "      <td>5.408768</td>\n",
       "      <td>2.34745</td>\n",
       "      <td>0.614119</td>\n",
       "      <td>0.894440</td>\n",
       "      <td>1.315770</td>\n",
       "      <td>0.157067</td>\n",
       "    </tr>\n",
       "    <tr>\n",
       "      <th>OAS1</th>\n",
       "      <td>0.506226</td>\n",
       "      <td>0.703909</td>\n",
       "      <td>0.625721</td>\n",
       "      <td>0.826561</td>\n",
       "      <td>0.529635</td>\n",
       "      <td>0.826561</td>\n",
       "      <td>3.918470</td>\n",
       "      <td>2.34745</td>\n",
       "      <td>0.614119</td>\n",
       "      <td>0.809028</td>\n",
       "      <td>1.174996</td>\n",
       "      <td>0.166912</td>\n",
       "    </tr>\n",
       "    <tr>\n",
       "      <th>OAS2</th>\n",
       "      <td>0.268913</td>\n",
       "      <td>0.597681</td>\n",
       "      <td>0.625721</td>\n",
       "      <td>0.323522</td>\n",
       "      <td>0.329284</td>\n",
       "      <td>0.323522</td>\n",
       "      <td>3.152372</td>\n",
       "      <td>2.34745</td>\n",
       "      <td>0.614119</td>\n",
       "      <td>0.429765</td>\n",
       "      <td>0.802620</td>\n",
       "      <td>0.098854</td>\n",
       "    </tr>\n",
       "    <tr>\n",
       "      <th>IFITM3</th>\n",
       "      <td>5.545306</td>\n",
       "      <td>0.697224</td>\n",
       "      <td>0.625721</td>\n",
       "      <td>101.094025</td>\n",
       "      <td>6.509533</td>\n",
       "      <td>101.094025</td>\n",
       "      <td>5.736133</td>\n",
       "      <td>2.34745</td>\n",
       "      <td>0.614119</td>\n",
       "      <td>8.862272</td>\n",
       "      <td>1.703709</td>\n",
       "      <td>1.511185</td>\n",
       "    </tr>\n",
       "    <tr>\n",
       "      <th>IFI16</th>\n",
       "      <td>0.923472</td>\n",
       "      <td>0.718705</td>\n",
       "      <td>0.625721</td>\n",
       "      <td>2.638553</td>\n",
       "      <td>1.286551</td>\n",
       "      <td>2.638553</td>\n",
       "      <td>2.894005</td>\n",
       "      <td>2.34745</td>\n",
       "      <td>0.614119</td>\n",
       "      <td>1.475854</td>\n",
       "      <td>0.886040</td>\n",
       "      <td>0.354304</td>\n",
       "    </tr>\n",
       "    <tr>\n",
       "      <th>IFI44</th>\n",
       "      <td>0.361977</td>\n",
       "      <td>0.590835</td>\n",
       "      <td>0.625721</td>\n",
       "      <td>0.599861</td>\n",
       "      <td>0.315450</td>\n",
       "      <td>0.599861</td>\n",
       "      <td>6.222609</td>\n",
       "      <td>2.34745</td>\n",
       "      <td>0.614119</td>\n",
       "      <td>0.578497</td>\n",
       "      <td>1.566181</td>\n",
       "      <td>0.094710</td>\n",
       "    </tr>\n",
       "    <tr>\n",
       "      <th>IFIH1</th>\n",
       "      <td>0.293251</td>\n",
       "      <td>0.618068</td>\n",
       "      <td>0.625721</td>\n",
       "      <td>0.359771</td>\n",
       "      <td>0.406488</td>\n",
       "      <td>0.359771</td>\n",
       "      <td>2.562790</td>\n",
       "      <td>2.34745</td>\n",
       "      <td>0.614119</td>\n",
       "      <td>0.468662</td>\n",
       "      <td>0.674766</td>\n",
       "      <td>0.119560</td>\n",
       "    </tr>\n",
       "    <tr>\n",
       "      <th>MX1</th>\n",
       "      <td>1.343685</td>\n",
       "      <td>0.640723</td>\n",
       "      <td>0.625721</td>\n",
       "      <td>7.028681</td>\n",
       "      <td>1.219516</td>\n",
       "      <td>7.028681</td>\n",
       "      <td>8.452821</td>\n",
       "      <td>2.34745</td>\n",
       "      <td>0.614119</td>\n",
       "      <td>2.147420</td>\n",
       "      <td>2.307149</td>\n",
       "      <td>0.301647</td>\n",
       "    </tr>\n",
       "    <tr>\n",
       "      <th>ISG20</th>\n",
       "      <td>0.714121</td>\n",
       "      <td>0.424407</td>\n",
       "      <td>0.625721</td>\n",
       "      <td>4.524780</td>\n",
       "      <td>0.807869</td>\n",
       "      <td>4.524780</td>\n",
       "      <td>10.881215</td>\n",
       "      <td>2.34745</td>\n",
       "      <td>0.614119</td>\n",
       "      <td>1.141277</td>\n",
       "      <td>1.967268</td>\n",
       "      <td>0.141298</td>\n",
       "    </tr>\n",
       "    <tr>\n",
       "      <th>IFI27</th>\n",
       "      <td>4.297750</td>\n",
       "      <td>0.526534</td>\n",
       "      <td>0.625721</td>\n",
       "      <td>106.475418</td>\n",
       "      <td>4.071588</td>\n",
       "      <td>106.475418</td>\n",
       "      <td>14.644007</td>\n",
       "      <td>2.34745</td>\n",
       "      <td>0.614119</td>\n",
       "      <td>6.868481</td>\n",
       "      <td>3.284654</td>\n",
       "      <td>0.733015</td>\n",
       "    </tr>\n",
       "    <tr>\n",
       "      <th>IFI35</th>\n",
       "      <td>1.227993</td>\n",
       "      <td>0.665450</td>\n",
       "      <td>0.625721</td>\n",
       "      <td>5.442286</td>\n",
       "      <td>1.559311</td>\n",
       "      <td>5.442286</td>\n",
       "      <td>4.272116</td>\n",
       "      <td>2.34745</td>\n",
       "      <td>0.614119</td>\n",
       "      <td>1.962527</td>\n",
       "      <td>1.211049</td>\n",
       "      <td>0.387772</td>\n",
       "    </tr>\n",
       "    <tr>\n",
       "      <th>IFI44L</th>\n",
       "      <td>0.803459</td>\n",
       "      <td>0.553585</td>\n",
       "      <td>0.625721</td>\n",
       "      <td>3.366503</td>\n",
       "      <td>0.735341</td>\n",
       "      <td>3.366503</td>\n",
       "      <td>9.444969</td>\n",
       "      <td>2.34745</td>\n",
       "      <td>0.614119</td>\n",
       "      <td>1.284055</td>\n",
       "      <td>2.227349</td>\n",
       "      <td>0.170634</td>\n",
       "    </tr>\n",
       "  </tbody>\n",
       "</table>\n",
       "</div>"
      ],
      "text/plain": [
       "             cov      corr     var_1        var_2       mean     variance  \\\n",
       "IFITM1  1.485832  0.505001  0.625721    13.834885   1.569513    13.834885   \n",
       "OASL    0.273766  0.630425  0.625721     0.301378   0.211301     0.301378   \n",
       "IFI6    2.896188  0.577930  0.625721    40.134918   3.531067    40.134918   \n",
       "IFI30   7.309811  0.160819  0.625721  3301.855713  51.176998  3301.855713   \n",
       "ISG15   1.576373  0.480007  0.625721    17.236204   1.607118    17.236204   \n",
       "IFIT3   0.847891  0.588359  0.625721     3.319057   0.830188     3.319057   \n",
       "OAS3    0.559669  0.571055  0.625721     1.535064   0.638683     1.535064   \n",
       "OAS1    0.506226  0.703909  0.625721     0.826561   0.529635     0.826561   \n",
       "OAS2    0.268913  0.597681  0.625721     0.323522   0.329284     0.323522   \n",
       "IFITM3  5.545306  0.697224  0.625721   101.094025   6.509533   101.094025   \n",
       "IFI16   0.923472  0.718705  0.625721     2.638553   1.286551     2.638553   \n",
       "IFI44   0.361977  0.590835  0.625721     0.599861   0.315450     0.599861   \n",
       "IFIH1   0.293251  0.618068  0.625721     0.359771   0.406488     0.359771   \n",
       "MX1     1.343685  0.640723  0.625721     7.028681   1.219516     7.028681   \n",
       "ISG20   0.714121  0.424407  0.625721     4.524780   0.807869     4.524780   \n",
       "IFI27   4.297750  0.526534  0.625721   106.475418   4.071588   106.475418   \n",
       "IFI35   1.227993  0.665450  0.625721     5.442286   1.559311     5.442286   \n",
       "IFI44L  0.803459  0.553585  0.625721     3.366503   0.735341     3.366503   \n",
       "\n",
       "               rv     rv_1    mean_1       beta   resbeta    rescov  \n",
       "IFITM1  10.736640  2.34745  0.614119   2.374594  2.309744  0.295963  \n",
       "OASL     5.491399  2.34745  0.614119   0.437521  1.474756  0.076250  \n",
       "IFI6     7.194861  2.34745  0.614119   4.628565  1.771338  0.704721  \n",
       "IFI30    3.471071  2.34745  0.614119  11.682229  0.237796  2.560803  \n",
       "ISG15   12.831349  2.34745  0.614119   2.519292  2.623758  0.287227  \n",
       "IFIT3    7.630807  2.34745  0.614119   1.355063  1.912566  0.200335  \n",
       "OAS3     5.408768  2.34745  0.614119   0.894440  1.315770  0.157067  \n",
       "OAS1     3.918470  2.34745  0.614119   0.809028  1.174996  0.166912  \n",
       "OAS2     3.152372  2.34745  0.614119   0.429765  0.802620  0.098854  \n",
       "IFITM3   5.736133  2.34745  0.614119   8.862272  1.703709  1.511185  \n",
       "IFI16    2.894005  2.34745  0.614119   1.475854  0.886040  0.354304  \n",
       "IFI44    6.222609  2.34745  0.614119   0.578497  1.566181  0.094710  \n",
       "IFIH1    2.562790  2.34745  0.614119   0.468662  0.674766  0.119560  \n",
       "MX1      8.452821  2.34745  0.614119   2.147420  2.307149  0.301647  \n",
       "ISG20   10.881215  2.34745  0.614119   1.141277  1.967268  0.141298  \n",
       "IFI27   14.644007  2.34745  0.614119   6.868481  3.284654  0.733015  \n",
       "IFI35    4.272116  2.34745  0.614119   1.962527  1.211049  0.387772  \n",
       "IFI44L   9.444969  2.34745  0.614119   1.284055  2.227349  0.170634  "
      ]
     },
     "execution_count": 54,
     "metadata": {},
     "output_type": "execute_result"
    }
   ],
   "source": [
    "stim_moments_2d.loc[select_genes]"
   ]
  },
  {
   "cell_type": "markdown",
   "id": "incorporate-alfred",
   "metadata": {},
   "source": [
    "### Mediation"
   ]
  },
  {
   "cell_type": "code",
   "execution_count": 139,
   "id": "miniature-estonia",
   "metadata": {},
   "outputs": [],
   "source": [
    "ko_genes = ['JAK2', 'IFNGR1', 'IFNGR2','STAT1', 'IRF1']"
   ]
  },
  {
   "cell_type": "code",
   "execution_count": 142,
   "id": "attempted-brooks",
   "metadata": {},
   "outputs": [
    {
     "name": "stderr",
     "output_type": "stream",
     "text": [
      "/home/ssm-user/anaconda3/envs/single_cell/lib/python3.8/site-packages/pandas/core/arrays/categorical.py:2487: FutureWarning: The `inplace` parameter in pandas.Categorical.remove_unused_categories is deprecated and will be removed in a future version.\n",
      "  res = method(*args, **kwargs)\n",
      "[Parallel(n_jobs=94)]: Using backend LokyBackend with 94 concurrent workers.\n",
      "[Parallel(n_jobs=94)]: Done  12 tasks      | elapsed:    4.0s\n",
      "[Parallel(n_jobs=94)]: Done 262 tasks      | elapsed:    5.1s\n",
      "[Parallel(n_jobs=94)]: Done 612 tasks      | elapsed:    6.8s\n",
      "[Parallel(n_jobs=94)]: Done 1062 tasks      | elapsed:    9.0s\n",
      "[Parallel(n_jobs=94)]: Done 1612 tasks      | elapsed:   11.1s\n",
      "[Parallel(n_jobs=94)]: Done 2262 tasks      | elapsed:   13.7s\n",
      "[Parallel(n_jobs=94)]: Done 3012 tasks      | elapsed:   16.8s\n",
      "[Parallel(n_jobs=94)]: Done 3862 tasks      | elapsed:   20.5s\n",
      "[Parallel(n_jobs=94)]: Done 4812 tasks      | elapsed:   24.2s\n",
      "[Parallel(n_jobs=94)]: Done 5862 tasks      | elapsed:   28.5s\n",
      "[Parallel(n_jobs=94)]: Done 7012 tasks      | elapsed:   32.9s\n",
      "[Parallel(n_jobs=94)]: Done 8262 tasks      | elapsed:   38.2s\n",
      "[Parallel(n_jobs=94)]: Done 9092 out of 9092 | elapsed:   43.9s finished\n"
     ]
    },
    {
     "name": "stdout",
     "output_type": "stream",
     "text": [
      "JAK2 IFNGR1 0.1707876543587378\n",
      "JAK2 IFNGR2 0.2504721247823415\n",
      "JAK2 STAT1 0.3278423872338933\n",
      "JAK2 IRF1 0.49795562756114714\n"
     ]
    },
    {
     "name": "stderr",
     "output_type": "stream",
     "text": [
      "[Parallel(n_jobs=94)]: Using backend LokyBackend with 94 concurrent workers.\n",
      "[Parallel(n_jobs=94)]: Done  12 tasks      | elapsed:    0.2s\n",
      "[Parallel(n_jobs=94)]: Done 340 tasks      | elapsed:    1.8s\n",
      "[Parallel(n_jobs=94)]: Done 1031 tasks      | elapsed:    4.8s\n",
      "[Parallel(n_jobs=94)]: Done 1530 tasks      | elapsed:    6.7s\n",
      "[Parallel(n_jobs=94)]: Done 2082 tasks      | elapsed:    8.9s\n",
      "[Parallel(n_jobs=94)]: Done 2732 tasks      | elapsed:   11.4s\n",
      "[Parallel(n_jobs=94)]: Done 3482 tasks      | elapsed:   14.8s\n",
      "[Parallel(n_jobs=94)]: Done 4332 tasks      | elapsed:   18.2s\n",
      "[Parallel(n_jobs=94)]: Done 5282 tasks      | elapsed:   21.9s\n",
      "[Parallel(n_jobs=94)]: Done 6332 tasks      | elapsed:   26.2s\n",
      "[Parallel(n_jobs=94)]: Done 7482 tasks      | elapsed:   31.0s\n",
      "[Parallel(n_jobs=94)]: Done 8732 tasks      | elapsed:   36.1s\n",
      "[Parallel(n_jobs=94)]: Done 9088 out of 9088 | elapsed:   39.8s finished\n"
     ]
    },
    {
     "name": "stdout",
     "output_type": "stream",
     "text": [
      "IFNGR1 JAK2 0.3776827685664616\n",
      "IFNGR1 IFNGR2 0.2707664742870064\n",
      "IFNGR1 STAT1 0.3314617911667676\n",
      "IFNGR1 IRF1 0.5024775478180896\n"
     ]
    },
    {
     "name": "stderr",
     "output_type": "stream",
     "text": [
      "[Parallel(n_jobs=94)]: Using backend LokyBackend with 94 concurrent workers.\n",
      "[Parallel(n_jobs=94)]: Done  12 tasks      | elapsed:    0.2s\n",
      "[Parallel(n_jobs=94)]: Done 340 tasks      | elapsed:    1.9s\n",
      "[Parallel(n_jobs=94)]: Done 1034 tasks      | elapsed:    5.2s\n",
      "[Parallel(n_jobs=94)]: Done 1530 tasks      | elapsed:    7.3s\n",
      "[Parallel(n_jobs=94)]: Done 2082 tasks      | elapsed:    9.7s\n",
      "[Parallel(n_jobs=94)]: Done 2732 tasks      | elapsed:   12.4s\n",
      "[Parallel(n_jobs=94)]: Done 3482 tasks      | elapsed:   16.1s\n",
      "[Parallel(n_jobs=94)]: Done 4332 tasks      | elapsed:   20.0s\n",
      "[Parallel(n_jobs=94)]: Done 5282 tasks      | elapsed:   24.1s\n",
      "[Parallel(n_jobs=94)]: Done 6332 tasks      | elapsed:   28.7s\n",
      "[Parallel(n_jobs=94)]: Done 7482 tasks      | elapsed:   33.9s\n",
      "[Parallel(n_jobs=94)]: Done 8732 tasks      | elapsed:   39.6s\n",
      "[Parallel(n_jobs=94)]: Done 9093 out of 9093 | elapsed:   43.5s finished\n"
     ]
    },
    {
     "name": "stdout",
     "output_type": "stream",
     "text": [
      "IFNGR2 JAK2 0.3351025791629705\n",
      "IFNGR2 IFNGR1 0.2225171652935503\n",
      "IFNGR2 STAT1 0.2826870678997886\n",
      "IFNGR2 IRF1 0.4802481418904425\n"
     ]
    },
    {
     "name": "stderr",
     "output_type": "stream",
     "text": [
      "[Parallel(n_jobs=94)]: Using backend LokyBackend with 94 concurrent workers.\n",
      "[Parallel(n_jobs=94)]: Done  12 tasks      | elapsed:    0.2s\n",
      "[Parallel(n_jobs=94)]: Done 340 tasks      | elapsed:    1.6s\n",
      "[Parallel(n_jobs=94)]: Done 1036 tasks      | elapsed:    4.4s\n",
      "[Parallel(n_jobs=94)]: Done 1623 tasks      | elapsed:    6.5s\n",
      "[Parallel(n_jobs=94)]: Done 2176 tasks      | elapsed:    8.4s\n",
      "[Parallel(n_jobs=94)]: Done 2826 tasks      | elapsed:   10.7s\n",
      "[Parallel(n_jobs=94)]: Done 3576 tasks      | elapsed:   13.9s\n",
      "[Parallel(n_jobs=94)]: Done 4426 tasks      | elapsed:   17.1s\n",
      "[Parallel(n_jobs=94)]: Done 5376 tasks      | elapsed:   20.5s\n",
      "[Parallel(n_jobs=94)]: Done 6426 tasks      | elapsed:   24.4s\n",
      "[Parallel(n_jobs=94)]: Done 7576 tasks      | elapsed:   28.6s\n",
      "[Parallel(n_jobs=94)]: Done 8826 tasks      | elapsed:   33.4s\n",
      "[Parallel(n_jobs=94)]: Done 9086 out of 9086 | elapsed:   36.3s finished\n"
     ]
    },
    {
     "name": "stdout",
     "output_type": "stream",
     "text": [
      "STAT1 JAK2 0.34193845072005324\n",
      "STAT1 IFNGR1 0.27548226928777414\n",
      "STAT1 IFNGR2 0.3501124686696521\n",
      "STAT1 IRF1 0.37409947781357134\n"
     ]
    },
    {
     "name": "stderr",
     "output_type": "stream",
     "text": [
      "[Parallel(n_jobs=94)]: Using backend LokyBackend with 94 concurrent workers.\n",
      "[Parallel(n_jobs=94)]: Done  12 tasks      | elapsed:    0.2s\n",
      "[Parallel(n_jobs=94)]: Done 340 tasks      | elapsed:    1.9s\n",
      "[Parallel(n_jobs=94)]: Done 1033 tasks      | elapsed:    5.4s\n",
      "[Parallel(n_jobs=94)]: Done 1531 tasks      | elapsed:    7.4s\n",
      "[Parallel(n_jobs=94)]: Done 2082 tasks      | elapsed:   10.0s\n",
      "[Parallel(n_jobs=94)]: Done 2732 tasks      | elapsed:   12.7s\n",
      "[Parallel(n_jobs=94)]: Done 3482 tasks      | elapsed:   16.4s\n",
      "[Parallel(n_jobs=94)]: Done 4332 tasks      | elapsed:   20.3s\n",
      "[Parallel(n_jobs=94)]: Done 5282 tasks      | elapsed:   24.4s\n",
      "[Parallel(n_jobs=94)]: Done 6332 tasks      | elapsed:   29.2s\n",
      "[Parallel(n_jobs=94)]: Done 7482 tasks      | elapsed:   34.3s\n",
      "[Parallel(n_jobs=94)]: Done 8732 tasks      | elapsed:   40.0s\n",
      "[Parallel(n_jobs=94)]: Done 9134 out of 9134 | elapsed:   44.2s finished\n"
     ]
    },
    {
     "name": "stdout",
     "output_type": "stream",
     "text": [
      "IRF1 JAK2 0.16543681418507772\n",
      "IRF1 IFNGR1 0.05955465336002374\n",
      "IRF1 IFNGR2 0.1479643306945895\n",
      "IRF1 STAT1 0.3609217417218928\n"
     ]
    }
   ],
   "source": [
    "mediation_effects = {}\n",
    "for g_ko in ko_genes:\n",
    "    mediation_effects[g_ko] = {}\n",
    "    subset = adata.copy().copy()\n",
    "    subset = adata[adata.obs['gene'].isin(['NT', g_ko]) & (adata.obs['treatment']=='tx')].copy().copy()\n",
    "    subset.obs['is_ko'] = subset.obs.guide_ID.str.contains(g_ko).values.astype(int)\n",
    "\n",
    "    memento.create_groups(subset, label_columns=['is_ko'])\n",
    "\n",
    "    memento.compute_1d_moments(subset, min_perc_group=.7)\n",
    "    # memento.compute_2d_moments(subset, list(itertools.product(['STAT1', 'STAT2'],['ISG15', 'OAS1', 'OAS2','IFI6', 'MX1', 'MX2', 'GBP1', 'HLA-DRA']))   )\n",
    "    memento.ht_1d_moments(\n",
    "        subset, \n",
    "        formula_like='1 + is_ko',\n",
    "        treatment_col='is_ko', \n",
    "        num_boot=10000, \n",
    "        verbose=1,\n",
    "        resampling='permutation',\n",
    "        approx=False,\n",
    "        num_cpus=94)\n",
    "    df = memento.get_1d_ht_result(subset)\n",
    "\n",
    "    df['de_fdr'] = memento.util._fdrcorrect(df['de_pval'])\n",
    "    de_genes = df.query('de_fdr < 0.05 & de_coef < -0.5').gene.tolist()\n",
    "    de_tfs = list(set(tf_list) & set(de_genes))\n",
    "\n",
    "    for tf in ko_genes:\n",
    "        if tf == g_ko: continue\n",
    "\n",
    "        targets = list(set(subset.var.index.tolist()) & set(de_genes) - set([tf]))\n",
    "        # targets = ['GBP1', ]\n",
    "        genes = [tf] + targets\n",
    "        memento.compute_2d_moments(subset, list(itertools.product([tf], targets))   )\n",
    "\n",
    "        moments = memento.get_2d_moments(subset, groupby='is_ko')\n",
    "\n",
    "        ctrl_moments = pd.DataFrame(np.vstack(subset.uns['memento']['1d_moments']['sg^0']).T, columns=['mean', 'variance', 'rv'])\n",
    "        ctrl_moments.index = subset.var.index.tolist()\n",
    "        ctrl_moments = ctrl_moments.loc[genes]\n",
    "        stim_moments = pd.DataFrame(np.vstack(subset.uns['memento']['1d_moments']['sg^1']).T, columns=['mean', 'variance', 'rv'])\n",
    "        stim_moments.index = subset.var.index.tolist()\n",
    "        stim_moments = stim_moments.loc[genes]\n",
    "\n",
    "        ctrl_moments_2d = pd.DataFrame(subset.uns['memento']['2d_moments']['sg^0'])\n",
    "        ctrl_moments_2d.index = targets\n",
    "        stim_moments_2d = pd.DataFrame(subset.uns['memento']['2d_moments']['sg^1'])\n",
    "        stim_moments_2d.index = targets\n",
    "\n",
    "        tau = stim_moments['mean'][targets] - ctrl_moments['mean'][targets]\n",
    "        tf_tau = stim_moments['mean'][tf] - ctrl_moments['mean'][tf]\n",
    "        beta_stim = stim_moments_2d['cov']/stim_moments_2d['var_1']\n",
    "        alpha_stim = stim_moments['mean'][targets] - beta_stim*stim_moments['mean'][tf]\n",
    "        beta_ctrl = ctrl_moments_2d['cov']/ctrl_moments_2d['var_1']\n",
    "        alpha_ctrl = ctrl_moments['mean'][targets] - beta_ctrl*ctrl_moments['mean'][tf]\n",
    "        tau_prime = alpha_stim - alpha_ctrl\n",
    "        sobel = (tau.abs()-tau_prime.abs())/tau.abs()\n",
    "        mediation_effects[g_ko][tf] = sobel.copy()\n",
    "        print(g_ko, tf, sobel.mean())"
   ]
  },
  {
   "cell_type": "code",
   "execution_count": 143,
   "id": "earned-somewhere",
   "metadata": {},
   "outputs": [],
   "source": [
    "heatmap = pd.DataFrame(columns=ko_genes, index=ko_genes)"
   ]
  },
  {
   "cell_type": "code",
   "execution_count": 144,
   "id": "twenty-registration",
   "metadata": {},
   "outputs": [],
   "source": [
    "for g_ko in ko_genes:\n",
    "    for tf in ko_genes:\n",
    "        if g_ko == tf: continue\n",
    "        heatmap.loc[g_ko, tf] = mediation_effects[g_ko][tf].mean()"
   ]
  },
  {
   "cell_type": "code",
   "execution_count": 147,
   "id": "chief-citizenship",
   "metadata": {},
   "outputs": [
    {
     "data": {
      "text/plain": [
       "Text(33.0, 0.5, 'Experiment KO')"
      ]
     },
     "execution_count": 147,
     "metadata": {},
     "output_type": "execute_result"
    },
    {
     "data": {
      "image/png": "[encoded data removed]",
      "text/plain": [
       "<Figure size 432x288 with 2 Axes>"
      ]
     },
     "metadata": {
      "needs_background": "light"
     },
     "output_type": "display_data"
    }
   ],
   "source": [
    "sns.heatmap(heatmap.fillna(0))\n",
    "plt.xlabel('TF'); plt.ylabel('Experiment KO')"
   ]
  },
  {
   "cell_type": "code",
   "execution_count": 131,
   "id": "pleased-breed",
   "metadata": {},
   "outputs": [],
   "source": [
    "df['de_fdr'] = memento.util._fdrcorrect(df['de_pval'])"
   ]
  },
  {
   "cell_type": "code",
   "execution_count": 132,
   "id": "frozen-thanksgiving",
   "metadata": {},
   "outputs": [],
   "source": [
    "de_genes = df.query('de_fdr < 0.05 & de_coef < -0.5').gene.tolist()"
   ]
  },
  {
   "cell_type": "code",
   "execution_count": 133,
   "id": "general-corpus",
   "metadata": {},
   "outputs": [],
   "source": [
    "de_tfs = list(set(tf_list) & set(de_genes))"
   ]
  },
  {
   "cell_type": "code",
   "execution_count": 134,
   "id": "departmental-brighton",
   "metadata": {},
   "outputs": [],
   "source": [
    "tf = 'IRF1'\n",
    "\n",
    "targets = list(set(subset.var.index.tolist()) & set(de_genes) - set([tf]))\n",
    "# targets = ['GBP1', ]\n",
    "genes = [tf] + targets\n",
    "memento.compute_2d_moments(subset, list(itertools.product([tf], targets))   )\n",
    "\n",
    "moments = memento.get_2d_moments(subset, groupby='is_ko')"
   ]
  },
  {
   "cell_type": "code",
   "execution_count": 135,
   "id": "respiratory-stake",
   "metadata": {},
   "outputs": [],
   "source": [
    "ctrl_moments = pd.DataFrame(np.vstack(subset.uns['memento']['1d_moments']['sg^0']).T, columns=['mean', 'variance', 'rv'])\n",
    "ctrl_moments.index = subset.var.index.tolist()\n",
    "ctrl_moments = ctrl_moments.loc[genes]\n",
    "stim_moments = pd.DataFrame(np.vstack(subset.uns['memento']['1d_moments']['sg^1']).T, columns=['mean', 'variance', 'rv'])\n",
    "stim_moments.index = subset.var.index.tolist()\n",
    "stim_moments = stim_moments.loc[genes]\n",
    "\n",
    "ctrl_moments_2d = pd.DataFrame(subset.uns['memento']['2d_moments']['sg^0'])\n",
    "ctrl_moments_2d.index = targets\n",
    "stim_moments_2d = pd.DataFrame(subset.uns['memento']['2d_moments']['sg^1'])\n",
    "stim_moments_2d.index = targets\n"
   ]
  },
  {
   "cell_type": "code",
   "execution_count": 136,
   "id": "neural-interval",
   "metadata": {},
   "outputs": [],
   "source": [
    "tau = stim_moments['mean'][targets] - ctrl_moments['mean'][targets]\n",
    "tf_tau = stim_moments['mean'][tf] - ctrl_moments['mean'][tf]\n",
    "beta_stim = stim_moments_2d['cov']/stim_moments_2d['var_1']\n",
    "alpha_stim = stim_moments['mean'][targets] - beta_stim*stim_moments['mean'][tf]\n",
    "beta_ctrl = ctrl_moments_2d['cov']/ctrl_moments_2d['var_1']\n",
    "alpha_ctrl = ctrl_moments['mean'][targets] - beta_ctrl*ctrl_moments['mean'][tf]\n",
    "tau_prime = alpha_stim - alpha_ctrl\n",
    "sobel = (tau.abs()-tau_prime.abs())/tau.abs()\n",
    "\n",
    "# sobel = (tau-np.clip(tau_prime, a_min=0, a_max=tau))/tau"
   ]
  },
  {
   "cell_type": "code",
   "execution_count": 137,
   "id": "sophisticated-bolivia",
   "metadata": {},
   "outputs": [
    {
     "name": "stdout",
     "output_type": "stream",
     "text": [
      "JAK2 KO IRF1 mediation\n",
      "0.5024775478180896\n"
     ]
    }
   ],
   "source": [
    "print('JAK2 KO', 'IRF1 mediation')\n",
    "print(sobel.sort_values(ascending=False).mean())"
   ]
  },
  {
   "cell_type": "code",
   "execution_count": null,
   "id": "higher-declaration",
   "metadata": {},
   "outputs": [],
   "source": []
  },
  {
   "cell_type": "code",
   "execution_count": 138,
   "id": "fifteen-rogers",
   "metadata": {},
   "outputs": [
    {
     "name": "stdout",
     "output_type": "stream",
     "text": [
      "IRF1 KO JAK2 mediation\n",
      "0.5024775478180896\n"
     ]
    }
   ],
   "source": [
    "print('IRF1 KO', 'JAK2 mediation')\n",
    "print(sobel.sort_values(ascending=False).mean())"
   ]
  },
  {
   "cell_type": "code",
   "execution_count": 104,
   "id": "angry-denial",
   "metadata": {},
   "outputs": [
    {
     "data": {
      "text/plain": [
       "0.3748747070125631"
      ]
     },
     "execution_count": 104,
     "metadata": {},
     "output_type": "execute_result"
    }
   ],
   "source": [
    "sobel.sort_values(ascending=False).mean()"
   ]
  },
  {
   "cell_type": "code",
   "execution_count": 96,
   "id": "dietary-snake",
   "metadata": {},
   "outputs": [
    {
     "data": {
      "text/plain": [
       "0.3536723447915945"
      ]
     },
     "execution_count": 96,
     "metadata": {},
     "output_type": "execute_result"
    }
   ],
   "source": [
    "sobel.sort_values(ascending=False).mean()"
   ]
  },
  {
   "cell_type": "markdown",
   "id": "varied-insight",
   "metadata": {},
   "source": [
    "### Get JAK/STAT dependent TFs"
   ]
  },
  {
   "cell_type": "code",
   "execution_count": 18,
   "id": "universal-toilet",
   "metadata": {},
   "outputs": [],
   "source": [
    "g_ko = 'STAT1'\n",
    "subset = adata.copy().copy()\n",
    "subset = adata[adata.obs['gene'].isin(['NT', g_ko]) & (adata.obs['treatment']=='tx')].copy().copy()\n",
    "subset.obs['is_ko'] = subset.obs.guide_ID.str.contains(g_ko).values.astype(int)\n",
    "\n",
    "memento.create_groups(subset, label_columns=['is_ko'])\n",
    "\n",
    "memento.compute_1d_moments(subset, min_perc_group=.7)\n",
    "\n",
    "available_genes = list(set(subset.var.index.tolist()) & set(thp1_isgs))\n",
    "available_tfs = list(set(filtered_tfs) & set(subset.var.index))\n",
    "# memento.compute_2d_moments(subset, list(itertools.product(['STAT1', 'STAT2'],['ISG15', 'OAS1', 'OAS2','IFI6', 'MX1', 'MX2', 'GBP1', 'HLA-DRA']))   )\n",
    "memento.compute_2d_moments(subset, list(itertools.product(['STAT1'], available_genes))   )\n",
    "\n",
    "moments = memento.get_2d_moments(subset, groupby='is_ko')"
   ]
  },
  {
   "cell_type": "code",
   "execution_count": 19,
   "id": "italian-rating",
   "metadata": {},
   "outputs": [],
   "source": [
    "moments['diff'] = moments['is_ko_1'] - moments['is_ko_0']\n"
   ]
  },
  {
   "cell_type": "code",
   "execution_count": 22,
   "id": "spectacular-timber",
   "metadata": {},
   "outputs": [
    {
     "data": {
      "text/plain": [
       "<matplotlib.legend.Legend at 0x7f5cc58dec40>"
      ]
     },
     "execution_count": 22,
     "metadata": {},
     "output_type": "execute_result"
    },
    {
     "data": {
      "image/png": "[encoded data removed]",
      "text/plain": [
       "<Figure size 432x288 with 1 Axes>"
      ]
     },
     "metadata": {
      "needs_background": "light"
     },
     "output_type": "display_data"
    }
   ],
   "source": [
    "sns.kdeplot(moments['is_ko_0'])\n",
    "\n",
    "sns.kdeplot(moments['is_ko_1'])\n",
    "plt.xlabel('Correlation with STAT1');\n",
    "plt.legend(['WT', 'STAT1 KO'])"
   ]
  },
  {
   "cell_type": "code",
   "execution_count": 21,
   "id": "frank-touch",
   "metadata": {},
   "outputs": [],
   "source": [
    "moments['diff'] = moments['is_ko_1'] - moments['is_ko_0']\n",
    "ranking = moments.groupby('gene_1')['diff'].mean().sort_values(ascending=False)"
   ]
  },
  {
   "cell_type": "code",
   "execution_count": 48,
   "id": "accompanied-turkey",
   "metadata": {},
   "outputs": [
    {
     "data": {
      "text/html": [
       "<div>\n",
       "<style scoped>\n",
       "    .dataframe tbody tr th:only-of-type {\n",
       "        vertical-align: middle;\n",
       "    }\n",
       "\n",
       "    .dataframe tbody tr th {\n",
       "        vertical-align: top;\n",
       "    }\n",
       "\n",
       "    .dataframe thead th {\n",
       "        text-align: right;\n",
       "    }\n",
       "</style>\n",
       "<table border=\"1\" class=\"dataframe\">\n",
       "  <thead>\n",
       "    <tr style=\"text-align: right;\">\n",
       "      <th></th>\n",
       "      <th>gene_1</th>\n",
       "      <th>gene_2</th>\n",
       "      <th>is_ko_0</th>\n",
       "      <th>is_ko_1</th>\n",
       "      <th>diff</th>\n",
       "    </tr>\n",
       "  </thead>\n",
       "  <tbody>\n",
       "  </tbody>\n",
       "</table>\n",
       "</div>"
      ],
      "text/plain": [
       "Empty DataFrame\n",
       "Columns: [gene_1, gene_2, is_ko_0, is_ko_1, diff]\n",
       "Index: []"
      ]
     },
     "execution_count": 48,
     "metadata": {},
     "output_type": "execute_result"
    }
   ],
   "source": [
    "moments.query('gene_1 == \"IRF9\" & gene_2 == \"MX2\"')"
   ]
  },
  {
   "cell_type": "code",
   "execution_count": 53,
   "id": "threaded-identifier",
   "metadata": {},
   "outputs": [
    {
     "data": {
      "text/plain": [
       "-0.031025440141640354"
      ]
     },
     "execution_count": 53,
     "metadata": {},
     "output_type": "execute_result"
    }
   ],
   "source": [
    "ranking['IRF9']"
   ]
  },
  {
   "cell_type": "markdown",
   "id": "professional-drawing",
   "metadata": {},
   "source": [
    "### Run 2D memento for transcription factors"
   ]
  },
  {
   "cell_type": "code",
   "execution_count": 54,
   "id": "white-player",
   "metadata": {},
   "outputs": [],
   "source": [
    "done_files = os.listdir(data_path + '2d_tf/')\n",
    "for g in filtered_tfs:\n",
    "    \n",
    "    for g_ko in ['NT', 'STAT1', 'JAK2', 'IFNGR1', 'CUL3']:\n",
    "        print(g, g_ko)\n",
    "        \n",
    "        if g == g_ko or g == 'NT' or g_ko == 'NT': continue\n",
    "        fname = '{}_with_{}_KO_isg.h5ad'.format(g, g_ko)\n",
    "        if fname in done_files: continue\n",
    "        \n",
    "        subset = adata.copy().copy()\n",
    "\n",
    "        subset = adata[adata.obs['gene'].isin(['NT', g_ko]) & (adata.obs['treatment']=='tx')].copy().copy()\n",
    "    \n",
    "        subset.obs['is_ko'] = subset.obs.guide_ID.str.contains(g_ko).values.astype(int)\n",
    "\n",
    "        memento.create_groups(subset, label_columns=['is_ko', 'replicate'])\n",
    "        \n",
    "        memento.compute_1d_moments(subset, min_perc_group=.7)\n",
    "        \n",
    "        if g not in subset.var.index: continue\n",
    "        available_genes = list(set(subset.var.index.tolist()) & set(thp1_isgs))\n",
    "        memento.compute_2d_moments(subset, list(itertools.product([g], available_genes))   )\n",
    "#         moments = memento.get_2d_moments(subset, groupby='is_ko')\n",
    "#         available_genes = moments.query('is_ko_0 > 0.2 | is_ko_0 < -0.2').gene_2.tolist()\n",
    "#         memento.compute_2d_moments(subset, list(itertools.product([g], available_genes))   )\n",
    "        \n",
    "        print(g, g_ko, len(available_genes))\n",
    "        memento.ht_2d_moments( \n",
    "            subset, \n",
    "            formula_like='1 + is_ko + replicate',\n",
    "            treatment_col='is_ko', \n",
    "            num_boot=10000, \n",
    "            verbose=1,\n",
    "            num_cpus=94,\n",
    "            resampling='permutation',\n",
    "            approx=True)\n",
    "        \n",
    "        subset.write(data_path + '2d_tf/{}_with_{}_KO_isg.h5ad'.format(g, g_ko))"
   ]
  },
  {
   "cell_type": "code",
   "execution_count": 59,
   "id": "civic-thermal",
   "metadata": {},
   "outputs": [
    {
     "data": {
      "text/plain": [
       "True"
      ]
     },
     "execution_count": 59,
     "metadata": {},
     "output_type": "execute_result"
    }
   ],
   "source": [
    "'STAT1' in filtered_tfs"
   ]
  },
  {
   "cell_type": "code",
   "execution_count": 60,
   "id": "broken-blues",
   "metadata": {},
   "outputs": [
    {
     "ename": "FileNotFoundError",
     "evalue": "[Errno 2] Unable to open file (unable to open file: name = '/data_volume/memento/eccite/2d_tf/STAT1_with_STAT1_KO_isg.h5ad', errno = 2, error message = 'No such file or directory', flags = 0, o_flags = 0)",
     "output_type": "error",
     "traceback": [
      "\u001b[0;31m---------------------------------------------------------------------------\u001b[0m",
      "\u001b[0;31mFileNotFoundError\u001b[0m                         Traceback (most recent call last)",
      "\u001b[0;32m<ipython-input-60-b43bacce444f>\u001b[0m in \u001b[0;36m<module>\u001b[0;34m\u001b[0m\n\u001b[1;32m      1\u001b[0m \u001b[0mtf\u001b[0m \u001b[0;34m=\u001b[0m \u001b[0;34m'STAT1'\u001b[0m\u001b[0;34m\u001b[0m\u001b[0;34m\u001b[0m\u001b[0m\n\u001b[1;32m      2\u001b[0m \u001b[0mg_ko\u001b[0m \u001b[0;34m=\u001b[0m \u001b[0;34m'STAT1'\u001b[0m\u001b[0;34m\u001b[0m\u001b[0;34m\u001b[0m\u001b[0m\n\u001b[0;32m----> 3\u001b[0;31m \u001b[0msubset\u001b[0m \u001b[0;34m=\u001b[0m \u001b[0msc\u001b[0m\u001b[0;34m.\u001b[0m\u001b[0mread\u001b[0m\u001b[0;34m(\u001b[0m\u001b[0mdata_path\u001b[0m \u001b[0;34m+\u001b[0m \u001b[0;34m'2d_tf/{}_with_{}_KO_isg.h5ad'\u001b[0m\u001b[0;34m.\u001b[0m\u001b[0mformat\u001b[0m\u001b[0;34m(\u001b[0m\u001b[0mtf\u001b[0m\u001b[0;34m,\u001b[0m \u001b[0mg_ko\u001b[0m\u001b[0;34m)\u001b[0m\u001b[0;34m)\u001b[0m\u001b[0;34m\u001b[0m\u001b[0;34m\u001b[0m\u001b[0m\n\u001b[0m",
      "\u001b[0;32m~/anaconda3/envs/single_cell/lib/python3.8/site-packages/scanpy/readwrite.py\u001b[0m in \u001b[0;36mread\u001b[0;34m(filename, backed, sheet, ext, delimiter, first_column_names, backup_url, cache, cache_compression, **kwargs)\u001b[0m\n\u001b[1;32m    110\u001b[0m     \u001b[0mfilename\u001b[0m \u001b[0;34m=\u001b[0m \u001b[0mPath\u001b[0m\u001b[0;34m(\u001b[0m\u001b[0mfilename\u001b[0m\u001b[0;34m)\u001b[0m  \u001b[0;31m# allow passing strings\u001b[0m\u001b[0;34m\u001b[0m\u001b[0;34m\u001b[0m\u001b[0m\n\u001b[1;32m    111\u001b[0m     \u001b[0;32mif\u001b[0m \u001b[0mis_valid_filename\u001b[0m\u001b[0;34m(\u001b[0m\u001b[0mfilename\u001b[0m\u001b[0;34m)\u001b[0m\u001b[0;34m:\u001b[0m\u001b[0;34m\u001b[0m\u001b[0;34m\u001b[0m\u001b[0m\n\u001b[0;32m--> 112\u001b[0;31m         return _read(\n\u001b[0m\u001b[1;32m    113\u001b[0m             \u001b[0mfilename\u001b[0m\u001b[0;34m,\u001b[0m\u001b[0;34m\u001b[0m\u001b[0;34m\u001b[0m\u001b[0m\n\u001b[1;32m    114\u001b[0m             \u001b[0mbacked\u001b[0m\u001b[0;34m=\u001b[0m\u001b[0mbacked\u001b[0m\u001b[0;34m,\u001b[0m\u001b[0;34m\u001b[0m\u001b[0;34m\u001b[0m\u001b[0m\n",
      "\u001b[0;32m~/anaconda3/envs/single_cell/lib/python3.8/site-packages/scanpy/readwrite.py\u001b[0m in \u001b[0;36m_read\u001b[0;34m(filename, backed, sheet, ext, delimiter, first_column_names, backup_url, cache, cache_compression, suppress_cache_warning, **kwargs)\u001b[0m\n\u001b[1;32m    711\u001b[0m     \u001b[0;32mif\u001b[0m \u001b[0mext\u001b[0m \u001b[0;32min\u001b[0m \u001b[0;34m{\u001b[0m\u001b[0;34m'h5'\u001b[0m\u001b[0;34m,\u001b[0m \u001b[0;34m'h5ad'\u001b[0m\u001b[0;34m}\u001b[0m\u001b[0;34m:\u001b[0m\u001b[0;34m\u001b[0m\u001b[0;34m\u001b[0m\u001b[0m\n\u001b[1;32m    712\u001b[0m         \u001b[0;32mif\u001b[0m \u001b[0msheet\u001b[0m \u001b[0;32mis\u001b[0m \u001b[0;32mNone\u001b[0m\u001b[0;34m:\u001b[0m\u001b[0;34m\u001b[0m\u001b[0;34m\u001b[0m\u001b[0m\n\u001b[0;32m--> 713\u001b[0;31m             \u001b[0;32mreturn\u001b[0m \u001b[0mread_h5ad\u001b[0m\u001b[0;34m(\u001b[0m\u001b[0mfilename\u001b[0m\u001b[0;34m,\u001b[0m \u001b[0mbacked\u001b[0m\u001b[0;34m=\u001b[0m\u001b[0mbacked\u001b[0m\u001b[0;34m)\u001b[0m\u001b[0;34m\u001b[0m\u001b[0;34m\u001b[0m\u001b[0m\n\u001b[0m\u001b[1;32m    714\u001b[0m         \u001b[0;32melse\u001b[0m\u001b[0;34m:\u001b[0m\u001b[0;34m\u001b[0m\u001b[0;34m\u001b[0m\u001b[0m\n\u001b[1;32m    715\u001b[0m             \u001b[0mlogg\u001b[0m\u001b[0;34m.\u001b[0m\u001b[0mdebug\u001b[0m\u001b[0;34m(\u001b[0m\u001b[0;34mf'reading sheet {sheet} from file {filename}'\u001b[0m\u001b[0;34m)\u001b[0m\u001b[0;34m\u001b[0m\u001b[0;34m\u001b[0m\u001b[0m\n",
      "\u001b[0;32m~/anaconda3/envs/single_cell/lib/python3.8/site-packages/anndata/_io/h5ad.py\u001b[0m in \u001b[0;36mread_h5ad\u001b[0;34m(filename, backed, as_sparse, as_sparse_fmt, chunk_size)\u001b[0m\n\u001b[1;32m    411\u001b[0m     )\n\u001b[1;32m    412\u001b[0m \u001b[0;34m\u001b[0m\u001b[0m\n\u001b[0;32m--> 413\u001b[0;31m     \u001b[0;32mwith\u001b[0m \u001b[0mh5py\u001b[0m\u001b[0;34m.\u001b[0m\u001b[0mFile\u001b[0m\u001b[0;34m(\u001b[0m\u001b[0mfilename\u001b[0m\u001b[0;34m,\u001b[0m \u001b[0;34m\"r\"\u001b[0m\u001b[0;34m)\u001b[0m \u001b[0;32mas\u001b[0m \u001b[0mf\u001b[0m\u001b[0;34m:\u001b[0m\u001b[0;34m\u001b[0m\u001b[0;34m\u001b[0m\u001b[0m\n\u001b[0m\u001b[1;32m    414\u001b[0m         \u001b[0md\u001b[0m \u001b[0;34m=\u001b[0m \u001b[0;34m{\u001b[0m\u001b[0;34m}\u001b[0m\u001b[0;34m\u001b[0m\u001b[0;34m\u001b[0m\u001b[0m\n\u001b[1;32m    415\u001b[0m         \u001b[0;32mfor\u001b[0m \u001b[0mk\u001b[0m \u001b[0;32min\u001b[0m \u001b[0mf\u001b[0m\u001b[0;34m.\u001b[0m\u001b[0mkeys\u001b[0m\u001b[0;34m(\u001b[0m\u001b[0;34m)\u001b[0m\u001b[0;34m:\u001b[0m\u001b[0;34m\u001b[0m\u001b[0;34m\u001b[0m\u001b[0m\n",
      "\u001b[0;32m~/anaconda3/envs/single_cell/lib/python3.8/site-packages/h5py/_hl/files.py\u001b[0m in \u001b[0;36m__init__\u001b[0;34m(self, name, mode, driver, libver, userblock_size, swmr, rdcc_nslots, rdcc_nbytes, rdcc_w0, track_order, fs_strategy, fs_persist, fs_threshold, **kwds)\u001b[0m\n\u001b[1;32m    440\u001b[0m             \u001b[0;32mwith\u001b[0m \u001b[0mphil\u001b[0m\u001b[0;34m:\u001b[0m\u001b[0;34m\u001b[0m\u001b[0;34m\u001b[0m\u001b[0m\n\u001b[1;32m    441\u001b[0m                 \u001b[0mfapl\u001b[0m \u001b[0;34m=\u001b[0m \u001b[0mmake_fapl\u001b[0m\u001b[0;34m(\u001b[0m\u001b[0mdriver\u001b[0m\u001b[0;34m,\u001b[0m \u001b[0mlibver\u001b[0m\u001b[0;34m,\u001b[0m \u001b[0mrdcc_nslots\u001b[0m\u001b[0;34m,\u001b[0m \u001b[0mrdcc_nbytes\u001b[0m\u001b[0;34m,\u001b[0m \u001b[0mrdcc_w0\u001b[0m\u001b[0;34m,\u001b[0m \u001b[0;34m**\u001b[0m\u001b[0mkwds\u001b[0m\u001b[0;34m)\u001b[0m\u001b[0;34m\u001b[0m\u001b[0;34m\u001b[0m\u001b[0m\n\u001b[0;32m--> 442\u001b[0;31m                 fid = make_fid(name, mode, userblock_size,\n\u001b[0m\u001b[1;32m    443\u001b[0m                                fapl, fcpl=make_fcpl(track_order=track_order, fs_strategy=fs_strategy,\n\u001b[1;32m    444\u001b[0m                                fs_persist=fs_persist, fs_threshold=fs_threshold),\n",
      "\u001b[0;32m~/anaconda3/envs/single_cell/lib/python3.8/site-packages/h5py/_hl/files.py\u001b[0m in \u001b[0;36mmake_fid\u001b[0;34m(name, mode, userblock_size, fapl, fcpl, swmr)\u001b[0m\n\u001b[1;32m    193\u001b[0m         \u001b[0;32mif\u001b[0m \u001b[0mswmr\u001b[0m \u001b[0;32mand\u001b[0m \u001b[0mswmr_support\u001b[0m\u001b[0;34m:\u001b[0m\u001b[0;34m\u001b[0m\u001b[0;34m\u001b[0m\u001b[0m\n\u001b[1;32m    194\u001b[0m             \u001b[0mflags\u001b[0m \u001b[0;34m|=\u001b[0m \u001b[0mh5f\u001b[0m\u001b[0;34m.\u001b[0m\u001b[0mACC_SWMR_READ\u001b[0m\u001b[0;34m\u001b[0m\u001b[0;34m\u001b[0m\u001b[0m\n\u001b[0;32m--> 195\u001b[0;31m         \u001b[0mfid\u001b[0m \u001b[0;34m=\u001b[0m \u001b[0mh5f\u001b[0m\u001b[0;34m.\u001b[0m\u001b[0mopen\u001b[0m\u001b[0;34m(\u001b[0m\u001b[0mname\u001b[0m\u001b[0;34m,\u001b[0m \u001b[0mflags\u001b[0m\u001b[0;34m,\u001b[0m \u001b[0mfapl\u001b[0m\u001b[0;34m=\u001b[0m\u001b[0mfapl\u001b[0m\u001b[0;34m)\u001b[0m\u001b[0;34m\u001b[0m\u001b[0;34m\u001b[0m\u001b[0m\n\u001b[0m\u001b[1;32m    196\u001b[0m     \u001b[0;32melif\u001b[0m \u001b[0mmode\u001b[0m \u001b[0;34m==\u001b[0m \u001b[0;34m'r+'\u001b[0m\u001b[0;34m:\u001b[0m\u001b[0;34m\u001b[0m\u001b[0;34m\u001b[0m\u001b[0m\n\u001b[1;32m    197\u001b[0m         \u001b[0mfid\u001b[0m \u001b[0;34m=\u001b[0m \u001b[0mh5f\u001b[0m\u001b[0;34m.\u001b[0m\u001b[0mopen\u001b[0m\u001b[0;34m(\u001b[0m\u001b[0mname\u001b[0m\u001b[0;34m,\u001b[0m \u001b[0mh5f\u001b[0m\u001b[0;34m.\u001b[0m\u001b[0mACC_RDWR\u001b[0m\u001b[0;34m,\u001b[0m \u001b[0mfapl\u001b[0m\u001b[0;34m=\u001b[0m\u001b[0mfapl\u001b[0m\u001b[0;34m)\u001b[0m\u001b[0;34m\u001b[0m\u001b[0;34m\u001b[0m\u001b[0m\n",
      "\u001b[0;32mh5py/_objects.pyx\u001b[0m in \u001b[0;36mh5py._objects.with_phil.wrapper\u001b[0;34m()\u001b[0m\n",
      "\u001b[0;32mh5py/_objects.pyx\u001b[0m in \u001b[0;36mh5py._objects.with_phil.wrapper\u001b[0;34m()\u001b[0m\n",
      "\u001b[0;32mh5py/h5f.pyx\u001b[0m in \u001b[0;36mh5py.h5f.open\u001b[0;34m()\u001b[0m\n",
      "\u001b[0;31mFileNotFoundError\u001b[0m: [Errno 2] Unable to open file (unable to open file: name = '/data_volume/memento/eccite/2d_tf/STAT1_with_STAT1_KO_isg.h5ad', errno = 2, error message = 'No such file or directory', flags = 0, o_flags = 0)"
     ]
    }
   ],
   "source": [
    "tf = 'STAT1'\n",
    "g_ko = 'STAT1'\n",
    "subset = sc.read(data_path + '2d_tf/{}_with_{}_KO_isg.h5ad'.format(tf, g_ko))"
   ]
  },
  {
   "cell_type": "markdown",
   "id": "renewable-horror",
   "metadata": {},
   "source": [
    "### Check TF's correlation to other genes following KO"
   ]
  },
  {
   "cell_type": "code",
   "execution_count": 123,
   "id": "continued-census",
   "metadata": {},
   "outputs": [
    {
     "name": "stderr",
     "output_type": "stream",
     "text": [
      "/home/ssm-user/anaconda3/envs/single_cell/lib/python3.8/site-packages/pandas/core/arrays/categorical.py:2487: FutureWarning: The `inplace` parameter in pandas.Categorical.remove_unused_categories is deprecated and will be removed in a future version.\n",
      "  res = method(*args, **kwargs)\n",
      "/home/ssm-user/Github/scrna-parameter-estimation/dist/memento-0.0.6-py3.8.egg/memento/estimator.py:106: RuntimeWarning: divide by zero encountered in log\n",
      "  rv[cond] = np.exp(np.log(var[cond]) - f(np.log(mean[cond])))\n"
     ]
    }
   ],
   "source": [
    "# subset_ko_genes = ['STAT1', 'STAT2', 'JAK2', 'CUL3', 'IFNGR1', 'IFNGR2', 'MYC', 'SMAD4']\n",
    "done_files = os.listdir(data_path + '/2d/')\n",
    "for g in ['JAK2']:#ko_genes:\n",
    "    \n",
    "    if g == 'NT': continue\n",
    "    fname = '{}_with_{}_KO_guide_rep.h5ad'.format(g, g)\n",
    "#         if fname in done_files: continue\n",
    "\n",
    "    subset = adata.copy().copy()\n",
    "\n",
    "    subset = adata[adata.obs['gene'].isin(['NT', g])].copy().copy()\n",
    "\n",
    "    subset.obs['is_ko'] = subset.obs.guide_ID.str.contains(g).values\n",
    "\n",
    "    memento.create_groups(subset, label_columns=['is_ko', 'replicate', 'guide_ID'])\n",
    "\n",
    "    memento.compute_1d_moments(subset, min_perc_group=.7)\n",
    "\n",
    "    if g not in subset.var.index: continue\n",
    "\n",
    "    available_genes = list(set(subset.var.index))\n",
    "\n",
    "    if len(available_genes) < 10: continue\n",
    "    memento.compute_2d_moments(subset, list(itertools.product([g], available_genes))   )\n",
    "\n",
    "    memento.ht_2d_moments( \n",
    "        subset, \n",
    "        formula_like='1 + is_ko + replicate',\n",
    "        treatment_col='is_ko', \n",
    "        num_boot=10000, \n",
    "        verbose=1,\n",
    "        num_cpus=14,\n",
    "        resampling='bootstrap',\n",
    "        approx=False)\n",
    "\n",
    "    subset.write(data_path + '2d/{}_with_{}_KO_guide_rep.h5ad'.format(g, g))"
   ]
  },
  {
   "cell_type": "code",
   "execution_count": 124,
   "id": "natural-webster",
   "metadata": {},
   "outputs": [],
   "source": [
    "moments, counts = memento.get_2d_moments(subset)"
   ]
  },
  {
   "cell_type": "code",
   "execution_count": 131,
   "id": "durable-gates",
   "metadata": {},
   "outputs": [
    {
     "data": {
      "text/html": [
       "<div>\n",
       "<style scoped>\n",
       "    .dataframe tbody tr th:only-of-type {\n",
       "        vertical-align: middle;\n",
       "    }\n",
       "\n",
       "    .dataframe tbody tr th {\n",
       "        vertical-align: top;\n",
       "    }\n",
       "\n",
       "    .dataframe thead th {\n",
       "        text-align: right;\n",
       "    }\n",
       "</style>\n",
       "<table border=\"1\" class=\"dataframe\">\n",
       "  <thead>\n",
       "    <tr style=\"text-align: right;\">\n",
       "      <th></th>\n",
       "      <th>gene</th>\n",
       "      <th>de_coef</th>\n",
       "      <th>de_se</th>\n",
       "      <th>de_pval</th>\n",
       "      <th>dv_coef</th>\n",
       "      <th>dv_se</th>\n",
       "      <th>dv_pval</th>\n",
       "      <th>de_fdr</th>\n",
       "      <th>dv_fdr</th>\n",
       "    </tr>\n",
       "  </thead>\n",
       "  <tbody>\n",
       "    <tr>\n",
       "      <th>3183</th>\n",
       "      <td>IFNGR1</td>\n",
       "      <td>-0.150763</td>\n",
       "      <td>0.045791</td>\n",
       "      <td>0.001701</td>\n",
       "      <td>0.199772</td>\n",
       "      <td>0.201333</td>\n",
       "      <td>0.314369</td>\n",
       "      <td>0.006115</td>\n",
       "      <td>0.849193</td>\n",
       "    </tr>\n",
       "  </tbody>\n",
       "</table>\n",
       "</div>"
      ],
      "text/plain": [
       "        gene   de_coef     de_se   de_pval   dv_coef     dv_se   dv_pval  \\\n",
       "3183  IFNGR1 -0.150763  0.045791  0.001701  0.199772  0.201333  0.314369   \n",
       "\n",
       "        de_fdr    dv_fdr  \n",
       "3183  0.006115  0.849193  "
      ]
     },
     "execution_count": 131,
     "metadata": {},
     "output_type": "execute_result"
    }
   ],
   "source": [
    "results['IFNGR1'].query('gene == \"IFNGR1\"')"
   ]
  },
  {
   "cell_type": "code",
   "execution_count": 127,
   "id": "vietnamese-gallery",
   "metadata": {},
   "outputs": [],
   "source": [
    "dv_genes = results['JAK2'].query('dv_fdr < 0.1 & dv_coef > 0').gene.tolist()"
   ]
  },
  {
   "cell_type": "code",
   "execution_count": 120,
   "id": "textile-mexican",
   "metadata": {},
   "outputs": [
    {
     "name": "stderr",
     "output_type": "stream",
     "text": [
      "/home/ssm-user/anaconda3/envs/single_cell/lib/python3.8/site-packages/pandas/core/arrays/categorical.py:2487: FutureWarning: The `inplace` parameter in pandas.Categorical.remove_unused_categories is deprecated and will be removed in a future version.\n",
      "  res = method(*args, **kwargs)\n"
     ]
    }
   ],
   "source": [
    "subset.obs['STAT1'] = subset[:, 'STAT1'].X.todense().A1\n",
    "subset.obs['GBP4'] = subset[:, 'GBP4'].X.todense().A1"
   ]
  },
  {
   "cell_type": "code",
   "execution_count": 70,
   "id": "crazy-temple",
   "metadata": {},
   "outputs": [],
   "source": [
    "dv_genes = results['STAT1'].query('dv_fdr < 0.1 & dv_coef > 0').gene.tolist()"
   ]
  },
  {
   "cell_type": "markdown",
   "id": "applicable-monitor",
   "metadata": {},
   "source": [
    "### Debugging\n"
   ]
  },
  {
   "cell_type": "code",
   "execution_count": null,
   "id": "sharing-reader",
   "metadata": {},
   "outputs": [],
   "source": []
  }
 ],
 "metadata": {
  "kernelspec": {
   "display_name": "Python 3",
   "language": "python",
   "name": "python3"
  },
  "language_info": {
   "codemirror_mode": {
    "name": "ipython",
    "version": 3
   },
   "file_extension": ".py",
   "mimetype": "text/x-python",
   "name": "python",
   "nbconvert_exporter": "python",
   "pygments_lexer": "ipython3",
   "version": "3.8.8"
  }
 },
 "nbformat": 4,
 "nbformat_minor": 5
}
