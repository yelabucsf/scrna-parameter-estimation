{
 "cells": [
  {
   "cell_type": "markdown",
   "id": "minimal-alliance",
   "metadata": {},
   "source": [
    "# Preprocess ECCITE data"
   ]
  },
  {
   "cell_type": "code",
   "execution_count": 1,
   "id": "serial-birth",
   "metadata": {},
   "outputs": [],
   "source": [
    "import scanpy as sc\n",
    "import pandas as pd\n",
    "import scipy.stats as stats\n",
    "from scipy.io import mmread"
   ]
  },
  {
   "cell_type": "code",
   "execution_count": 4,
   "id": "equipped-anxiety",
   "metadata": {},
   "outputs": [],
   "source": [
    "data_path = '/data_volume/scito/eccite/'"
   ]
  },
  {
   "cell_type": "code",
   "execution_count": 5,
   "id": "emotional-recognition",
   "metadata": {},
   "outputs": [],
   "source": [
    "counts = mmread(data_path + 'RNA_counts.mtx')"
   ]
  },
  {
   "cell_type": "code",
   "execution_count": 21,
   "id": "proprietary-static",
   "metadata": {},
   "outputs": [],
   "source": [
    "meta = pd.read_csv(data_path + 'mixscape_meta.csv', index_col=0)"
   ]
  },
  {
   "cell_type": "code",
   "execution_count": 31,
   "id": "handy-recorder",
   "metadata": {},
   "outputs": [
    {
     "data": {
      "text/plain": [
       "27"
      ]
     },
     "execution_count": 31,
     "metadata": {},
     "output_type": "execute_result"
    }
   ],
   "source": [
    "len(meta.columns)"
   ]
  },
  {
   "cell_type": "code",
   "execution_count": 32,
   "id": "fourth-guatemala",
   "metadata": {},
   "outputs": [
    {
     "data": {
      "text/plain": [
       "27"
      ]
     },
     "execution_count": 32,
     "metadata": {},
     "output_type": "execute_result"
    }
   ],
   "source": [
    "len(set(meta.columns))"
   ]
  },
  {
   "cell_type": "code",
   "execution_count": 23,
   "id": "systematic-encyclopedia",
   "metadata": {},
   "outputs": [
    {
     "data": {
      "text/plain": [
       "Perturbed    18343\n",
       "NT            2386\n",
       "Name: crispr, dtype: int64"
      ]
     },
     "execution_count": 23,
     "metadata": {},
     "output_type": "execute_result"
    }
   ],
   "source": [
    "meta['crispr'].value_counts()"
   ]
  },
  {
   "cell_type": "code",
   "execution_count": 24,
   "id": "polished-pressure",
   "metadata": {},
   "outputs": [],
   "source": [
    "genes = pd.read_csv(data_path + 'genes.csv')"
   ]
  },
  {
   "cell_type": "code",
   "execution_count": 33,
   "id": "absent-hartford",
   "metadata": {},
   "outputs": [
    {
     "data": {
      "text/html": [
       "<div>\n",
       "<style scoped>\n",
       "    .dataframe tbody tr th:only-of-type {\n",
       "        vertical-align: middle;\n",
       "    }\n",
       "\n",
       "    .dataframe tbody tr th {\n",
       "        vertical-align: top;\n",
       "    }\n",
       "\n",
       "    .dataframe thead th {\n",
       "        text-align: right;\n",
       "    }\n",
       "</style>\n",
       "<table border=\"1\" class=\"dataframe\">\n",
       "  <thead>\n",
       "    <tr style=\"text-align: right;\">\n",
       "      <th></th>\n",
       "      <th>x</th>\n",
       "    </tr>\n",
       "    <tr>\n",
       "      <th>x</th>\n",
       "      <th></th>\n",
       "    </tr>\n",
       "  </thead>\n",
       "  <tbody>\n",
       "    <tr>\n",
       "      <th>AL627309.1</th>\n",
       "      <td>AL627309.1</td>\n",
       "    </tr>\n",
       "    <tr>\n",
       "      <th>AP006222.2</th>\n",
       "      <td>AP006222.2</td>\n",
       "    </tr>\n",
       "    <tr>\n",
       "      <th>RP4-669L17.10</th>\n",
       "      <td>RP4-669L17.10</td>\n",
       "    </tr>\n",
       "    <tr>\n",
       "      <th>RP11-206L10.3</th>\n",
       "      <td>RP11-206L10.3</td>\n",
       "    </tr>\n",
       "    <tr>\n",
       "      <th>RP11-206L10.2</th>\n",
       "      <td>RP11-206L10.2</td>\n",
       "    </tr>\n",
       "  </tbody>\n",
       "</table>\n",
       "</div>"
      ],
      "text/plain": [
       "                           x\n",
       "x                           \n",
       "AL627309.1        AL627309.1\n",
       "AP006222.2        AP006222.2\n",
       "RP4-669L17.10  RP4-669L17.10\n",
       "RP11-206L10.3  RP11-206L10.3\n",
       "RP11-206L10.2  RP11-206L10.2"
      ]
     },
     "execution_count": 33,
     "metadata": {},
     "output_type": "execute_result"
    }
   ],
   "source": [
    "adata.var.head(5)"
   ]
  },
  {
   "cell_type": "code",
   "execution_count": 25,
   "id": "upset-florist",
   "metadata": {},
   "outputs": [],
   "source": [
    "genes.index=genes['x']"
   ]
  },
  {
   "cell_type": "code",
   "execution_count": 26,
   "id": "injured-weapon",
   "metadata": {},
   "outputs": [
    {
     "data": {
      "text/plain": [
       "(20729, 27)"
      ]
     },
     "execution_count": 26,
     "metadata": {},
     "output_type": "execute_result"
    }
   ],
   "source": [
    "meta.shape"
   ]
  },
  {
   "cell_type": "code",
   "execution_count": 27,
   "id": "processed-command",
   "metadata": {},
   "outputs": [],
   "source": [
    "adata = sc.AnnData(counts.T.tocsr(), obs=meta, var=genes)"
   ]
  },
  {
   "cell_type": "code",
   "execution_count": 35,
   "id": "threaded-buddy",
   "metadata": {},
   "outputs": [],
   "source": [
    "adata.obs.index.name = None\n",
    "adata.var.index.name = None"
   ]
  },
  {
   "cell_type": "code",
   "execution_count": 36,
   "id": "indian-questionnaire",
   "metadata": {},
   "outputs": [
    {
     "data": {
      "text/html": [
       "<div>\n",
       "<style scoped>\n",
       "    .dataframe tbody tr th:only-of-type {\n",
       "        vertical-align: middle;\n",
       "    }\n",
       "\n",
       "    .dataframe tbody tr th {\n",
       "        vertical-align: top;\n",
       "    }\n",
       "\n",
       "    .dataframe thead th {\n",
       "        text-align: right;\n",
       "    }\n",
       "</style>\n",
       "<table border=\"1\" class=\"dataframe\">\n",
       "  <thead>\n",
       "    <tr style=\"text-align: right;\">\n",
       "      <th></th>\n",
       "      <th>orig.ident</th>\n",
       "      <th>nCount_RNA</th>\n",
       "      <th>nFeature_RNA</th>\n",
       "      <th>nCount_HTO</th>\n",
       "      <th>nFeature_HTO</th>\n",
       "      <th>nCount_GDO</th>\n",
       "      <th>nFeature_GDO</th>\n",
       "      <th>nCount_ADT</th>\n",
       "      <th>nFeature_ADT</th>\n",
       "      <th>percent.mito</th>\n",
       "      <th>...</th>\n",
       "      <th>con</th>\n",
       "      <th>NT</th>\n",
       "      <th>crispr</th>\n",
       "      <th>replicate</th>\n",
       "      <th>S.Score</th>\n",
       "      <th>G2M.Score</th>\n",
       "      <th>Phase</th>\n",
       "      <th>mixscape_class</th>\n",
       "      <th>mixscape_class_p_ko</th>\n",
       "      <th>mixscape_class.global</th>\n",
       "    </tr>\n",
       "  </thead>\n",
       "  <tbody>\n",
       "    <tr>\n",
       "      <th>l1_AAACCTGAGCCAGAAC</th>\n",
       "      <td>Lane1</td>\n",
       "      <td>17207</td>\n",
       "      <td>3942</td>\n",
       "      <td>99</td>\n",
       "      <td>4</td>\n",
       "      <td>576</td>\n",
       "      <td>111</td>\n",
       "      <td>801</td>\n",
       "      <td>4</td>\n",
       "      <td>2.295577</td>\n",
       "      <td>...</td>\n",
       "      <td>tx</td>\n",
       "      <td>STAT2g2</td>\n",
       "      <td>Perturbed</td>\n",
       "      <td>rep1</td>\n",
       "      <td>-0.252716</td>\n",
       "      <td>-0.771309</td>\n",
       "      <td>G1</td>\n",
       "      <td>STAT2 KO</td>\n",
       "      <td>0.999851</td>\n",
       "      <td>KO</td>\n",
       "    </tr>\n",
       "    <tr>\n",
       "      <th>l1_AAACCTGAGTGGACGT</th>\n",
       "      <td>Lane1</td>\n",
       "      <td>9506</td>\n",
       "      <td>2948</td>\n",
       "      <td>35</td>\n",
       "      <td>5</td>\n",
       "      <td>190</td>\n",
       "      <td>111</td>\n",
       "      <td>545</td>\n",
       "      <td>4</td>\n",
       "      <td>4.512939</td>\n",
       "      <td>...</td>\n",
       "      <td>tx</td>\n",
       "      <td>CAV1g4</td>\n",
       "      <td>Perturbed</td>\n",
       "      <td>rep1</td>\n",
       "      <td>-0.123802</td>\n",
       "      <td>-0.332603</td>\n",
       "      <td>G1</td>\n",
       "      <td>CAV1 NP</td>\n",
       "      <td>0.000000</td>\n",
       "      <td>NP</td>\n",
       "    </tr>\n",
       "    <tr>\n",
       "      <th>l1_AAACCTGCATGAGCGA</th>\n",
       "      <td>Lane1</td>\n",
       "      <td>15256</td>\n",
       "      <td>4258</td>\n",
       "      <td>66</td>\n",
       "      <td>4</td>\n",
       "      <td>212</td>\n",
       "      <td>111</td>\n",
       "      <td>344</td>\n",
       "      <td>4</td>\n",
       "      <td>4.116413</td>\n",
       "      <td>...</td>\n",
       "      <td>tx</td>\n",
       "      <td>STAT1g2</td>\n",
       "      <td>Perturbed</td>\n",
       "      <td>rep1</td>\n",
       "      <td>-0.154633</td>\n",
       "      <td>-0.694418</td>\n",
       "      <td>G1</td>\n",
       "      <td>STAT1 KO</td>\n",
       "      <td>1.000000</td>\n",
       "      <td>KO</td>\n",
       "    </tr>\n",
       "    <tr>\n",
       "      <th>l1_AAACCTGTCTTGTCAT</th>\n",
       "      <td>Lane1</td>\n",
       "      <td>5135</td>\n",
       "      <td>1780</td>\n",
       "      <td>22</td>\n",
       "      <td>3</td>\n",
       "      <td>243</td>\n",
       "      <td>111</td>\n",
       "      <td>539</td>\n",
       "      <td>4</td>\n",
       "      <td>5.491723</td>\n",
       "      <td>...</td>\n",
       "      <td>tx</td>\n",
       "      <td>CD86g1</td>\n",
       "      <td>Perturbed</td>\n",
       "      <td>rep1</td>\n",
       "      <td>-0.061262</td>\n",
       "      <td>-0.037820</td>\n",
       "      <td>G1</td>\n",
       "      <td>CD86 NP</td>\n",
       "      <td>0.000000</td>\n",
       "      <td>NP</td>\n",
       "    </tr>\n",
       "    <tr>\n",
       "      <th>l1_AAACGGGAGAACAACT</th>\n",
       "      <td>Lane1</td>\n",
       "      <td>9673</td>\n",
       "      <td>2671</td>\n",
       "      <td>99</td>\n",
       "      <td>5</td>\n",
       "      <td>198</td>\n",
       "      <td>111</td>\n",
       "      <td>1053</td>\n",
       "      <td>4</td>\n",
       "      <td>3.359868</td>\n",
       "      <td>...</td>\n",
       "      <td>tx</td>\n",
       "      <td>IRF7g2</td>\n",
       "      <td>Perturbed</td>\n",
       "      <td>rep1</td>\n",
       "      <td>-0.132188</td>\n",
       "      <td>-0.353156</td>\n",
       "      <td>G1</td>\n",
       "      <td>IRF7 NP</td>\n",
       "      <td>0.000000</td>\n",
       "      <td>NP</td>\n",
       "    </tr>\n",
       "  </tbody>\n",
       "</table>\n",
       "<p>5 rows × 27 columns</p>\n",
       "</div>"
      ],
      "text/plain": [
       "                    orig.ident  nCount_RNA  nFeature_RNA  nCount_HTO  \\\n",
       "l1_AAACCTGAGCCAGAAC      Lane1       17207          3942          99   \n",
       "l1_AAACCTGAGTGGACGT      Lane1        9506          2948          35   \n",
       "l1_AAACCTGCATGAGCGA      Lane1       15256          4258          66   \n",
       "l1_AAACCTGTCTTGTCAT      Lane1        5135          1780          22   \n",
       "l1_AAACGGGAGAACAACT      Lane1        9673          2671          99   \n",
       "\n",
       "                     nFeature_HTO  nCount_GDO  nFeature_GDO  nCount_ADT  \\\n",
       "l1_AAACCTGAGCCAGAAC             4         576           111         801   \n",
       "l1_AAACCTGAGTGGACGT             5         190           111         545   \n",
       "l1_AAACCTGCATGAGCGA             4         212           111         344   \n",
       "l1_AAACCTGTCTTGTCAT             3         243           111         539   \n",
       "l1_AAACGGGAGAACAACT             5         198           111        1053   \n",
       "\n",
       "                     nFeature_ADT  percent.mito  ... con       NT     crispr  \\\n",
       "l1_AAACCTGAGCCAGAAC             4      2.295577  ...  tx  STAT2g2  Perturbed   \n",
       "l1_AAACCTGAGTGGACGT             4      4.512939  ...  tx   CAV1g4  Perturbed   \n",
       "l1_AAACCTGCATGAGCGA             4      4.116413  ...  tx  STAT1g2  Perturbed   \n",
       "l1_AAACCTGTCTTGTCAT             4      5.491723  ...  tx   CD86g1  Perturbed   \n",
       "l1_AAACGGGAGAACAACT             4      3.359868  ...  tx   IRF7g2  Perturbed   \n",
       "\n",
       "                    replicate   S.Score G2M.Score Phase mixscape_class  \\\n",
       "l1_AAACCTGAGCCAGAAC      rep1 -0.252716 -0.771309    G1       STAT2 KO   \n",
       "l1_AAACCTGAGTGGACGT      rep1 -0.123802 -0.332603    G1        CAV1 NP   \n",
       "l1_AAACCTGCATGAGCGA      rep1 -0.154633 -0.694418    G1       STAT1 KO   \n",
       "l1_AAACCTGTCTTGTCAT      rep1 -0.061262 -0.037820    G1        CD86 NP   \n",
       "l1_AAACGGGAGAACAACT      rep1 -0.132188 -0.353156    G1        IRF7 NP   \n",
       "\n",
       "                    mixscape_class_p_ko mixscape_class.global  \n",
       "l1_AAACCTGAGCCAGAAC            0.999851                    KO  \n",
       "l1_AAACCTGAGTGGACGT            0.000000                    NP  \n",
       "l1_AAACCTGCATGAGCGA            1.000000                    KO  \n",
       "l1_AAACCTGTCTTGTCAT            0.000000                    NP  \n",
       "l1_AAACGGGAGAACAACT            0.000000                    NP  \n",
       "\n",
       "[5 rows x 27 columns]"
      ]
     },
     "execution_count": 36,
     "metadata": {},
     "output_type": "execute_result"
    }
   ],
   "source": [
    "adata.obs.head(5)"
   ]
  },
  {
   "cell_type": "code",
   "execution_count": 40,
   "id": "interstate-accuracy",
   "metadata": {},
   "outputs": [],
   "source": [
    "adata = adata[adata.obs['mixscape_class.global'].isin(['NT', 'KO'])]"
   ]
  },
  {
   "cell_type": "code",
   "execution_count": 43,
   "id": "sunrise-awareness",
   "metadata": {},
   "outputs": [
    {
     "data": {
      "text/plain": [
       "NT        2386\n",
       "IFNGR1     979\n",
       "IFNGR2     909\n",
       "JAK2       798\n",
       "IRF1       681\n",
       "SMAD4      546\n",
       "STAT2      531\n",
       "STAT1      335\n",
       "BRD4       145\n",
       "CUL3       100\n",
       "MYC         27\n",
       "SPI1        18\n",
       "Name: gene, dtype: int64"
      ]
     },
     "execution_count": 43,
     "metadata": {},
     "output_type": "execute_result"
    }
   ],
   "source": [
    "adata.obs.gene.value_counts()"
   ]
  },
  {
   "cell_type": "code",
   "execution_count": 44,
   "id": "needed-latino",
   "metadata": {},
   "outputs": [],
   "source": [
    "adata.write(data_path + 'eccite_mixscape.h5ad')"
   ]
  }
 ],
 "metadata": {
  "kernelspec": {
   "display_name": "Python 3",
   "language": "python",
   "name": "python3"
  },
  "language_info": {
   "codemirror_mode": {
    "name": "ipython",
    "version": 3
   },
   "file_extension": ".py",
   "mimetype": "text/x-python",
   "name": "python",
   "nbconvert_exporter": "python",
   "pygments_lexer": "ipython3",
   "version": "3.8.8"
  }
 },
 "nbformat": 4,
 "nbformat_minor": 5
}
