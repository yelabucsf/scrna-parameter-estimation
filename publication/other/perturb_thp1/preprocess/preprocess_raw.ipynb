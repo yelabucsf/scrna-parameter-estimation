{
 "cells": [
  {
   "cell_type": "markdown",
   "id": "breathing-education",
   "metadata": {},
   "source": [
    "# Assembling the complete ECCITE-seq dataset"
   ]
  },
  {
   "cell_type": "code",
   "execution_count": 1,
   "id": "exempt-closure",
   "metadata": {},
   "outputs": [],
   "source": [
    "import scanpy as sc\n",
    "import pandas as pd\n",
    "import seaborn as sns\n",
    "pd.set_option('display.max_rows', 500)"
   ]
  },
  {
   "cell_type": "code",
   "execution_count": 2,
   "id": "freelance-conversion",
   "metadata": {},
   "outputs": [],
   "source": [
    "data_path = '/data_volume/memento/eccite/'"
   ]
  },
  {
   "cell_type": "code",
   "execution_count": 26,
   "id": "russian-squad",
   "metadata": {},
   "outputs": [],
   "source": [
    "a = 5"
   ]
  },
  {
   "cell_type": "code",
   "execution_count": 27,
   "id": "suffering-confusion",
   "metadata": {},
   "outputs": [
    {
     "data": {
      "text/plain": [
       "5"
      ]
     },
     "execution_count": 27,
     "metadata": {},
     "output_type": "execute_result"
    }
   ],
   "source": [
    "a"
   ]
  },
  {
   "cell_type": "code",
   "execution_count": 3,
   "id": "diverse-village",
   "metadata": {},
   "outputs": [
    {
     "ename": "OSError",
     "evalue": "``/data_volume/memento/eccite/filtered_feature_bc_matrix.h5`` does not exist",
     "output_type": "error",
     "traceback": [
      "\u001b[0;31m---------------------------------------------------------------------------\u001b[0m",
      "\u001b[0;31mOSError\u001b[0m                                   Traceback (most recent call last)",
      "\u001b[0;32m<ipython-input-3-59e67cbb297b>\u001b[0m in \u001b[0;36m<module>\u001b[0;34m\u001b[0m\n\u001b[0;32m----> 1\u001b[0;31m \u001b[0madata\u001b[0m \u001b[0;34m=\u001b[0m \u001b[0msc\u001b[0m\u001b[0;34m.\u001b[0m\u001b[0mread_10x_h5\u001b[0m\u001b[0;34m(\u001b[0m\u001b[0mdata_path\u001b[0m \u001b[0;34m+\u001b[0m \u001b[0;34m'filtered_feature_bc_matrix.h5'\u001b[0m\u001b[0;34m)\u001b[0m\u001b[0;34m\u001b[0m\u001b[0;34m\u001b[0m\u001b[0m\n\u001b[0m",
      "\u001b[0;32m~/anaconda3/envs/single_cell/lib/python3.8/site-packages/scanpy/readwrite.py\u001b[0m in \u001b[0;36mread_10x_h5\u001b[0;34m(filename, genome, gex_only, backup_url)\u001b[0m\n\u001b[1;32m    178\u001b[0m     \u001b[0;32mif\u001b[0m \u001b[0;32mnot\u001b[0m \u001b[0mis_present\u001b[0m\u001b[0;34m:\u001b[0m\u001b[0;34m\u001b[0m\u001b[0;34m\u001b[0m\u001b[0m\n\u001b[1;32m    179\u001b[0m         \u001b[0mlogg\u001b[0m\u001b[0;34m.\u001b[0m\u001b[0mdebug\u001b[0m\u001b[0;34m(\u001b[0m\u001b[0;34mf'... did not find original file {filename}'\u001b[0m\u001b[0;34m)\u001b[0m\u001b[0;34m\u001b[0m\u001b[0;34m\u001b[0m\u001b[0m\n\u001b[0;32m--> 180\u001b[0;31m     \u001b[0;32mwith\u001b[0m \u001b[0mtables\u001b[0m\u001b[0;34m.\u001b[0m\u001b[0mopen_file\u001b[0m\u001b[0;34m(\u001b[0m\u001b[0mstr\u001b[0m\u001b[0;34m(\u001b[0m\u001b[0mfilename\u001b[0m\u001b[0;34m)\u001b[0m\u001b[0;34m,\u001b[0m \u001b[0;34m'r'\u001b[0m\u001b[0;34m)\u001b[0m \u001b[0;32mas\u001b[0m \u001b[0mf\u001b[0m\u001b[0;34m:\u001b[0m\u001b[0;34m\u001b[0m\u001b[0;34m\u001b[0m\u001b[0m\n\u001b[0m\u001b[1;32m    181\u001b[0m         \u001b[0mv3\u001b[0m \u001b[0;34m=\u001b[0m \u001b[0;34m'/matrix'\u001b[0m \u001b[0;32min\u001b[0m \u001b[0mf\u001b[0m\u001b[0;34m\u001b[0m\u001b[0;34m\u001b[0m\u001b[0m\n\u001b[1;32m    182\u001b[0m     \u001b[0;32mif\u001b[0m \u001b[0mv3\u001b[0m\u001b[0;34m:\u001b[0m\u001b[0;34m\u001b[0m\u001b[0;34m\u001b[0m\u001b[0m\n",
      "\u001b[0;32m~/anaconda3/envs/single_cell/lib/python3.8/site-packages/tables/file.py\u001b[0m in \u001b[0;36mopen_file\u001b[0;34m(filename, mode, title, root_uep, filters, **kwargs)\u001b[0m\n\u001b[1;32m    313\u001b[0m \u001b[0;34m\u001b[0m\u001b[0m\n\u001b[1;32m    314\u001b[0m     \u001b[0;31m# Finally, create the File instance, and return it\u001b[0m\u001b[0;34m\u001b[0m\u001b[0;34m\u001b[0m\u001b[0;34m\u001b[0m\u001b[0m\n\u001b[0;32m--> 315\u001b[0;31m     \u001b[0;32mreturn\u001b[0m \u001b[0mFile\u001b[0m\u001b[0;34m(\u001b[0m\u001b[0mfilename\u001b[0m\u001b[0;34m,\u001b[0m \u001b[0mmode\u001b[0m\u001b[0;34m,\u001b[0m \u001b[0mtitle\u001b[0m\u001b[0;34m,\u001b[0m \u001b[0mroot_uep\u001b[0m\u001b[0;34m,\u001b[0m \u001b[0mfilters\u001b[0m\u001b[0;34m,\u001b[0m \u001b[0;34m**\u001b[0m\u001b[0mkwargs\u001b[0m\u001b[0;34m)\u001b[0m\u001b[0;34m\u001b[0m\u001b[0;34m\u001b[0m\u001b[0m\n\u001b[0m\u001b[1;32m    316\u001b[0m \u001b[0;34m\u001b[0m\u001b[0m\n\u001b[1;32m    317\u001b[0m \u001b[0;34m\u001b[0m\u001b[0m\n",
      "\u001b[0;32m~/anaconda3/envs/single_cell/lib/python3.8/site-packages/tables/file.py\u001b[0m in \u001b[0;36m__init__\u001b[0;34m(self, filename, mode, title, root_uep, filters, **kwargs)\u001b[0m\n\u001b[1;32m    776\u001b[0m \u001b[0;34m\u001b[0m\u001b[0m\n\u001b[1;32m    777\u001b[0m         \u001b[0;31m# Now, it is time to initialize the File extension\u001b[0m\u001b[0;34m\u001b[0m\u001b[0;34m\u001b[0m\u001b[0;34m\u001b[0m\u001b[0m\n\u001b[0;32m--> 778\u001b[0;31m         \u001b[0mself\u001b[0m\u001b[0;34m.\u001b[0m\u001b[0m_g_new\u001b[0m\u001b[0;34m(\u001b[0m\u001b[0mfilename\u001b[0m\u001b[0;34m,\u001b[0m \u001b[0mmode\u001b[0m\u001b[0;34m,\u001b[0m \u001b[0;34m**\u001b[0m\u001b[0mparams\u001b[0m\u001b[0;34m)\u001b[0m\u001b[0;34m\u001b[0m\u001b[0;34m\u001b[0m\u001b[0m\n\u001b[0m\u001b[1;32m    779\u001b[0m \u001b[0;34m\u001b[0m\u001b[0m\n\u001b[1;32m    780\u001b[0m         \u001b[0;31m# Check filters and set PyTables format version for new files.\u001b[0m\u001b[0;34m\u001b[0m\u001b[0;34m\u001b[0m\u001b[0;34m\u001b[0m\u001b[0m\n",
      "\u001b[0;32mtables/hdf5extension.pyx\u001b[0m in \u001b[0;36mtables.hdf5extension.File._g_new\u001b[0;34m()\u001b[0m\n",
      "\u001b[0;32m~/anaconda3/envs/single_cell/lib/python3.8/site-packages/tables/utils.py\u001b[0m in \u001b[0;36mcheck_file_access\u001b[0;34m(filename, mode)\u001b[0m\n\u001b[1;32m    152\u001b[0m         \u001b[0;31m# The file should be readable.\u001b[0m\u001b[0;34m\u001b[0m\u001b[0;34m\u001b[0m\u001b[0;34m\u001b[0m\u001b[0m\n\u001b[1;32m    153\u001b[0m         \u001b[0;32mif\u001b[0m \u001b[0;32mnot\u001b[0m \u001b[0mos\u001b[0m\u001b[0;34m.\u001b[0m\u001b[0maccess\u001b[0m\u001b[0;34m(\u001b[0m\u001b[0mfilename\u001b[0m\u001b[0;34m,\u001b[0m \u001b[0mos\u001b[0m\u001b[0;34m.\u001b[0m\u001b[0mF_OK\u001b[0m\u001b[0;34m)\u001b[0m\u001b[0;34m:\u001b[0m\u001b[0;34m\u001b[0m\u001b[0;34m\u001b[0m\u001b[0m\n\u001b[0;32m--> 154\u001b[0;31m             \u001b[0;32mraise\u001b[0m \u001b[0mIOError\u001b[0m\u001b[0;34m(\u001b[0m\u001b[0;34m\"``%s`` does not exist\"\u001b[0m \u001b[0;34m%\u001b[0m \u001b[0;34m(\u001b[0m\u001b[0mfilename\u001b[0m\u001b[0;34m,\u001b[0m\u001b[0;34m)\u001b[0m\u001b[0;34m)\u001b[0m\u001b[0;34m\u001b[0m\u001b[0;34m\u001b[0m\u001b[0m\n\u001b[0m\u001b[1;32m    155\u001b[0m         \u001b[0;32mif\u001b[0m \u001b[0;32mnot\u001b[0m \u001b[0mos\u001b[0m\u001b[0;34m.\u001b[0m\u001b[0mpath\u001b[0m\u001b[0;34m.\u001b[0m\u001b[0misfile\u001b[0m\u001b[0;34m(\u001b[0m\u001b[0mfilename\u001b[0m\u001b[0;34m)\u001b[0m\u001b[0;34m:\u001b[0m\u001b[0;34m\u001b[0m\u001b[0;34m\u001b[0m\u001b[0m\n\u001b[1;32m    156\u001b[0m             \u001b[0;32mraise\u001b[0m \u001b[0mIOError\u001b[0m\u001b[0;34m(\u001b[0m\u001b[0;34m\"``%s`` is not a regular file\"\u001b[0m \u001b[0;34m%\u001b[0m \u001b[0;34m(\u001b[0m\u001b[0mfilename\u001b[0m\u001b[0;34m,\u001b[0m\u001b[0;34m)\u001b[0m\u001b[0;34m)\u001b[0m\u001b[0;34m\u001b[0m\u001b[0;34m\u001b[0m\u001b[0m\n",
      "\u001b[0;31mOSError\u001b[0m: ``/data_volume/memento/eccite/filtered_feature_bc_matrix.h5`` does not exist"
     ]
    }
   ],
   "source": [
    "adata = sc.read_10x_h5(data_path + 'filtered_feature_bc_matrix.h5')\n"
   ]
  },
  {
   "cell_type": "code",
   "execution_count": 5,
   "id": "comparable-palmer",
   "metadata": {},
   "outputs": [],
   "source": [
    "adata.var_names_make_unique()"
   ]
  },
  {
   "cell_type": "code",
   "execution_count": 6,
   "id": "square-imperial",
   "metadata": {},
   "outputs": [],
   "source": [
    "adata.obs['lane'] = adata.obs.index.str.split('-').str[-1]"
   ]
  },
  {
   "cell_type": "code",
   "execution_count": 7,
   "id": "elect-township",
   "metadata": {},
   "outputs": [],
   "source": [
    "adata.var['mt'] = adata.var_names.str.startswith('MT-')  # annotate the group of mitochondrial genes as 'mt'\n",
    "sc.pp.calculate_qc_metrics(adata, qc_vars=['mt'], percent_top=None, log1p=False, inplace=True)"
   ]
  },
  {
   "cell_type": "code",
   "execution_count": 8,
   "id": "organizational-convertible",
   "metadata": {},
   "outputs": [
    {
     "data": {
      "text/html": [
       "<div>\n",
       "<style scoped>\n",
       "    .dataframe tbody tr th:only-of-type {\n",
       "        vertical-align: middle;\n",
       "    }\n",
       "\n",
       "    .dataframe tbody tr th {\n",
       "        vertical-align: top;\n",
       "    }\n",
       "\n",
       "    .dataframe thead th {\n",
       "        text-align: right;\n",
       "    }\n",
       "</style>\n",
       "<table border=\"1\" class=\"dataframe\">\n",
       "  <thead>\n",
       "    <tr style=\"text-align: right;\">\n",
       "      <th></th>\n",
       "      <th>lane</th>\n",
       "      <th>n_genes_by_counts</th>\n",
       "      <th>total_counts</th>\n",
       "      <th>total_counts_mt</th>\n",
       "      <th>pct_counts_mt</th>\n",
       "    </tr>\n",
       "  </thead>\n",
       "  <tbody>\n",
       "    <tr>\n",
       "      <th>AAACCTGAGACAGACC-1</th>\n",
       "      <td>1</td>\n",
       "      <td>2609</td>\n",
       "      <td>8691.0</td>\n",
       "      <td>472.0</td>\n",
       "      <td>5.430905</td>\n",
       "    </tr>\n",
       "    <tr>\n",
       "      <th>AAACCTGAGCAGGCTA-1</th>\n",
       "      <td>1</td>\n",
       "      <td>3431</td>\n",
       "      <td>15767.0</td>\n",
       "      <td>167.0</td>\n",
       "      <td>1.059174</td>\n",
       "    </tr>\n",
       "    <tr>\n",
       "      <th>AAACCTGAGCCAGAAC-1</th>\n",
       "      <td>1</td>\n",
       "      <td>3816</td>\n",
       "      <td>15634.0</td>\n",
       "      <td>339.0</td>\n",
       "      <td>2.168351</td>\n",
       "    </tr>\n",
       "    <tr>\n",
       "      <th>AAACCTGAGGTACTCT-1</th>\n",
       "      <td>1</td>\n",
       "      <td>4205</td>\n",
       "      <td>16914.0</td>\n",
       "      <td>692.0</td>\n",
       "      <td>4.091285</td>\n",
       "    </tr>\n",
       "    <tr>\n",
       "      <th>AAACCTGAGGTGATTA-1</th>\n",
       "      <td>1</td>\n",
       "      <td>1869</td>\n",
       "      <td>4257.0</td>\n",
       "      <td>986.0</td>\n",
       "      <td>23.161850</td>\n",
       "    </tr>\n",
       "  </tbody>\n",
       "</table>\n",
       "</div>"
      ],
      "text/plain": [
       "                   lane  n_genes_by_counts  total_counts  total_counts_mt  \\\n",
       "AAACCTGAGACAGACC-1    1               2609        8691.0            472.0   \n",
       "AAACCTGAGCAGGCTA-1    1               3431       15767.0            167.0   \n",
       "AAACCTGAGCCAGAAC-1    1               3816       15634.0            339.0   \n",
       "AAACCTGAGGTACTCT-1    1               4205       16914.0            692.0   \n",
       "AAACCTGAGGTGATTA-1    1               1869        4257.0            986.0   \n",
       "\n",
       "                    pct_counts_mt  \n",
       "AAACCTGAGACAGACC-1       5.430905  \n",
       "AAACCTGAGCAGGCTA-1       1.059174  \n",
       "AAACCTGAGCCAGAAC-1       2.168351  \n",
       "AAACCTGAGGTACTCT-1       4.091285  \n",
       "AAACCTGAGGTGATTA-1      23.161850  "
      ]
     },
     "execution_count": 8,
     "metadata": {},
     "output_type": "execute_result"
    }
   ],
   "source": [
    "adata.obs.head(5)"
   ]
  },
  {
   "cell_type": "code",
   "execution_count": 9,
   "id": "elegant-communication",
   "metadata": {},
   "outputs": [],
   "source": [
    "adata = adata[adata.obs.n_genes_by_counts > 100, :]\n",
    "adata = adata[adata.obs.pct_counts_mt < 10, :]"
   ]
  },
  {
   "cell_type": "code",
   "execution_count": 10,
   "id": "conservative-offer",
   "metadata": {},
   "outputs": [
    {
     "data": {
      "text/plain": [
       "View of AnnData object with n_obs × n_vars = 63474 × 36601\n",
       "    obs: 'lane', 'n_genes_by_counts', 'total_counts', 'total_counts_mt', 'pct_counts_mt'\n",
       "    var: 'gene_ids', 'feature_types', 'genome', 'mt', 'n_cells_by_counts', 'mean_counts', 'pct_dropout_by_counts', 'total_counts'"
      ]
     },
     "execution_count": 10,
     "metadata": {},
     "output_type": "execute_result"
    }
   ],
   "source": [
    "adata"
   ]
  },
  {
   "cell_type": "code",
   "execution_count": 11,
   "id": "effective-specialist",
   "metadata": {},
   "outputs": [
    {
     "name": "stderr",
     "output_type": "stream",
     "text": [
      "/home/ssm-user/anaconda3/envs/single_cell/lib/python3.8/site-packages/anndata/_core/anndata.py:1207: ImplicitModificationWarning: Initializing view as actual.\n",
      "  warnings.warn(\n",
      "Trying to set attribute `.obs` of view, copying.\n",
      "... storing 'lane' as categorical\n",
      "Trying to set attribute `.var` of view, copying.\n",
      "... storing 'feature_types' as categorical\n",
      "Trying to set attribute `.var` of view, copying.\n",
      "... storing 'genome' as categorical\n"
     ]
    }
   ],
   "source": [
    "adata.write(data_path + 'filtered_eccite_cDNA.h5ad')"
   ]
  },
  {
   "cell_type": "code",
   "execution_count": 12,
   "id": "pharmaceutical-breakdown",
   "metadata": {},
   "outputs": [],
   "source": [
    "adata.obs['original_bc'] = adata.obs.index.str.split('-').str[0]"
   ]
  },
  {
   "cell_type": "code",
   "execution_count": 16,
   "id": "younger-commonwealth",
   "metadata": {},
   "outputs": [],
   "source": [
    "for lane in range(1, 9):\n",
    "    \n",
    "    bcs = adata.obs.query('lane == \"{}\"'.format(lane))[['original_bc']]\n",
    "    bcs.to_csv(data_path + 'cell_bcs/run{}.csv'.format(lane), index=False, header=False)"
   ]
  },
  {
   "cell_type": "markdown",
   "id": "neutral-delicious",
   "metadata": {},
   "source": [
    "### Combine HTO counts"
   ]
  },
  {
   "cell_type": "code",
   "execution_count": 67,
   "id": "third-indiana",
   "metadata": {},
   "outputs": [],
   "source": [
    "adata = sc.read(data_path + 'filtered_eccite_cDNA.h5ad')"
   ]
  },
  {
   "cell_type": "code",
   "execution_count": 68,
   "id": "fifteen-emerald",
   "metadata": {},
   "outputs": [],
   "source": [
    "# Read HTO assignments\n",
    "df_list = []\n",
    "for lane in range(1, 9):\n",
    "    \n",
    "    df = pd.read_csv(data_path + 'hto_counts/hto{}_out/umi_count/multi_class.csv'.format(lane), index_col=0)\n",
    "    df.index = df.index.values + '-' + str(lane)\n",
    "    df_list.append(df.copy())\n",
    "multiseq_df = pd.concat(df_list)"
   ]
  },
  {
   "cell_type": "code",
   "execution_count": 69,
   "id": "verified-insert",
   "metadata": {},
   "outputs": [],
   "source": [
    "overlap_bcs = list(set(adata.obs.index) & set(multiseq_df.index))"
   ]
  },
  {
   "cell_type": "code",
   "execution_count": 70,
   "id": "stupid-democrat",
   "metadata": {},
   "outputs": [
    {
     "name": "stderr",
     "output_type": "stream",
     "text": [
      "/home/ssm-user/anaconda3/envs/single_cell/lib/python3.8/site-packages/pandas/core/arrays/categorical.py:2487: FutureWarning: The `inplace` parameter in pandas.Categorical.remove_unused_categories is deprecated and will be removed in a future version.\n",
      "  res = method(*args, **kwargs)\n"
     ]
    }
   ],
   "source": [
    "adata = adata[overlap_bcs, :].copy()"
   ]
  },
  {
   "cell_type": "code",
   "execution_count": 75,
   "id": "running-bacon",
   "metadata": {},
   "outputs": [],
   "source": [
    "adata.obs = adata.obs.join(multiseq_df, how='left')"
   ]
  },
  {
   "cell_type": "code",
   "execution_count": 77,
   "id": "lightweight-patio",
   "metadata": {},
   "outputs": [
    {
     "data": {
      "text/plain": [
       "rep3-tx-AGGACCATCCAA        12075\n",
       "rep1-tx-AGGACCATCCAA         9404\n",
       "Negative                     9082\n",
       "rep2-tx-TCGATAATGCGA         8507\n",
       "rep4-tx-TCGATAATGCGA         8027\n",
       "Doublet                      8010\n",
       "rep3-ctrl-ACATGTTACCGT       1385\n",
       "rep4-ctrl-GAGGCTGAGCTA       1222\n",
       "rep2-ctrl-GAGGCTGAGCTA       1037\n",
       "PDL1g1-ctrl-ACTGTCTAACGG      981\n",
       "PDL1g2-ctrl-TAACGACGTGGT      969\n",
       "unmapped                      944\n",
       "rep1-ctrl-ACATGTTACCGT        683\n",
       "PDL1g1-tx-GTGTGACGTATT        598\n",
       "PDL1g2-tx-CACATAATGACG        539\n",
       "Name: MULTI_ID, dtype: int64"
      ]
     },
     "execution_count": 77,
     "metadata": {},
     "output_type": "execute_result"
    }
   ],
   "source": [
    "adata.obs['MULTI_ID'].value_counts()"
   ]
  },
  {
   "cell_type": "code",
   "execution_count": 78,
   "id": "suspected-stress",
   "metadata": {},
   "outputs": [
    {
     "name": "stderr",
     "output_type": "stream",
     "text": [
      "/home/ssm-user/anaconda3/envs/single_cell/lib/python3.8/site-packages/pandas/core/arrays/categorical.py:2487: FutureWarning: The `inplace` parameter in pandas.Categorical.remove_unused_categories is deprecated and will be removed in a future version.\n",
      "  res = method(*args, **kwargs)\n"
     ]
    }
   ],
   "source": [
    "adata = adata[adata.obs['MULTI_ID'].str.startswith('rep')].copy()"
   ]
  },
  {
   "cell_type": "code",
   "execution_count": 79,
   "id": "infrared-kidney",
   "metadata": {},
   "outputs": [],
   "source": [
    "adata.obs['replicate'] = adata.obs['MULTI_ID'].str.split('-').str[0]\n",
    "adata.obs['treatment'] = adata.obs['MULTI_ID'].str.split('-').str[1]"
   ]
  },
  {
   "cell_type": "code",
   "execution_count": 82,
   "id": "stupid-rwanda",
   "metadata": {},
   "outputs": [
    {
     "name": "stderr",
     "output_type": "stream",
     "text": [
      "... storing 'orig.ident' as categorical\n",
      "... storing 'MULTI_ID' as categorical\n",
      "... storing 'MULTI_classification' as categorical\n",
      "... storing 'replicate' as categorical\n",
      "... storing 'treatment' as categorical\n"
     ]
    }
   ],
   "source": [
    "adata.write(data_path + 'filtered_eccite_cDNA_hto.h5ad')"
   ]
  },
  {
   "cell_type": "markdown",
   "id": "stupid-peninsula",
   "metadata": {},
   "source": [
    "### Attach guide information"
   ]
  },
  {
   "cell_type": "code",
   "execution_count": 6,
   "id": "signal-diesel",
   "metadata": {},
   "outputs": [],
   "source": [
    "# Read HTO assignments\n",
    "df_list = []\n",
    "for lane in range(1, 9):\n",
    "    \n",
    "    df = pd.read_csv(data_path + 'gdo_counts/gdo{}_out/umi_count/gdo_counts.csv'.format(lane), index_col=0).T\n",
    "    df.index = df.index.values + '-' + str(lane)\n",
    "    df_list.append(df.copy())\n",
    "gdo_df = pd.concat(df_list)"
   ]
  },
  {
   "cell_type": "code",
   "execution_count": 7,
   "id": "painted-duplicate",
   "metadata": {},
   "outputs": [],
   "source": [
    "gdo_df = gdo_df[gdo_df.columns[:-1]]\n",
    "gdo_df = gdo_df[~((gdo_df > 5).sum(axis=1) == 0)]"
   ]
  },
  {
   "cell_type": "code",
   "execution_count": 8,
   "id": "advanced-gentleman",
   "metadata": {},
   "outputs": [
    {
     "data": {
      "text/html": [
       "<div>\n",
       "<style scoped>\n",
       "    .dataframe tbody tr th:only-of-type {\n",
       "        vertical-align: middle;\n",
       "    }\n",
       "\n",
       "    .dataframe tbody tr th {\n",
       "        vertical-align: top;\n",
       "    }\n",
       "\n",
       "    .dataframe thead th {\n",
       "        text-align: right;\n",
       "    }\n",
       "</style>\n",
       "<table border=\"1\" class=\"dataframe\">\n",
       "  <thead>\n",
       "    <tr style=\"text-align: right;\">\n",
       "      <th></th>\n",
       "      <th>eGFPg1-CGGTGAACAGCTCCTCGCCC</th>\n",
       "      <th>CUL3g1-ATGTTAATGATTTTAGGTC</th>\n",
       "      <th>CUL3g2-TGATTTGTCAAGGCAGTGC</th>\n",
       "      <th>CUL3g3-TTGACTATATCCAGGTAAG</th>\n",
       "      <th>CMTM6g1-CGTAGTGGGGCTGTACACC</th>\n",
       "      <th>CMTM6g2-ACATGACAGGACTTCAGCT</th>\n",
       "      <th>CMTM6g3-CACATAAAGTACATTGTGA</th>\n",
       "      <th>NTg1-ACCTCTCAATGCCGTGGTT</th>\n",
       "      <th>NTg2-ATAAACACTATACCATGTA</th>\n",
       "      <th>NTg3-AGGACAGCAACTTCTGCCC</th>\n",
       "      <th>...</th>\n",
       "      <th>TNFRSF14g2-GGAGGAGACAATACCCTCA</th>\n",
       "      <th>TNFRSF14g3-CTTGCAGGACGGCAGAGCT</th>\n",
       "      <th>TNFRSF14g4-CAAGGAGGACGAGTACCCA</th>\n",
       "      <th>UBE2L6g1-AGGTATGGGGGAGGCTTCT</th>\n",
       "      <th>UBE2L6g2-CGGAGTATCCGTTCAAGCC</th>\n",
       "      <th>UBE2L6g3-ACCAGGACATTGGCATCAT</th>\n",
       "      <th>UBE2L6g4-CCTACCACCTGAAAGCCTT</th>\n",
       "      <th>NTg8-TAGAGAGCGGCGCGCCTAC</th>\n",
       "      <th>NTg9-ATGTCTCGCCCCGATATGG</th>\n",
       "      <th>NTg10-TGTAGGAGCGGCGTTAGTA</th>\n",
       "    </tr>\n",
       "  </thead>\n",
       "  <tbody>\n",
       "    <tr>\n",
       "      <th>TATCTCAGTGCGATAG-1</th>\n",
       "      <td>0</td>\n",
       "      <td>0</td>\n",
       "      <td>0</td>\n",
       "      <td>0</td>\n",
       "      <td>0</td>\n",
       "      <td>0</td>\n",
       "      <td>1</td>\n",
       "      <td>1</td>\n",
       "      <td>0</td>\n",
       "      <td>0</td>\n",
       "      <td>...</td>\n",
       "      <td>0</td>\n",
       "      <td>0</td>\n",
       "      <td>0</td>\n",
       "      <td>0</td>\n",
       "      <td>1</td>\n",
       "      <td>0</td>\n",
       "      <td>0</td>\n",
       "      <td>0</td>\n",
       "      <td>0</td>\n",
       "      <td>0</td>\n",
       "    </tr>\n",
       "    <tr>\n",
       "      <th>TGGTTCCTCGTTACGA-1</th>\n",
       "      <td>0</td>\n",
       "      <td>0</td>\n",
       "      <td>0</td>\n",
       "      <td>0</td>\n",
       "      <td>0</td>\n",
       "      <td>0</td>\n",
       "      <td>0</td>\n",
       "      <td>0</td>\n",
       "      <td>35</td>\n",
       "      <td>0</td>\n",
       "      <td>...</td>\n",
       "      <td>0</td>\n",
       "      <td>0</td>\n",
       "      <td>0</td>\n",
       "      <td>0</td>\n",
       "      <td>0</td>\n",
       "      <td>0</td>\n",
       "      <td>0</td>\n",
       "      <td>0</td>\n",
       "      <td>0</td>\n",
       "      <td>0</td>\n",
       "    </tr>\n",
       "    <tr>\n",
       "      <th>GTTTCTAAGAGACTAT-1</th>\n",
       "      <td>0</td>\n",
       "      <td>0</td>\n",
       "      <td>0</td>\n",
       "      <td>0</td>\n",
       "      <td>0</td>\n",
       "      <td>0</td>\n",
       "      <td>0</td>\n",
       "      <td>0</td>\n",
       "      <td>0</td>\n",
       "      <td>0</td>\n",
       "      <td>...</td>\n",
       "      <td>0</td>\n",
       "      <td>0</td>\n",
       "      <td>0</td>\n",
       "      <td>0</td>\n",
       "      <td>1</td>\n",
       "      <td>0</td>\n",
       "      <td>0</td>\n",
       "      <td>0</td>\n",
       "      <td>2</td>\n",
       "      <td>0</td>\n",
       "    </tr>\n",
       "    <tr>\n",
       "      <th>ACTTGTTCACCAGATT-1</th>\n",
       "      <td>0</td>\n",
       "      <td>0</td>\n",
       "      <td>0</td>\n",
       "      <td>0</td>\n",
       "      <td>54</td>\n",
       "      <td>0</td>\n",
       "      <td>0</td>\n",
       "      <td>0</td>\n",
       "      <td>0</td>\n",
       "      <td>0</td>\n",
       "      <td>...</td>\n",
       "      <td>0</td>\n",
       "      <td>0</td>\n",
       "      <td>0</td>\n",
       "      <td>0</td>\n",
       "      <td>0</td>\n",
       "      <td>0</td>\n",
       "      <td>0</td>\n",
       "      <td>0</td>\n",
       "      <td>0</td>\n",
       "      <td>0</td>\n",
       "    </tr>\n",
       "    <tr>\n",
       "      <th>ACACCCTTCGCGATCG-1</th>\n",
       "      <td>0</td>\n",
       "      <td>0</td>\n",
       "      <td>0</td>\n",
       "      <td>0</td>\n",
       "      <td>0</td>\n",
       "      <td>0</td>\n",
       "      <td>0</td>\n",
       "      <td>0</td>\n",
       "      <td>1</td>\n",
       "      <td>0</td>\n",
       "      <td>...</td>\n",
       "      <td>0</td>\n",
       "      <td>0</td>\n",
       "      <td>0</td>\n",
       "      <td>0</td>\n",
       "      <td>0</td>\n",
       "      <td>0</td>\n",
       "      <td>0</td>\n",
       "      <td>0</td>\n",
       "      <td>0</td>\n",
       "      <td>0</td>\n",
       "    </tr>\n",
       "  </tbody>\n",
       "</table>\n",
       "<p>5 rows × 111 columns</p>\n",
       "</div>"
      ],
      "text/plain": [
       "                    eGFPg1-CGGTGAACAGCTCCTCGCCC  CUL3g1-ATGTTAATGATTTTAGGTC  \\\n",
       "TATCTCAGTGCGATAG-1                            0                           0   \n",
       "TGGTTCCTCGTTACGA-1                            0                           0   \n",
       "GTTTCTAAGAGACTAT-1                            0                           0   \n",
       "ACTTGTTCACCAGATT-1                            0                           0   \n",
       "ACACCCTTCGCGATCG-1                            0                           0   \n",
       "\n",
       "                    CUL3g2-TGATTTGTCAAGGCAGTGC  CUL3g3-TTGACTATATCCAGGTAAG  \\\n",
       "TATCTCAGTGCGATAG-1                           0                           0   \n",
       "TGGTTCCTCGTTACGA-1                           0                           0   \n",
       "GTTTCTAAGAGACTAT-1                           0                           0   \n",
       "ACTTGTTCACCAGATT-1                           0                           0   \n",
       "ACACCCTTCGCGATCG-1                           0                           0   \n",
       "\n",
       "                    CMTM6g1-CGTAGTGGGGCTGTACACC  CMTM6g2-ACATGACAGGACTTCAGCT  \\\n",
       "TATCTCAGTGCGATAG-1                            0                            0   \n",
       "TGGTTCCTCGTTACGA-1                            0                            0   \n",
       "GTTTCTAAGAGACTAT-1                            0                            0   \n",
       "ACTTGTTCACCAGATT-1                           54                            0   \n",
       "ACACCCTTCGCGATCG-1                            0                            0   \n",
       "\n",
       "                    CMTM6g3-CACATAAAGTACATTGTGA  NTg1-ACCTCTCAATGCCGTGGTT  \\\n",
       "TATCTCAGTGCGATAG-1                            1                         1   \n",
       "TGGTTCCTCGTTACGA-1                            0                         0   \n",
       "GTTTCTAAGAGACTAT-1                            0                         0   \n",
       "ACTTGTTCACCAGATT-1                            0                         0   \n",
       "ACACCCTTCGCGATCG-1                            0                         0   \n",
       "\n",
       "                    NTg2-ATAAACACTATACCATGTA  NTg3-AGGACAGCAACTTCTGCCC  ...  \\\n",
       "TATCTCAGTGCGATAG-1                         0                         0  ...   \n",
       "TGGTTCCTCGTTACGA-1                        35                         0  ...   \n",
       "GTTTCTAAGAGACTAT-1                         0                         0  ...   \n",
       "ACTTGTTCACCAGATT-1                         0                         0  ...   \n",
       "ACACCCTTCGCGATCG-1                         1                         0  ...   \n",
       "\n",
       "                    TNFRSF14g2-GGAGGAGACAATACCCTCA  \\\n",
       "TATCTCAGTGCGATAG-1                               0   \n",
       "TGGTTCCTCGTTACGA-1                               0   \n",
       "GTTTCTAAGAGACTAT-1                               0   \n",
       "ACTTGTTCACCAGATT-1                               0   \n",
       "ACACCCTTCGCGATCG-1                               0   \n",
       "\n",
       "                    TNFRSF14g3-CTTGCAGGACGGCAGAGCT  \\\n",
       "TATCTCAGTGCGATAG-1                               0   \n",
       "TGGTTCCTCGTTACGA-1                               0   \n",
       "GTTTCTAAGAGACTAT-1                               0   \n",
       "ACTTGTTCACCAGATT-1                               0   \n",
       "ACACCCTTCGCGATCG-1                               0   \n",
       "\n",
       "                    TNFRSF14g4-CAAGGAGGACGAGTACCCA  \\\n",
       "TATCTCAGTGCGATAG-1                               0   \n",
       "TGGTTCCTCGTTACGA-1                               0   \n",
       "GTTTCTAAGAGACTAT-1                               0   \n",
       "ACTTGTTCACCAGATT-1                               0   \n",
       "ACACCCTTCGCGATCG-1                               0   \n",
       "\n",
       "                    UBE2L6g1-AGGTATGGGGGAGGCTTCT  \\\n",
       "TATCTCAGTGCGATAG-1                             0   \n",
       "TGGTTCCTCGTTACGA-1                             0   \n",
       "GTTTCTAAGAGACTAT-1                             0   \n",
       "ACTTGTTCACCAGATT-1                             0   \n",
       "ACACCCTTCGCGATCG-1                             0   \n",
       "\n",
       "                    UBE2L6g2-CGGAGTATCCGTTCAAGCC  \\\n",
       "TATCTCAGTGCGATAG-1                             1   \n",
       "TGGTTCCTCGTTACGA-1                             0   \n",
       "GTTTCTAAGAGACTAT-1                             1   \n",
       "ACTTGTTCACCAGATT-1                             0   \n",
       "ACACCCTTCGCGATCG-1                             0   \n",
       "\n",
       "                    UBE2L6g3-ACCAGGACATTGGCATCAT  \\\n",
       "TATCTCAGTGCGATAG-1                             0   \n",
       "TGGTTCCTCGTTACGA-1                             0   \n",
       "GTTTCTAAGAGACTAT-1                             0   \n",
       "ACTTGTTCACCAGATT-1                             0   \n",
       "ACACCCTTCGCGATCG-1                             0   \n",
       "\n",
       "                    UBE2L6g4-CCTACCACCTGAAAGCCTT  NTg8-TAGAGAGCGGCGCGCCTAC  \\\n",
       "TATCTCAGTGCGATAG-1                             0                         0   \n",
       "TGGTTCCTCGTTACGA-1                             0                         0   \n",
       "GTTTCTAAGAGACTAT-1                             0                         0   \n",
       "ACTTGTTCACCAGATT-1                             0                         0   \n",
       "ACACCCTTCGCGATCG-1                             0                         0   \n",
       "\n",
       "                    NTg9-ATGTCTCGCCCCGATATGG  NTg10-TGTAGGAGCGGCGTTAGTA  \n",
       "TATCTCAGTGCGATAG-1                         0                          0  \n",
       "TGGTTCCTCGTTACGA-1                         0                          0  \n",
       "GTTTCTAAGAGACTAT-1                         2                          0  \n",
       "ACTTGTTCACCAGATT-1                         0                          0  \n",
       "ACACCCTTCGCGATCG-1                         0                          0  \n",
       "\n",
       "[5 rows x 111 columns]"
      ]
     },
     "execution_count": 8,
     "metadata": {},
     "output_type": "execute_result"
    }
   ],
   "source": [
    "gdo_df"
   ]
  },
  {
   "cell_type": "code",
   "execution_count": null,
   "id": "difficult-panel",
   "metadata": {},
   "outputs": [],
   "source": [
    "gdo_df['guide_ID'] = gdo_df.idxmax(axis=1)"
   ]
  },
  {
   "cell_type": "code",
   "execution_count": 12,
   "id": "spatial-bristol",
   "metadata": {},
   "outputs": [],
   "source": [
    "def second_percent(row):\n",
    "    \n",
    "    return row.nlargest(2).values[-1]/row.nlargest(1).values[-1]"
   ]
  },
  {
   "cell_type": "code",
   "execution_count": 13,
   "id": "bottom-merit",
   "metadata": {},
   "outputs": [
    {
     "name": "stderr",
     "output_type": "stream",
     "text": [
      "<ipython-input-12-74002c957fa0>:3: RuntimeWarning: invalid value encountered in long_scalars\n",
      "  return row.nlargest(2).values[-1]/row.nlargest(1).values[-1]\n"
     ]
    }
   ],
   "source": [
    "gdo_df['second_percent'] = gdo_df.iloc[:, :-1].apply(second_percent,axis=1)"
   ]
  },
  {
   "cell_type": "code",
   "execution_count": 20,
   "id": "distinct-pencil",
   "metadata": {},
   "outputs": [],
   "source": [
    "filtered_gdo_df = gdo_df.query('second_percent < 0.30')"
   ]
  },
  {
   "cell_type": "code",
   "execution_count": 15,
   "id": "collaborative-peoples",
   "metadata": {},
   "outputs": [],
   "source": [
    "adata = sc.read(data_path + 'filtered_eccite_cDNA_hto.h5ad')"
   ]
  },
  {
   "cell_type": "code",
   "execution_count": 16,
   "id": "engaged-madagascar",
   "metadata": {},
   "outputs": [],
   "source": [
    "overlap_bcs = list(set(adata.obs.index) & set(filtered_gdo_df.index))"
   ]
  },
  {
   "cell_type": "code",
   "execution_count": 21,
   "id": "proprietary-palestinian",
   "metadata": {},
   "outputs": [
    {
     "name": "stderr",
     "output_type": "stream",
     "text": [
      "<ipython-input-21-8f19bed7cdaf>:1: SettingWithCopyWarning: \n",
      "A value is trying to be set on a copy of a slice from a DataFrame.\n",
      "Try using .loc[row_indexer,col_indexer] = value instead\n",
      "\n",
      "See the caveats in the documentation: https://pandas.pydata.org/pandas-docs/stable/user_guide/indexing.html#returning-a-view-versus-a-copy\n",
      "  filtered_gdo_df['max'] = filtered_gdo_df.iloc[:, :-1].max(axis=1).values\n"
     ]
    }
   ],
   "source": [
    "filtered_gdo_df['max'] = filtered_gdo_df.iloc[:, :-1].max(axis=1).values"
   ]
  },
  {
   "cell_type": "code",
   "execution_count": 25,
   "id": "integral-stockholm",
   "metadata": {},
   "outputs": [
    {
     "data": {
      "text/plain": [
       "453.89047305510536"
      ]
     },
     "execution_count": 25,
     "metadata": {},
     "output_type": "execute_result"
    }
   ],
   "source": [
    "filtered_gdo_df.iloc[:, :-2].sum(axis=1).mean()"
   ]
  },
  {
   "cell_type": "code",
   "execution_count": null,
   "id": "prerequisite-hamilton",
   "metadata": {},
   "outputs": [],
   "source": [
    "f"
   ]
  },
  {
   "cell_type": "code",
   "execution_count": 17,
   "id": "noted-agriculture",
   "metadata": {},
   "outputs": [
    {
     "data": {
      "text/plain": [
       "421.54998803165887"
      ]
     },
     "execution_count": 17,
     "metadata": {},
     "output_type": "execute_result"
    }
   ],
   "source": [
    "filtered_gdo_df.loc[overlap_bcs, :].sum(axis=1).mean()"
   ]
  },
  {
   "cell_type": "code",
   "execution_count": 180,
   "id": "cubic-romance",
   "metadata": {},
   "outputs": [],
   "source": [
    "adata = adata[overlap_bcs, :].copy()"
   ]
  },
  {
   "cell_type": "code",
   "execution_count": 181,
   "id": "absolute-netscape",
   "metadata": {},
   "outputs": [
    {
     "data": {
      "text/plain": [
       "(28346, 36601)"
      ]
     },
     "execution_count": 181,
     "metadata": {},
     "output_type": "execute_result"
    }
   ],
   "source": [
    "adata.shape"
   ]
  },
  {
   "cell_type": "code",
   "execution_count": 182,
   "id": "functional-patio",
   "metadata": {},
   "outputs": [],
   "source": [
    "adata.obs = adata.obs.join(filtered_gdo_df.iloc[:, -2:], how='left')"
   ]
  },
  {
   "cell_type": "code",
   "execution_count": 183,
   "id": "convinced-brazil",
   "metadata": {},
   "outputs": [],
   "source": [
    "adata.obs['gene'] = adata.obs['guide_ID'].str.split('g').str[0]"
   ]
  },
  {
   "cell_type": "code",
   "execution_count": 184,
   "id": "placed-psychiatry",
   "metadata": {},
   "outputs": [],
   "source": [
    "# adata = adata[adata.obs['replicate'] != 'rep4']"
   ]
  },
  {
   "cell_type": "code",
   "execution_count": 185,
   "id": "medium-import",
   "metadata": {},
   "outputs": [
    {
     "name": "stderr",
     "output_type": "stream",
     "text": [
      "... storing 'guide_ID' as categorical\n",
      "... storing 'gene' as categorical\n"
     ]
    }
   ],
   "source": [
    "adata.write(data_path + 'eccite.h5ad')"
   ]
  },
  {
   "cell_type": "code",
   "execution_count": 190,
   "id": "limiting-catholic",
   "metadata": {},
   "outputs": [
    {
     "data": {
      "text/plain": [
       "STAT1g3-CAGCATGTTGTACCAAAGG       296\n",
       "STAT1g2-CATCCTTTGGTACAACATG       100\n",
       "STAT1g1-TGGCCTGGAGTAATACTTT        46\n",
       "STAT1g4-GTCAAACTCCTCAGGAGAC        16\n",
       "ATF2g1-TTCATTTCTCAGCAGGGTG          0\n",
       "PDCD1LG2g4-CTGCTAATGTTGAGCCTGG      0\n",
       "SMAD4g2-CAGAAGGGTCCACGTATCC         0\n",
       "SMAD4g1-GTGGTCACTAAGGCACCTG         0\n",
       "POU2F2g4-ACGACCATTTCCCGCTTCG        0\n",
       "POU2F2g3-ACCTTCAAGCAACGCCGCA        0\n",
       "POU2F2g2-TTCTTGCGTCTCCGGCCGG        0\n",
       "POU2F2g1-GGGCAAGCTCTACGGCAAC        0\n",
       "PDL1g3-AGTTCTGCGCAGCTTCCCG          0\n",
       "PDL1g1-ATATAGGTCCTTGGGAACC          0\n",
       "PDCD1LG2g3-TTTGTTGTGGTGACAGGTC      0\n",
       "SMAD4g4-CACCTTTACATTCCAACTG         0\n",
       "PDCD1LG2g2-ACGTGAGTATTCCAGAACA      0\n",
       "PDCD1LG2g1-CTGGCAGAAACTTCAGCTG      0\n",
       "NTg10-TGTAGGAGCGGCGTTAGTA           0\n",
       "NTg9-ATGTCTCGCCCCGATATGG            0\n",
       "NTg8-TAGAGAGCGGCGCGCCTAC            0\n",
       "NTg7-GCCGTTAAGCGGAAACGAT            0\n",
       "NTg5-TGAACGGGCCGCGGAAGCG            0\n",
       "NTg4-TGCGACGCTTAGCCTCCGT            0\n",
       "NTg3-AGGACAGCAACTTCTGCCC            0\n",
       "NTg2-ATAAACACTATACCATGTA            0\n",
       "NTg1-ACCTCTCAATGCCGTGGTT            0\n",
       "NFKBIAg4-CCAGGGCTATTCTCCCTAC        0\n",
       "SMAD4g3-GTATCCATCAACAGTAACA         0\n",
       "SPI1g2-GGGGGTATCGAGGACGTGC          0\n",
       "SPI1g1-GTCATAGGGCACCAGGTCT          0\n",
       "ATF2g2-AAGAAGCTGTTTCAGCTGT          0\n",
       "UBE2L6g3-ACCAGGACATTGGCATCAT        0\n",
       "UBE2L6g2-CGGAGTATCCGTTCAAGCC        0\n",
       "UBE2L6g1-AGGTATGGGGGAGGCTTCT        0\n",
       "TNFRSF14g4-CAAGGAGGACGAGTACCCA      0\n",
       "TNFRSF14g3-CTTGCAGGACGGCAGAGCT      0\n",
       "TNFRSF14g2-GGAGGAGACAATACCCTCA      0\n",
       "TNFRSF14g1-CGTGGTGACGTCCGGAGGG      0\n",
       "STAT5Ag4-TGTCACGGACTCTGCACCC        0\n",
       "STAT5Ag3-GACAGAGGAGAAGTTCACA        0\n",
       "STAT5Ag2-GTGGTGAATGGTTTCAGGT        0\n",
       "STAT5Ag1-CGGGACCTTCTTGTTGCGC        0\n",
       "STAT3g4-CGCACTTTAGATTCATTGA         0\n",
       "STAT3g3-ACTTTAGATTCATTGATGC         0\n",
       "STAT3g2-GGACTGGATCTGGGTCTTA         0\n",
       "STAT3g1-TGGTCTATCTCTATCCTGA         0\n",
       "STAT2g4-GATTTAAGGGCTATGATGG         0\n",
       "STAT2g3-GATTCAATCTCATGTTGCT         0\n",
       "STAT2g2-CTTCGTGTACGGTTGCACA         0\n",
       "STAT2g1-CATTACCAGTTGCTCACTG         0\n",
       "SPI1g4-TGGAGGTGTCTGACGGCGA          0\n",
       "SPI1g3-GTGCACAGCGAGTTCGAGA          0\n",
       "NFKBIAg3-GCAGTGGACCTGCAAAATC        0\n",
       "NFKBIAg2-AGCAATTTCTGGCTGGTTG        0\n",
       "NFKBIAg1-ACGTGTCTACACTTAGCCT        0\n",
       "IFNGR1g1-ACTGAATTCTCAGTACTGT        0\n",
       "ETV7g3-CGAGAAGATGTCTCGTGCC          0\n",
       "ETV7g2-TTGTCCTTGAACTCTATTC          0\n",
       "ETV7g1-CTGCTGTGGGATTACGTGT          0\n",
       "CUL3g3-TTGACTATATCCAGGTAAG          0\n",
       "CUL3g2-TGATTTGTCAAGGCAGTGC          0\n",
       "CUL3g1-ATGTTAATGATTTTAGGTC          0\n",
       "CMTM6g3-CACATAAAGTACATTGTGA         0\n",
       "CMTM6g2-ACATGACAGGACTTCAGCT         0\n",
       "CMTM6g1-CGTAGTGGGGCTGTACACC         0\n",
       "CD86g4-CAGATGAATTCTGAACTGT          0\n",
       "CD86g3-ACAAGTTTTGATTCGGACA          0\n",
       "CD86g2-GCAACTCTTATAAATGTGG          0\n",
       "CD86g1-ATTCCTTGGATTACAGCTG          0\n",
       "CAV1g4-GTCTACGTATTTGCCCCCA          0\n",
       "CAV1g3-GGTGTGCGCGTCGTACACT          0\n",
       "CAV1g2-GTCATCGTTGAGGTGTTTA          0\n",
       "CAV1g1-GTCTATTCCATCTACGTCC          0\n",
       "BRD4g4-GGCTTTGCTTTTTTTATTC          0\n",
       "BRD4g3-CCGACATCCACAGGCTTCA          0\n",
       "BRD4g2-CGCGCCGCTCGGGAGAAAG          0\n",
       "BRD4g1-TCGGGAGAAAGAGGAGCGT          0\n",
       "ATF2g4-TTTTGTCGGCATCTTGAAG          0\n",
       "ATF2g3-ACTTTCCTTTTTTGTCGGC          0\n",
       "ETV7g4-GACCATCTTTCCCGGAGTC          0\n",
       "IFNGR1g2-CTTTCTGATATCCAGTTTA        0\n",
       "MYCg3-TCGGAAGGACTATCCTGCT           0\n",
       "IFNGR1g3-TCTGATATCCAGTTTAGGT        0\n",
       "MYCg2-GTCGCAGTAGAAATACGGC           0\n",
       "MYCg1-CGTCGTTGTCTCCCCGAAG           0\n",
       "MARCH8g4-TGCATCAGATCTCTGCCAT        0\n",
       "MARCH8g3-CTTCTCTCGCACTTCTATC        0\n",
       "MARCH8g2-GTATGTGCTCATTGACCGT        0\n",
       "MARCH8g1-TCCTTTTCTTTGGTCTTAC        0\n",
       "JAK2g4-TCCAAAGCTCCAAACATCT          0\n",
       "JAK2g3-TATGACCCTCTACAGGACA          0\n",
       "JAK2g2-AGAAAACTTGCTCTCTGTC          0\n",
       "JAK2g1-CCCAGTGTTGTCCTGTAGA          0\n",
       "IRF7g4-GGCGCTGCCGTGCCCGGAA          0\n",
       "IRF7g3-GCTATACCATCTACCTGGG          0\n",
       "IRF7g2-CCAGTACACCTTGCACTTG          0\n",
       "IRF7g1-CGTGTAGCGCAGCTGCTTC          0\n",
       "IRF1g4-GTCTTGGGATCTGGCTCCT          0\n",
       "IRF1g3-CTCGATATCTGGCAGGGAG          0\n",
       "IRF1g2-TCTGCCTGATGACCACAGC          0\n",
       "IRF1g1-TGTCTATGGAGACTTTAGC          0\n",
       "IFNGR2g4-CAGTCCCTCAGCAGGCTTC        0\n",
       "IFNGR2g3-CACGGCCTTTTTTTGTTAT        0\n",
       "IFNGR2g2-GTGCTATTGCTCAGGGCCA        0\n",
       "IFNGR2g1-AATGTTTTCTGGAGGCCCG        0\n",
       "IFNGR1g4-CTGCGTGAGTATTTTATAC        0\n",
       "UBE2L6g4-CCTACCACCTGAAAGCCTT        0\n",
       "Name: guide_ID, dtype: int64"
      ]
     },
     "execution_count": 190,
     "metadata": {},
     "output_type": "execute_result"
    }
   ],
   "source": [
    "adata.obs[adata.obs['gene']=='STAT1'].guide_ID.value_counts()"
   ]
  },
  {
   "cell_type": "code",
   "execution_count": 189,
   "id": "alleged-watts",
   "metadata": {},
   "outputs": [
    {
     "data": {
      "text/plain": [
       "NTg4-TGCGACGCTTAGCCTCCGT          646\n",
       "NTg9-ATGTCTCGCCCCGATATGG          515\n",
       "NTg7-GCCGTTAAGCGGAAACGAT          476\n",
       "NTg5-TGAACGGGCCGCGGAAGCG          419\n",
       "NTg1-ACCTCTCAATGCCGTGGTT          408\n",
       "NTg2-ATAAACACTATACCATGTA          308\n",
       "NTg10-TGTAGGAGCGGCGTTAGTA         283\n",
       "NTg3-AGGACAGCAACTTCTGCCC          279\n",
       "NTg8-TAGAGAGCGGCGCGCCTAC           59\n",
       "SMAD4g2-CAGAAGGGTCCACGTATCC         0\n",
       "POU2F2g3-ACCTTCAAGCAACGCCGCA        0\n",
       "POU2F2g4-ACGACCATTTCCCGCTTCG        0\n",
       "SMAD4g1-GTGGTCACTAAGGCACCTG         0\n",
       "ATF2g1-TTCATTTCTCAGCAGGGTG          0\n",
       "SMAD4g3-GTATCCATCAACAGTAACA         0\n",
       "POU2F2g1-GGGCAAGCTCTACGGCAAC        0\n",
       "SMAD4g4-CACCTTTACATTCCAACTG         0\n",
       "POU2F2g2-TTCTTGCGTCTCCGGCCGG        0\n",
       "PDCD1LG2g2-ACGTGAGTATTCCAGAACA      0\n",
       "PDL1g3-AGTTCTGCGCAGCTTCCCG          0\n",
       "PDL1g1-ATATAGGTCCTTGGGAACC          0\n",
       "PDCD1LG2g4-CTGCTAATGTTGAGCCTGG      0\n",
       "PDCD1LG2g3-TTTGTTGTGGTGACAGGTC      0\n",
       "ATF2g2-AAGAAGCTGTTTCAGCTGT          0\n",
       "PDCD1LG2g1-CTGGCAGAAACTTCAGCTG      0\n",
       "NFKBIAg4-CCAGGGCTATTCTCCCTAC        0\n",
       "SPI1g1-GTCATAGGGCACCAGGTCT          0\n",
       "SPI1g2-GGGGGTATCGAGGACGTGC          0\n",
       "SPI1g3-GTGCACAGCGAGTTCGAGA          0\n",
       "SPI1g4-TGGAGGTGTCTGACGGCGA          0\n",
       "UBE2L6g3-ACCAGGACATTGGCATCAT        0\n",
       "UBE2L6g2-CGGAGTATCCGTTCAAGCC        0\n",
       "UBE2L6g1-AGGTATGGGGGAGGCTTCT        0\n",
       "TNFRSF14g4-CAAGGAGGACGAGTACCCA      0\n",
       "TNFRSF14g3-CTTGCAGGACGGCAGAGCT      0\n",
       "TNFRSF14g2-GGAGGAGACAATACCCTCA      0\n",
       "TNFRSF14g1-CGTGGTGACGTCCGGAGGG      0\n",
       "STAT5Ag4-TGTCACGGACTCTGCACCC        0\n",
       "STAT5Ag3-GACAGAGGAGAAGTTCACA        0\n",
       "STAT5Ag2-GTGGTGAATGGTTTCAGGT        0\n",
       "STAT5Ag1-CGGGACCTTCTTGTTGCGC        0\n",
       "STAT3g4-CGCACTTTAGATTCATTGA         0\n",
       "STAT3g3-ACTTTAGATTCATTGATGC         0\n",
       "STAT3g2-GGACTGGATCTGGGTCTTA         0\n",
       "STAT3g1-TGGTCTATCTCTATCCTGA         0\n",
       "STAT2g4-GATTTAAGGGCTATGATGG         0\n",
       "STAT2g3-GATTCAATCTCATGTTGCT         0\n",
       "STAT2g2-CTTCGTGTACGGTTGCACA         0\n",
       "STAT2g1-CATTACCAGTTGCTCACTG         0\n",
       "STAT1g4-GTCAAACTCCTCAGGAGAC         0\n",
       "STAT1g3-CAGCATGTTGTACCAAAGG         0\n",
       "STAT1g2-CATCCTTTGGTACAACATG         0\n",
       "STAT1g1-TGGCCTGGAGTAATACTTT         0\n",
       "NFKBIAg3-GCAGTGGACCTGCAAAATC        0\n",
       "NFKBIAg2-AGCAATTTCTGGCTGGTTG        0\n",
       "NFKBIAg1-ACGTGTCTACACTTAGCCT        0\n",
       "IFNGR1g1-ACTGAATTCTCAGTACTGT        0\n",
       "ETV7g3-CGAGAAGATGTCTCGTGCC          0\n",
       "ETV7g2-TTGTCCTTGAACTCTATTC          0\n",
       "ETV7g1-CTGCTGTGGGATTACGTGT          0\n",
       "CUL3g3-TTGACTATATCCAGGTAAG          0\n",
       "CUL3g2-TGATTTGTCAAGGCAGTGC          0\n",
       "CUL3g1-ATGTTAATGATTTTAGGTC          0\n",
       "CMTM6g3-CACATAAAGTACATTGTGA         0\n",
       "CMTM6g2-ACATGACAGGACTTCAGCT         0\n",
       "CMTM6g1-CGTAGTGGGGCTGTACACC         0\n",
       "CD86g4-CAGATGAATTCTGAACTGT          0\n",
       "CD86g3-ACAAGTTTTGATTCGGACA          0\n",
       "CD86g2-GCAACTCTTATAAATGTGG          0\n",
       "CD86g1-ATTCCTTGGATTACAGCTG          0\n",
       "CAV1g4-GTCTACGTATTTGCCCCCA          0\n",
       "CAV1g3-GGTGTGCGCGTCGTACACT          0\n",
       "CAV1g2-GTCATCGTTGAGGTGTTTA          0\n",
       "CAV1g1-GTCTATTCCATCTACGTCC          0\n",
       "BRD4g4-GGCTTTGCTTTTTTTATTC          0\n",
       "BRD4g3-CCGACATCCACAGGCTTCA          0\n",
       "BRD4g2-CGCGCCGCTCGGGAGAAAG          0\n",
       "BRD4g1-TCGGGAGAAAGAGGAGCGT          0\n",
       "ATF2g4-TTTTGTCGGCATCTTGAAG          0\n",
       "ATF2g3-ACTTTCCTTTTTTGTCGGC          0\n",
       "ETV7g4-GACCATCTTTCCCGGAGTC          0\n",
       "IFNGR1g2-CTTTCTGATATCCAGTTTA        0\n",
       "MYCg3-TCGGAAGGACTATCCTGCT           0\n",
       "IFNGR1g3-TCTGATATCCAGTTTAGGT        0\n",
       "MYCg2-GTCGCAGTAGAAATACGGC           0\n",
       "MYCg1-CGTCGTTGTCTCCCCGAAG           0\n",
       "MARCH8g4-TGCATCAGATCTCTGCCAT        0\n",
       "MARCH8g3-CTTCTCTCGCACTTCTATC        0\n",
       "MARCH8g2-GTATGTGCTCATTGACCGT        0\n",
       "MARCH8g1-TCCTTTTCTTTGGTCTTAC        0\n",
       "JAK2g4-TCCAAAGCTCCAAACATCT          0\n",
       "JAK2g3-TATGACCCTCTACAGGACA          0\n",
       "JAK2g2-AGAAAACTTGCTCTCTGTC          0\n",
       "JAK2g1-CCCAGTGTTGTCCTGTAGA          0\n",
       "IRF7g4-GGCGCTGCCGTGCCCGGAA          0\n",
       "IRF7g3-GCTATACCATCTACCTGGG          0\n",
       "IRF7g2-CCAGTACACCTTGCACTTG          0\n",
       "IRF7g1-CGTGTAGCGCAGCTGCTTC          0\n",
       "IRF1g4-GTCTTGGGATCTGGCTCCT          0\n",
       "IRF1g3-CTCGATATCTGGCAGGGAG          0\n",
       "IRF1g2-TCTGCCTGATGACCACAGC          0\n",
       "IRF1g1-TGTCTATGGAGACTTTAGC          0\n",
       "IFNGR2g4-CAGTCCCTCAGCAGGCTTC        0\n",
       "IFNGR2g3-CACGGCCTTTTTTTGTTAT        0\n",
       "IFNGR2g2-GTGCTATTGCTCAGGGCCA        0\n",
       "IFNGR2g1-AATGTTTTCTGGAGGCCCG        0\n",
       "IFNGR1g4-CTGCGTGAGTATTTTATAC        0\n",
       "UBE2L6g4-CCTACCACCTGAAAGCCTT        0\n",
       "Name: guide_ID, dtype: int64"
      ]
     },
     "execution_count": 189,
     "metadata": {},
     "output_type": "execute_result"
    }
   ],
   "source": [
    "adata.obs[adata.obs['gene']=='NT'].guide_ID.value_counts()"
   ]
  },
  {
   "cell_type": "code",
   "execution_count": 187,
   "id": "medium-assembly",
   "metadata": {},
   "outputs": [
    {
     "data": {
      "text/plain": [
       "NT          233\n",
       "ATF2        133\n",
       "CD86        130\n",
       "IRF1        125\n",
       "IFNGR1      114\n",
       "TNFRSF14    112\n",
       "IFNGR2      106\n",
       "MARCH8       96\n",
       "CMTM6        95\n",
       "JAK2         91\n",
       "ETV7         85\n",
       "CAV1         78\n",
       "NFKBIA       74\n",
       "STAT5A       72\n",
       "PDCD1LG2     65\n",
       "STAT2        60\n",
       "POU2F2       59\n",
       "SMAD4        53\n",
       "IRF7         53\n",
       "STAT1        51\n",
       "STAT3        48\n",
       "UBE2L6       41\n",
       "BRD4         28\n",
       "CUL3         27\n",
       "MYC          10\n",
       "SPI1          5\n",
       "PDL1          2\n",
       "Name: gene, dtype: int64"
      ]
     },
     "execution_count": 187,
     "metadata": {},
     "output_type": "execute_result"
    }
   ],
   "source": [
    "adata.obs.query('treatment == \"ctrl\" & replicate != \"rep4\"').gene.value_counts()"
   ]
  },
  {
   "cell_type": "code",
   "execution_count": null,
   "id": "checked-ebony",
   "metadata": {},
   "outputs": [],
   "source": []
  }
 ],
 "metadata": {
  "kernelspec": {
   "display_name": "Python 3",
   "language": "python",
   "name": "python3"
  },
  "language_info": {
   "codemirror_mode": {
    "name": "ipython",
    "version": 3
   },
   "file_extension": ".py",
   "mimetype": "text/x-python",
   "name": "python",
   "nbconvert_exporter": "python",
   "pygments_lexer": "ipython3",
   "version": "3.8.8"
  }
 },
 "nbformat": 4,
 "nbformat_minor": 5
}
