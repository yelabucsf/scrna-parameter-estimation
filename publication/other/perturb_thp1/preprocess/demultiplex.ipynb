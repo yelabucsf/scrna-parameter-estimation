{
 "cells": [
  {
   "cell_type": "markdown",
   "id": "younger-excitement",
   "metadata": {},
   "source": [
    "# Run HTO Demux"
   ]
  },
  {
   "cell_type": "code",
   "execution_count": 1,
   "id": "chronic-thunder",
   "metadata": {},
   "outputs": [
    {
     "name": "stderr",
     "output_type": "stream",
     "text": [
      "\n",
      "Attaching package: ‘dplyr’\n",
      "\n",
      "\n",
      "The following objects are masked from ‘package:stats’:\n",
      "\n",
      "    filter, lag\n",
      "\n",
      "\n",
      "The following objects are masked from ‘package:base’:\n",
      "\n",
      "    intersect, setdiff, setequal, union\n",
      "\n",
      "\n"
     ]
    }
   ],
   "source": [
    "library(dplyr)\n",
    "library(readr)"
   ]
  },
  {
   "cell_type": "code",
   "execution_count": 3,
   "id": "infectious-bibliography",
   "metadata": {},
   "outputs": [
    {
     "name": "stderr",
     "output_type": "stream",
     "text": [
      "Registered S3 method overwritten by 'spatstat.geom':\n",
      "  method     from\n",
      "  print.boxx cli \n",
      "\n",
      "Attaching SeuratObject\n",
      "\n"
     ]
    }
   ],
   "source": [
    "library(Seurat)"
   ]
  },
  {
   "cell_type": "code",
   "execution_count": 19,
   "id": "developing-metropolitan",
   "metadata": {},
   "outputs": [
    {
     "data": {
      "text/html": [
       "<style>\n",
       ".list-inline {list-style: none; margin:0; padding: 0}\n",
       ".list-inline>li {display: inline-block}\n",
       ".list-inline>li:not(:last-child)::after {content: \"\\00b7\"; padding: 0 .5ex}\n",
       "</style>\n",
       "<ol class=list-inline><li>1</li><li>2</li><li>3</li><li>4</li><li>5</li><li>6</li><li>7</li><li>8</li></ol>\n"
      ],
      "text/latex": [
       "\\begin{enumerate*}\n",
       "\\item 1\n",
       "\\item 2\n",
       "\\item 3\n",
       "\\item 4\n",
       "\\item 5\n",
       "\\item 6\n",
       "\\item 7\n",
       "\\item 8\n",
       "\\end{enumerate*}\n"
      ],
      "text/markdown": [
       "1. 1\n",
       "2. 2\n",
       "3. 3\n",
       "4. 4\n",
       "5. 5\n",
       "6. 6\n",
       "7. 7\n",
       "8. 8\n",
       "\n",
       "\n"
      ],
      "text/plain": [
       "[1] 1 2 3 4 5 6 7 8"
      ]
     },
     "metadata": {},
     "output_type": "display_data"
    }
   ],
   "source": [
    "seq(1,8)"
   ]
  },
  {
   "cell_type": "code",
   "execution_count": 23,
   "id": "under-riding",
   "metadata": {},
   "outputs": [
    {
     "data": {
      "text/html": [
       "'/data_volume/memento/eccite/hto_counts/hto1_out/matrix.mtx.gz'"
      ],
      "text/latex": [
       "'/data\\_volume/memento/eccite/hto\\_counts/hto1\\_out/matrix.mtx.gz'"
      ],
      "text/markdown": [
       "'/data_volume/memento/eccite/hto_counts/hto1_out/matrix.mtx.gz'"
      ],
      "text/plain": [
       "[1] \"/data_volume/memento/eccite/hto_counts/hto1_out/matrix.mtx.gz\""
      ]
     },
     "metadata": {},
     "output_type": "display_data"
    }
   ],
   "source": [
    "paste(\"/data_volume/memento/eccite/hto_counts/hto\", 1, \"_out/matrix.mtx.gz\", sep='')"
   ]
  },
  {
   "cell_type": "code",
   "execution_count": 29,
   "id": "christian-collapse",
   "metadata": {},
   "outputs": [
    {
     "name": "stdout",
     "output_type": "stream",
     "text": [
      "[1] 1\n"
     ]
    },
    {
     "name": "stderr",
     "output_type": "stream",
     "text": [
      "Warning message:\n",
      "“Feature names cannot have underscores ('_'), replacing with dashes ('-')”\n",
      "Normalizing across cells\n",
      "\n"
     ]
    },
    {
     "name": "stdout",
     "output_type": "stream",
     "text": [
      "[1] 2\n"
     ]
    },
    {
     "name": "stderr",
     "output_type": "stream",
     "text": [
      "Warning message:\n",
      "“Feature names cannot have underscores ('_'), replacing with dashes ('-')”\n",
      "Normalizing across cells\n",
      "\n"
     ]
    },
    {
     "name": "stdout",
     "output_type": "stream",
     "text": [
      "[1] 3\n"
     ]
    },
    {
     "name": "stderr",
     "output_type": "stream",
     "text": [
      "Warning message:\n",
      "“Feature names cannot have underscores ('_'), replacing with dashes ('-')”\n",
      "Normalizing across cells\n",
      "\n"
     ]
    },
    {
     "name": "stdout",
     "output_type": "stream",
     "text": [
      "[1] 4\n"
     ]
    },
    {
     "name": "stderr",
     "output_type": "stream",
     "text": [
      "Warning message:\n",
      "“Feature names cannot have underscores ('_'), replacing with dashes ('-')”\n",
      "Normalizing across cells\n",
      "\n"
     ]
    },
    {
     "name": "stdout",
     "output_type": "stream",
     "text": [
      "[1] 5\n"
     ]
    },
    {
     "name": "stderr",
     "output_type": "stream",
     "text": [
      "Warning message:\n",
      "“Feature names cannot have underscores ('_'), replacing with dashes ('-')”\n",
      "Normalizing across cells\n",
      "\n"
     ]
    },
    {
     "name": "stdout",
     "output_type": "stream",
     "text": [
      "[1] 6\n"
     ]
    },
    {
     "name": "stderr",
     "output_type": "stream",
     "text": [
      "Warning message:\n",
      "“Feature names cannot have underscores ('_'), replacing with dashes ('-')”\n",
      "Normalizing across cells\n",
      "\n"
     ]
    },
    {
     "name": "stdout",
     "output_type": "stream",
     "text": [
      "[1] 7\n"
     ]
    },
    {
     "name": "stderr",
     "output_type": "stream",
     "text": [
      "Warning message:\n",
      "“Feature names cannot have underscores ('_'), replacing with dashes ('-')”\n",
      "Normalizing across cells\n",
      "\n"
     ]
    },
    {
     "name": "stdout",
     "output_type": "stream",
     "text": [
      "[1] 8\n"
     ]
    },
    {
     "name": "stderr",
     "output_type": "stream",
     "text": [
      "Warning message:\n",
      "“Feature names cannot have underscores ('_'), replacing with dashes ('-')”\n",
      "Normalizing across cells\n",
      "\n"
     ]
    }
   ],
   "source": [
    "for (lane in seq(1,8)){\n",
    "    print(lane)\n",
    "    hto_matrix <- ReadMtx(\n",
    "      mtx =paste(\"/data_volume/memento/eccite/hto_counts/hto\", lane, \"_out/umi_count/matrix.mtx.gz\", sep=''), \n",
    "      features = paste(\"/data_volume/memento/eccite/hto_counts/hto\", lane, \"_out/umi_count/features.tsv.gz\", sep=''),\n",
    "      cells = paste(\"/data_volume/memento/eccite/hto_counts/hto\", lane, \"_out/umi_count/barcodes.tsv.gz\", sep=''),\n",
    "      feature.column=1)\n",
    "    \n",
    "    seurat_object <- CreateSeuratObject(counts = hto_matrix, assay='HTO')\n",
    "    seurat_object <- NormalizeData(seurat_object, assay = \"HTO\", normalization.method = \"CLR\", margin=2)\n",
    "    \n",
    "    seurat_object <- MULTIseqDemux(\n",
    "      seurat_object,\n",
    "      assay = \"HTO\",\n",
    "      quantile = 0.7,\n",
    "      autoThresh = FALSE,\n",
    "      maxiter = 5,\n",
    "      qrange = seq(from = 0.1, to = 0.9, by = 0.05),\n",
    "      verbose = TRUE\n",
    "    )\n",
    "    write.csv(seurat_object[[]], paste(\"/data_volume/memento/eccite/hto_counts/hto\", lane, \"_out/umi_count/multi_class.csv\", sep=''))\n",
    "    \n",
    "}"
   ]
  },
  {
   "cell_type": "markdown",
   "id": "musical-decrease",
   "metadata": {},
   "source": [
    "### Create guide dataframes"
   ]
  },
  {
   "cell_type": "code",
   "execution_count": 32,
   "id": "pursuant-astronomy",
   "metadata": {},
   "outputs": [
    {
     "name": "stdout",
     "output_type": "stream",
     "text": [
      "[1] 1\n",
      "[1] 2\n",
      "[1] 3\n",
      "[1] 4\n",
      "[1] 5\n",
      "[1] 6\n",
      "[1] 7\n",
      "[1] 8\n"
     ]
    }
   ],
   "source": [
    "for (lane in seq(1,8)){\n",
    "    print(lane)\n",
    "    gdo_matrix <- ReadMtx(\n",
    "      mtx =paste(\"/data_volume/memento/eccite/gdo_counts/gdo\", lane, \"_out/umi_count/matrix.mtx.gz\", sep=''), \n",
    "      features = paste(\"/data_volume/memento/eccite/gdo_counts/gdo\", lane, \"_out/umi_count/features.tsv.gz\", sep=''),\n",
    "      cells = paste(\"/data_volume/memento/eccite/gdo_counts/gdo\", lane, \"_out/umi_count/barcodes.tsv.gz\", sep=''),\n",
    "      feature.column=1)\n",
    "    \n",
    "    write.csv(gdo_matrix, paste(\"/data_volume/memento/eccite/gdo_counts/gdo\", lane, \"_out/umi_count/gdo_counts.csv\", sep=''))\n",
    "    \n",
    "}"
   ]
  },
  {
   "cell_type": "code",
   "execution_count": null,
   "id": "virtual-biodiversity",
   "metadata": {},
   "outputs": [],
   "source": []
  }
 ],
 "metadata": {
  "kernelspec": {
   "display_name": "R",
   "language": "R",
   "name": "ir"
  },
  "language_info": {
   "codemirror_mode": "r",
   "file_extension": ".r",
   "mimetype": "text/x-r-source",
   "name": "R",
   "pygments_lexer": "r",
   "version": "4.0.5"
  }
 },
 "nbformat": 4,
 "nbformat_minor": 5
}
