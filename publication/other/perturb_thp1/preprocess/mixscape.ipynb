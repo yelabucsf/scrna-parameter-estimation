{
 "cells": [
  {
   "cell_type": "markdown",
   "id": "weird-daughter",
   "metadata": {},
   "source": [
    "# Get mixscape labels"
   ]
  },
  {
   "cell_type": "code",
   "execution_count": null,
   "id": "biological-malta",
   "metadata": {},
   "outputs": [],
   "source": [
    "# Load packages.\n",
    "library(Seurat)\n",
    "library(SeuratData)\n",
    "library(ggplot2)\n",
    "library(patchwork)\n",
    "library(scales)\n",
    "library(dplyr)\n",
    "library(reshape2)\n",
    "\n",
    "# Download dataset using SeuratData.\n",
    "InstallData(ds = \"thp1.eccite\")\n",
    "\n",
    "# Setup custom theme for plotting.\n",
    "custom_theme <- theme(\n",
    "  plot.title = element_text(size=16, hjust = 0.5), \n",
    "  legend.key.size = unit(0.7, \"cm\"), \n",
    "  legend.text = element_text(size = 14))"
   ]
  },
  {
   "cell_type": "code",
   "execution_count": 2,
   "id": "aquatic-maine",
   "metadata": {},
   "outputs": [
    {
     "name": "stderr",
     "output_type": "stream",
     "text": [
      "Normalizing across cells\n",
      "\n"
     ]
    }
   ],
   "source": [
    "# Load object.\n",
    "eccite <- LoadData(ds = \"thp1.eccite\")\n",
    "\n",
    "# Normalize protein.\n",
    "eccite <- NormalizeData(\n",
    "  object = eccite, \n",
    "  assay = \"ADT\", \n",
    "  normalization.method = \"CLR\", \n",
    "  margin = 2)"
   ]
  },
  {
   "cell_type": "code",
   "execution_count": 3,
   "id": "purple-oregon",
   "metadata": {},
   "outputs": [
    {
     "name": "stderr",
     "output_type": "stream",
     "text": [
      "20:51:06 Annoy recall = 100%\n",
      "\n",
      "20:51:06 Commencing smooth kNN distance calibration using 1 thread\n",
      "\n",
      "20:51:07 Initializing from normalized Laplacian + noise\n",
      "\n",
      "20:51:08 Commencing optimization for 200 epochs, with 910832 positive edges\n",
      "\n",
      "20:51:17 Optimization finished\n",
      "\n"
     ]
    }
   ],
   "source": [
    "# Prepare RNA assay for dimensionality reduction: \n",
    "# Normalize data, find variable features and scale data.\n",
    "DefaultAssay(object = eccite) <- 'RNA'\n",
    "eccite <- NormalizeData(object = eccite) %>% FindVariableFeatures() %>% ScaleData()\n",
    "\n",
    "# Run Principle Component Analysis (PCA) to reduce the dimensionality of the data.\n",
    "eccite <- RunPCA(object = eccite)\n",
    "\n",
    "# Run Uniform Manifold Approximation and Projection (UMAP) to visualize clustering in 2-D.\n",
    "eccite <- RunUMAP(object = eccite, dims = 1:40)"
   ]
  },
  {
   "cell_type": "code",
   "execution_count": 4,
   "id": "unnecessary-hardware",
   "metadata": {},
   "outputs": [
    {
     "name": "stderr",
     "output_type": "stream",
     "text": [
      "20:51:47 Annoy recall = 100%\n",
      "\n",
      "20:51:47 Commencing smooth kNN distance calibration using 1 thread\n",
      "\n",
      "20:51:48 Initializing from normalized Laplacian + noise\n",
      "\n",
      "20:51:48 Commencing optimization for 200 epochs, with 842656 positive edges\n",
      "\n",
      "20:51:57 Optimization finished\n",
      "\n",
      "Warning message:\n",
      "“Keys should be one or more alphanumeric characters followed by an underscore, setting key from prtbumap to prtbumap_”\n",
      "Warning message:\n",
      "“All keys should be one or more alphanumeric characters followed by an underscore '_', setting key to prtbumap_”\n"
     ]
    }
   ],
   "source": [
    "# Calculate perturbation signature (PRTB).\n",
    "eccite<- CalcPerturbSig(\n",
    "  object = eccite, \n",
    "  assay = \"RNA\", \n",
    "  slot = \"data\", \n",
    "  gd.class =\"gene\", \n",
    "  nt.cell.class = \"NT\", \n",
    "  reduction = \"pca\", \n",
    "  ndims = 40, \n",
    "  num.neighbors = 20, \n",
    "  split.by = \"replicate\", \n",
    "  new.assay.name = \"PRTB\")\n",
    "\n",
    "# Prepare PRTB assay for dimensionality reduction: \n",
    "# Normalize data, find variable features and center data.\n",
    "DefaultAssay(object = eccite) <- 'PRTB'\n",
    "\n",
    "# Use variable features from RNA assay.\n",
    "VariableFeatures(object = eccite) <- VariableFeatures(object = eccite[[\"RNA\"]])\n",
    "eccite <- ScaleData(object = eccite, do.scale = F, do.center = T)\n",
    "\n",
    "# Run PCA to reduce the dimensionality of the data.\n",
    "eccite <- RunPCA(object = eccite, reduction.key = 'prtbpca', reduction.name = 'prtbpca')\n",
    "\n",
    "# Run UMAP to visualize clustering in 2-D.\n",
    "eccite <- RunUMAP(\n",
    "  object = eccite, \n",
    "  dims = 1:40, \n",
    "  reduction = 'prtbpca', \n",
    "  reduction.key = 'prtbumap', \n",
    "  reduction.name = 'prtbumap')"
   ]
  },
  {
   "cell_type": "code",
   "execution_count": 8,
   "id": "union-capitol",
   "metadata": {},
   "outputs": [
    {
     "name": "stderr",
     "output_type": "stream",
     "text": [
      "Warning message in FindMarkers.default(object = data.use, slot = data.slot, counts = counts, :\n",
      "“No features pass logfc.threshold threshold; returning empty data.frame”\n"
     ]
    },
    {
     "name": "stdout",
     "output_type": "stream",
     "text": [
      "number of iterations= 95 \n",
      "number of iterations= 187 \n",
      "number of iterations= 172 \n",
      "number of iterations= 18 \n",
      "number of iterations= 6 \n",
      "number of iterations= 18 \n",
      "number of iterations= 11 \n",
      "number of iterations= 11 \n",
      "number of iterations= 59 \n",
      "number of iterations= 43 \n",
      "number of iterations= 42 \n",
      "number of iterations= 19 \n",
      "number of iterations= 12 \n",
      "number of iterations= 12 \n",
      "number of iterations= 23 \n",
      "number of iterations= 19 \n",
      "number of iterations= 19 \n",
      "number of iterations= 51 \n",
      "number of iterations= 51 \n",
      "number of iterations= 51 \n",
      "number of iterations= 36 \n",
      "number of iterations= 26 \n",
      "number of iterations= 25 \n",
      "number of iterations= 20 \n",
      "number of iterations= 12 \n",
      "number of iterations= 12 \n",
      "number of iterations= 17 \n",
      "number of iterations= 15 \n",
      "number of iterations= 14 \n",
      "number of iterations= 13 \n",
      "number of iterations= 73 \n",
      "number of iterations= 46 \n",
      "number of iterations= 41 \n"
     ]
    }
   ],
   "source": [
    "eccite <- RunMixscape(\n",
    "  object = eccite, \n",
    "  assay = \"PRTB\", \n",
    "  slot = \"scale.data\", \n",
    "  labels = \"gene\", \n",
    "  nt.class.name = \"NT\", \n",
    "  min.de.genes = 5, \n",
    "  iter.num = 10, \n",
    "  de.assay = \"RNA\", \n",
    "  verbose = F,\n",
    "  prtb.type = \"KO\")\n",
    "\n",
    "# Calculate percentage of KO cells for all target gene classes.\n",
    "df <- prop.table(table(eccite$mixscape_class.global, eccite$NT),2)\n",
    "\n",
    "df2 <- reshape2::melt(df)\n",
    "df2$Var2 <- as.character(df2$Var2)\n",
    "test <- df2[which(df2$Var1 == \"KO\"),]\n",
    "test <- test[order(test$value, decreasing = T),]\n",
    "new.levels <- test$Var2\n",
    "df2$Var2 <- factor(df2$Var2, levels = new.levels )\n",
    "df2$Var1 <- factor(df2$Var1, levels = c(\"NT\", \"NP\", \"KO\"))\n",
    "df2$gene <- sapply(as.character(df2$Var2), function(x) strsplit(x, split = \"g\")[[1]][1])\n",
    "df2$guide_number <- sapply(as.character(df2$Var2), \n",
    "                           function(x) strsplit(x, split = \"g\")[[1]][2])\n",
    "df3 <- df2[-c(which(df2$gene == \"NT\")),]\n"
   ]
  },
  {
   "cell_type": "code",
   "execution_count": 10,
   "id": "vanilla-belarus",
   "metadata": {},
   "outputs": [],
   "source": [
    "write.csv(eccite[[]], '/data_volume/scito/eccite/mixscape_meta.csv')"
   ]
  },
  {
   "cell_type": "code",
   "execution_count": null,
   "id": "accessible-florence",
   "metadata": {},
   "outputs": [],
   "source": []
  }
 ],
 "metadata": {
  "kernelspec": {
   "display_name": "R",
   "language": "R",
   "name": "ir"
  },
  "language_info": {
   "codemirror_mode": "r",
   "file_extension": ".r",
   "mimetype": "text/x-r-source",
   "name": "R",
   "pygments_lexer": "r",
   "version": "4.0.5"
  }
 },
 "nbformat": 4,
 "nbformat_minor": 5
}
