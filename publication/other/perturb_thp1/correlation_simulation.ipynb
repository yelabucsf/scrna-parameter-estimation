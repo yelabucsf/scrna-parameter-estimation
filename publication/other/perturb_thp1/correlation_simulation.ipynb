{
 "cells": [
  {
   "cell_type": "markdown",
   "id": "impossible-slovenia",
   "metadata": {},
   "source": [
    "# Correlation moderator simulation"
   ]
  },
  {
   "cell_type": "code",
   "execution_count": 1,
   "id": "statewide-startup",
   "metadata": {},
   "outputs": [],
   "source": [
    "import scipy.stats as stats\n",
    "import matplotlib.pyplot as plt\n",
    "import numpy as np\n",
    "import statsmodels.api as sm"
   ]
  },
  {
   "cell_type": "markdown",
   "id": "major-secondary",
   "metadata": {},
   "source": [
    "### Naive case\n",
    "\n",
    "Ignore positive feedback"
   ]
  },
  {
   "cell_type": "code",
   "execution_count": 159,
   "id": "stupid-delhi",
   "metadata": {},
   "outputs": [],
   "source": [
    "N=500000"
   ]
  },
  {
   "cell_type": "code",
   "execution_count": 160,
   "id": "second-fetish",
   "metadata": {},
   "outputs": [],
   "source": [
    "def convert_params(mu, theta):\n",
    "    \"\"\"\n",
    "    Convert mean/dispersion parameterization of a negative binomial to the ones scipy supports\n",
    "\n",
    "    See https://en.wikipedia.org/wiki/Negative_binomial_distribution#Alternative_formulations\n",
    "    \"\"\"\n",
    "    r = theta\n",
    "    var = mu + 1 / r * mu ** 2\n",
    "    p = (var - mu) / var\n",
    "    return r, 1 - p"
   ]
  },
  {
   "cell_type": "code",
   "execution_count": 193,
   "id": "signed-bargain",
   "metadata": {},
   "outputs": [
    {
     "data": {
      "text/plain": [
       "10.988070516283996"
      ]
     },
     "execution_count": 193,
     "metadata": {},
     "output_type": "execute_result"
    }
   ],
   "source": [
    "np.var(tf1)"
   ]
  },
  {
   "cell_type": "code",
   "execution_count": 194,
   "id": "behind-agreement",
   "metadata": {},
   "outputs": [
    {
     "data": {
      "text/plain": [
       "60.021420252399984"
      ]
     },
     "execution_count": 194,
     "metadata": {},
     "output_type": "execute_result"
    }
   ],
   "source": [
    "np.var(tf2)"
   ]
  },
  {
   "cell_type": "code",
   "execution_count": 205,
   "id": "meaning-friendly",
   "metadata": {},
   "outputs": [],
   "source": [
    "tf1 = stats.nbinom.rvs(*convert_params(1, 0.1), size=N)+1\n",
    "isg1 = stats.nbinom.rvs(*convert_params(0.1*tf1, 0.1))\n",
    "\n",
    "tf2 = stats.nbinom.rvs(*convert_params(10, 2), size=N)+1\n",
    "isg2 = stats.nbinom.rvs(*convert_params(10*tf2, 0.1))"
   ]
  },
  {
   "cell_type": "code",
   "execution_count": 206,
   "id": "mobile-charger",
   "metadata": {},
   "outputs": [
    {
     "name": "stdout",
     "output_type": "stream",
     "text": [
      "LinregressResult(slope=0.09832758250862332, intercept=0.0013167905984799166, rvalue=0.2405618067281268, pvalue=0.0, stderr=0.0005610737773820201, intercept_stderr=0.002163625763213758)\n",
      "LinregressResult(slope=10.087633171044434, intercept=-0.6746753957580864, rvalue=0.1784884169164083, pvalue=0.0, stderr=0.07864382255792923, intercept_stderr=1.0605525921783383)\n",
      "(0.24056180672812283, 0.0)\n",
      "(0.17848841691640852, 0.0)\n"
     ]
    }
   ],
   "source": [
    "print(stats.linregress(tf1, isg1))\n",
    "print(stats.linregress(tf2, isg2))\n",
    "print(stats.pearsonr(tf1, isg1))\n",
    "print(stats.pearsonr(tf2, isg2))"
   ]
  },
  {
   "cell_type": "markdown",
   "id": "provincial-judges",
   "metadata": {},
   "source": [
    "### Interaction"
   ]
  },
  {
   "cell_type": "code",
   "execution_count": 148,
   "id": "unusual-hebrew",
   "metadata": {},
   "outputs": [],
   "source": [
    "tf1 = stats.nbinom.rvs(*convert_params(10, 2), size=N)\n",
    "tf2 = stats.nbinom.rvs(*convert_params(10, 1), size=N)\n"
   ]
  },
  {
   "cell_type": "code",
   "execution_count": 149,
   "id": "ordered-polymer",
   "metadata": {},
   "outputs": [
    {
     "name": "stdout",
     "output_type": "stream",
     "text": [
      "(0.5071824092006413, 1.782434848128476e-66)\n",
      "(0.6787801144783623, 5.4494596738883914e-136)\n"
     ]
    }
   ],
   "source": [
    "isg = stats.poisson.rvs(mu=tf1*tf2)\n",
    "\n",
    "print(stats.pearsonr(tf1, isg))\n",
    "print(stats.pearsonr(tf2, isg))"
   ]
  },
  {
   "cell_type": "code",
   "execution_count": 152,
   "id": "inclusive-lodge",
   "metadata": {},
   "outputs": [
    {
     "name": "stdout",
     "output_type": "stream",
     "text": [
      "(0.30099319342983016, 2.1822884579265597e-22)\n",
      "(0.39147357025868335, 5.710121467865691e-38)\n"
     ]
    }
   ],
   "source": [
    "# break tf1\n",
    "tf1 = stats.nbinom.rvs(*convert_params(3, 2), size=N)\n",
    "\n",
    "isg = stats.poisson.rvs(mu=tf2*stats.binom.rvs(n=tf1, p=0.1))\n",
    "print(stats.pearsonr(tf1, isg))\n",
    "print(stats.pearsonr(tf2, isg))"
   ]
  },
  {
   "cell_type": "markdown",
   "id": "looking-banks",
   "metadata": {},
   "source": [
    "### Self coexpression"
   ]
  },
  {
   "cell_type": "code",
   "execution_count": 188,
   "id": "interracial-patch",
   "metadata": {},
   "outputs": [],
   "source": [
    "N = 10000"
   ]
  },
  {
   "cell_type": "code",
   "execution_count": 217,
   "id": "convinced-patent",
   "metadata": {},
   "outputs": [
    {
     "name": "stdout",
     "output_type": "stream",
     "text": [
      "(0.7027870786819179, 0.0)\n"
     ]
    }
   ],
   "source": [
    "# WT\n",
    "tf = stats.nbinom.rvs(*convert_params(1, 2), size=N)\n",
    "isg1 = 2*tf + stats.norm.rvs(0, tf, size=N)\n",
    "isg2 = 2*tf + stats.norm.rvs(0, tf, size=N)\n",
    "print(stats.pearsonr(isg1, isg2))\n"
   ]
  },
  {
   "cell_type": "code",
   "execution_count": 218,
   "id": "robust-causing",
   "metadata": {},
   "outputs": [
    {
     "name": "stdout",
     "output_type": "stream",
     "text": [
      "(0.7749163989278046, 0.0)\n"
     ]
    }
   ],
   "source": [
    "# WT\n",
    "tf = stats.nbinom.rvs(*convert_params(0.1, 2), size=N)\n",
    "isg1 = 2*tf + stats.norm.rvs(0, tf, size=N)\n",
    "isg2 = 2*tf + stats.norm.rvs(0, tf, size=N)\n",
    "print(stats.pearsonr(isg1, isg2))\n"
   ]
  },
  {
   "cell_type": "markdown",
   "id": "fifty-conditions",
   "metadata": {},
   "source": [
    "### Mediation"
   ]
  },
  {
   "cell_type": "code",
   "execution_count": 482,
   "id": "recreational-evans",
   "metadata": {},
   "outputs": [],
   "source": [
    "X = stats.bernoulli.rvs(p=0.5, size=N)\n",
    "X_hidden = stats.norm.rvs(loc=5*X+2, size=N)\n",
    "M = stats.norm.rvs(loc=2*X_hidden+2, size=N)\n",
    "Y = 5*X_hidden + stats.norm.rvs(loc=0, scale=2, size=N) + 3"
   ]
  },
  {
   "cell_type": "code",
   "execution_count": 483,
   "id": "statutory-intersection",
   "metadata": {},
   "outputs": [],
   "source": [
    "tau = stats.linregress(X, Y)[0]\n",
    "alpha = stats.linregress(X, M)[0]\n",
    "tau_prime = np.linalg.lstsq(np.vstack([X, M, np.ones(N)]).T, Y[:, None], rcond=-1)[0][0]\n",
    "# tau_prime_separate = stats.linregress(M[X==1], Y[X==1])[1] - stats.linregress(M[X==0], Y[X==0])[1]\n",
    "mediation_effect = tau - tau_prime\n",
    "# mediation_effect_separate = tau - tau_prime_separate"
   ]
  },
  {
   "cell_type": "code",
   "execution_count": 484,
   "id": "geographic-timothy",
   "metadata": {},
   "outputs": [
    {
     "data": {
      "text/plain": [
       "array([4.99559625])"
      ]
     },
     "execution_count": 484,
     "metadata": {},
     "output_type": "execute_result"
    }
   ],
   "source": [
    "tau_prime"
   ]
  },
  {
   "cell_type": "code",
   "execution_count": 485,
   "id": "roman-mattress",
   "metadata": {},
   "outputs": [
    {
     "data": {
      "text/plain": [
       "25.655182120868673"
      ]
     },
     "execution_count": 485,
     "metadata": {},
     "output_type": "execute_result"
    }
   ],
   "source": [
    "tau"
   ]
  },
  {
   "cell_type": "code",
   "execution_count": 486,
   "id": "encouraging-mason",
   "metadata": {},
   "outputs": [
    {
     "data": {
      "text/plain": [
       "array([20.65958587])"
      ]
     },
     "execution_count": 486,
     "metadata": {},
     "output_type": "execute_result"
    }
   ],
   "source": [
    "mediation_effect"
   ]
  },
  {
   "cell_type": "markdown",
   "id": "horizontal-noise",
   "metadata": {},
   "source": [
    "### Sanity check"
   ]
  },
  {
   "cell_type": "code",
   "execution_count": 380,
   "id": "million-practice",
   "metadata": {},
   "outputs": [],
   "source": [
    "X = np.array([0, 1, 1, 1, 1, 1, 1, 1])\n",
    "Y = stats.norm.rvs(loc=5*X)\n",
    "\n",
    "X_p = np.array([0,1])\n",
    "Y_p = np.array([Y[0], Y[1:].mean()])\n",
    "weights = np.array([100, 100])"
   ]
  },
  {
   "cell_type": "code",
   "execution_count": 381,
   "id": "adjustable-motivation",
   "metadata": {},
   "outputs": [
    {
     "data": {
      "text/plain": [
       "array([-0.32423138,  4.97282704,  4.3362486 ,  5.28290631,  4.2231255 ,\n",
       "        4.15306623,  6.3878851 ,  4.25159551])"
      ]
     },
     "execution_count": 381,
     "metadata": {},
     "output_type": "execute_result"
    }
   ],
   "source": [
    "Y"
   ]
  },
  {
   "cell_type": "code",
   "execution_count": 382,
   "id": "corresponding-baptist",
   "metadata": {},
   "outputs": [],
   "source": [
    "from sklearn.linear_model import LinearRegression"
   ]
  },
  {
   "cell_type": "code",
   "execution_count": 383,
   "id": "recovered-mileage",
   "metadata": {},
   "outputs": [
    {
     "data": {
      "text/plain": [
       "LinregressResult(slope=5.125324850193706, intercept=-0.32423138129323004, rvalue=0.9220341835595274, pvalue=0.0011166195617960753, stderr=0.8784790692590063, intercept_stderr=0.8217419246548144)"
      ]
     },
     "execution_count": 383,
     "metadata": {},
     "output_type": "execute_result"
    }
   ],
   "source": [
    "stats.linregress(X,Y)"
   ]
  },
  {
   "cell_type": "code",
   "execution_count": 384,
   "id": "super-satin",
   "metadata": {},
   "outputs": [
    {
     "data": {
      "text/plain": [
       "LinearRegression()"
      ]
     },
     "execution_count": 384,
     "metadata": {},
     "output_type": "execute_result"
    }
   ],
   "source": [
    "model = LinearRegression()\n",
    "model.fit(X[:, None], Y[:, None])"
   ]
  },
  {
   "cell_type": "code",
   "execution_count": 385,
   "id": "eleven-council",
   "metadata": {},
   "outputs": [
    {
     "data": {
      "text/plain": [
       "array([[5.12532485]])"
      ]
     },
     "execution_count": 385,
     "metadata": {},
     "output_type": "execute_result"
    }
   ],
   "source": [
    "model.coef_"
   ]
  },
  {
   "cell_type": "code",
   "execution_count": 386,
   "id": "amber-footwear",
   "metadata": {},
   "outputs": [
    {
     "data": {
      "text/plain": [
       "LinearRegression()"
      ]
     },
     "execution_count": 386,
     "metadata": {},
     "output_type": "execute_result"
    }
   ],
   "source": [
    "model = LinearRegression()\n",
    "model.fit(X_p[:, None], Y_p[:, None], sample_weight=weights)"
   ]
  },
  {
   "cell_type": "code",
   "execution_count": 387,
   "id": "steady-screen",
   "metadata": {},
   "outputs": [
    {
     "data": {
      "text/plain": [
       "array([[5.12532485]])"
      ]
     },
     "execution_count": 387,
     "metadata": {},
     "output_type": "execute_result"
    }
   ],
   "source": [
    "model.coef_"
   ]
  },
  {
   "cell_type": "markdown",
   "id": "virtual-siemens",
   "metadata": {},
   "source": [
    "### Misc"
   ]
  },
  {
   "cell_type": "code",
   "execution_count": 218,
   "id": "generous-adjustment",
   "metadata": {},
   "outputs": [],
   "source": [
    "x = np.arange(500, 5000, 10)\n",
    "q = 0.15\n",
    "y1 = x**2*q**2\n",
    "y2 = x*q*(1-q)"
   ]
  },
  {
   "cell_type": "code",
   "execution_count": 220,
   "id": "apart-monitoring",
   "metadata": {},
   "outputs": [
    {
     "data": {
      "text/plain": [
       "[<matplotlib.lines.Line2D at 0x7f2bbe51d280>]"
      ]
     },
     "execution_count": 220,
     "metadata": {},
     "output_type": "execute_result"
    },
    {
     "data": {
      "image/png": "[encoded data removed]",
      "text/plain": [
       "<Figure size 432x288 with 1 Axes>"
      ]
     },
     "metadata": {
      "needs_background": "light"
     },
     "output_type": "display_data"
    }
   ],
   "source": [
    "plt.plot(x,y1)\n",
    "plt.plot(x,y2)"
   ]
  },
  {
   "cell_type": "code",
   "execution_count": null,
   "id": "reflected-zimbabwe",
   "metadata": {},
   "outputs": [],
   "source": []
  }
 ],
 "metadata": {
  "kernelspec": {
   "display_name": "Python 3",
   "language": "python",
   "name": "python3"
  },
  "language_info": {
   "codemirror_mode": {
    "name": "ipython",
    "version": 3
   },
   "file_extension": ".py",
   "mimetype": "text/x-python",
   "name": "python",
   "nbconvert_exporter": "python",
   "pygments_lexer": "ipython3",
   "version": "3.8.8"
  }
 },
 "nbformat": 4,
 "nbformat_minor": 5
}
