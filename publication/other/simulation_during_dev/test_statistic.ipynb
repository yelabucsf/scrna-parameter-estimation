{
 "cells": [
  {
   "cell_type": "markdown",
   "id": "910f777a",
   "metadata": {},
   "source": [
    "# Test statistics"
   ]
  },
  {
   "cell_type": "code",
   "execution_count": 1,
   "id": "7747828e",
   "metadata": {},
   "outputs": [],
   "source": [
    "import scipy.stats as stats\n",
    "import numpy as np\n",
    "import pandas as pd\n",
    "from sklearn.linear_model import LinearRegression\n",
    "import seaborn as sns\n",
    "import statsmodels.formula.api as smf\n",
    "import statsmodels.api as sm\n",
    "import matplotlib.pyplot as plt"
   ]
  },
  {
   "cell_type": "code",
   "execution_count": 2,
   "id": "e72f1e51",
   "metadata": {},
   "outputs": [],
   "source": [
    "num_ind = 30\n",
    "num_cell_per_ind = 1000\n",
    "beta_geno = 1\n",
    "beta_age = 0\n",
    "ind_intercepts = stats.norm.rvs(scale=2, size=num_ind) * 0\n",
    "intercept = 10\n",
    "geno = np.array([0 for i in range(int(num_ind/3))] + [1 for i in range(int(num_ind/3))] + [2 for i in range(int(num_ind/3))])\n",
    "age = stats.norm.rvs(scale=10, loc=30, size=num_ind)"
   ]
  },
  {
   "cell_type": "code",
   "execution_count": 3,
   "id": "bf9aed42",
   "metadata": {},
   "outputs": [],
   "source": [
    "data = []\n",
    "for ind in range(num_ind):\n",
    "    mu = intercept+beta_geno*geno[ind]+beta_age*age[ind]+ind_intercepts[ind]\n",
    "    data.append(stats.norm.rvs(loc=mu, scale=1, size=num_cell_per_ind))\n",
    "\n",
    "df = pd.DataFrame()\n",
    "df['expr'] = np.concatenate(data)\n",
    "df['geno'] = np.repeat(geno, num_cell_per_ind)\n",
    "df['age'] = np.repeat(age, num_cell_per_ind)\n",
    "df['ind'] = ['donor_' + str(x) for x in np.repeat(range(num_ind), num_cell_per_ind)]\n",
    "dummy_df = pd.get_dummies(df, drop_first=True)"
   ]
  },
  {
   "cell_type": "code",
   "execution_count": 51,
   "id": "65f6731c",
   "metadata": {},
   "outputs": [],
   "source": [
    "def m(x, w):\n",
    "    \"\"\"Weighted Mean\"\"\"\n",
    "    return np.sum(x * w) / np.sum(w)\n",
    "\n",
    "def cov(x, y, w):\n",
    "    \"\"\"Weighted Covariance\"\"\"\n",
    "    return np.sum(w * (x - m(x, w)) * (y - m(y, w))) / np.sum(w)\n",
    "\n",
    "def corr(x, y, w):\n",
    "    \"\"\"Weighted Correlation\"\"\"\n",
    "    return cov(x, y, w) / np.sqrt(cov(x, x, w) * cov(y, y, w))"
   ]
  },
  {
   "cell_type": "code",
   "execution_count": 50,
   "id": "50e22727",
   "metadata": {},
   "outputs": [
    {
     "data": {
      "text/plain": [
       "(0.6336992804422077, 0.0)"
      ]
     },
     "execution_count": 50,
     "metadata": {},
     "output_type": "execute_result"
    }
   ],
   "source": [
    "stats.pearsonr(df['expr'], df['geno'])"
   ]
  },
  {
   "cell_type": "code",
   "execution_count": 52,
   "id": "a6ba0a4f",
   "metadata": {},
   "outputs": [
    {
     "data": {
      "text/plain": [
       "0.9998394998293151"
      ]
     },
     "execution_count": 52,
     "metadata": {},
     "output_type": "execute_result"
    }
   ],
   "source": [
    "corr(weighted_df['geno'], weighted_df['mean'], weighted_df['count'])"
   ]
  },
  {
   "cell_type": "code",
   "execution_count": null,
   "id": "91651a15",
   "metadata": {},
   "outputs": [],
   "source": [
    "stats.pearsonr(weighted_df['mean'], weighted_df[''])"
   ]
  },
  {
   "cell_type": "code",
   "execution_count": 46,
   "id": "e1755b32",
   "metadata": {},
   "outputs": [
    {
     "data": {
      "text/html": [
       "<table class=\"simpletable\">\n",
       "<caption>OLS Regression Results</caption>\n",
       "<tr>\n",
       "  <th>Dep. Variable:</th>          <td>expr</td>       <th>  R-squared:         </th> <td>   0.402</td> \n",
       "</tr>\n",
       "<tr>\n",
       "  <th>Model:</th>                   <td>OLS</td>       <th>  Adj. R-squared:    </th> <td>   0.402</td> \n",
       "</tr>\n",
       "<tr>\n",
       "  <th>Method:</th>             <td>Least Squares</td>  <th>  F-statistic:       </th> <td>2.013e+04</td>\n",
       "</tr>\n",
       "<tr>\n",
       "  <th>Date:</th>             <td>Tue, 08 Mar 2022</td> <th>  Prob (F-statistic):</th>  <td>  0.00</td>  \n",
       "</tr>\n",
       "<tr>\n",
       "  <th>Time:</th>                 <td>16:26:57</td>     <th>  Log-Likelihood:    </th> <td> -42506.</td> \n",
       "</tr>\n",
       "<tr>\n",
       "  <th>No. Observations:</th>      <td> 30000</td>      <th>  AIC:               </th> <td>8.502e+04</td>\n",
       "</tr>\n",
       "<tr>\n",
       "  <th>Df Residuals:</th>          <td> 29998</td>      <th>  BIC:               </th> <td>8.503e+04</td>\n",
       "</tr>\n",
       "<tr>\n",
       "  <th>Df Model:</th>              <td>     1</td>      <th>                     </th>     <td> </td>    \n",
       "</tr>\n",
       "<tr>\n",
       "  <th>Covariance Type:</th>      <td>nonrobust</td>    <th>                     </th>     <td> </td>    \n",
       "</tr>\n",
       "</table>\n",
       "<table class=\"simpletable\">\n",
       "<tr>\n",
       "      <td></td>         <th>coef</th>     <th>std err</th>      <th>t</th>      <th>P>|t|</th>  <th>[0.025</th>    <th>0.975]</th>  \n",
       "</tr>\n",
       "<tr>\n",
       "  <th>Intercept</th> <td>    9.9927</td> <td>    0.009</td> <td> 1096.873</td> <td> 0.000</td> <td>    9.975</td> <td>   10.011</td>\n",
       "</tr>\n",
       "<tr>\n",
       "  <th>geno</th>      <td>    1.0012</td> <td>    0.007</td> <td>  141.881</td> <td> 0.000</td> <td>    0.987</td> <td>    1.015</td>\n",
       "</tr>\n",
       "</table>\n",
       "<table class=\"simpletable\">\n",
       "<tr>\n",
       "  <th>Omnibus:</th>       <td> 0.296</td> <th>  Durbin-Watson:     </th> <td>   1.995</td>\n",
       "</tr>\n",
       "<tr>\n",
       "  <th>Prob(Omnibus):</th> <td> 0.863</td> <th>  Jarque-Bera (JB):  </th> <td>   0.298</td>\n",
       "</tr>\n",
       "<tr>\n",
       "  <th>Skew:</th>          <td>-0.008</td> <th>  Prob(JB):          </th> <td>   0.862</td>\n",
       "</tr>\n",
       "<tr>\n",
       "  <th>Kurtosis:</th>      <td> 2.998</td> <th>  Cond. No.          </th> <td>    2.92</td>\n",
       "</tr>\n",
       "</table><br/><br/>Notes:<br/>[1] Standard Errors assume that the covariance matrix of the errors is correctly specified."
      ],
      "text/plain": [
       "<class 'statsmodels.iolib.summary.Summary'>\n",
       "\"\"\"\n",
       "                            OLS Regression Results                            \n",
       "==============================================================================\n",
       "Dep. Variable:                   expr   R-squared:                       0.402\n",
       "Model:                            OLS   Adj. R-squared:                  0.402\n",
       "Method:                 Least Squares   F-statistic:                 2.013e+04\n",
       "Date:                Tue, 08 Mar 2022   Prob (F-statistic):               0.00\n",
       "Time:                        16:26:57   Log-Likelihood:                -42506.\n",
       "No. Observations:               30000   AIC:                         8.502e+04\n",
       "Df Residuals:                   29998   BIC:                         8.503e+04\n",
       "Df Model:                           1                                         \n",
       "Covariance Type:            nonrobust                                         \n",
       "==============================================================================\n",
       "                 coef    std err          t      P>|t|      [0.025      0.975]\n",
       "------------------------------------------------------------------------------\n",
       "Intercept      9.9927      0.009   1096.873      0.000       9.975      10.011\n",
       "geno           1.0012      0.007    141.881      0.000       0.987       1.015\n",
       "==============================================================================\n",
       "Omnibus:                        0.296   Durbin-Watson:                   1.995\n",
       "Prob(Omnibus):                  0.863   Jarque-Bera (JB):                0.298\n",
       "Skew:                          -0.008   Prob(JB):                        0.862\n",
       "Kurtosis:                       2.998   Cond. No.                         2.92\n",
       "==============================================================================\n",
       "\n",
       "Notes:\n",
       "[1] Standard Errors assume that the covariance matrix of the errors is correctly specified.\n",
       "\"\"\""
      ]
     },
     "execution_count": 46,
     "metadata": {},
     "output_type": "execute_result"
    }
   ],
   "source": [
    "smf.ols(\"expr ~ geno\", df).fit().summary()"
   ]
  },
  {
   "cell_type": "code",
   "execution_count": 47,
   "id": "c6bde30f",
   "metadata": {},
   "outputs": [],
   "source": [
    "weighted_df = df.groupby('geno').agg({'expr':['mean', 'count']})\n",
    "weighted_df.columns = weighted_df.columns.get_level_values(1)\n",
    "weighted_df = weighted_df.reset_index()"
   ]
  },
  {
   "cell_type": "code",
   "execution_count": 48,
   "id": "5fb70b1e",
   "metadata": {},
   "outputs": [
    {
     "data": {
      "text/html": [
       "<div>\n",
       "<style scoped>\n",
       "    .dataframe tbody tr th:only-of-type {\n",
       "        vertical-align: middle;\n",
       "    }\n",
       "\n",
       "    .dataframe tbody tr th {\n",
       "        vertical-align: top;\n",
       "    }\n",
       "\n",
       "    .dataframe thead th {\n",
       "        text-align: right;\n",
       "    }\n",
       "</style>\n",
       "<table border=\"1\" class=\"dataframe\">\n",
       "  <thead>\n",
       "    <tr style=\"text-align: right;\">\n",
       "      <th></th>\n",
       "      <th>geno</th>\n",
       "      <th>mean</th>\n",
       "      <th>count</th>\n",
       "    </tr>\n",
       "  </thead>\n",
       "  <tbody>\n",
       "    <tr>\n",
       "      <th>0</th>\n",
       "      <td>0</td>\n",
       "      <td>10.003071</td>\n",
       "      <td>10000</td>\n",
       "    </tr>\n",
       "    <tr>\n",
       "      <th>1</th>\n",
       "      <td>1</td>\n",
       "      <td>10.973211</td>\n",
       "      <td>10000</td>\n",
       "    </tr>\n",
       "    <tr>\n",
       "      <th>2</th>\n",
       "      <td>2</td>\n",
       "      <td>12.005499</td>\n",
       "      <td>10000</td>\n",
       "    </tr>\n",
       "  </tbody>\n",
       "</table>\n",
       "</div>"
      ],
      "text/plain": [
       "   geno       mean  count\n",
       "0     0  10.003071  10000\n",
       "1     1  10.973211  10000\n",
       "2     2  12.005499  10000"
      ]
     },
     "execution_count": 48,
     "metadata": {},
     "output_type": "execute_result"
    }
   ],
   "source": [
    "weighted_df"
   ]
  },
  {
   "cell_type": "code",
   "execution_count": 49,
   "id": "052415b3",
   "metadata": {},
   "outputs": [
    {
     "name": "stderr",
     "output_type": "stream",
     "text": [
      "/home/ssm-user/anaconda3/envs/single_cell/lib/python3.8/site-packages/statsmodels/tsa/tsatools.py:142: FutureWarning: In a future version of pandas all arguments of concat except for the argument 'objs' will be keyword-only\n",
      "  x = pd.concat(x[::order], 1)\n",
      "/home/ssm-user/anaconda3/envs/single_cell/lib/python3.8/site-packages/statsmodels/stats/stattools.py:74: ValueWarning: omni_normtest is not valid with less than 8 observations; 3 samples were given.\n",
      "  warn(\"omni_normtest is not valid with less than 8 observations; %i \"\n"
     ]
    },
    {
     "data": {
      "text/html": [
       "<table class=\"simpletable\">\n",
       "<caption>WLS Regression Results</caption>\n",
       "<tr>\n",
       "  <th>Dep. Variable:</th>          <td>mean</td>       <th>  R-squared:         </th> <td>   1.000</td>\n",
       "</tr>\n",
       "<tr>\n",
       "  <th>Model:</th>                   <td>WLS</td>       <th>  Adj. R-squared:    </th> <td>   0.999</td>\n",
       "</tr>\n",
       "<tr>\n",
       "  <th>Method:</th>             <td>Least Squares</td>  <th>  F-statistic:       </th> <td>   3115.</td>\n",
       "</tr>\n",
       "<tr>\n",
       "  <th>Date:</th>             <td>Tue, 08 Mar 2022</td> <th>  Prob (F-statistic):</th>  <td>0.0114</td> \n",
       "</tr>\n",
       "<tr>\n",
       "  <th>Time:</th>                 <td>16:27:00</td>     <th>  Log-Likelihood:    </th> <td>  8.4135</td>\n",
       "</tr>\n",
       "<tr>\n",
       "  <th>No. Observations:</th>      <td>     3</td>      <th>  AIC:               </th> <td>  -12.83</td>\n",
       "</tr>\n",
       "<tr>\n",
       "  <th>Df Residuals:</th>          <td>     1</td>      <th>  BIC:               </th> <td>  -14.63</td>\n",
       "</tr>\n",
       "<tr>\n",
       "  <th>Df Model:</th>              <td>     1</td>      <th>                     </th>     <td> </td>   \n",
       "</tr>\n",
       "<tr>\n",
       "  <th>Covariance Type:</th>      <td>nonrobust</td>    <th>                     </th>     <td> </td>   \n",
       "</tr>\n",
       "</table>\n",
       "<table class=\"simpletable\">\n",
       "<tr>\n",
       "    <td></td>       <th>coef</th>     <th>std err</th>      <th>t</th>      <th>P>|t|</th>  <th>[0.025</th>    <th>0.975]</th>  \n",
       "</tr>\n",
       "<tr>\n",
       "  <th>const</th> <td>    9.9927</td> <td>    0.023</td> <td>  431.446</td> <td> 0.001</td> <td>    9.698</td> <td>   10.287</td>\n",
       "</tr>\n",
       "<tr>\n",
       "  <th>geno</th>  <td>    1.0012</td> <td>    0.018</td> <td>   55.808</td> <td> 0.011</td> <td>    0.773</td> <td>    1.229</td>\n",
       "</tr>\n",
       "</table>\n",
       "<table class=\"simpletable\">\n",
       "<tr>\n",
       "  <th>Omnibus:</th>       <td>   nan</td> <th>  Durbin-Watson:     </th> <td>   3.000</td>\n",
       "</tr>\n",
       "<tr>\n",
       "  <th>Prob(Omnibus):</th> <td>   nan</td> <th>  Jarque-Bera (JB):  </th> <td>   0.531</td>\n",
       "</tr>\n",
       "<tr>\n",
       "  <th>Skew:</th>          <td>-0.707</td> <th>  Prob(JB):          </th> <td>   0.767</td>\n",
       "</tr>\n",
       "<tr>\n",
       "  <th>Kurtosis:</th>      <td> 1.500</td> <th>  Cond. No.          </th> <td>    2.92</td>\n",
       "</tr>\n",
       "</table><br/><br/>Notes:<br/>[1] Standard Errors assume that the covariance matrix of the errors is correctly specified."
      ],
      "text/plain": [
       "<class 'statsmodels.iolib.summary.Summary'>\n",
       "\"\"\"\n",
       "                            WLS Regression Results                            \n",
       "==============================================================================\n",
       "Dep. Variable:                   mean   R-squared:                       1.000\n",
       "Model:                            WLS   Adj. R-squared:                  0.999\n",
       "Method:                 Least Squares   F-statistic:                     3115.\n",
       "Date:                Tue, 08 Mar 2022   Prob (F-statistic):             0.0114\n",
       "Time:                        16:27:00   Log-Likelihood:                 8.4135\n",
       "No. Observations:                   3   AIC:                            -12.83\n",
       "Df Residuals:                       1   BIC:                            -14.63\n",
       "Df Model:                           1                                         \n",
       "Covariance Type:            nonrobust                                         \n",
       "==============================================================================\n",
       "                 coef    std err          t      P>|t|      [0.025      0.975]\n",
       "------------------------------------------------------------------------------\n",
       "const          9.9927      0.023    431.446      0.001       9.698      10.287\n",
       "geno           1.0012      0.018     55.808      0.011       0.773       1.229\n",
       "==============================================================================\n",
       "Omnibus:                          nan   Durbin-Watson:                   3.000\n",
       "Prob(Omnibus):                    nan   Jarque-Bera (JB):                0.531\n",
       "Skew:                          -0.707   Prob(JB):                        0.767\n",
       "Kurtosis:                       1.500   Cond. No.                         2.92\n",
       "==============================================================================\n",
       "\n",
       "Notes:\n",
       "[1] Standard Errors assume that the covariance matrix of the errors is correctly specified.\n",
       "\"\"\""
      ]
     },
     "execution_count": 49,
     "metadata": {},
     "output_type": "execute_result"
    }
   ],
   "source": [
    "sm.WLS(weighted_df['mean'], sm.add_constant(weighted_df[['geno']]), weights=weighted_df['count']).fit().summary()"
   ]
  },
  {
   "cell_type": "markdown",
   "id": "e885c61e",
   "metadata": {},
   "source": [
    "### Smooth bootstrap"
   ]
  },
  {
   "cell_type": "code",
   "execution_count": 53,
   "id": "7663970a",
   "metadata": {},
   "outputs": [],
   "source": [
    "mu = 0.1\n",
    "alpha = 3\n",
    "var = mu + alpha * mu**2\n",
    "N=1000\n",
    "def convert_params(mu, alpha):\n",
    "    \"\"\" \n",
    "    Convert mean/dispersion parameterization of a negative binomial to the ones scipy supports\n",
    "\n",
    "    Parameters\n",
    "    ----------\n",
    "    mu : float \n",
    "       Mean of NB distribution.\n",
    "    alpha : float\n",
    "       Overdispersion parameter used for variance calculation.\n",
    "\n",
    "    See https://en.wikipedia.org/wiki/Negative_binomial_distribution#Alternative_formulations\n",
    "    \"\"\"\n",
    "    var = mu + alpha * mu ** 2\n",
    "    p = mu / var\n",
    "    r = mu ** 2 / (var - mu)\n",
    "    return r, p"
   ]
  },
  {
   "cell_type": "code",
   "execution_count": 54,
   "id": "cd256795",
   "metadata": {},
   "outputs": [],
   "source": [
    "sample = stats.nbinom.rvs(*convert_params(mu, alpha), size=N)\n",
    "num_iter = 10000\n",
    "sampling_dist = np.zeros(num_iter)"
   ]
  },
  {
   "cell_type": "code",
   "execution_count": 55,
   "id": "8195e2b0",
   "metadata": {},
   "outputs": [
    {
     "data": {
      "text/plain": [
       "(array([918.,   0.,  65.,   0.,   0.,  16.,   0.,   0.,   0.,   1.]),\n",
       " array([0. , 0.4, 0.8, 1.2, 1.6, 2. , 2.4, 2.8, 3.2, 3.6, 4. ]),\n",
       " <BarContainer object of 10 artists>)"
      ]
     },
     "execution_count": 55,
     "metadata": {},
     "output_type": "execute_result"
    },
    {
     "data": {
      "image/png": "[encoded data removed]",
      "text/plain": [
       "<Figure size 432x288 with 1 Axes>"
      ]
     },
     "metadata": {
      "needs_background": "light"
     },
     "output_type": "display_data"
    }
   ],
   "source": [
    "plt.hist(sample)"
   ]
  },
  {
   "cell_type": "code",
   "execution_count": 56,
   "id": "f67f9470",
   "metadata": {},
   "outputs": [],
   "source": [
    "for itr in range(num_iter):\n",
    "    sampling_dist[itr] = np.log(stats.nbinom.rvs(*convert_params(mu, alpha), size=N).var())"
   ]
  },
  {
   "cell_type": "code",
   "execution_count": 57,
   "id": "2a97467c",
   "metadata": {},
   "outputs": [
    {
     "name": "stdout",
     "output_type": "stream",
     "text": [
      "4\n"
     ]
    }
   ],
   "source": [
    "# sample[-1] = 500\n",
    "print(sample.max())\n",
    "sample[-3] = 8\n"
   ]
  },
  {
   "cell_type": "code",
   "execution_count": 58,
   "id": "63667c69",
   "metadata": {},
   "outputs": [
    {
     "name": "stdout",
     "output_type": "stream",
     "text": [
      "Optimization terminated successfully.\n",
      "         Current function value: 0.344960\n",
      "         Iterations: 5\n",
      "         Function evaluations: 8\n",
      "         Gradient evaluations: 8\n"
     ]
    }
   ],
   "source": [
    "params = sm.NegativeBinomial(sample, np.ones((N, 1))).fit().params\n",
    "mu_hat = np.exp(params[0])\n",
    "alpha_hat = params[1]"
   ]
  },
  {
   "cell_type": "code",
   "execution_count": 59,
   "id": "00f829b3",
   "metadata": {},
   "outputs": [
    {
     "data": {
      "text/plain": [
       "0.0001"
      ]
     },
     "execution_count": 59,
     "metadata": {},
     "output_type": "execute_result"
    }
   ],
   "source": [
    "1/N/10"
   ]
  },
  {
   "cell_type": "code",
   "execution_count": 60,
   "id": "2d240746",
   "metadata": {},
   "outputs": [
    {
     "data": {
      "text/plain": [
       "array([1.04193743e-05, 1.05170678e-03, 1.37639382e-02, 1.37639382e-02,\n",
       "       1.37639382e-02])"
      ]
     },
     "execution_count": 60,
     "metadata": {},
     "output_type": "execute_result"
    }
   ],
   "source": [
    "np.sort(stats.nbinom.pmf(sample, *convert_params(mu_hat, alpha_hat)))[:5]"
   ]
  },
  {
   "cell_type": "code",
   "execution_count": 39,
   "id": "8d300731",
   "metadata": {},
   "outputs": [],
   "source": [
    "boot_para_dist = np.zeros(num_iter)\n",
    "boot_dist = np.zeros(num_iter)\n",
    "# fit = stats.nbinom.fit(sample)\n",
    "for boot in range(num_iter):\n",
    "    boot_dist[boot] = np.log((np.random.choice(sample, N)).var())\n",
    "    x = stats.nbinom.rvs(*convert_params(mu_hat, alpha_hat), size=N)\n",
    "    boot_para_dist[boot] = np.log(x.var())"
   ]
  },
  {
   "cell_type": "code",
   "execution_count": 40,
   "id": "945cb46a",
   "metadata": {},
   "outputs": [
    {
     "name": "stdout",
     "output_type": "stream",
     "text": [
      "0.16826519016684052\n",
      "0.42206678547259724\n",
      "0.21209583026658912\n"
     ]
    }
   ],
   "source": [
    "print(np.std(sampling_dist))\n",
    "print(np.std(boot_dist))\n",
    "print(np.std(boot_para_dist))"
   ]
  },
  {
   "cell_type": "code",
   "execution_count": 41,
   "id": "6ecedf54",
   "metadata": {},
   "outputs": [
    {
     "data": {
      "text/plain": [
       "-2.0402208285265546"
      ]
     },
     "execution_count": 41,
     "metadata": {},
     "output_type": "execute_result"
    }
   ],
   "source": [
    "np.log(var)"
   ]
  },
  {
   "cell_type": "code",
   "execution_count": 42,
   "id": "0c720d46",
   "metadata": {},
   "outputs": [
    {
     "data": {
      "text/plain": [
       "<AxesSubplot:ylabel='Density'>"
      ]
     },
     "execution_count": 42,
     "metadata": {},
     "output_type": "execute_result"
    },
    {
     "data": {
      "image/png": "[encoded data removed]",
      "text/plain": [
       "<Figure size 432x288 with 1 Axes>"
      ]
     },
     "metadata": {
      "needs_background": "light"
     },
     "output_type": "display_data"
    }
   ],
   "source": [
    "sns.kdeplot(sampling_dist)\n",
    "sns.kdeplot(boot_dist)\n",
    "sns.kdeplot(boot_para_dist)\n",
    "\n",
    "# plt.plot([np.log(var), np.log(var)], [0, 5])"
   ]
  },
  {
   "cell_type": "code",
   "execution_count": null,
   "id": "bf9e430d",
   "metadata": {},
   "outputs": [],
   "source": []
  },
  {
   "cell_type": "code",
   "execution_count": null,
   "id": "729b78e0",
   "metadata": {},
   "outputs": [],
   "source": []
  }
 ],
 "metadata": {
  "kernelspec": {
   "display_name": "Python 3 (ipykernel)",
   "language": "python",
   "name": "python3"
  },
  "language_info": {
   "codemirror_mode": {
    "name": "ipython",
    "version": 3
   },
   "file_extension": ".py",
   "mimetype": "text/x-python",
   "name": "python",
   "nbconvert_exporter": "python",
   "pygments_lexer": "ipython3",
   "version": "3.8.8"
  }
 },
 "nbformat": 4,
 "nbformat_minor": 5
}
