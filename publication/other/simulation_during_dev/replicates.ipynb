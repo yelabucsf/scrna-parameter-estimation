{
 "cells": [
  {
   "cell_type": "markdown",
   "id": "modular-speaker",
   "metadata": {},
   "source": [
    "### Replicates and linear regression"
   ]
  },
  {
   "cell_type": "code",
   "execution_count": 1,
   "id": "missing-horse",
   "metadata": {},
   "outputs": [],
   "source": [
    "from sklearn.linear_model import LinearRegression\n",
    "from sklearn.preprocessing import OneHotEncoder\n",
    "import numpy as np\n",
    "import seaborn as sns\n",
    "import scipy.stats as stats\n",
    "import pandas as pd"
   ]
  },
  {
   "cell_type": "code",
   "execution_count": 2,
   "id": "removable-details",
   "metadata": {},
   "outputs": [],
   "source": [
    "# N = 1000\n",
    "# num_boot = 10000\n",
    "# num_donors = 3\n",
    "# donors = np.random.choice(['a','b','c'], size=N)\n",
    "# endog = np.random.randint(2, size=N).reshape(-1,1)\n",
    "\n",
    "# donor_indicator = OneHotEncoder().fit_transform(donors.reshape(-1,1)).toarray()\n",
    "# X = np.hstack([endog, donor_indicator])\n",
    "# beta = np.array([50, 40, 20, 30]).reshape(-1,1)\n",
    "# noise = stats.norm.rvs(loc=0*np.ones(N)*(donors=='a')*(endog.reshape(-1)==1), scale=100,).reshape(-1,1)\n",
    "# noise = stats.norm.rvs(scale=100, size=N).reshape(-1,1)\n",
    "# exog = X@beta + noise"
   ]
  },
  {
   "cell_type": "code",
   "execution_count": 8,
   "id": "short-checklist",
   "metadata": {},
   "outputs": [],
   "source": [
    "N = 20\n",
    "num_boot = 20000\n",
    "num_donors = 3\n",
    "donors = np.random.choice(['a','b','c'], size=N)\n",
    "endog = np.random.randint(2, size=N).reshape(-1,1)\n",
    "\n",
    "donor_indicator = OneHotEncoder().fit_transform(donors.reshape(-1,1)).toarray()\n",
    "X = np.hstack([endog, donor_indicator])\n",
    "beta = np.array([50, 10, 20, 30]).reshape(-1,1)\n",
    "\n",
    "exog = X@beta + \\\n",
    "    60*np.ones(N)*(donors=='a')*(endog.reshape(-1)==1) + \\\n",
    "    25*np.ones(N)*(donors=='b')*(endog.reshape(-1)==1) + \\\n",
    "    stats.norm.rvs(loc=0, scale=20, size=N).reshape(-1,1)"
   ]
  },
  {
   "cell_type": "markdown",
   "id": "selective-palestinian",
   "metadata": {},
   "source": [
    "### Code for actual linear regression"
   ]
  },
  {
   "cell_type": "code",
   "execution_count": 33,
   "id": "signed-graph",
   "metadata": {},
   "outputs": [],
   "source": [
    "linreg_coefs = np.zeros(num_boot)\n",
    "# X = np.hstack([X, X[:, [0]]*X[:, [1]], X[:, [0]]*X[:, [2]], X[:, [0]]*X[:, [3]]])\n",
    "for b in range(num_boot):\n",
    "    boot_idxs = np.random.choice(N, size=N)\n",
    "    linreg_coefs[b] = LinearRegression(fit_intercept=False).fit(X[boot_idxs],exog[boot_idxs]).coef_[0,0]"
   ]
  },
  {
   "cell_type": "markdown",
   "id": "assured-snake",
   "metadata": {},
   "source": [
    "### Code for separate regression"
   ]
  },
  {
   "cell_type": "code",
   "execution_count": 34,
   "id": "understood-guidance",
   "metadata": {},
   "outputs": [],
   "source": [
    "donor_data = []\n",
    "for donor in ['a', 'b', 'c']:\n",
    "    X_donor = endog[donors==donor].copy()\n",
    "    exog_donor = exog[donors==donor].copy()\n",
    "    donor_data.append((X_donor, exog_donor))"
   ]
  },
  {
   "cell_type": "code",
   "execution_count": 35,
   "id": "overhead-oasis",
   "metadata": {},
   "outputs": [],
   "source": [
    "weighted_coefs = np.zeros(num_boot)\n",
    "for b in range(num_boot):\n",
    "    \n",
    "    for X_donor, exog_donor in donor_data:\n",
    "        \n",
    "        boot_idxs = np.random.choice(X_donor.shape[0], size=X_donor.shape[0])\n",
    "        weighted_coefs[b] += LinearRegression(fit_intercept=True).fit(X_donor[boot_idxs],exog_donor[boot_idxs]).coef_[0,0]*X_donor.shape[0]\n",
    "    \n",
    "    weighted_coefs[b] /= N"
   ]
  },
  {
   "cell_type": "code",
   "execution_count": 36,
   "id": "different-workshop",
   "metadata": {},
   "outputs": [
    {
     "data": {
      "text/plain": [
       "<AxesSubplot:ylabel='Density'>"
      ]
     },
     "execution_count": 36,
     "metadata": {},
     "output_type": "execute_result"
    },
    {
     "data": {
      "image/png": "[encoded data removed]",
      "text/plain": [
       "<Figure size 432x288 with 1 Axes>"
      ]
     },
     "metadata": {
      "needs_background": "light"
     },
     "output_type": "display_data"
    }
   ],
   "source": [
    "sns.kdeplot(linreg_coefs)\n",
    "sns.kdeplot(weighted_coefs)"
   ]
  },
  {
   "cell_type": "code",
   "execution_count": 37,
   "id": "comic-seafood",
   "metadata": {},
   "outputs": [
    {
     "data": {
      "text/plain": [
       "array([[0., 0., 1., 0.],\n",
       "       [0., 0., 1., 0.],\n",
       "       [1., 0., 1., 0.],\n",
       "       ...,\n",
       "       [0., 0., 1., 0.],\n",
       "       [0., 1., 0., 0.],\n",
       "       [0., 1., 0., 0.]])"
      ]
     },
     "execution_count": 37,
     "metadata": {},
     "output_type": "execute_result"
    }
   ],
   "source": [
    "X"
   ]
  },
  {
   "cell_type": "code",
   "execution_count": 38,
   "id": "responsible-anthony",
   "metadata": {},
   "outputs": [],
   "source": [
    "cov_idx = 0"
   ]
  },
  {
   "cell_type": "code",
   "execution_count": 18,
   "id": "united-south",
   "metadata": {},
   "outputs": [],
   "source": [
    "strata = np.delete(X, 0, axis=1)\n",
    "uniq_strata, indices, inverse = np.unique(np.delete(X, 0, axis=1), axis=0, return_inverse=True, return_index=True)"
   ]
  },
  {
   "cell_type": "code",
   "execution_count": 19,
   "id": "numerical-midwest",
   "metadata": {},
   "outputs": [
    {
     "data": {
      "text/plain": [
       "array([0, 5, 1])"
      ]
     },
     "execution_count": 19,
     "metadata": {},
     "output_type": "execute_result"
    }
   ],
   "source": [
    "indices"
   ]
  },
  {
   "cell_type": "code",
   "execution_count": 14,
   "id": "convertible-watts",
   "metadata": {},
   "outputs": [
    {
     "data": {
      "text/plain": [
       "array([0, 2, 2, 0, 0, 1, 1, 2, 2, 2, 0, 1, 1, 1, 2, 1, 1, 2, 1, 0])"
      ]
     },
     "execution_count": 14,
     "metadata": {},
     "output_type": "execute_result"
    }
   ],
   "source": [
    "inverse"
   ]
  },
  {
   "cell_type": "code",
   "execution_count": 21,
   "id": "naughty-steam",
   "metadata": {},
   "outputs": [
    {
     "data": {
      "text/plain": [
       "array([ 0,  3,  4, 10, 19])"
      ]
     },
     "execution_count": 21,
     "metadata": {},
     "output_type": "execute_result"
    }
   ],
   "source": [
    "np.where(inverse==0)[0]"
   ]
  },
  {
   "cell_type": "code",
   "execution_count": 23,
   "id": "square-republic",
   "metadata": {},
   "outputs": [],
   "source": [
    "import scipy.sparse as sparse"
   ]
  },
  {
   "cell_type": "code",
   "execution_count": 27,
   "id": "romance-evening",
   "metadata": {},
   "outputs": [
    {
     "data": {
      "text/plain": [
       "<5x1 sparse matrix of type '<class 'numpy.float64'>'\n",
       "\twith 1 stored elements in Compressed Sparse Row format>"
      ]
     },
     "execution_count": 27,
     "metadata": {},
     "output_type": "execute_result"
    }
   ],
   "source": [
    "sparse.eye(5).tocsr()[:, 0]"
   ]
  },
  {
   "cell_type": "code",
   "execution_count": 28,
   "id": "middle-inquiry",
   "metadata": {},
   "outputs": [
    {
     "data": {
      "text/plain": [
       "array([1, 2, 3, 5, 3])"
      ]
     },
     "execution_count": 28,
     "metadata": {},
     "output_type": "execute_result"
    }
   ],
   "source": [
    "np.concatenate([np.array([1, 2, 3]), np.array([5, 3])])"
   ]
  },
  {
   "cell_type": "code",
   "execution_count": 30,
   "id": "respective-zoning",
   "metadata": {},
   "outputs": [
    {
     "data": {
      "text/plain": [
       "<10x5 sparse matrix of type '<class 'numpy.float64'>'\n",
       "\twith 10 stored elements in COOrdinate format>"
      ]
     },
     "execution_count": 30,
     "metadata": {},
     "output_type": "execute_result"
    }
   ],
   "source": [
    "sparse.vstack([sparse.eye(5), sparse.eye(5)])"
   ]
  },
  {
   "cell_type": "code",
   "execution_count": 38,
   "id": "proprietary-shoulder",
   "metadata": {},
   "outputs": [],
   "source": [
    "def a():\n",
    "    return 'a', 'b', 'c'"
   ]
  },
  {
   "cell_type": "code",
   "execution_count": 39,
   "id": "organized-metadata",
   "metadata": {},
   "outputs": [],
   "source": [
    "b = {1:a()}"
   ]
  },
  {
   "cell_type": "code",
   "execution_count": 40,
   "id": "tough-tokyo",
   "metadata": {},
   "outputs": [
    {
     "data": {
      "text/plain": [
       "{1: ('a', 'b', 'c')}"
      ]
     },
     "execution_count": 40,
     "metadata": {},
     "output_type": "execute_result"
    }
   ],
   "source": [
    "b"
   ]
  },
  {
   "cell_type": "code",
   "execution_count": 34,
   "id": "thousand-swing",
   "metadata": {},
   "outputs": [
    {
     "ename": "NameError",
     "evalue": "name 'xyz' is not defined",
     "output_type": "error",
     "traceback": [
      "\u001b[0;31m---------------------------------------------------------------------------\u001b[0m",
      "\u001b[0;31mNameError\u001b[0m                                 Traceback (most recent call last)",
      "\u001b[0;32m<ipython-input-34-2f5d7a64ca2e>\u001b[0m in \u001b[0;36m<module>\u001b[0;34m\u001b[0m\n\u001b[0;32m----> 1\u001b[0;31m \u001b[0;34m(\u001b[0m\u001b[0mxyz\u001b[0m \u001b[0;32mif\u001b[0m \u001b[0;36m1\u001b[0m\u001b[0;34m==\u001b[0m\u001b[0;36m1\u001b[0m \u001b[0;32melse\u001b[0m \u001b[0;34m'abc'\u001b[0m\u001b[0;34m)\u001b[0m\u001b[0;34m\u001b[0m\u001b[0;34m\u001b[0m\u001b[0m\n\u001b[0m",
      "\u001b[0;31mNameError\u001b[0m: name 'xyz' is not defined"
     ]
    }
   ],
   "source": [
    "(xyz if 1==1 else 'abc')"
   ]
  },
  {
   "cell_type": "code",
   "execution_count": 40,
   "id": "under-socket",
   "metadata": {},
   "outputs": [],
   "source": [
    "strata_idx = np.all(strata == uniq_strata[0], axis=1)"
   ]
  },
  {
   "cell_type": "code",
   "execution_count": 41,
   "id": "attempted-viewer",
   "metadata": {},
   "outputs": [
    {
     "data": {
      "text/plain": [
       "(128, 2)"
      ]
     },
     "execution_count": 41,
     "metadata": {},
     "output_type": "execute_result"
    }
   ],
   "source": [
    "X[strata_idx][:, [0,1]].shape"
   ]
  },
  {
   "cell_type": "code",
   "execution_count": 42,
   "id": "similar-baghdad",
   "metadata": {},
   "outputs": [],
   "source": [
    "df = pd.DataFrame(uniq_strata, columns=['A', 'B', 'C'])"
   ]
  },
  {
   "cell_type": "code",
   "execution_count": 24,
   "id": "intellectual-madonna",
   "metadata": {},
   "outputs": [],
   "source": [
    "from patsy import dmatrix"
   ]
  },
  {
   "cell_type": "code",
   "execution_count": 4,
   "id": "female-generation",
   "metadata": {},
   "outputs": [
    {
     "ename": "NameError",
     "evalue": "name 'dmatrix' is not defined",
     "output_type": "error",
     "traceback": [
      "\u001b[0;31m---------------------------------------------------------------------------\u001b[0m",
      "\u001b[0;31mNameError\u001b[0m                                 Traceback (most recent call last)",
      "\u001b[0;32m<ipython-input-4-a74d57276d80>\u001b[0m in \u001b[0;36m<module>\u001b[0;34m\u001b[0m\n\u001b[1;32m      6\u001b[0m \u001b[0mformula_like\u001b[0m \u001b[0;34m=\u001b[0m \u001b[0;34m'1 + treatment + covariate'\u001b[0m\u001b[0;34m\u001b[0m\u001b[0;34m\u001b[0m\u001b[0m\n\u001b[1;32m      7\u001b[0m \u001b[0;34m\u001b[0m\u001b[0m\n\u001b[0;32m----> 8\u001b[0;31m \u001b[0mdmat\u001b[0m \u001b[0;34m=\u001b[0m \u001b[0mdmatrix\u001b[0m\u001b[0;34m(\u001b[0m\u001b[0mformula_like\u001b[0m\u001b[0;34m,\u001b[0m \u001b[0mdesign_df\u001b[0m\u001b[0;34m)\u001b[0m\u001b[0;34m\u001b[0m\u001b[0;34m\u001b[0m\u001b[0m\n\u001b[0m\u001b[1;32m      9\u001b[0m \u001b[0mdesign_matrix_cols\u001b[0m \u001b[0;34m=\u001b[0m \u001b[0mdmat\u001b[0m\u001b[0;34m.\u001b[0m\u001b[0mdesign_info\u001b[0m\u001b[0;34m.\u001b[0m\u001b[0mcolumn_names\u001b[0m\u001b[0;34m.\u001b[0m\u001b[0mcopy\u001b[0m\u001b[0;34m(\u001b[0m\u001b[0;34m)\u001b[0m\u001b[0;34m\u001b[0m\u001b[0;34m\u001b[0m\u001b[0m\n\u001b[1;32m     10\u001b[0m \u001b[0mdesign_matrix\u001b[0m \u001b[0;34m=\u001b[0m \u001b[0mnp\u001b[0m\u001b[0;34m.\u001b[0m\u001b[0marray\u001b[0m\u001b[0;34m(\u001b[0m\u001b[0mdmat\u001b[0m\u001b[0;34m)\u001b[0m\u001b[0;34m\u001b[0m\u001b[0;34m\u001b[0m\u001b[0m\n",
      "\u001b[0;31mNameError\u001b[0m: name 'dmatrix' is not defined"
     ]
    }
   ],
   "source": [
    "N = 10\n",
    "df = pd.DataFrame()\n",
    "df['treatment'] = np.random.choice(['A', 'B', 'C', 'D'], size=N)\n",
    "df['covariate'] = np.random.choice(2, size=N)\n",
    "design_df = df.copy()\n",
    "formula_like = '1 + treatment + covariate'\n",
    "\n",
    "dmat = dmatrix(formula_like, design_df)\n",
    "design_matrix_cols = dmat.design_info.column_names.copy()\n",
    "design_matrix = np.array(dmat)\n",
    "del dmat\n"
   ]
  },
  {
   "cell_type": "code",
   "execution_count": 35,
   "id": "arranged-journal",
   "metadata": {},
   "outputs": [
    {
     "data": {
      "text/html": [
       "<div>\n",
       "<style scoped>\n",
       "    .dataframe tbody tr th:only-of-type {\n",
       "        vertical-align: middle;\n",
       "    }\n",
       "\n",
       "    .dataframe tbody tr th {\n",
       "        vertical-align: top;\n",
       "    }\n",
       "\n",
       "    .dataframe thead th {\n",
       "        text-align: right;\n",
       "    }\n",
       "</style>\n",
       "<table border=\"1\" class=\"dataframe\">\n",
       "  <thead>\n",
       "    <tr style=\"text-align: right;\">\n",
       "      <th></th>\n",
       "      <th>treatment</th>\n",
       "      <th>covariate</th>\n",
       "    </tr>\n",
       "  </thead>\n",
       "  <tbody>\n",
       "    <tr>\n",
       "      <th>0</th>\n",
       "      <td>A</td>\n",
       "      <td>1</td>\n",
       "    </tr>\n",
       "    <tr>\n",
       "      <th>1</th>\n",
       "      <td>A</td>\n",
       "      <td>1</td>\n",
       "    </tr>\n",
       "    <tr>\n",
       "      <th>2</th>\n",
       "      <td>D</td>\n",
       "      <td>1</td>\n",
       "    </tr>\n",
       "    <tr>\n",
       "      <th>3</th>\n",
       "      <td>C</td>\n",
       "      <td>1</td>\n",
       "    </tr>\n",
       "    <tr>\n",
       "      <th>4</th>\n",
       "      <td>A</td>\n",
       "      <td>0</td>\n",
       "    </tr>\n",
       "    <tr>\n",
       "      <th>...</th>\n",
       "      <td>...</td>\n",
       "      <td>...</td>\n",
       "    </tr>\n",
       "    <tr>\n",
       "      <th>95</th>\n",
       "      <td>A</td>\n",
       "      <td>1</td>\n",
       "    </tr>\n",
       "    <tr>\n",
       "      <th>96</th>\n",
       "      <td>A</td>\n",
       "      <td>1</td>\n",
       "    </tr>\n",
       "    <tr>\n",
       "      <th>97</th>\n",
       "      <td>B</td>\n",
       "      <td>0</td>\n",
       "    </tr>\n",
       "    <tr>\n",
       "      <th>98</th>\n",
       "      <td>D</td>\n",
       "      <td>0</td>\n",
       "    </tr>\n",
       "    <tr>\n",
       "      <th>99</th>\n",
       "      <td>B</td>\n",
       "      <td>1</td>\n",
       "    </tr>\n",
       "  </tbody>\n",
       "</table>\n",
       "<p>100 rows × 2 columns</p>\n",
       "</div>"
      ],
      "text/plain": [
       "   treatment  covariate\n",
       "0          A          1\n",
       "1          A          1\n",
       "2          D          1\n",
       "3          C          1\n",
       "4          A          0\n",
       "..       ...        ...\n",
       "95         A          1\n",
       "96         A          1\n",
       "97         B          0\n",
       "98         D          0\n",
       "99         B          1\n",
       "\n",
       "[100 rows x 2 columns]"
      ]
     },
     "execution_count": 35,
     "metadata": {},
     "output_type": "execute_result"
    }
   ],
   "source": [
    "df"
   ]
  },
  {
   "cell_type": "code",
   "execution_count": 36,
   "id": "substantial-warrant",
   "metadata": {},
   "outputs": [
    {
     "data": {
      "text/plain": [
       "['Intercept',\n",
       " 'treatment[T.B]',\n",
       " 'treatment[T.C]',\n",
       " 'treatment[T.D]',\n",
       " 'covariate']"
      ]
     },
     "execution_count": 36,
     "metadata": {},
     "output_type": "execute_result"
    }
   ],
   "source": [
    "design_matrix_cols"
   ]
  },
  {
   "cell_type": "code",
   "execution_count": 37,
   "id": "constitutional-credit",
   "metadata": {},
   "outputs": [
    {
     "data": {
      "text/plain": [
       "array([[1., 0., 0., 0., 0.],\n",
       "       [1., 0., 0., 0., 1.],\n",
       "       [1., 0., 0., 1., 0.],\n",
       "       [1., 0., 0., 1., 1.],\n",
       "       [1., 0., 1., 0., 0.],\n",
       "       [1., 0., 1., 0., 1.],\n",
       "       [1., 1., 0., 0., 0.],\n",
       "       [1., 1., 0., 0., 1.]])"
      ]
     },
     "execution_count": 37,
     "metadata": {},
     "output_type": "execute_result"
    }
   ],
   "source": [
    "np.unique(design_matrix, axis=0)"
   ]
  },
  {
   "cell_type": "code",
   "execution_count": null,
   "id": "handed-helmet",
   "metadata": {},
   "outputs": [],
   "source": []
  }
 ],
 "metadata": {
  "kernelspec": {
   "display_name": "Python 3",
   "language": "python",
   "name": "python3"
  },
  "language_info": {
   "codemirror_mode": {
    "name": "ipython",
    "version": 3
   },
   "file_extension": ".py",
   "mimetype": "text/x-python",
   "name": "python",
   "nbconvert_exporter": "python",
   "pygments_lexer": "ipython3",
   "version": "3.8.8"
  }
 },
 "nbformat": 4,
 "nbformat_minor": 5
}
