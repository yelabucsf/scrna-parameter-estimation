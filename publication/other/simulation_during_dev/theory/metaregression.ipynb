{
 "cells": [
  {
   "cell_type": "markdown",
   "id": "508f1675-7715-4a73-84f3-ffef372f4df9",
   "metadata": {},
   "source": [
    "# Hello"
   ]
  },
  {
   "cell_type": "code",
   "execution_count": 33,
   "id": "4514e6b5-0f32-4115-bceb-e5a42b77e3fb",
   "metadata": {},
   "outputs": [],
   "source": [
    "import numpy as np\n",
    "import statsmodels.api as sm\n",
    "import scipy.stats as stats"
   ]
  },
  {
   "cell_type": "markdown",
   "id": "faa43bff-1e4a-4152-92a0-a3675fd1e142",
   "metadata": {},
   "source": [
    "### GLM test"
   ]
  },
  {
   "cell_type": "code",
   "execution_count": 34,
   "id": "b60b2d0e-d9c6-4137-823f-82db6d4a7493",
   "metadata": {},
   "outputs": [],
   "source": [
    "X = np.array([0, 0, 0.5, 0.5, 1, 1]).reshape(-1,1)\n",
    "X = sm.add_constant(X)\n"
   ]
  },
  {
   "cell_type": "code",
   "execution_count": 35,
   "id": "bfa09dce-e110-4db8-acad-5b4bf4eec4fb",
   "metadata": {},
   "outputs": [],
   "source": [
    "beta = np.array([1, 1.5]).reshape(-1,1)"
   ]
  },
  {
   "cell_type": "code",
   "execution_count": 50,
   "id": "7a36f53a-78b1-4ac0-9d3f-a2643684b04c",
   "metadata": {},
   "outputs": [],
   "source": [
    "mean = np.exp(X@beta)\n",
    "data = stats.poisson.rvs(mean)\n",
    "logdata = np.log(data+1)"
   ]
  },
  {
   "cell_type": "code",
   "execution_count": 51,
   "id": "486e8e49-6098-4331-83d1-ba463208bee6",
   "metadata": {},
   "outputs": [
    {
     "data": {
      "text/plain": [
       "array([[ 2.71828183],\n",
       "       [ 2.71828183],\n",
       "       [ 5.75460268],\n",
       "       [ 5.75460268],\n",
       "       [12.18249396],\n",
       "       [12.18249396]])"
      ]
     },
     "execution_count": 51,
     "metadata": {},
     "output_type": "execute_result"
    }
   ],
   "source": [
    "mean"
   ]
  },
  {
   "cell_type": "code",
   "execution_count": 52,
   "id": "858cdf12-3bf6-4d93-a1e4-4ba0937c647b",
   "metadata": {},
   "outputs": [
    {
     "name": "stdout",
     "output_type": "stream",
     "text": [
      "[[ 4]\n",
      " [ 2]\n",
      " [ 1]\n",
      " [ 4]\n",
      " [14]\n",
      " [ 9]] [[1.60943791]\n",
      " [1.09861229]\n",
      " [0.69314718]\n",
      " [1.60943791]\n",
      " [2.7080502 ]\n",
      " [2.30258509]]\n"
     ]
    }
   ],
   "source": [
    "print(data, logdata)"
   ]
  },
  {
   "cell_type": "code",
   "execution_count": 53,
   "id": "3082a44c-3cd1-49fc-a211-82179f509eaf",
   "metadata": {},
   "outputs": [
    {
     "name": "stderr",
     "output_type": "stream",
     "text": [
      "/home/ssm-user/anaconda3/envs/single_cell/lib/python3.8/site-packages/statsmodels/base/model.py:127: ValueWarning: unknown kwargs ['weights']\n",
      "  warnings.warn(msg, ValueWarning)\n"
     ]
    },
    {
     "data": {
      "text/html": [
       "<table class=\"simpletable\">\n",
       "<caption>Generalized Linear Model Regression Results</caption>\n",
       "<tr>\n",
       "  <th>Dep. Variable:</th>           <td>y</td>        <th>  No. Observations:  </th>  <td>     6</td> \n",
       "</tr>\n",
       "<tr>\n",
       "  <th>Model:</th>                  <td>GLM</td>       <th>  Df Residuals:      </th>  <td>     4</td> \n",
       "</tr>\n",
       "<tr>\n",
       "  <th>Model Family:</th>    <td>NegativeBinomial</td> <th>  Df Model:          </th>  <td>     1</td> \n",
       "</tr>\n",
       "<tr>\n",
       "  <th>Link Function:</th>          <td>Log</td>       <th>  Scale:             </th> <td>  1.0000</td>\n",
       "</tr>\n",
       "<tr>\n",
       "  <th>Method:</th>                <td>IRLS</td>       <th>  Log-Likelihood:    </th> <td> -14.787</td>\n",
       "</tr>\n",
       "<tr>\n",
       "  <th>Date:</th>            <td>Thu, 13 Apr 2023</td> <th>  Deviance:          </th> <td>  2.4884</td>\n",
       "</tr>\n",
       "<tr>\n",
       "  <th>Time:</th>                <td>00:40:48</td>     <th>  Pearson chi2:      </th>  <td>  1.86</td> \n",
       "</tr>\n",
       "<tr>\n",
       "  <th>No. Iterations:</th>          <td>6</td>        <th>  Pseudo R-squ. (CS):</th>  <td>0.4122</td> \n",
       "</tr>\n",
       "<tr>\n",
       "  <th>Covariance Type:</th>     <td>nonrobust</td>    <th>                     </th>     <td> </td>   \n",
       "</tr>\n",
       "</table>\n",
       "<table class=\"simpletable\">\n",
       "<tr>\n",
       "    <td></td>       <th>coef</th>     <th>std err</th>      <th>z</th>      <th>P>|z|</th>  <th>[0.025</th>    <th>0.975]</th>  \n",
       "</tr>\n",
       "<tr>\n",
       "  <th>const</th> <td>    0.8311</td> <td>    0.607</td> <td>    1.370</td> <td> 0.171</td> <td>   -0.358</td> <td>    2.020</td>\n",
       "</tr>\n",
       "<tr>\n",
       "  <th>x1</th>    <td>    1.4305</td> <td>    0.870</td> <td>    1.644</td> <td> 0.100</td> <td>   -0.275</td> <td>    3.136</td>\n",
       "</tr>\n",
       "</table>"
      ],
      "text/plain": [
       "<class 'statsmodels.iolib.summary.Summary'>\n",
       "\"\"\"\n",
       "                 Generalized Linear Model Regression Results                  \n",
       "==============================================================================\n",
       "Dep. Variable:                      y   No. Observations:                    6\n",
       "Model:                            GLM   Df Residuals:                        4\n",
       "Model Family:        NegativeBinomial   Df Model:                            1\n",
       "Link Function:                    Log   Scale:                          1.0000\n",
       "Method:                          IRLS   Log-Likelihood:                -14.787\n",
       "Date:                Thu, 13 Apr 2023   Deviance:                       2.4884\n",
       "Time:                        00:40:48   Pearson chi2:                     1.86\n",
       "No. Iterations:                     6   Pseudo R-squ. (CS):             0.4122\n",
       "Covariance Type:            nonrobust                                         \n",
       "==============================================================================\n",
       "                 coef    std err          z      P>|z|      [0.025      0.975]\n",
       "------------------------------------------------------------------------------\n",
       "const          0.8311      0.607      1.370      0.171      -0.358       2.020\n",
       "x1             1.4305      0.870      1.644      0.100      -0.275       3.136\n",
       "==============================================================================\n",
       "\"\"\""
      ]
     },
     "execution_count": 53,
     "metadata": {},
     "output_type": "execute_result"
    }
   ],
   "source": [
    "sm.GLM(data, X, \n",
    "       weights=np.array([1, 1, 1, 1, 1, 1])*10,\n",
    "       family=sm.families.NegativeBinomial(alpha=0.5)).fit().summary()"
   ]
  },
  {
   "cell_type": "code",
   "execution_count": 61,
   "id": "f4be3458-6592-4664-b4c4-de2e339ea87a",
   "metadata": {},
   "outputs": [
    {
     "name": "stderr",
     "output_type": "stream",
     "text": [
      "/home/ssm-user/anaconda3/envs/single_cell/lib/python3.8/site-packages/statsmodels/stats/stattools.py:74: ValueWarning: omni_normtest is not valid with less than 8 observations; 6 samples were given.\n",
      "  warn(\"omni_normtest is not valid with less than 8 observations; %i \"\n"
     ]
    },
    {
     "data": {
      "text/html": [
       "<table class=\"simpletable\">\n",
       "<caption>WLS Regression Results</caption>\n",
       "<tr>\n",
       "  <th>Dep. Variable:</th>            <td>y</td>        <th>  R-squared:         </th> <td>   0.709</td>\n",
       "</tr>\n",
       "<tr>\n",
       "  <th>Model:</th>                   <td>WLS</td>       <th>  Adj. R-squared:    </th> <td>   0.636</td>\n",
       "</tr>\n",
       "<tr>\n",
       "  <th>Method:</th>             <td>Least Squares</td>  <th>  F-statistic:       </th> <td>   21.75</td>\n",
       "</tr>\n",
       "<tr>\n",
       "  <th>Date:</th>             <td>Thu, 13 Apr 2023</td> <th>  Prob (F-statistic):</th>  <td>0.00957</td>\n",
       "</tr>\n",
       "<tr>\n",
       "  <th>Time:</th>                 <td>00:48:25</td>     <th>  Log-Likelihood:    </th> <td> -3.3894</td>\n",
       "</tr>\n",
       "<tr>\n",
       "  <th>No. Observations:</th>      <td>     6</td>      <th>  AIC:               </th> <td>   10.78</td>\n",
       "</tr>\n",
       "<tr>\n",
       "  <th>Df Residuals:</th>          <td>     4</td>      <th>  BIC:               </th> <td>   10.36</td>\n",
       "</tr>\n",
       "<tr>\n",
       "  <th>Df Model:</th>              <td>     1</td>      <th>                     </th>     <td> </td>   \n",
       "</tr>\n",
       "<tr>\n",
       "  <th>Covariance Type:</th>         <td>HC0</td>       <th>                     </th>     <td> </td>   \n",
       "</tr>\n",
       "</table>\n",
       "<table class=\"simpletable\">\n",
       "<tr>\n",
       "    <td></td>       <th>coef</th>     <th>std err</th>      <th>z</th>      <th>P>|z|</th>  <th>[0.025</th>    <th>0.975]</th>  \n",
       "</tr>\n",
       "<tr>\n",
       "  <th>const</th> <td>    1.4047</td> <td>    0.191</td> <td>    7.354</td> <td> 0.000</td> <td>    1.030</td> <td>    1.779</td>\n",
       "</tr>\n",
       "<tr>\n",
       "  <th>x1</th>    <td>    0.8809</td> <td>    0.189</td> <td>    4.663</td> <td> 0.000</td> <td>    0.511</td> <td>    1.251</td>\n",
       "</tr>\n",
       "</table>\n",
       "<table class=\"simpletable\">\n",
       "<tr>\n",
       "  <th>Omnibus:</th>       <td>   nan</td> <th>  Durbin-Watson:     </th> <td>   1.237</td>\n",
       "</tr>\n",
       "<tr>\n",
       "  <th>Prob(Omnibus):</th> <td>   nan</td> <th>  Jarque-Bera (JB):  </th> <td>   0.656</td>\n",
       "</tr>\n",
       "<tr>\n",
       "  <th>Skew:</th>          <td>-0.793</td> <th>  Prob(JB):          </th> <td>   0.720</td>\n",
       "</tr>\n",
       "<tr>\n",
       "  <th>Kurtosis:</th>      <td> 2.671</td> <th>  Cond. No.          </th> <td>    5.94</td>\n",
       "</tr>\n",
       "</table><br/><br/>Notes:<br/>[1] Standard Errors are heteroscedasticity robust (HC0)"
      ],
      "text/plain": [
       "<class 'statsmodels.iolib.summary.Summary'>\n",
       "\"\"\"\n",
       "                            WLS Regression Results                            \n",
       "==============================================================================\n",
       "Dep. Variable:                      y   R-squared:                       0.709\n",
       "Model:                            WLS   Adj. R-squared:                  0.636\n",
       "Method:                 Least Squares   F-statistic:                     21.75\n",
       "Date:                Thu, 13 Apr 2023   Prob (F-statistic):            0.00957\n",
       "Time:                        00:48:25   Log-Likelihood:                -3.3894\n",
       "No. Observations:                   6   AIC:                             10.78\n",
       "Df Residuals:                       4   BIC:                             10.36\n",
       "Df Model:                           1                                         \n",
       "Covariance Type:                  HC0                                         \n",
       "==============================================================================\n",
       "                 coef    std err          z      P>|z|      [0.025      0.975]\n",
       "------------------------------------------------------------------------------\n",
       "const          1.4047      0.191      7.354      0.000       1.030       1.779\n",
       "x1             0.8809      0.189      4.663      0.000       0.511       1.251\n",
       "==============================================================================\n",
       "Omnibus:                          nan   Durbin-Watson:                   1.237\n",
       "Prob(Omnibus):                    nan   Jarque-Bera (JB):                0.656\n",
       "Skew:                          -0.793   Prob(JB):                        0.720\n",
       "Kurtosis:                       2.671   Cond. No.                         5.94\n",
       "==============================================================================\n",
       "\n",
       "Notes:\n",
       "[1] Standard Errors are heteroscedasticity robust (HC0)\n",
       "\"\"\""
      ]
     },
     "execution_count": 61,
     "metadata": {},
     "output_type": "execute_result"
    }
   ],
   "source": [
    "sm.WLS(logdata, X, weights=np.array([10, 1, 2, 5, 0.11, 100])*100).fit(cov_type='HC0').summary()"
   ]
  },
  {
   "cell_type": "code",
   "execution_count": 59,
   "id": "a7e1b32d-06b2-43ce-a580-de909c1c7c4c",
   "metadata": {},
   "outputs": [
    {
     "name": "stderr",
     "output_type": "stream",
     "text": [
      "/home/ssm-user/anaconda3/envs/single_cell/lib/python3.8/site-packages/statsmodels/stats/stattools.py:74: ValueWarning: omni_normtest is not valid with less than 8 observations; 6 samples were given.\n",
      "  warn(\"omni_normtest is not valid with less than 8 observations; %i \"\n"
     ]
    },
    {
     "data": {
      "text/html": [
       "<table class=\"simpletable\">\n",
       "<caption>WLS Regression Results</caption>\n",
       "<tr>\n",
       "  <th>Dep. Variable:</th>            <td>y</td>        <th>  R-squared:         </th> <td>   0.479</td>\n",
       "</tr>\n",
       "<tr>\n",
       "  <th>Model:</th>                   <td>WLS</td>       <th>  Adj. R-squared:    </th> <td>   0.349</td>\n",
       "</tr>\n",
       "<tr>\n",
       "  <th>Method:</th>             <td>Least Squares</td>  <th>  F-statistic:       </th> <td>   11.00</td>\n",
       "</tr>\n",
       "<tr>\n",
       "  <th>Date:</th>             <td>Thu, 13 Apr 2023</td> <th>  Prob (F-statistic):</th>  <td>0.0295</td> \n",
       "</tr>\n",
       "<tr>\n",
       "  <th>Time:</th>                 <td>00:41:25</td>     <th>  Log-Likelihood:    </th> <td> -4.2329</td>\n",
       "</tr>\n",
       "<tr>\n",
       "  <th>No. Observations:</th>      <td>     6</td>      <th>  AIC:               </th> <td>   12.47</td>\n",
       "</tr>\n",
       "<tr>\n",
       "  <th>Df Residuals:</th>          <td>     4</td>      <th>  BIC:               </th> <td>   12.05</td>\n",
       "</tr>\n",
       "<tr>\n",
       "  <th>Df Model:</th>              <td>     1</td>      <th>                     </th>     <td> </td>   \n",
       "</tr>\n",
       "<tr>\n",
       "  <th>Covariance Type:</th>         <td>HC0</td>       <th>                     </th>     <td> </td>   \n",
       "</tr>\n",
       "</table>\n",
       "<table class=\"simpletable\">\n",
       "<tr>\n",
       "    <td></td>       <th>coef</th>     <th>std err</th>      <th>z</th>      <th>P>|z|</th>  <th>[0.025</th>    <th>0.975]</th>  \n",
       "</tr>\n",
       "<tr>\n",
       "  <th>const</th> <td>    1.0946</td> <td>    0.272</td> <td>    4.020</td> <td> 0.000</td> <td>    0.561</td> <td>    1.628</td>\n",
       "</tr>\n",
       "<tr>\n",
       "  <th>x1</th>    <td>    1.1513</td> <td>    0.347</td> <td>    3.317</td> <td> 0.001</td> <td>    0.471</td> <td>    1.832</td>\n",
       "</tr>\n",
       "</table>\n",
       "<table class=\"simpletable\">\n",
       "<tr>\n",
       "  <th>Omnibus:</th>       <td>   nan</td> <th>  Durbin-Watson:     </th> <td>   1.736</td>\n",
       "</tr>\n",
       "<tr>\n",
       "  <th>Prob(Omnibus):</th> <td>   nan</td> <th>  Jarque-Bera (JB):  </th> <td>   0.977</td>\n",
       "</tr>\n",
       "<tr>\n",
       "  <th>Skew:</th>          <td>-0.989</td> <th>  Prob(JB):          </th> <td>   0.613</td>\n",
       "</tr>\n",
       "<tr>\n",
       "  <th>Kurtosis:</th>      <td> 2.971</td> <th>  Cond. No.          </th> <td>    3.15</td>\n",
       "</tr>\n",
       "</table><br/><br/>Notes:<br/>[1] Standard Errors are heteroscedasticity robust (HC0)"
      ],
      "text/plain": [
       "<class 'statsmodels.iolib.summary.Summary'>\n",
       "\"\"\"\n",
       "                            WLS Regression Results                            \n",
       "==============================================================================\n",
       "Dep. Variable:                      y   R-squared:                       0.479\n",
       "Model:                            WLS   Adj. R-squared:                  0.349\n",
       "Method:                 Least Squares   F-statistic:                     11.00\n",
       "Date:                Thu, 13 Apr 2023   Prob (F-statistic):             0.0295\n",
       "Time:                        00:41:25   Log-Likelihood:                -4.2329\n",
       "No. Observations:                   6   AIC:                             12.47\n",
       "Df Residuals:                       4   BIC:                             12.05\n",
       "Df Model:                           1                                         \n",
       "Covariance Type:                  HC0                                         \n",
       "==============================================================================\n",
       "                 coef    std err          z      P>|z|      [0.025      0.975]\n",
       "------------------------------------------------------------------------------\n",
       "const          1.0946      0.272      4.020      0.000       0.561       1.628\n",
       "x1             1.1513      0.347      3.317      0.001       0.471       1.832\n",
       "==============================================================================\n",
       "Omnibus:                          nan   Durbin-Watson:                   1.736\n",
       "Prob(Omnibus):                    nan   Jarque-Bera (JB):                0.977\n",
       "Skew:                          -0.989   Prob(JB):                        0.613\n",
       "Kurtosis:                       2.971   Cond. No.                         3.15\n",
       "==============================================================================\n",
       "\n",
       "Notes:\n",
       "[1] Standard Errors are heteroscedasticity robust (HC0)\n",
       "\"\"\""
      ]
     },
     "execution_count": 59,
     "metadata": {},
     "output_type": "execute_result"
    }
   ],
   "source": [
    "sm.WLS(logdata, X, weights=[1, 1, 1, 1, 1, 1]).fit(cov_type='HC0').summary()"
   ]
  },
  {
   "cell_type": "code",
   "execution_count": 49,
   "id": "838de431-98a5-4ad1-90fd-828eef75e3b0",
   "metadata": {},
   "outputs": [
    {
     "data": {
      "text/html": [
       "<table class=\"simpletable\">\n",
       "<caption>Generalized Linear Model Regression Results</caption>\n",
       "<tr>\n",
       "  <th>Dep. Variable:</th>           <td>y</td>        <th>  No. Observations:  </th>  <td>     6</td> \n",
       "</tr>\n",
       "<tr>\n",
       "  <th>Model:</th>                  <td>GLM</td>       <th>  Df Residuals:      </th>  <td>     4</td> \n",
       "</tr>\n",
       "<tr>\n",
       "  <th>Model Family:</th>        <td>Gaussian</td>     <th>  Df Model:          </th>  <td>     1</td> \n",
       "</tr>\n",
       "<tr>\n",
       "  <th>Link Function:</th>       <td>identity</td>     <th>  Scale:             </th> <td>0.058927</td>\n",
       "</tr>\n",
       "<tr>\n",
       "  <th>Method:</th>                <td>IRLS</td>       <th>  Log-Likelihood:    </th> <td>  1.1971</td>\n",
       "</tr>\n",
       "<tr>\n",
       "  <th>Date:</th>            <td>Thu, 13 Apr 2023</td> <th>  Deviance:          </th> <td> 0.23571</td>\n",
       "</tr>\n",
       "<tr>\n",
       "  <th>Time:</th>                <td>00:40:34</td>     <th>  Pearson chi2:      </th>  <td> 0.236</td> \n",
       "</tr>\n",
       "<tr>\n",
       "  <th>No. Iterations:</th>          <td>3</td>        <th>  Pseudo R-squ. (CS):</th>  <td>0.9762</td> \n",
       "</tr>\n",
       "<tr>\n",
       "  <th>Covariance Type:</th>     <td>nonrobust</td>    <th>                     </th>     <td> </td>   \n",
       "</tr>\n",
       "</table>\n",
       "<table class=\"simpletable\">\n",
       "<tr>\n",
       "    <td></td>       <th>coef</th>     <th>std err</th>      <th>z</th>      <th>P>|z|</th>  <th>[0.025</th>    <th>0.975]</th>  \n",
       "</tr>\n",
       "<tr>\n",
       "  <th>const</th> <td>    1.3034</td> <td>    0.157</td> <td>    8.318</td> <td> 0.000</td> <td>    0.996</td> <td>    1.610</td>\n",
       "</tr>\n",
       "<tr>\n",
       "  <th>x1</th>    <td>    1.1386</td> <td>    0.243</td> <td>    4.691</td> <td> 0.000</td> <td>    0.663</td> <td>    1.614</td>\n",
       "</tr>\n",
       "</table>"
      ],
      "text/plain": [
       "<class 'statsmodels.iolib.summary.Summary'>\n",
       "\"\"\"\n",
       "                 Generalized Linear Model Regression Results                  \n",
       "==============================================================================\n",
       "Dep. Variable:                      y   No. Observations:                    6\n",
       "Model:                            GLM   Df Residuals:                        4\n",
       "Model Family:                Gaussian   Df Model:                            1\n",
       "Link Function:               identity   Scale:                        0.058927\n",
       "Method:                          IRLS   Log-Likelihood:                 1.1971\n",
       "Date:                Thu, 13 Apr 2023   Deviance:                      0.23571\n",
       "Time:                        00:40:34   Pearson chi2:                    0.236\n",
       "No. Iterations:                     3   Pseudo R-squ. (CS):             0.9762\n",
       "Covariance Type:            nonrobust                                         \n",
       "==============================================================================\n",
       "                 coef    std err          z      P>|z|      [0.025      0.975]\n",
       "------------------------------------------------------------------------------\n",
       "const          1.3034      0.157      8.318      0.000       0.996       1.610\n",
       "x1             1.1386      0.243      4.691      0.000       0.663       1.614\n",
       "==============================================================================\n",
       "\"\"\""
      ]
     },
     "execution_count": 49,
     "metadata": {},
     "output_type": "execute_result"
    }
   ],
   "source": [
    "sm.GLM(logdata, X, family=sm.families.Gaussian()).fit().summary()"
   ]
  },
  {
   "cell_type": "code",
   "execution_count": null,
   "id": "29d3211b-a622-4888-883f-fc5611700da6",
   "metadata": {},
   "outputs": [],
   "source": []
  },
  {
   "cell_type": "code",
   "execution_count": null,
   "id": "62f2ae45-f304-4f8b-97b8-724adc9cb186",
   "metadata": {},
   "outputs": [],
   "source": []
  }
 ],
 "metadata": {
  "kernelspec": {
   "display_name": "Python 3 (ipykernel)",
   "language": "python",
   "name": "python3"
  },
  "language_info": {
   "codemirror_mode": {
    "name": "ipython",
    "version": 3
   },
   "file_extension": ".py",
   "mimetype": "text/x-python",
   "name": "python",
   "nbconvert_exporter": "python",
   "pygments_lexer": "ipython3",
   "version": "3.8.16"
  }
 },
 "nbformat": 4,
 "nbformat_minor": 5
}
