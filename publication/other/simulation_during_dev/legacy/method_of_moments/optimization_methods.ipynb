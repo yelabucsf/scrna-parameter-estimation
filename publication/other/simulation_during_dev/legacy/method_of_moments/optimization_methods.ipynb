{
 "cells": [
  {
   "cell_type": "markdown",
   "metadata": {},
   "source": [
    "# Optimization methods & acceleration"
   ]
  },
  {
   "cell_type": "code",
   "execution_count": 1,
   "metadata": {},
   "outputs": [
    {
     "data": {
      "text/html": [
       "<style>.container { width:100% !important; }</style>"
      ],
      "text/plain": [
       "<IPython.core.display.HTML object>"
      ]
     },
     "metadata": {},
     "output_type": "display_data"
    }
   ],
   "source": [
    "import numpy as np\n",
    "import scipy.stats as stats\n",
    "import matplotlib.pyplot as plt\n",
    "import seaborn as sns\n",
    "import pandas as pd\n",
    "import scipy as sp\n",
    "import sklearn.linear_model as sk_lm\n",
    "import statsmodels.api as sm\n",
    "import imp\n",
    "from IPython.core.display import display, HTML\n",
    "display(HTML(\"<style>.container { width:100% !important; }</style>\"))"
   ]
  },
  {
   "cell_type": "code",
   "execution_count": 2,
   "metadata": {},
   "outputs": [],
   "source": [
    "#import numdifftools"
   ]
  },
  {
   "cell_type": "code",
   "execution_count": 3,
   "metadata": {},
   "outputs": [],
   "source": [
    "import numpy as np\n",
    "from scipy.special import psi\n",
    "from statsmodels.sandbox.regression.gmm import GMM"
   ]
  },
  {
   "cell_type": "code",
   "execution_count": 4,
   "metadata": {},
   "outputs": [
    {
     "name": "stdout",
     "output_type": "stream",
     "text": [
      "/home/mkim7/Github/scrna-parameter-estimation/examples/simulation/method_of_moments\n"
     ]
    }
   ],
   "source": [
    "!pwd"
   ]
  },
  {
   "cell_type": "code",
   "execution_count": 11,
   "metadata": {},
   "outputs": [
    {
     "data": {
      "text/plain": [
       "['/home/mkim7/Github/scrna-parameter-estimation/examples/simulation/method_of_moments',\n",
       " '/home/mkim7/anaconda3/envs/single_cell/lib/python37.zip',\n",
       " '/home/mkim7/anaconda3/envs/single_cell/lib/python3.7',\n",
       " '/home/mkim7/anaconda3/envs/single_cell/lib/python3.7/lib-dynload',\n",
       " '',\n",
       " '/home/mkim7/anaconda3/envs/single_cell/lib/python3.7/site-packages',\n",
       " '/home/mkim7/anaconda3/envs/single_cell/lib/python3.7/site-packages/IPython/extensions',\n",
       " '/home/mkim7/.ipython',\n",
       " 'Github/scrna-parameter-estimation/examples/simulation/simulate.py',\n",
       " '/home/mkim7/Github/scrna-parameter-estimation/examples/simulation/simulate.py']"
      ]
     },
     "execution_count": 11,
     "metadata": {},
     "output_type": "execute_result"
    }
   ],
   "source": [
    "sys.path"
   ]
  },
  {
   "cell_type": "code",
   "execution_count": 6,
   "metadata": {},
   "outputs": [],
   "source": [
    "import sys"
   ]
  },
  {
   "cell_type": "code",
   "execution_count": 14,
   "metadata": {},
   "outputs": [],
   "source": [
    "import sys\n",
    "sys.path.append('/home/mkim7/Github/scrna-parameter-estimation/examples/simulation')\n",
    "import simulate as sim"
   ]
  },
  {
   "cell_type": "code",
   "execution_count": 15,
   "metadata": {},
   "outputs": [],
   "source": [
    "p = 0.1\n",
    "noise_level = 0.2049755522580501\n",
    "p_sq = (noise_level+1)*p**2"
   ]
  },
  {
   "cell_type": "code",
   "execution_count": 31,
   "metadata": {},
   "outputs": [
    {
     "data": {
      "text/plain": [
       "<module 'simulate' from '/home/mkim7/Github/scrna-parameter-estimation/examples/simulation/simulate.py'>"
      ]
     },
     "execution_count": 31,
     "metadata": {},
     "output_type": "execute_result"
    }
   ],
   "source": [
    "imp.reload(sim)"
   ]
  },
  {
   "cell_type": "code",
   "execution_count": 140,
   "metadata": {},
   "outputs": [
    {
     "name": "stdout",
     "output_type": "stream",
     "text": [
      "hi\n"
     ]
    }
   ],
   "source": [
    "X, z = sim.simulate_true_counts(\n",
    "    N=10000,\n",
    "    mean_coef = np.array([0.5, 0.5]),\n",
    "    var_coef = np.array([1, 0.5]),\n",
    "    num_levels=3,\n",
    "    p=1)\n",
    "\n",
    "y = sim.simulate_dropout(z, p, p_sq)\n",
    "df_raw = pd.DataFrame(\n",
    "    data=np.hstack([X, y]),\n",
    "    columns=['treatment', 'intercept', 'y'])\n",
    "df_means = df_raw.groupby(['treatment', 'intercept'])['y'].mean()\n",
    "df_raw = df_raw.groupby(['treatment', 'intercept']).size().reset_index(name='count')\n",
    "df_raw['mean'] = df_means.values"
   ]
  },
  {
   "cell_type": "code",
   "execution_count": 133,
   "metadata": {},
   "outputs": [
    {
     "data": {
      "text/html": [
       "<div>\n",
       "<style scoped>\n",
       "    .dataframe tbody tr th:only-of-type {\n",
       "        vertical-align: middle;\n",
       "    }\n",
       "\n",
       "    .dataframe tbody tr th {\n",
       "        vertical-align: top;\n",
       "    }\n",
       "\n",
       "    .dataframe thead th {\n",
       "        text-align: right;\n",
       "    }\n",
       "</style>\n",
       "<table border=\"1\" class=\"dataframe\">\n",
       "  <thead>\n",
       "    <tr style=\"text-align: right;\">\n",
       "      <th></th>\n",
       "      <th>treatment</th>\n",
       "      <th>intercept</th>\n",
       "      <th>count</th>\n",
       "      <th>mean</th>\n",
       "    </tr>\n",
       "  </thead>\n",
       "  <tbody>\n",
       "    <tr>\n",
       "      <th>0</th>\n",
       "      <td>0</td>\n",
       "      <td>1</td>\n",
       "      <td>3264</td>\n",
       "      <td>0.424482</td>\n",
       "    </tr>\n",
       "    <tr>\n",
       "      <th>1</th>\n",
       "      <td>1</td>\n",
       "      <td>1</td>\n",
       "      <td>3342</td>\n",
       "      <td>1.016972</td>\n",
       "    </tr>\n",
       "    <tr>\n",
       "      <th>2</th>\n",
       "      <td>2</td>\n",
       "      <td>1</td>\n",
       "      <td>3394</td>\n",
       "      <td>1.504536</td>\n",
       "    </tr>\n",
       "  </tbody>\n",
       "</table>\n",
       "</div>"
      ],
      "text/plain": [
       "   treatment  intercept  count      mean\n",
       "0          0          1   3264  0.424482\n",
       "1          1          1   3342  1.016972\n",
       "2          2          1   3394  1.504536"
      ]
     },
     "execution_count": 133,
     "metadata": {},
     "output_type": "execute_result"
    }
   ],
   "source": [
    "df_raw.head(5)"
   ]
  },
  {
   "cell_type": "code",
   "execution_count": 137,
   "metadata": {},
   "outputs": [],
   "source": [
    "lm = sk_lm.LinearRegression().fit(df_raw['treatment'].values.reshape(-1, 1), df_raw['mean'], sample_weight=df_raw['count'])"
   ]
  },
  {
   "cell_type": "code",
   "execution_count": 139,
   "metadata": {},
   "outputs": [
    {
     "data": {
      "text/plain": [
       "array([0.53968414])"
      ]
     },
     "execution_count": 139,
     "metadata": {},
     "output_type": "execute_result"
    }
   ],
   "source": [
    "lm.coef_"
   ]
  },
  {
   "cell_type": "code",
   "execution_count": 131,
   "metadata": {},
   "outputs": [
    {
     "data": {
      "text/plain": [
       "LinregressResult(slope=0.5400265721323865, intercept=0.44197027622371265, rvalue=0.9984306916630515, pvalue=0.03567024343911022, stderr=0.03028976428242153)"
      ]
     },
     "execution_count": 131,
     "metadata": {},
     "output_type": "execute_result"
    }
   ],
   "source": [
    "stats.linregress(df_raw['treatment'], df_means)"
   ]
  },
  {
   "cell_type": "code",
   "execution_count": 95,
   "metadata": {},
   "outputs": [
    {
     "name": "stdout",
     "output_type": "stream",
     "text": [
      "                               MeanGMM Results                                \n",
      "==============================================================================\n",
      "Dep. Variable:                      y   Hansen J:                    9.565e-10\n",
      "Model:                        MeanGMM   Prob (Hansen J):                   nan\n",
      "Method:                           GMM                                         \n",
      "Date:                Mon, 02 Mar 2020                                         \n",
      "Time:                        15:05:47                                         \n",
      "No. Observations:               10000                                         \n",
      "==============================================================================\n",
      "                 coef    std err          z      P>|z|      [0.025      0.975]\n",
      "------------------------------------------------------------------------------\n",
      "x1             0.4757      0.030     15.630      0.000       0.416       0.535\n",
      "const          0.5653      0.040     14.184      0.000       0.487       0.643\n",
      "==============================================================================\n"
     ]
    }
   ],
   "source": [
    "df = pd.DataFrame(\n",
    "    data=np.hstack([X, y]),\n",
    "    columns=['treatment','intercept', 'y'])\n",
    "df = df.groupby(df.columns.tolist()).size().reset_index(name='count')\n",
    "df['proportion'] = df['count'] / X.shape[0]\n",
    "\n",
    "init = np.ones(3)*(np.log(y+1).mean()/2)\n",
    "\n",
    "mean_model = MeanGMM(y, X, instrument=None, q=p, q_sq=p_sq)\n",
    "mean_model.nobs = y.shape[0]\n",
    "mean_res = mean_model.fit(None, maxiter=2, optim_method='bfgs', optim_args={'disp':False}, wargs=dict(centered=False))\n",
    "mean_beta = mean_res.params\n",
    "\n",
    "# var_model = VarianceGMM(y, X, instrument=None, q=p, q_sq=p_sq, mean_beta=mean_beta, gamma=1)\n",
    "# var_res = var_model.fit(None, maxiter=2, optim_method='bfgs', optim_args={'disp':False}, wargs=dict(centered=False))\n",
    "\n",
    "# combined_model = CombinedGMM(y, X, instrument=None, q=p, q_sq=p_sq, gamma=1)\n",
    "# combined_res = combined_model.fit(np.concatenate([init, init]), maxiter=2, optim_method='bfgs', optim_args={'disp':False}, wargs=dict(centered=False))\n",
    "\n",
    "\n",
    "print(mean_res.summary())\n",
    "#|print(var_res.summary())\n",
    "# print(combined_res.summary())"
   ]
  },
  {
   "cell_type": "code",
   "execution_count": null,
   "metadata": {},
   "outputs": [],
   "source": [
    "+ (1.548551-0.494326))/2"
   ]
  },
  {
   "cell_type": "code",
   "execution_count": 10,
   "metadata": {},
   "outputs": [
    {
     "data": {
      "text/plain": [
       "<matplotlib.axes._subplots.AxesSubplot at 0x7fc5d885ea90>"
      ]
     },
     "execution_count": 10,
     "metadata": {},
     "output_type": "execute_result"
    },
    {
     "data": {
      "image/png": "[encoded data removed]",
      "text/plain": [
       "<Figure size 432x288 with 1 Axes>"
      ]
     },
     "metadata": {
      "needs_background": "light"
     },
     "output_type": "display_data"
    }
   ],
   "source": [
    "sns.violinplot(pd.Series(X[:, 0]), y.ravel())"
   ]
  },
  {
   "cell_type": "markdown",
   "metadata": {},
   "source": [
    "### Naive implementation"
   ]
  },
  {
   "cell_type": "code",
   "execution_count": 143,
   "metadata": {},
   "outputs": [],
   "source": [
    "class MeanGMM(GMM):\n",
    "\n",
    "    \n",
    "    def __init__(self, *args, **kwds):\n",
    "        # set appropriate counts for moment conditions and parameters\n",
    "        # TODO: clean up signature\n",
    "        kwds.setdefault('k_moms', 2)\n",
    "        kwds.setdefault('k_params', 2)\n",
    "        super(MeanGMM, self).__init__(*args, **kwds)\n",
    "        \n",
    "    \n",
    "    def fitstart(self):\n",
    "        \n",
    "        y = self.endog.reshape(-1, 1)/self.q\n",
    "        x_mat = self.exog\n",
    "        ylog = np.log(y+1)\n",
    "        sol, _, _, _ = np.linalg.lstsq(x_mat, ylog, rcond=-1)\n",
    "        \n",
    "        return sol.reshape(-1)\n",
    "\n",
    "\n",
    "    def momcond(self, params):\n",
    "                \n",
    "        y = self.endog.reshape(-1, 1)\n",
    "        x_mat = self.exog\n",
    "\n",
    "        beta_hat = params.reshape(-1, 1)\n",
    "        \n",
    "        a =  (x_mat*y)/self.q - (x_mat*np.exp(x_mat@beta_hat))\n",
    "        return a\n",
    "    \n",
    "class VarianceGMM(GMM):\n",
    "\n",
    "    \n",
    "    def __init__(self, *args, **kwds):\n",
    "        # set appropriate counts for moment conditions and parameters\n",
    "        # TODO: clean up signature\n",
    "        kwds.setdefault('k_moms', 2)\n",
    "        kwds.setdefault('k_params', 2)\n",
    "        super(VarianceGMM, self).__init__(*args, **kwds)\n",
    "        \n",
    "        \n",
    "    def fitstart(self):\n",
    "        \n",
    "        y = self.endog.reshape(-1, 1)/self.q\n",
    "        ylog = np.log(y+1)\n",
    "        x_mat = self.exog\n",
    "        mean_beta = self.mean_beta.reshape(-1, 1)\n",
    "        \n",
    "        res = (ylog-x_mat@mean_beta)**2\n",
    "        sol, _, _, _ = np.linalg.lstsq(x_mat, res, rcond=-1)\n",
    "        return sol.reshape(-1)\n",
    "\n",
    "    def momcond(self, params):\n",
    "                \n",
    "        y = self.endog.reshape(-1, 1)\n",
    "        x_mat = self.exog\n",
    "        mean_beta = self.mean_beta.reshape(-1, 1)\n",
    "\n",
    "        var_beta = params.reshape(-1, 1)\n",
    "        \n",
    "        a = (x_mat*y**2)/self.q_sq\n",
    "        b = -(x_mat*y)*(1-self.q_sq/self.q)/self.q_sq\n",
    "        c = -2*y*np.exp(x_mat@mean_beta)*x_mat/self.q\n",
    "        d = np.exp(2*x_mat@mean_beta)*x_mat\n",
    "        e = -x_mat*np.exp(x_mat@(self.gamma*mean_beta + var_beta))\n",
    "        return a + b + c + d + e\n",
    "\n",
    "class CombinedGMM(GMM):\n",
    "    \n",
    "    def __init__(self, *args, **kwds):\n",
    "        # set appropriate counts for moment conditions and parameters\n",
    "        # TODO: clean up signature\n",
    "        kwds.setdefault('k_moms', 4)\n",
    "        kwds.setdefault('k_params', 4)\n",
    "        super(CombinedGMM, self).__init__(*args, **kwds)\n",
    "\n",
    "\n",
    "    def momcond(self, params):\n",
    "                \n",
    "        y = self.endog.reshape(-1, 1)\n",
    "        x_mat = self.exog\n",
    "\n",
    "        mean_beta, var_beta = np.split(params.reshape(-1, 1), 2)\n",
    "                \n",
    "        mean_error =  (x_mat*y)/self.q - (x_mat*np.exp(x_mat@mean_beta))\n",
    "        \n",
    "        a = (x_mat*y**2)/self.q_sq\n",
    "        b = -(x_mat*y)*(1-self.q_sq/self.q)/self.q_sq\n",
    "        c = -2*y*np.exp(x_mat@mean_beta)*x_mat/self.q\n",
    "        d = np.exp(2*x_mat@mean_beta)*x_mat\n",
    "        e = -x_mat*np.exp(x_mat@(self.gamma*mean_beta + var_beta))\n",
    "        \n",
    "        var_error = a + b + c + d + e\n",
    "    \n",
    "        return np.hstack([mean_error, var_error])"
   ]
  },
  {
   "cell_type": "code",
   "execution_count": 144,
   "metadata": {},
   "outputs": [
    {
     "data": {
      "text/plain": [
       "<module 'simulate' from '/home/mkim7/Github/scrna-parameter-estimation/examples/simulation/simulate.py'>"
      ]
     },
     "execution_count": 144,
     "metadata": {},
     "output_type": "execute_result"
    }
   ],
   "source": [
    "imp.reload(sim)"
   ]
  },
  {
   "cell_type": "code",
   "execution_count": 145,
   "metadata": {},
   "outputs": [
    {
     "name": "stdout",
     "output_type": "stream",
     "text": [
      "hi\n"
     ]
    }
   ],
   "source": [
    "X, z = sim.simulate_true_counts(\n",
    "    N=10000,\n",
    "    mean_coef = np.array([1.0, 0.1]),\n",
    "    var_coef = np.array([1.6, 0.1]),\n",
    "    num_levels=3,\n",
    "    p=1)\n",
    "\n",
    "y = sim.simulate_dropout(z, p, p_sq).reshape(-1, 1)"
   ]
  },
  {
   "cell_type": "code",
   "execution_count": 148,
   "metadata": {},
   "outputs": [
    {
     "name": "stdout",
     "output_type": "stream",
     "text": [
      "                               MeanGMM Results                                \n",
      "==============================================================================\n",
      "Dep. Variable:                      y   Hansen J:                    6.475e-10\n",
      "Model:                        MeanGMM   Prob (Hansen J):                   nan\n",
      "Method:                           GMM                                         \n",
      "Date:                Mon, 02 Mar 2020                                         \n",
      "Time:                        16:05:34                                         \n",
      "No. Observations:               10000                                         \n",
      "==============================================================================\n",
      "                 coef    std err          z      P>|z|      [0.025      0.975]\n",
      "------------------------------------------------------------------------------\n",
      "x1             0.9843      0.036     27.655      0.000       0.915       1.054\n",
      "const          0.1495      0.047      3.190      0.001       0.058       0.241\n",
      "==============================================================================\n",
      "                             VarianceGMM Results                              \n",
      "==============================================================================\n",
      "Dep. Variable:                      y   Hansen J:                    1.598e-11\n",
      "Model:                    VarianceGMM   Prob (Hansen J):                   nan\n",
      "Method:                           GMM                                         \n",
      "Date:                Mon, 02 Mar 2020                                         \n",
      "Time:                        16:05:34                                         \n",
      "No. Observations:               10000                                         \n",
      "==============================================================================\n",
      "                 coef    std err          z      P>|z|      [0.025      0.975]\n",
      "------------------------------------------------------------------------------\n",
      "x1             1.7294      0.156     11.078      0.000       1.423       2.035\n",
      "const          0.0111      0.226      0.049      0.961      -0.433       0.455\n",
      "==============================================================================\n"
     ]
    }
   ],
   "source": [
    "df = pd.DataFrame(\n",
    "    data=np.hstack([X, y]),\n",
    "    columns=['treatment','intercept', 'y'])\n",
    "df = df.groupby(df.columns.tolist()).size().reset_index(name='count')\n",
    "df['proportion'] = df['count'] / X.shape[0]\n",
    "\n",
    "init = np.ones(3)*(np.log(y+1).mean()/2)\n",
    "\n",
    "mean_model = MeanGMM(y, X, instrument=None, q=p, q_sq=p_sq)\n",
    "mean_model.nobs = y.shape[0]\n",
    "mean_res = mean_model.fit(None, maxiter=2, optim_method='bfgs', optim_args={'disp':False}, wargs=dict(centered=False))\n",
    "mean_beta = mean_res.params\n",
    "\n",
    "var_model = VarianceGMM(y, X, instrument=None, q=p, q_sq=p_sq, mean_beta=mean_beta, gamma=1)\n",
    "var_res = var_model.fit(None, maxiter=2, optim_method='bfgs', optim_args={'disp':False}, wargs=dict(centered=False))\n",
    "\n",
    "# combined_model = CombinedGMM(y, X, instrument=None, q=p, q_sq=p_sq, gamma=1)\n",
    "# combined_res = combined_model.fit(np.concatenate([init, init]), maxiter=2, optim_method='bfgs', optim_args={'disp':False}, wargs=dict(centered=False))\n",
    "\n",
    "\n",
    "print(mean_res.summary())\n",
    "print(var_res.summary())\n",
    "# print(combined_res.summary())"
   ]
  },
  {
   "cell_type": "code",
   "execution_count": 96,
   "metadata": {},
   "outputs": [
    {
     "data": {
      "text/plain": [
       "treatment\n",
       "0    0.518651\n",
       "1    1.483780\n",
       "Name: y, dtype: float64"
      ]
     },
     "execution_count": 96,
     "metadata": {},
     "output_type": "execute_result"
    }
   ],
   "source": [
    "np.log(df_raw.groupby(['treatment'])['y'].mean()/p)"
   ]
  },
  {
   "cell_type": "code",
   "execution_count": 91,
   "metadata": {},
   "outputs": [
    {
     "data": {
      "text/plain": [
       "treatment  batch\n",
       "0          0        0.504153\n",
       "           1        0.533298\n",
       "1          0        1.475929\n",
       "           1        1.491695\n",
       "Name: y, dtype: float64"
      ]
     },
     "execution_count": 91,
     "metadata": {},
     "output_type": "execute_result"
    }
   ],
   "source": [
    "np.log(df_raw.groupby(['treatment', 'batch'])['y'].mean()/p)"
   ]
  },
  {
   "cell_type": "markdown",
   "metadata": {},
   "source": [
    "### Proportion based GMMs"
   ]
  },
  {
   "cell_type": "code",
   "execution_count": 160,
   "metadata": {},
   "outputs": [],
   "source": [
    "class FasterMeanGMM(GMM):\n",
    "\n",
    "    \n",
    "    def __init__(self, *args, **kwds):\n",
    "        # set appropriate counts for moment conditions and parameters\n",
    "        # TODO: clean up signature\n",
    "        kwds.setdefault('k_moms', 2)\n",
    "        kwds.setdefault('k_params', 2)\n",
    "        super(FasterMeanGMM, self).__init__(*args, **kwds)\n",
    "        \n",
    "    \n",
    "    def fitstart(self):\n",
    "        \n",
    "        y_val, y_counts = self.endog[:, 0].reshape(-1, 1), self.endog[:, 1].reshape(-1, 1)\n",
    "        x_mat = self.exog\n",
    "        \n",
    "        ylog = np.log(y_val+1)\n",
    "        sol, _, _, _ = np.linalg.lstsq(x_mat*y_counts, ylog*y_counts, rcond=-1)\n",
    "        \n",
    "        return sol.reshape(-1)\n",
    "\n",
    "\n",
    "    def momcond(self, params):\n",
    "                \n",
    "        y_means, y_counts = self.endog[:, 0].reshape(-1, 1), self.endog[:, 1].reshape(-1, 1)\n",
    "        x_mat = self.exog\n",
    "\n",
    "        beta_hat = params.reshape(-1, 1)\n",
    "        \n",
    "        a =  (x_mat*y_means)/self.q - (x_mat*np.exp(x_mat@beta_hat))\n",
    "        \n",
    "        #print(a.shape, y_counts.shape)\n",
    "        return a * y_counts\n"
   ]
  },
  {
   "cell_type": "code",
   "execution_count": 161,
   "metadata": {},
   "outputs": [],
   "source": [
    "class FastMeanGMM(GMM):\n",
    "\n",
    "    \n",
    "    def __init__(self, *args, **kwds):\n",
    "        # set appropriate counts for moment conditions and parameters\n",
    "        # TODO: clean up signature\n",
    "        kwds.setdefault('k_moms', 2)\n",
    "        kwds.setdefault('k_params', 2)\n",
    "        super(FastMeanGMM, self).__init__(*args, **kwds)\n",
    "        \n",
    "    \n",
    "    def fitstart(self):\n",
    "        \n",
    "        y_val, y_counts = self.endog[:, 0].reshape(-1, 1), self.endog[:, 1].reshape(-1, 1)\n",
    "        x_mat = self.exog\n",
    "        \n",
    "        ylog = np.log(y_val+1)\n",
    "        sol, _, _, _ = np.linalg.lstsq(x_mat*y_counts, ylog*y_counts, rcond=-1)\n",
    "        \n",
    "        return sol.reshape(-1)\n",
    "\n",
    "\n",
    "    def momcond(self, params):\n",
    "                \n",
    "        y_val, y_counts = self.endog[:, 0].reshape(-1, 1), self.endog[:, 1].reshape(-1, 1)\n",
    "        x_mat = self.exog\n",
    "\n",
    "        beta_hat = params.reshape(-1, 1)\n",
    "        \n",
    "        a =  (x_mat*y_val)/self.q - (x_mat*np.exp(x_mat@beta_hat))\n",
    "        \n",
    "        #print(a.shape, y_counts.shape)\n",
    "        return a * y_counts\n"
   ]
  },
  {
   "cell_type": "code",
   "execution_count": 742,
   "metadata": {},
   "outputs": [
    {
     "name": "stdout",
     "output_type": "stream",
     "text": [
      "hi\n"
     ]
    }
   ],
   "source": [
    "X, z = sim.simulate_true_counts(\n",
    "    N=5000,\n",
    "    mean_coef = np.array([1.0, 0.1]),\n",
    "    var_coef = np.array([1.6, 0.1]),\n",
    "    num_levels=3,\n",
    "    p=1)\n",
    "\n",
    "y = sim.simulate_dropout(z, p, p_sq).reshape(-1, 1)"
   ]
  },
  {
   "cell_type": "code",
   "execution_count": 743,
   "metadata": {},
   "outputs": [],
   "source": [
    "df = pd.DataFrame(\n",
    "    data=np.hstack([X, y]),\n",
    "    columns=['treatment', 'intercept', 'y'])\n",
    "df = df.groupby(df.columns.tolist()).size().reset_index(name='count')\n",
    "df['proportion'] = df['count'] / X.shape[0]"
   ]
  },
  {
   "cell_type": "code",
   "execution_count": 744,
   "metadata": {},
   "outputs": [],
   "source": [
    "df_faster = pd.DataFrame(\n",
    "    data=np.hstack([X, y]),\n",
    "    columns=['treatment', 'intercept', 'y'])\n",
    "df_faster_counts = df_faster.groupby(['treatment', 'intercept']).size()\n",
    "df_faster = df_faster.groupby(['treatment', 'intercept'])['y'].mean().reset_index(name='mean')\n",
    "df_faster['count'] = df_faster_counts.values\n",
    "#df['proportion'] = df['count'] / X.shape[0]"
   ]
  },
  {
   "cell_type": "code",
   "execution_count": 745,
   "metadata": {},
   "outputs": [
    {
     "data": {
      "text/html": [
       "<div>\n",
       "<style scoped>\n",
       "    .dataframe tbody tr th:only-of-type {\n",
       "        vertical-align: middle;\n",
       "    }\n",
       "\n",
       "    .dataframe tbody tr th {\n",
       "        vertical-align: top;\n",
       "    }\n",
       "\n",
       "    .dataframe thead th {\n",
       "        text-align: right;\n",
       "    }\n",
       "</style>\n",
       "<table border=\"1\" class=\"dataframe\">\n",
       "  <thead>\n",
       "    <tr style=\"text-align: right;\">\n",
       "      <th></th>\n",
       "      <th>treatment</th>\n",
       "      <th>intercept</th>\n",
       "      <th>mean</th>\n",
       "      <th>count</th>\n",
       "    </tr>\n",
       "  </thead>\n",
       "  <tbody>\n",
       "    <tr>\n",
       "      <th>0</th>\n",
       "      <td>0</td>\n",
       "      <td>1</td>\n",
       "      <td>0.105455</td>\n",
       "      <td>1650</td>\n",
       "    </tr>\n",
       "    <tr>\n",
       "      <th>1</th>\n",
       "      <td>1</td>\n",
       "      <td>1</td>\n",
       "      <td>0.319653</td>\n",
       "      <td>1730</td>\n",
       "    </tr>\n",
       "    <tr>\n",
       "      <th>2</th>\n",
       "      <td>2</td>\n",
       "      <td>1</td>\n",
       "      <td>0.759259</td>\n",
       "      <td>1620</td>\n",
       "    </tr>\n",
       "  </tbody>\n",
       "</table>\n",
       "</div>"
      ],
      "text/plain": [
       "   treatment  intercept      mean  count\n",
       "0          0          1  0.105455   1650\n",
       "1          1          1  0.319653   1730\n",
       "2          2          1  0.759259   1620"
      ]
     },
     "execution_count": 745,
     "metadata": {},
     "output_type": "execute_result"
    }
   ],
   "source": [
    "df_faster"
   ]
  },
  {
   "cell_type": "code",
   "execution_count": 676,
   "metadata": {},
   "outputs": [
    {
     "name": "stdout",
     "output_type": "stream",
     "text": [
      "                            FasterMeanGMM Results                             \n",
      "==============================================================================\n",
      "Dep. Variable:           ['y1', 'y2']   Hansen J:                    5.989e-15\n",
      "Model:                  FasterMeanGMM   Prob (Hansen J):                   nan\n",
      "Method:                           GMM                                         \n",
      "Date:                Mon, 02 Mar 2020                                         \n",
      "Time:                        23:37:24                                         \n",
      "No. Observations:                   3                                         \n",
      "==============================================================================\n",
      "                 coef    std err          z      P>|z|      [0.025      0.975]\n",
      "------------------------------------------------------------------------------\n",
      "x1             1.0043      0.026     38.565      0.000       0.953       1.055\n",
      "const          0.1583      0.051      3.079      0.002       0.058       0.259\n",
      "==============================================================================\n",
      "CPU times: user 14.3 ms, sys: 56 µs, total: 14.3 ms\n",
      "Wall time: 11.6 ms\n"
     ]
    }
   ],
   "source": [
    "%%time\n",
    "mean_model = FasterMeanGMM(\n",
    "    df_faster[['mean', 'count']].values, \n",
    "    df_faster[['treatment', 'intercept']].values,\n",
    "    instrument=None, q=p, q_sq=p_sq)\n",
    "mean_res = mean_model.fit(np.array([1 , 0.1]), maxiter=2, optim_method='bfgs', optim_args={'disp':False}, wargs=dict(centered=False))\n",
    "print(mean_res.summary())\n",
    "\n",
    "\n"
   ]
  },
  {
   "cell_type": "code",
   "execution_count": 677,
   "metadata": {},
   "outputs": [
    {
     "name": "stdout",
     "output_type": "stream",
     "text": [
      "                             FastMeanGMM Results                              \n",
      "==============================================================================\n",
      "Dep. Variable:           ['y1', 'y2']   Hansen J:                    9.721e-18\n",
      "Model:                    FastMeanGMM   Prob (Hansen J):                   nan\n",
      "Method:                           GMM                                         \n",
      "Date:                Mon, 02 Mar 2020                                         \n",
      "Time:                        23:37:27                                         \n",
      "No. Observations:                  26                                         \n",
      "==============================================================================\n",
      "                 coef    std err          z      P>|z|      [0.025      0.975]\n",
      "------------------------------------------------------------------------------\n",
      "x1             1.0043      0.678      1.482      0.138      -0.324       2.333\n",
      "const          0.1583      1.031      0.154      0.878      -1.863       2.180\n",
      "==============================================================================\n",
      "CPU times: user 15.2 ms, sys: 3 µs, total: 15.2 ms\n",
      "Wall time: 11.9 ms\n"
     ]
    }
   ],
   "source": [
    "%%time\n",
    "mean_model = FastMeanGMM(\n",
    "    df[['y', 'count']].values, \n",
    "    df[['treatment', 'intercept']].values,\n",
    "    instrument=None, q=p, q_sq=p_sq)\n",
    "mean_res = mean_model.fit(np.array([1 , 0.1]), maxiter=2, optim_method='bfgs', optim_args={'disp':False}, wargs=dict(centered=False))\n",
    "print(mean_res.summary())\n",
    "\n",
    "\n"
   ]
  },
  {
   "cell_type": "code",
   "execution_count": 30,
   "metadata": {},
   "outputs": [
    {
     "data": {
      "text/plain": [
       "array([1.00345407, 0.1098364 ])"
      ]
     },
     "execution_count": 30,
     "metadata": {},
     "output_type": "execute_result"
    }
   ],
   "source": [
    "mean_res.params"
   ]
  },
  {
   "cell_type": "code",
   "execution_count": 31,
   "metadata": {},
   "outputs": [
    {
     "data": {
      "text/plain": [
       "array([1.00345407, 0.1098364 ])"
      ]
     },
     "execution_count": 31,
     "metadata": {},
     "output_type": "execute_result"
    }
   ],
   "source": [
    "mean_res.params"
   ]
  },
  {
   "cell_type": "markdown",
   "metadata": {},
   "source": [
    "### Numerical optimization for mean"
   ]
  },
  {
   "cell_type": "code",
   "execution_count": 32,
   "metadata": {},
   "outputs": [
    {
     "name": "stdout",
     "output_type": "stream",
     "text": [
      "lol\n"
     ]
    }
   ],
   "source": [
    "X, z = sim.simulate_true_counts(\n",
    "    N=10000,\n",
    "    mean_coef = np.array([1.0, 0.1]),\n",
    "    var_coef = np.array([1.6, 0.1]),\n",
    "    num_levels=2,\n",
    "    p=1)\n",
    "\n",
    "y = sim.simulate_dropout(z, p, p_sq)\n",
    "\n",
    "df = pd.DataFrame(\n",
    "    data=np.hstack([X, y]),\n",
    "    columns=['treatment', 'intercept', 'y'])\n",
    "df = df.groupby(df.columns.tolist()).size().reset_index(name='count')\n",
    "df['proportion'] = df['count'] / X.shape[0]\n",
    "df['count_2'] = df['count'] + np.random.randint(0, 10, size=df.shape[0])"
   ]
  },
  {
   "cell_type": "code",
   "execution_count": 33,
   "metadata": {},
   "outputs": [],
   "source": [
    "def fit_start():\n",
    "    \n",
    "    y_val, y_counts = df['y'].values.reshape(-1, 1), df['count'].values.reshape(-1, 1)\n",
    "    x_mat = df[['treatment', 'intercept']].values\n",
    "\n",
    "    ylog = np.log(y_val+1)\n",
    "    sol, _, _, _ = np.linalg.lstsq(x_mat*y_counts, ylog*y_counts, rcond=-1)\n",
    "\n",
    "    return sol.reshape(-1)"
   ]
  },
  {
   "cell_type": "code",
   "execution_count": 34,
   "metadata": {},
   "outputs": [],
   "source": [
    "y_val, y_counts_1, y_counts_2 = \\\n",
    "    df['y'].values.reshape(-1, 1), \\\n",
    "    df['count'].values.reshape(-1, 1), \\\n",
    "    df['count_2'].values.reshape(-1, 1)\n",
    "    \n",
    "x_mat = df[['treatment', 'intercept']].values"
   ]
  },
  {
   "cell_type": "code",
   "execution_count": 42,
   "metadata": {},
   "outputs": [],
   "source": [
    "y_counts = df[['count', 'count_2', 'count_2']].values.reshape(-1, 1, 3)"
   ]
  },
  {
   "cell_type": "code",
   "execution_count": 43,
   "metadata": {},
   "outputs": [
    {
     "ename": "ValueError",
     "evalue": "cannot reshape array of size 22 into shape (14,2,newaxis)",
     "output_type": "error",
     "traceback": [
      "\u001b[0;31m---------------------------------------------------------------------------\u001b[0m",
      "\u001b[0;31mValueError\u001b[0m                                Traceback (most recent call last)",
      "\u001b[0;32m<ipython-input-43-e90d386196a1>\u001b[0m in \u001b[0;36m<module>\u001b[0;34m\u001b[0m\n\u001b[0;32m----> 1\u001b[0;31m \u001b[0mres\u001b[0m \u001b[0;34m=\u001b[0m \u001b[0mx_mat\u001b[0m\u001b[0;34m.\u001b[0m\u001b[0mreshape\u001b[0m\u001b[0;34m(\u001b[0m\u001b[0;36m14\u001b[0m\u001b[0;34m,\u001b[0m \u001b[0;36m2\u001b[0m\u001b[0;34m,\u001b[0m \u001b[0;34m-\u001b[0m\u001b[0;36m1\u001b[0m\u001b[0;34m)\u001b[0m\u001b[0;34m*\u001b[0m\u001b[0my_counts\u001b[0m\u001b[0;34m\u001b[0m\u001b[0;34m\u001b[0m\u001b[0m\n\u001b[0m",
      "\u001b[0;31mValueError\u001b[0m: cannot reshape array of size 22 into shape (14,2,newaxis)"
     ]
    }
   ],
   "source": [
    "res = x_mat.reshape(14, 2, -1)*y_counts"
   ]
  },
  {
   "cell_type": "code",
   "execution_count": 41,
   "metadata": {},
   "outputs": [
    {
     "ename": "NameError",
     "evalue": "name 'res' is not defined",
     "output_type": "error",
     "traceback": [
      "\u001b[0;31m---------------------------------------------------------------------------\u001b[0m",
      "\u001b[0;31mNameError\u001b[0m                                 Traceback (most recent call last)",
      "\u001b[0;32m<ipython-input-41-3102a81f8a4f>\u001b[0m in \u001b[0;36m<module>\u001b[0;34m\u001b[0m\n\u001b[0;32m----> 1\u001b[0;31m \u001b[0mres\u001b[0m\u001b[0;34m.\u001b[0m\u001b[0mmean\u001b[0m\u001b[0;34m(\u001b[0m\u001b[0maxis\u001b[0m\u001b[0;34m=\u001b[0m\u001b[0;36m0\u001b[0m\u001b[0;34m)\u001b[0m\u001b[0;34m\u001b[0m\u001b[0;34m\u001b[0m\u001b[0m\n\u001b[0m",
      "\u001b[0;31mNameError\u001b[0m: name 'res' is not defined"
     ]
    }
   ],
   "source": [
    "res.mean(axis=0)"
   ]
  },
  {
   "cell_type": "code",
   "execution_count": 327,
   "metadata": {},
   "outputs": [
    {
     "data": {
      "text/plain": [
       "(14, 2, 3)"
      ]
     },
     "execution_count": 327,
     "metadata": {},
     "output_type": "execute_result"
    }
   ],
   "source": [
    "res.shape"
   ]
  },
  {
   "cell_type": "markdown",
   "metadata": {},
   "source": [
    "### Figure out dimensions and broadcasting"
   ]
  },
  {
   "cell_type": "code",
   "execution_count": 408,
   "metadata": {},
   "outputs": [],
   "source": [
    "y_val, y_counts = df['y'].values.reshape(-1, 1), df[['count', 'count_2']].values.reshape(-1, 1, 2)\n",
    "x_mat = df[['treatment', 'intercept']].values\n",
    "\n",
    "beta_hat = np.vstack([np.array([1.0, 0.1]), np.array([1.1, 0.1])]).T"
   ]
  },
  {
   "cell_type": "code",
   "execution_count": 409,
   "metadata": {},
   "outputs": [],
   "source": [
    "part_1 = ((x_mat*y_val)/p)\n",
    "part_1 = part_1.reshape(part_1.shape[0], part_1.shape[1], -1)\n",
    "\n",
    "part_2 = x_mat.reshape(x_mat.shape[0], x_mat.shape[1], -1)\n",
    "\n",
    "part_3 = np.exp(x_mat@beta_hat).reshape(-1, 1, beta_hat.shape[1])\n",
    "\n",
    "momcond = (part_1 - part_2*part_3)\n",
    "weighted_momcond = momcond * y_counts"
   ]
  },
  {
   "cell_type": "code",
   "execution_count": 410,
   "metadata": {},
   "outputs": [
    {
     "data": {
      "text/plain": [
       "array([[  5.00231439, -14.26233438],\n",
       "       [ 16.47488939,  13.40962709]])"
      ]
     },
     "execution_count": 410,
     "metadata": {},
     "output_type": "execute_result"
    }
   ],
   "source": [
    "weighted_momcond.mean(axis=0)"
   ]
  },
  {
   "cell_type": "code",
   "execution_count": 340,
   "metadata": {},
   "outputs": [],
   "source": [
    "def mean_objective_perm(params):\n",
    "\n",
    "    y_val, y_counts = df['y'].values.reshape(-1, 1), df[['count', 'count_2']].values.reshape(-1, 1, 2)\n",
    "    x_mat = df[['treatment', 'intercept']].values\n",
    "\n",
    "    beta_hat = params.reshape(-1, 1)\n",
    "\n",
    "    a =  ((x_mat*y_val)/p - (x_mat*np.exp(x_mat@beta_hat)))\n",
    "    a = a.reshape(a.shape[0], a.shape[1], -1)\n",
    "\n",
    "    momcond = (a * y_counts).mean(axis=0)\n",
    "    \n",
    "    return (momcond**2).sum()"
   ]
  },
  {
   "cell_type": "code",
   "execution_count": 509,
   "metadata": {},
   "outputs": [],
   "source": [
    "def mean_objective(params):\n",
    "\n",
    "    y_val, y_counts = df['y'].values.reshape(-1, 1), df['proportion'].values.reshape(-1, 1)\n",
    "    x_mat = df[['treatment', 'intercept']].values\n",
    "\n",
    "    beta_hat = params.reshape(-1, 1)\n",
    "\n",
    "    a =  (x_mat*y_val)/p - (x_mat*np.exp(x_mat@beta_hat))\n",
    "\n",
    "    momcond = (a * y_counts).mean(axis=0)\n",
    "    \n",
    "    return (momcond**2).sum()"
   ]
  },
  {
   "cell_type": "code",
   "execution_count": 274,
   "metadata": {},
   "outputs": [],
   "source": [
    "start = fit_start()"
   ]
  },
  {
   "cell_type": "code",
   "execution_count": 293,
   "metadata": {},
   "outputs": [
    {
     "name": "stdout",
     "output_type": "stream",
     "text": [
      "Optimization terminated successfully.\n",
      "         Current function value: 0.000033\n",
      "         Iterations: 39\n",
      "         Function evaluations: 74\n",
      "CPU times: user 115 ms, sys: 0 ns, total: 115 ms\n",
      "Wall time: 108 ms\n"
     ]
    },
    {
     "data": {
      "text/plain": [
       " final_simplex: (array([[1.02132555, 0.07663115],\n",
       "       [1.02132684, 0.07662921],\n",
       "       [1.02132248, 0.07663292]]), array([3.30314006e-05, 7.17309876e-05, 9.95056087e-05]))\n",
       "           fun: 3.303140063249221e-05\n",
       "       message: 'Optimization terminated successfully.'\n",
       "          nfev: 74\n",
       "           nit: 39\n",
       "        status: 0\n",
       "       success: True\n",
       "             x: array([1.02132555, 0.07663115])"
      ]
     },
     "execution_count": 293,
     "metadata": {},
     "output_type": "execute_result"
    }
   ],
   "source": [
    "%%time\n",
    "sp.optimize.minimize(\n",
    "    mean_objective, \n",
    "    np.array([1.0, 0.1]),\n",
    "    method='Nelder-Mead', \n",
    "    options={'disp': True})"
   ]
  },
  {
   "cell_type": "markdown",
   "metadata": {},
   "source": [
    "### Number of simultaneous function evals - optimal number"
   ]
  },
  {
   "cell_type": "code",
   "execution_count": 963,
   "metadata": {},
   "outputs": [
    {
     "data": {
      "text/plain": [
       "array([   100.        ,    215.443469  ,    464.15888336,   1000.        ,\n",
       "         2154.43469003,   4641.58883361,  10000.        ,  21544.34690032,\n",
       "        46415.88833613, 100000.        ])"
      ]
     },
     "execution_count": 963,
     "metadata": {},
     "output_type": "execute_result"
    }
   ],
   "source": [
    "np.logspace(2, 5, 10)"
   ]
  },
  {
   "cell_type": "code",
   "execution_count": 965,
   "metadata": {},
   "outputs": [],
   "source": [
    "import time"
   ]
  },
  {
   "cell_type": "code",
   "execution_count": 469,
   "metadata": {},
   "outputs": [
    {
     "name": "stdout",
     "output_type": "stream",
     "text": [
      "hi\n"
     ]
    },
    {
     "ename": "NameError",
     "evalue": "name 'time' is not defined",
     "output_type": "error",
     "traceback": [
      "\u001b[0;31m---------------------------------------------------------------------------\u001b[0m",
      "\u001b[0;31mNameError\u001b[0m                                 Traceback (most recent call last)",
      "\u001b[0;32m<ipython-input-469-5942a359706e>\u001b[0m in \u001b[0;36m<module>\u001b[0;34m\u001b[0m\n\u001b[1;32m     27\u001b[0m         size=num_perm).T\n\u001b[1;32m     28\u001b[0m \u001b[0;34m\u001b[0m\u001b[0m\n\u001b[0;32m---> 29\u001b[0;31m     \u001b[0mstart\u001b[0m \u001b[0;34m=\u001b[0m \u001b[0mtime\u001b[0m\u001b[0;34m.\u001b[0m\u001b[0mtime\u001b[0m\u001b[0;34m(\u001b[0m\u001b[0;34m)\u001b[0m\u001b[0;34m\u001b[0m\u001b[0;34m\u001b[0m\u001b[0m\n\u001b[0m\u001b[1;32m     30\u001b[0m \u001b[0;34m\u001b[0m\u001b[0m\n\u001b[1;32m     31\u001b[0m     \u001b[0mval\u001b[0m \u001b[0;34m=\u001b[0m \u001b[0mmean_objective_perm\u001b[0m\u001b[0;34m(\u001b[0m\u001b[0mperm_start\u001b[0m\u001b[0;34m)\u001b[0m\u001b[0;34m\u001b[0m\u001b[0;34m\u001b[0m\u001b[0m\n",
      "\u001b[0;31mNameError\u001b[0m: name 'time' is not defined"
     ]
    }
   ],
   "source": [
    "num_perms = np.logspace(0, 7, 30)\n",
    "times = np.zeros(num_perms.shape[0])\n",
    "for idx, num_perm in enumerate(num_perms):\n",
    "    \n",
    "    num_perm = int(num_perm)\n",
    "    \n",
    "    X, z = sim.simulate_true_counts(\n",
    "    N=N,\n",
    "    mean_coef = np.array([1.0, 0.1]),\n",
    "    var_coef = np.array([1.6, 0.1]),\n",
    "    num_levels=2,\n",
    "    p=1)\n",
    "\n",
    "    y = sim.simulate_dropout(z, p, p_sq)\n",
    "    \n",
    "    perm_start = np.concatenate([np.array([1.5, 0.1]) for i in range(num_perm)])\n",
    "\n",
    "    df = pd.DataFrame(\n",
    "        data=np.hstack([X, y]),\n",
    "        columns=['treatment', 'intercept', 'y'])\n",
    "    df = df.groupby(df.columns.tolist()).size().reset_index(name='count')\n",
    "    df['proportion'] = df['count'] / X.shape[0]\n",
    "\n",
    "    perm_proportions = stats.multinomial.rvs(\n",
    "        N, \n",
    "        df['proportion'], \n",
    "        size=num_perm).T\n",
    "    \n",
    "    start = time.time()\n",
    "    \n",
    "    val = mean_objective_perm(perm_start)\n",
    "    \n",
    "    times[idx] = time.time() - start"
   ]
  },
  {
   "cell_type": "markdown",
   "metadata": {},
   "source": [
    "### Generate multivariate permutations"
   ]
  },
  {
   "cell_type": "code",
   "execution_count": 563,
   "metadata": {},
   "outputs": [],
   "source": [
    "perm_start = np.concatenate([np.array([1.0, 0.1]) for i in range(num_perm)])"
   ]
  },
  {
   "cell_type": "code",
   "execution_count": 680,
   "metadata": {},
   "outputs": [],
   "source": [
    "# for a single permutation\n",
    "params = np.array([1, 0.1]).reshape((-1, 1))\n",
    "x_mat = df_mean[['treatment', 'intercept']].values\n",
    "y_val = df_mean['group_mean'].values.reshape((-1, 1))\n",
    "y_counts = df_mean['group_mean'].values.reshape((-1, 1))"
   ]
  },
  {
   "cell_type": "code",
   "execution_count": 681,
   "metadata": {},
   "outputs": [],
   "source": [
    "part_1 = x_mat*y_val\n",
    "part_2 = x_mat*np.exp(x_mat@params)\n",
    "momcond = part_1 -part_2"
   ]
  },
  {
   "cell_type": "code",
   "execution_count": 564,
   "metadata": {},
   "outputs": [],
   "source": [
    "x_mat = df_mean[['treatment', 'intercept']].values.reshape((df_mean.shape[0], -1, 1))\n",
    "y_val, y_counts = np.tile(perm_means.reshape(-1, 1, perm_means.shape[1]), (1, 2, 1)), perm_counts.reshape(-1, 1, perm_means.shape[1])\n",
    "beta_hat = perm_start.reshape(-1, num_perm, order='F')"
   ]
  },
  {
   "cell_type": "code",
   "execution_count": 565,
   "metadata": {},
   "outputs": [
    {
     "data": {
      "text/plain": [
       "array([[0.11347105, 0.10823392, 0.11638056, ..., 0.11347105, 0.10823392,\n",
       "        0.11201629],\n",
       "       [0.30516288, 0.30700676, 0.30362631, ..., 0.3057775 , 0.32267978,\n",
       "        0.29532883],\n",
       "       [0.81051677, 0.87549108, 0.78392264, ..., 0.89724992, 0.87277123,\n",
       "        0.80628589]])"
      ]
     },
     "execution_count": 565,
     "metadata": {},
     "output_type": "execute_result"
    }
   ],
   "source": [
    "perm_means"
   ]
  },
  {
   "cell_type": "code",
   "execution_count": 566,
   "metadata": {},
   "outputs": [],
   "source": [
    "x_mat = df_mean[['treatment', 'intercept']].values\n",
    "y_val, y_counts = perm_means, perm_counts\n",
    "beta_hat = perm_start.reshape(-1, num_perm, order='F')"
   ]
  },
  {
   "cell_type": "code",
   "execution_count": 567,
   "metadata": {},
   "outputs": [
    {
     "data": {
      "text/plain": [
       "(3, 10000)"
      ]
     },
     "execution_count": 567,
     "metadata": {},
     "output_type": "execute_result"
    }
   ],
   "source": [
    "y_val.shape"
   ]
  },
  {
   "cell_type": "code",
   "execution_count": 568,
   "metadata": {},
   "outputs": [
    {
     "data": {
      "text/plain": [
       "(3, 2)"
      ]
     },
     "execution_count": 568,
     "metadata": {},
     "output_type": "execute_result"
    }
   ],
   "source": [
    "x_mat.shape"
   ]
  },
  {
   "cell_type": "code",
   "execution_count": 569,
   "metadata": {},
   "outputs": [
    {
     "data": {
      "text/plain": [
       "(3, 10000)"
      ]
     },
     "execution_count": 569,
     "metadata": {},
     "output_type": "execute_result"
    }
   ],
   "source": [
    "np.exp(x_mat@beta_hat).shape"
   ]
  },
  {
   "cell_type": "code",
   "execution_count": 570,
   "metadata": {},
   "outputs": [],
   "source": [
    "temp1 = part_2*part_3\n",
    "temp2 = np.einsum('nm,nk->nmk', x_mat,np.exp(x_mat@beta_hat) )"
   ]
  },
  {
   "cell_type": "code",
   "execution_count": 571,
   "metadata": {},
   "outputs": [
    {
     "data": {
      "text/plain": [
       "1.0"
      ]
     },
     "execution_count": 571,
     "metadata": {},
     "output_type": "execute_result"
    }
   ],
   "source": [
    "(temp1 == temp2).mean()"
   ]
  },
  {
   "cell_type": "code",
   "execution_count": 572,
   "metadata": {},
   "outputs": [],
   "source": [
    "# part_1 = np.einsum('nm,nk->nmk', x_mat, y_val)\n",
    "# part_2 = x_mat.reshape(x_mat.shape[0], x_mat.shape[1], -1)\n",
    "# part_3 = np.exp(x_mat@beta_hat).reshape(-1, 1, num_perm)\n",
    "momcond = np.einsum('nm,nk->nmk', x_mat, y_val) - np.einsum('nm,nk->nmk', x_mat,np.exp(x_mat@beta_hat) )\n"
   ]
  },
  {
   "cell_type": "code",
   "execution_count": 577,
   "metadata": {},
   "outputs": [
    {
     "data": {
      "text/plain": [
       "array([[[  0.        ,   0.        ,   0.        , ...,   0.        ,\n",
       "           0.        ,   0.        ],\n",
       "        [ -0.99169987,  -0.99693699,  -0.98879035, ...,  -0.99169987,\n",
       "          -0.99693699,  -0.99315462]],\n",
       "\n",
       "       [[ -2.69900315,  -2.69715926,  -2.70053972, ...,  -2.69838852,\n",
       "          -2.68148625,  -2.7088372 ],\n",
       "        [ -2.69900315,  -2.69715926,  -2.70053972, ...,  -2.69838852,\n",
       "          -2.68148625,  -2.7088372 ]],\n",
       "\n",
       "       [[-14.71130628, -14.58135766, -14.76449455, ..., -14.53783998,\n",
       "         -14.58679737, -14.71976805],\n",
       "        [ -7.35565314,  -7.29067883,  -7.38224728, ...,  -7.26891999,\n",
       "          -7.29339868,  -7.35988403]]])"
      ]
     },
     "execution_count": 577,
     "metadata": {},
     "output_type": "execute_result"
    }
   ],
   "source": [
    "momcond"
   ]
  },
  {
   "cell_type": "code",
   "execution_count": 578,
   "metadata": {},
   "outputs": [
    {
     "data": {
      "text/plain": [
       "(3, 2, 10000)"
      ]
     },
     "execution_count": 578,
     "metadata": {},
     "output_type": "execute_result"
    }
   ],
   "source": [
    "weighted_1.shape"
   ]
  },
  {
   "cell_type": "code",
   "execution_count": 586,
   "metadata": {},
   "outputs": [],
   "source": [
    "weighted_1 = (momcond * perm_counts.reshape((perm_counts.shape[0], 1, -1))).mean(axis=0)\n",
    "weighted_2 = np.einsum('ijk,ik->ijk', momcond, perm_counts).mean(axis=0)"
   ]
  },
  {
   "cell_type": "code",
   "execution_count": 583,
   "metadata": {},
   "outputs": [
    {
     "data": {
      "text/plain": [
       "(2, 10000)"
      ]
     },
     "execution_count": 583,
     "metadata": {},
     "output_type": "execute_result"
    }
   ],
   "source": [
    "weighted_1.mean(axis=0).shape"
   ]
  },
  {
   "cell_type": "code",
   "execution_count": 555,
   "metadata": {},
   "outputs": [
    {
     "data": {
      "text/plain": [
       "array([[[3417., 3377., 3325., ..., 3264., 3251., 3267.]],\n",
       "\n",
       "       [[3344., 3388., 3452., ..., 3447., 3481., 3462.]],\n",
       "\n",
       "       [[3239., 3235., 3223., ..., 3289., 3268., 3271.]]])"
      ]
     },
     "execution_count": 555,
     "metadata": {},
     "output_type": "execute_result"
    }
   ],
   "source": [
    "perm_counts.reshape((perm_counts.shape[0], 1, -1))"
   ]
  },
  {
   "cell_type": "code",
   "execution_count": 547,
   "metadata": {},
   "outputs": [
    {
     "data": {
      "text/plain": [
       "(3, 10000)"
      ]
     },
     "execution_count": 547,
     "metadata": {},
     "output_type": "execute_result"
    }
   ],
   "source": [
    "perm_counts.shape"
   ]
  },
  {
   "cell_type": "code",
   "execution_count": 546,
   "metadata": {},
   "outputs": [
    {
     "data": {
      "text/plain": [
       "(3, 2, 10000)"
      ]
     },
     "execution_count": 546,
     "metadata": {},
     "output_type": "execute_result"
    }
   ],
   "source": [
    "momcond.shape"
   ]
  },
  {
   "cell_type": "code",
   "execution_count": 537,
   "metadata": {},
   "outputs": [
    {
     "data": {
      "text/plain": [
       "(3, 10000)"
      ]
     },
     "execution_count": 537,
     "metadata": {},
     "output_type": "execute_result"
    }
   ],
   "source": [
    "y_counts.shape"
   ]
  },
  {
   "cell_type": "code",
   "execution_count": 534,
   "metadata": {},
   "outputs": [],
   "source": [
    "momcond = (part_1 - part_2*part_3)"
   ]
  },
  {
   "cell_type": "code",
   "execution_count": 525,
   "metadata": {},
   "outputs": [
    {
     "data": {
      "text/plain": [
       "(3, 2, 1)"
      ]
     },
     "execution_count": 525,
     "metadata": {},
     "output_type": "execute_result"
    }
   ],
   "source": [
    "x_mat.shape"
   ]
  },
  {
   "cell_type": "code",
   "execution_count": 822,
   "metadata": {},
   "outputs": [],
   "source": [
    "def mean_objective_perm_old(params):\n",
    "\n",
    "    y_val, y_counts = df_val['y'].values.reshape(-1, 1), perm_proportions.reshape(-1, 1, num_perm)/N\n",
    "    x_mat = df_val[['treatment', 'intercept']].values\n",
    "\n",
    "    beta_hat = params.reshape(-1, num_perm, order='F')\n",
    "\n",
    "    part_1 = ((x_mat*y_val)/p)\n",
    "\n",
    "    part_1 = part_1.reshape(part_1.shape[0], part_1.shape[1], -1)\n",
    "\n",
    "    part_2 = x_mat.reshape(x_mat.shape[0], x_mat.shape[1], -1)\n",
    "\n",
    "    part_3 = np.exp(x_mat@beta_hat).reshape(-1, 1, num_perm)\n",
    "\n",
    "    momcond = (part_1 - part_2*part_3)\n",
    "#     print('part1', part_1.shape)\n",
    "#     print('part2', part_2.shape)\n",
    "#     print('part3', part_3.shape)\n",
    "#     print('part23', (part_2*part_3).shape)\n",
    "#     print(momcond.shape)\n",
    "#     print(y_counts.shape)\n",
    "    weighted_momcond = (momcond * y_counts).mean(axis=0)\n",
    "        \n",
    "    return (weighted_momcond**2).sum()\n",
    "\n",
    "def mean_objective(params, y_val, y_counts, x_mat):\n",
    "\n",
    "#     y_val, y_counts = df['y'].values.reshape(-1, 1), df['proportion'].values.reshape(-1, 1)\n",
    "#     x_mat = df[['treatment', 'intercept']].values\n",
    "    \n",
    "    beta_hat = params.reshape(-1, 1)\n",
    "\n",
    "    a =  (x_mat*y_val)/p - (x_mat*np.exp(x_mat@beta_hat))\n",
    "\n",
    "    momcond = (a * y_counts).mean(axis=0)\n",
    "    \n",
    "    return (momcond**2).sum()\n",
    "\n",
    "def mean_gradient(x, num_features=2, epsilon=None, args=(), kwargs={}):\n",
    "    \n",
    "    f_sep = lambda param: mean_objective(param, df_val['y'].values.reshape(-1, 1), df_val['proportion'].values.reshape(-1, 1), df_val[['treatment', 'intercept']].values)\n",
    "    n = len(x)\n",
    "    f0 = f_sep(*((x,)+args), **kwargs)\n",
    "    dim = (1,)\n",
    "    grad = np.zeros((n,) + dim, np.promote_types(float, x.dtype))\n",
    "    epsilon = _get_epsilon(x, 2, None, n)\n",
    "    ei = np.zeros((n,),float)\n",
    "    \n",
    "    for start in range(num_features):\n",
    "        ei[start::num_features] = epsilon[start::num_features]\n",
    "        res = ((f_sep(*((x+ei,) + args), **kwargs) - f0)/epsilon[start::num_features][0]).reshape(-1, 1)\n",
    "        grad[start::num_features, :] = res\n",
    "        ei[start::num_features] = 0.0\n",
    "        \n",
    "    return grad.squeeze().T\n",
    "\n",
    "def _get_epsilon(x, s, epsilon, n):\n",
    "    if epsilon is None:\n",
    "        h = EPS**(1. / s) * np.maximum(np.abs(x), 0.1)\n",
    "    else:\n",
    "        if np.isscalar(epsilon):\n",
    "            h = np.empty(n)\n",
    "            h.fill(epsilon)\n",
    "        else:  # pragma : no cover\n",
    "            h = np.asarray(epsilon)\n",
    "            if h.shape != x.shape:\n",
    "                raise ValueError(\"If h is not a scalar it must have the same\"\n",
    "                                 \" shape as x.\")\n",
    "    return h\n",
    "\n",
    "EPS = np.MachAr().eps\n"
   ]
  },
  {
   "cell_type": "code",
   "execution_count": 862,
   "metadata": {},
   "outputs": [
    {
     "data": {
      "text/plain": [
       "3.836799969077044e-07"
      ]
     },
     "execution_count": 862,
     "metadata": {},
     "output_type": "execute_result"
    }
   ],
   "source": [
    "mean_objective(np.array([1, 0.1]), df_val['y'].values.reshape(-1, 1), df_val['proportion'].values.reshape(-1, 1), df_val[['treatment', 'intercept']].values)"
   ]
  },
  {
   "cell_type": "code",
   "execution_count": 863,
   "metadata": {},
   "outputs": [
    {
     "data": {
      "text/plain": [
       "3.342279084173866e-05"
      ]
     },
     "execution_count": 863,
     "metadata": {},
     "output_type": "execute_result"
    }
   ],
   "source": [
    "mean_objective(np.array([1, 0.1]), df_mean['group_mean'].values.reshape(-1, 1), df_mean['group_proportion'].values.reshape(-1, 1), df_mean[['treatment', 'intercept']].values)"
   ]
  },
  {
   "cell_type": "code",
   "execution_count": 874,
   "metadata": {},
   "outputs": [
    {
     "name": "stdout",
     "output_type": "stream",
     "text": [
      "CPU times: user 32.3 ms, sys: 3 µs, total: 32.3 ms\n",
      "Wall time: 30.7 ms\n"
     ]
    },
    {
     "data": {
      "text/plain": [
       "array([1.06174546, 0.08065216])"
      ]
     },
     "execution_count": 874,
     "metadata": {},
     "output_type": "execute_result"
    }
   ],
   "source": [
    "%%time\n",
    "res = sp.optimize.minimize(\n",
    "        lambda param: mean_objective(param, df_mean['group_mean'].values.reshape(-1, 1), df_mean['group_proportion'].values.reshape(-1, 1), df_mean[['treatment', 'intercept']].values), \n",
    "        np.array([1, 0.1]),\n",
    "        method='l-bfgs-b',\n",
    "        options={'disp': True})\n",
    "res.x"
   ]
  },
  {
   "cell_type": "code",
   "execution_count": 876,
   "metadata": {},
   "outputs": [
    {
     "name": "stdout",
     "output_type": "stream",
     "text": [
      "CPU times: user 31.7 ms, sys: 98 µs, total: 31.8 ms\n",
      "Wall time: 30 ms\n"
     ]
    },
    {
     "data": {
      "text/plain": [
       "array([1.06180424, 0.08054659])"
      ]
     },
     "execution_count": 876,
     "metadata": {},
     "output_type": "execute_result"
    }
   ],
   "source": [
    "%%time\n",
    "res = sp.optimize.minimize(\n",
    "        lambda param: mean_objective(param, df_val['y'].values.reshape(-1, 1), df_val['proportion'].values.reshape(-1, 1), df_val[['treatment', 'intercept']].values), \n",
    "        np.array([1, 0.1]),\n",
    "        method='l-bfgs-b',\n",
    "        options={'disp': True})\n",
    "res.x"
   ]
  },
  {
   "cell_type": "code",
   "execution_count": 786,
   "metadata": {},
   "outputs": [
    {
     "data": {
      "text/plain": [
       "      fun: 1.0451309750310077e-10\n",
       " hess_inv: <2x2 LbfgsInvHessProduct with dtype=float64>\n",
       "      jac: array([1.65039811e-06, 2.45606467e-06])\n",
       "  message: b'CONVERGENCE: NORM_OF_PROJECTED_GRADIENT_<=_PGTOL'\n",
       "     nfev: 11\n",
       "      nit: 8\n",
       "   status: 0\n",
       "  success: True\n",
       "        x: array([0.96444835, 0.12069163])"
      ]
     },
     "execution_count": 786,
     "metadata": {},
     "output_type": "execute_result"
    }
   ],
   "source": [
    "res"
   ]
  },
  {
   "cell_type": "code",
   "execution_count": 755,
   "metadata": {},
   "outputs": [
    {
     "data": {
      "text/html": [
       "<div>\n",
       "<style scoped>\n",
       "    .dataframe tbody tr th:only-of-type {\n",
       "        vertical-align: middle;\n",
       "    }\n",
       "\n",
       "    .dataframe tbody tr th {\n",
       "        vertical-align: top;\n",
       "    }\n",
       "\n",
       "    .dataframe thead th {\n",
       "        text-align: right;\n",
       "    }\n",
       "</style>\n",
       "<table border=\"1\" class=\"dataframe\">\n",
       "  <thead>\n",
       "    <tr style=\"text-align: right;\">\n",
       "      <th></th>\n",
       "      <th>treatment</th>\n",
       "      <th>intercept</th>\n",
       "      <th>group_count</th>\n",
       "      <th>group_mean</th>\n",
       "      <th>group_id</th>\n",
       "      <th>proportion</th>\n",
       "    </tr>\n",
       "  </thead>\n",
       "  <tbody>\n",
       "    <tr>\n",
       "      <th>0</th>\n",
       "      <td>0</td>\n",
       "      <td>1</td>\n",
       "      <td>49909</td>\n",
       "      <td>0.112465</td>\n",
       "      <td>0</td>\n",
       "      <td>0.49909</td>\n",
       "    </tr>\n",
       "    <tr>\n",
       "      <th>1</th>\n",
       "      <td>1</td>\n",
       "      <td>1</td>\n",
       "      <td>50091</td>\n",
       "      <td>0.303867</td>\n",
       "      <td>1</td>\n",
       "      <td>0.50091</td>\n",
       "    </tr>\n",
       "  </tbody>\n",
       "</table>\n",
       "</div>"
      ],
      "text/plain": [
       "   treatment  intercept  group_count  group_mean  group_id  proportion\n",
       "0          0          1        49909    0.112465         0     0.49909\n",
       "1          1          1        50091    0.303867         1     0.50091"
      ]
     },
     "execution_count": 755,
     "metadata": {},
     "output_type": "execute_result"
    }
   ],
   "source": [
    "df_mean"
   ]
  },
  {
   "cell_type": "code",
   "execution_count": 749,
   "metadata": {},
   "outputs": [
    {
     "data": {
      "text/html": [
       "<div>\n",
       "<style scoped>\n",
       "    .dataframe tbody tr th:only-of-type {\n",
       "        vertical-align: middle;\n",
       "    }\n",
       "\n",
       "    .dataframe tbody tr th {\n",
       "        vertical-align: top;\n",
       "    }\n",
       "\n",
       "    .dataframe thead th {\n",
       "        text-align: right;\n",
       "    }\n",
       "</style>\n",
       "<table border=\"1\" class=\"dataframe\">\n",
       "  <thead>\n",
       "    <tr style=\"text-align: right;\">\n",
       "      <th></th>\n",
       "      <th>treatment</th>\n",
       "      <th>intercept</th>\n",
       "      <th>y</th>\n",
       "      <th>count</th>\n",
       "      <th>proportion</th>\n",
       "      <th>group_count</th>\n",
       "      <th>group_mean</th>\n",
       "      <th>group_id</th>\n",
       "    </tr>\n",
       "  </thead>\n",
       "  <tbody>\n",
       "    <tr>\n",
       "      <th>0</th>\n",
       "      <td>0</td>\n",
       "      <td>1</td>\n",
       "      <td>0</td>\n",
       "      <td>44707</td>\n",
       "      <td>0.44707</td>\n",
       "      <td>49909</td>\n",
       "      <td>0.112465</td>\n",
       "      <td>0</td>\n",
       "    </tr>\n",
       "    <tr>\n",
       "      <th>1</th>\n",
       "      <td>0</td>\n",
       "      <td>1</td>\n",
       "      <td>1</td>\n",
       "      <td>4823</td>\n",
       "      <td>0.04823</td>\n",
       "      <td>49909</td>\n",
       "      <td>0.112465</td>\n",
       "      <td>0</td>\n",
       "    </tr>\n",
       "    <tr>\n",
       "      <th>2</th>\n",
       "      <td>0</td>\n",
       "      <td>1</td>\n",
       "      <td>2</td>\n",
       "      <td>348</td>\n",
       "      <td>0.00348</td>\n",
       "      <td>49909</td>\n",
       "      <td>0.112465</td>\n",
       "      <td>0</td>\n",
       "    </tr>\n",
       "    <tr>\n",
       "      <th>3</th>\n",
       "      <td>0</td>\n",
       "      <td>1</td>\n",
       "      <td>3</td>\n",
       "      <td>30</td>\n",
       "      <td>0.00030</td>\n",
       "      <td>49909</td>\n",
       "      <td>0.112465</td>\n",
       "      <td>0</td>\n",
       "    </tr>\n",
       "    <tr>\n",
       "      <th>4</th>\n",
       "      <td>0</td>\n",
       "      <td>1</td>\n",
       "      <td>4</td>\n",
       "      <td>1</td>\n",
       "      <td>0.00001</td>\n",
       "      <td>49909</td>\n",
       "      <td>0.112465</td>\n",
       "      <td>0</td>\n",
       "    </tr>\n",
       "    <tr>\n",
       "      <th>5</th>\n",
       "      <td>1</td>\n",
       "      <td>1</td>\n",
       "      <td>0</td>\n",
       "      <td>38337</td>\n",
       "      <td>0.38337</td>\n",
       "      <td>50091</td>\n",
       "      <td>0.303867</td>\n",
       "      <td>1</td>\n",
       "    </tr>\n",
       "    <tr>\n",
       "      <th>6</th>\n",
       "      <td>1</td>\n",
       "      <td>1</td>\n",
       "      <td>1</td>\n",
       "      <td>9125</td>\n",
       "      <td>0.09125</td>\n",
       "      <td>50091</td>\n",
       "      <td>0.303867</td>\n",
       "      <td>1</td>\n",
       "    </tr>\n",
       "    <tr>\n",
       "      <th>7</th>\n",
       "      <td>1</td>\n",
       "      <td>1</td>\n",
       "      <td>2</td>\n",
       "      <td>2000</td>\n",
       "      <td>0.02000</td>\n",
       "      <td>50091</td>\n",
       "      <td>0.303867</td>\n",
       "      <td>1</td>\n",
       "    </tr>\n",
       "    <tr>\n",
       "      <th>8</th>\n",
       "      <td>1</td>\n",
       "      <td>1</td>\n",
       "      <td>3</td>\n",
       "      <td>474</td>\n",
       "      <td>0.00474</td>\n",
       "      <td>50091</td>\n",
       "      <td>0.303867</td>\n",
       "      <td>1</td>\n",
       "    </tr>\n",
       "    <tr>\n",
       "      <th>9</th>\n",
       "      <td>1</td>\n",
       "      <td>1</td>\n",
       "      <td>4</td>\n",
       "      <td>115</td>\n",
       "      <td>0.00115</td>\n",
       "      <td>50091</td>\n",
       "      <td>0.303867</td>\n",
       "      <td>1</td>\n",
       "    </tr>\n",
       "    <tr>\n",
       "      <th>10</th>\n",
       "      <td>1</td>\n",
       "      <td>1</td>\n",
       "      <td>5</td>\n",
       "      <td>29</td>\n",
       "      <td>0.00029</td>\n",
       "      <td>50091</td>\n",
       "      <td>0.303867</td>\n",
       "      <td>1</td>\n",
       "    </tr>\n",
       "    <tr>\n",
       "      <th>11</th>\n",
       "      <td>1</td>\n",
       "      <td>1</td>\n",
       "      <td>6</td>\n",
       "      <td>8</td>\n",
       "      <td>0.00008</td>\n",
       "      <td>50091</td>\n",
       "      <td>0.303867</td>\n",
       "      <td>1</td>\n",
       "    </tr>\n",
       "    <tr>\n",
       "      <th>12</th>\n",
       "      <td>1</td>\n",
       "      <td>1</td>\n",
       "      <td>7</td>\n",
       "      <td>3</td>\n",
       "      <td>0.00003</td>\n",
       "      <td>50091</td>\n",
       "      <td>0.303867</td>\n",
       "      <td>1</td>\n",
       "    </tr>\n",
       "  </tbody>\n",
       "</table>\n",
       "</div>"
      ],
      "text/plain": [
       "    treatment  intercept  y  count  proportion  group_count  group_mean  \\\n",
       "0           0          1  0  44707     0.44707        49909    0.112465   \n",
       "1           0          1  1   4823     0.04823        49909    0.112465   \n",
       "2           0          1  2    348     0.00348        49909    0.112465   \n",
       "3           0          1  3     30     0.00030        49909    0.112465   \n",
       "4           0          1  4      1     0.00001        49909    0.112465   \n",
       "5           1          1  0  38337     0.38337        50091    0.303867   \n",
       "6           1          1  1   9125     0.09125        50091    0.303867   \n",
       "7           1          1  2   2000     0.02000        50091    0.303867   \n",
       "8           1          1  3    474     0.00474        50091    0.303867   \n",
       "9           1          1  4    115     0.00115        50091    0.303867   \n",
       "10          1          1  5     29     0.00029        50091    0.303867   \n",
       "11          1          1  6      8     0.00008        50091    0.303867   \n",
       "12          1          1  7      3     0.00003        50091    0.303867   \n",
       "\n",
       "    group_id  \n",
       "0          0  \n",
       "1          0  \n",
       "2          0  \n",
       "3          0  \n",
       "4          0  \n",
       "5          1  \n",
       "6          1  \n",
       "7          1  \n",
       "8          1  \n",
       "9          1  \n",
       "10         1  \n",
       "11         1  \n",
       "12         1  "
      ]
     },
     "execution_count": 749,
     "metadata": {},
     "output_type": "execute_result"
    }
   ],
   "source": [
    "df_val"
   ]
  },
  {
   "cell_type": "code",
   "execution_count": 644,
   "metadata": {},
   "outputs": [
    {
     "data": {
      "text/plain": [
       "array([[  0.        ,  -1.10517092],\n",
       "       [  0.        ,   8.89482908],\n",
       "       [  0.        ,  18.89482908],\n",
       "       [ -3.00416602,  -3.00416602],\n",
       "       [  6.99583398,   6.99583398],\n",
       "       [ 16.99583398,  16.99583398],\n",
       "       [ 26.99583398,  26.99583398],\n",
       "       [ 36.99583398,  36.99583398],\n",
       "       [ 46.99583398,  46.99583398],\n",
       "       [-16.33233983,  -8.16616991],\n",
       "       [  3.66766017,   1.83383009],\n",
       "       [ 23.66766017,  11.83383009],\n",
       "       [ 43.66766017,  21.83383009],\n",
       "       [ 63.66766017,  31.83383009],\n",
       "       [ 83.66766017,  41.83383009],\n",
       "       [103.66766017,  51.83383009],\n",
       "       [123.66766017,  61.83383009],\n",
       "       [143.66766017,  71.83383009],\n",
       "       [163.66766017,  81.83383009],\n",
       "       [183.66766017,  91.83383009],\n",
       "       [243.66766017, 121.83383009]])"
      ]
     },
     "execution_count": 644,
     "metadata": {},
     "output_type": "execute_result"
    }
   ],
   "source": [
    "y_val, y_counts = df_val['y'].values.reshape(-1, 1), perm_proportions.reshape(-1, 1, num_perm)/N\n",
    "x_mat = df_val[['treatment', 'intercept']].values\n",
    "\n",
    "beta_hat = perm_start.reshape(-1, num_perm, order='F')\n",
    "\n",
    "part_1 = ((x_mat*y_val)/p)\n",
    "\n",
    "part_1 = part_1.reshape(part_1.shape[0], part_1.shape[1], -1)\n",
    "\n",
    "part_2 = x_mat.reshape(x_mat.shape[0], x_mat.shape[1], -1)\n",
    "\n",
    "part_3 = np.exp(x_mat@beta_hat).reshape(-1, 1, num_perm)\n",
    "momcond = (part_1 - part_2*part_3)\n",
    "weighted_momcond = (momcond * y_counts).mean(axis=0)\n",
    "momcond[:, :, 0]"
   ]
  },
  {
   "cell_type": "code",
   "execution_count": 635,
   "metadata": {},
   "outputs": [
    {
     "data": {
      "text/plain": [
       "array([[ 0.00376267,  0.01514729, -0.00587084,  0.01251971,  0.0011685 ],\n",
       "       [ 0.00228327,  0.00810447, -0.00192192,  0.00778091,  0.00123727]])"
      ]
     },
     "execution_count": 635,
     "metadata": {},
     "output_type": "execute_result"
    }
   ],
   "source": [
    "weighted_momcond[:, :5]"
   ]
  },
  {
   "cell_type": "code",
   "execution_count": null,
   "metadata": {},
   "outputs": [],
   "source": []
  },
  {
   "cell_type": "code",
   "execution_count": 610,
   "metadata": {},
   "outputs": [
    {
     "data": {
      "text/plain": [
       "array([[0.11347105, 0.10823392, 0.11638056],\n",
       "       [0.30516288, 0.30700676, 0.30362631],\n",
       "       [0.81051677, 0.87549108, 0.78392264]])"
      ]
     },
     "execution_count": 610,
     "metadata": {},
     "output_type": "execute_result"
    }
   ],
   "source": [
    "perm_means[:, :3]"
   ]
  },
  {
   "cell_type": "code",
   "execution_count": 608,
   "metadata": {},
   "outputs": [
    {
     "data": {
      "text/plain": [
       "array([[3468., 3407., 3508., ..., 3450., 3441., 3463.],\n",
       "       [3294., 3221., 3229., ..., 3182., 3233., 3203.],\n",
       "       [3238., 3372., 3263., ..., 3368., 3326., 3334.]])"
      ]
     },
     "execution_count": 608,
     "metadata": {},
     "output_type": "execute_result"
    }
   ],
   "source": [
    "perm_counts"
   ]
  },
  {
   "cell_type": "code",
   "execution_count": 647,
   "metadata": {},
   "outputs": [],
   "source": [
    "y_val, y_counts = perm_means, perm_counts/N\n",
    "x_mat = df_mean[['treatment', 'intercept']].values\n",
    "momcond = np.einsum('nm,nk->nmk', x_mat, y_val) - np.einsum('nm,nk->nmk', x_mat,np.exp(x_mat@beta_hat) )"
   ]
  },
  {
   "cell_type": "code",
   "execution_count": 648,
   "metadata": {},
   "outputs": [
    {
     "data": {
      "text/plain": [
       "array([[  0.        ,  -0.99169987],\n",
       "       [ -2.69900315,  -2.69900315],\n",
       "       [-14.71130628,  -7.35565314]])"
      ]
     },
     "execution_count": 648,
     "metadata": {},
     "output_type": "execute_result"
    }
   ],
   "source": [
    "momcond[:, :, 0]"
   ]
  },
  {
   "cell_type": "code",
   "execution_count": 650,
   "metadata": {},
   "outputs": [
    {
     "data": {
      "text/plain": [
       "array([[ 0.        , -0.34392151],\n",
       "       [-0.88905164, -0.88905164],\n",
       "       [-4.76352097, -2.38176049]])"
      ]
     },
     "execution_count": 650,
     "metadata": {},
     "output_type": "execute_result"
    }
   ],
   "source": [
    "np.einsum('ijk,ik->ijk', momcond, perm_counts/N)[:, :, 0]"
   ]
  },
  {
   "cell_type": "code",
   "execution_count": 627,
   "metadata": {},
   "outputs": [
    {
     "data": {
      "text/plain": [
       "array([[  0.        ,  -0.99169987],\n",
       "       [ -2.69900315,  -2.69900315],\n",
       "       [-14.71130628,  -7.35565314]])"
      ]
     },
     "execution_count": 627,
     "metadata": {},
     "output_type": "execute_result"
    }
   ],
   "source": [
    "momcond[:, :, 0]"
   ]
  },
  {
   "cell_type": "code",
   "execution_count": 730,
   "metadata": {},
   "outputs": [],
   "source": [
    "# for a single permutation by using means\n",
    "params = np.array([1, 0.1]).reshape((-1, 1))\n",
    "x_mat = df_mean[['treatment', 'intercept']].values\n",
    "y_val = df_mean['group_mean'].values.reshape((-1, 1))\n",
    "y_counts = df_mean['group_mean'].values.reshape((-1, 1))"
   ]
  },
  {
   "cell_type": "code",
   "execution_count": 731,
   "metadata": {},
   "outputs": [],
   "source": [
    "part_1 = x_mat*y_val\n",
    "part_2 = x_mat*np.exp(x_mat@params)\n",
    "momcond = part_1 -part_2"
   ]
  },
  {
   "cell_type": "code",
   "execution_count": 735,
   "metadata": {},
   "outputs": [
    {
     "data": {
      "text/plain": [
       "array([-0.6769984 , -0.92508828])"
      ]
     },
     "execution_count": 735,
     "metadata": {},
     "output_type": "execute_result"
    }
   ],
   "source": [
    "(momcond*(df_mean['group_count'].values.reshape((-1, 1))/N)).mean(axis=0)"
   ]
  },
  {
   "cell_type": "code",
   "execution_count": 727,
   "metadata": {},
   "outputs": [],
   "source": [
    "# for a single permutation - WITHOUT USING MEANS\n",
    "params = np.array([1, 0.1]).reshape((-1, 1))\n",
    "x_mat = df_val[['treatment', 'intercept']].values\n",
    "y_val = df_val['y'].values.reshape((-1, 1))\n",
    "y_counts = df_val['proportion'].values.reshape((-1, 1))"
   ]
  },
  {
   "cell_type": "code",
   "execution_count": 728,
   "metadata": {},
   "outputs": [],
   "source": [
    "part_1 = x_mat*y_val\n",
    "part_2 = x_mat*np.exp(x_mat@params)\n",
    "momcond = part_1 - part_2\n",
    "weighted_momcond = momcond * y_counts"
   ]
  },
  {
   "cell_type": "code",
   "execution_count": 729,
   "metadata": {},
   "outputs": [
    {
     "data": {
      "text/plain": [
       "array([-0.1041536 , -0.14232127])"
      ]
     },
     "execution_count": 729,
     "metadata": {},
     "output_type": "execute_result"
    }
   ],
   "source": [
    " (momcond * df_val['proportion'].values.reshape((-1, 1))).mean(axis=0)"
   ]
  },
  {
   "cell_type": "code",
   "execution_count": 852,
   "metadata": {},
   "outputs": [
    {
     "name": "stdout",
     "output_type": "stream",
     "text": [
      "CPU times: user 22.3 ms, sys: 0 ns, total: 22.3 ms\n",
      "Wall time: 6.51 ms\n"
     ]
    },
    {
     "data": {
      "text/plain": [
       "0.043380875654782255"
      ]
     },
     "execution_count": 852,
     "metadata": {},
     "output_type": "execute_result"
    }
   ],
   "source": [
    "%%time\n",
    "mean_objective_perm_old(perm_start)#[:, :, 0]"
   ]
  },
  {
   "cell_type": "code",
   "execution_count": 854,
   "metadata": {},
   "outputs": [
    {
     "data": {
      "text/html": [
       "<div>\n",
       "<style scoped>\n",
       "    .dataframe tbody tr th:only-of-type {\n",
       "        vertical-align: middle;\n",
       "    }\n",
       "\n",
       "    .dataframe tbody tr th {\n",
       "        vertical-align: top;\n",
       "    }\n",
       "\n",
       "    .dataframe thead th {\n",
       "        text-align: right;\n",
       "    }\n",
       "</style>\n",
       "<table border=\"1\" class=\"dataframe\">\n",
       "  <thead>\n",
       "    <tr style=\"text-align: right;\">\n",
       "      <th></th>\n",
       "      <th>treatment</th>\n",
       "      <th>intercept</th>\n",
       "      <th>group_count</th>\n",
       "      <th>group_mean</th>\n",
       "      <th>group_id</th>\n",
       "      <th>group_proportion</th>\n",
       "    </tr>\n",
       "  </thead>\n",
       "  <tbody>\n",
       "    <tr>\n",
       "      <th>0</th>\n",
       "      <td>0</td>\n",
       "      <td>1</td>\n",
       "      <td>33208</td>\n",
       "      <td>0.109823</td>\n",
       "      <td>0</td>\n",
       "      <td>0.33208</td>\n",
       "    </tr>\n",
       "    <tr>\n",
       "      <th>1</th>\n",
       "      <td>1</td>\n",
       "      <td>1</td>\n",
       "      <td>33134</td>\n",
       "      <td>0.303344</td>\n",
       "      <td>1</td>\n",
       "      <td>0.33134</td>\n",
       "    </tr>\n",
       "    <tr>\n",
       "      <th>2</th>\n",
       "      <td>2</td>\n",
       "      <td>1</td>\n",
       "      <td>33658</td>\n",
       "      <td>0.817309</td>\n",
       "      <td>2</td>\n",
       "      <td>0.33658</td>\n",
       "    </tr>\n",
       "  </tbody>\n",
       "</table>\n",
       "</div>"
      ],
      "text/plain": [
       "   treatment  intercept  group_count  group_mean  group_id  group_proportion\n",
       "0          0          1        33208    0.109823         0           0.33208\n",
       "1          1          1        33134    0.303344         1           0.33134\n",
       "2          2          1        33658    0.817309         2           0.33658"
      ]
     },
     "execution_count": 854,
     "metadata": {},
     "output_type": "execute_result"
    }
   ],
   "source": [
    "df_mean.head(50)"
   ]
  },
  {
   "cell_type": "code",
   "execution_count": 859,
   "metadata": {},
   "outputs": [
    {
     "ename": "ValueError",
     "evalue": "Dot product shape mismatch, (3, 6) vs (2, 10000)",
     "output_type": "error",
     "traceback": [
      "\u001b[0;31m---------------------------------------------------------------------------\u001b[0m",
      "\u001b[0;31mValueError\u001b[0m                                Traceback (most recent call last)",
      "\u001b[0;32m<ipython-input-859-8d42803c1c1a>\u001b[0m in \u001b[0;36m<module>\u001b[0;34m\u001b[0m\n\u001b[0;32m----> 1\u001b[0;31m \u001b[0mmean_objective_perm\u001b[0m\u001b[0;34m(\u001b[0m\u001b[0mperm_start\u001b[0m\u001b[0;34m,\u001b[0m \u001b[0mperm_means\u001b[0m\u001b[0;34m,\u001b[0m \u001b[0mperm_counts\u001b[0m\u001b[0;34m,\u001b[0m \u001b[0mdf_mean\u001b[0m\u001b[0;34m)\u001b[0m\u001b[0;31m#[:, :, 0]\u001b[0m\u001b[0;34m\u001b[0m\u001b[0;34m\u001b[0m\u001b[0m\n\u001b[0m",
      "\u001b[0;32m<ipython-input-856-c7a5e8c0f600>\u001b[0m in \u001b[0;36mmean_objective_perm\u001b[0;34m(params, perm_means, perm_proportions, x_mat)\u001b[0m\n\u001b[1;32m      4\u001b[0m     \u001b[0mbeta_hat\u001b[0m \u001b[0;34m=\u001b[0m \u001b[0mperm_start\u001b[0m\u001b[0;34m.\u001b[0m\u001b[0mreshape\u001b[0m\u001b[0;34m(\u001b[0m\u001b[0;34m-\u001b[0m\u001b[0;36m1\u001b[0m\u001b[0;34m,\u001b[0m \u001b[0mnum_perm\u001b[0m\u001b[0;34m,\u001b[0m \u001b[0morder\u001b[0m\u001b[0;34m=\u001b[0m\u001b[0;34m'F'\u001b[0m\u001b[0;34m)\u001b[0m\u001b[0;34m\u001b[0m\u001b[0;34m\u001b[0m\u001b[0m\n\u001b[1;32m      5\u001b[0m \u001b[0;34m\u001b[0m\u001b[0m\n\u001b[0;32m----> 6\u001b[0;31m     \u001b[0mmomcond\u001b[0m \u001b[0;34m=\u001b[0m \u001b[0mnp\u001b[0m\u001b[0;34m.\u001b[0m\u001b[0meinsum\u001b[0m\u001b[0;34m(\u001b[0m\u001b[0;34m'nm,nk->nmk'\u001b[0m\u001b[0;34m,\u001b[0m \u001b[0mx_mat\u001b[0m\u001b[0;34m,\u001b[0m \u001b[0my_val\u001b[0m\u001b[0;34m)\u001b[0m\u001b[0;34m/\u001b[0m\u001b[0mp\u001b[0m \u001b[0;34m-\u001b[0m \u001b[0mnp\u001b[0m\u001b[0;34m.\u001b[0m\u001b[0meinsum\u001b[0m\u001b[0;34m(\u001b[0m\u001b[0;34m'nm,nk->nmk'\u001b[0m\u001b[0;34m,\u001b[0m \u001b[0mx_mat\u001b[0m\u001b[0;34m,\u001b[0m\u001b[0mnp\u001b[0m\u001b[0;34m.\u001b[0m\u001b[0mexp\u001b[0m\u001b[0;34m(\u001b[0m\u001b[0mx_mat\u001b[0m\u001b[0;34m@\u001b[0m\u001b[0mbeta_hat\u001b[0m\u001b[0;34m)\u001b[0m \u001b[0;34m)\u001b[0m\u001b[0;34m\u001b[0m\u001b[0;34m\u001b[0m\u001b[0m\n\u001b[0m\u001b[1;32m      7\u001b[0m     \u001b[0mweighted_momcond\u001b[0m \u001b[0;34m=\u001b[0m \u001b[0mnp\u001b[0m\u001b[0;34m.\u001b[0m\u001b[0meinsum\u001b[0m\u001b[0;34m(\u001b[0m\u001b[0;34m'ijk,ik->ijk'\u001b[0m\u001b[0;34m,\u001b[0m \u001b[0mmomcond\u001b[0m\u001b[0;34m,\u001b[0m \u001b[0my_counts\u001b[0m\u001b[0;34m)\u001b[0m\u001b[0;34m.\u001b[0m\u001b[0mmean\u001b[0m\u001b[0;34m(\u001b[0m\u001b[0maxis\u001b[0m\u001b[0;34m=\u001b[0m\u001b[0;36m0\u001b[0m\u001b[0;34m)\u001b[0m\u001b[0;34m\u001b[0m\u001b[0;34m\u001b[0m\u001b[0m\n\u001b[1;32m      8\u001b[0m \u001b[0;34m\u001b[0m\u001b[0m\n",
      "\u001b[0;32m~/anaconda3/envs/single_cell/lib/python3.7/site-packages/pandas/core/frame.py\u001b[0m in \u001b[0;36m__matmul__\u001b[0;34m(self, other)\u001b[0m\n\u001b[1;32m   1111\u001b[0m         \u001b[0mMatrix\u001b[0m \u001b[0mmultiplication\u001b[0m \u001b[0musing\u001b[0m \u001b[0mbinary\u001b[0m\u001b[0;31m \u001b[0m\u001b[0;31m`\u001b[0m\u001b[0;34m@\u001b[0m\u001b[0;31m`\u001b[0m \u001b[0moperator\u001b[0m \u001b[0;32min\u001b[0m \u001b[0mPython\u001b[0m\u001b[0;34m>=\u001b[0m\u001b[0;36m3.5\u001b[0m\u001b[0;34m.\u001b[0m\u001b[0;34m\u001b[0m\u001b[0;34m\u001b[0m\u001b[0m\n\u001b[1;32m   1112\u001b[0m         \"\"\"\n\u001b[0;32m-> 1113\u001b[0;31m         \u001b[0;32mreturn\u001b[0m \u001b[0mself\u001b[0m\u001b[0;34m.\u001b[0m\u001b[0mdot\u001b[0m\u001b[0;34m(\u001b[0m\u001b[0mother\u001b[0m\u001b[0;34m)\u001b[0m\u001b[0;34m\u001b[0m\u001b[0;34m\u001b[0m\u001b[0m\n\u001b[0m\u001b[1;32m   1114\u001b[0m \u001b[0;34m\u001b[0m\u001b[0m\n\u001b[1;32m   1115\u001b[0m     \u001b[0;32mdef\u001b[0m \u001b[0m__rmatmul__\u001b[0m\u001b[0;34m(\u001b[0m\u001b[0mself\u001b[0m\u001b[0;34m,\u001b[0m \u001b[0mother\u001b[0m\u001b[0;34m)\u001b[0m\u001b[0;34m:\u001b[0m\u001b[0;34m\u001b[0m\u001b[0;34m\u001b[0m\u001b[0m\n",
      "\u001b[0;32m~/anaconda3/envs/single_cell/lib/python3.7/site-packages/pandas/core/frame.py\u001b[0m in \u001b[0;36mdot\u001b[0;34m(self, other)\u001b[0m\n\u001b[1;32m   1089\u001b[0m                 raise ValueError(\n\u001b[1;32m   1090\u001b[0m                     \u001b[0;34m\"Dot product shape mismatch, \"\u001b[0m\u001b[0;34m\u001b[0m\u001b[0;34m\u001b[0m\u001b[0m\n\u001b[0;32m-> 1091\u001b[0;31m                     \u001b[0;34m\"{s} vs {r}\"\u001b[0m\u001b[0;34m.\u001b[0m\u001b[0mformat\u001b[0m\u001b[0;34m(\u001b[0m\u001b[0ms\u001b[0m\u001b[0;34m=\u001b[0m\u001b[0mlvals\u001b[0m\u001b[0;34m.\u001b[0m\u001b[0mshape\u001b[0m\u001b[0;34m,\u001b[0m \u001b[0mr\u001b[0m\u001b[0;34m=\u001b[0m\u001b[0mrvals\u001b[0m\u001b[0;34m.\u001b[0m\u001b[0mshape\u001b[0m\u001b[0;34m)\u001b[0m\u001b[0;34m\u001b[0m\u001b[0;34m\u001b[0m\u001b[0m\n\u001b[0m\u001b[1;32m   1092\u001b[0m                 )\n\u001b[1;32m   1093\u001b[0m \u001b[0;34m\u001b[0m\u001b[0m\n",
      "\u001b[0;31mValueError\u001b[0m: Dot product shape mismatch, (3, 6) vs (2, 10000)"
     ]
    }
   ],
   "source": [
    "mean_objective_perm(perm_start, perm_means, perm_counts, df_mean)"
   ]
  },
  {
   "cell_type": "code",
   "execution_count": 860,
   "metadata": {},
   "outputs": [],
   "source": [
    "def mean_objective_perm(params, perm_means, perm_proportions, df_mean):\n",
    "\n",
    "    x_mat = df_mean[['treatment', 'intercept']].values\n",
    "    y_val, y_counts = perm_means, perm_proportions\n",
    "    beta_hat = perm_start.reshape(-1, num_perm, order='F')\n",
    "    \n",
    "    momcond = np.einsum('nm,nk->nmk', x_mat, y_val)/p - np.einsum('nm,nk->nmk', x_mat,np.exp(x_mat@beta_hat) )\n",
    "    weighted_momcond = np.einsum('ijk,ik->ijk', momcond, y_counts).mean(axis=0)\n",
    "        \n",
    "    return (weighted_momcond**2).sum()\n",
    "\n",
    "\n",
    "\n",
    "\n",
    "\n",
    "def mean_objective_perm_old(params):\n",
    "\n",
    "    y_val, y_counts = df_val['y'].values.reshape(-1, 1), perm_proportions.reshape(-1, 1, num_perm)/N\n",
    "    x_mat = df_val[['treatment', 'intercept']].values\n",
    "\n",
    "    beta_hat = params.reshape(-1, num_perm, order='F')\n",
    "\n",
    "    part_1 = ((x_mat*y_val)/p)\n",
    "\n",
    "    part_1 = part_1.reshape(part_1.shape[0], part_1.shape[1], -1)\n",
    "\n",
    "    part_2 = x_mat.reshape(x_mat.shape[0], x_mat.shape[1], -1)\n",
    "\n",
    "    part_3 = np.exp(x_mat@beta_hat).reshape(-1, 1, num_perm)\n",
    "\n",
    "    momcond = (part_1 - part_2*part_3)\n",
    "#     print('part1', part_1.shape)\n",
    "#     print('part2', part_2.shape)\n",
    "#     print('part3', part_3.shape)\n",
    "#     print('part23', (part_2*part_3).shape)\n",
    "#     print(momcond.shape)\n",
    "#     print(y_counts.shape)\n",
    "    weighted_momcond = (momcond * y_counts).mean(axis=0)\n",
    "        \n",
    "    return (weighted_momcond**2).sum()"
   ]
  },
  {
   "cell_type": "code",
   "execution_count": 842,
   "metadata": {},
   "outputs": [],
   "source": [
    "# def mean_objective_perm(params, perm_means, perm_counts):\n",
    "\n",
    "#     x_mat = df_mean[['treatment', 'intercept']].values\n",
    "#     y_val, y_counts = perm_means, perm_counts\n",
    "#     beta_hat = perm_start.reshape(-1, num_perm, order='F')\n",
    "    \n",
    "#     momcond = np.einsum('nm,nk->nmk', x_mat, y_val) - np.einsum('nm,nk->nmk', x_mat,np.exp(x_mat@beta_hat) )\n",
    "#     weighted_momcond = (momcond * y_counts).mean(axis=0)\n",
    "        \n",
    "#     return (weighted_momcond**2).sum()"
   ]
  },
  {
   "cell_type": "code",
   "execution_count": 400,
   "metadata": {},
   "outputs": [
    {
     "ename": "SyntaxError",
     "evalue": "unexpected EOF while parsing (<ipython-input-400-d9061fc431ca>, line 1)",
     "output_type": "error",
     "traceback": [
      "\u001b[0;36m  File \u001b[0;32m\"<ipython-input-400-d9061fc431ca>\"\u001b[0;36m, line \u001b[0;32m1\u001b[0m\n\u001b[0;31m    def var_objective_perm(params):\u001b[0m\n\u001b[0m                                   ^\u001b[0m\n\u001b[0;31mSyntaxError\u001b[0m\u001b[0;31m:\u001b[0m unexpected EOF while parsing\n"
     ]
    }
   ],
   "source": [
    "def var_objective_perm(params):\n",
    "    \n",
    "    y_val, y_counts = df['y'].values.reshape(-1, 1), perm_proportions.reshape(-1, 1, num_perm)/N\n",
    "    x_mat = df[['treatment', 'intercept']].values\n",
    "\n",
    "    beta_hat = params.reshape(-1, num_perm, order='F')\n",
    "    mean_beta = self.mean_beta.reshape(-1, 1)\n",
    "\n",
    "    var_beta = params.reshape(-1, 1)\n",
    "\n",
    "    a = (x_mat*y**2)/self.q_sq\n",
    "    b = -(x_mat*y)*(1-self.q_sq/self.q)/self.q_sq\n",
    "    c = -2*y*np.exp(x_mat@mean_beta)*x_mat/self.q\n",
    "    d = np.exp(2*x_mat@mean_beta)*x_mat\n",
    "    e = -x_mat*np.exp(x_mat@(self.gamma*mean_beta + var_beta))\n",
    "    return a + b + c + d + e"
   ]
  },
  {
   "cell_type": "code",
   "execution_count": 872,
   "metadata": {},
   "outputs": [
    {
     "name": "stdout",
     "output_type": "stream",
     "text": [
      "hi\n"
     ]
    }
   ],
   "source": [
    "p = 0.1\n",
    "noise_level = 0.2049755522580501\n",
    "p_sq = (noise_level+1)*p**2\n",
    "N = 1000\n",
    "num_perm = 10000\n",
    "X, z = sim.simulate_true_counts(\n",
    "    N=N,\n",
    "    mean_coef = np.array([1.0, 0.1]),\n",
    "    var_coef = np.array([1.0, 0.1]),\n",
    "    num_levels=3,\n",
    "    p=1)\n",
    "\n",
    "y = sim.simulate_dropout(z, p, p_sq)\n",
    "\n"
   ]
  },
  {
   "cell_type": "code",
   "execution_count": 873,
   "metadata": {},
   "outputs": [
    {
     "name": "stdout",
     "output_type": "stream",
     "text": [
      "CPU times: user 34 ms, sys: 50 µs, total: 34.1 ms\n",
      "Wall time: 33 ms\n"
     ]
    }
   ],
   "source": [
    "%%time\n",
    "df = pd.DataFrame(\n",
    "    data=np.hstack([X, y]),\n",
    "    columns=['treatment', 'intercept', 'y'])\n",
    "df_val = df.groupby(df.columns.tolist()).size().reset_index(name='count')\n",
    "df_val['proportion'] = df_val['count'] / X.shape[0]\n",
    "\n",
    "perm_proportions = stats.multinomial.rvs(\n",
    "    N, \n",
    "    df_val['proportion'], \n",
    "    size=num_perm).T\n",
    "\n",
    "df_mean = df.groupby(['treatment', 'intercept']).agg({'treatment':'size', 'y':'mean'}).rename(columns={'treatment':'group_count', 'y':'group_mean'}).reset_index()\n",
    "df_mean['group_id'] = np.arange(df_mean.shape[0])\n",
    "df_val = df_val.merge(df_mean, on=['treatment', 'intercept'], how='left')\n",
    "df_mean['group_proportion'] = df_mean['group_count']/N\n",
    "\n",
    "\n",
    "perm_vals = df_val['y'].values.reshape(-1, 1) * perm_proportions / df_val['group_count'].values.reshape(-1, 1)\n",
    "\n",
    "perm_means = np.zeros((df_mean.shape[0], num_perm))\n",
    "perm_counts = np.zeros((df_mean.shape[0], num_perm))\n",
    "for group_id in range(df_mean.shape[0]):\n",
    "    perm_means[group_id, :] = perm_vals[df_val['group_id']==group_id, :].sum(axis=0)\n",
    "    perm_counts[group_id, :] = perm_proportions[df_val['group_id']==group_id, :].sum(axis=0)"
   ]
  },
  {
   "cell_type": "code",
   "execution_count": 494,
   "metadata": {},
   "outputs": [
    {
     "data": {
      "text/plain": [
       "array([[0.11296184, 0.11477892, 0.11265899],\n",
       "       [0.30160116, 0.30596798, 0.28791849],\n",
       "       [0.79436102, 0.77198897, 0.82868526]])"
      ]
     },
     "execution_count": 494,
     "metadata": {},
     "output_type": "execute_result"
    }
   ],
   "source": [
    "perm_means[:, :3]"
   ]
  },
  {
   "cell_type": "code",
   "execution_count": 500,
   "metadata": {},
   "outputs": [
    {
     "data": {
      "text/plain": [
       "array([[2966, 2981, 2898, ..., 2952, 2996, 3002],\n",
       "       [ 308,  316,  312, ...,  313,  330,  322],\n",
       "       [  21,   22,   25, ...,   21,   27,   35],\n",
       "       ...,\n",
       "       [   5,    4,    7, ...,    4,    5,    5],\n",
       "       [   6,   15,    9, ...,    7,   19,    8],\n",
       "       [   0,    1,    1, ...,    3,    0,    0]])"
      ]
     },
     "execution_count": 500,
     "metadata": {},
     "output_type": "execute_result"
    }
   ],
   "source": [
    "perm_proportions"
   ]
  },
  {
   "cell_type": "code",
   "execution_count": 495,
   "metadata": {},
   "outputs": [
    {
     "data": {
      "text/html": [
       "<div>\n",
       "<style scoped>\n",
       "    .dataframe tbody tr th:only-of-type {\n",
       "        vertical-align: middle;\n",
       "    }\n",
       "\n",
       "    .dataframe tbody tr th {\n",
       "        vertical-align: top;\n",
       "    }\n",
       "\n",
       "    .dataframe thead th {\n",
       "        text-align: right;\n",
       "    }\n",
       "</style>\n",
       "<table border=\"1\" class=\"dataframe\">\n",
       "  <thead>\n",
       "    <tr style=\"text-align: right;\">\n",
       "      <th></th>\n",
       "      <th>treatment</th>\n",
       "      <th>intercept</th>\n",
       "      <th>group_count</th>\n",
       "      <th>group_mean</th>\n",
       "      <th>group_id</th>\n",
       "    </tr>\n",
       "  </thead>\n",
       "  <tbody>\n",
       "    <tr>\n",
       "      <th>0</th>\n",
       "      <td>0</td>\n",
       "      <td>1</td>\n",
       "      <td>3302</td>\n",
       "      <td>0.114779</td>\n",
       "      <td>0</td>\n",
       "    </tr>\n",
       "    <tr>\n",
       "      <th>1</th>\n",
       "      <td>1</td>\n",
       "      <td>1</td>\n",
       "      <td>3435</td>\n",
       "      <td>0.301310</td>\n",
       "      <td>1</td>\n",
       "    </tr>\n",
       "    <tr>\n",
       "      <th>2</th>\n",
       "      <td>2</td>\n",
       "      <td>1</td>\n",
       "      <td>3263</td>\n",
       "      <td>0.813668</td>\n",
       "      <td>2</td>\n",
       "    </tr>\n",
       "  </tbody>\n",
       "</table>\n",
       "</div>"
      ],
      "text/plain": [
       "   treatment  intercept  group_count  group_mean  group_id\n",
       "0          0          1         3302    0.114779         0\n",
       "1          1          1         3435    0.301310         1\n",
       "2          2          1         3263    0.813668         2"
      ]
     },
     "execution_count": 495,
     "metadata": {},
     "output_type": "execute_result"
    }
   ],
   "source": [
    "df_mean"
   ]
  },
  {
   "cell_type": "code",
   "execution_count": null,
   "metadata": {},
   "outputs": [],
   "source": []
  },
  {
   "cell_type": "code",
   "execution_count": null,
   "metadata": {},
   "outputs": [],
   "source": []
  },
  {
   "cell_type": "code",
   "execution_count": null,
   "metadata": {},
   "outputs": [],
   "source": []
  },
  {
   "cell_type": "code",
   "execution_count": null,
   "metadata": {},
   "outputs": [],
   "source": []
  },
  {
   "cell_type": "code",
   "execution_count": 314,
   "metadata": {},
   "outputs": [],
   "source": [
    "perm_columns = ['perm_'+str(i) for i in range(num_perm)]"
   ]
  },
  {
   "cell_type": "code",
   "execution_count": 315,
   "metadata": {},
   "outputs": [],
   "source": [
    "perm_df_counts = perm_df.groupby(['treatment', 'intercept'])[perm_columns].sum()"
   ]
  },
  {
   "cell_type": "code",
   "execution_count": 316,
   "metadata": {},
   "outputs": [
    {
     "data": {
      "text/html": [
       "<div>\n",
       "<style scoped>\n",
       "    .dataframe tbody tr th:only-of-type {\n",
       "        vertical-align: middle;\n",
       "    }\n",
       "\n",
       "    .dataframe tbody tr th {\n",
       "        vertical-align: top;\n",
       "    }\n",
       "\n",
       "    .dataframe thead th {\n",
       "        text-align: right;\n",
       "    }\n",
       "</style>\n",
       "<table border=\"1\" class=\"dataframe\">\n",
       "  <thead>\n",
       "    <tr style=\"text-align: right;\">\n",
       "      <th></th>\n",
       "      <th></th>\n",
       "      <th>perm_0</th>\n",
       "      <th>perm_1</th>\n",
       "      <th>perm_2</th>\n",
       "      <th>perm_3</th>\n",
       "      <th>perm_4</th>\n",
       "      <th>perm_5</th>\n",
       "      <th>perm_6</th>\n",
       "      <th>perm_7</th>\n",
       "      <th>perm_8</th>\n",
       "      <th>perm_9</th>\n",
       "      <th>...</th>\n",
       "      <th>perm_9990</th>\n",
       "      <th>perm_9991</th>\n",
       "      <th>perm_9992</th>\n",
       "      <th>perm_9993</th>\n",
       "      <th>perm_9994</th>\n",
       "      <th>perm_9995</th>\n",
       "      <th>perm_9996</th>\n",
       "      <th>perm_9997</th>\n",
       "      <th>perm_9998</th>\n",
       "      <th>perm_9999</th>\n",
       "    </tr>\n",
       "    <tr>\n",
       "      <th>treatment</th>\n",
       "      <th>intercept</th>\n",
       "      <th></th>\n",
       "      <th></th>\n",
       "      <th></th>\n",
       "      <th></th>\n",
       "      <th></th>\n",
       "      <th></th>\n",
       "      <th></th>\n",
       "      <th></th>\n",
       "      <th></th>\n",
       "      <th></th>\n",
       "      <th></th>\n",
       "      <th></th>\n",
       "      <th></th>\n",
       "      <th></th>\n",
       "      <th></th>\n",
       "      <th></th>\n",
       "      <th></th>\n",
       "      <th></th>\n",
       "      <th></th>\n",
       "      <th></th>\n",
       "      <th></th>\n",
       "    </tr>\n",
       "  </thead>\n",
       "  <tbody>\n",
       "    <tr>\n",
       "      <th>0</th>\n",
       "      <th>1</th>\n",
       "      <td>3438</td>\n",
       "      <td>3423</td>\n",
       "      <td>3440</td>\n",
       "      <td>3478</td>\n",
       "      <td>3401</td>\n",
       "      <td>3360</td>\n",
       "      <td>3444</td>\n",
       "      <td>3416</td>\n",
       "      <td>3382</td>\n",
       "      <td>3447</td>\n",
       "      <td>...</td>\n",
       "      <td>3316</td>\n",
       "      <td>3331</td>\n",
       "      <td>3337</td>\n",
       "      <td>3480</td>\n",
       "      <td>3359</td>\n",
       "      <td>3406</td>\n",
       "      <td>3452</td>\n",
       "      <td>3415</td>\n",
       "      <td>3314</td>\n",
       "      <td>3407</td>\n",
       "    </tr>\n",
       "    <tr>\n",
       "      <th>1</th>\n",
       "      <th>1</th>\n",
       "      <td>3196</td>\n",
       "      <td>3190</td>\n",
       "      <td>3203</td>\n",
       "      <td>3141</td>\n",
       "      <td>3254</td>\n",
       "      <td>3329</td>\n",
       "      <td>3225</td>\n",
       "      <td>3310</td>\n",
       "      <td>3232</td>\n",
       "      <td>3230</td>\n",
       "      <td>...</td>\n",
       "      <td>3266</td>\n",
       "      <td>3249</td>\n",
       "      <td>3248</td>\n",
       "      <td>3264</td>\n",
       "      <td>3205</td>\n",
       "      <td>3223</td>\n",
       "      <td>3285</td>\n",
       "      <td>3302</td>\n",
       "      <td>3297</td>\n",
       "      <td>3287</td>\n",
       "    </tr>\n",
       "    <tr>\n",
       "      <th>2</th>\n",
       "      <th>1</th>\n",
       "      <td>3366</td>\n",
       "      <td>3387</td>\n",
       "      <td>3357</td>\n",
       "      <td>3381</td>\n",
       "      <td>3345</td>\n",
       "      <td>3311</td>\n",
       "      <td>3331</td>\n",
       "      <td>3274</td>\n",
       "      <td>3386</td>\n",
       "      <td>3323</td>\n",
       "      <td>...</td>\n",
       "      <td>3418</td>\n",
       "      <td>3420</td>\n",
       "      <td>3415</td>\n",
       "      <td>3256</td>\n",
       "      <td>3436</td>\n",
       "      <td>3371</td>\n",
       "      <td>3263</td>\n",
       "      <td>3283</td>\n",
       "      <td>3389</td>\n",
       "      <td>3306</td>\n",
       "    </tr>\n",
       "  </tbody>\n",
       "</table>\n",
       "<p>3 rows × 10000 columns</p>\n",
       "</div>"
      ],
      "text/plain": [
       "                     perm_0  perm_1  perm_2  perm_3  perm_4  perm_5  perm_6  \\\n",
       "treatment intercept                                                           \n",
       "0         1            3438    3423    3440    3478    3401    3360    3444   \n",
       "1         1            3196    3190    3203    3141    3254    3329    3225   \n",
       "2         1            3366    3387    3357    3381    3345    3311    3331   \n",
       "\n",
       "                     perm_7  perm_8  perm_9  ...  perm_9990  perm_9991  \\\n",
       "treatment intercept                          ...                         \n",
       "0         1            3416    3382    3447  ...       3316       3331   \n",
       "1         1            3310    3232    3230  ...       3266       3249   \n",
       "2         1            3274    3386    3323  ...       3418       3420   \n",
       "\n",
       "                     perm_9992  perm_9993  perm_9994  perm_9995  perm_9996  \\\n",
       "treatment intercept                                                          \n",
       "0         1               3337       3480       3359       3406       3452   \n",
       "1         1               3248       3264       3205       3223       3285   \n",
       "2         1               3415       3256       3436       3371       3263   \n",
       "\n",
       "                     perm_9997  perm_9998  perm_9999  \n",
       "treatment intercept                                   \n",
       "0         1               3415       3314       3407  \n",
       "1         1               3302       3297       3287  \n",
       "2         1               3283       3389       3306  \n",
       "\n",
       "[3 rows x 10000 columns]"
      ]
     },
     "execution_count": 316,
     "metadata": {},
     "output_type": "execute_result"
    }
   ],
   "source": [
    "perm_df_counts"
   ]
  },
  {
   "cell_type": "code",
   "execution_count": 317,
   "metadata": {},
   "outputs": [],
   "source": [
    "for i in range(num_perm):\n",
    "    df_val['perm_' + str(i)] = df_val['y']*perm_proportions[:, i]"
   ]
  },
  {
   "cell_type": "code",
   "execution_count": 304,
   "metadata": {},
   "outputs": [],
   "source": [
    "df_perm_mean = df_val.groupby(['treatment', 'intercept'])[perm_columns].sum()"
   ]
  },
  {
   "cell_type": "code",
   "execution_count": 305,
   "metadata": {},
   "outputs": [
    {
     "data": {
      "text/html": [
       "<div>\n",
       "<style scoped>\n",
       "    .dataframe tbody tr th:only-of-type {\n",
       "        vertical-align: middle;\n",
       "    }\n",
       "\n",
       "    .dataframe tbody tr th {\n",
       "        vertical-align: top;\n",
       "    }\n",
       "\n",
       "    .dataframe thead th {\n",
       "        text-align: right;\n",
       "    }\n",
       "</style>\n",
       "<table border=\"1\" class=\"dataframe\">\n",
       "  <thead>\n",
       "    <tr style=\"text-align: right;\">\n",
       "      <th></th>\n",
       "      <th></th>\n",
       "      <th>perm_0</th>\n",
       "      <th>perm_1</th>\n",
       "      <th>perm_2</th>\n",
       "      <th>perm_3</th>\n",
       "      <th>perm_4</th>\n",
       "    </tr>\n",
       "    <tr>\n",
       "      <th>treatment</th>\n",
       "      <th>intercept</th>\n",
       "      <th></th>\n",
       "      <th></th>\n",
       "      <th></th>\n",
       "      <th></th>\n",
       "      <th></th>\n",
       "    </tr>\n",
       "  </thead>\n",
       "  <tbody>\n",
       "    <tr>\n",
       "      <th>0</th>\n",
       "      <th>1</th>\n",
       "      <td>27</td>\n",
       "      <td>28</td>\n",
       "      <td>29</td>\n",
       "      <td>18</td>\n",
       "      <td>21</td>\n",
       "    </tr>\n",
       "    <tr>\n",
       "      <th>1</th>\n",
       "      <th>1</th>\n",
       "      <td>103</td>\n",
       "      <td>106</td>\n",
       "      <td>126</td>\n",
       "      <td>92</td>\n",
       "      <td>113</td>\n",
       "    </tr>\n",
       "    <tr>\n",
       "      <th>2</th>\n",
       "      <th>1</th>\n",
       "      <td>277</td>\n",
       "      <td>255</td>\n",
       "      <td>283</td>\n",
       "      <td>270</td>\n",
       "      <td>280</td>\n",
       "    </tr>\n",
       "  </tbody>\n",
       "</table>\n",
       "</div>"
      ],
      "text/plain": [
       "                     perm_0  perm_1  perm_2  perm_3  perm_4\n",
       "treatment intercept                                        \n",
       "0         1              27      28      29      18      21\n",
       "1         1             103     106     126      92     113\n",
       "2         1             277     255     283     270     280"
      ]
     },
     "execution_count": 305,
     "metadata": {},
     "output_type": "execute_result"
    }
   ],
   "source": [
    "df_perm_mean"
   ]
  },
  {
   "cell_type": "code",
   "execution_count": 306,
   "metadata": {},
   "outputs": [],
   "source": [
    "df_perm_mean[perm_columns] = df_perm_mean[perm_columns]/perm_df_counts[perm_columns]"
   ]
  },
  {
   "cell_type": "code",
   "execution_count": 307,
   "metadata": {},
   "outputs": [
    {
     "data": {
      "text/html": [
       "<div>\n",
       "<style scoped>\n",
       "    .dataframe tbody tr th:only-of-type {\n",
       "        vertical-align: middle;\n",
       "    }\n",
       "\n",
       "    .dataframe tbody tr th {\n",
       "        vertical-align: top;\n",
       "    }\n",
       "\n",
       "    .dataframe thead th {\n",
       "        text-align: right;\n",
       "    }\n",
       "</style>\n",
       "<table border=\"1\" class=\"dataframe\">\n",
       "  <thead>\n",
       "    <tr style=\"text-align: right;\">\n",
       "      <th></th>\n",
       "      <th></th>\n",
       "      <th>perm_0</th>\n",
       "      <th>perm_1</th>\n",
       "      <th>perm_2</th>\n",
       "      <th>perm_3</th>\n",
       "      <th>perm_4</th>\n",
       "    </tr>\n",
       "    <tr>\n",
       "      <th>treatment</th>\n",
       "      <th>intercept</th>\n",
       "      <th></th>\n",
       "      <th></th>\n",
       "      <th></th>\n",
       "      <th></th>\n",
       "      <th></th>\n",
       "    </tr>\n",
       "  </thead>\n",
       "  <tbody>\n",
       "    <tr>\n",
       "      <th>0</th>\n",
       "      <th>1</th>\n",
       "      <td>0.089404</td>\n",
       "      <td>0.092105</td>\n",
       "      <td>0.094771</td>\n",
       "      <td>0.056075</td>\n",
       "      <td>0.071672</td>\n",
       "    </tr>\n",
       "    <tr>\n",
       "      <th>1</th>\n",
       "      <th>1</th>\n",
       "      <td>0.281421</td>\n",
       "      <td>0.295265</td>\n",
       "      <td>0.352941</td>\n",
       "      <td>0.267442</td>\n",
       "      <td>0.318310</td>\n",
       "    </tr>\n",
       "    <tr>\n",
       "      <th>2</th>\n",
       "      <th>1</th>\n",
       "      <td>0.834337</td>\n",
       "      <td>0.756677</td>\n",
       "      <td>0.839763</td>\n",
       "      <td>0.805970</td>\n",
       "      <td>0.795455</td>\n",
       "    </tr>\n",
       "  </tbody>\n",
       "</table>\n",
       "</div>"
      ],
      "text/plain": [
       "                       perm_0    perm_1    perm_2    perm_3    perm_4\n",
       "treatment intercept                                                  \n",
       "0         1          0.089404  0.092105  0.094771  0.056075  0.071672\n",
       "1         1          0.281421  0.295265  0.352941  0.267442  0.318310\n",
       "2         1          0.834337  0.756677  0.839763  0.805970  0.795455"
      ]
     },
     "execution_count": 307,
     "metadata": {},
     "output_type": "execute_result"
    }
   ],
   "source": [
    "df_perm_mean"
   ]
  },
  {
   "cell_type": "code",
   "execution_count": 308,
   "metadata": {},
   "outputs": [
    {
     "data": {
      "text/html": [
       "<div>\n",
       "<style scoped>\n",
       "    .dataframe tbody tr th:only-of-type {\n",
       "        vertical-align: middle;\n",
       "    }\n",
       "\n",
       "    .dataframe tbody tr th {\n",
       "        vertical-align: top;\n",
       "    }\n",
       "\n",
       "    .dataframe thead th {\n",
       "        text-align: right;\n",
       "    }\n",
       "</style>\n",
       "<table border=\"1\" class=\"dataframe\">\n",
       "  <thead>\n",
       "    <tr style=\"text-align: right;\">\n",
       "      <th></th>\n",
       "      <th></th>\n",
       "      <th>count</th>\n",
       "      <th>mean</th>\n",
       "    </tr>\n",
       "    <tr>\n",
       "      <th>treatment</th>\n",
       "      <th>intercept</th>\n",
       "      <th></th>\n",
       "      <th></th>\n",
       "    </tr>\n",
       "  </thead>\n",
       "  <tbody>\n",
       "    <tr>\n",
       "      <th>0</th>\n",
       "      <th>1</th>\n",
       "      <td>305</td>\n",
       "      <td>0.081967</td>\n",
       "    </tr>\n",
       "    <tr>\n",
       "      <th>1</th>\n",
       "      <th>1</th>\n",
       "      <td>354</td>\n",
       "      <td>0.285311</td>\n",
       "    </tr>\n",
       "    <tr>\n",
       "      <th>2</th>\n",
       "      <th>1</th>\n",
       "      <td>341</td>\n",
       "      <td>0.797654</td>\n",
       "    </tr>\n",
       "  </tbody>\n",
       "</table>\n",
       "</div>"
      ],
      "text/plain": [
       "                     count      mean\n",
       "treatment intercept                 \n",
       "0         1            305  0.081967\n",
       "1         1            354  0.285311\n",
       "2         1            341  0.797654"
      ]
     },
     "execution_count": 308,
     "metadata": {},
     "output_type": "execute_result"
    }
   ],
   "source": [
    "df_mean"
   ]
  },
  {
   "cell_type": "code",
   "execution_count": 284,
   "metadata": {},
   "outputs": [],
   "source": [
    "perm_means = df_val.groupby(['treatment', 'intercept'])[['perm_'+str(i) for i in range(num_perm)]].sum()"
   ]
  },
  {
   "cell_type": "code",
   "execution_count": 272,
   "metadata": {},
   "outputs": [],
   "source": [
    "df_val['temp'] = df_val['y']*df_val['count']"
   ]
  },
  {
   "cell_type": "code",
   "execution_count": 274,
   "metadata": {},
   "outputs": [
    {
     "data": {
      "text/html": [
       "<div>\n",
       "<style scoped>\n",
       "    .dataframe tbody tr th:only-of-type {\n",
       "        vertical-align: middle;\n",
       "    }\n",
       "\n",
       "    .dataframe tbody tr th {\n",
       "        vertical-align: top;\n",
       "    }\n",
       "\n",
       "    .dataframe thead th {\n",
       "        text-align: right;\n",
       "    }\n",
       "</style>\n",
       "<table border=\"1\" class=\"dataframe\">\n",
       "  <thead>\n",
       "    <tr style=\"text-align: right;\">\n",
       "      <th></th>\n",
       "      <th></th>\n",
       "      <th>count</th>\n",
       "      <th>mean</th>\n",
       "    </tr>\n",
       "    <tr>\n",
       "      <th>treatment</th>\n",
       "      <th>intercept</th>\n",
       "      <th></th>\n",
       "      <th></th>\n",
       "    </tr>\n",
       "  </thead>\n",
       "  <tbody>\n",
       "    <tr>\n",
       "      <th>0</th>\n",
       "      <th>1</th>\n",
       "      <td>323</td>\n",
       "      <td>0.068111</td>\n",
       "    </tr>\n",
       "    <tr>\n",
       "      <th>1</th>\n",
       "      <th>1</th>\n",
       "      <td>318</td>\n",
       "      <td>0.308176</td>\n",
       "    </tr>\n",
       "    <tr>\n",
       "      <th>2</th>\n",
       "      <th>1</th>\n",
       "      <td>359</td>\n",
       "      <td>0.916435</td>\n",
       "    </tr>\n",
       "  </tbody>\n",
       "</table>\n",
       "</div>"
      ],
      "text/plain": [
       "                     count      mean\n",
       "treatment intercept                 \n",
       "0         1            323  0.068111\n",
       "1         1            318  0.308176\n",
       "2         1            359  0.916435"
      ]
     },
     "execution_count": 274,
     "metadata": {},
     "output_type": "execute_result"
    }
   ],
   "source": [
    "df_mean"
   ]
  },
  {
   "cell_type": "code",
   "execution_count": 278,
   "metadata": {},
   "outputs": [
    {
     "data": {
      "text/html": [
       "<div>\n",
       "<style scoped>\n",
       "    .dataframe tbody tr th:only-of-type {\n",
       "        vertical-align: middle;\n",
       "    }\n",
       "\n",
       "    .dataframe tbody tr th {\n",
       "        vertical-align: top;\n",
       "    }\n",
       "\n",
       "    .dataframe thead th {\n",
       "        text-align: right;\n",
       "    }\n",
       "</style>\n",
       "<table border=\"1\" class=\"dataframe\">\n",
       "  <thead>\n",
       "    <tr style=\"text-align: right;\">\n",
       "      <th></th>\n",
       "      <th></th>\n",
       "      <th>count</th>\n",
       "      <th>mean</th>\n",
       "    </tr>\n",
       "    <tr>\n",
       "      <th>treatment</th>\n",
       "      <th>intercept</th>\n",
       "      <th></th>\n",
       "      <th></th>\n",
       "    </tr>\n",
       "  </thead>\n",
       "  <tbody>\n",
       "    <tr>\n",
       "      <th>0</th>\n",
       "      <th>1</th>\n",
       "      <td>323</td>\n",
       "      <td>0.068111</td>\n",
       "    </tr>\n",
       "    <tr>\n",
       "      <th>1</th>\n",
       "      <th>1</th>\n",
       "      <td>318</td>\n",
       "      <td>0.308176</td>\n",
       "    </tr>\n",
       "    <tr>\n",
       "      <th>2</th>\n",
       "      <th>1</th>\n",
       "      <td>359</td>\n",
       "      <td>0.916435</td>\n",
       "    </tr>\n",
       "  </tbody>\n",
       "</table>\n",
       "</div>"
      ],
      "text/plain": [
       "                     count      mean\n",
       "treatment intercept                 \n",
       "0         1            323  0.068111\n",
       "1         1            318  0.308176\n",
       "2         1            359  0.916435"
      ]
     },
     "execution_count": 278,
     "metadata": {},
     "output_type": "execute_result"
    }
   ],
   "source": [
    "df_mean"
   ]
  },
  {
   "cell_type": "code",
   "execution_count": 279,
   "metadata": {},
   "outputs": [
    {
     "data": {
      "text/plain": [
       "0.022"
      ]
     },
     "execution_count": 279,
     "metadata": {},
     "output_type": "execute_result"
    }
   ],
   "source": [
    "22/1000"
   ]
  },
  {
   "cell_type": "code",
   "execution_count": 277,
   "metadata": {},
   "outputs": [
    {
     "data": {
      "text/html": [
       "<div>\n",
       "<style scoped>\n",
       "    .dataframe tbody tr th:only-of-type {\n",
       "        vertical-align: middle;\n",
       "    }\n",
       "\n",
       "    .dataframe tbody tr th {\n",
       "        vertical-align: top;\n",
       "    }\n",
       "\n",
       "    .dataframe thead th {\n",
       "        text-align: right;\n",
       "    }\n",
       "</style>\n",
       "<table border=\"1\" class=\"dataframe\">\n",
       "  <thead>\n",
       "    <tr style=\"text-align: right;\">\n",
       "      <th></th>\n",
       "      <th>treatment</th>\n",
       "      <th>intercept</th>\n",
       "      <th>y</th>\n",
       "      <th>count</th>\n",
       "      <th>proportion</th>\n",
       "      <th>perm_0</th>\n",
       "      <th>perm_1</th>\n",
       "      <th>perm_2</th>\n",
       "      <th>perm_3</th>\n",
       "      <th>perm_4</th>\n",
       "      <th>temp</th>\n",
       "    </tr>\n",
       "  </thead>\n",
       "  <tbody>\n",
       "    <tr>\n",
       "      <th>0</th>\n",
       "      <td>0</td>\n",
       "      <td>1</td>\n",
       "      <td>0</td>\n",
       "      <td>301</td>\n",
       "      <td>0.301</td>\n",
       "      <td>304</td>\n",
       "      <td>294</td>\n",
       "      <td>299</td>\n",
       "      <td>336</td>\n",
       "      <td>305</td>\n",
       "      <td>0</td>\n",
       "    </tr>\n",
       "    <tr>\n",
       "      <th>1</th>\n",
       "      <td>0</td>\n",
       "      <td>1</td>\n",
       "      <td>1</td>\n",
       "      <td>22</td>\n",
       "      <td>0.022</td>\n",
       "      <td>19</td>\n",
       "      <td>22</td>\n",
       "      <td>29</td>\n",
       "      <td>20</td>\n",
       "      <td>24</td>\n",
       "      <td>22</td>\n",
       "    </tr>\n",
       "    <tr>\n",
       "      <th>2</th>\n",
       "      <td>1</td>\n",
       "      <td>1</td>\n",
       "      <td>0</td>\n",
       "      <td>248</td>\n",
       "      <td>0.248</td>\n",
       "      <td>250</td>\n",
       "      <td>253</td>\n",
       "      <td>263</td>\n",
       "      <td>247</td>\n",
       "      <td>251</td>\n",
       "      <td>0</td>\n",
       "    </tr>\n",
       "    <tr>\n",
       "      <th>3</th>\n",
       "      <td>1</td>\n",
       "      <td>1</td>\n",
       "      <td>1</td>\n",
       "      <td>49</td>\n",
       "      <td>0.049</td>\n",
       "      <td>41</td>\n",
       "      <td>48</td>\n",
       "      <td>48</td>\n",
       "      <td>43</td>\n",
       "      <td>49</td>\n",
       "      <td>49</td>\n",
       "    </tr>\n",
       "    <tr>\n",
       "      <th>4</th>\n",
       "      <td>1</td>\n",
       "      <td>1</td>\n",
       "      <td>2</td>\n",
       "      <td>14</td>\n",
       "      <td>0.014</td>\n",
       "      <td>17</td>\n",
       "      <td>18</td>\n",
       "      <td>18</td>\n",
       "      <td>10</td>\n",
       "      <td>12</td>\n",
       "      <td>28</td>\n",
       "    </tr>\n",
       "    <tr>\n",
       "      <th>5</th>\n",
       "      <td>1</td>\n",
       "      <td>1</td>\n",
       "      <td>3</td>\n",
       "      <td>7</td>\n",
       "      <td>0.007</td>\n",
       "      <td>10</td>\n",
       "      <td>2</td>\n",
       "      <td>6</td>\n",
       "      <td>5</td>\n",
       "      <td>9</td>\n",
       "      <td>21</td>\n",
       "    </tr>\n",
       "    <tr>\n",
       "      <th>6</th>\n",
       "      <td>2</td>\n",
       "      <td>1</td>\n",
       "      <td>0</td>\n",
       "      <td>196</td>\n",
       "      <td>0.196</td>\n",
       "      <td>190</td>\n",
       "      <td>196</td>\n",
       "      <td>186</td>\n",
       "      <td>191</td>\n",
       "      <td>182</td>\n",
       "      <td>0</td>\n",
       "    </tr>\n",
       "    <tr>\n",
       "      <th>7</th>\n",
       "      <td>2</td>\n",
       "      <td>1</td>\n",
       "      <td>1</td>\n",
       "      <td>85</td>\n",
       "      <td>0.085</td>\n",
       "      <td>92</td>\n",
       "      <td>89</td>\n",
       "      <td>79</td>\n",
       "      <td>81</td>\n",
       "      <td>91</td>\n",
       "      <td>85</td>\n",
       "    </tr>\n",
       "    <tr>\n",
       "      <th>8</th>\n",
       "      <td>2</td>\n",
       "      <td>1</td>\n",
       "      <td>2</td>\n",
       "      <td>37</td>\n",
       "      <td>0.037</td>\n",
       "      <td>34</td>\n",
       "      <td>40</td>\n",
       "      <td>30</td>\n",
       "      <td>40</td>\n",
       "      <td>44</td>\n",
       "      <td>74</td>\n",
       "    </tr>\n",
       "    <tr>\n",
       "      <th>9</th>\n",
       "      <td>2</td>\n",
       "      <td>1</td>\n",
       "      <td>3</td>\n",
       "      <td>21</td>\n",
       "      <td>0.021</td>\n",
       "      <td>21</td>\n",
       "      <td>18</td>\n",
       "      <td>14</td>\n",
       "      <td>14</td>\n",
       "      <td>18</td>\n",
       "      <td>63</td>\n",
       "    </tr>\n",
       "    <tr>\n",
       "      <th>10</th>\n",
       "      <td>2</td>\n",
       "      <td>1</td>\n",
       "      <td>4</td>\n",
       "      <td>10</td>\n",
       "      <td>0.010</td>\n",
       "      <td>12</td>\n",
       "      <td>10</td>\n",
       "      <td>20</td>\n",
       "      <td>4</td>\n",
       "      <td>7</td>\n",
       "      <td>40</td>\n",
       "    </tr>\n",
       "    <tr>\n",
       "      <th>11</th>\n",
       "      <td>2</td>\n",
       "      <td>1</td>\n",
       "      <td>5</td>\n",
       "      <td>4</td>\n",
       "      <td>0.004</td>\n",
       "      <td>5</td>\n",
       "      <td>5</td>\n",
       "      <td>4</td>\n",
       "      <td>4</td>\n",
       "      <td>3</td>\n",
       "      <td>20</td>\n",
       "    </tr>\n",
       "    <tr>\n",
       "      <th>12</th>\n",
       "      <td>2</td>\n",
       "      <td>1</td>\n",
       "      <td>6</td>\n",
       "      <td>1</td>\n",
       "      <td>0.001</td>\n",
       "      <td>1</td>\n",
       "      <td>0</td>\n",
       "      <td>2</td>\n",
       "      <td>3</td>\n",
       "      <td>1</td>\n",
       "      <td>6</td>\n",
       "    </tr>\n",
       "    <tr>\n",
       "      <th>13</th>\n",
       "      <td>2</td>\n",
       "      <td>1</td>\n",
       "      <td>7</td>\n",
       "      <td>2</td>\n",
       "      <td>0.002</td>\n",
       "      <td>1</td>\n",
       "      <td>2</td>\n",
       "      <td>1</td>\n",
       "      <td>0</td>\n",
       "      <td>2</td>\n",
       "      <td>14</td>\n",
       "    </tr>\n",
       "    <tr>\n",
       "      <th>14</th>\n",
       "      <td>2</td>\n",
       "      <td>1</td>\n",
       "      <td>8</td>\n",
       "      <td>2</td>\n",
       "      <td>0.002</td>\n",
       "      <td>2</td>\n",
       "      <td>2</td>\n",
       "      <td>0</td>\n",
       "      <td>2</td>\n",
       "      <td>1</td>\n",
       "      <td>16</td>\n",
       "    </tr>\n",
       "    <tr>\n",
       "      <th>15</th>\n",
       "      <td>2</td>\n",
       "      <td>1</td>\n",
       "      <td>11</td>\n",
       "      <td>1</td>\n",
       "      <td>0.001</td>\n",
       "      <td>1</td>\n",
       "      <td>1</td>\n",
       "      <td>1</td>\n",
       "      <td>0</td>\n",
       "      <td>1</td>\n",
       "      <td>11</td>\n",
       "    </tr>\n",
       "  </tbody>\n",
       "</table>\n",
       "</div>"
      ],
      "text/plain": [
       "    treatment  intercept   y  count  proportion  perm_0  perm_1  perm_2  \\\n",
       "0           0          1   0    301       0.301     304     294     299   \n",
       "1           0          1   1     22       0.022      19      22      29   \n",
       "2           1          1   0    248       0.248     250     253     263   \n",
       "3           1          1   1     49       0.049      41      48      48   \n",
       "4           1          1   2     14       0.014      17      18      18   \n",
       "5           1          1   3      7       0.007      10       2       6   \n",
       "6           2          1   0    196       0.196     190     196     186   \n",
       "7           2          1   1     85       0.085      92      89      79   \n",
       "8           2          1   2     37       0.037      34      40      30   \n",
       "9           2          1   3     21       0.021      21      18      14   \n",
       "10          2          1   4     10       0.010      12      10      20   \n",
       "11          2          1   5      4       0.004       5       5       4   \n",
       "12          2          1   6      1       0.001       1       0       2   \n",
       "13          2          1   7      2       0.002       1       2       1   \n",
       "14          2          1   8      2       0.002       2       2       0   \n",
       "15          2          1  11      1       0.001       1       1       1   \n",
       "\n",
       "    perm_3  perm_4  temp  \n",
       "0      336     305     0  \n",
       "1       20      24    22  \n",
       "2      247     251     0  \n",
       "3       43      49    49  \n",
       "4       10      12    28  \n",
       "5        5       9    21  \n",
       "6      191     182     0  \n",
       "7       81      91    85  \n",
       "8       40      44    74  \n",
       "9       14      18    63  \n",
       "10       4       7    40  \n",
       "11       4       3    20  \n",
       "12       3       1     6  \n",
       "13       0       2    14  \n",
       "14       2       1    16  \n",
       "15       0       1    11  "
      ]
     },
     "execution_count": 277,
     "metadata": {},
     "output_type": "execute_result"
    }
   ],
   "source": [
    "df_val"
   ]
  },
  {
   "cell_type": "code",
   "execution_count": 276,
   "metadata": {},
   "outputs": [
    {
     "data": {
      "text/plain": [
       "<pandas.core.groupby.generic.DataFrameGroupBy object at 0x7feef6a7c890>"
      ]
     },
     "execution_count": 276,
     "metadata": {},
     "output_type": "execute_result"
    }
   ],
   "source": [
    "df_val.groupby(['treatment', 'intercept'])[['perm_'+str(i) for i in range(num_perm)]].sum()"
   ]
  },
  {
   "cell_type": "code",
   "execution_count": null,
   "metadata": {},
   "outputs": [],
   "source": [
    "df_val['y']"
   ]
  },
  {
   "cell_type": "code",
   "execution_count": 261,
   "metadata": {},
   "outputs": [
    {
     "data": {
      "text/html": [
       "<div>\n",
       "<style scoped>\n",
       "    .dataframe tbody tr th:only-of-type {\n",
       "        vertical-align: middle;\n",
       "    }\n",
       "\n",
       "    .dataframe tbody tr th {\n",
       "        vertical-align: top;\n",
       "    }\n",
       "\n",
       "    .dataframe thead th {\n",
       "        text-align: right;\n",
       "    }\n",
       "</style>\n",
       "<table border=\"1\" class=\"dataframe\">\n",
       "  <thead>\n",
       "    <tr style=\"text-align: right;\">\n",
       "      <th></th>\n",
       "      <th>treatment</th>\n",
       "      <th>intercept</th>\n",
       "      <th>y</th>\n",
       "    </tr>\n",
       "  </thead>\n",
       "  <tbody>\n",
       "    <tr>\n",
       "      <th>0</th>\n",
       "      <td>0</td>\n",
       "      <td>1</td>\n",
       "      <td>0</td>\n",
       "    </tr>\n",
       "    <tr>\n",
       "      <th>1</th>\n",
       "      <td>2</td>\n",
       "      <td>1</td>\n",
       "      <td>3</td>\n",
       "    </tr>\n",
       "    <tr>\n",
       "      <th>2</th>\n",
       "      <td>2</td>\n",
       "      <td>1</td>\n",
       "      <td>1</td>\n",
       "    </tr>\n",
       "    <tr>\n",
       "      <th>3</th>\n",
       "      <td>1</td>\n",
       "      <td>1</td>\n",
       "      <td>0</td>\n",
       "    </tr>\n",
       "    <tr>\n",
       "      <th>4</th>\n",
       "      <td>2</td>\n",
       "      <td>1</td>\n",
       "      <td>0</td>\n",
       "    </tr>\n",
       "    <tr>\n",
       "      <th>...</th>\n",
       "      <td>...</td>\n",
       "      <td>...</td>\n",
       "      <td>...</td>\n",
       "    </tr>\n",
       "    <tr>\n",
       "      <th>995</th>\n",
       "      <td>2</td>\n",
       "      <td>1</td>\n",
       "      <td>0</td>\n",
       "    </tr>\n",
       "    <tr>\n",
       "      <th>996</th>\n",
       "      <td>2</td>\n",
       "      <td>1</td>\n",
       "      <td>0</td>\n",
       "    </tr>\n",
       "    <tr>\n",
       "      <th>997</th>\n",
       "      <td>1</td>\n",
       "      <td>1</td>\n",
       "      <td>0</td>\n",
       "    </tr>\n",
       "    <tr>\n",
       "      <th>998</th>\n",
       "      <td>1</td>\n",
       "      <td>1</td>\n",
       "      <td>3</td>\n",
       "    </tr>\n",
       "    <tr>\n",
       "      <th>999</th>\n",
       "      <td>1</td>\n",
       "      <td>1</td>\n",
       "      <td>0</td>\n",
       "    </tr>\n",
       "  </tbody>\n",
       "</table>\n",
       "<p>1000 rows × 3 columns</p>\n",
       "</div>"
      ],
      "text/plain": [
       "     treatment  intercept  y\n",
       "0            0          1  0\n",
       "1            2          1  3\n",
       "2            2          1  1\n",
       "3            1          1  0\n",
       "4            2          1  0\n",
       "..         ...        ... ..\n",
       "995          2          1  0\n",
       "996          2          1  0\n",
       "997          1          1  0\n",
       "998          1          1  3\n",
       "999          1          1  0\n",
       "\n",
       "[1000 rows x 3 columns]"
      ]
     },
     "execution_count": 261,
     "metadata": {},
     "output_type": "execute_result"
    }
   ],
   "source": [
    "df"
   ]
  },
  {
   "cell_type": "code",
   "execution_count": 240,
   "metadata": {},
   "outputs": [
    {
     "data": {
      "text/html": [
       "<div>\n",
       "<style scoped>\n",
       "    .dataframe tbody tr th:only-of-type {\n",
       "        vertical-align: middle;\n",
       "    }\n",
       "\n",
       "    .dataframe tbody tr th {\n",
       "        vertical-align: top;\n",
       "    }\n",
       "\n",
       "    .dataframe thead th {\n",
       "        text-align: right;\n",
       "    }\n",
       "</style>\n",
       "<table border=\"1\" class=\"dataframe\">\n",
       "  <thead>\n",
       "    <tr style=\"text-align: right;\">\n",
       "      <th></th>\n",
       "      <th></th>\n",
       "      <th>count</th>\n",
       "      <th>mean</th>\n",
       "    </tr>\n",
       "    <tr>\n",
       "      <th>treatment</th>\n",
       "      <th>intercept</th>\n",
       "      <th></th>\n",
       "      <th></th>\n",
       "    </tr>\n",
       "  </thead>\n",
       "  <tbody>\n",
       "    <tr>\n",
       "      <th>0</th>\n",
       "      <th>1</th>\n",
       "      <td>340</td>\n",
       "      <td>0.102941</td>\n",
       "    </tr>\n",
       "    <tr>\n",
       "      <th>1</th>\n",
       "      <th>1</th>\n",
       "      <td>333</td>\n",
       "      <td>0.264264</td>\n",
       "    </tr>\n",
       "    <tr>\n",
       "      <th>2</th>\n",
       "      <th>1</th>\n",
       "      <td>327</td>\n",
       "      <td>0.792049</td>\n",
       "    </tr>\n",
       "  </tbody>\n",
       "</table>\n",
       "</div>"
      ],
      "text/plain": [
       "                     count      mean\n",
       "treatment intercept                 \n",
       "0         1            340  0.102941\n",
       "1         1            333  0.264264\n",
       "2         1            327  0.792049"
      ]
     },
     "execution_count": 240,
     "metadata": {},
     "output_type": "execute_result"
    }
   ],
   "source": [
    "df_mean"
   ]
  },
  {
   "cell_type": "code",
   "execution_count": 242,
   "metadata": {},
   "outputs": [
    {
     "data": {
      "text/plain": [
       "array([[304, 283, 300, 276, 327],\n",
       "       [ 31,  36,  34,  34,  31],\n",
       "       [262, 245, 240, 287, 249],\n",
       "       [ 66,  65,  65,  60,  57],\n",
       "       [  9,   9,  14,  18,  10],\n",
       "       [  3,   7,   2,   3,   2],\n",
       "       [194, 201, 185, 173, 192],\n",
       "       [ 74,  93,  91,  87,  80],\n",
       "       [ 26,  23,  37,  25,  24],\n",
       "       [ 17,  17,  18,  22,  13],\n",
       "       [  6,  10,  10,  11,   8],\n",
       "       [  7,  10,   3,   4,   6],\n",
       "       [  1,   1,   1,   0,   1]])"
      ]
     },
     "execution_count": 242,
     "metadata": {},
     "output_type": "execute_result"
    }
   ],
   "source": [
    "perm_proportions"
   ]
  },
  {
   "cell_type": "code",
   "execution_count": 241,
   "metadata": {},
   "outputs": [
    {
     "data": {
      "text/html": [
       "<div>\n",
       "<style scoped>\n",
       "    .dataframe tbody tr th:only-of-type {\n",
       "        vertical-align: middle;\n",
       "    }\n",
       "\n",
       "    .dataframe tbody tr th {\n",
       "        vertical-align: top;\n",
       "    }\n",
       "\n",
       "    .dataframe thead th {\n",
       "        text-align: right;\n",
       "    }\n",
       "</style>\n",
       "<table border=\"1\" class=\"dataframe\">\n",
       "  <thead>\n",
       "    <tr style=\"text-align: right;\">\n",
       "      <th></th>\n",
       "      <th>treatment</th>\n",
       "      <th>intercept</th>\n",
       "      <th>y</th>\n",
       "      <th>count</th>\n",
       "      <th>proportion</th>\n",
       "    </tr>\n",
       "  </thead>\n",
       "  <tbody>\n",
       "    <tr>\n",
       "      <th>0</th>\n",
       "      <td>0</td>\n",
       "      <td>1</td>\n",
       "      <td>0</td>\n",
       "      <td>305</td>\n",
       "      <td>0.305</td>\n",
       "    </tr>\n",
       "    <tr>\n",
       "      <th>1</th>\n",
       "      <td>0</td>\n",
       "      <td>1</td>\n",
       "      <td>1</td>\n",
       "      <td>35</td>\n",
       "      <td>0.035</td>\n",
       "    </tr>\n",
       "    <tr>\n",
       "      <th>2</th>\n",
       "      <td>1</td>\n",
       "      <td>1</td>\n",
       "      <td>0</td>\n",
       "      <td>260</td>\n",
       "      <td>0.260</td>\n",
       "    </tr>\n",
       "    <tr>\n",
       "      <th>3</th>\n",
       "      <td>1</td>\n",
       "      <td>1</td>\n",
       "      <td>1</td>\n",
       "      <td>60</td>\n",
       "      <td>0.060</td>\n",
       "    </tr>\n",
       "    <tr>\n",
       "      <th>4</th>\n",
       "      <td>1</td>\n",
       "      <td>1</td>\n",
       "      <td>2</td>\n",
       "      <td>11</td>\n",
       "      <td>0.011</td>\n",
       "    </tr>\n",
       "    <tr>\n",
       "      <th>5</th>\n",
       "      <td>1</td>\n",
       "      <td>1</td>\n",
       "      <td>3</td>\n",
       "      <td>2</td>\n",
       "      <td>0.002</td>\n",
       "    </tr>\n",
       "    <tr>\n",
       "      <th>6</th>\n",
       "      <td>2</td>\n",
       "      <td>1</td>\n",
       "      <td>0</td>\n",
       "      <td>187</td>\n",
       "      <td>0.187</td>\n",
       "    </tr>\n",
       "    <tr>\n",
       "      <th>7</th>\n",
       "      <td>2</td>\n",
       "      <td>1</td>\n",
       "      <td>1</td>\n",
       "      <td>80</td>\n",
       "      <td>0.080</td>\n",
       "    </tr>\n",
       "    <tr>\n",
       "      <th>8</th>\n",
       "      <td>2</td>\n",
       "      <td>1</td>\n",
       "      <td>2</td>\n",
       "      <td>26</td>\n",
       "      <td>0.026</td>\n",
       "    </tr>\n",
       "    <tr>\n",
       "      <th>9</th>\n",
       "      <td>2</td>\n",
       "      <td>1</td>\n",
       "      <td>3</td>\n",
       "      <td>19</td>\n",
       "      <td>0.019</td>\n",
       "    </tr>\n",
       "    <tr>\n",
       "      <th>10</th>\n",
       "      <td>2</td>\n",
       "      <td>1</td>\n",
       "      <td>4</td>\n",
       "      <td>8</td>\n",
       "      <td>0.008</td>\n",
       "    </tr>\n",
       "    <tr>\n",
       "      <th>11</th>\n",
       "      <td>2</td>\n",
       "      <td>1</td>\n",
       "      <td>5</td>\n",
       "      <td>6</td>\n",
       "      <td>0.006</td>\n",
       "    </tr>\n",
       "    <tr>\n",
       "      <th>12</th>\n",
       "      <td>2</td>\n",
       "      <td>1</td>\n",
       "      <td>8</td>\n",
       "      <td>1</td>\n",
       "      <td>0.001</td>\n",
       "    </tr>\n",
       "  </tbody>\n",
       "</table>\n",
       "</div>"
      ],
      "text/plain": [
       "    treatment  intercept  y  count  proportion\n",
       "0           0          1  0    305       0.305\n",
       "1           0          1  1     35       0.035\n",
       "2           1          1  0    260       0.260\n",
       "3           1          1  1     60       0.060\n",
       "4           1          1  2     11       0.011\n",
       "5           1          1  3      2       0.002\n",
       "6           2          1  0    187       0.187\n",
       "7           2          1  1     80       0.080\n",
       "8           2          1  2     26       0.026\n",
       "9           2          1  3     19       0.019\n",
       "10          2          1  4      8       0.008\n",
       "11          2          1  5      6       0.006\n",
       "12          2          1  8      1       0.001"
      ]
     },
     "execution_count": 241,
     "metadata": {},
     "output_type": "execute_result"
    }
   ],
   "source": [
    "df_val"
   ]
  },
  {
   "cell_type": "code",
   "execution_count": 228,
   "metadata": {},
   "outputs": [
    {
     "data": {
      "text/plain": [
       "(2, 1000)"
      ]
     },
     "execution_count": 228,
     "metadata": {},
     "output_type": "execute_result"
    }
   ],
   "source": [
    "perm_proportions.shape"
   ]
  },
  {
   "cell_type": "code",
   "execution_count": 227,
   "metadata": {},
   "outputs": [
    {
     "data": {
      "text/html": [
       "<div>\n",
       "<style scoped>\n",
       "    .dataframe tbody tr th:only-of-type {\n",
       "        vertical-align: middle;\n",
       "    }\n",
       "\n",
       "    .dataframe tbody tr th {\n",
       "        vertical-align: top;\n",
       "    }\n",
       "\n",
       "    .dataframe thead th {\n",
       "        text-align: right;\n",
       "    }\n",
       "</style>\n",
       "<table border=\"1\" class=\"dataframe\">\n",
       "  <thead>\n",
       "    <tr style=\"text-align: right;\">\n",
       "      <th></th>\n",
       "      <th></th>\n",
       "      <th>count</th>\n",
       "      <th>mean</th>\n",
       "      <th>proportion</th>\n",
       "    </tr>\n",
       "    <tr>\n",
       "      <th>treatment</th>\n",
       "      <th>intercept</th>\n",
       "      <th></th>\n",
       "      <th></th>\n",
       "      <th></th>\n",
       "    </tr>\n",
       "  </thead>\n",
       "  <tbody>\n",
       "    <tr>\n",
       "      <th>0</th>\n",
       "      <th>1</th>\n",
       "      <td>477</td>\n",
       "      <td>0.094340</td>\n",
       "      <td>0.477</td>\n",
       "    </tr>\n",
       "    <tr>\n",
       "      <th>1</th>\n",
       "      <th>1</th>\n",
       "      <td>523</td>\n",
       "      <td>0.302103</td>\n",
       "      <td>0.523</td>\n",
       "    </tr>\n",
       "  </tbody>\n",
       "</table>\n",
       "</div>"
      ],
      "text/plain": [
       "                     count      mean  proportion\n",
       "treatment intercept                             \n",
       "0         1            477  0.094340       0.477\n",
       "1         1            523  0.302103       0.523"
      ]
     },
     "execution_count": 227,
     "metadata": {},
     "output_type": "execute_result"
    }
   ],
   "source": [
    "df.head(5)"
   ]
  },
  {
   "cell_type": "code",
   "execution_count": 462,
   "metadata": {},
   "outputs": [],
   "source": [
    "# def mean_objective_perm_sep(params):\n",
    "\n",
    "#     y_val, y_counts = df['y'].values.reshape(-1, 1), perm_proportions.reshape(-1, 1, num_perm)/N\n",
    "#     x_mat = df[['treatment', 'intercept']].values\n",
    "\n",
    "#     beta_hat = params.reshape(-1, num_perm, order='F')\n",
    "\n",
    "#     part_1 = ((x_mat*y_val)/p)\n",
    "#     part_1 = part_1.reshape(part_1.shape[0], part_1.shape[1], -1)\n",
    "\n",
    "#     part_2 = x_mat.reshape(x_mat.shape[0], x_mat.shape[1], -1)\n",
    "\n",
    "#     part_3 = np.exp(x_mat@beta_hat).reshape(-1, 1, num_perm)\n",
    "\n",
    "#     momcond = (part_1 - part_2*part_3)\n",
    "#     weighted_momcond = (momcond * y_counts).mean(axis=0)\n",
    "        \n",
    "#     return (weighted_momcond**2).sum(axis=0)\n",
    "\n",
    "\n",
    "def mean_objective_perm(params):\n",
    "\n",
    "    y_val, y_counts = df['y'].values.reshape(-1, 1), perm_proportions.reshape(-1, 1, num_perm)/N\n",
    "    x_mat = df[['treatment', 'intercept']].values\n",
    "\n",
    "    beta_hat = params.reshape(-1, num_perm, order='F')\n",
    "\n",
    "    part_1 = ((x_mat*y_val)/p)\n",
    "\n",
    "    part_1 = part_1.reshape(part_1.shape[0], part_1.shape[1], -1)\n",
    "\n",
    "    part_2 = x_mat.reshape(x_mat.shape[0], x_mat.shape[1], -1)\n",
    "\n",
    "    part_3 = np.exp(x_mat@beta_hat).reshape(-1, 1, num_perm)\n",
    "\n",
    "    momcond = (part_1 - part_2*part_3)\n",
    "#     print('part1', part_1.shape)\n",
    "#     print('part2', part_2.shape)\n",
    "#     print('part3', part_3.shape)\n",
    "#     print('part23', (part_2*part_3).shape)\n",
    "#     print(momcond.shape)\n",
    "#     print(y_counts.shape)\n",
    "    weighted_momcond = (momcond * y_counts).mean(axis=0)\n",
    "        \n",
    "    return (weighted_momcond**2).sum()\n",
    "\n",
    "\n",
    "# def mean_objective(params):\n",
    "\n",
    "#     y_val, y_counts = df['y'].values.reshape(-1, 1), df['proportion'].values.reshape(-1, 1)\n",
    "#     x_mat = df[['treatment', 'intercept']].values\n",
    "    \n",
    "#     beta_hat = params.reshape(-1, 1)\n",
    "\n",
    "#     a =  (x_mat*y_val)/p - (x_mat*np.exp(x_mat@beta_hat))\n",
    "\n",
    "#     momcond = (a * y_counts).mean(axis=0)\n",
    "    \n",
    "#     return (momcond**2).sum()"
   ]
  },
  {
   "cell_type": "code",
   "execution_count": 463,
   "metadata": {},
   "outputs": [
    {
     "name": "stdout",
     "output_type": "stream",
     "text": [
      "hi\n"
     ]
    }
   ],
   "source": [
    "X, z = sim.simulate_true_counts(\n",
    "    N=10000,\n",
    "    mean_coef = np.array([1.0, 0.1]),\n",
    "    var_coef = np.array([1.6, 0.1]),\n",
    "    num_levels=2,\n",
    "    p=1)\n",
    "\n",
    "y = sim.simulate_dropout(z, p, p_sq)\n",
    "\n",
    "num_perm = 1000\n",
    "\n",
    "df = pd.DataFrame(\n",
    "    data=np.hstack([X, y]),\n",
    "    columns=['treatment', 'intercept', 'y'])\n",
    "df = df.groupby(df.columns.tolist()).size().reset_index(name='count')\n",
    "df['proportion'] = df['count'] / X.shape[0]\n",
    "\n",
    "perm_proportions = stats.multinomial.rvs(\n",
    "    N, \n",
    "    df['proportion'], \n",
    "    size=num_perm).T"
   ]
  },
  {
   "cell_type": "code",
   "execution_count": 464,
   "metadata": {},
   "outputs": [
    {
     "data": {
      "text/plain": [
       "(12, 5)"
      ]
     },
     "execution_count": 464,
     "metadata": {},
     "output_type": "execute_result"
    }
   ],
   "source": [
    "df.shape"
   ]
  },
  {
   "cell_type": "code",
   "execution_count": 465,
   "metadata": {},
   "outputs": [],
   "source": [
    "perm_start = np.concatenate([np.array([1.0, 0.1]) for i in range(num_perm)])"
   ]
  },
  {
   "cell_type": "code",
   "execution_count": 466,
   "metadata": {},
   "outputs": [
    {
     "name": "stdout",
     "output_type": "stream",
     "text": [
      "part1 (12, 2, 1)\n",
      "part2 (12, 2, 1)\n",
      "part3 (12, 1, 1000)\n",
      "part23 (12, 2, 1000)\n",
      "(12, 2, 1000)\n",
      "(12, 1, 1000)\n",
      "CPU times: user 4.36 ms, sys: 8 µs, total: 4.36 ms\n",
      "Wall time: 3.24 ms\n"
     ]
    },
    {
     "data": {
      "text/plain": [
       "0.04307654028230871"
      ]
     },
     "execution_count": 466,
     "metadata": {},
     "output_type": "execute_result"
    }
   ],
   "source": [
    "%%time\n",
    "mean_objective_perm(perm_start)"
   ]
  },
  {
   "cell_type": "code",
   "execution_count": 229,
   "metadata": {},
   "outputs": [],
   "source": [
    "EPS = np.MachAr().eps\n",
    "\n",
    "def _get_epsilon(x, s, epsilon, n):\n",
    "    if epsilon is None:\n",
    "        h = EPS**(1. / s) * np.maximum(np.abs(x), 0.1)\n",
    "    else:\n",
    "        if np.isscalar(epsilon):\n",
    "            h = np.empty(n)\n",
    "            h.fill(epsilon)\n",
    "        else:  # pragma : no cover\n",
    "            h = np.asarray(epsilon)\n",
    "            if h.shape != x.shape:\n",
    "                raise ValueError(\"If h is not a scalar it must have the same\"\n",
    "                                 \" shape as x.\")\n",
    "    return h\n",
    "\n",
    "def approx_fprime(x, f, epsilon=None, args=(), kwargs={}, centered=False):\n",
    "\n",
    "    n = len(x)\n",
    "    # TODO:  add scaled stepsize\n",
    "    f0 = f(*((x,)+args), **kwargs)\n",
    "    dim = np.atleast_1d(f0).shape  # it could be a scalar\n",
    "    grad = np.zeros((n,) + dim, np.promote_types(float, x.dtype))\n",
    "    #print(grad.shape)\n",
    "    ei = np.zeros((n,), float)\n",
    "    \n",
    "    if not centered:\n",
    "        epsilon = _get_epsilon(x, 2, epsilon, n) \n",
    "        for k in range(n):\n",
    "            ei[k] = epsilon[k]\n",
    "            grad[k, :] = (f(*((x+ei,) + args), **kwargs) - f0)/epsilon[k]\n",
    "            ei[k] = 0.0\n",
    "    else:\n",
    "        epsilon = _get_epsilon(x, 3, epsilon, n) / 2.\n",
    "        for k in range(len(x)):\n",
    "            ei[k] = epsilon[k]\n",
    "            grad[k, :] = (f(*((x+ei,)+args), **kwargs) -\n",
    "                          f(*((x-ei,)+args), **kwargs))/(2 * epsilon[k])\n",
    "            ei[k] = 0.0\n",
    "    return grad.squeeze().T\n",
    "\n",
    "\n",
    "def mean_gradient(x, num_features=2, epsilon=None, args=(), kwargs={}):\n",
    "    \n",
    "    f_sep = mean_objective_perm\n",
    "    n = len(x)\n",
    "    f0 = f_sep(*((x,)+args), **kwargs)\n",
    "    dim = (1,)\n",
    "    grad = np.zeros((n,) + dim, np.promote_types(float, x.dtype))\n",
    "    epsilon = _get_epsilon(x, 2, None, n)\n",
    "    ei = np.zeros((n,),float)\n",
    "    \n",
    "    for start in range(num_features):\n",
    "        ei[start::num_features] = epsilon[start::num_features]\n",
    "        res = ((f_sep(*((x+ei,) + args), **kwargs) - f0)/epsilon[start::num_features][0]).reshape(-1, 1)\n",
    "        grad[start::num_features, :] = res\n",
    "        ei[start::num_features] = 0.0\n",
    "        \n",
    "    return grad.squeeze().T\n",
    "    \n",
    "    \n",
    "def mean_hessian_p(x, p, num_features=2, epsilon=None, args=(), kwargs={'num_features':2}):\n",
    "    \n",
    "    n = len(x)\n",
    "    f = mean_gradient\n",
    "    f0 = f(*((x,)+args), **kwargs)\n",
    "    epsilon = _get_epsilon(x, 2, None, n)\n",
    "    ei = np.zeros((n,),float)\n",
    "    hess = [] # list of length num_features\n",
    "\n",
    "    for start in range(num_features):\n",
    "        ei[start::num_features] = epsilon[start::num_features]\n",
    "        hess.append((f(*((x+ei,) + args), **kwargs) - f0)/epsilon[start::num_features][0])\n",
    "        ei[start::num_features] = 0.0\n",
    "    \n",
    "    hess = np.vstack(hess)\n",
    "    \n",
    "    Hp_components = [hess[:, i:(i+num_features)]@p[i:(i+num_features)] for i in range(int(x.shape[0]/num_features))]\n",
    "    \n",
    "    return np.concatenate(Hp_components)\n",
    "    "
   ]
  },
  {
   "cell_type": "code",
   "execution_count": 861,
   "metadata": {},
   "outputs": [
    {
     "ename": "ValueError",
     "evalue": "matmul: Input operand 1 has a mismatch in its core dimension 0, with gufunc signature (n?,k),(k,m?)->(n?,m?) (size 20000 is different from 2)",
     "output_type": "error",
     "traceback": [
      "\u001b[0;31m---------------------------------------------------------------------------\u001b[0m",
      "\u001b[0;31mValueError\u001b[0m                                Traceback (most recent call last)",
      "\u001b[0;32m<timed exec>\u001b[0m in \u001b[0;36m<module>\u001b[0;34m\u001b[0m\n",
      "\u001b[0;32m<ipython-input-822-2dc9f3abef98>\u001b[0m in \u001b[0;36mmean_gradient\u001b[0;34m(x, num_features, epsilon, args, kwargs)\u001b[0m\n\u001b[1;32m     42\u001b[0m     \u001b[0mf_sep\u001b[0m \u001b[0;34m=\u001b[0m \u001b[0;32mlambda\u001b[0m \u001b[0mparam\u001b[0m\u001b[0;34m:\u001b[0m \u001b[0mmean_objective\u001b[0m\u001b[0;34m(\u001b[0m\u001b[0mparam\u001b[0m\u001b[0;34m,\u001b[0m \u001b[0mdf_val\u001b[0m\u001b[0;34m[\u001b[0m\u001b[0;34m'y'\u001b[0m\u001b[0;34m]\u001b[0m\u001b[0;34m.\u001b[0m\u001b[0mvalues\u001b[0m\u001b[0;34m.\u001b[0m\u001b[0mreshape\u001b[0m\u001b[0;34m(\u001b[0m\u001b[0;34m-\u001b[0m\u001b[0;36m1\u001b[0m\u001b[0;34m,\u001b[0m \u001b[0;36m1\u001b[0m\u001b[0;34m)\u001b[0m\u001b[0;34m,\u001b[0m \u001b[0mdf_val\u001b[0m\u001b[0;34m[\u001b[0m\u001b[0;34m'proportion'\u001b[0m\u001b[0;34m]\u001b[0m\u001b[0;34m.\u001b[0m\u001b[0mvalues\u001b[0m\u001b[0;34m.\u001b[0m\u001b[0mreshape\u001b[0m\u001b[0;34m(\u001b[0m\u001b[0;34m-\u001b[0m\u001b[0;36m1\u001b[0m\u001b[0;34m,\u001b[0m \u001b[0;36m1\u001b[0m\u001b[0;34m)\u001b[0m\u001b[0;34m,\u001b[0m \u001b[0mdf_val\u001b[0m\u001b[0;34m[\u001b[0m\u001b[0;34m[\u001b[0m\u001b[0;34m'treatment'\u001b[0m\u001b[0;34m,\u001b[0m \u001b[0;34m'intercept'\u001b[0m\u001b[0;34m]\u001b[0m\u001b[0;34m]\u001b[0m\u001b[0;34m.\u001b[0m\u001b[0mvalues\u001b[0m\u001b[0;34m)\u001b[0m\u001b[0;34m\u001b[0m\u001b[0;34m\u001b[0m\u001b[0m\n\u001b[1;32m     43\u001b[0m     \u001b[0mn\u001b[0m \u001b[0;34m=\u001b[0m \u001b[0mlen\u001b[0m\u001b[0;34m(\u001b[0m\u001b[0mx\u001b[0m\u001b[0;34m)\u001b[0m\u001b[0;34m\u001b[0m\u001b[0;34m\u001b[0m\u001b[0m\n\u001b[0;32m---> 44\u001b[0;31m     \u001b[0mf0\u001b[0m \u001b[0;34m=\u001b[0m \u001b[0mf_sep\u001b[0m\u001b[0;34m(\u001b[0m\u001b[0;34m*\u001b[0m\u001b[0;34m(\u001b[0m\u001b[0;34m(\u001b[0m\u001b[0mx\u001b[0m\u001b[0;34m,\u001b[0m\u001b[0;34m)\u001b[0m\u001b[0;34m+\u001b[0m\u001b[0margs\u001b[0m\u001b[0;34m)\u001b[0m\u001b[0;34m,\u001b[0m \u001b[0;34m**\u001b[0m\u001b[0mkwargs\u001b[0m\u001b[0;34m)\u001b[0m\u001b[0;34m\u001b[0m\u001b[0;34m\u001b[0m\u001b[0m\n\u001b[0m\u001b[1;32m     45\u001b[0m     \u001b[0mdim\u001b[0m \u001b[0;34m=\u001b[0m \u001b[0;34m(\u001b[0m\u001b[0;36m1\u001b[0m\u001b[0;34m,\u001b[0m\u001b[0;34m)\u001b[0m\u001b[0;34m\u001b[0m\u001b[0;34m\u001b[0m\u001b[0m\n\u001b[1;32m     46\u001b[0m     \u001b[0mgrad\u001b[0m \u001b[0;34m=\u001b[0m \u001b[0mnp\u001b[0m\u001b[0;34m.\u001b[0m\u001b[0mzeros\u001b[0m\u001b[0;34m(\u001b[0m\u001b[0;34m(\u001b[0m\u001b[0mn\u001b[0m\u001b[0;34m,\u001b[0m\u001b[0;34m)\u001b[0m \u001b[0;34m+\u001b[0m \u001b[0mdim\u001b[0m\u001b[0;34m,\u001b[0m \u001b[0mnp\u001b[0m\u001b[0;34m.\u001b[0m\u001b[0mpromote_types\u001b[0m\u001b[0;34m(\u001b[0m\u001b[0mfloat\u001b[0m\u001b[0;34m,\u001b[0m \u001b[0mx\u001b[0m\u001b[0;34m.\u001b[0m\u001b[0mdtype\u001b[0m\u001b[0;34m)\u001b[0m\u001b[0;34m)\u001b[0m\u001b[0;34m\u001b[0m\u001b[0;34m\u001b[0m\u001b[0m\n",
      "\u001b[0;32m<ipython-input-822-2dc9f3abef98>\u001b[0m in \u001b[0;36m<lambda>\u001b[0;34m(param)\u001b[0m\n\u001b[1;32m     40\u001b[0m \u001b[0;32mdef\u001b[0m \u001b[0mmean_gradient\u001b[0m\u001b[0;34m(\u001b[0m\u001b[0mx\u001b[0m\u001b[0;34m,\u001b[0m \u001b[0mnum_features\u001b[0m\u001b[0;34m=\u001b[0m\u001b[0;36m2\u001b[0m\u001b[0;34m,\u001b[0m \u001b[0mepsilon\u001b[0m\u001b[0;34m=\u001b[0m\u001b[0;32mNone\u001b[0m\u001b[0;34m,\u001b[0m \u001b[0margs\u001b[0m\u001b[0;34m=\u001b[0m\u001b[0;34m(\u001b[0m\u001b[0;34m)\u001b[0m\u001b[0;34m,\u001b[0m \u001b[0mkwargs\u001b[0m\u001b[0;34m=\u001b[0m\u001b[0;34m{\u001b[0m\u001b[0;34m}\u001b[0m\u001b[0;34m)\u001b[0m\u001b[0;34m:\u001b[0m\u001b[0;34m\u001b[0m\u001b[0;34m\u001b[0m\u001b[0m\n\u001b[1;32m     41\u001b[0m \u001b[0;34m\u001b[0m\u001b[0m\n\u001b[0;32m---> 42\u001b[0;31m     \u001b[0mf_sep\u001b[0m \u001b[0;34m=\u001b[0m \u001b[0;32mlambda\u001b[0m \u001b[0mparam\u001b[0m\u001b[0;34m:\u001b[0m \u001b[0mmean_objective\u001b[0m\u001b[0;34m(\u001b[0m\u001b[0mparam\u001b[0m\u001b[0;34m,\u001b[0m \u001b[0mdf_val\u001b[0m\u001b[0;34m[\u001b[0m\u001b[0;34m'y'\u001b[0m\u001b[0;34m]\u001b[0m\u001b[0;34m.\u001b[0m\u001b[0mvalues\u001b[0m\u001b[0;34m.\u001b[0m\u001b[0mreshape\u001b[0m\u001b[0;34m(\u001b[0m\u001b[0;34m-\u001b[0m\u001b[0;36m1\u001b[0m\u001b[0;34m,\u001b[0m \u001b[0;36m1\u001b[0m\u001b[0;34m)\u001b[0m\u001b[0;34m,\u001b[0m \u001b[0mdf_val\u001b[0m\u001b[0;34m[\u001b[0m\u001b[0;34m'proportion'\u001b[0m\u001b[0;34m]\u001b[0m\u001b[0;34m.\u001b[0m\u001b[0mvalues\u001b[0m\u001b[0;34m.\u001b[0m\u001b[0mreshape\u001b[0m\u001b[0;34m(\u001b[0m\u001b[0;34m-\u001b[0m\u001b[0;36m1\u001b[0m\u001b[0;34m,\u001b[0m \u001b[0;36m1\u001b[0m\u001b[0;34m)\u001b[0m\u001b[0;34m,\u001b[0m \u001b[0mdf_val\u001b[0m\u001b[0;34m[\u001b[0m\u001b[0;34m[\u001b[0m\u001b[0;34m'treatment'\u001b[0m\u001b[0;34m,\u001b[0m \u001b[0;34m'intercept'\u001b[0m\u001b[0;34m]\u001b[0m\u001b[0;34m]\u001b[0m\u001b[0;34m.\u001b[0m\u001b[0mvalues\u001b[0m\u001b[0;34m)\u001b[0m\u001b[0;34m\u001b[0m\u001b[0;34m\u001b[0m\u001b[0m\n\u001b[0m\u001b[1;32m     43\u001b[0m     \u001b[0mn\u001b[0m \u001b[0;34m=\u001b[0m \u001b[0mlen\u001b[0m\u001b[0;34m(\u001b[0m\u001b[0mx\u001b[0m\u001b[0;34m)\u001b[0m\u001b[0;34m\u001b[0m\u001b[0;34m\u001b[0m\u001b[0m\n\u001b[1;32m     44\u001b[0m     \u001b[0mf0\u001b[0m \u001b[0;34m=\u001b[0m \u001b[0mf_sep\u001b[0m\u001b[0;34m(\u001b[0m\u001b[0;34m*\u001b[0m\u001b[0;34m(\u001b[0m\u001b[0;34m(\u001b[0m\u001b[0mx\u001b[0m\u001b[0;34m,\u001b[0m\u001b[0;34m)\u001b[0m\u001b[0;34m+\u001b[0m\u001b[0margs\u001b[0m\u001b[0;34m)\u001b[0m\u001b[0;34m,\u001b[0m \u001b[0;34m**\u001b[0m\u001b[0mkwargs\u001b[0m\u001b[0;34m)\u001b[0m\u001b[0;34m\u001b[0m\u001b[0;34m\u001b[0m\u001b[0m\n",
      "\u001b[0;32m<ipython-input-822-2dc9f3abef98>\u001b[0m in \u001b[0;36mmean_objective\u001b[0;34m(params, y_val, y_counts, x_mat)\u001b[0m\n\u001b[1;32m     32\u001b[0m     \u001b[0mbeta_hat\u001b[0m \u001b[0;34m=\u001b[0m \u001b[0mparams\u001b[0m\u001b[0;34m.\u001b[0m\u001b[0mreshape\u001b[0m\u001b[0;34m(\u001b[0m\u001b[0;34m-\u001b[0m\u001b[0;36m1\u001b[0m\u001b[0;34m,\u001b[0m \u001b[0;36m1\u001b[0m\u001b[0;34m)\u001b[0m\u001b[0;34m\u001b[0m\u001b[0;34m\u001b[0m\u001b[0m\n\u001b[1;32m     33\u001b[0m \u001b[0;34m\u001b[0m\u001b[0m\n\u001b[0;32m---> 34\u001b[0;31m     \u001b[0ma\u001b[0m \u001b[0;34m=\u001b[0m  \u001b[0;34m(\u001b[0m\u001b[0mx_mat\u001b[0m\u001b[0;34m*\u001b[0m\u001b[0my_val\u001b[0m\u001b[0;34m)\u001b[0m\u001b[0;34m/\u001b[0m\u001b[0mp\u001b[0m \u001b[0;34m-\u001b[0m \u001b[0;34m(\u001b[0m\u001b[0mx_mat\u001b[0m\u001b[0;34m*\u001b[0m\u001b[0mnp\u001b[0m\u001b[0;34m.\u001b[0m\u001b[0mexp\u001b[0m\u001b[0;34m(\u001b[0m\u001b[0mx_mat\u001b[0m\u001b[0;34m@\u001b[0m\u001b[0mbeta_hat\u001b[0m\u001b[0;34m)\u001b[0m\u001b[0;34m)\u001b[0m\u001b[0;34m\u001b[0m\u001b[0;34m\u001b[0m\u001b[0m\n\u001b[0m\u001b[1;32m     35\u001b[0m \u001b[0;34m\u001b[0m\u001b[0m\n\u001b[1;32m     36\u001b[0m     \u001b[0mmomcond\u001b[0m \u001b[0;34m=\u001b[0m \u001b[0;34m(\u001b[0m\u001b[0ma\u001b[0m \u001b[0;34m*\u001b[0m \u001b[0my_counts\u001b[0m\u001b[0;34m)\u001b[0m\u001b[0;34m.\u001b[0m\u001b[0mmean\u001b[0m\u001b[0;34m(\u001b[0m\u001b[0maxis\u001b[0m\u001b[0;34m=\u001b[0m\u001b[0;36m0\u001b[0m\u001b[0;34m)\u001b[0m\u001b[0;34m\u001b[0m\u001b[0;34m\u001b[0m\u001b[0m\n",
      "\u001b[0;31mValueError\u001b[0m: matmul: Input operand 1 has a mismatch in its core dimension 0, with gufunc signature (n?,k),(k,m?)->(n?,m?) (size 20000 is different from 2)"
     ]
    }
   ],
   "source": [
    "%%time\n",
    "fastgrad = mean_gradient(perm_start)"
   ]
  },
  {
   "cell_type": "code",
   "execution_count": 231,
   "metadata": {},
   "outputs": [
    {
     "name": "stdout",
     "output_type": "stream",
     "text": [
      "CPU times: user 3 µs, sys: 0 ns, total: 3 µs\n",
      "Wall time: 6.44 µs\n"
     ]
    }
   ],
   "source": [
    "%%time\n",
    "#realgrad = approx_fprime(perm_start, mean_objective_perm)"
   ]
  },
  {
   "cell_type": "code",
   "execution_count": 232,
   "metadata": {},
   "outputs": [
    {
     "data": {
      "text/plain": [
       "10000"
      ]
     },
     "execution_count": 232,
     "metadata": {},
     "output_type": "execute_result"
    }
   ],
   "source": [
    "num_perm"
   ]
  },
  {
   "cell_type": "code",
   "execution_count": 233,
   "metadata": {},
   "outputs": [],
   "source": [
    "def optimize_gene(a):\n",
    "    \n",
    "    res = sp.optimize.minimize(\n",
    "        mean_objective_perm, \n",
    "        np.concatenate([np.array([1, 0.1]) for i in range(num_perm)]).reshape(-1, num_perm, order='F'),\n",
    "        method='l-bfgs-b',\n",
    "        jac=mean_gradient,\n",
    "        options={'disp': True})\n",
    "    return res.x"
   ]
  },
  {
   "cell_type": "code",
   "execution_count": 235,
   "metadata": {},
   "outputs": [
    {
     "name": "stdout",
     "output_type": "stream",
     "text": [
      "CPU times: user 7.82 s, sys: 103 ms, total: 7.93 s\n",
      "Wall time: 1.99 s\n"
     ]
    },
    {
     "data": {
      "text/plain": [
       "array([0.99576991, 0.0979397 , 0.99454405, ..., 0.1023534 , 0.9806662 ,\n",
       "       0.09984934])"
      ]
     },
     "execution_count": 235,
     "metadata": {},
     "output_type": "execute_result"
    }
   ],
   "source": [
    "%%time\n",
    "optimize_gene(1)"
   ]
  },
  {
   "cell_type": "markdown",
   "metadata": {},
   "source": [
    "### Parallel optimization"
   ]
  },
  {
   "cell_type": "code",
   "execution_count": 175,
   "metadata": {},
   "outputs": [],
   "source": [
    "import multiprocessing as mp\n",
    "from joblib import Parallel, delayed"
   ]
  },
  {
   "cell_type": "code",
   "execution_count": 178,
   "metadata": {},
   "outputs": [],
   "source": [
    "num_processes = 5"
   ]
  },
  {
   "cell_type": "code",
   "execution_count": 179,
   "metadata": {},
   "outputs": [],
   "source": [
    "pool = mp.Pool(num_processes)"
   ]
  },
  {
   "cell_type": "code",
   "execution_count": 180,
   "metadata": {},
   "outputs": [
    {
     "name": "stdout",
     "output_type": "stream",
     "text": [
      "CPU times: user 13.8 ms, sys: 30.8 ms, total: 44.6 ms\n",
      "Wall time: 3.25 s\n"
     ]
    }
   ],
   "source": [
    "%%time\n",
    "val = pool.map(optimize_gene, [i for i in range(num_processes)])"
   ]
  },
  {
   "cell_type": "code",
   "execution_count": 183,
   "metadata": {},
   "outputs": [
    {
     "name": "stdout",
     "output_type": "stream",
     "text": [
      "CPU times: user 42.4 ms, sys: 19.8 ms, total: 62.3 ms\n",
      "Wall time: 1.78 s\n"
     ]
    }
   ],
   "source": [
    "%%time\n",
    "joblib_val = Parallel(n_jobs=5, prefer='processes') (delayed(optimize_gene)(i) for i in range(num_processes))"
   ]
  },
  {
   "cell_type": "code",
   "execution_count": 189,
   "metadata": {},
   "outputs": [
    {
     "data": {
      "text/plain": [
       "treatment       int64\n",
       "intercept       int64\n",
       "y               int64\n",
       "count           int64\n",
       "proportion    float64\n",
       "dtype: object"
      ]
     },
     "execution_count": 189,
     "metadata": {},
     "output_type": "execute_result"
    }
   ],
   "source": [
    "df.dtypes"
   ]
  },
  {
   "cell_type": "code",
   "execution_count": 187,
   "metadata": {},
   "outputs": [
    {
     "data": {
      "text/plain": [
       "dtype('int64')"
      ]
     },
     "execution_count": 187,
     "metadata": {},
     "output_type": "execute_result"
    }
   ],
   "source": [
    "x_mat.dtype"
   ]
  },
  {
   "cell_type": "code",
   "execution_count": 184,
   "metadata": {},
   "outputs": [
    {
     "data": {
      "text/plain": [
       "array([1.01065454, 0.11349795, 1.05968419, 0.06408559, 0.99991328])"
      ]
     },
     "execution_count": 184,
     "metadata": {},
     "output_type": "execute_result"
    }
   ],
   "source": [
    "val[0][:5]"
   ]
  },
  {
   "cell_type": "code",
   "execution_count": 185,
   "metadata": {},
   "outputs": [
    {
     "data": {
      "text/plain": [
       "array([1.01065478, 0.11349775, 1.05968424, 0.06408555, 0.99991327])"
      ]
     },
     "execution_count": 185,
     "metadata": {},
     "output_type": "execute_result"
    }
   ],
   "source": [
    "joblib_val[0][:5]"
   ]
  },
  {
   "cell_type": "code",
   "execution_count": null,
   "metadata": {},
   "outputs": [],
   "source": []
  },
  {
   "cell_type": "code",
   "execution_count": 106,
   "metadata": {},
   "outputs": [
    {
     "ename": "KeyboardInterrupt",
     "evalue": "",
     "output_type": "error",
     "traceback": [
      "\u001b[0;31m---------------------------------------------------------------------------\u001b[0m",
      "\u001b[0;31mKeyboardInterrupt\u001b[0m                         Traceback (most recent call last)",
      "\u001b[0;32m<timed exec>\u001b[0m in \u001b[0;36m<module>\u001b[0;34m\u001b[0m\n",
      "\u001b[0;32m~/anaconda3/envs/single_cell/lib/python3.7/site-packages/scipy/optimize/_minimize.py\u001b[0m in \u001b[0;36mminimize\u001b[0;34m(fun, x0, args, method, jac, hess, hessp, bounds, constraints, tol, callback, options)\u001b[0m\n\u001b[1;32m    598\u001b[0m     \u001b[0;32melif\u001b[0m \u001b[0mmeth\u001b[0m \u001b[0;34m==\u001b[0m \u001b[0;34m'l-bfgs-b'\u001b[0m\u001b[0;34m:\u001b[0m\u001b[0;34m\u001b[0m\u001b[0;34m\u001b[0m\u001b[0m\n\u001b[1;32m    599\u001b[0m         return _minimize_lbfgsb(fun, x0, args, jac, bounds,\n\u001b[0;32m--> 600\u001b[0;31m                                 callback=callback, **options)\n\u001b[0m\u001b[1;32m    601\u001b[0m     \u001b[0;32melif\u001b[0m \u001b[0mmeth\u001b[0m \u001b[0;34m==\u001b[0m \u001b[0;34m'tnc'\u001b[0m\u001b[0;34m:\u001b[0m\u001b[0;34m\u001b[0m\u001b[0;34m\u001b[0m\u001b[0m\n\u001b[1;32m    602\u001b[0m         return _minimize_tnc(fun, x0, args, jac, bounds, callback=callback,\n",
      "\u001b[0;32m~/anaconda3/envs/single_cell/lib/python3.7/site-packages/scipy/optimize/lbfgsb.py\u001b[0m in \u001b[0;36m_minimize_lbfgsb\u001b[0;34m(fun, x0, args, jac, bounds, disp, maxcor, ftol, gtol, eps, maxfun, maxiter, iprint, callback, maxls, **unknown_options)\u001b[0m\n\u001b[1;32m    333\u001b[0m             \u001b[0;31m# until the completion of the current minimization iteration.\u001b[0m\u001b[0;34m\u001b[0m\u001b[0;34m\u001b[0m\u001b[0;34m\u001b[0m\u001b[0m\n\u001b[1;32m    334\u001b[0m             \u001b[0;31m# Overwrite f and g:\u001b[0m\u001b[0;34m\u001b[0m\u001b[0;34m\u001b[0m\u001b[0;34m\u001b[0m\u001b[0m\n\u001b[0;32m--> 335\u001b[0;31m             \u001b[0mf\u001b[0m\u001b[0;34m,\u001b[0m \u001b[0mg\u001b[0m \u001b[0;34m=\u001b[0m \u001b[0mfunc_and_grad\u001b[0m\u001b[0;34m(\u001b[0m\u001b[0mx\u001b[0m\u001b[0;34m)\u001b[0m\u001b[0;34m\u001b[0m\u001b[0;34m\u001b[0m\u001b[0m\n\u001b[0m\u001b[1;32m    336\u001b[0m         \u001b[0;32melif\u001b[0m \u001b[0mtask_str\u001b[0m\u001b[0;34m.\u001b[0m\u001b[0mstartswith\u001b[0m\u001b[0;34m(\u001b[0m\u001b[0;34mb'NEW_X'\u001b[0m\u001b[0;34m)\u001b[0m\u001b[0;34m:\u001b[0m\u001b[0;34m\u001b[0m\u001b[0;34m\u001b[0m\u001b[0m\n\u001b[1;32m    337\u001b[0m             \u001b[0;31m# new iteration\u001b[0m\u001b[0;34m\u001b[0m\u001b[0;34m\u001b[0m\u001b[0;34m\u001b[0m\u001b[0m\n",
      "\u001b[0;32m~/anaconda3/envs/single_cell/lib/python3.7/site-packages/scipy/optimize/lbfgsb.py\u001b[0m in \u001b[0;36mfunc_and_grad\u001b[0;34m(x)\u001b[0m\n\u001b[1;32m    279\u001b[0m         \u001b[0;32mdef\u001b[0m \u001b[0mfunc_and_grad\u001b[0m\u001b[0;34m(\u001b[0m\u001b[0mx\u001b[0m\u001b[0;34m)\u001b[0m\u001b[0;34m:\u001b[0m\u001b[0;34m\u001b[0m\u001b[0;34m\u001b[0m\u001b[0m\n\u001b[1;32m    280\u001b[0m             \u001b[0mf\u001b[0m \u001b[0;34m=\u001b[0m \u001b[0mfun\u001b[0m\u001b[0;34m(\u001b[0m\u001b[0mx\u001b[0m\u001b[0;34m,\u001b[0m \u001b[0;34m*\u001b[0m\u001b[0margs\u001b[0m\u001b[0;34m)\u001b[0m\u001b[0;34m\u001b[0m\u001b[0;34m\u001b[0m\u001b[0m\n\u001b[0;32m--> 281\u001b[0;31m             \u001b[0mg\u001b[0m \u001b[0;34m=\u001b[0m \u001b[0m_approx_fprime_helper\u001b[0m\u001b[0;34m(\u001b[0m\u001b[0mx\u001b[0m\u001b[0;34m,\u001b[0m \u001b[0mfun\u001b[0m\u001b[0;34m,\u001b[0m \u001b[0mepsilon\u001b[0m\u001b[0;34m,\u001b[0m \u001b[0margs\u001b[0m\u001b[0;34m=\u001b[0m\u001b[0margs\u001b[0m\u001b[0;34m,\u001b[0m \u001b[0mf0\u001b[0m\u001b[0;34m=\u001b[0m\u001b[0mf\u001b[0m\u001b[0;34m)\u001b[0m\u001b[0;34m\u001b[0m\u001b[0;34m\u001b[0m\u001b[0m\n\u001b[0m\u001b[1;32m    282\u001b[0m             \u001b[0;32mreturn\u001b[0m \u001b[0mf\u001b[0m\u001b[0;34m,\u001b[0m \u001b[0mg\u001b[0m\u001b[0;34m\u001b[0m\u001b[0;34m\u001b[0m\u001b[0m\n\u001b[1;32m    283\u001b[0m     \u001b[0;32melse\u001b[0m\u001b[0;34m:\u001b[0m\u001b[0;34m\u001b[0m\u001b[0;34m\u001b[0m\u001b[0m\n",
      "\u001b[0;32m~/anaconda3/envs/single_cell/lib/python3.7/site-packages/scipy/optimize/optimize.py\u001b[0m in \u001b[0;36m_approx_fprime_helper\u001b[0;34m(xk, f, epsilon, args, f0)\u001b[0m\n\u001b[1;32m    694\u001b[0m         \u001b[0mei\u001b[0m\u001b[0;34m[\u001b[0m\u001b[0mk\u001b[0m\u001b[0;34m]\u001b[0m \u001b[0;34m=\u001b[0m \u001b[0;36m1.0\u001b[0m\u001b[0;34m\u001b[0m\u001b[0;34m\u001b[0m\u001b[0m\n\u001b[1;32m    695\u001b[0m         \u001b[0md\u001b[0m \u001b[0;34m=\u001b[0m \u001b[0mepsilon\u001b[0m \u001b[0;34m*\u001b[0m \u001b[0mei\u001b[0m\u001b[0;34m\u001b[0m\u001b[0;34m\u001b[0m\u001b[0m\n\u001b[0;32m--> 696\u001b[0;31m         \u001b[0mgrad\u001b[0m\u001b[0;34m[\u001b[0m\u001b[0mk\u001b[0m\u001b[0;34m]\u001b[0m \u001b[0;34m=\u001b[0m \u001b[0;34m(\u001b[0m\u001b[0mf\u001b[0m\u001b[0;34m(\u001b[0m\u001b[0;34m*\u001b[0m\u001b[0;34m(\u001b[0m\u001b[0;34m(\u001b[0m\u001b[0mxk\u001b[0m \u001b[0;34m+\u001b[0m \u001b[0md\u001b[0m\u001b[0;34m,\u001b[0m\u001b[0;34m)\u001b[0m \u001b[0;34m+\u001b[0m \u001b[0margs\u001b[0m\u001b[0;34m)\u001b[0m\u001b[0;34m)\u001b[0m \u001b[0;34m-\u001b[0m \u001b[0mf0\u001b[0m\u001b[0;34m)\u001b[0m \u001b[0;34m/\u001b[0m \u001b[0md\u001b[0m\u001b[0;34m[\u001b[0m\u001b[0mk\u001b[0m\u001b[0;34m]\u001b[0m\u001b[0;34m\u001b[0m\u001b[0;34m\u001b[0m\u001b[0m\n\u001b[0m\u001b[1;32m    697\u001b[0m         \u001b[0mei\u001b[0m\u001b[0;34m[\u001b[0m\u001b[0mk\u001b[0m\u001b[0;34m]\u001b[0m \u001b[0;34m=\u001b[0m \u001b[0;36m0.0\u001b[0m\u001b[0;34m\u001b[0m\u001b[0;34m\u001b[0m\u001b[0m\n\u001b[1;32m    698\u001b[0m     \u001b[0;32mreturn\u001b[0m \u001b[0mgrad\u001b[0m\u001b[0;34m\u001b[0m\u001b[0;34m\u001b[0m\u001b[0m\n",
      "\u001b[0;32m~/anaconda3/envs/single_cell/lib/python3.7/site-packages/scipy/optimize/optimize.py\u001b[0m in \u001b[0;36mfunction_wrapper\u001b[0;34m(*wrapper_args)\u001b[0m\n\u001b[1;32m    324\u001b[0m     \u001b[0;32mdef\u001b[0m \u001b[0mfunction_wrapper\u001b[0m\u001b[0;34m(\u001b[0m\u001b[0;34m*\u001b[0m\u001b[0mwrapper_args\u001b[0m\u001b[0;34m)\u001b[0m\u001b[0;34m:\u001b[0m\u001b[0;34m\u001b[0m\u001b[0;34m\u001b[0m\u001b[0m\n\u001b[1;32m    325\u001b[0m         \u001b[0mncalls\u001b[0m\u001b[0;34m[\u001b[0m\u001b[0;36m0\u001b[0m\u001b[0;34m]\u001b[0m \u001b[0;34m+=\u001b[0m \u001b[0;36m1\u001b[0m\u001b[0;34m\u001b[0m\u001b[0;34m\u001b[0m\u001b[0m\n\u001b[0;32m--> 326\u001b[0;31m         \u001b[0;32mreturn\u001b[0m \u001b[0mfunction\u001b[0m\u001b[0;34m(\u001b[0m\u001b[0;34m*\u001b[0m\u001b[0;34m(\u001b[0m\u001b[0mwrapper_args\u001b[0m \u001b[0;34m+\u001b[0m \u001b[0margs\u001b[0m\u001b[0;34m)\u001b[0m\u001b[0;34m)\u001b[0m\u001b[0;34m\u001b[0m\u001b[0;34m\u001b[0m\u001b[0m\n\u001b[0m\u001b[1;32m    327\u001b[0m \u001b[0;34m\u001b[0m\u001b[0m\n\u001b[1;32m    328\u001b[0m     \u001b[0;32mreturn\u001b[0m \u001b[0mncalls\u001b[0m\u001b[0;34m,\u001b[0m \u001b[0mfunction_wrapper\u001b[0m\u001b[0;34m\u001b[0m\u001b[0;34m\u001b[0m\u001b[0m\n",
      "\u001b[0;32m<ipython-input-96-8fea5bec1cad>\u001b[0m in \u001b[0;36mmean_objective_perm\u001b[0;34m(params)\u001b[0m\n\u001b[1;32m     35\u001b[0m     \u001b[0mmomcond\u001b[0m \u001b[0;34m=\u001b[0m \u001b[0;34m(\u001b[0m\u001b[0mpart_1\u001b[0m \u001b[0;34m-\u001b[0m \u001b[0mpart_2\u001b[0m\u001b[0;34m*\u001b[0m\u001b[0mpart_3\u001b[0m\u001b[0;34m)\u001b[0m\u001b[0;34m\u001b[0m\u001b[0;34m\u001b[0m\u001b[0m\n\u001b[1;32m     36\u001b[0m     \u001b[0;31m#print(momcond.shape)\u001b[0m\u001b[0;34m\u001b[0m\u001b[0;34m\u001b[0m\u001b[0;34m\u001b[0m\u001b[0m\n\u001b[0;32m---> 37\u001b[0;31m     \u001b[0mweighted_momcond\u001b[0m \u001b[0;34m=\u001b[0m \u001b[0;34m(\u001b[0m\u001b[0mmomcond\u001b[0m \u001b[0;34m*\u001b[0m \u001b[0my_counts\u001b[0m\u001b[0;34m)\u001b[0m\u001b[0;34m.\u001b[0m\u001b[0mmean\u001b[0m\u001b[0;34m(\u001b[0m\u001b[0maxis\u001b[0m\u001b[0;34m=\u001b[0m\u001b[0;36m0\u001b[0m\u001b[0;34m)\u001b[0m\u001b[0;34m\u001b[0m\u001b[0;34m\u001b[0m\u001b[0m\n\u001b[0m\u001b[1;32m     38\u001b[0m \u001b[0;34m\u001b[0m\u001b[0m\n\u001b[1;32m     39\u001b[0m     \u001b[0;32mreturn\u001b[0m \u001b[0mnp\u001b[0m\u001b[0;34m.\u001b[0m\u001b[0mabs\u001b[0m\u001b[0;34m(\u001b[0m\u001b[0mweighted_momcond\u001b[0m\u001b[0;34m)\u001b[0m\u001b[0;34m.\u001b[0m\u001b[0msum\u001b[0m\u001b[0;34m(\u001b[0m\u001b[0;34m)\u001b[0m\u001b[0;34m\u001b[0m\u001b[0;34m\u001b[0m\u001b[0m\n",
      "\u001b[0;32m~/anaconda3/envs/single_cell/lib/python3.7/site-packages/numpy/core/_methods.py\u001b[0m in \u001b[0;36m_mean\u001b[0;34m(a, axis, dtype, out, keepdims)\u001b[0m\n\u001b[1;32m    149\u001b[0m             \u001b[0mis_float16_result\u001b[0m \u001b[0;34m=\u001b[0m \u001b[0;32mTrue\u001b[0m\u001b[0;34m\u001b[0m\u001b[0;34m\u001b[0m\u001b[0m\n\u001b[1;32m    150\u001b[0m \u001b[0;34m\u001b[0m\u001b[0m\n\u001b[0;32m--> 151\u001b[0;31m     \u001b[0mret\u001b[0m \u001b[0;34m=\u001b[0m \u001b[0mumr_sum\u001b[0m\u001b[0;34m(\u001b[0m\u001b[0marr\u001b[0m\u001b[0;34m,\u001b[0m \u001b[0maxis\u001b[0m\u001b[0;34m,\u001b[0m \u001b[0mdtype\u001b[0m\u001b[0;34m,\u001b[0m \u001b[0mout\u001b[0m\u001b[0;34m,\u001b[0m \u001b[0mkeepdims\u001b[0m\u001b[0;34m)\u001b[0m\u001b[0;34m\u001b[0m\u001b[0;34m\u001b[0m\u001b[0m\n\u001b[0m\u001b[1;32m    152\u001b[0m     \u001b[0;32mif\u001b[0m \u001b[0misinstance\u001b[0m\u001b[0;34m(\u001b[0m\u001b[0mret\u001b[0m\u001b[0;34m,\u001b[0m \u001b[0mmu\u001b[0m\u001b[0;34m.\u001b[0m\u001b[0mndarray\u001b[0m\u001b[0;34m)\u001b[0m\u001b[0;34m:\u001b[0m\u001b[0;34m\u001b[0m\u001b[0;34m\u001b[0m\u001b[0m\n\u001b[1;32m    153\u001b[0m         ret = um.true_divide(\n",
      "\u001b[0;31mKeyboardInterrupt\u001b[0m: "
     ]
    }
   ],
   "source": [
    "%%time\n",
    "res = sp.optimize.minimize(\n",
    "    mean_objective_perm, \n",
    "    np.concatenate([np.array([0.9710915, 0.10940933]) for i in range(num_perm)]),\n",
    "    method='l-bfgs-b',\n",
    "    options={'disp': True})\n",
    "print(res.fun)\n",
    "params = res.x.reshape(-1, num_perm, order='F')"
   ]
  },
  {
   "cell_type": "code",
   "execution_count": 581,
   "metadata": {
    "scrolled": true
   },
   "outputs": [
    {
     "name": "stdout",
     "output_type": "stream",
     "text": [
      "Optimization terminated successfully.\n",
      "         Current function value: 0.000000\n",
      "         Iterations: 20\n",
      "         Function evaluations: 84\n",
      "         Gradient evaluations: 21\n",
      "CPU times: user 115 ms, sys: 7.68 ms, total: 123 ms\n",
      "Wall time: 116 ms\n"
     ]
    }
   ],
   "source": [
    "%%time\n",
    "res_one = sp.optimize.minimize(\n",
    "    mean_objective, \n",
    "    np.array([1.5, 0.1]),\n",
    "    method='BFGS',\n",
    "    options={'disp': True})"
   ]
  },
  {
   "cell_type": "code",
   "execution_count": 582,
   "metadata": {},
   "outputs": [],
   "source": [
    "# %%time\n",
    "# res = sp.optimize.minimize(\n",
    "#     mean_objective_perm, \n",
    "#     np.concatenate([np.array([1.5, 0.1]) for i in range(num_perm)]),\n",
    "#     method='l-bfgs-b',\n",
    "#     options={'disp': True})\n",
    "# params = res.x.reshape(-1, num_perm, order='F')"
   ]
  },
  {
   "cell_type": "code",
   "execution_count": 51,
   "metadata": {},
   "outputs": [
    {
     "ename": "NameError",
     "evalue": "name 'mean_gradient' is not defined",
     "output_type": "error",
     "traceback": [
      "\u001b[0;31m---------------------------------------------------------------------------\u001b[0m",
      "\u001b[0;31mNameError\u001b[0m                                 Traceback (most recent call last)",
      "\u001b[0;32m<timed exec>\u001b[0m in \u001b[0;36m<module>\u001b[0;34m\u001b[0m\n",
      "\u001b[0;31mNameError\u001b[0m: name 'mean_gradient' is not defined"
     ]
    }
   ],
   "source": [
    "%%time\n",
    "res = sp.optimize.minimize(\n",
    "    mean_objective_perm, \n",
    "    np.concatenate([np.array([0.9710915, 0.10940933]) for i in range(num_perm)]),\n",
    "    method='l-bfgs-b',\n",
    "    jac=mean_gradient,\n",
    "    options={'disp': True})\n",
    "print(res.fun)\n",
    "params = res.x.reshape(-1, num_perm, order='F')"
   ]
  },
  {
   "cell_type": "markdown",
   "metadata": {},
   "source": [
    "### Gradient of the mean objective"
   ]
  },
  {
   "cell_type": "code",
   "execution_count": 308,
   "metadata": {},
   "outputs": [],
   "source": [
    "X, z = sim.simulate_true_counts(\n",
    "    N=1000000,\n",
    "    mean_coef = np.array([0.1, 0.1]),\n",
    "    var_coef = np.array([1.6, 0.1]),\n",
    "    num_levels=2,\n",
    "    p=1)\n",
    "y = z\n",
    "W = np.eye(2)\n"
   ]
  },
  {
   "cell_type": "code",
   "execution_count": 315,
   "metadata": {},
   "outputs": [],
   "source": [
    "def objective(beta):\n",
    "    param = beta.reshape(-1, 1)\n",
    "    \n",
    "    G = (X*(z-np.exp(X@param))).mean(axis=0)#.reshape(-1, 1)\n",
    "    \n",
    "    return G.T@W@G\n",
    "\n",
    "def objective_grad(beta):\n",
    "    \n",
    "    return -(2*X*np.exp(X@beta.reshape(-1, 1))).T@X@W@X.T@(z-np.exp(X@beta.reshape(-1, 1)))/5000**2"
   ]
  },
  {
   "cell_type": "code",
   "execution_count": 309,
   "metadata": {},
   "outputs": [
    {
     "data": {
      "text/plain": [
       "(2,)"
      ]
     },
     "execution_count": 309,
     "metadata": {},
     "output_type": "execute_result"
    }
   ],
   "source": [
    "G.shape"
   ]
  },
  {
   "cell_type": "code",
   "execution_count": 310,
   "metadata": {},
   "outputs": [],
   "source": [
    "W = np.eye(2)"
   ]
  },
  {
   "cell_type": "code",
   "execution_count": 311,
   "metadata": {},
   "outputs": [
    {
     "data": {
      "text/plain": [
       "array([[1., 0.],\n",
       "       [0., 1.]])"
      ]
     },
     "execution_count": 311,
     "metadata": {},
     "output_type": "execute_result"
    }
   ],
   "source": [
    "W"
   ]
  },
  {
   "cell_type": "code",
   "execution_count": 312,
   "metadata": {},
   "outputs": [],
   "source": [
    "beta_true =  np.array([0.10, 0.1])#.reshape(-1, 1)"
   ]
  },
  {
   "cell_type": "code",
   "execution_count": 313,
   "metadata": {},
   "outputs": [
    {
     "name": "stdout",
     "output_type": "stream",
     "text": [
      "CPU times: user 89.1 ms, sys: 1.03 ms, total: 90.1 ms\n",
      "Wall time: 88 ms\n"
     ]
    }
   ],
   "source": [
    "%%time\n",
    "num_grad = opt.approx_fprime(beta_true,objective , np.sqrt(np.finfo(float).eps))\n"
   ]
  },
  {
   "cell_type": "code",
   "execution_count": 314,
   "metadata": {},
   "outputs": [
    {
     "name": "stdout",
     "output_type": "stream",
     "text": [
      "CPU times: user 72.3 ms, sys: 944 µs, total: 73.3 ms\n",
      "Wall time: 71.3 ms\n"
     ]
    }
   ],
   "source": [
    "%%time\n",
    "ana_grad = objective_grad(beta_true).reshape(-1)\n"
   ]
  },
  {
   "cell_type": "code",
   "execution_count": 304,
   "metadata": {},
   "outputs": [
    {
     "name": "stdout",
     "output_type": "stream",
     "text": [
      "[0.05711382 0.08252242] [0.0571138  0.08252239]\n",
      "3.9533851097632414e-16\n"
     ]
    }
   ],
   "source": [
    "num_grad = opt.approx_fprime(beta_true,objective , np.sqrt(np.finfo(float).eps))\n",
    "ana_grad = objective_grad(beta_true).reshape(-1)\n",
    "print(num_grad, ana_grad)\n",
    "print(np.mean((num_grad-ana_grad)**2))"
   ]
  },
  {
   "cell_type": "code",
   "execution_count": 286,
   "metadata": {},
   "outputs": [
    {
     "data": {
      "text/plain": [
       "array([[0.2316969 ],\n",
       "       [0.32807452]])"
      ]
     },
     "execution_count": 286,
     "metadata": {},
     "output_type": "execute_result"
    }
   ],
   "source": [
    "objective_grad(beta_true)"
   ]
  },
  {
   "cell_type": "code",
   "execution_count": 293,
   "metadata": {},
   "outputs": [
    {
     "name": "stdout",
     "output_type": "stream",
     "text": [
      "CPU times: user 2.14 ms, sys: 2 ms, total: 4.15 ms\n",
      "Wall time: 3.49 ms\n"
     ]
    }
   ],
   "source": [
    "%%time\n",
    "a = opt.check_grad(objective, objective_grad, x0=beta_true)"
   ]
  },
  {
   "cell_type": "code",
   "execution_count": 294,
   "metadata": {},
   "outputs": [
    {
     "data": {
      "text/plain": [
       "array([0.09637761, 0.09637765])"
      ]
     },
     "execution_count": 294,
     "metadata": {},
     "output_type": "execute_result"
    }
   ],
   "source": [
    "a"
   ]
  },
  {
   "cell_type": "code",
   "execution_count": 280,
   "metadata": {},
   "outputs": [],
   "source": [
    "def objective(beta):\n",
    "    param = beta.reshape(-1, 1)\n",
    "    \n",
    "    G = (X*(z-np.exp(X@param))).mean(axis=0)#.reshape(-1, 1)\n",
    "    \n",
    "    return G.T@W@G\n",
    "\n",
    "def objective_grad(beta):\n",
    "    \n",
    "    return -(2*X*np.exp(X@beta.reshape(-1, 1))).T@X@W@X.T@(z-np.exp(X@beta.reshape(-1, 1)))/5000**2"
   ]
  },
  {
   "cell_type": "code",
   "execution_count": 258,
   "metadata": {},
   "outputs": [
    {
     "name": "stdout",
     "output_type": "stream",
     "text": [
      "CPU times: user 1.63 ms, sys: 1.02 ms, total: 2.66 ms\n",
      "Wall time: 1.92 ms\n"
     ]
    },
    {
     "data": {
      "text/plain": [
       "array([0.02540858, 0.02540861])"
      ]
     },
     "execution_count": 258,
     "metadata": {},
     "output_type": "execute_result"
    }
   ],
   "source": [
    "%%time\n",
    "opt.check_grad(objective, objective_grad, beta_true)"
   ]
  },
  {
   "cell_type": "code",
   "execution_count": 250,
   "metadata": {},
   "outputs": [],
   "source": [
    "integral_check = np.zeros((50,50))\n",
    "first = np.linspace(0,3,50)\n",
    "second = np.linspace(0,3,50)\n",
    "for i1, f in enumerate(first):\n",
    "    for i2, s in enumerate(second):\n",
    "        integral_check[i1,i2] = np.sum((objective_grad(np.array([f,s]))-opt.approx_fprime(np.array([f,s]), objective, epsilon=1e-2))**2)\n",
    "        "
   ]
  },
  {
   "cell_type": "code",
   "execution_count": 251,
   "metadata": {},
   "outputs": [
    {
     "data": {
      "text/plain": [
       "47185439.320186734"
      ]
     },
     "execution_count": 251,
     "metadata": {},
     "output_type": "execute_result"
    }
   ],
   "source": [
    "integral_check[-1, -1]"
   ]
  },
  {
   "cell_type": "code",
   "execution_count": 254,
   "metadata": {},
   "outputs": [
    {
     "data": {
      "text/plain": [
       "<matplotlib.colorbar.Colorbar at 0x7f28ac8d9ad0>"
      ]
     },
     "execution_count": 254,
     "metadata": {},
     "output_type": "execute_result"
    },
    {
     "data": {
      "image/png": "[encoded data removed]",
      "text/plain": [
       "<Figure size 432x288 with 2 Axes>"
      ]
     },
     "metadata": {
      "needs_background": "light"
     },
     "output_type": "display_data"
    }
   ],
   "source": [
    "plt.imshow(np.log(integral_check),extent=[0,3,3,0])\n",
    "#plt.axis('square')\n",
    "plt.colorbar()"
   ]
  },
  {
   "cell_type": "code",
   "execution_count": 165,
   "metadata": {},
   "outputs": [],
   "source": [
    "# class MeanGMM(GMM):\n",
    "\n",
    "    \n",
    "#     def __init__(self, *args, **kwds):\n",
    "#         # set appropriate counts for moment conditions and parameters\n",
    "#         # TODO: clean up signature\n",
    "#         kwds.setdefault('k_moms', 2)\n",
    "#         kwds.setdefault('k_params', 2)\n",
    "#         super(MeanGMM, self).__init__(*args, **kwds)\n",
    "\n",
    "\n",
    "#     def momcond(self, params):\n",
    "                \n",
    "#         y = self.endog[:, 0].reshape(-1, 1)\n",
    "#         counts = self.endog[:, 1].reshape(-1, 1)\n",
    "        \n",
    "#         x_mat = self.exog\n",
    "\n",
    "#         beta_hat = params.reshape(-1, 1)\n",
    "        \n",
    "#         a =  (x_mat*y)/self.q - (x_mat*np.exp(x_mat@beta_hat))\n",
    "#         return a * counts\n",
    "    \n",
    "# class VarianceGMM(GMM):\n",
    "\n",
    "    \n",
    "#     def __init__(self, *args, **kwds):\n",
    "#         # set appropriate counts for moment conditions and parameters\n",
    "#         # TODO: clean up signature\n",
    "#         kwds.setdefault('k_moms', 2)\n",
    "#         kwds.setdefault('k_params', 2)\n",
    "#         super(VarianceGMM, self).__init__(*args, **kwds)\n",
    "\n",
    "\n",
    "#     def momcond(self, params):\n",
    "                \n",
    "#         y = self.endog[:, 0].reshape(-1, 1)\n",
    "#         counts = self.endog[:, 1].reshape(-1, 1)\n",
    "        \n",
    "#         x_mat = self.exog\n",
    "        \n",
    "#         mean_beta = self.mean_beta.reshape(-1, 1)\n",
    "#         var_beta = params.reshape(-1, 1)\n",
    "        \n",
    "#         a = (x_mat*y**2)/self.q_sq\n",
    "#         b = -(x_mat*y)*(1-self.q_sq/self.q)/self.q_sq\n",
    "#         c = -2*y*np.exp(x_mat@mean_beta)*x_mat/self.q\n",
    "#         d = np.exp(2*x_mat@mean_beta)*x_mat\n",
    "#         e = -x_mat*np.exp(x_mat@(self.gamma*mean_beta + var_beta))\n",
    "#         return counts*(a + b + c + d + e)"
   ]
  },
  {
   "cell_type": "code",
   "execution_count": 177,
   "metadata": {},
   "outputs": [
    {
     "data": {
      "text/plain": [
       "array([3.01462052, 4.11594544])"
      ]
     },
     "execution_count": 177,
     "metadata": {},
     "output_type": "execute_result"
    }
   ],
   "source": [
    "(2*X*np.exp(X@beta_true.reshape(-1, 1))).mean(axis=0)"
   ]
  },
  {
   "cell_type": "code",
   "execution_count": 191,
   "metadata": {},
   "outputs": [
    {
     "data": {
      "text/plain": [
       "array([[0.01481078],\n",
       "       [0.01721467]])"
      ]
     },
     "execution_count": 191,
     "metadata": {},
     "output_type": "execute_result"
    }
   ],
   "source": [
    "-(2*X*np.exp(X@beta_true.reshape(-1, 1))).T@X@W@X.T@(z-np.exp(X@beta_true.reshape(-1, 1)))/100000**2"
   ]
  },
  {
   "cell_type": "code",
   "execution_count": 41,
   "metadata": {},
   "outputs": [
    {
     "name": "stdout",
     "output_type": "stream",
     "text": [
      "(2,)\n"
     ]
    },
    {
     "data": {
      "text/plain": [
       "0.00014312910540704592"
      ]
     },
     "execution_count": 41,
     "metadata": {},
     "output_type": "execute_result"
    }
   ],
   "source": [
    "objective(beta_true)"
   ]
  },
  {
   "cell_type": "markdown",
   "metadata": {},
   "source": [
    "### Poisson vs linear regression"
   ]
  },
  {
   "cell_type": "code",
   "execution_count": 207,
   "metadata": {},
   "outputs": [],
   "source": [
    "X, z = sim.simulate_true_counts(\n",
    "    N=10000,\n",
    "    mean_coef = np.array([2, 3]),\n",
    "    var_coef = np.array([1, 1]),\n",
    "    num_levels=2,\n",
    "    p=1)"
   ]
  },
  {
   "cell_type": "code",
   "execution_count": 205,
   "metadata": {},
   "outputs": [
    {
     "data": {
      "text/plain": [
       "<matplotlib.axes._subplots.AxesSubplot at 0x7feef6b6d0d0>"
      ]
     },
     "execution_count": 205,
     "metadata": {},
     "output_type": "execute_result"
    },
    {
     "data": {
      "image/png": "[encoded data removed]",
      "text/plain": [
       "<Figure size 432x288 with 1 Axes>"
      ]
     },
     "metadata": {
      "needs_background": "light"
     },
     "output_type": "display_data"
    }
   ],
   "source": [
    "sns.violinplot(pd.Series(X[:, 0]), z.ravel())"
   ]
  },
  {
   "cell_type": "code",
   "execution_count": 209,
   "metadata": {},
   "outputs": [],
   "source": [
    "log_z = np.log(z)"
   ]
  },
  {
   "cell_type": "code",
   "execution_count": 216,
   "metadata": {},
   "outputs": [
    {
     "data": {
      "text/html": [
       "<table class=\"simpletable\">\n",
       "<caption>Generalized Linear Model Regression Results</caption>\n",
       "<tr>\n",
       "  <th>Dep. Variable:</th>           <td>y</td>        <th>  No. Observations:  </th>  <td> 10000</td> \n",
       "</tr>\n",
       "<tr>\n",
       "  <th>Model:</th>                  <td>GLM</td>       <th>  Df Residuals:      </th>  <td>  9998</td> \n",
       "</tr>\n",
       "<tr>\n",
       "  <th>Model Family:</th>        <td>Gaussian</td>     <th>  Df Model:          </th>  <td>     1</td> \n",
       "</tr>\n",
       "<tr>\n",
       "  <th>Link Function:</th>       <td>identity</td>     <th>  Scale:             </th> <td> 0.10292</td>\n",
       "</tr>\n",
       "<tr>\n",
       "  <th>Method:</th>                <td>IRLS</td>       <th>  Log-Likelihood:    </th> <td> -2819.4</td>\n",
       "</tr>\n",
       "<tr>\n",
       "  <th>Date:</th>            <td>Mon, 02 Mar 2020</td> <th>  Deviance:          </th> <td>  1029.0</td>\n",
       "</tr>\n",
       "<tr>\n",
       "  <th>Time:</th>                <td>16:33:27</td>     <th>  Pearson chi2:      </th> <td>1.03e+03</td>\n",
       "</tr>\n",
       "<tr>\n",
       "  <th>No. Iterations:</th>          <td>3</td>        <th>                     </th>     <td> </td>   \n",
       "</tr>\n",
       "<tr>\n",
       "  <th>Covariance Type:</th>     <td>nonrobust</td>    <th>                     </th>     <td> </td>   \n",
       "</tr>\n",
       "</table>\n",
       "<table class=\"simpletable\">\n",
       "<tr>\n",
       "    <td></td>       <th>coef</th>     <th>std err</th>      <th>z</th>      <th>P>|z|</th>  <th>[0.025</th>    <th>0.975]</th>  \n",
       "</tr>\n",
       "<tr>\n",
       "  <th>x1</th>    <td>    2.0336</td> <td>    0.006</td> <td>  316.944</td> <td> 0.000</td> <td>    2.021</td> <td>    2.046</td>\n",
       "</tr>\n",
       "<tr>\n",
       "  <th>const</th> <td>    2.9373</td> <td>    0.005</td> <td>  649.226</td> <td> 0.000</td> <td>    2.928</td> <td>    2.946</td>\n",
       "</tr>\n",
       "</table>"
      ],
      "text/plain": [
       "<class 'statsmodels.iolib.summary.Summary'>\n",
       "\"\"\"\n",
       "                 Generalized Linear Model Regression Results                  \n",
       "==============================================================================\n",
       "Dep. Variable:                      y   No. Observations:                10000\n",
       "Model:                            GLM   Df Residuals:                     9998\n",
       "Model Family:                Gaussian   Df Model:                            1\n",
       "Link Function:               identity   Scale:                         0.10292\n",
       "Method:                          IRLS   Log-Likelihood:                -2819.4\n",
       "Date:                Mon, 02 Mar 2020   Deviance:                       1029.0\n",
       "Time:                        16:33:27   Pearson chi2:                 1.03e+03\n",
       "No. Iterations:                     3                                         \n",
       "Covariance Type:            nonrobust                                         \n",
       "==============================================================================\n",
       "                 coef    std err          z      P>|z|      [0.025      0.975]\n",
       "------------------------------------------------------------------------------\n",
       "x1             2.0336      0.006    316.944      0.000       2.021       2.046\n",
       "const          2.9373      0.005    649.226      0.000       2.928       2.946\n",
       "==============================================================================\n",
       "\"\"\""
      ]
     },
     "execution_count": 216,
     "metadata": {},
     "output_type": "execute_result"
    }
   ],
   "source": [
    "gaussian_model = sm.GLM(log_z, X).fit()\n",
    "gaussian_model.summary()"
   ]
  },
  {
   "cell_type": "code",
   "execution_count": 217,
   "metadata": {},
   "outputs": [
    {
     "data": {
      "text/html": [
       "<table class=\"simpletable\">\n",
       "<caption>Generalized Linear Model Regression Results</caption>\n",
       "<tr>\n",
       "  <th>Dep. Variable:</th>           <td>y</td>        <th>  No. Observations:  </th>  <td> 10000</td> \n",
       "</tr>\n",
       "<tr>\n",
       "  <th>Model:</th>                  <td>GLM</td>       <th>  Df Residuals:      </th>  <td>  9998</td> \n",
       "</tr>\n",
       "<tr>\n",
       "  <th>Model Family:</th>         <td>Poisson</td>     <th>  Df Model:          </th>  <td>     1</td> \n",
       "</tr>\n",
       "<tr>\n",
       "  <th>Link Function:</th>          <td>log</td>       <th>  Scale:             </th> <td>  1.0000</td>\n",
       "</tr>\n",
       "<tr>\n",
       "  <th>Method:</th>                <td>IRLS</td>       <th>  Log-Likelihood:    </th> <td> -53826.</td>\n",
       "</tr>\n",
       "<tr>\n",
       "  <th>Date:</th>            <td>Mon, 02 Mar 2020</td> <th>  Deviance:          </th> <td>  49734.</td>\n",
       "</tr>\n",
       "<tr>\n",
       "  <th>Time:</th>                <td>16:33:33</td>     <th>  Pearson chi2:      </th> <td>4.97e+04</td>\n",
       "</tr>\n",
       "<tr>\n",
       "  <th>No. Iterations:</th>          <td>6</td>        <th>                     </th>     <td> </td>   \n",
       "</tr>\n",
       "<tr>\n",
       "  <th>Covariance Type:</th>     <td>nonrobust</td>    <th>                     </th>     <td> </td>   \n",
       "</tr>\n",
       "</table>\n",
       "<table class=\"simpletable\">\n",
       "<tr>\n",
       "    <td></td>       <th>coef</th>     <th>std err</th>      <th>z</th>      <th>P>|z|</th>  <th>[0.025</th>    <th>0.975]</th>  \n",
       "</tr>\n",
       "<tr>\n",
       "  <th>x1</th>    <td>    1.9891</td> <td>    0.003</td> <td>  594.636</td> <td> 0.000</td> <td>    1.983</td> <td>    1.996</td>\n",
       "</tr>\n",
       "<tr>\n",
       "  <th>const</th> <td>    3.0073</td> <td>    0.003</td> <td>  959.183</td> <td> 0.000</td> <td>    3.001</td> <td>    3.013</td>\n",
       "</tr>\n",
       "</table>"
      ],
      "text/plain": [
       "<class 'statsmodels.iolib.summary.Summary'>\n",
       "\"\"\"\n",
       "                 Generalized Linear Model Regression Results                  \n",
       "==============================================================================\n",
       "Dep. Variable:                      y   No. Observations:                10000\n",
       "Model:                            GLM   Df Residuals:                     9998\n",
       "Model Family:                 Poisson   Df Model:                            1\n",
       "Link Function:                    log   Scale:                          1.0000\n",
       "Method:                          IRLS   Log-Likelihood:                -53826.\n",
       "Date:                Mon, 02 Mar 2020   Deviance:                       49734.\n",
       "Time:                        16:33:33   Pearson chi2:                 4.97e+04\n",
       "No. Iterations:                     6                                         \n",
       "Covariance Type:            nonrobust                                         \n",
       "==============================================================================\n",
       "                 coef    std err          z      P>|z|      [0.025      0.975]\n",
       "------------------------------------------------------------------------------\n",
       "x1             1.9891      0.003    594.636      0.000       1.983       1.996\n",
       "const          3.0073      0.003    959.183      0.000       3.001       3.013\n",
       "==============================================================================\n",
       "\"\"\""
      ]
     },
     "execution_count": 217,
     "metadata": {},
     "output_type": "execute_result"
    }
   ],
   "source": [
    "poisson_model = sm.GLM(z, X, family=sm.families.Poisson()).fit()\n",
    "poisson_model.summary()"
   ]
  },
  {
   "cell_type": "code",
   "execution_count": null,
   "metadata": {},
   "outputs": [],
   "source": []
  }
 ],
 "metadata": {
  "kernelspec": {
   "display_name": "Python 3",
   "language": "python",
   "name": "python3"
  },
  "language_info": {
   "codemirror_mode": {
    "name": "ipython",
    "version": 3
   },
   "file_extension": ".py",
   "mimetype": "text/x-python",
   "name": "python",
   "nbconvert_exporter": "python",
   "pygments_lexer": "ipython3",
   "version": "3.7.5"
  }
 },
 "nbformat": 4,
 "nbformat_minor": 4
}
