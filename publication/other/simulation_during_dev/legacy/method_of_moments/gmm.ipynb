{
 "cells": [
  {
   "cell_type": "markdown",
   "metadata": {},
   "source": [
    "# Speed optimization\n",
    "\n",
    "Largest optimization introduced is pre-computing groupwise means"
   ]
  },
  {
   "cell_type": "code",
   "execution_count": 1,
   "metadata": {},
   "outputs": [
    {
     "data": {
      "text/html": [
       "<style>.container { width:100% !important; }</style>"
      ],
      "text/plain": [
       "<IPython.core.display.HTML object>"
      ]
     },
     "metadata": {},
     "output_type": "display_data"
    }
   ],
   "source": [
    "import numpy as np\n",
    "import scipy.stats as stats\n",
    "import time\n",
    "import matplotlib.pyplot as plt\n",
    "import seaborn as sns\n",
    "import pandas as pd\n",
    "import scipy as sp\n",
    "import sklearn.linear_model as sk_lm\n",
    "import statsmodels.api as sm\n",
    "import imp\n",
    "from IPython.core.display import display, HTML\n",
    "display(HTML(\"<style>.container { width:100% !important; }</style>\"))"
   ]
  },
  {
   "cell_type": "code",
   "execution_count": 2,
   "metadata": {},
   "outputs": [],
   "source": [
    "import numpy as np\n",
    "from scipy.special import psi\n",
    "from statsmodels.sandbox.regression.gmm import GMM"
   ]
  },
  {
   "cell_type": "code",
   "execution_count": 3,
   "metadata": {},
   "outputs": [],
   "source": [
    "import sys\n",
    "sys.path.append('/home/mkim7/Github/scrna-parameter-estimation/examples/simulation')\n",
    "import simulate as sim"
   ]
  },
  {
   "cell_type": "code",
   "execution_count": 4,
   "metadata": {},
   "outputs": [],
   "source": [
    "# def mean_objective_perm(params, perm_means, perm_counts):\n",
    "\n",
    "#     x_mat = df_mean[['treatment', 'intercept']].values\n",
    "#     y_val, y_counts = perm_means, perm_counts\n",
    "#     beta_hat = perm_start.reshape(-1, num_perm, order='F')\n",
    "    \n",
    "#     momcond = np.einsum('nm,nk->nmk', x_mat, y_val) - np.einsum('nm,nk->nmk', x_mat,np.exp(x_mat@beta_hat) )\n",
    "#     weighted_momcond = (momcond * y_counts).mean(axis=0)\n",
    "        \n",
    "#     return (weighted_momcond**2).sum()"
   ]
  },
  {
   "cell_type": "code",
   "execution_count": 5,
   "metadata": {},
   "outputs": [],
   "source": [
    "def var_objective_perm(params):\n",
    "    \n",
    "    y_val, y_counts = df['y'].values.reshape(-1, 1), perm_proportions.reshape(-1, 1, num_perm)/N\n",
    "    x_mat = df[['treatment', 'intercept']].values\n",
    "\n",
    "    beta_hat = params.reshape(-1, num_perm, order='F')\n",
    "    mean_beta = self.mean_beta.reshape(-1, 1)\n",
    "\n",
    "    var_beta = params.reshape(-1, 1)\n",
    "\n",
    "    a = (x_mat*y**2)/self.q_sq\n",
    "    b = -(x_mat*y)*(1-self.q_sq/self.q)/self.q_sq\n",
    "    c = -2*y*np.exp(x_mat@mean_beta)*x_mat/self.q\n",
    "    d = np.exp(2*x_mat@mean_beta)*x_mat\n",
    "    e = -x_mat*np.exp(x_mat@(self.gamma*mean_beta + var_beta))\n",
    "    return a + b + c + d + e"
   ]
  },
  {
   "cell_type": "markdown",
   "metadata": {},
   "source": [
    "### Set up some data"
   ]
  },
  {
   "cell_type": "code",
   "execution_count": 117,
   "metadata": {},
   "outputs": [
    {
     "name": "stdout",
     "output_type": "stream",
     "text": [
      "hi\n"
     ]
    }
   ],
   "source": [
    "p = 0.1\n",
    "noise_level = 0.2049755522580501\n",
    "p_sq = (noise_level+1)*p**2\n",
    "N = 10000\n",
    "num_perm = 10000\n",
    "X, z = sim.simulate_true_counts(\n",
    "    N=N,\n",
    "    mean_coef = np.array([1.0, 0.1]),\n",
    "    var_coef = np.array([1.0, 0.1]),\n",
    "    num_levels=4,\n",
    "    p=1)\n",
    "\n",
    "y = sim.simulate_dropout(z, p, p_sq)\n",
    "\n"
   ]
  },
  {
   "cell_type": "markdown",
   "metadata": {},
   "source": [
    "### Preprocessing step - must occur for each gene"
   ]
  },
  {
   "cell_type": "code",
   "execution_count": 118,
   "metadata": {},
   "outputs": [
    {
     "name": "stdout",
     "output_type": "stream",
     "text": [
      "CPU times: user 71.1 ms, sys: 0 ns, total: 71.1 ms\n",
      "Wall time: 70.3 ms\n"
     ]
    }
   ],
   "source": [
    "%%time\n",
    "df = pd.DataFrame(\n",
    "    data=np.hstack([X, y]),\n",
    "    columns=['treatment', 'intercept', 'y'])\n",
    "df_val = df.groupby(df.columns.tolist()).size().reset_index(name='count')\n",
    "df_val['proportion'] = df_val['count'] / X.shape[0]\n",
    "\n",
    "perm_proportions = stats.multinomial.rvs(\n",
    "    N, \n",
    "    df_val['proportion'], \n",
    "    size=num_perm).T\n",
    "\n",
    "df_mean = df.groupby(['treatment', 'intercept']).agg({'treatment':'size', 'y':'mean'}).rename(columns={'treatment':'group_count', 'y':'group_mean'}).reset_index()\n",
    "df_mean['group_id'] = np.arange(df_mean.shape[0])\n",
    "df_val = df_val.merge(df_mean, on=['treatment', 'intercept'], how='left')\n",
    "df_mean['group_proportion'] = df_mean['group_count']/N\n",
    "\n",
    "perm_vals = df_val['y'].values.reshape(-1, 1) * perm_proportions / df_val['group_count'].values.reshape(-1, 1)\n",
    "\n",
    "perm_means = np.zeros((df_mean.shape[0], num_perm))\n",
    "perm_counts = np.zeros((df_mean.shape[0], num_perm))\n",
    "for group_id in range(df_mean.shape[0]):\n",
    "    perm_means[group_id, :] = perm_vals[df_val['group_id']==group_id, :].sum(axis=0)\n",
    "    perm_counts[group_id, :] = perm_proportions[df_val['group_id']==group_id, :].sum(axis=0)"
   ]
  },
  {
   "cell_type": "code",
   "execution_count": 119,
   "metadata": {},
   "outputs": [],
   "source": [
    "def mean_objective_perm(params, perm_means, perm_proportions, df_mean, sep=False):\n",
    "\n",
    "    x_mat = df_mean[['treatment', 'intercept']].values\n",
    "    y_val, y_counts = perm_means, perm_proportions/N\n",
    "    beta_hat = params.reshape(-1, num_perm, order='F')\n",
    "    \n",
    "    momcond = np.einsum('nm,nk->nmk', x_mat, y_val)/p\n",
    "    \n",
    "    momcond -= np.einsum('nm,nk->nmk', x_mat,np.exp(x_mat@beta_hat) )\n",
    "    \n",
    "    weighted_momcond = np.einsum('ijk,ik->ijk', momcond, y_counts).mean(axis=0)\n",
    "        \n",
    "    #return tp1, tp2, tp3, tp4, tp5\n",
    "    return (weighted_momcond**2).sum(axis=0) if sep else (weighted_momcond**2).sum()\n",
    "\n",
    "\n",
    "def mean_objective_perm_old(params, sep=False):\n",
    "\n",
    "    y_val, y_counts = df_val['y'].values.reshape(-1, 1), perm_proportions.reshape(-1, 1, num_perm)/N\n",
    "    x_mat = df_val[['treatment', 'intercept']].values\n",
    "\n",
    "    beta_hat = params.reshape(-1, num_perm, order='F')\n",
    "\n",
    "    part_1 = ((x_mat*y_val)/p)\n",
    "\n",
    "    part_1 = part_1.reshape(part_1.shape[0], part_1.shape[1], -1)\n",
    "\n",
    "    part_2 = x_mat.reshape(x_mat.shape[0], x_mat.shape[1], -1)\n",
    "\n",
    "    part_3 = np.exp(x_mat@beta_hat).reshape(-1, 1, num_perm)\n",
    "\n",
    "    momcond = (part_1 - part_2*part_3)\n",
    "    weighted_momcond = (momcond * y_counts).mean(axis=0)\n",
    "        \n",
    "    return (weighted_momcond**2).sum(axis=0) if sep else (weighted_momcond**2).sum()\n",
    "\n",
    "\n",
    "def mean_objective(params, y_val, y_counts, x_mat):\n",
    "\n",
    "#     y_val, y_counts = df['y'].values.reshape(-1, 1), df['proportion'].values.reshape(-1, 1)\n",
    "#     x_mat = df[['treatment', 'intercept']].values\n",
    "    \n",
    "    beta_hat = params.reshape(-1, 1)\n",
    "\n",
    "    a =  (x_mat*y_val)/p - (x_mat*np.exp(x_mat@beta_hat))\n",
    "\n",
    "    momcond = (a * y_counts).mean(axis=0)\n",
    "    \n",
    "    return (momcond**2).sum()\n",
    "\n",
    "\n"
   ]
  },
  {
   "cell_type": "markdown",
   "metadata": {},
   "source": [
    "### Starting values for large optimization"
   ]
  },
  {
   "cell_type": "code",
   "execution_count": 120,
   "metadata": {},
   "outputs": [],
   "source": [
    "perm_start = np.concatenate([np.array([1.0042849880247497, 0.11339659771439722]) for i in range(num_perm)])"
   ]
  },
  {
   "cell_type": "markdown",
   "metadata": {},
   "source": [
    "### Debugging objective functions"
   ]
  },
  {
   "cell_type": "code",
   "execution_count": 121,
   "metadata": {},
   "outputs": [
    {
     "name": "stdout",
     "output_type": "stream",
     "text": [
      "CPU times: user 41.6 ms, sys: 509 µs, total: 42.1 ms\n",
      "Wall time: 11.9 ms\n"
     ]
    },
    {
     "data": {
      "text/plain": [
       "1.1929421358570647"
      ]
     },
     "execution_count": 121,
     "metadata": {},
     "output_type": "execute_result"
    }
   ],
   "source": [
    "%%time\n",
    "mean_objective_perm_old(perm_start)#[:, :, 0]"
   ]
  },
  {
   "cell_type": "code",
   "execution_count": 122,
   "metadata": {},
   "outputs": [
    {
     "name": "stdout",
     "output_type": "stream",
     "text": [
      "CPU times: user 12.4 ms, sys: 0 ns, total: 12.4 ms\n",
      "Wall time: 2.99 ms\n"
     ]
    }
   ],
   "source": [
    "%%time\n",
    "times = mean_objective_perm(perm_start, perm_means, perm_counts,df_mean)"
   ]
  },
  {
   "cell_type": "code",
   "execution_count": 123,
   "metadata": {},
   "outputs": [
    {
     "name": "stdout",
     "output_type": "stream",
     "text": [
      "CPU times: user 3.24 s, sys: 32.3 ms, total: 3.28 s\n",
      "Wall time: 827 ms\n"
     ]
    },
    {
     "data": {
      "text/plain": [
       "array([0.97502337, 0.15944689, 1.01338053, ..., 0.09476379, 1.00029512,\n",
       "       0.09522667])"
      ]
     },
     "execution_count": 123,
     "metadata": {},
     "output_type": "execute_result"
    }
   ],
   "source": [
    "%%time\n",
    "res_old = sp.optimize.minimize(\n",
    "        lambda x: mean_objective_perm_old(x, sep=False),\n",
    "        perm_start,\n",
    "        method='l-bfgs-b',\n",
    "        jac=lambda x: gradient(x, lambda y: mean_objective_perm_old(y, sep=True), num_features=2),\n",
    "        options={'disp': True})\n",
    "res_old.x"
   ]
  },
  {
   "cell_type": "code",
   "execution_count": 124,
   "metadata": {},
   "outputs": [
    {
     "name": "stdout",
     "output_type": "stream",
     "text": [
      "CPU times: user 670 ms, sys: 15.5 ms, total: 686 ms\n",
      "Wall time: 171 ms\n"
     ]
    },
    {
     "data": {
      "text/plain": [
       "array([0.99622867, 0.12294326, 1.02882352, ..., 0.09082361, 1.01413486,\n",
       "       0.07189467])"
      ]
     },
     "execution_count": 124,
     "metadata": {},
     "output_type": "execute_result"
    }
   ],
   "source": [
    "%%time\n",
    "res = sp.optimize.minimize(\n",
    "        lambda x: mean_objective_perm(x, perm_means, perm_counts, df_mean),\n",
    "        perm_start,\n",
    "        method='l-bfgs-b',\n",
    "        options={'gtol':1e-4,'ftol':1e-5},\n",
    "        jac=lambda x: gradient(x, lambda y:  mean_objective_perm(y, perm_means, perm_counts, df_mean, sep=True), num_features=2))\n",
    "res.x"
   ]
  },
  {
   "cell_type": "code",
   "execution_count": 86,
   "metadata": {},
   "outputs": [
    {
     "data": {
      "text/plain": [
       "<matplotlib.axes._subplots.AxesSubplot at 0x7f4f70b7e850>"
      ]
     },
     "execution_count": 86,
     "metadata": {},
     "output_type": "execute_result"
    },
    {
     "data": {
      "image/png": "[encoded data removed]",
      "text/plain": [
       "<Figure size 432x288 with 1 Axes>"
      ]
     },
     "metadata": {
      "needs_background": "light"
     },
     "output_type": "display_data"
    }
   ],
   "source": [
    "sns.distplot(res.x[::2])\n",
    "sns.distplot(res_old.x[::2])"
   ]
  },
  {
   "cell_type": "code",
   "execution_count": 111,
   "metadata": {},
   "outputs": [
    {
     "name": "stdout",
     "output_type": "stream",
     "text": [
      "CPU times: user 2.31 ms, sys: 111 µs, total: 2.42 ms\n",
      "Wall time: 2.32 ms\n"
     ]
    },
    {
     "data": {
      "text/plain": [
       "array([12.01661249,  4.46427635,  2.36929645,  0.88203297,  2.73516011,\n",
       "        1.02273279, -2.78291517, -1.02554522, -7.79738242, -2.87827038])"
      ]
     },
     "execution_count": 111,
     "metadata": {},
     "output_type": "execute_result"
    }
   ],
   "source": [
    "%%time\n",
    "gradient(perm_start, lambda y: mean_objective_perm(y, perm_means, perm_counts, df_mean, sep=True))"
   ]
  },
  {
   "cell_type": "code",
   "execution_count": 112,
   "metadata": {},
   "outputs": [
    {
     "name": "stdout",
     "output_type": "stream",
     "text": [
      "CPU times: user 2.55 ms, sys: 0 ns, total: 2.55 ms\n",
      "Wall time: 2.43 ms\n"
     ]
    },
    {
     "data": {
      "text/plain": [
       "array([ 0.07111637,  0.02644685,  0.02583715,  0.00960277,  0.01038137,\n",
       "        0.00393316, -0.01510601, -0.00556113, -0.04754406, -0.01753686])"
      ]
     },
     "execution_count": 112,
     "metadata": {},
     "output_type": "execute_result"
    }
   ],
   "source": [
    "%%time\n",
    "gradient(perm_start, lambda y: mean_objective_perm_old(y, sep=True))"
   ]
  },
  {
   "cell_type": "code",
   "execution_count": 118,
   "metadata": {},
   "outputs": [
    {
     "data": {
      "text/plain": [
       "0.5021424940123749"
      ]
     },
     "execution_count": 118,
     "metadata": {},
     "output_type": "execute_result"
    }
   ],
   "source": [
    "perm_start[0]/2"
   ]
  },
  {
   "cell_type": "code",
   "execution_count": 121,
   "metadata": {},
   "outputs": [
    {
     "data": {
      "text/plain": [
       "[array([1.00428499, 0.1133966 ]),\n",
       " array([1.00428499, 0.1133966 ]),\n",
       " array([1.00428499, 0.1133966 ]),\n",
       " array([1.00428499, 0.1133966 ]),\n",
       " array([1.00428499, 0.1133966 ])]"
      ]
     },
     "execution_count": 121,
     "metadata": {},
     "output_type": "execute_result"
    }
   ],
   "source": [
    "np.split(perm_start, perm_start.shape[0]/2)"
   ]
  },
  {
   "cell_type": "code",
   "execution_count": 122,
   "metadata": {},
   "outputs": [
    {
     "data": {
      "text/plain": [
       "array([[1.00428499, 0.1133966 , 0.        , 0.        , 0.        ,\n",
       "        0.        , 0.        , 0.        , 0.        , 0.        ],\n",
       "       [0.        , 0.        , 1.00428499, 0.1133966 , 0.        ,\n",
       "        0.        , 0.        , 0.        , 0.        , 0.        ],\n",
       "       [0.        , 0.        , 0.        , 0.        , 1.00428499,\n",
       "        0.1133966 , 0.        , 0.        , 0.        , 0.        ],\n",
       "       [0.        , 0.        , 0.        , 0.        , 0.        ,\n",
       "        0.        , 1.00428499, 0.1133966 , 0.        , 0.        ],\n",
       "       [0.        , 0.        , 0.        , 0.        , 0.        ,\n",
       "        0.        , 0.        , 0.        , 1.00428499, 0.1133966 ]])"
      ]
     },
     "execution_count": 122,
     "metadata": {},
     "output_type": "execute_result"
    }
   ],
   "source": [
    "sp.linalg.block_diag(*np.split(perm_start, perm_start.shape[0]/2))"
   ]
  },
  {
   "cell_type": "code",
   "execution_count": 13,
   "metadata": {},
   "outputs": [],
   "source": [
    "EPS = np.MachAr().eps\n",
    "\n",
    "def _get_epsilon(x, s, epsilon, n):\n",
    "    if epsilon is None:\n",
    "        h = EPS**(1. / s) * np.maximum(np.abs(x), 0.1)\n",
    "    else:\n",
    "        if np.isscalar(epsilon):\n",
    "            h = np.empty(n)\n",
    "            h.fill(epsilon)\n",
    "        else:  # pragma : no cover\n",
    "            h = np.asarray(epsilon)\n",
    "            if h.shape != x.shape:\n",
    "                raise ValueError(\"If h is not a scalar it must have the same\"\n",
    "                                 \" shape as x.\")\n",
    "    return h\n",
    "\n",
    "def approx_fprime(x, f, epsilon=None, args=(), kwargs={}, centered=False):\n",
    "\n",
    "    n = len(x)\n",
    "    # TODO:  add scaled stepsize\n",
    "    f0 = f(*((x,)+args), **kwargs)\n",
    "    print(f0)\n",
    "    dim = np.atleast_1d(f0).shape  # it could be a scalar\n",
    "    grad = np.zeros((n,) + dim, np.promote_types(float, x.dtype))\n",
    "    #print(grad.shape)\n",
    "    ei = np.zeros((n,), float)\n",
    "    \n",
    "    if not centered:\n",
    "        epsilon = _get_epsilon(x, 2, epsilon, n) \n",
    "        for k in range(n):\n",
    "            ei[k] = epsilon[k]\n",
    "            print(epsilon)\n",
    "            print(f(*((x+ei,) + args), **kwargs))\n",
    "            grad[k, :] = (f(*((x+ei,) + args), **kwargs) - f0)/epsilon[k]\n",
    "            ei[k] = 0.0\n",
    "    else:\n",
    "        epsilon = _get_epsilon(x, 3, epsilon, n) / 2.\n",
    "        for k in range(len(x)):\n",
    "            ei[k] = epsilon[k]\n",
    "            grad[k, :] = (f(*((x+ei,)+args), **kwargs) -\n",
    "                          f(*((x-ei,)+args), **kwargs))/(2 * epsilon[k])\n",
    "            ei[k] = 0.0\n",
    "    return grad.squeeze().T\n",
    "\n",
    "\n",
    "def gradient(x, f_sep, num_features=2, epsilon=None, mat=False, args=(), kwargs={}):\n",
    "    \n",
    "    n = len(x)\n",
    "    f0 = f_sep(*((x,)+args), **kwargs)\n",
    "    dim = (1,)\n",
    "    grad = np.zeros((n,) + dim, np.promote_types(float, x.dtype))\n",
    "    epsilon = _get_epsilon(x, 2, None, n)\n",
    "    ei = np.zeros((n,),float)\n",
    "    \n",
    "    for start in range(num_features):\n",
    "        ei[start::num_features] = epsilon[start::num_features]\n",
    "        res = ((f_sep(*((x+ei,) + args), **kwargs) - f0)/epsilon[start::num_features]).reshape(-1, 1)\n",
    "        grad[start::num_features, :] = res\n",
    "        ei[start::num_features] = 0.0\n",
    "        \n",
    "    grad = grad.squeeze().T\n",
    "    return sp.linalg.block_diag(*np.split(grad, grad.shape[0]/num_features)) if mat else grad\n",
    "        \n",
    "def mean_hessian_p(x, p, num_features=2, epsilon=None, args=(), kwargs={'num_features':2}):\n",
    "    \n",
    "    n = len(x)\n",
    "    f = mean_gradient\n",
    "    f0 = f(*((x,)+args), **kwargs)\n",
    "    epsilon = _get_epsilon(x, 2, None, n)\n",
    "    ei = np.zeros((n,),float)\n",
    "    hess = [] # list of length num_features\n",
    "\n",
    "    for start in range(num_features):\n",
    "        ei[start::num_features] = epsilon[start::num_features]\n",
    "        hess.append((f(*((x+ei,) + args), **kwargs) - f0)/epsilon[start::num_features][0])\n",
    "        ei[start::num_features] = 0.0\n",
    "    \n",
    "    hess = np.vstack(hess)\n",
    "    \n",
    "    Hp_components = [hess[:, i:(i+num_features)]@p[i:(i+num_features)] for i in range(int(x.shape[0]/num_features))]\n",
    "    \n",
    "    return np.concatenate(Hp_components)\n",
    "    "
   ]
  },
  {
   "cell_type": "code",
   "execution_count": 150,
   "metadata": {},
   "outputs": [
    {
     "data": {
      "text/plain": [
       "array([1. , 0.1, 1. , 0.1, 1. , 0.1, 1. , 0.1, 1. , 0.1])"
      ]
     },
     "execution_count": 150,
     "metadata": {},
     "output_type": "execute_result"
    }
   ],
   "source": [
    "perm_start"
   ]
  },
  {
   "cell_type": "code",
   "execution_count": 149,
   "metadata": {},
   "outputs": [
    {
     "data": {
      "text/plain": [
       "array([1., 1., 1., 1., 1.])"
      ]
     },
     "execution_count": 149,
     "metadata": {},
     "output_type": "execute_result"
    }
   ],
   "source": [
    "perm_start[0::2]"
   ]
  },
  {
   "cell_type": "code",
   "execution_count": null,
   "metadata": {},
   "outputs": [],
   "source": []
  }
 ],
 "metadata": {
  "kernelspec": {
   "display_name": "Python 3",
   "language": "python",
   "name": "python3"
  },
  "language_info": {
   "codemirror_mode": {
    "name": "ipython",
    "version": 3
   },
   "file_extension": ".py",
   "mimetype": "text/x-python",
   "name": "python",
   "nbconvert_exporter": "python",
   "pygments_lexer": "ipython3",
   "version": "3.7.5"
  }
 },
 "nbformat": 4,
 "nbformat_minor": 4
}
