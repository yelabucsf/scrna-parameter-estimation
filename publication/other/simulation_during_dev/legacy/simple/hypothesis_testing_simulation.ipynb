{
 "cells": [
  {
   "cell_type": "markdown",
   "metadata": {},
   "source": [
    "# Power and FPR Simulation\n",
    "\n",
    "Power, FPR, and null analysis for differential expression via a series of simulation studies. "
   ]
  },
  {
   "cell_type": "markdown",
   "metadata": {},
   "source": [
    "### Imports"
   ]
  },
  {
   "cell_type": "code",
   "execution_count": 2,
   "metadata": {},
   "outputs": [],
   "source": [
    "import warnings\n",
    "warnings.filterwarnings('ignore')"
   ]
  },
  {
   "cell_type": "code",
   "execution_count": 3,
   "metadata": {},
   "outputs": [],
   "source": [
    "import pandas as pd\n",
    "import matplotlib.pyplot as plt\n",
    "import scanpy.api as sc\n",
    "import scipy as sp\n",
    "import itertools\n",
    "import numpy as np\n",
    "import scipy.stats as stats\n",
    "from scipy.integrate import dblquad\n",
    "import seaborn as sns\n",
    "from statsmodels.stats.multitest import fdrcorrection\n",
    "import imp"
   ]
  },
  {
   "cell_type": "code",
   "execution_count": 4,
   "metadata": {},
   "outputs": [],
   "source": [
    "import sys\n",
    "sys.path.append('/Users/mincheolkim/Github/scrna-parameter-estimation/simplesc')\n",
    "import simplesc"
   ]
  },
  {
   "cell_type": "markdown",
   "metadata": {},
   "source": [
    "### Simulation function\n"
   ]
  },
  {
   "cell_type": "code",
   "execution_count": 23,
   "metadata": {},
   "outputs": [],
   "source": [
    "def simulate_data(mean, cov, p, num_cells, group_name, num_genes=2):\n",
    "    \n",
    "    norm_continuous = stats.multivariate_normal.rvs(mean=mean, cov=cov, size=num_cells)\n",
    "    continuous = np.exp(norm_continuous)\n",
    "    ground_truth_counts = np.round(continuous).astype(np.int64)\n",
    "    observed = np.random.binomial(n=ground_truth_counts, p=p)\n",
    "    \n",
    "    adata = sc.AnnData(observed)\n",
    "    #adata = sc.AnnData(sp.sparse.csr_matrix(observed))\n",
    "    adata.obs['group'] = group_name\n",
    "    adata.var.index = ['gene_1', 'gene_2']\n",
    "    adata.obs.index = ['cell_' + str(i) for i in range(num_cells)]\n",
    "    \n",
    "    return adata"
   ]
  },
  {
   "cell_type": "markdown",
   "metadata": {},
   "source": [
    "### Model fitting function"
   ]
  },
  {
   "cell_type": "code",
   "execution_count": 191,
   "metadata": {},
   "outputs": [],
   "source": [
    "def fit_model(adata, p, group_1='g1', group_2='g2', num_permute=5):\n",
    "    \n",
    "    estimator = simplesc.SingleCellEstimator(\n",
    "        adata, \n",
    "        p=p, \n",
    "        num_permute=num_permute,\n",
    "        group_label='group')\n",
    "    \n",
    "    estimator.compute_observed_statistics(group=group_1)\n",
    "    #estimator.compute_observed_statistics(group=group_2)\n",
    "        \n",
    "    estimator.compute_params(group=group_1)\n",
    "    #estimator.compute_params(group=group_2)\n",
    "\n",
    "    estimator.compute_permuted_statistics(group=group_1)\n",
    "    #estimator.compute_permuted_statistics(group=group_2)\n",
    "    \n",
    "    return estimator"
   ]
  },
  {
   "cell_type": "markdown",
   "metadata": {},
   "source": [
    "### Differential Expression\n",
    "\n",
    "Assumes identical covariance matrices between the two groups."
   ]
  },
  {
   "cell_type": "code",
   "execution_count": 19,
   "metadata": {},
   "outputs": [],
   "source": [
    "# Parameters for FPR simulation\n",
    "num_trials = 100\n",
    "num_cells = 1000\n",
    "p = 0.1\n",
    "p_hat = 0.1\n",
    "\n",
    "mu_1 = np.array([1, 2])\n",
    "cov_1 = np.array([[1.5, 1], [1, 2]])"
   ]
  },
  {
   "cell_type": "code",
   "execution_count": 20,
   "metadata": {},
   "outputs": [
    {
     "ename": "ValueError",
     "evalue": "input must be a square array",
     "output_type": "error",
     "traceback": [
      "\u001b[0;31m---------------------------------------------------------------------------\u001b[0m",
      "\u001b[0;31mValueError\u001b[0m                                Traceback (most recent call last)",
      "\u001b[0;32m<ipython-input-20-3ec639746d4a>\u001b[0m in \u001b[0;36m<module>\u001b[0;34m()\u001b[0m\n\u001b[1;32m      1\u001b[0m \u001b[0madata_fpr\u001b[0m \u001b[0;34m=\u001b[0m     \u001b[0msimulate_data\u001b[0m\u001b[0;34m(\u001b[0m\u001b[0mmu_1\u001b[0m\u001b[0;34m,\u001b[0m \u001b[0mcov_1\u001b[0m\u001b[0;34m,\u001b[0m \u001b[0mp\u001b[0m\u001b[0;34m,\u001b[0m \u001b[0mnum_cells\u001b[0m\u001b[0;34m,\u001b[0m \u001b[0;34m'g1'\u001b[0m\u001b[0;34m)\u001b[0m\u001b[0;34m\u001b[0m\u001b[0;34m\u001b[0m\u001b[0m\n\u001b[1;32m      2\u001b[0m \u001b[0;34m\u001b[0m\u001b[0m\n\u001b[0;32m----> 3\u001b[0;31m \u001b[0mestimator\u001b[0m \u001b[0;34m=\u001b[0m \u001b[0mfit_model\u001b[0m\u001b[0;34m(\u001b[0m\u001b[0madata_fpr\u001b[0m\u001b[0;34m,\u001b[0m \u001b[0mnum_permute\u001b[0m\u001b[0;34m=\u001b[0m\u001b[0;36m100\u001b[0m\u001b[0;34m)\u001b[0m\u001b[0;34m\u001b[0m\u001b[0;34m\u001b[0m\u001b[0m\n\u001b[0m",
      "\u001b[0;32m<ipython-input-17-9893c4496539>\u001b[0m in \u001b[0;36mfit_model\u001b[0;34m(adata, group_1, group_2, num_permute)\u001b[0m\n\u001b[1;32m     10\u001b[0m     \u001b[0;31m#estimator.compute_observed_statistics(group=group_2)\u001b[0m\u001b[0;34m\u001b[0m\u001b[0;34m\u001b[0m\u001b[0;34m\u001b[0m\u001b[0m\n\u001b[1;32m     11\u001b[0m \u001b[0;34m\u001b[0m\u001b[0m\n\u001b[0;32m---> 12\u001b[0;31m     \u001b[0mestimator\u001b[0m\u001b[0;34m.\u001b[0m\u001b[0mcompute_params\u001b[0m\u001b[0;34m(\u001b[0m\u001b[0mgroup\u001b[0m\u001b[0;34m=\u001b[0m\u001b[0mgroup_1\u001b[0m\u001b[0;34m)\u001b[0m\u001b[0;34m\u001b[0m\u001b[0;34m\u001b[0m\u001b[0m\n\u001b[0m\u001b[1;32m     13\u001b[0m     \u001b[0;31m#estimator.compute_params(group=group_2)\u001b[0m\u001b[0;34m\u001b[0m\u001b[0;34m\u001b[0m\u001b[0;34m\u001b[0m\u001b[0m\n\u001b[1;32m     14\u001b[0m \u001b[0;34m\u001b[0m\u001b[0m\n",
      "\u001b[0;32m~/Github/scrna-parameter-estimation/simplesc/simplesc.py\u001b[0m in \u001b[0;36mcompute_params\u001b[0;34m(self, group)\u001b[0m\n\u001b[1;32m    138\u001b[0m \t\t\tself._estimate_lognormal(\n\u001b[1;32m    139\u001b[0m                                 \u001b[0mself\u001b[0m\u001b[0;34m.\u001b[0m\u001b[0mobserved_mean\u001b[0m\u001b[0;34m[\u001b[0m\u001b[0mgroup\u001b[0m\u001b[0;34m]\u001b[0m\u001b[0;34m,\u001b[0m\u001b[0;34m\u001b[0m\u001b[0;34m\u001b[0m\u001b[0m\n\u001b[0;32m--> 140\u001b[0;31m \t\t\t\tself.observed_cov[group])\n\u001b[0m\u001b[1;32m    141\u001b[0m \u001b[0;34m\u001b[0m\u001b[0m\n\u001b[1;32m    142\u001b[0m                 \u001b[0mself\u001b[0m\u001b[0;34m.\u001b[0m\u001b[0mestimated_mean\u001b[0m\u001b[0;34m[\u001b[0m\u001b[0mgroup\u001b[0m\u001b[0;34m]\u001b[0m \u001b[0;34m=\u001b[0m \u001b[0mself\u001b[0m\u001b[0;34m.\u001b[0m\u001b[0mestimated_mean\u001b[0m\u001b[0;34m[\u001b[0m\u001b[0mgroup\u001b[0m\u001b[0;34m]\u001b[0m\u001b[0;34m\u001b[0m\u001b[0;34m\u001b[0m\u001b[0m\n",
      "\u001b[0;32m~/Github/scrna-parameter-estimation/simplesc/simplesc.py\u001b[0m in \u001b[0;36m_estimate_lognormal\u001b[0;34m(self, observed_mean, observed_cov)\u001b[0m\n\u001b[1;32m    109\u001b[0m \t\t\t(1/2) * np.log(\n\u001b[1;32m    110\u001b[0m                                 \u001b[0mnp\u001b[0m\u001b[0;34m.\u001b[0m\u001b[0mdiag\u001b[0m\u001b[0;34m(\u001b[0m\u001b[0mobserved_cov\u001b[0m\u001b[0;34m)\u001b[0m\u001b[0;34m/\u001b[0m\u001b[0mobserved_mean\u001b[0m\u001b[0;34m**\u001b[0m\u001b[0;36m2\u001b[0m \u001b[0;34m-\u001b[0m\u001b[0;31m \u001b[0m\u001b[0;31m\\\u001b[0m\u001b[0;34m\u001b[0m\u001b[0;34m\u001b[0m\u001b[0m\n\u001b[0;32m--> 111\u001b[0;31m \t\t\t\t(1-self.p) / observed_mean + 1)\n\u001b[0m\u001b[1;32m    112\u001b[0m \u001b[0;34m\u001b[0m\u001b[0m\n\u001b[1;32m    113\u001b[0m                 \u001b[0mvariance_vector\u001b[0m \u001b[0;34m=\u001b[0m\u001b[0;31m \u001b[0m\u001b[0;31m\\\u001b[0m\u001b[0;34m\u001b[0m\u001b[0;34m\u001b[0m\u001b[0m\n",
      "\u001b[0;32m/anaconda3/envs/scvi/lib/python3.6/site-packages/numpy/matrixlib/defmatrix.py\u001b[0m in \u001b[0;36m__pow__\u001b[0;34m(self, other)\u001b[0m\n\u001b[1;32m    320\u001b[0m \u001b[0;34m\u001b[0m\u001b[0m\n\u001b[1;32m    321\u001b[0m     \u001b[0;32mdef\u001b[0m \u001b[0m__pow__\u001b[0m\u001b[0;34m(\u001b[0m\u001b[0mself\u001b[0m\u001b[0;34m,\u001b[0m \u001b[0mother\u001b[0m\u001b[0;34m)\u001b[0m\u001b[0;34m:\u001b[0m\u001b[0;34m\u001b[0m\u001b[0;34m\u001b[0m\u001b[0m\n\u001b[0;32m--> 322\u001b[0;31m         \u001b[0;32mreturn\u001b[0m \u001b[0mmatrix_power\u001b[0m\u001b[0;34m(\u001b[0m\u001b[0mself\u001b[0m\u001b[0;34m,\u001b[0m \u001b[0mother\u001b[0m\u001b[0;34m)\u001b[0m\u001b[0;34m\u001b[0m\u001b[0;34m\u001b[0m\u001b[0m\n\u001b[0m\u001b[1;32m    323\u001b[0m \u001b[0;34m\u001b[0m\u001b[0m\n\u001b[1;32m    324\u001b[0m     \u001b[0;32mdef\u001b[0m \u001b[0m__ipow__\u001b[0m\u001b[0;34m(\u001b[0m\u001b[0mself\u001b[0m\u001b[0;34m,\u001b[0m \u001b[0mother\u001b[0m\u001b[0;34m)\u001b[0m\u001b[0;34m:\u001b[0m\u001b[0;34m\u001b[0m\u001b[0;34m\u001b[0m\u001b[0m\n",
      "\u001b[0;32m/anaconda3/envs/scvi/lib/python3.6/site-packages/numpy/matrixlib/defmatrix.py\u001b[0m in \u001b[0;36mmatrix_power\u001b[0;34m(M, n)\u001b[0m\n\u001b[1;32m    137\u001b[0m     \u001b[0mM\u001b[0m \u001b[0;34m=\u001b[0m \u001b[0masanyarray\u001b[0m\u001b[0;34m(\u001b[0m\u001b[0mM\u001b[0m\u001b[0;34m)\u001b[0m\u001b[0;34m\u001b[0m\u001b[0;34m\u001b[0m\u001b[0m\n\u001b[1;32m    138\u001b[0m     \u001b[0;32mif\u001b[0m \u001b[0mM\u001b[0m\u001b[0;34m.\u001b[0m\u001b[0mndim\u001b[0m \u001b[0;34m!=\u001b[0m \u001b[0;36m2\u001b[0m \u001b[0;32mor\u001b[0m \u001b[0mM\u001b[0m\u001b[0;34m.\u001b[0m\u001b[0mshape\u001b[0m\u001b[0;34m[\u001b[0m\u001b[0;36m0\u001b[0m\u001b[0;34m]\u001b[0m \u001b[0;34m!=\u001b[0m \u001b[0mM\u001b[0m\u001b[0;34m.\u001b[0m\u001b[0mshape\u001b[0m\u001b[0;34m[\u001b[0m\u001b[0;36m1\u001b[0m\u001b[0;34m]\u001b[0m\u001b[0;34m:\u001b[0m\u001b[0;34m\u001b[0m\u001b[0;34m\u001b[0m\u001b[0m\n\u001b[0;32m--> 139\u001b[0;31m         \u001b[0;32mraise\u001b[0m \u001b[0mValueError\u001b[0m\u001b[0;34m(\u001b[0m\u001b[0;34m\"input must be a square array\"\u001b[0m\u001b[0;34m)\u001b[0m\u001b[0;34m\u001b[0m\u001b[0;34m\u001b[0m\u001b[0m\n\u001b[0m\u001b[1;32m    140\u001b[0m     \u001b[0;32mif\u001b[0m \u001b[0;32mnot\u001b[0m \u001b[0missubdtype\u001b[0m\u001b[0;34m(\u001b[0m\u001b[0mtype\u001b[0m\u001b[0;34m(\u001b[0m\u001b[0mn\u001b[0m\u001b[0;34m)\u001b[0m\u001b[0;34m,\u001b[0m \u001b[0mN\u001b[0m\u001b[0;34m.\u001b[0m\u001b[0minteger\u001b[0m\u001b[0;34m)\u001b[0m\u001b[0;34m:\u001b[0m\u001b[0;34m\u001b[0m\u001b[0;34m\u001b[0m\u001b[0m\n\u001b[1;32m    141\u001b[0m         \u001b[0;32mraise\u001b[0m \u001b[0mTypeError\u001b[0m\u001b[0;34m(\u001b[0m\u001b[0;34m\"exponent must be an integer\"\u001b[0m\u001b[0;34m)\u001b[0m\u001b[0;34m\u001b[0m\u001b[0;34m\u001b[0m\u001b[0m\n",
      "\u001b[0;31mValueError\u001b[0m: input must be a square array"
     ]
    }
   ],
   "source": [
    "adata_fpr = \\\n",
    "    simulate_data(mu_1, cov_1, p, num_cells, 'g1')\n",
    "\n",
    "estimator = fit_model(adata_fpr, num_permute=100)"
   ]
  },
  {
   "cell_type": "code",
   "execution_count": 16,
   "metadata": {},
   "outputs": [
    {
     "data": {
      "text/plain": [
       "{'g1': array([0.97736369, 2.108691  ]), 'g2': array([1.05508784, 2.12243377])}"
      ]
     },
     "execution_count": 16,
     "metadata": {},
     "output_type": "execute_result"
    }
   ],
   "source": [
    "estimator.estimated_mean"
   ]
  },
  {
   "cell_type": "code",
   "execution_count": null,
   "metadata": {},
   "outputs": [],
   "source": [
    "estimator.estimated_mean"
   ]
  },
  {
   "cell_type": "code",
   "execution_count": 26,
   "metadata": {},
   "outputs": [
    {
     "data": {
      "text/plain": [
       "<module 'simplesc' from '/Users/mincheolkim/Github/scrna-parameter-estimation/simplesc/simplesc.py'>"
      ]
     },
     "execution_count": 26,
     "metadata": {},
     "output_type": "execute_result"
    }
   ],
   "source": [
    "imp.reload(simplesc)"
   ]
  },
  {
   "cell_type": "code",
   "execution_count": 27,
   "metadata": {},
   "outputs": [],
   "source": [
    "g1_pvals = []\n",
    "g2_pvals = []\n",
    "\n",
    "for diff in [0.1, 0.25, 0.5, 0.75, 1, 1.2]:\n",
    "    \n",
    "    g1_pval = np.zeros(num_trials) # different mean\n",
    "    g2_pval = np.zeros(num_trials) # same mean\n",
    "    \n",
    "    mu_2[0] = mu_1[0] + diff\n",
    "    for trial in range(num_trials):\n",
    "\n",
    "        adata_fpr = \\\n",
    "            simulate_data(mu_1, cov_1, p, num_cells, 'g1')\\\n",
    "            .concatenate(\n",
    "                simulate_data(mu_2, cov_2, p, num_cells, 'g2'))\n",
    "\n",
    "        estimator = fit_model(adata_fpr, num_permute=100)\n",
    "\n",
    "        t_stat, null_t, pvals = estimator.differential_expression('g1', 'g2')\n",
    "\n",
    "        g1_pval[trial] = pvals[0]\n",
    "        g2_pval[trial] = pvals[1]\n",
    "    \n",
    "    g1_pvals.append(g1_pval)\n",
    "    g2_pvals.append(g2_pval)\n",
    "\n"
   ]
  },
  {
   "cell_type": "code",
   "execution_count": 28,
   "metadata": {},
   "outputs": [],
   "source": [
    "power = [(pval < 0.05).mean() for pval in g1_pvals]\n",
    "fpr = [(pval < 0.05).mean() for pval in g2_pvals]"
   ]
  },
  {
   "cell_type": "code",
   "execution_count": 35,
   "metadata": {},
   "outputs": [
    {
     "data": {
      "text/plain": [
       "(0, 1)"
      ]
     },
     "execution_count": 35,
     "metadata": {},
     "output_type": "execute_result"
    },
    {
     "data": {
      "image/png": "[encoded data removed]",
      "text/plain": [
       "<Figure size 864x216 with 2 Axes>"
      ]
     },
     "metadata": {},
     "output_type": "display_data"
    }
   ],
   "source": [
    "plt.figure(figsize=(12, 3));\n",
    "plt.subplot(1, 2, 1);\n",
    "plt.plot([0.1, 0.25, 0.5, 0.75, 1, 1.2], power);\n",
    "plt.title('Power'); plt.xlabel('Difference in mean'); plt.ylabel('Power');\n",
    "plt.subplot(1, 2, 2);\n",
    "plt.plot([0.1, 0.25, 0.5, 0.75, 1, 1.2], fpr);\n",
    "plt.title('FPR'); plt.xlabel('Difference in mean'); plt.ylabel('False Positive Rate'); plt.ylim(0, 1)"
   ]
  },
  {
   "cell_type": "markdown",
   "metadata": {},
   "source": [
    "### Differential variance"
   ]
  },
  {
   "cell_type": "code",
   "execution_count": 36,
   "metadata": {},
   "outputs": [],
   "source": [
    "# Parameters for FPR simulation\n",
    "num_trials = 100\n",
    "num_cells = 1000\n",
    "p = 0.1\n",
    "p_hat = 0.1\n",
    "\n",
    "mu_1 = np.array([1.0, 1.5])\n",
    "cov_1 = np.array([[1, 0], [0, 2]])\n",
    "\n",
    "mu_2 = mu_1.copy()\n",
    "cov_2 = cov_1.copy()"
   ]
  },
  {
   "cell_type": "code",
   "execution_count": 37,
   "metadata": {},
   "outputs": [
    {
     "data": {
      "text/plain": [
       "<module 'simplesc' from '/Users/mincheolkim/Github/scrna-parameter-estimation/simplesc/simplesc.py'>"
      ]
     },
     "execution_count": 37,
     "metadata": {},
     "output_type": "execute_result"
    }
   ],
   "source": [
    "imp.reload(simplesc)"
   ]
  },
  {
   "cell_type": "code",
   "execution_count": 38,
   "metadata": {},
   "outputs": [],
   "source": [
    "g1_pvals = []\n",
    "g2_pvals = []\n",
    "\n",
    "for diff in [0.1, 0.25, 0.5, 0.75, 1, 1.2]:\n",
    "    \n",
    "    g1_pval = np.zeros(num_trials) # different mean\n",
    "    g2_pval = np.zeros(num_trials) # same mean\n",
    "    \n",
    "    cov_2[0][0] = cov_1[0][0] + diff\n",
    "    for trial in range(num_trials):\n",
    "\n",
    "        adata_fpr = \\\n",
    "            simulate_data(mu_1, cov_1, p, num_cells, 'g1')\\\n",
    "            .concatenate(\n",
    "                simulate_data(mu_2, cov_2, p, num_cells, 'g2'))\n",
    "\n",
    "        estimator = fit_model(adata_fpr, num_permute=100)\n",
    "\n",
    "        t_stat, null_t, pvals = estimator.differential_variance('g1', 'g2')\n",
    "\n",
    "        g1_pval[trial] = pvals[0]\n",
    "        g2_pval[trial] = pvals[1]\n",
    "    \n",
    "    g1_pvals.append(g1_pval)\n",
    "    g2_pvals.append(g2_pval)\n",
    "\n"
   ]
  },
  {
   "cell_type": "code",
   "execution_count": 39,
   "metadata": {},
   "outputs": [],
   "source": [
    "power = [(pval < 0.05).mean() for pval in g1_pvals]\n",
    "fpr = [(pval < 0.05).mean() for pval in g2_pvals]"
   ]
  },
  {
   "cell_type": "code",
   "execution_count": 41,
   "metadata": {
    "scrolled": true
   },
   "outputs": [
    {
     "data": {
      "text/plain": [
       "(0, 1)"
      ]
     },
     "execution_count": 41,
     "metadata": {},
     "output_type": "execute_result"
    },
    {
     "data": {
      "image/png": "[encoded data removed]",
      "text/plain": [
       "<Figure size 864x216 with 2 Axes>"
      ]
     },
     "metadata": {},
     "output_type": "display_data"
    }
   ],
   "source": [
    "plt.figure(figsize=(12, 3));\n",
    "plt.subplot(1, 2, 1);\n",
    "plt.plot([0.1, 0.25, 0.5, 0.75, 1, 1.2], power);\n",
    "plt.title('Power'); plt.xlabel('Difference in mean'); plt.ylabel('Power');\n",
    "plt.subplot(1, 2, 2);\n",
    "plt.plot([0.1, 0.25, 0.5, 0.75, 1, 1.2], fpr);\n",
    "plt.title('FPR'); plt.xlabel('Difference in mean'); plt.ylabel('False Positive Rate'); plt.ylim(0, 1)"
   ]
  }
 ],
 "metadata": {
  "kernelspec": {
   "display_name": "Python 3",
   "language": "python",
   "name": "python3"
  },
  "language_info": {
   "codemirror_mode": {
    "name": "ipython",
    "version": 3
   },
   "file_extension": ".py",
   "mimetype": "text/x-python",
   "name": "python",
   "nbconvert_exporter": "python",
   "pygments_lexer": "ipython3",
   "version": "3.7.3"
  }
 },
 "nbformat": 4,
 "nbformat_minor": 2
}
