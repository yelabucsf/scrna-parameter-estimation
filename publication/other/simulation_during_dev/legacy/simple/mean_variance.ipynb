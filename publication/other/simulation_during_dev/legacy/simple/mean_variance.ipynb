{
 "cells": [
  {
   "cell_type": "markdown",
   "metadata": {},
   "source": [
    "# Investigating the mean-variance relationship"
   ]
  },
  {
   "cell_type": "markdown",
   "metadata": {},
   "source": [
    "### Imports"
   ]
  },
  {
   "cell_type": "code",
   "execution_count": 40,
   "metadata": {},
   "outputs": [],
   "source": [
    "import warnings\n",
    "warnings.filterwarnings('ignore')"
   ]
  },
  {
   "cell_type": "code",
   "execution_count": 41,
   "metadata": {},
   "outputs": [],
   "source": [
    "import pandas as pd\n",
    "import matplotlib.pyplot as plt\n",
    "import scanpy.api as sc\n",
    "import scipy as sp\n",
    "import itertools\n",
    "import numpy as np\n",
    "import scipy.stats as stats\n",
    "from scipy.integrate import dblquad\n",
    "import seaborn as sns\n",
    "from statsmodels.stats.multitest import fdrcorrection\n",
    "import imp"
   ]
  },
  {
   "cell_type": "code",
   "execution_count": 42,
   "metadata": {},
   "outputs": [],
   "source": [
    "import sys\n",
    "sys.path.append('/Users/mincheolkim/Github/scrna-parameter-estimation/simplesc')\n",
    "import simplesc"
   ]
  },
  {
   "cell_type": "markdown",
   "metadata": {},
   "source": [
    "### Simulation function\n"
   ]
  },
  {
   "cell_type": "code",
   "execution_count": 108,
   "metadata": {},
   "outputs": [],
   "source": [
    "import math\n",
    "\n",
    "def generalized_binom_coef(x,y):\n",
    "    \n",
    "#     if type(x) == int and type(y) == np.ndarray:\n",
    "#         x = np.full_like(y, x)\n",
    "#     if type(y) == int and type(y) == np.ndarray:\n",
    "#         y = np.full_like(x, y)\n",
    "\n",
    "    return sp.special.gamma(x+1) / (sp.special.gamma(y+1) * sp.special.gamma(x-y+1))\n",
    "\n",
    "class toy_rv(stats.rv_discrete):\n",
    "    \n",
    "    def _pmf(self, k, n, p):\n",
    "        \n",
    "        return generalized_binom_coef(n, k) * p ** (k) * (1-p)**(n-k)\n",
    "        "
   ]
  },
  {
   "cell_type": "code",
   "execution_count": 154,
   "metadata": {},
   "outputs": [],
   "source": [
    "def simulate_data(mean, cov, p, num_cells, group_name, num_genes=2):\n",
    "    \n",
    "    norm_continuous = stats.multivariate_normal.rvs(mean=mean, cov=cov, size=num_cells)\n",
    "    continuous = np.exp(norm_continuous)\n",
    "    observed = toy_rv().rvs(n=continuous, p=p)\n",
    "    \n",
    "    adata = sc.AnnData(observed)\n",
    "    #adata = sc.AnnData(sp.sparse.csr_matrix(observed))\n",
    "    adata.obs['group'] = group_name\n",
    "    adata.var.index = ['gene_1', 'gene_2']\n",
    "    adata.obs.index = ['cell_' + str(i) for i in range(num_cells)]\n",
    "    \n",
    "    return adata, continuous"
   ]
  },
  {
   "cell_type": "markdown",
   "metadata": {},
   "source": [
    "### Model fitting function"
   ]
  },
  {
   "cell_type": "code",
   "execution_count": 155,
   "metadata": {},
   "outputs": [],
   "source": [
    "def fit_model(adata, p, group_1='g1', group_2='g2', num_permute=5):\n",
    "    \n",
    "    estimator = simplesc.SingleCellEstimator(\n",
    "        adata, \n",
    "        p=p, \n",
    "        num_permute=num_permute,\n",
    "        group_label='group')\n",
    "    \n",
    "    estimator.compute_observed_statistics(group=group_1)\n",
    "    #estimator.compute_observed_statistics(group=group_2)\n",
    "        \n",
    "    estimator.compute_params(group=group_1)\n",
    "    #estimator.compute_params(group=group_2)\n",
    "\n",
    "    estimator.compute_permuted_statistics(group=group_1)\n",
    "    #estimator.compute_permuted_statistics(group=group_2)\n",
    "    \n",
    "    return estimator"
   ]
  },
  {
   "cell_type": "markdown",
   "metadata": {},
   "source": [
    "### Mean variance dependence"
   ]
  },
  {
   "cell_type": "code",
   "execution_count": 157,
   "metadata": {},
   "outputs": [],
   "source": [
    "# Parameters for FPR simulation\n",
    "num_cells = 5000\n",
    "p = 0.1\n",
    "p_hat = 0.1\n",
    "\n",
    "mu_1 = np.array([1, 1])\n",
    "cov_1 = np.array([[0.1, 0], [0, 2]])"
   ]
  },
  {
   "cell_type": "code",
   "execution_count": 163,
   "metadata": {},
   "outputs": [],
   "source": [
    "mean, var = [], []\n",
    "gt_mean, gt_var = [], []\n",
    "for trial in range(50):\n",
    "\n",
    "    adata, gt_counts = \\\n",
    "        simulate_data(mu_1, cov_1, p, num_cells, 'g1')\n",
    "\n",
    "    estimator = fit_model(adata, p_hat, num_permute=1)\n",
    "\n",
    "    mean.append(estimator.estimated_mean['g1'][0])\n",
    "    var.append(estimator.estimated_cov['g1'][0, 0])\n",
    "    \n",
    "    gt_mean.append(np.log(gt_counts[:, 0][gt_counts[:, 0] > 0]).mean())\n",
    "    gt_var.append(np.log(gt_counts[:, 0][gt_counts[:, 0] > 0]).var())\n",
    "    \n",
    "    \n",
    "    "
   ]
  },
  {
   "cell_type": "code",
   "execution_count": 164,
   "metadata": {},
   "outputs": [
    {
     "data": {
      "text/plain": [
       "<matplotlib.collections.PathCollection at 0x11d90ce80>"
      ]
     },
     "execution_count": 164,
     "metadata": {},
     "output_type": "execute_result"
    },
    {
     "data": {
      "image/png": "[encoded data removed]",
      "text/plain": [
       "<Figure size 432x288 with 1 Axes>"
      ]
     },
     "metadata": {
      "needs_background": "light"
     },
     "output_type": "display_data"
    }
   ],
   "source": [
    "plt.scatter(gt_mean, gt_var)"
   ]
  },
  {
   "cell_type": "code",
   "execution_count": 165,
   "metadata": {},
   "outputs": [
    {
     "data": {
      "text/plain": [
       "<matplotlib.collections.PathCollection at 0x1a2cb6c7b8>"
      ]
     },
     "execution_count": 165,
     "metadata": {},
     "output_type": "execute_result"
    },
    {
     "data": {
      "image/png": "[encoded data removed]",
      "text/plain": [
       "<Figure size 432x288 with 1 Axes>"
      ]
     },
     "metadata": {
      "needs_background": "light"
     },
     "output_type": "display_data"
    }
   ],
   "source": [
    "plt.scatter(mean, var)"
   ]
  },
  {
   "cell_type": "code",
   "execution_count": 197,
   "metadata": {},
   "outputs": [],
   "source": [
    "mu_list = []\n",
    "var_list = []\n",
    "\n",
    "\n",
    "for mu in np.arange(0, 3, 0.01):\n",
    "    \n",
    "    mu_1 = [mu, 1]\n",
    "    #cov_1 = [[mu, 0], [0, 1]]\n",
    "    \n",
    "    adata = \\\n",
    "        simulate_data(mu_1, cov_1, p, num_cells, 'g1')\n",
    "    \n",
    "    estimator = fit_model(adata, num_permute=1, p=p)\n",
    "    \n",
    "    mu_list.append(estimator.estimated_mean['g1'][0])\n",
    "    var_list.append(estimator.estimated_cov['g1'][0,0])"
   ]
  },
  {
   "cell_type": "code",
   "execution_count": 198,
   "metadata": {},
   "outputs": [
    {
     "data": {
      "text/plain": [
       "<matplotlib.collections.PathCollection at 0x1c243b9978>"
      ]
     },
     "execution_count": 198,
     "metadata": {},
     "output_type": "execute_result"
    },
    {
     "data": {
      "image/png": "[encoded data removed]",
      "text/plain": [
       "<Figure size 432x288 with 1 Axes>"
      ]
     },
     "metadata": {},
     "output_type": "display_data"
    }
   ],
   "source": [
    "plt.scatter(mu_list, var_list)"
   ]
  }
 ],
 "metadata": {
  "kernelspec": {
   "display_name": "Python 3",
   "language": "python",
   "name": "python3"
  },
  "language_info": {
   "codemirror_mode": {
    "name": "ipython",
    "version": 3
   },
   "file_extension": ".py",
   "mimetype": "text/x-python",
   "name": "python",
   "nbconvert_exporter": "python",
   "pygments_lexer": "ipython3",
   "version": "3.7.3"
  }
 },
 "nbformat": 4,
 "nbformat_minor": 2
}
