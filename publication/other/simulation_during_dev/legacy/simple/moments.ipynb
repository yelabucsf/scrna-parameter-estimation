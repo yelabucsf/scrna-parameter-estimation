{
 "cells": [
  {
   "cell_type": "code",
   "execution_count": 1,
   "metadata": {},
   "outputs": [],
   "source": [
    "import pandas as pd\n",
    "import matplotlib.pyplot as plt\n",
    "import scanpy.api as sc\n",
    "import scipy as sp\n",
    "import itertools\n",
    "import numpy as np\n",
    "import scipy.stats as stats\n",
    "from scipy.integrate import dblquad\n",
    "import seaborn as sns\n",
    "from statsmodels.stats.multitest import fdrcorrection\n",
    "import imp"
   ]
  },
  {
   "cell_type": "code",
   "execution_count": 24,
   "metadata": {},
   "outputs": [
    {
     "data": {
      "text/plain": [
       "(4000,)"
      ]
     },
     "execution_count": 24,
     "metadata": {},
     "output_type": "execute_result"
    }
   ],
   "source": [
    "np.arange(1, 5, 0.001).shape"
   ]
  },
  {
   "cell_type": "code",
   "execution_count": 50,
   "metadata": {},
   "outputs": [
    {
     "name": "stdout",
     "output_type": "stream",
     "text": [
      "CPU times: user 40 ms, sys: 126 ms, total: 166 ms\n",
      "Wall time: 166 ms\n"
     ]
    }
   ],
   "source": [
    "%%time\n",
    "temp = stats.gamma.rvs(a=np.arange(.001, 12, 1), size=(50000, 12))"
   ]
  },
  {
   "cell_type": "code",
   "execution_count": 25,
   "metadata": {},
   "outputs": [
    {
     "name": "stdout",
     "output_type": "stream",
     "text": [
      "CPU times: user 10.9 s, sys: 1.54 s, total: 12.4 s\n",
      "Wall time: 12.5 s\n"
     ]
    }
   ],
   "source": [
    "%%time\n",
    "temp = stats.gamma.rvs(a=np.arange(1, 5, 0.001), size=(50000, 4000))"
   ]
  },
  {
   "cell_type": "code",
   "execution_count": 3,
   "metadata": {},
   "outputs": [
    {
     "ename": "ValueError",
     "evalue": "object too deep for desired array",
     "output_type": "error",
     "traceback": [
      "\u001b[0;31m---------------------------------------------------------------------------\u001b[0m",
      "\u001b[0;31mValueError\u001b[0m                                Traceback (most recent call last)",
      "\u001b[0;32m<ipython-input-3-1238921be3df>\u001b[0m in \u001b[0;36m<module>\u001b[0;34m\u001b[0m\n\u001b[0;32m----> 1\u001b[0;31m \u001b[0mnp\u001b[0m\u001b[0;34m.\u001b[0m\u001b[0mrandom\u001b[0m\u001b[0;34m.\u001b[0m\u001b[0mdirichlet\u001b[0m\u001b[0;34m(\u001b[0m\u001b[0;34m[\u001b[0m\u001b[0;34m[\u001b[0m\u001b[0;36m1\u001b[0m\u001b[0;34m,\u001b[0m \u001b[0;36m2\u001b[0m\u001b[0;34m,\u001b[0m \u001b[0;36m3\u001b[0m\u001b[0;34m]\u001b[0m\u001b[0;34m,\u001b[0m \u001b[0;34m[\u001b[0m\u001b[0;36m1\u001b[0m\u001b[0;34m,\u001b[0m \u001b[0;36m2\u001b[0m\u001b[0;34m,\u001b[0m \u001b[0;36m3\u001b[0m\u001b[0;34m]\u001b[0m\u001b[0;34m]\u001b[0m\u001b[0;34m,\u001b[0m \u001b[0;36m5\u001b[0m\u001b[0;34m)\u001b[0m\u001b[0;34m\u001b[0m\u001b[0;34m\u001b[0m\u001b[0m\n\u001b[0m",
      "\u001b[0;32mmtrand.pyx\u001b[0m in \u001b[0;36mmtrand.RandomState.dirichlet\u001b[0;34m()\u001b[0m\n",
      "\u001b[0;31mValueError\u001b[0m: object too deep for desired array"
     ]
    }
   ],
   "source": [
    "np.random.dirichlet([[1, 2, 3], [1, 2, 3]], 5)"
   ]
  },
  {
   "cell_type": "code",
   "execution_count": 27,
   "metadata": {},
   "outputs": [],
   "source": [
    "def generalized_binom_coef(x,y):\n",
    "    \n",
    "#     if type(x) == int and type(y) == np.ndarray:\n",
    "#         x = np.full_like(y, x)\n",
    "#     if type(y) == int and type(y) == np.ndarray:\n",
    "#         y = np.full_like(x, y)\n",
    "\n",
    "    return sp.special.gamma(x+1) / (sp.special.gamma(y+1) * sp.special.gamma(x-y+1))\n",
    "\n",
    "class toy_rv(stats.rv_discrete):\n",
    "    \n",
    "    def _pmf(self, k, n, p):\n",
    "        \n",
    "        return generalized_binom_coef(n, k) * p ** (k) * (1-p)**(n-k)\n",
    "        "
   ]
  },
  {
   "cell_type": "code",
   "execution_count": 28,
   "metadata": {},
   "outputs": [],
   "source": [
    "def naive_estimation(observed, p_hat=0.1):\n",
    "    \n",
    "    mu_hat = np.log(observed.mean()) - np.log(p_hat) - (1/2)*np.log(observed.var()/observed.mean()**2 - (1-p_hat)/observed.mean() + 1)\n",
    "    \n",
    "    sigma_hat = np.sqrt(np.log(observed.var()/observed.mean()**2 - (1-p_hat)/observed.mean() + 1))\n",
    "\n",
    "    return mu_hat, sigma_hat"
   ]
  },
  {
   "cell_type": "code",
   "execution_count": 29,
   "metadata": {},
   "outputs": [],
   "source": [
    "def generate_moment_mat(size=2):\n",
    "    \n",
    "    B = np.zeros((size, 2))\n",
    "    B[:, 0] = np.arange(size)+1\n",
    "    B[:, 1] = (np.arange(size)+1)**2/2\n",
    "    return B\n",
    "\n",
    "def get_observed_moments(data, order=2):\n",
    "    \n",
    "    return np.array([(data**(i+1)).mean() for i in range(order)]).reshape(-1, 1)\n",
    "    \n",
    "    first = data.mean()\n",
    "    \n",
    "    second_sum = (data**2).sum()\n",
    "    \n",
    "    if data.max() == 1:\n",
    "        \n",
    "        second_sum += 2\n",
    "    \n",
    "    second = second_sum / data.shape[0]\n",
    "    \n",
    "    third = (data**3).mean()\n",
    "    \n",
    "    if order == 2:\n",
    "        \n",
    "        return np.array([first, second]).reshape(-1, 1)\n",
    "    else:\n",
    "        return np.array([first, second, third]).reshape(-1, 1)\n",
    "\n",
    "def linsys_estimation(data, p=0.1, order=2, lam_max=3):\n",
    "    \n",
    "    if order == 3:\n",
    "        A = np.zeros((3,3))\n",
    "        A[0, 0] = p\n",
    "        A[1, 0] = -p*(p-1)\n",
    "        A[1, 1] = p**2\n",
    "        A[2, 0] = (2*p**3 - 3*p**2 + p)\n",
    "        A[2, 1] = (3*p**2 - 3*p**3)\n",
    "        A[2, 2] = p**3\n",
    "    else:\n",
    "        A = np.zeros((2,2))\n",
    "        A[0, 0] = p\n",
    "        A[1, 0] = -p*(p-1)\n",
    "        A[1, 1] = p**2\n",
    "        \n",
    "    #lam = (1-(data < 1).mean())\n",
    "    lam = 0\n",
    "    logex = np.log(np.linalg.inv(A).dot(get_observed_moments(data, order=order)))\n",
    "    B = generate_moment_mat(size=order)\n",
    "    #R = lam * np.array([1, 1]).reshape(1, -1)\n",
    "    sol = np.linalg.inv(B.T.dot(B) + lam*np.eye(2)).dot(B.T).dot(logex)\n",
    "    #sol = np.linalg.inv(B.T.dot(B)).dot(B.T.dot(logex) - R)\n",
    "    return logex, sol[0, 0], np.sqrt(sol[1, 0])"
   ]
  },
  {
   "cell_type": "code",
   "execution_count": 30,
   "metadata": {},
   "outputs": [],
   "source": [
    "mu = -8\n",
    "sigma = 1.25"
   ]
  },
  {
   "cell_type": "markdown",
   "metadata": {},
   "source": [
    "### Sample mu and sigma"
   ]
  },
  {
   "cell_type": "code",
   "execution_count": 31,
   "metadata": {},
   "outputs": [
    {
     "data": {
      "text/plain": [
       "0.4024922359499622"
      ]
     },
     "execution_count": 31,
     "metadata": {},
     "output_type": "execute_result"
    }
   ],
   "source": [
    "np.sqrt(2)*np.sqrt(0.1)*0.9"
   ]
  },
  {
   "cell_type": "code",
   "execution_count": 32,
   "metadata": {},
   "outputs": [
    {
     "data": {
      "text/plain": [
       "0.8956197863296531"
      ]
     },
     "execution_count": 32,
     "metadata": {},
     "output_type": "execute_result"
    }
   ],
   "source": [
    "0.65238058/np.sqrt(3.76735706)/np.sqrt(0.14083737)"
   ]
  },
  {
   "cell_type": "code",
   "execution_count": 33,
   "metadata": {},
   "outputs": [],
   "source": [
    "parameter_mean = np.array([-1.22026592,  1.30844892])\n",
    "cov = -.4\n",
    "parameter_cov = np.array([[ 3.76735706, -0.65238058],\n",
    "       [-0.65238058,  0.14083737]])\n",
    "\n",
    "sample = stats.multivariate_normal.rvs(mean=parameter_mean, cov=parameter_cov, size=1000)"
   ]
  },
  {
   "cell_type": "code",
   "execution_count": 34,
   "metadata": {},
   "outputs": [],
   "source": [
    "parameter_mean = [-1, 1.4]\n",
    "cov = -.4\n",
    "parameter_cov = [[2, cov], [cov, 0.1]]\n",
    "\n",
    "sample = stats.multivariate_normal.rvs(mean=parameter_mean, cov=parameter_cov, size=1000)"
   ]
  },
  {
   "cell_type": "code",
   "execution_count": 35,
   "metadata": {},
   "outputs": [
    {
     "data": {
      "text/plain": [
       "Text(0.5, 1.0, 'Prior distribution of parameters')"
      ]
     },
     "execution_count": 35,
     "metadata": {},
     "output_type": "execute_result"
    },
    {
     "data": {
      "image/png": "[encoded data removed]",
      "text/plain": [
       "<Figure size 432x288 with 1 Axes>"
      ]
     },
     "metadata": {
      "needs_background": "light"
     },
     "output_type": "display_data"
    }
   ],
   "source": [
    "plt.scatter(sample[:, 0], sample[:, 1], s=1)\n",
    "plt.xlabel('Sampled mean');\n",
    "plt.ylabel('Sampled sigma')\n",
    "plt.title('Prior distribution of parameters')"
   ]
  },
  {
   "cell_type": "code",
   "execution_count": 36,
   "metadata": {},
   "outputs": [],
   "source": [
    "# values_mat = np.arange(0, alpha.shape[0]).reshape(1, -1).T.dot(np.arange(0, alpha.shape[0]).reshape(1, -1))\n",
    "# (np.cov(weights_1.T) * values_mat).sum()"
   ]
  },
  {
   "cell_type": "code",
   "execution_count": 37,
   "metadata": {},
   "outputs": [
    {
     "ename": "SyntaxError",
     "evalue": "can't assign to function call (<ipython-input-37-b7dbf07d6188>, line 12)",
     "output_type": "error",
     "traceback": [
      "\u001b[0;36m  File \u001b[0;32m\"<ipython-input-37-b7dbf07d6188>\"\u001b[0;36m, line \u001b[0;32m12\u001b[0m\n\u001b[0;31m    np.diag(dir_cov) = dir_var\u001b[0m\n\u001b[0m    ^\u001b[0m\n\u001b[0;31mSyntaxError\u001b[0m\u001b[0;31m:\u001b[0m can't assign to function call\n"
     ]
    }
   ],
   "source": [
    "def estimate_permuted_distribution(observed, frac):\n",
    "    \n",
    "    # Get some summaries\n",
    "    counts = np.bincount(observed)\n",
    "    props = counts / counts.sum()\n",
    "    alpha = counts * frac\n",
    "    \n",
    "    # Compute the Dirichlet parameters\n",
    "    dir_mean = stats.dirichlet.mean(alpha+1e-100)\n",
    "    dir_var = stats.dirichlet.var(alpha+1e-100)\n",
    "    dir_cov = -alpha.reshape(-1, 1).dot(alpha.reshape(1, -1))/(alpha.sum() + 1)\n",
    "    np.diag(dir_cov) = dir_var\n",
    "    \n",
    "    \n",
    "    \n",
    "    \n",
    "    "
   ]
  },
  {
   "cell_type": "code",
   "execution_count": 38,
   "metadata": {},
   "outputs": [
    {
     "ename": "NameError",
     "evalue": "name 'alpha' is not defined",
     "output_type": "error",
     "traceback": [
      "\u001b[0;31m---------------------------------------------------------------------------\u001b[0m",
      "\u001b[0;31mNameError\u001b[0m                                 Traceback (most recent call last)",
      "\u001b[0;32m<ipython-input-38-123d24282c53>\u001b[0m in \u001b[0;36m<module>\u001b[0;34m\u001b[0m\n\u001b[0;32m----> 1\u001b[0;31m \u001b[0mstats\u001b[0m\u001b[0;34m.\u001b[0m\u001b[0mdirichlet\u001b[0m\u001b[0;34m.\u001b[0m\u001b[0mvar\u001b[0m\u001b[0;34m(\u001b[0m\u001b[0malpha\u001b[0m\u001b[0;34m+\u001b[0m\u001b[0;36m1e-10\u001b[0m\u001b[0;34m)\u001b[0m\u001b[0;34m\u001b[0m\u001b[0;34m\u001b[0m\u001b[0m\n\u001b[0m",
      "\u001b[0;31mNameError\u001b[0m: name 'alpha' is not defined"
     ]
    }
   ],
   "source": [
    "stats.dirichlet.var(alpha+1e-10)"
   ]
  },
  {
   "cell_type": "code",
   "execution_count": 39,
   "metadata": {},
   "outputs": [
    {
     "ename": "NameError",
     "evalue": "name 'alpha' is not defined",
     "output_type": "error",
     "traceback": [
      "\u001b[0;31m---------------------------------------------------------------------------\u001b[0m",
      "\u001b[0;31mNameError\u001b[0m                                 Traceback (most recent call last)",
      "\u001b[0;32m<ipython-input-39-d046cd9b7ffb>\u001b[0m in \u001b[0;36m<module>\u001b[0;34m\u001b[0m\n\u001b[0;32m----> 1\u001b[0;31m \u001b[0malpha\u001b[0m\u001b[0;34m\u001b[0m\u001b[0;34m\u001b[0m\u001b[0m\n\u001b[0m",
      "\u001b[0;31mNameError\u001b[0m: name 'alpha' is not defined"
     ]
    }
   ],
   "source": [
    "alpha"
   ]
  },
  {
   "cell_type": "code",
   "execution_count": 40,
   "metadata": {},
   "outputs": [],
   "source": [
    "params_1 = [1, 1]\n",
    "\n",
    "lognorm_data_1 = stats.lognorm.rvs(\n",
    "    s=params_1[1], \n",
    "    scale=np.exp(params_1[0]), \n",
    "    size=2000)\n",
    "\n",
    "data_1 = \\\n",
    "    toy_rv().rvs(\n",
    "        n=lognorm_data_1,\n",
    "        p=0.1)"
   ]
  },
  {
   "cell_type": "code",
   "execution_count": 41,
   "metadata": {},
   "outputs": [],
   "source": [
    "params_2 = [-1, 1]\n",
    "\n",
    "lognorm_data_2 = stats.lognorm.rvs(\n",
    "    s=params_2[1], \n",
    "    scale=np.exp(params_2[0]), \n",
    "    size=2000)\n",
    "\n",
    "data_2 = \\\n",
    "    toy_rv().rvs(\n",
    "        n=lognorm_data_2,\n",
    "        p=0.1)"
   ]
  },
  {
   "cell_type": "code",
   "execution_count": 42,
   "metadata": {},
   "outputs": [],
   "source": [
    "num_permutation = 50000\n",
    "all_data = np.concatenate([data_1, data_2])"
   ]
  },
  {
   "cell_type": "code",
   "execution_count": 47,
   "metadata": {},
   "outputs": [
    {
     "data": {
      "text/plain": [
       "(12,)"
      ]
     },
     "execution_count": 47,
     "metadata": {},
     "output_type": "execute_result"
    }
   ],
   "source": [
    "alpha.shape"
   ]
  },
  {
   "cell_type": "code",
   "execution_count": 55,
   "metadata": {},
   "outputs": [
    {
     "name": "stdout",
     "output_type": "stream",
     "text": [
      "CPU times: user 48.5 ms, sys: 2.6 ms, total: 51.1 ms\n",
      "Wall time: 51.2 ms\n"
     ]
    }
   ],
   "source": [
    "%%time\n",
    "alpha = np.bincount(all_data)/2\n",
    "values = np.tile(np.arange(0, alpha.shape[0]).reshape(1, -1), (num_permutation, 1))\n",
    "weights = stats.gamma.rvs(alpha+1e-5, size=(num_permutation, alpha.shape[0]))\n",
    "\n",
    "second_moments = ((weights) * values**2).sum(axis=1)\n",
    "first_moments = ((weights) * values).sum(axis=1)\n",
    "var = second_moments - first_moments**2"
   ]
  },
  {
   "cell_type": "code",
   "execution_count": 56,
   "metadata": {},
   "outputs": [
    {
     "name": "stdout",
     "output_type": "stream",
     "text": [
      "CPU times: user 43.6 ms, sys: 3.16 ms, total: 46.7 ms\n",
      "Wall time: 47.8 ms\n"
     ]
    }
   ],
   "source": [
    "%%time\n",
    "diff_means = np.zeros(num_permutation)\n",
    "alpha = np.bincount(all_data)/2\n",
    "values = np.tile(np.arange(0, alpha.shape[0]).reshape(1, -1), (num_permutation, 1))\n",
    "weights = stats.dirichlet.rvs(alpha + 1e-11, size=num_permutation)\n",
    "\n",
    "second_moments = ((weights) * values**2).sum(axis=1)\n",
    "first_moments = ((weights) * values).sum(axis=1)\n",
    "var = second_moments - first_moments**2"
   ]
  },
  {
   "cell_type": "code",
   "execution_count": 20,
   "metadata": {},
   "outputs": [
    {
     "name": "stdout",
     "output_type": "stream",
     "text": [
      "CPU times: user 1.78 s, sys: 9.95 ms, total: 1.79 s\n",
      "Wall time: 1.83 s\n"
     ]
    }
   ],
   "source": [
    "%%time\n",
    "first_moments_naive = np.zeros(num_permutation)\n",
    "second_moments_naive = np.zeros(num_permutation)\n",
    "\n",
    "for i in range(num_permutation):\n",
    "    \n",
    "    perm_idx = np.random.permutation(all_data.shape[0])\n",
    "    group_1 = np.random.choice(all_data, size=int(all_data.shape[0]/2), replace=True)\n",
    "    \n",
    "    first_moments_naive[i] = group_1.mean()\n",
    "    second_moments_naive[i] = (group_1**2).mean()\n",
    "    "
   ]
  },
  {
   "cell_type": "code",
   "execution_count": 82,
   "metadata": {},
   "outputs": [
    {
     "data": {
      "text/plain": [
       "<matplotlib.collections.PathCollection at 0x11e918940>"
      ]
     },
     "execution_count": 82,
     "metadata": {},
     "output_type": "execute_result"
    },
    {
     "data": {
      "image/png": "[encoded data removed]",
      "text/plain": [
       "<Figure size 432x288 with 1 Axes>"
      ]
     },
     "metadata": {
      "needs_background": "light"
     },
     "output_type": "display_data"
    }
   ],
   "source": [
    "s, loc, scale = stats.lognorm.fit(second_moments, floc=0)\n",
    "sns.distplot(second_moments_naive, bins=30)\n",
    "sns.distplot(second_moments, bins=30)\n",
    "sample = np.random.choice(second_moments, 100)\n",
    "plt.scatter(sample, stats.lognorm.pdf(sample, s=s, loc=loc, scale=scale), s=10)\n",
    "\n",
    "\n"
   ]
  },
  {
   "cell_type": "code",
   "execution_count": 83,
   "metadata": {},
   "outputs": [
    {
     "data": {
      "text/plain": [
       "<matplotlib.collections.PathCollection at 0x10d67bfd0>"
      ]
     },
     "execution_count": 83,
     "metadata": {},
     "output_type": "execute_result"
    },
    {
     "data": {
      "image/png": "[encoded data removed]",
      "text/plain": [
       "<Figure size 432x288 with 1 Axes>"
      ]
     },
     "metadata": {
      "needs_background": "light"
     },
     "output_type": "display_data"
    }
   ],
   "source": [
    "s, loc, scale = stats.lognorm.fit(first_moments, floc=0)\n",
    "sns.distplot(first_moments_naive, bins=30)\n",
    "sns.distplot(first_moments, bins=30)\n",
    "sample = np.random.choice(first_moments, 100)\n",
    "plt.scatter(sample, stats.lognorm.pdf(sample, s=s, loc=loc, scale=scale), s=10)\n",
    "\n"
   ]
  },
  {
   "cell_type": "code",
   "execution_count": 315,
   "metadata": {},
   "outputs": [
    {
     "data": {
      "text/plain": [
       "array([0.024 , 0.0155, 0.0245, ..., 0.023 , 0.0235, 0.0195])"
      ]
     },
     "execution_count": 315,
     "metadata": {},
     "output_type": "execute_result"
    }
   ],
   "source": [
    "diff_means"
   ]
  },
  {
   "cell_type": "code",
   "execution_count": 22,
   "metadata": {},
   "outputs": [
    {
     "data": {
      "text/plain": [
       "(10000,)"
      ]
     },
     "execution_count": 22,
     "metadata": {},
     "output_type": "execute_result"
    }
   ],
   "source": [
    "all_data.shape"
   ]
  },
  {
   "cell_type": "code",
   "execution_count": 14,
   "metadata": {},
   "outputs": [
    {
     "data": {
      "text/plain": [
       "0     3559\n",
       "1     1016\n",
       "2      268\n",
       "3       83\n",
       "4       39\n",
       "5       19\n",
       "7        5\n",
       "6        5\n",
       "8        3\n",
       "9        2\n",
       "11       1\n",
       "dtype: int64"
      ]
     },
     "execution_count": 14,
     "metadata": {},
     "output_type": "execute_result"
    }
   ],
   "source": [
    "pd.Series(data).value_counts()"
   ]
  },
  {
   "cell_type": "code",
   "execution_count": 15,
   "metadata": {},
   "outputs": [],
   "source": [
    "# The old fashioned way"
   ]
  },
  {
   "cell_type": "code",
   "execution_count": null,
   "metadata": {},
   "outputs": [],
   "source": []
  },
  {
   "cell_type": "code",
   "execution_count": null,
   "metadata": {},
   "outputs": [],
   "source": []
  },
  {
   "cell_type": "code",
   "execution_count": null,
   "metadata": {},
   "outputs": [],
   "source": []
  },
  {
   "cell_type": "code",
   "execution_count": null,
   "metadata": {},
   "outputs": [],
   "source": []
  },
  {
   "cell_type": "code",
   "execution_count": 38,
   "metadata": {},
   "outputs": [
    {
     "name": "stderr",
     "output_type": "stream",
     "text": [
      "/anaconda3/envs/sc_ht/lib/python3.7/site-packages/ipykernel_launcher.py:8: RuntimeWarning: invalid value encountered in true_divide\n",
      "  \n",
      "/anaconda3/envs/sc_ht/lib/python3.7/site-packages/ipykernel_launcher.py:8: RuntimeWarning: overflow encountered in multiply\n",
      "  \n"
     ]
    }
   ],
   "source": [
    "mean_list = []\n",
    "var_list = []\n",
    "\n",
    "logmean_list = []\n",
    "logvar = []\n",
    "\n",
    "datas = []\n",
    "\n",
    "for trial in range(1000):\n",
    "    \n",
    "    params = stats.multivariate_normal.rvs(mean=parameter_mean, cov=parameter_cov, size=1)\n",
    "    \n",
    "    mu = params[0]\n",
    "    sigma = params[1]\n",
    "\n",
    "    lognorm_data = stats.lognorm.rvs(\n",
    "        s=sigma, \n",
    "        scale=np.exp(mu), \n",
    "        size=5000)\n",
    "\n",
    "    data = \\\n",
    "        toy_rv().rvs(\n",
    "            n=lognorm_data,\n",
    "            p=0.1)\n",
    "\n",
    "#     if data.max() == 1:\n",
    "\n",
    "#         continue\n",
    "        \n",
    "    datas.append(data)\n",
    "\n",
    "    #logex, m, v = linsys_estimation(data, order=2)\n",
    "    m_naive, v_naive = naive_estimation(data)\n",
    "\n",
    "    mean_list.append(m_naive)\n",
    "    var_list.append(v_naive)\n",
    "\n",
    "    logmean_list.append(np.exp(logex[0,0]))\n",
    "    logvar.append(np.exp(logex[1,0]) - np.exp(logex[0,0])**2)"
   ]
  },
  {
   "cell_type": "code",
   "execution_count": 39,
   "metadata": {},
   "outputs": [],
   "source": [
    "plugin_means = [x.mean() for x in datas]\n",
    "plugin_vars = [x.var() for x in datas]"
   ]
  },
  {
   "cell_type": "code",
   "execution_count": 40,
   "metadata": {},
   "outputs": [
    {
     "data": {
      "text/plain": [
       "1000"
      ]
     },
     "execution_count": 40,
     "metadata": {},
     "output_type": "execute_result"
    }
   ],
   "source": [
    "len(plugin_means)"
   ]
  },
  {
   "cell_type": "code",
   "execution_count": 57,
   "metadata": {},
   "outputs": [
    {
     "data": {
      "text/plain": [
       "(0, 1.5)"
      ]
     },
     "execution_count": 57,
     "metadata": {},
     "output_type": "execute_result"
    },
    {
     "data": {
      "image/png": "[encoded data removed]",
      "text/plain": [
       "<Figure size 432x288 with 1 Axes>"
      ]
     },
     "metadata": {
      "needs_background": "light"
     },
     "output_type": "display_data"
    }
   ],
   "source": [
    "plt.scatter(plugin_means, plugin_vars, s=6)\n",
    "plt.plot([0, 1], [0, 1])\n",
    "plt.xlim(0, 1)\n",
    "plt.ylim(0, 1.5)"
   ]
  },
  {
   "cell_type": "code",
   "execution_count": 42,
   "metadata": {},
   "outputs": [
    {
     "data": {
      "text/plain": [
       "[<matplotlib.lines.Line2D at 0x1a2105fdd8>]"
      ]
     },
     "execution_count": 42,
     "metadata": {},
     "output_type": "execute_result"
    },
    {
     "data": {
      "image/png": "[encoded data removed]",
      "text/plain": [
       "<Figure size 432x288 with 1 Axes>"
      ]
     },
     "metadata": {
      "needs_background": "light"
     },
     "output_type": "display_data"
    }
   ],
   "source": [
    "plt.scatter(plugin_means, plugin_vars)\n",
    "plt.plot([0, 1.2], [0, 1.2])"
   ]
  },
  {
   "cell_type": "code",
   "execution_count": 44,
   "metadata": {},
   "outputs": [
    {
     "data": {
      "text/plain": [
       "(-0.8600870600054129, 5.594442378799771e-294)"
      ]
     },
     "execution_count": 44,
     "metadata": {},
     "output_type": "execute_result"
    }
   ],
   "source": [
    "stats.pearsonr(\n",
    "    np.array(mean_list)[~np.isnan(np.array(mean_list))], \n",
    "    np.array(var_list)[~np.isnan(np.array(var_list))])"
   ]
  },
  {
   "cell_type": "code",
   "execution_count": 45,
   "metadata": {},
   "outputs": [
    {
     "data": {
      "text/plain": [
       "array([ 30,  61,  79,  94, 119, 120, 122, 129, 133, 138, 143, 148, 155,\n",
       "       169, 200, 213, 223, 234, 238, 244, 260, 276, 284, 289, 324, 332,\n",
       "       368, 383, 410, 412, 413, 445, 448, 460, 466, 508, 560, 573, 623,\n",
       "       675, 689, 691, 705, 715, 744, 772, 773, 777, 787, 794, 813, 814,\n",
       "       831, 861, 878, 915, 961, 966, 970, 973, 997, 999])"
      ]
     },
     "execution_count": 45,
     "metadata": {},
     "output_type": "execute_result"
    }
   ],
   "source": [
    "np.where(np.array(mean_list) <-3)[0]"
   ]
  },
  {
   "cell_type": "code",
   "execution_count": 46,
   "metadata": {},
   "outputs": [
    {
     "data": {
      "text/plain": [
       "-1.7426710070279088"
      ]
     },
     "execution_count": 46,
     "metadata": {},
     "output_type": "execute_result"
    }
   ],
   "source": [
    "mean_list[67]"
   ]
  },
  {
   "cell_type": "code",
   "execution_count": 47,
   "metadata": {},
   "outputs": [
    {
     "data": {
      "text/plain": [
       "1.5179462538529191"
      ]
     },
     "execution_count": 47,
     "metadata": {},
     "output_type": "execute_result"
    }
   ],
   "source": [
    "var_list[67]"
   ]
  },
  {
   "cell_type": "code",
   "execution_count": 48,
   "metadata": {},
   "outputs": [
    {
     "data": {
      "text/plain": [
       "(array([4.766e+03, 0.000e+00, 2.050e+02, 0.000e+00, 2.000e+01, 0.000e+00,\n",
       "        5.000e+00, 0.000e+00, 3.000e+00, 1.000e+00]),\n",
       " array([0. , 0.5, 1. , 1.5, 2. , 2.5, 3. , 3.5, 4. , 4.5, 5. ]),\n",
       " <a list of 10 Patch objects>)"
      ]
     },
     "execution_count": 48,
     "metadata": {},
     "output_type": "execute_result"
    },
    {
     "data": {
      "image/png": "[encoded data removed]",
      "text/plain": [
       "<Figure size 432x288 with 1 Axes>"
      ]
     },
     "metadata": {
      "needs_background": "light"
     },
     "output_type": "display_data"
    }
   ],
   "source": [
    "plt.hist(datas[67])"
   ]
  },
  {
   "cell_type": "code",
   "execution_count": 49,
   "metadata": {},
   "outputs": [
    {
     "data": {
      "text/plain": [
       "-0.9525372558259892"
      ]
     },
     "execution_count": 49,
     "metadata": {},
     "output_type": "execute_result"
    }
   ],
   "source": [
    "np.array(mean_list).mean()"
   ]
  },
  {
   "cell_type": "code",
   "execution_count": 50,
   "metadata": {},
   "outputs": [
    {
     "data": {
      "text/plain": [
       "1.163499517809838"
      ]
     },
     "execution_count": 50,
     "metadata": {},
     "output_type": "execute_result"
    }
   ],
   "source": [
    "np.sqrt(np.array(var_list)).mean()"
   ]
  },
  {
   "cell_type": "code",
   "execution_count": null,
   "metadata": {},
   "outputs": [],
   "source": []
  },
  {
   "cell_type": "code",
   "execution_count": 51,
   "metadata": {},
   "outputs": [
    {
     "data": {
      "text/plain": [
       "array([[ 1.82051174, -0.14937503],\n",
       "       [-0.14937503,  0.01650684]])"
      ]
     },
     "execution_count": 51,
     "metadata": {},
     "output_type": "execute_result"
    }
   ],
   "source": [
    "np.cov(mean_list, np.sqrt(np.array(var_list)).T)"
   ]
  },
  {
   "cell_type": "code",
   "execution_count": 56,
   "metadata": {},
   "outputs": [
    {
     "data": {
      "text/plain": [
       "(0.4, 2.5)"
      ]
     },
     "execution_count": 56,
     "metadata": {},
     "output_type": "execute_result"
    },
    {
     "data": {
      "image/png": "[encoded data removed]",
      "text/plain": [
       "<Figure size 432x288 with 1 Axes>"
      ]
     },
     "metadata": {
      "needs_background": "light"
     },
     "output_type": "display_data"
    }
   ],
   "source": [
    "plt.scatter(mean_list, np.array(var_list), s=3)\n",
    "plt.scatter(sample[:, 0], sample[:, 1], s=3)\n",
    "\n",
    "plt.title('Simulated mean-variance relationship')\n",
    "plt.xlabel('Estimated mean');\n",
    "plt.ylabel('Estimated variance');\n",
    "plt.xlim(-7,5, 7.5);\n",
    "plt.ylim(0.4, 2.5)"
   ]
  },
  {
   "cell_type": "markdown",
   "metadata": {},
   "source": [
    "### Keep sigma constant"
   ]
  },
  {
   "cell_type": "code",
   "execution_count": 150,
   "metadata": {},
   "outputs": [
    {
     "name": "stdout",
     "output_type": "stream",
     "text": [
      "-3.0\n",
      "-2.95\n",
      "-2.9000000000000004\n",
      "-2.8500000000000005\n",
      "-2.8000000000000007\n",
      "-2.750000000000001\n",
      "-2.700000000000001\n",
      "-2.6500000000000012\n",
      "-2.6000000000000014\n",
      "-2.5500000000000016\n",
      "-2.5000000000000018\n",
      "-2.450000000000002\n",
      "-2.400000000000002\n",
      "-2.3500000000000023\n",
      "-2.3000000000000025\n",
      "-2.2500000000000027\n",
      "-2.200000000000003\n",
      "-2.150000000000003\n",
      "-2.100000000000003\n",
      "-2.0500000000000034\n",
      "-2.0000000000000036\n",
      "-1.9500000000000037\n",
      "-1.900000000000004\n",
      "-1.850000000000004\n",
      "-1.8000000000000043\n",
      "-1.7500000000000044\n",
      "-1.7000000000000046\n",
      "-1.6500000000000048\n",
      "-1.600000000000005\n",
      "-1.5500000000000052\n",
      "-1.5000000000000053\n",
      "-1.4500000000000055\n",
      "-1.4000000000000057\n",
      "-1.3500000000000059\n",
      "-1.300000000000006\n",
      "-1.2500000000000062\n",
      "-1.2000000000000064\n",
      "-1.1500000000000066\n",
      "-1.1000000000000068\n",
      "-1.050000000000007\n",
      "-1.000000000000007\n",
      "-0.9500000000000073\n",
      "-0.9000000000000075\n",
      "-0.8500000000000076\n",
      "-0.8000000000000078\n",
      "-0.750000000000008\n",
      "-0.7000000000000082\n",
      "-0.6500000000000083\n",
      "-0.6000000000000085\n",
      "-0.5500000000000087\n",
      "-0.5000000000000089\n",
      "-0.45000000000000906\n",
      "-0.40000000000000924\n",
      "-0.3500000000000094\n",
      "-0.3000000000000096\n",
      "-0.25000000000000977\n",
      "-0.20000000000000995\n",
      "-0.15000000000001013\n",
      "-0.1000000000000103\n",
      "-0.05000000000001048\n",
      "-1.0658141036401503e-14\n",
      "0.049999999999989164\n",
      "0.09999999999998899\n",
      "0.1499999999999888\n",
      "0.19999999999998863\n",
      "0.24999999999998845\n",
      "0.2999999999999883\n",
      "0.3499999999999881\n",
      "0.3999999999999879\n",
      "0.44999999999998774\n",
      "0.49999999999998757\n",
      "0.5499999999999874\n",
      "0.5999999999999872\n",
      "0.649999999999987\n",
      "0.6999999999999869\n",
      "0.7499999999999867\n",
      "0.7999999999999865\n",
      "0.8499999999999863\n",
      "0.8999999999999861\n",
      "0.949999999999986\n",
      "0.9999999999999858\n",
      "1.0499999999999856\n",
      "1.0999999999999854\n",
      "1.1499999999999853\n",
      "1.199999999999985\n",
      "1.249999999999985\n",
      "1.2999999999999847\n",
      "1.3499999999999845\n",
      "1.3999999999999844\n"
     ]
    },
    {
     "name": "stderr",
     "output_type": "stream",
     "text": [
      "/anaconda3/envs/sc_ht/lib/python3.7/site-packages/ipykernel_launcher.py:8: RuntimeWarning: overflow encountered in multiply\n",
      "  \n",
      "/anaconda3/envs/sc_ht/lib/python3.7/site-packages/ipykernel_launcher.py:8: RuntimeWarning: invalid value encountered in true_divide\n",
      "  \n"
     ]
    },
    {
     "name": "stdout",
     "output_type": "stream",
     "text": [
      "1.4499999999999842\n",
      "1.499999999999984\n",
      "1.5499999999999838\n",
      "1.5999999999999837\n",
      "1.6499999999999835\n",
      "1.6999999999999833\n",
      "1.7499999999999831\n",
      "1.799999999999983\n",
      "1.8499999999999828\n",
      "1.8999999999999826\n",
      "1.9499999999999824\n"
     ]
    }
   ],
   "source": [
    "mean_list = []\n",
    "var_list = []\n",
    "\n",
    "naive_mean_list = []\n",
    "naive_var_list = []\n",
    "\n",
    "logmean_list = []\n",
    "logvar = []\n",
    "\n",
    "datas = []\n",
    "\n",
    "mus = np.arange(-3, 2, 0.05)\n",
    "for mu in mus:\n",
    "    \n",
    "    print(mu)\n",
    "\n",
    "    lognorm_data = stats.lognorm.rvs(\n",
    "        s=sigma, \n",
    "        scale=np.exp(mu), \n",
    "        size=1000)\n",
    "\n",
    "    data = \\\n",
    "        toy_rv().rvs(\n",
    "            n=lognorm_data,\n",
    "            p=0.1)\n",
    "\n",
    "    #if data.sum() == 0:\n",
    "\n",
    "        #continue\n",
    "        \n",
    "    datas.append(data)\n",
    "\n",
    "    logex, m, v = linsys_estimation(data, order=2)\n",
    "    m_naive, v_naive = naive_estimation(data)\n",
    "\n",
    "    mean_list.append(m)\n",
    "    var_list.append(v)\n",
    "\n",
    "    naive_mean_list.append(m_naive)\n",
    "    naive_var_list.append(v_naive)\n",
    "\n",
    "    logmean_list.append(np.exp(logex[0,0]))\n",
    "    logvar.append(np.exp(logex[1,0]) - np.exp(logex[0,0])**2)"
   ]
  },
  {
   "cell_type": "code",
   "execution_count": 151,
   "metadata": {},
   "outputs": [],
   "source": [
    "logmeans = np.exp(mus + sigma**2/2)\n",
    "logvars = (np.exp(sigma**2) - 1)*np.exp(2*mus + sigma**2)"
   ]
  },
  {
   "cell_type": "code",
   "execution_count": 156,
   "metadata": {},
   "outputs": [
    {
     "data": {
      "image/png": "[encoded data removed]",
      "text/plain": [
       "<Figure size 576x720 with 2 Axes>"
      ]
     },
     "metadata": {
      "needs_background": "light"
     },
     "output_type": "display_data"
    }
   ],
   "source": [
    "#plt.scatter(mean_list, var_list)\n",
    "\n",
    "plt.figure(figsize=(8, 10))\n",
    "plt.subplot(2, 1, 1)\n",
    "plt.scatter(naive_mean_list, naive_var_list)\n",
    "plt.scatter(mus, np.ones(mus.shape[0])*sigma, s=5)\n",
    "plt.xlabel('Estimated mean');\n",
    "plt.ylabel('Estimated variance');\n",
    "\n",
    "plt.subplot(2, 1, 2)\n",
    "plt.scatter(naive_mean_list, 0.1*np.array([(x**2).mean() - x.mean() for x in datas]), s=20)\n",
    "plt.plot([-6, 2], [0, 0])\n",
    "plt.ylim(-0.01, 0.05)\n",
    "plt.xlabel('Estimated mean');\n",
    "plt.ylabel('Difference between \\n first and second moments');"
   ]
  },
  {
   "cell_type": "code",
   "execution_count": 141,
   "metadata": {},
   "outputs": [
    {
     "data": {
      "text/plain": [
       "-5.259836845979974"
      ]
     },
     "execution_count": 141,
     "metadata": {},
     "output_type": "execute_result"
    }
   ],
   "source": [
    "m_naive"
   ]
  },
  {
   "cell_type": "code",
   "execution_count": 142,
   "metadata": {},
   "outputs": [
    {
     "data": {
      "text/plain": [
       "1.872580544948597"
      ]
     },
     "execution_count": 142,
     "metadata": {},
     "output_type": "execute_result"
    }
   ],
   "source": [
    "v_naive"
   ]
  },
  {
   "cell_type": "code",
   "execution_count": 143,
   "metadata": {},
   "outputs": [
    {
     "data": {
      "text/plain": [
       "-3.5550995689374583"
      ]
     },
     "execution_count": 143,
     "metadata": {},
     "output_type": "execute_result"
    }
   ],
   "source": [
    "m"
   ]
  },
  {
   "cell_type": "code",
   "execution_count": 144,
   "metadata": {},
   "outputs": [
    {
     "data": {
      "text/plain": [
       "1.2665649101207372"
      ]
     },
     "execution_count": 144,
     "metadata": {},
     "output_type": "execute_result"
    }
   ],
   "source": [
    "v"
   ]
  },
  {
   "cell_type": "code",
   "execution_count": null,
   "metadata": {},
   "outputs": [],
   "source": []
  },
  {
   "cell_type": "code",
   "execution_count": 109,
   "metadata": {},
   "outputs": [
    {
     "data": {
      "text/plain": [
       "<matplotlib.collections.PathCollection at 0x1a2fb7ae10>"
      ]
     },
     "execution_count": 109,
     "metadata": {},
     "output_type": "execute_result"
    },
    {
     "data": {
      "image/png": "[encoded data removed]",
      "text/plain": [
       "<Figure size 432x288 with 1 Axes>"
      ]
     },
     "metadata": {
      "needs_background": "light"
     },
     "output_type": "display_data"
    }
   ],
   "source": [
    "plt.scatter(mean_list, var_list)"
   ]
  },
  {
   "cell_type": "code",
   "execution_count": 80,
   "metadata": {},
   "outputs": [
    {
     "data": {
      "text/plain": [
       "<matplotlib.collections.PathCollection at 0x1a2ecd6470>"
      ]
     },
     "execution_count": 80,
     "metadata": {},
     "output_type": "execute_result"
    },
    {
     "data": {
      "image/png": "[encoded data removed]",
      "text/plain": [
       "<Figure size 432x288 with 1 Axes>"
      ]
     },
     "metadata": {
      "needs_background": "light"
     },
     "output_type": "display_data"
    }
   ],
   "source": [
    "plt.scatter(mean_list, var_list)"
   ]
  },
  {
   "cell_type": "code",
   "execution_count": 16,
   "metadata": {},
   "outputs": [
    {
     "data": {
      "text/plain": [
       "<matplotlib.collections.PathCollection at 0x1a2d9e7080>"
      ]
     },
     "execution_count": 16,
     "metadata": {},
     "output_type": "execute_result"
    },
    {
     "data": {
      "image/png": "[encoded data removed]",
      "text/plain": [
       "<Figure size 432x288 with 1 Axes>"
      ]
     },
     "metadata": {
      "needs_background": "light"
     },
     "output_type": "display_data"
    }
   ],
   "source": [
    "plt.scatter(mean_list, var_list)"
   ]
  },
  {
   "cell_type": "code",
   "execution_count": 9,
   "metadata": {},
   "outputs": [
    {
     "data": {
      "text/plain": [
       "(-0.9993538930605612, 1.85897840425904e-27)"
      ]
     },
     "execution_count": 9,
     "metadata": {},
     "output_type": "execute_result"
    }
   ],
   "source": [
    "stats.pearsonr(mean_list, var_list)"
   ]
  },
  {
   "cell_type": "code",
   "execution_count": 126,
   "metadata": {},
   "outputs": [
    {
     "data": {
      "text/plain": [
       "array([[-2.46510402],\n",
       "       [-2.46510402],\n",
       "       [-2.46510402]])"
      ]
     },
     "execution_count": 126,
     "metadata": {},
     "output_type": "execute_result"
    }
   ],
   "source": [
    "logex"
   ]
  },
  {
   "cell_type": "code",
   "execution_count": 127,
   "metadata": {},
   "outputs": [
    {
     "data": {
      "text/plain": [
       "array([[-2.53959438],\n",
       "       [-4.08222804],\n",
       "       [-4.59734322]])"
      ]
     },
     "execution_count": 127,
     "metadata": {},
     "output_type": "execute_result"
    }
   ],
   "source": [
    "np.log(get_observed_moments(lognorm_data, order=3))"
   ]
  },
  {
   "cell_type": "code",
   "execution_count": 128,
   "metadata": {},
   "outputs": [
    {
     "data": {
      "image/png": "[encoded data removed]",
      "text/plain": [
       "<Figure size 720x216 with 2 Axes>"
      ]
     },
     "metadata": {
      "needs_background": "light"
     },
     "output_type": "display_data"
    }
   ],
   "source": [
    "plt.figure(figsize=(10, 3))\n",
    "plt.subplot(1, 2, 1);\n",
    "plt.hist(lognorm_data, bins=50);\n",
    "plt.subplot(1, 2, 2);\n",
    "plt.hist(data, bins=50);"
   ]
  },
  {
   "cell_type": "code",
   "execution_count": null,
   "metadata": {},
   "outputs": [],
   "source": []
  },
  {
   "cell_type": "code",
   "execution_count": 384,
   "metadata": {},
   "outputs": [],
   "source": [
    "logex = np.log(np.linalg.inv(A).dot(get_observed_moments(data, order=3)))"
   ]
  },
  {
   "cell_type": "code",
   "execution_count": 57,
   "metadata": {},
   "outputs": [
    {
     "data": {
      "text/plain": [
       "(100,)"
      ]
     },
     "execution_count": 57,
     "metadata": {},
     "output_type": "execute_result"
    }
   ],
   "source": [
    "np.array([(x**2).mean() - x.mean() for x in datas]).shape"
   ]
  },
  {
   "cell_type": "code",
   "execution_count": 58,
   "metadata": {},
   "outputs": [
    {
     "data": {
      "text/plain": [
       "(100,)"
      ]
     },
     "execution_count": 58,
     "metadata": {},
     "output_type": "execute_result"
    }
   ],
   "source": [
    "logmeans.shape"
   ]
  },
  {
   "cell_type": "code",
   "execution_count": 59,
   "metadata": {},
   "outputs": [
    {
     "data": {
      "text/plain": [
       "<matplotlib.collections.PathCollection at 0x1a2ddcf6a0>"
      ]
     },
     "execution_count": 59,
     "metadata": {},
     "output_type": "execute_result"
    },
    {
     "data": {
      "image/png": "[encoded data removed]",
      "text/plain": [
       "<Figure size 432x288 with 1 Axes>"
      ]
     },
     "metadata": {
      "needs_background": "light"
     },
     "output_type": "display_data"
    }
   ],
   "source": [
    "#plt.scatter([x.mean() for x in datas], [(x**2).mean() for x in datas])\n",
    "plt.scatter(logmeans, 10*np.array([(x**2).mean() - x.mean() for x in datas]), s=50)\n",
    "#plt.xlim(0, 2);\n",
    "#plt.ylim(-0.001, 0.01)\n",
    "#plt.plot([0, 1], [0, 1])\n",
    "#plt.ylim(0, 0.05);plt.xlim(0, 0.05)"
   ]
  },
  {
   "cell_type": "code",
   "execution_count": null,
   "metadata": {},
   "outputs": [],
   "source": []
  },
  {
   "cell_type": "code",
   "execution_count": null,
   "metadata": {},
   "outputs": [],
   "source": []
  },
  {
   "cell_type": "code",
   "execution_count": 60,
   "metadata": {},
   "outputs": [
    {
     "data": {
      "text/plain": [
       "<matplotlib.collections.PathCollection at 0x1a2eb1e160>"
      ]
     },
     "execution_count": 60,
     "metadata": {},
     "output_type": "execute_result"
    },
    {
     "data": {
      "image/png": "[encoded data removed]",
      "text/plain": [
       "<Figure size 432x288 with 1 Axes>"
      ]
     },
     "metadata": {
      "needs_background": "light"
     },
     "output_type": "display_data"
    }
   ],
   "source": [
    "plt.scatter(mus, logmean_list)\n",
    "#plt.plot([-4, 2], [0.75, 0.75])"
   ]
  },
  {
   "cell_type": "code",
   "execution_count": 61,
   "metadata": {},
   "outputs": [
    {
     "data": {
      "image/png": "[encoded data removed]",
      "text/plain": [
       "<Figure size 432x288 with 1 Axes>"
      ]
     },
     "metadata": {
      "needs_background": "light"
     },
     "output_type": "display_data"
    }
   ],
   "source": [
    "plt.hist(datas[0], bins=50);"
   ]
  },
  {
   "cell_type": "code",
   "execution_count": 139,
   "metadata": {},
   "outputs": [
    {
     "data": {
      "text/plain": [
       "(0, 0.5)"
      ]
     },
     "execution_count": 139,
     "metadata": {},
     "output_type": "execute_result"
    },
    {
     "data": {
      "image/png": "[encoded data removed]",
      "text/plain": [
       "<Figure size 432x288 with 1 Axes>"
      ]
     },
     "metadata": {
      "needs_background": "light"
     },
     "output_type": "display_data"
    }
   ],
   "source": [
    "plt.scatter(logmean_list, logvar, s=5)\n",
    "plt.scatter(logmeans, logvars, s=5)\n",
    "#plt.scatter(logmeans, 20*np.array([(x**2).mean() - x.mean() for x in datas]), s=20)\n",
    "# #plt.scatter(logmeans, [(x**2).mean() - x.mean() for x in datas], s=5)\n",
    "plt.xlim(0, 10);\n",
    "plt.ylim(0, 0.5)"
   ]
  },
  {
   "cell_type": "code",
   "execution_count": 63,
   "metadata": {},
   "outputs": [
    {
     "data": {
      "text/plain": [
       "<matplotlib.collections.PathCollection at 0x122975320>"
      ]
     },
     "execution_count": 63,
     "metadata": {},
     "output_type": "execute_result"
    },
    {
     "data": {
      "image/png": "[encoded data removed]",
      "text/plain": [
       "<Figure size 432x288 with 1 Axes>"
      ]
     },
     "metadata": {
      "needs_background": "light"
     },
     "output_type": "display_data"
    }
   ],
   "source": [
    "plt.scatter(mus, mean_list)"
   ]
  },
  {
   "cell_type": "code",
   "execution_count": 64,
   "metadata": {},
   "outputs": [
    {
     "data": {
      "text/plain": [
       "LinregressResult(slope=0.9985521120486357, intercept=0.006523777398456776, rvalue=0.9968716382451833, pvalue=7.838650910122967e-110, stderr=0.007997458863059312)"
      ]
     },
     "execution_count": 64,
     "metadata": {},
     "output_type": "execute_result"
    }
   ],
   "source": [
    "stats.linregress(logmeans, logmean_list)"
   ]
  },
  {
   "cell_type": "code",
   "execution_count": 65,
   "metadata": {},
   "outputs": [
    {
     "data": {
      "text/plain": [
       "[<matplotlib.lines.Line2D at 0x1229dc080>]"
      ]
     },
     "execution_count": 65,
     "metadata": {},
     "output_type": "execute_result"
    },
    {
     "data": {
      "image/png": "[encoded data removed]",
      "text/plain": [
       "<Figure size 432x288 with 1 Axes>"
      ]
     },
     "metadata": {
      "needs_background": "light"
     },
     "output_type": "display_data"
    }
   ],
   "source": [
    "plt.plot(mus, logmeans)"
   ]
  },
  {
   "cell_type": "code",
   "execution_count": 385,
   "metadata": {},
   "outputs": [
    {
     "data": {
      "text/plain": [
       "array([[1.37371558],\n",
       "       [3.5931942 ],\n",
       "       [1.51583028]])"
      ]
     },
     "execution_count": 385,
     "metadata": {},
     "output_type": "execute_result"
    }
   ],
   "source": [
    "logex"
   ]
  },
  {
   "cell_type": "code",
   "execution_count": 386,
   "metadata": {},
   "outputs": [
    {
     "data": {
      "text/plain": [
       "array([[1.46499602],\n",
       "       [3.8641409 ],\n",
       "       [6.92191514]])"
      ]
     },
     "execution_count": 386,
     "metadata": {},
     "output_type": "execute_result"
    }
   ],
   "source": [
    "np.log(get_observed_moments(lognorm_data, order=3))"
   ]
  },
  {
   "cell_type": "code",
   "execution_count": 9,
   "metadata": {},
   "outputs": [],
   "source": [
    "def generate_moment_mat(size=2):\n",
    "    \n",
    "    B = np.zeros((size, 2))\n",
    "    B[:, 0] = np.arange(size)+1\n",
    "    B[:, 1] = (np.arange(size)+1)**2/2\n",
    "    return B\n",
    "\n",
    "def get_observed_moments(data, order=2):\n",
    "    \n",
    "    return np.array([(data**(i+1)).mean() for i in range(order)]).reshape(-1, 1)\n",
    "\n",
    "def linsys_estimation(data, p=0.1, order=2, lam=0.1):\n",
    "    \n",
    "    if order == 3:\n",
    "        A = np.zeros((3,3))\n",
    "        A[0, 0] = p\n",
    "        A[1, 0] = -p*(p-1)\n",
    "        A[1, 1] = p**2\n",
    "        A[2, 0] = (2*p**3 - 3*p**2 + p)\n",
    "        A[2, 1] = (3*p**2 - 3*p**3)\n",
    "        A[2, 2] = p**3\n",
    "    else:\n",
    "        A = np.zeros((2,2))\n",
    "        A[0, 0] = p\n",
    "        A[1, 0] = -p*(p-1)\n",
    "        A[1, 1] = p**2    \n",
    "    \n",
    "    logex = np.log(np.linalg.inv(A).dot(get_observed_moments(data, order=order)))\n",
    "    B = generate_moment_mat(size=order)\n",
    "    R = lam * np.array([1, -1]).reshape(1, -1)\n",
    "    #sol = np.linalg.inv(B.T.dot(B) + R.T.dot(R)).dot(B.T).dot(logex)\n",
    "    sol = np.linalg.inv(B.T.dot(B)).dot(B.T.dot(logex) - R)\n",
    "    return np.exp(logex), sol[0, 0], np.sqrt(sol[1, 0])"
   ]
  },
  {
   "cell_type": "code",
   "execution_count": 536,
   "metadata": {},
   "outputs": [
    {
     "data": {
      "text/plain": [
       "(-5.124135468723669, 1.5635940693408688)"
      ]
     },
     "execution_count": 536,
     "metadata": {},
     "output_type": "execute_result"
    }
   ],
   "source": [
    "linsys_estimation(data, order=3)"
   ]
  },
  {
   "cell_type": "code",
   "execution_count": null,
   "metadata": {},
   "outputs": [],
   "source": []
  },
  {
   "cell_type": "code",
   "execution_count": null,
   "metadata": {},
   "outputs": [],
   "source": []
  },
  {
   "cell_type": "code",
   "execution_count": null,
   "metadata": {},
   "outputs": [],
   "source": []
  },
  {
   "cell_type": "code",
   "execution_count": null,
   "metadata": {},
   "outputs": [],
   "source": []
  },
  {
   "cell_type": "code",
   "execution_count": null,
   "metadata": {},
   "outputs": [],
   "source": []
  },
  {
   "cell_type": "code",
   "execution_count": null,
   "metadata": {},
   "outputs": [],
   "source": []
  },
  {
   "cell_type": "code",
   "execution_count": null,
   "metadata": {},
   "outputs": [],
   "source": []
  },
  {
   "cell_type": "code",
   "execution_count": null,
   "metadata": {},
   "outputs": [],
   "source": []
  },
  {
   "cell_type": "code",
   "execution_count": null,
   "metadata": {},
   "outputs": [],
   "source": []
  },
  {
   "cell_type": "code",
   "execution_count": null,
   "metadata": {},
   "outputs": [],
   "source": []
  },
  {
   "cell_type": "code",
   "execution_count": null,
   "metadata": {},
   "outputs": [],
   "source": []
  },
  {
   "cell_type": "code",
   "execution_count": null,
   "metadata": {},
   "outputs": [],
   "source": []
  },
  {
   "cell_type": "code",
   "execution_count": null,
   "metadata": {},
   "outputs": [],
   "source": []
  },
  {
   "cell_type": "code",
   "execution_count": null,
   "metadata": {},
   "outputs": [],
   "source": []
  },
  {
   "cell_type": "code",
   "execution_count": 133,
   "metadata": {},
   "outputs": [],
   "source": [
    "n = 5\n",
    "p = 0.1"
   ]
  },
  {
   "cell_type": "code",
   "execution_count": 157,
   "metadata": {},
   "outputs": [
    {
     "data": {
      "text/plain": [
       "1.1599999999999997"
      ]
     },
     "execution_count": 157,
     "metadata": {},
     "output_type": "execute_result"
    }
   ],
   "source": [
    "stats.binom.expect(lambda x: x**3, args=(n,p))"
   ]
  },
  {
   "cell_type": "code",
   "execution_count": null,
   "metadata": {},
   "outputs": [],
   "source": []
  },
  {
   "cell_type": "code",
   "execution_count": null,
   "metadata": {},
   "outputs": [],
   "source": []
  },
  {
   "cell_type": "code",
   "execution_count": 158,
   "metadata": {},
   "outputs": [
    {
     "data": {
      "text/plain": [
       "0.7000000000000001"
      ]
     },
     "execution_count": 158,
     "metadata": {},
     "output_type": "execute_result"
    }
   ],
   "source": [
    "n**2*(p**2) - n*p*(p-1)"
   ]
  },
  {
   "cell_type": "code",
   "execution_count": 161,
   "metadata": {},
   "outputs": [
    {
     "data": {
      "text/plain": [
       "1.1600000000000001"
      ]
     },
     "execution_count": 161,
     "metadata": {},
     "output_type": "execute_result"
    }
   ],
   "source": [
    "n**3*p**3 + n**2*(3*p**2 - 3*p**3) + n*(2*p**3 - 3*p**2 + p)"
   ]
  }
 ],
 "metadata": {
  "kernelspec": {
   "display_name": "Python 3",
   "language": "python",
   "name": "python3"
  },
  "language_info": {
   "codemirror_mode": {
    "name": "ipython",
    "version": 3
   },
   "file_extension": ".py",
   "mimetype": "text/x-python",
   "name": "python",
   "nbconvert_exporter": "python",
   "pygments_lexer": "ipython3",
   "version": "3.7.5"
  }
 },
 "nbformat": 4,
 "nbformat_minor": 4
}
