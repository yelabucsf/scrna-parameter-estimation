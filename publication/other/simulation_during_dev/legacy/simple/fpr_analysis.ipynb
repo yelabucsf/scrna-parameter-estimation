{
 "cells": [
  {
   "cell_type": "markdown",
   "metadata": {},
   "source": [
    "# FPR Analysis"
   ]
  },
  {
   "cell_type": "code",
   "execution_count": 257,
   "metadata": {},
   "outputs": [],
   "source": [
    "import pandas as pd\n",
    "import matplotlib.pyplot as plt\n",
    "import scanpy.api as sc\n",
    "import scipy as sp\n",
    "import itertools\n",
    "import numpy as np\n",
    "import scipy.stats as stats\n",
    "from scipy.integrate import dblquad\n",
    "import seaborn as sns\n",
    "import imp\n",
    "import time"
   ]
  },
  {
   "cell_type": "code",
   "execution_count": 258,
   "metadata": {},
   "outputs": [],
   "source": [
    "import sys\n",
    "sys.path.append('/Users/mincheolkim/Github/scrna-parameter-estimation/simplesc')\n",
    "import simplesc"
   ]
  },
  {
   "cell_type": "code",
   "execution_count": 259,
   "metadata": {},
   "outputs": [],
   "source": [
    "data_path = '/Users/mincheolkim/Google Drive/UCSF/research/parameter_estimation/x_inactivation_data/'"
   ]
  },
  {
   "cell_type": "markdown",
   "metadata": {},
   "source": [
    "### Set up the simulations"
   ]
  },
  {
   "cell_type": "code",
   "execution_count": 260,
   "metadata": {},
   "outputs": [],
   "source": [
    "def get_parameters(observed, p_hat):\n",
    "    \n",
    "    mu_hat_closed = np.log(observed.mean()) - np.log(p_hat) - (1/2)*np.log(observed.var()/observed.mean()**2 - (1-p_hat)/observed.mean() + 1)\n",
    "    sigma_hat_closed = np.sqrt(np.log(observed.var()/observed.mean()**2 - (1-p_hat)/observed.mean() + 1))\n",
    "    \n",
    "    return mu_hat_closed, sigma_hat_closed"
   ]
  },
  {
   "cell_type": "code",
   "execution_count": 261,
   "metadata": {},
   "outputs": [],
   "source": [
    "def get_dropout(data, p):\n",
    "    \n",
    "    ground_truth_counts = np.round(data).astype(np.int64)\n",
    "    observed = np.random.binomial(n=ground_truth_counts, p=p)\n",
    "    \n",
    "    return observed"
   ]
  },
  {
   "cell_type": "code",
   "execution_count": 472,
   "metadata": {},
   "outputs": [],
   "source": [
    "def get_clean_count(N, p):\n",
    "    \n",
    "    return int(N * p**2/4)"
   ]
  },
  {
   "cell_type": "code",
   "execution_count": 493,
   "metadata": {},
   "outputs": [],
   "source": [
    "N = 10000\n",
    "p = 0.2\n",
    "N_clean = 1000\n",
    "num_trials = 3000\n",
    "\n",
    "\n",
    "data_trials = np.zeros(num_trials)\n",
    "clean_trials = np.zeros(num_trials)\n",
    "clean_stat_trials = np.zeros(num_trials)\n",
    "data_stat_trials = np.zeros(num_trials)\n",
    "\n",
    "mu_hats = np.zeros(num_trials)\n",
    "sigma_hats = np.zeros(num_trials)\n",
    "\n",
    "clean_mu_hats = np.zeros(num_trials)\n",
    "clean_sigma_hats = np.zeros(num_trials)\n",
    "\n",
    "for trial in range(num_trials):\n",
    "    \n",
    "    data1 = np.exp(stats.norm.rvs(loc=0, scale=3, size=N))\n",
    "    data2 = np.exp(stats.norm.rvs(loc=0, scale=1, size=N))\n",
    "    \n",
    "    observed1 = get_dropout(data1, p)\n",
    "    observed2 = get_dropout(data2, p)\n",
    "    \n",
    "    mu_hat1, sigma_hat1 = get_parameters(observed1, p)\n",
    "    mu_hat2, sigma_hat2 = get_parameters(observed2, p)\n",
    "        \n",
    "    stat, pval = stats.ttest_ind_from_stats(\n",
    "        mu_hat1, sigma_hat1, N_clean,\n",
    "        mu_hat2, sigma_hat2, N_clean,\n",
    "        equal_var=False)\n",
    "    \n",
    "    \n",
    "    data_trials[trial] = pval\n",
    "    data_stat_trials[trial] = stat\n",
    "    \n",
    "    mu_hats[trial] = mu_hat1\n",
    "    sigma_hats[trial] = sigma_hat1\n",
    "    \n",
    "    \n",
    "    clean1 = stats.norm.rvs(loc=1, scale=3, size=N_clean)\n",
    "    clean2 = stats.norm.rvs(loc=1, scale=1, size=N_clean)\n",
    "    \n",
    "    stat_clean, pval_clean = stats.ttest_ind(clean1, clean2, equal_var=False)\n",
    "    clean_stat_trials[trial] = stat_clean"
   ]
  },
  {
   "cell_type": "code",
   "execution_count": 495,
   "metadata": {},
   "outputs": [
    {
     "name": "stderr",
     "output_type": "stream",
     "text": [
      "/anaconda3/envs/scvi/lib/python3.6/site-packages/matplotlib/axes/_axes.py:6462: UserWarning: The 'normed' kwarg is deprecated, and has been replaced by the 'density' kwarg.\n",
      "  warnings.warn(\"The 'normed' kwarg is deprecated, and has been \"\n"
     ]
    },
    {
     "data": {
      "image/png": "[encoded data removed]",
      "text/plain": [
       "<Figure size 432x288 with 1 Axes>"
      ]
     },
     "metadata": {},
     "output_type": "display_data"
    }
   ],
   "source": [
    "sns.distplot(data_stat_trials);"
   ]
  },
  {
   "cell_type": "code",
   "execution_count": 496,
   "metadata": {},
   "outputs": [
    {
     "data": {
      "text/plain": [
       "22.431199512443776"
      ]
     },
     "execution_count": 496,
     "metadata": {},
     "output_type": "execute_result"
    }
   ],
   "source": [
    "stat"
   ]
  },
  {
   "cell_type": "code",
   "execution_count": null,
   "metadata": {},
   "outputs": [],
   "source": []
  },
  {
   "cell_type": "code",
   "execution_count": null,
   "metadata": {},
   "outputs": [],
   "source": []
  },
  {
   "cell_type": "code",
   "execution_count": null,
   "metadata": {},
   "outputs": [],
   "source": []
  },
  {
   "cell_type": "code",
   "execution_count": null,
   "metadata": {},
   "outputs": [],
   "source": []
  },
  {
   "cell_type": "code",
   "execution_count": null,
   "metadata": {},
   "outputs": [],
   "source": []
  },
  {
   "cell_type": "code",
   "execution_count": null,
   "metadata": {},
   "outputs": [],
   "source": []
  },
  {
   "cell_type": "code",
   "execution_count": 473,
   "metadata": {},
   "outputs": [],
   "source": [
    "N = 10000\n",
    "p = 0.2\n",
    "N_clean = get_clean_count(N, p)\n",
    "num_trials = 3000\n",
    "\n",
    "\n",
    "data_trials = np.zeros(num_trials)\n",
    "clean_trials = np.zeros(num_trials)\n",
    "\n",
    "mu_hats = np.zeros(num_trials)\n",
    "sigma_hats = np.zeros(num_trials)\n",
    "\n",
    "clean_mu_hats = np.zeros(num_trials)\n",
    "clean_sigma_hats = np.zeros(num_trials)\n",
    "\n",
    "for trial in range(num_trials):\n",
    "    \n",
    "    data1 = np.exp(stats.norm.rvs(loc=1, scale=2, size=N))\n",
    "    data2 = np.exp(stats.norm.rvs(loc=1, scale=2, size=N))\n",
    "    \n",
    "    observed1 = get_dropout(data1, p)\n",
    "    observed2 = get_dropout(data2, p)\n",
    "    \n",
    "    mu_hat1, sigma_hat1 = get_parameters(observed1, p)\n",
    "    mu_hat2, sigma_hat2 = get_parameters(observed2, p)\n",
    "    \n",
    "    clean1 = stats.norm.rvs(loc=1, scale=2, size=N_clean)\n",
    "    clean2 = stats.norm.rvs(loc=1, scale=2, size=N_clean)\n",
    "    \n",
    "    stat, pval = stats.ttest_ind_from_stats(\n",
    "        mu_hat1, sigma_hat1, N_clean,\n",
    "        mu_hat2, sigma_hat2, N_clean,\n",
    "        equal_var=False)\n",
    "    \n",
    "    stat_clean, pval_clean = stats.ttest_ind(clean1, clean2, equal_var=False)\n",
    "    \n",
    "    data_trials[trial] = pval\n",
    "    clean_trials[trial] = pval_clean\n",
    "    \n",
    "    clean_mu_hats[trial] = clean1.mean()\n",
    "    clean_sigma_hats[trial] = np.sqrt(clean1.var())\n",
    "    \n",
    "    mu_hats[trial] = mu_hat1\n",
    "    sigma_hats[trial] = sigma_hat1"
   ]
  },
  {
   "cell_type": "code",
   "execution_count": 474,
   "metadata": {},
   "outputs": [
    {
     "data": {
      "text/plain": [
       "0.05"
      ]
     },
     "execution_count": 474,
     "metadata": {},
     "output_type": "execute_result"
    }
   ],
   "source": [
    "(clean_trials < 0.05).mean()"
   ]
  },
  {
   "cell_type": "code",
   "execution_count": 475,
   "metadata": {},
   "outputs": [
    {
     "data": {
      "text/plain": [
       "0.07766666666666666"
      ]
     },
     "execution_count": 475,
     "metadata": {},
     "output_type": "execute_result"
    }
   ],
   "source": [
    "(data_trials < 0.05).mean()"
   ]
  },
  {
   "cell_type": "code",
   "execution_count": 476,
   "metadata": {},
   "outputs": [
    {
     "name": "stderr",
     "output_type": "stream",
     "text": [
      "/anaconda3/envs/scvi/lib/python3.6/site-packages/matplotlib/axes/_axes.py:6462: UserWarning: The 'normed' kwarg is deprecated, and has been replaced by the 'density' kwarg.\n",
      "  warnings.warn(\"The 'normed' kwarg is deprecated, and has been \"\n",
      "/anaconda3/envs/scvi/lib/python3.6/site-packages/matplotlib/axes/_axes.py:6462: UserWarning: The 'normed' kwarg is deprecated, and has been replaced by the 'density' kwarg.\n",
      "  warnings.warn(\"The 'normed' kwarg is deprecated, and has been \"\n",
      "/anaconda3/envs/scvi/lib/python3.6/site-packages/matplotlib/axes/_axes.py:6462: UserWarning: The 'normed' kwarg is deprecated, and has been replaced by the 'density' kwarg.\n",
      "  warnings.warn(\"The 'normed' kwarg is deprecated, and has been \"\n",
      "/anaconda3/envs/scvi/lib/python3.6/site-packages/matplotlib/axes/_axes.py:6462: UserWarning: The 'normed' kwarg is deprecated, and has been replaced by the 'density' kwarg.\n",
      "  warnings.warn(\"The 'normed' kwarg is deprecated, and has been \"\n"
     ]
    },
    {
     "data": {
      "text/plain": [
       "Text(0.5,1,'mu')"
      ]
     },
     "execution_count": 476,
     "metadata": {},
     "output_type": "execute_result"
    },
    {
     "data": {
      "image/png": "[encoded data removed]",
      "text/plain": [
       "<Figure size 720x216 with 2 Axes>"
      ]
     },
     "metadata": {},
     "output_type": "display_data"
    }
   ],
   "source": [
    "plt.figure(figsize=(10, 3))\n",
    "\n",
    "plt.subplot(1, 2, 1);\n",
    "sns.distplot(clean_sigma_hats);\n",
    "sns.distplot(sigma_hats[~np.isnan(sigma_hats)]);\n",
    "plt.title('sigma')\n",
    "\n",
    "plt.subplot(1, 2, 2);\n",
    "sns.distplot(clean_mu_hats);\n",
    "sns.distplot(mu_hats);\n",
    "plt.title('mu')\n"
   ]
  },
  {
   "cell_type": "code",
   "execution_count": null,
   "metadata": {},
   "outputs": [],
   "source": []
  },
  {
   "cell_type": "code",
   "execution_count": null,
   "metadata": {},
   "outputs": [],
   "source": []
  },
  {
   "cell_type": "code",
   "execution_count": null,
   "metadata": {},
   "outputs": [],
   "source": []
  },
  {
   "cell_type": "code",
   "execution_count": null,
   "metadata": {},
   "outputs": [],
   "source": []
  },
  {
   "cell_type": "code",
   "execution_count": null,
   "metadata": {},
   "outputs": [],
   "source": []
  },
  {
   "cell_type": "code",
   "execution_count": null,
   "metadata": {},
   "outputs": [],
   "source": []
  },
  {
   "cell_type": "code",
   "execution_count": 253,
   "metadata": {},
   "outputs": [
    {
     "data": {
      "text/plain": [
       "(0, 10)"
      ]
     },
     "execution_count": 253,
     "metadata": {},
     "output_type": "execute_result"
    },
    {
     "data": {
      "image/png": "[encoded data removed]",
      "text/plain": [
       "<Figure size 432x288 with 1 Axes>"
      ]
     },
     "metadata": {},
     "output_type": "display_data"
    }
   ],
   "source": [
    "recon = get_dropout(np.exp(stats.norm.rvs(loc=0.0823444581352294, scale=1.9530413250881016, size=N)),\n",
    "        p=0.1)\n",
    "plt.hist([observed1, recon], bins=1000);\n",
    "plt.xlim(0, 10)"
   ]
  },
  {
   "cell_type": "code",
   "execution_count": null,
   "metadata": {},
   "outputs": [],
   "source": []
  }
 ],
 "metadata": {
  "kernelspec": {
   "display_name": "Python 3",
   "language": "python",
   "name": "python3"
  },
  "language_info": {
   "codemirror_mode": {
    "name": "ipython",
    "version": 3
   },
   "file_extension": ".py",
   "mimetype": "text/x-python",
   "name": "python",
   "nbconvert_exporter": "python",
   "pygments_lexer": "ipython3",
   "version": "3.7.5"
  }
 },
 "nbformat": 4,
 "nbformat_minor": 4
}
