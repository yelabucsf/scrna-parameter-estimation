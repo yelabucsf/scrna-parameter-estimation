{
 "cells": [
  {
   "cell_type": "markdown",
   "metadata": {},
   "source": [
    "# Distributional assumption test"
   ]
  },
  {
   "cell_type": "code",
   "execution_count": 1,
   "metadata": {},
   "outputs": [
    {
     "name": "stderr",
     "output_type": "stream",
     "text": [
      "/home/mkim7/anaconda3/envs/single_cell/lib/python3.7/site-packages/scanpy/api/__init__.py:6: FutureWarning: \n",
      "\n",
      "In a future version of Scanpy, `scanpy.api` will be removed.\n",
      "Simply use `import scanpy as sc` and `import scanpy.external as sce` instead.\n",
      "\n",
      "  FutureWarning\n"
     ]
    }
   ],
   "source": [
    "import pandas as pd\n",
    "import matplotlib.pyplot as plt\n",
    "import scanpy.api as sc\n",
    "import scipy as sp\n",
    "import itertools\n",
    "import numpy as np\n",
    "import scipy.stats as stats\n",
    "from scipy.integrate import dblquad\n",
    "import seaborn as sns\n",
    "from statsmodels.stats.multitest import fdrcorrection\n",
    "import imp\n",
    "pd.options.display.max_rows = 999\n",
    "pd.set_option('display.max_colwidth', -1)\n",
    "import pickle as pkl\n",
    "import time"
   ]
  },
  {
   "cell_type": "code",
   "execution_count": 266,
   "metadata": {},
   "outputs": [],
   "source": [
    "import matplotlib as mpl\n",
    "mpl.rcParams['pdf.fonttype'] = 42\n",
    "mpl.rcParams['ps.fonttype'] = 42\n",
    "\n",
    "import matplotlib.pylab as pylab\n",
    "params = {'legend.fontsize': 'medium',\n",
    "         'axes.labelsize': 'medium',\n",
    "         'axes.titlesize':'medium',\n",
    "         'figure.titlesize':'medium',\n",
    "         'xtick.labelsize':'small',\n",
    "         'ytick.labelsize':'small'}\n",
    "pylab.rcParams.update(params)\n"
   ]
  },
  {
   "cell_type": "code",
   "execution_count": 3,
   "metadata": {},
   "outputs": [],
   "source": [
    "import warnings\n",
    "#warnings.warn('ignore')"
   ]
  },
  {
   "cell_type": "code",
   "execution_count": 5,
   "metadata": {},
   "outputs": [],
   "source": [
    "%matplotlib inline"
   ]
  },
  {
   "cell_type": "code",
   "execution_count": 6,
   "metadata": {},
   "outputs": [],
   "source": [
    "import sys\n",
    "sys.path.append('/home/mkim7/Github/scrna-parameter-estimation/scmemo')\n",
    "import scmemo, utils"
   ]
  },
  {
   "cell_type": "code",
   "execution_count": 7,
   "metadata": {},
   "outputs": [],
   "source": [
    "data_path = '/data/parameter_estimation/interferon_data/20200324/'"
   ]
  },
  {
   "cell_type": "markdown",
   "metadata": {},
   "source": [
    "### Simulate the data"
   ]
  },
  {
   "cell_type": "code",
   "execution_count": 10,
   "metadata": {},
   "outputs": [],
   "source": [
    "def convert_params(mu, theta):\n",
    "    \"\"\"\n",
    "    Convert mean/dispersion parameterization of a negative binomial to the ones scipy supports\n",
    "\n",
    "    See https://en.wikipedia.org/wiki/Negative_binomial_distribution#Alternative_formulations\n",
    "    \"\"\"\n",
    "    r = theta\n",
    "    var = mu + 1 / r * mu ** 2\n",
    "    p = (var - mu) / var\n",
    "    return r, 1 - p"
   ]
  },
  {
   "cell_type": "code",
   "execution_count": 251,
   "metadata": {},
   "outputs": [],
   "source": [
    "N = 20000"
   ]
  },
  {
   "cell_type": "code",
   "execution_count": 252,
   "metadata": {},
   "outputs": [],
   "source": [
    "# Simluate the noise\n",
    "p = 0.1\n",
    "noise_level = 0.2049755522580501\n",
    "p_sq = (noise_level+1)*p**2\n",
    "m = p\n",
    "v = p_sq - p**2\n",
    "alpha = m*(m*(1-m)/v - 1)\n",
    "beta = (1-m)*(m*(1-m)/v - 1)\n",
    "qs = stats.beta.rvs(alpha, beta, size=N)"
   ]
  },
  {
   "cell_type": "code",
   "execution_count": 253,
   "metadata": {},
   "outputs": [],
   "source": [
    "# Set true parameters\n",
    "poi_lambda = 2\n",
    "norm_mean = 8\n",
    "norm_var = 3\n",
    "lognorm_mean = 2\n",
    "lognorm_var = 0.3\n",
    "nb_mean = 5\n",
    "nb_theta = 2"
   ]
  },
  {
   "cell_type": "code",
   "execution_count": 254,
   "metadata": {},
   "outputs": [],
   "source": [
    "# Generate the true distributions\n",
    "poi = stats.poisson.rvs(poi_lambda, size=N)\n",
    "norm = np.maximum(stats.norm.rvs(loc=norm_mean, scale=np.sqrt(norm_var), size=N).astype(int), 0)\n",
    "lognorm = np.exp(stats.norm.rvs(loc=lognorm_mean, scale=np.sqrt(lognorm_var), size=N)).astype(int)\n",
    "nb = stats.nbinom.rvs(*convert_params(nb_mean,nb_theta), size=N)"
   ]
  },
  {
   "cell_type": "code",
   "execution_count": 255,
   "metadata": {},
   "outputs": [],
   "source": [
    "# Apply the noise process\n",
    "poi_obs = stats.binom.rvs(n=poi, p=qs)\n",
    "norm_obs = stats.binom.rvs(n=norm, p=qs)\n",
    "lognorm_obs = stats.binom.rvs(n=lognorm, p=qs)\n",
    "nb_obs = stats.binom.rvs(n=nb, p=qs)"
   ]
  },
  {
   "cell_type": "code",
   "execution_count": 256,
   "metadata": {},
   "outputs": [
    {
     "name": "stderr",
     "output_type": "stream",
     "text": [
      "Transforming to str index.\n"
     ]
    }
   ],
   "source": [
    "# Create an ann data out of these\n",
    "obs_df = pd.DataFrame()\n",
    "obs_df['n_counts'] = [1e10 for i in range(N)]\n",
    "obs_df['cell_type'] = 'A'\n",
    "values = np.vstack([poi_obs, norm_obs, lognorm_obs, nb_obs]).T\n",
    "adata = sc.AnnData(\n",
    "    values, \n",
    "    var=pd.DataFrame(index=['Poi Gene', 'Norm Gene', 'Lognorm Gene', 'NB Gene']),\n",
    "    obs=obs_df)"
   ]
  },
  {
   "cell_type": "markdown",
   "metadata": {},
   "source": [
    "### Create an estimator and fit the simulated data"
   ]
  },
  {
   "cell_type": "code",
   "execution_count": 257,
   "metadata": {},
   "outputs": [],
   "source": [
    "imp.reload(scmemo)\n",
    "estimator = scmemo.SingleCellEstimator(\n",
    "    adata=adata, \n",
    "    group_label='cell_type',\n",
    "    n_umis_column='n_counts',\n",
    "    num_permute=10000,\n",
    "    beta=0.1)\n",
    "estimator.beta_sq = p_sq"
   ]
  },
  {
   "cell_type": "code",
   "execution_count": 258,
   "metadata": {},
   "outputs": [
    {
     "name": "stdout",
     "output_type": "stream",
     "text": [
      "Computing observed moments for: A\n",
      "Computing observed moments for: A\n"
     ]
    }
   ],
   "source": [
    "estimator.compute_observed_moments('A')\n",
    "estimator.compute_observed_moments('-A')"
   ]
  },
  {
   "cell_type": "code",
   "execution_count": 259,
   "metadata": {},
   "outputs": [],
   "source": [
    "estimator.estimate_1d_parameters()"
   ]
  },
  {
   "cell_type": "code",
   "execution_count": 260,
   "metadata": {},
   "outputs": [
    {
     "data": {
      "text/plain": [
       "2.7236137"
      ]
     },
     "execution_count": 260,
     "metadata": {},
     "output_type": "execute_result"
    }
   ],
   "source": [
    "estimator.estimated_central_moments['A']['second'][1]"
   ]
  },
  {
   "cell_type": "markdown",
   "metadata": {},
   "source": [
    "### Get the parameters to reconstruct the distributions"
   ]
  },
  {
   "cell_type": "code",
   "execution_count": 261,
   "metadata": {},
   "outputs": [],
   "source": [
    "est_poi_lambda = estimator.estimated_central_moments['A']['first'][0]# + estimator.estimated_central_moments['A']['second'][0])/2\n",
    "est_norm_mean = estimator.estimated_central_moments['A']['first'][1]\n",
    "est_norm_var = estimator.estimated_central_moments['A']['second'][1]\n",
    "temp = 1 + estimator.estimated_central_moments['A']['second'][2]/estimator.estimated_central_moments['A']['first'][2]**2\n",
    "est_lognorm_var = np.log(temp)\n",
    "est_lognorm_mean = np.log(\n",
    "    estimator.estimated_central_moments['A']['first'][2]) - np.log(np.sqrt(temp))\n",
    "est_nb_mean = estimator.estimated_central_moments['A']['first'][3]\n",
    "est_nb_theta = \\\n",
    "    1/((estimator.estimated_central_moments['A']['second'][3] - \\\n",
    "    estimator.estimated_central_moments['A']['first'][3])/ \\\n",
    "    estimator.estimated_central_moments['A']['first'][3]**2)"
   ]
  },
  {
   "cell_type": "markdown",
   "metadata": {},
   "source": [
    "### Plot the simulation results"
   ]
  },
  {
   "cell_type": "code",
   "execution_count": 293,
   "metadata": {},
   "outputs": [],
   "source": [
    "def plot_distributions(x, true_pmf, est_poi_pmf, obs, title, ax1):\n",
    "    \n",
    "    color = 'tab:brown'\n",
    "    \n",
    "    if title == 'Normal' or title == 'Log-normal':\n",
    "        ax1.set_xlabel('mRNA content')\n",
    "    ax1.set_ylabel('Observed probability', color=color)\n",
    "    ax1.hist(obs, color=color, bins=np.bincount(obs).shape[0], density=True)\n",
    "    ax1.set_title(title)\n",
    "    ax1.tick_params(axis='y', labelcolor=color)\n",
    "\n",
    "    ax2 = ax1.twinx()  # instantiate a second axes that shares the same x-axis\n",
    "\n",
    "    ax2.set_ylabel('Latent probability')\n",
    "    ax2.plot(x, est_poi_pmf, \n",
    "             marker='o' if title == 'Negative Binomial' or title == 'Poisson' else None,\n",
    "             mfc='none', \n",
    "             ms=9, \n",
    "             linestyle='--', \n",
    "             mew=1.5, \n",
    "             linewidth=0 if title == 'Poisson' or title == 'Negative Binomial' else 3, \n",
    "             label='Estimated')\n",
    "    ax2.plot(x, true_pmf, \n",
    "             marker='x' if title == 'Negative Binomial' or title == 'Poisson' else None, \n",
    "             mfc='none',\n",
    "             ms=1, \n",
    "             linestyle='-', \n",
    "             mew=5, \n",
    "             linewidth=0 if title == 'Poisson' or title == 'Negative Binomial' else 3, \n",
    "             label='Ground truth')\n",
    "    ax2.legend(labelspacing=0.4)\n",
    "    \n",
    "#     fig.tight_layout()  # otherwise the right y-label is slightly clipped\n",
    "#     plt.show()\n",
    "    \n",
    "    return fig"
   ]
  },
  {
   "cell_type": "code",
   "execution_count": 294,
   "metadata": {},
   "outputs": [],
   "source": [
    "params = {'legend.fontsize': 'small',\n",
    "         'axes.labelsize': 'medium',\n",
    "         'axes.titlesize':'medium',\n",
    "         'figure.titlesize':'medium',\n",
    "         'xtick.labelsize':'small',\n",
    "         'ytick.labelsize':'small'}\n",
    "pylab.rcParams.update(params)"
   ]
  },
  {
   "cell_type": "code",
   "execution_count": 296,
   "metadata": {},
   "outputs": [],
   "source": [
    "fig = plt.figure(figsize=(6.5, 4))\n",
    "plt.subplots_adjust(wspace=0.6, hspace=0.35)\n",
    "\n",
    "# Poisson\n",
    "ax1 = plt.subplot(2, 2, 1);\n",
    "x = np.arange(0, 10, 1)\n",
    "plot_distributions(\n",
    "    x, \n",
    "    stats.poisson.pmf(x, poi_lambda), \n",
    "    stats.poisson.pmf(x, est_poi_lambda), \n",
    "    poi_obs, 'Poisson', ax1)\n",
    "\n",
    "# Normal\n",
    "ax1 = plt.subplot(2, 2, 3);\n",
    "\n",
    "x = np.arange(0, 25, 0.1)\n",
    "plot_distributions(\n",
    "    x, \n",
    "    stats.norm.pdf(x, norm_mean, np.sqrt(norm_var)), \n",
    "    stats.norm.pdf(x, est_norm_mean, np.sqrt(est_norm_var)), \n",
    "    norm_obs, 'Normal', ax1)\n",
    "\n",
    "# Log-normal\n",
    "ax1 = plt.subplot(2, 2, 4)\n",
    "x = np.arange(0, 30, 0.01)\n",
    "plot_distributions(\n",
    "    x, \n",
    "    stats.lognorm.pdf(x, scale=np.exp(lognorm_mean), s=np.sqrt(lognorm_var)), \n",
    "    stats.lognorm.pdf(x, scale=np.exp(est_lognorm_mean), s=np.sqrt(est_lognorm_var)), \n",
    "    lognorm_obs, 'Log-normal', ax1)\n",
    "\n",
    "# Negative binomial\n",
    "ax1 = plt.subplot(2, 2, 2)\n",
    "x = np.arange(0, 25, 1)\n",
    "plot_distributions(\n",
    "    x, \n",
    "    stats.nbinom.pmf(x, *convert_params(nb_mean,nb_theta)), \n",
    "    stats.nbinom.pmf(x, *convert_params(est_nb_mean,est_nb_theta)), \n",
    "    nb_obs, 'Negative Binomial', ax1)\n",
    "#plt.show()\n",
    "fig.savefig('distributional_assumptions.eps', bbox_inches='tight')\n"
   ]
  }
 ],
 "metadata": {
  "kernelspec": {
   "display_name": "Python 3",
   "language": "python",
   "name": "python3"
  },
  "language_info": {
   "codemirror_mode": {
    "name": "ipython",
    "version": 3
   },
   "file_extension": ".py",
   "mimetype": "text/x-python",
   "name": "python",
   "nbconvert_exporter": "python",
   "pygments_lexer": "ipython3",
   "version": "3.7.5"
  }
 },
 "nbformat": 4,
 "nbformat_minor": 4
}
