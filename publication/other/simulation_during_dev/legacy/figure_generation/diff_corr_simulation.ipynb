{
 "cells": [
  {
   "cell_type": "markdown",
   "metadata": {},
   "source": [
    "# Simulation and figure generation for differential correlation"
   ]
  },
  {
   "cell_type": "code",
   "execution_count": 2,
   "metadata": {},
   "outputs": [],
   "source": [
    "import scipy.stats as stats\n",
    "import scipy.sparse as sparse\n",
    "from scipy.stats import norm, gamma, poisson, nbinom\n",
    "import numpy as np\n",
    "from mixedvines.copula import Copula, GaussianCopula, ClaytonCopula, \\\n",
    "        FrankCopula\n",
    "from mixedvines.mixedvine import MixedVine\n",
    "import matplotlib.pyplot as plt\n",
    "import itertools\n",
    "import pandas as pd\n",
    "import scanpy as sc\n",
    "%matplotlib inline\n",
    "import imp\n",
    "import seaborn as sns"
   ]
  },
  {
   "cell_type": "code",
   "execution_count": 3,
   "metadata": {},
   "outputs": [],
   "source": [
    "import sys\n",
    "sys.path.append('/home/mkim7/Github/scrna-parameter-estimation/examples/simulation/')\n",
    "import simulate as sim"
   ]
  },
  {
   "cell_type": "code",
   "execution_count": 4,
   "metadata": {},
   "outputs": [],
   "source": [
    "data_path = '/data/parameter_estimation/interferon_data/'"
   ]
  },
  {
   "cell_type": "code",
   "execution_count": 5,
   "metadata": {},
   "outputs": [],
   "source": [
    "import sys\n",
    "sys.path.append('/home/mkim7/Github/scrna-parameter-estimation/scmemo')\n",
    "import scmemo, utils"
   ]
  },
  {
   "cell_type": "code",
   "execution_count": 6,
   "metadata": {},
   "outputs": [],
   "source": [
    "import matplotlib as mpl\n",
    "mpl.rcParams['pdf.fonttype'] = 42\n",
    "mpl.rcParams['ps.fonttype'] = 42\n",
    "\n",
    "import matplotlib.pylab as pylab\n",
    "params = {'legend.fontsize': 'medium',\n",
    "         'axes.labelsize': 'medium',\n",
    "         'axes.titlesize':'medium',\n",
    "         'figure.titlesize':'medium',\n",
    "         'xtick.labelsize':'small',\n",
    "         'ytick.labelsize':'small'}\n",
    "pylab.rcParams.update(params)\n"
   ]
  },
  {
   "cell_type": "markdown",
   "metadata": {},
   "source": [
    "### Function for converting params"
   ]
  },
  {
   "cell_type": "code",
   "execution_count": 7,
   "metadata": {},
   "outputs": [],
   "source": [
    "def convert_params(mu, theta):\n",
    "    \"\"\"\n",
    "    Convert mean/dispersion parameterization of a negative binomial to the ones scipy supports\n",
    "\n",
    "    See https://en.wikipedia.org/wiki/Negative_binomial_distribution#Alternative_formulations\n",
    "    \"\"\"\n",
    "    r = theta\n",
    "    var = mu + 1 / r * mu ** 2\n",
    "    p = (var - mu) / var\n",
    "    return r, 1 - p"
   ]
  },
  {
   "cell_type": "markdown",
   "metadata": {},
   "source": [
    "### Function for plotting 2D discrete scatter plots"
   ]
  },
  {
   "cell_type": "code",
   "execution_count": 8,
   "metadata": {},
   "outputs": [],
   "source": [
    "def plot_2d_discrete(data, size_multiplier=10, offset=0.0):\n",
    "    \"\"\" Plotting discrete 2D data according to the frequency. \"\"\"\n",
    "    \n",
    "    df = pd.DataFrame(data).groupby([0, 1]).size().reset_index(name='count')\n",
    "    df['log_count'] = np.log(df['count'])\n",
    "    \n",
    "    plt.scatter(df[0]+offset, df[1]+offset, s=df['log_count']*size_multiplier)    \n",
    "    "
   ]
  },
  {
   "cell_type": "markdown",
   "metadata": {},
   "source": [
    "### Simulation"
   ]
  },
  {
   "cell_type": "code",
   "execution_count": 9,
   "metadata": {},
   "outputs": [],
   "source": [
    "def simulate_correlated_data(corr, size=1000):\n",
    "    \n",
    "    dim = 2  # Dimension\n",
    "    vine = MixedVine(dim)\n",
    "\n",
    "    vine.set_marginal(0, nbinom(*convert_params(3, 10)))\n",
    "    vine.set_marginal(1, nbinom(*convert_params(3, 10)))\n",
    "    vine.set_copula(1, 0, GaussianCopula(corr))\n",
    "    samples = vine.rvs(size)\n",
    "    \n",
    "    return samples.astype(int)\n",
    "\n",
    "def simulate_dropout(\n",
    "    true_counts,\n",
    "    q,\n",
    "    q_sq):\n",
    "    \"\"\" \n",
    "        :true_counts: True counts\n",
    "        :q: first moment of the dropout probability\n",
    "        :q_sq: second moment of the dropout probability\n",
    "\n",
    "        Simulate the beta-binomial dropout.\n",
    "    \"\"\"\n",
    "\n",
    "    m = q\n",
    "    v = q_sq - q**2\n",
    "    alpha = m*(m*(1-m)/v - 1)\n",
    "    beta = (1-m)*(m*(1-m)/v - 1)\n",
    "    qs = stats.beta.rvs(alpha, beta, size=true_counts.shape[0])\n",
    "\n",
    "    return qs, stats.binom.rvs(true_counts, np.vstack([qs for i in range(true_counts.shape[1])]).T)\n",
    "\n",
    "\n",
    "def create_simulated_anndata(samples):\n",
    "    \n",
    "    N = samples.shape[0]\n",
    "    obs_df = pd.DataFrame()\n",
    "    obs_df['n_counts'] = [1e10 for i in range(N)]\n",
    "    #obs_df['cell_type'] = label\n",
    "    values = samples\n",
    "    adata = sc.AnnData(\n",
    "        values, \n",
    "        var=pd.DataFrame(index=['gene_' + str(i) for i in range(1, n_genes+1)]),\n",
    "        obs=obs_df)\n",
    "    \n",
    "    return adata"
   ]
  },
  {
   "cell_type": "code",
   "execution_count": 10,
   "metadata": {},
   "outputs": [],
   "source": [
    "N = 20000\n",
    "n_genes=2\n",
    "p = 0.1\n",
    "noise_level = 0.2049755522580501\n",
    "p_sq = (noise_level+1)*p**2\n",
    "samples_A = simulate_correlated_data(0.7, size=N)\n",
    "samples_B = simulate_correlated_data(0.01, size=N)"
   ]
  },
  {
   "cell_type": "code",
   "execution_count": 11,
   "metadata": {},
   "outputs": [
    {
     "name": "stderr",
     "output_type": "stream",
     "text": [
      "Transforming to str index.\n"
     ]
    }
   ],
   "source": [
    "qs_A, obs_samples_A = simulate_dropout(samples_A, p, p_sq)\n",
    "qs_B, obs_samples_B = simulate_dropout(samples_B, p, p_sq)\n",
    "adata = create_simulated_anndata(np.vstack([obs_samples_A, obs_samples_B]))\n",
    "adata.obs['cell_type'] = ['A' for i in range(N)] + ['B' for i in range(N)]"
   ]
  },
  {
   "cell_type": "markdown",
   "metadata": {},
   "source": [
    "### Estimate correlation"
   ]
  },
  {
   "cell_type": "code",
   "execution_count": 12,
   "metadata": {},
   "outputs": [],
   "source": [
    "imp.reload(scmemo)\n",
    "estimator = scmemo.SingleCellEstimator(\n",
    "    adata=adata, \n",
    "    group_label='cell_type',\n",
    "    n_umis_column='n_counts',\n",
    "    num_permute=100000,\n",
    "    beta=p)\n",
    "estimator.beta_sq = p_sq\n"
   ]
  },
  {
   "cell_type": "code",
   "execution_count": 22,
   "metadata": {},
   "outputs": [],
   "source": [
    "estimator.compute_observed_moments()   \n",
    "estimator.estimate_1d_parameters()\n",
    "estimator.estimate_2d_parameters(\n",
    "    gene_list_1=['gene_1'],\n",
    "    gene_list_2=['gene_2'])\n",
    "\n",
    "\n",
    "estimator.compute_confidence_intervals_1d(\n",
    "    groups=['A','B'],\n",
    "    groups_to_compare=[('A', 'B')])\n",
    "\n",
    "estimator.compute_confidence_intervals_2d(\n",
    "    gene_list_1=['gene_1'],\n",
    "    gene_list_2=['gene_2'],\n",
    "    groups=['A', 'B'],\n",
    "    groups_to_compare=[('A', 'B')])"
   ]
  },
  {
   "cell_type": "markdown",
   "metadata": {},
   "source": [
    "### Plotting simulation results"
   ]
  },
  {
   "cell_type": "code",
   "execution_count": 14,
   "metadata": {},
   "outputs": [],
   "source": [
    "def line_from_correlation(corr, corr_ci, x, y, mu_x, mu_y, sigma_x, sigma_y, color_order):\n",
    "    \n",
    "#     mu_x = x.mean()\n",
    "#     mu_y = y.mean()\n",
    "#     sigma_x = x.std()\n",
    "#     sigma_y = y.std()\n",
    "    \n",
    "    beta_up = sigma_y/sigma_x*(corr + corr_ci)\n",
    "    alpha_up = mu_y - beta_up*mu_x\n",
    "    \n",
    "    beta = sigma_y/sigma_x*(corr)\n",
    "    alpha = mu_y - beta*mu_x\n",
    "    \n",
    "    beta_down = sigma_y/sigma_x*(corr - corr_ci)\n",
    "    alpha_down = mu_y - beta_down*mu_x\n",
    "    \n",
    "    x_range = np.arange(x.min(), 7, 0.1)\n",
    "    \n",
    "    up = beta_up*x_range + alpha_up\n",
    "    line = beta*x_range + alpha\n",
    "    down = beta_down*x_range + alpha_down\n",
    "            \n",
    "    plt.fill_between(x_range, up, down, alpha=0.3, color=sns.color_palette()[color_order])\n",
    "    plt.plot(x_range, line, color=sns.color_palette()[color_order])"
   ]
  },
  {
   "cell_type": "code",
   "execution_count": 15,
   "metadata": {},
   "outputs": [
    {
     "name": "stdout",
     "output_type": "stream",
     "text": [
      "(0.6783254721560283, 0.0)\n",
      "(0.002823019742651271, 0.6897376479802705)\n"
     ]
    }
   ],
   "source": [
    "print(stats.pearsonr(samples_A[:, 0], samples_A[:, 1]))\n",
    "print(stats.pearsonr(samples_B[:, 0], samples_B[:, 1]))"
   ]
  },
  {
   "cell_type": "code",
   "execution_count": 16,
   "metadata": {},
   "outputs": [
    {
     "name": "stdout",
     "output_type": "stream",
     "text": [
      "(0.17530811598632112, 9.017186548157502e-138)\n",
      "(0.06375369842289336, 1.8010242010870897e-19)\n"
     ]
    }
   ],
   "source": [
    "print(stats.pearsonr(obs_samples_A[:, 0], obs_samples_A[:, 1]))\n",
    "print(stats.pearsonr(obs_samples_B[:, 0], obs_samples_B[:, 1]))"
   ]
  },
  {
   "cell_type": "code",
   "execution_count": 17,
   "metadata": {},
   "outputs": [
    {
     "name": "stdout",
     "output_type": "stream",
     "text": [
      "0.8220592\n",
      "0.054476187\n"
     ]
    }
   ],
   "source": [
    "print(estimator.parameters['A']['corr'][0, 1])\n",
    "print(estimator.parameters['B']['corr'][0, 1])"
   ]
  },
  {
   "cell_type": "code",
   "execution_count": 18,
   "metadata": {},
   "outputs": [],
   "source": [
    "%matplotlib inline"
   ]
  },
  {
   "cell_type": "code",
   "execution_count": 21,
   "metadata": {},
   "outputs": [
    {
     "data": {
      "image/png": "[encoded data removed]",
      "text/plain": [
       "<Figure size 468x108 with 2 Axes>"
      ]
     },
     "metadata": {
      "needs_background": "light"
     },
     "output_type": "display_data"
    }
   ],
   "source": [
    "plt.figure(figsize=(6.5, 1.5))\n",
    "plt.subplots_adjust(left=None, bottom=None, right=None, top=None, wspace=0.45, \n",
    "                    hspace=None)\n",
    "plt.subplot(1, 2, 1);\n",
    "\n",
    "plot_2d_discrete(samples_A, 1, 0.15)\n",
    "plot_2d_discrete(samples_B, 1, -0.15)\n",
    "plt.xlim(-1, 13)\n",
    "plt.ylim(-1, 13)\n",
    "plt.ylabel('True expression \\n of gene B');\n",
    "plt.xlabel('True expression of gene A');\n",
    "\n",
    "plt.subplot(1, 2, 2);\n",
    "\n",
    "plot_2d_discrete(obs_samples_A, 1, 0.1)\n",
    "plot_2d_discrete(obs_samples_B, 1, -0.1)\n",
    "\n",
    "\n",
    "line_from_correlation(\n",
    "    corr=estimator.parameters['A']['corr'][0, 1],\n",
    "    corr_ci=estimator.parameters_confidence_intervals['A']['corr'][0, 1],\n",
    "    x=obs_samples_A[:, 0],\n",
    "    y=obs_samples_A[:, 1],\n",
    "    mu_x=estimator.parameters['A']['mean'][0],\n",
    "    mu_y=estimator.parameters['A']['mean'][1],\n",
    "    sigma_x=estimator.estimated_central_moments['A']['second'][0],\n",
    "    sigma_y=estimator.estimated_central_moments['A']['second'][1],\n",
    "    color_order=0\n",
    "    )\n",
    "line_from_correlation(\n",
    "    corr=estimator.parameters['B']['corr'][0, 1],\n",
    "    corr_ci=estimator.parameters_confidence_intervals['B']['corr'][0, 1],\n",
    "    x=obs_samples_B[:, 0],\n",
    "    y=obs_samples_B[:, 1],\n",
    "    mu_x=estimator.parameters['B']['mean'][0],\n",
    "    mu_y=estimator.parameters['B']['mean'][1],\n",
    "    sigma_x=estimator.estimated_central_moments['B']['second'][0],\n",
    "    sigma_y=estimator.estimated_central_moments['B']['second'][1],\n",
    "    color_order=1\n",
    "    )\n",
    "plt.ylabel('Observed expression \\n of gene B');\n",
    "plt.xlabel('Observed expression of gene A');\n",
    "#plt.tight_layout()\n",
    "plt.savefig('diff_cor.pdf', bbox_inches='tight')\n"
   ]
  }
 ],
 "metadata": {
  "kernelspec": {
   "display_name": "Python 3",
   "language": "python",
   "name": "python3"
  },
  "language_info": {
   "codemirror_mode": {
    "name": "ipython",
    "version": 3
   },
   "file_extension": ".py",
   "mimetype": "text/x-python",
   "name": "python",
   "nbconvert_exporter": "python",
   "pygments_lexer": "ipython3",
   "version": "3.7.5"
  }
 },
 "nbformat": 4,
 "nbformat_minor": 4
}
