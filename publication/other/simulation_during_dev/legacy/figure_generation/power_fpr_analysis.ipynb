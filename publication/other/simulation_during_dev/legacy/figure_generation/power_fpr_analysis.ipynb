{
 "cells": [
  {
   "cell_type": "markdown",
   "metadata": {},
   "source": [
    "# Distributional assumption test"
   ]
  },
  {
   "cell_type": "code",
   "execution_count": 1,
   "metadata": {},
   "outputs": [
    {
     "name": "stderr",
     "output_type": "stream",
     "text": [
      "/home/mkim7/anaconda3/envs/single_cell/lib/python3.7/site-packages/scanpy/api/__init__.py:6: FutureWarning: \n",
      "\n",
      "In a future version of Scanpy, `scanpy.api` will be removed.\n",
      "Simply use `import scanpy as sc` and `import scanpy.external as sce` instead.\n",
      "\n",
      "  FutureWarning\n"
     ]
    }
   ],
   "source": [
    "import pandas as pd\n",
    "import matplotlib.pyplot as plt\n",
    "import scanpy.api as sc\n",
    "import scipy as sp\n",
    "import itertools\n",
    "import numpy as np\n",
    "import scipy.stats as stats\n",
    "from scipy.integrate import dblquad\n",
    "import seaborn as sns\n",
    "from statsmodels.stats.multitest import fdrcorrection\n",
    "import imp\n",
    "pd.options.display.max_rows = 999\n",
    "pd.set_option('display.max_colwidth', -1)\n",
    "import pickle as pkl\n",
    "import time"
   ]
  },
  {
   "cell_type": "code",
   "execution_count": 2,
   "metadata": {},
   "outputs": [],
   "source": [
    "from mixedvines.copula import Copula, GaussianCopula, ClaytonCopula, \\\n",
    "        FrankCopula\n",
    "from mixedvines.mixedvine import MixedVine"
   ]
  },
  {
   "cell_type": "code",
   "execution_count": 3,
   "metadata": {},
   "outputs": [],
   "source": [
    "import matplotlib as mpl\n",
    "mpl.rcParams['pdf.fonttype'] = 42\n",
    "mpl.rcParams['ps.fonttype'] = 42\n",
    "\n",
    "import matplotlib.pylab as pylab\n",
    "params = {'legend.fontsize': 'medium',\n",
    "         'axes.labelsize': 'medium',\n",
    "         'axes.titlesize':'medium',\n",
    "         'figure.titlesize':'medium',\n",
    "         'xtick.labelsize':'small',\n",
    "         'ytick.labelsize':'small'}\n",
    "pylab.rcParams.update(params)\n"
   ]
  },
  {
   "cell_type": "code",
   "execution_count": 4,
   "metadata": {},
   "outputs": [
    {
     "name": "stderr",
     "output_type": "stream",
     "text": [
      "/home/mkim7/anaconda3/envs/single_cell/lib/python3.7/site-packages/ipykernel_launcher.py:2: UserWarning: ignore\n",
      "  \n"
     ]
    }
   ],
   "source": [
    "import warnings\n",
    "warnings.warn('ignore')"
   ]
  },
  {
   "cell_type": "code",
   "execution_count": 16,
   "metadata": {},
   "outputs": [],
   "source": [
    "%matplotlib inline"
   ]
  },
  {
   "cell_type": "code",
   "execution_count": 6,
   "metadata": {},
   "outputs": [],
   "source": [
    "import sys\n",
    "sys.path.append('/home/mkim7/Github/scrna-parameter-estimation/scmemo')\n",
    "import scmemo, utils"
   ]
  },
  {
   "cell_type": "code",
   "execution_count": 7,
   "metadata": {},
   "outputs": [],
   "source": [
    "data_path = '/data/parameter_estimation/interferon_data/20200324/'"
   ]
  },
  {
   "cell_type": "markdown",
   "metadata": {},
   "source": [
    "### Useful functions"
   ]
  },
  {
   "cell_type": "code",
   "execution_count": 8,
   "metadata": {},
   "outputs": [],
   "source": [
    "def convert_params(mu, theta):\n",
    "    \"\"\"\n",
    "    Convert mean/dispersion parameterization of a negative binomial to the ones scipy supports\n",
    "\n",
    "    See https://en.wikipedia.org/wiki/Negative_binomial_distribution#Alternative_formulations\n",
    "    \"\"\"\n",
    "    r = theta\n",
    "    var = mu + 1 / r * mu ** 2\n",
    "    p = (var - mu) / var\n",
    "    return r, 1 - p\n",
    "\n",
    "def convert_var_to_theta(mu, res_var):\n",
    "    \"\"\"\n",
    "    Convert mu, residual variance into mu and theta, assuming alpha=1\n",
    "    \"\"\"\n",
    "    \n",
    "    var = mu*res_var\n",
    "    theta = (mu**2)/(var - mu)\n",
    "    \n",
    "    return theta"
   ]
  },
  {
   "cell_type": "code",
   "execution_count": 9,
   "metadata": {},
   "outputs": [],
   "source": [
    "def density_scatterplot(a,b, s=1, cmap='Reds', kde=None):\n",
    "    # Calculate the point density\n",
    "    condition = np.isfinite(a) & np.isfinite(b)\n",
    "    x = a[condition]\n",
    "    y = b[condition]\n",
    "    xy = np.vstack([x,y])\n",
    "    z = stats.gaussian_kde(xy, bw_method=kde)(xy)\n",
    "    print(z)\n",
    "    plt.scatter(x, y, c=z, s=s, edgecolor='', cmap=cmap)\n",
    "    \n",
    "\n",
    "def robust_correlation(a, b):\n",
    "    \n",
    "    condition = (np.isfinite(a) & np.isfinite(b))\n",
    "    x = a[condition]\n",
    "    y = b[condition]\n",
    "    \n",
    "    return stats.spearmanr(x,y)\n",
    "\n",
    "def robust_linregress(a, b):\n",
    "    \n",
    "    condition = (np.isfinite(a) & np.isfinite(b))\n",
    "    x = a[condition]\n",
    "    y = b[condition]\n",
    "    \n",
    "    print(x.min())\n",
    "    \n",
    "    return stats.linregress(x,y)\n",
    "\n",
    "def robust_hist(x, **kwargs):\n",
    "    \n",
    "    condition = np.isfinite(x)\n",
    "    sns.distplot(x[condition], **kwargs)"
   ]
  },
  {
   "cell_type": "markdown",
   "metadata": {},
   "source": [
    "### Define some parameters"
   ]
  },
  {
   "cell_type": "code",
   "execution_count": 25,
   "metadata": {},
   "outputs": [],
   "source": [
    "# Noise parameters\n",
    "p = 0.1\n",
    "noise_level = 0.2049755522580501\n",
    "p_sq = (noise_level+1)*p**2\n",
    "m = p\n",
    "v = p_sq - p**2\n",
    "alpha = m*(m*(1-m)/v - 1)\n",
    "beta = (1-m)*(m*(1-m)/v - 1)"
   ]
  },
  {
   "cell_type": "code",
   "execution_count": 26,
   "metadata": {},
   "outputs": [],
   "source": [
    "# Negative binomial parameters\n",
    "nb_mean_1 = 3\n",
    "nb_mean_2 = 3.5\n",
    "nb_res_var_1 = 2\n",
    "nb_res_var_2 = 3\n",
    "nb_theta_1 = convert_var_to_theta(nb_mean_1, nb_res_var_1)\n",
    "nb_theta_2 = convert_var_to_theta(nb_mean_2, nb_res_var_2)\n",
    "corr_1 = 0.\n",
    "corr_2 = 0.3"
   ]
  },
  {
   "cell_type": "code",
   "execution_count": 27,
   "metadata": {},
   "outputs": [
    {
     "name": "stdout",
     "output_type": "stream",
     "text": [
      "3.0 1.75\n"
     ]
    }
   ],
   "source": [
    "print(nb_theta_1, nb_theta_2)"
   ]
  },
  {
   "cell_type": "code",
   "execution_count": 28,
   "metadata": {},
   "outputs": [],
   "source": [
    "# Gene A, differential expression\n",
    "A_mean_ctrl = nb_mean_1\n",
    "A_mean_stim = nb_mean_2\n",
    "A_theta_ctrl = nb_theta_1\n",
    "A_theta_stim = nb_theta_1\n",
    "\n",
    "# Gene B, differential variability\n",
    "B_mean_ctrl = nb_mean_1\n",
    "B_mean_stim = nb_mean_1\n",
    "B_theta_ctrl = nb_theta_1\n",
    "B_theta_stim = nb_theta_2\n",
    "\n",
    "# Correlations\n",
    "corr_ctrl = corr_1\n",
    "corr_stim = corr_2"
   ]
  },
  {
   "cell_type": "markdown",
   "metadata": {},
   "source": [
    "### Simulation functions"
   ]
  },
  {
   "cell_type": "code",
   "execution_count": 47,
   "metadata": {},
   "outputs": [],
   "source": [
    "def simulate_correlated_data(\n",
    "    corr,\n",
    "    mean_1,\n",
    "    mean_2,\n",
    "    theta_1,\n",
    "    theta_2,\n",
    "    size=1000):\n",
    "    \n",
    "    dim = 2  # Dimension\n",
    "    vine = MixedVine(dim)\n",
    "\n",
    "    vine.set_marginal(0, stats.nbinom(*convert_params(mean_1, theta_1)))\n",
    "    vine.set_marginal(1, stats.nbinom(*convert_params(mean_2, theta_2)))\n",
    "    vine.set_copula(1, 0, GaussianCopula(corr))\n",
    "    samples = vine.rvs(size)\n",
    "    \n",
    "    return samples.astype(int)\n",
    "\n",
    "def simulate_dropout(\n",
    "    true_counts,\n",
    "    q,\n",
    "    q_sq):\n",
    "    \"\"\" \n",
    "        :true_counts: True counts\n",
    "        :q: first moment of the dropout probability\n",
    "        :q_sq: second moment of the dropout probability\n",
    "\n",
    "        Simulate the beta-binomial dropout, an approximation to the hypergeometric \n",
    "        for stimulation with few genes.\n",
    "    \"\"\"\n",
    "\n",
    "    m = q\n",
    "    v = q_sq - q**2\n",
    "    alpha = m*(m*(1-m)/v - 1)\n",
    "    beta = (1-m)*(m*(1-m)/v - 1)\n",
    "    qs = stats.beta.rvs(alpha, beta, size=true_counts.shape[0])\n",
    "\n",
    "    return stats.binom.rvs(true_counts, np.vstack([qs for i in range(true_counts.shape[1])]).T)\n",
    "\n",
    "def simulate(N):\n",
    "    \n",
    "    # control data\n",
    "    ctrl_samples = simulate_correlated_data(\n",
    "        corr_ctrl,\n",
    "        A_mean_ctrl,\n",
    "        B_mean_ctrl,\n",
    "        A_theta_ctrl,\n",
    "        B_theta_ctrl,\n",
    "        size=N)\n",
    "    stim_samples = simulate_correlated_data(\n",
    "        corr_stim,\n",
    "        A_mean_stim,\n",
    "        B_mean_stim,\n",
    "        A_theta_stim,\n",
    "        B_theta_stim,\n",
    "        size=N)\n",
    "    \n",
    "    ctrl_obs = simulate_dropout(ctrl_samples, q=p, q_sq=p_sq)\n",
    "    stim_obs = simulate_dropout(stim_samples, q=p, q_sq=p_sq)\n",
    "    \n",
    "    obs_df = pd.DataFrame()\n",
    "    obs_df['group'] = ['ctrl' for i in range(N)] + ['stim' for i in range(N)]\n",
    "    obs_df['n_counts'] = 1e5 # A large number for n_counts\n",
    "    obs_df.index = obs_df.index.astype(str)\n",
    "    \n",
    "    adata = sc.AnnData(\n",
    "        np.vstack([ctrl_obs, stim_obs]), \n",
    "        var=pd.DataFrame(index=['gene_A', 'gene_B']),\n",
    "        obs=obs_df)\n",
    "    \n",
    "    return adata\n",
    "\n",
    "def hypothesis_test(adata, ci=False):\n",
    "    \n",
    "    estimator = scmemo.SingleCellEstimator(\n",
    "        adata=adata, \n",
    "        group_label='group',\n",
    "        n_umis_column='n_counts',\n",
    "        num_permute=100000,\n",
    "        beta=p)\n",
    "    estimator.beta_sq = p_sq\n",
    "    \n",
    "    estimator.compute_observed_moments()   \n",
    "    estimator.mean_var_slope = 1\n",
    "    estimator.mean_var_inter = 0\n",
    "    estimator.estimate_1d_parameters()\n",
    "    estimator.estimate_2d_parameters(\n",
    "        gene_list_1=['gene_A'],\n",
    "        gene_list_2=['gene_B'])\n",
    "\n",
    "\n",
    "    if ci:\n",
    "        return estimator.compute_confidence_intervals_1d(\n",
    "        groups=['ctrl','stim'],\n",
    "        groups_to_compare=[('ctrl', 'stim')])\n",
    "    \n",
    "    estimator.compute_confidence_intervals_2d(\n",
    "        gene_list_1=['gene_A'],\n",
    "        gene_list_2=['gene_B'],\n",
    "        groups=['ctrl','stim'],\n",
    "        groups_to_compare=[('ctrl', 'stim')])\n",
    "    \n",
    "    detected_de = estimator.hypothesis_test_result_1d[('ctrl', 'stim')]['de_pval'][0] < 0.05\n",
    "    detected_dv = estimator.hypothesis_test_result_1d[('ctrl', 'stim')]['dv_pval'][1] < 0.05\n",
    "    detected_dc = estimator.hypothesis_test_result_2d[('ctrl', 'stim')]['dcorr_pval'][0][0] < 0.05\n",
    "    \n",
    "    return detected_de, detected_dv, detected_dc\n",
    "    \n",
    "    "
   ]
  },
  {
   "cell_type": "markdown",
   "metadata": {},
   "source": [
    "### Compute power"
   ]
  },
  {
   "cell_type": "code",
   "execution_count": 48,
   "metadata": {},
   "outputs": [
    {
     "data": {
      "text/plain": [
       "<module 'scmemo' from '/home/mkim7/Github/scrna-parameter-estimation/scmemo/scmemo.py'>"
      ]
     },
     "execution_count": 48,
     "metadata": {},
     "output_type": "execute_result"
    }
   ],
   "source": [
    "imp.reload(scmemo)\n"
   ]
  },
  {
   "cell_type": "code",
   "execution_count": 14,
   "metadata": {},
   "outputs": [],
   "source": [
    "Ns = np.logspace(2, 5, 25)\n",
    "num_trials = 500"
   ]
  },
  {
   "cell_type": "code",
   "execution_count": 307,
   "metadata": {},
   "outputs": [],
   "source": [
    "de_power = []\n",
    "dv_power = []\n",
    "dc_power = []\n",
    "\n",
    "de_ci = []\n",
    "dv_ci = []\n",
    "dc_ci = []\n",
    "\n",
    "for idx, N in enumerate(Ns):\n",
    "    \n",
    "    if idx > 0 and idx % 4 == 0:\n",
    "    \n",
    "        with open('de_power_{}.pkl'.format(idx), 'wb') as f:\n",
    "            pkl.dump(de_power, f)\n",
    "        with open('dv_power_{}.pkl'.format(idx), 'wb') as f:\n",
    "            pkl.dump(dv_power, f)\n",
    "        with open('dc_power_{}.pkl'.format(idx), 'wb') as f:\n",
    "            pkl.dump(dc_power, f)\n",
    "    \n",
    "    de_success = np.zeros(num_trials)\n",
    "    dv_success = np.zeros(num_trials)\n",
    "    dc_success = np.zeros(num_trials)\n",
    "    \n",
    "    ci_dict_list = []\n",
    "    \n",
    "    for trial in range(num_trials):\n",
    "        adata = simulate(int(N))\n",
    "        de_success[trial], dv_success[trial], dc_success[trial] = hypothesis_test(adata)\n",
    "\n",
    "    de_power.append(np.nanmean(de_success))\n",
    "    dv_power.append(np.nanmean(dv_success))\n",
    "    dc_power.append(np.nanmean(dc_success))"
   ]
  },
  {
   "cell_type": "code",
   "execution_count": 308,
   "metadata": {},
   "outputs": [],
   "source": [
    "# with open('de_power_all.pkl', 'wb') as f:\n",
    "#     pkl.dump(de_power, f)\n",
    "# with open('dv_power_all.pkl', 'wb') as f:\n",
    "#     pkl.dump(dv_power, f)\n",
    "# with open('dc_power_all.pkl', 'wb') as f:\n",
    "#     pkl.dump(dc_power, f)"
   ]
  },
  {
   "cell_type": "code",
   "execution_count": 11,
   "metadata": {},
   "outputs": [],
   "source": [
    "with open('de_power_all.pkl', 'rb') as f:\n",
    "    de_power = pkl.load(f)\n",
    "with open('dv_power_all.pkl', 'rb') as f:\n",
    "    dv_power = pkl.load(f)\n",
    "with open('dc_power_all.pkl', 'rb') as f:\n",
    "    dc_power = pkl.load(f)"
   ]
  },
  {
   "cell_type": "code",
   "execution_count": 20,
   "metadata": {},
   "outputs": [
    {
     "data": {
      "image/png": "[encoded data removed]",
      "text/plain": [
       "<Figure size 216x144 with 1 Axes>"
      ]
     },
     "metadata": {
      "needs_background": "light"
     },
     "output_type": "display_data"
    }
   ],
   "source": [
    "#params = {'legend.fontsize': 9}\n",
    "pylab.rcParams.update(params)\n",
    "plt.figure(figsize=(3, 2))\n",
    "plt.plot(Ns,de_power, 'o-', ms=4)\n",
    "plt.plot(Ns,dv_power, 'o-', ms=4)\n",
    "plt.plot(Ns,dc_power, 'o-', ms=4)\n",
    "plt.xscale('log')\n",
    "plt.xlabel('Number of cells')\n",
    "plt.ylabel('Power')\n",
    "plt.legend(['DE', 'DV', 'DC'], loc='lower right', bbox_to_anchor=(0.52, -0.02, 0.5, 0.5))\n",
    "plt.savefig('power.pdf', bbox_inches='tight')"
   ]
  },
  {
   "cell_type": "markdown",
   "metadata": {},
   "source": [
    "### Compute confidence interval - variability\n",
    "\n",
    "This requires a hack in scmemo.py, returning the full bootstrapped log_mean and log residual var"
   ]
  },
  {
   "cell_type": "code",
   "execution_count": 21,
   "metadata": {},
   "outputs": [],
   "source": [
    "Ns = [5000, 10000, 50000, 100000]"
   ]
  },
  {
   "cell_type": "code",
   "execution_count": 30,
   "metadata": {},
   "outputs": [],
   "source": [
    "full_adata = simulate(int(Ns[-1]))"
   ]
  },
  {
   "cell_type": "code",
   "execution_count": 46,
   "metadata": {},
   "outputs": [],
   "source": [
    "full_adata = simulate(10000)"
   ]
  },
  {
   "cell_type": "code",
   "execution_count": null,
   "metadata": {},
   "outputs": [],
   "source": []
  },
  {
   "cell_type": "code",
   "execution_count": 70,
   "metadata": {},
   "outputs": [
    {
     "data": {
      "text/plain": [
       "<matplotlib.legend.Legend at 0x7fe4dd0b6290>"
      ]
     },
     "execution_count": 70,
     "metadata": {},
     "output_type": "execute_result"
    },
    {
     "data": {
      "image/png": "[encoded data removed]",
      "text/plain": [
       "<Figure size 180x144 with 1 Axes>"
      ]
     },
     "metadata": {
      "needs_background": "light"
     },
     "output_type": "display_data"
    }
   ],
   "source": [
    "imp.reload(scmemo)\n",
    "sns.set_palette('Set2')\n",
    "plt.figure(figsize=(2.5, 2));\n",
    "#plt.subplots_adjust(wspace=0.3)\n",
    "full_adata = simulate(int(Ns[-1]))\n",
    "\n",
    "# plt.subplot(1, 2, 1)\n",
    "# for N in Ns:\n",
    "\n",
    "#     adata = full_adata.copy()\n",
    "#     sc.pp.subsample(adata, n_obs=int(N))\n",
    "#     mean_boot, res_var_boot = hypothesis_test(adata, ci=True)\n",
    "#     robust_hist(np.log(mean_boot['ctrl']), hist=False)\n",
    "# plt.xlim(0.9, 1.2)\n",
    "# plt.xlabel('Mean\\nexpression')\n",
    "# plt.ylabel('Density')\n",
    "\n",
    "\n",
    "# plt.subplot(1, 2, 2)\n",
    "dists = []\n",
    "for N in Ns:\n",
    "\n",
    "    adata = full_adata.copy()\n",
    "    sc.pp.subsample(adata, n_obs=int(N))\n",
    "    mean_boot, res_var_boot = hypothesis_test(adata, ci=True)\n",
    "    dists.append(res_var_boot['ctrl'])\n",
    "    robust_hist(res_var_boot['ctrl'], hist=False, label='{}K'.format(int(N/1000)))\n",
    "plt.plot([2, 2], [0, 6], '--', label='True\\nvalue', lw=2)\n",
    "\n",
    "plt.legend(loc='center left', bbox_to_anchor=(1, 0.5))\n",
    "\n"
   ]
  },
  {
   "cell_type": "code",
   "execution_count": 75,
   "metadata": {},
   "outputs": [],
   "source": [
    "with open('boot_ci_variability.pkl', 'wb') as f:\n",
    "    pkl.dump(dists, f)"
   ]
  },
  {
   "cell_type": "code",
   "execution_count": 74,
   "metadata": {},
   "outputs": [
    {
     "data": {
      "image/png": "[encoded data removed]",
      "text/plain": [
       "<Figure size 180x144 with 1 Axes>"
      ]
     },
     "metadata": {
      "needs_background": "light"
     },
     "output_type": "display_data"
    }
   ],
   "source": [
    "sns.set_palette('Set2')\n",
    "plt.figure(figsize=(2.5, 2));\n",
    "for dist, N in zip(dists, Ns):\n",
    "    robust_hist(dist, hist=False, label='{}K'.format(int(N/1000)))\n",
    "plt.xlim(1, 3.3)\n",
    "plt.xlabel('Variability')\n",
    "plt.plot([2, 2], [0, 6], '--', label='True\\nvalue', lw=2)\n",
    "\n",
    "plt.legend(loc='center left', bbox_to_anchor=(1, 0.5))\n",
    "plt.savefig('ci_numcells_4.pdf', bbox_inches='tight')"
   ]
  },
  {
   "cell_type": "markdown",
   "metadata": {},
   "source": [
    "### Confidence interval for mean and correlation\n",
    "\n",
    "To go into supps"
   ]
  },
  {
   "cell_type": "code",
   "execution_count": null,
   "metadata": {},
   "outputs": [],
   "source": []
  }
 ],
 "metadata": {
  "kernelspec": {
   "display_name": "Python 3",
   "language": "python",
   "name": "python3"
  },
  "language_info": {
   "codemirror_mode": {
    "name": "ipython",
    "version": 3
   },
   "file_extension": ".py",
   "mimetype": "text/x-python",
   "name": "python",
   "nbconvert_exporter": "python",
   "pygments_lexer": "ipython3",
   "version": "3.7.5"
  }
 },
 "nbformat": 4,
 "nbformat_minor": 4
}
