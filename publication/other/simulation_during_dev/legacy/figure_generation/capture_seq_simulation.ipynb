{
 "cells": [
  {
   "cell_type": "markdown",
   "metadata": {},
   "source": [
    "# Capture + sequencing combined process simulation\n",
    "\n",
    "This notebook is aimed at simulating a two stage dropout process where sequences are captured, then sequenced. We would like to demonstrate that these two processes can be summarized in a single capture process."
   ]
  },
  {
   "cell_type": "code",
   "execution_count": 1,
   "metadata": {},
   "outputs": [
    {
     "name": "stderr",
     "output_type": "stream",
     "text": [
      "/home/mkim7/anaconda3/envs/single_cell/lib/python3.7/site-packages/scanpy/api/__init__.py:6: FutureWarning: \n",
      "\n",
      "In a future version of Scanpy, `scanpy.api` will be removed.\n",
      "Simply use `import scanpy as sc` and `import scanpy.external as sce` instead.\n",
      "\n",
      "  FutureWarning\n"
     ]
    }
   ],
   "source": [
    "import pandas as pd\n",
    "import matplotlib.pyplot as plt\n",
    "import scanpy.api as sc\n",
    "import scipy as sp\n",
    "import itertools\n",
    "import numpy as np\n",
    "import scipy.stats as stats\n",
    "from scipy.integrate import dblquad\n",
    "import seaborn as sns\n",
    "from statsmodels.stats.multitest import fdrcorrection\n",
    "import imp\n",
    "pd.options.display.max_rows = 999\n",
    "pd.set_option('display.max_colwidth', -1)\n",
    "import pickle as pkl\n",
    "import time"
   ]
  },
  {
   "cell_type": "code",
   "execution_count": 2,
   "metadata": {},
   "outputs": [],
   "source": [
    "import sys\n",
    "sys.path.append('/home/mkim7/Github/scrna-parameter-estimation/scmemo')\n",
    "import scmemo, utils"
   ]
  },
  {
   "cell_type": "code",
   "execution_count": 3,
   "metadata": {},
   "outputs": [],
   "source": [
    "%matplotlib inline"
   ]
  },
  {
   "cell_type": "code",
   "execution_count": 4,
   "metadata": {},
   "outputs": [],
   "source": [
    "import matplotlib.pylab as pylab\n",
    "params = {'legend.fontsize': 'medium',\n",
    "         'axes.labelsize': 'medium',\n",
    "         'axes.titlesize':'medium',\n",
    "         'figure.titlesize':'medium',\n",
    "         'xtick.labelsize':'small',\n",
    "         'ytick.labelsize':'small'}\n",
    "pylab.rcParams.update(params)\n"
   ]
  },
  {
   "cell_type": "markdown",
   "metadata": {},
   "source": [
    "### Hypergeometric vs binomial simulation"
   ]
  },
  {
   "cell_type": "code",
   "execution_count": 5,
   "metadata": {},
   "outputs": [],
   "source": [
    "N = 2000\n",
    "q = 0.1\n",
    "true_value = 3\n",
    "\n",
    "hyper = stats.hypergeom.rvs(N, true_value, int(N*q), size=100000)\n",
    "binom = stats.binom.rvs(true_value, q, size=100000)"
   ]
  },
  {
   "cell_type": "code",
   "execution_count": 6,
   "metadata": {},
   "outputs": [
    {
     "data": {
      "text/plain": [
       "0.29927"
      ]
     },
     "execution_count": 6,
     "metadata": {},
     "output_type": "execute_result"
    }
   ],
   "source": [
    "hyper.mean()"
   ]
  },
  {
   "cell_type": "code",
   "execution_count": 7,
   "metadata": {},
   "outputs": [
    {
     "data": {
      "image/png": "[encoded data removed]",
      "text/plain": [
       "<Figure size 432x288 with 1 Axes>"
      ]
     },
     "metadata": {
      "needs_background": "light"
     },
     "output_type": "display_data"
    }
   ],
   "source": [
    "plt.hist([hyper, binom]);"
   ]
  },
  {
   "cell_type": "markdown",
   "metadata": {},
   "source": [
    "### Function for simulating transcriptomes based on NB distributions"
   ]
  },
  {
   "cell_type": "code",
   "execution_count": 56,
   "metadata": {},
   "outputs": [],
   "source": [
    "def convert_params(mu, theta):\n",
    "    \"\"\"\n",
    "    Convert mean/dispersion parameterization of a negative binomial to the ones scipy supports\n",
    "\n",
    "    See https://en.wikipedia.org/wiki/Negative_binomial_distribution#Alternative_formulations\n",
    "    \"\"\"\n",
    "    r = theta\n",
    "    var = mu + 1 / r * mu ** 2\n",
    "    p = (var - mu) / var\n",
    "    return r, 1 - p\n",
    "\n",
    "def simulate_transcriptomes(n_cells, n_genes):\n",
    "    \n",
    "    params = stats.multivariate_normal.rvs(mean=[-1, 2], cov=np.array([[4, 0], [0, 0.4]]), size=n_genes)\n",
    "    means, residual_variances = np.exp(params[:, 0]), np.exp(params[:, 1])\n",
    "    variances = means*residual_variances\n",
    "    dispersions = (variances - means)/means**2\n",
    "    dispersions[dispersions < 0] = 1e-5\n",
    "    thetas = 1/dispersions\n",
    "\n",
    "    return stats.nbinom.rvs(*convert_params(means, thetas), size=(n_cells, n_genes))\n",
    "\n",
    "\n",
    "def capture_sampling(transcriptomes, q, q_sq):\n",
    "    \n",
    "    m = q\n",
    "    v = q_sq - q**2\n",
    "    alpha = m*(m*(1-m)/v - 1)\n",
    "    beta = (1-m)*(m*(1-m)/v - 1)\n",
    "    qs = stats.beta.rvs(alpha, beta, size=transcriptomes.shape[0])\n",
    "    \n",
    "    captured_transcriptomes = []\n",
    "    for i in range(transcriptomes.shape[0]):\n",
    "        captured_transcriptomes.append(\n",
    "            gen.multivariate_hypergeometric(transcriptomes[i, :], np.round(qs[i]*transcriptomes[i, :].sum()).astype(int))\n",
    "        )\n",
    "    \n",
    "    return qs, np.vstack(captured_transcriptomes)\n",
    "\n",
    "\n",
    "def sequencing_sampling(transcriptomes):\n",
    "    \n",
    "    observed_transcriptomes = np.zeros(transcriptomes.shape)\n",
    "    num_molecules = transcriptomes.sum()\n",
    "    print(num_molecules)\n",
    "    \n",
    "    for i in range(n_cells):\n",
    "        for j in range(n_genes):\n",
    "            \n",
    "            observed_transcriptomes[i, j] = (stats.binom.rvs(n=int(num_reads), p=1/num_molecules, size=transcriptomes[i, j]) > 0).sum()\n",
    "            \n",
    "    return observed_transcriptomes"
   ]
  },
  {
   "cell_type": "markdown",
   "metadata": {},
   "source": [
    "### Define simulation parameters"
   ]
  },
  {
   "cell_type": "code",
   "execution_count": 65,
   "metadata": {},
   "outputs": [],
   "source": [
    "n_cells = 10000\n",
    "n_genes = 5000\n",
    "q = 0.1\n",
    "q_sq = 0.012\n",
    "noise_level = q_sq/q**2-1\n",
    "num_reads = 2000000\n",
    "sequencing_capture_efficiency = 1"
   ]
  },
  {
   "cell_type": "markdown",
   "metadata": {},
   "source": [
    "### Simulate a transcriptome - no sequencing noise"
   ]
  },
  {
   "cell_type": "code",
   "execution_count": 66,
   "metadata": {},
   "outputs": [
    {
     "data": {
      "image/png": "[encoded data removed]",
      "text/plain": [
       "<Figure size 432x288 with 1 Axes>"
      ]
     },
     "metadata": {
      "needs_background": "light"
     },
     "output_type": "display_data"
    }
   ],
   "source": [
    "gen = np.random.Generator(np.random.PCG64(42343))\n",
    "transcriptome = simulate_transcriptomes(n_cells, n_genes)\n",
    "real_content = transcriptome.sum(axis=1)\n",
    "qs, observed_transcriptome = capture_sampling(transcriptome, q, q_sq)\n",
    "observed_content = observed_transcriptome.sum(axis=1)\n",
    "sns.distplot(qs)\n",
    "\n",
    "# Construct the AnnData object\n",
    "adata = sc.AnnData(observed_transcriptome)\n",
    "adata.obs['n_counts'] = observed_transcriptome.sum(axis=1)\n",
    "adata.obs['cell_type'] = 'A'\n",
    "\n",
    "# define interesting variables\n",
    "x_true = np.log(transcriptome.mean(axis=0))\n",
    "y_true = np.log(transcriptome.var(axis=0))\n",
    "x_obs = np.log(observed_transcriptome.mean(axis=0))\n",
    "y_obs = np.log(observed_transcriptome.var(axis=0))"
   ]
  },
  {
   "cell_type": "markdown",
   "metadata": {},
   "source": [
    "### Estimate beta_sq based on the poisson assumption then the correlation minimization"
   ]
  },
  {
   "cell_type": "code",
   "execution_count": 67,
   "metadata": {},
   "outputs": [],
   "source": [
    "import warnings\n",
    "warnings.filterwarnings(\"ignore\")"
   ]
  },
  {
   "cell_type": "code",
   "execution_count": 68,
   "metadata": {},
   "outputs": [
    {
     "name": "stdout",
     "output_type": "stream",
     "text": [
      "E[q^2] falls in [0.01000, 0.01193942], with the current estimate of 0.01193340\n",
      "upper limit 0.011939424624285181\n",
      "estimated 0.011933401508354143\n",
      "true value 0.012\n",
      "lower limit 0.010000000000000002\n"
     ]
    },
    {
     "data": {
      "image/png": "[encoded data removed]",
      "text/plain": [
       "<Figure size 432x288 with 1 Axes>"
      ]
     },
     "metadata": {
      "needs_background": "light"
     },
     "output_type": "display_data"
    }
   ],
   "source": [
    "imp.reload(scmemo)\n",
    "imp.reload(utils)\n",
    "estimator = scmemo.SingleCellEstimator(\n",
    "    adata=adata, \n",
    "    group_label='cell_type',\n",
    "    n_umis_column='n_counts',\n",
    "    num_permute=10000,\n",
    "    beta=q)\n",
    "estimator.compute_observed_moments(verbose=False)\n",
    "\n",
    "# Estimate q_sq\n",
    "estimator.estimate_beta_sq(frac=0.5)\n",
    "#estimator.beta_sq = 0.01287669\n",
    "estimator.plot_cv_mean_curve()\n",
    "\n",
    "# Estimate the true moments\n",
    "estimator.estimate_1d_parameters()\n",
    "x = np.log(estimator.estimated_central_moments['all']['first'])\n",
    "y = np.log(estimator.estimated_central_moments['all']['second'])\n",
    "\n",
    "# Define the limits\n",
    "q_sq_lower_lim = estimator.beta**2\n",
    "observed_content = observed_transcriptome.sum(axis=1)\n",
    "q_sq_upper_lim = (observed_content**2).mean()/observed_content.mean()**2*estimator.beta**2\n",
    "print('upper limit', q_sq_upper_lim)\n",
    "print('estimated', estimator.beta_sq)\n",
    "print('true value', q_sq)\n",
    "print('lower limit', q_sq_lower_lim)"
   ]
  },
  {
   "cell_type": "code",
   "execution_count": 70,
   "metadata": {},
   "outputs": [
    {
     "data": {
      "text/plain": [
       "Text(0.5, 0, 'Log(mean)')"
      ]
     },
     "execution_count": 70,
     "metadata": {},
     "output_type": "execute_result"
    },
    {
     "data": {
      "image/png": "[encoded data removed]",
      "text/plain": [
       "<Figure size 576x144 with 3 Axes>"
      ]
     },
     "metadata": {
      "needs_background": "light"
     },
     "output_type": "display_data"
    }
   ],
   "source": [
    "plt.figure(figsize=(8, 2))\n",
    "plt.subplots_adjust(wspace=0.4)\n",
    "\n",
    "plt.subplot(1, 3, 1)\n",
    "plt.scatter(x_true, y_true/2-x_true, s=1)\n",
    "plt.plot(np.array([-5, 5]), -1*np.array([-5, 5])/2,'k', lw=2)\n",
    "plt.title('Ground truth')\n",
    "plt.xlabel('Log(mean)')\n",
    "plt.ylabel('Log(CV)')\n",
    "\n",
    "plt.subplot(1, 3, 2)\n",
    "plt.scatter(x_obs, y_obs/2-x_obs, s=1)\n",
    "plt.plot(np.array([-5, 5]), -1*np.array([-5, 5])/2,'k', lw=2)\n",
    "plt.title('Observed')\n",
    "plt.xlabel('Log(mean)')\n",
    "\n",
    "\n",
    "plt.subplot(1, 3, 3)\n",
    "plt.scatter(x, y/2-x, s=1)\n",
    "plt.plot(np.array([-5, 5]), -1*np.array([-5, 5])/2,'k', lw=2)\n",
    "plt.title('Reconstructed')\n",
    "plt.xlabel('Log(mean)')\n",
    "\n",
    "\n"
   ]
  },
  {
   "cell_type": "markdown",
   "metadata": {},
   "source": [
    "### Run the simulation - with composite error from capture + sequencing"
   ]
  },
  {
   "cell_type": "code",
   "execution_count": 63,
   "metadata": {},
   "outputs": [
    {
     "ename": "ValueError",
     "evalue": "too many values to unpack (expected 3)",
     "output_type": "error",
     "traceback": [
      "\u001b[0;31m---------------------------------------------\u001b[0m",
      "\u001b[0;31mValueError\u001b[0m  Traceback (most recent call last)",
      "\u001b[0;32m<ipython-input-63-18ab00457025>\u001b[0m in \u001b[0;36m<module>\u001b[0;34m\u001b[0m\n\u001b[0;32m----> 1\u001b[0;31m \u001b[0m_\u001b[0m\u001b[0;34m,\u001b[0m \u001b[0m_\u001b[0m\u001b[0;34m,\u001b[0m \u001b[0mtranscriptome\u001b[0m \u001b[0;34m=\u001b[0m \u001b[0msimulate_transcriptomes\u001b[0m\u001b[0;34m(\u001b[0m\u001b[0mn_cells\u001b[0m\u001b[0;34m,\u001b[0m \u001b[0mn_genes\u001b[0m\u001b[0;34m)\u001b[0m\u001b[0;34m\u001b[0m\u001b[0;34m\u001b[0m\u001b[0m\n\u001b[0m\u001b[1;32m      2\u001b[0m \u001b[0mreal_content\u001b[0m \u001b[0;34m=\u001b[0m \u001b[0mtranscriptome\u001b[0m\u001b[0;34m.\u001b[0m\u001b[0msum\u001b[0m\u001b[0;34m(\u001b[0m\u001b[0maxis\u001b[0m\u001b[0;34m=\u001b[0m\u001b[0;36m1\u001b[0m\u001b[0;34m)\u001b[0m\u001b[0;34m\u001b[0m\u001b[0;34m\u001b[0m\u001b[0m\n",
      "\u001b[0;31mValueError\u001b[0m: too many values to unpack (expected 3)"
     ]
    }
   ],
   "source": [
    "_, _, transcriptome = simulate_transcriptomes(n_cells, n_genes)\n",
    "real_content = transcriptome.sum(axis=1)\n"
   ]
  },
  {
   "cell_type": "code",
   "execution_count": null,
   "metadata": {},
   "outputs": [],
   "source": [
    "qs, captured_transcriptome = capture_sampling(transcriptome, q, q_sq)"
   ]
  },
  {
   "cell_type": "code",
   "execution_count": null,
   "metadata": {},
   "outputs": [],
   "source": [
    "observed_transcriptome = stats.binom.rvs(captured_transcriptome, p=sequencing_capture_efficiency)\n"
   ]
  },
  {
   "cell_type": "markdown",
   "metadata": {},
   "source": [
    "### Estimate overall noise parameters - Poisson assumption method"
   ]
  },
  {
   "cell_type": "code",
   "execution_count": null,
   "metadata": {},
   "outputs": [],
   "source": [
    "observed_means = observed_transcriptome.mean(axis=0)\n",
    "observed_vars = observed_transcriptome.var(axis=0)\n",
    "observed_cv_sq = observed_vars/observed_means**2"
   ]
  },
  {
   "cell_type": "code",
   "execution_count": null,
   "metadata": {},
   "outputs": [],
   "source": [
    "adata = sc.AnnData(observed_transcriptome)\n",
    "adata.obs['n_counts'] = observed_transcriptome.sum(axis=1)"
   ]
  },
  {
   "cell_type": "code",
   "execution_count": null,
   "metadata": {},
   "outputs": [],
   "source": [
    "overall_q_sq/overall_q**2-1"
   ]
  },
  {
   "cell_type": "code",
   "execution_count": null,
   "metadata": {},
   "outputs": [],
   "source": [
    "estimated_noise_level"
   ]
  },
  {
   "cell_type": "code",
   "execution_count": null,
   "metadata": {},
   "outputs": [],
   "source": [
    "x = observed_means\n",
    "y = observed_vars\n",
    "estimated_noise_level = np.percentile(\n",
    "    (y/x**2 - 1/x), \n",
    "    q=40)\n",
    "overall_q = observed_transcriptome.sum()/captured_transcriptome.sum() * q\n",
    "overall_q_sq = (estimated_noise_level + 1)*overall_q**2\n",
    "\n",
    "plt.scatter(\n",
    "    np.log(observed_means),\n",
    "    np.log(observed_cv_sq),\n",
    "    s=5\n",
    ")\n",
    "bound_x = np.arange(\n",
    "    np.nanmin(observed_means),\n",
    "    np.nanmax(observed_means),\n",
    "    0.01)\n",
    "bound_y = 1/bound_x + estimated_noise_level\n",
    "\n",
    "plt.plot(np.log(bound_x), -np.log(bound_x), color='k', lw=2)\n",
    "plt.plot(np.log(bound_x), np.log(bound_y), lw=2, color='r')\n",
    "plt.axis('equal');\n",
    "plt.legend(['Poisson', 'Poisson + noise', 'genes'])\n",
    "plt.title('Observed Mean - CV Relationship');\n",
    "plt.xlabel('log( observed mean )')\n",
    "plt.ylabel('log( observed CV^2 )')"
   ]
  },
  {
   "cell_type": "code",
   "execution_count": null,
   "metadata": {},
   "outputs": [],
   "source": [
    "(qs**2).mean()"
   ]
  },
  {
   "cell_type": "code",
   "execution_count": null,
   "metadata": {},
   "outputs": [],
   "source": [
    "overall_q_sq"
   ]
  },
  {
   "cell_type": "code",
   "execution_count": null,
   "metadata": {},
   "outputs": [],
   "source": [
    "overall_q"
   ]
  },
  {
   "cell_type": "markdown",
   "metadata": {},
   "source": [
    "### Perform a single step of dropout"
   ]
  },
  {
   "cell_type": "code",
   "execution_count": null,
   "metadata": {},
   "outputs": [],
   "source": [
    "approx_observed_transcriptome = capture_sampling(transcriptome, overall_q, overall_q_sq)\n",
    "sns.distplot(observed_transcriptome.sum(axis=1), hist=False, label='Sequenced transcripts', kde_kws={'lw':5})\n",
    "sns.distplot(approx_observed_transcriptome.sum(axis=1), hist=False, label='One set hypergeometric', kde_kws={'lw':5, 'linestyle':':'})\n",
    "sns.distplot(captured_transcriptome.sum(axis=1), hist=False, label='Captured transcripts', kde_kws={'lw':5})\n",
    "sns.distplot(transcriptome.sum(axis=1), hist=False, label='True mRNA content', kde_kws={'lw':5})\n",
    "\n",
    "plt.title('Distribution of simulated mRNA content in cells')\n",
    "plt.xlabel('Count');plt.ylabel('Density')\n",
    "plt.savefig('capture_seq_rna_content.pdf', bbox_inches='tight');\n",
    "#sns.distplot(transcriptome.sum(axis=1))"
   ]
  },
  {
   "cell_type": "code",
   "execution_count": null,
   "metadata": {},
   "outputs": [],
   "source": []
  }
 ],
 "metadata": {
  "kernelspec": {
   "display_name": "Python 3",
   "language": "python",
   "name": "python3"
  },
  "language_info": {
   "codemirror_mode": {
    "name": "ipython",
    "version": 3
   },
   "file_extension": ".py",
   "mimetype": "text/x-python",
   "name": "python",
   "nbconvert_exporter": "python",
   "pygments_lexer": "ipython3",
   "version": "3.7.5"
  }
 },
 "nbformat": 4,
 "nbformat_minor": 4
}
