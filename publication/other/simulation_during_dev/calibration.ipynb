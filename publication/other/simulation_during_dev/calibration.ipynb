{
 "cells": [
  {
   "cell_type": "markdown",
   "metadata": {},
   "source": [
    "# Calibration with repeated PBMC data\n",
    "\n",
    "Check calibration of DE/DV/DC using the interferon data"
   ]
  },
  {
   "cell_type": "code",
   "execution_count": 1,
   "metadata": {},
   "outputs": [
    {
     "name": "stderr",
     "output_type": "stream",
     "text": [
      "<ipython-input-1-779ba7c36955>:13: FutureWarning: Passing a negative integer is deprecated in version 1.0 and will not be supported in future version. Instead, use None to not limit the column width.\n",
      "  pd.set_option('display.max_colwidth', -1)\n"
     ]
    }
   ],
   "source": [
    "import pandas as pd\n",
    "import matplotlib.pyplot as plt\n",
    "import scanpy as sc\n",
    "import scipy as sp\n",
    "import itertools\n",
    "import numpy as np\n",
    "import scipy.stats as stats\n",
    "from scipy.integrate import dblquad\n",
    "import seaborn as sns\n",
    "from statsmodels.stats.multitest import fdrcorrection\n",
    "import imp\n",
    "pd.options.display.max_rows = 999\n",
    "pd.set_option('display.max_colwidth', -1)\n",
    "import pickle as pkl\n",
    "import time\n",
    "import collections\n",
    "import gseapy\n",
    "from matplotlib.colors import ListedColormap"
   ]
  },
  {
   "cell_type": "code",
   "execution_count": 2,
   "metadata": {},
   "outputs": [],
   "source": [
    "%matplotlib inline"
   ]
  },
  {
   "cell_type": "code",
   "execution_count": 3,
   "metadata": {},
   "outputs": [],
   "source": [
    "import matplotlib.pylab as pylab\n",
    "params = {'legend.fontsize': 'medium',\n",
    "         'axes.labelsize': 'medium',\n",
    "         'axes.titlesize':'medium',\n",
    "         'figure.titlesize':'medium',\n",
    "         'xtick.labelsize':'small',\n",
    "         'ytick.labelsize':'small'}\n",
    "pylab.rcParams.update(params)\n"
   ]
  },
  {
   "cell_type": "code",
   "execution_count": 4,
   "metadata": {},
   "outputs": [],
   "source": [
    "import matplotlib\n",
    "matplotlib.rcParams['pdf.fonttype'] = 42\n",
    "matplotlib.rcParams['ps.fonttype'] = 42"
   ]
  },
  {
   "cell_type": "code",
   "execution_count": 5,
   "metadata": {},
   "outputs": [],
   "source": [
    "import warnings\n",
    "# warnings.filterwarnings('ignore')"
   ]
  },
  {
   "cell_type": "code",
   "execution_count": 6,
   "metadata": {},
   "outputs": [],
   "source": [
    "from sklearn.decomposition import PCA"
   ]
  },
  {
   "cell_type": "code",
   "execution_count": 7,
   "metadata": {},
   "outputs": [],
   "source": [
    "from sklearn.preprocessing import StandardScaler"
   ]
  },
  {
   "cell_type": "code",
   "execution_count": 8,
   "metadata": {},
   "outputs": [],
   "source": [
    "import sys\n",
    "sys.path.append('/home/ssm-user/Github/scrna-parameter-estimation/dist/memento-0.0.6-py3.8.egg')\n",
    "import memento"
   ]
  },
  {
   "cell_type": "code",
   "execution_count": 9,
   "metadata": {},
   "outputs": [],
   "source": [
    "fig_path = '/home/ssm-user/Github/scrna-parameter-estimation/figures/fig3/'\n",
    "data_path = '/data_volume/memento/'"
   ]
  },
  {
   "cell_type": "markdown",
   "metadata": {},
   "source": [
    "### 1D/2D calibration on 3K PBMC data with shuffled labels - basic usage"
   ]
  },
  {
   "cell_type": "code",
   "execution_count": 10,
   "metadata": {},
   "outputs": [
    {
     "name": "stderr",
     "output_type": "stream",
     "text": [
      "/home/ssm-user/anaconda3/envs/single_cell/lib/python3.8/site-packages/pandas/core/arrays/categorical.py:2487: FutureWarning: The `inplace` parameter in pandas.Categorical.remove_unused_categories is deprecated and will be removed in a future version.\n",
      "  res = method(*args, **kwargs)\n",
      "/home/ssm-user/anaconda3/envs/single_cell/lib/python3.8/site-packages/pandas/core/arrays/categorical.py:2487: FutureWarning: The `inplace` parameter in pandas.Categorical.remove_unused_categories is deprecated and will be removed in a future version.\n",
      "  res = method(*args, **kwargs)\n"
     ]
    },
    {
     "name": "stdout",
     "output_type": "stream",
     "text": [
      "Version 0.0.6-12\n"
     ]
    }
   ],
   "source": [
    "pbmc3k_adata = sc.read_10x_mtx(\n",
    "    data_path + 'pbmc3k_calibration/data/filtered_gene_bc_matrices/hg19/',  # the directory with the `.mtx` file\n",
    "    var_names='gene_symbols',                # use gene symbols for the variable names (variables-axis index)\n",
    "    cache=True)\n",
    "\n",
    "# pbmc3k_adata = adata[(adata.obs.cell == 'CD14+ Monocytes') & (adata.obs.stim == 'ctrl')]\n",
    "\n",
    "adata_list = [pbmc3k_adata.copy() for i in range(70)]\n",
    "pbmc3k_adata = sc.AnnData.concatenate(*adata_list)\n",
    "\n",
    "sc.pp.filter_cells(pbmc3k_adata, min_genes=200)\n",
    "pbmc3k_adata.var['mt'] = pbmc3k_adata.var_names.str.startswith('MT-')  # annotate the group of mitochondrial genes as 'mt'\n",
    "sc.pp.calculate_qc_metrics(pbmc3k_adata, qc_vars=['mt'], percent_top=None, inplace=True)\n",
    "pbmc3k_adata = pbmc3k_adata[pbmc3k_adata.obs.pct_counts_mt < 5, :].copy()\n",
    "\n",
    "pbmc3k_adata.obs['group'] = np.random.choice(['A', 'B'], pbmc3k_adata.shape[0])\n",
    "pbmc3k_adata.obs['q'] = 0.07\n",
    "memento.setup_memento(pbmc3k_adata, q_column='q')\n",
    "memento.create_groups(pbmc3k_adata, label_columns=['group'])\n",
    "\n",
    "memento.compute_1d_moments(pbmc3k_adata, min_perc_group=0.8)"
   ]
  },
  {
   "cell_type": "code",
   "execution_count": 15,
   "metadata": {},
   "outputs": [
    {
     "name": "stderr",
     "output_type": "stream",
     "text": [
      "[Parallel(n_jobs=92)]: Using backend LokyBackend with 92 concurrent workers.\n",
      "[Parallel(n_jobs=92)]: Done  16 tasks      | elapsed:    0.1s\n",
      "[Parallel(n_jobs=92)]: Done 348 tasks      | elapsed:    0.9s\n",
      "[Parallel(n_jobs=92)]: Done 1048 tasks      | elapsed:    2.3s\n",
      "[Parallel(n_jobs=92)]: Done 1948 tasks      | elapsed:    4.0s\n",
      "[Parallel(n_jobs=92)]: Done 3252 out of 3252 | elapsed:    6.8s finished\n"
     ]
    }
   ],
   "source": [
    "memento.ht_1d_moments(\n",
    "    pbmc3k_adata, \n",
    "    formula_like='1 + group',\n",
    "    treatment_col='group', \n",
    "    num_boot=1000, \n",
    "    verbose=1,\n",
    "    num_cpus=92,\n",
    "    resampling='permutation',\n",
    "    approx=False)\n",
    "\n",
    "result_1d = memento.get_1d_ht_result(pbmc3k_adata)"
   ]
  },
  {
   "cell_type": "code",
   "execution_count": 16,
   "metadata": {},
   "outputs": [],
   "source": [
    "random_pairs = [(g1, g2) for g1, g2 in zip(np.random.choice(pbmc3k_adata.var.index, 2500), np.random.choice(pbmc3k_adata.var.index, 2500))]\n",
    "memento.compute_2d_moments(pbmc3k_adata, random_pairs)"
   ]
  },
  {
   "cell_type": "code",
   "execution_count": 17,
   "metadata": {},
   "outputs": [
    {
     "name": "stderr",
     "output_type": "stream",
     "text": [
      "[Parallel(n_jobs=92)]: Using backend LokyBackend with 92 concurrent workers.\n",
      "[Parallel(n_jobs=92)]: Done 104 tasks      | elapsed:    0.5s\n",
      "[Parallel(n_jobs=92)]: Done 472 tasks      | elapsed:    1.5s\n",
      "[Parallel(n_jobs=92)]: Done 1048 tasks      | elapsed:    2.9s\n",
      "[Parallel(n_jobs=92)]: Done 1752 tasks      | elapsed:    4.7s\n",
      "[Parallel(n_jobs=92)]: Done 2496 out of 2496 | elapsed:    6.7s finished\n"
     ]
    }
   ],
   "source": [
    "memento.ht_2d_moments(\n",
    "    pbmc3k_adata, \n",
    "    formula_like='1 + group', \n",
    "    treatment_col='group', \n",
    "    num_cpus=92, \n",
    "    num_boot=1000,\n",
    "    resampling='permutation',\n",
    "    approx=False)"
   ]
  },
  {
   "cell_type": "code",
   "execution_count": 18,
   "metadata": {},
   "outputs": [
    {
     "data": {
      "image/png": "[encoded data removed]",
      "text/plain": [
       "<Figure size 504x144 with 3 Axes>"
      ]
     },
     "metadata": {
      "needs_background": "light"
     },
     "output_type": "display_data"
    }
   ],
   "source": [
    "plt.figure(figsize=(7, 2));\n",
    "plt.subplot(1, 3, 1);\n",
    "plt.hist(pbmc3k_adata.uns['memento']['1d_ht']['mean_asl'], bins=10); plt.title('Average');\n",
    "plt.subplot(1, 3, 2);\n",
    "plt.hist(pbmc3k_adata.uns['memento']['1d_ht']['var_asl'], bins=10); plt.title('Variability');\n",
    "plt.subplot(1, 3, 3);\n",
    "plt.hist(pbmc3k_adata.uns['memento']['2d_ht']['corr_asl'], bins=10); plt.title('Co-variability');\n"
   ]
  },
  {
   "cell_type": "markdown",
   "metadata": {},
   "source": [
    "### 1D/2D calibration on 3K PBMC data with shuffled labels - multi-class"
   ]
  },
  {
   "cell_type": "code",
   "execution_count": 10,
   "metadata": {},
   "outputs": [
    {
     "name": "stderr",
     "output_type": "stream",
     "text": [
      "/home/ssm-user/anaconda3/envs/single_cell/lib/python3.8/site-packages/pandas/core/arrays/categorical.py:2487: FutureWarning: The `inplace` parameter in pandas.Categorical.remove_unused_categories is deprecated and will be removed in a future version.\n",
      "  res = method(*args, **kwargs)\n",
      "/home/ssm-user/anaconda3/envs/single_cell/lib/python3.8/site-packages/pandas/core/arrays/categorical.py:2487: FutureWarning: The `inplace` parameter in pandas.Categorical.remove_unused_categories is deprecated and will be removed in a future version.\n",
      "  res = method(*args, **kwargs)\n"
     ]
    },
    {
     "name": "stdout",
     "output_type": "stream",
     "text": [
      "Version 0.0.6-12\n"
     ]
    }
   ],
   "source": [
    "pbmc3k_adata = sc.read_10x_mtx(\n",
    "    data_path + 'pbmc3k_calibration/data/filtered_gene_bc_matrices/hg19/',  # the directory with the `.mtx` file\n",
    "    var_names='gene_symbols',                # use gene symbols for the variable names (variables-axis index)\n",
    "    cache=True)\n",
    "\n",
    "# pbmc3k_adata = adata[(adata.obs.cell == 'CD14+ Monocytes') & (adata.obs.stim == 'ctrl')]\n",
    "\n",
    "adata_list = [pbmc3k_adata.copy() for i in range(70)]\n",
    "pbmc3k_adata = sc.AnnData.concatenate(*adata_list)\n",
    "\n",
    "sc.pp.filter_cells(pbmc3k_adata, min_genes=200)\n",
    "pbmc3k_adata.var['mt'] = pbmc3k_adata.var_names.str.startswith('MT-')  # annotate the group of mitochondrial genes as 'mt'\n",
    "sc.pp.calculate_qc_metrics(pbmc3k_adata, qc_vars=['mt'], percent_top=None, inplace=True)\n",
    "pbmc3k_adata = pbmc3k_adata[pbmc3k_adata.obs.pct_counts_mt < 5, :].copy()\n",
    "\n",
    "pbmc3k_adata.obs['group'] = np.random.choice(['A', 'B', 'C', 'D'], pbmc3k_adata.shape[0])\n",
    "pbmc3k_adata.obs['q'] = 0.07\n",
    "memento.setup_memento(pbmc3k_adata, q_column='q')\n",
    "memento.create_groups(pbmc3k_adata, label_columns=['group'])\n",
    "\n",
    "memento.compute_1d_moments(pbmc3k_adata, min_perc_group=0.8)"
   ]
  },
  {
   "cell_type": "code",
   "execution_count": 17,
   "metadata": {},
   "outputs": [
    {
     "name": "stderr",
     "output_type": "stream",
     "text": [
      "[Parallel(n_jobs=92)]: Using backend LokyBackend with 92 concurrent workers.\n",
      "[Parallel(n_jobs=92)]: Done  16 tasks      | elapsed:    7.7s\n",
      "[Parallel(n_jobs=92)]: Done 266 tasks      | elapsed:    9.7s\n",
      "[Parallel(n_jobs=92)]: Done 616 tasks      | elapsed:   12.4s\n",
      "[Parallel(n_jobs=92)]: Done 1066 tasks      | elapsed:   16.0s\n",
      "[Parallel(n_jobs=92)]: Done 1616 tasks      | elapsed:   20.4s\n",
      "[Parallel(n_jobs=92)]: Done 2266 tasks      | elapsed:   25.7s\n",
      "[Parallel(n_jobs=92)]: Done 3016 tasks      | elapsed:   31.6s\n",
      "[Parallel(n_jobs=92)]: Done 3204 out of 3204 | elapsed:   35.0s finished\n"
     ]
    }
   ],
   "source": [
    "memento.ht_1d_moments(\n",
    "    pbmc3k_adata, \n",
    "    formula_like='1 + group',\n",
    "    treatment_col='group', \n",
    "    num_boot=10000, \n",
    "    verbose=1,\n",
    "    num_cpus=92,\n",
    "    resampling='permutation',\n",
    "    approx=True)\n",
    "\n",
    "result_1d = memento.get_1d_ht_result(pbmc3k_adata)"
   ]
  },
  {
   "cell_type": "code",
   "execution_count": 12,
   "metadata": {},
   "outputs": [],
   "source": [
    "random_pairs = [(g1, g2) for g1, g2 in zip(np.random.choice(pbmc3k_adata.var.index, 5000), np.random.choice(pbmc3k_adata.var.index, 5000))]\n",
    "memento.compute_2d_moments(pbmc3k_adata, random_pairs)"
   ]
  },
  {
   "cell_type": "code",
   "execution_count": 13,
   "metadata": {},
   "outputs": [
    {
     "name": "stderr",
     "output_type": "stream",
     "text": [
      "[Parallel(n_jobs=92)]: Using backend LokyBackend with 92 concurrent workers.\n",
      "[Parallel(n_jobs=92)]: Done 104 tasks      | elapsed:    0.6s\n",
      "[Parallel(n_jobs=92)]: Done 472 tasks      | elapsed:    1.8s\n",
      "[Parallel(n_jobs=92)]: Done 1048 tasks      | elapsed:    3.5s\n",
      "[Parallel(n_jobs=92)]: Done 1752 tasks      | elapsed:    5.7s\n",
      "[Parallel(n_jobs=92)]: Done 2584 tasks      | elapsed:    8.2s\n",
      "[Parallel(n_jobs=92)]: Done 3544 tasks      | elapsed:   11.5s\n",
      "[Parallel(n_jobs=92)]: Done 4632 tasks      | elapsed:   14.5s\n",
      "[Parallel(n_jobs=92)]: Done 4808 out of 4991 | elapsed:   15.0s remaining:    0.6s\n",
      "[Parallel(n_jobs=92)]: Done 4991 out of 4991 | elapsed:   15.6s finished\n"
     ]
    }
   ],
   "source": [
    "memento.ht_2d_moments(\n",
    "    pbmc3k_adata, \n",
    "    formula_like='1 + group', \n",
    "    treatment_col='group', \n",
    "    num_cpus=92, \n",
    "    num_boot=1000,\n",
    "    resampling='permutation',\n",
    "    approx=False)"
   ]
  },
  {
   "cell_type": "code",
   "execution_count": 18,
   "metadata": {},
   "outputs": [
    {
     "data": {
      "image/png": "[encoded data removed]",
      "text/plain": [
       "<Figure size 504x144 with 3 Axes>"
      ]
     },
     "metadata": {
      "needs_background": "light"
     },
     "output_type": "display_data"
    }
   ],
   "source": [
    "plt.figure(figsize=(7, 2));\n",
    "plt.subplot(1, 3, 1);\n",
    "plt.hist(pbmc3k_adata.uns['memento']['1d_ht']['mean_asl'], bins=10); plt.title('Average');\n",
    "plt.subplot(1, 3, 2);\n",
    "plt.hist(pbmc3k_adata.uns['memento']['1d_ht']['var_asl'], bins=10); plt.title('Variability');\n",
    "plt.subplot(1, 3, 3);\n",
    "plt.hist(pbmc3k_adata.uns['memento']['2d_ht']['corr_asl'], bins=10); plt.title('Co-variability');\n"
   ]
  },
  {
   "cell_type": "markdown",
   "metadata": {},
   "source": [
    "### 1D calibration on 3K PBMC data with real labels - memento, MAST, DESeq2\n"
   ]
  },
  {
   "cell_type": "code",
   "execution_count": 20,
   "metadata": {},
   "outputs": [],
   "source": [
    "pbmc3k_adata = sc.read_10x_mtx(\n",
    "    '/data/parameter_estimation/pbmc3k_calibration/data/filtered_gene_bc_matrices/hg19/',  # the directory with the `.mtx` file\n",
    "    var_names='gene_symbols',                # use gene symbols for the variable names (variables-axis index)\n",
    "    cache=True)\n",
    "\n",
    "pbmc3k_meta = pd.read_csv('/data/parameter_estimation/pbmc3k_calibration/seurat_meta.csv', index_col=0)\n",
    "pbmc3k_meta.index = pbmc3k_meta.index.map(lambda x: x + '-1')\n",
    "pbmc3k_adata.obs = pbmc3k_adata.obs.join(pbmc3k_meta, how='left')\n",
    "# pbmc3k_adata = pbmc3k_adata[~pbmc3k_adata.obs['seurat_clusters'].isnull()]\n",
    "pbmc3k_adata = pbmc3k_adata[pbmc3k_adata.obs['seurat_clusters'].isin([0, 1])]\n"
   ]
  },
  {
   "cell_type": "code",
   "execution_count": 19,
   "metadata": {},
   "outputs": [
    {
     "data": {
      "text/plain": [
       "(1180, 32738)"
      ]
     },
     "execution_count": 19,
     "metadata": {},
     "output_type": "execute_result"
    }
   ],
   "source": [
    "pbmc3k_adata.shape"
   ]
  },
  {
   "cell_type": "code",
   "execution_count": 20,
   "metadata": {},
   "outputs": [
    {
     "name": "stderr",
     "output_type": "stream",
     "text": [
      "Trying to set attribute `.obs` of view, copying.\n"
     ]
    },
    {
     "name": "stdout",
     "output_type": "stream",
     "text": [
      "Using mask...\n"
     ]
    }
   ],
   "source": [
    "memento.create_groups(pbmc3k_adata, label_columns=['seurat_clusters'], inplace=True, q=0.07)\n",
    "\n",
    "memento.compute_1d_moments(\n",
    "    pbmc3k_adata, inplace=True, filter_genes=True, \n",
    "    residual_var=True,filter_mean_thresh=0.07, trim_percs=0.05,\n",
    "    min_perc_group=0.8)"
   ]
  },
  {
   "cell_type": "code",
   "execution_count": 21,
   "metadata": {},
   "outputs": [],
   "source": [
    "memento_genes = pbmc3k_adata.var.index.tolist()"
   ]
  },
  {
   "cell_type": "code",
   "execution_count": 22,
   "metadata": {},
   "outputs": [
    {
     "name": "stderr",
     "output_type": "stream",
     "text": [
      "[Parallel(n_jobs=6)]: Using backend LokyBackend with 6 concurrent workers.\n",
      "[Parallel(n_jobs=6)]: Done  38 tasks      | elapsed:    3.5s\n",
      "[Parallel(n_jobs=6)]: Done 188 tasks      | elapsed:    8.4s\n",
      "[Parallel(n_jobs=6)]: Done 438 tasks      | elapsed:   16.0s\n",
      "[Parallel(n_jobs=6)]: Done 788 tasks      | elapsed:   27.5s\n",
      "[Parallel(n_jobs=6)]: Done 1238 tasks      | elapsed:   41.7s\n",
      "[Parallel(n_jobs=6)]: Done 1788 tasks      | elapsed:   59.4s\n",
      "[Parallel(n_jobs=6)]: Done 2349 out of 2349 | elapsed:  1.3min finished\n"
     ]
    }
   ],
   "source": [
    "memento.ht_1d_moments(\n",
    "    pbmc3k_adata, \n",
    "    formula_like='1 + seurat_clusters',\n",
    "    cov_column='seurat_clusters', \n",
    "    num_boot=10000,\n",
    "    verbose=1,\n",
    "    num_cpus=6)\n",
    "\n",
    "result_1d = memento.get_1d_ht_result(pbmc3k_adata)"
   ]
  },
  {
   "cell_type": "code",
   "execution_count": 23,
   "metadata": {},
   "outputs": [],
   "source": [
    "result_mast = pd.read_csv('/data/parameter_estimation/pbmc3k_calibration/cd4_MAST.csv')\n",
    "result_deseq2 = pd.read_csv('/data/parameter_estimation/pbmc3k_calibration/cd4_deseq2.csv')\n",
    "result_wilcox= pd.read_csv('/data/parameter_estimation/pbmc3k_calibration/cd4_wilcox.csv')\n",
    "result_t = pd.read_csv('/data/parameter_estimation/pbmc3k_calibration/cd4_t.csv')"
   ]
  },
  {
   "cell_type": "code",
   "execution_count": 24,
   "metadata": {},
   "outputs": [
    {
     "ename": "NameError",
     "evalue": "name 'lambda_gc' is not defined",
     "output_type": "error",
     "traceback": [
      "\u001b[0;31m---------------------------------------------------------------------------\u001b[0m",
      "\u001b[0;31mNameError\u001b[0m                                 Traceback (most recent call last)",
      "\u001b[0;32m<ipython-input-24-899a3ae35863>\u001b[0m in \u001b[0;36m<module>\u001b[0;34m\u001b[0m\n\u001b[0;32m----> 1\u001b[0;31m \u001b[0mprint\u001b[0m\u001b[0;34m(\u001b[0m\u001b[0;34m'mast'\u001b[0m\u001b[0;34m,\u001b[0m \u001b[0mlambda_gc\u001b[0m\u001b[0;34m(\u001b[0m\u001b[0mresult_mast\u001b[0m\u001b[0;34m[\u001b[0m\u001b[0;34m'p_val'\u001b[0m\u001b[0;34m]\u001b[0m\u001b[0;34m)\u001b[0m\u001b[0;34m)\u001b[0m\u001b[0;34m\u001b[0m\u001b[0;34m\u001b[0m\u001b[0m\n\u001b[0m\u001b[1;32m      2\u001b[0m \u001b[0mprint\u001b[0m\u001b[0;34m(\u001b[0m\u001b[0;34m'deseq2'\u001b[0m\u001b[0;34m,\u001b[0m \u001b[0mlambda_gc\u001b[0m\u001b[0;34m(\u001b[0m\u001b[0mresult_deseq2\u001b[0m\u001b[0;34m[\u001b[0m\u001b[0;34m'p_val'\u001b[0m\u001b[0;34m]\u001b[0m\u001b[0;34m)\u001b[0m\u001b[0;34m)\u001b[0m\u001b[0;34m\u001b[0m\u001b[0;34m\u001b[0m\u001b[0m\n\u001b[1;32m      3\u001b[0m \u001b[0mprint\u001b[0m\u001b[0;34m(\u001b[0m\u001b[0;34m't'\u001b[0m\u001b[0;34m,\u001b[0m \u001b[0mlambda_gc\u001b[0m\u001b[0;34m(\u001b[0m\u001b[0mresult_t\u001b[0m\u001b[0;34m[\u001b[0m\u001b[0;34m'p_val'\u001b[0m\u001b[0;34m]\u001b[0m\u001b[0;34m)\u001b[0m\u001b[0;34m)\u001b[0m\u001b[0;34m\u001b[0m\u001b[0;34m\u001b[0m\u001b[0m\n\u001b[1;32m      4\u001b[0m \u001b[0mprint\u001b[0m\u001b[0;34m(\u001b[0m\u001b[0;34m'memento'\u001b[0m\u001b[0;34m,\u001b[0m \u001b[0mlambda_gc\u001b[0m\u001b[0;34m(\u001b[0m\u001b[0mpbmc3k_adata\u001b[0m\u001b[0;34m.\u001b[0m\u001b[0muns\u001b[0m\u001b[0;34m[\u001b[0m\u001b[0;34m'schypo'\u001b[0m\u001b[0;34m]\u001b[0m\u001b[0;34m[\u001b[0m\u001b[0;34m'1d_ht'\u001b[0m\u001b[0;34m]\u001b[0m\u001b[0;34m[\u001b[0m\u001b[0;34m'mean_asl'\u001b[0m\u001b[0;34m]\u001b[0m\u001b[0;34m)\u001b[0m\u001b[0;34m)\u001b[0m\u001b[0;34m\u001b[0m\u001b[0;34m\u001b[0m\u001b[0m\n",
      "\u001b[0;31mNameError\u001b[0m: name 'lambda_gc' is not defined"
     ]
    }
   ],
   "source": [
    "print('mast', lambda_gc(result_mast['p_val']))\n",
    "print('deseq2', lambda_gc(result_deseq2['p_val']))\n",
    "print('t', lambda_gc(result_t['p_val']))\n",
    "print('memento', lambda_gc(pbmc3k_adata.uns['memento']['1d_ht']['mean_asl']))"
   ]
  },
  {
   "cell_type": "code",
   "execution_count": 25,
   "metadata": {},
   "outputs": [
    {
     "name": "stderr",
     "output_type": "stream",
     "text": [
      "/data/home/anaconda3/envs/single_cell/lib/python3.7/site-packages/numpy/lib/histograms.py:839: RuntimeWarning: invalid value encountered in greater_equal\n",
      "  keep = (tmp_a >= first_edge)\n",
      "/data/home/anaconda3/envs/single_cell/lib/python3.7/site-packages/numpy/lib/histograms.py:840: RuntimeWarning: invalid value encountered in less_equal\n",
      "  keep &= (tmp_a <= last_edge)\n"
     ]
    },
    {
     "data": {
      "image/png": "[encoded data removed]",
      "text/plain": [
       "<Figure size 576x144 with 4 Axes>"
      ]
     },
     "metadata": {
      "needs_background": "light"
     },
     "output_type": "display_data"
    }
   ],
   "source": [
    "plt.figure(figsize=(8,2));\n",
    "plt.subplots_adjust(wspace=0.3)\n",
    "\n",
    "plt.subplot(1, 4, 1); plt.title('MAST');\n",
    "plt.hist(result_mast['p_val'], density=True)\n",
    "plt.plot([0, 1], [1,1], lw=4); plt.xlim(0, 1); plt.xlabel('P-values');\n",
    "plt.ylabel('Density');\n",
    "\n",
    "plt.subplot(1, 4, 2); plt.title('DESeq2');\n",
    "plt.hist(result_deseq2['p_val'], density=True)\n",
    "plt.plot([0, 1], [1,1], lw=4); plt.xlim(0, 1); plt.xlabel('P-values');\n",
    "\n",
    "plt.subplot(1, 4, 3); plt.title('t-test');\n",
    "plt.hist(result_t['p_val'], density=True)\n",
    "plt.plot([0, 1], [1,1], lw=4); plt.xlim(0, 1); plt.xlabel('P-values');\n",
    "plt.legend([ 'Theoretical null','Actual p-values',], bbox_to_anchor=(1, 1.35), ncol=2, frameon=False)\n",
    "\n",
    "plt.subplot(1, 4, 4); plt.title('memento');\n",
    "plt.hist(pbmc3k_adata.uns['memento']['1d_ht']['mean_asl'], bins=10, density=True);\n",
    "plt.plot([0, 1], [1,1], lw=4); plt.xlim(0, 1); plt.xlabel('P-values');\n",
    "\n",
    "plt.savefig(fig_path + 'calibration_comparison.pdf', bbox_inches='tight')\n",
    "\n"
   ]
  },
  {
   "cell_type": "markdown",
   "metadata": {},
   "source": [
    "### 1D calibration on 3K PBMC data with shuffled labels - memento, MAST, DESeq2"
   ]
  },
  {
   "cell_type": "code",
   "execution_count": 26,
   "metadata": {},
   "outputs": [],
   "source": [
    "pbmc3k_adata = sc.read_10x_mtx(\n",
    "    '/data/parameter_estimation/pbmc3k_calibration/data/filtered_gene_bc_matrices/hg19/',  # the directory with the `.mtx` file\n",
    "    var_names='gene_symbols',                # use gene symbols for the variable names (variables-axis index)\n",
    "    cache=True)\n",
    "\n",
    "pbmc3k_meta = pd.read_csv('/data/parameter_estimation/pbmc3k_calibration/seurat_meta.csv', index_col=0)\n",
    "pbmc3k_meta.index = pbmc3k_meta.index.map(lambda x: x + '-1')\n",
    "pbmc3k_adata.obs = pbmc3k_adata.obs.join(pbmc3k_meta, how='left')\n",
    "# pbmc3k_adata = pbmc3k_adata[~pbmc3k_adata.obs['seurat_clusters'].isnull()]\n",
    "pbmc3k_adata = pbmc3k_adata[pbmc3k_adata.obs['seurat_clusters'].isin([0, 1])]\n",
    "\n",
    "# Shuffle the label\n",
    "shuffled_pbmc3k_adata = pbmc3k_adata.copy()\n",
    "shuffled_pbmc3k_adata.obs['seurat_clusters'] = np.random.choice(2, shuffled_pbmc3k_adata.shape[0])"
   ]
  },
  {
   "cell_type": "code",
   "execution_count": 27,
   "metadata": {},
   "outputs": [
    {
     "data": {
      "text/plain": [
       "(1180, 32738)"
      ]
     },
     "execution_count": 27,
     "metadata": {},
     "output_type": "execute_result"
    }
   ],
   "source": [
    "shuffled_pbmc3k_adata.shape"
   ]
  },
  {
   "cell_type": "code",
   "execution_count": 28,
   "metadata": {},
   "outputs": [
    {
     "name": "stdout",
     "output_type": "stream",
     "text": [
      "Using mask...\n"
     ]
    }
   ],
   "source": [
    "memento.create_groups(shuffled_pbmc3k_adata, label_columns=['seurat_clusters'], inplace=True, q=0.07)\n",
    "\n",
    "memento.compute_1d_moments(\n",
    "    shuffled_pbmc3k_adata, inplace=True, filter_genes=True, \n",
    "    residual_var=True,filter_mean_thresh=0.07, trim_percs=0.05,\n",
    "    min_perc_group=0.8)"
   ]
  },
  {
   "cell_type": "code",
   "execution_count": 29,
   "metadata": {},
   "outputs": [],
   "source": [
    "memento_genes = shuffled_pbmc3k_adata.var.index.tolist()"
   ]
  },
  {
   "cell_type": "code",
   "execution_count": 30,
   "metadata": {},
   "outputs": [
    {
     "name": "stderr",
     "output_type": "stream",
     "text": [
      "[Parallel(n_jobs=6)]: Using backend LokyBackend with 6 concurrent workers.\n",
      "[Parallel(n_jobs=6)]: Done  64 tasks      | elapsed:    2.4s\n",
      "[Parallel(n_jobs=6)]: Done 364 tasks      | elapsed:   12.5s\n",
      "[Parallel(n_jobs=6)]: Done 864 tasks      | elapsed:   29.6s\n",
      "[Parallel(n_jobs=6)]: Done 1564 tasks      | elapsed:   53.6s\n",
      "[Parallel(n_jobs=6)]: Done 2464 tasks      | elapsed:  1.4min\n",
      "[Parallel(n_jobs=6)]: Done 2518 out of 2518 | elapsed:  1.4min finished\n"
     ]
    }
   ],
   "source": [
    "memento.ht_1d_moments(\n",
    "    shuffled_pbmc3k_adata, \n",
    "    formula_like='1 + seurat_clusters',\n",
    "    cov_column='seurat_clusters', \n",
    "    num_boot=10000,\n",
    "    verbose=1,\n",
    "    num_cpus=6)\n",
    "\n",
    "result_1d = memento.get_1d_ht_result(shuffled_pbmc3k_adata)"
   ]
  },
  {
   "cell_type": "code",
   "execution_count": 31,
   "metadata": {},
   "outputs": [
    {
     "data": {
      "image/png": "[encoded data removed]",
      "text/plain": [
       "<Figure size 432x288 with 1 Axes>"
      ]
     },
     "metadata": {
      "needs_background": "light"
     },
     "output_type": "display_data"
    }
   ],
   "source": [
    "plt.hist(shuffled_pbmc3k_adata.uns['memento']['1d_ht']['mean_asl'], bins=10, density=True);\n"
   ]
  },
  {
   "cell_type": "code",
   "execution_count": 39,
   "metadata": {},
   "outputs": [],
   "source": [
    "result_mast = pd.read_csv('/data/parameter_estimation/pbmc3k_calibration/cd4_MAST_shuffled.csv')\n",
    "result_deseq2 = pd.read_csv('/data/parameter_estimation/pbmc3k_calibration/cd4_deseq2_shuffled.csv')\n",
    "# result_wilcox= pd.read_csv('/data/parameter_estimation/pbmc3k_calibration/cd4_wilcox_shuffled.csv')\n",
    "result_t = pd.read_csv('/data/parameter_estimation/pbmc3k_calibration/cd4_t_shuffled.csv')"
   ]
  },
  {
   "cell_type": "code",
   "execution_count": 75,
   "metadata": {},
   "outputs": [],
   "source": [
    "def lambda_gc(pvals):\n",
    "    return np.nanmedian(stats.norm.ppf(pvals/2)**2)/stats.chi2.ppf(0.5, df=1)"
   ]
  },
  {
   "cell_type": "code",
   "execution_count": 59,
   "metadata": {},
   "outputs": [
    {
     "name": "stdout",
     "output_type": "stream",
     "text": [
      "mast 1.2824011282405157\n",
      "deseq2 0.2566170480459908\n",
      "t 1.1175510511646904\n",
      "memento 0.9955745028623214\n"
     ]
    }
   ],
   "source": [
    "print('mast', lambda_gc(result_mast['p_val']))\n",
    "print('deseq2', lambda_gc(result_deseq2['p_val']))\n",
    "print('t', lambda_gc(result_t['p_val']))\n",
    "print('memento', lambda_gc(shuffled_pbmc3k_adata.uns['memento']['1d_ht']['mean_asl']))"
   ]
  },
  {
   "cell_type": "code",
   "execution_count": 62,
   "metadata": {},
   "outputs": [
    {
     "data": {
      "image/png": "[encoded data removed]",
      "text/plain": [
       "<Figure size 576x144 with 4 Axes>"
      ]
     },
     "metadata": {
      "needs_background": "light"
     },
     "output_type": "display_data"
    }
   ],
   "source": [
    "plt.figure(figsize=(8,2));\n",
    "plt.subplots_adjust(wspace=0.3)\n",
    "\n",
    "plt.subplot(1, 4, 1); plt.title('MAST');\n",
    "plt.hist(result_mast['p_val'], density=True)\n",
    "plt.plot([0, 1], [1,1], lw=4); plt.xlim(0, 1); plt.xlabel('P-values');\n",
    "plt.ylabel('Density');\n",
    "plt.ylim(0, 1.5)\n",
    "\n",
    "plt.subplot(1, 4, 2); plt.title('DESeq2');\n",
    "plt.hist(result_deseq2['p_val'], density=True)\n",
    "plt.plot([0, 1], [1,1], lw=4); plt.xlim(0, 1); plt.xlabel('P-values');#plt.ylim(0, 1.5)\n",
    "\n",
    "\n",
    "plt.subplot(1, 4, 3); plt.title('t-test');\n",
    "plt.hist(result_t['p_val'], density=True)\n",
    "plt.plot([0, 1], [1,1], lw=4); plt.xlim(0, 1); plt.xlabel('P-values');plt.ylim(0, 1.5)\n",
    "\n",
    "plt.legend([ 'Theoretical null','Actual p-values',], bbox_to_anchor=(1, 1.35), ncol=2, frameon=False)\n",
    "\n",
    "plt.subplot(1, 4, 4); plt.title('memento');\n",
    "plt.hist(shuffled_pbmc3k_adata.uns['memento']['1d_ht']['mean_asl'], bins=10, density=True);plt.ylim(0, 1.5)\n",
    "\n",
    "plt.plot([0, 1], [1,1], lw=4); plt.xlim(0, 1); plt.xlabel('P-values');\n",
    "\n",
    "plt.savefig(fig_path + 'calibration_comparison_shuffled.pdf', bbox_inches='tight')\n",
    "\n"
   ]
  },
  {
   "cell_type": "code",
   "execution_count": 63,
   "metadata": {},
   "outputs": [
    {
     "name": "stdout",
     "output_type": "stream",
     "text": [
      "mast 1.2824011282405157\n",
      "deseq2 0.2566170480459908\n",
      "t 1.1175510511646904\n",
      "memento 0.9955745028623214\n"
     ]
    }
   ],
   "source": [
    "print('mast', lambda_gc(result_mast['p_val']))\n",
    "print('deseq2', lambda_gc(result_deseq2['p_val']))\n",
    "print('t', lambda_gc(result_t['p_val']))\n",
    "print('memento', lambda_gc(shuffled_pbmc3k_adata.uns['memento']['1d_ht']['mean_asl']))"
   ]
  },
  {
   "cell_type": "markdown",
   "metadata": {},
   "source": [
    "### Investigate volcano plots with shuffled labels in PBMC 3K data"
   ]
  },
  {
   "cell_type": "code",
   "execution_count": 10,
   "metadata": {},
   "outputs": [
    {
     "name": "stderr",
     "output_type": "stream",
     "text": [
      "/home/ssm-user/anaconda3/envs/single_cell/lib/python3.8/site-packages/pandas/core/arrays/categorical.py:2487: FutureWarning: The `inplace` parameter in pandas.Categorical.remove_unused_categories is deprecated and will be removed in a future version.\n",
      "  res = method(*args, **kwargs)\n",
      "/home/ssm-user/anaconda3/envs/single_cell/lib/python3.8/site-packages/pandas/core/arrays/categorical.py:2487: FutureWarning: The `inplace` parameter in pandas.Categorical.remove_unused_categories is deprecated and will be removed in a future version.\n",
      "  res = method(*args, **kwargs)\n"
     ]
    }
   ],
   "source": [
    "pbmc3k_adata = sc.read_10x_mtx(\n",
    "    '/data_volume/parameter_estimation/pbmc3k_calibration/data/filtered_gene_bc_matrices/hg19/',  # the directory with the `.mtx` file\n",
    "    var_names='gene_symbols',                # use gene symbols for the variable names (variables-axis index)\n",
    "    cache=True)\n",
    "\n",
    "# pbmc3k_adata = adata[(adata.obs.cell == 'CD14+ Monocytes') & (adata.obs.stim == 'ctrl')]\n",
    "\n",
    "adata_list = [pbmc3k_adata.copy() for i in range(50)]\n",
    "pbmc3k_adata = sc.AnnData.concatenate(*adata_list)\n",
    "\n",
    "sc.pp.filter_cells(pbmc3k_adata, min_genes=200)\n",
    "pbmc3k_adata.var['mt'] = pbmc3k_adata.var_names.str.startswith('MT-')  # annotate the group of mitochondrial genes as 'mt'\n",
    "sc.pp.calculate_qc_metrics(pbmc3k_adata, qc_vars=['mt'], percent_top=None, inplace=True)\n",
    "pbmc3k_adata = pbmc3k_adata[pbmc3k_adata.obs.pct_counts_mt < 5, :].copy()\n",
    "\n",
    "pbmc3k_adata.obs['group'] = np.random.choice(['A', 'B'], pbmc3k_adata.shape[0])\n",
    "pbmc3k_adata.obs['q'] = 0.07\n",
    "memento.setup_memento(pbmc3k_adata, q_column='q')\n",
    "memento.create_groups(pbmc3k_adata, label_columns=['group'])\n",
    "\n",
    "memento.compute_1d_moments(pbmc3k_adata, min_perc_group=0.8)"
   ]
  },
  {
   "cell_type": "code",
   "execution_count": 13,
   "metadata": {},
   "outputs": [
    {
     "name": "stderr",
     "output_type": "stream",
     "text": [
      "[Parallel(n_jobs=12)]: Using backend LokyBackend with 12 concurrent workers.\n",
      "[Parallel(n_jobs=12)]: Done  29 tasks      | elapsed:    0.6s\n",
      "[Parallel(n_jobs=12)]: Done 328 tasks      | elapsed:    5.2s\n",
      "[Parallel(n_jobs=12)]: Done 828 tasks      | elapsed:   12.1s\n",
      "[Parallel(n_jobs=12)]: Done 1528 tasks      | elapsed:   22.8s\n",
      "[Parallel(n_jobs=12)]: Done 2428 tasks      | elapsed:   36.2s\n",
      "[Parallel(n_jobs=12)]: Done 3224 out of 3247 | elapsed:   48.5s remaining:    0.3s\n",
      "[Parallel(n_jobs=12)]: Done 3247 out of 3247 | elapsed:   50.1s finished\n"
     ]
    }
   ],
   "source": [
    "memento.ht_1d_moments(\n",
    "    pbmc3k_adata, \n",
    "    formula_like='1 + group',\n",
    "    cov_column='group', \n",
    "    num_boot=10000, \n",
    "    verbose=1,\n",
    "    num_cpus=12)\n",
    "\n",
    "result_1d = memento.get_1d_ht_result(pbmc3k_adata)"
   ]
  },
  {
   "cell_type": "code",
   "execution_count": 22,
   "metadata": {},
   "outputs": [],
   "source": [
    "result_1d['dv_log_pv'] = -np.log(result_1d['dv_pval'])\n",
    "result_1d['de_log_pv'] = -np.log(result_1d['de_pval'])"
   ]
  },
  {
   "cell_type": "code",
   "execution_count": 23,
   "metadata": {},
   "outputs": [
    {
     "data": {
      "text/plain": [
       "<matplotlib.collections.PathCollection at 0x7fa8fd1bd220>"
      ]
     },
     "execution_count": 23,
     "metadata": {},
     "output_type": "execute_result"
    },
    {
     "data": {
      "image/png": "[encoded data removed]",
      "text/plain": [
       "<Figure size 432x288 with 1 Axes>"
      ]
     },
     "metadata": {
      "needs_background": "light"
     },
     "output_type": "display_data"
    }
   ],
   "source": [
    "plt.scatter(result_1d['de_coef'], result_1d['de_log_pv'], s=1)\n",
    "plt.xlabel"
   ]
  },
  {
   "cell_type": "code",
   "execution_count": 21,
   "metadata": {},
   "outputs": [
    {
     "data": {
      "text/plain": [
       "<matplotlib.collections.PathCollection at 0x7fa8ff22cfd0>"
      ]
     },
     "execution_count": 21,
     "metadata": {},
     "output_type": "execute_result"
    },
    {
     "data": {
      "image/png": "[encoded data removed]",
      "text/plain": [
       "<Figure size 432x288 with 1 Axes>"
      ]
     },
     "metadata": {
      "needs_background": "light"
     },
     "output_type": "display_data"
    }
   ],
   "source": [
    "plt.scatter(result_1d['dv_coef'], result_1d['dv_log_pv'], s=1)"
   ]
  },
  {
   "cell_type": "markdown",
   "metadata": {},
   "source": [
    "### Investigate volcano plots with shuffled labels in IFN PBMC data"
   ]
  },
  {
   "cell_type": "code",
   "execution_count": 10,
   "metadata": {},
   "outputs": [],
   "source": [
    "fig_path = '~/Github/scrna-parameter-estimation/figures/fig4/'\n",
    "data_path = '/data_volume/parameter_estimation/'"
   ]
  },
  {
   "cell_type": "code",
   "execution_count": 11,
   "metadata": {},
   "outputs": [
    {
     "name": "stderr",
     "output_type": "stream",
     "text": [
      "/home/ssm-user/anaconda3/envs/single_cell/lib/python3.8/site-packages/pandas/core/arrays/categorical.py:2487: FutureWarning: The `inplace` parameter in pandas.Categorical.remove_unused_categories is deprecated and will be removed in a future version.\n",
      "  res = method(*args, **kwargs)\n"
     ]
    }
   ],
   "source": [
    "adata = sc.read(data_path + 'interferon_filtered.h5ad')\n",
    "adata = adata[adata.obs.cell == 'CD14+ Monocytes'].copy()"
   ]
  },
  {
   "cell_type": "code",
   "execution_count": 12,
   "metadata": {},
   "outputs": [],
   "source": [
    "adata.obs['stim'] = adata.obs['stim'].apply(lambda x: 0 if x == 'ctrl' else 1)"
   ]
  },
  {
   "cell_type": "code",
   "execution_count": 13,
   "metadata": {},
   "outputs": [],
   "source": [
    "adata.obs['capture_rate'] = 0.07\n",
    "memento.setup_memento(adata, q_column='capture_rate')"
   ]
  },
  {
   "cell_type": "code",
   "execution_count": 14,
   "metadata": {},
   "outputs": [],
   "source": [
    "memento.create_groups(adata, label_columns=['stim'])"
   ]
  },
  {
   "cell_type": "code",
   "execution_count": 15,
   "metadata": {},
   "outputs": [],
   "source": [
    "memento.compute_1d_moments(adata,\n",
    "    min_perc_group=.9) # percentage of groups that satisfy the condition for a gene to be considered. "
   ]
  },
  {
   "cell_type": "code",
   "execution_count": 23,
   "metadata": {},
   "outputs": [
    {
     "name": "stderr",
     "output_type": "stream",
     "text": [
      "[Parallel(n_jobs=12)]: Using backend LokyBackend with 12 concurrent workers.\n",
      "[Parallel(n_jobs=12)]: Done  29 tasks      | elapsed:    1.4s\n",
      "[Parallel(n_jobs=12)]: Done 272 tasks      | elapsed:   10.0s\n",
      "[Parallel(n_jobs=12)]: Done 522 tasks      | elapsed:   18.8s\n",
      "[Parallel(n_jobs=12)]: Done 872 tasks      | elapsed:   32.0s\n",
      "[Parallel(n_jobs=12)]: Done 1322 tasks      | elapsed:   49.7s\n",
      "[Parallel(n_jobs=12)]: Done 1877 out of 1877 | elapsed:  1.2min finished\n"
     ]
    }
   ],
   "source": [
    "memento.ht_1d_moments(\n",
    "    adata, \n",
    "    formula_like='1 + stim',\n",
    "    cov_column='stim', \n",
    "    num_boot=10000, \n",
    "    verbose=1,\n",
    "    num_cpus=12)"
   ]
  },
  {
   "cell_type": "code",
   "execution_count": 24,
   "metadata": {},
   "outputs": [],
   "source": [
    "result_1d = memento.get_1d_ht_result(adata)\n",
    "result_1d['dv_log_pv'] = -np.log(result_1d['dv_pval'])\n",
    "result_1d['de_log_pv'] = -np.log(result_1d['de_pval'])"
   ]
  },
  {
   "cell_type": "code",
   "execution_count": 25,
   "metadata": {},
   "outputs": [
    {
     "data": {
      "text/plain": [
       "(-1.0, 20.0)"
      ]
     },
     "execution_count": 25,
     "metadata": {},
     "output_type": "execute_result"
    },
    {
     "data": {
      "image/png": "[encoded data removed]",
      "text/plain": [
       "<Figure size 432x288 with 1 Axes>"
      ]
     },
     "metadata": {
      "needs_background": "light"
     },
     "output_type": "display_data"
    }
   ],
   "source": [
    "plt.scatter(result_1d['dv_coef'], result_1d['dv_log_pv'], s=3);\n",
    "plt.ylim(-1, 20)"
   ]
  },
  {
   "cell_type": "code",
   "execution_count": 28,
   "metadata": {},
   "outputs": [
    {
     "data": {
      "text/plain": [
       "Text(0, 0.5, 'logP')"
      ]
     },
     "execution_count": 28,
     "metadata": {},
     "output_type": "execute_result"
    },
    {
     "data": {
      "image/png": "[encoded data removed]",
      "text/plain": [
       "<Figure size 432x288 with 1 Axes>"
      ]
     },
     "metadata": {
      "needs_background": "light"
     },
     "output_type": "display_data"
    }
   ],
   "source": [
    "plt.scatter(result_1d['de_coef'], result_1d['de_log_pv'], s=2);\n",
    "plt.ylim(-1, 30)\n",
    "plt.xlabel('DE coefficient'); plt.ylabel('logP')"
   ]
  },
  {
   "cell_type": "code",
   "execution_count": 27,
   "metadata": {},
   "outputs": [],
   "source": [
    "x = stats.norm.rvs(size=10000)"
   ]
  },
  {
   "cell_type": "code",
   "execution_count": 53,
   "metadata": {},
   "outputs": [],
   "source": [
    "tail_data = np.sort(x)[:50]\n",
    "params = stats.genpareto.fit(tail_data)\n",
    "_, ks_pval = stats.kstest(tail_data, 'genpareto', args=params)"
   ]
  },
  {
   "cell_type": "code",
   "execution_count": 56,
   "metadata": {},
   "outputs": [],
   "source": [
    "a = np.linspace(-4, -2.5, 1000)\n",
    "b = stats.genpareto.pdf(a, *params)"
   ]
  },
  {
   "cell_type": "code",
   "execution_count": null,
   "metadata": {},
   "outputs": [],
   "source": []
  },
  {
   "cell_type": "code",
   "execution_count": 54,
   "metadata": {},
   "outputs": [
    {
     "data": {
      "text/plain": [
       "0.17817102072605073"
      ]
     },
     "execution_count": 54,
     "metadata": {},
     "output_type": "execute_result"
    }
   ],
   "source": [
    "ks_pval"
   ]
  },
  {
   "cell_type": "code",
   "execution_count": null,
   "metadata": {},
   "outputs": [],
   "source": []
  },
  {
   "cell_type": "code",
   "execution_count": 58,
   "metadata": {},
   "outputs": [
    {
     "data": {
      "text/plain": [
       "[<matplotlib.lines.Line2D at 0x7f81b19aef40>]"
      ]
     },
     "execution_count": 58,
     "metadata": {},
     "output_type": "execute_result"
    },
    {
     "data": {
      "image/png": "[encoded data removed]",
      "text/plain": [
       "<Figure size 432x288 with 1 Axes>"
      ]
     },
     "metadata": {
      "needs_background": "light"
     },
     "output_type": "display_data"
    }
   ],
   "source": [
    "plt.hist(tail_data, density=True)\n",
    "plt.plot(a,b)"
   ]
  },
  {
   "cell_type": "code",
   "execution_count": null,
   "metadata": {},
   "outputs": [],
   "source": []
  },
  {
   "cell_type": "code",
   "execution_count": null,
   "metadata": {},
   "outputs": [],
   "source": [
    "adata.shape"
   ]
  },
  {
   "cell_type": "code",
   "execution_count": 25,
   "metadata": {},
   "outputs": [
    {
     "name": "stderr",
     "output_type": "stream",
     "text": [
      "... storing 'memento_group' as categorical\n"
     ]
    }
   ],
   "source": [
    "sc.tl.rank_genes_groups(adata, 'stim', method='wilcoxon', n_genes=1877)\n",
    "names = [x[0] for x in adata.uns['rank_genes_groups']['names']]\n",
    "pv = [x[0] for x in adata.uns['rank_genes_groups']['pvals']]\n",
    "fc = [x[0] for x in adata.uns['rank_genes_groups']['logfoldchanges']]\n",
    "df = pd.DataFrame(zip(names, pv, fc), columns=['gene', 'pval', 'lfc'])"
   ]
  },
  {
   "cell_type": "code",
   "execution_count": 26,
   "metadata": {},
   "outputs": [
    {
     "name": "stderr",
     "output_type": "stream",
     "text": [
      "/home/ssm-user/anaconda3/envs/single_cell/lib/python3.8/site-packages/pandas/core/arraylike.py:358: RuntimeWarning: divide by zero encountered in log\n",
      "  result = getattr(ufunc, method)(*inputs, **kwargs)\n"
     ]
    }
   ],
   "source": [
    "df['log_pv'] = -np.log(df['pval'])"
   ]
  },
  {
   "cell_type": "code",
   "execution_count": 27,
   "metadata": {},
   "outputs": [],
   "source": [
    "df = df.replace([np.inf, -np.inf], 900)"
   ]
  },
  {
   "cell_type": "code",
   "execution_count": 28,
   "metadata": {},
   "outputs": [
    {
     "data": {
      "text/plain": [
       "(-20.0, 20.0)"
      ]
     },
     "execution_count": 28,
     "metadata": {},
     "output_type": "execute_result"
    },
    {
     "data": {
      "image/png": "[encoded data removed]",
      "text/plain": [
       "<Figure size 432x288 with 1 Axes>"
      ]
     },
     "metadata": {
      "needs_background": "light"
     },
     "output_type": "display_data"
    }
   ],
   "source": [
    "plt.scatter(df['lfc'], df['log_pv'], s=5);\n",
    "plt.xlim(-20, 20)"
   ]
  },
  {
   "cell_type": "markdown",
   "metadata": {},
   "source": [
    "### 1D calibration on 3K PBMC data with real labels - SCANPY methods"
   ]
  },
  {
   "cell_type": "code",
   "execution_count": 137,
   "metadata": {},
   "outputs": [
    {
     "name": "stderr",
     "output_type": "stream",
     "text": [
      "/data/home/anaconda3/envs/single_cell/lib/python3.7/site-packages/scanpy/preprocessing/_simple.py:297: UserWarning: Revieved a view of an AnnData. Making a copy.\n",
      "  view_to_actual(data)\n",
      "Trying to set attribute `.obs` of view, copying.\n"
     ]
    }
   ],
   "source": [
    "pbmc3k_adata = sc.read_10x_mtx(\n",
    "    '/data/parameter_estimation/pbmc3k_calibration/data/filtered_gene_bc_matrices/hg19/',  # the directory with the `.mtx` file\n",
    "    var_names='gene_symbols',                # use gene symbols for the variable names (variables-axis index)\n",
    "    cache=True)\n",
    "sc.pp.filter_cells(pbmc3k_adata, min_genes=200)\n",
    "sc.pp.filter_genes(pbmc3k_adata, min_cells=3)\n",
    "\n",
    "# pbmc3k_adata = pbmc3k_adata[~pbmc3k_adata.obs['seurat_clusters'].isnull()]\n",
    "\n",
    "pbmc3k_adata.var['mt'] = pbmc3k_adata.var_names.str.startswith('MT-')  # annotate the group of mitochondrial genes as 'mt'\n",
    "sc.pp.calculate_qc_metrics(pbmc3k_adata, qc_vars=['mt'], percent_top=None, inplace=True)\n",
    "\n",
    "pbmc3k_adata = pbmc3k_adata[pbmc3k_adata.obs.n_genes_by_counts < 2500, :]\n",
    "pbmc3k_adata = pbmc3k_adata[pbmc3k_adata.obs.pct_counts_mt < 5, :]\n",
    "sc.pp.normalize_total(pbmc3k_adata, target_sum=1e4)\n",
    "sc.pp.log1p(pbmc3k_adata)\n",
    "# sc.pp.regress_out(pbmc3k_adata, ['total_counts', 'pct_counts_mt'])\n",
    "sc.pp.scale(pbmc3k_adata, max_value=10)\n",
    "\n",
    "pbmc3k_meta = pd.read_csv('/data/parameter_estimation/pbmc3k_calibration/seurat_meta.csv', index_col=0)\n",
    "pbmc3k_meta.index = pbmc3k_meta.index.map(lambda x: x + '-1')\n",
    "pbmc3k_adata.obs = pbmc3k_adata.obs.join(pbmc3k_meta, how='left')\n",
    "pbmc3k_adata = pbmc3k_adata[pbmc3k_adata.obs['seurat_clusters'].isin([0, 1])]\n",
    "pbmc3k_adata.obs['seurat_clusters'] = pbmc3k_adata.obs['seurat_clusters'].astype('category')"
   ]
  },
  {
   "cell_type": "code",
   "execution_count": 142,
   "metadata": {},
   "outputs": [
    {
     "data": {
      "text/plain": [
       "(1180, 13714)"
      ]
     },
     "execution_count": 142,
     "metadata": {},
     "output_type": "execute_result"
    }
   ],
   "source": [
    "pbmc3k_adata.shape"
   ]
  },
  {
   "cell_type": "code",
   "execution_count": 157,
   "metadata": {},
   "outputs": [],
   "source": [
    "sc.tl.rank_genes_groups(pbmc3k_adata, 'seurat_clusters', method='wilcoxon', n_genes=13714)\n",
    "names = [x[0] for x in pbmc3k_adata.uns['rank_genes_groups']['names']]\n",
    "pv = [x[0] for x in pbmc3k_adata.uns['rank_genes_groups']['pvals']]\n",
    "df = pd.DataFrame(zip(names, pv), columns=['gene', 'pval'])\n",
    "df = df.query('gene in @memento_genes')"
   ]
  },
  {
   "cell_type": "code",
   "execution_count": 158,
   "metadata": {},
   "outputs": [
    {
     "data": {
      "text/plain": [
       "(array([3.44095404, 1.09020326, 0.79635941, 0.79210081, 0.77932499,\n",
       "        0.67711843, 0.58768769, 0.68137704, 0.54936024, 0.60898073]),\n",
       " array([3.29973974e-66, 9.99653458e-02, 1.99930692e-01, 2.99896037e-01,\n",
       "        3.99861383e-01, 4.99826729e-01, 5.99792075e-01, 6.99757421e-01,\n",
       "        7.99722766e-01, 8.99688112e-01, 9.99653458e-01]),\n",
       " <a list of 10 Patch objects>)"
      ]
     },
     "execution_count": 158,
     "metadata": {},
     "output_type": "execute_result"
    },
    {
     "data": {
      "image/png": "[encoded data removed]",
      "text/plain": [
       "<Figure size 432x288 with 1 Axes>"
      ]
     },
     "metadata": {
      "needs_background": "light"
     },
     "output_type": "display_data"
    }
   ],
   "source": [
    "plt.hist(df['pval'], bins=10, density=True)"
   ]
  },
  {
   "cell_type": "code",
   "execution_count": null,
   "metadata": {},
   "outputs": [],
   "source": []
  },
  {
   "cell_type": "code",
   "execution_count": 158,
   "metadata": {},
   "outputs": [
    {
     "name": "stderr",
     "output_type": "stream",
     "text": [
      "/data/home/anaconda3/envs/single_cell/lib/python3.7/site-packages/numpy/lib/histograms.py:839: RuntimeWarning: invalid value encountered in greater_equal\n",
      "  keep = (tmp_a >= first_edge)\n",
      "/data/home/anaconda3/envs/single_cell/lib/python3.7/site-packages/numpy/lib/histograms.py:840: RuntimeWarning: invalid value encountered in less_equal\n",
      "  keep &= (tmp_a <= last_edge)\n"
     ]
    },
    {
     "data": {
      "image/png": "[encoded data removed]",
      "text/plain": [
       "<Figure size 432x288 with 1 Axes>"
      ]
     },
     "metadata": {
      "needs_background": "light"
     },
     "output_type": "display_data"
    }
   ],
   "source": [
    "# Summarize DEseq result\n",
    "deseq_path = '/data/parameter_estimation/pbmc3k_calibration/deseq2/'\n",
    "deseq_dists = []\n",
    "for i in range(1,2):\n",
    "    df = pd.read_csv(deseq_path + '{}.csv'.format(i), index_col=0)\n",
    "    deseq_dists.append(stats.kstest(df['p_val'].dropna(), 'uniform')[0])\n",
    "    plt.hist(df['p_val'])"
   ]
  },
  {
   "cell_type": "code",
   "execution_count": 159,
   "metadata": {},
   "outputs": [],
   "source": [
    "# Summarize MAST result\n",
    "mast_path = '/data/parameter_estimation/pbmc3k_calibration/mast/'\n",
    "mast_dists = []\n",
    "for i in range(1,1):\n",
    "    df = pd.read_csv(mast_path + '{}.csv'.format(i), index_col=0)\n",
    "    mast_dists.append(stats.kstest(df['p_val'].dropna(), 'uniform')[0])"
   ]
  },
  {
   "cell_type": "code",
   "execution_count": 160,
   "metadata": {},
   "outputs": [
    {
     "name": "stderr",
     "output_type": "stream",
     "text": [
      "/data/home/anaconda3/envs/single_cell/lib/python3.7/site-packages/ipykernel_launcher.py:1: RuntimeWarning: Mean of empty slice.\n",
      "  \"\"\"Entry point for launching an IPython kernel.\n",
      "/data/home/anaconda3/envs/single_cell/lib/python3.7/site-packages/numpy/core/_methods.py:161: RuntimeWarning: invalid value encountered in double_scalars\n",
      "  ret = ret.dtype.type(ret / rcount)\n"
     ]
    },
    {
     "data": {
      "text/plain": [
       "nan"
      ]
     },
     "execution_count": 160,
     "metadata": {},
     "output_type": "execute_result"
    }
   ],
   "source": [
    "np.array(mast_dists).mean()"
   ]
  },
  {
   "cell_type": "code",
   "execution_count": 161,
   "metadata": {},
   "outputs": [
    {
     "data": {
      "image/png": "[encoded data removed]",
      "text/plain": [
       "<Figure size 432x288 with 1 Axes>"
      ]
     },
     "metadata": {
      "needs_background": "light"
     },
     "output_type": "display_data"
    }
   ],
   "source": [
    "plt.hist(df['p_val'], bins=20);"
   ]
  },
  {
   "cell_type": "markdown",
   "metadata": {},
   "source": [
    "###"
   ]
  },
  {
   "cell_type": "code",
   "execution_count": 175,
   "metadata": {},
   "outputs": [
    {
     "name": "stdout",
     "output_type": "stream",
     "text": [
      "Normalizing with 741 genes\n",
      "Using mask...\n"
     ]
    }
   ],
   "source": [
    "adata = sc.read(data_path + 'interferon_filtered.h5ad')\n",
    "\n",
    "tf_df = pd.read_csv('DatabaseExtract_v_1.01.csv', index_col=0)\n",
    "tf_df = tf_df[tf_df['TF assessment'] == 'Known motif']\n",
    "tfs = tf_df['HGNC symbol'].tolist()\n",
    "\n",
    "adata_ct =  adata[adata.obs.cell == 'CD14+ Monocytes'].copy()\n",
    "# adata_ct.obs['stim'] = np.random.choice(adata_ct.obs['stim'], adata_ct.shape[0])\n",
    "\n",
    "memento.create_groups(adata_ct, label_columns=['ind','stim'], inplace=True, q=0.07)\n",
    "\n",
    "memento.compute_1d_moments(\n",
    "    adata_ct, inplace=True, filter_genes=True, \n",
    "    residual_var=True,\n",
    "    filter_mean_thresh=0.07, \n",
    "    min_perc_group=0.8)\n",
    "\n",
    "genes = adata_ct.var.index.tolist()\n",
    "gene_1 = list(set(tfs) & set(genes))\n",
    "gene_2 = genes\n",
    "gene_pairs = list(itertools.product(gene_1, gene_2))"
   ]
  },
  {
   "cell_type": "code",
   "execution_count": 179,
   "metadata": {},
   "outputs": [
    {
     "data": {
      "text/plain": [
       "43"
      ]
     },
     "execution_count": 179,
     "metadata": {},
     "output_type": "execute_result"
    }
   ],
   "source": [
    "len(gene_1)"
   ]
  },
  {
   "cell_type": "code",
   "execution_count": 178,
   "metadata": {},
   "outputs": [
    {
     "data": {
      "text/plain": [
       "1596"
      ]
     },
     "execution_count": 178,
     "metadata": {},
     "output_type": "execute_result"
    }
   ],
   "source": [
    "len(genes)"
   ]
  },
  {
   "cell_type": "code",
   "execution_count": 168,
   "metadata": {},
   "outputs": [
    {
     "data": {
      "text/plain": [
       "19.063333333333333"
      ]
     },
     "execution_count": 168,
     "metadata": {},
     "output_type": "execute_result"
    }
   ],
   "source": [
    "68628/3600"
   ]
  },
  {
   "cell_type": "code",
   "execution_count": 167,
   "metadata": {},
   "outputs": [
    {
     "data": {
      "text/plain": [
       "68628"
      ]
     },
     "execution_count": 167,
     "metadata": {},
     "output_type": "execute_result"
    }
   ],
   "source": [
    "len(gene_pairs)"
   ]
  },
  {
   "cell_type": "markdown",
   "metadata": {},
   "source": [
    "### Correlation between ISGs"
   ]
  },
  {
   "cell_type": "code",
   "execution_count": 233,
   "metadata": {},
   "outputs": [],
   "source": [
    "distances = pd.read_csv(data_path + 'chipseq/union/intersect_distances.csv').rename(columns={'gene_name':'gene'})\n",
    "isgf3_genes = distances.query('distance == 0').gene.tolist()\n"
   ]
  },
  {
   "cell_type": "code",
   "execution_count": 234,
   "metadata": {},
   "outputs": [],
   "source": [
    "adata_ct =  adata[adata.obs.cell == 'CD14+ Monocytes'].copy()\n"
   ]
  },
  {
   "cell_type": "code",
   "execution_count": 235,
   "metadata": {},
   "outputs": [],
   "source": [
    "x = (adata_ct.X > 0).mean(axis=0).A1"
   ]
  },
  {
   "cell_type": "code",
   "execution_count": 236,
   "metadata": {},
   "outputs": [
    {
     "data": {
      "text/plain": [
       "127"
      ]
     },
     "execution_count": 236,
     "metadata": {},
     "output_type": "execute_result"
    }
   ],
   "source": [
    "(x > 0.75).sum()"
   ]
  },
  {
   "cell_type": "code",
   "execution_count": 237,
   "metadata": {},
   "outputs": [],
   "source": [
    "a = 0.05"
   ]
  },
  {
   "cell_type": "code",
   "execution_count": 238,
   "metadata": {},
   "outputs": [
    {
     "name": "stdout",
     "output_type": "stream",
     "text": [
      "Normalizing with 741 genes\n",
      "Using mask...\n",
      "(0.15952003488544897, 7.205063954007968e-13)\n"
     ]
    },
    {
     "data": {
      "text/plain": [
       "<matplotlib.collections.PathCollection at 0x7f211a5c5910>"
      ]
     },
     "execution_count": 238,
     "metadata": {},
     "output_type": "execute_result"
    },
    {
     "data": {
      "image/png": "[encoded data removed]",
      "text/plain": [
       "<Figure size 432x288 with 2 Axes>"
      ]
     },
     "metadata": {
      "needs_background": "light"
     },
     "output_type": "display_data"
    }
   ],
   "source": [
    "adata_ct =  adata[adata.obs.cell == 'CD14+ Monocytes'].copy()\n",
    "# adata_ct.obs['stim'] = np.random.choice(adata_ct.obs['stim'], adata_ct.shape[0])\n",
    "\n",
    "memento.create_groups(adata_ct, label_columns=['stim'], inplace=True, q=0.07)\n",
    "\n",
    "memento.compute_1d_moments(\n",
    "    adata_ct, inplace=True, filter_genes=True, \n",
    "    residual_var=True,\n",
    "    trim_percs=a,\n",
    "    filter_mean_thresh=0.07, \n",
    "    min_perc_group=0.80)\n",
    "genes = adata_ct.var.index.tolist()\n",
    "isgf3_genes = list(set(isgf3_genes) & set(genes))\n",
    "\n",
    "genes = adata_ct.var.index.tolist()\n",
    "# print(set(tfs) & set(genes))\n",
    "gene_1 =np.random.choice(genes, 2000, replace=True)\n",
    "gene_2 = np.random.choice(genes, 2000, replace=True)\n",
    "gene_pairs = list(zip(gene_1, gene_2))\n",
    "\n",
    "mean_prod = adata_ct.uns['memento']['1d_moments']['sg^stim'][0][memento.util._get_gene_idx(adata_ct, gene_1)] *\\\n",
    "    adata_ct.uns['memento']['1d_moments']['sg^stim'][0][memento.util._get_gene_idx(adata_ct, gene_2)]\n",
    "mean_prod = np.log(mean_prod)\n",
    "\n",
    "memento.compute_2d_moments(\n",
    "    adata_ct, \n",
    "    gene_pairs=gene_pairs)\n",
    "\n",
    "corr = adata_ct.uns['memento']['2d_moments']['sg^stim']['corr']\n",
    "print(nancorr(mean_prod, corr))\n",
    "\n",
    "plt.subplot(1, 2, 1)\n",
    "plt.scatter(corr, mean_prod, s=2)\n",
    "plt.subplot(1, 2, 2)\n",
    "plt.scatter(adata_ct.uns['memento']['all_total_size_factor'], adata_ct.uns['memento']['all_size_factor'], s=2)\n"
   ]
  },
  {
   "cell_type": "code",
   "execution_count": 239,
   "metadata": {},
   "outputs": [
    {
     "data": {
      "text/plain": [
       "0.026868098711814378"
      ]
     },
     "execution_count": 239,
     "metadata": {},
     "output_type": "execute_result"
    }
   ],
   "source": [
    "0.16391491302445418**2"
   ]
  },
  {
   "cell_type": "code",
   "execution_count": 44,
   "metadata": {},
   "outputs": [
    {
     "name": "stdout",
     "output_type": "stream",
     "text": [
      "Normalizing with 741 genes\n",
      "Using mask...\n"
     ]
    },
    {
     "name": "stderr",
     "output_type": "stream",
     "text": [
      "/data/home/anaconda3/envs/single_cell/lib/python3.7/site-packages/ipykernel_launcher.py:12: RuntimeWarning: invalid value encountered in greater\n",
      "  if sys.path[0] == '':\n",
      "/data/home/anaconda3/envs/single_cell/lib/python3.7/site-packages/ipykernel_launcher.py:12: RuntimeWarning: invalid value encountered in less\n",
      "  if sys.path[0] == '':\n"
     ]
    },
    {
     "data": {
      "text/plain": [
       "[<matplotlib.lines.Line2D at 0x7f0b66c44f50>]"
      ]
     },
     "execution_count": 44,
     "metadata": {},
     "output_type": "execute_result"
    },
    {
     "data": {
      "image/png": "[encoded data removed]",
      "text/plain": [
       "<Figure size 432x288 with 1 Axes>"
      ]
     },
     "metadata": {
      "needs_background": "light"
     },
     "output_type": "display_data"
    }
   ],
   "source": [
    "adata_ct =  adata[adata.obs.cell == 'CD14+ Monocytes'].copy()\n",
    "# adata_ct.obs['stim'] = np.random.choice(adata_ct.obs['stim'], adata_ct.shape[0])\n",
    "\n",
    "memento.create_groups(adata_ct, label_columns=['ind','stim'], inplace=True, q=0.07)\n",
    "\n",
    "memento.compute_1d_moments(\n",
    "    adata_ct, inplace=True, filter_genes=True, \n",
    "    residual_var=True,\n",
    "    trim_percs=a,\n",
    "    filter_mean_thresh=0.07, \n",
    "    min_perc_group=0.8)\n",
    "genes = adata_ct.var.index.tolist()\n",
    "isgf3_genes = list(set(isgf3_genes) & set(genes))\n",
    "\n",
    "g = 'ACTB'\n",
    "gene_1 = [g for i in range(len(genes))]\n",
    "gene_2 = genes\n",
    "gene_pairs = list(zip(gene_1, gene_2))\n",
    "\n",
    "# mean_prod = adata_ct.uns['memento']['1d_moments']['sg^stim'][0][memento.util._get_gene_idx(adata_ct, gene_1)] *\\\n",
    "#     adata_ct.uns['memento']['1d_moments']['sg^stim'][0][memento.util._get_gene_idx(adata_ct, gene_2)]\n",
    "mean_prod = np.log(mean_prod)\n",
    "\n",
    "memento.compute_2d_moments(\n",
    "    adata_ct, \n",
    "    gene_pairs=gene_pairs)\n",
    "\n",
    "# corr = adata_ct.uns['memento']['2d_moments']['sg^stim']['corr']\n",
    "# plt.scatter(mean_prod, corr, s=2)\n",
    "\n",
    "# nandistplot(adata_ct.uns['memento']['2d_moments']['sg^ctrl']['corr'])\n",
    "# nandistplot(adata_ct.uns['memento']['2d_moments']['sg^stim']['corr'])\n",
    "\n",
    "ctrl, stim = compute_ind_mean(adata_ct)\n",
    "nandistplot(ctrl)\n",
    "nandistplot(stim)\n",
    "plt.plot([0, 0], [0, 5])"
   ]
  },
  {
   "cell_type": "code",
   "execution_count": 241,
   "metadata": {},
   "outputs": [
    {
     "name": "stdout",
     "output_type": "stream",
     "text": [
      "Normalizing with 741 genes\n",
      "Using mask...\n"
     ]
    },
    {
     "name": "stderr",
     "output_type": "stream",
     "text": [
      "/data/home/anaconda3/envs/single_cell/lib/python3.7/site-packages/ipykernel_launcher.py:23: RuntimeWarning: invalid value encountered in log\n"
     ]
    },
    {
     "name": "stdout",
     "output_type": "stream",
     "text": [
      "['ISG15', 'OASL', 'SAT1', 'OAS1', 'IFITM3', 'ISG20']\n",
      "[ 0.06236996  0.11912384 -0.00620699  0.0875219   0.02649276  0.05217628]\n",
      "[ 0.1840114   0.17963484 -0.13797313  0.37650968  0.25553617  0.15137564]\n"
     ]
    }
   ],
   "source": [
    "adata_ct =  adata[adata.obs.cell == 'CD14+ Monocytes'].copy()\n",
    "# adata_ct.obs['stim'] = np.random.choice(adata_ct.obs['stim'], adata_ct.shape[0])\n",
    "\n",
    "memento.create_groups(adata_ct, label_columns=['ind','stim'], inplace=True, q=0.07)\n",
    "\n",
    "memento.compute_1d_moments(\n",
    "    adata_ct, inplace=True, filter_genes=True, \n",
    "    residual_var=True,\n",
    "    trim_percs=a,\n",
    "    filter_mean_thresh=0.07, \n",
    "    min_perc_group=0.8)\n",
    "genes = adata_ct.var.index.tolist()\n",
    "isgf3_genes = list(set(isgf3_genes) & set(genes))\n",
    "\n",
    "genes = adata_ct.var.index.tolist()\n",
    "gene_1 = ['NFE2L2']\n",
    "gene_2 = ['IFIT1', 'ISG15', 'OAS1', 'OASL', 'MX1', 'IFITM1', 'ISG20', 'IFITM3', 'SAT1']\n",
    "gene_2 = list(set(gene_2) & set(genes))\n",
    "gene_pairs = list(itertools.product(gene_1, gene_2))\n",
    "\n",
    "# mean_prod = adata_ct.uns['memento']['1d_moments']['sg^stim'][0][memento.util._get_gene_idx(adata_ct, gene_1)] *\\\n",
    "#     adata_ct.uns['memento']['1d_moments']['sg^stim'][0][memento.util._get_gene_idx(adata_ct, gene_2)]\n",
    "mean_prod = np.log(mean_prod)\n",
    "\n",
    "memento.compute_2d_moments(\n",
    "    adata_ct, \n",
    "    gene_pairs=gene_pairs)\n",
    "\n",
    "# corr = adata_ct.uns['memento']['2d_moments']['sg^stim']['corr']\n",
    "# plt.scatter(mean_prod, corr, s=2)\n",
    "\n",
    "# nandistplot(adata_ct.uns['memento']['2d_moments']['sg^ctrl']['corr'])\n",
    "# nandistplot(adata_ct.uns['memento']['2d_moments']['sg^stim']['corr'])\n",
    "\n",
    "ctrl, stim = compute_ind_mean(adata_ct)\n",
    "print(gene_2)\n",
    "print(ctrl)\n",
    "print(stim)"
   ]
  },
  {
   "cell_type": "code",
   "execution_count": 36,
   "metadata": {},
   "outputs": [
    {
     "name": "stdout",
     "output_type": "stream",
     "text": [
      "Normalizing with 741 genes\n",
      "Using mask...\n"
     ]
    },
    {
     "name": "stderr",
     "output_type": "stream",
     "text": [
      "/data/home/anaconda3/envs/single_cell/lib/python3.7/site-packages/ipykernel_launcher.py:23: RuntimeWarning: invalid value encountered in log\n",
      "/data/home/anaconda3/envs/single_cell/lib/python3.7/site-packages/ipykernel_launcher.py:12: RuntimeWarning: invalid value encountered in greater\n",
      "  if sys.path[0] == '':\n",
      "/data/home/anaconda3/envs/single_cell/lib/python3.7/site-packages/ipykernel_launcher.py:12: RuntimeWarning: invalid value encountered in less\n",
      "  if sys.path[0] == '':\n"
     ]
    },
    {
     "data": {
      "text/plain": [
       "[<matplotlib.lines.Line2D at 0x7f0b6c6d5050>]"
      ]
     },
     "execution_count": 36,
     "metadata": {},
     "output_type": "execute_result"
    },
    {
     "data": {
      "image/png": "[encoded data removed]",
      "text/plain": [
       "<Figure size 432x288 with 1 Axes>"
      ]
     },
     "metadata": {
      "needs_background": "light"
     },
     "output_type": "display_data"
    }
   ],
   "source": [
    "adata_ct =  adata[adata.obs.cell == 'CD14+ Monocytes'].copy()\n",
    "# adata_ct.obs['stim'] = np.random.choice(adata_ct.obs['stim'], adata_ct.shape[0])\n",
    "\n",
    "memento.create_groups(adata_ct, label_columns=['ind','stim'], inplace=True, q=0.07)\n",
    "\n",
    "memento.compute_1d_moments(\n",
    "    adata_ct, inplace=True, filter_genes=True, \n",
    "    residual_var=True,\n",
    "    trim_percs=a,\n",
    "    filter_mean_thresh=0.07, \n",
    "    min_perc_group=0.8)\n",
    "genes = adata_ct.var.index.tolist()\n",
    "isgf3_genes = list(set(isgf3_genes) & set(genes))\n",
    "\n",
    "genes = adata_ct.var.index.tolist()\n",
    "# print(set(tfs) & set(genes))\n",
    "gene_1 =np.random.choice(genes, 2000, replace=True)\n",
    "gene_2 = np.random.choice(genes, 2000, replace=True)\n",
    "gene_pairs = list(zip(gene_1, gene_2))\n",
    "\n",
    "# mean_prod = adata_ct.uns['memento']['1d_moments']['sg^stim'][0][memento.util._get_gene_idx(adata_ct, gene_1)] *\\\n",
    "#     adata_ct.uns['memento']['1d_moments']['sg^stim'][0][memento.util._get_gene_idx(adata_ct, gene_2)]\n",
    "mean_prod = np.log(mean_prod)\n",
    "\n",
    "memento.compute_2d_moments(\n",
    "    adata_ct, \n",
    "    gene_pairs=gene_pairs)\n",
    "\n",
    "# corr = adata_ct.uns['memento']['2d_moments']['sg^stim']['corr']\n",
    "# plt.scatter(mean_prod, corr, s=2)\n",
    "\n",
    "# nandistplot(adata_ct.uns['memento']['2d_moments']['sg^ctrl']['corr'])\n",
    "# nandistplot(adata_ct.uns['memento']['2d_moments']['sg^stim']['corr'])\n",
    "\n",
    "ctrl, stim = compute_ind_mean(adata_ct)\n",
    "nandistplot(ctrl)\n",
    "nandistplot(stim)\n",
    "plt.plot([0, 0], [0, 5])"
   ]
  },
  {
   "cell_type": "code",
   "execution_count": null,
   "metadata": {},
   "outputs": [],
   "source": []
  },
  {
   "cell_type": "code",
   "execution_count": null,
   "metadata": {},
   "outputs": [],
   "source": []
  },
  {
   "cell_type": "code",
   "execution_count": null,
   "metadata": {},
   "outputs": [],
   "source": []
  },
  {
   "cell_type": "code",
   "execution_count": null,
   "metadata": {},
   "outputs": [],
   "source": [
    "result_1d = memento.get_1d_ht_result(adata_ct)"
   ]
  },
  {
   "cell_type": "code",
   "execution_count": null,
   "metadata": {},
   "outputs": [],
   "source": [
    "plt.figure(figsize=(6, 3))\n",
    "plt.subplot(1, 2, 1)\n",
    "plt.hist(adata_ct.uns['memento']['1d_ht']['mean_asl'], bins=50);\n",
    "plt.xlabel('mean pv')\n",
    "plt.subplot(1, 2, 2)\n",
    "plt.hist(adata_ct.uns['memento']['1d_ht']['var_asl'], bins=50);\n",
    "plt.xlabel('var pv')\n"
   ]
  },
  {
   "cell_type": "code",
   "execution_count": null,
   "metadata": {},
   "outputs": [],
   "source": [
    "result_1d.to_csv('cM_1d_result.csv', index=False)"
   ]
  },
  {
   "cell_type": "code",
   "execution_count": null,
   "metadata": {},
   "outputs": [],
   "source": [
    "result_1d = pd.read_csv('cM_1d_result.csv')"
   ]
  },
  {
   "cell_type": "code",
   "execution_count": null,
   "metadata": {},
   "outputs": [],
   "source": [
    "upreg_genes = result_1d.query('de_fdr < 0.05 & de_coef > 0').sort_values('de_coef', ascending=False).head(20).gene.tolist()"
   ]
  },
  {
   "cell_type": "code",
   "execution_count": null,
   "metadata": {},
   "outputs": [],
   "source": []
  },
  {
   "cell_type": "code",
   "execution_count": null,
   "metadata": {},
   "outputs": [],
   "source": []
  },
  {
   "cell_type": "code",
   "execution_count": null,
   "metadata": {},
   "outputs": [],
   "source": []
  },
  {
   "cell_type": "code",
   "execution_count": null,
   "metadata": {},
   "outputs": [],
   "source": []
  },
  {
   "cell_type": "markdown",
   "metadata": {},
   "source": [
    "### MISC"
   ]
  },
  {
   "cell_type": "code",
   "execution_count": null,
   "metadata": {},
   "outputs": [],
   "source": [
    "sns.distplot(ctrl_mean_corr)\n",
    "sns.distplot(stim_mean_corr)\n",
    "plt.legend(['ctrl', 'stim'])\n",
    "plt.plot([0, 0], [0, 6])\n",
    "# plt.xlim(-0.5, 0.5)\n",
    "# plt.title('Correlation with ' + g)\n",
    "plt.title('Correlation between random genes')\n"
   ]
  },
  {
   "cell_type": "code",
   "execution_count": null,
   "metadata": {},
   "outputs": [],
   "source": []
  },
  {
   "cell_type": "code",
   "execution_count": null,
   "metadata": {},
   "outputs": [],
   "source": [
    "stim_mean_corr.shape"
   ]
  },
  {
   "cell_type": "code",
   "execution_count": null,
   "metadata": {},
   "outputs": [],
   "source": [
    "sns.distplot(ctrl_mean_corr, hist=False)\n",
    "sns.distplot(stim_mean_corr, hist=False)\n",
    "plt.plot([0, 0], [0, 6])\n",
    "plt.title('Correlations between highly upregulated genes')"
   ]
  },
  {
   "cell_type": "code",
   "execution_count": null,
   "metadata": {},
   "outputs": [],
   "source": []
  },
  {
   "cell_type": "code",
   "execution_count": null,
   "metadata": {},
   "outputs": [],
   "source": [
    "df['ctrl'] = ctrl_mean_corr\n",
    "df['stim'] = stim_mean_corr"
   ]
  },
  {
   "cell_type": "code",
   "execution_count": null,
   "metadata": {},
   "outputs": [],
   "source": [
    "df.sort_values('corr_fdr').head(50)"
   ]
  },
  {
   "cell_type": "code",
   "execution_count": null,
   "metadata": {},
   "outputs": [],
   "source": [
    "from sklearn.linear_model import LinearRegression\n",
    "\n",
    "def _compute_asl(perm_diff):\n",
    "    \"\"\" \n",
    "        Use the generalized pareto distribution to model the tail of the permutation distribution. \n",
    "    \"\"\"\n",
    "\n",
    "    null = perm_diff[1:] - perm_diff[1:].mean()\n",
    "\n",
    "    stat = perm_diff[0]\n",
    "\n",
    "    extreme_count = (null < stat).sum()\n",
    "    extreme_count = min(extreme_count, null.shape[0] - extreme_count)\n",
    "\n",
    "    print(extreme_count)\n",
    "    # \treturn 2 * ((extreme_count + 1) / (perm_diff.shape[0] + 1))\n",
    "\n",
    "    if extreme_count > 10: # We do not need to use the GDP approximation. \n",
    "\n",
    "        return 2 * ((extreme_count + 1) / (null.shape[0] + 1))\n",
    "\n",
    "    else: # We use the GDP approximation\n",
    "        \n",
    "        try:\n",
    "\n",
    "            perm_dist = np.sort(null)# if perm_mean < 0 else np.sort(-perm_diff) # For fitting the GDP later on\n",
    "            perm_dist = perm_dist[np.isfinite(perm_dist)]\n",
    "            N_exec = 300 # Starting value for number of exceendences\n",
    "\n",
    "            while N_exec > 50:\n",
    "\n",
    "                tail_data = perm_dist[-N_exec:] if stat > 0 else perm_dist[:N_exec]\n",
    "                params = stats.genextreme.fit(tail_data)\n",
    "                _, ks_pval = stats.kstest(tail_data, 'genextreme', args=params)\n",
    "\n",
    "                if ks_pval > 0.05: # roughly a genpareto distribution\n",
    "                    val = stats.genextreme.sf(stat, *params) if stat > 0 else stats.genextreme.cdf(stat, *params)\n",
    "                    return 2 * (N_exec/perm_diff.shape[0]) * val\n",
    "                else: # Failed to fit genpareto\n",
    "                    N_exec -= 30\n",
    "            return 2 * ((extreme_count + 1) / (perm_diff.shape[0] + 1))\n",
    "\n",
    "        except: # catch any numerical errors\n",
    "\n",
    "            # Failed to fit genpareto, return the upper bound\n",
    "            return 2 * ((extreme_count + 1) / (perm_diff.shape[0] + 1))\n",
    "        \n",
    "def _fill_corr(val):\n",
    "\t\n",
    "\tcondition = np.isnan(val)\n",
    "\tval[condition] = np.random.choice(val[~condition], condition.sum())\n",
    "\t\n",
    "\treturn val\n",
    "\n",
    "def _ht_2d(\n",
    "\ttrue_corr, # list of correlations for each group\n",
    "\tcells, # list of Nx2 sparse matrices\n",
    "\tapprox_sf,\n",
    "\tdesign_matrix,\n",
    "\tNc_list,\n",
    "\tnum_boot,\n",
    "\tcov_idx,\n",
    "\tq,\n",
    "\t_estimator_1d,\n",
    "\t_estimator_cov):\n",
    "\t\t\n",
    "\tgood_idxs = np.zeros(design_matrix.shape[0], dtype=bool)\n",
    "\t\n",
    "\t# the bootstrap arrays\n",
    "\tboot_corr = np.zeros((design_matrix.shape[0], num_boot+1))*np.nan\n",
    "\n",
    "\tfor group_idx in range(design_matrix.shape[0]):\n",
    "\n",
    "\t\t# Skip if any of the 2d moments are NaNs\n",
    "\t\tif np.isnan(true_corr[group_idx]) or (np.abs(true_corr[group_idx]) == 1):\n",
    "\t\t\tcontinue\n",
    "\n",
    "\t\t# Fill in the true value\n",
    "\t\tboot_corr[group_idx, 0] = true_corr[group_idx]\n",
    "\t\t\n",
    "\t\t# Generate the bootstrap values\n",
    "\t\tcov, var_1, var_2 = memento.bootstrap._bootstrap_2d(\n",
    "\t\t\tdata=cells[group_idx],\n",
    "\t\t\tsize_factor=approx_sf[group_idx],\n",
    "\t\t\tnum_boot=int(num_boot),\n",
    "\t\t\tq=q,\n",
    "\t\t\t_estimator_1d=_estimator_1d,\n",
    "\t\t\t_estimator_cov=_estimator_cov)\n",
    "\t\t\n",
    "# \t\tvar_1[var_1 < 0] = np.mean(var_1[var_1 > 0])\n",
    "# \t\tvar_2[var_2 < 0] = np.mean(var_2[var_2 > 0])\n",
    "\t\t\t\t\n",
    "\t\tcorr = memento.estimator._corr_from_cov(cov, var_1, var_2, boot=True)\n",
    "\t\t\t\n",
    "\t\t# This replicate is good\n",
    "\t\tboot_corr[group_idx, 1:] = corr#[:num_boot]\n",
    "\t\tvals = _fill_corr(boot_corr[group_idx, :])\n",
    "\t\t\n",
    "\t\t# Skip if all NaNs\n",
    "\t\tif np.all(np.isnan(vals)):\n",
    "\t\t\tcontinue\n",
    "\t\t\n",
    "\t\tgood_idxs[group_idx] = True\n",
    "\t\tboot_corr[group_idx, :] = vals\n",
    "\n",
    "\t# Skip this gene\n",
    "\tif good_idxs.sum() == 0:\n",
    "\t\treturn np.nan, np.nan\n",
    "\t\n",
    "\t# Skip if each covariate group is not represented\n",
    "\tif np.unique(design_matrix[good_idxs, cov_idx]).shape[0] == 1:\n",
    "\t\treturn np.nan, np.nan\n",
    "\t\n",
    "\tvals = _regress_2d(\n",
    "\t\t\tdesign_matrix=design_matrix[good_idxs, :],\n",
    "\t\t\tboot_corr=boot_corr[good_idxs, :],\n",
    "\t\t\tNc_list=Nc_list[good_idxs],\n",
    "\t\t\tcov_idx=cov_idx)\n",
    "\t\n",
    "\treturn vals\n",
    "\n",
    "\n",
    "def _regress_2d(design_matrix, boot_corr, Nc_list, cov_idx):\n",
    "\t\"\"\"\n",
    "\t\tPerforms hypothesis testing for a single pair of genes for many bootstrap iterations.\n",
    "\t\"\"\"\n",
    "\t\n",
    "\tnum_boot = boot_corr.shape[1]\n",
    "\t\n",
    "\tboot_corr = boot_corr[:, ~np.any(~np.isfinite(boot_corr), axis=0)]\n",
    "\t\n",
    "\tif boot_corr.shape[1] == 0:\n",
    "\t\t\n",
    "\t\treturn np.nan, np.nan\n",
    "\t\n",
    "\tcorr_coef = LinearRegression(fit_intercept=False, n_jobs=1)\\\n",
    "\t\t.fit(design_matrix, boot_corr, Nc_list).coef_[:, cov_idx]\n",
    "\t\n",
    "\tif boot_corr.shape[1] < num_boot*0.7:\n",
    "\t\treturn corr_coef[0], np.nan\n",
    "\n",
    "\tcorr_asl = _compute_asl(corr_coef)\n",
    "\t\n",
    "\treturn corr_coef, corr_asl\n"
   ]
  },
  {
   "cell_type": "code",
   "execution_count": null,
   "metadata": {},
   "outputs": [],
   "source": [
    "from functools import partial\n",
    "\n",
    "idx_1 = adata_ct.uns['memento']['2d_moments']['gene_idx_1'][0]\n",
    "idx_2 = adata_ct.uns['memento']['2d_moments']['gene_idx_2'][0]\n",
    "\n",
    "a = partial(\n",
    "    _ht_2d,\n",
    "    true_corr=[adata_ct.uns['memento']['2d_moments'][group]['corr'][0] for group in adata_ct.uns['memento']['groups']],\n",
    "    cells=[adata_ct.uns['memento']['group_cells'][group][:, [idx_1, idx_2]] for group in adata_ct.uns['memento']['groups']],\n",
    "    approx_sf=[adata_ct.uns['memento']['approx_size_factor'][group] for group in adata_ct.uns['memento']['groups']],\n",
    "    design_matrix=adata_ct.uns['memento']['2d_ht']['design_matrix'],\n",
    "    Nc_list=np.array([adata_ct.uns['memento']['group_cells'][group].shape[0] for group in adata_ct.uns['memento']['groups']]),\n",
    "    num_boot=100000,\n",
    "    cov_idx=1,\n",
    "    q=adata_ct.uns['memento']['q'],\n",
    "    _estimator_1d=memento.estimator._get_estimator_1d(adata_ct.uns['memento']['estimator_type']),\n",
    "    _estimator_cov=memento.estimator._get_estimator_cov(adata_ct.uns['memento']['estimator_type']))"
   ]
  },
  {
   "cell_type": "code",
   "execution_count": null,
   "metadata": {},
   "outputs": [],
   "source": [
    "3.433560531085916e-05*1400"
   ]
  },
  {
   "cell_type": "code",
   "execution_count": null,
   "metadata": {},
   "outputs": [],
   "source": [
    "%%time\n",
    "c, p = a()\n",
    "print(p)"
   ]
  },
  {
   "cell_type": "code",
   "execution_count": null,
   "metadata": {},
   "outputs": [],
   "source": [
    "%%time\n",
    "c, p = a()\n",
    "print(p)"
   ]
  },
  {
   "cell_type": "code",
   "execution_count": null,
   "metadata": {},
   "outputs": [],
   "source": [
    "c[0] = -6"
   ]
  },
  {
   "cell_type": "code",
   "execution_count": null,
   "metadata": {},
   "outputs": [],
   "source": [
    "_compute_asl(c)"
   ]
  },
  {
   "cell_type": "code",
   "execution_count": null,
   "metadata": {},
   "outputs": [],
   "source": [
    "c[0]"
   ]
  },
  {
   "cell_type": "code",
   "execution_count": null,
   "metadata": {},
   "outputs": [],
   "source": [
    "null_dist = c[1:]-c[1:].mean()"
   ]
  },
  {
   "cell_type": "code",
   "execution_count": null,
   "metadata": {},
   "outputs": [],
   "source": [
    "null_dist.min()"
   ]
  },
  {
   "cell_type": "code",
   "execution_count": null,
   "metadata": {},
   "outputs": [],
   "source": [
    "N_exec = 500"
   ]
  },
  {
   "cell_type": "code",
   "execution_count": null,
   "metadata": {},
   "outputs": [],
   "source": [
    "null_dist_tail = np.sort(-null_dist)[-N_exec:]\n",
    "t = np.sort(-null_dist)[-N_exec-1]\n",
    "coef = -c[0]"
   ]
  },
  {
   "cell_type": "code",
   "execution_count": null,
   "metadata": {},
   "outputs": [],
   "source": [
    "dist_to_fit = null_dist_tail-t\n",
    "params = stats.genextreme.fit(dist_to_fit, loc=0)\n",
    "print(stats.kstest(dist_to_fit, 'genextreme', args=params))\n",
    "\n",
    "print(stats.genextreme.sf(coef-t, *params))"
   ]
  },
  {
   "cell_type": "code",
   "execution_count": null,
   "metadata": {},
   "outputs": [],
   "source": [
    "sns.distplot(dist_to_fit)\n",
    "a = stats.genextreme.rvs(*params, size=10000)\n",
    "sns.distplot(a)\n",
    "# plt.xlim(0, 0.2)\n",
    "\n",
    "plt.plot([coef-t, coef-t], [0, 16])"
   ]
  },
  {
   "cell_type": "code",
   "execution_count": null,
   "metadata": {},
   "outputs": [],
   "source": []
  },
  {
   "cell_type": "code",
   "execution_count": null,
   "metadata": {},
   "outputs": [],
   "source": []
  },
  {
   "cell_type": "code",
   "execution_count": null,
   "metadata": {},
   "outputs": [],
   "source": []
  },
  {
   "cell_type": "code",
   "execution_count": null,
   "metadata": {},
   "outputs": [],
   "source": []
  }
 ],
 "metadata": {
  "kernelspec": {
   "display_name": "Python 3",
   "language": "python",
   "name": "python3"
  },
  "language_info": {
   "codemirror_mode": {
    "name": "ipython",
    "version": 3
   },
   "file_extension": ".py",
   "mimetype": "text/x-python",
   "name": "python",
   "nbconvert_exporter": "python",
   "pygments_lexer": "ipython3",
   "version": "3.8.8"
  }
 },
 "nbformat": 4,
 "nbformat_minor": 4
}
