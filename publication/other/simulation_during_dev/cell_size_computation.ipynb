{
 "cells": [
  {
   "cell_type": "markdown",
   "metadata": {},
   "source": [
    "# Cell size computation\n",
    "\n",
    "Approaches for cell size computation"
   ]
  },
  {
   "cell_type": "code",
   "execution_count": 1,
   "metadata": {},
   "outputs": [
    {
     "name": "stderr",
     "output_type": "stream",
     "text": [
      "/data/home/anaconda3/envs/single_cell/lib/python3.7/site-packages/statsmodels/tools/_testing.py:19: FutureWarning: pandas.util.testing is deprecated. Use the functions in the public API at pandas.testing instead.\n",
      "  import pandas.util.testing as tm\n"
     ]
    }
   ],
   "source": [
    "import numpy as np\n",
    "import scipy.stats as stats\n",
    "import matplotlib.pyplot as plt\n",
    "import seaborn as sns\n",
    "import pandas as pd\n",
    "import scipy as sp\n",
    "import scanpy as sc\n",
    "import scipy.sparse as sparse\n",
    "import pickle as pkl\n",
    "from scipy.optimize import root, minimize, root_scalar, diagbroyden, least_squares, approx_fprime\n",
    "import scipy.optimize as opt"
   ]
  },
  {
   "cell_type": "code",
   "execution_count": 2,
   "metadata": {},
   "outputs": [],
   "source": [
    "fig_path = '/data/home/Github/scrna-parameter-estimation/figures/fig3/'\n",
    "data_path = '/data_volume/parameter_estimation/'"
   ]
  },
  {
   "cell_type": "markdown",
   "metadata": {},
   "source": [
    "### Read IFN data"
   ]
  },
  {
   "cell_type": "code",
   "execution_count": 3,
   "metadata": {},
   "outputs": [
    {
     "name": "stderr",
     "output_type": "stream",
     "text": [
      "/data/home/anaconda3/envs/single_cell/lib/python3.7/site-packages/anndata/_core/anndata.py:1094: FutureWarning: is_categorical is deprecated and will be removed in a future version.  Use is_categorical_dtype instead\n",
      "  if not is_categorical(df_full[k]):\n"
     ]
    }
   ],
   "source": [
    "adata = sc.read(data_path + 'interferon_filtered.h5ad')\n",
    "adata = adata[(adata.obs.cell == 'CD14+ Monocytes')].copy()"
   ]
  },
  {
   "cell_type": "markdown",
   "metadata": {},
   "source": [
    "### Use least variable genes"
   ]
  },
  {
   "cell_type": "code",
   "execution_count": 4,
   "metadata": {},
   "outputs": [
    {
     "name": "stderr",
     "output_type": "stream",
     "text": [
      "/data/home/Github/scrna-parameter-estimation/dist/memento-0.0.1-py3.7.egg/memento/simulate.py:14: FutureWarning: Passing a negative integer is deprecated in version 1.0 and will not be supported in future version. Instead, use None to not limit the column width.\n"
     ]
    }
   ],
   "source": [
    "import sys\n",
    "sys.path.append('/data/home/Github/scrna-parameter-estimation/dist/memento-0.0.1-py3.7.egg')\n",
    "import memento"
   ]
  },
  {
   "cell_type": "code",
   "execution_count": 5,
   "metadata": {},
   "outputs": [],
   "source": [
    "adata_ct = adata.copy()\n",
    "\n",
    "memento.create_groups(adata_ct, label_columns=['stim'], inplace=True, q=0.07)\n",
    "\n",
    "memento.compute_size_factors(adata_ct, trim_percent=0.3)\n",
    "\n",
    "memento.compute_1d_moments(\n",
    "    adata_ct, inplace=True, filter_genes=False, \n",
    "    filter_mean_thresh=0.07, \n",
    "    min_perc_group=0.8)"
   ]
  },
  {
   "cell_type": "code",
   "execution_count": 135,
   "metadata": {},
   "outputs": [],
   "source": [
    "total_library_count = adata_ct.uns['memento']['all_total_size_factor']/adata_ct.uns['memento']['all_total_size_factor'].mean()"
   ]
  },
  {
   "cell_type": "code",
   "execution_count": 167,
   "metadata": {},
   "outputs": [],
   "source": [
    "lv_sf = adata_ct.uns['memento']['all_size_factor']"
   ]
  },
  {
   "cell_type": "code",
   "execution_count": 136,
   "metadata": {},
   "outputs": [
    {
     "data": {
      "text/plain": [
       "559"
      ]
     },
     "execution_count": 136,
     "metadata": {},
     "output_type": "execute_result"
    }
   ],
   "source": [
    "len(adata_ct.uns['memento']['least_variable_genes'])"
   ]
  },
  {
   "cell_type": "markdown",
   "metadata": {},
   "source": [
    "### Implement pooled TMM"
   ]
  },
  {
   "cell_type": "code",
   "execution_count": 137,
   "metadata": {},
   "outputs": [],
   "source": [
    "def trimmed_mean(a, b):\n",
    "    \n",
    "    ratio = a / b\n",
    "    \n",
    "#     return np.median(ratio)\n",
    "    llim, ulim = np.quantile(ratio, [0.3, 0.7])\n",
    "#     return np.median(ratio)\n",
    "    return ratio[(ratio > llim) & (ratio < ulim)].mean()\n",
    "    "
   ]
  },
  {
   "cell_type": "code",
   "execution_count": 138,
   "metadata": {},
   "outputs": [],
   "source": [
    "means = adata.X.mean(axis=0).A1"
   ]
  },
  {
   "cell_type": "code",
   "execution_count": 139,
   "metadata": {},
   "outputs": [],
   "source": [
    "# Gene selection\n",
    "expr_matrix = adata[:, adata_ct.uns['memento']['least_variable_genes']].X.copy()\n",
    "library_count = expr_matrix.sum(axis=1).A1\n",
    "library_count /= library_count.mean()"
   ]
  },
  {
   "cell_type": "code",
   "execution_count": 140,
   "metadata": {},
   "outputs": [],
   "source": [
    "# library count normalization\n",
    "expr_matrix = sparse.diags(1/library_count)@expr_matrix\n",
    "\n",
    "# Mean pseudocell\n",
    "mean_cell = expr_matrix.mean(axis=0).A1"
   ]
  },
  {
   "cell_type": "code",
   "execution_count": 141,
   "metadata": {},
   "outputs": [
    {
     "name": "stdout",
     "output_type": "stream",
     "text": [
      "CPU times: user 3.88 s, sys: 1.78 ms, total: 3.88 s\n",
      "Wall time: 3.88 s\n"
     ]
    }
   ],
   "source": [
    "%%time\n",
    "\n",
    "pool_factors_list = []\n",
    "toeplitz_list = []\n",
    "n_cells = expr_matrix.shape[0]\n",
    "\n",
    "for window_size in range(100, 200, 20):\n",
    "    \n",
    "    pool_factors = np.zeros(n_cells)\n",
    "\n",
    "    # ith pool includes cell indices i to i+window_size-1\n",
    "    pool_sum = expr_matrix[:window_size, :].sum(axis=0).A1\n",
    "    pool_factors[0] = trimmed_mean(pool_sum, mean_cell)\n",
    "    for pool in range(n_cells-1):\n",
    "\n",
    "        i = pool # index to subtract\n",
    "        j = (pool + window_size) % n_cells # index to add \n",
    "\n",
    "        pool_sum[expr_matrix.indices[expr_matrix.indptr[i]:expr_matrix.indptr[i+1]]] -= \\\n",
    "            expr_matrix.data[expr_matrix.indptr[i]:expr_matrix.indptr[i+1]]\n",
    "        pool_sum[expr_matrix.indices[expr_matrix.indptr[j]:expr_matrix.indptr[j+1]]] += \\\n",
    "            expr_matrix.data[expr_matrix.indptr[j]:expr_matrix.indptr[j+1]]\n",
    "\n",
    "        pool_factors[pool + 1] = trimmed_mean(pool_sum, mean_cell)\n",
    "    \n",
    "    toeplitz = \\\n",
    "        sparse.diags(diagonals=np.ones(window_size), offsets=np.arange(window_size), shape=(n_cells, n_cells)) + \\\n",
    "        sparse.diags(diagonals=np.ones(window_size), offsets=np.arange(window_size)-n_cells, shape=(n_cells, n_cells))\n",
    "    \n",
    "    pool_factors_list.append(pool_factors)\n",
    "    toeplitz_list.append(toeplitz)\n"
   ]
  },
  {
   "cell_type": "code",
   "execution_count": 142,
   "metadata": {},
   "outputs": [],
   "source": [
    "pool_factors = np.concatenate(pool_factors_list)\n",
    "del pool_factors_list\n",
    "toeplitz = sparse.vstack(toeplitz_list)\n",
    "del toeplitz_list"
   ]
  },
  {
   "cell_type": "code",
   "execution_count": 143,
   "metadata": {},
   "outputs": [
    {
     "data": {
      "text/plain": [
       "(26705, 5341)"
      ]
     },
     "execution_count": 143,
     "metadata": {},
     "output_type": "execute_result"
    }
   ],
   "source": [
    "toeplitz.shape"
   ]
  },
  {
   "cell_type": "code",
   "execution_count": 144,
   "metadata": {},
   "outputs": [
    {
     "name": "stdout",
     "output_type": "stream",
     "text": [
      "CPU times: user 3 µs, sys: 0 ns, total: 3 µs\n",
      "Wall time: 5.96 µs\n"
     ]
    }
   ],
   "source": [
    "%%time\n",
    "# res_1 = sparse.linalg.lsqr(toeplitz, pool_factors)"
   ]
  },
  {
   "cell_type": "code",
   "execution_count": 145,
   "metadata": {},
   "outputs": [
    {
     "name": "stdout",
     "output_type": "stream",
     "text": [
      "CPU times: user 7min 19s, sys: 13min 8s, total: 20min 27s\n",
      "Wall time: 1min 16s\n"
     ]
    }
   ],
   "source": [
    "%%time\n",
    "res_2 = sparse.linalg.lsmr(toeplitz, pool_factors, atol=1e-9, btol=1e-9, damp=0)"
   ]
  },
  {
   "cell_type": "raw",
   "metadata": {},
   "source": [
    "from sklearn.linear_model import SGDRegressor"
   ]
  },
  {
   "cell_type": "raw",
   "metadata": {},
   "source": [
    "%%time\n",
    "model = SGDRegressor(tol=1e-9, max_iter=10000, alpha=1e-9,fit_intercept=False)\n",
    "fitted = model.fit(toeplitz, pool_factors)"
   ]
  },
  {
   "cell_type": "code",
   "execution_count": 162,
   "metadata": {},
   "outputs": [],
   "source": [
    "tmm_sf = res_2[0]*library_count\n",
    "# size_factor = fitted.coef_*library_count"
   ]
  },
  {
   "cell_type": "code",
   "execution_count": 163,
   "metadata": {},
   "outputs": [
    {
     "data": {
      "text/plain": [
       "<AxesSubplot:>"
      ]
     },
     "execution_count": 163,
     "metadata": {},
     "output_type": "execute_result"
    },
    {
     "data": {
      "image/png": "[encoded data removed]",
      "text/plain": [
       "<Figure size 432x288 with 1 Axes>"
      ]
     },
     "metadata": {
      "needs_background": "light"
     },
     "output_type": "display_data"
    }
   ],
   "source": [
    "sns.distplot(total_library_count)\n",
    "sns.distplot(tmm_sf)\n"
   ]
  },
  {
   "cell_type": "code",
   "execution_count": 148,
   "metadata": {},
   "outputs": [
    {
     "data": {
      "image/png": "[encoded data removed]",
      "text/plain": [
       "<Figure size 432x288 with 1 Axes>"
      ]
     },
     "metadata": {
      "needs_background": "light"
     },
     "output_type": "display_data"
    }
   ],
   "source": [
    "plt.scatter(total_library_count, size_factor, s=2);\n",
    "plt.plot(total_library_count, total_library_count, c='m')\n",
    "plt.axis('square');"
   ]
  },
  {
   "cell_type": "markdown",
   "metadata": {},
   "source": [
    "### Mean of least variable M values"
   ]
  },
  {
   "cell_type": "code",
   "execution_count": 154,
   "metadata": {},
   "outputs": [],
   "source": [
    "expr_matrix = adata[:, adata_ct.uns['memento']['least_variable_genes']].X.copy()\n",
    "expr_matrix = sparse.diags(1/adata.X.sum(axis=1).A1)@expr_matrix\n"
   ]
  },
  {
   "cell_type": "code",
   "execution_count": 165,
   "metadata": {},
   "outputs": [],
   "source": [
    "mlvm_sf = expr_matrix.mean(axis=1).A1\n",
    "mlvm_sf /= mlvm_sf.mean()\n",
    "mlvm_sf *= total_library_count\n"
   ]
  },
  {
   "cell_type": "markdown",
   "metadata": {},
   "source": [
    "### compute using least variable genes"
   ]
  },
  {
   "cell_type": "code",
   "execution_count": 174,
   "metadata": {},
   "outputs": [
    {
     "data": {
      "text/plain": [
       "matrix([[1.],\n",
       "        [0.],\n",
       "        [0.],\n",
       "        ...,\n",
       "        [1.],\n",
       "        [0.],\n",
       "        [0.]], dtype=float32)"
      ]
     },
     "execution_count": 174,
     "metadata": {},
     "output_type": "execute_result"
    }
   ],
   "source": [
    " adata[adata.obs.stim == 'stim', 'IRF1'].X.todense()"
   ]
  },
  {
   "cell_type": "code",
   "execution_count": 184,
   "metadata": {},
   "outputs": [
    {
     "name": "stdout",
     "output_type": "stream",
     "text": [
      "8.576638\n"
     ]
    },
    {
     "data": {
      "image/png": "[encoded data removed]",
      "text/plain": [
       "<Figure size 432x288 with 1 Axes>"
      ]
     },
     "metadata": {
      "needs_background": "light"
     },
     "output_type": "display_data"
    }
   ],
   "source": [
    "x = adata[adata.obs.stim == 'ctrl', 'IRF7'].X.todense().A1\n",
    "y = adata[adata.obs.stim == 'stim', 'IRF7'].X.todense().A1\n",
    "plt.hist([x,y])\n",
    "\n",
    "print(y.mean()/x.mean())"
   ]
  },
  {
   "cell_type": "code",
   "execution_count": 197,
   "metadata": {},
   "outputs": [
    {
     "name": "stdout",
     "output_type": "stream",
     "text": [
      "1.1807262\n"
     ]
    },
    {
     "data": {
      "image/png": "[encoded data removed]",
      "text/plain": [
       "<Figure size 432x288 with 1 Axes>"
      ]
     },
     "metadata": {
      "needs_background": "light"
     },
     "output_type": "display_data"
    }
   ],
   "source": [
    "x = adata[adata.obs.stim == 'ctrl', 'NFE2L2'].X.todense().A1\n",
    "y = adata[adata.obs.stim == 'stim', 'NFE2L2'].X.todense().A1\n",
    "plt.hist([x,y])\n",
    "\n",
    "print(y.mean()/x.mean())"
   ]
  },
  {
   "cell_type": "code",
   "execution_count": 181,
   "metadata": {},
   "outputs": [
    {
     "name": "stdout",
     "output_type": "stream",
     "text": [
      "6.521254\n"
     ]
    },
    {
     "data": {
      "image/png": "[encoded data removed]",
      "text/plain": [
       "<Figure size 432x288 with 1 Axes>"
      ]
     },
     "metadata": {
      "needs_background": "light"
     },
     "output_type": "display_data"
    }
   ],
   "source": [
    "x = adata[adata.obs.stim == 'ctrl', 'IRF2'].X.todense().A1\n",
    "y = adata[adata.obs.stim == 'stim', 'IRF2'].X.todense().A1\n",
    "plt.hist([x,y])\n",
    "\n",
    "print(y.mean()/x.mean())"
   ]
  },
  {
   "cell_type": "code",
   "execution_count": 118,
   "metadata": {},
   "outputs": [],
   "source": [
    "tmm_size_factor = size_factor.copy()"
   ]
  },
  {
   "cell_type": "code",
   "execution_count": 119,
   "metadata": {},
   "outputs": [
    {
     "data": {
      "text/plain": [
       "(0.7549722039461234, 0.0)"
      ]
     },
     "execution_count": 119,
     "metadata": {},
     "output_type": "execute_result"
    }
   ],
   "source": [
    "stats.pearsonr(adata_ct.uns['memento']['all_size_factor'], total_library_count)"
   ]
  },
  {
   "cell_type": "code",
   "execution_count": 120,
   "metadata": {},
   "outputs": [
    {
     "data": {
      "text/plain": [
       "(0.47033733312042725, 3.1727352660028723e-292)"
      ]
     },
     "execution_count": 120,
     "metadata": {},
     "output_type": "execute_result"
    }
   ],
   "source": [
    "stats.pearsonr(total_library_count, tmm_size_factor)"
   ]
  },
  {
   "cell_type": "code",
   "execution_count": 121,
   "metadata": {},
   "outputs": [
    {
     "name": "stdout",
     "output_type": "stream",
     "text": [
      "(0.8450933259771117, 0.0)\n"
     ]
    },
    {
     "data": {
      "text/plain": [
       "<matplotlib.collections.PathCollection at 0x7f501010c650>"
      ]
     },
     "execution_count": 121,
     "metadata": {},
     "output_type": "execute_result"
    },
    {
     "data": {
      "image/png": "[encoded data removed]",
      "text/plain": [
       "<Figure size 432x288 with 1 Axes>"
      ]
     },
     "metadata": {
      "needs_background": "light"
     },
     "output_type": "display_data"
    }
   ],
   "source": [
    "print(stats.pearsonr(adata_ct.uns['memento']['all_size_factor'], tmm_size_factor))\n",
    "plt.scatter(adata_ct.uns['memento']['all_size_factor'], tmm_size_factor, s=1)\n",
    "# plt.plot(tmm_size_factor, tmm_size_factor, c='m')"
   ]
  },
  {
   "cell_type": "markdown",
   "metadata": {},
   "source": [
    "### See the downstream effects - updated RV code"
   ]
  },
  {
   "cell_type": "raw",
   "metadata": {},
   "source": [
    "adata_ct = adata[tmm_size_factor > 0, :].copy()"
   ]
  },
  {
   "cell_type": "code",
   "execution_count": 6,
   "metadata": {},
   "outputs": [],
   "source": [
    "import itertools"
   ]
  },
  {
   "cell_type": "code",
   "execution_count": 7,
   "metadata": {},
   "outputs": [],
   "source": [
    "def compute_ind_mean(adata_ct):\n",
    "    \n",
    "    ctrl_mean_corr = 0\n",
    "    stim_mean_corr = 0\n",
    "\n",
    "    ctrl_count = 0\n",
    "    stim_count = 0\n",
    "\n",
    "    for group in adata_ct.uns['memento']['groups']:\n",
    "\n",
    "        temp = adata_ct.uns['memento']['2d_moments'][group]['corr'].copy()\n",
    "        temp[(temp > 1) | (temp < -1)] = np.nan\n",
    "        temp[np.isnan(temp)] = 0\n",
    "        \n",
    "        num_cells = adata_ct.uns['memento']['group_cells'][group].shape[0]\n",
    "\n",
    "        if 'ctrl' in group:\n",
    "            ctrl_mean_corr += temp * num_cells\n",
    "            ctrl_count += ~np.isnan(temp) * num_cells\n",
    "\n",
    "        if 'stim' in group:\n",
    "            stim_mean_corr += temp * num_cells\n",
    "            stim_count += ~np.isnan(temp) * num_cells\n",
    "\n",
    "    ctrl_mean_corr /= ctrl_count\n",
    "    stim_mean_corr /= stim_count\n",
    "\n",
    "    del ctrl_count, stim_count\n",
    "    \n",
    "    return ctrl_mean_corr, stim_mean_corr\n",
    "\n",
    "def nancorr(a,b):\n",
    "    cond = np.isfinite(a) & np.isfinite(b)\n",
    "    return stats.pearsonr(a[cond], b[cond])\n",
    "\n",
    "def nandistplot(a):\n",
    "    sns.distplot(a[np.isfinite(a)])"
   ]
  },
  {
   "cell_type": "code",
   "execution_count": 8,
   "metadata": {},
   "outputs": [
    {
     "name": "stdout",
     "output_type": "stream",
     "text": [
      "(0.015888274822828927, 0.4776136935175312)\n"
     ]
    },
    {
     "data": {
      "text/plain": [
       "<matplotlib.collections.PathCollection at 0x7fea59b0aed0>"
      ]
     },
     "execution_count": 8,
     "metadata": {},
     "output_type": "execute_result"
    },
    {
     "data": {
      "image/png": "[encoded data removed]",
      "text/plain": [
       "<Figure size 432x288 with 2 Axes>"
      ]
     },
     "metadata": {
      "needs_background": "light"
     },
     "output_type": "display_data"
    }
   ],
   "source": [
    "adata_ct =  adata[adata.obs.cell == 'CD14+ Monocytes'].copy()\n",
    "# adata_ct.obs['stim'] = np.random.choice(adata_ct.obs['stim'], adata_ct.shape[0])\n",
    "\n",
    "memento.create_groups(adata_ct, label_columns=['stim'], inplace=True, q=0.07)\n",
    "\n",
    "memento.compute_size_factors(adata_ct, trim_percent=.05)\n",
    "# adata_ct.uns['memento']['all_size_factor'] = tmm_size_factor\n",
    "\n",
    "memento.compute_1d_moments(\n",
    "    adata_ct, inplace=True, filter_genes=True, \n",
    "    filter_mean_thresh=0.07, \n",
    "    min_perc_group=0.8)\n",
    "genes = adata_ct.var.index.tolist()\n",
    "\n",
    "genes = adata_ct.var.index.tolist()\n",
    "# print(set(tfs) & set(genes))\n",
    "gene_1 =np.random.choice(genes, 2000, replace=True)\n",
    "gene_2 = np.random.choice(genes, 2000, replace=True)\n",
    "gene_pairs = list(zip(gene_1, gene_2))\n",
    "\n",
    "mean_prod = adata_ct.uns['memento']['1d_moments']['sg^stim'][0][memento.util._get_gene_idx(adata_ct, gene_1)] *\\\n",
    "    adata_ct.uns['memento']['1d_moments']['sg^stim'][0][memento.util._get_gene_idx(adata_ct, gene_2)]\n",
    "mean_prod = np.log(mean_prod)\n",
    "\n",
    "memento.compute_2d_moments(\n",
    "    adata_ct, \n",
    "    gene_pairs=gene_pairs)\n",
    "\n",
    "corr = adata_ct.uns['memento']['2d_moments']['sg^stim']['corr']\n",
    "print(nancorr(mean_prod, corr))\n",
    "\n",
    "plt.subplot(1, 2, 1)\n",
    "plt.scatter(corr, mean_prod, s=2)\n",
    "plt.subplot(1, 2, 2)\n",
    "plt.scatter(adata_ct.uns['memento']['all_total_size_factor'], adata_ct.uns['memento']['all_size_factor'], s=2)\n"
   ]
  },
  {
   "cell_type": "code",
   "execution_count": 9,
   "metadata": {},
   "outputs": [
    {
     "name": "stdout",
     "output_type": "stream",
     "text": [
      "['OASL', 'OAS1', 'ISG20', 'ISG15', 'IFITM1', 'IFIT1', 'MX1', 'IFITM3', 'SAT1']\n",
      "[0.08295282 0.13856375 0.07930507 0.03691753 0.09439573 0.07735945\n",
      " 0.14681004 0.10356905 0.07074912]\n",
      "[-0.04576159  0.24978866 -0.04417856  0.08966631 -0.14276499  0.25447154\n",
      "  0.26590306 -0.05651703  0.020454  ]\n"
     ]
    }
   ],
   "source": [
    "adata_ct =  adata[adata.obs.cell == 'CD14+ Monocytes'].copy()\n",
    "# adata_ct.obs['stim'] = np.random.choice(adata_ct.obs['stim'], adata_ct.shape[0])\n",
    "\n",
    "memento.create_groups(adata_ct, label_columns=['stim'], inplace=True, q=0.07)\n",
    "\n",
    "memento.compute_size_factors(adata_ct, trim_percent=0.05)\n",
    "# adata_ct.uns['memento']['all_size_factor'] = tmm_size_factor\n",
    "\n",
    "memento.compute_1d_moments(\n",
    "    adata_ct, inplace=True, filter_genes=False, \n",
    "    filter_mean_thresh=0.07, \n",
    "    min_perc_group=0.8)\n",
    "genes = adata_ct.var.index.tolist()\n",
    "# isgf3_genes = list(set(isgf3_genes) & set(genes))\n",
    "\n",
    "genes = adata_ct.var.index.tolist()\n",
    "gene_1 = ['STAT1']\n",
    "gene_2 = ['IFIT1', 'ISG15', 'OAS1', 'OASL', 'MX1', 'IFITM1', 'ISG20', 'IFITM3', 'SAT1']\n",
    "gene_2 = list(set(gene_2) & set(genes))\n",
    "gene_pairs = list(itertools.product(gene_1, gene_2))\n",
    "\n",
    "mean_prod = adata_ct.uns['memento']['1d_moments']['sg^stim'][0][memento.util._get_gene_idx(adata_ct, gene_1)] *\\\n",
    "    adata_ct.uns['memento']['1d_moments']['sg^stim'][0][memento.util._get_gene_idx(adata_ct, gene_2)]\n",
    "mean_prod = np.log(mean_prod)\n",
    "\n",
    "memento.compute_2d_moments(\n",
    "    adata_ct, \n",
    "    gene_pairs=gene_pairs)\n",
    "\n",
    "# corr = adata_ct.uns['memento']['2d_moments']['sg^stim']['corr']\n",
    "# plt.scatter(mean_prod, corr, s=2)\n",
    "\n",
    "# nandistplot(adata_ct.uns['memento']['2d_moments']['sg^ctrl']['corr'])\n",
    "# nandistplot(adata_ct.uns['memento']['2d_moments']['sg^stim']['corr'])\n",
    "\n",
    "ctrl, stim = compute_ind_mean(adata_ct)\n",
    "print(gene_2)\n",
    "print(ctrl)\n",
    "print(stim)"
   ]
  },
  {
   "cell_type": "code",
   "execution_count": 67,
   "metadata": {},
   "outputs": [
    {
     "name": "stderr",
     "output_type": "stream",
     "text": [
      "/data/home/anaconda3/envs/single_cell/lib/python3.7/site-packages/anndata/_core/anndata.py:1094: FutureWarning: is_categorical is deprecated and will be removed in a future version.  Use is_categorical_dtype instead\n",
      "  if not is_categorical(df_full[k]):\n"
     ]
    },
    {
     "data": {
      "text/plain": [
       "[<matplotlib.lines.Line2D at 0x7fea421aab10>]"
      ]
     },
     "execution_count": 67,
     "metadata": {},
     "output_type": "execute_result"
    },
    {
     "data": {
      "image/png": "[encoded data removed]",
      "text/plain": [
       "<Figure size 432x288 with 1 Axes>"
      ]
     },
     "metadata": {
      "needs_background": "light"
     },
     "output_type": "display_data"
    }
   ],
   "source": [
    "adata_ct =  adata[adata.obs.cell == 'CD14+ Monocytes'].copy()\n",
    "# adata_ct.obs['stim'] = np.random.choice(adata_ct.obs['stim'], adata_ct.shape[0])\n",
    "\n",
    "memento.create_groups(adata_ct, label_columns=['stim'], inplace=True, q=0.07)\n",
    "\n",
    "memento.compute_size_factors(adata_ct, trim_percent=.05, shrinkage=0.5)\n",
    "# adata_ct.uns['memento']['all_size_factor'] = tmm_size_factor\n",
    "\n",
    "memento.compute_1d_moments(\n",
    "    adata_ct, inplace=True, filter_genes=True, \n",
    "    filter_mean_thresh=0.07, \n",
    "    min_perc_group=0.8)\n",
    "genes = adata_ct.var.index.tolist()\n",
    "# isgf3_genes = list(set(isgf3_genes) & set(genes))\n",
    "\n",
    "g = 'IRF2'\n",
    "gene_1 = [g for i in range(len(genes))]\n",
    "gene_2 = genes\n",
    "gene_pairs = list(zip(gene_1, gene_2))\n",
    "\n",
    "# mean_prod = adata_ct.uns['memento']['1d_moments']['sg^stim'][0][memento.util._get_gene_idx(adata_ct, gene_1)] *\\\n",
    "#     adata_ct.uns['memento']['1d_moments']['sg^stim'][0][memento.util._get_gene_idx(adata_ct, gene_2)]\n",
    "# mean_prod = np.log(mean_prod)\n",
    "\n",
    "memento.compute_2d_moments(\n",
    "    adata_ct, \n",
    "    gene_pairs=gene_pairs)\n",
    "\n",
    "ctrl, stim = compute_ind_mean(adata_ct)\n",
    "nandistplot(ctrl)\n",
    "nandistplot(stim)\n",
    "plt.plot([0, 0], [0, 5])"
   ]
  },
  {
   "cell_type": "code",
   "execution_count": 68,
   "metadata": {},
   "outputs": [
    {
     "data": {
      "text/plain": [
       "0.024471369555902664"
      ]
     },
     "execution_count": 68,
     "metadata": {},
     "output_type": "execute_result"
    }
   ],
   "source": [
    "stim.abs().mean() - ctrl.abs().mean()"
   ]
  },
  {
   "cell_type": "code",
   "execution_count": 62,
   "metadata": {},
   "outputs": [
    {
     "data": {
      "text/plain": [
       "0.03720779288793161"
      ]
     },
     "execution_count": 62,
     "metadata": {},
     "output_type": "execute_result"
    }
   ],
   "source": [
    "stim.mean() - ctrl.mean()"
   ]
  },
  {
   "cell_type": "code",
   "execution_count": 27,
   "metadata": {},
   "outputs": [
    {
     "name": "stderr",
     "output_type": "stream",
     "text": [
      "/data/home/anaconda3/envs/single_cell/lib/python3.7/site-packages/anndata/_core/anndata.py:1094: FutureWarning: is_categorical is deprecated and will be removed in a future version.  Use is_categorical_dtype instead\n",
      "  if not is_categorical(df_full[k]):\n"
     ]
    },
    {
     "data": {
      "text/plain": [
       "[<matplotlib.lines.Line2D at 0x7fa1e8a95b10>]"
      ]
     },
     "execution_count": 27,
     "metadata": {},
     "output_type": "execute_result"
    },
    {
     "data": {
      "image/png": "[encoded data removed]",
      "text/plain": [
       "<Figure size 432x288 with 1 Axes>"
      ]
     },
     "metadata": {
      "needs_background": "light"
     },
     "output_type": "display_data"
    }
   ],
   "source": [
    "adata_ct =  adata[adata.obs.cell == 'CD14+ Monocytes'].copy()\n",
    "# adata_ct.obs['stim'] = np.random.choice(adata_ct.obs['stim'], adata_ct.shape[0])\n",
    "\n",
    "memento.create_groups(adata_ct, label_columns=['stim'], inplace=True, q=0.07)\n",
    "\n",
    "memento.compute_size_factors(adata_ct, trim_percent=.05)\n",
    "# adata_ct.uns['memento']['all_size_factor'] = tmm_size_factor\n",
    "\n",
    "memento.compute_1d_moments(\n",
    "    adata_ct, inplace=True, filter_genes=True, \n",
    "    filter_mean_thresh=0.07, \n",
    "    min_perc_group=0.8)\n",
    "genes = adata_ct.var.index.tolist()\n",
    "# isgf3_genes = list(set(isgf3_genes) & set(genes))\n",
    "\n",
    "g = 'ISG20'\n",
    "gene_1 = [g for i in range(len(genes))]\n",
    "gene_2 = genes\n",
    "gene_pairs = list(zip(gene_1, gene_2))\n",
    "\n",
    "# mean_prod = adata_ct.uns['memento']['1d_moments']['sg^stim'][0][memento.util._get_gene_idx(adata_ct, gene_1)] *\\\n",
    "#     adata_ct.uns['memento']['1d_moments']['sg^stim'][0][memento.util._get_gene_idx(adata_ct, gene_2)]\n",
    "# mean_prod = np.log(mean_prod)\n",
    "\n",
    "memento.compute_2d_moments(\n",
    "    adata_ct, \n",
    "    gene_pairs=gene_pairs)\n",
    "\n",
    "ctrl, stim = compute_ind_mean(adata_ct)\n",
    "nandistplot(ctrl)\n",
    "nandistplot(stim)\n",
    "plt.plot([0, 0], [0, 5])"
   ]
  },
  {
   "cell_type": "code",
   "execution_count": 129,
   "metadata": {},
   "outputs": [
    {
     "name": "stderr",
     "output_type": "stream",
     "text": [
      "/data/home/anaconda3/envs/single_cell/lib/python3.7/site-packages/anndata/_core/anndata.py:1094: FutureWarning: is_categorical is deprecated and will be removed in a future version.  Use is_categorical_dtype instead\n",
      "  if not is_categorical(df_full[k]):\n",
      "/data/home/Github/scrna-parameter-estimation/dist/memento-0.0.1-py3.7.egg/memento/estimator.py:100: RuntimeWarning: invalid value encountered in log\n",
      "/data/home/anaconda3/envs/single_cell/lib/python3.7/site-packages/ipykernel_launcher.py:22: RuntimeWarning: invalid value encountered in log\n",
      "/data/home/anaconda3/envs/single_cell/lib/python3.7/site-packages/ipykernel_launcher.py:12: RuntimeWarning: invalid value encountered in greater\n",
      "  if sys.path[0] == '':\n",
      "/data/home/anaconda3/envs/single_cell/lib/python3.7/site-packages/ipykernel_launcher.py:12: RuntimeWarning: invalid value encountered in less\n",
      "  if sys.path[0] == '':\n"
     ]
    },
    {
     "data": {
      "text/plain": [
       "[<matplotlib.lines.Line2D at 0x7f500fa98c10>]"
      ]
     },
     "execution_count": 129,
     "metadata": {},
     "output_type": "execute_result"
    },
    {
     "data": {
      "image/png": "[encoded data removed]",
      "text/plain": [
       "<Figure size 432x288 with 1 Axes>"
      ]
     },
     "metadata": {
      "needs_background": "light"
     },
     "output_type": "display_data"
    }
   ],
   "source": [
    "adata_ct =  adata[adata.obs.cell == 'CD14+ Monocytes'].copy()\n",
    "# adata_ct.obs['stim'] = np.random.choice(adata_ct.obs['stim'], adata_ct.shape[0])\n",
    "\n",
    "memento.create_groups(adata_ct, label_columns=['ind','stim'], inplace=True, q=0.07)\n",
    "\n",
    "memento.compute_size_factors(adata_ct, trim_percent=0.1)\n",
    "# adata_ct.uns['memento']['all_size_factor'] = tmm_size_factor\n",
    "\n",
    "memento.compute_1d_moments(\n",
    "    adata_ct, inplace=True, filter_genes=True, \n",
    "    filter_mean_thresh=0.07, \n",
    "    min_perc_group=0.8)\n",
    "genes = adata_ct.var.index.tolist()\n",
    "\n",
    "# print(set(tfs) & set(genes))\n",
    "gene_1 =list(set(ifn_genes) & set(genes))\n",
    "gene_2 = list(set(ifn_genes) & set(genes))\n",
    "gene_pairs = list(itertools.combinations(gene_1, 2))\n",
    "\n",
    "# mean_prod = adata_ct.uns['memento']['1d_moments']['sg^stim'][0][memento.util._get_gene_idx(adata_ct, gene_1)] *\\\n",
    "#     adata_ct.uns['memento']['1d_moments']['sg^stim'][0][memento.util._get_gene_idx(adata_ct, gene_2)]\n",
    "mean_prod = np.log(mean_prod)\n",
    "\n",
    "memento.compute_2d_moments(\n",
    "    adata_ct, \n",
    "    gene_pairs=gene_pairs)\n",
    "\n",
    "# corr = adata_ct.uns['memento']['2d_moments']['sg^stim']['corr']\n",
    "# plt.scatter(mean_prod, corr, s=2)\n",
    "\n",
    "# nandistplot(adata_ct.uns['memento']['2d_moments']['sg^ctrl']['corr'])\n",
    "# nandistplot(adata_ct.uns['memento']['2d_moments']['sg^stim']['corr'])\n",
    "\n",
    "ctrl, stim = compute_ind_mean(adata_ct)\n",
    "nandistplot(ctrl)\n",
    "nandistplot(stim)\n",
    "plt.plot([0, 0], [0, 5])"
   ]
  },
  {
   "cell_type": "code",
   "execution_count": null,
   "metadata": {},
   "outputs": [],
   "source": []
  },
  {
   "cell_type": "code",
   "execution_count": null,
   "metadata": {},
   "outputs": [],
   "source": []
  },
  {
   "cell_type": "code",
   "execution_count": null,
   "metadata": {},
   "outputs": [],
   "source": []
  },
  {
   "cell_type": "code",
   "execution_count": 68,
   "metadata": {},
   "outputs": [],
   "source": [
    "ifn_genes = \"\"\"ABCE1\n",
    "ADAR\n",
    "BST2\n",
    "EGR1\n",
    "GBP2\n",
    "HLA-A\n",
    "HLA-B\n",
    "HLA-C\n",
    "HLA-E\n",
    "HLA-F\n",
    "HLA-G\n",
    "HLA-H\n",
    "IFI27\n",
    "IFI35\n",
    "IFI6\n",
    "IFIT1\n",
    "IFIT2\n",
    "IFIT3\n",
    "IFITM1\n",
    "IFITM2\n",
    "IFITM3\n",
    "IFNA1\n",
    "IFNA10\n",
    "IFNA13\n",
    "IFNA14\n",
    "IFNA16\n",
    "IFNA17\n",
    "IFNA2\n",
    "IFNA21\n",
    "IFNA4\n",
    "IFNA5\n",
    "IFNA6\n",
    "IFNA7\n",
    "IFNA8\n",
    "IFNAR1\n",
    "IFNAR2\n",
    "IFNB1\n",
    "IP6K2\n",
    "IRF1\n",
    "IRF2\n",
    "IRF3\n",
    "IRF4\n",
    "IRF5\n",
    "IRF6\n",
    "IRF7\n",
    "IRF8\n",
    "IRF9\n",
    "ISG15\n",
    "ISG20\n",
    "JAK1\n",
    "MX1\n",
    "MX2\n",
    "OAS1\n",
    "OAS2\n",
    "OAS3\n",
    "OASL\n",
    "PSMB8\n",
    "PTPN1\n",
    "PTPN11\n",
    "PTPN6\n",
    "RNASEL\n",
    "RSAD2\n",
    "SAMHD1\n",
    "SOCS1\n",
    "SOCS3\n",
    "STAT1\n",
    "STAT2\n",
    "TYK2\n",
    "USP18\n",
    "XAF1\"\"\".split()"
   ]
  },
  {
   "cell_type": "code",
   "execution_count": null,
   "metadata": {},
   "outputs": [],
   "source": []
  }
 ],
 "metadata": {
  "kernelspec": {
   "display_name": "Python 3",
   "language": "python",
   "name": "python3"
  },
  "language_info": {
   "codemirror_mode": {
    "name": "ipython",
    "version": 3
   },
   "file_extension": ".py",
   "mimetype": "text/x-python",
   "name": "python",
   "nbconvert_exporter": "python",
   "pygments_lexer": "ipython3",
   "version": "3.7.5"
  }
 },
 "nbformat": 4,
 "nbformat_minor": 4
}
