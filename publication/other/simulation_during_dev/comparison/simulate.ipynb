{
 "cells": [
  {
   "cell_type": "markdown",
   "id": "25c62a58",
   "metadata": {},
   "source": [
    "# Generate simulation data for comparison"
   ]
  },
  {
   "cell_type": "code",
   "execution_count": 1,
   "id": "c37daa3b",
   "metadata": {},
   "outputs": [],
   "source": [
    "import scanpy as sc\n",
    "import seaborn as sns\n",
    "import pandas as pd\n",
    "import matplotlib.pyplot as plt\n",
    "import numpy as np\n",
    "import scipy.io as io\n",
    "import scipy.stats as stats\n",
    "from pybedtools import BedTool\n",
    "import pickle as pkl\n",
    "import scipy as sp\n",
    "\n",
    "%matplotlib inline"
   ]
  },
  {
   "cell_type": "code",
   "execution_count": 2,
   "id": "8b74e477",
   "metadata": {},
   "outputs": [],
   "source": [
    "import sys\n",
    "sys.path.append('/home/ssm-user/Github/scrna-parameter-estimation/dist/memento-0.0.6-py3.8.egg')\n",
    "sys.path.append('/home/ssm-user/Github/misc-seq/miscseq/')\n",
    "import encode\n",
    "import memento\n",
    "from memento import simulate"
   ]
  },
  {
   "cell_type": "code",
   "execution_count": 3,
   "id": "c3215845",
   "metadata": {},
   "outputs": [],
   "source": [
    "data_path = '/data_volume/memento/simulation/'"
   ]
  },
  {
   "cell_type": "markdown",
   "id": "32422078",
   "metadata": {},
   "source": [
    "### Extract real parameters"
   ]
  },
  {
   "cell_type": "code",
   "execution_count": 4,
   "id": "25c7a193",
   "metadata": {},
   "outputs": [],
   "source": [
    "ifn_adata = sc.read(data_path + '../demux/interferon_filtered.h5ad')"
   ]
  },
  {
   "cell_type": "markdown",
   "id": "701dc304",
   "metadata": {},
   "source": [
    "### Isolate subset of CD14+ Monocytes for method comparisons"
   ]
  },
  {
   "cell_type": "code",
   "execution_count": 45,
   "id": "531c9de7",
   "metadata": {},
   "outputs": [
    {
     "name": "stdout",
     "output_type": "stream",
     "text": [
      "AnnData object with n_obs × n_vars = 2000 × 125\n",
      "    obs: 'tsne1', 'tsne2', 'ind', 'stim', 'cluster', 'cell', 'multiplets', 'n_genes_by_counts', 'log1p_n_genes_by_counts', 'total_counts', 'log1p_total_counts', 'total_counts_mt', 'log1p_total_counts_mt', 'pct_counts_mt', 'total_counts_hb', 'log1p_total_counts_hb', 'pct_counts_hb', 'cell_type', 'batch'\n",
      "    var: 'gene_ids', 'mt', 'hb', 'n_cells_by_counts', 'mean_counts', 'log1p_mean_counts', 'pct_dropout_by_counts', 'total_counts', 'log1p_total_counts'\n",
      "    obsm: 'X_tsne'\n"
     ]
    }
   ],
   "source": [
    "ctrl_subset = sc.pp.subsample(ifn_adata[(ifn_adata.obs.cell == 'CD14+ Monocytes') & (ifn_adata.obs.stim=='ctrl') & ifn_adata.obs.ind.isin(['1015', '1488'])].copy(), n_obs=1000, copy=True)\n",
    "stim_subset = sc.pp.subsample(ifn_adata[(ifn_adata.obs.cell == 'CD14+ Monocytes') & (ifn_adata.obs.stim=='stim') & ifn_adata.obs.ind.isin(['1015', '1488'])].copy(), n_obs=1000, copy=True)\n",
    "subset = sc.AnnData.concatenate(ctrl_subset, stim_subset)\n",
    "subset = subset[:,(subset.X.mean(axis=0) > 2.5).A1].copy()\n",
    "subset.X = subset.X.toarray().astype(int)\n",
    "print(subset)"
   ]
  },
  {
   "cell_type": "code",
   "execution_count": 46,
   "id": "454f15f7",
   "metadata": {},
   "outputs": [],
   "source": [
    "subset.obs['stim_indicator'] = (subset.obs.stim == 'stim').astype(int)\n",
    "subset.obs.to_csv(data_path + 'acc_fpr/metadata.csv')\n",
    "subset.var.to_csv(data_path + 'acc_fpr/gene_info.csv')\n",
    "\n",
    "original_data = subset.X.copy()"
   ]
  },
  {
   "cell_type": "code",
   "execution_count": 47,
   "id": "bede8d25",
   "metadata": {},
   "outputs": [
    {
     "name": "stderr",
     "output_type": "stream",
     "text": [
      "... storing 'stim' as categorical\n",
      "... storing 'cluster' as categorical\n",
      "... storing 'cell_type' as categorical\n"
     ]
    },
    {
     "name": "stdout",
     "output_type": "stream",
     "text": [
      "0.8\n",
      "1124.636\n",
      "0.6\n",
      "843.4725\n",
      "0.4\n",
      "562.3115\n",
      "0.2\n",
      "281.148\n",
      "0.1\n",
      "140.5945\n"
     ]
    }
   ],
   "source": [
    "for subsample_rate in [0.8, 0.6, 0.4, 0.2, 0.1]:\n",
    "    \n",
    "    print(subsample_rate)\n",
    "    X_subsample = simulate.capture_sampling(original_data, q=subsample_rate, process='hyper')[1]\n",
    "    \n",
    "    subset.X = X_subsample\n",
    "    \n",
    "    print(subset.X.sum(axis=1).mean())\n",
    "    \n",
    "    \n",
    "    subset.write(data_path + 'acc_fpr/subsampled_{}.h5ad'.format(subsample_rate))\n",
    "    \n",
    "    subset_norm = subset.copy()\n",
    "    \n",
    "    sc.pp.log1p(subset_norm)\n",
    "    sc.pp.scale(subset_norm)\n",
    "    subset_norm.write(data_path + 'acc_fpr/subsampled_{}_norm.h5ad'.format(subsample_rate))\n",
    "#     io.mmwrite(data_path + 'acc_fpr/subsampled_{}.mtx'.format(subsample_rate), X_subsample)\n",
    "    "
   ]
  },
  {
   "cell_type": "code",
   "execution_count": 26,
   "id": "2a71c2fc",
   "metadata": {},
   "outputs": [
    {
     "data": {
      "text/plain": [
       "array([[0, 0, 0, ..., 0, 0, 0],\n",
       "       [0, 0, 0, ..., 0, 0, 0],\n",
       "       [0, 0, 0, ..., 0, 0, 0],\n",
       "       ...,\n",
       "       [0, 0, 0, ..., 0, 0, 0],\n",
       "       [0, 0, 0, ..., 0, 0, 0],\n",
       "       [0, 0, 0, ..., 0, 0, 0]])"
      ]
     },
     "execution_count": 26,
     "metadata": {},
     "output_type": "execute_result"
    }
   ],
   "source": [
    "subset.X"
   ]
  },
  {
   "cell_type": "code",
   "execution_count": 25,
   "id": "7086d8d4",
   "metadata": {},
   "outputs": [
    {
     "data": {
      "text/plain": [
       "array([[0, 0, 0, ..., 0, 0, 0],\n",
       "       [0, 0, 0, ..., 0, 0, 0],\n",
       "       [0, 0, 0, ..., 0, 0, 0],\n",
       "       ...,\n",
       "       [0, 0, 0, ..., 0, 0, 0],\n",
       "       [0, 0, 0, ..., 0, 0, 0],\n",
       "       [0, 0, 0, ..., 0, 0, 0]])"
      ]
     },
     "execution_count": 25,
     "metadata": {},
     "output_type": "execute_result"
    }
   ],
   "source": [
    "X_subsample"
   ]
  },
  {
   "cell_type": "code",
   "execution_count": null,
   "id": "75912703",
   "metadata": {},
   "outputs": [],
   "source": []
  },
  {
   "cell_type": "markdown",
   "id": "d2bab25f",
   "metadata": {},
   "source": [
    "### Power calculation\n",
    "\n",
    "1000 genes total, 300 are DE and 300 are DV"
   ]
  },
  {
   "cell_type": "code",
   "execution_count": 8,
   "id": "3bc286c3",
   "metadata": {},
   "outputs": [],
   "source": [
    "adata = ifn_adata[ifn_adata.obs.cell_type == 'CD4 T cells - ctrl']\n",
    "# data = adata.X.copy()\n",
    "# relative_data = data.toarray()/data.sum(axis=1)\n",
    "\n",
    "n_cells = 10000\n",
    "q=0.07\n",
    "x_param, z_param, Nc, good_idx = simulate.extract_parameters(adata.X, q=q)"
   ]
  },
  {
   "cell_type": "markdown",
   "id": "e7354ff6",
   "metadata": {},
   "source": [
    "### Simulation code"
   ]
  },
  {
   "cell_type": "code",
   "execution_count": 9,
   "id": "5b370a5a",
   "metadata": {},
   "outputs": [],
   "source": [
    "def simulate_two_datasets(x_param, Nc, n_cells, q, diff='mean'):\n",
    "    \n",
    "    log_means_1, log_variances_1 = np.log(x_param[0]), np.log(x_param[1])\n",
    "    log_means_2, log_variances_2 = log_means_1.copy(), log_variances_1.copy()\n",
    "    \n",
    "    if diff == 'null':\n",
    "        norm_cov_1, norm_cov_2 = 'indep', 'indep'\n",
    "    if diff == 'mean':\n",
    "        log_means_2[:500] += 0.5\n",
    "        norm_cov_1, norm_cov_2 = 'indep', 'indep'\n",
    "    if diff == 'variability':\n",
    "        log_variances_2[:500] += 0.5\n",
    "        norm_cov_1, norm_cov_2 = 'indep', 'indep'\n",
    "    if diff == 'correlation':\n",
    "        norm_cov_1 = make_spd_matrix(log_means_1.shape[0])\n",
    "        norm_corr_1 = norm_cov_1/np.outer(np.sqrt(np.diag(norm_cov_1)), np.sqrt(np.diag(norm_cov_1)))\n",
    "        norm_corr_subset = norm_corr_1[:100, :100].copy()\n",
    "        \n",
    "        change_indices = np.where(norm_corr_subset < 0.5)\n",
    "        change_indices = (change_indices[0][:150], change_indices[1][:150])\n",
    "        norm_corr_subset[change_indices] += 0.5\n",
    "        \n",
    "        norm_corr_2 = norm_corr_1.copy()\n",
    "        norm_corr_2[:100, :100] = norm_corr_subset\n",
    "        norm_cov_2 = norm_corr_2 * np.outer(np.sqrt(np.diag(norm_cov_1)), np.sqrt(np.diag(norm_cov_1)))\n",
    "    \n",
    "    data_1 = simulate.simulate_transcriptomes(\n",
    "        n_cells=n_cells, \n",
    "        means=np.exp(log_means_1)*Nc.mean(),\n",
    "        variances=(np.exp(log_variances_1) + np.exp(log_means_1)**2)*(Nc**2).mean() - np.exp(log_means_1)**2*Nc.mean()**2,\n",
    "        Nc=Nc,\n",
    "        norm_cov=norm_cov_1)\n",
    "    \n",
    "    data_2 = simulate.simulate_transcriptomes(\n",
    "        n_cells=n_cells, \n",
    "        means=np.exp(log_means_2)*Nc.mean(),\n",
    "        variances=(np.exp(log_variances_2) + np.exp(log_means_2)**2)*(Nc**2).mean() - np.exp(log_means_2)**2*Nc.mean()**2,\n",
    "        Nc=Nc,\n",
    "        norm_cov=norm_cov_2)\n",
    "    \n",
    "    true_data = np.vstack([data_1, data_2])\n",
    "    _, hyper_captured = simulate.capture_sampling(true_data, q=q, process='hyper')\n",
    "    \n",
    "    anndata = sc.AnnData(sp.sparse.csr_matrix(hyper_captured))\n",
    "    anndata.obs['ct_real'] = ['A' for i in range(n_cells)] + ['B' for i in range(n_cells)]\n",
    "    anndata.obs['ct_shuffled'] = np.random.choice(['A', 'B'], anndata.shape[0])\n",
    "    anndata.obs['BatchInfo'] = 1\n",
    "    \n",
    "    if diff == 'correlation':\n",
    "        return anndata, change_indices\n",
    "    else:\n",
    "        return anndata, None"
   ]
  },
  {
   "cell_type": "code",
   "execution_count": 12,
   "id": "f867fc8d",
   "metadata": {},
   "outputs": [
    {
     "name": "stderr",
     "output_type": "stream",
     "text": [
      "... storing 'ct_real' as categorical\n",
      "... storing 'ct_shuffled' as categorical\n"
     ]
    },
    {
     "name": "stdout",
     "output_type": "stream",
     "text": [
      "finished  250\n"
     ]
    },
    {
     "name": "stderr",
     "output_type": "stream",
     "text": [
      "... storing 'ct_real' as categorical\n",
      "... storing 'ct_shuffled' as categorical\n"
     ]
    },
    {
     "name": "stdout",
     "output_type": "stream",
     "text": [
      "finished  500\n"
     ]
    },
    {
     "name": "stderr",
     "output_type": "stream",
     "text": [
      "... storing 'ct_real' as categorical\n",
      "... storing 'ct_shuffled' as categorical\n"
     ]
    },
    {
     "name": "stdout",
     "output_type": "stream",
     "text": [
      "finished  2500\n"
     ]
    }
   ],
   "source": [
    "n_cells_list = np.logspace(3, 5.5, 10).astype(int)\n",
    "\n",
    "for num_cells in [250, 500, 2500]:\n",
    "    \n",
    "    a, _ = simulate_two_datasets(x_param, Nc, num_cells, q, diff='mean')\n",
    "    \n",
    "    a.write(data_path + 'runtime/{}.h5ad'.format(num_cells))\n",
    "    print('finished ', num_cells)"
   ]
  },
  {
   "cell_type": "code",
   "execution_count": 13,
   "id": "06eb8563",
   "metadata": {},
   "outputs": [
    {
     "name": "stderr",
     "output_type": "stream",
     "text": [
      "... storing 'ct_real' as categorical\n",
      "... storing 'ct_shuffled' as categorical\n",
      "... storing 'ct_real' as categorical\n",
      "... storing 'ct_shuffled' as categorical\n",
      "... storing 'ct_real' as categorical\n",
      "... storing 'ct_shuffled' as categorical\n",
      "... storing 'ct_real' as categorical\n",
      "... storing 'ct_shuffled' as categorical\n",
      "... storing 'ct_real' as categorical\n",
      "... storing 'ct_shuffled' as categorical\n",
      "... storing 'ct_real' as categorical\n",
      "... storing 'ct_shuffled' as categorical\n",
      "... storing 'ct_real' as categorical\n",
      "... storing 'ct_shuffled' as categorical\n",
      "... storing 'ct_real' as categorical\n",
      "... storing 'ct_shuffled' as categorical\n",
      "... storing 'ct_real' as categorical\n",
      "... storing 'ct_shuffled' as categorical\n",
      "... storing 'ct_real' as categorical\n",
      "... storing 'ct_shuffled' as categorical\n"
     ]
    },
    {
     "name": "stdout",
     "output_type": "stream",
     "text": [
      "10\n"
     ]
    },
    {
     "name": "stderr",
     "output_type": "stream",
     "text": [
      "... storing 'ct_real' as categorical\n",
      "... storing 'ct_shuffled' as categorical\n",
      "... storing 'ct_real' as categorical\n",
      "... storing 'ct_shuffled' as categorical\n",
      "... storing 'ct_real' as categorical\n",
      "... storing 'ct_shuffled' as categorical\n",
      "... storing 'ct_real' as categorical\n",
      "... storing 'ct_shuffled' as categorical\n",
      "... storing 'ct_real' as categorical\n",
      "... storing 'ct_shuffled' as categorical\n",
      "... storing 'ct_real' as categorical\n",
      "... storing 'ct_shuffled' as categorical\n",
      "... storing 'ct_real' as categorical\n",
      "... storing 'ct_shuffled' as categorical\n",
      "... storing 'ct_real' as categorical\n",
      "... storing 'ct_shuffled' as categorical\n",
      "... storing 'ct_real' as categorical\n",
      "... storing 'ct_shuffled' as categorical\n",
      "... storing 'ct_real' as categorical\n",
      "... storing 'ct_shuffled' as categorical\n"
     ]
    },
    {
     "name": "stdout",
     "output_type": "stream",
     "text": [
      "20\n"
     ]
    },
    {
     "name": "stderr",
     "output_type": "stream",
     "text": [
      "... storing 'ct_real' as categorical\n",
      "... storing 'ct_shuffled' as categorical\n",
      "... storing 'ct_real' as categorical\n",
      "... storing 'ct_shuffled' as categorical\n",
      "... storing 'ct_real' as categorical\n",
      "... storing 'ct_shuffled' as categorical\n",
      "... storing 'ct_real' as categorical\n",
      "... storing 'ct_shuffled' as categorical\n",
      "... storing 'ct_real' as categorical\n",
      "... storing 'ct_shuffled' as categorical\n",
      "... storing 'ct_real' as categorical\n",
      "... storing 'ct_shuffled' as categorical\n",
      "... storing 'ct_real' as categorical\n",
      "... storing 'ct_shuffled' as categorical\n",
      "... storing 'ct_real' as categorical\n",
      "... storing 'ct_shuffled' as categorical\n",
      "... storing 'ct_real' as categorical\n",
      "... storing 'ct_shuffled' as categorical\n",
      "... storing 'ct_real' as categorical\n",
      "... storing 'ct_shuffled' as categorical\n"
     ]
    },
    {
     "name": "stdout",
     "output_type": "stream",
     "text": [
      "30\n"
     ]
    },
    {
     "name": "stderr",
     "output_type": "stream",
     "text": [
      "... storing 'ct_real' as categorical\n",
      "... storing 'ct_shuffled' as categorical\n",
      "... storing 'ct_real' as categorical\n",
      "... storing 'ct_shuffled' as categorical\n",
      "... storing 'ct_real' as categorical\n",
      "... storing 'ct_shuffled' as categorical\n",
      "... storing 'ct_real' as categorical\n",
      "... storing 'ct_shuffled' as categorical\n",
      "... storing 'ct_real' as categorical\n",
      "... storing 'ct_shuffled' as categorical\n",
      "... storing 'ct_real' as categorical\n",
      "... storing 'ct_shuffled' as categorical\n",
      "... storing 'ct_real' as categorical\n",
      "... storing 'ct_shuffled' as categorical\n",
      "... storing 'ct_real' as categorical\n",
      "... storing 'ct_shuffled' as categorical\n",
      "... storing 'ct_real' as categorical\n",
      "... storing 'ct_shuffled' as categorical\n",
      "... storing 'ct_real' as categorical\n",
      "... storing 'ct_shuffled' as categorical\n"
     ]
    },
    {
     "name": "stdout",
     "output_type": "stream",
     "text": [
      "40\n"
     ]
    },
    {
     "name": "stderr",
     "output_type": "stream",
     "text": [
      "... storing 'ct_real' as categorical\n",
      "... storing 'ct_shuffled' as categorical\n",
      "... storing 'ct_real' as categorical\n",
      "... storing 'ct_shuffled' as categorical\n",
      "... storing 'ct_real' as categorical\n",
      "... storing 'ct_shuffled' as categorical\n",
      "... storing 'ct_real' as categorical\n",
      "... storing 'ct_shuffled' as categorical\n",
      "... storing 'ct_real' as categorical\n",
      "... storing 'ct_shuffled' as categorical\n",
      "... storing 'ct_real' as categorical\n",
      "... storing 'ct_shuffled' as categorical\n",
      "... storing 'ct_real' as categorical\n",
      "... storing 'ct_shuffled' as categorical\n",
      "... storing 'ct_real' as categorical\n",
      "... storing 'ct_shuffled' as categorical\n",
      "... storing 'ct_real' as categorical\n",
      "... storing 'ct_shuffled' as categorical\n",
      "... storing 'ct_real' as categorical\n",
      "... storing 'ct_shuffled' as categorical\n"
     ]
    },
    {
     "name": "stdout",
     "output_type": "stream",
     "text": [
      "50\n"
     ]
    },
    {
     "name": "stderr",
     "output_type": "stream",
     "text": [
      "... storing 'ct_real' as categorical\n",
      "... storing 'ct_shuffled' as categorical\n",
      "... storing 'ct_real' as categorical\n",
      "... storing 'ct_shuffled' as categorical\n",
      "... storing 'ct_real' as categorical\n",
      "... storing 'ct_shuffled' as categorical\n",
      "... storing 'ct_real' as categorical\n",
      "... storing 'ct_shuffled' as categorical\n",
      "... storing 'ct_real' as categorical\n",
      "... storing 'ct_shuffled' as categorical\n",
      "... storing 'ct_real' as categorical\n",
      "... storing 'ct_shuffled' as categorical\n",
      "... storing 'ct_real' as categorical\n",
      "... storing 'ct_shuffled' as categorical\n",
      "... storing 'ct_real' as categorical\n",
      "... storing 'ct_shuffled' as categorical\n",
      "... storing 'ct_real' as categorical\n",
      "... storing 'ct_shuffled' as categorical\n",
      "... storing 'ct_real' as categorical\n",
      "... storing 'ct_shuffled' as categorical\n"
     ]
    },
    {
     "name": "stdout",
     "output_type": "stream",
     "text": [
      "60\n"
     ]
    },
    {
     "name": "stderr",
     "output_type": "stream",
     "text": [
      "... storing 'ct_real' as categorical\n",
      "... storing 'ct_shuffled' as categorical\n",
      "... storing 'ct_real' as categorical\n",
      "... storing 'ct_shuffled' as categorical\n",
      "... storing 'ct_real' as categorical\n",
      "... storing 'ct_shuffled' as categorical\n",
      "... storing 'ct_real' as categorical\n",
      "... storing 'ct_shuffled' as categorical\n",
      "... storing 'ct_real' as categorical\n",
      "... storing 'ct_shuffled' as categorical\n",
      "... storing 'ct_real' as categorical\n",
      "... storing 'ct_shuffled' as categorical\n",
      "... storing 'ct_real' as categorical\n",
      "... storing 'ct_shuffled' as categorical\n",
      "... storing 'ct_real' as categorical\n",
      "... storing 'ct_shuffled' as categorical\n",
      "... storing 'ct_real' as categorical\n",
      "... storing 'ct_shuffled' as categorical\n",
      "... storing 'ct_real' as categorical\n",
      "... storing 'ct_shuffled' as categorical\n"
     ]
    },
    {
     "name": "stdout",
     "output_type": "stream",
     "text": [
      "70\n"
     ]
    },
    {
     "name": "stderr",
     "output_type": "stream",
     "text": [
      "... storing 'ct_real' as categorical\n",
      "... storing 'ct_shuffled' as categorical\n",
      "... storing 'ct_real' as categorical\n",
      "... storing 'ct_shuffled' as categorical\n",
      "... storing 'ct_real' as categorical\n",
      "... storing 'ct_shuffled' as categorical\n",
      "... storing 'ct_real' as categorical\n",
      "... storing 'ct_shuffled' as categorical\n",
      "... storing 'ct_real' as categorical\n",
      "... storing 'ct_shuffled' as categorical\n",
      "... storing 'ct_real' as categorical\n",
      "... storing 'ct_shuffled' as categorical\n",
      "... storing 'ct_real' as categorical\n",
      "... storing 'ct_shuffled' as categorical\n",
      "... storing 'ct_real' as categorical\n",
      "... storing 'ct_shuffled' as categorical\n",
      "... storing 'ct_real' as categorical\n",
      "... storing 'ct_shuffled' as categorical\n",
      "... storing 'ct_real' as categorical\n",
      "... storing 'ct_shuffled' as categorical\n"
     ]
    },
    {
     "name": "stdout",
     "output_type": "stream",
     "text": [
      "80\n"
     ]
    },
    {
     "name": "stderr",
     "output_type": "stream",
     "text": [
      "... storing 'ct_real' as categorical\n",
      "... storing 'ct_shuffled' as categorical\n",
      "... storing 'ct_real' as categorical\n",
      "... storing 'ct_shuffled' as categorical\n",
      "... storing 'ct_real' as categorical\n",
      "... storing 'ct_shuffled' as categorical\n",
      "... storing 'ct_real' as categorical\n",
      "... storing 'ct_shuffled' as categorical\n",
      "... storing 'ct_real' as categorical\n",
      "... storing 'ct_shuffled' as categorical\n",
      "... storing 'ct_real' as categorical\n",
      "... storing 'ct_shuffled' as categorical\n",
      "... storing 'ct_real' as categorical\n",
      "... storing 'ct_shuffled' as categorical\n",
      "... storing 'ct_real' as categorical\n",
      "... storing 'ct_shuffled' as categorical\n",
      "... storing 'ct_real' as categorical\n",
      "... storing 'ct_shuffled' as categorical\n",
      "... storing 'ct_real' as categorical\n",
      "... storing 'ct_shuffled' as categorical\n"
     ]
    },
    {
     "name": "stdout",
     "output_type": "stream",
     "text": [
      "90\n"
     ]
    },
    {
     "name": "stderr",
     "output_type": "stream",
     "text": [
      "... storing 'ct_real' as categorical\n",
      "... storing 'ct_shuffled' as categorical\n",
      "... storing 'ct_real' as categorical\n",
      "... storing 'ct_shuffled' as categorical\n",
      "... storing 'ct_real' as categorical\n",
      "... storing 'ct_shuffled' as categorical\n",
      "... storing 'ct_real' as categorical\n",
      "... storing 'ct_shuffled' as categorical\n",
      "... storing 'ct_real' as categorical\n",
      "... storing 'ct_shuffled' as categorical\n",
      "... storing 'ct_real' as categorical\n",
      "... storing 'ct_shuffled' as categorical\n",
      "... storing 'ct_real' as categorical\n",
      "... storing 'ct_shuffled' as categorical\n",
      "... storing 'ct_real' as categorical\n",
      "... storing 'ct_shuffled' as categorical\n",
      "... storing 'ct_real' as categorical\n",
      "... storing 'ct_shuffled' as categorical\n",
      "... storing 'ct_real' as categorical\n",
      "... storing 'ct_shuffled' as categorical\n"
     ]
    }
   ],
   "source": [
    "for i in range(100):\n",
    "    \n",
    "    if i % 10 == 0 and i > 0:\n",
    "        print(i)\n",
    "    \n",
    "    a, _ = simulate_two_datasets(x_param, Nc, 5000, q, diff='mean')\n",
    "    a.write(data_path + 'runtime/5000_{}.h5ad'.format(i))"
   ]
  }
 ],
 "metadata": {
  "kernelspec": {
   "display_name": "Python 3 (ipykernel)",
   "language": "python",
   "name": "python3"
  },
  "language_info": {
   "codemirror_mode": {
    "name": "ipython",
    "version": 3
   },
   "file_extension": ".py",
   "mimetype": "text/x-python",
   "name": "python",
   "nbconvert_exporter": "python",
   "pygments_lexer": "ipython3",
   "version": "3.8.8"
  }
 },
 "nbformat": 4,
 "nbformat_minor": 5
}
