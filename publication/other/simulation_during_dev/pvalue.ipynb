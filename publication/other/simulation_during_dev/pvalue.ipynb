{
 "cells": [
  {
   "cell_type": "markdown",
   "metadata": {},
   "source": [
    "# Hypothesis testing validation\n",
    "\n",
    "Power analysis for DM, DV, and DC"
   ]
  },
  {
   "cell_type": "code",
   "execution_count": 1,
   "metadata": {},
   "outputs": [],
   "source": [
    "import pandas as pd\n",
    "import matplotlib.pyplot as plt\n",
    "import scanpy as sc\n",
    "import scipy as sp\n",
    "import itertools\n",
    "import numpy as np\n",
    "import scipy.stats as stats\n",
    "from scipy.integrate import dblquad\n",
    "import seaborn as sns\n",
    "from statsmodels.stats.multitest import fdrcorrection\n",
    "import imp\n",
    "pd.options.display.max_rows = 999\n",
    "pd.set_option('display.max_colwidth', -1)\n",
    "import pickle as pkl\n",
    "import time\n",
    "import string\n",
    "from sklearn.datasets import make_spd_matrix\n"
   ]
  },
  {
   "cell_type": "code",
   "execution_count": 2,
   "metadata": {},
   "outputs": [],
   "source": [
    "import matplotlib as mpl\n",
    "mpl.rcParams['pdf.fonttype'] = 42\n",
    "mpl.rcParams['ps.fonttype'] = 42\n",
    "\n",
    "import matplotlib.pylab as pylab\n",
    "params = {'legend.fontsize': 'medium',\n",
    "         'axes.labelsize': 'medium',\n",
    "         'axes.titlesize':'medium',\n",
    "         'figure.titlesize':'medium',\n",
    "         'xtick.labelsize':'small',\n",
    "         'ytick.labelsize':'small'}\n",
    "pylab.rcParams.update(params)\n"
   ]
  },
  {
   "cell_type": "code",
   "execution_count": 3,
   "metadata": {},
   "outputs": [
    {
     "name": "stderr",
     "output_type": "stream",
     "text": [
      "/data/home/anaconda3/envs/single_cell/lib/python3.7/site-packages/scanpy/api/__init__.py:6: FutureWarning: \n",
      "\n",
      "In a future version of Scanpy, `scanpy.api` will be removed.\n",
      "Simply use `import scanpy as sc` and `import scanpy.external as sce` instead.\n",
      "\n",
      "  FutureWarning,\n"
     ]
    }
   ],
   "source": [
    "import sys\n",
    "sys.path.append('/data/home/Github/scrna-parameter-estimation/schypo')\n",
    "import estimator, simulate, schypo, bootstrap, util, hypothesis_test"
   ]
  },
  {
   "cell_type": "code",
   "execution_count": 4,
   "metadata": {},
   "outputs": [],
   "source": [
    "data_path = '/data/parameter_estimation/'\n",
    "\n",
    "fig_path = '/data/home/Github/scrna-parameter-estimation/figures/fig3/'"
   ]
  },
  {
   "cell_type": "markdown",
   "metadata": {},
   "source": [
    "### Read the interferon data"
   ]
  },
  {
   "cell_type": "code",
   "execution_count": 5,
   "metadata": {},
   "outputs": [],
   "source": [
    "ifn_adata = sc.read(data_path + 'interferon_filtered.h5ad')\n"
   ]
  },
  {
   "cell_type": "markdown",
   "metadata": {},
   "source": [
    "### Calibration on real data"
   ]
  },
  {
   "cell_type": "code",
   "execution_count": 6,
   "metadata": {},
   "outputs": [],
   "source": [
    "q = 0.07"
   ]
  },
  {
   "cell_type": "code",
   "execution_count": 7,
   "metadata": {},
   "outputs": [],
   "source": [
    "cal_adata = ifn_adata[ifn_adata.obs.cell == 'CD4 T cells'].copy()\n",
    "# cal_adata.obs['stim'] = np.random.choice(['stim', 'ctrl'], cal_adata.shape[0])"
   ]
  },
  {
   "cell_type": "code",
   "execution_count": 86,
   "metadata": {},
   "outputs": [
    {
     "data": {
      "text/plain": [
       "(10342, 35635)"
      ]
     },
     "execution_count": 86,
     "metadata": {},
     "output_type": "execute_result"
    }
   ],
   "source": [
    "cal_adata.shape"
   ]
  },
  {
   "cell_type": "code",
   "execution_count": 87,
   "metadata": {},
   "outputs": [
    {
     "name": "stdout",
     "output_type": "stream",
     "text": [
      "(10342, 1719)\n"
     ]
    },
    {
     "name": "stderr",
     "output_type": "stream",
     "text": [
      "[Parallel(n_jobs=6)]: Using backend LokyBackend with 6 concurrent workers.\n",
      "[Parallel(n_jobs=6)]: Done  44 tasks      | elapsed:    1.0s\n",
      "[Parallel(n_jobs=6)]: Done 428 tasks      | elapsed:    8.7s\n",
      "[Parallel(n_jobs=6)]: Done 1068 tasks      | elapsed:   22.1s\n",
      "[Parallel(n_jobs=6)]: Done 1708 out of 1719 | elapsed:   35.4s remaining:    0.2s\n",
      "[Parallel(n_jobs=6)]: Done 1719 out of 1719 | elapsed:   35.5s finished\n"
     ]
    }
   ],
   "source": [
    "schypo.create_groups(\n",
    "    cal_adata,\n",
    "    q=q,\n",
    "    label_columns=['stim', 'ind'], \n",
    "    inplace=True)\n",
    "schypo.compute_1d_moments(\n",
    "    cal_adata, \n",
    "    inplace=True, \n",
    "    filter_genes=True, \n",
    "    residual_var=True,\n",
    "    filter_mean_thresh=0.05, \n",
    "    min_perc_group=.9)\n",
    "print(cal_adata.shape)\n",
    "schypo.ht_1d_moments(\n",
    "\tcal_adata, \n",
    "\tformula_like='1 + stim',\n",
    "\tcov_column='stim',\n",
    "\tnum_boot=1000,\n",
    "    num_cpus=6,\n",
    "    verbose=3)"
   ]
  },
  {
   "cell_type": "code",
   "execution_count": 88,
   "metadata": {},
   "outputs": [
    {
     "data": {
      "image/png": "[encoded data removed]",
      "text/plain": [
       "<Figure size 432x288 with 1 Axes>"
      ]
     },
     "metadata": {
      "needs_background": "light"
     },
     "output_type": "display_data"
    }
   ],
   "source": [
    "plt.hist(cal_adata.uns['schypo']['1d_ht']['var_asl'], bins=20);"
   ]
  },
  {
   "cell_type": "code",
   "execution_count": null,
   "metadata": {},
   "outputs": [],
   "source": [
    "plt.hist(cal_adata.uns['schypo']['1d_ht']['mean_asl'], bins=20);"
   ]
  },
  {
   "cell_type": "markdown",
   "metadata": {},
   "source": [
    "### Power calculation\n",
    "\n",
    "1000 genes total, 300 are DE and 300 are DV"
   ]
  },
  {
   "cell_type": "code",
   "execution_count": 8,
   "metadata": {},
   "outputs": [],
   "source": [
    "adata = ifn_adata[ifn_adata.obs.cell_type == 'CD4 T cells - ctrl']\n",
    "# data = adata.X.copy()\n",
    "# relative_data = data.toarray()/data.sum(axis=1)\n",
    "\n",
    "n_cells = 10000\n",
    "q=0.07\n",
    "x_param, z_param, Nc, good_idx = simulate.extract_parameters(adata.X, q=q)"
   ]
  },
  {
   "cell_type": "code",
   "execution_count": 224,
   "metadata": {},
   "outputs": [],
   "source": [
    "def simulate_two_datasets(x_param, Nc, n_cells, q, diff='mean'):\n",
    "    \n",
    "    log_means_1, log_variances_1 = np.log(x_param[0]), np.log(x_param[1])\n",
    "    log_means_2, log_variances_2 = log_means_1.copy(), log_variances_1.copy()\n",
    "    \n",
    "    if diff == 'null':\n",
    "        norm_cov_1, norm_cov_2 = 'indep', 'indep'\n",
    "    if diff == 'mean':\n",
    "        log_means_2[:500] += 0.5\n",
    "        norm_cov_1, norm_cov_2 = 'indep', 'indep'\n",
    "    if diff == 'variability':\n",
    "        log_variances_2[:500] += 0.5\n",
    "        norm_cov_1, norm_cov_2 = 'indep', 'indep'\n",
    "    if diff == 'correlation':\n",
    "        norm_cov_1 = make_spd_matrix(log_means_1.shape[0])\n",
    "        norm_corr_1 = norm_cov_1/np.outer(np.sqrt(np.diag(norm_cov_1)), np.sqrt(np.diag(norm_cov_1)))\n",
    "        norm_corr_subset = norm_corr_1[:100, :100].copy()\n",
    "        \n",
    "        change_indices = np.where(norm_corr_subset < 0.5)\n",
    "        change_indices = (change_indices[0][:150], change_indices[1][:150])\n",
    "        norm_corr_subset[change_indices] += 0.5\n",
    "        \n",
    "        norm_corr_2 = norm_corr_1.copy()\n",
    "        norm_corr_2[:100, :100] = norm_corr_subset\n",
    "        norm_cov_2 = norm_corr_2 * np.outer(np.sqrt(np.diag(norm_cov_1)), np.sqrt(np.diag(norm_cov_1)))\n",
    "    \n",
    "    data_1 = simulate.simulate_transcriptomes(\n",
    "        n_cells=n_cells, \n",
    "        means=np.exp(log_means_1)*Nc.mean(),\n",
    "        variances=(np.exp(log_variances_1) + np.exp(log_means_1)**2)*(Nc**2).mean() - np.exp(log_means_1)**2*Nc.mean()**2,\n",
    "        Nc=Nc,\n",
    "        norm_cov=norm_cov_1)\n",
    "    \n",
    "    data_2 = simulate.simulate_transcriptomes(\n",
    "        n_cells=n_cells, \n",
    "        means=np.exp(log_means_2)*Nc.mean(),\n",
    "        variances=(np.exp(log_variances_2) + np.exp(log_means_2)**2)*(Nc**2).mean() - np.exp(log_means_2)**2*Nc.mean()**2,\n",
    "        Nc=Nc,\n",
    "        norm_cov=norm_cov_2)\n",
    "    \n",
    "    true_data = np.vstack([data_1, data_2])\n",
    "    _, hyper_captured = simulate.capture_sampling(true_data, q=q, process='hyper')\n",
    "    \n",
    "    anndata = sc.AnnData(sp.sparse.csr_matrix(hyper_captured))\n",
    "    anndata.obs['ct_real'] = ['A' for i in range(n_cells)] + ['B' for i in range(n_cells)]\n",
    "    anndata.obs['ct_shuffled'] = np.random.choice(['A', 'B'], anndata.shape[0])\n",
    "    \n",
    "    if diff == 'correlation':\n",
    "        return anndata, change_indices\n",
    "    else:\n",
    "        return anndata, None\n",
    "\n",
    "    \n",
    "def calculate_power(n_cells, test='mean', test_null=False):\n",
    "    \n",
    "    sim_adata, change_indices = simulate_two_datasets(x_param, Nc, n_cells, q=q, diff=test if not test_null else 'null')\n",
    "        \n",
    "    schypo.create_groups(\n",
    "        sim_adata,\n",
    "        q=q,\n",
    "        label_columns=['ct_real'], \n",
    "        inplace=True)\n",
    "    \n",
    "    schypo.compute_1d_moments(\n",
    "        sim_adata, \n",
    "        inplace=True, \n",
    "        filter_genes=False, \n",
    "        residual_var=True,\n",
    "        filter_mean_thresh=0.0, \n",
    "        min_perc_group=.9)\n",
    "        \n",
    "    if test == 'mean':\n",
    "\n",
    "        schypo.ht_1d_moments(\n",
    "            sim_adata, \n",
    "            formula_like='1 + ct_real',\n",
    "            cov_column='ct_real',\n",
    "            num_boot=5000,\n",
    "            num_cpus=6,\n",
    "            verbose=3)\n",
    "\n",
    "        power = (sim_adata.uns['schypo']['1d_ht']['mean_asl'][:500] < 0.05).mean()\n",
    "        pvals = sim_adata.uns['schypo']['1d_ht']['mean_asl']\n",
    "        \n",
    "    if test == 'variability':\n",
    "\n",
    "        schypo.ht_1d_moments(\n",
    "            sim_adata, \n",
    "            formula_like='1 + ct_real',\n",
    "            cov_column='ct_real',\n",
    "            num_boot=5000,\n",
    "            num_cpus=6,\n",
    "            verbose=3)\n",
    "        \n",
    "        power = (sim_adata.uns['schypo']['1d_ht']['var_asl'][:500] < 0.05).mean()\n",
    "        pvals = sim_adata.uns['schypo']['1d_ht']['var_asl']\n",
    "        \n",
    "    if test == 'correlation':\n",
    "        \n",
    "        schypo.compute_2d_moments(\n",
    "            sim_adata, \n",
    "            inplace=True, \n",
    "            gene_1=np.arange(50).astype(str).tolist(),\n",
    "            gene_2=np.arange(50).astype(str).tolist())\n",
    "        \n",
    "        schypo.ht_2d_moments(\n",
    "            sim_adata, \n",
    "            formula_like='1 + ct_real',\n",
    "            cov_column='ct_real',\n",
    "            num_boot=5000,\n",
    "            num_cpus=6,\n",
    "            verbose=3)\n",
    "        \n",
    "        c_pv = sim_adata.uns['schypo']['2d_ht']['corr_asl'][:50, :50]\n",
    "        power = (c_pv[change_indices] < 0.05).mean()\n",
    "        pvals = sim_adata.uns['schypo']['2d_ht']['corr_asl']\n",
    "                \n",
    "    return power, pvals, sim_adata"
   ]
  },
  {
   "cell_type": "code",
   "execution_count": null,
   "metadata": {},
   "outputs": [],
   "source": [
    "mean_power, var_power, corr_power = [], [], []\n",
    "n_cells_list = np.logspace(2, 5, 25).astype(int)\n",
    "for n_cells in n_cells_list:\n",
    "    \n",
    "    print(n_cells)\n",
    "    \n",
    "    mean_power.append(calculate_power(n_cells, test='mean')[0])\n",
    "    var_power.append(calculate_power(n_cells, test='variability')[0])\n",
    "    corr_power.append(calculate_power(n_cells, test='correlation')[0])\n",
    "\n",
    "with open('temp.pkl', 'wb') as f:\n",
    "    pkl.dump([mean_power, var_power, corr_power], f)"
   ]
  },
  {
   "cell_type": "code",
   "execution_count": 242,
   "metadata": {},
   "outputs": [],
   "source": [
    "n_cells_list = np.logspace(2, 5, 25).astype(int)\n",
    "\n",
    "with open('/data/parameter_estimation/simulation/power_analysis.pkl', 'rb') as f:\n",
    "    mean_power, var_power, corr_power = pkl.load(f)"
   ]
  },
  {
   "cell_type": "code",
   "execution_count": 252,
   "metadata": {},
   "outputs": [
    {
     "data": {
      "image/png": "[encoded data removed]",
      "text/plain": [
       "<Figure size 144x144 with 1 Axes>"
      ]
     },
     "metadata": {
      "needs_background": "light"
     },
     "output_type": "display_data"
    }
   ],
   "source": [
    "plt.figure(figsize=(2, 2))\n",
    "plt.plot(n_cells_list[:23], mean_power, '-o')\n",
    "plt.plot(n_cells_list[:23], var_power, '-o')\n",
    "plt.plot(n_cells_list[:22], corr_power, '-o')\n",
    "plt.xscale('log')\n",
    "plt.xlabel('Number of cells in each group')\n",
    "plt.ylabel('Power')\n",
    "plt.legend(['DE', 'DV', 'DC'], loc='lower right', bbox_to_anchor=(0.56, -0.05, 0.5, 0.5), frameon=False)\n",
    "plt.savefig(fig_path + 'power.pdf', bbox_inches='tight')"
   ]
  },
  {
   "cell_type": "code",
   "execution_count": 76,
   "metadata": {},
   "outputs": [],
   "source": [
    "# with open('temp.pkl', 'wb') as f:\n",
    "#     pkl.dump([mean_power, var_power, corr_power], f)"
   ]
  },
  {
   "cell_type": "markdown",
   "metadata": {},
   "source": [
    "### Generate p-value histograms"
   ]
  },
  {
   "cell_type": "code",
   "execution_count": 198,
   "metadata": {},
   "outputs": [],
   "source": [
    "adata = ifn_adata[ifn_adata.obs.cell_type == 'CD4 T cells - ctrl']\n",
    "# data = adata.X.copy()\n",
    "# relative_data = data.toarray()/data.sum(axis=1)\n",
    "\n",
    "n_cells = 5000\n",
    "q=0.07\n",
    "x_param, z_param, Nc, good_idx = simulate.extract_parameters(adata.X, q=q, min_mean=0.001)"
   ]
  },
  {
   "cell_type": "code",
   "execution_count": 199,
   "metadata": {},
   "outputs": [],
   "source": [
    "sim_adata_mean, _ = simulate_two_datasets(x_param, Nc, n_cells, q=q, diff='mean')"
   ]
  },
  {
   "cell_type": "code",
   "execution_count": 200,
   "metadata": {},
   "outputs": [
    {
     "name": "stdout",
     "output_type": "stream",
     "text": [
      "(10000, 10805)\n"
     ]
    },
    {
     "name": "stderr",
     "output_type": "stream",
     "text": [
      "[Parallel(n_jobs=6)]: Using backend LokyBackend with 6 concurrent workers.\n",
      "[Parallel(n_jobs=6)]: Done  20 tasks      | elapsed:    2.1s\n",
      "[Parallel(n_jobs=6)]: Done 116 tasks      | elapsed:    4.7s\n",
      "[Parallel(n_jobs=6)]: Done 276 tasks      | elapsed:   10.1s\n",
      "[Parallel(n_jobs=6)]: Done 500 tasks      | elapsed:   17.5s\n",
      "[Parallel(n_jobs=6)]: Done 1030 tasks      | elapsed:   26.0s\n",
      "[Parallel(n_jobs=6)]: Done 1734 tasks      | elapsed:   37.1s\n",
      "[Parallel(n_jobs=6)]: Done 2566 tasks      | elapsed:   50.3s\n",
      "[Parallel(n_jobs=6)]: Done 3526 tasks      | elapsed:  1.1min\n",
      "[Parallel(n_jobs=6)]: Done 4614 tasks      | elapsed:  1.4min\n",
      "[Parallel(n_jobs=6)]: Done 5830 tasks      | elapsed:  1.7min\n",
      "[Parallel(n_jobs=6)]: Done 7174 tasks      | elapsed:  2.1min\n",
      "[Parallel(n_jobs=6)]: Done 8646 tasks      | elapsed:  2.4min\n",
      "[Parallel(n_jobs=6)]: Done 10246 tasks      | elapsed:  2.9min\n",
      "[Parallel(n_jobs=6)]: Done 10798 out of 10798 | elapsed:  3.0min finished\n"
     ]
    }
   ],
   "source": [
    "print(sim_adata_mean.shape)\n",
    "\n",
    "schypo.create_groups(\n",
    "    sim_adata_mean,\n",
    "    q=q,\n",
    "    label_columns=['ct_real'], \n",
    "    inplace=True)\n",
    "schypo.compute_1d_moments(\n",
    "    sim_adata_mean, \n",
    "    inplace=True, \n",
    "    filter_genes=True, \n",
    "    residual_var=True,\n",
    "    filter_mean_thresh=0.00001, \n",
    "    min_perc_group=.9)\n",
    "schypo.ht_1d_moments(\n",
    "\tsim_adata_mean, \n",
    "\tformula_like='1 + ct_real',\n",
    "\tcov_column='ct_real',\n",
    "\tnum_boot=5000,\n",
    "    num_cpus=6,\n",
    "    verbose=3)"
   ]
  },
  {
   "cell_type": "code",
   "execution_count": 201,
   "metadata": {},
   "outputs": [
    {
     "name": "stderr",
     "output_type": "stream",
     "text": [
      "... storing 'ct_real' as categorical\n",
      "... storing 'ct_shuffled' as categorical\n",
      "... storing 'schypo_group' as categorical\n"
     ]
    }
   ],
   "source": [
    "sim_adata_mean.write('/data/parameter_estimation/simulation/sim_mean.h5ad')"
   ]
  },
  {
   "cell_type": "code",
   "execution_count": 147,
   "metadata": {},
   "outputs": [
    {
     "name": "stdout",
     "output_type": "stream",
     "text": [
      "(10000, 10800)\n"
     ]
    },
    {
     "name": "stderr",
     "output_type": "stream",
     "text": [
      "[Parallel(n_jobs=6)]: Using backend LokyBackend with 6 concurrent workers.\n",
      "[Parallel(n_jobs=6)]: Done  28 tasks      | elapsed:    0.9s\n",
      "[Parallel(n_jobs=6)]: Done 220 tasks      | elapsed:    6.9s\n",
      "[Parallel(n_jobs=6)]: Done 540 tasks      | elapsed:   15.8s\n",
      "[Parallel(n_jobs=6)]: Done 988 tasks      | elapsed:   28.4s\n",
      "[Parallel(n_jobs=6)]: Done 1564 tasks      | elapsed:   45.8s\n",
      "[Parallel(n_jobs=6)]: Done 2268 tasks      | elapsed:  1.1min\n",
      "[Parallel(n_jobs=6)]: Done 2364 out of 2375 | elapsed:  1.1min remaining:    0.3s\n",
      "[Parallel(n_jobs=6)]: Done 2375 out of 2375 | elapsed:  1.2min finished\n"
     ]
    }
   ],
   "source": [
    "sim_adata_var, _ = simulate_two_datasets(x_param, Nc, n_cells, q=q, diff='variability')\n",
    "\n",
    "schypo.create_groups(\n",
    "    sim_adata_var,\n",
    "    q=q,\n",
    "    label_columns=['ct_real'], \n",
    "    inplace=True)\n",
    "schypo.compute_1d_moments(\n",
    "    sim_adata_var, \n",
    "    inplace=True, \n",
    "    filter_genes=True, \n",
    "    residual_var=True,\n",
    "    filter_mean_thresh=0.05, \n",
    "    min_perc_group=.9)\n",
    "schypo.ht_1d_moments(\n",
    "\tsim_adata_var, \n",
    "\tformula_like='1 + ct_real',\n",
    "\tcov_column='ct_real',\n",
    "\tnum_boot=5000,\n",
    "    num_cpus=6,\n",
    "    verbose=3)"
   ]
  },
  {
   "cell_type": "code",
   "execution_count": 158,
   "metadata": {},
   "outputs": [
    {
     "name": "stderr",
     "output_type": "stream",
     "text": [
      "... storing 'ct_real' as categorical\n",
      "... storing 'ct_shuffled' as categorical\n",
      "... storing 'schypo_group' as categorical\n"
     ]
    }
   ],
   "source": [
    "sim_adata_var.write('/data/parameter_estimation/simulation/sim_var.h5ad')"
   ]
  },
  {
   "cell_type": "code",
   "execution_count": 225,
   "metadata": {},
   "outputs": [
    {
     "name": "stderr",
     "output_type": "stream",
     "text": [
      "/data/home/anaconda3/envs/single_cell/lib/python3.7/site-packages/scipy/stats/_multivariate.py:660: RuntimeWarning: covariance is not positive-semidefinite.\n",
      "  out = random_state.multivariate_normal(mean, cov, size)\n"
     ]
    }
   ],
   "source": [
    "x_param, z_param, Nc, good_idx = simulate.extract_parameters(adata.X, q=q, min_mean=0.05)\n",
    "sim_adata_corr, change_indices = simulate_two_datasets(x_param, Nc, n_cells, q=q, diff='correlation')\n"
   ]
  },
  {
   "cell_type": "code",
   "execution_count": 226,
   "metadata": {},
   "outputs": [
    {
     "name": "stderr",
     "output_type": "stream",
     "text": [
      "[Parallel(n_jobs=6)]: Using backend LokyBackend with 6 concurrent workers.\n",
      "[Parallel(n_jobs=6)]: Done  20 tasks      | elapsed:    2.5s\n",
      "[Parallel(n_jobs=6)]: Done 116 tasks      | elapsed:    7.6s\n",
      "[Parallel(n_jobs=6)]: Done 276 tasks      | elapsed:   16.4s\n",
      "[Parallel(n_jobs=6)]: Done 500 tasks      | elapsed:   27.1s\n",
      "[Parallel(n_jobs=6)]: Done 788 tasks      | elapsed:   42.1s\n",
      "[Parallel(n_jobs=6)]: Done 1140 tasks      | elapsed:  1.0min\n",
      "[Parallel(n_jobs=6)]: Done 1556 tasks      | elapsed:  1.4min\n",
      "[Parallel(n_jobs=6)]: Done 2036 tasks      | elapsed:  1.9min\n",
      "[Parallel(n_jobs=6)]: Done 2580 tasks      | elapsed:  2.6min\n",
      "[Parallel(n_jobs=6)]: Done 3188 tasks      | elapsed:  3.2min\n",
      "[Parallel(n_jobs=6)]: Done 3860 tasks      | elapsed:  3.8min\n",
      "[Parallel(n_jobs=6)]: Done 4596 tasks      | elapsed:  4.5min\n",
      "[Parallel(n_jobs=6)]: Done 4950 out of 4950 | elapsed:  4.8min finished\n"
     ]
    }
   ],
   "source": [
    "schypo.create_groups(\n",
    "    sim_adata_corr,\n",
    "    q=q,\n",
    "    label_columns=['ct_real'], \n",
    "    inplace=True)\n",
    "schypo.compute_1d_moments(\n",
    "    sim_adata_corr, \n",
    "    inplace=True, \n",
    "    filter_genes=True, \n",
    "    residual_var=True,\n",
    "    filter_mean_thresh=0.0, \n",
    "    min_perc_group=.9)\n",
    "schypo.compute_2d_moments(\n",
    "    sim_adata_corr, \n",
    "    inplace=True, \n",
    "    gene_1=np.arange(100).astype(str).tolist(),\n",
    "    gene_2=np.arange(100).astype(str).tolist())\n",
    "schypo.ht_2d_moments(\n",
    "    sim_adata_corr, \n",
    "    formula_like='1 + ct_real',\n",
    "    cov_column='ct_real',\n",
    "    num_boot=5000,\n",
    "    num_cpus=6,\n",
    "    verbose=3)"
   ]
  },
  {
   "cell_type": "code",
   "execution_count": 227,
   "metadata": {},
   "outputs": [],
   "source": [
    "sim_adata_corr.uns['null'] = corr_asl_null"
   ]
  },
  {
   "cell_type": "code",
   "execution_count": 228,
   "metadata": {},
   "outputs": [
    {
     "name": "stderr",
     "output_type": "stream",
     "text": [
      "... storing 'ct_real' as categorical\n",
      "... storing 'ct_shuffled' as categorical\n",
      "... storing 'schypo_group' as categorical\n"
     ]
    }
   ],
   "source": [
    "sim_adata_corr.write('/data/parameter_estimation/simulation/sim_corr.h5ad')"
   ]
  },
  {
   "cell_type": "markdown",
   "metadata": {},
   "source": [
    "### Plot p-value histograms"
   ]
  },
  {
   "cell_type": "code",
   "execution_count": 194,
   "metadata": {},
   "outputs": [],
   "source": [
    "sim_adata_var = sc.read('/data/parameter_estimation/simulation/sim_var.h5ad')\n",
    "var_asl = sim_adata_var.uns['schypo']['1d_ht']['var_asl']"
   ]
  },
  {
   "cell_type": "code",
   "execution_count": 202,
   "metadata": {},
   "outputs": [],
   "source": [
    "sim_adata_mean = sc.read('/data/parameter_estimation/simulation/sim_mean.h5ad')\n",
    "mean_asl = sim_adata_mean.uns['schypo']['1d_ht']['mean_asl']"
   ]
  },
  {
   "cell_type": "code",
   "execution_count": 231,
   "metadata": {},
   "outputs": [],
   "source": [
    "sim_adata_corr = sc.read('/data/parameter_estimation/simulation/sim_corr.h5ad')\n",
    "corr_asl = sim_adata_corr.uns['schypo']['2d_ht']['corr_asl'].ravel()\n",
    "corr_null_asl = sim_adata_corr.uns['null'].ravel()"
   ]
  },
  {
   "cell_type": "code",
   "execution_count": 253,
   "metadata": {},
   "outputs": [
    {
     "data": {
      "image/png": "[encoded data removed]",
      "text/plain": [
       "<Figure size 432x144 with 3 Axes>"
      ]
     },
     "metadata": {
      "needs_background": "light"
     },
     "output_type": "display_data"
    }
   ],
   "source": [
    "plt.figure(figsize=(6, 2));\n",
    "plt.subplots_adjust(wspace=0.3)\n",
    "\n",
    "plt.subplot(1, 3, 1);\n",
    "plt.hist(mean_asl, bins=20, density=True, color='grey', label='DE');\n",
    "plt.hist(mean_asl[500:], bins=5, density=True, histtype='step', linewidth=3, color='black', label='null');\n",
    "plt.legend(frameon=False)\n",
    "\n",
    "plt.subplot(1, 3, 2);\n",
    "plt.hist(var_asl, bins=20, density=True, color='grey', label='DV');\n",
    "plt.hist(var_asl[500:], bins=5, density=True, histtype='step', linewidth=3, color='black', label='null');\n",
    "plt.legend(frameon=False)\n",
    "\n",
    "plt.subplot(1, 3, 3);\n",
    "plt.hist(corr_asl.ravel(), density=True, color='grey', bins=20, label='DC');\n",
    "plt.hist(corr_asl_null.ravel(), bins=5, density=True, color='black', label='null', histtype='step', linewidth=3);\n",
    "plt.legend(frameon=False)\n",
    "plt.savefig(fig_path + 'calibration_histograms.pdf', bbox_inches='tight')"
   ]
  },
  {
   "cell_type": "code",
   "execution_count": null,
   "metadata": {},
   "outputs": [],
   "source": []
  }
 ],
 "metadata": {
  "kernelspec": {
   "display_name": "Python 3",
   "language": "python",
   "name": "python3"
  },
  "language_info": {
   "codemirror_mode": {
    "name": "ipython",
    "version": 3
   },
   "file_extension": ".py",
   "mimetype": "text/x-python",
   "name": "python",
   "nbconvert_exporter": "python",
   "pygments_lexer": "ipython3",
   "version": "3.8.8"
  }
 },
 "nbformat": 4,
 "nbformat_minor": 4
}
