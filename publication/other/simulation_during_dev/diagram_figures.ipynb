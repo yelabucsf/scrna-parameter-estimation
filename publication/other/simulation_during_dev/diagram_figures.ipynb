{
 "cells": [
  {
   "cell_type": "markdown",
   "metadata": {},
   "source": [
    "# Diagram / Figures\n",
    "\n",
    "This notebook contains diagrams and figures for the paper."
   ]
  },
  {
   "cell_type": "code",
   "execution_count": 1,
   "metadata": {},
   "outputs": [],
   "source": [
    "import seaborn as sns\n",
    "import numpy as np\n",
    "import scipy.stats as stats\n",
    "import matplotlib.pyplot as plt\n",
    "import matplotlib.pylab as pylab\n",
    "import scipy as sp\n",
    "import pandas as pd\n",
    "import matplotlib as mpl\n",
    "#plt.style.use('ggplot')"
   ]
  },
  {
   "cell_type": "code",
   "execution_count": 2,
   "metadata": {},
   "outputs": [],
   "source": [
    "from scipy.stats import multivariate_normal"
   ]
  },
  {
   "cell_type": "code",
   "execution_count": 3,
   "metadata": {},
   "outputs": [],
   "source": [
    "fig_path = '/data/home/Github/scrna-parameter-estimation/figures/fig1/'"
   ]
  },
  {
   "cell_type": "code",
   "execution_count": 4,
   "metadata": {},
   "outputs": [],
   "source": [
    "mpl.rcParams['pdf.fonttype'] = 42\n",
    "mpl.rcParams['ps.fonttype'] = 42\n",
    "\n",
    "import matplotlib.pylab as pylab\n",
    "params = {'legend.fontsize': 'small',\n",
    "         'axes.labelsize': 'medium',\n",
    "         'axes.titlesize':'medium',\n",
    "         'figure.titlesize':'medium',\n",
    "         'xtick.labelsize':'small',\n",
    "         'ytick.labelsize':'small'}\n",
    "pylab.rcParams.update(params)\n"
   ]
  },
  {
   "cell_type": "markdown",
   "metadata": {},
   "source": [
    "### Simple demo - latent"
   ]
  },
  {
   "cell_type": "code",
   "execution_count": 15,
   "metadata": {},
   "outputs": [],
   "source": [
    "num_cells = 10000"
   ]
  },
  {
   "cell_type": "code",
   "execution_count": 82,
   "metadata": {},
   "outputs": [],
   "source": [
    "group_1 = stats.multivariate_normal.rvs(mean=[5, 20], cov=[[2, 1.5], [1.5, 2]], size=num_cells)\n",
    "\n",
    "group_2 = stats.multivariate_normal.rvs(mean=[5, 5], cov=[[20, 0], [0, 2]], size=num_cells)\n",
    "\n",
    "group_3 = stats.multivariate_normal.rvs(mean=[5, 3], cov=[[18, 0], [0, 1.5]], size=num_cells)\n",
    "group_4 = stats.multivariate_normal.rvs(mean=[5, 5], cov=[[20, 10], [10, 2]], size=num_cells)"
   ]
  },
  {
   "cell_type": "code",
   "execution_count": 88,
   "metadata": {},
   "outputs": [
    {
     "data": {
      "image/png": "[encoded data removed]",
      "text/plain": [
       "<Figure size 144x93.6 with 1 Axes>"
      ]
     },
     "metadata": {},
     "output_type": "display_data"
    }
   ],
   "source": [
    "plt.figure(figsize=(2,1.3))\n",
    "sns.kdeplot(group_1[:, 0], color='grey', fill=True, lw=2, alpha=0.2)\n",
    "sns.kdeplot(group_1[:, 1], color='black', fill=True, lw=2, alpha=0.2)\n",
    "plt.xlabel(None);plt.ylabel(None); plt.xticks([]); plt.yticks([]);\n",
    "plt.savefig('Gene1.pdf', bbox_inches='tight')"
   ]
  },
  {
   "cell_type": "code",
   "execution_count": 89,
   "metadata": {},
   "outputs": [
    {
     "data": {
      "image/png": "[encoded data removed]",
      "text/plain": [
       "<Figure size 144x93.6 with 1 Axes>"
      ]
     },
     "metadata": {},
     "output_type": "display_data"
    }
   ],
   "source": [
    "plt.figure(figsize=(2,1.3))\n",
    "sns.kdeplot(group_2[:, 0], color='black', fill=True, lw=2, alpha=0.2)\n",
    "sns.kdeplot(group_2[:, 1], color='grey', fill=True, lw=2, alpha=0.2)\n",
    "plt.xlabel(None);plt.ylabel(None); plt.xticks([]); plt.yticks([]);\n",
    "plt.savefig('Gene2.pdf', bbox_inches='tight')"
   ]
  },
  {
   "cell_type": "code",
   "execution_count": 92,
   "metadata": {},
   "outputs": [
    {
     "data": {
      "image/png": "[encoded data removed]",
      "text/plain": [
       "<Figure size 144x93.6 with 1 Axes>"
      ]
     },
     "metadata": {},
     "output_type": "display_data"
    }
   ],
   "source": [
    "plt.figure(figsize=(2,1.3))\n",
    "\n",
    "plt.scatter(group_3[:, 0], group_3[:, 1], color='grey', s=0.1, alpha=1)\n",
    "plt.scatter(group_4[:, 0], group_4[:, 1], color='black', s=0.1, alpha=0.3)\n",
    "plt.xlabel(None);plt.ylabel(None);\n",
    "plt.xlim(-10, 20);plt.ylim(-4, 15); plt.xticks([]); plt.yticks([]);\n",
    "plt.savefig('Gene1x2.png', bbox_inches='tight', dpi=300)"
   ]
  },
  {
   "cell_type": "markdown",
   "metadata": {},
   "source": [
    "### Simple demo - after capture"
   ]
  },
  {
   "cell_type": "code",
   "execution_count": 94,
   "metadata": {},
   "outputs": [],
   "source": [
    "capture_eff = 0.15"
   ]
  },
  {
   "cell_type": "code",
   "execution_count": 93,
   "metadata": {},
   "outputs": [],
   "source": [
    "def generalized_binom_coef(x,y):\n",
    "\n",
    "    return sp.special.gamma(x+1) / (sp.special.gamma(y+1) * sp.special.gamma(x-y+1))\n",
    "\n",
    "class toy_rv(stats.rv_discrete):\n",
    "    \n",
    "    def _pmf(self, k, n, p):\n",
    "        \n",
    "        return generalized_binom_coef(n, k) * p ** (k) * (1-p)**(n-k)\n",
    "        "
   ]
  },
  {
   "cell_type": "code",
   "execution_count": 157,
   "metadata": {},
   "outputs": [],
   "source": [
    "group_1[group_1 < 0] = 0.01\n",
    "group_2[group_2 < 0] = 0.01\n",
    "group_3[group_3 < 0] = 0.01\n",
    "group_4[group_4 < 0] = 0.01\n",
    "\n",
    "\n",
    "group_1_captured = toy_rv().rvs(n=group_1, p=capture_eff).astype(float)\n",
    "group_2_captured = toy_rv().rvs(n=group_2, p=capture_eff).astype(float)\n",
    "group_3_captured = toy_rv().rvs(n=group_3, p=capture_eff).astype(float)\n",
    "group_4_captured = toy_rv().rvs(n=group_4, p=capture_eff).astype(float)"
   ]
  },
  {
   "cell_type": "code",
   "execution_count": 168,
   "metadata": {},
   "outputs": [
    {
     "data": {
      "image/png": "[encoded data removed]",
      "text/plain": [
       "<Figure size 144x93.6 with 1 Axes>"
      ]
     },
     "metadata": {},
     "output_type": "display_data"
    }
   ],
   "source": [
    "plt.figure(figsize=(2, 1.3))\n",
    "plt.hist([group_1_captured[:, 0], group_1_captured[:, 1]], color=['grey', 'black'],bins=10)\n",
    "plt.xlabel(None);plt.ylabel(None); plt.xticks([]); plt.yticks([]);\n",
    "plt.savefig('Gene1_captured.pdf', bbox_inches='tight')"
   ]
  },
  {
   "cell_type": "code",
   "execution_count": 169,
   "metadata": {},
   "outputs": [
    {
     "data": {
      "image/png": "[encoded data removed]",
      "text/plain": [
       "<Figure size 144x93.6 with 1 Axes>"
      ]
     },
     "metadata": {},
     "output_type": "display_data"
    }
   ],
   "source": [
    "plt.figure(figsize=(2, 1.3))\n",
    "plt.hist([group_2_captured[:, 0], group_2_captured[:, 1]], color=['grey', 'black'],bins=group_2_captured.max().astype(int))\n",
    "plt.xlabel(None);plt.ylabel(None); plt.xticks([]); plt.yticks([]);\n",
    "plt.savefig('Gene2_captured.pdf', bbox_inches='tight')"
   ]
  },
  {
   "cell_type": "code",
   "execution_count": 186,
   "metadata": {},
   "outputs": [
    {
     "data": {
      "image/png": "[encoded data removed]",
      "text/plain": [
       "<Figure size 144x93.6 with 1 Axes>"
      ]
     },
     "metadata": {},
     "output_type": "display_data"
    }
   ],
   "source": [
    "plt.figure(figsize=(2,1.3))\n",
    "\n",
    "plt.scatter(group_3_captured[:, 0], group_3_captured[:, 1], color='grey', s=5, alpha=0.5)\n",
    "plt.scatter(group_4_captured[:, 0]+0.3, group_4_captured[:, 1]+0.3, color='black', s=5, alpha=0.5)\n",
    "plt.xlabel(None);plt.ylabel(None);plt.xticks([]); plt.yticks([]);\n",
    "plt.savefig('Gene1x2_captured.png', bbox_inches='tight', dpi=300)"
   ]
  },
  {
   "cell_type": "markdown",
   "metadata": {},
   "source": [
    "### Simple demo - after sequencing"
   ]
  },
  {
   "cell_type": "code",
   "execution_count": 160,
   "metadata": {},
   "outputs": [],
   "source": [
    "group_1_captured[group_1_captured <= 0] = 0.01\n",
    "group_2_captured[group_2_captured <= 0] = 0.01\n",
    "group_3_captured[group_3_captured <= 0] = 0.01\n",
    "group_4_captured[group_4_captured <= 0] = 0.01\n",
    "\n",
    "\n",
    "sequencing_saturation = 0.5\n",
    "group_1_sequenced = toy_rv().rvs(n=group_1_captured, p=sequencing_saturation)\n",
    "group_2_sequenced = toy_rv().rvs(n=group_2_captured, p=sequencing_saturation)\n",
    "group_3_sequenced = toy_rv().rvs(n=group_3_captured, p=sequencing_saturation)\n",
    "group_4_sequenced = toy_rv().rvs(n=group_4_captured, p=sequencing_saturation)"
   ]
  },
  {
   "cell_type": "code",
   "execution_count": 161,
   "metadata": {},
   "outputs": [],
   "source": [
    "group_1_sequenced[group_1_sequenced > 10] = 0\n",
    "group_2_sequenced[group_2_sequenced > 10] = 0\n",
    "group_3_sequenced[group_3_sequenced > 10] = 0\n",
    "group_4_sequenced[group_4_sequenced > 10] = 0"
   ]
  },
  {
   "cell_type": "code",
   "execution_count": 170,
   "metadata": {},
   "outputs": [
    {
     "data": {
      "image/png": "[encoded data removed]",
      "text/plain": [
       "<Figure size 144x93.6 with 1 Axes>"
      ]
     },
     "metadata": {},
     "output_type": "display_data"
    }
   ],
   "source": [
    "plt.figure(figsize=(2, 1.3))\n",
    "plt.hist([group_1_sequenced[:, 0], group_1_sequenced[:, 1]], color=['grey', 'black'],bins=group_1_sequenced.max())\n",
    "plt.xlabel(None);plt.ylabel(None); plt.xticks([]); plt.yticks([]);\n",
    "plt.savefig('Gene1_sequenced.pdf', bbox_inches='tight')"
   ]
  },
  {
   "cell_type": "code",
   "execution_count": 171,
   "metadata": {},
   "outputs": [
    {
     "data": {
      "image/png": "[encoded data removed]",
      "text/plain": [
       "<Figure size 144x93.6 with 1 Axes>"
      ]
     },
     "metadata": {},
     "output_type": "display_data"
    }
   ],
   "source": [
    "plt.figure(figsize=(2, 1.3))\n",
    "plt.hist([group_2_sequenced[:, 0], group_2_sequenced[:, 1]], color=['grey', 'black'],bins=group_2_sequenced.max())\n",
    "plt.xlabel(None);plt.ylabel(None); plt.xticks([]); plt.yticks([]);\n",
    "plt.savefig('Gene2_sequenced.pdf', bbox_inches='tight')"
   ]
  },
  {
   "cell_type": "code",
   "execution_count": 185,
   "metadata": {},
   "outputs": [
    {
     "data": {
      "image/png": "[encoded data removed]",
      "text/plain": [
       "<Figure size 144x93.6 with 1 Axes>"
      ]
     },
     "metadata": {},
     "output_type": "display_data"
    }
   ],
   "source": [
    "plt.figure(figsize=(2,1.3))\n",
    "\n",
    "plt.scatter(group_3_sequenced[:, 0], group_3_sequenced[:, 1], color='grey', s=5, alpha=0.5)\n",
    "plt.scatter(group_4_sequenced[:, 0]+0.3, group_4_sequenced[:, 1]+0.3, color='black', s=5, alpha=0.5)\n",
    "plt.xlabel(None);plt.ylabel(None);plt.xticks([]); plt.yticks([]);\n",
    "plt.savefig('Gene1x2_sequenced.png', bbox_inches='tight', dpi=300)"
   ]
  },
  {
   "cell_type": "markdown",
   "metadata": {},
   "source": [
    "### Fast bootstrap demo"
   ]
  },
  {
   "cell_type": "code",
   "execution_count": 141,
   "metadata": {},
   "outputs": [],
   "source": [
    "boot_iters = []\n",
    "nc = 30\n",
    "nb = 5\n",
    "a = group_1_sampled[:nc, 0]\n",
    "boot_iters.append(a)\n",
    "for i in range(nb):\n",
    "    boot_iters.append(np.random.choice(a, a.shape[0]))\n",
    "boot_iters = np.vstack(boot_iters)\n",
    "boot_iters = pd.DataFrame(\n",
    "    data=boot_iters, \n",
    "    columns=['cell'+str(i) for i in range(1,nc+1)],\n",
    "    index=['bs'+str(i) if i > 0 else 'obs' for i in range(nb+1)])\n",
    "\n",
    "boot_iters_freq = []\n",
    "for i in range(nb+1):\n",
    "    a = np.bincount(boot_iters.iloc[i, :].values)\n",
    "    a = np.concatenate([a, np.zeros(8-a.shape[0])])\n",
    "    boot_iters_freq.append(a)\n",
    "boot_iters_freq = np.vstack(boot_iters_freq)\n",
    "boot_iters_freq = pd.DataFrame(\n",
    "    data=boot_iters_freq, \n",
    "    columns=['freq'+str(i) for i in range(boot_iters_freq.shape[1])],\n",
    "    index=['bs'+str(i) if i > 0 else 'obs' for i in range(nb+1)])"
   ]
  },
  {
   "cell_type": "code",
   "execution_count": 142,
   "metadata": {},
   "outputs": [
    {
     "data": {
      "text/plain": [
       "2"
      ]
     },
     "execution_count": 142,
     "metadata": {},
     "output_type": "execute_result"
    }
   ],
   "source": [
    "boot_iters.max().max()"
   ]
  },
  {
   "cell_type": "code",
   "execution_count": 157,
   "metadata": {},
   "outputs": [
    {
     "data": {
      "image/png": "[encoded data removed]",
      "text/plain": [
       "<Figure size 288x72 with 1 Axes>"
      ]
     },
     "metadata": {},
     "output_type": "display_data"
    }
   ],
   "source": [
    "plt.figure(figsize=(4, 1))\n",
    "sns.heatmap(boot_iters, vmax=2, cbar=None)\n",
    "plt.xticks([])\n",
    "plt.yticks([])\n",
    "plt.ylabel('bootstrap\\niteration')\n",
    "plt.xlabel('cells')\n",
    "plt.savefig('bootstrap_naive.pdf', bbox_inches='tight')"
   ]
  },
  {
   "cell_type": "code",
   "execution_count": 159,
   "metadata": {},
   "outputs": [
    {
     "data": {
      "image/png": "[encoded data removed]",
      "text/plain": [
       "<Figure size 43.2x72 with 1 Axes>"
      ]
     },
     "metadata": {},
     "output_type": "display_data"
    }
   ],
   "source": [
    "plt.figure(figsize=(0.6, 1))\n",
    "\n",
    "sns.heatmap(boot_iters_freq.iloc[:, :3], cbar=None, cmap='Spectral', center=0, vmin=5)\n",
    "plt.xticks([])\n",
    "plt.yticks([])\n",
    "plt.ylabel('bootstrap\\niteration')\n",
    "plt.xlabel('transcript\\ncounts')\n",
    "plt.savefig('bootstrap_fast.pdf', bbox_inches='tight')"
   ]
  },
  {
   "cell_type": "code",
   "execution_count": 64,
   "metadata": {},
   "outputs": [],
   "source": [
    "boot_iters_freq.to_csv('fast_bs.csv')\n",
    "boot_iters.to_csv('naive_bs.csv')"
   ]
  }
 ],
 "metadata": {
  "kernelspec": {
   "display_name": "Python 3 (ipykernel)",
   "language": "python",
   "name": "python3"
  },
  "language_info": {
   "codemirror_mode": {
    "name": "ipython",
    "version": 3
   },
   "file_extension": ".py",
   "mimetype": "text/x-python",
   "name": "python",
   "nbconvert_exporter": "python",
   "pygments_lexer": "ipython3",
   "version": "3.8.8"
  }
 },
 "nbformat": 4,
 "nbformat_minor": 4
}
