{
 "cells": [
  {
   "cell_type": "markdown",
   "metadata": {},
   "source": [
    "# scMeMo implementation scratch notebook\n",
    "\n",
    "Demonstrating differential expression between cell types and the effect of interferon stimulation within a cell type (CD4 T cells)."
   ]
  },
  {
   "cell_type": "code",
   "execution_count": 1,
   "metadata": {},
   "outputs": [],
   "source": [
    "import pandas as pd\n",
    "import matplotlib.pyplot as plt\n",
    "import scanpy as sc\n",
    "import scipy as sp\n",
    "import itertools\n",
    "import numpy as np\n",
    "import scipy.stats as stats\n",
    "from scipy.integrate import dblquad\n",
    "import seaborn as sns\n",
    "from statsmodels.stats.multitest import fdrcorrection\n",
    "import imp\n",
    "pd.options.display.max_rows = 999\n",
    "pd.set_option('display.max_colwidth', -1)\n",
    "import pickle as pkl\n",
    "import time"
   ]
  },
  {
   "cell_type": "code",
   "execution_count": 2,
   "metadata": {},
   "outputs": [],
   "source": [
    "%matplotlib inline"
   ]
  },
  {
   "cell_type": "code",
   "execution_count": 3,
   "metadata": {},
   "outputs": [],
   "source": [
    "import matplotlib.pylab as pylab\n",
    "params = {'legend.fontsize': 'small',\n",
    "         'axes.labelsize': 'medium',\n",
    "         'axes.titlesize':'medium',\n",
    "         'figure.titlesize':'medium',\n",
    "         'xtick.labelsize':'small',\n",
    "         'ytick.labelsize':'small'}\n",
    "pylab.rcParams.update(params)\n"
   ]
  },
  {
   "cell_type": "code",
   "execution_count": 4,
   "metadata": {},
   "outputs": [],
   "source": [
    "import matplotlib\n",
    "matplotlib.rcParams['pdf.fonttype'] = 42\n",
    "matplotlib.rcParams['ps.fonttype'] = 42"
   ]
  },
  {
   "cell_type": "code",
   "execution_count": 5,
   "metadata": {},
   "outputs": [],
   "source": [
    "import warnings\n",
    "warnings.filterwarnings('ignore')"
   ]
  },
  {
   "cell_type": "code",
   "execution_count": 6,
   "metadata": {},
   "outputs": [],
   "source": [
    "from sklearn.decomposition import PCA"
   ]
  },
  {
   "cell_type": "code",
   "execution_count": 7,
   "metadata": {},
   "outputs": [],
   "source": [
    "from sklearn.preprocessing import StandardScaler"
   ]
  },
  {
   "cell_type": "code",
   "execution_count": 10,
   "metadata": {},
   "outputs": [],
   "source": [
    "import sys\n",
    "sys.path.append('/home/mkim7/Github/scrna-parameter-estimation/scmemo')\n",
    "import scmemo, utils"
   ]
  },
  {
   "cell_type": "code",
   "execution_count": 11,
   "metadata": {},
   "outputs": [],
   "source": [
    "data_path = '/data/parameter_estimation/interferon_data/20200412/'\n",
    "# data_path = '/Users/mincheolkim/Google Drive/UCSF/research/parameter_estimation/parameter_estimation_paper/interferon_04_25_2020/'"
   ]
  },
  {
   "cell_type": "markdown",
   "metadata": {},
   "source": [
    "### Perform some basic filtering"
   ]
  },
  {
   "cell_type": "code",
   "execution_count": 12,
   "metadata": {},
   "outputs": [],
   "source": [
    "def simplify_name(name):\n",
    "    return name.split('.')[0]"
   ]
  },
  {
   "cell_type": "code",
   "execution_count": 13,
   "metadata": {},
   "outputs": [],
   "source": [
    "adata = sc.read(data_path + 'interferon.h5ad')\n",
    "#adata = adata[:, adata.var.index.map(lambda x: x[:2] != 'HB')]"
   ]
  },
  {
   "cell_type": "raw",
   "metadata": {},
   "source": [
    "temp = pd.DataFrame(data=adata.X.todense())"
   ]
  },
  {
   "cell_type": "raw",
   "metadata": {},
   "source": [
    "num_unique = temp.nunique()"
   ]
  },
  {
   "cell_type": "code",
   "execution_count": 14,
   "metadata": {},
   "outputs": [],
   "source": [
    "#adata = sc.read(data_path + 'interferon.h5ad')\n",
    "adata.obs['n_counts'] = adata.X.sum(axis=1)\n",
    "\n",
    "adata.var['n_max'] = adata.X.max(axis=0).toarray()[0]\n",
    "adata.var['n_cell'] = (adata.X > 0).sum(axis=0).A1\n",
    "#adata.var['unique_count'] = num_unique.values\n",
    "\n",
    "# Filter criteria\n",
    "adata = adata[:, adata.var['n_max'] > 20].copy()\n",
    "\n",
    "\n"
   ]
  },
  {
   "cell_type": "raw",
   "metadata": {},
   "source": [
    "known_gene_df = pd.read_csv(data_path + 'chipseq/gene_locations_2.bed', header=0, sep='\\t')#[[4, 5]]\n",
    "known_gene_df['gene_name'] = known_gene_df['transcript'].apply(simplify_name)\n",
    "known_gene_df['gene_ids'] = known_gene_df['protein'].apply(simplify_name)"
   ]
  },
  {
   "cell_type": "raw",
   "metadata": {},
   "source": [
    "new_var = adata.var.merge(known_gene_df, on='gene_ids', how='left')\n",
    "new_var.index = adata.var.index\n",
    "adata.var = new_var.copy()"
   ]
  },
  {
   "cell_type": "code",
   "execution_count": 15,
   "metadata": {},
   "outputs": [
    {
     "data": {
      "text/plain": [
       "CD4 T cells          12033\n",
       "CD14+ Monocytes      6447 \n",
       "B cells              2880 \n",
       "CD8 T cells          2634 \n",
       "NK cells             2330 \n",
       "FCGR3A+ Monocytes    1914 \n",
       "Dendritic cells      472  \n",
       "Megakaryocytes       346  \n",
       "nan                  9    \n",
       "Name: cell, dtype: int64"
      ]
     },
     "execution_count": 15,
     "metadata": {},
     "output_type": "execute_result"
    }
   ],
   "source": [
    "adata.obs.cell.value_counts()"
   ]
  },
  {
   "cell_type": "code",
   "execution_count": 16,
   "metadata": {},
   "outputs": [],
   "source": [
    "adata.obs['cell_type'] = (adata.obs['cell'].astype(str) + ' - ' + adata.obs['stim'].astype(str)).astype('category')"
   ]
  },
  {
   "cell_type": "code",
   "execution_count": 17,
   "metadata": {},
   "outputs": [
    {
     "data": {
      "text/html": [
       "<div>\n",
       "<style scoped>\n",
       "    .dataframe tbody tr th:only-of-type {\n",
       "        vertical-align: middle;\n",
       "    }\n",
       "\n",
       "    .dataframe tbody tr th {\n",
       "        vertical-align: top;\n",
       "    }\n",
       "\n",
       "    .dataframe thead th {\n",
       "        text-align: right;\n",
       "    }\n",
       "</style>\n",
       "<table border=\"1\" class=\"dataframe\">\n",
       "  <thead>\n",
       "    <tr style=\"text-align: right;\">\n",
       "      <th></th>\n",
       "      <th>tsne1</th>\n",
       "      <th>tsne2</th>\n",
       "      <th>ind</th>\n",
       "      <th>stim</th>\n",
       "      <th>cluster</th>\n",
       "      <th>cell</th>\n",
       "      <th>multiplets</th>\n",
       "      <th>n_counts</th>\n",
       "      <th>cell_type</th>\n",
       "    </tr>\n",
       "    <tr>\n",
       "      <th>index</th>\n",
       "      <th></th>\n",
       "      <th></th>\n",
       "      <th></th>\n",
       "      <th></th>\n",
       "      <th></th>\n",
       "      <th></th>\n",
       "      <th></th>\n",
       "      <th></th>\n",
       "      <th></th>\n",
       "    </tr>\n",
       "  </thead>\n",
       "  <tbody>\n",
       "    <tr>\n",
       "      <th>AAACATACAATGCC-1</th>\n",
       "      <td>-4.277833</td>\n",
       "      <td>-19.294709</td>\n",
       "      <td>107</td>\n",
       "      <td>ctrl</td>\n",
       "      <td>5</td>\n",
       "      <td>CD4 T cells</td>\n",
       "      <td>doublet</td>\n",
       "      <td>2191.0</td>\n",
       "      <td>CD4 T cells - ctrl</td>\n",
       "    </tr>\n",
       "    <tr>\n",
       "      <th>AAACATACATTTCC-1</th>\n",
       "      <td>-27.640373</td>\n",
       "      <td>14.966629</td>\n",
       "      <td>1016</td>\n",
       "      <td>ctrl</td>\n",
       "      <td>9</td>\n",
       "      <td>CD14+ Monocytes</td>\n",
       "      <td>singlet</td>\n",
       "      <td>3018.0</td>\n",
       "      <td>CD14+ Monocytes - ctrl</td>\n",
       "    </tr>\n",
       "    <tr>\n",
       "      <th>AAACATACCAGAAA-1</th>\n",
       "      <td>-27.493646</td>\n",
       "      <td>28.924885</td>\n",
       "      <td>1256</td>\n",
       "      <td>ctrl</td>\n",
       "      <td>9</td>\n",
       "      <td>CD14+ Monocytes</td>\n",
       "      <td>singlet</td>\n",
       "      <td>2481.0</td>\n",
       "      <td>CD14+ Monocytes - ctrl</td>\n",
       "    </tr>\n",
       "    <tr>\n",
       "      <th>AAACATACCAGCTA-1</th>\n",
       "      <td>-28.132584</td>\n",
       "      <td>24.925484</td>\n",
       "      <td>1256</td>\n",
       "      <td>ctrl</td>\n",
       "      <td>9</td>\n",
       "      <td>CD14+ Monocytes</td>\n",
       "      <td>doublet</td>\n",
       "      <td>3157.0</td>\n",
       "      <td>CD14+ Monocytes - ctrl</td>\n",
       "    </tr>\n",
       "    <tr>\n",
       "      <th>AAACATACCATGCA-1</th>\n",
       "      <td>-10.468194</td>\n",
       "      <td>-5.984389</td>\n",
       "      <td>1488</td>\n",
       "      <td>ctrl</td>\n",
       "      <td>3</td>\n",
       "      <td>CD4 T cells</td>\n",
       "      <td>singlet</td>\n",
       "      <td>703.0</td>\n",
       "      <td>CD4 T cells - ctrl</td>\n",
       "    </tr>\n",
       "  </tbody>\n",
       "</table>\n",
       "</div>"
      ],
      "text/plain": [
       "                      tsne1      tsne2   ind  stim cluster             cell  \\\n",
       "index                                                                         \n",
       "AAACATACAATGCC-1 -4.277833  -19.294709  107   ctrl  5       CD4 T cells       \n",
       "AAACATACATTTCC-1 -27.640373  14.966629  1016  ctrl  9       CD14+ Monocytes   \n",
       "AAACATACCAGAAA-1 -27.493646  28.924885  1256  ctrl  9       CD14+ Monocytes   \n",
       "AAACATACCAGCTA-1 -28.132584  24.925484  1256  ctrl  9       CD14+ Monocytes   \n",
       "AAACATACCATGCA-1 -10.468194 -5.984389   1488  ctrl  3       CD4 T cells       \n",
       "\n",
       "                 multiplets  n_counts               cell_type  \n",
       "index                                                          \n",
       "AAACATACAATGCC-1  doublet    2191.0    CD4 T cells - ctrl      \n",
       "AAACATACATTTCC-1  singlet    3018.0    CD14+ Monocytes - ctrl  \n",
       "AAACATACCAGAAA-1  singlet    2481.0    CD14+ Monocytes - ctrl  \n",
       "AAACATACCAGCTA-1  doublet    3157.0    CD14+ Monocytes - ctrl  \n",
       "AAACATACCATGCA-1  singlet    703.0     CD4 T cells - ctrl      "
      ]
     },
     "execution_count": 17,
     "metadata": {},
     "output_type": "execute_result"
    }
   ],
   "source": [
    "adata.obs.head(5)"
   ]
  },
  {
   "cell_type": "code",
   "execution_count": 18,
   "metadata": {},
   "outputs": [
    {
     "name": "stderr",
     "output_type": "stream",
     "text": [
      "... storing 'ind' as categorical\n",
      "... storing 'stim' as categorical\n",
      "... storing 'cluster' as categorical\n",
      "... storing 'cell' as categorical\n",
      "... storing 'multiplets' as categorical\n"
     ]
    }
   ],
   "source": [
    "sc.pl.tsne(adata, color='cell_type')"
   ]
  },
  {
   "cell_type": "code",
   "execution_count": 19,
   "metadata": {},
   "outputs": [
    {
     "name": "stdout",
     "output_type": "stream",
     "text": [
      "Number of genes kept: 365\n"
     ]
    }
   ],
   "source": [
    "print('Number of genes kept:', adata.shape[1])"
   ]
  },
  {
   "cell_type": "markdown",
   "metadata": {},
   "source": [
    "### TFKO_140 Dataset sanity check"
   ]
  },
  {
   "cell_type": "raw",
   "metadata": {},
   "source": [
    "tfko_adata = sc.read(data_path + '../../../tfko_140/single_cell/tfko.sng.guides.full.leiden.h5ad')"
   ]
  },
  {
   "cell_type": "raw",
   "metadata": {},
   "source": [
    "tfko_adata_means = tfko_adata.X.mean(axis=0).A1\n",
    "tfko_adata = tfko_adata[:, tfko_adata_means > 0].copy()"
   ]
  },
  {
   "cell_type": "raw",
   "metadata": {},
   "source": [
    "tfko_adata_vars = (tfko_adata.X.power(2).mean(axis=0).A1) - (tfko_adata.X.mean(axis=0).A1)**2"
   ]
  },
  {
   "cell_type": "raw",
   "metadata": {},
   "source": [
    "x_tfko = np.log(tfko_adata_means)\n",
    "y_tfko = np.log(tfko_adata_vars)"
   ]
  },
  {
   "cell_type": "raw",
   "metadata": {},
   "source": [
    "plt.scatter(x_tfko, y_tfko/2-x_tfko, s=1)\n",
    "plt.plot(x_tfko, -x_tfko/2, lw=2, color='r')"
   ]
  },
  {
   "cell_type": "raw",
   "metadata": {},
   "source": [
    "del tfko_adata"
   ]
  },
  {
   "cell_type": "markdown",
   "metadata": {},
   "source": [
    "### Qualitatively assess estimation of q_sq in the interferon data"
   ]
  },
  {
   "cell_type": "code",
   "execution_count": 108,
   "metadata": {},
   "outputs": [
    {
     "name": "stdout",
     "output_type": "stream",
     "text": [
      "\n",
      "Optimization terminated successfully;\n",
      "The returned value satisfies the termination criteria\n",
      "(using xtol =  1e-05 )\n",
      "E[q^2] falls in [0.00490, 0.00667941], with the current estimate of 0.00665600\n"
     ]
    }
   ],
   "source": [
    "imp.reload(utils)\n",
    "imp.reload(scmemo)\n",
    "estimator = scmemo.SingleCellEstimator(\n",
    "    adata=adata,\n",
    "    n_umis_column='n_counts',\n",
    "    covariate_label='stim',\n",
    "    replicate_label='ind',\n",
    "    batch_label=None,\n",
    "    subsection_label='cell',\n",
    "    num_permute=10000,\n",
    "    covariate_converter={'ctrl':0, 'stim':1},\n",
    "    q=.07)\n",
    "\n",
    "estimator.compute_observed_moments(verbose=False)\n",
    "estimator.estimate_q_sq(frac=0.3, verbose=True)\n",
    "estimator.estimate_1d_parameters()\n",
    "\n",
    "x_obs = np.log(estimator.observed_central_moments['all']['first'])\n",
    "y_obs = np.log(estimator.observed_central_moments['all']['second'])\n",
    "\n",
    "x_est = np.log(estimator.estimated_central_moments['all']['first'])\n",
    "y_est = np.log(estimator.estimated_central_moments['all']['second'])"
   ]
  },
  {
   "cell_type": "code",
   "execution_count": 109,
   "metadata": {},
   "outputs": [],
   "source": [
    "%matplotlib inline"
   ]
  },
  {
   "cell_type": "code",
   "execution_count": 111,
   "metadata": {},
   "outputs": [
    {
     "data": {
      "text/plain": [
       "Text(0, 0.5, 'log( estimated cv )')"
      ]
     },
     "execution_count": 111,
     "metadata": {},
     "output_type": "execute_result"
    },
    {
     "data": {
      "image/png": "[encoded data removed]",
      "text/plain": [
       "<Figure size 576x216 with 2 Axes>"
      ]
     },
     "metadata": {
      "image/png": {
       "height": 237,
       "width": 523
      },
      "needs_background": "light"
     },
     "output_type": "display_data"
    }
   ],
   "source": [
    "plt.figure(figsize=(8, 3));\n",
    "plt.subplots_adjust(wspace=0.4)\n",
    "plt.subplot(1, 2, 1)\n",
    "estimator.plot_cv_mean_curve('all', estimated=False, plot_noise=True)\n",
    "plt.subplot(1, 2, 2)\n",
    "plt.scatter(x_est, y_est/2-x_est, s=1, alpha=0.5)\n",
    "plt.scatter(x_est[estimator.k_largest_indices], y_est[estimator.k_largest_indices]/2-x_est[estimator.k_largest_indices], s=1, alpha=0.5)\n",
    "plt.plot(x_est, -x_est/2, color='k')\n",
    "plt.title('Estimated mean - cv relationship')\n",
    "plt.xlabel('log( estimated mean )')\n",
    "plt.ylabel('log( estimated cv )')"
   ]
  },
  {
   "cell_type": "markdown",
   "metadata": {},
   "source": [
    "### Scratch"
   ]
  },
  {
   "cell_type": "code",
   "execution_count": 211,
   "metadata": {},
   "outputs": [],
   "source": [
    "imp.reload(utils)\n",
    "imp.reload(scmemo)\n",
    "estimator = scmemo.SingleCellEstimator(\n",
    "    adata=adata,\n",
    "    n_umis_column='n_counts',\n",
    "    covariate_label='stim',\n",
    "    replicate_label='ind',\n",
    "    batch_label=None,\n",
    "    subsection_label='cell',\n",
    "    num_permute=10000,\n",
    "    covariate_converter={'ctrl':0, 'stim':1},\n",
    "    q=.07)\n",
    "estimator.compute_observed_moments(verbose=False)\n",
    "estimator.q_sq = 0.00665600"
   ]
  },
  {
   "cell_type": "code",
   "execution_count": 212,
   "metadata": {},
   "outputs": [],
   "source": [
    "estimator.setup_hypothesis_testing(subsections=['CD4 T cells'])\n"
   ]
  },
  {
   "cell_type": "code",
   "execution_count": 214,
   "metadata": {},
   "outputs": [
    {
     "data": {
      "text/plain": [
       "(29065, 365)"
      ]
     },
     "execution_count": 214,
     "metadata": {},
     "output_type": "execute_result"
    }
   ],
   "source": [
    "adata.shape"
   ]
  },
  {
   "cell_type": "code",
   "execution_count": 213,
   "metadata": {},
   "outputs": [
    {
     "name": "stdout",
     "output_type": "stream",
     "text": [
      "CPU times: user 3min 4s, sys: 20.7 s, total: 3min 25s\n",
      "Wall time: 1min 45s\n"
     ]
    }
   ],
   "source": [
    "%%time\n",
    "estimator.estimate_1d_parameters()\n",
    "estimator.compute_effect_sizes_1d()\n",
    "estimator.compute_confidence_intervals_1d()"
   ]
  },
  {
   "cell_type": "code",
   "execution_count": 205,
   "metadata": {},
   "outputs": [],
   "source": [
    "gene_list_1, gene_list_2 = ['ISG15', 'OAS1'], ['IFI6', 'IFIT1', 'STAT1']\n",
    "estimator.estimate_2d_parameters(gene_list_1, gene_list_2)\n",
    "estimator.compute_effect_sizes_2d(gene_list_1, gene_list_2)\n",
    "estimator.compute_confidence_intervals_2d(gene_list_1, gene_list_2)"
   ]
  },
  {
   "cell_type": "code",
   "execution_count": 207,
   "metadata": {},
   "outputs": [
    {
     "data": {
      "text/plain": [
       "matrix([[8.9991000e-03, 1.0680249e-05, 4.9034934e-06],\n",
       "        [7.9992004e-03, 2.9319018e-04, 2.7997200e-03]], dtype=float32)"
      ]
     },
     "execution_count": 207,
     "metadata": {},
     "output_type": "execute_result"
    }
   ],
   "source": [
    "gene_idx_1 = estimator._get_gene_idxs(gene_list_1)\n",
    "gene_idx_2 = estimator._get_gene_idxs(gene_list_2)\n",
    "estimator.hypothesis_test_result['CD4 T cells']['dc_pval'][gene_idx_1[:, np.newaxis], gene_idx_2].todense()"
   ]
  },
  {
   "cell_type": "code",
   "execution_count": null,
   "metadata": {},
   "outputs": [],
   "source": []
  },
  {
   "cell_type": "code",
   "execution_count": null,
   "metadata": {},
   "outputs": [],
   "source": []
  },
  {
   "cell_type": "code",
   "execution_count": null,
   "metadata": {},
   "outputs": [],
   "source": []
  },
  {
   "cell_type": "code",
   "execution_count": 198,
   "metadata": {},
   "outputs": [],
   "source": [
    "gene_idx_1 = estimator._get_gene_idxs(gene_list_1)\n",
    "gene_idx_2 = estimator._get_gene_idxs(gene_list_2)"
   ]
  },
  {
   "cell_type": "code",
   "execution_count": 181,
   "metadata": {},
   "outputs": [],
   "source": [
    "temp = estimator.parameters['sg^ctrl^107^default_batch^CD4 T cells']['corr']#[gene_idx_1, :][:, gene_idx_2]#.toarray()"
   ]
  },
  {
   "cell_type": "code",
   "execution_count": 184,
   "metadata": {},
   "outputs": [
    {
     "data": {
      "text/plain": [
       "array([[-0.18409139, -0.10855811],\n",
       "       [ 0.18352777, -0.05938095],\n",
       "       [-0.14708965,  1.        ]], dtype=float32)"
      ]
     },
     "execution_count": 184,
     "metadata": {},
     "output_type": "execute_result"
    }
   ],
   "source": [
    "temp[gene_idx_1[:, np.newaxis], gene_idx_2].toarray()"
   ]
  },
  {
   "cell_type": "code",
   "execution_count": 169,
   "metadata": {},
   "outputs": [
    {
     "data": {
      "text/plain": [
       "array([-0.18409139, -0.10855811,  0.18352777, -0.05938095, -0.14708965,\n",
       "        1.        ], dtype=float32)"
      ]
     },
     "execution_count": 169,
     "metadata": {},
     "output_type": "execute_result"
    }
   ],
   "source": [
    "temp.ravel()"
   ]
  },
  {
   "cell_type": "code",
   "execution_count": 171,
   "metadata": {},
   "outputs": [
    {
     "data": {
      "text/plain": [
       "array([[-0.18409139, -0.10855811],\n",
       "       [ 0.18352777, -0.05938095],\n",
       "       [-0.14708965,  1.        ]], dtype=float32)"
      ]
     },
     "execution_count": 171,
     "metadata": {},
     "output_type": "execute_result"
    }
   ],
   "source": [
    "temp.reshape(3, 2)"
   ]
  },
  {
   "cell_type": "code",
   "execution_count": null,
   "metadata": {},
   "outputs": [],
   "source": []
  }
 ],
 "metadata": {
  "kernelspec": {
   "display_name": "Python 3",
   "language": "python",
   "name": "python3"
  },
  "language_info": {
   "codemirror_mode": {
    "name": "ipython",
    "version": 3
   },
   "file_extension": ".py",
   "mimetype": "text/x-python",
   "name": "python",
   "nbconvert_exporter": "python",
   "pygments_lexer": "ipython3",
   "version": "3.7.7"
  }
 },
 "nbformat": 4,
 "nbformat_minor": 4
}
