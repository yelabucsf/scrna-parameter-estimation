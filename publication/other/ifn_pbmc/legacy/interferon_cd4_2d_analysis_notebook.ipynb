{
 "cells": [
  {
   "cell_type": "markdown",
   "metadata": {},
   "source": [
    "# Interferon beta stim and genetic perturbations cause changes in gene-gene correlation\n",
    "\n",
    "Demonstrating differential expression between cell types and the effect of interferon stimulation within a cell type (CD4 T cells)."
   ]
  },
  {
   "cell_type": "code",
   "execution_count": 267,
   "metadata": {},
   "outputs": [],
   "source": [
    "import pandas as pd\n",
    "import matplotlib.pyplot as plt\n",
    "import scanpy as sc\n",
    "import scipy as sp\n",
    "import itertools\n",
    "import numpy as np\n",
    "import scipy.stats as stats\n",
    "from scipy.integrate import dblquad\n",
    "import seaborn as sns\n",
    "from statsmodels.stats.multitest import fdrcorrection\n",
    "import imp\n",
    "pd.options.display.max_rows = 999\n",
    "pd.set_option('display.max_colwidth', -1)\n",
    "import pickle as pkl\n",
    "import time"
   ]
  },
  {
   "cell_type": "code",
   "execution_count": 268,
   "metadata": {},
   "outputs": [
    {
     "data": {
      "text/html": [
       "<style>.container { width:100% !important; }</style>"
      ],
      "text/plain": [
       "<IPython.core.display.HTML object>"
      ]
     },
     "metadata": {},
     "output_type": "display_data"
    }
   ],
   "source": [
    "%matplotlib inline\n",
    "from IPython.core.display import display, HTML\n",
    "display(HTML(\"<style>.container { width:100% !important; }</style>\"))"
   ]
  },
  {
   "cell_type": "code",
   "execution_count": 269,
   "metadata": {},
   "outputs": [],
   "source": [
    "import matplotlib.pylab as pylab\n",
    "params = {'legend.fontsize': 'x-large',\n",
    "         'axes.labelsize': 'x-large',\n",
    "         'axes.titlesize':'x-large',\n",
    "         'figure.titlesize':'xx-large',\n",
    "         'xtick.labelsize':'x-large',\n",
    "         'ytick.labelsize':'x-large'}\n",
    "pylab.rcParams.update(params)\n"
   ]
  },
  {
   "cell_type": "code",
   "execution_count": 270,
   "metadata": {},
   "outputs": [],
   "source": [
    "import warnings\n",
    "warnings.filterwarnings('ignore')"
   ]
  },
  {
   "cell_type": "code",
   "execution_count": 271,
   "metadata": {},
   "outputs": [],
   "source": [
    "from sklearn.decomposition import PCA"
   ]
  },
  {
   "cell_type": "code",
   "execution_count": 272,
   "metadata": {},
   "outputs": [],
   "source": [
    "from sklearn.preprocessing import StandardScaler"
   ]
  },
  {
   "cell_type": "code",
   "execution_count": 273,
   "metadata": {},
   "outputs": [],
   "source": [
    "import sys\n",
    "sys.path.append('/home/mkim7/Github/scrna-parameter-estimation/simplesc')\n",
    "import scme, utils"
   ]
  },
  {
   "cell_type": "code",
   "execution_count": 274,
   "metadata": {},
   "outputs": [],
   "source": [
    "data_path = '/data/parameter_estimation/'"
   ]
  },
  {
   "cell_type": "markdown",
   "metadata": {},
   "source": [
    "### Plotting function"
   ]
  },
  {
   "cell_type": "code",
   "execution_count": 275,
   "metadata": {},
   "outputs": [],
   "source": [
    "def plot_2d_discrete(data, size_multiplier=10, offset=0.0):\n",
    "    \"\"\" Plotting discrete 2D data according to the frequency. \"\"\"\n",
    "    \n",
    "    df = pd.DataFrame(data).groupby([0, 1]).size().reset_index(name='count')\n",
    "    df['log_count'] = np.log(df['count'])\n",
    "    \n",
    "    plt.scatter(df[0]+offset, df[1]+offset, s=df['log_count']*size_multiplier)    \n",
    "    "
   ]
  },
  {
   "cell_type": "markdown",
   "metadata": {},
   "source": [
    "### Read the IFN AnnData object"
   ]
  },
  {
   "cell_type": "code",
   "execution_count": 276,
   "metadata": {},
   "outputs": [
    {
     "name": "stderr",
     "output_type": "stream",
     "text": [
      "Trying to set attribute `.obs` of view, making a copy.\n"
     ]
    }
   ],
   "source": [
    "ifn_adata = sc.read(data_path + 'interferon_data/interferon.raw.h5ad')\n",
    "ifn_adata = ifn_adata[:, ifn_adata.var.index.map(lambda x: x[:2] != 'HB')]\n",
    "ifn_adata.obs['cell_type'] = (ifn_adata.obs['cell'].astype(str) + ' - ' + ifn_adata.obs['stim'].astype(str)).astype('category')"
   ]
  },
  {
   "cell_type": "markdown",
   "metadata": {},
   "source": [
    "### Read CD4 AnnData object"
   ]
  },
  {
   "cell_type": "code",
   "execution_count": 277,
   "metadata": {},
   "outputs": [],
   "source": [
    "cd4_adata = sc.read(data_path + 'cd4_cropseq_data/guide_singlets.h5ad')"
   ]
  },
  {
   "cell_type": "markdown",
   "metadata": {},
   "source": [
    "### Figure out which genes to test for correlation using CD4 data\n",
    "\n",
    "Only pick genes that have > 10% cells expressing the gene"
   ]
  },
  {
   "cell_type": "code",
   "execution_count": 565,
   "metadata": {},
   "outputs": [],
   "source": [
    "cd4_adata.obs['target_regulator'] = cd4_adata.obs['guide1_cov'].apply(lambda x: x.split('.')[0])"
   ]
  },
  {
   "cell_type": "code",
   "execution_count": 566,
   "metadata": {},
   "outputs": [],
   "source": [
    "ko_genes = cd4_adata.obs['target_regulator']"
   ]
  },
  {
   "cell_type": "code",
   "execution_count": 567,
   "metadata": {},
   "outputs": [],
   "source": [
    "# Filter for genes in the IFN dataset\n",
    "genes_to_test = list(set(ifn_adata.var.index.tolist()) & set(cd4_adata.obs['target_regulator'].tolist()))"
   ]
  },
  {
   "cell_type": "code",
   "execution_count": 568,
   "metadata": {},
   "outputs": [],
   "source": [
    "# Read the immune genes we filtered previously\n",
    "with open(data_path + 'interferon_data/immune_genes.pkl', 'rb') as f:\n",
    "    immune_genes = pkl.load(f)"
   ]
  },
  {
   "cell_type": "code",
   "execution_count": 569,
   "metadata": {},
   "outputs": [],
   "source": [
    "# Pick genes that have a fairly high expression\n",
    "ko_gene_to_test = [gene for gene in genes_to_test if (cd4_adata[:, gene].X > 0).sum() / cd4_adata.shape[0] > 0.1]\n",
    "immune_gene_to_test = [gene for gene in immune_genes if (cd4_adata[:, gene].X > 0).sum() / cd4_adata.shape[0] > 0.1]"
   ]
  },
  {
   "cell_type": "code",
   "execution_count": 570,
   "metadata": {},
   "outputs": [],
   "source": [
    "with open(data_path + 'interferon_data/immune_genes_to_test.pkl', 'wb') as f:\n",
    "    pkl.dump(immune_gene_to_test, f)\n",
    "with open(data_path + 'cd4_cropseq_data/ko_genes_to_test.pkl', 'wb') as f:\n",
    "    pkl.dump(ko_gene_to_test, f)"
   ]
  },
  {
   "cell_type": "markdown",
   "metadata": {},
   "source": [
    "### Function for summarizing DC results"
   ]
  },
  {
   "cell_type": "code",
   "execution_count": 771,
   "metadata": {},
   "outputs": [],
   "source": [
    "def organize_dc_result(result, adata):\n",
    "    \n",
    "    idxs_1 = result['gene_idx_1']\n",
    "    idxs_2 = result['gene_idx_2']\n",
    "    \n",
    "    gene_pair_idx = np.array(list(itertools.product(range(len(idxs_1)), range(len(idxs_2)))))\n",
    "    \n",
    "    df = pd.DataFrame(\n",
    "        data=list(zip(\n",
    "            adata.var.index[idxs_1[gene_pair_idx[:, 0]]], \n",
    "            adata.var.index[idxs_2[gene_pair_idx[:, 1]]],\n",
    "            result['corr_1'][gene_pair_idx[:, 0], gene_pair_idx[:, 1]],\n",
    "            result['corr_2'][gene_pair_idx[:, 0], gene_pair_idx[:, 1]],\n",
    "            result['dc_pval'][gene_pair_idx[:, 0], gene_pair_idx[:, 1]],\n",
    "            result['dc_fdr'][gene_pair_idx[:, 0], gene_pair_idx[:, 1]])),\n",
    "        columns=['gene_1', 'gene_2', 'corr_1', 'corr_2', 'pval', 'fdr'])\n",
    "    \n",
    "    return df\n",
    "def organize_1d_result(result, adata):\n",
    "    \n",
    "    df = pd.DataFrame()\n",
    "    df['gene'] = adata.var.index.tolist()\n",
    "    df['de_diff'] = result['de_diff']\n",
    "    df['de_pval'] = result['de_pval']\n",
    "    df['de_fdr'] = result['de_fdr']\n",
    "    df['dv_pval'] = result['dv_pval']\n",
    "    df['dv_fdr'] = result['dv_fdr']\n",
    "    return df"
   ]
  },
  {
   "cell_type": "code",
   "execution_count": 772,
   "metadata": {},
   "outputs": [],
   "source": [
    "ct = 'CD4 T cells'"
   ]
  },
  {
   "cell_type": "code",
   "execution_count": 801,
   "metadata": {},
   "outputs": [],
   "source": [
    "with open(data_path + 'interferon_data/stim_effect_1d_moments.pkl', 'rb') as f:\n",
    "    ifn_moment_dict_1d = pkl.load(f)\n",
    "with open(data_path + 'interferon_data/stim_effect_2d.pkl', 'rb') as f:\n",
    "    ifn_dc_result = pkl.load(f)\n",
    "with open(data_path + 'interferon_data/stim_effect_1d.pkl', 'rb') as f:\n",
    "    ifn_de_dv_result = pkl.load(f)\n",
    "with open(data_path + 'interferon_data/stim_effect_ci_2d.pkl', 'rb') as f:\n",
    "    ifn_corr_ci = pkl.load(f)"
   ]
  },
  {
   "cell_type": "code",
   "execution_count": 804,
   "metadata": {},
   "outputs": [],
   "source": [
    "ifn_dc_df = organize_dc_result(ifn_dc_result[(ct + ' - ctrl', ct + ' - stim')], ifn_adata)\n",
    "#ifn_dc_df = ifn_dc_df.query('fdr < 0.2')\n",
    "ifn_regulators = ifn_dc_df['gene_1'].drop_duplicates().tolist()"
   ]
  },
  {
   "cell_type": "markdown",
   "metadata": {},
   "source": [
    "### Find examples of DC without DE"
   ]
  },
  {
   "cell_type": "code",
   "execution_count": 786,
   "metadata": {},
   "outputs": [],
   "source": [
    "ifn_1d_df = organize_1d_result(ifn_de_dv_result[(ct + ' - ctrl', ct + ' - stim')], ifn_adata)\n",
    "nonsig_1d = ifn_1d_df.query('de_fdr > 0.1')"
   ]
  },
  {
   "cell_type": "code",
   "execution_count": 787,
   "metadata": {},
   "outputs": [],
   "source": [
    "#ifn_dc_df = ifn_dc_df[ifn_dc_df['gene_1'].isin(nonsig_1d.gene.tolist())]"
   ]
  },
  {
   "cell_type": "markdown",
   "metadata": {},
   "source": [
    "### Read CD4 2D result"
   ]
  },
  {
   "cell_type": "code",
   "execution_count": 895,
   "metadata": {},
   "outputs": [],
   "source": [
    "guides = \\\n",
    "\"\"\"ARID5B.61902410.pkl\n",
    "ARID5B.62050979.pkl\n",
    "ATF4.39521667.pkl\n",
    "ATF4.39521890.pkl\n",
    "BATF.75522739.pkl\n",
    "BATF.75546499.pkl\n",
    "BCLAF1.136278294.pkl\n",
    "BCLAF1.136278663.pkl\n",
    "CEBPZ.37223251.pkl\n",
    "CEBPZ.37228088.pkl\n",
    "CREM.35179264.pkl\n",
    "CREM.35188237.pkl\n",
    "DCP1A.53292521.pkl\n",
    "DCP1A.53338096.pkl\n",
    "DNMT1.10146475.pkl\n",
    "DNMT1.10162681.pkl\n",
    "DPF2.65340430.pkl\n",
    "DPF2.65341049.pkl\n",
    "ETS1.128486081.pkl\n",
    "ETS1.128489368.pkl\n",
    "FOXP1.71015617.pkl\n",
    "FOXP1.71041428.pkl\n",
    "FUS.31183999.pkl\n",
    "FUS.31184329.pkl\n",
    "HDAC3.141628129.pkl\n",
    "HDAC3.141634859.pkl\n",
    "HOPX.56655937.pkl\n",
    "HOPX.56655984.pkl\n",
    "ID2.8682335.pkl\n",
    "ID2.8682404.pkl\n",
    "IKZF1.50376659.pkl\n",
    "IKZF1.50399996.pkl\n",
    "IRF1.132487047.pkl\n",
    "IRF1.132487119.pkl\n",
    "KLF6.3781951.pkl\n",
    "KLF6.3782035.pkl\n",
    "MATR3.139307613.pkl\n",
    "MATR3.139308137.pkl\n",
    "MAZ.29807147.pkl\n",
    "MAZ.29807312.pkl\n",
    "MYC.127738837.pkl\n",
    "MYC.127738942.pkl\n",
    "NCOA4.46010999.pkl\n",
    "NCOA4.46012894.pkl\n",
    "NONO.71294280.pkl\n",
    "NONO.71296973.pkl\n",
    "PARP1.226385581.pkl\n",
    "PARP1.226390562.pkl\n",
    "PHB2.6969554.pkl\n",
    "PHB2.6970441.pkl\n",
    "RBBP7.16857703.pkl\n",
    "RBBP7.16869108.pkl\n",
    "SATB1.18415117.pkl\n",
    "SATB1.18417016.pkl\n",
    "STAT3.42329588.pkl\n",
    "STAT3.42333711.pkl\n",
    "STAT6.57102489.pkl\n",
    "STAT6.57104558.pkl\n",
    "TAF7.141319508.pkl\n",
    "TAF7.141319979.pkl\n",
    "TFAM.58388232.pkl\n",
    "TFAM.58388689.pkl\n",
    "TOX4.21487678.pkl\n",
    "TOX4.21488845.pkl\n",
    "XBP1.28797122.pkl\n",
    "XBP1.28800395.pkl\n",
    "ZC3H15.186501310.pkl\n",
    "ZC3H15.186502553.pkl\n",
    "ZFP36L1.68790062.pkl\n",
    "ZFP36L1.68790159.pkl\n",
    "ZNF146.36236488.pkl\n",
    "ZNF24.35339842.pkl\n",
    "ZNF24.35340244.pkl\n",
    "ZNF593.26170086.pkl\"\"\".split()"
   ]
  },
  {
   "cell_type": "code",
   "execution_count": 896,
   "metadata": {},
   "outputs": [],
   "source": [
    "guides = [g[:-4] for g in guides]\n",
    "cd4_results = {}\n",
    "cd4_ci = {}\n",
    "for g in guides:\n",
    "    \n",
    "    try:\n",
    "        cd4_results[g] = pkl.load(open(data_path + 'cd4_cropseq_data/diff_cor/{}.pkl'.format(g), 'rb'))\n",
    "        cd4_ci[g] = pkl.load(open(data_path + 'cd4_cropseq_data/ko_ci/{}.pkl'.format(g), 'rb'))\n",
    "    except:\n",
    "        continue\n",
    "cd4_df = []\n",
    "for g, res in cd4_results.items():\n",
    "    \n",
    "    df = organize_dc_result(res, cd4_adata)\n",
    "    df['guide'] = g\n",
    "    df['target_gene'] = g.split('.')[0]\n",
    "    cd4_df.append(df)\n",
    "cd4_df = pd.concat(cd4_df)\\\n",
    "    .query('corr_1 < 1 & corr_1 > -1 & corr_2 < 1 & corr_2 > -1')\n",
    "cd4_df = cd4_df[cd4_df['target_gene'].isin(ifn_regulators)].query('fdr < 0.2')\n",
    "cd4_df = cd4_df[cd4_df['corr_1'].abs() > cd4_df['corr_2'].abs()]"
   ]
  },
  {
   "cell_type": "code",
   "execution_count": 897,
   "metadata": {},
   "outputs": [],
   "source": [
    "cd4_ko_counts = cd4_df\\\n",
    "    .groupby(['gene_1', 'gene_2'])\\\n",
    "    .agg({\n",
    "        'target_gene':set,\n",
    "        'corr_1':set,\n",
    "        'corr_2':set})\\\n",
    "    .reset_index()\n",
    "cd4_ko_counts['ko_count'] = cd4_ko_counts['target_gene'].apply(len)\n",
    "cd4_ko_counts = cd4_ko_counts[cd4_ko_counts.apply(lambda row: row['gene_1'] in row['target_gene'], axis=1)]"
   ]
  },
  {
   "cell_type": "markdown",
   "metadata": {},
   "source": [
    "### Find some interesting cases\n",
    "\n",
    "Correlation of IRF1 and NKFIA, FOXP1 as mediator\n"
   ]
  },
  {
   "cell_type": "code",
   "execution_count": 898,
   "metadata": {},
   "outputs": [],
   "source": [
    "combined_df = ifn_dc_df.merge(cd4_df, on=['gene_1', 'gene_2'], suffixes=('_ifn', '_ko'), how='inner')"
   ]
  },
  {
   "cell_type": "code",
   "execution_count": 899,
   "metadata": {},
   "outputs": [
    {
     "data": {
      "text/html": [
       "<div>\n",
       "<style scoped>\n",
       "    .dataframe tbody tr th:only-of-type {\n",
       "        vertical-align: middle;\n",
       "    }\n",
       "\n",
       "    .dataframe tbody tr th {\n",
       "        vertical-align: top;\n",
       "    }\n",
       "\n",
       "    .dataframe thead th {\n",
       "        text-align: right;\n",
       "    }\n",
       "</style>\n",
       "<table border=\"1\" class=\"dataframe\">\n",
       "  <thead>\n",
       "    <tr style=\"text-align: right;\">\n",
       "      <th></th>\n",
       "      <th>gene_1</th>\n",
       "      <th>gene_2</th>\n",
       "      <th>corr_1_ifn</th>\n",
       "      <th>corr_2_ifn</th>\n",
       "      <th>pval_ifn</th>\n",
       "      <th>fdr_ifn</th>\n",
       "      <th>corr_1_ko</th>\n",
       "      <th>corr_2_ko</th>\n",
       "      <th>pval_ko</th>\n",
       "      <th>fdr_ko</th>\n",
       "      <th>guide</th>\n",
       "      <th>target_gene</th>\n",
       "    </tr>\n",
       "  </thead>\n",
       "  <tbody>\n",
       "    <tr>\n",
       "      <th>7883</th>\n",
       "      <td>BATF</td>\n",
       "      <td>HSPH1</td>\n",
       "      <td>0.064294</td>\n",
       "      <td>0.396232</td>\n",
       "      <td>0.000003</td>\n",
       "      <td>0.001384</td>\n",
       "      <td>0.487343</td>\n",
       "      <td>0.170754</td>\n",
       "      <td>0.011599</td>\n",
       "      <td>0.111918</td>\n",
       "      <td>FOXP1.71041428</td>\n",
       "      <td>FOXP1</td>\n",
       "    </tr>\n",
       "    <tr>\n",
       "      <th>7885</th>\n",
       "      <td>BATF</td>\n",
       "      <td>HSPH1</td>\n",
       "      <td>0.064294</td>\n",
       "      <td>0.396232</td>\n",
       "      <td>0.000003</td>\n",
       "      <td>0.001384</td>\n",
       "      <td>0.487343</td>\n",
       "      <td>0.185352</td>\n",
       "      <td>0.026997</td>\n",
       "      <td>0.195172</td>\n",
       "      <td>STAT6.57102489</td>\n",
       "      <td>STAT6</td>\n",
       "    </tr>\n",
       "    <tr>\n",
       "      <th>7884</th>\n",
       "      <td>BATF</td>\n",
       "      <td>HSPH1</td>\n",
       "      <td>0.064294</td>\n",
       "      <td>0.396232</td>\n",
       "      <td>0.000003</td>\n",
       "      <td>0.001384</td>\n",
       "      <td>0.487343</td>\n",
       "      <td>0.058808</td>\n",
       "      <td>0.003200</td>\n",
       "      <td>0.081166</td>\n",
       "      <td>PARP1.226385581</td>\n",
       "      <td>PARP1</td>\n",
       "    </tr>\n",
       "    <tr>\n",
       "      <th>7882</th>\n",
       "      <td>BATF</td>\n",
       "      <td>HSPH1</td>\n",
       "      <td>0.064294</td>\n",
       "      <td>0.396232</td>\n",
       "      <td>0.000003</td>\n",
       "      <td>0.001384</td>\n",
       "      <td>0.487343</td>\n",
       "      <td>0.093697</td>\n",
       "      <td>0.006399</td>\n",
       "      <td>0.040268</td>\n",
       "      <td>BATF.75522739</td>\n",
       "      <td>BATF</td>\n",
       "    </tr>\n",
       "  </tbody>\n",
       "</table>\n",
       "</div>"
      ],
      "text/plain": [
       "     gene_1 gene_2  corr_1_ifn  corr_2_ifn  pval_ifn   fdr_ifn  corr_1_ko  \\\n",
       "7883  BATF   HSPH1  0.064294    0.396232    0.000003  0.001384  0.487343    \n",
       "7885  BATF   HSPH1  0.064294    0.396232    0.000003  0.001384  0.487343    \n",
       "7884  BATF   HSPH1  0.064294    0.396232    0.000003  0.001384  0.487343    \n",
       "7882  BATF   HSPH1  0.064294    0.396232    0.000003  0.001384  0.487343    \n",
       "\n",
       "      corr_2_ko   pval_ko    fdr_ko            guide target_gene  \n",
       "7883  0.170754   0.011599  0.111918  FOXP1.71041428   FOXP1       \n",
       "7885  0.185352   0.026997  0.195172  STAT6.57102489   STAT6       \n",
       "7884  0.058808   0.003200  0.081166  PARP1.226385581  PARP1       \n",
       "7882  0.093697   0.006399  0.040268  BATF.75522739    BATF        "
      ]
     },
     "execution_count": 899,
     "metadata": {},
     "output_type": "execute_result"
    }
   ],
   "source": [
    "combined_df\\\n",
    "    .query('fdr_ifn < 0.2 & fdr_ko < 0.2')\\\n",
    "    .sort_values('corr_1_ko', ascending=False)\\\n",
    "    .query('gene_1 == \"BATF\"').head(4)"
   ]
  },
  {
   "cell_type": "markdown",
   "metadata": {},
   "source": [
    "### Functions for plotting"
   ]
  },
  {
   "cell_type": "code",
   "execution_count": 1099,
   "metadata": {},
   "outputs": [],
   "source": [
    "def plot_2d_discrete(data, size_multiplier=10, offset=0.0, ax=plt, count_adjust=1, color_order=0):\n",
    "    \"\"\" Plotting discrete 2D data according to the frequency. \"\"\"\n",
    "    \n",
    "    df = pd.DataFrame(data).groupby([0, 1]).size().reset_index(name='count')\n",
    "    df['proportion'] = df['count']/df['count'].sum()\n",
    "    df['log_proportion'] = np.log(df['proportion']+1)\n",
    "    df['adjusted_count'] = df['count']*count_adjust\n",
    "    df['log_count'] = np.log(df['adjusted_count'])\n",
    "\n",
    "    ax.scatter(df[0]+offset, df[1]+offset, s=df['log_count']*size_multiplier, color=sns.color_palette()[color_order])    \n",
    "\n",
    "def line_from_correlation(corr, corr_ci, x, y, mu_x, mu_y, sigma_x, sigma_y, color_order, ax=plt, max_x=15):\n",
    "    \n",
    "#     mu_x = x.mean()\n",
    "#     mu_y = y.mean()\n",
    "#     sigma_x = x.std()\n",
    "#     sigma_y = y.std()\n",
    "    \n",
    "    beta_up = sigma_y/sigma_x*(corr + corr_ci)\n",
    "    alpha_up = mu_y - beta_up*mu_x\n",
    "    \n",
    "    beta = sigma_y/sigma_x*(corr)\n",
    "    alpha = mu_y - beta*mu_x\n",
    "    \n",
    "    beta_down = sigma_y/sigma_x*(corr - corr_ci)\n",
    "    alpha_down = mu_y - beta_down*mu_x\n",
    "    \n",
    "    x_range = np.arange(x.min(), max_x, 0.1)\n",
    "    \n",
    "    up = beta_up*x_range + alpha_up\n",
    "    line = beta*x_range + alpha\n",
    "    down = beta_down*x_range + alpha_down\n",
    "            \n",
    "    ax.fill_between(x_range, up, down, alpha=0.3, color=sns.color_palette()[color_order])\n",
    "    ax.plot(x_range, line, color=sns.color_palette()[color_order])"
   ]
  },
  {
   "cell_type": "markdown",
   "metadata": {},
   "source": [
    "### Plot the KO data"
   ]
  },
  {
   "cell_type": "code",
   "execution_count": 1110,
   "metadata": {},
   "outputs": [],
   "source": [
    "ifn_adata.var['gene_idx'] = np.arange(ifn_adata.shape[1])\n",
    "cd4_adata.var['gene_idx'] = np.arange(cd4_adata.shape[1])\n",
    "\n",
    "genes = ['BATF','HSPH1']\n",
    "gene_1 = genes[0]\n",
    "gene_2 = genes[1]\n",
    "\n",
    "ifn_gene_1_idx = ifn_adata.var.loc[genes[0]]['gene_idx']\n",
    "ifn_gene_2_idx = ifn_adata.var.loc[genes[1]]['gene_idx']\n",
    "ifn_gene_1_selected_idx = np.where(ifn_dc_result[('CD4 T cells - ctrl', 'CD4 T cells - stim')]['gene_idx_1'] == ifn_gene_1_idx)[0][0]\n",
    "ifn_gene_2_selected_idx = np.where(ifn_dc_result[('CD4 T cells - ctrl', 'CD4 T cells - stim')]['gene_idx_2'] == ifn_gene_2_idx)[0][0]\n",
    "\n",
    "cd4_gene_1_idx = cd4_adata.var.loc[genes[0]]['gene_idx']\n",
    "cd4_gene_2_idx = cd4_adata.var.loc[genes[1]]['gene_idx']\n",
    "cd4_gene_1_selected_idx = np.where(cd4_results['ATF4.39521667']['gene_idx_1'] == cd4_gene_1_idx)[0][0]\n",
    "cd4_gene_2_selected_idx = np.where(cd4_results['ATF4.39521667']['gene_idx_2'] == cd4_gene_2_idx)[0][0]"
   ]
  },
  {
   "cell_type": "code",
   "execution_count": null,
   "metadata": {},
   "outputs": [],
   "source": [
    "%%capture\n",
    "\n",
    "imp.reload(scme)\n",
    "estimator = scme.SingleCellEstimator(\n",
    "    adata=cd4_adata, \n",
    "    group_label='group',\n",
    "    n_umis_column='n_counts',\n",
    "    num_permute=10000,\n",
    "    beta=0.1)\n",
    "\n",
    "print('Estimating beta sq')\n",
    "estimator.estimate_beta_sq(tolerance=3)\n",
    "estimator.estimate_parameters()\n",
    "cd4_1d_moments = estimator.estimated_central_moments.copy()"
   ]
  },
  {
   "cell_type": "code",
   "execution_count": 1112,
   "metadata": {},
   "outputs": [],
   "source": [
    "def plot_ko(guide, ax=plt, color_order=1):\n",
    "    sm=6\n",
    "    ko_data = cd4_adata[cd4_adata.obs.group == guide][:, genes].X.toarray()\n",
    "    plot_2d_discrete(wt_data, offset=-0.2, ax=ax, size_multiplier=sm)\n",
    "    plot_2d_discrete(ko_data, offset=0.2, count_adjust=len(wt_data)/len(ko_data), ax=ax, size_multiplier=sm, color_order=color_order)\n",
    "    \n",
    "def plot_ko_line(guide, ax=plt, color=1):\n",
    "    \n",
    "    wt_data = cd4_adata[cd4_adata.obs.group == 'WT'][:, genes].X.toarray()\n",
    "    ko_data = cd4_adata[cd4_adata.obs.group == guide][:, genes].X.toarray()\n",
    "    \n",
    "    line_from_correlation(\n",
    "        corr=cd4_results[guide]['corr_1'][cd4_gene_1_selected_idx, cd4_gene_2_selected_idx],\n",
    "        corr_ci=cd4_ci['BATF.75522739']['WT']['corr'][cd4_gene_1_selected_idx, cd4_gene_2_selected_idx],\n",
    "        x=wt_data[:, 0],\n",
    "        y=wt_data[:, 1],\n",
    "        mu_x=cd4_1d_moments['WT']['first'][cd4_gene_1_idx],\n",
    "        mu_y=cd4_1d_moments['WT']['first'][cd4_gene_2_idx],\n",
    "        sigma_x=cd4_1d_moments['WT']['second'][cd4_gene_1_idx],\n",
    "        sigma_y=cd4_1d_moments['WT']['second'][cd4_gene_2_idx],\n",
    "        color_order=0,\n",
    "        ax=ax\n",
    "        )\n",
    "\n",
    "    line_from_correlation(\n",
    "        corr=cd4_results[guide]['corr_2'][cd4_gene_1_selected_idx, cd4_gene_2_selected_idx],\n",
    "        corr_ci=cd4_ci['BATF.75522739'][guide]['corr'][cd4_gene_1_selected_idx, cd4_gene_2_selected_idx],\n",
    "        x=ko_data[:, 0],\n",
    "        y=ko_data[:, 1],\n",
    "        mu_x=cd4_1d_moments[guide]['first'][cd4_gene_1_idx],\n",
    "        mu_y=cd4_1d_moments[guide]['first'][cd4_gene_2_idx],\n",
    "        sigma_x=cd4_1d_moments[guide]['second'][cd4_gene_1_idx],\n",
    "        sigma_y=cd4_1d_moments[guide]['second'][cd4_gene_2_idx],\n",
    "        color_order=color,\n",
    "        ax=ax\n",
    "        )\n",
    "    "
   ]
  },
  {
   "cell_type": "code",
   "execution_count": 1118,
   "metadata": {},
   "outputs": [],
   "source": [
    "import matplotlib.ticker as mticker\n"
   ]
  },
  {
   "cell_type": "code",
   "execution_count": 1119,
   "metadata": {},
   "outputs": [
    {
     "data": {
      "image/png": "[encoded data removed]",
      "text/plain": [
       "<Figure size 864x216 with 3 Axes>"
      ]
     },
     "metadata": {
      "needs_background": "light"
     },
     "output_type": "display_data"
    }
   ],
   "source": [
    "fig = plt.figure(figsize=(12, 3))\n",
    "plt.subplots_adjust(hspace=0.0, wspace=0.25)\n",
    "\n",
    "plt.subplot(1, 3, 1);\n",
    "plot_ko('BATF.75522739', color_order=2)\n",
    "plot_ko_line('BATF.75522739', color=2)\n",
    "plt.xlim(-1, 10)\n",
    "plt.ylim(-1, 7)\n",
    "plt.legend(['WT', 'KO'])\n",
    "plt.title('BATF.75522739')\n",
    "plt.xlabel('{} Expression'.format(gene_1));\n",
    "plt.ylabel('{} expression'.format(gene_2));\n",
    "plt.gca().xaxis.set_major_locator(mticker.MultipleLocator(5))\n",
    "\n",
    "plt.subplot(1, 3, 2);\n",
    "plot_ko('PARP1.226385581', color_order=3)\n",
    "plot_ko_line('PARP1.226385581', color=3)\n",
    "plt.xlim(-1, 10)\n",
    "plt.ylim(-1, 7)\n",
    "plt.legend(['WT', 'KO'])\n",
    "plt.title('PARP1.226385581')\n",
    "plt.xlabel('{} Expression'.format(gene_1));\n",
    "plt.ylabel('{} expression'.format(gene_2));\n",
    "plt.gca().xaxis.set_major_locator(mticker.MultipleLocator(5))\n",
    "\n",
    "plt.subplot(1, 3, 3);\n",
    "plot_ko('STAT6.57102489', color_order=4)\n",
    "plot_ko_line('STAT6.57102489', color=4)\n",
    "plt.xlim(-1, 10)\n",
    "plt.ylim(-1, 7)\n",
    "plt.legend(['WT', 'KO'])\n",
    "plt.title('STAT6.57102489')\n",
    "plt.xlabel('{} Expression'.format(gene_1));\n",
    "plt.ylabel('{} expression'.format(gene_2));\n",
    "plt.gca().xaxis.set_major_locator(mticker.MultipleLocator(5))\n",
    "\n",
    "fig.tight_layout()\n",
    "\n",
    "fig.savefig(data_path + 'figures/fig3/BATF_HSPH1_KO.pdf')"
   ]
  },
  {
   "cell_type": "code",
   "execution_count": null,
   "metadata": {},
   "outputs": [],
   "source": []
  }
 ],
 "metadata": {
  "kernelspec": {
   "display_name": "Python 3",
   "language": "python",
   "name": "python3"
  },
  "language_info": {
   "codemirror_mode": {
    "name": "ipython",
    "version": 3
   },
   "file_extension": ".py",
   "mimetype": "text/x-python",
   "name": "python",
   "nbconvert_exporter": "python",
   "pygments_lexer": "ipython3",
   "version": "3.7.5"
  }
 },
 "nbformat": 4,
 "nbformat_minor": 4
}
