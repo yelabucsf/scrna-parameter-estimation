{
 "cells": [
  {
   "cell_type": "markdown",
   "id": "df7595b9",
   "metadata": {},
   "source": [
    "# scHOT and BASiCs consistency analysis"
   ]
  },
  {
   "cell_type": "code",
   "execution_count": 66,
   "id": "e34bd309",
   "metadata": {},
   "outputs": [],
   "source": [
    "import pandas as pd\n",
    "import matplotlib.pyplot as plt\n",
    "import seaborn as sns\n",
    "import numpy as np\n",
    "import scanpy as sc\n",
    "import matplotlib as mpl\n",
    "import scipy.stats as stats\n"
   ]
  },
  {
   "cell_type": "code",
   "execution_count": 67,
   "id": "ba9e86e8",
   "metadata": {},
   "outputs": [],
   "source": [
    "mpl.rcParams['pdf.fonttype'] = 42\n",
    "mpl.rcParams['ps.fonttype'] = 42\n",
    "\n",
    "import matplotlib.pylab as pylab\n",
    "params = {'legend.fontsize': 'medium',\n",
    "         'axes.labelsize': 'large',\n",
    "         'axes.titlesize':'medium',\n",
    "         'figure.titlesize':'medium',\n",
    "         'xtick.labelsize':'small',\n",
    "         'ytick.labelsize':'small'}\n",
    "pylab.rcParams.update(params)\n"
   ]
  },
  {
   "cell_type": "code",
   "execution_count": 68,
   "id": "8529ca52",
   "metadata": {},
   "outputs": [],
   "source": [
    "def concordance(x, y, log=False):\n",
    "    nonnan = np.isfinite(x) & np.isfinite(y)\n",
    "#     return stats.spearmanr(x[nonnan],y[nonnan])[0]\n",
    "    \n",
    "    if log:\n",
    "        a = np.log(x)\n",
    "        b = np.log(y)\n",
    "    else:\n",
    "        a = x\n",
    "        b = y\n",
    "    cond = np.isfinite(a) & np.isfinite(b)\n",
    "    a = a[cond]\n",
    "    b = b[cond]\n",
    "    cmat = np.cov(a, b)\n",
    "    return 2*cmat[0,1]/(cmat[0,0] + cmat[1,1] + (a.mean()-b.mean())**2)"
   ]
  },
  {
   "cell_type": "code",
   "execution_count": 69,
   "id": "173eadca",
   "metadata": {},
   "outputs": [],
   "source": [
    "result_path = '/data_volume/memento/simulation/acc_fpr/downsampled/'"
   ]
  },
  {
   "cell_type": "code",
   "execution_count": 70,
   "id": "e1ea3614",
   "metadata": {},
   "outputs": [],
   "source": [
    "rates = [1.0, 0.9, 0.8, 0.7, 0.6, 0.5, 0.4, 0.3, 0.2, 0.1]\n",
    "num_replicates = 1\n",
    "# rates = [1.0, 0.3]"
   ]
  },
  {
   "cell_type": "markdown",
   "id": "2f5f4606",
   "metadata": {},
   "source": [
    "### Variability"
   ]
  },
  {
   "cell_type": "code",
   "execution_count": 71,
   "id": "17debfeb",
   "metadata": {},
   "outputs": [],
   "source": [
    "schot_full = pd.read_csv(result_path + 'scHOT_downsampled_1.0_0.csv')"
   ]
  },
  {
   "cell_type": "code",
   "execution_count": 64,
   "id": "5313fbf2",
   "metadata": {},
   "outputs": [
    {
     "data": {
      "image/png": "[encoded data removed]",
      "text/plain": [
       "<Figure size 432x288 with 1 Axes>"
      ]
     },
     "metadata": {
      "needs_background": "light"
     },
     "output_type": "display_data"
    }
   ],
   "source": [
    "schot_concordances_df = []\n",
    "for replicate in range(0, num_replicates):\n",
    "    for rate in rates:\n",
    "\n",
    "        schot_sub = pd.read_csv(result_path + 'scHOT_downsampled_{}_{}.csv'.format(rate, replicate))\n",
    "\n",
    "        schot_concordances_df.append((replicate, rate, concordance(schot_full['globalHigherOrderFunction'], schot_sub['globalHigherOrderFunction'])))\n",
    "\n",
    "schot_concordances_df = pd.DataFrame(schot_concordances_df, columns=['rep', 'rate', 'concordance'])"
   ]
  },
  {
   "cell_type": "code",
   "execution_count": 36,
   "id": "3a11403a",
   "metadata": {},
   "outputs": [],
   "source": [
    "schot_concordances = schot_concordances_df.groupby('rate').concordance.mean()\n",
    "schot_concordances_err = schot_concordances_df.groupby('rate').concordance.std()"
   ]
  },
  {
   "cell_type": "code",
   "execution_count": 37,
   "id": "603806e3",
   "metadata": {},
   "outputs": [
    {
     "data": {
      "text/plain": [
       "rate\n",
       "0.1   -0.069506\n",
       "0.2    0.465793\n",
       "0.3    0.337721\n",
       "0.4    0.220430\n",
       "0.5    0.158681\n",
       "0.6    0.271606\n",
       "0.7    0.562416\n",
       "0.8    0.379999\n",
       "0.9    0.524100\n",
       "1.0    1.000000\n",
       "Name: concordance, dtype: float64"
      ]
     },
     "execution_count": 37,
     "metadata": {},
     "output_type": "execute_result"
    }
   ],
   "source": [
    "schot_concordances"
   ]
  },
  {
   "cell_type": "markdown",
   "id": "1da7895f",
   "metadata": {},
   "source": [
    "### Basics"
   ]
  },
  {
   "cell_type": "code",
   "execution_count": 76,
   "id": "66cedcd9",
   "metadata": {},
   "outputs": [],
   "source": [
    "basics_concordances_df = []\n",
    "for replicate in range(num_replicates):\n",
    "\n",
    "\n",
    "    full = pd.read_csv(result_path + 'BASiCS_downsampled_delta_1.0_{}.csv'.format(replicate)).mean(axis=0)\n",
    "#     stim_full = pd.read_csv(result_path + 'BASiCS_downsampled_delta_stim_1.0_{}.csv'.format(replicate)).mean(axis=0)\n",
    "    es_full = np.log(full)\n",
    "    for rate in rates:\n",
    "\n",
    "        sub = pd.read_csv(result_path + 'BASiCS_downsampled_delta_{}_{}.csv'.format(rate, replicate)).mean(axis=0)\n",
    "#         stim_ = pd.read_csv(result_path + 'BASiCS_downsampled_delta_stim_{}_{}.csv'.format(rate, replicate)).mean(axis=0)\n",
    "        es_sub = np.log(sub)\n",
    "\n",
    "        basics_concordances_df.append((rate, replicate, concordance(es_full, es_sub)))\n",
    "basics_concordances_df = pd.DataFrame(basics_concordances_df, columns=['rate', 'replicate', 'concordance'])"
   ]
  },
  {
   "cell_type": "code",
   "execution_count": 97,
   "id": "4c0b10ce",
   "metadata": {},
   "outputs": [],
   "source": [
    "basics_concordances = basics_concordances_df.groupby('rate').concordance.mean().sort_values(ascending=False)\n",
    "basics_concordances_err = basics_concordances_df.groupby('rate').concordance.std()"
   ]
  },
  {
   "cell_type": "code",
   "execution_count": 98,
   "id": "a32d984a",
   "metadata": {},
   "outputs": [
    {
     "data": {
      "text/plain": [
       "rate\n",
       "1.0    1.000000\n",
       "0.9    0.999450\n",
       "0.8    0.998849\n",
       "0.7    0.998196\n",
       "0.6    0.996139\n",
       "0.5    0.994940\n",
       "0.4    0.989667\n",
       "0.3    0.987174\n",
       "0.2    0.970267\n",
       "0.1    0.935965\n",
       "Name: concordance, dtype: float64"
      ]
     },
     "execution_count": 98,
     "metadata": {},
     "output_type": "execute_result"
    }
   ],
   "source": [
    "basics_concordances"
   ]
  },
  {
   "cell_type": "markdown",
   "id": "442aef85",
   "metadata": {},
   "source": [
    "### Memento"
   ]
  },
  {
   "cell_type": "code",
   "execution_count": 99,
   "id": "b139a4d5",
   "metadata": {},
   "outputs": [],
   "source": [
    "import sys\n",
    "sys.path.append('/home/ssm-user/Github/scrna-parameter-estimation/dist/memento-0.0.9-py3.8.egg')\n",
    "sys.path.append('/home/ssm-user/Github/misc-seq/miscseq/')\n",
    "import encode\n",
    "import memento\n",
    "import scipy.sparse as sparse"
   ]
  },
  {
   "cell_type": "code",
   "execution_count": 100,
   "id": "cdba2f30",
   "metadata": {},
   "outputs": [
    {
     "name": "stderr",
     "output_type": "stream",
     "text": [
      "/home/ssm-user/anaconda3/envs/single_cell/lib/python3.8/site-packages/anndata/_core/anndata.py:1095: FutureWarning: The `inplace` parameter in pandas.Categorical.remove_unused_categories is deprecated and will be removed in a future version.\n",
      "  df_sub[k].cat.remove_unused_categories(inplace=True)\n",
      "/home/ssm-user/anaconda3/envs/single_cell/lib/python3.8/site-packages/anndata/_core/anndata.py:1095: FutureWarning: The `inplace` parameter in pandas.Categorical.remove_unused_categories is deprecated and will be removed in a future version.\n",
      "  df_sub[k].cat.remove_unused_categories(inplace=True)\n",
      "/home/ssm-user/anaconda3/envs/single_cell/lib/python3.8/site-packages/anndata/_core/anndata.py:1095: FutureWarning: The `inplace` parameter in pandas.Categorical.remove_unused_categories is deprecated and will be removed in a future version.\n",
      "  df_sub[k].cat.remove_unused_categories(inplace=True)\n",
      "/home/ssm-user/anaconda3/envs/single_cell/lib/python3.8/site-packages/anndata/_core/anndata.py:1095: FutureWarning: The `inplace` parameter in pandas.Categorical.remove_unused_categories is deprecated and will be removed in a future version.\n",
      "  df_sub[k].cat.remove_unused_categories(inplace=True)\n",
      "/home/ssm-user/anaconda3/envs/single_cell/lib/python3.8/site-packages/anndata/_core/anndata.py:1095: FutureWarning: The `inplace` parameter in pandas.Categorical.remove_unused_categories is deprecated and will be removed in a future version.\n",
      "  df_sub[k].cat.remove_unused_categories(inplace=True)\n",
      "/home/ssm-user/anaconda3/envs/single_cell/lib/python3.8/site-packages/anndata/_core/anndata.py:1095: FutureWarning: The `inplace` parameter in pandas.Categorical.remove_unused_categories is deprecated and will be removed in a future version.\n",
      "  df_sub[k].cat.remove_unused_categories(inplace=True)\n",
      "/home/ssm-user/anaconda3/envs/single_cell/lib/python3.8/site-packages/anndata/_core/anndata.py:1095: FutureWarning: The `inplace` parameter in pandas.Categorical.remove_unused_categories is deprecated and will be removed in a future version.\n",
      "  df_sub[k].cat.remove_unused_categories(inplace=True)\n",
      "/home/ssm-user/anaconda3/envs/single_cell/lib/python3.8/site-packages/anndata/_core/anndata.py:1095: FutureWarning: The `inplace` parameter in pandas.Categorical.remove_unused_categories is deprecated and will be removed in a future version.\n",
      "  df_sub[k].cat.remove_unused_categories(inplace=True)\n",
      "/home/ssm-user/anaconda3/envs/single_cell/lib/python3.8/site-packages/anndata/_core/anndata.py:1095: FutureWarning: The `inplace` parameter in pandas.Categorical.remove_unused_categories is deprecated and will be removed in a future version.\n",
      "  df_sub[k].cat.remove_unused_categories(inplace=True)\n",
      "/home/ssm-user/anaconda3/envs/single_cell/lib/python3.8/site-packages/anndata/_core/anndata.py:1095: FutureWarning: The `inplace` parameter in pandas.Categorical.remove_unused_categories is deprecated and will be removed in a future version.\n",
      "  df_sub[k].cat.remove_unused_categories(inplace=True)\n",
      "/home/ssm-user/anaconda3/envs/single_cell/lib/python3.8/site-packages/anndata/_core/anndata.py:1095: FutureWarning: The `inplace` parameter in pandas.Categorical.remove_unused_categories is deprecated and will be removed in a future version.\n",
      "  df_sub[k].cat.remove_unused_categories(inplace=True)\n"
     ]
    }
   ],
   "source": [
    "memento_concordances_df = []\n",
    "naive_concordances = []\n",
    "for replicate in range(num_replicates):\n",
    "    \n",
    "    adata_full = sc.read(result_path + 'downsampled_1.0_{}.h5ad'.format(replicate))\n",
    "    adata_full.X = sparse.csr_matrix(adata_full.X.astype(float))\n",
    "    adata_full.obs['q'] = 0.07\n",
    "    memento.setup_memento(adata_full, q_column='q', trim_percent=0.1)\n",
    "    memento.create_groups(adata_full, label_columns=['stim_indicator'])\n",
    "    memento.compute_1d_moments(adata_full, min_perc_group=.0)\n",
    "    es_full = np.log(adata_full.uns['memento']['1d_moments']['sg^1'][1])\n",
    "    \n",
    "    norm_adata_full = sc.read(result_path + 'downsampled_1.0_{}_norm.h5ad'.format(replicate))\n",
    "    naive_full = np.log(np.var(norm_adata_full.X, axis=1))\n",
    "\n",
    "    for rate in rates:\n",
    "        df = pd.DataFrame()\n",
    "        adata_sub = sc.read(result_path + 'downsampled_{}_{}.h5ad'.format(rate, replicate))\n",
    "        adata_sub.X = sparse.csr_matrix(adata_sub.X.astype(float))\n",
    "        adata_sub.obs['q'] = 0.07*rate\n",
    "        memento.setup_memento(adata_sub, q_column='q', trim_percent=0.1)\n",
    "        memento.create_groups(adata_sub, label_columns=['stim_indicator'])\n",
    "        memento.compute_1d_moments(adata_sub, min_perc_group=.0)\n",
    "\n",
    "        es_sub = np.log(adata_sub.uns['memento']['1d_moments']['sg^1'][1])\n",
    "        gene_filter = np.array([g in adata_sub.var.index for g in adata_full.var.index])\n",
    "        memento_concordances_df.append((rate, replicate, concordance(es_full[gene_filter], es_sub)))\n",
    "        \n",
    "        norm_adata_sub = sc.read(result_path + 'downsampled_{}_{}_norm.h5ad'.format(rate, replicate))\n",
    "        naive_sub = np.log(np.var(norm_adata_sub.X, axis=1))\n",
    "        naive_concordances.append(concordance(naive_full, naive_sub))\n",
    "    \n",
    "memento_concordances_df = pd.DataFrame(memento_concordances_df, columns=['rate', 'replicate', 'concordance'])"
   ]
  },
  {
   "cell_type": "code",
   "execution_count": 101,
   "id": "872e1608",
   "metadata": {},
   "outputs": [],
   "source": [
    "memento_concordances = memento_concordances_df.groupby('rate').concordance.mean().sort_values(ascending=False)\n",
    "memento_concordances_err = memento_concordances_df.groupby('rate').concordance.std()"
   ]
  },
  {
   "cell_type": "code",
   "execution_count": 102,
   "id": "ad1b7416",
   "metadata": {},
   "outputs": [
    {
     "data": {
      "text/plain": [
       "rate\n",
       "1.0    1.000000\n",
       "0.9    0.999887\n",
       "0.8    0.999809\n",
       "0.7    0.999724\n",
       "0.6    0.999270\n",
       "0.5    0.999203\n",
       "0.4    0.998319\n",
       "0.3    0.996034\n",
       "0.2    0.990193\n",
       "0.1    0.959816\n",
       "Name: concordance, dtype: float64"
      ]
     },
     "execution_count": 102,
     "metadata": {},
     "output_type": "execute_result"
    }
   ],
   "source": [
    "memento_concordances"
   ]
  },
  {
   "cell_type": "code",
   "execution_count": 103,
   "id": "8f96096d",
   "metadata": {},
   "outputs": [],
   "source": [
    "memento_concordances_df['method'] = 'memento'\n",
    "basics_concordances_df['method'] = 'BASiCS'\n",
    "schot_concordances_df['method'] = 'scHOT'\n"
   ]
  },
  {
   "cell_type": "code",
   "execution_count": 118,
   "id": "3a4f1c05",
   "metadata": {},
   "outputs": [
    {
     "data": {
      "text/plain": [
       "(0.7, 1.03)"
      ]
     },
     "execution_count": 118,
     "metadata": {},
     "output_type": "execute_result"
    },
    {
     "data": {
      "image/png": "[encoded data removed]",
      "text/plain": [
       "<Figure size 180x216 with 1 Axes>"
      ]
     },
     "metadata": {
      "needs_background": "light"
     },
     "output_type": "display_data"
    }
   ],
   "source": [
    "plt.figure(figsize=(2.5,3))\n",
    "plt.plot(np.array(rates), basics_concordances, '-o',color='silver', label='BASiCS')\n",
    "plt.plot(np.array(rates), memento_concordances, '-o',color='deepskyblue', label='memento')\n",
    "plt.plot(np.array(rates), naive_concordances, '-o',color='grey', label='scHOT')\n",
    "plt.legend(frameon=False)\n",
    "# plt.ylabel('Concordance to\\nfull data')\n",
    "plt.xlabel('Downsampling rate')\n",
    "# plt.savefig('method_concordance.png', bbox_inches='tight', dpi=300)\n",
    "plt.title('Variability')\n",
    "plt.xlim(0.05, 0.71)\n",
    "plt.ylim(0.7, 1.03)"
   ]
  },
  {
   "cell_type": "markdown",
   "id": "c7e52a7c",
   "metadata": {},
   "source": [
    "### Correlation"
   ]
  },
  {
   "cell_type": "code",
   "execution_count": 8,
   "id": "84cf4b8e",
   "metadata": {},
   "outputs": [],
   "source": [
    "import sys\n",
    "sys.path.append('/home/ssm-user/Github/scrna-parameter-estimation/dist/memento-0.0.9-py3.8.egg')\n",
    "sys.path.append('/home/ssm-user/Github/misc-seq/miscseq/')\n",
    "import encode\n",
    "import memento\n",
    "import scipy.sparse as sparse"
   ]
  },
  {
   "cell_type": "code",
   "execution_count": 9,
   "id": "4f398af0",
   "metadata": {},
   "outputs": [],
   "source": [
    "num_replicates=1"
   ]
  },
  {
   "cell_type": "code",
   "execution_count": null,
   "id": "1e6cc6d9",
   "metadata": {},
   "outputs": [],
   "source": [
    "num_replicates = 10\n",
    "memento_concordances_df = []\n",
    "spearman_concordances = []\n",
    "for replicate in range(num_replicates):\n",
    "    \n",
    "    adata_full = sc.read(result_path + 'downsampled_1.0_{}.h5ad'.format(replicate))\n",
    "    adata_full.X = sparse.csr_matrix(adata_full.X.astype(float))\n",
    "    adata_full.obs['q'] = 0.07\n",
    "    memento.setup_memento(adata_full, q_column='q', trim_percent=0.035)\n",
    "    memento.create_groups(adata_full, label_columns=['stim_indicator'])\n",
    "    memento.compute_1d_moments(adata_full, min_perc_group=.0)\n",
    "    pairs = np.array(adata_full.var.index.tolist())[:-1].reshape(-1, 2)\n",
    "    memento.compute_2d_moments(adata_full, gene_pairs=pairs)\n",
    "    es_full = adata_full.uns['memento']['2d_moments']['sg^1']['corr']\n",
    "    \n",
    "    norm_adata_full = sc.read(result_path + 'downsampled_1.0_{}_norm.h5ad'.format(replicate))\n",
    "    naive_full = np.array([stats.spearmanr(norm_adata_full[:, g1].X.reshape(-1),norm_adata_full[:, g2].X.reshape(-1))[0] for g1, g2 in pairs])\n",
    "\n",
    "    for rate in rates:\n",
    "        df = pd.DataFrame()\n",
    "        adata_sub = sc.read(result_path + 'downsampled_{}_{}.h5ad'.format(rate, replicate))\n",
    "        adata_sub.X = sparse.csr_matrix(adata_sub.X.astype(float))\n",
    "        adata_sub.obs['q'] = 0.07*rate\n",
    "        memento.setup_memento(adata_sub, q_column='q', trim_percent=0.035)\n",
    "        memento.create_groups(adata_sub, label_columns=['stim_indicator'])\n",
    "        memento.compute_1d_moments(adata_sub, min_perc_group=.0)\n",
    "        pair_filter = np.array([g1 in adata_sub.var.index and g2 in adata_sub.var.index for g1, g2 in pairs])\n",
    "        memento.compute_2d_moments(adata_sub, gene_pairs=pairs[pair_filter])\n",
    "        es_sub = adata_sub.uns['memento']['2d_moments']['sg^1']['corr']\n",
    "        memento_concordances_df.append((rate, replicate, concordance(es_full[pair_filter], es_sub)))\n",
    "        \n",
    "        norm_adata_sub = sc.read(result_path + 'downsampled_{}_{}_norm.h5ad'.format(rate, replicate))\n",
    "        naive_sub = np.array([stats.spearmanr(norm_adata_sub[:, g1].X.reshape(-1),norm_adata_sub[:, g2].X.reshape(-1))[0] for g1, g2 in pairs])\n",
    "        \n",
    "        naive_concordances.append(concordance(naive_full, naive_sub))\n",
    "        \n",
    "#         normed_adata_sub = sc.read(result_path + 'downsampled_{}_{}_norm.h5ad'.format(rate, replicate))\n",
    "#         normed_adata_sub_ctrl = normed_adata_sub[normed_adata_sub.obs['stim']=='ctrl']\n",
    "#         normed_adata_sub_stim = normed_adata_sub[normed_adata_sub.obs['stim']=='stim']\n",
    "#         spearman_es_sub = np.array([\n",
    "#             stats.spearmanr(normed_adata_sub_stim[:, g1].X.reshape(-1),normed_adata_sub_stim[:, g2].X.reshape(-1))[0] for g1, g2 in pairs])\n",
    "#         spearman_concordances.append(concordance(spearman_es_full, spearman_es_sub))\n",
    "        \n",
    "#         plt.figure()\n",
    "#         plt.scatter(es_full, es_sub)\n",
    "#         plt.scatter(spearman_es_full, spearman_es_sub)\n",
    "#         plt.plot([-1, 1], [-1, 1])\n",
    "#         print('spearman', concordance(spearman_es_full, spearman_es_sub))\n",
    "        \n",
    "    \n",
    "memento_concordances_df = pd.DataFrame(memento_concordances_df, columns=['rate', 'replicate', 'concordance'])"
   ]
  },
  {
   "cell_type": "code",
   "execution_count": 120,
   "id": "d3d435c9",
   "metadata": {},
   "outputs": [],
   "source": [
    "memento_concordances = memento_concordances_df.groupby('rate').concordance.mean().sort_values(ascending=False)\n",
    "memento_concordances_err = memento_concordances_df.groupby('rate').concordance.std()"
   ]
  },
  {
   "cell_type": "code",
   "execution_count": 121,
   "id": "fcc49c7f",
   "metadata": {},
   "outputs": [
    {
     "ename": "ValueError",
     "evalue": "x and y must have same first dimension, but have shapes (10,) and (110,)",
     "output_type": "error",
     "traceback": [
      "\u001b[0;31m---------------------------------------------------------------------------\u001b[0m",
      "\u001b[0;31mValueError\u001b[0m                                Traceback (most recent call last)",
      "Input \u001b[0;32mIn [121]\u001b[0m, in \u001b[0;36m<cell line: 5>\u001b[0;34m()\u001b[0m\n\u001b[1;32m      3\u001b[0m \u001b[38;5;66;03m# plt.plot(rates, basics_concordances, '-o')\u001b[39;00m\n\u001b[1;32m      4\u001b[0m plt\u001b[38;5;241m.\u001b[39mplot(rates, memento_concordances, \u001b[38;5;124m'\u001b[39m\u001b[38;5;124m-o\u001b[39m\u001b[38;5;124m'\u001b[39m, color\u001b[38;5;241m=\u001b[39m\u001b[38;5;124m'\u001b[39m\u001b[38;5;124mdeepskyblue\u001b[39m\u001b[38;5;124m'\u001b[39m, label\u001b[38;5;241m=\u001b[39m\u001b[38;5;124m'\u001b[39m\u001b[38;5;124mmemento\u001b[39m\u001b[38;5;124m'\u001b[39m)\n\u001b[0;32m----> 5\u001b[0m \u001b[43mplt\u001b[49m\u001b[38;5;241;43m.\u001b[39;49m\u001b[43mplot\u001b[49m\u001b[43m(\u001b[49m\u001b[43mrates\u001b[49m\u001b[43m,\u001b[49m\u001b[43m \u001b[49m\u001b[43mnaive_concordances\u001b[49m\u001b[43m,\u001b[49m\u001b[43m \u001b[49m\u001b[38;5;124;43m'\u001b[39;49m\u001b[38;5;124;43m-o\u001b[39;49m\u001b[38;5;124;43m'\u001b[39;49m\u001b[43m,\u001b[49m\u001b[43m \u001b[49m\u001b[43mcolor\u001b[49m\u001b[38;5;241;43m=\u001b[39;49m\u001b[38;5;124;43m'\u001b[39;49m\u001b[38;5;124;43mgrey\u001b[39;49m\u001b[38;5;124;43m'\u001b[39;49m\u001b[43m,\u001b[49m\u001b[43m \u001b[49m\u001b[43mlabel\u001b[49m\u001b[38;5;241;43m=\u001b[39;49m\u001b[38;5;124;43m'\u001b[39;49m\u001b[38;5;124;43mscHOT\u001b[39;49m\u001b[38;5;124;43m'\u001b[39;49m\u001b[43m)\u001b[49m\n\u001b[1;32m      6\u001b[0m \u001b[38;5;66;03m# plt.legend()\u001b[39;00m\n\u001b[1;32m      7\u001b[0m \u001b[38;5;66;03m# plt.ylabel('Concordance to\\nfull data')\u001b[39;00m\n\u001b[1;32m      8\u001b[0m plt\u001b[38;5;241m.\u001b[39mxlabel(\u001b[38;5;124m'\u001b[39m\u001b[38;5;124mSubsampling rate\u001b[39m\u001b[38;5;124m'\u001b[39m)\n",
      "File \u001b[0;32m~/anaconda3/envs/single_cell/lib/python3.8/site-packages/matplotlib/pyplot.py:2757\u001b[0m, in \u001b[0;36mplot\u001b[0;34m(scalex, scaley, data, *args, **kwargs)\u001b[0m\n\u001b[1;32m   2755\u001b[0m \u001b[38;5;129m@_copy_docstring_and_deprecators\u001b[39m(Axes\u001b[38;5;241m.\u001b[39mplot)\n\u001b[1;32m   2756\u001b[0m \u001b[38;5;28;01mdef\u001b[39;00m \u001b[38;5;21mplot\u001b[39m(\u001b[38;5;241m*\u001b[39margs, scalex\u001b[38;5;241m=\u001b[39m\u001b[38;5;28;01mTrue\u001b[39;00m, scaley\u001b[38;5;241m=\u001b[39m\u001b[38;5;28;01mTrue\u001b[39;00m, data\u001b[38;5;241m=\u001b[39m\u001b[38;5;28;01mNone\u001b[39;00m, \u001b[38;5;241m*\u001b[39m\u001b[38;5;241m*\u001b[39mkwargs):\n\u001b[0;32m-> 2757\u001b[0m     \u001b[38;5;28;01mreturn\u001b[39;00m \u001b[43mgca\u001b[49m\u001b[43m(\u001b[49m\u001b[43m)\u001b[49m\u001b[38;5;241;43m.\u001b[39;49m\u001b[43mplot\u001b[49m\u001b[43m(\u001b[49m\n\u001b[1;32m   2758\u001b[0m \u001b[43m        \u001b[49m\u001b[38;5;241;43m*\u001b[39;49m\u001b[43margs\u001b[49m\u001b[43m,\u001b[49m\u001b[43m \u001b[49m\u001b[43mscalex\u001b[49m\u001b[38;5;241;43m=\u001b[39;49m\u001b[43mscalex\u001b[49m\u001b[43m,\u001b[49m\u001b[43m \u001b[49m\u001b[43mscaley\u001b[49m\u001b[38;5;241;43m=\u001b[39;49m\u001b[43mscaley\u001b[49m\u001b[43m,\u001b[49m\n\u001b[1;32m   2759\u001b[0m \u001b[43m        \u001b[49m\u001b[38;5;241;43m*\u001b[39;49m\u001b[38;5;241;43m*\u001b[39;49m\u001b[43m(\u001b[49m\u001b[43m{\u001b[49m\u001b[38;5;124;43m\"\u001b[39;49m\u001b[38;5;124;43mdata\u001b[39;49m\u001b[38;5;124;43m\"\u001b[39;49m\u001b[43m:\u001b[49m\u001b[43m \u001b[49m\u001b[43mdata\u001b[49m\u001b[43m}\u001b[49m\u001b[43m \u001b[49m\u001b[38;5;28;43;01mif\u001b[39;49;00m\u001b[43m \u001b[49m\u001b[43mdata\u001b[49m\u001b[43m \u001b[49m\u001b[38;5;129;43;01mis\u001b[39;49;00m\u001b[43m \u001b[49m\u001b[38;5;129;43;01mnot\u001b[39;49;00m\u001b[43m \u001b[49m\u001b[38;5;28;43;01mNone\u001b[39;49;00m\u001b[43m \u001b[49m\u001b[38;5;28;43;01melse\u001b[39;49;00m\u001b[43m \u001b[49m\u001b[43m{\u001b[49m\u001b[43m}\u001b[49m\u001b[43m)\u001b[49m\u001b[43m,\u001b[49m\u001b[43m \u001b[49m\u001b[38;5;241;43m*\u001b[39;49m\u001b[38;5;241;43m*\u001b[39;49m\u001b[43mkwargs\u001b[49m\u001b[43m)\u001b[49m\n",
      "File \u001b[0;32m~/anaconda3/envs/single_cell/lib/python3.8/site-packages/matplotlib/axes/_axes.py:1632\u001b[0m, in \u001b[0;36mAxes.plot\u001b[0;34m(self, scalex, scaley, data, *args, **kwargs)\u001b[0m\n\u001b[1;32m   1390\u001b[0m \u001b[38;5;124;03m\"\"\"\u001b[39;00m\n\u001b[1;32m   1391\u001b[0m \u001b[38;5;124;03mPlot y versus x as lines and/or markers.\u001b[39;00m\n\u001b[1;32m   1392\u001b[0m \n\u001b[0;32m   (...)\u001b[0m\n\u001b[1;32m   1629\u001b[0m \u001b[38;5;124;03m(``'green'``) or hex strings (``'#008000'``).\u001b[39;00m\n\u001b[1;32m   1630\u001b[0m \u001b[38;5;124;03m\"\"\"\u001b[39;00m\n\u001b[1;32m   1631\u001b[0m kwargs \u001b[38;5;241m=\u001b[39m cbook\u001b[38;5;241m.\u001b[39mnormalize_kwargs(kwargs, mlines\u001b[38;5;241m.\u001b[39mLine2D)\n\u001b[0;32m-> 1632\u001b[0m lines \u001b[38;5;241m=\u001b[39m [\u001b[38;5;241m*\u001b[39m\u001b[38;5;28mself\u001b[39m\u001b[38;5;241m.\u001b[39m_get_lines(\u001b[38;5;241m*\u001b[39margs, data\u001b[38;5;241m=\u001b[39mdata, \u001b[38;5;241m*\u001b[39m\u001b[38;5;241m*\u001b[39mkwargs)]\n\u001b[1;32m   1633\u001b[0m \u001b[38;5;28;01mfor\u001b[39;00m line \u001b[38;5;129;01min\u001b[39;00m lines:\n\u001b[1;32m   1634\u001b[0m     \u001b[38;5;28mself\u001b[39m\u001b[38;5;241m.\u001b[39madd_line(line)\n",
      "File \u001b[0;32m~/anaconda3/envs/single_cell/lib/python3.8/site-packages/matplotlib/axes/_base.py:312\u001b[0m, in \u001b[0;36m_process_plot_var_args.__call__\u001b[0;34m(self, data, *args, **kwargs)\u001b[0m\n\u001b[1;32m    310\u001b[0m     this \u001b[38;5;241m+\u001b[39m\u001b[38;5;241m=\u001b[39m args[\u001b[38;5;241m0\u001b[39m],\n\u001b[1;32m    311\u001b[0m     args \u001b[38;5;241m=\u001b[39m args[\u001b[38;5;241m1\u001b[39m:]\n\u001b[0;32m--> 312\u001b[0m \u001b[38;5;28;01myield from\u001b[39;00m \u001b[38;5;28;43mself\u001b[39;49m\u001b[38;5;241;43m.\u001b[39;49m\u001b[43m_plot_args\u001b[49m\u001b[43m(\u001b[49m\u001b[43mthis\u001b[49m\u001b[43m,\u001b[49m\u001b[43m \u001b[49m\u001b[43mkwargs\u001b[49m\u001b[43m)\u001b[49m\n",
      "File \u001b[0;32m~/anaconda3/envs/single_cell/lib/python3.8/site-packages/matplotlib/axes/_base.py:498\u001b[0m, in \u001b[0;36m_process_plot_var_args._plot_args\u001b[0;34m(self, tup, kwargs, return_kwargs)\u001b[0m\n\u001b[1;32m    495\u001b[0m     \u001b[38;5;28mself\u001b[39m\u001b[38;5;241m.\u001b[39maxes\u001b[38;5;241m.\u001b[39myaxis\u001b[38;5;241m.\u001b[39mupdate_units(y)\n\u001b[1;32m    497\u001b[0m \u001b[38;5;28;01mif\u001b[39;00m x\u001b[38;5;241m.\u001b[39mshape[\u001b[38;5;241m0\u001b[39m] \u001b[38;5;241m!=\u001b[39m y\u001b[38;5;241m.\u001b[39mshape[\u001b[38;5;241m0\u001b[39m]:\n\u001b[0;32m--> 498\u001b[0m     \u001b[38;5;28;01mraise\u001b[39;00m \u001b[38;5;167;01mValueError\u001b[39;00m(\u001b[38;5;124mf\u001b[39m\u001b[38;5;124m\"\u001b[39m\u001b[38;5;124mx and y must have same first dimension, but \u001b[39m\u001b[38;5;124m\"\u001b[39m\n\u001b[1;32m    499\u001b[0m                      \u001b[38;5;124mf\u001b[39m\u001b[38;5;124m\"\u001b[39m\u001b[38;5;124mhave shapes \u001b[39m\u001b[38;5;132;01m{\u001b[39;00mx\u001b[38;5;241m.\u001b[39mshape\u001b[38;5;132;01m}\u001b[39;00m\u001b[38;5;124m and \u001b[39m\u001b[38;5;132;01m{\u001b[39;00my\u001b[38;5;241m.\u001b[39mshape\u001b[38;5;132;01m}\u001b[39;00m\u001b[38;5;124m\"\u001b[39m)\n\u001b[1;32m    500\u001b[0m \u001b[38;5;28;01mif\u001b[39;00m x\u001b[38;5;241m.\u001b[39mndim \u001b[38;5;241m>\u001b[39m \u001b[38;5;241m2\u001b[39m \u001b[38;5;129;01mor\u001b[39;00m y\u001b[38;5;241m.\u001b[39mndim \u001b[38;5;241m>\u001b[39m \u001b[38;5;241m2\u001b[39m:\n\u001b[1;32m    501\u001b[0m     \u001b[38;5;28;01mraise\u001b[39;00m \u001b[38;5;167;01mValueError\u001b[39;00m(\u001b[38;5;124mf\u001b[39m\u001b[38;5;124m\"\u001b[39m\u001b[38;5;124mx and y can be no greater than 2D, but have \u001b[39m\u001b[38;5;124m\"\u001b[39m\n\u001b[1;32m    502\u001b[0m                      \u001b[38;5;124mf\u001b[39m\u001b[38;5;124m\"\u001b[39m\u001b[38;5;124mshapes \u001b[39m\u001b[38;5;132;01m{\u001b[39;00mx\u001b[38;5;241m.\u001b[39mshape\u001b[38;5;132;01m}\u001b[39;00m\u001b[38;5;124m and \u001b[39m\u001b[38;5;132;01m{\u001b[39;00my\u001b[38;5;241m.\u001b[39mshape\u001b[38;5;132;01m}\u001b[39;00m\u001b[38;5;124m\"\u001b[39m)\n",
      "\u001b[0;31mValueError\u001b[0m: x and y must have same first dimension, but have shapes (10,) and (110,)"
     ]
    },
    {
     "data": {
      "image/png": "[encoded data removed]",
      "text/plain": [
       "<Figure size 180x108 with 1 Axes>"
      ]
     },
     "metadata": {
      "needs_background": "light"
     },
     "output_type": "display_data"
    }
   ],
   "source": [
    "plt.figure(figsize=(2.5,1.5))\n",
    "\n",
    "# plt.plot(rates, basics_concordances, '-o')\n",
    "plt.plot(rates, memento_concordances, '-o', color='deepskyblue', label='memento')\n",
    "plt.plot(rates, naive_concordances, '-o', color='grey', label='scHOT')\n",
    "# plt.legend()\n",
    "# plt.ylabel('Concordance to\\nfull data')\n",
    "plt.xlabel('Subsampling rate')\n",
    "# plt.savefig('method_concordance_corr.png', bbox_inches='tight', dpi=300)\n",
    "plt.title('Correlation')\n"
   ]
  },
  {
   "cell_type": "markdown",
   "id": "00e75695",
   "metadata": {},
   "source": [
    "### Mean"
   ]
  },
  {
   "cell_type": "code",
   "execution_count": 62,
   "id": "3256d173",
   "metadata": {},
   "outputs": [],
   "source": [
    "ctrl_full = pd.read_csv(result_path + 'mu_0.8_ctrl.csv').median(axis=0)\n",
    "stim_full = pd.read_csv(result_path + 'mu_0.8_stim.csv').median(axis=0)\n",
    "es_full = np.log(stim_full/ctrl_full)"
   ]
  },
  {
   "cell_type": "code",
   "execution_count": 63,
   "id": "b22bd154",
   "metadata": {},
   "outputs": [],
   "source": [
    "rates = [0.1, 0.2, 0.4, 0.6]"
   ]
  },
  {
   "cell_type": "code",
   "execution_count": 64,
   "id": "226476a6",
   "metadata": {},
   "outputs": [
    {
     "name": "stdout",
     "output_type": "stream",
     "text": [
      "0.9929708141321044\n",
      "0.9954224270353301\n",
      "0.9984086021505373\n",
      "0.9986420890937018\n"
     ]
    }
   ],
   "source": [
    "df_list = []\n",
    "basics_concordances = []\n",
    "for rate in rates:\n",
    "    df = pd.DataFrame()\n",
    "    ctrl_sub = pd.read_csv(result_path + 'mu_{}_ctrl.csv'.format(rate)).median(axis=0)\n",
    "    stim_sub = pd.read_csv(result_path + 'mu_{}_stim.csv'.format(rate)).median(axis=0)\n",
    "    es_sub = np.log(stim_sub/ctrl_sub)\n",
    "    \n",
    "    print(concordance(es_full, es_sub))\n",
    "    df['diff'] = np.abs(es_sub-es_full)\n",
    "    df['rate'] = rate\n",
    "    df_list.append(df)\n",
    "    basics_concordances.append(concordance(es_full, es_sub))\n",
    "df = pd.concat(df_list)"
   ]
  },
  {
   "cell_type": "code",
   "execution_count": 65,
   "id": "be22aaf3",
   "metadata": {},
   "outputs": [],
   "source": [
    "data_path = '/data_volume/memento/simulation/acc_fpr/'"
   ]
  },
  {
   "cell_type": "code",
   "execution_count": 66,
   "id": "42180766",
   "metadata": {},
   "outputs": [],
   "source": [
    "adata_full = sc.read(data_path + 'subsampled_0.8.h5ad')"
   ]
  },
  {
   "cell_type": "code",
   "execution_count": 67,
   "id": "8a6fc678",
   "metadata": {},
   "outputs": [],
   "source": [
    "adata_full.X = sparse.csr_matrix(adata_full.X.astype(float))"
   ]
  },
  {
   "cell_type": "code",
   "execution_count": 68,
   "id": "5ffbd66a",
   "metadata": {},
   "outputs": [],
   "source": [
    "adata_full.obs['q'] = 0.15"
   ]
  },
  {
   "cell_type": "code",
   "execution_count": 69,
   "id": "733e8cd5",
   "metadata": {},
   "outputs": [
    {
     "name": "stdout",
     "output_type": "stream",
     "text": [
      "Version 0.0.6\n"
     ]
    }
   ],
   "source": [
    "memento.setup_memento(adata_full, q_column='q', trim_percent=0.1)"
   ]
  },
  {
   "cell_type": "code",
   "execution_count": 70,
   "id": "fda361bd",
   "metadata": {},
   "outputs": [
    {
     "name": "stderr",
     "output_type": "stream",
     "text": [
      "/home/ssm-user/anaconda3/envs/single_cell/lib/python3.8/site-packages/pandas/core/arrays/categorical.py:2487: FutureWarning: The `inplace` parameter in pandas.Categorical.remove_unused_categories is deprecated and will be removed in a future version.\n",
      "  res = method(*args, **kwargs)\n"
     ]
    }
   ],
   "source": [
    "memento.create_groups(adata_full, label_columns=['stim'])\n",
    "memento.compute_1d_moments(adata_full, min_perc_group=.0)"
   ]
  },
  {
   "cell_type": "code",
   "execution_count": 71,
   "id": "22258b1a",
   "metadata": {},
   "outputs": [],
   "source": [
    "# memento.ht_1d_moments(\n",
    "#     adata_full, \n",
    "#     formula_like='1 + stim',\n",
    "#     treatment_col='stim', \n",
    "#     num_boot=500, \n",
    "#     verbose=1,\n",
    "#     num_cpus=14,\n",
    "#     resampling='bootstrap',\n",
    "#     approx=False)"
   ]
  },
  {
   "cell_type": "code",
   "execution_count": 72,
   "id": "85499f3d",
   "metadata": {},
   "outputs": [],
   "source": [
    "es_full = np.log(adata_full.uns['memento']['1d_moments']['sg^stim'][0]/adata_full.uns['memento']['1d_moments']['sg^ctrl'][0])"
   ]
  },
  {
   "cell_type": "code",
   "execution_count": 73,
   "id": "84695c30",
   "metadata": {},
   "outputs": [
    {
     "name": "stdout",
     "output_type": "stream",
     "text": [
      "Version 0.0.6\n",
      "0.9935791090629797\n",
      "Version 0.0.6\n",
      "0.996116743471582\n",
      "Version 0.0.6\n",
      "0.9984761904761904\n",
      "Version 0.0.6\n",
      "0.998943164362519\n"
     ]
    }
   ],
   "source": [
    "df_list = []\n",
    "memento_concordances = []\n",
    "for rate in rates:\n",
    "    df = pd.DataFrame()\n",
    "    adata_sub = sc.read(data_path + 'subsampled_{}.h5ad'.format(rate))\n",
    "    adata_sub.X = sparse.csr_matrix(adata_sub.X.astype(float))\n",
    "    adata_sub.obs['q'] = 0.07\n",
    "    memento.setup_memento(adata_sub, q_column='q', trim_percent=0.1)\n",
    "    memento.create_groups(adata_sub, label_columns=['stim'])\n",
    "    memento.compute_1d_moments(adata_sub, min_perc_group=.0)\n",
    "    \n",
    "#     memento.ht_1d_moments(\n",
    "#         adata_sub, \n",
    "#         formula_like='1 + stim',\n",
    "#         treatment_col='stim', \n",
    "#         num_boot=500, \n",
    "#         verbose=1,\n",
    "#         num_cpus=14,\n",
    "#         resampling='bootstrap',\n",
    "#         approx=False)\n",
    "        \n",
    "#     es_sub = memento.get_1d_ht_result(adata_sub)[['gene','dv_coef']]\n",
    "    es_sub = np.log(adata_sub.uns['memento']['1d_moments']['sg^stim'][0]/adata_sub.uns['memento']['1d_moments']['sg^ctrl'][0])\n",
    "#     merged = es_full.merge(es_sub, on='gene')\n",
    "#     print(concordance(merged['dv_coef_x'], merged['dv_coef_y']))\n",
    "    print(concordance(es_full, es_sub))\n",
    "    memento_concordances.append(concordance(es_full, es_sub))\n",
    "    df['diff'] = np.abs(es_sub-es_full)\n",
    "    df['rate'] = rate\n",
    "    df_list.append(df)\n",
    "    \n",
    "df = pd.concat(df_list)"
   ]
  },
  {
   "cell_type": "code",
   "execution_count": 74,
   "id": "c1702c2b",
   "metadata": {},
   "outputs": [
    {
     "data": {
      "text/plain": [
       "Text(0.5, 1.0, 'Mean')"
      ]
     },
     "execution_count": 74,
     "metadata": {},
     "output_type": "execute_result"
    },
    {
     "data": {
      "image/png": "[encoded data removed]",
      "text/plain": [
       "<Figure size 180x108 with 1 Axes>"
      ]
     },
     "metadata": {
      "needs_background": "light"
     },
     "output_type": "display_data"
    }
   ],
   "source": [
    "plt.figure(figsize=(2.5,1.5))\n",
    "\n",
    "plt.plot(rates, basics_concordances, '-o', color='blue')\n",
    "plt.plot(rates, memento_concordances, '-o', color='green')\n",
    "plt.legend(['BASiCs','memento', ])\n",
    "plt.ylabel('Concordance to\\nfull data')\n",
    "plt.xlabel('Subsampling rate')\n",
    "plt.savefig('method_concordance_mean.png', bbox_inches='tight', dpi=300)\n",
    "plt.title('Mean')\n"
   ]
  }
 ],
 "metadata": {
  "kernelspec": {
   "display_name": "Python 3 (ipykernel)",
   "language": "python",
   "name": "python3"
  },
  "language_info": {
   "codemirror_mode": {
    "name": "ipython",
    "version": 3
   },
   "file_extension": ".py",
   "mimetype": "text/x-python",
   "name": "python",
   "nbconvert_exporter": "python",
   "pygments_lexer": "ipython3",
   "version": "3.11.8"
  }
 },
 "nbformat": 4,
 "nbformat_minor": 5
}
