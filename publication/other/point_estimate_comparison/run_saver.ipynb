{
 "cells": [
  {
   "cell_type": "code",
   "execution_count": null,
   "id": "b948b59d-5dae-4cb6-8000-6e262c783724",
   "metadata": {},
   "outputs": [],
   "source": [
    "library('SAVER')\n",
    "\n",
    "# saver_obj = readRDS('/data_volume/memento/saver/melanoma_dropseq_saver.rds')\n",
    "\n",
    "dropseq_data = readRDS('/data_volume/memento/saver/melanoma_dropseq.rds')\n",
    "\n",
    "saver_obj = saver(dropseq_data, ncores=3)\n",
    "\n",
    "saveRDS(saver_obj, 'saver_melanoma.rds')\n",
    "\n",
    "saver_obj <- readRDS('saver_melanoma.rds')\n",
    "\n",
    "write.csv(saver_obj[['estimate']], '/data_volume/memento/saver/saver_estimates.csv')"
   ]
  },
  {
   "cell_type": "markdown",
   "id": "eac90a73",
   "metadata": {},
   "source": [
    "### Read saved RDS file"
   ]
  },
  {
   "cell_type": "markdown",
   "id": "d8493e14",
   "metadata": {},
   "source": [
    "saver_obj = readRDS('melanoma_dropseq_saver.rds')"
   ]
  },
  {
   "cell_type": "markdown",
   "id": "30fc7686",
   "metadata": {},
   "source": [
    "corr_df = cor.genes(saver_obj)"
   ]
  },
  {
   "cell_type": "markdown",
   "id": "fa955548",
   "metadata": {},
   "source": [
    "dim(corr_df)"
   ]
  },
  {
   "cell_type": "markdown",
   "id": "96424111",
   "metadata": {},
   "source": [
    "write.csv(corr_df, '/data_volume/memento/saver/saver_corrs.csv')"
   ]
  },
  {
   "cell_type": "markdown",
   "id": "426818c0",
   "metadata": {},
   "source": [
    "### Saver correlation code"
   ]
  },
  {
   "cell_type": "code",
   "execution_count": null,
   "id": "013e423d",
   "metadata": {},
   "outputs": [],
   "source": [
    "sf <- colSums(dropseq_data)/mean(colSums(dropseq_data))"
   ]
  },
  {
   "cell_type": "code",
   "execution_count": null,
   "id": "29fa9073",
   "metadata": {},
   "outputs": [],
   "source": [
    "library(reshape2)\n",
    "\n",
    "adj.vec <- rep(0, 12241)\n",
    "for (i in 1:12241) {\n",
    "  adj.vec[i] <- \n",
    "    sqrt(var(saver_obj$estimate[i, ]*sf, na.rm = TRUE)/\n",
    "           (var(saver_obj$estimate[i, ]*sf, na.rm = TRUE) + \n",
    "              mean(saver_obj$se[i, ]^2*sf^2, na.rm = TRUE)))\n",
    "}"
   ]
  },
  {
   "cell_type": "code",
   "execution_count": null,
   "id": "16d88f44",
   "metadata": {},
   "outputs": [],
   "source": [
    "scale.factor <- outer(adj.vec, adj.vec)\n"
   ]
  },
  {
   "cell_type": "code",
   "execution_count": null,
   "id": "eb333752",
   "metadata": {},
   "outputs": [],
   "source": [
    "temp.cor <- cor( t(sweep(saver_obj$estimate, 2, sf, \"*\")))"
   ]
  },
  {
   "cell_type": "code",
   "execution_count": null,
   "id": "9a2617fe",
   "metadata": {},
   "outputs": [],
   "source": [
    "saver.cor <- temp.cor*scale.factor\n"
   ]
  },
  {
   "cell_type": "code",
   "execution_count": null,
   "id": "1a200fc1",
   "metadata": {},
   "outputs": [],
   "source": [
    "dim(saver.cor)"
   ]
  },
  {
   "cell_type": "code",
   "execution_count": null,
   "id": "b83b5925",
   "metadata": {},
   "outputs": [],
   "source": [
    "write.csv(saver.cor, '/data_volume/memento/saver/saver_corrs.csv')"
   ]
  },
  {
   "cell_type": "markdown",
   "id": "1db2b2bc",
   "metadata": {},
   "source": [
    "### Sample from saver posterior"
   ]
  },
  {
   "cell_type": "code",
   "execution_count": 4,
   "id": "8cea2591",
   "metadata": {},
   "outputs": [],
   "source": [
    "saver_obj <- readRDS('/data_volume/memento/saver/melanoma_dropseq_saver.rds')"
   ]
  },
  {
   "cell_type": "code",
   "execution_count": 9,
   "id": "fb05fa47",
   "metadata": {},
   "outputs": [
    {
     "data": {
      "text/html": [
       "<style>\n",
       ".list-inline {list-style: none; margin:0; padding: 0}\n",
       ".list-inline>li {display: inline-block}\n",
       ".list-inline>li:not(:last-child)::after {content: \"\\00b7\"; padding: 0 .5ex}\n",
       "</style>\n",
       "<ol class=list-inline><li>16</li><li>8498</li></ol>\n"
      ],
      "text/latex": [
       "\\begin{enumerate*}\n",
       "\\item 16\n",
       "\\item 8498\n",
       "\\end{enumerate*}\n"
      ],
      "text/markdown": [
       "1. 16\n",
       "2. 8498\n",
       "\n",
       "\n"
      ],
      "text/plain": [
       "[1]   16 8498"
      ]
     },
     "metadata": {},
     "output_type": "display_data"
    }
   ],
   "source": [
    "dim(saver_obj[['estimate']])"
   ]
  },
  {
   "cell_type": "code",
   "execution_count": 15,
   "id": "1d5b48da",
   "metadata": {},
   "outputs": [],
   "source": [
    "sample = sample.saver(saver_obj, rep=1, seed=50)"
   ]
  },
  {
   "cell_type": "code",
   "execution_count": 16,
   "id": "962f62c3",
   "metadata": {},
   "outputs": [
    {
     "data": {
      "text/html": [
       "<table class=\"dataframe\">\n",
       "<caption>A matrix: 16 × 8498 of type dbl</caption>\n",
       "<thead>\n",
       "\t<tr><th></th><th scope=col>CTCGCGAGTAGC</th><th scope=col>CGGAGGCACTCG</th><th scope=col>GCAAGTCGATAT</th><th scope=col>GGACAATTTGTA</th><th scope=col>TGACAATTGACC</th><th scope=col>TAAGACTTCCCT</th><th scope=col>GAGGAAGGACTC</th><th scope=col>GAAACGGACAGA</th><th scope=col>TCGATTGGAGAA</th><th scope=col>ATCTAGTCCCCA</th><th scope=col>⋯</th><th scope=col>AGCCCTGACAAC</th><th scope=col>ACTCTCGATTCC</th><th scope=col>GGTCAAATAAGA</th><th scope=col>ACCTCCCCTATA</th><th scope=col>ACCTCCCCTACC</th><th scope=col>CCATTTTTTCCT</th><th scope=col>TAAAGCGTGTAC</th><th scope=col>GATCAGAAGGTA</th><th scope=col>AGCGAGACGATG</th><th scope=col>ATTCTTGTGTAC</th></tr>\n",
       "</thead>\n",
       "<tbody>\n",
       "\t<tr><th scope=row>BABAM1</th><td> 0.081</td><td>0.026</td><td>0.008</td><td> 0.121</td><td>0.072</td><td>0.071</td><td>0.040</td><td> 0.065</td><td> 0.066</td><td> 0.077</td><td>⋯</td><td>0.089</td><td>0.145</td><td>0.064</td><td>0.062</td><td>0.211</td><td> 0.042</td><td> 0.069</td><td> 0.088</td><td>0.088</td><td>0.188</td></tr>\n",
       "\t<tr><th scope=row>C1S</th><td> 0.033</td><td>0.002</td><td>0.000</td><td> 0.003</td><td>0.000</td><td>0.002</td><td>0.033</td><td> 0.002</td><td> 0.000</td><td> 0.000</td><td>⋯</td><td>0.001</td><td>0.000</td><td>0.000</td><td>0.000</td><td>0.068</td><td> 0.005</td><td> 0.000</td><td> 0.000</td><td>0.000</td><td>0.000</td></tr>\n",
       "\t<tr><th scope=row>CCNA2</th><td> 0.029</td><td>0.005</td><td>0.079</td><td> 0.033</td><td>0.152</td><td>0.013</td><td>0.043</td><td> 0.016</td><td> 0.038</td><td> 0.042</td><td>⋯</td><td>0.062</td><td>0.009</td><td>0.154</td><td>0.254</td><td>0.107</td><td> 0.054</td><td> 0.026</td><td> 0.104</td><td>0.073</td><td>0.004</td></tr>\n",
       "\t<tr><th scope=row>FGFR1</th><td> 0.001</td><td>0.001</td><td>0.003</td><td> 0.000</td><td>0.002</td><td>0.006</td><td>0.001</td><td> 0.001</td><td> 0.065</td><td> 0.005</td><td>⋯</td><td>0.000</td><td>0.000</td><td>0.000</td><td>0.006</td><td>0.012</td><td> 0.008</td><td> 0.014</td><td> 0.000</td><td>0.066</td><td>0.013</td></tr>\n",
       "\t<tr><th scope=row>FOSL1</th><td> 0.003</td><td>0.105</td><td>0.174</td><td> 0.000</td><td>0.022</td><td>0.000</td><td>0.334</td><td> 0.029</td><td> 0.057</td><td> 0.157</td><td>⋯</td><td>0.016</td><td>0.001</td><td>0.000</td><td>0.029</td><td>0.011</td><td> 0.011</td><td> 0.099</td><td> 0.001</td><td>0.119</td><td>0.174</td></tr>\n",
       "\t<tr><th scope=row>GAPDH</th><td>12.591</td><td>3.966</td><td>6.537</td><td>11.876</td><td>9.765</td><td>8.087</td><td>8.045</td><td>10.472</td><td>16.591</td><td>13.323</td><td>⋯</td><td>9.503</td><td>9.207</td><td>4.853</td><td>6.163</td><td>9.667</td><td>11.476</td><td>12.979</td><td>15.315</td><td>4.904</td><td>9.659</td></tr>\n",
       "\t<tr><th scope=row>JUN</th><td> 0.000</td><td>0.002</td><td>0.242</td><td> 0.000</td><td>0.000</td><td>0.006</td><td>0.000</td><td> 0.109</td><td> 0.000</td><td> 0.000</td><td>⋯</td><td>0.037</td><td>0.000</td><td>0.003</td><td>0.015</td><td>0.000</td><td> 0.051</td><td> 0.000</td><td> 0.000</td><td>0.000</td><td>0.002</td></tr>\n",
       "\t<tr><th scope=row>KDM5A</th><td> 0.186</td><td>0.071</td><td>0.032</td><td> 0.563</td><td>0.200</td><td>0.225</td><td>0.045</td><td> 0.515</td><td> 0.379</td><td> 0.298</td><td>⋯</td><td>0.250</td><td>0.190</td><td>0.216</td><td>0.180</td><td>0.056</td><td> 0.415</td><td> 0.319</td><td> 0.279</td><td>0.291</td><td>0.340</td></tr>\n",
       "\t<tr><th scope=row>KDM5B</th><td> 0.060</td><td>0.279</td><td>0.018</td><td> 0.009</td><td>0.047</td><td>0.229</td><td>0.095</td><td> 0.009</td><td> 0.206</td><td> 0.004</td><td>⋯</td><td>0.024</td><td>0.000</td><td>0.111</td><td>0.075</td><td>0.040</td><td> 0.005</td><td> 0.126</td><td> 0.016</td><td>0.046</td><td>0.124</td></tr>\n",
       "\t<tr><th scope=row>LMNA</th><td> 0.464</td><td>0.293</td><td>0.616</td><td> 0.474</td><td>0.850</td><td>0.247</td><td>0.300</td><td> 1.173</td><td> 0.655</td><td> 0.826</td><td>⋯</td><td>0.622</td><td>1.136</td><td>0.813</td><td>1.198</td><td>0.481</td><td> 0.832</td><td> 0.579</td><td> 0.516</td><td>0.159</td><td>0.671</td></tr>\n",
       "\t<tr><th scope=row>MITF</th><td> 1.354</td><td>0.312</td><td>1.653</td><td> 0.662</td><td>1.083</td><td>0.936</td><td>1.545</td><td> 0.695</td><td> 1.163</td><td> 1.509</td><td>⋯</td><td>1.183</td><td>0.609</td><td>1.993</td><td>0.892</td><td>0.808</td><td> 0.329</td><td> 0.796</td><td> 1.775</td><td>0.466</td><td>0.561</td></tr>\n",
       "\t<tr><th scope=row>RUNX2</th><td> 0.002</td><td>0.000</td><td>0.003</td><td> 0.006</td><td>0.002</td><td>0.035</td><td>0.015</td><td> 0.020</td><td> 0.004</td><td> 0.068</td><td>⋯</td><td>0.001</td><td>0.000</td><td>0.000</td><td>0.007</td><td>0.006</td><td> 0.012</td><td> 0.024</td><td> 0.016</td><td>0.054</td><td>0.022</td></tr>\n",
       "\t<tr><th scope=row>SOX10</th><td> 0.137</td><td>0.171</td><td>0.129</td><td> 0.399</td><td>0.087</td><td>0.150</td><td>0.065</td><td> 0.269</td><td> 0.431</td><td> 0.176</td><td>⋯</td><td>0.170</td><td>0.299</td><td>0.071</td><td>0.054</td><td>0.267</td><td> 0.124</td><td> 0.159</td><td> 0.239</td><td>0.087</td><td>0.250</td></tr>\n",
       "\t<tr><th scope=row>TXNRD1</th><td> 0.724</td><td>0.127</td><td>0.052</td><td> 0.205</td><td>0.259</td><td>0.162</td><td>0.415</td><td> 1.121</td><td> 0.525</td><td> 0.814</td><td>⋯</td><td>0.478</td><td>0.235</td><td>0.115</td><td>0.253</td><td>0.117</td><td> 0.499</td><td> 0.283</td><td> 0.102</td><td>0.983</td><td>0.321</td></tr>\n",
       "\t<tr><th scope=row>VCL</th><td> 0.003</td><td>0.003</td><td>0.005</td><td> 0.015</td><td>0.002</td><td>0.074</td><td>0.024</td><td> 0.101</td><td> 0.048</td><td> 0.100</td><td>⋯</td><td>0.092</td><td>0.005</td><td>0.011</td><td>0.003</td><td>0.049</td><td> 0.302</td><td> 0.005</td><td> 0.000</td><td>0.089</td><td>0.021</td></tr>\n",
       "\t<tr><th scope=row>VGF</th><td> 2.720</td><td>1.907</td><td>0.341</td><td> 1.546</td><td>0.087</td><td>0.384</td><td>1.501</td><td> 0.506</td><td> 1.897</td><td> 0.899</td><td>⋯</td><td>0.715</td><td>0.953</td><td>0.611</td><td>0.718</td><td>0.724</td><td> 3.094</td><td> 0.027</td><td> 0.659</td><td>0.417</td><td>0.047</td></tr>\n",
       "</tbody>\n",
       "</table>\n"
      ],
      "text/latex": [
       "A matrix: 16 × 8498 of type dbl\n",
       "\\begin{tabular}{r|lllllllllllllllllllll}\n",
       "  & CTCGCGAGTAGC & CGGAGGCACTCG & GCAAGTCGATAT & GGACAATTTGTA & TGACAATTGACC & TAAGACTTCCCT & GAGGAAGGACTC & GAAACGGACAGA & TCGATTGGAGAA & ATCTAGTCCCCA & ⋯ & AGCCCTGACAAC & ACTCTCGATTCC & GGTCAAATAAGA & ACCTCCCCTATA & ACCTCCCCTACC & CCATTTTTTCCT & TAAAGCGTGTAC & GATCAGAAGGTA & AGCGAGACGATG & ATTCTTGTGTAC\\\\\n",
       "\\hline\n",
       "\tBABAM1 &  0.081 & 0.026 & 0.008 &  0.121 & 0.072 & 0.071 & 0.040 &  0.065 &  0.066 &  0.077 & ⋯ & 0.089 & 0.145 & 0.064 & 0.062 & 0.211 &  0.042 &  0.069 &  0.088 & 0.088 & 0.188\\\\\n",
       "\tC1S &  0.033 & 0.002 & 0.000 &  0.003 & 0.000 & 0.002 & 0.033 &  0.002 &  0.000 &  0.000 & ⋯ & 0.001 & 0.000 & 0.000 & 0.000 & 0.068 &  0.005 &  0.000 &  0.000 & 0.000 & 0.000\\\\\n",
       "\tCCNA2 &  0.029 & 0.005 & 0.079 &  0.033 & 0.152 & 0.013 & 0.043 &  0.016 &  0.038 &  0.042 & ⋯ & 0.062 & 0.009 & 0.154 & 0.254 & 0.107 &  0.054 &  0.026 &  0.104 & 0.073 & 0.004\\\\\n",
       "\tFGFR1 &  0.001 & 0.001 & 0.003 &  0.000 & 0.002 & 0.006 & 0.001 &  0.001 &  0.065 &  0.005 & ⋯ & 0.000 & 0.000 & 0.000 & 0.006 & 0.012 &  0.008 &  0.014 &  0.000 & 0.066 & 0.013\\\\\n",
       "\tFOSL1 &  0.003 & 0.105 & 0.174 &  0.000 & 0.022 & 0.000 & 0.334 &  0.029 &  0.057 &  0.157 & ⋯ & 0.016 & 0.001 & 0.000 & 0.029 & 0.011 &  0.011 &  0.099 &  0.001 & 0.119 & 0.174\\\\\n",
       "\tGAPDH & 12.591 & 3.966 & 6.537 & 11.876 & 9.765 & 8.087 & 8.045 & 10.472 & 16.591 & 13.323 & ⋯ & 9.503 & 9.207 & 4.853 & 6.163 & 9.667 & 11.476 & 12.979 & 15.315 & 4.904 & 9.659\\\\\n",
       "\tJUN &  0.000 & 0.002 & 0.242 &  0.000 & 0.000 & 0.006 & 0.000 &  0.109 &  0.000 &  0.000 & ⋯ & 0.037 & 0.000 & 0.003 & 0.015 & 0.000 &  0.051 &  0.000 &  0.000 & 0.000 & 0.002\\\\\n",
       "\tKDM5A &  0.186 & 0.071 & 0.032 &  0.563 & 0.200 & 0.225 & 0.045 &  0.515 &  0.379 &  0.298 & ⋯ & 0.250 & 0.190 & 0.216 & 0.180 & 0.056 &  0.415 &  0.319 &  0.279 & 0.291 & 0.340\\\\\n",
       "\tKDM5B &  0.060 & 0.279 & 0.018 &  0.009 & 0.047 & 0.229 & 0.095 &  0.009 &  0.206 &  0.004 & ⋯ & 0.024 & 0.000 & 0.111 & 0.075 & 0.040 &  0.005 &  0.126 &  0.016 & 0.046 & 0.124\\\\\n",
       "\tLMNA &  0.464 & 0.293 & 0.616 &  0.474 & 0.850 & 0.247 & 0.300 &  1.173 &  0.655 &  0.826 & ⋯ & 0.622 & 1.136 & 0.813 & 1.198 & 0.481 &  0.832 &  0.579 &  0.516 & 0.159 & 0.671\\\\\n",
       "\tMITF &  1.354 & 0.312 & 1.653 &  0.662 & 1.083 & 0.936 & 1.545 &  0.695 &  1.163 &  1.509 & ⋯ & 1.183 & 0.609 & 1.993 & 0.892 & 0.808 &  0.329 &  0.796 &  1.775 & 0.466 & 0.561\\\\\n",
       "\tRUNX2 &  0.002 & 0.000 & 0.003 &  0.006 & 0.002 & 0.035 & 0.015 &  0.020 &  0.004 &  0.068 & ⋯ & 0.001 & 0.000 & 0.000 & 0.007 & 0.006 &  0.012 &  0.024 &  0.016 & 0.054 & 0.022\\\\\n",
       "\tSOX10 &  0.137 & 0.171 & 0.129 &  0.399 & 0.087 & 0.150 & 0.065 &  0.269 &  0.431 &  0.176 & ⋯ & 0.170 & 0.299 & 0.071 & 0.054 & 0.267 &  0.124 &  0.159 &  0.239 & 0.087 & 0.250\\\\\n",
       "\tTXNRD1 &  0.724 & 0.127 & 0.052 &  0.205 & 0.259 & 0.162 & 0.415 &  1.121 &  0.525 &  0.814 & ⋯ & 0.478 & 0.235 & 0.115 & 0.253 & 0.117 &  0.499 &  0.283 &  0.102 & 0.983 & 0.321\\\\\n",
       "\tVCL &  0.003 & 0.003 & 0.005 &  0.015 & 0.002 & 0.074 & 0.024 &  0.101 &  0.048 &  0.100 & ⋯ & 0.092 & 0.005 & 0.011 & 0.003 & 0.049 &  0.302 &  0.005 &  0.000 & 0.089 & 0.021\\\\\n",
       "\tVGF &  2.720 & 1.907 & 0.341 &  1.546 & 0.087 & 0.384 & 1.501 &  0.506 &  1.897 &  0.899 & ⋯ & 0.715 & 0.953 & 0.611 & 0.718 & 0.724 &  3.094 &  0.027 &  0.659 & 0.417 & 0.047\\\\\n",
       "\\end{tabular}\n"
      ],
      "text/markdown": [
       "\n",
       "A matrix: 16 × 8498 of type dbl\n",
       "\n",
       "| <!--/--> | CTCGCGAGTAGC | CGGAGGCACTCG | GCAAGTCGATAT | GGACAATTTGTA | TGACAATTGACC | TAAGACTTCCCT | GAGGAAGGACTC | GAAACGGACAGA | TCGATTGGAGAA | ATCTAGTCCCCA | ⋯ | AGCCCTGACAAC | ACTCTCGATTCC | GGTCAAATAAGA | ACCTCCCCTATA | ACCTCCCCTACC | CCATTTTTTCCT | TAAAGCGTGTAC | GATCAGAAGGTA | AGCGAGACGATG | ATTCTTGTGTAC |\n",
       "|---|---|---|---|---|---|---|---|---|---|---|---|---|---|---|---|---|---|---|---|---|---|\n",
       "| BABAM1 |  0.081 | 0.026 | 0.008 |  0.121 | 0.072 | 0.071 | 0.040 |  0.065 |  0.066 |  0.077 | ⋯ | 0.089 | 0.145 | 0.064 | 0.062 | 0.211 |  0.042 |  0.069 |  0.088 | 0.088 | 0.188 |\n",
       "| C1S |  0.033 | 0.002 | 0.000 |  0.003 | 0.000 | 0.002 | 0.033 |  0.002 |  0.000 |  0.000 | ⋯ | 0.001 | 0.000 | 0.000 | 0.000 | 0.068 |  0.005 |  0.000 |  0.000 | 0.000 | 0.000 |\n",
       "| CCNA2 |  0.029 | 0.005 | 0.079 |  0.033 | 0.152 | 0.013 | 0.043 |  0.016 |  0.038 |  0.042 | ⋯ | 0.062 | 0.009 | 0.154 | 0.254 | 0.107 |  0.054 |  0.026 |  0.104 | 0.073 | 0.004 |\n",
       "| FGFR1 |  0.001 | 0.001 | 0.003 |  0.000 | 0.002 | 0.006 | 0.001 |  0.001 |  0.065 |  0.005 | ⋯ | 0.000 | 0.000 | 0.000 | 0.006 | 0.012 |  0.008 |  0.014 |  0.000 | 0.066 | 0.013 |\n",
       "| FOSL1 |  0.003 | 0.105 | 0.174 |  0.000 | 0.022 | 0.000 | 0.334 |  0.029 |  0.057 |  0.157 | ⋯ | 0.016 | 0.001 | 0.000 | 0.029 | 0.011 |  0.011 |  0.099 |  0.001 | 0.119 | 0.174 |\n",
       "| GAPDH | 12.591 | 3.966 | 6.537 | 11.876 | 9.765 | 8.087 | 8.045 | 10.472 | 16.591 | 13.323 | ⋯ | 9.503 | 9.207 | 4.853 | 6.163 | 9.667 | 11.476 | 12.979 | 15.315 | 4.904 | 9.659 |\n",
       "| JUN |  0.000 | 0.002 | 0.242 |  0.000 | 0.000 | 0.006 | 0.000 |  0.109 |  0.000 |  0.000 | ⋯ | 0.037 | 0.000 | 0.003 | 0.015 | 0.000 |  0.051 |  0.000 |  0.000 | 0.000 | 0.002 |\n",
       "| KDM5A |  0.186 | 0.071 | 0.032 |  0.563 | 0.200 | 0.225 | 0.045 |  0.515 |  0.379 |  0.298 | ⋯ | 0.250 | 0.190 | 0.216 | 0.180 | 0.056 |  0.415 |  0.319 |  0.279 | 0.291 | 0.340 |\n",
       "| KDM5B |  0.060 | 0.279 | 0.018 |  0.009 | 0.047 | 0.229 | 0.095 |  0.009 |  0.206 |  0.004 | ⋯ | 0.024 | 0.000 | 0.111 | 0.075 | 0.040 |  0.005 |  0.126 |  0.016 | 0.046 | 0.124 |\n",
       "| LMNA |  0.464 | 0.293 | 0.616 |  0.474 | 0.850 | 0.247 | 0.300 |  1.173 |  0.655 |  0.826 | ⋯ | 0.622 | 1.136 | 0.813 | 1.198 | 0.481 |  0.832 |  0.579 |  0.516 | 0.159 | 0.671 |\n",
       "| MITF |  1.354 | 0.312 | 1.653 |  0.662 | 1.083 | 0.936 | 1.545 |  0.695 |  1.163 |  1.509 | ⋯ | 1.183 | 0.609 | 1.993 | 0.892 | 0.808 |  0.329 |  0.796 |  1.775 | 0.466 | 0.561 |\n",
       "| RUNX2 |  0.002 | 0.000 | 0.003 |  0.006 | 0.002 | 0.035 | 0.015 |  0.020 |  0.004 |  0.068 | ⋯ | 0.001 | 0.000 | 0.000 | 0.007 | 0.006 |  0.012 |  0.024 |  0.016 | 0.054 | 0.022 |\n",
       "| SOX10 |  0.137 | 0.171 | 0.129 |  0.399 | 0.087 | 0.150 | 0.065 |  0.269 |  0.431 |  0.176 | ⋯ | 0.170 | 0.299 | 0.071 | 0.054 | 0.267 |  0.124 |  0.159 |  0.239 | 0.087 | 0.250 |\n",
       "| TXNRD1 |  0.724 | 0.127 | 0.052 |  0.205 | 0.259 | 0.162 | 0.415 |  1.121 |  0.525 |  0.814 | ⋯ | 0.478 | 0.235 | 0.115 | 0.253 | 0.117 |  0.499 |  0.283 |  0.102 | 0.983 | 0.321 |\n",
       "| VCL |  0.003 | 0.003 | 0.005 |  0.015 | 0.002 | 0.074 | 0.024 |  0.101 |  0.048 |  0.100 | ⋯ | 0.092 | 0.005 | 0.011 | 0.003 | 0.049 |  0.302 |  0.005 |  0.000 | 0.089 | 0.021 |\n",
       "| VGF |  2.720 | 1.907 | 0.341 |  1.546 | 0.087 | 0.384 | 1.501 |  0.506 |  1.897 |  0.899 | ⋯ | 0.715 | 0.953 | 0.611 | 0.718 | 0.724 |  3.094 |  0.027 |  0.659 | 0.417 | 0.047 |\n",
       "\n"
      ],
      "text/plain": [
       "       CTCGCGAGTAGC CGGAGGCACTCG GCAAGTCGATAT GGACAATTTGTA TGACAATTGACC\n",
       "BABAM1  0.081       0.026        0.008         0.121       0.072       \n",
       "C1S     0.033       0.002        0.000         0.003       0.000       \n",
       "CCNA2   0.029       0.005        0.079         0.033       0.152       \n",
       "FGFR1   0.001       0.001        0.003         0.000       0.002       \n",
       "FOSL1   0.003       0.105        0.174         0.000       0.022       \n",
       "GAPDH  12.591       3.966        6.537        11.876       9.765       \n",
       "JUN     0.000       0.002        0.242         0.000       0.000       \n",
       "KDM5A   0.186       0.071        0.032         0.563       0.200       \n",
       "KDM5B   0.060       0.279        0.018         0.009       0.047       \n",
       "LMNA    0.464       0.293        0.616         0.474       0.850       \n",
       "MITF    1.354       0.312        1.653         0.662       1.083       \n",
       "RUNX2   0.002       0.000        0.003         0.006       0.002       \n",
       "SOX10   0.137       0.171        0.129         0.399       0.087       \n",
       "TXNRD1  0.724       0.127        0.052         0.205       0.259       \n",
       "VCL     0.003       0.003        0.005         0.015       0.002       \n",
       "VGF     2.720       1.907        0.341         1.546       0.087       \n",
       "       TAAGACTTCCCT GAGGAAGGACTC GAAACGGACAGA TCGATTGGAGAA ATCTAGTCCCCA ⋯\n",
       "BABAM1 0.071        0.040         0.065        0.066        0.077       ⋯\n",
       "C1S    0.002        0.033         0.002        0.000        0.000       ⋯\n",
       "CCNA2  0.013        0.043         0.016        0.038        0.042       ⋯\n",
       "FGFR1  0.006        0.001         0.001        0.065        0.005       ⋯\n",
       "FOSL1  0.000        0.334         0.029        0.057        0.157       ⋯\n",
       "GAPDH  8.087        8.045        10.472       16.591       13.323       ⋯\n",
       "JUN    0.006        0.000         0.109        0.000        0.000       ⋯\n",
       "KDM5A  0.225        0.045         0.515        0.379        0.298       ⋯\n",
       "KDM5B  0.229        0.095         0.009        0.206        0.004       ⋯\n",
       "LMNA   0.247        0.300         1.173        0.655        0.826       ⋯\n",
       "MITF   0.936        1.545         0.695        1.163        1.509       ⋯\n",
       "RUNX2  0.035        0.015         0.020        0.004        0.068       ⋯\n",
       "SOX10  0.150        0.065         0.269        0.431        0.176       ⋯\n",
       "TXNRD1 0.162        0.415         1.121        0.525        0.814       ⋯\n",
       "VCL    0.074        0.024         0.101        0.048        0.100       ⋯\n",
       "VGF    0.384        1.501         0.506        1.897        0.899       ⋯\n",
       "       AGCCCTGACAAC ACTCTCGATTCC GGTCAAATAAGA ACCTCCCCTATA ACCTCCCCTACC\n",
       "BABAM1 0.089        0.145        0.064        0.062        0.211       \n",
       "C1S    0.001        0.000        0.000        0.000        0.068       \n",
       "CCNA2  0.062        0.009        0.154        0.254        0.107       \n",
       "FGFR1  0.000        0.000        0.000        0.006        0.012       \n",
       "FOSL1  0.016        0.001        0.000        0.029        0.011       \n",
       "GAPDH  9.503        9.207        4.853        6.163        9.667       \n",
       "JUN    0.037        0.000        0.003        0.015        0.000       \n",
       "KDM5A  0.250        0.190        0.216        0.180        0.056       \n",
       "KDM5B  0.024        0.000        0.111        0.075        0.040       \n",
       "LMNA   0.622        1.136        0.813        1.198        0.481       \n",
       "MITF   1.183        0.609        1.993        0.892        0.808       \n",
       "RUNX2  0.001        0.000        0.000        0.007        0.006       \n",
       "SOX10  0.170        0.299        0.071        0.054        0.267       \n",
       "TXNRD1 0.478        0.235        0.115        0.253        0.117       \n",
       "VCL    0.092        0.005        0.011        0.003        0.049       \n",
       "VGF    0.715        0.953        0.611        0.718        0.724       \n",
       "       CCATTTTTTCCT TAAAGCGTGTAC GATCAGAAGGTA AGCGAGACGATG ATTCTTGTGTAC\n",
       "BABAM1  0.042        0.069        0.088       0.088        0.188       \n",
       "C1S     0.005        0.000        0.000       0.000        0.000       \n",
       "CCNA2   0.054        0.026        0.104       0.073        0.004       \n",
       "FGFR1   0.008        0.014        0.000       0.066        0.013       \n",
       "FOSL1   0.011        0.099        0.001       0.119        0.174       \n",
       "GAPDH  11.476       12.979       15.315       4.904        9.659       \n",
       "JUN     0.051        0.000        0.000       0.000        0.002       \n",
       "KDM5A   0.415        0.319        0.279       0.291        0.340       \n",
       "KDM5B   0.005        0.126        0.016       0.046        0.124       \n",
       "LMNA    0.832        0.579        0.516       0.159        0.671       \n",
       "MITF    0.329        0.796        1.775       0.466        0.561       \n",
       "RUNX2   0.012        0.024        0.016       0.054        0.022       \n",
       "SOX10   0.124        0.159        0.239       0.087        0.250       \n",
       "TXNRD1  0.499        0.283        0.102       0.983        0.321       \n",
       "VCL     0.302        0.005        0.000       0.089        0.021       \n",
       "VGF     3.094        0.027        0.659       0.417        0.047       "
      ]
     },
     "metadata": {},
     "output_type": "display_data"
    }
   ],
   "source": [
    "sample"
   ]
  },
  {
   "cell_type": "code",
   "execution_count": null,
   "id": "9adc86fc",
   "metadata": {},
   "outputs": [],
   "source": []
  }
 ],
 "metadata": {
  "kernelspec": {
   "display_name": "R",
   "language": "R",
   "name": "ir"
  },
  "language_info": {
   "codemirror_mode": "r",
   "file_extension": ".r",
   "mimetype": "text/x-r-source",
   "name": "R",
   "pygments_lexer": "r",
   "version": "4.3.2"
  }
 },
 "nbformat": 4,
 "nbformat_minor": 5
}
