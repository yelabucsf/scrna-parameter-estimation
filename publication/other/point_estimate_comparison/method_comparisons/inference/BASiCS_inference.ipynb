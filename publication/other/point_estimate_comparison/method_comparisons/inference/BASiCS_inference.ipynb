{
 "cells": [
  {
   "cell_type": "markdown",
   "id": "7ff1d09d",
   "metadata": {},
   "source": [
    "### Run BASiCS for estimation method comparisons"
   ]
  },
  {
   "cell_type": "code",
   "execution_count": 1,
   "id": "67da0f53",
   "metadata": {
    "tags": []
   },
   "outputs": [
    {
     "name": "stderr",
     "output_type": "stream",
     "text": [
      "The legacy packages maptools, rgdal, and rgeos, underpinning the sp package,\n",
      "which was just loaded, will retire in October 2023.\n",
      "Please refer to R-spatial evolution reports for details, especially\n",
      "https://r-spatial.org/r/2023/05/15/evolution4.html.\n",
      "It may be desirable to make the sf package available;\n",
      "package maintainers should consider adding sf to Suggests:.\n",
      "The sp package is now running under evolution status 2\n",
      "     (status 2 uses the sf package in place of rgdal)\n",
      "\n",
      "Attaching SeuratObject\n",
      "\n",
      "\n",
      "Attaching package: ‘patchwork’\n",
      "\n",
      "\n",
      "The following object is masked from ‘package:cowplot’:\n",
      "\n",
      "    align_plots\n",
      "\n",
      "\n",
      "── \u001b[1mAttaching core tidyverse packages\u001b[22m ──────────────────────── tidyverse 2.0.0 ──\n",
      "\u001b[32m✔\u001b[39m \u001b[34mdplyr    \u001b[39m 1.1.2     \u001b[32m✔\u001b[39m \u001b[34mreadr    \u001b[39m 2.1.4\n",
      "\u001b[32m✔\u001b[39m \u001b[34mforcats  \u001b[39m 1.0.0     \u001b[32m✔\u001b[39m \u001b[34mstringr  \u001b[39m 1.5.0\n",
      "\u001b[32m✔\u001b[39m \u001b[34mggplot2  \u001b[39m 3.4.2     \u001b[32m✔\u001b[39m \u001b[34mtibble   \u001b[39m 3.2.1\n",
      "\u001b[32m✔\u001b[39m \u001b[34mlubridate\u001b[39m 1.9.2     \u001b[32m✔\u001b[39m \u001b[34mtidyr    \u001b[39m 1.3.0\n",
      "\u001b[32m✔\u001b[39m \u001b[34mpurrr    \u001b[39m 1.0.1     \n",
      "── \u001b[1mConflicts\u001b[22m ────────────────────────────────────────── tidyverse_conflicts() ──\n",
      "\u001b[31m✖\u001b[39m \u001b[34mdplyr\u001b[39m::\u001b[32mfilter()\u001b[39m    masks \u001b[34mstats\u001b[39m::filter()\n",
      "\u001b[31m✖\u001b[39m \u001b[34mdplyr\u001b[39m::\u001b[32mlag()\u001b[39m       masks \u001b[34mstats\u001b[39m::lag()\n",
      "\u001b[31m✖\u001b[39m \u001b[34mlubridate\u001b[39m::\u001b[32mstamp()\u001b[39m masks \u001b[34mcowplot\u001b[39m::stamp()\n",
      "\u001b[36mℹ\u001b[39m Use the conflicted package (\u001b[3m\u001b[34m<http://conflicted.r-lib.org/>\u001b[39m\u001b[23m) to force all conflicts to become errors\n",
      "\n",
      "Attaching package: ‘Matrix’\n",
      "\n",
      "\n",
      "The following objects are masked from ‘package:tidyr’:\n",
      "\n",
      "    expand, pack, unpack\n",
      "\n",
      "\n"
     ]
    }
   ],
   "source": [
    "library(Seurat)\n",
    "# library(SeuratData)\n",
    "library(cowplot)\n",
    "library(patchwork)\n",
    "# library(scHOT)\n",
    "library(tidyverse)\n",
    "library(dplyr)\n",
    "library(BiocParallel)\n",
    "library(readr)\n",
    "library(Matrix)"
   ]
  },
  {
   "cell_type": "code",
   "execution_count": 2,
   "id": "87a7b79c",
   "metadata": {},
   "outputs": [
    {
     "name": "stderr",
     "output_type": "stream",
     "text": [
      "Registered S3 method overwritten by 'SeuratDisk':\n",
      "  method            from  \n",
      "  as.sparse.H5Group Seurat\n",
      "\n"
     ]
    }
   ],
   "source": [
    "library(Seurat)\n",
    "# library(SeuratData)\n",
    "library(SeuratDisk)"
   ]
  },
  {
   "cell_type": "code",
   "execution_count": 3,
   "id": "0b823c36-74b6-4586-b0ac-e70049501d30",
   "metadata": {},
   "outputs": [],
   "source": [
    "suppressMessages(library(BASiCS))\n"
   ]
  },
  {
   "cell_type": "markdown",
   "id": "82de8e77",
   "metadata": {
    "tags": []
   },
   "source": [
    "### Convert h5ad to seurat objects for simulations"
   ]
  },
  {
   "cell_type": "code",
   "execution_count": 4,
   "id": "e29ebbdb-e9e9-4a48-875b-a1fbb6b04642",
   "metadata": {},
   "outputs": [],
   "source": [
    "# setwd('/data_volume/memento/simulation/inference/')\n",
    "\n",
    "\n",
    "\n",
    "# filenames <- c('de','dv')\n",
    "\n",
    "# for (f in filenames){\n",
    "#     filename = paste(\n",
    "#         f,\n",
    "#         '_filtered.h5ad',\n",
    "#         sep=''\n",
    "#     )\n",
    "#     Convert(filename, dest = \"h5seurat\", overwrite = TRUE, verbose = TRUE)\n",
    "        \n",
    "# }"
   ]
  },
  {
   "cell_type": "code",
   "execution_count": 5,
   "id": "6079afc5-1d61-4caa-ba4f-82ca9f11b669",
   "metadata": {},
   "outputs": [],
   "source": [
    "# setwd('/data_volume/memento/simulation/dv/')"
   ]
  },
  {
   "cell_type": "markdown",
   "id": "ce9a5749",
   "metadata": {},
   "source": [
    "### BASiCS for simulations"
   ]
  },
  {
   "cell_type": "code",
   "execution_count": 6,
   "id": "266045bc-aefa-4ae7-a243-ba6e085fb5a1",
   "metadata": {},
   "outputs": [],
   "source": [
    "setwd('/data_volume/memento/simulation/dv/')\n"
   ]
  },
  {
   "cell_type": "code",
   "execution_count": 31,
   "id": "2e00af6a-3585-4a77-bebb-ab27fa7816a3",
   "metadata": {},
   "outputs": [
    {
     "name": "stderr",
     "output_type": "stream",
     "text": [
      "Warning message:\n",
      "“Unknown file type: h5ad”\n",
      "Warning message:\n",
      "“'assay' not set, setting to 'RNA'”\n",
      "Creating h5Seurat file for version 3.1.5.9900\n",
      "\n",
      "Validating h5Seurat file\n",
      "\n"
     ]
    }
   ],
   "source": [
    "Convert('high_expr_anndata.h5ad', dest = \"h5seurat\", overwrite = TRUE, verbose = FALSE, misc=FALSE)\n",
    "seurat <- LoadH5Seurat('high_expr_anndata.h5seurat', meta.data=FALSE,misc=FALSE, verbose = FALSE)\n",
    "df <- read.table('obs.csv', sep=',', header=TRUE)\n",
    "\n",
    "seurat$condition <- df$condition\n",
    "seurat$batch<- df$group\n",
    "Idents(seurat) <- 'condition'"
   ]
  },
  {
   "cell_type": "code",
   "execution_count": 121,
   "id": "19daee60-9955-4a7b-b7da-04b8dad507b3",
   "metadata": {},
   "outputs": [
    {
     "name": "stderr",
     "output_type": "stream",
     "text": [
      "Running no spikes BASiCS sampler (regression case) ... \n",
      "\n",
      "\n"
     ]
    },
    {
     "name": "stdout",
     "output_type": "stream",
     "text": [
      "-----------------------------------------------------\n",
      "MCMC sampler has been started: 10000 iterations to go.\n",
      "-----------------------------------------------------\n",
      "-----------------------------------------------------\n",
      "End of Burn-in period.\n",
      "-----------------------------------------------------\n",
      " \n",
      "-----------------------------------------------------\n",
      "-----------------------------------------------------\n",
      "All 10000 MCMC iterations have been completed.\n",
      "-----------------------------------------------------\n",
      "-----------------------------------------------------\n",
      " \n",
      "-----------------------------------------------------\n",
      "Please see below a summary of the overall acceptance rates.\n",
      "-----------------------------------------------------\n",
      " \n",
      "Minimum acceptance rate among mu[i]'s: 0.228\n",
      "Average acceptance rate among mu[i]'s: 0.435387\n",
      "Maximum acceptance rate among mu[i]'s: 0.675333\n",
      " \n",
      " \n",
      "Minimum acceptance rate among delta[i]'s: 0.363111\n",
      "Average acceptance rate among delta[i]'s: 0.456285\n",
      "Maximum acceptance rate among delta[i]'s: 0.545444\n",
      " \n",
      " \n",
      "Minimum acceptance rate among nu[jk]'s: 0.716778\n",
      "Average acceptance rate among nu[jk]'s: 0.732067\n",
      "Maximum acceptance rate among nu[jk]'s: 0.744333\n",
      " \n",
      " \n",
      "Minimum acceptance rate among theta[k]'s: 0.664111\n",
      "Average acceptance rate among theta[k]'s: 0.671689\n",
      "Maximum acceptance rate among theta[k]'s: 0.677556\n",
      " \n",
      " \n",
      "-----------------------------------------------------\n",
      " \n"
     ]
    },
    {
     "name": "stderr",
     "output_type": "stream",
     "text": [
      "-------------------------------------------------------------\n",
      "MCMC running time \n",
      "-------------------------------------------------------------\n",
      "user: 350.641\n",
      "system: 12.267\n",
      "elapsed: 37.227\n",
      "\n",
      "\n",
      "-------------------------------------------------------------\n",
      "Output \n",
      "-------------------------------------------------------------\n",
      "\n",
      "\n"
     ]
    }
   ],
   "source": [
    "cond <- 'ctrl'\n",
    "\n",
    "dat <- subset(x=seurat, idents=cond)\n",
    "dat.sce <- SingleCellExperiment(\n",
    "    assays=list(counts = GetAssayData(dat)+1),\n",
    "    colData = data.frame(BatchInfo = dat$batch))\n",
    "\n",
    "Chain <- BASiCS_MCMC(\n",
    "  dat.sce,\n",
    "  N = 10000, Thin = 100, Burn = 1000, WithSpikes = FALSE, SubsetBy = 'cell',\n",
    "  PrintProgress = FALSE, Regression = TRUE,Threads = getOption(\"Ncpus\", 10),)\n"
   ]
  },
  {
   "cell_type": "code",
   "execution_count": 122,
   "id": "d51ac73e-1310-4e22-afb3-d76623f8d0dd",
   "metadata": {},
   "outputs": [
    {
     "name": "stderr",
     "output_type": "stream",
     "text": [
      "Running no spikes BASiCS sampler (regression case) ... \n",
      "\n",
      "\n"
     ]
    },
    {
     "name": "stdout",
     "output_type": "stream",
     "text": [
      "-----------------------------------------------------\n",
      "MCMC sampler has been started: 10000 iterations to go.\n",
      "-----------------------------------------------------\n",
      "-----------------------------------------------------\n",
      "End of Burn-in period.\n",
      "-----------------------------------------------------\n",
      " \n",
      "-----------------------------------------------------\n",
      "-----------------------------------------------------\n",
      "All 10000 MCMC iterations have been completed.\n",
      "-----------------------------------------------------\n",
      "-----------------------------------------------------\n",
      " \n",
      "-----------------------------------------------------\n",
      "Please see below a summary of the overall acceptance rates.\n",
      "-----------------------------------------------------\n",
      " \n",
      "Minimum acceptance rate among mu[i]'s: 0.253889\n",
      "Average acceptance rate among mu[i]'s: 0.454222\n",
      "Maximum acceptance rate among mu[i]'s: 0.684222\n",
      " \n",
      " \n",
      "Minimum acceptance rate among delta[i]'s: 0.368\n",
      "Average acceptance rate among delta[i]'s: 0.448028\n",
      "Maximum acceptance rate among delta[i]'s: 0.529556\n",
      " \n",
      " \n",
      "Minimum acceptance rate among nu[jk]'s: 0.798333\n",
      "Average acceptance rate among nu[jk]'s: 0.809128\n",
      "Maximum acceptance rate among nu[jk]'s: 0.819222\n",
      " \n",
      " \n",
      "Minimum acceptance rate among theta[k]'s: 0.665333\n",
      "Average acceptance rate among theta[k]'s: 0.6748\n",
      "Maximum acceptance rate among theta[k]'s: 0.682111\n",
      " \n",
      " \n",
      "-----------------------------------------------------\n",
      " \n"
     ]
    },
    {
     "name": "stderr",
     "output_type": "stream",
     "text": [
      "-------------------------------------------------------------\n",
      "MCMC running time \n",
      "-------------------------------------------------------------\n",
      "user: 351.348\n",
      "system: 11.786\n",
      "elapsed: 37.233\n",
      "\n",
      "\n",
      "-------------------------------------------------------------\n",
      "Output \n",
      "-------------------------------------------------------------\n",
      "\n",
      "\n"
     ]
    }
   ],
   "source": [
    "cond <- 'stim'\n",
    "\n",
    "dat <- subset(x=seurat, idents=cond)\n",
    "dat.sce <- SingleCellExperiment(\n",
    "    assays=list(counts = GetAssayData(dat)+1),\n",
    "    colData = data.frame(BatchInfo = dat$batch))\n",
    "\n",
    "Chain2 <- BASiCS_MCMC(\n",
    "  dat.sce,\n",
    "  N = 10000, Thin = 100, Burn = 1000, WithSpikes = FALSE, SubsetBy = 'cell',\n",
    "  PrintProgress = FALSE, Regression = TRUE,Threads = getOption(\"Ncpus\", 10),)\n"
   ]
  },
  {
   "cell_type": "code",
   "execution_count": 175,
   "id": "46e7d97c-8420-4a0f-8469-07047b8addbb",
   "metadata": {},
   "outputs": [
    {
     "name": "stderr",
     "output_type": "stream",
     "text": [
      "-------------------------------------------------------------\n",
      "Log-fold change thresholds are now set in a log2 scale. \n",
      "Original BASiCS release used a natural logarithm scale.\n",
      "\n",
      "-------------------------------------------------------------\n",
      "Offset estimate: 0.4298\n",
      "(ratio ctrl vs stim).\n",
      "-------------------------------------------------------------\n",
      "\n",
      "\n",
      "EFDR = NULL for Differential mean task:\n",
      "Probability threshold automatically set equal to'ProbThresholdM'.\n",
      "\n",
      "EFDR = NULL for Differential dispersion task:\n",
      "Probability threshold automatically set equal to'ProbThresholdD'.\n",
      "\n",
      "EFDR = NULL for Differential residual dispersion task:\n",
      "Probability threshold automatically set equal to'ProbThresholdR'.\n",
      "\n"
     ]
    },
    {
     "name": "stdout",
     "output_type": "stream",
     "text": [
      "[1] 17  8\n"
     ]
    }
   ],
   "source": [
    "Test <- BASiCS_TestDE(\n",
    "  Chain1 = Chain, Chain2 = Chain2,\n",
    "  GroupLabel1 = \"ctrl\", GroupLabel2 = \"stim\",\n",
    "  EpsilonM = 0, EpsilonD =0,\n",
    "  EpsilonR = 0.0,\n",
    "  EFDR_M = NULL, EFDR_D = NULL,EFDR_R=NULL, k=1,ProbThresholdR=0., ProbThresholdM=0, ProbThresholdD=0,\n",
    "  Offset = TRUE, PlotOffset = TRUE, Plot = TRUE\n",
    ")\n",
    "dv <- as.data.frame(Test, Parameter = \"ResDisp\")\n",
    "print(dim(dv))"
   ]
  },
  {
   "cell_type": "code",
   "execution_count": 162,
   "id": "abf561aa-0b5f-495a-9c6d-1f38ac0d1813",
   "metadata": {},
   "outputs": [
    {
     "data": {
      "text/plain": [
       "An object of class BASiCS_ResultsDE, containing:\n",
       "-------------------------------------------------------------\n",
       "  An object of class BASiCS_ResultDE.\n",
       "-------------------------------------------------------------\n",
       " 19 genes with a change in mean expression \n",
       " - Higher mean expression in ctrl samples: 7 \n",
       " - Higher mean expression in stim samples: 12 \n",
       " - Fold change tolerance = 100 % \n",
       " - Probability threshold = 0.5055 \n",
       " - EFDR = 20.12 % \n",
       " - EFNR = 27.11 % \n",
       "-------------------------------------------------------------\n",
       "  An object of class BASiCS_ResultDE.\n",
       "-------------------------------------------------------------\n",
       " 0 genes with a change in over dispersion \n",
       " - Higher over dispersion in ctrl samples: 0 \n",
       " - Higher over dispersion in stim samples: 0 \n",
       " - Fold change tolerance = 100 % \n",
       " - Probability threshold = 0 \n",
       " - EFDR = NA % \n",
       " - EFNR = NA % \n",
       "-------------------------------------------------------------\n",
       "  An object of class BASiCS_ResultDE.\n",
       "-------------------------------------------------------------\n",
       " 5 genes with a change in residual over dispersion \n",
       " - Higher residual over dispersion in ctrl samples: 3 \n",
       " - Higher residual over dispersion in stim samples: 2 \n",
       " - Distance tolerance = 100 % \n",
       " - Probability threshold = 0.7 \n",
       " - EFDR = 14.67 % \n",
       " - EFNR = 28.55 % "
      ]
     },
     "metadata": {},
     "output_type": "display_data"
    }
   ],
   "source": [
    "Test"
   ]
  },
  {
   "cell_type": "code",
   "execution_count": null,
   "id": "7005964e-194d-490a-ad07-8350494a73b3",
   "metadata": {},
   "outputs": [],
   "source": []
  },
  {
   "cell_type": "code",
   "execution_count": null,
   "id": "47caad63-ab25-425d-bca4-39d72695dc73",
   "metadata": {},
   "outputs": [],
   "source": [
    "-------------------------------------------------------------\n",
    "MCMC running time \n",
    "-------------------------------------------------------------\n",
    "user: 352.699\n",
    "system: 13.865\n",
    "elapsed: 37.482"
   ]
  },
  {
   "cell_type": "code",
   "execution_count": null,
   "id": "9aa5ffda-d951-4561-b458-019f50eed50a",
   "metadata": {},
   "outputs": [],
   "source": [
    "-------------------------------------------------------------\n",
    "MCMC running time \n",
    "-------------------------------------------------------------\n",
    "user: 3530.898\n",
    "system: 365.907\n",
    "elapsed: 194.038"
   ]
  },
  {
   "cell_type": "code",
   "execution_count": null,
   "id": "66a48b7a-e019-40f6-a300-94d51eb7ad29",
   "metadata": {},
   "outputs": [],
   "source": []
  },
  {
   "cell_type": "code",
   "execution_count": null,
   "id": "6b0c982a-2f45-419b-856d-00b719436aff",
   "metadata": {},
   "outputs": [],
   "source": []
  },
  {
   "cell_type": "code",
   "execution_count": 6,
   "id": "c0b8e7ea",
   "metadata": {},
   "outputs": [],
   "source": [
    "runBASiCS <- function(seurat, group){\n",
    "    Idents(seurat) <- 'ct_real'\n",
    "    dat <- subset(x = seurat, idents = group)\n",
    "    dat$batch <- sample(1:2, dim(dat)[2], replace=TRUE)\n",
    "    dat.sce <- SingleCellExperiment(\n",
    "        assays=list(counts = GetAssayData(dat)),\n",
    "        colData = data.frame(BatchInfo = dat$batch))\n",
    "    Chain <- BASiCS_MCMC(\n",
    "      dat.sce,\n",
    "      N = 20000, Thin = 20, Burn = 10000, WithSpikes = FALSE, SubsetBy = 'cell',\n",
    "      PrintProgress = TRUE, Regression = TRUE,Threads = getOption(\"Ncpus\", 42),)\n",
    "    return(Chain)\n",
    "}"
   ]
  },
  {
   "cell_type": "code",
   "execution_count": 25,
   "id": "93cfae3a-452e-4808-9d6d-82087907f732",
   "metadata": {},
   "outputs": [
    {
     "data": {
      "text/plain": [
       "An object of class BASiCS_Chain\n",
       " 90 MCMC samples.\n",
       " Dataset contains 986 biological genes and 100 cells (5 batches). \n",
       " Object stored using BASiCS version:  2.12.3 \n",
       " Parameters:  mu delta s nu theta beta sigma2 epsilon RefFreq RBFLocations "
      ]
     },
     "metadata": {},
     "output_type": "display_data"
    }
   ],
   "source": [
    "Chain"
   ]
  },
  {
   "cell_type": "code",
   "execution_count": 16,
   "id": "aab351f9-359a-4ea9-9c39-b0281bb0f57f",
   "metadata": {},
   "outputs": [
    {
     "name": "stderr",
     "output_type": "stream",
     "text": [
      "Registered S3 methods overwritten by 'zellkonverter':\n",
      "  method                                             from      \n",
      "  py_to_r.numpy.ndarray                              reticulate\n",
      "  py_to_r.pandas.core.arrays.categorical.Categorical reticulate\n",
      "\n"
     ]
    }
   ],
   "source": [
    "library(zellkonverter)"
   ]
  },
  {
   "cell_type": "code",
   "execution_count": 22,
   "id": "c6f4a94e-01d8-4e9b-a0f3-c1d472606ba0",
   "metadata": {},
   "outputs": [],
   "source": [
    "df <- read.table('obs.csv', sep=',', header=TRUE)"
   ]
  },
  {
   "cell_type": "code",
   "execution_count": 24,
   "id": "f99f95b1-7611-415a-b84d-070837c92a91",
   "metadata": {},
   "outputs": [
    {
     "data": {
      "text/plain": [
       "An object of class Seurat \n",
       "19719 features across 1000 samples within 1 assay \n",
       "Active assay: RNA (19719 features, 0 variable features)"
      ]
     },
     "metadata": {},
     "output_type": "display_data"
    }
   ],
   "source": [
    "seurat"
   ]
  },
  {
   "cell_type": "code",
   "execution_count": null,
   "id": "c0f191e9",
   "metadata": {},
   "outputs": [
    {
     "name": "stdout",
     "output_type": "stream",
     "text": [
      "[1] \"dv\"\n"
     ]
    },
    {
     "name": "stderr",
     "output_type": "stream",
     "text": [
      "Validating h5Seurat file\n",
      "\n"
     ]
    },
    {
     "name": "stdout",
     "output_type": "stream",
     "text": [
      "[1] 1625 2000\n"
     ]
    },
    {
     "name": "stderr",
     "output_type": "stream",
     "text": [
      "Running no spikes BASiCS sampler (regression case) ... \n",
      "\n",
      "\n"
     ]
    }
   ],
   "source": [
    "f <- 'dv'\n",
    "print(f)\n",
    "\n",
    "infilename = paste(\n",
    "    f,\n",
    "    '_filtered.h5seurat',\n",
    "    sep=''\n",
    ")\n",
    "\n",
    "data_obj <- LoadH5Seurat(infilename, misc=F, verbose = FALSE)\n",
    "print(dim(data_obj))\n",
    "\n",
    "A_chain <- runBASiCS(data_obj, 'A')\n",
    "saveRDS(A_chain, file = paste(f, \"_A_filtered_chain.rds\", sep=\"\"))\n",
    "B_chain <- runBASiCS(data_obj, 'B')\n",
    "saveRDS(B_chain, file = paste(f, \"_B_filtered_chain.rds\", sep=\"\"))\n"
   ]
  },
  {
   "cell_type": "code",
   "execution_count": 45,
   "id": "4e5e5e98",
   "metadata": {},
   "outputs": [
    {
     "name": "stderr",
     "output_type": "stream",
     "text": [
      "-------------------------------------------------------------\n",
      "Log-fold change thresholds are now set in a log2 scale. \n",
      "Original BASiCS release used a natural logarithm scale.\n",
      "\n",
      "-------------------------------------------------------------\n",
      "Offset estimate: 0.9902\n",
      "(ratio A vs B).\n",
      "-------------------------------------------------------------\n",
      "\n",
      "\n",
      "For Differential mean task:\n",
      "the posterior probability threshold chosen via EFDR calibrationis too low. Probability threshold automatically set equal to'ProbThresholdM'.\n",
      "\n",
      "For Differential dispersion task:\n",
      "the posterior probability threshold chosen via EFDR calibrationis too low. Probability threshold automatically set equal to'ProbThresholdD'.\n",
      "\n",
      "EFDR = NULL forDifferential residual dispersion task:\n",
      "Probability threshold automatically set equal to'ProbThresholdR'.\n",
      "\n"
     ]
    }
   ],
   "source": [
    "A_chain <- readRDS(paste('dv', \"_A_filtered_chain.rds\", sep=\"\"))\n",
    "B_chain <- readRDS(paste('dv', \"_B_filtered_chain.rds\", sep=\"\"))\n",
    "\n",
    "Test <- BASiCS_TestDE(\n",
    "  Chain1 = A_chain, Chain2 = B_chain,\n",
    "  GroupLabel1 = \"A\", GroupLabel2 = \"B\",\n",
    "  EpsilonM = 0, EpsilonD =0,\n",
    "  EpsilonR = 0,\n",
    "  EFDR_M = 1, EFDR_D = 1,EFDR_R=NULL, k=1,ProbThresholdR=0,\n",
    "  Offset = TRUE, PlotOffset = TRUE, Plot = TRUE\n",
    ")\n",
    "\n",
    "dv <- as.data.frame(Test, Parameter = \"ResDisp\")"
   ]
  },
  {
   "cell_type": "code",
   "execution_count": 47,
   "id": "2ff702b5",
   "metadata": {},
   "outputs": [],
   "source": [
    "write_csv(dv, file = 'dv_basics.csv')\n"
   ]
  },
  {
   "cell_type": "code",
   "execution_count": null,
   "id": "ef91a828",
   "metadata": {},
   "outputs": [],
   "source": []
  },
  {
   "cell_type": "code",
   "execution_count": null,
   "id": "39d4eb5a",
   "metadata": {},
   "outputs": [],
   "source": []
  },
  {
   "cell_type": "code",
   "execution_count": null,
   "id": "dd69f2ee",
   "metadata": {},
   "outputs": [],
   "source": []
  },
  {
   "cell_type": "code",
   "execution_count": null,
   "id": "a6d1b969",
   "metadata": {},
   "outputs": [],
   "source": []
  },
  {
   "cell_type": "code",
   "execution_count": null,
   "id": "a0111457",
   "metadata": {},
   "outputs": [],
   "source": []
  },
  {
   "cell_type": "code",
   "execution_count": null,
   "id": "f9ccd7d6",
   "metadata": {},
   "outputs": [],
   "source": []
  },
  {
   "cell_type": "markdown",
   "id": "29bfbbf7",
   "metadata": {},
   "source": [
    "### run BASiCS for smFISH comparison"
   ]
  },
  {
   "cell_type": "code",
   "execution_count": 3,
   "id": "ac7ca7f1",
   "metadata": {},
   "outputs": [],
   "source": [
    "setwd('/data_volume/memento/saver/')\n",
    "data_path <- '/data_volume/memento/saver/'"
   ]
  },
  {
   "cell_type": "code",
   "execution_count": 10,
   "id": "d824074c",
   "metadata": {},
   "outputs": [
    {
     "name": "stderr",
     "output_type": "stream",
     "text": [
      "Warning message:\n",
      "“Unknown file type: h5ad”\n",
      "Warning message:\n",
      "“'assay' not set, setting to 'RNA'”\n",
      "Creating h5Seurat file for version 3.1.5.9900\n",
      "\n"
     ]
    }
   ],
   "source": [
    "Convert('dropseq.h5ad', dest = \"h5seurat\", overwrite = TRUE, verbose = FALSE)"
   ]
  },
  {
   "cell_type": "code",
   "execution_count": 12,
   "id": "b734a7fa",
   "metadata": {},
   "outputs": [],
   "source": [
    "runBASiCS_dropseq <- function(seurat, stat){\n",
    "    Idents(seurat) <- 'group'\n",
    "    dat <- seurat\n",
    "    dat$batch <- 1\n",
    "    dat.sce <- SingleCellExperiment(\n",
    "    assays=list(counts = GetAssayData(dat)),\n",
    "    colData = data.frame(BatchInfo = dat$batch))\n",
    "    Chain <- BASiCS_MCMC(\n",
    "      dat.sce,\n",
    "      N = 1000, Thin = 10, Burn = 500, WithSpikes = FALSE, SubsetBy = 'cell',\n",
    "      PrintProgress = FALSE, Regression = TRUE,Threads = getOption(\"Ncpus\", 10),)\n",
    "    df = as.data.frame(displayChainBASiCS(Chain, Param = stat))\n",
    "    return(df)\n",
    "}"
   ]
  },
  {
   "cell_type": "code",
   "execution_count": 10,
   "id": "8e8a9b4a",
   "metadata": {},
   "outputs": [
    {
     "ename": "ERROR",
     "evalue": "Error: Cannot find file dropseq.h5seurat\n",
     "output_type": "error",
     "traceback": [
      "Error: Cannot find file dropseq.h5seurat\nTraceback:\n",
      "1. LoadH5Seurat(\"dropseq.h5seurat\", verbose = FALSE)",
      "2. LoadH5Seurat.character(\"dropseq.h5seurat\", verbose = FALSE)",
      "3. h5Seurat$new(filename = file, mode = \"r\")",
      "4. initialize(...)",
      "5. stop(\"Cannot find file \", filename, call. = FALSE)"
     ]
    }
   ],
   "source": [
    "data_obj <- LoadH5Seurat('dropseq.h5seurat', verbose = FALSE)\n",
    "\n",
    "mu <- runBASiCS_dropseq(data_obj, 'mu')\n",
    "write_csv(mu, file = 'dropseq_BASiCS_mu.csv')\n",
    "\n",
    "delta <- runBASiCS_dropseq(data_obj, 'delta')\n",
    "write_csv(delta, file = 'dropseq_BASiCS_delta.csv')"
   ]
  }
 ],
 "metadata": {
  "kernelspec": {
   "display_name": "R",
   "language": "R",
   "name": "ir"
  },
  "language_info": {
   "codemirror_mode": "r",
   "file_extension": ".r",
   "mimetype": "text/x-r-source",
   "name": "R",
   "pygments_lexer": "r",
   "version": "4.3.2"
  }
 },
 "nbformat": 4,
 "nbformat_minor": 5
}
