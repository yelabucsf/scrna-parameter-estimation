{
 "cells": [
  {
   "cell_type": "markdown",
   "id": "a7864f08",
   "metadata": {},
   "source": [
    "### Running MAST and testing the calibration"
   ]
  },
  {
   "cell_type": "code",
   "execution_count": 1,
   "id": "751f026c",
   "metadata": {},
   "outputs": [
    {
     "name": "stderr",
     "output_type": "stream",
     "text": [
      "Loading required package: SingleCellExperiment\n",
      "\n",
      "Loading required package: SummarizedExperiment\n",
      "\n",
      "Loading required package: MatrixGenerics\n",
      "\n",
      "Loading required package: matrixStats\n",
      "\n",
      "\n",
      "Attaching package: ‘MatrixGenerics’\n",
      "\n",
      "\n",
      "The following objects are masked from ‘package:matrixStats’:\n",
      "\n",
      "    colAlls, colAnyNAs, colAnys, colAvgsPerRowSet, colCollapse,\n",
      "    colCounts, colCummaxs, colCummins, colCumprods, colCumsums,\n",
      "    colDiffs, colIQRDiffs, colIQRs, colLogSumExps, colMadDiffs,\n",
      "    colMads, colMaxs, colMeans2, colMedians, colMins, colOrderStats,\n",
      "    colProds, colQuantiles, colRanges, colRanks, colSdDiffs, colSds,\n",
      "    colSums2, colTabulates, colVarDiffs, colVars, colWeightedMads,\n",
      "    colWeightedMeans, colWeightedMedians, colWeightedSds,\n",
      "    colWeightedVars, rowAlls, rowAnyNAs, rowAnys, rowAvgsPerColSet,\n",
      "    rowCollapse, rowCounts, rowCummaxs, rowCummins, rowCumprods,\n",
      "    rowCumsums, rowDiffs, rowIQRDiffs, rowIQRs, rowLogSumExps,\n",
      "    rowMadDiffs, rowMads, rowMaxs, rowMeans2, rowMedians, rowMins,\n",
      "    rowOrderStats, rowProds, rowQuantiles, rowRanges, rowRanks,\n",
      "    rowSdDiffs, rowSds, rowSums2, rowTabulates, rowVarDiffs, rowVars,\n",
      "    rowWeightedMads, rowWeightedMeans, rowWeightedMedians,\n",
      "    rowWeightedSds, rowWeightedVars\n",
      "\n",
      "\n",
      "Loading required package: GenomicRanges\n",
      "\n",
      "Loading required package: stats4\n",
      "\n",
      "Loading required package: BiocGenerics\n",
      "\n",
      "Loading required package: parallel\n",
      "\n",
      "\n",
      "Attaching package: ‘BiocGenerics’\n",
      "\n",
      "\n",
      "The following objects are masked from ‘package:parallel’:\n",
      "\n",
      "    clusterApply, clusterApplyLB, clusterCall, clusterEvalQ,\n",
      "    clusterExport, clusterMap, parApply, parCapply, parLapply,\n",
      "    parLapplyLB, parRapply, parSapply, parSapplyLB\n",
      "\n",
      "\n",
      "The following objects are masked from ‘package:stats’:\n",
      "\n",
      "    IQR, mad, sd, var, xtabs\n",
      "\n",
      "\n",
      "The following objects are masked from ‘package:base’:\n",
      "\n",
      "    anyDuplicated, append, as.data.frame, basename, cbind, colnames,\n",
      "    dirname, do.call, duplicated, eval, evalq, Filter, Find, get, grep,\n",
      "    grepl, intersect, is.unsorted, lapply, Map, mapply, match, mget,\n",
      "    order, paste, pmax, pmax.int, pmin, pmin.int, Position, rank,\n",
      "    rbind, Reduce, rownames, sapply, setdiff, sort, table, tapply,\n",
      "    union, unique, unsplit, which.max, which.min\n",
      "\n",
      "\n",
      "Loading required package: S4Vectors\n",
      "\n",
      "\n",
      "Attaching package: ‘S4Vectors’\n",
      "\n",
      "\n",
      "The following object is masked from ‘package:base’:\n",
      "\n",
      "    expand.grid\n",
      "\n",
      "\n",
      "Loading required package: IRanges\n",
      "\n",
      "Loading required package: GenomeInfoDb\n",
      "\n",
      "Loading required package: Biobase\n",
      "\n",
      "Welcome to Bioconductor\n",
      "\n",
      "    Vignettes contain introductory material; view with\n",
      "    'browseVignettes()'. To cite Bioconductor, see\n",
      "    'citation(\"Biobase\")', and for packages 'citation(\"pkgname\")'.\n",
      "\n",
      "\n",
      "\n",
      "Attaching package: ‘Biobase’\n",
      "\n",
      "\n",
      "The following object is masked from ‘package:MatrixGenerics’:\n",
      "\n",
      "    rowMedians\n",
      "\n",
      "\n",
      "The following objects are masked from ‘package:matrixStats’:\n",
      "\n",
      "    anyMissing, rowMedians\n",
      "\n",
      "\n",
      "Attaching SeuratObject\n",
      "\n",
      "\n",
      "Attaching package: ‘Seurat’\n",
      "\n",
      "\n",
      "The following object is masked from ‘package:SummarizedExperiment’:\n",
      "\n",
      "    Assays\n",
      "\n",
      "\n",
      "Warning message in if (is.na(desc)) {:\n",
      "“the condition has length > 1 and only the first element will be used”\n",
      "Warning message in if (is.na(desc)) {:\n",
      "“the condition has length > 1 and only the first element will be used”\n",
      "Warning message in if (is.na(desc)) {:\n",
      "“the condition has length > 1 and only the first element will be used”\n",
      "Warning message in if (is.na(desc)) {:\n",
      "“the condition has length > 1 and only the first element will be used”\n",
      "Warning message in if (is.na(desc)) {:\n",
      "“the condition has length > 1 and only the first element will be used”\n",
      "Warning message in if (is.na(desc)) {:\n",
      "“the condition has length > 1 and only the first element will be used”\n",
      "Warning message in if (is.na(desc)) {:\n",
      "“the condition has length > 1 and only the first element will be used”\n",
      "Warning message in if (is.na(desc)) {:\n",
      "“the condition has length > 1 and only the first element will be used”\n",
      "Warning message in if (is.na(desc)) {:\n",
      "“the condition has length > 1 and only the first element will be used”\n",
      "Warning message in if (is.na(desc)) {:\n",
      "“the condition has length > 1 and only the first element will be used”\n",
      "Warning message in if (is.na(desc)) {:\n",
      "“the condition has length > 1 and only the first element will be used”\n",
      "Warning message in if (is.na(desc)) {:\n",
      "“the condition has length > 1 and only the first element will be used”\n",
      "Warning message in if (is.na(desc)) {:\n",
      "“the condition has length > 1 and only the first element will be used”\n",
      "Warning message in if (is.na(desc)) {:\n",
      "“the condition has length > 1 and only the first element will be used”\n",
      "Warning message in if (is.na(desc)) {:\n",
      "“the condition has length > 1 and only the first element will be used”\n",
      "Warning message in if (is.na(desc)) {:\n",
      "“the condition has length > 1 and only the first element will be used”\n",
      "Warning message in if (is.na(desc)) {:\n",
      "“the condition has length > 1 and only the first element will be used”\n",
      "Warning message in if (is.na(desc)) {:\n",
      "“the condition has length > 1 and only the first element will be used”\n",
      "Warning message in if (is.na(desc)) {:\n",
      "“the condition has length > 1 and only the first element will be used”\n",
      "Warning message in if (is.na(desc)) {:\n",
      "“the condition has length > 1 and only the first element will be used”\n",
      "── \u001b[1mInstalled datasets\u001b[22m ───────────────────────────────────── SeuratData v0.2.1 ──\n",
      "\n",
      "\u001b[32m✔\u001b[39m \u001b[34mifnb       \u001b[39m 3.1.0                     \u001b[32m✔\u001b[39m \u001b[34mthp1.eccite\u001b[39m 3.1.5\n",
      "\u001b[32m✔\u001b[39m \u001b[34mpbmc3k     \u001b[39m 3.1.4                     \n",
      "\n",
      "\n",
      "────────────────────────────────────── Key ─────────────────────────────────────\n",
      "\n",
      "\u001b[32m✔\u001b[39m Dataset loaded successfully\n",
      "\u001b[33m❯\u001b[39m Dataset built with a newer version of Seurat than installed\n",
      "\u001b[31m❓\u001b[39m Unknown version of Seurat installed\n",
      "\n",
      "\n",
      "\n",
      "Attaching package: ‘patchwork’\n",
      "\n",
      "\n",
      "The following object is masked from ‘package:cowplot’:\n",
      "\n",
      "    align_plots\n",
      "\n",
      "\n",
      "\n",
      "Attaching package: ‘data.table’\n",
      "\n",
      "\n",
      "The following object is masked from ‘package:SummarizedExperiment’:\n",
      "\n",
      "    shift\n",
      "\n",
      "\n",
      "The following object is masked from ‘package:GenomicRanges’:\n",
      "\n",
      "    shift\n",
      "\n",
      "\n",
      "The following object is masked from ‘package:IRanges’:\n",
      "\n",
      "    shift\n",
      "\n",
      "\n",
      "The following objects are masked from ‘package:S4Vectors’:\n",
      "\n",
      "    first, second\n",
      "\n",
      "\n"
     ]
    }
   ],
   "source": [
    "library(MAST)\n",
    "library(Seurat)\n",
    "library(SeuratData)\n",
    "library(cowplot)\n",
    "library(patchwork)\n",
    "library(data.table)"
   ]
  },
  {
   "cell_type": "markdown",
   "id": "283846fb",
   "metadata": {},
   "source": [
    "### Get the seurat version and get cells/genes for standardization"
   ]
  },
  {
   "cell_type": "code",
   "execution_count": 2,
   "id": "1bca8fc8",
   "metadata": {},
   "outputs": [],
   "source": [
    "# InstallData('ifnb')"
   ]
  },
  {
   "cell_type": "code",
   "execution_count": 3,
   "id": "1638fb34",
   "metadata": {},
   "outputs": [],
   "source": [
    "# install.packages(\"https://seurat.nygenome.org/src/contrib/ifnb.SeuratData_3.1.0.tar.gz\", repos = NULL, type = \"source\")"
   ]
  },
  {
   "cell_type": "code",
   "execution_count": 4,
   "id": "70b2fdb0",
   "metadata": {},
   "outputs": [],
   "source": [
    "library(ifnb.SeuratData)"
   ]
  },
  {
   "cell_type": "code",
   "execution_count": 5,
   "id": "c978a50b",
   "metadata": {},
   "outputs": [],
   "source": [
    "data(\"ifnb\")"
   ]
  },
  {
   "cell_type": "code",
   "execution_count": 6,
   "id": "4c688627",
   "metadata": {},
   "outputs": [],
   "source": [
    "ifnb <- subset(x = ifnb, subset = seurat_annotations == \"CD14 Mono\")\n"
   ]
  },
  {
   "cell_type": "code",
   "execution_count": 7,
   "id": "3a76665e",
   "metadata": {},
   "outputs": [],
   "source": [
    "write.csv(ifnb[[]], '/data_volume/memento/method_comparison/mast/seurat_full.csv')\n",
    "write.csv(rownames(ifnb), '/data_volume/memento/method_comparison/mast/seurat_genes.csv')"
   ]
  },
  {
   "cell_type": "code",
   "execution_count": 8,
   "id": "22d3de67",
   "metadata": {},
   "outputs": [],
   "source": [
    "ifnb <- NormalizeData(object = ifnb)"
   ]
  },
  {
   "cell_type": "markdown",
   "id": "8d7f9a95",
   "metadata": {},
   "source": [
    "### Run memento and save metadata/result"
   ]
  },
  {
   "cell_type": "markdown",
   "id": "4bc0e5d3",
   "metadata": {},
   "source": [
    "### Run full and partial MASTs"
   ]
  },
  {
   "cell_type": "code",
   "execution_count": 9,
   "id": "ae1d5a5d",
   "metadata": {},
   "outputs": [
    {
     "name": "stderr",
     "output_type": "stream",
     "text": [
      "`fData` has no primerid.  I'll make something up.\n",
      "\n",
      "`cData` has no wellKey.  I'll make something up.\n",
      "\n",
      "Assuming data assay in position 1, with name et is log-transformed.\n",
      "\n"
     ]
    }
   ],
   "source": [
    "scaRaw <- FromMatrix(\n",
    "    as.matrix(GetAssayData(object = ifnb,slot=\"data\")), \n",
    "    ifnb[[]], ifnb[[\"RNA\"]][[]])"
   ]
  },
  {
   "cell_type": "code",
   "execution_count": 10,
   "id": "863b1fea",
   "metadata": {},
   "outputs": [],
   "source": [
    "rownames(scaRaw) <- gsub(\"\\\\.\", \"-\", rownames(scaRaw))\n",
    "colnames(scaRaw) <- gsub(\"\\\\.\", \"-\", colnames(scaRaw))\n"
   ]
  },
  {
   "cell_type": "code",
   "execution_count": 11,
   "id": "f3014b3e",
   "metadata": {},
   "outputs": [],
   "source": [
    "sca <- scaRaw"
   ]
  },
  {
   "cell_type": "code",
   "execution_count": 16,
   "id": "3aa32ee1",
   "metadata": {},
   "outputs": [],
   "source": [
    "mem_meta = read.table('/data_volume/memento/method_comparison/memento/meta_full.csv', sep=',', header=1)\n",
    "mem_genes = read.table('/data_volume/memento/method_comparison/memento/memento_full.csv', sep=',', header=1)"
   ]
  },
  {
   "cell_type": "code",
   "execution_count": 17,
   "id": "e9f98eae",
   "metadata": {},
   "outputs": [],
   "source": [
    "sca <- sca[mem_genes$gene, mem_meta$index]"
   ]
  },
  {
   "cell_type": "code",
   "execution_count": 18,
   "id": "3eb77652",
   "metadata": {},
   "outputs": [
    {
     "name": "stderr",
     "output_type": "stream",
     "text": [
      "\n",
      "Done!\n",
      "\n"
     ]
    }
   ],
   "source": [
    "cond<-factor(colData(sca)$stim)\n",
    "cond<-relevel(cond,\"CTRL\")\n",
    "colData(sca)$condition<-cond\n",
    "zlmCond <- zlm(~condition + nCount_RNA, sca)"
   ]
  },
  {
   "cell_type": "code",
   "execution_count": 19,
   "id": "be05babc",
   "metadata": {},
   "outputs": [
    {
     "name": "stderr",
     "output_type": "stream",
     "text": [
      "Combining coefficients and standard errors\n",
      "\n",
      "Calculating log-fold changes\n",
      "\n",
      "Calculating likelihood ratio tests\n",
      "\n",
      "Refitting on reduced model...\n",
      "\n",
      "\n",
      "Done!\n",
      "\n"
     ]
    }
   ],
   "source": [
    "summaryCond <- summary(zlmCond, doLRT='conditionSTIM')"
   ]
  },
  {
   "cell_type": "code",
   "execution_count": 20,
   "id": "cac753f6",
   "metadata": {},
   "outputs": [
    {
     "name": "stdout",
     "output_type": "stream",
     "text": [
      "Fitted zlm with top 4 genes per contrast:\n",
      "( log fold change Z-score )\n",
      " primerid  conditionSTIM nCount_RNA\n",
      " ATP6V1G1     1.3          38.3*   \n",
      " HNRNPA2B1   -4.7          38.1*   \n",
      " IFI6        76.2*         20.0    \n",
      " IFITM3      77.3*          5.3    \n",
      " ISG15       84.2*          3.8    \n",
      " LY6E        96.4*         15.3    \n",
      " TALDO1     -10.7          38.5*   \n",
      " UBC          3.2          36.7*   \n"
     ]
    }
   ],
   "source": [
    "print(summaryCond, n=4)\n"
   ]
  },
  {
   "cell_type": "code",
   "execution_count": 21,
   "id": "8f2bd569",
   "metadata": {},
   "outputs": [],
   "source": [
    "FCTHRESHOLD <- log2(1.5)\n"
   ]
  },
  {
   "cell_type": "code",
   "execution_count": 22,
   "id": "42f5bdfb",
   "metadata": {},
   "outputs": [],
   "source": [
    "summaryDt <- summaryCond$datatable\n",
    "fcHurdle <- merge(summaryDt[contrast=='conditionSTIM' & component=='H',.(primerid, `Pr(>Chisq)`)], #hurdle P values\n",
    "                      summaryDt[contrast=='conditionSTIM' & component=='logFC', .(primerid, coef, ci.hi, ci.lo)], by='primerid') #logFC coefficients\n",
    "\n",
    "fcHurdle[,fdr:=p.adjust(`Pr(>Chisq)`, 'fdr')]\n",
    "fcHurdleSig <- merge(fcHurdle[fdr<.05], as.data.table(mcols(sca)), by='primerid')\n",
    "# setorder(fcHurdleSig, fdr)"
   ]
  },
  {
   "cell_type": "code",
   "execution_count": 23,
   "id": "21e27f29",
   "metadata": {},
   "outputs": [
    {
     "data": {
      "text/html": [
       "<table class=\"dataframe\">\n",
       "<caption>A data.table: 6 × 6</caption>\n",
       "<thead>\n",
       "\t<tr><th scope=col>primerid</th><th scope=col>Pr(&gt;Chisq)</th><th scope=col>coef</th><th scope=col>ci.hi</th><th scope=col>ci.lo</th><th scope=col>fdr</th></tr>\n",
       "\t<tr><th scope=col>&lt;chr&gt;</th><th scope=col>&lt;dbl&gt;</th><th scope=col>&lt;dbl&gt;</th><th scope=col>&lt;dbl&gt;</th><th scope=col>&lt;dbl&gt;</th><th scope=col>&lt;dbl&gt;</th></tr>\n",
       "</thead>\n",
       "<tbody>\n",
       "\t<tr><td>AAED1 </td><td>4.284176e-17</td><td> 0.093112954</td><td> 0.12455775</td><td> 0.061668157</td><td>1.095687e-16</td></tr>\n",
       "\t<tr><td>ABHD12</td><td>3.523088e-01</td><td> 0.011609475</td><td> 0.02870430</td><td>-0.005485353</td><td>3.834711e-01</td></tr>\n",
       "\t<tr><td>ABHD3 </td><td>5.066569e-01</td><td> 0.008454987</td><td> 0.02327590</td><td>-0.006365931</td><td>5.371944e-01</td></tr>\n",
       "\t<tr><td>ABI1  </td><td>2.918622e-06</td><td> 0.042820837</td><td> 0.06422044</td><td> 0.021421232</td><td>4.773139e-06</td></tr>\n",
       "\t<tr><td>ABI3  </td><td>4.317125e-12</td><td>-0.075081966</td><td>-0.04772237</td><td>-0.102441565</td><td>9.261447e-12</td></tr>\n",
       "\t<tr><td>ABRACL</td><td>1.177336e-04</td><td> 0.061733300</td><td> 0.09516367</td><td> 0.028302930</td><td>1.746152e-04</td></tr>\n",
       "</tbody>\n",
       "</table>\n"
      ],
      "text/latex": [
       "A data.table: 6 × 6\n",
       "\\begin{tabular}{llllll}\n",
       " primerid & Pr(>Chisq) & coef & ci.hi & ci.lo & fdr\\\\\n",
       " <chr> & <dbl> & <dbl> & <dbl> & <dbl> & <dbl>\\\\\n",
       "\\hline\n",
       "\t AAED1  & 4.284176e-17 &  0.093112954 &  0.12455775 &  0.061668157 & 1.095687e-16\\\\\n",
       "\t ABHD12 & 3.523088e-01 &  0.011609475 &  0.02870430 & -0.005485353 & 3.834711e-01\\\\\n",
       "\t ABHD3  & 5.066569e-01 &  0.008454987 &  0.02327590 & -0.006365931 & 5.371944e-01\\\\\n",
       "\t ABI1   & 2.918622e-06 &  0.042820837 &  0.06422044 &  0.021421232 & 4.773139e-06\\\\\n",
       "\t ABI3   & 4.317125e-12 & -0.075081966 & -0.04772237 & -0.102441565 & 9.261447e-12\\\\\n",
       "\t ABRACL & 1.177336e-04 &  0.061733300 &  0.09516367 &  0.028302930 & 1.746152e-04\\\\\n",
       "\\end{tabular}\n"
      ],
      "text/markdown": [
       "\n",
       "A data.table: 6 × 6\n",
       "\n",
       "| primerid &lt;chr&gt; | Pr(&gt;Chisq) &lt;dbl&gt; | coef &lt;dbl&gt; | ci.hi &lt;dbl&gt; | ci.lo &lt;dbl&gt; | fdr &lt;dbl&gt; |\n",
       "|---|---|---|---|---|---|\n",
       "| AAED1  | 4.284176e-17 |  0.093112954 |  0.12455775 |  0.061668157 | 1.095687e-16 |\n",
       "| ABHD12 | 3.523088e-01 |  0.011609475 |  0.02870430 | -0.005485353 | 3.834711e-01 |\n",
       "| ABHD3  | 5.066569e-01 |  0.008454987 |  0.02327590 | -0.006365931 | 5.371944e-01 |\n",
       "| ABI1   | 2.918622e-06 |  0.042820837 |  0.06422044 |  0.021421232 | 4.773139e-06 |\n",
       "| ABI3   | 4.317125e-12 | -0.075081966 | -0.04772237 | -0.102441565 | 9.261447e-12 |\n",
       "| ABRACL | 1.177336e-04 |  0.061733300 |  0.09516367 |  0.028302930 | 1.746152e-04 |\n",
       "\n"
      ],
      "text/plain": [
       "  primerid Pr(>Chisq)   coef         ci.hi       ci.lo        fdr         \n",
       "1 AAED1    4.284176e-17  0.093112954  0.12455775  0.061668157 1.095687e-16\n",
       "2 ABHD12   3.523088e-01  0.011609475  0.02870430 -0.005485353 3.834711e-01\n",
       "3 ABHD3    5.066569e-01  0.008454987  0.02327590 -0.006365931 5.371944e-01\n",
       "4 ABI1     2.918622e-06  0.042820837  0.06422044  0.021421232 4.773139e-06\n",
       "5 ABI3     4.317125e-12 -0.075081966 -0.04772237 -0.102441565 9.261447e-12\n",
       "6 ABRACL   1.177336e-04  0.061733300  0.09516367  0.028302930 1.746152e-04"
      ]
     },
     "metadata": {},
     "output_type": "display_data"
    }
   ],
   "source": [
    "head(fcHurdle)"
   ]
  },
  {
   "cell_type": "code",
   "execution_count": 24,
   "id": "608823df",
   "metadata": {},
   "outputs": [
    {
     "data": {
      "image/png": "[encoded data removed]",
      "text/plain": [
       "Plot with title “Histogram of fcHurdle$\"Pr(>Chisq)\"”"
      ]
     },
     "metadata": {
      "image/png": {
       "height": 420,
       "width": 420
      }
     },
     "output_type": "display_data"
    }
   ],
   "source": [
    "hist(fcHurdle$'Pr(>Chisq)')"
   ]
  },
  {
   "cell_type": "code",
   "execution_count": 25,
   "id": "44dbe6ea",
   "metadata": {},
   "outputs": [],
   "source": [
    "write.csv(fcHurdle, '/data_volume/memento/method_comparison/mast/MAST_full_demux.csv')"
   ]
  },
  {
   "cell_type": "markdown",
   "id": "fa0dc9b1",
   "metadata": {},
   "source": [
    "### Run mast repeatedly with partial data"
   ]
  },
  {
   "cell_type": "code",
   "execution_count": 26,
   "id": "b568500c",
   "metadata": {},
   "outputs": [],
   "source": [
    "library(ifnb.SeuratData)"
   ]
  },
  {
   "cell_type": "code",
   "execution_count": 27,
   "id": "485fbc26",
   "metadata": {},
   "outputs": [],
   "source": [
    "data(\"ifnb\")\n",
    "ifnb <- subset(x = ifnb, subset = seurat_annotations == \"CD14 Mono\")\n",
    "ifnb <- NormalizeData(object = ifnb)"
   ]
  },
  {
   "cell_type": "code",
   "execution_count": 28,
   "id": "30430f14",
   "metadata": {},
   "outputs": [
    {
     "name": "stderr",
     "output_type": "stream",
     "text": [
      "`fData` has no primerid.  I'll make something up.\n",
      "\n",
      "`cData` has no wellKey.  I'll make something up.\n",
      "\n",
      "Assuming data assay in position 1, with name et is log-transformed.\n",
      "\n",
      "\n",
      "Done!\n",
      "\n",
      "Combining coefficients and standard errors\n",
      "\n",
      "Calculating log-fold changes\n",
      "\n",
      "Calculating likelihood ratio tests\n",
      "\n",
      "Refitting on reduced model...\n",
      "\n",
      "\n",
      "Done!\n",
      "\n"
     ]
    },
    {
     "name": "stdout",
     "output_type": "stream",
     "text": [
      "[1] \"ACGGATTGTCCGTC-1\" \"ACAAATTGACCTGA-1\" \"CAATAATGGAATCC-1\" \"AGGGCGCTACGGGA-1\"\n",
      "[5] \"GTAGTGTGTTATCC-1\"\n"
     ]
    },
    {
     "name": "stderr",
     "output_type": "stream",
     "text": [
      "`fData` has no primerid.  I'll make something up.\n",
      "\n",
      "`cData` has no wellKey.  I'll make something up.\n",
      "\n",
      "Assuming data assay in position 1, with name et is log-transformed.\n",
      "\n",
      "\n",
      "Done!\n",
      "\n",
      "Combining coefficients and standard errors\n",
      "\n",
      "Calculating log-fold changes\n",
      "\n",
      "Calculating likelihood ratio tests\n",
      "\n",
      "Refitting on reduced model...\n",
      "\n",
      "\n",
      "Done!\n",
      "\n"
     ]
    },
    {
     "name": "stdout",
     "output_type": "stream",
     "text": [
      "[1] \"TAGTCTTGGCAAGG-1\" \"TTTGACTGCCCACT-1\" \"ACGAACACTAGACC-1\" \"CAAGCCCTTCAAGC-1\"\n",
      "[5] \"ATTCAAGAACACAC-1\"\n"
     ]
    }
   ],
   "source": [
    "# Use expressed genes from full dataset\n",
    "rep_num <- 1\n",
    "for (trial in 1:2){\n",
    "\n",
    "    scaRaw <- FromMatrix(\n",
    "        as.matrix(GetAssayData(object = ifnb,slot=\"data\")), \n",
    "        ifnb[[]], ifnb[[\"RNA\"]][[]])\n",
    "    \n",
    "    rownames(scaRaw) <- gsub(\"\\\\.\", \"-\", rownames(scaRaw))\n",
    "    colnames(scaRaw) <- gsub(\"\\\\.\", \"-\", colnames(scaRaw))\n",
    "    \n",
    "    sca <- scaRaw\n",
    "    \n",
    "    mem_meta <- read.table(\n",
    "        paste('/data_volume/memento/method_comparison/memento/meta_equal_rep_', trial, '.csv', sep=''),\n",
    "        sep=',', header=1)\n",
    "    mem_genes <- read.table(\n",
    "        paste('/data_volume/memento/method_comparison/memento/memento_equal_rep_', trial, '.csv', sep=''),\n",
    "        sep=',', header=1)\n",
    "    \n",
    "    sca <- sca[mem_genes$gene, mem_meta$index]\n",
    "    cond<-factor(colData(sca)$stim)\n",
    "    cond<-relevel(cond,\"CTRL\")\n",
    "    colData(sca)$condition<-cond\n",
    "    zlmCond <- zlm(~condition + nCount_RNA, sca)\n",
    "    summaryCond <- summary(zlmCond, doLRT='conditionSTIM')\n",
    "\n",
    "    summaryDt <- summaryCond$datatable\n",
    "    fcHurdle <- merge(summaryDt[contrast=='conditionSTIM' & component=='H',.(primerid, `Pr(>Chisq)`)], #hurdle P values\n",
    "                          summaryDt[contrast=='conditionSTIM' & component=='logFC', .(primerid, coef, ci.hi, ci.lo)], by='primerid') #logFC coefficients\n",
    "    print(colnames(sca)[1:5])\n",
    "    write.csv(fcHurdle, paste('/data_volume/memento/method_comparison/mast/MAST_equal_rep_',trial, '.csv', sep=''))\n",
    "    }"
   ]
  },
  {
   "cell_type": "code",
   "execution_count": null,
   "id": "09ff4b76",
   "metadata": {},
   "outputs": [],
   "source": []
  },
  {
   "cell_type": "code",
   "execution_count": null,
   "id": "39654fb9",
   "metadata": {},
   "outputs": [],
   "source": []
  }
 ],
 "metadata": {
  "kernelspec": {
   "display_name": "R",
   "language": "R",
   "name": "ir"
  },
  "language_info": {
   "codemirror_mode": "r",
   "file_extension": ".r",
   "mimetype": "text/x-r-source",
   "name": "R",
   "pygments_lexer": "r",
   "version": "4.0.5"
  }
 },
 "nbformat": 4,
 "nbformat_minor": 5
}
