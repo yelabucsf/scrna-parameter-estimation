{
 "cells": [
  {
   "cell_type": "markdown",
   "id": "31d0a915",
   "metadata": {},
   "source": [
    "# Replicability analysis"
   ]
  },
  {
   "cell_type": "code",
   "execution_count": 1,
   "id": "35d220c5",
   "metadata": {},
   "outputs": [],
   "source": [
    "import pandas as pd\n",
    "import matplotlib.pyplot as plt\n",
    "from sklearn.metrics import precision_recall_curve, roc_curve\n",
    "import numpy as np\n",
    "import scipy.stats as stats\n",
    "import scipy.spatial as spatial\n",
    "import scanpy as sc"
   ]
  },
  {
   "cell_type": "code",
   "execution_count": 2,
   "id": "da8e3faa",
   "metadata": {},
   "outputs": [],
   "source": [
    "import sys\n",
    "sys.path.append('/home/ssm-user/Github/scrna-parameter-estimation/dist/memento-0.0.9-py3.8.egg')\n",
    "sys.path.append('/home/ssm-user/Github/misc-seq/miscseq/')\n",
    "import encode\n",
    "import memento"
   ]
  },
  {
   "cell_type": "code",
   "execution_count": 3,
   "id": "f96cf752",
   "metadata": {},
   "outputs": [],
   "source": [
    "data_path = '/data_volume/memento/method_comparison/'"
   ]
  },
  {
   "cell_type": "code",
   "execution_count": 4,
   "id": "59c7ff92",
   "metadata": {},
   "outputs": [],
   "source": [
    "import matplotlib.pylab as pylab\n",
    "params = {'legend.fontsize': 'medium',\n",
    "         'axes.labelsize': 'medium',\n",
    "         'axes.titlesize':'medium',\n",
    "         'figure.titlesize':'medium',\n",
    "         'xtick.labelsize':'medium',\n",
    "         'ytick.labelsize':'medium',\n",
    "         'axes.labelsize': 'large'}\n",
    "pylab.rcParams.update(params)"
   ]
  },
  {
   "cell_type": "code",
   "execution_count": 5,
   "id": "6ff44624",
   "metadata": {},
   "outputs": [],
   "source": [
    "def concordance(x, y, log=False):\n",
    "    nonnan = np.isfinite(x) & np.isfinite(y)\n",
    "    \n",
    "    if log:\n",
    "        a = np.log(x)\n",
    "        b = np.log(y)\n",
    "    else:\n",
    "        a = x\n",
    "        b = y\n",
    "    cond = np.isfinite(a) & np.isfinite(b)\n",
    "    a = a[cond]\n",
    "    b = b[cond]\n",
    "    cmat = np.cov(a, b)\n",
    "    return 2*cmat[0,1]/(cmat[0,0] + cmat[1,1] + (a.mean()-b.mean())**2)"
   ]
  },
  {
   "cell_type": "markdown",
   "id": "68dd3048",
   "metadata": {},
   "source": [
    "### Run memento on full and partial datasets"
   ]
  },
  {
   "cell_type": "code",
   "execution_count": 6,
   "id": "7141c382",
   "metadata": {},
   "outputs": [],
   "source": [
    "ifnb_df = pd.read_csv(data_path + 'mast/seurat_full.csv', index_col=0)\n",
    "seurat_cells = ifnb_df.index.map(lambda x: '-'.join(x.split('.')))\n",
    "seurat_genes = pd.read_csv(data_path + 'mast/seurat_genes.csv', index_col=0)['x']\\\n",
    "    .map(lambda x: '-'.join(x.split('.'))).tolist()\n"
   ]
  },
  {
   "cell_type": "code",
   "execution_count": 7,
   "id": "e05db9d3",
   "metadata": {},
   "outputs": [],
   "source": [
    "adata = sc.read('/data_volume/memento/demux/interferon.h5ad')\n",
    "adata.var.index = adata.var.index.map(lambda x: '-'.join(x.split('.')))\n",
    "adata.var.rename(index={'Y_RNA':'Y-RNA'}, inplace=True)\n",
    "adata = adata[seurat_cells,  seurat_genes].copy().copy()\n",
    "adata.obs['q'] = 0.1\n",
    "memento.setup_memento(adata, q_column='q', filter_mean_thresh=0.07,trim_percent=0.1)\n"
   ]
  },
  {
   "cell_type": "code",
   "execution_count": 8,
   "id": "c8bd80eb",
   "metadata": {},
   "outputs": [],
   "source": [
    "memento.create_groups(adata, label_columns=['stim'])\n",
    "memento.compute_1d_moments(adata, filter_genes=True)\n",
    "\n",
    "meta_df = memento.get_groups(adata)\n",
    "meta_df = pd.get_dummies(meta_df, prefix='', prefix_sep='', drop_first=False)\n",
    "\n",
    "treatment = meta_df[['stim']]\n",
    "covariate = pd.DataFrame(np.ones((treatment.shape[0], 1)), columns=['intercept'])\n",
    "# covariate = meta_df.iloc[:, -9:]"
   ]
  },
  {
   "cell_type": "code",
   "execution_count": 9,
   "id": "ea73536e",
   "metadata": {},
   "outputs": [
    {
     "name": "stderr",
     "output_type": "stream",
     "text": [
      "[Parallel(n_jobs=14)]: Using backend LokyBackend with 14 concurrent workers.\n",
      "[Parallel(n_jobs=14)]: Done  22 tasks      | elapsed:    5.6s\n",
      "[Parallel(n_jobs=14)]: Done 172 tasks      | elapsed:   22.8s\n",
      "[Parallel(n_jobs=14)]: Done 422 tasks      | elapsed:   48.9s\n",
      "[Parallel(n_jobs=14)]: Done 772 tasks      | elapsed:  1.5min\n",
      "[Parallel(n_jobs=14)]: Done 1222 tasks      | elapsed:  2.3min\n",
      "[Parallel(n_jobs=14)]: Done 1772 tasks      | elapsed:  3.4min\n",
      "[Parallel(n_jobs=14)]: Done 2032 out of 2032 | elapsed:  3.9min finished\n"
     ]
    }
   ],
   "source": [
    "memento.ht_1d_moments(\n",
    "    adata, \n",
    "    treatment=treatment,\n",
    "    covariate=covariate,\n",
    "    num_boot=50000, \n",
    "    verbose=1,\n",
    "    num_cpus=14,\n",
    "    resampling='bootstrap',\n",
    "    approx=True)"
   ]
  },
  {
   "cell_type": "code",
   "execution_count": 10,
   "id": "7ff96152",
   "metadata": {},
   "outputs": [
    {
     "name": "stderr",
     "output_type": "stream",
     "text": [
      "[Parallel(n_jobs=14)]: Using backend LokyBackend with 14 concurrent workers.\n",
      "[Parallel(n_jobs=14)]: Done  22 tasks      | elapsed:    1.3s\n",
      "[Parallel(n_jobs=14)]: Done 172 tasks      | elapsed:    7.9s\n",
      "[Parallel(n_jobs=14)]: Done 422 tasks      | elapsed:   18.4s\n",
      "[Parallel(n_jobs=14)]: Done 772 tasks      | elapsed:   34.1s\n",
      "[Parallel(n_jobs=14)]: Done 1222 tasks      | elapsed:   54.1s\n",
      "[Parallel(n_jobs=14)]: Done 1577 out of 1577 | elapsed:  1.2min finished\n"
     ]
    }
   ],
   "source": [
    "adata_sample_1 = adata.copy().copy()\n",
    "adata_sample_1 = sc.pp.subsample(adata_sample_1, n_obs=250, copy=True, random_state=None)\n",
    "memento.setup_memento(adata_sample_1, q_column='q', filter_mean_thresh=0.07,trim_percent=0.1)\n",
    "\n",
    "memento.create_groups(adata_sample_1, label_columns=['stim'])\n",
    "memento.compute_1d_moments(adata_sample_1, filter_genes=True)\n",
    "\n",
    "meta_df = memento.get_groups(adata_sample_1)\n",
    "meta_df = pd.get_dummies(meta_df, prefix='', prefix_sep='', drop_first=False)\n",
    "\n",
    "treatment = meta_df[['stim']]\n",
    "covariate = pd.DataFrame(np.ones((treatment.shape[0], 1)), columns=['intercept'])\n",
    "\n",
    "# covariate = meta_df.iloc[:, -9:]\n",
    "memento.ht_1d_moments(\n",
    "    adata_sample_1, \n",
    "    treatment=treatment,\n",
    "    covariate=covariate,\n",
    "    num_boot=50000, \n",
    "    verbose=1,\n",
    "    num_cpus=14,\n",
    "    resampling='bootstrap',\n",
    "    approx=True)"
   ]
  },
  {
   "cell_type": "code",
   "execution_count": 11,
   "id": "41df9ac4",
   "metadata": {},
   "outputs": [
    {
     "name": "stderr",
     "output_type": "stream",
     "text": [
      "[Parallel(n_jobs=14)]: Using backend LokyBackend with 14 concurrent workers.\n",
      "[Parallel(n_jobs=14)]: Done  22 tasks      | elapsed:    1.2s\n",
      "[Parallel(n_jobs=14)]: Done 172 tasks      | elapsed:    8.2s\n",
      "[Parallel(n_jobs=14)]: Done 422 tasks      | elapsed:   19.6s\n",
      "[Parallel(n_jobs=14)]: Done 772 tasks      | elapsed:   36.0s\n",
      "[Parallel(n_jobs=14)]: Done 1222 tasks      | elapsed:   57.1s\n",
      "[Parallel(n_jobs=14)]: Done 1588 out of 1588 | elapsed:  1.2min finished\n"
     ]
    }
   ],
   "source": [
    "adata_sample_2 = adata.copy().copy()\n",
    "adata_sample_2 = sc.pp.subsample(adata_sample_2, n_obs=250, copy=True, random_state=None)\n",
    "memento.setup_memento(adata_sample_2, q_column='q', filter_mean_thresh=0.07,trim_percent=0.1)\n",
    "\n",
    "memento.create_groups(adata_sample_2, label_columns=['stim'])\n",
    "memento.compute_1d_moments(adata_sample_2, filter_genes=True)\n",
    "\n",
    "meta_df = memento.get_groups(adata_sample_2)\n",
    "meta_df = pd.get_dummies(meta_df, prefix='', prefix_sep='', drop_first=False)\n",
    "\n",
    "treatment = meta_df[['stim']]\n",
    "covariate = pd.DataFrame(np.ones((treatment.shape[0], 1)), columns=['intercept'])\n",
    "\n",
    "# covariate = meta_df.iloc[:, -9:]\n",
    "memento.ht_1d_moments(\n",
    "    adata_sample_2, \n",
    "    treatment=treatment,\n",
    "    covariate=covariate,\n",
    "    num_boot=50000, \n",
    "    verbose=1,\n",
    "    num_cpus=14,\n",
    "    resampling='bootstrap',\n",
    "    approx=True)"
   ]
  },
  {
   "cell_type": "code",
   "execution_count": 12,
   "id": "39a8a535",
   "metadata": {},
   "outputs": [],
   "source": [
    "adata.obs.to_csv(data_path + 'memento/meta_full.csv')\n",
    "adata_sample_1.obs.to_csv(data_path + 'memento/meta_equal_rep_1.csv')\n",
    "adata_sample_2.obs.to_csv(data_path + 'memento/meta_equal_rep_2.csv')"
   ]
  },
  {
   "cell_type": "code",
   "execution_count": 16,
   "id": "90300d0c",
   "metadata": {},
   "outputs": [
    {
     "data": {
      "text/html": [
       "<div>\n",
       "<style scoped>\n",
       "    .dataframe tbody tr th:only-of-type {\n",
       "        vertical-align: middle;\n",
       "    }\n",
       "\n",
       "    .dataframe tbody tr th {\n",
       "        vertical-align: top;\n",
       "    }\n",
       "\n",
       "    .dataframe thead th {\n",
       "        text-align: right;\n",
       "    }\n",
       "</style>\n",
       "<table border=\"1\" class=\"dataframe\">\n",
       "  <thead>\n",
       "    <tr style=\"text-align: right;\">\n",
       "      <th></th>\n",
       "      <th>tsne1</th>\n",
       "      <th>tsne2</th>\n",
       "      <th>ind</th>\n",
       "      <th>stim</th>\n",
       "      <th>cluster</th>\n",
       "      <th>cell</th>\n",
       "      <th>multiplets</th>\n",
       "      <th>q</th>\n",
       "      <th>memento_size_factor</th>\n",
       "      <th>memento_group</th>\n",
       "    </tr>\n",
       "    <tr>\n",
       "      <th>index</th>\n",
       "      <th></th>\n",
       "      <th></th>\n",
       "      <th></th>\n",
       "      <th></th>\n",
       "      <th></th>\n",
       "      <th></th>\n",
       "      <th></th>\n",
       "      <th></th>\n",
       "      <th></th>\n",
       "      <th></th>\n",
       "    </tr>\n",
       "  </thead>\n",
       "  <tbody>\n",
       "    <tr>\n",
       "      <th>AAACATACATTTCC-1</th>\n",
       "      <td>-27.640373</td>\n",
       "      <td>14.966629</td>\n",
       "      <td>1016</td>\n",
       "      <td>ctrl</td>\n",
       "      <td>9</td>\n",
       "      <td>CD14+ Monocytes</td>\n",
       "      <td>singlet</td>\n",
       "      <td>0.1</td>\n",
       "      <td>2867.856689</td>\n",
       "      <td>sg^ctrl</td>\n",
       "    </tr>\n",
       "    <tr>\n",
       "      <th>AAACATACCAGAAA-1</th>\n",
       "      <td>-27.493646</td>\n",
       "      <td>28.924885</td>\n",
       "      <td>1256</td>\n",
       "      <td>ctrl</td>\n",
       "      <td>9</td>\n",
       "      <td>CD14+ Monocytes</td>\n",
       "      <td>singlet</td>\n",
       "      <td>0.1</td>\n",
       "      <td>2824.965576</td>\n",
       "      <td>sg^ctrl</td>\n",
       "    </tr>\n",
       "    <tr>\n",
       "      <th>AAACATACCTCGCT-1</th>\n",
       "      <td>-24.367997</td>\n",
       "      <td>20.429285</td>\n",
       "      <td>1256</td>\n",
       "      <td>ctrl</td>\n",
       "      <td>9</td>\n",
       "      <td>CD14+ Monocytes</td>\n",
       "      <td>singlet</td>\n",
       "      <td>0.1</td>\n",
       "      <td>3483.929443</td>\n",
       "      <td>sg^ctrl</td>\n",
       "    </tr>\n",
       "    <tr>\n",
       "      <th>AAACATACGGCATT-1</th>\n",
       "      <td>-17.682803</td>\n",
       "      <td>21.005576</td>\n",
       "      <td>1015</td>\n",
       "      <td>ctrl</td>\n",
       "      <td>9</td>\n",
       "      <td>CD14+ Monocytes</td>\n",
       "      <td>singlet</td>\n",
       "      <td>0.1</td>\n",
       "      <td>2203.694092</td>\n",
       "      <td>sg^ctrl</td>\n",
       "    </tr>\n",
       "    <tr>\n",
       "      <th>AAACATTGCTTCGC-1</th>\n",
       "      <td>-22.507926</td>\n",
       "      <td>25.130749</td>\n",
       "      <td>1256</td>\n",
       "      <td>ctrl</td>\n",
       "      <td>9</td>\n",
       "      <td>CD14+ Monocytes</td>\n",
       "      <td>singlet</td>\n",
       "      <td>0.1</td>\n",
       "      <td>3147.298828</td>\n",
       "      <td>sg^ctrl</td>\n",
       "    </tr>\n",
       "  </tbody>\n",
       "</table>\n",
       "</div>"
      ],
      "text/plain": [
       "                      tsne1      tsne2   ind  stim cluster             cell  \\\n",
       "index                                                                         \n",
       "AAACATACATTTCC-1 -27.640373  14.966629  1016  ctrl       9  CD14+ Monocytes   \n",
       "AAACATACCAGAAA-1 -27.493646  28.924885  1256  ctrl       9  CD14+ Monocytes   \n",
       "AAACATACCTCGCT-1 -24.367997  20.429285  1256  ctrl       9  CD14+ Monocytes   \n",
       "AAACATACGGCATT-1 -17.682803  21.005576  1015  ctrl       9  CD14+ Monocytes   \n",
       "AAACATTGCTTCGC-1 -22.507926  25.130749  1256  ctrl       9  CD14+ Monocytes   \n",
       "\n",
       "                 multiplets    q  memento_size_factor memento_group  \n",
       "index                                                                \n",
       "AAACATACATTTCC-1    singlet  0.1          2867.856689       sg^ctrl  \n",
       "AAACATACCAGAAA-1    singlet  0.1          2824.965576       sg^ctrl  \n",
       "AAACATACCTCGCT-1    singlet  0.1          3483.929443       sg^ctrl  \n",
       "AAACATACGGCATT-1    singlet  0.1          2203.694092       sg^ctrl  \n",
       "AAACATTGCTTCGC-1    singlet  0.1          3147.298828       sg^ctrl  "
      ]
     },
     "execution_count": 16,
     "metadata": {},
     "output_type": "execute_result"
    }
   ],
   "source": [
    "adata.obs.head(5)"
   ]
  },
  {
   "cell_type": "code",
   "execution_count": 18,
   "id": "9760c59b",
   "metadata": {},
   "outputs": [
    {
     "data": {
      "text/plain": [
       "<4362x2032 sparse matrix of type '<class 'numpy.float32'>'\n",
       "\twith 2524618 stored elements in Compressed Sparse Row format>"
      ]
     },
     "execution_count": 18,
     "metadata": {},
     "output_type": "execute_result"
    }
   ],
   "source": [
    "adata.X"
   ]
  },
  {
   "cell_type": "code",
   "execution_count": null,
   "id": "34235660",
   "metadata": {},
   "outputs": [],
   "source": []
  },
  {
   "cell_type": "code",
   "execution_count": 13,
   "id": "4bc15a4e",
   "metadata": {},
   "outputs": [
    {
     "name": "stderr",
     "output_type": "stream",
     "text": [
      "... storing 'ind' as categorical\n",
      "... storing 'stim' as categorical\n",
      "... storing 'cluster' as categorical\n",
      "... storing 'cell' as categorical\n",
      "... storing 'multiplets' as categorical\n",
      "... storing 'memento_group' as categorical\n",
      "... storing 'ind' as categorical\n",
      "... storing 'stim' as categorical\n",
      "... storing 'cluster' as categorical\n",
      "... storing 'cell' as categorical\n",
      "... storing 'multiplets' as categorical\n",
      "... storing 'memento_group' as categorical\n",
      "... storing 'ind' as categorical\n",
      "... storing 'stim' as categorical\n",
      "... storing 'cluster' as categorical\n",
      "... storing 'cell' as categorical\n",
      "... storing 'multiplets' as categorical\n",
      "... storing 'memento_group' as categorical\n"
     ]
    }
   ],
   "source": [
    "adata.write('/data_volume/memento/method_comparison/basics/full.h5ad')\n",
    "adata_sample_1.write('/data_volume/memento/method_comparison/basics/partial_1.h5ad')\n",
    "adata_sample_2.write('/data_volume/memento/method_comparison/basics/partial_2.h5ad')\n"
   ]
  },
  {
   "cell_type": "code",
   "execution_count": 14,
   "id": "52c549fa",
   "metadata": {},
   "outputs": [],
   "source": [
    "ht = memento.get_1d_ht_result(adata)\n",
    "ht1 = memento.get_1d_ht_result(adata_sample_1)\n",
    "ht2 = memento.get_1d_ht_result(adata_sample_2)"
   ]
  },
  {
   "cell_type": "code",
   "execution_count": 15,
   "id": "ce039d2c",
   "metadata": {},
   "outputs": [],
   "source": [
    "ht.to_csv(data_path + 'memento/memento_full.csv', index=False)\n",
    "ht1.to_csv(data_path + 'memento/memento_equal_rep_1.csv', index=False)\n",
    "ht2.to_csv(data_path + 'memento/memento_equal_rep_2.csv', index=False)"
   ]
  },
  {
   "cell_type": "markdown",
   "id": "1a775e94",
   "metadata": {},
   "source": [
    "### Run (in other notebook) and read MAST results"
   ]
  },
  {
   "cell_type": "code",
   "execution_count": null,
   "id": "ba3992a7",
   "metadata": {},
   "outputs": [],
   "source": [
    "df1 = pd.read_csv(data_path + 'mast/MAST_equal_rep_1.csv', index_col=0)\n",
    "df2 = pd.read_csv(data_path + 'mast/MAST_equal_rep_2.csv', index_col=0)"
   ]
  },
  {
   "cell_type": "markdown",
   "id": "be3197f9",
   "metadata": {},
   "source": [
    "### Run (in other notebook) and read BASiCS results"
   ]
  },
  {
   "cell_type": "markdown",
   "id": "cce02e42",
   "metadata": {},
   "source": [
    "### Comparing t-statistics"
   ]
  },
  {
   "cell_type": "code",
   "execution_count": null,
   "id": "21a3572a",
   "metadata": {},
   "outputs": [],
   "source": [
    "joined_mast = df1.merge(df2, on='primerid')\n",
    "joined = ht1.merge(ht2, on='gene')\n",
    "gene_overlap = set(joined_mast['primerid']) & set(joined['gene'])\n",
    "joined_mast = joined_mast.query('primerid in @gene_overlap')\n",
    "joined = joined.query('gene in @gene_overlap')"
   ]
  },
  {
   "cell_type": "code",
   "execution_count": null,
   "id": "b030fda2",
   "metadata": {},
   "outputs": [],
   "source": [
    "plt.figure(figsize=(8,4))\n",
    "plt.subplots_adjust(wspace=0.3)\n",
    "plt.subplot(1, 2, 1)\n",
    "a = (joined_mast['ci.hi_x']-joined_mast['coef_x'].values)/2\n",
    "b = (joined_mast['ci.hi_y']-joined_mast['coef_y'].values)/2\n",
    "isf = np.isfinite(a) & np.isfinite(b)\n",
    "print(concordance(a[isf], b[isf]))\n",
    "plt.scatter(a, b, s=1)\n",
    "plt.title('MAST')\n",
    "plt.xlabel('Subset 1 S.E.')\n",
    "plt.ylabel('Subset 2 S.E.')\n",
    "\n",
    "plt.subplot(1, 2, 2)\n",
    "\n",
    "a = (joined['de_se_x'])\n",
    "b = (joined['de_se_y'])\n",
    "isf = np.isfinite(a) & np.isfinite(b)\n",
    "print(concordance(a[isf], b[isf]))\n",
    "plt.scatter(a, b, s=1)\n",
    "plt.title('memento')\n",
    "plt.xlabel('Subset 1 S.E.')\n",
    "# plt.ylabel('Subset 2 S.E.')"
   ]
  },
  {
   "cell_type": "code",
   "execution_count": null,
   "id": "91bd366a",
   "metadata": {},
   "outputs": [],
   "source": [
    "plt.figure(figsize=(8,4))\n",
    "plt.subplots_adjust(wspace=0.3)\n",
    "plt.subplot(1, 2, 1)\n",
    "a = np.log((joined_mast['ci.hi_x']-joined_mast['coef_x'].values)/2)\n",
    "b = np.log((joined_mast['ci.hi_y']-joined_mast['coef_y'].values)/2)\n",
    "isf = np.isfinite(a) & np.isfinite(b)\n",
    "print(concordance(a[isf], b[isf]))\n",
    "plt.scatter(a, b, s=1)\n",
    "plt.title('MAST')\n",
    "plt.xlabel('Subset 1 S.E.')\n",
    "plt.ylabel('Subset 2 S.E.')\n",
    "\n",
    "plt.subplot(1, 2, 2)\n",
    "\n",
    "a = np.log(joined['de_se_x'])\n",
    "b = np.log(joined['de_se_y'])\n",
    "isf = np.isfinite(a) & np.isfinite(b)\n",
    "print(concordance(a[isf], b[isf]))\n",
    "plt.scatter(a, b, s=1)\n",
    "plt.title('memento')\n",
    "plt.xlabel('Subset 1 S.E.')\n",
    "# plt.ylabel('Subset 2 S.E.')"
   ]
  },
  {
   "cell_type": "code",
   "execution_count": 43,
   "id": "ef40cff2",
   "metadata": {},
   "outputs": [
    {
     "name": "stdout",
     "output_type": "stream",
     "text": [
      "0.9275128502610555\n",
      "0.889432460727789\n"
     ]
    },
    {
     "data": {
      "text/plain": [
       "Text(0.5, 0, 'Subset 1 coefficient')"
      ]
     },
     "execution_count": 43,
     "metadata": {},
     "output_type": "execute_result"
    },
    {
     "data": {
      "image/png": "[encoded data removed]",
      "text/plain": [
       "<Figure size 576x288 with 2 Axes>"
      ]
     },
     "metadata": {
      "needs_background": "light"
     },
     "output_type": "display_data"
    }
   ],
   "source": [
    "plt.figure(figsize=(8,4))\n",
    "plt.subplots_adjust(wspace=0.3)\n",
    "plt.subplot(1, 2, 1)\n",
    "a = joined_mast['coef_x']#/((df1['ci.hi']-df1['coef'].values)/2)\n",
    "b = joined_mast['coef_y']#/((df2['ci.hi']-df2['coef'].values)/2)\n",
    "isf = np.isfinite(a) & np.isfinite(b)\n",
    "print(concordance(a[isf], b[isf]))\n",
    "\n",
    "plt.scatter(a, b, s=10)\n",
    "plt.title('MAST')\n",
    "plt.xlabel('Subset 1 coefficient')\n",
    "plt.ylabel('Subset 2 coefficient')\n",
    "\n",
    "plt.subplot(1, 2, 2)\n",
    "\n",
    "a = joined['de_coef_x']#/joined['de_se_x']#np.log((df1['ci.hi']-df1['coef'].values)/2)\n",
    "b = joined['de_coef_y']#/joined['de_se_y']#np.log((df2['ci.hi']-df2['coef'].values)/2)\n",
    "isf = np.isfinite(a) & np.isfinite(b)\n",
    "print(concordance(a[isf], b[isf]))\n",
    "\n",
    "plt.scatter(a, b, s=10)\n",
    "plt.title('memento')\n",
    "plt.xlabel('Subset 1 coefficient')\n",
    "# plt.ylabel('Subset 2 S.E.')"
   ]
  },
  {
   "cell_type": "code",
   "execution_count": 44,
   "id": "ba952a9e",
   "metadata": {},
   "outputs": [
    {
     "name": "stdout",
     "output_type": "stream",
     "text": [
      "0.9111397561086102\n",
      "0.9274528818726544\n"
     ]
    },
    {
     "data": {
      "text/plain": [
       "Text(0.5, 0, 'Subset 1 t-statistic')"
      ]
     },
     "execution_count": 44,
     "metadata": {},
     "output_type": "execute_result"
    },
    {
     "data": {
      "image/png": "[encoded data removed]",
      "text/plain": [
       "<Figure size 576x288 with 2 Axes>"
      ]
     },
     "metadata": {
      "needs_background": "light"
     },
     "output_type": "display_data"
    }
   ],
   "source": [
    "plt.figure(figsize=(8,4))\n",
    "plt.subplots_adjust(wspace=0.3)\n",
    "plt.subplot(1, 2, 1)\n",
    "a = joined_mast['coef_x']/((joined_mast['ci.hi_x']-joined_mast['coef_x'].values)/2)\n",
    "b = joined_mast['coef_y']/((joined_mast['ci.hi_y']-joined_mast['coef_y'].values)/2)\n",
    "isf = np.isfinite(a) & np.isfinite(b)\n",
    "print(concordance(a[isf], b[isf]))\n",
    "\n",
    "plt.scatter(a, b, s=10)\n",
    "plt.title('MAST')\n",
    "plt.xlabel('Subset 1 t-statistic')\n",
    "plt.ylabel('Subset 2 t-statistic')\n",
    "\n",
    "plt.subplot(1, 2, 2)\n",
    "\n",
    "a = joined['de_coef_x']/joined['de_se_x']#np.log((df1['ci.hi']-df1['coef'].values)/2)\n",
    "b = joined['de_coef_y']/joined['de_se_y']#np.log((df2['ci.hi']-df2['coef'].values)/2)\n",
    "isf = np.isfinite(a) & np.isfinite(b)\n",
    "print(concordance(a[isf], b[isf]))\n",
    "\n",
    "plt.scatter(a, b, s=10)\n",
    "plt.title('memento')\n",
    "plt.xlabel('Subset 1 t-statistic')\n",
    "# plt.ylabel('Subset 2 S.E.')"
   ]
  },
  {
   "cell_type": "code",
   "execution_count": 45,
   "id": "eb5b0588",
   "metadata": {},
   "outputs": [
    {
     "name": "stdout",
     "output_type": "stream",
     "text": [
      "0.608924092346793\n",
      "0.5546599635257964\n"
     ]
    },
    {
     "data": {
      "text/plain": [
       "Text(0.5, 0, 'Subset 1 FDR')"
      ]
     },
     "execution_count": 45,
     "metadata": {},
     "output_type": "execute_result"
    },
    {
     "data": {
      "image/png": "[encoded data removed]",
      "text/plain": [
       "<Figure size 576x288 with 2 Axes>"
      ]
     },
     "metadata": {
      "needs_background": "light"
     },
     "output_type": "display_data"
    }
   ],
   "source": [
    "plt.figure(figsize=(8,4))\n",
    "plt.subplots_adjust(wspace=0.2)\n",
    "plt.subplot(1, 2, 1)\n",
    "a = joined_mast['Pr(>Chisq)_x']#/((df1['ci.hi']-df1['coef'].values)/2)\n",
    "b = joined_mast['Pr(>Chisq)_y']#/((df2['ci.hi']-df2['coef'].values)/2)\n",
    "\n",
    "a = memento.util._fdrcorrect(a)\n",
    "b = memento.util._fdrcorrect(b)\n",
    "\n",
    "# a = -np.log10(a)\n",
    "# b = -np.log10(b)\n",
    "\n",
    "isf = np.isfinite(a) & np.isfinite(b)\n",
    "print(concordance(a[isf], b[isf]))\n",
    "\n",
    "plt.scatter(a, b, s=10)\n",
    "plt.title('MAST')\n",
    "plt.xlabel('Subset 1 FDR')\n",
    "plt.ylabel('Subset 2 FDR')\n",
    "# plt.ylim(-300, 0.5); plt.xlim(-300, 0.5)\n",
    "\n",
    "plt.subplot(1, 2, 2)\n",
    "\n",
    "a = joined['de_pval_x']#/joined['de_se_x']#np.log((df1['ci.hi']-df1['coef'].values)/2)\n",
    "b = joined['de_pval_y']#/joined['de_se_y']#np.log((df2['ci.hi']-df2['coef'].values)/2)\n",
    "\n",
    "a = memento.util._fdrcorrect(a)\n",
    "b = memento.util._fdrcorrect(b)\n",
    "\n",
    "# a = -np.log10(a)\n",
    "# b = -np.log10(b)\n",
    "\n",
    "isf = np.isfinite(a) & np.isfinite(b)\n",
    "print(concordance(a[isf], b[isf]))\n",
    "\n",
    "plt.scatter(a, b, s=10)\n",
    "plt.title('memento')\n",
    "plt.xlabel('Subset 1 FDR')\n",
    "# plt.ylim(-300, 0.5); plt.xlim(-300, 0.5)\n",
    "\n",
    "# plt.ylabel('Subset 2 S.E.')"
   ]
  },
  {
   "cell_type": "code",
   "execution_count": 46,
   "id": "b2566dd9",
   "metadata": {},
   "outputs": [],
   "source": [
    "cutoffs = np.logspace(-3,0, 50)\n",
    "mast_dist = []\n",
    "memento_dist = []\n",
    "\n",
    "for cutoff in cutoffs:\n",
    "    \n",
    "    sig1 = (memento.util._fdrcorrect(joined_mast['Pr(>Chisq)_x']) < cutoff).astype(int)\n",
    "    sig2 = memento.util._fdrcorrect((joined_mast['Pr(>Chisq)_y']) < cutoff).astype(int)\n",
    "    mast_dist.append(np.mean(np.abs((sig1-sig2))))\n",
    "    \n",
    "    sig1 = (memento.util._fdrcorrect(joined['de_pval_x']) < cutoff).astype(int)\n",
    "    sig2 = (memento.util._fdrcorrect(joined['de_pval_y']) < cutoff).astype(int)\n",
    "    memento_dist.append(np.mean(np.abs((sig1-sig2))))\n",
    "#     memento_dist.append(\n",
    "#         spatial.distance.jaccard(joined['de_pval_x'] < cutoff, joined['de_pval_y'] < cutoff))"
   ]
  },
  {
   "cell_type": "markdown",
   "id": "ba49811a",
   "metadata": {},
   "source": [
    "### Repeat the analysis with multiple matchups"
   ]
  },
  {
   "cell_type": "code",
   "execution_count": null,
   "id": "300ffdf6",
   "metadata": {},
   "outputs": [],
   "source": [
    "d1, d2 = 1, 2\n",
    "\n",
    "df1 = pd.read_csv(data_path + 'MAST_equal_rep_{}.csv'.format(d1), index_col=0)\n",
    "df2 = pd.read_csv(data_path + 'MAST_equal_rep_{}.csv'.format(d2), index_col=0)\n",
    "joined_mast = df1.merge(df2, on='primerid')\n",
    "\n",
    "df1 = pd.read_csv(data_path + 'memento_equal_rep_{}.csv'.format(d1), index_col=0)\n",
    "df2 = pd.read_csv(data_path + 'memento_equal_rep_{}.csv'.format(d2), index_col=0)\n",
    "joined = df1.merge(df2, on='gene')\n",
    "\n",
    "cutoff = 0.1\n",
    "\n",
    "sig = (joined_mast['Pr(>Chisq)_x'] < cutoff).astype(int)\n",
    "scores = 1-(joined_mast['Pr(>Chisq)_y'])\n",
    "fpr, tpr, _ = roc_curve(sig, scores)\n",
    "plt.plot(fpr, tpr)\n",
    "\n",
    "sig = (joined['de_pval_x'] < cutoff).astype(int)\n",
    "scores = 1-(joined['de_pval_y'])\n",
    "\n",
    "fpr, tpr, _ = roc_curve(sig, scores)\n",
    "plt.plot(fpr, tpr)"
   ]
  },
  {
   "cell_type": "markdown",
   "id": "e9c1d0c3",
   "metadata": {},
   "source": [
    "### Comparing to the full dataset - mean"
   ]
  },
  {
   "cell_type": "code",
   "execution_count": null,
   "id": "632ef416",
   "metadata": {},
   "outputs": [],
   "source": [
    "full_df = pd.read_csv('MAST_full.csv', index_col=0)\n",
    "full_df.columns =  ['gene', 'pval', 'coef', 'ci_hi', 'ci_io', 'fdr']"
   ]
  },
  {
   "cell_type": "code",
   "execution_count": 59,
   "id": "275ec4d8",
   "metadata": {},
   "outputs": [],
   "source": [
    "overlap_genes = list(set(adata.var.index) & set(adata_sample_1.var.index))"
   ]
  },
  {
   "cell_type": "code",
   "execution_count": 60,
   "id": "c73bd08b",
   "metadata": {},
   "outputs": [],
   "source": [
    "ctrl_data = adata[adata.obs['stim'] == 'ctrl', overlap_genes].X.toarray()\n",
    "stim_data = adata[adata.obs['stim'] == 'stim',  overlap_genes].X.toarray()\n",
    "\n",
    "ctrl_data /= ctrl_data.sum(axis=1).reshape(-1,1)\n",
    "stim_data /= stim_data.sum(axis=1).reshape(-1,1)"
   ]
  },
  {
   "cell_type": "code",
   "execution_count": 61,
   "id": "9762bdf2",
   "metadata": {},
   "outputs": [],
   "source": [
    "_, ttest_pv_full = stats.ttest_ind(ctrl_data, stim_data)\n",
    "mwu_pv_full = np.array([stats.ranksums(ctrl_data[:, i], stim_data[:,i])[1] for i in range(ctrl_data.shape[1])])"
   ]
  },
  {
   "cell_type": "code",
   "execution_count": 62,
   "id": "6c7fdb5b",
   "metadata": {},
   "outputs": [],
   "source": [
    "sample_ctrl_data = adata_sample_1[adata_sample_1.obs['stim'] == 'ctrl', overlap_genes].X.toarray()\n",
    "sample_stim_data = adata_sample_1[adata_sample_1.obs['stim'] == 'stim', overlap_genes].X.toarray()\n",
    "\n",
    "sample_ctrl_data /= sample_ctrl_data.sum(axis=1).reshape(-1,1)\n",
    "sample_stim_data /= sample_stim_data.sum(axis=1).reshape(-1,1)"
   ]
  },
  {
   "cell_type": "code",
   "execution_count": 63,
   "id": "2c5478a7",
   "metadata": {},
   "outputs": [],
   "source": [
    "_, ttest_pv_sample = stats.ttest_ind(sample_ctrl_data, sample_stim_data)\n",
    "mwu_pv_sample = np.array([stats.ranksums(sample_ctrl_data[:, i], sample_stim_data[:,i])[1] for i in range(sample_ctrl_data.shape[1])])"
   ]
  },
  {
   "cell_type": "code",
   "execution_count": 64,
   "id": "4f6741ad",
   "metadata": {},
   "outputs": [],
   "source": [
    "memento_ht_partial = pd.read_csv(data_path + 'memento/memento_equal_rep_{}.csv'.format(1), index_col=0)\n",
    "memento_ht_full = memento.get_1d_ht_result(adata)"
   ]
  },
  {
   "cell_type": "code",
   "execution_count": 65,
   "id": "044fa00e",
   "metadata": {},
   "outputs": [],
   "source": [
    "mast_ht_partial = pd.read_csv(data_path + 'mast/MAST_equal_rep_{}.csv'.format(1), index_col=0)\n",
    "mast_ht_full = pd.read_csv(data_path + 'mast/MAST_full_demux.csv', index_col=0)"
   ]
  },
  {
   "cell_type": "code",
   "execution_count": 66,
   "id": "dfb54323",
   "metadata": {},
   "outputs": [],
   "source": [
    "memento_joined = memento_ht_partial.merge(memento_ht_full, on='gene', suffixes=('_partial', '_full'))\n",
    "mast_joined = mast_ht_partial.merge(mast_ht_full, on='primerid', suffixes=('_partial', '_full'))"
   ]
  },
  {
   "cell_type": "code",
   "execution_count": 72,
   "id": "16b5eb81",
   "metadata": {},
   "outputs": [
    {
     "data": {
      "image/png": "[encoded data removed]",
      "text/plain": [
       "<Figure size 252x144 with 1 Axes>"
      ]
     },
     "metadata": {
      "needs_background": "light"
     },
     "output_type": "display_data"
    }
   ],
   "source": [
    "plt.figure(figsize=(3.5,2))\n",
    "cutoff = 0.01\n",
    "\n",
    "sig = (mast_joined['Pr(>Chisq)_full'] < cutoff).astype(int)\n",
    "scores = 1-(mast_joined['Pr(>Chisq)_partial'])\n",
    "fpr, tpr, _ = roc_curve(sig, scores)\n",
    "plt.plot(fpr, tpr, label='MAST')\n",
    "\n",
    "sig = (memento_joined['de_pval_full'] < cutoff).astype(int)\n",
    "scores = 1-(memento_joined['de_pval_partial'])\n",
    "fpr, tpr, _ = roc_curve(sig, scores)\n",
    "plt.plot(fpr, tpr, label='memento')\n",
    "\n",
    "sig = (ttest_pv_full < cutoff).astype(int)\n",
    "# scores = np.random.random(size=len(sig))\n",
    "scores = 1-ttest_pv_sample\n",
    "fpr, tpr, _ = roc_curve(sig, scores)\n",
    "plt.plot(fpr, tpr, label='t-test')\n",
    "\n",
    "sig = (mwu_pv_full < cutoff).astype(int)\n",
    "scores = 1-mwu_pv_sample\n",
    "fpr, tpr, _ = roc_curve(sig, scores)\n",
    "plt.plot(fpr, tpr, label='MWU')\n",
    "\n",
    "plt.legend(frameon=False)\n",
    "\n",
    "plt.title('Recovering DE genes with subset of data')\n",
    "plt.xlabel('FPR'); plt.ylabel('TPR')\n",
    "plt.savefig('de_recovery.pdf', bbox_inches='tight')"
   ]
  },
  {
   "cell_type": "code",
   "execution_count": null,
   "id": "efbf9249",
   "metadata": {},
   "outputs": [],
   "source": []
  }
 ],
 "metadata": {
  "kernelspec": {
   "display_name": "Python 3 (ipykernel)",
   "language": "python",
   "name": "python3"
  },
  "language_info": {
   "codemirror_mode": {
    "name": "ipython",
    "version": 3
   },
   "file_extension": ".py",
   "mimetype": "text/x-python",
   "name": "python",
   "nbconvert_exporter": "python",
   "pygments_lexer": "ipython3",
   "version": "3.8.8"
  }
 },
 "nbformat": 4,
 "nbformat_minor": 5
}
