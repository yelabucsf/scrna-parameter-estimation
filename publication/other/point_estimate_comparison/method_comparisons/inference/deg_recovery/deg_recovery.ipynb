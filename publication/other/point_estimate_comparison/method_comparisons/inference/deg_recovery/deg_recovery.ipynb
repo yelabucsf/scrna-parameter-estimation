{
 "cells": [
  {
   "cell_type": "markdown",
   "id": "633d563f",
   "metadata": {},
   "source": [
    "# Replicability analysis"
   ]
  },
  {
   "cell_type": "code",
   "execution_count": 25,
   "id": "63eee774",
   "metadata": {},
   "outputs": [],
   "source": [
    "import pandas as pd\n",
    "import matplotlib.pyplot as plt\n",
    "from sklearn.metrics import precision_recall_curve, roc_curve\n",
    "import numpy as np\n",
    "import scipy.stats as stats\n",
    "import scipy.spatial as spatial\n",
    "import scanpy as sc"
   ]
  },
  {
   "cell_type": "code",
   "execution_count": 26,
   "id": "c9c7544a",
   "metadata": {},
   "outputs": [],
   "source": [
    "import sys\n",
    "sys.path.append('/home/ssm-user/Github/scrna-parameter-estimation/dist/memento-0.0.9-py3.8.egg')\n",
    "sys.path.append('/home/ssm-user/Github/misc-seq/miscseq/')\n",
    "import encode\n",
    "import memento"
   ]
  },
  {
   "cell_type": "code",
   "execution_count": 27,
   "id": "a7f80dc7",
   "metadata": {},
   "outputs": [],
   "source": [
    "data_path = '/data_volume/memento/method_comparison/'"
   ]
  },
  {
   "cell_type": "code",
   "execution_count": 28,
   "id": "a08f97ba",
   "metadata": {},
   "outputs": [],
   "source": [
    "import matplotlib.pylab as pylab\n",
    "params = {'legend.fontsize': 'medium',\n",
    "         'axes.labelsize': 'medium',\n",
    "         'axes.titlesize':'medium',\n",
    "         'figure.titlesize':'medium',\n",
    "         'xtick.labelsize':'medium',\n",
    "         'ytick.labelsize':'medium',\n",
    "         'axes.labelsize': 'large'}\n",
    "pylab.rcParams.update(params)"
   ]
  },
  {
   "cell_type": "code",
   "execution_count": 29,
   "id": "e0a07baf",
   "metadata": {},
   "outputs": [],
   "source": [
    "def concordance(x, y, log=False):\n",
    "    nonnan = np.isfinite(x) & np.isfinite(y)\n",
    "    \n",
    "    if log:\n",
    "        a = np.log(x)\n",
    "        b = np.log(y)\n",
    "    else:\n",
    "        a = x\n",
    "        b = y\n",
    "    cond = np.isfinite(a) & np.isfinite(b)\n",
    "    a = a[cond]\n",
    "    b = b[cond]\n",
    "    cmat = np.cov(a, b)\n",
    "    return 2*cmat[0,1]/(cmat[0,0] + cmat[1,1] + (a.mean()-b.mean())**2)"
   ]
  },
  {
   "cell_type": "markdown",
   "id": "94d6b7a8",
   "metadata": {},
   "source": [
    "### Run memento on full and partial datasets"
   ]
  },
  {
   "cell_type": "code",
   "execution_count": 80,
   "id": "745bc472",
   "metadata": {},
   "outputs": [],
   "source": [
    "ifnb_df = pd.read_csv(data_path + 'mast/seurat_full.csv', index_col=0)\n",
    "seurat_cells = ifnb_df.index.map(lambda x: '-'.join(x.split('.')))\n",
    "seurat_genes = pd.read_csv(data_path + 'mast/seurat_genes.csv', index_col=0)['x']\\\n",
    "    .map(lambda x: '-'.join(x.split('.'))).tolist()\n"
   ]
  },
  {
   "cell_type": "code",
   "execution_count": 106,
   "id": "8b7c27bd",
   "metadata": {},
   "outputs": [],
   "source": [
    "adata = sc.read('/data_volume/memento/demux/interferon.h5ad')\n",
    "adata.var.index = adata.var.index.map(lambda x: '-'.join(x.split('.')))\n",
    "adata.var.rename(index={'Y_RNA':'Y-RNA'}, inplace=True)\n",
    "adata = adata[seurat_cells,  seurat_genes].copy().copy()\n",
    "adata.obs['q'] = 0.1\n",
    "memento.setup_memento(adata, q_column='q', filter_mean_thresh=0.07,trim_percent=0.05)\n",
    "adata_raw = adata.copy().copy()"
   ]
  },
  {
   "cell_type": "code",
   "execution_count": 107,
   "id": "6cf172c8",
   "metadata": {},
   "outputs": [],
   "source": [
    "memento.create_groups(adata, label_columns=['stim'])\n",
    "memento.compute_1d_moments(adata, filter_genes=True)\n",
    "\n",
    "meta_df = memento.get_groups(adata)\n",
    "meta_df = pd.get_dummies(meta_df, prefix='', prefix_sep='', drop_first=False)\n",
    "\n",
    "treatment = meta_df[['stim']]\n",
    "covariate = pd.DataFrame(np.ones((treatment.shape[0], 1)), columns=['intercept'])\n",
    "# covariate = meta_df.iloc[:, -9:]"
   ]
  },
  {
   "cell_type": "code",
   "execution_count": 109,
   "id": "6aca680c",
   "metadata": {},
   "outputs": [
    {
     "name": "stderr",
     "output_type": "stream",
     "text": [
      "[Parallel(n_jobs=90)]: Using backend LokyBackend with 90 concurrent workers.\n",
      "[Parallel(n_jobs=90)]: Done  20 tasks      | elapsed:    6.3s\n",
      "[Parallel(n_jobs=90)]: Done 270 tasks      | elapsed:   10.9s\n",
      "[Parallel(n_jobs=90)]: Done 620 tasks      | elapsed:   17.4s\n",
      "[Parallel(n_jobs=90)]: Done 1070 tasks      | elapsed:   26.5s\n",
      "[Parallel(n_jobs=90)]: Done 1620 tasks      | elapsed:   37.6s\n",
      "[Parallel(n_jobs=90)]: Done 2032 out of 2032 | elapsed:   56.2s finished\n"
     ]
    }
   ],
   "source": [
    "memento.ht_1d_moments(\n",
    "    adata, \n",
    "    treatment=treatment,\n",
    "    covariate=covariate,\n",
    "    num_boot=50000, \n",
    "    verbose=1,\n",
    "    num_cpus=90,\n",
    "    resampling='bootstrap',\n",
    "    approx=True)"
   ]
  },
  {
   "cell_type": "code",
   "execution_count": 110,
   "id": "632746e1",
   "metadata": {},
   "outputs": [
    {
     "name": "stderr",
     "output_type": "stream",
     "text": [
      "[Parallel(n_jobs=90)]: Using backend LokyBackend with 90 concurrent workers.\n",
      "[Parallel(n_jobs=90)]: Done  20 tasks      | elapsed:    0.6s\n",
      "[Parallel(n_jobs=90)]: Done 270 tasks      | elapsed:    2.6s\n",
      "[Parallel(n_jobs=90)]: Done 620 tasks      | elapsed:    5.5s\n",
      "[Parallel(n_jobs=90)]: Done 1070 tasks      | elapsed:    9.3s\n",
      "[Parallel(n_jobs=90)]: Done 1738 out of 1738 | elapsed:   15.1s finished\n"
     ]
    }
   ],
   "source": [
    "adata_sample_1 = adata.copy().copy()\n",
    "adata_sample_1 = adata_raw[np.random.choice(adata_raw.obs.index, 250, replace=False)].copy().copy()\n",
    "# adata_sample_1 = sc.pp.subsample(adata_sample_1, n_obs=250, copy=True, random_state=None)\n",
    "# memento.setup_memento(adata_sample_1, q_column='q', filter_mean_thresh=0.07,trim_percent=0.05)\n",
    "\n",
    "memento.create_groups(adata_sample_1, label_columns=['stim'])\n",
    "memento.compute_1d_moments(adata_sample_1, filter_genes=True)\n",
    "\n",
    "meta_df = memento.get_groups(adata_sample_1)\n",
    "meta_df = pd.get_dummies(meta_df, prefix='', prefix_sep='', drop_first=False)\n",
    "\n",
    "treatment = meta_df[['stim']]\n",
    "covariate = pd.DataFrame(np.ones((treatment.shape[0], 1)), columns=['intercept'])\n",
    "\n",
    "# covariate = meta_df.iloc[:, -9:]\n",
    "memento.ht_1d_moments(\n",
    "    adata_sample_1, \n",
    "    treatment=treatment,\n",
    "    covariate=covariate,\n",
    "    num_boot=50000, \n",
    "    verbose=1,\n",
    "    num_cpus=90,\n",
    "    resampling='bootstrap',\n",
    "    approx=True)"
   ]
  },
  {
   "cell_type": "code",
   "execution_count": 111,
   "id": "843e52ec",
   "metadata": {},
   "outputs": [
    {
     "name": "stderr",
     "output_type": "stream",
     "text": [
      "[Parallel(n_jobs=14)]: Using backend LokyBackend with 14 concurrent workers.\n",
      "[Parallel(n_jobs=14)]: Done  22 tasks      | elapsed:    3.3s\n",
      "[Parallel(n_jobs=14)]: Done 172 tasks      | elapsed:    9.2s\n",
      "[Parallel(n_jobs=14)]: Done 422 tasks      | elapsed:   17.9s\n",
      "[Parallel(n_jobs=14)]: Done 772 tasks      | elapsed:   30.5s\n",
      "[Parallel(n_jobs=14)]: Done 1222 tasks      | elapsed:   46.5s\n",
      "[Parallel(n_jobs=14)]: Done 1567 out of 1567 | elapsed:   58.8s finished\n"
     ]
    }
   ],
   "source": [
    "adata_sample_2 = adata.copy().copy()\n",
    "adata_sample_2 = sc.pp.subsample(adata_sample_2, n_obs=250, copy=True, random_state=None)\n",
    "memento.setup_memento(adata_sample_2, q_column='q', filter_mean_thresh=0.07,trim_percent=0.05)\n",
    "\n",
    "memento.create_groups(adata_sample_2, label_columns=['stim'])\n",
    "memento.compute_1d_moments(adata_sample_2, filter_genes=True)\n",
    "\n",
    "meta_df = memento.get_groups(adata_sample_2)\n",
    "meta_df = pd.get_dummies(meta_df, prefix='', prefix_sep='', drop_first=False)\n",
    "\n",
    "treatment = meta_df[['stim']]\n",
    "covariate = pd.DataFrame(np.ones((treatment.shape[0], 1)), columns=['intercept'])\n",
    "\n",
    "# covariate = meta_df.iloc[:, -9:]\n",
    "memento.ht_1d_moments(\n",
    "    adata_sample_2, \n",
    "    treatment=treatment,\n",
    "    covariate=covariate,\n",
    "    num_boot=50000, \n",
    "    verbose=1,\n",
    "    num_cpus=14,\n",
    "    resampling='bootstrap',\n",
    "    approx=True)"
   ]
  },
  {
   "cell_type": "code",
   "execution_count": 112,
   "id": "29dfbada",
   "metadata": {},
   "outputs": [],
   "source": [
    "adata.obs.to_csv(data_path + 'memento/meta_full.csv')\n",
    "adata_sample_1.obs.to_csv(data_path + 'memento/meta_equal_rep_1.csv')\n",
    "adata_sample_2.obs.to_csv(data_path + 'memento/meta_equal_rep_2.csv')"
   ]
  },
  {
   "cell_type": "code",
   "execution_count": 113,
   "id": "8873cefa",
   "metadata": {},
   "outputs": [
    {
     "name": "stderr",
     "output_type": "stream",
     "text": [
      "... storing 'ind' as categorical\n",
      "... storing 'stim' as categorical\n",
      "... storing 'cluster' as categorical\n",
      "... storing 'cell' as categorical\n",
      "... storing 'multiplets' as categorical\n",
      "... storing 'memento_group' as categorical\n",
      "... storing 'ind' as categorical\n",
      "... storing 'stim' as categorical\n",
      "... storing 'cluster' as categorical\n",
      "... storing 'cell' as categorical\n",
      "... storing 'multiplets' as categorical\n",
      "... storing 'memento_group' as categorical\n",
      "... storing 'ind' as categorical\n",
      "... storing 'stim' as categorical\n",
      "... storing 'cluster' as categorical\n",
      "... storing 'cell' as categorical\n",
      "... storing 'multiplets' as categorical\n",
      "... storing 'memento_group' as categorical\n"
     ]
    }
   ],
   "source": [
    "adata.write('/data_volume/memento/method_comparison/basics/full.h5ad')\n",
    "adata_sample_1.write('/data_volume/memento/method_comparison/basics/partial_1.h5ad')\n",
    "adata_sample_2.write('/data_volume/memento/method_comparison/basics/partial_2.h5ad')\n"
   ]
  },
  {
   "cell_type": "code",
   "execution_count": 114,
   "id": "9e113a5f",
   "metadata": {},
   "outputs": [],
   "source": [
    "ht = memento.get_1d_ht_result(adata)\n",
    "ht1 = memento.get_1d_ht_result(adata_sample_1)\n",
    "ht2 = memento.get_1d_ht_result(adata_sample_2)"
   ]
  },
  {
   "cell_type": "code",
   "execution_count": 115,
   "id": "9e980680",
   "metadata": {},
   "outputs": [],
   "source": [
    "ht.to_csv(data_path + 'memento/memento_full.csv', index=False)\n",
    "ht1.to_csv(data_path + 'memento/memento_equal_rep_1.csv', index=False)\n",
    "ht2.to_csv(data_path + 'memento/memento_equal_rep_2.csv', index=False)"
   ]
  },
  {
   "cell_type": "markdown",
   "id": "b93ef3b3",
   "metadata": {},
   "source": [
    "### Read the memento results"
   ]
  },
  {
   "cell_type": "code",
   "execution_count": 116,
   "id": "f9670d6a",
   "metadata": {},
   "outputs": [],
   "source": [
    "adata_sample_1 = sc.read('/data_volume/memento/method_comparison/basics/partial_1.h5ad')\n",
    "adata = sc.read('/data_volume/memento/method_comparison/basics/full.h5ad')"
   ]
  },
  {
   "cell_type": "markdown",
   "id": "b85373b5",
   "metadata": {},
   "source": [
    "### Run (in other notebook) and read MAST results"
   ]
  },
  {
   "cell_type": "code",
   "execution_count": 117,
   "id": "eec122e2",
   "metadata": {},
   "outputs": [],
   "source": [
    "df1 = pd.read_csv(data_path + 'mast/MAST_equal_rep_1.csv', index_col=0)\n",
    "df2 = pd.read_csv(data_path + 'mast/MAST_equal_rep_2.csv', index_col=0)"
   ]
  },
  {
   "cell_type": "markdown",
   "id": "54532930",
   "metadata": {},
   "source": [
    "### Comparing to the full dataset - mean"
   ]
  },
  {
   "cell_type": "code",
   "execution_count": 118,
   "id": "4afc4000",
   "metadata": {},
   "outputs": [],
   "source": [
    "full_df = pd.read_csv(data_path + 'mast/MAST_full_demux.csv', index_col=0)\n",
    "full_df.columns =  ['gene', 'pval', 'coef', 'ci_hi', 'ci_io', 'fdr']"
   ]
  },
  {
   "cell_type": "code",
   "execution_count": 119,
   "id": "d438d7eb",
   "metadata": {},
   "outputs": [],
   "source": [
    "overlap_genes = list(set(adata.var.index) & set(adata_sample_1.var.index))"
   ]
  },
  {
   "cell_type": "code",
   "execution_count": 120,
   "id": "cd391eef",
   "metadata": {},
   "outputs": [
    {
     "name": "stderr",
     "output_type": "stream",
     "text": [
      "/home/ssm-user/anaconda3/envs/single_cell/lib/python3.8/site-packages/anndata/_core/anndata.py:1095: FutureWarning: The `inplace` parameter in pandas.Categorical.remove_unused_categories is deprecated and will be removed in a future version.\n",
      "  df_sub[k].cat.remove_unused_categories(inplace=True)\n",
      "/home/ssm-user/anaconda3/envs/single_cell/lib/python3.8/site-packages/anndata/_core/anndata.py:1095: FutureWarning: The `inplace` parameter in pandas.Categorical.remove_unused_categories is deprecated and will be removed in a future version.\n",
      "  df_sub[k].cat.remove_unused_categories(inplace=True)\n"
     ]
    }
   ],
   "source": [
    "ctrl_data = adata[adata.obs['stim'] == 'ctrl', overlap_genes].X.toarray()\n",
    "stim_data = adata[adata.obs['stim'] == 'stim',  overlap_genes].X.toarray()\n",
    "\n",
    "ctrl_data /= ctrl_data.sum(axis=1).reshape(-1,1)\n",
    "stim_data /= stim_data.sum(axis=1).reshape(-1,1)"
   ]
  },
  {
   "cell_type": "code",
   "execution_count": 121,
   "id": "cad0ee2b",
   "metadata": {},
   "outputs": [],
   "source": [
    "_, ttest_pv_full = stats.ttest_ind(ctrl_data, stim_data)\n",
    "mwu_pv_full = np.array([stats.ranksums(ctrl_data[:, i], stim_data[:,i])[1] for i in range(ctrl_data.shape[1])])"
   ]
  },
  {
   "cell_type": "code",
   "execution_count": 122,
   "id": "5df9e484",
   "metadata": {},
   "outputs": [
    {
     "name": "stderr",
     "output_type": "stream",
     "text": [
      "/home/ssm-user/anaconda3/envs/single_cell/lib/python3.8/site-packages/anndata/_core/anndata.py:1095: FutureWarning: The `inplace` parameter in pandas.Categorical.remove_unused_categories is deprecated and will be removed in a future version.\n",
      "  df_sub[k].cat.remove_unused_categories(inplace=True)\n",
      "/home/ssm-user/anaconda3/envs/single_cell/lib/python3.8/site-packages/anndata/_core/anndata.py:1095: FutureWarning: The `inplace` parameter in pandas.Categorical.remove_unused_categories is deprecated and will be removed in a future version.\n",
      "  df_sub[k].cat.remove_unused_categories(inplace=True)\n"
     ]
    }
   ],
   "source": [
    "sample_ctrl_data = adata_sample_1[adata_sample_1.obs['stim'] == 'ctrl', overlap_genes].X.toarray()\n",
    "sample_stim_data = adata_sample_1[adata_sample_1.obs['stim'] == 'stim', overlap_genes].X.toarray()\n",
    "\n",
    "sample_ctrl_data /= sample_ctrl_data.sum(axis=1).reshape(-1,1)\n",
    "sample_stim_data /= sample_stim_data.sum(axis=1).reshape(-1,1)"
   ]
  },
  {
   "cell_type": "code",
   "execution_count": 123,
   "id": "198baee3",
   "metadata": {},
   "outputs": [],
   "source": [
    "_, ttest_pv_sample = stats.ttest_ind(sample_ctrl_data, sample_stim_data)\n",
    "mwu_pv_sample = np.array([stats.ranksums(sample_ctrl_data[:, i], sample_stim_data[:,i])[1] for i in range(sample_ctrl_data.shape[1])])"
   ]
  },
  {
   "cell_type": "code",
   "execution_count": 124,
   "id": "6a96b611",
   "metadata": {},
   "outputs": [],
   "source": [
    "memento_ht_partial = pd.read_csv(data_path + 'memento/memento_equal_rep_{}.csv'.format(1), index_col=0)\n",
    "memento_ht_full = pd.read_csv(data_path + 'memento/memento_full.csv'.format(1), index_col=0)"
   ]
  },
  {
   "cell_type": "code",
   "execution_count": 125,
   "id": "5cca4ce3",
   "metadata": {},
   "outputs": [],
   "source": [
    "mast_ht_partial = pd.read_csv(data_path + 'mast/MAST_equal_rep_{}.csv'.format(1), index_col=0)\n",
    "mast_ht_full = pd.read_csv(data_path + 'mast/MAST_full_demux.csv', index_col=0)"
   ]
  },
  {
   "cell_type": "code",
   "execution_count": 126,
   "id": "656f8467",
   "metadata": {},
   "outputs": [],
   "source": [
    "memento_joined = memento_ht_partial.merge(memento_ht_full, on='gene', suffixes=('_partial', '_full'))\n",
    "mast_joined = mast_ht_partial.merge(mast_ht_full, on='primerid', suffixes=('_partial', '_full'))"
   ]
  },
  {
   "cell_type": "code",
   "execution_count": 127,
   "id": "126fa671",
   "metadata": {},
   "outputs": [
    {
     "data": {
      "image/png": "[encoded data removed]",
      "text/plain": [
       "<Figure size 252x144 with 1 Axes>"
      ]
     },
     "metadata": {
      "needs_background": "light"
     },
     "output_type": "display_data"
    }
   ],
   "source": [
    "plt.figure(figsize=(3.5,2))\n",
    "cutoff = 0.01\n",
    "\n",
    "sig = (mast_joined['Pr(>Chisq)_full'] < cutoff).astype(int)\n",
    "scores = 1-(mast_joined['Pr(>Chisq)_partial'])\n",
    "fpr, tpr, _ = roc_curve(sig, scores)\n",
    "plt.plot(fpr, tpr, label='MAST')\n",
    "\n",
    "sig = (memento_joined['de_pval_full'] < cutoff).astype(int)\n",
    "scores = 1-(memento_joined['de_pval_partial'])\n",
    "fpr, tpr, _ = roc_curve(sig, scores)\n",
    "plt.plot(fpr, tpr, label='memento')\n",
    "\n",
    "sig = (ttest_pv_full < cutoff).astype(int)\n",
    "# scores = np.random.random(size=len(sig))\n",
    "scores = 1-ttest_pv_sample\n",
    "fpr, tpr, _ = roc_curve(sig, scores)\n",
    "plt.plot(fpr, tpr, label='t-test')\n",
    "\n",
    "sig = (mwu_pv_full < cutoff).astype(int)\n",
    "scores = 1-mwu_pv_sample\n",
    "fpr, tpr, _ = roc_curve(sig, scores)\n",
    "plt.plot(fpr, tpr, label='MWU')\n",
    "\n",
    "plt.legend(frameon=False)\n",
    "\n",
    "plt.title('Recovering DE genes with subset of data')\n",
    "plt.xlabel('FPR'); plt.ylabel('TPR')\n",
    "plt.savefig('de_recovery.pdf', bbox_inches='tight')"
   ]
  },
  {
   "cell_type": "code",
   "execution_count": null,
   "id": "7d185ac6",
   "metadata": {},
   "outputs": [],
   "source": []
  },
  {
   "cell_type": "code",
   "execution_count": null,
   "id": "0f33b835",
   "metadata": {},
   "outputs": [],
   "source": []
  }
 ],
 "metadata": {
  "kernelspec": {
   "display_name": "Python 3 (ipykernel)",
   "language": "python",
   "name": "python3"
  },
  "language_info": {
   "codemirror_mode": {
    "name": "ipython",
    "version": 3
   },
   "file_extension": ".py",
   "mimetype": "text/x-python",
   "name": "python",
   "nbconvert_exporter": "python",
   "pygments_lexer": "ipython3",
   "version": "3.8.8"
  }
 },
 "nbformat": 4,
 "nbformat_minor": 5
}
