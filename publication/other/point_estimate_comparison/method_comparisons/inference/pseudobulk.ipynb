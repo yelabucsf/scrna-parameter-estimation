{
 "cells": [
  {
   "cell_type": "code",
   "execution_count": 13,
   "id": "9b386893",
   "metadata": {},
   "outputs": [
    {
     "name": "stderr",
     "output_type": "stream",
     "text": [
      "Loading required package: limma\n",
      "\n"
     ]
    }
   ],
   "source": [
    "library(edgeR)"
   ]
  },
  {
   "cell_type": "markdown",
   "id": "41765d74",
   "metadata": {},
   "source": [
    "### Repeated"
   ]
  },
  {
   "cell_type": "code",
   "execution_count": 54,
   "id": "3c0d7f7f-19c3-4d1e-aedf-903bbd191653",
   "metadata": {},
   "outputs": [],
   "source": [
    "num_groups_per_condition <- 4"
   ]
  },
  {
   "cell_type": "code",
   "execution_count": 55,
   "id": "d7236385",
   "metadata": {},
   "outputs": [],
   "source": [
    "data = read.table('/data_volume/memento/simulation/inference/means/pseudobulks_0.csv', sep=',', header=1, row.names=1)\n",
    "groups <- c( rep('ctrl', num_groups_per_condition), rep('stim', num_groups_per_condition))\n",
    "names <- stringi::stri_rand_strings(num_groups_per_condition, 10)\n",
    "replicates <- c(names, names)"
   ]
  },
  {
   "cell_type": "code",
   "execution_count": 56,
   "id": "cb62da98",
   "metadata": {},
   "outputs": [],
   "source": [
    "y <- DGEList(counts=data,group=groups)\n",
    "keep <- filterByExpr(y,min.count=1)\n",
    "y <- y[keep,,keep.lib.sizes=FALSE]\n",
    "y <- calcNormFactors(y)\n",
    "design <- model.matrix(~groups + replicates)\n",
    "y <- estimateDisp(y,design)"
   ]
  },
  {
   "cell_type": "code",
   "execution_count": 57,
   "id": "377c1874",
   "metadata": {},
   "outputs": [],
   "source": [
    "fit <- glmFit(y,design)\n",
    "lrt <- glmLRT(fit,coef=2)"
   ]
  },
  {
   "cell_type": "code",
   "execution_count": 58,
   "id": "b10fbe26",
   "metadata": {},
   "outputs": [],
   "source": [
    "write.csv(topTags(lrt, n=Inf), '/data_volume/memento/simulation/inference/means/edger_0.csv',)\n",
    "\n",
    "dispersion_df = data.frame(gene=rownames(y), dispersion=y$tagwise.dispersion)\n",
    "\n",
    "write.csv(dispersion_df, '/data_volume/memento/simulation/inference/means/dispersions_0.csv')"
   ]
  },
  {
   "cell_type": "markdown",
   "id": "04a3813c",
   "metadata": {},
   "source": [
    "### Repeated"
   ]
  },
  {
   "cell_type": "code",
   "execution_count": 7,
   "id": "f53b9884",
   "metadata": {},
   "outputs": [],
   "source": [
    "for (trial in seq(0,99)){\n",
    "\n",
    "    data = read.table(sprintf('/data_volume/memento/simulation/inference/means/repeated/pseudobulks_%s.csv', trial), sep=',', header=1, row.names='Symbols')\n",
    "    groups <- c(rep('ctrl', 2), rep('stim', 2))\n",
    "\n",
    "    y <- DGEList(counts=data,group=groups)\n",
    "    keep <- filterByExpr(y,min.count=1)\n",
    "    y <- y[keep,,keep.lib.sizes=FALSE]\n",
    "    y <- calcNormFactors(y)\n",
    "    design <- model.matrix(~groups)\n",
    "    y <- estimateDisp(y,design)\n",
    "\n",
    "    fit <- glmFit(y,design)\n",
    "    lrt <- glmLRT(fit,coef=2)\n",
    "\n",
    "    write.csv(topTags(lrt, n=Inf), sprintf('/data_volume/memento/simulation/inference/means/repeated/edger_%s.csv', trial),)\n",
    "    }"
   ]
  },
  {
   "cell_type": "code",
   "execution_count": 61,
   "id": "be8e4cd6",
   "metadata": {},
   "outputs": [],
   "source": []
  },
  {
   "cell_type": "code",
   "execution_count": 62,
   "id": "607cd30a",
   "metadata": {},
   "outputs": [],
   "source": []
  },
  {
   "cell_type": "code",
   "execution_count": 63,
   "id": "f44bbaa6",
   "metadata": {},
   "outputs": [],
   "source": []
  },
  {
   "cell_type": "code",
   "execution_count": null,
   "id": "aa8de16c",
   "metadata": {},
   "outputs": [],
   "source": []
  }
 ],
 "metadata": {
  "kernelspec": {
   "display_name": "R",
   "language": "R",
   "name": "ir"
  },
  "language_info": {
   "codemirror_mode": "r",
   "file_extension": ".r",
   "mimetype": "text/x-r-source",
   "name": "R",
   "pygments_lexer": "r",
   "version": "4.3.1"
  }
 },
 "nbformat": 4,
 "nbformat_minor": 5
}
