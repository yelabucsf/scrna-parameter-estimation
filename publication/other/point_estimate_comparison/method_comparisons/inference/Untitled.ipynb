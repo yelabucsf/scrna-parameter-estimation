{
 "cells": [
  {
   "cell_type": "code",
   "execution_count": 102,
   "id": "e8b080c1-7df6-459d-810c-5b18b86b531f",
   "metadata": {},
   "outputs": [],
   "source": [
    "import matplotlib.pyplot as plt\n",
    "import scipy.stats as stats\n",
    "import seaborn as sns"
   ]
  },
  {
   "cell_type": "code",
   "execution_count": 95,
   "id": "c18b7a57-d911-4608-94c1-751660259ac5",
   "metadata": {},
   "outputs": [
    {
     "data": {
      "text/plain": [
       "0.935147888638073"
      ]
     },
     "execution_count": 95,
     "metadata": {},
     "output_type": "execute_result"
    }
   ],
   "source": [
    "\n",
    "heights1 = stats.norm.rvs(loc=1, scale=2, size=100)\n",
    "heights2 = stats.norm.rvs(loc=0.1, scale=2, size=100)\n",
    "\n",
    "heights1.mean() - heights2.mean()"
   ]
  },
  {
   "cell_type": "code",
   "execution_count": null,
   "id": "7a3daabe-314f-47e2-855c-63295eff284d",
   "metadata": {},
   "outputs": [],
   "source": []
  },
  {
   "cell_type": "code",
   "execution_count": null,
   "id": "bfad4070-0707-4116-9ae8-6d5f628b688a",
   "metadata": {},
   "outputs": [],
   "source": []
  },
  {
   "cell_type": "code",
   "execution_count": 96,
   "id": "057d99f2-184f-4f6e-918b-f85507e0fb64",
   "metadata": {},
   "outputs": [
    {
     "data": {
      "text/plain": [
       "0.9454279029337878"
      ]
     },
     "execution_count": 96,
     "metadata": {},
     "output_type": "execute_result"
    }
   ],
   "source": [
    "heights1.mean()"
   ]
  },
  {
   "cell_type": "code",
   "execution_count": 97,
   "id": "cddd0ae9-398b-40d1-a940-56af1e914016",
   "metadata": {},
   "outputs": [
    {
     "data": {
      "text/plain": [
       "2.1312428165054995"
      ]
     },
     "execution_count": 97,
     "metadata": {},
     "output_type": "execute_result"
    }
   ],
   "source": [
    "heights1.std()"
   ]
  },
  {
   "cell_type": "code",
   "execution_count": 98,
   "id": "f830e643-6a11-4be5-b378-e62a6d09b764",
   "metadata": {},
   "outputs": [],
   "source": [
    "simulated_height1 = stats.norm.rvs(loc=heights1.mean(), scale=heights1.std(), size=1000)"
   ]
  },
  {
   "cell_type": "code",
   "execution_count": 99,
   "id": "c8ff4168-b0a0-456a-a48c-d31c9d348012",
   "metadata": {},
   "outputs": [],
   "source": [
    "simulated_height1 = stats.poisson.rvs(mu=heights1.mean(), size=1000)"
   ]
  },
  {
   "cell_type": "code",
   "execution_count": 104,
   "id": "dfa1cce2-f067-4490-ad48-3557734a3743",
   "metadata": {},
   "outputs": [
    {
     "data": {
      "text/plain": [
       "<Axes: ylabel='Density'>"
      ]
     },
     "execution_count": 104,
     "metadata": {},
     "output_type": "execute_result"
    },
    {
     "data": {
      "image/png": "[encoded data removed]",
      "text/plain": [
       "<Figure size 640x480 with 1 Axes>"
      ]
     },
     "metadata": {},
     "output_type": "display_data"
    }
   ],
   "source": [
    "plt.hist(stats.poisson.rvs(mu=heights1.mean(), size=1000), density=True)\n",
    "sns.kdeplot(stats.norm.rvs(loc=heights1.mean(),scale= heights1.std(),size=1000))"
   ]
  },
  {
   "cell_type": "code",
   "execution_count": null,
   "id": "152667ed-ece5-4f6f-b3df-b75375d533b9",
   "metadata": {},
   "outputs": [
    {
     "data": {
      "text/plain": [
       "array([3, 0, 1, 2, 1])"
      ]
     },
     "execution_count": 106,
     "metadata": {},
     "output_type": "execute_result"
    }
   ],
   "source": [
    "stats.poisson.rvs(mu=1, size=5)"
   ]
  },
  {
   "cell_type": "code",
   "execution_count": null,
   "id": "76622eff-f4ff-462b-8033-1c42abee4efc",
   "metadata": {},
   "outputs": [
    {
     "data": {
      "text/plain": [
       "array([0.00552144, 1.31791875, 0.33967746, 1.02832214, 0.47425605])"
      ]
     },
     "execution_count": 107,
     "metadata": {},
     "output_type": "execute_result"
    }
   ],
   "source": [
    "stats.norm.rvs(loc=1, size=5)"
   ]
  },
  {
   "cell_type": "code",
   "execution_count": null,
   "id": "adbe914e-1d14-4946-a9ca-608a597be5fe",
   "metadata": {},
   "outputs": [],
   "source": []
  }
 ],
 "metadata": {
  "kernelspec": {
   "display_name": "Python 3 (ipykernel)",
   "language": "python",
   "name": "python3"
  },
  "language_info": {
   "codemirror_mode": {
    "name": "ipython",
    "version": 3
   },
   "file_extension": ".py",
   "mimetype": "text/x-python",
   "name": "python",
   "nbconvert_exporter": "python",
   "pygments_lexer": "ipython3",
   "version": "3.10.9"
  }
 },
 "nbformat": 4,
 "nbformat_minor": 5
}
