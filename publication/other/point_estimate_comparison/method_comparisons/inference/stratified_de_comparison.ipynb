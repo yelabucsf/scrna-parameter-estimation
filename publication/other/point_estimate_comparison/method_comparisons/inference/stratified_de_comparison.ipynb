{
 "cells": [
  {
   "cell_type": "markdown",
   "id": "e6adf8f4",
   "metadata": {},
   "source": [
    "# Method comparisons for inference"
   ]
  },
  {
   "cell_type": "code",
   "execution_count": 1,
   "id": "c54d89be",
   "metadata": {},
   "outputs": [
    {
     "name": "stderr",
     "output_type": "stream",
     "text": [
      "/tmp/ipykernel_338448/771300325.py:12: DeprecationWarning: the imp module is deprecated in favour of importlib and slated for removal in Python 3.12; see the module's documentation for alternative uses\n",
      "  import imp\n"
     ]
    }
   ],
   "source": [
    "import pandas as pd\n",
    "import matplotlib.pyplot as plt\n",
    "import scanpy as sc\n",
    "import scipy as sp\n",
    "import itertools\n",
    "import numpy as np\n",
    "import scipy.stats as stats\n",
    "from scipy.integrate import dblquad\n",
    "import seaborn as sns\n",
    "from statsmodels.stats.multitest import fdrcorrection\n",
    "import statsmodels.api as sm\n",
    "import imp\n",
    "pd.options.display.max_rows = 999\n",
    "pd.set_option('display.max_colwidth', 200)\n",
    "pd.set_option('display.max_columns', 100)\n",
    "\n",
    "import pickle as pkl\n",
    "import time\n",
    "import string\n",
    "from sklearn.datasets import make_spd_matrix\n",
    "from sklearn.metrics import roc_curve, precision_recall_curve\n",
    "from sklearn.linear_model import LinearRegression"
   ]
  },
  {
   "cell_type": "code",
   "execution_count": 2,
   "id": "435dd301",
   "metadata": {},
   "outputs": [],
   "source": [
    "import matplotlib as mpl\n",
    "mpl.rcParams['pdf.fonttype'] = 42\n",
    "mpl.rcParams['ps.fonttype'] = 42\n",
    "plt.rcParams[\"axes.prop_cycle\"] = plt.cycler(\"color\", ['turquoise', 'slategrey', 'silver', 'yellow'])\n",
    "\n",
    "import matplotlib.pylab as pylab\n",
    "params = {'legend.fontsize': 'x-small',\n",
    "         'axes.labelsize': 'medium',\n",
    "         'axes.titlesize':'medium',\n",
    "         'figure.titlesize':'medium',\n",
    "         'xtick.labelsize':'small',\n",
    "         'ytick.labelsize':'small'}\n",
    "pylab.rcParams.update(params)\n"
   ]
  },
  {
   "cell_type": "code",
   "execution_count": 3,
   "id": "1efec1b8",
   "metadata": {},
   "outputs": [],
   "source": [
    "import sys\n",
    "sys.path.append('/home/ssm-user/Github/scrna-parameter-estimation/dist/memento-0.1.0-py3.10.egg')\n",
    "import memento\n",
    "import memento.simulate as simulate"
   ]
  },
  {
   "cell_type": "code",
   "execution_count": 4,
   "id": "9d944f99",
   "metadata": {},
   "outputs": [],
   "source": [
    "import matplotlib\n",
    "matplotlib.rcParams['legend.handlelength'] = 0"
   ]
  },
  {
   "cell_type": "code",
   "execution_count": 5,
   "id": "9ee7c381",
   "metadata": {},
   "outputs": [],
   "source": [
    "data_path = '/data_volume/memento/simulation/inference/'"
   ]
  },
  {
   "cell_type": "markdown",
   "id": "d91e9caa",
   "metadata": {},
   "source": [
    "### Compare true vs sampled data for ttest"
   ]
  },
  {
   "cell_type": "code",
   "execution_count": 6,
   "id": "505fa77b",
   "metadata": {},
   "outputs": [],
   "source": [
    "def compute_moments(count_data):\n",
    "    \n",
    "    captured_cell_sizes = count_data.sum(axis=1)\n",
    "    num_cells = count_data.shape[0]\n",
    "    \n",
    "    relative_data = count_data/captured_cell_sizes.reshape(-1,1)\n",
    "    m_hat = relative_data.mean(axis=0)\n",
    "    naive_var_hat = relative_data.var(axis=0)\n",
    "    memento_var_hat = naive_var_hat-(1-q)*(count_data/(captured_cell_sizes**2-captured_cell_sizes*(1-q)).reshape(-1,1)).mean(axis=0)\n",
    "\n",
    "    naive_se = np.sqrt(naive_var_hat/num_cells)\n",
    "    memento_se = np.sqrt(memento_var_hat/num_cells)\n",
    "        \n",
    "    return m_hat.reshape(-1), memento_var_hat.reshape(-1), naive_var_hat.reshape(-1)\n",
    "\n",
    "def compute_params(data1, data2):\n",
    "    \n",
    "    m1, v1, nv1 = compute_moments(data1)\n",
    "    m2, v2, nv2 = compute_moments(data2)\n",
    "\n",
    "    log_m1 = np.log(m1)\n",
    "    log_m2 = np.log(m2)\n",
    "    log_fc = (log_m2-log_m1)\n",
    "    se_1 = np.sqrt(v1/data1.shape[0])\n",
    "    se_2 = np.sqrt(v2/data2.shape[0])\n",
    "    log_se_1 = ((np.log(m1 + se_1) - np.log(m1 - se_1))/2)\n",
    "    log_se_2 = ((np.log(m2 + se_2) - np.log(m2 - se_2))/2)\n",
    "    log_fc_se = np.sqrt(log_se_1**2 + log_se_2**2)\n",
    "    \n",
    "#     wald_stat = log_fc/log_fc_se\n",
    "    \n",
    "    return log_fc, log_fc_se\n",
    "\n",
    "def bootstrap_wald_test(data1, data2):\n",
    "    \n",
    "    lfc, lfc_se = compute_params(data1, data2)\n",
    "    \n",
    "    num_boot = 1000\n",
    "    statistics = []\n",
    "    for trial in range(num_boot):\n",
    "        random_idx_1 = np.random.choice(data1.shape[0], data1.shape[0], replace=True)\n",
    "        random_idx_2 = np.random.choice(data2.shape[0], data2.shape[0], replace=True)\n",
    "        \n",
    "        lfc_b, lfc_se_b = compute_params(data1[random_idx_1], data2[random_idx_2])\n",
    "        statistics.append((lfc_b-lfc)/lfc_se_b)\n",
    "    \n",
    "    bootstrap_t_dist = np.vstack(statistics)\n",
    "    \n",
    "    ci_95 = lfc-np.quantile(bootstrap_t_dist, [0.025, 0.975])*lfc_se\n",
    "    \n",
    "    lfc_null = bootstrap_t_dist * lfc_se\n",
    "    \n",
    "    return ci_95"
   ]
  },
  {
   "cell_type": "code",
   "execution_count": 112,
   "id": "c42318b6-6d23-4d9b-a8d4-2ec2d9e03d4a",
   "metadata": {},
   "outputs": [
    {
     "ename": "SyntaxError",
     "evalue": "incomplete input (2795113497.py, line 1)",
     "output_type": "error",
     "traceback": [
      "\u001b[0;36m  Cell \u001b[0;32mIn[112], line 1\u001b[0;36m\u001b[0m\n\u001b[0;31m    sm.Poisson(offset\u001b[0m\n\u001b[0m                     ^\u001b[0m\n\u001b[0;31mSyntaxError\u001b[0m\u001b[0;31m:\u001b[0m incomplete input\n"
     ]
    }
   ],
   "source": [
    "sm.Poisson("
   ]
  },
  {
   "cell_type": "code",
   "execution_count": null,
   "id": "c90cd6ec-b979-4445-9163-afa083c24bdf",
   "metadata": {},
   "outputs": [],
   "source": []
  },
  {
   "cell_type": "code",
   "execution_count": null,
   "id": "ac348968-e88c-4074-a871-0b29a97e42c0",
   "metadata": {},
   "outputs": [],
   "source": []
  },
  {
   "cell_type": "code",
   "execution_count": 64,
   "id": "1171738f-74e5-4458-b100-c2136e6372d5",
   "metadata": {},
   "outputs": [
    {
     "data": {
      "text/plain": [
       "4"
      ]
     },
     "execution_count": 64,
     "metadata": {},
     "output_type": "execute_result"
    }
   ],
   "source": [
    "np.linalg.matrix_rank(X)"
   ]
  },
  {
   "cell_type": "code",
   "execution_count": 65,
   "id": "2645d931-64d7-4861-9830-c2f9ce62a6af",
   "metadata": {},
   "outputs": [
    {
     "name": "stdout",
     "output_type": "stream",
     "text": [
      "Optimization terminated successfully.\n",
      "         Current function value: 1.531848\n",
      "         Iterations 5\n"
     ]
    },
    {
     "data": {
      "text/html": [
       "<table class=\"simpletable\">\n",
       "<caption>Poisson Regression Results</caption>\n",
       "<tr>\n",
       "  <th>Dep. Variable:</th>           <td>y</td>        <th>  No. Observations:  </th>  <td>     4</td> \n",
       "</tr>\n",
       "<tr>\n",
       "  <th>Model:</th>                <td>Poisson</td>     <th>  Df Residuals:      </th>  <td>     0</td> \n",
       "</tr>\n",
       "<tr>\n",
       "  <th>Method:</th>                 <td>MLE</td>       <th>  Df Model:          </th>  <td>     3</td> \n",
       "</tr>\n",
       "<tr>\n",
       "  <th>Date:</th>            <td>Thu, 20 Jul 2023</td> <th>  Pseudo R-squ.:     </th>  <td>0.1626</td> \n",
       "</tr>\n",
       "<tr>\n",
       "  <th>Time:</th>                <td>13:57:42</td>     <th>  Log-Likelihood:    </th> <td> -6.1274</td>\n",
       "</tr>\n",
       "<tr>\n",
       "  <th>converged:</th>             <td>True</td>       <th>  LL-Null:           </th> <td> -7.3172</td>\n",
       "</tr>\n",
       "<tr>\n",
       "  <th>Covariance Type:</th>     <td>nonrobust</td>    <th>  LLR p-value:       </th>  <td>0.4974</td> \n",
       "</tr>\n",
       "</table>\n",
       "<table class=\"simpletable\">\n",
       "<tr>\n",
       "    <td></td>       <th>coef</th>     <th>std err</th>      <th>z</th>      <th>P>|z|</th>  <th>[0.025</th>    <th>0.975]</th>  \n",
       "</tr>\n",
       "<tr>\n",
       "  <th>const</th> <td>    0.6931</td> <td>    0.707</td> <td>    0.980</td> <td> 0.327</td> <td>   -0.693</td> <td>    2.079</td>\n",
       "</tr>\n",
       "<tr>\n",
       "  <th>x1</th>    <td>    0.4055</td> <td>    0.913</td> <td>    0.444</td> <td> 0.657</td> <td>   -1.384</td> <td>    2.195</td>\n",
       "</tr>\n",
       "<tr>\n",
       "  <th>x2</th>    <td>    0.4055</td> <td>    0.913</td> <td>    0.444</td> <td> 0.657</td> <td>   -1.384</td> <td>    2.195</td>\n",
       "</tr>\n",
       "<tr>\n",
       "  <th>x3</th>    <td>    0.2877</td> <td>    1.155</td> <td>    0.249</td> <td> 0.803</td> <td>   -1.975</td> <td>    2.551</td>\n",
       "</tr>\n",
       "</table>"
      ],
      "text/plain": [
       "<class 'statsmodels.iolib.summary.Summary'>\n",
       "\"\"\"\n",
       "                          Poisson Regression Results                          \n",
       "==============================================================================\n",
       "Dep. Variable:                      y   No. Observations:                    4\n",
       "Model:                        Poisson   Df Residuals:                        0\n",
       "Method:                           MLE   Df Model:                            3\n",
       "Date:                Thu, 20 Jul 2023   Pseudo R-squ.:                  0.1626\n",
       "Time:                        13:57:42   Log-Likelihood:                -6.1274\n",
       "converged:                       True   LL-Null:                       -7.3172\n",
       "Covariance Type:            nonrobust   LLR p-value:                    0.4974\n",
       "==============================================================================\n",
       "                 coef    std err          z      P>|z|      [0.025      0.975]\n",
       "------------------------------------------------------------------------------\n",
       "const          0.6931      0.707      0.980      0.327      -0.693       2.079\n",
       "x1             0.4055      0.913      0.444      0.657      -1.384       2.195\n",
       "x2             0.4055      0.913      0.444      0.657      -1.384       2.195\n",
       "x3             0.2877      1.155      0.249      0.803      -1.975       2.551\n",
       "==============================================================================\n",
       "\"\"\""
      ]
     },
     "execution_count": 65,
     "metadata": {},
     "output_type": "execute_result"
    }
   ],
   "source": []
  },
  {
   "cell_type": "code",
   "execution_count": 62,
   "id": "00b1437e-38dc-4b9a-abd9-9bf2c0a5c7a1",
   "metadata": {},
   "outputs": [
    {
     "name": "stderr",
     "output_type": "stream",
     "text": [
      "/tmp/ipykernel_338448/230057406.py:1: RuntimeWarning: divide by zero encountered in log\n",
      "  model2 = sm.OLS(np.log(y), X).fit()\n",
      "/home/ssm-user/anaconda3/envs/single_cell/lib/python3.10/site-packages/statsmodels/stats/stattools.py:74: ValueWarning: omni_normtest is not valid with less than 8 observations; 4 samples were given.\n",
      "  warn(\"omni_normtest is not valid with less than 8 observations; %i \"\n",
      "/home/ssm-user/anaconda3/envs/single_cell/lib/python3.10/site-packages/statsmodels/regression/linear_model.py:1703: RuntimeWarning: invalid value encountered in subtract\n",
      "  return np.sum(weights * (model.endog - mean)**2)\n",
      "/home/ssm-user/anaconda3/envs/single_cell/lib/python3.10/site-packages/statsmodels/regression/linear_model.py:1765: RuntimeWarning: divide by zero encountered in divide\n",
      "  return 1 - (np.divide(self.nobs - self.k_constant, self.df_resid)\n"
     ]
    },
    {
     "data": {
      "text/html": [
       "<table class=\"simpletable\">\n",
       "<caption>OLS Regression Results</caption>\n",
       "<tr>\n",
       "  <th>Dep. Variable:</th>            <td>y</td>        <th>  R-squared:         </th> <td>     nan</td>\n",
       "</tr>\n",
       "<tr>\n",
       "  <th>Model:</th>                   <td>OLS</td>       <th>  Adj. R-squared:    </th> <td>     nan</td>\n",
       "</tr>\n",
       "<tr>\n",
       "  <th>Method:</th>             <td>Least Squares</td>  <th>  F-statistic:       </th> <td>     nan</td>\n",
       "</tr>\n",
       "<tr>\n",
       "  <th>Date:</th>             <td>Thu, 20 Jul 2023</td> <th>  Prob (F-statistic):</th>  <td>   nan</td> \n",
       "</tr>\n",
       "<tr>\n",
       "  <th>Time:</th>                 <td>13:57:34</td>     <th>  Log-Likelihood:    </th> <td>     nan</td>\n",
       "</tr>\n",
       "<tr>\n",
       "  <th>No. Observations:</th>      <td>     4</td>      <th>  AIC:               </th> <td>     nan</td>\n",
       "</tr>\n",
       "<tr>\n",
       "  <th>Df Residuals:</th>          <td>     0</td>      <th>  BIC:               </th> <td>     nan</td>\n",
       "</tr>\n",
       "<tr>\n",
       "  <th>Df Model:</th>              <td>     3</td>      <th>                     </th>     <td> </td>   \n",
       "</tr>\n",
       "<tr>\n",
       "  <th>Covariance Type:</th>      <td>nonrobust</td>    <th>                     </th>     <td> </td>   \n",
       "</tr>\n",
       "</table>\n",
       "<table class=\"simpletable\">\n",
       "<tr>\n",
       "    <td></td>       <th>coef</th>     <th>std err</th>      <th>t</th>      <th>P>|t|</th>  <th>[0.025</th>    <th>0.975]</th>  \n",
       "</tr>\n",
       "<tr>\n",
       "  <th>const</th> <td>      -inf</td> <td>      nan</td> <td>      nan</td> <td>   nan</td> <td>      nan</td> <td>      nan</td>\n",
       "</tr>\n",
       "<tr>\n",
       "  <th>x1</th>    <td>       inf</td> <td>      nan</td> <td>      nan</td> <td>   nan</td> <td>      nan</td> <td>      nan</td>\n",
       "</tr>\n",
       "<tr>\n",
       "  <th>x2</th>    <td>       inf</td> <td>      nan</td> <td>      nan</td> <td>   nan</td> <td>      nan</td> <td>      nan</td>\n",
       "</tr>\n",
       "<tr>\n",
       "  <th>x3</th>    <td>      -inf</td> <td>      nan</td> <td>      nan</td> <td>   nan</td> <td>      nan</td> <td>      nan</td>\n",
       "</tr>\n",
       "</table>\n",
       "<table class=\"simpletable\">\n",
       "<tr>\n",
       "  <th>Omnibus:</th>       <td>   nan</td> <th>  Durbin-Watson:     </th> <td>     nan</td>\n",
       "</tr>\n",
       "<tr>\n",
       "  <th>Prob(Omnibus):</th> <td>   nan</td> <th>  Jarque-Bera (JB):  </th> <td>     nan</td>\n",
       "</tr>\n",
       "<tr>\n",
       "  <th>Skew:</th>          <td>   nan</td> <th>  Prob(JB):          </th> <td>     nan</td>\n",
       "</tr>\n",
       "<tr>\n",
       "  <th>Kurtosis:</th>      <td>   nan</td> <th>  Cond. No.          </th> <td>    6.85</td>\n",
       "</tr>\n",
       "</table><br/><br/>Notes:<br/>[1] Standard Errors assume that the covariance matrix of the errors is correctly specified."
      ],
      "text/plain": [
       "<class 'statsmodels.iolib.summary.Summary'>\n",
       "\"\"\"\n",
       "                            OLS Regression Results                            \n",
       "==============================================================================\n",
       "Dep. Variable:                      y   R-squared:                         nan\n",
       "Model:                            OLS   Adj. R-squared:                    nan\n",
       "Method:                 Least Squares   F-statistic:                       nan\n",
       "Date:                Thu, 20 Jul 2023   Prob (F-statistic):                nan\n",
       "Time:                        13:57:34   Log-Likelihood:                    nan\n",
       "No. Observations:                   4   AIC:                               nan\n",
       "Df Residuals:                       0   BIC:                               nan\n",
       "Df Model:                           3                                         \n",
       "Covariance Type:            nonrobust                                         \n",
       "==============================================================================\n",
       "                 coef    std err          t      P>|t|      [0.025      0.975]\n",
       "------------------------------------------------------------------------------\n",
       "const            -inf        nan        nan        nan         nan         nan\n",
       "x1                inf        nan        nan        nan         nan         nan\n",
       "x2                inf        nan        nan        nan         nan         nan\n",
       "x3               -inf        nan        nan        nan         nan         nan\n",
       "==============================================================================\n",
       "Omnibus:                          nan   Durbin-Watson:                     nan\n",
       "Prob(Omnibus):                    nan   Jarque-Bera (JB):                  nan\n",
       "Skew:                             nan   Prob(JB):                          nan\n",
       "Kurtosis:                         nan   Cond. No.                         6.85\n",
       "==============================================================================\n",
       "\n",
       "Notes:\n",
       "[1] Standard Errors assume that the covariance matrix of the errors is correctly specified.\n",
       "\"\"\""
      ]
     },
     "execution_count": 62,
     "metadata": {},
     "output_type": "execute_result"
    }
   ],
   "source": [
    "model2 = sm.OLS(np.log(y), X).fit()\n",
    "model2.summary()"
   ]
  },
  {
   "cell_type": "code",
   "execution_count": 45,
   "id": "b517d926-e75d-44d7-8319-a4fd34abb17f",
   "metadata": {},
   "outputs": [
    {
     "data": {
      "text/plain": [
       "array([2., 1., 5., 5.])"
      ]
     },
     "execution_count": 45,
     "metadata": {},
     "output_type": "execute_result"
    }
   ],
   "source": [
    "model.predict(X)"
   ]
  },
  {
   "cell_type": "code",
   "execution_count": 46,
   "id": "c92586f8-350e-46e7-9a48-ce3b980a5c49",
   "metadata": {},
   "outputs": [
    {
     "data": {
      "text/plain": [
       "array([[2],\n",
       "       [1],\n",
       "       [5],\n",
       "       [5]])"
      ]
     },
     "execution_count": 46,
     "metadata": {},
     "output_type": "execute_result"
    }
   ],
   "source": [
    "y"
   ]
  },
  {
   "cell_type": "code",
   "execution_count": 265,
   "id": "4f586200-af62-4f02-bfeb-3865ffe222bd",
   "metadata": {},
   "outputs": [
    {
     "data": {
      "text/plain": [
       "Text(0.5, 0, 'False positive rate')"
      ]
     },
     "execution_count": 265,
     "metadata": {},
     "output_type": "execute_result"
    },
    {
     "data": {
      "image/png": "[encoded data removed]",
      "text/plain": [
       "<Figure size 250x1000 with 3 Axes>"
      ]
     },
     "metadata": {},
     "output_type": "display_data"
    }
   ],
   "source": [
    "q=0.1\n",
    "de_adata = sc.read(data_path + 'means/anndata_0.h5ad')\n",
    "de_norm_adata = sc.read(data_path + 'means/norm_anndata_0.h5ad')\n",
    "de_true_norm_adata = sc.read(data_path + 'means/norm_true_anndata_0.h5ad')\n",
    "edger = pd.read_csv(data_path + 'means/edger_0.csv', index_col=0)\n",
    "memento = pd.read_csv(data_path + 'means/memento_0.csv', index_col=0)\n",
    "edger.index = edger.index.astype(str)\n",
    "memento.index = memento.index.astype(str)\n",
    "\n",
    "genes = list(set(de_adata.var.index.tolist()) & set(edger.index) & set(memento.index.astype(str)))\n",
    "# gene_mask = de_adata.X.mean(axis=0).A1 > 0.05\n",
    "de_adata = de_adata[:, genes]\n",
    "de_norm_adata = de_norm_adata[:, genes]\n",
    "de_true_norm_adata = de_true_norm_adata[:, genes]\n",
    "\n",
    "result = pd.DataFrame(index=genes)\n",
    "\n",
    "A_data, B_data = de_norm_adata[de_norm_adata.obs['condition'] == 'ctrl'].X.toarray(), de_norm_adata[de_norm_adata.obs['condition'] == 'stim'].X.toarray()\n",
    "result['null'] = de_norm_adata.var.loc[genes]['is_null'].values.astype(bool)\n",
    "result['sig'] = ~result['null'].astype(bool)\n",
    "_, result['ttest'] = stats.ttest_ind(A_data, B_data, equal_var=True)\n",
    "\n",
    "result = pd.concat([result.loc[genes], edger.loc[genes], memento.loc[genes]], axis=1)\n",
    "result['edger'] = result['PValue']\n",
    "result['memento'] = result['pval']\n",
    "\n",
    "\n",
    "# # Resampling\n",
    "mean_expr = pd.DataFrame(index=de_adata.var.index)\n",
    "mean_expr['mean_expr'] = de_adata.X.mean(axis=0).A1\n",
    "result = result.join(mean_expr, how='inner')\n",
    "\n",
    "# result = result.query('mean_expr < 0.05')\n",
    "\n",
    "\n",
    "# methods = ['memento_fdr', 'ttest_fdr','edger_fdr']\n",
    "methods = ['memento', 'edger', 'ttest']\n",
    "for method in methods:\n",
    "    _, result['%s_fdr' % method] = fdrcorrection(result[method])\n",
    "\n",
    "thresholds = np.linspace(0, 0.1, 10)\n",
    "\n",
    "tpr_pv_dict = {}\n",
    "tpr_fdr_dict = {}\n",
    "precision_pv_dict = {}\n",
    "precision_fdr_dict = {}\n",
    "fdr_dict = {}\n",
    "fpr_dict = {}\n",
    "for method in methods:\n",
    "    tpr_pv = []\n",
    "    tpr_fdr = []\n",
    "    fpr = []\n",
    "    fdr = []\n",
    "    precision_pv = []\n",
    "    precision_fdr = []\n",
    "\n",
    "    for thresh in thresholds:\n",
    "    \n",
    "        tpr_pv.append((result.query('sig')[method] < thresh).mean())\n",
    "        tpr_fdr.append((result.query('sig')[method+'_fdr'] < thresh).mean())\n",
    "        fdr.append(result.query('{} < {}'.format(method+'_fdr', thresh))['null'].mean())\n",
    "        fpr.append((result.query('null')[method] < thresh).mean())\n",
    "        \n",
    "    tpr_pv_dict[method] = tpr_pv\n",
    "    tpr_fdr_dict[method] = tpr_fdr\n",
    "    fpr_dict[method] = fpr\n",
    "    fdr_dict[method] = fdr\n",
    "\n",
    "plt.figure(figsize=(2.5, 10))\n",
    "plt.subplots_adjust(hspace=0.5)\n",
    "plt.subplot(3, 1, 1)\n",
    "for method in methods:\n",
    "    plt.plot(thresholds, tpr_pv_dict[method], '-o', label=method, ms=4)\n",
    "plt.legend(frameon=False, loc='upper left', bbox_to_anchor=(0,1.05))\n",
    "plt.ylabel('Power'); plt.xlabel('P-value cutoff')\n",
    "plt.xlabel('cutoff')\n",
    "\n",
    "plt.subplot(3, 1, 2)\n",
    "for method in methods:\n",
    "    plt.plot(thresholds, fpr_dict[method], '-o', label=method, ms=4)\n",
    "plt.plot([0, 0.12], [0, 0.12],'--', color='k')\n",
    "# plt.plot([0,0.3], [0, 0.3], '--', color='k')\n",
    "\n",
    "plt.legend(frameon=False, loc='upper left', bbox_to_anchor=(0,1.05))\n",
    "plt.ylabel('False Positive Rate'); plt.xlabel('P-value cutoff')\n",
    "\n",
    "plt.subplot(3, 1, 3)\n",
    "for method in methods:\n",
    "    plt.plot(fpr_dict[method], np.array(tpr_pv_dict[method]),'-o', label=method, ms=4)\n",
    "plt.ylabel('Power'); plt.xlabel('False positive rate')\n",
    "\n",
    "# plt.subplot(6, 1, 4)\n",
    "# for method in methods:\n",
    "#     plt.plot(thresholds, fdr_dict[method], '-o', label=method, ms=4)\n",
    "# # plt.legend(['memento', 'BASiCS'], frameon=False, loc='center right')\n",
    "# # plt.plot([0,1], [0, 1], '--', color='k')\n",
    "# plt.ylabel('FDR'); plt.xlabel('FDR cutoff')\n",
    "# plt.xlabel('cutoff')\n",
    "\n",
    "# plt.subplot(6, 1, 5)\n",
    "# for method in methods:\n",
    "#     plt.plot(fdr_dict[method], np.array(tpr_fdr_dict[method]),'-o', label=method, ms=4)\n",
    "# # plt.legend(['memento', 'BASiCS'], frameon=False, loc='center right')\n",
    "# # plt.plot([0,1], [0, 1], '--', color='k')\n",
    "# plt.ylabel('Power'); plt.xlabel('FDR')\n",
    "# # plt.xlabel('P-value cutoff')\n",
    "\n",
    "# plt.subplot(6, 1, 6)\n",
    "# for method in methods:\n",
    "#     plt.plot(np.array(tpr_fdr_dict[method]), 1-np.array(fdr_dict[method]),'-o', label=method, ms=4)\n",
    "# # plt.legend(['memento', 'BASiCS'], frameon=False, loc='center right')\n",
    "# # plt.plot([0,1], [0, 1], '--', color='k')\n",
    "# plt.ylabel('Precision'); plt.xlabel('Recall')\n",
    "\n",
    "# plt.savefig('de_comparison.pdf', bbox_inches='tight')"
   ]
  },
  {
   "cell_type": "code",
   "execution_count": 266,
   "id": "30a18413-041f-4905-a661-5ab10fc533f0",
   "metadata": {},
   "outputs": [],
   "source": [
    "thresholds = {\n",
    "    'memento':np.linspace(0, 0.2, 10),\n",
    "    'ttest':np.concatenate([[0], np.logspace(-10, -1.5, 10)]),\n",
    "    'edger':np.linspace(0, 0.1, 10)}\n",
    "\n",
    "tpr_pv_dict = {}\n",
    "tpr_fdr_dict = {}\n",
    "precision_pv_dict = {}\n",
    "precision_fdr_dict = {}\n",
    "fdr_dict = {}\n",
    "fpr_dict = {}\n",
    "for method in methods:\n",
    "    tpr_pv = []\n",
    "    tpr_fdr = []\n",
    "    fpr = []\n",
    "    fdr = []\n",
    "    precision_pv = []\n",
    "    precision_fdr = []\n",
    "\n",
    "    for thresh in thresholds[method]:\n",
    "    \n",
    "        tpr_pv.append((result.query('sig')[method] < thresh).mean())\n",
    "        tpr_fdr.append((result.query('sig')[method+'_fdr'] < thresh).mean())\n",
    "        fdr.append(result.query('{} < {}'.format(method+'_fdr', thresh))['null'].mean())\n",
    "        fpr.append((result.query('null')[method] < thresh).mean())\n",
    "        \n",
    "    tpr_pv_dict[method] = tpr_pv\n",
    "    tpr_fdr_dict[method] = tpr_fdr\n",
    "    fpr_dict[method] = fpr\n",
    "    fdr_dict[method] = fdr\n"
   ]
  },
  {
   "cell_type": "code",
   "execution_count": 267,
   "id": "857d15e1-9597-4477-b9a7-bb227383d73e",
   "metadata": {},
   "outputs": [
    {
     "data": {
      "text/plain": [
       "Text(0.5, 0, 'False positive rate')"
      ]
     },
     "execution_count": 267,
     "metadata": {},
     "output_type": "execute_result"
    },
    {
     "data": {
      "image/png": "[encoded data removed]",
      "text/plain": [
       "<Figure size 640x480 with 1 Axes>"
      ]
     },
     "metadata": {},
     "output_type": "display_data"
    },
    {
     "name": "stderr",
     "output_type": "stream",
     "text": [
      "Bad pipe message: %s [b'D\\xb1\\x00\\xc28\\x84ojC\\x98n\\xb9k\\xd3fSd& \\xef\\xc3\\xef \\\\\\xfc\\xfdQ\\x9e\\x90\\x89I\\xd0\\xdd\\xb0\\xab\\x9dEDI\\xc2\\x85<$\\xc2\\xde9\\xd4`\\xb2B\\xde\\x00&\\xc0+\\xc0/\\xc0,\\xc00\\xcc\\xa9\\xcc\\xa8\\xc0\\t\\xc0\\x13\\xc0\\n\\xc0\\x14\\x00\\x9c\\x00\\x9d\\x00/\\x005\\xc0\\x12\\x00\\n\\x13\\x01\\x13\\x02\\x13\\x03\\x01\\x00\\x00\\x89\\x00\\x00\\x00\\x0e\\x00\\x0c\\x00\\x00\\tlocalhost\\x00\\x05\\x00\\x05\\x01\\x00\\x00\\x00\\x00\\x00\\n\\x00\\n\\x00\\x08\\x00\\x1d\\x00\\x17\\x00\\x18\\x00\\x19\\x00\\x0b\\x00\\x02\\x01\\x00\\x00\\r\\x00\\x1a\\x00\\x18\\x08\\x04\\x04\\x03\\x08\\x07\\x08\\x05\\x08\\x06\\x04\\x01\\x05\\x01\\x06\\x01\\x05\\x03\\x06\\x03\\x02\\x01\\x02\\x03\\xff\\x01\\x00\\x01\\x00\\x00\\x12\\x00\\x00\\x00+\\x00\\x05\\x04\\x03\\x04\\x03\\x03\\x003\\x00&\\x00$\\x00\\x1d\\x00  \\x14\\xd0hr\\x84\\x03\\x93tx']\n"
     ]
    }
   ],
   "source": [
    "for method in methods:\n",
    "    plt.plot(fpr_dict[method], np.array(tpr_pv_dict[method]),'-o', label=method, ms=4)\n",
    "plt.ylabel('Power'); plt.xlabel('False positive rate')"
   ]
  },
  {
   "cell_type": "code",
   "execution_count": null,
   "id": "37f1bb0a-8447-48a0-a342-0fbf6dba5e0a",
   "metadata": {},
   "outputs": [],
   "source": []
  },
  {
   "cell_type": "code",
   "execution_count": null,
   "id": "cd151bcb-4410-49e7-86cd-6c6fd8746c48",
   "metadata": {},
   "outputs": [],
   "source": []
  },
  {
   "cell_type": "code",
   "execution_count": null,
   "id": "7b0a30b2-5ce0-4296-9b27-7266c59cf5ba",
   "metadata": {},
   "outputs": [],
   "source": []
  },
  {
   "cell_type": "code",
   "execution_count": null,
   "id": "a2130884-4d87-42fd-87f8-321d007e868e",
   "metadata": {},
   "outputs": [],
   "source": []
  },
  {
   "cell_type": "code",
   "execution_count": 169,
   "id": "0fcfd731-7303-410a-8516-b9c8e78994ae",
   "metadata": {},
   "outputs": [],
   "source": [
    "n_thresholds = list(range(10, 100, 100))\n",
    "\n",
    "tpr_dict = {}\n",
    "fdr_dict = {}\n",
    "for method in methods:\n",
    "    tpr = np.zeros(len(n_thresholds))\n",
    "    fdr = np.zeros(len(n_thresholds))\n",
    "\n",
    "    for i, n in enumerate(n_thresholds):\n",
    "        \n",
    "        top = result.sort_values(method).head(n)\n",
    "\n",
    "        f = top['null'].mean()\n",
    "        t = top.query('sig').shape[0] /result.query('sig').shape[0]\n",
    "        \n",
    "        fdr[i] = (f)\n",
    "        tpr[i] = (t)\n",
    "        \n",
    "        \n",
    "    tpr_dict[method] = tpr.copy()\n",
    "    fdr_dict[method] = fdr.copy()"
   ]
  },
  {
   "cell_type": "code",
   "execution_count": 170,
   "id": "a7a10f6e-104b-43c3-ab70-52c9da0248a4",
   "metadata": {},
   "outputs": [
    {
     "data": {
      "text/plain": [
       "<matplotlib.legend.Legend at 0x7f91c0866650>"
      ]
     },
     "execution_count": 170,
     "metadata": {},
     "output_type": "execute_result"
    },
    {
     "data": {
      "image/png": "[encoded data removed]",
      "text/plain": [
       "<Figure size 640x480 with 1 Axes>"
      ]
     },
     "metadata": {},
     "output_type": "display_data"
    }
   ],
   "source": [
    "for method in methods:\n",
    "    plt.plot(fdr_dict[method], np.array(tpr_dict[method]),'-o', label=method, ms=4)\n",
    "plt.ylabel('Power'); plt.xlabel('False discovery rate')\n",
    "plt.legend()"
   ]
  },
  {
   "cell_type": "code",
   "execution_count": null,
   "id": "bfbc50b3",
   "metadata": {},
   "outputs": [],
   "source": []
  },
  {
   "cell_type": "code",
   "execution_count": null,
   "id": "83e9741d",
   "metadata": {},
   "outputs": [],
   "source": []
  },
  {
   "cell_type": "code",
   "execution_count": null,
   "id": "135647a7",
   "metadata": {},
   "outputs": [],
   "source": []
  },
  {
   "cell_type": "code",
   "execution_count": null,
   "id": "e08ea44a",
   "metadata": {},
   "outputs": [],
   "source": []
  },
  {
   "cell_type": "code",
   "execution_count": 189,
   "id": "31324381",
   "metadata": {},
   "outputs": [],
   "source": [
    "de_sim_adata = sc.read(data_path + 'means/simple/anndata_0.h5ad')\n",
    "de_sim_adata.obs['q'] = 0.1\n",
    "\n",
    "memento.setup_memento(de_sim_adata, q_column='q', filter_mean_thresh=0.01,trim_percent=0.1, shrinkage=0)\n",
    "de_sim_adata.obs['memento_size_factor'] = de_sim_adata.X.sum(axis=1).A1\n",
    "memento.create_groups(de_sim_adata, label_columns=['condition'])\n",
    "memento.compute_1d_moments(de_sim_adata, filter_genes=True)\n",
    "\n",
    "meta_df = memento.get_groups(de_sim_adata)\n",
    "meta_df = pd.get_dummies(meta_df, prefix='', prefix_sep='', drop_first=True)\n",
    "\n",
    "treatment = meta_df[['stim']]\n",
    "covariate = pd.DataFrame(np.ones((meta_df.shape[0],1)))\n",
    "# covariate = meta_df[['B', 'C', 'D']]\n",
    "# covariate = pd.concat([covariate, covariate*treatment.values], axis=1)\n",
    "\n",
    "# means = memento.ht_1d_moments(\n",
    "#     de_sim_adata, \n",
    "#     treatment=treatment,\n",
    "#     covariate=covariate,\n",
    "#     num_boot=5000, \n",
    "#     verbose=1,\n",
    "#     num_cpus=14,\n",
    "#     resample_rep=False,\n",
    "#     approx=True)\n",
    "\n",
    "# memento_de_result = memento.get_1d_ht_result(de_sim_adata)\n",
    "# memento_de_result.to_csv(data_path + 'means/stratified/memento.csv', index=False)"
   ]
  },
  {
   "cell_type": "code",
   "execution_count": null,
   "id": "9a80d76f",
   "metadata": {},
   "outputs": [],
   "source": []
  },
  {
   "cell_type": "code",
   "execution_count": null,
   "id": "fca06324",
   "metadata": {},
   "outputs": [],
   "source": []
  },
  {
   "cell_type": "code",
   "execution_count": null,
   "id": "55360534",
   "metadata": {},
   "outputs": [],
   "source": []
  },
  {
   "cell_type": "code",
   "execution_count": null,
   "id": "f7d214d4",
   "metadata": {},
   "outputs": [],
   "source": []
  },
  {
   "cell_type": "code",
   "execution_count": null,
   "id": "fb691ea2",
   "metadata": {},
   "outputs": [],
   "source": []
  },
  {
   "cell_type": "code",
   "execution_count": 51,
   "id": "a7344413",
   "metadata": {},
   "outputs": [],
   "source": [
    "ctrl_mean = de_sim_adata.uns['memento']['1d_moments']['sg^ctrl'][0]\n",
    "stim_mean = de_sim_adata.uns['memento']['1d_moments']['sg^stim'][0]\n",
    "ctrl_var = de_sim_adata.uns['memento']['1d_moments']['sg^ctrl'][1]\n",
    "stim_var = de_sim_adata.uns['memento']['1d_moments']['sg^stim'][1]\n",
    "ctrl_se = np.sqrt(ctrl_var/(de_sim_adata.shape[0]/2))\n",
    "stim_se = np.sqrt(stim_var/(de_sim_adata.shape[0]/2))\n",
    "\n",
    "ctrl_log_mean = np.log(ctrl_mean)\n",
    "stim_log_mean = np.log(stim_mean)\n",
    "ctrl_log_se = (np.log(ctrl_mean+ctrl_se)-np.log(ctrl_mean-ctrl_se))/2\n",
    "stim_log_se = (np.log(stim_mean+stim_se)-np.log(stim_mean-stim_se))/2\n",
    "ctrl_log_sv = ctrl_log_se**2\n",
    "stim_log_sv = stim_log_se**2\n",
    "\n",
    "approx_means = list(zip(list(zip(ctrl_log_mean, stim_log_mean)), list(zip(ctrl_log_sv, stim_log_sv))))\n",
    "# approx_means = list(zip(list(zip(ctrl_mean, stim_mean)), list(zip(ctrl_se**2, stim_se**2))))"
   ]
  },
  {
   "cell_type": "code",
   "execution_count": 52,
   "id": "40cb7938",
   "metadata": {},
   "outputs": [
    {
     "data": {
      "text/plain": [
       "((-9.256156, -9.3182125), (0.0019935018, 0.002846779))"
      ]
     },
     "execution_count": 52,
     "metadata": {},
     "output_type": "execute_result"
    }
   ],
   "source": [
    "approx_means[0]"
   ]
  },
  {
   "cell_type": "code",
   "execution_count": 71,
   "id": "570fe194",
   "metadata": {},
   "outputs": [],
   "source": [
    "# datasets = [core.Dataset(y=m, v=v, X=meta_df[['stim']].values, add_intercept=True) for m,v in means]\n",
    "# from pymare import estimators, core\n",
    "# results = []\n",
    "\n",
    "# for m,v in approx_means:\n",
    "    \n",
    "#     df = meta_df\n",
    "#     df['m'] = m\n",
    "#     df['v'] = v\n",
    "#     dset = core.Dataset(data=df, y='m', v='v', X=['stim'])\n",
    "    \n",
    "#     res = estimators.WeightedLeastSquares().fit_dataset(dset).summary().to_df().set_index('name').loc['stim', ['estimate', 'p-value']]\n",
    "    \n",
    "#     results.append(res)\n",
    "    \n",
    "# memento_results = pd.DataFrame(np.vstack([results]),columns=['coef', 'de_pval'])\n",
    "\n",
    "_, pv = stats.ttest_ind_from_stats(stim_mean, np.sqrt(ctrl_var), 1000,ctrl_mean, np.sqrt(stim_var), 1000)\n",
    "\n",
    "\n",
    "memento_results = pd.DataFrame(zip(de_sim_adata.var.index, pv), columns=['gene', 'de_pval'])\n",
    "memento_results.to_csv(data_path + 'means/simple/memento_0.csv', index=False)"
   ]
  },
  {
   "cell_type": "markdown",
   "id": "ffe69060",
   "metadata": {},
   "source": [
    "### Compare DE methods - simple"
   ]
  },
  {
   "cell_type": "code",
   "execution_count": 73,
   "id": "ce5c5eae",
   "metadata": {},
   "outputs": [],
   "source": [
    "de_norm_adata = sc.read(data_path + 'means/simple/norm_anndata_0.h5ad')\n",
    "result = pd.read_csv(data_path + 'means/simple/memento_0.csv').set_index('gene')\n",
    "edger = pd.read_csv(data_path + 'means/simple/edger_0.csv', index_col=0)\n",
    "\n",
    "genes = list(set(result.index.tolist()) & set(edger.index))\n",
    "de_norm_adata = de_norm_adata[:, genes]\n",
    "\n",
    "result = pd.concat([result.loc[genes], edger.loc[genes]], axis=1)\n",
    "\n",
    "A_data, B_data = de_norm_adata[de_norm_adata.obs['condition'] == 'ctrl'].X, de_norm_adata[de_norm_adata.obs['condition'] == 'stim'].X\n",
    "_, result['ttest'] = stats.ttest_ind(A_data, B_data, equal_var=False)\n",
    "result['mwu'] = np.array([stats.mannwhitneyu(A_data[:, i], B_data[:,i])[1] for i in range(A_data.shape[1])])\n",
    "\n",
    "result['null'] = de_norm_adata.var['is_null'].values\n",
    "result['sig'] = ~result['null']\n",
    "result['memento'] = result['de_pval']\n",
    "result['edger'] = result['PValue']"
   ]
  },
  {
   "cell_type": "code",
   "execution_count": 74,
   "id": "b8a8b27d",
   "metadata": {},
   "outputs": [],
   "source": [
    "result['ttest_fdr'] = memento.util._fdrcorrect(result['ttest'])\n",
    "result['memento_fdr'] = memento.util._fdrcorrect(result['de_pval'])\n",
    "result['mwu_fdr'] = memento.util._fdrcorrect(result['mwu'])\n",
    "result['edger_fdr'] = memento.util._fdrcorrect(result['edger'])"
   ]
  },
  {
   "cell_type": "code",
   "execution_count": 75,
   "id": "ff54fb72",
   "metadata": {},
   "outputs": [],
   "source": [
    "# methods = ['memento_fdr', 'ttest_fdr','edger_fdr']\n",
    "methods = ['memento', 'ttest']"
   ]
  },
  {
   "cell_type": "code",
   "execution_count": 76,
   "id": "03780a29",
   "metadata": {},
   "outputs": [],
   "source": [
    "thresholds = np.linspace(0, 0.3, 20)\n",
    "\n",
    "tpr_pv_dict = {}\n",
    "tpr_fdr_dict = {}\n",
    "precision_pv_dict = {}\n",
    "precision_fdr_dict = {}\n",
    "fdr_dict = {}\n",
    "fpr_dict = {}\n",
    "for method in methods:\n",
    "    tpr_pv = []\n",
    "    tpr_fdr = []\n",
    "    fpr = []\n",
    "    fdr = []\n",
    "    precision_pv = []\n",
    "    precision_fdr = []\n",
    "\n",
    "    for thresh in thresholds:\n",
    "    \n",
    "        tpr_pv.append((result.query('sig')[method] < thresh).mean())\n",
    "        tpr_fdr.append((result.query('sig')[method+'_fdr'] < thresh).mean())\n",
    "        fdr.append(result.query('{} < {}'.format(method+'_fdr', thresh))['null'].mean())\n",
    "        fpr.append((result.query('null')[method] < thresh).mean())\n",
    "        \n",
    "    tpr_pv_dict[method] = tpr_pv\n",
    "    tpr_fdr_dict[method] = tpr_fdr\n",
    "    fpr_dict[method] = fpr\n",
    "    fdr_dict[method] = fdr"
   ]
  },
  {
   "cell_type": "code",
   "execution_count": 77,
   "id": "bace33fa",
   "metadata": {},
   "outputs": [
    {
     "data": {
      "text/plain": [
       "Text(0.5, 0, 'Recall')"
      ]
     },
     "execution_count": 77,
     "metadata": {},
     "output_type": "execute_result"
    },
    {
     "data": {
      "image/png": "[encoded data removed]",
      "text/plain": [
       "<Figure size 180x720 with 6 Axes>"
      ]
     },
     "metadata": {
      "needs_background": "light"
     },
     "output_type": "display_data"
    }
   ],
   "source": [
    "plt.figure(figsize=(2.5, 10))\n",
    "plt.subplots_adjust(hspace=0.5)\n",
    "plt.subplot(6, 1, 1)\n",
    "for method in methods:\n",
    "    plt.plot(thresholds, tpr_pv_dict[method], '-o', label=method, ms=4)\n",
    "plt.legend(frameon=False, loc='upper left', bbox_to_anchor=(0,1.05))\n",
    "plt.ylabel('Power'); plt.xlabel('P-value cutoff')\n",
    "plt.xlabel('cutoff')\n",
    "\n",
    "plt.subplot(6, 1, 2)\n",
    "for method in methods:\n",
    "    plt.plot(thresholds, fpr_dict[method], '-o', label=method, ms=4)\n",
    "plt.plot([0,0.3], [0, 0.3], '--', color='k')\n",
    "\n",
    "plt.legend(frameon=False, loc='upper left', bbox_to_anchor=(0,1.05))\n",
    "plt.ylabel('False Positive Rate'); plt.xlabel('P-value cutoff')\n",
    "\n",
    "plt.subplot(6, 1, 3)\n",
    "for method in methods:\n",
    "    plt.plot(fpr_dict[method], np.array(tpr_pv_dict[method]),'-o', label=method, ms=4)\n",
    "plt.ylabel('Power'); plt.xlabel('False positive rate')\n",
    "\n",
    "plt.subplot(6, 1, 4)\n",
    "for method in methods:\n",
    "    plt.plot(thresholds, fdr_dict[method], '-o', label=method, ms=4)\n",
    "# plt.legend(['memento', 'BASiCS'], frameon=False, loc='center right')\n",
    "# plt.plot([0,1], [0, 1], '--', color='k')\n",
    "plt.ylabel('FDR'); plt.xlabel('FDR cutoff')\n",
    "plt.xlabel('cutoff')\n",
    "\n",
    "plt.subplot(6, 1, 5)\n",
    "for method in methods:\n",
    "    plt.plot(fdr_dict[method], np.array(tpr_fdr_dict[method]),'-o', label=method, ms=4)\n",
    "# plt.legend(['memento', 'BASiCS'], frameon=False, loc='center right')\n",
    "# plt.plot([0,1], [0, 1], '--', color='k')\n",
    "plt.ylabel('Power'); plt.xlabel('FDR')\n",
    "# plt.xlabel('P-value cutoff')\n",
    "\n",
    "plt.subplot(6, 1, 6)\n",
    "for method in methods:\n",
    "    plt.plot(np.array(tpr_fdr_dict[method]), 1-np.array(fdr_dict[method]),'-o', label=method, ms=4)\n",
    "# plt.legend(['memento', 'BASiCS'], frameon=False, loc='center right')\n",
    "# plt.plot([0,1], [0, 1], '--', color='k')\n",
    "plt.ylabel('Precision'); plt.xlabel('Recall')\n",
    "\n",
    "# plt.savefig('de_comparison.pdf', bbox_inches='tight')"
   ]
  },
  {
   "cell_type": "markdown",
   "id": "e3fb6b56",
   "metadata": {},
   "source": [
    "### Compare DE methods - repeated"
   ]
  },
  {
   "cell_type": "code",
   "execution_count": 35,
   "id": "a9ea2f42",
   "metadata": {},
   "outputs": [],
   "source": [
    "from pymare import estimators, core"
   ]
  },
  {
   "cell_type": "code",
   "execution_count": 36,
   "id": "daec8bd7",
   "metadata": {},
   "outputs": [],
   "source": [
    "trial = 1"
   ]
  },
  {
   "cell_type": "code",
   "execution_count": 37,
   "id": "c4057f86",
   "metadata": {},
   "outputs": [
    {
     "name": "stdout",
     "output_type": "stream",
     "text": [
      "im here\n"
     ]
    },
    {
     "name": "stderr",
     "output_type": "stream",
     "text": [
      "[Parallel(n_jobs=14)]: Using backend LokyBackend with 14 concurrent workers.\n",
      "[Parallel(n_jobs=14)]: Done  22 tasks      | elapsed:    0.4s\n",
      "[Parallel(n_jobs=14)]: Done 316 tasks      | elapsed:    4.8s\n",
      "[Parallel(n_jobs=14)]: Done 816 tasks      | elapsed:   11.4s\n",
      "[Parallel(n_jobs=14)]: Done 1516 tasks      | elapsed:   20.4s\n",
      "[Parallel(n_jobs=14)]: Done 2416 tasks      | elapsed:   32.2s\n",
      "[Parallel(n_jobs=14)]: Done 3516 tasks      | elapsed:   46.7s\n",
      "[Parallel(n_jobs=14)]: Done 4816 tasks      | elapsed:  1.1min\n",
      "[Parallel(n_jobs=14)]: Done 6084 out of 6084 | elapsed:  1.4min finished\n"
     ]
    }
   ],
   "source": [
    "de_sim_adata = sc.read(data_path + 'means/repeated/anndata_{}.h5ad'.format(trial))\n",
    "de_sim_adata.obs['q'] = 0.05\n",
    "\n",
    "memento.setup_memento(de_sim_adata, q_column='q', filter_mean_thresh=0.01,trim_percent=0.1, shrinkage=0)\n",
    "# de_sim_adata.obs['memento_size_factor'] = de_sim_adata.X.sum(axis=1).A1\n",
    "memento.create_groups(de_sim_adata, label_columns=['condition', 'group'])\n",
    "memento.compute_1d_moments(de_sim_adata, filter_genes=True)\n",
    "\n",
    "meta_df = memento.get_groups(de_sim_adata)\n",
    "meta_df = pd.get_dummies(meta_df, prefix='', prefix_sep='', drop_first=True)\n",
    "\n",
    "treatment = meta_df[['stim']]\n",
    "covariate = pd.DataFrame(np.ones((meta_df.shape[0],1)))\n",
    "# covariate = meta_df[['B', 'C', 'D']]\n",
    "# covariate = pd.concat([covariate, covariate*treatment.values], axis=1)\n",
    "\n",
    "means = memento.ht_1d_moments(\n",
    "    de_sim_adata, \n",
    "    treatment=treatment,\n",
    "    covariate=covariate,\n",
    "    num_boot=5000, \n",
    "    verbose=1,\n",
    "    num_cpus=14,\n",
    "    resample_rep=False,\n",
    "    approx=True)\n",
    "\n",
    "memento_de_result = memento.get_1d_ht_result(de_sim_adata)\n",
    "memento_de_result.to_csv(data_path + 'means/stratified/memento.csv', index=False)"
   ]
  },
  {
   "cell_type": "code",
   "execution_count": 38,
   "id": "99eaa674",
   "metadata": {},
   "outputs": [],
   "source": [
    "# # datasets = [core.Dataset(y=m, v=v, X=meta_df[['stim']].values, add_intercept=True) for m,v in means]\n",
    "# results = []\n",
    "\n",
    "# for m,v in means:\n",
    "    \n",
    "#     df = meta_df\n",
    "#     df['m'] = m\n",
    "#     df['v'] = v\n",
    "#     dset = core.Dataset(data=df, y='m', v='v', X=['stim'])\n",
    "    \n",
    "#     res = estimators.DerSimonianLaird().fit_dataset(dset).summary().to_df().set_index('name').loc['stim', ['estimate', 'p-value']]\n",
    "    \n",
    "#     results.append(res)\n",
    "    \n",
    "# memento_results = pd.DataFrame(np.vstack([results]),columns=['coef', 'de_pval'])\n",
    "\n",
    "# memento_results['gene'] = de_sim_adata.var.index\n",
    "# memento_results['means'] = [m[0] for m in means]\n",
    "# memento_results['ses'] = [m[1] for m in means]\n",
    "# memento_results.to_csv(data_path + 'means/repeated/memento_{}.csv'.format(trial), index=False)"
   ]
  },
  {
   "cell_type": "code",
   "execution_count": 39,
   "id": "ba03076a",
   "metadata": {},
   "outputs": [],
   "source": [
    "de_norm_adata = sc.read(data_path + 'means/repeated/norm_anndata_{}.h5ad'.format(trial))\n",
    "result = pd.read_csv(data_path + 'means/repeated/memento_{}.csv'.format(trial)).set_index('gene')\n",
    "edger = pd.read_csv(data_path + 'means/repeated/edger_{}.csv'.format(trial), index_col=0)\n",
    "\n",
    "genes = list(set(result.index.tolist()) & set(edger.index))\n",
    "de_norm_adata = de_norm_adata[:, genes]\n",
    "\n",
    "result = pd.concat([result.loc[genes], edger.loc[genes]], axis=1)\n",
    "\n",
    "A_data, B_data = de_norm_adata[de_norm_adata.obs['condition'] == 'ctrl'].X, de_norm_adata[de_norm_adata.obs['condition'] == 'stim'].X\n",
    "_, result['ttest'] = stats.ttest_ind(A_data, B_data, equal_var=False)\n",
    "result['mwu'] = np.array([stats.mannwhitneyu(A_data[:, i], B_data[:,i])[1] for i in range(A_data.shape[1])])\n",
    "\n",
    "result['null'] = de_norm_adata.var['is_null'].values\n",
    "result['sig'] = ~result['null']\n",
    "result['memento'] = result['de_pval']\n",
    "result['edger'] = result['PValue']"
   ]
  },
  {
   "cell_type": "code",
   "execution_count": 40,
   "id": "8d70457a",
   "metadata": {},
   "outputs": [],
   "source": [
    "result['ttest_fdr'] = memento.util._fdrcorrect(result['ttest'])\n",
    "result['memento_fdr'] = memento.util._fdrcorrect(result['de_pval'])\n",
    "result['mwu_fdr'] = memento.util._fdrcorrect(result['mwu'])\n",
    "result['edger_fdr'] = memento.util._fdrcorrect(result['edger'])"
   ]
  },
  {
   "cell_type": "code",
   "execution_count": 41,
   "id": "3b19d3f2",
   "metadata": {},
   "outputs": [],
   "source": [
    "result = result.dropna()"
   ]
  },
  {
   "cell_type": "code",
   "execution_count": 42,
   "id": "4ba9a47d",
   "metadata": {},
   "outputs": [],
   "source": [
    "# methods = ['memento_fdr', 'ttest_fdr','edger_fdr']\n",
    "methods = ['memento', 'ttest','edger', 'mwu']"
   ]
  },
  {
   "cell_type": "code",
   "execution_count": 63,
   "id": "2ac268e2",
   "metadata": {},
   "outputs": [],
   "source": [
    "thresholds = np.linspace(0, 0.3, 20)\n",
    "\n",
    "tpr_pv_dict = {}\n",
    "tpr_fdr_dict = {}\n",
    "precision_pv_dict = {}\n",
    "precision_fdr_dict = {}\n",
    "fdr_dict = {}\n",
    "fpr_dict = {}\n",
    "for method in methods:\n",
    "    tpr_pv = []\n",
    "    tpr_fdr = []\n",
    "    fpr = []\n",
    "    fdr = []\n",
    "    precision_pv = []\n",
    "    precision_fdr = []\n",
    "\n",
    "    for thresh in thresholds:\n",
    "    \n",
    "        tpr_pv.append((result.query('sig')[method] < thresh).mean())\n",
    "        tpr_fdr.append((result.query('sig')[method+'_fdr'] < thresh).mean())\n",
    "        fdr.append(result.query('{} < {}'.format(method+'_fdr', thresh))['null'].mean())\n",
    "        fpr.append((result.query('null')[method] < thresh).mean())\n",
    "        \n",
    "    tpr_pv_dict[method] = tpr_pv\n",
    "    tpr_fdr_dict[method] = tpr_fdr\n",
    "    fpr_dict[method] = fpr\n",
    "    fdr_dict[method] = fdr"
   ]
  },
  {
   "cell_type": "code",
   "execution_count": 64,
   "id": "7207a919",
   "metadata": {},
   "outputs": [
    {
     "data": {
      "text/plain": [
       "Text(0.5, 0, 'Recall')"
      ]
     },
     "execution_count": 64,
     "metadata": {},
     "output_type": "execute_result"
    },
    {
     "data": {
      "image/png": "[encoded data removed]",
      "text/plain": [
       "<Figure size 180x720 with 6 Axes>"
      ]
     },
     "metadata": {
      "needs_background": "light"
     },
     "output_type": "display_data"
    }
   ],
   "source": [
    "plt.figure(figsize=(2.5, 10))\n",
    "plt.subplots_adjust(hspace=0.5)\n",
    "plt.subplot(6, 1, 1)\n",
    "for method in methods:\n",
    "    plt.plot(thresholds, tpr_pv_dict[method], '-o', label=method, ms=4)\n",
    "plt.legend(frameon=False, loc='upper left', bbox_to_anchor=(0,1.05))\n",
    "plt.ylabel('Power'); plt.xlabel('P-value cutoff')\n",
    "plt.xlabel('cutoff')\n",
    "\n",
    "plt.subplot(6, 1, 2)\n",
    "for method in methods:\n",
    "    plt.plot(thresholds, fpr_dict[method], '-o', label=method, ms=4)\n",
    "plt.plot([0,0.3], [0, 0.3], '--', color='k')\n",
    "\n",
    "plt.legend(frameon=False, loc='upper left', bbox_to_anchor=(0,1.05))\n",
    "plt.ylabel('False Positive Rate'); plt.xlabel('P-value cutoff')\n",
    "\n",
    "plt.subplot(6, 1, 3)\n",
    "for method in methods:\n",
    "    plt.plot(fpr_dict[method], np.array(tpr_pv_dict[method]),'-o', label=method, ms=4)\n",
    "plt.ylabel('Power'); plt.xlabel('False positive rate')\n",
    "\n",
    "plt.subplot(6, 1, 4)\n",
    "for method in methods:\n",
    "    plt.plot(thresholds, fdr_dict[method], '-o', label=method, ms=4)\n",
    "# plt.legend(['memento', 'BASiCS'], frameon=False, loc='center right')\n",
    "# plt.plot([0,1], [0, 1], '--', color='k')\n",
    "plt.ylabel('FDR'); plt.xlabel('FDR cutoff')\n",
    "plt.xlabel('cutoff')\n",
    "\n",
    "plt.subplot(6, 1, 5)\n",
    "for method in methods:\n",
    "    plt.plot(fdr_dict[method], np.array(tpr_fdr_dict[method]),'-o', label=method, ms=4)\n",
    "# plt.legend(['memento', 'BASiCS'], frameon=False, loc='center right')\n",
    "# plt.plot([0,1], [0, 1], '--', color='k')\n",
    "plt.ylabel('Power'); plt.xlabel('FDR')\n",
    "# plt.xlabel('P-value cutoff')\n",
    "\n",
    "plt.subplot(6, 1, 6)\n",
    "for method in methods:\n",
    "    plt.plot(np.array(tpr_fdr_dict[method]), 1-np.array(fdr_dict[method]),'-o', label=method, ms=4)\n",
    "# plt.legend(['memento', 'BASiCS'], frameon=False, loc='center right')\n",
    "# plt.plot([0,1], [0, 1], '--', color='k')\n",
    "plt.ylabel('Precision'); plt.xlabel('Recall')\n",
    "\n",
    "# plt.savefig('de_comparison.pdf', bbox_inches='tight')"
   ]
  },
  {
   "cell_type": "code",
   "execution_count": null,
   "id": "c4ee7783",
   "metadata": {},
   "outputs": [],
   "source": []
  },
  {
   "cell_type": "code",
   "execution_count": null,
   "id": "923b2d10",
   "metadata": {},
   "outputs": [],
   "source": []
  },
  {
   "cell_type": "code",
   "execution_count": null,
   "id": "101f9a41",
   "metadata": {},
   "outputs": [],
   "source": []
  },
  {
   "cell_type": "code",
   "execution_count": null,
   "id": "63c922a5",
   "metadata": {},
   "outputs": [],
   "source": []
  },
  {
   "cell_type": "code",
   "execution_count": 50,
   "id": "ec8f2941",
   "metadata": {},
   "outputs": [
    {
     "name": "stdout",
     "output_type": "stream",
     "text": [
      "77 0.8311688311688312\n"
     ]
    }
   ],
   "source": [
    "print(result.query('edger_fdr < 0.1').shape[0], result.query('edger_fdr < 0.1').null.mean())"
   ]
  },
  {
   "cell_type": "code",
   "execution_count": 51,
   "id": "2fa7951b",
   "metadata": {},
   "outputs": [
    {
     "name": "stdout",
     "output_type": "stream",
     "text": [
      "83 0.40963855421686746\n"
     ]
    },
    {
     "name": "stderr",
     "output_type": "stream",
     "text": [
      "/home/ssm-user/Github/scrna-parameter-estimation/dist/memento-0.1.0-py3.8.egg/memento/hypothesis_test.py:210: RuntimeWarning: divide by zero encountered in log\n",
      "/home/ssm-user/Github/scrna-parameter-estimation/dist/memento-0.1.0-py3.8.egg/memento/hypothesis_test.py:210: RuntimeWarning: divide by zero encountered in log\n",
      "/home/ssm-user/Github/scrna-parameter-estimation/dist/memento-0.1.0-py3.8.egg/memento/hypothesis_test.py:210: RuntimeWarning: divide by zero encountered in log\n",
      "/home/ssm-user/Github/scrna-parameter-estimation/dist/memento-0.1.0-py3.8.egg/memento/hypothesis_test.py:210: RuntimeWarning: divide by zero encountered in log\n",
      "/home/ssm-user/Github/scrna-parameter-estimation/dist/memento-0.1.0-py3.8.egg/memento/hypothesis_test.py:210: RuntimeWarning: divide by zero encountered in log\n",
      "/home/ssm-user/Github/scrna-parameter-estimation/dist/memento-0.1.0-py3.8.egg/memento/hypothesis_test.py:210: RuntimeWarning: divide by zero encountered in log\n",
      "/home/ssm-user/Github/scrna-parameter-estimation/dist/memento-0.1.0-py3.8.egg/memento/hypothesis_test.py:210: RuntimeWarning: divide by zero encountered in log\n",
      "/home/ssm-user/Github/scrna-parameter-estimation/dist/memento-0.1.0-py3.8.egg/memento/hypothesis_test.py:210: RuntimeWarning: divide by zero encountered in log\n"
     ]
    }
   ],
   "source": [
    "print(result.query('memento_fdr < 0.1').shape[0], result.query('memento_fdr < 0.1').null.mean())"
   ]
  },
  {
   "cell_type": "code",
   "execution_count": 117,
   "id": "0bb38015",
   "metadata": {},
   "outputs": [
    {
     "data": {
      "text/plain": [
       "0.811965811965812"
      ]
     },
     "execution_count": 117,
     "metadata": {},
     "output_type": "execute_result"
    }
   ],
   "source": [
    "result.query('edger_fdr < 0.1').sig.mean()"
   ]
  },
  {
   "cell_type": "code",
   "execution_count": null,
   "id": "c41e7bb1",
   "metadata": {},
   "outputs": [],
   "source": []
  },
  {
   "cell_type": "code",
   "execution_count": 79,
   "id": "7d56bfdd",
   "metadata": {},
   "outputs": [],
   "source": [
    "# plt.figure(figsize=(2.5, 2))\n",
    "# for col in ['de_pval', 'ttest', 'mwu']:\n",
    "    \n",
    "#     fpr, tpr, t = roc_curve(result['sig'], 1-result[col])\n",
    "#     plt.plot(fpr, tpr, label=col)\n",
    "    \n",
    "# plt.legend(['memento', 't-test', 'MWU'])\n",
    "# plt.xlabel('False positive rate')\n",
    "# plt.ylabel('True positive rate')\n",
    "# plt.title('AUC curve (Differential mean)')\n",
    "# plt.xlim(-0.01, 0.4);\n",
    "# plt.ylim(-0.01, 0.6)\n",
    "# plt.plot([0, 0.4], [0, 0.4], '--', color='black')"
   ]
  }
 ],
 "metadata": {
  "kernelspec": {
   "display_name": "Python (single_cell)",
   "language": "python",
   "name": "single_cell"
  },
  "language_info": {
   "codemirror_mode": {
    "name": "ipython",
    "version": 3
   },
   "file_extension": ".py",
   "mimetype": "text/x-python",
   "name": "python",
   "nbconvert_exporter": "python",
   "pygments_lexer": "ipython3",
   "version": "3.10.11"
  }
 },
 "nbformat": 4,
 "nbformat_minor": 5
}
