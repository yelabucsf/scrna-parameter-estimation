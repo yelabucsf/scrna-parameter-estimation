{
 "cells": [
  {
   "cell_type": "markdown",
   "id": "00ab26e6-7155-4db2-9f3c-ac275252d35f",
   "metadata": {},
   "source": [
    "# Compare different mean estimators to bulk data\n",
    "\n",
    "Bulk data here: https://www.ncbi.nlm.nih.gov/geo/query/acc.cgi?acc=GSE164457"
   ]
  },
  {
   "cell_type": "code",
   "execution_count": 69,
   "id": "ecb1b84e-51f9-45a1-90f0-4750f888f82a",
   "metadata": {},
   "outputs": [],
   "source": [
    "import pandas as pd\n",
    "import scanpy as sc\n",
    "import numpy as np\n",
    "import seaborn as sns\n",
    "import matplotlib.pyplot as plt\n",
    "import scipy.stats as stats"
   ]
  },
  {
   "cell_type": "code",
   "execution_count": 13,
   "id": "81402750-e513-4ce4-a8a9-872545cf4719",
   "metadata": {},
   "outputs": [],
   "source": [
    "data_path = '/data_volume/memento/method_comparison/lupus/'"
   ]
  },
  {
   "cell_type": "markdown",
   "id": "6622777f-cb8b-4d54-aa79-bae4b0d5f890",
   "metadata": {},
   "source": [
    "### Read single cell and bulk data"
   ]
  },
  {
   "cell_type": "code",
   "execution_count": 14,
   "id": "9545aa78-7421-421c-872b-ccf5f6fd5d12",
   "metadata": {},
   "outputs": [],
   "source": [
    "adata = sc.read(data_path + '../../lupus/Lupus_study_adjusted_counts.h5ad')"
   ]
  },
  {
   "cell_type": "code",
   "execution_count": 50,
   "id": "01da759a-89de-42bc-ab47-58ab464fa1d4",
   "metadata": {},
   "outputs": [],
   "source": [
    "bulk = pd.read_csv(data_path + 'lupus_bulk.csv', index_col=0)"
   ]
  },
  {
   "cell_type": "code",
   "execution_count": 16,
   "id": "e9a01705-b2c9-432b-ae21-e921d3561e0c",
   "metadata": {},
   "outputs": [],
   "source": [
    "def get_sc_ind(x):\n",
    "    \n",
    "    if '-' in x:\n",
    "        return x.split('-')[1]\n",
    "    elif '_' in x:\n",
    "        return x.split('_')[0]\n",
    "    else:\n",
    "        return x"
   ]
  },
  {
   "cell_type": "code",
   "execution_count": 17,
   "id": "bda3c017-410b-4fdd-bc74-b3dea1cfd8e5",
   "metadata": {},
   "outputs": [],
   "source": [
    "meta = adata.obs[['ind_cov', 'Age', 'Sex', 'SLE_status']].drop_duplicates().reset_index(drop=True)\n",
    "meta['ind'] = meta['ind_cov'].apply(get_sc_ind)"
   ]
  },
  {
   "cell_type": "code",
   "execution_count": 18,
   "id": "2884e46b-f172-4810-827e-c580a8701691",
   "metadata": {},
   "outputs": [],
   "source": [
    "sc_inds = set(meta['ind'].tolist())"
   ]
  },
  {
   "cell_type": "code",
   "execution_count": 19,
   "id": "222416be-e3b0-45ca-b189-cce2969f9876",
   "metadata": {},
   "outputs": [],
   "source": [
    "bulk_inds = set(bulk.columns.str.split('_').str[1].tolist())"
   ]
  },
  {
   "cell_type": "code",
   "execution_count": 20,
   "id": "76005f97-1a14-44fe-940d-367feca93b14",
   "metadata": {},
   "outputs": [],
   "source": [
    "inds = list(sc_inds & bulk_inds)"
   ]
  },
  {
   "cell_type": "code",
   "execution_count": 21,
   "id": "3b1b583f-bbce-4648-ba9b-e0d0d247ed51",
   "metadata": {},
   "outputs": [],
   "source": [
    "meta = meta[meta['ind'].isin(inds)]"
   ]
  },
  {
   "cell_type": "code",
   "execution_count": 22,
   "id": "5e2c97f4-5ba3-47aa-9b14-99de39dbd138",
   "metadata": {},
   "outputs": [],
   "source": [
    "genes = list(set(bulk.index) & set(adata.var.index))"
   ]
  },
  {
   "cell_type": "markdown",
   "id": "452ef7f1-d380-453d-8440-15d7a59bb421",
   "metadata": {},
   "source": [
    "### Different estimators"
   ]
  },
  {
   "cell_type": "code",
   "execution_count": 27,
   "id": "8fb3d5cc-2f84-4beb-888e-ef533d0bb4b0",
   "metadata": {},
   "outputs": [],
   "source": [
    "adata.obs['ind'] = adata.obs['ind_cov'].apply(get_sc_ind)"
   ]
  },
  {
   "cell_type": "code",
   "execution_count": 63,
   "id": "f646e8fe-c5be-47e2-8cf8-bc471182be7c",
   "metadata": {},
   "outputs": [],
   "source": [
    "def pseudobulk(data):\n",
    "    \n",
    "    return data.sum(axis=0)/data.sum()\n",
    "\n",
    "def sample_mean(data):\n",
    "    sf = data.sum(axis=1).reshape(-1,1)\n",
    "    return (data/sf).mean(axis=0)\n",
    "\n",
    "def iv_mean(data):\n",
    "\n",
    "    q=0.07\n",
    "    augmented_data = np.append(data, np.ones((1,data.shape[1])), axis=0)\n",
    "    sf = augmented_data.sum(axis=1)\n",
    "    X = augmented_data/sf.reshape(-1,1)\n",
    "    naive_v = X.var(axis=0)\n",
    "    naive_m = X.mean(axis=0)\n",
    "    v = naive_v-(1-q)*(X/(sf**2-sf*(1-q)).reshape(-1,1)).mean(axis=0)\n",
    "    variance_contributions = ((1-q)/sf).reshape(-1,1)*naive_m.reshape(1,-1) + v.reshape(1,-1)\n",
    "    m = np.average( X, weights=1/variance_contributions, axis=0)\n",
    "    \n",
    "    return m"
   ]
  },
  {
   "cell_type": "code",
   "execution_count": 26,
   "id": "bec15fd9-133b-4737-87df-611212a4cc98",
   "metadata": {},
   "outputs": [],
   "source": [
    "ct = 'T4'"
   ]
  },
  {
   "cell_type": "code",
   "execution_count": 45,
   "id": "39fcb6fc-6d20-4372-8969-9b148fed0aad",
   "metadata": {},
   "outputs": [],
   "source": [
    "compare_genes = adata[(adata.obs['cg_cov']==ct), genes].X.mean(axis=0).A1\n",
    "compare_genes = list(np.array(genes)[(compare_genes > 0.01)])"
   ]
  },
  {
   "cell_type": "code",
   "execution_count": 68,
   "id": "16af737b-65a7-450f-9888-afcb4f8a1f11",
   "metadata": {},
   "outputs": [],
   "source": [
    "results = []\n",
    "for ind in inds:\n",
    "    \n",
    "    sc_data = adata[(adata.obs['ind']==ind) & (adata.obs['cg_cov']==ct), compare_genes].X.toarray()\n",
    "    \n",
    "    pb = pseudobulk(sc_data)\n",
    "    sm = sample_mean(sc_data)\n",
    "    im = iv_mean(sc_data)\n",
    "    ind_bulk = bulk.loc[compare_genes, 'CD4_'+ind]\n",
    "    results.append((stats.spearmanr(ind_bulk, pb)[0], 'pseudobulk'))\n",
    "    results.append((stats.spearmanr(ind_bulk, sm)[0], 'sample_mean'))\n",
    "    results.append((stats.spearmanr(ind_bulk, im)[0], 'iv_mean'))\n",
    "results = pd.DataFrame(results, columns=['corr', 'method'])"
   ]
  },
  {
   "cell_type": "code",
   "execution_count": 70,
   "id": "39c29866-ee56-4907-a134-5fb8b2376a3e",
   "metadata": {},
   "outputs": [
    {
     "data": {
      "text/plain": [
       "<AxesSubplot: xlabel='method', ylabel='corr'>"
      ]
     },
     "execution_count": 70,
     "metadata": {},
     "output_type": "execute_result"
    },
    {
     "data": {
      "image/png": "[encoded data removed]",
      "text/plain": [
       "<Figure size 640x480 with 1 Axes>"
      ]
     },
     "metadata": {},
     "output_type": "display_data"
    }
   ],
   "source": [
    "sns.barplot(x='method', y='corr', data=results)"
   ]
  }
 ],
 "metadata": {
  "kernelspec": {
   "display_name": "Python 3 (ipykernel)",
   "language": "python",
   "name": "python3"
  },
  "language_info": {
   "codemirror_mode": {
    "name": "ipython",
    "version": 3
   },
   "file_extension": ".py",
   "mimetype": "text/x-python",
   "name": "python",
   "nbconvert_exporter": "python",
   "pygments_lexer": "ipython3",
   "version": "3.8.16"
  }
 },
 "nbformat": 4,
 "nbformat_minor": 5
}
