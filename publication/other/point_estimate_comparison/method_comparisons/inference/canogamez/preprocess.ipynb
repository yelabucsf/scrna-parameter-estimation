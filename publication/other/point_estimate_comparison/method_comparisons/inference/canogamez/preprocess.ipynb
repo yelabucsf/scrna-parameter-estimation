{
 "cells": [
  {
   "cell_type": "markdown",
   "id": "aa174989-fe21-4e72-9bfe-bb9b65d0909c",
   "metadata": {},
   "source": [
    "# Preprocess Cano Gamez dataset"
   ]
  },
  {
   "cell_type": "code",
   "execution_count": 1,
   "id": "391d5698-1596-4227-933f-348084fef58b",
   "metadata": {},
   "outputs": [],
   "source": [
    "import scanpy as sc\n",
    "import pandas as pd\n",
    "import itertools\n",
    "import scipy.io as io\n",
    "import numpy as np"
   ]
  },
  {
   "cell_type": "code",
   "execution_count": 2,
   "id": "5b1dbfc0-a542-4fc6-b884-33f44107058c",
   "metadata": {},
   "outputs": [],
   "source": [
    "data_path = '/data_volume/memento/method_comparison/canogamez/'"
   ]
  },
  {
   "cell_type": "code",
   "execution_count": 3,
   "id": "25be7bad-d46e-4e95-b922-bd57a687a6fa",
   "metadata": {},
   "outputs": [],
   "source": [
    "file_prefix = 'NCOMMS-19-7936188'"
   ]
  },
  {
   "cell_type": "markdown",
   "id": "638d6b66-5283-4406-ae3f-de57c840d002",
   "metadata": {},
   "source": [
    "### Define datasets"
   ]
  },
  {
   "cell_type": "code",
   "execution_count": 5,
   "id": "310dc3a5-21d4-4a8a-b7c1-07b92625a55a",
   "metadata": {},
   "outputs": [],
   "source": [
    "bulk_metadata = pd.read_csv(data_path + 'raw_data/NCOMMS-19-7936188_bulk_RNAseq_metadata.txt', sep='\\t')\\\n",
    "    .query('stimulation_time == \"5d\"')\n"
   ]
  },
  {
   "cell_type": "code",
   "execution_count": 6,
   "id": "eecdd170-3288-48f2-b572-61140291409d",
   "metadata": {},
   "outputs": [],
   "source": [
    "conditions = [ 'Th0', 'Th2', 'Th17', 'iTreg']\n",
    "celltypes = ['CD4_Memory', 'CD4_Naive']\n",
    "times = ['5d', '16h']"
   ]
  },
  {
   "cell_type": "code",
   "execution_count": 7,
   "id": "528bad20-e8ef-457c-8f2f-9409804bdb29",
   "metadata": {},
   "outputs": [],
   "source": [
    "datasets = ['{}-{}'.format(a,b) for a,b in list(itertools.product(celltypes, conditions))]"
   ]
  },
  {
   "cell_type": "code",
   "execution_count": 8,
   "id": "0e357929-7c25-45e0-9805-f0b768c05826",
   "metadata": {},
   "outputs": [],
   "source": [
    "# cell.type  cytokine.condition\n",
    "# Memory     Th0                   4766\n",
    "#            Th17                  5267\n",
    "#            Th2                   2893\n",
    "#            UNS                   3110\n",
    "#            iTreg                 6131\n",
    "# Naive      Th0                   2543\n",
    "#            Th17                  5615\n",
    "#            Th2                   4040\n",
    "#            UNS                   2159\n",
    "#            iTreg                 6588"
   ]
  },
  {
   "cell_type": "code",
   "execution_count": 9,
   "id": "5f69d4be-3696-47e8-b060-e6ba5c0cdaca",
   "metadata": {},
   "outputs": [
    {
     "data": {
      "text/plain": [
       "['CD4_Memory-Th0',\n",
       " 'CD4_Memory-Th2',\n",
       " 'CD4_Memory-Th17',\n",
       " 'CD4_Memory-iTreg',\n",
       " 'CD4_Naive-Th0',\n",
       " 'CD4_Naive-Th2',\n",
       " 'CD4_Naive-Th17',\n",
       " 'CD4_Naive-iTreg']"
      ]
     },
     "execution_count": 9,
     "metadata": {},
     "output_type": "execute_result"
    }
   ],
   "source": [
    "datasets"
   ]
  },
  {
   "cell_type": "markdown",
   "id": "212ecdaf-e8b3-41d3-a591-94027f5472e7",
   "metadata": {},
   "source": [
    "### Organize bulk dataset"
   ]
  },
  {
   "cell_type": "code",
   "execution_count": 116,
   "id": "6b111a73-3a6e-4389-a2e6-8343f69d8966",
   "metadata": {},
   "outputs": [],
   "source": [
    "bulk_data = pd.read_csv(data_path + 'raw_data/NCOMMS-19-7936188_bulk_RNAseq_raw_counts.txt', sep='\\t')"
   ]
  },
  {
   "cell_type": "code",
   "execution_count": 117,
   "id": "c334ad08-d61f-42c6-b46f-d35b64065c4d",
   "metadata": {},
   "outputs": [],
   "source": [
    "bulk_metadata['donor_id'] = 'd' + bulk_metadata['donor_id'].astype('str')"
   ]
  },
  {
   "cell_type": "code",
   "execution_count": 118,
   "id": "fd44f194-7600-4386-8a1a-3e6b2f0e811f",
   "metadata": {},
   "outputs": [],
   "source": [
    "for dataset in datasets:\n",
    "    \n",
    "    ct, stim = dataset.split('-')\n",
    "    stims = [stim, 'Resting']\n",
    "    dataset_metadata = bulk_metadata\\\n",
    "        .query('cell_type==\"{}\" & cytokine_condition in @stims'.format(ct, stim))\n",
    "    dataset_counts = bulk_data[dataset_metadata.sample_id]\n",
    "    \n",
    "    dataset_metadata.to_csv(data_path + 'bulk/{}_metadata.csv'.format(dataset),index=False)\n",
    "    dataset_counts.to_csv(data_path + 'bulk/{}_counts.csv'.format(dataset))"
   ]
  },
  {
   "cell_type": "code",
   "execution_count": 155,
   "id": "a9879c25-64a9-4272-b726-fef5b22fb6f7",
   "metadata": {},
   "outputs": [
    {
     "data": {
      "text/html": [
       "<div>\n",
       "<style scoped>\n",
       "    .dataframe tbody tr th:only-of-type {\n",
       "        vertical-align: middle;\n",
       "    }\n",
       "\n",
       "    .dataframe tbody tr th {\n",
       "        vertical-align: top;\n",
       "    }\n",
       "\n",
       "    .dataframe thead th {\n",
       "        text-align: right;\n",
       "    }\n",
       "</style>\n",
       "<table border=\"1\" class=\"dataframe\">\n",
       "  <thead>\n",
       "    <tr style=\"text-align: right;\">\n",
       "      <th></th>\n",
       "      <th>sample_id</th>\n",
       "      <th>cell_type</th>\n",
       "      <th>cytokine_condition</th>\n",
       "      <th>stimulation_time</th>\n",
       "      <th>donor_id</th>\n",
       "      <th>sex</th>\n",
       "      <th>age</th>\n",
       "      <th>sequencing_batch</th>\n",
       "      <th>cell_culture_batch</th>\n",
       "      <th>rna_integrity_number</th>\n",
       "    </tr>\n",
       "  </thead>\n",
       "  <tbody>\n",
       "    <tr>\n",
       "      <th>24</th>\n",
       "      <td>I0735</td>\n",
       "      <td>CD4_Naive</td>\n",
       "      <td>Resting</td>\n",
       "      <td>5d</td>\n",
       "      <td>d254</td>\n",
       "      <td>Male</td>\n",
       "      <td>58</td>\n",
       "      <td>1</td>\n",
       "      <td>3</td>\n",
       "      <td>8.0</td>\n",
       "    </tr>\n",
       "    <tr>\n",
       "      <th>38</th>\n",
       "      <td>I0751</td>\n",
       "      <td>CD4_Naive</td>\n",
       "      <td>Resting</td>\n",
       "      <td>5d</td>\n",
       "      <td>d257</td>\n",
       "      <td>Male</td>\n",
       "      <td>38</td>\n",
       "      <td>1</td>\n",
       "      <td>3</td>\n",
       "      <td>9.9</td>\n",
       "    </tr>\n",
       "    <tr>\n",
       "      <th>102</th>\n",
       "      <td>I0815</td>\n",
       "      <td>CD4_Naive</td>\n",
       "      <td>Resting</td>\n",
       "      <td>5d</td>\n",
       "      <td>d255</td>\n",
       "      <td>Male</td>\n",
       "      <td>53</td>\n",
       "      <td>2</td>\n",
       "      <td>3</td>\n",
       "      <td>8.3</td>\n",
       "    </tr>\n",
       "    <tr>\n",
       "      <th>103</th>\n",
       "      <td>I0816</td>\n",
       "      <td>CD4_Naive</td>\n",
       "      <td>iTreg</td>\n",
       "      <td>5d</td>\n",
       "      <td>d254</td>\n",
       "      <td>Male</td>\n",
       "      <td>58</td>\n",
       "      <td>2</td>\n",
       "      <td>3</td>\n",
       "      <td>10.0</td>\n",
       "    </tr>\n",
       "    <tr>\n",
       "      <th>108</th>\n",
       "      <td>I0821</td>\n",
       "      <td>CD4_Naive</td>\n",
       "      <td>iTreg</td>\n",
       "      <td>5d</td>\n",
       "      <td>d257</td>\n",
       "      <td>Male</td>\n",
       "      <td>38</td>\n",
       "      <td>2</td>\n",
       "      <td>3</td>\n",
       "      <td>9.8</td>\n",
       "    </tr>\n",
       "    <tr>\n",
       "      <th>165</th>\n",
       "      <td>I0878</td>\n",
       "      <td>CD4_Naive</td>\n",
       "      <td>iTreg</td>\n",
       "      <td>5d</td>\n",
       "      <td>d255</td>\n",
       "      <td>Male</td>\n",
       "      <td>53</td>\n",
       "      <td>2</td>\n",
       "      <td>3</td>\n",
       "      <td>10.0</td>\n",
       "    </tr>\n",
       "  </tbody>\n",
       "</table>\n",
       "</div>"
      ],
      "text/plain": [
       "    sample_id  cell_type cytokine_condition stimulation_time donor_id   sex   \n",
       "24      I0735  CD4_Naive            Resting               5d     d254  Male  \\\n",
       "38      I0751  CD4_Naive            Resting               5d     d257  Male   \n",
       "102     I0815  CD4_Naive            Resting               5d     d255  Male   \n",
       "103     I0816  CD4_Naive              iTreg               5d     d254  Male   \n",
       "108     I0821  CD4_Naive              iTreg               5d     d257  Male   \n",
       "165     I0878  CD4_Naive              iTreg               5d     d255  Male   \n",
       "\n",
       "     age  sequencing_batch  cell_culture_batch  rna_integrity_number  \n",
       "24    58                 1                   3                   8.0  \n",
       "38    38                 1                   3                   9.9  \n",
       "102   53                 2                   3                   8.3  \n",
       "103   58                 2                   3                  10.0  \n",
       "108   38                 2                   3                   9.8  \n",
       "165   53                 2                   3                  10.0  "
      ]
     },
     "execution_count": 155,
     "metadata": {},
     "output_type": "execute_result"
    }
   ],
   "source": [
    "dataset_metadata"
   ]
  },
  {
   "cell_type": "markdown",
   "id": "71610b31-f1c2-4e19-83ac-e0d2b6ff49cf",
   "metadata": {},
   "source": [
    "### Make adata and pseudobulks"
   ]
  },
  {
   "cell_type": "code",
   "execution_count": 75,
   "id": "1498b270-1ebf-432f-ba76-948e458d5065",
   "metadata": {},
   "outputs": [],
   "source": [
    "genes = pd.read_csv(data_path + 'raw_data/NCOMMS-19-7936188_scRNAseq_genes.tsv', sep='\\t', header=None, index_col=0)\n",
    "barcodes = pd.read_csv(data_path + 'raw_data/NCOMMS-19-7936188_scRNAseq_barcodes.tsv', sep='\\t', header=None, index_col=0)"
   ]
  },
  {
   "cell_type": "code",
   "execution_count": 76,
   "id": "c2d77487-0e36-4108-82fb-7088f004c2ca",
   "metadata": {},
   "outputs": [],
   "source": [
    "sc_metadata = pd.read_csv(data_path + 'raw_data/NCOMMS-19-7936188_metadata.txt', sep='\\t')"
   ]
  },
  {
   "cell_type": "code",
   "execution_count": 61,
   "id": "c5ae4620-dfe7-4c32-a375-eb54d5ef3a9b",
   "metadata": {},
   "outputs": [],
   "source": [
    "matrix = io.mmread(data_path + 'raw_data/NCOMMS-19-7936188_scRNAseq_matrix.mtx')"
   ]
  },
  {
   "cell_type": "code",
   "execution_count": 104,
   "id": "96e14a66-d7ec-4130-9fcb-a4d49e452c38",
   "metadata": {},
   "outputs": [],
   "source": [
    "adata = sc.AnnData(X=matrix.tocsr().T, obs=sc_metadata, var=genes)"
   ]
  },
  {
   "cell_type": "code",
   "execution_count": 135,
   "id": "d0fae225-0c10-45c9-9b9b-b887f4ebbd99",
   "metadata": {},
   "outputs": [],
   "source": [
    "adata.var.index.name= 'Gene'"
   ]
  },
  {
   "cell_type": "code",
   "execution_count": 121,
   "id": "10fe784f-b774-4d36-831e-2eb3b335c583",
   "metadata": {},
   "outputs": [],
   "source": [
    "adata.obs['cell.type'] = 'CD4_' + adata.obs['cell.type']"
   ]
  },
  {
   "cell_type": "code",
   "execution_count": 132,
   "id": "8f1a23df-9a1f-4c6e-85c6-9d2e19d56de5",
   "metadata": {},
   "outputs": [],
   "source": [
    "dataset_adata = adata[(adata.obs['cell.type']==ct) & adata.obs['cytokine.condition'].isin([stim, 'UNS'])]"
   ]
  },
  {
   "cell_type": "code",
   "execution_count": 159,
   "id": "69e8ec1a-4dc3-4dc1-9153-7182e22b9bf2",
   "metadata": {},
   "outputs": [
    {
     "name": "stderr",
     "output_type": "stream",
     "text": [
      "/home/ssm-user/anaconda3/envs/single_cell/lib/python3.10/site-packages/anndata/_core/anndata.py:1755: FutureWarning: The AnnData.concatenate method is deprecated in favour of the anndata.concat function. Please use anndata.concat instead.\n",
      "\n",
      "See the tutorial for concat at: https://anndata.readthedocs.io/en/latest/concatenation.html\n",
      "  warnings.warn(\n",
      "/home/ssm-user/anaconda3/envs/single_cell/lib/python3.10/site-packages/anndata/_core/anndata.py:1755: FutureWarning: The AnnData.concatenate method is deprecated in favour of the anndata.concat function. Please use anndata.concat instead.\n",
      "\n",
      "See the tutorial for concat at: https://anndata.readthedocs.io/en/latest/concatenation.html\n",
      "  warnings.warn(\n",
      "/home/ssm-user/anaconda3/envs/single_cell/lib/python3.10/site-packages/anndata/_core/anndata.py:1755: FutureWarning: The AnnData.concatenate method is deprecated in favour of the anndata.concat function. Please use anndata.concat instead.\n",
      "\n",
      "See the tutorial for concat at: https://anndata.readthedocs.io/en/latest/concatenation.html\n",
      "  warnings.warn(\n",
      "/home/ssm-user/anaconda3/envs/single_cell/lib/python3.10/site-packages/anndata/_core/anndata.py:1755: FutureWarning: The AnnData.concatenate method is deprecated in favour of the anndata.concat function. Please use anndata.concat instead.\n",
      "\n",
      "See the tutorial for concat at: https://anndata.readthedocs.io/en/latest/concatenation.html\n",
      "  warnings.warn(\n",
      "/home/ssm-user/anaconda3/envs/single_cell/lib/python3.10/site-packages/anndata/_core/anndata.py:1755: FutureWarning: The AnnData.concatenate method is deprecated in favour of the anndata.concat function. Please use anndata.concat instead.\n",
      "\n",
      "See the tutorial for concat at: https://anndata.readthedocs.io/en/latest/concatenation.html\n",
      "  warnings.warn(\n",
      "/home/ssm-user/anaconda3/envs/single_cell/lib/python3.10/site-packages/anndata/_core/anndata.py:1755: FutureWarning: The AnnData.concatenate method is deprecated in favour of the anndata.concat function. Please use anndata.concat instead.\n",
      "\n",
      "See the tutorial for concat at: https://anndata.readthedocs.io/en/latest/concatenation.html\n",
      "  warnings.warn(\n",
      "/home/ssm-user/anaconda3/envs/single_cell/lib/python3.10/site-packages/anndata/_core/anndata.py:1755: FutureWarning: The AnnData.concatenate method is deprecated in favour of the anndata.concat function. Please use anndata.concat instead.\n",
      "\n",
      "See the tutorial for concat at: https://anndata.readthedocs.io/en/latest/concatenation.html\n",
      "  warnings.warn(\n",
      "/home/ssm-user/anaconda3/envs/single_cell/lib/python3.10/site-packages/anndata/_core/anndata.py:1755: FutureWarning: The AnnData.concatenate method is deprecated in favour of the anndata.concat function. Please use anndata.concat instead.\n",
      "\n",
      "See the tutorial for concat at: https://anndata.readthedocs.io/en/latest/concatenation.html\n",
      "  warnings.warn(\n"
     ]
    }
   ],
   "source": [
    "for dataset in datasets:\n",
    "    \n",
    "    ct, stim = dataset.split('-')\n",
    "    \n",
    "    dataset_adata = adata[(adata.obs['cell.type']==ct) & adata.obs['cytokine.condition'].isin([stim, 'UNS'])]\n",
    "    \n",
    "    pseudobulks = []\n",
    "    names = []\n",
    "    adata_list = []\n",
    "    meta = []\n",
    "    for ind in ['D1', 'D2', 'D3', 'D4']:\n",
    "        for s in [stim, 'UNS']:\n",
    "            \n",
    "            group_adata = dataset_adata[(dataset_adata.obs['cytokine.condition']==s) & (dataset_adata.obs['donor.id']==ind)]\n",
    "            if group_adata.shape[0] < 100:\n",
    "                continue\n",
    "            # sc.pp.subsample(group_adata, n_obs=100)\n",
    "            adata_list.append(group_adata.copy())\n",
    "            pseudobulks.append( group_adata.X.sum(axis=0).A1)\n",
    "            names.append(s + '_' + ind )\n",
    "            meta.append((s,ind))\n",
    "    sc_data = sc.AnnData.concatenate(*adata_list)\n",
    "    pseudobulks = np.vstack(pseudobulks)\n",
    "    pseudobulks = pd.DataFrame(pseudobulks.T, columns=names, index=adata.var.index.tolist())\n",
    "    meta = pd.DataFrame(meta, columns=['cytokine_condition', 'donor_id'], index=names)\n",
    "    \n",
    "    sc_data.write(data_path + 'single_cell/{}_1.h5ad'.format(dataset))\n",
    "    pseudobulks.to_csv(data_path + 'pseudobulks/{}_1.csv'.format(dataset))\n",
    "    meta.to_csv(data_path + 'pseudobulks/{}_meta_1.csv'.format(dataset))"
   ]
  },
  {
   "cell_type": "markdown",
   "id": "661905f1-f56b-4e18-b965-01c1ca5de6c9",
   "metadata": {},
   "source": [
    "### Generate the dense matrices for MAST"
   ]
  },
  {
   "cell_type": "code",
   "execution_count": 10,
   "id": "d12fe28e-9c9a-4e2e-8b01-5a8b41333e86",
   "metadata": {},
   "outputs": [],
   "source": [
    "for dataset in datasets:\n",
    "\t\t\t\n",
    "\t\tadata = sc.read(data_path + 'single_cell/{}_1.h5ad'.format(dataset))\n",
    "\n",
    "\t\texpr_df = pd.DataFrame(adata.X.toarray(), columns=adata.var.index, index=adata.obs.index)\n",
    "\n",
    "\t\texpr_df.to_csv(data_path + 'single_cell/{}_1_expr.csv'.format(dataset, ))\n",
    "\t\tadata.obs.to_csv(data_path + 'single_cell/{}_1_obs.csv'.format(dataset, ))\n",
    "\t\tadata.var.to_csv(data_path + 'single_cell/{}_1_var.csv'.format(dataset, ))\n",
    "\t\t"
   ]
  },
  {
   "cell_type": "code",
   "execution_count": null,
   "id": "b0a60cd3-7228-4287-8f77-df3ae1b0865b",
   "metadata": {},
   "outputs": [],
   "source": []
  }
 ],
 "metadata": {
  "kernelspec": {
   "display_name": "Python (single_cell)",
   "language": "python",
   "name": "single_cell"
  },
  "language_info": {
   "codemirror_mode": {
    "name": "ipython",
    "version": 3
   },
   "file_extension": ".py",
   "mimetype": "text/x-python",
   "name": "python",
   "nbconvert_exporter": "python",
   "pygments_lexer": "ipython3",
   "version": "3.10.11"
  }
 },
 "nbformat": 4,
 "nbformat_minor": 5
}
