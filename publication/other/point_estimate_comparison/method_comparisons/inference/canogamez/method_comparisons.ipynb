{
 "cells": [
  {
   "cell_type": "markdown",
   "id": "fba17c8b-8a53-47d7-85b0-e64e9aa539c0",
   "metadata": {},
   "source": [
    "# Compare methods using Cano Gamez data"
   ]
  },
  {
   "cell_type": "code",
   "execution_count": 1,
   "id": "393a9dde-7e6f-4d49-9fbf-66e7684724cf",
   "metadata": {
    "tags": []
   },
   "outputs": [],
   "source": [
    "import pandas as pd\n",
    "import matplotlib.pyplot as plt\n",
    "import seaborn as sns\n",
    "import scipy.stats as stats\n",
    "import functools\n",
    "import numpy as np\n",
    "import scanpy as sc\n",
    "pd.set_option('display.max_rows', 100)"
   ]
  },
  {
   "cell_type": "code",
   "execution_count": 2,
   "id": "767b6f6e-cc37-45c7-8868-08f6bf8afa7b",
   "metadata": {
    "tags": []
   },
   "outputs": [],
   "source": [
    "data_path = '/data_volume/memento/method_comparison/canogamez/'"
   ]
  },
  {
   "cell_type": "code",
   "execution_count": 3,
   "id": "5230921c-9683-4ab3-b6f0-7f6a7d3de790",
   "metadata": {},
   "outputs": [],
   "source": [
    "import sys\n",
    "sys.path.append('/home/ssm-user/Github/scrna-parameter-estimation/dist/memento-0.1.0-py3.10.egg')\n",
    "import memento"
   ]
  },
  {
   "cell_type": "code",
   "execution_count": 4,
   "id": "811b4d06-0897-496b-b136-ad32032d469c",
   "metadata": {
    "tags": []
   },
   "outputs": [],
   "source": [
    "import matplotlib as mpl\n",
    "mpl.rcParams['pdf.fonttype'] = 42\n",
    "mpl.rcParams['ps.fonttype'] = 42\n",
    "plt.rcParams[\"axes.prop_cycle\"] = plt.cycler(\"color\", ['turquoise', 'slategrey', 'silver'])\n",
    "\n",
    "import matplotlib.pylab as pylab\n",
    "params = {'legend.fontsize': 'medium',\n",
    "         'axes.labelsize': 'medium',\n",
    "         'axes.titlesize':'medium',\n",
    "         'figure.titlesize':'medium',\n",
    "         'xtick.labelsize':'medium',\n",
    "         'ytick.labelsize':'medium'}\n",
    "pylab.rcParams.update(params)"
   ]
  },
  {
   "cell_type": "code",
   "execution_count": 5,
   "id": "0c03fc13-ff5d-49c7-842e-20dc95cebe00",
   "metadata": {
    "tags": []
   },
   "outputs": [],
   "source": [
    "pal = [(64/255,224/255,208/255)]+sns.color_palette(\"Greys\", 10)[4:]"
   ]
  },
  {
   "cell_type": "markdown",
   "id": "d6731eb1-461a-4269-96ec-e06ef9694d89",
   "metadata": {},
   "source": [
    "### Compute the concordance curve"
   ]
  },
  {
   "cell_type": "code",
   "execution_count": 6,
   "id": "5ac7d1ae-caa7-4e11-bc5f-72c85012fd3e",
   "metadata": {
    "tags": []
   },
   "outputs": [],
   "source": [
    "def concordance_curve(refs, x, k=300):\n",
    "    overlap = []\n",
    "    for i in range(1, k+1):\n",
    "        \n",
    "        ref_total = 0\n",
    "        for ref in refs:\n",
    "            ref_total += len(set(x[:i]) & set(ref[:i]))\n",
    "        overlap.append(ref_total/len(refs))\n",
    "        \n",
    "    return np.arange(1, k+1), np.array(overlap)"
   ]
  },
  {
   "cell_type": "code",
   "execution_count": 7,
   "id": "a099f667-3998-418a-9765-0c178099dc60",
   "metadata": {
    "tags": []
   },
   "outputs": [],
   "source": [
    "def concordance_auc(refs, x, k=300):\n",
    "    count = 0\n",
    "    for i in range(1, k+1):\n",
    "        \n",
    "        ref_total = 0\n",
    "        for ref in refs:\n",
    "            ref_total += len(set(x[:i]) & set(ref[:i]))\n",
    "            \n",
    "        count += ref_total/len(refs)\n",
    "        \n",
    "    return count / (k*(k+1)/2)"
   ]
  },
  {
   "cell_type": "markdown",
   "id": "79affe65-992d-455e-8447-bc4a1dc37194",
   "metadata": {},
   "source": [
    "### Read results - cell type comparison"
   ]
  },
  {
   "cell_type": "code",
   "execution_count": 11,
   "id": "804bf91d-8fb9-4915-aee2-fbb6886c47ab",
   "metadata": {
    "tags": []
   },
   "outputs": [],
   "source": [
    "datasets = [\n",
    "    'CD4_Memory-Th0',\n",
    "    'CD4_Memory-Th2',\n",
    "    'CD4_Memory-Th17',\n",
    "    'CD4_Memory-iTreg',\n",
    "    'CD4_Naive-Th0',\n",
    "    'CD4_Naive-Th2',\n",
    "    'CD4_Naive-Th17',\n",
    "    'CD4_Naive-iTreg'\n",
    "]\n",
    "\n",
    "bulk_methods = [\n",
    "    ('deseq2_lrt',['log2FoldChange', 'pvalue', 'padj']),\n",
    "    ('deseq2_wald',['log2FoldChange', 'pvalue', 'padj']),\n",
    "    ('edger_lrt',['logFC', 'PValue', 'FDR']),\n",
    "    ('edger_qlft',['logFC', 'PValue', 'FDR']),\n",
    "    # ('bulk_limma,mode?voom',['gene', 'logFC', 'P.Value', 'adj.P.Val'])\n",
    "]\n",
    "\n",
    "sc_methods = [ \n",
    "    # ('LR',['gene','avg_log2FC', 'p_val', 'p_val_adj']),\n",
    "    # ('MAST',['gene','avg_log2FC', 'p_val', 'p_val_adj']),\n",
    "    # ('bimod',['gene','avg_log2FC', 'p_val', 'p_val_adj']),\n",
    "    # ('negbinom',['gene','avg_log2FC', 'p_val', 'p_val_adj']),\n",
    "    # ('poisson',['gene','avg_log2FC', 'p_val', 'p_val_adj']),\n",
    "    # ('deseq2_lrt',['log2FoldChange', 'pvalue', 'p_val_adj']),\n",
    "    ('deseq2_wald',['log2FoldChange', 'pvalue', 'padj']),\n",
    "    ('edger_lrt',['logFC', 'PValue', 'FDR']),\n",
    "    ('edger_qlft',['logFC', 'PValue', 'FDR']),\n",
    "    # ('pseudobulk_limma,mode?voom',['gene','avg_logFC', 'p_val', 'p_val_adj']),\n",
    "    # ('t',['gene','avg_log2FC', 'p_val', 'p_val_adj']),\n",
    "    # ('wilcox',['gene','avg_log2FC', 'p_val', 'p_val_adj']),\n",
    "    ('memento_glm',['logFC', 'PValue', 'FDR']), # full cells\n",
    "    ('MAST', ['coef', 'Pr(>Chisq)','fdr']),\n",
    "    ('t-test',['logFC', 'PValue', 'FDR']),\n",
    "    ('MWU',['logFC', 'PValue', 'FDR']),\n",
    "    # ('memento_glm_vanilla',['logFC', 'PValue', 'FDR']), # full cells\n",
    "\n",
    "]"
   ]
  },
  {
   "cell_type": "code",
   "execution_count": 12,
   "id": "ce8970c6-189b-4092-85fb-f4f03f0ad161",
   "metadata": {},
   "outputs": [],
   "source": [
    "conversion = pd.read_csv('conversion.txt', sep='\\t', header=None)\n",
    "conversion_dict = dict(zip(conversion.iloc[:, 0], conversion.iloc[:, 1]))"
   ]
  },
  {
   "cell_type": "code",
   "execution_count": 13,
   "id": "330ba70e-3757-4829-ba7c-590293050b68",
   "metadata": {
    "tags": []
   },
   "outputs": [
    {
     "name": "stdout",
     "output_type": "stream",
     "text": [
      "CD4_Memory-Th0\n",
      "CD4_Memory-Th2\n",
      "CD4_Memory-Th17\n",
      "CD4_Memory-iTreg\n",
      "CD4_Naive-Th0\n",
      "CD4_Naive-Th2\n",
      "CD4_Naive-Th17\n",
      "CD4_Naive-iTreg\n"
     ]
    }
   ],
   "source": [
    "def read_bulk_dataset(dataset, method, cols):\n",
    "    \n",
    "    df = pd.read_csv(data_path + 'bulk_results/{}_{}.csv'.format(dataset, method), index_col=0)[cols]\n",
    "    df.columns = ['logFC','PValue', 'FDR']\n",
    "    df.index = [conversion_dict[x] for x in df.index]\n",
    "    # df.index = df['gene']\n",
    "    return df\n",
    "\n",
    "def read_sc_dataset(dataset, method, cols, trial):\n",
    "    \n",
    "    df = pd.read_csv(data_path +  'sc_results/{}_{}_{}.csv'.format(dataset, trial, method), index_col=0)[cols]\n",
    "    df.columns = ['logFC','PValue', 'FDR']\n",
    "    # df.index = df['gene']\n",
    "    return df\n",
    "\n",
    "all_results = []\n",
    "for dataset in datasets:\n",
    "    print(dataset)\n",
    "    for trial in range(1,1+1):\n",
    "        \n",
    "        bulk_results = [read_bulk_dataset(dataset, method, cols) for method, cols in bulk_methods]\n",
    "\n",
    "        sc_results = [read_sc_dataset(dataset, method, cols, trial) for method, cols in sc_methods]\n",
    "\n",
    "        gene_list = [set(res.index) for res in sc_results] + [set(res.index) for res in bulk_results]\n",
    "        genes = list(functools.reduce(lambda x,y: x & y, gene_list))\n",
    "\n",
    "        bulk_results = [res.loc[genes].sort_values('FDR') for res in bulk_results]\n",
    "        sc_results = [res.loc[genes].sort_values('FDR') for res in sc_results]\n",
    "\n",
    "        scores = [(sc_methods[idx][0], dataset, trial, concordance_auc([b_res.index for b_res in bulk_results], res.index, k=100)) for idx, res in enumerate(sc_results)]\n",
    "        all_results+=scores"
   ]
  },
  {
   "cell_type": "code",
   "execution_count": 14,
   "id": "e0e0c35b-0b31-43df-926c-e4ee30063d25",
   "metadata": {
    "tags": []
   },
   "outputs": [],
   "source": [
    "df = pd.DataFrame(all_results, columns=['name', 'dataset', 'trial','auc'])"
   ]
  },
  {
   "cell_type": "code",
   "execution_count": 16,
   "id": "962c12a0-54ef-4dde-988d-f3e49d2a4efc",
   "metadata": {
    "tags": []
   },
   "outputs": [
    {
     "data": {
      "text/plain": [
       "name\n",
       "MAST           0.013496\n",
       "MWU            0.025142\n",
       "deseq2_wald    0.153484\n",
       "edger_lrt      0.304790\n",
       "edger_qlft     0.300600\n",
       "memento_glm    0.379629\n",
       "t-test         0.012494\n",
       "Name: auc, dtype: float64"
      ]
     },
     "execution_count": 16,
     "metadata": {},
     "output_type": "execute_result"
    }
   ],
   "source": [
    "df.groupby('name')['auc'].mean()"
   ]
  },
  {
   "cell_type": "code",
   "execution_count": 17,
   "id": "32954056-5e9a-4f73-ab66-0220bff07d83",
   "metadata": {
    "tags": []
   },
   "outputs": [
    {
     "data": {
      "text/plain": [
       "<Axes: xlabel='auc', ylabel='name'>"
      ]
     },
     "execution_count": 17,
     "metadata": {},
     "output_type": "execute_result"
    },
    {
     "data": {
      "image/png": "[encoded data removed]",
      "text/plain": [
       "<Figure size 640x480 with 1 Axes>"
      ]
     },
     "metadata": {},
     "output_type": "display_data"
    }
   ],
   "source": [
    "sns.boxplot(y='name', x='auc', data=df)\n",
    "sns.stripplot(y='name', x='auc', data=df)"
   ]
  },
  {
   "cell_type": "code",
   "execution_count": 18,
   "id": "39748fe2-a4f7-4816-9235-77f6e3bcf8e4",
   "metadata": {},
   "outputs": [],
   "source": [
    "df.to_csv('canogamez3.csv', index=False)"
   ]
  },
  {
   "cell_type": "markdown",
   "id": "38c08734-1fca-4465-9566-546510b10deb",
   "metadata": {},
   "source": [
    "### Where do pseudobulk methods fail?"
   ]
  },
  {
   "cell_type": "code",
   "execution_count": 45,
   "id": "21539ee3-504b-48f3-9d70-caf3dc551cc0",
   "metadata": {},
   "outputs": [],
   "source": [
    "file = datasets[0]\n",
    "adata = sc.read_h5ad(data_path + 'sc_rnaseq/h5Seurat/' + file + '.h5ad')\n",
    "adata.obs['q'] = 0.07\n",
    "memento.setup_memento(adata, q_column='q', trim_percent=0.05,filter_mean_thresh=0.01)"
   ]
  },
  {
   "cell_type": "code",
   "execution_count": 46,
   "id": "228a0cb6-59f8-4aa8-ab2a-88812326aa15",
   "metadata": {},
   "outputs": [],
   "source": [
    "memento.create_groups(adata, label_columns=['replicate', 'label'])\n",
    "memento.compute_1d_moments(adata, )"
   ]
  },
  {
   "cell_type": "code",
   "execution_count": 47,
   "id": "37a206c2-739a-4ec0-9412-c9a8ee43f02d",
   "metadata": {},
   "outputs": [],
   "source": [
    "bulk = bulk_results[2]\n",
    "pb = sc_results[0]\n",
    "\n",
    "bulk_dispersions = pd.read_csv(data_path + 'bulk_rnaseq/results/{}_bulk_dispersions.csv'.format(file), index_col=1)[['dispersion']]\n",
    "pb_dispersions = pd.read_csv(data_path + 'sc_rnaseq/results/{}_1_dispersions.csv'.format(file), index_col=1)[['dispersion']]"
   ]
  },
  {
   "cell_type": "code",
   "execution_count": 48,
   "id": "66599c2c-5fcc-42e8-918d-f66fd2172bb5",
   "metadata": {},
   "outputs": [],
   "source": [
    "bulk = bulk.join(bulk_dispersions, how='left')\n",
    "pb = pb.join(pb_dispersions, how='left')\n",
    "\n",
    "bulk['rank'] = np.arange(1, bulk.shape[0]+1)\n",
    "pb['rank'] = np.arange(1, pb.shape[0]+1)"
   ]
  },
  {
   "cell_type": "code",
   "execution_count": 49,
   "id": "285bb5d3-b0c4-4931-8bcb-227a9d768528",
   "metadata": {},
   "outputs": [],
   "source": [
    "false_positives = list(set(bulk.query('rank > 300').index) & set(pb.query('rank < 300').index))\n",
    "false_negatives = list(set(bulk.query('rank < 300').index) & set(pb.query('rank > 300').index))"
   ]
  },
  {
   "cell_type": "code",
   "execution_count": 50,
   "id": "337f4f3f-943e-4783-8d3b-9cba3e97456f",
   "metadata": {},
   "outputs": [],
   "source": [
    "moments = memento.get_1d_moments(adata, groupby='label')"
   ]
  },
  {
   "cell_type": "code",
   "execution_count": 51,
   "id": "20187dae-b234-46f8-b19e-c9de8a9cabe5",
   "metadata": {},
   "outputs": [],
   "source": [
    "def classify(x):\n",
    "    \n",
    "    if x in false_positives:\n",
    "        return 'FP'\n",
    "    elif x in false_negatives:\n",
    "        return 'FN'\n",
    "    else:\n",
    "        return 'R'"
   ]
  },
  {
   "cell_type": "code",
   "execution_count": 52,
   "id": "5dc49f7f-71d7-4131-9cba-f3e299f98930",
   "metadata": {},
   "outputs": [],
   "source": [
    "rv_df = moments[1]\n",
    "rv_df['diff'] = rv_df['label_lps4'] - rv_df['label_unst']\n",
    "rv_df['diff_mag'] = rv_df['diff'].abs()\n",
    "rv_df['mean'] = (rv_df['label_lps4'] + rv_df['label_unst'])/2\n",
    "rv_df['category'] = rv_df['gene'].apply(classify)"
   ]
  },
  {
   "cell_type": "code",
   "execution_count": 53,
   "id": "403418b5-5140-4f61-a651-ff245496499a",
   "metadata": {},
   "outputs": [
    {
     "data": {
      "text/plain": [
       "<Axes: xlabel='category', ylabel='mean'>"
      ]
     },
     "execution_count": 53,
     "metadata": {},
     "output_type": "execute_result"
    },
    {
     "data": {
      "image/png": "[encoded data removed]",
      "text/plain": [
       "<Figure size 800x300 with 4 Axes>"
      ]
     },
     "metadata": {},
     "output_type": "display_data"
    }
   ],
   "source": [
    "plt.figure(figsize=(8,3))\n",
    "plt.subplots_adjust(wspace=0.6)\n",
    "plt.subplot(1, 4, 1)\n",
    "sns.boxplot(x='category', y='diff_mag', data=rv_df, fliersize=1)\n",
    "plt.subplot(1, 4, 2)\n",
    "sns.boxplot(x='category', y='label_lps4', data=rv_df, fliersize=1)\n",
    "plt.subplot(1, 4, 3)\n",
    "sns.boxplot(x='category', y='label_unst', data=rv_df, fliersize=1)\n",
    "plt.subplot(1, 4, 4)\n",
    "sns.boxplot(x='category', y='mean', data=rv_df, fliersize=1)"
   ]
  },
  {
   "cell_type": "code",
   "execution_count": 54,
   "id": "620e7ada-af00-4068-b6e7-afa3bc9027d2",
   "metadata": {},
   "outputs": [],
   "source": [
    "dispersions = bulk.join(pb, how='inner', lsuffix='_bulk', rsuffix='_pb')\n",
    "dispersions['rank_diff'] = (dispersions['rank_bulk'] - dispersions['rank_pb'])\n",
    "dispersions['dispersion_diff'] = dispersions['dispersion_bulk'] - dispersions['dispersion_pb']\n",
    "dispersions['dispersion_ratio'] = np.log(dispersions['dispersion_bulk']/dispersions['dispersion_pb'])"
   ]
  },
  {
   "cell_type": "code",
   "execution_count": 58,
   "id": "9f6be7a7-cc3b-4460-8739-76250dde5e2a",
   "metadata": {},
   "outputs": [
    {
     "data": {
      "text/plain": [
       "PearsonRResult(statistic=-0.02764261849753468, pvalue=0.011280201396003692)"
      ]
     },
     "execution_count": 58,
     "metadata": {},
     "output_type": "execute_result"
    }
   ],
   "source": [
    "stats.pearsonr(dispersions['dispersion_bulk'].fillna(0.0),dispersions['dispersion_pb'].fillna(0.0))"
   ]
  },
  {
   "cell_type": "code",
   "execution_count": 61,
   "id": "882c3eb7-627b-4b4a-9525-19d79c64ee52",
   "metadata": {},
   "outputs": [
    {
     "data": {
      "text/plain": [
       "PearsonRResult(statistic=0.6287721158124392, pvalue=0.0)"
      ]
     },
     "execution_count": 61,
     "metadata": {},
     "output_type": "execute_result"
    }
   ],
   "source": [
    "stats.pearsonr(np.log(dispersions['dispersion_bulk']).fillna(0.0),np.log(dispersions['dispersion_pb']).fillna(0.0))"
   ]
  },
  {
   "cell_type": "code",
   "execution_count": 66,
   "id": "31bdcabb-27ba-437a-a286-d938849af8ce",
   "metadata": {},
   "outputs": [
    {
     "data": {
      "image/png": "[encoded data removed]",
      "text/plain": [
       "<Figure size 640x480 with 1 Axes>"
      ]
     },
     "metadata": {},
     "output_type": "display_data"
    }
   ],
   "source": [
    "plt.scatter(np.log(dispersions['dispersion_bulk']),np.log(dispersions['dispersion_pb']), s=1)\n",
    "plt.scatter(np.log(dispersions.query('rank_pb < 300 & rank_bulk > 300')['dispersion_bulk']),\n",
    "            np.log(dispersions.query('rank_pb < 300 & rank_bulk > 300')['dispersion_pb']), s=1)\n",
    "\n",
    "plt.plot([-4, 0.5], [-4, 0.5], c='k')\n",
    "plt.xlabel('Bulk');\n",
    "plt.ylabel('Pseudobulk');\n",
    "# plt.ylim(0, 0.4)"
   ]
  },
  {
   "cell_type": "code",
   "execution_count": 91,
   "id": "edcb204c-b7e5-498d-bbe7-6214f2e85188",
   "metadata": {},
   "outputs": [],
   "source": [
    "rv_df.index= rv_df['gene']"
   ]
  },
  {
   "cell_type": "code",
   "execution_count": 104,
   "id": "da7069e0-4a65-4387-83d7-7d900deaafe3",
   "metadata": {},
   "outputs": [],
   "source": [
    "rv_disp = rv_df.join(dispersions, lsuffix='_rv', rsuffix='_disp')"
   ]
  },
  {
   "cell_type": "code",
   "execution_count": 105,
   "id": "44f76879-4215-4d97-98dc-8e816b02ff9f",
   "metadata": {},
   "outputs": [],
   "source": [
    "def classify_rank(row):\n",
    "    \n",
    "    \n",
    "    if row['rank_diff'] < -100 and row['rank_bulk'] < 300:\n",
    "        return 'FN'\n",
    "    elif row['rank_diff'] > 1000 and row['rank_bulk'] > 300:\n",
    "        return 'FP'\n",
    "    else:\n",
    "        return 'R'"
   ]
  },
  {
   "cell_type": "code",
   "execution_count": 103,
   "id": "9e6618b8-6426-4528-aa02-127cbefdaebb",
   "metadata": {},
   "outputs": [],
   "source": [
    "rv_disp['category'] = rv_disp.apply(classify_rank, axis=1).astype('category')"
   ]
  },
  {
   "cell_type": "code",
   "execution_count": 106,
   "id": "4205d294-6542-419e-88b5-1ef46ef0cc74",
   "metadata": {},
   "outputs": [
    {
     "data": {
      "text/plain": [
       "PearsonRResult(statistic=0.21074927655616696, pvalue=5.764856726350688e-80)"
      ]
     },
     "execution_count": 106,
     "metadata": {},
     "output_type": "execute_result"
    }
   ],
   "source": [
    "stats.pearsonr(rv_disp.dropna()['mean'], rv_disp.dropna()['dispersion_pb'])"
   ]
  },
  {
   "cell_type": "code",
   "execution_count": 107,
   "id": "578ab4fd-5bf3-4e95-aff7-4579de7eb05e",
   "metadata": {},
   "outputs": [
    {
     "data": {
      "text/plain": [
       "PearsonRResult(statistic=0.3313100132022653, pvalue=1.4133005216374784e-201)"
      ]
     },
     "execution_count": 107,
     "metadata": {},
     "output_type": "execute_result"
    }
   ],
   "source": [
    "stats.pearsonr(rv_disp.dropna()['mean'], rv_disp.dropna()['dispersion_bulk'])"
   ]
  },
  {
   "cell_type": "code",
   "execution_count": 108,
   "id": "cee6a158-cd00-44e2-adc7-93a24f76e3eb",
   "metadata": {},
   "outputs": [
    {
     "data": {
      "text/plain": [
       "PearsonRResult(statistic=0.2071518941872918, pvalue=2.9008363342599733e-77)"
      ]
     },
     "execution_count": 108,
     "metadata": {},
     "output_type": "execute_result"
    }
   ],
   "source": [
    "stats.pearsonr(rv_disp.dropna()['dispersion_pb'], rv_disp.dropna()['dispersion_bulk'])"
   ]
  },
  {
   "cell_type": "code",
   "execution_count": 116,
   "id": "3050b37d-33e7-4b17-a285-2f443fb66cdc",
   "metadata": {},
   "outputs": [],
   "source": [
    "rv_disp['bad_disp'] = np.log(rv_disp['dispersion_pb']) < -8"
   ]
  },
  {
   "cell_type": "code",
   "execution_count": 118,
   "id": "64690844-e646-4c0d-93f9-897800c08858",
   "metadata": {},
   "outputs": [
    {
     "data": {
      "text/html": [
       "<div>\n",
       "<style scoped>\n",
       "    .dataframe tbody tr th:only-of-type {\n",
       "        vertical-align: middle;\n",
       "    }\n",
       "\n",
       "    .dataframe tbody tr th {\n",
       "        vertical-align: top;\n",
       "    }\n",
       "\n",
       "    .dataframe thead th {\n",
       "        text-align: right;\n",
       "    }\n",
       "</style>\n",
       "<table border=\"1\" class=\"dataframe\">\n",
       "  <thead>\n",
       "    <tr style=\"text-align: right;\">\n",
       "      <th></th>\n",
       "      <th>gene</th>\n",
       "      <th>label_lps4</th>\n",
       "      <th>label_unst</th>\n",
       "      <th>diff</th>\n",
       "      <th>diff_mag</th>\n",
       "      <th>mean</th>\n",
       "      <th>category</th>\n",
       "      <th>logFC_bulk</th>\n",
       "      <th>PValue_bulk</th>\n",
       "      <th>FDR_bulk</th>\n",
       "      <th>...</th>\n",
       "      <th>rank_bulk</th>\n",
       "      <th>logFC_pb</th>\n",
       "      <th>PValue_pb</th>\n",
       "      <th>FDR_pb</th>\n",
       "      <th>dispersion_pb</th>\n",
       "      <th>rank_pb</th>\n",
       "      <th>rank_diff</th>\n",
       "      <th>dispersion_diff</th>\n",
       "      <th>dispersion_ratio</th>\n",
       "      <th>bad_disp</th>\n",
       "    </tr>\n",
       "    <tr>\n",
       "      <th>gene</th>\n",
       "      <th></th>\n",
       "      <th></th>\n",
       "      <th></th>\n",
       "      <th></th>\n",
       "      <th></th>\n",
       "      <th></th>\n",
       "      <th></th>\n",
       "      <th></th>\n",
       "      <th></th>\n",
       "      <th></th>\n",
       "      <th></th>\n",
       "      <th></th>\n",
       "      <th></th>\n",
       "      <th></th>\n",
       "      <th></th>\n",
       "      <th></th>\n",
       "      <th></th>\n",
       "      <th></th>\n",
       "      <th></th>\n",
       "      <th></th>\n",
       "      <th></th>\n",
       "    </tr>\n",
       "  </thead>\n",
       "  <tbody>\n",
       "    <tr>\n",
       "      <th>1700037C18Rik</th>\n",
       "      <td>1700037C18Rik</td>\n",
       "      <td>-0.401817</td>\n",
       "      <td>0.017980</td>\n",
       "      <td>-0.419798</td>\n",
       "      <td>0.419798</td>\n",
       "      <td>-0.191918</td>\n",
       "      <td>R</td>\n",
       "      <td>0.193340</td>\n",
       "      <td>5.716131e-01</td>\n",
       "      <td>6.765253e-01</td>\n",
       "      <td>...</td>\n",
       "      <td>6822.0</td>\n",
       "      <td>-0.549325</td>\n",
       "      <td>0.415763</td>\n",
       "      <td>0.573175</td>\n",
       "      <td>0.000098</td>\n",
       "      <td>5736.0</td>\n",
       "      <td>1086.0</td>\n",
       "      <td>0.040141</td>\n",
       "      <td>6.021128</td>\n",
       "      <td>True</td>\n",
       "    </tr>\n",
       "    <tr>\n",
       "      <th>4930522L14Rik</th>\n",
       "      <td>4930522L14Rik</td>\n",
       "      <td>-0.200725</td>\n",
       "      <td>0.060447</td>\n",
       "      <td>-0.261171</td>\n",
       "      <td>0.261171</td>\n",
       "      <td>-0.070139</td>\n",
       "      <td>R</td>\n",
       "      <td>1.364047</td>\n",
       "      <td>3.933872e-05</td>\n",
       "      <td>1.651351e-04</td>\n",
       "      <td>...</td>\n",
       "      <td>2107.0</td>\n",
       "      <td>1.271272</td>\n",
       "      <td>0.022465</td>\n",
       "      <td>0.065208</td>\n",
       "      <td>0.000098</td>\n",
       "      <td>2728.0</td>\n",
       "      <td>-621.0</td>\n",
       "      <td>0.038117</td>\n",
       "      <td>5.969514</td>\n",
       "      <td>True</td>\n",
       "    </tr>\n",
       "    <tr>\n",
       "      <th>4930523C07Rik</th>\n",
       "      <td>4930523C07Rik</td>\n",
       "      <td>0.085237</td>\n",
       "      <td>0.787922</td>\n",
       "      <td>-0.702684</td>\n",
       "      <td>0.702684</td>\n",
       "      <td>0.436579</td>\n",
       "      <td>R</td>\n",
       "      <td>-0.474639</td>\n",
       "      <td>2.067472e-01</td>\n",
       "      <td>3.112954e-01</td>\n",
       "      <td>...</td>\n",
       "      <td>5541.0</td>\n",
       "      <td>1.042088</td>\n",
       "      <td>0.071826</td>\n",
       "      <td>0.162676</td>\n",
       "      <td>0.000098</td>\n",
       "      <td>3492.0</td>\n",
       "      <td>2049.0</td>\n",
       "      <td>0.082701</td>\n",
       "      <td>6.742712</td>\n",
       "      <td>True</td>\n",
       "    </tr>\n",
       "    <tr>\n",
       "      <th>Aaed1</th>\n",
       "      <td>Aaed1</td>\n",
       "      <td>-0.703402</td>\n",
       "      <td>-0.113927</td>\n",
       "      <td>-0.589475</td>\n",
       "      <td>0.589475</td>\n",
       "      <td>-0.408664</td>\n",
       "      <td>R</td>\n",
       "      <td>1.531144</td>\n",
       "      <td>2.584648e-12</td>\n",
       "      <td>2.766928e-11</td>\n",
       "      <td>...</td>\n",
       "      <td>846.0</td>\n",
       "      <td>0.604674</td>\n",
       "      <td>0.260403</td>\n",
       "      <td>0.418874</td>\n",
       "      <td>0.000098</td>\n",
       "      <td>4915.0</td>\n",
       "      <td>-4069.0</td>\n",
       "      <td>0.030530</td>\n",
       "      <td>5.748196</td>\n",
       "      <td>True</td>\n",
       "    </tr>\n",
       "    <tr>\n",
       "      <th>Abcb10</th>\n",
       "      <td>Abcb10</td>\n",
       "      <td>-0.173621</td>\n",
       "      <td>-0.141603</td>\n",
       "      <td>-0.032018</td>\n",
       "      <td>0.032018</td>\n",
       "      <td>-0.157612</td>\n",
       "      <td>R</td>\n",
       "      <td>0.781000</td>\n",
       "      <td>2.264891e-06</td>\n",
       "      <td>1.173452e-05</td>\n",
       "      <td>...</td>\n",
       "      <td>1712.0</td>\n",
       "      <td>1.041192</td>\n",
       "      <td>0.046409</td>\n",
       "      <td>0.115688</td>\n",
       "      <td>0.000322</td>\n",
       "      <td>3174.0</td>\n",
       "      <td>-1462.0</td>\n",
       "      <td>0.015876</td>\n",
       "      <td>3.918331</td>\n",
       "      <td>True</td>\n",
       "    </tr>\n",
       "    <tr>\n",
       "      <th>...</th>\n",
       "      <td>...</td>\n",
       "      <td>...</td>\n",
       "      <td>...</td>\n",
       "      <td>...</td>\n",
       "      <td>...</td>\n",
       "      <td>...</td>\n",
       "      <td>...</td>\n",
       "      <td>...</td>\n",
       "      <td>...</td>\n",
       "      <td>...</td>\n",
       "      <td>...</td>\n",
       "      <td>...</td>\n",
       "      <td>...</td>\n",
       "      <td>...</td>\n",
       "      <td>...</td>\n",
       "      <td>...</td>\n",
       "      <td>...</td>\n",
       "      <td>...</td>\n",
       "      <td>...</td>\n",
       "      <td>...</td>\n",
       "      <td>...</td>\n",
       "    </tr>\n",
       "    <tr>\n",
       "      <th>Zfp607b</th>\n",
       "      <td>Zfp607b</td>\n",
       "      <td>-0.104062</td>\n",
       "      <td>0.035352</td>\n",
       "      <td>-0.139414</td>\n",
       "      <td>0.139414</td>\n",
       "      <td>-0.034355</td>\n",
       "      <td>R</td>\n",
       "      <td>0.807533</td>\n",
       "      <td>2.925578e-02</td>\n",
       "      <td>6.140459e-02</td>\n",
       "      <td>...</td>\n",
       "      <td>4112.0</td>\n",
       "      <td>0.294747</td>\n",
       "      <td>0.670214</td>\n",
       "      <td>0.790397</td>\n",
       "      <td>0.000098</td>\n",
       "      <td>6702.0</td>\n",
       "      <td>-2590.0</td>\n",
       "      <td>0.036640</td>\n",
       "      <td>5.930106</td>\n",
       "      <td>True</td>\n",
       "    </tr>\n",
       "    <tr>\n",
       "      <th>Zfp748</th>\n",
       "      <td>Zfp748</td>\n",
       "      <td>-0.407170</td>\n",
       "      <td>-0.001377</td>\n",
       "      <td>-0.405793</td>\n",
       "      <td>0.405793</td>\n",
       "      <td>-0.204274</td>\n",
       "      <td>R</td>\n",
       "      <td>0.144883</td>\n",
       "      <td>4.636037e-01</td>\n",
       "      <td>5.811443e-01</td>\n",
       "      <td>...</td>\n",
       "      <td>6508.0</td>\n",
       "      <td>-0.160689</td>\n",
       "      <td>0.782921</td>\n",
       "      <td>0.869096</td>\n",
       "      <td>0.000098</td>\n",
       "      <td>7120.0</td>\n",
       "      <td>-612.0</td>\n",
       "      <td>0.022523</td>\n",
       "      <td>5.445183</td>\n",
       "      <td>True</td>\n",
       "    </tr>\n",
       "    <tr>\n",
       "      <th>Zfp944</th>\n",
       "      <td>Zfp944</td>\n",
       "      <td>0.177241</td>\n",
       "      <td>-0.046700</td>\n",
       "      <td>0.223941</td>\n",
       "      <td>0.223941</td>\n",
       "      <td>0.065270</td>\n",
       "      <td>R</td>\n",
       "      <td>0.163452</td>\n",
       "      <td>4.352839e-01</td>\n",
       "      <td>5.546001e-01</td>\n",
       "      <td>...</td>\n",
       "      <td>6421.0</td>\n",
       "      <td>-0.302889</td>\n",
       "      <td>0.538425</td>\n",
       "      <td>0.683332</td>\n",
       "      <td>0.000098</td>\n",
       "      <td>6229.0</td>\n",
       "      <td>192.0</td>\n",
       "      <td>0.023507</td>\n",
       "      <td>5.487730</td>\n",
       "      <td>True</td>\n",
       "    </tr>\n",
       "    <tr>\n",
       "      <th>Zfyve1</th>\n",
       "      <td>Zfyve1</td>\n",
       "      <td>-0.577059</td>\n",
       "      <td>-0.468938</td>\n",
       "      <td>-0.108121</td>\n",
       "      <td>0.108121</td>\n",
       "      <td>-0.522998</td>\n",
       "      <td>R</td>\n",
       "      <td>0.698453</td>\n",
       "      <td>1.659983e-04</td>\n",
       "      <td>6.173627e-04</td>\n",
       "      <td>...</td>\n",
       "      <td>2376.0</td>\n",
       "      <td>1.499480</td>\n",
       "      <td>0.023853</td>\n",
       "      <td>0.068227</td>\n",
       "      <td>0.000098</td>\n",
       "      <td>2767.0</td>\n",
       "      <td>-391.0</td>\n",
       "      <td>0.023024</td>\n",
       "      <td>5.467084</td>\n",
       "      <td>True</td>\n",
       "    </tr>\n",
       "    <tr>\n",
       "      <th>Zkscan6</th>\n",
       "      <td>Zkscan6</td>\n",
       "      <td>-0.262040</td>\n",
       "      <td>-0.442760</td>\n",
       "      <td>0.180720</td>\n",
       "      <td>0.180720</td>\n",
       "      <td>-0.352400</td>\n",
       "      <td>R</td>\n",
       "      <td>-0.722132</td>\n",
       "      <td>9.878270e-05</td>\n",
       "      <td>3.848993e-04</td>\n",
       "      <td>...</td>\n",
       "      <td>2272.0</td>\n",
       "      <td>-0.432254</td>\n",
       "      <td>0.434716</td>\n",
       "      <td>0.590323</td>\n",
       "      <td>0.000098</td>\n",
       "      <td>5823.0</td>\n",
       "      <td>-3551.0</td>\n",
       "      <td>0.019434</td>\n",
       "      <td>5.298336</td>\n",
       "      <td>True</td>\n",
       "    </tr>\n",
       "  </tbody>\n",
       "</table>\n",
       "<p>213 rows × 21 columns</p>\n",
       "</div>"
      ],
      "text/plain": [
       "                        gene  label_lps4  label_unst      diff  diff_mag   \n",
       "gene                                                                       \n",
       "1700037C18Rik  1700037C18Rik   -0.401817    0.017980 -0.419798  0.419798  \\\n",
       "4930522L14Rik  4930522L14Rik   -0.200725    0.060447 -0.261171  0.261171   \n",
       "4930523C07Rik  4930523C07Rik    0.085237    0.787922 -0.702684  0.702684   \n",
       "Aaed1                  Aaed1   -0.703402   -0.113927 -0.589475  0.589475   \n",
       "Abcb10                Abcb10   -0.173621   -0.141603 -0.032018  0.032018   \n",
       "...                      ...         ...         ...       ...       ...   \n",
       "Zfp607b              Zfp607b   -0.104062    0.035352 -0.139414  0.139414   \n",
       "Zfp748                Zfp748   -0.407170   -0.001377 -0.405793  0.405793   \n",
       "Zfp944                Zfp944    0.177241   -0.046700  0.223941  0.223941   \n",
       "Zfyve1                Zfyve1   -0.577059   -0.468938 -0.108121  0.108121   \n",
       "Zkscan6              Zkscan6   -0.262040   -0.442760  0.180720  0.180720   \n",
       "\n",
       "                   mean category  logFC_bulk   PValue_bulk      FDR_bulk  ...   \n",
       "gene                                                                      ...   \n",
       "1700037C18Rik -0.191918        R    0.193340  5.716131e-01  6.765253e-01  ...  \\\n",
       "4930522L14Rik -0.070139        R    1.364047  3.933872e-05  1.651351e-04  ...   \n",
       "4930523C07Rik  0.436579        R   -0.474639  2.067472e-01  3.112954e-01  ...   \n",
       "Aaed1         -0.408664        R    1.531144  2.584648e-12  2.766928e-11  ...   \n",
       "Abcb10        -0.157612        R    0.781000  2.264891e-06  1.173452e-05  ...   \n",
       "...                 ...      ...         ...           ...           ...  ...   \n",
       "Zfp607b       -0.034355        R    0.807533  2.925578e-02  6.140459e-02  ...   \n",
       "Zfp748        -0.204274        R    0.144883  4.636037e-01  5.811443e-01  ...   \n",
       "Zfp944         0.065270        R    0.163452  4.352839e-01  5.546001e-01  ...   \n",
       "Zfyve1        -0.522998        R    0.698453  1.659983e-04  6.173627e-04  ...   \n",
       "Zkscan6       -0.352400        R   -0.722132  9.878270e-05  3.848993e-04  ...   \n",
       "\n",
       "               rank_bulk  logFC_pb  PValue_pb    FDR_pb  dispersion_pb   \n",
       "gene                                                                     \n",
       "1700037C18Rik     6822.0 -0.549325   0.415763  0.573175       0.000098  \\\n",
       "4930522L14Rik     2107.0  1.271272   0.022465  0.065208       0.000098   \n",
       "4930523C07Rik     5541.0  1.042088   0.071826  0.162676       0.000098   \n",
       "Aaed1              846.0  0.604674   0.260403  0.418874       0.000098   \n",
       "Abcb10            1712.0  1.041192   0.046409  0.115688       0.000322   \n",
       "...                  ...       ...        ...       ...            ...   \n",
       "Zfp607b           4112.0  0.294747   0.670214  0.790397       0.000098   \n",
       "Zfp748            6508.0 -0.160689   0.782921  0.869096       0.000098   \n",
       "Zfp944            6421.0 -0.302889   0.538425  0.683332       0.000098   \n",
       "Zfyve1            2376.0  1.499480   0.023853  0.068227       0.000098   \n",
       "Zkscan6           2272.0 -0.432254   0.434716  0.590323       0.000098   \n",
       "\n",
       "               rank_pb  rank_diff  dispersion_diff  dispersion_ratio  bad_disp  \n",
       "gene                                                                            \n",
       "1700037C18Rik   5736.0     1086.0         0.040141          6.021128      True  \n",
       "4930522L14Rik   2728.0     -621.0         0.038117          5.969514      True  \n",
       "4930523C07Rik   3492.0     2049.0         0.082701          6.742712      True  \n",
       "Aaed1           4915.0    -4069.0         0.030530          5.748196      True  \n",
       "Abcb10          3174.0    -1462.0         0.015876          3.918331      True  \n",
       "...                ...        ...              ...               ...       ...  \n",
       "Zfp607b         6702.0    -2590.0         0.036640          5.930106      True  \n",
       "Zfp748          7120.0     -612.0         0.022523          5.445183      True  \n",
       "Zfp944          6229.0      192.0         0.023507          5.487730      True  \n",
       "Zfyve1          2767.0     -391.0         0.023024          5.467084      True  \n",
       "Zkscan6         5823.0    -3551.0         0.019434          5.298336      True  \n",
       "\n",
       "[213 rows x 21 columns]"
      ]
     },
     "execution_count": 118,
     "metadata": {},
     "output_type": "execute_result"
    }
   ],
   "source": [
    "rv_disp.query('bad_disp')"
   ]
  },
  {
   "cell_type": "code",
   "execution_count": 117,
   "id": "2690159e-f08b-4bf4-b3d3-3249867cff4d",
   "metadata": {},
   "outputs": [
    {
     "data": {
      "text/html": [
       "<div>\n",
       "<style scoped>\n",
       "    .dataframe tbody tr th:only-of-type {\n",
       "        vertical-align: middle;\n",
       "    }\n",
       "\n",
       "    .dataframe tbody tr th {\n",
       "        vertical-align: top;\n",
       "    }\n",
       "\n",
       "    .dataframe thead th {\n",
       "        text-align: right;\n",
       "    }\n",
       "</style>\n",
       "<table border=\"1\" class=\"dataframe\">\n",
       "  <thead>\n",
       "    <tr style=\"text-align: right;\">\n",
       "      <th>bad_disp</th>\n",
       "      <th>False</th>\n",
       "      <th>True</th>\n",
       "    </tr>\n",
       "    <tr>\n",
       "      <th>category</th>\n",
       "      <th></th>\n",
       "      <th></th>\n",
       "    </tr>\n",
       "  </thead>\n",
       "  <tbody>\n",
       "    <tr>\n",
       "      <th>FN</th>\n",
       "      <td>89</td>\n",
       "      <td>0</td>\n",
       "    </tr>\n",
       "    <tr>\n",
       "      <th>FP</th>\n",
       "      <td>89</td>\n",
       "      <td>0</td>\n",
       "    </tr>\n",
       "    <tr>\n",
       "      <th>R</th>\n",
       "      <td>8938</td>\n",
       "      <td>213</td>\n",
       "    </tr>\n",
       "  </tbody>\n",
       "</table>\n",
       "</div>"
      ],
      "text/plain": [
       "bad_disp  False  True \n",
       "category              \n",
       "FN           89      0\n",
       "FP           89      0\n",
       "R          8938    213"
      ]
     },
     "execution_count": 117,
     "metadata": {},
     "output_type": "execute_result"
    }
   ],
   "source": [
    "pd.crosstab(rv_disp['category'], rv_disp['bad_disp'])"
   ]
  },
  {
   "cell_type": "code",
   "execution_count": 99,
   "id": "c07deebd-7b86-4df5-b908-87dbd581efd8",
   "metadata": {},
   "outputs": [
    {
     "data": {
      "text/plain": [
       "<Axes: xlabel='category', ylabel='dispersion_ratio'>"
      ]
     },
     "execution_count": 99,
     "metadata": {},
     "output_type": "execute_result"
    },
    {
     "data": {
      "image/png": "[encoded data removed]",
      "text/plain": [
       "<Figure size 640x480 with 1 Axes>"
      ]
     },
     "metadata": {},
     "output_type": "display_data"
    }
   ],
   "source": [
    "sns.boxplot(y='dispersion_ratio', x='category', data=rv_disp)"
   ]
  },
  {
   "cell_type": "markdown",
   "id": "2db8732c-ef83-4ec6-8b87-31ceb6677e56",
   "metadata": {},
   "source": [
    "### Memento derived dispersions"
   ]
  },
  {
   "cell_type": "code",
   "execution_count": 360,
   "id": "418b855e-04fe-4d9b-84fc-ee535332456b",
   "metadata": {},
   "outputs": [],
   "source": [
    "file = datasets[0]\n",
    "adata = sc.read_h5ad(data_path + 'sc_rnaseq/h5Seurat/' + file + '.csv')\n",
    "adata.obs['q'] = 0.9999\n",
    "memento.setup_memento(adata, q_column='q', trim_percent=0.05,filter_mean_thresh=0.005)\n",
    "adata.obs['memento_size_factor'] = 1"
   ]
  },
  {
   "cell_type": "code",
   "execution_count": 361,
   "id": "6528a484-addf-4533-bf70-8640c8360afe",
   "metadata": {},
   "outputs": [],
   "source": [
    "adata.obs['group'] = 'A'"
   ]
  },
  {
   "cell_type": "code",
   "execution_count": 362,
   "id": "a6743c10-dc2a-44cb-a352-3088e6ea2b9f",
   "metadata": {},
   "outputs": [],
   "source": [
    "memento.create_groups(adata, label_columns=['group'])\n",
    "memento.compute_1d_moments(adata, )"
   ]
  },
  {
   "cell_type": "code",
   "execution_count": 363,
   "id": "ba620d61-d3dd-4dab-9593-d6f8ce8402d8",
   "metadata": {},
   "outputs": [],
   "source": [
    "# Create mean, variance df\n",
    "moment_df = []\n",
    "for group, moments in adata.uns['memento']['1d_moments'].items():\n",
    "    \n",
    "    df = pd.DataFrame()\n",
    "    df['mean'] = moments[0]\n",
    "    df['variance'] = moments[1]\n",
    "    df['dispersion'] = (df['variance'] - df['mean'])/df['mean']**2\n",
    "    df['sum'] = adata.uns['memento']['group_cells'][group].sum(axis=0).A1\n",
    "    df['sum_dispersion'] = df['dispersion']/adata.uns['memento']['group_cells'][group].shape[0]\n",
    "    # df['sampvar'] = moments[1]/adata.uns['memento']['group_cells'][group].shape[0]\n",
    "    # df['replicate'] = group.split('^')[1]\n",
    "    # df['stim'] = group.split('^')[2]\n",
    "    df['gene'] = adata.var.index.tolist()\n",
    "    # df['total'] = adata.uns['memento']['group_cells'][group].shape[0]\n",
    "    moment_df.append(df)\n",
    "moment_df = pd.concat(moment_df)\n"
   ]
  },
  {
   "cell_type": "code",
   "execution_count": 365,
   "id": "7e1ca2a0-89d8-43f1-8ef2-ebd1645f7331",
   "metadata": {},
   "outputs": [
    {
     "data": {
      "text/html": [
       "<div>\n",
       "<style scoped>\n",
       "    .dataframe tbody tr th:only-of-type {\n",
       "        vertical-align: middle;\n",
       "    }\n",
       "\n",
       "    .dataframe tbody tr th {\n",
       "        vertical-align: top;\n",
       "    }\n",
       "\n",
       "    .dataframe thead th {\n",
       "        text-align: right;\n",
       "    }\n",
       "</style>\n",
       "<table border=\"1\" class=\"dataframe\">\n",
       "  <thead>\n",
       "    <tr style=\"text-align: right;\">\n",
       "      <th></th>\n",
       "      <th>mean</th>\n",
       "      <th>variance</th>\n",
       "      <th>dispersion</th>\n",
       "      <th>sum</th>\n",
       "      <th>sum_dispersion</th>\n",
       "      <th>gene</th>\n",
       "    </tr>\n",
       "  </thead>\n",
       "  <tbody>\n",
       "    <tr>\n",
       "      <th>0</th>\n",
       "      <td>0.322570</td>\n",
       "      <td>0.366551</td>\n",
       "      <td>0.422689</td>\n",
       "      <td>5734.0</td>\n",
       "      <td>0.000024</td>\n",
       "      <td>0610009B22Rik</td>\n",
       "    </tr>\n",
       "    <tr>\n",
       "      <th>1</th>\n",
       "      <td>0.047423</td>\n",
       "      <td>0.048883</td>\n",
       "      <td>0.648799</td>\n",
       "      <td>843.0</td>\n",
       "      <td>0.000036</td>\n",
       "      <td>0610009L18Rik</td>\n",
       "    </tr>\n",
       "    <tr>\n",
       "      <th>2</th>\n",
       "      <td>0.163929</td>\n",
       "      <td>0.176306</td>\n",
       "      <td>0.460592</td>\n",
       "      <td>2914.0</td>\n",
       "      <td>0.000026</td>\n",
       "      <td>0610010F05Rik</td>\n",
       "    </tr>\n",
       "    <tr>\n",
       "      <th>3</th>\n",
       "      <td>0.136307</td>\n",
       "      <td>0.145504</td>\n",
       "      <td>0.495000</td>\n",
       "      <td>2423.0</td>\n",
       "      <td>0.000028</td>\n",
       "      <td>0610010K14Rik</td>\n",
       "    </tr>\n",
       "    <tr>\n",
       "      <th>4</th>\n",
       "      <td>1.438344</td>\n",
       "      <td>2.472202</td>\n",
       "      <td>0.499730</td>\n",
       "      <td>25568.0</td>\n",
       "      <td>0.000028</td>\n",
       "      <td>0610012G03Rik</td>\n",
       "    </tr>\n",
       "    <tr>\n",
       "      <th>...</th>\n",
       "      <td>...</td>\n",
       "      <td>...</td>\n",
       "      <td>...</td>\n",
       "      <td>...</td>\n",
       "      <td>...</td>\n",
       "      <td>...</td>\n",
       "    </tr>\n",
       "    <tr>\n",
       "      <th>10860</th>\n",
       "      <td>0.081346</td>\n",
       "      <td>0.082596</td>\n",
       "      <td>0.188986</td>\n",
       "      <td>1446.0</td>\n",
       "      <td>0.000011</td>\n",
       "      <td>Zxdc</td>\n",
       "    </tr>\n",
       "    <tr>\n",
       "      <th>10861</th>\n",
       "      <td>0.132763</td>\n",
       "      <td>0.140776</td>\n",
       "      <td>0.454622</td>\n",
       "      <td>2360.0</td>\n",
       "      <td>0.000026</td>\n",
       "      <td>Zyg11b</td>\n",
       "    </tr>\n",
       "    <tr>\n",
       "      <th>10862</th>\n",
       "      <td>0.853342</td>\n",
       "      <td>1.850312</td>\n",
       "      <td>1.369104</td>\n",
       "      <td>15169.0</td>\n",
       "      <td>0.000077</td>\n",
       "      <td>Zyx</td>\n",
       "    </tr>\n",
       "    <tr>\n",
       "      <th>10863</th>\n",
       "      <td>0.221535</td>\n",
       "      <td>0.234654</td>\n",
       "      <td>0.267311</td>\n",
       "      <td>3938.0</td>\n",
       "      <td>0.000015</td>\n",
       "      <td>Zzef1</td>\n",
       "    </tr>\n",
       "    <tr>\n",
       "      <th>10864</th>\n",
       "      <td>0.214896</td>\n",
       "      <td>0.229451</td>\n",
       "      <td>0.315156</td>\n",
       "      <td>3820.0</td>\n",
       "      <td>0.000018</td>\n",
       "      <td>Zzz3</td>\n",
       "    </tr>\n",
       "  </tbody>\n",
       "</table>\n",
       "<p>10865 rows × 6 columns</p>\n",
       "</div>"
      ],
      "text/plain": [
       "           mean  variance  dispersion      sum  sum_dispersion           gene\n",
       "0      0.322570  0.366551    0.422689   5734.0        0.000024  0610009B22Rik\n",
       "1      0.047423  0.048883    0.648799    843.0        0.000036  0610009L18Rik\n",
       "2      0.163929  0.176306    0.460592   2914.0        0.000026  0610010F05Rik\n",
       "3      0.136307  0.145504    0.495000   2423.0        0.000028  0610010K14Rik\n",
       "4      1.438344  2.472202    0.499730  25568.0        0.000028  0610012G03Rik\n",
       "...         ...       ...         ...      ...             ...            ...\n",
       "10860  0.081346  0.082596    0.188986   1446.0        0.000011           Zxdc\n",
       "10861  0.132763  0.140776    0.454622   2360.0        0.000026         Zyg11b\n",
       "10862  0.853342  1.850312    1.369104  15169.0        0.000077            Zyx\n",
       "10863  0.221535  0.234654    0.267311   3938.0        0.000015          Zzef1\n",
       "10864  0.214896  0.229451    0.315156   3820.0        0.000018           Zzz3\n",
       "\n",
       "[10865 rows x 6 columns]"
      ]
     },
     "execution_count": 365,
     "metadata": {},
     "output_type": "execute_result"
    }
   ],
   "source": [
    "moment_df"
   ]
  },
  {
   "cell_type": "code",
   "execution_count": 330,
   "id": "11742185-b12e-40bd-ab20-6d8c2778f2ba",
   "metadata": {},
   "outputs": [],
   "source": [
    "# dispersion calculation\n",
    "moment_df['dispersion1'] = (moment_df['variance']*moment_df['total']**2-moment_df['mean']*moment_df['total'])/(moment_df['mean']*moment_df['total'])**2\n",
    "moment_df['dispersion2'] = (moment_df['sampvar']*moment_df['total']**2-moment_df['mean']*moment_df['total'])/(moment_df['mean']*moment_df['total'])**2\n",
    "moment_df['dispersion3'] = (moment_df['variance']-moment_df['mean'])/(moment_df['mean'])**2\n"
   ]
  },
  {
   "cell_type": "code",
   "execution_count": 358,
   "id": "a96eef37-abdc-4554-b1c7-528d75abfe32",
   "metadata": {},
   "outputs": [
    {
     "data": {
      "text/plain": [
       "3467    0.000219\n",
       "3467    0.000504\n",
       "3467    0.000157\n",
       "3467    0.000201\n",
       "3467    0.000176\n",
       "3467    0.000147\n",
       "Name: sum_dispersion, dtype: float64"
      ]
     },
     "execution_count": 358,
     "metadata": {},
     "output_type": "execute_result"
    }
   ],
   "source": [
    "moment_df.query('gene == \"Gpr132\"')['sum_dispersion']"
   ]
  },
  {
   "cell_type": "code",
   "execution_count": 353,
   "id": "9f4ff54c-647c-4d37-a5c3-1e9349d8bac4",
   "metadata": {},
   "outputs": [
    {
     "data": {
      "text/plain": [
       "0.4322680225167968"
      ]
     },
     "execution_count": 353,
     "metadata": {},
     "output_type": "execute_result"
    }
   ],
   "source": [
    "dispersions.query('dispersion_pb < dispersion_bulk').shape[0]/dispersions.shape[0]"
   ]
  },
  {
   "cell_type": "code",
   "execution_count": 352,
   "id": "4861b11c-863b-44dd-bb49-6d100ee360f1",
   "metadata": {},
   "outputs": [
    {
     "data": {
      "text/plain": [
       "(11014, 14)"
      ]
     },
     "execution_count": 352,
     "metadata": {},
     "output_type": "execute_result"
    }
   ],
   "source": [
    "dispersions.shape"
   ]
  },
  {
   "cell_type": "code",
   "execution_count": 303,
   "id": "e11f27a9-42f1-462d-b828-6da0cccf9ecb",
   "metadata": {},
   "outputs": [
    {
     "data": {
      "text/plain": [
       "['Cxcl3',\n",
       " 'Serpinb2',\n",
       " 'Lcn2',\n",
       " 'Gpr132',\n",
       " 'Rhbdf2',\n",
       " 'Kcna3',\n",
       " 'Il1f9',\n",
       " 'Slc7a2',\n",
       " 'Stat2',\n",
       " 'Pim1',\n",
       " 'Slfn5',\n",
       " 'Maff',\n",
       " 'Pstpip2',\n",
       " 'Junb',\n",
       " 'Rere',\n",
       " 'Stxbp6',\n",
       " 'Fpr2',\n",
       " 'Gpr157',\n",
       " 'Dusp4',\n",
       " 'Enpp4',\n",
       " 'Marcks',\n",
       " 'Sesn1',\n",
       " 'Ifi204',\n",
       " 'Dyrk2',\n",
       " 'Stx11',\n",
       " 'Tmem154',\n",
       " 'Wrb',\n",
       " 'Cxcl2',\n",
       " 'Ets2',\n",
       " 'Gramd1a',\n",
       " 'Gvin1',\n",
       " 'Dnmt1',\n",
       " 'Zfp558',\n",
       " 'Plekhm1',\n",
       " 'Map3k8',\n",
       " 'Cebpa',\n",
       " 'Ak4',\n",
       " 'Phlda1',\n",
       " 'Slfn2',\n",
       " 'Nfatc2',\n",
       " 'Ch25h',\n",
       " 'Cdkn1a',\n",
       " 'Cipc',\n",
       " 'Pde4b',\n",
       " 'Marcksl1',\n",
       " 'Ccr2',\n",
       " 'Parp12',\n",
       " 'Inhba',\n",
       " 'Ifi214',\n",
       " 'Zfp395',\n",
       " 'D16Ertd472e',\n",
       " 'Tmem104',\n",
       " 'Fpr1',\n",
       " 'Ccsap',\n",
       " 'Gm6377',\n",
       " 'Rhov',\n",
       " 'Il17ra',\n",
       " 'Cxcl1',\n",
       " 'Fbxo31',\n",
       " 'Ppfia3',\n",
       " 'Sh2d3c',\n",
       " 'Vash2',\n",
       " 'Lztfl1',\n",
       " 'Samsn1',\n",
       " 'Il1b',\n",
       " 'Icosl',\n",
       " 'Rasa2',\n",
       " 'Spred1',\n",
       " 'Ido2',\n",
       " 'Pim3',\n",
       " 'Lyl1',\n",
       " 'Ptgs2',\n",
       " 'Lacc1',\n",
       " 'Fam214a',\n",
       " 'Cdca7l',\n",
       " 'Mapkbp1',\n",
       " 'Abhd17c',\n",
       " 'Gm4951',\n",
       " 'Col11a2',\n",
       " 'Agfg2',\n",
       " 'Setd7',\n",
       " 'Plxdc1',\n",
       " 'Cd83',\n",
       " 'Fosl2',\n",
       " 'Gm4070',\n",
       " 'Traf5',\n",
       " 'Stard9',\n",
       " 'Tef',\n",
       " 'Pvr',\n",
       " 'Trim13']"
      ]
     },
     "execution_count": 303,
     "metadata": {},
     "output_type": "execute_result"
    }
   ],
   "source": [
    "false_negatives"
   ]
  },
  {
   "cell_type": "code",
   "execution_count": 301,
   "id": "4a85b975-c9b6-4f6d-856a-eb5d6451d0cf",
   "metadata": {},
   "outputs": [
    {
     "data": {
      "text/plain": [
       "['Tshz1',\n",
       " 'Gbp4',\n",
       " 'Otulinl',\n",
       " 'Rcl1',\n",
       " 'Susd6',\n",
       " 'Oasl1',\n",
       " 'Pilrb2',\n",
       " 'Cemip2',\n",
       " 'Met',\n",
       " 'Sla',\n",
       " 'Ifit3b',\n",
       " 'Tcp11l2',\n",
       " 'Tmem273',\n",
       " 'Slc8b1',\n",
       " 'Tsc22d3',\n",
       " 'Slc31a2',\n",
       " 'Malt1',\n",
       " 'Ms4a6c',\n",
       " 'Gcnt1',\n",
       " 'Dtx2',\n",
       " 'Slc25a37',\n",
       " 'Ccnd2',\n",
       " 'Six1',\n",
       " 'Spryd7',\n",
       " 'Ifit3',\n",
       " 'Noct',\n",
       " 'Clic4',\n",
       " 'Gadd45b',\n",
       " 'Msr1',\n",
       " 'Slc15a3',\n",
       " '2200002D01Rik',\n",
       " 'Hivep2',\n",
       " 'Gem',\n",
       " 'Src',\n",
       " 'Cxcl10',\n",
       " 'Cst7',\n",
       " 'Tet2',\n",
       " 'Il27',\n",
       " 'Arid5a',\n",
       " 'Pdcd4',\n",
       " 'Igsf8',\n",
       " 'Nupr1',\n",
       " 'Lpar6',\n",
       " 'Ifit2',\n",
       " 'Pilrb1',\n",
       " 'Rnd3',\n",
       " 'Gas7',\n",
       " 'Ypel3',\n",
       " 'Mrgpre',\n",
       " 'Fst',\n",
       " 'Irf7',\n",
       " 'Tpm4',\n",
       " 'Phf11b',\n",
       " 'Rassf4',\n",
       " 'H2-Q6',\n",
       " 'Slc43a2',\n",
       " 'Oas2',\n",
       " 'Denr',\n",
       " 'Cfb',\n",
       " 'AI467606',\n",
       " 'Plaur',\n",
       " 'Gca',\n",
       " 'Slc26a11',\n",
       " 'Oas1g',\n",
       " 'Ccl9',\n",
       " 'Dusp2',\n",
       " 'Stip1',\n",
       " 'Sntb1',\n",
       " 'Cd69',\n",
       " 'Flnb',\n",
       " 'Cmpk2',\n",
       " 'Snx30',\n",
       " 'Paqr7',\n",
       " 'Rsad2',\n",
       " 'Marco',\n",
       " 'Fas',\n",
       " 'B3gnt8',\n",
       " 'Pla2g4a',\n",
       " 'Nampt',\n",
       " 'Itgav',\n",
       " 'Spry1',\n",
       " 'Cerk',\n",
       " 'Ifi35',\n",
       " 'Il15',\n",
       " 'Ptges',\n",
       " 'Bin2',\n",
       " 'Gmnn',\n",
       " 'Tagln2',\n",
       " 'Susd3',\n",
       " 'Ccl12']"
      ]
     },
     "execution_count": 301,
     "metadata": {},
     "output_type": "execute_result"
    }
   ],
   "source": [
    "false_positives"
   ]
  },
  {
   "cell_type": "code",
   "execution_count": 269,
   "id": "6b58a237-3c07-4c5a-a6b0-50e6a120358b",
   "metadata": {},
   "outputs": [
    {
     "data": {
      "text/plain": [
       "<matplotlib.collections.PathCollection at 0x7f0ad814d7e0>"
      ]
     },
     "execution_count": 269,
     "metadata": {},
     "output_type": "execute_result"
    },
    {
     "data": {
      "image/png": "[encoded data removed]",
      "text/plain": [
       "<Figure size 640x480 with 1 Axes>"
      ]
     },
     "metadata": {},
     "output_type": "display_data"
    }
   ],
   "source": [
    "plt.scatter(rv_disp['dispersion_diff'], rv_disp['mean'], s=1)"
   ]
  },
  {
   "cell_type": "code",
   "execution_count": null,
   "id": "2e5641a2-2626-49a9-b1d7-73a0ee0595d5",
   "metadata": {},
   "outputs": [],
   "source": []
  },
  {
   "cell_type": "code",
   "execution_count": null,
   "id": "f89e24f8-42c9-4c4a-9266-78a0dbf3d685",
   "metadata": {},
   "outputs": [],
   "source": []
  },
  {
   "cell_type": "code",
   "execution_count": null,
   "id": "ba12746c-65eb-4c48-9ea9-0bd032bbd95c",
   "metadata": {},
   "outputs": [],
   "source": []
  },
  {
   "cell_type": "code",
   "execution_count": null,
   "id": "dd96cf55-2313-40ac-9568-b3f354462f01",
   "metadata": {},
   "outputs": [],
   "source": []
  },
  {
   "cell_type": "code",
   "execution_count": null,
   "id": "09e5daf6-2eb4-41af-af65-3b04c5543532",
   "metadata": {},
   "outputs": [],
   "source": []
  },
  {
   "cell_type": "code",
   "execution_count": null,
   "id": "3122e1b0-2fce-4332-bb7a-a8cca7c06f66",
   "metadata": {},
   "outputs": [],
   "source": []
  },
  {
   "cell_type": "code",
   "execution_count": null,
   "id": "c3ecbbef-2657-4bb9-8741-a1922d324aca",
   "metadata": {},
   "outputs": [],
   "source": []
  },
  {
   "cell_type": "code",
   "execution_count": null,
   "id": "39a3136d-6433-4c7c-abd2-df657833b865",
   "metadata": {},
   "outputs": [],
   "source": []
  },
  {
   "cell_type": "code",
   "execution_count": null,
   "id": "42ca2442-545b-46cc-af48-401fbf60c97d",
   "metadata": {},
   "outputs": [],
   "source": []
  },
  {
   "cell_type": "code",
   "execution_count": null,
   "id": "bf5cc2a7-509a-4642-9e5e-b528795e6257",
   "metadata": {},
   "outputs": [],
   "source": []
  },
  {
   "cell_type": "code",
   "execution_count": null,
   "id": "0ad73a1c-bf77-4b0f-8e50-a6ee37a1b948",
   "metadata": {},
   "outputs": [],
   "source": []
  },
  {
   "cell_type": "code",
   "execution_count": 134,
   "id": "cdc991ac-0aed-407b-8b83-c32f8b57e17b",
   "metadata": {
    "tags": []
   },
   "outputs": [
    {
     "ename": "FileNotFoundError",
     "evalue": "[Errno 2] No such file or directory: '/data_volume/memento/method_comparison/squair/T4_vs_cM.bulk.edger_lrt.csv'",
     "output_type": "error",
     "traceback": [
      "\u001b[0;31m---------------------------------------------------------------------------\u001b[0m",
      "\u001b[0;31mFileNotFoundError\u001b[0m                         Traceback (most recent call last)",
      "Cell \u001b[0;32mIn[134], line 18\u001b[0m\n\u001b[1;32m      1\u001b[0m name_paths \u001b[38;5;241m=\u001b[39m [\n\u001b[1;32m      2\u001b[0m     (\u001b[38;5;124m'\u001b[39m\u001b[38;5;124mbulk_edger_lrt\u001b[39m\u001b[38;5;124m'\u001b[39m,\u001b[38;5;124m'\u001b[39m\u001b[38;5;124mT4_vs_cM.bulk.edger_lrt.csv\u001b[39m\u001b[38;5;124m'\u001b[39m, [\u001b[38;5;124m'\u001b[39m\u001b[38;5;124mlogFC\u001b[39m\u001b[38;5;124m'\u001b[39m,\u001b[38;5;124m'\u001b[39m\u001b[38;5;124mPValue\u001b[39m\u001b[38;5;124m'\u001b[39m, \u001b[38;5;124m'\u001b[39m\u001b[38;5;124mFDR\u001b[39m\u001b[38;5;124m'\u001b[39m]), \n\u001b[1;32m      3\u001b[0m     (\u001b[38;5;124m'\u001b[39m\u001b[38;5;124mbulk_edger_qlft\u001b[39m\u001b[38;5;124m'\u001b[39m,\u001b[38;5;124m'\u001b[39m\u001b[38;5;124mT4_vs_cM.bulk.edger_qlft.csv\u001b[39m\u001b[38;5;124m'\u001b[39m, [\u001b[38;5;124m'\u001b[39m\u001b[38;5;124mlogFC\u001b[39m\u001b[38;5;124m'\u001b[39m,\u001b[38;5;124m'\u001b[39m\u001b[38;5;124mPValue\u001b[39m\u001b[38;5;124m'\u001b[39m, \u001b[38;5;124m'\u001b[39m\u001b[38;5;124mFDR\u001b[39m\u001b[38;5;124m'\u001b[39m]), \n\u001b[0;32m   (...)\u001b[0m\n\u001b[1;32m     16\u001b[0m     \n\u001b[1;32m     17\u001b[0m ]\n\u001b[0;32m---> 18\u001b[0m results \u001b[38;5;241m=\u001b[39m [pd\u001b[38;5;241m.\u001b[39mread_csv(data_path \u001b[38;5;241m+\u001b[39m path, index_col\u001b[38;5;241m=\u001b[39m\u001b[38;5;241m0\u001b[39m)[cols]\u001b[38;5;241m.\u001b[39mrename(columns\u001b[38;5;241m=\u001b[39m\u001b[38;5;28mdict\u001b[39m(\u001b[38;5;28mzip\u001b[39m(cols,[\u001b[38;5;124m'\u001b[39m\u001b[38;5;124mlogFC\u001b[39m\u001b[38;5;124m'\u001b[39m,\u001b[38;5;124m'\u001b[39m\u001b[38;5;124mPValue\u001b[39m\u001b[38;5;124m'\u001b[39m, \u001b[38;5;124m'\u001b[39m\u001b[38;5;124mFDR\u001b[39m\u001b[38;5;124m'\u001b[39m])))  \u001b[38;5;28;01mfor\u001b[39;00m name, path, cols \u001b[38;5;129;01min\u001b[39;00m name_paths]\n\u001b[1;32m     19\u001b[0m gene_lists \u001b[38;5;241m=\u001b[39m [\u001b[38;5;28mset\u001b[39m(res\u001b[38;5;241m.\u001b[39mindex) \u001b[38;5;28;01mfor\u001b[39;00m res \u001b[38;5;129;01min\u001b[39;00m results]\n\u001b[1;32m     20\u001b[0m genes \u001b[38;5;241m=\u001b[39m \u001b[38;5;28mlist\u001b[39m(functools\u001b[38;5;241m.\u001b[39mreduce(\u001b[38;5;28;01mlambda\u001b[39;00m x,y: x \u001b[38;5;241m&\u001b[39m y, gene_lists))\n",
      "Cell \u001b[0;32mIn[134], line 18\u001b[0m, in \u001b[0;36m<listcomp>\u001b[0;34m(.0)\u001b[0m\n\u001b[1;32m      1\u001b[0m name_paths \u001b[38;5;241m=\u001b[39m [\n\u001b[1;32m      2\u001b[0m     (\u001b[38;5;124m'\u001b[39m\u001b[38;5;124mbulk_edger_lrt\u001b[39m\u001b[38;5;124m'\u001b[39m,\u001b[38;5;124m'\u001b[39m\u001b[38;5;124mT4_vs_cM.bulk.edger_lrt.csv\u001b[39m\u001b[38;5;124m'\u001b[39m, [\u001b[38;5;124m'\u001b[39m\u001b[38;5;124mlogFC\u001b[39m\u001b[38;5;124m'\u001b[39m,\u001b[38;5;124m'\u001b[39m\u001b[38;5;124mPValue\u001b[39m\u001b[38;5;124m'\u001b[39m, \u001b[38;5;124m'\u001b[39m\u001b[38;5;124mFDR\u001b[39m\u001b[38;5;124m'\u001b[39m]), \n\u001b[1;32m      3\u001b[0m     (\u001b[38;5;124m'\u001b[39m\u001b[38;5;124mbulk_edger_qlft\u001b[39m\u001b[38;5;124m'\u001b[39m,\u001b[38;5;124m'\u001b[39m\u001b[38;5;124mT4_vs_cM.bulk.edger_qlft.csv\u001b[39m\u001b[38;5;124m'\u001b[39m, [\u001b[38;5;124m'\u001b[39m\u001b[38;5;124mlogFC\u001b[39m\u001b[38;5;124m'\u001b[39m,\u001b[38;5;124m'\u001b[39m\u001b[38;5;124mPValue\u001b[39m\u001b[38;5;124m'\u001b[39m, \u001b[38;5;124m'\u001b[39m\u001b[38;5;124mFDR\u001b[39m\u001b[38;5;124m'\u001b[39m]), \n\u001b[0;32m   (...)\u001b[0m\n\u001b[1;32m     16\u001b[0m     \n\u001b[1;32m     17\u001b[0m ]\n\u001b[0;32m---> 18\u001b[0m results \u001b[38;5;241m=\u001b[39m [\u001b[43mpd\u001b[49m\u001b[38;5;241;43m.\u001b[39;49m\u001b[43mread_csv\u001b[49m\u001b[43m(\u001b[49m\u001b[43mdata_path\u001b[49m\u001b[43m \u001b[49m\u001b[38;5;241;43m+\u001b[39;49m\u001b[43m \u001b[49m\u001b[43mpath\u001b[49m\u001b[43m,\u001b[49m\u001b[43m \u001b[49m\u001b[43mindex_col\u001b[49m\u001b[38;5;241;43m=\u001b[39;49m\u001b[38;5;241;43m0\u001b[39;49m\u001b[43m)\u001b[49m[cols]\u001b[38;5;241m.\u001b[39mrename(columns\u001b[38;5;241m=\u001b[39m\u001b[38;5;28mdict\u001b[39m(\u001b[38;5;28mzip\u001b[39m(cols,[\u001b[38;5;124m'\u001b[39m\u001b[38;5;124mlogFC\u001b[39m\u001b[38;5;124m'\u001b[39m,\u001b[38;5;124m'\u001b[39m\u001b[38;5;124mPValue\u001b[39m\u001b[38;5;124m'\u001b[39m, \u001b[38;5;124m'\u001b[39m\u001b[38;5;124mFDR\u001b[39m\u001b[38;5;124m'\u001b[39m])))  \u001b[38;5;28;01mfor\u001b[39;00m name, path, cols \u001b[38;5;129;01min\u001b[39;00m name_paths]\n\u001b[1;32m     19\u001b[0m gene_lists \u001b[38;5;241m=\u001b[39m [\u001b[38;5;28mset\u001b[39m(res\u001b[38;5;241m.\u001b[39mindex) \u001b[38;5;28;01mfor\u001b[39;00m res \u001b[38;5;129;01min\u001b[39;00m results]\n\u001b[1;32m     20\u001b[0m genes \u001b[38;5;241m=\u001b[39m \u001b[38;5;28mlist\u001b[39m(functools\u001b[38;5;241m.\u001b[39mreduce(\u001b[38;5;28;01mlambda\u001b[39;00m x,y: x \u001b[38;5;241m&\u001b[39m y, gene_lists))\n",
      "File \u001b[0;32m~/anaconda3/envs/single_cell/lib/python3.10/site-packages/pandas/io/parsers/readers.py:912\u001b[0m, in \u001b[0;36mread_csv\u001b[0;34m(filepath_or_buffer, sep, delimiter, header, names, index_col, usecols, dtype, engine, converters, true_values, false_values, skipinitialspace, skiprows, skipfooter, nrows, na_values, keep_default_na, na_filter, verbose, skip_blank_lines, parse_dates, infer_datetime_format, keep_date_col, date_parser, date_format, dayfirst, cache_dates, iterator, chunksize, compression, thousands, decimal, lineterminator, quotechar, quoting, doublequote, escapechar, comment, encoding, encoding_errors, dialect, on_bad_lines, delim_whitespace, low_memory, memory_map, float_precision, storage_options, dtype_backend)\u001b[0m\n\u001b[1;32m    899\u001b[0m kwds_defaults \u001b[38;5;241m=\u001b[39m _refine_defaults_read(\n\u001b[1;32m    900\u001b[0m     dialect,\n\u001b[1;32m    901\u001b[0m     delimiter,\n\u001b[0;32m   (...)\u001b[0m\n\u001b[1;32m    908\u001b[0m     dtype_backend\u001b[38;5;241m=\u001b[39mdtype_backend,\n\u001b[1;32m    909\u001b[0m )\n\u001b[1;32m    910\u001b[0m kwds\u001b[38;5;241m.\u001b[39mupdate(kwds_defaults)\n\u001b[0;32m--> 912\u001b[0m \u001b[38;5;28;01mreturn\u001b[39;00m \u001b[43m_read\u001b[49m\u001b[43m(\u001b[49m\u001b[43mfilepath_or_buffer\u001b[49m\u001b[43m,\u001b[49m\u001b[43m \u001b[49m\u001b[43mkwds\u001b[49m\u001b[43m)\u001b[49m\n",
      "File \u001b[0;32m~/anaconda3/envs/single_cell/lib/python3.10/site-packages/pandas/io/parsers/readers.py:577\u001b[0m, in \u001b[0;36m_read\u001b[0;34m(filepath_or_buffer, kwds)\u001b[0m\n\u001b[1;32m    574\u001b[0m _validate_names(kwds\u001b[38;5;241m.\u001b[39mget(\u001b[38;5;124m\"\u001b[39m\u001b[38;5;124mnames\u001b[39m\u001b[38;5;124m\"\u001b[39m, \u001b[38;5;28;01mNone\u001b[39;00m))\n\u001b[1;32m    576\u001b[0m \u001b[38;5;66;03m# Create the parser.\u001b[39;00m\n\u001b[0;32m--> 577\u001b[0m parser \u001b[38;5;241m=\u001b[39m \u001b[43mTextFileReader\u001b[49m\u001b[43m(\u001b[49m\u001b[43mfilepath_or_buffer\u001b[49m\u001b[43m,\u001b[49m\u001b[43m \u001b[49m\u001b[38;5;241;43m*\u001b[39;49m\u001b[38;5;241;43m*\u001b[39;49m\u001b[43mkwds\u001b[49m\u001b[43m)\u001b[49m\n\u001b[1;32m    579\u001b[0m \u001b[38;5;28;01mif\u001b[39;00m chunksize \u001b[38;5;129;01mor\u001b[39;00m iterator:\n\u001b[1;32m    580\u001b[0m     \u001b[38;5;28;01mreturn\u001b[39;00m parser\n",
      "File \u001b[0;32m~/anaconda3/envs/single_cell/lib/python3.10/site-packages/pandas/io/parsers/readers.py:1407\u001b[0m, in \u001b[0;36mTextFileReader.__init__\u001b[0;34m(self, f, engine, **kwds)\u001b[0m\n\u001b[1;32m   1404\u001b[0m     \u001b[38;5;28mself\u001b[39m\u001b[38;5;241m.\u001b[39moptions[\u001b[38;5;124m\"\u001b[39m\u001b[38;5;124mhas_index_names\u001b[39m\u001b[38;5;124m\"\u001b[39m] \u001b[38;5;241m=\u001b[39m kwds[\u001b[38;5;124m\"\u001b[39m\u001b[38;5;124mhas_index_names\u001b[39m\u001b[38;5;124m\"\u001b[39m]\n\u001b[1;32m   1406\u001b[0m \u001b[38;5;28mself\u001b[39m\u001b[38;5;241m.\u001b[39mhandles: IOHandles \u001b[38;5;241m|\u001b[39m \u001b[38;5;28;01mNone\u001b[39;00m \u001b[38;5;241m=\u001b[39m \u001b[38;5;28;01mNone\u001b[39;00m\n\u001b[0;32m-> 1407\u001b[0m \u001b[38;5;28mself\u001b[39m\u001b[38;5;241m.\u001b[39m_engine \u001b[38;5;241m=\u001b[39m \u001b[38;5;28;43mself\u001b[39;49m\u001b[38;5;241;43m.\u001b[39;49m\u001b[43m_make_engine\u001b[49m\u001b[43m(\u001b[49m\u001b[43mf\u001b[49m\u001b[43m,\u001b[49m\u001b[43m \u001b[49m\u001b[38;5;28;43mself\u001b[39;49m\u001b[38;5;241;43m.\u001b[39;49m\u001b[43mengine\u001b[49m\u001b[43m)\u001b[49m\n",
      "File \u001b[0;32m~/anaconda3/envs/single_cell/lib/python3.10/site-packages/pandas/io/parsers/readers.py:1661\u001b[0m, in \u001b[0;36mTextFileReader._make_engine\u001b[0;34m(self, f, engine)\u001b[0m\n\u001b[1;32m   1659\u001b[0m     \u001b[38;5;28;01mif\u001b[39;00m \u001b[38;5;124m\"\u001b[39m\u001b[38;5;124mb\u001b[39m\u001b[38;5;124m\"\u001b[39m \u001b[38;5;129;01mnot\u001b[39;00m \u001b[38;5;129;01min\u001b[39;00m mode:\n\u001b[1;32m   1660\u001b[0m         mode \u001b[38;5;241m+\u001b[39m\u001b[38;5;241m=\u001b[39m \u001b[38;5;124m\"\u001b[39m\u001b[38;5;124mb\u001b[39m\u001b[38;5;124m\"\u001b[39m\n\u001b[0;32m-> 1661\u001b[0m \u001b[38;5;28mself\u001b[39m\u001b[38;5;241m.\u001b[39mhandles \u001b[38;5;241m=\u001b[39m \u001b[43mget_handle\u001b[49m\u001b[43m(\u001b[49m\n\u001b[1;32m   1662\u001b[0m \u001b[43m    \u001b[49m\u001b[43mf\u001b[49m\u001b[43m,\u001b[49m\n\u001b[1;32m   1663\u001b[0m \u001b[43m    \u001b[49m\u001b[43mmode\u001b[49m\u001b[43m,\u001b[49m\n\u001b[1;32m   1664\u001b[0m \u001b[43m    \u001b[49m\u001b[43mencoding\u001b[49m\u001b[38;5;241;43m=\u001b[39;49m\u001b[38;5;28;43mself\u001b[39;49m\u001b[38;5;241;43m.\u001b[39;49m\u001b[43moptions\u001b[49m\u001b[38;5;241;43m.\u001b[39;49m\u001b[43mget\u001b[49m\u001b[43m(\u001b[49m\u001b[38;5;124;43m\"\u001b[39;49m\u001b[38;5;124;43mencoding\u001b[39;49m\u001b[38;5;124;43m\"\u001b[39;49m\u001b[43m,\u001b[49m\u001b[43m \u001b[49m\u001b[38;5;28;43;01mNone\u001b[39;49;00m\u001b[43m)\u001b[49m\u001b[43m,\u001b[49m\n\u001b[1;32m   1665\u001b[0m \u001b[43m    \u001b[49m\u001b[43mcompression\u001b[49m\u001b[38;5;241;43m=\u001b[39;49m\u001b[38;5;28;43mself\u001b[39;49m\u001b[38;5;241;43m.\u001b[39;49m\u001b[43moptions\u001b[49m\u001b[38;5;241;43m.\u001b[39;49m\u001b[43mget\u001b[49m\u001b[43m(\u001b[49m\u001b[38;5;124;43m\"\u001b[39;49m\u001b[38;5;124;43mcompression\u001b[39;49m\u001b[38;5;124;43m\"\u001b[39;49m\u001b[43m,\u001b[49m\u001b[43m \u001b[49m\u001b[38;5;28;43;01mNone\u001b[39;49;00m\u001b[43m)\u001b[49m\u001b[43m,\u001b[49m\n\u001b[1;32m   1666\u001b[0m \u001b[43m    \u001b[49m\u001b[43mmemory_map\u001b[49m\u001b[38;5;241;43m=\u001b[39;49m\u001b[38;5;28;43mself\u001b[39;49m\u001b[38;5;241;43m.\u001b[39;49m\u001b[43moptions\u001b[49m\u001b[38;5;241;43m.\u001b[39;49m\u001b[43mget\u001b[49m\u001b[43m(\u001b[49m\u001b[38;5;124;43m\"\u001b[39;49m\u001b[38;5;124;43mmemory_map\u001b[39;49m\u001b[38;5;124;43m\"\u001b[39;49m\u001b[43m,\u001b[49m\u001b[43m \u001b[49m\u001b[38;5;28;43;01mFalse\u001b[39;49;00m\u001b[43m)\u001b[49m\u001b[43m,\u001b[49m\n\u001b[1;32m   1667\u001b[0m \u001b[43m    \u001b[49m\u001b[43mis_text\u001b[49m\u001b[38;5;241;43m=\u001b[39;49m\u001b[43mis_text\u001b[49m\u001b[43m,\u001b[49m\n\u001b[1;32m   1668\u001b[0m \u001b[43m    \u001b[49m\u001b[43merrors\u001b[49m\u001b[38;5;241;43m=\u001b[39;49m\u001b[38;5;28;43mself\u001b[39;49m\u001b[38;5;241;43m.\u001b[39;49m\u001b[43moptions\u001b[49m\u001b[38;5;241;43m.\u001b[39;49m\u001b[43mget\u001b[49m\u001b[43m(\u001b[49m\u001b[38;5;124;43m\"\u001b[39;49m\u001b[38;5;124;43mencoding_errors\u001b[39;49m\u001b[38;5;124;43m\"\u001b[39;49m\u001b[43m,\u001b[49m\u001b[43m \u001b[49m\u001b[38;5;124;43m\"\u001b[39;49m\u001b[38;5;124;43mstrict\u001b[39;49m\u001b[38;5;124;43m\"\u001b[39;49m\u001b[43m)\u001b[49m\u001b[43m,\u001b[49m\n\u001b[1;32m   1669\u001b[0m \u001b[43m    \u001b[49m\u001b[43mstorage_options\u001b[49m\u001b[38;5;241;43m=\u001b[39;49m\u001b[38;5;28;43mself\u001b[39;49m\u001b[38;5;241;43m.\u001b[39;49m\u001b[43moptions\u001b[49m\u001b[38;5;241;43m.\u001b[39;49m\u001b[43mget\u001b[49m\u001b[43m(\u001b[49m\u001b[38;5;124;43m\"\u001b[39;49m\u001b[38;5;124;43mstorage_options\u001b[39;49m\u001b[38;5;124;43m\"\u001b[39;49m\u001b[43m,\u001b[49m\u001b[43m \u001b[49m\u001b[38;5;28;43;01mNone\u001b[39;49;00m\u001b[43m)\u001b[49m\u001b[43m,\u001b[49m\n\u001b[1;32m   1670\u001b[0m \u001b[43m\u001b[49m\u001b[43m)\u001b[49m\n\u001b[1;32m   1671\u001b[0m \u001b[38;5;28;01massert\u001b[39;00m \u001b[38;5;28mself\u001b[39m\u001b[38;5;241m.\u001b[39mhandles \u001b[38;5;129;01mis\u001b[39;00m \u001b[38;5;129;01mnot\u001b[39;00m \u001b[38;5;28;01mNone\u001b[39;00m\n\u001b[1;32m   1672\u001b[0m f \u001b[38;5;241m=\u001b[39m \u001b[38;5;28mself\u001b[39m\u001b[38;5;241m.\u001b[39mhandles\u001b[38;5;241m.\u001b[39mhandle\n",
      "File \u001b[0;32m~/anaconda3/envs/single_cell/lib/python3.10/site-packages/pandas/io/common.py:859\u001b[0m, in \u001b[0;36mget_handle\u001b[0;34m(path_or_buf, mode, encoding, compression, memory_map, is_text, errors, storage_options)\u001b[0m\n\u001b[1;32m    854\u001b[0m \u001b[38;5;28;01melif\u001b[39;00m \u001b[38;5;28misinstance\u001b[39m(handle, \u001b[38;5;28mstr\u001b[39m):\n\u001b[1;32m    855\u001b[0m     \u001b[38;5;66;03m# Check whether the filename is to be opened in binary mode.\u001b[39;00m\n\u001b[1;32m    856\u001b[0m     \u001b[38;5;66;03m# Binary mode does not support 'encoding' and 'newline'.\u001b[39;00m\n\u001b[1;32m    857\u001b[0m     \u001b[38;5;28;01mif\u001b[39;00m ioargs\u001b[38;5;241m.\u001b[39mencoding \u001b[38;5;129;01mand\u001b[39;00m \u001b[38;5;124m\"\u001b[39m\u001b[38;5;124mb\u001b[39m\u001b[38;5;124m\"\u001b[39m \u001b[38;5;129;01mnot\u001b[39;00m \u001b[38;5;129;01min\u001b[39;00m ioargs\u001b[38;5;241m.\u001b[39mmode:\n\u001b[1;32m    858\u001b[0m         \u001b[38;5;66;03m# Encoding\u001b[39;00m\n\u001b[0;32m--> 859\u001b[0m         handle \u001b[38;5;241m=\u001b[39m \u001b[38;5;28;43mopen\u001b[39;49m\u001b[43m(\u001b[49m\n\u001b[1;32m    860\u001b[0m \u001b[43m            \u001b[49m\u001b[43mhandle\u001b[49m\u001b[43m,\u001b[49m\n\u001b[1;32m    861\u001b[0m \u001b[43m            \u001b[49m\u001b[43mioargs\u001b[49m\u001b[38;5;241;43m.\u001b[39;49m\u001b[43mmode\u001b[49m\u001b[43m,\u001b[49m\n\u001b[1;32m    862\u001b[0m \u001b[43m            \u001b[49m\u001b[43mencoding\u001b[49m\u001b[38;5;241;43m=\u001b[39;49m\u001b[43mioargs\u001b[49m\u001b[38;5;241;43m.\u001b[39;49m\u001b[43mencoding\u001b[49m\u001b[43m,\u001b[49m\n\u001b[1;32m    863\u001b[0m \u001b[43m            \u001b[49m\u001b[43merrors\u001b[49m\u001b[38;5;241;43m=\u001b[39;49m\u001b[43merrors\u001b[49m\u001b[43m,\u001b[49m\n\u001b[1;32m    864\u001b[0m \u001b[43m            \u001b[49m\u001b[43mnewline\u001b[49m\u001b[38;5;241;43m=\u001b[39;49m\u001b[38;5;124;43m\"\u001b[39;49m\u001b[38;5;124;43m\"\u001b[39;49m\u001b[43m,\u001b[49m\n\u001b[1;32m    865\u001b[0m \u001b[43m        \u001b[49m\u001b[43m)\u001b[49m\n\u001b[1;32m    866\u001b[0m     \u001b[38;5;28;01melse\u001b[39;00m:\n\u001b[1;32m    867\u001b[0m         \u001b[38;5;66;03m# Binary mode\u001b[39;00m\n\u001b[1;32m    868\u001b[0m         handle \u001b[38;5;241m=\u001b[39m \u001b[38;5;28mopen\u001b[39m(handle, ioargs\u001b[38;5;241m.\u001b[39mmode)\n",
      "\u001b[0;31mFileNotFoundError\u001b[0m: [Errno 2] No such file or directory: '/data_volume/memento/method_comparison/squair/T4_vs_cM.bulk.edger_lrt.csv'"
     ]
    }
   ],
   "source": [
    "name_paths = [\n",
    "    ('bulk_edger_lrt','T4_vs_cM.bulk.edger_lrt.csv', ['logFC','PValue', 'FDR']), \n",
    "    ('bulk_edger_qlft','T4_vs_cM.bulk.edger_qlft.csv', ['logFC','PValue', 'FDR']), \n",
    "    ('bulk_deseq2_wald', 'T4_vs_cM.bulk.deseq2_wald.csv', ['log2FoldChange','pvalue', 'padj']),\n",
    "    ('bulk_deseq2_lrt', 'T4_vs_cM.bulk.deseq2_lrt.csv', ['log2FoldChange','pvalue', 'padj']),\n",
    "    ('pseudobulk_edger','T4_vs_cM.pseudobulk.edger_lrt.csv', ['logFC','PValue', 'FDR']),\n",
    "    ('pseudobulk_deseq2','T4_vs_cM.pseudobulk.deseq2_wald.csv', ['log2FoldChange','pvalue', 'padj']),\n",
    "    ('ttest','T4_vs_cM.sc.ttest.csv', ['logFC','PValue', 'FDR']),\n",
    "    # ('WLS','T4_vs_cM.sc.wls.csv', ['logFC','PValue', 'FDR']),\n",
    "    ('sum_GLM', 'T4_vs_cM.sc.sum_glm.csv', ['logFC','PValue', 'FDR']),\n",
    "    # ('scaled_mean_GLM', 'T4_vs_cM.sc.scaled_mean_glm.csv', ['logFC','PValue', 'FDR']),\n",
    "    # ('scaled_iv_mean_GLM', 'T4_vs_cM.sc.scaled_iv_mean_glm.csv', ['logFC', 'PValue', 'FDR']),\n",
    "    ('weighted_mean_GLM', 'T4_vs_cM.sc.weighted_mean_glm.csv', ['logFC','PValue', 'FDR']),\n",
    "    ('memento', 'T4_vs_cM.sc.memento.csv', ['de_coef','de_pval', 'de_fdr']),\n",
    "    ('weighted_mean_WLS', 'T4_vs_cM.sc.weighted_mean_wls.csv', ['logFC','PValue', 'FDR'])\n",
    "    \n",
    "]\n",
    "results = [pd.read_csv(data_path + path, index_col=0)[cols].rename(columns=dict(zip(cols,['logFC','PValue', 'FDR'])))  for name, path, cols in name_paths]\n",
    "gene_lists = [set(res.index) for res in results]\n",
    "genes = list(functools.reduce(lambda x,y: x & y, gene_lists))\n",
    "results = [res.loc[genes].sort_values('FDR') for res in results]\n",
    "\n",
    "curves = [\n",
    "    concordance_curve(\n",
    "        results[0].index, \n",
    "        results[1].index, \n",
    "        results[2].index,\n",
    "        results[3].index,\n",
    "        res.index) for res in results[4:]]"
   ]
  },
  {
   "cell_type": "code",
   "execution_count": 135,
   "id": "cc4391d1-6b4a-4d23-b302-58384364b451",
   "metadata": {
    "tags": []
   },
   "outputs": [
    {
     "ename": "NameError",
     "evalue": "name 'curves' is not defined",
     "output_type": "error",
     "traceback": [
      "\u001b[0;31m---------------------------------------------------------------------------\u001b[0m",
      "\u001b[0;31mNameError\u001b[0m                                 Traceback (most recent call last)",
      "Cell \u001b[0;32mIn[135], line 1\u001b[0m\n\u001b[0;32m----> 1\u001b[0m \u001b[38;5;28;01mfor\u001b[39;00m idx, (x,y) \u001b[38;5;129;01min\u001b[39;00m \u001b[38;5;28menumerate\u001b[39m(\u001b[43mcurves\u001b[49m):\n\u001b[1;32m      2\u001b[0m     plt\u001b[38;5;241m.\u001b[39mplot(x,y, label\u001b[38;5;241m=\u001b[39mname_paths[idx\u001b[38;5;241m+\u001b[39m\u001b[38;5;241m4\u001b[39m][\u001b[38;5;241m0\u001b[39m])\n\u001b[1;32m      3\u001b[0m plt\u001b[38;5;241m.\u001b[39mlegend()\n",
      "\u001b[0;31mNameError\u001b[0m: name 'curves' is not defined"
     ]
    }
   ],
   "source": [
    "for idx, (x,y) in enumerate(curves):\n",
    "    plt.plot(x,y, label=name_paths[idx+4][0])\n",
    "plt.legend()"
   ]
  },
  {
   "cell_type": "code",
   "execution_count": 136,
   "id": "ef92773d-2788-4659-a42c-2777a44bdef5",
   "metadata": {
    "tags": []
   },
   "outputs": [
    {
     "ename": "NameError",
     "evalue": "name 'results' is not defined",
     "output_type": "error",
     "traceback": [
      "\u001b[0;31m---------------------------------------------------------------------------\u001b[0m",
      "\u001b[0;31mNameError\u001b[0m                                 Traceback (most recent call last)",
      "Cell \u001b[0;32mIn[136], line 4\u001b[0m\n\u001b[1;32m      1\u001b[0m plt\u001b[38;5;241m.\u001b[39mfigure(figsize\u001b[38;5;241m=\u001b[39m(\u001b[38;5;241m5\u001b[39m,\u001b[38;5;241m2\u001b[39m))\n\u001b[1;32m      3\u001b[0m plt\u001b[38;5;241m.\u001b[39msubplot(\u001b[38;5;241m1\u001b[39m, \u001b[38;5;241m2\u001b[39m, \u001b[38;5;241m1\u001b[39m)\n\u001b[0;32m----> 4\u001b[0m \u001b[43mresults\u001b[49m[\u001b[38;5;241m4\u001b[39m][\u001b[38;5;124m'\u001b[39m\u001b[38;5;124mPValue\u001b[39m\u001b[38;5;124m'\u001b[39m]\u001b[38;5;241m.\u001b[39mhist()\n\u001b[1;32m      6\u001b[0m plt\u001b[38;5;241m.\u001b[39msubplot(\u001b[38;5;241m1\u001b[39m, \u001b[38;5;241m2\u001b[39m, \u001b[38;5;241m2\u001b[39m)\n\u001b[1;32m      7\u001b[0m results[\u001b[38;5;241m-\u001b[39m\u001b[38;5;241m3\u001b[39m][\u001b[38;5;124m'\u001b[39m\u001b[38;5;124mPValue\u001b[39m\u001b[38;5;124m'\u001b[39m]\u001b[38;5;241m.\u001b[39mhist()\n",
      "\u001b[0;31mNameError\u001b[0m: name 'results' is not defined"
     ]
    },
    {
     "data": {
      "image/png": "[encoded data removed]",
      "text/plain": [
       "<Figure size 500x200 with 1 Axes>"
      ]
     },
     "metadata": {},
     "output_type": "display_data"
    }
   ],
   "source": [
    "plt.figure(figsize=(5,2))\n",
    "\n",
    "plt.subplot(1, 2, 1)\n",
    "results[4]['PValue'].hist()\n",
    "\n",
    "plt.subplot(1, 2, 2)\n",
    "results[-3]['PValue'].hist()"
   ]
  },
  {
   "cell_type": "markdown",
   "id": "8401fc7f-d6f3-4d75-b4a0-c8400021427c",
   "metadata": {},
   "source": [
    "### Read results with repeated trials"
   ]
  },
  {
   "cell_type": "code",
   "execution_count": 13,
   "id": "a457a45d-646e-4dba-be03-bbc647ef0a8d",
   "metadata": {},
   "outputs": [],
   "source": [
    "all_results = []\n",
    "for numcells in [150]:\n",
    "    for trial in range(50):        \n",
    "        name_paths = [\n",
    "            ('bulk_edger_lrt','T4_vs_cM.bulk.edger_lrt.{}.{}.csv'.format(numcells, trial), ['logFC','PValue', 'FDR']), \n",
    "            ('bulk_edger_qlft','T4_vs_cM.bulk.edger_qlft.{}.{}.csv'.format(numcells, trial), ['logFC','PValue', 'FDR']),\n",
    "            ('bulk_deseq2_wald', 'T4_vs_cM.bulk.deseq2_wald.{}.{}.csv'.format(numcells, trial), ['log2FoldChange','pvalue', 'padj']),\n",
    "            ('bulk_deseq2_lrt', 'T4_vs_cM.bulk.deseq2_lrt.{}.{}.csv'.format(numcells, trial), ['log2FoldChange','pvalue', 'padj']),\n",
    "            ('edgeR','T4_vs_cM.pseudobulk.edger_lrt.{}.{}.csv'.format(numcells, trial), ['logFC','PValue', 'FDR']),\n",
    "            ('DESeq2','T4_vs_cM.pseudobulk.deseq2_wald.{}.{}.csv'.format(numcells, trial), ['log2FoldChange','pvalue', 'padj']),\n",
    "            ('t-test','T4_vs_cM.sc.ttest.{}.{}.csv'.format(numcells, trial), ['logFC','PValue', 'FDR']),\n",
    "            ('MWU','T4_vs_cM.sc.mwu.{}.{}.csv'.format(numcells, trial), ['logFC','PValue', 'FDR']),\n",
    "            ('MAST','T4_vs_cM.sc.MAST.{}.{}.csv'.format(numcells, trial), ['coef','Pr(>Chisq)', 'fdr']),\n",
    "            ('memento', 'T4_vs_cM.sc.weighted_mean_glm.{}.{}.csv'.format(numcells, trial), ['logFC','PValue', 'FDR']),\n",
    "        ]\n",
    "        results = [pd.read_csv(data_path + path, index_col=0)[cols].rename(columns=dict(zip(cols,['logFC','PValue', 'FDR'])))  for name, path, cols in name_paths]\n",
    "        gene_lists = [set(res.index) for res in results]\n",
    "        genes = list(functools.reduce(lambda x,y: x & y, gene_lists))\n",
    "        results = [res.loc[genes].sort_values('FDR') for res in results]\n",
    "\n",
    "        scores = [\n",
    "            (name_paths[idx+4][0].replace('_', '\\n'), numcells, concordance_auc(\n",
    "                results[0].index, \n",
    "                results[1].index, \n",
    "                results[2].index,\n",
    "                results[3].index,\n",
    "                res.index)) for idx, res in enumerate(results[4:])]\n",
    "        all_results+=scores\n",
    "        \n",
    "        curves = [\n",
    "            concordance_curve(\n",
    "                results[0].index, \n",
    "                results[1].index, \n",
    "                results[2].index,\n",
    "                results[3].index,\n",
    "                res.index) for res in results[4:]]"
   ]
  },
  {
   "cell_type": "code",
   "execution_count": 14,
   "id": "80dd15d0-3f3e-4207-b5a5-355f55b9b882",
   "metadata": {},
   "outputs": [],
   "source": [
    "# plt.figure(figsize=(3,3))\n",
    "# for idx, (x,y) in enumerate(curves):\n",
    "#     plt.plot(x,y, label=name_paths[idx+4][0])\n",
    "# plt.legend()\n",
    "# plt.xlabel('Number of top genes')\n",
    "# plt.ylabel('Overlap with bulk RNA-seq')"
   ]
  },
  {
   "cell_type": "code",
   "execution_count": 15,
   "id": "3426ed67-cba5-4345-901d-7feaab7ba9c5",
   "metadata": {},
   "outputs": [],
   "source": [
    "df = pd.DataFrame(all_results, columns=['name', 'numcells', 'auc'])"
   ]
  },
  {
   "cell_type": "code",
   "execution_count": 23,
   "id": "0d3a489b-bdd8-4f55-9849-9d7cda059112",
   "metadata": {},
   "outputs": [
    {
     "name": "stderr",
     "output_type": "stream",
     "text": [
      "/tmp/ipykernel_14545/200401537.py:14: FutureWarning: Passing `palette` without assigning `hue` is deprecated.\n",
      "  sns.stripplot(\n",
      "/tmp/ipykernel_14545/200401537.py:14: UserWarning: The palette list has more values (7) than needed (6), which may not be intended.\n",
      "  sns.stripplot(\n"
     ]
    },
    {
     "data": {
      "image/png": "[encoded data removed]",
      "text/plain": [
       "<Figure size 250x200 with 1 Axes>"
      ]
     },
     "metadata": {},
     "output_type": "display_data"
    }
   ],
   "source": [
    "plt.figure(figsize=(2.5,2))\n",
    "sns.boxplot(\n",
    "    y='name',\n",
    "    x='auc', \n",
    "    data=df.query('numcells==150'), \n",
    "    order=[\n",
    "        'memento',\n",
    "        'edgeR',\n",
    "        'DESeq2',\n",
    "        'MAST',\n",
    "        'MWU',\n",
    "        't-test',],\n",
    "    palette=pal)\n",
    "sns.stripplot(\n",
    "    y='name',\n",
    "    x='auc', \n",
    "    data=df.query('numcells==150'), \n",
    "    order=[\n",
    "        'memento',\n",
    "        'edgeR',\n",
    "        'DESeq2',\n",
    "        'MAST',\n",
    "        'MWU',\n",
    "        't-test',],\n",
    "    linewidth=1,\n",
    "    palette=pal)\n",
    "plt.xlabel('Concordance to \\nbulk RNA-seq')\n",
    "plt.ylabel('')\n",
    "plt.savefig('lupus_bulk_comparison.pdf', bbox_inches='tight')"
   ]
  },
  {
   "cell_type": "markdown",
   "id": "f6620218-fee4-4b9e-8d3b-6a531de56958",
   "metadata": {},
   "source": [
    "### Single example"
   ]
  },
  {
   "cell_type": "code",
   "execution_count": 139,
   "id": "b22c66ac-1478-4feb-90bf-b76b957b64fd",
   "metadata": {},
   "outputs": [],
   "source": [
    "name_paths = [\n",
    "    ('bulk_edger_lrt','T4_vs_cM.bulk.edger_lrt.csv', ['logFC','PValue', 'FDR']), \n",
    "    ('bulk_edger_qlft','T4_vs_cM.bulk.edger_qlft.csv', ['logFC','PValue', 'FDR']),\n",
    "    ('bulk_deseq2_wald', 'T4_vs_cM.bulk.deseq2_wald.csv', ['log2FoldChange','pvalue', 'padj']),\n",
    "    ('bulk_deseq2_lrt', 'T4_vs_cM.bulk.deseq2_lrt.csv', ['log2FoldChange','pvalue', 'padj']),\n",
    "    ('pseudobulk_edger','T4_vs_cM.pseudobulk.edger.csv', ['logFC','PValue', 'FDR']),\n",
    "    ('pseudobulk_deseq2','T4_vs_cM.pseudobulk.deseq2.csv', ['log2FoldChange','pvalue', 'padj']),\n",
    "    ('ttest','T4_vs_cM.sc.ttest.csv', ['logFC','PValue', 'FDR']),\n",
    "    ('weighted_mean_GLM', 'T4_vs_cM.sc.weighted_mean_glm.csv', ['logFC','PValue', 'FDR']),\n",
    "]\n",
    "results = [pd.read_csv(data_path + path, index_col=0)[cols].rename(columns=dict(zip(cols,['logFC','PValue', 'FDR'])))  for name, path, cols in name_paths]\n",
    "gene_lists = [set(res.index) for res in results]\n",
    "genes = list(functools.reduce(lambda x,y: x & y, gene_lists))\n",
    "results = [res.loc[genes].sort_values('FDR') for res in results]\n",
    "\n",
    "curves = [\n",
    "    concordance_curve(\n",
    "        results[0].index, \n",
    "        results[1].index, \n",
    "        results[2].index,\n",
    "        results[3].index,\n",
    "        res.index) for res in results[4:]]"
   ]
  },
  {
   "cell_type": "code",
   "execution_count": 141,
   "id": "6a110a3e-ea6f-4cc3-ba35-e78e1bbdd996",
   "metadata": {},
   "outputs": [],
   "source": []
  },
  {
   "cell_type": "code",
   "execution_count": 142,
   "id": "53760903-98b8-4236-a71c-62c4c90bca28",
   "metadata": {},
   "outputs": [
    {
     "data": {
      "text/plain": [
       "<matplotlib.legend.Legend at 0x7fa66ddd9220>"
      ]
     },
     "execution_count": 142,
     "metadata": {},
     "output_type": "execute_result"
    },
    {
     "data": {
      "image/png": "[encoded data removed]",
      "text/plain": [
       "<Figure size 640x480 with 1 Axes>"
      ]
     },
     "metadata": {},
     "output_type": "display_data"
    }
   ],
   "source": [
    "for idx, (x,y) in enumerate(curves):\n",
    "    plt.plot(x,y, label=name_paths[idx+4][0])\n",
    "plt.legend()"
   ]
  }
 ],
 "metadata": {
  "kernelspec": {
   "display_name": "Python (single_cell)",
   "language": "python",
   "name": "single_cell"
  },
  "language_info": {
   "codemirror_mode": {
    "name": "ipython",
    "version": 3
   },
   "file_extension": ".py",
   "mimetype": "text/x-python",
   "name": "python",
   "nbconvert_exporter": "python",
   "pygments_lexer": "ipython3",
   "version": "3.10.11"
  }
 },
 "nbformat": 4,
 "nbformat_minor": 5
}
