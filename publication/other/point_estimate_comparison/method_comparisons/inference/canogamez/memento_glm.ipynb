{
 "cells": [
  {
   "cell_type": "markdown",
   "id": "5ac12598-60f1-4ff7-80ca-5ae7367623bf",
   "metadata": {},
   "source": [
    "# Run memento-GLM for Cano-Gamez datasets"
   ]
  },
  {
   "cell_type": "code",
   "execution_count": 76,
   "id": "eee5f4da-cdbd-4fe9-945a-2b3f6f3a556d",
   "metadata": {
    "tags": []
   },
   "outputs": [],
   "source": [
    "import pandas as pd\n",
    "import matplotlib.pyplot as plt\n",
    "import seaborn as sns\n",
    "import functools\n",
    "import numpy as np\n",
    "import scanpy as sc\n",
    "import scipy.stats as stats\n",
    "from statsmodels.stats.multitest import fdrcorrection\n",
    "from patsy import dmatrix, dmatrices \n",
    "import statsmodels.api as sm"
   ]
  },
  {
   "cell_type": "code",
   "execution_count": 77,
   "id": "12310371-2aed-411e-80c9-9b1ea3b841b5",
   "metadata": {
    "tags": []
   },
   "outputs": [],
   "source": [
    "import sys\n",
    "sys.path.append('/home/ssm-user/Github/scrna-parameter-estimation/')\n",
    "import memento"
   ]
  },
  {
   "cell_type": "code",
   "execution_count": 78,
   "id": "94867d8a-ad10-4293-bfaa-9ccc4ed53a12",
   "metadata": {},
   "outputs": [
    {
     "name": "stdout",
     "output_type": "stream",
     "text": [
      "The autoreload extension is already loaded. To reload it, use:\n",
      "  %reload_ext autoreload\n"
     ]
    }
   ],
   "source": [
    "%load_ext autoreload"
   ]
  },
  {
   "cell_type": "code",
   "execution_count": 79,
   "id": "7b9902b1-dc89-44e4-86ed-780d29d8b06b",
   "metadata": {},
   "outputs": [],
   "source": [
    "%autoreload 3"
   ]
  },
  {
   "cell_type": "code",
   "execution_count": 80,
   "id": "346838df-9a5a-4c5e-ac1a-701c3e8368aa",
   "metadata": {
    "tags": []
   },
   "outputs": [],
   "source": [
    "data_path = '/data_volume/memento/method_comparison/canogamez/'"
   ]
  },
  {
   "cell_type": "markdown",
   "id": "f6cd79fe-bbe5-41b9-85f5-e53802ec94de",
   "metadata": {},
   "source": [
    "### Hagai 2018"
   ]
  },
  {
   "cell_type": "code",
   "execution_count": 91,
   "id": "5c1550bc-b5e2-4dc9-89f7-e24bbd00613d",
   "metadata": {
    "tags": []
   },
   "outputs": [],
   "source": [
    "datasets = [\n",
    " 'CD4_Memory-Th0',\n",
    " 'CD4_Memory-Th2',\n",
    " 'CD4_Memory-Th17',\n",
    " 'CD4_Memory-iTreg',\n",
    " 'CD4_Naive-Th0',\n",
    " 'CD4_Naive-Th2',\n",
    " 'CD4_Naive-Th17',\n",
    " 'CD4_Naive-iTreg'\n",
    "           ]"
   ]
  },
  {
   "cell_type": "markdown",
   "id": "9ca4f31b-77ed-43b2-9d81-3cf888c7432f",
   "metadata": {},
   "source": [
    "### Lupus implementation"
   ]
  },
  {
   "cell_type": "code",
   "execution_count": 92,
   "id": "61f9fe6c-b56f-4848-bc9d-68dae9356903",
   "metadata": {},
   "outputs": [],
   "source": [
    "def _fit_mv_regressor(mean, var):\n",
    "\t\"\"\"\n",
    "\t\tPerform regression of the variance against the mean.\n",
    "\t\"\"\"\n",
    "\t\n",
    "\tcond = (mean > 0) & (var > 0)\n",
    "\tm, v = np.log(mean[cond]), np.log(var[cond])\n",
    "\t\n",
    "\tpoly = np.polyfit(m, v, 2)\n",
    "\treturn poly\n",
    "\tf = np.poly1d(z)\n",
    "\t\n",
    "def _residual_variance(mean, var, mv_fit):\n",
    "\t\n",
    "\tcond = (mean > 0) & (var > 0)\n",
    "\trv = np.zeros(mean.shape)*np.nan\n",
    "\t\n",
    "\tf = np.poly1d(mv_fit)\n",
    "\twith np.errstate(invalid='ignore'):\n",
    "\t\trv[cond] = np.exp(np.log(var[cond]) - f(np.log(mean[cond])))\n",
    "\treturn rv\n"
   ]
  },
  {
   "cell_type": "code",
   "execution_count": 93,
   "id": "d5dac848-b498-4ee8-b1c9-e14d38ecd64c",
   "metadata": {},
   "outputs": [
    {
     "name": "stdout",
     "output_type": "stream",
     "text": [
      "CD4_Memory-Th0\n",
      "CD4_Memory-Th2\n",
      "CD4_Memory-Th17\n",
      "CD4_Memory-iTreg\n",
      "CD4_Naive-Th0\n",
      "CD4_Naive-Th2\n",
      "CD4_Naive-Th17\n",
      "CD4_Naive-iTreg\n"
     ]
    }
   ],
   "source": [
    "trial = 1\n",
    "for dataset in datasets: \n",
    "    print(dataset)\n",
    "    ct, stim = dataset.split('-')\n",
    "\n",
    "    glm_adata = sc.read(data_path + 'single_cell/{}_{}.h5ad'.format(dataset, trial))\n",
    "    dispersions = pd.read_csv(data_path + 'sc_results/{}_{}_dispersions.csv'.format(dataset, trial), index_col=0)\n",
    "    gene_list = dispersions['gene'].tolist()\n",
    "    dispersions = dispersions['dispersion'].tolist()\n",
    "    \n",
    "    inds = glm_adata.obs['donor.id'].drop_duplicates().tolist()\n",
    "    stims = [stim, 'UNS']\n",
    "\n",
    "    def sample_sum(data):\n",
    "\n",
    "        s = data.sum(axis=0)\n",
    "        return s\n",
    "\n",
    "    def scaled_mean_se2(data):\n",
    "\n",
    "        augmented_data = np.append(data, np.ones((1,data.shape[1])), axis=0)\n",
    "\n",
    "        q=0.15\n",
    "        sf = augmented_data.sum(axis=1)\n",
    "        X = augmented_data/sf.reshape(-1,1)\n",
    "\n",
    "        naive_v = X.var(axis=0)\n",
    "        naive_m = X.mean(axis=0)\n",
    "        v = naive_v#-(1-q)*(X/(sf**2-sf*(1-q)).reshape(-1,1)).mean(axis=0)\n",
    "        variance_contributions = ((1-q)/sf).reshape(-1,1)*naive_m.reshape(1,-1) + v.reshape(1,-1)\n",
    "        m = np.average( X, weights=1/variance_contributions, axis=0)\n",
    "        m[~np.isfinite(m)] = naive_m[~np.isfinite(m)]\n",
    "        mv_fit = _fit_mv_regressor(m, v)\n",
    "        res_v = _residual_variance(m,v,mv_fit)\n",
    "\n",
    "        # m = (augmented_data/sf.reshape(-1,1)).mean(axis=0)\n",
    "        # v = (augmented_data/sf.reshape(-1,1)).var(axis=0)\n",
    "        # v = v-(1-q)*(X/(sf**2-sf*(1-q)).reshape(-1,1)).mean(axis=0)\n",
    "\n",
    "        return m*data.sum()*q, (v/data.shape[0])*(data.sum()**2)\n",
    "\n",
    "    scaled_means = []\n",
    "    sums = []\n",
    "    weights = []\n",
    "    meta = []\n",
    "    totals = []\n",
    "    for ind in inds:\n",
    "        for cytokine in stims:\n",
    "\n",
    "            data = glm_adata[(glm_adata.obs['donor.id']==ind) & (glm_adata.obs['cytokine.condition']==cytokine)].X.toarray()\n",
    "            \n",
    "            if data.shape[0] < 10:\n",
    "                continue\n",
    "            totals.append(data.sum())\n",
    "            summed = sample_sum(data)\n",
    "            s, se2 = scaled_mean_se2(data)\n",
    "            scaled_means.append(s)\n",
    "            w = np.ones(s.shape[0])\n",
    "            w[se2>0] = 1/se2[se2>0]\n",
    "            weights.append(np.sqrt(1/se2))\n",
    "            meta.append((ind, int(cytokine==stim)))\n",
    "            sums.append(summed)\n",
    "    scaled_means = pd.DataFrame(np.vstack(scaled_means), columns=glm_adata.var.index)\n",
    "    sums = pd.DataFrame(np.vstack(sums), columns=glm_adata.var.index)\n",
    "    weights = pd.DataFrame(np.vstack(weights), columns=glm_adata.var.index)\n",
    "    weights = weights.fillna(weights.mean())\n",
    "    totals = np.array(totals)\n",
    "    meta = pd.DataFrame(meta, columns=['ind', 'stim'])\n",
    "\n",
    "    # Filter and re-order by gene_list\n",
    "    scaled_means = scaled_means[gene_list]\n",
    "    weights = weights[gene_list]\n",
    "    sums = sums[gene_list]\n",
    "\n",
    "    weights = weights / np.mean(weights.values)\n",
    "\n",
    "    design = dmatrix('ind+stim', meta)\n",
    "    totals = scaled_means.sum(axis=1).values\n",
    "    totals = sums.sum(axis=1).values\n",
    "\n",
    "    weighted_mean_glm_results = []\n",
    "    for idx in range(len(gene_list)):\n",
    "        model = sm.GLM(\n",
    "            scaled_means.iloc[:, [idx]], \n",
    "            design , \n",
    "            offset=np.log(totals),\n",
    "            var_weights=weights.iloc[:, idx],\n",
    "            family=sm.families.NegativeBinomial(alpha=dispersions[idx]))\n",
    "        res_model = sm.GLM(\n",
    "            scaled_means.iloc[:, [idx]], \n",
    "            design[:, :-1] , \n",
    "            offset=np.log(totals),\n",
    "            var_weights=weights.iloc[:, idx],\n",
    "            family=sm.families.NegativeBinomial(alpha=dispersions[idx]))\n",
    "        try:\n",
    "            fit = model.fit()\n",
    "            res_fit = res_model.fit()\n",
    "        except:\n",
    "            weighted_mean_glm_results.append((0, 1))\n",
    "            continue\n",
    "        pv = stats.chi2.sf(-2*(res_fit.llf - fit.llf), df=res_fit.df_resid-fit.df_resid)\n",
    "        weighted_mean_glm_results.append((fit.params[-1], pv))\n",
    "        \n",
    "    weighted_mean_glm_results = pd.DataFrame(weighted_mean_glm_results, columns=['logFC', 'PValue'], index=gene_list)\n",
    "    _, weighted_mean_glm_results['FDR'] = fdrcorrection(weighted_mean_glm_results['PValue'])\n",
    "\n",
    "    weighted_mean_glm_results.to_csv(data_path + 'sc_results/{}_{}_memento_glm.csv'.format(dataset, trial))\n",
    "    "
   ]
  },
  {
   "cell_type": "code",
   "execution_count": 94,
   "id": "f6217c28-9eb1-4dc9-88ac-f93e4fdad698",
   "metadata": {},
   "outputs": [
    {
     "data": {
      "text/plain": [
       "array([27908427,  3015698,  2580290, 35831423,  1110666, 38263833,\n",
       "        1785800])"
      ]
     },
     "execution_count": 94,
     "metadata": {},
     "output_type": "execute_result"
    }
   ],
   "source": [
    "totals"
   ]
  },
  {
   "cell_type": "markdown",
   "id": "ce9eb8bb-f754-4141-88ea-4250386fd895",
   "metadata": {},
   "source": [
    "### RUn tt-est and MWU"
   ]
  },
  {
   "cell_type": "code",
   "execution_count": 75,
   "id": "5821d080-66c5-490f-8120-1a4f0edcfb75",
   "metadata": {},
   "outputs": [
    {
     "name": "stdout",
     "output_type": "stream",
     "text": [
      "working on CD4_Memory-Th0\n",
      "working on CD4_Memory-Th2\n",
      "working on CD4_Memory-Th17\n",
      "working on CD4_Memory-iTreg\n",
      "working on CD4_Naive-Th0\n",
      "working on CD4_Naive-Th2\n",
      "working on CD4_Naive-Th17\n",
      "working on CD4_Naive-iTreg\n"
     ]
    }
   ],
   "source": [
    "def safe_fdr(x):\n",
    "    fdr = np.ones(x.shape[0])\n",
    "    _, fdr[np.isfinite(x)] = fdrcorrection(x[np.isfinite(x)])\n",
    "    return fdr\n",
    "\n",
    "for dataset in datasets:\n",
    "    for trial in range(1,2):\n",
    "        print('working on', dataset)\n",
    "\n",
    "        # stim = file.split('-')[-1]\n",
    "\n",
    "        adata = sc.read_h5ad(data_path + 'single_cell/{}_{}.h5ad'.format(dataset, trial))\n",
    "        labels = adata.obs['cytokine.condition'].drop_duplicates().tolist()\n",
    "\n",
    "        data1 = adata[adata.obs['cytokine.condition'] ==labels[0]].X.todense()\n",
    "        data2 = adata[adata.obs['cytokine.condition'] ==labels[1]].X.todense()\n",
    "\n",
    "        statistic, pvalue = stats.ttest_ind(data1, data2, axis=0)\n",
    "\n",
    "        logfc = data1.mean(axis=0) - data2.mean(axis=0)\n",
    "\n",
    "        ttest_result = pd.DataFrame(\n",
    "            zip(logfc.A1, pvalue, safe_fdr(pvalue)), \n",
    "            index=adata.var.index,\n",
    "            columns=['logFC', 'PValue', 'FDR'])\n",
    "        ttest_result.to_csv(data_path + 'sc_results/{}_{}_t-test.csv'.format(dataset, trial))\n",
    "\n",
    "        mwu_stat, mwu_pval = stats.mannwhitneyu(data1, data2, axis=0)\n",
    "        mwu_result = pd.DataFrame(\n",
    "            zip(logfc.A1, mwu_pval, safe_fdr(mwu_pval)), \n",
    "            index=adata.var.index,\n",
    "            columns=['logFC', 'PValue', 'FDR'])\n",
    "        mwu_result.to_csv(data_path + 'sc_results/{}_{}_MWU.csv'.format(dataset, trial))"
   ]
  },
  {
   "cell_type": "code",
   "execution_count": 70,
   "id": "7b6f2627-8f2e-46fa-9233-8b2f0855e24e",
   "metadata": {},
   "outputs": [
    {
     "data": {
      "text/plain": [
       "DesignMatrix with shape (7, 5)\n",
       "  Intercept  ind[T.D2]  ind[T.D3]  ind[T.D4]  ct\n",
       "          1          0          0          0   1\n",
       "          1          0          0          0   0\n",
       "          1          1          0          0   0\n",
       "          1          0          1          0   1\n",
       "          1          0          1          0   0\n",
       "          1          0          0          1   1\n",
       "          1          0          0          1   0\n",
       "  Terms:\n",
       "    'Intercept' (column 0)\n",
       "    'ind' (columns 1:4)\n",
       "    'ct' (column 4)"
      ]
     },
     "execution_count": 70,
     "metadata": {},
     "output_type": "execute_result"
    }
   ],
   "source": [
    "design"
   ]
  },
  {
   "cell_type": "code",
   "execution_count": 52,
   "id": "4cd4e684-0d9a-4d1a-a1bc-a83825097aa9",
   "metadata": {},
   "outputs": [
    {
     "data": {
      "text/plain": [
       "array([20453175.08590253,  3857003.2564052 , 20857495.18365347,\n",
       "        2338389.72324883, 18823216.80367367,  3732974.70533321,\n",
       "       28151555.14636867,  2354873.10729187])"
      ]
     },
     "execution_count": 52,
     "metadata": {},
     "output_type": "execute_result"
    }
   ],
   "source": [
    "totals"
   ]
  },
  {
   "cell_type": "code",
   "execution_count": 53,
   "id": "49662e2c-c7ca-45a9-83e5-9bfeba4ead6d",
   "metadata": {},
   "outputs": [
    {
     "data": {
      "text/plain": [
       "'CD4_Memory-Th0'"
      ]
     },
     "execution_count": 53,
     "metadata": {},
     "output_type": "execute_result"
    }
   ],
   "source": [
    "dataset"
   ]
  },
  {
   "cell_type": "code",
   "execution_count": 54,
   "id": "04ae7b9e-867e-4fe1-8aa8-afbed2a78d5e",
   "metadata": {},
   "outputs": [
    {
     "data": {
      "text/plain": [
       "9519"
      ]
     },
     "execution_count": 54,
     "metadata": {},
     "output_type": "execute_result"
    }
   ],
   "source": [
    "idx"
   ]
  },
  {
   "cell_type": "code",
   "execution_count": 56,
   "id": "82fee0f5-162d-4007-b519-127c0d7fe5b7",
   "metadata": {},
   "outputs": [
    {
     "data": {
      "text/plain": [
       "0    483.093552\n",
       "1      5.394017\n",
       "2     38.001428\n",
       "3     97.792908\n",
       "4     27.311584\n",
       "5     13.206822\n",
       "6     33.470755\n",
       "7     79.735536\n",
       "Name: MTRNR2L1, dtype: float64"
      ]
     },
     "execution_count": 56,
     "metadata": {},
     "output_type": "execute_result"
    }
   ],
   "source": [
    "scaled_means.iloc[:, idx]"
   ]
  },
  {
   "cell_type": "code",
   "execution_count": 33,
   "id": "0287958f-b683-49a0-b884-e703151754db",
   "metadata": {},
   "outputs": [
    {
     "data": {
      "text/plain": [
       "DesignMatrix with shape (8, 5)\n",
       "  Intercept  ind[T.D2]  ind[T.D3]  ind[T.D4]  ct\n",
       "          1          0          0          0   1\n",
       "          1          0          0          0   0\n",
       "          1          1          0          0   1\n",
       "          1          1          0          0   0\n",
       "          1          0          1          0   1\n",
       "          1          0          1          0   0\n",
       "          1          0          0          1   1\n",
       "          1          0          0          1   0\n",
       "  Terms:\n",
       "    'Intercept' (column 0)\n",
       "    'ind' (columns 1:4)\n",
       "    'ct' (column 4)"
      ]
     },
     "execution_count": 33,
     "metadata": {},
     "output_type": "execute_result"
    }
   ],
   "source": [
    "design"
   ]
  },
  {
   "cell_type": "code",
   "execution_count": 36,
   "id": "76ad617b-360a-4b85-9918-f383609898ec",
   "metadata": {},
   "outputs": [
    {
     "data": {
      "text/html": [
       "<div>\n",
       "<style scoped>\n",
       "    .dataframe tbody tr th:only-of-type {\n",
       "        vertical-align: middle;\n",
       "    }\n",
       "\n",
       "    .dataframe tbody tr th {\n",
       "        vertical-align: top;\n",
       "    }\n",
       "\n",
       "    .dataframe thead th {\n",
       "        text-align: right;\n",
       "    }\n",
       "</style>\n",
       "<table border=\"1\" class=\"dataframe\">\n",
       "  <thead>\n",
       "    <tr style=\"text-align: right;\">\n",
       "      <th>Gene</th>\n",
       "      <th>FO538757.2</th>\n",
       "      <th>AP006222.2</th>\n",
       "      <th>RP11-206L10.9</th>\n",
       "      <th>NOC2L</th>\n",
       "      <th>ISG15</th>\n",
       "      <th>SDF4</th>\n",
       "      <th>B3GALT6</th>\n",
       "      <th>UBE2J2</th>\n",
       "      <th>ACAP3</th>\n",
       "      <th>CPSF3L</th>\n",
       "      <th>...</th>\n",
       "      <th>MT-ATP8</th>\n",
       "      <th>MT-ATP6</th>\n",
       "      <th>MT-CO3</th>\n",
       "      <th>MT-ND3</th>\n",
       "      <th>MT-ND4L</th>\n",
       "      <th>MT-ND4</th>\n",
       "      <th>MT-ND5</th>\n",
       "      <th>MT-ND6</th>\n",
       "      <th>MT-CYB</th>\n",
       "      <th>AL592183.1</th>\n",
       "    </tr>\n",
       "  </thead>\n",
       "  <tbody>\n",
       "    <tr>\n",
       "      <th>0</th>\n",
       "      <td>0.175882</td>\n",
       "      <td>0.189918</td>\n",
       "      <td>0.316612</td>\n",
       "      <td>0.107929</td>\n",
       "      <td>0.003255</td>\n",
       "      <td>0.106241</td>\n",
       "      <td>0.548434</td>\n",
       "      <td>0.129368</td>\n",
       "      <td>0.240060</td>\n",
       "      <td>0.125772</td>\n",
       "      <td>...</td>\n",
       "      <td>0.498434</td>\n",
       "      <td>0.004245</td>\n",
       "      <td>0.002694</td>\n",
       "      <td>0.008942</td>\n",
       "      <td>0.041943</td>\n",
       "      <td>0.002243</td>\n",
       "      <td>0.014872</td>\n",
       "      <td>0.029733</td>\n",
       "      <td>0.006323</td>\n",
       "      <td>0.269635</td>\n",
       "    </tr>\n",
       "    <tr>\n",
       "      <th>1</th>\n",
       "      <td>0.526103</td>\n",
       "      <td>0.430368</td>\n",
       "      <td>0.481983</td>\n",
       "      <td>0.340468</td>\n",
       "      <td>0.197334</td>\n",
       "      <td>0.256486</td>\n",
       "      <td>0.614926</td>\n",
       "      <td>0.253410</td>\n",
       "      <td>0.547080</td>\n",
       "      <td>0.292842</td>\n",
       "      <td>...</td>\n",
       "      <td>0.543599</td>\n",
       "      <td>0.023869</td>\n",
       "      <td>0.015807</td>\n",
       "      <td>0.026462</td>\n",
       "      <td>0.106650</td>\n",
       "      <td>0.018694</td>\n",
       "      <td>0.068735</td>\n",
       "      <td>0.160795</td>\n",
       "      <td>0.025417</td>\n",
       "      <td>0.477404</td>\n",
       "    </tr>\n",
       "    <tr>\n",
       "      <th>2</th>\n",
       "      <td>NaN</td>\n",
       "      <td>NaN</td>\n",
       "      <td>NaN</td>\n",
       "      <td>NaN</td>\n",
       "      <td>NaN</td>\n",
       "      <td>NaN</td>\n",
       "      <td>NaN</td>\n",
       "      <td>NaN</td>\n",
       "      <td>NaN</td>\n",
       "      <td>NaN</td>\n",
       "      <td>...</td>\n",
       "      <td>NaN</td>\n",
       "      <td>NaN</td>\n",
       "      <td>NaN</td>\n",
       "      <td>NaN</td>\n",
       "      <td>NaN</td>\n",
       "      <td>NaN</td>\n",
       "      <td>NaN</td>\n",
       "      <td>NaN</td>\n",
       "      <td>NaN</td>\n",
       "      <td>NaN</td>\n",
       "    </tr>\n",
       "    <tr>\n",
       "      <th>3</th>\n",
       "      <td>0.231916</td>\n",
       "      <td>0.599702</td>\n",
       "      <td>1.028791</td>\n",
       "      <td>0.245167</td>\n",
       "      <td>0.149812</td>\n",
       "      <td>0.271725</td>\n",
       "      <td>0.574552</td>\n",
       "      <td>0.281538</td>\n",
       "      <td>0.316310</td>\n",
       "      <td>0.341576</td>\n",
       "      <td>...</td>\n",
       "      <td>0.342683</td>\n",
       "      <td>0.020453</td>\n",
       "      <td>0.019116</td>\n",
       "      <td>0.023989</td>\n",
       "      <td>0.120082</td>\n",
       "      <td>0.021157</td>\n",
       "      <td>0.090077</td>\n",
       "      <td>0.171027</td>\n",
       "      <td>0.030226</td>\n",
       "      <td>0.303191</td>\n",
       "    </tr>\n",
       "    <tr>\n",
       "      <th>4</th>\n",
       "      <td>0.192648</td>\n",
       "      <td>0.137048</td>\n",
       "      <td>0.601480</td>\n",
       "      <td>0.114311</td>\n",
       "      <td>0.002999</td>\n",
       "      <td>0.085146</td>\n",
       "      <td>0.287437</td>\n",
       "      <td>0.161695</td>\n",
       "      <td>0.216897</td>\n",
       "      <td>0.133580</td>\n",
       "      <td>...</td>\n",
       "      <td>0.347202</td>\n",
       "      <td>0.006053</td>\n",
       "      <td>0.002958</td>\n",
       "      <td>0.010878</td>\n",
       "      <td>0.053367</td>\n",
       "      <td>0.002908</td>\n",
       "      <td>0.019480</td>\n",
       "      <td>0.041335</td>\n",
       "      <td>0.009147</td>\n",
       "      <td>0.249143</td>\n",
       "    </tr>\n",
       "    <tr>\n",
       "      <th>5</th>\n",
       "      <td>0.344229</td>\n",
       "      <td>0.467455</td>\n",
       "      <td>0.649016</td>\n",
       "      <td>0.249929</td>\n",
       "      <td>0.200633</td>\n",
       "      <td>0.234944</td>\n",
       "      <td>0.575523</td>\n",
       "      <td>0.252357</td>\n",
       "      <td>0.465758</td>\n",
       "      <td>0.324595</td>\n",
       "      <td>...</td>\n",
       "      <td>0.504536</td>\n",
       "      <td>0.019205</td>\n",
       "      <td>0.015615</td>\n",
       "      <td>0.022688</td>\n",
       "      <td>0.128699</td>\n",
       "      <td>0.018262</td>\n",
       "      <td>0.083069</td>\n",
       "      <td>0.200419</td>\n",
       "      <td>0.023527</td>\n",
       "      <td>0.469300</td>\n",
       "    </tr>\n",
       "    <tr>\n",
       "      <th>6</th>\n",
       "      <td>0.156977</td>\n",
       "      <td>0.142387</td>\n",
       "      <td>0.228027</td>\n",
       "      <td>0.106110</td>\n",
       "      <td>0.003479</td>\n",
       "      <td>0.088724</td>\n",
       "      <td>0.324586</td>\n",
       "      <td>0.127284</td>\n",
       "      <td>0.322641</td>\n",
       "      <td>0.131425</td>\n",
       "      <td>...</td>\n",
       "      <td>0.331563</td>\n",
       "      <td>0.005402</td>\n",
       "      <td>0.002544</td>\n",
       "      <td>0.009792</td>\n",
       "      <td>0.062447</td>\n",
       "      <td>0.002610</td>\n",
       "      <td>0.018423</td>\n",
       "      <td>0.018876</td>\n",
       "      <td>0.008590</td>\n",
       "      <td>0.220013</td>\n",
       "    </tr>\n",
       "    <tr>\n",
       "      <th>7</th>\n",
       "      <td>0.297986</td>\n",
       "      <td>0.586409</td>\n",
       "      <td>0.769669</td>\n",
       "      <td>0.228430</td>\n",
       "      <td>0.168349</td>\n",
       "      <td>0.234615</td>\n",
       "      <td>0.438616</td>\n",
       "      <td>0.184553</td>\n",
       "      <td>0.436684</td>\n",
       "      <td>0.331795</td>\n",
       "      <td>...</td>\n",
       "      <td>0.500247</td>\n",
       "      <td>0.025498</td>\n",
       "      <td>0.027182</td>\n",
       "      <td>0.033474</td>\n",
       "      <td>0.206970</td>\n",
       "      <td>0.023675</td>\n",
       "      <td>0.104392</td>\n",
       "      <td>0.292843</td>\n",
       "      <td>0.044026</td>\n",
       "      <td>0.289309</td>\n",
       "    </tr>\n",
       "  </tbody>\n",
       "</table>\n",
       "<p>8 rows × 7396 columns</p>\n",
       "</div>"
      ],
      "text/plain": [
       "Gene  FO538757.2  AP006222.2  RP11-206L10.9     NOC2L     ISG15      SDF4   \n",
       "0       0.175882    0.189918       0.316612  0.107929  0.003255  0.106241  \\\n",
       "1       0.526103    0.430368       0.481983  0.340468  0.197334  0.256486   \n",
       "2            NaN         NaN            NaN       NaN       NaN       NaN   \n",
       "3       0.231916    0.599702       1.028791  0.245167  0.149812  0.271725   \n",
       "4       0.192648    0.137048       0.601480  0.114311  0.002999  0.085146   \n",
       "5       0.344229    0.467455       0.649016  0.249929  0.200633  0.234944   \n",
       "6       0.156977    0.142387       0.228027  0.106110  0.003479  0.088724   \n",
       "7       0.297986    0.586409       0.769669  0.228430  0.168349  0.234615   \n",
       "\n",
       "Gene   B3GALT6    UBE2J2     ACAP3    CPSF3L  ...   MT-ATP8   MT-ATP6   \n",
       "0     0.548434  0.129368  0.240060  0.125772  ...  0.498434  0.004245  \\\n",
       "1     0.614926  0.253410  0.547080  0.292842  ...  0.543599  0.023869   \n",
       "2          NaN       NaN       NaN       NaN  ...       NaN       NaN   \n",
       "3     0.574552  0.281538  0.316310  0.341576  ...  0.342683  0.020453   \n",
       "4     0.287437  0.161695  0.216897  0.133580  ...  0.347202  0.006053   \n",
       "5     0.575523  0.252357  0.465758  0.324595  ...  0.504536  0.019205   \n",
       "6     0.324586  0.127284  0.322641  0.131425  ...  0.331563  0.005402   \n",
       "7     0.438616  0.184553  0.436684  0.331795  ...  0.500247  0.025498   \n",
       "\n",
       "Gene    MT-CO3    MT-ND3   MT-ND4L    MT-ND4    MT-ND5    MT-ND6    MT-CYB   \n",
       "0     0.002694  0.008942  0.041943  0.002243  0.014872  0.029733  0.006323  \\\n",
       "1     0.015807  0.026462  0.106650  0.018694  0.068735  0.160795  0.025417   \n",
       "2          NaN       NaN       NaN       NaN       NaN       NaN       NaN   \n",
       "3     0.019116  0.023989  0.120082  0.021157  0.090077  0.171027  0.030226   \n",
       "4     0.002958  0.010878  0.053367  0.002908  0.019480  0.041335  0.009147   \n",
       "5     0.015615  0.022688  0.128699  0.018262  0.083069  0.200419  0.023527   \n",
       "6     0.002544  0.009792  0.062447  0.002610  0.018423  0.018876  0.008590   \n",
       "7     0.027182  0.033474  0.206970  0.023675  0.104392  0.292843  0.044026   \n",
       "\n",
       "Gene  AL592183.1  \n",
       "0       0.269635  \n",
       "1       0.477404  \n",
       "2            NaN  \n",
       "3       0.303191  \n",
       "4       0.249143  \n",
       "5       0.469300  \n",
       "6       0.220013  \n",
       "7       0.289309  \n",
       "\n",
       "[8 rows x 7396 columns]"
      ]
     },
     "execution_count": 36,
     "metadata": {},
     "output_type": "execute_result"
    }
   ],
   "source": [
    "weights"
   ]
  },
  {
   "cell_type": "code",
   "execution_count": 35,
   "id": "f50d8181-0fde-4c10-a3e4-0489c2c19c28",
   "metadata": {},
   "outputs": [
    {
     "data": {
      "text/html": [
       "<div>\n",
       "<style scoped>\n",
       "    .dataframe tbody tr th:only-of-type {\n",
       "        vertical-align: middle;\n",
       "    }\n",
       "\n",
       "    .dataframe tbody tr th {\n",
       "        vertical-align: top;\n",
       "    }\n",
       "\n",
       "    .dataframe thead th {\n",
       "        text-align: right;\n",
       "    }\n",
       "</style>\n",
       "<table border=\"1\" class=\"dataframe\">\n",
       "  <thead>\n",
       "    <tr style=\"text-align: right;\">\n",
       "      <th>Gene</th>\n",
       "      <th>FO538757.2</th>\n",
       "      <th>AP006222.2</th>\n",
       "      <th>RP11-206L10.9</th>\n",
       "      <th>NOC2L</th>\n",
       "      <th>ISG15</th>\n",
       "      <th>SDF4</th>\n",
       "      <th>B3GALT6</th>\n",
       "      <th>UBE2J2</th>\n",
       "      <th>ACAP3</th>\n",
       "      <th>CPSF3L</th>\n",
       "      <th>...</th>\n",
       "      <th>MT-ATP8</th>\n",
       "      <th>MT-ATP6</th>\n",
       "      <th>MT-CO3</th>\n",
       "      <th>MT-ND3</th>\n",
       "      <th>MT-ND4L</th>\n",
       "      <th>MT-ND4</th>\n",
       "      <th>MT-ND5</th>\n",
       "      <th>MT-ND6</th>\n",
       "      <th>MT-CYB</th>\n",
       "      <th>AL592183.1</th>\n",
       "    </tr>\n",
       "  </thead>\n",
       "  <tbody>\n",
       "    <tr>\n",
       "      <th>0</th>\n",
       "      <td>26.580271</td>\n",
       "      <td>28.477228</td>\n",
       "      <td>9.166770</td>\n",
       "      <td>61.244877</td>\n",
       "      <td>2697.981470</td>\n",
       "      <td>75.121549</td>\n",
       "      <td>5.971062</td>\n",
       "      <td>65.909435</td>\n",
       "      <td>14.915811</td>\n",
       "      <td>58.012672</td>\n",
       "      <td>...</td>\n",
       "      <td>4.814692</td>\n",
       "      <td>2940.712183</td>\n",
       "      <td>5129.097175</td>\n",
       "      <td>1668.880278</td>\n",
       "      <td>232.469719</td>\n",
       "      <td>8195.446272</td>\n",
       "      <td>955.358719</td>\n",
       "      <td>407.607758</td>\n",
       "      <td>1771.489970</td>\n",
       "      <td>10.352074</td>\n",
       "    </tr>\n",
       "    <tr>\n",
       "      <th>1</th>\n",
       "      <td>4.868210</td>\n",
       "      <td>6.125504</td>\n",
       "      <td>3.584307</td>\n",
       "      <td>11.227320</td>\n",
       "      <td>26.416029</td>\n",
       "      <td>16.241032</td>\n",
       "      <td>2.029506</td>\n",
       "      <td>14.919105</td>\n",
       "      <td>3.415609</td>\n",
       "      <td>10.540060</td>\n",
       "      <td>...</td>\n",
       "      <td>3.372572</td>\n",
       "      <td>1004.991345</td>\n",
       "      <td>1341.521078</td>\n",
       "      <td>721.203308</td>\n",
       "      <td>71.888429</td>\n",
       "      <td>1340.550952</td>\n",
       "      <td>159.763806</td>\n",
       "      <td>21.336843</td>\n",
       "      <td>665.023269</td>\n",
       "      <td>4.356726</td>\n",
       "    </tr>\n",
       "    <tr>\n",
       "      <th>2</th>\n",
       "      <td>0.000000</td>\n",
       "      <td>0.000000</td>\n",
       "      <td>0.000000</td>\n",
       "      <td>0.000000</td>\n",
       "      <td>0.000000</td>\n",
       "      <td>0.000000</td>\n",
       "      <td>0.000000</td>\n",
       "      <td>0.000000</td>\n",
       "      <td>0.000000</td>\n",
       "      <td>0.000000</td>\n",
       "      <td>...</td>\n",
       "      <td>0.000000</td>\n",
       "      <td>0.000000</td>\n",
       "      <td>0.000000</td>\n",
       "      <td>0.000000</td>\n",
       "      <td>0.000000</td>\n",
       "      <td>0.000000</td>\n",
       "      <td>0.000000</td>\n",
       "      <td>0.000000</td>\n",
       "      <td>0.000000</td>\n",
       "      <td>0.000000</td>\n",
       "    </tr>\n",
       "    <tr>\n",
       "      <th>3</th>\n",
       "      <td>17.255712</td>\n",
       "      <td>3.268531</td>\n",
       "      <td>1.325556</td>\n",
       "      <td>18.871645</td>\n",
       "      <td>31.905155</td>\n",
       "      <td>14.801774</td>\n",
       "      <td>3.270195</td>\n",
       "      <td>13.114347</td>\n",
       "      <td>11.206776</td>\n",
       "      <td>9.282823</td>\n",
       "      <td>...</td>\n",
       "      <td>4.583885</td>\n",
       "      <td>1282.449598</td>\n",
       "      <td>1276.416181</td>\n",
       "      <td>940.002858</td>\n",
       "      <td>64.778586</td>\n",
       "      <td>1403.387756</td>\n",
       "      <td>128.267884</td>\n",
       "      <td>29.519061</td>\n",
       "      <td>647.627624</td>\n",
       "      <td>11.010394</td>\n",
       "    </tr>\n",
       "    <tr>\n",
       "      <th>4</th>\n",
       "      <td>26.458071</td>\n",
       "      <td>43.504049</td>\n",
       "      <td>4.031524</td>\n",
       "      <td>55.580922</td>\n",
       "      <td>1589.492575</td>\n",
       "      <td>92.912437</td>\n",
       "      <td>7.028116</td>\n",
       "      <td>39.399254</td>\n",
       "      <td>11.581210</td>\n",
       "      <td>40.899940</td>\n",
       "      <td>...</td>\n",
       "      <td>8.438977</td>\n",
       "      <td>2053.291805</td>\n",
       "      <td>4556.550603</td>\n",
       "      <td>1294.327374</td>\n",
       "      <td>181.557757</td>\n",
       "      <td>6514.940799</td>\n",
       "      <td>645.908046</td>\n",
       "      <td>332.822909</td>\n",
       "      <td>1337.246263</td>\n",
       "      <td>12.615007</td>\n",
       "    </tr>\n",
       "    <tr>\n",
       "      <th>5</th>\n",
       "      <td>10.040101</td>\n",
       "      <td>5.843941</td>\n",
       "      <td>2.379377</td>\n",
       "      <td>19.219009</td>\n",
       "      <td>25.112033</td>\n",
       "      <td>17.072694</td>\n",
       "      <td>3.291453</td>\n",
       "      <td>13.533838</td>\n",
       "      <td>5.177834</td>\n",
       "      <td>10.916390</td>\n",
       "      <td>...</td>\n",
       "      <td>4.919544</td>\n",
       "      <td>1586.017112</td>\n",
       "      <td>1694.755920</td>\n",
       "      <td>1058.400092</td>\n",
       "      <td>72.493620</td>\n",
       "      <td>1589.525898</td>\n",
       "      <td>123.865474</td>\n",
       "      <td>24.355055</td>\n",
       "      <td>939.636343</td>\n",
       "      <td>5.936413</td>\n",
       "    </tr>\n",
       "    <tr>\n",
       "      <th>6</th>\n",
       "      <td>34.059567</td>\n",
       "      <td>38.519652</td>\n",
       "      <td>10.149671</td>\n",
       "      <td>65.786875</td>\n",
       "      <td>4214.179649</td>\n",
       "      <td>77.141735</td>\n",
       "      <td>8.853274</td>\n",
       "      <td>61.929655</td>\n",
       "      <td>10.444494</td>\n",
       "      <td>51.991910</td>\n",
       "      <td>...</td>\n",
       "      <td>6.949855</td>\n",
       "      <td>2122.180282</td>\n",
       "      <td>4317.609648</td>\n",
       "      <td>1506.982087</td>\n",
       "      <td>128.724081</td>\n",
       "      <td>6230.474109</td>\n",
       "      <td>705.383229</td>\n",
       "      <td>618.772160</td>\n",
       "      <td>1290.068124</td>\n",
       "      <td>15.268535</td>\n",
       "    </tr>\n",
       "    <tr>\n",
       "      <th>7</th>\n",
       "      <td>11.918690</td>\n",
       "      <td>3.287267</td>\n",
       "      <td>2.234547</td>\n",
       "      <td>21.990299</td>\n",
       "      <td>29.492231</td>\n",
       "      <td>18.695332</td>\n",
       "      <td>4.567248</td>\n",
       "      <td>20.479965</td>\n",
       "      <td>6.135121</td>\n",
       "      <td>10.946109</td>\n",
       "      <td>...</td>\n",
       "      <td>4.302498</td>\n",
       "      <td>712.513564</td>\n",
       "      <td>860.598315</td>\n",
       "      <td>537.503477</td>\n",
       "      <td>23.761321</td>\n",
       "      <td>844.195493</td>\n",
       "      <td>91.123197</td>\n",
       "      <td>12.288590</td>\n",
       "      <td>384.408625</td>\n",
       "      <td>11.262069</td>\n",
       "    </tr>\n",
       "  </tbody>\n",
       "</table>\n",
       "<p>8 rows × 7396 columns</p>\n",
       "</div>"
      ],
      "text/plain": [
       "Gene  FO538757.2  AP006222.2  RP11-206L10.9      NOC2L        ISG15   \n",
       "0      26.580271   28.477228       9.166770  61.244877  2697.981470  \\\n",
       "1       4.868210    6.125504       3.584307  11.227320    26.416029   \n",
       "2       0.000000    0.000000       0.000000   0.000000     0.000000   \n",
       "3      17.255712    3.268531       1.325556  18.871645    31.905155   \n",
       "4      26.458071   43.504049       4.031524  55.580922  1589.492575   \n",
       "5      10.040101    5.843941       2.379377  19.219009    25.112033   \n",
       "6      34.059567   38.519652      10.149671  65.786875  4214.179649   \n",
       "7      11.918690    3.287267       2.234547  21.990299    29.492231   \n",
       "\n",
       "Gene       SDF4   B3GALT6     UBE2J2      ACAP3     CPSF3L  ...   MT-ATP8   \n",
       "0     75.121549  5.971062  65.909435  14.915811  58.012672  ...  4.814692  \\\n",
       "1     16.241032  2.029506  14.919105   3.415609  10.540060  ...  3.372572   \n",
       "2      0.000000  0.000000   0.000000   0.000000   0.000000  ...  0.000000   \n",
       "3     14.801774  3.270195  13.114347  11.206776   9.282823  ...  4.583885   \n",
       "4     92.912437  7.028116  39.399254  11.581210  40.899940  ...  8.438977   \n",
       "5     17.072694  3.291453  13.533838   5.177834  10.916390  ...  4.919544   \n",
       "6     77.141735  8.853274  61.929655  10.444494  51.991910  ...  6.949855   \n",
       "7     18.695332  4.567248  20.479965   6.135121  10.946109  ...  4.302498   \n",
       "\n",
       "Gene      MT-ATP6       MT-CO3       MT-ND3     MT-ND4L       MT-ND4   \n",
       "0     2940.712183  5129.097175  1668.880278  232.469719  8195.446272  \\\n",
       "1     1004.991345  1341.521078   721.203308   71.888429  1340.550952   \n",
       "2        0.000000     0.000000     0.000000    0.000000     0.000000   \n",
       "3     1282.449598  1276.416181   940.002858   64.778586  1403.387756   \n",
       "4     2053.291805  4556.550603  1294.327374  181.557757  6514.940799   \n",
       "5     1586.017112  1694.755920  1058.400092   72.493620  1589.525898   \n",
       "6     2122.180282  4317.609648  1506.982087  128.724081  6230.474109   \n",
       "7      712.513564   860.598315   537.503477   23.761321   844.195493   \n",
       "\n",
       "Gene      MT-ND5      MT-ND6       MT-CYB  AL592183.1  \n",
       "0     955.358719  407.607758  1771.489970   10.352074  \n",
       "1     159.763806   21.336843   665.023269    4.356726  \n",
       "2       0.000000    0.000000     0.000000    0.000000  \n",
       "3     128.267884   29.519061   647.627624   11.010394  \n",
       "4     645.908046  332.822909  1337.246263   12.615007  \n",
       "5     123.865474   24.355055   939.636343    5.936413  \n",
       "6     705.383229  618.772160  1290.068124   15.268535  \n",
       "7      91.123197   12.288590   384.408625   11.262069  \n",
       "\n",
       "[8 rows x 7396 columns]"
      ]
     },
     "execution_count": 35,
     "metadata": {},
     "output_type": "execute_result"
    }
   ],
   "source": [
    "scaled_means"
   ]
  },
  {
   "cell_type": "code",
   "execution_count": 16,
   "id": "c237aac7-ab6e-4906-92b6-f91dca00fe52",
   "metadata": {},
   "outputs": [
    {
     "data": {
      "text/plain": [
       "DesignMatrix with shape (8, 5)\n",
       "  Intercept  ind[T.D2]  ind[T.D3]  ind[T.D4]  ct\n",
       "          1          0          0          0   0\n",
       "          1          0          0          0   0\n",
       "          1          1          0          0   0\n",
       "          1          1          0          0   0\n",
       "          1          0          1          0   0\n",
       "          1          0          1          0   0\n",
       "          1          0          0          1   0\n",
       "          1          0          0          1   0\n",
       "  Terms:\n",
       "    'Intercept' (column 0)\n",
       "    'ind' (columns 1:4)\n",
       "    'ct' (column 4)"
      ]
     },
     "execution_count": 16,
     "metadata": {},
     "output_type": "execute_result"
    }
   ],
   "source": [
    "design"
   ]
  },
  {
   "cell_type": "code",
   "execution_count": null,
   "id": "daf8eb20-e8e8-4940-b6cf-a88d0c6fcf25",
   "metadata": {},
   "outputs": [],
   "source": []
  },
  {
   "cell_type": "code",
   "execution_count": null,
   "id": "d0e940e4-0850-4506-89c1-89eb6eb18301",
   "metadata": {},
   "outputs": [],
   "source": []
  },
  {
   "cell_type": "code",
   "execution_count": null,
   "id": "fc262cd6-2938-4eff-ab7d-61ac5a290b22",
   "metadata": {},
   "outputs": [],
   "source": []
  },
  {
   "cell_type": "code",
   "execution_count": null,
   "id": "d1fb3e23-bde7-481d-852f-36328519b76c",
   "metadata": {},
   "outputs": [],
   "source": []
  },
  {
   "cell_type": "code",
   "execution_count": null,
   "id": "b45389ca-fbca-4e6e-90b2-8771e87be96b",
   "metadata": {},
   "outputs": [],
   "source": []
  },
  {
   "cell_type": "code",
   "execution_count": null,
   "id": "00f7391c-b2d6-4d29-9f83-2c8598df1091",
   "metadata": {},
   "outputs": [],
   "source": []
  },
  {
   "cell_type": "markdown",
   "id": "9d0f57a9-9eab-49d4-bc2f-636943853bdc",
   "metadata": {},
   "source": [
    "### Use the sampling dispersions directly and compute log-likelihood"
   ]
  },
  {
   "cell_type": "code",
   "execution_count": 118,
   "id": "a12324d8-27e0-40e5-8630-b4411492eb94",
   "metadata": {},
   "outputs": [
    {
     "name": "stdout",
     "output_type": "stream",
     "text": [
      "working on Hagai2018_mouse-lps\n",
      "working on Hagai2018_mouse-pic\n",
      "working on Hagai2018_pig-lps\n",
      "working on Hagai2018_rabbit-lps\n",
      "working on Hagai2018_rat-lps\n",
      "working on Hagai2018_rat-pic\n"
     ]
    }
   ],
   "source": [
    "# Add the average sampling dispersion to edgeR dispersion\n",
    "def _ll_nbin(fit, alpha):\n",
    "    \n",
    "    gamma_ln = gammaln\n",
    "    endog = fit.model.endog\n",
    "    mu = fit.predict()\n",
    "    size = 1/alpha\n",
    "    prob = size/(size+mu)\n",
    "    coeff = (gamma_ln(size+endog) - gamma_ln(endog+1) -\n",
    "             gamma_ln(size))\n",
    "    llf = coeff + size*np.log(prob) + endog*np.log(1-prob)\n",
    "    return llf.sum()\n",
    "\n",
    "for file in files:\n",
    "    for trial in range(1,2):\n",
    "        print('working on', file)\n",
    "\n",
    "        stim = file.split('-')[-1]\n",
    "\n",
    "        adata = sc.read_h5ad(data_path +'replicates/' + file + '_{}.h5ad'.format(trial))\n",
    "\n",
    "        dispersions = pd.read_csv(data_path + '../results/{}_{}_dispersions.csv'.format(file, trial))\n",
    "        gene_list = dispersions['gene'].tolist()\n",
    "        dispersions = dispersions['dispersion'].tolist()\n",
    "\n",
    "        groups = adata.obs[['replicate', 'label']].drop_duplicates().reset_index()\n",
    "        \n",
    "        expr = []\n",
    "        sampling_dispersions = []\n",
    "        meta = []\n",
    "        for idx, row in groups.iterrows():\n",
    "\n",
    "            ind = row['replicate']\n",
    "            condition = row['label']\n",
    "\n",
    "            # Compute everything\n",
    "            group_adata =  adata[(adata.obs['replicate']==ind) & (adata.obs['label']==condition)].copy()\n",
    "            data = group_adata.X.toarray()\n",
    "            means = data.mean(axis=0)\n",
    "            variances = data.var(axis=0)\n",
    "            count_disp = (variances-means)/(means**2+1e-8)\n",
    "            sum_var = variances*data.shape[0]\n",
    "            sum_disp = count_disp/data.shape[0]\n",
    "            sums = data.sum(axis=0)\n",
    "            \n",
    "            # Gather everything\n",
    "            expr.append(sums)\n",
    "            sampling_dispersions.append(sum_var)\n",
    "            meta.append((ind, int(stim in condition)))\n",
    "            \n",
    "        expr = pd.DataFrame(expr, columns=adata.var.index)\n",
    "        sampling_dispersions = pd.DataFrame(sampling_dispersions, columns=adata.var.index).clip(lower=0)+1e-8\n",
    "        meta = pd.DataFrame(meta, columns=['replicate', 'label'])\n",
    "\n",
    "        # Filter and re-order by gene_list\n",
    "        libsize = expr.values.sum(axis=1)\n",
    "        expr = expr[gene_list]\n",
    "        sampling_dispersions = sampling_dispersions[gene_list]\n",
    "        weights = np.sqrt(1/sampling_dispersions)\n",
    "        weights = weights/weights.values.mean()\n",
    "        \n",
    "        # Compute the dispersions\n",
    "        genewise_additional_disp = dispersions - sampling_dispersions.clip(lower=0).mean(axis=0).values\n",
    "        genewise_additional_disp[genewise_additional_disp < 0] = 1e-8\n",
    "        \n",
    "        # Get the design matrix\n",
    "        design = dmatrix('replicate+label', meta)\n",
    "    \n",
    "        results = []\n",
    "        for idx in range(len(gene_list)):\n",
    "            model = sm.GLM(\n",
    "                expr.iloc[:, [idx]], \n",
    "                design,\n",
    "                var_weights=1/weights.iloc[:, idx],\n",
    "                offset=np.log(libsize),\n",
    "                family=sm.families.NegativeBinomial(alpha=dispersions[idx]))\n",
    "            res_model = sm.GLM(\n",
    "                expr.iloc[:, [idx]], \n",
    "                design[:, :-1] , \n",
    "                var_weights=1/weights.iloc[:, idx],\n",
    "                offset=np.log(libsize),\n",
    "                family=sm.families.NegativeBinomial(alpha=dispersions[idx]))\n",
    "            fit = model.fit()\n",
    "            res_fit = res_model.fit()\n",
    "            \n",
    "            pv = stats.chi2.sf(-2*(res_fit.llf - fit.llf), df=res_fit.df_resid-fit.df_resid)\n",
    "            results.append((fit.params[-1], pv))\n",
    "        results = pd.DataFrame(results, columns=['logFC', 'PValue'], index=gene_list)\n",
    "        _, results['FDR'] = fdrcorrection(results['PValue'])\n",
    "\n",
    "        results.index = gene_list\n",
    "        results.to_csv(data_path + '../results/{}_{}_memento_var_weights.csv'.format(file, trial))\n"
   ]
  },
  {
   "cell_type": "code",
   "execution_count": 116,
   "id": "26eed801-4e90-44d6-a12d-0556b063b7d7",
   "metadata": {},
   "outputs": [
    {
     "data": {
      "text/html": [
       "<div>\n",
       "<style scoped>\n",
       "    .dataframe tbody tr th:only-of-type {\n",
       "        vertical-align: middle;\n",
       "    }\n",
       "\n",
       "    .dataframe tbody tr th {\n",
       "        vertical-align: top;\n",
       "    }\n",
       "\n",
       "    .dataframe thead th {\n",
       "        text-align: right;\n",
       "    }\n",
       "</style>\n",
       "<table border=\"1\" class=\"dataframe\">\n",
       "  <thead>\n",
       "    <tr style=\"text-align: right;\">\n",
       "      <th></th>\n",
       "      <th>0610009B22Rik</th>\n",
       "      <th>0610010F05Rik</th>\n",
       "      <th>0610010K14Rik</th>\n",
       "      <th>0610012G03Rik</th>\n",
       "      <th>0610030E20Rik</th>\n",
       "      <th>0610037L13Rik</th>\n",
       "      <th>1110004F10Rik</th>\n",
       "      <th>1110008P14Rik</th>\n",
       "      <th>1110012L19Rik</th>\n",
       "      <th>1110032A03Rik</th>\n",
       "      <th>...</th>\n",
       "      <th>Zswim8</th>\n",
       "      <th>Zup1</th>\n",
       "      <th>Zw10</th>\n",
       "      <th>Zwint</th>\n",
       "      <th>Zxdb</th>\n",
       "      <th>Zxdc</th>\n",
       "      <th>Zyg11b</th>\n",
       "      <th>Zyx</th>\n",
       "      <th>Zzef1</th>\n",
       "      <th>Zzz3</th>\n",
       "    </tr>\n",
       "  </thead>\n",
       "  <tbody>\n",
       "    <tr>\n",
       "      <th>0</th>\n",
       "      <td>0.648929</td>\n",
       "      <td>1.248106</td>\n",
       "      <td>1.725492</td>\n",
       "      <td>0.102687</td>\n",
       "      <td>0.988816</td>\n",
       "      <td>0.598772</td>\n",
       "      <td>0.091690</td>\n",
       "      <td>0.049313</td>\n",
       "      <td>2.364832</td>\n",
       "      <td>0.952753</td>\n",
       "      <td>...</td>\n",
       "      <td>1.371545</td>\n",
       "      <td>0.510589</td>\n",
       "      <td>5.731099</td>\n",
       "      <td>0.480246</td>\n",
       "      <td>1.165244</td>\n",
       "      <td>3.860122</td>\n",
       "      <td>1.147391</td>\n",
       "      <td>0.017482</td>\n",
       "      <td>0.558576</td>\n",
       "      <td>0.771494</td>\n",
       "    </tr>\n",
       "    <tr>\n",
       "      <th>1</th>\n",
       "      <td>0.232278</td>\n",
       "      <td>0.678318</td>\n",
       "      <td>0.748864</td>\n",
       "      <td>0.089406</td>\n",
       "      <td>1.923451</td>\n",
       "      <td>0.843948</td>\n",
       "      <td>0.096214</td>\n",
       "      <td>0.107431</td>\n",
       "      <td>5.731099</td>\n",
       "      <td>1.021178</td>\n",
       "      <td>...</td>\n",
       "      <td>0.843948</td>\n",
       "      <td>5.731099</td>\n",
       "      <td>1.725492</td>\n",
       "      <td>0.561648</td>\n",
       "      <td>5.731099</td>\n",
       "      <td>1.991659</td>\n",
       "      <td>0.579317</td>\n",
       "      <td>0.203091</td>\n",
       "      <td>0.493756</td>\n",
       "      <td>1.063727</td>\n",
       "    </tr>\n",
       "    <tr>\n",
       "      <th>2</th>\n",
       "      <td>0.442416</td>\n",
       "      <td>0.624053</td>\n",
       "      <td>1.200102</td>\n",
       "      <td>0.056606</td>\n",
       "      <td>0.463406</td>\n",
       "      <td>0.464940</td>\n",
       "      <td>0.065115</td>\n",
       "      <td>0.038944</td>\n",
       "      <td>1.371545</td>\n",
       "      <td>0.993188</td>\n",
       "      <td>...</td>\n",
       "      <td>0.670224</td>\n",
       "      <td>0.620263</td>\n",
       "      <td>5.731099</td>\n",
       "      <td>0.226654</td>\n",
       "      <td>2.364832</td>\n",
       "      <td>1.063727</td>\n",
       "      <td>1.248106</td>\n",
       "      <td>0.064572</td>\n",
       "      <td>0.604247</td>\n",
       "      <td>0.429394</td>\n",
       "    </tr>\n",
       "    <tr>\n",
       "      <th>3</th>\n",
       "      <td>0.221339</td>\n",
       "      <td>0.677092</td>\n",
       "      <td>0.645943</td>\n",
       "      <td>0.025161</td>\n",
       "      <td>0.344675</td>\n",
       "      <td>0.670224</td>\n",
       "      <td>0.109153</td>\n",
       "      <td>0.052246</td>\n",
       "      <td>1.526217</td>\n",
       "      <td>1.063727</td>\n",
       "      <td>...</td>\n",
       "      <td>0.800068</td>\n",
       "      <td>1.470282</td>\n",
       "      <td>0.952753</td>\n",
       "      <td>0.569911</td>\n",
       "      <td>5.731099</td>\n",
       "      <td>0.894343</td>\n",
       "      <td>0.453673</td>\n",
       "      <td>0.220297</td>\n",
       "      <td>0.677092</td>\n",
       "      <td>0.464940</td>\n",
       "    </tr>\n",
       "    <tr>\n",
       "      <th>4</th>\n",
       "      <td>0.404645</td>\n",
       "      <td>0.333223</td>\n",
       "      <td>0.473764</td>\n",
       "      <td>0.068615</td>\n",
       "      <td>0.412370</td>\n",
       "      <td>0.301071</td>\n",
       "      <td>0.074807</td>\n",
       "      <td>0.039276</td>\n",
       "      <td>2.925248</td>\n",
       "      <td>5.731099</td>\n",
       "      <td>...</td>\n",
       "      <td>0.456810</td>\n",
       "      <td>0.545554</td>\n",
       "      <td>5.731099</td>\n",
       "      <td>0.163009</td>\n",
       "      <td>1.991659</td>\n",
       "      <td>1.725492</td>\n",
       "      <td>1.526217</td>\n",
       "      <td>0.049106</td>\n",
       "      <td>0.577827</td>\n",
       "      <td>0.645943</td>\n",
       "    </tr>\n",
       "    <tr>\n",
       "      <th>5</th>\n",
       "      <td>0.315887</td>\n",
       "      <td>0.598772</td>\n",
       "      <td>0.624053</td>\n",
       "      <td>0.032583</td>\n",
       "      <td>0.558576</td>\n",
       "      <td>0.485015</td>\n",
       "      <td>0.084010</td>\n",
       "      <td>0.053756</td>\n",
       "      <td>0.835785</td>\n",
       "      <td>0.697266</td>\n",
       "      <td>...</td>\n",
       "      <td>0.598772</td>\n",
       "      <td>2.925248</td>\n",
       "      <td>1.470282</td>\n",
       "      <td>0.353682</td>\n",
       "      <td>2.364832</td>\n",
       "      <td>1.991659</td>\n",
       "      <td>0.800068</td>\n",
       "      <td>0.124548</td>\n",
       "      <td>0.677092</td>\n",
       "      <td>0.336417</td>\n",
       "    </tr>\n",
       "  </tbody>\n",
       "</table>\n",
       "<p>6 rows × 7927 columns</p>\n",
       "</div>"
      ],
      "text/plain": [
       "   0610009B22Rik  0610010F05Rik  0610010K14Rik  0610012G03Rik  0610030E20Rik   \n",
       "0       0.648929       1.248106       1.725492       0.102687       0.988816  \\\n",
       "1       0.232278       0.678318       0.748864       0.089406       1.923451   \n",
       "2       0.442416       0.624053       1.200102       0.056606       0.463406   \n",
       "3       0.221339       0.677092       0.645943       0.025161       0.344675   \n",
       "4       0.404645       0.333223       0.473764       0.068615       0.412370   \n",
       "5       0.315887       0.598772       0.624053       0.032583       0.558576   \n",
       "\n",
       "   0610037L13Rik  1110004F10Rik  1110008P14Rik  1110012L19Rik  1110032A03Rik   \n",
       "0       0.598772       0.091690       0.049313       2.364832       0.952753  \\\n",
       "1       0.843948       0.096214       0.107431       5.731099       1.021178   \n",
       "2       0.464940       0.065115       0.038944       1.371545       0.993188   \n",
       "3       0.670224       0.109153       0.052246       1.526217       1.063727   \n",
       "4       0.301071       0.074807       0.039276       2.925248       5.731099   \n",
       "5       0.485015       0.084010       0.053756       0.835785       0.697266   \n",
       "\n",
       "   ...    Zswim8      Zup1      Zw10     Zwint      Zxdb      Zxdc    Zyg11b   \n",
       "0  ...  1.371545  0.510589  5.731099  0.480246  1.165244  3.860122  1.147391  \\\n",
       "1  ...  0.843948  5.731099  1.725492  0.561648  5.731099  1.991659  0.579317   \n",
       "2  ...  0.670224  0.620263  5.731099  0.226654  2.364832  1.063727  1.248106   \n",
       "3  ...  0.800068  1.470282  0.952753  0.569911  5.731099  0.894343  0.453673   \n",
       "4  ...  0.456810  0.545554  5.731099  0.163009  1.991659  1.725492  1.526217   \n",
       "5  ...  0.598772  2.925248  1.470282  0.353682  2.364832  1.991659  0.800068   \n",
       "\n",
       "        Zyx     Zzef1      Zzz3  \n",
       "0  0.017482  0.558576  0.771494  \n",
       "1  0.203091  0.493756  1.063727  \n",
       "2  0.064572  0.604247  0.429394  \n",
       "3  0.220297  0.677092  0.464940  \n",
       "4  0.049106  0.577827  0.645943  \n",
       "5  0.124548  0.677092  0.336417  \n",
       "\n",
       "[6 rows x 7927 columns]"
      ]
     },
     "execution_count": 116,
     "metadata": {},
     "output_type": "execute_result"
    }
   ],
   "source": [
    "weights"
   ]
  },
  {
   "cell_type": "code",
   "execution_count": 102,
   "id": "fcea5739-c8d6-4d4e-9d76-c568a07553c8",
   "metadata": {},
   "outputs": [
    {
     "data": {
      "text/plain": [
       "0.9018544215970733"
      ]
     },
     "execution_count": 102,
     "metadata": {},
     "output_type": "execute_result"
    }
   ],
   "source": [
    "(genewise_additional_disp>0).mean()"
   ]
  },
  {
   "cell_type": "code",
   "execution_count": null,
   "id": "c26616b1-f0e9-4d0c-a3d6-4535216262c4",
   "metadata": {},
   "outputs": [],
   "source": []
  },
  {
   "cell_type": "code",
   "execution_count": 85,
   "id": "a5e5701b-9c9c-4471-a86f-ff22a607dce8",
   "metadata": {},
   "outputs": [
    {
     "data": {
      "text/plain": [
       "-17.219189890231956"
      ]
     },
     "execution_count": 85,
     "metadata": {},
     "output_type": "execute_result"
    }
   ],
   "source": [
    "_ll_nbin(fit, dispersions[idx])"
   ]
  },
  {
   "cell_type": "code",
   "execution_count": 86,
   "id": "73a3b026-0af1-45eb-a2ee-522010a800c0",
   "metadata": {},
   "outputs": [
    {
     "data": {
      "text/plain": [
       "-15.515143707455543"
      ]
     },
     "execution_count": 86,
     "metadata": {},
     "output_type": "execute_result"
    }
   ],
   "source": [
    "_ll_nbin(fit, sampling_dispersions.iloc[:, idx].values+1e-8)"
   ]
  },
  {
   "cell_type": "markdown",
   "id": "f4cd5042-cc66-4c38-a8b6-383f31d5c103",
   "metadata": {},
   "source": [
    "### Vanilla (memento)"
   ]
  },
  {
   "cell_type": "code",
   "execution_count": 23,
   "id": "946133d5-2165-42c6-b4c1-aaa5a7283e71",
   "metadata": {
    "tags": []
   },
   "outputs": [
    {
     "name": "stdout",
     "output_type": "stream",
     "text": [
      "working on Hagai2018_mouse-lps\n",
      "working on Hagai2018_mouse-pic\n",
      "working on Hagai2018_pig-lps\n",
      "working on Hagai2018_rabbit-lps\n",
      "working on Hagai2018_rat-lps\n",
      "working on Hagai2018_rat-pic\n"
     ]
    }
   ],
   "source": [
    "# add dispersions\n",
    "\n",
    "for file in files:\n",
    "    for trial in range(1,2):\n",
    "        print('working on', file)\n",
    "\n",
    "        stim = file.split('-')[-1]\n",
    "\n",
    "        adata = sc.read_h5ad(data_path +'replicates/' + file + '_{}.h5ad'.format(trial))\n",
    "\n",
    "        dispersions = pd.read_csv(data_path + '../results/{}_{}_dispersions.csv'.format(file, trial))\n",
    "        gene_list = dispersions['gene'].tolist()\n",
    "        dispersions = dispersions['dispersion'].tolist()\n",
    "\n",
    "        groups = adata.obs[['replicate', 'label']].drop_duplicates().reset_index()\n",
    "        \n",
    "        expr = []\n",
    "        meta = []\n",
    "        for idx, row in groups.iterrows():\n",
    "\n",
    "            ind = row['replicate']\n",
    "            condition = row['label']\n",
    "\n",
    "            # Compute everything\n",
    "            group_adata =  adata[(adata.obs['replicate']==ind) & (adata.obs['label']==condition)].copy()\n",
    "            data = group_adata.X.toarray()\n",
    "            sums = data.sum(axis=0)\n",
    "            \n",
    "            # Gather everything\n",
    "            expr.append(sums) \n",
    "            meta.append((ind, int(stim in condition)))\n",
    "            \n",
    "        expr = pd.DataFrame(expr, columns=adata.var.index)\n",
    "        meta = pd.DataFrame(meta, columns=['replicate', 'label'])\n",
    "\n",
    "        # Filter and re-order by gene_list\n",
    "        libsize = expr.values.sum(axis=1)\n",
    "        expr = expr[gene_list]\n",
    "        \n",
    "        # Get the design matrix\n",
    "        design = dmatrix('replicate+label', meta)\n",
    "\n",
    "\n",
    "        results = []\n",
    "        for idx in range(len(gene_list)):\n",
    "            model = sm.GLM(\n",
    "                expr.iloc[:, [idx]], \n",
    "                design , \n",
    "                offset=np.log(libsize),\n",
    "                family=sm.families.NegativeBinomial(alpha=dispersions[idx]))\n",
    "            res_model = sm.GLM(\n",
    "                expr.iloc[:, [idx]], design[:, :-1] , \n",
    "                offset=np.log(libsize),\n",
    "                family=sm.families.NegativeBinomial(alpha=dispersions[idx]))\n",
    "            fit = model.fit()\n",
    "            res_fit = res_model.fit()\n",
    "            pv = stats.chi2.sf(-2*(res_fit.llf - fit.llf), df=res_fit.df_resid-fit.df_resid)\n",
    "            results.append((fit.params[-1], pv))\n",
    "        results = pd.DataFrame(results, columns=['logFC', 'PValue'], index=gene_list)\n",
    "        _, results['FDR'] = fdrcorrection(results['PValue'])\n",
    "\n",
    "        results.index = gene_list\n",
    "        results.to_csv(data_path + '../results/{}_{}_memento.csv'.format(file, trial))\n"
   ]
  },
  {
   "cell_type": "code",
   "execution_count": 61,
   "id": "4ff85ff9-40c2-494f-a3b2-3278a9ee0664",
   "metadata": {},
   "outputs": [
    {
     "data": {
      "text/plain": [
       "array([23.08607315, 25.85243233, 31.22370082, 37.75068135, 14.93534009,\n",
       "       26.36355818])"
      ]
     },
     "execution_count": 61,
     "metadata": {},
     "output_type": "execute_result"
    }
   ],
   "source": [
    "fit.predict(design)*libsize"
   ]
  },
  {
   "cell_type": "code",
   "execution_count": 62,
   "id": "2af517b6-8888-4a5c-9fb9-57fd7aa2dae1",
   "metadata": {},
   "outputs": [
    {
     "data": {
      "text/html": [
       "<div>\n",
       "<style scoped>\n",
       "    .dataframe tbody tr th:only-of-type {\n",
       "        vertical-align: middle;\n",
       "    }\n",
       "\n",
       "    .dataframe tbody tr th {\n",
       "        vertical-align: top;\n",
       "    }\n",
       "\n",
       "    .dataframe thead th {\n",
       "        text-align: right;\n",
       "    }\n",
       "</style>\n",
       "<table border=\"1\" class=\"dataframe\">\n",
       "  <thead>\n",
       "    <tr style=\"text-align: right;\">\n",
       "      <th></th>\n",
       "      <th>Zzz3</th>\n",
       "    </tr>\n",
       "  </thead>\n",
       "  <tbody>\n",
       "    <tr>\n",
       "      <th>0</th>\n",
       "      <td>22.0</td>\n",
       "    </tr>\n",
       "    <tr>\n",
       "      <th>1</th>\n",
       "      <td>27.0</td>\n",
       "    </tr>\n",
       "    <tr>\n",
       "      <th>2</th>\n",
       "      <td>31.0</td>\n",
       "    </tr>\n",
       "    <tr>\n",
       "      <th>3</th>\n",
       "      <td>38.0</td>\n",
       "    </tr>\n",
       "    <tr>\n",
       "      <th>4</th>\n",
       "      <td>16.0</td>\n",
       "    </tr>\n",
       "    <tr>\n",
       "      <th>5</th>\n",
       "      <td>25.0</td>\n",
       "    </tr>\n",
       "  </tbody>\n",
       "</table>\n",
       "</div>"
      ],
      "text/plain": [
       "   Zzz3\n",
       "0  22.0\n",
       "1  27.0\n",
       "2  31.0\n",
       "3  38.0\n",
       "4  16.0\n",
       "5  25.0"
      ]
     },
     "execution_count": 62,
     "metadata": {},
     "output_type": "execute_result"
    }
   ],
   "source": [
    "expr.iloc[:, [idx]]"
   ]
  },
  {
   "cell_type": "code",
   "execution_count": 20,
   "id": "0abbea39-efb3-4274-bae9-b0d4b8a0a1fe",
   "metadata": {},
   "outputs": [
    {
     "data": {
      "text/plain": [
       "1"
      ]
     },
     "execution_count": 20,
     "metadata": {},
     "output_type": "execute_result"
    }
   ],
   "source": [
    "res_fit.df_resid-fit.df_resid"
   ]
  },
  {
   "cell_type": "code",
   "execution_count": null,
   "id": "3a69cbd3-42de-472d-a276-4da883c6a146",
   "metadata": {},
   "outputs": [],
   "source": []
  },
  {
   "cell_type": "code",
   "execution_count": null,
   "id": "3230782f-9056-439c-b562-e9359303f0e8",
   "metadata": {},
   "outputs": [],
   "source": []
  },
  {
   "cell_type": "code",
   "execution_count": null,
   "id": "0306d1a8-9938-4101-9429-f3966e2b63a5",
   "metadata": {},
   "outputs": [],
   "source": []
  },
  {
   "cell_type": "code",
   "execution_count": null,
   "id": "a73ae5ec-53a5-46ee-b3c1-c9c0256567d2",
   "metadata": {},
   "outputs": [],
   "source": []
  },
  {
   "cell_type": "code",
   "execution_count": null,
   "id": "2b52631b-35a8-4d8c-acf0-bcd1dc1af886",
   "metadata": {},
   "outputs": [],
   "source": []
  },
  {
   "cell_type": "code",
   "execution_count": 88,
   "id": "d7826458-6ea6-45c8-ad42-01b2d07146fa",
   "metadata": {
    "tags": []
   },
   "outputs": [
    {
     "data": {
      "text/plain": [
       "'Hagai2018_mouse-lps'"
      ]
     },
     "execution_count": 88,
     "metadata": {},
     "output_type": "execute_result"
    }
   ],
   "source": [
    "file"
   ]
  },
  {
   "cell_type": "code",
   "execution_count": 9,
   "id": "1c4af43f-172e-4db3-9c6d-e64d69c55dbb",
   "metadata": {
    "tags": []
   },
   "outputs": [
    {
     "name": "stdout",
     "output_type": "stream",
     "text": [
      "working on Hagai2018_mouse-lps\n"
     ]
    },
    {
     "name": "stderr",
     "output_type": "stream",
     "text": [
      "[Parallel(n_jobs=93)]: Using backend LokyBackend with 93 concurrent workers.\n",
      "[Parallel(n_jobs=93)]: Done 179 tasks      | elapsed:   40.5s\n",
      "[Parallel(n_jobs=93)]: Done 462 tasks      | elapsed:  1.5min\n",
      "[Parallel(n_jobs=93)]: Done 827 tasks      | elapsed:  2.4min\n",
      "[Parallel(n_jobs=93)]: Done 1272 tasks      | elapsed:  3.7min\n",
      "Bad pipe message: %s [b'M:\\xb7\\xab\\x86\\xbf\\xdb\\x1bYY*f@\\x93\\x08\\xda%\\xbe \\x1d\\xa8\\x05${\\x16Bl-)\\xbc\\x9c\\x19\\xf2{NHV\\x1e\\xb6\\x9e%qY\\xec\"\\xa1\\x01b \\x08\\x00\\x00&\\xc0+\\xc0/\\xc0,\\xc00\\xcc\\xa9\\xcc\\xa8\\xc0\\t\\xc0\\x13\\xc0\\n\\xc0\\x14\\x00\\x9c\\x00\\x9d\\x00/\\x005\\xc0\\x12\\x00\\n\\x13\\x01\\x13\\x02\\x13\\x03\\x01\\x00\\x00\\x89\\x00\\x00\\x00\\x0e\\x00\\x0c\\x00\\x00\\tlocalhost']\n",
      "[Parallel(n_jobs=93)]: Done 1799 tasks      | elapsed:  5.1min\n",
      "[Parallel(n_jobs=93)]: Done 2406 tasks      | elapsed:  6.8min\n",
      "[Parallel(n_jobs=93)]: Done 3095 tasks      | elapsed:  8.8min\n",
      "[Parallel(n_jobs=93)]: Done 3864 tasks      | elapsed: 10.9min\n",
      "[Parallel(n_jobs=93)]: Done 4715 tasks      | elapsed: 13.3min\n",
      "[Parallel(n_jobs=93)]: Done 5646 tasks      | elapsed: 15.9min\n",
      "[Parallel(n_jobs=93)]: Done 6659 tasks      | elapsed: 18.7min\n",
      "[Parallel(n_jobs=93)]: Done 7927 out of 7927 | elapsed: 22.1min finished\n"
     ]
    },
    {
     "name": "stdout",
     "output_type": "stream",
     "text": [
      "CPU times: user 31.2 s, sys: 6.61 s, total: 37.8 s\n",
      "Wall time: 22min 13s\n"
     ]
    }
   ],
   "source": [
    "%%time\n",
    "\n",
    "\n",
    "for file in files:\n",
    "    for trial in range(1,11):\n",
    "        print('working on', file)\n",
    "\n",
    "        stim = file.split('-')[-1]\n",
    "\n",
    "        adata = sc.read_h5ad(data_path +'replicates/' + file + '_{}.h5ad'.format(trial))\n",
    "        adata.obs['q'] = 0.07\n",
    "        memento.setup_memento(adata, q_column='q', trim_percent=0.99, filter_mean_thresh=0.00000001, estimator_type='sum')\n",
    "        adata.obs['memento_size_factor'] = adata.X.sum(axis=1).A1\n",
    "        memento.create_groups(adata, label_columns=['replicate', 'label'])\n",
    "        dispersions = pd.read_csv(data_path + '../results/{}_{}_dispersions.csv'.format(file, trial))\n",
    "        gene_list = dispersions['gene'].tolist()\n",
    "        dispersions = dispersions['dispersion'].tolist()\n",
    "\n",
    "        # adata = adata[:, gene_list].copy()\n",
    "\n",
    "        memento.compute_1d_moments(adata, gene_list=gene_list)\n",
    "        adata.var['dispersion'] = dispersions\n",
    "\n",
    "        meta = pd.get_dummies(memento.get_groups(adata), drop_first=True)\n",
    "        cov = meta.iloc[:, [0, 1]].astype(int)\n",
    "        cov['intercept'] = 1\n",
    "        treatment = meta.iloc[:, [2]].astype(int)\n",
    "\n",
    "        memento.ht_1d_moments(\n",
    "            adata,\n",
    "            covariate=cov,\n",
    "            treatment=treatment,\n",
    "            num_boot=5000,\n",
    "            verbose=2,\n",
    "            num_cpus=93)\n",
    "        results = memento.get_1d_ht_result(adata)\n",
    "        results['FDR'] = memento.util._fdrcorrect(results['de_pval'])\n",
    "        results.to_csv(data_path + '../results/{}_{}_memento.csv'.format(file, trial), index=False)\n",
    "        break\n",
    "    break"
   ]
  },
  {
   "cell_type": "code",
   "execution_count": 89,
   "id": "02481d2d-ef9f-4134-a1c5-84026435329c",
   "metadata": {
    "tags": []
   },
   "outputs": [
    {
     "data": {
      "text/plain": [
       "0    1597.966263\n",
       "1      20.087687\n",
       "2     621.789328\n",
       "3       3.101967\n",
       "4     385.786913\n",
       "5       7.007130\n",
       "Name: Nlrp3, dtype: float64"
      ]
     },
     "execution_count": 89,
     "metadata": {},
     "output_type": "execute_result"
    }
   ],
   "source": [
    "scaled_means['Nlrp3']"
   ]
  },
  {
   "cell_type": "code",
   "execution_count": 90,
   "id": "c7cb4149-981d-47ff-98ab-32607677bb72",
   "metadata": {
    "tags": []
   },
   "outputs": [
    {
     "data": {
      "text/plain": [
       "0    0.187828\n",
       "1    1.192380\n",
       "2    0.283577\n",
       "3    0.765142\n",
       "4    0.320115\n",
       "5    1.177536\n",
       "Name: Nlrp3, dtype: float64"
      ]
     },
     "execution_count": 90,
     "metadata": {},
     "output_type": "execute_result"
    }
   ],
   "source": [
    "weights['Nlrp3']"
   ]
  },
  {
   "cell_type": "code",
   "execution_count": 95,
   "id": "9d8e4845-6ddf-48af-a470-4d18c98d79d0",
   "metadata": {
    "tags": []
   },
   "outputs": [
    {
     "data": {
      "text/plain": [
       "0    0.002180\n",
       "1    0.013840\n",
       "2    0.003291\n",
       "3    0.008881\n",
       "4    0.003715\n",
       "5    0.013667\n",
       "Name: Nlrp3, dtype: float64"
      ]
     },
     "execution_count": 95,
     "metadata": {},
     "output_type": "execute_result"
    }
   ],
   "source": [
    "1/(variances/scaled_means)['Nlrp3']"
   ]
  },
  {
   "cell_type": "code",
   "execution_count": 85,
   "id": "bc480b71-ee42-4c59-a28a-ab25c22212ff",
   "metadata": {
    "tags": []
   },
   "outputs": [
    {
     "data": {
      "text/plain": [
       "0    0.053459\n",
       "1    1.201353\n",
       "2    0.105303\n",
       "3    2.448954\n",
       "4    0.142039\n",
       "5    2.021367\n",
       "Name: Nlrp3, dtype: float64"
      ]
     },
     "execution_count": 85,
     "metadata": {},
     "output_type": "execute_result"
    }
   ],
   "source": [
    "temp = 1/np.sqrt(variances)\n",
    "temp = temp/temp.values.mean()\n",
    "temp['Nlrp3']"
   ]
  },
  {
   "cell_type": "code",
   "execution_count": 68,
   "id": "f574c39c-cbf0-467e-8f72-af70eb90bc88",
   "metadata": {
    "tags": []
   },
   "outputs": [
    {
     "data": {
      "text/plain": [
       "False"
      ]
     },
     "execution_count": 68,
     "metadata": {},
     "output_type": "execute_result"
    }
   ],
   "source": [
    "'Nirp3' in gene_list"
   ]
  },
  {
   "cell_type": "code",
   "execution_count": 45,
   "id": "c4f4c440-f82b-4863-9d90-fbacdae9f574",
   "metadata": {
    "tags": []
   },
   "outputs": [
    {
     "data": {
      "text/plain": [
       "logFC     2.912061\n",
       "PValue         0.0\n",
       "FDR            0.0\n",
       "gene          Ccl5\n",
       "Name: Ccl5, dtype: object"
      ]
     },
     "execution_count": 45,
     "metadata": {},
     "output_type": "execute_result"
    }
   ],
   "source": [
    "weighted_mean_glm_results.loc['Ccl5']"
   ]
  },
  {
   "cell_type": "code",
   "execution_count": 44,
   "id": "991360ba-0e8f-42b8-9315-0bf688ce16fb",
   "metadata": {
    "tags": []
   },
   "outputs": [
    {
     "data": {
      "text/html": [
       "<div>\n",
       "<style scoped>\n",
       "    .dataframe tbody tr th:only-of-type {\n",
       "        vertical-align: middle;\n",
       "    }\n",
       "\n",
       "    .dataframe tbody tr th {\n",
       "        vertical-align: top;\n",
       "    }\n",
       "\n",
       "    .dataframe thead th {\n",
       "        text-align: right;\n",
       "    }\n",
       "</style>\n",
       "<table border=\"1\" class=\"dataframe\">\n",
       "  <thead>\n",
       "    <tr style=\"text-align: right;\">\n",
       "      <th></th>\n",
       "      <th>logFC</th>\n",
       "      <th>PValue</th>\n",
       "      <th>FDR</th>\n",
       "      <th>gene</th>\n",
       "    </tr>\n",
       "  </thead>\n",
       "  <tbody>\n",
       "    <tr>\n",
       "      <th>Gbp3</th>\n",
       "      <td>3.550863</td>\n",
       "      <td>5.683614e-15</td>\n",
       "      <td>1.520324e-13</td>\n",
       "      <td>Gbp3</td>\n",
       "    </tr>\n",
       "  </tbody>\n",
       "</table>\n",
       "</div>"
      ],
      "text/plain": [
       "         logFC        PValue           FDR  gene\n",
       "Gbp3  3.550863  5.683614e-15  1.520324e-13  Gbp3"
      ]
     },
     "execution_count": 44,
     "metadata": {},
     "output_type": "execute_result"
    }
   ],
   "source": [
    "weighted_mean_glm_results.query('gene == \"Gbp3\"')"
   ]
  },
  {
   "cell_type": "code",
   "execution_count": null,
   "id": "3835ca71-8d6a-4ace-ae07-393f45fc9a6a",
   "metadata": {
    "tags": []
   },
   "outputs": [],
   "source": [
    "weights"
   ]
  },
  {
   "cell_type": "code",
   "execution_count": null,
   "id": "3857f251-8a12-450d-a667-4ab40202eb24",
   "metadata": {
    "tags": []
   },
   "outputs": [],
   "source": [
    "dispersions"
   ]
  },
  {
   "cell_type": "code",
   "execution_count": null,
   "id": "b09d3713-ed6a-400f-a2fc-ddc424ead9eb",
   "metadata": {},
   "outputs": [],
   "source": []
  },
  {
   "cell_type": "code",
   "execution_count": null,
   "id": "118eb78c-39ef-4b04-be1b-de3f36afea72",
   "metadata": {},
   "outputs": [],
   "source": []
  },
  {
   "cell_type": "code",
   "execution_count": 42,
   "id": "1581a488-0e15-4f2c-ad52-8c272c3fd940",
   "metadata": {
    "tags": []
   },
   "outputs": [
    {
     "data": {
      "text/plain": [
       "0610009B22Rik      0.936955\n",
       "0610009L18Rik    263.080223\n",
       "0610010F05Rik      4.270511\n",
       "0610010K14Rik     14.793980\n",
       "0610012G03Rik      0.000000\n",
       "                    ...    \n",
       "Zxdc              54.571092\n",
       "Zyg11b            12.241629\n",
       "Zyx                0.017547\n",
       "Zzef1              1.545507\n",
       "Zzz3               3.453833\n",
       "Length: 8961, dtype: float64"
      ]
     },
     "execution_count": 42,
     "metadata": {},
     "output_type": "execute_result"
    }
   ],
   "source": []
  },
  {
   "cell_type": "code",
   "execution_count": null,
   "id": "31a0476f-3a4e-4b2c-983b-43d3ac6cc836",
   "metadata": {},
   "outputs": [],
   "source": []
  },
  {
   "cell_type": "code",
   "execution_count": null,
   "id": "0d0ac474-f784-4a4b-82b2-dd2f4c2ab2c7",
   "metadata": {},
   "outputs": [],
   "source": []
  },
  {
   "cell_type": "code",
   "execution_count": null,
   "id": "635279f4-8cb1-4d43-9faf-dbfa2b5ff760",
   "metadata": {},
   "outputs": [],
   "source": []
  },
  {
   "cell_type": "code",
   "execution_count": null,
   "id": "3387e0ef-f809-49fc-9f18-5af19156efda",
   "metadata": {},
   "outputs": [],
   "source": []
  },
  {
   "cell_type": "code",
   "execution_count": null,
   "id": "67f82966-8d43-4787-b81e-ef4c78392619",
   "metadata": {},
   "outputs": [],
   "source": []
  },
  {
   "cell_type": "code",
   "execution_count": null,
   "id": "9e3e86c8-9330-4a26-a9c7-70ab1fa42683",
   "metadata": {},
   "outputs": [],
   "source": []
  },
  {
   "cell_type": "code",
   "execution_count": null,
   "id": "1f9cd371-053c-4eb7-a0df-595a9858db73",
   "metadata": {},
   "outputs": [],
   "source": []
  },
  {
   "cell_type": "code",
   "execution_count": null,
   "id": "7eadc487-43a0-442c-9e0d-d2c9fac96143",
   "metadata": {},
   "outputs": [],
   "source": []
  },
  {
   "cell_type": "code",
   "execution_count": 66,
   "id": "22694a22-e409-4f36-affd-e4f52c54a4c0",
   "metadata": {},
   "outputs": [],
   "source": [
    "weighted_mean_glm_results = []\n",
    "for idx in range(len(gene_list)):\n",
    "    model = sm.GLM(\n",
    "        scaled_means.iloc[:, [idx]], \n",
    "        design , \n",
    "        exposure=totals,\n",
    "        var_weights=weights.iloc[:, idx],\n",
    "        family=sm.families.NegativeBinomial(alpha=0.05))\n",
    "    res_model = sm.GLM(\n",
    "        scaled_means.iloc[:, [idx]], design[:, :-1] , \n",
    "        exposure=totals,\n",
    "        var_weights=weights.iloc[:, idx],\n",
    "        family=sm.families.NegativeBinomial(alpha=0.05))\n",
    "    fit = model.fit()\n",
    "    res_fit = res_model.fit()\n",
    "    pv = stats.chi2.sf(-2*(res_fit.llf - fit.llf), df=res_fit.df_resid-fit.df_resid)\n",
    "    weighted_mean_glm_results.append((fit.params[-1], pv))\n",
    "weighted_mean_glm_results = pd.DataFrame(weighted_mean_glm_results, columns=['logFC', 'PValue'], index=gene_list)\n",
    "_, weighted_mean_glm_results['FDR'] = fdrcorrection(weighted_mean_glm_results['PValue'])"
   ]
  },
  {
   "cell_type": "code",
   "execution_count": 39,
   "id": "7dbb216b-2bae-4f14-8f1a-58cbf579e3e8",
   "metadata": {},
   "outputs": [
    {
     "data": {
      "text/plain": [
       "(array([11098.,  1306.,   936.,   750.,   708.,   625.,   601.,   588.,\n",
       "          517.,   552.]),\n",
       " array([5.36163695e-91, 9.99920244e-02, 1.99984049e-01, 2.99976073e-01,\n",
       "        3.99968098e-01, 4.99960122e-01, 5.99952147e-01, 6.99944171e-01,\n",
       "        7.99936195e-01, 8.99928220e-01, 9.99920244e-01]),\n",
       " <BarContainer object of 10 artists>)"
      ]
     },
     "execution_count": 39,
     "metadata": {},
     "output_type": "execute_result"
    },
    {
     "data": {
      "image/png": "[encoded data removed]",
      "text/plain": [
       "<Figure size 640x480 with 1 Axes>"
      ]
     },
     "metadata": {},
     "output_type": "display_data"
    }
   ],
   "source": [
    "plt.hist(weighted_mean_glm_results['PValue'])"
   ]
  },
  {
   "cell_type": "code",
   "execution_count": 12,
   "id": "08928e9c-3714-498c-9f03-038150dc2606",
   "metadata": {},
   "outputs": [
    {
     "data": {
      "text/html": [
       "<div>\n",
       "<style scoped>\n",
       "    .dataframe tbody tr th:only-of-type {\n",
       "        vertical-align: middle;\n",
       "    }\n",
       "\n",
       "    .dataframe tbody tr th {\n",
       "        vertical-align: top;\n",
       "    }\n",
       "\n",
       "    .dataframe thead th {\n",
       "        text-align: right;\n",
       "    }\n",
       "</style>\n",
       "<table border=\"1\" class=\"dataframe\">\n",
       "  <thead>\n",
       "    <tr style=\"text-align: right;\">\n",
       "      <th></th>\n",
       "      <th>replicate</th>\n",
       "      <th>label</th>\n",
       "    </tr>\n",
       "  </thead>\n",
       "  <tbody>\n",
       "    <tr>\n",
       "      <th>0</th>\n",
       "      <td>muc3838</td>\n",
       "      <td>24m</td>\n",
       "    </tr>\n",
       "    <tr>\n",
       "      <th>1</th>\n",
       "      <td>muc3839</td>\n",
       "      <td>24m</td>\n",
       "    </tr>\n",
       "    <tr>\n",
       "      <th>2</th>\n",
       "      <td>muc3840</td>\n",
       "      <td>3m</td>\n",
       "    </tr>\n",
       "    <tr>\n",
       "      <th>3</th>\n",
       "      <td>muc3841</td>\n",
       "      <td>3m</td>\n",
       "    </tr>\n",
       "    <tr>\n",
       "      <th>4</th>\n",
       "      <td>muc4166</td>\n",
       "      <td>24m</td>\n",
       "    </tr>\n",
       "    <tr>\n",
       "      <th>5</th>\n",
       "      <td>muc4167</td>\n",
       "      <td>24m</td>\n",
       "    </tr>\n",
       "    <tr>\n",
       "      <th>6</th>\n",
       "      <td>muc4168</td>\n",
       "      <td>24m</td>\n",
       "    </tr>\n",
       "    <tr>\n",
       "      <th>7</th>\n",
       "      <td>muc4169</td>\n",
       "      <td>3m</td>\n",
       "    </tr>\n",
       "    <tr>\n",
       "      <th>8</th>\n",
       "      <td>muc4170</td>\n",
       "      <td>3m</td>\n",
       "    </tr>\n",
       "    <tr>\n",
       "      <th>9</th>\n",
       "      <td>muc4172</td>\n",
       "      <td>3m</td>\n",
       "    </tr>\n",
       "    <tr>\n",
       "      <th>10</th>\n",
       "      <td>muc4173</td>\n",
       "      <td>3m</td>\n",
       "    </tr>\n",
       "    <tr>\n",
       "      <th>11</th>\n",
       "      <td>muc4174</td>\n",
       "      <td>24m</td>\n",
       "    </tr>\n",
       "    <tr>\n",
       "      <th>12</th>\n",
       "      <td>muc4175</td>\n",
       "      <td>24m</td>\n",
       "    </tr>\n",
       "    <tr>\n",
       "      <th>13</th>\n",
       "      <td>muc4654</td>\n",
       "      <td>3m</td>\n",
       "    </tr>\n",
       "    <tr>\n",
       "      <th>14</th>\n",
       "      <td>muc4657</td>\n",
       "      <td>3m</td>\n",
       "    </tr>\n",
       "  </tbody>\n",
       "</table>\n",
       "</div>"
      ],
      "text/plain": [
       "   replicate label\n",
       "0    muc3838   24m\n",
       "1    muc3839   24m\n",
       "2    muc3840    3m\n",
       "3    muc3841    3m\n",
       "4    muc4166   24m\n",
       "5    muc4167   24m\n",
       "6    muc4168   24m\n",
       "7    muc4169    3m\n",
       "8    muc4170    3m\n",
       "9    muc4172    3m\n",
       "10   muc4173    3m\n",
       "11   muc4174   24m\n",
       "12   muc4175   24m\n",
       "13   muc4654    3m\n",
       "14   muc4657    3m"
      ]
     },
     "execution_count": 12,
     "metadata": {},
     "output_type": "execute_result"
    }
   ],
   "source": [
    "adata.obs[['replicate', 'label']].drop_duplicates().reset_index(drop=True)"
   ]
  },
  {
   "cell_type": "code",
   "execution_count": 9,
   "id": "b2413ff1-1be8-4df1-b3b1-f2a4d95b6851",
   "metadata": {},
   "outputs": [
    {
     "data": {
      "text/plain": [
       "replicate  label\n",
       "muc3838    24m      155\n",
       "muc3839    24m      131\n",
       "muc3840    3m       293\n",
       "muc3841    3m       176\n",
       "muc4166    24m      252\n",
       "muc4167    24m      275\n",
       "muc4168    24m       99\n",
       "muc4169    3m       487\n",
       "muc4170    3m       364\n",
       "muc4172    3m       410\n",
       "muc4173    3m       583\n",
       "muc4174    24m      175\n",
       "muc4175    24m      103\n",
       "muc4654    3m       498\n",
       "muc4657    3m       198\n",
       "dtype: int64"
      ]
     },
     "execution_count": 9,
     "metadata": {},
     "output_type": "execute_result"
    }
   ],
   "source": [
    "adata.obs.groupby(['replicate', 'label'])"
   ]
  },
  {
   "cell_type": "code",
   "execution_count": null,
   "id": "66656ad2-d1ce-46d3-aabb-6420aca43b27",
   "metadata": {},
   "outputs": [],
   "source": [
    "def sample_sum(data):\n",
    "    \n",
    "    s = data.sum(axis=0)\n",
    "    return s\n",
    "\n",
    "def scaled_mean_se2(data, sf, q):\n",
    "\n",
    "    augmented_data = np.append(data, np.ones((1,data.shape[1])), axis=0)\n",
    "\n",
    "    sf = np.append(sf, sf.mean())\n",
    "    q = q.mean()\n",
    "    X = augmented_data/sf.reshape(-1,1)\n",
    "\n",
    "    naive_v = X.var(axis=0)\n",
    "    naive_m = X.mean(axis=0)\n",
    "    v = naive_v-(1-q)*(augmented_data/(sf**2-sf*(1-q)).reshape(-1,1)).mean(axis=0)\n",
    "    variance_contributions = ((1-q)/sf).reshape(-1,1)*naive_m.reshape(1,-1) + v.reshape(1,-1)\n",
    "    m = np.average( X, weights=1/variance_contributions, axis=0)\n",
    "    m[~np.isfinite(m)] = naive_m[~np.isfinite(m)]\n",
    "    m[m<0] = 0\n",
    "    # return np.log(naive_m), v/data.shape[0]\n",
    "    total = data.sum()\n",
    "    # return m*total, v*total**2\n",
    "    return m*total, (v/data.shape[0])*total**2"
   ]
  }
 ],
 "metadata": {
  "kernelspec": {
   "display_name": "Python (single_cell)",
   "language": "python",
   "name": "single_cell"
  },
  "language_info": {
   "codemirror_mode": {
    "name": "ipython",
    "version": 3
   },
   "file_extension": ".py",
   "mimetype": "text/x-python",
   "name": "python",
   "nbconvert_exporter": "python",
   "pygments_lexer": "ipython3",
   "version": "3.10.11"
  }
 },
 "nbformat": 4,
 "nbformat_minor": 5
}
