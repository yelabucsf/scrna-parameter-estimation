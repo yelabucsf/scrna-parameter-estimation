{
 "cells": [
  {
   "cell_type": "markdown",
   "id": "98fcbccc",
   "metadata": {},
   "source": [
    "# Method comparisons for inference"
   ]
  },
  {
   "cell_type": "code",
   "execution_count": 1,
   "id": "89265cae",
   "metadata": {},
   "outputs": [],
   "source": [
    "import pandas as pd\n",
    "import matplotlib.pyplot as plt\n",
    "import scanpy as sc\n",
    "import scipy as sp\n",
    "import itertools\n",
    "import numpy as np\n",
    "import scipy.stats as stats\n",
    "from scipy.integrate import dblquad\n",
    "import seaborn as sns\n",
    "from statsmodels.stats.multitest import fdrcorrection\n",
    "import imp\n",
    "pd.options.display.max_rows = 999\n",
    "pd.set_option('display.max_colwidth', 200)\n",
    "pd.set_option('display.max_columns', 100)\n",
    "\n",
    "import pickle as pkl\n",
    "import time\n",
    "import string\n",
    "from sklearn.datasets import make_spd_matrix\n",
    "from sklearn.metrics import roc_curve, precision_recall_curve"
   ]
  },
  {
   "cell_type": "code",
   "execution_count": 2,
   "id": "28a34ee2",
   "metadata": {},
   "outputs": [],
   "source": [
    "import matplotlib as mpl\n",
    "mpl.rcParams['pdf.fonttype'] = 42\n",
    "mpl.rcParams['ps.fonttype'] = 42\n",
    "plt.rcParams[\"axes.prop_cycle\"] = plt.cycler(\"color\", ['turquoise', 'slategrey', 'silver'])\n",
    "\n",
    "import matplotlib.pylab as pylab\n",
    "params = {'legend.fontsize': 'medium',\n",
    "         'axes.labelsize': 'medium',\n",
    "         'axes.titlesize':'medium',\n",
    "         'figure.titlesize':'medium',\n",
    "         'xtick.labelsize':'small',\n",
    "         'ytick.labelsize':'small'}\n",
    "pylab.rcParams.update(params)\n"
   ]
  },
  {
   "cell_type": "code",
   "execution_count": 3,
   "id": "e78e026e",
   "metadata": {},
   "outputs": [],
   "source": [
    "import sys\n",
    "sys.path.append('/home/ssm-user/Github/scrna-parameter-estimation/dist/memento-0.0.9-py3.8.egg')\n",
    "import memento\n",
    "import memento.simulate as simulate"
   ]
  },
  {
   "cell_type": "code",
   "execution_count": 4,
   "id": "1cc7ea07",
   "metadata": {},
   "outputs": [],
   "source": [
    "import matplotlib\n",
    "matplotlib.rcParams['legend.handlelength'] = 0"
   ]
  },
  {
   "cell_type": "code",
   "execution_count": 5,
   "id": "c61fa719",
   "metadata": {},
   "outputs": [],
   "source": [
    "data_path = '/data_volume/memento/simulation/inference/'"
   ]
  },
  {
   "cell_type": "markdown",
   "id": "0e78f2cd",
   "metadata": {},
   "source": [
    "### Compare DE methods"
   ]
  },
  {
   "cell_type": "code",
   "execution_count": 131,
   "id": "be2fdfa6",
   "metadata": {},
   "outputs": [],
   "source": [
    "de_norm_adata = sc.read(data_path + 'de_filtered_norm.h5ad')"
   ]
  },
  {
   "cell_type": "code",
   "execution_count": 132,
   "id": "79b24122",
   "metadata": {},
   "outputs": [
    {
     "name": "stderr",
     "output_type": "stream",
     "text": [
      "/home/ssm-user/anaconda3/envs/single_cell/lib/python3.8/site-packages/anndata/_core/anndata.py:1095: FutureWarning: The `inplace` parameter in pandas.Categorical.remove_unused_categories is deprecated and will be removed in a future version.\n",
      "  df_sub[k].cat.remove_unused_categories(inplace=True)\n"
     ]
    }
   ],
   "source": [
    "result = pd.read_csv(data_path + 'memento_de.csv')\n",
    "A_data, B_data = de_norm_adata[de_norm_adata.obs['ct_real'] == 'A'].X, de_norm_adata[de_norm_adata.obs['ct_real'] == 'B'].X\n",
    "_, result['ttest'] = stats.ttest_ind(A_data, B_data, equal_var=False)\n",
    "result['mwu'] = np.array([stats.ranksums(A_data[:, i], B_data[:,i])[1] for i in range(A_data.shape[1])])"
   ]
  },
  {
   "cell_type": "code",
   "execution_count": 133,
   "id": "bdcb26f6",
   "metadata": {},
   "outputs": [],
   "source": [
    "result['null'] = de_norm_adata.var['is_null'].values\n",
    "result['sig'] = ~result['null']\n",
    "result['memento'] = result['de_pval']"
   ]
  },
  {
   "cell_type": "code",
   "execution_count": 134,
   "id": "6b9fac2e",
   "metadata": {},
   "outputs": [],
   "source": [
    "result['ttest_fdr'] = memento.util._fdrcorrect(result['ttest'])\n",
    "result['memento_fdr'] = memento.util._fdrcorrect(result['de_pval'])\n",
    "result['mwu_fdr'] = memento.util._fdrcorrect(result['mwu'])"
   ]
  },
  {
   "cell_type": "code",
   "execution_count": 135,
   "id": "32fd3a54",
   "metadata": {},
   "outputs": [],
   "source": [
    "thresholds = np.linspace(0.05, 0.5, 10)\n",
    "tpr_dict = {}\n",
    "fdr_dict = {}\n",
    "fpr_dict = {}\n",
    "for method in ['memento', 'ttest', 'mwu']:\n",
    "    tpr = []\n",
    "    fpr = []\n",
    "    fdr = []\n",
    "\n",
    "    for thresh in thresholds:\n",
    "    \n",
    "        tpr.append((result.query('sig')[method] < thresh).mean())\n",
    "        fdr.append(result.query('{} < {}'.format(method, thresh))['null'].mean())\n",
    "        fpr.append((result.query('null')[method] < thresh).mean())\n",
    "    tpr_dict[method] = tpr\n",
    "    fpr_dict[method] = fpr\n",
    "    fdr_dict[method] = fdr"
   ]
  },
  {
   "cell_type": "code",
   "execution_count": 136,
   "id": "24985ebd",
   "metadata": {},
   "outputs": [
    {
     "data": {
      "text/html": [
       "<table><th>'color'</th><tr><td>'lightseagreen'</td></tr><tr><td>'blue'</td></tr></table>"
      ],
      "text/plain": [
       "cycler('color', ['lightseagreen', 'blue'])"
      ]
     },
     "execution_count": 136,
     "metadata": {},
     "output_type": "execute_result"
    }
   ],
   "source": [
    "plt.cycler(\"color\", ['lightseagreen', 'blue'])"
   ]
  },
  {
   "cell_type": "code",
   "execution_count": 137,
   "id": "bbd2b0bb",
   "metadata": {},
   "outputs": [],
   "source": []
  },
  {
   "cell_type": "code",
   "execution_count": 138,
   "id": "1a49cc88",
   "metadata": {},
   "outputs": [
    {
     "data": {
      "image/png": "[encoded data removed]",
      "text/plain": [
       "<Figure size 180x288 with 2 Axes>"
      ]
     },
     "metadata": {
      "needs_background": "light"
     },
     "output_type": "display_data"
    }
   ],
   "source": [
    "plt.figure(figsize=(2.5, 4))\n",
    "plt.subplots_adjust(hspace=0.09)\n",
    "plt.subplot(2, 1, 1)\n",
    "for method in ['memento', 'ttest', 'mwu']:\n",
    "    plt.plot(thresholds, tpr_dict[method], '-o', label=method, ms=4)\n",
    "plt.legend(['memento', 't-test', 'MWU'], frameon=False, loc='upper left', bbox_to_anchor=(0,1.05))\n",
    "plt.ylabel('Power'); plt.xticks([])\n",
    "\n",
    "plt.subplot(2, 1, 2)\n",
    "for method in ['memento', 'ttest', 'mwu']:\n",
    "    plt.plot(thresholds, fpr_dict[method], '-o', label=method, ms=4)\n",
    "# plt.legend(['memento', 'BASiCS'], frameon=False, loc='center right')\n",
    "plt.ylabel('FPR')\n",
    "plt.xlabel('P-value cutoff')\n",
    "\n",
    "plt.savefig('de_comparison.pdf', bbox_inches='tight')"
   ]
  },
  {
   "cell_type": "code",
   "execution_count": 74,
   "id": "a3c82cef",
   "metadata": {},
   "outputs": [],
   "source": [
    "# plt.figure(figsize=(2.5, 2))\n",
    "# for col in ['de_pval', 'ttest', 'mwu']:\n",
    "    \n",
    "#     fpr, tpr, t = roc_curve(result['sig'], 1-result[col])\n",
    "#     plt.plot(fpr, tpr, label=col)\n",
    "    \n",
    "# plt.legend(['memento', 't-test', 'MWU'])\n",
    "# plt.xlabel('False positive rate')\n",
    "# plt.ylabel('True positive rate')\n",
    "# plt.title('AUC curve (Differential mean)')\n",
    "# plt.xlim(-0.01, 0.4);\n",
    "# plt.ylim(-0.01, 0.6)\n",
    "# plt.plot([0, 0.4], [0, 0.4], '--', color='black')"
   ]
  },
  {
   "cell_type": "markdown",
   "id": "251de0bd",
   "metadata": {},
   "source": [
    "### Compare DV methods"
   ]
  },
  {
   "cell_type": "code",
   "execution_count": 88,
   "id": "25bbc0a9",
   "metadata": {},
   "outputs": [],
   "source": [
    "dv_norm_adata = sc.read(data_path + 'dv_filtered_norm.h5ad')\n",
    "result = pd.read_csv(data_path + 'memento_dv.csv')\n",
    "result['null'] = dv_norm_adata.var['is_null'].values\n",
    "result['sig'] = dv_norm_adata.var['is_sig'].values\n",
    "basics_dv = pd.read_csv(data_path +'dv_basics.csv')\n",
    "result = result.merge(basics_dv, left_on='gene', right_on='GeneName')"
   ]
  },
  {
   "cell_type": "code",
   "execution_count": 89,
   "id": "d18d97e8",
   "metadata": {},
   "outputs": [],
   "source": [
    "result['memento'] = result['dv_pval']\n",
    "result['basics'] = result['ProbDiffResDisp']"
   ]
  },
  {
   "cell_type": "code",
   "execution_count": 90,
   "id": "6d93235a",
   "metadata": {},
   "outputs": [],
   "source": [
    "thresholds = np.linspace(0.05, 0.5, 10)\n",
    "tpr_dict = {}\n",
    "fdr_dict = {}\n",
    "fpr_dict = {}\n",
    "for method in ['memento', 'basics']:\n",
    "    tpr = []\n",
    "    fpr = []\n",
    "    fdr = []\n",
    "\n",
    "    for thresh in thresholds:\n",
    "    \n",
    "        tpr.append((result.query('sig')[method] < thresh).mean())\n",
    "        fdr.append(result.query('{} < {}'.format(method, thresh))['null'].mean())\n",
    "        fpr.append((result.query('null')[method] < thresh).mean())\n",
    "    tpr_dict[method] = tpr\n",
    "    fpr_dict[method] = fpr\n",
    "    fdr_dict[method] = fdr"
   ]
  },
  {
   "cell_type": "code",
   "execution_count": 92,
   "id": "cca612f8",
   "metadata": {},
   "outputs": [
    {
     "data": {
      "image/png": "[encoded data removed]",
      "text/plain": [
       "<Figure size 180x288 with 2 Axes>"
      ]
     },
     "metadata": {
      "needs_background": "light"
     },
     "output_type": "display_data"
    }
   ],
   "source": [
    "plt.figure(figsize=(2.5, 4))\n",
    "plt.subplots_adjust(hspace=0.09)\n",
    "plt.subplot(2, 1, 1)\n",
    "for method in ['memento', 'basics']:\n",
    "    plt.plot(thresholds, tpr_dict[method], '-o', label=method, ms=4)\n",
    "plt.legend(['memento', 'BASiCS'], frameon=False, loc='center right')\n",
    "plt.xticks([])\n",
    "\n",
    "plt.subplot(2, 1, 2)\n",
    "for method in ['memento', 'basics']:\n",
    "    plt.plot(thresholds, fpr_dict[method], '-o', label=method, ms=4)\n",
    "# plt.legend(['memento', 'BASiCS'], frameon=False, loc='center right')\n",
    "# plt.ylabel('FPR')\n",
    "plt.xlabel('P-value cutoff (memento)\\nPr(null) cutoff (BASiCS)')\n",
    "\n",
    "plt.savefig('dv_comparison.pdf', bbox_inches='tight')"
   ]
  },
  {
   "cell_type": "code",
   "execution_count": 193,
   "id": "68223a7c",
   "metadata": {},
   "outputs": [],
   "source": [
    "# plt.figure(figsize=(2.5, 2))\n",
    "# for col in ['dv_pval', 'ProbDiffResDisp']:\n",
    "    \n",
    "#     if col == 'dv_pval':\n",
    "#         fpr, tpr, t = roc_curve(result['sig'], 1-result[col])\n",
    "#         plt.plot(fpr, tpr, label=col)\n",
    "#     if col == 'ProbDiffResDisp':\n",
    "#         fpr, tpr, t = roc_curve(result['sig'], result[col])\n",
    "#         plt.plot(fpr, tpr, label=col)   \n",
    "# plt.legend(['memento', 'BASiCS'])\n",
    "# plt.xlabel('False positive rate')\n",
    "# plt.ylabel('True positive rate')\n",
    "# plt.title('Differential variability')\n",
    "# # plt.xlim(-0.01, 0.4);\n",
    "# # plt.ylim(-0.01, 0.6)\n",
    "# plt.plot([0, 1], [0, 1], '--', color='black')"
   ]
  },
  {
   "cell_type": "markdown",
   "id": "d283401f",
   "metadata": {},
   "source": [
    "### Compare DC methods"
   ]
  },
  {
   "cell_type": "code",
   "execution_count": 122,
   "id": "8a2ed106",
   "metadata": {},
   "outputs": [],
   "source": [
    "result = pd.read_csv(data_path + 'memento_dc.csv')\n",
    "schot_df = pd.read_csv(data_path + 'dc_schot.csv')\n",
    "result = result.merge(schot_df, on=['gene_1', 'gene_2'])\n",
    "result['sig'] = (result['gene_1'] < 400) & (result['gene_2'] < 400)\n",
    "result['null'] = ~result['sig']\n",
    "\n",
    "result['schot'] = result['pvalEstimated']\n",
    "result['memento'] = result['corr_pval']\n",
    "\n",
    "result['schot_es'] = result['globalHigherOrderFunction']\n",
    "result['memento_es'] = result['corr_coef']\n",
    "\n",
    "with open(data_path + 'dc_true_effect_size.pkl', 'rb') as f:\n",
    "    true_es_matrix = pkl.load(f)\n",
    "indices = list(itertools.combinations(np.arange(true_es_matrix.shape[0]), 2))\n",
    "pos_idxs = pd.DataFrame(indices, columns=['gene_1', 'gene_2'])\n",
    "a,b = zip(*indices)\n",
    "pos_idxs['true_es'] = true_es_matrix[(a,b)]\n",
    "\n",
    "result = result.merge(pos_idxs, on=['gene_1', 'gene_2'], how='left')\n",
    "result['true_es'] = result['true_es'].fillna(value=0)\n",
    "result['memento_sign'] = (result['memento_es']*result['true_es']) > 0\n",
    "result['schot_sign'] = (result['schot_es']*result['true_es']) > 0"
   ]
  },
  {
   "cell_type": "code",
   "execution_count": 123,
   "id": "9ca23249",
   "metadata": {},
   "outputs": [],
   "source": [
    "thresholds = np.linspace(0.05, 0.5, 10)\n",
    "tpr_dict = {}\n",
    "fdr_dict = {}\n",
    "fpr_dict = {}\n",
    "for method in ['memento', 'schot']:\n",
    "    tpr = []\n",
    "    fpr = []\n",
    "    fdr = []\n",
    "\n",
    "    for thresh in thresholds:\n",
    "    \n",
    "        tpr.append( ( (result.query('sig')[method] < thresh) & result.query('sig')[method+'_sign']   ).mean())\n",
    "        fdr.append(    (result.query('{} < {}'.format(method, thresh))['null']   |   ~result.query('{} < {}'.format(method, thresh))[method+'_sign']    ).mean())\n",
    "        fpr.append((result.query('null')[method] < thresh).mean())\n",
    "    tpr_dict[method] = tpr\n",
    "    fpr_dict[method] = fpr\n",
    "    fdr_dict[method] = fdr"
   ]
  },
  {
   "cell_type": "code",
   "execution_count": 126,
   "id": "98ac3308",
   "metadata": {},
   "outputs": [
    {
     "data": {
      "image/png": "[encoded data removed]",
      "text/plain": [
       "<Figure size 180x288 with 2 Axes>"
      ]
     },
     "metadata": {
      "needs_background": "light"
     },
     "output_type": "display_data"
    }
   ],
   "source": [
    "plt.figure(figsize=(2.5, 4))\n",
    "plt.subplots_adjust(hspace=0.09)\n",
    "plt.subplot(2, 1, 1)\n",
    "for method in ['memento', 'schot']:\n",
    "    plt.plot(thresholds, tpr_dict[method], '-o', label=method, ms=4)\n",
    "plt.legend(['memento', 'schot'], frameon=False, loc='center right')\n",
    "plt.xticks([])\n",
    "\n",
    "plt.subplot(2, 1, 2)\n",
    "for method in ['memento', 'schot']:\n",
    "    plt.plot(thresholds, fpr_dict[method], '-o', label=method, ms=4)\n",
    "# plt.legend(['memento', 'BASiCS'], frameon=False, loc='center right')\n",
    "# plt.ylabel('FPR')\n",
    "# plt.plot([0, 0.5], [0, 0.5], '--', color='red')\n",
    "plt.xlabel('P-value cutoff')\n",
    "\n",
    "plt.savefig('dc_comparison.pdf', bbox_inches='tight')"
   ]
  },
  {
   "cell_type": "code",
   "execution_count": null,
   "id": "4954636f",
   "metadata": {},
   "outputs": [],
   "source": []
  },
  {
   "cell_type": "code",
   "execution_count": 119,
   "id": "b84fb45a",
   "metadata": {},
   "outputs": [
    {
     "data": {
      "text/plain": [
       "[<matplotlib.lines.Line2D at 0x7f75d0000c10>]"
      ]
     },
     "execution_count": 119,
     "metadata": {},
     "output_type": "execute_result"
    },
    {
     "data": {
      "image/png": "[encoded data removed]",
      "text/plain": [
       "<Figure size 180x144 with 1 Axes>"
      ]
     },
     "metadata": {
      "needs_background": "light"
     },
     "output_type": "display_data"
    }
   ],
   "source": [
    "plt.figure(figsize=(2.5, 2))\n",
    "for col in ['memento']:\n",
    "    \n",
    "    fpr, tpr, t = roc_curve(result.dropna()['sig'], 1-result.dropna()[col])\n",
    "    plt.plot(fpr, tpr, label=col)\n",
    "    \n",
    "plt.legend(['memento'])\n",
    "plt.xlabel('False positive rate')\n",
    "plt.ylabel('True positive rate')\n",
    "plt.title('Differential correlation')\n",
    "# plt.xlim(-0.01, 0.4);\n",
    "# plt.ylim(-0.01, 0.6)\n",
    "plt.plot([0, 1], [0, 1], '--', color='black')"
   ]
  },
  {
   "cell_type": "code",
   "execution_count": 120,
   "id": "55fe4494",
   "metadata": {},
   "outputs": [
    {
     "data": {
      "text/plain": [
       "[<matplotlib.lines.Line2D at 0x7f75c62f4130>]"
      ]
     },
     "execution_count": 120,
     "metadata": {},
     "output_type": "execute_result"
    },
    {
     "data": {
      "image/png": "[encoded data removed]",
      "text/plain": [
       "<Figure size 180x144 with 1 Axes>"
      ]
     },
     "metadata": {
      "needs_background": "light"
     },
     "output_type": "display_data"
    }
   ],
   "source": [
    "plt.figure(figsize=(2.5, 2))\n",
    "for col in ['schot']:\n",
    "    \n",
    "    fpr, tpr, t = roc_curve(result.dropna()['sig'], 1-result.dropna()[col])\n",
    "    plt.plot(fpr, tpr, label=col)\n",
    "    \n",
    "plt.legend(['memento'])\n",
    "plt.xlabel('False positive rate')\n",
    "plt.ylabel('True positive rate')\n",
    "plt.title('Differential correlation')\n",
    "# plt.xlim(-0.01, 0.4);\n",
    "# plt.ylim(-0.01, 0.6)\n",
    "plt.plot([0, 1], [0, 1], '--', color='black')"
   ]
  },
  {
   "cell_type": "code",
   "execution_count": null,
   "id": "31666176",
   "metadata": {},
   "outputs": [],
   "source": []
  }
 ],
 "metadata": {
  "kernelspec": {
   "display_name": "Python 3 (ipykernel)",
   "language": "python",
   "name": "python3"
  },
  "language_info": {
   "codemirror_mode": {
    "name": "ipython",
    "version": 3
   },
   "file_extension": ".py",
   "mimetype": "text/x-python",
   "name": "python",
   "nbconvert_exporter": "python",
   "pygments_lexer": "ipython3",
   "version": "3.11.8"
  }
 },
 "nbformat": 4,
 "nbformat_minor": 5
}
