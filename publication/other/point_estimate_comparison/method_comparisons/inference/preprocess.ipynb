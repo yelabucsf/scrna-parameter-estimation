{
 "cells": [
  {
   "cell_type": "markdown",
   "id": "a5394cfb-92fc-4cde-810e-374841567251",
   "metadata": {},
   "source": [
    "# Prepare lupus dataset for DM comparisons\n",
    "\n",
    "Bulk data here: https://www.ncbi.nlm.nih.gov/geo/query/acc.cgi?acc=GSE164457"
   ]
  },
  {
   "cell_type": "code",
   "execution_count": 80,
   "id": "67012e6d-dd8b-4268-9488-6de9c9b2ae38",
   "metadata": {},
   "outputs": [],
   "source": [
    "import pandas as pd\n",
    "import scanpy as sc\n",
    "import numpy as np\n",
    "import matplotlib.pyplot as plt\n",
    "\n",
    "data_path = '/data_volume/memento/method_comparison/lupus/'\n",
    "\n",
    "### Read single cell and bulk data\n",
    "\n",
    "adata = sc.read(data_path + '../../lupus/Lupus_study_adjusted_counts.h5ad')\n",
    "\n",
    "bulk = pd.read_csv(data_path + 'lupus_bulk.csv', index_col=0)\n",
    "\n",
    "def get_sc_ind(x):\n",
    "    \n",
    "    if '-' in x:\n",
    "        return x.split('-')[1]\n",
    "    elif '_' in x:\n",
    "        return x.split('_')[0]\n",
    "    else:\n",
    "        return x\n",
    "\n",
    "meta = adata.obs[['ind_cov', 'Age', 'Sex', 'SLE_status']].drop_duplicates().reset_index(drop=True)\n",
    "meta['ind'] = meta['ind_cov'].apply(get_sc_ind)\n",
    "\n",
    "sc_inds = set(meta['ind'].tolist())\n",
    "\n",
    "bulk_inds = set(bulk.columns.str.split('_').str[1].tolist())\n",
    "\n",
    "inds = list(sc_inds & bulk_inds)\n",
    "\n",
    "meta = meta[meta['ind'].isin(inds)]\n",
    "\n",
    "genes = list(set(bulk.index) & set(adata.var.index))\n",
    "\n",
    "## Create CD14 vs CD4 comparisons\n",
    "\n",
    "### Sample individuals\n",
    "\n",
    "For now, we'll stick to comparing CD14 vs CD4 cells\n",
    "\n",
    "sampled_inds = np.random.choice(inds, 4)\n",
    "\n",
    "### Create single cell data and pseudobulks\n",
    "\n",
    "adata.obs['ind'] = adata.obs['ind_cov'].apply(get_sc_ind)\n",
    "\n",
    "sampled_adata = adata[adata.obs['ind'].isin(sampled_inds) & adata.obs['cg_cov'].isin(['T4', 'cM']), genes]\n",
    "\n",
    "pseudobulks = []\n",
    "names = []\n",
    "adata_list = []\n",
    "for ind in sampled_inds:\n",
    "    for ct in ['T4', 'cM']:\n",
    "        ind_ct_adata = sampled_adata[(sampled_adata.obs['ind']==ind) & (sampled_adata.obs['cg_cov']==ct)].copy()\n",
    "        sc.pp.subsample(ind_ct_adata, n_obs=100)\n",
    "        adata_list.append(ind_ct_adata.copy())\n",
    "        pseudobulks.append( ind_ct_adata.X.sum(axis=0).A1)\n",
    "        names.append(('CD14' if ct == 'cM' else 'CD4') + '_' + ind )\n",
    "sc_data = sc.AnnData.concatenate(*adata_list)\n",
    "pseudobulks = np.vstack(pseudobulks)\n",
    "pseudobulks = pd.DataFrame(pseudobulks.T, columns=names, index=genes)\n",
    "\n",
    "pseudobulks.to_csv(data_path + 'T4_vs_cM.pseudobulk.csv')\n",
    "\n",
    "sc_data.write(data_path + 'T4_vs_cM.single_cell.h5ad')\n",
    "\n",
    "### Select bulk data\n",
    "\n",
    "names = []\n",
    "for ind in sampled_inds:\n",
    "    for ct in ['T4', 'cM']:\n",
    "        \n",
    "        name = ('CD14' if ct == 'cM' else 'CD4') + '_' + ind\n",
    "        names.append(name)\n",
    "bulk.loc[genes, names].to_csv(data_path + 'T4_vs_cM.bulk.csv')"
   ]
  },
  {
   "cell_type": "code",
   "execution_count": null,
   "id": "a46c6b5a-cda6-4775-8c0f-f0d093c5dd0e",
   "metadata": {},
   "outputs": [],
   "source": []
  },
  {
   "cell_type": "code",
   "execution_count": null,
   "id": "d7fef46c-8a0c-4341-8303-097dd54c49a9",
   "metadata": {},
   "outputs": [],
   "source": []
  },
  {
   "cell_type": "code",
   "execution_count": null,
   "id": "9afaf5ed-82ed-4e33-9408-9a4cdf2e7303",
   "metadata": {},
   "outputs": [],
   "source": []
  },
  {
   "cell_type": "code",
   "execution_count": null,
   "id": "2132866b-0d7c-46a5-8e29-e3a505ba7f0d",
   "metadata": {},
   "outputs": [],
   "source": []
  },
  {
   "cell_type": "code",
   "execution_count": null,
   "id": "41e49bdf-41f6-49db-ac51-d0f73c182582",
   "metadata": {},
   "outputs": [],
   "source": []
  },
  {
   "cell_type": "markdown",
   "id": "1764c418-45b1-447b-96de-67927772b0bb",
   "metadata": {},
   "source": [
    "## Create low/high SLEDAI comparisons"
   ]
  },
  {
   "cell_type": "code",
   "execution_count": 77,
   "id": "d0ab4621-5e48-4591-a156-486656f922a2",
   "metadata": {},
   "outputs": [
    {
     "data": {
      "text/plain": [
       "True"
      ]
     },
     "execution_count": 77,
     "metadata": {},
     "output_type": "execute_result"
    }
   ],
   "source": [
    "'1763_1763' in adata.obs[adata.obs['Status'] == \"Managed\"].ind_cov.drop_duplicates().values"
   ]
  },
  {
   "cell_type": "code",
   "execution_count": 54,
   "id": "672994e9-3345-420f-81f2-17efa10275b0",
   "metadata": {},
   "outputs": [
    {
     "data": {
      "text/plain": [
       "['FLARE006',\n",
       " 'FLARE004',\n",
       " '1772_1772',\n",
       " 'FLARE015',\n",
       " 'FLARE011',\n",
       " 'FLARE014',\n",
       " 'FLARE017',\n",
       " '1586_1586',\n",
       " 'FLARE020',\n",
       " 'FLARE007',\n",
       " 'FLARE016',\n",
       " 'FLARE009',\n",
       " 'FLARE001',\n",
       " '1130_1130',\n",
       " 'FLARE013',\n",
       " '2132_2132',\n",
       " 'FLARE010',\n",
       " 'FLARE005',\n",
       " '1763_1763']"
      ]
     },
     "execution_count": 54,
     "metadata": {},
     "output_type": "execute_result"
    }
   ],
   "source": [
    "adata.obs[adata.obs['Status'] == \"Flare\"].ind_cov.drop_duplicates().values.tolist()"
   ]
  },
  {
   "cell_type": "code",
   "execution_count": 45,
   "id": "ade39d04-49e9-4600-b232-43bb16c049f5",
   "metadata": {},
   "outputs": [
    {
     "data": {
      "text/plain": [
       "Managed    696626\n",
       "Healthy    486418\n",
       "Flare       55120\n",
       "Treated     25512\n",
       "Name: Status, dtype: int64"
      ]
     },
     "execution_count": 45,
     "metadata": {},
     "output_type": "execute_result"
    }
   ],
   "source": [
    "adata.obs['Status'].value_counts()"
   ]
  },
  {
   "cell_type": "code",
   "execution_count": 44,
   "id": "ed5b70c6-ed55-4b0d-8508-57a3c778432c",
   "metadata": {},
   "outputs": [
    {
     "data": {
      "text/plain": [
       "Status   ind_cov          \n",
       "Healthy  IGTB469_IGTB469      13543\n",
       "         IGTB195_IGTB195      12768\n",
       "         IGTB514_IGTB514      12491\n",
       "         IGTB508_IGTB508      11178\n",
       "         IGTB1540_IGTB1540    10382\n",
       "                              ...  \n",
       "Treated  FLARE011              1469\n",
       "Flare    FLARE017              1189\n",
       "Treated  1586_1586             1065\n",
       "Flare    FLARE010               761\n",
       "Healthy  HC-566                 456\n",
       "Length: 274, dtype: int64"
      ]
     },
     "execution_count": 44,
     "metadata": {},
     "output_type": "execute_result"
    }
   ],
   "source": [
    "adata.obs[['Status','ind_cov']].value_counts()"
   ]
  },
  {
   "cell_type": "code",
   "execution_count": null,
   "id": "f1fb940a-14cb-405d-8fed-e54522c7972a",
   "metadata": {},
   "outputs": [],
   "source": []
  }
 ],
 "metadata": {
  "kernelspec": {
   "display_name": "Python 3 (ipykernel)",
   "language": "python",
   "name": "python3"
  },
  "language_info": {
   "codemirror_mode": {
    "name": "ipython",
    "version": 3
   },
   "file_extension": ".py",
   "mimetype": "text/x-python",
   "name": "python",
   "nbconvert_exporter": "python",
   "pygments_lexer": "ipython3",
   "version": "3.8.16"
  }
 },
 "nbformat": 4,
 "nbformat_minor": 5
}
