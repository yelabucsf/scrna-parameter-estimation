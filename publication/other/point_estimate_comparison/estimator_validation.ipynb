{
 "cells": [
  {
   "cell_type": "markdown",
   "metadata": {},
   "source": [
    "# Estimator validation\n",
    "\n",
    "This notebook contains code to generate Figure 2 of the paper. \n",
    "\n",
    "This notebook also serves to compare the estimates of the re-implemented scmemo with sceb package from Vasilis. \n"
   ]
  },
  {
   "cell_type": "code",
   "execution_count": 1,
   "metadata": {},
   "outputs": [
    {
     "name": "stderr",
     "output_type": "stream",
     "text": [
      "/Users/mincheolkim/opt/miniconda3/envs/single_cell/lib/python3.7/site-packages/ipykernel_launcher.py:13: FutureWarning: Passing a negative integer is deprecated in version 1.0 and will not be supported in future version. Instead, use None to not limit the column width.\n",
      "  del sys.path[0]\n"
     ]
    }
   ],
   "source": [
    "import pandas as pd\n",
    "import matplotlib.pyplot as plt\n",
    "import scanpy as sc\n",
    "import scipy as sp\n",
    "import itertools\n",
    "import numpy as np\n",
    "import scipy.stats as stats\n",
    "from scipy.integrate import dblquad\n",
    "import seaborn as sns\n",
    "from statsmodels.stats.multitest import fdrcorrection\n",
    "import imp\n",
    "pd.options.display.max_rows = 999\n",
    "pd.set_option('display.max_colwidth', -1)\n",
    "import pickle as pkl\n",
    "import time"
   ]
  },
  {
   "cell_type": "code",
   "execution_count": 2,
   "metadata": {},
   "outputs": [],
   "source": [
    "import matplotlib as mpl\n",
    "mpl.rcParams['pdf.fonttype'] = 42\n",
    "mpl.rcParams['ps.fonttype'] = 42\n",
    "\n",
    "import matplotlib.pylab as pylab\n",
    "params = {'legend.fontsize': 'x-small',\n",
    "         'axes.labelsize': 'medium',\n",
    "         'axes.titlesize':'medium',\n",
    "         'figure.titlesize':'medium',\n",
    "         'xtick.labelsize':'xx-small',\n",
    "         'ytick.labelsize':'xx-small'}\n",
    "pylab.rcParams.update(params)\n"
   ]
  },
  {
   "cell_type": "code",
   "execution_count": 6,
   "metadata": {},
   "outputs": [],
   "source": [
    "import sys\n",
    "sys.path.append('/Users/mincheolkim/Github/scrna-parameter-estimation/')\n",
    "import memento\n",
    "import memento.simulate as simulate"
   ]
  },
  {
   "cell_type": "code",
   "execution_count": 7,
   "metadata": {},
   "outputs": [],
   "source": [
    "# import sys\n",
    "# sys.path.append('/home/ssm-user/Github/single_cell_eb/')\n",
    "# sys.path.append('/home/ssm-user/Github/single_cell_eb/sceb/')\n",
    "# import scdd"
   ]
  },
  {
   "cell_type": "code",
   "execution_count": 12,
   "metadata": {},
   "outputs": [],
   "source": [
    "data_path = '/home/ubuntu/Data/'\n",
    "fig_path = '/data/home/Github/scrna-parameter-estimation/figures/fig3/'"
   ]
  },
  {
   "cell_type": "markdown",
   "metadata": {},
   "source": [
    "### Extract parameters from interferon dataset"
   ]
  },
  {
   "cell_type": "code",
   "execution_count": 13,
   "metadata": {},
   "outputs": [],
   "source": [
    "adata = sc.read(data_path + 'interferon_filtered.h5ad')\n",
    "adata = adata[adata.obs.cell_type == 'CD4 T cells - ctrl']\n",
    "data = adata.X.copy()\n",
    "relative_data = data.toarray()/data.sum(axis=1)"
   ]
  },
  {
   "cell_type": "code",
   "execution_count": 14,
   "metadata": {},
   "outputs": [],
   "source": [
    "q = 0.07\n",
    "x_param, z_param, Nc, good_idx = memento.simulate.extract_parameters(adata.X, q=q, min_mean=q)"
   ]
  },
  {
   "cell_type": "markdown",
   "metadata": {},
   "source": [
    "### Comparison function"
   ]
  },
  {
   "cell_type": "code",
   "execution_count": 75,
   "metadata": {},
   "outputs": [],
   "source": [
    "true_data = memento.simulate.simulate_transcriptomes(1000, 1000, correlated=True) if true_data is None else true_data\n"
   ]
  },
  {
   "cell_type": "code",
   "execution_count": 23,
   "metadata": {},
   "outputs": [],
   "source": [
    "def compare_esimators(q, plot=False, true_data=None, var_q=1e-10):\n",
    "    \n",
    "    q_sq = var_q + q**2\n",
    "    \n",
    "    true_data = memento.simulate.simulate_transcriptomes(1000, 1000, correlated=True) if true_data is None else true_data\n",
    "    true_relative_data = true_data / true_data.sum(axis=1).reshape(-1, 1)\n",
    "\n",
    "    qs, captured_data = memento.simulate.capture_sampling(true_data, q, q_sq)\n",
    "    Nr = captured_data.sum(axis=1).mean()\n",
    "    captured_relative_data = captured_data/captured_data.sum(axis=1).reshape(-1, 1)\n",
    "    adata = sc.AnnData(sp.sparse.csr_matrix(captured_data))\n",
    "    # adata.write('/data_volume/memento/simulation/estimation/estimation_{}.h5ad'.format(q))\n",
    "    sf = memento.estimator._estimate_size_factor(adata.X, 'hyper_relative', total=True, shrinkage=0.0)\n",
    "\n",
    "    good_idx = (captured_data.mean(axis=0) > q)\n",
    "\n",
    "    # True moments\n",
    "    m_true, v_true, corr_true = true_relative_data.mean(axis=0), true_relative_data.var(axis=0), np.corrcoef(true_relative_data, rowvar=False)\n",
    "    rv_true = v_true/m_true**2#memento.estimator._residual_variance(m_true, v_true, memento.estimator._fit_mv_regressor(m_true, v_true))\n",
    "    \n",
    "    # Compute 1D moments\n",
    "    m_obs, v_obs = captured_relative_data.mean(axis=0), captured_relative_data.var(axis=0)\n",
    "    rv_obs = v_obs/m_obs**2#memento.estimator._residual_variance(m_obs, v_obs, memento.estimator._fit_mv_regressor(m_obs, v_obs))\n",
    "    m_poi, v_poi = memento.estimator._poisson_1d_relative(adata.X, size_factor=sf, n_obs=true_data.shape[0])\n",
    "    rv_poi = v_poi/m_poi**2#memento.estimator._residual_variance(m_poi, v_poi, memento.estimator._fit_mv_regressor(m_poi, v_poi))\n",
    "    m_hyp, v_hyp = memento.estimator._hyper_1d_relative(adata.X, size_factor=sf, n_obs=true_data.shape[0], q=q)\n",
    "    rv_hyp = v_hyp/m_hyp**2#memento.estimator._residual_variance(m_hyp, v_hyp, memento.estimator._fit_mv_regressor(m_hyp, v_hyp))\n",
    "\n",
    "    # Compute 2D moments\n",
    "    corr_obs = np.corrcoef(captured_relative_data, rowvar=False)\n",
    "#     corr_obs = corr_obs[np.triu_indices(corr_obs.shape[0])]\n",
    "        \n",
    "    idx1 = np.array([i for i,j in itertools.combinations(range(adata.shape[1]), 2) if good_idx[i] and good_idx[j]])\n",
    "    idx2 = np.array([j for i,j in itertools.combinations(range(adata.shape[1]), 2) if good_idx[i] and good_idx[j]])\n",
    "    sample_idx = np.random.choice(idx1.shape[0], 10000)\n",
    "    \n",
    "    idx1 = idx1[sample_idx]\n",
    "    idx2 = idx2[sample_idx]\n",
    "\n",
    "    corr_true = corr_true[(idx1, idx2)]\n",
    "    corr_obs = corr_obs[(idx1, idx2)]\n",
    "    \n",
    "    cov_poi = memento.estimator._poisson_cov_relative(adata.X, n_obs=adata.shape[0], size_factor=sf, idx1=idx1, idx2=idx2)\n",
    "    cov_hyp = memento.estimator._hyper_cov_relative(adata.X, n_obs=adata.shape[0], size_factor=sf, idx1=idx1, idx2=idx2, q=q)\n",
    "    corr_poi = memento.estimator._corr_from_cov(cov_poi, v_poi[idx1], v_poi[idx2])\n",
    "    corr_hyp = memento.estimator._corr_from_cov(cov_hyp, v_hyp[idx1], v_hyp[idx2])\n",
    "\n",
    "    corr_poi[np.abs(corr_poi) > 1] = np.nan\n",
    "    corr_hyp[np.abs(corr_hyp) > 1] = np.nan\n",
    "\n",
    "    mean_list = [m_obs, m_poi, m_hyp]\n",
    "    var_list = [rv_obs, rv_poi, rv_hyp]\n",
    "    corr_list = [corr_obs, corr_poi, corr_hyp]\n",
    "    estimated_list = [mean_list, var_list, corr_list]\n",
    "    true_list = [m_true, rv_true, corr_true]\n",
    "\n",
    "    if plot:\n",
    "        count = 0\n",
    "        for j in range(3):\n",
    "            for i in range(3):\n",
    "\n",
    "                plt.subplot(3, 3, count+1)\n",
    "\n",
    "\n",
    "                if i != 2:\n",
    "                    plt.scatter(\n",
    "                        np.log(true_list[i][good_idx]),\n",
    "                        np.log(estimated_list[i][j][good_idx]),\n",
    "                        s=0.1)\n",
    "                    plt.plot(np.log(true_list[i][good_idx]), np.log(true_list[i][good_idx]), linestyle='--', color='m')\n",
    "                    plt.xlim(np.log(true_list[i][good_idx]).min(), np.log(true_list[i][good_idx]).max())\n",
    "                    plt.ylim(np.log(true_list[i][good_idx]).min(), np.log(true_list[i][good_idx]).max())\n",
    "\n",
    "                else:\n",
    "\n",
    "                    x = true_list[i]\n",
    "                    y = estimated_list[i][j]\n",
    "                    \n",
    "                    print(x.shape, y.shape)\n",
    "\n",
    "                    plt.scatter(\n",
    "                        x,\n",
    "                        y,\n",
    "                        s=0.1)\n",
    "                    plt.plot([-1, 1], [-1, 1],linestyle='--', color='m')\n",
    "                    plt.xlim(-1, 1);\n",
    "                    plt.ylim(-1, 1);\n",
    "                    \n",
    "#                 if not (i == j):\n",
    "#                     plt.yticks([]);\n",
    "#                     plt.xticks([]);\n",
    "                    \n",
    "                if i == 1 or i == 0:\n",
    "                    \n",
    "                    print((np.log(true_list[i][good_idx]) > np.log(estimated_list[i][j][good_idx])).mean())\n",
    "\n",
    "                count += 1\n",
    "    else:\n",
    "        return qs, good_idx, estimated_list, true_list"
   ]
  },
  {
   "cell_type": "markdown",
   "metadata": {},
   "source": [
    "### Concordance"
   ]
  },
  {
   "cell_type": "code",
   "execution_count": 35,
   "metadata": {},
   "outputs": [],
   "source": [
    "n_cells = 1000"
   ]
  },
  {
   "cell_type": "code",
   "execution_count": 49,
   "metadata": {},
   "outputs": [],
   "source": [
    "A = np.random.random((n_cells, z_param[0].shape[0]))\n",
    "cov = np.cov(A, rowvar=False)\n",
    "corr = corr*2\n",
    "corr[corr > 1] = 1"
   ]
  },
  {
   "cell_type": "code",
   "execution_count": 69,
   "metadata": {},
   "outputs": [],
   "source": [
    "true_data = memento.simulate.simulate_transcriptomes(n_cells=n_cells, means=z_param[0], variances=z_param[1], Nc=Nc, norm_cov=cov)\n",
    "true_data[true_data < 0] = 0"
   ]
  },
  {
   "cell_type": "code",
   "execution_count": 70,
   "metadata": {},
   "outputs": [],
   "source": [
    "# sc.AnnData(X=true_data, obs=pd.DataFrame(index=np.arange(10000)), var=pd.DataFrame(index=np.arange(true_data.shape[1])))\\\n",
    "#     .write('/data_volume/memento/simulation/estimation/estimation.h5ad')"
   ]
  },
  {
   "cell_type": "code",
   "execution_count": 71,
   "metadata": {},
   "outputs": [
    {
     "name": "stderr",
     "output_type": "stream",
     "text": [
      "/Users/mincheolkim/opt/miniconda3/envs/single_cell/lib/python3.7/site-packages/ipykernel_launcher.py:11: FutureWarning: X.dtype being converted to np.float32 from int64. In the next version of anndata (0.9) conversion will not be automatic. Pass dtype explicitly to avoid this warning. Pass `AnnData(X, dtype=X.dtype, ...)` to get the future behavour.\n",
      "  # This is added back by InteractiveShellApp.init_path()\n",
      "/Users/mincheolkim/opt/miniconda3/envs/single_cell/lib/python3.7/site-packages/numpy/lib/function_base.py:2642: RuntimeWarning: invalid value encountered in true_divide\n",
      "  c /= stddev[:, None]\n",
      "/Users/mincheolkim/opt/miniconda3/envs/single_cell/lib/python3.7/site-packages/numpy/lib/function_base.py:2643: RuntimeWarning: invalid value encountered in true_divide\n",
      "  c /= stddev[None, :]\n",
      "/Users/mincheolkim/opt/miniconda3/envs/single_cell/lib/python3.7/site-packages/ipykernel_launcher.py:19: RuntimeWarning: invalid value encountered in true_divide\n",
      "/Users/mincheolkim/opt/miniconda3/envs/single_cell/lib/python3.7/site-packages/ipykernel_launcher.py:23: RuntimeWarning: invalid value encountered in true_divide\n",
      "/Users/mincheolkim/opt/miniconda3/envs/single_cell/lib/python3.7/site-packages/ipykernel_launcher.py:25: RuntimeWarning: invalid value encountered in true_divide\n",
      "/Users/mincheolkim/opt/miniconda3/envs/single_cell/lib/python3.7/site-packages/ipykernel_launcher.py:27: RuntimeWarning: invalid value encountered in true_divide\n",
      "/Users/mincheolkim/opt/miniconda3/envs/single_cell/lib/python3.7/site-packages/ipykernel_launcher.py:11: RuntimeWarning: invalid value encountered in log\n",
      "  # This is added back by InteractiveShellApp.init_path()\n"
     ]
    }
   ],
   "source": [
    "def compute_mse(x, y, log=True):\n",
    "    \n",
    "    if log:\n",
    "        return np.nanmean(np.abs(np.log(x)-np.log(y)))\n",
    "    else:\n",
    "        return np.nanmean(np.abs(x-y))\n",
    "\n",
    "def concordance(x, y, log=True):\n",
    "    \n",
    "    if log:\n",
    "        a = np.log(x)\n",
    "        b = np.log(y)\n",
    "    else:\n",
    "        a = x\n",
    "        b = y\n",
    "    cond = np.isfinite(a) & np.isfinite(b)\n",
    "    a = a[cond]\n",
    "    b = b[cond]\n",
    "    cmat = np.cov(a, b)\n",
    "    return 2*cmat[0,1]/(cmat[0,0] + cmat[1,1] + (a.mean()-b.mean())**2)\n",
    "    \n",
    "m_mse_list, v_mse_list, c_mse_list = [], [], []\n",
    "# true_data = memento.simulate.simulate_transcriptomes(n_cells=10000, means=z_param[0], variances=z_param[1],\n",
    "#     Nc=Nc)\n",
    "q_list = [0.01, 0.025, 0.05, 0.1, 0.15, 0.2, 0.25, 0.35, 0.5]\n",
    "qs_list = []\n",
    "for q in q_list:\n",
    "    qs, good_idx, est, true = compare_esimators(q, plot=False, true_data=true_data)\n",
    "    qs_list.append(qs)\n",
    "    m_mse_list.append([concordance(x[good_idx], true[0][good_idx]) for x in est[0]])\n",
    "    v_mse_list.append([concordance(x[good_idx], true[1][good_idx])  for x in est[1]])\n",
    "    c_mse_list.append([concordance(x, true[2], log=False) for x in est[2]])\n",
    "    \n",
    "m_mse_list, v_mse_list, c_mse_list = np.array(m_mse_list), np.array(v_mse_list), np.array(c_mse_list)"
   ]
  },
  {
   "cell_type": "code",
   "execution_count": 72,
   "metadata": {},
   "outputs": [],
   "source": [
    "techs = {\n",
    "    '10x_v1':0.08/2,\n",
    "    '10x_v2':0.15/2,\n",
    "    '10x_v3':0.32/2,\n",
    "    'Smart-seq3':0.68/2\n",
    "}"
   ]
  },
  {
   "cell_type": "code",
   "execution_count": 73,
   "metadata": {},
   "outputs": [
    {
     "data": {
      "text/plain": [
       "(0.15, 1.05)"
      ]
     },
     "execution_count": 73,
     "metadata": {},
     "output_type": "execute_result"
    },
    {
     "data": {
      "image/png": "[encoded data removed]",
      "text/plain": [
       "<Figure size 576x144 with 3 Axes>"
      ]
     },
     "metadata": {
      "needs_background": "light"
     },
     "output_type": "display_data"
    }
   ],
   "source": [
    "import matplotlib.pylab as pylab\n",
    "params = {'legend.fontsize': 'small',\n",
    "         'axes.labelsize': 'medium',\n",
    "         'axes.titlesize':'medium',\n",
    "         'figure.titlesize':'medium',\n",
    "         'xtick.labelsize':'small',\n",
    "         'ytick.labelsize':'small'}\n",
    "pylab.rcParams.update(params)\n",
    "\n",
    "plt.figure(figsize=(8, 2))\n",
    "plt.subplots_adjust(wspace=0.5)\n",
    "\n",
    "plt.subplot(1, 3, 1)\n",
    "plt.plot(q_list[1:], m_mse_list[:, 0][1:], '-o')\n",
    "# plt.legend(['Naive,\\nPoisson,\\nHG'])\n",
    "plt.ylabel('CCC log(mean)')\n",
    "plt.xlabel('overall UMI efficiency (q)')\n",
    "plt.ylim(0.15, 1.05)\n",
    "\n",
    "start = 1\n",
    "plt.subplot(1, 3, 2)\n",
    "plt.plot(q_list[start:], v_mse_list[:, 0][start:], '-o')\n",
    "plt.plot(q_list[start:], v_mse_list[:, 1][start:], '-o')\n",
    "plt.plot(q_list[start:], v_mse_list[:, 2][start:], '-o')\n",
    "\n",
    "for tech, capture in techs.items():\n",
    "    plt.plot([capture, capture], [0.15, 1.05], '--', color='grey')\n",
    "\n",
    "plt.legend(['Naive', 'Poisson', 'HG'], ncol=3, loc='upper center', bbox_to_anchor=(-1,1.2), frameon=False)\n",
    "plt.ylabel('CCC log(variance)')\n",
    "plt.xlabel('overall UMI efficiency (q)')\n",
    "plt.ylim(0.15, 1.05)\n",
    "\n",
    "\n",
    "plt.subplot(1, 3, 3)\n",
    "plt.plot(q_list[start:], c_mse_list[:, 0][start:], '-o')\n",
    "plt.plot(q_list[start:], c_mse_list[:, 1][start:], '-o')\n",
    "plt.plot(q_list[start:], c_mse_list[:, 2][start:], '-o')\n",
    "# plt.legend(['Naive', 'Poisson', 'HG'])\n",
    "plt.ylabel('CCC correlation')\n",
    "plt.xlabel('overall UMI efficiency (q)')\n",
    "plt.ylim(0.15, 1.05)\n",
    "\n",
    "\n",
    "# plt.savefig('estimation_efficiencies.pdf', bbox_inches='tight')"
   ]
  },
  {
   "cell_type": "code",
   "execution_count": null,
   "metadata": {},
   "outputs": [],
   "source": []
  },
  {
   "cell_type": "code",
   "execution_count": null,
   "metadata": {},
   "outputs": [],
   "source": []
  },
  {
   "cell_type": "code",
   "execution_count": null,
   "metadata": {},
   "outputs": [],
   "source": []
  },
  {
   "cell_type": "code",
   "execution_count": null,
   "metadata": {},
   "outputs": [],
   "source": []
  },
  {
   "cell_type": "code",
   "execution_count": null,
   "metadata": {},
   "outputs": [],
   "source": []
  },
  {
   "cell_type": "code",
   "execution_count": null,
   "metadata": {},
   "outputs": [],
   "source": []
  },
  {
   "cell_type": "code",
   "execution_count": null,
   "metadata": {},
   "outputs": [],
   "source": []
  },
  {
   "cell_type": "code",
   "execution_count": null,
   "metadata": {},
   "outputs": [],
   "source": []
  },
  {
   "cell_type": "code",
   "execution_count": null,
   "metadata": {},
   "outputs": [],
   "source": []
  }
 ],
 "metadata": {
  "kernelspec": {
   "display_name": "Python 3 (ipykernel)",
   "language": "python",
   "name": "python3"
  },
  "language_info": {
   "codemirror_mode": {
    "name": "ipython",
    "version": 3
   },
   "file_extension": ".py",
   "mimetype": "text/x-python",
   "name": "python",
   "nbconvert_exporter": "python",
   "pygments_lexer": "ipython3",
   "version": "3.11.5"
  }
 },
 "nbformat": 4,
 "nbformat_minor": 4
}
