{
 "cells": [
  {
   "cell_type": "markdown",
   "id": "interesting-resistance",
   "metadata": {},
   "source": [
    "# BMDC 1D Analysis"
   ]
  },
  {
   "cell_type": "code",
   "execution_count": 1,
   "id": "handy-malta",
   "metadata": {},
   "outputs": [],
   "source": [
    "import scanpy as sc\n",
    "import seaborn as sns\n",
    "import pandas as pd\n",
    "import matplotlib.pyplot as plt\n",
    "import numpy as np\n",
    "import scipy.stats as stats\n",
    "import itertools\n",
    "from pybedtools import BedTool\n",
    "import pickle as pkl\n",
    "%matplotlib inline"
   ]
  },
  {
   "cell_type": "code",
   "execution_count": 2,
   "id": "behavioral-seeking",
   "metadata": {},
   "outputs": [],
   "source": [
    "pd.set_option('max_columns', None)"
   ]
  },
  {
   "cell_type": "code",
   "execution_count": 3,
   "id": "extraordinary-importance",
   "metadata": {},
   "outputs": [],
   "source": [
    "import sys\n",
    "sys.path.append('/home/ssm-user/Github/scrna-parameter-estimation/dist/memento-0.0.6-py3.8.egg')\n",
    "sys.path.append('/home/ssm-user/Github/misc-seq/miscseq/')\n",
    "import encode\n",
    "import memento"
   ]
  },
  {
   "cell_type": "code",
   "execution_count": 4,
   "id": "anonymous-cherry",
   "metadata": {},
   "outputs": [],
   "source": [
    "data_path = '/data_volume/memento/bmdc/'"
   ]
  },
  {
   "cell_type": "markdown",
   "id": "private-bible",
   "metadata": {},
   "source": [
    "### Read the guide labled perturb-seq data\n",
    "\n",
    "From perturbseq paper"
   ]
  },
  {
   "cell_type": "code",
   "execution_count": 5,
   "id": "becoming-configuration",
   "metadata": {},
   "outputs": [],
   "source": [
    "adata = sc.read(data_path + 'h5ad/filtered-bmdc.h5ad')"
   ]
  },
  {
   "cell_type": "code",
   "execution_count": 6,
   "id": "assured-friendship",
   "metadata": {},
   "outputs": [],
   "source": [
    "guides = []\n",
    "for s in adata.obs.guide_string:\n",
    "    guides += s.split('-')\n",
    "guides = list(set(guides))"
   ]
  },
  {
   "cell_type": "code",
   "execution_count": 7,
   "id": "neither-filing",
   "metadata": {},
   "outputs": [],
   "source": [
    "# guides = adata.obs.guides.drop_duplicates().tolist()\n",
    "# guides = [g for g in guides if ('INTER' not in g and 'nan' not in g)]\n",
    "# ko_genes = adata.obs.query('KO == 1')['KO_GENE'].drop_duplicates().tolist()"
   ]
  },
  {
   "cell_type": "markdown",
   "id": "monthly-water",
   "metadata": {},
   "source": [
    "### Setup memento"
   ]
  },
  {
   "cell_type": "code",
   "execution_count": 8,
   "id": "voluntary-cornwall",
   "metadata": {},
   "outputs": [],
   "source": [
    "adata.obs['q'] = 0.07"
   ]
  },
  {
   "cell_type": "code",
   "execution_count": 9,
   "id": "aging-booth",
   "metadata": {},
   "outputs": [
    {
     "name": "stdout",
     "output_type": "stream",
     "text": [
      "Version 0.0.6\n"
     ]
    },
    {
     "name": "stderr",
     "output_type": "stream",
     "text": [
      "/home/ssm-user/Github/scrna-parameter-estimation/dist/memento-0.0.6-py3.8.egg/memento/main.py:70: RankWarning: Polyfit may be poorly conditioned\n"
     ]
    }
   ],
   "source": [
    "memento.setup_memento(adata, q_column='q', filter_mean_thresh=0.07)"
   ]
  },
  {
   "cell_type": "markdown",
   "id": "integrated-provincial",
   "metadata": {},
   "source": [
    "### Memento"
   ]
  },
  {
   "cell_type": "code",
   "execution_count": 11,
   "id": "employed-clothing",
   "metadata": {},
   "outputs": [
    {
     "data": {
      "text/html": [
       "<div>\n",
       "<style scoped>\n",
       "    .dataframe tbody tr th:only-of-type {\n",
       "        vertical-align: middle;\n",
       "    }\n",
       "\n",
       "    .dataframe tbody tr th {\n",
       "        vertical-align: top;\n",
       "    }\n",
       "\n",
       "    .dataframe thead th {\n",
       "        text-align: right;\n",
       "    }\n",
       "</style>\n",
       "<table border=\"1\" class=\"dataframe\">\n",
       "  <thead>\n",
       "    <tr style=\"text-align: right;\">\n",
       "      <th></th>\n",
       "      <th>guide</th>\n",
       "      <th>guide_string</th>\n",
       "      <th>tp</th>\n",
       "      <th>batch</th>\n",
       "      <th>WT</th>\n",
       "      <th>KO</th>\n",
       "      <th>n_counts</th>\n",
       "      <th>n_genes</th>\n",
       "      <th>n_genes_by_counts</th>\n",
       "      <th>total_counts</th>\n",
       "      <th>total_counts_mt</th>\n",
       "      <th>pct_counts_mt</th>\n",
       "      <th>leiden</th>\n",
       "      <th>q</th>\n",
       "      <th>memento_size_factor</th>\n",
       "    </tr>\n",
       "    <tr>\n",
       "      <th>cell</th>\n",
       "      <th></th>\n",
       "      <th></th>\n",
       "      <th></th>\n",
       "      <th></th>\n",
       "      <th></th>\n",
       "      <th></th>\n",
       "      <th></th>\n",
       "      <th></th>\n",
       "      <th></th>\n",
       "      <th></th>\n",
       "      <th></th>\n",
       "      <th></th>\n",
       "      <th></th>\n",
       "      <th></th>\n",
       "      <th></th>\n",
       "    </tr>\n",
       "  </thead>\n",
       "  <tbody>\n",
       "    <tr>\n",
       "      <th>AAACATACACCAAC_dc0h_G9-0</th>\n",
       "      <td>['m_Stat3_3']</td>\n",
       "      <td>m_Stat3_3</td>\n",
       "      <td>0hr</td>\n",
       "      <td>0</td>\n",
       "      <td>False</td>\n",
       "      <td>1</td>\n",
       "      <td>834.0</td>\n",
       "      <td>429</td>\n",
       "      <td>429</td>\n",
       "      <td>834.0</td>\n",
       "      <td>3.0</td>\n",
       "      <td>0.359712</td>\n",
       "      <td>0</td>\n",
       "      <td>0.07</td>\n",
       "      <td>0.601173</td>\n",
       "    </tr>\n",
       "    <tr>\n",
       "      <th>AAACATACACCCTC_dc0h_H9-0</th>\n",
       "      <td>['m_Stat2_2', 'm_Nfkb1_2']</td>\n",
       "      <td>m_Stat2_2-m_Nfkb1_2</td>\n",
       "      <td>0hr</td>\n",
       "      <td>0</td>\n",
       "      <td>False</td>\n",
       "      <td>1</td>\n",
       "      <td>4584.0</td>\n",
       "      <td>1798</td>\n",
       "      <td>1798</td>\n",
       "      <td>4584.0</td>\n",
       "      <td>47.0</td>\n",
       "      <td>1.025305</td>\n",
       "      <td>0</td>\n",
       "      <td>0.07</td>\n",
       "      <td>0.992489</td>\n",
       "    </tr>\n",
       "    <tr>\n",
       "      <th>AAACATACAGGGTG_dc0h_G9-0</th>\n",
       "      <td>['m_Irf1_1']</td>\n",
       "      <td>m_Irf1_1</td>\n",
       "      <td>0hr</td>\n",
       "      <td>0</td>\n",
       "      <td>False</td>\n",
       "      <td>1</td>\n",
       "      <td>1045.0</td>\n",
       "      <td>481</td>\n",
       "      <td>481</td>\n",
       "      <td>1045.0</td>\n",
       "      <td>7.0</td>\n",
       "      <td>0.669856</td>\n",
       "      <td>0</td>\n",
       "      <td>0.07</td>\n",
       "      <td>0.576144</td>\n",
       "    </tr>\n",
       "    <tr>\n",
       "      <th>AAACATACATCAGC_dc0h_H8-0</th>\n",
       "      <td>['m_Nfkb1_3', 'm_Nfkb1_2']</td>\n",
       "      <td>m_Nfkb1_3-m_Nfkb1_2</td>\n",
       "      <td>0hr</td>\n",
       "      <td>0</td>\n",
       "      <td>False</td>\n",
       "      <td>1</td>\n",
       "      <td>2277.0</td>\n",
       "      <td>1125</td>\n",
       "      <td>1125</td>\n",
       "      <td>2277.0</td>\n",
       "      <td>15.0</td>\n",
       "      <td>0.658762</td>\n",
       "      <td>0</td>\n",
       "      <td>0.07</td>\n",
       "      <td>0.757603</td>\n",
       "    </tr>\n",
       "    <tr>\n",
       "      <th>AAACATACCCATGA_dc0h_G9-0</th>\n",
       "      <td>['m_Nfkb1_4']</td>\n",
       "      <td>m_Nfkb1_4</td>\n",
       "      <td>0hr</td>\n",
       "      <td>0</td>\n",
       "      <td>False</td>\n",
       "      <td>1</td>\n",
       "      <td>2249.0</td>\n",
       "      <td>1108</td>\n",
       "      <td>1108</td>\n",
       "      <td>2249.0</td>\n",
       "      <td>10.0</td>\n",
       "      <td>0.444642</td>\n",
       "      <td>0</td>\n",
       "      <td>0.07</td>\n",
       "      <td>0.767229</td>\n",
       "    </tr>\n",
       "  </tbody>\n",
       "</table>\n",
       "</div>"
      ],
      "text/plain": [
       "                                               guide         guide_string  \\\n",
       "cell                                                                        \n",
       "AAACATACACCAAC_dc0h_G9-0               ['m_Stat3_3']            m_Stat3_3   \n",
       "AAACATACACCCTC_dc0h_H9-0  ['m_Stat2_2', 'm_Nfkb1_2']  m_Stat2_2-m_Nfkb1_2   \n",
       "AAACATACAGGGTG_dc0h_G9-0                ['m_Irf1_1']             m_Irf1_1   \n",
       "AAACATACATCAGC_dc0h_H8-0  ['m_Nfkb1_3', 'm_Nfkb1_2']  m_Nfkb1_3-m_Nfkb1_2   \n",
       "AAACATACCCATGA_dc0h_G9-0               ['m_Nfkb1_4']            m_Nfkb1_4   \n",
       "\n",
       "                           tp batch     WT  KO  n_counts  n_genes  \\\n",
       "cell                                                                \n",
       "AAACATACACCAAC_dc0h_G9-0  0hr     0  False   1     834.0      429   \n",
       "AAACATACACCCTC_dc0h_H9-0  0hr     0  False   1    4584.0     1798   \n",
       "AAACATACAGGGTG_dc0h_G9-0  0hr     0  False   1    1045.0      481   \n",
       "AAACATACATCAGC_dc0h_H8-0  0hr     0  False   1    2277.0     1125   \n",
       "AAACATACCCATGA_dc0h_G9-0  0hr     0  False   1    2249.0     1108   \n",
       "\n",
       "                          n_genes_by_counts  total_counts  total_counts_mt  \\\n",
       "cell                                                                         \n",
       "AAACATACACCAAC_dc0h_G9-0                429         834.0              3.0   \n",
       "AAACATACACCCTC_dc0h_H9-0               1798        4584.0             47.0   \n",
       "AAACATACAGGGTG_dc0h_G9-0                481        1045.0              7.0   \n",
       "AAACATACATCAGC_dc0h_H8-0               1125        2277.0             15.0   \n",
       "AAACATACCCATGA_dc0h_G9-0               1108        2249.0             10.0   \n",
       "\n",
       "                          pct_counts_mt leiden     q  memento_size_factor  \n",
       "cell                                                                       \n",
       "AAACATACACCAAC_dc0h_G9-0       0.359712      0  0.07             0.601173  \n",
       "AAACATACACCCTC_dc0h_H9-0       1.025305      0  0.07             0.992489  \n",
       "AAACATACAGGGTG_dc0h_G9-0       0.669856      0  0.07             0.576144  \n",
       "AAACATACATCAGC_dc0h_H8-0       0.658762      0  0.07             0.757603  \n",
       "AAACATACCCATGA_dc0h_G9-0       0.444642      0  0.07             0.767229  "
      ]
     },
     "execution_count": 11,
     "metadata": {},
     "output_type": "execute_result"
    }
   ],
   "source": [
    "adata.obs.head(5)"
   ]
  },
  {
   "cell_type": "code",
   "execution_count": 16,
   "id": "narrow-cleaner",
   "metadata": {},
   "outputs": [
    {
     "data": {
      "text/plain": [
       "False    47171\n",
       "True      1134\n",
       "Name: WT, dtype: int64"
      ]
     },
     "execution_count": 16,
     "metadata": {},
     "output_type": "execute_result"
    }
   ],
   "source": [
    "adata.obs.WT.value_counts()"
   ]
  },
  {
   "cell_type": "code",
   "execution_count": 18,
   "id": "interested-asian",
   "metadata": {},
   "outputs": [
    {
     "data": {
      "text/plain": [
       "(675, 0)"
      ]
     },
     "execution_count": 18,
     "metadata": {},
     "output_type": "execute_result"
    }
   ],
   "source": [
    "subset.shape"
   ]
  },
  {
   "cell_type": "code",
   "execution_count": null,
   "id": "ready-implementation",
   "metadata": {},
   "outputs": [],
   "source": [
    "adata"
   ]
  },
  {
   "cell_type": "code",
   "execution_count": 21,
   "id": "still-trail",
   "metadata": {},
   "outputs": [
    {
     "data": {
      "text/plain": [
       "243.43994"
      ]
     },
     "execution_count": 21,
     "metadata": {},
     "output_type": "execute_result"
    }
   ],
   "source": [
    "subset.X.mean(axis=0).max()"
   ]
  },
  {
   "cell_type": "code",
   "execution_count": 40,
   "id": "excessive-maine",
   "metadata": {},
   "outputs": [
    {
     "data": {
      "text/plain": [
       "0    5625\n",
       "2     275\n",
       "1      30\n",
       "Name: leiden, dtype: int64"
      ]
     },
     "execution_count": 40,
     "metadata": {},
     "output_type": "execute_result"
    }
   ],
   "source": [
    "subset.obs.leiden.value_counts()"
   ]
  },
  {
   "cell_type": "code",
   "execution_count": 61,
   "id": "sacred-album",
   "metadata": {},
   "outputs": [
    {
     "data": {
      "text/plain": [
       "AnnData object with n_obs × n_vars = 48305 × 16564\n",
       "    obs: 'guide', 'guide_string', 'tp', 'batch', 'WT', 'KO', 'n_counts', 'n_genes', 'n_genes_by_counts', 'total_counts', 'total_counts_mt', 'pct_counts_mt', 'leiden', 'q', 'memento_size_factor'\n",
       "    var: 'gene_id-0', 'gene_id-1'\n",
       "    uns: 'memento'"
      ]
     },
     "execution_count": 61,
     "metadata": {},
     "output_type": "execute_result"
    }
   ],
   "source": [
    "adata"
   ]
  },
  {
   "cell_type": "code",
   "execution_count": 62,
   "id": "enormous-chile",
   "metadata": {},
   "outputs": [
    {
     "name": "stdout",
     "output_type": "stream",
     "text": [
      "m_Ahr_3\n"
     ]
    },
    {
     "name": "stderr",
     "output_type": "stream",
     "text": [
      "/home/ssm-user/anaconda3/envs/single_cell/lib/python3.8/site-packages/pandas/core/arrays/categorical.py:2487: FutureWarning: The `inplace` parameter in pandas.Categorical.remove_unused_categories is deprecated and will be removed in a future version.\n",
      "  res = method(*args, **kwargs)\n",
      "[Parallel(n_jobs=14)]: Using backend LokyBackend with 14 concurrent workers.\n",
      "[Parallel(n_jobs=14)]: Done  22 tasks      | elapsed:    0.7s\n",
      "[Parallel(n_jobs=14)]: Done 172 tasks      | elapsed:    5.0s\n",
      "[Parallel(n_jobs=14)]: Done 422 tasks      | elapsed:   11.6s\n",
      "[Parallel(n_jobs=14)]: Done 772 tasks      | elapsed:   22.1s\n",
      "[Parallel(n_jobs=14)]: Done 1222 tasks      | elapsed:   36.2s\n",
      "[Parallel(n_jobs=14)]: Done 1772 tasks      | elapsed:   52.8s\n",
      "[Parallel(n_jobs=14)]: Done 2422 tasks      | elapsed:  1.2min\n",
      "[Parallel(n_jobs=14)]: Done 3172 tasks      | elapsed:  1.6min\n",
      "[Parallel(n_jobs=14)]: Done 4022 tasks      | elapsed:  2.0min\n",
      "[Parallel(n_jobs=14)]: Done 4441 out of 4441 | elapsed:  2.4min finished\n"
     ]
    }
   ],
   "source": [
    "for g in guides:\n",
    "    \n",
    "    print(g)\n",
    "    g= 'Stat1'\n",
    "    \n",
    "    subset = adata[\n",
    "        adata.obs.tp.isin(['0hr'])\n",
    "        ].copy().copy()\n",
    "    \n",
    "    subset.obs['is_ko'] = subset.obs.guide_string.str.contains(g).values\n",
    "    \n",
    "    memento.create_groups(subset, label_columns=['is_ko', 'leiden'])\n",
    "    \n",
    "    memento.compute_1d_moments(subset, min_perc_group=.5)\n",
    "    \n",
    "    memento.ht_1d_moments(\n",
    "        subset, \n",
    "        formula_like='1 + is_ko + leiden',\n",
    "        treatment_col='is_ko', \n",
    "        num_boot=5000, \n",
    "        verbose=1,\n",
    "        resampling='permutation',\n",
    "        approx=True,\n",
    "        num_cpus=14)\n",
    "    \n",
    "    break\n",
    "    \n",
    "#     subset.write(data_path + '2d_self_h5ad/{}.h5ad'.format(g))"
   ]
  },
  {
   "cell_type": "code",
   "execution_count": 63,
   "id": "color-rescue",
   "metadata": {},
   "outputs": [
    {
     "data": {
      "text/plain": [
       "AnnData object with n_obs × n_vars = 24217 × 4441\n",
       "    obs: 'guide', 'guide_string', 'tp', 'batch', 'WT', 'KO', 'n_counts', 'n_genes', 'n_genes_by_counts', 'total_counts', 'total_counts_mt', 'pct_counts_mt', 'leiden', 'q', 'memento_size_factor', 'is_ko', 'memento_group'\n",
       "    var: 'gene_id-0', 'gene_id-1'\n",
       "    uns: 'memento'"
      ]
     },
     "execution_count": 63,
     "metadata": {},
     "output_type": "execute_result"
    }
   ],
   "source": [
    "subset"
   ]
  },
  {
   "cell_type": "code",
   "execution_count": 64,
   "id": "automotive-desert",
   "metadata": {},
   "outputs": [],
   "source": [
    "df = memento.get_1d_ht_result(subset)"
   ]
  },
  {
   "cell_type": "code",
   "execution_count": 65,
   "id": "abstract-laugh",
   "metadata": {},
   "outputs": [],
   "source": [
    "df['de_fdr'] = memento.util._fdrcorrect(df['de_pval'])\n",
    "df['dv_fdr'] = memento.util._fdrcorrect(df['dv_pval'])"
   ]
  },
  {
   "cell_type": "code",
   "execution_count": 66,
   "id": "necessary-frequency",
   "metadata": {},
   "outputs": [
    {
     "data": {
      "text/html": [
       "<div>\n",
       "<style scoped>\n",
       "    .dataframe tbody tr th:only-of-type {\n",
       "        vertical-align: middle;\n",
       "    }\n",
       "\n",
       "    .dataframe tbody tr th {\n",
       "        vertical-align: top;\n",
       "    }\n",
       "\n",
       "    .dataframe thead th {\n",
       "        text-align: right;\n",
       "    }\n",
       "</style>\n",
       "<table border=\"1\" class=\"dataframe\">\n",
       "  <thead>\n",
       "    <tr style=\"text-align: right;\">\n",
       "      <th></th>\n",
       "      <th>gene</th>\n",
       "      <th>de_coef</th>\n",
       "      <th>de_se</th>\n",
       "      <th>de_pval</th>\n",
       "      <th>dv_coef</th>\n",
       "      <th>dv_se</th>\n",
       "      <th>dv_pval</th>\n",
       "      <th>de_fdr</th>\n",
       "      <th>dv_fdr</th>\n",
       "    </tr>\n",
       "  </thead>\n",
       "  <tbody>\n",
       "  </tbody>\n",
       "</table>\n",
       "</div>"
      ],
      "text/plain": [
       "Empty DataFrame\n",
       "Columns: [gene, de_coef, de_se, de_pval, dv_coef, dv_se, dv_pval, de_fdr, dv_fdr]\n",
       "Index: []"
      ]
     },
     "execution_count": 66,
     "metadata": {},
     "output_type": "execute_result"
    }
   ],
   "source": [
    "df.query('de_fdr < 0.1')"
   ]
  },
  {
   "cell_type": "code",
   "execution_count": 70,
   "id": "imposed-rebecca",
   "metadata": {},
   "outputs": [
    {
     "name": "stderr",
     "output_type": "stream",
     "text": [
      "/home/ssm-user/anaconda3/envs/single_cell/lib/python3.8/site-packages/seaborn/distributions.py:2557: FutureWarning: `distplot` is a deprecated function and will be removed in a future version. Please adapt your code to use either `displot` (a figure-level function with similar flexibility) or `histplot` (an axes-level function for histograms).\n",
      "  warnings.warn(msg, FutureWarning)\n"
     ]
    },
    {
     "data": {
      "text/plain": [
       "<AxesSubplot:xlabel='de_coef', ylabel='Density'>"
      ]
     },
     "execution_count": 70,
     "metadata": {},
     "output_type": "execute_result"
    },
    {
     "data": {
      "image/png": "[encoded data removed]",
      "text/plain": [
       "<Figure size 432x288 with 1 Axes>"
      ]
     },
     "metadata": {
      "needs_background": "light"
     },
     "output_type": "display_data"
    }
   ],
   "source": [
    "sns.distplot(df['de_coef'])"
   ]
  },
  {
   "cell_type": "code",
   "execution_count": 71,
   "id": "combined-choice",
   "metadata": {},
   "outputs": [
    {
     "data": {
      "text/plain": [
       "0.00027310807688639584"
      ]
     },
     "execution_count": 71,
     "metadata": {},
     "output_type": "execute_result"
    }
   ],
   "source": [
    "df['dv_pval'].min()"
   ]
  },
  {
   "cell_type": "code",
   "execution_count": 79,
   "id": "correct-neighbor",
   "metadata": {},
   "outputs": [],
   "source": [
    "filtered_df = df.query('dv_coef > 0.6 | dv_coef < -0.6').copy()\n",
    "filtered_df['de_fdr'] = memento.util._fdrcorrect(filtered_df['de_pval'])\n",
    "filtered_df['dv_fdr'] = memento.util._fdrcorrect(filtered_df['dv_pval'])"
   ]
  },
  {
   "cell_type": "code",
   "execution_count": 80,
   "id": "neural-damages",
   "metadata": {},
   "outputs": [
    {
     "data": {
      "text/html": [
       "<div>\n",
       "<style scoped>\n",
       "    .dataframe tbody tr th:only-of-type {\n",
       "        vertical-align: middle;\n",
       "    }\n",
       "\n",
       "    .dataframe tbody tr th {\n",
       "        vertical-align: top;\n",
       "    }\n",
       "\n",
       "    .dataframe thead th {\n",
       "        text-align: right;\n",
       "    }\n",
       "</style>\n",
       "<table border=\"1\" class=\"dataframe\">\n",
       "  <thead>\n",
       "    <tr style=\"text-align: right;\">\n",
       "      <th></th>\n",
       "      <th>gene</th>\n",
       "      <th>de_coef</th>\n",
       "      <th>de_se</th>\n",
       "      <th>de_pval</th>\n",
       "      <th>dv_coef</th>\n",
       "      <th>dv_se</th>\n",
       "      <th>dv_pval</th>\n",
       "      <th>de_fdr</th>\n",
       "      <th>dv_fdr</th>\n",
       "    </tr>\n",
       "  </thead>\n",
       "  <tbody>\n",
       "    <tr>\n",
       "      <th>2590</th>\n",
       "      <td>Appl1</td>\n",
       "      <td>-0.189303</td>\n",
       "      <td>0.062989</td>\n",
       "      <td>0.002653</td>\n",
       "      <td>-1.045370</td>\n",
       "      <td>0.893075</td>\n",
       "      <td>0.241789</td>\n",
       "      <td>0.570382</td>\n",
       "      <td>0.267774</td>\n",
       "    </tr>\n",
       "    <tr>\n",
       "      <th>2637</th>\n",
       "      <td>Ngdn</td>\n",
       "      <td>0.066474</td>\n",
       "      <td>0.038300</td>\n",
       "      <td>0.082629</td>\n",
       "      <td>-0.619962</td>\n",
       "      <td>0.197640</td>\n",
       "      <td>0.001708</td>\n",
       "      <td>0.683281</td>\n",
       "      <td>0.082191</td>\n",
       "    </tr>\n",
       "    <tr>\n",
       "      <th>1008</th>\n",
       "      <td>Zdhhc21</td>\n",
       "      <td>0.098259</td>\n",
       "      <td>0.052358</td>\n",
       "      <td>0.060562</td>\n",
       "      <td>0.642448</td>\n",
       "      <td>0.372952</td>\n",
       "      <td>0.084961</td>\n",
       "      <td>0.683281</td>\n",
       "      <td>0.161127</td>\n",
       "    </tr>\n",
       "    <tr>\n",
       "      <th>3867</th>\n",
       "      <td>Gm5483</td>\n",
       "      <td>-0.191321</td>\n",
       "      <td>0.097545</td>\n",
       "      <td>0.049838</td>\n",
       "      <td>-1.226904</td>\n",
       "      <td>0.870802</td>\n",
       "      <td>0.158854</td>\n",
       "      <td>0.683281</td>\n",
       "      <td>0.201676</td>\n",
       "    </tr>\n",
       "    <tr>\n",
       "      <th>3749</th>\n",
       "      <td>Twf1</td>\n",
       "      <td>-0.067900</td>\n",
       "      <td>0.039066</td>\n",
       "      <td>0.082196</td>\n",
       "      <td>0.784043</td>\n",
       "      <td>0.227191</td>\n",
       "      <td>0.000558</td>\n",
       "      <td>0.683281</td>\n",
       "      <td>0.082191</td>\n",
       "    </tr>\n",
       "    <tr>\n",
       "      <th>...</th>\n",
       "      <td>...</td>\n",
       "      <td>...</td>\n",
       "      <td>...</td>\n",
       "      <td>...</td>\n",
       "      <td>...</td>\n",
       "      <td>...</td>\n",
       "      <td>...</td>\n",
       "      <td>...</td>\n",
       "      <td>...</td>\n",
       "    </tr>\n",
       "    <tr>\n",
       "      <th>3738</th>\n",
       "      <td>Atxn10</td>\n",
       "      <td>-0.001235</td>\n",
       "      <td>0.042985</td>\n",
       "      <td>0.977087</td>\n",
       "      <td>0.636208</td>\n",
       "      <td>0.307657</td>\n",
       "      <td>0.038648</td>\n",
       "      <td>0.984020</td>\n",
       "      <td>0.147004</td>\n",
       "    </tr>\n",
       "    <tr>\n",
       "      <th>2713</th>\n",
       "      <td>4931406C07Rik</td>\n",
       "      <td>-0.001389</td>\n",
       "      <td>0.053892</td>\n",
       "      <td>0.979443</td>\n",
       "      <td>0.796920</td>\n",
       "      <td>0.569918</td>\n",
       "      <td>0.162021</td>\n",
       "      <td>0.984020</td>\n",
       "      <td>0.202527</td>\n",
       "    </tr>\n",
       "    <tr>\n",
       "      <th>2904</th>\n",
       "      <td>Ndufaf3</td>\n",
       "      <td>0.002372</td>\n",
       "      <td>0.044915</td>\n",
       "      <td>0.957888</td>\n",
       "      <td>0.718853</td>\n",
       "      <td>0.393524</td>\n",
       "      <td>0.067744</td>\n",
       "      <td>0.984020</td>\n",
       "      <td>0.150387</td>\n",
       "    </tr>\n",
       "    <tr>\n",
       "      <th>261</th>\n",
       "      <td>Phyh</td>\n",
       "      <td>0.002676</td>\n",
       "      <td>0.060083</td>\n",
       "      <td>0.964480</td>\n",
       "      <td>0.724015</td>\n",
       "      <td>0.511069</td>\n",
       "      <td>0.156580</td>\n",
       "      <td>0.984020</td>\n",
       "      <td>0.201586</td>\n",
       "    </tr>\n",
       "    <tr>\n",
       "      <th>2154</th>\n",
       "      <td>Ascc1</td>\n",
       "      <td>0.000530</td>\n",
       "      <td>0.060044</td>\n",
       "      <td>0.992961</td>\n",
       "      <td>0.697538</td>\n",
       "      <td>0.350908</td>\n",
       "      <td>0.046833</td>\n",
       "      <td>0.992961</td>\n",
       "      <td>0.149340</td>\n",
       "    </tr>\n",
       "  </tbody>\n",
       "</table>\n",
       "<p>215 rows × 9 columns</p>\n",
       "</div>"
      ],
      "text/plain": [
       "               gene   de_coef     de_se   de_pval   dv_coef     dv_se  \\\n",
       "2590          Appl1 -0.189303  0.062989  0.002653 -1.045370  0.893075   \n",
       "2637           Ngdn  0.066474  0.038300  0.082629 -0.619962  0.197640   \n",
       "1008        Zdhhc21  0.098259  0.052358  0.060562  0.642448  0.372952   \n",
       "3867         Gm5483 -0.191321  0.097545  0.049838 -1.226904  0.870802   \n",
       "3749           Twf1 -0.067900  0.039066  0.082196  0.784043  0.227191   \n",
       "...             ...       ...       ...       ...       ...       ...   \n",
       "3738         Atxn10 -0.001235  0.042985  0.977087  0.636208  0.307657   \n",
       "2713  4931406C07Rik -0.001389  0.053892  0.979443  0.796920  0.569918   \n",
       "2904        Ndufaf3  0.002372  0.044915  0.957888  0.718853  0.393524   \n",
       "261            Phyh  0.002676  0.060083  0.964480  0.724015  0.511069   \n",
       "2154          Ascc1  0.000530  0.060044  0.992961  0.697538  0.350908   \n",
       "\n",
       "       dv_pval    de_fdr    dv_fdr  \n",
       "2590  0.241789  0.570382  0.267774  \n",
       "2637  0.001708  0.683281  0.082191  \n",
       "1008  0.084961  0.683281  0.161127  \n",
       "3867  0.158854  0.683281  0.201676  \n",
       "3749  0.000558  0.683281  0.082191  \n",
       "...        ...       ...       ...  \n",
       "3738  0.038648  0.984020  0.147004  \n",
       "2713  0.162021  0.984020  0.202527  \n",
       "2904  0.067744  0.984020  0.150387  \n",
       "261   0.156580  0.984020  0.201586  \n",
       "2154  0.046833  0.992961  0.149340  \n",
       "\n",
       "[215 rows x 9 columns]"
      ]
     },
     "execution_count": 80,
     "metadata": {},
     "output_type": "execute_result"
    }
   ],
   "source": [
    "filtered_df.sort_values('de_fdr')"
   ]
  },
  {
   "cell_type": "code",
   "execution_count": 72,
   "id": "competitive-outline",
   "metadata": {},
   "outputs": [
    {
     "data": {
      "text/html": [
       "<div>\n",
       "<style scoped>\n",
       "    .dataframe tbody tr th:only-of-type {\n",
       "        vertical-align: middle;\n",
       "    }\n",
       "\n",
       "    .dataframe tbody tr th {\n",
       "        vertical-align: top;\n",
       "    }\n",
       "\n",
       "    .dataframe thead th {\n",
       "        text-align: right;\n",
       "    }\n",
       "</style>\n",
       "<table border=\"1\" class=\"dataframe\">\n",
       "  <thead>\n",
       "    <tr style=\"text-align: right;\">\n",
       "      <th></th>\n",
       "      <th>gene</th>\n",
       "      <th>de_coef</th>\n",
       "      <th>de_se</th>\n",
       "      <th>de_pval</th>\n",
       "      <th>dv_coef</th>\n",
       "      <th>dv_se</th>\n",
       "      <th>dv_pval</th>\n",
       "      <th>de_fdr</th>\n",
       "      <th>dv_fdr</th>\n",
       "    </tr>\n",
       "  </thead>\n",
       "  <tbody>\n",
       "    <tr>\n",
       "      <th>3617</th>\n",
       "      <td>Dab2</td>\n",
       "      <td>-0.009180</td>\n",
       "      <td>0.030172</td>\n",
       "      <td>0.760938</td>\n",
       "      <td>-0.560985</td>\n",
       "      <td>0.154136</td>\n",
       "      <td>0.000273</td>\n",
       "      <td>0.982760</td>\n",
       "      <td>0.797630</td>\n",
       "    </tr>\n",
       "    <tr>\n",
       "      <th>3749</th>\n",
       "      <td>Twf1</td>\n",
       "      <td>-0.067900</td>\n",
       "      <td>0.039066</td>\n",
       "      <td>0.082196</td>\n",
       "      <td>0.784043</td>\n",
       "      <td>0.227191</td>\n",
       "      <td>0.000558</td>\n",
       "      <td>0.862292</td>\n",
       "      <td>0.797630</td>\n",
       "    </tr>\n",
       "    <tr>\n",
       "      <th>3618</th>\n",
       "      <td>Fyb</td>\n",
       "      <td>0.003404</td>\n",
       "      <td>0.032799</td>\n",
       "      <td>0.917338</td>\n",
       "      <td>0.430096</td>\n",
       "      <td>0.132779</td>\n",
       "      <td>0.001199</td>\n",
       "      <td>0.988550</td>\n",
       "      <td>0.797630</td>\n",
       "    </tr>\n",
       "    <tr>\n",
       "      <th>803</th>\n",
       "      <td>Ubap2l</td>\n",
       "      <td>0.032034</td>\n",
       "      <td>0.027460</td>\n",
       "      <td>0.243391</td>\n",
       "      <td>0.798079</td>\n",
       "      <td>0.248173</td>\n",
       "      <td>0.001301</td>\n",
       "      <td>0.907900</td>\n",
       "      <td>0.797630</td>\n",
       "    </tr>\n",
       "    <tr>\n",
       "      <th>820</th>\n",
       "      <td>S100a11</td>\n",
       "      <td>0.016178</td>\n",
       "      <td>0.012787</td>\n",
       "      <td>0.205789</td>\n",
       "      <td>0.135432</td>\n",
       "      <td>0.042790</td>\n",
       "      <td>0.001551</td>\n",
       "      <td>0.907900</td>\n",
       "      <td>0.797630</td>\n",
       "    </tr>\n",
       "    <tr>\n",
       "      <th>...</th>\n",
       "      <td>...</td>\n",
       "      <td>...</td>\n",
       "      <td>...</td>\n",
       "      <td>...</td>\n",
       "      <td>...</td>\n",
       "      <td>...</td>\n",
       "      <td>...</td>\n",
       "      <td>...</td>\n",
       "      <td>...</td>\n",
       "    </tr>\n",
       "    <tr>\n",
       "      <th>3528</th>\n",
       "      <td>Arf6</td>\n",
       "      <td>-0.033421</td>\n",
       "      <td>0.026366</td>\n",
       "      <td>0.204944</td>\n",
       "      <td>0.000226</td>\n",
       "      <td>0.147194</td>\n",
       "      <td>0.998776</td>\n",
       "      <td>0.907900</td>\n",
       "      <td>0.999479</td>\n",
       "    </tr>\n",
       "    <tr>\n",
       "      <th>2287</th>\n",
       "      <td>Tmbim4</td>\n",
       "      <td>0.013307</td>\n",
       "      <td>0.026034</td>\n",
       "      <td>0.609262</td>\n",
       "      <td>0.000183</td>\n",
       "      <td>0.141843</td>\n",
       "      <td>0.998969</td>\n",
       "      <td>0.966870</td>\n",
       "      <td>0.999479</td>\n",
       "    </tr>\n",
       "    <tr>\n",
       "      <th>370</th>\n",
       "      <td>Gca</td>\n",
       "      <td>0.150333</td>\n",
       "      <td>0.149174</td>\n",
       "      <td>0.313564</td>\n",
       "      <td>-0.000617</td>\n",
       "      <td>0.517727</td>\n",
       "      <td>0.999049</td>\n",
       "      <td>0.911683</td>\n",
       "      <td>0.999479</td>\n",
       "    </tr>\n",
       "    <tr>\n",
       "      <th>87</th>\n",
       "      <td>Wdfy1</td>\n",
       "      <td>-0.145767</td>\n",
       "      <td>0.048090</td>\n",
       "      <td>0.002436</td>\n",
       "      <td>-0.000196</td>\n",
       "      <td>0.209772</td>\n",
       "      <td>0.999254</td>\n",
       "      <td>0.654695</td>\n",
       "      <td>0.999479</td>\n",
       "    </tr>\n",
       "    <tr>\n",
       "      <th>2717</th>\n",
       "      <td>Zfp560</td>\n",
       "      <td>-0.056149</td>\n",
       "      <td>0.049354</td>\n",
       "      <td>0.255254</td>\n",
       "      <td>0.000146</td>\n",
       "      <td>0.359784</td>\n",
       "      <td>0.999676</td>\n",
       "      <td>0.907900</td>\n",
       "      <td>0.999676</td>\n",
       "    </tr>\n",
       "  </tbody>\n",
       "</table>\n",
       "<p>4441 rows × 9 columns</p>\n",
       "</div>"
      ],
      "text/plain": [
       "         gene   de_coef     de_se   de_pval   dv_coef     dv_se   dv_pval  \\\n",
       "3617     Dab2 -0.009180  0.030172  0.760938 -0.560985  0.154136  0.000273   \n",
       "3749     Twf1 -0.067900  0.039066  0.082196  0.784043  0.227191  0.000558   \n",
       "3618      Fyb  0.003404  0.032799  0.917338  0.430096  0.132779  0.001199   \n",
       "803    Ubap2l  0.032034  0.027460  0.243391  0.798079  0.248173  0.001301   \n",
       "820   S100a11  0.016178  0.012787  0.205789  0.135432  0.042790  0.001551   \n",
       "...       ...       ...       ...       ...       ...       ...       ...   \n",
       "3528     Arf6 -0.033421  0.026366  0.204944  0.000226  0.147194  0.998776   \n",
       "2287   Tmbim4  0.013307  0.026034  0.609262  0.000183  0.141843  0.998969   \n",
       "370       Gca  0.150333  0.149174  0.313564 -0.000617  0.517727  0.999049   \n",
       "87      Wdfy1 -0.145767  0.048090  0.002436 -0.000196  0.209772  0.999254   \n",
       "2717   Zfp560 -0.056149  0.049354  0.255254  0.000146  0.359784  0.999676   \n",
       "\n",
       "        de_fdr    dv_fdr  \n",
       "3617  0.982760  0.797630  \n",
       "3749  0.862292  0.797630  \n",
       "3618  0.988550  0.797630  \n",
       "803   0.907900  0.797630  \n",
       "820   0.907900  0.797630  \n",
       "...        ...       ...  \n",
       "3528  0.907900  0.999479  \n",
       "2287  0.966870  0.999479  \n",
       "370   0.911683  0.999479  \n",
       "87    0.654695  0.999479  \n",
       "2717  0.907900  0.999676  \n",
       "\n",
       "[4441 rows x 9 columns]"
      ]
     },
     "execution_count": 72,
     "metadata": {},
     "output_type": "execute_result"
    }
   ],
   "source": [
    "df.sort_values('dv_pval')"
   ]
  },
  {
   "cell_type": "code",
   "execution_count": 69,
   "id": "criminal-suspect",
   "metadata": {},
   "outputs": [
    {
     "data": {
      "text/plain": [
       "(array([511., 503., 498., 436., 449., 420., 400., 459., 361., 404.]),\n",
       " array([2.73108077e-04, 1.00213367e-01, 2.00153626e-01, 3.00093885e-01,\n",
       "        4.00034145e-01, 4.99974404e-01, 5.99914663e-01, 6.99854922e-01,\n",
       "        7.99795181e-01, 8.99735440e-01, 9.99675699e-01]),\n",
       " <BarContainer object of 10 artists>)"
      ]
     },
     "execution_count": 69,
     "metadata": {},
     "output_type": "execute_result"
    },
    {
     "data": {
      "image/png": "[encoded data removed]",
      "text/plain": [
       "<Figure size 432x288 with 1 Axes>"
      ]
     },
     "metadata": {
      "needs_background": "light"
     },
     "output_type": "display_data"
    }
   ],
   "source": [
    "plt.hist(df['dv_pval'])"
   ]
  },
  {
   "cell_type": "code",
   "execution_count": null,
   "id": "incredible-shell",
   "metadata": {},
   "outputs": [],
   "source": []
  }
 ],
 "metadata": {
  "kernelspec": {
   "display_name": "Python 3",
   "language": "python",
   "name": "python3"
  },
  "language_info": {
   "codemirror_mode": {
    "name": "ipython",
    "version": 3
   },
   "file_extension": ".py",
   "mimetype": "text/x-python",
   "name": "python",
   "nbconvert_exporter": "python",
   "pygments_lexer": "ipython3",
   "version": "3.8.8"
  }
 },
 "nbformat": 4,
 "nbformat_minor": 5
}
