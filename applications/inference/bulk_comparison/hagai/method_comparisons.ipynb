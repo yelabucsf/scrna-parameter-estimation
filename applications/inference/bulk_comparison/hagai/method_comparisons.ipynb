{
 "cells": [
  {
   "cell_type": "markdown",
   "id": "fba17c8b-8a53-47d7-85b0-e64e9aa539c0",
   "metadata": {},
   "source": [
    "# Compare methods using Hagai data"
   ]
  },
  {
   "cell_type": "code",
   "execution_count": 45,
   "id": "fdce8f3d-8921-4bae-875e-082a047f07a8",
   "metadata": {
    "tags": []
   },
   "outputs": [
    {
     "name": "stdout",
     "output_type": "stream",
     "text": [
      "The autoreload extension is already loaded. To reload it, use:\n",
      "  %reload_ext autoreload\n"
     ]
    }
   ],
   "source": [
    "%load_ext autoreload"
   ]
  },
  {
   "cell_type": "code",
   "execution_count": 46,
   "id": "82ae1c0a-70d3-441d-8cbf-d35edbfc9d53",
   "metadata": {
    "tags": []
   },
   "outputs": [],
   "source": [
    "%autoreload 2\n"
   ]
  },
  {
   "cell_type": "code",
   "execution_count": 64,
   "id": "393a9dde-7e6f-4d49-9fbf-66e7684724cf",
   "metadata": {
    "tags": []
   },
   "outputs": [],
   "source": [
    "import pandas as pd\n",
    "import matplotlib.pyplot as plt\n",
    "import seaborn as sns\n",
    "import scipy.stats as stats\n",
    "import functools\n",
    "import numpy as np\n",
    "import logging\n",
    "import scanpy as sc\n",
    "import pickle as pkl\n",
    "import statsmodels.api as sm\n",
    "from joblib import Parallel, delayed\n",
    "from functools import partial\n",
    "import sklearn.linear_model as lm\n",
    "\n",
    "pd.set_option('display.max_rows', 100)"
   ]
  },
  {
   "cell_type": "code",
   "execution_count": 65,
   "id": "767b6f6e-cc37-45c7-8868-08f6bf8afa7b",
   "metadata": {
    "tags": []
   },
   "outputs": [],
   "source": [
    "data_path = '/data_volume/bulkrna/hagai/'"
   ]
  },
  {
   "cell_type": "code",
   "execution_count": 66,
   "id": "811b4d06-0897-496b-b136-ad32032d469c",
   "metadata": {
    "tags": []
   },
   "outputs": [],
   "source": [
    "import matplotlib as mpl\n",
    "mpl.rcParams['pdf.fonttype'] = 42\n",
    "mpl.rcParams['ps.fonttype'] = 42\n",
    "# plt.rcParams[\"axes.prop_cycle\"] = plt.cycler(\"color\", ['turquoise', 'slategrey', 'silver'])\n",
    "\n",
    "import matplotlib.pylab as pylab\n",
    "params = {'legend.fontsize': 'medium',\n",
    "         'axes.labelsize': 'medium',\n",
    "         'axes.titlesize':'medium',\n",
    "         'figure.titlesize':'medium',\n",
    "         'xtick.labelsize':'medium',\n",
    "         'ytick.labelsize':'medium'}\n",
    "pylab.rcParams.update(params)"
   ]
  },
  {
   "cell_type": "markdown",
   "id": "7595f77d-c30f-4b30-9d47-ef27b38d9c88",
   "metadata": {},
   "source": [
    "### Functions for replication rate and false positive rate"
   ]
  },
  {
   "cell_type": "code",
   "execution_count": 78,
   "id": "b3d865b7-ed15-4557-aff5-f5c2bcdba26a",
   "metadata": {
    "tags": []
   },
   "outputs": [],
   "source": [
    "datasets = [\n",
    "    'Hagai2018_mouse-lps',\n",
    "    'Hagai2018_mouse-pic',\n",
    "    'Hagai2018_pig-lps',\n",
    "    'Hagai2018_rabbit-lps',\n",
    "    'Hagai2018_rat-lps',\n",
    "    'Hagai2018_rat-pic',\n",
    "]\n",
    "\n",
    "bulk_methods = [\n",
    "    ('deseq2_lrt',['log2FoldChange', 'pvalue', 'padj']),\n",
    "    ('deseq2_wald',['log2FoldChange', 'pvalue', 'padj']),\n",
    "    ('edger_lrt',['logFC', 'PValue', 'FDR']),\n",
    "    ('edger_qlft',['logFC', 'PValue', 'FDR']),\n",
    "]\n",
    "\n",
    "sc_methods = [ \n",
    "    # ('quasiML',['coef', 'pval', 'fdr']),\n",
    "    ('quasiGLM',['coef', 'pval', 'fdr']),\n",
    "    ('edger_lrt',['logFC', 'PValue', 'FDR']),\n",
    "    ('edger_qlft',['logFC', 'PValue', 'FDR']),\n",
    "    ('deseq2_wald',['log2FoldChange', 'pvalue', 'padj']),\n",
    "    ('deseq2_lrt',['log2FoldChange', 'pvalue', 'padj']),\n",
    "\n",
    "    # ('MAST', ['coef', 'Pr(>Chisq)','fdr']),\n",
    "    ('t',['coef', 'pval', 'fdr']),\n",
    "    ('MWU',['coef', 'pval', 'fdr']),\n",
    "]"
   ]
  },
  {
   "cell_type": "code",
   "execution_count": 90,
   "id": "83e839c2-76b5-45f3-b744-d607579fe602",
   "metadata": {
    "tags": []
   },
   "outputs": [
    {
     "name": "stdout",
     "output_type": "stream",
     "text": [
      "Hagai2018_mouse-lps\n",
      "Hagai2018_mouse-pic\n",
      "Hagai2018_pig-lps\n",
      "Hagai2018_rabbit-lps\n",
      "Hagai2018_rat-lps\n",
      "Hagai2018_rat-pic\n"
     ]
    }
   ],
   "source": [
    "def read_bulk_dataset(dataset, method, cols):\n",
    "    \n",
    "    df = pd.read_csv(data_path + 'bulk_rnaseq/results/{}_{}.csv'.format(dataset, method), index_col=0)[cols]\n",
    "    df.columns = ['coef','pval', 'fdr']\n",
    "    # df.index = df['gene']\n",
    "    return df\n",
    "\n",
    "def read_sc_dataset(dataset, method, cols):\n",
    "    \n",
    "    df = pd.read_csv(data_path +  'sc_rnaseq/results/{}_{}.csv'.format(dataset, method), index_col=0)[cols]\n",
    "    df.columns = ['coef','pval', 'fdr']\n",
    "    \n",
    "    # if method == 'memento':\n",
    "    #     df['fdr'] = -df['coef'].abs()\n",
    "    # # df.index = df['gene']\n",
    "    return df\n",
    "\n",
    "def read_sampled_dataset(dataset, method, cols):\n",
    "    \n",
    "    df = pd.read_csv(data_path +  'sc_rnaseq/results/{}_100_{}.csv'.format(dataset, method), index_col=0)[cols]\n",
    "    df.columns = ['coef','pval', 'fdr']\n",
    "    # df.index = df['gene']\n",
    "    return df\n",
    "\n",
    "def concordance_auc(refs, x, k=5):\n",
    "    count = 0\n",
    "    for i in range(1, k+1):\n",
    "        \n",
    "        ref_total = 0\n",
    "        for ref in refs:\n",
    "            ref_total += len(set(x[:i]) & set(ref[:i]))\n",
    "            \n",
    "        count += ref_total/len(refs)\n",
    "        \n",
    "    return count / (k*(k+1)/2)\n",
    "\n",
    "all_results = []\n",
    "small_results = []\n",
    "for dataset in datasets:\n",
    "    \n",
    "    print(dataset)\n",
    "    condition = dataset.split('-')[-1] + '4'\n",
    "    \n",
    "    dispersion = pd.read_csv(data_path + f'sc_rnaseq/results/{dataset}_dispersions.csv', index_col=0)\n",
    "    dispersion = dispersion.set_index('gene')\n",
    "    \n",
    "    bulk_results = [read_bulk_dataset(dataset, method, cols) for method, cols in bulk_methods]\n",
    "    sc_results = [read_sc_dataset(dataset, method, cols) for method, cols in sc_methods]\n",
    "    sampled_results = [read_sampled_dataset(dataset, method, cols) for method, cols in sc_methods]\n",
    "\n",
    "    gene_list = [set(res.index) for res in sc_results] + [set(res.index) for res in bulk_results] + [set(res.index) for res in sampled_results]\n",
    "    genes = list(functools.reduce(lambda x,y: x & y, gene_list))\n",
    "\n",
    "    bulk_results = [res.loc[genes].sort_values('fdr') for res in bulk_results]\n",
    "    sc_results = [res.loc[genes].sort_values('fdr') for res in sc_results]\n",
    "    sampled_results = [res.loc[genes].sort_values('fdr') for res in sampled_results]\n",
    "\n",
    "\n",
    "    scores = [(sc_methods[idx][0], dataset, concordance_auc([b_res.index for b_res in bulk_results], res.index, k=100)) for idx, res in enumerate(sc_results)]\n",
    "    # sampled_scores = [(sc_methods[idx][0], dataset, concordance_auc([b_res.index for b_res in bulk_results], res.index, k=100)) for idx, res in enumerate(sampled_results)]\n",
    "    all_results+=scores\n",
    "    # small_results += sampled_scores\n",
    "    \n",
    "    \n",
    "    # print(dispersion.mean())\n",
    "    "
   ]
  },
  {
   "cell_type": "code",
   "execution_count": 91,
   "id": "142ca2ab-6233-4ccb-95ba-7dd4297a070c",
   "metadata": {
    "tags": []
   },
   "outputs": [],
   "source": [
    "df = pd.DataFrame(all_results, columns=['name', 'dataset', 'auc'])\n",
    "# small_df = pd.DataFrame(small_results, columns=['name', 'dataset', 'auc'])"
   ]
  },
  {
   "cell_type": "code",
   "execution_count": 92,
   "id": "4fabcba7",
   "metadata": {
    "tags": []
   },
   "outputs": [
    {
     "data": {
      "text/html": [
       "<div>\n",
       "<style scoped>\n",
       "    .dataframe tbody tr th:only-of-type {\n",
       "        vertical-align: middle;\n",
       "    }\n",
       "\n",
       "    .dataframe tbody tr th {\n",
       "        vertical-align: top;\n",
       "    }\n",
       "\n",
       "    .dataframe thead th {\n",
       "        text-align: right;\n",
       "    }\n",
       "</style>\n",
       "<table border=\"1\" class=\"dataframe\">\n",
       "  <thead>\n",
       "    <tr style=\"text-align: right;\">\n",
       "      <th></th>\n",
       "      <th>name</th>\n",
       "      <th>dataset</th>\n",
       "      <th>auc</th>\n",
       "    </tr>\n",
       "  </thead>\n",
       "  <tbody>\n",
       "    <tr>\n",
       "      <th>0</th>\n",
       "      <td>quasiGLM</td>\n",
       "      <td>Hagai2018_mouse-lps</td>\n",
       "      <td>0.494950</td>\n",
       "    </tr>\n",
       "    <tr>\n",
       "      <th>1</th>\n",
       "      <td>edger_lrt</td>\n",
       "      <td>Hagai2018_mouse-lps</td>\n",
       "      <td>0.579703</td>\n",
       "    </tr>\n",
       "    <tr>\n",
       "      <th>2</th>\n",
       "      <td>edger_qlft</td>\n",
       "      <td>Hagai2018_mouse-lps</td>\n",
       "      <td>0.533713</td>\n",
       "    </tr>\n",
       "    <tr>\n",
       "      <th>3</th>\n",
       "      <td>deseq2_wald</td>\n",
       "      <td>Hagai2018_mouse-lps</td>\n",
       "      <td>0.582228</td>\n",
       "    </tr>\n",
       "    <tr>\n",
       "      <th>4</th>\n",
       "      <td>deseq2_lrt</td>\n",
       "      <td>Hagai2018_mouse-lps</td>\n",
       "      <td>0.562970</td>\n",
       "    </tr>\n",
       "    <tr>\n",
       "      <th>5</th>\n",
       "      <td>t</td>\n",
       "      <td>Hagai2018_mouse-lps</td>\n",
       "      <td>0.118515</td>\n",
       "    </tr>\n",
       "    <tr>\n",
       "      <th>6</th>\n",
       "      <td>MWU</td>\n",
       "      <td>Hagai2018_mouse-lps</td>\n",
       "      <td>0.135644</td>\n",
       "    </tr>\n",
       "    <tr>\n",
       "      <th>7</th>\n",
       "      <td>quasiGLM</td>\n",
       "      <td>Hagai2018_mouse-pic</td>\n",
       "      <td>0.296436</td>\n",
       "    </tr>\n",
       "    <tr>\n",
       "      <th>8</th>\n",
       "      <td>edger_lrt</td>\n",
       "      <td>Hagai2018_mouse-pic</td>\n",
       "      <td>0.381139</td>\n",
       "    </tr>\n",
       "    <tr>\n",
       "      <th>9</th>\n",
       "      <td>edger_qlft</td>\n",
       "      <td>Hagai2018_mouse-pic</td>\n",
       "      <td>0.025495</td>\n",
       "    </tr>\n",
       "    <tr>\n",
       "      <th>10</th>\n",
       "      <td>deseq2_wald</td>\n",
       "      <td>Hagai2018_mouse-pic</td>\n",
       "      <td>0.401139</td>\n",
       "    </tr>\n",
       "    <tr>\n",
       "      <th>11</th>\n",
       "      <td>deseq2_lrt</td>\n",
       "      <td>Hagai2018_mouse-pic</td>\n",
       "      <td>0.400495</td>\n",
       "    </tr>\n",
       "    <tr>\n",
       "      <th>12</th>\n",
       "      <td>t</td>\n",
       "      <td>Hagai2018_mouse-pic</td>\n",
       "      <td>0.235594</td>\n",
       "    </tr>\n",
       "    <tr>\n",
       "      <th>13</th>\n",
       "      <td>MWU</td>\n",
       "      <td>Hagai2018_mouse-pic</td>\n",
       "      <td>0.278861</td>\n",
       "    </tr>\n",
       "    <tr>\n",
       "      <th>14</th>\n",
       "      <td>quasiGLM</td>\n",
       "      <td>Hagai2018_pig-lps</td>\n",
       "      <td>0.349554</td>\n",
       "    </tr>\n",
       "    <tr>\n",
       "      <th>15</th>\n",
       "      <td>edger_lrt</td>\n",
       "      <td>Hagai2018_pig-lps</td>\n",
       "      <td>0.346782</td>\n",
       "    </tr>\n",
       "    <tr>\n",
       "      <th>16</th>\n",
       "      <td>edger_qlft</td>\n",
       "      <td>Hagai2018_pig-lps</td>\n",
       "      <td>0.346436</td>\n",
       "    </tr>\n",
       "    <tr>\n",
       "      <th>17</th>\n",
       "      <td>deseq2_wald</td>\n",
       "      <td>Hagai2018_pig-lps</td>\n",
       "      <td>0.379752</td>\n",
       "    </tr>\n",
       "    <tr>\n",
       "      <th>18</th>\n",
       "      <td>deseq2_lrt</td>\n",
       "      <td>Hagai2018_pig-lps</td>\n",
       "      <td>0.378069</td>\n",
       "    </tr>\n",
       "    <tr>\n",
       "      <th>19</th>\n",
       "      <td>t</td>\n",
       "      <td>Hagai2018_pig-lps</td>\n",
       "      <td>0.308465</td>\n",
       "    </tr>\n",
       "    <tr>\n",
       "      <th>20</th>\n",
       "      <td>MWU</td>\n",
       "      <td>Hagai2018_pig-lps</td>\n",
       "      <td>0.265941</td>\n",
       "    </tr>\n",
       "    <tr>\n",
       "      <th>21</th>\n",
       "      <td>quasiGLM</td>\n",
       "      <td>Hagai2018_rabbit-lps</td>\n",
       "      <td>0.442921</td>\n",
       "    </tr>\n",
       "    <tr>\n",
       "      <th>22</th>\n",
       "      <td>edger_lrt</td>\n",
       "      <td>Hagai2018_rabbit-lps</td>\n",
       "      <td>0.325495</td>\n",
       "    </tr>\n",
       "    <tr>\n",
       "      <th>23</th>\n",
       "      <td>edger_qlft</td>\n",
       "      <td>Hagai2018_rabbit-lps</td>\n",
       "      <td>0.316881</td>\n",
       "    </tr>\n",
       "    <tr>\n",
       "      <th>24</th>\n",
       "      <td>deseq2_wald</td>\n",
       "      <td>Hagai2018_rabbit-lps</td>\n",
       "      <td>0.332822</td>\n",
       "    </tr>\n",
       "    <tr>\n",
       "      <th>25</th>\n",
       "      <td>deseq2_lrt</td>\n",
       "      <td>Hagai2018_rabbit-lps</td>\n",
       "      <td>0.329208</td>\n",
       "    </tr>\n",
       "    <tr>\n",
       "      <th>26</th>\n",
       "      <td>t</td>\n",
       "      <td>Hagai2018_rabbit-lps</td>\n",
       "      <td>0.256584</td>\n",
       "    </tr>\n",
       "    <tr>\n",
       "      <th>27</th>\n",
       "      <td>MWU</td>\n",
       "      <td>Hagai2018_rabbit-lps</td>\n",
       "      <td>0.265792</td>\n",
       "    </tr>\n",
       "    <tr>\n",
       "      <th>28</th>\n",
       "      <td>quasiGLM</td>\n",
       "      <td>Hagai2018_rat-lps</td>\n",
       "      <td>0.394257</td>\n",
       "    </tr>\n",
       "    <tr>\n",
       "      <th>29</th>\n",
       "      <td>edger_lrt</td>\n",
       "      <td>Hagai2018_rat-lps</td>\n",
       "      <td>0.567129</td>\n",
       "    </tr>\n",
       "    <tr>\n",
       "      <th>30</th>\n",
       "      <td>edger_qlft</td>\n",
       "      <td>Hagai2018_rat-lps</td>\n",
       "      <td>0.543960</td>\n",
       "    </tr>\n",
       "    <tr>\n",
       "      <th>31</th>\n",
       "      <td>deseq2_wald</td>\n",
       "      <td>Hagai2018_rat-lps</td>\n",
       "      <td>0.524653</td>\n",
       "    </tr>\n",
       "    <tr>\n",
       "      <th>32</th>\n",
       "      <td>deseq2_lrt</td>\n",
       "      <td>Hagai2018_rat-lps</td>\n",
       "      <td>0.514950</td>\n",
       "    </tr>\n",
       "    <tr>\n",
       "      <th>33</th>\n",
       "      <td>t</td>\n",
       "      <td>Hagai2018_rat-lps</td>\n",
       "      <td>0.124752</td>\n",
       "    </tr>\n",
       "    <tr>\n",
       "      <th>34</th>\n",
       "      <td>MWU</td>\n",
       "      <td>Hagai2018_rat-lps</td>\n",
       "      <td>0.117822</td>\n",
       "    </tr>\n",
       "    <tr>\n",
       "      <th>35</th>\n",
       "      <td>quasiGLM</td>\n",
       "      <td>Hagai2018_rat-pic</td>\n",
       "      <td>0.308663</td>\n",
       "    </tr>\n",
       "    <tr>\n",
       "      <th>36</th>\n",
       "      <td>edger_lrt</td>\n",
       "      <td>Hagai2018_rat-pic</td>\n",
       "      <td>0.357822</td>\n",
       "    </tr>\n",
       "    <tr>\n",
       "      <th>37</th>\n",
       "      <td>edger_qlft</td>\n",
       "      <td>Hagai2018_rat-pic</td>\n",
       "      <td>0.361337</td>\n",
       "    </tr>\n",
       "    <tr>\n",
       "      <th>38</th>\n",
       "      <td>deseq2_wald</td>\n",
       "      <td>Hagai2018_rat-pic</td>\n",
       "      <td>0.306535</td>\n",
       "    </tr>\n",
       "    <tr>\n",
       "      <th>39</th>\n",
       "      <td>deseq2_lrt</td>\n",
       "      <td>Hagai2018_rat-pic</td>\n",
       "      <td>0.287228</td>\n",
       "    </tr>\n",
       "    <tr>\n",
       "      <th>40</th>\n",
       "      <td>t</td>\n",
       "      <td>Hagai2018_rat-pic</td>\n",
       "      <td>0.327376</td>\n",
       "    </tr>\n",
       "    <tr>\n",
       "      <th>41</th>\n",
       "      <td>MWU</td>\n",
       "      <td>Hagai2018_rat-pic</td>\n",
       "      <td>0.311337</td>\n",
       "    </tr>\n",
       "  </tbody>\n",
       "</table>\n",
       "</div>"
      ],
      "text/plain": [
       "           name               dataset       auc\n",
       "0      quasiGLM   Hagai2018_mouse-lps  0.494950\n",
       "1     edger_lrt   Hagai2018_mouse-lps  0.579703\n",
       "2    edger_qlft   Hagai2018_mouse-lps  0.533713\n",
       "3   deseq2_wald   Hagai2018_mouse-lps  0.582228\n",
       "4    deseq2_lrt   Hagai2018_mouse-lps  0.562970\n",
       "5             t   Hagai2018_mouse-lps  0.118515\n",
       "6           MWU   Hagai2018_mouse-lps  0.135644\n",
       "7      quasiGLM   Hagai2018_mouse-pic  0.296436\n",
       "8     edger_lrt   Hagai2018_mouse-pic  0.381139\n",
       "9    edger_qlft   Hagai2018_mouse-pic  0.025495\n",
       "10  deseq2_wald   Hagai2018_mouse-pic  0.401139\n",
       "11   deseq2_lrt   Hagai2018_mouse-pic  0.400495\n",
       "12            t   Hagai2018_mouse-pic  0.235594\n",
       "13          MWU   Hagai2018_mouse-pic  0.278861\n",
       "14     quasiGLM     Hagai2018_pig-lps  0.349554\n",
       "15    edger_lrt     Hagai2018_pig-lps  0.346782\n",
       "16   edger_qlft     Hagai2018_pig-lps  0.346436\n",
       "17  deseq2_wald     Hagai2018_pig-lps  0.379752\n",
       "18   deseq2_lrt     Hagai2018_pig-lps  0.378069\n",
       "19            t     Hagai2018_pig-lps  0.308465\n",
       "20          MWU     Hagai2018_pig-lps  0.265941\n",
       "21     quasiGLM  Hagai2018_rabbit-lps  0.442921\n",
       "22    edger_lrt  Hagai2018_rabbit-lps  0.325495\n",
       "23   edger_qlft  Hagai2018_rabbit-lps  0.316881\n",
       "24  deseq2_wald  Hagai2018_rabbit-lps  0.332822\n",
       "25   deseq2_lrt  Hagai2018_rabbit-lps  0.329208\n",
       "26            t  Hagai2018_rabbit-lps  0.256584\n",
       "27          MWU  Hagai2018_rabbit-lps  0.265792\n",
       "28     quasiGLM     Hagai2018_rat-lps  0.394257\n",
       "29    edger_lrt     Hagai2018_rat-lps  0.567129\n",
       "30   edger_qlft     Hagai2018_rat-lps  0.543960\n",
       "31  deseq2_wald     Hagai2018_rat-lps  0.524653\n",
       "32   deseq2_lrt     Hagai2018_rat-lps  0.514950\n",
       "33            t     Hagai2018_rat-lps  0.124752\n",
       "34          MWU     Hagai2018_rat-lps  0.117822\n",
       "35     quasiGLM     Hagai2018_rat-pic  0.308663\n",
       "36    edger_lrt     Hagai2018_rat-pic  0.357822\n",
       "37   edger_qlft     Hagai2018_rat-pic  0.361337\n",
       "38  deseq2_wald     Hagai2018_rat-pic  0.306535\n",
       "39   deseq2_lrt     Hagai2018_rat-pic  0.287228\n",
       "40            t     Hagai2018_rat-pic  0.327376\n",
       "41          MWU     Hagai2018_rat-pic  0.311337"
      ]
     },
     "execution_count": 92,
     "metadata": {},
     "output_type": "execute_result"
    }
   ],
   "source": [
    "df"
   ]
  },
  {
   "cell_type": "code",
   "execution_count": 93,
   "id": "13de261f-ca9e-490a-8952-22c5d21cc262",
   "metadata": {
    "tags": []
   },
   "outputs": [
    {
     "data": {
      "text/plain": [
       "<Axes: xlabel='auc', ylabel='name'>"
      ]
     },
     "execution_count": 93,
     "metadata": {},
     "output_type": "execute_result"
    },
    {
     "data": {
      "image/png": "[encoded data removed]",
      "text/plain": [
       "<Figure size 640x480 with 1 Axes>"
      ]
     },
     "metadata": {},
     "output_type": "display_data"
    }
   ],
   "source": [
    "sns.boxplot(y='name', x='auc', data=df)\n"
   ]
  },
  {
   "cell_type": "code",
   "execution_count": 94,
   "id": "e8c579be-7536-4c68-b89f-241ddec43829",
   "metadata": {
    "tags": []
   },
   "outputs": [],
   "source": [
    "df_cano = pd.read_csv('cano.csv')\n",
    "# small_df_cano = pd.read_csv('../canogamez/small_cano.csv')"
   ]
  },
  {
   "cell_type": "code",
   "execution_count": 95,
   "id": "bd65dbcf-f96f-4b10-8e9a-2d2674b3c0c9",
   "metadata": {
    "tags": []
   },
   "outputs": [],
   "source": [
    "combined = pd.concat([df, df_cano]).replace('quasiGLM', 'memento')\n",
    "# small_combined = pd.concat([small_df, small_df_cano]).replace('quasiGLM', 'memento')\n",
    "\n",
    "# combined['cell count'] = 'all'\n",
    "# small_combined['cell count']= '100'"
   ]
  },
  {
   "cell_type": "code",
   "execution_count": 96,
   "id": "73c5cba3-1d0d-4ffa-88e6-fa2cff9755c5",
   "metadata": {
    "tags": []
   },
   "outputs": [],
   "source": [
    "# merged = pd.concat([combined, small_combined])"
   ]
  },
  {
   "cell_type": "code",
   "execution_count": 97,
   "id": "27e874ae-4ea0-473a-a567-697ea275fcbb",
   "metadata": {
    "tags": []
   },
   "outputs": [],
   "source": [
    "# plt.figure(figsize=(3, 4))\n",
    "# sns.boxplot(y='name', x='auc', hue='cell count', data=merged)\n",
    "# # sns.stripplot(y='name', x='auc', hue='cell count', data=merged, color='grey')\n",
    "# plt.title('Bulk RNA-seq comparison')"
   ]
  },
  {
   "cell_type": "code",
   "execution_count": 98,
   "id": "2f9bc09e-eea3-4ed5-9686-78044eec6ed3",
   "metadata": {
    "tags": []
   },
   "outputs": [
    {
     "name": "stderr",
     "output_type": "stream",
     "text": [
      "2025-01-03 00:28:42 234489  WARNING  /tmp/ipykernel_234489/2277811074.py:12: FutureWarning: \n",
      "\n",
      "Passing `palette` without assigning `hue` is deprecated and will be removed in v0.14.0. Assign the `y` variable to `hue` and set `legend=False` for the same effect.\n",
      "\n",
      "  sns.boxplot(y='name', x='auc', data=combined, palette=my_pal)\n",
      "\n"
     ]
    },
    {
     "data": {
      "text/plain": [
       "Text(0.5, 1.0, 'Squair et al. comparisons')"
      ]
     },
     "execution_count": 98,
     "metadata": {},
     "output_type": "execute_result"
    },
    {
     "data": {
      "image/png": "[encoded data removed]",
      "text/plain": [
       "<Figure size 200x200 with 1 Axes>"
      ]
     },
     "metadata": {},
     "output_type": "display_data"
    }
   ],
   "source": [
    "plt.figure(figsize=(2, 2))\n",
    "my_pal = {\n",
    "    \"memento\": \"cyan\", \n",
    "    \"quasiML\": 'red',\n",
    "    \"edger_lrt\": \"pink\", \n",
    "    \"edger_qlft\":\"pink\",\n",
    "    \"deseq2_wald\":\"pink\",\n",
    "    \"deseq2_lrt\":\"pink\",\n",
    "    \"t\":\"cyan\",\n",
    "    \"MWU\":\"cyan\"\n",
    "}\n",
    "sns.boxplot(y='name', x='auc', data=combined, palette=my_pal)\n",
    "sns.stripplot(y='name', x='auc', data=combined, color='grey')\n",
    "plt.title('Squair et al. comparisons')\n",
    "# plt.savefig('squair_comparison.pdf', bbox_inches='tight')"
   ]
  },
  {
   "cell_type": "code",
   "execution_count": 99,
   "id": "d4c367df-0744-4e9f-b9ff-8297d833c03d",
   "metadata": {
    "tags": []
   },
   "outputs": [
    {
     "ename": "NameError",
     "evalue": "name 'small_combined' is not defined",
     "output_type": "error",
     "traceback": [
      "\u001b[0;31m---------------------------------------------------------------------------\u001b[0m",
      "\u001b[0;31mNameError\u001b[0m                                 Traceback (most recent call last)",
      "Cell \u001b[0;32mIn[99], line 3\u001b[0m\n\u001b[1;32m      1\u001b[0m plt\u001b[38;5;241m.\u001b[39mfigure(figsize\u001b[38;5;241m=\u001b[39m(\u001b[38;5;241m3\u001b[39m, \u001b[38;5;241m2\u001b[39m))\n\u001b[0;32m----> 3\u001b[0m sns\u001b[38;5;241m.\u001b[39mboxplot(y\u001b[38;5;241m=\u001b[39m\u001b[38;5;124m'\u001b[39m\u001b[38;5;124mname\u001b[39m\u001b[38;5;124m'\u001b[39m, x\u001b[38;5;241m=\u001b[39m\u001b[38;5;124m'\u001b[39m\u001b[38;5;124mauc\u001b[39m\u001b[38;5;124m'\u001b[39m, data\u001b[38;5;241m=\u001b[39m\u001b[43msmall_combined\u001b[49m)\n\u001b[1;32m      4\u001b[0m sns\u001b[38;5;241m.\u001b[39mstripplot(y\u001b[38;5;241m=\u001b[39m\u001b[38;5;124m'\u001b[39m\u001b[38;5;124mname\u001b[39m\u001b[38;5;124m'\u001b[39m, x\u001b[38;5;241m=\u001b[39m\u001b[38;5;124m'\u001b[39m\u001b[38;5;124mauc\u001b[39m\u001b[38;5;124m'\u001b[39m, data\u001b[38;5;241m=\u001b[39msmall_combined, color\u001b[38;5;241m=\u001b[39m\u001b[38;5;124m'\u001b[39m\u001b[38;5;124mgrey\u001b[39m\u001b[38;5;124m'\u001b[39m)\n\u001b[1;32m      5\u001b[0m plt\u001b[38;5;241m.\u001b[39mtitle(\u001b[38;5;124m'\u001b[39m\u001b[38;5;124mBulk RNA-seq comparison using 100 cells\u001b[39m\u001b[38;5;124m'\u001b[39m)\n",
      "\u001b[0;31mNameError\u001b[0m: name 'small_combined' is not defined"
     ]
    },
    {
     "data": {
      "text/plain": [
       "<Figure size 300x200 with 0 Axes>"
      ]
     },
     "metadata": {},
     "output_type": "display_data"
    }
   ],
   "source": [
    "plt.figure(figsize=(3, 2))\n",
    "\n",
    "sns.boxplot(y='name', x='auc', data=small_combined)\n",
    "sns.stripplot(y='name', x='auc', data=small_combined, color='grey')\n",
    "plt.title('Bulk RNA-seq comparison using 100 cells')"
   ]
  },
  {
   "cell_type": "code",
   "execution_count": null,
   "id": "6aad081e-cde8-4e31-ba2b-ec2c6e1fba34",
   "metadata": {},
   "outputs": [],
   "source": []
  },
  {
   "cell_type": "code",
   "execution_count": null,
   "id": "3fbf98d4-9207-4c1b-9bd4-05909ae4a413",
   "metadata": {},
   "outputs": [],
   "source": []
  },
  {
   "cell_type": "code",
   "execution_count": null,
   "id": "cc65b673-5b2e-461e-96f5-5e9ad787993d",
   "metadata": {},
   "outputs": [],
   "source": []
  },
  {
   "cell_type": "code",
   "execution_count": null,
   "id": "762325cf-32e6-476a-a7ea-94015f246977",
   "metadata": {},
   "outputs": [],
   "source": []
  },
  {
   "cell_type": "markdown",
   "id": "6bbbae95-da8c-4d4a-a0f9-8fd2c3663b1c",
   "metadata": {},
   "source": [
    "# Scratch"
   ]
  },
  {
   "cell_type": "code",
   "execution_count": 56,
   "id": "9515f569-e469-46b8-813e-2bdad5f0599c",
   "metadata": {
    "tags": []
   },
   "outputs": [],
   "source": [
    "import pandas as pd\n",
    "import matplotlib.pyplot as plt\n",
    "import seaborn as sns\n",
    "import functools\n",
    "import numpy as np\n",
    "import scanpy as sc\n",
    "import logging\n",
    "import scipy.stats as stats\n",
    "from statsmodels.stats.multitest import fdrcorrection\n",
    "from patsy import dmatrix, dmatrices \n",
    "import statsmodels.api as sm\n",
    "import os\n",
    "\n",
    "import sys\n",
    "sys.path.append('/home/ubuntu/Github/scrna-parameter-estimation/')\n",
    "\n",
    "import memento\n",
    "\n",
    "logging.basicConfig(\n",
    "    format=\"%(asctime)s %(process)-7s %(levelname)-8s %(message)s\",\n",
    "    level=logging.INFO, \n",
    "    datefmt=\"%Y-%m-%d %H:%M:%S\",\n",
    ")\n",
    "logging.captureWarnings(True)\n",
    "\n",
    "data_path = '/data_volume/bulkrna/hagai/sc_rnaseq/'\n",
    "\n",
    "columns = ['coef', 'pval', 'fdr']"
   ]
  },
  {
   "cell_type": "code",
   "execution_count": 59,
   "id": "0da31841-93cc-4cba-9ef8-46b580c8900a",
   "metadata": {
    "tags": []
   },
   "outputs": [
    {
     "name": "stderr",
     "output_type": "stream",
     "text": [
      "2025-01-02 21:42:26 234489  INFO     Differential mean expression in quasiML mode.\n",
      "2025-01-02 21:42:28 234489  INFO     Computing statistics for differential mean\n",
      "[Parallel(n_jobs=14)]: Using backend LokyBackend with 14 concurrent workers.\n",
      "[Parallel(n_jobs=14)]: Done  22 tasks      | elapsed:    0.2s\n",
      "[Parallel(n_jobs=14)]: Done 316 tasks      | elapsed:    2.4s\n",
      "[Parallel(n_jobs=14)]: Done 816 tasks      | elapsed:    6.8s\n",
      "[Parallel(n_jobs=14)]: Done 1516 tasks      | elapsed:   12.9s\n",
      "[Parallel(n_jobs=14)]: Done 2416 tasks      | elapsed:   20.8s\n",
      "[Parallel(n_jobs=14)]: Done 3516 tasks      | elapsed:   29.8s\n",
      "[Parallel(n_jobs=14)]: Done 4816 tasks      | elapsed:   40.6s\n",
      "[Parallel(n_jobs=14)]: Done 6316 tasks      | elapsed:   52.7s\n",
      "[Parallel(n_jobs=14)]: Done 8016 tasks      | elapsed:  1.1min\n",
      "[Parallel(n_jobs=14)]: Done 9408 out of 9408 | elapsed:  1.3min finished\n",
      "[Parallel(n_jobs=14)]: Using backend LokyBackend with 14 concurrent workers.\n",
      "[Parallel(n_jobs=14)]: Done  22 tasks      | elapsed:    0.0s\n",
      "[Parallel(n_jobs=14)]: Done 1892 tasks      | elapsed:    1.2s\n",
      "[Parallel(n_jobs=14)]: Done 9408 out of 9408 | elapsed:    4.8s finished\n",
      "2025-01-02 21:44:13 234489  INFO     Differential mean expression in quasiML mode.\n",
      "2025-01-02 21:44:15 234489  INFO     Computing statistics for differential mean\n",
      "[Parallel(n_jobs=14)]: Using backend LokyBackend with 14 concurrent workers.\n",
      "[Parallel(n_jobs=14)]: Done  22 tasks      | elapsed:    0.2s\n",
      "[Parallel(n_jobs=14)]: Done 316 tasks      | elapsed:    2.4s\n",
      "[Parallel(n_jobs=14)]: Done 816 tasks      | elapsed:    6.8s\n",
      "[Parallel(n_jobs=14)]: Done 1516 tasks      | elapsed:   12.6s\n",
      "[Parallel(n_jobs=14)]: Done 2416 tasks      | elapsed:   20.2s\n",
      "[Parallel(n_jobs=14)]: Done 3516 tasks      | elapsed:   29.1s\n",
      "[Parallel(n_jobs=14)]: Done 4816 tasks      | elapsed:   39.4s\n",
      "[Parallel(n_jobs=14)]: Done 6316 tasks      | elapsed:   51.5s\n",
      "[Parallel(n_jobs=14)]: Done 8016 tasks      | elapsed:  1.1min\n",
      "[Parallel(n_jobs=14)]: Done 9442 out of 9469 | elapsed:  1.3min remaining:    0.2s\n",
      "[Parallel(n_jobs=14)]: Done 9469 out of 9469 | elapsed:  1.3min finished\n",
      "[Parallel(n_jobs=14)]: Using backend LokyBackend with 14 concurrent workers.\n",
      "[Parallel(n_jobs=14)]: Done  22 tasks      | elapsed:    0.0s\n",
      "[Parallel(n_jobs=14)]: Done 2020 tasks      | elapsed:    1.1s\n",
      "[Parallel(n_jobs=14)]: Done 9358 tasks      | elapsed:    4.3s\n",
      "[Parallel(n_jobs=14)]: Done 9442 out of 9469 | elapsed:    4.3s remaining:    0.0s\n",
      "[Parallel(n_jobs=14)]: Done 9469 out of 9469 | elapsed:    4.3s finished\n",
      "2025-01-02 21:45:53 234489  INFO     Differential mean expression in quasiML mode.\n",
      "2025-01-02 21:45:54 234489  INFO     Computing statistics for differential mean\n",
      "[Parallel(n_jobs=14)]: Using backend LokyBackend with 14 concurrent workers.\n",
      "[Parallel(n_jobs=14)]: Done  22 tasks      | elapsed:    0.2s\n",
      "[Parallel(n_jobs=14)]: Done 316 tasks      | elapsed:    2.5s\n",
      "[Parallel(n_jobs=14)]: Done 816 tasks      | elapsed:    6.5s\n",
      "[Parallel(n_jobs=14)]: Done 1516 tasks      | elapsed:   12.2s\n",
      "[Parallel(n_jobs=14)]: Done 2416 tasks      | elapsed:   18.9s\n",
      "[Parallel(n_jobs=14)]: Done 3516 tasks      | elapsed:   27.0s\n",
      "[Parallel(n_jobs=14)]: Done 4816 tasks      | elapsed:   37.5s\n",
      "[Parallel(n_jobs=14)]: Done 5244 out of 5244 | elapsed:   40.5s finished\n",
      "[Parallel(n_jobs=14)]: Using backend LokyBackend with 14 concurrent workers.\n",
      "[Parallel(n_jobs=14)]: Done  22 tasks      | elapsed:    0.0s\n",
      "[Parallel(n_jobs=14)]: Done 1892 tasks      | elapsed:    1.1s\n",
      "[Parallel(n_jobs=14)]: Done 5244 out of 5244 | elapsed:    2.6s finished\n",
      "2025-01-02 21:46:46 234489  INFO     Differential mean expression in quasiML mode.\n",
      "2025-01-02 21:46:47 234489  INFO     Computing statistics for differential mean\n",
      "[Parallel(n_jobs=14)]: Using backend LokyBackend with 14 concurrent workers.\n",
      "[Parallel(n_jobs=14)]: Done  22 tasks      | elapsed:    0.1s\n",
      "[Parallel(n_jobs=14)]: Done 548 tasks      | elapsed:    3.6s\n",
      "[Parallel(n_jobs=14)]: Done 1548 tasks      | elapsed:   10.2s\n",
      "[Parallel(n_jobs=14)]: Done 2948 tasks      | elapsed:   19.2s\n",
      "[Parallel(n_jobs=14)]: Done 3942 out of 3942 | elapsed:   25.0s finished\n",
      "[Parallel(n_jobs=14)]: Using backend LokyBackend with 14 concurrent workers.\n",
      "[Parallel(n_jobs=14)]: Done  22 tasks      | elapsed:    0.0s\n",
      "[Parallel(n_jobs=14)]: Done 1892 tasks      | elapsed:    1.0s\n",
      "[Parallel(n_jobs=14)]: Done 3942 out of 3942 | elapsed:    2.0s finished\n",
      "2025-01-02 21:47:31 234489  INFO     Differential mean expression in quasiML mode.\n",
      "2025-01-02 21:47:33 234489  INFO     Computing statistics for differential mean\n",
      "[Parallel(n_jobs=14)]: Using backend LokyBackend with 14 concurrent workers.\n",
      "[Parallel(n_jobs=14)]: Done  22 tasks      | elapsed:    0.2s\n",
      "[Parallel(n_jobs=14)]: Done 548 tasks      | elapsed:    4.8s\n",
      "[Parallel(n_jobs=14)]: Done 1248 tasks      | elapsed:   12.6s\n",
      "[Parallel(n_jobs=14)]: Done 1642 tasks      | elapsed:   17.2s\n",
      "[Parallel(n_jobs=14)]: Done 2542 tasks      | elapsed:   27.3s\n",
      "[Parallel(n_jobs=14)]: Done 3642 tasks      | elapsed:   38.9s\n",
      "[Parallel(n_jobs=14)]: Done 4942 tasks      | elapsed:   52.5s\n",
      "[Parallel(n_jobs=14)]: Done 6442 tasks      | elapsed:  1.1min\n",
      "[Parallel(n_jobs=14)]: Done 7708 tasks      | elapsed:  1.4min\n",
      "[Parallel(n_jobs=14)]: Done 9390 out of 9417 | elapsed:  1.7min remaining:    0.3s\n",
      "[Parallel(n_jobs=14)]: Done 9417 out of 9417 | elapsed:  1.7min finished\n",
      "[Parallel(n_jobs=14)]: Using backend LokyBackend with 14 concurrent workers.\n",
      "[Parallel(n_jobs=14)]: Done  22 tasks      | elapsed:    0.0s\n",
      "[Parallel(n_jobs=14)]: Done 2020 tasks      | elapsed:    1.1s\n",
      "[Parallel(n_jobs=14)]: Done 9417 out of 9417 | elapsed:    3.7s finished\n",
      "2025-01-02 21:49:41 234489  INFO     Differential mean expression in quasiML mode.\n",
      "2025-01-02 21:49:44 234489  INFO     Computing statistics for differential mean\n",
      "[Parallel(n_jobs=14)]: Using backend LokyBackend with 14 concurrent workers.\n",
      "[Parallel(n_jobs=14)]: Done  22 tasks      | elapsed:    0.2s\n",
      "[Parallel(n_jobs=14)]: Done 1548 tasks      | elapsed:   13.9s\n",
      "[Parallel(n_jobs=14)]: Done 2948 tasks      | elapsed:   27.1s\n",
      "[Parallel(n_jobs=14)]: Done 4748 tasks      | elapsed:   43.9s\n",
      "[Parallel(n_jobs=14)]: Done 6948 tasks      | elapsed:  1.1min\n",
      "[Parallel(n_jobs=14)]: Done 7980 tasks      | elapsed:  1.3min\n",
      "[Parallel(n_jobs=14)]: Done 9442 out of 9469 | elapsed:  1.5min remaining:    0.3s\n",
      "[Parallel(n_jobs=14)]: Done 9469 out of 9469 | elapsed:  1.5min finished\n",
      "[Parallel(n_jobs=14)]: Using backend LokyBackend with 14 concurrent workers.\n",
      "[Parallel(n_jobs=14)]: Done  22 tasks      | elapsed:    0.0s\n",
      "[Parallel(n_jobs=14)]: Done 2020 tasks      | elapsed:    1.2s\n",
      "[Parallel(n_jobs=14)]: Done 9358 tasks      | elapsed:    4.5s\n",
      "[Parallel(n_jobs=14)]: Done 9442 out of 9469 | elapsed:    4.5s remaining:    0.0s\n",
      "[Parallel(n_jobs=14)]: Done 9469 out of 9469 | elapsed:    4.5s finished\n"
     ]
    }
   ],
   "source": [
    "files = [\n",
    "    'Hagai2018_mouse-lps',\n",
    "    'Hagai2018_mouse-pic',\n",
    "    'Hagai2018_pig-lps',\n",
    "    'Hagai2018_rabbit-lps',\n",
    "    'Hagai2018_rat-lps',\n",
    "    'Hagai2018_rat-pic',\n",
    "]\n",
    "\n",
    "def safe_fdr(x):\n",
    "    fdr = np.ones(x.shape[0])\n",
    "    _, fdr[np.isfinite(x)] = fdrcorrection(x[np.isfinite(x)])\n",
    "    return fdr\n",
    "    \n",
    "for file in files:\n",
    "\n",
    "    condition = file.split('-')[-1] + '4'\n",
    "\n",
    "    adata = sc.read_h5ad(data_path +'h5Seurat/' + file + '.h5ad')\n",
    "\n",
    "    gene_list = adata.var.index[adata.X.mean(axis=0).A1 > 0.02].tolist()\n",
    "\n",
    "    adata.obs['q'] = 0.07\n",
    "    memento.setup_memento(\n",
    "        adata, \n",
    "        'q', \n",
    "        filter_mean_thresh=0.02, \n",
    "        estimator_type='pseudobulk')\n",
    "\n",
    "    memento.create_groups(adata, label_columns=['replicate', 'label'])\n",
    "\n",
    "    memento.compute_1d_moments(adata, min_perc_group=0, gene_list=gene_list)\n",
    "\n",
    "    condition = 'unst'\n",
    "    df = pd.DataFrame(index=adata.uns['memento']['groups'])\n",
    "    df['mouse'] = df.index.str.split('^').str[1]\n",
    "    df['stim'] = df.index.str.split('^').str[2]\n",
    "    cov_df = pd.get_dummies(df[['mouse']], drop_first=True).astype(float)\n",
    "    stim_df = (df[['stim']]==condition).astype(float)\n",
    "    cov_df = sm.add_constant(cov_df)\n",
    "    cov_df = cov_df#[['const']]\n",
    "\n",
    "    memento.ht_mean(\n",
    "        adata=adata, \n",
    "        treatment=stim_df,\n",
    "        covariate=cov_df,\n",
    "        treatment_for_gene=None,\n",
    "        covariate_for_gene=None,\n",
    "        inplace=True, \n",
    "        num_boot=2000, \n",
    "        verbose=1,\n",
    "        num_cpus=14)\n",
    "\n",
    "    results = memento.get_mean_ht_result(adata)\n",
    "    results.columns = ['gene', 'tx', 'coef', 'se', 'pval'] # for standardization purposes\n",
    "    results.set_index('gene', inplace=True)\n",
    "    results['fdr'] = memento.util._fdrcorrect(results['pval'])\n",
    "    results.to_csv(data_path + f'results/{file}_quasiML.csv')            \n"
   ]
  }
 ],
 "metadata": {
  "kernelspec": {
   "display_name": "Latest scanpy",
   "language": "python",
   "name": "myenv"
  },
  "language_info": {
   "codemirror_mode": {
    "name": "ipython",
    "version": 3
   },
   "file_extension": ".py",
   "mimetype": "text/x-python",
   "name": "python",
   "nbconvert_exporter": "python",
   "pygments_lexer": "ipython3",
   "version": "3.12.8"
  }
 },
 "nbformat": 4,
 "nbformat_minor": 5
}
