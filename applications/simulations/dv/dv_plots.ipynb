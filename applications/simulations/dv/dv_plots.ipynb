{
 "cells": [
  {
   "cell_type": "markdown",
   "id": "38b95582-894d-4162-aaae-a2c829c04285",
   "metadata": {},
   "source": [
    "# Differential variability comparison plots"
   ]
  },
  {
   "cell_type": "code",
   "execution_count": 1,
   "id": "6a73343b-703a-4c24-9955-c37e9929c742",
   "metadata": {
    "tags": []
   },
   "outputs": [
    {
     "name": "stderr",
     "output_type": "stream",
     "text": [
      "/tmp/ipykernel_13863/3839098963.py:11: DeprecationWarning: the imp module is deprecated in favour of importlib and slated for removal in Python 3.12; see the module's documentation for alternative uses\n",
      "  import imp\n"
     ]
    }
   ],
   "source": [
    "import pandas as pd\n",
    "import matplotlib.pyplot as plt\n",
    "import scanpy as sc\n",
    "import scipy as sp\n",
    "import itertools\n",
    "import numpy as np\n",
    "import scipy.stats as stats\n",
    "from scipy.integrate import dblquad\n",
    "import seaborn as sns\n",
    "from statsmodels.stats.multitest import fdrcorrection\n",
    "import imp\n",
    "pd.options.display.max_rows = 999\n",
    "pd.set_option('display.max_colwidth', 200)\n",
    "pd.set_option('display.max_columns', 100)\n",
    "\n",
    "import pickle as pkl\n",
    "import time\n",
    "import string\n",
    "from sklearn.datasets import make_spd_matrix\n",
    "from sklearn.metrics import roc_curve, precision_recall_curve"
   ]
  },
  {
   "cell_type": "code",
   "execution_count": 2,
   "id": "651105e6-50ed-4e37-bd82-4741e49c4d05",
   "metadata": {
    "tags": []
   },
   "outputs": [],
   "source": [
    "import matplotlib as mpl\n",
    "mpl.rcParams['pdf.fonttype'] = 42\n",
    "mpl.rcParams['ps.fonttype'] = 42\n",
    "plt.rcParams[\"axes.prop_cycle\"] = plt.cycler(\"color\", ['turquoise', 'slategrey', 'silver'])\n",
    "\n",
    "import matplotlib.pylab as pylab\n",
    "params = {'legend.fontsize': 'medium',\n",
    "         'axes.labelsize': 'medium',\n",
    "         'axes.titlesize':'medium',\n",
    "         'figure.titlesize':'medium',\n",
    "         'xtick.labelsize':'small',\n",
    "         'ytick.labelsize':'small'}\n",
    "pylab.rcParams.update(params)\n"
   ]
  },
  {
   "cell_type": "code",
   "execution_count": 3,
   "id": "4e72db37-04c9-4d8c-8a02-d00c2adc96b6",
   "metadata": {
    "tags": []
   },
   "outputs": [],
   "source": [
    "# import sys\n",
    "# sys.path.append('/home/ssm-user/Github/scrna-parameter-estimation/dist/memento-0.0.9-py3.8.egg')\n",
    "# import memento\n",
    "# import memento.simulate as simulate"
   ]
  },
  {
   "cell_type": "code",
   "execution_count": 4,
   "id": "035cf9a6-bbec-4f2a-92be-7c700cc63ef4",
   "metadata": {
    "tags": []
   },
   "outputs": [],
   "source": [
    "import matplotlib\n",
    "matplotlib.rcParams['legend.handlelength'] = 0"
   ]
  },
  {
   "cell_type": "code",
   "execution_count": 17,
   "id": "0f64f8dd-93a6-4c79-9198-22b5d002b44b",
   "metadata": {
    "tags": []
   },
   "outputs": [],
   "source": [
    "data_path = '/home/ubuntu/Data/simulation/dv/'"
   ]
  },
  {
   "cell_type": "code",
   "execution_count": 18,
   "id": "d2d82816-ed06-467a-b219-2ea93094554b",
   "metadata": {
    "tags": []
   },
   "outputs": [
    {
     "name": "stdout",
     "output_type": "stream",
     "text": [
      "The autoreload extension is already loaded. To reload it, use:\n",
      "  %reload_ext autoreload\n"
     ]
    }
   ],
   "source": [
    "%load_ext autoreload"
   ]
  },
  {
   "cell_type": "code",
   "execution_count": 19,
   "id": "4bc0fd60-5a62-4e85-bec1-24b5611357e5",
   "metadata": {
    "tags": []
   },
   "outputs": [],
   "source": [
    "%autoreload 2\n"
   ]
  },
  {
   "cell_type": "markdown",
   "id": "087c4291-f050-49e6-bf2a-f6019b4a6776",
   "metadata": {},
   "source": [
    "### Compare DV methods"
   ]
  },
  {
   "cell_type": "code",
   "execution_count": 20,
   "id": "7c54df34-5ea0-46fe-b011-9fbec0561b83",
   "metadata": {
    "tags": []
   },
   "outputs": [
    {
     "name": "stdout",
     "output_type": "stream",
     "text": [
      "basics num (7902, 8)\n"
     ]
    }
   ],
   "source": [
    "\n",
    "dv_adata = sc.read(data_path + 'high_expr_anndata.h5ad')\n",
    "result = dv_adata.var.copy()\n",
    "result['de'] = dv_adata.var['is_de'].values\n",
    "result['dv'] = dv_adata.var['is_dv'].values\n",
    "memento_dv = pd.read_csv(data_path + 'memento.csv', index_col=0)\n",
    "basics_dv = pd.read_csv(data_path +'dv_basics.csv')\n",
    "print('basics num', basics_dv.shape)\n",
    "basics_dv.index = dv_adata.var.iloc[basics_dv['GeneName']].index.tolist()\n",
    "\n",
    "result = memento_dv.join(result, how='left').join(basics_dv, how='inner')\n",
    "result['dv'] = result['dv'].astype(bool)\n",
    "\n",
    "result['basics_es'] = basics_dv['ResDispDistance'] * (basics_dv['ResultDiffResDisp']=='stim+') - basics_dv['ResDispDistance'] * (basics_dv['ResultDiffResDisp']=='stim+')\n",
    "result['basics'] = 1- basics_dv['ProbDiffResDisp']\n",
    "result['basics'] =  result['basics']\n",
    "result['memento'] = result['pval']\n",
    "\n",
    "result = result.dropna()"
   ]
  },
  {
   "cell_type": "code",
   "execution_count": 25,
   "id": "4e3cc8e6-bd8d-4919-b31c-072ba5da6f4e",
   "metadata": {
    "tags": []
   },
   "outputs": [
    {
     "name": "stderr",
     "output_type": "stream",
     "text": [
      "/tmp/ipykernel_13863/751946018.py:6: RuntimeWarning: divide by zero encountered in log\n",
      "  plt.scatter(-np.log(theoretical), -np.log(pv), s=3)\n"
     ]
    },
    {
     "data": {
      "image/png": "[encoded data removed]",
      "text/plain": [
       "<Figure size 200x200 with 1 Axes>"
      ]
     },
     "metadata": {},
     "output_type": "display_data"
    }
   ],
   "source": [
    "plt.figure(figsize=(2,2))\n",
    "pv = result.query('~is_dv')['memento'].values\n",
    "pv = np.sort(pv)\n",
    "theoretical = np.linspace(0, 1, pv.shape[0])\n",
    "plt.plot([0, 9], [0, 9], '--', color='k', linewidth=1)\n",
    "plt.scatter(-np.log(theoretical), -np.log(pv), s=3)\n",
    "plt.title('Simluated DE')\n",
    "plt.xlabel('-log10(theoretical p-value)')\n",
    "plt.ylabel('-log10(observed p-value)')\n",
    "plt.savefig('log_dv_calibration.png', bbox_inches='tight', dpi=300)"
   ]
  },
  {
   "cell_type": "code",
   "execution_count": 487,
   "id": "3153d463-715d-49d8-87c6-11b291a0a8c5",
   "metadata": {},
   "outputs": [],
   "source": [
    "methods =['memento', 'basics']"
   ]
  },
  {
   "cell_type": "code",
   "execution_count": 504,
   "id": "8bb90a5f-d2b9-4e6e-b7b1-acb539421307",
   "metadata": {},
   "outputs": [],
   "source": [
    "n=7\n",
    "thresholds = {\n",
    "    'memento':np.linspace(1e-5, 0.05,n),\n",
    "    'basics':np.linspace(1e-5, 0.01, n)}\n",
    "\n",
    "tpr_dict = {}\n",
    "fdr_dict = {}\n",
    "fpr_dict = {}\n",
    "for method in methods:\n",
    "    tpr = []\n",
    "    fpr = []\n",
    "    fdr = []\n",
    "\n",
    "    for thresh in thresholds[method]:\n",
    "\n",
    "        tpr.append((result.query('dv')[method] < thresh).mean())\n",
    "        fdr.append(    1-result.query('{} < {}'.format(method, thresh))['dv'].mean()     )\n",
    "        fpr.append(    (result.query('~dv')[method] < thresh).mean()       )\n",
    "    tpr_dict[method] = tpr\n",
    "    fpr_dict[method] = fpr\n",
    "    fdr_dict[method] = fdr"
   ]
  },
  {
   "cell_type": "code",
   "execution_count": 505,
   "id": "80d66723-9b04-4639-b380-95f6600da720",
   "metadata": {},
   "outputs": [
    {
     "data": {
      "text/plain": [
       "Text(0.5, 0, 'P-value cutoff (memento)\\nPr(null) cutoff (BASiCS)')"
      ]
     },
     "execution_count": 505,
     "metadata": {},
     "output_type": "execute_result"
    },
    {
     "data": {
      "image/png": "[encoded data removed]",
      "text/plain": [
       "<Figure size 250x400 with 2 Axes>"
      ]
     },
     "metadata": {},
     "output_type": "display_data"
    }
   ],
   "source": [
    "plt.figure(figsize=(2.5, 4))\n",
    "plt.subplots_adjust(hspace=0.09)\n",
    "plt.subplot(2, 1, 1)\n",
    "for method in methods:\n",
    "    plt.plot(thresholds[method], tpr_dict[method], '-o', label=method, ms=4)\n",
    "plt.legend(methods, frameon=False, loc='center right')\n",
    "plt.xticks([])\n",
    "\n",
    "plt.subplot(2, 1, 2)\n",
    "for method in methods:\n",
    "    plt.plot(thresholds[method], fpr_dict[method], '-o', label=method, ms=4)\n",
    "# plt.legend(['memento', 'BASiCS'], frameon=False, loc='center right')\n",
    "# plt.ylabel('FPR')\n",
    "plt.xlabel('P-value cutoff (memento)\\nPr(null) cutoff (BASiCS)')"
   ]
  },
  {
   "cell_type": "code",
   "execution_count": 512,
   "id": "fea20c35-260f-44ca-9aa6-39f1d51ae87a",
   "metadata": {},
   "outputs": [],
   "source": [
    "topn_fdr = {}\n",
    "topn_tpr = {}\n",
    "num_n = 30\n",
    "for method in methods:\n",
    "    topn_fdr[method] = np.zeros(num_n)\n",
    "    topn_tpr[method] = np.zeros(num_n)\n",
    "    \n",
    "    for idx, n in enumerate(np.linspace(50, 3000, num_n)):\n",
    "        n = int(n)\n",
    "        hits = result.sort_values(method).head(n)['dv'].values\n",
    "        topn_fdr[method][idx] = (~hits).mean()\n",
    "        topn_tpr[method][idx] = hits.sum() / result.dv.sum()\n",
    "    "
   ]
  },
  {
   "cell_type": "code",
   "execution_count": 515,
   "id": "1515f2b5-b72c-45d3-b43e-3631440424be",
   "metadata": {},
   "outputs": [
    {
     "data": {
      "image/png": "[encoded data removed]",
      "text/plain": [
       "<Figure size 250x200 with 1 Axes>"
      ]
     },
     "metadata": {},
     "output_type": "display_data"
    }
   ],
   "source": [
    "plt.figure(figsize=(2.5, 2))\n",
    "\n",
    "\n",
    "for method in methods:\n",
    "    plt.plot(topn_fdr[method], topn_tpr[method], '-o', label=method, ms=5)\n",
    "plt.ylabel('Power'); plt.xlabel('FDR')\n",
    "plt.legend(frameon=False, loc='lower right')\n",
    "plt.savefig('fdr_tpr_dv.pdf', bbox_inches='tight')"
   ]
  },
  {
   "cell_type": "code",
   "execution_count": null,
   "id": "59cba67a-abbd-4cc9-ad37-dd8fa1fb18fa",
   "metadata": {},
   "outputs": [],
   "source": []
  }
 ],
 "metadata": {
  "kernelspec": {
   "display_name": "mementocxg",
   "language": "python",
   "name": "myenv"
  },
  "language_info": {
   "codemirror_mode": {
    "name": "ipython",
    "version": 3
   },
   "file_extension": ".py",
   "mimetype": "text/x-python",
   "name": "python",
   "nbconvert_exporter": "python",
   "pygments_lexer": "ipython3",
   "version": "3.11.5"
  }
 },
 "nbformat": 4,
 "nbformat_minor": 5
}
