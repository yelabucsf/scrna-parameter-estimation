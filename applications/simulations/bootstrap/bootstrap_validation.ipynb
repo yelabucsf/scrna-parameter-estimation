{
 "cells": [
  {
   "cell_type": "markdown",
   "metadata": {},
   "source": [
    "# Bootstrap validation\n",
    "\n",
    "This notebook contains code for validating the approximate bootstrap as well as generating half of figure 3 of the paper."
   ]
  },
  {
   "cell_type": "code",
   "execution_count": 1,
   "metadata": {
    "tags": []
   },
   "outputs": [
    {
     "name": "stderr",
     "output_type": "stream",
     "text": [
      "/tmp/ipykernel_44975/192257472.py:11: DeprecationWarning: the imp module is deprecated in favour of importlib and slated for removal in Python 3.12; see the module's documentation for alternative uses\n",
      "  import imp\n"
     ]
    }
   ],
   "source": [
    "import pandas as pd\n",
    "import matplotlib.pyplot as plt\n",
    "import scanpy as sc\n",
    "import scipy as sp\n",
    "import itertools\n",
    "import numpy as np\n",
    "import scipy.stats as stats\n",
    "from scipy.integrate import dblquad\n",
    "import seaborn as sns\n",
    "from statsmodels.stats.multitest import fdrcorrection\n",
    "import imp\n",
    "pd.options.display.max_rows = 999\n",
    "# pd.set_option('display.max_colwidth', -1)\n",
    "from statsmodels.distributions.empirical_distribution import ECDF\n",
    "import pickle as pkl\n",
    "import time\n",
    "\n",
    "import sklearn.datasets as sklearn_datasets\n",
    "import scipy.sparse as sparse\n"
   ]
  },
  {
   "cell_type": "code",
   "execution_count": 2,
   "metadata": {
    "tags": []
   },
   "outputs": [],
   "source": [
    "import matplotlib as mpl\n",
    "mpl.rcParams['pdf.fonttype'] = 42\n",
    "mpl.rcParams['ps.fonttype'] = 42\n",
    "\n",
    "import matplotlib.pylab as pylab\n",
    "params = {'legend.fontsize': 'x-small',\n",
    "         'axes.labelsize': 'medium',\n",
    "         'axes.titlesize':'medium',\n",
    "         'figure.titlesize':'medium',\n",
    "         'xtick.labelsize':'small',\n",
    "         'ytick.labelsize':'small'}\n",
    "pylab.rcParams.update(params)\n"
   ]
  },
  {
   "cell_type": "code",
   "execution_count": 3,
   "metadata": {
    "tags": []
   },
   "outputs": [],
   "source": [
    "import sys\n",
    "sys.path.append('/home/ubuntu/Github/scrna-parameter-estimation/')\n",
    "import memento\n",
    "import memento.simulate as simulate"
   ]
  },
  {
   "cell_type": "code",
   "execution_count": 4,
   "metadata": {
    "tags": []
   },
   "outputs": [],
   "source": [
    "# import sys\n",
    "# sys.path.append('/home/ssm-user/Github/single_cell_eb/')\n",
    "# sys.path.append('/home/ssm-user/Github/single_cell_eb/sceb')\n",
    "# import scdd"
   ]
  },
  {
   "cell_type": "code",
   "execution_count": 5,
   "metadata": {
    "tags": []
   },
   "outputs": [],
   "source": [
    "# fig_path = '/data/home/Github/scrna-parameter-estimation/figures/fig3/'\n",
    "DATA_PATH = '/home/ubuntu/Data/'\n",
    "data_path = DATA_PATH\n",
    "CELL_TYPE = 'CD4 T cells - ctrl'\n",
    "num_cell = 10000\n",
    "q=0.07\n",
    "NUM_CORR_GENES = 300 # First hundred genes display correlation\n"
   ]
  },
  {
   "cell_type": "markdown",
   "metadata": {},
   "source": [
    "### Get parameters from real data"
   ]
  },
  {
   "cell_type": "code",
   "execution_count": 6,
   "metadata": {
    "tags": []
   },
   "outputs": [],
   "source": [
    "def get_simulation_parameters(q=0.07):\n",
    "    \"\"\" Extracts simulation parameters. \"\"\"\n",
    "    \n",
    "    adata = sc.read(DATA_PATH + 'interferon_filtered.h5ad')\n",
    "    adata = adata[adata.obs.cell_type == CELL_TYPE]\n",
    "    data = adata.X.copy()\n",
    "    relative_data = data.toarray()/data.sum(axis=1)\n",
    "    \n",
    "    x_param, z_param, Nc, good_idx = simulate.extract_parameters(adata.X, q=q, min_mean=0.01)\n",
    "    \n",
    "    return x_param, z_param, Nc\n",
    "\n",
    "\n",
    "def simulate_data(n_cells, z_param, Nc):\n",
    "    \"\"\" Generates simulated data. \"\"\"\n",
    "    \n",
    "    # Generate ground truth data\n",
    "    cov_matrix = sklearn_datasets.make_spd_matrix(NUM_CORR_GENES)\n",
    "    true_data = simulate.simulate_transcriptomes(n_cells=n_cells, means=z_param[0], variances=z_param[1], Nc=Nc, norm_cov=cov_matrix)\n",
    "    true_data[true_data < 0] = 0\n",
    "    \n",
    "    # Sample transcripts\n",
    "    qs, captured_data = simulate.capture_sampling(true_data, q, q_sq=None)\n",
    "\n",
    "    # Filter cells\n",
    "    cell_filter = captured_data.sum(axis=1) > 0\n",
    "    gene_filter = captured_data.sum(axis=0) > 0\n",
    "    true_data = true_data[cell_filter, :][:, gene_filter]\n",
    "    captured_data = captured_data[cell_filter, :][:, gene_filter]\n",
    "    \n",
    "    captured_data = sparse.csr_matrix(captured_data)\n",
    "    true_data = sparse.csr_matrix(true_data)\n",
    "    return true_data, captured_data, int(gene_filter[:NUM_CORR_GENES].sum())"
   ]
  },
  {
   "cell_type": "code",
   "execution_count": 7,
   "metadata": {
    "tags": []
   },
   "outputs": [
    {
     "name": "stderr",
     "output_type": "stream",
     "text": [
      "/home/ubuntu/anaconda3/envs/mementocxg/lib/python3.11/site-packages/anndata/__init__.py:51: FutureWarning: `anndata.read` is deprecated, use `anndata.read_h5ad` instead. `ad.read` will be removed in mid 2024.\n",
      "  warnings.warn(\n"
     ]
    }
   ],
   "source": [
    "x_param, z_param, Nc = get_simulation_parameters(q=0.07)\n"
   ]
  },
  {
   "cell_type": "code",
   "execution_count": 8,
   "metadata": {
    "tags": []
   },
   "outputs": [],
   "source": [
    "test_gene_means = np.quantile(x_param[0][:NUM_CORR_GENES], np.linspace(0.05, 0.95, 10))"
   ]
  },
  {
   "cell_type": "code",
   "execution_count": 9,
   "metadata": {
    "tags": []
   },
   "outputs": [],
   "source": [
    "def idxquantile(s, q=0.5, *args, **kwargs):\n",
    "    qv = s.quantile(q, *args, **kwargs)\n",
    "    return (s.sort_values()[::-1] <= qv).idxmax()"
   ]
  },
  {
   "cell_type": "code",
   "execution_count": 10,
   "metadata": {
    "tags": []
   },
   "outputs": [],
   "source": [
    "test_gene_idxs = np.array([idxquantile(pd.Series(x_param[0][:NUM_CORR_GENES]), q) for q in np.linspace(0.05, 0.95, 10)])"
   ]
  },
  {
   "cell_type": "markdown",
   "metadata": {},
   "source": [
    "### Simulate some cells\n",
    "\n",
    "10K cells for ~2k genes"
   ]
  },
  {
   "cell_type": "code",
   "execution_count": 11,
   "metadata": {
    "tags": []
   },
   "outputs": [],
   "source": [
    "# # Simulate 10K cells for 10K genes\n",
    "\n",
    "# x_param, z_param, Nc, good_idx = simulate.extract_parameters(adata.X, q=q, min_mean=q)\n",
    "\n",
    "# simulated_data = simulate.simulate_transcriptomes(\n",
    "#     n_cells=n_cells, \n",
    "#     means=z_param[0],\n",
    "#     variances=z_param[1],\n",
    "#     Nc=Nc,\n",
    "#     norm_cov='uncorrelated')\n",
    "\n",
    "# # with open('simulated_data.pkl', 'wb') as f:\n",
    "# #     pkl.dump(simulated_data, f)"
   ]
  },
  {
   "cell_type": "code",
   "execution_count": null,
   "metadata": {
    "tags": []
   },
   "outputs": [
    {
     "name": "stderr",
     "output_type": "stream",
     "text": [
      "/home/ubuntu/Github/scrna-parameter-estimation/memento/simulate.py:81: RuntimeWarning: invalid value encountered in divide\n",
      "  relative_transcriptome = nbinom_variables/nbinom_variables.sum(axis=1).reshape(-1,1)\n",
      "/home/ubuntu/Github/scrna-parameter-estimation/memento/simulate.py:82: RuntimeWarning: invalid value encountered in multiply\n",
      "  transcriptome = relative_transcriptome*cell_sizes\n",
      "/home/ubuntu/Github/scrna-parameter-estimation/memento/simulate.py:84: RuntimeWarning: invalid value encountered in cast\n",
      "  return np.round(transcriptome).astype(int)\n"
     ]
    }
   ],
   "source": [
    "num_boot = 5000\n",
    "results = []\n",
    "for trial in range(20):\n",
    "    \n",
    "    true_data, captured_data, filtered_num_corr_genes = simulate_data(num_cell, z_param, Nc)\n",
    "    size_factor = captured_data.sum(axis=1).A1\n",
    "    adata = sc.AnnData(captured_data)\n",
    "    \n",
    "    for ii in range(test_gene_idxs.shape[0]-1):\n",
    "        \n",
    "        gene_idx_1 = test_gene_idxs[ii]\n",
    "        gene_idx_2 = test_gene_idxs[ii]+1\n",
    "        \n",
    "        data_1 = adata.X[:, gene_idx_1].todense().A1\n",
    "        sparse_data_1 = adata.X[:, gene_idx_1]\n",
    "        unique_count_1 = np.unique(data_1).shape[0]\n",
    "        \n",
    "        data_2 = adata.X[:, gene_idx_2].todense().A1\n",
    "        sparse_data_2 = adata.X[:, gene_idx_2]\n",
    "        unique_count_2 = np.unique(data_2).shape[0]\n",
    "        \n",
    "        real_boot_mean_dist = np.zeros(num_boot)\n",
    "        real_boot_var_dist = np.zeros(num_boot)\n",
    "        real_boot_corr_dist = np.zeros(num_boot)\n",
    "\n",
    "        # do real bootstrap\n",
    "        for boot in range(num_boot):\n",
    "\n",
    "            boot_idx = np.random.choice(data_1.shape[0], data_1.shape[0])\n",
    "            res1 = memento.estimator._hyper_1d_relative(sparse_data_1[boot_idx], data_1.shape[0], size_factor=size_factor[boot_idx], q=q)\n",
    "            res2 = memento.estimator._hyper_1d_relative(sparse_data_2[boot_idx], data_2.shape[0], size_factor=size_factor[boot_idx], q=q)\n",
    "            cov = memento.estimator._hyper_cov_relative(\n",
    "                sp.sparse.hstack([sparse_data_1[boot_idx], sparse_data_2[boot_idx]], format='csr'), data_2.shape[0], size_factor=size_factor[boot_idx], q=q,\n",
    "                idx1= np.array([0]), idx2=np.array([1]))\n",
    "\n",
    "            real_boot_mean_dist[boot] = res1[0][0]\n",
    "            real_boot_var_dist[boot] = res1[1][0]/res1[0][0]**2\n",
    "            real_boot_corr_dist[boot] = cov[0]/np.sqrt(res1[1][0]*res2[1][0])\n",
    "            \n",
    "        # do memento bootstrap\n",
    "        num_bins=60\n",
    "        binned_stat = stats.binned_statistic(size_factor, size_factor, bins=num_bins, statistic='mean')\n",
    "        bin_idx = np.clip(binned_stat[2], a_min=1, a_max=binned_stat[0].shape[0])\n",
    "        approx_sf = binned_stat[0][bin_idx-1]\n",
    "        max_sf = size_factor.max()\n",
    "        approx_sf[size_factor == max_sf] = max_sf\n",
    "\n",
    "        mean_emd_score = 0\n",
    "        var_emd_score = 0\n",
    "        corr_emd_score = 0\n",
    "\n",
    "        m1, v1 = memento.bootstrap._bootstrap_1d(\n",
    "            data=sparse_data_1,\n",
    "            size_factor=approx_sf, \n",
    "            num_boot=num_boot,\n",
    "            q=q,\n",
    "            _estimator_1d=memento.estimator._hyper_1d_relative)\n",
    "        \n",
    "        rv = v1/m1**2\n",
    "\n",
    "        cov1, v1, v2 = memento.bootstrap._bootstrap_2d(\n",
    "            data=sp.sparse.hstack([sparse_data_1, sparse_data_2], format='csr'),\n",
    "            size_factor=approx_sf, \n",
    "            num_boot=num_boot,\n",
    "            q=q,\n",
    "            _estimator_1d=memento.estimator._hyper_1d_relative,\n",
    "            _estimator_cov=memento.estimator._hyper_cov_relative)\n",
    "        \n",
    "        simulation_result = (ii, real_boot_mean_dist, real_boot_var_dist, real_boot_corr_dist, m1, rv, cov1/np.sqrt(v1*v2))\n",
    "        results.append(simulation_result)\n",
    "\n",
    "with open('simulation_result.pkl', 'wb') as f:\n",
    "    \n",
    "    pkl.dump(results, f)"
   ]
  },
  {
   "cell_type": "code",
   "execution_count": 25,
   "metadata": {
    "tags": []
   },
   "outputs": [],
   "source": [
    "def summarize(estimate_idx): #0 for mean, 1 for var, and 2 for corr\n",
    "    \n",
    "    estimate_results = []\n",
    "    result_idx = 0\n",
    "    for trial in range(20):\n",
    "\n",
    "\n",
    "\n",
    "        for ii in range(test_gene_idxs.shape[0]-1) :\n",
    "\n",
    "            r = results[result_idx]\n",
    "            estimate_results.append((\n",
    "                trial,\n",
    "                ii,\n",
    "                test_gene_means[ii],\n",
    "                stats.ks_2samp(np.log(r[estimate_idx+1]), np.log(r[estimate_idx+4]))[1],\n",
    "                ))\n",
    "            result_idx += 1\n",
    "    estimate_results = pd.DataFrame(estimate_results, columns=['trial', 'gene_idx','gene_mean', 'ks_pval'])\n",
    "\n",
    "    return estimate_results"
   ]
  },
  {
   "cell_type": "code",
   "execution_count": 39,
   "metadata": {
    "tags": []
   },
   "outputs": [
    {
     "name": "stderr",
     "output_type": "stream",
     "text": [
      "/tmp/ipykernel_44975/3390482919.py:16: RuntimeWarning: invalid value encountered in log\n",
      "  stats.ks_2samp(np.log(r[estimate_idx+1]), np.log(r[estimate_idx+4]))[1],\n",
      "/tmp/ipykernel_44975/3390482919.py:16: RuntimeWarning: ks_2samp: Exact calculation unsuccessful. Switching to method=asymp.\n",
      "  stats.ks_2samp(np.log(r[estimate_idx+1]), np.log(r[estimate_idx+4]))[1],\n",
      "/tmp/ipykernel_44975/3390482919.py:16: RuntimeWarning: invalid value encountered in log\n",
      "  stats.ks_2samp(np.log(r[estimate_idx+1]), np.log(r[estimate_idx+4]))[1],\n",
      "/tmp/ipykernel_44975/3390482919.py:16: RuntimeWarning: ks_2samp: Exact calculation unsuccessful. Switching to method=asymp.\n",
      "  stats.ks_2samp(np.log(r[estimate_idx+1]), np.log(r[estimate_idx+4]))[1],\n"
     ]
    },
    {
     "data": {
      "image/png": "[encoded data removed]",
      "text/plain": [
       "<Figure size 600x600 with 3 Axes>"
      ]
     },
     "metadata": {},
     "output_type": "display_data"
    }
   ],
   "source": [
    "plt.figure(figsize=(6,6))\n",
    "plt.subplots_adjust(hspace=0.5)\n",
    "plt.subplot(3,1,1)\n",
    "sns.boxplot(x='gene_idx', y='ks_pval', data=summarize(0),fliersize=0);\n",
    "sns.stripplot(x='gene_idx', y='ks_pval', data=summarize(0),color='k');\n",
    "\n",
    "plt.xticks(np.arange(9), np.array([0.05, 0.15, 0.25, 0.35, 0.45, 0.55, 0.65, 0.75, 0.85]));\n",
    "plt.ylabel(None)\n",
    "plt.title('mean')\n",
    "plt.xlabel(None)\n",
    "\n",
    "\n",
    "plt.subplot(3,1,2)\n",
    "sns.boxplot(x='gene_idx', y='ks_pval', data=summarize(1),fliersize=0);\n",
    "sns.stripplot(x='gene_idx', y='ks_pval', data=summarize(1),color='k');\n",
    "\n",
    "plt.xticks(np.arange(9), np.array([0.05, 0.15, 0.25, 0.35, 0.45, 0.55, 0.65, 0.75, 0.85]));\n",
    "plt.ylabel('KS test P-value \\n  memento vs naive bootstrap sampling distributions (20 trials)')\n",
    "plt.title('residual variance')\n",
    "plt.xlabel(None)\n",
    "\n",
    "\n",
    "plt.subplot(3,1,3)\n",
    "sns.boxplot(x='gene_idx', y='ks_pval', data=summarize(2),fliersize=0);\n",
    "sns.stripplot(x='gene_idx', y='ks_pval', data=summarize(2),color='k');\n",
    "\n",
    "plt.xticks(np.arange(9), np.array([0.05, 0.15, 0.25, 0.35, 0.45, 0.55, 0.65, 0.75, 0.85]));\n",
    "plt.xlabel('Gene mean expression quantile')\n",
    "plt.title('correlation')\n",
    "\n",
    "plt.ylabel(None)\n",
    "plt.savefig('bootstrap_ks_box.png', bbox_inches='tight', dpi=300)"
   ]
  },
  {
   "cell_type": "code",
   "execution_count": 30,
   "metadata": {
    "tags": []
   },
   "outputs": [
    {
     "data": {
      "text/plain": [
       "0.963973606015013"
      ]
     },
     "execution_count": 30,
     "metadata": {},
     "output_type": "execute_result"
    }
   ],
   "source": [
    "stats.ks_2samp(real_m, mem_m)[1]"
   ]
  },
  {
   "cell_type": "code",
   "execution_count": null,
   "metadata": {},
   "outputs": [],
   "source": []
  },
  {
   "cell_type": "code",
   "execution_count": null,
   "metadata": {},
   "outputs": [],
   "source": []
  },
  {
   "cell_type": "code",
   "execution_count": 114,
   "metadata": {
    "tags": []
   },
   "outputs": [
    {
     "data": {
      "text/plain": [
       "<Axes: ylabel='Density'>"
      ]
     },
     "execution_count": 114,
     "metadata": {},
     "output_type": "execute_result"
    },
    {
     "data": {
      "image/png": "[encoded data removed]",
      "text/plain": [
       "<Figure size 640x480 with 1 Axes>"
      ]
     },
     "metadata": {},
     "output_type": "display_data"
    }
   ],
   "source": [
    "sns.kdeplot(np.log(results[0][1]))\n",
    "sns.kdeplot(np.log(results[0][4]))"
   ]
  },
  {
   "cell_type": "code",
   "execution_count": 38,
   "metadata": {
    "tags": []
   },
   "outputs": [],
   "source": [
    "hyper_captured = captured_data\n",
    "# with open('captured_data.pkl', 'wb') as f:\n",
    "#     pkl.dump(hyper_captured, f)"
   ]
  },
  {
   "cell_type": "code",
   "execution_count": 39,
   "metadata": {
    "tags": []
   },
   "outputs": [],
   "source": [
    "adata = sc.AnnData(sp.sparse.csr_matrix(hyper_captured))\n"
   ]
  },
  {
   "cell_type": "markdown",
   "metadata": {},
   "source": [
    "### Compare the approximate bootstrap to the true bootstrap"
   ]
  },
  {
   "cell_type": "code",
   "execution_count": 59,
   "metadata": {
    "tags": []
   },
   "outputs": [],
   "source": [
    "size_factor = memento.estimator._estimate_size_factor(hyper_captured, 'relative', shrinkage=0, total=True)"
   ]
  },
  {
   "cell_type": "code",
   "execution_count": 63,
   "metadata": {
    "tags": []
   },
   "outputs": [
    {
     "name": "stdout",
     "output_type": "stream",
     "text": [
      "This gene has 3 unique counts.\n",
      "This gene has 3 unique counts.\n",
      "This gene has 3 unique counts.\n"
     ]
    },
    {
     "data": {
      "text/plain": [
       "(array([9.694e+03, 0.000e+00, 0.000e+00, 0.000e+00, 0.000e+00, 1.930e+02,\n",
       "        0.000e+00, 0.000e+00, 0.000e+00, 4.000e+00]),\n",
       " array([0. , 0.2, 0.4, 0.6, 0.8, 1. , 1.2, 1.4, 1.6, 1.8, 2. ]),\n",
       " <BarContainer object of 10 artists>)"
      ]
     },
     "execution_count": 63,
     "metadata": {},
     "output_type": "execute_result"
    },
    {
     "data": {
      "image/png": "[encoded data removed]",
      "text/plain": [
       "<Figure size 900x200 with 3 Axes>"
      ]
     },
     "metadata": {},
     "output_type": "display_data"
    }
   ],
   "source": [
    "# Get info for a single gene\n",
    "gene_idx_1 = 9\n",
    "data_1 = adata.X[:, gene_idx_1].todense().A1\n",
    "sparse_data_1 = adata.X[:, gene_idx_1]\n",
    "unique_count_1 = np.unique(data_1).shape[0]\n",
    "\n",
    "gene_idx_2 = 30\n",
    "data_2 = adata.X[:, gene_idx_2].todense().A1\n",
    "sparse_data_2 = adata.X[:, gene_idx_2]\n",
    "unique_count_2 = np.unique(data_2).shape[0]\n",
    "\n",
    "gene_idx_3 = 90\n",
    "data_3 = adata.X[:, gene_idx_3].todense().A1\n",
    "sparse_data_3 = adata.X[:, gene_idx_3]\n",
    "unique_count_3 = np.unique(data_3).shape[0]\n",
    "\n",
    "num_boot = 1000\n",
    "print('This gene has {} unique counts.'.format(unique_count_1))\n",
    "print('This gene has {} unique counts.'.format(unique_count_2))\n",
    "print('This gene has {} unique counts.'.format(unique_count_3))\n",
    "\n",
    "\n",
    "plt.figure(figsize=(9, 2))\n",
    "plt.subplot(1, 3, 1); plt.hist(data_1)\n",
    "plt.subplot(1, 3, 2); plt.hist(data_2)\n",
    "plt.subplot(1, 3, 3); plt.hist(data_3)"
   ]
  },
  {
   "cell_type": "markdown",
   "metadata": {},
   "source": [
    "### Compare true and approximate bootstrap"
   ]
  },
  {
   "cell_type": "code",
   "execution_count": 65,
   "metadata": {
    "tags": []
   },
   "outputs": [
    {
     "name": "stdout",
     "output_type": "stream",
     "text": [
      "CPU times: user 2.95 s, sys: 944 µs, total: 2.95 s\n",
      "Wall time: 2.95 s\n"
     ]
    }
   ],
   "source": [
    "%%time\n",
    "# Perform true bootstrap\n",
    "real_boot_mean_dist = np.zeros(num_boot)\n",
    "real_boot_var_dist = np.zeros(num_boot)\n",
    "real_boot_corr_dist = np.zeros(num_boot)\n",
    "\n",
    "for boot in range(num_boot):\n",
    "    \n",
    "    boot_idx = np.random.choice(data_1.shape[0], data_1.shape[0])\n",
    "    res1 = memento.estimator._hyper_1d_relative(sparse_data_1[boot_idx], data_1.shape[0], size_factor=size_factor[boot_idx], q=q)\n",
    "    res2 = memento.estimator._hyper_1d_relative(sparse_data_2[boot_idx], data_2.shape[0], size_factor=size_factor[boot_idx], q=q)\n",
    "    cov = memento.estimator._hyper_cov_relative(\n",
    "        sp.sparse.hstack([sparse_data_1[boot_idx], sparse_data_2[boot_idx]], format='csr'), data_2.shape[0], size_factor=size_factor[boot_idx], q=q,\n",
    "        idx1= np.array([0]), idx2=np.array([1]))\n",
    "    \n",
    "    real_boot_mean_dist[boot] = res1[0][0]\n",
    "    real_boot_var_dist[boot] = res1[1][0]/res1[0][0]**2\n",
    "    real_boot_corr_dist[boot] = cov[0]/np.sqrt(res1[1][0]*res2[1][0])"
   ]
  },
  {
   "cell_type": "code",
   "execution_count": 23,
   "metadata": {},
   "outputs": [
    {
     "ename": "NameError",
     "evalue": "name 'data' is not defined",
     "output_type": "error",
     "traceback": [
      "\u001b[0;31m---------------------------------------------------------------------------\u001b[0m",
      "\u001b[0;31mNameError\u001b[0m                                 Traceback (most recent call last)",
      "\u001b[0;32m<timed exec>\u001b[0m in \u001b[0;36m<module>\u001b[0;34m\u001b[0m\n",
      "\u001b[0;31mNameError\u001b[0m: name 'data' is not defined"
     ]
    }
   ],
   "source": [
    "%%time\n",
    "# Perform true bootstrap\n",
    "real_boot_mean_dist_2 = np.zeros(num_boot)\n",
    "real_boot_var_dist_2 = np.zeros(num_boot)\n",
    "real_boot_corr_dist_2 = np.zeros(num_boot)\n",
    "\n",
    "for boot in range(num_boot):\n",
    "    \n",
    "    boot_idx = np.random.choice(data_1.shape[0], data_1.shape[0])\n",
    "    res1 = estimator._hyper_1d(sparse_data_1[boot_idx], data_1.shape[0], size_factor=size_factor[boot_idx], q=q)\n",
    "    res2 = estimator._hyper_1d(sparse_data_2[boot_idx], data_2.shape[0], size_factor=size_factor[boot_idx], q=q)\n",
    "    cov = estimator._hyper_cov(\n",
    "        sp.sparse.hstack([sparse_data_1[boot_idx], sparse_data_2[boot_idx]], format='csr'), data_2.shape[0], size_factor=size_factor[boot_idx], q=q,\n",
    "        idx1= np.array([0]), idx2=np.array([0]))\n",
    "    \n",
    "    real_boot_mean_dist_2[boot] = res1[0][0]\n",
    "    real_boot_var_dist_2[boot] = res1[1][0]/res1[0][0]**2\n",
    "    real_boot_corr_dist_2[boot] = cov[0]/np.sqrt(res1[1][0]*res2[1][0])"
   ]
  },
  {
   "cell_type": "code",
   "execution_count": 39,
   "metadata": {},
   "outputs": [
    {
     "name": "stdout",
     "output_type": "stream",
     "text": [
      "10\n",
      "20\n",
      "30\n",
      "40\n",
      "50\n",
      "60\n",
      "70\n",
      "80\n",
      "90\n",
      "CPU times: user 1min 3s, sys: 8.57 s, total: 1min 12s\n",
      "Wall time: 1min 12s\n"
     ]
    }
   ],
   "source": [
    "%%time\n",
    "# imp.reload(bootstrap)\n",
    "num_bins_list = [1] + list(range(10, 100, 10))\n",
    "approx_boot_dists = []\n",
    "num_trial = 10\n",
    "\n",
    "emd_stats = []\n",
    "\n",
    "\n",
    "for num_bins in num_bins_list:\n",
    "    \n",
    "    if num_bins % 10 == 0:\n",
    "        print(num_bins)\n",
    "    \n",
    "    binned_stat = stats.binned_statistic(size_factor, size_factor, bins=num_bins, statistic='mean')\n",
    "    bin_idx = np.clip(binned_stat[2], a_min=1, a_max=binned_stat[0].shape[0])\n",
    "    approx_sf = binned_stat[0][bin_idx-1]\n",
    "    max_sf = size_factor.max()\n",
    "    approx_sf[size_factor == max_sf] = max_sf\n",
    "    \n",
    "    mean_emd_score = 0\n",
    "    var_emd_score = 0\n",
    "    corr_emd_score = 0\n",
    "    \n",
    "    for trial in range(num_trial):\n",
    "    \n",
    "        m1, v1 = memento.bootstrap._bootstrap_1d(\n",
    "            data=sparse_data_1,\n",
    "            size_factor=approx_sf, \n",
    "            num_boot=num_boot,\n",
    "            q=q,\n",
    "            _estimator_1d=memento.estimator._hyper_1d_relative)\n",
    "        \n",
    "        cov1, v1, v2 = memento.bootstrap._bootstrap_2d(\n",
    "            data=sp.sparse.hstack([sparse_data_1, sparse_data_2], format='csr'),\n",
    "            size_factor=approx_sf, \n",
    "            num_boot=num_boot,\n",
    "            q=q,\n",
    "            _estimator_1d=memento.estimator._hyper_1d_relative,\n",
    "            _estimator_cov=memento.estimator._hyper_cov_relative)\n",
    "        \n",
    "        mean_emd_score += stats.wasserstein_distance(np.log(real_boot_mean_dist), np.log(m1))\n",
    "        var_emd_score += stats.wasserstein_distance(np.log(real_boot_var_dist), np.log(v1/m1**2))\n",
    "        corr_emd_score += stats.wasserstein_distance(real_boot_corr_dist, cov1/np.sqrt(v1*v2))\n",
    "        \n",
    "    \n",
    "    emd_stats.append((mean_emd_score/num_trial, var_emd_score/num_trial, corr_emd_score/num_trial))"
   ]
  },
  {
   "cell_type": "code",
   "execution_count": 47,
   "metadata": {},
   "outputs": [
    {
     "data": {
      "image/png": "[encoded data removed]",
      "text/plain": [
       "<Figure size 144x144 with 1 Axes>"
      ]
     },
     "metadata": {
      "needs_background": "light"
     },
     "output_type": "display_data"
    }
   ],
   "source": [
    "params = {'legend.fontsize': 'small',\n",
    "         'axes.labelsize': 'medium',\n",
    "         'axes.titlesize':'medium',\n",
    "         'figure.titlesize':'medium',\n",
    "         'xtick.labelsize':'small',\n",
    "         'ytick.labelsize':'small'}\n",
    "pylab.rcParams.update(params)\n",
    "\n",
    "plt.figure(figsize=(2, 2))\n",
    "plt.plot(num_bins_list, [s[0] for s in emd_stats], '-o', ms=5)\n",
    "plt.plot(num_bins_list, [s[1] for s in emd_stats], '-o', ms=5)\n",
    "plt.plot(num_bins_list, [s[2] for s in emd_stats], '-o', ms=5)\n",
    "\n",
    "plt.xlabel('Number of bins'); plt.ylabel('Wasserstein distance')\n",
    "plt.legend(['Mean', 'res.var', 'correlation'])\n",
    "\n",
    "plt.savefig(fig_path + 'emd_rv.pdf', bbox_inches='tight')"
   ]
  },
  {
   "cell_type": "code",
   "execution_count": 44,
   "metadata": {},
   "outputs": [],
   "source": [
    "num_bins=60\n",
    "binned_stat = stats.binned_statistic(size_factor, size_factor, bins=num_bins, statistic='mean')\n",
    "bin_idx = np.clip(binned_stat[2], a_min=1, a_max=binned_stat[0].shape[0])\n",
    "approx_sf = binned_stat[0][bin_idx-1]\n",
    "max_sf = size_factor.max()\n",
    "approx_sf[size_factor == max_sf] = max_sf\n",
    "\n",
    "mean_emd_score = 0\n",
    "var_emd_score = 0\n",
    "corr_emd_score = 0\n",
    "\n",
    "m1, v1 = memento.bootstrap._bootstrap_1d(\n",
    "    data=sparse_data_1,\n",
    "    size_factor=approx_sf, \n",
    "    num_boot=num_boot,\n",
    "    q=q,\n",
    "    _estimator_1d=memento.estimator._hyper_1d_relative)\n",
    "\n",
    "cov1, v1, v2 = memento.bootstrap._bootstrap_2d(\n",
    "    data=sp.sparse.hstack([sparse_data_1, sparse_data_2], format='csr'),\n",
    "    size_factor=approx_sf, \n",
    "    num_boot=num_boot,\n",
    "    q=q,\n",
    "    _estimator_1d=memento.estimator._hyper_1d_relative,\n",
    "    _estimator_cov=memento.estimator._hyper_cov_relative)"
   ]
  },
  {
   "cell_type": "code",
   "execution_count": 46,
   "metadata": {},
   "outputs": [
    {
     "data": {
      "image/png": "[encoded data removed]",
      "text/plain": [
       "<Figure size 288x144 with 3 Axes>"
      ]
     },
     "metadata": {
      "needs_background": "light"
     },
     "output_type": "display_data"
    }
   ],
   "source": [
    "# sns.set_palette('Set2')\n",
    "params = {'legend.fontsize': 'small',\n",
    "         'axes.labelsize': 'small',\n",
    "         'axes.titlesize':'medium',\n",
    "         'figure.titlesize':'medium',\n",
    "         'xtick.labelsize':'xx-small',\n",
    "         'ytick.labelsize':'xx-small'}\n",
    "pylab.rcParams.update(params)\n",
    "\n",
    "# sns.reset_defaults()\n",
    "\n",
    "plt.figure(figsize=(4, 2))\n",
    "plt.subplots_adjust(wspace=0.3)\n",
    "\n",
    "plt.subplot(1, 3, 1)\n",
    "sns.distplot(np.log(real_boot_mean_dist), hist=False, kde_kws={'linewidth':2, 'color':'m'})\n",
    "sns.distplot(np.log(m1), hist=False, kde_kws={'linestyle':'--', 'linewidth':1.5, 'color':'c'})\n",
    "plt.xlabel('log(mean)')\n",
    "plt.ylabel('Density')\n",
    "\n",
    "plt.subplot(1, 3, 2)\n",
    "sns.distplot(np.log(real_boot_var_dist), hist=False, kde_kws={'linewidth':2, 'color':'m'}, label='True')\n",
    "sns.distplot(np.log(v1/m1**2), hist=False, kde_kws={'linestyle':'--', 'linewidth':1.5, 'color':'c'}, label='Approx')\n",
    "plt.legend(loc='upper center', ncol=2, bbox_to_anchor=(0.5,1.2), frameon=False)\n",
    "plt.xlabel('log(res.var)')\n",
    "\n",
    "plt.subplot(1, 3, 3)\n",
    "sns.distplot(real_boot_corr_dist, hist=False, kde_kws={'linewidth':2, 'color':'m'})\n",
    "sns.distplot(cov1/np.sqrt(v1*v2), hist=False, kde_kws={'linestyle':'--', 'linewidth':1.5, 'color':'c'})\n",
    "plt.xlabel('corr')\n",
    "# plt.xlim(-1, 1)\n",
    "\n",
    "plt.savefig(fig_path + 'approx_bootstrap_dist_rv.pdf', bbox_inches='tight')"
   ]
  },
  {
   "cell_type": "markdown",
   "metadata": {},
   "source": [
    "### Timing analysis with increasing cell numbers 1D"
   ]
  },
  {
   "cell_type": "code",
   "execution_count": 51,
   "metadata": {},
   "outputs": [
    {
     "name": "stdout",
     "output_type": "stream",
     "text": [
      "mean 1.9753069 dispersion 1.8052824161229057\n"
     ]
    }
   ],
   "source": [
    "# Generate cell sizes\n",
    "num_cells = 5000000\n",
    "cell_sizes = np.exp(stats.norm.rvs(11, 0.2, num_cells)).astype(int)\n",
    "\n",
    "# Generate true expression of a single gene\n",
    "mean = np.median(z_param[0])\n",
    "variance = np.median(z_param[1])\n",
    "dispersion = (variance - mean)/mean**2\n",
    "theta = 1/dispersion\n",
    "print('mean', mean, 'dispersion', dispersion)\n",
    "\n",
    "gaussian_variables = stats.multivariate_normal.rvs(cov=[[1, 0.5],[0.5, 1]], size=num_cells)\n",
    "uniform_variables = stats.norm.cdf(gaussian_variables, loc=0, scale=1)\n",
    "nbinom_variables = stats.nbinom.ppf(uniform_variables, *simulate.convert_params_nb(mean, theta))\n",
    "\n",
    "expr_1, expr_2 = nbinom_variables[:, 0], nbinom_variables[:, 1]\n",
    "expr = expr_1"
   ]
  },
  {
   "cell_type": "code",
   "execution_count": 52,
   "metadata": {},
   "outputs": [
    {
     "name": "stdout",
     "output_type": "stream",
     "text": [
      "unique count (9,)\n",
      "unique count (9,)\n"
     ]
    }
   ],
   "source": [
    "q = 0.07\n",
    "\n",
    "\n",
    "# Generate the observed distribution\n",
    "obs_expr_1 = stats.hypergeom.rvs(M=cell_sizes, n=expr_1.astype(int), N=(q*cell_sizes).astype(int))\n",
    "obs_expr_2 = stats.hypergeom.rvs(M=cell_sizes, n=expr_2.astype(int), N=(q*cell_sizes).astype(int))\n",
    "obs_expr = obs_expr_1\n",
    "\n",
    "obs_cell_sizes = (q*cell_sizes).astype(int)\n",
    "\n",
    "print('unique count', np.unique(obs_expr_1).shape)\n",
    "print('unique count', np.unique(obs_expr_2).shape)"
   ]
  },
  {
   "cell_type": "code",
   "execution_count": 699,
   "metadata": {},
   "outputs": [],
   "source": [
    "imp.reload(bootstrap)\n",
    "times = []\n",
    "boot_dists = []\n",
    "sample_count_list = np.logspace(2, 6, 10)\n",
    "for sample_count in sample_count_list:\n",
    "    \n",
    "    sample_idx = np.random.choice(num_cells, int(sample_count))\n",
    "    sampled_obs_expr = obs_expr[sample_idx]\n",
    "    sampled_obs_cell_sizes = obs_cell_sizes[sample_idx]\n",
    "    \n",
    "    size_factor = sampled_obs_cell_sizes\n",
    "    \n",
    "    # Compute approximate size factor\n",
    "    num_bins=60\n",
    "    binned_stat = stats.binned_statistic(size_factor, size_factor, bins=num_bins, statistic='mean')\n",
    "    bin_idx = np.clip(binned_stat[2], a_min=1, a_max=binned_stat[0].shape[0])\n",
    "    approx_sf = binned_stat[0][bin_idx-1]\n",
    "    max_sf = size_factor.max()\n",
    "    approx_sf[size_factor == max_sf] = max_sf\n",
    "    \n",
    "    data = sp.sparse.csc_matrix(sampled_obs_expr.reshape(-1, 1))\n",
    "    \n",
    "    times.append(bootstrap._bootstrap_1d(\n",
    "        data=data,\n",
    "        size_factor=approx_sf, \n",
    "        num_boot=10000,\n",
    "        q=q,\n",
    "        return_times=True))\n",
    "    boot_dists.append(bootstrap._bootstrap_1d(\n",
    "        data=data,\n",
    "        q=q,\n",
    "        size_factor=approx_sf, \n",
    "        num_boot=10000, \n",
    "        return_times=False))"
   ]
  },
  {
   "cell_type": "code",
   "execution_count": 700,
   "metadata": {},
   "outputs": [],
   "source": [
    "count_times = [i[1]-i[0] for i in times]\n",
    "boot_times = [i[2]-i[1] for i in times]\n",
    "all_times = [i[2]-i[0] for i in times]"
   ]
  },
  {
   "cell_type": "code",
   "execution_count": 701,
   "metadata": {},
   "outputs": [
    {
     "data": {
      "text/plain": [
       "[0.044315338134765625,\n",
       " 0.07053732872009277,\n",
       " 0.1139535903930664,\n",
       " 0.14073681831359863,\n",
       " 0.176743745803833,\n",
       " 0.21600079536437988,\n",
       " 0.2236480712890625,\n",
       " 0.2624223232269287,\n",
       " 0.3018481731414795,\n",
       " 0.4213569164276123]"
      ]
     },
     "execution_count": 701,
     "metadata": {},
     "output_type": "execute_result"
    }
   ],
   "source": [
    "all_times"
   ]
  },
  {
   "cell_type": "code",
   "execution_count": 702,
   "metadata": {},
   "outputs": [
    {
     "data": {
      "text/plain": [
       "Text(0, 0.5, 'Runtime (seconds)')"
      ]
     },
     "execution_count": 702,
     "metadata": {},
     "output_type": "execute_result"
    },
    {
     "data": {
      "image/png": "[encoded data removed]",
      "text/plain": [
       "<Figure size 200x200 with 1 Axes>"
      ]
     },
     "metadata": {},
     "output_type": "display_data"
    }
   ],
   "source": [
    "import matplotlib.pylab as pylab\n",
    "params = {'legend.fontsize': 'small',\n",
    "         'axes.labelsize': 'medium',\n",
    "         'axes.titlesize':'medium',\n",
    "         'figure.titlesize':'medium',\n",
    "         'xtick.labelsize':'small',\n",
    "         'ytick.labelsize':'small'}\n",
    "pylab.rcParams.update(params)\n",
    "plt.figure(figsize=(2, 2))\n",
    "\n",
    "plt.plot(sample_count_list/1e6, count_times, '-o', ms=3)\n",
    "plt.plot(sample_count_list/1e6, boot_times, '-o', ms=3)\n",
    "plt.plot(sample_count_list/1e6, all_times, '-o', ms=3)\n",
    "plt.legend(['count', 'boot', 'total'], loc='upper center', bbox_to_anchor=(0.5, 1.17), ncol=3, frameon=False, handletextpad=0.3, columnspacing=1)\n",
    "plt.gca().xaxis.set_major_locator(plt.MultipleLocator(0.3))\n",
    "plt.xlabel('Number of cells (millions)'); plt.ylabel('Runtime (seconds)')\n",
    "# plt.savefig(fig_path + 'bootstrap_runtime.pdf', bbox_inches='tight')"
   ]
  },
  {
   "cell_type": "markdown",
   "metadata": {},
   "source": [
    "### Confidence intervals"
   ]
  },
  {
   "cell_type": "code",
   "execution_count": 634,
   "metadata": {},
   "outputs": [
    {
     "data": {
      "text/plain": [
       "(2, 5000)"
      ]
     },
     "execution_count": 634,
     "metadata": {},
     "output_type": "execute_result"
    }
   ],
   "source": [
    "data_2d.shape"
   ]
  },
  {
   "cell_type": "code",
   "execution_count": 60,
   "metadata": {},
   "outputs": [],
   "source": [
    "true_mean_all_cells, true_var_all_cells = memento.estimator._hyper_1d_relative(\n",
    "    sp.sparse.csc_matrix(obs_expr.reshape(-1, 1)), \n",
    "    obs_expr.shape[0], size_factor=obs_cell_sizes, q=q)\n",
    "\n",
    "true_mean_all_cells_2, true_var_all_cells_2 = memento.estimator._hyper_1d_relative(\n",
    "    sp.sparse.csc_matrix(obs_expr_2.reshape(-1, 1)), \n",
    "    obs_expr.shape[0], size_factor=obs_cell_sizes, q=q)\n",
    "\n",
    "true_cov_all_cells = memento.estimator._hyper_cov_relative(\n",
    "    sp.sparse.csc_matrix(np.vstack([obs_expr_1, obs_expr_2]).T), \n",
    "    obs_expr.shape[0], size_factor=obs_cell_sizes, q=q,idx1= np.array([0]), idx2=np.array([1]))\n",
    "\n",
    "true_corr_all_cells = (true_cov_all_cells/np.sqrt(true_var_all_cells_2*true_var_all_cells))[0]"
   ]
  },
  {
   "cell_type": "code",
   "execution_count": 61,
   "metadata": {},
   "outputs": [],
   "source": [
    "# imp.reload(bootstrap)\n",
    "times = []\n",
    "boot_dists = []\n",
    "boot_dists_2d = []\n",
    "sample_count_list = [5000, 10000, 50000, 500000, 5000000]\n",
    "for sample_count in sample_count_list:\n",
    "    \n",
    "    sample_idx = np.random.choice(num_cells, int(sample_count))\n",
    "    sampled_obs_expr = obs_expr[sample_idx]\n",
    "    sampled_obs_cell_sizes = obs_cell_sizes[sample_idx]\n",
    "    \n",
    "    size_factor = sampled_obs_cell_sizes\n",
    "    \n",
    "    # Compute approximate size factor\n",
    "    num_bins=60\n",
    "    binned_stat = stats.binned_statistic(size_factor, size_factor, bins=num_bins, statistic='mean')\n",
    "    bin_idx = np.clip(binned_stat[2], a_min=1, a_max=binned_stat[0].shape[0])\n",
    "    approx_sf = binned_stat[0][bin_idx-1]\n",
    "    max_sf = size_factor.max()\n",
    "    approx_sf[size_factor == max_sf] = max_sf\n",
    "    \n",
    "    data = sp.sparse.csc_matrix(sampled_obs_expr.reshape(-1, 1))\n",
    "    data_2d = sp.sparse.csc_matrix(np.vstack([obs_expr_1[sample_idx], obs_expr_2[sample_idx]]).T)\n",
    "    \n",
    "    times.append(memento.bootstrap._bootstrap_1d(\n",
    "        data=data,\n",
    "        size_factor=approx_sf, \n",
    "        num_boot=10000,\n",
    "        q=q,\n",
    "        return_times=True,\n",
    "        _estimator_1d=memento.estimator._hyper_1d_relative))\n",
    "    boot_dists.append(memento.bootstrap._bootstrap_1d(\n",
    "        data=data,\n",
    "        q=q,\n",
    "        size_factor=approx_sf, \n",
    "        num_boot=10000, \n",
    "        return_times=False,\n",
    "        _estimator_1d=memento.estimator._hyper_1d_relative))\n",
    "    boot_dists_2d.append(memento.bootstrap._bootstrap_2d(\n",
    "        data=data_2d,\n",
    "        q=q,\n",
    "        size_factor=approx_sf,\n",
    "        num_boot=10000,\n",
    "        _estimator_1d=memento.estimator._hyper_1d_relative,\n",
    "        _estimator_cov=memento.estimator._hyper_cov_relative\n",
    "        ))"
   ]
  },
  {
   "cell_type": "code",
   "execution_count": 62,
   "metadata": {},
   "outputs": [
    {
     "data": {
      "image/png": "[encoded data removed]",
      "text/plain": [
       "<Figure size 432x144 with 3 Axes>"
      ]
     },
     "metadata": {
      "needs_background": "light"
     },
     "output_type": "display_data"
    }
   ],
   "source": [
    "labels = ['5k', '10k', '50k', '500k']\n",
    "params = {'legend.fontsize': 'small',\n",
    "         'axes.labelsize': 'small',\n",
    "         'axes.titlesize':'medium',\n",
    "         'figure.titlesize':'medium',\n",
    "         'xtick.labelsize':'x-small',\n",
    "         'ytick.labelsize':'x-small'}\n",
    "pylab.rcParams.update(params)\n",
    "\n",
    "plt.figure(figsize=(6, 2))\n",
    "plt.subplots_adjust(wspace=0.25)\n",
    "\n",
    "plt.subplot(1, 3, 1)\n",
    "for idx, sample_count in enumerate(sample_count_list[:-1]):\n",
    "    sns.distplot(np.log(boot_dists[idx][0]), hist=False)\n",
    "plt.plot([np.log(true_mean_all_cells), np.log(true_mean_all_cells)], [0, 110], color='k', lw=1, linestyle='--')\n",
    "plt.xlabel('log(mean)')\n",
    "plt.ylabel('Density')\n",
    "\n",
    "plt.subplot(1, 3, 2)\n",
    "for idx, sample_count in enumerate(sample_count_list[:-1]):\n",
    "    sns.distplot(np.log(boot_dists[idx][1]/boot_dists[idx][0]**2), hist=False, label=labels[idx])\n",
    "plt.plot([np.log(true_var_all_cells/true_mean_all_cells**2), np.log(true_var_all_cells/true_mean_all_cells**2)], [0, 30], color='k', lw=1, linestyle='--', label='True')\n",
    "plt.legend(ncol=5, loc='upper center', bbox_to_anchor=(0.5, 1.18), frameon=False)\n",
    "plt.xlabel('log(var)')\n",
    "\n",
    "\n",
    "plt.subplot(1, 3, 3)\n",
    "for idx, sample_count in enumerate(sample_count_list[:-1]):\n",
    "    sns.distplot(boot_dists_2d[idx][0]/(np.sqrt(boot_dists_2d[idx][1])*np.sqrt(boot_dists_2d[idx][2])), hist=False)\n",
    "plt.plot([true_corr_all_cells, true_corr_all_cells], [0, 55], color='k', lw=1, linestyle='--')\n",
    "plt.xlabel('corr')\n",
    "\n",
    "plt.savefig(fig_path + 'shrinking_bootstrap_dist_rv.pdf', bbox_inches='tight')"
   ]
  },
  {
   "cell_type": "markdown",
   "metadata": {},
   "source": [
    "### Validate the bootstrap outcomes for a single gene\n",
    "\n",
    "Check the mean of the bootstrap distributions for mean and variance"
   ]
  },
  {
   "cell_type": "code",
   "execution_count": 297,
   "metadata": {},
   "outputs": [],
   "source": [
    "true_data = simulate.simulate_transcriptomes(10000, 2000, correlated=False)\n",
    "qs, captured_data = simulate.capture_sampling(true_data, q=0.1, q_sq=0.011)\n",
    "adata = sc.AnnData(sp.sparse.csr_matrix(captured_data))\n",
    "adata.obs['ct'] = 'PBMC'"
   ]
  },
  {
   "cell_type": "code",
   "execution_count": 298,
   "metadata": {},
   "outputs": [],
   "source": [
    "# Calculate the point estimates\n",
    "size_factors = scdd.dd_size_factor(adata)\n",
    "Nr = adata.X.sum(axis=1).mean()\n",
    "_, M_dd = scdd.dd_1d_moment(adata, size_factor=size_factors, verbose=False, Nr=Nr)\n",
    "var_scdd = scdd.M_to_var(M_dd)"
   ]
  },
  {
   "cell_type": "code",
   "execution_count": 368,
   "metadata": {},
   "outputs": [
    {
     "name": "stdout",
     "output_type": "stream",
     "text": [
      "This gene has 59 unique counts.\n"
     ]
    }
   ],
   "source": [
    "# Get info for a single gene\n",
    "gene_idx = 9\n",
    "\n",
    "data = adata.X[:, gene_idx].todense().A1\n",
    "sparse_data = adata.X[:, gene_idx]\n",
    "all_sf = size_factors\n",
    "normalized_data = data/all_sf/Nr\n",
    "unique_count = np.unique(data).shape[0]\n",
    "num_boot = 50000\n",
    "print('This gene has {} unique counts.'.format(unique_count))"
   ]
  },
  {
   "cell_type": "code",
   "execution_count": 369,
   "metadata": {},
   "outputs": [
    {
     "data": {
      "text/plain": [
       "(array([ 428., 2016., 2990., 2301., 1339.,  615.,  207.,   69.,   26.,\n",
       "           9.]),\n",
       " array([ 1. ,  7.2, 13.4, 19.6, 25.8, 32. , 38.2, 44.4, 50.6, 56.8, 63. ],\n",
       "       dtype=float32),\n",
       " <a list of 10 Patch objects>)"
      ]
     },
     "execution_count": 369,
     "metadata": {},
     "output_type": "execute_result"
    },
    {
     "data": {
      "image/png": "[encoded data removed]",
      "text/plain": [
       "<Figure size 432x288 with 1 Axes>"
      ]
     },
     "metadata": {
      "needs_background": "light"
     },
     "output_type": "display_data"
    }
   ],
   "source": [
    "plt.hist(data)"
   ]
  },
  {
   "cell_type": "code",
   "execution_count": 370,
   "metadata": {},
   "outputs": [
    {
     "name": "stdout",
     "output_type": "stream",
     "text": [
      "CPU times: user 38.8 s, sys: 0 ns, total: 38.8 s\n",
      "Wall time: 38.8 s\n"
     ]
    }
   ],
   "source": [
    "%%time\n",
    "# Perform true bootstrap\n",
    "real_boot_mean_dist = np.zeros(num_boot)\n",
    "real_boot_var_dist = np.zeros(num_boot)\n",
    "for boot in range(num_boot):\n",
    "    \n",
    "    boot_idx = np.random.choice(data.shape[0], data.shape[0])\n",
    "    res = estimator._poisson_1d(sparse_data[boot_idx], data.shape[0], size_factor=all_sf[boot_idx], n_umi=Nr)\n",
    "    real_boot_mean_dist[boot] = res[0][0]\n",
    "    real_boot_var_dist[boot] = res[1][0]"
   ]
  },
  {
   "cell_type": "code",
   "execution_count": 371,
   "metadata": {},
   "outputs": [
    {
     "name": "stdout",
     "output_type": "stream",
     "text": [
      "CPU times: user 3.99 s, sys: 1.25 s, total: 5.24 s\n",
      "Wall time: 5.24 s\n"
     ]
    }
   ],
   "source": [
    "%%time\n",
    "imp.reload(bootstrap)\n",
    "num_bins_list = [5, 10, 30, 60]\n",
    "approx_boot_dists = []\n",
    "for num_bins in num_bins_list:\n",
    "\n",
    "    approx_boot_dists.append(bootstrap._bootstrap_1d(\n",
    "        data=sparse_data,\n",
    "        size_factor=all_sf, \n",
    "        true_mean=M_dd[0][gene_idx], \n",
    "        true_var=var_scdd[gene_idx], \n",
    "        num_boot=num_boot, \n",
    "        n_umi=Nr, \n",
    "        log=False,\n",
    "        bins=num_bins))  "
   ]
  },
  {
   "cell_type": "code",
   "execution_count": 380,
   "metadata": {},
   "outputs": [
    {
     "data": {
      "image/png": "[encoded data removed]",
      "text/plain": [
       "<Figure size 165.6x144 with 1 Axes>"
      ]
     },
     "metadata": {
      "needs_background": "light"
     },
     "output_type": "display_data"
    },
    {
     "data": {
      "image/png": "[encoded data removed]",
      "text/plain": [
       "<Figure size 55.2x48 with 1 Axes>"
      ]
     },
     "metadata": {
      "needs_background": "light"
     },
     "output_type": "display_data"
    }
   ],
   "source": [
    "plt.figure(figsize=(2.3, 2))\n",
    "\n",
    "for idx, num_bins in enumerate(num_bins_list):\n",
    "    plt.scatter(\n",
    "        np.quantile(np.sort(real_boot_var_dist), np.linspace(0, 1, 1000)),\n",
    "        np.quantile(np.sort(approx_boot_dists[idx][1]), np.linspace(0, 1, 1000)),\n",
    "        label='{} bins'.format(num_bins),\n",
    "        s=0.1,\n",
    "    )\n",
    "\n",
    "plt.plot(np.sort(real_boot_var_dist), np.sort(real_boot_var_dist), lw=1, color='k')\n",
    "plt.xlim(real_boot_var_dist.min(), real_boot_var_dist.max())\n",
    "plt.ylim(real_boot_var_dist.min(), real_boot_var_dist.max())\n",
    "plt.legend()\n",
    "plt.ylabel('Approximate bootstrap'); plt.xlabel('True bootstrap');\n",
    "plt.savefig(fig_path + 'bootstrap_ecdf_var_large.pdf', bbox_inches='tight')\n",
    "\n",
    "plt.figure(figsize=(2.3/3, 2/3))\n",
    "\n",
    "for idx, num_bins in enumerate(num_bins_list):\n",
    "    plt.scatter(\n",
    "        np.quantile(np.sort(real_boot_var_dist), np.linspace(0, 1, 1000)),\n",
    "        np.quantile(np.sort(approx_boot_dists[idx][1]), np.linspace(0, 1, 1000)),\n",
    "        label='{} bins'.format(num_bins),\n",
    "        s=1,\n",
    "    )\n",
    "plt.plot(np.sort(real_boot_var_dist), np.sort(real_boot_var_dist), lw=1, color='k')\n",
    "\n",
    "plt.xlim(2.9e-7, 3.2e-7);\n",
    "plt.ylim(2.9e-7, 3.2e-7)\n",
    "plt.savefig(fig_path + 'bootstrap_ecdf_var_small.pdf', bbox_inches='tight')\n"
   ]
  },
  {
   "cell_type": "markdown",
   "metadata": {},
   "source": [
    "### Validate the bootstrap outcomes for a single pair of genes\n",
    "\n",
    "Check the mean of the bootstrap distributions for correlation"
   ]
  },
  {
   "cell_type": "code",
   "execution_count": 204,
   "metadata": {},
   "outputs": [],
   "source": [
    "true_data = simulate.simulate_transcriptomes(10000, 2000, correlated=True)\n",
    "qs, captured_data = simulate.capture_sampling(true_data, q=0.1, q_sq=0.011)\n",
    "adata = sc.AnnData(sp.sparse.csr_matrix(captured_data))\n",
    "adata.obs['ct'] = 'PBMC'"
   ]
  },
  {
   "cell_type": "code",
   "execution_count": 268,
   "metadata": {},
   "outputs": [
    {
     "name": "stdout",
     "output_type": "stream",
     "text": [
      "This gene has 303 unique counts.\n"
     ]
    }
   ],
   "source": [
    "# Get info for a single pair of gene\n",
    "gene_idx_1 = 0\n",
    "gene_idx_2 = 3\n",
    "gene_idxs = [gene_idx_1, gene_idx_2]\n",
    "\n",
    "data = adata.X[:, gene_idxs].toarray()\n",
    "sparse_data = adata.X[:, gene_idxs]\n",
    "all_sf = size_factors\n",
    "normalized_data = data/all_sf.reshape(-1, 1)/Nr\n",
    "unique_count = np.unique(data, axis=0).shape[0]\n",
    "num_boot = 10000\n",
    "print('This gene has {} unique counts.'.format(unique_count))"
   ]
  },
  {
   "cell_type": "code",
   "execution_count": 269,
   "metadata": {},
   "outputs": [
    {
     "data": {
      "text/plain": [
       "(8,)"
      ]
     },
     "execution_count": 269,
     "metadata": {},
     "output_type": "execute_result"
    }
   ],
   "source": [
    "np.unique(data[:, 0]).shape"
   ]
  },
  {
   "cell_type": "code",
   "execution_count": 270,
   "metadata": {},
   "outputs": [
    {
     "data": {
      "text/plain": [
       "(90,)"
      ]
     },
     "execution_count": 270,
     "metadata": {},
     "output_type": "execute_result"
    }
   ],
   "source": [
    "np.unique(data[:, 1]).shape"
   ]
  },
  {
   "cell_type": "code",
   "execution_count": 271,
   "metadata": {},
   "outputs": [],
   "source": [
    "# Calculate the point estimates\n",
    "size_factors = scdd.dd_size_factor(adata)\n",
    "Nr = adata.X.sum(axis=1).mean()\n",
    "true_mean, true_var = estimator._poisson_1d(sparse_data, data.shape[0], size_factor=all_sf, n_umi=Nr)\n",
    "true_cov = estimator._poisson_cov(sparse_data, data.shape[0], size_factor=all_sf, n_umi=Nr)[0, 1]\n",
    "true_corr = true_cov/np.sqrt(true_var[0]*true_var[1])"
   ]
  },
  {
   "cell_type": "code",
   "execution_count": 272,
   "metadata": {},
   "outputs": [
    {
     "name": "stdout",
     "output_type": "stream",
     "text": [
      "CPU times: user 43 s, sys: 1.86 ms, total: 43 s\n",
      "Wall time: 43 s\n"
     ]
    }
   ],
   "source": [
    "%%time\n",
    "# Perform true bootstrap\n",
    "imp.reload(estimator)\n",
    "real_boot_corr_dist = np.zeros(num_boot)\n",
    "real_boot_cov_dist = np.zeros(num_boot)\n",
    "\n",
    "for boot in range(num_boot):\n",
    "    \n",
    "    boot_idx = np.random.choice(data.shape[0], data.shape[0])\n",
    "    boot_mean, boot_var = estimator._poisson_1d(sparse_data[boot_idx], data.shape[0], size_factor=all_sf[boot_idx], n_umi=Nr)\n",
    "    cov = estimator._poisson_cov(sparse_data[boot_idx], data.shape[0], size_factor=all_sf[boot_idx], n_umi=Nr)[1, 0]\n",
    "    real_boot_corr_dist[boot] = estimator._corr_from_cov(cov, boot_var[0], boot_var[1])\n",
    "    real_boot_cov_dist[boot] = cov"
   ]
  },
  {
   "cell_type": "code",
   "execution_count": 292,
   "metadata": {},
   "outputs": [
    {
     "name": "stdout",
     "output_type": "stream",
     "text": [
      "CPU times: user 4.37 s, sys: 1.82 s, total: 6.2 s\n",
      "Wall time: 6.19 s\n"
     ]
    }
   ],
   "source": [
    "%%time\n",
    "imp.reload(bootstrap)\n",
    "num_bins_list = [1, 5, 10, 90, 100]\n",
    "approx_boot_dists = []\n",
    "for num_bins in num_bins_list:\n",
    "\n",
    "    approx_boot_dists.append(bootstrap._bootstrap_2d(\n",
    "        data=sparse_data,\n",
    "        size_factor=all_sf,\n",
    "        true_cov=true_cov,\n",
    "        true_corr=true_corr,\n",
    "        num_boot=num_boot, \n",
    "        n_umi=Nr, \n",
    "        bins=num_bins))  \n"
   ]
  },
  {
   "cell_type": "markdown",
   "metadata": {},
   "source": [
    "### Test distributions of test statistics"
   ]
  },
  {
   "cell_type": "code",
   "execution_count": 84,
   "metadata": {
    "tags": []
   },
   "outputs": [],
   "source": [
    "num_bins=60\n",
    "binned_stat = stats.binned_statistic(size_factor, size_factor, bins=num_bins, statistic='mean')\n",
    "bin_idx = np.clip(binned_stat[2], a_min=1, a_max=binned_stat[0].shape[0])\n",
    "approx_sf = binned_stat[0][bin_idx-1]\n",
    "max_sf = size_factor.max()\n",
    "approx_sf[size_factor == max_sf] = max_sf\n",
    "\n",
    "mean_emd_score = 0\n",
    "var_emd_score = 0\n",
    "corr_emd_score = 0\n",
    "\n",
    "m1, v1 = memento.bootstrap._bootstrap_1d(\n",
    "    data=sparse_data_1,\n",
    "    size_factor=approx_sf, \n",
    "    num_boot=num_boot,\n",
    "    q=q,\n",
    "    _estimator_1d=memento.estimator._hyper_1d_relative)\n",
    "\n",
    "m1_1, v1_1 = memento.bootstrap._bootstrap_1d(\n",
    "    data=sparse_data_1,\n",
    "    size_factor=approx_sf, \n",
    "    num_boot=num_boot,\n",
    "    q=q,\n",
    "    _estimator_1d=memento.estimator._hyper_1d_relative)\n",
    "\n",
    "m2, v2 = memento.bootstrap._bootstrap_1d(\n",
    "    data=sparse_data_2,\n",
    "    size_factor=approx_sf, \n",
    "    num_boot=num_boot,\n",
    "    q=q,\n",
    "    _estimator_1d=memento.estimator._hyper_1d_relative)\n",
    "\n",
    "m3, v3 = memento.bootstrap._bootstrap_1d(\n",
    "    data=sparse_data_3,\n",
    "    size_factor=approx_sf, \n",
    "    num_boot=num_boot,\n",
    "    q=q,\n",
    "    _estimator_1d=memento.estimator._hyper_1d_relative)\n",
    "\n",
    "m1 = np.log(m1)\n",
    "m2 = np.log(m2)\n",
    "m3 = np.log(m3)\n",
    "v1 = np.log(v1)\n",
    "v2 = np.log(v2)\n",
    "v3 = np.log(v3)"
   ]
  },
  {
   "cell_type": "code",
   "execution_count": 85,
   "metadata": {},
   "outputs": [],
   "source": [
    "m_diff = m2-m1\n",
    "v_diff = v2-v1\n",
    "m_range = np.vstack([m1, m2, m3]).max(axis=0) - np.vstack([m1, m2, m3]).min(axis=0)\n",
    "v_range = np.vstack([v1, v2, v3]).max(axis=0) - np.vstack([v1, v2, v3]).min(axis=0)"
   ]
  },
  {
   "cell_type": "code",
   "execution_count": 86,
   "metadata": {},
   "outputs": [
    {
     "data": {
      "text/plain": [
       "<AxesSubplot:ylabel='Density'>"
      ]
     },
     "execution_count": 86,
     "metadata": {},
     "output_type": "execute_result"
    },
    {
     "data": {
      "image/png": "[encoded data removed]",
      "text/plain": [
       "<Figure size 432x288 with 1 Axes>"
      ]
     },
     "metadata": {
      "needs_background": "light"
     },
     "output_type": "display_data"
    }
   ],
   "source": [
    "sns.kdeplot(m_range)"
   ]
  },
  {
   "cell_type": "code",
   "execution_count": 87,
   "metadata": {},
   "outputs": [],
   "source": [
    "from statsmodels.graphics.gofplots import qqplot\n"
   ]
  },
  {
   "cell_type": "code",
   "execution_count": 92,
   "metadata": {},
   "outputs": [
    {
     "data": {
      "text/plain": [
       "AndersonResult(statistic=0.47849126894652727, critical_values=array([0.576, 0.656, 0.787, 0.918, 1.092]), significance_level=array([15. , 10. ,  5. ,  2.5,  1. ]))"
      ]
     },
     "execution_count": 92,
     "metadata": {},
     "output_type": "execute_result"
    }
   ],
   "source": [
    "stats.anderson(v_diff)"
   ]
  },
  {
   "cell_type": "code",
   "execution_count": 93,
   "metadata": {},
   "outputs": [
    {
     "data": {
      "image/png": "[encoded data removed]",
      "text/plain": [
       "<Figure size 432x288 with 1 Axes>"
      ]
     },
     "metadata": {
      "needs_background": "light"
     },
     "output_type": "display_data"
    }
   ],
   "source": [
    "qqplot(v_diff, line='s', lw=1)\n",
    "plt.show()"
   ]
  },
  {
   "cell_type": "code",
   "execution_count": 97,
   "metadata": {},
   "outputs": [
    {
     "data": {
      "text/plain": [
       "array([-7.44253227, -7.4219523 , -7.43075691, ..., -7.41151899,\n",
       "       -7.42401646, -7.4435877 ])"
      ]
     },
     "execution_count": 97,
     "metadata": {},
     "output_type": "execute_result"
    }
   ],
   "source": [
    "m1"
   ]
  },
  {
   "cell_type": "code",
   "execution_count": 98,
   "metadata": {},
   "outputs": [],
   "source": [
    "b = np.vstack([m1, m2, m3])"
   ]
  },
  {
   "cell_type": "code",
   "execution_count": 100,
   "metadata": {},
   "outputs": [],
   "source": [
    "n = np.array([1, 2, 1])"
   ]
  },
  {
   "cell_type": "code",
   "execution_count": 104,
   "metadata": {},
   "outputs": [
    {
     "data": {
      "text/plain": [
       "array([[ -7.44253227,  -7.4219523 ,  -7.43075691, ...,  -7.41151899,\n",
       "         -7.42401646,  -7.4435877 ],\n",
       "       [-16.33909126, -16.26095009, -16.38642331, ..., -16.38141814,\n",
       "        -16.3172283 , -16.29261013],\n",
       "       [ -9.48670317,  -9.54784477,  -9.54906674, ...,  -9.3947035 ,\n",
       "         -9.48812475,  -9.47471325]])"
      ]
     },
     "execution_count": 104,
     "metadata": {},
     "output_type": "execute_result"
    }
   ],
   "source": [
    "b * n.reshape(-1, 1)"
   ]
  },
  {
   "cell_type": "code",
   "execution_count": 103,
   "metadata": {},
   "outputs": [
    {
     "data": {
      "text/plain": [
       "array([[-7.44253227, -7.4219523 , -7.43075691, ..., -7.41151899,\n",
       "        -7.42401646, -7.4435877 ],\n",
       "       [-8.16954563, -8.13047505, -8.19321165, ..., -8.19070907,\n",
       "        -8.15861415, -8.14630506],\n",
       "       [-9.48670317, -9.54784477, -9.54906674, ..., -9.3947035 ,\n",
       "        -9.48812475, -9.47471325]])"
      ]
     },
     "execution_count": 103,
     "metadata": {},
     "output_type": "execute_result"
    }
   ],
   "source": [
    "b"
   ]
  },
  {
   "cell_type": "code",
   "execution_count": 96,
   "metadata": {},
   "outputs": [
    {
     "name": "stderr",
     "output_type": "stream",
     "text": [
      "/home/ssm-user/anaconda3/envs/single_cell/lib/python3.8/site-packages/seaborn/distributions.py:2557: FutureWarning: `distplot` is a deprecated function and will be removed in a future version. Please adapt your code to use either `displot` (a figure-level function with similar flexibility) or `histplot` (an axes-level function for histograms).\n",
      "  warnings.warn(msg, FutureWarning)\n"
     ]
    },
    {
     "data": {
      "text/plain": [
       "<AxesSubplot:ylabel='Density'>"
      ]
     },
     "execution_count": 96,
     "metadata": {},
     "output_type": "execute_result"
    },
    {
     "data": {
      "image/png": "[encoded data removed]",
      "text/plain": [
       "<Figure size 432x288 with 1 Axes>"
      ]
     },
     "metadata": {
      "needs_background": "light"
     },
     "output_type": "display_data"
    }
   ],
   "source": [
    "sns.distplot(v_range)"
   ]
  },
  {
   "cell_type": "code",
   "execution_count": null,
   "metadata": {},
   "outputs": [],
   "source": []
  }
 ],
 "metadata": {
  "kernelspec": {
   "display_name": "mementocxg",
   "language": "python",
   "name": "myenv"
  },
  "language_info": {
   "codemirror_mode": {
    "name": "ipython",
    "version": 3
   },
   "file_extension": ".py",
   "mimetype": "text/x-python",
   "name": "python",
   "nbconvert_exporter": "python",
   "pygments_lexer": "ipython3",
   "version": "3.11.5"
  }
 },
 "nbformat": 4,
 "nbformat_minor": 4
}
