{
 "cells": [
  {
   "cell_type": "markdown",
   "id": "2afb43fe-272b-4370-a84d-dba5bd738d13",
   "metadata": {},
   "source": [
    "# Comparing simulation output for variance estimation"
   ]
  },
  {
   "cell_type": "code",
   "execution_count": 1,
   "id": "68e7bf97-becd-40d6-9aa2-ad971ec8c8d3",
   "metadata": {
    "tags": []
   },
   "outputs": [
    {
     "name": "stderr",
     "output_type": "stream",
     "text": [
      "/tmp/ipykernel_30310/1976549207.py:13: DeprecationWarning: the imp module is deprecated in favour of importlib and slated for removal in Python 3.12; see the module's documentation for alternative uses\n",
      "  import imp\n"
     ]
    }
   ],
   "source": [
    "import pandas as pd\n",
    "import matplotlib.pyplot as plt\n",
    "import scanpy as sc\n",
    "import scipy as sp\n",
    "import scipy.sparse as sparse\n",
    "import itertools\n",
    "import numpy as np\n",
    "import scipy.stats as stats\n",
    "from scipy.special import kl_div\n",
    "from scipy.integrate import dblquad\n",
    "import seaborn as sns\n",
    "from statsmodels.stats.multitest import fdrcorrection\n",
    "import imp\n",
    "pd.options.display.max_rows = 999\n",
    "pd.set_option('display.max_colwidth', 100)\n",
    "import pickle as pkl\n",
    "import time"
   ]
  },
  {
   "cell_type": "code",
   "execution_count": 2,
   "id": "10e5d2c2-5441-494c-9593-38b970fcd1a8",
   "metadata": {
    "tags": []
   },
   "outputs": [],
   "source": [
    "import matplotlib as mpl\n",
    "mpl.rcParams['pdf.fonttype'] = 42\n",
    "mpl.rcParams['ps.fonttype'] = 42\n",
    "\n",
    "import matplotlib.pylab as pylab\n",
    "params = {'legend.fontsize': 'small',\n",
    "         'axes.labelsize': 'medium',\n",
    "         'axes.titlesize':'medium',\n",
    "         'figure.titlesize':'medium',\n",
    "         'xtick.labelsize':'medium',\n",
    "         'ytick.labelsize':'medium'}\n",
    "pylab.rcParams.update(params)\n"
   ]
  },
  {
   "cell_type": "code",
   "execution_count": 3,
   "id": "3567541f-85be-490b-a1ef-3b12d5cba25a",
   "metadata": {
    "tags": []
   },
   "outputs": [],
   "source": [
    "import sys\n",
    "sys.path.append('/home/ubuntu/Github/memento/')\n",
    "import memento\n",
    "import memento.auxillary.simulate as simulate"
   ]
  },
  {
   "cell_type": "code",
   "execution_count": 4,
   "id": "d0c05f75-a67a-4e90-ba49-f1c799056fc6",
   "metadata": {
    "tags": []
   },
   "outputs": [],
   "source": [
    "data_path = '/home/ubuntu/Data/'\n",
    "cell_type = 'CD4 T cells - ctrl'\n"
   ]
  },
  {
   "cell_type": "code",
   "execution_count": 5,
   "id": "668284d2-c172-432d-8cc2-3ac85024ac69",
   "metadata": {
    "tags": []
   },
   "outputs": [],
   "source": [
    "%load_ext autoreload"
   ]
  },
  {
   "cell_type": "code",
   "execution_count": 6,
   "id": "2a7312f9-27d9-4029-ae0f-a92d610f5e45",
   "metadata": {
    "tags": []
   },
   "outputs": [],
   "source": [
    "%autoreload 2"
   ]
  },
  {
   "cell_type": "markdown",
   "id": "ef3747c0-a877-4463-ad5c-7f36fbb6120c",
   "metadata": {},
   "source": [
    "### Pick genes"
   ]
  },
  {
   "cell_type": "code",
   "execution_count": 7,
   "id": "c9b39d8a-c82d-4a45-b61c-db3ffc2a3c9d",
   "metadata": {
    "tags": []
   },
   "outputs": [],
   "source": [
    "def get_simulation_parameters(q=0.07):\n",
    "    \"\"\" Extracts simulation parameters. \"\"\"\n",
    "    \n",
    "    adata = sc.read(data_path + 'interferon_filtered.h5ad')\n",
    "    adata = adata[adata.obs.cell_type == cell_type]\n",
    "    data = adata.X.copy()\n",
    "    relative_data = data.toarray()/data.sum(axis=1)\n",
    "    \n",
    "    x_param, z_param, Nc, good_idx = simulate.extract_parameters(adata.X, q=q, min_mean=0.01)\n",
    "    \n",
    "    return x_param, z_param, Nc"
   ]
  },
  {
   "cell_type": "code",
   "execution_count": 8,
   "id": "dbcda28c-7f14-40f1-846f-a72d513ec6e6",
   "metadata": {
    "tags": []
   },
   "outputs": [
    {
     "name": "stderr",
     "output_type": "stream",
     "text": [
      "/home/ubuntu/anaconda3/envs/mementocxg/lib/python3.11/site-packages/anndata/__init__.py:51: FutureWarning: `anndata.read` is deprecated, use `anndata.read_h5ad` instead. `ad.read` will be removed in mid 2024.\n",
      "  warnings.warn(\n"
     ]
    }
   ],
   "source": [
    "x_param, z_param, Nc = get_simulation_parameters(q=0.07)"
   ]
  },
  {
   "cell_type": "code",
   "execution_count": 9,
   "id": "e335be84-bba6-4c84-ae4e-26323c48124f",
   "metadata": {
    "tags": []
   },
   "outputs": [],
   "source": [
    "# Pick top 500 genes in terms of expression\n",
    "selected_idxs = np.argsort(x_param[0])[-500:]"
   ]
  },
  {
   "cell_type": "markdown",
   "id": "6d552222-fcdf-4fea-ae86-bd670ffca0db",
   "metadata": {},
   "source": [
    "### Calculate concordances"
   ]
  },
  {
   "cell_type": "code",
   "execution_count": 10,
   "id": "e8dddacb-7974-43c5-833d-48e236abf996",
   "metadata": {
    "tags": []
   },
   "outputs": [],
   "source": [
    "def concordance(x, y, mask, log=True):\n",
    "    \n",
    "    cond = mask\n",
    "\n",
    "    if log:\n",
    "        a = np.log(x[cond])\n",
    "        b = np.log(y[cond])\n",
    "    else:\n",
    "        a = x[cond]\n",
    "        b = y[cond]\n",
    "\n",
    "    cmat = np.cov(a, b)\n",
    "    return cond.sum(), 2*cmat[0,1]/(cmat[0,0] + cmat[1,1] + (a.mean()-b.mean())**2)"
   ]
  },
  {
   "cell_type": "code",
   "execution_count": 11,
   "id": "e40f8133-5b02-4de0-9db8-9be27e356753",
   "metadata": {
    "tags": []
   },
   "outputs": [],
   "source": [
    "variances = np.load(data_path + 'simulation/variance/simulation_variances.npz')['means']\n",
    "meta = pd.read_csv(data_path + 'simulation/variance/simulation_metadata.csv')\n",
    "\n",
    "# OPTIONAL - filter genes for comparison\n",
    "# variances = variances[:, selected_idxs]\n",
    "gene_names = [f'gene_{i}' for i in range(variances.shape[1])]\n",
    "\n",
    "estimates_df = pd.concat([\n",
    "    meta, \n",
    "    pd.DataFrame(variances, columns=gene_names)],\n",
    "    axis=1)"
   ]
  },
  {
   "cell_type": "code",
   "execution_count": 12,
   "id": "be31e6bb-93bb-4406-ae4c-9747e038457a",
   "metadata": {
    "tags": []
   },
   "outputs": [],
   "source": [
    "concordances = []\n",
    "for name, group in estimates_df.groupby(['q', 'num_cell', 'trial']):\n",
    "    methods = group['method']\n",
    "    q, num_cell, trial = name\n",
    "    indices = np.all((group[gene_names].values > 0), axis=0)\n",
    "    for idx, method in enumerate(methods):\n",
    "    \n",
    "        estimates = group[gene_names].values[idx]\n",
    "        \n",
    "        num_genes_used, c = concordance(estimates, group[gene_names].values[0], indices)\n",
    "\n",
    "        concordances.append((\n",
    "            q,\n",
    "            num_cell, \n",
    "            trial,\n",
    "            method,\n",
    "            num_genes_used,\n",
    "            c\n",
    "        ))\n",
    "    \n",
    "results = pd.DataFrame(concordances, columns=['q', 'num_cell', 'trial', 'method','num_valid_genes',  'concordance'])"
   ]
  },
  {
   "cell_type": "code",
   "execution_count": 13,
   "id": "6c652e24-25a5-4b0e-90ad-d4fcf3769116",
   "metadata": {
    "tags": []
   },
   "outputs": [],
   "source": [
    "def plot_curve(x, y, data, ax, marker, color, markersize, linestyle='-', label=''):\n",
    "    \n",
    "    agg_data = data.groupby(x)[y].agg(['mean', 'std'])\n",
    "    x_data = agg_data.index\n",
    "    y_data = agg_data['mean'].values\n",
    "    y_err = agg_data['std']*3\n",
    "    \n",
    "    ax.plot(x_data, y_data, marker=marker, color=color, markersize=markersize, linestyle=linestyle, label=label)\n",
    "    ax.fill_between(x_data, y_data-y_err, y_data+y_err, alpha=0.4, color=color)"
   ]
  },
  {
   "cell_type": "code",
   "execution_count": 14,
   "id": "d7fc34f1-cae4-4f41-a92b-c341af3500cb",
   "metadata": {
    "tags": []
   },
   "outputs": [
    {
     "data": {
      "text/plain": [
       "<matplotlib.legend.Legend at 0x7fdd42750190>"
      ]
     },
     "execution_count": 14,
     "metadata": {},
     "output_type": "execute_result"
    },
    {
     "data": {
      "image/png": "[encoded data removed]",
      "text/plain": [
       "<Figure size 250x200 with 1 Axes>"
      ]
     },
     "metadata": {},
     "output_type": "display_data"
    }
   ],
   "source": [
    "fig, ax = plt.subplots(figsize=(2.5,2))\n",
    "\n",
    "num_cell_to_show = 100\n",
    "q_limit=0.6\n",
    "\n",
    "plot_curve('q', 'concordance', \n",
    "           data=results\\\n",
    "            .query(f'num_cell == {num_cell_to_show}')\\\n",
    "            .query('method == \"hypergeometric\"')\\\n",
    "            .query(f'q < {q_limit}') ,\n",
    "           ax=ax, \n",
    "           color='turquoise',\n",
    "           marker='o', \n",
    "           markersize=5,\n",
    "           label='memento')\n",
    "\n",
    "plot_curve('q', 'concordance', \n",
    "           data=results\\\n",
    "            .query(f'num_cell == {num_cell_to_show}')\\\n",
    "            .query('method == \"poisson\"')\\\n",
    "            .query(f'q < {q_limit}') ,\n",
    "           ax=ax, \n",
    "           color='gray', \n",
    "           marker=\"s\", \n",
    "           markersize=5,\n",
    "           label='Poisson')\n",
    "\n",
    "plot_curve('q', 'concordance', \n",
    "           data=results\\\n",
    "            .query(f'num_cell == {num_cell_to_show}')\\\n",
    "            .query('method == \"basics\"')\\\n",
    "            .query(f'q < {q_limit}') ,\n",
    "           ax=ax, \n",
    "           color='gray', \n",
    "           marker='^', \n",
    "           markersize=5,\n",
    "           label='BASiCS')\n",
    "\n",
    "plot_curve('q', 'concordance', \n",
    "           data=results\\\n",
    "            .query(f'num_cell == {num_cell_to_show}')\\\n",
    "            .query('method == \"naive\"')\\\n",
    "            .query(f'q < {q_limit}') ,\n",
    "           ax=ax, \n",
    "           color='gray', \n",
    "           marker=\",\", \n",
    "           linestyle='--',\n",
    "           markersize=5,\n",
    "           label='naive')\n",
    "\n",
    "plt.ylim(0.49, 1.01)\n",
    "\n",
    "\n",
    "# plt.xlabel('Overall capture efficiency')\n",
    "# plt.ylabel('Concordance')\n",
    "plt.legend(frameon=False)\n",
    "# plt.savefig('variance_simulation.pdf', bbox_inches='tight')"
   ]
  },
  {
   "cell_type": "markdown",
   "id": "bbcf0f34-b29b-4d98-ae38-11cdc4a2aeb3",
   "metadata": {},
   "source": [
    "### Get variance estimation as a function of mean"
   ]
  },
  {
   "cell_type": "code",
   "execution_count": 72,
   "id": "0c0c7f7e-26e4-42b6-ba1d-c5892f071268",
   "metadata": {
    "tags": []
   },
   "outputs": [],
   "source": [
    "selected_idxs = (z_param[0] > 0.1*10)"
   ]
  },
  {
   "cell_type": "code",
   "execution_count": 115,
   "id": "d3284f0e-c43b-4332-94fc-c08fffdf543c",
   "metadata": {
    "tags": []
   },
   "outputs": [],
   "source": [
    "q = 0.2\n",
    "num_cell = 100\n",
    "ground_truth = estimates_df.query(f'q=={q} & num_cell=={num_cell} & method == \"ground_truth\"')[gene_names].values[:, selected_idxs]"
   ]
  },
  {
   "cell_type": "code",
   "execution_count": 116,
   "id": "56ff2287-54e7-4ec5-86c7-12bc83e6a43f",
   "metadata": {
    "tags": []
   },
   "outputs": [
    {
     "data": {
      "text/plain": [
       "1824"
      ]
     },
     "execution_count": 116,
     "metadata": {},
     "output_type": "execute_result"
    }
   ],
   "source": [
    "selected_idxs.sum()"
   ]
  },
  {
   "cell_type": "code",
   "execution_count": 117,
   "id": "fcacb7c8-c509-41cf-b956-00f064d1d0fb",
   "metadata": {
    "tags": []
   },
   "outputs": [],
   "source": [
    "valid_perc = np.isfinite(abs_log_err).mean(axis=0)"
   ]
  },
  {
   "cell_type": "code",
   "execution_count": 118,
   "id": "07ae4b4c-e1a0-4a01-8f03-d283bc0a757b",
   "metadata": {
    "tags": []
   },
   "outputs": [
    {
     "data": {
      "text/plain": [
       "array([0.95, 1.  , 1.  , ..., 0.95, 0.75, 1.  ])"
      ]
     },
     "execution_count": 118,
     "metadata": {},
     "output_type": "execute_result"
    }
   ],
   "source": [
    "valid_perc"
   ]
  },
  {
   "cell_type": "code",
   "execution_count": 127,
   "id": "ac978a0b-ae02-4f15-9a73-ac527b6b2d36",
   "metadata": {
    "tags": []
   },
   "outputs": [
    {
     "name": "stderr",
     "output_type": "stream",
     "text": [
      "/tmp/ipykernel_30310/173923541.py:9: RuntimeWarning: invalid value encountered in log\n",
      "  abs_log_err = np.absolute(np.log(ground_truth)-np.log(estimates))\n",
      "/tmp/ipykernel_30310/173923541.py:9: RuntimeWarning: invalid value encountered in log\n",
      "  abs_log_err = np.absolute(np.log(ground_truth)-np.log(estimates))\n"
     ]
    },
    {
     "data": {
      "image/png": "[encoded data removed]",
      "text/plain": [
       "<Figure size 500x300 with 4 Axes>"
      ]
     },
     "metadata": {},
     "output_type": "display_data"
    }
   ],
   "source": [
    "plt.figure(figsize=(5,3))\n",
    "plt.subplots_adjust(hspace=0.3)\n",
    "\n",
    "for idx, method in enumerate(['hypergeometric', 'poisson', 'basics', 'naive']):\n",
    "    \n",
    "    estimates = estimates_df.query(f'q=={q} & num_cell=={num_cell} & method == \"{method}\"')[gene_names].values[:, selected_idxs]\n",
    "    \n",
    "    \n",
    "    abs_log_err = np.absolute(np.log(ground_truth)-np.log(estimates))\n",
    "    abs_log_err[~np.isfinite(abs_log_err)] = np.nan\n",
    "    valid_perc = np.isfinite(abs_log_err).mean(axis=0)\n",
    "    errs = np.nanmean(abs_log_err, axis=0)\n",
    "    \n",
    "    from sklearn.neighbors import KNeighborsRegressor\n",
    "    X = np.log(x_param[0][selected_idxs]).reshape(-1,1)[valid_perc>0.9]\n",
    "    y = errs.reshape(-1,1)[valid_perc>0.9]\n",
    "    neigh = KNeighborsRegressor(n_neighbors=50)\n",
    "    neigh.fit(X, y)\n",
    "    \n",
    "    # X_plot = np.linspace(-10, -3, 10).reshape(-1,1)\n",
    "    plt.subplot(2,2, idx+1)     \n",
    "    plt.scatter(X, y, s=1, alpha=0.3)\n",
    "    # plt.plot(X_plot, neigh.predict(X_plot),label=method, linewidth=3, color='k')\n",
    "\n",
    "    plt.ylim(0, 1.5)\n",
    "        # plt.title(method)\n",
    "plt.savefig('variance_err_vs_mean.pdf', bbox_inches='tight')"
   ]
  },
  {
   "cell_type": "code",
   "execution_count": null,
   "id": "3f09b63b-19cd-49c6-aa67-a5365b060b57",
   "metadata": {},
   "outputs": [],
   "source": []
  }
 ],
 "metadata": {
  "kernelspec": {
   "display_name": "mementocxg",
   "language": "python",
   "name": "myenv"
  },
  "language_info": {
   "codemirror_mode": {
    "name": "ipython",
    "version": 3
   },
   "file_extension": ".py",
   "mimetype": "text/x-python",
   "name": "python",
   "nbconvert_exporter": "python",
   "pygments_lexer": "ipython3",
   "version": "3.11.5"
  }
 },
 "nbformat": 4,
 "nbformat_minor": 5
}
