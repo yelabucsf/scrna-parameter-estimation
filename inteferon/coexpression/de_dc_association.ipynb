{
 "cells": [
  {
   "cell_type": "markdown",
   "metadata": {},
   "source": [
    "# Differential correlation for canonical and non-canonical ISGs"
   ]
  },
  {
   "cell_type": "code",
   "execution_count": 1,
   "metadata": {
    "tags": []
   },
   "outputs": [],
   "source": [
    "import scanpy as sc\n",
    "import seaborn as sns\n",
    "import pandas as pd\n",
    "import matplotlib.pyplot as plt\n",
    "import numpy as np\n",
    "import scipy.stats as stats\n",
    "# from pybedtools import BedTool\n",
    "import pickle as pkl\n",
    "%matplotlib inline\n",
    "import itertools\n",
    "import scipy.sparse as sparse\n",
    "\n",
    "import statsmodels.formula.api as smf\n",
    "import statsmodels.api as sm\n",
    "pd.set_option('display.max_rows', 600)"
   ]
  },
  {
   "cell_type": "code",
   "execution_count": 2,
   "metadata": {
    "tags": []
   },
   "outputs": [],
   "source": [
    "import functools"
   ]
  },
  {
   "cell_type": "code",
   "execution_count": 3,
   "metadata": {
    "tags": []
   },
   "outputs": [],
   "source": [
    "import sys\n",
    "sys.path.append('/home/ubuntu/Github/scrna-parameter-estimation/')\n",
    "import memento"
   ]
  },
  {
   "cell_type": "code",
   "execution_count": 4,
   "metadata": {
    "tags": []
   },
   "outputs": [],
   "source": [
    "data_path = '/home/ubuntu/Data/hbec/'\n",
    "# fig_path = '/data/home/Github/scrna-parameter-estimation/figures/fig6/'"
   ]
  },
  {
   "cell_type": "code",
   "execution_count": 5,
   "metadata": {
    "tags": []
   },
   "outputs": [],
   "source": [
    "import matplotlib\n",
    "matplotlib.rcParams['pdf.fonttype'] = 42\n",
    "matplotlib.rcParams['ps.fonttype'] = 42"
   ]
  },
  {
   "cell_type": "code",
   "execution_count": 6,
   "metadata": {
    "tags": []
   },
   "outputs": [],
   "source": [
    "import matplotlib.pylab as pylab\n",
    "params = {'legend.fontsize': 'medium',\n",
    "         'axes.labelsize': 'medium',\n",
    "         'axes.titlesize':'medium',\n",
    "         'figure.titlesize':'large',\n",
    "         'xtick.labelsize':'small',\n",
    "         'ytick.labelsize':'small'}\n",
    "pylab.rcParams.update(params)"
   ]
  },
  {
   "cell_type": "markdown",
   "metadata": {},
   "source": [
    "### Association between DE and DC"
   ]
  },
  {
   "cell_type": "code",
   "execution_count": 7,
   "metadata": {
    "tags": []
   },
   "outputs": [
    {
     "name": "stderr",
     "output_type": "stream",
     "text": [
      "/home/ubuntu/anaconda3/envs/cellxgene/lib/python3.11/site-packages/anndata/__init__.py:51: FutureWarning: `anndata.read` is deprecated, use `anndata.read_h5ad` instead. `ad.read` will be removed in mid 2024.\n",
      "  warnings.warn(\n"
     ]
    }
   ],
   "source": [
    "adata = sc.read(data_path + 'HBEC_type_I_filtered_counts_deep.h5ad')"
   ]
  },
  {
   "cell_type": "code",
   "execution_count": 8,
   "metadata": {
    "tags": []
   },
   "outputs": [],
   "source": [
    "converter = {'basal/club':'BC', 'basal':'B', 'ciliated':'C', 'goblet':'G', 'ionocyte/tuft':'IT', 'neuroendo':'N'}"
   ]
  },
  {
   "cell_type": "code",
   "execution_count": 9,
   "metadata": {
    "tags": []
   },
   "outputs": [],
   "source": [
    "adata.obs['ct'] = adata.obs['cell_type'].apply(lambda x: converter[x])\n",
    "# adata_processed.obs['ct'] = adata_processed.obs['cell_type'].apply(lambda x: converter[x])"
   ]
  },
  {
   "cell_type": "code",
   "execution_count": 10,
   "metadata": {
    "tags": []
   },
   "outputs": [],
   "source": [
    "def assign_q(batch):\n",
    "    \n",
    "    if batch == 0:\n",
    "        return 0.387*0.25\n",
    "    elif batch == 1:\n",
    "        return 0.392*0.25\n",
    "    elif batch == 2:\n",
    "        return 0.436*0.25\n",
    "    else:\n",
    "        return 0.417*0.25"
   ]
  },
  {
   "cell_type": "code",
   "execution_count": 11,
   "metadata": {
    "tags": []
   },
   "outputs": [],
   "source": [
    "adata.obs['q'] = adata.obs['batch'].apply(assign_q)"
   ]
  },
  {
   "cell_type": "code",
   "execution_count": 12,
   "metadata": {
    "tags": []
   },
   "outputs": [],
   "source": [
    "memento.setup_memento(adata, q_column='q', trim_percent=0.1)"
   ]
  },
  {
   "cell_type": "code",
   "execution_count": 13,
   "metadata": {
    "tags": []
   },
   "outputs": [],
   "source": [
    "ct = ['C']\n"
   ]
  },
  {
   "cell_type": "code",
   "execution_count": 14,
   "metadata": {
    "tags": []
   },
   "outputs": [],
   "source": [
    "with open('canonical_isgs.pkl', 'rb') as f:\n",
    "    canonical_genes = pkl.load(f)\n",
    "with open('noncanonical_isgs.pkl', 'rb') as f:\n",
    "    noncanonical_genes = pkl.load(f)"
   ]
  },
  {
   "cell_type": "code",
   "execution_count": 15,
   "metadata": {
    "tags": []
   },
   "outputs": [
    {
     "name": "stderr",
     "output_type": "stream",
     "text": [
      "/home/ubuntu/Github/scrna-parameter-estimation/memento/main.py:181: FutureWarning: errors='ignore' is deprecated and will raise in a future version. Use to_numeric without passing `errors` and catch exceptions explicitly instead\n",
      "  df[col] = pd.to_numeric(df[col], errors='ignore')\n"
     ]
    }
   ],
   "source": [
    "adata_tp = adata.copy()[\n",
    "    adata.obs.time.isin(['0', '6']) & \\\n",
    "    adata.obs.ct.isin(ct) & \\\n",
    "    adata.obs.stim.isin(['beta', 'control'])].copy()\n",
    "adata_tp.obs['tp'] = adata_tp.obs['time'].apply(lambda x: {'0':0, '6':1}[x])\n",
    "\n",
    "memento.create_groups(adata_tp, label_columns=['donor', 'tp'])\n",
    "memento.compute_1d_moments(adata_tp, min_perc_group=.9)\n",
    "\n",
    "meta_df = memento.get_groups(adata_tp)\n",
    "treatment = meta_df[['tp']]\n",
    "covariate = pd.DataFrame(np.ones((treatment.shape[0], 1)), columns=['intercept'])"
   ]
  },
  {
   "cell_type": "code",
   "execution_count": 16,
   "metadata": {
    "tags": []
   },
   "outputs": [
    {
     "name": "stderr",
     "output_type": "stream",
     "text": [
      "[Parallel(n_jobs=14)]: Using backend LokyBackend with 14 concurrent workers.\n",
      "[Parallel(n_jobs=14)]: Done  22 tasks      | elapsed:    3.6s\n",
      "[Parallel(n_jobs=14)]: Done 172 tasks      | elapsed:    6.8s\n",
      "[Parallel(n_jobs=14)]: Done 422 tasks      | elapsed:   12.7s\n",
      "[Parallel(n_jobs=14)]: Done 772 tasks      | elapsed:   20.6s\n",
      "[Parallel(n_jobs=14)]: Done 1222 tasks      | elapsed:   29.9s\n",
      "[Parallel(n_jobs=14)]: Done 1772 tasks      | elapsed:   41.6s\n",
      "[Parallel(n_jobs=14)]: Done 2422 tasks      | elapsed:   55.5s\n",
      "[Parallel(n_jobs=14)]: Done 3172 tasks      | elapsed:  1.2min\n",
      "[Parallel(n_jobs=14)]: Done 4022 tasks      | elapsed:  1.5min\n",
      "[Parallel(n_jobs=14)]: Done 4972 tasks      | elapsed:  1.8min\n",
      "[Parallel(n_jobs=14)]: Done 6022 tasks      | elapsed:  2.2min\n",
      "[Parallel(n_jobs=14)]: Done 7172 tasks      | elapsed:  2.6min\n",
      "[Parallel(n_jobs=14)]: Done 8422 tasks      | elapsed:  3.1min\n",
      "[Parallel(n_jobs=14)]: Done 9679 out of 9679 | elapsed:  3.5min finished\n"
     ]
    }
   ],
   "source": [
    "memento.ht_1d_moments(\n",
    "        adata_tp, \n",
    "        covariate=covariate,\n",
    "        treatment=treatment,\n",
    "        num_boot=10000, \n",
    "        verbose=1,\n",
    "        num_cpus=14,\n",
    "        resample_rep=False,\n",
    "        approx=stats.norm)"
   ]
  },
  {
   "cell_type": "code",
   "execution_count": 17,
   "metadata": {
    "tags": []
   },
   "outputs": [
    {
     "name": "stderr",
     "output_type": "stream",
     "text": [
      "[Parallel(n_jobs=14)]: Using backend LokyBackend with 14 concurrent workers.\n",
      "[Parallel(n_jobs=14)]: Done  22 tasks      | elapsed:    0.7s\n",
      "[Parallel(n_jobs=14)]: Done 172 tasks      | elapsed:    4.8s\n",
      "[Parallel(n_jobs=14)]: Done 422 tasks      | elapsed:   11.2s\n",
      "/home/ubuntu/Github/scrna-parameter-estimation/memento/hypothesis_test.py:238: RuntimeWarning: invalid value encountered in divide\n",
      "  return A_mA.T.dot(np.diag(sample_weight)).dot(B_mB)/sample_weight.sum() / ssA[:, None]\n",
      "/home/ubuntu/Github/scrna-parameter-estimation/memento/hypothesis_test.py:99: RuntimeWarning: invalid value encountered in scalar divide\n",
      "  return (extreme_count) / (null.shape[0])\n",
      "/home/ubuntu/anaconda3/envs/cellxgene/lib/python3.11/site-packages/numpy/lib/nanfunctions.py:1879: RuntimeWarning: Degrees of freedom <= 0 for slice.\n",
      "  var = nanvar(a, axis=axis, dtype=dtype, out=out, ddof=ddof,\n",
      "[Parallel(n_jobs=14)]: Done 772 tasks      | elapsed:   20.3s\n",
      "/home/ubuntu/Github/scrna-parameter-estimation/memento/hypothesis_test.py:238: RuntimeWarning: invalid value encountered in divide\n",
      "  return A_mA.T.dot(np.diag(sample_weight)).dot(B_mB)/sample_weight.sum() / ssA[:, None]\n",
      "/home/ubuntu/Github/scrna-parameter-estimation/memento/hypothesis_test.py:99: RuntimeWarning: invalid value encountered in scalar divide\n",
      "  return (extreme_count) / (null.shape[0])\n",
      "/home/ubuntu/anaconda3/envs/cellxgene/lib/python3.11/site-packages/numpy/lib/nanfunctions.py:1879: RuntimeWarning: Degrees of freedom <= 0 for slice.\n",
      "  var = nanvar(a, axis=axis, dtype=dtype, out=out, ddof=ddof,\n",
      "[Parallel(n_jobs=14)]: Done 1222 tasks      | elapsed:   32.3s\n",
      "/home/ubuntu/Github/scrna-parameter-estimation/memento/hypothesis_test.py:238: RuntimeWarning: invalid value encountered in divide\n",
      "  return A_mA.T.dot(np.diag(sample_weight)).dot(B_mB)/sample_weight.sum() / ssA[:, None]\n",
      "/home/ubuntu/Github/scrna-parameter-estimation/memento/hypothesis_test.py:99: RuntimeWarning: invalid value encountered in scalar divide\n",
      "  return (extreme_count) / (null.shape[0])\n",
      "/home/ubuntu/anaconda3/envs/cellxgene/lib/python3.11/site-packages/numpy/lib/nanfunctions.py:1879: RuntimeWarning: Degrees of freedom <= 0 for slice.\n",
      "  var = nanvar(a, axis=axis, dtype=dtype, out=out, ddof=ddof,\n",
      "[Parallel(n_jobs=14)]: Done 1772 tasks      | elapsed:   46.3s\n",
      "[Parallel(n_jobs=14)]: Done 2422 tasks      | elapsed:  1.0min\n",
      "[Parallel(n_jobs=14)]: Done 3172 tasks      | elapsed:  1.3min\n",
      "[Parallel(n_jobs=14)]: Done 4022 tasks      | elapsed:  1.7min\n",
      "[Parallel(n_jobs=14)]: Done 4998 out of 4998 | elapsed:  2.1min finished\n"
     ]
    }
   ],
   "source": [
    "memento.compute_2d_moments(adata_tp, list(zip(np.random.choice(adata_tp.var.index, 5000), np.random.choice(adata_tp.var.index, 5000))))\n",
    "\n",
    "memento.ht_2d_moments(\n",
    "        adata_tp, \n",
    "        covariate=covariate,\n",
    "        treatment=treatment,\n",
    "        num_boot=5000, \n",
    "        verbose=1,\n",
    "        num_cpus=14,\n",
    "        resample_rep=False,\n",
    "        approx='boot')\n",
    "random_result = memento.get_2d_ht_result(adata_tp)"
   ]
  },
  {
   "cell_type": "code",
   "execution_count": 18,
   "metadata": {
    "tags": []
   },
   "outputs": [],
   "source": [
    "de_result = memento.get_1d_ht_result(adata_tp)"
   ]
  },
  {
   "cell_type": "code",
   "execution_count": 19,
   "metadata": {
    "tags": []
   },
   "outputs": [],
   "source": [
    "merged = random_result\\\n",
    "    .merge(de_result[['gene', 'de_coef']].rename(columns={'gene':'gene_1'}), on='gene_1')\\\n",
    "    .merge(de_result[['gene', 'de_coef']].rename(columns={'gene':'gene_2'}), on='gene_2')"
   ]
  },
  {
   "cell_type": "code",
   "execution_count": 20,
   "metadata": {
    "tags": []
   },
   "outputs": [
    {
     "data": {
      "text/html": [
       "<div>\n",
       "<style scoped>\n",
       "    .dataframe tbody tr th:only-of-type {\n",
       "        vertical-align: middle;\n",
       "    }\n",
       "\n",
       "    .dataframe tbody tr th {\n",
       "        vertical-align: top;\n",
       "    }\n",
       "\n",
       "    .dataframe thead th {\n",
       "        text-align: right;\n",
       "    }\n",
       "</style>\n",
       "<table border=\"1\" class=\"dataframe\">\n",
       "  <thead>\n",
       "    <tr style=\"text-align: right;\">\n",
       "      <th></th>\n",
       "      <th>gene_1</th>\n",
       "      <th>gene_2</th>\n",
       "      <th>tx</th>\n",
       "      <th>corr_coef</th>\n",
       "      <th>corr_se</th>\n",
       "      <th>corr_pval</th>\n",
       "      <th>de_coef_x</th>\n",
       "      <th>de_coef_y</th>\n",
       "    </tr>\n",
       "  </thead>\n",
       "  <tbody>\n",
       "    <tr>\n",
       "      <th>0</th>\n",
       "      <td>CTCF</td>\n",
       "      <td>C1orf131</td>\n",
       "      <td>tp</td>\n",
       "      <td>-0.200174</td>\n",
       "      <td>0.317138</td>\n",
       "      <td>0.5192</td>\n",
       "      <td>-0.123091</td>\n",
       "      <td>0.121855</td>\n",
       "    </tr>\n",
       "    <tr>\n",
       "      <th>1</th>\n",
       "      <td>TNFRSF19</td>\n",
       "      <td>RAPGEF2</td>\n",
       "      <td>tp</td>\n",
       "      <td>-0.368415</td>\n",
       "      <td>0.304538</td>\n",
       "      <td>0.2444</td>\n",
       "      <td>0.012788</td>\n",
       "      <td>0.011365</td>\n",
       "    </tr>\n",
       "    <tr>\n",
       "      <th>2</th>\n",
       "      <td>PCNX3</td>\n",
       "      <td>CTU1</td>\n",
       "      <td>tp</td>\n",
       "      <td>0.013791</td>\n",
       "      <td>0.388397</td>\n",
       "      <td>0.9700</td>\n",
       "      <td>0.095856</td>\n",
       "      <td>0.114329</td>\n",
       "    </tr>\n",
       "    <tr>\n",
       "      <th>3</th>\n",
       "      <td>ATP5F1C</td>\n",
       "      <td>CHPF</td>\n",
       "      <td>tp</td>\n",
       "      <td>0.096637</td>\n",
       "      <td>0.226685</td>\n",
       "      <td>0.6686</td>\n",
       "      <td>-0.165814</td>\n",
       "      <td>-0.023476</td>\n",
       "    </tr>\n",
       "    <tr>\n",
       "      <th>4</th>\n",
       "      <td>TEKT1</td>\n",
       "      <td>MGRN1</td>\n",
       "      <td>tp</td>\n",
       "      <td>-0.146159</td>\n",
       "      <td>0.225613</td>\n",
       "      <td>0.5122</td>\n",
       "      <td>-0.203851</td>\n",
       "      <td>0.326289</td>\n",
       "    </tr>\n",
       "    <tr>\n",
       "      <th>...</th>\n",
       "      <td>...</td>\n",
       "      <td>...</td>\n",
       "      <td>...</td>\n",
       "      <td>...</td>\n",
       "      <td>...</td>\n",
       "      <td>...</td>\n",
       "      <td>...</td>\n",
       "      <td>...</td>\n",
       "    </tr>\n",
       "    <tr>\n",
       "      <th>4995</th>\n",
       "      <td>MAML1</td>\n",
       "      <td>TBL1X</td>\n",
       "      <td>tp</td>\n",
       "      <td>0.216129</td>\n",
       "      <td>0.239225</td>\n",
       "      <td>0.3620</td>\n",
       "      <td>0.536897</td>\n",
       "      <td>-0.156461</td>\n",
       "    </tr>\n",
       "    <tr>\n",
       "      <th>4996</th>\n",
       "      <td>POLR1D</td>\n",
       "      <td>RAD21</td>\n",
       "      <td>tp</td>\n",
       "      <td>0.355895</td>\n",
       "      <td>0.183548</td>\n",
       "      <td>0.0568</td>\n",
       "      <td>-0.128164</td>\n",
       "      <td>-0.155060</td>\n",
       "    </tr>\n",
       "    <tr>\n",
       "      <th>4997</th>\n",
       "      <td>REC8</td>\n",
       "      <td>GTF3C1</td>\n",
       "      <td>tp</td>\n",
       "      <td>0.089864</td>\n",
       "      <td>0.136868</td>\n",
       "      <td>0.4910</td>\n",
       "      <td>0.209940</td>\n",
       "      <td>-0.313815</td>\n",
       "    </tr>\n",
       "    <tr>\n",
       "      <th>4998</th>\n",
       "      <td>JMY</td>\n",
       "      <td>ARPC1B</td>\n",
       "      <td>tp</td>\n",
       "      <td>NaN</td>\n",
       "      <td>NaN</td>\n",
       "      <td>NaN</td>\n",
       "      <td>-0.233342</td>\n",
       "      <td>-0.595480</td>\n",
       "    </tr>\n",
       "    <tr>\n",
       "      <th>4999</th>\n",
       "      <td>ZFP36L1</td>\n",
       "      <td>YOD1</td>\n",
       "      <td>tp</td>\n",
       "      <td>NaN</td>\n",
       "      <td>NaN</td>\n",
       "      <td>NaN</td>\n",
       "      <td>0.637012</td>\n",
       "      <td>0.434053</td>\n",
       "    </tr>\n",
       "  </tbody>\n",
       "</table>\n",
       "<p>5000 rows × 8 columns</p>\n",
       "</div>"
      ],
      "text/plain": [
       "        gene_1    gene_2  tx  corr_coef   corr_se  corr_pval  de_coef_x  \\\n",
       "0         CTCF  C1orf131  tp  -0.200174  0.317138     0.5192  -0.123091   \n",
       "1     TNFRSF19   RAPGEF2  tp  -0.368415  0.304538     0.2444   0.012788   \n",
       "2        PCNX3      CTU1  tp   0.013791  0.388397     0.9700   0.095856   \n",
       "3      ATP5F1C      CHPF  tp   0.096637  0.226685     0.6686  -0.165814   \n",
       "4        TEKT1     MGRN1  tp  -0.146159  0.225613     0.5122  -0.203851   \n",
       "...        ...       ...  ..        ...       ...        ...        ...   \n",
       "4995     MAML1     TBL1X  tp   0.216129  0.239225     0.3620   0.536897   \n",
       "4996    POLR1D     RAD21  tp   0.355895  0.183548     0.0568  -0.128164   \n",
       "4997      REC8    GTF3C1  tp   0.089864  0.136868     0.4910   0.209940   \n",
       "4998       JMY    ARPC1B  tp        NaN       NaN        NaN  -0.233342   \n",
       "4999   ZFP36L1      YOD1  tp        NaN       NaN        NaN   0.637012   \n",
       "\n",
       "      de_coef_y  \n",
       "0      0.121855  \n",
       "1      0.011365  \n",
       "2      0.114329  \n",
       "3     -0.023476  \n",
       "4      0.326289  \n",
       "...         ...  \n",
       "4995  -0.156461  \n",
       "4996  -0.155060  \n",
       "4997  -0.313815  \n",
       "4998  -0.595480  \n",
       "4999   0.434053  \n",
       "\n",
       "[5000 rows x 8 columns]"
      ]
     },
     "execution_count": 20,
     "metadata": {},
     "output_type": "execute_result"
    }
   ],
   "source": [
    "merged"
   ]
  },
  {
   "cell_type": "code",
   "execution_count": 21,
   "metadata": {
    "tags": []
   },
   "outputs": [],
   "source": [
    "r_5k, _ = stats.pearsonr(merged.dropna()['de_coef_x']+merged.dropna()['de_coef_y'], merged.dropna()['corr_coef'])"
   ]
  },
  {
   "cell_type": "code",
   "execution_count": 22,
   "metadata": {
    "tags": []
   },
   "outputs": [
    {
     "data": {
      "image/png": "[encoded data removed]",
      "text/plain": [
       "<Figure size 300x300 with 1 Axes>"
      ]
     },
     "metadata": {},
     "output_type": "display_data"
    }
   ],
   "source": [
    "plt.figure(figsize=(3,3))\n",
    "plt.scatter(merged['de_coef_y'] + merged['de_coef_x'], merged['corr_coef'], s=5, alpha=0.2)\n",
    "plt.xlabel('Change in mean Log( FC1 * FC2 )')\n",
    "plt.ylabel('Change in correlation');\n",
    "plt.title('Pearson R = {:.4f}'.format(r_5k))\n",
    "plt.savefig('mean_vs_corr.png', dpi=300, bbox_inches='tight')"
   ]
  },
  {
   "cell_type": "code",
   "execution_count": null,
   "metadata": {},
   "outputs": [],
   "source": [
    "merged.to_csv('de_dc_association.csv')"
   ]
  },
  {
   "cell_type": "markdown",
   "metadata": {},
   "source": [
    "### Filter by combined LFC genes"
   ]
  },
  {
   "cell_type": "code",
   "execution_count": 39,
   "metadata": {
    "tags": []
   },
   "outputs": [
    {
     "data": {
      "image/png": "[encoded data removed]",
      "text/plain": [
       "<Figure size 300x300 with 1 Axes>"
      ]
     },
     "metadata": {},
     "output_type": "display_data"
    }
   ],
   "source": [
    "de_merged = merged.copy()\n",
    "de_merged['FC_combined'] = de_merged['de_coef_x'] + de_merged['de_coef_y']\n",
    "# de_merged = de_merged.query('FC_combined > 1 | FC_combined < -1')\n",
    "de_merged = de_merged.query('de_coef_x > 1 | de_coef_y > 1 | de_coef_x < -1 | de_coef_y < -1')\n",
    "r_de, pv_de = stats.pearsonr(de_merged.dropna()['de_coef_x']+de_merged.dropna()['de_coef_y'], de_merged.dropna()['corr_coef'])\n",
    "plt.figure(figsize=(3,3))\n",
    "plt.scatter(de_merged['FC_combined'], de_merged['corr_coef'], s=5)\n",
    "plt.title('Pearson R = {:.4f}, P = {:.2f}'.format(r_de, pv_de))\n",
    "plt.xlabel('Change in mean Log( FC1 * FC2 )')\n",
    "plt.ylabel('Change in correlation');\n",
    "plt.savefig('mean_vs_corr_de.png', dpi=300, bbox_inches='tight')"
   ]
  },
  {
   "cell_type": "markdown",
   "metadata": {},
   "source": [
    "# Do the same after shuffling the columns\n",
    "\n",
    "Restart kernel here, shared variables (same imports)"
   ]
  },
  {
   "cell_type": "code",
   "execution_count": 8,
   "metadata": {},
   "outputs": [],
   "source": [
    "from sklearn.utils import shuffle"
   ]
  },
  {
   "cell_type": "code",
   "execution_count": 9,
   "metadata": {
    "tags": []
   },
   "outputs": [
    {
     "name": "stderr",
     "output_type": "stream",
     "text": [
      "/home/ubuntu/anaconda3/envs/cellxgene/lib/python3.11/site-packages/anndata/__init__.py:51: FutureWarning: `anndata.read` is deprecated, use `anndata.read_h5ad` instead. `ad.read` will be removed in mid 2024.\n",
      "  warnings.warn(\n"
     ]
    }
   ],
   "source": [
    "adata = sc.read(data_path + 'HBEC_type_I_filtered_counts_deep.h5ad')"
   ]
  },
  {
   "cell_type": "code",
   "execution_count": 10,
   "metadata": {
    "tags": []
   },
   "outputs": [],
   "source": [
    "converter = {'basal/club':'BC', 'basal':'B', 'ciliated':'C', 'goblet':'G', 'ionocyte/tuft':'IT', 'neuroendo':'N'}"
   ]
  },
  {
   "cell_type": "code",
   "execution_count": 11,
   "metadata": {
    "tags": []
   },
   "outputs": [],
   "source": [
    "adata.obs['ct'] = adata.obs['cell_type'].apply(lambda x: converter[x])\n",
    "# adata_processed.obs['ct'] = adata_processed.obs['cell_type'].apply(lambda x: converter[x])"
   ]
  },
  {
   "cell_type": "code",
   "execution_count": 12,
   "metadata": {
    "tags": []
   },
   "outputs": [],
   "source": [
    "def assign_q(batch):\n",
    "    \n",
    "    if batch == 0:\n",
    "        return 0.387*0.25\n",
    "    elif batch == 1:\n",
    "        return 0.392*0.25\n",
    "    elif batch == 2:\n",
    "        return 0.436*0.25\n",
    "    else:\n",
    "        return 0.417*0.25"
   ]
  },
  {
   "cell_type": "code",
   "execution_count": 13,
   "metadata": {
    "tags": []
   },
   "outputs": [],
   "source": [
    "adata.obs['q'] = adata.obs['batch'].apply(assign_q)"
   ]
  },
  {
   "cell_type": "code",
   "execution_count": 14,
   "metadata": {
    "tags": []
   },
   "outputs": [],
   "source": [
    "memento.setup_memento(adata, q_column='q', trim_percent=0.1)"
   ]
  },
  {
   "cell_type": "code",
   "execution_count": 15,
   "metadata": {
    "tags": []
   },
   "outputs": [],
   "source": [
    "ct = ['C']\n"
   ]
  },
  {
   "cell_type": "code",
   "execution_count": 16,
   "metadata": {
    "tags": []
   },
   "outputs": [],
   "source": [
    "with open('canonical_isgs.pkl', 'rb') as f:\n",
    "    canonical_genes = pkl.load(f)\n",
    "with open('noncanonical_isgs.pkl', 'rb') as f:\n",
    "    noncanonical_genes = pkl.load(f)"
   ]
  },
  {
   "cell_type": "code",
   "execution_count": 17,
   "metadata": {
    "tags": []
   },
   "outputs": [],
   "source": [
    "adata_tp = adata.copy()[\n",
    "    adata.obs.time.isin(['0', '6']) & \\\n",
    "    adata.obs.ct.isin(ct) & \\\n",
    "    adata.obs.stim.isin(['beta', 'control'])].copy()\n",
    "adata_tp.obs['tp'] = adata_tp.obs['time'].apply(lambda x: {'0':0, '6':1}[x])"
   ]
  },
  {
   "cell_type": "code",
   "execution_count": 18,
   "metadata": {
    "tags": []
   },
   "outputs": [],
   "source": [
    "donors = adata_tp.obs.donor.drop_duplicates().tolist()\n",
    "conditions = ['beta', 'control']"
   ]
  },
  {
   "cell_type": "code",
   "execution_count": 19,
   "metadata": {
    "tags": []
   },
   "outputs": [],
   "source": [
    "expr_matrix_dense = adata_tp.X.toarray()\n",
    "for cond in conditions:\n",
    "    for donor in donors:\n",
    "        donor_indices = ((adata_tp.obs['donor'] == donor) & (adata_tp.obs['stim']==cond)).values\n",
    "        for col in range(expr_matrix_dense.shape[1]):\n",
    "            expr_matrix_dense[donor_indices, col] = shuffle(expr_matrix_dense[donor_indices, col])\n",
    "adata_tp.X = sparse.csr_matrix(expr_matrix_dense)"
   ]
  },
  {
   "cell_type": "code",
   "execution_count": 20,
   "metadata": {
    "tags": []
   },
   "outputs": [
    {
     "name": "stderr",
     "output_type": "stream",
     "text": [
      "/home/ubuntu/Github/scrna-parameter-estimation/memento/main.py:181: FutureWarning: errors='ignore' is deprecated and will raise in a future version. Use to_numeric without passing `errors` and catch exceptions explicitly instead\n",
      "  df[col] = pd.to_numeric(df[col], errors='ignore')\n"
     ]
    }
   ],
   "source": [
    "memento.create_groups(adata_tp, label_columns=['donor', 'tp'])\n",
    "memento.compute_1d_moments(adata_tp, min_perc_group=.9)\n",
    "\n",
    "meta_df = memento.get_groups(adata_tp)\n",
    "treatment = meta_df[['tp']]\n",
    "covariate = pd.DataFrame(np.ones((treatment.shape[0], 1)), columns=['intercept'])"
   ]
  },
  {
   "cell_type": "code",
   "execution_count": 21,
   "metadata": {
    "tags": []
   },
   "outputs": [
    {
     "name": "stderr",
     "output_type": "stream",
     "text": [
      "[Parallel(n_jobs=14)]: Using backend LokyBackend with 14 concurrent workers.\n",
      "[Parallel(n_jobs=14)]: Done  22 tasks      | elapsed:    2.8s\n",
      "[Parallel(n_jobs=14)]: Done 296 tasks      | elapsed:    3.9s\n",
      "[Parallel(n_jobs=14)]: Done 1296 tasks      | elapsed:    6.9s\n",
      "[Parallel(n_jobs=14)]: Done 2696 tasks      | elapsed:   10.8s\n",
      "[Parallel(n_jobs=14)]: Done 4496 tasks      | elapsed:   15.9s\n",
      "[Parallel(n_jobs=14)]: Done 6696 tasks      | elapsed:   22.2s\n",
      "[Parallel(n_jobs=14)]: Done 9296 tasks      | elapsed:   29.6s\n",
      "[Parallel(n_jobs=14)]: Done 9866 out of 9866 | elapsed:   31.5s finished\n"
     ]
    }
   ],
   "source": [
    "memento.ht_1d_moments(\n",
    "        adata_tp, \n",
    "        covariate=covariate,\n",
    "        treatment=treatment,\n",
    "        num_boot=1000, \n",
    "        verbose=1,\n",
    "        num_cpus=14,\n",
    "        resample_rep=False,\n",
    "        approx=stats.norm)"
   ]
  },
  {
   "cell_type": "code",
   "execution_count": 22,
   "metadata": {
    "tags": []
   },
   "outputs": [
    {
     "name": "stderr",
     "output_type": "stream",
     "text": [
      "[Parallel(n_jobs=14)]: Using backend LokyBackend with 14 concurrent workers.\n",
      "[Parallel(n_jobs=14)]: Done  22 tasks      | elapsed:    0.2s\n",
      "[Parallel(n_jobs=14)]: Done 548 tasks      | elapsed:    3.0s\n",
      "/home/ubuntu/Github/scrna-parameter-estimation/memento/hypothesis_test.py:238: RuntimeWarning: invalid value encountered in divide\n",
      "  return A_mA.T.dot(np.diag(sample_weight)).dot(B_mB)/sample_weight.sum() / ssA[:, None]\n",
      "/home/ubuntu/Github/scrna-parameter-estimation/memento/hypothesis_test.py:99: RuntimeWarning: invalid value encountered in scalar divide\n",
      "  return (extreme_count) / (null.shape[0])\n",
      "/home/ubuntu/anaconda3/envs/cellxgene/lib/python3.11/site-packages/numpy/lib/nanfunctions.py:1879: RuntimeWarning: Degrees of freedom <= 0 for slice.\n",
      "  var = nanvar(a, axis=axis, dtype=dtype, out=out, ddof=ddof,\n",
      "[Parallel(n_jobs=14)]: Done 1548 tasks      | elapsed:    8.5s\n",
      "[Parallel(n_jobs=14)]: Done 2948 tasks      | elapsed:   15.9s\n",
      "[Parallel(n_jobs=14)]: Done 4748 tasks      | elapsed:   25.5s\n",
      "[Parallel(n_jobs=14)]: Done 5000 out of 5000 | elapsed:   26.8s finished\n"
     ]
    }
   ],
   "source": [
    "memento.compute_2d_moments(adata_tp, list(zip(np.random.choice(adata_tp.var.index, 5000), np.random.choice(adata_tp.var.index, 5000))))\n",
    "\n",
    "memento.ht_2d_moments(\n",
    "        adata_tp, \n",
    "        covariate=covariate,\n",
    "        treatment=treatment,\n",
    "        num_boot=1000, \n",
    "        verbose=1,\n",
    "        num_cpus=14,\n",
    "        resample_rep=False,\n",
    "        approx='boot')\n",
    "random_result = memento.get_2d_ht_result(adata_tp)"
   ]
  },
  {
   "cell_type": "code",
   "execution_count": 25,
   "metadata": {
    "tags": []
   },
   "outputs": [],
   "source": [
    "de_result = memento.get_1d_ht_result(adata_tp)"
   ]
  },
  {
   "cell_type": "code",
   "execution_count": 26,
   "metadata": {
    "tags": []
   },
   "outputs": [],
   "source": [
    "merged = random_result\\\n",
    "    .merge(de_result[['gene', 'de_coef']].rename(columns={'gene':'gene_1'}), on='gene_1')\\\n",
    "    .merge(de_result[['gene', 'de_coef']].rename(columns={'gene':'gene_2'}), on='gene_2')"
   ]
  },
  {
   "cell_type": "code",
   "execution_count": 27,
   "metadata": {
    "tags": []
   },
   "outputs": [
    {
     "data": {
      "image/png": "[encoded data removed]",
      "text/plain": [
       "<Figure size 300x300 with 1 Axes>"
      ]
     },
     "metadata": {},
     "output_type": "display_data"
    }
   ],
   "source": [
    "plt.figure(figsize=(3,3))\n",
    "plt.scatter(merged['de_coef_y'] + merged['de_coef_x'], merged['corr_coef'], s=5, alpha=0.2)\n",
    "plt.xlabel('Change in mean Log( FC1 * FC2 )')\n",
    "plt.ylabel('Change in correlation');\n",
    "r_5k, _ = stats.pearsonr(merged.dropna()['de_coef_x']+merged.dropna()['de_coef_y'], merged.dropna()['corr_coef'])\n",
    "plt.title('Pearson R = {:.4f}'.format(r_5k))\n",
    "plt.savefig('shuffled_mean_vs_corr.png', dpi=300, bbox_inches='tight')"
   ]
  },
  {
   "cell_type": "code",
   "execution_count": null,
   "metadata": {},
   "outputs": [],
   "source": [
    "merged.to_csv('shuffled_de_dc_association.csv')"
   ]
  },
  {
   "cell_type": "code",
   "execution_count": 30,
   "metadata": {
    "tags": []
   },
   "outputs": [
    {
     "data": {
      "image/png": "[encoded data removed]",
      "text/plain": [
       "<Figure size 300x300 with 1 Axes>"
      ]
     },
     "metadata": {},
     "output_type": "display_data"
    }
   ],
   "source": [
    "de_merged = merged.copy()\n",
    "de_merged['FC_combined'] = de_merged['de_coef_x'] + de_merged['de_coef_y']\n",
    "de_merged = de_merged.query('de_coef_x > 1 | de_coef_y > 1 | de_coef_x < -1 | de_coef_y < -1')\n",
    "\n",
    "r_de, _ = stats.pearsonr(de_merged.dropna()['de_coef_x']+de_merged.dropna()['de_coef_y'], de_merged.dropna()['corr_coef'])\n",
    "\n",
    "plt.figure(figsize=(3,3))\n",
    "plt.scatter(de_merged['FC_combined'], de_merged['corr_coef'], s=5)\n",
    "plt.title('Pearson R = {:.4f}'.format(r_de))\n",
    "plt.xlabel('Change in mean Log( FC1 * FC2 )')\n",
    "plt.ylabel('Change in correlation');\n",
    "plt.savefig('shuffled_mean_vs_corr_de.png', dpi=300, bbox_inches='tight')"
   ]
  },
  {
   "cell_type": "code",
   "execution_count": null,
   "metadata": {},
   "outputs": [],
   "source": []
  }
 ],
 "metadata": {
  "kernelspec": {
   "display_name": "cellcensus",
   "language": "python",
   "name": "myenv"
  },
  "language_info": {
   "codemirror_mode": {
    "name": "ipython",
    "version": 3
   },
   "file_extension": ".py",
   "mimetype": "text/x-python",
   "name": "python",
   "nbconvert_exporter": "python",
   "pygments_lexer": "ipython3",
   "version": "3.11.8"
  }
 },
 "nbformat": 4,
 "nbformat_minor": 4
}
