{
 "cells": [
  {
   "cell_type": "markdown",
   "id": "5c5e617c",
   "metadata": {},
   "source": [
    "# Accounting for between-sample variability - eQTL analysis\n",
    "\n",
    "Key point of this tutorial is to demonstrate accounting for interindividual variation with hierarchical resampling. \n",
    "\n",
    "Most of this tutorial can also be used for testing any feature that is at the replicate/individual level. For example, comparing case vs control would use similar procedure, since the independent variable is defined for each person and not for each cell.\n",
    "\n",
    "The toy data files used in this tutorial can be found at:\n",
    "\n",
    "- genotypes: https://memento-examples.s3.us-west-2.amazonaws.com/toy-eqtl/toy_genotypes.csv\n",
    "- covariates: https://memento-examples.s3.us-west-2.amazonaws.com/toy-eqtl/toy_covariates.csv\n",
    "- AnnData object: https://memento-examples.s3.us-west-2.amazonaws.com/toy-eqtl/toy_adata.h5ad\n",
    "- gene_snp_pairs: https://memento-examples.s3.us-west-2.amazonaws.com/toy-eqtl/toy_gene_snp_pairs.csv"
   ]
  },
  {
   "cell_type": "code",
   "execution_count": 1,
   "id": "3c84cc0a",
   "metadata": {
    "tags": []
   },
   "outputs": [],
   "source": [
    "import scanpy as sc\n",
    "import seaborn as sns\n",
    "import pandas as pd\n",
    "import matplotlib.pyplot as plt\n",
    "import numpy as np\n",
    "import scipy.stats as stats\n",
    "\n",
    "%matplotlib inline"
   ]
  },
  {
   "cell_type": "code",
   "execution_count": 2,
   "id": "eb40c2ca",
   "metadata": {
    "tags": []
   },
   "outputs": [],
   "source": [
    "import memento"
   ]
  },
  {
   "cell_type": "code",
   "execution_count": 3,
   "id": "fa2ee71f",
   "metadata": {
    "tags": []
   },
   "outputs": [],
   "source": [
    "data_path = '/home/ubuntu/Data/tutorial_data/toy-eqtl/'"
   ]
  },
  {
   "cell_type": "markdown",
   "id": "4017b7cd",
   "metadata": {},
   "source": [
    "## Read the inputs: variables of interest (SNPs), covariates, SNP-gene pairs.\n",
    "\n",
    "For each of these SNP and covariate, each row is an individual and columns are different variables of interest. \n",
    "\n",
    "For the tutorial, we use the genotypes and covariates used in 2022 Perez, Gordon, Subramaniam et al. paper from the lab. These inputs are identical to Matrix eQTL inputs - I just transpose them here because I think it makes more sense that observations are rows...\n",
    "\n",
    "For the tutorial, we just setup some random SNP-gene pairs to test; however, you can flexibly design this mapping to fit your needs. I purposefully didn't encode all possible variations of how you can define gene-SNP relationships."
   ]
  },
  {
   "cell_type": "code",
   "execution_count": 4,
   "id": "c96f8478",
   "metadata": {
    "tags": []
   },
   "outputs": [],
   "source": [
    "snps_path = data_path + 'toy_genotypes.csv'\n",
    "cov_path = data_path + 'toy_covariates.csv'"
   ]
  },
  {
   "cell_type": "code",
   "execution_count": 5,
   "id": "f0e1e24e",
   "metadata": {
    "tags": []
   },
   "outputs": [],
   "source": [
    "snps = pd.read_csv(snps_path, index_col=0)\n",
    "cov = pd.read_csv(cov_path, index_col=0)\n",
    "gene_snp_pairs = pd.read_csv(data_path + 'toy_gene_snp_pairs.csv', index_col=0)\n"
   ]
  },
  {
   "cell_type": "code",
   "execution_count": 6,
   "id": "85af296f-89ae-465e-8a2f-f9bd64ab544f",
   "metadata": {
    "tags": []
   },
   "outputs": [
    {
     "data": {
      "text/html": [
       "<div>\n",
       "<style scoped>\n",
       "    .dataframe tbody tr th:only-of-type {\n",
       "        vertical-align: middle;\n",
       "    }\n",
       "\n",
       "    .dataframe tbody tr th {\n",
       "        vertical-align: top;\n",
       "    }\n",
       "\n",
       "    .dataframe thead th {\n",
       "        text-align: right;\n",
       "    }\n",
       "</style>\n",
       "<table border=\"1\" class=\"dataframe\">\n",
       "  <thead>\n",
       "    <tr style=\"text-align: right;\">\n",
       "      <th></th>\n",
       "      <th>10:5642859</th>\n",
       "      <th>19:56931672</th>\n",
       "      <th>3:164807972</th>\n",
       "      <th>19:2870759</th>\n",
       "      <th>1:17629912</th>\n",
       "      <th>2:242610773</th>\n",
       "      <th>7:50618260</th>\n",
       "      <th>17:48408836</th>\n",
       "      <th>12:10155412</th>\n",
       "      <th>1:162350451</th>\n",
       "      <th>...</th>\n",
       "      <th>7:117595082</th>\n",
       "      <th>1:151334520</th>\n",
       "      <th>20:2410952</th>\n",
       "      <th>21:31736032</th>\n",
       "      <th>3:88123610</th>\n",
       "      <th>13:103092137</th>\n",
       "      <th>7:129651617</th>\n",
       "      <th>13:76180042</th>\n",
       "      <th>3:40349948</th>\n",
       "      <th>17:34345661</th>\n",
       "    </tr>\n",
       "  </thead>\n",
       "  <tbody>\n",
       "    <tr>\n",
       "      <th>1132_1132</th>\n",
       "      <td>1</td>\n",
       "      <td>1</td>\n",
       "      <td>1</td>\n",
       "      <td>1</td>\n",
       "      <td>1</td>\n",
       "      <td>0</td>\n",
       "      <td>2</td>\n",
       "      <td>1</td>\n",
       "      <td>0</td>\n",
       "      <td>0</td>\n",
       "      <td>...</td>\n",
       "      <td>1</td>\n",
       "      <td>1</td>\n",
       "      <td>1</td>\n",
       "      <td>2</td>\n",
       "      <td>2</td>\n",
       "      <td>2</td>\n",
       "      <td>1</td>\n",
       "      <td>1</td>\n",
       "      <td>1</td>\n",
       "      <td>2</td>\n",
       "    </tr>\n",
       "    <tr>\n",
       "      <th>1285_1285</th>\n",
       "      <td>2</td>\n",
       "      <td>2</td>\n",
       "      <td>1</td>\n",
       "      <td>2</td>\n",
       "      <td>1</td>\n",
       "      <td>1</td>\n",
       "      <td>2</td>\n",
       "      <td>1</td>\n",
       "      <td>2</td>\n",
       "      <td>0</td>\n",
       "      <td>...</td>\n",
       "      <td>2</td>\n",
       "      <td>0</td>\n",
       "      <td>1</td>\n",
       "      <td>2</td>\n",
       "      <td>2</td>\n",
       "      <td>2</td>\n",
       "      <td>2</td>\n",
       "      <td>0</td>\n",
       "      <td>0</td>\n",
       "      <td>2</td>\n",
       "    </tr>\n",
       "  </tbody>\n",
       "</table>\n",
       "<p>2 rows × 50 columns</p>\n",
       "</div>"
      ],
      "text/plain": [
       "           10:5642859  19:56931672  3:164807972  19:2870759  1:17629912  \\\n",
       "1132_1132           1            1            1           1           1   \n",
       "1285_1285           2            2            1           2           1   \n",
       "\n",
       "           2:242610773  7:50618260  17:48408836  12:10155412  1:162350451  \\\n",
       "1132_1132            0           2            1            0            0   \n",
       "1285_1285            1           2            1            2            0   \n",
       "\n",
       "           ...  7:117595082  1:151334520  20:2410952  21:31736032  3:88123610  \\\n",
       "1132_1132  ...            1            1           1            2           2   \n",
       "1285_1285  ...            2            0           1            2           2   \n",
       "\n",
       "           13:103092137  7:129651617  13:76180042  3:40349948  17:34345661  \n",
       "1132_1132             2            1            1           1            2  \n",
       "1285_1285             2            2            0           0            2  \n",
       "\n",
       "[2 rows x 50 columns]"
      ]
     },
     "execution_count": 6,
     "metadata": {},
     "output_type": "execute_result"
    }
   ],
   "source": [
    "snps.head(2)"
   ]
  },
  {
   "cell_type": "code",
   "execution_count": 7,
   "id": "97183300-3004-4226-a120-f8fa0feb0aa1",
   "metadata": {
    "tags": []
   },
   "outputs": [
    {
     "data": {
      "text/html": [
       "<div>\n",
       "<style scoped>\n",
       "    .dataframe tbody tr th:only-of-type {\n",
       "        vertical-align: middle;\n",
       "    }\n",
       "\n",
       "    .dataframe tbody tr th {\n",
       "        vertical-align: top;\n",
       "    }\n",
       "\n",
       "    .dataframe thead th {\n",
       "        text-align: right;\n",
       "    }\n",
       "</style>\n",
       "<table border=\"1\" class=\"dataframe\">\n",
       "  <thead>\n",
       "    <tr style=\"text-align: right;\">\n",
       "      <th></th>\n",
       "      <th>age</th>\n",
       "      <th>Female</th>\n",
       "      <th>status</th>\n",
       "      <th>PC1_e</th>\n",
       "      <th>PC2_e</th>\n",
       "      <th>PC3_e</th>\n",
       "      <th>PC4_e</th>\n",
       "      <th>PC5_e</th>\n",
       "      <th>PC6_e</th>\n",
       "      <th>PC7_e</th>\n",
       "      <th>...</th>\n",
       "      <th>batch_cov_b_14</th>\n",
       "      <th>batch_cov_b_15</th>\n",
       "      <th>batch_cov_b_2</th>\n",
       "      <th>batch_cov_b_3</th>\n",
       "      <th>batch_cov_b_4</th>\n",
       "      <th>batch_cov_b_5</th>\n",
       "      <th>batch_cov_b_6</th>\n",
       "      <th>batch_cov_b_7</th>\n",
       "      <th>batch_cov_b_8</th>\n",
       "      <th>batch_cov_b_9</th>\n",
       "    </tr>\n",
       "  </thead>\n",
       "  <tbody>\n",
       "    <tr>\n",
       "      <th>1132_1132</th>\n",
       "      <td>45.0</td>\n",
       "      <td>0.0</td>\n",
       "      <td>0.0</td>\n",
       "      <td>19.067178</td>\n",
       "      <td>17.787198</td>\n",
       "      <td>10.275343</td>\n",
       "      <td>-2.829570</td>\n",
       "      <td>-3.546597</td>\n",
       "      <td>-1.269196</td>\n",
       "      <td>-2.183796</td>\n",
       "      <td>...</td>\n",
       "      <td>0.0</td>\n",
       "      <td>1.0</td>\n",
       "      <td>0.0</td>\n",
       "      <td>0.0</td>\n",
       "      <td>0.0</td>\n",
       "      <td>0.0</td>\n",
       "      <td>0.0</td>\n",
       "      <td>0.0</td>\n",
       "      <td>0.0</td>\n",
       "      <td>0.0</td>\n",
       "    </tr>\n",
       "    <tr>\n",
       "      <th>1285_1285</th>\n",
       "      <td>39.0</td>\n",
       "      <td>0.0</td>\n",
       "      <td>0.0</td>\n",
       "      <td>14.471841</td>\n",
       "      <td>18.737343</td>\n",
       "      <td>12.465061</td>\n",
       "      <td>11.195105</td>\n",
       "      <td>-2.246129</td>\n",
       "      <td>-11.168822</td>\n",
       "      <td>2.230269</td>\n",
       "      <td>...</td>\n",
       "      <td>1.0</td>\n",
       "      <td>0.0</td>\n",
       "      <td>0.0</td>\n",
       "      <td>0.0</td>\n",
       "      <td>0.0</td>\n",
       "      <td>0.0</td>\n",
       "      <td>0.0</td>\n",
       "      <td>0.0</td>\n",
       "      <td>0.0</td>\n",
       "      <td>0.0</td>\n",
       "    </tr>\n",
       "  </tbody>\n",
       "</table>\n",
       "<p>2 rows × 35 columns</p>\n",
       "</div>"
      ],
      "text/plain": [
       "            age  Female  status      PC1_e      PC2_e      PC3_e      PC4_e  \\\n",
       "1132_1132  45.0     0.0     0.0  19.067178  17.787198  10.275343  -2.829570   \n",
       "1285_1285  39.0     0.0     0.0  14.471841  18.737343  12.465061  11.195105   \n",
       "\n",
       "              PC5_e      PC6_e     PC7_e  ...  batch_cov_b_14  batch_cov_b_15  \\\n",
       "1132_1132 -3.546597  -1.269196 -2.183796  ...             0.0             1.0   \n",
       "1285_1285 -2.246129 -11.168822  2.230269  ...             1.0             0.0   \n",
       "\n",
       "           batch_cov_b_2  batch_cov_b_3  batch_cov_b_4  batch_cov_b_5  \\\n",
       "1132_1132            0.0            0.0            0.0            0.0   \n",
       "1285_1285            0.0            0.0            0.0            0.0   \n",
       "\n",
       "           batch_cov_b_6  batch_cov_b_7  batch_cov_b_8  batch_cov_b_9  \n",
       "1132_1132            0.0            0.0            0.0            0.0  \n",
       "1285_1285            0.0            0.0            0.0            0.0  \n",
       "\n",
       "[2 rows x 35 columns]"
      ]
     },
     "execution_count": 7,
     "metadata": {},
     "output_type": "execute_result"
    }
   ],
   "source": [
    "cov.head(2)"
   ]
  },
  {
   "cell_type": "code",
   "execution_count": 8,
   "id": "eab55588",
   "metadata": {
    "tags": []
   },
   "outputs": [
    {
     "data": {
      "text/html": [
       "<div>\n",
       "<style scoped>\n",
       "    .dataframe tbody tr th:only-of-type {\n",
       "        vertical-align: middle;\n",
       "    }\n",
       "\n",
       "    .dataframe tbody tr th {\n",
       "        vertical-align: top;\n",
       "    }\n",
       "\n",
       "    .dataframe thead th {\n",
       "        text-align: right;\n",
       "    }\n",
       "</style>\n",
       "<table border=\"1\" class=\"dataframe\">\n",
       "  <thead>\n",
       "    <tr style=\"text-align: right;\">\n",
       "      <th></th>\n",
       "      <th>gene</th>\n",
       "      <th>SNP</th>\n",
       "    </tr>\n",
       "  </thead>\n",
       "  <tbody>\n",
       "    <tr>\n",
       "      <th>606417</th>\n",
       "      <td>CALML3</td>\n",
       "      <td>10:5642859</td>\n",
       "    </tr>\n",
       "    <tr>\n",
       "      <th>3298886</th>\n",
       "      <td>ZSCAN5A</td>\n",
       "      <td>19:56931672</td>\n",
       "    </tr>\n",
       "  </tbody>\n",
       "</table>\n",
       "</div>"
      ],
      "text/plain": [
       "            gene          SNP\n",
       "606417    CALML3   10:5642859\n",
       "3298886  ZSCAN5A  19:56931672"
      ]
     },
     "execution_count": 8,
     "metadata": {},
     "output_type": "execute_result"
    }
   ],
   "source": [
    "gene_snp_pairs.head(2)"
   ]
  },
  {
   "cell_type": "markdown",
   "id": "f35daab4",
   "metadata": {},
   "source": [
    "### Read h5ad object\n",
    "\n",
    "Standard h5ad file in the scanpy workflow. Some things to keep in mind:\n",
    "\n",
    "- `adata.X` should be the raw counts with all genes detected. Typically, this will be the size of N cells with ~30k genes in a standard 10X experiment. \n",
    "- Here, we will just use the T4 cells defined by one of the AnnData.obs columns for a subset of individuals\n"
   ]
  },
  {
   "cell_type": "code",
   "execution_count": 9,
   "id": "e688cc47",
   "metadata": {
    "tags": []
   },
   "outputs": [],
   "source": [
    "adata = sc.read(data_path + 'toy_adata.h5ad')\n"
   ]
  },
  {
   "cell_type": "code",
   "execution_count": 10,
   "id": "4fab74d9",
   "metadata": {
    "tags": []
   },
   "outputs": [
    {
     "name": "stdout",
     "output_type": "stream",
     "text": [
      "We have 16907 cells\n"
     ]
    }
   ],
   "source": [
    "print('We have {} cells'.format(adata.shape[0]))"
   ]
  },
  {
   "cell_type": "code",
   "execution_count": 11,
   "id": "f5c8ccad",
   "metadata": {
    "tags": []
   },
   "outputs": [
    {
     "data": {
      "text/html": [
       "<div>\n",
       "<style scoped>\n",
       "    .dataframe tbody tr th:only-of-type {\n",
       "        vertical-align: middle;\n",
       "    }\n",
       "\n",
       "    .dataframe tbody tr th {\n",
       "        vertical-align: top;\n",
       "    }\n",
       "\n",
       "    .dataframe thead th {\n",
       "        text-align: right;\n",
       "    }\n",
       "</style>\n",
       "<table border=\"1\" class=\"dataframe\">\n",
       "  <thead>\n",
       "    <tr style=\"text-align: right;\">\n",
       "      <th></th>\n",
       "      <th>batch_cov</th>\n",
       "      <th>ind_cov</th>\n",
       "      <th>Processing_Cohort</th>\n",
       "      <th>louvain</th>\n",
       "      <th>cg_cov</th>\n",
       "      <th>ct_cov</th>\n",
       "      <th>L3</th>\n",
       "      <th>ind_cov_batch_cov</th>\n",
       "      <th>Age</th>\n",
       "      <th>Sex</th>\n",
       "      <th>pop_cov</th>\n",
       "      <th>Status</th>\n",
       "      <th>SLE_status</th>\n",
       "    </tr>\n",
       "  </thead>\n",
       "  <tbody>\n",
       "    <tr>\n",
       "      <th>AAGCCGCGTCGAACAG-1-1-0-0-0-0-0-0-0-0-0-0-0-0-0-0-0-0-0-0-0-0-0-0-0-0-0-0-0-0-0-0-0-0-0-0-0-0-0-0-1-0-0-0-0-0-0-0-0-0-0-0-0-0-0-0-0-0-0-0</th>\n",
       "      <td>dmx_YE_7-13</td>\n",
       "      <td>1068_1068</td>\n",
       "      <td>2.0</td>\n",
       "      <td>2</td>\n",
       "      <td>T4</td>\n",
       "      <td>T4_em</td>\n",
       "      <td>0.0</td>\n",
       "      <td>1068_1068:dmx_YE_7-13</td>\n",
       "      <td>45.0</td>\n",
       "      <td>Female</td>\n",
       "      <td>European</td>\n",
       "      <td>Managed</td>\n",
       "      <td>SLE</td>\n",
       "    </tr>\n",
       "    <tr>\n",
       "      <th>CAAGATCGTGTCCTCT-1-1-0-0-0-0-0-0-0-0-0-0-0-0-0-0-0-0-0-0-0-0-0-0-0-0-0-0-0-0-0-0-0-0-0-0-0-0-0-0-0-0-0-0-0-0-0-0-0-0-0-0-0-0-0-0-0-0-0-0-0-0-0-0-0-0-0-1-0-0-0-0-0</th>\n",
       "      <td>dmx_YS-JY-22_pool6</td>\n",
       "      <td>1545_1545</td>\n",
       "      <td>4.0</td>\n",
       "      <td>10</td>\n",
       "      <td>T4</td>\n",
       "      <td>T4_naive</td>\n",
       "      <td>1.0</td>\n",
       "      <td>1545_1545:dmx_YS-JY-22_pool6</td>\n",
       "      <td>38.0</td>\n",
       "      <td>Female</td>\n",
       "      <td>European</td>\n",
       "      <td>Managed</td>\n",
       "      <td>SLE</td>\n",
       "    </tr>\n",
       "    <tr>\n",
       "      <th>GGGCATCGTCTGGTCG-1-1-0-0-0-0-0-0-0-0-0-0-0-0-0-0-0-0-0-0-0-0-0-0-0-0-0-0-0-0-0-0-0-0-0-1-0-0-0-0-0-0-0-0-0-0-0-0-0-0-0-0-0-0</th>\n",
       "      <td>dmx_YE_7-19</td>\n",
       "      <td>1132_1132</td>\n",
       "      <td>2.0</td>\n",
       "      <td>2</td>\n",
       "      <td>T4</td>\n",
       "      <td>T4_em</td>\n",
       "      <td>1.0</td>\n",
       "      <td>1132_1132:dmx_YE_7-19</td>\n",
       "      <td>45.0</td>\n",
       "      <td>Female</td>\n",
       "      <td>European</td>\n",
       "      <td>Managed</td>\n",
       "      <td>SLE</td>\n",
       "    </tr>\n",
       "  </tbody>\n",
       "</table>\n",
       "</div>"
      ],
      "text/plain": [
       "                                                             batch_cov  \\\n",
       "AAGCCGCGTCGAACAG-1-1-0-0-0-0-0-0-0-0-0-0-0-0-0-...         dmx_YE_7-13   \n",
       "CAAGATCGTGTCCTCT-1-1-0-0-0-0-0-0-0-0-0-0-0-0-0-...  dmx_YS-JY-22_pool6   \n",
       "GGGCATCGTCTGGTCG-1-1-0-0-0-0-0-0-0-0-0-0-0-0-0-...         dmx_YE_7-19   \n",
       "\n",
       "                                                      ind_cov  \\\n",
       "AAGCCGCGTCGAACAG-1-1-0-0-0-0-0-0-0-0-0-0-0-0-0-...  1068_1068   \n",
       "CAAGATCGTGTCCTCT-1-1-0-0-0-0-0-0-0-0-0-0-0-0-0-...  1545_1545   \n",
       "GGGCATCGTCTGGTCG-1-1-0-0-0-0-0-0-0-0-0-0-0-0-0-...  1132_1132   \n",
       "\n",
       "                                                   Processing_Cohort louvain  \\\n",
       "AAGCCGCGTCGAACAG-1-1-0-0-0-0-0-0-0-0-0-0-0-0-0-...               2.0       2   \n",
       "CAAGATCGTGTCCTCT-1-1-0-0-0-0-0-0-0-0-0-0-0-0-0-...               4.0      10   \n",
       "GGGCATCGTCTGGTCG-1-1-0-0-0-0-0-0-0-0-0-0-0-0-0-...               2.0       2   \n",
       "\n",
       "                                                   cg_cov    ct_cov   L3  \\\n",
       "AAGCCGCGTCGAACAG-1-1-0-0-0-0-0-0-0-0-0-0-0-0-0-...     T4     T4_em  0.0   \n",
       "CAAGATCGTGTCCTCT-1-1-0-0-0-0-0-0-0-0-0-0-0-0-0-...     T4  T4_naive  1.0   \n",
       "GGGCATCGTCTGGTCG-1-1-0-0-0-0-0-0-0-0-0-0-0-0-0-...     T4     T4_em  1.0   \n",
       "\n",
       "                                                               ind_cov_batch_cov  \\\n",
       "AAGCCGCGTCGAACAG-1-1-0-0-0-0-0-0-0-0-0-0-0-0-0-...         1068_1068:dmx_YE_7-13   \n",
       "CAAGATCGTGTCCTCT-1-1-0-0-0-0-0-0-0-0-0-0-0-0-0-...  1545_1545:dmx_YS-JY-22_pool6   \n",
       "GGGCATCGTCTGGTCG-1-1-0-0-0-0-0-0-0-0-0-0-0-0-0-...         1132_1132:dmx_YE_7-19   \n",
       "\n",
       "                                                     Age     Sex   pop_cov  \\\n",
       "AAGCCGCGTCGAACAG-1-1-0-0-0-0-0-0-0-0-0-0-0-0-0-...  45.0  Female  European   \n",
       "CAAGATCGTGTCCTCT-1-1-0-0-0-0-0-0-0-0-0-0-0-0-0-...  38.0  Female  European   \n",
       "GGGCATCGTCTGGTCG-1-1-0-0-0-0-0-0-0-0-0-0-0-0-0-...  45.0  Female  European   \n",
       "\n",
       "                                                     Status SLE_status  \n",
       "AAGCCGCGTCGAACAG-1-1-0-0-0-0-0-0-0-0-0-0-0-0-0-...  Managed        SLE  \n",
       "CAAGATCGTGTCCTCT-1-1-0-0-0-0-0-0-0-0-0-0-0-0-0-...  Managed        SLE  \n",
       "GGGCATCGTCTGGTCG-1-1-0-0-0-0-0-0-0-0-0-0-0-0-0-...  Managed        SLE  "
      ]
     },
     "execution_count": 11,
     "metadata": {},
     "output_type": "execute_result"
    }
   ],
   "source": [
    "adata.obs.head(3)"
   ]
  },
  {
   "cell_type": "code",
   "execution_count": 12,
   "id": "761ac7b1",
   "metadata": {
    "tags": []
   },
   "outputs": [
    {
     "name": "stdout",
     "output_type": "stream",
     "text": [
      "Confirming that adata.X is a sparse matrix of counts.\n",
      "Row sums are:\n",
      "[[3313.]\n",
      " [2012.]\n",
      " [3166.]\n",
      " [3324.]\n",
      " [1552.]]\n",
      "\n",
      "The matrix itself:\n"
     ]
    },
    {
     "data": {
      "text/plain": [
       "<Compressed Sparse Row sparse matrix of dtype 'float32'\n",
       "\twith 11790934 stored elements and shape (16907, 32738)>"
      ]
     },
     "execution_count": 12,
     "metadata": {},
     "output_type": "execute_result"
    }
   ],
   "source": [
    "# adata.X should be a sparse matrix with counts\n",
    "print('Confirming that adata.X is a sparse matrix of counts.')\n",
    "print('Row sums are:')\n",
    "print(adata.X.sum(axis=1)[:5])\n",
    "print('')\n",
    "print('The matrix itself:')\n",
    "adata.X"
   ]
  },
  {
   "cell_type": "markdown",
   "id": "db9a9b99",
   "metadata": {},
   "source": [
    "### Run memento\n",
    "\n",
    "Due to the resampling at the single-cell level, `memento` generally takes much longer than something like Matrix eQTL or FastQTL that works on pseudobulks. It is however much faster than fitting linear mixed models for millions of cells. \n",
    "\n",
    "I would recommend using as many cores as you can afford on a high performance computing cluster. (for members of the Ye lab, maybe something like c5.24xlarge instance just for a few hours for this and set the num_cpu to 80). \n",
    "\n",
    "`memento` is fairly flexible in that if you're willing to use more CPUs, the speed will scale almost linearly."
   ]
  },
  {
   "cell_type": "code",
   "execution_count": 13,
   "id": "d2827991",
   "metadata": {
    "tags": []
   },
   "outputs": [
    {
     "name": "stdout",
     "output_type": "stream",
     "text": [
      "blocksize 50\n",
      "working on block 0\n",
      "19\n"
     ]
    },
    {
     "name": "stderr",
     "output_type": "stream",
     "text": [
      "[Parallel(n_jobs=14)]: Using backend LokyBackend with 14 concurrent workers.\n",
      "/home/ubuntu/miniforge3/envs/packaging_test/lib/python3.13/site-packages/memento/hypothesis_test.py:426: RuntimeWarning: invalid value encountered in divide\n",
      "  beta = np.einsum('ijk,ij->jk', A_mA * sample_weight[:, :, np.newaxis], B_mB).T/sample_weight.sum(axis=0) / ssA.T\n",
      "/home/ubuntu/miniforge3/envs/packaging_test/lib/python3.13/site-packages/scipy/stats/_distn_infrastructure.py:2212: RuntimeWarning: invalid value encountered in divide\n",
      "  x = np.asarray((x - loc)/scale, dtype=dtyp)\n",
      "/home/ubuntu/miniforge3/envs/packaging_test/lib/python3.13/site-packages/scipy/stats/_distn_infrastructure.py:2129: RuntimeWarning: invalid value encountered in divide\n",
      "  x = np.asarray((x - loc)/scale, dtype=dtyp)\n",
      "[Parallel(n_jobs=14)]: Done  12 out of  19 | elapsed:    1.9s remaining:    1.1s\n",
      "[Parallel(n_jobs=14)]: Done  19 out of  19 | elapsed:    2.0s finished\n"
     ]
    }
   ],
   "source": [
    "eqtl_results = memento.run_eqtl(\n",
    "    adata=adata,\n",
    "    snps=snps,\n",
    "    cov=cov,\n",
    "    gene_snp_pairs=gene_snp_pairs,\n",
    "    donor_column='ind_cov',\n",
    "    num_cpu=14,\n",
    "    num_blocks=1, # increase this if you run out of memory.\n",
    "    num_boot=5000,\n",
    ")"
   ]
  },
  {
   "cell_type": "code",
   "execution_count": 14,
   "id": "1d3617c0",
   "metadata": {
    "tags": []
   },
   "outputs": [
    {
     "data": {
      "text/html": [
       "<div>\n",
       "<style scoped>\n",
       "    .dataframe tbody tr th:only-of-type {\n",
       "        vertical-align: middle;\n",
       "    }\n",
       "\n",
       "    .dataframe tbody tr th {\n",
       "        vertical-align: top;\n",
       "    }\n",
       "\n",
       "    .dataframe thead th {\n",
       "        text-align: right;\n",
       "    }\n",
       "</style>\n",
       "<table border=\"1\" class=\"dataframe\">\n",
       "  <thead>\n",
       "    <tr style=\"text-align: right;\">\n",
       "      <th></th>\n",
       "      <th>gene</th>\n",
       "      <th>tx</th>\n",
       "      <th>de_coef</th>\n",
       "      <th>de_se</th>\n",
       "      <th>de_pval</th>\n",
       "    </tr>\n",
       "  </thead>\n",
       "  <tbody>\n",
       "    <tr>\n",
       "      <th>0</th>\n",
       "      <td>ABCG1</td>\n",
       "      <td>21:43562525</td>\n",
       "      <td>4.858312e-06</td>\n",
       "      <td>0.000006</td>\n",
       "      <td>0.314122</td>\n",
       "    </tr>\n",
       "    <tr>\n",
       "      <th>0</th>\n",
       "      <td>ATG4B</td>\n",
       "      <td>2:242610773</td>\n",
       "      <td>-1.624035e-06</td>\n",
       "      <td>0.000003</td>\n",
       "      <td>0.675984</td>\n",
       "    </tr>\n",
       "    <tr>\n",
       "      <th>0</th>\n",
       "      <td>COX18</td>\n",
       "      <td>4:73896353</td>\n",
       "      <td>-9.146643e-07</td>\n",
       "      <td>0.000003</td>\n",
       "      <td>0.694078</td>\n",
       "    </tr>\n",
       "    <tr>\n",
       "      <th>0</th>\n",
       "      <td>EIF1B</td>\n",
       "      <td>3:40349948</td>\n",
       "      <td>-1.351412e-05</td>\n",
       "      <td>0.000011</td>\n",
       "      <td>0.234317</td>\n",
       "    </tr>\n",
       "    <tr>\n",
       "      <th>0</th>\n",
       "      <td>GIMAP2</td>\n",
       "      <td>7:150447413</td>\n",
       "      <td>-2.730682e-06</td>\n",
       "      <td>0.000007</td>\n",
       "      <td>0.943794</td>\n",
       "    </tr>\n",
       "    <tr>\n",
       "      <th>0</th>\n",
       "      <td>LEO1</td>\n",
       "      <td>15:52208330</td>\n",
       "      <td>1.176742e-06</td>\n",
       "      <td>0.000002</td>\n",
       "      <td>0.703611</td>\n",
       "    </tr>\n",
       "    <tr>\n",
       "      <th>0</th>\n",
       "      <td>LMO7</td>\n",
       "      <td>13:76180042</td>\n",
       "      <td>-5.564781e-06</td>\n",
       "      <td>0.000011</td>\n",
       "      <td>0.418247</td>\n",
       "    </tr>\n",
       "    <tr>\n",
       "      <th>0</th>\n",
       "      <td>MRPL13</td>\n",
       "      <td>8:121415567</td>\n",
       "      <td>3.032256e-06</td>\n",
       "      <td>0.000010</td>\n",
       "      <td>0.723698</td>\n",
       "    </tr>\n",
       "    <tr>\n",
       "      <th>0</th>\n",
       "      <td>NCALD</td>\n",
       "      <td>8:102739834</td>\n",
       "      <td>-1.173290e-05</td>\n",
       "      <td>0.000013</td>\n",
       "      <td>0.299957</td>\n",
       "    </tr>\n",
       "    <tr>\n",
       "      <th>0</th>\n",
       "      <td>PBX2</td>\n",
       "      <td>6:32187605</td>\n",
       "      <td>2.246472e-06</td>\n",
       "      <td>0.000003</td>\n",
       "      <td>0.366647</td>\n",
       "    </tr>\n",
       "  </tbody>\n",
       "</table>\n",
       "</div>"
      ],
      "text/plain": [
       "     gene           tx       de_coef     de_se   de_pval\n",
       "0   ABCG1  21:43562525  4.858312e-06  0.000006  0.314122\n",
       "0   ATG4B  2:242610773 -1.624035e-06  0.000003  0.675984\n",
       "0   COX18   4:73896353 -9.146643e-07  0.000003  0.694078\n",
       "0   EIF1B   3:40349948 -1.351412e-05  0.000011  0.234317\n",
       "0  GIMAP2  7:150447413 -2.730682e-06  0.000007  0.943794\n",
       "0    LEO1  15:52208330  1.176742e-06  0.000002  0.703611\n",
       "0    LMO7  13:76180042 -5.564781e-06  0.000011  0.418247\n",
       "0  MRPL13  8:121415567  3.032256e-06  0.000010  0.723698\n",
       "0   NCALD  8:102739834 -1.173290e-05  0.000013  0.299957\n",
       "0    PBX2   6:32187605  2.246472e-06  0.000003  0.366647"
      ]
     },
     "execution_count": 14,
     "metadata": {},
     "output_type": "execute_result"
    }
   ],
   "source": [
    "# The de_pval is not corrected on purpose - user can correct the P-values however they please.\n",
    "eqtl_results.head(10)"
   ]
  }
 ],
 "metadata": {
  "kernelspec": {
   "display_name": "packaging_test",
   "language": "python",
   "name": "packaging_test"
  },
  "language_info": {
   "codemirror_mode": {
    "name": "ipython",
    "version": 3
   },
   "file_extension": ".py",
   "mimetype": "text/x-python",
   "name": "python",
   "nbconvert_exporter": "python",
   "pygments_lexer": "ipython3",
   "version": "3.13.1"
  }
 },
 "nbformat": 4,
 "nbformat_minor": 5
}
